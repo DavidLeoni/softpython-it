{
 "cells": [
  {
   "cell_type": "markdown",
   "metadata": {},
   "source": [
    "# Mappe interattive"
   ]
  },
  {
   "cell_type": "markdown",
   "metadata": {},
   "source": [
    "## Introduzione\n",
    "\n",
    "Vediamo come controllare da Python delle mappe visualizzate in Jupyter con la libreria [ipyleaflet](https://ipyleaflet.readthedocs.io/) e [OpenStreetMap](https://www.openstreetmap.org), la mappa libera del mondo realizzata da volontari.\n",
    "\n",
    "<div class=\"alert alert-warning\">\n",
    "    \n",
    "**ATTENZIONE: Ciò che segue è solo una bozza MOLTO IN-PROGRESS !!!!!**\n",
    "    \n",
    "</div>\n",
    "\n",
    "### Prerequisiti\n",
    "\n",
    "Per proseguire è necessario prima aver letto il  [tutorial sulle interfacce utente](https://it.softpython.org/gui/gui-sol.html) in Jupyter (che parla degli ipywidgets)\n",
    "\n",
    "### Riferimenti\n",
    "\n",
    "* per una panoramica sul webmapping, la geolocalizzazione e OpenStreetMap, puoi vedere il tutorial [Integrazione](https://it.softpython.org/integration/integration-sol.html) dove si mappano gli agritur del Trentino. \n",
    "* per una rapida guida sull'HTML, vedere [tutorial CoderDojoTrento web 1 ](https://www.coderdojotrento.it/web1)\n",
    "\n",
    "\n"
   ]
  },
  {
   "cell_type": "markdown",
   "metadata": {},
   "source": [
    "### Installazione ipyleaflet\n",
    "\n",
    "**Anaconda**:\n",
    "\n",
    "Apri Anaconda Prompt (per istruzioni su come trovarlo o se non hai idea di cosa sia, prima di proseguire [leggi sezione interprete Python nell'introduzione](https://it.softpython.org/intro/intro-sol.html#L'interprete-Python)) ed esegui:\n",
    "\n",
    "`conda install -c conda-forge ipyleaflet`\n",
    "\n",
    "Installare `ipyleaflet` con `conda` abiliterà automaticamente l'estensione per te in Jupyter\n",
    "\n",
    "\n",
    "**Linux/Mac**:\n",
    "\n",
    "* installa ipywidgets (`--user` installa nella propria home): \n",
    "\n",
    "```bash\n",
    "python3 -m pip install --user  ipyleaflet\n",
    "```\n",
    "\n",
    "* abilita l'estensione così: \n",
    "\n",
    "```bash\n",
    "jupyter nbextension enable --py ipyleaflet\n",
    "```"
   ]
  },
  {
   "cell_type": "markdown",
   "metadata": {},
   "source": [
    "### Proviamo OpenStreetMap\n",
    "\n",
    "Per prima cosa prova a navigare OpenStreetMap:\n",
    "\n",
    "[https://www.openstreetmap.org/#map=12/46.0849/11.1461](https://www.openstreetmap.org/#map=12/46.0849/11.1461)\n",
    "\n",
    "Spostati con la mappa, cambia lo zoom e nota cosa appare nella barra in alto dell'indirizzo del browser: dopo il `#` troverete le coordinate (latitudine e longitudine) e livello di zoom separati da una `/`  :\n"
   ]
  },
  {
   "cell_type": "markdown",
   "metadata": {},
   "source": [
    "### Mettiamo un palloncino\n",
    "\n",
    "Possiamo visualizzare una mappa in Jupyter sfruttando le coordinate trovate in OpenStreetMap. Inoltre, possiamo inserire dei palloncini (detti _marker_, [vedi documentazione](https://ipyleaflet.readthedocs.io/en/latest/api_reference/marker.html)), associando ad essi una descrizione formattata in linguaggio HTML - per una breve guida sull'HTML, vedere il [tutorial CoderDojoTrento web 1 ](https://www.coderdojotrento.it/web1)\n",
    "\n",
    "Nota che nella descrizione possiamo anche aggiungere immagini. In questo caso l'immagine d'esempio ([immagini/disi-unitn-it-logo.jpeg](immagini/disi-unitn-it-logo.jpeg)) risiede nella sottocartella `immagini` di questo foglio, ma volendo si potrebbero anche linkare foto da un sito qualunque usando il loro indirizzo per esteso, per esempio potresti provare a mettere questo indirizzo del logo CC BY che sta sul sito di softpython: [https://it.softpython.org/_images/cc-by.png](https://it.softpython.org/_images/cc-by.png)\n",
    "\n"
   ]
  },
  {
   "cell_type": "code",
   "execution_count": 1,
   "metadata": {
    "scrolled": false
   },
   "outputs": [
    {
     "data": {
      "application/vnd.jupyter.widget-view+json": {
       "model_id": "800b9b964f0c46629d7d3045f3a48f8b",
       "version_major": 2,
       "version_minor": 0
      },
      "text/plain": [
       "VBox(children=(HTML(value='<h1>CLICCA SUI PALLONCINI</h1>'), Map(basemap={'url': 'https://{s}.tile.openstreetm…"
      ]
     },
     "metadata": {},
     "output_type": "display_data"
    }
   ],
   "source": [
    "from ipywidgets import HTML, Layout, VBox, Button, Label, Image\n",
    "\n",
    "from ipyleaflet import Map, Marker, Popup\n",
    "\n",
    "# definiamo il centro della mappa su Trento (latitudine, longitudine)\n",
    "centro_mappa = (46.0849,11.1461)\n",
    "\n",
    "# per il livello di zoom giusto, puoi usare OpenStreetMap\n",
    "mappa = Map(center=centro_mappa, zoom=12, close_popup_on_click=False)\n",
    "\n",
    "# adesso andiamo a creare dei widget da mettere nel popup dei palloncini\n",
    "\n",
    "# cominciamo con un bottone\n",
    "bottone = Button(description=\"Cliccami\")\n",
    "\n",
    "def bottone_cliccato(b):\n",
    "    b.description=\"Mi hai cliccato !\"\n",
    "    \n",
    "bottone.on_click(bottone_cliccato)\n",
    "\n",
    "# per mostrare del testo formattato che contenga anche immagini, si può usare il linguaggio HTML\n",
    "# per una breve guida sull'HTML, vedere il tutorial  https://www.coderdojotrento.it/web1\n",
    "\n",
    "# creiamo un widget HTML\n",
    "# i tre doppi apici \"\"\" indicano che iniziamo una cosiddetta multistringa, cioè una stringa su più righe\n",
    "html = HTML(\"\"\"\n",
    "Descrizione in <b>linguaggio HTML</b>,<br>\n",
    "<a target=\"_blank\" href=\"https://www.coderdojotrento.it/web1\">vedi tutorial</a>. <br>\n",
    "Questa è un immagine: <br/>\n",
    "<img src=\"immagini/disi-unitn-it-logo.jpeg\">\n",
    "\"\"\")\n",
    "\n",
    "# creaimo il pannello del popup come una VBox che contiene i due widget definiti precedentemente:\n",
    "\n",
    "pannello_popup = VBox([bottone, html])\n",
    "\n",
    "\n",
    "# il marcatore sarà un palloncino sul DISI, il Dipartimento di Informatica a Povo, Trento \n",
    "marcatore = Marker(location=(46.06700,11.14985))\n",
    "\n",
    "# associamo al marcatore un popup nella forma di un widget html\n",
    "marcatore.popup = pannello_popup\n",
    "\n",
    "# aggiungiamo il marcatore alla mappa\n",
    "mappa.add_layer(marcatore)\n",
    "\n",
    "# creiamo un widget che contenga titolo (in html) e la mappa\n",
    "webapp = VBox([HTML(\"<h1>CLICCA SUI PALLONCINI</h1>\"), mappa])\n",
    "\n",
    "# infine forziamo Jupyter a mostrare il tutto:\n",
    "display(webapp)"
   ]
  },
  {
   "cell_type": "raw",
   "id": "42e3a3bd",
   "metadata": {
    "format": "text/html"
   },
   "source": [
    "<a  class=\"jupman-sol jupman-sol-toggler\" \n",
    " onclick=\"jupman.toggleSolution(this);\" \n",
    " data-jupman-show=\"Mostra soluzione\" data-jupman-hide=\"Nascondi\">Mostra soluzione</a><div class=\"jupman-sol jupman-sol-code\" style=\"display:none\">  "
   ]
  },
  {
   "cell_type": "code",
   "execution_count": 1,
   "metadata": {},
   "outputs": [],
   "source": [
    "# SOLUZIONE"
   ]
  },
  {
   "cell_type": "raw",
   "id": "f80f45c5",
   "metadata": {
    "format": "text/html"
   },
   "source": [
    "</div>"
   ]
  },
  {
   "cell_type": "code",
   "execution_count": 1,
   "metadata": {},
   "outputs": [],
   "source": []
  },
  {
   "cell_type": "code",
   "execution_count": null,
   "metadata": {},
   "outputs": [],
   "source": []
  }
 ],
 "metadata": {
  "celltoolbar": "Edit Metadata",
  "kernelspec": {
   "display_name": "Python 3",
   "language": "python",
   "name": "python3"
  },
  "language_info": {
   "codemirror_mode": {
    "name": "ipython",
    "version": 3
   },
   "file_extension": ".py",
   "mimetype": "text/x-python",
   "name": "python",
   "nbconvert_exporter": "python",
   "pygments_lexer": "ipython3",
   "version": "3.5.2"
  },
  "toc": {
   "base_numbering": 1,
   "nav_menu": {},
   "number_sections": false,
   "sideBar": true,
   "skip_h1_title": false,
   "title_cell": "Table of Contents",
   "title_sidebar": "Contents",
   "toc_cell": false,
   "toc_position": {},
   "toc_section_display": true,
   "toc_window_display": false
  }
 },
 "nbformat": 4,
 "nbformat_minor": 2
}

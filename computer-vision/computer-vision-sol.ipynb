{
 "cells": [
  {
   "cell_type": "markdown",
   "metadata": {
    "colab_type": "text",
    "id": "2T1wWDPa5bO_"
   },
   "source": [
    "# Computer vision\n",
    "\n",
    "## [Scarica zip esercizi](../_static/generated/computer-vision.zip)\n",
    "\n",
    "[Naviga file online](https://github.com/DavidLeoni/softpython-it/tree/master/computer-vision)\n",
    "\n",
    "\n"
   ]
  },
  {
   "cell_type": "markdown",
   "metadata": {},
   "source": [
    "## Introduzione\n",
    "\n",
    "\n",
    "<div class=\"alert alert-warning\">\n",
    "    \n",
    "**ATTENZIONE: Ciò che segue è solo una bozza MOLTO IN-PROGRESS !!!!!**\n",
    "    \n",
    "</div>\n",
    "\n",
    "\n",
    "### Installazione\n",
    "\n",
    "Se hai con Anaconda:\n",
    "\n",
    "- apri Anaconda Navigator\n",
    "- seleziona tab `Environments` sulla sinistra \n",
    "- seleziona l'ambiente (se non hai idea di cosa scegliere, seleziona `base (root)`)\n",
    "- sulla destra, seleziona `Not installed`\n",
    "- cerca `opencv` e installalo\n",
    "\n",
    "Se hai Linux / Ubuntu: \n",
    "\n",
    "```bash\n",
    "sudo apt update\n",
    "sudo apt install python3-opencv\n",
    "```\n",
    "\n",
    "\n",
    "### Riferimenti\n",
    "\n",
    "Mettiamo qua una lista di riferimenti per lavorare con Python e le immagini:\n",
    "\n",
    "- [PyImageSearch](https://www.pyimagesearch.com/)\n",
    "- [Python Imaging Library Handbook](http://effbot.org/imagingbook/pil-index.htm)\n",
    "- [Hands on Image Processing](https://www.researchgate.net/profile/Sandipan_Dey/publication/329610370_Hands-on_Image_Processing_in_Python/links/5c120f09299bf139c754a03c/Hands-on-Image-Processing-in-Python.pdf)\n"
   ]
  },
  {
   "cell_type": "markdown",
   "metadata": {},
   "source": [
    "\n",
    "### Che fare\n",
    "\n",
    "\n",
    "- scompatta lo zip in una cartella, dovresti ottenere qualcosa del genere: \n",
    "\n",
    "```\n",
    "computer-vision\n",
    "    computer-vision.ipynb     \n",
    "    computer-vision-sol.ipynb\n",
    "    jupman.py\n",
    "```\n",
    "\n",
    "<div class=\"alert alert-warning\">\n",
    "\n",
    "**ATTENZIONE**: Per essere visualizzato correttamente, il file del notebook DEVE essere nella cartella szippata.\n",
    "</div>\n",
    "\n",
    "- apri il Jupyter Notebook da quella cartella. Due cose dovrebbero aprirsi, prima una console e poi un browser. Il browser dovrebbe mostrare una lista di file: naviga la lista e apri il notebook `computer-vision.ipynb`\n",
    "- Prosegui leggendo il file degli esercizi, ogni tanto al suo interno troverai delle scritte **ESERCIZIO**, che ti chiederanno di scrivere dei comandi Python nelle celle successive. \n",
    "\n",
    "Scorciatoie da tastiera:\n",
    "\n",
    "* Per eseguire il codice Python dentro una cella di Jupyter, premi `Control+Invio`\n",
    "* Per eseguire il codice Python dentro una cella di Jupyter E selezionare la cella seguente, premi `Shift+Invio`\n",
    "* Per eseguire il codice Python dentro una cella di Jupyter E creare una nuova cella subito dopo, premi `Alt+Invio`\n",
    "* Se per caso il Notebook sembra inchiodato, prova a selezionare `Kernel -> Restart`\n",
    "\n",
    "\n"
   ]
  },
  {
   "cell_type": "markdown",
   "metadata": {
    "colab_type": "text",
    "id": "fC_te77v5bPE"
   },
   "source": [
    "## 1. Anonimizzazione facce"
   ]
  },
  {
   "cell_type": "markdown",
   "metadata": {},
   "source": [
    "Proponiamo un semplice programmino per anonimizzare volti.\n",
    "\n",
    "Facendo partire la cella seguente, dovrebbe caricare una foto, mostrare i rettangoli sulle facce e anonimizzarla, salvandola in `'results/simple_output.png'`. Non è detto che trovi tutti i volti, potreste dover aggiustare dei parametri. Alcune foto di test sono fornite nella cartella `images`, di quelle nei campi da calcio a seconda della foto i volti vengono riconosciuti oppure no. "
   ]
  },
  {
   "cell_type": "code",
   "execution_count": 1,
   "metadata": {},
   "outputs": [
    {
     "name": "stdout",
     "output_type": "stream",
     "text": [
      "facce trovate:  3\n",
      "immagine anonimizzata salvata in:   results/simple_output.png\n"
     ]
    }
   ],
   "source": [
    "# A simple algorithm for face detection which also allows the user to automatically hide the detected faces. Moreover, in the case the detection missed some face, those can be manually selected and obscured.\n",
    "\n",
    "# At the moment the implemented hiding methods are four:\n",
    "#   - *Blur*\n",
    "#   - *Pixel Shuffle*\n",
    "#   - *Image Swap*\n",
    "#   - *Negative*\n",
    "\n",
    "\n",
    "\n",
    "import numpy as np\n",
    "import cv2\n",
    "\n",
    "# fonte:  https://en.wikipedia.org/wiki/File:Amateur_Football_in_Kilkenny-Ireland.jpg\n",
    "#filename = 'images/football/Amateur_Football_in_Kilkenny-Ireland.jpg'\n",
    "\n",
    "# fonte: https://commons.wikimedia.org/wiki/File:Ronaldo_-_Manchester_United_vs_Chelsea.jpg\n",
    "#filename = 'images/football/800px-Ronaldo_-_Manchester_United_vs_Chelsea.jpg'\n",
    "\n",
    "# fonte: https://commons.wikimedia.org/wiki/File:6_a_side_football_-_5_a_side_football_-_7_a_side_football_-_Ballerz_league.jpg\n",
    "#filename = 'images/football/6_a_side_football_-_5_a_side_football_-_7_a_side_football_-_Ballerz_league.jpg'\n",
    "# fonte: https://commons.wikimedia.org/wiki/File:2018_IBSA_Blind_Football_Madrid_Argentina.JPG\n",
    "filename = 'images/football/800px-2018_IBSA_Blind_Football_Madrid_Argentina.jpeg'\n",
    "\n",
    "#filename = \"images/square_faces.jpg\"\n",
    "grrr = \"images/grrr_reaction.png\"\n",
    "\n",
    "# Loading image\n",
    "img_raw = cv2.imread(filename)\n",
    "img_raw_copy = cv2.imread(filename)\n",
    "grrr_image = cv2.imread(grrr)\n",
    "# print(img_raw[1:10,1:10])\n",
    "\n",
    "# Converting image to grey-scale\n",
    "img_raw_grey = cv2.cvtColor(img_raw, cv2.COLOR_BGR2GRAY)\n",
    "# Create and load the CascadeClassifier for face detection\n",
    "haar_cascade_face = cv2.CascadeClassifier()\n",
    "loaded = haar_cascade_face.load('resources/haarcascade_frontalface_default.xml')\n",
    "\n",
    "'''\n",
    "Returns a rectangle around the face.\n",
    "\n",
    "@param scale_factor: compensate the distance of the face from the camera\n",
    "@param minNeighbors: number of neighbors for a rectangle to be considered as a face\n",
    "'''\n",
    "#  scaleFactor: 1 - 1.5 2.0 massimo\n",
    "#  minNeighbors = tra 1 e 6  NON è il numero di facce\n",
    "faces_rects = haar_cascade_face.detectMultiScale(img_raw_grey, scaleFactor = 1.2, minNeighbors = 3);\n",
    "print('facce trovate: ', len(faces_rects))\n",
    "for (x,y,w,h) in faces_rects:\n",
    "    # print(x, y, w,h)\n",
    "    cv2.rectangle(img_raw_copy, (x, y), (x+w, y+h), (0, 255, 0), 2)\n",
    "    # UNCOMMENT THE DESIRED HIDING METHOD\n",
    "    # 1] BLUR\n",
    "    img_raw[y:y+h, x:x+w] = cv2.blur(img_raw[y:y+h, x:x+w], (40, 40))\n",
    "    # 2] SHUFFLING PIXELS\n",
    "    # np.random.shuffle(img_raw[y:y+h, x:x+w].flat)\n",
    "    # 3] NEGATIVE\n",
    "    #img_raw[y:y+h, x:x+w] = cv2.bitwise_not(img_raw[y:y+h, x:x+w])\n",
    "    # 4] EMOJI\n",
    "    #grrr_resize = cv2.resize(grrr_image, (w, h)) \n",
    "    #img_raw[y:y+h, x:x+w] = grrr_resize\n",
    "    pass\n",
    "cv2.namedWindow(\"img_copy\")\n",
    "cv2.imshow(\"img_copy\", img_raw_copy)\n",
    "# togli i commenti per permettere all'utente di selezionare manualmente un riquadro attorno al volto\n",
    "#fromCenter = False\n",
    "#roi = cv2.selectROI(\"\", img_raw, fromCenter)\n",
    "#img_raw[roi[1]:roi[1]+roi[3], roi[0]:roi[0]+roi[2]] = cv2.blur(img_raw[roi[1]:roi[1]+roi[3], roi[0]:roi[0]+roi[2]], (40, 40))\n",
    "\n",
    "out_filename = 'results/simple_output.png'\n",
    "cv2.imwrite('results/simple_output.png', img_raw)\n",
    "print(\"immagine anonimizzata salvata in:   \" + out_filename)\n",
    "\n",
    "# mostra l'immagine in Jupyter: \n",
    "# ATTENZIONE: a volte blocca l'esecuzione della cella e bisogna far ripartire il kernel Jupyter.\n",
    "#cv2.namedWindow(\"img\")\n",
    "#cv2.imshow(\"img\", img_raw)\n"
   ]
  },
  {
   "cell_type": "raw",
   "id": "c6526f5b",
   "metadata": {
    "format": "text/html"
   },
   "source": [
    "<a  class=\"jupman-sol jupman-sol-toggler\" \n",
    " onclick=\"jupman.toggleSolution(this);\" \n",
    " data-jupman-show=\"Mostra soluzione\" data-jupman-hide=\"Nascondi\">Mostra soluzione</a><div class=\"jupman-sol jupman-sol-code\" style=\"display:none\">  "
   ]
  },
  {
   "cell_type": "code",
   "execution_count": 2,
   "metadata": {},
   "outputs": [],
   "source": [
    "# SOLUZIONE"
   ]
  },
  {
   "cell_type": "raw",
   "id": "bda49525",
   "metadata": {
    "format": "text/html"
   },
   "source": [
    "</div>"
   ]
  },
  {
   "cell_type": "code",
   "execution_count": 2,
   "metadata": {},
   "outputs": [],
   "source": []
  },
  {
   "cell_type": "code",
   "execution_count": null,
   "metadata": {},
   "outputs": [],
   "source": []
  }
 ],
 "metadata": {
  "kernelspec": {
   "display_name": "Python 3",
   "language": "python",
   "name": "python3"
  },
  "language_info": {
   "codemirror_mode": {
    "name": "ipython",
    "version": 3
   },
   "file_extension": ".py",
   "mimetype": "text/x-python",
   "name": "python",
   "nbconvert_exporter": "python",
   "pygments_lexer": "ipython3",
   "version": "3.7.3"
  },
  "toc": {
   "base_numbering": 1,
   "nav_menu": {},
   "number_sections": false,
   "sideBar": true,
   "skip_h1_title": false,
   "title_cell": "Table of Contents",
   "title_sidebar": "Contents",
   "toc_cell": false,
   "toc_position": {},
   "toc_section_display": true,
   "toc_window_display": false
  }
 },
 "nbformat": 4,
 "nbformat_minor": 2
}

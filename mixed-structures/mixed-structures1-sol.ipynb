{
 "cells": [
  {
   "cell_type": "markdown",
   "metadata": {},
   "source": [
    "# Strutture composte 1\n",
    "\n",
    "## [Scarica zip esercizi](../_static/generated/mixed-structures.zip)\n",
    "\n",
    "[Naviga file online](https://github.com/DavidLeoni/softpython-it/tree/master/mixed-structures)\n",
    "\n",
    "\n",
    "In questo foglio vedremo come gestire struttura dati più complesse come una liste di dizionari e dizionari di liste, esaminando al contempo il significato di copia in superficie e copia in profondità."
   ]
  },
  {
   "cell_type": "markdown",
   "metadata": {},
   "source": [
    "\n"
   ]
  },
  {
   "cell_type": "markdown",
   "metadata": {},
   "source": [
    "## Esercizio - la holding del lusso\n",
    "\n",
    "\n",
    "<div class=\"alert alert-warning\">\n",
    "\n",
    "**ATTENZIONE**\n",
    "\n",
    "Gli esercizi che segueno contengono dei test con gli _assert_. Per capire come svolgerli, leggi prima [Gestione errori e testing](https://it.softpython.org/functions/fun2-errors-and-testing-sol.html) \n",
    "\n",
    "</div>\n",
    "\n",
    "Una holding del lusso che raggruppa diverse società dispone di un database di managers in forma di lista di dizionari. Ogni manager è rappresentato da un dizionario:\n",
    "\n",
    "```python\n",
    "{\n",
    "    \"nome\":\"Alessandro\",\n",
    "    \"cognome\": \"Borgoloso\",\n",
    "    \"età\": 34,\n",
    "    \"azienda\": {\n",
    "                   \"nome\": \"Aringhe Candite Spa\",\n",
    "                   \"settore\":\"Alimentari\"\n",
    "               }\n",
    "},\n",
    "```\n",
    "\n",
    "\n",
    "Il dizionario ha diversi attributi semplici quali `nome`, `cognome`, `età`. L'attributo `azienda` è più complesso, perchè è rappresentato come un altro dizionario: `\n",
    "\n",
    "```python\n",
    "\"azienda\": {\n",
    "        \"nome\": \"Aringhe Candite Spa\",\n",
    "        \"settore\":\"Alimentari\"\n",
    "    }\n",
    "```"
   ]
  },
  {
   "cell_type": "code",
   "execution_count": 1,
   "metadata": {},
   "outputs": [],
   "source": [
    "managers_db = [\n",
    "  {\n",
    "    \"nome\":\"Alessandro\",\n",
    "    \"cognome\": \"Borgoloso\",\n",
    "    \"età\": 34,\n",
    "    \"azienda\": {\n",
    "                   \"nome\": \"Aringhe Candite Spa\",\n",
    "                   \"settore\":\"Alimentari\"\n",
    "               }\n",
    "  },    \n",
    "  { \n",
    "    \"nome\":\"Matilda\",\n",
    "    \"cognome\": \"Delle Sòle\",\n",
    "    \"età\": 25,\n",
    "    \"azienda\": {\n",
    "                    \"nome\": \"Calzature Pitonate Srl\",\n",
    "                    \"settore\":\"Abbigliamento\"\n",
    "               }\n",
    "  },        \n",
    "  {\n",
    "    \"nome\":\"Alfred\",\n",
    "    \"cognome\": \"Pennyworth\",\n",
    "    \"età\": 20,\n",
    "    \"azienda\": {\n",
    "                    \"nome\": \"Batworks\",\n",
    "                    \"settore\":\"Abbigliamento\"\n",
    "               }\n",
    "  },\n",
    "  { \n",
    "    \"nome\":\"Arianna\",\n",
    "    \"cognome\": \"Schei\",\n",
    "    \"età\": 37,\n",
    "    \"azienda\": {\n",
    "                    \"nome\": \"Diamantoni Unlimited\",\n",
    "                    \"settore\":\"Pietre preziose\"\n",
    "               }\n",
    "  },    \n",
    "  {\n",
    "    \"nome\":\"Antonione\",\n",
    "    \"cognome\": \"Cannavacci\",\n",
    "    \"età\": 25,\n",
    "    \"azienda\": {\n",
    "                    \"nome\": \"Aringhe Candite Spa\",\n",
    "                    \"settore\":\"Alimentari\"\n",
    "               }\n",
    "  },    \n",
    "]\n"
   ]
  },
  {
   "cell_type": "markdown",
   "metadata": {},
   "source": [
    "### Esercizio - estrai_manager\n",
    "\n",
    "✪✪ RITORNA i nomi dei manager in una lista"
   ]
  },
  {
   "cell_type": "raw",
   "id": "f83a2a30",
   "metadata": {
    "format": "text/html"
   },
   "source": [
    "<a  class=\"jupman-sol jupman-sol-toggler\" \n",
    " onclick=\"jupman.toggleSolution(this);\" \n",
    " data-jupman-show=\"Mostra soluzione\" data-jupman-hide=\"Nascondi\">Mostra soluzione</a><div class=\"jupman-sol jupman-sol-code\" style=\"display:none\">  "
   ]
  },
  {
   "cell_type": "code",
   "execution_count": 2,
   "metadata": {},
   "outputs": [],
   "source": [
    "\n",
    "def estrai_manager(lista):\n",
    "    \n",
    "    ret = []\n",
    "    for diz in lista:\n",
    "        ret.append(diz[\"nome\"])\n",
    "    return ret\n",
    "    \n",
    "\n",
    "assert estrai_manager([]) == []\n",
    "\n",
    "# se non trova db_impiegati, ricordati di eseguire la cella sopra che lo definisce \n",
    "assert estrai_manager(managers_db) == ['Alessandro', 'Matilda', 'Alfred', 'Arianna', 'Antonione']\n"
   ]
  },
  {
   "cell_type": "raw",
   "id": "a802d8e7",
   "metadata": {
    "format": "text/html"
   },
   "source": [
    "</div>"
   ]
  },
  {
   "cell_type": "code",
   "execution_count": 2,
   "metadata": {},
   "outputs": [],
   "source": [
    "\n",
    "def estrai_manager(lista):\n",
    "    raise Exception('TODO IMPLEMENT ME !')\n",
    "\n",
    "assert estrai_manager([]) == []\n",
    "\n",
    "# se non trova db_impiegati, ricordati di eseguire la cella sopra che lo definisce \n",
    "assert estrai_manager(managers_db) == ['Alessandro', 'Matilda', 'Alfred', 'Arianna', 'Antonione']\n"
   ]
  },
  {
   "cell_type": "markdown",
   "metadata": {},
   "source": [
    "### Esercizio - estrai_aziende\n",
    "\n",
    "✪✪ RITORNA i nomi di azienda in una lista (i duplicati sono ammessi)"
   ]
  },
  {
   "cell_type": "raw",
   "id": "874b7728",
   "metadata": {
    "format": "text/html"
   },
   "source": [
    "<a  class=\"jupman-sol jupman-sol-toggler\" \n",
    " onclick=\"jupman.toggleSolution(this);\" \n",
    " data-jupman-show=\"Mostra soluzione\" data-jupman-hide=\"Nascondi\">Mostra soluzione</a><div class=\"jupman-sol jupman-sol-code\" style=\"display:none\">  "
   ]
  },
  {
   "cell_type": "code",
   "execution_count": 3,
   "metadata": {},
   "outputs": [],
   "source": [
    "def estrai_aziende(lista):\n",
    "    \"\"\"RITORNA i nomi di azienda in una lista (i duplicati sono ammessi)\n",
    "    \"\"\"\n",
    "    \n",
    "    ret = []\n",
    "    for diz in lista:\n",
    "        ret.append(diz[\"azienda\"][\"nome\"])\n",
    "       \n",
    "    return ret\n",
    "    \n",
    "    \n",
    "    \n",
    "assert estrai_aziende([]) == []\n",
    "# se non trova db_impiegati, ricordati di eseguire la cella sopra che lo definisce \n",
    "assert estrai_aziende(managers_db) == [\"Aringhe Candite Spa\",\"Calzature Pitonate Srl\",\"Batworks\",\"Diamantoni Unlimited\",\"Aringhe Candite Spa\"]"
   ]
  },
  {
   "cell_type": "raw",
   "id": "cab613b8",
   "metadata": {
    "format": "text/html"
   },
   "source": [
    "</div>"
   ]
  },
  {
   "cell_type": "code",
   "execution_count": 3,
   "metadata": {},
   "outputs": [],
   "source": [
    "def estrai_aziende(lista):\n",
    "    \"\"\"RITORNA i nomi di azienda in una lista (i duplicati sono ammessi)\n",
    "    \"\"\"\n",
    "    raise Exception('TODO IMPLEMENT ME !')\n",
    "    \n",
    "    \n",
    "assert estrai_aziende([]) == []\n",
    "# se non trova db_impiegati, ricordati di eseguire la cella sopra che lo definisce \n",
    "assert estrai_aziende(managers_db) == [\"Aringhe Candite Spa\",\"Calzature Pitonate Srl\",\"Batworks\",\"Diamantoni Unlimited\",\"Aringhe Candite Spa\"]"
   ]
  },
  {
   "cell_type": "markdown",
   "metadata": {},
   "source": [
    "### Esercizio - eta_media\n",
    "\n",
    "✪✪ RITORNA l'età media dei manager di azienda"
   ]
  },
  {
   "cell_type": "raw",
   "id": "372fc334",
   "metadata": {
    "format": "text/html"
   },
   "source": [
    "<a  class=\"jupman-sol jupman-sol-toggler\" \n",
    " onclick=\"jupman.toggleSolution(this);\" \n",
    " data-jupman-show=\"Mostra soluzione\" data-jupman-hide=\"Nascondi\">Mostra soluzione</a><div class=\"jupman-sol jupman-sol-code\" style=\"display:none\">  "
   ]
  },
  {
   "cell_type": "code",
   "execution_count": 4,
   "metadata": {},
   "outputs": [],
   "source": [
    "\n",
    "def eta_media(lista):\n",
    "    \n",
    "    somma = 0\n",
    "    for diz in lista:\n",
    "        somma += diz[\"età\"]\n",
    "    \n",
    "    return somma / len(lista)\n",
    "    \n",
    "  \n",
    "  \n",
    "# visto che la funzione ritorna float non si può comparare per numeri esatti ma per numeri vicini \n",
    "# con funzione math.isclose  \n",
    "import math   \n",
    "assert math.isclose(eta_media(managers_db), (34 + 25 + 20 + 37 + 25) / 5)"
   ]
  },
  {
   "cell_type": "raw",
   "id": "aa0b5748",
   "metadata": {
    "format": "text/html"
   },
   "source": [
    "</div>"
   ]
  },
  {
   "cell_type": "code",
   "execution_count": 4,
   "metadata": {},
   "outputs": [],
   "source": [
    "\n",
    "def eta_media(lista):\n",
    "    raise Exception('TODO IMPLEMENT ME !')\n",
    "  \n",
    "  \n",
    "# visto che la funzione ritorna float non si può comparare per numeri esatti ma per numeri vicini \n",
    "# con funzione math.isclose  \n",
    "import math   \n",
    "assert math.isclose(eta_media(managers_db), (34 + 25 + 20 + 37 + 25) / 5)"
   ]
  },
  {
   "cell_type": "markdown",
   "metadata": {},
   "source": [
    "### Esercizio - settori\n",
    "\n",
    "✪✪ RITORNA i settori di azienda in una lista, SENZA duplicati e ordinati alfabeticamente."
   ]
  },
  {
   "cell_type": "raw",
   "id": "7520d72d",
   "metadata": {
    "format": "text/html"
   },
   "source": [
    "<a  class=\"jupman-sol jupman-sol-toggler\" \n",
    " onclick=\"jupman.toggleSolution(this);\" \n",
    " data-jupman-show=\"Mostra soluzione\" data-jupman-hide=\"Nascondi\">Mostra soluzione</a><div class=\"jupman-sol jupman-sol-code\" style=\"display:none\">  "
   ]
  },
  {
   "cell_type": "code",
   "execution_count": 5,
   "metadata": {},
   "outputs": [],
   "source": [
    "def settori(lista):\n",
    "    \n",
    "    ret = []\n",
    "    for diz in lista:\n",
    "        settore = diz[\"azienda\"][\"settore\"]\n",
    "        if settore not in ret:\n",
    "            ret.append(settore)\n",
    "\n",
    "    ret.sort()\n",
    "    return ret\n",
    "    \n",
    "\n",
    "assert settori([]) == []\n",
    "assert settori(managers_db) == [\"Abbigliamento\", \"Alimentari\",\"Pietre preziose\"]"
   ]
  },
  {
   "cell_type": "raw",
   "id": "3adf7b9a",
   "metadata": {
    "format": "text/html"
   },
   "source": [
    "</div>"
   ]
  },
  {
   "cell_type": "code",
   "execution_count": 5,
   "metadata": {},
   "outputs": [],
   "source": [
    "def settori(lista):\n",
    "    raise Exception('TODO IMPLEMENT ME !')\n",
    "\n",
    "assert settori([]) == []\n",
    "assert settori(managers_db) == [\"Abbigliamento\", \"Alimentari\",\"Pietre preziose\"]"
   ]
  },
  {
   "cell_type": "markdown",
   "metadata": {},
   "source": [
    "## Altri esercizi"
   ]
  },
  {
   "cell_type": "markdown",
   "metadata": {},
   "source": [
    "### Esercizio - medie\n",
    "\n",
    "✪✪ Dato un dizionario strutturato ad albero riguardante i voti di uno studente in classe V e VI, \n",
    "RESTITUIRE un array contente la media di ogni materia\n",
    "\n",
    "Esempio: \n",
    "\n",
    "```python\n",
    ">>> medie([\n",
    "  {'id' : 1, 'subject' : 'math',    'V' : 70, 'VI' : 82},\n",
    "  {'id' : 1, 'subject' : 'italian', 'V' : 73, 'VI' : 74},\n",
    "  {'id' : 1, 'subject' : 'german',  'V' : 75, 'VI' : 86}\n",
    "])\n",
    "```\n",
    "\n",
    "ritorna \n",
    "\n",
    "```python\n",
    "[ (70+82)/2 , (73+74)/2, (75+86)/2 ]\n",
    "```\n",
    "\n",
    "ovvero\n",
    "\n",
    "```python\n",
    "[ 76.0 , 73.5, 80.5 ]\n",
    "```"
   ]
  },
  {
   "cell_type": "raw",
   "id": "b8c7d17e",
   "metadata": {
    "format": "text/html"
   },
   "source": [
    "<a  class=\"jupman-sol jupman-sol-toggler\" \n",
    " onclick=\"jupman.toggleSolution(this);\" \n",
    " data-jupman-show=\"Mostra soluzione\" data-jupman-hide=\"Nascondi\">Mostra soluzione</a><div class=\"jupman-sol jupman-sol-code\" style=\"display:none\">  "
   ]
  },
  {
   "cell_type": "code",
   "execution_count": 6,
   "metadata": {},
   "outputs": [],
   "source": [
    "def medie(lista):\n",
    "    \n",
    "    ret = [0.0, 0.0, 0.0]\n",
    "    \n",
    "    for i in range(len(lista)):\n",
    "        ret[i] = (lista[i]['V'] + lista[i]['VI']) / 2\n",
    "   \n",
    "    return ret\n",
    "    \n",
    "\n",
    "# INIZIO TEST - NON TOCCARE !\n",
    "import math\n",
    "\n",
    "'''\n",
    "Verifica che i numeri float in lista1 siano simili a quelli di lista2 \n",
    "'''  \n",
    "def is_list_close(lista1, lista2):\n",
    "    if len(lista1) != len(lista2):\n",
    "        return False\n",
    "    \n",
    "    for i in range(len(lista1)):\n",
    "        if not math.isclose(lista1[i], lista2[i]):\n",
    "            return False\n",
    "  \n",
    "    return True\n",
    "\n",
    "assert is_list_close(medie([\n",
    "                            {'id' : 1, 'subject' : 'math',    'V' : 70, 'VI' : 82},\n",
    "                            {'id' : 1, 'subject' : 'italian', 'V' : 73, 'VI' : 74},\n",
    "                            {'id' : 1, 'subject' : 'german',  'V' : 75, 'VI' : 86}\n",
    "                          ]),         \n",
    "                     [ 76.0 , 73.5, 80.5 ])\n",
    "# FINE TEST"
   ]
  },
  {
   "cell_type": "raw",
   "id": "5d0d4483",
   "metadata": {
    "format": "text/html"
   },
   "source": [
    "</div>"
   ]
  },
  {
   "cell_type": "code",
   "execution_count": 6,
   "metadata": {},
   "outputs": [],
   "source": [
    "def medie(lista):\n",
    "    raise Exception('TODO IMPLEMENT ME !')\n",
    "\n",
    "# INIZIO TEST - NON TOCCARE !\n",
    "import math\n",
    "\n",
    "'''\n",
    "Verifica che i numeri float in lista1 siano simili a quelli di lista2 \n",
    "'''  \n",
    "def is_list_close(lista1, lista2):\n",
    "    if len(lista1) != len(lista2):\n",
    "        return False\n",
    "    \n",
    "    for i in range(len(lista1)):\n",
    "        if not math.isclose(lista1[i], lista2[i]):\n",
    "            return False\n",
    "  \n",
    "    return True\n",
    "\n",
    "assert is_list_close(medie([\n",
    "                            {'id' : 1, 'subject' : 'math',    'V' : 70, 'VI' : 82},\n",
    "                            {'id' : 1, 'subject' : 'italian', 'V' : 73, 'VI' : 74},\n",
    "                            {'id' : 1, 'subject' : 'german',  'V' : 75, 'VI' : 86}\n",
    "                          ]),         \n",
    "                     [ 76.0 , 73.5, 80.5 ])\n",
    "# FINE TEST"
   ]
  },
  {
   "cell_type": "markdown",
   "metadata": {},
   "source": [
    "### Esercizio - ha_pref\n",
    "\n",
    "✪✪ Uno grande magazzino ha un database dei clienti modellato come un dizionario che associa ai nomi dei clienti le loro preferenze riguardo le categorie di articoli che comprano di solito:\n",
    "\n",
    "```python\n",
    "    {\n",
    "        'aldo':     ['cinema', 'musica', 'sport'],\n",
    "        'giovanni': ['musica'],\n",
    "        'giacomo':  ['cinema', 'videogiochi']\n",
    "    }\n",
    "```\n",
    "\n",
    "Dato il dizionario, il nome di un cliente e una categoria, scrivere una funzione `ha_pref` che RITORNA `True` se quel cliente ha la preferenza indicata, `False` altrimenti.\n",
    "\n",
    "Esempio: \n",
    "\n",
    "```python\n",
    "ha_pref({\n",
    "            'aldo':     ['cinema', 'musica', 'sport'],\n",
    "            'giovanni': ['musica'],\n",
    "            'giacomo':  ['cinema', 'videogiochi']\n",
    "    \n",
    "        }, 'aldo', 'musica')\n",
    "```\n",
    "\n",
    "deve ritornare `True` perchè ad `aldo` piace la musica, invece \n",
    "\n",
    "```python\n",
    "ha_pref({'aldo':     ['cinema', 'musica', 'sport'],\n",
    "         'giovanni': ['musica'],\n",
    "         'giacomo':  ['cinema', 'videogiochi']\n",
    "    \n",
    "        }, 'giacomo', 'sport')\n",
    "```\n",
    "\n",
    "Deve ritornare `False` perchè a `giacomo non piace lo sport"
   ]
  },
  {
   "cell_type": "raw",
   "id": "bc4f7e06",
   "metadata": {
    "format": "text/html"
   },
   "source": [
    "<a  class=\"jupman-sol jupman-sol-toggler\" \n",
    " onclick=\"jupman.toggleSolution(this);\" \n",
    " data-jupman-show=\"Mostra soluzione\" data-jupman-hide=\"Nascondi\">Mostra soluzione</a><div class=\"jupman-sol jupman-sol-code\" style=\"display:none\">  "
   ]
  },
  {
   "cell_type": "code",
   "execution_count": 7,
   "metadata": {},
   "outputs": [],
   "source": [
    "\n",
    "def ha_pref(diz, nome, pref):\n",
    "    \n",
    "    if nome in diz:\n",
    "        return pref in diz[nome]\n",
    "    else:\n",
    "        return False\n",
    "    \n",
    "\n",
    "assert ha_pref({}, 'a', 'x') == False\n",
    "assert ha_pref({'a':[]}, 'a',  'x') == False\n",
    "assert ha_pref({'a':['x']}, 'a',  'x') == True\n",
    "assert ha_pref({'a':['x']}, 'b',  'x') == False\n",
    "assert ha_pref({'a':['x','y']}, 'a',  'y') == True\n",
    "assert ha_pref({'a':['x','y'],\n",
    "                   'b':['y','x','z']}, 'b',  'y') == True\n",
    "assert ha_pref({'aldo':     ['cinema', 'musica', 'sport'],\n",
    "                'giovanni': ['musica'],\n",
    "                'giacomo':  ['cinema', 'videogiochi']\n",
    "               }, 'aldo', 'musica') == True\n",
    "assert ha_pref({'aldo':     ['cinema', 'musica', 'sport'],\n",
    "                'giovanni': ['musica'],\n",
    "                'giacomo':  ['cinema', 'videogiochi']\n",
    "               }, 'giacomo', 'sport') == False\n"
   ]
  },
  {
   "cell_type": "raw",
   "id": "10454152",
   "metadata": {
    "format": "text/html"
   },
   "source": [
    "</div>"
   ]
  },
  {
   "cell_type": "code",
   "execution_count": 7,
   "metadata": {},
   "outputs": [],
   "source": [
    "\n",
    "def ha_pref(diz, nome, pref):\n",
    "    raise Exception('TODO IMPLEMENT ME !')\n",
    "\n",
    "assert ha_pref({}, 'a', 'x') == False\n",
    "assert ha_pref({'a':[]}, 'a',  'x') == False\n",
    "assert ha_pref({'a':['x']}, 'a',  'x') == True\n",
    "assert ha_pref({'a':['x']}, 'b',  'x') == False\n",
    "assert ha_pref({'a':['x','y']}, 'a',  'y') == True\n",
    "assert ha_pref({'a':['x','y'],\n",
    "                   'b':['y','x','z']}, 'b',  'y') == True\n",
    "assert ha_pref({'aldo':     ['cinema', 'musica', 'sport'],\n",
    "                'giovanni': ['musica'],\n",
    "                'giacomo':  ['cinema', 'videogiochi']\n",
    "               }, 'aldo', 'musica') == True\n",
    "assert ha_pref({'aldo':     ['cinema', 'musica', 'sport'],\n",
    "                'giovanni': ['musica'],\n",
    "                'giacomo':  ['cinema', 'videogiochi']\n",
    "               }, 'giacomo', 'sport') == False\n"
   ]
  },
  {
   "cell_type": "markdown",
   "metadata": {},
   "source": [
    "### Esercizio - onomat\n",
    "\n",
    "✪✪ Proviamo ad aggiungere delle espressioni onomatopeiche a delle frasi\n",
    "\n",
    "INPUT: \n",
    "  - frase da arricchire\n",
    "  - Il sentimento da usare, che è codificato come un valore numerico.\n",
    "  - un dizionario di sentimenti, in cui si associa al codice numerico \n",
    "di ogni sentimento un dizionario contenente un espressione onomatopeica tipica per quel sentimento,\n",
    "e la posizione in cui deve figurare all'interno di una frase. Le posizioni sono indicate come 'i'\n",
    "per inizio e 'f' per fine.\n",
    "\n",
    "\n",
    "OUTPUT\n",
    "\n",
    "- La frase arricchita con l'espressione onomatopeica scelta in base al sentimento. L'espressione\n",
    "  va aggiunta sempre prima o dopo la frase, e sempre separata da uno spazio. \n",
    "\n",
    "\n",
    "\n",
    "Per esempio\n",
    "\n",
    "```python\n",
    "sentimenti = {\n",
    "                1:  {\n",
    "                        \"espressione\": \"Gulp!\",\n",
    "                        \"posizione\": \"i\"\n",
    "                    }\n",
    "                2:  {\n",
    "                        \"espressione\": \"Sgaragulp !\",\n",
    "                        \"posizione\": \"i\"\n",
    "                    }\n",
    "                3:  {\n",
    "                        \"espressione\": \"Uff..\",\n",
    "                        \"posizione\": \"f\"\n",
    "                    }\n",
    "}\n",
    "\n",
    "\n",
    "onomat(\"Ma quelli sono i bassotti!\", 1, sentimenti) \n",
    "```\n",
    "\n",
    "Deve tornare\n",
    "\n",
    "```python\n",
    "\"Gulp! Ma quelli sono i bassotti!\"\n",
    "```\n",
    "\n",
    "Mentre \n",
    "```python\n",
    "onomat(\"Non voglio alzarmi dall'amaca.\", 3, sentimenti) \n",
    "```\n",
    "Deve tornare \n",
    "\n",
    "```\n",
    "\"Non voglio alzarmi dall'amaca. Uff..\"\n",
    "```\n",
    "\n",
    "**NOTA**: Ricordarsi lo spazio tra espressione e frase!\n",
    "\n"
   ]
  },
  {
   "cell_type": "raw",
   "id": "e1a916bf",
   "metadata": {
    "format": "text/html"
   },
   "source": [
    "<a  class=\"jupman-sol jupman-sol-toggler\" \n",
    " onclick=\"jupman.toggleSolution(this);\" \n",
    " data-jupman-show=\"Mostra soluzione\" data-jupman-hide=\"Nascondi\">Mostra soluzione</a><div class=\"jupman-sol jupman-sol-code\" style=\"display:none\">  "
   ]
  },
  {
   "cell_type": "code",
   "execution_count": 8,
   "metadata": {},
   "outputs": [],
   "source": [
    "def onomat(frase, sentimento, sentimenti):\n",
    "    \n",
    "    sent = sentimenti[sentimento]\n",
    "    if sent[\"posizione\"] == \"i\":\n",
    "        return sent[\"espressione\"] + \" \" + frase\n",
    "    else:\n",
    "        return frase + \" \" + sent[\"espressione\"]\n",
    "    \n",
    "\n",
    "\n",
    "# INIZIO TEST - NON TOCCARE !!!\n",
    "\n",
    "\n",
    "sentimenti = {\n",
    "                1:  {\n",
    "                        \"espressione\": \"Gulp!\",\n",
    "                        \"posizione\": \"i\"\n",
    "                    },\n",
    "                2:  {\n",
    "                        \"espressione\": \"Sgaragulp!\",\n",
    "                        \"posizione\": \"i\"\n",
    "                    },\n",
    "                3:  {\n",
    "                        \"espressione\": \"Uff..\",\n",
    "                        \"posizione\": \"f\"\n",
    "                    },\n",
    "                4:  {\n",
    "                        \"espressione\": \"Yuk yuk!\",\n",
    "                        \"posizione\": \"f\"\n",
    "                    },\n",
    "                5:  {\n",
    "                        \"espressione\": \"Sgrunt!\",\n",
    "                        \"posizione\": \"i\"\n",
    "                    },\n",
    "                6:  {\n",
    "                        \"espressione\": \"Gasp!\",\n",
    "                        \"posizione\" : \"i\"\n",
    "                    }\n",
    "            }\n",
    "\n",
    "\n",
    "assert onomat(\"Mi chiamo Pippo.\", 4, sentimenti) == \"Mi chiamo Pippo. Yuk yuk!\"\n",
    "assert onomat(\"Quel topastro mi ha rovinato un'altra rapina!\", 5, sentimenti) == \"Sgrunt! Quel topastro mi ha rovinato un'altra rapina!\"\n",
    "assert onomat(\"Non voglio alzarmi dall'amaca.\", 3, sentimenti) == \"Non voglio alzarmi dall'amaca. Uff..\"\n",
    "\n",
    "# FINE TEST"
   ]
  },
  {
   "cell_type": "raw",
   "id": "d12894b2",
   "metadata": {
    "format": "text/html"
   },
   "source": [
    "</div>"
   ]
  },
  {
   "cell_type": "code",
   "execution_count": 8,
   "metadata": {},
   "outputs": [],
   "source": [
    "def onomat(frase, sentimento, sentimenti):\n",
    "    raise Exception('TODO IMPLEMENT ME !')\n",
    "\n",
    "\n",
    "# INIZIO TEST - NON TOCCARE !!!\n",
    "\n",
    "\n",
    "sentimenti = {\n",
    "                1:  {\n",
    "                        \"espressione\": \"Gulp!\",\n",
    "                        \"posizione\": \"i\"\n",
    "                    },\n",
    "                2:  {\n",
    "                        \"espressione\": \"Sgaragulp!\",\n",
    "                        \"posizione\": \"i\"\n",
    "                    },\n",
    "                3:  {\n",
    "                        \"espressione\": \"Uff..\",\n",
    "                        \"posizione\": \"f\"\n",
    "                    },\n",
    "                4:  {\n",
    "                        \"espressione\": \"Yuk yuk!\",\n",
    "                        \"posizione\": \"f\"\n",
    "                    },\n",
    "                5:  {\n",
    "                        \"espressione\": \"Sgrunt!\",\n",
    "                        \"posizione\": \"i\"\n",
    "                    },\n",
    "                6:  {\n",
    "                        \"espressione\": \"Gasp!\",\n",
    "                        \"posizione\" : \"i\"\n",
    "                    }\n",
    "            }\n",
    "\n",
    "\n",
    "assert onomat(\"Mi chiamo Pippo.\", 4, sentimenti) == \"Mi chiamo Pippo. Yuk yuk!\"\n",
    "assert onomat(\"Quel topastro mi ha rovinato un'altra rapina!\", 5, sentimenti) == \"Sgrunt! Quel topastro mi ha rovinato un'altra rapina!\"\n",
    "assert onomat(\"Non voglio alzarmi dall'amaca.\", 3, sentimenti) == \"Non voglio alzarmi dall'amaca. Uff..\"\n",
    "\n",
    "# FINE TEST"
   ]
  },
  {
   "cell_type": "markdown",
   "metadata": {},
   "source": [
    "### Esercizio - sagra\n",
    "\n",
    "✪✪✪ In occasione di una sagra di paese, le pasticcerie della zona decidono di donare ciascuna una certa quantità di dolci. Ogni pasticceria è rappresentata da un dizionario, contenente come chiavi i nomi dei dolci più la chiave speciale `nome` che rappresenta il nome della pasticceria stessa (possiamo assumere che tutte le pasticcerie producono gli stessi tipi di dolci):\n",
    "\n",
    "```python\n",
    "pasticcerie = [{'babbà':3,\n",
    "                'bignè':4,\n",
    "                'zippole':2,\n",
    "                'nome':'Da Gigi'},\n",
    "               {'babbà':5,\n",
    "                'bignè':3,\n",
    "                'zippole':9,\n",
    "                'nome':'La Delizia'},\n",
    "               {'babbà':1,\n",
    "                'bignè':2,\n",
    "                'zippole':6,\n",
    "                'nome':'Gnam gnam'},\n",
    "               {'babbà':7,\n",
    "                'bignè':8,\n",
    "                'zippole':4,\n",
    "                'nome':'Il Dessert'}]\n",
    "```\n",
    "\n",
    "\n",
    "Data una lista di questi dizionari e una lista di dolci `dolci`, si vuole produrre come output una NUOVA lista di liste strutturata così:\n",
    "\n",
    "\n",
    "\n",
    "```python\n",
    ">>> sagra(pasticcerie, ['babbà', 'bignè', 'zippole'])\n",
    "\n",
    "[['Nome',      'babbà', 'bignè', 'zippole' ],\n",
    " ['Da Gigi',      3,       4,        2     ],\n",
    " ['La Delizia',   5,       3,        9     ],\n",
    " ['Gnam gnam',    1,       2,        6     ],\n",
    " ['Il Dessert',   7,       8,        4     ],\n",
    " ['Totali',       16,      17,       21    ]]\n",
    "```\n",
    "\n",
    "avente quindi i totali di ciascuna tipologia di dolce. "
   ]
  },
  {
   "cell_type": "raw",
   "id": "aa15560e",
   "metadata": {
    "format": "text/html"
   },
   "source": [
    "<a  class=\"jupman-sol jupman-sol-toggler\" \n",
    " onclick=\"jupman.toggleSolution(this);\" \n",
    " data-jupman-show=\"Mostra soluzione\" data-jupman-hide=\"Nascondi\">Mostra soluzione</a><div class=\"jupman-sol jupman-sol-code\" style=\"display:none\">  "
   ]
  },
  {
   "cell_type": "code",
   "execution_count": 9,
   "metadata": {},
   "outputs": [],
   "source": [
    "\n",
    "\n",
    "def sagra(pasticcerie, dolci):\n",
    "    \n",
    "    ret = []\n",
    "    ret.append(['Nome']+ dolci[:])  # facciamo una copia di dolci tanto per non intaccare l'input\n",
    "    somme = [0]*(len(dolci)+1)\n",
    "    somme[0] = 'Totali'\n",
    "    for p in pasticcerie:\n",
    "        j = 1\n",
    "        riga = [p['nome']]\n",
    "        for dolce in dolci:            \n",
    "            riga.append(p[dolce])    \n",
    "            somme[j] += p[dolce]\n",
    "            j += 1\n",
    "        ret.append(riga)\n",
    "    ret.append(somme)\n",
    "    return ret\n",
    "    \n",
    "\n",
    "from pprint import pprint\n",
    "\n",
    "dolci1 = ['cornetti']\n",
    "res1 = sagra([{'nome':'La Patisserie',\n",
    "               'cornetti':2},\n",
    "              {'cornetti':5,\n",
    "                'nome':'La Casa Del Cioccolato'}], dolci1)\n",
    "assert res1 == [['Nome',                  'cornetti' ],\n",
    "                ['La Patisserie',              2     ],\n",
    "                ['La Casa Del Cioccolato',     5     ],\n",
    "                ['Totali',                     7     ]]\n",
    "assert dolci1 == ['cornetti'] # verifica che l'input non cambi\n",
    "\n",
    "pasticcerie2 = [{'babbà':3,\n",
    "                 'bignè':4,\n",
    "                 'zippole':2,\n",
    "                 'nome':'Da Gigi'},\n",
    "                {'babbà':5,                \n",
    "                 'bignè':3,\n",
    "                 'zippole':9,\n",
    "                 'nome':'La Delizia'},\n",
    "                {'babbà':1,\n",
    "                 'bignè':2,                \n",
    "                 'zippole':6,\n",
    "                 'nome':'Gnam gnam'},\n",
    "                {'babbà':7,\n",
    "                 'bignè':8,\n",
    "                 'zippole':4,                \n",
    "                 'nome':'Il Dessert'}]\n",
    "\n",
    "res2 = sagra(pasticcerie2, ['bignè', 'babbà', 'zippole'])\n",
    "#pprint(res2, width=43)\n",
    "\n",
    "assert res2 == [['Nome',     'bignè',  'babbà', 'zippole'],\n",
    "                ['Da Gigi',     4,        3,       2     ],\n",
    "                ['La Delizia',  3,        5,       9     ],\n",
    "                ['Gnam gnam',   2,        1,       6     ],\n",
    "                ['Il Dessert',  8,        7,       4     ],\n",
    "                ['Totali',      17,       16,      21    ]]\n"
   ]
  },
  {
   "cell_type": "raw",
   "id": "e4ce2c28",
   "metadata": {
    "format": "text/html"
   },
   "source": [
    "</div>"
   ]
  },
  {
   "cell_type": "code",
   "execution_count": 9,
   "metadata": {},
   "outputs": [],
   "source": [
    "\n",
    "\n",
    "def sagra(pasticcerie, dolci):\n",
    "    raise Exception('TODO IMPLEMENT ME !')\n",
    "\n",
    "from pprint import pprint\n",
    "\n",
    "dolci1 = ['cornetti']\n",
    "res1 = sagra([{'nome':'La Patisserie',\n",
    "               'cornetti':2},\n",
    "              {'cornetti':5,\n",
    "                'nome':'La Casa Del Cioccolato'}], dolci1)\n",
    "assert res1 == [['Nome',                  'cornetti' ],\n",
    "                ['La Patisserie',              2     ],\n",
    "                ['La Casa Del Cioccolato',     5     ],\n",
    "                ['Totali',                     7     ]]\n",
    "assert dolci1 == ['cornetti'] # verifica che l'input non cambi\n",
    "\n",
    "pasticcerie2 = [{'babbà':3,\n",
    "                 'bignè':4,\n",
    "                 'zippole':2,\n",
    "                 'nome':'Da Gigi'},\n",
    "                {'babbà':5,                \n",
    "                 'bignè':3,\n",
    "                 'zippole':9,\n",
    "                 'nome':'La Delizia'},\n",
    "                {'babbà':1,\n",
    "                 'bignè':2,                \n",
    "                 'zippole':6,\n",
    "                 'nome':'Gnam gnam'},\n",
    "                {'babbà':7,\n",
    "                 'bignè':8,\n",
    "                 'zippole':4,                \n",
    "                 'nome':'Il Dessert'}]\n",
    "\n",
    "res2 = sagra(pasticcerie2, ['bignè', 'babbà', 'zippole'])\n",
    "#pprint(res2, width=43)\n",
    "\n",
    "assert res2 == [['Nome',     'bignè',  'babbà', 'zippole'],\n",
    "                ['Da Gigi',     4,        3,       2     ],\n",
    "                ['La Delizia',  3,        5,       9     ],\n",
    "                ['Gnam gnam',   2,        1,       6     ],\n",
    "                ['Il Dessert',  8,        7,       4     ],\n",
    "                ['Totali',      17,       16,      21    ]]\n"
   ]
  },
  {
   "cell_type": "markdown",
   "metadata": {},
   "source": [
    "### Esercizio - scambiattori\n",
    "\n",
    "✪✪✪ Data una lista di film come lista di dizionari, RITORNA una NUOVA lista con NUOVI dizionari avente i nomi degli attori maschi scambiati con le femmine. \n",
    "\n",
    "**NOTA**: dovi scambiare solo i nomi degli attori, e non puoi prevedere in anticipo come si chiameranno. Sai solo è che ogni dizionario ha esattamente tre chiavi di cui 2 note: `titolo` e `anno`."
   ]
  },
  {
   "cell_type": "markdown",
   "metadata": {},
   "source": [
    "Esempio: \n",
    "\n",
    "```python\n",
    "lista = [\n",
    "            {'titolo':'Jerry Maguire',\n",
    "             'anno':1996,\n",
    "             'Jerry':'Dorothy',},\n",
    "            {'titolo':'Superman',\n",
    "             'Kent':'Lois',\n",
    "             'anno': 1978},\n",
    "            {'titolo':'The Lord of the Rings',\n",
    "             'anno': 2001,\n",
    "             'Aragorn':'Arwen',},\n",
    "            {'Ron Weasley':'Hermione',\n",
    "             'titolo': 'Harry Potter and the Deathly Hallows, Part 2',\n",
    "             'anno': 2011}\n",
    "]    \n",
    "\n",
    ">>> scambiattori(lista)\n",
    "[{'titolo': 'Jerry Maguire',\n",
    "  'anno': 1996, \n",
    "  'Dorothy': 'Jerry'},\n",
    " {'titolo': 'Superman',\n",
    " 'anno': 1978, \n",
    " 'Lois': 'Kent'},\n",
    " {'titolo': 'The Lord of the Rings',\n",
    " 'anno': 2001, \n",
    " 'Arwen': 'Aragorn'},\n",
    " {'titolo': 'Harry Potter and the Deathly Hallows, Part 2',\n",
    " 'anno': 2011,\n",
    " 'Hermione': 'Ron Weasley',                             \n",
    " }]\n",
    "\n",
    "```"
   ]
  },
  {
   "cell_type": "raw",
   "id": "7fb32e23",
   "metadata": {
    "format": "text/html"
   },
   "source": [
    "<a  class=\"jupman-sol jupman-sol-toggler\" \n",
    " onclick=\"jupman.toggleSolution(this);\" \n",
    " data-jupman-show=\"Mostra soluzione\" data-jupman-hide=\"Nascondi\">Mostra soluzione</a><div class=\"jupman-sol jupman-sol-code\" style=\"display:none\">  "
   ]
  },
  {
   "cell_type": "code",
   "execution_count": 10,
   "metadata": {},
   "outputs": [],
   "source": [
    "\n",
    "def scambiattori(films):\n",
    "    \n",
    "    ret = []\n",
    "    for diz in films:\n",
    "        nuovo = {}\n",
    "        ret.append(nuovo)\n",
    "        for k in diz:        \n",
    "            if k == 'titolo' or k == 'anno':\n",
    "                nuovo[k] = diz[k]\n",
    "            else:\n",
    "                nuovo[diz[k]] = k        \n",
    "    return ret\n",
    "    \n",
    "\n",
    "# INIZIO TEST\n",
    "l1 = []\n",
    "assert scambiattori(l1) == []\n",
    "\n",
    "l2 = [ {'titolo': 'Pretty Woman',\n",
    "        'anno': 1990,\n",
    "        'Edward':'Vivian'},\n",
    "       {'titolo': 'Titanic',\n",
    "        'anno': 1997,\n",
    "        'Jack' : 'Rose'}\n",
    "     ]\n",
    "orig_film = l2[0]\n",
    "res2 = scambiattori(l2) \n",
    "assert res2 == [ {'titolo': 'Pretty Woman',\n",
    "                   'anno': 1990,\n",
    "                   'Vivian':'Edward'},\n",
    "                 {'titolo': 'Titanic',\n",
    "                  'anno': 1997,\n",
    "                  'Rose' : 'Jack'}\n",
    "               ]\n",
    "assert id(l2) != id(res2)            # deve produrre NUOVA lista\n",
    "assert id(orig_film) != id(res2[0])  # deve produrre NUOVO dizionario\n",
    "    \n",
    "l3 = [\n",
    "        {'titolo':'Jerry Maguire',\n",
    "         'anno':1996,\n",
    "         'Jerry':'Dorothy',},\n",
    "        {'titolo':'Superman',\n",
    "         'Kent':'Lois',\n",
    "         'anno': 1978},\n",
    "        {'titolo':'The Lord of the Rings',\n",
    "         'anno': 2001,\n",
    "         'Aragorn':'Arwen',},\n",
    "        {'Ron Weasley':'Hermione',\n",
    "         'titolo': 'Harry Potter and the Deathly Hallows, Part 2',\n",
    "         'anno': 2011}\n",
    "]    \n",
    "\n",
    "assert scambiattori(l3) == [{'titolo': 'Jerry Maguire',\n",
    "                             'anno': 1996, \n",
    "                             'Dorothy': 'Jerry'},\n",
    "                            {'titolo': 'Superman',\n",
    "                             'anno': 1978, \n",
    "                             'Lois': 'Kent'},\n",
    "                            {'titolo': 'The Lord of the Rings',\n",
    "                             'anno': 2001, \n",
    "                             'Arwen': 'Aragorn'},\n",
    "                            {'titolo': 'Harry Potter and the Deathly Hallows, Part 2',\n",
    "                             'anno': 2011,\n",
    "                             'Hermione': 'Ron Weasley',                             \n",
    "                            }]"
   ]
  },
  {
   "cell_type": "raw",
   "id": "8e815096",
   "metadata": {
    "format": "text/html"
   },
   "source": [
    "</div>"
   ]
  },
  {
   "cell_type": "code",
   "execution_count": 10,
   "metadata": {},
   "outputs": [],
   "source": [
    "\n",
    "def scambiattori(films):\n",
    "    raise Exception('TODO IMPLEMENT ME !')\n",
    "\n",
    "# INIZIO TEST\n",
    "l1 = []\n",
    "assert scambiattori(l1) == []\n",
    "\n",
    "l2 = [ {'titolo': 'Pretty Woman',\n",
    "        'anno': 1990,\n",
    "        'Edward':'Vivian'},\n",
    "       {'titolo': 'Titanic',\n",
    "        'anno': 1997,\n",
    "        'Jack' : 'Rose'}\n",
    "     ]\n",
    "orig_film = l2[0]\n",
    "res2 = scambiattori(l2) \n",
    "assert res2 == [ {'titolo': 'Pretty Woman',\n",
    "                   'anno': 1990,\n",
    "                   'Vivian':'Edward'},\n",
    "                 {'titolo': 'Titanic',\n",
    "                  'anno': 1997,\n",
    "                  'Rose' : 'Jack'}\n",
    "               ]\n",
    "assert id(l2) != id(res2)            # deve produrre NUOVA lista\n",
    "assert id(orig_film) != id(res2[0])  # deve produrre NUOVO dizionario\n",
    "    \n",
    "l3 = [\n",
    "        {'titolo':'Jerry Maguire',\n",
    "         'anno':1996,\n",
    "         'Jerry':'Dorothy',},\n",
    "        {'titolo':'Superman',\n",
    "         'Kent':'Lois',\n",
    "         'anno': 1978},\n",
    "        {'titolo':'The Lord of the Rings',\n",
    "         'anno': 2001,\n",
    "         'Aragorn':'Arwen',},\n",
    "        {'Ron Weasley':'Hermione',\n",
    "         'titolo': 'Harry Potter and the Deathly Hallows, Part 2',\n",
    "         'anno': 2011}\n",
    "]    \n",
    "\n",
    "assert scambiattori(l3) == [{'titolo': 'Jerry Maguire',\n",
    "                             'anno': 1996, \n",
    "                             'Dorothy': 'Jerry'},\n",
    "                            {'titolo': 'Superman',\n",
    "                             'anno': 1978, \n",
    "                             'Lois': 'Kent'},\n",
    "                            {'titolo': 'The Lord of the Rings',\n",
    "                             'anno': 2001, \n",
    "                             'Arwen': 'Aragorn'},\n",
    "                            {'titolo': 'Harry Potter and the Deathly Hallows, Part 2',\n",
    "                             'anno': 2011,\n",
    "                             'Hermione': 'Ron Weasley',                             \n",
    "                            }]"
   ]
  },
  {
   "cell_type": "markdown",
   "metadata": {},
   "source": [
    "## Prosegui\n",
    "\n",
    "Continua con le [challenges](https://it.softpython.org/mixed-structures/mixed-structures2-chal.html) ..."
   ]
  }
 ],
 "metadata": {
  "kernelspec": {
   "display_name": "Python 3 (ipykernel)",
   "language": "python",
   "name": "python3"
  },
  "language_info": {
   "codemirror_mode": {
    "name": "ipython",
    "version": 3
   },
   "file_extension": ".py",
   "mimetype": "text/x-python",
   "name": "python",
   "nbconvert_exporter": "python",
   "pygments_lexer": "ipython3",
   "version": "3.7.10"
  },
  "toc": {
   "base_numbering": 1,
   "nav_menu": {},
   "number_sections": false,
   "sideBar": true,
   "skip_h1_title": false,
   "title_cell": "Table of Contents",
   "title_sidebar": "Contents",
   "toc_cell": false,
   "toc_position": {},
   "toc_section_display": true,
   "toc_window_display": true
  }
 },
 "nbformat": 4,
 "nbformat_minor": 2
}

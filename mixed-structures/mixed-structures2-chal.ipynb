{
 "cells": [
  {
   "cell_type": "markdown",
   "id": "worst-going",
   "metadata": {},
   "source": [
    "# Strutture miste 2 - Challenges\n",
    "\n",
    "## [Scarica zip esercizi](../_static/generated/mixed-structures.zip)\n",
    "\n",
    "[Naviga file online](https://github.com/DavidLeoni/softpython-it/tree/master/mixed-structures)"
   ]
  },
  {
   "cell_type": "markdown",
   "id": "impossible-cambodia",
   "metadata": {},
   "source": [
    "Proponiamo ora degli esercizi senza soluzione, accetti la sfida? "
   ]
  },
  {
   "cell_type": "markdown",
   "id": "selected-adolescent",
   "metadata": {},
   "source": [
    "## Sfida - Precariato ad Altomuro\n",
    "\n",
    "✪✪ Requisiti: dizionari, liste, strutture composte\n",
    "\n",
    "**NOTA**: Questo esercizio è simile alla sfida [Precariato a Murabasso](https://it.softpython.org/matrices-lists/matrices-lists3-chal.html#Sfida---Precariato-a-Murabasso), con la differenza che usa una struttura dati più comoda.\n",
    "\n",
    "Siamo nel 2020 e ANCHE per Gian Antonia da Torri di Altomuro il lavoro fisso è ormai un miraggio.\n",
    "Ogni mese si giostra tra vari lavoretti e, siccome è una persona un po' più ordinata, \n",
    "tiene un registro di tutti i lavoretti part time ed occasionali che svolge per \n",
    "portare a casa la pagnotta. \n",
    "\n",
    "A differenza di Pier Giorgio che usa liste di liste, Gian Antonia usa una lista di dizionari...\n",
    "Avrà maggior fortuna di Pier Giorgio?\n",
    "\n",
    "I dati sono salvati un una lista di dizionari, in cui ogni elemento è così composto:\n",
    "    \n",
    "```python    \n",
    "   {\"nome\": \"Pettinatura pitoni\", \n",
    "    \"valore\": 1000, \n",
    "    \"status\": \"pagato\"}\n",
    "```    \n",
    "\n",
    "Si sta sempre avvicinando il momento di compilare la dichiarazione dei redditi e \n",
    "Gian Antonia avrebbe bisogno di sapere quanti soldi ha incassato finora e quanti\n",
    "se ne deve ancora aspettare. In più le piacerebbe sapere quale è stato il lavoro più redditizio dell'anno (GIA' PAGATO):\n",
    "\n",
    "1. Calcola il totale già ricevuto e il totale da ricevere ancora\n",
    "2. Trova il lavoro GIA' PAGATO più redditizio \n",
    "\n",
    " \n",
    "Esempio - dati:\n",
    "\n",
    "```python\n",
    "lavori = [\n",
    "    {\"nome\": \"Pettinatura pitoni\",       \"valore\": 1000,   \"status\": \"pagato\"},            \n",
    "    {\"nome\": \"Straordinari in fonderia\", \"valore\": 175.13, \"status\": \"non pagato\"},\n",
    "    {\"nome\": \"Part time gelateria\",      \"valore\": 450,    \"status\": \"non pagato\"},\n",
    "    {\"nome\": \"Rendita investimenti\",     \"valore\": 500,    \"status\": \"pagato\"},\n",
    "    {\"nome\": \"Installazione artistica\",  \"valore\": 600,    \"status\": \"non pagato\"},\n",
    "    {\"nome\": \"Noleggio scarpe eleganti\", \"valore\": 100,    \"status\": \"non pagato\"}\n",
    "]\n",
    "```\n",
    "        \n",
    "Stampa:\n",
    "    \n",
    "```    \n",
    "1.  Totale ricevuto:  1500\n",
    "    Totale da ricevere:  1325.13\n",
    "2.  Il lavoro più pagato finora è:  Pettinatura pitoni   \n",
    "```"
   ]
  },
  {
   "cell_type": "code",
   "execution_count": 1,
   "id": "studied-gallery-stripped",
   "metadata": {},
   "outputs": [],
   "source": [
    "\n",
    "lavori = [\n",
    "    {\"nome\": \"Pettinatura pitoni\",       \"valore\": 1000,   \"status\": \"pagato\"},            \n",
    "    {\"nome\": \"Straordinari in fonderia\", \"valore\": 175.13, \"status\": \"non pagato\"},\n",
    "    {\"nome\": \"Part time gelateria\",      \"valore\":450,     \"status\": \"non pagato\"},\n",
    "    {\"nome\": \"Rendita investimenti\",     \"valore\":500,     \"status\": \"pagato\"},\n",
    "    {\"nome\": \"Installazione artistica\",  \"valore\":600,     \"status\": \"non pagato\"},\n",
    "    {\"nome\": \"Noleggio scarpe eleganti\", \"valore\":100,     \"status\": \"non pagato\"}\n",
    "]\n",
    "\n",
    "# scrivi qui\n",
    "\n"
   ]
  },
  {
   "cell_type": "markdown",
   "id": "8de1d51a",
   "metadata": {},
   "source": [
    "## Sfida - Ricerca di mercato\n",
    "\n",
    "✪✪✪ Requisiti: dizionari, liste, strutture composte, liste di liste \n",
    "\n",
    "Un'azienda intervista `n` persone (a,b,c, ..), richiedendo a  ciascuna di mettere in ordine di preferenza `m` prodotti. Per prevenire distorsioni nella ricerca i prodotti sono marcati con generiche etichette (x,y,z,w...). Questi dati vengono raccolti in un dizionario che associa persone alle loro preferenze. \n",
    "\n",
    "Scrivere una funzione ricme che RITORNA una NUOVA tabella n x m con **i nomi delle persone in ordine alfabetico** seguiti dalle loro preferenze\n",
    "\n",
    "* assumi che ogni persona esprima un numero di preferenze uguale\n",
    "\n",
    "Esempio:\n",
    "\n",
    "```python\n",
    ">>> ricme({'c':'xzwy',\n",
    "           'a':'yxzw',\n",
    "           'b':'zxwy'})\n",
    "[['a', 'y', 'x', 'z', 'w'],\n",
    " ['b', 'z', 'x', 'w', 'y'],\n",
    " ['c', 'x', 'z', 'w', 'y']]                \n",
    "```"
   ]
  },
  {
   "cell_type": "code",
   "execution_count": 2,
   "id": "fbd41a30-stripped",
   "metadata": {},
   "outputs": [],
   "source": [
    "def ricme(diz):\n",
    "    raise Exception('TODO IMPLEMENT ME !')\n",
    "\n",
    "\n",
    "assert ricme({}) == []\n",
    "assert ricme({'d':'q'}) == [['d','q']]\n",
    "assert ricme({'d':'pq',\n",
    "              'e':'qp'}) == [['d','p','q'],\n",
    "                             ['e','q','p']]\n",
    "assert ricme({'c':'xzwy',\n",
    "              'a':'yxzw',\n",
    "              'b':'zxwy'}) == [['a', 'y', 'x', 'z', 'w'],\n",
    "                               ['b', 'z', 'x', 'w', 'y'],\n",
    "                               ['c', 'x', 'z', 'w', 'y']]     "
   ]
  },
  {
   "cell_type": "code",
   "execution_count": 3,
   "id": "9827bd65-stripped",
   "metadata": {
    "nbsphinx": "hidden"
   },
   "outputs": [],
   "source": []
  }
 ],
 "metadata": {
  "kernelspec": {
   "display_name": "Python 3 (ipykernel)",
   "language": "python",
   "name": "python3"
  },
  "language_info": {
   "codemirror_mode": {
    "name": "ipython",
    "version": 3
   },
   "file_extension": ".py",
   "mimetype": "text/x-python",
   "name": "python",
   "nbconvert_exporter": "python",
   "pygments_lexer": "ipython3",
   "version": "3.7.13"
  },
  "toc": {
   "base_numbering": 1,
   "nav_menu": {},
   "number_sections": false,
   "sideBar": true,
   "skip_h1_title": false,
   "title_cell": "Table of Contents",
   "title_sidebar": "Contents",
   "toc_cell": false,
   "toc_position": {},
   "toc_section_display": true,
   "toc_window_display": false
  }
 },
 "nbformat": 4,
 "nbformat_minor": 5
}

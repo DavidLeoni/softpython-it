{
 "cells": [
  {
   "cell_type": "code",
   "execution_count": 1,
   "metadata": {
    "nbsphinx": "hidden"
   },
   "outputs": [],
   "source": [
    "# Ricordati di eseguire questa cella con Shift+Invio\n",
    "\n",
    "import jupman"
   ]
  },
  {
   "cell_type": "markdown",
   "metadata": {},
   "source": [
    "# Cicli for 4 - iterare tuple\n",
    "\n",
    "## [Scarica zip esercizi](../_static/generated/for.zip) \n",
    "\n",
    "[Naviga file online](https://github.com/DavidLeoni/softpython-it/tree/master/for)\n",
    "\n",
    "Vediamo esercizi in cui è necessario iterare delle tuple."
   ]
  },
  {
   "cell_type": "markdown",
   "metadata": {},
   "source": [
    "## Esercizio - coppie doppie\n",
    "\n",
    "✪✪ Data una `lista` con `n` numeri interi, mette in `ris` una NUOVA lista che \n",
    "contiene `n` tuple ciascuna da due elementi. Ogni tupla contiene un numero \n",
    "preso dalla corrispondente posizione della lista di partenza, e il suo doppio. \n",
    "\n",
    "Per esempio - data:\n",
    "\n",
    "```python\n",
    "lista = [ 5, 3, 8]\n",
    "```\n",
    "\n",
    "Dopo il tuo codice deve risultare:\n",
    "\n",
    "```python\n",
    ">>> print(ris)\n",
    "[(5,10), (3,6), (8,16)]\n",
    "```"
   ]
  },
  {
   "cell_type": "raw",
   "id": "cfbbee7e",
   "metadata": {
    "format": "text/html"
   },
   "source": [
    "<a  class=\"jupman-sol jupman-sol-toggler\" \n",
    " onclick=\"jupman.toggleSolution(this);\" \n",
    " data-jupman-show=\"Mostra soluzione\" data-jupman-hide=\"Nascondi\">Mostra soluzione</a><div class=\"jupman-sol jupman-sol-code\" style=\"display:none\">  "
   ]
  },
  {
   "cell_type": "code",
   "execution_count": 2,
   "metadata": {},
   "outputs": [
    {
     "name": "stdout",
     "output_type": "stream",
     "text": [
      "[(5, 10), (3, 6), (8, 16)]\n"
     ]
    }
   ],
   "source": [
    "\n",
    "lista = [5,3,8]\n",
    "#lista = [2,7] # [(2,4),(7,14)]\n",
    "\n",
    "ris = []\n",
    "\n",
    "# scrivi qui\n",
    "\n",
    "for elemento in lista:\n",
    "    ris.append((elemento, elemento * 2))\n",
    "print(ris)"
   ]
  },
  {
   "cell_type": "raw",
   "id": "c66969b9",
   "metadata": {
    "format": "text/html"
   },
   "source": [
    "</div>"
   ]
  },
  {
   "cell_type": "code",
   "execution_count": 2,
   "metadata": {},
   "outputs": [],
   "source": [
    "\n",
    "lista = [5,3,8]\n",
    "#lista = [2,7] # [(2,4),(7,14)]\n",
    "\n",
    "ris = []\n",
    "\n",
    "# scrivi qui\n",
    "\n"
   ]
  },
  {
   "cell_type": "markdown",
   "metadata": {},
   "source": [
    "## Esercizio - tappeto\n",
    "\n",
    "✪✪ Scrivi del codice che data una tupla `t`, produce una lista `ris` avente come elementi delle tuple da due elementi presi a due a due da `t`. \n",
    "\n",
    "* se la tupla `t` ha un numero dispari di elementi, l'ultima tupla nella lista da ritornare sarà costituita da un solo elemento\n",
    "\n",
    "Esempio 1 - data : \n",
    "\n",
    "```python\n",
    ">>> t = ('c', 'a', 'p', 'i', 'r', 'e')    # lunghezza pari\n",
    "```\n",
    "\n",
    "dopo il tuo codice deve risultare:\n",
    "\n",
    "```python\n",
    ">>> print(res)\n",
    "[('c', 'a'), ('p', 'i'), ('r', 'e')]\n",
    "```\n",
    "\n",
    "Esempio 2 - data:\n",
    "\n",
    "```python\n",
    ">>> t = ('t','a','p','p','e','t','o')     # lunghezza dispari\n",
    "```\n",
    "\n",
    "dopo il tuo codice deve risultare:\n",
    "\n",
    "```python\n",
    ">>> print(ris)\n",
    "[('t', 'a'), ('p', 'p'), ('e', 't'), ('o',)]\n",
    "```"
   ]
  },
  {
   "cell_type": "raw",
   "id": "e9f10abd",
   "metadata": {
    "format": "text/html"
   },
   "source": [
    "<a  class=\"jupman-sol jupman-sol-toggler\" \n",
    " onclick=\"jupman.toggleSolution(this);\" \n",
    " data-jupman-show=\"Mostra soluzione\" data-jupman-hide=\"Nascondi\">Mostra soluzione</a><div class=\"jupman-sol jupman-sol-code\" style=\"display:none\">  "
   ]
  },
  {
   "cell_type": "code",
   "execution_count": 3,
   "metadata": {},
   "outputs": [
    {
     "name": "stdout",
     "output_type": "stream",
     "text": [
      "[('c', 'a'), ('p', 'i'), ('r', 'e')]\n"
     ]
    }
   ],
   "source": [
    "\n",
    "\n",
    "t = ('c', 'a', 'p', 'i', 'r', 'e') \n",
    "#t = ('t','a','p','p','e','t','o')\n",
    "\n",
    "# scrivi qui\n",
    "ris = []\n",
    "i = 0\n",
    "for i in range(0,len(t)-1,2):\n",
    "    ris.append((t[i],t[i+1]))                \n",
    "if len(t) % 2 == 1:\n",
    "    ris.append((t[-1],))\n",
    "print(ris)"
   ]
  },
  {
   "cell_type": "raw",
   "id": "879ddc3e",
   "metadata": {
    "format": "text/html"
   },
   "source": [
    "</div>"
   ]
  },
  {
   "cell_type": "code",
   "execution_count": 3,
   "metadata": {},
   "outputs": [],
   "source": [
    "\n",
    "\n",
    "t = ('c', 'a', 'p', 'i', 'r', 'e') \n",
    "#t = ('t','a','p','p','e','t','o')\n",
    "\n",
    "# scrivi qui\n",
    "\n"
   ]
  },
  {
   "cell_type": "markdown",
   "metadata": {},
   "source": [
    "## Prosegui\n",
    "\n",
    "Continua con [for e insiemi](https://it.softpython.org/for/for5-sets-sol.html)"
   ]
  }
 ],
 "metadata": {
  "kernelspec": {
   "display_name": "Python 3 (ipykernel)",
   "language": "python",
   "name": "python3"
  },
  "language_info": {
   "codemirror_mode": {
    "name": "ipython",
    "version": 3
   },
   "file_extension": ".py",
   "mimetype": "text/x-python",
   "name": "python",
   "nbconvert_exporter": "python",
   "pygments_lexer": "ipython3",
   "version": "3.7.10"
  },
  "toc": {
   "base_numbering": 1,
   "nav_menu": {},
   "number_sections": false,
   "sideBar": true,
   "skip_h1_title": false,
   "title_cell": "Table of Contents",
   "title_sidebar": "Contents",
   "toc_cell": false,
   "toc_position": {},
   "toc_section_display": true,
   "toc_window_display": true
  }
 },
 "nbformat": 4,
 "nbformat_minor": 2
}

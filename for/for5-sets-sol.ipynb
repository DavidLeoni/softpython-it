{
 "cells": [
  {
   "cell_type": "code",
   "execution_count": null,
   "metadata": {},
   "outputs": [],
   "source": []
  },
  {
   "cell_type": "code",
   "execution_count": 1,
   "metadata": {
    "nbsphinx": "hidden"
   },
   "outputs": [],
   "source": [
    "# Ricordati di eseguire questa cella con Shift+Invio\n",
    "\n",
    "import jupman"
   ]
  },
  {
   "cell_type": "markdown",
   "metadata": {},
   "source": [
    "# Cicli for 5 - iterare insiemi\n",
    "\n",
    "## [Scarica zip esercizi](../_static/generated/for.zip) \n",
    "\n",
    "[Naviga file online](https://github.com/DavidLeoni/softpython-it/tree/master/for)\n",
    "\n",
    "Dato un insieme, possiamo esaminare la sequenza di elementi con un ciclo `for`. "
   ]
  },
  {
   "cell_type": "markdown",
   "metadata": {},
   "source": [
    "## Ordine di iterazione\n",
    "\n",
    "<div class=\"alert alert-warning\">\n",
    "\n",
    "**ATTENZIONE**: l'ordine di iterazione negli insiemi **non** è prevedibile !\n",
    "\n",
    "Per capire meglio il perchè, puoi rivedere [la guida sugli insiemi](https://it.softpython.org/sets/sets-sol.html#Creare-un-insieme)\n",
    "</div>"
   ]
  },
  {
   "cell_type": "code",
   "execution_count": 2,
   "metadata": {
    "scrolled": true
   },
   "outputs": [
    {
     "name": "stdout",
     "output_type": "stream",
     "text": [
      "è\n",
      "un\n",
      "questo\n",
      "insieme\n"
     ]
    }
   ],
   "source": [
    "for elemento in {'questo', 'è', 'un', 'insieme'}:\n",
    "    print(elemento)"
   ]
  },
  {
   "cell_type": "markdown",
   "metadata": {},
   "source": [
    "### Domande - insiemi\n",
    "\n",
    "Guarda i seguenti frammenti di codice, e per ciascuno cerca di indovinare quale risultato produce (o se da errore):\n",
    "\n",
    "\n",
    "1.  ```python\n",
    "    s = set()\n",
    "    s.add('pan')\n",
    "    s.add('de')\n",
    "    s.add('mo')\n",
    "    s.add('nio')\n",
    "    print(s)\n",
    "    ```\n",
    "1.  ```python\n",
    "    for x in {'a',12,'34',56,34}[2:4]:\n",
    "        print(x)\n",
    "    ```\n",
    "1.  ```python\n",
    "    for x in set(['a']) | set(['b']):\n",
    "        print(x)\n",
    "    ```\n",
    "1.  ```python\n",
    "    for x in set(['a']) & set(['b']):\n",
    "        print(x)\n",
    "    ```\n"
   ]
  },
  {
   "cell_type": "markdown",
   "metadata": {},
   "source": [
    "## Esercizio - Avvitati\n",
    "\n",
    "La multinazionale ToxiCorp produce elettrodomestici che sono progetti di proposito per rompersi dopo due anni d'uso. Quando questo succede, i loro componenti richiedono strumenti molto speciali che solo la corporazione possiede. I clienti sono forzati a recarsi presso centri di riparazione affiliati a ToxiCorp, e pagare soldi extra. Nel tempo la corporazione ha sviluppato così tante forme speciali per le viti che adesso i suoi centri hanno dei problemi a gestire tutti i cacciaviti, perciò ti chiedono di sviluppare un software per indicare alle officine  quali cacciaviti mancano. Lo trovi questionabile, ma pagano bene, perciò accetti."
   ]
  },
  {
   "cell_type": "markdown",
   "metadata": {},
   "source": [
    "Ogni vite ha una forma a stella, ed è definita da un raggio e un certo numero di punte. Possiamo rappresentarla come una lista di due elementi, per es.  `[3,7]` dove `3` è il raggio e `7` il numero di punte. Ogni cacciavite è anche definito come una lista di due elementi con i valori del raggio e le punte che può avvitare.\n",
    "\n",
    "Un officina ha nel magazzino una lista di viti e una lista di cacciaviti: scrivi del codice che stampa una lista ordinata di cacciaviti che mancano per poter gestire tutti i tipi di vite."
   ]
  },
  {
   "cell_type": "markdown",
   "metadata": {},
   "source": [
    "Esempio - dati:\n",
    "\n",
    "```python\n",
    "viti = [[5,8], [7,4], [2,9], [8,2], [7,4],[2,6], [8,3], [2,6], [8,3], [8,3], [5,8]]\n",
    "cacciaviti = [[8,2], [1,3], [5,8], [2,5], [1,3]]\n",
    "```\n",
    "\n",
    "Il tuo codice deve stampare:\n",
    "\n",
    "\n",
    "```\n",
    "Cacciaviti richiesti: [(2, 6), (2, 9), (7, 4), (8, 3)]\n",
    "```\n",
    "\n",
    "- Nota che le liste di input possono avere duplicati\n",
    "- **NON** usare metodi di liste o operatori che effettuano ricerche\n",
    "    - perciò niente `.index`, `.find`, `in` ... sono lenti!\n",
    "- **NON USARE** cicli annidati... sarebbero probabilmente lenti!"
   ]
  },
  {
   "cell_type": "raw",
   "id": "102be22a",
   "metadata": {
    "format": "text/html"
   },
   "source": [
    "<a  class=\"jupman-sol jupman-sol-toggler\" \n",
    " onclick=\"jupman.toggleSolution(this);\" \n",
    " data-jupman-show=\"Mostra soluzione\" data-jupman-hide=\"Nascondi\">Mostra soluzione</a><div class=\"jupman-sol jupman-sol-code\" style=\"display:none\">  "
   ]
  },
  {
   "cell_type": "code",
   "execution_count": 3,
   "metadata": {},
   "outputs": [
    {
     "name": "stdout",
     "output_type": "stream",
     "text": [
      "Cacciaviti richiesti: [[2, 6], [2, 9], [7, 4], [8, 3]]\n"
     ]
    }
   ],
   "source": [
    "\n",
    "viti = [[5,8], [7,4], [2,9],[8,2], [7,4],[2,6], [8,3],\n",
    "        [2,6], [8,3], [8,3], [5,8]]          \n",
    "cacciaviti = [[8,2], [1,3], [5,8], [2,5], [1,3]]\n",
    "#Cacciaviti richiesti: [(2, 6), (2, 9), (7, 4), (8, 3)]\n",
    "\n",
    "#viti = [[7,2],[3,5],[1,9],[3,5]]\n",
    "#cacciaviti = [[8,4],[3,5]]\n",
    "#Cacciaviti richiesti: [[1, 9], [7, 2]]\n",
    "\n",
    "# scrivi qui\n",
    "\n",
    "viti_set = set()\n",
    "cacciaviti_set = set()\n",
    "\n",
    "for x,y in viti:\n",
    "    viti_set.add( (x,y) )\n",
    "\n",
    "for x,y in cacciaviti:    \n",
    "    cacciaviti_set.add( (x,y) )\n",
    "\n",
    "temp = list(viti_set - cacciaviti_set)\n",
    "temp.sort()\n",
    "richiesti = []\n",
    "for x,y in temp:\n",
    "    richiesti.append([x,y])\n",
    "    \n",
    "print(\"Cacciaviti richiesti:\", richiesti)"
   ]
  },
  {
   "cell_type": "raw",
   "id": "30422057",
   "metadata": {
    "format": "text/html"
   },
   "source": [
    "</div>"
   ]
  },
  {
   "cell_type": "code",
   "execution_count": 3,
   "metadata": {},
   "outputs": [],
   "source": [
    "\n",
    "viti = [[5,8], [7,4], [2,9],[8,2], [7,4],[2,6], [8,3],\n",
    "        [2,6], [8,3], [8,3], [5,8]]          \n",
    "cacciaviti = [[8,2], [1,3], [5,8], [2,5], [1,3]]\n",
    "#Cacciaviti richiesti: [(2, 6), (2, 9), (7, 4), (8, 3)]\n",
    "\n",
    "#viti = [[7,2],[3,5],[1,9],[3,5]]\n",
    "#cacciaviti = [[8,4],[3,5]]\n",
    "#Cacciaviti richiesti: [[1, 9], [7, 2]]\n",
    "\n",
    "# scrivi qui\n",
    "\n"
   ]
  },
  {
   "cell_type": "markdown",
   "metadata": {},
   "source": [
    "## Prosegui\n",
    "\n",
    "Continua con [for e dizionari](https://it.softpython.org/for/for6-dictionaries-sol.html)"
   ]
  },
  {
   "cell_type": "code",
   "execution_count": null,
   "metadata": {},
   "outputs": [],
   "source": []
  }
 ],
 "metadata": {
  "kernelspec": {
   "display_name": "Python 3 (ipykernel)",
   "language": "python",
   "name": "python3"
  },
  "language_info": {
   "codemirror_mode": {
    "name": "ipython",
    "version": 3
   },
   "file_extension": ".py",
   "mimetype": "text/x-python",
   "name": "python",
   "nbconvert_exporter": "python",
   "pygments_lexer": "ipython3",
   "version": "3.7.10"
  },
  "toc": {
   "base_numbering": 1,
   "nav_menu": {},
   "number_sections": false,
   "sideBar": true,
   "skip_h1_title": false,
   "title_cell": "Table of Contents",
   "title_sidebar": "Contents",
   "toc_cell": false,
   "toc_position": {},
   "toc_section_display": true,
   "toc_window_display": false
  }
 },
 "nbformat": 4,
 "nbformat_minor": 2
}

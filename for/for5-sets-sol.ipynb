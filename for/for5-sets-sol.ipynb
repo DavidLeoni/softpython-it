{
 "cells": [
  {
   "cell_type": "code",
   "execution_count": 1,
   "metadata": {
    "nbsphinx": "hidden"
   },
   "outputs": [],
   "source": [
    "# Ricordati di eseguire questa cella con Shift+Invio\n",
    "\n",
    "import sys\n",
    "sys.path.append('../')\n",
    "import jupman"
   ]
  },
  {
   "cell_type": "markdown",
   "metadata": {},
   "source": [
    "# Cicli for 5 - iterare insiemi\n",
    "\n",
    "## [Scarica zip esercizi](../_static/generated/for.zip) \n",
    "\n",
    "[Naviga file online](https://github.com/DavidLeoni/softpython-it/tree/master/for)\n",
    "\n",
    "Dato un insieme, possiamo esaminare la sequenza di elementi con un ciclo `for`. "
   ]
  },
  {
   "cell_type": "markdown",
   "metadata": {},
   "source": [
    "## Ordine di iterazione\n",
    "\n",
    "<div class=\"alert alert-warning\">\n",
    "\n",
    "**ATTENZIONE**: l'ordine di iterazione negli insiemi **non** è prevedibile !\n",
    "\n",
    "Per capire meglio il perchè, puoi rivedere [la guida sugli insiemi](https://it.softpython.org/sets/sets-sol.html#Creare-un-insieme)\n",
    "</div>"
   ]
  },
  {
   "cell_type": "code",
   "execution_count": 2,
   "metadata": {
    "scrolled": true
   },
   "outputs": [
    {
     "name": "stdout",
     "output_type": "stream",
     "text": [
      "insieme\n",
      "è\n",
      "un\n",
      "questo\n"
     ]
    }
   ],
   "source": [
    "for elemento in {'questo', 'è', 'un', 'insieme'}:\n",
    "    print(elemento)"
   ]
  },
  {
   "cell_type": "markdown",
   "metadata": {},
   "source": [
    "### Domande - insiemi\n",
    "\n",
    "Guarda i seguenti frammenti di codice, e per ciascuno cerca di indovinare quale risultato produce (o se da errore):\n",
    "\n",
    "\n",
    "1.  ```python\n",
    "    s = set()\n",
    "    s.add('pan')\n",
    "    s.add('de')\n",
    "    s.add('mo')\n",
    "    s.add('nio')\n",
    "    print(s)\n",
    "    ```\n",
    "1.  ```python\n",
    "    for x in {'a',12,'34',56,34}[2:4]:\n",
    "        print(x)\n",
    "    ```\n",
    "1.  ```python\n",
    "    for x in set(['a']) | set(['b']):\n",
    "        print(x)\n",
    "    ```\n",
    "1.  ```python\n",
    "    for x in set(['a']) & set(['b']):\n",
    "        print(x)\n",
    "    ```\n"
   ]
  },
  {
   "cell_type": "markdown",
   "metadata": {},
   "source": [
    "## TODO"
   ]
  },
  {
   "cell_type": "code",
   "execution_count": 3,
   "metadata": {},
   "outputs": [
    {
     "name": "stdout",
     "output_type": "stream",
     "text": [
      "('b', 'e')\n",
      "('d', 'e')\n",
      "('g', 'e')\n",
      "('h', 'i')\n",
      "('a', 'e')\n",
      "('f', 'w')\n",
      "('c', 'w')\n"
     ]
    }
   ],
   "source": [
    "s = {('a','e'),('b','e'),('c','w'),('d','e'),('f','w'),('g','e'),('h','i')}\n",
    "\n",
    "# scrivi qui\n",
    "for c in s:\n",
    "    print(c)"
   ]
  },
  {
   "cell_type": "markdown",
   "metadata": {},
   "source": [
    "## Prosegui\n",
    "\n",
    "Continua con [for e dizionari](https://it.softpython.org/for/for6-dictionaries-sol.html)"
   ]
  },
  {
   "cell_type": "code",
   "execution_count": null,
   "metadata": {},
   "outputs": [],
   "source": []
  }
 ],
 "metadata": {
  "kernelspec": {
   "display_name": "Python 3 (ipykernel)",
   "language": "python",
   "name": "python3"
  },
  "language_info": {
   "codemirror_mode": {
    "name": "ipython",
    "version": 3
   },
   "file_extension": ".py",
   "mimetype": "text/x-python",
   "name": "python",
   "nbconvert_exporter": "python",
   "pygments_lexer": "ipython3",
   "version": "3.7.10"
  },
  "toc": {
   "base_numbering": 1,
   "nav_menu": {},
   "number_sections": false,
   "sideBar": true,
   "skip_h1_title": false,
   "title_cell": "Table of Contents",
   "title_sidebar": "Contents",
   "toc_cell": false,
   "toc_position": {},
   "toc_section_display": true,
   "toc_window_display": true
  }
 },
 "nbformat": 4,
 "nbformat_minor": 2
}

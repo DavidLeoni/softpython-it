{
 "cells": [
  {
   "cell_type": "code",
   "execution_count": 1,
   "metadata": {
    "nbsphinx": "hidden"
   },
   "outputs": [],
   "source": [
    "# Ricordati di eseguire questa cella con Shift+Invio\n",
    "\n",
    "import jupman"
   ]
  },
  {
   "cell_type": "markdown",
   "metadata": {},
   "source": [
    "# Controllo di flusso - Cicli for\n",
    "\n",
    "## [Scarica zip esercizi](../_static/generated/for.zip) \n",
    "\n",
    "[Naviga file online](https://github.com/DavidLeoni/softpython-it/tree/master/for)\n",
    "\n",
    "Se vogliamo compiere una o più azioni per ogni elemento di una sequenza avremo bisogno del cosiddetto ciclo `for`, che ci permette di _iterare_ su una sequenza.\n"
   ]
  },
  {
   "cell_type": "markdown",
   "metadata": {},
   "source": [
    "### Che fare\n",
    "\n",
    "1. scompatta lo zip in una cartella, dovresti ottenere qualcosa del genere: \n",
    "\n",
    "```\n",
    "for    \n",
    "    for1-intro.ipynb      \n",
    "    for1-intro-sol.ipynb        \n",
    "    for2-strings.ipynb\n",
    "    for2-strings-sol.ipynb\n",
    "    for3-lists.ipynb\n",
    "    for3-lists-sol.ipynb\n",
    "    for4-tuples.ipynb\n",
    "    for4-tuples-sol.ipynb\n",
    "    for5-sets.ipynb\n",
    "    for5-sets-sol.ipynb    \n",
    "    for6-dictionaries.ipynb\n",
    "    for6-dictionaries-sol.ipynb    \n",
    "    for7-nested.ipynb\n",
    "    for7-nested-sol.ipynb    \n",
    "    for8-chal.ipynb    \n",
    "    jupman.py \n",
    "```\n",
    "\n",
    "<div class=\"alert alert-warning\">\n",
    "\n",
    "**ATTENZIONE**: Per essere visualizzato correttamente, il file del notebook DEVE essere nella cartella szippata.\n",
    "</div>"
   ]
  },
  {
   "cell_type": "markdown",
   "metadata": {},
   "source": [
    "2. apri il Jupyter Notebook da quella cartella. Due cose dovrebbero aprirsi, prima una console e poi un browser. Il browser dovrebbe mostrare una lista di file: naviga la lista e apri il notebook `for1-intro.ipynb`\n",
    "3. Prosegui leggendo il file degli esercizi, ogni tanto al suo interno troverai delle scritte **ESERCIZIO**, che ti chiederanno di scrivere dei comandi Python nelle celle successive.\n",
    "\n",
    "Scorciatoie da tastiera:\n",
    "\n",
    "* Per eseguire il codice Python dentro una cella di Jupyter, premi `Control+Invio`\n",
    "* Per eseguire il codice Python dentro una cella di Jupyter E selezionare la cella seguente, premi `Shift+Invio`\n",
    "* Per eseguire il codice Python dentro una cella di Jupyter E creare una nuova cella subito dopo, premi `Alt+Invio`\n",
    "* Se per caso il Notebook sembra inchiodato, prova a selezionare `Kernel -> Restart`\n",
    "\n"
   ]
  },
  {
   "cell_type": "markdown",
   "metadata": {},
   "source": [
    "## Iterazione per elemento\n",
    "\n",
    "Se abbiamo una sequenza come per esempio una lista:"
   ]
  },
  {
   "cell_type": "code",
   "execution_count": 2,
   "metadata": {},
   "outputs": [],
   "source": [
    "sport = ['pallavolo', 'tennis', 'calcio', 'nuoto']"
   ]
  },
  {
   "cell_type": "markdown",
   "metadata": {},
   "source": [
    "e vogliamo in qualche modo usare ogni elemento della lista (per esempio stamparli), li possiamo scorrere (o meglio, _iterare_) con un ciclo `for`:"
   ]
  },
  {
   "cell_type": "code",
   "execution_count": 3,
   "metadata": {},
   "outputs": [
    {
     "name": "stdout",
     "output_type": "stream",
     "text": [
      "Trovato un elemento!\n",
      "pallavolo\n",
      "Trovato un elemento!\n",
      "tennis\n",
      "Trovato un elemento!\n",
      "calcio\n",
      "Trovato un elemento!\n",
      "nuoto\n",
      "Finito!\n"
     ]
    }
   ],
   "source": [
    "for elemento in sport:\n",
    "    print('Trovato un elemento!')\n",
    "    print(elemento)\n",
    "\n",
    "print('Finito!')"
   ]
  },
  {
   "cell_type": "markdown",
   "metadata": {},
   "source": [
    "Vediamo cosa succede in Python Tutor:"
   ]
  },
  {
   "cell_type": "code",
   "execution_count": 4,
   "metadata": {},
   "outputs": [],
   "source": [
    "# AFFINCHE' PYTHON TUTOR FUNZIONI, RICORDATI DI ESEGUIRE QUESTA CELLA con Shift+Invio\n",
    "#   (basta eseguirla una volta sola, la trovi anche all'inizio di ogni foglio)\n",
    "\n",
    "import jupman"
   ]
  },
  {
   "cell_type": "code",
   "execution_count": 5,
   "metadata": {},
   "outputs": [
    {
     "name": "stdout",
     "output_type": "stream",
     "text": [
      "Trovato un elemento!\n",
      "pallavolo\n",
      "Trovato un elemento!\n",
      "tennis\n",
      "Trovato un elemento!\n",
      "calcio\n",
      "Trovato un elemento!\n",
      "nuoto\n",
      "Finito!\n"
     ]
    },
    {
     "data": {
      "text/html": [
       "        \n",
       "        <script src=\"../_static/js/pytutor-embed.bundle.min.js\" type=\"application/javascript\"></script>\n",
       "    \n",
       "        <style>\n",
       "        @import \"../_static/css/jupman.css\";\n",
       "        </style>\n",
       "     \n",
       "        <script id=\"json-jm-bdd8bf33bb56c368ca38dfc527a5ddeb-7\" type=\"application/json\" >\n",
       "            {\"code\": \" \\nsport = ['pallavolo', 'tennis', 'calcio', 'nuoto']\\nfor elemento in sport:\\n    print('Trovato un elemento!')\\n    print(elemento)\\n\\nprint('Finito!')\", \"trace\": [{\"line\": 2, \"event\": \"step_line\", \"func_name\": \"<module>\", \"globals\": {}, \"ordered_globals\": [], \"stack_to_render\": [], \"heap\": {}, \"stdout\": \"\"}, {\"line\": 3, \"event\": \"step_line\", \"func_name\": \"<module>\", \"globals\": {\"sport\": [\"REF\", 1]}, \"ordered_globals\": [\"sport\"], \"stack_to_render\": [], \"heap\": {\"1\": [\"LIST\", \"pallavolo\", \"tennis\", \"calcio\", \"nuoto\"]}, \"stdout\": \"\"}, {\"line\": 4, \"event\": \"step_line\", \"func_name\": \"<module>\", \"globals\": {\"sport\": [\"REF\", 1], \"elemento\": \"pallavolo\"}, \"ordered_globals\": [\"sport\", \"elemento\"], \"stack_to_render\": [], \"heap\": {\"1\": [\"LIST\", \"pallavolo\", \"tennis\", \"calcio\", \"nuoto\"]}, \"stdout\": \"\"}, {\"line\": 5, \"event\": \"step_line\", \"func_name\": \"<module>\", \"globals\": {\"sport\": [\"REF\", 1], \"elemento\": \"pallavolo\"}, \"ordered_globals\": [\"sport\", \"elemento\"], \"stack_to_render\": [], \"heap\": {\"1\": [\"LIST\", \"pallavolo\", \"tennis\", \"calcio\", \"nuoto\"]}, \"stdout\": \"Trovato un elemento!\\n\"}, {\"line\": 3, \"event\": \"step_line\", \"func_name\": \"<module>\", \"globals\": {\"sport\": [\"REF\", 1], \"elemento\": \"pallavolo\"}, \"ordered_globals\": [\"sport\", \"elemento\"], \"stack_to_render\": [], \"heap\": {\"1\": [\"LIST\", \"pallavolo\", \"tennis\", \"calcio\", \"nuoto\"]}, \"stdout\": \"Trovato un elemento!\\npallavolo\\n\"}, {\"line\": 4, \"event\": \"step_line\", \"func_name\": \"<module>\", \"globals\": {\"sport\": [\"REF\", 1], \"elemento\": \"tennis\"}, \"ordered_globals\": [\"sport\", \"elemento\"], \"stack_to_render\": [], \"heap\": {\"1\": [\"LIST\", \"pallavolo\", \"tennis\", \"calcio\", \"nuoto\"]}, \"stdout\": \"Trovato un elemento!\\npallavolo\\n\"}, {\"line\": 5, \"event\": \"step_line\", \"func_name\": \"<module>\", \"globals\": {\"sport\": [\"REF\", 1], \"elemento\": \"tennis\"}, \"ordered_globals\": [\"sport\", \"elemento\"], \"stack_to_render\": [], \"heap\": {\"1\": [\"LIST\", \"pallavolo\", \"tennis\", \"calcio\", \"nuoto\"]}, \"stdout\": \"Trovato un elemento!\\npallavolo\\nTrovato un elemento!\\n\"}, {\"line\": 3, \"event\": \"step_line\", \"func_name\": \"<module>\", \"globals\": {\"sport\": [\"REF\", 1], \"elemento\": \"tennis\"}, \"ordered_globals\": [\"sport\", \"elemento\"], \"stack_to_render\": [], \"heap\": {\"1\": [\"LIST\", \"pallavolo\", \"tennis\", \"calcio\", \"nuoto\"]}, \"stdout\": \"Trovato un elemento!\\npallavolo\\nTrovato un elemento!\\ntennis\\n\"}, {\"line\": 4, \"event\": \"step_line\", \"func_name\": \"<module>\", \"globals\": {\"sport\": [\"REF\", 1], \"elemento\": \"calcio\"}, \"ordered_globals\": [\"sport\", \"elemento\"], \"stack_to_render\": [], \"heap\": {\"1\": [\"LIST\", \"pallavolo\", \"tennis\", \"calcio\", \"nuoto\"]}, \"stdout\": \"Trovato un elemento!\\npallavolo\\nTrovato un elemento!\\ntennis\\n\"}, {\"line\": 5, \"event\": \"step_line\", \"func_name\": \"<module>\", \"globals\": {\"sport\": [\"REF\", 1], \"elemento\": \"calcio\"}, \"ordered_globals\": [\"sport\", \"elemento\"], \"stack_to_render\": [], \"heap\": {\"1\": [\"LIST\", \"pallavolo\", \"tennis\", \"calcio\", \"nuoto\"]}, \"stdout\": \"Trovato un elemento!\\npallavolo\\nTrovato un elemento!\\ntennis\\nTrovato un elemento!\\n\"}, {\"line\": 3, \"event\": \"step_line\", \"func_name\": \"<module>\", \"globals\": {\"sport\": [\"REF\", 1], \"elemento\": \"calcio\"}, \"ordered_globals\": [\"sport\", \"elemento\"], \"stack_to_render\": [], \"heap\": {\"1\": [\"LIST\", \"pallavolo\", \"tennis\", \"calcio\", \"nuoto\"]}, \"stdout\": \"Trovato un elemento!\\npallavolo\\nTrovato un elemento!\\ntennis\\nTrovato un elemento!\\ncalcio\\n\"}, {\"line\": 4, \"event\": \"step_line\", \"func_name\": \"<module>\", \"globals\": {\"sport\": [\"REF\", 1], \"elemento\": \"nuoto\"}, \"ordered_globals\": [\"sport\", \"elemento\"], \"stack_to_render\": [], \"heap\": {\"1\": [\"LIST\", \"pallavolo\", \"tennis\", \"calcio\", \"nuoto\"]}, \"stdout\": \"Trovato un elemento!\\npallavolo\\nTrovato un elemento!\\ntennis\\nTrovato un elemento!\\ncalcio\\n\"}, {\"line\": 5, \"event\": \"step_line\", \"func_name\": \"<module>\", \"globals\": {\"sport\": [\"REF\", 1], \"elemento\": \"nuoto\"}, \"ordered_globals\": [\"sport\", \"elemento\"], \"stack_to_render\": [], \"heap\": {\"1\": [\"LIST\", \"pallavolo\", \"tennis\", \"calcio\", \"nuoto\"]}, \"stdout\": \"Trovato un elemento!\\npallavolo\\nTrovato un elemento!\\ntennis\\nTrovato un elemento!\\ncalcio\\nTrovato un elemento!\\n\"}, {\"line\": 3, \"event\": \"step_line\", \"func_name\": \"<module>\", \"globals\": {\"sport\": [\"REF\", 1], \"elemento\": \"nuoto\"}, \"ordered_globals\": [\"sport\", \"elemento\"], \"stack_to_render\": [], \"heap\": {\"1\": [\"LIST\", \"pallavolo\", \"tennis\", \"calcio\", \"nuoto\"]}, \"stdout\": \"Trovato un elemento!\\npallavolo\\nTrovato un elemento!\\ntennis\\nTrovato un elemento!\\ncalcio\\nTrovato un elemento!\\nnuoto\\n\"}, {\"line\": 7, \"event\": \"step_line\", \"func_name\": \"<module>\", \"globals\": {\"sport\": [\"REF\", 1], \"elemento\": \"nuoto\"}, \"ordered_globals\": [\"sport\", \"elemento\"], \"stack_to_render\": [], \"heap\": {\"1\": [\"LIST\", \"pallavolo\", \"tennis\", \"calcio\", \"nuoto\"]}, \"stdout\": \"Trovato un elemento!\\npallavolo\\nTrovato un elemento!\\ntennis\\nTrovato un elemento!\\ncalcio\\nTrovato un elemento!\\nnuoto\\n\"}, {\"line\": 7, \"event\": \"return\", \"func_name\": \"<module>\", \"globals\": {\"sport\": [\"REF\", 1], \"elemento\": \"nuoto\"}, \"ordered_globals\": [\"sport\", \"elemento\"], \"stack_to_render\": [], \"heap\": {\"1\": [\"LIST\", \"pallavolo\", \"tennis\", \"calcio\", \"nuoto\"]}, \"stdout\": \"Trovato un elemento!\\npallavolo\\nTrovato un elemento!\\ntennis\\nTrovato un elemento!\\ncalcio\\nTrovato un elemento!\\nnuoto\\nFinito!\\n\"}]}\n",
       "        </script>\n",
       "        <div id=\"jm-bdd8bf33bb56c368ca38dfc527a5ddeb-7\" class=\"pytutorVisualizer\"> </div>\n",
       "                        \n",
       "        <script>\n",
       "        \n",
       "        (function(){\n",
       "            console.log(\"jupman.py embedded javascript: adding Python tutor visualizer...\")\n",
       "            \n",
       "            var trace = JSON.parse(document.getElementById('json-jm-bdd8bf33bb56c368ca38dfc527a5ddeb-7').innerHTML);                                        \n",
       "            // NOTE: id without #\n",
       "                    \n",
       "            addVisualizerToPage(trace, 'jm-bdd8bf33bb56c368ca38dfc527a5ddeb-7',{'embeddedMode' : false,\n",
       "                                             'disableHeapNesting': true,\n",
       "                                             'visualizerIdOverride':'viz-jm-bdd8bf33bb56c368ca38dfc527a5ddeb-7'})  \n",
       "            \n",
       "            \n",
       "            // set overflow for pytuts - need to do in python as css \n",
       "            // does not allow parent selection\n",
       "            var pytuts = $('.pytutorVisualizer')\n",
       "            pytuts.closest('div.output_html.rendered_html.output_result')\n",
       "                    .css('overflow-x', 'visible')\n",
       "        \n",
       "            //pytuts.closest('div.output_html.rendered_html.output_result')\n",
       "            //      .css('background-color','red')                \n",
       "            \n",
       "        })()\n",
       "        </script>\n",
       "                \n",
       "    \n",
       "    <div style=\"text-align:center; font-size:0.9em\"> <a href=\"https://pythontutor.com/visualize.html#mode=edit\" target=\"_blank\">Python Tutor</a> visualization</div> \n",
       "    "
      ],
      "text/plain": [
       "<IPython.core.display.HTML object>"
      ]
     },
     "execution_count": 5,
     "metadata": {},
     "output_type": "execute_result"
    }
   ],
   "source": [
    "sport = ['pallavolo', 'tennis', 'calcio', 'nuoto']\n",
    "for elemento in sport:\n",
    "    print('Trovato un elemento!')\n",
    "    print(elemento)\n",
    "\n",
    "print('Finito!')\n",
    "\n",
    "jupman.pytut()"
   ]
  },
  {
   "cell_type": "markdown",
   "metadata": {},
   "source": [
    "### Nomi variabili nei `for`\n",
    "\n",
    "Ad ogni iterazione, un elemento della lista viene assegnato alla variabile `elemento`. \n",
    "\n",
    "Come nome per la variabile possiamo scegliere quello che ci pare, per esempio questo codice è totalmente equivalente al precedente: "
   ]
  },
  {
   "cell_type": "code",
   "execution_count": 6,
   "metadata": {},
   "outputs": [
    {
     "name": "stdout",
     "output_type": "stream",
     "text": [
      "Trovato un elemento!\n",
      "pallavolo\n",
      "Trovato un elemento!\n",
      "tennis\n",
      "Trovato un elemento!\n",
      "calcio\n",
      "Trovato un elemento!\n",
      "nuoto\n",
      "Finito!\n"
     ]
    }
   ],
   "source": [
    "sport = ['pallavolo', 'tennis', 'calcio', 'nuoto']\n",
    "for nome in sport:\n",
    "    print('Trovato un elemento!')\n",
    "    print(nome)\n",
    "    \n",
    "print('Finito!')    "
   ]
  },
  {
   "cell_type": "markdown",
   "metadata": {},
   "source": [
    "Bisogna però fare attenzione ad una cosa:\n",
    "\n",
    "<div class=\"jupman-alert-principle\"></div>\n",
    "<div class=\"alert alert-info\">\n",
    "\n",
    "[II COMANDAMENTO](https://it.softpython.org/commandments.html#II-COMANDAMENTO): **Quando inserisci una variabile in un ciclo** `for` **, questa variabile deve essere nuova**\n",
    "    \n",
    "</div>    "
   ]
  },
  {
   "cell_type": "markdown",
   "metadata": {},
   "source": [
    "Se hai definito la variabile prima, non la reintrodurrai in un `for`, perchè ciò portebbe gran confusione.\n",
    "\n",
    "Per esempio:"
   ]
  },
  {
   "cell_type": "code",
   "execution_count": 7,
   "metadata": {},
   "outputs": [
    {
     "name": "stdout",
     "output_type": "stream",
     "text": [
      "pallavolo\n",
      "tennis\n",
      "calcio\n",
      "nuoto\n",
      "nuoto\n"
     ]
    }
   ],
   "source": [
    "sport = ['pallavolo', 'tennis', 'calcio', 'nuoto']\n",
    "prova = 'ciao' \n",
    "\n",
    "for prova in sport:  # perdi la variabile  prova  originale\n",
    "    print(prova)\n",
    "\n",
    "print(prova)         # stampa 'nuoto' invece di 'ciao'"
   ]
  },
  {
   "cell_type": "markdown",
   "metadata": {},
   "source": [
    "### Iterare in stringhe\n",
    "\n",
    "Le stringhe sono sequenze di caratteri perciò possiamo iterarle con il `for`:"
   ]
  },
  {
   "cell_type": "code",
   "execution_count": 8,
   "metadata": {},
   "outputs": [
    {
     "name": "stdout",
     "output_type": "stream",
     "text": [
      "c\n",
      "i\n",
      "a\n",
      "o\n"
     ]
    }
   ],
   "source": [
    "for carattere in \"ciao\":\n",
    "    print(carattere)"
   ]
  },
  {
   "cell_type": "markdown",
   "metadata": {},
   "source": [
    "### Iterare in tuple\n",
    "\n",
    "Anche le tuple sono sequenze quindi possiamo iterarle:"
   ]
  },
  {
   "cell_type": "code",
   "execution_count": 9,
   "metadata": {},
   "outputs": [
    {
     "name": "stdout",
     "output_type": "stream",
     "text": [
      "sto\n",
      "visitando\n",
      "una\n",
      "tupla\n"
     ]
    }
   ],
   "source": [
    "for parola in ('sto', 'visitando', 'una', 'tupla'):\n",
    "    print(parola)"
   ]
  },
  {
   "cell_type": "markdown",
   "metadata": {},
   "source": [
    "\n",
    "### Domande - iterazione\n",
    "\n",
    "Guarda i seguenti frammenti di codice, e per ciascuno cerca di indovinare quale risultato produce (o se da errore):\n",
    "\n",
    "    \n",
    "1.  ```python\n",
    "    for i in [1,2,3]:\n",
    "        print(i)\n",
    "    ```\n",
    "    \n",
    "1.  ```python\n",
    "    for x in 7:\n",
    "        print(x)\n",
    "    ```\n",
    "1.  ```python\n",
    "    for x in [7]:\n",
    "        print(x)\n",
    "    ```    \n",
    "1.  ```python\n",
    "    for x in ['a','b','c']:        \n",
    "        x\n",
    "    ```    \n",
    "1.  ```python\n",
    "    for i in []:\n",
    "        print('GURB')\n",
    "    ```    \n",
    "1.  ```python\n",
    "    for i in [1,2,3]:\n",
    "        print(type(i))\n",
    "    ```\n",
    "1.  ```python\n",
    "    for i in '123':\n",
    "        print(type(i))    \n",
    "    ```\n",
    "1.  ```python\n",
    "    for i in 'abc':\n",
    "        print(i)\n",
    "    ```    \n",
    "1.  ```python\n",
    "    for x in ((4,5,6)):\n",
    "        print(x)\n",
    "    ```\n",
    "1.  ```python\n",
    "    for x in [[1],[2,3],[4,5,6]]:\n",
    "        print(x)\n",
    "    ```\n",
    "1.  ```python\n",
    "    x = 5\n",
    "    for x in ['a','b','c']:\n",
    "        print(x)\n",
    "    print(x)\n",
    "    ```\n",
    "1.  ```python\n",
    "    for x in ['a','b','c']:        \n",
    "        pass\n",
    "    print(x)\n",
    "    ```\n",
    "1.  ```python\n",
    "    for x in [1,2,3,4,5,6,7,8]:\n",
    "        if x % 2 == 0:\n",
    "            print(x)\n",
    "    ```\n",
    "1.  ```python\n",
    "    la = [4,5,6]\n",
    "    for x in la:\n",
    "        print(x)\n",
    "    la.reverse()\n",
    "    for x in la[1:]:\n",
    "        print(x)    \n",
    "    ```"
   ]
  },
  {
   "cell_type": "markdown",
   "metadata": {},
   "source": [
    "### Esercizio - tappeto magico\n",
    "\n",
    "✪ Qualche mese fa hai acquistato un tappeto da un venditore ambulante. Tempo dopo, alla fine di un giorno particolarmente stressante,  esclami 'Ah quanto vorrei andare in vacanza in qualche posto esotico, che so, a _Marrakesh_!' Con sorpresa, il tappeto si alza in aria e risponde: 'Ho sentito e obbedisco!'\n",
    "\n",
    "Scrivi del codice che data le liste di luoghi `vaggio1` e `viaggio2` stampa tutte le tappe visitate.\n",
    "\n",
    "Esempio - dati:\n",
    "\n",
    "```python\n",
    "viaggio1 = ['Marrakesh','Fez','Bazaar','Kasbah']\n",
    "viaggio2 = ['Koutoubia', 'El Badii', 'Chellah']\n",
    "```\n",
    "\n",
    "Stampa:\n",
    "```\n",
    "Inizia il primo viaggio\n",
    "        Tu: Andiamo a  Marrakesh !\n",
    "   Tappeto: Ho sentito e obbedisco!\n",
    "        Tu: Andiamo a  Fez !\n",
    "   Tappeto: Ho sentito e obbedisco!\n",
    "        Tu: Andiamo a  Bazaar !\n",
    "   Tappeto: Ho sentito e obbedisco!\n",
    "        Tu: Andiamo a  Kasbah !\n",
    "   Tappeto: Ho sentito e obbedisco!\n",
    "Fine del primo viaggio\n",
    "\n",
    "Inizia il secondo viaggio\n",
    "        Tu: Andiamo a  Koutoubia !\n",
    "   Tappeto: Ho sentito e obbedisco!\n",
    "        Tu: Andiamo a  El Badii !\n",
    "   Tappeto: Ho sentito e obbedisco!\n",
    "        Tu: Andiamo a  Chellah !\n",
    "   Tappeto: Ho sentito e obbedisco!\n",
    "Fine del secondo viaggio\n",
    "```"
   ]
  },
  {
   "cell_type": "raw",
   "id": "c36bad98",
   "metadata": {
    "format": "text/html"
   },
   "source": [
    "<a  class=\"jupman-sol jupman-sol-toggler\" \n",
    " onclick=\"jupman.toggleSolution(this);\" \n",
    " data-jupman-show=\"Mostra soluzione\" data-jupman-hide=\"Nascondi\">Mostra soluzione</a><div class=\"jupman-sol jupman-sol-code\" style=\"display:none\">  "
   ]
  },
  {
   "cell_type": "code",
   "execution_count": 10,
   "metadata": {
    "scrolled": true
   },
   "outputs": [
    {
     "name": "stdout",
     "output_type": "stream",
     "text": [
      "Inizia il primo viaggio\n",
      "        Tu: Andiamo a  Marrakesh !\n",
      "   Tappeto: Ho sentito e obbedisco!\n",
      "        Tu: Andiamo a  Fez !\n",
      "   Tappeto: Ho sentito e obbedisco!\n",
      "        Tu: Andiamo a  Bazaar !\n",
      "   Tappeto: Ho sentito e obbedisco!\n",
      "        Tu: Andiamo a  Kasbah !\n",
      "   Tappeto: Ho sentito e obbedisco!\n",
      "Fine del primo viaggio\n",
      "\n",
      "Inizia il secondo viaggio\n",
      "        Tu: Andiamo a  Koutoubia !\n",
      "   Tappeto: Ho sentito e obbedisco!\n",
      "        Tu: Andiamo a  El Badii !\n",
      "   Tappeto: Ho sentito e obbedisco!\n",
      "        Tu: Andiamo a  Chellah !\n",
      "   Tappeto: Ho sentito e obbedisco!\n",
      "Fine del secondo viaggio\n"
     ]
    }
   ],
   "source": [
    "\n",
    "viaggio1 = ['Marrakesh','Fez','Bazaar','Kasbah']\n",
    "viaggio2 = ['Koutoubia', 'El Badii', 'Chellah']\n",
    "\n",
    "\n",
    "# scrivi qui\n",
    "print('Inizia il primo viaggio')\n",
    "for luogo in viaggio1:\n",
    "    print('        Tu: Andiamo a ',luogo,'!')\n",
    "    print('   Tappeto: Ho sentito e obbedisco!')\n",
    "print('Fine del primo viaggio')\n",
    "\n",
    "print()\n",
    "\n",
    "print('Inizia il secondo viaggio')\n",
    "for luogo in viaggio2:\n",
    "    print('        Tu: Andiamo a ',luogo,'!')\n",
    "    print('   Tappeto: Ho sentito e obbedisco!')\n",
    "print('Fine del secondo viaggio')"
   ]
  },
  {
   "cell_type": "raw",
   "id": "39a4024b",
   "metadata": {
    "format": "text/html"
   },
   "source": [
    "</div>"
   ]
  },
  {
   "cell_type": "code",
   "execution_count": 10,
   "metadata": {
    "scrolled": true
   },
   "outputs": [],
   "source": [
    "\n",
    "viaggio1 = ['Marrakesh','Fez','Bazaar','Kasbah']\n",
    "viaggio2 = ['Koutoubia', 'El Badii', 'Chellah']\n",
    "\n",
    "\n",
    "# scrivi qui\n",
    "\n"
   ]
  },
  {
   "cell_type": "markdown",
   "metadata": {},
   "source": [
    "### Esercizio - sommapari\n",
    "\n",
    "✪ Data la lista `numeri`, scrivi del codice che calcola e stampa la somma degli **elementi** pari (**non** gli elementi ad indici pari !)\n",
    "\n",
    "Esempio - data:\n",
    "\n",
    "```python\n",
    "numeri = [3,4,1,5,12,7,9]\n",
    "```\n",
    "\n",
    "trova `4` e `12` quindi deve stampare:\n",
    "\n",
    "```\n",
    "16\n",
    "```"
   ]
  },
  {
   "cell_type": "raw",
   "id": "36554872",
   "metadata": {
    "format": "text/html"
   },
   "source": [
    "<a  class=\"jupman-sol jupman-sol-toggler\" \n",
    " onclick=\"jupman.toggleSolution(this);\" \n",
    " data-jupman-show=\"Mostra soluzione\" data-jupman-hide=\"Nascondi\">Mostra soluzione</a><div class=\"jupman-sol jupman-sol-code\" style=\"display:none\">  "
   ]
  },
  {
   "cell_type": "code",
   "execution_count": 11,
   "metadata": {},
   "outputs": [
    {
     "name": "stdout",
     "output_type": "stream",
     "text": [
      "16\n"
     ]
    }
   ],
   "source": [
    "\n",
    "numeri = [3,4,1,5,12,7,9]\n",
    "\n",
    "# scrivi qui\n",
    "s = 0\n",
    "for x in numeri:\n",
    "    if x % 2 == 0:\n",
    "        s += x\n",
    "print(s)"
   ]
  },
  {
   "cell_type": "raw",
   "id": "21502687",
   "metadata": {
    "format": "text/html"
   },
   "source": [
    "</div>"
   ]
  },
  {
   "cell_type": "code",
   "execution_count": 11,
   "metadata": {},
   "outputs": [],
   "source": [
    "\n",
    "numeri = [3,4,1,5,12,7,9]\n",
    "\n",
    "# scrivi qui\n",
    "\n"
   ]
  },
  {
   "cell_type": "markdown",
   "metadata": {},
   "source": [
    "### Esercizio - birbantello\n",
    "\n",
    "✪ Data una stringa in minuscolo, scrivere del codice che stampa ogni carattere in maiuscolo seguito dal carattere in minuscolo.\n",
    "\n",
    "* **SUGGERIMENTO**: per ottenere caratteri in maiuscolo usa il metodo `.upper()`\n",
    "\n",
    "Esempio - data:\n",
    "\n",
    "```python\n",
    "s = \"birbantello\"\n",
    "```\n",
    "\n",
    "Stampa:\n",
    "\n",
    "```\n",
    "B b\n",
    "I i\n",
    "R r\n",
    "B b\n",
    "A a\n",
    "N n\n",
    "T t\n",
    "E e\n",
    "L l\n",
    "L l\n",
    "O o\n",
    "```"
   ]
  },
  {
   "cell_type": "raw",
   "id": "931bf1c0",
   "metadata": {
    "format": "text/html"
   },
   "source": [
    "<a  class=\"jupman-sol jupman-sol-toggler\" \n",
    " onclick=\"jupman.toggleSolution(this);\" \n",
    " data-jupman-show=\"Mostra soluzione\" data-jupman-hide=\"Nascondi\">Mostra soluzione</a><div class=\"jupman-sol jupman-sol-code\" style=\"display:none\">  "
   ]
  },
  {
   "cell_type": "code",
   "execution_count": 12,
   "metadata": {},
   "outputs": [
    {
     "name": "stdout",
     "output_type": "stream",
     "text": [
      "B b\n",
      "I i\n",
      "R r\n",
      "B b\n",
      "A a\n",
      "N n\n",
      "T t\n",
      "E e\n",
      "L l\n",
      "L l\n",
      "O o\n"
     ]
    }
   ],
   "source": [
    "\n",
    "s = \"birbantello\"\n",
    "\n",
    "# scrivi qui\n",
    "for x in s:\n",
    "    print(x.upper(), x)"
   ]
  },
  {
   "cell_type": "raw",
   "id": "7eb30a76",
   "metadata": {
    "format": "text/html"
   },
   "source": [
    "</div>"
   ]
  },
  {
   "cell_type": "code",
   "execution_count": 12,
   "metadata": {},
   "outputs": [],
   "source": [
    "\n",
    "s = \"birbantello\"\n",
    "\n",
    "# scrivi qui\n",
    "\n"
   ]
  },
  {
   "cell_type": "markdown",
   "metadata": {},
   "source": [
    "### Esercizio - dirigibile\n",
    "\n",
    "✪ A Pierino viene fatta imparare una nuova `parola`. Pierino conosce tante lettere dell'alfabeto ma non tutte. Per ricordarsi quelle che conosce, le tratta come personaggi che divide in 3 categorie: `belli`, `brutti` e `cattivi`. Scrivi del codice che data una `parola` stampa tutti i caratteri e per ciascuno indica se è bello, brutto o cattivo. Se un carattere non è conosciuto da Pierino, stampa 'non mi interessa'.\n",
    "\n",
    "Esempio - dati:\n",
    "\n",
    "```python\n",
    "parola = 'dirigibile'\n",
    "\n",
    "belli = 'abcd'\n",
    "brutti = 'efgh'\n",
    "cattivi = 'ilm'\n",
    "```\n",
    "\n",
    "\n",
    "Stampa:\n",
    "\n",
    "```\n",
    "d è bello\n",
    "i è cattivo\n",
    "r non mi interessa\n",
    "i è cattivo\n",
    "g è brutto\n",
    "i è cattivo\n",
    "b è bello\n",
    "i è cattivo\n",
    "l è cattivo\n",
    "e è brutto\n",
    "```\n",
    "\n"
   ]
  },
  {
   "cell_type": "raw",
   "id": "e2945a45",
   "metadata": {
    "format": "text/html"
   },
   "source": [
    "<a  class=\"jupman-sol jupman-sol-toggler\" \n",
    " onclick=\"jupman.toggleSolution(this);\" \n",
    " data-jupman-show=\"Mostra soluzione\" data-jupman-hide=\"Nascondi\">Mostra soluzione</a><div class=\"jupman-sol jupman-sol-code\" style=\"display:none\">  "
   ]
  },
  {
   "cell_type": "code",
   "execution_count": 13,
   "metadata": {},
   "outputs": [
    {
     "name": "stdout",
     "output_type": "stream",
     "text": [
      "d è bello\n",
      "i è cattivo\n",
      "r non mi interessa\n",
      "i è cattivo\n",
      "g è brutto\n",
      "i è cattivo\n",
      "b è bello\n",
      "i è cattivo\n",
      "l è cattivo\n",
      "e è brutto\n"
     ]
    }
   ],
   "source": [
    "\n",
    "parola = 'dirigibile'\n",
    "\n",
    "belli = 'abcd'\n",
    "brutti = 'efgh'\n",
    "cattivi = 'ilm'\n",
    "\n",
    "# scrivi qui\n",
    "\n",
    "for c in parola:\n",
    "    if c in belli:\n",
    "        print(c,'è bello')\n",
    "    elif c in brutti:\n",
    "        print(c, 'è brutto')\n",
    "    elif c in cattivi:\n",
    "        print(c, 'è cattivo')\n",
    "    else:\n",
    "        print(c, 'non mi interessa')\n",
    "        "
   ]
  },
  {
   "cell_type": "raw",
   "id": "ca15cdce",
   "metadata": {
    "format": "text/html"
   },
   "source": [
    "</div>"
   ]
  },
  {
   "cell_type": "code",
   "execution_count": 13,
   "metadata": {},
   "outputs": [],
   "source": [
    "\n",
    "parola = 'dirigibile'\n",
    "\n",
    "belli = 'abcd'\n",
    "brutti = 'efgh'\n",
    "cattivi = 'ilm'\n",
    "\n",
    "# scrivi qui\n",
    "\n"
   ]
  },
  {
   "cell_type": "markdown",
   "metadata": {},
   "source": [
    "### Esercizio - gala\n",
    "\n",
    "✪ Ad un evento di gala vengono invitate figure altolocate della società. All'inizio della serata sono aperte le porte e gli ospiti si mettono in `coda` all'ingresso. Sfortunatamente, a queste occasioni cercano sempre di presentarsi anche personaggi poco raccomandabili, perciò al concierge nell'atrio viene consegnato un insieme di ospiti `sgraditi`. Qualora un ospite sia riconosciuto come non gradito, verrà affidato alle capaci mani del buttafuori Ferruccio. Gli ospiti illustri vengono invece segnati nella lista `ammessi`. \n",
    "\n",
    "Scrivi del codice che stampa i vari passi del ricevimento.\n",
    "\n",
    "Esempio - dati:\n",
    "\n",
    "```python\n",
    "coda = ['Console','Notaio','Scheletro','Rettore','Goblin','Vampiro', 'Gioielliere']\n",
    "sgraditi = {'Vampiro','Goblin','Scheletro'}\n",
    "ammessi = []\n",
    "```"
   ]
  },
  {
   "cell_type": "markdown",
   "metadata": {},
   "source": [
    "Stampa:\n",
    "\n",
    "```\n",
    "Aprite le porte!\n",
    "\n",
    "Buonasera Signor Console\n",
    "  Prego Eccellenza, entri pure\n",
    "  Avanti il prossimo !\n",
    "Buonasera Signor Notaio\n",
    "  Prego Eccellenza, entri pure\n",
    "  Avanti il prossimo !\n",
    "Buonasera Signor Scheletro\n",
    "  Ferruccio, vuoi prenderti cura del signor Scheletro ?\n",
    "  Avanti il prossimo !\n",
    "Buonasera Signor Rettore\n",
    "  Prego Eccellenza, entri pure\n",
    "  Avanti il prossimo !\n",
    "Buonasera Signor Goblin\n",
    "  Ferruccio, vuoi prenderti cura del signor Goblin ?\n",
    "  Avanti il prossimo !\n",
    "Buonasera Signor Vampiro\n",
    "  Ferruccio, vuoi prenderti cura del signor Vampiro ?\n",
    "  Avanti il prossimo !\n",
    "Buonasera Signor Gioielliere\n",
    "  Prego Eccellenza, entri pure\n",
    "  Avanti il prossimo !\n",
    "\n",
    "Sono stati ammessi i signori Console, Notaio, Rettore, Gioielliere\n",
    "```"
   ]
  },
  {
   "cell_type": "raw",
   "id": "39fef7f9",
   "metadata": {
    "format": "text/html"
   },
   "source": [
    "<a  class=\"jupman-sol jupman-sol-toggler\" \n",
    " onclick=\"jupman.toggleSolution(this);\" \n",
    " data-jupman-show=\"Mostra soluzione\" data-jupman-hide=\"Nascondi\">Mostra soluzione</a><div class=\"jupman-sol jupman-sol-code\" style=\"display:none\">  "
   ]
  },
  {
   "cell_type": "code",
   "execution_count": 14,
   "metadata": {},
   "outputs": [
    {
     "name": "stdout",
     "output_type": "stream",
     "text": [
      "Aprite le porte!\n",
      "\n",
      "Buonasera Signor Console\n",
      "  Prego Eccellenza, entri pure\n",
      "  Avanti il prossimo !\n",
      "Buonasera Signor Notaio\n",
      "  Prego Eccellenza, entri pure\n",
      "  Avanti il prossimo !\n",
      "Buonasera Signor Scheletro\n",
      "  Ferruccio, vuoi prenderti cura del signor Scheletro ?\n",
      "  Avanti il prossimo !\n",
      "Buonasera Signor Rettore\n",
      "  Prego Eccellenza, entri pure\n",
      "  Avanti il prossimo !\n",
      "Buonasera Signor Goblin\n",
      "  Ferruccio, vuoi prenderti cura del signor Goblin ?\n",
      "  Avanti il prossimo !\n",
      "Buonasera Signor Vampiro\n",
      "  Ferruccio, vuoi prenderti cura del signor Vampiro ?\n",
      "  Avanti il prossimo !\n",
      "Buonasera Signor Gioielliere\n",
      "  Prego Eccellenza, entri pure\n",
      "  Avanti il prossimo !\n",
      "\n",
      "Sono stati ammessi i signori Console, Notaio, Rettore, Gioielliere\n"
     ]
    }
   ],
   "source": [
    "\n",
    "coda = ['Console','Notaio','Scheletro','Rettore','Goblin','Vampiro', 'Gioielliere']\n",
    "sgraditi = {'Vampiro','Goblin','Scheletro'}\n",
    "ammessi = []\n",
    "\n",
    "# scrivi qui\n",
    "print('Aprite le porte!')\n",
    "print()\n",
    "for ospite in coda:\n",
    "    \n",
    "    print('Buonasera Signor', ospite)\n",
    "    if ospite in sgraditi:\n",
    "        print(\"  Ferruccio, vuoi prenderti cura del signor\", ospite, '?')\n",
    "    else:\n",
    "        print(\"  Prego Eccellenza, entri pure\")\n",
    "        ammessi.append(ospite)\n",
    "    print('  Avanti il prossimo !')\n",
    "    \n",
    "print()\n",
    "print('Sono stati ammessi i signori', ', '.join(ammessi))"
   ]
  },
  {
   "cell_type": "raw",
   "id": "37fef9a4",
   "metadata": {
    "format": "text/html"
   },
   "source": [
    "</div>"
   ]
  },
  {
   "cell_type": "code",
   "execution_count": 14,
   "metadata": {},
   "outputs": [],
   "source": [
    "\n",
    "coda = ['Console','Notaio','Scheletro','Rettore','Goblin','Vampiro', 'Gioielliere']\n",
    "sgraditi = {'Vampiro','Goblin','Scheletro'}\n",
    "ammessi = []\n",
    "\n",
    "# scrivi qui\n",
    "\n"
   ]
  },
  {
   "cell_type": "markdown",
   "metadata": {},
   "source": [
    "### Esercizio - bilancia\n",
    "\n",
    "✪✪ E' stato fatto un raccolto di sementi, che verranno messe in un certo numero di `sacchi` da `capienza` kg l'uno (es `15`). \n",
    "\n",
    "Le sementi arrivano in `recipienti` di capacità variabile. Ogni recipiente viene messo su una bilancia e il suo contenuto versato nel sacco corrente. Nel momento in cui si arriva alla quantità `capienza`, la bilancia si svuota, il sacco viene sostituito con uno nuovo e si comincia a riempire quello nuovo partendo dagli eventuali resti in eccesso dal riempimento precedente. Scrivi del codice che stampa il procedimento.\n",
    "\n",
    "Esempio - dati:\n",
    "\n",
    "```python\n",
    "recipienti = [5,1,7,4,3,9,5,2,7,3]\n",
    "capienza = 15\n",
    "```\n",
    "\n",
    "Stampa:\n",
    "\n",
    "```\n",
    "Raccolto 5 kg\n",
    "La bilancia segna 5 kg\n",
    "Raccolto 1 kg\n",
    "La bilancia segna 6 kg\n",
    "Raccolto 7 kg\n",
    "La bilancia segna 13 kg\n",
    "Raccolto 4 kg\n",
    "La bilancia segna 17 kg\n",
    "Abbiamo raggiunto la capienza di 15 kg, avanzano 2 kg\n",
    "\n",
    "Raccolto 3 kg\n",
    "La bilancia segna 5 kg\n",
    "Raccolto 9 kg\n",
    "La bilancia segna 14 kg\n",
    "Raccolto 5 kg\n",
    "La bilancia segna 19 kg\n",
    "Abbiamo raggiunto la capienza di 15 kg, avanzano 4 kg\n",
    "\n",
    "Raccolto 2 kg\n",
    "La bilancia segna 6 kg\n",
    "Raccolto 7 kg\n",
    "La bilancia segna 13 kg\n",
    "Raccolto 3 kg\n",
    "La bilancia segna 16 kg\n",
    "Abbiamo raggiunto la capienza di 15 kg, avanzano 1 kg\n",
    "\n",
    "Abbiamo riempito 3 sacchi\n",
    "```"
   ]
  },
  {
   "cell_type": "raw",
   "id": "34f3ce9e",
   "metadata": {
    "format": "text/html"
   },
   "source": [
    "<a  class=\"jupman-sol jupman-sol-toggler\" \n",
    " onclick=\"jupman.toggleSolution(this);\" \n",
    " data-jupman-show=\"Mostra soluzione\" data-jupman-hide=\"Nascondi\">Mostra soluzione</a><div class=\"jupman-sol jupman-sol-code\" style=\"display:none\">  "
   ]
  },
  {
   "cell_type": "code",
   "execution_count": 15,
   "metadata": {},
   "outputs": [
    {
     "name": "stdout",
     "output_type": "stream",
     "text": [
      "Raccolto 5 kg\n",
      "La bilancia segna 5 kg\n",
      "Raccolto 1 kg\n",
      "La bilancia segna 6 kg\n",
      "Raccolto 7 kg\n",
      "La bilancia segna 13 kg\n",
      "Raccolto 4 kg\n",
      "La bilancia segna 17 kg\n",
      "Abbiamo raggiunto la capienza di 15 kg, avanzano 2 kg\n",
      "\n",
      "Raccolto 3 kg\n",
      "La bilancia segna 5 kg\n",
      "Raccolto 9 kg\n",
      "La bilancia segna 14 kg\n",
      "Raccolto 5 kg\n",
      "La bilancia segna 19 kg\n",
      "Abbiamo raggiunto la capienza di 15 kg, avanzano 4 kg\n",
      "\n",
      "Raccolto 2 kg\n",
      "La bilancia segna 6 kg\n",
      "Raccolto 7 kg\n",
      "La bilancia segna 13 kg\n",
      "Raccolto 3 kg\n",
      "La bilancia segna 16 kg\n",
      "Abbiamo raggiunto la capienza di 15 kg, avanzano 1 kg\n",
      "\n",
      "Abbiamo riempito 3 sacchi\n"
     ]
    }
   ],
   "source": [
    "\n",
    "recipienti = [5,1,7,4,3,9,5,2,7,3]\n",
    "capienza = 15\n",
    "\n",
    "# scrivi qui\n",
    "sacchi= 0\n",
    "k = 0\n",
    "for n in recipienti:\n",
    "    k += n\n",
    "    print('Raccolto', n, 'kg')\n",
    "    print('La bilancia segna', k,'kg')\n",
    "    if k >= capienza:\n",
    "        \n",
    "        print('Abbiamo raggiunto la capienza di',capienza,'kg, avanzano', k - capienza, 'kg')\n",
    "        print()\n",
    "        k = k - capienza\n",
    "        sacchi += 1\n",
    "        \n",
    "print('Abbiamo riempito', sacchi, 'sacchi')"
   ]
  },
  {
   "cell_type": "raw",
   "id": "0eb1661c",
   "metadata": {
    "format": "text/html"
   },
   "source": [
    "</div>"
   ]
  },
  {
   "cell_type": "code",
   "execution_count": 15,
   "metadata": {},
   "outputs": [],
   "source": [
    "\n",
    "recipienti = [5,1,7,4,3,9,5,2,7,3]\n",
    "capienza = 15\n",
    "\n",
    "# scrivi qui\n",
    "\n"
   ]
  },
  {
   "cell_type": "markdown",
   "metadata": {},
   "source": [
    "## Contare con range\n",
    "\n",
    "Se abbiamo bisogno di contare a quale iterazione siamo, possiamo usare la sequenza iterabile `range`, che produce una serie di numeri interi da `0` INCLUSO fino al numero specificato ESCLUSO:"
   ]
  },
  {
   "cell_type": "code",
   "execution_count": 16,
   "metadata": {},
   "outputs": [
    {
     "name": "stdout",
     "output_type": "stream",
     "text": [
      "0\n",
      "1\n",
      "2\n",
      "3\n",
      "4\n"
     ]
    }
   ],
   "source": [
    "for i in range(5):\n",
    "    print(i)"
   ]
  },
  {
   "cell_type": "markdown",
   "metadata": {},
   "source": [
    "Nota come _non_ abbia stampato l'estremo `5`.\n",
    "\n",
    "Quando chiamiamo `range` possiamo anche specificare l'indice di partenza, che viene INCLUSO nella sequenza generata, mentre l'indice di arrivo è sempre ESCLUSO:"
   ]
  },
  {
   "cell_type": "code",
   "execution_count": 17,
   "metadata": {},
   "outputs": [
    {
     "name": "stdout",
     "output_type": "stream",
     "text": [
      "3\n",
      "4\n",
      "5\n",
      "6\n"
     ]
    }
   ],
   "source": [
    "for i in range(3,7):\n",
    "    print(i)"
   ]
  },
  {
   "cell_type": "markdown",
   "metadata": {},
   "source": [
    "**Contare a intervalli:** possiamo specificare l'incremento da applicare al contatore ad ogni iterazione passando un terzo parametero, qua per esempio specifichiamo un incremento di `2` (nota come l'indice finale `18` rimanga ESCLUSO dalla sequenza):"
   ]
  },
  {
   "cell_type": "code",
   "execution_count": 18,
   "metadata": {},
   "outputs": [
    {
     "name": "stdout",
     "output_type": "stream",
     "text": [
      "4\n",
      "6\n",
      "8\n",
      "10\n",
      "12\n",
      "14\n",
      "16\n"
     ]
    }
   ],
   "source": [
    "for i in range(4,18,2):\n",
    "    print(i)"
   ]
  },
  {
   "cell_type": "markdown",
   "metadata": {},
   "source": [
    "**Ordine inverso**: Si può contare al contrario usando un incremento negativo:"
   ]
  },
  {
   "cell_type": "code",
   "execution_count": 19,
   "metadata": {},
   "outputs": [
    {
     "name": "stdout",
     "output_type": "stream",
     "text": [
      "5\n",
      "4\n",
      "3\n",
      "2\n",
      "1\n"
     ]
    }
   ],
   "source": [
    "for i in range(5,0,-1):\n",
    "    print(i)"
   ]
  },
  {
   "cell_type": "markdown",
   "metadata": {},
   "source": [
    "Nota come il limite `0` _non_ sia stato raggiunto, per arrivarci occorre scrivere"
   ]
  },
  {
   "cell_type": "code",
   "execution_count": 20,
   "metadata": {},
   "outputs": [
    {
     "name": "stdout",
     "output_type": "stream",
     "text": [
      "5\n",
      "4\n",
      "3\n",
      "2\n",
      "1\n",
      "0\n"
     ]
    }
   ],
   "source": [
    "for i in range(5,-1,-1):\n",
    "    print(i)"
   ]
  },
  {
   "cell_type": "markdown",
   "metadata": {},
   "source": [
    "\n",
    "### Domande - range\n",
    "\n",
    "Guarda i seguenti frammenti di codice, e per ciascuno cerca di indovinare quale risultato produce (o se da errore):\n",
    "\n",
    "\n",
    "1.  ```python\n",
    "    for x in range(1):\n",
    "        print(x)\n",
    "    ```\n",
    "1.  ```python\n",
    "    for i in range(3):\n",
    "        i\n",
    "    ```    \n",
    "1.  ```python\n",
    "    for i in range(3):\n",
    "    print(i)    \n",
    "    ```        \n",
    "1.  ```python\n",
    "    for x in range(-1):\n",
    "        print(x)\n",
    "    ```\n",
    "1.  ```python\n",
    "    for 'm' in range(3):\n",
    "        print('m')\n",
    "    ```\n",
    "1.  ```python\n",
    "    for i in range(3):\n",
    "        i-1    \n",
    "    ```    \n",
    "1.  ```python\n",
    "    for x in range(6,4,-1):\n",
    "        print(x)\n",
    "    ```\n",
    "1.  ```python\n",
    "    for x in range(1,0,-1):\n",
    "        print(x)\n",
    "    ```            \n",
    "1.  ```python\n",
    "    for x in range(3,-3,-2):\n",
    "        print(x)\n",
    "    ```    \n",
    "1.  ```python\n",
    "    for x in 3:\n",
    "        print(x)\n",
    "    ```\n",
    "1.  ```\n",
    "    x = 3\n",
    "    for i in range(x):\n",
    "        print(i)\n",
    "    for i in range(x,2*x):\n",
    "        print(i)\n",
    "    ```    \n",
    "    \n",
    "1.  ```python\n",
    "    for x in range(range(3)):\n",
    "        print(x)\n",
    "    ```\n"
   ]
  },
  {
   "cell_type": "markdown",
   "metadata": {},
   "source": [
    "### Esercizio - stampadoppi\n",
    "\n",
    "✪ Dato un numero positivo `n` (per es `n=4`) scrivi del codice che stampa:\n",
    "\n",
    "```\n",
    "il doppio di 0 è 0\n",
    "il doppio di 1 è 2\n",
    "il doppio di 2 è 4\n",
    "il doppio di 3 è 6\n",
    "```"
   ]
  },
  {
   "cell_type": "raw",
   "id": "d86ad630",
   "metadata": {
    "format": "text/html"
   },
   "source": [
    "<a  class=\"jupman-sol jupman-sol-toggler\" \n",
    " onclick=\"jupman.toggleSolution(this);\" \n",
    " data-jupman-show=\"Mostra soluzione\" data-jupman-hide=\"Nascondi\">Mostra soluzione</a><div class=\"jupman-sol jupman-sol-code\" style=\"display:none\">  "
   ]
  },
  {
   "cell_type": "code",
   "execution_count": 21,
   "metadata": {},
   "outputs": [
    {
     "name": "stdout",
     "output_type": "stream",
     "text": [
      "il doppio di 0 è 0\n",
      "il doppio di 1 è 2\n",
      "il doppio di 2 è 4\n",
      "il doppio di 3 è 6\n"
     ]
    }
   ],
   "source": [
    "\n",
    "n = 4\n",
    "# scrivi qui\n",
    "for i in range(n):\n",
    "    print('il doppio di', i, 'è', i*2)    "
   ]
  },
  {
   "cell_type": "raw",
   "id": "48fbc0ca",
   "metadata": {
    "format": "text/html"
   },
   "source": [
    "</div>"
   ]
  },
  {
   "cell_type": "code",
   "execution_count": 21,
   "metadata": {},
   "outputs": [],
   "source": [
    "\n",
    "n = 4\n",
    "# scrivi qui\n",
    "\n"
   ]
  },
  {
   "cell_type": "markdown",
   "metadata": {},
   "source": [
    "### Esercizio - multipli e non\n",
    "\n",
    "✪✪ Scrivi del codice che dati due numeri interi positivi `k` e `b`: \n",
    "\n",
    "* prima stampa tutti i numeri da `k` INCLUSO a `b` INCLUSO che sono multipli di `k`\n",
    "* poi stampa tutti i numeri da `k` ESCLUSO a `b` ESCLUSO che NON sono multipli di `k`\n",
    "\n",
    "Esempio - dati\n",
    "\n",
    "```python\n",
    "k,b = 3,15\n",
    "```\n",
    "\n",
    "deve stampare:\n",
    "\n",
    "```\n",
    "Multipli di 3\n",
    "3\n",
    "6\n",
    "9\n",
    "12\n",
    "15\n",
    "\n",
    "Non divisibili per 3:\n",
    "4\n",
    "5\n",
    "7\n",
    "8\n",
    "10\n",
    "11\n",
    "13\n",
    "14\n",
    "```"
   ]
  },
  {
   "cell_type": "raw",
   "id": "95f7d6a7",
   "metadata": {
    "format": "text/html"
   },
   "source": [
    "<a  class=\"jupman-sol jupman-sol-toggler\" \n",
    " onclick=\"jupman.toggleSolution(this);\" \n",
    " data-jupman-show=\"Mostra soluzione\" data-jupman-hide=\"Nascondi\">Mostra soluzione</a><div class=\"jupman-sol jupman-sol-code\" style=\"display:none\">  "
   ]
  },
  {
   "cell_type": "code",
   "execution_count": 22,
   "metadata": {},
   "outputs": [
    {
     "name": "stdout",
     "output_type": "stream",
     "text": [
      "Multipli di 3\n",
      "3\n",
      "6\n",
      "9\n",
      "12\n",
      "15\n",
      "\n",
      "Non divisibili per 3\n",
      "4\n",
      "5\n",
      "7\n",
      "8\n",
      "10\n",
      "11\n",
      "13\n",
      "14\n"
     ]
    }
   ],
   "source": [
    "\n",
    "k,b = 3,15\n",
    "\n",
    "# scrivi qui\n",
    "print('Multipli di', k)\n",
    "for i in range(k,b+1,k):\n",
    "    print(i)\n",
    "print()\n",
    "print('Non divisibili per', k)    \n",
    "for i in range(k+1,b):\n",
    "    if i % k != 0:\n",
    "        print(i)"
   ]
  },
  {
   "cell_type": "raw",
   "id": "fff90b48",
   "metadata": {
    "format": "text/html"
   },
   "source": [
    "</div>"
   ]
  },
  {
   "cell_type": "code",
   "execution_count": 22,
   "metadata": {},
   "outputs": [],
   "source": [
    "\n",
    "k,b = 3,15\n",
    "\n",
    "# scrivi qui\n",
    "\n"
   ]
  },
  {
   "cell_type": "markdown",
   "metadata": {},
   "source": [
    "### Esercizio - intervallo ab\n",
    "\n",
    "✪✪ Data due interi `a` e `b` maggiori o uguali a zero , scrivere del codice che stampa tutti i numeri interi tra i due estremi INCLUSI\n",
    "\n",
    "* **NOTA**: `a` può essere maggiore, uguale o minore di `b`, il tuo codice deve gestire tutti i casi.\n",
    "\n",
    "Esempio 1 - dati\n",
    "\n",
    "```python\n",
    "a,b = 5,9\n",
    "```\n",
    "deve stampare\n",
    "\n",
    "```\n",
    "5\n",
    "6\n",
    "7\n",
    "8\n",
    "9\n",
    "```\n",
    "\n",
    "Esempio 2 - dati\n",
    "\n",
    "```python\n",
    "a,b = 8,3 \n",
    "```\n",
    "deve stampare\n",
    "\n",
    "```\n",
    "3\n",
    "4\n",
    "5\n",
    "6\n",
    "7\n",
    "8\n",
    "```"
   ]
  },
  {
   "cell_type": "raw",
   "id": "437bbc54",
   "metadata": {
    "format": "text/html"
   },
   "source": [
    "<a  class=\"jupman-sol jupman-sol-toggler\" \n",
    " onclick=\"jupman.toggleSolution(this);\" \n",
    " data-jupman-show=\"Mostra soluzione\" data-jupman-hide=\"Nascondi\">Mostra soluzione</a><div class=\"jupman-sol jupman-sol-code\" style=\"display:none\">  "
   ]
  },
  {
   "cell_type": "code",
   "execution_count": 23,
   "metadata": {},
   "outputs": [
    {
     "name": "stdout",
     "output_type": "stream",
     "text": [
      "5\n",
      "6\n",
      "7\n",
      "8\n",
      "9\n"
     ]
    }
   ],
   "source": [
    "\n",
    "a,b = 5,9  # 5 6 7 8 9\n",
    "#a,b = 8,3  # 3 4 5 6 7 8\n",
    "#a,b = 6,6   # 6\n",
    "\n",
    "# scrivi qui\n",
    "\n",
    "minimo = min(a,b)\n",
    "massimo = max(a,b)\n",
    "\n",
    "for x in range(minimo, massimo + 1):\n",
    "    print(x)"
   ]
  },
  {
   "cell_type": "raw",
   "id": "56e2f89c",
   "metadata": {
    "format": "text/html"
   },
   "source": [
    "</div>"
   ]
  },
  {
   "cell_type": "code",
   "execution_count": 23,
   "metadata": {},
   "outputs": [],
   "source": [
    "\n",
    "a,b = 5,9  # 5 6 7 8 9\n",
    "#a,b = 8,3  # 3 4 5 6 7 8\n",
    "#a,b = 6,6   # 6\n",
    "\n",
    "# scrivi qui\n",
    "\n"
   ]
  },
  {
   "cell_type": "markdown",
   "metadata": {},
   "source": [
    "### Esercizio - FizzBuzz\n",
    "\n",
    "Scrivi del codice che stampa i numeri da 1 a 35 INCLUSI, ma se un numero è divisibile per 3 stampa invece FIZZ, se è divisibile per 5 stampa BUZZ, e se è divisibile sia per 3 che per 5 stampa FIZZBUZZ.\n",
    "\n",
    "Output atteso:\n",
    "\n",
    "```\n",
    "1\n",
    "2\n",
    "FIZZ\n",
    "4\n",
    "BUZZ\n",
    "FIZZ\n",
    "7\n",
    "8\n",
    "FIZZ\n",
    "BUZZ\n",
    "11\n",
    "FIZZ\n",
    "13\n",
    "14\n",
    "FIZZBUZZ\n",
    "16\n",
    "17\n",
    "FIZZ\n",
    "19\n",
    "BUZZ\n",
    "FIZZ\n",
    "22\n",
    "23\n",
    "FIZZ\n",
    "BUZZ\n",
    "26\n",
    "FIZZ\n",
    "28\n",
    "29\n",
    "FIZZBUZZ\n",
    "31\n",
    "32\n",
    "FIZZ\n",
    "34\n",
    "BUZZ\n",
    "```"
   ]
  },
  {
   "cell_type": "raw",
   "id": "21b28739",
   "metadata": {
    "format": "text/html"
   },
   "source": [
    "<a  class=\"jupman-sol jupman-sol-toggler\" \n",
    " onclick=\"jupman.toggleSolution(this);\" \n",
    " data-jupman-show=\"Mostra soluzione\" data-jupman-hide=\"Nascondi\">Mostra soluzione</a><div class=\"jupman-sol jupman-sol-code\" style=\"display:none\">  "
   ]
  },
  {
   "cell_type": "code",
   "execution_count": 24,
   "metadata": {},
   "outputs": [
    {
     "name": "stdout",
     "output_type": "stream",
     "text": [
      "1\n",
      "2\n",
      "FIZZ\n",
      "4\n",
      "BUZZ\n",
      "FIZZ\n",
      "7\n",
      "8\n",
      "FIZZ\n",
      "BUZZ\n",
      "11\n",
      "FIZZ\n",
      "13\n",
      "14\n",
      "FIZZBUZZ\n",
      "16\n",
      "17\n",
      "FIZZ\n",
      "19\n",
      "BUZZ\n",
      "FIZZ\n",
      "22\n",
      "23\n",
      "FIZZ\n",
      "BUZZ\n",
      "26\n",
      "FIZZ\n",
      "28\n",
      "29\n",
      "FIZZBUZZ\n",
      "31\n",
      "32\n",
      "FIZZ\n",
      "34\n",
      "BUZZ\n"
     ]
    }
   ],
   "source": [
    "\n",
    "\n",
    "# scrivi qui\n",
    "for i in range(1,36):\n",
    "    if i % 15 == 0:\n",
    "        print('FIZZBUZZ')\n",
    "    elif i % 3 == 0:\n",
    "        print('FIZZ')\n",
    "    elif i % 5 == 0:\n",
    "        print('BUZZ')\n",
    "    else:\n",
    "        print(i)"
   ]
  },
  {
   "cell_type": "raw",
   "id": "2081edb1",
   "metadata": {
    "format": "text/html"
   },
   "source": [
    "</div>"
   ]
  },
  {
   "cell_type": "code",
   "execution_count": 24,
   "metadata": {},
   "outputs": [],
   "source": [
    "\n",
    "\n",
    "# scrivi qui\n",
    "\n"
   ]
  },
  {
   "cell_type": "markdown",
   "metadata": {},
   "source": [
    "## Iterare per indici\n",
    "\n",
    "Se abbiamo una sequenza come una lista, a volte è necessario conoscere in quale cella si è durante l'iterazione: per farlo serve tener traccia degli indici. Possiamo generare gli indici da controllare con `range`, e usarli per accedere ad una lista:"
   ]
  },
  {
   "cell_type": "code",
   "execution_count": 25,
   "metadata": {},
   "outputs": [
    {
     "name": "stdout",
     "output_type": "stream",
     "text": [
      "posizione 0\n",
      "pallavolo\n",
      "posizione 1\n",
      "tennis\n",
      "posizione 2\n",
      "calcio\n",
      "posizione 3\n",
      "nuoto\n"
     ]
    }
   ],
   "source": [
    "sport = ['pallavolo', 'tennis', 'calcio', 'nuoto']\n",
    "\n",
    "for i in range(len(sport)):\n",
    "    print('posizione', i)\n",
    "    print(sport[i])"
   ]
  },
  {
   "cell_type": "markdown",
   "metadata": {},
   "source": [
    "Nota come abbiamo passato a `range` la dimensione della lista con `len`"
   ]
  },
  {
   "cell_type": "markdown",
   "metadata": {},
   "source": [
    "### Esercizio - cucina\n",
    "\n",
    "✪ Scrivi del codice che data una lista di stringhe `cucina` in numero pari, stampa le coppie di elementi che si possono trovare in sequenza, una riga alla volta\n",
    "\n",
    "Esempio - dati:\n",
    "\n",
    "```python\n",
    "cucina = ['dado', 'minestra', 'uova', 'torta', 'sugo', 'pasta', 'ragù', 'lasagne']\n",
    "```\n",
    "\n",
    "Stampa:\n",
    "\n",
    "```\n",
    "dado minestra\n",
    "uova torta\n",
    "sugo pasta\n",
    "ragù lasagne\n",
    "```\n"
   ]
  },
  {
   "cell_type": "raw",
   "id": "4f45d317",
   "metadata": {
    "format": "text/html"
   },
   "source": [
    "<a  class=\"jupman-sol jupman-sol-toggler\" \n",
    " onclick=\"jupman.toggleSolution(this);\" \n",
    " data-jupman-show=\"Mostra soluzione\" data-jupman-hide=\"Nascondi\">Mostra soluzione</a><div class=\"jupman-sol jupman-sol-code\" style=\"display:none\">  "
   ]
  },
  {
   "cell_type": "code",
   "execution_count": 26,
   "metadata": {},
   "outputs": [
    {
     "name": "stdout",
     "output_type": "stream",
     "text": [
      "dado minestra\n",
      "uova torta\n",
      "sugo pasta\n",
      "ragù lasagne\n"
     ]
    }
   ],
   "source": [
    "\n",
    "cucina = ['dado', 'minestra', 'uova', 'torta', 'sugo', 'pasta', 'ragù', 'lasagne']\n",
    "\n",
    "# scrivi qui\n",
    "for i in range(0,len(cucina)-1, 2):\n",
    "    print(cucina[i], cucina[i+1])"
   ]
  },
  {
   "cell_type": "raw",
   "id": "e79fb5fd",
   "metadata": {
    "format": "text/html"
   },
   "source": [
    "</div>"
   ]
  },
  {
   "cell_type": "code",
   "execution_count": 26,
   "metadata": {},
   "outputs": [],
   "source": [
    "\n",
    "cucina = ['dado', 'minestra', 'uova', 'torta', 'sugo', 'pasta', 'ragù', 'lasagne']\n",
    "\n",
    "# scrivi qui\n",
    "\n"
   ]
  },
  {
   "cell_type": "markdown",
   "metadata": {},
   "source": [
    "### Esercizio - neon\n",
    "\n",
    "✪ Date due liste `la` e `lb` _di uguale lunghezza_ $n$, scrivi del codice che stampa su $n$ righe i loro caratteri separati da uno spazio\n",
    "\n",
    "Esempio - dati:\n",
    "\n",
    "```python\n",
    "la = ['n','e','o','n']\n",
    "lb = ['s','h','o','w']\n",
    "```\n",
    "\n",
    "stampa\n",
    "\n",
    "```\n",
    "n s\n",
    "e h\n",
    "o o\n",
    "n w\n",
    "```"
   ]
  },
  {
   "cell_type": "raw",
   "id": "e94ac901",
   "metadata": {
    "format": "text/html"
   },
   "source": [
    "<a  class=\"jupman-sol jupman-sol-toggler\" \n",
    " onclick=\"jupman.toggleSolution(this);\" \n",
    " data-jupman-show=\"Mostra soluzione\" data-jupman-hide=\"Nascondi\">Mostra soluzione</a><div class=\"jupman-sol jupman-sol-code\" style=\"display:none\">  "
   ]
  },
  {
   "cell_type": "code",
   "execution_count": 27,
   "metadata": {},
   "outputs": [
    {
     "name": "stdout",
     "output_type": "stream",
     "text": [
      "n s\n",
      "e h\n",
      "o o\n",
      "n w\n"
     ]
    }
   ],
   "source": [
    "\n",
    "la = ['n','e','o','n']\n",
    "lb = ['s','h','o','w']\n",
    "\n",
    "# scrivi qui\n",
    "\n",
    "for i in range(len(la)):     \n",
    "    print(la[i],lb[i])"
   ]
  },
  {
   "cell_type": "raw",
   "id": "4d2b9582",
   "metadata": {
    "format": "text/html"
   },
   "source": [
    "</div>"
   ]
  },
  {
   "cell_type": "code",
   "execution_count": 27,
   "metadata": {},
   "outputs": [],
   "source": [
    "\n",
    "la = ['n','e','o','n']\n",
    "lb = ['s','h','o','w']\n",
    "\n",
    "# scrivi qui\n",
    "\n"
   ]
  },
  {
   "cell_type": "markdown",
   "metadata": {},
   "source": [
    "### Esercizio - emozioni\n",
    "\n",
    "✪ Date una lista di stringhe `emozioni` e una  `grado` contenente numeri `-1` e `1`, scrivi del codice che stampa le emozioni affiancandole a 'positivo' se il corrispondente grado è un numero maggiore di zero e 'negativa'.\n",
    "\n",
    "Esempio - dati:\n",
    "\n",
    "```python\n",
    "emozioni = ['Paura', 'Rabbia','Tristezza','Gioia','Disgusto','Estasi']\n",
    "grado =    [-1,       -1,     -1,          1,     -1,         1]\n",
    "```\n",
    "\n",
    "stampa: \n",
    "\n",
    "```\n",
    "Paura : negativa\n",
    "Rabbia : negativa\n",
    "Tristezza : negativa\n",
    "Gioia : positiva\n",
    "Disgusto : negativa\n",
    "Estasi : positiva\n",
    "```\n"
   ]
  },
  {
   "cell_type": "raw",
   "id": "c8087009",
   "metadata": {
    "format": "text/html"
   },
   "source": [
    "<a  class=\"jupman-sol jupman-sol-toggler\" \n",
    " onclick=\"jupman.toggleSolution(this);\" \n",
    " data-jupman-show=\"Mostra soluzione\" data-jupman-hide=\"Nascondi\">Mostra soluzione</a><div class=\"jupman-sol jupman-sol-code\" style=\"display:none\">  "
   ]
  },
  {
   "cell_type": "code",
   "execution_count": 28,
   "metadata": {},
   "outputs": [
    {
     "name": "stdout",
     "output_type": "stream",
     "text": [
      "Paura : negativa\n",
      "Rabbia : negativa\n",
      "Tristezza : negativa\n",
      "Gioia : positiva\n",
      "Disgusto : negativa\n",
      "Estasi : positiva\n"
     ]
    }
   ],
   "source": [
    "\n",
    "emozioni = ['Paura', 'Rabbia','Tristezza','Gioia','Disgusto','Estasi']\n",
    "grado =     [-1,       -1,     -1,          1,     -1,         1]\n",
    "\n",
    "# scrivi qui\n",
    "for i in range(len(emozioni)):\n",
    "    if grado[i] > 0:\n",
    "        print(emozioni[i], ': positiva')\n",
    "    else:\n",
    "        print(emozioni[i], ': negativa')"
   ]
  },
  {
   "cell_type": "raw",
   "id": "305709bf",
   "metadata": {
    "format": "text/html"
   },
   "source": [
    "</div>"
   ]
  },
  {
   "cell_type": "code",
   "execution_count": 28,
   "metadata": {},
   "outputs": [],
   "source": [
    "\n",
    "emozioni = ['Paura', 'Rabbia','Tristezza','Gioia','Disgusto','Estasi']\n",
    "grado =     [-1,       -1,     -1,          1,     -1,         1]\n",
    "\n",
    "# scrivi qui\n",
    "\n"
   ]
  },
  {
   "cell_type": "markdown",
   "metadata": {},
   "source": [
    "### Esercizio - organetto\n",
    "\n",
    "✪ Data una stringa `s`, scrivi del codice che stampa tutte le sottostringhe ottenibili partendo dalla posizione della lettera `'n'` e che terminino con l'ultimo carattere di `s`.\n",
    "\n",
    "Esempio - data:\n",
    "\n",
    "```python\n",
    "s = 'organetto'\n",
    "```\n",
    "\n",
    "Stampa:\n",
    "\n",
    "```\n",
    "netto\n",
    "etto\n",
    "tto\n",
    "to\n",
    "o\n",
    "\n",
    "```\n"
   ]
  },
  {
   "cell_type": "raw",
   "id": "af503ab1",
   "metadata": {
    "format": "text/html"
   },
   "source": [
    "<a  class=\"jupman-sol jupman-sol-toggler\" \n",
    " onclick=\"jupman.toggleSolution(this);\" \n",
    " data-jupman-show=\"Mostra soluzione\" data-jupman-hide=\"Nascondi\">Mostra soluzione</a><div class=\"jupman-sol jupman-sol-code\" style=\"display:none\">  "
   ]
  },
  {
   "cell_type": "code",
   "execution_count": 29,
   "metadata": {},
   "outputs": [
    {
     "name": "stdout",
     "output_type": "stream",
     "text": [
      "netto\n",
      "etto\n",
      "tto\n",
      "to\n",
      "o\n"
     ]
    }
   ],
   "source": [
    "\n",
    "s = 'organetto'\n",
    "\n",
    "# scrivi qui\n",
    "for i in range(s.index('n'), len(s)):\n",
    "    print(s[i:])"
   ]
  },
  {
   "cell_type": "raw",
   "id": "cda30ca3",
   "metadata": {
    "format": "text/html"
   },
   "source": [
    "</div>"
   ]
  },
  {
   "cell_type": "code",
   "execution_count": 29,
   "metadata": {},
   "outputs": [],
   "source": [
    "\n",
    "s = 'organetto'\n",
    "\n",
    "# scrivi qui\n",
    "\n"
   ]
  },
  {
   "cell_type": "markdown",
   "metadata": {},
   "source": [
    "### Esercizio - sghiribizzo\n",
    "\n",
    "Scrivi del codice che data la stringa `s` stampa tutte le possibili combinazioni di coppie di righe tali per cui una riga inizia con i primi caratteri di `s` e la successiva continua con i restanti caratteri.\n",
    "\n",
    "Esempio - data\n",
    "\n",
    "```python\n",
    "s = 'sghiribizzo'\n",
    "```\n",
    "\n",
    "stampa:\n",
    "\n",
    "```\n",
    "s\n",
    " ghiribizzo\n",
    "sg\n",
    "  hiribizzo\n",
    "sgh\n",
    "   iribizzo\n",
    "sghi\n",
    "    ribizzo\n",
    "sghir\n",
    "     ibizzo\n",
    "sghiri\n",
    "      bizzo\n",
    "sghirib\n",
    "       izzo\n",
    "sghiribi\n",
    "        zzo\n",
    "sghiribiz\n",
    "         zo\n",
    "sghiribizz\n",
    "          o\n",
    "sghiribizzo           \n",
    "```"
   ]
  },
  {
   "cell_type": "raw",
   "id": "89d0bac5",
   "metadata": {
    "format": "text/html"
   },
   "source": [
    "<a  class=\"jupman-sol jupman-sol-toggler\" \n",
    " onclick=\"jupman.toggleSolution(this);\" \n",
    " data-jupman-show=\"Mostra soluzione\" data-jupman-hide=\"Nascondi\">Mostra soluzione</a><div class=\"jupman-sol jupman-sol-code\" style=\"display:none\">  "
   ]
  },
  {
   "cell_type": "code",
   "execution_count": 30,
   "metadata": {},
   "outputs": [
    {
     "name": "stdout",
     "output_type": "stream",
     "text": [
      "s\n",
      " ghiribizzo\n",
      "sg\n",
      "  hiribizzo\n",
      "sgh\n",
      "   iribizzo\n",
      "sghi\n",
      "    ribizzo\n",
      "sghir\n",
      "     ibizzo\n",
      "sghiri\n",
      "      bizzo\n",
      "sghirib\n",
      "       izzo\n",
      "sghiribi\n",
      "        zzo\n",
      "sghiribiz\n",
      "         zo\n",
      "sghiribizz\n",
      "          o\n",
      "sghiribizzo\n",
      "           \n"
     ]
    }
   ],
   "source": [
    "\n",
    "s = 'sghiribizzo'\n",
    "# scrivi qui\n",
    "for i in range(len(s)):    \n",
    "    print(s[:i+1])\n",
    "    print(' '*i,s[i+1:])\n",
    "    "
   ]
  },
  {
   "cell_type": "raw",
   "id": "2db18d58",
   "metadata": {
    "format": "text/html"
   },
   "source": [
    "</div>"
   ]
  },
  {
   "cell_type": "code",
   "execution_count": 30,
   "metadata": {},
   "outputs": [],
   "source": [
    "\n",
    "s = 'sghiribizzo'\n",
    "# scrivi qui\n",
    "\n"
   ]
  },
  {
   "cell_type": "markdown",
   "metadata": {},
   "source": [
    "### Esercizio - dna\n",
    "\n",
    "Date due stringhe di DNA `s1` e `s2` di uguale lunghezza, scrivi del codice che stampa tra la prima e la seconda stringa un'altra stringa costituita da spazi ` `  e pipe $|$ in corrispondenza dei caratteri uguali.\n",
    "\n",
    "* **SUGGERIMENTO**: crea una lista contenente i caratteri spazio o il carattere $|$, e alla fine converti a stringa usando il metodo `join` delle stringhe (fare così è molto più efficiente che continuare a generare stringhe con l'operatore `+`)\n",
    "\n",
    "Esempio - date:\n",
    "\n",
    "```python\n",
    "s1 = \"ATACATATAGGGCCAATTATTATAAGTCAC\"\n",
    "s2 = \"CGCCACTTAAGCGCCCTGTATTAAAGTCGC\"\n",
    "```\n",
    "\n",
    "Stampa:\n",
    "\n",
    "```\n",
    "ATACATATAGGGCCAATTATTATAAGTCAC\n",
    "   ||  || |  |  |   |  ||||| |\n",
    "CGCCACTTAAGCGCCCTGTATTAAAGTCGC\n",
    "```"
   ]
  },
  {
   "cell_type": "raw",
   "id": "b77b57ed",
   "metadata": {
    "format": "text/html"
   },
   "source": [
    "<a  class=\"jupman-sol jupman-sol-toggler\" \n",
    " onclick=\"jupman.toggleSolution(this);\" \n",
    " data-jupman-show=\"Mostra soluzione\" data-jupman-hide=\"Nascondi\">Mostra soluzione</a><div class=\"jupman-sol jupman-sol-code\" style=\"display:none\">  "
   ]
  },
  {
   "cell_type": "code",
   "execution_count": 31,
   "metadata": {},
   "outputs": [
    {
     "name": "stdout",
     "output_type": "stream",
     "text": [
      "ATACATATAGGGCCAATTATTATAAGTCAC\n",
      "   ||  || |  |  |   |  ||||| |\n",
      "CGCCACTTAAGCGCCCTGTATTAAAGTCGC\n"
     ]
    }
   ],
   "source": [
    "\n",
    "s1 = \"ATACATATAGGGCCAATTATTATAAGTCAC\"\n",
    "s2 = \"CGCCACTTAAGCGCCCTGTATTAAAGTCGC\"\n",
    "\n",
    "# scrivi qui\n",
    "lista = []\n",
    "for i in range(len(s1)):\n",
    "    if(s1[i] == s2[i]):\n",
    "        lista.append('|')\n",
    "    else:\n",
    "        lista.append(' ')\n",
    "\n",
    "barre = ''.join(lista)\n",
    "        \n",
    "print(s1)\n",
    "print(barre)\n",
    "print(s2)\n"
   ]
  },
  {
   "cell_type": "raw",
   "id": "436c0a8c",
   "metadata": {
    "format": "text/html"
   },
   "source": [
    "</div>"
   ]
  },
  {
   "cell_type": "code",
   "execution_count": 31,
   "metadata": {},
   "outputs": [],
   "source": [
    "\n",
    "s1 = \"ATACATATAGGGCCAATTATTATAAGTCAC\"\n",
    "s2 = \"CGCCACTTAAGCGCCCTGTATTAAAGTCGC\"\n",
    "\n",
    "# scrivi qui\n",
    "\n"
   ]
  },
  {
   "cell_type": "markdown",
   "metadata": {},
   "source": [
    "\n",
    "### Esercizio - sportello\n",
    "\n",
    "✪✪ Data una stringa `s`, stampa la prima metà di caratteri in minuscolo e la seguente metà in maiuscolo.\n",
    "\n",
    "* se la stringa è di lunghezza dispari, la prima metà deve avere un carattere _in più_ rispetto alla seconda\n",
    "\n",
    "Esempio - data:\n",
    "\n",
    "```python\n",
    "s = 'sportello'\n",
    "```\n",
    "\n",
    "Il tuo codice deve stampare:\n",
    "\n",
    "```\n",
    "s\n",
    "p\n",
    "o\n",
    "r\n",
    "t\n",
    "E\n",
    "L\n",
    "L\n",
    "O\n",
    "```\n",
    "\n",
    "(nota che 'sportello' ha lunghezza dispari e ci sono _cinque_ caratteri nella prima metà e _quattro_ nella seconda)"
   ]
  },
  {
   "cell_type": "raw",
   "id": "2fe12985",
   "metadata": {
    "format": "text/html"
   },
   "source": [
    "<a  class=\"jupman-sol jupman-sol-toggler\" \n",
    " onclick=\"jupman.toggleSolution(this);\" \n",
    " data-jupman-show=\"Mostra soluzione\" data-jupman-hide=\"Nascondi\">Mostra soluzione</a><div class=\"jupman-sol jupman-sol-code\" style=\"display:none\">  "
   ]
  },
  {
   "cell_type": "code",
   "execution_count": 32,
   "metadata": {},
   "outputs": [
    {
     "name": "stdout",
     "output_type": "stream",
     "text": [
      "s\n",
      "p\n",
      "o\n",
      "r\n",
      "t\n",
      "E\n",
      "L\n",
      "L\n",
      "O\n"
     ]
    }
   ],
   "source": [
    "\n",
    "s = 'sportello'  # sportELLO\n",
    "#s = 'maglia'     # magLIA\n",
    "\n",
    "# scrivi qui\n",
    "\n",
    "if len(s) % 2 == 1:\n",
    "    mezzo = (len(s) // 2) + 1\n",
    "else:\n",
    "    mezzo = (len(s) // 2)\n",
    "\n",
    "for i in range(mezzo):\n",
    "    print(s[i])\n",
    "    \n",
    "for i in range(mezzo, len(s)):\n",
    "    print(s[i].upper())"
   ]
  },
  {
   "cell_type": "raw",
   "id": "cd291bfa",
   "metadata": {
    "format": "text/html"
   },
   "source": [
    "</div>"
   ]
  },
  {
   "cell_type": "code",
   "execution_count": 32,
   "metadata": {},
   "outputs": [],
   "source": [
    "\n",
    "s = 'sportello'  # sportELLO\n",
    "#s = 'maglia'     # magLIA\n",
    "\n",
    "# scrivi qui\n",
    "\n"
   ]
  },
  {
   "cell_type": "markdown",
   "metadata": {},
   "source": [
    "### Esercizio - fattoria\n",
    "\n",
    "✪✪ Dato un dizionario `versi` che associa nomi di animali ai versi che fanno, e una lista `stanze` di tuple da 2 elementi contenenti nomi di animali, scrivi del codice che per ogni stanza stampa i versi che si sentono passandoci davanti. \n",
    "\n",
    "- **NOTA**: le stanze da stampare sono numerate **a partire da 1**\n",
    "\n",
    "Esempio - dati:\n",
    "\n",
    "```\n",
    "versi = {'cane':'Bau!',\n",
    "         'gatto':'Miao!',\n",
    "         'mucca':'Muu!',\n",
    "         'pecora':'Bee!'}\n",
    "\n",
    "stanze = [('cane', 'pecora'), \n",
    "          ('gatto','mucca'), \n",
    "          ('mucca', 'cane')]\n",
    "```\n",
    "\n",
    "Stampa:\n",
    "\n",
    "```\n",
    "Nella stanza 1 si sentono Bau! e Bee!\n",
    "Nella stanza 2 si sentono Miao! e Muu!\n",
    "Nella stanza 3 si sentono Muu! e Bau!\n",
    "```"
   ]
  },
  {
   "cell_type": "raw",
   "id": "8bef5dbb",
   "metadata": {
    "format": "text/html"
   },
   "source": [
    "<a  class=\"jupman-sol jupman-sol-toggler\" \n",
    " onclick=\"jupman.toggleSolution(this);\" \n",
    " data-jupman-show=\"Mostra soluzione\" data-jupman-hide=\"Nascondi\">Mostra soluzione</a><div class=\"jupman-sol jupman-sol-code\" style=\"display:none\">  "
   ]
  },
  {
   "cell_type": "code",
   "execution_count": 33,
   "metadata": {},
   "outputs": [
    {
     "name": "stdout",
     "output_type": "stream",
     "text": [
      "Nella stanza 1 si sentono Bau! e Bee!\n",
      "Nella stanza 2 si sentono Miao! e Muu!\n",
      "Nella stanza 3 si sentono Muu! e Bau!\n"
     ]
    }
   ],
   "source": [
    "\n",
    "versi = {'cane':'Bau!',\n",
    "         'gatto':'Miao!',\n",
    "         'mucca':'Muu!',\n",
    "         'pecora':'Bee!'}\n",
    "\n",
    "stanze = [('cane', 'pecora'), \n",
    "          ('gatto','mucca'), \n",
    "          ('mucca', 'cane')]\n",
    "\n",
    "# scrivi qui\n",
    "\n",
    "for i in range(len(stanze)):\n",
    "    stanza = stanze[i]\n",
    "    print('Nella stanza',i+1,'si sentono',versi[stanza[0]], 'e', versi[stanza[1]])\n",
    "    "
   ]
  },
  {
   "cell_type": "raw",
   "id": "8e7ed276",
   "metadata": {
    "format": "text/html"
   },
   "source": [
    "</div>"
   ]
  },
  {
   "cell_type": "code",
   "execution_count": 33,
   "metadata": {},
   "outputs": [],
   "source": [
    "\n",
    "versi = {'cane':'Bau!',\n",
    "         'gatto':'Miao!',\n",
    "         'mucca':'Muu!',\n",
    "         'pecora':'Bee!'}\n",
    "\n",
    "stanze = [('cane', 'pecora'), \n",
    "          ('gatto','mucca'), \n",
    "          ('mucca', 'cane')]\n",
    "\n",
    "# scrivi qui\n",
    "\n"
   ]
  },
  {
   "cell_type": "markdown",
   "metadata": {},
   "source": [
    "### Esercizio - pokemon\n",
    "\n",
    "✪✪✪ Data una lista `pokemon` e un numero `g` di gruppi, scrivi del codice per stampare `g` righe mostrando i componenti di ogni gruppo. Forma i gruppi prendendo i pokemon nell'ordine in cui li trovi nella lista.\n",
    "\n",
    "* **SUGGERIMENTO 1**: per ottenere il numero di componenti in un gruppo dovrai usare la divisione intera `//`\n",
    "* **SUGGERIMENTO 2**: per stampare i componenti di un gruppo, usa il metodo `join` delle stringhe\n",
    "\n",
    "Esempio 1 - dati\n",
    "\n",
    "```python\n",
    "#               0         1          2         3            4         5     \n",
    "pokemon = ['Charizard','Gengar','Arcanine','Bulbasaur','Blaziken','Umbreon', \n",
    "#               6         7          8         9           10          11\n",
    "           'Lucario','Gardevoir','Eevee','Dragonite', 'Volcarona', 'Sylveon' ]\n",
    "g = 3\n",
    "```\n",
    "\n",
    "stampa\n",
    "\n",
    "```\n",
    "gruppo 1 : Charizard e Gengar e Arcanine e Bulbasaur\n",
    "gruppo 2 : Blaziken e Umbreon e Lucario e Gardevoir\n",
    "gruppo 3 : Eevee e Dragonite e Volcarona e Sylveon\n",
    "```\n",
    "\n",
    "Esempio 2 - dati\n",
    "\n",
    "```python\n",
    "#               0         1          2         3            4         5     \n",
    "pokemon = ['Charizard','Gengar','Arcanine','Bulbasaur','Blaziken','Umbreon', \n",
    "#               6         7          8         9           10          11\n",
    "           'Lucario','Gardevoir','Eevee','Dragonite', 'Volcarona', 'Sylveon' ]\n",
    "\n",
    "g = 4\n",
    "```\n",
    "\n",
    "stampa \n",
    "\n",
    "```python\n",
    "gruppo 1 : Charizard e Gengar e Arcanine\n",
    "gruppo 2 : Bulbasaur e Blaziken e Umbreon\n",
    "gruppo 3 : Lucario e Gardevoir e Eevee\n",
    "gruppo 4 : Dragonite e Volcarona e Sylveon\n",
    "```"
   ]
  },
  {
   "cell_type": "raw",
   "id": "4ba362f5",
   "metadata": {
    "format": "text/html"
   },
   "source": [
    "<a  class=\"jupman-sol jupman-sol-toggler\" \n",
    " onclick=\"jupman.toggleSolution(this);\" \n",
    " data-jupman-show=\"Mostra soluzione\" data-jupman-hide=\"Nascondi\">Mostra soluzione</a><div class=\"jupman-sol jupman-sol-code\" style=\"display:none\">  "
   ]
  },
  {
   "cell_type": "code",
   "execution_count": 34,
   "metadata": {},
   "outputs": [
    {
     "name": "stdout",
     "output_type": "stream",
     "text": [
      "gruppo 1 : Charizard e Gengar e Arcanine e Bulbasaur\n",
      "gruppo 2 : Blaziken e Umbreon e Lucario e Gardevoir\n",
      "gruppo 3 : Eevee e Dragonite e Volcarona e Sylveon\n"
     ]
    }
   ],
   "source": [
    "\n",
    "#               0         1          2         3            4         5         6           7         8\n",
    "pokemon = ['Charizard','Gengar','Arcanine','Bulbasaur','Blaziken','Umbreon', 'Lucario','Gardevoir','Eevee', \n",
    "#                9          10          11\n",
    "           'Dragonite', 'Volcarona', 'Sylveon' ]\n",
    "g = 3\n",
    "#g = 4\n",
    "\n",
    "# scrivi qui\n",
    "k = len(pokemon) // g  # pokemon in un gruppo\n",
    "\n",
    "for i in range(0, g):    \n",
    "    print('gruppo',i+1,':', ' e '.join(pokemon[i*k:(i+1)*k]))"
   ]
  },
  {
   "cell_type": "raw",
   "id": "b213a3e3",
   "metadata": {
    "format": "text/html"
   },
   "source": [
    "</div>"
   ]
  },
  {
   "cell_type": "code",
   "execution_count": 34,
   "metadata": {},
   "outputs": [],
   "source": [
    "\n",
    "#               0         1          2         3            4         5         6           7         8\n",
    "pokemon = ['Charizard','Gengar','Arcanine','Bulbasaur','Blaziken','Umbreon', 'Lucario','Gardevoir','Eevee', \n",
    "#                9          10          11\n",
    "           'Dragonite', 'Volcarona', 'Sylveon' ]\n",
    "g = 3\n",
    "#g = 4\n",
    "\n",
    "# scrivi qui\n",
    "\n"
   ]
  },
  {
   "cell_type": "markdown",
   "metadata": {},
   "source": [
    "\n",
    "## Modificare durante l'iterazione\n",
    "\n",
    "Supponi di avere una lista `la` contente caratteri, e ti viene chiesto di duplicare tutti gli elementi, per esempio se hai \n",
    "\n",
    "```python\n",
    "la = ['a','b','c'] \n",
    "```\n",
    "\n",
    "dopo il tuo codice, deve risultare\n",
    "\n",
    "```python\n",
    ">>> print(la)\n",
    "['a','b','c','a','b','c'] \n",
    "```\n",
    "\n",
    "Forte delle conoscenze acquisite per l'iterazione, potrebbe venirti l'idea di scrivere qualcosa del genere:\n",
    "\n",
    "```python\n",
    "for elemento in la:\n",
    "    la.append(elemento)    # ATTENZIONE !\n",
    "```"
   ]
  },
  {
   "cell_type": "markdown",
   "metadata": {},
   "source": [
    "**DOMANDA**: Vedi forse un problema?"
   ]
  },
  {
   "cell_type": "raw",
   "id": "55511f82",
   "metadata": {
    "format": "text/html"
   },
   "source": [
    "<a  class=\"jupman-sol jupman-sol-toggler\" \n",
    " onclick=\"jupman.toggleSolution(this);\" \n",
    " data-jupman-show=\"Mostra risposta\" data-jupman-hide=\"Nascondi\">Mostra risposta</a><div class=\"jupman-sol jupman-sol-question\" style=\"display:none\">  "
   ]
  },
  {
   "cell_type": "markdown",
   "metadata": {},
   "source": [
    "**RISPOSTA**: se _mentre_ scorriamo la lista, continuiamo al contempo ad aggiungere pezzi, c'è il rischio concreto che non termineremo mai di esaminare la lista ! Leggi bene quanto segue:"
   ]
  },
  {
   "cell_type": "raw",
   "id": "996eb076",
   "metadata": {
    "format": "text/html"
   },
   "source": [
    "</div>"
   ]
  },
  {
   "cell_type": "markdown",
   "metadata": {},
   "source": [
    "<div class=\"jupman-alert-principle\"></div>\n",
    "<div class=\"alert alert-info\" >\n",
    "\n",
    "[X COMANDAMENTO](https://it.softpython.org/commandments.html#X-COMANDAMENTO): \n",
    " **Non aggiungerai o toglierai mai elementi da una sequenza su cui stai iterando con un** `for`**!**\n",
    "</div>\n",
    "\n",
    "\n",
    "Abbandonarti in simil tentazioni **produrrebbe comportamenti del tutto imprevedibili** (conosci forse l'espressione _tirare il tappeto da sotto i piedi_?)"
   ]
  },
  {
   "cell_type": "markdown",
   "metadata": {},
   "source": [
    "**E rimuovere?** Abbiamo visto che aggiungere è pericoloso, ma lo è anche togliere. Supponi di dover eliminare tutti gli elementi di una lista, potresti essere tentato di scrivere qualcosa del genere:"
   ]
  },
  {
   "cell_type": "code",
   "execution_count": 35,
   "metadata": {},
   "outputs": [],
   "source": [
    "lista = ['a','b','c','d','e']\n",
    "\n",
    "for el in lista:\n",
    "    lista.remove(el)   # PESSIMA IDEA"
   ]
  },
  {
   "cell_type": "markdown",
   "metadata": {},
   "source": [
    "Guarda bene il codice. Credi che abbiamo rimosso tutto, eh?"
   ]
  },
  {
   "cell_type": "code",
   "execution_count": 36,
   "metadata": {},
   "outputs": [
    {
     "data": {
      "text/plain": [
       "['b', 'd']"
      ]
     },
     "execution_count": 36,
     "metadata": {},
     "output_type": "execute_result"
    }
   ],
   "source": [
    "lista"
   ]
  },
  {
   "cell_type": "markdown",
   "metadata": {},
   "source": [
    "`O_o'` Il risultato assurdo è legato all'implementazione interna di Python, la mia versione di Python dà questo risultato, la tua potrebbe darne uno completamente diverso. **Quindi attenzione** !\n",
    "\n",
    "**Se proprio devi rimuovere elementi dalla sequenza su cui stai iterando**, usa [un ciclo while](https://it.softpython.org/while/while1-sol.html) o effettua prima una copia della sequenza originale."
   ]
  },
  {
   "cell_type": "markdown",
   "metadata": {},
   "source": [
    "### Esercizio - duplica\n",
    "\n",
    "✪ Prova a scrivere del codice che MODIFICA una lista `la`  duplicandone gli elementi.\n",
    "\n",
    "- usa un ciclo `for`\n",
    "- **NON** usare la moltiplicazione di liste\n",
    "\n",
    "Esempio\n",
    "\n",
    "```python\n",
    "la = ['a','b','c'] \n",
    "```\n",
    "\n",
    "dopo il tuo codice, deve risultare\n",
    "\n",
    "```python\n",
    ">>> la\n",
    "['a','b','c','a','b','c'] \n",
    "```\n"
   ]
  },
  {
   "cell_type": "raw",
   "id": "1dbddad5",
   "metadata": {
    "format": "text/html"
   },
   "source": [
    "<a  class=\"jupman-sol jupman-sol-toggler\" \n",
    " onclick=\"jupman.toggleSolution(this);\" \n",
    " data-jupman-show=\"Mostra soluzione\" data-jupman-hide=\"Nascondi\">Mostra soluzione</a><div class=\"jupman-sol jupman-sol-code\" style=\"display:none\">  "
   ]
  },
  {
   "cell_type": "code",
   "execution_count": 37,
   "metadata": {},
   "outputs": [
    {
     "name": "stdout",
     "output_type": "stream",
     "text": [
      "['a', 'b', 'c', 'a', 'b', 'c']\n"
     ]
    }
   ],
   "source": [
    "\n",
    "la = ['a','b','c'] \n",
    "\n",
    "# scrivi qui\n",
    "\n",
    "for elemento in list(la):  # con list creiamo una *copia* della lista originale, che rimane stabile\n",
    "    la.append(elemento)\n",
    "print(la)"
   ]
  },
  {
   "cell_type": "raw",
   "id": "b8547f00",
   "metadata": {
    "format": "text/html"
   },
   "source": [
    "</div>"
   ]
  },
  {
   "cell_type": "code",
   "execution_count": 37,
   "metadata": {},
   "outputs": [],
   "source": [
    "\n",
    "la = ['a','b','c'] \n",
    "\n",
    "# scrivi qui\n",
    "\n"
   ]
  },
  {
   "cell_type": "markdown",
   "metadata": {},
   "source": [
    "### Esercizio - martello\n",
    "\n",
    "✪ Data una lista di caratteri `la`, MODIFICA la lista cambiando tutti i caratteri ad indici pari con il carattere `'z'`\n",
    "\n",
    "Esempio - data:\n",
    "\n",
    "```python\n",
    "la = ['m', 'a', 'r', 't', 'e', 'l', 'l', 'o']\n",
    "```\n",
    "\n",
    "Dopo il tuo codice, deve risultare:\n",
    "\n",
    "```python\n",
    ">>> print(la)\n",
    "['z', 'a', 'z', 't', 'z', 'l', 'z', 'o']\n",
    "```\n",
    "\n",
    "* **NOTA**: qui _non_ stiamo aggiungendo o togliendo celle dalla lista"
   ]
  },
  {
   "cell_type": "raw",
   "id": "5619721a",
   "metadata": {
    "format": "text/html"
   },
   "source": [
    "<a  class=\"jupman-sol jupman-sol-toggler\" \n",
    " onclick=\"jupman.toggleSolution(this);\" \n",
    " data-jupman-show=\"Mostra soluzione\" data-jupman-hide=\"Nascondi\">Mostra soluzione</a><div class=\"jupman-sol jupman-sol-code\" style=\"display:none\">  "
   ]
  },
  {
   "cell_type": "code",
   "execution_count": 38,
   "metadata": {},
   "outputs": [
    {
     "name": "stdout",
     "output_type": "stream",
     "text": [
      "['z', 'a', 'z', 't', 'z', 'l', 'z', 'o']\n"
     ]
    }
   ],
   "source": [
    "\n",
    "la = ['m', 'a', 'r', 't', 'e', 'l', 'l', 'o']\n",
    "\n",
    "# scrivi qui\n",
    "for i in range(len(la)):\n",
    "    if i % 2 == 0:\n",
    "        la[i] = 'z'        \n",
    "print(la)"
   ]
  },
  {
   "cell_type": "raw",
   "id": "27a57ad9",
   "metadata": {
    "format": "text/html"
   },
   "source": [
    "</div>"
   ]
  },
  {
   "cell_type": "code",
   "execution_count": 38,
   "metadata": {},
   "outputs": [],
   "source": [
    "\n",
    "la = ['m', 'a', 'r', 't', 'e', 'l', 'l', 'o']\n",
    "\n",
    "# scrivi qui\n",
    "\n"
   ]
  },
  {
   "cell_type": "markdown",
   "metadata": {},
   "source": [
    "### Esercizio - Orangutang\n",
    "\n",
    "✪✪ Date due stringhe `sa` e `sb`, scrivi del codice che mette nella stringa `sc` una stringa composta da tutte le lettere in `sa` e `sb` alternate\n",
    "\n",
    "* se una stringa è più corta dell'altra, in fondo a `sc` metti tutte le lettere restanti dell'altra stringa\n",
    "* **SUGGERIMENTO**: sebbene sia possibile crescere una scringa un carattere alla volta ad ogni iterazione, ogni volta che lo fai viene creata una nuova stringa (perchè le stringhe sono immutabili). E' quindi più efficiente crescere una lista e convertirla in stringa alla fine.\n",
    "\n",
    "Esempio - dati:\n",
    "\n",
    "```python\n",
    "sa,sb = 'gibbone', 'ORANGUTANG' \n",
    "```\n",
    "\n",
    "dopo il tuo codice deve risultare:\n",
    "\n",
    "```python\n",
    ">>> print(sc)\n",
    "gOiRbAbNoGnUeTANG\n",
    "```\n"
   ]
  },
  {
   "cell_type": "raw",
   "id": "c503e0a9",
   "metadata": {
    "format": "text/html"
   },
   "source": [
    "<a  class=\"jupman-sol jupman-sol-toggler\" \n",
    " onclick=\"jupman.toggleSolution(this);\" \n",
    " data-jupman-show=\"Mostra soluzione\" data-jupman-hide=\"Nascondi\">Mostra soluzione</a><div class=\"jupman-sol jupman-sol-code\" style=\"display:none\">  "
   ]
  },
  {
   "cell_type": "code",
   "execution_count": 39,
   "metadata": {},
   "outputs": [
    {
     "name": "stdout",
     "output_type": "stream",
     "text": [
      "gOiRbAbNoGnUeTANG\n"
     ]
    }
   ],
   "source": [
    "\n",
    "sa,sb = 'gibbone', 'ORANGUTANG'  # gOiRbAbNoGnUeTANG\n",
    "#sa,sb = 'crociera', 'BARCA'     # cBrAoRcCiAera\n",
    "#sa,sb = '', ''                  # \n",
    "\n",
    "# scrivi qui\n",
    "temp = []\n",
    "\n",
    "for i in range(len(sa)):\n",
    "    temp.append(sa[i])\n",
    "    if i < len(sb):\n",
    "        temp.append(sb[i])\n",
    "        \n",
    "if i < len(sb):\n",
    "    temp.extend(sb[i+1:])\n",
    "    \n",
    "sc = ''.join(temp)\n",
    "print(sc)"
   ]
  },
  {
   "cell_type": "raw",
   "id": "1a43424b",
   "metadata": {
    "format": "text/html"
   },
   "source": [
    "</div>"
   ]
  },
  {
   "cell_type": "code",
   "execution_count": 39,
   "metadata": {},
   "outputs": [],
   "source": [
    "\n",
    "sa,sb = 'gibbone', 'ORANGUTANG'  # gOiRbAbNoGnUeTANG\n",
    "#sa,sb = 'crociera', 'BARCA'     # cBrAoRcCiAera\n",
    "#sa,sb = '', ''                  # \n",
    "\n",
    "# scrivi qui\n",
    "\n"
   ]
  },
  {
   "cell_type": "markdown",
   "metadata": {},
   "source": [
    "### Esercizio - cesta\n",
    "\n",
    "✪✪✪ C'è una `cesta` piena di frutta, che rappresentiamo come lista di stringhe. Vogliamo prendere dei frutti e metterli in un piatto, nello stesso ordine in cui li troviamo nella cesta. Bisogna prendere solo i frutti contenuti nell'insieme `preferenze`.\n",
    "\n",
    "- La `cesta` può contenere duplicati, se sono nelle preferenze devi prenderli tutti\n",
    "- i frutti vanno presi **nello stesso ordine** in cui sono trovati\n",
    "\n",
    "Esempio - dati: \n",
    "\n",
    "```python\n",
    "cesta = ['fragola', 'melone', 'ciliegia', 'anguria', 'mela', 'melone','anguria', 'mela', ]\n",
    "preferita = {'ciliegia', 'mela', 'fragola'}\n",
    "piatto = []\n",
    "```\n",
    "\n",
    "dopo il tuo codice, deve risultare:\n",
    "\n",
    "```python\n",
    ">>> print(cesta)\n",
    "['melone', 'anguria', 'melone', 'anguria']\n",
    ">>> print(piatto)\n",
    "['fragola', 'ciliegia', 'mela', 'mela']\n",
    "```\n",
    "    \n",
    "Si può risolvere il problema in due modi:\n",
    "\n",
    "- Modo 1 (semplice e consigliabile): crea una lista `nuova_cesta` e infine la assegna alla variabile `cesta`\n",
    "- Modo 2 (difficile, lento, sconsigliabile ma istruttivo): MODIFICA la lista `cesta` originale, usando il [metodo pop](https://it.softpython.org/lists/lists3-sol.html#Metodo-pop) e senza mai riassegnare `cesta`, quindi niente righe che iniziano con `cesta = `\n",
    "\n",
    "\n",
    "Prova a risolvere l'esercizio in entrambi i modi.\n",
    "\n",
    "<div class=\"alert alert-warning\">\n",
    "\n",
    "**ATTENZIONE: Per entrambi i modi, ricordati il sacro** \n",
    "\n",
    "[X COMANDAMENTO](https://it.softpython.org/commandments.html#X-COMANDAMENTO): **Non aggiungerai o toglierai mai elementi da una sequenza che stai iterando con un** `for`**!**\n",
    "</div>\n",
    "\n",
    "\n"
   ]
  },
  {
   "cell_type": "raw",
   "id": "cdaa228a",
   "metadata": {
    "format": "text/html"
   },
   "source": [
    "<a  class=\"jupman-sol jupman-sol-toggler\" \n",
    " onclick=\"jupman.toggleSolution(this);\" \n",
    " data-jupman-show=\"Mostra soluzione\" data-jupman-hide=\"Nascondi\">Mostra soluzione</a><div class=\"jupman-sol jupman-sol-code\" style=\"display:none\">  "
   ]
  },
  {
   "cell_type": "code",
   "execution_count": 40,
   "metadata": {},
   "outputs": [
    {
     "name": "stdout",
     "output_type": "stream",
     "text": [
      "cesta: ['melone', 'anguria', 'melone', 'anguria']\n",
      "piatto: ['fragola', 'ciliegia', 'mela', 'mela']\n"
     ]
    }
   ],
   "source": [
    "\n",
    "# MODO 1\n",
    "\n",
    "cesta = ['fragola', 'melone', 'ciliegia', 'anguria', 'mela', 'melone','anguria', 'mela', ]\n",
    "preferita = {'ciliegia', 'mela', 'fragola'}\n",
    "piatto = []\n",
    "\n",
    "# scrivi qui \n",
    "nuova_cesta = []\n",
    "for frutto in cesta:    \n",
    "    if frutto in preferita:\n",
    "        piatto.append(frutto)\n",
    "    else:\n",
    "        nuova_cesta.append(frutto)\n",
    "        \n",
    "    \n",
    "cesta = nuova_cesta   # sostituiamo lista originale    \n",
    "print('cesta:',cesta)\n",
    "print('piatto:',piatto)"
   ]
  },
  {
   "cell_type": "raw",
   "id": "53010a3a",
   "metadata": {
    "format": "text/html"
   },
   "source": [
    "</div>"
   ]
  },
  {
   "cell_type": "code",
   "execution_count": 40,
   "metadata": {},
   "outputs": [],
   "source": [
    "\n",
    "# MODO 1\n",
    "\n",
    "cesta = ['fragola', 'melone', 'ciliegia', 'anguria', 'mela', 'melone','anguria', 'mela', ]\n",
    "preferita = {'ciliegia', 'mela', 'fragola'}\n",
    "piatto = []\n",
    "\n",
    "# scrivi qui \n",
    "\n"
   ]
  },
  {
   "cell_type": "raw",
   "id": "657bb016",
   "metadata": {
    "format": "text/html"
   },
   "source": [
    "<a  class=\"jupman-sol jupman-sol-toggler\" \n",
    " onclick=\"jupman.toggleSolution(this);\" \n",
    " data-jupman-show=\"Mostra soluzione\" data-jupman-hide=\"Nascondi\">Mostra soluzione</a><div class=\"jupman-sol jupman-sol-code\" style=\"display:none\">  "
   ]
  },
  {
   "cell_type": "code",
   "execution_count": 41,
   "metadata": {},
   "outputs": [
    {
     "name": "stdout",
     "output_type": "stream",
     "text": [
      "cesta: ['melone', 'anguria', 'melone', 'anguria']\n",
      "piatto: ['fragola', 'ciliegia', 'mela', 'mela']\n"
     ]
    }
   ],
   "source": [
    "\n",
    "# MODO 2\n",
    "\n",
    "cesta = ['fragola', 'melone', 'ciliegia', 'anguria', 'mela', 'melone','anguria', 'mela', ]\n",
    "preferita = {'ciliegia', 'mela', 'fragola'}\n",
    "piatto = []\n",
    "\n",
    "# scrivi qui \n",
    "copia = list(cesta)\n",
    "j = 0\n",
    "\n",
    "# così siamo sicuri di iterare su una sequenza diversa da quella che modifichiamo\n",
    "for i in range(len(copia)):  \n",
    "    frutto = copia[i]\n",
    "    if frutto in preferita:\n",
    "        piatto.append(frutto)\n",
    "        cesta.pop(j)\n",
    "    else:\n",
    "        j += 1\n",
    "        \n",
    "print('cesta:',cesta)\n",
    "print('piatto:',piatto)"
   ]
  },
  {
   "cell_type": "raw",
   "id": "1e8a0895",
   "metadata": {
    "format": "text/html"
   },
   "source": [
    "</div>"
   ]
  },
  {
   "cell_type": "code",
   "execution_count": 41,
   "metadata": {},
   "outputs": [],
   "source": [
    "\n",
    "# MODO 2\n",
    "\n",
    "cesta = ['fragola', 'melone', 'ciliegia', 'anguria', 'mela', 'melone','anguria', 'mela', ]\n",
    "preferita = {'ciliegia', 'mela', 'fragola'}\n",
    "piatto = []\n",
    "\n",
    "# scrivi qui \n",
    "\n"
   ]
  },
  {
   "cell_type": "markdown",
   "metadata": {},
   "source": [
    "## Comandi `break` e `continue`\n",
    "\n",
    "Per avere ancora più controllo sull'esecuzione di un ciclo possiamo usare i comandi `break` e `continue` . \n",
    "\n",
    "<div class=\"alert alert-info\">\n",
    "\n",
    "**NOTA: Cerca di limitarne l'uso!**\n",
    "\n",
    "Quando vi è molto codice nel ciclo è facile 'dimenticarsi' della loro presenza trovandosi con bug difficili da scovare. D'altro canto, in alcuni casi selezionati _possono_ rendere il codice più leggibile, quindi come in tutte le cose vanno usati con giudizio.\n",
    "\n",
    "</div>"
   ]
  },
  {
   "cell_type": "markdown",
   "metadata": {},
   "source": [
    "### Terminare con un `break`\n",
    "\n",
    "Per uscire immediatamente da un ciclo si può usare il comando `break`:"
   ]
  },
  {
   "cell_type": "code",
   "execution_count": 42,
   "metadata": {},
   "outputs": [
    {
     "name": "stdout",
     "output_type": "stream",
     "text": [
      "l\n",
      "a\n",
      "v\n",
      "a\n",
      "break, esce dal ciclo!\n",
      "Ciclo finito !\n"
     ]
    }
   ],
   "source": [
    "for x in 'lavato':\n",
    "            \n",
    "    if x == 't':\n",
    "        print('break, esce dal ciclo!')\n",
    "        break\n",
    "        print('Dopo il break')\n",
    "        \n",
    "    print(x)\n",
    "    \n",
    "print('Ciclo finito !')"
   ]
  },
  {
   "cell_type": "markdown",
   "metadata": {},
   "source": [
    "Nota come l'istruzione che stampa `'Dopo il break'` _non_ sia stata eseguita."
   ]
  },
  {
   "cell_type": "markdown",
   "metadata": {},
   "source": [
    "### Proseguire con `continue`\n",
    "\n",
    "E' possibile portare l'esecuzione immediatamente all'iterazione successiva chiamando `continue`, che salta subito al successivo elemento della sequenza senza eseguire le istruzioni dopo il `continue`."
   ]
  },
  {
   "cell_type": "code",
   "execution_count": 43,
   "metadata": {
    "scrolled": false
   },
   "outputs": [
    {
     "name": "stdout",
     "output_type": "stream",
     "text": [
      "l\n",
      "continue, salta all'elemento successivo\n",
      "v\n",
      "continue, salta all'elemento successivo\n",
      "t\n",
      "o\n",
      "Ciclo finito !\n"
     ]
    }
   ],
   "source": [
    "i = 1\n",
    "for x in 'lavato':\n",
    "        \n",
    "    if x == 'a':\n",
    "        print(\"continue, salta all'elemento successivo\")\n",
    "        continue            \n",
    "    print(x)\n",
    "print('Ciclo finito !')"
   ]
  },
  {
   "cell_type": "markdown",
   "metadata": {},
   "source": [
    "### Combinare `break` e `continue`\n",
    "\n",
    "Proviamo a vedere entrambi in Python Tutor:"
   ]
  },
  {
   "cell_type": "code",
   "execution_count": 44,
   "metadata": {},
   "outputs": [
    {
     "name": "stdout",
     "output_type": "stream",
     "text": [
      "l\n",
      "continue, salta all'elemento successivo\n",
      "v\n",
      "continue, salta all'elemento successivo\n",
      "break, esce dal ciclo!\n",
      "Ciclo finito !\n"
     ]
    },
    {
     "data": {
      "text/html": [
       "        \n",
       "        <script src=\"../_static/js/pytutor-embed.bundle.min.js\" type=\"application/javascript\"></script>\n",
       "    \n",
       "        <style>\n",
       "        @import \"../_static/css/jupman.css\";\n",
       "        </style>\n",
       "     \n",
       "        <script id=\"json-jm-de11a1b5725c041c9eac58a6b51b5b73-46\" type=\"application/json\" >\n",
       "            {\"code\": \" \\ni = 1\\nfor x in 'lavato':    \\n    if x == 'a':\\n        print(\\\"continue, salta all'elemento successivo\\\")\\n        continue    \\n    if x == 't':\\n        print('break, esce dal ciclo!')\\n        break\\n    print(x)    \\n    \\nprint('Ciclo finito !')\", \"trace\": [{\"line\": 2, \"event\": \"step_line\", \"func_name\": \"<module>\", \"globals\": {}, \"ordered_globals\": [], \"stack_to_render\": [], \"heap\": {}, \"stdout\": \"\"}, {\"line\": 3, \"event\": \"step_line\", \"func_name\": \"<module>\", \"globals\": {\"i\": 1}, \"ordered_globals\": [\"i\"], \"stack_to_render\": [], \"heap\": {}, \"stdout\": \"\"}, {\"line\": 4, \"event\": \"step_line\", \"func_name\": \"<module>\", \"globals\": {\"i\": 1, \"x\": \"l\"}, \"ordered_globals\": [\"i\", \"x\"], \"stack_to_render\": [], \"heap\": {}, \"stdout\": \"\"}, {\"line\": 7, \"event\": \"step_line\", \"func_name\": \"<module>\", \"globals\": {\"i\": 1, \"x\": \"l\"}, \"ordered_globals\": [\"i\", \"x\"], \"stack_to_render\": [], \"heap\": {}, \"stdout\": \"\"}, {\"line\": 10, \"event\": \"step_line\", \"func_name\": \"<module>\", \"globals\": {\"i\": 1, \"x\": \"l\"}, \"ordered_globals\": [\"i\", \"x\"], \"stack_to_render\": [], \"heap\": {}, \"stdout\": \"\"}, {\"line\": 3, \"event\": \"step_line\", \"func_name\": \"<module>\", \"globals\": {\"i\": 1, \"x\": \"l\"}, \"ordered_globals\": [\"i\", \"x\"], \"stack_to_render\": [], \"heap\": {}, \"stdout\": \"l\\n\"}, {\"line\": 4, \"event\": \"step_line\", \"func_name\": \"<module>\", \"globals\": {\"i\": 1, \"x\": \"a\"}, \"ordered_globals\": [\"i\", \"x\"], \"stack_to_render\": [], \"heap\": {}, \"stdout\": \"l\\n\"}, {\"line\": 5, \"event\": \"step_line\", \"func_name\": \"<module>\", \"globals\": {\"i\": 1, \"x\": \"a\"}, \"ordered_globals\": [\"i\", \"x\"], \"stack_to_render\": [], \"heap\": {}, \"stdout\": \"l\\n\"}, {\"line\": 6, \"event\": \"step_line\", \"func_name\": \"<module>\", \"globals\": {\"i\": 1, \"x\": \"a\"}, \"ordered_globals\": [\"i\", \"x\"], \"stack_to_render\": [], \"heap\": {}, \"stdout\": \"l\\ncontinue, salta all'elemento successivo\\n\"}, {\"line\": 3, \"event\": \"step_line\", \"func_name\": \"<module>\", \"globals\": {\"i\": 1, \"x\": \"a\"}, \"ordered_globals\": [\"i\", \"x\"], \"stack_to_render\": [], \"heap\": {}, \"stdout\": \"l\\ncontinue, salta all'elemento successivo\\n\"}, {\"line\": 4, \"event\": \"step_line\", \"func_name\": \"<module>\", \"globals\": {\"i\": 1, \"x\": \"v\"}, \"ordered_globals\": [\"i\", \"x\"], \"stack_to_render\": [], \"heap\": {}, \"stdout\": \"l\\ncontinue, salta all'elemento successivo\\n\"}, {\"line\": 7, \"event\": \"step_line\", \"func_name\": \"<module>\", \"globals\": {\"i\": 1, \"x\": \"v\"}, \"ordered_globals\": [\"i\", \"x\"], \"stack_to_render\": [], \"heap\": {}, \"stdout\": \"l\\ncontinue, salta all'elemento successivo\\n\"}, {\"line\": 10, \"event\": \"step_line\", \"func_name\": \"<module>\", \"globals\": {\"i\": 1, \"x\": \"v\"}, \"ordered_globals\": [\"i\", \"x\"], \"stack_to_render\": [], \"heap\": {}, \"stdout\": \"l\\ncontinue, salta all'elemento successivo\\n\"}, {\"line\": 3, \"event\": \"step_line\", \"func_name\": \"<module>\", \"globals\": {\"i\": 1, \"x\": \"v\"}, \"ordered_globals\": [\"i\", \"x\"], \"stack_to_render\": [], \"heap\": {}, \"stdout\": \"l\\ncontinue, salta all'elemento successivo\\nv\\n\"}, {\"line\": 4, \"event\": \"step_line\", \"func_name\": \"<module>\", \"globals\": {\"i\": 1, \"x\": \"a\"}, \"ordered_globals\": [\"i\", \"x\"], \"stack_to_render\": [], \"heap\": {}, \"stdout\": \"l\\ncontinue, salta all'elemento successivo\\nv\\n\"}, {\"line\": 5, \"event\": \"step_line\", \"func_name\": \"<module>\", \"globals\": {\"i\": 1, \"x\": \"a\"}, \"ordered_globals\": [\"i\", \"x\"], \"stack_to_render\": [], \"heap\": {}, \"stdout\": \"l\\ncontinue, salta all'elemento successivo\\nv\\n\"}, {\"line\": 6, \"event\": \"step_line\", \"func_name\": \"<module>\", \"globals\": {\"i\": 1, \"x\": \"a\"}, \"ordered_globals\": [\"i\", \"x\"], \"stack_to_render\": [], \"heap\": {}, \"stdout\": \"l\\ncontinue, salta all'elemento successivo\\nv\\ncontinue, salta all'elemento successivo\\n\"}, {\"line\": 3, \"event\": \"step_line\", \"func_name\": \"<module>\", \"globals\": {\"i\": 1, \"x\": \"a\"}, \"ordered_globals\": [\"i\", \"x\"], \"stack_to_render\": [], \"heap\": {}, \"stdout\": \"l\\ncontinue, salta all'elemento successivo\\nv\\ncontinue, salta all'elemento successivo\\n\"}, {\"line\": 4, \"event\": \"step_line\", \"func_name\": \"<module>\", \"globals\": {\"i\": 1, \"x\": \"t\"}, \"ordered_globals\": [\"i\", \"x\"], \"stack_to_render\": [], \"heap\": {}, \"stdout\": \"l\\ncontinue, salta all'elemento successivo\\nv\\ncontinue, salta all'elemento successivo\\n\"}, {\"line\": 7, \"event\": \"step_line\", \"func_name\": \"<module>\", \"globals\": {\"i\": 1, \"x\": \"t\"}, \"ordered_globals\": [\"i\", \"x\"], \"stack_to_render\": [], \"heap\": {}, \"stdout\": \"l\\ncontinue, salta all'elemento successivo\\nv\\ncontinue, salta all'elemento successivo\\n\"}, {\"line\": 8, \"event\": \"step_line\", \"func_name\": \"<module>\", \"globals\": {\"i\": 1, \"x\": \"t\"}, \"ordered_globals\": [\"i\", \"x\"], \"stack_to_render\": [], \"heap\": {}, \"stdout\": \"l\\ncontinue, salta all'elemento successivo\\nv\\ncontinue, salta all'elemento successivo\\n\"}, {\"line\": 9, \"event\": \"step_line\", \"func_name\": \"<module>\", \"globals\": {\"i\": 1, \"x\": \"t\"}, \"ordered_globals\": [\"i\", \"x\"], \"stack_to_render\": [], \"heap\": {}, \"stdout\": \"l\\ncontinue, salta all'elemento successivo\\nv\\ncontinue, salta all'elemento successivo\\nbreak, esce dal ciclo!\\n\"}, {\"line\": 12, \"event\": \"step_line\", \"func_name\": \"<module>\", \"globals\": {\"i\": 1, \"x\": \"t\"}, \"ordered_globals\": [\"i\", \"x\"], \"stack_to_render\": [], \"heap\": {}, \"stdout\": \"l\\ncontinue, salta all'elemento successivo\\nv\\ncontinue, salta all'elemento successivo\\nbreak, esce dal ciclo!\\n\"}, {\"line\": 12, \"event\": \"return\", \"func_name\": \"<module>\", \"globals\": {\"i\": 1, \"x\": \"t\"}, \"ordered_globals\": [\"i\", \"x\"], \"stack_to_render\": [], \"heap\": {}, \"stdout\": \"l\\ncontinue, salta all'elemento successivo\\nv\\ncontinue, salta all'elemento successivo\\nbreak, esce dal ciclo!\\nCiclo finito !\\n\"}]}\n",
       "        </script>\n",
       "        <div id=\"jm-de11a1b5725c041c9eac58a6b51b5b73-46\" class=\"pytutorVisualizer\"> </div>\n",
       "                        \n",
       "        <script>\n",
       "        \n",
       "        (function(){\n",
       "            console.log(\"jupman.py embedded javascript: adding Python tutor visualizer...\")\n",
       "            \n",
       "            var trace = JSON.parse(document.getElementById('json-jm-de11a1b5725c041c9eac58a6b51b5b73-46').innerHTML);                                        \n",
       "            // NOTE: id without #\n",
       "                    \n",
       "            addVisualizerToPage(trace, 'jm-de11a1b5725c041c9eac58a6b51b5b73-46',{'embeddedMode' : false,\n",
       "                                             'disableHeapNesting': true,\n",
       "                                             'visualizerIdOverride':'viz-jm-de11a1b5725c041c9eac58a6b51b5b73-46'})  \n",
       "            \n",
       "            \n",
       "            // set overflow for pytuts - need to do in python as css \n",
       "            // does not allow parent selection\n",
       "            var pytuts = $('.pytutorVisualizer')\n",
       "            pytuts.closest('div.output_html.rendered_html.output_result')\n",
       "                    .css('overflow-x', 'visible')\n",
       "        \n",
       "            //pytuts.closest('div.output_html.rendered_html.output_result')\n",
       "            //      .css('background-color','red')                \n",
       "            \n",
       "        })()\n",
       "        </script>\n",
       "                \n",
       "    \n",
       "    <div style=\"text-align:center; font-size:0.9em\"> <a href=\"https://pythontutor.com/visualize.html#mode=edit\" target=\"_blank\">Python Tutor</a> visualization</div> \n",
       "    "
      ],
      "text/plain": [
       "<IPython.core.display.HTML object>"
      ]
     },
     "execution_count": 44,
     "metadata": {},
     "output_type": "execute_result"
    }
   ],
   "source": [
    "i = 1\n",
    "for x in 'lavato':    \n",
    "    if x == 'a':\n",
    "        print(\"continue, salta all'elemento successivo\")\n",
    "        continue    \n",
    "    if x == 't':\n",
    "        print('break, esce dal ciclo!')\n",
    "        break\n",
    "    print(x)    \n",
    "    \n",
    "print('Ciclo finito !')\n",
    "\n",
    "jupman.pytut()"
   ]
  },
  {
   "cell_type": "markdown",
   "metadata": {},
   "source": [
    "### Domande - break e continue\n",
    "\n",
    "Guarda i seguenti frammenti di codice, e per ciascuno cerca di indovinare quale risultato produce (o se da errore):\n",
    "\n",
    "\n",
    "1.  ```python\n",
    "    for x in ['a','b','c']:\n",
    "        print(x)\n",
    "        break\n",
    "    ```\n",
    "1.  ```python\n",
    "    for x in ['a','b','c']:\n",
    "        print(x)\n",
    "        break\n",
    "        print('GLAM')\n",
    "    ```    \n",
    "1.  ```python\n",
    "    for x in ['a','b','c']:\n",
    "        print(x)\n",
    "        break\n",
    "        break\n",
    "    ```    \n",
    "1.  ```python\n",
    "    for x in ['a','b','c']:\n",
    "        break\n",
    "        print(x)\n",
    "    ```        \n",
    "1.  ```python\n",
    "    break\n",
    "    for x in ['a','b','c']:      \n",
    "        print(x)\n",
    "    ```            \n",
    "1.  ```python\n",
    "    for x in ['a','b','c']:       \n",
    "        print(x)\n",
    "    break        \n",
    "    ```                \n",
    "1.  ```python\n",
    "    for x in ['a','b','c']:\n",
    "        continue\n",
    "        print(x)            \n",
    "    ```\n",
    "1.  ```python\n",
    "    for x in ['a','b','c']:        \n",
    "        print(x)            \n",
    "        continue\n",
    "    ```\n",
    "1.  ```python\n",
    "    for x in ['a','b','c']:        \n",
    "        print(x)            \n",
    "        continue\n",
    "        print('BAM')\n",
    "    ```    \n",
    "1.  ```python\n",
    "    continue\n",
    "    for x in ['a','b','c']:        \n",
    "        print(x)   \n",
    "    ```\n",
    "1.  ```python    \n",
    "    for x in ['a','b','c']:        \n",
    "        print(x)   \n",
    "    continue\n",
    "    ```   \n",
    "1.  ```python\n",
    "    for x in ['a','b','c']:    \n",
    "        break\n",
    "        1/0\n",
    "    print('BAD KARMA')\n",
    "    ```\n",
    "1.  ```python\n",
    "    for x in ['a','b','c']:    \n",
    "        1/0\n",
    "        break\n",
    "    print('BAD KARMA')\n",
    "    ```\n",
    "1.  ```python\n",
    "    for x in range(8):    \n",
    "        if x < 4:\n",
    "            continue\n",
    "        print('ZAM', x)\n",
    "    ```\n",
    "1.  ```python\n",
    "    for x in range(8):    \n",
    "        if x >= 4:\n",
    "            break\n",
    "        print('ZUM', x)\n",
    "    ```\n",
    "1.  ```python\n",
    "    for x in range(6):\n",
    "        if x % 2 == 0:\n",
    "            continue\n",
    "        print(x)\n",
    "    ```\n",
    "1.  ```python\n",
    "    for x in ['M','C','M']:\n",
    "        print(x)\n",
    "        for y in ['S','P','Q','R']:\n",
    "            print(y)\n",
    "            break        \n",
    "    ```\n",
    "1.  ```python\n",
    "    for x in ['M','C','M']:\n",
    "        print(x)\n",
    "        break\n",
    "        for y in ['S','P','Q','R']:\n",
    "            print(y)\n",
    "    ```\n",
    "1.  ```python\n",
    "    for x in ['M','C','M']:\n",
    "        print(x)\n",
    "        for y in ['S','P','Q','R']:\n",
    "            print(y)\n",
    "            continue\n",
    "    ```\n",
    "1.  ```python\n",
    "    for x in ['M','C','M']:\n",
    "        print(x)\n",
    "        continue\n",
    "        for y in ['S','P','Q','R']:\n",
    "            print(y)\n",
    "    ```"
   ]
  },
  {
   "cell_type": "markdown",
   "metadata": {},
   "source": [
    "### Esercizio - continuamente\n",
    "\n",
    "✪ Scrivi del codice che data una stringa `parola`, stampa tutti i caratteri _eccetto_ le vocali.\n",
    "\n",
    "Esempio - data:\n",
    "\n",
    "```python\n",
    "parola = 'continuamente'\n",
    "```\n",
    "\n",
    "stampa\n",
    "\n",
    "```\n",
    "c\n",
    "n\n",
    "t\n",
    "n\n",
    "m\n",
    "n\n",
    "t\n",
    "```\n"
   ]
  },
  {
   "cell_type": "raw",
   "id": "472bd942",
   "metadata": {
    "format": "text/html"
   },
   "source": [
    "<a  class=\"jupman-sol jupman-sol-toggler\" \n",
    " onclick=\"jupman.toggleSolution(this);\" \n",
    " data-jupman-show=\"Mostra soluzione\" data-jupman-hide=\"Nascondi\">Mostra soluzione</a><div class=\"jupman-sol jupman-sol-code\" style=\"display:none\">  "
   ]
  },
  {
   "cell_type": "code",
   "execution_count": 45,
   "metadata": {},
   "outputs": [
    {
     "name": "stdout",
     "output_type": "stream",
     "text": [
      "c\n",
      "n\n",
      "t\n",
      "n\n",
      "m\n",
      "n\n",
      "t\n"
     ]
    }
   ],
   "source": [
    "\n",
    "parola = 'continuamente'\n",
    "#parola='aiuola'\n",
    "\n",
    "# scrivi qui\n",
    "for x in parola:\n",
    "    if x in 'aeiou':\n",
    "        continue\n",
    "    else:\n",
    "        print(x)"
   ]
  },
  {
   "cell_type": "raw",
   "id": "94eedce5",
   "metadata": {
    "format": "text/html"
   },
   "source": [
    "</div>"
   ]
  },
  {
   "cell_type": "code",
   "execution_count": 45,
   "metadata": {},
   "outputs": [],
   "source": [
    "\n",
    "parola = 'continuamente'\n",
    "#parola='aiuola'\n",
    "\n",
    "# scrivi qui\n",
    "\n"
   ]
  },
  {
   "cell_type": "markdown",
   "metadata": {},
   "source": [
    "### Esercizio - breaking bad\n",
    "\n",
    "✪ Scrivi del codice che stampa tutti i caratteri da `stringa` finchè non incontra la stringa `'bad'`.\n",
    "\n",
    "Esempio - data\n",
    "\n",
    "```python\n",
    "stringa = 'cascapirillabadgnippobadzarpogno'\n",
    "```\n",
    "\n",
    "stampa\n",
    "\n",
    "```\n",
    "c\n",
    "a\n",
    "s\n",
    "c\n",
    "a\n",
    "p\n",
    "i\n",
    "r\n",
    "i\n",
    "l\n",
    "l\n",
    "a\n",
    "```"
   ]
  },
  {
   "cell_type": "raw",
   "id": "0cf72649",
   "metadata": {
    "format": "text/html"
   },
   "source": [
    "<a  class=\"jupman-sol jupman-sol-toggler\" \n",
    " onclick=\"jupman.toggleSolution(this);\" \n",
    " data-jupman-show=\"Mostra soluzione\" data-jupman-hide=\"Nascondi\">Mostra soluzione</a><div class=\"jupman-sol jupman-sol-code\" style=\"display:none\">  "
   ]
  },
  {
   "cell_type": "code",
   "execution_count": 46,
   "metadata": {},
   "outputs": [
    {
     "name": "stdout",
     "output_type": "stream",
     "text": [
      "c\n",
      "a\n",
      "s\n",
      "c\n",
      "a\n",
      "p\n",
      "i\n",
      "r\n",
      "i\n",
      "l\n",
      "l\n",
      "a\n"
     ]
    }
   ],
   "source": [
    "\n",
    "stringa = 'cascapirillabadgnippobadzarpogno'  # cascapirilla\n",
    "#stringa = 'sobad'  # 'so'\n",
    "#stringa = 'bad'  # ''\n",
    "#stringa = 'badso'  # ''\n",
    "\n",
    "# scrivi qui\n",
    "for i in range(len(stringa)):\n",
    "    if stringa[i:i+3] == 'bad':\n",
    "        break\n",
    "    else:\n",
    "        print(stringa[i])    "
   ]
  },
  {
   "cell_type": "raw",
   "id": "81f8f874",
   "metadata": {
    "format": "text/html"
   },
   "source": [
    "</div>"
   ]
  },
  {
   "cell_type": "code",
   "execution_count": 46,
   "metadata": {},
   "outputs": [],
   "source": [
    "\n",
    "stringa = 'cascapirillabadgnippobadzarpogno'  # cascapirilla\n",
    "#stringa = 'sobad'  # 'so'\n",
    "#stringa = 'bad'  # ''\n",
    "#stringa = 'badso'  # ''\n",
    "\n",
    "# scrivi qui\n",
    "\n"
   ]
  },
  {
   "cell_type": "markdown",
   "metadata": {},
   "source": [
    "### Esercizio - punto di rottura\n",
    "\n",
    "✪✪ Data una frase, stampa le parole una per riga _finchè_ trova un punto, e in tal caso si ferma.\n",
    "\n",
    "* **NON** usare `frase.split('.')`, ma split su altri caratteri sono consentite.\n",
    "\n",
    "Esempio - data:\n",
    "\n",
    "```python\n",
    "frase = 'Ad un certo punto bisogna fermarsi. Mai oltrepassare il limite.'\n",
    "```\n",
    "\n",
    "stampa\n",
    "\n",
    "```\n",
    "Ad\n",
    "un\n",
    "certo\n",
    "punto\n",
    "bisogna\n",
    "fermarsi\n",
    "```"
   ]
  },
  {
   "cell_type": "raw",
   "id": "9c20704a",
   "metadata": {
    "format": "text/html"
   },
   "source": [
    "<a  class=\"jupman-sol jupman-sol-toggler\" \n",
    " onclick=\"jupman.toggleSolution(this);\" \n",
    " data-jupman-show=\"Mostra soluzione\" data-jupman-hide=\"Nascondi\">Mostra soluzione</a><div class=\"jupman-sol jupman-sol-code\" style=\"display:none\">  "
   ]
  },
  {
   "cell_type": "code",
   "execution_count": 47,
   "metadata": {},
   "outputs": [
    {
     "name": "stdout",
     "output_type": "stream",
     "text": [
      "Ad\n",
      "un\n",
      "certo\n",
      "punto\n",
      "bisogna\n",
      "fermarsi\n"
     ]
    }
   ],
   "source": [
    "\n",
    "frase = 'Ad un certo punto bisogna fermarsi. Mai oltrepassare il limite.'\n",
    "#frase = \"Rispetta l'altolà. Non vorrai farci arrestare?\"\n",
    "#frase = 'Stop.'\n",
    "#frase = 'No stop'\n",
    "\n",
    "# scrivi qui\n",
    "\n",
    "for parola in frase.split():\n",
    "    if '.' in parola:\n",
    "        print(parola[:-1])\n",
    "        break\n",
    "    else:\n",
    "        print(parola)"
   ]
  },
  {
   "cell_type": "raw",
   "id": "63b0444c",
   "metadata": {
    "format": "text/html"
   },
   "source": [
    "</div>"
   ]
  },
  {
   "cell_type": "code",
   "execution_count": 47,
   "metadata": {},
   "outputs": [],
   "source": [
    "\n",
    "frase = 'Ad un certo punto bisogna fermarsi. Mai oltrepassare il limite.'\n",
    "#frase = \"Rispetta l'altolà. Non vorrai farci arrestare?\"\n",
    "#frase = 'Stop.'\n",
    "#frase = 'No stop'\n",
    "\n",
    "# scrivi qui\n",
    "\n"
   ]
  },
  {
   "cell_type": "markdown",
   "metadata": {},
   "source": [
    "### Esercizio - breakdance\n",
    "        \n",
    "✪✪ Sei un abile breakdancer e ti viene data della `musica` come lista di suoni. Dovrai fare due balli: \n",
    "\n",
    "- al primo dovrai ripetere i suoni della musica fino a quando hai incontrato esattmente `3` suoni `'pa'`, al che esclamerai `BREAKDANCE!`. \n",
    "- al secondo dovrai ripetere i suoni della musica _al contrario_ fino a quando hai incontrato esattmente `3` suoni `'pa'`, al che esclamerai `BREAKDANCE!`\n",
    "\n",
    "\n",
    "- **NON** modificare `musica`, quindi niente `musica.reverse()`\n",
    "\n",
    "Esempio - data: \n",
    "\n",
    "```python\n",
    "musica = ['unz','pa','pa','tud','unz','pa','pa','tud','unz','boom','boom','tud']\n",
    "```"
   ]
  },
  {
   "cell_type": "markdown",
   "metadata": {},
   "source": [
    "Stampa:\n",
    "\n",
    "```\n",
    "unz\n",
    "pa\n",
    "pa\n",
    "tud\n",
    "unz\n",
    "pa\n",
    "BREAKDANCE!\n",
    "\n",
    "tud\n",
    "boom\n",
    "boom\n",
    "unz\n",
    "tud\n",
    "pa\n",
    "pa\n",
    "unz\n",
    "tud\n",
    "pa\n",
    "BREAKDANCE!\n",
    "```"
   ]
  },
  {
   "cell_type": "raw",
   "id": "a55a176c",
   "metadata": {
    "format": "text/html"
   },
   "source": [
    "<a  class=\"jupman-sol jupman-sol-toggler\" \n",
    " onclick=\"jupman.toggleSolution(this);\" \n",
    " data-jupman-show=\"Mostra soluzione\" data-jupman-hide=\"Nascondi\">Mostra soluzione</a><div class=\"jupman-sol jupman-sol-code\" style=\"display:none\">  "
   ]
  },
  {
   "cell_type": "code",
   "execution_count": 48,
   "metadata": {},
   "outputs": [
    {
     "name": "stdout",
     "output_type": "stream",
     "text": [
      "unz\n",
      "pa\n",
      "pa\n",
      "tud\n",
      "unz\n",
      "pa\n",
      "BREAKDANCE!\n",
      "\n",
      "tud\n",
      "boom\n",
      "boom\n",
      "unz\n",
      "tud\n",
      "pa\n",
      "pa\n",
      "unz\n",
      "tud\n",
      "pa\n",
      "BREAKDANCE!\n"
     ]
    }
   ],
   "source": [
    "\n",
    "musica = ['unz','pa','pa','tud','unz','pa','pa','tud','unz','boom','boom','tud']\n",
    "\n",
    "# scrivi qui\n",
    "\n",
    "k = 0\n",
    "for x in musica:\n",
    "    print(x)\n",
    "    if x == 'pa':\n",
    "        k += 1\n",
    "    if k == 3:\n",
    "        print('BREAKDANCE!')\n",
    "        print()\n",
    "        break\n",
    "\n",
    "k = 0\n",
    "for x in range(len(musica)-1, -1, -1): \n",
    "    print(musica[x])\n",
    "    if musica[x] == 'pa':\n",
    "        k += 1\n",
    "    if k == 3:\n",
    "        print('BREAKDANCE!')\n",
    "        break\n",
    "        "
   ]
  },
  {
   "cell_type": "raw",
   "id": "fc156d03",
   "metadata": {
    "format": "text/html"
   },
   "source": [
    "</div>"
   ]
  },
  {
   "cell_type": "code",
   "execution_count": 48,
   "metadata": {},
   "outputs": [],
   "source": [
    "\n",
    "musica = ['unz','pa','pa','tud','unz','pa','pa','tud','unz','boom','boom','tud']\n",
    "\n",
    "# scrivi qui\n",
    "\n"
   ]
  },
  {
   "cell_type": "markdown",
   "metadata": {},
   "source": [
    "## Prosegui\n",
    "\n",
    "Continua con esercizi su [for e stringhe](https://it.softpython.org/for/for2-strings-sol.html)"
   ]
  },
  {
   "cell_type": "code",
   "execution_count": null,
   "metadata": {},
   "outputs": [],
   "source": []
  }
 ],
 "metadata": {
  "kernelspec": {
   "display_name": "Python 3 (ipykernel)",
   "language": "python",
   "name": "python3"
  },
  "language_info": {
   "codemirror_mode": {
    "name": "ipython",
    "version": 3
   },
   "file_extension": ".py",
   "mimetype": "text/x-python",
   "name": "python",
   "nbconvert_exporter": "python",
   "pygments_lexer": "ipython3",
   "version": "3.7.17"
  },
  "toc": {
   "base_numbering": 1,
   "nav_menu": {},
   "number_sections": false,
   "sideBar": true,
   "skip_h1_title": false,
   "title_cell": "Table of Contents",
   "title_sidebar": "Contents",
   "toc_cell": false,
   "toc_position": {},
   "toc_section_display": true,
   "toc_window_display": true
  }
 },
 "nbformat": 4,
 "nbformat_minor": 2
}

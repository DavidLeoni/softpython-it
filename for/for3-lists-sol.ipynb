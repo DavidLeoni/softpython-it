{
 "cells": [
  {
   "cell_type": "code",
   "execution_count": 1,
   "metadata": {
    "nbsphinx": "hidden"
   },
   "outputs": [],
   "source": [
    "# Ricordati di eseguire questa cella con Shift+Invio\n",
    "\n",
    "import jupman"
   ]
  },
  {
   "cell_type": "markdown",
   "metadata": {},
   "source": [
    "# Cicli for 3 - iterare liste\n",
    "\n",
    "## [Scarica zip esercizi](../_static/generated/for.zip) \n",
    "\n",
    "[Naviga file online](https://github.com/DavidLeoni/softpython-it/tree/master/for)\n",
    "\n",
    "Vediamo esercizi in cui è necessario iterare delle liste."
   ]
  },
  {
   "cell_type": "markdown",
   "metadata": {},
   "source": [
    "## Esercizio - La gara\n",
    "\n",
    "✪ Una lista di `partecipanti` ha vinto un concorso a premi, e ora si vuole mostrare su un cartellone la loro posizione. Scrivi del codice che MODIFICA la lista scrivendo il numero del partecipante a fianco del nome.\n",
    "\n",
    "Esempio - data:\n",
    "\n",
    "\n",
    "```python\n",
    "partecipanti = ['Marta','Peppo','Elisa','Gioele','Rosa']\n",
    "```\n",
    "\n",
    "dopo il tuo codice deve risultare:\n",
    "\n",
    "```python\n",
    ">>> partecipanti\n",
    "['Marta-1', 'Peppo-2', 'Elisa-3', 'Gioele-4', 'Rosa-5']\n",
    "```\n"
   ]
  },
  {
   "cell_type": "raw",
   "id": "7c41872c",
   "metadata": {
    "format": "text/html"
   },
   "source": [
    "<a  class=\"jupman-sol jupman-sol-toggler\" \n",
    " onclick=\"jupman.toggleSolution(this);\" \n",
    " data-jupman-show=\"Mostra soluzione\" data-jupman-hide=\"Nascondi\">Mostra soluzione</a><div class=\"jupman-sol jupman-sol-code\" style=\"display:none\">  "
   ]
  },
  {
   "cell_type": "code",
   "execution_count": 2,
   "metadata": {},
   "outputs": [
    {
     "data": {
      "text/plain": [
       "['Marta-1', 'Peppo-2', 'Elisa-3', 'Gioele-4', 'Rosa-5']"
      ]
     },
     "execution_count": 2,
     "metadata": {},
     "output_type": "execute_result"
    }
   ],
   "source": [
    "\n",
    "partecipanti = ['Marta','Peppo','Elisa','Gioele','Rosa']\n",
    "#partecipanti = ['Gioele','Carmela','Rosario']\n",
    "\n",
    "# scrivi qui\n",
    "\n",
    "for i in range(len(partecipanti)):\n",
    "    partecipanti[i] = partecipanti[i] + '-' + str(i+1)\n",
    "    \n",
    "partecipanti"
   ]
  },
  {
   "cell_type": "raw",
   "id": "7c1ea3ec",
   "metadata": {
    "format": "text/html"
   },
   "source": [
    "</div>"
   ]
  },
  {
   "cell_type": "code",
   "execution_count": 2,
   "metadata": {},
   "outputs": [],
   "source": [
    "\n",
    "partecipanti = ['Marta','Peppo','Elisa','Gioele','Rosa']\n",
    "#partecipanti = ['Gioele','Carmela','Rosario']\n",
    "\n",
    "# scrivi qui\n",
    "\n"
   ]
  },
  {
   "cell_type": "markdown",
   "metadata": {},
   "source": [
    "## Esercizio - babbà\n",
    "\n",
    "✪✪ Scrivi del codice che data una lettera `cerca` da trovare e una `frase`, produce una lista con tutte le parole contenti quella lettera"
   ]
  },
  {
   "cell_type": "raw",
   "id": "0b8ea2a3",
   "metadata": {
    "format": "text/html"
   },
   "source": [
    "<a  class=\"jupman-sol jupman-sol-toggler\" \n",
    " onclick=\"jupman.toggleSolution(this);\" \n",
    " data-jupman-show=\"Mostra soluzione\" data-jupman-hide=\"Nascondi\">Mostra soluzione</a><div class=\"jupman-sol jupman-sol-code\" style=\"display:none\">  "
   ]
  },
  {
   "cell_type": "code",
   "execution_count": 3,
   "metadata": {},
   "outputs": [
    {
     "name": "stdout",
     "output_type": "stream",
     "text": [
      "['città', 'babbà']\n"
     ]
    }
   ],
   "source": [
    "\n",
    "cerca = 'à'   # ['città', 'babbà']\n",
    "#cerca = 'è'  # ['è', 'bignè', 'caffè']\n",
    "\n",
    "frase = \"Questa città è piena di babbà , bignè e caffè\"\n",
    "\n",
    "# scrivi qui\n",
    "\n",
    "res = []\n",
    "for parola in frase.split():\n",
    "    if cerca in parola:\n",
    "        res.append(parola)\n",
    "print(res)        "
   ]
  },
  {
   "cell_type": "raw",
   "id": "086d3210",
   "metadata": {
    "format": "text/html"
   },
   "source": [
    "</div>"
   ]
  },
  {
   "cell_type": "code",
   "execution_count": 3,
   "metadata": {},
   "outputs": [],
   "source": [
    "\n",
    "cerca = 'à'   # ['città', 'babbà']\n",
    "#cerca = 'è'  # ['è', 'bignè', 'caffè']\n",
    "\n",
    "frase = \"Questa città è piena di babbà , bignè e caffè\"\n",
    "\n",
    "# scrivi qui\n",
    "\n"
   ]
  },
  {
   "cell_type": "markdown",
   "metadata": {},
   "source": [
    "## Esercizio - Il Tempio della Fortuna\n",
    "\n",
    "✪✪ Esplorando un tempio nella regione dell'Uttar Pradesh, hai trovato delle pietre preziose ciascuna con un  numero sacro scavato sopra di essa. Sei tentato di prenderle tutte, ma un messaggio sopra le pietre avverte minaccioso che solo gli stolti prendono i numeri senza prima aver consultato l'Oracolo.\n",
    "\n",
    "A fianco trovi la statua di un Buddha a gambe incrociate che tiene in grembo un vassoio con delle cavità in sequenza - qualche cavità ha un fagiolo, altre sono vuote.\n",
    "\n",
    "Date una lista `pietre` di numeri e una `oracolo` di booleani, scrivi del codice che MODIFICA la lista `sacca` mettendoci dentro solo i numeri di `pietre` per cui c'è un `True` alla corrispondente posizione di `oracolo`\n",
    "\n",
    "* assumi che entrambe le liste abbiano esattamente le stesse dimensioni\n",
    "\n",
    "Esempio - dati:"
   ]
  },
  {
   "cell_type": "code",
   "execution_count": 4,
   "metadata": {},
   "outputs": [],
   "source": [
    "pietre  = [9,    7,     6,    8,    7]   \n",
    "oracolo = [True, False, True, True, False]"
   ]
  },
  {
   "cell_type": "markdown",
   "metadata": {},
   "source": [
    "Dopo il tuo codice deve risultare:\n",
    "\n",
    "```python\n",
    ">>> print(sacca)\n",
    "[9, 6, 8]\n",
    "```"
   ]
  },
  {
   "cell_type": "raw",
   "id": "e25afc00",
   "metadata": {
    "format": "text/html"
   },
   "source": [
    "<a  class=\"jupman-sol jupman-sol-toggler\" \n",
    " onclick=\"jupman.toggleSolution(this);\" \n",
    " data-jupman-show=\"Mostra soluzione\" data-jupman-hide=\"Nascondi\">Mostra soluzione</a><div class=\"jupman-sol jupman-sol-code\" style=\"display:none\">  "
   ]
  },
  {
   "cell_type": "code",
   "execution_count": 5,
   "metadata": {},
   "outputs": [
    {
     "name": "stdout",
     "output_type": "stream",
     "text": [
      "[9, 6, 8]\n"
     ]
    }
   ],
   "source": [
    "\n",
    "pietre,oracolo = [9,7,6,8,7], [True, False, True, True, False]   # [9, 6, 8]\n",
    "#pietre,oracolo = [3,5,2,3,4,2,4], [True, True, False, True, False, True, False]  # [3,5,3,2]\n",
    "sacca = []\n",
    "\n",
    "# scrivi qui\n",
    "\n",
    "for i in range(len(pietre)):\n",
    "    if oracolo[i]:\n",
    "        sacca.append(pietre[i])\n",
    "        \n",
    "print(sacca)"
   ]
  },
  {
   "cell_type": "raw",
   "id": "f34496af",
   "metadata": {
    "format": "text/html"
   },
   "source": [
    "</div>"
   ]
  },
  {
   "cell_type": "code",
   "execution_count": 5,
   "metadata": {},
   "outputs": [],
   "source": [
    "\n",
    "pietre,oracolo = [9,7,6,8,7], [True, False, True, True, False]   # [9, 6, 8]\n",
    "#pietre,oracolo = [3,5,2,3,4,2,4], [True, True, False, True, False, True, False]  # [3,5,3,2]\n",
    "sacca = []\n",
    "\n",
    "# scrivi qui\n",
    "\n"
   ]
  },
  {
   "cell_type": "markdown",
   "metadata": {},
   "source": [
    "## Esercizio - la parola più lunga\n",
    "\n",
    "✪✪ Scrivi del codice che data una `frase`, stampa la **lunghezza** della parola più lunga.\n",
    "\n",
    "- **NOTA**: vogliamo solo sapere la lunghezza della parola più lunga, non la parola stessa !\n",
    "\n",
    "Esempio - data:\n",
    "\n",
    "```python\n",
    "frase = \"La strada si inerpica lungo il ciglio della montagna\"\n",
    "```\n",
    "\n",
    "il tuo codice dovrà stampare\n",
    "\n",
    "```\n",
    "8\n",
    "```\n",
    "\n",
    "che è la lunghezza delle parole più lunghe che sono a parimerito `inerpica` e `montagna`"
   ]
  },
  {
   "cell_type": "raw",
   "id": "4a327070",
   "metadata": {
    "format": "text/html"
   },
   "source": [
    "<a  class=\"jupman-sol jupman-sol-toggler\" \n",
    " onclick=\"jupman.toggleSolution(this);\" \n",
    " data-jupman-show=\"Mostra soluzione\" data-jupman-hide=\"Nascondi\">Mostra soluzione</a><div class=\"jupman-sol jupman-sol-code\" style=\"display:none\">  "
   ]
  },
  {
   "cell_type": "code",
   "execution_count": 6,
   "metadata": {},
   "outputs": [
    {
     "name": "stdout",
     "output_type": "stream",
     "text": [
      "8\n"
     ]
    }
   ],
   "source": [
    "\n",
    "frase = \"La strada si inerpica lungo il ciglio della montagna\" # 8  \n",
    "#frase = \"Il temibile pirata Le Chuck dominava spietatamente i mari del Sud\"  # 13  \n",
    "#frase = \"Praticamente ovvio\" # 12\n",
    "\n",
    "# scrivi qui\n",
    "\n",
    "lunghezze = []\n",
    "\n",
    "for parola in frase.split():\n",
    "    lunghezze.append(len(parola))\n",
    "print(max(lunghezze))"
   ]
  },
  {
   "cell_type": "raw",
   "id": "778a4505",
   "metadata": {
    "format": "text/html"
   },
   "source": [
    "</div>"
   ]
  },
  {
   "cell_type": "code",
   "execution_count": 6,
   "metadata": {},
   "outputs": [],
   "source": [
    "\n",
    "frase = \"La strada si inerpica lungo il ciglio della montagna\" # 8  \n",
    "#frase = \"Il temibile pirata Le Chuck dominava spietatamente i mari del Sud\"  # 13  \n",
    "#frase = \"Praticamente ovvio\" # 12\n",
    "\n",
    "# scrivi qui\n",
    "\n"
   ]
  },
  {
   "cell_type": "markdown",
   "metadata": {},
   "source": [
    "## Esercizio - deserto\n",
    "\n",
    "✪✪✪ Scrivi del codice che data una stringa `viaggio`, produce una lista con tutte le parole che _precedono_ le virgole.\n",
    "\n",
    "Esempio - dato:"
   ]
  },
  {
   "cell_type": "code",
   "execution_count": 7,
   "metadata": {},
   "outputs": [],
   "source": [
    "viaggio = \"Attraversarono deserti, guadarono fiumi, si inerpicarono sui monti, e infine arrivarono al Tempio\""
   ]
  },
  {
   "cell_type": "markdown",
   "metadata": {},
   "source": [
    "il tuo codice deve produrre:\n",
    "\n",
    "```python\n",
    "['deserti', 'fiumi', 'monti']\n",
    "```"
   ]
  },
  {
   "cell_type": "raw",
   "id": "df5a81bc",
   "metadata": {
    "format": "text/html"
   },
   "source": [
    "<a  class=\"jupman-sol jupman-sol-toggler\" \n",
    " onclick=\"jupman.toggleSolution(this);\" \n",
    " data-jupman-show=\"Mostra soluzione\" data-jupman-hide=\"Nascondi\">Mostra soluzione</a><div class=\"jupman-sol jupman-sol-code\" style=\"display:none\">  "
   ]
  },
  {
   "cell_type": "code",
   "execution_count": 8,
   "metadata": {},
   "outputs": [
    {
     "data": {
      "text/plain": [
       "['deserti', 'fiumi', 'monti']"
      ]
     },
     "execution_count": 8,
     "metadata": {},
     "output_type": "execute_result"
    }
   ],
   "source": [
    "\n",
    "viaggio = \"Attraversarono deserti, guadarono fiumi, si inerpicarono sui monti, e infine arrivarono al Tempio\"\n",
    "# ['deserti', 'fiumi', 'monti']\n",
    "#viaggio = \"Camminarono con fatica tra le strade,i mercati affollati, le viuzze,i portici, finchè trovarono la cattedrale.\"\n",
    "# ['strade', 'affollati', 'viuzze', 'portici']\n",
    "#viaggio = \"Il viaggio terminò.\" \n",
    "# []\n",
    "\n",
    "# scrivi qui\n",
    "parole = viaggio.split(',')\n",
    "\n",
    "res = []\n",
    "\n",
    "for frase in parole[:-1]:\n",
    "    res.append(frase.split()[-1])\n",
    "res"
   ]
  },
  {
   "cell_type": "raw",
   "id": "22f9f8bc",
   "metadata": {
    "format": "text/html"
   },
   "source": [
    "</div>"
   ]
  },
  {
   "cell_type": "code",
   "execution_count": 8,
   "metadata": {},
   "outputs": [],
   "source": [
    "\n",
    "viaggio = \"Attraversarono deserti, guadarono fiumi, si inerpicarono sui monti, e infine arrivarono al Tempio\"\n",
    "# ['deserti', 'fiumi', 'monti']\n",
    "#viaggio = \"Camminarono con fatica tra le strade,i mercati affollati, le viuzze,i portici, finchè trovarono la cattedrale.\"\n",
    "# ['strade', 'affollati', 'viuzze', 'portici']\n",
    "#viaggio = \"Il viaggio terminò.\" \n",
    "# []\n",
    "\n",
    "# scrivi qui\n",
    "\n"
   ]
  },
  {
   "cell_type": "markdown",
   "metadata": {},
   "source": [
    "## Esercizio - splash\n",
    "\n",
    "✪✪✪ Data una `lista` di lunghezza dispari riempita di zeri eccetto il numero in mezzo, scrivi del codice che MODIFICA la lista per scrivere numeri che decrescano mano a mano che ci si allontana dal centro.\n",
    "\n",
    "- la lunghezza della lista è sempre dispari\n",
    "- assumi che la lista sarà sempre di lunghezza sufficiente per arrivare ad avere zero in ciascun bordo\n",
    "- una lista di dimensione 1 conterrà solo uno zero\n",
    "\n",
    "Esempio 1 - data:\n",
    "\n",
    "```python\n",
    "lista = [0, 0, 0, 0, 4, 0, 0, 0, 0]\n",
    "```\n",
    "\n",
    "dopo il tuo codice, deve risultare:\n",
    "\n",
    "```python\n",
    ">>> lista\n",
    "[0, 1, 2, 3, 4, 3, 2, 1, 0]\n",
    "```\n",
    "\n",
    "Esempio 2 - data: \n",
    "\n",
    "```python\n",
    "lista = [0, 0, 0, 3, 0, 0, 0]\n",
    "```\n",
    "\n",
    "dopo il tuo codice, deve risultare:\n",
    "\n",
    "```python\n",
    ">>> lista\n",
    "[0, 1, 2, 3, 2, 1, 0]\n",
    "```\n",
    "\n"
   ]
  },
  {
   "cell_type": "raw",
   "id": "67f32e8a",
   "metadata": {
    "format": "text/html"
   },
   "source": [
    "<a  class=\"jupman-sol jupman-sol-toggler\" \n",
    " onclick=\"jupman.toggleSolution(this);\" \n",
    " data-jupman-show=\"Mostra soluzione\" data-jupman-hide=\"Nascondi\">Mostra soluzione</a><div class=\"jupman-sol jupman-sol-code\" style=\"display:none\">  "
   ]
  },
  {
   "cell_type": "code",
   "execution_count": 9,
   "metadata": {},
   "outputs": [
    {
     "data": {
      "text/plain": [
       "[0, 1, 2, 3, 4, 3, 2, 1, 0]"
      ]
     },
     "execution_count": 9,
     "metadata": {},
     "output_type": "execute_result"
    }
   ],
   "source": [
    "\n",
    "lista = [0, 0, 0, 0, 4, 0, 0, 0, 0] # -> [0, 1, 2, 3, 4, 3, 2, 1, 0]\n",
    "#lista = [0, 0, 0, 3, 0, 0, 0]      # -> [0, 1, 2, 3, 2, 1, 0]\n",
    "#lista = [0, 0, 2, 0, 0]            # -> [0, 1, 2, 1, 0]\n",
    "#lista = [0]  # -> [0]\n",
    "\n",
    "# scrivi qui\n",
    "\n",
    "m = len(lista) // 2\n",
    "\n",
    "for i in range(m):\n",
    "    lista[m+i] = m - i\n",
    "    \n",
    "for i in range(m):\n",
    "    lista[i] = i\n",
    "lista\n"
   ]
  },
  {
   "cell_type": "raw",
   "id": "8dbb1bff",
   "metadata": {
    "format": "text/html"
   },
   "source": [
    "</div>"
   ]
  },
  {
   "cell_type": "code",
   "execution_count": 9,
   "metadata": {},
   "outputs": [],
   "source": [
    "\n",
    "lista = [0, 0, 0, 0, 4, 0, 0, 0, 0] # -> [0, 1, 2, 3, 4, 3, 2, 1, 0]\n",
    "#lista = [0, 0, 0, 3, 0, 0, 0]      # -> [0, 1, 2, 3, 2, 1, 0]\n",
    "#lista = [0, 0, 2, 0, 0]            # -> [0, 1, 2, 1, 0]\n",
    "#lista = [0]  # -> [0]\n",
    "\n",
    "# scrivi qui\n",
    "\n"
   ]
  },
  {
   "cell_type": "markdown",
   "metadata": {},
   "source": [
    "## Prosegui\n",
    "\n",
    "Continua con esercizi su [for e tuple](https://it.softpython.org/for/for4-tuples-sol.html)"
   ]
  }
 ],
 "metadata": {
  "kernelspec": {
   "display_name": "Python 3 (ipykernel)",
   "language": "python",
   "name": "python3"
  },
  "language_info": {
   "codemirror_mode": {
    "name": "ipython",
    "version": 3
   },
   "file_extension": ".py",
   "mimetype": "text/x-python",
   "name": "python",
   "nbconvert_exporter": "python",
   "pygments_lexer": "ipython3",
   "version": "3.7.10"
  },
  "toc": {
   "base_numbering": 1,
   "nav_menu": {},
   "number_sections": false,
   "sideBar": true,
   "skip_h1_title": false,
   "title_cell": "Table of Contents",
   "title_sidebar": "Contents",
   "toc_cell": false,
   "toc_position": {},
   "toc_section_display": true,
   "toc_window_display": true
  }
 },
 "nbformat": 4,
 "nbformat_minor": 2
}

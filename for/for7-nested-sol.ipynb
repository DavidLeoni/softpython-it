{
 "cells": [
  {
   "cell_type": "code",
   "execution_count": 1,
   "metadata": {
    "nbsphinx": "hidden"
   },
   "outputs": [],
   "source": [
    "# Ricordati di eseguire questa cella con Shift+Invio\n",
    "\n",
    "import jupman"
   ]
  },
  {
   "cell_type": "markdown",
   "metadata": {},
   "source": [
    "# Cicli for annidati\n",
    "\n",
    "## [Scarica zip esercizi](../_static/generated/for.zip) \n",
    "\n",
    "[Naviga file online](https://github.com/DavidLeoni/softpython-it/tree/master/for)\n",
    "\n",
    "\n",
    "E' possibile includere un `for` dentro l'altro, per esempio potremmo visitare tutte le parole di una lista di stringhe e per ogni parola stampare tutti i suoi caratteri:"
   ]
  },
  {
   "cell_type": "code",
   "execution_count": 2,
   "metadata": {},
   "outputs": [
    {
     "name": "stdout",
     "output_type": "stream",
     "text": [
      "v\n",
      "e\n",
      "d\n",
      "o\n",
      "\n",
      "u\n",
      "n\n",
      "a\n",
      "\n",
      "l\n",
      "u\n",
      "c\n",
      "e\n",
      "\n"
     ]
    }
   ],
   "source": [
    "lista = [\"vedo\",\n",
    "         \"una\",\n",
    "         \"luce\"]\n",
    "\n",
    "for stringa in lista:    \n",
    "    for carattere in stringa:\n",
    "        print(carattere)\n",
    "    print()    "
   ]
  },
  {
   "cell_type": "markdown",
   "metadata": {},
   "source": [
    "## Attenzione ai nomi di variabile\n",
    "\n",
    "Quanto già detto in precedenza sul nome delle variabile vale ancor di più per i `for` annidati:"
   ]
  },
  {
   "cell_type": "markdown",
   "metadata": {},
   "source": [
    "<div class=\"alert alert-info\">\n",
    "\n",
    "[II COMANDAMENTO](https://it.softpython.org/commandments.html#II-COMANDAMENTO) **Quando inserisci una variabile in un ciclo** `for` **, questa variabile deve essere nuova**\n",
    "\n",
    "</div>"
   ]
  },
  {
   "cell_type": "markdown",
   "metadata": {},
   "source": [
    "Se hai definito una variabile in un `for` esterno, non la reintrodurrai in un `for` interno, perchè ciò portebbe gran confusione. Per esempio qua `s` è introdotta sia in quello esterno che in quello interno:"
   ]
  },
  {
   "cell_type": "code",
   "execution_count": 3,
   "metadata": {},
   "outputs": [
    {
     "name": "stdout",
     "output_type": "stream",
     "text": [
      "0\n",
      "1\n",
      "2\n",
      "2\n",
      "0\n",
      "1\n",
      "2\n",
      "2\n",
      "0\n",
      "1\n",
      "2\n",
      "2\n",
      "0\n",
      "1\n",
      "2\n",
      "2\n"
     ]
    }
   ],
   "source": [
    "for s in ['pallavolo', 'tennis', 'calcio', 'nuoto']:\n",
    "    \n",
    "    for s in range(3):  # inferno da debuggare, perdi la s del ciclo for esterno\n",
    "        print(s)\n",
    "        \n",
    "    print(s)  # stampa 2 invece che uno sport !"
   ]
  },
  {
   "cell_type": "markdown",
   "metadata": {},
   "source": [
    "## Domande - for annidati\n",
    "\n",
    "Guarda i seguenti frammenti di codice, e per ciascuno cerca di indovinare quale risultato produce (o se da errore):"
   ]
  },
  {
   "cell_type": "markdown",
   "metadata": {},
   "source": [
    "1.  ```python\n",
    "    for y in for x in range(3):\n",
    "        print(x,y)\n",
    "    ```\n",
    "1.  ```python\n",
    "    for y in for x in range(2) in range(3):\n",
    "        print(x,y)\n",
    "    ```\n",
    "1.  ```python\n",
    "    for y in range(3):\n",
    "        for x in range(2):\n",
    "            print(x,y)\n",
    "    ```\n",
    "1.  ```python\n",
    "    for x in range(2):         \n",
    "        for x in range(3):\n",
    "            print(x)\n",
    "        print(x)\n",
    "    ```\n",
    "1.  ```python\n",
    "    for x in range(2):        \n",
    "        for y in range(3):\n",
    "            print(x,y)\n",
    "        print(x,y)    \n",
    "    ```    \n",
    "1.  ```python\n",
    "    for x in range(1):\n",
    "        for y in range(1):\n",
    "            print(x,y)\n",
    "    ```            \n",
    "1.  ```python\n",
    "    for x in range(2):\n",
    "        for y in range(3):\n",
    "            print(x,y)\n",
    "    ```\n",
    "1.  ```python\n",
    "    la = 'abc'\n",
    "    for x in la:\n",
    "        for y in la:\n",
    "            print(x)\n",
    "    ```            \n",
    "1.  ```python\n",
    "    for x in 'ab':\n",
    "        for y in 'cd':\n",
    "            print(x,y)    \n",
    "        for y in 'ef':\n",
    "            print(x,y)\n",
    "    ```\n",
    "1.  ```python\n",
    "    for x in 'abc':\n",
    "        for y in 'abc':\n",
    "            if x == y:\n",
    "                print(x)\n",
    "    ```\n",
    "1.  ```python\n",
    "    for x in 'abc':\n",
    "        for y in 'abc':\n",
    "            if x != y:\n",
    "                print(x,y)\n",
    "    ```\n",
    "1.  ```python\n",
    "    lista = []\n",
    "    for x in 'a':\n",
    "        for y in 'bc':\n",
    "            lista.append(x)\n",
    "            lista.append(y)\n",
    "    print(lista)\n",
    "    ```    \n",
    "1.  ```python\n",
    "    lista = []\n",
    "    for x in 'abc':\n",
    "        for y in 'de':\n",
    "            lista.append('z')\n",
    "    print(len(lista))\n",
    "    ```    \n",
    "1.  ```python\n",
    "    c = 1\n",
    "    for x in range(1,4):\n",
    "        s = ''\n",
    "        for y in range(1,4):\n",
    "            s = s + str(c)\n",
    "            c += 1\n",
    "        print(s)\n",
    "    ```"
   ]
  },
  {
   "cell_type": "markdown",
   "metadata": {},
   "source": [
    "## Esercizio - casting\n",
    "\n",
    "✪ Si vuole lanciare una nuova produzione videoculturale italo-nipponica e perciò vengono convocati gli attori per i provini. Il regista vuole provare una scena con tutte le possibili coppie che si possono formare tra attrici e attori. Scrivi del codice che stampa tutte le coppie, mettendo anche messaggi di introduzione.\n",
    "\n",
    "* **NOTA**: il numero di attori e attrici può essere diverso\n",
    "\n",
    "Esempio - dati:\n",
    "\n",
    "```python\n",
    "attrici = ['Licia','Mila']\n",
    "attori = ['Capitan Harlock', 'Lupin', 'Kenshiro']\n",
    "```\n",
    "\n",
    "stampa:\n",
    "\n",
    "```\n",
    "Entri in scena Licia !\n",
    "   Entri in scena Capitan Harlock !\n",
    "      Licia e Capitan Harlock si preparino... CIAK!\n",
    "   Grazie Capitan Harlock - il prossimo !\n",
    "   Entri in scena Lupin !\n",
    "      Licia e Lupin si preparino... CIAK!\n",
    "   Grazie Lupin - il prossimo !\n",
    "   Entri in scena Kenshiro !\n",
    "      Licia e Kenshiro si preparino... CIAK!\n",
    "   Grazie Kenshiro - il prossimo !\n",
    "Grazie Licia - la prossima !\n",
    "Entri in scena Mila !\n",
    "   Entri in scena Capitan Harlock !\n",
    "      Mila e Capitan Harlock si preparino... CIAK!\n",
    "   Grazie Capitan Harlock - il prossimo !\n",
    "   Entri in scena Lupin !\n",
    "      Mila e Lupin si preparino... CIAK!\n",
    "   Grazie Lupin - il prossimo !\n",
    "   Entri in scena Kenshiro !\n",
    "      Mila e Kenshiro si preparino... CIAK!\n",
    "   Grazie Kenshiro - il prossimo !\n",
    "Grazie Mila - la prossima !\n",
    "\n",
    "Fine delle audizioni!\n",
    "```"
   ]
  },
  {
   "cell_type": "raw",
   "id": "3f01560a",
   "metadata": {
    "format": "text/html"
   },
   "source": [
    "<a  class=\"jupman-sol jupman-sol-toggler\" \n",
    " onclick=\"jupman.toggleSolution(this);\" \n",
    " data-jupman-show=\"Mostra soluzione\" data-jupman-hide=\"Nascondi\">Mostra soluzione</a><div class=\"jupman-sol jupman-sol-code\" style=\"display:none\">  "
   ]
  },
  {
   "cell_type": "code",
   "execution_count": 4,
   "metadata": {},
   "outputs": [
    {
     "name": "stdout",
     "output_type": "stream",
     "text": [
      "Entri in scena Licia !\n",
      "   Entri in scena Capitan Harlock !\n",
      "      Licia e Capitan Harlock si preparino... CIAK!\n",
      "   Grazie Capitan Harlock - il prossimo !\n",
      "   Entri in scena Lupin !\n",
      "      Licia e Lupin si preparino... CIAK!\n",
      "   Grazie Lupin - il prossimo !\n",
      "   Entri in scena Kenshiro !\n",
      "      Licia e Kenshiro si preparino... CIAK!\n",
      "   Grazie Kenshiro - il prossimo !\n",
      "Grazie Licia - la prossima !\n",
      "Entri in scena Mila !\n",
      "   Entri in scena Capitan Harlock !\n",
      "      Mila e Capitan Harlock si preparino... CIAK!\n",
      "   Grazie Capitan Harlock - il prossimo !\n",
      "   Entri in scena Lupin !\n",
      "      Mila e Lupin si preparino... CIAK!\n",
      "   Grazie Lupin - il prossimo !\n",
      "   Entri in scena Kenshiro !\n",
      "      Mila e Kenshiro si preparino... CIAK!\n",
      "   Grazie Kenshiro - il prossimo !\n",
      "Grazie Mila - la prossima !\n",
      "\n",
      "Fine delle audizioni!\n"
     ]
    }
   ],
   "source": [
    "\n",
    "attrici = ['Licia','Mila']\n",
    "attori = ['Capitan Harlock', 'Lupin', 'Kenshiro']\n",
    "\n",
    "\n",
    "# scrivi qui\n",
    "for attrice in attrici:\n",
    "    print('Entri in scena', attrice, '!')\n",
    "    for attore in attori:\n",
    "        print('   Entri in scena', attore, '!')\n",
    "        \n",
    "        print('     ',attrice, 'e', attore, 'si preparino... CIAK!')\n",
    "        print('   Grazie', attore, '- il prossimo !')\n",
    "    print('Grazie', attrice, '- la prossima !')\n",
    "print()\n",
    "print('Fine delle audizioni!')"
   ]
  },
  {
   "cell_type": "raw",
   "id": "4d78d385",
   "metadata": {
    "format": "text/html"
   },
   "source": [
    "</div>"
   ]
  },
  {
   "cell_type": "code",
   "execution_count": 4,
   "metadata": {},
   "outputs": [],
   "source": [
    "\n",
    "attrici = ['Licia','Mila']\n",
    "attori = ['Capitan Harlock', 'Lupin', 'Kenshiro']\n",
    "\n",
    "\n",
    "# scrivi qui\n",
    "\n"
   ]
  },
  {
   "cell_type": "markdown",
   "metadata": {},
   "source": [
    "## Esercizio - coprire il piano\n",
    "\n",
    "✪ Dati gli interi `a` e `b`, scrivi del codice che stampa tutte le coppie possibili di numeri $x$ e $y$ tali che $1 \\leq x \\leq a$ e $1 \\leq y \\leq b$\n",
    "\n",
    "Per esempio, per \n",
    "\n",
    "```python\n",
    "a,b = 5,3\n",
    "```\n",
    "\n",
    "deve stampare\n",
    "\n",
    "```\n",
    "1 1\n",
    "1 2\n",
    "1 3\n",
    "2 1\n",
    "2 2\n",
    "2 3\n",
    "3 1\n",
    "3 2\n",
    "3 3\n",
    "4 1\n",
    "4 2\n",
    "4 3\n",
    "5 1\n",
    "5 2\n",
    "5 3\n",
    "```"
   ]
  },
  {
   "cell_type": "raw",
   "id": "ee899ba7",
   "metadata": {
    "format": "text/html"
   },
   "source": [
    "<a  class=\"jupman-sol jupman-sol-toggler\" \n",
    " onclick=\"jupman.toggleSolution(this);\" \n",
    " data-jupman-show=\"Mostra soluzione\" data-jupman-hide=\"Nascondi\">Mostra soluzione</a><div class=\"jupman-sol jupman-sol-code\" style=\"display:none\">  "
   ]
  },
  {
   "cell_type": "code",
   "execution_count": 5,
   "metadata": {},
   "outputs": [
    {
     "name": "stdout",
     "output_type": "stream",
     "text": [
      "1 1\n",
      "1 2\n",
      "1 3\n",
      "2 1\n",
      "2 2\n",
      "2 3\n",
      "3 1\n",
      "3 2\n",
      "3 3\n",
      "4 1\n",
      "4 2\n",
      "4 3\n",
      "5 1\n",
      "5 2\n",
      "5 3\n"
     ]
    }
   ],
   "source": [
    "\n",
    "a,b = 5,3\n",
    "\n",
    "# scrivi qui\n",
    "for x in range(1,a+1):\n",
    "    for y in range(1,b+1):        \n",
    "        print(x,y)"
   ]
  },
  {
   "cell_type": "raw",
   "id": "959fbe81",
   "metadata": {
    "format": "text/html"
   },
   "source": [
    "</div>"
   ]
  },
  {
   "cell_type": "code",
   "execution_count": 5,
   "metadata": {},
   "outputs": [],
   "source": [
    "\n",
    "a,b = 5,3\n",
    "\n",
    "# scrivi qui\n",
    "\n"
   ]
  },
  {
   "cell_type": "markdown",
   "metadata": {},
   "source": [
    "## Esercizio - triangolare\n",
    "\n",
    "✪ Dato l'intero `a`, scrivi del codice che stampa tutte le coppie possibili di numeri $x$ e $y$ tali che $0 \\leq x \\leq y < a$\n",
    "\n",
    "Per esempio, per \n",
    "\n",
    "```python\n",
    "a = 5\n",
    "```\n",
    "\n",
    "deve stampare\n",
    "\n",
    "```\n",
    "0 0\n",
    "0 1\n",
    "0 2\n",
    "0 3\n",
    "0 4\n",
    "1 1\n",
    "1 2\n",
    "1 3\n",
    "1 4\n",
    "2 2\n",
    "2 3\n",
    "2 4\n",
    "3 3\n",
    "3 4\n",
    "4 4\n",
    "```"
   ]
  },
  {
   "cell_type": "raw",
   "id": "6df13327",
   "metadata": {
    "format": "text/html"
   },
   "source": [
    "<a  class=\"jupman-sol jupman-sol-toggler\" \n",
    " onclick=\"jupman.toggleSolution(this);\" \n",
    " data-jupman-show=\"Mostra soluzione\" data-jupman-hide=\"Nascondi\">Mostra soluzione</a><div class=\"jupman-sol jupman-sol-code\" style=\"display:none\">  "
   ]
  },
  {
   "cell_type": "code",
   "execution_count": 6,
   "metadata": {
    "scrolled": true
   },
   "outputs": [
    {
     "name": "stdout",
     "output_type": "stream",
     "text": [
      "0 0\n",
      "0 1\n",
      "0 2\n",
      "0 3\n",
      "0 4\n",
      "1 1\n",
      "1 2\n",
      "1 3\n",
      "1 4\n",
      "2 2\n",
      "2 3\n",
      "2 4\n",
      "3 3\n",
      "3 4\n",
      "4 4\n"
     ]
    }
   ],
   "source": [
    "\n",
    "a = 5\n",
    "# scrivi qui\n",
    "for x in range(a):    \n",
    "    for y in range(x,a):\n",
    "        print(x,y)\n",
    "    "
   ]
  },
  {
   "cell_type": "raw",
   "id": "9b92f9ca",
   "metadata": {
    "format": "text/html"
   },
   "source": [
    "</div>"
   ]
  },
  {
   "cell_type": "code",
   "execution_count": 6,
   "metadata": {
    "scrolled": true
   },
   "outputs": [],
   "source": [
    "\n",
    "a = 5\n",
    "# scrivi qui\n",
    "\n"
   ]
  },
  {
   "cell_type": "markdown",
   "metadata": {},
   "source": [
    "## Esercizio - porto\n",
    "\n",
    "✪ Scrivi del codice che data una lista `parole` e una lista `lettere`, per ogni parola calcola quante lettere contiene\n",
    "\n",
    "* vengono contati **SOLO** i caratteri presenti in `lettere`\n",
    "* stampa il risultato  **SOLO** se il numero è maggiore di zero\n",
    "\n",
    "\n",
    "Esempio - date:\n",
    "\n",
    "```python\n",
    "parole = ['barca','molo','remo','nassa','vela','strascico']\n",
    "lettere = ['a','c','s']\n",
    "```\n",
    "\n",
    "stampa:\n",
    "\n",
    "```\n",
    "barca contiene 2 a\n",
    "barca contiene 1 c\n",
    "nassa contiene 2 a\n",
    "nassa contiene 2 s\n",
    "vela contiene 1 a\n",
    "strascico contiene 1 a\n",
    "strascico contiene 2 c\n",
    "strascico contiene 2 s\n",
    "```"
   ]
  },
  {
   "cell_type": "raw",
   "id": "6ddf1c53",
   "metadata": {
    "format": "text/html"
   },
   "source": [
    "<a  class=\"jupman-sol jupman-sol-toggler\" \n",
    " onclick=\"jupman.toggleSolution(this);\" \n",
    " data-jupman-show=\"Mostra soluzione\" data-jupman-hide=\"Nascondi\">Mostra soluzione</a><div class=\"jupman-sol jupman-sol-code\" style=\"display:none\">  "
   ]
  },
  {
   "cell_type": "code",
   "execution_count": 7,
   "metadata": {},
   "outputs": [
    {
     "name": "stdout",
     "output_type": "stream",
     "text": [
      "barca contiene 2 a\n",
      "barca contiene 1 c\n",
      "nassa contiene 2 a\n",
      "nassa contiene 2 s\n",
      "vela contiene 1 a\n",
      "strascico contiene 1 a\n",
      "strascico contiene 2 c\n",
      "strascico contiene 2 s\n"
     ]
    }
   ],
   "source": [
    "\n",
    "parole = ['barca','molo','remo','nassa','vela','strascico']\n",
    "lettere = ['a','c','s']\n",
    "\n",
    "# scrivi qui\n",
    "\n",
    "for x in parole:\n",
    "    for y in lettere:\n",
    "        if y in x:\n",
    "            print(x,'contiene',x.count(y),y)"
   ]
  },
  {
   "cell_type": "raw",
   "id": "b0ab9dba",
   "metadata": {
    "format": "text/html"
   },
   "source": [
    "</div>"
   ]
  },
  {
   "cell_type": "code",
   "execution_count": 7,
   "metadata": {},
   "outputs": [],
   "source": [
    "\n",
    "parole = ['barca','molo','remo','nassa','vela','strascico']\n",
    "lettere = ['a','c','s']\n",
    "\n",
    "# scrivi qui\n",
    "\n"
   ]
  },
  {
   "cell_type": "markdown",
   "metadata": {},
   "source": [
    "## Esercizio - poligoni\n",
    "\n",
    "✪✪ Data una lista `poligoni` con nomi di poligoni ordinati per numero di lati a partire dal triangolo, scrivi del codice che stampa tutte le possibili domande che si possono formare riguardo il numero di lati. Parti da un minimo di 3 lati fino ad un massimo corrispondente al numero di lati dell'ultimo poligono (ricordati che i nomi sono ordinati per numero di lati!) \n",
    "\n",
    "Esempio - data:\n",
    "\n",
    "```python\n",
    "#                  0              1             2             3\n",
    "poligoni = [\"Il triangolo\",\"Il quadrato\",\"Il pentagono\", \"L'esagono\"]\n",
    "```\n",
    "\n",
    "stampa\n",
    "\n",
    "```\n",
    "Il triangolo ha 3 lati? True\n",
    "Il triangolo ha 4 lati? False\n",
    "Il triangolo ha 5 lati? False\n",
    "Il triangolo ha 6 lati? False\n",
    "Il quadrato ha 3 lati? False\n",
    "Il quadrato ha 4 lati? True\n",
    "Il quadrato ha 5 lati? False\n",
    "Il quadrato ha 6 lati? False\n",
    "Il pentagono ha 3 lati? False\n",
    "Il pentagono ha 4 lati? False\n",
    "Il pentagono ha 5 lati? True\n",
    "Il pentagono ha 6 lati? False\n",
    "L'esagono ha 3 lati? False\n",
    "L'esagono ha 4 lati? False\n",
    "L'esagono ha 5 lati? False\n",
    "L'esagono ha 6 lati? True\n",
    "```\n",
    "\n"
   ]
  },
  {
   "cell_type": "raw",
   "id": "a3b008c7",
   "metadata": {
    "format": "text/html"
   },
   "source": [
    "<a  class=\"jupman-sol jupman-sol-toggler\" \n",
    " onclick=\"jupman.toggleSolution(this);\" \n",
    " data-jupman-show=\"Mostra soluzione\" data-jupman-hide=\"Nascondi\">Mostra soluzione</a><div class=\"jupman-sol jupman-sol-code\" style=\"display:none\">  "
   ]
  },
  {
   "cell_type": "code",
   "execution_count": 8,
   "metadata": {},
   "outputs": [
    {
     "name": "stdout",
     "output_type": "stream",
     "text": [
      "Il triangolo ha 3 lati? True\n",
      "Il triangolo ha 4 lati? False\n",
      "Il triangolo ha 5 lati? False\n",
      "Il triangolo ha 6 lati? False\n",
      "Il quadrato ha 3 lati? False\n",
      "Il quadrato ha 4 lati? True\n",
      "Il quadrato ha 5 lati? False\n",
      "Il quadrato ha 6 lati? False\n",
      "Il pentagono ha 3 lati? False\n",
      "Il pentagono ha 4 lati? False\n",
      "Il pentagono ha 5 lati? True\n",
      "Il pentagono ha 6 lati? False\n",
      "L'esagono ha 3 lati? False\n",
      "L'esagono ha 4 lati? False\n",
      "L'esagono ha 5 lati? False\n",
      "L'esagono ha 6 lati? True\n"
     ]
    }
   ],
   "source": [
    "\n",
    "#                 0              1              2             3\n",
    "poligoni = [\"Il triangolo\",\"Il quadrato\",\"Il pentagono\", \"L'esagono\"]\n",
    "\n",
    "# scrivi qui\n",
    "for i in range(len(poligoni)):\n",
    "    for j in range(len(poligoni)):\n",
    "        print(poligoni[i],'ha', j+3, 'lati?', i+3 == j+3 )"
   ]
  },
  {
   "cell_type": "raw",
   "id": "ca8ea5dc",
   "metadata": {
    "format": "text/html"
   },
   "source": [
    "</div>"
   ]
  },
  {
   "cell_type": "code",
   "execution_count": 8,
   "metadata": {},
   "outputs": [],
   "source": [
    "\n",
    "#                 0              1              2             3\n",
    "poligoni = [\"Il triangolo\",\"Il quadrato\",\"Il pentagono\", \"L'esagono\"]\n",
    "\n",
    "# scrivi qui\n",
    "\n"
   ]
  },
  {
   "cell_type": "markdown",
   "metadata": {},
   "source": [
    "## Esercizio - bon jour\n",
    "\n",
    "✪✪✪ Date due stringhe `sa` e `sb` in minuscolo, scrivi del codice che stampa a turno tutte le lettere di `sa` in maiuscolo seguite da tutte le possibili combinazioni di `sb` che abbiano UNA SOLA lettera maiuscola.\n",
    "\n",
    "Esempio - date:\n",
    "\n",
    "```python\n",
    "sa = 'bon'\n",
    "sb = 'jour'\n",
    "```\n",
    "\n",
    "Deve stampare:\n",
    "\n",
    "```\n",
    "B Jour\n",
    "B jOur\n",
    "B joUr\n",
    "B jouR\n",
    "O Jour\n",
    "O jOur\n",
    "O joUr\n",
    "O jouR\n",
    "N Jour\n",
    "N jOur\n",
    "N joUr\n",
    "N jouR\n",
    "```\n"
   ]
  },
  {
   "cell_type": "raw",
   "id": "c29b4791",
   "metadata": {
    "format": "text/html"
   },
   "source": [
    "<a  class=\"jupman-sol jupman-sol-toggler\" \n",
    " onclick=\"jupman.toggleSolution(this);\" \n",
    " data-jupman-show=\"Mostra soluzione\" data-jupman-hide=\"Nascondi\">Mostra soluzione</a><div class=\"jupman-sol jupman-sol-code\" style=\"display:none\">  "
   ]
  },
  {
   "cell_type": "code",
   "execution_count": 9,
   "metadata": {},
   "outputs": [
    {
     "name": "stdout",
     "output_type": "stream",
     "text": [
      "B Jour\n",
      "B jOur\n",
      "B joUr\n",
      "B jouR\n",
      "O Jour\n",
      "O jOur\n",
      "O joUr\n",
      "O jouR\n",
      "N Jour\n",
      "N jOur\n",
      "N joUr\n",
      "N jouR\n"
     ]
    }
   ],
   "source": [
    "\n",
    "sa = 'bon'\n",
    "sb = 'jour'\n",
    "\n",
    "# scrivi qui\n",
    "\n",
    "for c1 in sa:\n",
    "    for i in range(len(sb)):\n",
    "        print(c1.upper() + ' ' + sb[:i] + sb[i].upper() + sb[i+1:])"
   ]
  },
  {
   "cell_type": "raw",
   "id": "6e9ab8e5",
   "metadata": {
    "format": "text/html"
   },
   "source": [
    "</div>"
   ]
  },
  {
   "cell_type": "code",
   "execution_count": 9,
   "metadata": {},
   "outputs": [],
   "source": [
    "\n",
    "sa = 'bon'\n",
    "sb = 'jour'\n",
    "\n",
    "# scrivi qui\n",
    "\n"
   ]
  },
  {
   "cell_type": "markdown",
   "metadata": {},
   "source": [
    "## Prosegui\n",
    "\n",
    "Continua con [challenge for](https://it.softpython.org/for/for8-chal.html)"
   ]
  },
  {
   "cell_type": "code",
   "execution_count": null,
   "metadata": {},
   "outputs": [],
   "source": []
  }
 ],
 "metadata": {
  "kernelspec": {
   "display_name": "Python 3 (ipykernel)",
   "language": "python",
   "name": "python3"
  },
  "language_info": {
   "codemirror_mode": {
    "name": "ipython",
    "version": 3
   },
   "file_extension": ".py",
   "mimetype": "text/x-python",
   "name": "python",
   "nbconvert_exporter": "python",
   "pygments_lexer": "ipython3",
   "version": "3.7.10"
  },
  "toc": {
   "base_numbering": 1,
   "nav_menu": {},
   "number_sections": false,
   "sideBar": true,
   "skip_h1_title": false,
   "title_cell": "Table of Contents",
   "title_sidebar": "Contents",
   "toc_cell": false,
   "toc_position": {},
   "toc_section_display": true,
   "toc_window_display": true
  }
 },
 "nbformat": 4,
 "nbformat_minor": 2
}

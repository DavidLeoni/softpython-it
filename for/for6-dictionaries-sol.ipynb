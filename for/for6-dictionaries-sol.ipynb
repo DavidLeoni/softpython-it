{
 "cells": [
  {
   "cell_type": "code",
   "execution_count": 1,
   "metadata": {
    "nbsphinx": "hidden"
   },
   "outputs": [],
   "source": [
    "# Ricordati di eseguire questa cella con Shift+Invio\n",
    "\n",
    "import jupman"
   ]
  },
  {
   "cell_type": "markdown",
   "metadata": {},
   "source": [
    "# Cicli for 6 - iterare dizionari\n",
    "\n",
    "## [Scarica zip esercizi](../_static/generated/for.zip) \n",
    "\n",
    "[Naviga file online](https://github.com/DavidLeoni/softpython-it/tree/master/for)\n",
    "\n",
    "Dato un dizionario, possiamo esaminare la sequenza di chiavi, di valori o entrambi con un ciclo `for`. "
   ]
  },
  {
   "cell_type": "markdown",
   "metadata": {},
   "source": [
    "## Iterare le chiavi\n",
    "\n",
    "Per iterare **solo le chiavi** è sufficiente usare l'operatore `in`:\n",
    "\n",
    "<div class=\"alert alert-warning\">\n",
    "\n",
    "**ATTENZIONE**: l'ordine di iterazione delle chiavi **non** è prevedibile !\n",
    "\n",
    "</div>"
   ]
  },
  {
   "cell_type": "code",
   "execution_count": 2,
   "metadata": {},
   "outputs": [],
   "source": [
    "diz = {\n",
    "    'bignè':5,\n",
    "    'brioche':8,\n",
    "    'krapfen':2\n",
    "}"
   ]
  },
  {
   "cell_type": "code",
   "execution_count": 3,
   "metadata": {},
   "outputs": [
    {
     "name": "stdout",
     "output_type": "stream",
     "text": [
      "Trovata chiave bignè\n",
      "    con valore 5\n",
      "Trovata chiave brioche\n",
      "    con valore 8\n",
      "Trovata chiave krapfen\n",
      "    con valore 2\n"
     ]
    }
   ],
   "source": [
    "for chiave in diz:\n",
    "    print('Trovata chiave', chiave)\n",
    "    print('    con valore', diz[chiave])"
   ]
  },
  {
   "cell_type": "markdown",
   "metadata": {},
   "source": [
    "Ad ogni iterazione, alla variabile `chiave` che abbiamo dichiarato viene assegnata una chiave presa dal dizionario, in un ordine che possiamo considerare non prevedibile.\n",
    "\n"
   ]
  },
  {
   "cell_type": "markdown",
   "metadata": {},
   "source": [
    "## Iterare coppie chiave valore\n",
    "\n",
    "Possiamo anche ottenere direttamente nel `for` sia la chiave che il valore corrispondente con questa notazione:"
   ]
  },
  {
   "cell_type": "code",
   "execution_count": 4,
   "metadata": {},
   "outputs": [
    {
     "name": "stdout",
     "output_type": "stream",
     "text": [
      "Trovata chiave bignè\n",
      "    con valore 5\n",
      "Trovata chiave brioche\n",
      "    con valore 8\n",
      "Trovata chiave krapfen\n",
      "    con valore 2\n"
     ]
    }
   ],
   "source": [
    "for chiave, valore in diz.items():\n",
    "    print('Trovata chiave', chiave)\n",
    "    print('    con valore', diz[chiave])"
   ]
  },
  {
   "cell_type": "markdown",
   "metadata": {},
   "source": [
    "`.items()` ritorna una lista di coppie chiave/valore, e ad ogni iterazione una coppia viene assegnata alle variabili `chiave` e `valore`."
   ]
  },
  {
   "cell_type": "markdown",
   "metadata": {},
   "source": [
    "## Iterare valori\n",
    "\n",
    "Possiamo iterare i valori chiamando il metodo `.values()`\n",
    "\n",
    "<div class=\"alert alert-warning\">\n",
    "\n",
    "**ATTENZIONE**: anche l'ordine di iterazione dei valori **non** è prevedibile !\n",
    "\n",
    "</div>"
   ]
  },
  {
   "cell_type": "code",
   "execution_count": 5,
   "metadata": {},
   "outputs": [
    {
     "name": "stdout",
     "output_type": "stream",
     "text": [
      "Trovato valore 5\n",
      "Trovato valore 8\n",
      "Trovato valore 2\n"
     ]
    }
   ],
   "source": [
    "for valore in diz.values():\n",
    "    print('Trovato valore', valore)    "
   ]
  },
  {
   "cell_type": "markdown",
   "metadata": {},
   "source": [
    "## Domande - iterare\n",
    "\n",
    "Guarda i seguenti frammenti di codice, e per ciascuno cerca di indovinare quale risultato produce (o se da errore):\n",
    "\n",
    "\n",
    "<div class=\"alert alert-warning\">\n",
    "\n",
    "**ATTENZIONE**: Ricordati che l'ordine è IMPOSSIBILE da prevedere, quello che è importante è indovinare tutto quello che verrà stampato\n",
    "\n",
    "</div>"
   ]
  },
  {
   "cell_type": "markdown",
   "metadata": {},
   "source": [
    "1.  ```python\n",
    "    for x in {'a':1,'b':2,'c':3}:   \n",
    "        print(x)\n",
    "    ```\n",
    "1.  ```python\n",
    "    for x in {1:'a',2:'b',3:'c'}:\n",
    "        print(x)\n",
    "    ```\n",
    "1.  ```python\n",
    "    diz = {'a':1,'b':2,'c':3}\n",
    "    for x in diz:   \n",
    "        print(x[diz])\n",
    "    ```    \n",
    "1.  ```python\n",
    "    diz = {'a':1,'b':2,'c':3}\n",
    "    for x in diz:   \n",
    "        print(diz[x])\n",
    "    ```\n",
    "1.  ```python\n",
    "    diz = {'a':1,'b':2,'c':3}\n",
    "    for x in diz:   \n",
    "        if x == 'b':\n",
    "            print(diz[x])\n",
    "    ```\n",
    "1.  ```python\n",
    "    for k,v in {1:'a',2:'b',3:'c'}:\n",
    "        print(k,v)\n",
    "    ```    \n",
    "1.  ```python\n",
    "    for x in {1:'a',2:'b',3:'c'}.values():\n",
    "        print(x)\n",
    "    ```\n",
    "1.  ```python\n",
    "    for x in {1:'a',2:'b',3:'c'}.keys():\n",
    "        print(x)\n",
    "    ```\n",
    "1.  ```python\n",
    "    for x in {1:'a',2:'b',3:'c'}.items():\n",
    "        print(x)\n",
    "    ```\n",
    "1.  ```python\n",
    "    for x,y in {1:'a',2:'b',3:'c'}.items():\n",
    "        print(x,y)\n",
    "    ```    "
   ]
  },
  {
   "cell_type": "markdown",
   "metadata": {},
   "source": [
    "## Domande - Sono equivalenti? \n",
    "\n",
    "Guarda i seguenti frammenti di codice: in ciascuno, vi sono due parti, A e B. In ciascun frammento, cerca di indovinare se la parte A stamperà esattamente quello che stampa il codice nella parte B\n",
    "\n",
    "* **PRIMA** pensa alla risposta\n",
    "* **POI** prova ad eseguire "
   ]
  },
  {
   "cell_type": "markdown",
   "metadata": {},
   "source": [
    "### Sono equivalenti ? postin\n",
    "\n",
    "```python\n",
    "\n",
    "diz = {\n",
    "    'p':'t',\n",
    "    'o':'i',\n",
    "    's':'n',    \n",
    "}\n",
    "\n",
    "print('A:')\n",
    "for x in diz.keys():    \n",
    "    print(x)        \n",
    "        \n",
    "print('\\nB:')\n",
    "for y in diz:\n",
    "    print(y)\n",
    "```"
   ]
  },
  {
   "cell_type": "markdown",
   "metadata": {},
   "source": [
    "### Sono equivalenti ? cortel\n",
    "\n",
    "```python\n",
    "\n",
    "diz = {\n",
    "    'c':'t',\n",
    "    'o':'e',\n",
    "    'r':'l',    \n",
    "}\n",
    "\n",
    "print('A:')\n",
    "for p,q in diz.items():\n",
    "    print(q)\n",
    "        \n",
    "print('\\nB:')\n",
    "for x in diz.values():\n",
    "    print(x)\n",
    "```"
   ]
  },
  {
   "cell_type": "markdown",
   "metadata": {},
   "source": [
    "### Sono equivalenti ? - gel\n",
    "\n",
    "```python\n",
    "diz = {\n",
    "    'g':'l',\n",
    "    'e':'e',\n",
    "    'l':'g',    \n",
    "}\n",
    "\n",
    "print('A:')\n",
    "for x in diz.values():\n",
    "    print(x)\n",
    "    \n",
    "print('\\nB:')\n",
    "for z in diz.items():\n",
    "    print(z[0])\n",
    "```"
   ]
  },
  {
   "cell_type": "markdown",
   "metadata": {},
   "source": [
    "### Sono equivalenti ? - giri\n",
    "\n",
    "```python\n",
    "\n",
    "diz = {\n",
    "    'p':'g',\n",
    "    'e':'i',\n",
    "    'r':'r',    \n",
    "    'i':'i',    \n",
    "}\n",
    "\n",
    "print('A:')\n",
    "for p,q in diz.items():\n",
    "    if p == q:\n",
    "        print(p)           \n",
    "        \n",
    "print('\\nB:')\n",
    "for x in diz:\n",
    "    if x == diz[x]:\n",
    "        print(x)\n",
    "```"
   ]
  },
  {
   "cell_type": "markdown",
   "metadata": {},
   "source": [
    "### Sono equivalenti? - Trovato\n",
    "\n",
    "Prima pensa se sono equivalenti, poi verifica con tutti i valori di `k` proposti.\n",
    "\n",
    "<div class=\"alert alert-warning\">\n",
    "\n",
    "**Fai bene attenzione a questo esercizio !**\n",
    "\n",
    "Capire questo vuol dire aver _veramente_ capito i dizionari ;-)\n",
    "\n",
    "</div>\n",
    "\n",
    "```python\n",
    "k = 'p'\n",
    "#k = 'e'\n",
    "#k = 'r'\n",
    "#k = 'z'\n",
    "\n",
    "diz = {\n",
    "    'p':'c',\n",
    "    'e':'h',\n",
    "    'r':'è',    \n",
    "}\n",
    "\n",
    "print('A:')\n",
    "for x in diz:\n",
    "    if x == k:        \n",
    "        print('Trovato', diz[x])        \n",
    "        \n",
    "print('\\nB:')\n",
    "if k in diz:\n",
    "    print('Trovato', diz[k])\n",
    "```"
   ]
  },
  {
   "cell_type": "raw",
   "id": "fb8466f0",
   "metadata": {
    "format": "text/html"
   },
   "source": [
    "<a  class=\"jupman-sol jupman-sol-toggler\" \n",
    " onclick=\"jupman.toggleSolution(this);\" \n",
    " data-jupman-show=\"Mostra risposta\" data-jupman-hide=\"Nascondi\">Mostra risposta</a><div class=\"jupman-sol jupman-sol-question\" style=\"display:none\">  "
   ]
  },
  {
   "cell_type": "markdown",
   "metadata": {},
   "source": [
    "**RISPOSTA**: I due codici sopra riportati sono equivalenti, con una importante differenza: il codice A verrà eseguito in un tempo proporziale alla dimensione di `diz` (perchè deve scorrere tutto il dizionario), invece il codice B verrà sempre eseguito in un tempo costante breve che _non_ dipende dalla dimensione di `diz`. Sia il comando `if k in diz` che l'espressione `diz[k]` che recupera il valore corrispondente alla chiave `k` sono estremamente veloci.\n",
    "\n",
    "<div class=\"alert alert-warning\">\n",
    "\n",
    "**ATTENZIONE: assicurati di capire bene questo punto!**\n",
    "\n",
    "In tanti scrivono codice come nella parte A perdendo di fatto la principale utilità dei dizionari che è l'accesso veloce. Finchè i dati sono pochi è facile non accorgersene, ma quando abbiamo megabyte di coppie chiave / valore il tempo perso in cicli inutili si fa sentire! Per ulteriori chiarimenti puoi leggere (o rivedere) la [sezione Disordine veloce](https://it.softpython.org/dictionaries/dictionaries2-sol.html#Disordine-veloce) nel foglio sui dizionari.\n",
    "\n",
    "</div>"
   ]
  },
  {
   "cell_type": "raw",
   "id": "54820c88",
   "metadata": {
    "format": "text/html"
   },
   "source": [
    "</div>"
   ]
  },
  {
   "cell_type": "markdown",
   "metadata": {},
   "source": [
    "## Esercizi iterazione"
   ]
  },
  {
   "cell_type": "markdown",
   "metadata": {},
   "source": [
    "### Esercizio - colore di cuori\n",
    "\n",
    "✪ Scrivi del codice che dato un dizionario `semi`, per ogni seme stampa il suo colore.\n",
    "\n",
    "Esempio - dato:\n",
    "\n",
    "```python\n",
    "semi = {\n",
    "    'cuori':'rosso',\n",
    "    'picche':'nero',\n",
    "    'quadri':'rosso',\n",
    "    'fiori':'nero'\n",
    "}\n",
    "```\n",
    "\n",
    "stampa:\n",
    "\n",
    "<div class=\"alert alert-warning\">\n",
    "    \n",
    "**ATTENZIONE**: non ti preoccupare dell'ordine in cui vengono stampati i valori!\n",
    "\n",
    "Sul tuo computer potresti vedere dei risultati diversi, l'importante è che vengano stampate tutte le righe.\n",
    "</div>\n",
    "\n",
    "```\n",
    "Il colore di fiori è nero\n",
    "Il colore di cuori è rosso\n",
    "Il colore di picche è nero\n",
    "Il colore di quadri è rosso\n",
    "\n",
    "```\n",
    "\n"
   ]
  },
  {
   "cell_type": "raw",
   "id": "090a6aea",
   "metadata": {
    "format": "text/html"
   },
   "source": [
    "<a  class=\"jupman-sol jupman-sol-toggler\" \n",
    " onclick=\"jupman.toggleSolution(this);\" \n",
    " data-jupman-show=\"Mostra soluzione\" data-jupman-hide=\"Nascondi\">Mostra soluzione</a><div class=\"jupman-sol jupman-sol-code\" style=\"display:none\">  "
   ]
  },
  {
   "cell_type": "code",
   "execution_count": 6,
   "metadata": {},
   "outputs": [
    {
     "name": "stdout",
     "output_type": "stream",
     "text": [
      "Il colore di cuori è rosso\n",
      "Il colore di picche è nero\n",
      "Il colore di quadri è rosso\n",
      "Il colore di fiori è nero\n"
     ]
    }
   ],
   "source": [
    "\n",
    "semi = {\n",
    "    'cuori':'rosso',\n",
    "    'picche':'nero',\n",
    "    'quadri':'rosso',\n",
    "    'fiori':'nero'\n",
    "}\n",
    "\n",
    "# scrivi qui\n",
    "\n",
    "for k in semi.keys():\n",
    "    print('Il colore di', k, 'è', semi[k])"
   ]
  },
  {
   "cell_type": "raw",
   "id": "9a6d79bd",
   "metadata": {
    "format": "text/html"
   },
   "source": [
    "</div>"
   ]
  },
  {
   "cell_type": "code",
   "execution_count": 6,
   "metadata": {},
   "outputs": [],
   "source": [
    "\n",
    "semi = {\n",
    "    'cuori':'rosso',\n",
    "    'picche':'nero',\n",
    "    'quadri':'rosso',\n",
    "    'fiori':'nero'\n",
    "}\n",
    "\n",
    "# scrivi qui\n",
    "\n"
   ]
  },
  {
   "cell_type": "markdown",
   "metadata": {},
   "source": [
    "### Esercizio - preziosi\n",
    "\n",
    "✪ Nel dizionario `preziosi` alcune chiavi sono uguali ai rispettivi valori. Scrivi del codice che trova tali chiavi e le stampa.\n",
    "\n",
    "Esempio - dato:\n",
    "\n",
    "```python\n",
    "preziosi = {\n",
    "    'rubini'  : 'giada',\n",
    "    'opali'   : 'topazi',\n",
    "    'gemme'   : 'gemme',\n",
    "    'diamanti': 'gemme',\n",
    "    'rubini'  : 'rubini'\n",
    "}\n",
    "```\n",
    "\n",
    "stampa\n",
    "\n",
    "```\n",
    "coppia di elementi uguali: rubini e rubini\n",
    "coppia di elementi uguali: gemme e gemme\n",
    "```"
   ]
  },
  {
   "cell_type": "raw",
   "id": "c17a4d4c",
   "metadata": {
    "format": "text/html"
   },
   "source": [
    "<a  class=\"jupman-sol jupman-sol-toggler\" \n",
    " onclick=\"jupman.toggleSolution(this);\" \n",
    " data-jupman-show=\"Mostra soluzione\" data-jupman-hide=\"Nascondi\">Mostra soluzione</a><div class=\"jupman-sol jupman-sol-code\" style=\"display:none\">  "
   ]
  },
  {
   "cell_type": "code",
   "execution_count": 7,
   "metadata": {},
   "outputs": [
    {
     "name": "stdout",
     "output_type": "stream",
     "text": [
      "coppia di elementi uguali: rubini e rubini\n",
      "coppia di elementi uguali: gemme e gemme\n"
     ]
    }
   ],
   "source": [
    "\n",
    "preziosi = {\n",
    "    'rubini'  : 'giada',\n",
    "    'opali'   : 'topazi',\n",
    "    'gemme'   : 'gemme',\n",
    "    'diamanti': 'gemme',\n",
    "    'rubini'  : 'rubini'\n",
    "}\n",
    "\n",
    "# scrivi qui\n",
    "for k,v in preziosi.items():\n",
    "    if k == v:\n",
    "        print('coppia di elementi uguali:',k, 'e', v)"
   ]
  },
  {
   "cell_type": "raw",
   "id": "3384b333",
   "metadata": {
    "format": "text/html"
   },
   "source": [
    "</div>"
   ]
  },
  {
   "cell_type": "code",
   "execution_count": 7,
   "metadata": {},
   "outputs": [],
   "source": [
    "\n",
    "preziosi = {\n",
    "    'rubini'  : 'giada',\n",
    "    'opali'   : 'topazi',\n",
    "    'gemme'   : 'gemme',\n",
    "    'diamanti': 'gemme',\n",
    "    'rubini'  : 'rubini'\n",
    "}\n",
    "\n",
    "# scrivi qui\n",
    "\n"
   ]
  },
  {
   "cell_type": "markdown",
   "metadata": {},
   "source": [
    "### Esercizio - potenze\n",
    "\n",
    "✪ Dato un numero `n`, scrvi del codice che crea un NUOVO dizionario `diz` contenente come chiavi i numeri da 1 a `n` INCLUSI, associando ad ogni chiave il suo quadrato. \n",
    "\n",
    "Esempio - dato:\n",
    "\n",
    "```python\n",
    "n = 5\n",
    "```\n",
    "\n",
    "dopo il tuo codice, deve risultare:\n",
    "\n",
    "```python\n",
    ">>> print(diz)\n",
    "{1: 1, 2: 4, 3: 9, 4: 16, 5: 25}\n",
    "```"
   ]
  },
  {
   "cell_type": "raw",
   "id": "06e8b682",
   "metadata": {
    "format": "text/html"
   },
   "source": [
    "<a  class=\"jupman-sol jupman-sol-toggler\" \n",
    " onclick=\"jupman.toggleSolution(this);\" \n",
    " data-jupman-show=\"Mostra soluzione\" data-jupman-hide=\"Nascondi\">Mostra soluzione</a><div class=\"jupman-sol jupman-sol-code\" style=\"display:none\">  "
   ]
  },
  {
   "cell_type": "code",
   "execution_count": 8,
   "metadata": {},
   "outputs": [
    {
     "name": "stdout",
     "output_type": "stream",
     "text": [
      "{1: 1, 2: 4, 3: 9, 4: 16, 5: 25}\n"
     ]
    }
   ],
   "source": [
    "\n",
    "n = 5\n",
    "\n",
    "# scrivi qui\n",
    "diz = {}\n",
    "for i in range(1,n+1):\n",
    "    diz[i] = i*i\n",
    "\n",
    "print(diz)"
   ]
  },
  {
   "cell_type": "raw",
   "id": "55ba8ba3",
   "metadata": {
    "format": "text/html"
   },
   "source": [
    "</div>"
   ]
  },
  {
   "cell_type": "code",
   "execution_count": 8,
   "metadata": {},
   "outputs": [],
   "source": [
    "\n",
    "n = 5\n",
    "\n",
    "# scrivi qui\n",
    "\n"
   ]
  },
  {
   "cell_type": "markdown",
   "metadata": {},
   "source": [
    "### Esercizio - fiori\n",
    "\n",
    "✪ Data una lista `fiori`, scrivi del codice che crea un NUOVO dizionario `diz` che associa ad ogni fiore `True` se il nome del fiore è scritto tutto in maiuscolo, e `False` altrimenti\n",
    "\n",
    "* **SUGGERIMENTO**: per verificare se una stringa è tutta in maiuscolo, usa il metodo `.isupper()`\n",
    "\n",
    "```python\n",
    "fiori = ['girasole','GAROFANO', 'tulipano', 'VIOLA', 'ROSA', 'violetta']\n",
    "\n",
    "```\n",
    "\n",
    "stampa (sono in ordine alfabetico perchè stampiamo con `pprint`):\n",
    "\n",
    "```\n",
    ">>> from pprint import pprint\n",
    ">>> pprint(diz)\n",
    "{'GAROFANO': True,\n",
    " 'ROSA': True,\n",
    " 'VIOLA': True,\n",
    " 'girasole': False,\n",
    " 'tulipano': False,\n",
    " 'violetta': False}\n",
    "```"
   ]
  },
  {
   "cell_type": "raw",
   "id": "6065a4b4",
   "metadata": {
    "format": "text/html"
   },
   "source": [
    "<a  class=\"jupman-sol jupman-sol-toggler\" \n",
    " onclick=\"jupman.toggleSolution(this);\" \n",
    " data-jupman-show=\"Mostra soluzione\" data-jupman-hide=\"Nascondi\">Mostra soluzione</a><div class=\"jupman-sol jupman-sol-code\" style=\"display:none\">  "
   ]
  },
  {
   "cell_type": "code",
   "execution_count": 9,
   "metadata": {},
   "outputs": [
    {
     "name": "stdout",
     "output_type": "stream",
     "text": [
      "{'GAROFANO': True,\n",
      " 'ROSA': True,\n",
      " 'VIOLA': True,\n",
      " 'girasole': False,\n",
      " 'tulipano': False,\n",
      " 'violetta': False}\n"
     ]
    }
   ],
   "source": [
    "\n",
    "fiori = ['girasole','GAROFANO', 'tulipano', 'VIOLA', 'ROSA', 'violetta']\n",
    "\n",
    "# scrivi qui\n",
    "\n",
    "diz = {}\n",
    "for el in fiori:\n",
    "    diz[el] = el.isupper()\n",
    "    \n",
    "from pprint import pprint\n",
    "pprint(diz)"
   ]
  },
  {
   "cell_type": "raw",
   "id": "35e67606",
   "metadata": {
    "format": "text/html"
   },
   "source": [
    "</div>"
   ]
  },
  {
   "cell_type": "code",
   "execution_count": 9,
   "metadata": {},
   "outputs": [],
   "source": [
    "\n",
    "fiori = ['girasole','GAROFANO', 'tulipano', 'VIOLA', 'ROSA', 'violetta']\n",
    "\n",
    "# scrivi qui\n",
    "\n"
   ]
  },
  {
   "cell_type": "markdown",
   "metadata": {},
   "source": [
    "### Esercizio - arte\n",
    "\n",
    "✪ Un artista ha dipinto una serie di opere con diverse tecniche. Nel dizionario `prezzi` per ciascuna tecnica segna il prezzo. L'artista intende fare una serie di esposizioni, e in ognuna presenterà una particolare tecnica. Supponendo che per ciascuna tecnica abbia prodotto `q` quadri, mostrare quanto guadagnerà in ciascuna esposizione (supponendo venda tutto).\n",
    "\n",
    "Esempio - dati:\n",
    "\n",
    "```python\n",
    "q = 20\n",
    "\n",
    "esposizioni = ['acquerello', 'olio', 'murale', 'tempera', 'carboncino','inchiostro']\n",
    "\n",
    "prezzi = {'acquerello': 3000,\n",
    "          'olio'      : 6000,\n",
    "          'murale'    : 2000,\n",
    "          'tempera'   : 4000,\n",
    "          'carboncino': 7000,\n",
    "          'inchiostro': 1000\n",
    "}\n",
    "```\n",
    "\n",
    "Stampa - **questa volta l'ordine conta!!** \n",
    "\n",
    "```\n",
    "Guadagni previsti:\n",
    "  esposizione acquerello : 60000 €\n",
    "  esposizione olio : 120000 €\n",
    "  esposizione murale : 40000 €\n",
    "  esposizione tempera : 80000 €\n",
    "  esposizione carboncino : 140000 €\n",
    "  esposizione inchiostro : 20000 €\n",
    "\n",
    "```"
   ]
  },
  {
   "cell_type": "raw",
   "id": "e6a89a93",
   "metadata": {
    "format": "text/html"
   },
   "source": [
    "<a  class=\"jupman-sol jupman-sol-toggler\" \n",
    " onclick=\"jupman.toggleSolution(this);\" \n",
    " data-jupman-show=\"Mostra soluzione\" data-jupman-hide=\"Nascondi\">Mostra soluzione</a><div class=\"jupman-sol jupman-sol-code\" style=\"display:none\">  "
   ]
  },
  {
   "cell_type": "code",
   "execution_count": 10,
   "metadata": {},
   "outputs": [
    {
     "name": "stdout",
     "output_type": "stream",
     "text": [
      "Guadagni previsti:\n",
      "  esposizione acquerello : 60000 €\n",
      "  esposizione olio : 120000 €\n",
      "  esposizione murale : 40000 €\n",
      "  esposizione tempera : 80000 €\n",
      "  esposizione carboncino : 140000 €\n",
      "  esposizione inchiostro : 20000 €\n"
     ]
    }
   ],
   "source": [
    "\n",
    "q = 20\n",
    "\n",
    "esposizioni = ['acquerello', 'olio', 'murale', 'tempera', 'carboncino','inchiostro']\n",
    "\n",
    "prezzi = {'acquerello': 3000,\n",
    "          'olio'      : 6000,\n",
    "          'murale'    : 2000,\n",
    "          'tempera'   : 4000,\n",
    "          'carboncino': 7000,\n",
    "          'inchiostro': 1000\n",
    "}\n",
    "\n",
    "\n",
    "# scrivi qui\n",
    "\n",
    "print('Guadagni previsti:')\n",
    "for i in range(len(esposizioni)):\n",
    "    tecnica = esposizioni[i]\n",
    "    print('  esposizione', tecnica, \":\", prezzi[tecnica]*q,  '€')"
   ]
  },
  {
   "cell_type": "raw",
   "id": "ec7b8f57",
   "metadata": {
    "format": "text/html"
   },
   "source": [
    "</div>"
   ]
  },
  {
   "cell_type": "code",
   "execution_count": 10,
   "metadata": {},
   "outputs": [],
   "source": [
    "\n",
    "q = 20\n",
    "\n",
    "esposizioni = ['acquerello', 'olio', 'murale', 'tempera', 'carboncino','inchiostro']\n",
    "\n",
    "prezzi = {'acquerello': 3000,\n",
    "          'olio'      : 6000,\n",
    "          'murale'    : 2000,\n",
    "          'tempera'   : 4000,\n",
    "          'carboncino': 7000,\n",
    "          'inchiostro': 1000\n",
    "}\n",
    "\n",
    "\n",
    "# scrivi qui\n",
    "\n"
   ]
  },
  {
   "cell_type": "markdown",
   "metadata": {},
   "source": [
    "### Esercizio - cartolerie\n",
    "\n",
    "✪ Un proprietario di due negozi di cartoleria per riorganizzare il magazzino vuole sapere i materiali in comune disponibili nei negozi che possiede. Dati quindi due dizionari `cartoleria1` e `cartoleria2` che associano oggetti alla loro quantità, scrivi del codice che trova tutte le chiavi in comune e per ciascuna stampa la somma delle quantità trovate.\n",
    "\n",
    "Esempio - dati:\n",
    "\n",
    "```python\n",
    "cartoleria1 = {'penne':10,\n",
    "               'cartelle':20,\n",
    "               'carta':30,\n",
    "               'forbici':40}\n",
    "\n",
    "cartoleria2 = {'penne':80,\n",
    "               'cartelle':90,\n",
    "               'goniometri':130,\n",
    "               'forbici':110,\n",
    "               'righelli':120,\n",
    "               }\n",
    "```\n",
    "\n",
    "stampa (l'ordine **non** importa):\n",
    "\n",
    "```\n",
    "materiali in comune:\n",
    "   penne : 90\n",
    "   cartelle : 110\n",
    "   forbici : 150\n",
    "```"
   ]
  },
  {
   "cell_type": "raw",
   "id": "a1047754",
   "metadata": {
    "format": "text/html"
   },
   "source": [
    "<a  class=\"jupman-sol jupman-sol-toggler\" \n",
    " onclick=\"jupman.toggleSolution(this);\" \n",
    " data-jupman-show=\"Mostra soluzione\" data-jupman-hide=\"Nascondi\">Mostra soluzione</a><div class=\"jupman-sol jupman-sol-code\" style=\"display:none\">  "
   ]
  },
  {
   "cell_type": "code",
   "execution_count": 11,
   "metadata": {},
   "outputs": [
    {
     "name": "stdout",
     "output_type": "stream",
     "text": [
      "materiali in comune:\n",
      "   penne : 90\n",
      "   cartelle : 110\n",
      "   forbici : 150\n"
     ]
    }
   ],
   "source": [
    "\n",
    "cartoleria1 = {'penne':10,\n",
    "        'cartelle':20,\n",
    "        'carta':30,\n",
    "        'forbici':40}\n",
    "\n",
    "cartoleria2 = {'penne':80,\n",
    "        'cartelle':90,\n",
    "        'goniometri':130,\n",
    "        'forbici':110,\n",
    "        'righelli':120,\n",
    "        }\n",
    "\n",
    "# scrivi qui\n",
    "\n",
    "print('materiali in comune:')\n",
    "for k in cartoleria1:\n",
    "    if k in cartoleria2:\n",
    "        print('  ',k, ':', cartoleria1[k] + cartoleria2[k])"
   ]
  },
  {
   "cell_type": "raw",
   "id": "6dcb3c0a",
   "metadata": {
    "format": "text/html"
   },
   "source": [
    "</div>"
   ]
  },
  {
   "cell_type": "code",
   "execution_count": 11,
   "metadata": {},
   "outputs": [],
   "source": [
    "\n",
    "cartoleria1 = {'penne':10,\n",
    "        'cartelle':20,\n",
    "        'carta':30,\n",
    "        'forbici':40}\n",
    "\n",
    "cartoleria2 = {'penne':80,\n",
    "        'cartelle':90,\n",
    "        'goniometri':130,\n",
    "        'forbici':110,\n",
    "        'righelli':120,\n",
    "        }\n",
    "\n",
    "# scrivi qui\n",
    "\n"
   ]
  },
  {
   "cell_type": "markdown",
   "metadata": {},
   "source": [
    "### Esercizio - legumi\n",
    "\n",
    "✪ Un magazzino ha scaffali numerati, ciascuno contenente una quantità di legumi espressa in chili. Rappresentiamo `magazzino` come una lista. E' disponibile anche un `registro` come dizionario che associa ai nomi dei legumi il numero dello scaffale in cui sono contenuti nel magazzino.\n",
    "\n",
    "Scrivi del codice che data una lista di nomi di legumi, mostra la somma dei chili presenti in magazzino per quei legumi.\n",
    "\n",
    "Esempio - dati \n",
    "\n",
    "```python\n",
    "legumi = ['ceci', 'soia']    \n",
    "\n",
    "#            0  1  2  3  4  5 \n",
    "magazzino = [50,90,70,10,20,50]\n",
    "\n",
    "registro = {'piselli'   : 3,\n",
    "            'soia'      : 1,\n",
    "            'lenticchie': 5,\n",
    "            'ceci'      : 4,\n",
    "            'fave'      : 2,\n",
    "            'fagioli'   : 0\n",
    "}\n",
    "```\n",
    "\n",
    "dopo il tuo codice, deve stampare (l'ordine **non** importa):\n",
    "\n",
    "```\n",
    "Cerco ceci e soia ...\n",
    "Trovati 20 kg di ceci\n",
    "Trovati 90 kg di soia\n",
    "Totale: 110 kg\n",
    "```"
   ]
  },
  {
   "cell_type": "raw",
   "id": "6359f617",
   "metadata": {
    "format": "text/html"
   },
   "source": [
    "<a  class=\"jupman-sol jupman-sol-toggler\" \n",
    " onclick=\"jupman.toggleSolution(this);\" \n",
    " data-jupman-show=\"Mostra soluzione\" data-jupman-hide=\"Nascondi\">Mostra soluzione</a><div class=\"jupman-sol jupman-sol-code\" style=\"display:none\">  "
   ]
  },
  {
   "cell_type": "code",
   "execution_count": 12,
   "metadata": {},
   "outputs": [
    {
     "name": "stdout",
     "output_type": "stream",
     "text": [
      "Cerco ceci e soia ...\n",
      "Trovati 20 kg di ceci\n",
      "Trovati 90 kg di soia\n",
      "Totale: 110 kg\n"
     ]
    }
   ],
   "source": [
    "\n",
    "legumi = ['ceci', 'soia']     # 110 \n",
    "#legumi = ['fagioli', 'fave', 'lenticchie']   # 170\n",
    "\n",
    "#            0  1  2  3  4  5 \n",
    "magazzino = [50,90,70,10,20,50]\n",
    "\n",
    "registro = {'piselli'   : 3,\n",
    "            'soia'      : 1,\n",
    "            'lenticchie': 5,\n",
    "            'ceci'      : 4,\n",
    "            'fave'      : 2,\n",
    "            'fagioli'   : 0\n",
    "}\n",
    "\n",
    "# scrivi qui\n",
    "print('Cerco', ' e '.join(legumi), '...')\n",
    "somma = 0\n",
    "for leg in legumi:\n",
    "    print('Trovati', magazzino[registro[leg]], 'kg di', leg)\n",
    "    somma += magazzino[registro[leg]]\n",
    "    \n",
    "print('Totale:',somma, 'kg')    "
   ]
  },
  {
   "cell_type": "raw",
   "id": "f651ff6f",
   "metadata": {
    "format": "text/html"
   },
   "source": [
    "</div>"
   ]
  },
  {
   "cell_type": "code",
   "execution_count": 12,
   "metadata": {},
   "outputs": [],
   "source": [
    "\n",
    "legumi = ['ceci', 'soia']     # 110 \n",
    "#legumi = ['fagioli', 'fave', 'lenticchie']   # 170\n",
    "\n",
    "#            0  1  2  3  4  5 \n",
    "magazzino = [50,90,70,10,20,50]\n",
    "\n",
    "registro = {'piselli'   : 3,\n",
    "            'soia'      : 1,\n",
    "            'lenticchie': 5,\n",
    "            'ceci'      : 4,\n",
    "            'fave'      : 2,\n",
    "            'fagioli'   : 0\n",
    "}\n",
    "\n",
    "# scrivi qui\n",
    "\n"
   ]
  },
  {
   "cell_type": "markdown",
   "metadata": {},
   "source": [
    "### Esercizio - smog\n",
    "\n",
    "✪ Scrivi del codice che dati due dizionari `smog` e `preposizioni` che associano a luoghi rispettivamente valori di smog e preposizioni, stampa tutti i luoghi indicando:\n",
    "\n",
    "* 'PREPOSIZIONE LUOGO l'inquinamento è eccessivo' se il valore di smog è superiore a 30\n",
    "* 'PREPOSIZIONE LUOGO l'inquinamento è tollerabile' altrimenti\n",
    "\n",
    "\n",
    "* **NOTA**: nella stampa la prima lettera delle preposizioni deve essere maiuscola: per trasformare la stringa puoi usare il metodo `.capitalize()`\n",
    "\n",
    "Esempio - dati:\n",
    "\n",
    "```python\n",
    "smog = {'strada'    : 40,\n",
    "        'ciclabile' : 20,\n",
    "        'autostrada': 90,\n",
    "        'parco'     : 15,\n",
    "        'lago'      : 5\n",
    "       }\n",
    "\n",
    "preposizioni = {\n",
    "    'autostrada': 'in',\n",
    "    'ciclabile' : 'alla',\n",
    "    'lago'      : 'al',\n",
    "    'parco'     : 'al',\n",
    "    'strada'    : 'in',    \n",
    "}\n",
    "```\n",
    "\n",
    "stampa (l'ordine **non** importa):\n",
    "\n",
    "```\n",
    "In strada l'inquinamento è eccessivo\n",
    "Al parco l'inquinamento è tollerabile\n",
    "In autostrada l'inquinamento è eccessivo\n",
    "Al lago l'inquinamento è tollerabile\n",
    "Alla ciclabile l'inquinamento è tollerabile\n",
    "```"
   ]
  },
  {
   "cell_type": "raw",
   "id": "a8f38e8b",
   "metadata": {
    "format": "text/html"
   },
   "source": [
    "<a  class=\"jupman-sol jupman-sol-toggler\" \n",
    " onclick=\"jupman.toggleSolution(this);\" \n",
    " data-jupman-show=\"Mostra soluzione\" data-jupman-hide=\"Nascondi\">Mostra soluzione</a><div class=\"jupman-sol jupman-sol-code\" style=\"display:none\">  "
   ]
  },
  {
   "cell_type": "code",
   "execution_count": 13,
   "metadata": {},
   "outputs": [
    {
     "name": "stdout",
     "output_type": "stream",
     "text": [
      "In strada l'inquinamento è eccessivo\n",
      "Alla ciclabile l'inquinamento è tollerabile\n",
      "In autostrada l'inquinamento è eccessivo\n",
      "Al parco l'inquinamento è tollerabile\n",
      "Al lago l'inquinamento è tollerabile\n"
     ]
    }
   ],
   "source": [
    "\n",
    "smog = {'strada'    : 40,\n",
    "        'ciclabile' : 20,\n",
    "        'autostrada': 90,\n",
    "        'parco'     : 15,\n",
    "        'lago'      : 5\n",
    "       }\n",
    "\n",
    "preposizioni = {\n",
    "    'autostrada': 'in',\n",
    "    'ciclabile' : 'alla',\n",
    "    'lago'      : 'al',\n",
    "    'parco'     : 'al',\n",
    "    'strada'    : 'in',    \n",
    "}\n",
    "\n",
    "# scrivi qui\n",
    "for x in smog:\n",
    "    if smog[x] > 30:\n",
    "        print(preposizioni[x].capitalize(),x, \"l'inquinamento è eccessivo\")\n",
    "    else:\n",
    "        print(preposizioni[x].capitalize(),x,\"l'inquinamento è tollerabile\")"
   ]
  },
  {
   "cell_type": "raw",
   "id": "e1559102",
   "metadata": {
    "format": "text/html"
   },
   "source": [
    "</div>"
   ]
  },
  {
   "cell_type": "code",
   "execution_count": 13,
   "metadata": {},
   "outputs": [],
   "source": [
    "\n",
    "smog = {'strada'    : 40,\n",
    "        'ciclabile' : 20,\n",
    "        'autostrada': 90,\n",
    "        'parco'     : 15,\n",
    "        'lago'      : 5\n",
    "       }\n",
    "\n",
    "preposizioni = {\n",
    "    'autostrada': 'in',\n",
    "    'ciclabile' : 'alla',\n",
    "    'lago'      : 'al',\n",
    "    'parco'     : 'al',\n",
    "    'strada'    : 'in',    \n",
    "}\n",
    "\n",
    "# scrivi qui\n",
    "\n"
   ]
  },
  {
   "cell_type": "markdown",
   "metadata": {},
   "source": [
    "### Esercizio - sport\n",
    "\n",
    "\n",
    "✪✪ Scrivi del codice che dato un dizionario `sport` in cui persone sono associate allo sport che preferiscono, crea un NUOVO dizionario `conteggi` che associa ad ogni sport il numero di persone che lo preferiscono.\n",
    "\n",
    "Esempio - dato:\n",
    "```python\n",
    "sport = {'Gianni' : 'calcio',\n",
    "         'Paolo'  : 'tennis',\n",
    "         'Sara'   : 'pallavolo',\n",
    "         'Elena'  : 'tennis',\n",
    "         'Roberto': 'calcio',\n",
    "         'Carla'  : 'calcio',\n",
    "}\n",
    "```\n",
    "\n",
    "Dopo il tuo codice, deve risultare:\n",
    "\n",
    "```python\n",
    ">>> print(conteggi)\n",
    "{'calcio': 3, 'pallavolo': 1, 'tennis': 2}\n",
    "```"
   ]
  },
  {
   "cell_type": "raw",
   "id": "bf0dee2c",
   "metadata": {
    "format": "text/html"
   },
   "source": [
    "<a  class=\"jupman-sol jupman-sol-toggler\" \n",
    " onclick=\"jupman.toggleSolution(this);\" \n",
    " data-jupman-show=\"Mostra soluzione\" data-jupman-hide=\"Nascondi\">Mostra soluzione</a><div class=\"jupman-sol jupman-sol-code\" style=\"display:none\">  "
   ]
  },
  {
   "cell_type": "code",
   "execution_count": 14,
   "metadata": {},
   "outputs": [
    {
     "name": "stdout",
     "output_type": "stream",
     "text": [
      "{'calcio': 3, 'tennis': 2, 'pallavolo': 1}\n"
     ]
    }
   ],
   "source": [
    "\n",
    "sport = {'Gianni' : 'calcio',\n",
    "         'Paolo'  : 'tennis',\n",
    "         'Sara'   : 'pallavolo',\n",
    "         'Elena'  : 'tennis',\n",
    "         'Roberto': 'calcio',\n",
    "         'Carla'  : 'calcio',\n",
    "}\n",
    "\n",
    "# scrivi qui\n",
    "\n",
    "conteggi = {}\n",
    "\n",
    "for k,v in sport.items():\n",
    "    if v in conteggi:\n",
    "        conteggi[v] += 1\n",
    "    else:\n",
    "        conteggi[v] = 1\n",
    "\n",
    "print(conteggi)"
   ]
  },
  {
   "cell_type": "raw",
   "id": "0ad45f79",
   "metadata": {
    "format": "text/html"
   },
   "source": [
    "</div>"
   ]
  },
  {
   "cell_type": "code",
   "execution_count": 14,
   "metadata": {},
   "outputs": [],
   "source": [
    "\n",
    "sport = {'Gianni' : 'calcio',\n",
    "         'Paolo'  : 'tennis',\n",
    "         'Sara'   : 'pallavolo',\n",
    "         'Elena'  : 'tennis',\n",
    "         'Roberto': 'calcio',\n",
    "         'Carla'  : 'calcio',\n",
    "}\n",
    "\n",
    "# scrivi qui\n",
    "\n"
   ]
  },
  {
   "cell_type": "markdown",
   "metadata": {},
   "source": [
    "### Esercizio - ramarro\n",
    "\n",
    "✪✪ Scrivi del codice che dato un insieme `cerca` di caratteri da cercare, per ciascuno conta quanti ce ne sono nella stringa `testo` e mette il numero nel dizionario `conteggi`\n",
    "\n",
    "Esempio - dati:"
   ]
  },
  {
   "cell_type": "code",
   "execution_count": 15,
   "metadata": {},
   "outputs": [],
   "source": [
    "cerca = {'t','r','z'}\n",
    "testo = \"Il ramarro orientale è un sauro della famiglia dei Lacertidi, di colore verde brillante\"\n",
    "conteggi = {}"
   ]
  },
  {
   "cell_type": "markdown",
   "metadata": {},
   "source": [
    "dopo il tuo codice, deve risultare:\n",
    "\n",
    "```python\n",
    ">>> conteggi\n",
    "{'z': 0, 't': 3, 'r': 9}\n",
    "```"
   ]
  },
  {
   "cell_type": "raw",
   "id": "5f9cfb77",
   "metadata": {
    "format": "text/html"
   },
   "source": [
    "<a  class=\"jupman-sol jupman-sol-toggler\" \n",
    " onclick=\"jupman.toggleSolution(this);\" \n",
    " data-jupman-show=\"Mostra soluzione\" data-jupman-hide=\"Nascondi\">Mostra soluzione</a><div class=\"jupman-sol jupman-sol-code\" style=\"display:none\">  "
   ]
  },
  {
   "cell_type": "code",
   "execution_count": 16,
   "metadata": {},
   "outputs": [
    {
     "name": "stdout",
     "output_type": "stream",
     "text": [
      "{'z': 0, 't': 3, 'r': 9}\n",
      "{'z': 0, 't': 3, 'r': 9}\n"
     ]
    }
   ],
   "source": [
    "#jupman-ignore-output\n",
    "cerca = {'t','r','z'}\n",
    "testo = \"Il ramarro orientale è un sauro della famiglia dei Lacertidi, di colore verde brillante\"\n",
    "conteggi = {}\n",
    "\n",
    "# scrivi qui\n",
    "\n",
    "# soluzione 1, più efficente\n",
    "for lettera in cerca:\n",
    "    conteggi[lettera] = 0\n",
    "for lettera in testo:\n",
    "    if lettera in cerca:\n",
    "        if lettera in conteggi:\n",
    "            conteggi[lettera] += 1        \n",
    "            \n",
    "print(conteggi)\n",
    "\n",
    "# soluzione 2, meno efficente (scansioniamo testo n volte con count)\n",
    "for lettera in cerca:    \n",
    "    conteggi[lettera] = testo.count(lettera)        \n",
    "            \n",
    "print(conteggi)"
   ]
  },
  {
   "cell_type": "raw",
   "id": "8d7fc6ca",
   "metadata": {
    "format": "text/html"
   },
   "source": [
    "</div>"
   ]
  },
  {
   "cell_type": "code",
   "execution_count": 16,
   "metadata": {},
   "outputs": [
    {
     "name": "stdout",
     "output_type": "stream",
     "text": [
      "{'z': 0, 't': 3, 'r': 9}\n",
      "{'z': 0, 't': 3, 'r': 9}\n"
     ]
    }
   ],
   "source": [
    "#jupman-ignore-output\n",
    "cerca = {'t','r','z'}\n",
    "testo = \"Il ramarro orientale è un sauro della famiglia dei Lacertidi, di colore verde brillante\"\n",
    "conteggi = {}\n",
    "\n",
    "# scrivi qui\n",
    "\n"
   ]
  },
  {
   "cell_type": "markdown",
   "metadata": {},
   "source": [
    "## Modificare un dizionario durante l'iterazione\n",
    "\n",
    "Supponi di avere un dizionario delle province\n",
    "\n",
    "\n",
    "```python\n",
    "province = {'tn': 'Trento',\n",
    "            'mi':'Milano',\n",
    "            'na':'Napoli',\n",
    "}\n",
    "```\n",
    "\n",
    "e di volerlo MODIFICARE in modo che dopo il tuo codice risultino aggiunte le sigle in maiuscolo:\n",
    "\n",
    "```python\n",
    ">>> print(province)\n",
    "{'tn' : 'Trento',\n",
    " 'mi' : 'Milano',\n",
    " 'na' : 'Napoli',\n",
    " 'TN' : 'Trento',\n",
    " 'MI' : 'Milano',\n",
    " 'NA' : 'Napoli',\n",
    "}\n",
    "```\n",
    "\n",
    "\n",
    "Potrebbe venirti l'idea di scrivere qualcosa del genere:\n",
    "\n",
    "```python\n",
    "for chiave in province =:\n",
    "    province[chiave.upper()] = province[chiave]    # ATTENZIONE !\n",
    "```\n",
    "\n",
    "**DOMANDA**: Vedi forse un problema?\n"
   ]
  },
  {
   "cell_type": "raw",
   "id": "8fafe3cf",
   "metadata": {
    "format": "text/html"
   },
   "source": [
    "<a  class=\"jupman-sol jupman-sol-toggler\" \n",
    " onclick=\"jupman.toggleSolution(this);\" \n",
    " data-jupman-show=\"Mostra risposta\" data-jupman-hide=\"Nascondi\">Mostra risposta</a><div class=\"jupman-sol jupman-sol-question\" style=\"display:none\">  "
   ]
  },
  {
   "cell_type": "markdown",
   "metadata": {},
   "source": [
    "**RISPOSTA**: se _mentre_ scorriamo il dizionario, continuiamo al contempo ad aggiungere pezzi, c'è il rischio concreto che non termineremo mai di esaminare le chiavi !\n",
    "\n",
    "Perciò leggi bene quanto segue:"
   ]
  },
  {
   "cell_type": "raw",
   "id": "c6aa9655",
   "metadata": {
    "format": "text/html"
   },
   "source": [
    "</div>"
   ]
  },
  {
   "cell_type": "markdown",
   "metadata": {},
   "source": [
    "<div class=\"alert alert-info\" >\n",
    "\n",
    "[X COMANDAMENTO](https://it.softpython.org/commandments.html#X-COMANDAMENTO): \n",
    " **Non aggiungerai o toglierai mai elementi da una sequenza su cui stai iterando con un** `for`**!**\n",
    "</div>\n",
    "\n",
    "In questo caso, se proviamo ad eseguire il codice, otterremo un errore esplicito:\n",
    "\n",
    "```python\n",
    "---------------------------------------------------------------------------\n",
    "RuntimeError                              Traceback (most recent call last)\n",
    "<ipython-input-26-9b20900057e8> in <module>()\n",
    "----> 1 for chiave in diz:\n",
    "      2     diz['chiave'.upper()] = diz[chiave]    # ATTENZIONE !\n",
    "\n",
    "RuntimeError: dictionary changed size during iteration\n",
    "```\n",
    "ma in altri casi (come per esempio con le liste) effettuare modifiche **può produrre comportamenti del tutto imprevedibili** (conosci forse l'espressione _tirare il tappeto da sotto i piedi_?)"
   ]
  },
  {
   "cell_type": "markdown",
   "metadata": {},
   "source": [
    "**E rimuovere?** Abbiamo visto che aggiungere è pericoloso, ma lo è anche togliere.\n",
    "\n",
    "Supponiamo di voler togliere qualunque coppia che abbia come valore `'Trento'`"
   ]
  },
  {
   "cell_type": "markdown",
   "metadata": {},
   "source": [
    "\n",
    "```python\n",
    "province = {\n",
    "    'tn': 'Trento',\n",
    "    'mi':'Milano',\n",
    "    'na':'Napoli',\n",
    "}\n",
    "```\n",
    "\n",
    "affinchè risulti\n",
    "\n",
    "```python\n",
    ">>> print(province)\n",
    "{'mi':'Milano',\n",
    " 'na':'Napoli'}\n",
    "```"
   ]
  },
  {
   "cell_type": "markdown",
   "metadata": {},
   "source": [
    "Se proviamo ad eseguire qualcosa del genere per fortuna Python si accorge e ci lancia un'eccezione:\n",
    "\n",
    "```python\n",
    "province = {\n",
    "    'tn': 'Trento',\n",
    "    'mi': 'Milano',\n",
    "    'na': 'Napoli',\n",
    "}\n",
    "\n",
    "for chiave in province:\n",
    "    if province[chiave] == 'Trento':\n",
    "        del province[chiave]   # PESSIMA IDEA\n",
    "```\n",
    "\n",
    "```python\n",
    "---------------------------------------------------------------------------\n",
    "RuntimeError                              Traceback (most recent call last)\n",
    "<ipython-input-23-5df0fd659120> in <module>()\n",
    "      5     'na':'Napoli'\n",
    "      6 }\n",
    "----> 7 for chiave in province:\n",
    "      8     if province[chiave] == 'Trento':\n",
    "      9         del province[chiave]   # PESSIMA IDEA\n",
    "\n",
    "RuntimeError: dictionary changed size during iteration\n",
    "\n",
    "```"
   ]
  },
  {
   "cell_type": "markdown",
   "metadata": {},
   "source": [
    "**Se proprio devi rimuovere elementi dalla sequenza su cui stai iterando**, usa [un ciclo while](https://it.softpython.org/control-flow/flow3-while-sol.html) o effettua prima una copia della sequenza originale."
   ]
  },
  {
   "cell_type": "markdown",
   "metadata": {},
   "source": [
    "### Esercizio - zazb"
   ]
  },
  {
   "cell_type": "markdown",
   "metadata": {},
   "source": [
    "✪✪ Scrivere del codice che dato un dizionario `diz` con caratteri come chiavi, MODIFICA il dizionario affinchè gli vengano aggiunte chiavi uguali a quelle esistenti ma precedute dal carattere `'z'` - come valore associato alle nuove chiavi, poni l'intero `10`\n",
    "\n",
    "Esempio - dato: \n",
    "\n",
    "```python\n",
    "diz = {\n",
    "    'a':3,\n",
    "    'b':8,\n",
    "    'c':4\n",
    "}\n",
    "\n",
    "```\n",
    "\n",
    "dopo il tuo codice, `diz` dovrebbe risultare MODIFICATO così:\n",
    "\n",
    "```python\n",
    ">>> diz\n",
    "{   'a':3,\n",
    "    'b':8,\n",
    "    'c':4,\n",
    "    'za':10,\n",
    "    'zb':10,\n",
    "    'zc':10\n",
    "}\n",
    "```"
   ]
  },
  {
   "cell_type": "markdown",
   "metadata": {},
   "source": [
    "\n",
    "**DOMANDA**: E' forse il caso di scrivere una soluzione come quella qua sotto? Leggi bene questo:\n",
    "\n",
    "\n",
    "```python\n",
    "diz = {\n",
    "    'senso'          : 1,\n",
    "    'di'             : 2,\n",
    "    'inquietudine...': 3\n",
    "}\n",
    "\n",
    "for chiave in diz:    \n",
    "    diz['z'+chiave] = 4    # ATTENZIONE !! GUAI IN VISTA !!\n",
    "```"
   ]
  },
  {
   "cell_type": "raw",
   "id": "d39576fb",
   "metadata": {
    "format": "text/html"
   },
   "source": [
    "<a  class=\"jupman-sol jupman-sol-toggler\" \n",
    " onclick=\"jupman.toggleSolution(this);\" \n",
    " data-jupman-show=\"Mostra risposta\" data-jupman-hide=\"Nascondi\">Mostra risposta</a><div class=\"jupman-sol jupman-sol-question\" style=\"display:none\">  "
   ]
  },
  {
   "cell_type": "markdown",
   "metadata": {},
   "source": [
    "**RISPOSTA**: Assolutamente no - in questo caso siamo fortunati e otterremo un errore esplicito, in altri potremmo ottenere cicli infiniti o risultati incomprensibili:\n",
    "\n",
    "```python\n",
    "---------------------------------------------------------------------------\n",
    "RuntimeError                              Traceback (most recent call last)\n",
    "<ipython-input-36-550c4c302120> in <module>()\n",
    "      5 }\n",
    "      6 \n",
    "----> 7 for chiave in diz:\n",
    "      8     diz['z'+chiave] = 10\n",
    "\n",
    "RuntimeError: dictionary changed size during iteration\n",
    "```\n",
    "\n",
    "**Fai di meglio:** ora prova a scrivere una versione del programma che non abbia questo problema"
   ]
  },
  {
   "cell_type": "raw",
   "id": "19d158d6",
   "metadata": {
    "format": "text/html"
   },
   "source": [
    "</div>"
   ]
  },
  {
   "cell_type": "raw",
   "id": "9b6ef574",
   "metadata": {
    "format": "text/html"
   },
   "source": [
    "<a  class=\"jupman-sol jupman-sol-toggler\" \n",
    " onclick=\"jupman.toggleSolution(this);\" \n",
    " data-jupman-show=\"Mostra soluzione\" data-jupman-hide=\"Nascondi\">Mostra soluzione</a><div class=\"jupman-sol jupman-sol-code\" style=\"display:none\">  "
   ]
  },
  {
   "cell_type": "code",
   "execution_count": 17,
   "metadata": {},
   "outputs": [
    {
     "data": {
      "text/plain": [
       "{'a': 3, 'b': 8, 'c': 4, 'za': 10, 'zb': 10, 'zc': 10}"
      ]
     },
     "execution_count": 17,
     "metadata": {},
     "output_type": "execute_result"
    }
   ],
   "source": [
    "\n",
    "diz = {\n",
    "    'a':3,\n",
    "    'b':8,\n",
    "    'c':4\n",
    "}\n",
    "\n",
    "# scrivi qui\n",
    "\n",
    "for el in list(diz.keys()):  # list 'fotografa' lo stato delle chiavi\n",
    "    diz['z'+el] = 10\n",
    "\n",
    "diz"
   ]
  },
  {
   "cell_type": "raw",
   "id": "3e6c20fe",
   "metadata": {
    "format": "text/html"
   },
   "source": [
    "</div>"
   ]
  },
  {
   "cell_type": "code",
   "execution_count": 17,
   "metadata": {},
   "outputs": [],
   "source": [
    "\n",
    "diz = {\n",
    "    'a':3,\n",
    "    'b':8,\n",
    "    'c':4\n",
    "}\n",
    "\n",
    "# scrivi qui\n",
    "\n"
   ]
  },
  {
   "cell_type": "markdown",
   "metadata": {},
   "source": [
    "### Esercizio - brico\n",
    "\n",
    "✪✪ Un magazzino per appassionati del fai da te dispone di un `catalogo` che associa tipologie di oggetti agli scaffali dove posizionarli. Ogni giorno, una lista di `arrivi` viene popolata con le tipologie di oggetti arrivati. Tali tipologie vanno collocate nel `magazzino`, un dizionario che associa ad ogni scaffale la tipologia di oggetto prescritta dal catalogo. Scrivi del codice che data la lista di `arrivi` e il `catalogo`, popola il dizionario `magazzino`.\n",
    "\n",
    "Esempio - dati:\n",
    "\n",
    "```python\n",
    "\n",
    "arrivi = ['sedie', 'lampade', 'cavi']\n",
    "\n",
    "catalogo = {'stufe' : 'A',\n",
    "            'sedie' : 'B',\n",
    "            'caraffe' : 'D',\n",
    "            'lampade' : 'C',\n",
    "            'cavi' : 'F',\n",
    "            'giardinaggio' : 'E'}\n",
    "\n",
    "magazzino = {}\n",
    "```\n",
    "\n",
    "dopo il tuo codice deve risultare:\n",
    "\n",
    "```python\n",
    ">>> magazzino\n",
    "{'B': 'sedie', 'C': 'lampade', 'F': 'cavi'}\n",
    "```"
   ]
  },
  {
   "cell_type": "raw",
   "id": "8069fe98",
   "metadata": {
    "format": "text/html"
   },
   "source": [
    "<a  class=\"jupman-sol jupman-sol-toggler\" \n",
    " onclick=\"jupman.toggleSolution(this);\" \n",
    " data-jupman-show=\"Mostra soluzione\" data-jupman-hide=\"Nascondi\">Mostra soluzione</a><div class=\"jupman-sol jupman-sol-code\" style=\"display:none\">  "
   ]
  },
  {
   "cell_type": "code",
   "execution_count": 18,
   "metadata": {},
   "outputs": [
    {
     "data": {
      "text/plain": [
       "{'B': 'sedie', 'C': 'lampade', 'F': 'cavi'}"
      ]
     },
     "execution_count": 18,
     "metadata": {},
     "output_type": "execute_result"
    }
   ],
   "source": [
    "\n",
    "arrivi = ['sedie', 'lampade', 'cavi']  # magazzino diventa: {'B': 'sedie', 'C': 'lampade', 'F': 'cavi'}\n",
    "#arrivi = ['caraffe', 'giardinaggio']  # magazzino diventa: {'D': 'caraffe', 'E': 'giardinaggio'}\n",
    "#arrivi = ['stufe']                    # magazzino diventa: {'A': 'stufe'}\n",
    "\n",
    "catalogo = {'stufe' : 'A',\n",
    "            'sedie' : 'B',\n",
    "            'caraffe' : 'D',\n",
    "            'lampade' : 'C',\n",
    "            'cavi' : 'F',\n",
    "            'giardinaggio' : 'E'}\n",
    "\n",
    "# scrivi qui\n",
    "\n",
    "magazzino = {}\n",
    "\n",
    "for consegna in arrivi:    \n",
    "    magazzino[ catalogo[consegna] ] = consegna\n",
    "\n",
    "magazzino"
   ]
  },
  {
   "cell_type": "raw",
   "id": "2e08f8ba",
   "metadata": {
    "format": "text/html"
   },
   "source": [
    "</div>"
   ]
  },
  {
   "cell_type": "code",
   "execution_count": 18,
   "metadata": {},
   "outputs": [],
   "source": [
    "\n",
    "arrivi = ['sedie', 'lampade', 'cavi']  # magazzino diventa: {'B': 'sedie', 'C': 'lampade', 'F': 'cavi'}\n",
    "#arrivi = ['caraffe', 'giardinaggio']  # magazzino diventa: {'D': 'caraffe', 'E': 'giardinaggio'}\n",
    "#arrivi = ['stufe']                    # magazzino diventa: {'A': 'stufe'}\n",
    "\n",
    "catalogo = {'stufe' : 'A',\n",
    "            'sedie' : 'B',\n",
    "            'caraffe' : 'D',\n",
    "            'lampade' : 'C',\n",
    "            'cavi' : 'F',\n",
    "            'giardinaggio' : 'E'}\n",
    "\n",
    "# scrivi qui\n",
    "\n"
   ]
  },
  {
   "cell_type": "markdown",
   "metadata": {},
   "source": [
    "### Esercizio - miniera\n",
    "\n",
    "✪✪ Dato un dizionario `miniera` che associa chiavi a numeri, MODIFICA il dizionario `estratto` associando le stesse chiavi di `miniera` a liste con le chiavi ripetute il numero di volte indicato.\n",
    "\n",
    "Esempio - dati:\n",
    "\n",
    "```python\n",
    "miniera = {'ottone': 5,\n",
    "           'rame'  : 8,\n",
    "           'ferro' : 1}\n",
    "estratto = {}\n",
    "```\n",
    "\n",
    "dopo il tuo codice deve risultare:\n",
    "\n",
    "```python\n",
    ">>> print(estratto)\n",
    "{'ottone': ['ottone', 'ottone', 'ottone', 'ottone', 'ottone'],\n",
    " 'rame'  : ['rame', 'rame', 'rame', 'rame', 'rame', 'rame', 'rame', 'rame'],\n",
    " 'ferro' : ['ferro']}\n",
    "```"
   ]
  },
  {
   "cell_type": "raw",
   "id": "ca3964b6",
   "metadata": {
    "format": "text/html"
   },
   "source": [
    "<a  class=\"jupman-sol jupman-sol-toggler\" \n",
    " onclick=\"jupman.toggleSolution(this);\" \n",
    " data-jupman-show=\"Mostra soluzione\" data-jupman-hide=\"Nascondi\">Mostra soluzione</a><div class=\"jupman-sol jupman-sol-code\" style=\"display:none\">  "
   ]
  },
  {
   "cell_type": "code",
   "execution_count": 19,
   "metadata": {},
   "outputs": [
    {
     "data": {
      "text/plain": [
       "{'ottone': ['ottone', 'ottone', 'ottone', 'ottone', 'ottone'],\n",
       " 'rame': ['rame', 'rame', 'rame', 'rame', 'rame', 'rame', 'rame', 'rame'],\n",
       " 'ferro': ['ferro']}"
      ]
     },
     "execution_count": 19,
     "metadata": {},
     "output_type": "execute_result"
    }
   ],
   "source": [
    "\n",
    "miniera = {'ottone' : 5,\n",
    "           'rame' : 8,\n",
    "           'ferro' : 1}\n",
    "\n",
    "estratto = {}\n",
    "\n",
    "# scrivi qui\n",
    "\n",
    "for chiave in miniera:\n",
    "    estratto[chiave] = [chiave] * miniera[chiave]\n",
    "\n",
    "estratto"
   ]
  },
  {
   "cell_type": "raw",
   "id": "a76a2c28",
   "metadata": {
    "format": "text/html"
   },
   "source": [
    "</div>"
   ]
  },
  {
   "cell_type": "code",
   "execution_count": 19,
   "metadata": {},
   "outputs": [],
   "source": [
    "\n",
    "miniera = {'ottone' : 5,\n",
    "           'rame' : 8,\n",
    "           'ferro' : 1}\n",
    "\n",
    "estratto = {}\n",
    "\n",
    "# scrivi qui\n",
    "\n"
   ]
  },
  {
   "cell_type": "markdown",
   "metadata": {},
   "source": [
    "## Prosegui\n",
    "\n",
    "Continua con [cicli for annidati](https://it.softpython.org/for/for7-nested-sol.html)"
   ]
  }
 ],
 "metadata": {
  "kernelspec": {
   "display_name": "Python 3 (ipykernel)",
   "language": "python",
   "name": "python3"
  },
  "language_info": {
   "codemirror_mode": {
    "name": "ipython",
    "version": 3
   },
   "file_extension": ".py",
   "mimetype": "text/x-python",
   "name": "python",
   "nbconvert_exporter": "python",
   "pygments_lexer": "ipython3",
   "version": "3.7.10"
  },
  "toc": {
   "base_numbering": 1,
   "nav_menu": {},
   "number_sections": false,
   "sideBar": true,
   "skip_h1_title": false,
   "title_cell": "Table of Contents",
   "title_sidebar": "Contents",
   "toc_cell": false,
   "toc_position": {},
   "toc_section_display": true,
   "toc_window_display": true
  }
 },
 "nbformat": 4,
 "nbformat_minor": 2
}

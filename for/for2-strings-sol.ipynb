{
 "cells": [
  {
   "cell_type": "code",
   "execution_count": 1,
   "metadata": {
    "nbsphinx": "hidden"
   },
   "outputs": [],
   "source": [
    "# Ricordati di eseguire questa cella con Shift+Invio\n",
    "\n",
    "import jupman"
   ]
  },
  {
   "cell_type": "markdown",
   "metadata": {},
   "source": [
    "# Cicli for 2 - iterare stringhe\n",
    "\n",
    "## [Scarica zip esercizi](../_static/generated/for.zip) \n",
    "\n",
    "[Naviga file online](https://github.com/DavidLeoni/softpython-it/tree/master/for)\n",
    "\n",
    "Vediamo esercizi in cui è necessario iterare delle stringhe."
   ]
  },
  {
   "cell_type": "markdown",
   "metadata": {},
   "source": [
    "## Esercizio - impertinenza\n",
    "\n",
    "Data la `sequenza` di caratteri di lunghezza multiplo di 3, scrivi del codice che mette nella variabile `triple` tutte le sotto-sequenze di tre caratteri.\n",
    "\n",
    "Esempio - data:\n",
    "\n",
    "```python\n",
    "sequenza = \"IMPERTINENZA\"  \n",
    "            \n",
    "```\n",
    "dopo il tuo codice, deve risultare:\n",
    "\n",
    "```python\n",
    ">>> print(triple)\n",
    "['IMP', 'ERT', 'INE', 'NZA']\n",
    "```"
   ]
  },
  {
   "cell_type": "raw",
   "id": "e86559e2",
   "metadata": {
    "format": "text/html"
   },
   "source": [
    "<a  class=\"jupman-sol jupman-sol-toggler\" \n",
    " onclick=\"jupman.toggleSolution(this);\" \n",
    " data-jupman-show=\"Mostra soluzione\" data-jupman-hide=\"Nascondi\">Mostra soluzione</a><div class=\"jupman-sol jupman-sol-code\" style=\"display:none\">  "
   ]
  },
  {
   "cell_type": "code",
   "execution_count": 2,
   "metadata": {},
   "outputs": [
    {
     "name": "stdout",
     "output_type": "stream",
     "text": [
      "['IMP', 'ERT', 'INE', 'NZA']\n"
     ]
    }
   ],
   "source": [
    "\n",
    "sequenza = \"IMPERTINENZA\"  # ['IMP', 'ERT', 'INE', 'NZA']\n",
    "#sequenza = \"SAGOMA\"       # ['SAG', 'OMA']\n",
    "#sequenza = \"O_o\"          # ['O_o']\n",
    "\n",
    "# scrivi qui\n",
    "triple = []\n",
    "for i in range(len(sequenza)):\n",
    "    if i % 3 == 0:\n",
    "        triple.append(sequenza[i:i+3])\n",
    "print(triple)"
   ]
  },
  {
   "cell_type": "raw",
   "id": "af461f4b",
   "metadata": {
    "format": "text/html"
   },
   "source": [
    "</div>"
   ]
  },
  {
   "cell_type": "code",
   "execution_count": 2,
   "metadata": {},
   "outputs": [],
   "source": [
    "\n",
    "sequenza = \"IMPERTINENZA\"  # ['IMP', 'ERT', 'INE', 'NZA']\n",
    "#sequenza = \"SAGOMA\"       # ['SAG', 'OMA']\n",
    "#sequenza = \"O_o\"          # ['O_o']\n",
    "\n",
    "# scrivi qui\n",
    "\n"
   ]
  },
  {
   "cell_type": "markdown",
   "metadata": {},
   "source": [
    "## Esercizio - rospo \n",
    "\n",
    "✪✪ Data  una stringa `parola` e una stringa `ripetizioni` contenente solo cifre, scrivi del codice che mette nella variabile `risultato` una stringa contenente tutte le lettere di `parola` ripetute per il numero di volte indicato alla posizione corrispondente in `ripetizioni`\n",
    "\n",
    "Esempio - date:\n",
    "\n",
    "```python\n",
    "parola, ripetizioni = \"rospo\", \"14323\"\n",
    "```\n",
    "\n",
    "Dopo il tuo codice deve risultare:\n",
    "\n",
    "```python\n",
    ">>> risultato\n",
    "'roooosssppooo'\n",
    "```"
   ]
  },
  {
   "cell_type": "raw",
   "id": "d833475a",
   "metadata": {
    "format": "text/html"
   },
   "source": [
    "<a  class=\"jupman-sol jupman-sol-toggler\" \n",
    " onclick=\"jupman.toggleSolution(this);\" \n",
    " data-jupman-show=\"Mostra soluzione\" data-jupman-hide=\"Nascondi\">Mostra soluzione</a><div class=\"jupman-sol jupman-sol-code\" style=\"display:none\">  "
   ]
  },
  {
   "cell_type": "code",
   "execution_count": 3,
   "metadata": {},
   "outputs": [
    {
     "name": "stdout",
     "output_type": "stream",
     "text": [
      "roooosssppooo\n"
     ]
    }
   ],
   "source": [
    "\n",
    "parola, ripetizioni = \"rospo\", \"14323\"           # 'roooosssppooo'\n",
    "#parola, ripetizioni = \"artificio\", \"144232312\"  # 'arrrrttttiifffiicccioo'\n",
    "\n",
    "# scrivi qui\n",
    "res = []\n",
    "\n",
    "for i in range(len(parola)):\n",
    "    res.append(parola[i]*int(ripetizioni[i]))\n",
    "    \n",
    "risultato = \"\".join(res)\n",
    "print(risultato)"
   ]
  },
  {
   "cell_type": "raw",
   "id": "e8d9d9d4",
   "metadata": {
    "format": "text/html"
   },
   "source": [
    "</div>"
   ]
  },
  {
   "cell_type": "code",
   "execution_count": 3,
   "metadata": {},
   "outputs": [],
   "source": [
    "\n",
    "parola, ripetizioni = \"rospo\", \"14323\"           # 'roooosssppooo'\n",
    "#parola, ripetizioni = \"artificio\", \"144232312\"  # 'arrrrttttiifffiicccioo'\n",
    "\n",
    "# scrivi qui\n",
    "\n"
   ]
  },
  {
   "cell_type": "markdown",
   "metadata": {},
   "source": [
    "## Prosegui\n",
    "\n",
    "Continua con esercizi su [for e liste](https://it.softpython.org/for/for3-lists-sol.html)"
   ]
  },
  {
   "cell_type": "code",
   "execution_count": null,
   "metadata": {},
   "outputs": [],
   "source": []
  }
 ],
 "metadata": {
  "kernelspec": {
   "display_name": "Python 3 (ipykernel)",
   "language": "python",
   "name": "python3"
  },
  "language_info": {
   "codemirror_mode": {
    "name": "ipython",
    "version": 3
   },
   "file_extension": ".py",
   "mimetype": "text/x-python",
   "name": "python",
   "nbconvert_exporter": "python",
   "pygments_lexer": "ipython3",
   "version": "3.7.10"
  },
  "toc": {
   "base_numbering": 1,
   "nav_menu": {},
   "number_sections": false,
   "sideBar": true,
   "skip_h1_title": false,
   "title_cell": "Table of Contents",
   "title_sidebar": "Contents",
   "toc_cell": false,
   "toc_position": {},
   "toc_section_display": true,
   "toc_window_display": true
  }
 },
 "nbformat": 4,
 "nbformat_minor": 2
}

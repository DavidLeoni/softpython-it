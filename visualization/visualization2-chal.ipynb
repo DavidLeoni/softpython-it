{
 "cells": [
  {
   "cell_type": "markdown",
   "id": "major-alliance",
   "metadata": {},
   "source": [
    "# Visualizzazione 2 - Challenge"
   ]
  },
  {
   "cell_type": "markdown",
   "id": "spanish-notion",
   "metadata": {},
   "source": [
    "\n",
    "## 1. Il protosincrotrone\n",
    "\n",
    "✪✪ Requisiti: matplotlib, strutture varie\n",
    "\n",
    "♫ Plottiam ♫ Plottiam ♫ ! In un recente esperimento svolto in collaborazione  tra il CERN e la NASA abbiamo raccolto un sacco di dati.\n",
    "\n",
    "Si tratta di punti nello spazio che ci segnalano come i bosoni bi-gravitazionali interagiscono con le stringhe di campo finito per comporre il flusso canalizzatore della tarapia tapioca.\n",
    "\n",
    "Ogni scienziato che partecipava all'esperimento ha usato un formato diverso per i dati, ma l'idea di fondo è sempre la stessa:"
   ]
  },
  {
   "cell_type": "markdown",
   "id": "prepared-prague",
   "metadata": {},
   "source": [
    "```python\n",
    "    [[1, 10], [0, 0]]\n",
    "```\n",
    "\n",
    "rappresenta\n",
    "\n",
    "```\n",
    "           x   y\n",
    "    punto1(1,  0)\n",
    "    punto2(10, 0)\n",
    "```\n",
    "\n",
    "e similmente per le altre strutture.\n",
    "\n",
    "```python\n",
    "([4, 4], [0, 4])\n",
    "```\n",
    "\n",
    "```    \n",
    "           x  y\n",
    "    punto1(4, 0)\n",
    "    punto2(4, 4)\n",
    "```\n"
   ]
  },
  {
   "cell_type": "markdown",
   "id": "perfect-verification",
   "metadata": {},
   "source": [
    "\n",
    "Matplotlib ci mette a disposizione una funzione per  plottare segmenti definiti per punti:\n",
    "\n",
    "`plt.plot(lista di x, lista di y)`\n",
    "\n",
    "1. prova a chiamare plot tante volte, una per ciascun segmento da visualizzare - noterai che ogni segmento verrà mostrato di un colore casuale diverso.\n",
    "2. prova a chiamare plot una sola volta per plottare tutti i punti in un colpo solo, dovresti ottenere una linea spezzata dello stesso colore."
   ]
  },
  {
   "cell_type": "code",
   "execution_count": 1,
   "id": "scenic-aside-stripped",
   "metadata": {},
   "outputs": [],
   "source": [
    "\n",
    "import matplotlib \n",
    "import matplotlib.pyplot as plt\n",
    "\n",
    "# Questi sono i dati raccolti dai vari laboratori\n",
    "part1 = [[1, 10], [0, 0]]\n",
    "part2 = ([4, 4], [0, 4])\n",
    "part3 = {\"x\": [8, 8], \"y\": [0, 4]}\n",
    "more_parts = {\n",
    "    \"part4\":[[4, 8], [4, 4]],\n",
    "    \"part5\":[[4, 6], [4, 6]],\n",
    "    \"part6\":[[8, 6], [4, 6]]\n",
    "}\n",
    "\n",
    "# scrivi qui sotto\n",
    "\n"
   ]
  },
  {
   "cell_type": "code",
   "execution_count": 2,
   "id": "mature-charlotte-stripped",
   "metadata": {
    "nbsphinx": "hidden"
   },
   "outputs": [],
   "source": []
  },
  {
   "cell_type": "markdown",
   "id": "f2512fba",
   "metadata": {},
   "source": [
    "## 2. Il Trader\n",
    "\n",
    "✪✪ Un'analisi di mercato mira a comparare la performance di un titolo con il mercato di riferimento (benchmark), riportati in una tabella verticale in questo formato:\n",
    "\n",
    "```\n",
    "giorno  benchmark titolo\n",
    "    0     18        9\n",
    "    2     19       11\n",
    "    4     15        7\n",
    "    6      4        9\n",
    "    8      8       11\n",
    "    10    16       12\n",
    "    12    17       13\n",
    "    14    11        9    \n",
    "    16     9       11\n",
    "    18     5       10    \n",
    "```\n",
    "\n",
    "\n",
    "Sono state compiute 10 rilevazioni a distanza ciascuna di 2 giorni. Si vuole visualizzare:\n",
    "\n",
    "1. l'andamento del benchmark, in blu\n",
    "2. l'andamento del titolo, in arancione\n",
    "3. il minimo e il massimo del **solo** titolo come linee orizzontali, rispettivamente rossa e verde \n",
    "\n",
    "* mostra i giorni come interi (prova a usare `plt.xticks`)\n",
    "* **RICORDATI** di impostare il titolo del grafico e gli assi\n",
    "* **USA** numpy il più possibile\n",
    "\n",
    "**SUGGERIMENTI**:\n",
    "\n",
    "* per avere grafici multipli in sovraimpressione è sufficiente fare chiamate successive a `plt.plot` nella stessa cella. \n",
    "* per i colori, usa l'attributo `color=`  nelle chiamate a `plt.plot`\n",
    "* per le linee tratteggiate, usa l'indicatore `'--'`\n",
    "\n",
    "\n",
    "![expected-chart](expected-chart.png)"
   ]
  },
  {
   "cell_type": "code",
   "execution_count": 3,
   "id": "9124acaa-stripped",
   "metadata": {},
   "outputs": [],
   "source": [
    "\n",
    "%matplotlib inline\n",
    "import numpy as np\n",
    "import matplotlib.pyplot as plt\n",
    "\n",
    "m = np.array([\n",
    "    [ 0,18, 9],\n",
    "    [ 2,19,11],\n",
    "    [ 4,15, 7],\n",
    "    [ 6, 4, 9],\n",
    "    [ 8, 8, 11],\n",
    "    [10,16,12],\n",
    "    [12,17,13],\n",
    "    [14,11, 9],    \n",
    "    [16, 9,11],\n",
    "    [18, 5,10],\n",
    "])\n",
    "\n",
    "# scrivi qui\n",
    "\n"
   ]
  },
  {
   "cell_type": "markdown",
   "id": "received-personality",
   "metadata": {},
   "source": [
    "## 3. IgNobel\n",
    "\n",
    "✪✪ Requisiti: matplotlib, random, strutture varie\n",
    "\n",
    "Come ogni scienziato indegno di rispetto sa, quando i dati degli esperimenti non tornano è il momento di inventarsi numeri.\n",
    "\n",
    "Per creare grafici più credibili proviamo a generare due sequenze di punti casuali utilizzando la libreria `random`, e poi proviamo a plottare questi punti.\n",
    "\n",
    "- ogni sequenza deve avere almeno 200 punti\n",
    "- per avere un risultato più interessante proviamo a  vedere sequenze di punti estratti da distribuzioni statistiche differenti: UNIFORM e EXPOVARIATE\n",
    "- riesci a plottare le sequenze ordinate?\n",
    "\n",
    "**SUGGERIMENTO**: `random` mette già a disposizione dei metodi per fare sampling da distribuzioni.++"
   ]
  },
  {
   "cell_type": "code",
   "execution_count": 4,
   "id": "complete-steering-stripped",
   "metadata": {},
   "outputs": [
    {
     "data": {
      "image/png": "[encoded data removed]",
      "text/plain": [
       "<Figure size 432x288 with 1 Axes>"
      ]
     },
     "metadata": {
      "needs_background": "light"
     },
     "output_type": "display_data"
    }
   ],
   "source": [
    "import matplotlib \n",
    "import matplotlib.pyplot as plt\n",
    "import random\n",
    "\n",
    "# scrivi qui\n",
    "\n"
   ]
  },
  {
   "cell_type": "code",
   "execution_count": 5,
   "id": "presidential-privacy-stripped",
   "metadata": {
    "nbsphinx": "hidden"
   },
   "outputs": [],
   "source": []
  }
 ],
 "metadata": {
  "kernelspec": {
   "display_name": "Python 3 (ipykernel)",
   "language": "python",
   "name": "python3"
  },
  "language_info": {
   "codemirror_mode": {
    "name": "ipython",
    "version": 3
   },
   "file_extension": ".py",
   "mimetype": "text/x-python",
   "name": "python",
   "nbconvert_exporter": "python",
   "pygments_lexer": "ipython3",
   "version": "3.7.10"
  },
  "toc": {
   "base_numbering": 1,
   "nav_menu": {},
   "number_sections": false,
   "sideBar": true,
   "skip_h1_title": false,
   "title_cell": "Table of Contents",
   "title_sidebar": "Contents",
   "toc_cell": false,
   "toc_position": {},
   "toc_section_display": true,
   "toc_window_display": true
  }
 },
 "nbformat": 4,
 "nbformat_minor": 5
}

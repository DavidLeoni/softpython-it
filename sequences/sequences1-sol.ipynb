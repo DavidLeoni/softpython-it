{
 "cells": [
  {
   "cell_type": "code",
   "execution_count": 1,
   "metadata": {
    "nbsphinx": "hidden"
   },
   "outputs": [],
   "source": [
    "# Ricordati di eseguire questa cella con Shift+Invio\n",
    "\n",
    "import jupman"
   ]
  },
  {
   "cell_type": "markdown",
   "metadata": {},
   "source": [
    "# Sequenze e comprehensions\n",
    "\n",
    "## [Scarica zip esercizi](../_static/generated/sequences.zip)\n",
    "\n",
    "[Naviga file online](https://github.com/DavidLeoni/softpython-it/tree/master/sequences)"
   ]
  },
  {
   "cell_type": "markdown",
   "metadata": {},
   "source": [
    "\n",
    "In Python è possibile scrivere codice elegante e compatto con le sequenze. Prima vedremo come scorrere le sequenze con gli iteratori e poi come costruirle con le comprehensions di liste, insiemi e dizionari.\n",
    "\n",
    "### Che fare\n",
    "\n",
    "- scompatta lo zip in una cartella, dovresti ottenere qualcosa del genere: \n",
    "\n",
    "```\n",
    "\n",
    "sequences \n",
    "    sequences1.ipynb\n",
    "    sequences1-sol.ipynb    \n",
    "    sequences2-chal.ipynb    \n",
    "    jupman.py\n",
    "    \n",
    "```\n",
    "\n",
    "<div class=\"alert alert-warning\">\n",
    "\n",
    "**ATTENZIONE**: Per essere visualizzato correttamente, il file del notebook DEVE essere nella cartella szippata.\n",
    "</div>\n",
    "\n",
    "- apri il Jupyter Notebook da quella cartella. Due cose dovrebbero aprirsi, prima una console e poi un browser. Il browser dovrebbe mostrare una lista di file: naviga la lista e apri il notebook `sequences.ipynb`\n",
    "- Prosegui leggendo il file degli esercizi, ogni tanto al suo interno troverai delle scritte **ESERCIZIO**, che ti chiederanno di scrivere dei comandi Python nelle celle successive. \n",
    "\n",
    "Scorciatoie da tastiera:\n",
    "\n",
    "* Per eseguire il codice Python dentro una cella di Jupyter, premi `Control+Invio`\n",
    "* Per eseguire il codice Python dentro una cella di Jupyter E selezionare la cella seguente, premi `Shift+Invio`\n",
    "* Per eseguire il codice Python dentro una cella di Jupyter E creare una nuova cella subito dopo, premi `Alt+Invio`\n",
    "* Se per caso il Notebook sembra inchiodato, prova a selezionare `Kernel -> Restart`\n",
    "\n"
   ]
  },
  {
   "cell_type": "markdown",
   "metadata": {},
   "source": [
    "## Iterabili - liste\n",
    "\n",
    "Guardando i cicli abbiamo spesso parlato di _iteratazione_ su sequenze, ma nel dettaglio, cosa vuol dire esattamente che una sequenza è _iterabile_ ? In concreto, vuol dire che è possibile chiamare la funzione `iter` sulla sequenza.\n",
    "\n",
    "Proviamo per esempio sulle familiari liste:"
   ]
  },
  {
   "cell_type": "code",
   "execution_count": 2,
   "metadata": {},
   "outputs": [
    {
     "data": {
      "text/plain": [
       "<list_iterator at 0x7f4274019390>"
      ]
     },
     "execution_count": 2,
     "metadata": {},
     "output_type": "execute_result"
    }
   ],
   "source": [
    "iter(['a','b','c','d'])"
   ]
  },
  {
   "cell_type": "markdown",
   "metadata": {},
   "source": [
    "Notiamo che Python ha creato un oggetto di tipo `list_iterator`. \n",
    "\n",
    "<div class=\"alert alert-info\">\n",
    "\n",
    "**NOTA**: la lista non viene mostrata!\n",
    "\n",
    "Puoi immaginare un iteratore come una specie di macchinetta ferma, che ogni volta che viene azionata produce un elemento di una sequenza, uno alla volta. \n",
    "\n",
    "</div>\n",
    "\n",
    "Tipicamente, un iteratore sa solo in quale _posizione_ sta all'interno di una sequenza, e può fornirci gli elementi della sequenza uno per uno se li chiediamo ripetutamente con la funzione `next`: "
   ]
  },
  {
   "cell_type": "code",
   "execution_count": 3,
   "metadata": {},
   "outputs": [],
   "source": [
    "iteratore = iter(['a','b','c','d'])"
   ]
  },
  {
   "cell_type": "code",
   "execution_count": 4,
   "metadata": {},
   "outputs": [
    {
     "data": {
      "text/plain": [
       "'a'"
      ]
     },
     "execution_count": 4,
     "metadata": {},
     "output_type": "execute_result"
    }
   ],
   "source": [
    "next(iteratore)"
   ]
  },
  {
   "cell_type": "code",
   "execution_count": 5,
   "metadata": {},
   "outputs": [
    {
     "data": {
      "text/plain": [
       "'b'"
      ]
     },
     "execution_count": 5,
     "metadata": {},
     "output_type": "execute_result"
    }
   ],
   "source": [
    "next(iteratore)"
   ]
  },
  {
   "cell_type": "code",
   "execution_count": 6,
   "metadata": {},
   "outputs": [
    {
     "data": {
      "text/plain": [
       "'c'"
      ]
     },
     "execution_count": 6,
     "metadata": {},
     "output_type": "execute_result"
    }
   ],
   "source": [
    "next(iteratore)"
   ]
  },
  {
   "cell_type": "code",
   "execution_count": 7,
   "metadata": {},
   "outputs": [
    {
     "data": {
      "text/plain": [
       "'d'"
      ]
     },
     "execution_count": 7,
     "metadata": {},
     "output_type": "execute_result"
    }
   ],
   "source": [
    "next(iteratore)"
   ]
  },
  {
   "cell_type": "markdown",
   "metadata": {},
   "source": [
    "Nota come l'iteratore abbia _uno stato_ per tenere traccia di dove siamo nella sequenza (in inglese diremmo che è _stateful_). Lo stato viene cambiato ad ogni chiamata della funzione `next`."
   ]
  },
  {
   "cell_type": "markdown",
   "metadata": {},
   "source": [
    "Se proviamo a chiedere più elementi di quanti ve ne sono disponibili, Python solleva un'eccezione `StopIteration`:"
   ]
  },
  {
   "cell_type": "markdown",
   "metadata": {},
   "source": [
    "```python\n",
    "next(iteratore)\n",
    "\n",
    "---------------------------------------------------------------------------\n",
    "StopIteration                             Traceback (most recent call last)\n",
    "<ipython-input-65-4518bd5da67f> in <module>()\n",
    "----> 1 next(iteratore)\n",
    "\n",
    "StopIteration: \n",
    "```"
   ]
  },
  {
   "cell_type": "markdown",
   "metadata": {},
   "source": [
    "## iterabili - range\n",
    "\n",
    "Abbiamo provato ad iterare su una lista, che è una sequenza completamente materializzata in memoria su cui scorriamo con l'oggetto iteratore. Esistono anche sequenze particolari che _non_ sono materializzate in memoria, come per esempio `range`.\n",
    "\n",
    "Precedentemente abbiamo usato `range` [nei cicli for](https://it.softpython.org/control-flow/flow2-for-sol.html#Contare-con-range) for ottenere una sequenza di numeri, ma esattamente, che cosa fa la funzione `range`? Proviamo a chiamarla da sola:"
   ]
  },
  {
   "cell_type": "code",
   "execution_count": 8,
   "metadata": {},
   "outputs": [
    {
     "data": {
      "text/plain": [
       "range(0, 4)"
      ]
     },
     "execution_count": 8,
     "metadata": {},
     "output_type": "execute_result"
    }
   ],
   "source": [
    "range(4)"
   ]
  },
  {
   "cell_type": "markdown",
   "metadata": {},
   "source": [
    "Forse ci attendevamo una sequenza di numeri, invece Python ci mostra un oggetto di tipo `range` (indicando anche l'estremo inferiore del range). \n",
    "\n",
    "<div class=\"alert alert-warning\">\n",
    "    \n",
    "**NOTA**: Al momento in memoria non è presente nessuna sequenza di numeri\n",
    "\n",
    "Abbiamo solo un oggetto _iterabile_ 'fermo' che se vogliamo può fornirci i numeri\n",
    "\n",
    "</div>\n",
    "\n",
    "\n",
    "Come possiamo chiederglieli?\n",
    "\n",
    "Abbiamo già visto che si può usare un `for`:"
   ]
  },
  {
   "cell_type": "code",
   "execution_count": 9,
   "metadata": {},
   "outputs": [
    {
     "name": "stdout",
     "output_type": "stream",
     "text": [
      "0\n",
      "1\n",
      "2\n",
      "3\n"
     ]
    }
   ],
   "source": [
    "for x in range(4):\n",
    "    print(x)"
   ]
  },
  {
   "cell_type": "markdown",
   "metadata": {},
   "source": [
    "In alternativa, possiamo passare `range` alla funzione `iter` che produce un _iteratore_.\n",
    "\n",
    "<div class=\"alert alert-warning\">\n",
    "\n",
    "**ATTENZIONE:** `range` **è iterabile ma NON è un iteratore !!**\n",
    "\n",
    "Per ottenere l'iteratore dobbiamo chiamare la funzione `iter` sull'oggetto `range`\n",
    "\n",
    "</div>"
   ]
  },
  {
   "cell_type": "code",
   "execution_count": 10,
   "metadata": {},
   "outputs": [],
   "source": [
    "iteratore = iter(range(4))"
   ]
  },
  {
   "cell_type": "markdown",
   "metadata": {},
   "source": [
    "Anche `iter` produce un oggetto 'fermo', che non ha ancora materializzato in memoria dei numeri:"
   ]
  },
  {
   "cell_type": "code",
   "execution_count": 11,
   "metadata": {},
   "outputs": [
    {
     "data": {
      "text/plain": [
       "<range_iterator at 0x7f4274078ba0>"
      ]
     },
     "execution_count": 11,
     "metadata": {},
     "output_type": "execute_result"
    }
   ],
   "source": [
    "iteratore"
   ]
  },
  {
   "cell_type": "markdown",
   "metadata": {},
   "source": [
    "Per chiederglieli dobbiamo usare la funzione `next`:"
   ]
  },
  {
   "cell_type": "code",
   "execution_count": 12,
   "metadata": {},
   "outputs": [
    {
     "data": {
      "text/plain": [
       "0"
      ]
     },
     "execution_count": 12,
     "metadata": {},
     "output_type": "execute_result"
    }
   ],
   "source": [
    "next(iteratore)"
   ]
  },
  {
   "cell_type": "code",
   "execution_count": 13,
   "metadata": {},
   "outputs": [
    {
     "data": {
      "text/plain": [
       "1"
      ]
     },
     "execution_count": 13,
     "metadata": {},
     "output_type": "execute_result"
    }
   ],
   "source": [
    "next(iteratore)"
   ]
  },
  {
   "cell_type": "code",
   "execution_count": 14,
   "metadata": {},
   "outputs": [
    {
     "data": {
      "text/plain": [
       "2"
      ]
     },
     "execution_count": 14,
     "metadata": {},
     "output_type": "execute_result"
    }
   ],
   "source": [
    "next(iteratore)"
   ]
  },
  {
   "cell_type": "code",
   "execution_count": 15,
   "metadata": {},
   "outputs": [
    {
     "data": {
      "text/plain": [
       "3"
      ]
     },
     "execution_count": 15,
     "metadata": {},
     "output_type": "execute_result"
    }
   ],
   "source": [
    "next(iteratore)"
   ]
  },
  {
   "cell_type": "markdown",
   "metadata": {},
   "source": [
    "Nota come l'iteratore abbia _uno stato_, che viene cambiato ad ogni chiamata di `next` per tenere traccia di dove siamo nella sequenza."
   ]
  },
  {
   "cell_type": "markdown",
   "metadata": {},
   "source": [
    "Se proviamo a chiedere più elementi di quanti ve ne sono disponibili, Python solleva un'eccezione `StopIteration`:"
   ]
  },
  {
   "cell_type": "markdown",
   "metadata": {},
   "source": [
    "```python\n",
    "next(iteratore)\n",
    "\n",
    "---------------------------------------------------------------------------\n",
    "StopIteration                             Traceback (most recent call last)\n",
    "<ipython-input-65-4518bd5da67f> in <module>()\n",
    "----> 1 next(iteratore)\n",
    "\n",
    "StopIteration: \n",
    "```"
   ]
  },
  {
   "cell_type": "markdown",
   "metadata": {},
   "source": [
    "## Materializzare una sequenza\n",
    "\n",
    "Abbiamo detto che un oggetto `range` non materializza fisicamente in memoria tutti i numeri contemporaneamente. Solo ottenendo l'iteratore, li materializziamo uno per uno. E volessimo una lista con tutti i numeri ? Nel foglio [sulle liste](https://it.softpython.org/lists/lists1-sol.html#Convertire-sequenze-in-liste) abbiamo visto che passando alla funzione `list` una sequenza, viene creata una nuova lista che contiene tutti gli elementi della sequenza. Abbiamo parlato genericamente di _sequenza_, ma il termine più corretto sarebbe stato _iterabile_. \n",
    "\n",
    "Se passiamo a `list` un qualunque oggetto _iterabile_ allora verrà costruita la lista - come abbiamo visto `range` è iterabile quindi proviamo:"
   ]
  },
  {
   "cell_type": "code",
   "execution_count": 16,
   "metadata": {},
   "outputs": [
    {
     "data": {
      "text/plain": [
       "[0, 1, 2, 3]"
      ]
     },
     "execution_count": 16,
     "metadata": {},
     "output_type": "execute_result"
    }
   ],
   "source": [
    "list(range(4))"
   ]
  },
  {
   "cell_type": "markdown",
   "metadata": {},
   "source": [
    "Voilà ! Adesso la sequenza è tutta fisicamente presente in memoria."
   ]
  },
  {
   "cell_type": "markdown",
   "metadata": {},
   "source": [
    "<div class=\"alert alert-warning\">\n",
    "\n",
    "**ATTENZIONE:** `list` **consuma l'iteratore!**\n",
    "\n",
    "</div>"
   ]
  },
  {
   "cell_type": "markdown",
   "metadata": {},
   "source": [
    "Se provi a chiamare due volte `list` sullo stesso iteratore, otterrai una lista vuota:"
   ]
  },
  {
   "cell_type": "code",
   "execution_count": 17,
   "metadata": {},
   "outputs": [],
   "source": [
    "\n",
    "sequenza = range(4)\n",
    "iteratore = iter(sequenza)"
   ]
  },
  {
   "cell_type": "code",
   "execution_count": 18,
   "metadata": {},
   "outputs": [],
   "source": [
    "nuova1 = list(iteratore)"
   ]
  },
  {
   "cell_type": "code",
   "execution_count": 19,
   "metadata": {},
   "outputs": [
    {
     "data": {
      "text/plain": [
       "[0, 1, 2, 3]"
      ]
     },
     "execution_count": 19,
     "metadata": {},
     "output_type": "execute_result"
    }
   ],
   "source": [
    "nuova1"
   ]
  },
  {
   "cell_type": "code",
   "execution_count": 20,
   "metadata": {},
   "outputs": [],
   "source": [
    "nuova2 = list(iteratore)"
   ]
  },
  {
   "cell_type": "code",
   "execution_count": 21,
   "metadata": {},
   "outputs": [
    {
     "data": {
      "text/plain": [
       "[]"
      ]
     },
     "execution_count": 21,
     "metadata": {},
     "output_type": "execute_result"
    }
   ],
   "source": [
    "nuova2"
   ]
  },
  {
   "cell_type": "markdown",
   "metadata": {},
   "source": [
    "E se volessimo accedere direttamente ad una posizione specifica della sequenza generata dall'iteratore? Proviamo ad estrarre direttamente la lettera ad indice 2 qui:"
   ]
  },
  {
   "cell_type": "code",
   "execution_count": 22,
   "metadata": {},
   "outputs": [],
   "source": [
    "sequenza = range(4)\n",
    "iteratore = iter(sequenza)"
   ]
  },
  {
   "cell_type": "markdown",
   "metadata": {},
   "source": [
    "```python\n",
    "iteratore[2]\n",
    "---------------------------------------------------------------------------\n",
    "TypeError                                 Traceback (most recent call last)\n",
    "<ipython-input-129-3c080cc9e700> in <module>()\n",
    "      1 sequenza = range(4)\n",
    "      2 iteratore = iter(sequenza)\n",
    "----> 3 iteratore[3]\n",
    "\n",
    "TypeError: 'range_iterator' object is not subscriptable\n",
    "\n",
    "```"
   ]
  },
  {
   "cell_type": "markdown",
   "metadata": {},
   "source": [
    "... purtroppo ci becchiamo un errore. \n",
    "\n",
    "Non ci restano che due alternative:\n",
    "    \n",
    "a) prima convertiamo a lista e poi usiamo le quadre\n",
    "\n",
    "b) chiamiamo 4 volte `next` (ricordati che gli indici partono da zero)"
   ]
  },
  {
   "cell_type": "markdown",
   "metadata": {},
   "source": [
    "L'opzione a) spesso sembra comoda, ma fai attenzione: **convertire a lista un'iteratore crea una NUOVA lista in memoria**, se la lista di partenza è molto grande e/o si fa questa operazione molte volte si rischia di occupare memoria per niente.\n",
    "\n",
    "Rivediamo l'esempio in Python Tutor:"
   ]
  },
  {
   "cell_type": "code",
   "execution_count": 23,
   "metadata": {},
   "outputs": [],
   "source": [
    "# AFFINCHE' PYTHON TUTOR FUNZIONI, RICORDATI DI ESEGUIRE QUESTA CELLA con Shift+Invio\n",
    "#   (basta eseguirla una volta sola, la trovi anche all'inizio di ogni foglio)\n",
    "\n",
    "import jupman"
   ]
  },
  {
   "cell_type": "code",
   "execution_count": 24,
   "metadata": {
    "scrolled": true
   },
   "outputs": [
    {
     "data": {
      "text/html": [
       "\n",
       "        <script src=\"../_static/js/pytutor-embed.bundle.min.js\" type=\"application/javascript\"></script>\n",
       "     \n",
       "        <script id=\"json-jm6eb044ad-c18f-4e6f-ad5d-421792aaa6e0\" type=\"application/json\" >\n",
       "            {\"code\": \" \\nsequenza = range(4)\\niteratore = iter(sequenza)\\nnuova1 = list(iteratore)\\nnuova2 = list(iteratore)\", \"trace\": [{\"line\": 2, \"event\": \"step_line\", \"func_name\": \"<module>\", \"globals\": {}, \"ordered_globals\": [], \"stack_to_render\": [], \"heap\": {}, \"stdout\": \"\"}, {\"line\": 3, \"event\": \"step_line\", \"func_name\": \"<module>\", \"globals\": {\"sequenza\": [\"REF\", 1]}, \"ordered_globals\": [\"sequenza\"], \"stack_to_render\": [], \"heap\": {\"1\": [\"INSTANCE_PPRINT\", \"range\", \"range(0, 4)\"]}, \"stdout\": \"\"}, {\"line\": 4, \"event\": \"step_line\", \"func_name\": \"<module>\", \"globals\": {\"sequenza\": [\"REF\", 1], \"iteratore\": [\"REF\", 2]}, \"ordered_globals\": [\"sequenza\", \"iteratore\"], \"stack_to_render\": [], \"heap\": {\"1\": [\"INSTANCE_PPRINT\", \"range\", \"range(0, 4)\"], \"2\": [\"INSTANCE\", \"range_iterator\"]}, \"stdout\": \"\"}, {\"line\": 5, \"event\": \"step_line\", \"func_name\": \"<module>\", \"globals\": {\"sequenza\": [\"REF\", 1], \"iteratore\": [\"REF\", 2], \"nuova1\": [\"REF\", 3]}, \"ordered_globals\": [\"sequenza\", \"iteratore\", \"nuova1\"], \"stack_to_render\": [], \"heap\": {\"1\": [\"INSTANCE_PPRINT\", \"range\", \"range(0, 4)\"], \"2\": [\"INSTANCE\", \"range_iterator\"], \"3\": [\"LIST\", 0, 1, 2, 3]}, \"stdout\": \"\"}, {\"line\": 5, \"event\": \"return\", \"func_name\": \"<module>\", \"globals\": {\"sequenza\": [\"REF\", 1], \"iteratore\": [\"REF\", 2], \"nuova1\": [\"REF\", 3], \"nuova2\": [\"REF\", 4]}, \"ordered_globals\": [\"sequenza\", \"iteratore\", \"nuova1\", \"nuova2\"], \"stack_to_render\": [], \"heap\": {\"1\": [\"INSTANCE_PPRINT\", \"range\", \"range(0, 4)\"], \"2\": [\"INSTANCE\", \"range_iterator\"], \"3\": [\"LIST\", 0, 1, 2, 3], \"4\": [\"LIST\"]}, \"stdout\": \"\"}]}\n",
       "        </script>\n",
       "        <div id=\"jm6eb044ad-c18f-4e6f-ad5d-421792aaa6e0\" class=\"pytutorVisualizer\"> </div>\n",
       " \n",
       "        <style>\n",
       "        .vizLayoutTd {\n",
       "            background-color: #fff !important;\n",
       "        }\n",
       "\n",
       "        #pyStdout {            \n",
       "            min-height:25px;\n",
       "        }\n",
       "\n",
       "        /* 'Edit this code' link, hiding because replaces browser tab !!!*/\n",
       "        #editCodeLinkDiv {\n",
       "            display:none;  \n",
       "        }\n",
       "        </style>   \n",
       "                            \n",
       "        <script>\n",
       "        (function(){\n",
       "\n",
       "            var trace = JSON.parse(document.getElementById('json-jm6eb044ad-c18f-4e6f-ad5d-421792aaa6e0').innerHTML);                                        \n",
       "            // NOTE 1: id without #\n",
       "            // NOTE 2 - maybe there are more predictable ways, but this will work anyway\n",
       "            //        - id should be number\n",
       "            visualizerIdOverride = Math.trunc(Math.random() * 100000000000)\n",
       "            addVisualizerToPage(trace, 'jm6eb044ad-c18f-4e6f-ad5d-421792aaa6e0',{'embeddedMode' : false,\n",
       "                                             'visualizerIdOverride':visualizerIdOverride})  \n",
       "            \n",
       "            \n",
       "            // set overflow for pytuts - need to do in python as css \n",
       "            // does not allow parent selection\n",
       "            var pytuts = $('.pytutorVisualizer')\n",
       "            pytuts.closest('div.output_html.rendered_html.output_result')\n",
       "                    .css('overflow-x', 'visible')\n",
       "        \n",
       "            //pytuts.closest('div.output_html.rendered_html.output_result')\n",
       "            //      .css('background-color','red')                \n",
       "            \n",
       "        })()\n",
       "        </script>\n",
       "                \n",
       "                "
      ],
      "text/plain": [
       "<IPython.core.display.HTML object>"
      ]
     },
     "execution_count": 24,
     "metadata": {},
     "output_type": "execute_result"
    }
   ],
   "source": [
    "sequenza = range(4)\n",
    "iteratore = iter(sequenza)\n",
    "nuova1 = list(iteratore)\n",
    "nuova2 = list(iteratore)\n",
    "\n",
    "jupman.pytut()"
   ]
  },
  {
   "cell_type": "markdown",
   "metadata": {},
   "source": [
    "**DOMANDA**:  Occupa più memoria l'oggetto `a` o l'oggetto `b` ?\n",
    "\n",
    "\n",
    "```python\n",
    "a = range(10)\n",
    "b = range(10000000)\n",
    "```"
   ]
  },
  {
   "cell_type": "raw",
   "id": "bdcf1706",
   "metadata": {
    "format": "text/html"
   },
   "source": [
    "<a  class=\"jupman-sol jupman-sol-toggler\" \n",
    " onclick=\"jupman.toggleSolution(this);\" \n",
    " data-jupman-show=\"Mostra risposta\" data-jupman-hide=\"Nascondi\">Mostra risposta</a><div class=\"jupman-sol jupman-sol-question\" style=\"display:none\">  "
   ]
  },
  {
   "cell_type": "markdown",
   "metadata": {},
   "source": [
    "**RISPOSTA**: entrambi occupano la stessa quantità di memoria"
   ]
  },
  {
   "cell_type": "raw",
   "id": "eeb86a55",
   "metadata": {
    "format": "text/html"
   },
   "source": [
    "</div>"
   ]
  },
  {
   "cell_type": "markdown",
   "metadata": {},
   "source": [
    "**DOMANDA**:  Occupa più memoria l'oggetto `a` o l'oggetto `b` ?\n",
    "\n",
    "\n",
    "```python\n",
    "a = list(range(10))\n",
    "b = list(range(10000000))\n",
    "```"
   ]
  },
  {
   "cell_type": "raw",
   "id": "72239b9f",
   "metadata": {
    "format": "text/html"
   },
   "source": [
    "<a  class=\"jupman-sol jupman-sol-toggler\" \n",
    " onclick=\"jupman.toggleSolution(this);\" \n",
    " data-jupman-show=\"Mostra risposta\" data-jupman-hide=\"Nascondi\">Mostra risposta</a><div class=\"jupman-sol jupman-sol-question\" style=\"display:none\">  "
   ]
  },
  {
   "cell_type": "markdown",
   "metadata": {},
   "source": [
    "**RISPOSTA**: occupa di più `b` (la lista viene materializzata)"
   ]
  },
  {
   "cell_type": "raw",
   "id": "cbaacdb2",
   "metadata": {
    "format": "text/html"
   },
   "source": [
    "</div>"
   ]
  },
  {
   "cell_type": "markdown",
   "metadata": {},
   "source": [
    "### Domande `range`\n",
    "\n",
    "Guarda i seguenti frammenti di codice, e per ciascuno cerca di indovinare quale risultato produce (o se da errore):\n",
    "\n",
    "1.  ```python\n",
    "    range(3) \n",
    "    ```\n",
    "1.  ```python\n",
    "    range()\n",
    "    ```\n",
    "1.  ```python\n",
    "    list(range(-3))\n",
    "    ```\n",
    "1.  ```python\n",
    "    range(3,6)\n",
    "    ```\n",
    "1.  ```python\n",
    "    list(range(5,4))\n",
    "    ```    \n",
    "1.  ```python\n",
    "    list(range(3,3))\n",
    "    ```    \n",
    "1.  ```python\n",
    "    range(3) + range(6)\n",
    "    ```\n",
    "1.  ```python\n",
    "    list(range(3)) + list(range(6))\n",
    "    ```    \n",
    "1.  ```python\n",
    "    list(range(0,6,2))\n",
    "    ```\n",
    "1.  ```python\n",
    "    list(range(9,6,-1))\n",
    "    ```"
   ]
  },
  {
   "cell_type": "markdown",
   "metadata": {},
   "source": [
    "## reversed\n",
    "\n",
    "`reversed` è una _funzione_ che prende come parametro una sequenza e PRODUCE un NUOVO _iteratore_ che consente di scorrere la sequenza in ordine inverso. \n",
    "\n",
    "<div class=\"alert alert-warning\">\n",
    "\n",
    "**ATTENZIONE**: chiamando `reversed` si ottiene direttamente un _iteratore_ !\n",
    "\n",
    "Quindi _non_ serve fare ulteriori chiamate a `iter` come fatto per `range`!\n",
    "\n",
    "</div>\n",
    "\n",
    "Vediamo meglio cosa vuol dire con un esempio:"
   ]
  },
  {
   "cell_type": "code",
   "execution_count": 25,
   "metadata": {},
   "outputs": [],
   "source": [
    "la = ['p','r','o','v','a']"
   ]
  },
  {
   "cell_type": "code",
   "execution_count": 26,
   "metadata": {},
   "outputs": [
    {
     "data": {
      "text/plain": [
       "<list_reverseiterator at 0x7f42740ed410>"
      ]
     },
     "execution_count": 26,
     "metadata": {},
     "output_type": "execute_result"
    }
   ],
   "source": [
    "reversed(la)"
   ]
  },
  {
   "cell_type": "markdown",
   "metadata": {},
   "source": [
    "Vediamo che `reversed` ha prodotto un risultato che è un _iteratore_ (non una lista rovesciata).\n",
    "\n",
    "<div class=\"alert alert-info\">\n",
    "\n",
    "**INFO: gli iteratori occupano poca memoria**\n",
    "\n",
    "Creare un iteratore da una sequenza crea solo una specie di puntatore, _non_ crea nuove regioni di memoria.\n",
    "\n",
    "</div>"
   ]
  },
  {
   "cell_type": "markdown",
   "metadata": {},
   "source": [
    "Inoltre, vediamo che la lista originale associata a `la` _non_ è cambiata:  "
   ]
  },
  {
   "cell_type": "code",
   "execution_count": 27,
   "metadata": {},
   "outputs": [
    {
     "name": "stdout",
     "output_type": "stream",
     "text": [
      "['p', 'r', 'o', 'v', 'a']\n"
     ]
    }
   ],
   "source": [
    "print(la)"
   ]
  },
  {
   "cell_type": "markdown",
   "metadata": {},
   "source": [
    "<div class=\"alert alert-warning\">\n",
    "\n",
    "**ATTENZIONE**: la funzione `reversed` è diversa dal [metodo reverse](https://it.softpython.org/lists/lists3-sol.html#Metodo-reverse) \n",
    "\n",
    "Nota la **d** finale! Se provassiamo a chiamarla come un metodo otterremmo un errore:\n",
    "\n",
    "</div> "
   ]
  },
  {
   "cell_type": "markdown",
   "metadata": {},
   "source": [
    "```python\n",
    ">>> la.reversed()\n",
    "\n",
    "---------------------------------------------------------------------------\n",
    "AttributeError                            Traceback (most recent call last)\n",
    "<ipython-input-182-c8d1eec57fdd> in <module>\n",
    "----> 1 la.reversed()\n",
    "\n",
    "AttributeError: 'list' object has no attribute 'reversed'\n",
    "\n",
    "```"
   ]
  },
  {
   "cell_type": "markdown",
   "metadata": {},
   "source": [
    "### iterare con `next`\n",
    "\n",
    "Come facciamo ad ottenere in memoria una lista rovesciata? In altre parole, come facciamo ad azionare la macchinetta iteratore? \n",
    "\n",
    "Possiamo chiedere all'iteratore un elemento alla volta con la funzione `next`:"
   ]
  },
  {
   "cell_type": "code",
   "execution_count": 28,
   "metadata": {},
   "outputs": [],
   "source": [
    "la = ['a','b','c']"
   ]
  },
  {
   "cell_type": "code",
   "execution_count": 29,
   "metadata": {},
   "outputs": [],
   "source": [
    "iteratore = reversed(la)"
   ]
  },
  {
   "cell_type": "code",
   "execution_count": 30,
   "metadata": {},
   "outputs": [
    {
     "data": {
      "text/plain": [
       "'c'"
      ]
     },
     "execution_count": 30,
     "metadata": {},
     "output_type": "execute_result"
    }
   ],
   "source": [
    "next(iteratore)"
   ]
  },
  {
   "cell_type": "code",
   "execution_count": 31,
   "metadata": {},
   "outputs": [
    {
     "data": {
      "text/plain": [
       "'b'"
      ]
     },
     "execution_count": 31,
     "metadata": {},
     "output_type": "execute_result"
    }
   ],
   "source": [
    "next(iteratore)"
   ]
  },
  {
   "cell_type": "code",
   "execution_count": 32,
   "metadata": {},
   "outputs": [
    {
     "data": {
      "text/plain": [
       "'a'"
      ]
     },
     "execution_count": 32,
     "metadata": {},
     "output_type": "execute_result"
    }
   ],
   "source": [
    "next(iteratore)"
   ]
  },
  {
   "cell_type": "markdown",
   "metadata": {},
   "source": [
    "Una volta esaurito l'iteratore, chiamando ancora `next` otterremo un errore:"
   ]
  },
  {
   "cell_type": "markdown",
   "metadata": {},
   "source": [
    "```python\n",
    "next(iteratore)\n",
    "\n",
    "---------------------------------------------------------------------------\n",
    "StopIteration                             Traceback (most recent call last)\n",
    "<ipython-input-248-4518bd5da67f> in <module>\n",
    "----> 1 next(iteratore)\n",
    "\n",
    "StopIteration: \n",
    "\n",
    "```"
   ]
  },
  {
   "cell_type": "markdown",
   "metadata": {},
   "source": [
    "Proviamo a crearci manualmente una lista di destinazione `lb` e aggiungere gli elementi che otteniamo mano a mano:"
   ]
  },
  {
   "cell_type": "code",
   "execution_count": 33,
   "metadata": {},
   "outputs": [
    {
     "name": "stdout",
     "output_type": "stream",
     "text": [
      "['c', 'b', 'a']\n"
     ]
    },
    {
     "data": {
      "text/html": [
       "\n",
       "        <script src=\"../_static/js/pytutor-embed.bundle.min.js\" type=\"application/javascript\"></script>\n",
       "     \n",
       "        <script id=\"json-jm1ad79521-4af2-4e19-886b-1f9ff84fb9c1\" type=\"application/json\" >\n",
       "            {\"code\": \" \\nla = ['a','b','c']\\niteratore = reversed(la)\\nlb = []\\nlb.append(next(iteratore))\\nlb.append(next(iteratore))\\nlb.append(next(iteratore))\\nprint(lb)\", \"trace\": [{\"line\": 2, \"event\": \"step_line\", \"func_name\": \"<module>\", \"globals\": {}, \"ordered_globals\": [], \"stack_to_render\": [], \"heap\": {}, \"stdout\": \"\"}, {\"line\": 3, \"event\": \"step_line\", \"func_name\": \"<module>\", \"globals\": {\"la\": [\"REF\", 1]}, \"ordered_globals\": [\"la\"], \"stack_to_render\": [], \"heap\": {\"1\": [\"LIST\", \"a\", \"b\", \"c\"]}, \"stdout\": \"\"}, {\"line\": 4, \"event\": \"step_line\", \"func_name\": \"<module>\", \"globals\": {\"la\": [\"REF\", 1], \"iteratore\": [\"REF\", 2]}, \"ordered_globals\": [\"la\", \"iteratore\"], \"stack_to_render\": [], \"heap\": {\"1\": [\"LIST\", \"a\", \"b\", \"c\"], \"2\": [\"INSTANCE\", \"list_reverseiterator\"]}, \"stdout\": \"\"}, {\"line\": 5, \"event\": \"step_line\", \"func_name\": \"<module>\", \"globals\": {\"la\": [\"REF\", 1], \"iteratore\": [\"REF\", 2], \"lb\": [\"REF\", 3]}, \"ordered_globals\": [\"la\", \"iteratore\", \"lb\"], \"stack_to_render\": [], \"heap\": {\"1\": [\"LIST\", \"a\", \"b\", \"c\"], \"2\": [\"INSTANCE\", \"list_reverseiterator\"], \"3\": [\"LIST\"]}, \"stdout\": \"\"}, {\"line\": 6, \"event\": \"step_line\", \"func_name\": \"<module>\", \"globals\": {\"la\": [\"REF\", 1], \"iteratore\": [\"REF\", 2], \"lb\": [\"REF\", 3]}, \"ordered_globals\": [\"la\", \"iteratore\", \"lb\"], \"stack_to_render\": [], \"heap\": {\"1\": [\"LIST\", \"a\", \"b\", \"c\"], \"2\": [\"INSTANCE\", \"list_reverseiterator\"], \"3\": [\"LIST\", \"c\"]}, \"stdout\": \"\"}, {\"line\": 7, \"event\": \"step_line\", \"func_name\": \"<module>\", \"globals\": {\"la\": [\"REF\", 1], \"iteratore\": [\"REF\", 2], \"lb\": [\"REF\", 3]}, \"ordered_globals\": [\"la\", \"iteratore\", \"lb\"], \"stack_to_render\": [], \"heap\": {\"1\": [\"LIST\", \"a\", \"b\", \"c\"], \"2\": [\"INSTANCE\", \"list_reverseiterator\"], \"3\": [\"LIST\", \"c\", \"b\"]}, \"stdout\": \"\"}, {\"line\": 8, \"event\": \"step_line\", \"func_name\": \"<module>\", \"globals\": {\"la\": [\"REF\", 1], \"iteratore\": [\"REF\", 2], \"lb\": [\"REF\", 3]}, \"ordered_globals\": [\"la\", \"iteratore\", \"lb\"], \"stack_to_render\": [], \"heap\": {\"1\": [\"LIST\", \"a\", \"b\", \"c\"], \"2\": [\"INSTANCE\", \"list_reverseiterator\"], \"3\": [\"LIST\", \"c\", \"b\", \"a\"]}, \"stdout\": \"\"}, {\"line\": 8, \"event\": \"return\", \"func_name\": \"<module>\", \"globals\": {\"la\": [\"REF\", 1], \"iteratore\": [\"REF\", 2], \"lb\": [\"REF\", 3]}, \"ordered_globals\": [\"la\", \"iteratore\", \"lb\"], \"stack_to_render\": [], \"heap\": {\"1\": [\"LIST\", \"a\", \"b\", \"c\"], \"2\": [\"INSTANCE\", \"list_reverseiterator\"], \"3\": [\"LIST\", \"c\", \"b\", \"a\"]}, \"stdout\": \"['c', 'b', 'a']\\n\"}]}\n",
       "        </script>\n",
       "        <div id=\"jm1ad79521-4af2-4e19-886b-1f9ff84fb9c1\" class=\"pytutorVisualizer\"> </div>\n",
       " \n",
       "        <style>\n",
       "        .vizLayoutTd {\n",
       "            background-color: #fff !important;\n",
       "        }\n",
       "\n",
       "        #pyStdout {            \n",
       "            min-height:25px;\n",
       "        }\n",
       "\n",
       "        /* 'Edit this code' link, hiding because replaces browser tab !!!*/\n",
       "        #editCodeLinkDiv {\n",
       "            display:none;  \n",
       "        }\n",
       "        </style>   \n",
       "                            \n",
       "        <script>\n",
       "        (function(){\n",
       "\n",
       "            var trace = JSON.parse(document.getElementById('json-jm1ad79521-4af2-4e19-886b-1f9ff84fb9c1').innerHTML);                                        \n",
       "            // NOTE 1: id without #\n",
       "            // NOTE 2 - maybe there are more predictable ways, but this will work anyway\n",
       "            //        - id should be number\n",
       "            visualizerIdOverride = Math.trunc(Math.random() * 100000000000)\n",
       "            addVisualizerToPage(trace, 'jm1ad79521-4af2-4e19-886b-1f9ff84fb9c1',{'embeddedMode' : false,\n",
       "                                             'visualizerIdOverride':visualizerIdOverride})  \n",
       "            \n",
       "            \n",
       "            // set overflow for pytuts - need to do in python as css \n",
       "            // does not allow parent selection\n",
       "            var pytuts = $('.pytutorVisualizer')\n",
       "            pytuts.closest('div.output_html.rendered_html.output_result')\n",
       "                    .css('overflow-x', 'visible')\n",
       "        \n",
       "            //pytuts.closest('div.output_html.rendered_html.output_result')\n",
       "            //      .css('background-color','red')                \n",
       "            \n",
       "        })()\n",
       "        </script>\n",
       "                \n",
       "                "
      ],
      "text/plain": [
       "<IPython.core.display.HTML object>"
      ]
     },
     "execution_count": 33,
     "metadata": {},
     "output_type": "execute_result"
    }
   ],
   "source": [
    "la = ['a','b','c']\n",
    "iteratore = reversed(la)\n",
    "lb = []\n",
    "lb.append(next(iteratore))\n",
    "lb.append(next(iteratore))\n",
    "lb.append(next(iteratore))\n",
    "print(lb)\n",
    "\n",
    "jupman.pytut()"
   ]
  },
  {
   "cell_type": "markdown",
   "metadata": {},
   "source": [
    "### Esercizio - sconcerto\n",
    "\n",
    "Scrivi del codice che data una lista di caratteri `la`, mette in una lista `lb` tutti i caratteri in posizione dispari presi della lista `la` rovesciata\n",
    "\n",
    "* usa `reversed` e `next`\n",
    "* **NON** modificare `la`\n",
    "* **NON** usare indici negativi\n",
    "* **NON** usare `list`\n",
    "\n",
    "Esempio - data\n",
    "\n",
    "```python\n",
    "#      8    7    6    5    4    3    2    1    0                        \n",
    "la = ['s', 'c', 'o', 'n', 'c', 'e', 'r', 't', 'o']\n",
    "lb = []\n",
    "```\n",
    "Dopo il tuo codice deve mostrare\n",
    "\n",
    "```python\n",
    ">>> print(lb)\n",
    "['t', 'e', 'n', 'c']\n",
    ">>> print(la)\n",
    "['s', 'c', 'o', 'n', 'c', 'e', 'r', 't', 'o']\n",
    "```\n",
    "\n",
    "Ti invitiamo a risolvere il problema in diversi modi:\n",
    "\n",
    "**MODO 1 - senza ciclo**: Supponi che la lunghezza della lista **sia fissa**, e chiama ripetutamente `next` _senza usare un ciclo_\n",
    "\n",
    "\n",
    "**MODO 2 - while**: Supponi di avere una lista di lunghezza arbitraria, e prova a generalizzare il precedente codice _usando un ciclo_ `while` al cui interno chiamerai `next`\n",
    "    \n",
    "* **SUGGERIMENTO 1**: tieni traccia della posizione a cui sei con un contatore `i`\n",
    "* **SUGGERIMENTO 2**: non si può chiamare `len` su un iteratore, quindi nella condizione del while dovrai usare la lunghezza della lista originale\n",
    "\n",
    "**MODO 3 - for**: questo è il modo più elegante. Supponi di avere una lista di lunghezza arbitraria e _usa un ciclo_ `for x in reversed(la)`\n",
    "\n",
    "* **SUGGERIMENTO**: dovrai comunque tener traccia della posizione a cui sei con un contatore `i`"
   ]
  },
  {
   "cell_type": "raw",
   "id": "9152cf76",
   "metadata": {
    "format": "text/html"
   },
   "source": [
    "<a  class=\"jupman-sol jupman-sol-toggler\" \n",
    " onclick=\"jupman.toggleSolution(this);\" \n",
    " data-jupman-show=\"Mostra soluzione\" data-jupman-hide=\"Nascondi\">Mostra soluzione</a><div class=\"jupman-sol jupman-sol-code\" style=\"display:none\">  "
   ]
  },
  {
   "cell_type": "code",
   "execution_count": 34,
   "metadata": {},
   "outputs": [
    {
     "name": "stdout",
     "output_type": "stream",
     "text": [
      "['t', 'e', 'n', 'c']\n"
     ]
    }
   ],
   "source": [
    "# MODO 1 MANUALE\n",
    "\n",
    "#      8    7    6    5    4    3    2    1    0                        \n",
    "la = ['s', 'c', 'o', 'n', 'c', 'e', 'r', 't', 'o']\n",
    "lb = []\n",
    "\n",
    "# scrivi qui\n",
    "\n",
    "iteratore = reversed(la)\n",
    "\n",
    "next(iteratore)\n",
    "lb.append(next(iteratore))\n",
    "next(iteratore)\n",
    "lb.append(next(iteratore))\n",
    "next(iteratore)\n",
    "lb.append(next(iteratore))\n",
    "next(iteratore)\n",
    "lb.append(next(iteratore))\n",
    "print(lb)\n",
    "\n",
    "#jupman.pytut()"
   ]
  },
  {
   "cell_type": "raw",
   "id": "4d246d58",
   "metadata": {
    "format": "text/html"
   },
   "source": [
    "</div>"
   ]
  },
  {
   "cell_type": "code",
   "execution_count": 34,
   "metadata": {},
   "outputs": [
    {
     "name": "stdout",
     "output_type": "stream",
     "text": [
      "['t', 'e', 'n', 'c']\n"
     ]
    }
   ],
   "source": [
    "# MODO 1 MANUALE\n",
    "\n",
    "#      8    7    6    5    4    3    2    1    0                        \n",
    "la = ['s', 'c', 'o', 'n', 'c', 'e', 'r', 't', 'o']\n",
    "lb = []\n",
    "\n",
    "# scrivi qui\n",
    "\n"
   ]
  },
  {
   "cell_type": "raw",
   "id": "102c85ad",
   "metadata": {
    "format": "text/html"
   },
   "source": [
    "<a  class=\"jupman-sol jupman-sol-toggler\" \n",
    " onclick=\"jupman.toggleSolution(this);\" \n",
    " data-jupman-show=\"Mostra soluzione\" data-jupman-hide=\"Nascondi\">Mostra soluzione</a><div class=\"jupman-sol jupman-sol-code\" style=\"display:none\">  "
   ]
  },
  {
   "cell_type": "code",
   "execution_count": 35,
   "metadata": {},
   "outputs": [
    {
     "name": "stdout",
     "output_type": "stream",
     "text": [
      "['t', 'e', 'n', 'c']\n"
     ]
    }
   ],
   "source": [
    "# MODO 2 CON IL WHILE\n",
    "\n",
    "#      8    7    6    5    4    3    2    1    0                        \n",
    "la = ['s', 'c', 'o', 'n', 'c', 'e', 'r', 't', 'o']\n",
    "lb = []\n",
    "\n",
    "# scrivi qui\n",
    "\n",
    "iteratore = reversed(la)\n",
    "\n",
    "i = 1\n",
    "while i < len(la):\n",
    "    if i % 2 == 1:\n",
    "        next(iteratore)\n",
    "        lb.append(next(iteratore))\n",
    "    i += 2\n",
    "    \n",
    "print(lb)\n"
   ]
  },
  {
   "cell_type": "raw",
   "id": "f3254b3f",
   "metadata": {
    "format": "text/html"
   },
   "source": [
    "</div>"
   ]
  },
  {
   "cell_type": "code",
   "execution_count": 35,
   "metadata": {},
   "outputs": [
    {
     "name": "stdout",
     "output_type": "stream",
     "text": [
      "['t', 'e', 'n', 'c']\n"
     ]
    }
   ],
   "source": [
    "# MODO 2 CON IL WHILE\n",
    "\n",
    "#      8    7    6    5    4    3    2    1    0                        \n",
    "la = ['s', 'c', 'o', 'n', 'c', 'e', 'r', 't', 'o']\n",
    "lb = []\n",
    "\n",
    "# scrivi qui\n",
    "\n"
   ]
  },
  {
   "cell_type": "raw",
   "id": "5267e6d1",
   "metadata": {
    "format": "text/html"
   },
   "source": [
    "<a  class=\"jupman-sol jupman-sol-toggler\" \n",
    " onclick=\"jupman.toggleSolution(this);\" \n",
    " data-jupman-show=\"Mostra soluzione\" data-jupman-hide=\"Nascondi\">Mostra soluzione</a><div class=\"jupman-sol jupman-sol-code\" style=\"display:none\">  "
   ]
  },
  {
   "cell_type": "code",
   "execution_count": 36,
   "metadata": {},
   "outputs": [
    {
     "name": "stdout",
     "output_type": "stream",
     "text": [
      "['t', 'e', 'n', 'c']\n"
     ]
    }
   ],
   "source": [
    "# MODO 3: for\n",
    "\n",
    "#      8    7    6    5    4    3    2    1    0                        \n",
    "la = ['s', 'c', 'o', 'n', 'c', 'e', 'r', 't', 'o']\n",
    "lb = []\n",
    "\n",
    "# scrivi qui\n",
    "i = 0\n",
    "\n",
    "for x in reversed(la):\n",
    "    if i % 2 == 1:\n",
    "        lb.append(x)\n",
    "    i += 1\n",
    "print(lb)"
   ]
  },
  {
   "cell_type": "raw",
   "id": "aaa441da",
   "metadata": {
    "format": "text/html"
   },
   "source": [
    "</div>"
   ]
  },
  {
   "cell_type": "code",
   "execution_count": 36,
   "metadata": {},
   "outputs": [
    {
     "name": "stdout",
     "output_type": "stream",
     "text": [
      "['t', 'e', 'n', 'c']\n"
     ]
    }
   ],
   "source": [
    "# MODO 3: for\n",
    "\n",
    "#      8    7    6    5    4    3    2    1    0                        \n",
    "la = ['s', 'c', 'o', 'n', 'c', 'e', 'r', 't', 'o']\n",
    "lb = []\n",
    "\n",
    "# scrivi qui\n",
    "\n"
   ]
  },
  {
   "cell_type": "markdown",
   "metadata": {},
   "source": [
    "### Materializzare un iteratore"
   ]
  },
  {
   "cell_type": "markdown",
   "metadata": {},
   "source": [
    "Per fortuna per ottenere subito una lista dall'iteratore c'è un modo meno laborioso.\n",
    "\n",
    "Abbiamo visto che quando vogliamo creare una nuova lista a partire da una sequenza, possiamo usare `list` come se fosse una funzione. Possiamo farlo anche in questo caso, interpretando l'iteratore come se fosse una sequenza:"
   ]
  },
  {
   "cell_type": "code",
   "execution_count": 37,
   "metadata": {},
   "outputs": [
    {
     "data": {
      "text/plain": [
       "['a', 'v', 'o', 'r', 'p']"
      ]
     },
     "execution_count": 37,
     "metadata": {},
     "output_type": "execute_result"
    }
   ],
   "source": [
    "la = ['p', 'r', 'o', 'v', 'a']\n",
    "list( reversed(la) )"
   ]
  },
  {
   "cell_type": "markdown",
   "metadata": {},
   "source": [
    "Nota bene abbiamo generato una NUOVA lista, quella originale associata ad `la` è sempre la stessa:"
   ]
  },
  {
   "cell_type": "code",
   "execution_count": 38,
   "metadata": {},
   "outputs": [
    {
     "data": {
      "text/plain": [
       "['p', 'r', 'o', 'v', 'a']"
      ]
     },
     "execution_count": 38,
     "metadata": {},
     "output_type": "execute_result"
    }
   ],
   "source": [
    "la"
   ]
  },
  {
   "cell_type": "markdown",
   "metadata": {},
   "source": [
    "Vediamo meglio cosa è successo usando Python Tutor (per evidenziare i passaggi abbiamo creato delle variabili extra):"
   ]
  },
  {
   "cell_type": "code",
   "execution_count": 39,
   "metadata": {},
   "outputs": [
    {
     "name": "stdout",
     "output_type": "stream",
     "text": [
      "la è ['p', 'r', 'o', 'v', 'a']\n",
      "nuova è ['a', 'v', 'o', 'r', 'p']\n"
     ]
    },
    {
     "data": {
      "text/html": [
       "\n",
       "        <script src=\"../_static/js/pytutor-embed.bundle.min.js\" type=\"application/javascript\"></script>\n",
       "     \n",
       "        <script id=\"json-jm9b1205fe-5fee-4281-80f1-05aa1af48d28\" type=\"application/json\" >\n",
       "            {\"code\": \" \\nla = ['p','r','o','v','a']\\niteratore = reversed(la)\\nnuova = list(iteratore)\\nprint(\\\"la \\u00e8\\\",la)\\nprint(\\\"nuova \\u00e8\\\",nuova)\", \"trace\": [{\"line\": 2, \"event\": \"step_line\", \"func_name\": \"<module>\", \"globals\": {}, \"ordered_globals\": [], \"stack_to_render\": [], \"heap\": {}, \"stdout\": \"\"}, {\"line\": 3, \"event\": \"step_line\", \"func_name\": \"<module>\", \"globals\": {\"la\": [\"REF\", 1]}, \"ordered_globals\": [\"la\"], \"stack_to_render\": [], \"heap\": {\"1\": [\"LIST\", \"p\", \"r\", \"o\", \"v\", \"a\"]}, \"stdout\": \"\"}, {\"line\": 4, \"event\": \"step_line\", \"func_name\": \"<module>\", \"globals\": {\"la\": [\"REF\", 1], \"iteratore\": [\"REF\", 2]}, \"ordered_globals\": [\"la\", \"iteratore\"], \"stack_to_render\": [], \"heap\": {\"1\": [\"LIST\", \"p\", \"r\", \"o\", \"v\", \"a\"], \"2\": [\"INSTANCE\", \"list_reverseiterator\"]}, \"stdout\": \"\"}, {\"line\": 5, \"event\": \"step_line\", \"func_name\": \"<module>\", \"globals\": {\"la\": [\"REF\", 1], \"iteratore\": [\"REF\", 2], \"nuova\": [\"REF\", 3]}, \"ordered_globals\": [\"la\", \"iteratore\", \"nuova\"], \"stack_to_render\": [], \"heap\": {\"1\": [\"LIST\", \"p\", \"r\", \"o\", \"v\", \"a\"], \"2\": [\"INSTANCE\", \"list_reverseiterator\"], \"3\": [\"LIST\", \"a\", \"v\", \"o\", \"r\", \"p\"]}, \"stdout\": \"\"}, {\"line\": 6, \"event\": \"step_line\", \"func_name\": \"<module>\", \"globals\": {\"la\": [\"REF\", 1], \"iteratore\": [\"REF\", 2], \"nuova\": [\"REF\", 3]}, \"ordered_globals\": [\"la\", \"iteratore\", \"nuova\"], \"stack_to_render\": [], \"heap\": {\"1\": [\"LIST\", \"p\", \"r\", \"o\", \"v\", \"a\"], \"2\": [\"INSTANCE\", \"list_reverseiterator\"], \"3\": [\"LIST\", \"a\", \"v\", \"o\", \"r\", \"p\"]}, \"stdout\": \"la \\u00e8 ['p', 'r', 'o', 'v', 'a']\\n\"}, {\"line\": 6, \"event\": \"return\", \"func_name\": \"<module>\", \"globals\": {\"la\": [\"REF\", 1], \"iteratore\": [\"REF\", 2], \"nuova\": [\"REF\", 3]}, \"ordered_globals\": [\"la\", \"iteratore\", \"nuova\"], \"stack_to_render\": [], \"heap\": {\"1\": [\"LIST\", \"p\", \"r\", \"o\", \"v\", \"a\"], \"2\": [\"INSTANCE\", \"list_reverseiterator\"], \"3\": [\"LIST\", \"a\", \"v\", \"o\", \"r\", \"p\"]}, \"stdout\": \"la \\u00e8 ['p', 'r', 'o', 'v', 'a']\\nnuova \\u00e8 ['a', 'v', 'o', 'r', 'p']\\n\"}]}\n",
       "        </script>\n",
       "        <div id=\"jm9b1205fe-5fee-4281-80f1-05aa1af48d28\" class=\"pytutorVisualizer\"> </div>\n",
       " \n",
       "        <style>\n",
       "        .vizLayoutTd {\n",
       "            background-color: #fff !important;\n",
       "        }\n",
       "\n",
       "        #pyStdout {            \n",
       "            min-height:25px;\n",
       "        }\n",
       "\n",
       "        /* 'Edit this code' link, hiding because replaces browser tab !!!*/\n",
       "        #editCodeLinkDiv {\n",
       "            display:none;  \n",
       "        }\n",
       "        </style>   \n",
       "                            \n",
       "        <script>\n",
       "        (function(){\n",
       "\n",
       "            var trace = JSON.parse(document.getElementById('json-jm9b1205fe-5fee-4281-80f1-05aa1af48d28').innerHTML);                                        \n",
       "            // NOTE 1: id without #\n",
       "            // NOTE 2 - maybe there are more predictable ways, but this will work anyway\n",
       "            //        - id should be number\n",
       "            visualizerIdOverride = Math.trunc(Math.random() * 100000000000)\n",
       "            addVisualizerToPage(trace, 'jm9b1205fe-5fee-4281-80f1-05aa1af48d28',{'embeddedMode' : false,\n",
       "                                             'visualizerIdOverride':visualizerIdOverride})  \n",
       "            \n",
       "            \n",
       "            // set overflow for pytuts - need to do in python as css \n",
       "            // does not allow parent selection\n",
       "            var pytuts = $('.pytutorVisualizer')\n",
       "            pytuts.closest('div.output_html.rendered_html.output_result')\n",
       "                    .css('overflow-x', 'visible')\n",
       "        \n",
       "            //pytuts.closest('div.output_html.rendered_html.output_result')\n",
       "            //      .css('background-color','red')                \n",
       "            \n",
       "        })()\n",
       "        </script>\n",
       "                \n",
       "                "
      ],
      "text/plain": [
       "<IPython.core.display.HTML object>"
      ]
     },
     "execution_count": 39,
     "metadata": {},
     "output_type": "execute_result"
    }
   ],
   "source": [
    "la = ['p','r','o','v','a']\n",
    "iteratore = reversed(la)\n",
    "nuova = list(iteratore)\n",
    "print(\"la è\",la)\n",
    "print(\"nuova è\",nuova)\n",
    "\n",
    "jupman.pytut()"
   ]
  },
  {
   "cell_type": "markdown",
   "metadata": {},
   "source": [
    "**DOMANDA** Il seguente codice, che effetto produce?\n",
    "\n",
    "```python\n",
    "la = ['p','o','n','t','e']\n",
    "lb = list(reversed(reversed(la)))\n",
    "\n",
    "```"
   ]
  },
  {
   "cell_type": "markdown",
   "metadata": {},
   "source": [
    "## sorted"
   ]
  },
  {
   "cell_type": "markdown",
   "metadata": {},
   "source": [
    "La **funzione** `sorted` prende una sequenza come parametro ritorna una NUOVA lista ordinata\n",
    "\n",
    "\n",
    "<div class=\"alert alert-warning\">\n",
    "\n",
    "**ATTENZIONE**: `sorted` ritorna una LISTA, non un iteratore !\n",
    "\n",
    "</div> "
   ]
  },
  {
   "cell_type": "code",
   "execution_count": 40,
   "metadata": {},
   "outputs": [
    {
     "data": {
      "text/plain": [
       "['a', 'b', 'd', 'e', 'g']"
      ]
     },
     "execution_count": 40,
     "metadata": {},
     "output_type": "execute_result"
    }
   ],
   "source": [
    "sorted(['g','a','e','d','b'])"
   ]
  },
  {
   "cell_type": "markdown",
   "metadata": {},
   "source": [
    "<div class=\"alert alert-warning\">\n",
    "\n",
    "**ATTENZIONE**: `sorted` è una **funzione** diversa dal [metodo sort](https://it.softpython.org/lists/lists3-sol.html#Metodo-sort) ! \n",
    "\n",
    "Nota la **ed** finale! Se provassiamo a chiamarla come un metodo otterremmo un errore:\n",
    "\n",
    "</div> "
   ]
  },
  {
   "cell_type": "markdown",
   "metadata": {},
   "source": [
    "```python\n",
    ">>> la.sorted()\n",
    "\n",
    "---------------------------------------------------------------------------\n",
    "AttributeError                            Traceback (most recent call last)\n",
    "<ipython-input-182-c8d1eec57fdd> in <module>\n",
    "----> 1 la.reversed()\n",
    "\n",
    "AttributeError: 'list' object has no attribute 'sorted'\n",
    "\n",
    "```"
   ]
  },
  {
   "cell_type": "markdown",
   "metadata": {},
   "source": [
    "### Esercizio - reversort\n",
    "\n",
    "✪ Data una una lista di nomi, produrre una lista ordinata in ordine inverso\n",
    "\n",
    "Ci sono almeno due modi per farlo in una sola linea di codice, trovarli entrambi\n",
    "\n",
    "* INPUT: `['Maria','Paolo','Giovanni','Alessia','Greta']`\n",
    "* OUTPUT: `['Paolo', 'Maria', 'Greta', 'Giovanni', 'Alessia']`"
   ]
  },
  {
   "cell_type": "raw",
   "id": "3f1ff9bf",
   "metadata": {
    "format": "text/html"
   },
   "source": [
    "<a  class=\"jupman-sol jupman-sol-toggler\" \n",
    " onclick=\"jupman.toggleSolution(this);\" \n",
    " data-jupman-show=\"Mostra soluzione\" data-jupman-hide=\"Nascondi\">Mostra soluzione</a><div class=\"jupman-sol jupman-sol-code\" style=\"display:none\">  "
   ]
  },
  {
   "cell_type": "code",
   "execution_count": 41,
   "metadata": {},
   "outputs": [
    {
     "data": {
      "text/plain": [
       "['Paolo', 'Maria', 'Greta', 'Giovanni', 'Alessia']"
      ]
     },
     "execution_count": 41,
     "metadata": {},
     "output_type": "execute_result"
    }
   ],
   "source": [
    "# scrivi qui\n",
    "\n",
    "list(sorted(['Maria','Paolo','Giovanni','Alessia','Greta'], reverse=True))\n",
    "\n",
    "# oppure\n",
    "#list(reversed(sorted(['Maria','Paolo','Giovanni','Alessia','Greta'])))"
   ]
  },
  {
   "cell_type": "raw",
   "id": "078d7916",
   "metadata": {
    "format": "text/html"
   },
   "source": [
    "</div>"
   ]
  },
  {
   "cell_type": "code",
   "execution_count": 41,
   "metadata": {},
   "outputs": [
    {
     "data": {
      "text/plain": [
       "['Paolo', 'Maria', 'Greta', 'Giovanni', 'Alessia']"
      ]
     },
     "execution_count": 41,
     "metadata": {},
     "output_type": "execute_result"
    }
   ],
   "source": [
    "# scrivi qui\n",
    "\n"
   ]
  },
  {
   "cell_type": "markdown",
   "metadata": {},
   "source": [
    "## zip\n",
    "\n",
    "Supponiamo di avere due liste `quadri` e `anni`, con rispettivamente nomi di quadri famosi e le date in cui sono stati dipinti:"
   ]
  },
  {
   "cell_type": "code",
   "execution_count": 42,
   "metadata": {},
   "outputs": [],
   "source": [
    "quadri = [\"La Gioconda\", \"La Nascita di Venere\", \"I Girasoli\"]\n",
    "anni = [1503, 1482, 1888]"
   ]
  },
  {
   "cell_type": "markdown",
   "metadata": {},
   "source": [
    "Vogliamo produrre una lista nuova che contenga delle tuple che associano a ciascun quadro l'anno in cui è stato dipinto: \n",
    "\n",
    "```python\n",
    "[('La Gioconda', 1503), \n",
    " ('La Nascita di Venere', 1482), \n",
    " ('I Girasoli', 1888)]\n",
    "```"
   ]
  },
  {
   "cell_type": "markdown",
   "metadata": {},
   "source": [
    "Per farlo vi sono vari modi ma senz'altro il più elegante è con la **funzione** `zip` che produce un **iteratore**:"
   ]
  },
  {
   "cell_type": "code",
   "execution_count": 43,
   "metadata": {},
   "outputs": [
    {
     "data": {
      "text/plain": [
       "<zip at 0x7f4274031730>"
      ]
     },
     "execution_count": 43,
     "metadata": {},
     "output_type": "execute_result"
    }
   ],
   "source": [
    "zip(quadri, anni)"
   ]
  },
  {
   "cell_type": "markdown",
   "metadata": {},
   "source": [
    "Per quanto non si veda scritto 'iteratore' nel nome dell'oggetto, possiamo comunque usarlo come tale con `next`:"
   ]
  },
  {
   "cell_type": "code",
   "execution_count": 44,
   "metadata": {},
   "outputs": [
    {
     "data": {
      "text/plain": [
       "('La Gioconda', 1503)"
      ]
     },
     "execution_count": 44,
     "metadata": {},
     "output_type": "execute_result"
    }
   ],
   "source": [
    "iteratore = zip(quadri, anni)\n",
    "next(iteratore)"
   ]
  },
  {
   "cell_type": "code",
   "execution_count": 45,
   "metadata": {},
   "outputs": [
    {
     "data": {
      "text/plain": [
       "('La Nascita di Venere', 1482)"
      ]
     },
     "execution_count": 45,
     "metadata": {},
     "output_type": "execute_result"
    }
   ],
   "source": [
    "next(iteratore)"
   ]
  },
  {
   "cell_type": "code",
   "execution_count": 46,
   "metadata": {},
   "outputs": [
    {
     "data": {
      "text/plain": [
       "('I Girasoli', 1888)"
      ]
     },
     "execution_count": 46,
     "metadata": {},
     "output_type": "execute_result"
    }
   ],
   "source": [
    "next(iteratore)"
   ]
  },
  {
   "cell_type": "markdown",
   "metadata": {},
   "source": [
    "E come fatto in precedenza, possiamo convertire tutto a lista con `list`: "
   ]
  },
  {
   "cell_type": "code",
   "execution_count": 47,
   "metadata": {},
   "outputs": [
    {
     "data": {
      "text/plain": [
       "[('La Gioconda', 1503), ('La Nascita di Venere', 1482), ('I Girasoli', 1888)]"
      ]
     },
     "execution_count": 47,
     "metadata": {},
     "output_type": "execute_result"
    }
   ],
   "source": [
    "quadri = [\"La Gioconda\", \"La Nascita di Venere\", \"I Girasoli\"]\n",
    "anni = [1503, 1482, 1888]\n",
    "\n",
    "list(zip(quadri,anni))"
   ]
  },
  {
   "cell_type": "markdown",
   "metadata": {},
   "source": [
    "Se le liste sono di lunghezza differente, la sequenza prodotta da `zip` sarà lunga come la sequenza di input più corta:"
   ]
  },
  {
   "cell_type": "code",
   "execution_count": 48,
   "metadata": {},
   "outputs": [
    {
     "data": {
      "text/plain": [
       "[(1, 'a'), (2, 'b'), (3, 'c')]"
      ]
     },
     "execution_count": 48,
     "metadata": {},
     "output_type": "execute_result"
    }
   ],
   "source": [
    "list(zip([1,2,3], ['a','b','c','d','e']))"
   ]
  },
  {
   "cell_type": "markdown",
   "metadata": {},
   "source": [
    "Volendo, si può passare un numero arbitrario di sequenze - per esempio passandone tre otteremo delle triple di valori:"
   ]
  },
  {
   "cell_type": "code",
   "execution_count": 49,
   "metadata": {},
   "outputs": [
    {
     "data": {
      "text/plain": [
       "[('Imagine', 'John Lennon', 1971),\n",
       " ('Hey Jude', 'The Beatles', 1968),\n",
       " ('Satisfaction', 'The Rolling Stones', 1965),\n",
       " ('Yesterday', 'The Beatles', 1965)]"
      ]
     },
     "execution_count": 49,
     "metadata": {},
     "output_type": "execute_result"
    }
   ],
   "source": [
    "canzoni = ['Imagine', 'Hey Jude', 'Satisfaction', 'Yesterday' ]\n",
    "autori = ['John Lennon','The Beatles', 'The Rolling Stones', 'The Beatles']\n",
    "anni = [1971, 1968, 1965, 1965]\n",
    "list(zip(canzoni, autori, anni))"
   ]
  },
  {
   "cell_type": "markdown",
   "metadata": {},
   "source": [
    "### Esercizio - scala\n",
    "\n",
    "Data una numero `n`, creare una lista di tuple che per ogni numero intero $x$ tale che $0 \\leq x \\leq n$ associa il numero $n - x$\n",
    "\n",
    "* INPUT: `n=5`\n",
    "* OUTPUT: `[(0, 4), (1, 3), (2, 2), (3, 1), (4, 0)]`"
   ]
  },
  {
   "cell_type": "raw",
   "id": "d93b0f01",
   "metadata": {
    "format": "text/html"
   },
   "source": [
    "<a  class=\"jupman-sol jupman-sol-toggler\" \n",
    " onclick=\"jupman.toggleSolution(this);\" \n",
    " data-jupman-show=\"Mostra soluzione\" data-jupman-hide=\"Nascondi\">Mostra soluzione</a><div class=\"jupman-sol jupman-sol-code\" style=\"display:none\">  "
   ]
  },
  {
   "cell_type": "code",
   "execution_count": 50,
   "metadata": {},
   "outputs": [
    {
     "data": {
      "text/plain": [
       "[(0, 4), (1, 3), (2, 2), (3, 1), (4, 0)]"
      ]
     },
     "execution_count": 50,
     "metadata": {},
     "output_type": "execute_result"
    }
   ],
   "source": [
    "n = 5\n",
    "# scrivi qui\n",
    "list(zip(range(n), reversed(range(n))))"
   ]
  },
  {
   "cell_type": "raw",
   "id": "23ae2817",
   "metadata": {
    "format": "text/html"
   },
   "source": [
    "</div>"
   ]
  },
  {
   "cell_type": "code",
   "execution_count": 50,
   "metadata": {},
   "outputs": [
    {
     "data": {
      "text/plain": [
       "[(0, 4), (1, 3), (2, 2), (3, 1), (4, 0)]"
      ]
     },
     "execution_count": 50,
     "metadata": {},
     "output_type": "execute_result"
    }
   ],
   "source": [
    "n = 5\n",
    "# scrivi qui\n",
    "\n"
   ]
  },
  {
   "cell_type": "markdown",
   "metadata": {},
   "source": [
    "## List comprehensions\n",
    "\n"
   ]
  },
  {
   "cell_type": "markdown",
   "metadata": {
    "colab_type": "text",
    "id": "BbNGWT5PeX_x"
   },
   "source": [
    "\n",
    "Le list comprehensions servono per generare una NUOVA lista eseguendo la stessa operazione su tutti gli elementi di una sequenza di partenza. Come sintassi imitano le liste, infatti iniziano e finiscono con le parentesi quadre `[` `]`, ma dentro contengono un `for` speciale per ciclare dentro un sequenza :"
   ]
  },
  {
   "cell_type": "code",
   "execution_count": 51,
   "metadata": {},
   "outputs": [
    {
     "data": {
      "text/plain": [
       "[4, 10, 6, 8]"
      ]
     },
     "execution_count": 51,
     "metadata": {},
     "output_type": "execute_result"
    }
   ],
   "source": [
    "numeri = [2,5,3,4]\n",
    "\n",
    "raddoppiati = [x*2 for x in numeri]\n",
    "\n",
    "raddoppiati"
   ]
  },
  {
   "cell_type": "markdown",
   "metadata": {},
   "source": [
    "Nota che la variabile `numeri` è ancora associata alla lista originale:"
   ]
  },
  {
   "cell_type": "code",
   "execution_count": 52,
   "metadata": {},
   "outputs": [
    {
     "data": {
      "text/plain": [
       "[2, 5, 3, 4]"
      ]
     },
     "execution_count": 52,
     "metadata": {},
     "output_type": "execute_result"
    }
   ],
   "source": [
    "numeri"
   ]
  },
  {
   "cell_type": "markdown",
   "metadata": {},
   "source": [
    "Cosa è successo ? Abbiamo indicato a Python un nome di variabile `x` che ci siamo inventati noi, e gli abbiamo detto di scorrere la lista `numeri`: ad ogni iterazione, la variabile `x` viene associata ad un diverso valore della lista `numeri`. Tale valore lo possiamo riusare nell'espressione che indichiamo a sinistra del `for`, che in questo caso è `x*2`."
   ]
  },
  {
   "cell_type": "markdown",
   "metadata": {},
   "source": [
    "Come nome per la variabile abbiamo usato `x`, ma potremmo usare un qualunque altro nome, per esempio questo codice è  equivalente al precedente:"
   ]
  },
  {
   "cell_type": "code",
   "execution_count": 53,
   "metadata": {},
   "outputs": [
    {
     "data": {
      "text/plain": [
       "[4, 10, 6, 8]"
      ]
     },
     "execution_count": 53,
     "metadata": {},
     "output_type": "execute_result"
    }
   ],
   "source": [
    "numeri = [2,5,3,4]\n",
    "\n",
    "raddoppiati = [numero * 2 for numero in numeri]\n",
    "\n",
    "raddoppiati"
   ]
  },
  {
   "cell_type": "markdown",
   "metadata": {},
   "source": [
    "Nella parte a sinistra del `for` possiamo scrivere qualunque espressione che produca un valore, per esempio qua scriviamo `x + 1` per incrementare tutti i numeri della lista originale. "
   ]
  },
  {
   "cell_type": "code",
   "execution_count": 54,
   "metadata": {},
   "outputs": [
    {
     "data": {
      "text/plain": [
       "[3, 6, 4, 5]"
      ]
     },
     "execution_count": 54,
     "metadata": {},
     "output_type": "execute_result"
    }
   ],
   "source": [
    "numeri = [2,5,3,4]\n",
    "\n",
    "aumentati = [x + 1 for x in numeri]\n",
    "\n",
    "aumentati"
   ]
  },
  {
   "cell_type": "markdown",
   "metadata": {},
   "source": [
    "**DOMANDA**: Questo codice cosa produrrà? Se lo visualizziamo in Python Tutor, `la` ed `lb` punteranno ad oggetti diversi?\n",
    "\n",
    "```python\n",
    "la = [7,5,6,9]\n",
    "lb = [x for x in la]\n",
    "\n",
    "```"
   ]
  },
  {
   "cell_type": "raw",
   "id": "f864b181",
   "metadata": {
    "format": "text/html"
   },
   "source": [
    "<a  class=\"jupman-sol jupman-sol-toggler\" \n",
    " onclick=\"jupman.toggleSolution(this);\" \n",
    " data-jupman-show=\"Mostra risposta\" data-jupman-hide=\"Nascondi\">Mostra risposta</a><div class=\"jupman-sol jupman-sol-question\" style=\"display:none\">  "
   ]
  },
  {
   "cell_type": "markdown",
   "metadata": {},
   "source": [
    "**RISPOSTA**: Quando viene eseguita `[x for x in la]`  alla prima iterazione `x` vale `7`, alla seconda `5`, alla terza `6` e via dicendo. Nella espressione a sinistra del `for` abbiamo messo solo `x` quindi come risultato dell'espressione otterremo lo stesso identico numero preso dalla stringa originale.\n",
    "\n",
    "Il codice produrrà una NUOVA lista `[7,5,6,9]` e la associerà alla variabile `lb`."
   ]
  },
  {
   "cell_type": "raw",
   "id": "ea169fe6",
   "metadata": {
    "format": "text/html"
   },
   "source": [
    "</div>"
   ]
  },
  {
   "cell_type": "code",
   "execution_count": 55,
   "metadata": {},
   "outputs": [
    {
     "data": {
      "text/html": [
       "\n",
       "        <script src=\"../_static/js/pytutor-embed.bundle.min.js\" type=\"application/javascript\"></script>\n",
       "     \n",
       "        <script id=\"json-jm2c5d7a80-e3b5-4aa7-ab6b-c426fa8dbeb9\" type=\"application/json\" >\n",
       "            {\"code\": \" \\nla = [7,5,6,9]\\nlb = [x for x in la]\", \"trace\": [{\"line\": 2, \"event\": \"step_line\", \"func_name\": \"<module>\", \"globals\": {}, \"ordered_globals\": [], \"stack_to_render\": [], \"heap\": {}, \"stdout\": \"\"}, {\"line\": 3, \"event\": \"step_line\", \"func_name\": \"<module>\", \"globals\": {\"la\": [\"REF\", 1]}, \"ordered_globals\": [\"la\"], \"stack_to_render\": [], \"heap\": {\"1\": [\"LIST\", 7, 5, 6, 9]}, \"stdout\": \"\"}, {\"line\": 3, \"event\": \"call\", \"func_name\": \"<listcomp>\", \"globals\": {\"la\": [\"REF\", 1]}, \"ordered_globals\": [\"la\"], \"stack_to_render\": [{\"func_name\": \"<listcomp>\", \"is_parent\": false, \"frame_id\": 1, \"parent_frame_id_list\": [], \"encoded_locals\": {\".0\": [\"REF\", 2]}, \"ordered_varnames\": [\".0\"], \"is_zombie\": false, \"is_highlighted\": true, \"unique_hash\": \"<listcomp>_f1\"}], \"heap\": {\"2\": [\"INSTANCE\", \"list_iterator\"], \"1\": [\"LIST\", 7, 5, 6, 9]}, \"stdout\": \"\"}, {\"line\": 3, \"event\": \"step_line\", \"func_name\": \"<listcomp>\", \"globals\": {\"la\": [\"REF\", 1]}, \"ordered_globals\": [\"la\"], \"stack_to_render\": [{\"func_name\": \"<listcomp>\", \"is_parent\": false, \"frame_id\": 1, \"parent_frame_id_list\": [], \"encoded_locals\": {\".0\": [\"REF\", 2]}, \"ordered_varnames\": [\".0\"], \"is_zombie\": false, \"is_highlighted\": true, \"unique_hash\": \"<listcomp>_f1\"}], \"heap\": {\"2\": [\"INSTANCE\", \"list_iterator\"], \"1\": [\"LIST\", 7, 5, 6, 9]}, \"stdout\": \"\"}, {\"line\": 3, \"event\": \"step_line\", \"func_name\": \"<listcomp>\", \"globals\": {\"la\": [\"REF\", 1]}, \"ordered_globals\": [\"la\"], \"stack_to_render\": [{\"func_name\": \"<listcomp>\", \"is_parent\": false, \"frame_id\": 1, \"parent_frame_id_list\": [], \"encoded_locals\": {\".0\": [\"REF\", 2], \"x\": 7}, \"ordered_varnames\": [\".0\", \"x\"], \"is_zombie\": false, \"is_highlighted\": true, \"unique_hash\": \"<listcomp>_f1\"}], \"heap\": {\"2\": [\"INSTANCE\", \"list_iterator\"], \"1\": [\"LIST\", 7, 5, 6, 9]}, \"stdout\": \"\"}, {\"line\": 3, \"event\": \"step_line\", \"func_name\": \"<listcomp>\", \"globals\": {\"la\": [\"REF\", 1]}, \"ordered_globals\": [\"la\"], \"stack_to_render\": [{\"func_name\": \"<listcomp>\", \"is_parent\": false, \"frame_id\": 1, \"parent_frame_id_list\": [], \"encoded_locals\": {\".0\": [\"REF\", 2], \"x\": 5}, \"ordered_varnames\": [\".0\", \"x\"], \"is_zombie\": false, \"is_highlighted\": true, \"unique_hash\": \"<listcomp>_f1\"}], \"heap\": {\"2\": [\"INSTANCE\", \"list_iterator\"], \"1\": [\"LIST\", 7, 5, 6, 9]}, \"stdout\": \"\"}, {\"line\": 3, \"event\": \"step_line\", \"func_name\": \"<listcomp>\", \"globals\": {\"la\": [\"REF\", 1]}, \"ordered_globals\": [\"la\"], \"stack_to_render\": [{\"func_name\": \"<listcomp>\", \"is_parent\": false, \"frame_id\": 1, \"parent_frame_id_list\": [], \"encoded_locals\": {\".0\": [\"REF\", 2], \"x\": 6}, \"ordered_varnames\": [\".0\", \"x\"], \"is_zombie\": false, \"is_highlighted\": true, \"unique_hash\": \"<listcomp>_f1\"}], \"heap\": {\"2\": [\"INSTANCE\", \"list_iterator\"], \"1\": [\"LIST\", 7, 5, 6, 9]}, \"stdout\": \"\"}, {\"line\": 3, \"event\": \"step_line\", \"func_name\": \"<listcomp>\", \"globals\": {\"la\": [\"REF\", 1]}, \"ordered_globals\": [\"la\"], \"stack_to_render\": [{\"func_name\": \"<listcomp>\", \"is_parent\": false, \"frame_id\": 1, \"parent_frame_id_list\": [], \"encoded_locals\": {\".0\": [\"REF\", 2], \"x\": 9}, \"ordered_varnames\": [\".0\", \"x\"], \"is_zombie\": false, \"is_highlighted\": true, \"unique_hash\": \"<listcomp>_f1\"}], \"heap\": {\"2\": [\"INSTANCE\", \"list_iterator\"], \"1\": [\"LIST\", 7, 5, 6, 9]}, \"stdout\": \"\"}, {\"line\": 3, \"event\": \"return\", \"func_name\": \"<listcomp>\", \"globals\": {\"la\": [\"REF\", 1]}, \"ordered_globals\": [\"la\"], \"stack_to_render\": [{\"func_name\": \"<listcomp>\", \"is_parent\": false, \"frame_id\": 1, \"parent_frame_id_list\": [], \"encoded_locals\": {\".0\": [\"REF\", 2], \"x\": 9, \"__return__\": [\"REF\", 3]}, \"ordered_varnames\": [\".0\", \"x\", \"__return__\"], \"is_zombie\": false, \"is_highlighted\": true, \"unique_hash\": \"<listcomp>_f1\"}], \"heap\": {\"2\": [\"INSTANCE\", \"list_iterator\"], \"3\": [\"LIST\", 7, 5, 6, 9], \"1\": [\"LIST\", 7, 5, 6, 9]}, \"stdout\": \"\"}, {\"line\": 3, \"event\": \"return\", \"func_name\": \"<module>\", \"globals\": {\"la\": [\"REF\", 1], \"lb\": [\"REF\", 3]}, \"ordered_globals\": [\"la\", \"lb\"], \"stack_to_render\": [], \"heap\": {\"1\": [\"LIST\", 7, 5, 6, 9], \"3\": [\"LIST\", 7, 5, 6, 9]}, \"stdout\": \"\"}]}\n",
       "        </script>\n",
       "        <div id=\"jm2c5d7a80-e3b5-4aa7-ab6b-c426fa8dbeb9\" class=\"pytutorVisualizer\"> </div>\n",
       " \n",
       "        <style>\n",
       "        .vizLayoutTd {\n",
       "            background-color: #fff !important;\n",
       "        }\n",
       "\n",
       "        #pyStdout {            \n",
       "            min-height:25px;\n",
       "        }\n",
       "\n",
       "        /* 'Edit this code' link, hiding because replaces browser tab !!!*/\n",
       "        #editCodeLinkDiv {\n",
       "            display:none;  \n",
       "        }\n",
       "        </style>   \n",
       "                            \n",
       "        <script>\n",
       "        (function(){\n",
       "\n",
       "            var trace = JSON.parse(document.getElementById('json-jm2c5d7a80-e3b5-4aa7-ab6b-c426fa8dbeb9').innerHTML);                                        \n",
       "            // NOTE 1: id without #\n",
       "            // NOTE 2 - maybe there are more predictable ways, but this will work anyway\n",
       "            //        - id should be number\n",
       "            visualizerIdOverride = Math.trunc(Math.random() * 100000000000)\n",
       "            addVisualizerToPage(trace, 'jm2c5d7a80-e3b5-4aa7-ab6b-c426fa8dbeb9',{'embeddedMode' : false,\n",
       "                                             'visualizerIdOverride':visualizerIdOverride})  \n",
       "            \n",
       "            \n",
       "            // set overflow for pytuts - need to do in python as css \n",
       "            // does not allow parent selection\n",
       "            var pytuts = $('.pytutorVisualizer')\n",
       "            pytuts.closest('div.output_html.rendered_html.output_result')\n",
       "                    .css('overflow-x', 'visible')\n",
       "        \n",
       "            //pytuts.closest('div.output_html.rendered_html.output_result')\n",
       "            //      .css('background-color','red')                \n",
       "            \n",
       "        })()\n",
       "        </script>\n",
       "                \n",
       "                "
      ],
      "text/plain": [
       "<IPython.core.display.HTML object>"
      ]
     },
     "execution_count": 55,
     "metadata": {},
     "output_type": "execute_result"
    }
   ],
   "source": [
    "la = [7,5,6,9]\n",
    "lb = [x for x in la]\n",
    "\n",
    "jupman.pytut()"
   ]
  },
  {
   "cell_type": "markdown",
   "metadata": {},
   "source": [
    "### list comprehension su stringhe"
   ]
  },
  {
   "cell_type": "markdown",
   "metadata": {},
   "source": [
    "**DOMANDA**: Questo codice cosa produrrà?\n",
    "\n",
    "```python\n",
    "[x for x in 'domanda']\n",
    "```"
   ]
  },
  {
   "cell_type": "raw",
   "id": "0d486131",
   "metadata": {
    "format": "text/html"
   },
   "source": [
    "<a  class=\"jupman-sol jupman-sol-toggler\" \n",
    " onclick=\"jupman.toggleSolution(this);\" \n",
    " data-jupman-show=\"Mostra risposta\" data-jupman-hide=\"Nascondi\">Mostra risposta</a><div class=\"jupman-sol jupman-sol-question\" style=\"display:none\">  "
   ]
  },
  {
   "cell_type": "markdown",
   "metadata": {},
   "source": [
    "**RISPOSTA**: Produrrà `['d', 'o', 'm', 'a', 'n', 'd', 'a']` \n",
    "\n",
    "Visto che `'domanda'` è una stringa, se la interpretiamo come sequenza ogni suo elemento è un carattere, quindi alla prima iterazione `x` vale `'d'`, alla seconda `'o'`, alla terza `'m'` e via dicendo. Nella espressione a sinistra del `for` abbiamo messo solo `x` quindi come risultato dell'espressione otterremo lo stesso identico carattere preso dalla stringa originale."
   ]
  },
  {
   "cell_type": "raw",
   "id": "b3c11571",
   "metadata": {
    "format": "text/html"
   },
   "source": [
    "</div>"
   ]
  },
  {
   "cell_type": "markdown",
   "metadata": {},
   "source": [
    "Adesso supponiamo di avere una lista di `animali` e vogliamo produrne un'altra con gli stessi nomi ma in maiuscolo. Possiamo farlo in modo compatto con una list comprehension così:"
   ]
  },
  {
   "cell_type": "code",
   "execution_count": 56,
   "metadata": {
    "colab": {
     "autoexec": {
      "startup": false,
      "wait_interval": 0
     }
    },
    "colab_type": "code",
    "id": "I7fl60rudyTU"
   },
   "outputs": [],
   "source": [
    "animali = ['cani', 'gatti', 'scoiattoli', 'alci']\n",
    "\n",
    "nuova_lista = [animale.upper() for animale in animali]"
   ]
  },
  {
   "cell_type": "code",
   "execution_count": 57,
   "metadata": {
    "colab": {
     "autoexec": {
      "startup": false,
      "wait_interval": 0
     },
     "base_uri": "https://localhost:8080/",
     "height": 34,
     "output_extras": [
      {
       "item_id": 1
      }
     ]
    },
    "colab_type": "code",
    "executionInfo": {
     "elapsed": 483,
     "status": "ok",
     "timestamp": 1519033974548,
     "user": {
      "displayName": "David Leoni",
      "photoUrl": "https://lh3.googleusercontent.com/a/default-user=s128",
      "userId": "102920557909426557439"
     },
     "user_tz": -60
    },
    "id": "fSywtAYFdgyY",
    "outputId": "f9131bc7-11a0-4cb8-f708-5d101e51d6b1"
   },
   "outputs": [
    {
     "data": {
      "text/plain": [
       "['CANI', 'GATTI', 'SCOIATTOLI', 'ALCI']"
      ]
     },
     "execution_count": 57,
     "metadata": {},
     "output_type": "execute_result"
    }
   ],
   "source": [
    "nuova_lista"
   ]
  },
  {
   "cell_type": "markdown",
   "metadata": {},
   "source": [
    "Nella parte a sinistra riservata all'espressione abbiamo usato sulla variabile stringa `animale` il metodo `.upper()`. Sappiamo che le stringhe sono immutabili, quindi siamo sicuri che la chiamata al metodo produce una NUOVA stringa. Vediamo cosa è successo  in Python Tutor:"
   ]
  },
  {
   "cell_type": "code",
   "execution_count": 58,
   "metadata": {},
   "outputs": [
    {
     "data": {
      "text/html": [
       "\n",
       "        <script src=\"../_static/js/pytutor-embed.bundle.min.js\" type=\"application/javascript\"></script>\n",
       "     \n",
       "        <script id=\"json-jmbb876a83-7740-40e4-ae9b-ddfbebe956d1\" type=\"application/json\" >\n",
       "            {\"code\": \" \\nanimali = ['cani', 'gatti', 'scoiattoli', 'alci']\\n\\nnuova_lista = [animale.upper() for animale in animali]\", \"trace\": [{\"line\": 2, \"event\": \"step_line\", \"func_name\": \"<module>\", \"globals\": {}, \"ordered_globals\": [], \"stack_to_render\": [], \"heap\": {}, \"stdout\": \"\"}, {\"line\": 4, \"event\": \"step_line\", \"func_name\": \"<module>\", \"globals\": {\"animali\": [\"REF\", 1]}, \"ordered_globals\": [\"animali\"], \"stack_to_render\": [], \"heap\": {\"1\": [\"LIST\", \"cani\", \"gatti\", \"scoiattoli\", \"alci\"]}, \"stdout\": \"\"}, {\"line\": 4, \"event\": \"call\", \"func_name\": \"<listcomp>\", \"globals\": {\"animali\": [\"REF\", 1]}, \"ordered_globals\": [\"animali\"], \"stack_to_render\": [{\"func_name\": \"<listcomp>\", \"is_parent\": false, \"frame_id\": 1, \"parent_frame_id_list\": [], \"encoded_locals\": {\".0\": [\"REF\", 2]}, \"ordered_varnames\": [\".0\"], \"is_zombie\": false, \"is_highlighted\": true, \"unique_hash\": \"<listcomp>_f1\"}], \"heap\": {\"2\": [\"INSTANCE\", \"list_iterator\"], \"1\": [\"LIST\", \"cani\", \"gatti\", \"scoiattoli\", \"alci\"]}, \"stdout\": \"\"}, {\"line\": 4, \"event\": \"step_line\", \"func_name\": \"<listcomp>\", \"globals\": {\"animali\": [\"REF\", 1]}, \"ordered_globals\": [\"animali\"], \"stack_to_render\": [{\"func_name\": \"<listcomp>\", \"is_parent\": false, \"frame_id\": 1, \"parent_frame_id_list\": [], \"encoded_locals\": {\".0\": [\"REF\", 2]}, \"ordered_varnames\": [\".0\"], \"is_zombie\": false, \"is_highlighted\": true, \"unique_hash\": \"<listcomp>_f1\"}], \"heap\": {\"2\": [\"INSTANCE\", \"list_iterator\"], \"1\": [\"LIST\", \"cani\", \"gatti\", \"scoiattoli\", \"alci\"]}, \"stdout\": \"\"}, {\"line\": 4, \"event\": \"step_line\", \"func_name\": \"<listcomp>\", \"globals\": {\"animali\": [\"REF\", 1]}, \"ordered_globals\": [\"animali\"], \"stack_to_render\": [{\"func_name\": \"<listcomp>\", \"is_parent\": false, \"frame_id\": 1, \"parent_frame_id_list\": [], \"encoded_locals\": {\".0\": [\"REF\", 2], \"animale\": \"cani\"}, \"ordered_varnames\": [\".0\", \"animale\"], \"is_zombie\": false, \"is_highlighted\": true, \"unique_hash\": \"<listcomp>_f1\"}], \"heap\": {\"2\": [\"INSTANCE\", \"list_iterator\"], \"1\": [\"LIST\", \"cani\", \"gatti\", \"scoiattoli\", \"alci\"]}, \"stdout\": \"\"}, {\"line\": 4, \"event\": \"step_line\", \"func_name\": \"<listcomp>\", \"globals\": {\"animali\": [\"REF\", 1]}, \"ordered_globals\": [\"animali\"], \"stack_to_render\": [{\"func_name\": \"<listcomp>\", \"is_parent\": false, \"frame_id\": 1, \"parent_frame_id_list\": [], \"encoded_locals\": {\".0\": [\"REF\", 2], \"animale\": \"gatti\"}, \"ordered_varnames\": [\".0\", \"animale\"], \"is_zombie\": false, \"is_highlighted\": true, \"unique_hash\": \"<listcomp>_f1\"}], \"heap\": {\"2\": [\"INSTANCE\", \"list_iterator\"], \"1\": [\"LIST\", \"cani\", \"gatti\", \"scoiattoli\", \"alci\"]}, \"stdout\": \"\"}, {\"line\": 4, \"event\": \"step_line\", \"func_name\": \"<listcomp>\", \"globals\": {\"animali\": [\"REF\", 1]}, \"ordered_globals\": [\"animali\"], \"stack_to_render\": [{\"func_name\": \"<listcomp>\", \"is_parent\": false, \"frame_id\": 1, \"parent_frame_id_list\": [], \"encoded_locals\": {\".0\": [\"REF\", 2], \"animale\": \"scoiattoli\"}, \"ordered_varnames\": [\".0\", \"animale\"], \"is_zombie\": false, \"is_highlighted\": true, \"unique_hash\": \"<listcomp>_f1\"}], \"heap\": {\"2\": [\"INSTANCE\", \"list_iterator\"], \"1\": [\"LIST\", \"cani\", \"gatti\", \"scoiattoli\", \"alci\"]}, \"stdout\": \"\"}, {\"line\": 4, \"event\": \"step_line\", \"func_name\": \"<listcomp>\", \"globals\": {\"animali\": [\"REF\", 1]}, \"ordered_globals\": [\"animali\"], \"stack_to_render\": [{\"func_name\": \"<listcomp>\", \"is_parent\": false, \"frame_id\": 1, \"parent_frame_id_list\": [], \"encoded_locals\": {\".0\": [\"REF\", 2], \"animale\": \"alci\"}, \"ordered_varnames\": [\".0\", \"animale\"], \"is_zombie\": false, \"is_highlighted\": true, \"unique_hash\": \"<listcomp>_f1\"}], \"heap\": {\"2\": [\"INSTANCE\", \"list_iterator\"], \"1\": [\"LIST\", \"cani\", \"gatti\", \"scoiattoli\", \"alci\"]}, \"stdout\": \"\"}, {\"line\": 4, \"event\": \"return\", \"func_name\": \"<listcomp>\", \"globals\": {\"animali\": [\"REF\", 1]}, \"ordered_globals\": [\"animali\"], \"stack_to_render\": [{\"func_name\": \"<listcomp>\", \"is_parent\": false, \"frame_id\": 1, \"parent_frame_id_list\": [], \"encoded_locals\": {\".0\": [\"REF\", 2], \"animale\": \"alci\", \"__return__\": [\"REF\", 3]}, \"ordered_varnames\": [\".0\", \"animale\", \"__return__\"], \"is_zombie\": false, \"is_highlighted\": true, \"unique_hash\": \"<listcomp>_f1\"}], \"heap\": {\"2\": [\"INSTANCE\", \"list_iterator\"], \"3\": [\"LIST\", \"CANI\", \"GATTI\", \"SCOIATTOLI\", \"ALCI\"], \"1\": [\"LIST\", \"cani\", \"gatti\", \"scoiattoli\", \"alci\"]}, \"stdout\": \"\"}, {\"line\": 4, \"event\": \"return\", \"func_name\": \"<module>\", \"globals\": {\"animali\": [\"REF\", 1], \"nuova_lista\": [\"REF\", 3]}, \"ordered_globals\": [\"animali\", \"nuova_lista\"], \"stack_to_render\": [], \"heap\": {\"1\": [\"LIST\", \"cani\", \"gatti\", \"scoiattoli\", \"alci\"], \"3\": [\"LIST\", \"CANI\", \"GATTI\", \"SCOIATTOLI\", \"ALCI\"]}, \"stdout\": \"\"}]}\n",
       "        </script>\n",
       "        <div id=\"jmbb876a83-7740-40e4-ae9b-ddfbebe956d1\" class=\"pytutorVisualizer\"> </div>\n",
       " \n",
       "        <style>\n",
       "        .vizLayoutTd {\n",
       "            background-color: #fff !important;\n",
       "        }\n",
       "\n",
       "        #pyStdout {            \n",
       "            min-height:25px;\n",
       "        }\n",
       "\n",
       "        /* 'Edit this code' link, hiding because replaces browser tab !!!*/\n",
       "        #editCodeLinkDiv {\n",
       "            display:none;  \n",
       "        }\n",
       "        </style>   \n",
       "                            \n",
       "        <script>\n",
       "        (function(){\n",
       "\n",
       "            var trace = JSON.parse(document.getElementById('json-jmbb876a83-7740-40e4-ae9b-ddfbebe956d1').innerHTML);                                        \n",
       "            // NOTE 1: id without #\n",
       "            // NOTE 2 - maybe there are more predictable ways, but this will work anyway\n",
       "            //        - id should be number\n",
       "            visualizerIdOverride = Math.trunc(Math.random() * 100000000000)\n",
       "            addVisualizerToPage(trace, 'jmbb876a83-7740-40e4-ae9b-ddfbebe956d1',{'embeddedMode' : false,\n",
       "                                             'visualizerIdOverride':visualizerIdOverride})  \n",
       "            \n",
       "            \n",
       "            // set overflow for pytuts - need to do in python as css \n",
       "            // does not allow parent selection\n",
       "            var pytuts = $('.pytutorVisualizer')\n",
       "            pytuts.closest('div.output_html.rendered_html.output_result')\n",
       "                    .css('overflow-x', 'visible')\n",
       "        \n",
       "            //pytuts.closest('div.output_html.rendered_html.output_result')\n",
       "            //      .css('background-color','red')                \n",
       "            \n",
       "        })()\n",
       "        </script>\n",
       "                \n",
       "                "
      ],
      "text/plain": [
       "<IPython.core.display.HTML object>"
      ]
     },
     "execution_count": 58,
     "metadata": {},
     "output_type": "execute_result"
    }
   ],
   "source": [
    "\n",
    "animali = ['cani', 'gatti', 'scoiattoli', 'alci']\n",
    "\n",
    "nuova_lista = [animale.upper() for animale in animali]\n",
    "\n",
    "jupman.pytut()\n"
   ]
  },
  {
   "cell_type": "markdown",
   "metadata": {
    "colab_type": "text",
    "id": "G1isjIcitppx"
   },
   "source": [
    "**✪ ESERCIZIO**: Prova qua sotto ad usare una list comprehension per mettere tutti i caratteri in minuscolo (metodo `.lower()`)"
   ]
  },
  {
   "cell_type": "raw",
   "id": "93510096",
   "metadata": {
    "format": "text/html"
   },
   "source": [
    "<a  class=\"jupman-sol jupman-sol-toggler\" \n",
    " onclick=\"jupman.toggleSolution(this);\" \n",
    " data-jupman-show=\"Mostra soluzione\" data-jupman-hide=\"Nascondi\">Mostra soluzione</a><div class=\"jupman-sol jupman-sol-code\" style=\"display:none\">  "
   ]
  },
  {
   "cell_type": "code",
   "execution_count": 59,
   "metadata": {
    "colab": {
     "autoexec": {
      "startup": false,
      "wait_interval": 0
     }
    },
    "colab_type": "code",
    "id": "eoNE416HdIEf"
   },
   "outputs": [
    {
     "data": {
      "text/plain": [
       "['cani', 'gatti', 'scoiattoli', 'allci']"
      ]
     },
     "execution_count": 59,
     "metadata": {},
     "output_type": "execute_result"
    }
   ],
   "source": [
    "animali = ['caNI', 'gaTTi', 'SCOIATtoli', 'aLLci']\n",
    "\n",
    "# scrivi qui\n",
    "\n",
    "[animale.lower() for animale in animali]"
   ]
  },
  {
   "cell_type": "raw",
   "id": "8f1b8a88",
   "metadata": {
    "format": "text/html"
   },
   "source": [
    "</div>"
   ]
  },
  {
   "cell_type": "code",
   "execution_count": 59,
   "metadata": {
    "colab": {
     "autoexec": {
      "startup": false,
      "wait_interval": 0
     }
    },
    "colab_type": "code",
    "id": "eoNE416HdIEf"
   },
   "outputs": [
    {
     "data": {
      "text/plain": [
       "['cani', 'gatti', 'scoiattoli', 'allci']"
      ]
     },
     "execution_count": 59,
     "metadata": {},
     "output_type": "execute_result"
    }
   ],
   "source": [
    "animali = ['caNI', 'gaTTi', 'SCOIATtoli', 'aLLci']\n",
    "\n",
    "# scrivi qui\n",
    "\n"
   ]
  },
  {
   "cell_type": "markdown",
   "metadata": {},
   "source": [
    "## Domande list comprehension\n",
    "\n",
    "Guarda i seguenti frammenti di codice, e per ciascuno cerca di indovinare quale risultato produce (o se da errore):\n",
    "\n",
    "\n",
    "1.  ```python\n",
    "    [x for [4,2,5]]\n",
    "    ```\n",
    "1.  ```python\n",
    "    x for x in range(3)\n",
    "    ```\n",
    "1.  ```python\n",
    "    [x for y in 'cartoccio']\n",
    "    ```\n",
    "1.  ```python\n",
    "    [for x in 'zappa']\n",
    "    ```\n",
    "1.  ```python\n",
    "    [for [3,4,5]]\n",
    "    ```    \n",
    "1.  ```python\n",
    "    [k + 1 for k in 'bozza']\n",
    "    ```\n",
    "1.  ```python\n",
    "    [k + 1 for k in range(5)]\n",
    "    ```    \n",
    "1.  ```python\n",
    "    [k > 3 for k in range(7)]\n",
    "    ```\n",
    "1.  ```python\n",
    "    [s + s for s in ['lam','pa','da']]\n",
    "    ```\n",
    "1.  ```python\n",
    "    la = ['x','z','z']\n",
    "    [x for x in la] + [y for y in la]\n",
    "    ```\n",
    "1.  ```python\n",
    "    [x.split('-') for x in ['a-b', 'c-d', 'e-f']]\n",
    "    ```\n",
    "1.  ```python\n",
    "    ['@'.join(x) for x in [['a','b.com'],['c','d.org'],['e','f.net'] ]]\n",
    "    ```    \n",
    "1.  ```python\n",
    "    ['z' for y in 'borgo'].count('z') == len('borgo')\n",
    "    ```    \n",
    "1.  ```python\n",
    "    m = [['a','b'],['c','d'],['e','f'] ]\n",
    "    la = [x.pop() for x in m]   # sconsigliabile - perchè ?\n",
    "    print(' m:', m)\n",
    "    print('la:',la)    \n",
    "    ```\n",
    "\n"
   ]
  },
  {
   "cell_type": "markdown",
   "metadata": {},
   "source": [
    "## Esercizio - list comprehension"
   ]
  },
  {
   "cell_type": "markdown",
   "metadata": {},
   "source": [
    "### Esercizio -  Bubble bubble\n",
    "\n",
    "✪ Data una lista di stringhe, produrre una sequenza con tutte le stringhe replicate 4 volte\n",
    "\n",
    "- INPUT:  `['gomma', 'ciunga', 'cicca']`\n",
    "- OUTPUT: `['gommagommagommagomma',  'ciungaciungaciungaciunga', 'ciccaciccaciccacicca']`"
   ]
  },
  {
   "cell_type": "raw",
   "id": "20b2e7f2",
   "metadata": {
    "format": "text/html"
   },
   "source": [
    "<a  class=\"jupman-sol jupman-sol-toggler\" \n",
    " onclick=\"jupman.toggleSolution(this);\" \n",
    " data-jupman-show=\"Mostra soluzione\" data-jupman-hide=\"Nascondi\">Mostra soluzione</a><div class=\"jupman-sol jupman-sol-code\" style=\"display:none\">  "
   ]
  },
  {
   "cell_type": "code",
   "execution_count": 60,
   "metadata": {},
   "outputs": [
    {
     "name": "stdout",
     "output_type": "stream",
     "text": [
      "['gommagommagommagomma', 'ciungaciungaciungaciunga', 'ciccaciccaciccacicca']\n"
     ]
    }
   ],
   "source": [
    "bubble_bubble = ['gomma', 'ciunga', 'cicca']\n",
    "\n",
    "# scrivi qui\n",
    "print([x * 4 for x in bubble_bubble])"
   ]
  },
  {
   "cell_type": "raw",
   "id": "b8e8a479",
   "metadata": {
    "format": "text/html"
   },
   "source": [
    "</div>"
   ]
  },
  {
   "cell_type": "code",
   "execution_count": 60,
   "metadata": {},
   "outputs": [
    {
     "name": "stdout",
     "output_type": "stream",
     "text": [
      "['gommagommagommagomma', 'ciungaciungaciungaciunga', 'ciccaciccaciccacicca']\n"
     ]
    }
   ],
   "source": [
    "bubble_bubble = ['gomma', 'ciunga', 'cicca']\n",
    "\n",
    "# scrivi qui\n",
    "\n"
   ]
  },
  {
   "cell_type": "markdown",
   "metadata": {},
   "source": [
    "### Esercizio - radice\n",
    "\n",
    "✪ Data una lista di numeri, produrre una lista con la radice quadrata dei numeri di input\n",
    "\n",
    "- INPUT:  `[16,25,81]`\n",
    "- OUTPUT: `[4.0, 5.0, 9.0]`"
   ]
  },
  {
   "cell_type": "raw",
   "id": "b5af2246",
   "metadata": {
    "format": "text/html"
   },
   "source": [
    "<a  class=\"jupman-sol jupman-sol-toggler\" \n",
    " onclick=\"jupman.toggleSolution(this);\" \n",
    " data-jupman-show=\"Mostra soluzione\" data-jupman-hide=\"Nascondi\">Mostra soluzione</a><div class=\"jupman-sol jupman-sol-code\" style=\"display:none\">  "
   ]
  },
  {
   "cell_type": "code",
   "execution_count": 61,
   "metadata": {},
   "outputs": [
    {
     "data": {
      "text/plain": [
       "[4.0, 5.0, 9.0]"
      ]
     },
     "execution_count": 61,
     "metadata": {},
     "output_type": "execute_result"
    }
   ],
   "source": [
    "import math\n",
    "\n",
    "# scrivi qui\n",
    "[math.sqrt(x) for x in [16,25,81]]"
   ]
  },
  {
   "cell_type": "raw",
   "id": "5f396125",
   "metadata": {
    "format": "text/html"
   },
   "source": [
    "</div>"
   ]
  },
  {
   "cell_type": "code",
   "execution_count": 61,
   "metadata": {},
   "outputs": [
    {
     "data": {
      "text/plain": [
       "[4.0, 5.0, 9.0]"
      ]
     },
     "execution_count": 61,
     "metadata": {},
     "output_type": "execute_result"
    }
   ],
   "source": [
    "import math\n",
    "\n",
    "# scrivi qui\n",
    "\n"
   ]
  },
  {
   "cell_type": "markdown",
   "metadata": {},
   "source": [
    "### Esercizio - QuandoFuoriPiove\n",
    "\n",
    "✪ Data una lista di stringhe, produrre una lista con i primi caratteri di ogni stringa\n",
    "\n",
    "- INPUT: `['Quando', 'Fuori', 'Piove', 'Programmiamo']`\n",
    "- OUTPUT: `['Q','F','P','P']`"
   ]
  },
  {
   "cell_type": "raw",
   "id": "d38e46e2",
   "metadata": {
    "format": "text/html"
   },
   "source": [
    "<a  class=\"jupman-sol jupman-sol-toggler\" \n",
    " onclick=\"jupman.toggleSolution(this);\" \n",
    " data-jupman-show=\"Mostra soluzione\" data-jupman-hide=\"Nascondi\">Mostra soluzione</a><div class=\"jupman-sol jupman-sol-code\" style=\"display:none\">  "
   ]
  },
  {
   "cell_type": "code",
   "execution_count": 62,
   "metadata": {},
   "outputs": [
    {
     "data": {
      "text/plain": [
       "['Q', 'F', 'P', 'P']"
      ]
     },
     "execution_count": 62,
     "metadata": {},
     "output_type": "execute_result"
    }
   ],
   "source": [
    "# scrivi qui\n",
    "[x[0] for x in ['Quando', 'Fuori', 'Piove', 'Programmiamo']]"
   ]
  },
  {
   "cell_type": "raw",
   "id": "bce48b7c",
   "metadata": {
    "format": "text/html"
   },
   "source": [
    "</div>"
   ]
  },
  {
   "cell_type": "code",
   "execution_count": 62,
   "metadata": {},
   "outputs": [
    {
     "data": {
      "text/plain": [
       "['Q', 'F', 'P', 'P']"
      ]
     },
     "execution_count": 62,
     "metadata": {},
     "output_type": "execute_result"
    }
   ],
   "source": [
    "# scrivi qui\n",
    "\n"
   ]
  },
  {
   "cell_type": "markdown",
   "metadata": {},
   "source": [
    "### Esercizio - porta pazienza\n",
    "\n",
    "✪ Da una lista di stringhe, produrre una lista con le lunghezze di tutte le liste\n",
    "\n",
    "- INPUT: `['non', 'ti', 'preoccupare', 'e', 'porta', 'pazienza']`\n",
    "- OUTPUT: `[3,2,11,1,5,8]`"
   ]
  },
  {
   "cell_type": "raw",
   "id": "d2cd56a2",
   "metadata": {
    "format": "text/html"
   },
   "source": [
    "<a  class=\"jupman-sol jupman-sol-toggler\" \n",
    " onclick=\"jupman.toggleSolution(this);\" \n",
    " data-jupman-show=\"Mostra soluzione\" data-jupman-hide=\"Nascondi\">Mostra soluzione</a><div class=\"jupman-sol jupman-sol-code\" style=\"display:none\">  "
   ]
  },
  {
   "cell_type": "code",
   "execution_count": 63,
   "metadata": {},
   "outputs": [
    {
     "data": {
      "text/plain": [
       "[3, 2, 11, 1, 5, 8]"
      ]
     },
     "execution_count": 63,
     "metadata": {},
     "output_type": "execute_result"
    }
   ],
   "source": [
    "# scrivi qui\n",
    "[len(x) for x in ['non', 'ti', 'preoccupare', 'e', 'porta', 'pazienza']]"
   ]
  },
  {
   "cell_type": "raw",
   "id": "e427be75",
   "metadata": {
    "format": "text/html"
   },
   "source": [
    "</div>"
   ]
  },
  {
   "cell_type": "code",
   "execution_count": 63,
   "metadata": {},
   "outputs": [
    {
     "data": {
      "text/plain": [
       "[3, 2, 11, 1, 5, 8]"
      ]
     },
     "execution_count": 63,
     "metadata": {},
     "output_type": "execute_result"
    }
   ],
   "source": [
    "# scrivi qui\n",
    "\n"
   ]
  },
  {
   "cell_type": "markdown",
   "metadata": {},
   "source": [
    "### Esercizio -  maggiore 3\n",
    "\n",
    "✪ Data una lista di numeri, produrre una lista con `True` se il corrispondente elemento è maggiore di `3`, `False` altrimenti\n",
    "\n",
    "* INPUT:  `[4,1,0,5,0,9,1]`\n",
    "* OUTPUT: `[True, False, False, True, False, True, False]`"
   ]
  },
  {
   "cell_type": "raw",
   "id": "60249da3",
   "metadata": {
    "format": "text/html"
   },
   "source": [
    "<a  class=\"jupman-sol jupman-sol-toggler\" \n",
    " onclick=\"jupman.toggleSolution(this);\" \n",
    " data-jupman-show=\"Mostra soluzione\" data-jupman-hide=\"Nascondi\">Mostra soluzione</a><div class=\"jupman-sol jupman-sol-code\" style=\"display:none\">  "
   ]
  },
  {
   "cell_type": "code",
   "execution_count": 64,
   "metadata": {},
   "outputs": [
    {
     "data": {
      "text/plain": [
       "[True, False, False, True, False, True, False]"
      ]
     },
     "execution_count": 64,
     "metadata": {},
     "output_type": "execute_result"
    }
   ],
   "source": [
    "# scrivi qui\n",
    "[x > 3 for x in [4,1,0,5,0,9,1]]"
   ]
  },
  {
   "cell_type": "raw",
   "id": "4fc6a2e0",
   "metadata": {
    "format": "text/html"
   },
   "source": [
    "</div>"
   ]
  },
  {
   "cell_type": "code",
   "execution_count": 64,
   "metadata": {},
   "outputs": [
    {
     "data": {
      "text/plain": [
       "[True, False, False, True, False, True, False]"
      ]
     },
     "execution_count": 64,
     "metadata": {},
     "output_type": "execute_result"
    }
   ],
   "source": [
    "# scrivi qui\n",
    "\n"
   ]
  },
  {
   "cell_type": "markdown",
   "metadata": {},
   "source": [
    "### Esercizio - pari\n",
    "\n",
    "✪ Data una lista di numeri, produrre una lista con `True` se il corrispondente elemento è pari\n",
    "\n",
    "* INPUT:  `[3,2,4,1,5,3,2,9]`\n",
    "* OUTPUT: `[False, True, True, False, False, False, True, False]`"
   ]
  },
  {
   "cell_type": "raw",
   "id": "29dc202f",
   "metadata": {
    "format": "text/html"
   },
   "source": [
    "<a  class=\"jupman-sol jupman-sol-toggler\" \n",
    " onclick=\"jupman.toggleSolution(this);\" \n",
    " data-jupman-show=\"Mostra soluzione\" data-jupman-hide=\"Nascondi\">Mostra soluzione</a><div class=\"jupman-sol jupman-sol-code\" style=\"display:none\">  "
   ]
  },
  {
   "cell_type": "code",
   "execution_count": 65,
   "metadata": {},
   "outputs": [
    {
     "data": {
      "text/plain": [
       "[False, True, True, False, False, False, True, False]"
      ]
     },
     "execution_count": 65,
     "metadata": {},
     "output_type": "execute_result"
    }
   ],
   "source": [
    "# scrivi qui\n",
    "[x % 2 == 0 for x in [3,2,4,1,5,3,2,9]]"
   ]
  },
  {
   "cell_type": "raw",
   "id": "fe177c8a",
   "metadata": {
    "format": "text/html"
   },
   "source": [
    "</div>"
   ]
  },
  {
   "cell_type": "code",
   "execution_count": 65,
   "metadata": {},
   "outputs": [
    {
     "data": {
      "text/plain": [
       "[False, True, True, False, False, False, True, False]"
      ]
     },
     "execution_count": 65,
     "metadata": {},
     "output_type": "execute_result"
    }
   ],
   "source": [
    "# scrivi qui\n",
    "\n"
   ]
  },
  {
   "cell_type": "markdown",
   "metadata": {},
   "source": [
    "### Esercizio - capi\n",
    "\n",
    "✪ Data una lista di stringhe di almeno due caratteri, produrre una lista di stringhe con i primi e ultimi caratteri\n",
    "\n",
    "* INPUT: `['parto', 'per', 'il', 'fronte']`\n",
    "* OUTPUT: `['po', 'pr', 'il', 'fe']`"
   ]
  },
  {
   "cell_type": "raw",
   "id": "cf5bdedd",
   "metadata": {
    "format": "text/html"
   },
   "source": [
    "<a  class=\"jupman-sol jupman-sol-toggler\" \n",
    " onclick=\"jupman.toggleSolution(this);\" \n",
    " data-jupman-show=\"Mostra soluzione\" data-jupman-hide=\"Nascondi\">Mostra soluzione</a><div class=\"jupman-sol jupman-sol-code\" style=\"display:none\">  "
   ]
  },
  {
   "cell_type": "code",
   "execution_count": 66,
   "metadata": {},
   "outputs": [
    {
     "data": {
      "text/plain": [
       "['po', 'pr', 'il', 'fe']"
      ]
     },
     "execution_count": 66,
     "metadata": {},
     "output_type": "execute_result"
    }
   ],
   "source": [
    "# scrivi qui\n",
    "[x[0] + x[-1] for x in ['parto', 'per', 'il', 'fronte']]"
   ]
  },
  {
   "cell_type": "raw",
   "id": "88a71dc8",
   "metadata": {
    "format": "text/html"
   },
   "source": [
    "</div>"
   ]
  },
  {
   "cell_type": "code",
   "execution_count": 66,
   "metadata": {},
   "outputs": [
    {
     "data": {
      "text/plain": [
       "['po', 'pr', 'il', 'fe']"
      ]
     },
     "execution_count": 66,
     "metadata": {},
     "output_type": "execute_result"
    }
   ],
   "source": [
    "# scrivi qui\n",
    "\n"
   ]
  },
  {
   "cell_type": "markdown",
   "metadata": {},
   "source": [
    "### Esercizio - trattini\n",
    "\n",
    "✪ Data una lista di liste di caratteri, produrre una lista di stringhe con caratteri separati da trattini\n",
    "\n",
    "* INPUT: `[['a','b'],['c','d','e'], ['f','g']]`\n",
    "* OUTPUT: `['a-b', 'c-d-e', 'f-g']`"
   ]
  },
  {
   "cell_type": "raw",
   "id": "dd3adf74",
   "metadata": {
    "format": "text/html"
   },
   "source": [
    "<a  class=\"jupman-sol jupman-sol-toggler\" \n",
    " onclick=\"jupman.toggleSolution(this);\" \n",
    " data-jupman-show=\"Mostra soluzione\" data-jupman-hide=\"Nascondi\">Mostra soluzione</a><div class=\"jupman-sol jupman-sol-code\" style=\"display:none\">  "
   ]
  },
  {
   "cell_type": "code",
   "execution_count": 67,
   "metadata": {},
   "outputs": [
    {
     "data": {
      "text/plain": [
       "['a-b', 'c-d-e', 'f-g']"
      ]
     },
     "execution_count": 67,
     "metadata": {},
     "output_type": "execute_result"
    }
   ],
   "source": [
    "# scrivi qui\n",
    "['-'.join(x) for x in [['a','b'],['c','d','e'], ['f','g']]]"
   ]
  },
  {
   "cell_type": "raw",
   "id": "33a31b1c",
   "metadata": {
    "format": "text/html"
   },
   "source": [
    "</div>"
   ]
  },
  {
   "cell_type": "code",
   "execution_count": 67,
   "metadata": {},
   "outputs": [
    {
     "data": {
      "text/plain": [
       "['a-b', 'c-d-e', 'f-g']"
      ]
     },
     "execution_count": 67,
     "metadata": {},
     "output_type": "execute_result"
    }
   ],
   "source": [
    "# scrivi qui\n",
    "\n"
   ]
  },
  {
   "cell_type": "markdown",
   "metadata": {},
   "source": [
    "### Esercizio -  lollosa\n",
    "\n",
    "✪ Data una stringa `s`, produrre una lista di tuple avente per ogni carattere il numero di occorrenze del carattere nella stringa.\n",
    "\n",
    "* INPUT: `s = 'lollosa'`\n",
    "* OUTPUT: `[('l', 3), ('o', 2), ('l', 3), ('l', 3), ('o', 2), ('s', 1), ('a', 1)]`"
   ]
  },
  {
   "cell_type": "raw",
   "id": "cb2ba32a",
   "metadata": {
    "format": "text/html"
   },
   "source": [
    "<a  class=\"jupman-sol jupman-sol-toggler\" \n",
    " onclick=\"jupman.toggleSolution(this);\" \n",
    " data-jupman-show=\"Mostra soluzione\" data-jupman-hide=\"Nascondi\">Mostra soluzione</a><div class=\"jupman-sol jupman-sol-code\" style=\"display:none\">  "
   ]
  },
  {
   "cell_type": "code",
   "execution_count": 68,
   "metadata": {},
   "outputs": [
    {
     "data": {
      "text/plain": [
       "[('l', 3), ('o', 2), ('l', 3), ('l', 3), ('o', 2), ('s', 1), ('a', 1)]"
      ]
     },
     "execution_count": 68,
     "metadata": {},
     "output_type": "execute_result"
    }
   ],
   "source": [
    "s = 'lollosa'\n",
    "# scrivi qui\n",
    "[(car, s.count(car)) for car in s]"
   ]
  },
  {
   "cell_type": "raw",
   "id": "812222f4",
   "metadata": {
    "format": "text/html"
   },
   "source": [
    "</div>"
   ]
  },
  {
   "cell_type": "code",
   "execution_count": 68,
   "metadata": {},
   "outputs": [
    {
     "data": {
      "text/plain": [
       "[('l', 3), ('o', 2), ('l', 3), ('l', 3), ('o', 2), ('s', 1), ('a', 1)]"
      ]
     },
     "execution_count": 68,
     "metadata": {},
     "output_type": "execute_result"
    }
   ],
   "source": [
    "s = 'lollosa'\n",
    "# scrivi qui\n",
    "\n"
   ]
  },
  {
   "cell_type": "markdown",
   "metadata": {},
   "source": [
    "### Esercizio - cane gatto\n",
    "\n",
    "✪ Data una lista di stringhe, produrre una lista con le stringhe senza caratteri iniziale e finale\n",
    "\n",
    "* INPUT: `['bue','gatto','cane', 'mucca' ]`\n",
    "* OUTPUT: `['u', 'att', 'an', 'ucc']`"
   ]
  },
  {
   "cell_type": "raw",
   "id": "09bf0717",
   "metadata": {
    "format": "text/html"
   },
   "source": [
    "<a  class=\"jupman-sol jupman-sol-toggler\" \n",
    " onclick=\"jupman.toggleSolution(this);\" \n",
    " data-jupman-show=\"Mostra soluzione\" data-jupman-hide=\"Nascondi\">Mostra soluzione</a><div class=\"jupman-sol jupman-sol-code\" style=\"display:none\">  "
   ]
  },
  {
   "cell_type": "code",
   "execution_count": 69,
   "metadata": {},
   "outputs": [
    {
     "data": {
      "text/plain": [
       "['u', 'att', 'an', 'ucc']"
      ]
     },
     "execution_count": 69,
     "metadata": {},
     "output_type": "execute_result"
    }
   ],
   "source": [
    "# scrivi qui\n",
    "[x[1:-1] for x in ['bue','gatto','cane', 'mucca' ]]"
   ]
  },
  {
   "cell_type": "raw",
   "id": "130f1590",
   "metadata": {
    "format": "text/html"
   },
   "source": [
    "</div>"
   ]
  },
  {
   "cell_type": "code",
   "execution_count": 69,
   "metadata": {},
   "outputs": [
    {
     "data": {
      "text/plain": [
       "['u', 'att', 'an', 'ucc']"
      ]
     },
     "execution_count": 69,
     "metadata": {},
     "output_type": "execute_result"
    }
   ],
   "source": [
    "# scrivi qui\n",
    "\n"
   ]
  },
  {
   "cell_type": "markdown",
   "metadata": {},
   "source": [
    "### Esercizio - puffi\n",
    "\n",
    "✪ Dati dei nomi produrre una lista ordinata con i nomi in ordine alfabetico tutti in maiuscolo\n",
    "\n",
    "* INPUT: `['Quattrocchi', 'Forzuto', 'Puffetta', 'Tontolone']`\n",
    "* OUTPUT: `['FORZUTO', 'PUFFETTA', 'QUATTROCCHI', 'TONTOLONE']`"
   ]
  },
  {
   "cell_type": "raw",
   "id": "d76e9fc2",
   "metadata": {
    "format": "text/html"
   },
   "source": [
    "<a  class=\"jupman-sol jupman-sol-toggler\" \n",
    " onclick=\"jupman.toggleSolution(this);\" \n",
    " data-jupman-show=\"Mostra soluzione\" data-jupman-hide=\"Nascondi\">Mostra soluzione</a><div class=\"jupman-sol jupman-sol-code\" style=\"display:none\">  "
   ]
  },
  {
   "cell_type": "code",
   "execution_count": 70,
   "metadata": {},
   "outputs": [
    {
     "data": {
      "text/plain": [
       "['FORZUTO', 'PUFFETTA', 'QUATTROCCHI', 'TONTOLONE']"
      ]
     },
     "execution_count": 70,
     "metadata": {},
     "output_type": "execute_result"
    }
   ],
   "source": [
    "# scrivi qui\n",
    "[x.upper() for x in sorted(['Quattrocchi', 'Forzuto', 'Puffetta', 'Tontolone'])]"
   ]
  },
  {
   "cell_type": "raw",
   "id": "d581a777",
   "metadata": {
    "format": "text/html"
   },
   "source": [
    "</div>"
   ]
  },
  {
   "cell_type": "code",
   "execution_count": 70,
   "metadata": {},
   "outputs": [
    {
     "data": {
      "text/plain": [
       "['FORZUTO', 'PUFFETTA', 'QUATTROCCHI', 'TONTOLONE']"
      ]
     },
     "execution_count": 70,
     "metadata": {},
     "output_type": "execute_result"
    }
   ],
   "source": [
    "# scrivi qui\n",
    "\n"
   ]
  },
  {
   "cell_type": "markdown",
   "metadata": {},
   "source": [
    "### Esercizio - metalli preziosi\n",
    "\n",
    "✪ Date due liste `valori` e `metalli` produrre una lista contenente tutte le coppie valore metallo come tuple\n",
    "\n",
    "INPUT: \n",
    "```python\n",
    "valori = [10,25,50]\n",
    "metalli = ['argento','oro','platino']\n",
    "```\n",
    "\n",
    "OUTPUT: `[(10, 'argento'), (25, 'oro'), (50, 'platino')]`"
   ]
  },
  {
   "cell_type": "raw",
   "id": "21fcc2a0",
   "metadata": {
    "format": "text/html"
   },
   "source": [
    "<a  class=\"jupman-sol jupman-sol-toggler\" \n",
    " onclick=\"jupman.toggleSolution(this);\" \n",
    " data-jupman-show=\"Mostra soluzione\" data-jupman-hide=\"Nascondi\">Mostra soluzione</a><div class=\"jupman-sol jupman-sol-code\" style=\"display:none\">  "
   ]
  },
  {
   "cell_type": "code",
   "execution_count": 71,
   "metadata": {},
   "outputs": [
    {
     "data": {
      "text/plain": [
       "[(10, 'argento'), (25, 'oro'), (50, 'platino')]"
      ]
     },
     "execution_count": 71,
     "metadata": {},
     "output_type": "execute_result"
    }
   ],
   "source": [
    "valori = [10,25,50]\n",
    "metalli = ['argento','oro','platino']\n",
    "\n",
    "# scrivi qui\n",
    "list(zip(valori, metalli))"
   ]
  },
  {
   "cell_type": "raw",
   "id": "37486f82",
   "metadata": {
    "format": "text/html"
   },
   "source": [
    "</div>"
   ]
  },
  {
   "cell_type": "code",
   "execution_count": 71,
   "metadata": {},
   "outputs": [
    {
     "data": {
      "text/plain": [
       "[(10, 'argento'), (25, 'oro'), (50, 'platino')]"
      ]
     },
     "execution_count": 71,
     "metadata": {},
     "output_type": "execute_result"
    }
   ],
   "source": [
    "valori = [10,25,50]\n",
    "metalli = ['argento','oro','platino']\n",
    "\n",
    "# scrivi qui\n",
    "\n"
   ]
  },
  {
   "cell_type": "markdown",
   "metadata": {},
   "source": [
    "## List comprehension filtrate\n",
    "\n",
    "Durante la costruzione di una list comprehension è possibile filtrare gli elementi presi dalla sequenza che si sta esaminando utilizzando un `if`. Per esempio, l'espressione seguente considera dalla sequenza di numeri solo i numeri maggiori di cinque:"
   ]
  },
  {
   "cell_type": "code",
   "execution_count": 72,
   "metadata": {},
   "outputs": [
    {
     "data": {
      "text/plain": [
       "[7, 8, 9]"
      ]
     },
     "execution_count": 72,
     "metadata": {},
     "output_type": "execute_result"
    }
   ],
   "source": [
    "[x for x in [7,4,8,2,9] if x > 5]"
   ]
  },
  {
   "cell_type": "markdown",
   "metadata": {},
   "source": [
    "Dopo l'`if` possiamo mettere qualunque espressione che riusi la variabile su cui stiamo iterando, per esempio se stiamo iterando su una stringa possiamo trattenere solo i caratteri maiuscoli:"
   ]
  },
  {
   "cell_type": "code",
   "execution_count": 73,
   "metadata": {},
   "outputs": [
    {
     "data": {
      "text/plain": [
       "['I', 'M', 'G']"
      ]
     },
     "execution_count": 73,
     "metadata": {},
     "output_type": "execute_result"
    }
   ],
   "source": [
    "[x for x in 'Il Mondo Gira' if x.isupper()]"
   ]
  },
  {
   "cell_type": "markdown",
   "metadata": {},
   "source": [
    "<div class=\"alert alert-warning\">\n",
    "\n",
    "**ATTENZIONE: gli** `else` **non sono supportati**\n",
    "   \n",
    "</div>"
   ]
  },
  {
   "cell_type": "markdown",
   "metadata": {},
   "source": [
    "Per esempio, scrivere questo genera un errore:\n",
    "    \n",
    "```python\n",
    "[x for x in [7,4,8,2,9] if x > 5 else x + 1]   # SBAGLIATO!\n",
    "\n",
    "File \"<ipython-input-74-9ba5c135c58c>\", line 1\n",
    "    [x for x in [7,4,8,2,9] if x > 5 else x + 1]\n",
    "                                        ^\n",
    "SyntaxError: invalid syntax\n",
    "\n",
    "```\n"
   ]
  },
  {
   "cell_type": "markdown",
   "metadata": {},
   "source": [
    "\n",
    "## Domande list comprehension filtrate\n",
    "\n",
    "Guarda i seguenti frammenti di codice, e per ciascuno cerca di indovinare quale risultato produce (o se da errore):\n",
    "\n",
    "\n",
    "1.  ```python\n",
    "    [x for x in range(100) if False]\n",
    "    ```\n",
    "1.  ```python\n",
    "    [x for x in range(3) if True]\n",
    "    ```\n",
    "1.  ```python\n",
    "    [x for x in range(6) if x > 3 else 55]\n",
    "    ```\n",
    "1.  ```python\n",
    "    [x for x in range(6) if x % 2 == 0]\n",
    "    ```\n",
    "1.  ```python\n",
    "    [x for x in {'a','b','c'}]  # occhio all'ordine\n",
    "    ```\n",
    "1.  ```python\n",
    "    [x for x in [[5], [2,3], [4,2,3], [4]] if len(x) > 2]  \n",
    "    ```\n",
    "1.  ```python\n",
    "    [(x,x) for x in 'xyxyxxy' if x != 'x' ]\n",
    "    ```\n",
    "1.  ```python\n",
    "    [x for x in ['abCdEFg'] if x.upper() == x]\n",
    "    ```\n",
    "1.  ```python\n",
    "    la = [1,2,3,4,5]\n",
    "    [x for x in la if x > la[len(la)//2]]\n",
    "    ```\n"
   ]
  },
  {
   "cell_type": "markdown",
   "metadata": {},
   "source": [
    "## Esercizi - list comprehension filtrate\n"
   ]
  },
  {
   "cell_type": "markdown",
   "metadata": {},
   "source": [
    "### Esercizio - savana\n",
    "\n",
    "Data una lista di stringhe, produrre una lista con solo le stringhe di lunghezza maggiore di 6\n",
    "\n",
    "* INPUT: `['zebra', 'leopardo', 'giraffa', 'gnu', 'rinoceronte', 'leone']`\n",
    "* OUTPUT: `['leopardo', 'giraffa', 'rinoceronte']`"
   ]
  },
  {
   "cell_type": "raw",
   "id": "23ed8d12",
   "metadata": {
    "format": "text/html"
   },
   "source": [
    "<a  class=\"jupman-sol jupman-sol-toggler\" \n",
    " onclick=\"jupman.toggleSolution(this);\" \n",
    " data-jupman-show=\"Mostra soluzione\" data-jupman-hide=\"Nascondi\">Mostra soluzione</a><div class=\"jupman-sol jupman-sol-code\" style=\"display:none\">  "
   ]
  },
  {
   "cell_type": "code",
   "execution_count": 74,
   "metadata": {},
   "outputs": [
    {
     "data": {
      "text/plain": [
       "['leopardo', 'giraffa', 'rinoceronte']"
      ]
     },
     "execution_count": 74,
     "metadata": {},
     "output_type": "execute_result"
    }
   ],
   "source": [
    "# scrivi qui\n",
    "[x for x in ['zebra', 'leopardo', 'giraffa', 'gnu', 'rinoceronte', 'leone'] if len(x) > 6]"
   ]
  },
  {
   "cell_type": "raw",
   "id": "0b4db0fd",
   "metadata": {
    "format": "text/html"
   },
   "source": [
    "</div>"
   ]
  },
  {
   "cell_type": "code",
   "execution_count": 74,
   "metadata": {},
   "outputs": [
    {
     "data": {
      "text/plain": [
       "['leopardo', 'giraffa', 'rinoceronte']"
      ]
     },
     "execution_count": 74,
     "metadata": {},
     "output_type": "execute_result"
    }
   ],
   "source": [
    "# scrivi qui\n",
    "\n"
   ]
  },
  {
   "cell_type": "markdown",
   "metadata": {},
   "source": [
    "### Esercizio - barZa\n",
    "\n",
    "Data una lista di stringhe, produrre una lista con solo le stringhe che contengono almeno una `'z'`. Le stringhe selezionate vanno trasformate in modo da mettere la `Z` in maiuscolo.\n",
    "\n",
    "* INPUT: `['barza', 'palco','porzione', 'corsa', 'maschera', 'zona']`\n",
    "* OUTPUT: `['barZa', 'porZione', 'Zona']`"
   ]
  },
  {
   "cell_type": "raw",
   "id": "e225daeb",
   "metadata": {
    "format": "text/html"
   },
   "source": [
    "<a  class=\"jupman-sol jupman-sol-toggler\" \n",
    " onclick=\"jupman.toggleSolution(this);\" \n",
    " data-jupman-show=\"Mostra soluzione\" data-jupman-hide=\"Nascondi\">Mostra soluzione</a><div class=\"jupman-sol jupman-sol-code\" style=\"display:none\">  "
   ]
  },
  {
   "cell_type": "code",
   "execution_count": 75,
   "metadata": {},
   "outputs": [
    {
     "data": {
      "text/plain": [
       "['barZa', 'porZione', 'Zona']"
      ]
     },
     "execution_count": 75,
     "metadata": {},
     "output_type": "execute_result"
    }
   ],
   "source": [
    "# scrivi qui\n",
    "[x.replace('z','Z') for x in ['barza', 'palco','porzione', 'corsa', 'maschera', 'zona'] if 'z' in  x]"
   ]
  },
  {
   "cell_type": "raw",
   "id": "888949b9",
   "metadata": {
    "format": "text/html"
   },
   "source": [
    "</div>"
   ]
  },
  {
   "cell_type": "code",
   "execution_count": 75,
   "metadata": {},
   "outputs": [
    {
     "data": {
      "text/plain": [
       "['barZa', 'porZione', 'Zona']"
      ]
     },
     "execution_count": 75,
     "metadata": {},
     "output_type": "execute_result"
    }
   ],
   "source": [
    "# scrivi qui\n",
    "\n"
   ]
  },
  {
   "cell_type": "markdown",
   "metadata": {},
   "source": [
    "\n",
    "## Esercizio - Data science\n",
    "\n",
    "Produrre una stringa con le parole della stringa in ingresso alternate maiuscolo / minuscolo\n",
    "\n",
    "* INPUT: "
   ]
  },
  {
   "cell_type": "code",
   "execution_count": 76,
   "metadata": {},
   "outputs": [],
   "source": [
    "frase = \"\"\"La data science è l'insieme di principi metodologici\n",
    "basati sul metodo scientifico e di tecniche multidisciplinari\n",
    "volto a interpretare ed estrarre conoscenza dai dati attraverso\n",
    "la relativa fase di analisi\"\"\""
   ]
  },
  {
   "cell_type": "markdown",
   "metadata": {},
   "source": [
    "* OUTPUT (su una sola linea):\n",
    "```\n",
    "LA data SCIENCE è L'INSIEME di PRINCIPI metodologici\n",
    "BASATI sul METODO scientifico E di TECNICHE multidisciplinari\n",
    "VOLTO a INTERPRETARE ed ESTRARRE conoscenza DAI dati ATTRAVERSO\n",
    "la RELATIVA fase DI analisi\n",
    "```\n",
    "\n",
    "✪✪✪ **SCRIVI** UNA SOLA linea di codice \n",
    "\n",
    "✪✪✪✪ **USA** con UNA SOLA comprehension\n"
   ]
  },
  {
   "cell_type": "raw",
   "id": "9bf7b1f1",
   "metadata": {
    "format": "text/html"
   },
   "source": [
    "<a  class=\"jupman-sol jupman-sol-toggler\" \n",
    " onclick=\"jupman.toggleSolution(this);\" \n",
    " data-jupman-show=\"Mostra soluzione\" data-jupman-hide=\"Nascondi\">Mostra soluzione</a><div class=\"jupman-sol jupman-sol-code\" style=\"display:none\">  "
   ]
  },
  {
   "cell_type": "code",
   "execution_count": 77,
   "metadata": {},
   "outputs": [
    {
     "name": "stdout",
     "output_type": "stream",
     "text": [
      "LA data SCIENCE è L'INSIEME di PRINCIPI metodologici BASATI sul METODO scientifico E di TECNICHE multidisciplinari VOLTO a INTERPRETARE ed ESTRARRE conoscenza DAI dati ATTRAVERSO la RELATIVA fase DI analisi\n"
     ]
    }
   ],
   "source": [
    "\n",
    "frase = \"\"\"La data science è l'insieme di principi metodologici\n",
    "basati sul metodo scientifico e di tecniche multidisciplinari\n",
    "volto a interpretare ed estrarre conoscenza dai dati attraverso\n",
    "la relativa fase di analisi\"\"\"\n",
    "\n",
    "# scrivi qui\n",
    "\n",
    "print(' '.join(\n",
    "    [t[0].upper() + ' ' + t[1] for t in  zip(frase.split()[::2], frase.split()[1::2])]))\n",
    "\n",
    "# oppure \n",
    "#print(' '.join([frase.split()[i].upper() + ' ' + frase.split()[i + 1] for i in range(0,len(frase.split())-1,2)]))"
   ]
  },
  {
   "cell_type": "raw",
   "id": "f42620b6",
   "metadata": {
    "format": "text/html"
   },
   "source": [
    "</div>"
   ]
  },
  {
   "cell_type": "code",
   "execution_count": 77,
   "metadata": {},
   "outputs": [],
   "source": [
    "\n",
    "frase = \"\"\"La data science è l'insieme di principi metodologici\n",
    "basati sul metodo scientifico e di tecniche multidisciplinari\n",
    "volto a interpretare ed estrarre conoscenza dai dati attraverso\n",
    "la relativa fase di analisi\"\"\"\n",
    "\n",
    "# scrivi qui\n",
    "\n"
   ]
  },
  {
   "cell_type": "markdown",
   "metadata": {},
   "source": [
    "## Prosegui\n",
    "\n",
    "Continua con le [challenges](https://it.softpython.org/sequences/sequences2-chal.html)"
   ]
  }
 ],
 "metadata": {
  "kernelspec": {
   "display_name": "Python 3",
   "language": "python",
   "name": "python3"
  },
  "language_info": {
   "codemirror_mode": {
    "name": "ipython",
    "version": 3
   },
   "file_extension": ".py",
   "mimetype": "text/x-python",
   "name": "python",
   "nbconvert_exporter": "python",
   "pygments_lexer": "ipython3",
   "version": "3.7.10"
  },
  "toc": {
   "base_numbering": 1,
   "nav_menu": {},
   "number_sections": false,
   "sideBar": true,
   "skip_h1_title": false,
   "title_cell": "Table of Contents",
   "title_sidebar": "Contents",
   "toc_cell": false,
   "toc_position": {
    "height": "calc(100% - 180px)",
    "left": "10px",
    "top": "150px",
    "width": "280px"
   },
   "toc_section_display": true,
   "toc_window_display": false
  }
 },
 "nbformat": 4,
 "nbformat_minor": 2
}

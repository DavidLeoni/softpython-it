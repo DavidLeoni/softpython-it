{
 "cells": [
  {
   "cell_type": "markdown",
   "id": "worst-going",
   "metadata": {},
   "source": [
    "# Sequenze 2 Challenges -\n",
    "\n",
    "## [Scarica zip esercizi](../_static/generated/sequences.zip)\n",
    "\n",
    "[Naviga file online](https://github.com/DavidLeoni/softpython-it/tree/master/sequences)"
   ]
  },
  {
   "cell_type": "markdown",
   "id": "impossible-cambodia",
   "metadata": {},
   "source": [
    "Proponiamo ora degli esercizi senza soluzione, accetti la sfida? "
   ]
  },
  {
   "cell_type": "markdown",
   "id": "political-cooperative",
   "metadata": {},
   "source": [
    "## Sfida - Hattori Hanzō\n",
    "\n",
    "✪ Requisiti: list comprehensions, stringhe\n",
    "\n",
    "Da oggi, sei un ninja Python. \n",
    "\n",
    "Dimostrerai il tuo valore esibendo maestria nell'uso delle _sequenze_, l'arma più elegante che solo i veri discepoli della _Via del Coding_ riescono a brandire con disinvoltura. \n",
    "     \n",
    "* **NON** usare cicli `for` o `while`\n",
    "* **NON** usare metodi delle liste\n",
    "* **USA UNA** sola riga\n",
    "\n",
    "Esempio - data: \n",
    "\n",
    "```python\n",
    "stringa = \"Hattori Hanzō è un famoso ninja giapponese del periodo Sengoku\"\n",
    "```\n",
    "\n",
    "il tuo codice deve produrre:\n",
    "\n",
    "```python\n",
    "['Hattori',\n",
    " 'Hanzō',\n",
    " 'È',\n",
    " 'Un',\n",
    " 'Famoso',\n",
    " 'Ninja',\n",
    " 'Giapponese',\n",
    " 'Del',\n",
    " 'Periodo',\n",
    " 'Sengoku']\n",
    "```"
   ]
  },
  {
   "cell_type": "code",
   "execution_count": 1,
   "id": "under-triangle-stripped",
   "metadata": {},
   "outputs": [],
   "source": [
    "\n",
    "stringa = \"Hattori Hanzō è un famoso ninja giapponese del periodo Sengoku\"\n",
    "#stringa = \"Ebbe un ruolo chiave nell'unificazione del Giappone.\"\n",
    "\n",
    "# scrivi qui\n",
    "\n"
   ]
  },
  {
   "cell_type": "markdown",
   "id": "introductory-fireplace",
   "metadata": {},
   "source": [
    "## Sfida - Elettromania\n",
    "\n",
    "✪✪ Produce una sequenza con tutti i nomi dei componenti con almeno 4 pezzi\n",
    "\n",
    "- **NON USARE** cicli `for` o `while`\n",
    "- **USA UNA** sola list comprehension\n",
    "- il tuo codice deve stare in una riga sola\n",
    "\n",
    "INPUT: `[('condensatore', 8), ('resistenza',4), ('led',5), ('diodo',1), ('trasduttore',2), \n",
    "         ('transistor',12) , ('sensore',3),('solenoide',10)]`\n",
    "\n",
    "OUTPUT: `['condensatore', 'led', 'transistor' 'solenoide']`\n"
   ]
  },
  {
   "cell_type": "code",
   "execution_count": 2,
   "id": "massive-channel-stripped",
   "metadata": {},
   "outputs": [],
   "source": [
    "\n",
    "circuito = [('condensatore', 8), ('resistenza',4), ('led',5), ('diodo',1), ('trasduttore',2),\n",
    "            ('transistor',12) , ('sensore',3),('solenoide',10)]\n",
    "\n",
    "# scrivi qui\n",
    "\n"
   ]
  },
  {
   "cell_type": "markdown",
   "id": "prescribed-comfort",
   "metadata": {},
   "source": [
    "## Sfida - Guardaroba\n",
    "\n",
    "✪✪ Produce una sequenza di stringhe da due di input\n",
    "\n",
    "- **NON** usare `range`\n",
    "- **USA UNA** sola list comprehension\n",
    "- il tuo codice deve stare in una riga sola\n",
    "\n",
    "Esempio - data:\n",
    "\n",
    "```python\n",
    "indumenti = ['cappotti', 'giacconi', 'mantelli', 'ventine']\n",
    "capi = [9,5,7,3]\n",
    "```\n",
    "\n",
    "Il tuo codice deve produrre:\n",
    "\n",
    "```python\n",
    "['ci sono 9 cappotti', 'ci sono 5 giacconi', 'ci sono 7 mantelli', \n",
    " 'ci sono 3 ventine']\n",
    "```"
   ]
  },
  {
   "cell_type": "code",
   "execution_count": 3,
   "id": "handled-israeli-stripped",
   "metadata": {},
   "outputs": [],
   "source": [
    "\n",
    "indumenti = ['cappotti', 'giacconi', 'mantelli', 'ventine']\n",
    "capi = [9,5,7,3]\n",
    "\n",
    "# scrivi qui\n",
    "\n"
   ]
  },
  {
   "cell_type": "markdown",
   "id": "governing-military",
   "metadata": {},
   "source": [
    "## Sfida - Por el suelo\n",
    "\n",
    "✪✪ Requisiti: list comprehensions, range\n",
    "\n",
    "\n",
    "Data una `frase` di n parole, scrivi del codice che produce una NUOVA lista di n tuple di numeri. Ogni tupla conterrà numeri da 1 a k, dove k è la lunghezza della parola corrispondente.\n",
    "\n",
    "- **NON USARE** cicli `for` o `while`\n",
    "- **USA UNA** sola list comprehension\n",
    "- il tuo codice deve stare in una riga sola\n",
    "\n",
    "Esempio - data: "
   ]
  },
  {
   "cell_type": "code",
   "execution_count": 4,
   "id": "human-period",
   "metadata": {},
   "outputs": [],
   "source": [
    "frase = ['Por', 'el', 'suelo', 'camina', 'mi', 'pueblo']"
   ]
  },
  {
   "cell_type": "markdown",
   "id": "physical-defensive",
   "metadata": {},
   "source": [
    "produce (gli a capo non importano)\n",
    "\n",
    "```python\n",
    "[(1, 2, 3),\n",
    " (1, 2),\n",
    " (1, 2, 3, 4, 5),\n",
    " (1, 2, 3, 4, 5, 6),\n",
    " (1, 2),\n",
    " (1, 2, 3, 4, 5, 6)]\n",
    "```"
   ]
  },
  {
   "cell_type": "code",
   "execution_count": 5,
   "id": "disturbed-junior-stripped",
   "metadata": {},
   "outputs": [],
   "source": [
    "\n",
    "frase = ['Por', 'el', 'suelo', 'camina', 'mi', 'pueblo']\n",
    "\n",
    "#frase = ['Esperando', 'la', 'ultima', 'ola']  \n",
    "# produce:  [(0, 1, 2, 3, 4, 5, 6, 7, 8), (0, 1), (0, 1, 2, 3, 4, 5), (0, 1, 2)]\n",
    "\n",
    "# scrivi qui\n",
    "\n"
   ]
  },
  {
   "cell_type": "markdown",
   "id": "legislative-builder",
   "metadata": {},
   "source": [
    "## Sfida - Strambilia\n",
    "\n",
    "✪✪ Requisiti: list comprehension, zip\n",
    "\n",
    "Si narra che la valle incantata di Strambilia sia popolata da innumerevoli specie fantastiche. La leggenda dice che chi riuscirà a nominarle tutte riceverà il fantomatico _Dono Del Coding_.\n",
    "\n",
    "Nelle tue ricerche trovi un'antichissima pergamena che recita una lista delle specie, ma ahimè scopri che è  incorretta. Per ottenere la lista giusta, vi sono allegate delle strane istruzioni:\n",
    "\n",
    "> Per ogni nome ottenere le prime 4 lettere e combinarle con le lettere dopo la quarta trovate nel nome corrispondente della lista rovesciata\n",
    "\n",
    "- **NON USARE** cicli `for` o `while`\n",
    "- **NON USARE** metodi delle liste (quindi niente `.reverse()` !)\n",
    "\n",
    "Scrivi del codice che produce una NUOVA lista.\n",
    "\n",
    "Esempio - data:"
   ]
  },
  {
   "cell_type": "code",
   "execution_count": 6,
   "id": "reduced-humor",
   "metadata": {},
   "outputs": [],
   "source": [
    "fauna = [\"cippimerli\",\n",
    "         \"gufolanti\",\n",
    "         \"branchisauri\",\n",
    "         \"cumulognembi\",\n",
    "         \"arzigovolanti\",\n",
    "         \"rotototteri\",\n",
    "         \"barbagianni\"]"
   ]
  },
  {
   "cell_type": "markdown",
   "id": "ongoing-climate",
   "metadata": {},
   "source": [
    "il tuo codice deve produrre:\n",
    "\n",
    "```python\n",
    "['cippagianni',\n",
    " 'gufototteri',\n",
    " 'brangovolanti',\n",
    " 'cumulognembi',\n",
    " 'arzichisauri',\n",
    " 'rotolanti',\n",
    " 'barbimerli']\n",
    "```"
   ]
  },
  {
   "cell_type": "code",
   "execution_count": 7,
   "id": "selective-education-stripped",
   "metadata": {},
   "outputs": [],
   "source": [
    "\n",
    "fauna = [\"cippimerli\",\"gufolanti\",\"branchisauri\",\"cumulognembi\",\"arzigovolanti\",\"rotototteri\",\"barbagianni\"]\n",
    "#produce: ['cippagianni','gufototteri','brangovolanti','cumulognembi','arzichisauri','rotolanti','barbimerli']\n",
    "\n",
    "#fauna = [\"ciospoloni\", \"sgarapirri\", \"rimbalammi\", \"tontoolonti\", \"zerbalonti\", \"gnampirilli\"]\n",
    "#produce:  ['ciospirilli', 'sgaralonti','rimboolonti','tontalammi','zerbapirri','gnampoloni']\n",
    "\n",
    "# scrivi qui\n",
    "\n"
   ]
  },
  {
   "cell_type": "code",
   "execution_count": 8,
   "id": "aggregate-webster-stripped",
   "metadata": {
    "nbsphinx": "hidden"
   },
   "outputs": [],
   "source": []
  }
 ],
 "metadata": {
  "kernelspec": {
   "display_name": "Python 3 (ipykernel)",
   "language": "python",
   "name": "python3"
  },
  "language_info": {
   "codemirror_mode": {
    "name": "ipython",
    "version": 3
   },
   "file_extension": ".py",
   "mimetype": "text/x-python",
   "name": "python",
   "nbconvert_exporter": "python",
   "pygments_lexer": "ipython3",
   "version": "3.7.13"
  },
  "toc": {
   "base_numbering": 1,
   "nav_menu": {},
   "number_sections": false,
   "sideBar": true,
   "skip_h1_title": false,
   "title_cell": "Table of Contents",
   "title_sidebar": "Contents",
   "toc_cell": false,
   "toc_position": {},
   "toc_section_display": true,
   "toc_window_display": true
  }
 },
 "nbformat": 4,
 "nbformat_minor": 5
}

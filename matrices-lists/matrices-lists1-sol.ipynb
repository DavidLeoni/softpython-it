{
 "cells": [
  {
   "cell_type": "code",
   "execution_count": 1,
   "metadata": {
    "nbsphinx": "hidden"
   },
   "outputs": [],
   "source": [
    "#######   ATTENZIONE: ESEGUI QUESTA CELLA CON Control+Invio   #############\n",
    "import jupman;"
   ]
  },
  {
   "cell_type": "markdown",
   "metadata": {},
   "source": [
    "# Matrici - Liste di liste 1 - Introduzione\n",
    "\n",
    "## [Scarica zip esercizi](../_static/generated/matrices-lists.zip)\n",
    "\n",
    "[Naviga file online](https://github.com/DavidLeoni/softpython-it/tree/master/matrices-lists)\n",
    "\n",
    "\n",
    "<div class=\"alert alert-warning\">\n",
    "\n",
    "**ATTENZIONE**\n",
    "\n",
    "Gli esercizi che seguono contengono dei test con gli _assert_. Per capire come svolgerli, leggi prima [Gestione errori e testing](https://it.softpython.org/errors-and-testing/errors-and-testing-sol.html) \n",
    "\n",
    "</div>\n",
    "\n",
    "\n"
   ]
  },
  {
   "cell_type": "markdown",
   "metadata": {},
   "source": [
    "\n",
    "Ci sono sostanzialmente due modi in Python di rappresentare matrici: come liste di liste, oppure con la libreria esterna [numpy](https://www.numpy.org). La più usata è sicuramente numpy ma noi tratteremo comunque entrambi i modi. Vediamo il motivo e le principali differenze:\n",
    "\n",
    "**Liste di liste** - esercizi in questo foglio:\n",
    "\n",
    "1. native in Python\n",
    "2. non efficienti\n",
    "3. le liste sono pervasive in Python, probabilmente incontrerai matrici espresse come liste di liste in ogni caso\n",
    "4. forniscono un'idea di come costruire una struttura dati annidata\n",
    "5. possono servire per comprendere concetti importanti come puntatori alla memoria e copie \n",
    "\n",
    "\n",
    "**Numpy** - vedere foglio separato [Matrici Numpy](https://it.softpython.org/matrices-numpy/matrices-numpy-sol.html): \n",
    "\n",
    "1. non nativamente disponibile in Python\n",
    "2. efficiente\n",
    "3. alla base di parecchie librerie di calcolo scientifico (scipy, pandas)\n",
    "4. la sintassi per accedere agli elementi è lievemente diversa da quella delle liste di liste \n",
    "5. in alcuni rari casi potrebbe portare problemi di installazione e/o conflitti (l'implementazione non è puro Python)\n",
    "\n"
   ]
  },
  {
   "cell_type": "markdown",
   "metadata": {},
   "source": [
    "### Che fare\n",
    "\n",
    "- scompatta lo zip in una cartella, dovresti ottenere qualcosa del genere: \n",
    "\n",
    "```\n",
    "\n",
    "matrices-lists\n",
    "    matrices-lists1.ipynb\n",
    "    matrices-lists1-sol.ipynb\n",
    "    matrices-lists2.ipynb\n",
    "    matrices-lists2-sol.ipynb    \n",
    "    matrices-lists3-chal.ipynb\n",
    "    jupman.py     \n",
    "```\n",
    "\n",
    "<div class=\"alert alert-warning\">\n",
    "\n",
    "**ATTENZIONE**: Per essere visualizzato correttamente, il file del notebook DEVE essere nella cartella szippata.\n",
    "</div>\n",
    "\n",
    "- apri il Jupyter Notebook da quella cartella. Due cose dovrebbero aprirsi, prima una console e poi un browser. Il browser dovrebbe mostrare una lista di file: naviga la lista e apri il notebook `matrices-lists1.ipynb`\n",
    "- Prosegui leggendo il file degli esercizi, ogni tanto al suo interno troverai delle scritte **ESERCIZIO**, che ti chiederanno di scrivere dei comandi Python nelle celle successive.\n",
    "\n",
    "\n",
    "<div class=\"alert alert-warning\">\n",
    "\n",
    "**ATTENZIONE**: Ricordati di eseguire sempre la prima cella dentro il notebook. Contiene delle istruzioni come `import jupman` che dicono a Python quali moduli servono e dove trovarli. Per eseguirla, vedi le seguenti scorciatoie\n",
    "</div>\n",
    "\n",
    "\n",
    "\n",
    "Scorciatoie da tastiera:\n",
    "\n",
    "* Per eseguire il codice Python dentro una cella di Jupyter, premi `Control+Invio`\n",
    "* Per eseguire il codice Python dentro una cella di Jupyter E selezionare la cella seguente, premi `Shift+Invio`\n",
    "* Per eseguire il codice Python dentro una cella di Jupyter E creare una nuova cella subito dopo, premi `Alt+Invio`\n",
    "* Se per caso il Notebook sembra inchiodato, prova a selezionare `Kernel -> Restart`\n",
    "\n"
   ]
  },
  {
   "cell_type": "markdown",
   "metadata": {},
   "source": [
    "## Le celle in memoria\n",
    "\n",
    "Vediamo queste liste di liste. Per esempio, possiamo considerare la seguente matrice con 3 righe e 2 colonne, in breve una matrice 3x2:"
   ]
  },
  {
   "cell_type": "code",
   "execution_count": 2,
   "metadata": {},
   "outputs": [],
   "source": [
    "m = [\n",
    "        ['a','b'],\n",
    "        ['c','d'],\n",
    "        ['a','e']    \n",
    "    ]"
   ]
  },
  {
   "cell_type": "markdown",
   "metadata": {},
   "source": [
    "Per convenienza, assumiamo come input per le nostre funzioni non ci saranno matrici senza righe, o righe senza colonne. "
   ]
  },
  {
   "cell_type": "markdown",
   "metadata": {},
   "source": [
    "Tornando all'esempio, in pratica abbiamo una grande matrice esterna:\n",
    "\n",
    "```python\n",
    "m = [\n",
    "\n",
    "\n",
    "]\n",
    "```\n",
    "e ciascuno dei suoi elementi è un'altra lista che rappresenta una riga:\n",
    "\n",
    "\n",
    "```python\n",
    "m = [\n",
    "        ['a','b'],\n",
    "        ['c','d'],\n",
    "        ['a','e']\n",
    "    ]\n",
    "```\n",
    "\n",
    "Quindi, per accedere la prima riga`['a','b']`, semplicemente accediamo all'elemento all'indice 0 della lista esterna `m`:"
   ]
  },
  {
   "cell_type": "code",
   "execution_count": 3,
   "metadata": {},
   "outputs": [
    {
     "data": {
      "text/plain": [
       "['a', 'b']"
      ]
     },
     "execution_count": 3,
     "metadata": {},
     "output_type": "execute_result"
    }
   ],
   "source": [
    "m[0]"
   ]
  },
  {
   "cell_type": "markdown",
   "metadata": {},
   "source": [
    "Per accedere alla seconda riga intera `['c','d']`, accediamo all'elemento avete indice 1 della lista esterna `m`:"
   ]
  },
  {
   "cell_type": "code",
   "execution_count": 4,
   "metadata": {},
   "outputs": [
    {
     "data": {
      "text/plain": [
       "['c', 'd']"
      ]
     },
     "execution_count": 4,
     "metadata": {},
     "output_type": "execute_result"
    }
   ],
   "source": [
    "m[1]"
   ]
  },
  {
   "cell_type": "markdown",
   "metadata": {},
   "source": [
    "Per accedere alla terza riga intera `['c', 'd']`, accediamo all'elemento ad indice 2 della lista esterna `m`:"
   ]
  },
  {
   "cell_type": "code",
   "execution_count": 5,
   "metadata": {},
   "outputs": [
    {
     "data": {
      "text/plain": [
       "['a', 'e']"
      ]
     },
     "execution_count": 5,
     "metadata": {},
     "output_type": "execute_result"
    }
   ],
   "source": [
    "m[2]"
   ]
  },
  {
   "cell_type": "markdown",
   "metadata": {},
   "source": [
    "Per accedere al primo elemento `'a'` della prima riga  `['a','b']` aggiungiamo un altro cosiddetto \"subscript operator\" con indice `0`:"
   ]
  },
  {
   "cell_type": "code",
   "execution_count": 6,
   "metadata": {},
   "outputs": [
    {
     "data": {
      "text/plain": [
       "'a'"
      ]
     },
     "execution_count": 6,
     "metadata": {},
     "output_type": "execute_result"
    }
   ],
   "source": [
    "m[0][0]"
   ]
  },
  {
   "cell_type": "markdown",
   "metadata": {},
   "source": [
    "Per accedere il secondo elemento `'b'` della prima riga `['a','b']` usiamo invece indice `1` :"
   ]
  },
  {
   "cell_type": "code",
   "execution_count": 7,
   "metadata": {},
   "outputs": [
    {
     "data": {
      "text/plain": [
       "'b'"
      ]
     },
     "execution_count": 7,
     "metadata": {},
     "output_type": "execute_result"
    }
   ],
   "source": [
    "m[0][1]"
   ]
  },
  {
   "cell_type": "markdown",
   "metadata": {},
   "source": [
    "<div class=\"alert alert-warning\" >\n",
    "\n",
    "**ATTENZIONE**: Quando una matrice è una lista di liste, puoi solo accedere valori con notazione `m[i][j]`, **NON** con `m[i,j]` !!\n",
    "</div>"
   ]
  },
  {
   "cell_type": "code",
   "execution_count": 8,
   "metadata": {},
   "outputs": [],
   "source": [
    "# scrivi qui la notazione sbagliata m[0,0] e guarda che errore ottieni:\n"
   ]
  },
  {
   "cell_type": "markdown",
   "metadata": {},
   "source": [
    "\n",
    "Adesso implementa le funzioni seguenti.\n",
    "\n",
    "<div class=\"alert alert-info\">\n",
    "\n",
    "**RICORDA**: se la cella è eseguita e non succede niente, è perchè tutti i test degli assert sono passati ! In questo caso il tuo codice è probabilmente corretto ma attenzione, questo tipo di test non sono mai esaustivi perciò potrebbero comunque esserci errori.\n",
    "</div>\n",
    "\n",
    "<div class=\"alert alert-info\" >\n",
    "\n",
    "[III COMANDAMENTO](https://it.softpython.org/commandments.html#III-COMANDAMENTO): **Non riassegnerai mai parametri di funzione**\n",
    "</div>\n",
    "\n",
    "\n",
    "<div class=\"alert alert-info\" >\n",
    "\n",
    "[VI COMANDAMENTO](https://it.softpython.org/commandments.html#VI-COMANDAMENTO): **Userai il comando** `return` **solo se vedi scritto \"return\" nella descrizione della funzione!**\n",
    "</div>\n",
    "\n",
    "\n"
   ]
  },
  {
   "cell_type": "markdown",
   "metadata": {},
   "source": [
    "## Esercizio - Dimensioni della matrice\n",
    "\n",
    "✪ Per prendere le dimensioni della matrice, possiamo usare normali operazioni su lista. Quali? Puoi assumere che la matrice sia ben formata (tutte le righe hanno lunghezza uguale) e almeno una riga e almeno una colonna."
   ]
  },
  {
   "cell_type": "code",
   "execution_count": 9,
   "metadata": {},
   "outputs": [],
   "source": [
    "m = [\n",
    "        ['a','b'],\n",
    "        ['c','d'],\n",
    "        ['a','e']    \n",
    "    ]"
   ]
  },
  {
   "cell_type": "raw",
   "id": "52aeccf5",
   "metadata": {
    "format": "text/html"
   },
   "source": [
    "<a  class=\"jupman-sol jupman-sol-toggler\" \n",
    " onclick=\"jupman.toggleSolution(this);\" \n",
    " data-jupman-show=\"Mostra soluzione\" data-jupman-hide=\"Nascondi\">Mostra soluzione</a><div class=\"jupman-sol jupman-sol-code\" style=\"display:none\">  "
   ]
  },
  {
   "cell_type": "code",
   "execution_count": 10,
   "metadata": {},
   "outputs": [
    {
     "name": "stdout",
     "output_type": "stream",
     "text": [
      "righe\n",
      "3\n",
      "colonne\n",
      "2\n"
     ]
    }
   ],
   "source": [
    "# scrivi qui il codice per stampare righe e colonne\n",
    "\n",
    "# la lista esterna è una lista di righe, perciò per contarle usiamo \n",
    "# semplicemente len(m)\n",
    "\n",
    "print(\"righe\")\n",
    "print(len(m))\n",
    "\n",
    "# Se assumiamo che la matrice sia ben formata e ha almeno una riga e una colonna, \n",
    "# possiamo controllare direttamente la lunghezza della prima riga\n",
    "\n",
    "print(\"colonne\")\n",
    "print(len(m[0]))"
   ]
  },
  {
   "cell_type": "raw",
   "id": "bc78dd5e",
   "metadata": {
    "format": "text/html"
   },
   "source": [
    "</div>"
   ]
  },
  {
   "cell_type": "code",
   "execution_count": 10,
   "metadata": {},
   "outputs": [
    {
     "name": "stdout",
     "output_type": "stream",
     "text": [
      "righe\n",
      "3\n",
      "colonne\n",
      "2\n"
     ]
    }
   ],
   "source": [
    "# scrivi qui il codice per stampare righe e colonne\n",
    "\n"
   ]
  },
  {
   "cell_type": "markdown",
   "metadata": {},
   "source": [
    "## Estrarre righe e colonne"
   ]
  },
  {
   "cell_type": "markdown",
   "metadata": {},
   "source": [
    "### Come estrarre una riga\n",
    "\n",
    "Una delle prime cose che potresti voler fare è estrarre la riga i-esima. Se stai implementando una funzione che fa questo, hai in sostanza due scelte:\n",
    "\n",
    "1. ritornare un _puntatore_ alla riga _originale_\n",
    "2. ritornare una _copia_ della riga\n",
    "\n",
    "Dato che copiare consuma memoria, perchè vorresti mai ritornare una copia ? A volte dovresti perchè non sai quale uso verrà fatto della struttura dati. Per esempio, supponi di avere un libro di esercizi che ha spazi vuoti dove scrivere gli esercizi. E' un libro eccellente, e tutti in classe lo vogliono leggere - ma tu sei preoccupato perchè se il libro comincia a cambiare mani qualche studente poco scrupoloso potrebbe scriverci sopra. Per evitare problemi, fai una copia del libro e la distribuisci (tralasciamo considerazioni sulla violazione del copyright :-)\n",
    "\n",
    "#### Estrarre puntatori\n",
    "\n",
    "Prima vediamo cosa succede quando ritorni semplicemente un _puntatore_ alla riga _originale_.\n",
    "\n",
    "**NOTA**: Per convenienza, alla fine della cella mettiamo una chiamata magica a `jupman.pytut()` che mostra l'esecuzione di codice come in Python tutor (per info addizionali su `jupman.pytut()`, [vedere qua](https://it.softpython.org/intro/intro-sol.html#Visualizzare-l'esecuzione-con-Python-Tutor)). Se esegui tutto il codice in Python Tutor, vedrai che alla fine hai due puntatori freccia alla riga `['a','b']`, uno che parte dalla lista `m` e uno dalla variabile `riga`.\n"
   ]
  },
  {
   "cell_type": "code",
   "execution_count": 11,
   "metadata": {
    "nbsphinx": "hidden"
   },
   "outputs": [],
   "source": [
    "#######  ATTENZIONE: ESEGUI QUESTA CELLA CON Control+Invio   ######\n",
    "#######             PER POTER USARE jupman.pytut()           ######  \n",
    "import jupman;"
   ]
  },
  {
   "cell_type": "code",
   "execution_count": 12,
   "metadata": {},
   "outputs": [
    {
     "data": {
      "text/html": [
       "        \n",
       "        <script src=\"../_static/js/pytutor-embed.bundle.min.js\" type=\"application/javascript\"></script>\n",
       "    \n",
       "        <style>\n",
       "        @import \"../_static/css/jupman.css\";\n",
       "        </style>\n",
       "     \n",
       "        <script id=\"json-jm-1c877924fd8327b394556b7614768c33-14\" type=\"application/json\" >\n",
       "            {\"code\": \" \\ndef esrigap(mat, i):\\n    \\\"\\\"\\\" RITORNA la riga i-esima da mat\\n    \\\"\\\"\\\"\\n    return mat[i]\\n\\nm = [\\n      ['a','b'],\\n      ['c','d'],\\n      ['a','e'] \\n    ]\\nriga = esrigap(m, 0)\", \"trace\": [{\"line\": 2, \"event\": \"step_line\", \"func_name\": \"<module>\", \"globals\": {}, \"ordered_globals\": [], \"stack_to_render\": [], \"heap\": {}, \"stdout\": \"\"}, {\"line\": 8, \"event\": \"step_line\", \"func_name\": \"<module>\", \"globals\": {\"esrigap\": [\"REF\", 1]}, \"ordered_globals\": [\"esrigap\"], \"stack_to_render\": [], \"heap\": {\"1\": [\"FUNCTION\", \"esrigap(mat, i)\", null]}, \"stdout\": \"\"}, {\"line\": 9, \"event\": \"step_line\", \"func_name\": \"<module>\", \"globals\": {\"esrigap\": [\"REF\", 1]}, \"ordered_globals\": [\"esrigap\"], \"stack_to_render\": [], \"heap\": {\"1\": [\"FUNCTION\", \"esrigap(mat, i)\", null]}, \"stdout\": \"\"}, {\"line\": 10, \"event\": \"step_line\", \"func_name\": \"<module>\", \"globals\": {\"esrigap\": [\"REF\", 1]}, \"ordered_globals\": [\"esrigap\"], \"stack_to_render\": [], \"heap\": {\"1\": [\"FUNCTION\", \"esrigap(mat, i)\", null]}, \"stdout\": \"\"}, {\"line\": 12, \"event\": \"step_line\", \"func_name\": \"<module>\", \"globals\": {\"esrigap\": [\"REF\", 1], \"m\": [\"REF\", 2]}, \"ordered_globals\": [\"esrigap\", \"m\"], \"stack_to_render\": [], \"heap\": {\"1\": [\"FUNCTION\", \"esrigap(mat, i)\", null], \"2\": [\"LIST\", [\"REF\", 3], [\"REF\", 4], [\"REF\", 5]], \"3\": [\"LIST\", \"a\", \"b\"], \"4\": [\"LIST\", \"c\", \"d\"], \"5\": [\"LIST\", \"a\", \"e\"]}, \"stdout\": \"\"}, {\"line\": 2, \"event\": \"call\", \"func_name\": \"esrigap\", \"globals\": {\"esrigap\": [\"REF\", 1], \"m\": [\"REF\", 2]}, \"ordered_globals\": [\"esrigap\", \"m\"], \"stack_to_render\": [{\"func_name\": \"esrigap\", \"is_parent\": false, \"frame_id\": 1, \"parent_frame_id_list\": [], \"encoded_locals\": {\"mat\": [\"REF\", 2], \"i\": 0}, \"ordered_varnames\": [\"mat\", \"i\"], \"is_zombie\": false, \"is_highlighted\": true, \"unique_hash\": \"esrigap_f1\"}], \"heap\": {\"2\": [\"LIST\", [\"REF\", 3], [\"REF\", 4], [\"REF\", 5]], \"3\": [\"LIST\", \"a\", \"b\"], \"4\": [\"LIST\", \"c\", \"d\"], \"5\": [\"LIST\", \"a\", \"e\"], \"1\": [\"FUNCTION\", \"esrigap(mat, i)\", null]}, \"stdout\": \"\"}, {\"line\": 5, \"event\": \"step_line\", \"func_name\": \"esrigap\", \"globals\": {\"esrigap\": [\"REF\", 1], \"m\": [\"REF\", 2]}, \"ordered_globals\": [\"esrigap\", \"m\"], \"stack_to_render\": [{\"func_name\": \"esrigap\", \"is_parent\": false, \"frame_id\": 1, \"parent_frame_id_list\": [], \"encoded_locals\": {\"mat\": [\"REF\", 2], \"i\": 0}, \"ordered_varnames\": [\"mat\", \"i\"], \"is_zombie\": false, \"is_highlighted\": true, \"unique_hash\": \"esrigap_f1\"}], \"heap\": {\"2\": [\"LIST\", [\"REF\", 3], [\"REF\", 4], [\"REF\", 5]], \"3\": [\"LIST\", \"a\", \"b\"], \"4\": [\"LIST\", \"c\", \"d\"], \"5\": [\"LIST\", \"a\", \"e\"], \"1\": [\"FUNCTION\", \"esrigap(mat, i)\", null]}, \"stdout\": \"\"}, {\"line\": 5, \"event\": \"return\", \"func_name\": \"esrigap\", \"globals\": {\"esrigap\": [\"REF\", 1], \"m\": [\"REF\", 2]}, \"ordered_globals\": [\"esrigap\", \"m\"], \"stack_to_render\": [{\"func_name\": \"esrigap\", \"is_parent\": false, \"frame_id\": 1, \"parent_frame_id_list\": [], \"encoded_locals\": {\"mat\": [\"REF\", 2], \"i\": 0, \"__return__\": [\"REF\", 3]}, \"ordered_varnames\": [\"mat\", \"i\", \"__return__\"], \"is_zombie\": false, \"is_highlighted\": true, \"unique_hash\": \"esrigap_f1\"}], \"heap\": {\"2\": [\"LIST\", [\"REF\", 3], [\"REF\", 4], [\"REF\", 5]], \"3\": [\"LIST\", \"a\", \"b\"], \"4\": [\"LIST\", \"c\", \"d\"], \"5\": [\"LIST\", \"a\", \"e\"], \"1\": [\"FUNCTION\", \"esrigap(mat, i)\", null]}, \"stdout\": \"\"}, {\"line\": 12, \"event\": \"return\", \"func_name\": \"<module>\", \"globals\": {\"esrigap\": [\"REF\", 1], \"m\": [\"REF\", 2], \"riga\": [\"REF\", 3]}, \"ordered_globals\": [\"esrigap\", \"m\", \"riga\"], \"stack_to_render\": [], \"heap\": {\"1\": [\"FUNCTION\", \"esrigap(mat, i)\", null], \"2\": [\"LIST\", [\"REF\", 3], [\"REF\", 4], [\"REF\", 5]], \"3\": [\"LIST\", \"a\", \"b\"], \"4\": [\"LIST\", \"c\", \"d\"], \"5\": [\"LIST\", \"a\", \"e\"]}, \"stdout\": \"\"}]}\n",
       "        </script>\n",
       "        <div id=\"jm-1c877924fd8327b394556b7614768c33-14\" class=\"pytutorVisualizer\"> </div>\n",
       "                        \n",
       "        <script>\n",
       "        \n",
       "        (function(){\n",
       "            console.log(\"jupman.py embedded javascript: adding Python tutor visualizer...\")\n",
       "            \n",
       "            var trace = JSON.parse(document.getElementById('json-jm-1c877924fd8327b394556b7614768c33-14').innerHTML);                                        \n",
       "            // NOTE: id without #\n",
       "                    \n",
       "            addVisualizerToPage(trace, 'jm-1c877924fd8327b394556b7614768c33-14',{'embeddedMode' : false,\n",
       "                                             'disableHeapNesting': true,\n",
       "                                             'visualizerIdOverride':'viz-jm-1c877924fd8327b394556b7614768c33-14'})  \n",
       "            \n",
       "            \n",
       "            // set overflow for pytuts - need to do in python as css \n",
       "            // does not allow parent selection\n",
       "            var pytuts = $('.pytutorVisualizer')\n",
       "            pytuts.closest('div.output_html.rendered_html.output_result')\n",
       "                    .css('overflow-x', 'visible')\n",
       "        \n",
       "            //pytuts.closest('div.output_html.rendered_html.output_result')\n",
       "            //      .css('background-color','red')                \n",
       "            \n",
       "        })()\n",
       "        </script>\n",
       "                \n",
       "    \n",
       "    <div style=\"text-align:center; font-size:0.9em\"> <a href=\"https://pythontutor.com/visualize.html#mode=edit\" target=\"_blank\">Python Tutor</a> visualization</div> \n",
       "    "
      ],
      "text/plain": [
       "<IPython.core.display.HTML object>"
      ]
     },
     "execution_count": 12,
     "metadata": {},
     "output_type": "execute_result"
    }
   ],
   "source": [
    "def esrigap(mat, i):\n",
    "    \"\"\" RITORNA la riga i-esima da mat\n",
    "    \"\"\"\n",
    "    return mat[i]\n",
    "\n",
    "m = [\n",
    "      ['a','b'],\n",
    "      ['c','d'],\n",
    "      ['a','e'] \n",
    "    ]\n",
    "riga = esrigap(m, 0)\n",
    "\n",
    "\n",
    "jupman.pytut()"
   ]
  },
  {
   "cell_type": "markdown",
   "metadata": {},
   "source": [
    "### Estrai riga con for\n",
    "\n",
    "Cercheremo di implementare una versione che ritorna una **copia** della riga. "
   ]
  },
  {
   "cell_type": "markdown",
   "metadata": {},
   "source": [
    "**DOMANDA**: Per farlo, potresti essere tentato di scrivere qualcosa del genere - ma non funzionerebbe. Perchè?"
   ]
  },
  {
   "cell_type": "code",
   "execution_count": 13,
   "metadata": {},
   "outputs": [
    {
     "data": {
      "text/html": [
       "        \n",
       "        <script src=\"../_static/js/pytutor-embed.bundle.min.js\" type=\"application/javascript\"></script>\n",
       "    \n",
       "        <style>\n",
       "        @import \"../_static/css/jupman.css\";\n",
       "        </style>\n",
       "     \n",
       "        <script id=\"json-jm-3186f80fe34607d4b191c8e2fa96e407-15\" type=\"application/json\" >\n",
       "            {\"code\": \" \\n# ATTENZIONE: CODICE SBAGLIATO!!!!\\n\\ndef esriga_sbagliata(mat, i):\\n    \\\"\\\"\\\" RITORNA la i-esima riga da mat. NOTA: la riga DEVE essere in una NUOVA lista ! \\\"\\\"\\\"\\n    \\n    riga = []\\n    riga.append(mat[i])  \\n    return riga\\n    \\nm = [ ['a','b'],\\n      ['c','d'],\\n      ['a','e'] ]\\nriga = esriga_sbagliata(m,0)\", \"trace\": [{\"line\": 4, \"event\": \"step_line\", \"func_name\": \"<module>\", \"globals\": {}, \"ordered_globals\": [], \"stack_to_render\": [], \"heap\": {}, \"stdout\": \"\"}, {\"line\": 11, \"event\": \"step_line\", \"func_name\": \"<module>\", \"globals\": {\"esriga_sbagliata\": [\"REF\", 1]}, \"ordered_globals\": [\"esriga_sbagliata\"], \"stack_to_render\": [], \"heap\": {\"1\": [\"FUNCTION\", \"esriga_sbagliata(mat, i)\", null]}, \"stdout\": \"\"}, {\"line\": 12, \"event\": \"step_line\", \"func_name\": \"<module>\", \"globals\": {\"esriga_sbagliata\": [\"REF\", 1]}, \"ordered_globals\": [\"esriga_sbagliata\"], \"stack_to_render\": [], \"heap\": {\"1\": [\"FUNCTION\", \"esriga_sbagliata(mat, i)\", null]}, \"stdout\": \"\"}, {\"line\": 13, \"event\": \"step_line\", \"func_name\": \"<module>\", \"globals\": {\"esriga_sbagliata\": [\"REF\", 1]}, \"ordered_globals\": [\"esriga_sbagliata\"], \"stack_to_render\": [], \"heap\": {\"1\": [\"FUNCTION\", \"esriga_sbagliata(mat, i)\", null]}, \"stdout\": \"\"}, {\"line\": 14, \"event\": \"step_line\", \"func_name\": \"<module>\", \"globals\": {\"esriga_sbagliata\": [\"REF\", 1], \"m\": [\"REF\", 2]}, \"ordered_globals\": [\"esriga_sbagliata\", \"m\"], \"stack_to_render\": [], \"heap\": {\"1\": [\"FUNCTION\", \"esriga_sbagliata(mat, i)\", null], \"2\": [\"LIST\", [\"REF\", 3], [\"REF\", 4], [\"REF\", 5]], \"3\": [\"LIST\", \"a\", \"b\"], \"4\": [\"LIST\", \"c\", \"d\"], \"5\": [\"LIST\", \"a\", \"e\"]}, \"stdout\": \"\"}, {\"line\": 4, \"event\": \"call\", \"func_name\": \"esriga_sbagliata\", \"globals\": {\"esriga_sbagliata\": [\"REF\", 1], \"m\": [\"REF\", 2]}, \"ordered_globals\": [\"esriga_sbagliata\", \"m\"], \"stack_to_render\": [{\"func_name\": \"esriga_sbagliata\", \"is_parent\": false, \"frame_id\": 1, \"parent_frame_id_list\": [], \"encoded_locals\": {\"mat\": [\"REF\", 2], \"i\": 0}, \"ordered_varnames\": [\"mat\", \"i\"], \"is_zombie\": false, \"is_highlighted\": true, \"unique_hash\": \"esriga_sbagliata_f1\"}], \"heap\": {\"2\": [\"LIST\", [\"REF\", 3], [\"REF\", 4], [\"REF\", 5]], \"3\": [\"LIST\", \"a\", \"b\"], \"4\": [\"LIST\", \"c\", \"d\"], \"5\": [\"LIST\", \"a\", \"e\"], \"1\": [\"FUNCTION\", \"esriga_sbagliata(mat, i)\", null]}, \"stdout\": \"\"}, {\"line\": 7, \"event\": \"step_line\", \"func_name\": \"esriga_sbagliata\", \"globals\": {\"esriga_sbagliata\": [\"REF\", 1], \"m\": [\"REF\", 2]}, \"ordered_globals\": [\"esriga_sbagliata\", \"m\"], \"stack_to_render\": [{\"func_name\": \"esriga_sbagliata\", \"is_parent\": false, \"frame_id\": 1, \"parent_frame_id_list\": [], \"encoded_locals\": {\"mat\": [\"REF\", 2], \"i\": 0}, \"ordered_varnames\": [\"mat\", \"i\"], \"is_zombie\": false, \"is_highlighted\": true, \"unique_hash\": \"esriga_sbagliata_f1\"}], \"heap\": {\"2\": [\"LIST\", [\"REF\", 3], [\"REF\", 4], [\"REF\", 5]], \"3\": [\"LIST\", \"a\", \"b\"], \"4\": [\"LIST\", \"c\", \"d\"], \"5\": [\"LIST\", \"a\", \"e\"], \"1\": [\"FUNCTION\", \"esriga_sbagliata(mat, i)\", null]}, \"stdout\": \"\"}, {\"line\": 8, \"event\": \"step_line\", \"func_name\": \"esriga_sbagliata\", \"globals\": {\"esriga_sbagliata\": [\"REF\", 1], \"m\": [\"REF\", 2]}, \"ordered_globals\": [\"esriga_sbagliata\", \"m\"], \"stack_to_render\": [{\"func_name\": \"esriga_sbagliata\", \"is_parent\": false, \"frame_id\": 1, \"parent_frame_id_list\": [], \"encoded_locals\": {\"mat\": [\"REF\", 2], \"i\": 0, \"riga\": [\"REF\", 6]}, \"ordered_varnames\": [\"mat\", \"i\", \"riga\"], \"is_zombie\": false, \"is_highlighted\": true, \"unique_hash\": \"esriga_sbagliata_f1\"}], \"heap\": {\"2\": [\"LIST\", [\"REF\", 3], [\"REF\", 4], [\"REF\", 5]], \"3\": [\"LIST\", \"a\", \"b\"], \"4\": [\"LIST\", \"c\", \"d\"], \"5\": [\"LIST\", \"a\", \"e\"], \"6\": [\"LIST\"], \"1\": [\"FUNCTION\", \"esriga_sbagliata(mat, i)\", null]}, \"stdout\": \"\"}, {\"line\": 9, \"event\": \"step_line\", \"func_name\": \"esriga_sbagliata\", \"globals\": {\"esriga_sbagliata\": [\"REF\", 1], \"m\": [\"REF\", 2]}, \"ordered_globals\": [\"esriga_sbagliata\", \"m\"], \"stack_to_render\": [{\"func_name\": \"esriga_sbagliata\", \"is_parent\": false, \"frame_id\": 1, \"parent_frame_id_list\": [], \"encoded_locals\": {\"mat\": [\"REF\", 2], \"i\": 0, \"riga\": [\"REF\", 6]}, \"ordered_varnames\": [\"mat\", \"i\", \"riga\"], \"is_zombie\": false, \"is_highlighted\": true, \"unique_hash\": \"esriga_sbagliata_f1\"}], \"heap\": {\"2\": [\"LIST\", [\"REF\", 3], [\"REF\", 4], [\"REF\", 5]], \"3\": [\"LIST\", \"a\", \"b\"], \"4\": [\"LIST\", \"c\", \"d\"], \"5\": [\"LIST\", \"a\", \"e\"], \"6\": [\"LIST\", [\"REF\", 3]], \"1\": [\"FUNCTION\", \"esriga_sbagliata(mat, i)\", null]}, \"stdout\": \"\"}, {\"line\": 9, \"event\": \"return\", \"func_name\": \"esriga_sbagliata\", \"globals\": {\"esriga_sbagliata\": [\"REF\", 1], \"m\": [\"REF\", 2]}, \"ordered_globals\": [\"esriga_sbagliata\", \"m\"], \"stack_to_render\": [{\"func_name\": \"esriga_sbagliata\", \"is_parent\": false, \"frame_id\": 1, \"parent_frame_id_list\": [], \"encoded_locals\": {\"mat\": [\"REF\", 2], \"i\": 0, \"riga\": [\"REF\", 6], \"__return__\": [\"REF\", 6]}, \"ordered_varnames\": [\"mat\", \"i\", \"riga\", \"__return__\"], \"is_zombie\": false, \"is_highlighted\": true, \"unique_hash\": \"esriga_sbagliata_f1\"}], \"heap\": {\"2\": [\"LIST\", [\"REF\", 3], [\"REF\", 4], [\"REF\", 5]], \"3\": [\"LIST\", \"a\", \"b\"], \"4\": [\"LIST\", \"c\", \"d\"], \"5\": [\"LIST\", \"a\", \"e\"], \"6\": [\"LIST\", [\"REF\", 3]], \"1\": [\"FUNCTION\", \"esriga_sbagliata(mat, i)\", null]}, \"stdout\": \"\"}, {\"line\": 14, \"event\": \"return\", \"func_name\": \"<module>\", \"globals\": {\"esriga_sbagliata\": [\"REF\", 1], \"m\": [\"REF\", 2], \"riga\": [\"REF\", 6]}, \"ordered_globals\": [\"esriga_sbagliata\", \"m\", \"riga\"], \"stack_to_render\": [], \"heap\": {\"1\": [\"FUNCTION\", \"esriga_sbagliata(mat, i)\", null], \"2\": [\"LIST\", [\"REF\", 3], [\"REF\", 4], [\"REF\", 5]], \"3\": [\"LIST\", \"a\", \"b\"], \"4\": [\"LIST\", \"c\", \"d\"], \"5\": [\"LIST\", \"a\", \"e\"], \"6\": [\"LIST\", [\"REF\", 3]]}, \"stdout\": \"\"}]}\n",
       "        </script>\n",
       "        <div id=\"jm-3186f80fe34607d4b191c8e2fa96e407-15\" class=\"pytutorVisualizer\"> </div>\n",
       "                        \n",
       "        <script>\n",
       "        \n",
       "        (function(){\n",
       "            console.log(\"jupman.py embedded javascript: adding Python tutor visualizer...\")\n",
       "            \n",
       "            var trace = JSON.parse(document.getElementById('json-jm-3186f80fe34607d4b191c8e2fa96e407-15').innerHTML);                                        \n",
       "            // NOTE: id without #\n",
       "                    \n",
       "            addVisualizerToPage(trace, 'jm-3186f80fe34607d4b191c8e2fa96e407-15',{'embeddedMode' : false,\n",
       "                                             'disableHeapNesting': true,\n",
       "                                             'visualizerIdOverride':'viz-jm-3186f80fe34607d4b191c8e2fa96e407-15'})  \n",
       "            \n",
       "            \n",
       "            // set overflow for pytuts - need to do in python as css \n",
       "            // does not allow parent selection\n",
       "            var pytuts = $('.pytutorVisualizer')\n",
       "            pytuts.closest('div.output_html.rendered_html.output_result')\n",
       "                    .css('overflow-x', 'visible')\n",
       "        \n",
       "            //pytuts.closest('div.output_html.rendered_html.output_result')\n",
       "            //      .css('background-color','red')                \n",
       "            \n",
       "        })()\n",
       "        </script>\n",
       "                \n",
       "    \n",
       "    <div style=\"text-align:center; font-size:0.9em\"> <a href=\"https://pythontutor.com/visualize.html#mode=edit\" target=\"_blank\">Python Tutor</a> visualization</div> \n",
       "    "
      ],
      "text/plain": [
       "<IPython.core.display.HTML object>"
      ]
     },
     "execution_count": 13,
     "metadata": {},
     "output_type": "execute_result"
    }
   ],
   "source": [
    "# ATTENZIONE: CODICE SBAGLIATO!!!!\n",
    "\n",
    "def esriga_sbagliata(mat, i):\n",
    "    \"\"\" RITORNA la i-esima riga da mat. NOTA: la riga DEVE essere in una NUOVA lista ! \"\"\"\n",
    "    \n",
    "    riga = []\n",
    "    riga.append(mat[i])  \n",
    "    return riga\n",
    "    \n",
    "m = [ ['a','b'],\n",
    "      ['c','d'],\n",
    "      ['a','e'] ]\n",
    "riga = esriga_sbagliata(m,0)\n",
    "\n",
    "jupman.pytut()"
   ]
  },
  {
   "cell_type": "raw",
   "id": "004b7ec4",
   "metadata": {
    "format": "text/html"
   },
   "source": [
    "<a  class=\"jupman-sol jupman-sol-toggler\" \n",
    " onclick=\"jupman.toggleSolution(this);\" \n",
    " data-jupman-show=\"Mostra risposta\" data-jupman-hide=\"Nascondi\">Mostra risposta</a><div class=\"jupman-sol jupman-sol-question\" style=\"display:none\">  "
   ]
  },
  {
   "cell_type": "markdown",
   "metadata": {},
   "source": [
    "**RISPOSTA**: Il codice sopre aggiunge una LISTA come elemento ad un'altra lista vuota.  In altre parole, sta includendo la riga (che è già una lista) in un'altra lista. Se verifichi il problema in Python Tutor, vedrai una freccia che va dalla riga fino alla lista di un elemento che conterrà esattamente una freccia alla riga originale.\n"
   ]
  },
  {
   "cell_type": "raw",
   "id": "0436c14f",
   "metadata": {
    "format": "text/html"
   },
   "source": [
    "</div>"
   ]
  },
  {
   "cell_type": "markdown",
   "metadata": {},
   "source": [
    "Puoi costruire una copia in diversi modi, con un `for`, una slice o una list comprehension. Prova ad implementare tutte le versioni, cominciando con il `for` qui. Assicurati di controllare il risultato con Python tutor - per visualizzare Python tutor nell'output di una cella puoi usare il comando speciale `jupman.pytut()` alla fine della cella come abbiamo fatto prima. In Python tutor, dovresti vedere solo _una_ freccia che va dalla riga originale `['a','b']` in `m`, e ci dovrebbe essere _un'altra_ copia `['a','b']` da qualche parte, con la variabile with `riga` che ci punta. \n",
    "\n",
    "#### Esercizio -  esrigaf\n",
    "\n",
    "✪  Implementa la funzione `esrigaf`, che RITORNA la `i`-esima riga da `mat` come NUOVA lista\n",
    "        \n",
    "* **NOTA**: Per creare una NUOVA lista usa un ciclo for che reitera sugli elementi, _non_ gli indici (quindi non usare range) !"
   ]
  },
  {
   "cell_type": "raw",
   "id": "a855a3c4",
   "metadata": {
    "format": "text/html"
   },
   "source": [
    "<a  class=\"jupman-sol jupman-sol-toggler\" \n",
    " onclick=\"jupman.toggleSolution(this);\" \n",
    " data-jupman-show=\"Mostra soluzione\" data-jupman-hide=\"Nascondi\">Mostra soluzione</a><div class=\"jupman-sol jupman-sol-code\" style=\"display:none\">  "
   ]
  },
  {
   "cell_type": "code",
   "execution_count": 14,
   "metadata": {},
   "outputs": [],
   "source": [
    "def esrigaf(mat, i):\n",
    "    \n",
    "    riga = []\n",
    "    for x in mat[i]:\n",
    "        riga.append(x) \n",
    "    return riga    \n",
    "    \n",
    "    \n",
    "m = [ ['a','b'],\n",
    "      ['c','d'],\n",
    "      ['a','e'] ]\n",
    "\n",
    "assert esrigaf(m, 0) == ['a','b']\n",
    "assert esrigaf(m, 1) == ['c','d']\n",
    "assert esrigaf(m, 2) == ['a','e']\n",
    "\n",
    "# controlla che non abbia cambiato la matrice originale!\n",
    "r = esrigaf(m, 0)\n",
    "r[0] = 'z'\n",
    "assert m[0][0] == 'a'   \n",
    "\n",
    "# togli il commento se vuoi visualizzare l'esecuzione qui\n",
    "#jupman.pytut()"
   ]
  },
  {
   "cell_type": "raw",
   "id": "eb6f4b2c",
   "metadata": {
    "format": "text/html"
   },
   "source": [
    "</div>"
   ]
  },
  {
   "cell_type": "code",
   "execution_count": 14,
   "metadata": {},
   "outputs": [],
   "source": [
    "def esrigaf(mat, i):\n",
    "    raise Exception('TODO IMPLEMENT ME !')\n",
    "    \n",
    "m = [ ['a','b'],\n",
    "      ['c','d'],\n",
    "      ['a','e'] ]\n",
    "\n",
    "assert esrigaf(m, 0) == ['a','b']\n",
    "assert esrigaf(m, 1) == ['c','d']\n",
    "assert esrigaf(m, 2) == ['a','e']\n",
    "\n",
    "# controlla che non abbia cambiato la matrice originale!\n",
    "r = esrigaf(m, 0)\n",
    "r[0] = 'z'\n",
    "assert m[0][0] == 'a'   \n",
    "\n",
    "# togli il commento se vuoi visualizzare l'esecuzione qui\n",
    "#jupman.pytut()"
   ]
  },
  {
   "cell_type": "markdown",
   "metadata": {},
   "source": [
    "### Estrai riga con range"
   ]
  },
  {
   "cell_type": "markdown",
   "metadata": {},
   "source": [
    "Vediamo velocemente `range(n)`. Forse pensi che debba ritornare una sequenza di interi, da zero a `n - 1`. E' davvero così?"
   ]
  },
  {
   "cell_type": "code",
   "execution_count": 15,
   "metadata": {},
   "outputs": [
    {
     "data": {
      "text/plain": [
       "range(0, 5)"
      ]
     },
     "execution_count": 15,
     "metadata": {},
     "output_type": "execute_result"
    }
   ],
   "source": [
    "range(5)"
   ]
  },
  {
   "cell_type": "markdown",
   "metadata": {},
   "source": [
    "Forse ti aspettavi qualcosa come una lista  `[0,1,2,3,4]`, invece abbiamo scoperto che Python è piuttosto pigro qua: `range(n)` di fatto ritorna un oggetto _iterabile_, non una sequenza reale materializzata in memoria.\n",
    "\n",
    "Per prendere una vera lista di interi, dobbiamo chiedere esplicitamente questo oggetto iterabile che ci da gli oggetti uno per uno. \n",
    "\n",
    "Quando scrivi `for i in range(5)` il ciclo `for` sta facendo esattamente questo, ad ogni round chiede all'oggetto range di generare un numero nella sequenza. Se vogliamo l'intera sequenza materializzata in memoria, possiamo generarla convertendo il range in un oggetto lista:"
   ]
  },
  {
   "cell_type": "code",
   "execution_count": 16,
   "metadata": {},
   "outputs": [
    {
     "data": {
      "text/plain": [
       "[0, 1, 2, 3, 4]"
      ]
     },
     "execution_count": 16,
     "metadata": {},
     "output_type": "execute_result"
    }
   ],
   "source": [
    "list(range(5))"
   ]
  },
  {
   "cell_type": "markdown",
   "metadata": {},
   "source": [
    "Sii prudente, comunque. A seconda della dimensione della sequenza, questo potrebbe essere pericoloso. \n",
    "Una lista di un miliardo di elementi potrebbe saturare la RAM del tuo computer (i portatili nel 2018 hanno spesso 4 gigabyte di memoria RAM, cioè 4 miliardi di byte)."
   ]
  },
  {
   "cell_type": "markdown",
   "metadata": {},
   "source": [
    "#### Esercizio - esrigar\n",
    "\n",
    "✪ Adesso implementa la funzione `esrigar`, che RITORNA la `i`-esima riga da `mat` come NUOVA lista, iterando su un range di indici di colonna\n",
    "\n",
    "- **NOTA 1**: Per creare una nuova lista usa un ciclo `for`  \n",
    "- **NOTA 2**: ricordati di usare un nuovo nome per l'indice di colonna!"
   ]
  },
  {
   "cell_type": "raw",
   "id": "e1e646c4",
   "metadata": {
    "format": "text/html"
   },
   "source": [
    "<a  class=\"jupman-sol jupman-sol-toggler\" \n",
    " onclick=\"jupman.toggleSolution(this);\" \n",
    " data-jupman-show=\"Mostra soluzione\" data-jupman-hide=\"Nascondi\">Mostra soluzione</a><div class=\"jupman-sol jupman-sol-code\" style=\"display:none\">  "
   ]
  },
  {
   "cell_type": "code",
   "execution_count": 17,
   "metadata": {},
   "outputs": [],
   "source": [
    "def esrigar(mat, i):\n",
    "    \n",
    "    riga = []\n",
    "    for j in range(len(mat[0])):\n",
    "        riga.append(mat[i][j]) \n",
    "    return riga    \n",
    "    \n",
    "    \n",
    "m = [\n",
    "      ['a','b'],\n",
    "      ['c','d'],\n",
    "      ['a','e'],    \n",
    "]\n",
    "\n",
    "assert esrigar(m, 0) == ['a','b']\n",
    "assert esrigar(m, 1) == ['c','d']\n",
    "assert esrigar(m, 2) == ['a','e']\n",
    "\n",
    "# controlla che non abbia cambiato la matrice originale!\n",
    "r = esrigar(m, 0)\n",
    "r[0] = 'z'\n",
    "assert m[0][0] == 'a'   \n",
    "\n",
    "# togli il commento se vuoi visualizzare l'esecuzione qui \n",
    "#jupman.pytut()"
   ]
  },
  {
   "cell_type": "raw",
   "id": "a4863cdd",
   "metadata": {
    "format": "text/html"
   },
   "source": [
    "</div>"
   ]
  },
  {
   "cell_type": "code",
   "execution_count": 17,
   "metadata": {},
   "outputs": [],
   "source": [
    "def esrigar(mat, i):\n",
    "    raise Exception('TODO IMPLEMENT ME !')\n",
    "    \n",
    "m = [\n",
    "      ['a','b'],\n",
    "      ['c','d'],\n",
    "      ['a','e'],    \n",
    "]\n",
    "\n",
    "assert esrigar(m, 0) == ['a','b']\n",
    "assert esrigar(m, 1) == ['c','d']\n",
    "assert esrigar(m, 2) == ['a','e']\n",
    "\n",
    "# controlla che non abbia cambiato la matrice originale!\n",
    "r = esrigar(m, 0)\n",
    "r[0] = 'z'\n",
    "assert m[0][0] == 'a'   \n",
    "\n",
    "# togli il commento se vuoi visualizzare l'esecuzione qui \n",
    "#jupman.pytut()"
   ]
  },
  {
   "cell_type": "markdown",
   "metadata": {},
   "source": [
    "### Esercizio - Estrai riga con slice\n",
    "\n",
    "✪ Ricordi che le slice ritornano una _copia_ di una lista? Adesso prova ad usarle.\n",
    "\n",
    "Implementa `esrigas`, che RITORNA la `i`-esima riga da `mat` come NUOVA lista.\n",
    "      \n",
    "- **NOTA**: Per crearla, usa le slice"
   ]
  },
  {
   "cell_type": "raw",
   "id": "87780b7b",
   "metadata": {
    "format": "text/html"
   },
   "source": [
    "<a  class=\"jupman-sol jupman-sol-toggler\" \n",
    " onclick=\"jupman.toggleSolution(this);\" \n",
    " data-jupman-show=\"Mostra soluzione\" data-jupman-hide=\"Nascondi\">Mostra soluzione</a><div class=\"jupman-sol jupman-sol-code\" style=\"display:none\">  "
   ]
  },
  {
   "cell_type": "code",
   "execution_count": 18,
   "metadata": {},
   "outputs": [],
   "source": [
    "def esrigas(mat, i):\n",
    "    \n",
    "    return mat[i][:]  # se ometti gli indici di inizio e fine, hai una copia di tutta la lista \n",
    "    \n",
    "    \n",
    "m = [\n",
    "      ['a','b'],\n",
    "      ['c','d'],\n",
    "      ['a','e'],    \n",
    "]\n",
    "\n",
    "\n",
    "assert esrigas(m, 0) == ['a','b']\n",
    "assert esrigas(m, 1) == ['c','d']\n",
    "assert esrigas(m, 2) == ['a','e']\n",
    "\n",
    "# Controlla che non abbia cambiato la matrice originale !\n",
    "r = esrigas(m, 0)\n",
    "r[0] = 'z'\n",
    "assert m[0][0] == 'a'   \n",
    "\n",
    "# togli il commento se vuoi visualizzare l'esecuzione qui\n",
    "#jupman.pytut()"
   ]
  },
  {
   "cell_type": "raw",
   "id": "7ca4be4a",
   "metadata": {
    "format": "text/html"
   },
   "source": [
    "</div>"
   ]
  },
  {
   "cell_type": "code",
   "execution_count": 18,
   "metadata": {},
   "outputs": [],
   "source": [
    "def esrigas(mat, i):\n",
    "    raise Exception('TODO IMPLEMENT ME !')\n",
    "    \n",
    "m = [\n",
    "      ['a','b'],\n",
    "      ['c','d'],\n",
    "      ['a','e'],    \n",
    "]\n",
    "\n",
    "\n",
    "assert esrigas(m, 0) == ['a','b']\n",
    "assert esrigas(m, 1) == ['c','d']\n",
    "assert esrigas(m, 2) == ['a','e']\n",
    "\n",
    "# Controlla che non abbia cambiato la matrice originale !\n",
    "r = esrigas(m, 0)\n",
    "r[0] = 'z'\n",
    "assert m[0][0] == 'a'   \n",
    "\n",
    "# togli il commento se vuoi visualizzare l'esecuzione qui\n",
    "#jupman.pytut()"
   ]
  },
  {
   "cell_type": "markdown",
   "metadata": {},
   "source": [
    "### Esercizio - Estrai riga con list comprehension\n",
    "\n",
    "✪ Implementa `esrigac`, che RITORNA la `i`-esima riga da `mat` come NUOVA lista, creandola con le _list comprehension_\n",
    "   "
   ]
  },
  {
   "cell_type": "raw",
   "id": "fd4f06e5",
   "metadata": {
    "format": "text/html"
   },
   "source": [
    "<a  class=\"jupman-sol jupman-sol-toggler\" \n",
    " onclick=\"jupman.toggleSolution(this);\" \n",
    " data-jupman-show=\"Mostra soluzione\" data-jupman-hide=\"Nascondi\">Mostra soluzione</a><div class=\"jupman-sol jupman-sol-code\" style=\"display:none\">  "
   ]
  },
  {
   "cell_type": "code",
   "execution_count": 19,
   "metadata": {},
   "outputs": [],
   "source": [
    "def esrigac(mat, i):\n",
    "    \n",
    "    return [x for x in mat[i]]\n",
    "    \n",
    "    \n",
    "m = [\n",
    "      ['a','b'],\n",
    "      ['c','d'],\n",
    "      ['a','e'],    \n",
    "]\n",
    "\n",
    "assert esrigac(m, 0) == ['a','b']\n",
    "assert esrigac(m, 1) == ['c','d']\n",
    "assert esrigac(m, 2) == ['a','e']\n",
    "\n",
    "# Controlla che non abbia cambiato la matrice originale !\n",
    "r = esrigac(m, 0)\n",
    "r[0] = 'z'\n",
    "assert m[0][0] == 'a'   \n",
    "\n",
    "# togli il commento se vuoi visualizzare l'esecuzione qui \n",
    "#jupman.pytut()"
   ]
  },
  {
   "cell_type": "raw",
   "id": "f302b38e",
   "metadata": {
    "format": "text/html"
   },
   "source": [
    "</div>"
   ]
  },
  {
   "cell_type": "code",
   "execution_count": 19,
   "metadata": {},
   "outputs": [],
   "source": [
    "def esrigac(mat, i):\n",
    "    raise Exception('TODO IMPLEMENT ME !')\n",
    "    \n",
    "m = [\n",
    "      ['a','b'],\n",
    "      ['c','d'],\n",
    "      ['a','e'],    \n",
    "]\n",
    "\n",
    "assert esrigac(m, 0) == ['a','b']\n",
    "assert esrigac(m, 1) == ['c','d']\n",
    "assert esrigac(m, 2) == ['a','e']\n",
    "\n",
    "# Controlla che non abbia cambiato la matrice originale !\n",
    "r = esrigac(m, 0)\n",
    "r[0] = 'z'\n",
    "assert m[0][0] == 'a'   \n",
    "\n",
    "# togli il commento se vuoi visualizzare l'esecuzione qui \n",
    "#jupman.pytut()"
   ]
  },
  {
   "cell_type": "markdown",
   "metadata": {},
   "source": [
    "### Esercizio - Estrai colonna con for\n",
    "\n",
    "✪ Prova ad estrarre una colonna alla posizione `j`-esima, in questo caso non abbiamo bisogno di pensare se ritornare un puntatore o una copia. \n",
    "\n",
    "Implementa `escolf`, che RITORNA la `j`-esima colonna da `mat`: per crearla, usa un ciclo `for`"
   ]
  },
  {
   "cell_type": "raw",
   "id": "3ce938b9",
   "metadata": {
    "format": "text/html"
   },
   "source": [
    "<a  class=\"jupman-sol jupman-sol-toggler\" \n",
    " onclick=\"jupman.toggleSolution(this);\" \n",
    " data-jupman-show=\"Mostra soluzione\" data-jupman-hide=\"Nascondi\">Mostra soluzione</a><div class=\"jupman-sol jupman-sol-code\" style=\"display:none\">  "
   ]
  },
  {
   "cell_type": "code",
   "execution_count": 20,
   "metadata": {},
   "outputs": [],
   "source": [
    "def escolf(mat, j):    \n",
    "    \n",
    "    ret = []\n",
    "    for riga in mat: \n",
    "        ret.append(riga[j])\n",
    "    return ret\n",
    "    \n",
    "\n",
    "m = [\n",
    "      ['a','b'],\n",
    "      ['c','d'],\n",
    "      ['a','e'],    \n",
    "]\n",
    "\n",
    "assert escolf(m, 0) == ['a','c','a']\n",
    "assert escolf(m, 1) == ['b','d','e']\n",
    "\n",
    "# Controlla che la colonna ritornata non modifichi m\n",
    "c = escolf(m,0)\n",
    "c[0] = 'z'\n",
    "assert m[0][0] == 'a'\n",
    "\n",
    "# togli il commento se vuoi visualizzare l'esecuzione qui\n",
    "#jupman.pytut()"
   ]
  },
  {
   "cell_type": "raw",
   "id": "146f64e3",
   "metadata": {
    "format": "text/html"
   },
   "source": [
    "</div>"
   ]
  },
  {
   "cell_type": "code",
   "execution_count": 20,
   "metadata": {},
   "outputs": [],
   "source": [
    "def escolf(mat, j):    \n",
    "    raise Exception('TODO IMPLEMENT ME !')\n",
    "\n",
    "m = [\n",
    "      ['a','b'],\n",
    "      ['c','d'],\n",
    "      ['a','e'],    \n",
    "]\n",
    "\n",
    "assert escolf(m, 0) == ['a','c','a']\n",
    "assert escolf(m, 1) == ['b','d','e']\n",
    "\n",
    "# Controlla che la colonna ritornata non modifichi m\n",
    "c = escolf(m,0)\n",
    "c[0] = 'z'\n",
    "assert m[0][0] == 'a'\n",
    "\n",
    "# togli il commento se vuoi visualizzare l'esecuzione qui\n",
    "#jupman.pytut()"
   ]
  },
  {
   "cell_type": "markdown",
   "metadata": {},
   "source": [
    "### Esercizio - Estrai colonna con list comprehension\n",
    "\n",
    "✪ Implementa `escolc`, che RITORNA la `j`-esima colonna da `mat`: per crearla, usa una list comprehension."
   ]
  },
  {
   "cell_type": "raw",
   "id": "cda69374",
   "metadata": {
    "format": "text/html"
   },
   "source": [
    "<a  class=\"jupman-sol jupman-sol-toggler\" \n",
    " onclick=\"jupman.toggleSolution(this);\" \n",
    " data-jupman-show=\"Mostra soluzione\" data-jupman-hide=\"Nascondi\">Mostra soluzione</a><div class=\"jupman-sol jupman-sol-code\" style=\"display:none\">  "
   ]
  },
  {
   "cell_type": "code",
   "execution_count": 21,
   "metadata": {},
   "outputs": [],
   "source": [
    "def escolc(mat, j):   \n",
    "    \n",
    "    return [riga[j] for riga in mat] \n",
    "    \n",
    "\n",
    "m = [\n",
    "      ['a','b'],\n",
    "      ['c','d'],\n",
    "      ['a','e'],    \n",
    "]\n",
    "\n",
    "assert escolc(m, 0) == ['a','c','a']\n",
    "assert escolc(m, 1) == ['b','d','e']\n",
    "\n",
    "# Controlla che la colonna ritornata non modifichi m\n",
    "c = escolc(m,0)\n",
    "c[0] = 'z'\n",
    "assert m[0][0] == 'a'\n",
    "\n",
    "# togli il commento se vuoi visualizzare l'esecuzione qui\n",
    "#jupman.pytut()"
   ]
  },
  {
   "cell_type": "raw",
   "id": "4b148204",
   "metadata": {
    "format": "text/html"
   },
   "source": [
    "</div>"
   ]
  },
  {
   "cell_type": "code",
   "execution_count": 21,
   "metadata": {},
   "outputs": [],
   "source": [
    "def escolc(mat, j):   \n",
    "    raise Exception('TODO IMPLEMENT ME !')\n",
    "\n",
    "m = [\n",
    "      ['a','b'],\n",
    "      ['c','d'],\n",
    "      ['a','e'],    \n",
    "]\n",
    "\n",
    "assert escolc(m, 0) == ['a','c','a']\n",
    "assert escolc(m, 1) == ['b','d','e']\n",
    "\n",
    "# Controlla che la colonna ritornata non modifichi m\n",
    "c = escolc(m,0)\n",
    "c[0] = 'z'\n",
    "assert m[0][0] == 'a'\n",
    "\n",
    "# togli il commento se vuoi visualizzare l'esecuzione qui\n",
    "#jupman.pytut()"
   ]
  },
  {
   "cell_type": "markdown",
   "metadata": {},
   "source": [
    "## Creare nuove matrici"
   ]
  },
  {
   "cell_type": "markdown",
   "metadata": {},
   "source": [
    "### Esercizio - matrice_vuota\n",
    "\n",
    "✪✪ Ci sono diversi modi di creare una nuova matrice 3x5 vuota come lista di liste che contengono degli zero. \n",
    "\n",
    "\n",
    "Implementa `matrice_vuota`, che RITORNA una NUOVA matrice nxn come lista di liste riempite con zero \n",
    "\n",
    "- usa due cicli `for` annidati"
   ]
  },
  {
   "cell_type": "raw",
   "id": "1fda86eb",
   "metadata": {
    "format": "text/html"
   },
   "source": [
    "<a  class=\"jupman-sol jupman-sol-toggler\" \n",
    " onclick=\"jupman.toggleSolution(this);\" \n",
    " data-jupman-show=\"Mostra soluzione\" data-jupman-hide=\"Nascondi\">Mostra soluzione</a><div class=\"jupman-sol jupman-sol-code\" style=\"display:none\">  "
   ]
  },
  {
   "cell_type": "code",
   "execution_count": 22,
   "metadata": {},
   "outputs": [],
   "source": [
    "def matrice_vuota(n, m):\n",
    "    \n",
    "    ret = []\n",
    "    for i in range(n):\n",
    "        riga = []\n",
    "        ret.append(riga)\n",
    "        for j in range(m):\n",
    "            riga.append(0)\n",
    "    return ret\n",
    "    \n",
    "\n",
    "assert matrice_vuota(1,1) == [ [0] ]\n",
    "\n",
    "assert matrice_vuota(1,2) == [ [0,0] ]\n",
    "\n",
    "assert matrice_vuota(2,1) == [ [0],\n",
    "                               [0] ]\n",
    "\n",
    "assert matrice_vuota(2,2) == [ [0,0],\n",
    "                               [0,0] ]\n",
    "\n",
    "assert matrice_vuota(3,3) == [ [0,0,0],\n",
    "                               [0,0,0],\n",
    "                               [0,0,0] ]"
   ]
  },
  {
   "cell_type": "raw",
   "id": "a1500d41",
   "metadata": {
    "format": "text/html"
   },
   "source": [
    "</div>"
   ]
  },
  {
   "cell_type": "code",
   "execution_count": 22,
   "metadata": {},
   "outputs": [],
   "source": [
    "def matrice_vuota(n, m):\n",
    "    raise Exception('TODO IMPLEMENT ME !')\n",
    "\n",
    "assert matrice_vuota(1,1) == [ [0] ]\n",
    "\n",
    "assert matrice_vuota(1,2) == [ [0,0] ]\n",
    "\n",
    "assert matrice_vuota(2,1) == [ [0],\n",
    "                               [0] ]\n",
    "\n",
    "assert matrice_vuota(2,2) == [ [0,0],\n",
    "                               [0,0] ]\n",
    "\n",
    "assert matrice_vuota(3,3) == [ [0,0,0],\n",
    "                               [0,0,0],\n",
    "                               [0,0,0] ]"
   ]
  },
  {
   "cell_type": "markdown",
   "metadata": {},
   "source": [
    "### matrice_vuota nel modo elegante\n"
   ]
  },
  {
   "cell_type": "markdown",
   "metadata": {},
   "source": [
    "Per creare una lista di 3 elementi riempita di zeri, puoi scrivere così:"
   ]
  },
  {
   "cell_type": "code",
   "execution_count": 23,
   "metadata": {},
   "outputs": [
    {
     "data": {
      "text/plain": [
       "[0, 0, 0]"
      ]
     },
     "execution_count": 23,
     "metadata": {},
     "output_type": "execute_result"
    }
   ],
   "source": [
    "[0]*3"
   ]
  },
  {
   "cell_type": "markdown",
   "metadata": {},
   "source": [
    "Il `*` in un certo senso sta moltiplicando gli elementi in una lista"
   ]
  },
  {
   "cell_type": "markdown",
   "metadata": {},
   "source": [
    "Dato quanto sopra, per creare una matrice 5x3 riempita di zeri, che è una lista di liste apparentemente uguali, potresti essere tentato di scrivere così:\n"
   ]
  },
  {
   "cell_type": "code",
   "execution_count": 24,
   "metadata": {},
   "outputs": [
    {
     "data": {
      "text/plain": [
       "[[0, 0, 0], [0, 0, 0], [0, 0, 0], [0, 0, 0], [0, 0, 0]]"
      ]
     },
     "execution_count": 24,
     "metadata": {},
     "output_type": "execute_result"
    }
   ],
   "source": [
    "# SBAGLIATO !\n",
    "[[0]*3]*5"
   ]
  },
  {
   "cell_type": "markdown",
   "metadata": {},
   "source": [
    "Come mai questo è (probabilmente) sbagliato ? Prova a ispezionarlo in Python Tutor: "
   ]
  },
  {
   "cell_type": "code",
   "execution_count": 25,
   "metadata": {},
   "outputs": [
    {
     "data": {
      "text/html": [
       "        \n",
       "        <script src=\"../_static/js/pytutor-embed.bundle.min.js\" type=\"application/javascript\"></script>\n",
       "    \n",
       "        <style>\n",
       "        @import \"../_static/css/jupman.css\";\n",
       "        </style>\n",
       "     \n",
       "        <script id=\"json-jm-aef3cd8340f06d04517ffaac41b8dda5-27\" type=\"application/json\" >\n",
       "            {\"code\": \" \\nbad = [[0]*3]*5\", \"trace\": [{\"line\": 2, \"event\": \"step_line\", \"func_name\": \"<module>\", \"globals\": {}, \"ordered_globals\": [], \"stack_to_render\": [], \"heap\": {}, \"stdout\": \"\"}, {\"line\": 2, \"event\": \"return\", \"func_name\": \"<module>\", \"globals\": {\"bad\": [\"REF\", 1]}, \"ordered_globals\": [\"bad\"], \"stack_to_render\": [], \"heap\": {\"1\": [\"LIST\", [\"REF\", 2], [\"REF\", 2], [\"REF\", 2], [\"REF\", 2], [\"REF\", 2]], \"2\": [\"LIST\", 0, 0, 0]}, \"stdout\": \"\"}]}\n",
       "        </script>\n",
       "        <div id=\"jm-aef3cd8340f06d04517ffaac41b8dda5-27\" class=\"pytutorVisualizer\"> </div>\n",
       "                        \n",
       "        <script>\n",
       "        \n",
       "        (function(){\n",
       "            console.log(\"jupman.py embedded javascript: adding Python tutor visualizer...\")\n",
       "            \n",
       "            var trace = JSON.parse(document.getElementById('json-jm-aef3cd8340f06d04517ffaac41b8dda5-27').innerHTML);                                        \n",
       "            // NOTE: id without #\n",
       "                    \n",
       "            addVisualizerToPage(trace, 'jm-aef3cd8340f06d04517ffaac41b8dda5-27',{'embeddedMode' : false,\n",
       "                                             'disableHeapNesting': true,\n",
       "                                             'visualizerIdOverride':'viz-jm-aef3cd8340f06d04517ffaac41b8dda5-27'})  \n",
       "            \n",
       "            \n",
       "            // set overflow for pytuts - need to do in python as css \n",
       "            // does not allow parent selection\n",
       "            var pytuts = $('.pytutorVisualizer')\n",
       "            pytuts.closest('div.output_html.rendered_html.output_result')\n",
       "                    .css('overflow-x', 'visible')\n",
       "        \n",
       "            //pytuts.closest('div.output_html.rendered_html.output_result')\n",
       "            //      .css('background-color','red')                \n",
       "            \n",
       "        })()\n",
       "        </script>\n",
       "                \n",
       "    \n",
       "    <div style=\"text-align:center; font-size:0.9em\"> <a href=\"https://pythontutor.com/visualize.html#mode=edit\" target=\"_blank\">Python Tutor</a> visualization</div> \n",
       "    "
      ],
      "text/plain": [
       "<IPython.core.display.HTML object>"
      ]
     },
     "execution_count": 25,
     "metadata": {},
     "output_type": "execute_result"
    }
   ],
   "source": [
    "bad = [[0]*3]*5\n",
    "jupman.pytut()"
   ]
  },
  {
   "cell_type": "markdown",
   "metadata": {},
   "source": [
    "Se guardi da vicino, noterai parecchie frecce che puntano alla stessa lista di 3 zeri. Questo significa che se cambiamo un numero, apparentemente cambieremo 5 di loro nell'intera colonna !\n",
    "\n",
    "Il modo giusto di creare una matrice come lista di liste con zeri è il seguente:"
   ]
  },
  {
   "cell_type": "code",
   "execution_count": 26,
   "metadata": {},
   "outputs": [
    {
     "data": {
      "text/plain": [
       "[[0, 0, 0], [0, 0, 0], [0, 0, 0], [0, 0, 0], [0, 0, 0]]"
      ]
     },
     "execution_count": 26,
     "metadata": {},
     "output_type": "execute_result"
    }
   ],
   "source": [
    "# CORRETTO \n",
    "[[0]*3 for i in range(5)]"
   ]
  },
  {
   "cell_type": "markdown",
   "metadata": {},
   "source": [
    "### Esercizio - vuota_eleg\n",
    "\n",
    "✪ Prova a creare una matrice con 7 righe e 4 colonne e riempila di 5."
   ]
  },
  {
   "cell_type": "raw",
   "id": "42f0f30e",
   "metadata": {
    "format": "text/html"
   },
   "source": [
    "<a  class=\"jupman-sol jupman-sol-toggler\" \n",
    " onclick=\"jupman.toggleSolution(this);\" \n",
    " data-jupman-show=\"Mostra soluzione\" data-jupman-hide=\"Nascondi\">Mostra soluzione</a><div class=\"jupman-sol jupman-sol-code\" style=\"display:none\">  "
   ]
  },
  {
   "cell_type": "code",
   "execution_count": 27,
   "metadata": {},
   "outputs": [
    {
     "data": {
      "text/plain": [
       "[[5, 5, 5, 5],\n",
       " [5, 5, 5, 5],\n",
       " [5, 5, 5, 5],\n",
       " [5, 5, 5, 5],\n",
       " [5, 5, 5, 5],\n",
       " [5, 5, 5, 5],\n",
       " [5, 5, 5, 5]]"
      ]
     },
     "execution_count": 27,
     "metadata": {},
     "output_type": "execute_result"
    }
   ],
   "source": [
    "# scrivi qui\n",
    "\n",
    "[[5]*4 for i in range(7)]"
   ]
  },
  {
   "cell_type": "raw",
   "id": "a7692aa1",
   "metadata": {
    "format": "text/html"
   },
   "source": [
    "</div>"
   ]
  },
  {
   "cell_type": "code",
   "execution_count": 27,
   "metadata": {},
   "outputs": [
    {
     "data": {
      "text/plain": [
       "[[5, 5, 5, 5],\n",
       " [5, 5, 5, 5],\n",
       " [5, 5, 5, 5],\n",
       " [5, 5, 5, 5],\n",
       " [5, 5, 5, 5],\n",
       " [5, 5, 5, 5],\n",
       " [5, 5, 5, 5]]"
      ]
     },
     "execution_count": 27,
     "metadata": {},
     "output_type": "execute_result"
    }
   ],
   "source": [
    "# scrivi qui\n",
    "\n"
   ]
  },
  {
   "cell_type": "markdown",
   "metadata": {},
   "source": [
    "### Copia in profondità\n",
    "\n",
    "Vediamo come si può produrre un clone _completo_ di una matrice, anche chiamato _deep clone_, creando una copia sia della lista esterna e _anche_ delle liste interne che rappresentano le righe.\n",
    "\n",
    "**DOMANDA**: Per farlo, potresti essere tentato di scrivere codice del genere, ma non funzionerà. Perchè?"
   ]
  },
  {
   "cell_type": "code",
   "execution_count": 28,
   "metadata": {},
   "outputs": [
    {
     "data": {
      "text/html": [
       "        \n",
       "        <script src=\"../_static/js/pytutor-embed.bundle.min.js\" type=\"application/javascript\"></script>\n",
       "    \n",
       "        <style>\n",
       "        @import \"../_static/css/jupman.css\";\n",
       "        </style>\n",
       "     \n",
       "        <script id=\"json-jm-a7c997a72a985de85856afdd4c22e17b-30\" type=\"application/json\" >\n",
       "            {\"code\": \" \\n# ATTENZIONE: CODICE SBAGLIATO:\\ndef deep_clone_sbagliato(mat):\\n    \\\"\\\"\\\" RITORNA una NUOVA lista di liste che un DEEP CLONE  di mat (che \\u00e8 una lista di liste)\\n    \\\"\\\"\\\"\\n    return mat[:] \\n\\nm = [ ['a','b'],\\n      ['b','d'] ]       \\n        \\nres = deep_clone_sbagliato(m)\", \"trace\": [{\"line\": 3, \"event\": \"step_line\", \"func_name\": \"<module>\", \"globals\": {}, \"ordered_globals\": [], \"stack_to_render\": [], \"heap\": {}, \"stdout\": \"\"}, {\"line\": 8, \"event\": \"step_line\", \"func_name\": \"<module>\", \"globals\": {\"deep_clone_sbagliato\": [\"REF\", 1]}, \"ordered_globals\": [\"deep_clone_sbagliato\"], \"stack_to_render\": [], \"heap\": {\"1\": [\"FUNCTION\", \"deep_clone_sbagliato(mat)\", null]}, \"stdout\": \"\"}, {\"line\": 9, \"event\": \"step_line\", \"func_name\": \"<module>\", \"globals\": {\"deep_clone_sbagliato\": [\"REF\", 1]}, \"ordered_globals\": [\"deep_clone_sbagliato\"], \"stack_to_render\": [], \"heap\": {\"1\": [\"FUNCTION\", \"deep_clone_sbagliato(mat)\", null]}, \"stdout\": \"\"}, {\"line\": 11, \"event\": \"step_line\", \"func_name\": \"<module>\", \"globals\": {\"deep_clone_sbagliato\": [\"REF\", 1], \"m\": [\"REF\", 2]}, \"ordered_globals\": [\"deep_clone_sbagliato\", \"m\"], \"stack_to_render\": [], \"heap\": {\"1\": [\"FUNCTION\", \"deep_clone_sbagliato(mat)\", null], \"2\": [\"LIST\", [\"REF\", 3], [\"REF\", 4]], \"3\": [\"LIST\", \"a\", \"b\"], \"4\": [\"LIST\", \"b\", \"d\"]}, \"stdout\": \"\"}, {\"line\": 3, \"event\": \"call\", \"func_name\": \"deep_clone_sbagliato\", \"globals\": {\"deep_clone_sbagliato\": [\"REF\", 1], \"m\": [\"REF\", 2]}, \"ordered_globals\": [\"deep_clone_sbagliato\", \"m\"], \"stack_to_render\": [{\"func_name\": \"deep_clone_sbagliato\", \"is_parent\": false, \"frame_id\": 1, \"parent_frame_id_list\": [], \"encoded_locals\": {\"mat\": [\"REF\", 2]}, \"ordered_varnames\": [\"mat\"], \"is_zombie\": false, \"is_highlighted\": true, \"unique_hash\": \"deep_clone_sbagliato_f1\"}], \"heap\": {\"2\": [\"LIST\", [\"REF\", 3], [\"REF\", 4]], \"3\": [\"LIST\", \"a\", \"b\"], \"4\": [\"LIST\", \"b\", \"d\"], \"1\": [\"FUNCTION\", \"deep_clone_sbagliato(mat)\", null]}, \"stdout\": \"\"}, {\"line\": 6, \"event\": \"step_line\", \"func_name\": \"deep_clone_sbagliato\", \"globals\": {\"deep_clone_sbagliato\": [\"REF\", 1], \"m\": [\"REF\", 2]}, \"ordered_globals\": [\"deep_clone_sbagliato\", \"m\"], \"stack_to_render\": [{\"func_name\": \"deep_clone_sbagliato\", \"is_parent\": false, \"frame_id\": 1, \"parent_frame_id_list\": [], \"encoded_locals\": {\"mat\": [\"REF\", 2]}, \"ordered_varnames\": [\"mat\"], \"is_zombie\": false, \"is_highlighted\": true, \"unique_hash\": \"deep_clone_sbagliato_f1\"}], \"heap\": {\"2\": [\"LIST\", [\"REF\", 3], [\"REF\", 4]], \"3\": [\"LIST\", \"a\", \"b\"], \"4\": [\"LIST\", \"b\", \"d\"], \"1\": [\"FUNCTION\", \"deep_clone_sbagliato(mat)\", null]}, \"stdout\": \"\"}, {\"line\": 6, \"event\": \"return\", \"func_name\": \"deep_clone_sbagliato\", \"globals\": {\"deep_clone_sbagliato\": [\"REF\", 1], \"m\": [\"REF\", 2]}, \"ordered_globals\": [\"deep_clone_sbagliato\", \"m\"], \"stack_to_render\": [{\"func_name\": \"deep_clone_sbagliato\", \"is_parent\": false, \"frame_id\": 1, \"parent_frame_id_list\": [], \"encoded_locals\": {\"mat\": [\"REF\", 2], \"__return__\": [\"REF\", 5]}, \"ordered_varnames\": [\"mat\", \"__return__\"], \"is_zombie\": false, \"is_highlighted\": true, \"unique_hash\": \"deep_clone_sbagliato_f1\"}], \"heap\": {\"2\": [\"LIST\", [\"REF\", 3], [\"REF\", 4]], \"3\": [\"LIST\", \"a\", \"b\"], \"4\": [\"LIST\", \"b\", \"d\"], \"5\": [\"LIST\", [\"REF\", 3], [\"REF\", 4]], \"1\": [\"FUNCTION\", \"deep_clone_sbagliato(mat)\", null]}, \"stdout\": \"\"}, {\"line\": 11, \"event\": \"return\", \"func_name\": \"<module>\", \"globals\": {\"deep_clone_sbagliato\": [\"REF\", 1], \"m\": [\"REF\", 2], \"res\": [\"REF\", 5]}, \"ordered_globals\": [\"deep_clone_sbagliato\", \"m\", \"res\"], \"stack_to_render\": [], \"heap\": {\"1\": [\"FUNCTION\", \"deep_clone_sbagliato(mat)\", null], \"2\": [\"LIST\", [\"REF\", 3], [\"REF\", 4]], \"3\": [\"LIST\", \"a\", \"b\"], \"4\": [\"LIST\", \"b\", \"d\"], \"5\": [\"LIST\", [\"REF\", 3], [\"REF\", 4]]}, \"stdout\": \"\"}]}\n",
       "        </script>\n",
       "        <div id=\"jm-a7c997a72a985de85856afdd4c22e17b-30\" class=\"pytutorVisualizer\"> </div>\n",
       "                        \n",
       "        <script>\n",
       "        \n",
       "        (function(){\n",
       "            console.log(\"jupman.py embedded javascript: adding Python tutor visualizer...\")\n",
       "            \n",
       "            var trace = JSON.parse(document.getElementById('json-jm-a7c997a72a985de85856afdd4c22e17b-30').innerHTML);                                        \n",
       "            // NOTE: id without #\n",
       "                    \n",
       "            addVisualizerToPage(trace, 'jm-a7c997a72a985de85856afdd4c22e17b-30',{'embeddedMode' : false,\n",
       "                                             'disableHeapNesting': true,\n",
       "                                             'visualizerIdOverride':'viz-jm-a7c997a72a985de85856afdd4c22e17b-30'})  \n",
       "            \n",
       "            \n",
       "            // set overflow for pytuts - need to do in python as css \n",
       "            // does not allow parent selection\n",
       "            var pytuts = $('.pytutorVisualizer')\n",
       "            pytuts.closest('div.output_html.rendered_html.output_result')\n",
       "                    .css('overflow-x', 'visible')\n",
       "        \n",
       "            //pytuts.closest('div.output_html.rendered_html.output_result')\n",
       "            //      .css('background-color','red')                \n",
       "            \n",
       "        })()\n",
       "        </script>\n",
       "                \n",
       "    \n",
       "    <div style=\"text-align:center; font-size:0.9em\"> <a href=\"https://pythontutor.com/visualize.html#mode=edit\" target=\"_blank\">Python Tutor</a> visualization</div> \n",
       "    "
      ],
      "text/plain": [
       "<IPython.core.display.HTML object>"
      ]
     },
     "execution_count": 28,
     "metadata": {},
     "output_type": "execute_result"
    }
   ],
   "source": [
    "# ATTENZIONE: CODICE SBAGLIATO:\n",
    "def deep_clone_sbagliato(mat):\n",
    "    \"\"\" RITORNA una NUOVA lista di liste che un DEEP CLONE  di mat (che è una lista di liste)\n",
    "    \"\"\"\n",
    "    return mat[:] \n",
    "\n",
    "m = [ ['a','b'],\n",
    "      ['b','d'] ]       \n",
    "        \n",
    "res = deep_clone_sbagliato(m)\n",
    "\n",
    "jupman.pytut()"
   ]
  },
  {
   "cell_type": "raw",
   "id": "c59f478d",
   "metadata": {
    "format": "text/html"
   },
   "source": [
    "<a  class=\"jupman-sol jupman-sol-toggler\" \n",
    " onclick=\"jupman.toggleSolution(this);\" \n",
    " data-jupman-show=\"Mostra risposta\" data-jupman-hide=\"Nascondi\">Mostra risposta</a><div class=\"jupman-sol jupman-sol-question\" style=\"display:none\">  "
   ]
  },
  {
   "cell_type": "markdown",
   "metadata": {},
   "source": [
    "**RISPOSTA**: `return mat[:] ` Non è sufficiente - perchè è un clone SUPERFICIALE (SHALLOW), che copia solo la lista _esterna_ ma non quelle interne! Nota che avrai righe nella lista `res` che vanno alla matrice _originale_. Non vogliamo questo !"
   ]
  },
  {
   "cell_type": "raw",
   "id": "12e0b5ec",
   "metadata": {
    "format": "text/html"
   },
   "source": [
    "</div>"
   ]
  },
  {
   "cell_type": "markdown",
   "metadata": {},
   "source": [
    "Nel codice sopra, avrai bisogno di iterare attraverso le righe e _per ciascuna_ riga creare una copia di quella riga.\n",
    "\n",
    "### Esercizio - deep_clone\n",
    "\n",
    "✪✪ Implementa `deep_clone`, che RITORNA una NUOVA lista come un DEEP CLONE completo di `mat`\n",
    "        (che è una lista di liste)\n",
    "        \n",
    "**NOTA**: L'esercizio si può risolvere molto velocemente usando la funzione [deepcopy](https://it.softpython.org/lists/lists3-sol.html#Funzione-deepcopy), ma ti invitiamo a provare a risolverlo senza.       "
   ]
  },
  {
   "cell_type": "raw",
   "id": "ce360068",
   "metadata": {
    "format": "text/html"
   },
   "source": [
    "<a  class=\"jupman-sol jupman-sol-toggler\" \n",
    " onclick=\"jupman.toggleSolution(this);\" \n",
    " data-jupman-show=\"Mostra soluzione\" data-jupman-hide=\"Nascondi\">Mostra soluzione</a><div class=\"jupman-sol jupman-sol-code\" style=\"display:none\">  "
   ]
  },
  {
   "cell_type": "code",
   "execution_count": 29,
   "metadata": {},
   "outputs": [],
   "source": [
    "def deep_clone(mat):\n",
    "    \n",
    "    \n",
    "    ret = []\n",
    "    for riga in mat:\n",
    "        ret.append(riga[:])\n",
    "    return ret\n",
    "    \n",
    "\n",
    "m = [ ['a','b'],\n",
    "      ['b','d'] ]\n",
    "\n",
    "res = [ ['a','b'],\n",
    "        ['b','d'] ]\n",
    "\n",
    "# verifica la copia\n",
    "c = deep_clone(m)\n",
    "assert c == res\n",
    "\n",
    "# verifica che una copia in profondità (cioè, ha anche creato cloni delle righe !)\n",
    "c[0][0] = 'z'\n",
    "assert m[0][0] == 'a'"
   ]
  },
  {
   "cell_type": "raw",
   "id": "06ed439f",
   "metadata": {
    "format": "text/html"
   },
   "source": [
    "</div>"
   ]
  },
  {
   "cell_type": "code",
   "execution_count": 29,
   "metadata": {},
   "outputs": [],
   "source": [
    "def deep_clone(mat):\n",
    "    raise Exception('TODO IMPLEMENT ME !')\n",
    "\n",
    "m = [ ['a','b'],\n",
    "      ['b','d'] ]\n",
    "\n",
    "res = [ ['a','b'],\n",
    "        ['b','d'] ]\n",
    "\n",
    "# verifica la copia\n",
    "c = deep_clone(m)\n",
    "assert c == res\n",
    "\n",
    "# verifica che una copia in profondità (cioè, ha anche creato cloni delle righe !)\n",
    "c[0][0] = 'z'\n",
    "assert m[0][0] == 'a'"
   ]
  },
  {
   "cell_type": "markdown",
   "metadata": {},
   "source": [
    "## Modificare matrici"
   ]
  },
  {
   "cell_type": "markdown",
   "metadata": {},
   "source": [
    "### Esercizio - riempic\n",
    "\n",
    "✪✪ Implementa la funzione `riempic`, che prende la matrice in input `mat` (una lista di liste di dimensione `nrighe` x `ncol`) e la MODIFICA mettendo il carattere `c` dentro tutte le celle della matrice.\n",
    "\n",
    "- per scorrere la matrice usa dei cicli for in range\n",
    "\n",
    "Ingredienti: \n",
    "\n",
    "- trovare dimensioni matrice\n",
    "- due for annidati\n",
    "- usare range                   \n",
    "\n",
    "\n",
    "<div class=\"alert alert-info\">\n",
    "\n",
    "**NOTA : Questa funzione non ritorna nulla!**\n",
    "\n",
    "Se nel testo della funzione non viene menzionato di tornare dei valori, NON bisogna mettere il `return`. Se per caso lo si mette lo stesso non casca il mondo, ma per evitare confusione è molto meglio avere un comportamento consistente col testo.\n",
    "</div>"
   ]
  },
  {
   "cell_type": "raw",
   "id": "b8c6c270",
   "metadata": {
    "format": "text/html"
   },
   "source": [
    "<a  class=\"jupman-sol jupman-sol-toggler\" \n",
    " onclick=\"jupman.toggleSolution(this);\" \n",
    " data-jupman-show=\"Mostra soluzione\" data-jupman-hide=\"Nascondi\">Mostra soluzione</a><div class=\"jupman-sol jupman-sol-code\" style=\"display:none\">  "
   ]
  },
  {
   "cell_type": "code",
   "execution_count": 30,
   "metadata": {},
   "outputs": [],
   "source": [
    "def riempic(mat, c):\n",
    "    \n",
    "    nrighe = len(mat)\n",
    "    ncol = len(mat[0])\n",
    "    \n",
    "    for i in range(nrighe):        \n",
    "        for j in range(ncol):            \n",
    "            mat[i][j] = c\n",
    "    \n",
    "\n",
    "m1 = [ ['a'] ]\n",
    "m2 = [ ['z'] ]\n",
    "riempic(m1,'z')\n",
    "assert m1 == m2\n",
    "\n",
    "m3 = [ ['a'] ]\n",
    "m4 = [ ['y'] ]\n",
    "riempic(m3,'y')\n",
    "assert m3 == m4\n",
    "\n",
    "m5 = [ ['a','b'] ]\n",
    "m6 = [ ['z','z'] ]\n",
    "riempic(m5,'z')\n",
    "assert m5 == m6\n",
    "\n",
    "m7 = [ ['a','b','c'],\n",
    "       ['d','e','f'],\n",
    "       ['g','h','i'] ]\n",
    "\n",
    "m8 = [ ['y','y','y'],\n",
    "       ['y','y','y'],\n",
    "       ['y','y','y'] ]\n",
    "riempic(m7,'y')\n",
    "assert m7 == m8\n",
    "\n",
    "#     j  0   1        \n",
    "m9 = [ ['a','b'],    # 0\n",
    "       ['c','d'],    # 1\n",
    "       ['e','f'] ]   # 2\n",
    "\n",
    "m10 = [ ['x','x'],    # 0\n",
    "        ['x','x'],    # 1\n",
    "        ['x','x'] ]   # 2\n",
    "riempic(m9, 'x')\n",
    "assert m9 == m10"
   ]
  },
  {
   "cell_type": "raw",
   "id": "15684a7e",
   "metadata": {
    "format": "text/html"
   },
   "source": [
    "</div>"
   ]
  },
  {
   "cell_type": "code",
   "execution_count": 30,
   "metadata": {},
   "outputs": [],
   "source": [
    "def riempic(mat, c):\n",
    "    raise Exception('TODO IMPLEMENT ME !')\n",
    "\n",
    "m1 = [ ['a'] ]\n",
    "m2 = [ ['z'] ]\n",
    "riempic(m1,'z')\n",
    "assert m1 == m2\n",
    "\n",
    "m3 = [ ['a'] ]\n",
    "m4 = [ ['y'] ]\n",
    "riempic(m3,'y')\n",
    "assert m3 == m4\n",
    "\n",
    "m5 = [ ['a','b'] ]\n",
    "m6 = [ ['z','z'] ]\n",
    "riempic(m5,'z')\n",
    "assert m5 == m6\n",
    "\n",
    "m7 = [ ['a','b','c'],\n",
    "       ['d','e','f'],\n",
    "       ['g','h','i'] ]\n",
    "\n",
    "m8 = [ ['y','y','y'],\n",
    "       ['y','y','y'],\n",
    "       ['y','y','y'] ]\n",
    "riempic(m7,'y')\n",
    "assert m7 == m8\n",
    "\n",
    "#     j  0   1        \n",
    "m9 = [ ['a','b'],    # 0\n",
    "       ['c','d'],    # 1\n",
    "       ['e','f'] ]   # 2\n",
    "\n",
    "m10 = [ ['x','x'],    # 0\n",
    "        ['x','x'],    # 1\n",
    "        ['x','x'] ]   # 2\n",
    "riempic(m9, 'x')\n",
    "assert m9 == m10"
   ]
  },
  {
   "cell_type": "markdown",
   "metadata": {},
   "source": [
    "### Esercizio - riempix \n",
    "\n",
    "✪✪ Prende una matrice `mat` come lista di liste e un indice di colonna `j`, e MODIFICA `mat` mettendo il carattere `'x'` in tutte le celle della colonna `j`-esima. \n",
    "\n",
    "\n",
    "Esempio:\n",
    "\n",
    "```python\n",
    "m = [\n",
    "      ['a','b','c','d'],    \n",
    "      ['e','f','g','h'],\n",
    "      ['i','l','m','n']\n",
    "    ]\n",
    "\n",
    "```\n",
    "Dopo la chiamata a \n",
    "\n",
    "```python\n",
    "riempix(m,2)\n",
    "```\n",
    "\n",
    "la matrice `m` sarà cambiata così:\n",
    "\n",
    "```python\n",
    "print(m)\n",
    "```\n",
    "\n",
    "```python\n",
    "[\n",
    "    ['a','b','x','d'],\n",
    "    ['e','f','x','h'],\n",
    "    ['i','l','x','n']\n",
    "]\n",
    "```"
   ]
  },
  {
   "cell_type": "raw",
   "id": "935311b7",
   "metadata": {
    "format": "text/html"
   },
   "source": [
    "<a  class=\"jupman-sol jupman-sol-toggler\" \n",
    " onclick=\"jupman.toggleSolution(this);\" \n",
    " data-jupman-show=\"Mostra soluzione\" data-jupman-hide=\"Nascondi\">Mostra soluzione</a><div class=\"jupman-sol jupman-sol-code\" style=\"display:none\">  "
   ]
  },
  {
   "cell_type": "code",
   "execution_count": 31,
   "metadata": {},
   "outputs": [],
   "source": [
    "def riempix(mat, j):\n",
    "    \n",
    "    for row in mat:\n",
    "        row[j] = 'x'\n",
    "    \n",
    "    \n",
    "\n",
    "m1 = [ ['a'] ]        \n",
    "riempix(m1,0)\n",
    "assert m1 == [ ['x'] ]    \n",
    "\n",
    "m2 = [ ['a','b'],\n",
    "       ['c','d'],\n",
    "       ['e','f'] ]\n",
    "riempix(m2,0)\n",
    "assert m2 == [ ['x','b'],\n",
    "               ['x','d'],\n",
    "               ['x','f'] ]\n",
    "\n",
    "m3 = [ ['a','b'],\n",
    "       ['c','d'],\n",
    "       ['e','f'] ]\n",
    "riempix(m3,1)\n",
    "assert m3 == [ ['a','x'],\n",
    "               ['c','x'],\n",
    "               ['e','x'] ]\n",
    "\n",
    "m4 = [ ['a','b','c','d'],\n",
    "       ['e','f','g','h'],\n",
    "       ['i','l','m','n'] ]\n",
    "riempix(m4,2)\n",
    "assert m4 == [ ['a','b','x','d'],\n",
    "               ['e','f','x','h'],\n",
    "               ['i','l','x','n'] ]"
   ]
  },
  {
   "cell_type": "raw",
   "id": "1d573d2d",
   "metadata": {
    "format": "text/html"
   },
   "source": [
    "</div>"
   ]
  },
  {
   "cell_type": "code",
   "execution_count": 31,
   "metadata": {},
   "outputs": [],
   "source": [
    "def riempix(mat, j):\n",
    "    raise Exception('TODO IMPLEMENT ME !')\n",
    "    \n",
    "\n",
    "m1 = [ ['a'] ]        \n",
    "riempix(m1,0)\n",
    "assert m1 == [ ['x'] ]    \n",
    "\n",
    "m2 = [ ['a','b'],\n",
    "       ['c','d'],\n",
    "       ['e','f'] ]\n",
    "riempix(m2,0)\n",
    "assert m2 == [ ['x','b'],\n",
    "               ['x','d'],\n",
    "               ['x','f'] ]\n",
    "\n",
    "m3 = [ ['a','b'],\n",
    "       ['c','d'],\n",
    "       ['e','f'] ]\n",
    "riempix(m3,1)\n",
    "assert m3 == [ ['a','x'],\n",
    "               ['c','x'],\n",
    "               ['e','x'] ]\n",
    "\n",
    "m4 = [ ['a','b','c','d'],\n",
    "       ['e','f','g','h'],\n",
    "       ['i','l','m','n'] ]\n",
    "riempix(m4,2)\n",
    "assert m4 == [ ['a','b','x','d'],\n",
    "               ['e','f','x','h'],\n",
    "               ['i','l','x','n'] ]"
   ]
  },
  {
   "cell_type": "markdown",
   "metadata": {},
   "source": [
    "### Esercizio - riempiz\n",
    "\n",
    "✪✪ Prende una matrice `mat` come lista di liste e un indice di riga `i`, e MODIFICA `mat` mettendo il carattere `'z'` in tutte le celle della riga `i`-esima. \n",
    "\n",
    "Esempio:\n",
    "\n",
    "```python\n",
    "m = [\n",
    "    ['a','b'],\n",
    "    ['c','d'],\n",
    "    ['e','f'],\n",
    "    ['g','h']\n",
    "]\n",
    "```\n",
    "Dopo la chiamata a \n",
    "\n",
    "```python\n",
    ">>> riempiz(m,2)\n",
    "```\n",
    "\n",
    "la matrice `m` sarà cambiata così:\n",
    "\n",
    "```python\n",
    ">>> print(m)\n",
    "```\n",
    "\n",
    "```python\n",
    "[\n",
    "    ['a','b'],\n",
    "    ['c','d'],\n",
    "    ['z','z'],\n",
    "    ['g','h']\n",
    "]\n",
    "```\n"
   ]
  },
  {
   "cell_type": "raw",
   "id": "e3d24c62",
   "metadata": {
    "format": "text/html"
   },
   "source": [
    "<a  class=\"jupman-sol jupman-sol-toggler\" \n",
    " onclick=\"jupman.toggleSolution(this);\" \n",
    " data-jupman-show=\"Mostra soluzione\" data-jupman-hide=\"Nascondi\">Mostra soluzione</a><div class=\"jupman-sol jupman-sol-code\" style=\"display:none\">  "
   ]
  },
  {
   "cell_type": "code",
   "execution_count": 32,
   "metadata": {},
   "outputs": [],
   "source": [
    "def riempiz(mat, i):\n",
    "    \n",
    "    ncol=len(mat[0])\n",
    "    for j in range(ncol):\n",
    "        mat[i][j] = 'z'\n",
    "    \n",
    "        \n",
    "\n",
    "m1 = [ ['a'] ]        \n",
    "riempiz(m1,0)\n",
    "assert m1 == [ ['z'] ]\n",
    "\n",
    "m2 = [ ['a','b'],\n",
    "       ['c','d'],\n",
    "       ['e','f'] ]\n",
    "riempiz(m2,0)\n",
    "assert m2 == [ ['z','z'],\n",
    "               ['c','d'],\n",
    "               ['e','f'] ]\n",
    "\n",
    "m3 = [ ['a','b'],\n",
    "       ['c','d'],\n",
    "       ['e','f'] ]\n",
    "riempiz(m3,1)\n",
    "assert m3 == [ ['a','b'],\n",
    "               ['z','z'],\n",
    "               ['e','f'] ]\n",
    "\n",
    "m4 = [ ['a','b'],\n",
    "       ['c','d'],\n",
    "       ['e','f'] ]\n",
    "riempiz(m4,2)\n",
    "assert m4 == [ ['a','b'],\n",
    "               ['c','d'],\n",
    "               ['z','z'] ]"
   ]
  },
  {
   "cell_type": "raw",
   "id": "9bc37a56",
   "metadata": {
    "format": "text/html"
   },
   "source": [
    "</div>"
   ]
  },
  {
   "cell_type": "code",
   "execution_count": 32,
   "metadata": {},
   "outputs": [],
   "source": [
    "def riempiz(mat, i):\n",
    "    raise Exception('TODO IMPLEMENT ME !')\n",
    "        \n",
    "\n",
    "m1 = [ ['a'] ]        \n",
    "riempiz(m1,0)\n",
    "assert m1 == [ ['z'] ]\n",
    "\n",
    "m2 = [ ['a','b'],\n",
    "       ['c','d'],\n",
    "       ['e','f'] ]\n",
    "riempiz(m2,0)\n",
    "assert m2 == [ ['z','z'],\n",
    "               ['c','d'],\n",
    "               ['e','f'] ]\n",
    "\n",
    "m3 = [ ['a','b'],\n",
    "       ['c','d'],\n",
    "       ['e','f'] ]\n",
    "riempiz(m3,1)\n",
    "assert m3 == [ ['a','b'],\n",
    "               ['z','z'],\n",
    "               ['e','f'] ]\n",
    "\n",
    "m4 = [ ['a','b'],\n",
    "       ['c','d'],\n",
    "       ['e','f'] ]\n",
    "riempiz(m4,2)\n",
    "assert m4 == [ ['a','b'],\n",
    "               ['c','d'],\n",
    "               ['z','z'] ]"
   ]
  },
  {
   "cell_type": "markdown",
   "metadata": {},
   "source": [
    "### Esercizio - attacca_sotto\n",
    "\n",
    "✪✪ Date le matrici `mat1` e `mat2` come lista di liste, con `mat1` di dimensione `u` x `n` e `mat2` di dimensione `d` x `n`, RITORNA una NUOVA matrice di dimensione `(u`+`d`) x `n` come lista di liste, attaccando la seconda matrice in fondo a `mat1` \n",
    "       \n",
    "- **NOT**A: per NUOVA matrice intendiamo una matrice con nessun puntatore alle righe originali (vedi il precedente esercizio deep_clone)\n",
    "- Per esempi, vedere gli assert"
   ]
  },
  {
   "cell_type": "raw",
   "id": "50520195",
   "metadata": {
    "format": "text/html"
   },
   "source": [
    "<a  class=\"jupman-sol jupman-sol-toggler\" \n",
    " onclick=\"jupman.toggleSolution(this);\" \n",
    " data-jupman-show=\"Mostra soluzione\" data-jupman-hide=\"Nascondi\">Mostra soluzione</a><div class=\"jupman-sol jupman-sol-code\" style=\"display:none\">  "
   ]
  },
  {
   "cell_type": "code",
   "execution_count": 33,
   "metadata": {},
   "outputs": [],
   "source": [
    "def attacca_sotto(mat1, mat2):\n",
    "    \n",
    "    res = []\n",
    "    for riga in mat1:\n",
    "        res.append(riga[:])\n",
    "    for riga in mat2:\n",
    "        res.append(riga[:])\n",
    "    return res\n",
    "    \n",
    "    \n",
    "m11 = [ ['a'] ]\n",
    "m12 = [ ['b'] ]\n",
    "assert attacca_sotto(m11, m12) == [ ['a'],\n",
    "                                    ['b'] ]\n",
    "\n",
    "# controlla che non stiamo dando indietro un deep clone\n",
    "r = attacca_sotto(m11, m12)\n",
    "r[0][0] = 'z'\n",
    "assert m11[0][0] == 'a' \n",
    "\n",
    "m21 = [ ['a','b','c'],\n",
    "        ['d','b','a'] ]\n",
    "m22 = [ ['f','b', 'h'],\n",
    "        ['g','h', 'w'] ]\n",
    "assert attacca_sotto(m21, m22) == [ ['a','b','c'],\n",
    "                                    ['d','b','a'],\n",
    "                                    ['f','b','h'],\n",
    "                                    ['g','h','w'] ]"
   ]
  },
  {
   "cell_type": "raw",
   "id": "aa9290e1",
   "metadata": {
    "format": "text/html"
   },
   "source": [
    "</div>"
   ]
  },
  {
   "cell_type": "code",
   "execution_count": 33,
   "metadata": {},
   "outputs": [],
   "source": [
    "def attacca_sotto(mat1, mat2):\n",
    "    raise Exception('TODO IMPLEMENT ME !')\n",
    "    \n",
    "m11 = [ ['a'] ]\n",
    "m12 = [ ['b'] ]\n",
    "assert attacca_sotto(m11, m12) == [ ['a'],\n",
    "                                    ['b'] ]\n",
    "\n",
    "# controlla che non stiamo dando indietro un deep clone\n",
    "r = attacca_sotto(m11, m12)\n",
    "r[0][0] = 'z'\n",
    "assert m11[0][0] == 'a' \n",
    "\n",
    "m21 = [ ['a','b','c'],\n",
    "        ['d','b','a'] ]\n",
    "m22 = [ ['f','b', 'h'],\n",
    "        ['g','h', 'w'] ]\n",
    "assert attacca_sotto(m21, m22) == [ ['a','b','c'],\n",
    "                                    ['d','b','a'],\n",
    "                                    ['f','b','h'],\n",
    "                                    ['g','h','w'] ]"
   ]
  },
  {
   "cell_type": "markdown",
   "metadata": {},
   "source": [
    "### Esercizio - attacca_sopra\n",
    "\n",
    "✪✪ Date le matrici `mat1` e `mat2` come lista di liste, con `mat1` di dimensione `u` x `n` e `mat2` di dimensione `d` x `n`, RITORNA una NUOVA matrice di dimensione (`u`+`d`) x `n` come lista di liste, attaccando la prima `mat` alla fine di `mat2`\n",
    "       \n",
    "- **NOTA**: per NUOVA matrice intendiamo una matrice con nessun puntatore alle righe originali (vedi il precedente esercizio `deep_clone`)       \n",
    "- Per implementare questa funzione, usa una chiamata al metodo attacca_sotto che hai implementato prima\n",
    "- Per esempi, vedere gli assert\n",
    "    \n"
   ]
  },
  {
   "cell_type": "raw",
   "id": "f7cfa13f",
   "metadata": {
    "format": "text/html"
   },
   "source": [
    "<a  class=\"jupman-sol jupman-sol-toggler\" \n",
    " onclick=\"jupman.toggleSolution(this);\" \n",
    " data-jupman-show=\"Mostra soluzione\" data-jupman-hide=\"Nascondi\">Mostra soluzione</a><div class=\"jupman-sol jupman-sol-code\" style=\"display:none\">  "
   ]
  },
  {
   "cell_type": "code",
   "execution_count": 34,
   "metadata": {},
   "outputs": [],
   "source": [
    "def attacca_sopra(mat1, mat2):\n",
    "    \n",
    "    return attacca_sotto(mat2, mat1)\n",
    "    \n",
    "    \n",
    "m1 = [ ['a'] ]\n",
    "m2 = [ ['b'] ]\n",
    "assert attacca_sopra(m1, m2) == [ ['b'],\n",
    "                                  ['a'] ]\n",
    "\n",
    "# controlla che stiamo ritornando un deep clone\n",
    "s = attacca_sopra(m1, m2)\n",
    "s[0][0] = 'z'\n",
    "assert m1[0][0] == 'a'     \n",
    "    \n",
    "m1 = [ ['a','b','c'],\n",
    "       ['d','b','a'] ]\n",
    "m2 = [ ['f','b', 'h'],\n",
    "       ['g','h', 'w'] ]\n",
    "\n",
    "assert attacca_sopra(m1, m2) == [ ['f','b','h'],\n",
    "                                  ['g','h','w'],\n",
    "                                  ['a','b','c'],\n",
    "                                  ['d','b','a'] ]"
   ]
  },
  {
   "cell_type": "raw",
   "id": "bb21fb2b",
   "metadata": {
    "format": "text/html"
   },
   "source": [
    "</div>"
   ]
  },
  {
   "cell_type": "code",
   "execution_count": 34,
   "metadata": {},
   "outputs": [],
   "source": [
    "def attacca_sopra(mat1, mat2):\n",
    "    raise Exception('TODO IMPLEMENT ME !')\n",
    "    \n",
    "m1 = [ ['a'] ]\n",
    "m2 = [ ['b'] ]\n",
    "assert attacca_sopra(m1, m2) == [ ['b'],\n",
    "                                  ['a'] ]\n",
    "\n",
    "# controlla che stiamo ritornando un deep clone\n",
    "s = attacca_sopra(m1, m2)\n",
    "s[0][0] = 'z'\n",
    "assert m1[0][0] == 'a'     \n",
    "    \n",
    "m1 = [ ['a','b','c'],\n",
    "       ['d','b','a'] ]\n",
    "m2 = [ ['f','b', 'h'],\n",
    "       ['g','h', 'w'] ]\n",
    "\n",
    "assert attacca_sopra(m1, m2) == [ ['f','b','h'],\n",
    "                                  ['g','h','w'],\n",
    "                                  ['a','b','c'],\n",
    "                                  ['d','b','a'] ]"
   ]
  },
  {
   "cell_type": "markdown",
   "metadata": {},
   "source": [
    "### Esercizio - attacca_dx\n",
    "\n",
    "✪✪✪ Date le matrici `mat1` e `mat2` come lista di liste, con `mat1` di dimensione `n` x `l` e `mat2` di dimensione `n` x `r`, RITORNA una NUOVA matrice di dimensione `n` x (`l` + `r`) come lista di liste, attaccando `mat2` alla destra di `mat1`"
   ]
  },
  {
   "cell_type": "raw",
   "id": "535cb46a",
   "metadata": {
    "format": "text/html"
   },
   "source": [
    "<a  class=\"jupman-sol jupman-sol-toggler\" \n",
    " onclick=\"jupman.toggleSolution(this);\" \n",
    " data-jupman-show=\"Mostra soluzione\" data-jupman-hide=\"Nascondi\">Mostra soluzione</a><div class=\"jupman-sol jupman-sol-code\" style=\"display:none\">  "
   ]
  },
  {
   "cell_type": "code",
   "execution_count": 35,
   "metadata": {},
   "outputs": [],
   "source": [
    "def attacca_dx(mat1,mat2):\n",
    "    \n",
    "    ret = []\n",
    "    for i in range(len(mat1)):\n",
    "        riga_da_aggiungere =  mat1[i][:]\n",
    "        riga_da_aggiungere.extend(mat2[i])\n",
    "        ret.append(riga_da_aggiungere)\n",
    "    return ret\n",
    "    \n",
    "    \n",
    "\n",
    "m1 = [ ['a','b','c'],\n",
    "       ['d','b','a'] ]\n",
    "m2 = [ ['f','b'],\n",
    "       ['g','h'] ]\n",
    "\n",
    "assert attacca_dx(m1, m2) == [ ['a','b','c','f','b'],\n",
    "                               ['d','b','a','g','h'] ]"
   ]
  },
  {
   "cell_type": "raw",
   "id": "837ce578",
   "metadata": {
    "format": "text/html"
   },
   "source": [
    "</div>"
   ]
  },
  {
   "cell_type": "code",
   "execution_count": 35,
   "metadata": {},
   "outputs": [],
   "source": [
    "def attacca_dx(mat1,mat2):\n",
    "    raise Exception('TODO IMPLEMENT ME !')\n",
    "    \n",
    "\n",
    "m1 = [ ['a','b','c'],\n",
    "       ['d','b','a'] ]\n",
    "m2 = [ ['f','b'],\n",
    "       ['g','h'] ]\n",
    "\n",
    "assert attacca_dx(m1, m2) == [ ['a','b','c','f','b'],\n",
    "                               ['d','b','a','g','h'] ]"
   ]
  },
  {
   "cell_type": "markdown",
   "metadata": {},
   "source": [
    "### Esercizio - insercol \n",
    "\n",
    "✪✪ Data una matrice `mat` come lista di liste, un indice di colonna `j` e una lista `nuova_col`, scrivere una funzione `insercol(mat,j, nuova_col)` che MODIFICA `mat` inserendo alla posizione `j` la nuova colonna.\n",
    "\n",
    "Esempio - data: "
   ]
  },
  {
   "cell_type": "code",
   "execution_count": 36,
   "metadata": {},
   "outputs": [],
   "source": [
    "       # 0 1 2 \n",
    "m  = [\n",
    "        [5,4,6],   \n",
    "        [4,7,1],   \n",
    "        [3,2,6],  \n",
    "]"
   ]
  },
  {
   "cell_type": "markdown",
   "metadata": {},
   "source": [
    "Chiamando\n",
    "\n",
    "```python\n",
    "\n",
    ">>> insercol(mat, 2, [7,9,3])\n",
    "```\n",
    "    \n",
    "`m` sarà MODIFICATA con l'inserimento della colonna `[7,9,3]`\n",
    "alla posizione `j=2`"
   ]
  },
  {
   "cell_type": "markdown",
   "metadata": {},
   "source": [
    "```python\n",
    ">>> m\n",
    "       # 0 1 2 3\n",
    "[\n",
    "        [5,4,7,6],   \n",
    "        [4,7,9,1],   \n",
    "        [3,2,3,6],  \n",
    "]  \n",
    "```\n",
    "\n",
    "- per altri esempi, vedere gli assert\n",
    "- **SUGGERIMENTO**: le liste hanno già un comodo metodo `.insert`, quindi non c'è tanto codice da scrivere, basta scrivere quello giusto ;-)   "
   ]
  },
  {
   "cell_type": "raw",
   "id": "92403bd5",
   "metadata": {
    "format": "text/html"
   },
   "source": [
    "<a  class=\"jupman-sol jupman-sol-toggler\" \n",
    " onclick=\"jupman.toggleSolution(this);\" \n",
    " data-jupman-show=\"Mostra soluzione\" data-jupman-hide=\"Nascondi\">Mostra soluzione</a><div class=\"jupman-sol jupman-sol-code\" style=\"display:none\">  "
   ]
  },
  {
   "cell_type": "code",
   "execution_count": 37,
   "metadata": {},
   "outputs": [],
   "source": [
    "\n",
    "def insercol(mat, j, nuova_col):\n",
    "    \n",
    "    for i in range(len(mat)):\n",
    "        mat[i].insert(j, nuova_col[i])\n",
    "    \n",
    "\n",
    "\n",
    "m1 = [\n",
    "        [5]\n",
    "     ]\n",
    "assert insercol(m1,1,[8]) == None # la funzione non ritorna nulla !\n",
    "assert m1 == [ [5,8] ]\n",
    "\n",
    "m2 = [ [5] ]\n",
    "insercol(m2,0,[8]) \n",
    "assert m2 == [ [8,5] ]\n",
    "\n",
    "m3 = [  [5,4,2],\n",
    "        [8,9,3] ]\n",
    "insercol(m3,1,[7,6])\n",
    "assert m3 == [ [5,7,4,2],\n",
    "               [8,6,9,3] ]\n",
    "\n",
    "\n",
    "m4 = [ [5,4,6],   \n",
    "       [4,7,1],   \n",
    "       [3,2,6] ]\n",
    "insercol(m4, 2, [7,9,3])\n",
    "\n",
    "assert m4 == [ [5,4,7,6],   \n",
    "               [4,7,9,1],   \n",
    "               [3,2,3,6] ]"
   ]
  },
  {
   "cell_type": "raw",
   "id": "2b26e336",
   "metadata": {
    "format": "text/html"
   },
   "source": [
    "</div>"
   ]
  },
  {
   "cell_type": "code",
   "execution_count": 37,
   "metadata": {},
   "outputs": [],
   "source": [
    "\n",
    "def insercol(mat, j, nuova_col):\n",
    "    raise Exception('TODO IMPLEMENT ME !')\n",
    "\n",
    "\n",
    "m1 = [\n",
    "        [5]\n",
    "     ]\n",
    "assert insercol(m1,1,[8]) == None # la funzione non ritorna nulla !\n",
    "assert m1 == [ [5,8] ]\n",
    "\n",
    "m2 = [ [5] ]\n",
    "insercol(m2,0,[8]) \n",
    "assert m2 == [ [8,5] ]\n",
    "\n",
    "m3 = [  [5,4,2],\n",
    "        [8,9,3] ]\n",
    "insercol(m3,1,[7,6])\n",
    "assert m3 == [ [5,7,4,2],\n",
    "               [8,6,9,3] ]\n",
    "\n",
    "\n",
    "m4 = [ [5,4,6],   \n",
    "       [4,7,1],   \n",
    "       [3,2,6] ]\n",
    "insercol(m4, 2, [7,9,3])\n",
    "\n",
    "assert m4 == [ [5,4,7,6],   \n",
    "               [4,7,9,1],   \n",
    "               [3,2,3,6] ]"
   ]
  },
  {
   "cell_type": "markdown",
   "metadata": {},
   "source": [
    "### Esercizio - remcol\n",
    "\n",
    "Data una matrice mat come lista di liste, MODIFICA mat rimuovendo la colonna j-esima, e RITORNA una lista con tutti i valori rimossi\n",
    "\n",
    "- Se `j` è negativo o maggiore della larghezza della matrice, solleva `ValueError`\n",
    "\n",
    "NOTA: è un po' particolare perchè sia MODIFICA che RITORNA\n",
    "\n",
    "Esempio:\n",
    "\n",
    "```python\n",
    ">>> m = [ [5,4,7,6],   \n",
    "          [4,7,9,1],   \n",
    "          [3,2,3,6] ]\n",
    ">>> remcol(m,2)\n",
    "[7,9,3]\n",
    ">>> print(m)\n",
    "[ [5,4,6],   \n",
    "  [4,7,1],   \n",
    "  [3,2,6] ]\n",
    "```"
   ]
  },
  {
   "cell_type": "raw",
   "id": "2e4effa8",
   "metadata": {
    "format": "text/html"
   },
   "source": [
    "<a  class=\"jupman-sol jupman-sol-toggler\" \n",
    " onclick=\"jupman.toggleSolution(this);\" \n",
    " data-jupman-show=\"Mostra soluzione\" data-jupman-hide=\"Nascondi\">Mostra soluzione</a><div class=\"jupman-sol jupman-sol-code\" style=\"display:none\">  "
   ]
  },
  {
   "cell_type": "code",
   "execution_count": 38,
   "metadata": {},
   "outputs": [],
   "source": [
    "def remcol(mat,j):\n",
    "    \n",
    "    if j < 0 or j >= len(mat[0]):\n",
    "        raise ValueError(\"j fuori dalla matrice: %s\" % j)\n",
    "\n",
    "    ret = []\n",
    "    for riga in mat:\n",
    "        ret.append(riga.pop(j))\n",
    "    return ret\n",
    "    \n",
    "\n",
    "    \n",
    "m1 = [ [5, 8] ]\n",
    "assert remcol(m1,0) == [5]\n",
    "assert m1 == [ [8] ]\n",
    "\n",
    "m2 = [ [5, 8] ]\n",
    "assert remcol(m2,1) == [8]\n",
    "assert m2 == [ [5] ]\n",
    "\n",
    "m3 = [ [7,2],\n",
    "       [9,4],\n",
    "       [6,1] ]\n",
    "assert remcol(m3,0) == [7,9,6]\n",
    "assert m3 == [ [2],\n",
    "               [4],\n",
    "               [1]]\n",
    "\n",
    "m4 = [ [5,4,7,6],   \n",
    "       [4,7,9,1],   \n",
    "       [3,2,3,6] ]\n",
    "assert remcol(m4,2) == [7,9,3]\n",
    "assert m4 == [ [5,4,6],   \n",
    "               [4,7,1],   \n",
    "               [3,2,6] ]\n",
    "\n",
    "m5 = [ [5,4,7,6],   \n",
    "       [4,7,9,1],   \n",
    "       [3,2,3,6] ]\n",
    "assert remcol(m5,3) == [6,1,6]\n",
    "assert m5 == [ [5,4,7],\n",
    "               [4,7,9],\n",
    "               [3,2,3] ]\n",
    "\n",
    "m6 = [ [5,4,7,6],   \n",
    "       [4,7,9,1],   \n",
    "       [3,2,3,6] ]\n",
    "try:\n",
    "    remcol(m6, -3)\n",
    "except ValueError:\n",
    "    pass\n",
    "try:\n",
    "    remcol(m6, 4)\n",
    "except ValueError:\n",
    "    pass"
   ]
  },
  {
   "cell_type": "raw",
   "id": "b8a05d2b",
   "metadata": {
    "format": "text/html"
   },
   "source": [
    "</div>"
   ]
  },
  {
   "cell_type": "code",
   "execution_count": 38,
   "metadata": {},
   "outputs": [],
   "source": [
    "def remcol(mat,j):\n",
    "    raise Exception('TODO IMPLEMENT ME !')\n",
    "\n",
    "    \n",
    "m1 = [ [5, 8] ]\n",
    "assert remcol(m1,0) == [5]\n",
    "assert m1 == [ [8] ]\n",
    "\n",
    "m2 = [ [5, 8] ]\n",
    "assert remcol(m2,1) == [8]\n",
    "assert m2 == [ [5] ]\n",
    "\n",
    "m3 = [ [7,2],\n",
    "       [9,4],\n",
    "       [6,1] ]\n",
    "assert remcol(m3,0) == [7,9,6]\n",
    "assert m3 == [ [2],\n",
    "               [4],\n",
    "               [1]]\n",
    "\n",
    "m4 = [ [5,4,7,6],   \n",
    "       [4,7,9,1],   \n",
    "       [3,2,3,6] ]\n",
    "assert remcol(m4,2) == [7,9,3]\n",
    "assert m4 == [ [5,4,6],   \n",
    "               [4,7,1],   \n",
    "               [3,2,6] ]\n",
    "\n",
    "m5 = [ [5,4,7,6],   \n",
    "       [4,7,9,1],   \n",
    "       [3,2,3,6] ]\n",
    "assert remcol(m5,3) == [6,1,6]\n",
    "assert m5 == [ [5,4,7],\n",
    "               [4,7,9],\n",
    "               [3,2,3] ]\n",
    "\n",
    "m6 = [ [5,4,7,6],   \n",
    "       [4,7,9,1],   \n",
    "       [3,2,3,6] ]\n",
    "try:\n",
    "    remcol(m6, -3)\n",
    "except ValueError:\n",
    "    pass\n",
    "try:\n",
    "    remcol(m6, 4)\n",
    "except ValueError:\n",
    "    pass"
   ]
  },
  {
   "cell_type": "markdown",
   "metadata": {},
   "source": [
    "### Esercizio - soglia\n",
    "\n",
    "✪✪ Prende una matrice `mat` come lista di liste (ogni lista ha la stessa dimensione) e un numero `t`, e RITORNA una NUOVA matrice come lista di liste dove c'è `True` se l'elemento di input corrispondente è maggiore di `t`, altrimenti ritorna `False`.\n",
    "    \n",
    "Ingredienti:\n",
    "\n",
    "- una variabile per la matrice da ritornare\n",
    "- per ogni riga originale, dobbiamo creare una nuova lista"
   ]
  },
  {
   "cell_type": "raw",
   "id": "5af7405c",
   "metadata": {
    "format": "text/html"
   },
   "source": [
    "<a  class=\"jupman-sol jupman-sol-toggler\" \n",
    " onclick=\"jupman.toggleSolution(this);\" \n",
    " data-jupman-show=\"Mostra soluzione\" data-jupman-hide=\"Nascondi\">Mostra soluzione</a><div class=\"jupman-sol jupman-sol-code\" style=\"display:none\">  "
   ]
  },
  {
   "cell_type": "code",
   "execution_count": 39,
   "metadata": {},
   "outputs": [],
   "source": [
    "def soglia(mat, t):\n",
    "    \n",
    "    ret = []\n",
    "    for riga in mat:\n",
    "        nuova_riga = []\n",
    "        ret.append(nuova_riga)\n",
    "        for el in riga:\n",
    "            nuova_riga.append(el > t)\n",
    "        \n",
    "    return ret\n",
    "    \n",
    "\n",
    "morig = [ [1,4,2],\n",
    "          [7,9,3] ]\n",
    "    \n",
    "    \n",
    "m = [ [1,4,2],\n",
    "      [7,9,3] ]\n",
    "\n",
    "s = [ [False,False,False],\n",
    "      [True, True, False] ]\n",
    "assert soglia(m,4) == s\n",
    "assert m == morig   # verifica che original non sia cambiata\n",
    "\n",
    "\n",
    "m = [ [5,2],\n",
    "      [3,7] ]\n",
    "\n",
    "s = [\n",
    "    [True,False],\n",
    "    [False,True]\n",
    "]\n",
    "assert soglia(m,4) == s"
   ]
  },
  {
   "cell_type": "raw",
   "id": "564f9dee",
   "metadata": {
    "format": "text/html"
   },
   "source": [
    "</div>"
   ]
  },
  {
   "cell_type": "code",
   "execution_count": 39,
   "metadata": {},
   "outputs": [],
   "source": [
    "def soglia(mat, t):\n",
    "    raise Exception('TODO IMPLEMENT ME !')\n",
    "\n",
    "morig = [ [1,4,2],\n",
    "          [7,9,3] ]\n",
    "    \n",
    "    \n",
    "m = [ [1,4,2],\n",
    "      [7,9,3] ]\n",
    "\n",
    "s = [ [False,False,False],\n",
    "      [True, True, False] ]\n",
    "assert soglia(m,4) == s\n",
    "assert m == morig   # verifica che original non sia cambiata\n",
    "\n",
    "\n",
    "m = [ [5,2],\n",
    "      [3,7] ]\n",
    "\n",
    "s = [\n",
    "    [True,False],\n",
    "    [False,True]\n",
    "]\n",
    "assert soglia(m,4) == s"
   ]
  },
  {
   "cell_type": "markdown",
   "metadata": {},
   "source": [
    "### Esercizio - scambia_righe\n",
    "\n",
    "Proveremo a scambiare due righe di una matrice\n",
    "\n",
    "Ci sono diversi modi di procedere. Prima di continuare, assicurati di sapere come scambiare solo due valori risolvendo questo semplice esercizio - controlla inoltre il risultato in Python Tutor.\n"
   ]
  },
  {
   "cell_type": "raw",
   "id": "d1348fd4",
   "metadata": {
    "format": "text/html"
   },
   "source": [
    "<a  class=\"jupman-sol jupman-sol-toggler\" \n",
    " onclick=\"jupman.toggleSolution(this);\" \n",
    " data-jupman-show=\"Mostra soluzione\" data-jupman-hide=\"Nascondi\">Mostra soluzione</a><div class=\"jupman-sol jupman-sol-code\" style=\"display:none\">  "
   ]
  },
  {
   "cell_type": "code",
   "execution_count": 40,
   "metadata": {},
   "outputs": [],
   "source": [
    "x = 3\n",
    "y = 7\n",
    "\n",
    "# scrivi qui il codice per scambiare x e y (non usare direttamente le costanti 3 e 7!)\n",
    "\n",
    "k = x   \n",
    "x = y\n",
    "y = k\n",
    "\n",
    "#jupman.pytut()"
   ]
  },
  {
   "cell_type": "raw",
   "id": "beadbcbf",
   "metadata": {
    "format": "text/html"
   },
   "source": [
    "</div>"
   ]
  },
  {
   "cell_type": "code",
   "execution_count": 40,
   "metadata": {},
   "outputs": [],
   "source": [
    "x = 3\n",
    "y = 7\n",
    "\n",
    "# scrivi qui il codice per scambiare x e y (non usare direttamente le costanti 3 e 7!)\n",
    "\n"
   ]
  },
  {
   "cell_type": "markdown",
   "metadata": {},
   "source": [
    "✪✪ Prende una matrice `mat` come lista di liste, e RITORNA una NUOVA matrice dove le righe agli indici `i1` e `i2` sono scambiate\n",
    "       \n",
    "Ingredienti:\n",
    "\n",
    "- prima clona in profondità\n",
    "- poi scambia le righe "
   ]
  },
  {
   "cell_type": "raw",
   "id": "d474bdbe",
   "metadata": {
    "format": "text/html"
   },
   "source": [
    "<a  class=\"jupman-sol jupman-sol-toggler\" \n",
    " onclick=\"jupman.toggleSolution(this);\" \n",
    " data-jupman-show=\"Mostra soluzione\" data-jupman-hide=\"Nascondi\">Mostra soluzione</a><div class=\"jupman-sol jupman-sol-code\" style=\"display:none\">  "
   ]
  },
  {
   "cell_type": "code",
   "execution_count": 41,
   "metadata": {},
   "outputs": [],
   "source": [
    "def scambia_righe(mat, i1, i2):\n",
    "    \n",
    "   \n",
    "    # prima clona in profondita\n",
    "    ret = []\n",
    "    for riga in mat:\n",
    "        ret.append(riga[:])\n",
    "    # poi scambia\n",
    "    s = ret[i1]\n",
    "    ret[i1] = ret[i2]\n",
    "    ret[i2] = s\n",
    "    return ret\n",
    "    \n",
    "\n",
    "m = [ ['a','d'],\n",
    "      ['b','e'],\n",
    "      ['c','f'] ]\n",
    "\n",
    "res = scambia_righe(m, 0, 2)\n",
    "\n",
    "assert res == [ ['c','f'],    \n",
    "                ['b','e'],\n",
    "                ['a','d'] ]\n",
    "\n",
    "res[0][0] = 'z'\n",
    "assert m[0][0] == 'a'\n",
    "\n",
    "\n",
    "m = [ ['a','d'],\n",
    "      ['b','e'],\n",
    "      ['c','f'] ]\n",
    "\n",
    "\n",
    "# scambia con se stesso dovrebbe nei fatti generare un deep clone\n",
    "res = scambia_righe(m, 0, 0)\n",
    "\n",
    "assert res == [ ['a','d'],\n",
    "                ['b','e'],\n",
    "                ['c','f'] ]\n",
    "\n",
    "res[0][0] = 'z'\n",
    "assert m[0][0] == 'a'\n"
   ]
  },
  {
   "cell_type": "raw",
   "id": "83179834",
   "metadata": {
    "format": "text/html"
   },
   "source": [
    "</div>"
   ]
  },
  {
   "cell_type": "code",
   "execution_count": 41,
   "metadata": {},
   "outputs": [],
   "source": [
    "def scambia_righe(mat, i1, i2):\n",
    "    raise Exception('TODO IMPLEMENT ME !')\n",
    "\n",
    "m = [ ['a','d'],\n",
    "      ['b','e'],\n",
    "      ['c','f'] ]\n",
    "\n",
    "res = scambia_righe(m, 0, 2)\n",
    "\n",
    "assert res == [ ['c','f'],    \n",
    "                ['b','e'],\n",
    "                ['a','d'] ]\n",
    "\n",
    "res[0][0] = 'z'\n",
    "assert m[0][0] == 'a'\n",
    "\n",
    "\n",
    "m = [ ['a','d'],\n",
    "      ['b','e'],\n",
    "      ['c','f'] ]\n",
    "\n",
    "\n",
    "# scambia con se stesso dovrebbe nei fatti generare un deep clone\n",
    "res = scambia_righe(m, 0, 0)\n",
    "\n",
    "assert res == [ ['a','d'],\n",
    "                ['b','e'],\n",
    "                ['c','f'] ]\n",
    "\n",
    "res[0][0] = 'z'\n",
    "assert m[0][0] == 'a'\n"
   ]
  },
  {
   "cell_type": "markdown",
   "metadata": {},
   "source": [
    "### Esercizio - scambia_colonne\n",
    "\n",
    "✪✪ Prende una matrice `mat` e due indici di colonna `j1` e `j2` e RITORNA una NUOVA matrice dove le colonne `j1` e `j2` sono scambiate"
   ]
  },
  {
   "cell_type": "raw",
   "id": "10ed1eea",
   "metadata": {
    "format": "text/html"
   },
   "source": [
    "<a  class=\"jupman-sol jupman-sol-toggler\" \n",
    " onclick=\"jupman.toggleSolution(this);\" \n",
    " data-jupman-show=\"Mostra soluzione\" data-jupman-hide=\"Nascondi\">Mostra soluzione</a><div class=\"jupman-sol jupman-sol-code\" style=\"display:none\">  "
   ]
  },
  {
   "cell_type": "code",
   "execution_count": 42,
   "metadata": {},
   "outputs": [],
   "source": [
    "def scambia_colonne(mat, j1, j2):\n",
    "    \n",
    "    ret = []\n",
    "    for riga in mat:\n",
    "        nuova_riga = riga[:]\n",
    "        nuova_riga[j1] = riga[j2]\n",
    "        nuova_riga[j2] = riga[j1]\n",
    "        ret.append(nuova_riga)\n",
    "    return ret\n",
    "    \n",
    "\n",
    "m = [ ['a','b','c'],\n",
    "      ['d','e','f'] ]\n",
    "\n",
    "res = scambia_colonne(m, 0,2)\n",
    "\n",
    "assert res == [ ['c','b','a'],\n",
    "                ['f','e','d'] ]\n",
    "\n",
    "res[0][0] = 'z'\n",
    "assert m[0][0] == 'a'"
   ]
  },
  {
   "cell_type": "raw",
   "id": "d71e97bf",
   "metadata": {
    "format": "text/html"
   },
   "source": [
    "</div>"
   ]
  },
  {
   "cell_type": "code",
   "execution_count": 42,
   "metadata": {},
   "outputs": [],
   "source": [
    "def scambia_colonne(mat, j1, j2):\n",
    "    raise Exception('TODO IMPLEMENT ME !')\n",
    "\n",
    "m = [ ['a','b','c'],\n",
    "      ['d','e','f'] ]\n",
    "\n",
    "res = scambia_colonne(m, 0,2)\n",
    "\n",
    "assert res == [ ['c','b','a'],\n",
    "                ['f','e','d'] ]\n",
    "\n",
    "res[0][0] = 'z'\n",
    "assert m[0][0] == 'a'"
   ]
  },
  {
   "cell_type": "markdown",
   "metadata": {},
   "source": [
    "## Prosegui\n",
    "\n",
    "Continua con [Matrici 2 - altri esercizi](https://it.softpython.org/matrices-lists/matrices-lists2-sol.html)"
   ]
  }
 ],
 "metadata": {
  "celltoolbar": "Edit Metadata",
  "kernelspec": {
   "display_name": "Python 3 (ipykernel)",
   "language": "python",
   "name": "python3"
  },
  "language_info": {
   "codemirror_mode": {
    "name": "ipython",
    "version": 3
   },
   "file_extension": ".py",
   "mimetype": "text/x-python",
   "name": "python",
   "nbconvert_exporter": "python",
   "pygments_lexer": "ipython3",
   "version": "3.7.16"
  },
  "toc": {
   "base_numbering": 1,
   "nav_menu": {},
   "number_sections": false,
   "sideBar": true,
   "skip_h1_title": false,
   "title_cell": "Table of Contents",
   "title_sidebar": "Contents",
   "toc_cell": false,
   "toc_position": {
    "height": "calc(100% - 180px)",
    "left": "10px",
    "top": "150px",
    "width": "287px"
   },
   "toc_section_display": true,
   "toc_window_display": true
  }
 },
 "nbformat": 4,
 "nbformat_minor": 2
}

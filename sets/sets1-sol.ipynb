{
 "cells": [
  {
   "cell_type": "code",
   "execution_count": 1,
   "metadata": {
    "nbsphinx": "hidden"
   },
   "outputs": [],
   "source": [
    "# Ricordati di eseguire questa cella con Shift+Invio\n",
    "\n",
    "import jupman"
   ]
  },
  {
   "cell_type": "markdown",
   "metadata": {},
   "source": [
    "\n",
    "# Insiemi\n",
    "\n",
    "## [Scarica zip esercizi](../_static/generated/sets.zip)\n",
    "\n",
    "[Naviga file online](https://github.com/DavidLeoni/softpython-it/tree/master/sets)\n",
    "\n",
    "\n",
    "Un insieme è una collezione _mutabile_ _senza ordine_ di elementi _immutabili_ e _distinti_ (cioè senza duplicati). Il tipo di dati in Python per rappresentare gli insiemi si chiama `set`.\n",
    "\n",
    "\n",
    "### Che fare\n",
    "\n",
    "<div class=\"alert alert-warning\">\n",
    "\n",
    "**ATTENZIONE**: Per essere visualizzato correttamente, il file del notebook DEVE essere nella cartella szippata.\n",
    "</div>\n",
    "\n",
    "- apri il Jupyter Notebook da quella cartella. Due cose dovrebbero aprirsi, prima una console e poi un browser. Il browser dovrebbe mostrare una lista di file: naviga la lista e apri il notebook `sets1.ipynb`\n",
    "- Prosegui leggendo il file degli esercizi, ogni tanto al suo interno troverai delle scritte **ESERCIZIO**, che ti chiederanno di scrivere dei comandi Python nelle celle successive. \n",
    "\n",
    "Scorciatoie da tastiera:\n",
    "\n",
    "* Per eseguire il codice Python dentro una cella di Jupyter, premi `Control+Invio`\n",
    "* Per eseguire il codice Python dentro una cella di Jupyter E selezionare la cella seguente, premi `Shift+Invio`\n",
    "* Per eseguire il codice Python dentro una cella di Jupyter E creare una nuova cella subito dopo, premi `Alt+Invio`\n",
    "* Se per caso il Notebook sembra inchiodato, prova a selezionare `Kernel -> Restart`\n"
   ]
  },
  {
   "cell_type": "markdown",
   "metadata": {},
   "source": [
    "\n",
    "## Creare un insieme\n",
    "\n",
    "Possiamo creare un insieme usando le parentesi graffe, e separando gli elementi da virgole `,` \n",
    "\n",
    "Proviamo un insieme di caratteri:"
   ]
  },
  {
   "cell_type": "code",
   "execution_count": 2,
   "metadata": {},
   "outputs": [],
   "source": [
    "s = {'b','a','d','c'}"
   ]
  },
  {
   "cell_type": "code",
   "execution_count": 3,
   "metadata": {},
   "outputs": [
    {
     "data": {
      "text/plain": [
       "set"
      ]
     },
     "execution_count": 3,
     "metadata": {},
     "output_type": "execute_result"
    }
   ],
   "source": [
    "type(s)"
   ]
  },
  {
   "cell_type": "markdown",
   "metadata": {},
   "source": [
    "<div class=\"alert alert-warning\">\n",
    "\n",
    "**ATTENZIONE: GLI INSIEMI** ***NON*** **SONO ORDINATI !!!**\n",
    "\n",
    "**NON** CREDERE A QUELLO CHE VEDI !!\n",
    "</div>"
   ]
  },
  {
   "cell_type": "markdown",
   "metadata": {},
   "source": [
    "Proviamo a stampare l'insieme:"
   ]
  },
  {
   "cell_type": "code",
   "execution_count": 4,
   "metadata": {},
   "outputs": [
    {
     "name": "stdout",
     "output_type": "stream",
     "text": [
      "{'d', 'b', 'c', 'a'}\n"
     ]
    }
   ],
   "source": [
    "print(s)"
   ]
  },
  {
   "cell_type": "markdown",
   "metadata": {},
   "source": [
    "Come vedi, l'ordine in cui è stata effettuata la stampa è diverso da quello con cui abbiamo costruito l'insieme. A seconda della versione di Python che stai usando, sul tuo computer potrebbe essere diverso ancora!! \n",
    "\n",
    "Questo perchè l'ordine negli insiemi NON è garantito: l'unica cosa che conta è se un elemento appartiene ad un insieme oppure no."
   ]
  },
  {
   "cell_type": "markdown",
   "metadata": {},
   "source": [
    "Come ulteriore dimostrazione, possiamo chiedere a Jupyter di mostrarci il contenuto dell'insieme, scrivendo solo la variabile `s` SENZA la `print`:"
   ]
  },
  {
   "cell_type": "code",
   "execution_count": 5,
   "metadata": {},
   "outputs": [
    {
     "data": {
      "text/plain": [
       "{'a', 'b', 'c', 'd'}"
      ]
     },
     "execution_count": 5,
     "metadata": {},
     "output_type": "execute_result"
    }
   ],
   "source": [
    "s"
   ]
  },
  {
   "cell_type": "markdown",
   "metadata": {},
   "source": [
    "Adesso appare in ordine alfabetico ! Succede così perchè Jupyter quando mostra le variabili le stampa implicitamente non con la `print` ma con la [pprint](https://docs.python.org/3/library/pprint.html) (_pretty_ print), che SOLO per gli insiemi ci fa la cortesia di ordinare il risultato prima di stamparlo. Possiamo ringraziare, ma non lasciamo che ci confonda !!"
   ]
  },
  {
   "cell_type": "markdown",
   "metadata": {},
   "source": [
    "**Indice degli elementi**: visto che gli insiemi non hanno ordine, chiedere a Python di estrarre un elemento ad una certa posizione non avrebbe senso. Quindi, diversamente da stringhe, liste e tuple, con gli insiemi NON è possibile ricavare un elemento a partire da un indice:\n",
    "\n",
    "```python\n",
    "s[0]\n",
    "\n",
    "---------------------------------------------------------------------------\n",
    "TypeError                                 Traceback (most recent call last)\n",
    "<ipython-input-352-c9c96910e542> in <module>\n",
    "----> 1 s[0]\n",
    "\n",
    "TypeError: 'set' object is not subscriptable\n",
    "```"
   ]
  },
  {
   "cell_type": "markdown",
   "metadata": {},
   "source": [
    "Abbiamo detto che un insieme ha solo elementi _distinti_, cioè senza duplicati - che succede se proviamo a metterli comunque ?"
   ]
  },
  {
   "cell_type": "code",
   "execution_count": 6,
   "metadata": {},
   "outputs": [],
   "source": [
    "s = {6,7,5,9,5,5,7}"
   ]
  },
  {
   "cell_type": "code",
   "execution_count": 7,
   "metadata": {},
   "outputs": [
    {
     "data": {
      "text/plain": [
       "{5, 6, 7, 9}"
      ]
     },
     "execution_count": 7,
     "metadata": {},
     "output_type": "execute_result"
    }
   ],
   "source": [
    "s"
   ]
  },
  {
   "cell_type": "markdown",
   "metadata": {},
   "source": [
    "Notiamo che Python ha silenziosamente rimosso i duplicati."
   ]
  },
  {
   "cell_type": "markdown",
   "metadata": {},
   "source": [
    "### Convertire sequenze in insiemi\n",
    "\n",
    "Come per liste e stringhe, possiamo creare un `set` a partire da un'altra sequenza:"
   ]
  },
  {
   "cell_type": "code",
   "execution_count": 8,
   "metadata": {},
   "outputs": [
    {
     "data": {
      "text/plain": [
       "{'a', 'c', 'i'}"
      ]
     },
     "execution_count": 8,
     "metadata": {},
     "output_type": "execute_result"
    }
   ],
   "source": [
    "set('acacia') # da stringa"
   ]
  },
  {
   "cell_type": "code",
   "execution_count": 9,
   "metadata": {},
   "outputs": [
    {
     "data": {
      "text/plain": [
       "{1, 2, 3}"
      ]
     },
     "execution_count": 9,
     "metadata": {},
     "output_type": "execute_result"
    }
   ],
   "source": [
    "set( [1,2,3,1,2,1,2,1,3,1] ) # da lista"
   ]
  },
  {
   "cell_type": "code",
   "execution_count": 10,
   "metadata": {},
   "outputs": [
    {
     "data": {
      "text/plain": [
       "{1, 4, 5, 6}"
      ]
     },
     "execution_count": 10,
     "metadata": {},
     "output_type": "execute_result"
    }
   ],
   "source": [
    "set( (4,6,1,5,1,4,1,5,4,5) ) # da tupla"
   ]
  },
  {
   "cell_type": "markdown",
   "metadata": {},
   "source": [
    "Di nuovo, notiamo come nell'insieme creato non siano presenti duplicati.\n",
    "\n",
    "<div class=\"alert alert-info\">\n",
    "\n",
    "**RICORDATI: Gli insiemi sono utili per rimuovere duplicati da una sequenza** \n",
    "</div>"
   ]
  },
  {
   "cell_type": "markdown",
   "metadata": {},
   "source": [
    "### Elementi mutabili e hash"
   ]
  },
  {
   "cell_type": "markdown",
   "metadata": {},
   "source": [
    "Rivediamo la definizione di insieme data all'inizio:\n",
    "\n",
    "> Un insieme è una collezione _mutabile_ _senza ordine_ di elementi _immutabili_ e _distinti_\n",
    "\n",
    "Finora abbiamo creato l'insieme solo usando elementi _immutabili_ come numeri e stringhe. \n",
    "\n",
    "Cosa succede se mettiamo degli elementi mutabili, come liste?"
   ]
  },
  {
   "cell_type": "markdown",
   "metadata": {},
   "source": [
    "```python\n",
    ">>> s = { [1,2,3], [4,5] }  \n",
    "\n",
    "---------------------------------------------------------------------------\n",
    "TypeError                                 Traceback (most recent call last)\n",
    "<ipython-input-40-a6c538692ccb> in <module>\n",
    "----> 1 s = { [1,2,3], [4,5]  } \n",
    "\n",
    "TypeError: unhashable type: 'list'\n",
    "```    "
   ]
  },
  {
   "cell_type": "markdown",
   "metadata": {},
   "source": [
    "Otteniamo `TypeError: unhashable type: 'list'`, che letteralmente significa che Python non è riuscito a calcolare lo spezzatino (_hash_) della lista. Cosa sarà mai questa particolare pietanza??\n",
    "\n",
    "\n",
    "**Cos'è lo hash?** Lo _hash_ di un oggetto è un numero che Python può associargli, per esempio puoi vedere lo `hash` di un oggetto con l'omonima funzione:"
   ]
  },
  {
   "cell_type": "code",
   "execution_count": 11,
   "metadata": {},
   "outputs": [
    {
     "data": {
      "text/plain": [
       "8476997338545103310"
      ]
     },
     "execution_count": 11,
     "metadata": {},
     "output_type": "execute_result"
    }
   ],
   "source": [
    "hash( \"Questa è una bella giornata\" )  # stringa"
   ]
  },
  {
   "cell_type": "code",
   "execution_count": 12,
   "metadata": {
    "scrolled": true
   },
   "outputs": [
    {
     "data": {
      "text/plain": [
       "651300278308214397"
      ]
     },
     "execution_count": 12,
     "metadata": {},
     "output_type": "execute_result"
    }
   ],
   "source": [
    "hash( 111112222223333333344444445555555555 )   # numero"
   ]
  },
  {
   "cell_type": "markdown",
   "metadata": {},
   "source": [
    " Immagina che lo _hash_ sia una specie di etichetta con queste caratteristiche:\n",
    "\n",
    "- è troppo breve per descrivere completamente l'oggetto a cui è associata (tradotto: data solo un'etichetta hash, _non_ puoi ricostruire l'oggetto che rappresenta)\n",
    "- è abbastanza lunga per identificare _quasi_ univocamente l'oggetto...\n",
    "- ... anche se al mondo _potrebbero_  esistere oggetti diversi hanno però associata esattamente la stessa etichetta\n",
    "\n",
    "**Cosa c'entra con i nostri insiemi?** Lo _hash_ ha vari utilizzi, ma tipicamente Python lo usa per ritrovare velocemente un'oggetto in collezioni basate sugli hash, come gli insiemi e i dizionari. Quanto velocemente? Parecchio: anche con insiemi enormi, otteniamo una risposta sempre in un tempo costante e brevissimo! In altre parole, la velocità di risposta  _non_ dipende dalla dimensione dell'insieme (salvo casi patologici).\n",
    "\n",
    "Questa velocità è consentita dal fatto che dato un oggetto da cercare, Python è in grado di ricavare velocemente la sua etichetta _hash:_ poi con l'etichetta in mano, riesce a individuare nel magazzino della memoria molto in fretta se vi sono oggetti che hanno la stessa etichetta. Se vengono trovati, saranno quasi sicuramente molto pochi, e basterà quindi confrontarli con quello cercato."
   ]
  },
  {
   "cell_type": "markdown",
   "metadata": {},
   "source": [
    "**Gli oggetti _immutabili_ hanno sempre lo stessa etichetta hash** da quando sono creati fino alla fine del programma. Quelli _mutabili_ invece no: ogni volta che li cambiamo,  viene anche automaticamente cambiato l'_hash_. Immaginati un supermercato dove i commessi dispongono gli alimentari in base all'etichetta separando per esempio il caffè nello scaffale per la prima colazione e la varechina nello scaffale dei detersivi. Se sei un cliente e vuoi il caffè, guardi i cartelli e ti dirigi subito verso lo scaffale della prima colazione. Immagina cosa succederebbe se un mago malvagio potesse trasmutare gli oggetti già collocati negli scaffali in altri oggetti, quindi per esempio il caffè in varechina (assumiamo che al momento della trasmutazione oltre al caffè cambi anche l'etichetta _hash_). Sicuramente porterebbe tanta confusione, e se non si sta attenti, anche un gran mal di pancia.\n",
    "\n",
    "Quindi per offrirti il vantaggio della ricerca rapida evitando situazioni disastrose, Python ti impone di collocare nell'insieme solo oggetti con _hash_ stabile, cioè gli oggetti _immutabili_."
   ]
  },
  {
   "cell_type": "markdown",
   "metadata": {},
   "source": [
    "**DOMANDA**: Possiamo inserire una tupla dentro un insieme? Prova a verificare la tua supposizione con un esempio di codice."
   ]
  },
  {
   "cell_type": "raw",
   "id": "46a2c9fd",
   "metadata": {
    "format": "text/html"
   },
   "source": [
    "<a  class=\"jupman-sol jupman-sol-toggler\" \n",
    " onclick=\"jupman.toggleSolution(this);\" \n",
    " data-jupman-show=\"Mostra risposta\" data-jupman-hide=\"Nascondi\">Mostra risposta</a><div class=\"jupman-sol jupman-sol-question\" style=\"display:none\">  "
   ]
  },
  {
   "cell_type": "markdown",
   "metadata": {},
   "source": [
    "**RISPOSTA**: Sì, le tuple sono _immutabili_, quindi hanno uno _hash_ corrispondente stabile per tutta la durata del programma, per es questo è un set di tuple: `{(1,2), (3,4,5)}`"
   ]
  },
  {
   "cell_type": "raw",
   "id": "de17c732",
   "metadata": {
    "format": "text/html"
   },
   "source": [
    "</div>"
   ]
  },
  {
   "cell_type": "markdown",
   "metadata": {},
   "source": [
    "### Insieme vuoto\n",
    "\n",
    "<div class=\"alert alert-warning\">\n",
    "\n",
    "**ATTENZIONE: Se scrivi** `{}` **otterrai un dizionario, NON un insieme !!!**\n",
    "\n",
    "</div>\n",
    "\n",
    "Per creare un insieme vuoto dobbiamo chiamare la funzione `set()`:"
   ]
  },
  {
   "cell_type": "code",
   "execution_count": 13,
   "metadata": {},
   "outputs": [],
   "source": [
    "s = set()"
   ]
  },
  {
   "cell_type": "code",
   "execution_count": 14,
   "metadata": {},
   "outputs": [
    {
     "data": {
      "text/plain": [
       "set()"
      ]
     },
     "execution_count": 14,
     "metadata": {},
     "output_type": "execute_result"
    }
   ],
   "source": [
    "s"
   ]
  },
  {
   "cell_type": "markdown",
   "metadata": {},
   "source": [
    "**ESERCIZIO**: prova a scrivere nella cella qua sotto `{}` e guarda il tipo dell'oggetto ottenuto con `type`"
   ]
  },
  {
   "cell_type": "code",
   "execution_count": 15,
   "metadata": {},
   "outputs": [],
   "source": [
    "# scrivi qui\n"
   ]
  },
  {
   "cell_type": "markdown",
   "metadata": {},
   "source": [
    "**DOMANDA**: Possiamo inserire un insieme dentro un'altro insieme? Guarda bene la definizione di insieme, poi verifica le tuo supposizioni provando a scrivere del codice per creare un insieme che abbia dentro un'altro insieme.\n",
    "\n",
    "<div class=\"alert alert-warning\">\n",
    "\n",
    "**ATTENZIONE: Per fare la verifica, NON usare la funzione** `set`, **usa solo creazione con parentesi graffe**\n",
    "</div>"
   ]
  },
  {
   "cell_type": "raw",
   "id": "1247d303",
   "metadata": {
    "format": "text/html"
   },
   "source": [
    "<a  class=\"jupman-sol jupman-sol-toggler\" \n",
    " onclick=\"jupman.toggleSolution(this);\" \n",
    " data-jupman-show=\"Mostra risposta\" data-jupman-hide=\"Nascondi\">Mostra risposta</a><div class=\"jupman-sol jupman-sol-question\" style=\"display:none\">  "
   ]
  },
  {
   "cell_type": "markdown",
   "metadata": {},
   "source": [
    "**RISPOSTA**: Un insieme è _mutabile_, pertanto _non_ possiamo inserirlo come elemento di un altro insieme (la sua etichetta _hash_ potrebbe variare nel tempo ). Scrivendo  `{{1,2,3}}` otterrai un errore."
   ]
  },
  {
   "cell_type": "raw",
   "id": "4e70bd55",
   "metadata": {
    "format": "text/html"
   },
   "source": [
    "</div>"
   ]
  },
  {
   "cell_type": "markdown",
   "metadata": {},
   "source": [
    "**DOMANDA**: Se scriviamo una cosa del genere, cosa otterremo? (attento !)\n",
    "\n",
    "```python\n",
    "set(set(['a','b']))\n",
    "```\n",
    "\n",
    "1. un insieme con dentro `'a'` e `'b'`\n",
    "2. un insieme con dentro un insieme contenente gli elementi `'a'` e `'b'`\n",
    "3. un errore (quale?)"
   ]
  },
  {
   "cell_type": "raw",
   "id": "6005b1bc",
   "metadata": {
    "format": "text/html"
   },
   "source": [
    "<a  class=\"jupman-sol jupman-sol-toggler\" \n",
    " onclick=\"jupman.toggleSolution(this);\" \n",
    " data-jupman-show=\"Mostra risposta\" data-jupman-hide=\"Nascondi\">Mostra risposta</a><div class=\"jupman-sol jupman-sol-question\" style=\"display:none\">  "
   ]
  },
  {
   "cell_type": "markdown",
   "metadata": {},
   "source": [
    "**RISPOSTA**: la 1:\n",
    "\n",
    "- all'interno abbiamo l'espressione `set(['a','b'])` che genera l'insieme `{'a','b'}`\n",
    "- all'esterno abbiamo l'espressione `set( set(['a','b'])  )` che  si vede passare questo insieme appena creato, quindi la possiamo riscrivere come `set({'a','b'})`\n",
    "- Dato che la `set` quando usata come funzione si attende una sequenza, e un insieme *è* una sequenza, la `set` esterna preleva tutti gli elementi che trova all'interno della sequenza `{'a','b'}` che gli abbiamo passato, e genera un nuovo insieme con dentro `'a'` e `'b'`."
   ]
  },
  {
   "cell_type": "raw",
   "id": "e899fc76",
   "metadata": {
    "format": "text/html"
   },
   "source": [
    "</div>"
   ]
  },
  {
   "cell_type": "markdown",
   "metadata": {},
   "source": [
    "**DOMANDA**:  Guarda le seguenti espressioni, e per ciascuna cerca di indovinare quale risultato producono (o se danno errore):\n",
    "\n",
    "1.  ```python\n",
    "    {'oh','la','la'}\n",
    "    ```   \n",
    "1.  ```python\n",
    "    set([3,4,2,3,2,2,2,-1])\n",
    "    ```  \n",
    "1.  ```python    \n",
    "    {(1,2),(2,3)}\n",
    "    ```   \n",
    "1.  ```python    \n",
    "    set('aba')\n",
    "    ```   \n",
    "1.  ```python\n",
    "    str({'a'})\n",
    "    ```       \n",
    "1.  ```python    \n",
    "    {1;2;3}\n",
    "    ```   \n",
    "1.  ```python    \n",
    "    set(  1,2,3  )\n",
    "    ```   \n",
    "1.  ```python    \n",
    "    set( {1,2,3} )\n",
    "    ```   \n",
    "1.  ```python    \n",
    "    set( [1,2,3] )\n",
    "    ```   \n",
    "1.  ```python    \n",
    "    set( (1,2,3) )\n",
    "    ```   \n",
    "1.  ```python    \n",
    "    set(  \"abc\"  )\n",
    "    ```   \n",
    "1.  ```python    \n",
    "    set(  \"1232\"  )\n",
    "    ```   \n",
    "1.  ```python    \n",
    "    set( [ {1,2,3,2} ] )\n",
    "    ```   \n",
    "1.  ```python    \n",
    "    set( [ [1,2,3,2] ] )\n",
    "    ```   \n",
    "1.  ```python    \n",
    "    set( [ (1,2,3,2) ] )\n",
    "    ```   \n",
    "1.  ```python    \n",
    "    set( [ \"abcb\"   ] )\n",
    "    ```   \n",
    "1.  ```python    \n",
    "    set( [ \"1232\"   ] )\n",
    "    ```   \n",
    "1.  ```python    \n",
    "    set((1,2,3,2))\n",
    "    ```   \n",
    "1.  ```python    \n",
    "    set([(),()])\n",
    "    ```   \n",
    "1.  ```python    \n",
    "    set([])\n",
    "    ```   \n",
    "1.  ```python    \n",
    "    set(list(set()))\n",
    "    ```"
   ]
  },
  {
   "cell_type": "markdown",
   "metadata": {},
   "source": [
    "### Esercizio: dedup\n",
    "\n",
    "Scrivi del codice breve per creare una lista `lb` che contiene tutti gli elementi dalla lista `la` senza duplicati e ordinati alfabeticamente.\n",
    "\n",
    "- NON DEVE cambiare la lista originale `la`\n",
    "- NON usare cicli\n",
    "- il tuo codice dovrebbe funzionare con qualunque `la`\n",
    "\n",
    "```python\n",
    "la = ['c','a','b','c','d','b','e']\n",
    "```\n",
    "\n",
    "dopo il tuo codice, dovresti ottenere:\n",
    "\n",
    "```python\n",
    ">>> print(la)\n",
    "['c', 'a', 'b', 'c', 'd', 'b', 'e']\n",
    ">>> print(lb)\n",
    "['a', 'b', 'c', 'd', 'e']\n",
    "```"
   ]
  },
  {
   "cell_type": "raw",
   "id": "7c391e69",
   "metadata": {
    "format": "text/html"
   },
   "source": [
    "<a  class=\"jupman-sol jupman-sol-toggler\" \n",
    " onclick=\"jupman.toggleSolution(this);\" \n",
    " data-jupman-show=\"Mostra soluzione\" data-jupman-hide=\"Nascondi\">Mostra soluzione</a><div class=\"jupman-sol jupman-sol-code\" style=\"display:none\">  "
   ]
  },
  {
   "cell_type": "code",
   "execution_count": 16,
   "metadata": {
    "scrolled": true
   },
   "outputs": [
    {
     "name": "stdout",
     "output_type": "stream",
     "text": [
      "la = ['c', 'a', 'b', 'c', 'd', 'b', 'e']\n",
      "lb = ['a', 'b', 'c', 'd', 'e']\n"
     ]
    }
   ],
   "source": [
    "la = ['c','a','b','c','d','b','e']\n",
    "\n",
    "# scrivi qui\n",
    "\n",
    "lb = list(set(la))\n",
    "lb.sort()\n",
    "#lb = list(sorted(set(la)))  # alternativa, NOTA: sorted genera una NUOVA sequenza\n",
    "\n",
    "print(\"la =\",la)\n",
    "print(\"lb =\",lb)"
   ]
  },
  {
   "cell_type": "raw",
   "id": "defa464d",
   "metadata": {
    "format": "text/html"
   },
   "source": [
    "</div>"
   ]
  },
  {
   "cell_type": "code",
   "execution_count": 16,
   "metadata": {
    "scrolled": true
   },
   "outputs": [
    {
     "name": "stdout",
     "output_type": "stream",
     "text": [
      "la = ['c', 'a', 'b', 'c', 'd', 'b', 'e']\n",
      "lb = ['a', 'b', 'c', 'd', 'e']\n"
     ]
    }
   ],
   "source": [
    "la = ['c','a','b','c','d','b','e']\n",
    "\n",
    "# scrivi qui\n",
    "\n"
   ]
  },
  {
   "cell_type": "markdown",
   "metadata": {},
   "source": [
    "### Frozenset\n",
    "\n",
    "<div class=\"alert alert-info\" >\n",
    "\n",
    "**INFO**: questo argomento è opzionale ai fini della comprensione del libro\n",
    "</div>\n",
    "\n",
    "In Python esistono anche insiemi _immutabili_ che si chiamano `frozenset`. Qui ci limitamo a ricordare che i `frozenset` essendo _immutabili_ hanno un'etichetta _hash_ associata e possono essere inseriti come elementi di altri insiemi. Per il resto rimandiamo alla [documentazione ufficiale](https://docs.python.org/3/library/stdtypes.html#frozenset)."
   ]
  },
  {
   "cell_type": "markdown",
   "metadata": {},
   "source": [
    "## Operatori"
   ]
  },
  {
   "cell_type": "markdown",
   "metadata": {},
   "source": [
    "|Operatore| Risultato | Descrizione |\n",
    "|---------|-----------|-------------|\n",
    "|`len`(set)|`int` | il numero di elementi nel set|\n",
    "|el `in` set|`bool`|verifica se elemento è contenuto nel set|\n",
    "|set <code>&#124;</code>  set| `set` | unione, crea un NUOVO set|\n",
    "|set `&` set| `set` | intersezione, crea un NUOVO set|\n",
    "|set `-` set| `set` | differenza, crea un NUOVO set|\n",
    "|set `^` set| `set` | differenza simmetrica, crea un NUOVO set|\n",
    "|`==`,`!=`|`bool`| Controlla se due insiemi sono uguali o differenti|\n"
   ]
  },
  {
   "cell_type": "markdown",
   "metadata": {},
   "source": [
    "### len"
   ]
  },
  {
   "cell_type": "code",
   "execution_count": 17,
   "metadata": {},
   "outputs": [
    {
     "data": {
      "text/plain": [
       "3"
      ]
     },
     "execution_count": 17,
     "metadata": {},
     "output_type": "execute_result"
    }
   ],
   "source": [
    "len( {'a','b','c'}  )"
   ]
  },
  {
   "cell_type": "code",
   "execution_count": 18,
   "metadata": {},
   "outputs": [
    {
     "data": {
      "text/plain": [
       "0"
      ]
     },
     "execution_count": 18,
     "metadata": {},
     "output_type": "execute_result"
    }
   ],
   "source": [
    "len( set() )"
   ]
  },
  {
   "cell_type": "markdown",
   "metadata": {},
   "source": [
    "### Esercizio - distinte\n",
    "\n",
    "Data una stringa `parola`, scrivere del codice che \n",
    "\n",
    "* stampa  le lettere distinte presenti  in `parola` ordinate alfabeticamente (senza le quadre!), assieme al loro numero\n",
    "* stampa il numero di lettere duplicate trovate in totale\n",
    "\n",
    "\n",
    "**Esempio 1** - data:\n",
    "\n",
    "```python\n",
    "parola = \"ababbbbcdd\"\n",
    "```\n",
    "dopo il tuo codice deve stampare\n",
    "\n",
    "```\n",
    "parola     : ababbbbcdd\n",
    "4 distinte : a,b,c,d\n",
    "6 duplicate\n",
    "```\n",
    "\n",
    "**Esempio 2** - data:\n",
    "\n",
    "```python\n",
    "parola = \"cccccaaabbbb\"\n",
    "```\n",
    "\n",
    "dopo il tuo codice deve stampare\n",
    "\n",
    "```\n",
    "parola     : cccccaaabbbb\n",
    "3 distinte : a,b,c\n",
    "9 duplicate\n",
    "```\n"
   ]
  },
  {
   "cell_type": "raw",
   "id": "add9df4e",
   "metadata": {
    "format": "text/html"
   },
   "source": [
    "<a  class=\"jupman-sol jupman-sol-toggler\" \n",
    " onclick=\"jupman.toggleSolution(this);\" \n",
    " data-jupman-show=\"Mostra soluzione\" data-jupman-hide=\"Nascondi\">Mostra soluzione</a><div class=\"jupman-sol jupman-sol-code\" style=\"display:none\">  "
   ]
  },
  {
   "cell_type": "code",
   "execution_count": 19,
   "metadata": {},
   "outputs": [
    {
     "name": "stdout",
     "output_type": "stream",
     "text": [
      "parola     : ababbbbcdd\n",
      "4 distinte : a,b,c,d\n",
      "6 duplicate\n"
     ]
    }
   ],
   "source": [
    "# scrivi qui\n",
    "parola = \"ababbbbcdd\"\n",
    "#parola = \"cccccaaabbbb\"\n",
    "s = set(parola)\n",
    "print(\"parola     :\", parola)\n",
    "la = list(s) \n",
    "la.sort()\n",
    "print(len(s), 'distinte :', \",\".join(la))\n",
    "#print(len(s), 'distinte :', list(sorted(s)))  # ALTERNATIVA CON SORTED\n",
    "print(len(parola) - len(s), 'duplicate')"
   ]
  },
  {
   "cell_type": "raw",
   "id": "d22f61eb",
   "metadata": {
    "format": "text/html"
   },
   "source": [
    "</div>"
   ]
  },
  {
   "cell_type": "code",
   "execution_count": 19,
   "metadata": {},
   "outputs": [
    {
     "name": "stdout",
     "output_type": "stream",
     "text": [
      "parola     : ababbbbcdd\n",
      "4 distinte : a,b,c,d\n",
      "6 duplicate\n"
     ]
    }
   ],
   "source": [
    "# scrivi qui\n",
    "\n"
   ]
  },
  {
   "cell_type": "markdown",
   "metadata": {},
   "source": [
    "### Appartenenza"
   ]
  },
  {
   "cell_type": "markdown",
   "metadata": {},
   "source": [
    "Come per tutte le sequenze, se vogliamo verificare se un elemento è contenuto in un insieme possiamo usare l'operatore `in` che ci ritorna un valore booleano:"
   ]
  },
  {
   "cell_type": "code",
   "execution_count": 20,
   "metadata": {},
   "outputs": [
    {
     "data": {
      "text/plain": [
       "True"
      ]
     },
     "execution_count": 20,
     "metadata": {},
     "output_type": "execute_result"
    }
   ],
   "source": [
    "'a' in {'m','e','n','t','a'}"
   ]
  },
  {
   "cell_type": "code",
   "execution_count": 21,
   "metadata": {},
   "outputs": [
    {
     "data": {
      "text/plain": [
       "False"
      ]
     },
     "execution_count": 21,
     "metadata": {},
     "output_type": "execute_result"
    }
   ],
   "source": [
    "'z' in {'m','e','n','t','a'}"
   ]
  },
  {
   "cell_type": "markdown",
   "metadata": {},
   "source": [
    "<div class=\"alert alert-warning\">\n",
    "\n",
    "`in` **NEGLI INSIEMI E' UN'OPERAZIONE MOLTO VELOCE**\n",
    "\n",
    "La velocità dell'operatore `in` NON dipende dalla dimensione dell'insieme\n",
    "</div>"
   ]
  },
  {
   "cell_type": "markdown",
   "metadata": {},
   "source": [
    "Questo è una differenza sostanziale rispetto alle altre sequenze già viste: se provi a cercare un elemento con `in` su stringhe, liste o tuple, Python potrebbe dover scorrere _tutta_ la lista se per sfortuna l'elemento da cercare è alla fine (o non c'è proprio). "
   ]
  },
  {
   "cell_type": "markdown",
   "metadata": {},
   "source": [
    "#### not in\n",
    "\n",
    "Per verificare se qualcosa **non** appartiene ad una sequenza, possiamo usare due forme:\n",
    "\n",
    "**not in - forma 1**:"
   ]
  },
  {
   "cell_type": "code",
   "execution_count": 22,
   "metadata": {},
   "outputs": [
    {
     "data": {
      "text/plain": [
       "True"
      ]
     },
     "execution_count": 22,
     "metadata": {},
     "output_type": "execute_result"
    }
   ],
   "source": [
    "\"carota\" not in {\"anguria\",\"banana\",\"mela\"}"
   ]
  },
  {
   "cell_type": "code",
   "execution_count": 23,
   "metadata": {},
   "outputs": [
    {
     "data": {
      "text/plain": [
       "False"
      ]
     },
     "execution_count": 23,
     "metadata": {},
     "output_type": "execute_result"
    }
   ],
   "source": [
    "\"anguria\" not in {\"anguria\",\"banana\",\"mela\"}"
   ]
  },
  {
   "cell_type": "markdown",
   "metadata": {},
   "source": [
    "**not in - forma 2**"
   ]
  },
  {
   "cell_type": "code",
   "execution_count": 24,
   "metadata": {},
   "outputs": [
    {
     "data": {
      "text/plain": [
       "True"
      ]
     },
     "execution_count": 24,
     "metadata": {},
     "output_type": "execute_result"
    }
   ],
   "source": [
    "not \"carota\" in {\"anguria\",\"banana\",\"mela\"}"
   ]
  },
  {
   "cell_type": "code",
   "execution_count": 25,
   "metadata": {},
   "outputs": [
    {
     "data": {
      "text/plain": [
       "False"
      ]
     },
     "execution_count": 25,
     "metadata": {},
     "output_type": "execute_result"
    }
   ],
   "source": [
    "not \"anguria\" in {\"anguria\",\"banana\",\"mela\"}"
   ]
  },
  {
   "cell_type": "markdown",
   "metadata": {},
   "source": [
    "**DOMANDA**: Guarda le seguenti espressioni, e per ciascuna cerca di indovinare quale risultato producono (o se danno errore):\n",
    "\n",
    "1.  ```python\n",
    "    2*10 in {10,20,30,40}\n",
    "    ```\n",
    "1.  ```python    \n",
    "    'four' in {'f','o','u','r'}\n",
    "    ```\n",
    "1.  ```python    \n",
    "    'aa' in set('aa')\n",
    "    ```\n",
    "1.  ```python    \n",
    "    'a' in set(['a','a'])\n",
    "    ```\n",
    "1.  ```python    \n",
    "    [3 in {3,4}, 6 in {3,4} ]\n",
    "    ```\n",
    "1.  ```python    \n",
    "    4 in set([1,2,3]*4)\n",
    "    ```\n",
    "1.  ```python    \n",
    "    2 in {len('3.4'.split('.'))}\n",
    "    ```\n",
    "1.  ```python    \n",
    "    4 not in {1,2,3}\n",
    "    ```\n",
    "1.  ```python    \n",
    "    '3' not in {1,2,3}\n",
    "    ```\n",
    "1.  ```python    \n",
    "    not 'a' in {'b','c'}\n",
    "    ```\n",
    "1.  ```python    \n",
    "    not {} in set([])\n",
    "    ```\n",
    "1.  ```python    \n",
    "    {not 'a' in {'a'}}\n",
    "    ```\n",
    "1.  ```python    \n",
    "    4 not in set((4,))\n",
    "    ```\n",
    "1.  ```python    \n",
    "    () not in set([()])\n",
    "    ```"
   ]
  },
  {
   "cell_type": "markdown",
   "metadata": {},
   "source": [
    "**DOMANDA**: le seguenti espressioni sono simili. Cosa hanno in comune? Qual'è la differenza con l'ultima (oltre al fatto che è su un insieme)? \n",
    "\n",
    "\n",
    "1.  ```python    \n",
    "    'e' in 'abcde'\n",
    "    ```    \n",
    "2.  ```python    \n",
    "    'abcde'.find('e') >= 0\n",
    "    ```\n",
    "3.  ```python\n",
    "    'abcde'.count('e') > 0\n",
    "    ```\n",
    "4.  ```python\n",
    "    'e' in ['a','b','c','d','e']\n",
    "    ```\n",
    "5.  ```python\n",
    "    ['a','b','c','d','e'].count('e') > 0\n",
    "    ```\n",
    "6.  ```python\n",
    "    'e' in ('a','b','c','d','e')\n",
    "    ```\n",
    "7.  ```python\n",
    "    ('a','b','c','d','e').count('e') > 0\n",
    "    ```\n",
    "8. ```python    \n",
    "    'e' in {'a','b','c','d','e'}\n",
    "    ```"
   ]
  },
  {
   "cell_type": "raw",
   "id": "dc407388",
   "metadata": {
    "format": "text/html"
   },
   "source": [
    "<a  class=\"jupman-sol jupman-sol-toggler\" \n",
    " onclick=\"jupman.toggleSolution(this);\" \n",
    " data-jupman-show=\"Mostra risposta\" data-jupman-hide=\"Nascondi\">Mostra risposta</a><div class=\"jupman-sol jupman-sol-question\" style=\"display:none\">  "
   ]
  },
  {
   "cell_type": "markdown",
   "metadata": {},
   "source": [
    "**RISPOSTA**: Tutte le espressioni sopra riportate ritornano un booleano che è `True` se l'elemento `'e'` è presente nella sequenza. \n",
    "\n",
    "Tutte le operazioni di ricerca e/o conteggio (`in`, `find`, `index`, `count`) su stringhe, liste e tuple impiegano un tempo di ricerca che alla peggio come in questo caso può essere pari alla dimensione della sequenza (`'e'` à alla fine).\n",
    "\n",
    "Gli insiemi invece (espressione 8.), visto che sono basati sugli _hash_, consentono una ricerca immediata, indipendentemente dalla dimensione dell'insieme o posizione degli elementi (quindi non ha nessuna importanza se abbiamo creato l'insieme con `'e'` alla fine). \n",
    "\n",
    "<div class=\"alert alert-info\">\n",
    "\n",
    "**Per fare ricerche performanti è preferibile usare sequenze basate su hash, come insiemi o dizionari !**\n",
    "\n",
    "</div>"
   ]
  },
  {
   "cell_type": "raw",
   "id": "88faa617",
   "metadata": {
    "format": "text/html"
   },
   "source": [
    "</div>"
   ]
  },
  {
   "cell_type": "markdown",
   "metadata": {},
   "source": [
    "### Unione\n",
    "\n",
    "L'operatore di unione `|` (detto _pipe_)  produce un NUOVO insieme contenente tutti gli elementi del primo e del secondo insieme.\n",
    "\n",
    "![eiu3](img/union.png)"
   ]
  },
  {
   "cell_type": "code",
   "execution_count": 26,
   "metadata": {},
   "outputs": [
    {
     "data": {
      "text/plain": [
       "{'a', 'b', 'c', 'd', 'e'}"
      ]
     },
     "execution_count": 26,
     "metadata": {},
     "output_type": "execute_result"
    }
   ],
   "source": [
    "{'a','b','c'} | {'b','c','d','e'}"
   ]
  },
  {
   "cell_type": "markdown",
   "metadata": {},
   "source": [
    "Notiamo che non ci sono elementi duplicati"
   ]
  },
  {
   "cell_type": "markdown",
   "metadata": {},
   "source": [
    "**ESERCIZIO**: E se usiamo il `+`? Prova a scrivere in una cella `{'a','b'} + {'c','d','e'}`. Cosa succede?"
   ]
  },
  {
   "cell_type": "code",
   "execution_count": 27,
   "metadata": {},
   "outputs": [],
   "source": [
    "# scrivi qui\n"
   ]
  },
  {
   "cell_type": "markdown",
   "metadata": {},
   "source": [
    "**DOMANDA**:  Guarda le seguenti espressioni, e per ciascuna cerca di indovinare quale risultato producono (o se danno errore):\n",
    "\n",
    "\n",
    "1.  ```python    \n",
    "    {'a','d','b'}|{'a','b','c'}\n",
    "    ```           \n",
    "1.  ```python    \n",
    "    {'a'}|{'a'}\n",
    "    ```       \n",
    "1.  ```python    \n",
    "    {'a'|'b'}\n",
    "    ```\n",
    "1.  ```python    \n",
    "    {1|2|3}\n",
    "    ```   \n",
    "1.  ```python    \n",
    "    {'a'|'b'|'a'}\n",
    "    ```       \n",
    "1.  ```python    \n",
    "    {{'a'}|{'b'}|{'a'}}\n",
    "    ```       \n",
    "1.  ```python    \n",
    "    [1,2,3] | [3,4]\n",
    "    ```       \n",
    "1.  ```python    \n",
    "    (1,2,3) | (3,4)\n",
    "    ```       \n",
    "1.  ```python        \n",
    "    \"abc\" | \"cd\"\n",
    "    ```       \n",
    "1.  ```python        \n",
    "    {'a'} | set(['a','b'])\n",
    "    ```       \n",
    "1.  ```python        \n",
    "    set(\".\".join('pacca'))\n",
    "    ```       \n",
    "1.  ```python        \n",
    "    '{a}'|'{b}'|'{a}'\n",
    "    ```       \n",
    "1.  ```python        \n",
    "    set((1,2,3))|set([len([4,5])])\n",
    "    ```\n",
    "1.  ```python        \n",
    "    {()}|{()}\n",
    "    ```       \n",
    "1.  ```python        \n",
    "    {'|'}|{'|'}\n",
    "    ```       \n"
   ]
  },
  {
   "cell_type": "markdown",
   "metadata": {},
   "source": [
    "**DOMANDA**: Dati insiemi `x` e `y` qualunque, questa espressione \n",
    "\n",
    "```python\n",
    "len(x | y) <= len(x) + len(y)\n",
    "```\n",
    "\n",
    "produce:\n",
    "\n",
    "1. un errore (quale?)\n",
    "2. sempre `True`\n",
    "3. sempre `False`\n",
    "4. a volte `True` a volte  `False` a seconda dei valori di `x` e `y`"
   ]
  },
  {
   "cell_type": "raw",
   "id": "36b131b9",
   "metadata": {
    "format": "text/html"
   },
   "source": [
    "<a  class=\"jupman-sol jupman-sol-toggler\" \n",
    " onclick=\"jupman.toggleSolution(this);\" \n",
    " data-jupman-show=\"Mostra risposta\" data-jupman-hide=\"Nascondi\">Mostra risposta</a><div class=\"jupman-sol jupman-sol-question\" style=\"display:none\">  "
   ]
  },
  {
   "cell_type": "markdown",
   "metadata": {},
   "source": [
    "**RISPOSTA**: La 2: il numero degli elementi dell'unione sarà sempre inferiore o uguale alla somma del numero degli elementi di ogni singolo set che andiamo ad unire, pertanto dalla comparazione con `<=` otterremo sempre `True`."
   ]
  },
  {
   "cell_type": "raw",
   "id": "40c748ef",
   "metadata": {
    "format": "text/html"
   },
   "source": [
    "</div>"
   ]
  },
  {
   "cell_type": "markdown",
   "metadata": {},
   "source": [
    "### Esercizio: tuttotranne 1\n",
    "\n",
    "Scrivi del codice che crea un set `s4` che contiene tutti gli elementi di `s1` ed `s2` ma non contiene gli elementi di `s3`.\n",
    "\n",
    "* Il tuo codice dovrebbe funzionare con _qualunque_ insieme `s1`, `s2`, `s3`\n",
    "\n",
    "\n",
    "Esempio - dati\n",
    "\n",
    "```python\n",
    "s1 = set(['a','b','c','d','e'])\n",
    "s2 = set(['b','c','f','g'])\n",
    "s3 = set(['b','f'])\n",
    "```\n",
    "\n",
    "Dopo il tuo codice dovresti ottenere\n",
    "\n",
    "```python\n",
    ">>> print(s4)\n",
    "{'c', 'a', 'd', 'e', 'g'}\n",
    "```"
   ]
  },
  {
   "cell_type": "raw",
   "id": "1cdac6c7",
   "metadata": {
    "format": "text/html"
   },
   "source": [
    "<a  class=\"jupman-sol jupman-sol-toggler\" \n",
    " onclick=\"jupman.toggleSolution(this);\" \n",
    " data-jupman-show=\"Mostra soluzione\" data-jupman-hide=\"Nascondi\">Mostra soluzione</a><div class=\"jupman-sol jupman-sol-code\" style=\"display:none\">  "
   ]
  },
  {
   "cell_type": "code",
   "execution_count": 28,
   "metadata": {},
   "outputs": [
    {
     "name": "stdout",
     "output_type": "stream",
     "text": [
      "{'c', 'd', 'g', 'a', 'e'}\n"
     ]
    }
   ],
   "source": [
    "\n",
    "s1 = set(['a','b','c','d','e'])\n",
    "s2 = set(['b','c','f','g'])\n",
    "s3 = set(['b','f'])\n",
    "\n",
    "# scrivi qui\n",
    "s4 = (s1 | s2) - s3\n",
    "print(s4)"
   ]
  },
  {
   "cell_type": "raw",
   "id": "1b02112c",
   "metadata": {
    "format": "text/html"
   },
   "source": [
    "</div>"
   ]
  },
  {
   "cell_type": "code",
   "execution_count": 28,
   "metadata": {},
   "outputs": [],
   "source": [
    "\n",
    "s1 = set(['a','b','c','d','e'])\n",
    "s2 = set(['b','c','f','g'])\n",
    "s3 = set(['b','f'])\n",
    "\n",
    "# scrivi qui\n",
    "\n"
   ]
  },
  {
   "cell_type": "markdown",
   "metadata": {},
   "source": [
    "### Intersezione\n",
    "\n",
    "L'operatore di intersezione `&` produce un NUOVO insieme contenente tutti gli elementi in comune del primo e secondo insieme\n",
    "\n",
    "![okoerioe](img/intersection.png)"
   ]
  },
  {
   "cell_type": "code",
   "execution_count": 29,
   "metadata": {},
   "outputs": [
    {
     "data": {
      "text/plain": [
       "{'b', 'c'}"
      ]
     },
     "execution_count": 29,
     "metadata": {},
     "output_type": "execute_result"
    }
   ],
   "source": [
    "{'a','b','c'} & {'b','c','d','e'}"
   ]
  },
  {
   "cell_type": "markdown",
   "metadata": {},
   "source": [
    "**DOMANDA**: Guarda le seguenti espressioni, e per ciascuna cerca di indovinare quale risultato producono (o se danno errore):\n",
    "\n",
    "\n",
    "1.  ```python\n",
    "    {0} & {0,1}\n",
    "    ```\n",
    "1.  ```python    \n",
    "    {0,1} & {0}\n",
    "    ```\n",
    "1.  ```python\n",
    "    set(\"capra\") & set(\"campa\")\n",
    "    ```\n",
    "1.  ```python\n",
    "    set(\"cba\") & set(\"dcb\")\n",
    "    ```\n",
    "1.  ```python    \n",
    "    {len([1,2,3]),4} & {len([5,6,7])}\n",
    "    ```\n",
    "1.  ```python    \n",
    "    {1,2} & {1,2}\n",
    "    ```\n",
    "1.  ```python    \n",
    "    {0,1} & {}\n",
    "    ```\n",
    "1.  ```python    \n",
    "    {0,1} & set()\n",
    "    ```\n",
    "1.  ```python    \n",
    "    'cc' in (set('pacca') & set('zucca'))\n",
    "    ```    \n",
    "1.  ```python    \n",
    "    set([1,2,3,4,5][::2]) & set([1,2,3,4,5][2::2])\n",
    "    ```\n",
    "1.  ```python        \n",
    "    {((),)} & {()}\n",
    "    ```\n",
    "1.  ```python        \n",
    "    {(())} & {()}\n",
    "    ```        "
   ]
  },
  {
   "cell_type": "markdown",
   "metadata": {},
   "source": [
    "### Differenza\n",
    "\n",
    "L'operatore di differenza `-` produce un NUOVO insieme contenente tutti gli elementi del primo insieme eccetto queli del secondo:\n",
    "\n",
    "![3423dde](img/difference.png)"
   ]
  },
  {
   "cell_type": "code",
   "execution_count": 30,
   "metadata": {},
   "outputs": [
    {
     "data": {
      "text/plain": [
       "{'a', 'd'}"
      ]
     },
     "execution_count": 30,
     "metadata": {},
     "output_type": "execute_result"
    }
   ],
   "source": [
    "{'a','b','c','d'} - {'b','c','e','f','g'}"
   ]
  },
  {
   "cell_type": "markdown",
   "metadata": {},
   "source": [
    "**DOMANDA**: Guarda le seguenti espressioni, e per ciascuna cerca di indovinare quale risultato producono (o se danno errore):\n",
    "\n",
    "    \n",
    "1.  ```python\n",
    "    {3,4,2}-2\n",
    "    ```\n",
    "1.  ```python    \n",
    "    {1,2,3}-{3,4}\n",
    "    ```\n",
    "1.  ```python        \n",
    "    '{\"a\"}-{\"a\"}'\n",
    "    ```\n",
    "1.  ```python    \n",
    "    {1,2,3}--{3,4}\n",
    "    ```\n",
    "1.  ```python    \n",
    "    {1,2,3}-(-{3,4})\n",
    "    ```    \n",
    "1.  ```python        \n",
    "    set(\"chiodo\") - set(\"chiave\")\n",
    "    ```\n",
    "1.  ```python        \n",
    "    set(\"prova\") - set(\"prova\".capitalize())\n",
    "    ```\n",
    "1.  ```python        \n",
    "    set(\"BarbA\") - set(\"BARBA\".lower())\n",
    "    ```\n",
    "1.  ```python    \n",
    "    'c' in (set('parco') - set('cassa'))\n",
    "    ```        \n",
    "1.  ```python        \n",
    "    set([(1,2),(3,4),(5,6)]) - set([(2,3),(4,5)])\n",
    "    ```\n",
    "1.  ```python        \n",
    "    set([(1,2),(3,4),(5,6)]) - set([(3,4),(5,6)])\n",
    "    ```\n",
    "1.  ```python            \n",
    "    {1,2,3} - set()\n",
    "    ```\n",
    "1.  ```python            \n",
    "    set() - {1,2,3}\n",
    "    ```"
   ]
  },
  {
   "cell_type": "markdown",
   "metadata": {},
   "source": [
    "**DOMANDA**: Dati due insiemi qualunque `x` e `y`, il seguente codice cosa produce? Un errore? E' semplificabile?\n",
    "    \n",
    "```python\n",
    "(x & y) | (x-y)\n",
    "```"
   ]
  },
  {
   "cell_type": "raw",
   "id": "108aa14f",
   "metadata": {
    "format": "text/html"
   },
   "source": [
    "<a  class=\"jupman-sol jupman-sol-toggler\" \n",
    " onclick=\"jupman.toggleSolution(this);\" \n",
    " data-jupman-show=\"Mostra risposta\" data-jupman-hide=\"Nascondi\">Mostra risposta</a><div class=\"jupman-sol jupman-sol-question\" style=\"display:none\">  "
   ]
  },
  {
   "cell_type": "markdown",
   "metadata": {},
   "source": [
    "**RISPOSTA**: Stiamo unendo gli elementi in comune tra `x` e `y`, con gli elementi presenti in `x` ma non in `y`. Pertanto, stiamo prendendo tutti gli elementi di `x`, quindi l'espressione può essere semplificata scrivendo semplicemente \n",
    "\n",
    "```python\n",
    "x\n",
    "```"
   ]
  },
  {
   "cell_type": "raw",
   "id": "5d780af3",
   "metadata": {
    "format": "text/html"
   },
   "source": [
    "</div>"
   ]
  },
  {
   "cell_type": "markdown",
   "metadata": {},
   "source": [
    "### Differenza simmetrica"
   ]
  },
  {
   "cell_type": "markdown",
   "metadata": {},
   "source": [
    "La differenza simmetrica di due insiemi è la loro unione meno la loro intersezione, cioè tutti gli elementi tranne quelli in comune\n",
    "\n",
    "![kjdfslkj](img/symmetric-difference.png)\n",
    "\n",
    "In Python si può esprimere direttamente con l'operatore `^`:"
   ]
  },
  {
   "cell_type": "code",
   "execution_count": 31,
   "metadata": {},
   "outputs": [
    {
     "data": {
      "text/plain": [
       "{'a', 'd', 'e'}"
      ]
     },
     "execution_count": 31,
     "metadata": {},
     "output_type": "execute_result"
    }
   ],
   "source": [
    "{'a','b','c'} ^ {'b','c','d','e'}"
   ]
  },
  {
   "cell_type": "markdown",
   "metadata": {},
   "source": [
    "Verifichiamo che il risultato corrisponda alla definizione:"
   ]
  },
  {
   "cell_type": "code",
   "execution_count": 32,
   "metadata": {},
   "outputs": [
    {
     "data": {
      "text/plain": [
       "{'a', 'd', 'e'}"
      ]
     },
     "execution_count": 32,
     "metadata": {},
     "output_type": "execute_result"
    }
   ],
   "source": [
    "s1 = {'a','b','c'}\n",
    "s2 = {'b','c','d','e'}\n",
    "\n",
    "(s1 | s2) - (s1 & s2)"
   ]
  },
  {
   "cell_type": "markdown",
   "metadata": {},
   "source": [
    "**DOMANDA**:  Guarda le seguenti espressioni, e per ciascuna cerca di indovinare quale risultato producono (o se danno errore):\n",
    "\n",
    "1.  ```python    \n",
    "    {'p','e','p','p','o'} ^ {'p','a','p','p','e'}\n",
    "    ```\n",
    "1.  ```python        \n",
    "    {'ab','cd'} ^ {'ba','dc'}\n",
    "    ```\n",
    "1.  ```python    \n",
    "    set('brodino') ^ set('bordo')\n",
    "    ```\n",
    "1.  ```python        \n",
    "    set((1,2,5,3,2,3,1)) ^ set((1,4,3,2))\n",
    "    ```"
   ]
  },
  {
   "cell_type": "markdown",
   "metadata": {},
   "source": [
    "**DOMANDA**: Dati 3 insiemi `A`, `B`, `C`, qual'è l'espressione per ottenere la parte in azzurro? \n",
    "    \n",
    "![sewqe](img/ex-abc-common.png)"
   ]
  },
  {
   "cell_type": "raw",
   "id": "41841f08",
   "metadata": {
    "format": "text/html"
   },
   "source": [
    "<a  class=\"jupman-sol jupman-sol-toggler\" \n",
    " onclick=\"jupman.toggleSolution(this);\" \n",
    " data-jupman-show=\"Mostra risposta\" data-jupman-hide=\"Nascondi\">Mostra risposta</a><div class=\"jupman-sol jupman-sol-question\" style=\"display:none\">  "
   ]
  },
  {
   "cell_type": "markdown",
   "metadata": {},
   "source": [
    "**RISPOSTA**: \n",
    "\n",
    "```python\n",
    "(A & B) | (A & C) | (B & C)\n",
    "```"
   ]
  },
  {
   "cell_type": "raw",
   "id": "a4b88a51",
   "metadata": {
    "format": "text/html"
   },
   "source": [
    "</div>"
   ]
  },
  {
   "cell_type": "markdown",
   "metadata": {},
   "source": [
    "**DOMANDA**: Se usiamo i seguenti valori nell'esercizio precedente, l'insieme che indica la parte in blu cosa conterrebbe?\n",
    "\n",
    "```python\n",
    "A = {'a','ab','ac','abc'}\n",
    "B = {'b','ab','bc','abc'}\n",
    "C = {'c','ac','bc','abc'}\n",
    "```\n",
    "\n",
    "Una volta fatta la supposizione, prova ad eseguire la formula che hai trovato nell'esercizio precedente con i valori forniti e confronta i risultati con la soluzione."
   ]
  },
  {
   "cell_type": "raw",
   "id": "1b7f5777",
   "metadata": {
    "format": "text/html"
   },
   "source": [
    "<a  class=\"jupman-sol jupman-sol-toggler\" \n",
    " onclick=\"jupman.toggleSolution(this);\" \n",
    " data-jupman-show=\"Mostra risposta\" data-jupman-hide=\"Nascondi\">Mostra risposta</a><div class=\"jupman-sol jupman-sol-question\" style=\"display:none\">  "
   ]
  },
  {
   "cell_type": "markdown",
   "metadata": {},
   "source": [
    "**RISPOSTA**: Se la formula è corretta dovresti ottenere\n",
    "\n",
    "```python\n",
    "{'abc', 'ac', 'bc', 'ab'}\n",
    "```"
   ]
  },
  {
   "cell_type": "raw",
   "id": "11b46f69",
   "metadata": {
    "format": "text/html"
   },
   "source": [
    "</div>"
   ]
  },
  {
   "cell_type": "markdown",
   "metadata": {},
   "source": [
    "### Uguaglianza\n",
    "\n",
    "Possiamo verificare se due insiemi sono uguali con l'operatore di uguaglianza `==`, che dati due insiemi ritorna `True` se contengono elementi uguali oppure `False` altrimenti:"
   ]
  },
  {
   "cell_type": "code",
   "execution_count": 33,
   "metadata": {},
   "outputs": [
    {
     "data": {
      "text/plain": [
       "True"
      ]
     },
     "execution_count": 33,
     "metadata": {},
     "output_type": "execute_result"
    }
   ],
   "source": [
    "{4,3,6} == {4,3,6}"
   ]
  },
  {
   "cell_type": "code",
   "execution_count": 34,
   "metadata": {},
   "outputs": [
    {
     "data": {
      "text/plain": [
       "False"
      ]
     },
     "execution_count": 34,
     "metadata": {},
     "output_type": "execute_result"
    }
   ],
   "source": [
    "{4,3,6} == {4,3}"
   ]
  },
  {
   "cell_type": "code",
   "execution_count": 35,
   "metadata": {},
   "outputs": [
    {
     "data": {
      "text/plain": [
       "False"
      ]
     },
     "execution_count": 35,
     "metadata": {},
     "output_type": "execute_result"
    }
   ],
   "source": [
    "{4,3,6} == {4,3,6, 'ciao'}"
   ]
  },
  {
   "cell_type": "markdown",
   "metadata": {},
   "source": [
    "Attento alla rimozione dei duplicati !"
   ]
  },
  {
   "cell_type": "code",
   "execution_count": 36,
   "metadata": {},
   "outputs": [
    {
     "data": {
      "text/plain": [
       "True"
      ]
     },
     "execution_count": 36,
     "metadata": {},
     "output_type": "execute_result"
    }
   ],
   "source": [
    "{2,8} == {2,2,8}"
   ]
  },
  {
   "cell_type": "markdown",
   "metadata": {},
   "source": [
    "Per verificare la disuguaglianza, possiamo usare l'operatore `!=`:"
   ]
  },
  {
   "cell_type": "code",
   "execution_count": 37,
   "metadata": {},
   "outputs": [
    {
     "data": {
      "text/plain": [
       "False"
      ]
     },
     "execution_count": 37,
     "metadata": {},
     "output_type": "execute_result"
    }
   ],
   "source": [
    "{2,5} != {2,5}"
   ]
  },
  {
   "cell_type": "code",
   "execution_count": 38,
   "metadata": {},
   "outputs": [
    {
     "data": {
      "text/plain": [
       "True"
      ]
     },
     "execution_count": 38,
     "metadata": {},
     "output_type": "execute_result"
    }
   ],
   "source": [
    "{4,6,0} != {2,8}"
   ]
  },
  {
   "cell_type": "code",
   "execution_count": 39,
   "metadata": {
    "scrolled": true
   },
   "outputs": [
    {
     "data": {
      "text/plain": [
       "True"
      ]
     },
     "execution_count": 39,
     "metadata": {},
     "output_type": "execute_result"
    }
   ],
   "source": [
    "{4,6,0} != {4,6,0,2}"
   ]
  },
  {
   "cell_type": "markdown",
   "metadata": {},
   "source": [
    "Attenti ai duplicati e all'ordine!"
   ]
  },
  {
   "cell_type": "code",
   "execution_count": 40,
   "metadata": {},
   "outputs": [
    {
     "data": {
      "text/plain": [
       "False"
      ]
     },
     "execution_count": 40,
     "metadata": {},
     "output_type": "execute_result"
    }
   ],
   "source": [
    "{0,1} != {1,0,0,0,0,0,0,0}"
   ]
  },
  {
   "cell_type": "markdown",
   "metadata": {},
   "source": [
    "**DOMANDA**:  Guarda le seguenti espressioni, e per ciascuna cerca di indovinare quale risultato producono (o se danno errore):\n",
    "\n"
   ]
  },
  {
   "cell_type": "markdown",
   "metadata": {},
   "source": [
    "1.  ```python\n",
    "    {2 == 2, 3 == 3}\n",
    "    ```\n",
    "1.  ```python    \n",
    "    {1,2,3,2,1} == {1,1,2,2,3,3}\n",
    "    ```\n",
    "1.  ```python\n",
    "    {'aa'} == {'a'}\n",
    "    ```\n",
    "1.  ```python    \n",
    "    set('aa') == {'a'}\n",
    "    ```\n",
    "1.  ```python    \n",
    "    [{1,2,3}] == {[1,2,3]}\n",
    "    ```\n",
    "1.  ```python    \n",
    "    set({1,2,3}) == {1,2,3}\n",
    "    ```\n",
    "1.  ```python    \n",
    "    set((1,2,3)) == {(1,2,3)}\n",
    "    ```\n",
    "1.  ```python    \n",
    "    {'aa'} != {'a', 'aa'}\n",
    "    ```\n",
    "1.  ```python    \n",
    "    {set() != set()}\n",
    "    ```\n",
    "1.  ```python    \n",
    "    set('scarpa') == set('capras')\n",
    "    ```\n",
    "1.  ```python    \n",
    "    set('papa') != set('pappa')\n",
    "    ```\n",
    "1.  ```python    \n",
    "    set('pappa') != set('reale')\n",
    "    ```\n",
    "1.  ```python    \n",
    "    {(),()} == {(())}\n",
    "    ```\n",
    "1.  ```python    \n",
    "    {(),()} != {(()), (())}\n",
    "    ```\n",
    "1.  ```python    \n",
    "    [set()] == [set(),set()]\n",
    "    ```\n",
    "1.  ```python    \n",
    "    (set('gosh') | set('posh')) == (set('shopping') - set('in'))\n",
    "    ```"
   ]
  },
  {
   "cell_type": "markdown",
   "metadata": {},
   "source": [
    "## Metodi simili agli operatori\n",
    "\n",
    "Vi sono metodi analoghi agli operatori `|`, `&`, `-`, `^` che creano un **NUOVO** set.\n",
    "\n",
    "**NOTA**: diversamente dagli operatori, questi metodi accettano come parametro una _qualsiasi_ sequenza, non solo insiemi:\n",
    "\n",
    "|Metodo| Risultato | Descrizione | Operatore analogo|\n",
    "|---------|-----------|-------------|------|\n",
    "|`set.union(seq)`|`set`|unione, crea un NUOVO set |<code>&#124;</code>|\n",
    "|`set.intersection(seq)`| `set`| intersezione, crea un NUOVO set|`&`|\n",
    "|`set.difference(seq)`| `set` | differenza, crea un NUOVO set|`-`|\n",
    "|`set.symmetric_difference(seq)`| `set` | differenza simmetrica, crea un NUOVO set|`^`|"
   ]
  },
  {
   "cell_type": "markdown",
   "metadata": {},
   "source": [
    "Metodi che **MODIFICANO** il primo insieme su cui sono chiamati (e ritornano `None`!):\n",
    "\n",
    "|Metodo| Risultato | Descrizione |\n",
    "|---------|-----------|-------------|\n",
    "|`setA.update(setB)`|`None`| unione, MODIFICA `setA`|\n",
    "|`setA.intersection_update(setB)` |`None` |intersezione, MODIFICA `setA`|\n",
    "|`setA.difference_update(setB)`| `None` | differenza, MODIFICA `setA`|\n",
    "|`setA.symmetric_difference_update(setB)`| `None` | differenza simmetrica, MODIFICA `setA`|"
   ]
  },
  {
   "cell_type": "markdown",
   "metadata": {},
   "source": [
    "### union\n",
    "\n",
    "Guarderemo solo `union`/`update`, gli altri si comportano in modo analoghi\n",
    "\n",
    "Con `union` dato un insieme e una generica sequenza (quindi non necessariamente un insieme) possiamo creare un NUOVO insieme:"
   ]
  },
  {
   "cell_type": "code",
   "execution_count": 41,
   "metadata": {},
   "outputs": [],
   "source": [
    "sa = {'g','a','r','a'}"
   ]
  },
  {
   "cell_type": "code",
   "execution_count": 42,
   "metadata": {},
   "outputs": [],
   "source": [
    "la = ['a','g','r','a','r','i','o']"
   ]
  },
  {
   "cell_type": "code",
   "execution_count": 43,
   "metadata": {},
   "outputs": [],
   "source": [
    "sb = sa.union(la)"
   ]
  },
  {
   "cell_type": "code",
   "execution_count": 44,
   "metadata": {},
   "outputs": [
    {
     "data": {
      "text/plain": [
       "{'a', 'g', 'i', 'o', 'r'}"
      ]
     },
     "execution_count": 44,
     "metadata": {},
     "output_type": "execute_result"
    }
   ],
   "source": [
    "sb"
   ]
  },
  {
   "cell_type": "markdown",
   "metadata": {},
   "source": [
    "**ESERCIZIO**: con `union` possiamo usare sequenze arbitrarie, invece con gli operatori no. Prova a scrivere `{1,2,3} | [2,3,4]` e guarda cosa succede."
   ]
  },
  {
   "cell_type": "code",
   "execution_count": 45,
   "metadata": {},
   "outputs": [],
   "source": [
    "# scrivi qui\n"
   ]
  },
  {
   "cell_type": "markdown",
   "metadata": {},
   "source": [
    "Possiamo verificare che `union` crei un nuovo insieme con Python Tutor:"
   ]
  },
  {
   "cell_type": "code",
   "execution_count": 46,
   "metadata": {},
   "outputs": [
    {
     "data": {
      "text/html": [
       "\n",
       "        <script src=\"../_static/js/pytutor-embed.bundle.min.js\" type=\"application/javascript\"></script>\n",
       "     \n",
       "        <script id=\"json-jmfcbf03da-e2b0-44e8-bd9f-242663b7668a\" type=\"application/json\" >\n",
       "            {\"code\": \" \\nsa = {'g','a','r','a'}\\nla = ['a','g','r','a','r','i','o']\\nsb = sa.union(la)\", \"trace\": [{\"line\": 2, \"event\": \"step_line\", \"func_name\": \"<module>\", \"globals\": {}, \"ordered_globals\": [], \"stack_to_render\": [], \"heap\": {}, \"stdout\": \"\"}, {\"line\": 3, \"event\": \"step_line\", \"func_name\": \"<module>\", \"globals\": {\"sa\": [\"REF\", 1]}, \"ordered_globals\": [\"sa\"], \"stack_to_render\": [], \"heap\": {\"1\": [\"SET\", \"g\", \"a\", \"r\"]}, \"stdout\": \"\"}, {\"line\": 4, \"event\": \"step_line\", \"func_name\": \"<module>\", \"globals\": {\"sa\": [\"REF\", 1], \"la\": [\"REF\", 2]}, \"ordered_globals\": [\"sa\", \"la\"], \"stack_to_render\": [], \"heap\": {\"1\": [\"SET\", \"g\", \"a\", \"r\"], \"2\": [\"LIST\", \"a\", \"g\", \"r\", \"a\", \"r\", \"i\", \"o\"]}, \"stdout\": \"\"}, {\"line\": 4, \"event\": \"return\", \"func_name\": \"<module>\", \"globals\": {\"sa\": [\"REF\", 1], \"la\": [\"REF\", 2], \"sb\": [\"REF\", 3]}, \"ordered_globals\": [\"sa\", \"la\", \"sb\"], \"stack_to_render\": [], \"heap\": {\"1\": [\"SET\", \"g\", \"a\", \"r\"], \"2\": [\"LIST\", \"a\", \"g\", \"r\", \"a\", \"r\", \"i\", \"o\"], \"3\": [\"SET\", \"r\", \"g\", \"i\", \"a\", \"o\"]}, \"stdout\": \"\"}]}\n",
       "        </script>\n",
       "        <div id=\"jmfcbf03da-e2b0-44e8-bd9f-242663b7668a\" class=\"pytutorVisualizer\"> </div>\n",
       " \n",
       "        <style>\n",
       "        .vizLayoutTd {\n",
       "            background-color: #fff !important;\n",
       "        }\n",
       "                            \n",
       "        #pyStdout {\n",
       "            min-height:25px;\n",
       "        }\n",
       "\n",
       "        /* 'Edit this code' link, hiding because replaces browser tab !!!*/\n",
       "        #editCodeLinkDiv {\n",
       "            display:none;  \n",
       "        }\n",
       "        </style>   \n",
       "                            \n",
       "        <script>\n",
       "        (function(){\n",
       "\n",
       "            var trace = JSON.parse(document.getElementById('json-jmfcbf03da-e2b0-44e8-bd9f-242663b7668a').innerHTML);                                        \n",
       "            // NOTE 1: id without #\n",
       "            // NOTE 2 - maybe there are more predictable ways, but this will work anyway\n",
       "            //        - id should be number\n",
       "            visualizerIdOverride = Math.trunc(Math.random() * 100000000000)\n",
       "            addVisualizerToPage(trace, 'jmfcbf03da-e2b0-44e8-bd9f-242663b7668a',{'embeddedMode' : false,\n",
       "                                             'visualizerIdOverride':visualizerIdOverride})  \n",
       "            \n",
       "            \n",
       "            // set overflow for pytuts - need to do in python as css \n",
       "            // does not allow parent selection\n",
       "            var pytuts = $('.pytutorVisualizer')\n",
       "            pytuts.closest('div.output_html.rendered_html.output_result')\n",
       "                    .css('overflow-x', 'visible')\n",
       "        \n",
       "            //pytuts.closest('div.output_html.rendered_html.output_result')\n",
       "            //      .css('background-color','red')                \n",
       "            \n",
       "        })()\n",
       "        </script>\n",
       "                \n",
       "                "
      ],
      "text/plain": [
       "<IPython.core.display.HTML object>"
      ]
     },
     "execution_count": 46,
     "metadata": {},
     "output_type": "execute_result"
    }
   ],
   "source": [
    "sa = {'g','a','r','a'}\n",
    "la = ['a','g','r','a','r','i','o']\n",
    "sb = sa.union(la)\n",
    "\n",
    "jupman.pytut()"
   ]
  },
  {
   "cell_type": "markdown",
   "metadata": {},
   "source": [
    "### update\n",
    "\n",
    "Se vogliamo invece MODIFICARE il primo insieme, possiamo utilizzare i metodi che terminano con la parola `update`:"
   ]
  },
  {
   "cell_type": "code",
   "execution_count": 47,
   "metadata": {},
   "outputs": [],
   "source": [
    "sa = {'g','a','r','a'}"
   ]
  },
  {
   "cell_type": "code",
   "execution_count": 48,
   "metadata": {},
   "outputs": [],
   "source": [
    "la = ['a','g','r','a','r','i','o']"
   ]
  },
  {
   "cell_type": "code",
   "execution_count": 49,
   "metadata": {},
   "outputs": [],
   "source": [
    "sa.update(la)"
   ]
  },
  {
   "cell_type": "code",
   "execution_count": 50,
   "metadata": {},
   "outputs": [
    {
     "name": "stdout",
     "output_type": "stream",
     "text": [
      "{'r', 'g', 'i', 'a', 'o'}\n"
     ]
    }
   ],
   "source": [
    "print(sa)"
   ]
  },
  {
   "cell_type": "markdown",
   "metadata": {},
   "source": [
    "**DOMANDA**: che cosa ha ritornato la chiamata ad `update`?"
   ]
  },
  {
   "cell_type": "raw",
   "id": "e5325b37",
   "metadata": {
    "format": "text/html"
   },
   "source": [
    "<a  class=\"jupman-sol jupman-sol-toggler\" \n",
    " onclick=\"jupman.toggleSolution(this);\" \n",
    " data-jupman-show=\"Mostra risposta\" data-jupman-hide=\"Nascondi\">Mostra risposta</a><div class=\"jupman-sol jupman-sol-question\" style=\"display:none\">  "
   ]
  },
  {
   "cell_type": "markdown",
   "metadata": {},
   "source": [
    "**RISPOSTA**: Dal momento che Jupyter non ha mostrato nulla, significa che implicitamente la chiamata al metodo `update` ha ritornato l'oggetto `None`."
   ]
  },
  {
   "cell_type": "raw",
   "id": "635b50a6",
   "metadata": {
    "format": "text/html"
   },
   "source": [
    "</div>"
   ]
  },
  {
   "cell_type": "markdown",
   "metadata": {},
   "source": [
    "Guardiamo che è successo con Python Tutor - per evidenziare cosa è stato ritornato da update aggiungiamo anche un `x = `:"
   ]
  },
  {
   "cell_type": "code",
   "execution_count": 51,
   "metadata": {
    "scrolled": false
   },
   "outputs": [
    {
     "name": "stdout",
     "output_type": "stream",
     "text": [
      "{'r', 'g', 'i', 'a', 'o'}\n",
      "None\n"
     ]
    },
    {
     "data": {
      "text/html": [
       "\n",
       "        <script src=\"../_static/js/pytutor-embed.bundle.min.js\" type=\"application/javascript\"></script>\n",
       "     \n",
       "        <script id=\"json-jm439ed089-5dab-4ba6-a20e-7e4b78d87d76\" type=\"application/json\" >\n",
       "            {\"code\": \" \\nsa = {'g','a','r','a'}\\nla = ['a','g','r','a','r','i','o']\\nx = sa.update(la)\\nprint(sa)\\nprint(x)\", \"trace\": [{\"line\": 2, \"event\": \"step_line\", \"func_name\": \"<module>\", \"globals\": {}, \"ordered_globals\": [], \"stack_to_render\": [], \"heap\": {}, \"stdout\": \"\"}, {\"line\": 3, \"event\": \"step_line\", \"func_name\": \"<module>\", \"globals\": {\"sa\": [\"REF\", 1]}, \"ordered_globals\": [\"sa\"], \"stack_to_render\": [], \"heap\": {\"1\": [\"SET\", \"g\", \"a\", \"r\"]}, \"stdout\": \"\"}, {\"line\": 4, \"event\": \"step_line\", \"func_name\": \"<module>\", \"globals\": {\"sa\": [\"REF\", 1], \"la\": [\"REF\", 2]}, \"ordered_globals\": [\"sa\", \"la\"], \"stack_to_render\": [], \"heap\": {\"1\": [\"SET\", \"g\", \"a\", \"r\"], \"2\": [\"LIST\", \"a\", \"g\", \"r\", \"a\", \"r\", \"i\", \"o\"]}, \"stdout\": \"\"}, {\"line\": 5, \"event\": \"step_line\", \"func_name\": \"<module>\", \"globals\": {\"sa\": [\"REF\", 1], \"la\": [\"REF\", 2], \"x\": null}, \"ordered_globals\": [\"sa\", \"la\", \"x\"], \"stack_to_render\": [], \"heap\": {\"1\": [\"SET\", \"r\", \"g\", \"i\", \"a\", \"o\"], \"2\": [\"LIST\", \"a\", \"g\", \"r\", \"a\", \"r\", \"i\", \"o\"]}, \"stdout\": \"\"}, {\"line\": 6, \"event\": \"step_line\", \"func_name\": \"<module>\", \"globals\": {\"sa\": [\"REF\", 1], \"la\": [\"REF\", 2], \"x\": null}, \"ordered_globals\": [\"sa\", \"la\", \"x\"], \"stack_to_render\": [], \"heap\": {\"1\": [\"SET\", \"r\", \"g\", \"i\", \"a\", \"o\"], \"2\": [\"LIST\", \"a\", \"g\", \"r\", \"a\", \"r\", \"i\", \"o\"]}, \"stdout\": \"{'r', 'g', 'i', 'a', 'o'}\\n\"}, {\"line\": 6, \"event\": \"return\", \"func_name\": \"<module>\", \"globals\": {\"sa\": [\"REF\", 1], \"la\": [\"REF\", 2], \"x\": null}, \"ordered_globals\": [\"sa\", \"la\", \"x\"], \"stack_to_render\": [], \"heap\": {\"1\": [\"SET\", \"r\", \"g\", \"i\", \"a\", \"o\"], \"2\": [\"LIST\", \"a\", \"g\", \"r\", \"a\", \"r\", \"i\", \"o\"]}, \"stdout\": \"{'r', 'g', 'i', 'a', 'o'}\\nNone\\n\"}]}\n",
       "        </script>\n",
       "        <div id=\"jm439ed089-5dab-4ba6-a20e-7e4b78d87d76\" class=\"pytutorVisualizer\"> </div>\n",
       " \n",
       "        <style>\n",
       "        .vizLayoutTd {\n",
       "            background-color: #fff !important;\n",
       "        }\n",
       "                            \n",
       "        #pyStdout {\n",
       "            min-height:25px;\n",
       "        }\n",
       "\n",
       "        /* 'Edit this code' link, hiding because replaces browser tab !!!*/\n",
       "        #editCodeLinkDiv {\n",
       "            display:none;  \n",
       "        }\n",
       "        </style>   \n",
       "                            \n",
       "        <script>\n",
       "        (function(){\n",
       "\n",
       "            var trace = JSON.parse(document.getElementById('json-jm439ed089-5dab-4ba6-a20e-7e4b78d87d76').innerHTML);                                        \n",
       "            // NOTE 1: id without #\n",
       "            // NOTE 2 - maybe there are more predictable ways, but this will work anyway\n",
       "            //        - id should be number\n",
       "            visualizerIdOverride = Math.trunc(Math.random() * 100000000000)\n",
       "            addVisualizerToPage(trace, 'jm439ed089-5dab-4ba6-a20e-7e4b78d87d76',{'embeddedMode' : false,\n",
       "                                             'visualizerIdOverride':visualizerIdOverride})  \n",
       "            \n",
       "            \n",
       "            // set overflow for pytuts - need to do in python as css \n",
       "            // does not allow parent selection\n",
       "            var pytuts = $('.pytutorVisualizer')\n",
       "            pytuts.closest('div.output_html.rendered_html.output_result')\n",
       "                    .css('overflow-x', 'visible')\n",
       "        \n",
       "            //pytuts.closest('div.output_html.rendered_html.output_result')\n",
       "            //      .css('background-color','red')                \n",
       "            \n",
       "        })()\n",
       "        </script>\n",
       "                \n",
       "                "
      ],
      "text/plain": [
       "<IPython.core.display.HTML object>"
      ]
     },
     "execution_count": 51,
     "metadata": {},
     "output_type": "execute_result"
    }
   ],
   "source": [
    "sa = {'g','a','r','a'}\n",
    "la = ['a','g','r','a','r','i','o']\n",
    "x = sa.update(la)\n",
    "print(sa)\n",
    "print(x)\n",
    "\n",
    "jupman.pytut()"
   ]
  },
  {
   "cell_type": "markdown",
   "metadata": {},
   "source": [
    "**DOMANDA**: Guarda i seguenti pezzi di codice, e per ciascuno cerca di indovinare quale risultato producono (o se danno errore):\n",
    "\n",
    "1.  ```python\n",
    "    set('case').intersection('sebo') == 'se'\n",
    "    ```\n",
    "1.  ```python\n",
    "    set('naso').difference('caso')\n",
    "    ```\n",
    "1.  ```python\n",
    "    s = {1,2,3}\n",
    "    s.intersection_update([2,3,4])\n",
    "    print(s)\n",
    "    ```\n",
    "1.  ```python\n",
    "    s = {1,2,3}\n",
    "    s = s & [2,3,4]\n",
    "    ```\n",
    "1.  ```python\n",
    "    s = set('cartone')\n",
    "    s = s.intersection('parto')\n",
    "    print(s)\n",
    "    ```\n",
    "1.  ```python\n",
    "    sa = set(\"mastice\")\n",
    "    sb = sa.difference(\"mastro\").difference(\"collo\")\n",
    "    print(sa)\n",
    "    print(sb)\n",
    "    ```\n",
    "1.  ```python\n",
    "    sa = set(\"mastice\")\n",
    "    sb = sa.difference_update(\"mastro\").difference_update(\"collo\")\n",
    "    print(sa)\n",
    "    print(sb)\n",
    "    ```    "
   ]
  },
  {
   "cell_type": "markdown",
   "metadata": {},
   "source": [
    "### Esercizio - tuttotranne 2\n",
    "\n",
    "Dati i set `s1`, `s2` e `s3`, scrivere del codice che MODIFICA `s1` in modo che contenga  anche gli elementi di `s2` ma non contenga gli elementi di `s3`.\n",
    "\n",
    "* Il tuo codice dovrebbe funzionare con _qualunque_ insieme `s1`, `s2`, `s3`\n",
    "* **NON** creare nuovi set\n",
    "\n",
    "Esempio - dati\n",
    "\n",
    "```python\n",
    "s1 = set(['a','b','c','d','e'])\n",
    "s2 = set(['b','c','f','g'])\n",
    "s3 = set(['b','f'])\n",
    "```\n",
    "\n",
    "Dopo il tuo codice dovresti ottenere\n",
    "\n",
    "```python\n",
    ">>> print(s1)\n",
    "{'a', 'g', 'e', 'd', 'c'}\n",
    "```"
   ]
  },
  {
   "cell_type": "raw",
   "id": "48b2bb6f",
   "metadata": {
    "format": "text/html"
   },
   "source": [
    "<a  class=\"jupman-sol jupman-sol-toggler\" \n",
    " onclick=\"jupman.toggleSolution(this);\" \n",
    " data-jupman-show=\"Mostra soluzione\" data-jupman-hide=\"Nascondi\">Mostra soluzione</a><div class=\"jupman-sol jupman-sol-code\" style=\"display:none\">  "
   ]
  },
  {
   "cell_type": "code",
   "execution_count": 52,
   "metadata": {},
   "outputs": [
    {
     "name": "stdout",
     "output_type": "stream",
     "text": [
      "{'e', 'c', 'd', 'g', 'a'}\n"
     ]
    }
   ],
   "source": [
    "\n",
    "s1 = set(['a','b','c','d','e'])\n",
    "s2 = set(['b','c','f','g'])\n",
    "s3 = set(['b','f'])\n",
    "\n",
    "# scrivi qui\n",
    "s1.update(s2)\n",
    "s1.difference_update(s3)\n",
    "print(s1)"
   ]
  },
  {
   "cell_type": "raw",
   "id": "8198dfd3",
   "metadata": {
    "format": "text/html"
   },
   "source": [
    "</div>"
   ]
  },
  {
   "cell_type": "code",
   "execution_count": 52,
   "metadata": {},
   "outputs": [],
   "source": [
    "\n",
    "s1 = set(['a','b','c','d','e'])\n",
    "s2 = set(['b','c','f','g'])\n",
    "s3 = set(['b','f'])\n",
    "\n",
    "# scrivi qui\n",
    "\n"
   ]
  },
  {
   "cell_type": "markdown",
   "metadata": {},
   "source": [
    "## Altri metodi\n",
    "\n",
    "|Metodo| Risultato | Descrizione |\n",
    "|---------|-----------|-------------|\n",
    "|`set.add(el)`| `None`| aggiunge l'elemento specificato - se già presente non fa nulla)|\n",
    "|`set.remove(el)`|`None`|rimuove l'elemento specificato - se non presente solleva errore|\n",
    "|`set.discard(el)`|`None`|rimuove l'elemento specificato - se non presente non fa nulla|\n",
    "|`set.pop()`|obj|rimuove un elemento arbitrario dall'insieme e lo ritorna|\n",
    "|`set.clear()`|`None`|rimuove tutti gli elementi|\n",
    "|`setA.issubset(setB`)|`bool`|verifica  se `setA` è un sottoinsieme di `setB`|\n",
    "|`setA.issuperset(setB`)|`bool`|verifica se `setA` contiene tutti gli elementi di `setB`|\n",
    "|`setA.isdisjoint(setB`)|`bool`|verifica  se `setA` non ha elementi in comune con `setB`|"
   ]
  },
  {
   "cell_type": "markdown",
   "metadata": {},
   "source": [
    "### add\n",
    "\n",
    "Dato un insieme, possiamo aggiungergli un elemento con il metodo `.add`:"
   ]
  },
  {
   "cell_type": "code",
   "execution_count": 53,
   "metadata": {},
   "outputs": [],
   "source": [
    "s = {3,7,4}"
   ]
  },
  {
   "cell_type": "code",
   "execution_count": 54,
   "metadata": {},
   "outputs": [],
   "source": [
    "s.add(5)"
   ]
  },
  {
   "cell_type": "code",
   "execution_count": 55,
   "metadata": {},
   "outputs": [
    {
     "data": {
      "text/plain": [
       "{3, 4, 5, 7}"
      ]
     },
     "execution_count": 55,
     "metadata": {},
     "output_type": "execute_result"
    }
   ],
   "source": [
    "s"
   ]
  },
  {
   "cell_type": "markdown",
   "metadata": {},
   "source": [
    "Se aggiungiamo lo stesso elemento due volte, non accade nulla:"
   ]
  },
  {
   "cell_type": "code",
   "execution_count": 56,
   "metadata": {},
   "outputs": [],
   "source": [
    "s.add(5)"
   ]
  },
  {
   "cell_type": "code",
   "execution_count": 57,
   "metadata": {},
   "outputs": [
    {
     "data": {
      "text/plain": [
       "{3, 4, 5, 7}"
      ]
     },
     "execution_count": 57,
     "metadata": {},
     "output_type": "execute_result"
    }
   ],
   "source": [
    "s"
   ]
  },
  {
   "cell_type": "markdown",
   "metadata": {},
   "source": [
    "**DOMANDA**: Se scriviamo questo codice, che risultato otteniamo?\n",
    "\n",
    "```python\n",
    "s = {'a','b'}\n",
    "s.add({'c','d','e'})\n",
    "print(s)\n",
    "```\n",
    "\n",
    "1. stampa `{'a','b','c','d','e'}`\n",
    "2. stampa `{{'a','b','c','d','e'}}`\n",
    "3. stampa `{'a','b',{'c','d','e'}}`\n",
    "4. un errore (quale?)"
   ]
  },
  {
   "cell_type": "raw",
   "id": "845818ad",
   "metadata": {
    "format": "text/html"
   },
   "source": [
    "<a  class=\"jupman-sol jupman-sol-toggler\" \n",
    " onclick=\"jupman.toggleSolution(this);\" \n",
    " data-jupman-show=\"Mostra risposta\" data-jupman-hide=\"Nascondi\">Mostra risposta</a><div class=\"jupman-sol jupman-sol-question\" style=\"display:none\">  "
   ]
  },
  {
   "cell_type": "markdown",
   "metadata": {},
   "source": [
    "**RISPOSTA**: La 4 - produce `TypeError: unhashable type: 'set'` : stiamo cercando di inserire un insieme come elemento di un altro insieme, ma gli insiemi sono _mutabili_ e pertanto la loro etichetta _hash_ (che permette a Python di trovarli velocemente) potrebbe variare nel tempo"
   ]
  },
  {
   "cell_type": "raw",
   "id": "c3fa4b36",
   "metadata": {
    "format": "text/html"
   },
   "source": [
    "</div>"
   ]
  },
  {
   "cell_type": "markdown",
   "metadata": {},
   "source": [
    "**DOMANDA**: Guarda il codice seguente, che risultato produce? \n",
    "\n",
    "```python\n",
    "x = {'a','b'}\n",
    "y = set(x)\n",
    "x.add('c')\n",
    "print('x=',x)\n",
    "print('y=',y)\n",
    "```\n",
    "\n",
    "1. un errore (quale?)\n",
    "2. `x` e `y` saranno uguali (come?)\n",
    "3. `x` e `y` saranno diversi (come?)"
   ]
  },
  {
   "cell_type": "raw",
   "id": "aea56b89",
   "metadata": {
    "format": "text/html"
   },
   "source": [
    "<a  class=\"jupman-sol jupman-sol-toggler\" \n",
    " onclick=\"jupman.toggleSolution(this);\" \n",
    " data-jupman-show=\"Mostra risposta\" data-jupman-hide=\"Nascondi\">Mostra risposta</a><div class=\"jupman-sol jupman-sol-question\" style=\"display:none\">  "
   ]
  },
  {
   "cell_type": "markdown",
   "metadata": {},
   "source": [
    "\n",
    "**RISPOSTA**: La 3. Stamperà\n",
    "\n",
    "```python\n",
    "x= {'c', 'a', 'b'}\n",
    "y= {'a', 'b'}\n",
    "```\n",
    "\n",
    "perchè `y=set(x)` crea un NUOVO insieme copiando gli elementi dalla sequenza di input `x`. Possiamo verificarlo con Python Tutor:"
   ]
  },
  {
   "cell_type": "raw",
   "id": "f3013c1a",
   "metadata": {
    "format": "text/html"
   },
   "source": [
    "</div>"
   ]
  },
  {
   "cell_type": "code",
   "execution_count": 58,
   "metadata": {},
   "outputs": [
    {
     "data": {
      "text/html": [
       "\n",
       "        <script src=\"../_static/js/pytutor-embed.bundle.min.js\" type=\"application/javascript\"></script>\n",
       "     \n",
       "        <script id=\"json-jm66e9abf3-d17d-4a7b-bd9c-77d7f97910f8\" type=\"application/json\" >\n",
       "            {\"code\": \" \\nx = {'a','b'}\\ny = set(x)\\nx.add('c')\", \"trace\": [{\"line\": 2, \"event\": \"step_line\", \"func_name\": \"<module>\", \"globals\": {}, \"ordered_globals\": [], \"stack_to_render\": [], \"heap\": {}, \"stdout\": \"\"}, {\"line\": 3, \"event\": \"step_line\", \"func_name\": \"<module>\", \"globals\": {\"x\": [\"REF\", 1]}, \"ordered_globals\": [\"x\"], \"stack_to_render\": [], \"heap\": {\"1\": [\"SET\", \"b\", \"a\"]}, \"stdout\": \"\"}, {\"line\": 4, \"event\": \"step_line\", \"func_name\": \"<module>\", \"globals\": {\"x\": [\"REF\", 1], \"y\": [\"REF\", 2]}, \"ordered_globals\": [\"x\", \"y\"], \"stack_to_render\": [], \"heap\": {\"1\": [\"SET\", \"b\", \"a\"], \"2\": [\"SET\", \"b\", \"a\"]}, \"stdout\": \"\"}, {\"line\": 4, \"event\": \"return\", \"func_name\": \"<module>\", \"globals\": {\"x\": [\"REF\", 1], \"y\": [\"REF\", 2]}, \"ordered_globals\": [\"x\", \"y\"], \"stack_to_render\": [], \"heap\": {\"1\": [\"SET\", \"b\", \"c\", \"a\"], \"2\": [\"SET\", \"b\", \"a\"]}, \"stdout\": \"\"}]}\n",
       "        </script>\n",
       "        <div id=\"jm66e9abf3-d17d-4a7b-bd9c-77d7f97910f8\" class=\"pytutorVisualizer\"> </div>\n",
       " \n",
       "        <style>\n",
       "        .vizLayoutTd {\n",
       "            background-color: #fff !important;\n",
       "        }\n",
       "                            \n",
       "        #pyStdout {\n",
       "            min-height:25px;\n",
       "        }\n",
       "\n",
       "        /* 'Edit this code' link, hiding because replaces browser tab !!!*/\n",
       "        #editCodeLinkDiv {\n",
       "            display:none;  \n",
       "        }\n",
       "        </style>   \n",
       "                            \n",
       "        <script>\n",
       "        (function(){\n",
       "\n",
       "            var trace = JSON.parse(document.getElementById('json-jm66e9abf3-d17d-4a7b-bd9c-77d7f97910f8').innerHTML);                                        \n",
       "            // NOTE 1: id without #\n",
       "            // NOTE 2 - maybe there are more predictable ways, but this will work anyway\n",
       "            //        - id should be number\n",
       "            visualizerIdOverride = Math.trunc(Math.random() * 100000000000)\n",
       "            addVisualizerToPage(trace, 'jm66e9abf3-d17d-4a7b-bd9c-77d7f97910f8',{'embeddedMode' : false,\n",
       "                                             'visualizerIdOverride':visualizerIdOverride})  \n",
       "            \n",
       "            \n",
       "            // set overflow for pytuts - need to do in python as css \n",
       "            // does not allow parent selection\n",
       "            var pytuts = $('.pytutorVisualizer')\n",
       "            pytuts.closest('div.output_html.rendered_html.output_result')\n",
       "                    .css('overflow-x', 'visible')\n",
       "        \n",
       "            //pytuts.closest('div.output_html.rendered_html.output_result')\n",
       "            //      .css('background-color','red')                \n",
       "            \n",
       "        })()\n",
       "        </script>\n",
       "                \n",
       "                "
      ],
      "text/plain": [
       "<IPython.core.display.HTML object>"
      ]
     },
     "execution_count": 58,
     "metadata": {},
     "output_type": "execute_result"
    }
   ],
   "source": [
    "x = {'a','b'}\n",
    "y = set(x)\n",
    "x.add('c')\n",
    "\n",
    "jupman.pytut()"
   ]
  },
  {
   "cell_type": "markdown",
   "metadata": {},
   "source": [
    "### remove\n",
    "\n",
    "Il metodo `remove` toglie un elemento specificato dall'insieme. Se non esiste, produce un errore:"
   ]
  },
  {
   "cell_type": "code",
   "execution_count": 59,
   "metadata": {},
   "outputs": [],
   "source": [
    "s = {'a','b','c'}"
   ]
  },
  {
   "cell_type": "code",
   "execution_count": 60,
   "metadata": {},
   "outputs": [],
   "source": [
    "s.remove('b')"
   ]
  },
  {
   "cell_type": "code",
   "execution_count": 61,
   "metadata": {},
   "outputs": [
    {
     "data": {
      "text/plain": [
       "{'a', 'c'}"
      ]
     },
     "execution_count": 61,
     "metadata": {},
     "output_type": "execute_result"
    }
   ],
   "source": [
    "s"
   ]
  },
  {
   "cell_type": "code",
   "execution_count": 62,
   "metadata": {},
   "outputs": [],
   "source": [
    "s.remove('c')"
   ]
  },
  {
   "cell_type": "code",
   "execution_count": 63,
   "metadata": {},
   "outputs": [
    {
     "data": {
      "text/plain": [
       "{'a'}"
      ]
     },
     "execution_count": 63,
     "metadata": {},
     "output_type": "execute_result"
    }
   ],
   "source": [
    "s"
   ]
  },
  {
   "cell_type": "markdown",
   "metadata": {},
   "source": [
    "```python\n",
    "s.remove('z')\n",
    "\n",
    "---------------------------------------------------------------------------\n",
    "KeyError                                  Traceback (most recent call last)\n",
    "<ipython-input-266-a9e7a977e50c> in <module>\n",
    "----> 1 s.remove('z')\n",
    "\n",
    "KeyError: 'z'\n",
    "\n",
    "```"
   ]
  },
  {
   "cell_type": "markdown",
   "metadata": {},
   "source": [
    "### Esercizio - bababiba\n",
    "\n",
    "Data una stringa `scritta` di esattamente 4 sillabe da due caratteri ciascuna, creare un insieme `s` che contenga delle tuple con 2 caratteri ciascuna. Ogni tupla deve rappresentare una sillaba presa da `scritta`.\n",
    "\n",
    "* per aggiungere elementi all'insieme, usa solo `add`\n",
    "* il tuo codice deve funzionare con qualunque `scritta` da 4 bisillabe\n",
    "\n",
    "Esempio 1 - data:\n",
    "\n",
    "```python\n",
    "scritta = \"bababiba\"\n",
    "```\n",
    "\n",
    "dopo il tuo codice, deve risultare:\n",
    "\n",
    "```python\n",
    ">>> print(s)\n",
    "{('b', 'a'), ('b', 'i')}\n",
    "```\n",
    "\n",
    "Esempio 2 - data:\n",
    "\n",
    "```python\n",
    "scritta = \"rubareru\"\n",
    "```\n",
    "\n",
    "dopo il tuo codice, deve risultare:\n",
    "\n",
    "```python\n",
    ">>> print(s)\n",
    "{('r', 'u'), ('b', 'a'), ('r', 'e')}\n",
    "```\n"
   ]
  },
  {
   "cell_type": "raw",
   "id": "3db19e7f",
   "metadata": {
    "format": "text/html"
   },
   "source": [
    "<a  class=\"jupman-sol jupman-sol-toggler\" \n",
    " onclick=\"jupman.toggleSolution(this);\" \n",
    " data-jupman-show=\"Mostra soluzione\" data-jupman-hide=\"Nascondi\">Mostra soluzione</a><div class=\"jupman-sol jupman-sol-code\" style=\"display:none\">  "
   ]
  },
  {
   "cell_type": "code",
   "execution_count": 64,
   "metadata": {},
   "outputs": [
    {
     "name": "stdout",
     "output_type": "stream",
     "text": [
      "{('b', 'a'), ('b', 'i')}\n"
     ]
    }
   ],
   "source": [
    "\n",
    "scritta = \"bababiba\"\n",
    "#scritta = \"rubareru\"\n",
    "\n",
    "# scrivi qui\n",
    "\n",
    "s = set()\n",
    "s.add(tuple(scritta[:2]))\n",
    "s.add(tuple(scritta[2:4]))\n",
    "s.add(tuple(scritta[4:6]))\n",
    "s.add(tuple(scritta[6:8]))\n",
    "print(s)"
   ]
  },
  {
   "cell_type": "raw",
   "id": "ba8e2665",
   "metadata": {
    "format": "text/html"
   },
   "source": [
    "</div>"
   ]
  },
  {
   "cell_type": "code",
   "execution_count": 64,
   "metadata": {},
   "outputs": [],
   "source": [
    "\n",
    "scritta = \"bababiba\"\n",
    "#scritta = \"rubareru\"\n",
    "\n",
    "# scrivi qui\n",
    "\n"
   ]
  },
  {
   "cell_type": "markdown",
   "metadata": {},
   "source": [
    "### discard\n",
    "\n",
    "Il metodo `discard` toglie un elemento specificato dall'insieme. Se non esiste, non fa nulla:"
   ]
  },
  {
   "cell_type": "code",
   "execution_count": 65,
   "metadata": {},
   "outputs": [],
   "source": [
    "s = {'a','b','c'}"
   ]
  },
  {
   "cell_type": "code",
   "execution_count": 66,
   "metadata": {},
   "outputs": [],
   "source": [
    "s.discard('a')"
   ]
  },
  {
   "cell_type": "code",
   "execution_count": 67,
   "metadata": {},
   "outputs": [
    {
     "data": {
      "text/plain": [
       "{'b', 'c'}"
      ]
     },
     "execution_count": 67,
     "metadata": {},
     "output_type": "execute_result"
    }
   ],
   "source": [
    "s"
   ]
  },
  {
   "cell_type": "code",
   "execution_count": 68,
   "metadata": {},
   "outputs": [],
   "source": [
    "s.discard('c')"
   ]
  },
  {
   "cell_type": "code",
   "execution_count": 69,
   "metadata": {},
   "outputs": [
    {
     "data": {
      "text/plain": [
       "{'b'}"
      ]
     },
     "execution_count": 69,
     "metadata": {},
     "output_type": "execute_result"
    }
   ],
   "source": [
    "s"
   ]
  },
  {
   "cell_type": "code",
   "execution_count": 70,
   "metadata": {},
   "outputs": [],
   "source": [
    "s.discard('z')"
   ]
  },
  {
   "cell_type": "code",
   "execution_count": 71,
   "metadata": {},
   "outputs": [
    {
     "data": {
      "text/plain": [
       "{'b'}"
      ]
     },
     "execution_count": 71,
     "metadata": {},
     "output_type": "execute_result"
    }
   ],
   "source": [
    "s"
   ]
  },
  {
   "cell_type": "markdown",
   "metadata": {},
   "source": [
    "### Esercizio - spazzatura\n",
    "\n",
    "✪✪ Un impianto di processamento rifiuti riceve un carico di `spazzatura`, che rappresentiamo come insieme di stringhe: \n",
    "\n",
    "```python\n",
    "spazzatura = {'alcheni','verdura','mercurio','carta'}\n",
    "```\n",
    "\n",
    "Per rimuovere gli elementi contaminanti che _potrebbero_ essere presenti (NOTA: non sempre sono presenti !), l'impianto ha esattamente 3 `filtri` (come lista di stringhe) che applicherà in serie alla spazzatura: \n",
    "\n",
    "```python\n",
    "filtri = ['cadmio','mercurio','alcheni']\n",
    "```\n",
    "\n",
    "Per ogni filtro applicato, si vuole vedere lo stato della `spazzatura` processata, per vedere se il filtro ha effettivamente rimosso il contaminante (se presente)\n",
    "\n",
    "Alla fine, si vuole anche stampare tutti e _soli_ i contaminanti che sono stati effettivamente rimossi (mettili come insieme nella variabile `separati`)\n",
    "\n",
    "* **NON** usare comandi `if`\n",
    "* **NON** serve usare cicli (il numero di filtri è fisso a 3, puoi usare copia e incolla di codice)\n",
    "* Il tuo codice deve funzionare per _qualsiasi_ lista `filtri` di 3 elementi e _qualsiasi_ insieme `spazzatura` \n",
    "\n",
    "Esempio - dati:\n",
    "\n",
    "```python\n",
    "filtri = ['cadmio','mercurio','alcheni']\n",
    "spazzatura = {'alcheni','verdura','mercurio','carta'}\n",
    "```\n",
    "\n",
    "Dopo il tuo codice, deve mostrare:\n",
    "\n",
    "```\n",
    "spazzatura iniziale: {'verdura', 'carta', 'alcheni', 'mercurio'}\n",
    "Applico filtro per cadmio : {'verdura', 'carta', 'alcheni', 'mercurio'}\n",
    "Applico filtro per mercurio : {'verdura', 'carta', 'alcheni'}\n",
    "Applico filtro per alcheni : {'verdura', 'carta'}\n",
    "\n",
    "Contaminanti separati: {'alcheni', 'mercurio'}\n",
    "```\n"
   ]
  },
  {
   "cell_type": "raw",
   "id": "a532b9df",
   "metadata": {
    "format": "text/html"
   },
   "source": [
    "<a  class=\"jupman-sol jupman-sol-toggler\" \n",
    " onclick=\"jupman.toggleSolution(this);\" \n",
    " data-jupman-show=\"Mostra soluzione\" data-jupman-hide=\"Nascondi\">Mostra soluzione</a><div class=\"jupman-sol jupman-sol-code\" style=\"display:none\">  "
   ]
  },
  {
   "cell_type": "code",
   "execution_count": 72,
   "metadata": {},
   "outputs": [
    {
     "name": "stdout",
     "output_type": "stream",
     "text": [
      "spazzatura iniziale: {'alcheni', 'mercurio', 'verdura', 'carta'}\n",
      "Applico filtro per cadmio : {'alcheni', 'mercurio', 'verdura', 'carta'}\n",
      "Applico filtro per mercurio : {'alcheni', 'verdura', 'carta'}\n",
      "Applico filtro per alcheni : {'verdura', 'carta'}\n",
      "\n",
      "Contaminanti separati: {'alcheni', 'mercurio'}\n"
     ]
    }
   ],
   "source": [
    "\n",
    "filtri = ['cadmio','mercurio','alcheni']\n",
    "spazzatura = {'alcheni','verdura','mercurio','carta'}\n",
    "separati = spazzatura.intersection(filtri) # crea un NUOVO insieme\n",
    "\n",
    "# scrivi qui\n",
    "s = \"Applico filtro per\"\n",
    "print(\"spazzatura iniziale:\", spazzatura)\n",
    "spazzatura.discard(filtri[0])\n",
    "print(s,filtri[0],\":\", spazzatura)\n",
    "spazzatura.discard(filtri[1])\n",
    "print(s,filtri[1],\":\", spazzatura)\n",
    "spazzatura.discard(filtri[2])\n",
    "print(s,filtri[2],\":\", spazzatura)\n",
    "print(\"\")\n",
    "\n",
    "print(\"Contaminanti separati:\", separati)"
   ]
  },
  {
   "cell_type": "raw",
   "id": "ca59a149",
   "metadata": {
    "format": "text/html"
   },
   "source": [
    "</div>"
   ]
  },
  {
   "cell_type": "code",
   "execution_count": 72,
   "metadata": {},
   "outputs": [],
   "source": [
    "\n",
    "filtri = ['cadmio','mercurio','alcheni']\n",
    "spazzatura = {'alcheni','verdura','mercurio','carta'}\n",
    "separati = spazzatura.intersection(filtri) # crea un NUOVO insieme\n",
    "\n",
    "# scrivi qui\n",
    "\n"
   ]
  },
  {
   "cell_type": "markdown",
   "metadata": {},
   "source": [
    "## issubset\n",
    "\n",
    "Per verificare se tutti gli elementi di un insieme `sa` sono contenuti in un altro insieme `sb` possiamo scrivere `sa.issubset(sb)`. Esempi:"
   ]
  },
  {
   "cell_type": "code",
   "execution_count": 73,
   "metadata": {},
   "outputs": [
    {
     "data": {
      "text/plain": [
       "True"
      ]
     },
     "execution_count": 73,
     "metadata": {},
     "output_type": "execute_result"
    }
   ],
   "source": [
    "{2,4}.issubset({1,2,3,4})"
   ]
  },
  {
   "cell_type": "code",
   "execution_count": 74,
   "metadata": {},
   "outputs": [
    {
     "data": {
      "text/plain": [
       "False"
      ]
     },
     "execution_count": 74,
     "metadata": {},
     "output_type": "execute_result"
    }
   ],
   "source": [
    "{3,5}.issubset({1,2,3,4})"
   ]
  },
  {
   "cell_type": "markdown",
   "metadata": {},
   "source": [
    "<div class=\"alert alert-warning\">\n",
    "    \n",
    "**ATTENZIONE: l'insieme vuoto è sempre considerato un sottoinsieme di un qualsiasi insieme**\n",
    "</div>"
   ]
  },
  {
   "cell_type": "code",
   "execution_count": 75,
   "metadata": {},
   "outputs": [
    {
     "data": {
      "text/plain": [
       "True"
      ]
     },
     "execution_count": 75,
     "metadata": {},
     "output_type": "execute_result"
    }
   ],
   "source": [
    "set().issubset({3,4,2,5})"
   ]
  },
  {
   "cell_type": "markdown",
   "metadata": {},
   "source": [
    "### issuperset\n",
    "\n",
    "Per verificare se un insieme `sa`contiene tutti gli elementi di un altro insieme `sb` possiamo scrivere `sa.issuperset(sb)`. Esempi:"
   ]
  },
  {
   "cell_type": "code",
   "execution_count": 76,
   "metadata": {},
   "outputs": [
    {
     "data": {
      "text/plain": [
       "True"
      ]
     },
     "execution_count": 76,
     "metadata": {},
     "output_type": "execute_result"
    }
   ],
   "source": [
    "{1,2,3,4,5}.issuperset({1,3,5})"
   ]
  },
  {
   "cell_type": "code",
   "execution_count": 77,
   "metadata": {},
   "outputs": [
    {
     "data": {
      "text/plain": [
       "True"
      ]
     },
     "execution_count": 77,
     "metadata": {},
     "output_type": "execute_result"
    }
   ],
   "source": [
    "{1,2,3,4,5}.issuperset({2,4})"
   ]
  },
  {
   "cell_type": "code",
   "execution_count": 78,
   "metadata": {},
   "outputs": [
    {
     "data": {
      "text/plain": [
       "False"
      ]
     },
     "execution_count": 78,
     "metadata": {},
     "output_type": "execute_result"
    }
   ],
   "source": [
    "{1,2,3,4,5}.issuperset({1,3,5,7,9})"
   ]
  },
  {
   "cell_type": "markdown",
   "metadata": {},
   "source": [
    "<div class=\"alert alert-warning\">\n",
    "**ATTENZIONE: l'insieme vuoto è sempre considerato un sottoinsieme di un qualsiasi insieme**\n",
    "</div>"
   ]
  },
  {
   "cell_type": "code",
   "execution_count": 79,
   "metadata": {},
   "outputs": [
    {
     "data": {
      "text/plain": [
       "True"
      ]
     },
     "execution_count": 79,
     "metadata": {},
     "output_type": "execute_result"
    }
   ],
   "source": [
    "{1,2,3,4,5}.issuperset({})"
   ]
  },
  {
   "cell_type": "markdown",
   "metadata": {},
   "source": [
    "### isdisjoint"
   ]
  },
  {
   "cell_type": "markdown",
   "metadata": {},
   "source": [
    "Un insieme è disgiunto da un altro se non ha alcun elemento in comune, per verificarlo possiamo usare il metodo `isdisjoint`:"
   ]
  },
  {
   "cell_type": "code",
   "execution_count": 80,
   "metadata": {},
   "outputs": [
    {
     "data": {
      "text/plain": [
       "True"
      ]
     },
     "execution_count": 80,
     "metadata": {},
     "output_type": "execute_result"
    }
   ],
   "source": [
    "{1,3,5}.isdisjoint({2,4})"
   ]
  },
  {
   "cell_type": "code",
   "execution_count": 81,
   "metadata": {},
   "outputs": [
    {
     "data": {
      "text/plain": [
       "False"
      ]
     },
     "execution_count": 81,
     "metadata": {},
     "output_type": "execute_result"
    }
   ],
   "source": [
    "{1,3,5}.isdisjoint({2,3,4})"
   ]
  },
  {
   "cell_type": "markdown",
   "metadata": {},
   "source": [
    "**DOMANDA**: Dato un insieme qualsiasi `x`, cosa produce la seguente espressione?\n",
    "\n",
    "```python\n",
    "x.isdisjoint(x)\n",
    "```\n",
    "\n",
    "1. un errore (quale?)\n",
    "2. sempre `True`\n",
    "3. sempre `False`\n",
    "4. `True` o `False` a seconda del valore di `x`\n"
   ]
  },
  {
   "cell_type": "raw",
   "id": "574bcbf9",
   "metadata": {
    "format": "text/html"
   },
   "source": [
    "<a  class=\"jupman-sol jupman-sol-toggler\" \n",
    " onclick=\"jupman.toggleSolution(this);\" \n",
    " data-jupman-show=\"Mostra risposta\" data-jupman-hide=\"Nascondi\">Mostra risposta</a><div class=\"jupman-sol jupman-sol-question\" style=\"display:none\">  "
   ]
  },
  {
   "cell_type": "markdown",
   "metadata": {},
   "source": [
    "**RISPOSTA**: La 4, `True` o `False` a seconda del valore di `x`.\n",
    "\n",
    "Probabilmente avrai pensato che l'espressione restituisca sempre `False`, dopotutto, come potrebbe un insieme a essere disgiunto da sè stesso? In effetti l'espressione ritorna sempre `False` _eccetto_ nel caso particolare dell'insieme vuoto: \n",
    "\n",
    "```python\n",
    "x = set()\n",
    "x.isdisjoint(x)\n",
    "```\n",
    "in cui ritorna `True`.\n",
    "\n",
    "<div class=\"alert alert-warning\">\n",
    "\n",
    "**MORALE: CONTROLLA SEMPRE L'INSIEME VUOTO !**\n",
    "\n",
    "Per questo e per tanti altri metodi l'insieme vuoto causa spesso comportamenti non sempre intuitivi, quindi ti invitiamo sempre a provare caso per caso.\n",
    "\n",
    "</div>"
   ]
  },
  {
   "cell_type": "raw",
   "id": "9492a7d2",
   "metadata": {
    "format": "text/html"
   },
   "source": [
    "</div>"
   ]
  },
  {
   "cell_type": "markdown",
   "metadata": {},
   "source": [
    "## Esercizio - matrioska\n",
    "\n",
    "✪✪ Data una lista `insiemi` di esattamente 4 insiemi, la definiamo _a matrioska_ se ogni insieme contiene tutti gli elementi del precedente insieme (più eventualmente altri). Scrivi del codice che STAMPA `True` se la sequenza è a matrioska, altrimenti STAMPA `False`.\n",
    "\n",
    "* **NON** usare `if`\n",
    "* il tuo codice deve funzionare per _qualunque_ sequenza di esattamente 4 insiemi\n",
    "* **SUGGERIMENTO**: puoi creare una lista di 3 booleani che verificano se un set è contenuto nel successivo...\n",
    "\n",
    "Esempio 1 - data :\n",
    "\n",
    "```python\n",
    "insiemi = [{'a','b'}, \n",
    "           {'a','b','c'},\n",
    "           {'a','b','c','d','e'},\n",
    "           {'a','b','c','d','e','f','g','h','i'}]\n",
    "```\n",
    "dopo il tuo codice, deve stampare:\n",
    "\n",
    "```\n",
    "La sequenza è a matrioska? True\n",
    "```\n",
    "\n",
    "Esempio 2 - data :\n",
    "\n",
    "```python\n",
    "insiemi = [{'a','b'}, \n",
    "           {'a','b','c'},\n",
    "           {'a','e','d'},\n",
    "           {'a','b','d','e'}]\n",
    "```\n",
    "dopo il tuo codice, deve stampare:\n",
    "\n",
    "```\n",
    "La sequenza è a matrioska? False\n",
    "```\n"
   ]
  },
  {
   "cell_type": "raw",
   "id": "7822fdca",
   "metadata": {
    "format": "text/html"
   },
   "source": [
    "<a  class=\"jupman-sol jupman-sol-toggler\" \n",
    " onclick=\"jupman.toggleSolution(this);\" \n",
    " data-jupman-show=\"Mostra soluzione\" data-jupman-hide=\"Nascondi\">Mostra soluzione</a><div class=\"jupman-sol jupman-sol-code\" style=\"display:none\">  "
   ]
  },
  {
   "cell_type": "code",
   "execution_count": 82,
   "metadata": {},
   "outputs": [
    {
     "name": "stdout",
     "output_type": "stream",
     "text": [
      "La sequenza è a matrioska? True\n"
     ]
    }
   ],
   "source": [
    "\n",
    "insiemi = [{'a','b'}, \n",
    "           {'a','b','c'},\n",
    "           {'a','b','c','d','e'},\n",
    "           {'a','b','c','d','e','f','g','h','i'}]\n",
    "\n",
    "\n",
    "#insiemi = [{'a','b'}, \n",
    "#           {'a','b','c'},\n",
    "#           {'a','e','d'},\n",
    "#           {'a','b','d','e'}]\n",
    "\n",
    "\n",
    "# scrivi qui\n",
    "\n",
    "controlli = [ insiemi[0].issubset(insiemi[1]),\n",
    "              insiemi[1].issubset(insiemi[2]), \n",
    "              insiemi[2].issubset(insiemi[3]) ]\n",
    "\n",
    "print(\"La sequenza è a matrioska?\", controlli.count(True) == 3)"
   ]
  },
  {
   "cell_type": "raw",
   "id": "5b22ae57",
   "metadata": {
    "format": "text/html"
   },
   "source": [
    "</div>"
   ]
  },
  {
   "cell_type": "code",
   "execution_count": 82,
   "metadata": {},
   "outputs": [],
   "source": [
    "\n",
    "insiemi = [{'a','b'}, \n",
    "           {'a','b','c'},\n",
    "           {'a','b','c','d','e'},\n",
    "           {'a','b','c','d','e','f','g','h','i'}]\n",
    "\n",
    "\n",
    "#insiemi = [{'a','b'}, \n",
    "#           {'a','b','c'},\n",
    "#           {'a','e','d'},\n",
    "#           {'a','b','d','e'}]\n",
    "\n",
    "\n",
    "# scrivi qui\n",
    "\n"
   ]
  },
  {
   "cell_type": "markdown",
   "metadata": {},
   "source": [
    "## Prosegui\n",
    "\n",
    "Prosegui con le [challenges](https://it.softpython.org/sets/sets2-chal.html)"
   ]
  }
 ],
 "metadata": {
  "kernelspec": {
   "display_name": "Python 3 (ipykernel)",
   "language": "python",
   "name": "python3"
  },
  "language_info": {
   "codemirror_mode": {
    "name": "ipython",
    "version": 3
   },
   "file_extension": ".py",
   "mimetype": "text/x-python",
   "name": "python",
   "nbconvert_exporter": "python",
   "pygments_lexer": "ipython3",
   "version": "3.7.10"
  },
  "toc": {
   "base_numbering": 1,
   "nav_menu": {},
   "number_sections": false,
   "sideBar": true,
   "skip_h1_title": false,
   "title_cell": "Table of Contents",
   "title_sidebar": "Contents",
   "toc_cell": false,
   "toc_position": {},
   "toc_section_display": true,
   "toc_window_display": true
  }
 },
 "nbformat": 4,
 "nbformat_minor": 2
}

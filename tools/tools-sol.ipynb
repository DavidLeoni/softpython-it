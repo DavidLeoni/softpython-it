{
 "cells": [
  {
   "cell_type": "code",
   "execution_count": 1,
   "metadata": {
    "nbsphinx": "hidden"
   },
   "outputs": [],
   "source": [
    "# Ricordati di eseguire questa cella con Shift+Invio\n",
    "\n",
    "import jupman"
   ]
  },
  {
   "cell_type": "markdown",
   "metadata": {},
   "source": [
    "# Strumenti e script\n",
    "\n",
    "## [Scarica zip esercizi](../_static/generated/tools.zip)\n",
    "\n",
    "[Naviga file online](https://github.com/DavidLeoni/softpython-it/tree/master/tools)\n",
    "\n",
    "<div class=\"alert alert-warning\">\n",
    "\n",
    "**REQUISITI:**\n",
    "    \n",
    "* **Aver installati Python 3 e Jupyter:** se non hai già provveduto, guarda [Installazione](https://it.softpython.org/installation.html)\n",
    "</div>"
   ]
  },
  {
   "cell_type": "markdown",
   "metadata": {},
   "source": [
    "## L'interprete Python\n",
    "\n",
    "In queste guide usiamo estensivamente l'editor di notebook Jupyter, perchè ci permette di eseguire comodamente codice Python, mostrare grafici e prendere note. Ma se vogliamo solo far calcolare il computer non è affatto obbligatorio!\n",
    "\n",
    "Il modo più immediato (per quanto non molto pratico) per eseguire codice Python è usando l'interprete _da linea di comando_ nella cosiddetta _modalità interattiva_ , cioè facendo in modo che attenda i comandi che verranno inseriti manualmente uno per uno. Questo uso _non_ richiede Jupyter, basta avere installato Python. Nota che in Mac OS X e parecchi sistemi linux come Ubuntu, Python è installato di _default_, ma a volte può capitare che non sia la versione 3. Cerchiamo di capire che versione abbiamo installata noi. \n",
    "\n",
    "\n",
    "### Apriamo la console di sistema\n",
    "\n",
    "Apri una console (in Windows: menu di sistema -> Anaconda Prompt,in Mac OS X: lancia il Terminale)\n",
    "\n",
    "Nella console trovi il cosidetto _prompt_ dei comandi. In questo _prompt_ puoi dare comandi direttamente al sistema operativo. \n",
    "\n",
    "<div class=\"alert alert-warning\">\n",
    "\n",
    "**ATTENZIONE**: I comandi che dai nel prompt, sono comandi nel linguaggio del sistema operativo che stai usando, **NON** nel linguaggio Python !!!!!\n",
    "</div>\n",
    "\n",
    "In Windows dovresti vedere qualcosa del genere: \n",
    "\n",
    "```\n",
    "C:\\Users\\David> \n",
    "```\n",
    "\n",
    "In Mac / Linux potrebbe essere una cosa simile a questa:\n",
    "\n",
    "```bash\n",
    "david@mio-computer:~$\n",
    "```\n",
    "\n"
   ]
  },
  {
   "cell_type": "markdown",
   "metadata": {},
   "source": [
    "### Listare i file e cartelle\n",
    "\n",
    "Nella console di sistema, prova a:\n",
    "\n",
    "**su Windows**: scrivere il comando `dir` e digitare il tasto Invio.\n",
    "\n",
    "**su Mac o Linux**: scrivere il comando `ls` e digitare il tasto Invio.\n",
    "\n",
    "Dovrebbe apparire un elenco di tutti i file nella cartella corrente.  Nel mio caso appare una lista del genere:\n",
    "\n",
    "<div class=\"alert alert-warning\">\n",
    "\n",
    "**RIPETO**: in questo contesto `dir` ed `ls` sono comandi _del sistema operativo_, **NON** di Python !!\n",
    "\n",
    "</div>\n",
    "\n",
    "Windows: \n",
    "\n",
    "```\n",
    "C:\\Users\\David> dir\n",
    "Arduino                    gotysc                           program.wav\n",
    "a.txt                      index.html                       Public\n",
    "CART                       java0.log                        RegDocente.pdf\n",
    "backupsys                  java1.log                                \n",
    "BaseXData                  java_error_in_IDEA_14362.log \n",
    "```\n",
    "\n",
    "Mac / Linux: \n",
    "\n",
    "\n",
    "```\n",
    "david@david-computer:~$ ls\n",
    "Arduino                           gotysc                         program.wav\n",
    "a.txt                             index.html                     Public\n",
    "CART                              java0.log                      RegistroDocenteStandard(1).pdf\n",
    "backupsys                         java1.log                      RegistroDocenteStandard.pdf\n",
    "BaseXData                         java_error_in_IDEA_14362.log \n",
    "```\n"
   ]
  },
  {
   "cell_type": "markdown",
   "metadata": {},
   "source": [
    "### Lanciamo l'interprete Python\n",
    "\n",
    "Sempre nella console di sistema aperta, scrivi semplicemente il comando `python`:\n",
    "\n",
    "<div class=\"alert alert-warning\">\n",
    "\n",
    "**ATTENZIONE**: Se Python non parte, prova a scrivere `python3` con il `3` alla fine di `python`\n",
    "\n",
    "</div>\n",
    "\n",
    "\n",
    "```\n",
    "C:\\Users\\David> python\n",
    "```\n",
    "\n",
    "\n",
    "Dovresti veder apparire qualcosa di simile (ma molto probabilmente NON uguale). Nota che nella prima riga è contenuta la versione di Python. Se inizia con `2.`, allora non stai usando quella giusta per questo corso - in quel caso prova a uscire dall'interprete ([vedi come uscire](#Uscire-dall'interprete)) e poi scrivi `python3` \n",
    "\n",
    "```\n",
    "Python 3.5.2 (default, Nov 23 2017, 16:37:01) \n",
    "[GCC 5.4.0 20160609] on windows\n",
    "Type \"help\", \"copyright\", \"credits\" or \"license\" for more information.\n",
    ">>> \n",
    "```\n",
    "<div class=\"alert alert-warning\">\n",
    "\n",
    "**ATTENZIONE** al triplo maggiore `>>>`  all'inizio!\n",
    "\n",
    "Il triplo maggiore `>>>`  all'inizio indica che a differenza di prima adesso la console si sta aspettando comandi _in linguaggio Python_. Quindi, i comandi di sistema che abbiamo usato prima (`cd`, `dir`, ...) NON funzioneranno più, o daranno risultati diversi !!!!\n",
    "\n",
    "</div>"
   ]
  },
  {
   "cell_type": "markdown",
   "metadata": {},
   "source": [
    "Adesso la console si aspetta comandi Python, prova ad inserire `3 + 5` e poi premi `Invio`:\n",
    "\n",
    "<div class=\"alert alert-warning\">\n",
    "\n",
    "**ATTENZIONE** tu NON scrivere `>>>`, scrivi solo il comando che appare dopo  !\n",
    "\n",
    "</div>\n",
    "\n",
    "\n",
    "```python\n",
    ">>> 3 + 5\n",
    "```\n",
    "\n",
    "Dovrebbe apparire la scritta `8`\n",
    "\n",
    "```\n",
    "8\n",
    "```\n",
    "\n",
    "Oltre ai calcoli, potremmo dire a Python di stampare qualcosa con la funzione `print(\"ciao\")`\n",
    "\n",
    "```python\n",
    ">>> print(\"ciao\")\n",
    "ciao\n",
    "```"
   ]
  },
  {
   "cell_type": "markdown",
   "metadata": {},
   "source": [
    "### Uscire dall'interprete\n",
    "\n",
    "Per uscire dall'interprete Python e tornare al prompt di sistema (per intenderci, quello che accetta i comandi `cd` e `dir`), scrivi il comando Python `exit()`\n",
    "\n",
    "Dopo che sei effettivamente  uscito dall'interprete Python, il triplo `>>>` deve essere sparito (cioè non deve stare all'inizio della linea dove darai nuovi comandi)\n",
    "\n",
    "In Windows, dovresti vedere un risultato simile:\n",
    "\n",
    "```\n",
    ">>> exit()\n",
    "C:\\Users\\David>\n",
    "```\n",
    "\n",
    "in Mac / Linux potrebbe essere così:\n",
    "\n",
    "\n",
    "```\n",
    ">>> exit()\n",
    "david@mio-computer:~$\n",
    "```"
   ]
  },
  {
   "cell_type": "markdown",
   "metadata": {},
   "source": [
    "Adesso potresti tornare ad eseguire comandi per il sistema operativo come `dir` e `cd`\n",
    "\n",
    "**Windows**:\n",
    "```\n",
    "C:\\Users\\David> dir\n",
    "Arduino                    gotysc                           program.wav\n",
    "a.txt                      index.html                       Public\n",
    "CART                       java0.log                        RegDocente.pdf\n",
    "backupsys                  java1.log                                \n",
    "BaseXData                  java_error_in_IDEA_14362.log \n",
    "```\n",
    "\n",
    "**Mac**:\n",
    "```\n",
    "david@david-computer:~$ ls\n",
    "Arduino                           gotysc                         program.wav\n",
    "a.txt                             index.html                     Public\n",
    "CART                              java0.log                      RegistroDocenteStandard(1).pdf\n",
    "backupsys                         java1.log                      RegistroDocenteStandard.pdf\n",
    "BaseXData                         java_error_in_IDEA_14362.log \n",
    "```\n"
   ]
  },
  {
   "cell_type": "markdown",
   "metadata": {},
   "source": [
    "## Moduli\n",
    "\n",
    "I moduli Python sono semplicemente dei file di testo che hanno l'estensione **.py** (per es. `prova.py`). Quando stai scrivendo codice in un editor, di fatto stai implementando il modulo corrispondente.\n",
    "\n",
    "In Jupyter usiamo file notebook con estensione `.ipynb`, ma per editarli serve necessariamente Jupyter. \n",
    "\n",
    "Con i file `.py` (detti anche _script_ ) possiamo invece usare un qualsiasi editor di testo, e possiamo poi dire all'interprete di eseguire il file. Vediamo come si fa.\n",
    "\n",
    "### Editor di testo semplice\n",
    "\n",
    "1. Con un editor di testo (_Blocco note_ in Windows, o _TextEdit_ in Mac Os X) crea un file di testo, e metti all'interno questo codice\n",
    "\n",
    "\n",
    "\n",
    "```python\n",
    "x = 3\n",
    "y = 5\n",
    "print(x + y)\n",
    "```\n",
    "\n",
    "2. Proviamo a salvarlo - sembra semplice, ma non lo è sempre, leggi bene!\n",
    "\n",
    "<div class=\"alert alert-warning\">\n",
    "\n",
    "**ATTENZIONE**: Al momento di salvare il file, **assicurati che il file abbia estensione** `.py` **!!**\n",
    "</div>\n",
    "\n",
    "Supponiamo di creare il file `prova.py` all'interno di una cartella chiamata `CART`:\n",
    "\n",
    "* **WINDOWS**: Se usi _Blocco Note_, nella finestra di salvataggio devi impostare _Salva come_ a _Tutti i file_ (altrimenti il file verrà salvato erroneamente come `prova.py.txt` !)\n",
    "* **MAC**: se usi _TextEdit_, prima di salvare clicca _Formato_ e poi  _Converti in formato Solo testo_: **se dimentichi questo passaggio, TextEdit nella finestra di salvataggio non ti darà modo di salvarlo nel formato giusto e probabilmente finirai con un file** `.rtf` **che non ci interessa**\n"
   ]
  },
  {
   "cell_type": "markdown",
   "metadata": {},
   "source": [
    "3. Apri una console (in Windows: menu di sistema -> Anaconda Prompt,in Mac OS X: lancia il Terminale)\n",
    "\n",
    "La console apre il cosidetto _prompt_ dei comandi. In questo _prompt_ puoi dare comandi direttamente al sistema operativo (vedi [paragrafo precedente](#L'interprete-Python))\n",
    "\n",
    "<div class=\"alert alert-warning\">\n",
    "\n",
    "**ATTENZIONE**: I comandi che dai nel prompt, sono comandi nel linguaggio del sistema operativo che stai usando, **NON** nel linguaggio Python !!!!!\n",
    "</div>\n",
    "\n",
    "In Windows dovresti vedere qualcosa del genere: \n",
    "\n",
    "```\n",
    "C:\\Users\\David> \n",
    "```\n",
    "\n",
    "In Mac / Linux :\n",
    "\n",
    "```bash\n",
    "david@david-mio-computer:~$\n",
    "```"
   ]
  },
  {
   "cell_type": "markdown",
   "metadata": {},
   "source": [
    "Prova per esempio a scrivere il comando `dir` (o `ls` per Mac / Linux) che mostra tutte i file nella cartella corrente. Nel mio caso appare una lista del genere:\n",
    "\n",
    "<div class=\"alert alert-warning\">\n",
    "\n",
    "\n",
    "**RIPETO**: in questo contesto `dir` / `ls` sono comando _del sistema operativo_, **NON** di Python.\n",
    "\n",
    "</div>\n",
    "\n",
    "```\n",
    "C:\\Users\\David> dir\n",
    "Arduino                    gotysc                           program.wav\n",
    "a.txt                      index.html                       Public\n",
    "CART                       java0.log                        RegDocente.pdf\n",
    "backupsys                  java1.log                                \n",
    "BaseXData                  java_error_in_IDEA_14362.log \n",
    "```\n",
    "\n",
    "Se noti, nella lista appare `CART`, dove ho messo `prova.py`. Per _entrare_ nella cartella dal _prompt_, devi usare il comando del sistema operativo `cd` come segue:"
   ]
  },
  {
   "cell_type": "markdown",
   "metadata": {},
   "source": [
    "4. Per entrare in una cartella che si chiama CART, scrivere `cd CART`:\n",
    "\n",
    "```\n",
    "C:\\Users\\David> cd CART\n",
    "C:\\Users\\David\\CART>\n",
    "```\n",
    "\n",
    "\n",
    "**E se sbaglio cartella?**\n",
    "\n",
    "Se per caso entri nella cartella sbagliata, tipo `CAVOLATE`, per andare indietro di una cartella, scrivere `cd ..`  (NOTA: `cd` è seguito da spazio e DUE punti `..` _uno dopo l'altro_ )\n",
    "\n",
    "```\n",
    "C:\\Users\\David\\CAVOLATE> cd ..\n",
    "C:\\Users\\David\\>\n",
    "```\n",
    "\n"
   ]
  },
  {
   "cell_type": "markdown",
   "metadata": {},
   "source": [
    "5. Assicurati di essere nella cartella che contiene `prova.py`. Se non lo sei, usa i comandi `cd` e `cd ..` come sopra  per navigare le cartelle.\n",
    "\n",
    "Vediamo cosa c'è in CART con il comando di sistema `dir` (o `ls` se usi Mac/Linux):\n",
    "\n",
    "<div class=\"alert alert-warning\">\n",
    "\n",
    "\n",
    "**RIPETO**: in questo contesto `dir` (o `ls`) è un comando _del sistema operativo_, **NON** di Python.\n",
    "\n",
    "</div>\n",
    "\n",
    "\n",
    "```\n",
    "C:\\Users\\David\\CART> dir\n",
    "\n",
    "prova.py\n",
    "```\n",
    "\n",
    "`dir` ci sta dicendo che in `CART` c'è il nostro file `prova.py`.  \n",
    "\n"
   ]
  },
  {
   "cell_type": "markdown",
   "metadata": {},
   "source": [
    "\n",
    "\n",
    "6. Da dentro la cartella `CART`, scrivi `python prova.py`\n",
    "\n",
    "```\n",
    "C:\\Users\\David\\CART>python prova.py\n",
    "```\n",
    "\n",
    "<div class=\"alert alert-warning\">\n",
    "\n",
    "**ATTENZIONE**: Se Python non parte, prova a scrivere `python3 prova.py` con il `3` alla fine di `python`\n",
    "\n",
    "</div>\n",
    "\n",
    "\n",
    "Se tutto è andato bene, dovresti veder apparire \n",
    "\n",
    "```\n",
    "8\n",
    "C:\\Users\\David\\CART>\n",
    "```\n",
    "<div class=\"alert alert-warning\">\n",
    "\n",
    "**ATTENZIONE**: Dopo l'esecuzione di uno script in questo modo, la console si aspetta di nuovo comandi _di sistema_, **NON** comandi Python (quindi non dovrebbe esserci il triplo maggiore `>>>`)\n",
    "</div>\n",
    "\n"
   ]
  },
  {
   "cell_type": "markdown",
   "metadata": {},
   "source": [
    "### IDE\n",
    "\n",
    "In queste guide lavoriamo su notebook Jupyter con estensione `.ipynb`, ma per editare  file sorgenti `.py`  lunghi conviene usare editor più tradizionali, detti anche IDE (_Integrated Development Environment_). Per Python possiamo usare [Spyder](https://www.spyder-ide.org/), [Visual Studio Code](https://code.visualstudio.com/Download) o [PyCharme Community Edition](https://www.jetbrains.com/pycharm/download/). \n",
    "\n",
    "Rispetto a Jupyter, questi editor permettono più agevolmente di _debuggare_ e _testare_ il codice. \n",
    "\n",
    "Facciamo una prova con Spyder, che è il più semplice - se hai Anaconda, lo trovi disponibile dentro l'Anaconda Navigator.\n",
    "\n",
    "<div class=\"alert alert-info\">\n",
    "\n",
    "**INFO**: Quando lanci Spyder, potrebbe richiederti di effettuare un aggiornamento (_upgrade_), ma puoi tranquillamente cliccare No. \n",
    "\n",
    "</div>\n",
    "\n",
    "Nella parte sinistra dell'editor si vede il codice del file `.py` che stai editando. Tali file sono detti anche _script_ . Nella parte destra in basso si vede la console con l'interprete IPython (che è lo stesso alla base di Jupyter, qui in versione testuale). Quando esegui lo script, è come immettere i comandi in quell'interprete. \n",
    "\n",
    "- Per eseguire tutto lo script:\tpremi `F5`\n",
    "- Per eseguire solo la linea corrente o la selezione: premi `F9`\n",
    "- Per ripulire la memoria: dopo molte esecuzioni le variabili nella memoria dell'interprete potrebbero assumere valori che non ti aspetti. Per ripulire la memoria, clicca sull'ingranaggio a destra del riquadro della console, e seleziona _Restart kernel_\n",
    "\n",
    "**ESERCIZIO**: fai delle prove, riprendendo il file `prova.py` di prima:\n",
    "\n",
    "```python\n",
    "x = 3\n",
    "y = 5\n",
    "print(x + y)\n",
    "```\n",
    "\n",
    "- una volta che il codice è nello script, premi `F5`\n",
    "- seleziona solo `print(x+y)` e premi F9\n",
    "- seleziona solo `x=3`e premi F9\n",
    "- clicca sull'ingranaggio a destra del riquadro della console, e seleziona _Restart kernel_, poi seleziona solo `print(x+y)` e premi `F9`. Che succede?\n",
    "\n",
    "Ricordati che se la memoria dell'interprete è stata ripulita con _Restart kernel_ e poi provi ad eseguire una riga di codice con variabili definite in linee che non sono stati eseguite prima, Python non saprà a che variabili ti stai riferendo e mostrerà un `NameError` \n",
    " "
   ]
  },
  {
   "cell_type": "markdown",
   "metadata": {},
   "source": [
    "![Spyder ide 3823](img/spyder-ide.png)"
   ]
  },
  {
   "cell_type": "markdown",
   "metadata": {},
   "source": [
    "## Jupyter\n",
    "\n",
    "Jupyter è un editor che ti permette di lavorare sui cosiddetti _notebook_ , che sono file che finiscono con l'estensione `.ipynb`. Sono documenti divisi in celle dove per ogni cella puoi immettere dei comandi e vederne subito il rispettivo output. Proviamo ad aprire questo."
   ]
  },
  {
   "cell_type": "markdown",
   "metadata": {},
   "source": [
    "1. scompatta lo [zip degli esercizi](../_static/generated/tools.zip) in una cartella, dovresti ottenere qualcosa del genere: \n",
    "\n",
    "```\n",
    "\n",
    "tools\n",
    "    tools-sol.ipynb\n",
    "    tools.ipynb\n",
    "    jupman.py\n",
    "```\n",
    "\n",
    "<div class=\"alert alert-warning\">\n",
    "\n",
    "**ATTENZIONE**: Per essere visualizzato correttamente, il file del notebook DEVE essere nella cartella szippata.\n",
    "</div>\n"
   ]
  },
  {
   "cell_type": "markdown",
   "metadata": {},
   "source": [
    "\n",
    "2. apri il Jupyter Notebook da quella cartella. Due cose dovrebbero aprirsi, prima una console e poi un browser. Il browser dovrebbe mostrare una lista di file: naviga la lista e apri il notebook `tools.ipynb`\n",
    "\n",
    "<div class=\"alert alert-warning\">\n",
    "    \n",
    "**ATTENZIONE: NON cliccare il bottone Upload in Jupyter**\n",
    "    \n",
    "Naviga semplicemente finchè raggiungi il file\n",
    "</div>\n",
    "\n",
    "<div class=\"alert alert-warning\">\n",
    "    \n",
    "**ATTENZIONE: apri quello SENZA il** `-sol` **alla fine!**\n",
    "    \n",
    "Vedere subito le soluzioni è troppo facile ;-)\n",
    "</div>"
   ]
  },
  {
   "cell_type": "markdown",
   "metadata": {},
   "source": [
    "3. Prosegui leggendo il file degli esercizi, ogni tanto al suo interno troverai delle scritte **ESERCIZIO**, che ti chiederanno di scrivere dei comandi Python nelle celle successive. Gli esercizi sono graduati per difficoltà, da una stellina ✪ a quattro ✪✪✪✪\n",
    "\n",
    "<div class=\"alert alert-warning\">\n",
    "\n",
    "**ATTENZIONE**: In questo libro usiamo **SOLO PYTHON 3** <br/>\n",
    "\n",
    "Se per caso ottieni comportamenti inattesi, controlla di usare Python 3 e non il 2. Se per caso il tuo sistema operativo scrivendo `python` fa partire il 2, prova ad eseguire il tre scrivendo il comando: `python3`\n",
    "</div>\n",
    "\n",
    "<div class=\"alert alert-info\">\n",
    "\n",
    "**Se non trovi Jupyter / qualcosa non funziona:** guarda l'[installazione](https://it.softpython.org/installation.html#Notebook-Jupyter)\n",
    "</div>"
   ]
  },
  {
   "cell_type": "markdown",
   "metadata": {},
   "source": [
    "Scorciatoie da tastiera:\n",
    "\n",
    "* Per eseguire il codice Python dentro una cella di Jupyter, premi `Control+Invio`\n",
    "* Per eseguire il codice Python dentro una cella di Jupyter E selezionare la cella seguente, premi `Shift+Invio`\n",
    "* Per eseguire il codice Python dentro una cella di Jupyter E creare una nuova cella subito dopo, premi `Alt+Invio`\n",
    "* Se per caso il Notebook sembra inchiodato, prova a selezionare `Kernel -> Restart`\n"
   ]
  },
  {
   "cell_type": "markdown",
   "metadata": {},
   "source": [
    "**ESERCIZIO**: Proviamo a inserire un comando Python: scrivi nella cella qua sotto `3 + 5`, e poi mentre sei in quella cella premi i tasti speciali `Control+Invio`. Come risultato, dovresti vedere apparire il numero `8`"
   ]
  },
  {
   "cell_type": "code",
   "execution_count": null,
   "metadata": {},
   "outputs": [],
   "source": []
  },
  {
   "cell_type": "markdown",
   "metadata": {},
   "source": [
    "**ESERCIZIO**: in Python possiamo scrivere commenti iniziando una riga con un cancelletto `#`. Come prima, scrivi nella cella sotto `3 + 5` ma questa volta scrivilo nella riga sotto la scritta `# scrivi qui`:"
   ]
  },
  {
   "cell_type": "code",
   "execution_count": 2,
   "metadata": {},
   "outputs": [],
   "source": [
    "# scrivi qui\n"
   ]
  },
  {
   "cell_type": "markdown",
   "metadata": {},
   "source": [
    "**ESERCIZIO**: Jupyter per ogni cella mostra il risultato solo dell'ultima riga eseguita in quella cella. Prova a inserire questo codice nella cella sotto ed esegui premendo `Control+Invio`. Che risultato appare?\n",
    "\n",
    "```python\n",
    "3 + 5\n",
    "1 + 1\n",
    "```"
   ]
  },
  {
   "cell_type": "code",
   "execution_count": 3,
   "metadata": {},
   "outputs": [],
   "source": [
    "# scrivi qui\n",
    "\n"
   ]
  },
  {
   "cell_type": "markdown",
   "metadata": {},
   "source": [
    "**ESERCIZIO**: Proviamo adesso a creare noi una nuova cella. \n",
    "\n",
    "* Mentre sei con il cursore in questa cella, premi `Alt+Invio`. Si dovrebbe creare una nuova cella dopo la presente. \n",
    "\n",
    "* Nella cella appena creata, inserisci `2 + 3` e poi premi `Shift+Invio`. Cosa succede al cursore? prova la differenze con `Control+Invio`. Se non capisci la differenza, prova a premere ripetutamente `Shif+Invio` e vedi che succede."
   ]
  },
  {
   "cell_type": "markdown",
   "metadata": {},
   "source": [
    "### Stampare una espressione"
   ]
  },
  {
   "cell_type": "markdown",
   "metadata": {},
   "source": [
    "Proviamo ad assegnare una espressione ad una variabile:"
   ]
  },
  {
   "cell_type": "code",
   "execution_count": 4,
   "metadata": {},
   "outputs": [],
   "source": [
    "monete = 3 + 2"
   ]
  },
  {
   "cell_type": "markdown",
   "metadata": {},
   "source": [
    "Nota che l'assegnazione di per sè non produce nessun output nella cella di Jupyter. Possiamo chiedere a Jupyter quanto vale la variabile semplicemente riscrivendo il nome in una cella:"
   ]
  },
  {
   "cell_type": "code",
   "execution_count": 5,
   "metadata": {},
   "outputs": [
    {
     "data": {
      "text/plain": [
       "5"
      ]
     },
     "execution_count": 5,
     "metadata": {},
     "output_type": "execute_result"
    }
   ],
   "source": [
    "monete"
   ]
  },
  {
   "cell_type": "markdown",
   "metadata": {},
   "source": [
    "L'effetto è (quasi sempre) lo stesso che otterremmo chiamando esplicitamente la funzione `print`:"
   ]
  },
  {
   "cell_type": "code",
   "execution_count": 6,
   "metadata": {},
   "outputs": [
    {
     "name": "stdout",
     "output_type": "stream",
     "text": [
      "5\n"
     ]
    }
   ],
   "source": [
    "print(monete)"
   ]
  },
  {
   "cell_type": "markdown",
   "metadata": {},
   "source": [
    "Qual'è la differenza? Jupyter per nostra comodità ci mostra direttamente il risultato dell'ultima espressione eseguita in una cella, ma solo dell'ultima:"
   ]
  },
  {
   "cell_type": "code",
   "execution_count": 7,
   "metadata": {},
   "outputs": [
    {
     "data": {
      "text/plain": [
       "4"
      ]
     },
     "execution_count": 7,
     "metadata": {},
     "output_type": "execute_result"
    }
   ],
   "source": [
    "monete = 4\n",
    "2 + 5\n",
    "monete"
   ]
  },
  {
   "cell_type": "markdown",
   "metadata": {},
   "source": [
    "Se vogliamo essere sicuri di stampare entrambe, dobbiamo usare la `print`:"
   ]
  },
  {
   "cell_type": "code",
   "execution_count": 8,
   "metadata": {},
   "outputs": [
    {
     "name": "stdout",
     "output_type": "stream",
     "text": [
      "7\n",
      "4\n"
     ]
    }
   ],
   "source": [
    "monete = 4\n",
    "print(2 + 5)\n",
    "print(monete)"
   ]
  },
  {
   "cell_type": "markdown",
   "metadata": {},
   "source": [
    "Inoltre, il risultato dell'ultima espressione è mostrato solo nei fogli Jupyter, se stai scrivendo un normale script `.py` e vuoi vedere risultati devi in ogni caso usare la `print`."
   ]
  },
  {
   "cell_type": "markdown",
   "metadata": {},
   "source": [
    "Volendo stampare più espressioni su una stessa riga, possiamo passarle come parametri differenti a `print` separandole da una virgola:"
   ]
  },
  {
   "cell_type": "code",
   "execution_count": 9,
   "metadata": {},
   "outputs": [
    {
     "name": "stdout",
     "output_type": "stream",
     "text": [
      "7 4\n"
     ]
    }
   ],
   "source": [
    "monete = 4\n",
    "print(2+5,monete)"
   ]
  },
  {
   "cell_type": "markdown",
   "metadata": {},
   "source": [
    "A `print` possiamo passare quante espressioni vogliamo:"
   ]
  },
  {
   "cell_type": "code",
   "execution_count": 10,
   "metadata": {},
   "outputs": [
    {
     "name": "stdout",
     "output_type": "stream",
     "text": [
      "7 4 12\n"
     ]
    }
   ],
   "source": [
    "monete = 4\n",
    "print(2 + 5, monete, monete*3)"
   ]
  },
  {
   "cell_type": "markdown",
   "metadata": {},
   "source": [
    "Se vogliamo mostrare anche del testo, possiamo scriverlo creando delle cosiddette _stringhe_ tra doppie virgolette (in seguito vedremo le stringhe  molto più nel dettaglio):"
   ]
  },
  {
   "cell_type": "code",
   "execution_count": 11,
   "metadata": {},
   "outputs": [
    {
     "name": "stdout",
     "output_type": "stream",
     "text": [
      "Abbiamo 4 monete d'oro, ma ci piacerebbe averne il doppio: 8\n"
     ]
    }
   ],
   "source": [
    "monete = 4\n",
    "print(\"Abbiamo\", monete, \"monete d'oro, ma ci piacerebbe averne il doppio:\", monete * 2)"
   ]
  },
  {
   "cell_type": "markdown",
   "metadata": {},
   "source": [
    "**DOMANDA**: Guarda le espressioni seguenti, e per ciascuna cerca di indovinare quale risultato produce. Prova a verificare le tue supposizioni sia in Jupyter che un'altro editor di file `.py` come Spyder:\n",
    "\n",
    "    \n",
    "1.  ```python\n",
    "    x = 1\n",
    "    x\n",
    "    x    \n",
    "    ```        \n",
    "1.  ```python\n",
    "    x = 1\n",
    "    x = 2\n",
    "    print(x)\n",
    "    ```    \n",
    "1.  ```python\n",
    "    x = 1\n",
    "    x = 2\n",
    "    x\n",
    "    ```     \n",
    "1.  ```python\n",
    "    x = 1\n",
    "    print(x)\n",
    "    x = 2\n",
    "    print(x)\n",
    "    ```        \n",
    "1.  ```python\n",
    "    print(zam)\n",
    "    print(zam)\n",
    "    zam = 1    \n",
    "    zam = 2    \n",
    "    ```    \n",
    "1.  ```python        \n",
    "    x = 5\n",
    "    print(x,x)\n",
    "    ```        \n",
    "1.  ```python        \n",
    "    x = 5\n",
    "    print(x)\n",
    "    print(x)\n",
    "    ```\n",
    "1.  ```python\n",
    "    tappeti = 8\n",
    "    lunghezza = 5\n",
    "    print(\"Se ho\", tappeti, \"tappeti in fila cammino per\", tappeti * lunghezza, \"metri.\")\n",
    "    ```\n",
    "1.  ```python\n",
    "    tappeti = 8\n",
    "    lunghezza = 5\n",
    "    print(\"Se\", \"ho\", tappeti, \"tappeti\", \"in\",\"fila\",\"cammino\", \"per\", tappeti * lunghezza, \"metri.\")\n",
    "    ```    "
   ]
  },
  {
   "cell_type": "markdown",
   "metadata": {},
   "source": [
    "### Esercizio - castelli per aria\n",
    "\n",
    "Date due variabili \n",
    "\n",
    "```python\n",
    "castelli = 7\n",
    "dirigibili = 4\n",
    "```\n",
    "scrivi del codice che stampa:\n",
    "\n",
    "```\n",
    "Ho costruito 7 castelli per aria\n",
    "Ho 4 dirigibili a vapore\n",
    "Ne voglio parcheggiare uno per castello\n",
    "perciò ne acquisterò altri 3 al Mercato del Vapore\n",
    "```\n",
    "\n",
    "- **NON** mettere costanti numeriche nel tuo codice come `7`, `4` o `3`! Scrivi del codice generico che usa solo le variabili fornite."
   ]
  },
  {
   "cell_type": "raw",
   "id": "9e2d078f",
   "metadata": {
    "format": "text/html"
   },
   "source": [
    "<a  class=\"jupman-sol jupman-sol-toggler\" \n",
    " onclick=\"jupman.toggleSolution(this);\" \n",
    " data-jupman-show=\"Mostra soluzione\" data-jupman-hide=\"Nascondi\">Mostra soluzione</a><div class=\"jupman-sol jupman-sol-code\" style=\"display:none\">  "
   ]
  },
  {
   "cell_type": "code",
   "execution_count": 12,
   "metadata": {},
   "outputs": [
    {
     "name": "stdout",
     "output_type": "stream",
     "text": [
      "Ho costruito 7 castelli per aria\n",
      "Ho 4 dirigibili a vapore\n",
      "Ne voglio parcheggiare uno per castello\n",
      "perciò ne acquisterò altri 3 al Mercato del Vapore.\n"
     ]
    }
   ],
   "source": [
    "\n",
    "castelli = 7\n",
    "dirigibili = 4\n",
    "# scrivi qui\n",
    "print(\"Ho costruito\",castelli, \"castelli per aria\")\n",
    "print(\"Ho\", dirigibili, \"dirigibili a vapore\")\n",
    "print(\"Ne voglio parcheggiare uno per castello\")\n",
    "print(\"perciò ne acquisterò altri\", castelli - dirigibili, \"al Mercato del Vapore.\")"
   ]
  },
  {
   "cell_type": "raw",
   "id": "98818810",
   "metadata": {
    "format": "text/html"
   },
   "source": [
    "</div>"
   ]
  },
  {
   "cell_type": "code",
   "execution_count": 12,
   "metadata": {},
   "outputs": [],
   "source": [
    "\n",
    "castelli = 7\n",
    "dirigibili = 4\n",
    "# scrivi qui\n",
    "\n"
   ]
  },
  {
   "cell_type": "markdown",
   "metadata": {},
   "source": [
    "## Visualizzare l'esecuzione con Python Tutor\n",
    "\n",
    "\n",
    "Abbiamo visto i principali tipi di dati. Prima di procedere oltre, è bene vedere gli strumenti giusti per comprendere al meglio cosa succede quando si esegue il codice.\n",
    "[Python tutor](http://pythontutor.com/) è un ottimo sito online per visualizzare online l’esecuzione di codice Python, permettendo di andare avanti e _indietro_ nell'esecuzione del codice. Sfruttatelo più che potete, dovrebbe funzionare con parecchi degli esempi che tratteremo a lezione. Vediamo un esempio. \n",
    "\n",
    "**Python tutor 1/4**\n",
    "\n",
    "Vai sul sito [pythontutor.com](http://pythontutor.com/) e seleziona _Python 3_"
   ]
  },
  {
   "cell_type": "markdown",
   "metadata": {},
   "source": [
    "![pytut-1-8e1](img/pytut-1.jpg)"
   ]
  },
  {
   "cell_type": "markdown",
   "metadata": {},
   "source": [
    "**Python tutor 2/4**\n",
    "\n",
    "Assicurati che sia selezionato almeno Python 3.6:\n",
    "\n",
    "![pytut-2-49823273](img/pytut-2.jpg)"
   ]
  },
  {
   "cell_type": "markdown",
   "metadata": {},
   "source": [
    "**Python tutor 3/4**\n",
    "\n",
    "**Inserisci questo codice:**\n",
    "\n",
    "```python\n",
    "x = 5\n",
    "y = 7\n",
    "z = x + y\n",
    "```\n",
    "\n",
    "**e clicca Visualize Execution:**\n",
    "\n",
    "![pytut-3-891232342](img/pytut-3.jpg)"
   ]
  },
  {
   "cell_type": "markdown",
   "metadata": {},
   "source": [
    "**Python tutor 4/4**\n",
    "\n",
    "**Cliccando su Next visualizzerai i cambiamenti nella memoria di Python**:\n",
    "\n",
    "![pytut-4-27854](img/pytut-4.jpg)"
   ]
  },
  {
   "cell_type": "markdown",
   "metadata": {},
   "source": [
    "### Debuggare codice in Jupyter\n",
    "\n",
    "Python tutor è fantastico, ma quando esegui del codice in Jupyter e non funziona, come si può fare? Per ispezionare l'esecuzione, gli editor di solito mettono a disposizione uno strumento chiamato _debugger_, che permette di eseguire le istruzioni una per una. Al momento (Agosto 2018), il debugger di Jupyter che si chiama [pdb](https://davidhamann.de/2017/04/22/debugging-jupyter-notebooks/) è estramamente limitato . Per superarne le limitazioni, in questo corso ci siamo inventati una soluzione di ripiego, che sfrutta Python Tutor.\n",
    "\n",
    "Se inserisci del codice Python in una cella, e poi **alla fine della cella** scrivi l'istruzione `jupman.pytut()`, come per magia il codice precedente verrà visualizzato all'interno del foglio Jupyter con il debugger di Python Tutor. \n",
    "\n"
   ]
  },
  {
   "cell_type": "markdown",
   "metadata": {},
   "source": [
    "<div class=\"alert alert-warning\">\n",
    "\n",
    "**ATTENZIONE**: `jupman` è una collezione di funzioni di supporto che ci siamo inventati apposta per questo corso. \n",
    "\n",
    "Quando vedi comandi che iniziano con `jupman`, affinchè funzionino devi prima eseguire la cella in cima al documento. Riportiamo tale cella qua per comodità. Se non lo hai già fatto, eseguila adesso.\n",
    "\n",
    "</div>\n"
   ]
  },
  {
   "cell_type": "code",
   "execution_count": 13,
   "metadata": {},
   "outputs": [],
   "source": [
    "# Ricordati di eseguire questa cella con Control+Invio\n",
    "# Questi comandi dicono a Python dove trovare il file jupman.py\n",
    "import jupman;"
   ]
  },
  {
   "cell_type": "markdown",
   "metadata": {},
   "source": [
    "Adesso siamo pronti a provare Python tutor con la funzione magica `jupman.pytut()`: "
   ]
  },
  {
   "cell_type": "code",
   "execution_count": 14,
   "metadata": {},
   "outputs": [
    {
     "data": {
      "text/html": [
       "\n",
       "        <script src=\"../_static/js/pytutor-embed.bundle.min.js\" type=\"application/javascript\"></script>\n",
       "     \n",
       "        <script id=\"json-jmb9ee10e4-19be-4f3a-ae88-ece527c62519\" type=\"application/json\" >\n",
       "            {\"code\": \" \\nx = 5\\ny = 7\\nz = x + y\", \"trace\": [{\"line\": 2, \"event\": \"step_line\", \"func_name\": \"<module>\", \"globals\": {}, \"ordered_globals\": [], \"stack_to_render\": [], \"heap\": {}, \"stdout\": \"\"}, {\"line\": 3, \"event\": \"step_line\", \"func_name\": \"<module>\", \"globals\": {\"x\": 5}, \"ordered_globals\": [\"x\"], \"stack_to_render\": [], \"heap\": {}, \"stdout\": \"\"}, {\"line\": 4, \"event\": \"step_line\", \"func_name\": \"<module>\", \"globals\": {\"x\": 5, \"y\": 7}, \"ordered_globals\": [\"x\", \"y\"], \"stack_to_render\": [], \"heap\": {}, \"stdout\": \"\"}, {\"line\": 4, \"event\": \"return\", \"func_name\": \"<module>\", \"globals\": {\"x\": 5, \"y\": 7, \"z\": 12}, \"ordered_globals\": [\"x\", \"y\", \"z\"], \"stack_to_render\": [], \"heap\": {}, \"stdout\": \"\"}]}\n",
       "        </script>\n",
       "        <div id=\"jmb9ee10e4-19be-4f3a-ae88-ece527c62519\" class=\"pytutorVisualizer\"> </div>\n",
       " \n",
       "        <style>\n",
       "        .vizLayoutTd {\n",
       "            background-color: #fff !important;\n",
       "        }\n",
       "\n",
       "        #pyStdout {            \n",
       "            min-height:25px;\n",
       "        }\n",
       "\n",
       "        /* 'Edit this code' link, hiding because replaces browser tab !!!*/\n",
       "        #editCodeLinkDiv {\n",
       "            display:none;  \n",
       "        }\n",
       "        </style>   \n",
       "                            \n",
       "        <script>\n",
       "        (function(){\n",
       "\n",
       "            var trace = JSON.parse(document.getElementById('json-jmb9ee10e4-19be-4f3a-ae88-ece527c62519').innerHTML);                                        \n",
       "            // NOTE 1: id without #\n",
       "            // NOTE 2 - maybe there are more predictable ways, but this will work anyway\n",
       "            //        - id should be number\n",
       "            visualizerIdOverride = Math.trunc(Math.random() * 100000000000)\n",
       "            addVisualizerToPage(trace, 'jmb9ee10e4-19be-4f3a-ae88-ece527c62519',{'embeddedMode' : false,\n",
       "                                             'visualizerIdOverride':visualizerIdOverride})  \n",
       "            \n",
       "            \n",
       "            // set overflow for pytuts - need to do in python as css \n",
       "            // does not allow parent selection\n",
       "            var pytuts = $('.pytutorVisualizer')\n",
       "            pytuts.closest('div.output_html.rendered_html.output_result')\n",
       "                    .css('overflow-x', 'visible')\n",
       "        \n",
       "            //pytuts.closest('div.output_html.rendered_html.output_result')\n",
       "            //      .css('background-color','red')                \n",
       "            \n",
       "        })()\n",
       "        </script>\n",
       "                \n",
       "                "
      ],
      "text/plain": [
       "<IPython.core.display.HTML object>"
      ]
     },
     "execution_count": 14,
     "metadata": {},
     "output_type": "execute_result"
    }
   ],
   "source": [
    "x = 5\n",
    "y = 7\n",
    "z = x + y\n",
    "\n",
    "jupman.pytut()"
   ]
  },
  {
   "cell_type": "markdown",
   "metadata": {},
   "source": [
    "####  Python Tutor : Limitazione 1\n",
    "\n",
    "Python tutor è comodo, ma ci sono importanti limitazioni:\n",
    "\n"
   ]
  },
  {
   "cell_type": "markdown",
   "metadata": {},
   "source": [
    "<div class=\"alert alert-warning\">\n",
    "\n",
    "**ATTENZIONE**: Python Tutor guarda dentro una cella sola!\n",
    "\n",
    "Quando usi Python tutor dentro Jupyter, l'unico codice che viene considerato da Python tutor è quello dentro la cella dove sta il comando `jupman.pytut()`. \n",
    "</div>\n",
    "\n",
    "Quindi per esempio in queste due celle che seguono, solo `print(w)` apparirà dentro Python tutor   senza il `w = 3`. Se proverai a cliccare _Forward_ in Python tutor,  ti verrà segnalato che non è stata definita `w`"
   ]
  },
  {
   "cell_type": "code",
   "execution_count": 15,
   "metadata": {},
   "outputs": [],
   "source": [
    "w = 3"
   ]
  },
  {
   "cell_type": "code",
   "execution_count": 16,
   "metadata": {},
   "outputs": [
    {
     "name": "stdout",
     "output_type": "stream",
     "text": [
      "3\n"
     ]
    },
    {
     "name": "stderr",
     "output_type": "stream",
     "text": [
      "Traceback (most recent call last):\n",
      "  File \"../jupman.py\", line 2340, in _runscript\n",
      "    self.run(script_str, user_globals, user_globals)\n",
      "  File \"/usr/lib/python3.7/bdb.py\", line 578, in run\n",
      "    exec(cmd, globals, locals)\n",
      "  File \"<string>\", line 2, in <module>\n",
      "NameError: name 'w' is not defined\n"
     ]
    },
    {
     "data": {
      "text/html": [
       "\n",
       "        <script src=\"../_static/js/pytutor-embed.bundle.min.js\" type=\"application/javascript\"></script>\n",
       "     \n",
       "        <script id=\"json-jm94950955-b40f-4a6d-96e4-e4dbc89fd913\" type=\"application/json\" >\n",
       "            {\"code\": \" \\nprint(w)\", \"trace\": [{\"line\": 2, \"event\": \"step_line\", \"func_name\": \"<module>\", \"globals\": {}, \"ordered_globals\": [], \"stack_to_render\": [], \"heap\": {}, \"stdout\": \"\"}, {\"line\": 2, \"event\": \"exception\", \"func_name\": \"<module>\", \"globals\": {}, \"ordered_globals\": [], \"stack_to_render\": [], \"heap\": {}, \"stdout\": \"\", \"exception_msg\": \"NameError: name 'w' is not defined\"}]}\n",
       "        </script>\n",
       "        <div id=\"jm94950955-b40f-4a6d-96e4-e4dbc89fd913\" class=\"pytutorVisualizer\"> </div>\n",
       " \n",
       "        <style>\n",
       "        .vizLayoutTd {\n",
       "            background-color: #fff !important;\n",
       "        }\n",
       "\n",
       "        #pyStdout {            \n",
       "            min-height:25px;\n",
       "        }\n",
       "\n",
       "        /* 'Edit this code' link, hiding because replaces browser tab !!!*/\n",
       "        #editCodeLinkDiv {\n",
       "            display:none;  \n",
       "        }\n",
       "        </style>   \n",
       "                            \n",
       "        <script>\n",
       "        (function(){\n",
       "\n",
       "            var trace = JSON.parse(document.getElementById('json-jm94950955-b40f-4a6d-96e4-e4dbc89fd913').innerHTML);                                        \n",
       "            // NOTE 1: id without #\n",
       "            // NOTE 2 - maybe there are more predictable ways, but this will work anyway\n",
       "            //        - id should be number\n",
       "            visualizerIdOverride = Math.trunc(Math.random() * 100000000000)\n",
       "            addVisualizerToPage(trace, 'jm94950955-b40f-4a6d-96e4-e4dbc89fd913',{'embeddedMode' : false,\n",
       "                                             'visualizerIdOverride':visualizerIdOverride})  \n",
       "            \n",
       "            \n",
       "            // set overflow for pytuts - need to do in python as css \n",
       "            // does not allow parent selection\n",
       "            var pytuts = $('.pytutorVisualizer')\n",
       "            pytuts.closest('div.output_html.rendered_html.output_result')\n",
       "                    .css('overflow-x', 'visible')\n",
       "        \n",
       "            //pytuts.closest('div.output_html.rendered_html.output_result')\n",
       "            //      .css('background-color','red')                \n",
       "            \n",
       "        })()\n",
       "        </script>\n",
       "                \n",
       "                "
      ],
      "text/plain": [
       "<IPython.core.display.HTML object>"
      ]
     },
     "execution_count": 16,
     "metadata": {},
     "output_type": "execute_result"
    }
   ],
   "source": [
    "print(w)\n",
    "\n",
    "jupman.pytut()"
   ]
  },
  {
   "cell_type": "markdown",
   "metadata": {},
   "source": [
    "Per funzionare in Python Tutor devi mettere TUTTO il codice nella STESSA cella:"
   ]
  },
  {
   "cell_type": "code",
   "execution_count": 17,
   "metadata": {
    "scrolled": true
   },
   "outputs": [
    {
     "name": "stdout",
     "output_type": "stream",
     "text": [
      "3\n"
     ]
    },
    {
     "data": {
      "text/html": [
       "\n",
       "        <script src=\"../_static/js/pytutor-embed.bundle.min.js\" type=\"application/javascript\"></script>\n",
       "     \n",
       "        <script id=\"json-jm189e1f90-ea66-4040-b667-2824b91ba7e9\" type=\"application/json\" >\n",
       "            {\"code\": \" \\nw = 3\\nprint(w)\", \"trace\": [{\"line\": 2, \"event\": \"step_line\", \"func_name\": \"<module>\", \"globals\": {}, \"ordered_globals\": [], \"stack_to_render\": [], \"heap\": {}, \"stdout\": \"\"}, {\"line\": 3, \"event\": \"step_line\", \"func_name\": \"<module>\", \"globals\": {\"w\": 3}, \"ordered_globals\": [\"w\"], \"stack_to_render\": [], \"heap\": {}, \"stdout\": \"\"}, {\"line\": 3, \"event\": \"return\", \"func_name\": \"<module>\", \"globals\": {\"w\": 3}, \"ordered_globals\": [\"w\"], \"stack_to_render\": [], \"heap\": {}, \"stdout\": \"3\\n\"}]}\n",
       "        </script>\n",
       "        <div id=\"jm189e1f90-ea66-4040-b667-2824b91ba7e9\" class=\"pytutorVisualizer\"> </div>\n",
       " \n",
       "        <style>\n",
       "        .vizLayoutTd {\n",
       "            background-color: #fff !important;\n",
       "        }\n",
       "\n",
       "        #pyStdout {            \n",
       "            min-height:25px;\n",
       "        }\n",
       "\n",
       "        /* 'Edit this code' link, hiding because replaces browser tab !!!*/\n",
       "        #editCodeLinkDiv {\n",
       "            display:none;  \n",
       "        }\n",
       "        </style>   \n",
       "                            \n",
       "        <script>\n",
       "        (function(){\n",
       "\n",
       "            var trace = JSON.parse(document.getElementById('json-jm189e1f90-ea66-4040-b667-2824b91ba7e9').innerHTML);                                        \n",
       "            // NOTE 1: id without #\n",
       "            // NOTE 2 - maybe there are more predictable ways, but this will work anyway\n",
       "            //        - id should be number\n",
       "            visualizerIdOverride = Math.trunc(Math.random() * 100000000000)\n",
       "            addVisualizerToPage(trace, 'jm189e1f90-ea66-4040-b667-2824b91ba7e9',{'embeddedMode' : false,\n",
       "                                             'visualizerIdOverride':visualizerIdOverride})  \n",
       "            \n",
       "            \n",
       "            // set overflow for pytuts - need to do in python as css \n",
       "            // does not allow parent selection\n",
       "            var pytuts = $('.pytutorVisualizer')\n",
       "            pytuts.closest('div.output_html.rendered_html.output_result')\n",
       "                    .css('overflow-x', 'visible')\n",
       "        \n",
       "            //pytuts.closest('div.output_html.rendered_html.output_result')\n",
       "            //      .css('background-color','red')                \n",
       "            \n",
       "        })()\n",
       "        </script>\n",
       "                \n",
       "                "
      ],
      "text/plain": [
       "<IPython.core.display.HTML object>"
      ]
     },
     "execution_count": 17,
     "metadata": {},
     "output_type": "execute_result"
    }
   ],
   "source": [
    "w = 3\n",
    "print(w)\n",
    "\n",
    "jupman.pytut()"
   ]
  },
  {
   "cell_type": "markdown",
   "metadata": {},
   "source": [
    "####  Python Tutor : Limitazione 2\n",
    "\n",
    "<div class=\"alert alert-warning\">\n",
    "\n",
    "**ATTENZIONE: Python Tutor usa solo funzioni dalla distribuzione standard di Python**\n",
    "\n",
    "Python Tutor va bene per ispezionare semplici algoritmi con funzioni di base di Python, se usi librerie fatte da terze parti non funzionerà.\n",
    "</div>\n",
    "\n",
    "Se usi qualche libreria tipo `numpy`, puoi provare **solo online** a selezionare `Python 3.6 with Anaconda`:\n",
    "\n",
    "![pytut-5-781302](img/pytut-5.jpg)\n"
   ]
  },
  {
   "cell_type": "markdown",
   "metadata": {},
   "source": [
    "### Esercizio - taverna\n",
    "\n",
    "Date le variabili \n",
    "\n",
    "```python\n",
    "pirati = 10\n",
    "ognuno_vuole = 5      # boccali di grog\n",
    "barili = 4\n",
    "capienza_barile = 20  # boccali di grog\n",
    "```\n",
    "\n",
    "Prova a scrivere qua sotto del codice che stampi questo:\n",
    "\n",
    "```\n",
    "Nella taverna ci sono 10 pirati, ognuno vuole 5 boccali di grog\n",
    "Abbiamo 4 barili di grog pieni\n",
    "Da ogni barile possiamo prendere 20 boccali\n",
    "Stasera i pirati berranno 50 boccali, ne avanzano 30 per domani\n",
    "```\n",
    "\n",
    "- **NON** usare costanti numeriche nel tuo codice, usa invece le variabili proposte\n",
    "- Per tener traccia dei boccali avanzati, crea una variabile apposita `boccali_avanzati`\n",
    "- Se stai usando Jupyter, prova ad usare `jupman.pytut()` alla fine della cella per visualizzare l'esecuzione"
   ]
  },
  {
   "cell_type": "raw",
   "id": "25bcbb5b",
   "metadata": {
    "format": "text/html"
   },
   "source": [
    "<a  class=\"jupman-sol jupman-sol-toggler\" \n",
    " onclick=\"jupman.toggleSolution(this);\" \n",
    " data-jupman-show=\"Mostra soluzione\" data-jupman-hide=\"Nascondi\">Mostra soluzione</a><div class=\"jupman-sol jupman-sol-code\" style=\"display:none\">  "
   ]
  },
  {
   "cell_type": "code",
   "execution_count": 18,
   "metadata": {},
   "outputs": [
    {
     "name": "stdout",
     "output_type": "stream",
     "text": [
      "Nella taverna ci sono 10 pirati, ognuno vuole 5 boccali di grog\n",
      "Abbiamo 4 barili di grog pieni\n",
      "Da ogni barile possiamo prendere 20 boccali\n",
      "Stasera i pirati berranno 50 boccali, ne avanzano 30 per domani\n"
     ]
    }
   ],
   "source": [
    "pirati = 10\n",
    "ognuno_vuole = 5      # boccali di grog\n",
    "barili = 4\n",
    "capienza_barile = 20  # boccali di grog\n",
    "\n",
    "# scrivi qui\n",
    "print(\"Nella taverna ci sono\", pirati, \"pirati, ognuno vuole\", ognuno_vuole, \"boccali di grog\")\n",
    "print(\"Abbiamo\", barili, \"barili di grog pieni\")\n",
    "print(\"Da ogni barile possiamo prendere\", capienza_barile,\"boccali\")\n",
    "boccali_avanzati = barili*capienza_barile - pirati*ognuno_vuole\n",
    "print(\"Stasera i pirati berranno\", pirati * ognuno_vuole, \"boccali, ne avanzano\", boccali_avanzati, \"per domani\")\n",
    "\n",
    "#jupman.pytut()"
   ]
  },
  {
   "cell_type": "raw",
   "id": "61a509e5",
   "metadata": {
    "format": "text/html"
   },
   "source": [
    "</div>"
   ]
  },
  {
   "cell_type": "code",
   "execution_count": 18,
   "metadata": {},
   "outputs": [
    {
     "name": "stdout",
     "output_type": "stream",
     "text": [
      "Nella taverna ci sono 10 pirati, ognuno vuole 5 boccali di grog\n",
      "Abbiamo 4 barili di grog pieni\n",
      "Da ogni barile possiamo prendere 20 boccali\n",
      "Stasera i pirati berranno 50 boccali, ne avanzano 30 per domani\n"
     ]
    }
   ],
   "source": [
    "pirati = 10\n",
    "ognuno_vuole = 5      # boccali di grog\n",
    "barili = 4\n",
    "capienza_barile = 20  # boccali di grog\n",
    "\n",
    "# scrivi qui\n",
    "\n"
   ]
  },
  {
   "cell_type": "markdown",
   "metadata": {},
   "source": [
    "## Architettura di Python\n",
    "\n",
    "La parte che segue non è strettamente fondamentale ai fini del libro, ma serve per capire cosa succede sotto il cofano quando esegui dei comandi.\n",
    "\n",
    "Torniamo a Jupyter: l'editor di notebook Jupyter è uno strumento molto potente e flessibile, permette di eseguire codice Python, ma non solo, anche codice scritto in altri linguaggi di programmazione  (R, Bash, etc)  e linguaggi di formattazione (Markdown, Latex, etc).\n",
    "\n",
    "Quindi dobbiamo tenere presente che il codice Python che scrivi nelle celle di questi notebook Jupyter (che sono file con estensione `.ipynb`) non viene certo magicamente compreso dal tuo computer. Sotto il cofano, vengono effettuate diverse trasformazioni che permettono al processore del tuo computer di capire che istruzioni vuoi che esegua. Riportiamo qua le principali trasformazioni che avvengono, a partire da Jupyter fino al processore:"
   ]
  },
  {
   "cell_type": "markdown",
   "metadata": {},
   "source": [
    "### Python è un linguaggio d'alto livello\n",
    "\n",
    "Cerchiamo di capire bene che succede quando esegui una cella:\n",
    "\n",
    "1. **codice sorgente**: Prima il notebook Jupyter guarda se hai scritto del _codice sorgente_ Python nella cella (invece che altri linguaggi come di programmazione come R, Bash o formattazione come Markdown ...). Di default Jupyter assume che il codice che stai scrivendo è Python. Supponiamo che ci sia il seguente codice:\n",
    "\n",
    "```python\n",
    "x = 3\n",
    "y = 5\n",
    "print(x + y)\n",
    "```\n",
    "\n",
    "**ESERCIZIO**: Senza andare nel dettaglio del codice, prova a copia/incollarlo  nella cella qua sotto. Assicurandoti di avere il cursore nella cella, eseguila digitando `Control + Invio`. Quando la esegui dovrebbe apparire un `8` come risultato del calcolo. Il `# scrivi qui sotto` come tutte le righe che iniziano con un cancelletto `#` è solo un commento che verrà ignorato da Python:"
   ]
  },
  {
   "cell_type": "code",
   "execution_count": 19,
   "metadata": {},
   "outputs": [],
   "source": [
    "# scrivi qui sotto\n",
    "\n"
   ]
  },
  {
   "cell_type": "markdown",
   "metadata": {},
   "source": [
    "Se sei riuscito ad eseguire il codice, puoi fare i complimenti a Python! Ti ha permesso di eseguire un programma scritto in un linguaggio abbastanza comprensibile _indipendentemente_ dal tuo sistema operativo (Windows, Mac Os X, Linux ...) e dal processore del tuo computer (x86, ARM, ...)! Non solo, l'editor di notebook Jupyter ti ha anche fatto la cortesia di mostrare il risultato nel tuo browser. \n"
   ]
  },
  {
   "cell_type": "markdown",
   "metadata": {},
   "source": [
    "\n",
    "Più in dettaglio, cos'è successo ? Vediamo meglio:\n",
    "\n",
    "2. **bytecode**: Al momento della richiesta d'esecuzione, Jupyter ha preso il testo scritto dalla cella, e lo ha mandato al cosidetto _compilatore Python_ che lo ha  trasformato in _bytecode_. Il  _bytecode_  è una sequenza di istruzioni  più lunga e meno comprensibile per noi umani (**è solo un esempio, non serve che lo capisci !!**):\n",
    "\n",
    "``` \n",
    "  2           0 LOAD_CONST               1 (3)\n",
    "              3 STORE_FAST               0 (x)\n",
    "\n",
    "  3           6 LOAD_CONST               2 (5)\n",
    "              9 STORE_FAST               1 (y)\n",
    "\n",
    "  4          12 LOAD_GLOBAL              0 (print)\n",
    "             15 LOAD_FAST                0 (x)\n",
    "             18 LOAD_FAST                1 (y)\n",
    "             21 BINARY_ADD\n",
    "             22 CALL_FUNCTION            1 (1 positional, 0 keyword pair)\n",
    "             25 POP_TOP\n",
    "             26 LOAD_CONST               0 (None)\n",
    "             29 RETURN_VALUE\n",
    "```"
   ]
  },
  {
   "cell_type": "markdown",
   "metadata": {},
   "source": [
    "3. **codice macchina**: L'_interprete Python_ ha preso il _bytecode_ qua sopra una istruzione alla volta, e lo ha convertito in _codice macchina_ che può essere effettivamente compreso dal processore (CPU) del computer. A noi il _codice macchina_ può sembrare ancora più lungo e più brutto del _bytecode_ ma il processore è contento e leggendolo produce i risultati del programma. Esempio di _codice macchina_ (**è solo un esempio, non serve che lo capisci !!**):\n",
    "\n",
    "``` \n",
    "mult:\n",
    "\tpush rbp\n",
    "\tmov rbp, rsp\n",
    "\tmov eax, 0\n",
    "mult_loop:\n",
    "\tcmp edi, 0\n",
    "\tje mult_end\n",
    "\tadd eax, esi\n",
    "\tsub edi, 1\n",
    "\tjmp mult_loop\n",
    "mult_end:\n",
    "\tpop rbp\n",
    "\tret\n",
    "```"
   ]
  },
  {
   "cell_type": "markdown",
   "metadata": {},
   "source": [
    "\n",
    "Riportiamo quanto detto qua sopra in questa tabella. Nella tabella esplicitiamo anche l'estensione dei file in cui possiamo scrivere i vari formati del codice. \n",
    "\n",
    "- Quelle che interessano a noi sono i notebook Jupyter  `.ipynb` ed i file di codice sorgente Python `.py`\n",
    "- I `.pyc` possono venire generati dal compilatore quando legge i file `.py`, ma a noi non interessano - non avremo mai la necessità di editarli\n",
    "- Il codice macchina `asm` pure non ci interessa\n",
    "\n",
    "|   Strumento  | Linguaggio| File | esempio|\n",
    "|-----|-----------|---------|---|\n",
    "| Notebook Jupyter| Python| .ipynb||\n",
    "|    Compilatore Python | codice sorgente Python | .py |`x = 3`<br> `y = 5`<br> `print(x + y )`|\n",
    "|    Interprete Python | bytecode Python |  .pyc| `0 LOAD_CONST  1 (3)`<br>`3  STORE_FAST 0 (x)`|\n",
    "| Processore (CPU)    | Codice macchina| .asm |`cmp edi, 0`<br>`je mult_end`|\n",
    "\n",
    "\n",
    "\n",
    "Adesso che abbiamo un idea di quello che succede, possiamo forse capire meglio l'affermazione che _Python è un linguaggio d'alto livello_, cioè sta alto nella tabella qua sopra: quando scriviamo codice Python, non ci interessa per nulla del _bytecode_ o del _codice macchina_ che viene generato, ma **possiamo concentrarci sulla logica del programma**. \n",
    "Inoltre, il codice Python che scriviamo è **indipendente dall'architettura dei pc**: se abbiamo un interprete Python installato su un computer, si prenderà cura lui di convertire il codice d'alto livello nel codice macchina particolare di quella architettura, che include sistema operativo (Windows / Mac Os X / Linux) e processore (x86, ARM, PowerPC, etc). \n",
    "\n"
   ]
  },
  {
   "cell_type": "markdown",
   "metadata": {},
   "source": [
    "### Performance\n",
    "\n",
    "Tutto ha un prezzo. Se vogliamo poter scrivere programmi concentrandoci sulla _logica ad alto livello_ senza entrare nei dettagli di come viene interpretato dal processore, dobbiamo tipicamente rinunciare alle _performance_. Python, essendo un linguaggio _interpretato_ ha il difetto di essere lento. Ma se abbiamo bisogno di efficienza,  che facciamo ? Per fortuna Python può essere esteso con codice scritto in _linguaggio C_ che tipicamente è molto più performante. Infatti, anche se non te ne accorgerai, tante delle funzionalità di Python sotto sotto sono state scritte direttamente nel veloce linguaggio C. Se proprio abbiamo bisogno di performance (ma non in questo corso!) può valer la pena prima scrivere un prototipo in Python e poi, una volta stabilito che funziona, compilarlo in _linguaggio C_ con [il compilatore Cython](http://cython.org/) e ottimizzare a mano il codice generato. \n",
    "\n"
   ]
  },
  {
   "cell_type": "code",
   "execution_count": null,
   "metadata": {},
   "outputs": [],
   "source": []
  }
 ],
 "metadata": {
  "celltoolbar": "Edit Metadata",
  "kernelspec": {
   "display_name": "Python 3 (ipykernel)",
   "language": "python",
   "name": "python3"
  },
  "language_info": {
   "codemirror_mode": {
    "name": "ipython",
    "version": 3
   },
   "file_extension": ".py",
   "mimetype": "text/x-python",
   "name": "python",
   "nbconvert_exporter": "python",
   "pygments_lexer": "ipython3",
   "version": "3.7.10"
  },
  "toc": {
   "base_numbering": 1,
   "nav_menu": {},
   "number_sections": false,
   "sideBar": true,
   "skip_h1_title": false,
   "title_cell": "Table of Contents",
   "title_sidebar": "Contents",
   "toc_cell": false,
   "toc_position": {
    "height": "calc(100% - 180px)",
    "left": "10px",
    "top": "150px",
    "width": "280.2px"
   },
   "toc_section_display": true,
   "toc_window_display": false
  }
 },
 "nbformat": 4,
 "nbformat_minor": 2
}

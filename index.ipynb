{
 "cells": [
  {
   "cell_type": "raw",
   "id": "df11e16b",
   "metadata": {
    "raw_mimetype": "text/restructuredtext"
   },
   "source": [
    ".. meta::\n",
    "\n",
    "   :description: Libro introduttivo gratutito per imparare a programmare e analizzare dati con Python 3, con numerosi esercizi svolti."
   ]
  },
  {
   "cell_type": "markdown",
   "id": "8d93a0a1",
   "metadata": {
    "collapsed": true
   },
   "source": [
    "# SoftPython\n"
   ]
  },
  {
   "cell_type": "raw",
   "id": "465116b3",
   "metadata": {
    "raw_mimetype": "text/latex"
   },
   "source": [
    "% Latex fixes, DO NOT DELETE THIS !!!!\n",
    "\n",
    "% need to demote chapters to sections because sphinx promotes them *just in the home* :-/\n",
    "% https://tex.stackexchange.com/questions/161259/macro-for-promoting-sections-to-chapters\n",
    "% for alternatives, see https://texfaq.org/FAQ-patch\n",
    "\n",
    "\\let\\truechapter\\chapter\n",
    "\\let\\truesection\\section\n",
    "\\let\\truesubsection\\subsection\n",
    "\\let\\truesubsubsection\\subsubsection\n",
    "\\let\\truethesection\\thesection\n",
    "\n",
    "\\let\\chapter\\truesection\n",
    "\\let\\section\\truesubsection\n",
    "% suspend number printing , according to   https://tex.stackexchange.com/a/80114\n",
    "\\renewcommand\\thesection{}\n",
    "\n",
    "\\truesection{Prefazione}"
   ]
  },
  {
   "cell_type": "markdown",
   "id": "fb19a569",
   "metadata": {},
   "source": [
    "**Libro introduttivo e gratuito per imparare a programmare e analizzare dati con Python 3.** \n",
    "\n",
    "**Ricco di esercizi svolti e strutturati, è adatto sia a principianti che studenti con conoscenze tecnico/scientifiche.**"
   ]
  },
  {
   "cell_type": "raw",
   "id": "423fd5a0",
   "metadata": {
    "raw_mimetype": "text/html"
   },
   "source": [
    "<!-- HTML download links -->\n",
    "<p>\n",
    " DOWNLOAD: &nbsp;&nbsp; <a href=\"https://it.softpython.org/softpython-it.pdf\" target=\"_blank\">PDF</a>\n",
    "           &nbsp;&nbsp; <a href=\"https://it.softpython.org/softpython-it.epub\" target=\"_blank\"> EPUB </a>\n",
    "           &nbsp;&nbsp; <a href=\"https://github.com/DavidLeoni/softpython-it/archive/it.softpython.org.zip\" target=\"_blank\"> HTML </a>\n",
    "           &nbsp;&nbsp; <a href=\"https://github.com/DavidLeoni/softpython-it\" target=\"_blank\"> Github </a>\n",
    "</p>\n",
    " <br/>\n",
    " <br/>"
   ]
  },
  {
   "cell_type": "markdown",
   "id": "52f2c61c",
   "metadata": {},
   "source": [
    "\n",
    "Al giorno d’oggi sempre più decisioni vengono prese in base a dati fattuali e oggettivi. Tutte le discipline, dall’ingegneria alle scienze sociali, necessitano oramai capacità di elaborare dati ed estrarre informazioni utili dall’analisi di fonti eterogenee. Questo sito di esercizi pratici fornisce quindi un’introduzione alla data science usando [Python 3](http://www.python.it/), un linguaggio di programmazione popolare sia nell’industria che nell'ambito della ricerca. "
   ]
  },
  {
   "cell_type": "raw",
   "id": "fab131d7",
   "metadata": {
    "raw_mimetype": "text/html"
   },
   "source": [
    "<a id=\"news\"></a>"
   ]
  },
  {
   "cell_type": "markdown",
   "id": "5080ae1a",
   "metadata": {},
   "source": [
    "## News\n",
    "\n",
    "**11 agosto 2022: varie aggiunte e fix**\n",
    "\n",
    "- Aggiunto sfide: while2: Trivellum, Strutture composte2: Ricerca di mercato, Matrici Numpy2: Kombattimento morale, Visualizzazione2: cure termali\n",
    "- aggiunto esercizio MattoneMatto a Formati 1: File a linee\n",
    "- Basics2 booleani: aggiunto paragrafo su congiungere comparazioni\n",
    "- Risolto qualche bug di visualizzazione in Python Tutor\n",
    "- Altre fix minori\n",
    "\n",
    "**3 aprile 2022: ristrutturato sito**\n",
    "\n",
    "* rimosso rimandi a capitoli successivi, adesso la struttura è molto più lineare\n",
    "* diviso Fondamenti in sezioni [A.1 Tipi di dato](#data-types), [A.2 Controllo di flusso](#control-flow) e [A.3 Algoritmi di base](#basic-algorithms)\n",
    "* spostato esercizi iterazione e funzioni che erano in stringhe, liste etc in [cicli for](#for) e [funzioni](#functions)\n",
    "* diviso metodi stringhe, liste e dizionari in base e di ricerca\n",
    "* creato sezione [Strutture composte](#mixed-structures)\n",
    "* spostato gestione errori e testing in [funzioni](#functions)\n",
    "* ristrutturato progetti challenge, spostato challenge ictdays [in altro sito](https://davidleoni.github.io/ictdays-summercamp) eccetto A prova di hacker e Riparco da trento.\n",
    "\n",
    "[Vecchie news..](changelog.ipynb)"
   ]
  },
  {
   "cell_type": "raw",
   "id": "3e110a6a",
   "metadata": {
    "raw_mimetype": "text/latex"
   },
   "source": [
    "% Latex: fix for book structure\n",
    "\n",
    "\\let\\thesection\\truethesection\n",
    "\\truechapter{Panoramica}"
   ]
  },
  {
   "cell_type": "markdown",
   "id": "a43b7d54",
   "metadata": {},
   "source": [
    "## A chi è rivolto \n",
    "\n",
    "Il materiale in questo sito è rivolto sia a principianti assoluti che a studenti con background più tecnico che desiderino acquisire conoscenze pratiche riguardo l’estrazione, la pulizia, l’analisi e visualizzazione di dati (tra i framework Python usati vi saranno Pandas, Numpy e l’editor Jupyter). Per superare eventuali difficoltà e garantire risultati didattici concreti, le guide presentate sono passo-passo."
   ]
  },
  {
   "cell_type": "markdown",
   "id": "be3d2c05",
   "metadata": {},
   "source": [
    "## Requisiti\n",
    "\n",
    "Qualche conoscenza base di programmazione, in un qualsiasi linguaggio è utile ma non strettamente necessaria. Tutti i materiali proposti sono in lingua italiana."
   ]
  },
  {
   "cell_type": "raw",
   "id": "55f19b28",
   "metadata": {
    "raw_mimetype": "text/html"
   },
   "source": [
    "<a id=\"contents\"></a>"
   ]
  },
  {
   "cell_type": "markdown",
   "id": "73c9083a",
   "metadata": {},
   "source": [
    "## Contenuti\n",
    "\n",
    "* [Come orientarsi](overview.ipynb): Approccio e obbiettivi\n",
    "\n",
    "* [Riferimenti](references.ipynb)"
   ]
  },
  {
   "cell_type": "raw",
   "id": "3ca0df4e",
   "metadata": {
    "raw_mimetype": "text/html"
   },
   "source": [
    "<a id=\"foundations\"></a>"
   ]
  },
  {
   "cell_type": "markdown",
   "id": "8b1ee881",
   "metadata": {},
   "source": [
    "### A - Fondamenti\n",
    "\n",
    "1.  [Installazione](installation.ipynb)\n",
    "1.  [Introduzione veloce a Python](quick-intro/quick-intro-sol.ipynb) (per chi ha già conoscenze di programmazione)\n",
    "1.  [Strumenti e script](tools/tools-sol.ipynb)"
   ]
  },
  {
   "cell_type": "raw",
   "id": "ee22e919",
   "metadata": {
    "raw_mimetype": "text/html"
   },
   "source": [
    "<a id=\"data-types\"></a>\n",
    "<a id=\"basics\"></a>\n",
    "<a id=\"strings\"></a>\n",
    "<a id=\"tuples\"></a>\n",
    "<a id=\"sets\"></a>\n",
    "<a id=\"dictionaries\"></a>"
   ]
  },
  {
   "cell_type": "markdown",
   "id": "855f7661",
   "metadata": {},
   "source": [
    "### A.1 Tipi di dato\n",
    "\n",
    "1.  Basi: [1. variabili e integeri](basics/basics1-ints-sol.ipynb) &nbsp;&nbsp;[2. booleani](basics/basics2-bools-sol.ipynb) &nbsp;&nbsp;[3. numeri reali](basics/basics3-floats-sol.ipynb) &nbsp;&nbsp;[4. challenge](basics/basics4-chal.ipynb)\n",
    "\n",
    "1.  Stringhe: &nbsp;&nbsp;[1. intro](strings/strings1-sol.ipynb) &nbsp;&nbsp;[2. operatori](strings/strings2-sol.ipynb) &nbsp;&nbsp;[3. metodi base](strings/strings3-sol.ipynb) &nbsp;&nbsp;[4. metodi di ricerca](strings/strings4-sol.ipynb)&nbsp;&nbsp; [5. challenge](strings/strings5-chal.ipynb)\n",
    "    \n",
    "1.  Liste: &nbsp;&nbsp;[1. intro](lists/lists1-sol.ipynb) &nbsp;&nbsp;[2. operatori](lists/lists2-sol.ipynb) &nbsp;&nbsp;[3. methodi base](lists/lists3-sol.ipynb) &nbsp;&nbsp;[4. metodi di ricerca](lists/lists4-sol.ipynb) &nbsp;&nbsp;[5. challenge](lists/lists5-chal.ipynb)\n",
    "    \n",
    "1.  Tuple: &nbsp;&nbsp;[1. intro](tuples/tuples1-sol.ipynb) &nbsp;&nbsp;[2. challenge](tuples/tuples2-chal.ipynb)\n",
    "\n",
    "1.  Sets: &nbsp;&nbsp;[1. intro](sets/sets1-sol.ipynb) &nbsp;&nbsp;[2. challenge](sets/sets2-chal.ipynb)\n",
    "\n",
    "1.  Dizionari: &nbsp;&nbsp;[1. intro](dictionaries/dictionaries1-sol.ipynb) &nbsp;&nbsp;[2. operators](dictionaries/dictionaries2-sol.ipynb) &nbsp;&nbsp;[3. methodi](dictionaries/dictionaries3-sol.ipynb) &nbsp;&nbsp;[4. classi speciali](dictionaries/dictionaries4-sol.ipynb) &nbsp;&nbsp;[5. challenge](dictionaries/dictionaries5-chal.ipynb)"
   ]
  },
  {
   "cell_type": "raw",
   "id": "f45d8a5b",
   "metadata": {
    "raw_mimetype": "text/html"
   },
   "source": [
    "<a id=\"control-flow\"></a>\n",
    "<a id=\"if\"></a>\n",
    "<a id=\"for\"></a>\n",
    "<a id=\"while\"></a>\n",
    "<a id=\"sequences\"></a>"
   ]
  },
  {
   "cell_type": "markdown",
   "id": "b641dbed",
   "metadata": {},
   "source": [
    "### A.2 Controllo di flusso\n",
    "\n",
    "1.  Condizionali if: &nbsp;&nbsp;[1.intro](if/if1-sol.ipynb) &nbsp;&nbsp; [2. challenge](if/if2-chal.ipynb)  \n",
    "    \n",
    "1.  Cicli for: &nbsp;&nbsp;[1. intro](for/for1-intro-sol.ipynb) &nbsp;&nbsp;[2. stringhe](for/for2-strings-sol.ipynb) &nbsp;&nbsp;[3. liste](for/for3-lists-sol.ipynb) &nbsp;&nbsp;[4. tuple](for/for4-tuples-sol.ipynb) &nbsp;&nbsp;[5. insiemi](for/for5-sets-sol.ipynb) &nbsp;&nbsp;[6. dizionari](for/for6-dictionaries-sol.ipynb) \n",
    "   \n",
    "   &nbsp;&nbsp;&nbsp;&nbsp;&nbsp;&nbsp;&nbsp;&nbsp;&nbsp;&nbsp;&nbsp;&nbsp;&nbsp;&nbsp;&nbsp;&nbsp;&nbsp;&nbsp;&nbsp;&nbsp;&nbsp;&nbsp;&nbsp;[7. cicli annidati](for/for7-nested-sol.ipynb) &nbsp;&nbsp;[8. challenge](for/for8-chal.ipynb)\n",
    "\n",
    "1. Cicli while &nbsp;&nbsp;[1. intro](while/while1-sol.ipynb) &nbsp;&nbsp;[2. challenge](while/while2-chal.ipynb)\n",
    "1.  Sequenze e comprehension: &nbsp;&nbsp;[1. intro](sequences/sequences1-sol.ipynb) &nbsp;&nbsp;[2. challenges](sequences/sequences2-chal.ipynb)"
   ]
  },
  {
   "cell_type": "raw",
   "id": "1fb7a27a",
   "metadata": {
    "raw_mimetype": "text/html"
   },
   "source": [
    "<a id=\"basic-algorithms\"></a>\n",
    "<a id=\"algorithms\"></a> <!-- legacy -->\n",
    "<a id=\"functions\"></a>\n",
    "<a id=\"matrices-lists\"></a>\n",
    "<a id=\"mixed-structures\"></a>\n",
    "<a id=\"matrices-numpy\"></a>"
   ]
  },
  {
   "cell_type": "markdown",
   "id": "af0c3a18",
   "metadata": {},
   "source": [
    "### A.3 Algoritmi di base\n",
    "\n",
    "\n",
    "1.  Funzioni: &nbsp;&nbsp;[1. intro](functions/fun1-intro-sol.ipynb) &nbsp;&nbsp;[2. gestione errori e testing](functions/fun2-errors-and-testing-sol.ipynb)\n",
    "\n",
    "    &nbsp;&nbsp;&nbsp; &nbsp;&nbsp;&nbsp;&nbsp;&nbsp;&nbsp;&nbsp;&nbsp;&nbsp;&nbsp;&nbsp;&nbsp;&nbsp;&nbsp;&nbsp;[3. stringhe](functions/fun3-strings-sol.ipynb) &nbsp;&nbsp;[4. liste](functions/fun4-lists-sol.ipynb) &nbsp;&nbsp;[5. tuple](functions/fun5-tuples-sol.ipynb) [6. insiemi](functions/fun6-sets-sol.ipynb) &nbsp;&nbsp;[7. dizionari](functions/fun7-dictionaries-sol.ipynb) &nbsp;&nbsp;[8. challenge](functions/fun8-chal.ipynb)\n",
    "    \n",
    "1.  Matrici - liste di liste: &nbsp;&nbsp;[1. intro](matrices-lists/matrices-lists1-sol.ipynb) &nbsp;&nbsp;[2. altri esercizi](matrices-lists/matrices-lists2-sol.ipynb) &nbsp;&nbsp; [3. challenge](matrices-lists/matrices-lists3-chal.ipynb)\n",
    "\n",
    "1.  Strutture miste: &nbsp;&nbsp;[1. intro](mixed-structures/mixed-structures1-sol.ipynb) &nbsp;&nbsp; [2. challenge](mixed-structures/mixed-structures2-chal.ipynb)\n",
    "\n",
    "1.  Matrici - numpy: &nbsp;&nbsp;[1. intro](matrices-numpy/matrices-numpy1-sol.ipynb) &nbsp;&nbsp;[2. esercizi](matrices-numpy/matrices-numpy2-sol.ipynb) &nbsp;&nbsp; [3. challenge](matrices-numpy/matrices-numpy3-chal.ipynb) \n"
   ]
  },
  {
   "cell_type": "raw",
   "id": "bc81c3e5",
   "metadata": {
    "raw_mimetype": "text/html"
   },
   "source": [
    "<a id=\"data-analysis\"></a>\n",
    "<a id=\"formats\"></a>\n",
    "<a id=\"visualization\"></a>\n",
    "<a id=\"pandas\"></a>\n",
    "<a id=\"binary-relations\"></a>\n",
    "<a id=\"relational-data\"></a>"
   ]
  },
  {
   "cell_type": "markdown",
   "id": "9d56860e",
   "metadata": {},
   "source": [
    "### B - Analisi dati\n",
    "\n",
    "1.  Formati dei dati: &nbsp;&nbsp;[1. file a linee](formats/formats1-lines-sol.ipynb) &nbsp;&nbsp;[2. file CSV](formats/formats2-csv-sol.ipynb) &nbsp;&nbsp;[3. file JSON](formats/formats3-json-sol.ipynb) \n",
    "\n",
    "    &nbsp;&nbsp;&nbsp;&nbsp;&nbsp;&nbsp;&nbsp;&nbsp;&nbsp;&nbsp;&nbsp;&nbsp;&nbsp;&nbsp;&nbsp;&nbsp;&nbsp;&nbsp;&nbsp;&nbsp;&nbsp;&nbsp;&nbsp;&nbsp;&nbsp;&nbsp;&nbsp;&nbsp;&nbsp;&nbsp;[4. challenge: personaggi storici del Trentino](formats/formats4-chal.ipynb)\n",
    "    \n",
    "1.  Visualizzazione dati: [intro](visualization/visualization1-sol.ipynb) (grafici in Matplotlib, SVG, UMap) &nbsp;&nbsp; [challenge](visualization/visualization2-chal.ipynb) <!--&nbsp;&nbsp; [immagini](visualization/visualization-images-sol.ipynb) -->\n",
    "1.  Analitiche con libreria Pandas:  [1. intro](pandas/pandas1-sol.ipynb) (filtraggio e statistiche) &nbsp;&nbsp; [2. esercizi](pandas/pandas2-sol.ipynb) &nbsp;&nbsp; [challenge](pandas/pandas3-chal.ipynb)    \n",
    "1. [Ricerca](search/regex-sol.ipynb) espressioni regolari in dati testuali, es. fermate autobus trentino\n",
    "1. [Integrazione dati](integration/integration-sol.ipynb): scaricamento di un dataset opendata (agritur del Trentino), georeferenziazione punti di interesse su OpenStreetMap\n",
    "1. [Estrazione Dati](extraction/extraction-sol.ipynb): recupero testo rilevante da pagina HTML con BeautifulSoup, es. eventi del Trentino\n",
    "1. [Information retrieval](information-retrieval/information-retrieval-sol.ipynb): Ricerca per rilevanza, per similarità"
   ]
  },
  {
   "cell_type": "raw",
   "id": "e6d49d28",
   "metadata": {},
   "source": [
    "<a id=\"applications\"></a>"
   ]
  },
  {
   "cell_type": "markdown",
   "id": "a0c493aa",
   "metadata": {},
   "source": [
    "### C - Applicazioni \n",
    " \n",
    "1. Interfacce utente:\n",
    "    1. [intro](gui/gui-sol.ipynb): Creazione di interfacce per analisi interattiva di dati con Jupyter Widgets, discussione alternative (QT, wxWidget)\n",
    "    2. [mappe interattive](gui/gui-maps-sol.ipynb)\n",
    "    3. [esempio webapp](gui/my-webapp.ipynb)\n",
    "2. [Integrazione con database](database/database-sol.ipynb): Estrazione di dati da un database SQLite con Pandas, esecuzione di semplici ricerche SQL   \n",
    "3. [Web development](web/web-sol.ipynb): Cenni sviluppo di un semplice server web"
   ]
  },
  {
   "cell_type": "raw",
   "id": "02508943",
   "metadata": {
    "raw_mimetype": "text/html"
   },
   "source": [
    "<a id=\"projects\"></a>"
   ]
  },
  {
   "cell_type": "markdown",
   "id": "28fd6dff",
   "metadata": {},
   "source": [
    "### D - Progetti "
   ]
  },
  {
   "cell_type": "raw",
   "id": "0c1be811",
   "metadata": {
    "raw_mimetype": "text/html"
   },
   "source": [
    "<a id=\"worked-projects\"></a>"
   ]
  },
  {
   "cell_type": "markdown",
   "id": "5218ab68",
   "metadata": {},
   "source": [
    "#### D.1 Progetti svolti\n",
    "\n",
    "Progetti con esercizi e soluzioni che richiedano qualche preprocessamento dati base, semplici analisi e display di grafici finale. \n",
    "\n",
    "<!--\n",
    "Dato che lo scopo del libro è introdurre al pensiero computazionale, abbiamo preferito seguire l'approccio 'no magic' usando strutture dati e moduli base di Python invece che librerie più avanzate come numpy o pandas, anche quando potrebberlo drammaticamente facilitare il compito e migliorare le performance.\n",
    "-->\n",
    "\n",
    "- [Alberi monumentali della Campania](projects/alberi-campania/alberi-campania-sol.ipynb)\n",
    "\n",
    "Molti altri progetti svolti possono essere trovati alla [versione in inglese di softpython](https://en.softpython.org/#worked-projects)"
   ]
  },
  {
   "cell_type": "raw",
   "id": "44369966",
   "metadata": {
    "raw_mimetype": "text/html"
   },
   "source": [
    "<a id=\"make-your-own-project\"></a>"
   ]
  },
  {
   "cell_type": "markdown",
   "id": "4eb61b11",
   "metadata": {},
   "source": [
    "#### D.2 Realizza il tuo progetto\n",
    "\n",
    "1. [Come fare un progetto](project-howto.ipynb): ambienti virtuali, installazione librerie\n",
    "1. [Scrivere testo in Markdown / Jupyter](project/markdown.ipynb)\n",
    "1. [Template progetto](project/project.ipynb)"
   ]
  },
  {
   "cell_type": "raw",
   "id": "059f3621",
   "metadata": {
    "raw_mimetype": "text/html"
   },
   "source": [
    "<a id=\"project-challenges\"></a>"
   ]
  },
  {
   "cell_type": "markdown",
   "id": "bd75d26f",
   "metadata": {},
   "source": [
    "#### D.3 Idee per progetti\n",
    "\n",
    "Imparare Python può essere molto più interessante se si ha in mente un qualche esempio di analisi da replicare, anche se in misura semplificata."
   ]
  },
  {
   "cell_type": "markdown",
   "id": "e8936038",
   "metadata": {
    "raw_mimetype": "text/restructuredtext"
   },
   "source": [
    "- [Kaggle challenge](projects-chal/kaggle/kaggle-chal.ipynb): dataset per tutti i gusti\n",
    "- [A prova di hacker](projects-chal/hacker-proof/hacker-proof-chal.ipynb): analisi vulnerabilità siti\n",
    "- [Pantheon](projects-chal/pantheon/pantheon-chal.ipynb): personaggi culturalmente importanti\n",
    "- [Quotazioni di borsa](projects-chal/stock-prices/stock-prices-chal.ipynb)\n",
    "- [Quotazioni di cripto valute](projects-chal/crypto-prices/crypto-prices-chal.ipynb)\n",
    "- [Gapminder](projects-chal/gapminder/gapminder-chal.ipynb): analisi socio economiche\n",
    "- [OpenParlamento](projects-chal/parliamentary-activities/parliamentary-activities-chal.ipynb): che fanno i nostri politici?\n",
    "- [Filosofi influenti](projects-chal/influential-philosophers/influential-philosophers-chal.ipynb): chi ha ispirato chi?\n",
    "- [OEIS](projects-chal/oeis-sequences/oeis-sequences-chal.ipynb): Dataset sequenze di numeri interi, per matematici\n",
    "- [RiParco dalla città](projects-chal/city-parks/city-parks-chal.ipynb): mappe e foto dei parchi della vostra città\n",
    "- [Astro Tracker](projects-chal/astro-tracker/astro-tracker-chal.ipynb): tracciamo i corpi celesti!\n",
    "- [Catena di distribuzione](projects-chal/supply-chain/supply-chain-chal.ipynb): assicuriamoci che i pacchi arrivino per Natale"
   ]
  },
  {
   "cell_type": "raw",
   "id": "1cc39c79",
   "metadata": {
    "raw_mimetype": "text/html"
   },
   "source": [
    "<a id=\"appendix\"></a>"
   ]
  },
  {
   "cell_type": "markdown",
   "id": "194cb457",
   "metadata": {},
   "source": [
    "### E - Appendice\n",
    "\n",
    "* [Comandamenti](commandments.ipynb)\n",
    "* [Riferimenti](references.ipynb)\n",
    "* [Revisioni](changelog.ipynb)"
   ]
  },
  {
   "cell_type": "raw",
   "id": "2e67a127",
   "metadata": {
    "raw_mimetype": "text/html"
   },
   "source": [
    "<a id=\"authors\"></a>"
   ]
  },
  {
   "cell_type": "markdown",
   "id": "893226ff",
   "metadata": {},
   "source": [
    "## Autore\n",
    " \n",
    "**David Leoni** (autore principale): Software engineer specializzato in data integration e web semantico, ha realizzato applicazioni in ambito open data e medico in Italia e all'estero. Dal 2019 è presidente dell'associazione CoderDolomiti, con cui insieme a Marco Caresia gestisce il movimento di volontariato CoderDojo Trento dove da anni insegnano programmazione creativa ai ragazzi. <br/>\n",
    "Email: [david.leoni@unitn.it](mailto:david.leoni@unitn.it) &ensp; Sito: [davidleoni.it](https://davidleoni.it)"
   ]
  },
  {
   "cell_type": "markdown",
   "id": "a3776b92",
   "metadata": {},
   "source": [
    "### Contributors\n",
    "\n",
    "**Marco Caresia** (assistente Edizione Autunno 2017 @DISI Università di Trento): E' stato docente di informatica presso la Scuola Professionale Einaudi di Bolzano. E' presidente della delegazione Trentino Alto Adige Südtirol dell’Associazione Italiana Formatori e vicepresidente dell'associazione CoderDolomiti.\n",
    "\n",
    "**Alessio Zamboni** (assistente Edizione Marzo 2018 @Sociologia Università di Trento): Data scientist e software engineer con esperienza in NLP, GIS e gestione del knowledge. Ha collaborato in numerosi progetti di ricerca, collezionando esperienze in Europa e in Asia. Sostiene con convinzione che _\"la programmazione è una forma d'arte\"_ \n",
    "\n",
    "**Luca Bosotti** (assistente edizione Summerschool Data Science 2020 e seminari 2021 @Sociologia, Università di Trento): Developer, scientist e professore. Crede che il mondo stia diventando sempre più complicato e interessante. Perciò quello che dobbiamo fare è studiarlo e per farlo ci tocca sfruttare tutte le potenzialità ed il ragionamento possibile. Ha insegnato a giovani di tutte le età, dalle scuole elementari al livello universitario ed è sempre rimasto colpito da quanto siano differenti le persone che si approcciano alla programmazione.\n",
    "\n",
    "**Massimiliano Luca** (docente Edizione Estate 2019 @Sociologia Università di Trento): Adora imparare nuove tecnologie ogni giorno. Particolarmente interessato in knowledge representation, data integration, data modeling e computational social science. Crede fermamente che sia vitale introdurre i giovani alla computer science, a tal fine è mentor al Coder Dojo DISI Master.\n",
    "\n",
    "Ringraziamo inoltre gli studenti Ludovico Maria Valenti e Ioana Doleanu per i miglioramenti alla pagina numpy e Stefano Moro per le numerose segnalazioni."
   ]
  },
  {
   "cell_type": "raw",
   "id": "b8577761",
   "metadata": {
    "raw_mimetype": "text/html"
   },
   "source": [
    "<a id=\"license\"></a>"
   ]
  },
  {
   "cell_type": "markdown",
   "id": "3cda8a1a",
   "metadata": {},
   "source": [
    "## Licenza\n",
    "\n",
    "Questo sito è stato realizzato con stanziamenti dei dipartimenti di [Ingegneria e Scienze dell’Informazione (DISI)](https://www.disi.unitn.it), Sociologia e Matematica dell'Università di Trento.\n",
    "\n",
    "![unitn-843724](_static/img/third-parties/disi-unitn-it-logo.jpeg)\n",
    "\n",
    "\n",
    "![cc-by-7172829](_static/img/cc-by.png)\n",
    "\n",
    "\n",
    "\n",
    "Salvo diverse indicazioni, il materiale in questo sito è originale e distribuito con licenza CC-BY 4.0 Internazionale [https://creativecommons.org/licenses/by/4.0/deed.it](https://creativecommons.org/licenses/by/4.0/deed.it). Si può quindi liberamente ridistribuire e modificare il contenuto, basta citare l'Università di Trento / DISI e [gli autori](index.ipynb#authors) \n",
    "\n",
    "\n",
    "I dataset nelli sezioni [Analisi dati](#data-analysis) e [Progetti](#projects) possono avere delle restrizioni, le fonti sono citate nelle pagine dove sono usate. Altre risorse di terze parti sono citate nel file [third-party-licences.txt](third-party-licences.txt).\n",
    "\n",
    "\n",
    "Note tecniche: tutte le pagine del sito sono fogli Jupyter facilmente modificabili - sono stati convertiti in pagine web tramite [NBSphinx](https://nbsphinx.readthedocs.io) usando il template [Jupman](https://jupman.softpython.org). I sorgenti del testo si trovano su Github all'indirizzo [https://github.com/DavidLeoni/softpython-it](https://github.com/DavidLeoni/softpython-it)\n",
    "\n",
    "Se vi piace il contenuto del libro e volete contribuire esercizi / tutorial, vedere la pagina [CONTRIBUTING](CONTRIBUTING.md)"
   ]
  },
  {
   "cell_type": "raw",
   "id": "f014788f",
   "metadata": {
    "raw_mimetype": "text/html"
   },
   "source": [
    "<a id=\"acknowledgments\"></a>"
   ]
  },
  {
   "cell_type": "markdown",
   "id": "42e5065a",
   "metadata": {},
   "source": [
    "\n",
    "## Ringraziamenti\n",
    "\n",
    "Ringraziamo in particolare il professor Alberto Montresor del Dipartimento di Informatica dell'Università di Trento per aver consentito la realizzazione dei corsi dai quali nasce questo materiale, e il progetto Trentino Open Data ([dati.trentino.it](https://dati.trentino.it)) per i numerosi dataset forniti. \n",
    "\n",
    "![dati-trentino-9327234823487](_static/img/third-parties/dati-trentino-small.png)\n",
    "\n",
    "Gli altri numerosi enti ed aziende che nel tempo hanno contribuito materiale ed idee sono citati [in questa pagina](thanks.ipynb)"
   ]
  },
  {
   "cell_type": "raw",
   "id": "707457c5",
   "metadata": {
    "raw_mimetype": "text/latex"
   },
   "source": [
    "% Latex: Restores all the previous substitutions \n",
    "% DO NOT DELETE THIS !!!!\n",
    " \n",
    "\\let\\chapter\\truechapter\n",
    "\\let\\section\\truesection\n",
    "\\let\\subsection\\truesubsection\n",
    "\\let\\subsubsection\\truesubsubsection"
   ]
  }
 ],
 "metadata": {
  "celltoolbar": "Raw Cell Format",
  "kernelspec": {
   "display_name": "Python 3 (ipykernel)",
   "language": "python",
   "name": "python3"
  },
  "language_info": {
   "codemirror_mode": {
    "name": "ipython",
    "version": 3
   },
   "file_extension": ".py",
   "mimetype": "text/x-python",
   "name": "python",
   "nbconvert_exporter": "python",
   "pygments_lexer": "ipython3",
   "version": "3.7.14"
  },
  "toc": {
   "base_numbering": 1,
   "nav_menu": {},
   "number_sections": false,
   "sideBar": true,
   "skip_h1_title": false,
   "title_cell": "Table of Contents",
   "title_sidebar": "Contents",
   "toc_cell": false,
   "toc_position": {
    "height": "calc(100% - 180px)",
    "left": "10px",
    "top": "150px",
    "width": "249.067px"
   },
   "toc_section_display": true,
   "toc_window_display": true
  }
 },
 "nbformat": 4,
 "nbformat_minor": 5
}

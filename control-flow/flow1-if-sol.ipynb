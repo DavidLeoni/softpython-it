{
 "cells": [
  {
   "cell_type": "code",
   "execution_count": 1,
   "metadata": {
    "nbsphinx": "hidden"
   },
   "outputs": [],
   "source": [
    "# Ricordati di eseguire questa cella con Shift+Invio\n",
    "\n",
    "import jupman"
   ]
  },
  {
   "cell_type": "markdown",
   "metadata": {},
   "source": [
    "# Condizionali - if else\n",
    "\n",
    "## [Scarica zip esercizi](../_static/generated/control-flow.zip)\n",
    "\n",
    "[Naviga file online](https://github.com/DavidLeoni/softpython-it/tree/master/control-flow)\n",
    "\n",
    "Possiamo usare il comando condizionale `if` ogni volta che il computer deve prendere una decisione in base al valore di qualche condizione. Se la condizione viene valutata come vera (cioè come il booleano `True`) allora verrà eseguito un blocco di codice, altrimenti ne verrà eseguito un altro."
   ]
  },
  {
   "cell_type": "markdown",
   "metadata": {},
   "source": [
    "**Riferimenti**: \n",
    "\n",
    "* [SoftPython - Basi - booleani](https://it.softpython.org/basics/basics-sol.html#Booleani)\n",
    "\n",
    "### Che fare\n",
    "\n",
    "- scompatta lo zip in una cartella, dovresti ottenere qualcosa del genere: \n",
    "\n",
    "```\n",
    "\n",
    "control-flow\n",
    "    flow1-if.ipynb\n",
    "    flow1-if-sol.ipynb\n",
    "    flow2-for.ipynb\n",
    "    flow2-for-sol.ipynb\n",
    "    flow3-while.ipynb\n",
    "    flow3-while-sol.ipynb    \n",
    "    jupman.py    \n",
    "```\n",
    "\n",
    "<div class=\"alert alert-warning\">\n",
    "\n",
    "**ATTENZIONE**: Per essere visualizzato correttamente, il file del notebook DEVE essere nella cartella szippata.\n",
    "</div>\n",
    "\n",
    "- apri il Jupyter Notebook da quella cartella. Due cose dovrebbero aprirsi, prima una console e poi un browser. Il browser dovrebbe mostrare una lista di file: naviga la lista e apri il notebook `flow1-if.ipynb`\n",
    "- Prosegui leggendo il file degli esercizi, ogni tanto al suo interno troverai delle scritte **ESERCIZIO**, che ti chiederanno di scrivere dei comandi Python nelle celle successive. Gli esercizi sono graduati per difficoltà, da una stellina ✪ a quattro ✪✪✪✪\n",
    "\n",
    "\n",
    "Scorciatoie da tastiera:\n",
    "\n",
    "* Per eseguire il codice Python dentro una cella di Jupyter, premi `Control+Invio`\n",
    "* Per eseguire il codice Python dentro una cella di Jupyter E selezionare la cella seguente, premi `Shift+Invio`\n",
    "* Per eseguire il codice Python dentro una cella di Jupyter E creare una nuova cella subito dopo, premi `Alt+Invio`\n",
    "* Se per caso il Notebook sembra inchiodato, prova a selezionare `Kernel -> Restart`\n",
    "\n"
   ]
  },
  {
   "cell_type": "markdown",
   "metadata": {},
   "source": [
    "\n",
    "## Il comando base `if else`\n",
    "\n",
    "Vediamo un programmino che prende decisioni diverse in base al valore di una variabile `caramelle`:"
   ]
  },
  {
   "cell_type": "code",
   "execution_count": 2,
   "metadata": {},
   "outputs": [
    {
     "name": "stdout",
     "output_type": "stream",
     "text": [
      "Abbiamo trovato...\n",
      "Tante caramelle!\n",
      "\n",
      "Cerchiamo altri dolci!\n"
     ]
    }
   ],
   "source": [
    "caramelle = 20\n",
    "\n",
    "if caramelle > 10 :  \n",
    "    print('Abbiamo trovato...')\n",
    "    print('Tante caramelle!')    \n",
    "else:\n",
    "    print(\"Purtroppo ci sono.. \")\n",
    "    print('Poche caramelle!')\n",
    "    \n",
    "print()\n",
    "print('Cerchiamo altri dolci!')"
   ]
  },
  {
   "cell_type": "markdown",
   "metadata": {},
   "source": [
    "La condizione qui è `caramelle > 10`  "
   ]
  },
  {
   "cell_type": "code",
   "execution_count": 3,
   "metadata": {},
   "outputs": [
    {
     "data": {
      "text/plain": [
       "True"
      ]
     },
     "execution_count": 3,
     "metadata": {},
     "output_type": "execute_result"
    }
   ],
   "source": [
    "caramelle > 10"
   ]
  },
  {
   "cell_type": "markdown",
   "metadata": {},
   "source": [
    "<div class=\"alert alert-warning\">\n",
    "\n",
    "**ATTENZIONE: Subito dopo la condizione vanno messi due punti** `:`\n",
    "\n",
    "```python\n",
    "if caramelle > 10:\n",
    "```\n",
    "</div>"
   ]
  },
  {
   "cell_type": "markdown",
   "metadata": {},
   "source": [
    "Dato che nell'esempio sopra `caramelle` vale `20`, la condizione è valutata a `True` e viene quindi eseguito il blocco di codice subito dopo la riga con l'`if`.\n",
    "\n",
    "Proviamo invece a mettere un numero piccolo, come `caramelle = 5`:"
   ]
  },
  {
   "cell_type": "code",
   "execution_count": 4,
   "metadata": {},
   "outputs": [
    {
     "name": "stdout",
     "output_type": "stream",
     "text": [
      "Purtroppo ci sono.. \n",
      "Poche caramelle!\n",
      "\n",
      "Cerchiamo altri dolci!\n"
     ]
    }
   ],
   "source": [
    "caramelle = 5\n",
    "\n",
    "if caramelle > 10 :    \n",
    "    print('Abbiamo trovato...')\n",
    "    print('Tante caramelle!')    \n",
    "else:\n",
    "    print(\"Purtroppo ci sono.. \")\n",
    "    print('Poche caramelle!')\n",
    "    \n",
    "print()\n",
    "print('Cerchiamo altri dolci!')"
   ]
  },
  {
   "cell_type": "markdown",
   "metadata": {},
   "source": [
    "In questo caso è stato eseguito il blocco di codice dopo la riga con `else:`"
   ]
  },
  {
   "cell_type": "markdown",
   "metadata": {},
   "source": [
    "<div class=\"alert alert-warning\">\n",
    "    \n",
    "**ATTENZIONE all'indentazione nei blocchi !**\n",
    "\n",
    "Come tutti i blocchi di codice in Python, sono preceduti da spazi. Di solito si usano 4 spazi (in qualche progetto Python puoi trovarne solo 2, ma è sconsigliato dalle linee guida di Python)\n",
    "</div>"
   ]
  },
  {
   "cell_type": "markdown",
   "metadata": {},
   "source": [
    "## `else` è opzionale\n",
    "\n",
    "Non è obbligatorio indicare l'`else`. Se lo omettiamo e la condizione risulta `False`, il controllo passa direttamente ai comandi allo stesso livello di indentazione dell'`if` (senza errori):"
   ]
  },
  {
   "cell_type": "code",
   "execution_count": 5,
   "metadata": {},
   "outputs": [
    {
     "name": "stdout",
     "output_type": "stream",
     "text": [
      "\n",
      "Cerchiamo altri dolci!\n"
     ]
    }
   ],
   "source": [
    "caramelle = 5\n",
    "\n",
    "if caramelle > 10 :  \n",
    "    print('Abbiamo trovato...')\n",
    "    print('Tante caramelle!')    \n",
    "\n",
    "print()\n",
    "print('Cerchiamo altri dolci!')"
   ]
  },
  {
   "cell_type": "markdown",
   "metadata": {},
   "source": [
    "**DOMANDA**: Guarda i seguenti frammenti di codice, e per ciascuno cerca di indovinare quale risultato produce (o se da errore):\n",
    "\n",
    "1.  ```python\n",
    "    x = 3\n",
    "    if x > 2  and if x < 4:\n",
    "        print('ABBA')\n",
    "    ```\n",
    "1.  ```python\n",
    "    x = 3\n",
    "    if x > 2 and x < 4\n",
    "        print('ABBA')\n",
    "    ```\n",
    "1.  ```python\n",
    "    x = 3\n",
    "    if x > 2 and x < 4:\n",
    "        print('ABBA')\n",
    "    ```\n",
    "1.  ```python\n",
    "    x = 2\n",
    "    if x > 1:\n",
    "        print(x+1, x):\n",
    "    ```\n",
    "1.  ```python\n",
    "    x = 3\n",
    "    if x > 5 or x:\n",
    "        print('ACDC')\n",
    "    ```\n",
    "1.  ```python\n",
    "    x = 7\n",
    "    if x == 7:\n",
    "    print('GLAM')\n",
    "    ```\n",
    "1.  ```python\n",
    "    x = 7\n",
    "    if x < 1:\n",
    "        print('BIM')\n",
    "    else:\n",
    "        print('BUM')\n",
    "    print('BAM')\n",
    "    ```\n",
    "1.  ```python\n",
    "    x = 30\n",
    "    if x > 8:\n",
    "        print('DOH')\n",
    "    if x > 10:\n",
    "        print('DUFF')\n",
    "    if x > 20:\n",
    "        print('BURP')\n",
    "    ``` \n",
    "1.  ```python\n",
    "    if not True:\n",
    "        print('sottosopra')\n",
    "    else:\n",
    "        print('soprasotto')\n",
    "    ```\n",
    "1.  ```python\n",
    "    if False:\n",
    "    else:\n",
    "        print('ZORB')\n",
    "    ```\n",
    "1.  ```python\n",
    "    if False:\n",
    "        pass\n",
    "    else:\n",
    "        print('ZORB')\n",
    "    ```\n",
    "1.  ```python\n",
    "    if 0:\n",
    "        print('Brandy')\n",
    "    else:\n",
    "        print('Rum')\n",
    "    ```\n",
    "1.  ```python\n",
    "    if False:\n",
    "        print('illustrissimo')\n",
    "    else:\n",
    "        print('esimio')\n",
    "    else:\n",
    "        print('dottore')\n",
    "    ```\n",
    "1.  ```python    \n",
    "    if 2 != 2:\n",
    "        'ATTENTO'\n",
    "    else:\n",
    "        'STOLTO'\n",
    "    ```\n",
    "1.  ```python\n",
    "    if 2 != 2:\n",
    "        print('ATTENTO')\n",
    "    else:\n",
    "        print('STOLTO')\n",
    "    ```    \n",
    "1.  ```python\n",
    "    x = [1,2,3]\n",
    "    if 4 in x:\n",
    "        x.append(4)\n",
    "    else:\n",
    "        x.remove(3)\n",
    "    print(x)\n",
    "    ```    \n",
    "1.  ```python\n",
    "    if 'False':   \n",
    "        print('OCCHIO ALLA STRINGA')\n",
    "    else:\n",
    "        print('CRUDELE')\n",
    "    ```\n"
   ]
  },
  {
   "cell_type": "markdown",
   "metadata": {},
   "source": [
    "## Esercizio - senza benza\n",
    "\n",
    "Si vuole fare un viaggio in auto e servono almeno `30` litri. Scrivi del codice che:\n",
    "\n",
    "* se la variabile `benzina` è inferiore a `30`,  stampa `'Senza benza, faccio il pieno'` e  incrementa `benzina` di `20` litri\n",
    "* Altrimenti, stampa `Ho abbastanza carburante!`\n",
    "* In ogni caso, alla fine stampa `'Si parte con '` seguito dall dalla quantità di benzina finale. "
   ]
  },
  {
   "cell_type": "raw",
   "id": "c59f6a90",
   "metadata": {
    "format": "text/html"
   },
   "source": [
    "<a  class=\"jupman-sol jupman-sol-toggler\" \n",
    " onclick=\"jupman.toggleSolution(this);\" \n",
    " data-jupman-show=\"Mostra soluzione\" data-jupman-hide=\"Nascondi\">Mostra soluzione</a><div class=\"jupman-sol jupman-sol-code\" style=\"display:none\">  "
   ]
  },
  {
   "cell_type": "code",
   "execution_count": 6,
   "metadata": {},
   "outputs": [
    {
     "name": "stdout",
     "output_type": "stream",
     "text": [
      "Senza benza, faccio il pieno\n",
      "Si parte con 25 litri\n"
     ]
    }
   ],
   "source": [
    "benzina = 5\n",
    "#benzina = 30\n",
    "\n",
    "# scrivi qui\n",
    "\n",
    "if benzina < 30:\n",
    "    print('Senza benza, faccio il pieno')\n",
    "    benzina += 20\n",
    "else:\n",
    "    print('Ho abbastanza carburante')\n",
    "    \n",
    "print('Si parte con', benzina, 'litri')"
   ]
  },
  {
   "cell_type": "raw",
   "id": "731d4af0",
   "metadata": {
    "format": "text/html"
   },
   "source": [
    "</div>"
   ]
  },
  {
   "cell_type": "code",
   "execution_count": 6,
   "metadata": {},
   "outputs": [
    {
     "name": "stdout",
     "output_type": "stream",
     "text": [
      "Senza benza, faccio il pieno\n",
      "Si parte con 25 litri\n"
     ]
    }
   ],
   "source": [
    "benzina = 5\n",
    "#benzina = 30\n",
    "\n",
    "# scrivi qui\n",
    "\n"
   ]
  },
  {
   "cell_type": "markdown",
   "metadata": {},
   "source": [
    "## Il comando *if - elif - else*\n",
    "\n",
    "Esaminando il programmino delle caramelle di prima ti sarai forse chiesto cosa stampare quando non ci sono proprio caramelle. Per farlo, potremmo usare più _condizioni in cascata_ con il comando `elif` (abbreviazione di _else if_):"
   ]
  },
  {
   "cell_type": "code",
   "execution_count": 7,
   "metadata": {},
   "outputs": [
    {
     "name": "stdout",
     "output_type": "stream",
     "text": [
      "Che sfortuna! \n",
      "Non ci sono caramelle!\n",
      "\n",
      "Cerchiamo altri dolci!\n"
     ]
    }
   ],
   "source": [
    "caramelle = 0  # METTIAMO ZERO\n",
    "\n",
    "if caramelle > 10:\n",
    "    print('Abbiamo trovato...')\n",
    "    print('Tante caramelle!')\n",
    "elif caramelle > 0:\n",
    "    print(\"Purtroppo ci sono.. \")\n",
    "    print('Poche caramelle!')    \n",
    "else:\n",
    "    print(\"Che sfortuna! \")\n",
    "    print('Non ci sono caramelle!')    \n",
    "\n",
    "print()\n",
    "print('Cerchiamo altri dolci!')"
   ]
  },
  {
   "cell_type": "markdown",
   "metadata": {},
   "source": [
    "**ESERCIZIO**: Prova a cambiare i valori di `caramelle` nella cella qua sopra e guarda cosa succede"
   ]
  },
  {
   "cell_type": "markdown",
   "metadata": {},
   "source": [
    "Il programmino si comporta esattamente come i precedenti e quando nessuna condizione è soddisfatta viene eseguito l'ultimo blocco di codice dopo l'`else:`\n",
    "\n",
    "Possiamo aggiungere quanti `elif` vogliamo, quindi potremmo essere ancora più specifici e mettere un `elif x == 0:` e nell'`else` gestire tutti gli altri casi, anche quelli imprevisti o assurdi come per esempio un numero di caramelle negativo. Perchè mai dovremmo farlo? Gli imprevisti possono sempre succedere, ne avrai trovati in giro di programmi _buggati_ ... (vedremo meglio come gestire queste situazioni nel tutorial [Gestione errori e testing](https://it.softpython.org/errors-and-testing/errors-and-testing-sol.html))"
   ]
  },
  {
   "cell_type": "code",
   "execution_count": 8,
   "metadata": {},
   "outputs": [
    {
     "name": "stdout",
     "output_type": "stream",
     "text": [
      "Qualcosa è andato MOLTO storto! Abbiamo trovato -2 caramelle\n",
      "\n",
      "Cerchiamo altri dolci!\n"
     ]
    }
   ],
   "source": [
    "caramelle = -2   # PROVIAMO UN NUMERO NEGATIVO\n",
    "\n",
    "if caramelle > 10:\n",
    "    print('Abbiamo trovato...')\n",
    "    print('Tante caramelle!')\n",
    "elif caramelle > 0:\n",
    "    print(\"Purtroppo ci sono.. \")\n",
    "    print('Poche caramelle!')    \n",
    "elif caramelle == 0:\n",
    "    print(\"Che sfortuna! \")\n",
    "    print('Non ci sono caramelle!') \n",
    "else:\n",
    "    print('Qualcosa è andato MOLTO storto! Abbiamo trovato', caramelle, 'caramelle')\n",
    "    \n",
    "print()\n",
    "print('Cerchiamo altri dolci!')    "
   ]
  },
  {
   "cell_type": "markdown",
   "metadata": {},
   "source": [
    "**ESERCIZIO**: Prova a cambiare i valori di `caramelle` nella cella qua sopra e guarda cosa succede"
   ]
  },
  {
   "cell_type": "markdown",
   "metadata": {},
   "source": [
    "### Domande\n",
    "\n",
    "Guarda i seguenti frammenti di codice, e per ciascuno cerca di indovinare quale risultato produce (o se da errore):\n",
    "\n",
    "\n",
    "1.  ```python\n",
    "    y = 2\n",
    "    if y < 3:\n",
    "        print('bingo')\n",
    "    elif y <= 2:\n",
    "        print('bango')\n",
    "    ```\n",
    "1.  ```python\n",
    "    z = 'q'\n",
    "    if not 'quando'.startswith(z):\n",
    "        print('BAR')\n",
    "    elif not 'spqr'[2] == z:\n",
    "        print('WAR')\n",
    "    else:\n",
    "        print('ZAR')\n",
    "    ```\n",
    "1.  ```python\n",
    "    x = 1\n",
    "    if x < 5:\n",
    "        print('BARCHE')\n",
    "        elif x < 3:\n",
    "            print('ZATTERE')\n",
    "            else: \n",
    "                print('SCIALUPPE')\n",
    "    ```\n",
    "1.  ```python\n",
    "    x = 5\n",
    "    if x < 3:\n",
    "        print('ORO')\n",
    "    else if x >= 3:\n",
    "        print('ARGENTO')\n",
    "    ```\n",
    "\n",
    "1.  ```python\n",
    "    if 0:\n",
    "        print(0)\n",
    "    elif 1:\n",
    "        print(1)\n",
    "    ```"
   ]
  },
  {
   "cell_type": "markdown",
   "metadata": {},
   "source": [
    "## Domande - Sono equivalenti? \n",
    "\n",
    "Guarda i seguenti frammenti di codice: in ciascuno, vi sono due parti, A e B. In ciascun frammento, cerca di indovinare se la parte A stamperà esattamente quello che stampa il codice nella parte B, per ogni valore delle variabili da cui dipendono.\n",
    "\n",
    "* **PRIMA** pensa alla risposta\n",
    "* **POI** prova ad eseguire con ciascuno dei valori delle  variabili suggerite"
   ]
  },
  {
   "cell_type": "markdown",
   "metadata": {},
   "source": [
    "### Sono equivalenti? - fragole\n",
    "\n",
    "Prova a cambiare il valore di `fragole` togliendo i commenti"
   ]
  },
  {
   "cell_type": "code",
   "execution_count": 9,
   "metadata": {},
   "outputs": [
    {
     "name": "stdout",
     "output_type": "stream",
     "text": [
      "fragole = 5\n",
      "A:\n",
      "Le fragole sono <= 5\n",
      "B:\n",
      "Le fragole sono <= 5\n"
     ]
    }
   ],
   "source": [
    "fragole = 5\n",
    "#fragole = 2\n",
    "#fragole = 10\n",
    "\n",
    "print('fragole =', fragole)\n",
    "print('A:')\n",
    "if fragole > 5:\n",
    "    print(\"Le fragole sono > 5\")\n",
    "elif fragole > 5: \n",
    "    print(\"Ho detto che le fragole sono > 5!\")\n",
    "else:\n",
    "    print(\"Le fragole sono <= 5\")\n",
    "    \n",
    "print('B:')\n",
    "if fragole > 5:\n",
    "    print(\"Le fragole sono > 5\")\n",
    "if fragole > 5:\n",
    "    print(\"Ho detto che le fragole sono > 5!\")\n",
    "if fragole <= 5:\n",
    "    print(\"Le fragole sono <= 5\")"
   ]
  },
  {
   "cell_type": "markdown",
   "metadata": {},
   "source": [
    "### Sono equivalenti? - max\n",
    "\n",
    "```python\n",
    "x, y = 3, 5\n",
    "#x, y = 5, 3\n",
    "#x, y = 3, 3\n",
    "\n",
    "print('x =', x)\n",
    "print('y =', y)\n",
    "\n",
    "print('A:')\n",
    "if x > y:\n",
    "    print(x)\n",
    "else:\n",
    "    print(y)\n",
    "    \n",
    "print('B:')    \n",
    "print(max(x,y))\n",
    "```"
   ]
  },
  {
   "cell_type": "markdown",
   "metadata": {},
   "source": [
    "### Sono equivalenti?  - min\n",
    "\n",
    "\n",
    "```python\n",
    "x, y = 3, 5\n",
    "#x, y = 5, 3\n",
    "#x, y = 3, 3\n",
    "\n",
    "print('x =',x)\n",
    "print('y =', y)\n",
    "\n",
    "print('A:')\n",
    "if x < y:\n",
    "    print(y)\n",
    "else:\n",
    "    print(x)\n",
    "    \n",
    "print('B:')    \n",
    "print(min(x,y))\n",
    "```"
   ]
  },
  {
   "cell_type": "markdown",
   "metadata": {},
   "source": [
    "\n",
    "### Sono equivalenti?  - grande piccolo\n",
    "\n",
    "```python\n",
    "x = 2\n",
    "#x = 4\n",
    "#x = 3\n",
    "\n",
    "print('x =',x)\n",
    "\n",
    "print('A:')\n",
    "if x > 3:\n",
    "    print('grande')\n",
    "else:\n",
    "    print('piccolo')\n",
    "    \n",
    "print('B:')\n",
    "if x < 3:\n",
    "    print('piccolo')\n",
    "else:\n",
    "    print('grande') \n",
    "```"
   ]
  },
  {
   "cell_type": "markdown",
   "metadata": {},
   "source": [
    "### Sono equivalenti?  - Cippirillo\n",
    "\n",
    "```python\n",
    "x = 3\n",
    "#x = 10\n",
    "#x = 11\n",
    "#x = 15\n",
    "\n",
    "print('x =', x)\n",
    "\n",
    "print('A:')\n",
    "if x % 5 == 0:   \n",
    "    print('cippirillo')\n",
    "if x % 3 == 0:   \n",
    "    print('cippirillo')\n",
    "    \n",
    "print('B:')\n",
    "if x % 3 == 0 or x % 5 == 0:\n",
    "    print('cippirillo')\n",
    "```"
   ]
  },
  {
   "cell_type": "markdown",
   "metadata": {},
   "source": [
    "### Esercizio - fattoria\n",
    "\n",
    "Data una stringa `s`, scrivi del codice che stampa `'BAU!'` se la stringa inizia con `cane` , stampa `'CHICCHIRICHI!'` se le stringa inizia con `'gallo'`, e stampa `'???'` in tutti gli altri casi"
   ]
  },
  {
   "cell_type": "raw",
   "id": "ad85ef50",
   "metadata": {
    "format": "text/html"
   },
   "source": [
    "<a  class=\"jupman-sol jupman-sol-toggler\" \n",
    " onclick=\"jupman.toggleSolution(this);\" \n",
    " data-jupman-show=\"Mostra soluzione\" data-jupman-hide=\"Nascondi\">Mostra soluzione</a><div class=\"jupman-sol jupman-sol-code\" style=\"display:none\">  "
   ]
  },
  {
   "cell_type": "code",
   "execution_count": 10,
   "metadata": {},
   "outputs": [
    {
     "name": "stdout",
     "output_type": "stream",
     "text": [
      "cane dalmata\n",
      "BAU\n"
     ]
    }
   ],
   "source": [
    "s = 'cane dalmata'\n",
    "#s = 'gallo cedrone'\n",
    "#s = 'sghirimpo'\n",
    "\n",
    "print(s)\n",
    "\n",
    "# scrivi qui\n",
    "\n",
    "if s.startswith('cane'):\n",
    "    print('BAU')\n",
    "elif s.startswith('gallo'):\n",
    "    print('CHICCHIRICHI!')\n",
    "else:\n",
    "    print('???')"
   ]
  },
  {
   "cell_type": "raw",
   "id": "ac1d6170",
   "metadata": {
    "format": "text/html"
   },
   "source": [
    "</div>"
   ]
  },
  {
   "cell_type": "code",
   "execution_count": 10,
   "metadata": {},
   "outputs": [
    {
     "name": "stdout",
     "output_type": "stream",
     "text": [
      "cane dalmata\n",
      "BAU\n"
     ]
    }
   ],
   "source": [
    "s = 'cane dalmata'\n",
    "#s = 'gallo cedrone'\n",
    "#s = 'sghirimpo'\n",
    "\n",
    "print(s)\n",
    "\n",
    "# scrivi qui\n",
    "\n"
   ]
  },
  {
   "cell_type": "markdown",
   "metadata": {},
   "source": [
    "### Esercizio - accenti\n",
    "\n",
    "Scrivi del codice che stampa se una `parola` termina o meno con una lettera accentata. \n",
    "\n",
    "* Per determinare se una lettera è accentata, usa le stringhe di accenti `acuti` e `gravi`\n",
    "* il tuo codice deve funzionare con qualunque `parola`"
   ]
  },
  {
   "cell_type": "raw",
   "id": "c77dec3c",
   "metadata": {
    "format": "text/html"
   },
   "source": [
    "<a  class=\"jupman-sol jupman-sol-toggler\" \n",
    " onclick=\"jupman.toggleSolution(this);\" \n",
    " data-jupman-show=\"Mostra soluzione\" data-jupman-hide=\"Nascondi\">Mostra soluzione</a><div class=\"jupman-sol jupman-sol-code\" style=\"display:none\">  "
   ]
  },
  {
   "cell_type": "code",
   "execution_count": 11,
   "metadata": {},
   "outputs": [
    {
     "name": "stdout",
     "output_type": "stream",
     "text": [
      "urrà termina con una accentata!\n"
     ]
    }
   ],
   "source": [
    "acuti = \"áéíóú\"\n",
    "gravi = \"àèìòù\"\n",
    "\n",
    "parola = 'urrà'         # termina con una accentata\n",
    "#parola = 'martello'    # non termina con una accentata\n",
    "#parola = 'ahó'         # termina con una accentata\n",
    "#parola = 'però'        # termina con una accentata\n",
    "#parola = 'capitaneria' # non termina con una accentata\n",
    "#parola = 'viceré'      # termina con una accentata\n",
    "#parola = 'cioè'        # termina con una accentata\n",
    "#parola = 'chéto'       # non termina con una accentata\n",
    "#parola = 'Chi dice che la verità è una sòla?'  # non termina con una accentata\n",
    "\n",
    "# scrivi qui\n",
    "\n",
    "if parola[-1] in acuti or parola[-1] in gravi:\n",
    "    print(parola,'termina con una accentata!')\n",
    "else:\n",
    "    print(parola, 'non termina con una accentata')"
   ]
  },
  {
   "cell_type": "raw",
   "id": "aaacf47d",
   "metadata": {
    "format": "text/html"
   },
   "source": [
    "</div>"
   ]
  },
  {
   "cell_type": "code",
   "execution_count": 11,
   "metadata": {},
   "outputs": [
    {
     "name": "stdout",
     "output_type": "stream",
     "text": [
      "urrà termina con una accentata!\n"
     ]
    }
   ],
   "source": [
    "acuti = \"áéíóú\"\n",
    "gravi = \"àèìòù\"\n",
    "\n",
    "parola = 'urrà'         # termina con una accentata\n",
    "#parola = 'martello'    # non termina con una accentata\n",
    "#parola = 'ahó'         # termina con una accentata\n",
    "#parola = 'però'        # termina con una accentata\n",
    "#parola = 'capitaneria' # non termina con una accentata\n",
    "#parola = 'viceré'      # termina con una accentata\n",
    "#parola = 'cioè'        # termina con una accentata\n",
    "#parola = 'chéto'       # non termina con una accentata\n",
    "#parola = 'Chi dice che la verità è una sòla?'  # non termina con una accentata\n",
    "\n",
    "# scrivi qui\n",
    "\n"
   ]
  },
  {
   "cell_type": "markdown",
   "metadata": {},
   "source": [
    "### Esercizio - arcani\n",
    "\n",
    "Dato un arcano `x` espresso come una stringa e delle liste di arcani `maggiori` e `minori`, stampare a quale categoria appartiene `x`. Se `x` non appartiene a nessuna categoria, stampare `è un mistero`."
   ]
  },
  {
   "cell_type": "raw",
   "id": "7c309a63",
   "metadata": {
    "format": "text/html"
   },
   "source": [
    "<a  class=\"jupman-sol jupman-sol-toggler\" \n",
    " onclick=\"jupman.toggleSolution(this);\" \n",
    " data-jupman-show=\"Mostra soluzione\" data-jupman-hide=\"Nascondi\">Mostra soluzione</a><div class=\"jupman-sol jupman-sol-code\" style=\"display:none\">  "
   ]
  },
  {
   "cell_type": "code",
   "execution_count": 12,
   "metadata": {},
   "outputs": [
    {
     "name": "stdout",
     "output_type": "stream",
     "text": [
      "La Ruota è un Arcano maggiore\n"
     ]
    }
   ],
   "source": [
    "x = 'La Ruota'     # maggiore\n",
    "#x = \"L'Appeso\"       # maggiore\n",
    "#x = 'Asso di Spade'  # minore\n",
    "#x = 'Due di Denari'  # minore\n",
    "#x = 'Il Coding'      # mistero\n",
    "\n",
    "maggiori = ['La Ruota','Il Carro', \"L'Appeso\"]\n",
    "minori = ['Asso di Spade', 'Due di Denari', 'Regina di Coppe']\n",
    "\n",
    "# scrivi qui\n",
    "if x in maggiori:\n",
    "    print(x, 'è un Arcano maggiore')\n",
    "elif x in minori:\n",
    "    print(x, 'è un Arcano minore')\n",
    "else:\n",
    "    print(x, 'è un mistero')"
   ]
  },
  {
   "cell_type": "raw",
   "id": "940bd088",
   "metadata": {
    "format": "text/html"
   },
   "source": [
    "</div>"
   ]
  },
  {
   "cell_type": "code",
   "execution_count": 12,
   "metadata": {},
   "outputs": [
    {
     "name": "stdout",
     "output_type": "stream",
     "text": [
      "La Ruota è un Arcano maggiore\n"
     ]
    }
   ],
   "source": [
    "x = 'La Ruota'     # maggiore\n",
    "#x = \"L'Appeso\"       # maggiore\n",
    "#x = 'Asso di Spade'  # minore\n",
    "#x = 'Due di Denari'  # minore\n",
    "#x = 'Il Coding'      # mistero\n",
    "\n",
    "maggiori = ['La Ruota','Il Carro', \"L'Appeso\"]\n",
    "minori = ['Asso di Spade', 'Due di Denari', 'Regina di Coppe']\n",
    "\n",
    "# scrivi qui\n",
    "\n"
   ]
  },
  {
   "cell_type": "markdown",
   "metadata": {},
   "source": [
    "## `if` annidati\n",
    "\n",
    "I comandi `if` sono _blocchi_ perciò possono essere annidati come qualunque altro blocco.\n",
    "\n",
    "Facciamo un esempio. Se hai un punto con coordinate `x` e `y` e vuoi sapere in quale quadrante risiede:\n",
    "\n",
    "![quadrant iu34234](img/quadrant.png)\n",
    "\n",
    "Potresti scrivere qualcosa del genere:"
   ]
  },
  {
   "cell_type": "code",
   "execution_count": 13,
   "metadata": {},
   "outputs": [
    {
     "name": "stdout",
     "output_type": "stream",
     "text": [
      "x = 5 y = 9\n",
      "primo quadrante\n"
     ]
    }
   ],
   "source": [
    "x,y = 5,9     \n",
    "#x,y = -5,9   \n",
    "#x,y = -5,-9  \n",
    "#x,y = 5,-9\n",
    "\n",
    "print('x =',x,'y =', y)\n",
    "\n",
    "if x >= 0:\n",
    "    if y >= 0:\n",
    "        print('primo quadrante')\n",
    "    else:\n",
    "        print('quarto quadrante')\n",
    "else:\n",
    "    if y >= 0:\n",
    "        print('secondo quadrante')\n",
    "    else:\n",
    "        print('terzo quadrante')\n",
    "    "
   ]
  },
  {
   "cell_type": "markdown",
   "metadata": {},
   "source": [
    "**ESERCIZIO**: prova le varie coppie di punti suggeriti togliendo i commenti e convinciti che il codice funziona come atteso."
   ]
  },
  {
   "cell_type": "markdown",
   "metadata": {},
   "source": [
    "**NOTA**: A volte gli `if` annidati possono essere evitati scrivendo sequenze di `elif` con espressioni booleane che verificano due condizioni alla volta:"
   ]
  },
  {
   "cell_type": "code",
   "execution_count": 14,
   "metadata": {},
   "outputs": [
    {
     "name": "stdout",
     "output_type": "stream",
     "text": [
      "x = 5 y = 9\n",
      "primo quadrante\n"
     ]
    }
   ],
   "source": [
    "x,y = 5,9     \n",
    "#x,y = -5,9   \n",
    "#x,y = -5,-9  \n",
    "#x,y = 5,-9\n",
    "\n",
    "print('x =',x,'y =', y)\n",
    "\n",
    "if x >= 0 and y >= 0:\n",
    "    print('primo quadrante')\n",
    "elif x >= 0 and y < 0:\n",
    "    print('quarto quadrante')\n",
    "elif x < 0 and y >= 0:\n",
    "    print('secondo quadrante')\n",
    "elif x < 0 and y < 0:\n",
    "    print('terzo quadrante')   "
   ]
  },
  {
   "cell_type": "markdown",
   "metadata": {},
   "source": [
    "\n",
    "### Esercizio - ascisse e ordinate 1\n",
    "\n",
    "Il codice che abbiamo visto non è molto preciso, perchè non considera il caso di punti che giacciono sugli assi. In questi casi invece del numero del quadrante dovrebbe stampare:\n",
    "\n",
    "* 'origine' quando `x` e `y` sono uguali a `0`\n",
    "* 'ascissa' quando `y` è `0`\n",
    "* 'ordinata' quando `x` è `0`\n",
    "\n",
    "Scrivi qui sotto una versione modificata **del codice con if annidati**  che consideri anche questi casi, poi testalo togliendo i commenti alle varie coppie di coordinate suggerite. "
   ]
  },
  {
   "cell_type": "raw",
   "id": "ac4ee97f",
   "metadata": {
    "format": "text/html"
   },
   "source": [
    "<a  class=\"jupman-sol jupman-sol-toggler\" \n",
    " onclick=\"jupman.toggleSolution(this);\" \n",
    " data-jupman-show=\"Mostra soluzione\" data-jupman-hide=\"Nascondi\">Mostra soluzione</a><div class=\"jupman-sol jupman-sol-code\" style=\"display:none\">  "
   ]
  },
  {
   "cell_type": "code",
   "execution_count": 15,
   "metadata": {},
   "outputs": [
    {
     "name": "stdout",
     "output_type": "stream",
     "text": [
      "x = 0 y = 0\n",
      "origine\n"
     ]
    }
   ],
   "source": [
    "x,y = 0,0     # origine\n",
    "#x,y = 0,5    # ordinata\n",
    "#x,y = 5,0    # ascissa\n",
    "#x,y = 5,9    # primo\n",
    "#x,y = -5,9   # secondo\n",
    "#x,y = -5,-9  # terzo\n",
    "#x,y = 5,-9   # quarto\n",
    "\n",
    "\n",
    "print('x =',x,'y =', y)\n",
    "\n",
    "# scrivi qui\n",
    "\n",
    "if x == 0 and y == 0:\n",
    "    print('origine')\n",
    "elif x == 0:\n",
    "    print('ordinata')\n",
    "elif x > 0:\n",
    "    if y == 0:\n",
    "        print('ascissa')\n",
    "    elif y > 0:\n",
    "        print('primo quadrante')\n",
    "    else:\n",
    "        print('quarto quadrante')\n",
    "else:\n",
    "    if y == 0:\n",
    "        print('ascissa')\n",
    "    elif y > 0:\n",
    "        print('secondo quadrante')\n",
    "    else:\n",
    "        print('terzo quadrante')"
   ]
  },
  {
   "cell_type": "raw",
   "id": "f1c784d6",
   "metadata": {
    "format": "text/html"
   },
   "source": [
    "</div>"
   ]
  },
  {
   "cell_type": "code",
   "execution_count": 15,
   "metadata": {},
   "outputs": [
    {
     "name": "stdout",
     "output_type": "stream",
     "text": [
      "x = 0 y = 0\n",
      "origine\n"
     ]
    }
   ],
   "source": [
    "x,y = 0,0     # origine\n",
    "#x,y = 0,5    # ordinata\n",
    "#x,y = 5,0    # ascissa\n",
    "#x,y = 5,9    # primo\n",
    "#x,y = -5,9   # secondo\n",
    "#x,y = -5,-9  # terzo\n",
    "#x,y = 5,-9   # quarto\n",
    "\n",
    "\n",
    "print('x =',x,'y =', y)\n",
    "\n",
    "# scrivi qui\n",
    "\n"
   ]
  },
  {
   "cell_type": "markdown",
   "metadata": {},
   "source": [
    "### Esercizio - ascisse e ordinate 2\n",
    "\n",
    "Volendo essere ancora più specifici, invece che stampare genericamente 'ascissa' o 'ordinata', potremmo stampare:\n",
    "\n",
    "* 'ascissa tra il primo e quarto quadrante'\n",
    "* 'ascissa tra il secondo e terzo quadrante'\n",
    "* 'ordinata tra il primo e il secondo quadrante'\n",
    "* 'ordinata tra il terzo e il quarto quadrante'\n",
    "\n",
    "Copia qui sotto  il codice dell'esercizio precedente modificandolo per considerare anche questi casi."
   ]
  },
  {
   "cell_type": "raw",
   "id": "9f2f1a3a",
   "metadata": {
    "format": "text/html"
   },
   "source": [
    "<a  class=\"jupman-sol jupman-sol-toggler\" \n",
    " onclick=\"jupman.toggleSolution(this);\" \n",
    " data-jupman-show=\"Mostra soluzione\" data-jupman-hide=\"Nascondi\">Mostra soluzione</a><div class=\"jupman-sol jupman-sol-code\" style=\"display:none\">  "
   ]
  },
  {
   "cell_type": "code",
   "execution_count": 16,
   "metadata": {},
   "outputs": [
    {
     "name": "stdout",
     "output_type": "stream",
     "text": [
      "x = 0 y = 0\n",
      "origine\n"
     ]
    }
   ],
   "source": [
    "x,y = 0,0     # origine\n",
    "#x,y = 0,5    # ordinata tra il primo e il secondo quadrante\n",
    "#x,y = 0,-5   # ordinata tra il terzo e il quarto quadrante\n",
    "#x,y = 5,0    # ascissa tra il primo e il quarto quadrante\n",
    "#x,y = -5,0   # ascissa tra il secondo e il terzo quadrante\n",
    "#x,y = 5,9    # primo\n",
    "#x,y = -5,9   # secondo\n",
    "#x,y = -5,-9  # terzo\n",
    "#x,y = 5,-9   # quarto\n",
    "\n",
    "print('x =',x,'y =', y)\n",
    "\n",
    "# scrivi qui\n",
    "\n",
    "if x == 0 and y == 0:\n",
    "    print('origine')\n",
    "elif x == 0:\n",
    "    if y > 0:\n",
    "        print('ordinata tra il primo e il secondo quadrante')\n",
    "    else:\n",
    "        print('ordinata tra il terzo e il quarto quadrante')\n",
    "elif x > 0:\n",
    "    if y == 0:        \n",
    "        print('ascissa tra il primo e il quarto quadrante')        \n",
    "    elif y > 0:\n",
    "        print('primo quadrante')\n",
    "    else:\n",
    "        print('quarto quadrante')\n",
    "else:\n",
    "    if y == 0:        \n",
    "        print('ascissa tra il secondo e il terzo quadrante')        \n",
    "    elif y > 0:\n",
    "        print('secondo quadrante')\n",
    "    else:\n",
    "        print('terzo quadrante')"
   ]
  },
  {
   "cell_type": "raw",
   "id": "d882054c",
   "metadata": {
    "format": "text/html"
   },
   "source": [
    "</div>"
   ]
  },
  {
   "cell_type": "code",
   "execution_count": 16,
   "metadata": {},
   "outputs": [
    {
     "name": "stdout",
     "output_type": "stream",
     "text": [
      "x = 0 y = 0\n",
      "origine\n"
     ]
    }
   ],
   "source": [
    "x,y = 0,0     # origine\n",
    "#x,y = 0,5    # ordinata tra il primo e il secondo quadrante\n",
    "#x,y = 0,-5   # ordinata tra il terzo e il quarto quadrante\n",
    "#x,y = 5,0    # ascissa tra il primo e il quarto quadrante\n",
    "#x,y = -5,0   # ascissa tra il secondo e il terzo quadrante\n",
    "#x,y = 5,9    # primo\n",
    "#x,y = -5,9   # secondo\n",
    "#x,y = -5,-9  # terzo\n",
    "#x,y = 5,-9   # quarto\n",
    "\n",
    "print('x =',x,'y =', y)\n",
    "\n",
    "# scrivi qui\n",
    "\n"
   ]
  },
  {
   "cell_type": "markdown",
   "metadata": {},
   "source": [
    "### Esercizio - autobus\n",
    "\n",
    "Devi correre a prendere l'autobus, e hai poco tempo. Per fare il viaggio:\n",
    "\n",
    "* ti serve lo zaino, altrimenti resti a casa\n",
    "* ti servono anche dei soldi per il biglietto, oppure la tessera trasporti (o tutte due). Altrimenti resti a casa.\n",
    "\n",
    "Scrivi del codice che date tre variabili booleane `zaino`, `soldi` e `tessera`, stampa quello che vedi nei commenti a seconda dei vari casi. Una volta scritto il codice, togli i commenti alle assegnazioni per provare i risultati\n",
    "\n",
    "* **SUGGERIMENTO**: per tener traccia degli oggetti posseduti, ti conviene creare una lista di stringhe dove mettere gli oggetti trovati"
   ]
  },
  {
   "cell_type": "raw",
   "id": "4f2e3916",
   "metadata": {
    "format": "text/html"
   },
   "source": [
    "<a  class=\"jupman-sol jupman-sol-toggler\" \n",
    " onclick=\"jupman.toggleSolution(this);\" \n",
    " data-jupman-show=\"Mostra soluzione\" data-jupman-hide=\"Nascondi\">Mostra soluzione</a><div class=\"jupman-sol jupman-sol-code\" style=\"display:none\">  "
   ]
  },
  {
   "cell_type": "code",
   "execution_count": 17,
   "metadata": {},
   "outputs": [
    {
     "name": "stdout",
     "output_type": "stream",
     "text": [
      "Non ho i soldi !\n",
      "Non ho la tessera !\n",
      "Non ho la tessera nè i soldi, non posso partire !\n"
     ]
    }
   ],
   "source": [
    "\n",
    "zaino, soldi, tessera = True, False, True\n",
    "# Non ho i soldi !\n",
    "# Ho trovato: zaino,tessera\n",
    "# Posso partire !\n",
    "\n",
    "#zaino, soldi, tessera = False, False, True\n",
    "# Non ho lo zaino, non posso partire !\n",
    "\n",
    "#zaino, soldi, tessera = True, True, False\n",
    "# Non ho la tessera !\n",
    "# Ho trovato: zaino,soldi\n",
    "# Posso partire !\n",
    "\n",
    "#zaino, soldi, tessera = True, True, True\n",
    "# Ho trovato: zaino,soldi,tessera\n",
    "# Posso partire !\n",
    "\n",
    "zaino, soldi, tessera = True, False, False\n",
    "#Non ho i soldi !\n",
    "#Non ho la tessera !\n",
    "#Non ho la tessera nè i soldi, non posso partire !\n",
    "\n",
    "\n",
    "# scrivi qui\n",
    "\n",
    "trovato = []\n",
    "if zaino:\n",
    "    trovato.append('zaino')\n",
    "    if soldi: \n",
    "        trovato.append('soldi')\n",
    "    else:        \n",
    "        print('Non ho i soldi !')\n",
    "    if tessera:\n",
    "        trovato.append('tessera')\n",
    "    else:\n",
    "        print('Non ho la tessera !')\n",
    "    if soldi or tessera:\n",
    "        print('Ho trovato:', ','.join(trovato))\n",
    "        print('Posso partire !')\n",
    "    else:\n",
    "        print('Non ho la tessera nè i soldi, non posso partire !')\n",
    "else:\n",
    "    print('Non ho lo zaino, non posso partire !')\n",
    "\n"
   ]
  },
  {
   "cell_type": "raw",
   "id": "b6def827",
   "metadata": {
    "format": "text/html"
   },
   "source": [
    "</div>"
   ]
  },
  {
   "cell_type": "code",
   "execution_count": 17,
   "metadata": {},
   "outputs": [
    {
     "name": "stdout",
     "output_type": "stream",
     "text": [
      "Non ho i soldi !\n",
      "Non ho la tessera !\n",
      "Non ho la tessera nè i soldi, non posso partire !\n"
     ]
    }
   ],
   "source": [
    "\n",
    "zaino, soldi, tessera = True, False, True\n",
    "# Non ho i soldi !\n",
    "# Ho trovato: zaino,tessera\n",
    "# Posso partire !\n",
    "\n",
    "#zaino, soldi, tessera = False, False, True\n",
    "# Non ho lo zaino, non posso partire !\n",
    "\n",
    "#zaino, soldi, tessera = True, True, False\n",
    "# Non ho la tessera !\n",
    "# Ho trovato: zaino,soldi\n",
    "# Posso partire !\n",
    "\n",
    "#zaino, soldi, tessera = True, True, True\n",
    "# Ho trovato: zaino,soldi,tessera\n",
    "# Posso partire !\n",
    "\n",
    "zaino, soldi, tessera = True, False, False\n",
    "#Non ho i soldi !\n",
    "#Non ho la tessera !\n",
    "#Non ho la tessera nè i soldi, non posso partire !\n",
    "\n",
    "\n",
    "# scrivi qui\n",
    "\n"
   ]
  },
  {
   "cell_type": "markdown",
   "metadata": {},
   "source": [
    "### Esercizio - cronometro\n",
    "\n",
    "Un cronometro segna le ore, minuti e secondi trascorsi dalla mezzanotte di un certo giorno in una stringa `cronometro`, in cui i numeri delle ore, minuti e secondi sono separati da due punti `:`. \n",
    "\n",
    "Scrivi del codice che in base al numero di ore trascorse, stampa la fase del giorno:\n",
    "\n",
    "- dalle ore 6 incluse alle ore 12 escluse  : stampa `mattino`\n",
    "- dalle ore 12 incluse alle ore 18 escluse  : stampa `pomeriggio`\n",
    "- dalle ore 18 incluse alle ore 21 escluse  : stampa `sera`\n",
    "- dalle ore 21 incluse alle ore 6 escluse  : stampa `notte`\n",
    "\n",
    "\n",
    "* **USA** `elif` con espressioni booleane multiple\n",
    "* Il tuo codice **DEVE** funzionare anche se il cronometro supera le 23:59:59, vedi esempi\n",
    "* **SUGGERIMENTO**: per avere ore che vadano solo dalle 0 alle 23, usa l'operatore modulo `%`"
   ]
  },
  {
   "cell_type": "raw",
   "id": "8ac02d1d",
   "metadata": {
    "format": "text/html"
   },
   "source": [
    "<a  class=\"jupman-sol jupman-sol-toggler\" \n",
    " onclick=\"jupman.toggleSolution(this);\" \n",
    " data-jupman-show=\"Mostra soluzione\" data-jupman-hide=\"Nascondi\">Mostra soluzione</a><div class=\"jupman-sol jupman-sol-code\" style=\"display:none\">  "
   ]
  },
  {
   "cell_type": "code",
   "execution_count": 18,
   "metadata": {},
   "outputs": [
    {
     "name": "stdout",
     "output_type": "stream",
     "text": [
      "mattina\n"
     ]
    }
   ],
   "source": [
    "cronometro = '10:23:43'   # mattina\n",
    "#cronometro = '12:00:00'   # pomeriggio\n",
    "#cronometro = '15:56:02'   # pomeriggio\n",
    "#cronometro = '19:23:27'   # sera\n",
    "#cronometro = '21:45:15'   # notte\n",
    "#cronometro = '02:45:15'   # notte\n",
    "#cronometro = '27:45:30'   # notte\n",
    "#cronometro = '32:28:30'   # mattina\n",
    "\n",
    "# scrivi qui\n",
    "\n",
    "ora = int(cronometro.split(':')[0]) % 24\n",
    "\n",
    "if ora >= 6 and ora < 12:\n",
    "    print('mattina')\n",
    "elif ora >=12 and ora < 18:\n",
    "    print('pomeriggio')\n",
    "elif ora >=18 and ora < 21:\n",
    "    print('sera')\n",
    "else:\n",
    "    print('notte')\n"
   ]
  },
  {
   "cell_type": "raw",
   "id": "651367a9",
   "metadata": {
    "format": "text/html"
   },
   "source": [
    "</div>"
   ]
  },
  {
   "cell_type": "code",
   "execution_count": 18,
   "metadata": {},
   "outputs": [
    {
     "name": "stdout",
     "output_type": "stream",
     "text": [
      "mattina\n"
     ]
    }
   ],
   "source": [
    "cronometro = '10:23:43'   # mattina\n",
    "#cronometro = '12:00:00'   # pomeriggio\n",
    "#cronometro = '15:56:02'   # pomeriggio\n",
    "#cronometro = '19:23:27'   # sera\n",
    "#cronometro = '21:45:15'   # notte\n",
    "#cronometro = '02:45:15'   # notte\n",
    "#cronometro = '27:45:30'   # notte\n",
    "#cronometro = '32:28:30'   # mattina\n",
    "\n",
    "# scrivi qui\n",
    "\n"
   ]
  },
  {
   "cell_type": "markdown",
   "metadata": {},
   "source": [
    "## Domande - Sono equivalenti? \n",
    "\n",
    "Guarda i seguenti frammenti di codice: in ciascuno, vi sono due parti, A e B. In ciascun frammento, cerca di indovinare se la parte A stamperà esattamente quello che stampa il codice nella parte B, per ogni valore di `x`.\n",
    "\n",
    "* **PRIMA** pensa alla risposta\n",
    "* **POI** prova ad eseguire con ciascuno dei valori di `x` suggeriti. "
   ]
  },
  {
   "cell_type": "markdown",
   "metadata": {},
   "source": [
    "### Sono equivalenti?  - dentro fuori 1\n",
    "\n",
    "\n",
    "\n",
    "```python\n",
    "x = 3\n",
    "#x = 4\n",
    "#x = 5\n",
    "\n",
    "print('x =',x)\n",
    "\n",
    "print('A:')\n",
    "if x > 3:\n",
    "    if x < 5:\n",
    "        print('dentro')\n",
    "    else:\n",
    "        print('fuori')\n",
    "else:\n",
    "    print('fuori')        \n",
    "        \n",
    "print('B:')\n",
    "if x > 3 and x < 5:\n",
    "    print('dentro')\n",
    "else:\n",
    "    print('fuori')\n",
    "```\n"
   ]
  },
  {
   "cell_type": "markdown",
   "metadata": {},
   "source": [
    "### Sono equivalenti?  - stelle pianeti\n",
    "\n",
    "\n",
    "```python\n",
    "x = 2\n",
    "#x = 3\n",
    "#x = 4\n",
    "\n",
    "print('x =', x)\n",
    "\n",
    "print('A:')\n",
    "if not x > 3:\n",
    "    print('stelle')\n",
    "else:\n",
    "    print('pianeti')\n",
    "    \n",
    "print('B:')\n",
    "if x > 3:\n",
    "    print('pianeti')\n",
    "else:\n",
    "    print('stelle')\n",
    "```\n"
   ]
  },
  {
   "cell_type": "markdown",
   "metadata": {},
   "source": [
    "### Sono equivalenti?  - verde rosso\n",
    "\n",
    "```python\n",
    "x = 10\n",
    "#x = 5\n",
    "#x = 0\n",
    "\n",
    "print('x =',x)\n",
    "\n",
    "print('A:')\n",
    "if x >= 5: \n",
    "    print('verde')\n",
    "    if x >= 10:\n",
    "        print('rosso')        \n",
    "\n",
    "    \n",
    "print('B:')\n",
    "if x >= 10:\n",
    "    if x >= 5:\n",
    "        print('verde')\n",
    "    print('rosso')\n",
    "```    "
   ]
  },
  {
   "cell_type": "markdown",
   "metadata": {},
   "source": [
    "### Sono equivalenti? - cerchi quadrati\n",
    "\n",
    "```python\n",
    "x = 4\n",
    "#x = 3\n",
    "#x = 2\n",
    "#x = 1\n",
    "#x = 0\n",
    "\n",
    "print('x =', x)\n",
    "\n",
    "print('A:')\n",
    "if x > 3:\n",
    "    print('cerchi')\n",
    "else:\n",
    "    if x > 1:\n",
    "        print('quadrati')\n",
    "    else:\n",
    "        print('triangoli')\n",
    "\n",
    "print('B:')        \n",
    "if x <= 1:\n",
    "    print('triangoli')\n",
    "elif x <= 3:\n",
    "    print('quadrati')\n",
    "else:\n",
    "    print('cerchi')\n",
    "\n",
    "```"
   ]
  },
  {
   "cell_type": "markdown",
   "metadata": {},
   "source": [
    "### Sono equivalenti?  - dentro fuori 2\n",
    "\n",
    "```python\n",
    "\n",
    "x = 7\n",
    "#x = 0\n",
    "#x = 15\n",
    "\n",
    "print('x =', x)\n",
    "\n",
    "print('A:')\n",
    "if x > 5:\n",
    "    if x < 10:\n",
    "        print('dentro')\n",
    "    else:\n",
    "        print('fuori')\n",
    "else:\n",
    "    print('fuori')\n",
    "\n",
    "print('B:')        \n",
    "if not x > 5 and not x < 10:\n",
    "    print('fuori')\n",
    "else:\n",
    "    print('dentro')\n",
    "```"
   ]
  },
  {
   "cell_type": "markdown",
   "metadata": {},
   "source": [
    "### Sono equivalenti? - Ciabanga\n",
    "\n",
    "\n",
    "```python\n",
    "x = 4\n",
    "#x = 5\n",
    "#x = 6\n",
    "#x = 9\n",
    "#x = 10\n",
    "#x = 11\n",
    "\n",
    "print('x =', x)\n",
    "\n",
    "print('A:')\n",
    "if x < 6:\n",
    "    print('Ciabanga!')\n",
    "else:\n",
    "    if x >= 10:        \n",
    "        print('Ciabanga!')\n",
    "           \n",
    "print('B:')\n",
    "if x <= 5 or not x < 10:\n",
    "    print('Ciabanga!')\n",
    "```"
   ]
  },
  {
   "cell_type": "markdown",
   "metadata": {},
   "source": [
    "### Esercizio - Il massimo\n",
    "\n",
    "Scrivi del codice che stampa il massimo fra tre numeri `x`, `y` e `z`\n",
    "\n",
    "* usa **if annidati**\n",
    "* **NON** usare la funzione `max`\n",
    "* **NON** creare variabili che si chiamano `max` (violerebbe il [V Comandamento](https://it.softpython.org/commandments.html#V-COMANDAMENTO): non ridifinerai mai funzioni di sistema)"
   ]
  },
  {
   "cell_type": "raw",
   "id": "fd9ea27a",
   "metadata": {
    "format": "text/html"
   },
   "source": [
    "<a  class=\"jupman-sol jupman-sol-toggler\" \n",
    " onclick=\"jupman.toggleSolution(this);\" \n",
    " data-jupman-show=\"Mostra soluzione\" data-jupman-hide=\"Nascondi\">Mostra soluzione</a><div class=\"jupman-sol jupman-sol-code\" style=\"display:none\">  "
   ]
  },
  {
   "cell_type": "code",
   "execution_count": 19,
   "metadata": {},
   "outputs": [
    {
     "name": "stdout",
     "output_type": "stream",
     "text": [
      "3\n"
     ]
    }
   ],
   "source": [
    "x,y,z = 1,2,3\n",
    "#x,y,z = 1,3,2\n",
    "#x,y,z = 2,1,3\n",
    "#x,y,z = 2,3,1\n",
    "#x,y,z = 3,1,2\n",
    "#x,y,z = 3,2,1\n",
    "\n",
    "# scrivi qui\n",
    "\n",
    "if x > y:    \n",
    "    if x > z:\n",
    "        print(x)\n",
    "    else:\n",
    "        print(z)\n",
    "elif y > z:\n",
    "    print(y)\n",
    "else:\n",
    "    print(z)"
   ]
  },
  {
   "cell_type": "raw",
   "id": "f043b1dd",
   "metadata": {
    "format": "text/html"
   },
   "source": [
    "</div>"
   ]
  },
  {
   "cell_type": "code",
   "execution_count": 19,
   "metadata": {},
   "outputs": [
    {
     "name": "stdout",
     "output_type": "stream",
     "text": [
      "3\n"
     ]
    }
   ],
   "source": [
    "x,y,z = 1,2,3\n",
    "#x,y,z = 1,3,2\n",
    "#x,y,z = 2,1,3\n",
    "#x,y,z = 2,3,1\n",
    "#x,y,z = 3,1,2\n",
    "#x,y,z = 3,2,1\n",
    "\n",
    "# scrivi qui\n",
    "\n"
   ]
  },
  {
   "cell_type": "markdown",
   "metadata": {},
   "source": [
    "## Operatore ternario\n",
    "\n",
    "In qualche caso è conveniente inizializzare una variabile con valori diversi a seconda di una condizione\n",
    "\n",
    "**Esempio**:\n",
    "\n",
    "Lo sconto che si applica ad un'acquisto dipende dalla quantità acquistata. Crea una variabile `sconto` mettendo il suo valore a 0 se la variabile `spesa` è minore di 100€, oppure `10%` se è maggiore."
   ]
  },
  {
   "cell_type": "code",
   "execution_count": 20,
   "metadata": {},
   "outputs": [
    {
     "name": "stdout",
     "output_type": "stream",
     "text": [
      "spesa: 200   sconto: 0.1\n"
     ]
    }
   ],
   "source": [
    "spesa = 200\n",
    "sconto = 0\n",
    "\n",
    "if spesa > 100:\n",
    "    sconto = 0.1\n",
    "else:\n",
    "    sconto = 0 # non necessario\n",
    "\n",
    "print(\"spesa:\", spesa, \"  sconto:\", sconto)"
   ]
  },
  {
   "cell_type": "markdown",
   "metadata": {},
   "source": [
    "Il codice precedente può essere scritto più concisamente così:"
   ]
  },
  {
   "cell_type": "code",
   "execution_count": 21,
   "metadata": {},
   "outputs": [
    {
     "name": "stdout",
     "output_type": "stream",
     "text": [
      "spesa: 200   sconto: 0.1\n"
     ]
    }
   ],
   "source": [
    "spesa = 200\n",
    "sconto = 0.1 if spesa > 100 else 0\n",
    "print(\"spesa:\", spesa, \"  sconto:\", sconto)"
   ]
  },
  {
   "cell_type": "markdown",
   "metadata": {},
   "source": [
    "\n",
    "La sintassi dell'operatore ternario è:"
   ]
  },
  {
   "cell_type": "markdown",
   "metadata": {},
   "source": [
    "```python\n",
    "VARIABILE = VALORE if CONDIZIONE else ALTRO_VALORE\n",
    "```"
   ]
  },
  {
   "cell_type": "markdown",
   "metadata": {},
   "source": [
    "col significato che `VARIABILE` è inizializzata a `VALORE` se la `CONDIZIONE` è `True`, altrimenti viene inizializzata ad `ALTRO_VALORE`"
   ]
  },
  {
   "cell_type": "markdown",
   "metadata": {},
   "source": [
    "### Domande if ternari\n",
    "\n",
    "Guarda i seguenti frammenti di codice, e per ciascuno cerca di indovinare quale risultato produce (o se da errore):\n",
    "\n",
    "1.  ```python\n",
    "    y = 3\n",
    "    x = 8 if y < 2 else 9\n",
    "    print(x)\n",
    "    ```\n",
    "1.  ```python\n",
    "    y = 1\n",
    "    z = 2 if y < 3\n",
    "    ```\n",
    "1.  ```python\n",
    "    y = 10\n",
    "    z = 2 if y < 3 elif y > 5 9\n",
    "    ```    "
   ]
  },
  {
   "cell_type": "markdown",
   "metadata": {},
   "source": [
    "### Esercizio - scarpe\n",
    "\n",
    "\n",
    "Scrivere del codice che data la variabile numerica `scarpe`, se `scarpe` è minore di 10 viene incrementata di `1`, altrimenti viene decrementata di `1`\n",
    "\n",
    "* Usa **SOLO** l'**if ternario**\n",
    "* Il tuo codice deve funzionare per _qualsiasi_ valore di `scarpe`\n",
    "\n",
    "\n",
    "Esempio 1 - dato:\n",
    "\n",
    "```python\n",
    "scarpe = 2\n",
    "```\n",
    "\n",
    "Dopo il tuo codice, deve risultare:\n",
    "\n",
    "```python\n",
    ">>> print(scarpe)\n",
    "3\n",
    "```\n",
    "\n",
    "Esempio 2 - dato:\n",
    "\n",
    "```python\n",
    "scarpe = 16\n",
    "```\n",
    "\n",
    "Dopo il tuo codice, deve risultare:\n",
    "\n",
    "```python\n",
    ">>> print(scarpe)\n",
    "15\n",
    "```"
   ]
  },
  {
   "cell_type": "raw",
   "id": "67e1916c",
   "metadata": {
    "format": "text/html"
   },
   "source": [
    "<a  class=\"jupman-sol jupman-sol-toggler\" \n",
    " onclick=\"jupman.toggleSolution(this);\" \n",
    " data-jupman-show=\"Mostra soluzione\" data-jupman-hide=\"Nascondi\">Mostra soluzione</a><div class=\"jupman-sol jupman-sol-code\" style=\"display:none\">  "
   ]
  },
  {
   "cell_type": "code",
   "execution_count": 22,
   "metadata": {},
   "outputs": [
    {
     "name": "stdout",
     "output_type": "stream",
     "text": [
      "scarpe = 3\n"
     ]
    }
   ],
   "source": [
    "scarpe = 2\n",
    "#scarpe = 16\n",
    "\n",
    "# scrivi qui\n",
    "\n",
    "scarpe = scarpe + 1 if scarpe < 10 else scarpe - 1\n",
    "print('scarpe =', scarpe)"
   ]
  },
  {
   "cell_type": "raw",
   "id": "d16c7d98",
   "metadata": {
    "format": "text/html"
   },
   "source": [
    "</div>"
   ]
  },
  {
   "cell_type": "code",
   "execution_count": 22,
   "metadata": {},
   "outputs": [
    {
     "name": "stdout",
     "output_type": "stream",
     "text": [
      "scarpe = 3\n"
     ]
    }
   ],
   "source": [
    "scarpe = 2\n",
    "#scarpe = 16\n",
    "\n",
    "# scrivi qui\n",
    "\n"
   ]
  },
  {
   "cell_type": "markdown",
   "metadata": {},
   "source": [
    "### Esercizio - trenino\n",
    "\n",
    "Scrivi del codice che date 3 stringhe `sa`, `sb` e `sc` assegna alla variabile `x` la stringa `'CIUFCIUF'` se è possibile comporre `sa`, `sb` e `sc` per ottenere la scritta `'trenino'`, altrimenti mette la stringa `':-('`\n",
    "\n",
    "* **USA** un if ternario\n",
    "* il tuo codice deve funzionare per **qualsiasi** terna di stringhe\n",
    "* **NOTA**: ci interessa sapere SE è possibile comporre le scritte come `'trenino'`, NON in che ordine vanno composte\n",
    "* **SUGGERIMENTO**: ti è consentito creare una lista di appoggio\n",
    "\n",
    "Esempio 1 - date:\n",
    "\n",
    "```python\n",
    "sa,sb,sc = \"ni\",\"no\",\"tre\"\n",
    "```\n",
    "\n",
    "dopo il tuo codice, deve risultare:\n",
    "\n",
    "```\n",
    ">>> print(x)\n",
    "CIUFCIUF\n",
    "```\n",
    "\n",
    "Esempio 2 - date:\n",
    "\n",
    "```python\n",
    "sa,sb,sc = \"quattro\",\"ni\",\"no\"\n",
    "```\n",
    "\n",
    "dopo il tuo codice, deve risultare:\n",
    "\n",
    "```\n",
    ">>> print(x)\n",
    ":-(\n",
    "```\n",
    "\n"
   ]
  },
  {
   "cell_type": "raw",
   "id": "1802a7e2",
   "metadata": {
    "format": "text/html"
   },
   "source": [
    "<a  class=\"jupman-sol jupman-sol-toggler\" \n",
    " onclick=\"jupman.toggleSolution(this);\" \n",
    " data-jupman-show=\"Mostra soluzione\" data-jupman-hide=\"Nascondi\">Mostra soluzione</a><div class=\"jupman-sol jupman-sol-code\" style=\"display:none\">  "
   ]
  },
  {
   "cell_type": "code",
   "execution_count": 23,
   "metadata": {},
   "outputs": [],
   "source": [
    "sa,sb,sc = \"ni\",\"no\",\"tre\"       # CIUFCIUF\n",
    "#sa,sb,sc = \"ni\",\"tre\",\"no\"      # CIUFCIUF\n",
    "#sa,sb,sc = \"quattro\",\"ni\",\"no\"  # :-(\n",
    "#sa,sb,sc = \"na\",\"tre\",\"no\"      # :-(\n",
    "\n",
    "\n",
    "# scrivi qui\n",
    "tutte = [sa,sb,sc]\n",
    "x = 'CIUFCIUF' if \"tre\" in tutte and \"ni\" in tutte and \"no\" in tutte else ':-('\n",
    "\n",
    "#print(x)"
   ]
  },
  {
   "cell_type": "raw",
   "id": "1cdeefb8",
   "metadata": {
    "format": "text/html"
   },
   "source": [
    "</div>"
   ]
  },
  {
   "cell_type": "code",
   "execution_count": 23,
   "metadata": {},
   "outputs": [],
   "source": [
    "sa,sb,sc = \"ni\",\"no\",\"tre\"       # CIUFCIUF\n",
    "#sa,sb,sc = \"ni\",\"tre\",\"no\"      # CIUFCIUF\n",
    "#sa,sb,sc = \"quattro\",\"ni\",\"no\"  # :-(\n",
    "#sa,sb,sc = \"na\",\"tre\",\"no\"      # :-(\n",
    "\n",
    "\n",
    "# scrivi qui\n",
    "\n"
   ]
  },
  {
   "cell_type": "code",
   "execution_count": null,
   "metadata": {},
   "outputs": [],
   "source": []
  }
 ],
 "metadata": {
  "celltoolbar": "Edit Metadata",
  "kernelspec": {
   "display_name": "Python 3",
   "language": "python",
   "name": "python3"
  },
  "language_info": {
   "codemirror_mode": {
    "name": "ipython",
    "version": 3
   },
   "file_extension": ".py",
   "mimetype": "text/x-python",
   "name": "python",
   "nbconvert_exporter": "python",
   "pygments_lexer": "ipython3",
   "version": "3.7.10"
  },
  "toc": {
   "base_numbering": 1,
   "nav_menu": {},
   "number_sections": false,
   "sideBar": true,
   "skip_h1_title": false,
   "title_cell": "Table of Contents",
   "title_sidebar": "Contents",
   "toc_cell": false,
   "toc_position": {},
   "toc_section_display": true,
   "toc_window_display": true
  }
 },
 "nbformat": 4,
 "nbformat_minor": 2
}

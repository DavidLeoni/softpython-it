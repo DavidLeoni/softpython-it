{
 "cells": [
  {
   "cell_type": "code",
   "execution_count": 1,
   "metadata": {
    "nbsphinx": "hidden"
   },
   "outputs": [],
   "source": [
    "# Ricordati di eseguire questa cella con Shift+Invio\n",
    "\n",
    "import jupman"
   ]
  },
  {
   "cell_type": "markdown",
   "metadata": {},
   "source": [
    "# Controllo di flusso - Cicli for\n",
    "\n",
    "## [Scarica zip esercizi](../_static/generated/control-flow.zip) \n",
    "\n",
    "[Naviga file online](https://github.com/DavidLeoni/softpython-it/tree/master/control-flow)"
   ]
  },
  {
   "cell_type": "markdown",
   "metadata": {},
   "source": [
    "## Introduzione\n",
    "\n",
    "Se vogliamo compiere una o più azioni per ogni elemento di una sequenza avremo bisogno del cosiddetto ciclo `for`, che ci permette di _iterare_ su una sequenza.\n",
    "\n",
    "### Che fare\n",
    "\n",
    "- scompatta lo zip in una cartella, dovresti ottenere qualcosa del genere: \n",
    "\n",
    "```\n",
    "control-flow\n",
    "    flow1-if.ipynb\n",
    "    flow1-if-sol.ipynb\n",
    "    flow2-for.ipynb\n",
    "    flow2-for-sol.ipynb\n",
    "    flow3-while.ipynb\n",
    "    flow3-while-sol.ipynb    \n",
    "    jupman.py \n",
    "```\n",
    "\n",
    "<div class=\"alert alert-warning\">\n",
    "\n",
    "**ATTENZIONE**: Per essere visualizzato correttamente, il file del notebook DEVE essere nella cartella szippata.\n",
    "</div>\n",
    "\n",
    "- apri il Jupyter Notebook da quella cartella. Due cose dovrebbero aprirsi, prima una console e poi un browser. Il browser dovrebbe mostrare una lista di file: naviga la lista e apri il notebook `flow2-for.ipynb`\n",
    "- Prosegui leggendo il file degli esercizi, ogni tanto al suo interno troverai delle scritte **ESERCIZIO**, che ti chiederanno di scrivere dei comandi Python nelle celle successive. Gli esercizi sono graduati per difficoltà, da una stellina ✪ a quattro ✪✪✪✪\n",
    "\n",
    "\n",
    "Scorciatoie da tastiera:\n",
    "\n",
    "* Per eseguire il codice Python dentro una cella di Jupyter, premi `Control+Invio`\n",
    "* Per eseguire il codice Python dentro una cella di Jupyter E selezionare la cella seguente, premi `Shift+Invio`\n",
    "* Per eseguire il codice Python dentro una cella di Jupyter E creare una nuova cella subito dopo, premi `Alt+Invio`\n",
    "* Se per caso il Notebook sembra inchiodato, prova a selezionare `Kernel -> Restart`\n",
    "\n"
   ]
  },
  {
   "cell_type": "markdown",
   "metadata": {},
   "source": [
    "## Iterazione per elemento\n",
    "\n",
    "Se abbiamo una sequenza come per esempio una lista:"
   ]
  },
  {
   "cell_type": "code",
   "execution_count": 2,
   "metadata": {},
   "outputs": [],
   "source": [
    "sport = ['pallavolo', 'tennis', 'calcio', 'nuoto']"
   ]
  },
  {
   "cell_type": "markdown",
   "metadata": {},
   "source": [
    "e vogliamo in qualche modo usare ogni elemento della lista (per esempio stamparli), li possiamo scorrere (o meglio, _iterare_) con un ciclo `for`:"
   ]
  },
  {
   "cell_type": "code",
   "execution_count": 3,
   "metadata": {},
   "outputs": [
    {
     "name": "stdout",
     "output_type": "stream",
     "text": [
      "Trovato un elemento!\n",
      "pallavolo\n",
      "Trovato un elemento!\n",
      "tennis\n",
      "Trovato un elemento!\n",
      "calcio\n",
      "Trovato un elemento!\n",
      "nuoto\n",
      "Finito!\n"
     ]
    }
   ],
   "source": [
    "for elemento in sport:\n",
    "    print('Trovato un elemento!')\n",
    "    print(elemento)\n",
    "\n",
    "print('Finito!')"
   ]
  },
  {
   "cell_type": "markdown",
   "metadata": {},
   "source": [
    "Vediamo cosa succede in Python Tutor:"
   ]
  },
  {
   "cell_type": "code",
   "execution_count": 4,
   "metadata": {},
   "outputs": [],
   "source": [
    "# AFFINCHE' PYTHON TUTOR FUNZIONI, RICORDATI DI ESEGUIRE QUESTA CELLA con Shift+Invio\n",
    "#   (basta eseguirla una volta sola, la trovi anche all'inizio di ogni foglio)\n",
    "\n",
    "import jupman"
   ]
  },
  {
   "cell_type": "code",
   "execution_count": 5,
   "metadata": {},
   "outputs": [
    {
     "name": "stdout",
     "output_type": "stream",
     "text": [
      "Trovato un elemento!\n",
      "pallavolo\n",
      "Trovato un elemento!\n",
      "tennis\n",
      "Trovato un elemento!\n",
      "calcio\n",
      "Trovato un elemento!\n",
      "nuoto\n",
      "Finito!\n"
     ]
    },
    {
     "data": {
      "text/html": [
       "\n",
       "        <script src=\"../_static/js/pytutor-embed.bundle.min.js\" type=\"application/javascript\"></script>\n",
       "     \n",
       "        <script id=\"json-jm487b919b-4f8c-4016-8b33-6304639ca507\" type=\"application/json\" >\n",
       "            {\"code\": \" \\nsport = ['pallavolo', 'tennis', 'calcio', 'nuoto']\\nfor elemento in sport:\\n    print('Trovato un elemento!')\\n    print(elemento)\\n\\nprint('Finito!')\", \"trace\": [{\"line\": 2, \"event\": \"step_line\", \"func_name\": \"<module>\", \"globals\": {}, \"ordered_globals\": [], \"stack_to_render\": [], \"heap\": {}, \"stdout\": \"\"}, {\"line\": 3, \"event\": \"step_line\", \"func_name\": \"<module>\", \"globals\": {\"sport\": [\"REF\", 1]}, \"ordered_globals\": [\"sport\"], \"stack_to_render\": [], \"heap\": {\"1\": [\"LIST\", \"pallavolo\", \"tennis\", \"calcio\", \"nuoto\"]}, \"stdout\": \"\"}, {\"line\": 4, \"event\": \"step_line\", \"func_name\": \"<module>\", \"globals\": {\"sport\": [\"REF\", 1], \"elemento\": \"pallavolo\"}, \"ordered_globals\": [\"sport\", \"elemento\"], \"stack_to_render\": [], \"heap\": {\"1\": [\"LIST\", \"pallavolo\", \"tennis\", \"calcio\", \"nuoto\"]}, \"stdout\": \"\"}, {\"line\": 5, \"event\": \"step_line\", \"func_name\": \"<module>\", \"globals\": {\"sport\": [\"REF\", 1], \"elemento\": \"pallavolo\"}, \"ordered_globals\": [\"sport\", \"elemento\"], \"stack_to_render\": [], \"heap\": {\"1\": [\"LIST\", \"pallavolo\", \"tennis\", \"calcio\", \"nuoto\"]}, \"stdout\": \"Trovato un elemento!\\n\"}, {\"line\": 3, \"event\": \"step_line\", \"func_name\": \"<module>\", \"globals\": {\"sport\": [\"REF\", 1], \"elemento\": \"pallavolo\"}, \"ordered_globals\": [\"sport\", \"elemento\"], \"stack_to_render\": [], \"heap\": {\"1\": [\"LIST\", \"pallavolo\", \"tennis\", \"calcio\", \"nuoto\"]}, \"stdout\": \"Trovato un elemento!\\npallavolo\\n\"}, {\"line\": 4, \"event\": \"step_line\", \"func_name\": \"<module>\", \"globals\": {\"sport\": [\"REF\", 1], \"elemento\": \"tennis\"}, \"ordered_globals\": [\"sport\", \"elemento\"], \"stack_to_render\": [], \"heap\": {\"1\": [\"LIST\", \"pallavolo\", \"tennis\", \"calcio\", \"nuoto\"]}, \"stdout\": \"Trovato un elemento!\\npallavolo\\n\"}, {\"line\": 5, \"event\": \"step_line\", \"func_name\": \"<module>\", \"globals\": {\"sport\": [\"REF\", 1], \"elemento\": \"tennis\"}, \"ordered_globals\": [\"sport\", \"elemento\"], \"stack_to_render\": [], \"heap\": {\"1\": [\"LIST\", \"pallavolo\", \"tennis\", \"calcio\", \"nuoto\"]}, \"stdout\": \"Trovato un elemento!\\npallavolo\\nTrovato un elemento!\\n\"}, {\"line\": 3, \"event\": \"step_line\", \"func_name\": \"<module>\", \"globals\": {\"sport\": [\"REF\", 1], \"elemento\": \"tennis\"}, \"ordered_globals\": [\"sport\", \"elemento\"], \"stack_to_render\": [], \"heap\": {\"1\": [\"LIST\", \"pallavolo\", \"tennis\", \"calcio\", \"nuoto\"]}, \"stdout\": \"Trovato un elemento!\\npallavolo\\nTrovato un elemento!\\ntennis\\n\"}, {\"line\": 4, \"event\": \"step_line\", \"func_name\": \"<module>\", \"globals\": {\"sport\": [\"REF\", 1], \"elemento\": \"calcio\"}, \"ordered_globals\": [\"sport\", \"elemento\"], \"stack_to_render\": [], \"heap\": {\"1\": [\"LIST\", \"pallavolo\", \"tennis\", \"calcio\", \"nuoto\"]}, \"stdout\": \"Trovato un elemento!\\npallavolo\\nTrovato un elemento!\\ntennis\\n\"}, {\"line\": 5, \"event\": \"step_line\", \"func_name\": \"<module>\", \"globals\": {\"sport\": [\"REF\", 1], \"elemento\": \"calcio\"}, \"ordered_globals\": [\"sport\", \"elemento\"], \"stack_to_render\": [], \"heap\": {\"1\": [\"LIST\", \"pallavolo\", \"tennis\", \"calcio\", \"nuoto\"]}, \"stdout\": \"Trovato un elemento!\\npallavolo\\nTrovato un elemento!\\ntennis\\nTrovato un elemento!\\n\"}, {\"line\": 3, \"event\": \"step_line\", \"func_name\": \"<module>\", \"globals\": {\"sport\": [\"REF\", 1], \"elemento\": \"calcio\"}, \"ordered_globals\": [\"sport\", \"elemento\"], \"stack_to_render\": [], \"heap\": {\"1\": [\"LIST\", \"pallavolo\", \"tennis\", \"calcio\", \"nuoto\"]}, \"stdout\": \"Trovato un elemento!\\npallavolo\\nTrovato un elemento!\\ntennis\\nTrovato un elemento!\\ncalcio\\n\"}, {\"line\": 4, \"event\": \"step_line\", \"func_name\": \"<module>\", \"globals\": {\"sport\": [\"REF\", 1], \"elemento\": \"nuoto\"}, \"ordered_globals\": [\"sport\", \"elemento\"], \"stack_to_render\": [], \"heap\": {\"1\": [\"LIST\", \"pallavolo\", \"tennis\", \"calcio\", \"nuoto\"]}, \"stdout\": \"Trovato un elemento!\\npallavolo\\nTrovato un elemento!\\ntennis\\nTrovato un elemento!\\ncalcio\\n\"}, {\"line\": 5, \"event\": \"step_line\", \"func_name\": \"<module>\", \"globals\": {\"sport\": [\"REF\", 1], \"elemento\": \"nuoto\"}, \"ordered_globals\": [\"sport\", \"elemento\"], \"stack_to_render\": [], \"heap\": {\"1\": [\"LIST\", \"pallavolo\", \"tennis\", \"calcio\", \"nuoto\"]}, \"stdout\": \"Trovato un elemento!\\npallavolo\\nTrovato un elemento!\\ntennis\\nTrovato un elemento!\\ncalcio\\nTrovato un elemento!\\n\"}, {\"line\": 3, \"event\": \"step_line\", \"func_name\": \"<module>\", \"globals\": {\"sport\": [\"REF\", 1], \"elemento\": \"nuoto\"}, \"ordered_globals\": [\"sport\", \"elemento\"], \"stack_to_render\": [], \"heap\": {\"1\": [\"LIST\", \"pallavolo\", \"tennis\", \"calcio\", \"nuoto\"]}, \"stdout\": \"Trovato un elemento!\\npallavolo\\nTrovato un elemento!\\ntennis\\nTrovato un elemento!\\ncalcio\\nTrovato un elemento!\\nnuoto\\n\"}, {\"line\": 7, \"event\": \"step_line\", \"func_name\": \"<module>\", \"globals\": {\"sport\": [\"REF\", 1], \"elemento\": \"nuoto\"}, \"ordered_globals\": [\"sport\", \"elemento\"], \"stack_to_render\": [], \"heap\": {\"1\": [\"LIST\", \"pallavolo\", \"tennis\", \"calcio\", \"nuoto\"]}, \"stdout\": \"Trovato un elemento!\\npallavolo\\nTrovato un elemento!\\ntennis\\nTrovato un elemento!\\ncalcio\\nTrovato un elemento!\\nnuoto\\n\"}, {\"line\": 7, \"event\": \"return\", \"func_name\": \"<module>\", \"globals\": {\"sport\": [\"REF\", 1], \"elemento\": \"nuoto\"}, \"ordered_globals\": [\"sport\", \"elemento\"], \"stack_to_render\": [], \"heap\": {\"1\": [\"LIST\", \"pallavolo\", \"tennis\", \"calcio\", \"nuoto\"]}, \"stdout\": \"Trovato un elemento!\\npallavolo\\nTrovato un elemento!\\ntennis\\nTrovato un elemento!\\ncalcio\\nTrovato un elemento!\\nnuoto\\nFinito!\\n\"}]}\n",
       "        </script>\n",
       "        <div id=\"jm487b919b-4f8c-4016-8b33-6304639ca507\" class=\"pytutorVisualizer\"> </div>\n",
       " \n",
       "        <style>\n",
       "        .vizLayoutTd {\n",
       "            background-color: #fff !important;\n",
       "        }\n",
       "\n",
       "        #pyStdout {            \n",
       "            min-height:25px;\n",
       "        }\n",
       "\n",
       "        /* 'Edit this code' link, hiding because replaces browser tab !!!*/\n",
       "        #editCodeLinkDiv {\n",
       "            display:none;  \n",
       "        }\n",
       "        </style>   \n",
       "                            \n",
       "        <script>\n",
       "        (function(){\n",
       "\n",
       "            var trace = JSON.parse(document.getElementById('json-jm487b919b-4f8c-4016-8b33-6304639ca507').innerHTML);                                        \n",
       "            // NOTE 1: id without #\n",
       "            // NOTE 2 - maybe there are more predictable ways, but this will work anyway\n",
       "            //        - id should be number\n",
       "            visualizerIdOverride = Math.trunc(Math.random() * 100000000000)\n",
       "            addVisualizerToPage(trace, 'jm487b919b-4f8c-4016-8b33-6304639ca507',{'embeddedMode' : false,\n",
       "                                             'visualizerIdOverride':visualizerIdOverride})  \n",
       "            \n",
       "            \n",
       "            // set overflow for pytuts - need to do in python as css \n",
       "            // does not allow parent selection\n",
       "            var pytuts = $('.pytutorVisualizer')\n",
       "            pytuts.closest('div.output_html.rendered_html.output_result')\n",
       "                    .css('overflow-x', 'visible')\n",
       "        \n",
       "            //pytuts.closest('div.output_html.rendered_html.output_result')\n",
       "            //      .css('background-color','red')                \n",
       "            \n",
       "        })()\n",
       "        </script>\n",
       "                \n",
       "                "
      ],
      "text/plain": [
       "<IPython.core.display.HTML object>"
      ]
     },
     "execution_count": 5,
     "metadata": {},
     "output_type": "execute_result"
    }
   ],
   "source": [
    "sport = ['pallavolo', 'tennis', 'calcio', 'nuoto']\n",
    "for elemento in sport:\n",
    "    print('Trovato un elemento!')\n",
    "    print(elemento)\n",
    "\n",
    "print('Finito!')\n",
    "\n",
    "jupman.pytut()"
   ]
  },
  {
   "cell_type": "markdown",
   "metadata": {},
   "source": [
    "### Nomi variabili nei `for`\n",
    "\n",
    "Ad ogni iterazione, un elemento della lista viene assegnato alla variabile `elemento`. \n",
    "\n",
    "Come nome per la variabile possiamo scegliere quello che ci pare, per esempio questo codice è totalmente equivalente al precedente: "
   ]
  },
  {
   "cell_type": "code",
   "execution_count": 6,
   "metadata": {},
   "outputs": [
    {
     "name": "stdout",
     "output_type": "stream",
     "text": [
      "Trovato un elemento!\n",
      "pallavolo\n",
      "Trovato un elemento!\n",
      "tennis\n",
      "Trovato un elemento!\n",
      "calcio\n",
      "Trovato un elemento!\n",
      "nuoto\n",
      "Finito!\n"
     ]
    }
   ],
   "source": [
    "sport = ['pallavolo', 'tennis', 'calcio', 'nuoto']\n",
    "for nome in sport:\n",
    "    print('Trovato un elemento!')\n",
    "    print(nome)\n",
    "    \n",
    "print('Finito!')    "
   ]
  },
  {
   "cell_type": "markdown",
   "metadata": {},
   "source": [
    "Bisogna però fare attenzione ad una cosa:\n",
    "\n",
    "<div class=\"alert alert-warning\">\n",
    "\n",
    "[II COMANDAMENTO](https://it.softpython.org/commandments.html#II-COMANDAMENTO): **Quando inserisci una variabile in un ciclo** `for` **, questa variabile deve essere nuova**"
   ]
  },
  {
   "cell_type": "markdown",
   "metadata": {},
   "source": [
    "Se hai definito la variabile prima, non la reintrodurrai in un `for`, perchè ciò portebbe gran confusione.\n",
    "\n",
    "Per esempio:"
   ]
  },
  {
   "cell_type": "code",
   "execution_count": 7,
   "metadata": {},
   "outputs": [
    {
     "name": "stdout",
     "output_type": "stream",
     "text": [
      "pallavolo\n",
      "tennis\n",
      "calcio\n",
      "nuoto\n",
      "nuoto\n"
     ]
    }
   ],
   "source": [
    "sport = ['pallavolo', 'tennis', 'calcio', 'nuoto']\n",
    "prova = 'ciao' \n",
    "\n",
    "for prova in sport:  # perdi la variabile  prova  originale\n",
    "    print(prova)\n",
    "\n",
    "print(prova) # stampa 'nuoto' invece di 'ciao'"
   ]
  },
  {
   "cell_type": "markdown",
   "metadata": {},
   "source": [
    "### Iterare in stringhe\n",
    "\n",
    "Le stringhe sono sequenze di caratteri perciò possiamo iterarle con il `for`:"
   ]
  },
  {
   "cell_type": "code",
   "execution_count": 8,
   "metadata": {},
   "outputs": [
    {
     "name": "stdout",
     "output_type": "stream",
     "text": [
      "c\n",
      "i\n",
      "a\n",
      "o\n"
     ]
    }
   ],
   "source": [
    "for carattere in \"ciao\":\n",
    "    print(carattere)"
   ]
  },
  {
   "cell_type": "markdown",
   "metadata": {},
   "source": [
    "### Iterare in tuple\n",
    "\n",
    "Anche le tuple sono sequenze quindi possiamo iterarle:"
   ]
  },
  {
   "cell_type": "code",
   "execution_count": 9,
   "metadata": {},
   "outputs": [
    {
     "name": "stdout",
     "output_type": "stream",
     "text": [
      "sto\n",
      "visitando\n",
      "una\n",
      "tupla\n"
     ]
    }
   ],
   "source": [
    "for parola in ('sto', 'visitando', 'una', 'tupla'):\n",
    "    print(parola)"
   ]
  },
  {
   "cell_type": "markdown",
   "metadata": {},
   "source": [
    "\n",
    "### Domande\n",
    "\n",
    "Guarda i seguenti frammenti di codice, e per ciascuno cerca di indovinare quale risultato produce (o se da errore):\n",
    "\n",
    "    \n",
    "1.  ```python\n",
    "    for i in [1,2,3]:\n",
    "        print(i)\n",
    "    ```\n",
    "    \n",
    "1.  ```python\n",
    "    for x in 7:\n",
    "        print(x)\n",
    "    ```\n",
    "1.  ```python\n",
    "    for x in [7]:\n",
    "        print(x)\n",
    "    ```    \n",
    "1.  ```python\n",
    "    for x in ['a','b','c']:        \n",
    "        x\n",
    "    ```    \n",
    "1.  ```python\n",
    "    for i in []:\n",
    "        print('GURB')\n",
    "    ```    \n",
    "1.  ```python\n",
    "    for i in [1,2,3]:\n",
    "        print(type(i))\n",
    "    ```\n",
    "1.  ```python\n",
    "    for i in '123':\n",
    "        print(type(i))    \n",
    "    ```\n",
    "1.  ```python\n",
    "    for i in 'abc':\n",
    "        print(i)\n",
    "    ```    \n",
    "1.  ```python\n",
    "    for x in ((4,5,6)):\n",
    "        print(x)\n",
    "    ```\n",
    "1.  ```python\n",
    "    for x in [[1],[2,3],[4,5,6]]:\n",
    "        print(x)\n",
    "    ```\n",
    "1.  ```python\n",
    "    x = 5\n",
    "    for x in ['a','b','c']:\n",
    "        print(x)\n",
    "    print(x)\n",
    "    ```\n",
    "1.  ```python\n",
    "    for x in ['a','b','c']:        \n",
    "        pass\n",
    "    print(x)\n",
    "    ```\n",
    "1.  ```python\n",
    "    for x in [1,2,3,4,5,6,7,8]:\n",
    "        if x % 2 == 0:\n",
    "            print(x)\n",
    "    ```\n",
    "1.  ```python\n",
    "    la = [4,5,6]\n",
    "    for x in la:\n",
    "        print(x)\n",
    "    la.reverse()\n",
    "    for x in la[1:]:\n",
    "        print(x)    \n",
    "    ```"
   ]
  },
  {
   "cell_type": "markdown",
   "metadata": {},
   "source": [
    "### Esercizio - tappeto magico\n",
    "\n",
    "✪ Qualche mese fa hai acquistato un tappeto da un venditore ambulante. Tempo dopo, alla fine di un giorno particolarmente stressante,  esclami 'Ah quanto vorrei andare in vacanza in qualche posto esotico, che so, a _Marrakesh_!' Con sorpresa, il tappeto si alza in aria e risponde: 'Ho sentito e obbedisco!'\n",
    "\n",
    "Scrivi del codice che data le liste di luoghi `vaggio1` e `viaggio2` stampa tutte le tappe visitate.\n",
    "\n",
    "Esempio - dati:\n",
    "\n",
    "```python\n",
    "viaggio1 = ['Marrakesh','Fez','Bazaar','Kasbah']\n",
    "viaggio2 = ['Koutoubia', 'El Badii', 'Chellah']\n",
    "```\n",
    "\n",
    "Stampa:\n",
    "```\n",
    "Inizia il primo viaggio\n",
    "        Tu: Andiamo a  Marrakesh !\n",
    "   Tappeto: Ho sentito e obbedisco!\n",
    "        Tu: Andiamo a  Fez !\n",
    "   Tappeto: Ho sentito e obbedisco!\n",
    "        Tu: Andiamo a  Bazaar !\n",
    "   Tappeto: Ho sentito e obbedisco!\n",
    "        Tu: Andiamo a  Kasbah !\n",
    "   Tappeto: Ho sentito e obbedisco!\n",
    "Fine del primo viaggio\n",
    "\n",
    "Inizia il secondo viaggio\n",
    "        Tu: Andiamo a  Koutoubia !\n",
    "   Tappeto: Ho sentito e obbedisco!\n",
    "        Tu: Andiamo a  El Badii !\n",
    "   Tappeto: Ho sentito e obbedisco!\n",
    "        Tu: Andiamo a  Chellah !\n",
    "   Tappeto: Ho sentito e obbedisco!\n",
    "Fine del secondo viaggio\n",
    "```"
   ]
  },
  {
   "cell_type": "raw",
   "id": "73e4fb87",
   "metadata": {
    "format": "text/html"
   },
   "source": [
    "<a  class=\"jupman-sol jupman-sol-toggler\" \n",
    " onclick=\"jupman.toggleSolution(this);\" \n",
    " data-jupman-show=\"Mostra soluzione\" data-jupman-hide=\"Nascondi\">Mostra soluzione</a><div class=\"jupman-sol jupman-sol-code\" style=\"display:none\">  "
   ]
  },
  {
   "cell_type": "code",
   "execution_count": 10,
   "metadata": {
    "scrolled": true
   },
   "outputs": [
    {
     "name": "stdout",
     "output_type": "stream",
     "text": [
      "Inizia il primo viaggio\n",
      "        Tu: Andiamo a  Marrakesh !\n",
      "   Tappeto: Ho sentito e obbedisco!\n",
      "        Tu: Andiamo a  Fez !\n",
      "   Tappeto: Ho sentito e obbedisco!\n",
      "        Tu: Andiamo a  Bazaar !\n",
      "   Tappeto: Ho sentito e obbedisco!\n",
      "        Tu: Andiamo a  Kasbah !\n",
      "   Tappeto: Ho sentito e obbedisco!\n",
      "Fine del primo viaggio\n",
      "\n",
      "Inizia il secondo viaggio\n",
      "        Tu: Andiamo a  Koutoubia !\n",
      "   Tappeto: Ho sentito e obbedisco!\n",
      "        Tu: Andiamo a  El Badii !\n",
      "   Tappeto: Ho sentito e obbedisco!\n",
      "        Tu: Andiamo a  Chellah !\n",
      "   Tappeto: Ho sentito e obbedisco!\n",
      "Fine del secondo viaggio\n"
     ]
    }
   ],
   "source": [
    "\n",
    "viaggio1 = ['Marrakesh','Fez','Bazaar','Kasbah']\n",
    "viaggio2 = ['Koutoubia', 'El Badii', 'Chellah']\n",
    "\n",
    "\n",
    "# scrivi qui\n",
    "print('Inizia il primo viaggio')\n",
    "for luogo in viaggio1:\n",
    "    print('        Tu: Andiamo a ',luogo,'!')\n",
    "    print('   Tappeto: Ho sentito e obbedisco!')\n",
    "print('Fine del primo viaggio')\n",
    "\n",
    "print()\n",
    "\n",
    "print('Inizia il secondo viaggio')\n",
    "for luogo in viaggio2:\n",
    "    print('        Tu: Andiamo a ',luogo,'!')\n",
    "    print('   Tappeto: Ho sentito e obbedisco!')\n",
    "print('Fine del secondo viaggio')\n",
    "\n",
    "    "
   ]
  },
  {
   "cell_type": "raw",
   "id": "190b6e8c",
   "metadata": {
    "format": "text/html"
   },
   "source": [
    "</div>"
   ]
  },
  {
   "cell_type": "code",
   "execution_count": 10,
   "metadata": {
    "scrolled": true
   },
   "outputs": [],
   "source": [
    "\n",
    "viaggio1 = ['Marrakesh','Fez','Bazaar','Kasbah']\n",
    "viaggio2 = ['Koutoubia', 'El Badii', 'Chellah']\n",
    "\n",
    "\n",
    "# scrivi qui\n",
    "\n"
   ]
  },
  {
   "cell_type": "markdown",
   "metadata": {},
   "source": [
    "### Esercizio - sommapari\n",
    "\n",
    "✪ Data la lista `numeri`, scrivi del codice che calcola e stampa la somma degli **elementi** pari (**non** gli elementi ad indici pari !)\n",
    "\n",
    "Esempio - data:\n",
    "\n",
    "```python\n",
    "numeri = [3,4,1,5,12,7,9]\n",
    "```\n",
    "\n",
    "trova `4` e `12` quindi deve stampare:\n",
    "\n",
    "```\n",
    "16\n",
    "```"
   ]
  },
  {
   "cell_type": "raw",
   "id": "f3cf482e",
   "metadata": {
    "format": "text/html"
   },
   "source": [
    "<a  class=\"jupman-sol jupman-sol-toggler\" \n",
    " onclick=\"jupman.toggleSolution(this);\" \n",
    " data-jupman-show=\"Mostra soluzione\" data-jupman-hide=\"Nascondi\">Mostra soluzione</a><div class=\"jupman-sol jupman-sol-code\" style=\"display:none\">  "
   ]
  },
  {
   "cell_type": "code",
   "execution_count": 11,
   "metadata": {},
   "outputs": [
    {
     "name": "stdout",
     "output_type": "stream",
     "text": [
      "16\n"
     ]
    }
   ],
   "source": [
    "\n",
    "numeri = [3,4,1,5,12,7,9]\n",
    "\n",
    "# scrivi qui\n",
    "s = 0\n",
    "for x in numeri:\n",
    "    if x % 2 == 0:\n",
    "        s += x\n",
    "print(s)"
   ]
  },
  {
   "cell_type": "raw",
   "id": "7984a8be",
   "metadata": {
    "format": "text/html"
   },
   "source": [
    "</div>"
   ]
  },
  {
   "cell_type": "code",
   "execution_count": 11,
   "metadata": {},
   "outputs": [],
   "source": [
    "\n",
    "numeri = [3,4,1,5,12,7,9]\n",
    "\n",
    "# scrivi qui\n",
    "\n"
   ]
  },
  {
   "cell_type": "markdown",
   "metadata": {},
   "source": [
    "### Esercizio - birbantello\n",
    "\n",
    "✪ Data una stringa in minuscolo, scrivere del codice che stampa ogni carattere in maiuscolo seguito dal carattere in minuscolo.\n",
    "\n",
    "* **SUGGERIMENTO**: per ottenere caratteri in maiuscolo usa il metodo `.upper()`\n",
    "\n",
    "Esempio - data:\n",
    "\n",
    "```python\n",
    "s = \"birbantello\"\n",
    "```\n",
    "\n",
    "Stampa:\n",
    "\n",
    "```\n",
    "B b\n",
    "I i\n",
    "R r\n",
    "B b\n",
    "A a\n",
    "N n\n",
    "T t\n",
    "E e\n",
    "L l\n",
    "L l\n",
    "O o\n",
    "```"
   ]
  },
  {
   "cell_type": "raw",
   "id": "de87108b",
   "metadata": {
    "format": "text/html"
   },
   "source": [
    "<a  class=\"jupman-sol jupman-sol-toggler\" \n",
    " onclick=\"jupman.toggleSolution(this);\" \n",
    " data-jupman-show=\"Mostra soluzione\" data-jupman-hide=\"Nascondi\">Mostra soluzione</a><div class=\"jupman-sol jupman-sol-code\" style=\"display:none\">  "
   ]
  },
  {
   "cell_type": "code",
   "execution_count": 12,
   "metadata": {},
   "outputs": [
    {
     "name": "stdout",
     "output_type": "stream",
     "text": [
      "B b\n",
      "I i\n",
      "R r\n",
      "B b\n",
      "A a\n",
      "N n\n",
      "T t\n",
      "E e\n",
      "L l\n",
      "L l\n",
      "O o\n"
     ]
    }
   ],
   "source": [
    "\n",
    "s = \"birbantello\"\n",
    "\n",
    "# scrivi qui\n",
    "for x in s:\n",
    "    print(x.upper(), x)"
   ]
  },
  {
   "cell_type": "raw",
   "id": "ad48f948",
   "metadata": {
    "format": "text/html"
   },
   "source": [
    "</div>"
   ]
  },
  {
   "cell_type": "code",
   "execution_count": 12,
   "metadata": {},
   "outputs": [],
   "source": [
    "\n",
    "s = \"birbantello\"\n",
    "\n",
    "# scrivi qui\n",
    "\n"
   ]
  },
  {
   "cell_type": "markdown",
   "metadata": {},
   "source": [
    "### Esercizio - dirigibile\n",
    "\n",
    "✪ A Pierino viene fatta imparare una nuova `parola`. Pierino conosce tante lettere dell'alfabeto ma non tutte. Per ricordarsi quelle che conosce, le tratta come personaggi che divide in 3 categorie: `belli`, `brutti` e `cattivi`. Scrivi del codice che data una `parola` stampa tutti i caratteri e per ciascuno indica se è bello, brutto o cattivo. Se un carattere non è conosciuto da Pierino, stampa 'non mi interessa'.\n",
    "\n",
    "Esempio - dati:\n",
    "\n",
    "```python\n",
    "parola = 'dirigibile'\n",
    "\n",
    "belli = 'abcd'\n",
    "brutti = 'efgh'\n",
    "cattivi = 'ilm'\n",
    "```\n",
    "\n",
    "\n",
    "Stampa:\n",
    "\n",
    "```\n",
    "d è bello\n",
    "i è cattivo\n",
    "r non mi interessa\n",
    "i è cattivo\n",
    "g è brutto\n",
    "i è cattivo\n",
    "b è bello\n",
    "i è cattivo\n",
    "l è cattivo\n",
    "e è brutto\n",
    "```\n",
    "\n"
   ]
  },
  {
   "cell_type": "raw",
   "id": "d09f9302",
   "metadata": {
    "format": "text/html"
   },
   "source": [
    "<a  class=\"jupman-sol jupman-sol-toggler\" \n",
    " onclick=\"jupman.toggleSolution(this);\" \n",
    " data-jupman-show=\"Mostra soluzione\" data-jupman-hide=\"Nascondi\">Mostra soluzione</a><div class=\"jupman-sol jupman-sol-code\" style=\"display:none\">  "
   ]
  },
  {
   "cell_type": "code",
   "execution_count": 13,
   "metadata": {},
   "outputs": [
    {
     "name": "stdout",
     "output_type": "stream",
     "text": [
      "d è bello\n",
      "i è cattivo\n",
      "r non mi interessa\n",
      "i è cattivo\n",
      "g è brutto\n",
      "i è cattivo\n",
      "b è bello\n",
      "i è cattivo\n",
      "l è cattivo\n",
      "e è brutto\n"
     ]
    }
   ],
   "source": [
    "\n",
    "parola = 'dirigibile'\n",
    "\n",
    "belli = 'abcd'\n",
    "brutti = 'efgh'\n",
    "cattivi = 'ilm'\n",
    "\n",
    "# scrivi qui\n",
    "\n",
    "for c in parola:\n",
    "    if c in belli:\n",
    "        print(c,'è bello')\n",
    "    elif c in brutti:\n",
    "        print(c, 'è brutto')\n",
    "    elif c in cattivi:\n",
    "        print(c, 'è cattivo')\n",
    "    else:\n",
    "        print(c, 'non mi interessa')\n",
    "        "
   ]
  },
  {
   "cell_type": "raw",
   "id": "741f5137",
   "metadata": {
    "format": "text/html"
   },
   "source": [
    "</div>"
   ]
  },
  {
   "cell_type": "code",
   "execution_count": 13,
   "metadata": {},
   "outputs": [],
   "source": [
    "\n",
    "parola = 'dirigibile'\n",
    "\n",
    "belli = 'abcd'\n",
    "brutti = 'efgh'\n",
    "cattivi = 'ilm'\n",
    "\n",
    "# scrivi qui\n",
    "\n"
   ]
  },
  {
   "cell_type": "markdown",
   "metadata": {},
   "source": [
    "### Esercizio - gala\n",
    "\n",
    "✪ Ad un evento di gala vengono invitate figure altolocate della società. All'inizio della serata sono aperte le porte e gli ospiti si mettono in `coda` all'ingresso. Sfortunatamente, a queste occasioni cercano sempre di presentarsi anche personaggi poco raccomandabili, perciò al concierge nell'atrio viene consegnato un insieme di ospiti `sgraditi`. Qualora un ospite sia riconosciuto come non gradito, verrà affidato alle capaci mani del buttafuori Ferruccio. Gli ospiti illustri vengono invece segnati nella lista `ammessi`. \n",
    "\n",
    "Scrivi del codice che stampa i vari passi del ricevimento.\n",
    "\n",
    "Esempio - dati:\n",
    "\n",
    "```python\n",
    "coda = ['Console','Notaio','Scheletro','Rettore','Goblin','Vampiro', 'Gioielliere']\n",
    "sgraditi = {'Vampiro','Goblin','Scheletro'}\n",
    "ammessi = []\n",
    "```"
   ]
  },
  {
   "cell_type": "markdown",
   "metadata": {},
   "source": [
    "Stampa:\n",
    "\n",
    "```\n",
    "Aprite le porte!\n",
    "\n",
    "Buonasera Signor Console\n",
    "  Prego Eccellenza, entri pure\n",
    "  Avanti il prossimo !\n",
    "Buonasera Signor Notaio\n",
    "  Prego Eccellenza, entri pure\n",
    "  Avanti il prossimo !\n",
    "Buonasera Signor Scheletro\n",
    "  Ferruccio, vuoi prenderti cura del signor Scheletro ?\n",
    "  Avanti il prossimo !\n",
    "Buonasera Signor Rettore\n",
    "  Prego Eccellenza, entri pure\n",
    "  Avanti il prossimo !\n",
    "Buonasera Signor Goblin\n",
    "  Ferruccio, vuoi prenderti cura del signor Goblin ?\n",
    "  Avanti il prossimo !\n",
    "Buonasera Signor Vampiro\n",
    "  Ferruccio, vuoi prenderti cura del signor Vampiro ?\n",
    "  Avanti il prossimo !\n",
    "Buonasera Signor Gioielliere\n",
    "  Prego Eccellenza, entri pure\n",
    "  Avanti il prossimo !\n",
    "\n",
    "Sono stati ammessi i signori Console, Notaio, Rettore, Gioielliere\n",
    "```"
   ]
  },
  {
   "cell_type": "raw",
   "id": "566f64a5",
   "metadata": {
    "format": "text/html"
   },
   "source": [
    "<a  class=\"jupman-sol jupman-sol-toggler\" \n",
    " onclick=\"jupman.toggleSolution(this);\" \n",
    " data-jupman-show=\"Mostra soluzione\" data-jupman-hide=\"Nascondi\">Mostra soluzione</a><div class=\"jupman-sol jupman-sol-code\" style=\"display:none\">  "
   ]
  },
  {
   "cell_type": "code",
   "execution_count": 14,
   "metadata": {},
   "outputs": [
    {
     "name": "stdout",
     "output_type": "stream",
     "text": [
      "Aprite le porte!\n",
      "\n",
      "Buonasera Signor Console\n",
      "  Prego Eccellenza, entri pure\n",
      "  Avanti il prossimo !\n",
      "Buonasera Signor Notaio\n",
      "  Prego Eccellenza, entri pure\n",
      "  Avanti il prossimo !\n",
      "Buonasera Signor Scheletro\n",
      "  Ferruccio, vuoi prenderti cura del signor Scheletro ?\n",
      "  Avanti il prossimo !\n",
      "Buonasera Signor Rettore\n",
      "  Prego Eccellenza, entri pure\n",
      "  Avanti il prossimo !\n",
      "Buonasera Signor Goblin\n",
      "  Ferruccio, vuoi prenderti cura del signor Goblin ?\n",
      "  Avanti il prossimo !\n",
      "Buonasera Signor Vampiro\n",
      "  Ferruccio, vuoi prenderti cura del signor Vampiro ?\n",
      "  Avanti il prossimo !\n",
      "Buonasera Signor Gioielliere\n",
      "  Prego Eccellenza, entri pure\n",
      "  Avanti il prossimo !\n",
      "\n",
      "Sono stati ammessi i signori Console, Notaio, Rettore, Gioielliere\n"
     ]
    }
   ],
   "source": [
    "\n",
    "coda = ['Console','Notaio','Scheletro','Rettore','Goblin','Vampiro', 'Gioielliere']\n",
    "sgraditi = {'Vampiro','Goblin','Scheletro'}\n",
    "ammessi = []\n",
    "\n",
    "# scrivi qui\n",
    "print('Aprite le porte!')\n",
    "print()\n",
    "for ospite in coda:\n",
    "    \n",
    "    print('Buonasera Signor', ospite)\n",
    "    if ospite in sgraditi:\n",
    "        print(\"  Ferruccio, vuoi prenderti cura del signor\", ospite, '?')\n",
    "    else:\n",
    "        print(\"  Prego Eccellenza, entri pure\")\n",
    "        ammessi.append(ospite)\n",
    "    print('  Avanti il prossimo !')\n",
    "    \n",
    "print()\n",
    "print('Sono stati ammessi i signori', ', '.join(ammessi))"
   ]
  },
  {
   "cell_type": "raw",
   "id": "3f076be8",
   "metadata": {
    "format": "text/html"
   },
   "source": [
    "</div>"
   ]
  },
  {
   "cell_type": "code",
   "execution_count": 14,
   "metadata": {},
   "outputs": [],
   "source": [
    "\n",
    "coda = ['Console','Notaio','Scheletro','Rettore','Goblin','Vampiro', 'Gioielliere']\n",
    "sgraditi = {'Vampiro','Goblin','Scheletro'}\n",
    "ammessi = []\n",
    "\n",
    "# scrivi qui\n",
    "\n"
   ]
  },
  {
   "cell_type": "markdown",
   "metadata": {},
   "source": [
    "### Esercizio - bilancia\n",
    "\n",
    "✪✪ E' stato fatto un raccolto di sementi, che verranno messe in un certo numero di `sacchi` da `capienza` kg l'uno (es `15`). \n",
    "\n",
    "Le sementi arrivano in `recipienti` di capacità variabile. Ogni recipiente viene messo su una bilancia e il suo contenuto versato nel sacco corrente. Nel momento in cui si arriva alla quantità `capienza`, la bilancia si svuota, il sacco viene sostituito con uno nuovo e si comincia a riempire quello nuovo partendo dagli eventuali resti in eccesso dal riempimento precedente. Scrivi del codice che stampa il procedimento.\n",
    "\n",
    "Esempio - dati:\n",
    "\n",
    "```python\n",
    "recipienti = [5,1,7,4,3,9,5,2,7,3]\n",
    "capienza = 15\n",
    "```\n",
    "\n",
    "Stampa:\n",
    "\n",
    "```\n",
    "Raccolto 5 kg\n",
    "La bilancia segna 5 kg\n",
    "Raccolto 1 kg\n",
    "La bilancia segna 6 kg\n",
    "Raccolto 7 kg\n",
    "La bilancia segna 13 kg\n",
    "Raccolto 4 kg\n",
    "La bilancia segna 17 kg\n",
    "Abbiamo raggiunto la capienza di 15 kg, avanzano 2 kg\n",
    "\n",
    "Raccolto 3 kg\n",
    "La bilancia segna 5 kg\n",
    "Raccolto 9 kg\n",
    "La bilancia segna 14 kg\n",
    "Raccolto 5 kg\n",
    "La bilancia segna 19 kg\n",
    "Abbiamo raggiunto la capienza di 15 kg, avanzano 4 kg\n",
    "\n",
    "Raccolto 2 kg\n",
    "La bilancia segna 6 kg\n",
    "Raccolto 7 kg\n",
    "La bilancia segna 13 kg\n",
    "Raccolto 3 kg\n",
    "La bilancia segna 16 kg\n",
    "Abbiamo raggiunto la capienza di 15 kg, avanzano 1 kg\n",
    "\n",
    "Abbiamo riempito 3 sacchi\n",
    "```"
   ]
  },
  {
   "cell_type": "raw",
   "id": "d48bebb5",
   "metadata": {
    "format": "text/html"
   },
   "source": [
    "<a  class=\"jupman-sol jupman-sol-toggler\" \n",
    " onclick=\"jupman.toggleSolution(this);\" \n",
    " data-jupman-show=\"Mostra soluzione\" data-jupman-hide=\"Nascondi\">Mostra soluzione</a><div class=\"jupman-sol jupman-sol-code\" style=\"display:none\">  "
   ]
  },
  {
   "cell_type": "code",
   "execution_count": 15,
   "metadata": {},
   "outputs": [
    {
     "name": "stdout",
     "output_type": "stream",
     "text": [
      "Raccolto 5 kg\n",
      "La bilancia segna 5 kg\n",
      "Raccolto 1 kg\n",
      "La bilancia segna 6 kg\n",
      "Raccolto 7 kg\n",
      "La bilancia segna 13 kg\n",
      "Raccolto 4 kg\n",
      "La bilancia segna 17 kg\n",
      "Abbiamo raggiunto la capienza di 15 kg, avanzano 2 kg\n",
      "\n",
      "Raccolto 3 kg\n",
      "La bilancia segna 5 kg\n",
      "Raccolto 9 kg\n",
      "La bilancia segna 14 kg\n",
      "Raccolto 5 kg\n",
      "La bilancia segna 19 kg\n",
      "Abbiamo raggiunto la capienza di 15 kg, avanzano 4 kg\n",
      "\n",
      "Raccolto 2 kg\n",
      "La bilancia segna 6 kg\n",
      "Raccolto 7 kg\n",
      "La bilancia segna 13 kg\n",
      "Raccolto 3 kg\n",
      "La bilancia segna 16 kg\n",
      "Abbiamo raggiunto la capienza di 15 kg, avanzano 1 kg\n",
      "\n",
      "Abbiamo riempito 3 sacchi\n"
     ]
    }
   ],
   "source": [
    "\n",
    "recipienti = [5,1,7,4,3,9,5,2,7,3]\n",
    "capienza = 15\n",
    "\n",
    "# scrivi qui\n",
    "sacchi= 0\n",
    "k = 0\n",
    "for n in recipienti:\n",
    "    k += n\n",
    "    print('Raccolto', n, 'kg')\n",
    "    print('La bilancia segna', k,'kg')\n",
    "    if k >= capienza:\n",
    "        \n",
    "        print('Abbiamo raggiunto la capienza di',capienza,'kg, avanzano', k - capienza, 'kg')\n",
    "        print()\n",
    "        k = k - capienza\n",
    "        sacchi += 1\n",
    "        \n",
    "print('Abbiamo riempito', sacchi, 'sacchi')"
   ]
  },
  {
   "cell_type": "raw",
   "id": "0d7bd001",
   "metadata": {
    "format": "text/html"
   },
   "source": [
    "</div>"
   ]
  },
  {
   "cell_type": "code",
   "execution_count": 15,
   "metadata": {},
   "outputs": [],
   "source": [
    "\n",
    "recipienti = [5,1,7,4,3,9,5,2,7,3]\n",
    "capienza = 15\n",
    "\n",
    "# scrivi qui\n",
    "\n"
   ]
  },
  {
   "cell_type": "markdown",
   "metadata": {},
   "source": [
    "## Contare con range\n",
    "\n",
    "Se abbiamo bisogno di contare a quale iterazione siamo, possiamo usare la sequenza iterabile `range`, che produce una serie di numeri interi da `0` INCLUSO fino al numero specificato ESCLUSO:"
   ]
  },
  {
   "cell_type": "code",
   "execution_count": 16,
   "metadata": {},
   "outputs": [
    {
     "name": "stdout",
     "output_type": "stream",
     "text": [
      "0\n",
      "1\n",
      "2\n",
      "3\n",
      "4\n"
     ]
    }
   ],
   "source": [
    "for i in range(5):\n",
    "    print(i)"
   ]
  },
  {
   "cell_type": "markdown",
   "metadata": {},
   "source": [
    "Nota come _non_ abbia stampato l'estremo `5`.\n",
    "\n",
    "Quando chiamiamo `range` possiamo anche specificare l'indice di partenza, che viene INCLUSO nella sequenza generata, mentre l'indice di arrivo è sempre ESCLUSO:"
   ]
  },
  {
   "cell_type": "code",
   "execution_count": 17,
   "metadata": {},
   "outputs": [
    {
     "name": "stdout",
     "output_type": "stream",
     "text": [
      "3\n",
      "4\n",
      "5\n",
      "6\n"
     ]
    }
   ],
   "source": [
    "for i in range(3,7):\n",
    "    print(i)"
   ]
  },
  {
   "cell_type": "markdown",
   "metadata": {},
   "source": [
    "**Contare a intervalli:** possiamo specificare l'incremento da applicare al contatore ad ogni iterazione passando un terzo parametero, qua per esempio specifichiamo un incremento di `2` (nota come l'indice finale `18` rimanga ESCLUSO dalla sequenza):"
   ]
  },
  {
   "cell_type": "code",
   "execution_count": 18,
   "metadata": {},
   "outputs": [
    {
     "name": "stdout",
     "output_type": "stream",
     "text": [
      "4\n",
      "6\n",
      "8\n",
      "10\n",
      "12\n",
      "14\n",
      "16\n"
     ]
    }
   ],
   "source": [
    "for i in range(4,18,2):\n",
    "    print(i)"
   ]
  },
  {
   "cell_type": "markdown",
   "metadata": {},
   "source": [
    "**Ordine inverso**: Si può contare al contrario usando un incremento negativo:"
   ]
  },
  {
   "cell_type": "code",
   "execution_count": 19,
   "metadata": {},
   "outputs": [
    {
     "name": "stdout",
     "output_type": "stream",
     "text": [
      "5\n",
      "4\n",
      "3\n",
      "2\n",
      "1\n"
     ]
    }
   ],
   "source": [
    "for i in range(5,0,-1):\n",
    "    print(i)"
   ]
  },
  {
   "cell_type": "markdown",
   "metadata": {},
   "source": [
    "Nota come il limite `0` _non_ sia stato raggiunto, per arrivarci occorre scrivere"
   ]
  },
  {
   "cell_type": "code",
   "execution_count": 20,
   "metadata": {},
   "outputs": [
    {
     "name": "stdout",
     "output_type": "stream",
     "text": [
      "5\n",
      "4\n",
      "3\n",
      "2\n",
      "1\n",
      "0\n"
     ]
    }
   ],
   "source": [
    "for i in range(5,-1,-1):\n",
    "    print(i)"
   ]
  },
  {
   "cell_type": "markdown",
   "metadata": {},
   "source": [
    "\n",
    "### Domande - range\n",
    "\n",
    "Guarda i seguenti frammenti di codice, e per ciascuno cerca di indovinare quale risultato produce (o se da errore):\n",
    "\n",
    "\n",
    "1.  ```python\n",
    "    for x in range(1):\n",
    "        print(x)\n",
    "    ```\n",
    "1.  ```python\n",
    "    for i in range(3):\n",
    "        i\n",
    "    ```    \n",
    "1.  ```python\n",
    "    for i in range(3):\n",
    "    print(i)    \n",
    "    ```        \n",
    "1.  ```python\n",
    "    for x in range(-1):\n",
    "        print(x)\n",
    "    ```\n",
    "1.  ```python\n",
    "    for 'm' in range(3):\n",
    "        print('m')\n",
    "    ```\n",
    "1.  ```python\n",
    "    for i in range(3):\n",
    "        i-1    \n",
    "    ```    \n",
    "1.  ```python\n",
    "    for x in range(6,4,-1):\n",
    "        print(x)\n",
    "    ```\n",
    "1.  ```python\n",
    "    for x in range(1,0,-1):\n",
    "        print(x)\n",
    "    ```            \n",
    "1.  ```python\n",
    "    for x in range(3,-3,-2):\n",
    "        print(x)\n",
    "    ```    \n",
    "1.  ```python\n",
    "    for x in 3:\n",
    "        print(x)\n",
    "    ```\n",
    "1.  ```\n",
    "    x = 3\n",
    "    for i in range(x):\n",
    "        print(i)\n",
    "    for i in range(x,2*x):\n",
    "        print(i)\n",
    "    ```    \n",
    "    \n",
    "1.  ```python\n",
    "    for x in range(range(3)):\n",
    "        print(x)\n",
    "    ```\n"
   ]
  },
  {
   "cell_type": "markdown",
   "metadata": {},
   "source": [
    "### Esercizio - stampadoppi\n",
    "\n",
    "✪ Dato un numero positivo `n` (per es `n=4`) scrivi del codice che stampa:\n",
    "\n",
    "```\n",
    "il doppio di 0 è 0\n",
    "il doppio di 1 è 2\n",
    "il doppio di 2 è 4\n",
    "il doppio di 3 è 6\n",
    "```"
   ]
  },
  {
   "cell_type": "raw",
   "id": "4797db17",
   "metadata": {
    "format": "text/html"
   },
   "source": [
    "<a  class=\"jupman-sol jupman-sol-toggler\" \n",
    " onclick=\"jupman.toggleSolution(this);\" \n",
    " data-jupman-show=\"Mostra soluzione\" data-jupman-hide=\"Nascondi\">Mostra soluzione</a><div class=\"jupman-sol jupman-sol-code\" style=\"display:none\">  "
   ]
  },
  {
   "cell_type": "code",
   "execution_count": 21,
   "metadata": {},
   "outputs": [
    {
     "name": "stdout",
     "output_type": "stream",
     "text": [
      "il doppio di 0 è 0\n",
      "il doppio di 1 è 2\n",
      "il doppio di 2 è 4\n",
      "il doppio di 3 è 6\n"
     ]
    }
   ],
   "source": [
    "\n",
    "n = 4\n",
    "# scrivi qui\n",
    "for i in range(n):\n",
    "    print('il doppio di', i, 'è', i*2)    "
   ]
  },
  {
   "cell_type": "raw",
   "id": "4b332879",
   "metadata": {
    "format": "text/html"
   },
   "source": [
    "</div>"
   ]
  },
  {
   "cell_type": "code",
   "execution_count": 21,
   "metadata": {},
   "outputs": [],
   "source": [
    "\n",
    "n = 4\n",
    "# scrivi qui\n",
    "\n"
   ]
  },
  {
   "cell_type": "markdown",
   "metadata": {},
   "source": [
    "### Esercizio - multipli e non\n",
    "\n",
    "✪✪ Scrivi del codice che dati due numeri interi positivi `k` e `b`: \n",
    "\n",
    "* prima stampa tutti i numeri da `k` INCLUSO a `b` INCLUSO che sono multipli di `k`\n",
    "* poi stampa tutti i numeri da `k` ESCLUSO a `b` ESCLUSO che NON sono multipli di `k`\n",
    "\n",
    "Esempio - dati\n",
    "\n",
    "```python\n",
    "k,b = 3,15\n",
    "```\n",
    "\n",
    "deve stampare:\n",
    "\n",
    "```\n",
    "Multipli di 3\n",
    "3\n",
    "6\n",
    "9\n",
    "12\n",
    "15\n",
    "\n",
    "Non divisibili per 3:\n",
    "4\n",
    "5\n",
    "7\n",
    "8\n",
    "10\n",
    "11\n",
    "13\n",
    "14\n",
    "```"
   ]
  },
  {
   "cell_type": "raw",
   "id": "940ca3f5",
   "metadata": {
    "format": "text/html"
   },
   "source": [
    "<a  class=\"jupman-sol jupman-sol-toggler\" \n",
    " onclick=\"jupman.toggleSolution(this);\" \n",
    " data-jupman-show=\"Mostra soluzione\" data-jupman-hide=\"Nascondi\">Mostra soluzione</a><div class=\"jupman-sol jupman-sol-code\" style=\"display:none\">  "
   ]
  },
  {
   "cell_type": "code",
   "execution_count": 22,
   "metadata": {},
   "outputs": [
    {
     "name": "stdout",
     "output_type": "stream",
     "text": [
      "Multipli di 3\n",
      "3\n",
      "6\n",
      "9\n",
      "12\n",
      "15\n",
      "\n",
      "Non divisibili per 3\n",
      "4\n",
      "5\n",
      "7\n",
      "8\n",
      "10\n",
      "11\n",
      "13\n",
      "14\n"
     ]
    }
   ],
   "source": [
    "\n",
    "k,b = 3,15\n",
    "\n",
    "# scrivi qui\n",
    "print('Multipli di', k)\n",
    "for i in range(k,b+1,k):\n",
    "    print(i)\n",
    "print()\n",
    "print('Non divisibili per', k)    \n",
    "for i in range(k+1,b):\n",
    "    if i % k != 0:\n",
    "        print(i)"
   ]
  },
  {
   "cell_type": "raw",
   "id": "cbf82b39",
   "metadata": {
    "format": "text/html"
   },
   "source": [
    "</div>"
   ]
  },
  {
   "cell_type": "code",
   "execution_count": 22,
   "metadata": {},
   "outputs": [],
   "source": [
    "\n",
    "k,b = 3,15\n",
    "\n",
    "# scrivi qui\n",
    "\n"
   ]
  },
  {
   "cell_type": "markdown",
   "metadata": {},
   "source": [
    "### Esercizio - intervallo ab\n",
    "\n",
    "✪✪ Data due interi `a` e `b` maggiori o uguali a zero , scrivere del codice che stampa tutti i numeri interi tra i due estremi INCLUSI\n",
    "\n",
    "* **NOTA**: `a` può essere maggiore, uguale o minore di `b`, il tuo codice deve gestire tutti i casi.\n",
    "\n",
    "Esempio 1 - dati\n",
    "\n",
    "```python\n",
    "a,b = 5,9\n",
    "```\n",
    "deve stampare\n",
    "\n",
    "```\n",
    "5\n",
    "6\n",
    "7\n",
    "8\n",
    "9\n",
    "```\n",
    "\n",
    "Esempio 2 - dati\n",
    "\n",
    "```python\n",
    "a,b = 8,3 \n",
    "```\n",
    "deve stampare\n",
    "\n",
    "```\n",
    "3\n",
    "4\n",
    "5\n",
    "6\n",
    "7\n",
    "8\n",
    "```"
   ]
  },
  {
   "cell_type": "raw",
   "id": "1ef51beb",
   "metadata": {
    "format": "text/html"
   },
   "source": [
    "<a  class=\"jupman-sol jupman-sol-toggler\" \n",
    " onclick=\"jupman.toggleSolution(this);\" \n",
    " data-jupman-show=\"Mostra soluzione\" data-jupman-hide=\"Nascondi\">Mostra soluzione</a><div class=\"jupman-sol jupman-sol-code\" style=\"display:none\">  "
   ]
  },
  {
   "cell_type": "code",
   "execution_count": 23,
   "metadata": {},
   "outputs": [
    {
     "name": "stdout",
     "output_type": "stream",
     "text": [
      "5\n",
      "6\n",
      "7\n",
      "8\n",
      "9\n"
     ]
    }
   ],
   "source": [
    "\n",
    "a,b = 5,9  # 5 6 7 8 9\n",
    "#a,b = 8,3  # 3 4 5 6 7 8\n",
    "#a,b = 6,6   # 6\n",
    "\n",
    "# scrivi qui\n",
    "\n",
    "minimo = min(a,b)\n",
    "massimo = max(a,b)\n",
    "\n",
    "for x in range(minimo, massimo + 1):\n",
    "    print(x)"
   ]
  },
  {
   "cell_type": "raw",
   "id": "fb078fd5",
   "metadata": {
    "format": "text/html"
   },
   "source": [
    "</div>"
   ]
  },
  {
   "cell_type": "code",
   "execution_count": 23,
   "metadata": {},
   "outputs": [],
   "source": [
    "\n",
    "a,b = 5,9  # 5 6 7 8 9\n",
    "#a,b = 8,3  # 3 4 5 6 7 8\n",
    "#a,b = 6,6   # 6\n",
    "\n",
    "# scrivi qui\n",
    "\n"
   ]
  },
  {
   "cell_type": "markdown",
   "metadata": {},
   "source": [
    "## Iterare per indici\n",
    "\n",
    "Se abbiamo una sequenza come una lista, a volte è necessario conoscere in quale cella si è durante l'iterazione: per farlo serve tener traccia degli indici. Possiamo generare gli indici da controllare con `range`, e usarli per accedere ad una lista:"
   ]
  },
  {
   "cell_type": "code",
   "execution_count": 24,
   "metadata": {},
   "outputs": [
    {
     "name": "stdout",
     "output_type": "stream",
     "text": [
      "posizione 0\n",
      "pallavolo\n",
      "posizione 1\n",
      "tennis\n",
      "posizione 2\n",
      "calcio\n",
      "posizione 3\n",
      "nuoto\n"
     ]
    }
   ],
   "source": [
    "sport = ['pallavolo', 'tennis', 'calcio', 'nuoto']\n",
    "\n",
    "for i in range(len(sport)):\n",
    "    print('posizione', i)\n",
    "    print(sport[i])"
   ]
  },
  {
   "cell_type": "markdown",
   "metadata": {},
   "source": [
    "Nota come abbiamo passato a `range` la dimensione della lista con `len`"
   ]
  },
  {
   "cell_type": "markdown",
   "metadata": {},
   "source": [
    "### Esercizio - cucina\n",
    "\n",
    "✪ Scrivi del codice che data una lista di stringhe `cucina` in numero pari, stampa le coppie di elementi che si possono trovare in sequenza, una riga alla volta\n",
    "\n",
    "Esempio - dati:\n",
    "\n",
    "```python\n",
    "cucina = ['dado', 'minestra', 'uova', 'torta', 'sugo', 'pasta', 'ragù', 'lasagne']\n",
    "```\n",
    "\n",
    "Stampa:\n",
    "\n",
    "```\n",
    "dado minestra\n",
    "uova torta\n",
    "sugo pasta\n",
    "ragù lasagne\n",
    "```\n"
   ]
  },
  {
   "cell_type": "raw",
   "id": "0d3c7331",
   "metadata": {
    "format": "text/html"
   },
   "source": [
    "<a  class=\"jupman-sol jupman-sol-toggler\" \n",
    " onclick=\"jupman.toggleSolution(this);\" \n",
    " data-jupman-show=\"Mostra soluzione\" data-jupman-hide=\"Nascondi\">Mostra soluzione</a><div class=\"jupman-sol jupman-sol-code\" style=\"display:none\">  "
   ]
  },
  {
   "cell_type": "code",
   "execution_count": 25,
   "metadata": {},
   "outputs": [
    {
     "name": "stdout",
     "output_type": "stream",
     "text": [
      "dado minestra\n",
      "uova torta\n",
      "sugo pasta\n",
      "ragù lasagne\n"
     ]
    }
   ],
   "source": [
    "\n",
    "cucina = ['dado', 'minestra', 'uova', 'torta', 'sugo', 'pasta', 'ragù', 'lasagne']\n",
    "\n",
    "# scrivi qui\n",
    "for i in range(0,len(cucina)-1, 2):\n",
    "    print(cucina[i], cucina[i+1])"
   ]
  },
  {
   "cell_type": "raw",
   "id": "cd186df7",
   "metadata": {
    "format": "text/html"
   },
   "source": [
    "</div>"
   ]
  },
  {
   "cell_type": "code",
   "execution_count": 25,
   "metadata": {},
   "outputs": [],
   "source": [
    "\n",
    "cucina = ['dado', 'minestra', 'uova', 'torta', 'sugo', 'pasta', 'ragù', 'lasagne']\n",
    "\n",
    "# scrivi qui\n",
    "\n"
   ]
  },
  {
   "cell_type": "markdown",
   "metadata": {},
   "source": [
    "### Esercizio - neon\n",
    "\n",
    "✪ Date due liste `la` e `lb` _di uguale lunghezza_ $n$, scrivi del codice che stampa su $n$ righe i loro caratteri separati da uno spazio\n",
    "\n",
    "Esempio - dati:\n",
    "\n",
    "```python\n",
    "la = ['n','e','o','n']\n",
    "lb = ['s','h','o','w']\n",
    "```\n",
    "\n",
    "stampa\n",
    "\n",
    "```\n",
    "n s\n",
    "e h\n",
    "o o\n",
    "n w\n",
    "```"
   ]
  },
  {
   "cell_type": "raw",
   "id": "6ec92f06",
   "metadata": {
    "format": "text/html"
   },
   "source": [
    "<a  class=\"jupman-sol jupman-sol-toggler\" \n",
    " onclick=\"jupman.toggleSolution(this);\" \n",
    " data-jupman-show=\"Mostra soluzione\" data-jupman-hide=\"Nascondi\">Mostra soluzione</a><div class=\"jupman-sol jupman-sol-code\" style=\"display:none\">  "
   ]
  },
  {
   "cell_type": "code",
   "execution_count": 26,
   "metadata": {},
   "outputs": [
    {
     "name": "stdout",
     "output_type": "stream",
     "text": [
      "n s\n",
      "e h\n",
      "o o\n",
      "n w\n"
     ]
    }
   ],
   "source": [
    "\n",
    "la = ['n','e','o','n']\n",
    "lb = ['s','h','o','w']\n",
    "\n",
    "# scrivi qui\n",
    "\n",
    "for i in range(len(la)):     \n",
    "    print(la[i],lb[i])"
   ]
  },
  {
   "cell_type": "raw",
   "id": "e8156830",
   "metadata": {
    "format": "text/html"
   },
   "source": [
    "</div>"
   ]
  },
  {
   "cell_type": "code",
   "execution_count": 26,
   "metadata": {},
   "outputs": [],
   "source": [
    "\n",
    "la = ['n','e','o','n']\n",
    "lb = ['s','h','o','w']\n",
    "\n",
    "# scrivi qui\n",
    "\n"
   ]
  },
  {
   "cell_type": "markdown",
   "metadata": {},
   "source": [
    "### Esercizio - emozioni\n",
    "\n",
    "✪ Date una lista di stringhe `emozioni` e una  `grado` contenente numeri `-1` e `1`, scrivi del codice che stampa le emozioni affiancandole a 'positivo' se il corrispondente grado è un numero maggiore di zero e 'negativa'.\n",
    "\n",
    "Esempio - dati:\n",
    "\n",
    "```python\n",
    "emozioni = ['Paura', 'Rabbia','Tristezza','Gioia','Disgusto','Estasi']\n",
    "grado =    [-1,       -1,     -1,          1,     -1,         1]\n",
    "```\n",
    "\n",
    "stampa: \n",
    "\n",
    "```\n",
    "Paura : negativa\n",
    "Rabbia : negativa\n",
    "Tristezza : negativa\n",
    "Gioia : positiva\n",
    "Disgusto : negativa\n",
    "Estasi : positiva\n",
    "```\n"
   ]
  },
  {
   "cell_type": "raw",
   "id": "1d457cff",
   "metadata": {
    "format": "text/html"
   },
   "source": [
    "<a  class=\"jupman-sol jupman-sol-toggler\" \n",
    " onclick=\"jupman.toggleSolution(this);\" \n",
    " data-jupman-show=\"Mostra soluzione\" data-jupman-hide=\"Nascondi\">Mostra soluzione</a><div class=\"jupman-sol jupman-sol-code\" style=\"display:none\">  "
   ]
  },
  {
   "cell_type": "code",
   "execution_count": 27,
   "metadata": {},
   "outputs": [
    {
     "name": "stdout",
     "output_type": "stream",
     "text": [
      "Paura : negativa\n",
      "Rabbia : negativa\n",
      "Tristezza : negativa\n",
      "Gioia : positiva\n",
      "Disgusto : negativa\n",
      "Estasi : positiva\n"
     ]
    }
   ],
   "source": [
    "\n",
    "emozioni = ['Paura', 'Rabbia','Tristezza','Gioia','Disgusto','Estasi']\n",
    "grado =     [-1,       -1,     -1,          1,     -1,         1]\n",
    "\n",
    "# scrivi qui\n",
    "for i in range(len(emozioni)):\n",
    "    if grado[i] > 0:\n",
    "        print(emozioni[i], ': positiva')\n",
    "    else:\n",
    "        print(emozioni[i], ': negativa')"
   ]
  },
  {
   "cell_type": "raw",
   "id": "5077cb1b",
   "metadata": {
    "format": "text/html"
   },
   "source": [
    "</div>"
   ]
  },
  {
   "cell_type": "code",
   "execution_count": 27,
   "metadata": {},
   "outputs": [],
   "source": [
    "\n",
    "emozioni = ['Paura', 'Rabbia','Tristezza','Gioia','Disgusto','Estasi']\n",
    "grado =     [-1,       -1,     -1,          1,     -1,         1]\n",
    "\n",
    "# scrivi qui\n",
    "\n"
   ]
  },
  {
   "cell_type": "markdown",
   "metadata": {},
   "source": [
    "### Esercizio - organetto\n",
    "\n",
    "✪ Data una stringa `s`, scrivi del codice che stampa tutte le sottostringhe ottenibili partendo dalla posizione della lettera `'n'` e che terminino con l'ultimo carattere di `s`.\n",
    "\n",
    "Esempio - data:\n",
    "\n",
    "```python\n",
    "s = 'organetto'\n",
    "```\n",
    "\n",
    "Stampa:\n",
    "\n",
    "```\n",
    "netto\n",
    "etto\n",
    "tto\n",
    "to\n",
    "o\n",
    "\n",
    "```\n"
   ]
  },
  {
   "cell_type": "raw",
   "id": "1af87fc1",
   "metadata": {
    "format": "text/html"
   },
   "source": [
    "<a  class=\"jupman-sol jupman-sol-toggler\" \n",
    " onclick=\"jupman.toggleSolution(this);\" \n",
    " data-jupman-show=\"Mostra soluzione\" data-jupman-hide=\"Nascondi\">Mostra soluzione</a><div class=\"jupman-sol jupman-sol-code\" style=\"display:none\">  "
   ]
  },
  {
   "cell_type": "code",
   "execution_count": 28,
   "metadata": {},
   "outputs": [
    {
     "name": "stdout",
     "output_type": "stream",
     "text": [
      "netto\n",
      "etto\n",
      "tto\n",
      "to\n",
      "o\n"
     ]
    }
   ],
   "source": [
    "\n",
    "s = 'organetto'\n",
    "\n",
    "# scrivi qui\n",
    "for i in range(s.index('n'), len(s)):\n",
    "    print(s[i:])"
   ]
  },
  {
   "cell_type": "raw",
   "id": "524b1849",
   "metadata": {
    "format": "text/html"
   },
   "source": [
    "</div>"
   ]
  },
  {
   "cell_type": "code",
   "execution_count": 28,
   "metadata": {},
   "outputs": [],
   "source": [
    "\n",
    "s = 'organetto'\n",
    "\n",
    "# scrivi qui\n",
    "\n"
   ]
  },
  {
   "cell_type": "markdown",
   "metadata": {},
   "source": [
    "### Esercizio - sghiribizzo\n",
    "\n",
    "Scrivi del codice che data la stringa `s` stampa tutte le possibili combinazioni di coppie di righe tali per cui una riga inizia con i primi caratteri di `s` e la successiva continua con i restanti caratteri.\n",
    "\n",
    "Esempio - data\n",
    "\n",
    "```python\n",
    "s = 'sghiribizzo'\n",
    "```\n",
    "\n",
    "stampa:\n",
    "\n",
    "```\n",
    "s\n",
    " ghiribizzo\n",
    "sg\n",
    "  hiribizzo\n",
    "sgh\n",
    "   iribizzo\n",
    "sghi\n",
    "    ribizzo\n",
    "sghir\n",
    "     ibizzo\n",
    "sghiri\n",
    "      bizzo\n",
    "sghirib\n",
    "       izzo\n",
    "sghiribi\n",
    "        zzo\n",
    "sghiribiz\n",
    "         zo\n",
    "sghiribizz\n",
    "          o\n",
    "sghiribizzo           \n",
    "```"
   ]
  },
  {
   "cell_type": "raw",
   "id": "a469a920",
   "metadata": {
    "format": "text/html"
   },
   "source": [
    "<a  class=\"jupman-sol jupman-sol-toggler\" \n",
    " onclick=\"jupman.toggleSolution(this);\" \n",
    " data-jupman-show=\"Mostra soluzione\" data-jupman-hide=\"Nascondi\">Mostra soluzione</a><div class=\"jupman-sol jupman-sol-code\" style=\"display:none\">  "
   ]
  },
  {
   "cell_type": "code",
   "execution_count": 29,
   "metadata": {},
   "outputs": [
    {
     "name": "stdout",
     "output_type": "stream",
     "text": [
      "s\n",
      " ghiribizzo\n",
      "sg\n",
      "  hiribizzo\n",
      "sgh\n",
      "   iribizzo\n",
      "sghi\n",
      "    ribizzo\n",
      "sghir\n",
      "     ibizzo\n",
      "sghiri\n",
      "      bizzo\n",
      "sghirib\n",
      "       izzo\n",
      "sghiribi\n",
      "        zzo\n",
      "sghiribiz\n",
      "         zo\n",
      "sghiribizz\n",
      "          o\n",
      "sghiribizzo\n",
      "           \n"
     ]
    }
   ],
   "source": [
    "\n",
    "s = 'sghiribizzo'\n",
    "# scrivi qui\n",
    "for i in range(len(s)):    \n",
    "    print(s[:i+1])\n",
    "    print(' '*i,s[i+1:])\n",
    "    "
   ]
  },
  {
   "cell_type": "raw",
   "id": "c1c9cc20",
   "metadata": {
    "format": "text/html"
   },
   "source": [
    "</div>"
   ]
  },
  {
   "cell_type": "code",
   "execution_count": 29,
   "metadata": {},
   "outputs": [],
   "source": [
    "\n",
    "s = 'sghiribizzo'\n",
    "# scrivi qui\n",
    "\n"
   ]
  },
  {
   "cell_type": "markdown",
   "metadata": {},
   "source": [
    "### Esercizio - dna\n",
    "\n",
    "Date due stringhe di DNA `s1` e `s2` di uguale lunghezza, scrivi del codice che stampa tra la prima e la seconda stringa un'altra stringa costituita da spazi ` `  e pipe $|$ in corrispondenza dei caratteri uguali.\n",
    "\n",
    "* **SUGGERIMENTO**: crea una lista contenente i caratteri spazio o il carattere $|$, e alla fine converti a stringa usando il metodo `join` delle stringhe (fare così è molto più efficiente che continuare a generare stringhe con l'operatore `+`)\n",
    "\n",
    "Esempio - date:\n",
    "\n",
    "```python\n",
    "s1 = \"ATACATATAGGGCCAATTATTATAAGTCAC\"\n",
    "s2 = \"CGCCACTTAAGCGCCCTGTATTAAAGTCGC\"\n",
    "```\n",
    "\n",
    "Stampa:\n",
    "\n",
    "```\n",
    "ATACATATAGGGCCAATTATTATAAGTCAC\n",
    "   ||  || |  |  |   |  ||||| |\n",
    "CGCCACTTAAGCGCCCTGTATTAAAGTCGC\n",
    "```"
   ]
  },
  {
   "cell_type": "raw",
   "id": "2b6ce25f",
   "metadata": {
    "format": "text/html"
   },
   "source": [
    "<a  class=\"jupman-sol jupman-sol-toggler\" \n",
    " onclick=\"jupman.toggleSolution(this);\" \n",
    " data-jupman-show=\"Mostra soluzione\" data-jupman-hide=\"Nascondi\">Mostra soluzione</a><div class=\"jupman-sol jupman-sol-code\" style=\"display:none\">  "
   ]
  },
  {
   "cell_type": "code",
   "execution_count": 30,
   "metadata": {},
   "outputs": [
    {
     "name": "stdout",
     "output_type": "stream",
     "text": [
      "ATACATATAGGGCCAATTATTATAAGTCAC\n",
      "   ||  || |  |  |   |  ||||| |\n",
      "CGCCACTTAAGCGCCCTGTATTAAAGTCGC\n"
     ]
    }
   ],
   "source": [
    "\n",
    "s1 = \"ATACATATAGGGCCAATTATTATAAGTCAC\"\n",
    "s2 = \"CGCCACTTAAGCGCCCTGTATTAAAGTCGC\"\n",
    "\n",
    "# scrivi qui\n",
    "lista = []\n",
    "for i in range(len(s1)):\n",
    "    if(s1[i] == s2[i]):\n",
    "        lista.append('|')\n",
    "    else:\n",
    "        lista.append(' ')\n",
    "\n",
    "barre = ''.join(lista)\n",
    "        \n",
    "print(s1)\n",
    "print(barre)\n",
    "print(s2)\n"
   ]
  },
  {
   "cell_type": "raw",
   "id": "57f44bf2",
   "metadata": {
    "format": "text/html"
   },
   "source": [
    "</div>"
   ]
  },
  {
   "cell_type": "code",
   "execution_count": 30,
   "metadata": {},
   "outputs": [],
   "source": [
    "\n",
    "s1 = \"ATACATATAGGGCCAATTATTATAAGTCAC\"\n",
    "s2 = \"CGCCACTTAAGCGCCCTGTATTAAAGTCGC\"\n",
    "\n",
    "# scrivi qui\n",
    "\n"
   ]
  },
  {
   "cell_type": "markdown",
   "metadata": {},
   "source": [
    "\n",
    "### Esercizio - sportello\n",
    "\n",
    "✪✪ Data una stringa `s`, stampa la prima metà di caratteri in minuscolo e la seguente metà in maiuscolo.\n",
    "\n",
    "* se la stringa è di lunghezza dispari, la prima metà deve avere un carattere _in più_ rispetto alla seconda\n",
    "\n",
    "Esempio - data:\n",
    "\n",
    "```python\n",
    "s = 'sportello'\n",
    "```\n",
    "\n",
    "Il tuo codice deve stampare:\n",
    "\n",
    "```\n",
    "s\n",
    "p\n",
    "o\n",
    "r\n",
    "t\n",
    "E\n",
    "L\n",
    "L\n",
    "O\n",
    "```\n",
    "\n",
    "(nota che 'sportello' ha lunghezza dispari e ci sono _cinque_ caratteri nella prima metà e _quattro_ nella seconda)"
   ]
  },
  {
   "cell_type": "raw",
   "id": "c6606ff2",
   "metadata": {
    "format": "text/html"
   },
   "source": [
    "<a  class=\"jupman-sol jupman-sol-toggler\" \n",
    " onclick=\"jupman.toggleSolution(this);\" \n",
    " data-jupman-show=\"Mostra soluzione\" data-jupman-hide=\"Nascondi\">Mostra soluzione</a><div class=\"jupman-sol jupman-sol-code\" style=\"display:none\">  "
   ]
  },
  {
   "cell_type": "code",
   "execution_count": 31,
   "metadata": {},
   "outputs": [
    {
     "name": "stdout",
     "output_type": "stream",
     "text": [
      "s\n",
      "p\n",
      "o\n",
      "r\n",
      "t\n",
      "E\n",
      "L\n",
      "L\n",
      "O\n"
     ]
    }
   ],
   "source": [
    "\n",
    "s = 'sportello'  # sportELLO\n",
    "#s = 'maglia'     # magLIA\n",
    "\n",
    "# scrivi qui\n",
    "\n",
    "if len(s) % 2 == 1:\n",
    "    mezzo = (len(s) // 2) + 1\n",
    "else:\n",
    "    mezzo = (len(s) // 2)\n",
    "\n",
    "for i in range(mezzo):\n",
    "    print(s[i])\n",
    "    \n",
    "for i in range(mezzo, len(s)):\n",
    "    print(s[i].upper())"
   ]
  },
  {
   "cell_type": "raw",
   "id": "75e59fa2",
   "metadata": {
    "format": "text/html"
   },
   "source": [
    "</div>"
   ]
  },
  {
   "cell_type": "code",
   "execution_count": 31,
   "metadata": {},
   "outputs": [],
   "source": [
    "\n",
    "s = 'sportello'  # sportELLO\n",
    "#s = 'maglia'     # magLIA\n",
    "\n",
    "# scrivi qui\n",
    "\n"
   ]
  },
  {
   "cell_type": "markdown",
   "metadata": {},
   "source": [
    "### Esercizio - fattoria\n",
    "\n",
    "✪✪ Dato un dizionario `versi` che associa nomi di animali ai versi che fanno, e una lista `stanze` di tuple da 2 elementi contenenti nomi di animali, scrivi del codice che per ogni stanza stampa i versi che si sentono passandoci davanti. \n",
    "\n",
    "- **NOTA**: le stanze da stampare sono numerate **a partire da 1**\n",
    "\n",
    "Esempio - dati:\n",
    "\n",
    "```\n",
    "versi = {'cane':'Bau!',\n",
    "         'gatto':'Miao!',\n",
    "         'mucca':'Muu!',\n",
    "         'pecora':'Bee!'}\n",
    "\n",
    "stanze = [('cane', 'pecora'), \n",
    "          ('gatto','mucca'), \n",
    "          ('mucca', 'cane')]\n",
    "```\n",
    "\n",
    "Stampa:\n",
    "\n",
    "```\n",
    "Nella stanza 1 si sentono Bau! e Bee!\n",
    "Nella stanza 2 si sentono Miao! e Muu!\n",
    "Nella stanza 3 si sentono Muu! e Bau!\n",
    "```"
   ]
  },
  {
   "cell_type": "raw",
   "id": "f143328c",
   "metadata": {
    "format": "text/html"
   },
   "source": [
    "<a  class=\"jupman-sol jupman-sol-toggler\" \n",
    " onclick=\"jupman.toggleSolution(this);\" \n",
    " data-jupman-show=\"Mostra soluzione\" data-jupman-hide=\"Nascondi\">Mostra soluzione</a><div class=\"jupman-sol jupman-sol-code\" style=\"display:none\">  "
   ]
  },
  {
   "cell_type": "code",
   "execution_count": 32,
   "metadata": {},
   "outputs": [
    {
     "name": "stdout",
     "output_type": "stream",
     "text": [
      "Nella stanza 1 si sentono Bau! e Bee!\n",
      "Nella stanza 2 si sentono Miao! e Muu!\n",
      "Nella stanza 3 si sentono Muu! e Bau!\n"
     ]
    }
   ],
   "source": [
    "\n",
    "versi = {'cane':'Bau!',\n",
    "         'gatto':'Miao!',\n",
    "         'mucca':'Muu!',\n",
    "         'pecora':'Bee!'}\n",
    "\n",
    "stanze = [('cane', 'pecora'), \n",
    "          ('gatto','mucca'), \n",
    "          ('mucca', 'cane')]\n",
    "\n",
    "# scrivi qui\n",
    "\n",
    "for i in range(len(stanze)):\n",
    "    stanza = stanze[i]\n",
    "    print('Nella stanza',i+1,'si sentono',versi[stanza[0]], 'e', versi[stanza[1]])\n",
    "    "
   ]
  },
  {
   "cell_type": "raw",
   "id": "c96f6cc5",
   "metadata": {
    "format": "text/html"
   },
   "source": [
    "</div>"
   ]
  },
  {
   "cell_type": "code",
   "execution_count": 32,
   "metadata": {},
   "outputs": [],
   "source": [
    "\n",
    "versi = {'cane':'Bau!',\n",
    "         'gatto':'Miao!',\n",
    "         'mucca':'Muu!',\n",
    "         'pecora':'Bee!'}\n",
    "\n",
    "stanze = [('cane', 'pecora'), \n",
    "          ('gatto','mucca'), \n",
    "          ('mucca', 'cane')]\n",
    "\n",
    "# scrivi qui\n",
    "\n"
   ]
  },
  {
   "cell_type": "markdown",
   "metadata": {},
   "source": [
    "### Esercizio - pokemon\n",
    "\n",
    "✪✪✪ Data una lista `pokemon` e un numero `g` di gruppi, scrivi del codice per stampare `g` righe mostrando i componenti di ogni gruppo. Forma i gruppi prendendo i pokemon nell'ordine in cui li trovi nella lista.\n",
    "\n",
    "* **SUGGERIMENTO 1**: per ottenere il numero di componenti in un gruppo dovrai usare la divisione intera `//`\n",
    "* **SUGGERIMENTO 2**: per stampare i componenti di un gruppo, usa il metodo `join` delle stringhe\n",
    "\n",
    "Esempio 1 - dati\n",
    "\n",
    "```python\n",
    "#               0         1          2         3            4         5     \n",
    "pokemon = ['Charizard','Gengar','Arcanine','Bulbasaur','Blaziken','Umbreon', \n",
    "#               6         7          8         9           10          11\n",
    "           'Lucario','Gardevoir','Eevee','Dragonite', 'Volcarona', 'Sylveon' ]\n",
    "g = 3\n",
    "```\n",
    "\n",
    "stampa\n",
    "\n",
    "```\n",
    "gruppo 1 : Charizard e Gengar e Arcanine e Bulbasaur\n",
    "gruppo 2 : Blaziken e Umbreon e Lucario e Gardevoir\n",
    "gruppo 3 : Eevee e Dragonite e Volcarona e Sylveon\n",
    "```\n",
    "\n",
    "Esempio 2 - dati\n",
    "\n",
    "```python\n",
    "#               0         1          2         3            4         5     \n",
    "pokemon = ['Charizard','Gengar','Arcanine','Bulbasaur','Blaziken','Umbreon', \n",
    "#               6         7          8         9           10          11\n",
    "           'Lucario','Gardevoir','Eevee','Dragonite', 'Volcarona', 'Sylveon' ]\n",
    "\n",
    "g = 4\n",
    "```\n",
    "\n",
    "stampa \n",
    "\n",
    "```python\n",
    "gruppo 1 : Charizard e Gengar e Arcanine\n",
    "gruppo 2 : Bulbasaur e Blaziken e Umbreon\n",
    "gruppo 3 : Lucario e Gardevoir e Eevee\n",
    "gruppo 4 : Dragonite e Volcarona e Sylveon\n",
    "```"
   ]
  },
  {
   "cell_type": "raw",
   "id": "c19873b0",
   "metadata": {
    "format": "text/html"
   },
   "source": [
    "<a  class=\"jupman-sol jupman-sol-toggler\" \n",
    " onclick=\"jupman.toggleSolution(this);\" \n",
    " data-jupman-show=\"Mostra soluzione\" data-jupman-hide=\"Nascondi\">Mostra soluzione</a><div class=\"jupman-sol jupman-sol-code\" style=\"display:none\">  "
   ]
  },
  {
   "cell_type": "code",
   "execution_count": 33,
   "metadata": {},
   "outputs": [
    {
     "name": "stdout",
     "output_type": "stream",
     "text": [
      "gruppo 1 : Charizard e Gengar e Arcanine e Bulbasaur\n",
      "gruppo 2 : Blaziken e Umbreon e Lucario e Gardevoir\n",
      "gruppo 3 : Eevee e Dragonite e Volcarona e Sylveon\n"
     ]
    }
   ],
   "source": [
    "\n",
    "#               0         1          2         3            4         5         6           7         8\n",
    "pokemon = ['Charizard','Gengar','Arcanine','Bulbasaur','Blaziken','Umbreon', 'Lucario','Gardevoir','Eevee', \n",
    "#                9          10          11\n",
    "           'Dragonite', 'Volcarona', 'Sylveon' ]\n",
    "g = 3\n",
    "#g = 4\n",
    "\n",
    "# scrivi qui\n",
    "k = len(pokemon) // g  # pokemon in un gruppo\n",
    "\n",
    "for i in range(0, g):    \n",
    "    print('gruppo',i+1,':', ' e '.join(pokemon[i*k:(i+1)*k]))"
   ]
  },
  {
   "cell_type": "raw",
   "id": "8ec826c0",
   "metadata": {
    "format": "text/html"
   },
   "source": [
    "</div>"
   ]
  },
  {
   "cell_type": "code",
   "execution_count": 33,
   "metadata": {},
   "outputs": [],
   "source": [
    "\n",
    "#               0         1          2         3            4         5         6           7         8\n",
    "pokemon = ['Charizard','Gengar','Arcanine','Bulbasaur','Blaziken','Umbreon', 'Lucario','Gardevoir','Eevee', \n",
    "#                9          10          11\n",
    "           'Dragonite', 'Volcarona', 'Sylveon' ]\n",
    "g = 3\n",
    "#g = 4\n",
    "\n",
    "# scrivi qui\n",
    "\n"
   ]
  },
  {
   "cell_type": "markdown",
   "metadata": {},
   "source": [
    "\n",
    "## Modificare durante l'iterazione\n",
    "\n",
    "Supponi di avere una lista `la` contente caratteri, e ti viene chiesto di duplicare tutti gli elementi, per esempio se hai \n",
    "\n",
    "```python\n",
    "la = ['a','b','c'] \n",
    "```\n",
    "\n",
    "dopo il tuo codice, deve risultare\n",
    "\n",
    "```python\n",
    ">>> print(la)\n",
    "['a','b','c','a','b','c'] \n",
    "```\n",
    "\n",
    "Forte delle conoscenze acquisite per l'iterazione, potrebbe venirti l'idea di scrivere qualcosa del genere:\n",
    "\n",
    "```python\n",
    "for elemento in la:\n",
    "    la.append(elemento)    # ATTENZIONE !\n",
    "```"
   ]
  },
  {
   "cell_type": "markdown",
   "metadata": {},
   "source": [
    "**DOMANDA**: Vedi forse un problema?"
   ]
  },
  {
   "cell_type": "raw",
   "id": "092c6e49",
   "metadata": {
    "format": "text/html"
   },
   "source": [
    "<a  class=\"jupman-sol jupman-sol-toggler\" \n",
    " onclick=\"jupman.toggleSolution(this);\" \n",
    " data-jupman-show=\"Mostra risposta\" data-jupman-hide=\"Nascondi\">Mostra risposta</a><div class=\"jupman-sol jupman-sol-question\" style=\"display:none\">  "
   ]
  },
  {
   "cell_type": "markdown",
   "metadata": {},
   "source": [
    "**RISPOSTA**: se _mentre_ scorriamo la lista, continuiamo al contempo ad aggiungere pezzi, c'è il rischio concreto che non termineremo mai di esaminare la lista ! Leggi bene quanto segue:"
   ]
  },
  {
   "cell_type": "raw",
   "id": "f4fa48c3",
   "metadata": {
    "format": "text/html"
   },
   "source": [
    "</div>"
   ]
  },
  {
   "cell_type": "markdown",
   "metadata": {},
   "source": [
    "<div class=\"alert alert-info\" >\n",
    "\n",
    "[X COMANDAMENTO](https://it.softpython.org/commandments.html#X-COMANDAMENTO): \n",
    " **Non aggiungerai o toglierai mai elementi da una sequenza su cui stai iterando con un** `for`**!**\n",
    "</div>\n",
    "\n",
    "\n",
    "Abbandonarti in simil tentazioni **produrrebbe comportamenti del tutto imprevedibili** (conosci forse l'espressione _tirare il tappeto da sotto i piedi_?)"
   ]
  },
  {
   "cell_type": "markdown",
   "metadata": {},
   "source": [
    "**E rimuovere?** Abbiamo visto che aggiungere è pericoloso, ma lo è anche togliere. Supponi di dover eliminare tutti gli elementi di una lista, potresti essere tentato di scrivere qualcosa del genere:"
   ]
  },
  {
   "cell_type": "code",
   "execution_count": 34,
   "metadata": {},
   "outputs": [],
   "source": [
    "lista = ['a','b','c','d','e']\n",
    "\n",
    "for el in lista:\n",
    "    lista.remove(el)   # PESSIMA IDEA"
   ]
  },
  {
   "cell_type": "markdown",
   "metadata": {},
   "source": [
    "Guarda bene il codice. Credi che abbiamo rimosso tutto, eh?"
   ]
  },
  {
   "cell_type": "code",
   "execution_count": 35,
   "metadata": {},
   "outputs": [
    {
     "data": {
      "text/plain": [
       "['b', 'd']"
      ]
     },
     "execution_count": 35,
     "metadata": {},
     "output_type": "execute_result"
    }
   ],
   "source": [
    "lista"
   ]
  },
  {
   "cell_type": "markdown",
   "metadata": {},
   "source": [
    "`O_o'` Il risultato assurdo è legato all'implementazione interna di Python, la mia versione di Python dà questo risultato, la tua potrebbe darne uno completamente diverso. **Quindi attenzione** !\n",
    "\n",
    "**Se proprio devi rimuovere elementi dalla sequenza su cui stai iterando**, usa [un ciclo while](https://it.softpython.org/control-flow/flow3-while-sol.html) o effettua prima una copia della sequenza originale."
   ]
  },
  {
   "cell_type": "markdown",
   "metadata": {},
   "source": [
    "### Esercizio - duplica\n",
    "\n",
    "✪ Prova a scrivere del codice che MODIFICA una lista `la`  duplicandone gli elementi.\n",
    "\n",
    "- usa un ciclo `for`\n",
    "- **NON** usare la moltiplicazione di liste\n",
    "\n",
    "Esempio\n",
    "\n",
    "```python\n",
    "la = ['a','b','c'] \n",
    "```\n",
    "\n",
    "dopo il tuo codice, deve risultare\n",
    "\n",
    "```python\n",
    ">>> la\n",
    "['a','b','c','a','b','c'] \n",
    "```\n"
   ]
  },
  {
   "cell_type": "raw",
   "id": "d48c71b5",
   "metadata": {
    "format": "text/html"
   },
   "source": [
    "<a  class=\"jupman-sol jupman-sol-toggler\" \n",
    " onclick=\"jupman.toggleSolution(this);\" \n",
    " data-jupman-show=\"Mostra soluzione\" data-jupman-hide=\"Nascondi\">Mostra soluzione</a><div class=\"jupman-sol jupman-sol-code\" style=\"display:none\">  "
   ]
  },
  {
   "cell_type": "code",
   "execution_count": 36,
   "metadata": {},
   "outputs": [
    {
     "name": "stdout",
     "output_type": "stream",
     "text": [
      "['a', 'b', 'c', 'a', 'b', 'c']\n"
     ]
    }
   ],
   "source": [
    "\n",
    "la = ['a','b','c'] \n",
    "\n",
    "# scrivi qui\n",
    "\n",
    "for elemento in list(la):  # con list creiamo una *copia* della lista originale, che rimane stabile\n",
    "    la.append(elemento)\n",
    "print(la)"
   ]
  },
  {
   "cell_type": "raw",
   "id": "791b17ee",
   "metadata": {
    "format": "text/html"
   },
   "source": [
    "</div>"
   ]
  },
  {
   "cell_type": "code",
   "execution_count": 36,
   "metadata": {},
   "outputs": [],
   "source": [
    "\n",
    "la = ['a','b','c'] \n",
    "\n",
    "# scrivi qui\n",
    "\n"
   ]
  },
  {
   "cell_type": "markdown",
   "metadata": {},
   "source": [
    "### Esercizio - martello\n",
    "\n",
    "✪ Data una lista di caratteri `la`, MODIFICA la lista cambiando tutti i caratteri ad indici pari con il carattere `'z'`\n",
    "\n",
    "Esempio - data:\n",
    "\n",
    "```python\n",
    "la = ['m', 'a', 'r', 't', 'e', 'l', 'l', 'o']\n",
    "```\n",
    "\n",
    "Dopo il tuo codice, deve risultare:\n",
    "\n",
    "```python\n",
    ">>> print(la)\n",
    "['z', 'a', 'z', 't', 'z', 'l', 'z', 'o']\n",
    "```\n",
    "\n",
    "* **NOTA**: qui _non_ stiamo aggiungendo o togliendo celle dalla lista"
   ]
  },
  {
   "cell_type": "raw",
   "id": "89828313",
   "metadata": {
    "format": "text/html"
   },
   "source": [
    "<a  class=\"jupman-sol jupman-sol-toggler\" \n",
    " onclick=\"jupman.toggleSolution(this);\" \n",
    " data-jupman-show=\"Mostra soluzione\" data-jupman-hide=\"Nascondi\">Mostra soluzione</a><div class=\"jupman-sol jupman-sol-code\" style=\"display:none\">  "
   ]
  },
  {
   "cell_type": "code",
   "execution_count": 37,
   "metadata": {},
   "outputs": [
    {
     "name": "stdout",
     "output_type": "stream",
     "text": [
      "['z', 'a', 'z', 't', 'z', 'l', 'z', 'o']\n"
     ]
    }
   ],
   "source": [
    "\n",
    "la = ['m', 'a', 'r', 't', 'e', 'l', 'l', 'o']\n",
    "\n",
    "# scrivi qui\n",
    "for i in range(len(la)):\n",
    "    if i % 2 == 0:\n",
    "        la[i] = 'z'        \n",
    "print(la)"
   ]
  },
  {
   "cell_type": "raw",
   "id": "c5c366d4",
   "metadata": {
    "format": "text/html"
   },
   "source": [
    "</div>"
   ]
  },
  {
   "cell_type": "code",
   "execution_count": 37,
   "metadata": {},
   "outputs": [],
   "source": [
    "\n",
    "la = ['m', 'a', 'r', 't', 'e', 'l', 'l', 'o']\n",
    "\n",
    "# scrivi qui\n",
    "\n"
   ]
  },
  {
   "cell_type": "markdown",
   "metadata": {},
   "source": [
    "### Esercizio - Orangutang\n",
    "\n",
    "✪✪ Date due stringhe `sa` e `sb`, scrivi del codice che mette nella stringa `sc` una stringa composta da tutte le lettere in `sa` e `sb` alternate\n",
    "\n",
    "* se una stringa è più corta dell'altra, in fondo a `sc` metti tutte le lettere restanti dell'altra stringa\n",
    "* **SUGGERIMENTO**: sebbene sia possibile crescere una scringa un carattere alla volta ad ogni iterazione, ogni volta che lo fai viene creata una nuova stringa (perchè le stringhe sono immutabili). E' quindi più efficiente crescere una lista e convertirla in stringa alla fine.\n",
    "\n",
    "Esempio - dati:\n",
    "\n",
    "```python\n",
    "sa,sb = 'gibbone', 'ORANGUTANG' \n",
    "```\n",
    "\n",
    "dopo il tuo codice deve risultare:\n",
    "\n",
    "```python\n",
    ">>> print(sc)\n",
    "gOiRbAbNoGnUeTANG\n",
    "```\n"
   ]
  },
  {
   "cell_type": "raw",
   "id": "cfb8a353",
   "metadata": {
    "format": "text/html"
   },
   "source": [
    "<a  class=\"jupman-sol jupman-sol-toggler\" \n",
    " onclick=\"jupman.toggleSolution(this);\" \n",
    " data-jupman-show=\"Mostra soluzione\" data-jupman-hide=\"Nascondi\">Mostra soluzione</a><div class=\"jupman-sol jupman-sol-code\" style=\"display:none\">  "
   ]
  },
  {
   "cell_type": "code",
   "execution_count": 38,
   "metadata": {},
   "outputs": [
    {
     "name": "stdout",
     "output_type": "stream",
     "text": [
      "gOiRbAbNoGnUeTANG\n"
     ]
    }
   ],
   "source": [
    "\n",
    "sa,sb = 'gibbone', 'ORANGUTANG'  # gOiRbAbNoGnUeTANG\n",
    "#sa,sb = 'crociera', 'BARCA'     # cBrAoRcCiAera\n",
    "#sa,sb = '', ''                  # \n",
    "\n",
    "# scrivi qui\n",
    "temp = []\n",
    "\n",
    "for i in range(len(sa)):\n",
    "    temp.append(sa[i])\n",
    "    if i < len(sb):\n",
    "        temp.append(sb[i])\n",
    "        \n",
    "if i < len(sb):\n",
    "    temp.extend(sb[i+1:])\n",
    "    \n",
    "sc = ''.join(temp)\n",
    "print(sc)"
   ]
  },
  {
   "cell_type": "raw",
   "id": "7f97834e",
   "metadata": {
    "format": "text/html"
   },
   "source": [
    "</div>"
   ]
  },
  {
   "cell_type": "code",
   "execution_count": 38,
   "metadata": {},
   "outputs": [],
   "source": [
    "\n",
    "sa,sb = 'gibbone', 'ORANGUTANG'  # gOiRbAbNoGnUeTANG\n",
    "#sa,sb = 'crociera', 'BARCA'     # cBrAoRcCiAera\n",
    "#sa,sb = '', ''                  # \n",
    "\n",
    "# scrivi qui\n",
    "\n"
   ]
  },
  {
   "cell_type": "markdown",
   "metadata": {},
   "source": [
    "### Esercizio - cesta\n",
    "\n",
    "✪✪✪ C'è una `cesta` piena di frutta, che rappresentiamo come lista di stringhe. Vogliamo prendere dei frutti e metterli in un piatto, nello stesso ordine in cui li troviamo nella cesta. Bisogna prendere solo i frutti contenuti nell'insieme `preferenze`.\n",
    "\n",
    "- La `cesta` può contenere duplicati, se sono nelle preferenze devi prenderli tutti\n",
    "- i frutti vanno presi **nello stesso ordine** in cui sono trovati\n",
    "\n",
    "Esempio - dati: \n",
    "\n",
    "```python\n",
    "cesta = ['fragola', 'melone', 'ciliegia', 'anguria', 'mela', 'melone','anguria', 'mela', ]\n",
    "preferita = {'ciliegia', 'mela', 'fragola'}\n",
    "piatto = []\n",
    "```\n",
    "\n",
    "dopo il tuo codice, deve risultare:\n",
    "\n",
    "```python\n",
    ">>> print(cesta)\n",
    "['melone', 'anguria', 'melone', 'anguria']\n",
    ">>> print(piatto)\n",
    "['fragola', 'ciliegia', 'mela', 'mela']\n",
    "```\n",
    "    \n",
    "Si può risolvere il problema in due modi:\n",
    "\n",
    "- Modo 1 (semplice e consigliabile): crea una lista `nuova_cesta` e infine la assegna alla variabile `cesta`\n",
    "- Modo 2 (difficile, lento, sconsigliabile ma istruttivo): MODIFICA la lista `cesta` originale, usando il [metodo pop](https://it.softpython.org/lists/lists3-sol.html#Metodo-pop) e senza mai riassegnare `cesta`, quindi niente righe che iniziano con `cesta = `\n",
    "\n",
    "\n",
    "Prova a risolvere l'esercizio in entrambi i modi.\n",
    "\n",
    "<div class=\"alert alert-warning\">\n",
    "\n",
    "**ATTENZIONE: Per entrambi i modi, ricordati il sacro** [X COMANDAMENTO](https://it.softpython.org/commandments.html#X-COMANDAMENTO)\n",
    "\n",
    "**Non aggiungerai o toglierai mai elementi da una sequenza che stai iterando con un** `for`**!**\n",
    "</div>\n",
    "\n",
    "\n"
   ]
  },
  {
   "cell_type": "raw",
   "id": "c360dfca",
   "metadata": {
    "format": "text/html"
   },
   "source": [
    "<a  class=\"jupman-sol jupman-sol-toggler\" \n",
    " onclick=\"jupman.toggleSolution(this);\" \n",
    " data-jupman-show=\"Mostra soluzione\" data-jupman-hide=\"Nascondi\">Mostra soluzione</a><div class=\"jupman-sol jupman-sol-code\" style=\"display:none\">  "
   ]
  },
  {
   "cell_type": "code",
   "execution_count": 39,
   "metadata": {},
   "outputs": [
    {
     "name": "stdout",
     "output_type": "stream",
     "text": [
      "cesta: ['melone', 'anguria', 'melone', 'anguria']\n",
      "piatto: ['fragola', 'ciliegia', 'mela', 'mela']\n"
     ]
    }
   ],
   "source": [
    "\n",
    "# MODO 1\n",
    "\n",
    "cesta = ['fragola', 'melone', 'ciliegia', 'anguria', 'mela', 'melone','anguria', 'mela', ]\n",
    "preferita = {'ciliegia', 'mela', 'fragola'}\n",
    "piatto = []\n",
    "\n",
    "# scrivi qui \n",
    "nuova_cesta = []\n",
    "for frutto in cesta:    \n",
    "    if frutto in preferita:\n",
    "        piatto.append(frutto)\n",
    "    else:\n",
    "        nuova_cesta.append(frutto)\n",
    "        \n",
    "    \n",
    "cesta = nuova_cesta   # sostituiamo lista originale    \n",
    "print('cesta:',cesta)\n",
    "print('piatto:',piatto)"
   ]
  },
  {
   "cell_type": "raw",
   "id": "3de1ccc0",
   "metadata": {
    "format": "text/html"
   },
   "source": [
    "</div>"
   ]
  },
  {
   "cell_type": "code",
   "execution_count": 39,
   "metadata": {},
   "outputs": [],
   "source": [
    "\n",
    "# MODO 1\n",
    "\n",
    "cesta = ['fragola', 'melone', 'ciliegia', 'anguria', 'mela', 'melone','anguria', 'mela', ]\n",
    "preferita = {'ciliegia', 'mela', 'fragola'}\n",
    "piatto = []\n",
    "\n",
    "# scrivi qui \n",
    "\n"
   ]
  },
  {
   "cell_type": "raw",
   "id": "9a0b45be",
   "metadata": {
    "format": "text/html"
   },
   "source": [
    "<a  class=\"jupman-sol jupman-sol-toggler\" \n",
    " onclick=\"jupman.toggleSolution(this);\" \n",
    " data-jupman-show=\"Mostra soluzione\" data-jupman-hide=\"Nascondi\">Mostra soluzione</a><div class=\"jupman-sol jupman-sol-code\" style=\"display:none\">  "
   ]
  },
  {
   "cell_type": "code",
   "execution_count": 40,
   "metadata": {},
   "outputs": [
    {
     "name": "stdout",
     "output_type": "stream",
     "text": [
      "cesta: ['melone', 'anguria', 'melone', 'anguria']\n",
      "piatto: ['fragola', 'ciliegia', 'mela', 'mela']\n"
     ]
    }
   ],
   "source": [
    "\n",
    "# MODO 2\n",
    "\n",
    "cesta = ['fragola', 'melone', 'ciliegia', 'anguria', 'mela', 'melone','anguria', 'mela', ]\n",
    "preferita = {'ciliegia', 'mela', 'fragola'}\n",
    "piatto = []\n",
    "\n",
    "# scrivi qui \n",
    "copia = list(cesta)\n",
    "j = 0\n",
    "\n",
    "# così siamo sicuri di iterare su una sequenza diversa da quella che modifichiamo\n",
    "for i in range(len(copia)):  \n",
    "    frutto = copia[i]\n",
    "    if frutto in preferita:\n",
    "        piatto.append(frutto)\n",
    "        cesta.pop(j)\n",
    "    else:\n",
    "        j += 1\n",
    "        \n",
    "print('cesta:',cesta)\n",
    "print('piatto:',piatto)"
   ]
  },
  {
   "cell_type": "raw",
   "id": "6d40bf9a",
   "metadata": {
    "format": "text/html"
   },
   "source": [
    "</div>"
   ]
  },
  {
   "cell_type": "code",
   "execution_count": 40,
   "metadata": {},
   "outputs": [],
   "source": [
    "\n",
    "# MODO 2\n",
    "\n",
    "cesta = ['fragola', 'melone', 'ciliegia', 'anguria', 'mela', 'melone','anguria', 'mela', ]\n",
    "preferita = {'ciliegia', 'mela', 'fragola'}\n",
    "piatto = []\n",
    "\n",
    "# scrivi qui \n",
    "\n"
   ]
  },
  {
   "cell_type": "markdown",
   "metadata": {},
   "source": [
    "## Iterare un insieme\n",
    "\n",
    "Dato un insieme, possiamo esaminare la sequenza di elementi con un ciclo `for`. \n",
    "\n",
    "\n",
    "<div class=\"alert alert-warning\">\n",
    "\n",
    "**ATTENZIONE**: l'ordine di iterazione negli insiemi **non** è prevedibile !\n",
    "\n",
    "Per capire meglio il perchè, puoi rivedere [la guida sugli insiemi](https://it.softpython.org/sets/sets-sol.html#Creare-un-insieme)\n",
    "</div>"
   ]
  },
  {
   "cell_type": "code",
   "execution_count": 41,
   "metadata": {
    "scrolled": true
   },
   "outputs": [
    {
     "name": "stdout",
     "output_type": "stream",
     "text": [
      "è\n",
      "questo\n",
      "insieme\n",
      "un\n"
     ]
    }
   ],
   "source": [
    "for elemento in {'questo', 'è', 'un', 'insieme'}:\n",
    "    print(elemento)"
   ]
  },
  {
   "cell_type": "markdown",
   "metadata": {},
   "source": [
    "### Domande - insiemi\n",
    "\n",
    "Guarda i seguenti frammenti di codice, e per ciascuno cerca di indovinare quale risultato produce (o se da errore):\n",
    "\n",
    "\n",
    "1.  ```python\n",
    "    s = set()\n",
    "    s.add('pan')\n",
    "    s.add('de')\n",
    "    s.add('mo')\n",
    "    s.add('nio')\n",
    "    print(s)\n",
    "    ```\n",
    "1.  ```python\n",
    "    for x in {'a',12,'34',56,34}[2:4]:\n",
    "        print(x)\n",
    "    ```\n",
    "1.  ```python\n",
    "    for x in set(['a']) | set(['b']):\n",
    "        print(x)\n",
    "    ```\n",
    "1.  ```python\n",
    "    for x in set(['a']) & set(['b']):\n",
    "        print(x)\n",
    "    ```\n"
   ]
  },
  {
   "cell_type": "markdown",
   "metadata": {},
   "source": [
    "## Iterare un dizionario\n",
    "\n",
    "Dato un dizionario, possiamo esaminare la sequenza di chiavi, di valori o entrambi con un ciclo `for`. \n",
    "\n",
    "<div class=\"alert alert-warning\">\n",
    "\n",
    "**ATTENZIONE**: l'ordine di iterazione delle chiavi **non** è prevedibile !\n",
    "\n",
    "</div>\n",
    "\n",
    "Proviamo a scorrere le chiavi:"
   ]
  },
  {
   "cell_type": "code",
   "execution_count": 42,
   "metadata": {},
   "outputs": [],
   "source": [
    "diz = {\n",
    "    'bignè':5,\n",
    "    'brioche':8,\n",
    "    'krapfen':2\n",
    "}"
   ]
  },
  {
   "cell_type": "code",
   "execution_count": 43,
   "metadata": {},
   "outputs": [
    {
     "name": "stdout",
     "output_type": "stream",
     "text": [
      "Trovata chiave bignè\n",
      "    con valore 5\n",
      "Trovata chiave brioche\n",
      "    con valore 8\n",
      "Trovata chiave krapfen\n",
      "    con valore 2\n"
     ]
    }
   ],
   "source": [
    "for chiave in diz:\n",
    "    print('Trovata chiave', chiave)\n",
    "    print('    con valore', diz[chiave])"
   ]
  },
  {
   "cell_type": "markdown",
   "metadata": {},
   "source": [
    "Ad ogni iterazione, alla variabile `chiave` che abbiamo dichiarato viene assegnata una chiave presa dal dizionario, in un ordine che possiamo considerare non prevedibile.\n",
    "\n"
   ]
  },
  {
   "cell_type": "markdown",
   "metadata": {},
   "source": [
    "\n",
    "Possiamo anche ottenere direttamente nel `for` sia la chiave che il valore corrispondente con questa notazione"
   ]
  },
  {
   "cell_type": "code",
   "execution_count": 44,
   "metadata": {},
   "outputs": [
    {
     "name": "stdout",
     "output_type": "stream",
     "text": [
      "Trovata chiave bignè\n",
      "    con valore 5\n",
      "Trovata chiave brioche\n",
      "    con valore 8\n",
      "Trovata chiave krapfen\n",
      "    con valore 2\n"
     ]
    }
   ],
   "source": [
    "for chiave, valore in diz.items():\n",
    "    print('Trovata chiave', chiave)\n",
    "    print('    con valore', diz[chiave])"
   ]
  },
  {
   "cell_type": "markdown",
   "metadata": {},
   "source": [
    "`.items()` ritorna una lista di coppie chiave/valore, e ad ogni iterazione una coppia viene assegnata alle variabili `chiave` e `valore`."
   ]
  },
  {
   "cell_type": "markdown",
   "metadata": {},
   "source": [
    "### Domande iterazione dizionari\n",
    "\n",
    "Guarda i seguenti frammenti di codice, e per ciascuno cerca di indovinare quale risultato produce (o se da errore):\n",
    "\n",
    "\n",
    "<div class=\"alert alert-warning\">\n",
    "\n",
    "**ATTENZIONE**: Ricordati che l'ordine è IMPOSSIBILE da prevedere, quello che è importante è indovinare tutto quello che verrà stampato\n",
    "\n",
    "</div>"
   ]
  },
  {
   "cell_type": "markdown",
   "metadata": {},
   "source": [
    "1.  ```python\n",
    "    for x in {'a':1,'b':2,'c':3}:   \n",
    "        print(x)\n",
    "    ```\n",
    "1.  ```python\n",
    "    for x in {1:'a',2:'b',3:'c'}:\n",
    "        print(x)\n",
    "    ```\n",
    "1.  ```python\n",
    "    diz = {'a':1,'b':2,'c':3}\n",
    "    for x in diz:   \n",
    "        print(x[diz])\n",
    "    ```    \n",
    "1.  ```python\n",
    "    diz = {'a':1,'b':2,'c':3}\n",
    "    for x in diz:   \n",
    "        print(diz[x])\n",
    "    ```\n",
    "1.  ```python\n",
    "    diz = {'a':1,'b':2,'c':3}\n",
    "    for x in diz:   \n",
    "        if x == 'b':\n",
    "            print(diz[x])\n",
    "    ```\n",
    "1.  ```python\n",
    "    for k,v in {1:'a',2:'b',3:'c'}:\n",
    "        print(k,v)\n",
    "    ```    \n",
    "1.  ```python\n",
    "    for x in {1:'a',2:'b',3:'c'}.values():\n",
    "        print(x)\n",
    "    ```\n",
    "1.  ```python\n",
    "    for x in {1:'a',2:'b',3:'c'}.keys():\n",
    "        print(x)\n",
    "    ```\n",
    "1.  ```python\n",
    "    for x in {1:'a',2:'b',3:'c'}.items():\n",
    "        print(x)\n",
    "    ```\n",
    "1.  ```python\n",
    "    for x,y in {1:'a',2:'b',3:'c'}.items():\n",
    "        print(x,y)\n",
    "    ```    "
   ]
  },
  {
   "cell_type": "markdown",
   "metadata": {},
   "source": [
    "### Domande - Sono equivalenti? \n",
    "\n",
    "Guarda i seguenti frammenti di codice: in ciascuno, vi sono due parti, A e B. In ciascun frammento, cerca di indovinare se la parte A stamperà esattamente quello che stampa il codice nella parte B\n",
    "\n",
    "* **PRIMA** pensa alla risposta\n",
    "* **POI** prova ad eseguire "
   ]
  },
  {
   "cell_type": "markdown",
   "metadata": {},
   "source": [
    "### Sono equivalenti ? postin\n",
    "\n",
    "```python\n",
    "\n",
    "diz = {\n",
    "    'p':'t',\n",
    "    'o':'i',\n",
    "    's':'n',    \n",
    "}\n",
    "\n",
    "print('A:')\n",
    "for x in diz.keys():    \n",
    "    print(x)        \n",
    "        \n",
    "print('\\nB:')\n",
    "for y in diz:\n",
    "    print(y)\n",
    "```"
   ]
  },
  {
   "cell_type": "markdown",
   "metadata": {},
   "source": [
    "### Sono equivalenti ? cortel\n",
    "\n",
    "```python\n",
    "\n",
    "diz = {\n",
    "    'c':'t',\n",
    "    'o':'e',\n",
    "    'r':'l',    \n",
    "}\n",
    "\n",
    "print('A:')\n",
    "for p,q in diz.items():\n",
    "    print(q)\n",
    "        \n",
    "print('\\nB:')\n",
    "for x in diz.values():\n",
    "    print(x)\n",
    "```"
   ]
  },
  {
   "cell_type": "markdown",
   "metadata": {},
   "source": [
    "### Sono equivalenti ? - gel\n",
    "\n",
    "```python\n",
    "diz = {\n",
    "    'g':'l',\n",
    "    'e':'e',\n",
    "    'l':'g',    \n",
    "}\n",
    "\n",
    "print('A:')\n",
    "for x in diz.values():\n",
    "    print(x)\n",
    "    \n",
    "print('\\nB:')\n",
    "for z in diz.items():\n",
    "    print(z[0])\n",
    "```"
   ]
  },
  {
   "cell_type": "markdown",
   "metadata": {},
   "source": [
    "### Sono equivalenti ? - giri\n",
    "\n",
    "```python\n",
    "\n",
    "diz = {\n",
    "    'p':'g',\n",
    "    'e':'i',\n",
    "    'r':'r',    \n",
    "    'i':'i',    \n",
    "}\n",
    "\n",
    "print('A:')\n",
    "for p,q in diz.items():\n",
    "    if p == q:\n",
    "        print(p)           \n",
    "        \n",
    "print('\\nB:')\n",
    "for x in diz:\n",
    "    if x == diz[x]:\n",
    "        print(x)\n",
    "```"
   ]
  },
  {
   "cell_type": "markdown",
   "metadata": {},
   "source": [
    "### Sono equivalenti? - Trovato\n",
    "\n",
    "Prima pensa se sono equivalenti, poi verifica con tutti i valori di `k` proposti.\n",
    "\n",
    "<div class=\"alert alert-warning\">\n",
    "\n",
    "**Fai bene attenzione a questo esercizio !**\n",
    "\n",
    "Capire questo vuol dire aver _veramente_ capito i dizionari ;-)\n",
    "\n",
    "</div>\n",
    "\n",
    "```python\n",
    "k = 'p'\n",
    "#k = 'e'\n",
    "#k = 'r'\n",
    "#k = 'z'\n",
    "\n",
    "diz = {\n",
    "    'p':'c',\n",
    "    'e':'h',\n",
    "    'r':'è',    \n",
    "}\n",
    "\n",
    "print('A:')\n",
    "for x in diz:\n",
    "    if x == k:        \n",
    "        print('Trovato', diz[x])        \n",
    "        \n",
    "print('\\nB:')\n",
    "if k in diz:\n",
    "    print('Trovato', diz[k])\n",
    "```"
   ]
  },
  {
   "cell_type": "raw",
   "id": "7f6bfd01",
   "metadata": {
    "format": "text/html"
   },
   "source": [
    "<a  class=\"jupman-sol jupman-sol-toggler\" \n",
    " onclick=\"jupman.toggleSolution(this);\" \n",
    " data-jupman-show=\"Mostra risposta\" data-jupman-hide=\"Nascondi\">Mostra risposta</a><div class=\"jupman-sol jupman-sol-question\" style=\"display:none\">  "
   ]
  },
  {
   "cell_type": "markdown",
   "metadata": {},
   "source": [
    "**RISPOSTA**: I due codici sopra riportati sono equivalenti, con una importante differenza: il codice A verrà eseguito in un tempo proporziale alla dimensione di `diz` (perchè deve scorrere tutto il dizionario), invece il codice B verrà sempre eseguito in un tempo costante breve che _non_ dipende dalla dimensione di `diz`. Sia il comando `if k in diz` che l'espressione `diz[k]` che recupera il valore corrispondente alla chiave `k` sono estremamente veloci.\n",
    "\n",
    "<div class=\"alert alert-warning\">\n",
    "\n",
    "**ATTENZIONE: assicurati di capire bene questo punto!**\n",
    "\n",
    "In tanti scrivono codice come nella parte A perdendo di fatto la principale utilità dei dizionari che è l'accesso veloce. Finchè i dati sono pochi è facile non accorgersene, ma quando abbiamo megabyte di coppie chiave / valore il tempo perso in cicli inutili si fa sentire! Per ulteriori chiarimenti puoi leggere (o rivedere) la [sezione Disordine veloce](https://it.softpython.org/dictionaries/dictionaries2-sol.html#Disordine-veloce) nel foglio sui dizionari.\n",
    "\n",
    "</div>"
   ]
  },
  {
   "cell_type": "raw",
   "id": "d4c75584",
   "metadata": {
    "format": "text/html"
   },
   "source": [
    "</div>"
   ]
  },
  {
   "cell_type": "markdown",
   "metadata": {},
   "source": [
    "### Esercizio - colore di cuori\n",
    "\n",
    "✪ Scrivi del codice che dato un dizionario `semi`, per ogni seme stampa il suo colore.\n",
    "\n",
    "Esempio - dato:\n",
    "\n",
    "```python\n",
    "semi = {\n",
    "    'cuori':'rosso',\n",
    "    'picche':'nero',\n",
    "    'quadri':'rosso',\n",
    "    'fiori':'nero'\n",
    "}\n",
    "```\n",
    "\n",
    "stampa:\n",
    "\n",
    "<div class=\"alert alert-warning\">\n",
    "    \n",
    "**ATTENZIONE**: non ti preoccupare dell'ordine in cui vengono stampati i valori!\n",
    "\n",
    "Sul tuo computer potresti vedere dei risultati diversi, l'importante è che vengano stampate tutte le righe.\n",
    "</div>\n",
    "\n",
    "```\n",
    "Il colore di fiori è nero\n",
    "Il colore di cuori è rosso\n",
    "Il colore di picche è nero\n",
    "Il colore di quadri è rosso\n",
    "\n",
    "```\n",
    "\n"
   ]
  },
  {
   "cell_type": "raw",
   "id": "3ea4a302",
   "metadata": {
    "format": "text/html"
   },
   "source": [
    "<a  class=\"jupman-sol jupman-sol-toggler\" \n",
    " onclick=\"jupman.toggleSolution(this);\" \n",
    " data-jupman-show=\"Mostra soluzione\" data-jupman-hide=\"Nascondi\">Mostra soluzione</a><div class=\"jupman-sol jupman-sol-code\" style=\"display:none\">  "
   ]
  },
  {
   "cell_type": "code",
   "execution_count": 45,
   "metadata": {},
   "outputs": [
    {
     "name": "stdout",
     "output_type": "stream",
     "text": [
      "Il colore di cuori è rosso\n",
      "Il colore di picche è nero\n",
      "Il colore di quadri è rosso\n",
      "Il colore di fiori è nero\n"
     ]
    }
   ],
   "source": [
    "\n",
    "semi = {\n",
    "    'cuori':'rosso',\n",
    "    'picche':'nero',\n",
    "    'quadri':'rosso',\n",
    "    'fiori':'nero'\n",
    "}\n",
    "\n",
    "# scrivi qui\n",
    "\n",
    "for k in semi.keys():\n",
    "    print('Il colore di', k, 'è', semi[k])"
   ]
  },
  {
   "cell_type": "raw",
   "id": "d5dfbac6",
   "metadata": {
    "format": "text/html"
   },
   "source": [
    "</div>"
   ]
  },
  {
   "cell_type": "code",
   "execution_count": 45,
   "metadata": {},
   "outputs": [],
   "source": [
    "\n",
    "semi = {\n",
    "    'cuori':'rosso',\n",
    "    'picche':'nero',\n",
    "    'quadri':'rosso',\n",
    "    'fiori':'nero'\n",
    "}\n",
    "\n",
    "# scrivi qui\n",
    "\n"
   ]
  },
  {
   "cell_type": "markdown",
   "metadata": {},
   "source": [
    "### Esercizio - preziosi\n",
    "\n",
    "✪ Nel dizionario `preziosi` alcune chiavi sono uguali ai rispettivi valori. Scrivi del codice che trova tali chiavi e le stampa.\n",
    "\n",
    "Esempio - dato:\n",
    "\n",
    "```python\n",
    "preziosi = {\n",
    "    'rubini': 'giada',\n",
    "    'opali':'topazi',\n",
    "    'gemme':'gemme',\n",
    "    'diamanti': 'gemme',\n",
    "    'rubini':'rubini'\n",
    "}\n",
    "```\n",
    "\n",
    "stampa\n",
    "\n",
    "```\n",
    "coppia di elementi uguali: rubini e rubini\n",
    "coppia di elementi uguali: gemme e gemme\n",
    "```"
   ]
  },
  {
   "cell_type": "raw",
   "id": "ab7286ed",
   "metadata": {
    "format": "text/html"
   },
   "source": [
    "<a  class=\"jupman-sol jupman-sol-toggler\" \n",
    " onclick=\"jupman.toggleSolution(this);\" \n",
    " data-jupman-show=\"Mostra soluzione\" data-jupman-hide=\"Nascondi\">Mostra soluzione</a><div class=\"jupman-sol jupman-sol-code\" style=\"display:none\">  "
   ]
  },
  {
   "cell_type": "code",
   "execution_count": 46,
   "metadata": {},
   "outputs": [
    {
     "name": "stdout",
     "output_type": "stream",
     "text": [
      "coppia di elementi uguali: rubini e rubini\n",
      "coppia di elementi uguali: gemme e gemme\n"
     ]
    }
   ],
   "source": [
    "\n",
    "preziosi = {\n",
    "    'rubini': 'giada',\n",
    "    'opali':'topazi',\n",
    "    'gemme':'gemme',\n",
    "    'diamanti': 'gemme',\n",
    "    'rubini':'rubini'\n",
    "}\n",
    "\n",
    "# scrivi qui\n",
    "for k,v in preziosi.items():\n",
    "    if k == v:\n",
    "        print('coppia di elementi uguali:',k, 'e', v)\n"
   ]
  },
  {
   "cell_type": "raw",
   "id": "41f136d6",
   "metadata": {
    "format": "text/html"
   },
   "source": [
    "</div>"
   ]
  },
  {
   "cell_type": "code",
   "execution_count": 46,
   "metadata": {},
   "outputs": [],
   "source": [
    "\n",
    "preziosi = {\n",
    "    'rubini': 'giada',\n",
    "    'opali':'topazi',\n",
    "    'gemme':'gemme',\n",
    "    'diamanti': 'gemme',\n",
    "    'rubini':'rubini'\n",
    "}\n",
    "\n",
    "# scrivi qui\n",
    "\n"
   ]
  },
  {
   "cell_type": "markdown",
   "metadata": {},
   "source": [
    "### Esercizio - potenze\n",
    "\n",
    "✪ Dato un numero `n`, scrvi del codice che crea un NUOVO dizionario `diz` contenente come chiavi i numeri da 1 a `n` INCLUSI, associando ad ogni chiave il suo quadrato. \n",
    "\n",
    "Esempio - dato:\n",
    "\n",
    "```python\n",
    "n = 5\n",
    "```\n",
    "\n",
    "dopo il tuo codice, deve risultare:\n",
    "\n",
    "```python\n",
    ">>> print(diz)\n",
    "{1: 1, 2: 4, 3: 9, 4: 16, 5: 25}\n",
    "```"
   ]
  },
  {
   "cell_type": "raw",
   "id": "70028ece",
   "metadata": {
    "format": "text/html"
   },
   "source": [
    "<a  class=\"jupman-sol jupman-sol-toggler\" \n",
    " onclick=\"jupman.toggleSolution(this);\" \n",
    " data-jupman-show=\"Mostra soluzione\" data-jupman-hide=\"Nascondi\">Mostra soluzione</a><div class=\"jupman-sol jupman-sol-code\" style=\"display:none\">  "
   ]
  },
  {
   "cell_type": "code",
   "execution_count": 47,
   "metadata": {},
   "outputs": [
    {
     "name": "stdout",
     "output_type": "stream",
     "text": [
      "{1: 1, 2: 4, 3: 9, 4: 16, 5: 25}\n"
     ]
    }
   ],
   "source": [
    "\n",
    "n = 5\n",
    "\n",
    "# scrivi qui\n",
    "diz = {}\n",
    "for i in range(1,n+1):\n",
    "    diz[i] = i*i\n",
    "\n",
    "print(diz)"
   ]
  },
  {
   "cell_type": "raw",
   "id": "44c6a727",
   "metadata": {
    "format": "text/html"
   },
   "source": [
    "</div>"
   ]
  },
  {
   "cell_type": "code",
   "execution_count": 47,
   "metadata": {},
   "outputs": [],
   "source": [
    "\n",
    "n = 5\n",
    "\n",
    "# scrivi qui\n",
    "\n"
   ]
  },
  {
   "cell_type": "markdown",
   "metadata": {},
   "source": [
    "### Esercizio - fiori\n",
    "\n",
    "✪ Data una lista `fiori`, scrivi del codice che crea un NUOVO dizionario `diz` che associa ad ogni fiore `True` se il nome del fiore è scritto tutto in maiuscolo, e `False` altrimenti\n",
    "\n",
    "* **SUGGERIMENTO**: per verificare se una stringa è tutta in maiuscolo, usa il metodo `.isupper()`\n",
    "\n",
    "```python\n",
    "fiori = ['girasole','GAROFANO', 'tulipano', 'VIOLA', 'ROSA', 'violetta']\n",
    "\n",
    "```\n",
    "\n",
    "stampa (sono in ordine alfabetico perchè stampiamo con `pprint`):\n",
    "\n",
    "```\n",
    ">>> from pprint import pprint\n",
    ">>> pprint(diz)\n",
    "{'GAROFANO': True,\n",
    " 'ROSA': True,\n",
    " 'VIOLA': True,\n",
    " 'girasole': False,\n",
    " 'tulipano': False,\n",
    " 'violetta': False}\n",
    "```"
   ]
  },
  {
   "cell_type": "raw",
   "id": "53057de3",
   "metadata": {
    "format": "text/html"
   },
   "source": [
    "<a  class=\"jupman-sol jupman-sol-toggler\" \n",
    " onclick=\"jupman.toggleSolution(this);\" \n",
    " data-jupman-show=\"Mostra soluzione\" data-jupman-hide=\"Nascondi\">Mostra soluzione</a><div class=\"jupman-sol jupman-sol-code\" style=\"display:none\">  "
   ]
  },
  {
   "cell_type": "code",
   "execution_count": 48,
   "metadata": {},
   "outputs": [
    {
     "name": "stdout",
     "output_type": "stream",
     "text": [
      "{'GAROFANO': True,\n",
      " 'ROSA': True,\n",
      " 'VIOLA': True,\n",
      " 'girasole': False,\n",
      " 'tulipano': False,\n",
      " 'violetta': False}\n"
     ]
    }
   ],
   "source": [
    "\n",
    "fiori = ['girasole','GAROFANO', 'tulipano', 'VIOLA', 'ROSA', 'violetta']\n",
    "\n",
    "# scrivi qui\n",
    "\n",
    "diz = {}\n",
    "for el in fiori:\n",
    "    diz[el] = el.isupper()\n",
    "    \n",
    "from pprint import pprint\n",
    "pprint(diz)"
   ]
  },
  {
   "cell_type": "raw",
   "id": "5994e0ca",
   "metadata": {
    "format": "text/html"
   },
   "source": [
    "</div>"
   ]
  },
  {
   "cell_type": "code",
   "execution_count": 48,
   "metadata": {},
   "outputs": [],
   "source": [
    "\n",
    "fiori = ['girasole','GAROFANO', 'tulipano', 'VIOLA', 'ROSA', 'violetta']\n",
    "\n",
    "# scrivi qui\n",
    "\n"
   ]
  },
  {
   "cell_type": "markdown",
   "metadata": {},
   "source": [
    "### Esercizio - arte\n",
    "\n",
    "✪ Un artista ha dipinto una serie di opere con diverse tecniche. Nel dizionario `prezzi` per ciascuna tecnica segna il prezzo. L'artista intende fare una serie di esposizioni, e in ognuna presenterà una particolare tecnica. Supponendo che per ciascuna tecnica abbia prodotto `q` quadri, mostrare quanto guadagnerà in ciascuna esposizione (supponendo venda tutto).\n",
    "\n",
    "Esempio - dati:\n",
    "\n",
    "```python\n",
    "q = 20\n",
    "\n",
    "esposizioni = ['acquerello', 'olio', 'murale', 'tempera', 'carboncino','inchiostro']\n",
    "\n",
    "prezzi = {'acquerello': 3000,\n",
    "          'olio':6000,\n",
    "          'murale': 2000,\n",
    "          'tempera':4000,\n",
    "          'carboncino':7000,\n",
    "          'inchiostro':1000\n",
    "}\n",
    "```\n",
    "\n",
    "Stampa - **questa volta l'ordine conta!!** \n",
    "\n",
    "```\n",
    "Guadagni previsti:\n",
    "  esposizione acquerello : 60000 €\n",
    "  esposizione olio : 120000 €\n",
    "  esposizione murale : 40000 €\n",
    "  esposizione tempera : 80000 €\n",
    "  esposizione carboncino : 140000 €\n",
    "  esposizione inchiostro : 20000 €\n",
    "\n",
    "```"
   ]
  },
  {
   "cell_type": "raw",
   "id": "43d3f02a",
   "metadata": {
    "format": "text/html"
   },
   "source": [
    "<a  class=\"jupman-sol jupman-sol-toggler\" \n",
    " onclick=\"jupman.toggleSolution(this);\" \n",
    " data-jupman-show=\"Mostra soluzione\" data-jupman-hide=\"Nascondi\">Mostra soluzione</a><div class=\"jupman-sol jupman-sol-code\" style=\"display:none\">  "
   ]
  },
  {
   "cell_type": "code",
   "execution_count": 49,
   "metadata": {},
   "outputs": [
    {
     "name": "stdout",
     "output_type": "stream",
     "text": [
      "Guadagni previsti:\n",
      "  esposizione acquerello : 60000 €\n",
      "  esposizione olio : 120000 €\n",
      "  esposizione murale : 40000 €\n",
      "  esposizione tempera : 80000 €\n",
      "  esposizione carboncino : 140000 €\n",
      "  esposizione inchiostro : 20000 €\n"
     ]
    }
   ],
   "source": [
    "\n",
    "q = 20\n",
    "\n",
    "esposizioni = ['acquerello', 'olio', 'murale', 'tempera', 'carboncino','inchiostro']\n",
    "\n",
    "prezzi = {'acquerello': 3000,\n",
    "          'olio':6000,\n",
    "          'murale': 2000,\n",
    "          'tempera':4000,\n",
    "          'carboncino':7000,\n",
    "          'inchiostro':1000\n",
    "}\n",
    "\n",
    "# scrivi qui\n",
    "\n",
    "print('Guadagni previsti:')\n",
    "for i in range(len(esposizioni)):\n",
    "    tecnica = esposizioni[i]\n",
    "    print('  esposizione', tecnica, \":\", prezzi[tecnica]*q,  '€')"
   ]
  },
  {
   "cell_type": "raw",
   "id": "0293e7f2",
   "metadata": {
    "format": "text/html"
   },
   "source": [
    "</div>"
   ]
  },
  {
   "cell_type": "code",
   "execution_count": 49,
   "metadata": {},
   "outputs": [],
   "source": [
    "\n",
    "q = 20\n",
    "\n",
    "esposizioni = ['acquerello', 'olio', 'murale', 'tempera', 'carboncino','inchiostro']\n",
    "\n",
    "prezzi = {'acquerello': 3000,\n",
    "          'olio':6000,\n",
    "          'murale': 2000,\n",
    "          'tempera':4000,\n",
    "          'carboncino':7000,\n",
    "          'inchiostro':1000\n",
    "}\n",
    "\n",
    "# scrivi qui\n",
    "\n"
   ]
  },
  {
   "cell_type": "markdown",
   "metadata": {},
   "source": [
    "### Esercizio - cartolerie\n",
    "\n",
    "✪ Un proprietario di due negozi di cartoleria per riorganizzare il magazzino vuole sapere i materiali in comune disponibili nei negozi che possiede. Dati quindi due dizionari `cartoleria1` e `cartoleria2` che associano oggetti alla loro quantità, scrivi del codice che trova tutte le chiavi in comune e per ciascuna stampa la somma delle quantità trovate.\n",
    "\n",
    "Esempio - dati:\n",
    "\n",
    "```python\n",
    "cartoleria1 = {'penne':10,\n",
    "               'cartelle':20,\n",
    "               'carta':30,\n",
    "               'forbici':40}\n",
    "\n",
    "cartoleria2 = {'penne':80,\n",
    "               'cartelle':90,\n",
    "               'goniometri':130,\n",
    "               'forbici':110,\n",
    "               'righelli':120,\n",
    "               }\n",
    "```\n",
    "\n",
    "stampa (l'ordine **non** importa):\n",
    "\n",
    "```\n",
    "materiali in comune:\n",
    "   penne : 90\n",
    "   cartelle : 110\n",
    "   forbici : 150\n",
    "```"
   ]
  },
  {
   "cell_type": "raw",
   "id": "bfe7f3a3",
   "metadata": {
    "format": "text/html"
   },
   "source": [
    "<a  class=\"jupman-sol jupman-sol-toggler\" \n",
    " onclick=\"jupman.toggleSolution(this);\" \n",
    " data-jupman-show=\"Mostra soluzione\" data-jupman-hide=\"Nascondi\">Mostra soluzione</a><div class=\"jupman-sol jupman-sol-code\" style=\"display:none\">  "
   ]
  },
  {
   "cell_type": "code",
   "execution_count": 50,
   "metadata": {},
   "outputs": [
    {
     "name": "stdout",
     "output_type": "stream",
     "text": [
      "materiali in comune:\n",
      "   penne : 90\n",
      "   cartelle : 110\n",
      "   forbici : 150\n"
     ]
    }
   ],
   "source": [
    "\n",
    "cartoleria1 = {'penne':10,\n",
    "        'cartelle':20,\n",
    "        'carta':30,\n",
    "        'forbici':40}\n",
    "\n",
    "cartoleria2 = {'penne':80,\n",
    "        'cartelle':90,\n",
    "        'goniometri':130,\n",
    "        'forbici':110,\n",
    "        'righelli':120,\n",
    "        }\n",
    "\n",
    "# scrivi qui\n",
    "\n",
    "print('materiali in comune:')\n",
    "for k in cartoleria1:\n",
    "    if k in cartoleria2:\n",
    "        print('  ',k, ':', cartoleria1[k] + cartoleria2[k])"
   ]
  },
  {
   "cell_type": "raw",
   "id": "a71a4a0a",
   "metadata": {
    "format": "text/html"
   },
   "source": [
    "</div>"
   ]
  },
  {
   "cell_type": "code",
   "execution_count": 50,
   "metadata": {},
   "outputs": [],
   "source": [
    "\n",
    "cartoleria1 = {'penne':10,\n",
    "        'cartelle':20,\n",
    "        'carta':30,\n",
    "        'forbici':40}\n",
    "\n",
    "cartoleria2 = {'penne':80,\n",
    "        'cartelle':90,\n",
    "        'goniometri':130,\n",
    "        'forbici':110,\n",
    "        'righelli':120,\n",
    "        }\n",
    "\n",
    "# scrivi qui\n",
    "\n"
   ]
  },
  {
   "cell_type": "markdown",
   "metadata": {},
   "source": [
    "### Esercizio - legumi\n",
    "\n",
    "✪ Un magazzino ha scaffali numerati, ciascuno contenente una quantità di legumi espressa in chili. Rappresentiamo `magazzino` come una lista. E' disponibile anche un `registro` come dizionario che associa ai nomi dei legumi il numero dello scaffale in cui sono contenuti nel magazzino.\n",
    "\n",
    "Scrivi del codice che data una lista di nomi di legumi, mostra la somma dei chili presenti in magazzino per quei legumi.\n",
    "\n",
    "Esempio - dati \n",
    "\n",
    "```python\n",
    "legumi = ['ceci', 'soia']    \n",
    "\n",
    "#            0  1  2  3  4  5 \n",
    "magazzino = [50,90,70,10,20,50]\n",
    "\n",
    "registro = {'piselli':3,\n",
    "            'soia':1,\n",
    "            'lenticchie':5,\n",
    "            'ceci':4,\n",
    "            'fave':2,\n",
    "            'fagioli':0,\n",
    "}\n",
    "```\n",
    "\n",
    "dopo il tuo codice, deve stampare (l'ordine **non** importa):\n",
    "\n",
    "```\n",
    "Cerco ceci e soia ...\n",
    "Trovati 20 kg di ceci\n",
    "Trovati 90 kg di soia\n",
    "Totale: 110 kg\n",
    "```"
   ]
  },
  {
   "cell_type": "raw",
   "id": "5ec99548",
   "metadata": {
    "format": "text/html"
   },
   "source": [
    "<a  class=\"jupman-sol jupman-sol-toggler\" \n",
    " onclick=\"jupman.toggleSolution(this);\" \n",
    " data-jupman-show=\"Mostra soluzione\" data-jupman-hide=\"Nascondi\">Mostra soluzione</a><div class=\"jupman-sol jupman-sol-code\" style=\"display:none\">  "
   ]
  },
  {
   "cell_type": "code",
   "execution_count": 51,
   "metadata": {},
   "outputs": [
    {
     "name": "stdout",
     "output_type": "stream",
     "text": [
      "Cerco ceci e soia ...\n",
      "Trovati 20 kg di ceci\n",
      "Trovati 90 kg di soia\n",
      "Totale: 110 kg\n"
     ]
    }
   ],
   "source": [
    "\n",
    "legumi = ['ceci', 'soia']     # 110 \n",
    "#legumi = ['fagioli', 'fave', 'lenticchie']   # 170\n",
    "\n",
    "#            0  1  2  3  4  5 \n",
    "magazzino = [50,90,70,10,20,50]\n",
    "\n",
    "registro = {'piselli':3,\n",
    "            'soia':1,\n",
    "            'lenticchie':5,\n",
    "            'ceci':4,\n",
    "            'fave':2,\n",
    "            'fagioli':0,\n",
    "}\n",
    "\n",
    "# scrivi qui\n",
    "print('Cerco', ' e '.join(legumi), '...')\n",
    "somma = 0\n",
    "for leg in legumi:\n",
    "    print('Trovati', magazzino[registro[leg]], 'kg di', leg)\n",
    "    somma += magazzino[registro[leg]]\n",
    "    \n",
    "print('Totale:',somma, 'kg')    "
   ]
  },
  {
   "cell_type": "raw",
   "id": "19dcb108",
   "metadata": {
    "format": "text/html"
   },
   "source": [
    "</div>"
   ]
  },
  {
   "cell_type": "code",
   "execution_count": 51,
   "metadata": {},
   "outputs": [],
   "source": [
    "\n",
    "legumi = ['ceci', 'soia']     # 110 \n",
    "#legumi = ['fagioli', 'fave', 'lenticchie']   # 170\n",
    "\n",
    "#            0  1  2  3  4  5 \n",
    "magazzino = [50,90,70,10,20,50]\n",
    "\n",
    "registro = {'piselli':3,\n",
    "            'soia':1,\n",
    "            'lenticchie':5,\n",
    "            'ceci':4,\n",
    "            'fave':2,\n",
    "            'fagioli':0,\n",
    "}\n",
    "\n",
    "# scrivi qui\n",
    "\n"
   ]
  },
  {
   "cell_type": "markdown",
   "metadata": {},
   "source": [
    "### Esercizio - smog\n",
    "\n",
    "✪ Scrivi del codice che dati due dizionari `smog` e `preposizioni` che associano a luoghi rispettivamente valori di smog e preposizioni, stampa tutti i luoghi indicando:\n",
    "\n",
    "* 'PREPOSIZIONE LUOGO l'inquinamento è eccessivo' se il valore di smog è superiore a 30\n",
    "* 'PREPOSIZIONE LUOGO l'inquinamento è tollerabile' altrimenti\n",
    "\n",
    "\n",
    "* **NOTA**: nella stampa la prima lettera delle preposizioni deve essere maiuscola: per trasformare la stringa puoi usare il metodo `.capitalize()`\n",
    "\n",
    "Esempio - dati:\n",
    "\n",
    "```python\n",
    "smog = {'strada':40,\n",
    "        'ciclabile': 20,\n",
    "        'autostrada': 90,\n",
    "        'parco': 15,\n",
    "        'lago':5\n",
    "       }\n",
    "\n",
    "preposizioni = {\n",
    "    'autostrada':'in',\n",
    "    'ciclabile':'alla',\n",
    "    'lago':'al',\n",
    "    'parco':'al',\n",
    "    'strada':'in',    \n",
    "}\n",
    "```\n",
    "\n",
    "stampa (l'ordine **non** importa):\n",
    "\n",
    "```\n",
    "In strada l'inquinamento è eccessivo\n",
    "Al parco l'inquinamento è tollerabile\n",
    "In autostrada l'inquinamento è eccessivo\n",
    "Al lago l'inquinamento è tollerabile\n",
    "Alla ciclabile l'inquinamento è tollerabile\n",
    "```"
   ]
  },
  {
   "cell_type": "raw",
   "id": "3b95268a",
   "metadata": {
    "format": "text/html"
   },
   "source": [
    "<a  class=\"jupman-sol jupman-sol-toggler\" \n",
    " onclick=\"jupman.toggleSolution(this);\" \n",
    " data-jupman-show=\"Mostra soluzione\" data-jupman-hide=\"Nascondi\">Mostra soluzione</a><div class=\"jupman-sol jupman-sol-code\" style=\"display:none\">  "
   ]
  },
  {
   "cell_type": "code",
   "execution_count": 52,
   "metadata": {},
   "outputs": [
    {
     "name": "stdout",
     "output_type": "stream",
     "text": [
      "In strada l'inquinamento è eccessivo\n",
      "Alla ciclabile l'inquinamento è tollerabile\n",
      "In autostrada l'inquinamento è eccessivo\n",
      "Al parco l'inquinamento è tollerabile\n",
      "Al lago l'inquinamento è tollerabile\n"
     ]
    }
   ],
   "source": [
    "\n",
    "smog = {'strada':40,\n",
    "        'ciclabile': 20,\n",
    "        'autostrada': 90,\n",
    "        'parco': 15,\n",
    "        'lago':5\n",
    "       }\n",
    "\n",
    "preposizioni = {\n",
    "    'autostrada':'in',\n",
    "    'ciclabile':'alla',\n",
    "    'lago':'al',\n",
    "    'parco':'al',\n",
    "    'strada':'in',    \n",
    "}\n",
    "\n",
    "# scrivi qui\n",
    "for x in smog:\n",
    "    if smog[x] > 30:\n",
    "        print(preposizioni[x].capitalize(),x, \"l'inquinamento è eccessivo\")\n",
    "    else:\n",
    "        print(preposizioni[x].capitalize(),x,\"l'inquinamento è tollerabile\")"
   ]
  },
  {
   "cell_type": "raw",
   "id": "2ecd855b",
   "metadata": {
    "format": "text/html"
   },
   "source": [
    "</div>"
   ]
  },
  {
   "cell_type": "code",
   "execution_count": 52,
   "metadata": {},
   "outputs": [],
   "source": [
    "\n",
    "smog = {'strada':40,\n",
    "        'ciclabile': 20,\n",
    "        'autostrada': 90,\n",
    "        'parco': 15,\n",
    "        'lago':5\n",
    "       }\n",
    "\n",
    "preposizioni = {\n",
    "    'autostrada':'in',\n",
    "    'ciclabile':'alla',\n",
    "    'lago':'al',\n",
    "    'parco':'al',\n",
    "    'strada':'in',    \n",
    "}\n",
    "\n",
    "# scrivi qui\n",
    "\n"
   ]
  },
  {
   "cell_type": "markdown",
   "metadata": {},
   "source": [
    "### Esercizio - sport\n",
    "\n",
    "\n",
    "✪✪ Scrivi del codice che dato un dizionario `sport` in cui persone sono associate allo sport che preferiscono, crea un NUOVO dizionario `conteggi` che associa ad ogni sport il numero di persone che lo preferiscono.\n",
    "\n",
    "Esempio - dato:\n",
    "```python\n",
    "diz = {'Gianni':'calcio',\n",
    "       'Paolo':'tennis',\n",
    "       'Sara':'pallavolo',\n",
    "       'Elena':'tennis',\n",
    "       'Roberto':'calcio',\n",
    "       'Carla':'calcio',    \n",
    "}\n",
    "```\n",
    "\n",
    "Dopo il tuo codice, deve risultare:\n",
    "\n",
    "```python\n",
    ">>> print(conteggi)\n",
    "{'calcio': 3, 'pallavolo': 1, 'tennis': 2}\n",
    "```"
   ]
  },
  {
   "cell_type": "raw",
   "id": "6042e9da",
   "metadata": {
    "format": "text/html"
   },
   "source": [
    "<a  class=\"jupman-sol jupman-sol-toggler\" \n",
    " onclick=\"jupman.toggleSolution(this);\" \n",
    " data-jupman-show=\"Mostra soluzione\" data-jupman-hide=\"Nascondi\">Mostra soluzione</a><div class=\"jupman-sol jupman-sol-code\" style=\"display:none\">  "
   ]
  },
  {
   "cell_type": "code",
   "execution_count": 53,
   "metadata": {},
   "outputs": [
    {
     "name": "stdout",
     "output_type": "stream",
     "text": [
      "{'calcio': 3, 'tennis': 2, 'pallavolo': 1}\n"
     ]
    }
   ],
   "source": [
    "\n",
    "sport = {'Gianni':'calcio',\n",
    "         'Paolo':'tennis',\n",
    "         'Sara':'pallavolo',\n",
    "         'Elena':'tennis',\n",
    "         'Roberto':'calcio',\n",
    "         'Carla':'calcio',    \n",
    "}\n",
    "\n",
    "# scrivi qui\n",
    "\n",
    "conteggi = {}\n",
    "\n",
    "for k,v in sport.items():\n",
    "    if v in conteggi:\n",
    "        conteggi[v] += 1\n",
    "    else:\n",
    "        conteggi[v] = 1\n",
    "\n",
    "print(conteggi)"
   ]
  },
  {
   "cell_type": "raw",
   "id": "2df0133a",
   "metadata": {
    "format": "text/html"
   },
   "source": [
    "</div>"
   ]
  },
  {
   "cell_type": "code",
   "execution_count": 53,
   "metadata": {},
   "outputs": [],
   "source": [
    "\n",
    "sport = {'Gianni':'calcio',\n",
    "         'Paolo':'tennis',\n",
    "         'Sara':'pallavolo',\n",
    "         'Elena':'tennis',\n",
    "         'Roberto':'calcio',\n",
    "         'Carla':'calcio',    \n",
    "}\n",
    "\n",
    "# scrivi qui\n",
    "\n"
   ]
  },
  {
   "cell_type": "markdown",
   "metadata": {},
   "source": [
    "\n",
    "### Modificare un dizionario durante l'iterazione\n",
    "\n",
    "Supponi di avere un dizionario delle province\n",
    "\n",
    "\n",
    "```python\n",
    "province = {'tn': 'Trento',\n",
    " 'mi':'Milano',\n",
    " 'na':'Napoli',\n",
    "}\n",
    "```\n",
    "\n",
    "e di volerlo MODIFICARE in modo che dopo il tuo codice risultino aggiunte le sigle in maiuscolo:\n",
    "\n",
    "```python\n",
    ">>> print(province)\n",
    "{'tn': 'Trento',\n",
    " 'mi':'Milano',\n",
    " 'na':'Napoli',\n",
    " 'TN': 'Trento',\n",
    " 'MI':'Milano',\n",
    " 'NA':'Napoli',\n",
    "}\n",
    "```\n",
    "\n",
    "\n",
    "Potrebbe venirti l'idea di scrivere qualcosa del genere:\n",
    "\n",
    "```python\n",
    "for chiave in province =:\n",
    "    province[chiave.upper()] = province[chiave]    # ATTENZIONE !\n",
    "```\n",
    "\n",
    "**DOMANDA**: Vedi forse un problema?\n"
   ]
  },
  {
   "cell_type": "raw",
   "id": "2da7d216",
   "metadata": {
    "format": "text/html"
   },
   "source": [
    "<a  class=\"jupman-sol jupman-sol-toggler\" \n",
    " onclick=\"jupman.toggleSolution(this);\" \n",
    " data-jupman-show=\"Mostra risposta\" data-jupman-hide=\"Nascondi\">Mostra risposta</a><div class=\"jupman-sol jupman-sol-question\" style=\"display:none\">  "
   ]
  },
  {
   "cell_type": "markdown",
   "metadata": {},
   "source": [
    "**RISPOSTA**: se _mentre_ scorriamo il dizionario, continuiamo al contempo ad aggiungere pezzi, c'è il rischio concreto che non termineremo mai di esaminare le chiavi !\n",
    "\n",
    "Perciò leggi bene quanto segue:"
   ]
  },
  {
   "cell_type": "raw",
   "id": "a72dbc58",
   "metadata": {
    "format": "text/html"
   },
   "source": [
    "</div>"
   ]
  },
  {
   "cell_type": "markdown",
   "metadata": {},
   "source": [
    "<div class=\"alert alert-info\" >\n",
    "\n",
    "[X COMANDAMENTO](https://it.softpython.org/commandments.html#X-COMANDAMENTO): \n",
    " **Non aggiungerai o toglierai mai elementi da una sequenza su cui stai iterando con un** `for`**!**\n",
    "</div>\n",
    "\n",
    "In questo caso, se proviamo ad eseguire il codice, otterremo un errore esplicito:\n",
    "\n",
    "```python\n",
    "---------------------------------------------------------------------------\n",
    "RuntimeError                              Traceback (most recent call last)\n",
    "<ipython-input-26-9b20900057e8> in <module>()\n",
    "----> 1 for chiave in diz:\n",
    "      2     diz['chiave'.upper()] = diz[chiave]    # ATTENZIONE !\n",
    "\n",
    "RuntimeError: dictionary changed size during iteration\n",
    "```\n",
    "ma in altri casi (come per esempio con le liste) effettuare modifiche **può produrre comportamenti del tutto imprevedibili** (conosci forse l'espressione _tirare il tappeto da sotto i piedi_?)"
   ]
  },
  {
   "cell_type": "markdown",
   "metadata": {},
   "source": [
    "**E rimuovere?** Abbiamo visto che aggiungere è pericoloso, ma lo è anche togliere.\n",
    "\n",
    "Supponiamo di voler togliere qualunque coppia che abbia come valore `'Trento'`"
   ]
  },
  {
   "cell_type": "markdown",
   "metadata": {},
   "source": [
    "\n",
    "```python\n",
    "province = {\n",
    "    'tn': 'Trento',\n",
    "    'mi':'Milano',\n",
    "    'na':'Napoli',\n",
    "}\n",
    "```\n",
    "\n",
    "affinchè risulti\n",
    "\n",
    "```python\n",
    ">>> print(province)\n",
    "{'mi':'Milano',\n",
    " 'na':'Napoli'}\n",
    "```"
   ]
  },
  {
   "cell_type": "markdown",
   "metadata": {},
   "source": [
    "Se proviamo ad eseguire qualcosa del genere per fortuna Python si accorge e ci lancia un'eccezione:\n",
    "\n",
    "```python\n",
    "province = {\n",
    "    'tn': 'Trento',\n",
    "    'mi':'Milano',\n",
    "    'na':'Napoli',\n",
    "}\n",
    "\n",
    "for chiave in province:\n",
    "    if province[chiave] == 'Trento':\n",
    "        del province[chiave]   # PESSIMA IDEA\n",
    "```\n",
    "\n",
    "```python\n",
    "---------------------------------------------------------------------------\n",
    "RuntimeError                              Traceback (most recent call last)\n",
    "<ipython-input-23-5df0fd659120> in <module>()\n",
    "      5     'na':'Napoli'\n",
    "      6 }\n",
    "----> 7 for chiave in province:\n",
    "      8     if province[chiave] == 'Trento':\n",
    "      9         del province[chiave]   # PESSIMA IDEA\n",
    "\n",
    "RuntimeError: dictionary changed size during iteration\n",
    "\n",
    "```"
   ]
  },
  {
   "cell_type": "markdown",
   "metadata": {},
   "source": [
    "**Se proprio devi rimuovere elementi dalla sequenza su cui stai iterando**, usa [un ciclo while](https://it.softpython.org/control-flow/flow3-while-sol.html) o effettua prima una copia della sequenza originale."
   ]
  },
  {
   "cell_type": "markdown",
   "metadata": {},
   "source": [
    "### Esercizio - zazb"
   ]
  },
  {
   "cell_type": "markdown",
   "metadata": {},
   "source": [
    "✪✪ Scrivere del codice che dato un dizionario `diz` con caratteri come chiavi, MODIFICA il dizionario affinchè gli vengano aggiunte chiavi uguali a quelle esistenti ma precedute dal carattere `'z'` - come valore associato alle nuove chiavi, poni l'intero `10`\n",
    "\n",
    "Esempio - dato: \n",
    "\n",
    "```python\n",
    "diz = {\n",
    "    'a':3,\n",
    "    'b':8,\n",
    "    'c':4\n",
    "}\n",
    "\n",
    "```\n",
    "\n",
    "dopo il tuo codice, `diz` dovrebbe risultare MODIFICATO così:\n",
    "\n",
    "```python\n",
    ">>> diz\n",
    "{   'a':3,\n",
    "    'b':8,\n",
    "    'c':4,\n",
    "    'za':10,\n",
    "    'zb':10,\n",
    "    'zc':10\n",
    "}\n",
    "```"
   ]
  },
  {
   "cell_type": "markdown",
   "metadata": {},
   "source": [
    "\n",
    "**DOMANDA**: E' forse il caso di scrivere una soluzione come quella qua sotto? Leggi bene questo:\n",
    "\n",
    "\n",
    "```python\n",
    "diz = {\n",
    "    'a':3,\n",
    "    'b':8,\n",
    "    'c':4\n",
    "}\n",
    "\n",
    "for chiave in diz:    \n",
    "    diz['z'+chiave] = 10    # ATTENZIONE !! GUAI IN VISTA !!\n",
    "```"
   ]
  },
  {
   "cell_type": "raw",
   "id": "dd2e9934",
   "metadata": {
    "format": "text/html"
   },
   "source": [
    "<a  class=\"jupman-sol jupman-sol-toggler\" \n",
    " onclick=\"jupman.toggleSolution(this);\" \n",
    " data-jupman-show=\"Mostra risposta\" data-jupman-hide=\"Nascondi\">Mostra risposta</a><div class=\"jupman-sol jupman-sol-question\" style=\"display:none\">  "
   ]
  },
  {
   "cell_type": "markdown",
   "metadata": {},
   "source": [
    "**RISPOSTA**: Assolutamente no - in questo caso siamo fortunati e otterremo un errore esplicito, in altri potremmo ottenere cicli infiniti o risultati incomprensibili:\n",
    "\n",
    "```python\n",
    "---------------------------------------------------------------------------\n",
    "RuntimeError                              Traceback (most recent call last)\n",
    "<ipython-input-36-550c4c302120> in <module>()\n",
    "      5 }\n",
    "      6 \n",
    "----> 7 for chiave in diz:\n",
    "      8     diz['z'+chiave] = 10\n",
    "\n",
    "RuntimeError: dictionary changed size during iteration\n",
    "```\n",
    "\n",
    "**Fai di meglio:** ora prova a scrivere una versione del programma che non abbia questo problema"
   ]
  },
  {
   "cell_type": "raw",
   "id": "c26a0d42",
   "metadata": {
    "format": "text/html"
   },
   "source": [
    "</div>"
   ]
  },
  {
   "cell_type": "raw",
   "id": "91ed02d6",
   "metadata": {
    "format": "text/html"
   },
   "source": [
    "<a  class=\"jupman-sol jupman-sol-toggler\" \n",
    " onclick=\"jupman.toggleSolution(this);\" \n",
    " data-jupman-show=\"Mostra soluzione\" data-jupman-hide=\"Nascondi\">Mostra soluzione</a><div class=\"jupman-sol jupman-sol-code\" style=\"display:none\">  "
   ]
  },
  {
   "cell_type": "code",
   "execution_count": 54,
   "metadata": {},
   "outputs": [
    {
     "data": {
      "text/plain": [
       "{'a': 3, 'b': 8, 'c': 4, 'za': 10, 'zb': 10, 'zc': 10}"
      ]
     },
     "execution_count": 54,
     "metadata": {},
     "output_type": "execute_result"
    }
   ],
   "source": [
    "\n",
    "diz = {\n",
    "    'a':3,\n",
    "    'b':8,\n",
    "    'c':4\n",
    "}\n",
    "\n",
    "# scrivi qui\n",
    "\n",
    "for el in list(diz.keys()):  # list 'fotografa' lo stato delle chiavi\n",
    "    diz['z'+el] = 10\n",
    "\n",
    "diz"
   ]
  },
  {
   "cell_type": "raw",
   "id": "80938480",
   "metadata": {
    "format": "text/html"
   },
   "source": [
    "</div>"
   ]
  },
  {
   "cell_type": "code",
   "execution_count": 54,
   "metadata": {},
   "outputs": [],
   "source": [
    "\n",
    "diz = {\n",
    "    'a':3,\n",
    "    'b':8,\n",
    "    'c':4\n",
    "}\n",
    "\n",
    "# scrivi qui\n",
    "\n"
   ]
  },
  {
   "cell_type": "markdown",
   "metadata": {},
   "source": [
    "## `for` annidati\n",
    "\n",
    "Quanto già detto in precedenza sul nome delle variabile vale ancor di più per i `for` annidati:"
   ]
  },
  {
   "cell_type": "markdown",
   "metadata": {},
   "source": [
    "<div class=\"alert alert-info\">\n",
    "\n",
    "[II COMANDAMENTO](https://it.softpython.org/commandments.html#II-COMANDAMENTO) **Quando inserisci una variabile in un ciclo** `for` **, questa variabile deve essere nuova**\n",
    "\n",
    "</div>"
   ]
  },
  {
   "cell_type": "markdown",
   "metadata": {},
   "source": [
    "Se hai definito una variabile in un `for` esterno, non la reintrodurrai in un `for` interno, perchè ciò portebbe gran confusione. Per esempio qua `s` è introdotta sia in quello esterno che in quello interno:"
   ]
  },
  {
   "cell_type": "code",
   "execution_count": 55,
   "metadata": {},
   "outputs": [
    {
     "name": "stdout",
     "output_type": "stream",
     "text": [
      "0\n",
      "1\n",
      "2\n",
      "2\n",
      "0\n",
      "1\n",
      "2\n",
      "2\n",
      "0\n",
      "1\n",
      "2\n",
      "2\n",
      "0\n",
      "1\n",
      "2\n",
      "2\n"
     ]
    }
   ],
   "source": [
    "for s in ['pallavolo', 'tennis', 'calcio', 'nuoto']:\n",
    "    \n",
    "    for s in range(3):  # inferno da debuggare, perdi la s del ciclo for esterno\n",
    "        print(s)\n",
    "        \n",
    "    print(s)  # stampa 2 invece che uno sport !"
   ]
  },
  {
   "cell_type": "markdown",
   "metadata": {},
   "source": [
    "### Domande - for annidati\n",
    "\n",
    "Guarda i seguenti frammenti di codice, e per ciascuno cerca di indovinare quale risultato produce (o se da errore):"
   ]
  },
  {
   "cell_type": "markdown",
   "metadata": {},
   "source": [
    "1.  ```python\n",
    "    for y in for x in range(3):\n",
    "        print(x,y)\n",
    "    ```\n",
    "1.  ```python\n",
    "    for y in for x in range(2) in range(3):\n",
    "        print(x,y)\n",
    "    ```\n",
    "1.  ```python\n",
    "    for y in range(3):\n",
    "        for x in range(2):\n",
    "            print(x,y)\n",
    "    ```\n",
    "1.  ```python\n",
    "    for x in range(2):         \n",
    "        for x in range(3):\n",
    "            print(x)\n",
    "        print(x)\n",
    "    ```\n",
    "1.  ```python\n",
    "    for x in range(2):        \n",
    "        for y in range(3):\n",
    "            print(x,y)\n",
    "        print(x,y)    \n",
    "    ```    \n",
    "1.  ```python\n",
    "    for x in range(1):\n",
    "        for y in range(1):\n",
    "            print(x,y)\n",
    "    ```            \n",
    "1.  ```python\n",
    "    for x in range(2):\n",
    "        for y in range(3):\n",
    "            print(x,y)\n",
    "    ```\n",
    "1.  ```python\n",
    "    la = 'abc'\n",
    "    for x in la:\n",
    "        for y in la:\n",
    "            print(x)\n",
    "    ```            \n",
    "1.  ```python\n",
    "    for x in 'ab':\n",
    "        for y in 'cd':\n",
    "            print(x,y)    \n",
    "        for y in 'ef':\n",
    "            print(x,y)\n",
    "    ```\n",
    "1.  ```python\n",
    "    for x in 'abc':\n",
    "        for y in 'abc':\n",
    "            if x == y:\n",
    "                print(x)\n",
    "    ```\n",
    "1.  ```python\n",
    "    for x in 'abc':\n",
    "        for y in 'abc':\n",
    "            if x != y:\n",
    "                print(x,y)\n",
    "    ```\n",
    "1.  ```python\n",
    "    lista = []\n",
    "    for x in 'a':\n",
    "        for y in 'bc':\n",
    "            lista.append(x)\n",
    "            lista.append(y)\n",
    "    print(lista)\n",
    "    ```    \n",
    "1.  ```python\n",
    "    lista = []\n",
    "    for x in 'abc':\n",
    "        for y in 'de':\n",
    "            lista.append('z')\n",
    "    print(len(lista))\n",
    "    ```    \n",
    "1.  ```python\n",
    "    c = 1\n",
    "    for x in range(1,4):\n",
    "        s = ''\n",
    "        for y in range(1,4):\n",
    "            s = s + str(c)\n",
    "            c += 1\n",
    "        print(s)\n",
    "    ```"
   ]
  },
  {
   "cell_type": "markdown",
   "metadata": {},
   "source": [
    "### Esercizio - casting\n",
    "\n",
    "✪ Si vuole lanciare una nuova produzione videoculturale italo-nipponica e perciò vengono convocati gli attori per i provini. Il regista vuole provare una scena con tutte le possibili coppie che si possono formare tra attrici e attori. Scrivi del codice che stampa tutte le coppie, mettendo anche messaggi di introduzione.\n",
    "\n",
    "* **NOTA**: il numero di attori e attrici può essere diverso\n",
    "\n",
    "Esempio - dati:\n",
    "\n",
    "```python\n",
    "attrici = ['Licia','Mila']\n",
    "attori = ['Capitan Harlock', 'Lupin', 'Kenshiro']\n",
    "```\n",
    "\n",
    "stampa:\n",
    "\n",
    "```\n",
    "Entri in scena Licia !\n",
    "   Entri in scena Capitan Harlock !\n",
    "      Licia e Capitan Harlock si preparino... CIAK!\n",
    "   Grazie Capitan Harlock - il prossimo !\n",
    "   Entri in scena Lupin !\n",
    "      Licia e Lupin si preparino... CIAK!\n",
    "   Grazie Lupin - il prossimo !\n",
    "   Entri in scena Kenshiro !\n",
    "      Licia e Kenshiro si preparino... CIAK!\n",
    "   Grazie Kenshiro - il prossimo !\n",
    "Grazie Licia - la prossima !\n",
    "Entri in scena Mila !\n",
    "   Entri in scena Capitan Harlock !\n",
    "      Mila e Capitan Harlock si preparino... CIAK!\n",
    "   Grazie Capitan Harlock - il prossimo !\n",
    "   Entri in scena Lupin !\n",
    "      Mila e Lupin si preparino... CIAK!\n",
    "   Grazie Lupin - il prossimo !\n",
    "   Entri in scena Kenshiro !\n",
    "      Mila e Kenshiro si preparino... CIAK!\n",
    "   Grazie Kenshiro - il prossimo !\n",
    "Grazie Mila - la prossima !\n",
    "\n",
    "Fine delle audizioni!\n",
    "```"
   ]
  },
  {
   "cell_type": "raw",
   "id": "908b8c54",
   "metadata": {
    "format": "text/html"
   },
   "source": [
    "<a  class=\"jupman-sol jupman-sol-toggler\" \n",
    " onclick=\"jupman.toggleSolution(this);\" \n",
    " data-jupman-show=\"Mostra soluzione\" data-jupman-hide=\"Nascondi\">Mostra soluzione</a><div class=\"jupman-sol jupman-sol-code\" style=\"display:none\">  "
   ]
  },
  {
   "cell_type": "code",
   "execution_count": 56,
   "metadata": {},
   "outputs": [
    {
     "name": "stdout",
     "output_type": "stream",
     "text": [
      "Entri in scena Licia !\n",
      "   Entri in scena Capitan Harlock !\n",
      "      Licia e Capitan Harlock si preparino... CIAK!\n",
      "   Grazie Capitan Harlock - il prossimo !\n",
      "   Entri in scena Lupin !\n",
      "      Licia e Lupin si preparino... CIAK!\n",
      "   Grazie Lupin - il prossimo !\n",
      "   Entri in scena Kenshiro !\n",
      "      Licia e Kenshiro si preparino... CIAK!\n",
      "   Grazie Kenshiro - il prossimo !\n",
      "Grazie Licia - la prossima !\n",
      "Entri in scena Mila !\n",
      "   Entri in scena Capitan Harlock !\n",
      "      Mila e Capitan Harlock si preparino... CIAK!\n",
      "   Grazie Capitan Harlock - il prossimo !\n",
      "   Entri in scena Lupin !\n",
      "      Mila e Lupin si preparino... CIAK!\n",
      "   Grazie Lupin - il prossimo !\n",
      "   Entri in scena Kenshiro !\n",
      "      Mila e Kenshiro si preparino... CIAK!\n",
      "   Grazie Kenshiro - il prossimo !\n",
      "Grazie Mila - la prossima !\n",
      "\n",
      "Fine delle audizioni!\n"
     ]
    }
   ],
   "source": [
    "\n",
    "attrici = ['Licia','Mila']\n",
    "attori = ['Capitan Harlock', 'Lupin', 'Kenshiro']\n",
    "\n",
    "\n",
    "# scrivi qui\n",
    "for attrice in attrici:\n",
    "    print('Entri in scena', attrice, '!')\n",
    "    for attore in attori:\n",
    "        print('   Entri in scena', attore, '!')\n",
    "        \n",
    "        print('     ',attrice, 'e', attore, 'si preparino... CIAK!')\n",
    "        print('   Grazie', attore, '- il prossimo !')\n",
    "    print('Grazie', attrice, '- la prossima !')\n",
    "print()\n",
    "print('Fine delle audizioni!')"
   ]
  },
  {
   "cell_type": "raw",
   "id": "89f36831",
   "metadata": {
    "format": "text/html"
   },
   "source": [
    "</div>"
   ]
  },
  {
   "cell_type": "code",
   "execution_count": 56,
   "metadata": {},
   "outputs": [],
   "source": [
    "\n",
    "attrici = ['Licia','Mila']\n",
    "attori = ['Capitan Harlock', 'Lupin', 'Kenshiro']\n",
    "\n",
    "\n",
    "# scrivi qui\n",
    "\n"
   ]
  },
  {
   "cell_type": "markdown",
   "metadata": {},
   "source": [
    "### Esercizio - coprire il piano\n",
    "\n",
    "✪ Dati gli interi `a` e `b`, scrivi del codice che stampa tutte le coppie possibili di numeri $x$ e $y$ tali che $1 \\leq x \\leq a$ e $1 \\leq y \\leq b$\n",
    "\n",
    "Per esempio, per \n",
    "\n",
    "```python\n",
    "a,b = 5,3\n",
    "```\n",
    "\n",
    "deve stampare\n",
    "\n",
    "```\n",
    "1 1\n",
    "1 2\n",
    "1 3\n",
    "2 1\n",
    "2 2\n",
    "2 3\n",
    "3 1\n",
    "3 2\n",
    "3 3\n",
    "4 1\n",
    "4 2\n",
    "4 3\n",
    "5 1\n",
    "5 2\n",
    "5 3\n",
    "```"
   ]
  },
  {
   "cell_type": "raw",
   "id": "e3df884b",
   "metadata": {
    "format": "text/html"
   },
   "source": [
    "<a  class=\"jupman-sol jupman-sol-toggler\" \n",
    " onclick=\"jupman.toggleSolution(this);\" \n",
    " data-jupman-show=\"Mostra soluzione\" data-jupman-hide=\"Nascondi\">Mostra soluzione</a><div class=\"jupman-sol jupman-sol-code\" style=\"display:none\">  "
   ]
  },
  {
   "cell_type": "code",
   "execution_count": 57,
   "metadata": {},
   "outputs": [
    {
     "name": "stdout",
     "output_type": "stream",
     "text": [
      "1 1\n",
      "1 2\n",
      "1 3\n",
      "2 1\n",
      "2 2\n",
      "2 3\n",
      "3 1\n",
      "3 2\n",
      "3 3\n",
      "4 1\n",
      "4 2\n",
      "4 3\n",
      "5 1\n",
      "5 2\n",
      "5 3\n"
     ]
    }
   ],
   "source": [
    "\n",
    "a,b = 5,3\n",
    "\n",
    "# scrivi qui\n",
    "for x in range(1,a+1):\n",
    "    for y in range(1,b+1):        \n",
    "        print(x,y)"
   ]
  },
  {
   "cell_type": "raw",
   "id": "2fddd172",
   "metadata": {
    "format": "text/html"
   },
   "source": [
    "</div>"
   ]
  },
  {
   "cell_type": "code",
   "execution_count": 57,
   "metadata": {},
   "outputs": [],
   "source": [
    "\n",
    "a,b = 5,3\n",
    "\n",
    "# scrivi qui\n",
    "\n"
   ]
  },
  {
   "cell_type": "markdown",
   "metadata": {},
   "source": [
    "### Esercizio - triangolare\n",
    "\n",
    "✪ Dato l'intero `a`, scrivi del codice che stampa tutte le coppie possibili di numeri $x$ e $y$ tali che $0 \\leq x \\leq y < a$\n",
    "\n",
    "Per esempio, per \n",
    "\n",
    "```python\n",
    "a = 5\n",
    "```\n",
    "\n",
    "deve stampare\n",
    "\n",
    "```\n",
    "0 0\n",
    "0 1\n",
    "0 2\n",
    "0 3\n",
    "0 4\n",
    "1 1\n",
    "1 2\n",
    "1 3\n",
    "1 4\n",
    "2 2\n",
    "2 3\n",
    "2 4\n",
    "3 3\n",
    "3 4\n",
    "4 4\n",
    "```"
   ]
  },
  {
   "cell_type": "raw",
   "id": "902ad1d9",
   "metadata": {
    "format": "text/html"
   },
   "source": [
    "<a  class=\"jupman-sol jupman-sol-toggler\" \n",
    " onclick=\"jupman.toggleSolution(this);\" \n",
    " data-jupman-show=\"Mostra soluzione\" data-jupman-hide=\"Nascondi\">Mostra soluzione</a><div class=\"jupman-sol jupman-sol-code\" style=\"display:none\">  "
   ]
  },
  {
   "cell_type": "code",
   "execution_count": 58,
   "metadata": {
    "scrolled": true
   },
   "outputs": [
    {
     "name": "stdout",
     "output_type": "stream",
     "text": [
      "0 0\n",
      "0 1\n",
      "0 2\n",
      "0 3\n",
      "0 4\n",
      "1 1\n",
      "1 2\n",
      "1 3\n",
      "1 4\n",
      "2 2\n",
      "2 3\n",
      "2 4\n",
      "3 3\n",
      "3 4\n",
      "4 4\n"
     ]
    }
   ],
   "source": [
    "\n",
    "a = 5\n",
    "# scrivi qui\n",
    "for x in range(a):    \n",
    "    for y in range(x,a):\n",
    "        print(x,y)\n",
    "    "
   ]
  },
  {
   "cell_type": "raw",
   "id": "1e1a4f42",
   "metadata": {
    "format": "text/html"
   },
   "source": [
    "</div>"
   ]
  },
  {
   "cell_type": "code",
   "execution_count": 58,
   "metadata": {
    "scrolled": true
   },
   "outputs": [],
   "source": [
    "\n",
    "a = 5\n",
    "# scrivi qui\n",
    "\n"
   ]
  },
  {
   "cell_type": "markdown",
   "metadata": {},
   "source": [
    "### Esercizio - porto\n",
    "\n",
    "✪ Scrivi del codice che data una lista `parole` e una lista `lettere`, per ogni parola calcola quante lettere contiene\n",
    "\n",
    "* vengono contati **SOLO** i caratteri presenti in `lettere`\n",
    "* stampa il risultato  **SOLO** se il numero è maggiore di zero\n",
    "\n",
    "\n",
    "Esempio - date:\n",
    "\n",
    "```python\n",
    "parole = ['barca','molo','remo','nassa','vela','strascico']\n",
    "lettere = ['a','c','s']\n",
    "```\n",
    "\n",
    "stampa:\n",
    "\n",
    "```\n",
    "barca contiene 2 a\n",
    "barca contiene 1 c\n",
    "nassa contiene 2 a\n",
    "nassa contiene 2 s\n",
    "vela contiene 1 a\n",
    "strascico contiene 1 a\n",
    "strascico contiene 2 c\n",
    "strascico contiene 2 s\n",
    "```"
   ]
  },
  {
   "cell_type": "raw",
   "id": "dc44c828",
   "metadata": {
    "format": "text/html"
   },
   "source": [
    "<a  class=\"jupman-sol jupman-sol-toggler\" \n",
    " onclick=\"jupman.toggleSolution(this);\" \n",
    " data-jupman-show=\"Mostra soluzione\" data-jupman-hide=\"Nascondi\">Mostra soluzione</a><div class=\"jupman-sol jupman-sol-code\" style=\"display:none\">  "
   ]
  },
  {
   "cell_type": "code",
   "execution_count": 59,
   "metadata": {},
   "outputs": [
    {
     "name": "stdout",
     "output_type": "stream",
     "text": [
      "barca contiene 2 a\n",
      "barca contiene 1 c\n",
      "nassa contiene 2 a\n",
      "nassa contiene 2 s\n",
      "vela contiene 1 a\n",
      "strascico contiene 1 a\n",
      "strascico contiene 2 c\n",
      "strascico contiene 2 s\n"
     ]
    }
   ],
   "source": [
    "\n",
    "parole = ['barca','molo','remo','nassa','vela','strascico']\n",
    "lettere = ['a','c','s']\n",
    "\n",
    "# scrivi qui\n",
    "\n",
    "for x in parole:\n",
    "    for y in lettere:\n",
    "        if y in x:\n",
    "            print(x,'contiene',x.count(y),y)"
   ]
  },
  {
   "cell_type": "raw",
   "id": "9a84cf0f",
   "metadata": {
    "format": "text/html"
   },
   "source": [
    "</div>"
   ]
  },
  {
   "cell_type": "code",
   "execution_count": 59,
   "metadata": {},
   "outputs": [],
   "source": [
    "\n",
    "parole = ['barca','molo','remo','nassa','vela','strascico']\n",
    "lettere = ['a','c','s']\n",
    "\n",
    "# scrivi qui\n",
    "\n"
   ]
  },
  {
   "cell_type": "markdown",
   "metadata": {},
   "source": [
    "### Esercizio - poligoni\n",
    "\n",
    "✪✪ Data una lista `poligoni` con nomi di poligoni ordinati per numero di lati a partire dal triangolo, scrivi del codice che stampa tutte le possibili domande che si possono formare riguardo il numero di lati. Parti da un minimo di 3 lati fino ad un massimo corrispondente al numero di lati dell'ultimo poligono (ricordati che i nomi sono ordinati per numero di lati!) \n",
    "\n",
    "Esempio - data:\n",
    "\n",
    "```python\n",
    "#                  0              1             2             3\n",
    "poligoni = [\"Il triangolo\",\"Il quadrato\",\"Il pentagono\", \"L'esagono\"]\n",
    "```\n",
    "\n",
    "stampa\n",
    "\n",
    "```\n",
    "Il triangolo ha 3 lati? True\n",
    "Il triangolo ha 4 lati? False\n",
    "Il triangolo ha 5 lati? False\n",
    "Il triangolo ha 6 lati? False\n",
    "Il quadrato ha 3 lati? False\n",
    "Il quadrato ha 4 lati? True\n",
    "Il quadrato ha 5 lati? False\n",
    "Il quadrato ha 6 lati? False\n",
    "Il pentagono ha 3 lati? False\n",
    "Il pentagono ha 4 lati? False\n",
    "Il pentagono ha 5 lati? True\n",
    "Il pentagono ha 6 lati? False\n",
    "L'esagono ha 3 lati? False\n",
    "L'esagono ha 4 lati? False\n",
    "L'esagono ha 5 lati? False\n",
    "L'esagono ha 6 lati? True\n",
    "```\n",
    "\n"
   ]
  },
  {
   "cell_type": "raw",
   "id": "acb60244",
   "metadata": {
    "format": "text/html"
   },
   "source": [
    "<a  class=\"jupman-sol jupman-sol-toggler\" \n",
    " onclick=\"jupman.toggleSolution(this);\" \n",
    " data-jupman-show=\"Mostra soluzione\" data-jupman-hide=\"Nascondi\">Mostra soluzione</a><div class=\"jupman-sol jupman-sol-code\" style=\"display:none\">  "
   ]
  },
  {
   "cell_type": "code",
   "execution_count": 60,
   "metadata": {},
   "outputs": [
    {
     "name": "stdout",
     "output_type": "stream",
     "text": [
      "Il triangolo ha 3 lati? True\n",
      "Il triangolo ha 4 lati? False\n",
      "Il triangolo ha 5 lati? False\n",
      "Il triangolo ha 6 lati? False\n",
      "Il quadrato ha 3 lati? False\n",
      "Il quadrato ha 4 lati? True\n",
      "Il quadrato ha 5 lati? False\n",
      "Il quadrato ha 6 lati? False\n",
      "Il pentagono ha 3 lati? False\n",
      "Il pentagono ha 4 lati? False\n",
      "Il pentagono ha 5 lati? True\n",
      "Il pentagono ha 6 lati? False\n",
      "L'esagono ha 3 lati? False\n",
      "L'esagono ha 4 lati? False\n",
      "L'esagono ha 5 lati? False\n",
      "L'esagono ha 6 lati? True\n"
     ]
    }
   ],
   "source": [
    "\n",
    "#                 0              1              2             3\n",
    "poligoni = [\"Il triangolo\",\"Il quadrato\",\"Il pentagono\", \"L'esagono\"]\n",
    "\n",
    "# scrivi qui\n",
    "for i in range(len(poligoni)):\n",
    "    for j in range(len(poligoni)):\n",
    "        print(poligoni[i],'ha', j+3, 'lati?', i+3 == j+3 )"
   ]
  },
  {
   "cell_type": "raw",
   "id": "32ef89eb",
   "metadata": {
    "format": "text/html"
   },
   "source": [
    "</div>"
   ]
  },
  {
   "cell_type": "code",
   "execution_count": 60,
   "metadata": {},
   "outputs": [],
   "source": [
    "\n",
    "#                 0              1              2             3\n",
    "poligoni = [\"Il triangolo\",\"Il quadrato\",\"Il pentagono\", \"L'esagono\"]\n",
    "\n",
    "# scrivi qui\n",
    "\n"
   ]
  },
  {
   "cell_type": "markdown",
   "metadata": {},
   "source": [
    "### Esercizio - bon jour\n",
    "\n",
    "✪✪✪ Date due stringhe `sa` e `sb` in minuscolo, scrivi del codice che stampa a turno tutte le lettere di `sa` in maiuscolo seguite da tutte le possibili combinazioni di `sb` che abbiano UNA SOLA lettera maiuscola.\n",
    "\n",
    "Esempio - date:\n",
    "\n",
    "```python\n",
    "sa = 'bon'\n",
    "sb = 'jour'\n",
    "```\n",
    "\n",
    "Deve stampare:\n",
    "\n",
    "```\n",
    "B Jour\n",
    "B jOur\n",
    "B joUr\n",
    "B jouR\n",
    "O Jour\n",
    "O jOur\n",
    "O joUr\n",
    "O jouR\n",
    "N Jour\n",
    "N jOur\n",
    "N joUr\n",
    "N jouR\n",
    "```\n"
   ]
  },
  {
   "cell_type": "raw",
   "id": "14251982",
   "metadata": {
    "format": "text/html"
   },
   "source": [
    "<a  class=\"jupman-sol jupman-sol-toggler\" \n",
    " onclick=\"jupman.toggleSolution(this);\" \n",
    " data-jupman-show=\"Mostra soluzione\" data-jupman-hide=\"Nascondi\">Mostra soluzione</a><div class=\"jupman-sol jupman-sol-code\" style=\"display:none\">  "
   ]
  },
  {
   "cell_type": "code",
   "execution_count": 61,
   "metadata": {},
   "outputs": [
    {
     "name": "stdout",
     "output_type": "stream",
     "text": [
      "B Jour\n",
      "B jOur\n",
      "B joUr\n",
      "B jouR\n",
      "O Jour\n",
      "O jOur\n",
      "O joUr\n",
      "O jouR\n",
      "N Jour\n",
      "N jOur\n",
      "N joUr\n",
      "N jouR\n"
     ]
    }
   ],
   "source": [
    "\n",
    "sa = 'bon'\n",
    "sb = 'jour'\n",
    "\n",
    "# scrivi qui\n",
    "\n",
    "for c1 in sa:\n",
    "    for i in range(len(sb)):\n",
    "        print(c1.upper() + ' ' + sb[:i] + sb[i].upper() + sb[i+1:])"
   ]
  },
  {
   "cell_type": "raw",
   "id": "24d97334",
   "metadata": {
    "format": "text/html"
   },
   "source": [
    "</div>"
   ]
  },
  {
   "cell_type": "code",
   "execution_count": 61,
   "metadata": {},
   "outputs": [],
   "source": [
    "\n",
    "sa = 'bon'\n",
    "sb = 'jour'\n",
    "\n",
    "# scrivi qui\n",
    "\n"
   ]
  },
  {
   "cell_type": "markdown",
   "metadata": {},
   "source": [
    "## Comandi `break` e `continue`\n",
    "\n",
    "Per avere ancora più controllo sull'esecuzione di un ciclo possiamo usare i comandi `break` e `continue` . \n",
    "\n",
    "<div class=\"alert alert-info\">\n",
    "\n",
    "**NOTA: Cerca di limitarne l'uso!**\n",
    "\n",
    "Quando vi è molto codice nel ciclo è facile 'dimenticarsi' della loro presenza trovandosi con bug difficili da scovare. D'altro canto, in alcuni casi selezionati _possono_ rendere il codice più leggibile, quindi come in tutte le cose vanno usati con giudizio.\n",
    "\n",
    "</div>\n",
    "\n",
    "### Terminare con un `break`\n",
    "\n",
    "Per uscire immediatamente da un ciclo si può usare il comando `break`:"
   ]
  },
  {
   "cell_type": "code",
   "execution_count": 62,
   "metadata": {},
   "outputs": [
    {
     "name": "stdout",
     "output_type": "stream",
     "text": [
      "l\n",
      "a\n",
      "v\n",
      "a\n",
      "break, esce dal ciclo!\n",
      "Ciclo finito !\n"
     ]
    }
   ],
   "source": [
    "for x in 'lavato':\n",
    "            \n",
    "    if x == 't':\n",
    "        print('break, esce dal ciclo!')\n",
    "        break\n",
    "        print('Dopo il break')\n",
    "        \n",
    "    print(x)\n",
    "    \n",
    "print('Ciclo finito !')"
   ]
  },
  {
   "cell_type": "markdown",
   "metadata": {},
   "source": [
    "Nota come l'istruzione che stampa `'Dopo il break'` _non_ sia stata eseguita."
   ]
  },
  {
   "cell_type": "markdown",
   "metadata": {},
   "source": [
    "### Proseguire con `continue`\n",
    "\n",
    "E' possibile portare l'esecuzione immediatamente all'iterazione successiva chiamando `continue`, che salta subito al successivo elemento della sequenza senza eseguire le istruzioni dopo il `continue`."
   ]
  },
  {
   "cell_type": "code",
   "execution_count": 63,
   "metadata": {
    "scrolled": false
   },
   "outputs": [
    {
     "name": "stdout",
     "output_type": "stream",
     "text": [
      "l\n",
      "continue, salta all'elemento successivo\n",
      "v\n",
      "continue, salta all'elemento successivo\n",
      "t\n",
      "o\n",
      "Ciclo finito !\n"
     ]
    }
   ],
   "source": [
    "i = 1\n",
    "for x in 'lavato':\n",
    "        \n",
    "    if x == 'a':\n",
    "        print(\"continue, salta all'elemento successivo\")\n",
    "        continue            \n",
    "    print(x)\n",
    "print('Ciclo finito !')"
   ]
  },
  {
   "cell_type": "markdown",
   "metadata": {},
   "source": [
    "### Combinare `break` e `continue`\n",
    "\n",
    "Proviamo a vedere entrambi in Python Tutor:"
   ]
  },
  {
   "cell_type": "code",
   "execution_count": 64,
   "metadata": {},
   "outputs": [
    {
     "name": "stdout",
     "output_type": "stream",
     "text": [
      "l\n",
      "continue, salta all'elemento successivo\n",
      "v\n",
      "continue, salta all'elemento successivo\n",
      "break, esce dal ciclo!\n",
      "Ciclo finito !\n"
     ]
    },
    {
     "data": {
      "text/html": [
       "\n",
       "        <script src=\"../_static/js/pytutor-embed.bundle.min.js\" type=\"application/javascript\"></script>\n",
       "     \n",
       "        <script id=\"json-jm711692aa-4c12-4c74-92c0-095fc88d3453\" type=\"application/json\" >\n",
       "            {\"code\": \" \\ni = 1\\nfor x in 'lavato':    \\n    if x == 'a':\\n        print(\\\"continue, salta all'elemento successivo\\\")\\n        continue    \\n    if x == 't':\\n        print('break, esce dal ciclo!')\\n        break\\n    print(x)    \\n    \\nprint('Ciclo finito !')\", \"trace\": [{\"line\": 2, \"event\": \"step_line\", \"func_name\": \"<module>\", \"globals\": {}, \"ordered_globals\": [], \"stack_to_render\": [], \"heap\": {}, \"stdout\": \"\"}, {\"line\": 3, \"event\": \"step_line\", \"func_name\": \"<module>\", \"globals\": {\"i\": 1}, \"ordered_globals\": [\"i\"], \"stack_to_render\": [], \"heap\": {}, \"stdout\": \"\"}, {\"line\": 4, \"event\": \"step_line\", \"func_name\": \"<module>\", \"globals\": {\"i\": 1, \"x\": \"l\"}, \"ordered_globals\": [\"i\", \"x\"], \"stack_to_render\": [], \"heap\": {}, \"stdout\": \"\"}, {\"line\": 7, \"event\": \"step_line\", \"func_name\": \"<module>\", \"globals\": {\"i\": 1, \"x\": \"l\"}, \"ordered_globals\": [\"i\", \"x\"], \"stack_to_render\": [], \"heap\": {}, \"stdout\": \"\"}, {\"line\": 10, \"event\": \"step_line\", \"func_name\": \"<module>\", \"globals\": {\"i\": 1, \"x\": \"l\"}, \"ordered_globals\": [\"i\", \"x\"], \"stack_to_render\": [], \"heap\": {}, \"stdout\": \"\"}, {\"line\": 3, \"event\": \"step_line\", \"func_name\": \"<module>\", \"globals\": {\"i\": 1, \"x\": \"l\"}, \"ordered_globals\": [\"i\", \"x\"], \"stack_to_render\": [], \"heap\": {}, \"stdout\": \"l\\n\"}, {\"line\": 4, \"event\": \"step_line\", \"func_name\": \"<module>\", \"globals\": {\"i\": 1, \"x\": \"a\"}, \"ordered_globals\": [\"i\", \"x\"], \"stack_to_render\": [], \"heap\": {}, \"stdout\": \"l\\n\"}, {\"line\": 5, \"event\": \"step_line\", \"func_name\": \"<module>\", \"globals\": {\"i\": 1, \"x\": \"a\"}, \"ordered_globals\": [\"i\", \"x\"], \"stack_to_render\": [], \"heap\": {}, \"stdout\": \"l\\n\"}, {\"line\": 6, \"event\": \"step_line\", \"func_name\": \"<module>\", \"globals\": {\"i\": 1, \"x\": \"a\"}, \"ordered_globals\": [\"i\", \"x\"], \"stack_to_render\": [], \"heap\": {}, \"stdout\": \"l\\ncontinue, salta all'elemento successivo\\n\"}, {\"line\": 3, \"event\": \"step_line\", \"func_name\": \"<module>\", \"globals\": {\"i\": 1, \"x\": \"a\"}, \"ordered_globals\": [\"i\", \"x\"], \"stack_to_render\": [], \"heap\": {}, \"stdout\": \"l\\ncontinue, salta all'elemento successivo\\n\"}, {\"line\": 4, \"event\": \"step_line\", \"func_name\": \"<module>\", \"globals\": {\"i\": 1, \"x\": \"v\"}, \"ordered_globals\": [\"i\", \"x\"], \"stack_to_render\": [], \"heap\": {}, \"stdout\": \"l\\ncontinue, salta all'elemento successivo\\n\"}, {\"line\": 7, \"event\": \"step_line\", \"func_name\": \"<module>\", \"globals\": {\"i\": 1, \"x\": \"v\"}, \"ordered_globals\": [\"i\", \"x\"], \"stack_to_render\": [], \"heap\": {}, \"stdout\": \"l\\ncontinue, salta all'elemento successivo\\n\"}, {\"line\": 10, \"event\": \"step_line\", \"func_name\": \"<module>\", \"globals\": {\"i\": 1, \"x\": \"v\"}, \"ordered_globals\": [\"i\", \"x\"], \"stack_to_render\": [], \"heap\": {}, \"stdout\": \"l\\ncontinue, salta all'elemento successivo\\n\"}, {\"line\": 3, \"event\": \"step_line\", \"func_name\": \"<module>\", \"globals\": {\"i\": 1, \"x\": \"v\"}, \"ordered_globals\": [\"i\", \"x\"], \"stack_to_render\": [], \"heap\": {}, \"stdout\": \"l\\ncontinue, salta all'elemento successivo\\nv\\n\"}, {\"line\": 4, \"event\": \"step_line\", \"func_name\": \"<module>\", \"globals\": {\"i\": 1, \"x\": \"a\"}, \"ordered_globals\": [\"i\", \"x\"], \"stack_to_render\": [], \"heap\": {}, \"stdout\": \"l\\ncontinue, salta all'elemento successivo\\nv\\n\"}, {\"line\": 5, \"event\": \"step_line\", \"func_name\": \"<module>\", \"globals\": {\"i\": 1, \"x\": \"a\"}, \"ordered_globals\": [\"i\", \"x\"], \"stack_to_render\": [], \"heap\": {}, \"stdout\": \"l\\ncontinue, salta all'elemento successivo\\nv\\n\"}, {\"line\": 6, \"event\": \"step_line\", \"func_name\": \"<module>\", \"globals\": {\"i\": 1, \"x\": \"a\"}, \"ordered_globals\": [\"i\", \"x\"], \"stack_to_render\": [], \"heap\": {}, \"stdout\": \"l\\ncontinue, salta all'elemento successivo\\nv\\ncontinue, salta all'elemento successivo\\n\"}, {\"line\": 3, \"event\": \"step_line\", \"func_name\": \"<module>\", \"globals\": {\"i\": 1, \"x\": \"a\"}, \"ordered_globals\": [\"i\", \"x\"], \"stack_to_render\": [], \"heap\": {}, \"stdout\": \"l\\ncontinue, salta all'elemento successivo\\nv\\ncontinue, salta all'elemento successivo\\n\"}, {\"line\": 4, \"event\": \"step_line\", \"func_name\": \"<module>\", \"globals\": {\"i\": 1, \"x\": \"t\"}, \"ordered_globals\": [\"i\", \"x\"], \"stack_to_render\": [], \"heap\": {}, \"stdout\": \"l\\ncontinue, salta all'elemento successivo\\nv\\ncontinue, salta all'elemento successivo\\n\"}, {\"line\": 7, \"event\": \"step_line\", \"func_name\": \"<module>\", \"globals\": {\"i\": 1, \"x\": \"t\"}, \"ordered_globals\": [\"i\", \"x\"], \"stack_to_render\": [], \"heap\": {}, \"stdout\": \"l\\ncontinue, salta all'elemento successivo\\nv\\ncontinue, salta all'elemento successivo\\n\"}, {\"line\": 8, \"event\": \"step_line\", \"func_name\": \"<module>\", \"globals\": {\"i\": 1, \"x\": \"t\"}, \"ordered_globals\": [\"i\", \"x\"], \"stack_to_render\": [], \"heap\": {}, \"stdout\": \"l\\ncontinue, salta all'elemento successivo\\nv\\ncontinue, salta all'elemento successivo\\n\"}, {\"line\": 9, \"event\": \"step_line\", \"func_name\": \"<module>\", \"globals\": {\"i\": 1, \"x\": \"t\"}, \"ordered_globals\": [\"i\", \"x\"], \"stack_to_render\": [], \"heap\": {}, \"stdout\": \"l\\ncontinue, salta all'elemento successivo\\nv\\ncontinue, salta all'elemento successivo\\nbreak, esce dal ciclo!\\n\"}, {\"line\": 12, \"event\": \"step_line\", \"func_name\": \"<module>\", \"globals\": {\"i\": 1, \"x\": \"t\"}, \"ordered_globals\": [\"i\", \"x\"], \"stack_to_render\": [], \"heap\": {}, \"stdout\": \"l\\ncontinue, salta all'elemento successivo\\nv\\ncontinue, salta all'elemento successivo\\nbreak, esce dal ciclo!\\n\"}, {\"line\": 12, \"event\": \"return\", \"func_name\": \"<module>\", \"globals\": {\"i\": 1, \"x\": \"t\"}, \"ordered_globals\": [\"i\", \"x\"], \"stack_to_render\": [], \"heap\": {}, \"stdout\": \"l\\ncontinue, salta all'elemento successivo\\nv\\ncontinue, salta all'elemento successivo\\nbreak, esce dal ciclo!\\nCiclo finito !\\n\"}]}\n",
       "        </script>\n",
       "        <div id=\"jm711692aa-4c12-4c74-92c0-095fc88d3453\" class=\"pytutorVisualizer\"> </div>\n",
       " \n",
       "        <style>\n",
       "        .vizLayoutTd {\n",
       "            background-color: #fff !important;\n",
       "        }\n",
       "\n",
       "        #pyStdout {            \n",
       "            min-height:25px;\n",
       "        }\n",
       "\n",
       "        /* 'Edit this code' link, hiding because replaces browser tab !!!*/\n",
       "        #editCodeLinkDiv {\n",
       "            display:none;  \n",
       "        }\n",
       "        </style>   \n",
       "                            \n",
       "        <script>\n",
       "        (function(){\n",
       "\n",
       "            var trace = JSON.parse(document.getElementById('json-jm711692aa-4c12-4c74-92c0-095fc88d3453').innerHTML);                                        \n",
       "            // NOTE 1: id without #\n",
       "            // NOTE 2 - maybe there are more predictable ways, but this will work anyway\n",
       "            //        - id should be number\n",
       "            visualizerIdOverride = Math.trunc(Math.random() * 100000000000)\n",
       "            addVisualizerToPage(trace, 'jm711692aa-4c12-4c74-92c0-095fc88d3453',{'embeddedMode' : false,\n",
       "                                             'visualizerIdOverride':visualizerIdOverride})  \n",
       "            \n",
       "            \n",
       "            // set overflow for pytuts - need to do in python as css \n",
       "            // does not allow parent selection\n",
       "            var pytuts = $('.pytutorVisualizer')\n",
       "            pytuts.closest('div.output_html.rendered_html.output_result')\n",
       "                    .css('overflow-x', 'visible')\n",
       "        \n",
       "            //pytuts.closest('div.output_html.rendered_html.output_result')\n",
       "            //      .css('background-color','red')                \n",
       "            \n",
       "        })()\n",
       "        </script>\n",
       "                \n",
       "                "
      ],
      "text/plain": [
       "<IPython.core.display.HTML object>"
      ]
     },
     "execution_count": 64,
     "metadata": {},
     "output_type": "execute_result"
    }
   ],
   "source": [
    "i = 1\n",
    "for x in 'lavato':    \n",
    "    if x == 'a':\n",
    "        print(\"continue, salta all'elemento successivo\")\n",
    "        continue    \n",
    "    if x == 't':\n",
    "        print('break, esce dal ciclo!')\n",
    "        break\n",
    "    print(x)    \n",
    "    \n",
    "print('Ciclo finito !')\n",
    "\n",
    "jupman.pytut()"
   ]
  },
  {
   "cell_type": "markdown",
   "metadata": {},
   "source": [
    "### Domande - break e continue\n",
    "\n",
    "Guarda i seguenti frammenti di codice, e per ciascuno cerca di indovinare quale risultato produce (o se da errore):\n",
    "\n",
    "\n",
    "1.  ```python\n",
    "    for x in ['a','b','c']:\n",
    "        print(x)\n",
    "        break\n",
    "    ```\n",
    "1.  ```python\n",
    "    for x in ['a','b','c']:\n",
    "        print(x)\n",
    "        break\n",
    "        print('GLAM')\n",
    "    ```    \n",
    "1.  ```python\n",
    "    for x in ['a','b','c']:\n",
    "        print(x)\n",
    "        break\n",
    "        break\n",
    "    ```    \n",
    "1.  ```python\n",
    "    for x in ['a','b','c']:\n",
    "        break\n",
    "        print(x)\n",
    "    ```        \n",
    "1.  ```python\n",
    "    break\n",
    "    for x in ['a','b','c']:      \n",
    "        print(x)\n",
    "    ```            \n",
    "1.  ```python\n",
    "    for x in ['a','b','c']:       \n",
    "        print(x)\n",
    "    break        \n",
    "    ```                \n",
    "1.  ```python\n",
    "    for x in ['a','b','c']:\n",
    "        continue\n",
    "        print(x)            \n",
    "    ```\n",
    "1.  ```python\n",
    "    for x in ['a','b','c']:        \n",
    "        print(x)            \n",
    "        continue\n",
    "    ```\n",
    "1.  ```python\n",
    "    for x in ['a','b','c']:        \n",
    "        print(x)            \n",
    "        continue\n",
    "        print('BAM')\n",
    "    ```    \n",
    "1.  ```python\n",
    "    continue\n",
    "    for x in ['a','b','c']:        \n",
    "        print(x)   \n",
    "    ```\n",
    "1.  ```python    \n",
    "    for x in ['a','b','c']:        \n",
    "        print(x)   \n",
    "    continue\n",
    "    ```   \n",
    "1.  ```python\n",
    "    for x in ['a','b','c']:    \n",
    "        break\n",
    "        1/0\n",
    "    print('BAD KARMA')\n",
    "    ```\n",
    "1.  ```python\n",
    "    for x in ['a','b','c']:    \n",
    "        1/0\n",
    "        break\n",
    "    print('BAD KARMA')\n",
    "    ```\n",
    "1.  ```python\n",
    "    for x in range(8):    \n",
    "        if x < 4:\n",
    "            continue\n",
    "        print('ZAM', x)\n",
    "    ```\n",
    "1.  ```python\n",
    "    for x in range(8):    \n",
    "        if x >= 4:\n",
    "            break\n",
    "        print('ZUM', x)\n",
    "    ```\n",
    "1.  ```python\n",
    "    for x in range(6):\n",
    "        if x % 2 == 0:\n",
    "            continue\n",
    "        print(x)\n",
    "    ```\n",
    "1.  ```python\n",
    "    for x in ['M','C','M']:\n",
    "        print(x)\n",
    "        for y in ['S','P','Q','R']:\n",
    "            print(y)\n",
    "            break        \n",
    "    ```\n",
    "1.  ```python\n",
    "    for x in ['M','C','M']:\n",
    "        print(x)\n",
    "        break\n",
    "        for y in ['S','P','Q','R']:\n",
    "            print(y)\n",
    "    ```\n",
    "1.  ```python\n",
    "    for x in ['M','C','M']:\n",
    "        print(x)\n",
    "        for y in ['S','P','Q','R']:\n",
    "            print(y)\n",
    "            continue\n",
    "    ```\n",
    "1.  ```python\n",
    "    for x in ['M','C','M']:\n",
    "        print(x)\n",
    "        continue\n",
    "        for y in ['S','P','Q','R']:\n",
    "            print(y)\n",
    "    ```"
   ]
  },
  {
   "cell_type": "markdown",
   "metadata": {},
   "source": [
    "### Esercizio - continuamente\n",
    "\n",
    "✪ Scrivi del codice che data una stringa `parola`, stampa tutti i caratteri _eccetto_ le vocali.\n",
    "\n",
    "Esempio - data:\n",
    "\n",
    "```python\n",
    "parola = 'continuamente'\n",
    "```\n",
    "\n",
    "stampa\n",
    "\n",
    "```\n",
    "c\n",
    "n\n",
    "t\n",
    "n\n",
    "m\n",
    "n\n",
    "t\n",
    "```\n"
   ]
  },
  {
   "cell_type": "raw",
   "id": "b8e4ceb0",
   "metadata": {
    "format": "text/html"
   },
   "source": [
    "<a  class=\"jupman-sol jupman-sol-toggler\" \n",
    " onclick=\"jupman.toggleSolution(this);\" \n",
    " data-jupman-show=\"Mostra soluzione\" data-jupman-hide=\"Nascondi\">Mostra soluzione</a><div class=\"jupman-sol jupman-sol-code\" style=\"display:none\">  "
   ]
  },
  {
   "cell_type": "code",
   "execution_count": 65,
   "metadata": {},
   "outputs": [
    {
     "name": "stdout",
     "output_type": "stream",
     "text": [
      "c\n",
      "n\n",
      "t\n",
      "n\n",
      "m\n",
      "n\n",
      "t\n"
     ]
    }
   ],
   "source": [
    "\n",
    "parola = 'continuamente'\n",
    "#parola='aiuola'\n",
    "\n",
    "# scrivi qui\n",
    "for x in parola:\n",
    "    if x in 'aeiou':\n",
    "        continue\n",
    "    else:\n",
    "        print(x)"
   ]
  },
  {
   "cell_type": "raw",
   "id": "d76068cf",
   "metadata": {
    "format": "text/html"
   },
   "source": [
    "</div>"
   ]
  },
  {
   "cell_type": "code",
   "execution_count": 65,
   "metadata": {},
   "outputs": [],
   "source": [
    "\n",
    "parola = 'continuamente'\n",
    "#parola='aiuola'\n",
    "\n",
    "# scrivi qui\n",
    "\n"
   ]
  },
  {
   "cell_type": "markdown",
   "metadata": {},
   "source": [
    "### Esercizio - breaking bad\n",
    "\n",
    "✪ Scrivi del codice che stampa tutti i caratteri da `stringa` finchè non incontra la stringa `'bad'`.\n",
    "\n",
    "Esempio - data\n",
    "\n",
    "```python\n",
    "stringa = 'cascapirillabadgnippobadzarpogno'\n",
    "```\n",
    "\n",
    "stampa\n",
    "\n",
    "```\n",
    "c\n",
    "a\n",
    "s\n",
    "c\n",
    "a\n",
    "p\n",
    "i\n",
    "r\n",
    "i\n",
    "l\n",
    "l\n",
    "a\n",
    "```"
   ]
  },
  {
   "cell_type": "raw",
   "id": "099412d3",
   "metadata": {
    "format": "text/html"
   },
   "source": [
    "<a  class=\"jupman-sol jupman-sol-toggler\" \n",
    " onclick=\"jupman.toggleSolution(this);\" \n",
    " data-jupman-show=\"Mostra soluzione\" data-jupman-hide=\"Nascondi\">Mostra soluzione</a><div class=\"jupman-sol jupman-sol-code\" style=\"display:none\">  "
   ]
  },
  {
   "cell_type": "code",
   "execution_count": 66,
   "metadata": {},
   "outputs": [
    {
     "name": "stdout",
     "output_type": "stream",
     "text": [
      "c\n",
      "a\n",
      "s\n",
      "c\n",
      "a\n",
      "p\n",
      "i\n",
      "r\n",
      "i\n",
      "l\n",
      "l\n",
      "a\n"
     ]
    }
   ],
   "source": [
    "\n",
    "stringa = 'cascapirillabadgnippobadzarpogno'  # cascapirilla\n",
    "#stringa = 'sobad'  # 'so'\n",
    "#stringa = 'bad'  # ''\n",
    "#stringa = 'badso'  # ''\n",
    "\n",
    "# scrivi qui\n",
    "for i in range(len(stringa)):\n",
    "    if stringa[i:i+3] == 'bad':\n",
    "        break\n",
    "    else:\n",
    "        print(stringa[i])    "
   ]
  },
  {
   "cell_type": "raw",
   "id": "b5a308f7",
   "metadata": {
    "format": "text/html"
   },
   "source": [
    "</div>"
   ]
  },
  {
   "cell_type": "code",
   "execution_count": 66,
   "metadata": {},
   "outputs": [],
   "source": [
    "\n",
    "stringa = 'cascapirillabadgnippobadzarpogno'  # cascapirilla\n",
    "#stringa = 'sobad'  # 'so'\n",
    "#stringa = 'bad'  # ''\n",
    "#stringa = 'badso'  # ''\n",
    "\n",
    "# scrivi qui\n",
    "\n"
   ]
  },
  {
   "cell_type": "markdown",
   "metadata": {},
   "source": [
    "### Esercizio - punto di rottura\n",
    "\n",
    "✪✪ Data una frase, stampa le parole una per riga _finchè_ trova un punto, e in tal caso si ferma.\n",
    "\n",
    "* **NON** usare `frase.split('.')`, ma split su altri caratteri sono consentite.\n",
    "\n",
    "Esempio - data:\n",
    "\n",
    "```python\n",
    "frase = 'Ad un certo punto bisogna fermarsi. Mai oltrepassare il limite.'\n",
    "```\n",
    "\n",
    "stampa\n",
    "\n",
    "```\n",
    "Ad\n",
    "un\n",
    "certo\n",
    "punto\n",
    "bisogna\n",
    "fermarsi\n",
    "```"
   ]
  },
  {
   "cell_type": "raw",
   "id": "e1b17374",
   "metadata": {
    "format": "text/html"
   },
   "source": [
    "<a  class=\"jupman-sol jupman-sol-toggler\" \n",
    " onclick=\"jupman.toggleSolution(this);\" \n",
    " data-jupman-show=\"Mostra soluzione\" data-jupman-hide=\"Nascondi\">Mostra soluzione</a><div class=\"jupman-sol jupman-sol-code\" style=\"display:none\">  "
   ]
  },
  {
   "cell_type": "code",
   "execution_count": 67,
   "metadata": {},
   "outputs": [
    {
     "name": "stdout",
     "output_type": "stream",
     "text": [
      "Ad\n",
      "un\n",
      "certo\n",
      "punto\n",
      "bisogna\n",
      "fermarsi\n"
     ]
    }
   ],
   "source": [
    "\n",
    "frase = 'Ad un certo punto bisogna fermarsi. Mai oltrepassare il limite.'\n",
    "#frase = \"Rispetta l'altolà. Non vorrai farci arrestare?\"\n",
    "#frase = 'Stop.'\n",
    "#frase = 'No stop'\n",
    "\n",
    "# scrivi qui\n",
    "\n",
    "for parola in frase.split():\n",
    "    if '.' in parola:\n",
    "        print(parola[:-1])\n",
    "        break\n",
    "    else:\n",
    "        print(parola)"
   ]
  },
  {
   "cell_type": "raw",
   "id": "3aff6442",
   "metadata": {
    "format": "text/html"
   },
   "source": [
    "</div>"
   ]
  },
  {
   "cell_type": "code",
   "execution_count": 67,
   "metadata": {},
   "outputs": [],
   "source": [
    "\n",
    "frase = 'Ad un certo punto bisogna fermarsi. Mai oltrepassare il limite.'\n",
    "#frase = \"Rispetta l'altolà. Non vorrai farci arrestare?\"\n",
    "#frase = 'Stop.'\n",
    "#frase = 'No stop'\n",
    "\n",
    "# scrivi qui\n",
    "\n"
   ]
  },
  {
   "cell_type": "markdown",
   "metadata": {},
   "source": [
    "### Esercizio - breakdance\n",
    "        \n",
    "✪✪ Sei un abile breakdancer e ti viene data della `musica` come lista di suoni. Dovrai fare due balli: \n",
    "\n",
    "- al primo dovrai ripetere i suoni della musica fino a quando hai incontrato esattmente `3` suoni `'pa'`, al che esclamerai `BREAKDANCE!`. \n",
    "- al secondo dovrai ripetere i suoni della musica _al contrario_ fino a quando hai incontrato esattmente `3` suoni `'pa'`, al che esclamerai `BREAKDANCE!`\n",
    "\n",
    "\n",
    "- **NON** modificare `musica`, quindi niente `musica.reverse()`\n",
    "\n",
    "Esempio - data: \n",
    "\n",
    "```python\n",
    "musica = ['unz','pa','pa','tud','unz','pa','pa','tud','unz','boom','boom','tud']\n",
    "```"
   ]
  },
  {
   "cell_type": "markdown",
   "metadata": {},
   "source": [
    "Stampa:\n",
    "\n",
    "```\n",
    "unz\n",
    "pa\n",
    "pa\n",
    "tud\n",
    "unz\n",
    "pa\n",
    "BREAKDANCE!\n",
    "\n",
    "tud\n",
    "boom\n",
    "boom\n",
    "unz\n",
    "tud\n",
    "pa\n",
    "pa\n",
    "unz\n",
    "tud\n",
    "pa\n",
    "BREAKDANCE!\n",
    "```"
   ]
  },
  {
   "cell_type": "raw",
   "id": "85c51ab9",
   "metadata": {
    "format": "text/html"
   },
   "source": [
    "<a  class=\"jupman-sol jupman-sol-toggler\" \n",
    " onclick=\"jupman.toggleSolution(this);\" \n",
    " data-jupman-show=\"Mostra soluzione\" data-jupman-hide=\"Nascondi\">Mostra soluzione</a><div class=\"jupman-sol jupman-sol-code\" style=\"display:none\">  "
   ]
  },
  {
   "cell_type": "code",
   "execution_count": 68,
   "metadata": {},
   "outputs": [
    {
     "name": "stdout",
     "output_type": "stream",
     "text": [
      "unz\n",
      "pa\n",
      "pa\n",
      "tud\n",
      "unz\n",
      "pa\n",
      "BREAKDANCE!\n",
      "\n",
      "tud\n",
      "boom\n",
      "boom\n",
      "unz\n",
      "tud\n",
      "pa\n",
      "pa\n",
      "unz\n",
      "tud\n",
      "pa\n",
      "BREAKDANCE!\n"
     ]
    }
   ],
   "source": [
    "\n",
    "musica = ['unz','pa','pa','tud','unz','pa','pa','tud','unz','boom','boom','tud']\n",
    "\n",
    "# scrivi qui\n",
    "\n",
    "k = 0\n",
    "for x in musica:\n",
    "    print(x)\n",
    "    if x == 'pa':\n",
    "        k += 1\n",
    "    if k == 3:\n",
    "        print('BREAKDANCE!')\n",
    "        print()\n",
    "        break\n",
    "\n",
    "k = 0\n",
    "for x in range(len(musica)-1, -1, -1): \n",
    "    print(musica[x])\n",
    "    if musica[x] == 'pa':\n",
    "        k += 1\n",
    "    if k == 3:\n",
    "        print('BREAKDANCE!')\n",
    "        break\n",
    "        "
   ]
  },
  {
   "cell_type": "raw",
   "id": "510b0cf1",
   "metadata": {
    "format": "text/html"
   },
   "source": [
    "</div>"
   ]
  },
  {
   "cell_type": "code",
   "execution_count": 68,
   "metadata": {},
   "outputs": [],
   "source": [
    "\n",
    "musica = ['unz','pa','pa','tud','unz','pa','pa','tud','unz','boom','boom','tud']\n",
    "\n",
    "# scrivi qui\n",
    "\n"
   ]
  }
 ],
 "metadata": {
  "kernelspec": {
   "display_name": "Python 3",
   "language": "python",
   "name": "python3"
  },
  "language_info": {
   "codemirror_mode": {
    "name": "ipython",
    "version": 3
   },
   "file_extension": ".py",
   "mimetype": "text/x-python",
   "name": "python",
   "nbconvert_exporter": "python",
   "pygments_lexer": "ipython3",
   "version": "3.7.10"
  },
  "toc": {
   "base_numbering": 1,
   "nav_menu": {},
   "number_sections": false,
   "sideBar": true,
   "skip_h1_title": false,
   "title_cell": "Table of Contents",
   "title_sidebar": "Contents",
   "toc_cell": false,
   "toc_position": {},
   "toc_section_display": true,
   "toc_window_display": true
  }
 },
 "nbformat": 4,
 "nbformat_minor": 2
}

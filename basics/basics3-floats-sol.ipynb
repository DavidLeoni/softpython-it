{
 "cells": [
  {
   "cell_type": "code",
   "execution_count": 1,
   "metadata": {
    "nbsphinx": "hidden"
   },
   "outputs": [],
   "source": [
    "# Ricordati di eseguire questa cella con Shift+Invio\n",
    "\n",
    "import jupman"
   ]
  },
  {
   "cell_type": "markdown",
   "metadata": {},
   "source": [
    "# Basi 3 - numeri reali\n",
    "\n",
    "## [Scarica zip esercizi](../_static/generated/basics.zip)\n",
    "\n",
    "[Naviga file online](https://github.com/DavidLeoni/softpython-it/tree/master/basics)\n",
    "\n",
    "<div class=\"alert alert-warning\">\n",
    "\n",
    "**REQUISITI:**\n",
    "    \n",
    "* **Letto** [Basi 1 - variabili e interi](https://it.softpython.org/basics/basics1-ints-sol.html)\n",
    "* **Letto** [Basi 2 - booleani](https://it.softpython.org/basics/basics2-bools-sol.html)    \n",
    "\n",
    "</div>"
   ]
  },
  {
   "cell_type": "markdown",
   "metadata": {},
   "source": [
    "## Numeri reali\n",
    "\n",
    "Python salva i numeri reali (numeri in virgola mobile) in 64 bit di informazione divisi in segno, esponente e mantissa. Vediamo un esempio:"
   ]
  },
  {
   "cell_type": "code",
   "execution_count": 2,
   "metadata": {},
   "outputs": [
    {
     "data": {
      "text/plain": [
       "3.14"
      ]
     },
     "execution_count": 2,
     "metadata": {},
     "output_type": "execute_result"
    }
   ],
   "source": [
    "3.14"
   ]
  },
  {
   "cell_type": "code",
   "execution_count": 3,
   "metadata": {},
   "outputs": [
    {
     "data": {
      "text/plain": [
       "float"
      ]
     },
     "execution_count": 3,
     "metadata": {},
     "output_type": "execute_result"
    }
   ],
   "source": [
    "type(3.14)"
   ]
  },
  {
   "cell_type": "markdown",
   "metadata": {},
   "source": [
    "<div class=\"alert alert-warning\">\n",
    "    \n",
    "**ATTENZIONE: bisogna usare il punto invece della virgola!**\n",
    "    \n",
    "Quindi scriverai `3.14`  invece di `3,14`\n",
    "    \n",
    "Fai molta attenzione quando copi numeri da documenti in italiano, potrebbero contenere insidiose virgole !\n",
    "</div>"
   ]
  },
  {
   "cell_type": "markdown",
   "metadata": {},
   "source": [
    "### Notazione scientifica\n",
    "\n",
    "Quando i numeri sono molto grandi o molto piccoli, per evitare di scrivere troppi zero conviene usare la notazione scientitifica con la _e_ come $xen$, che moltiplica il numero _x_ per $10^n$\n",
    "\n",
    "Con questa notazione, in memoria vengono messe solo le cifre più significative ( _la mantissa_ ) e l'esponente, evitando quindi di sprecare spazio."
   ]
  },
  {
   "cell_type": "code",
   "execution_count": 4,
   "metadata": {},
   "outputs": [
    {
     "data": {
      "text/plain": [
       "750.0"
      ]
     },
     "execution_count": 4,
     "metadata": {},
     "output_type": "execute_result"
    }
   ],
   "source": [
    "75e1"
   ]
  },
  {
   "cell_type": "code",
   "execution_count": 5,
   "metadata": {},
   "outputs": [
    {
     "data": {
      "text/plain": [
       "7500.0"
      ]
     },
     "execution_count": 5,
     "metadata": {},
     "output_type": "execute_result"
    }
   ],
   "source": [
    "75e2"
   ]
  },
  {
   "cell_type": "code",
   "execution_count": 6,
   "metadata": {},
   "outputs": [
    {
     "data": {
      "text/plain": [
       "75000.0"
      ]
     },
     "execution_count": 6,
     "metadata": {},
     "output_type": "execute_result"
    }
   ],
   "source": [
    "75e3"
   ]
  },
  {
   "cell_type": "code",
   "execution_count": 7,
   "metadata": {},
   "outputs": [
    {
     "data": {
      "text/plain": [
       "7.5e+124"
      ]
     },
     "execution_count": 7,
     "metadata": {},
     "output_type": "execute_result"
    }
   ],
   "source": [
    "75e123"
   ]
  },
  {
   "cell_type": "code",
   "execution_count": 8,
   "metadata": {},
   "outputs": [
    {
     "data": {
      "text/plain": [
       "75.0"
      ]
     },
     "execution_count": 8,
     "metadata": {},
     "output_type": "execute_result"
    }
   ],
   "source": [
    "75e0"
   ]
  },
  {
   "cell_type": "code",
   "execution_count": 9,
   "metadata": {},
   "outputs": [
    {
     "data": {
      "text/plain": [
       "7.5"
      ]
     },
     "execution_count": 9,
     "metadata": {},
     "output_type": "execute_result"
    }
   ],
   "source": [
    "75e-1"
   ]
  },
  {
   "cell_type": "code",
   "execution_count": 10,
   "metadata": {},
   "outputs": [
    {
     "data": {
      "text/plain": [
       "0.75"
      ]
     },
     "execution_count": 10,
     "metadata": {},
     "output_type": "execute_result"
    }
   ],
   "source": [
    "75e-2"
   ]
  },
  {
   "cell_type": "code",
   "execution_count": 11,
   "metadata": {},
   "outputs": [
    {
     "data": {
      "text/plain": [
       "7.5e-122"
      ]
     },
     "execution_count": 11,
     "metadata": {},
     "output_type": "execute_result"
    }
   ],
   "source": [
    "75e-123"
   ]
  },
  {
   "cell_type": "markdown",
   "metadata": {},
   "source": [
    "**DOMANDA**: Guarda le seguenti espressioni, e cerca di indovinare qule risultato producono (o se danno errore):\n",
    "    \n",
    "1.  ```python\n",
    "    print(1.000.000)\n",
    "    ```\n",
    "1.  ```\n",
    "    print(3,000,000.000)\n",
    "    ```\n",
    "1.  ```python\n",
    "    print(2000000.000)\n",
    "    ```\n",
    "1.  ```python\n",
    "    print(2000000.0)\n",
    "    ```\n",
    "1.  ```python\n",
    "    print(0.000.123)\n",
    "    ```    \n",
    "1.  ```python\n",
    "    print(0.123)\n",
    "    ```        \n",
    "1.  ```python\n",
    "    print(0.-123)\n",
    "    ```        \n",
    "    \n",
    "1.  ```python\n",
    "    print(3e0)\n",
    "    ```\n",
    "1.  ```python\n",
    "    print(3.0e0)\n",
    "    ```\n",
    "1.  ```python\n",
    "    print(7e-1)\n",
    "    ``` \n",
    "1.  ```python\n",
    "    print(3.0e2)\n",
    "    ```\n",
    "1.  ```python\n",
    "    print(3.0e-2)\n",
    "    ```    \n",
    "1.  ```python\n",
    "    print(3.0-e2)\n",
    "    ```\n",
    "1.  ```python\n",
    "    print(4e2-4e1)\n",
    "    ```"
   ]
  },
  {
   "cell_type": "markdown",
   "metadata": {},
   "source": [
    "### Numeri troppo grandi o troppo piccoli\n",
    "\n",
    "A volte i calcoli su numeri estremamente piccoli o enormi possono produrre come risultato `math.nan` (Not a Number) o `math.inf`. Per il momento li menzioniamo e basta, trovi una discussione dettagliata nel [foglio su Numpy](https://it.softpython.org/matrices-numpy/matrices-numpy-sol.html#NaN-e-infinit%C3%A0)"
   ]
  },
  {
   "cell_type": "markdown",
   "metadata": {},
   "source": [
    "### Esercizio - cerchio\n",
    "\n",
    "Calcola l'area del cerchio al centro di un pallone da calcio (raggio = 9.15m), ricordandoti che  $area= pi*r^2$ (come operatore per la potenza, usa `**`):\n",
    "\n",
    "Il tuo codice dovrebbe stampare come risultato `263.02199094102605`"
   ]
  },
  {
   "cell_type": "raw",
   "id": "82aed266",
   "metadata": {
    "format": "text/html"
   },
   "source": [
    "<a  class=\"jupman-sol jupman-sol-toggler\" \n",
    " onclick=\"jupman.toggleSolution(this);\" \n",
    " data-jupman-show=\"Mostra soluzione\" data-jupman-hide=\"Nascondi\">Mostra soluzione</a><div class=\"jupman-sol jupman-sol-code\" style=\"display:none\">  "
   ]
  },
  {
   "cell_type": "code",
   "execution_count": 12,
   "metadata": {},
   "outputs": [
    {
     "name": "stdout",
     "output_type": "stream",
     "text": [
      "263.02199094102605\n"
     ]
    }
   ],
   "source": [
    "# SOLUZIONE\n",
    "\n",
    "r = 9.15\n",
    "pi = 3.1415926536\n",
    "area = pi*(r**2)\n",
    "print(area)"
   ]
  },
  {
   "cell_type": "raw",
   "id": "77105d30",
   "metadata": {
    "format": "text/html"
   },
   "source": [
    "</div>"
   ]
  },
  {
   "cell_type": "code",
   "execution_count": 12,
   "metadata": {},
   "outputs": [
    {
     "name": "stdout",
     "output_type": "stream",
     "text": [
      "263.02199094102605\n"
     ]
    }
   ],
   "source": []
  },
  {
   "cell_type": "markdown",
   "metadata": {},
   "source": [
    "Nota che le parentesi intorno al `r**2` non sono necessarie perchè l'operatore `**` ha la precedenza, ma possono aiutare la leggibilità del codice.\n",
    "\n",
    "Ricordiamo qua la precedenza degli operatori:"
   ]
  },
  {
   "cell_type": "markdown",
   "metadata": {},
   "source": [
    "|Operatore|Descrizione|\n",
    "|---------|-----------|\n",
    "|`**`|Potenza (massima precedenza)|\n",
    "|`+` `-`| Più e meno unari|\n",
    "|`*` `/` `//` `%`|Moltiplicazione, divisione, divisione intera, modulo|\n",
    "|`+` `-`| Addizione e sottrazione|\n",
    "|`<=` `<` `>` `>=`| Operatori di comparazione|\n",
    "|`==` `!=` | Operatori di uguaglianza|\n",
    "|`not` `or` `and`|Operatori logici (minima precedenza)|"
   ]
  },
  {
   "cell_type": "markdown",
   "metadata": {},
   "source": [
    "### Esercizio - frazionamento\n",
    "\n",
    "Scrivi del codice per calcolare il valore della seguente formula per `x = 0.000003`, dovresti ottenere `2.753278226511882`"
   ]
  },
  {
   "cell_type": "markdown",
   "metadata": {},
   "source": [
    "$$\\large-\\frac{\\sqrt{x+3}}{\\frac{(x + 2)^3}{\\log{x}}}$$"
   ]
  },
  {
   "cell_type": "raw",
   "id": "1d06cce9",
   "metadata": {
    "format": "text/html"
   },
   "source": [
    "<a  class=\"jupman-sol jupman-sol-toggler\" \n",
    " onclick=\"jupman.toggleSolution(this);\" \n",
    " data-jupman-show=\"Mostra soluzione\" data-jupman-hide=\"Nascondi\">Mostra soluzione</a><div class=\"jupman-sol jupman-sol-code\" style=\"display:none\">  "
   ]
  },
  {
   "cell_type": "code",
   "execution_count": 13,
   "metadata": {},
   "outputs": [
    {
     "data": {
      "text/plain": [
       "2.753278226511882"
      ]
     },
     "execution_count": 13,
     "metadata": {},
     "output_type": "execute_result"
    }
   ],
   "source": [
    "x = 0.000003\n",
    "\n",
    "# scrivi qui\n",
    "import math\n",
    "- math.sqrt(x+3) / (((x+2)**3)/math.log(x))"
   ]
  },
  {
   "cell_type": "raw",
   "id": "52943561",
   "metadata": {
    "format": "text/html"
   },
   "source": [
    "</div>"
   ]
  },
  {
   "cell_type": "code",
   "execution_count": 13,
   "metadata": {},
   "outputs": [
    {
     "data": {
      "text/plain": [
       "2.753278226511882"
      ]
     },
     "execution_count": 13,
     "metadata": {},
     "output_type": "execute_result"
    }
   ],
   "source": [
    "x = 0.000003\n",
    "\n",
    "# scrivi qui\n",
    "\n"
   ]
  },
  {
   "cell_type": "markdown",
   "metadata": {},
   "source": [
    "### Esercizio - sommatoria\n",
    "\n",
    "Scrivi del codice per calcolare il valore della seguente espressione (non usare cicli, scrivi per esteso tutto i calcoli), dovresti ottenere `20.53333333333333`"
   ]
  },
  {
   "cell_type": "markdown",
   "metadata": {},
   "source": [
    "$$\\large\\sum_{j=1}^{3}{\\frac{j^4}{j + 2}}$$"
   ]
  },
  {
   "cell_type": "raw",
   "id": "efd34cab",
   "metadata": {
    "format": "text/html"
   },
   "source": [
    "<a  class=\"jupman-sol jupman-sol-toggler\" \n",
    " onclick=\"jupman.toggleSolution(this);\" \n",
    " data-jupman-show=\"Mostra soluzione\" data-jupman-hide=\"Nascondi\">Mostra soluzione</a><div class=\"jupman-sol jupman-sol-code\" style=\"display:none\">  "
   ]
  },
  {
   "cell_type": "code",
   "execution_count": 14,
   "metadata": {},
   "outputs": [
    {
     "data": {
      "text/plain": [
       "20.53333333333333"
      ]
     },
     "execution_count": 14,
     "metadata": {},
     "output_type": "execute_result"
    }
   ],
   "source": [
    "# scrivi qui\n",
    "((1**4) / (1+2)) + ((2**4) / (2+2)) + ((3**4) / (3+2))"
   ]
  },
  {
   "cell_type": "raw",
   "id": "172e8d43",
   "metadata": {
    "format": "text/html"
   },
   "source": [
    "</div>"
   ]
  },
  {
   "cell_type": "code",
   "execution_count": 14,
   "metadata": {},
   "outputs": [
    {
     "data": {
      "text/plain": [
       "20.53333333333333"
      ]
     },
     "execution_count": 14,
     "metadata": {},
     "output_type": "execute_result"
    }
   ],
   "source": [
    "# scrivi qui\n",
    "\n"
   ]
  },
  {
   "cell_type": "markdown",
   "metadata": {},
   "source": [
    "### Reali - conversione\n",
    "\n",
    "Se vogliamo convertire un reale ad un intero, abbiamo a disposizione diversi modi:\n",
    "\n",
    "|Funzione|Descrizione|Simbolo matematico|Risultato|\n",
    "|--------|-----------|------------------|---------|\n",
    "|`math.floor(x)`| arrotonda x all'intero inferiore|$$\\lfloor{8.7}\\rfloor$$|8|\n",
    "|`int(x)`| arrotonda x all'intero inferiore|$$\\lfloor{8.7}\\rfloor$$|8|\n",
    "|`math.ceil(x)`| arrotonda x all'intero superiore|$$\\lceil{5.3}\\rceil$$|6|\n",
    "|`round(x)`| arrotonda x all'intero più vicino|$$\\lfloor{2.49}\\rceil$$|2|\n",
    "|          | |$$\\lfloor{2.51}\\rceil$$|3|\n"
   ]
  },
  {
   "cell_type": "markdown",
   "metadata": {},
   "source": [
    "**DOMANDA**: Guarda le espressioni seguenti, e per ciascuna cerca di indovinare quale risultato produce (o se da errore).\n",
    "\n",
    "1.  ```python\n",
    "    math.floor(2.3)\n",
    "    ```\n",
    "1.  ```python\n",
    "    math.floor(-2.3)\n",
    "    ```\n",
    "1.  ```python\n",
    "    round(3.49)\n",
    "    ```\n",
    "1.  ```python\n",
    "    round(3.51)\n",
    "    ```    \n",
    "1.  ```python\n",
    "    round(-3.49)\n",
    "    ```    \n",
    "1.  ```python\n",
    "    round(-3.51)\n",
    "    ```\n",
    "1.  ```python\n",
    "    math.ceil(8.1)\n",
    "    ```\n",
    "1.  ```python\n",
    "    math.ceil(-8.1)\n",
    "    ```    "
   ]
  },
  {
   "cell_type": "markdown",
   "metadata": {},
   "source": [
    "**DOMANDA**: Dato un qualsiasi float `x`, la seguente formula è :\n",
    "        \n",
    "```python\n",
    "math.floor(math.ceil(x)) == math.ceil(math.floor(x))\n",
    "```\n",
    "\n",
    "1. sempre `True`\n",
    "2. sempre `False`\n",
    "3. a volte `True` e a volte `False` (fornire esempi)"
   ]
  },
  {
   "cell_type": "raw",
   "id": "07ae10b4",
   "metadata": {
    "format": "text/html"
   },
   "source": [
    "<a  class=\"jupman-sol jupman-sol-toggler\" \n",
    " onclick=\"jupman.toggleSolution(this);\" \n",
    " data-jupman-show=\"Mostra risposta\" data-jupman-hide=\"Nascondi\">Mostra risposta</a><div class=\"jupman-sol jupman-sol-question\" style=\"display:none\">  "
   ]
  },
  {
   "cell_type": "markdown",
   "metadata": {},
   "source": [
    "**RISPOSTA**: la 3: per interi come `x=2.0` è `True`, negli altri casi come `x=2.3` è `False`"
   ]
  },
  {
   "cell_type": "raw",
   "id": "2a554b0f",
   "metadata": {
    "format": "text/html"
   },
   "source": [
    "</div>"
   ]
  },
  {
   "cell_type": "markdown",
   "metadata": {},
   "source": [
    "**DOMANDA**: Dato un qualsiasi float `x`, la seguente formula è :\n",
    "        \n",
    "```python\n",
    "math.floor(x) == -math.ceil(-x)\n",
    "```\n",
    "\n",
    "1. sempre `True`\n",
    "2. sempre `False`\n",
    "3. a volte `True` e a volte `False` (fornire esempi)"
   ]
  },
  {
   "cell_type": "raw",
   "id": "223d3baf",
   "metadata": {
    "format": "text/html"
   },
   "source": [
    "<a  class=\"jupman-sol jupman-sol-toggler\" \n",
    " onclick=\"jupman.toggleSolution(this);\" \n",
    " data-jupman-show=\"Mostra risposta\" data-jupman-hide=\"Nascondi\">Mostra risposta</a><div class=\"jupman-sol jupman-sol-question\" style=\"display:none\">  "
   ]
  },
  {
   "cell_type": "markdown",
   "metadata": {},
   "source": [
    "**RISPOSTA**: la 1."
   ]
  },
  {
   "cell_type": "raw",
   "id": "5dcf47cb",
   "metadata": {
    "format": "text/html"
   },
   "source": [
    "</div>"
   ]
  },
  {
   "cell_type": "markdown",
   "metadata": {},
   "source": [
    "### Esercizio - tonificante\n",
    "\n",
    "Gli studi eccessivi ti hanno portato a cercare su internet ricette di bevande energetiche. Fortunatamente, una guru della nutrizione ha appena postato sul suo canale Instagram  @BeviCheTiFaBene la ricetta di un frappè portentoso:\n",
    "\n",
    "> Versare in un contenitore 2 decilitri di spremuta di kiwi, 4 decilitri di salsa di soia, e 3 decilitri di shampoo al karitè bio. Miscelare vigorosamente e poi versare metà del composto in un bicchiere. Rabboccare il bicchiere fino al decilitro intero superiore. Tracannare avidamente.\n",
    "\n",
    "Corri a comprare gli ingredienti, e ti appresti a miscelarli. Hai a disposizione un misurino in cui travasi i preziosi fluidi, ad uno ad uno. Nell'effettuare il travaso, versi sempre un po' più del necessario (ma mai più di 1 decilitro), e ad ogni ingrediente elimini poi l'eccesso.\n",
    "\n",
    "* **NON** usare sottrazioni, prova ad usare solo gli operatori per gli arrotondamenti"
   ]
  },
  {
   "cell_type": "markdown",
   "metadata": {},
   "source": [
    "Esempio:\n",
    "\n",
    "Dati\n",
    "\n",
    "```python\n",
    "kiwi = 2.4\n",
    "soia = 4.8\n",
    "shampoo = 3.1\n",
    "misurino = 0.0\n",
    "mixer = 0\n",
    "bicchiere = 0.0\n",
    "```\n",
    "\n",
    "Il tuo codice deve stampare:\n",
    "\n",
    "```\n",
    "Verso nel misurino 2.4 dl di kiwi, tolgo eccesso fino a tenere 2 dl\n",
    "Travaso nel mixer, adesso contiene 2 dl\n",
    "Verso nel misurino 4.8 dl di soia, tolgo eccesso fino a tenere 4 dl\n",
    "Travaso nel mixer, adesso contiene 6 dl\n",
    "Verso nel misurino 3.1 dl di shampoo, tolgo eccesso fino a tenere 3 dl\n",
    "Travaso nel mixer, adesso contiene 9 dl\n",
    "Verso metà della miscela ( 4.5 dl ) nel bicchiere\n",
    "Rabbocco il bicchiere fino al decilitro intero superiore, adesso contiene 5 dl\n",
    "```"
   ]
  },
  {
   "cell_type": "raw",
   "id": "e42872d6",
   "metadata": {
    "format": "text/html"
   },
   "source": [
    "<a  class=\"jupman-sol jupman-sol-toggler\" \n",
    " onclick=\"jupman.toggleSolution(this);\" \n",
    " data-jupman-show=\"Mostra soluzione\" data-jupman-hide=\"Nascondi\">Mostra soluzione</a><div class=\"jupman-sol jupman-sol-code\" style=\"display:none\">  "
   ]
  },
  {
   "cell_type": "code",
   "execution_count": 15,
   "metadata": {},
   "outputs": [
    {
     "name": "stdout",
     "output_type": "stream",
     "text": [
      "Verso nel misurino 2.4 dl di kiwi, tolgo eccesso fino a tenere 2 dl\n",
      "Travaso nel mixer, adesso contiene 2.0 dl\n",
      "Verso nel misurino 4.8 dl di soia, tolgo eccesso fino a tenere 4 dl\n",
      "Travaso nel mixer, adesso contiene 6.0 dl\n",
      "Verso nel misurino 3.1 dl di shampoo, tolgo eccesso fino a tenere 3 dl\n",
      "Travaso nel mixer, adesso contiene 9.0 dl\n",
      "Verso metà della miscela ( 4.5 dl ) nel bicchiere\n",
      "Rabbocco il bicchiere fino al decilitro intero superiore, adesso contiene: 5 dl\n"
     ]
    }
   ],
   "source": [
    "kiwi = 2.4\n",
    "soia = 4.8\n",
    "shampoo = 3.1\n",
    "misurino = 0.0\n",
    "mixer = 0.0\n",
    "bicchiere = 0.0\n",
    "\n",
    "\n",
    "# scrivi qui\n",
    "print('Verso nel misurino', kiwi, 'dl di kiwi, tolgo eccesso fino a tenere', int(kiwi), 'dl')\n",
    "mixer += int(kiwi)\n",
    "print('Travaso nel mixer, adesso contiene', mixer, 'dl')\n",
    "print('Verso nel misurino', soia, 'dl di soia, tolgo eccesso fino a tenere', int(soia), 'dl')\n",
    "mixer += int(soia)\n",
    "print('Travaso nel mixer, adesso contiene', mixer, 'dl')\n",
    "print('Verso nel misurino', shampoo, 'dl di shampoo, tolgo eccesso fino a tenere', int(shampoo), 'dl') \n",
    "mixer += int(shampoo)\n",
    "print('Travaso nel mixer, adesso contiene', mixer, 'dl')\n",
    "bicchiere = mixer/2\n",
    "print('Verso metà della miscela (', bicchiere, 'dl ) nel bicchiere')\n",
    "print('Rabbocco il bicchiere fino al decilitro intero superiore, adesso contiene:', math.ceil(bicchiere), 'dl')\n"
   ]
  },
  {
   "cell_type": "raw",
   "id": "6da83508",
   "metadata": {
    "format": "text/html"
   },
   "source": [
    "</div>"
   ]
  },
  {
   "cell_type": "code",
   "execution_count": 15,
   "metadata": {},
   "outputs": [
    {
     "name": "stdout",
     "output_type": "stream",
     "text": [
      "Verso nel misurino 2.4 dl di kiwi, tolgo eccesso fino a tenere 2 dl\n",
      "Travaso nel mixer, adesso contiene 2.0 dl\n",
      "Verso nel misurino 4.8 dl di soia, tolgo eccesso fino a tenere 4 dl\n",
      "Travaso nel mixer, adesso contiene 6.0 dl\n",
      "Verso nel misurino 3.1 dl di shampoo, tolgo eccesso fino a tenere 3 dl\n",
      "Travaso nel mixer, adesso contiene 9.0 dl\n",
      "Verso metà della miscela ( 4.5 dl ) nel bicchiere\n",
      "Rabbocco il bicchiere fino al decilitro intero superiore, adesso contiene: 5 dl\n"
     ]
    }
   ],
   "source": [
    "kiwi = 2.4\n",
    "soia = 4.8\n",
    "shampoo = 3.1\n",
    "misurino = 0.0\n",
    "mixer = 0.0\n",
    "bicchiere = 0.0\n",
    "\n",
    "\n",
    "# scrivi qui\n",
    "\n"
   ]
  },
  {
   "cell_type": "markdown",
   "metadata": {},
   "source": [
    "### Esercizio - arrotondamente\n",
    "\n",
    "Scrivi del codice per calcolare il valore della seguente formula per `x = -5.51`, dovresti ottenere `41`\n",
    "\n",
    "\n",
    "$$\\large\\lvert{\\lceil{x}\\rceil}\\rvert + \\lfloor{x}\\rceil^2$$"
   ]
  },
  {
   "cell_type": "raw",
   "id": "7cb6f4da",
   "metadata": {
    "format": "text/html"
   },
   "source": [
    "<a  class=\"jupman-sol jupman-sol-toggler\" \n",
    " onclick=\"jupman.toggleSolution(this);\" \n",
    " data-jupman-show=\"Mostra soluzione\" data-jupman-hide=\"Nascondi\">Mostra soluzione</a><div class=\"jupman-sol jupman-sol-code\" style=\"display:none\">  "
   ]
  },
  {
   "cell_type": "code",
   "execution_count": 16,
   "metadata": {},
   "outputs": [
    {
     "data": {
      "text/plain": [
       "41"
      ]
     },
     "execution_count": 16,
     "metadata": {},
     "output_type": "execute_result"
    }
   ],
   "source": [
    "import math \n",
    "\n",
    "x = -5.51   # 41\n",
    "#x = -5.49  # 30\n",
    "\n",
    "# scrivi qui\n",
    "abs(math.ceil(x)) + round(x)**2"
   ]
  },
  {
   "cell_type": "raw",
   "id": "bdc99c27",
   "metadata": {
    "format": "text/html"
   },
   "source": [
    "</div>"
   ]
  },
  {
   "cell_type": "code",
   "execution_count": 16,
   "metadata": {},
   "outputs": [
    {
     "data": {
      "text/plain": [
       "41"
      ]
     },
     "execution_count": 16,
     "metadata": {},
     "output_type": "execute_result"
    }
   ],
   "source": [
    "import math \n",
    "\n",
    "x = -5.51   # 41\n",
    "#x = -5.49  # 30\n",
    "\n",
    "# scrivi qui\n",
    "\n"
   ]
  },
  {
   "cell_type": "markdown",
   "metadata": {},
   "source": [
    "### Reali - uguaglianza\n",
    "\n",
    "\n",
    "<div class=\"alert alert-warning\">\n",
    "    \n",
    "**ATTENZIONE: Ciò che segue vale per** ***tutti*** **i linguaggi di programmazione!** \n",
    "    \n",
    "Alcuni risultati ti parranno curiosi ma è il modo in cui la maggior parte dei processori (CPU) opera, indipendentemente da Python.\n",
    "</div>\n",
    "\n",
    "Quando si effettuano calcoli con i numeri in virgola mobile, il processore può commettere degli errori di arrotondamento dovuto ai limiti della rappresentazione interna. Sotto il cofano i numeri float vengono memorizzati in una sequenza in codice binario di 64 bit, secondo lo standard _IEEE-754 floating point arithmetic_ : questo impone un limite fisico alla precisione dei numeri, e a volte possono anche capitare sorpese dovute alla conversione da decimale a binario. Per esempio, proviamo a stampare `4.1`:"
   ]
  },
  {
   "cell_type": "code",
   "execution_count": 17,
   "metadata": {},
   "outputs": [
    {
     "name": "stdout",
     "output_type": "stream",
     "text": [
      "4.1\n"
     ]
    }
   ],
   "source": [
    "print(4.1)"
   ]
  },
  {
   "cell_type": "markdown",
   "metadata": {},
   "source": [
    "Per nostra convenienza Python ci mostra `4.1`, ma in realtà nella memoria del processore è finito un numero diverso ! Quale? Per scoprire cosa nasconde, con `format` possiamo esplicitamente formattare il numero con lo specificatore di formato `f` usando per esempio `55` cifre di precisione:"
   ]
  },
  {
   "cell_type": "code",
   "execution_count": 18,
   "metadata": {},
   "outputs": [
    {
     "data": {
      "text/plain": [
       "'4.0999999999999996447286321199499070644378662109375000000'"
      ]
     },
     "execution_count": 18,
     "metadata": {},
     "output_type": "execute_result"
    }
   ],
   "source": [
    "format(4.1, '.55f')"
   ]
  },
  {
   "cell_type": "markdown",
   "metadata": {},
   "source": [
    "Possiamo quindi chiederci quale potrà essere il risultato di un calcolo:"
   ]
  },
  {
   "cell_type": "code",
   "execution_count": 19,
   "metadata": {},
   "outputs": [
    {
     "name": "stdout",
     "output_type": "stream",
     "text": [
      "4.1000000000000005\n"
     ]
    }
   ],
   "source": [
    "print(7.9 - 3.8)"
   ]
  },
  {
   "cell_type": "markdown",
   "metadata": {},
   "source": [
    "Notiamo che il risultato è ancora diverso da quello atteso ! Indagando meglio, notiamo che Python non ci sta nemmeno mostrando tutte le cifre:"
   ]
  },
  {
   "cell_type": "code",
   "execution_count": 20,
   "metadata": {},
   "outputs": [
    {
     "data": {
      "text/plain": [
       "'4.1000000000000005329070518200751394033432006835937500000'"
      ]
     },
     "execution_count": 20,
     "metadata": {},
     "output_type": "execute_result"
    }
   ],
   "source": [
    "format(7.9 - 3.8, '.55f')"
   ]
  },
  {
   "cell_type": "markdown",
   "metadata": {},
   "source": [
    "\n",
    "E se volessimo sapere se due calcoli coi float producono lo 'stesso' risultato?\n",
    "\n",
    "<div class=\"alert alert-warning\">\n",
    "\n",
    "**ATTENZIONE: EVITA IL** `==` **CON I FLOAT!**\n",
    "       \n",
    "</div>\n",
    "\n",
    "Per capire  se il risultato tra due calcoli con i float è uguale, **NON** puoi usare l'operatore `==`:"
   ]
  },
  {
   "cell_type": "code",
   "execution_count": 21,
   "metadata": {},
   "outputs": [
    {
     "data": {
      "text/plain": [
       "False"
      ]
     },
     "execution_count": 21,
     "metadata": {},
     "output_type": "execute_result"
    }
   ],
   "source": [
    "7.9 - 3.8 == 4.1    # GUAI IN VISTA !"
   ]
  },
  {
   "cell_type": "markdown",
   "metadata": {},
   "source": [
    "Invece, devi preferire alternative che valutano se un numero float è _vicino_ ad un altro, come per esempio la comoda funzione [math.isclose](https://docs.python.org/3/library/math.html#math.isclose):"
   ]
  },
  {
   "cell_type": "code",
   "execution_count": 22,
   "metadata": {},
   "outputs": [
    {
     "data": {
      "text/plain": [
       "True"
      ]
     },
     "execution_count": 22,
     "metadata": {},
     "output_type": "execute_result"
    }
   ],
   "source": [
    "import math\n",
    "\n",
    "math.isclose(7.9 - 3.8, 4.1)   # MOLTO MEGLIO"
   ]
  },
  {
   "cell_type": "markdown",
   "metadata": {},
   "source": [
    "Di default `math.isclose` usa una precisione di `1e-09` ma volendo, a `math.isclose` puoi anche passare un limite di tolleranza entro la quale deve essere la differenza tra i due numeri affinchè siano considerati uguali:"
   ]
  },
  {
   "cell_type": "code",
   "execution_count": 23,
   "metadata": {},
   "outputs": [
    {
     "data": {
      "text/plain": [
       "True"
      ]
     },
     "execution_count": 23,
     "metadata": {},
     "output_type": "execute_result"
    }
   ],
   "source": [
    "math.isclose(7.9 - 3.8, 4.1, abs_tol=0.000001)"
   ]
  },
  {
   "cell_type": "markdown",
   "metadata": {},
   "source": [
    "**DOMANDA**: Possiamo rappresentare perfettamente il numero $\\sqrt{2}$ in un `float`?"
   ]
  },
  {
   "cell_type": "raw",
   "id": "f4be4add",
   "metadata": {
    "format": "text/html"
   },
   "source": [
    "<a  class=\"jupman-sol jupman-sol-toggler\" \n",
    " onclick=\"jupman.toggleSolution(this);\" \n",
    " data-jupman-show=\"Mostra risposta\" data-jupman-hide=\"Nascondi\">Mostra risposta</a><div class=\"jupman-sol jupman-sol-question\" style=\"display:none\">  "
   ]
  },
  {
   "cell_type": "markdown",
   "metadata": {},
   "source": [
    "**RISPOSTA**: $\\sqrt{2}$ è irrazionale e pertanto non possiamo sperare di rappresentarlo perfettamente, qualunque calcolo useremo per ottenerlo avrà sempre un certo grado di imprecisione."
   ]
  },
  {
   "cell_type": "raw",
   "id": "6ea026f4",
   "metadata": {
    "format": "text/html"
   },
   "source": [
    "</div>"
   ]
  },
  {
   "cell_type": "markdown",
   "metadata": {},
   "source": [
    "**DOMANDA**: Quali di queste tre espressioni di codice danno lo stesso risultato?\n",
    "\n",
    "```python    \n",
    "import math\n",
    "print('a)', math.sqrt(3)**2 == 3.0)\n",
    "print('b)', abs(math.sqrt(3)**2 - 3.0) < 0.0000001)\n",
    "print('c)', math.isclose(math.sqrt(3)**2, 3.0, abs_tol=0.0000001))\n",
    "```"
   ]
  },
  {
   "cell_type": "raw",
   "id": "0bab609a",
   "metadata": {
    "format": "text/html"
   },
   "source": [
    "<a  class=\"jupman-sol jupman-sol-toggler\" \n",
    " onclick=\"jupman.toggleSolution(this);\" \n",
    " data-jupman-show=\"Mostra risposta\" data-jupman-hide=\"Nascondi\">Mostra risposta</a><div class=\"jupman-sol jupman-sol-question\" style=\"display:none\">  "
   ]
  },
  {
   "cell_type": "markdown",
   "metadata": {},
   "source": [
    "**RISPOSTA**: la b) e la c) danno `True`. La a) da `False`, perchè durante i calcoli in virgola mobile  vengono compiuti errori di arrotondamento."
   ]
  },
  {
   "cell_type": "raw",
   "id": "1c386b82",
   "metadata": {
    "format": "text/html"
   },
   "source": [
    "</div>"
   ]
  },
  {
   "cell_type": "markdown",
   "metadata": {},
   "source": [
    "### Esercizio - quadratica\n",
    "\n",
    "Scrivi del codice che calcola gli zero dell'equazione $ax^2-b = 0$ \n",
    "\n",
    "- Mostra i numeri con **20 cifre** di precisione\n",
    "- Alla fine controlla che sostituendo il valore ottenuto di `x` nell'equazione si ottenga effettivamente zero. \n",
    "\n",
    "Esempio - dati:\n",
    "\n",
    "```python\n",
    "a = 11.0\n",
    "b = 3.3\n",
    "```\n",
    "\n",
    "dopo il tuo codice deve stampare:\n",
    "\n",
    "```\n",
    "11.0 * x**2 - 3.3 = 0  per x1 = 0.54772255750516607442\n",
    "11.0 * x**2 - 3.3 = 0  per x2 = -0.54772255750516607442\n",
    "0.54772255750516607442 è una soluzione? True\n",
    "-0.54772255750516607442 è una soluzione? True\n",
    "```"
   ]
  },
  {
   "cell_type": "raw",
   "id": "2499345f",
   "metadata": {
    "format": "text/html"
   },
   "source": [
    "<a  class=\"jupman-sol jupman-sol-toggler\" \n",
    " onclick=\"jupman.toggleSolution(this);\" \n",
    " data-jupman-show=\"Mostra soluzione\" data-jupman-hide=\"Nascondi\">Mostra soluzione</a><div class=\"jupman-sol jupman-sol-code\" style=\"display:none\">  "
   ]
  },
  {
   "cell_type": "code",
   "execution_count": 24,
   "metadata": {
    "scrolled": true
   },
   "outputs": [
    {
     "name": "stdout",
     "output_type": "stream",
     "text": [
      "11.0 * x**2 - 3.3 = 0  per x1 = 0.54772255750516607442\n",
      "11.0 * x**2 - 3.3 = 0  per x2 = -0.54772255750516607442\n",
      "0.54772255750516607442 è una soluzione? True\n",
      "-0.54772255750516607442 è una soluzione? True\n"
     ]
    }
   ],
   "source": [
    "a = 11.0\n",
    "b = 3.3  \n",
    "\n",
    "# scrivi qui\n",
    "\n",
    "import math\n",
    "\n",
    "x1 = math.sqrt(b/a)\n",
    "x2 = -math.sqrt(b/a)\n",
    "\n",
    "print(a, \"* x**2 -\",b,\"= 0  per x1 =\", format(x1, '.20f'))\n",
    "print(a, \"* x**2 -\",b,\"= 0  per x2 =\", format(x2, '.20f'))\n",
    "\n",
    "# abbiamo bisogno di cambiare il valore di default di tolleranza\n",
    "print(format(x1, '.20f'), \"è una soluzione?\", math.isclose(a*(x1**2) - b,0, abs_tol=0.00001))\n",
    "print(format(x2, '.20f'), \"è una soluzione?\", math.isclose(a*((x2)**2) - b,0, abs_tol=0.00001))"
   ]
  },
  {
   "cell_type": "raw",
   "id": "d9cab1b6",
   "metadata": {
    "format": "text/html"
   },
   "source": [
    "</div>"
   ]
  },
  {
   "cell_type": "code",
   "execution_count": 24,
   "metadata": {
    "scrolled": true
   },
   "outputs": [
    {
     "name": "stdout",
     "output_type": "stream",
     "text": [
      "11.0 * x**2 - 3.3 = 0  per x1 = 0.54772255750516607442\n",
      "11.0 * x**2 - 3.3 = 0  per x2 = -0.54772255750516607442\n",
      "0.54772255750516607442 è una soluzione? True\n",
      "-0.54772255750516607442 è una soluzione? True\n"
     ]
    }
   ],
   "source": [
    "a = 11.0\n",
    "b = 3.3  \n",
    "\n",
    "# scrivi qui\n",
    "\n"
   ]
  },
  {
   "cell_type": "markdown",
   "metadata": {},
   "source": [
    "### Esercizio - alla moda\n",
    "\n",
    "Stai già pensando alle prossime vacanze, ma c'è un problema: dove vai, se un _selfie-stick_ non ce l'hai? Non puoi partire con questo grave turbamento: per uniformarti al fenomeno di massa devi comprare lo stick più simile agli altri. Conduci quindi prima un'indagine statistica tra turisti malati di selfie-stick con l'obiettivo di scoprire i brand più frequenti, in altre parole, la _moda_ delle frequenze. Ottieni questi risultati:"
   ]
  },
  {
   "cell_type": "code",
   "execution_count": 25,
   "metadata": {},
   "outputs": [],
   "source": [
    "b1,b2,b3,b4,b5 = 'TroppiLike', 'ErMejo United', 'Perditempo SpA', 'Vanità 3.0','TronistiPerCaso' # brand\n",
    "f1,f2,f3,f4,f5 = 0.25, 0.3, 0.1, 0.05, 0.3   # frequenze (in percentuale)"
   ]
  },
  {
   "cell_type": "markdown",
   "metadata": {},
   "source": [
    "Desumiamo quindi che le masse prediligono i selfie-stick dei brand `'ErMejo United'` e `'TronistiPerCaso'`, entrambi a parimerito con un 30% di turisti ciascuno. Scrivi quindi del codice che stampa questo risultato:\n",
    "\n",
    "```\n",
    "TroppiLike è il più frequente? False ( 25.0 % )\n",
    "ErMejo United è il più frequente? True ( 30.0 % )\n",
    "Perditempo Inc è il più frequente? False ( 10.0 % )\n",
    "Vanità 3.0 è il più frequente? False ( 5.0 % )\n",
    "TronistiPerCaso è il più frequente? True ( 30.0 % )\n",
    "```\n",
    "\n",
    "* **ATTENZIONE**: il tuo codice deve funzionare con **QUALUNQUE** serie di variabili !!"
   ]
  },
  {
   "cell_type": "raw",
   "id": "03983cd9",
   "metadata": {
    "format": "text/html"
   },
   "source": [
    "<a  class=\"jupman-sol jupman-sol-toggler\" \n",
    " onclick=\"jupman.toggleSolution(this);\" \n",
    " data-jupman-show=\"Mostra soluzione\" data-jupman-hide=\"Nascondi\">Mostra soluzione</a><div class=\"jupman-sol jupman-sol-code\" style=\"display:none\">  "
   ]
  },
  {
   "cell_type": "code",
   "execution_count": 26,
   "metadata": {},
   "outputs": [
    {
     "name": "stdout",
     "output_type": "stream",
     "text": [
      "TroppiLike è il più frequente? False ( 25.0 % )\n",
      "ErMejo United è il più frequente? True ( 30.0 % )\n",
      "Perditempo Inc è il più frequente? False ( 10.0 % )\n",
      "Vanità 3.0 è il più frequente? False ( 5.0 % )\n",
      "TronistiPerCaso è il più frequente? True ( 30.0 % )\n"
     ]
    }
   ],
   "source": [
    "b1,b2,b3,b4,b5 = 'TroppiLike', 'ErMejo United', 'Perditempo Inc', 'Vanità 3.0','TronistiPerCaso'    # brand\n",
    "f1,f2,f3,f4,f5 = 0.25, 0.3, 0.1, 0.05, 0.3         # frequenze (in percentuale)  False True False False True\n",
    "# OCCHIO, sembrano uguali ma deve funzionare anche con queste ;-)\n",
    "#f1,f2,f3,f4,f5 = 0.25, 0.3, 0.1, 0.05, 0.1 + 0.2  #  False True False False True\n",
    "                                        \n",
    "# scrivi qui\n",
    "mx = max(f1,f2,f3,f4,f5)\n",
    "print(b1, 'è il più frequente?', math.isclose(f1,mx), '(', f1*100.0, '% )')\n",
    "print(b2, 'è il più frequente?', math.isclose(f2,mx), '(', f2*100.0, '% )')\n",
    "print(b3, 'è il più frequente?', math.isclose(f3,mx), '(', f3*100.0, '% )')\n",
    "print(b4, 'è il più frequente?', math.isclose(f4,mx), '(', f4*100.0, '% )')\n",
    "print(b5, 'è il più frequente?', math.isclose(f5,mx), '(', f5*100.0, '% )')"
   ]
  },
  {
   "cell_type": "raw",
   "id": "3f9c919b",
   "metadata": {
    "format": "text/html"
   },
   "source": [
    "</div>"
   ]
  },
  {
   "cell_type": "code",
   "execution_count": 26,
   "metadata": {},
   "outputs": [
    {
     "name": "stdout",
     "output_type": "stream",
     "text": [
      "TroppiLike è il più frequente? False ( 25.0 % )\n",
      "ErMejo United è il più frequente? True ( 30.0 % )\n",
      "Perditempo Inc è il più frequente? False ( 10.0 % )\n",
      "Vanità 3.0 è il più frequente? False ( 5.0 % )\n",
      "TronistiPerCaso è il più frequente? True ( 30.0 % )\n"
     ]
    }
   ],
   "source": [
    "b1,b2,b3,b4,b5 = 'TroppiLike', 'ErMejo United', 'Perditempo Inc', 'Vanità 3.0','TronistiPerCaso'    # brand\n",
    "f1,f2,f3,f4,f5 = 0.25, 0.3, 0.1, 0.05, 0.3         # frequenze (in percentuale)  False True False False True\n",
    "# OCCHIO, sembrano uguali ma deve funzionare anche con queste ;-)\n",
    "#f1,f2,f3,f4,f5 = 0.25, 0.3, 0.1, 0.05, 0.1 + 0.2  #  False True False False True\n",
    "                                        \n",
    "# scrivi qui\n",
    "\n"
   ]
  },
  {
   "cell_type": "markdown",
   "metadata": {},
   "source": [
    "## Numeri decimali\n",
    "\n",
    "Per moltissime applicazioni i `float` sono sufficienti, avendo coscienza dei loro limiti di rappresentazione e uguaglianza. Se proprio hai bisogno di maggiore precisione e/o prevedibilità, Python offre un tipo numerico apposito chiamato `Decimal`, che permette una precisione arbitraria. Per usarlo, devi prima importarlo dalla libreria `decimal`:"
   ]
  },
  {
   "cell_type": "code",
   "execution_count": 27,
   "metadata": {},
   "outputs": [],
   "source": [
    "from decimal import Decimal"
   ]
  },
  {
   "cell_type": "markdown",
   "metadata": {},
   "source": [
    "Possiamo creare un `Decimal` a partire da una stringa:"
   ]
  },
  {
   "cell_type": "code",
   "execution_count": 28,
   "metadata": {},
   "outputs": [
    {
     "data": {
      "text/plain": [
       "Decimal('4.1')"
      ]
     },
     "execution_count": 28,
     "metadata": {},
     "output_type": "execute_result"
    }
   ],
   "source": [
    "Decimal('4.1')"
   ]
  },
  {
   "cell_type": "markdown",
   "metadata": {},
   "source": [
    "<div class=\"alert alert-warning\">\n",
    "\n",
    "**ATTENZIONE: se crei un Decimal a partire da una costante, indicala come stringa!**\n",
    "   \n",
    "</div>"
   ]
  },
  {
   "cell_type": "markdown",
   "metadata": {},
   "source": [
    "Se gli passi un `float` rischi di perdere l'utilità dei Decimal:"
   ]
  },
  {
   "cell_type": "code",
   "execution_count": 29,
   "metadata": {},
   "outputs": [
    {
     "data": {
      "text/plain": [
       "Decimal('4.0999999999999996447286321199499070644378662109375')"
      ]
     },
     "execution_count": 29,
     "metadata": {},
     "output_type": "execute_result"
    }
   ],
   "source": [
    "Decimal(4.1)  # così mi ritrovo coi problemi dei float ..."
   ]
  },
  {
   "cell_type": "markdown",
   "metadata": {},
   "source": [
    "Operazioni tra `Decimal` producono altri `Decimal`:"
   ]
  },
  {
   "cell_type": "code",
   "execution_count": 30,
   "metadata": {},
   "outputs": [
    {
     "data": {
      "text/plain": [
       "Decimal('4.1')"
      ]
     },
     "execution_count": 30,
     "metadata": {},
     "output_type": "execute_result"
    }
   ],
   "source": [
    "Decimal('7.9') - Decimal('3.8')"
   ]
  },
  {
   "cell_type": "markdown",
   "metadata": {},
   "source": [
    "Questa volta, possiamo tranquillamente usare l'operatore di uguaglianza e ottenere il risultato atteso:"
   ]
  },
  {
   "cell_type": "code",
   "execution_count": 31,
   "metadata": {},
   "outputs": [
    {
     "data": {
      "text/plain": [
       "True"
      ]
     },
     "execution_count": 31,
     "metadata": {},
     "output_type": "execute_result"
    }
   ],
   "source": [
    "Decimal('4.1') == Decimal('7.9') - Decimal('3.8')"
   ]
  },
  {
   "cell_type": "markdown",
   "metadata": {},
   "source": [
    "Sono anche supportate alcune funzioni matematiche, e spesso si comportano in modo più predicibile (nota che **non** stiamo usando `math.sqrt`):"
   ]
  },
  {
   "cell_type": "code",
   "execution_count": 32,
   "metadata": {},
   "outputs": [
    {
     "data": {
      "text/plain": [
       "Decimal('1.414213562373095048801688724')"
      ]
     },
     "execution_count": 32,
     "metadata": {},
     "output_type": "execute_result"
    }
   ],
   "source": [
    "Decimal('2').sqrt()"
   ]
  },
  {
   "cell_type": "markdown",
   "metadata": {},
   "source": [
    "<div class=\"alert alert-warning\">\n",
    "    \n",
    "**Ricordati comunque che la memoria del computer è finita!**\n",
    "</div>\n",
    "\n",
    "I Decimal non possono essere la panacea per tutti i mali: per es, $\\sqrt{2}$ non ci starà mai completamente nella memoria di nessun computer ! Possiamo verificare le limitazioni elevando al quadrato il risultato:"
   ]
  },
  {
   "cell_type": "code",
   "execution_count": 33,
   "metadata": {},
   "outputs": [
    {
     "data": {
      "text/plain": [
       "Decimal('1.999999999999999999999999999')"
      ]
     },
     "execution_count": 33,
     "metadata": {},
     "output_type": "execute_result"
    }
   ],
   "source": [
    "Decimal('2').sqrt()**Decimal('2')"
   ]
  },
  {
   "cell_type": "markdown",
   "metadata": {},
   "source": [
    "L'unica cosa che possiamo avere in più coi Decimal è un maggiore numero di cifre per rappresentarli, che volendo [possiamo aumentare a piacere](https://docs.python.org/3/library/decimal.html) finchè non esauriamo la memoria del nostro pc. In questo libro non parleremo oltre dei Decimal perchè tipicamente servono solo per applicazioni specifiche, per esempio, se devi fare calcoli finanziari vorrai probabilmente usare cifre esatte !"
   ]
  },
  {
   "cell_type": "markdown",
   "metadata": {},
   "source": [
    "## Prosegui\n",
    "\n",
    "Continua con le [challenges](https://it.softpython.org/basics/basics4-chal.html)"
   ]
  }
 ],
 "metadata": {
  "celltoolbar": "Edit Metadata",
  "kernelspec": {
   "display_name": "Python 3",
   "language": "python",
   "name": "python3"
  },
  "language_info": {
   "codemirror_mode": {
    "name": "ipython",
    "version": 3
   },
   "file_extension": ".py",
   "mimetype": "text/x-python",
   "name": "python",
   "nbconvert_exporter": "python",
   "pygments_lexer": "ipython3",
   "version": "3.7.10"
  },
  "toc": {
   "base_numbering": 1,
   "nav_menu": {},
   "number_sections": false,
   "sideBar": true,
   "skip_h1_title": false,
   "title_cell": "Table of Contents",
   "title_sidebar": "Contents",
   "toc_cell": false,
   "toc_position": {
    "height": "calc(100% - 180px)",
    "left": "10px",
    "top": "150px",
    "width": "280.2px"
   },
   "toc_section_display": true,
   "toc_window_display": true
  }
 },
 "nbformat": 4,
 "nbformat_minor": 2
}

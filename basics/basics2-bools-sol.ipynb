{
 "cells": [
  {
   "cell_type": "code",
   "execution_count": 1,
   "metadata": {
    "nbsphinx": "hidden"
   },
   "outputs": [],
   "source": [
    "# Ricordati di eseguire questa cella con Shift+Invio\n",
    "\n",
    "import sys\n",
    "sys.path.append('../')\n",
    "import jupman"
   ]
  },
  {
   "cell_type": "markdown",
   "metadata": {},
   "source": [
    "# Basi 2 - booleani\n",
    "\n",
    "## [Scarica zip esercizi](../_static/generated/basics.zip)\n",
    "\n",
    "[Naviga file online](https://github.com/DavidLeoni/softpython-it/tree/master/basics)\n",
    "\n",
    "<div class=\"alert alert-warning\">\n",
    "\n",
    "**REQUISITI:**\n",
    "    \n",
    "* **Letto** [Basi 1 - variabili e interi](https://it.softpython.org/basics/basics1-ints-sol.html)\n",
    "\n",
    "</div>"
   ]
  },
  {
   "cell_type": "markdown",
   "metadata": {},
   "source": [
    "\n",
    "I booleani sono usati nell'algebra booleana e hanno il tipo `bool`.\n",
    "\n",
    "I valori di verità sono rappresentati in Python con le parole chiave `True` e `False`: un oggetto booleano può solo avere i valori `True` o `False`."
   ]
  },
  {
   "cell_type": "code",
   "execution_count": 2,
   "metadata": {},
   "outputs": [],
   "source": [
    "x = True"
   ]
  },
  {
   "cell_type": "code",
   "execution_count": 3,
   "metadata": {},
   "outputs": [
    {
     "data": {
      "text/plain": [
       "True"
      ]
     },
     "execution_count": 3,
     "metadata": {},
     "output_type": "execute_result"
    }
   ],
   "source": [
    "x"
   ]
  },
  {
   "cell_type": "code",
   "execution_count": 4,
   "metadata": {},
   "outputs": [
    {
     "data": {
      "text/plain": [
       "bool"
      ]
     },
     "execution_count": 4,
     "metadata": {},
     "output_type": "execute_result"
    }
   ],
   "source": [
    "type(x)"
   ]
  },
  {
   "cell_type": "code",
   "execution_count": 5,
   "metadata": {},
   "outputs": [],
   "source": [
    "y = False"
   ]
  },
  {
   "cell_type": "code",
   "execution_count": 6,
   "metadata": {},
   "outputs": [
    {
     "data": {
      "text/plain": [
       "bool"
      ]
     },
     "execution_count": 6,
     "metadata": {},
     "output_type": "execute_result"
    }
   ],
   "source": [
    "type(y)"
   ]
  },
  {
   "cell_type": "markdown",
   "metadata": {},
   "source": [
    "## Operatori tra booleani\n",
    "\n",
    "Possiamo operare sui valori booleani con gli operatori booleani `not`, `and`, `or`:"
   ]
  },
  {
   "cell_type": "markdown",
   "metadata": {},
   "source": [
    "\n",
    "###  and\n",
    "\n",
    "| a | b |a and b|\n",
    "|-----|-----|--------|\n",
    "|`False`|`False`| `False`  |\n",
    "|`False`|`True` | `False`  |\n",
    "|`True` |`False`| `False`  |\n",
    "|`True` |`True` | `True`   |\n"
   ]
  },
  {
   "cell_type": "markdown",
   "metadata": {},
   "source": [
    "\n",
    "###  or\n",
    "\n",
    "| a | b |a or b|\n",
    "|-----|-----|--------|\n",
    "|`False`|`False`| `False`  |\n",
    "|`False`|`True` | `True`   |\n",
    "|`True` |`False`| `True`   |\n",
    "|`True` |`True` | `True`   |\n"
   ]
  },
  {
   "cell_type": "markdown",
   "metadata": {},
   "source": [
    "###  not\n",
    "\n",
    "| a |not a |\n",
    "|-----|-----|\n",
    "|`False`|`True` |\n",
    "|`True` |`False`|"
   ]
  },
  {
   "cell_type": "markdown",
   "metadata": {},
   "source": [
    "## Booleani - Domande con costanti\n",
    "\n",
    "**DOMANDA**: Per ciascuna delle seguenti espressioni booleane, prova a indovinare il risultato (_prima_ indovina, e _poi_ provale !):\n",
    "\n",
    "\n",
    "1.  ```python\n",
    "    not (True and False)\n",
    "    ```\n",
    "1.  ```python    \n",
    "    (not True) or (not (True or False))\n",
    "    ```\n",
    "1.  ```python\n",
    "    not (not True)\n",
    "    ```\n",
    "1.  ```python    \n",
    "    not (True and (False or True))\n",
    "    ```\n",
    "1.  ```python    \n",
    "    not (not (not False))\n",
    "    ```\n",
    "1.  ```python    \n",
    "    True and (not (not((not False) and True)))\n",
    "    ```\n",
    "1.  ```python    \n",
    "    False or (False or ((True and True) and (True and False)))\n",
    "    ```\n"
   ]
  },
  {
   "cell_type": "markdown",
   "metadata": {},
   "source": [
    "## Domande con variabili"
   ]
  },
  {
   "cell_type": "markdown",
   "metadata": {},
   "source": [
    "**DOMANDA**: Per ciascuna di queste espressioni, per quali valori di `x` e `y` danno `True`? Prova a pensare una risposta prima di provare !!!\n",
    "\n",
    "**NOTA**: ci possono essere più combinazioni che producono `True`, trovale tutte.\n",
    "\n",
    "1.  ```python\n",
    "    x or (not x)\n",
    "    ```\n",
    "1.  ```python\n",
    "    (not x) and (not y)\n",
    "    ```\n",
    "1.  ```python\n",
    "    x and (y or y)\n",
    "    ```\n",
    "1.  ```python\n",
    "    x and (not y)\n",
    "    ```\n",
    "1.  ```python\n",
    "    (not x) or  y\n",
    "    ```\n",
    "1.  ```python\n",
    "    y or not (y and x)\n",
    "    ```\n",
    "1.  ```python\n",
    "    x and ((not x) or not(y))\n",
    "    ```\n",
    "1.  ```python\n",
    "    (not (not x)) and not (x and y)\n",
    "    ```    \n",
    "1.  ```python\n",
    "    x and (x or (not(x) or not(not(x or not (x)))))\n",
    "    ```"
   ]
  },
  {
   "cell_type": "markdown",
   "metadata": {},
   "source": [
    "**DOMANDA**: Per ciascuna di queste espressioni, per quali valori di `x` e `y` danno `False` ?\n",
    "\n",
    "**NOTA**: ci possono essere più combiinazioni che producono `False`, trovale tutte\n",
    "\n",
    "1.  ```python\n",
    "    x or ((not y) or z)\n",
    "    ```\n",
    "1.  ```python\n",
    "    x or (not y) or (not z)\n",
    "    ```\n",
    "1.  ```python\n",
    "    not (x and y and (not z))\n",
    "    ```\n",
    "1.  ```python\n",
    "    not (x and (not y) and (x or z))\n",
    "    ```\n",
    "1.  ```python\n",
    "    y or ((x or y) and (not z))\n",
    "    ```"
   ]
  },
  {
   "cell_type": "markdown",
   "metadata": {},
   "source": [
    "## De Morgan\n",
    "\n",
    "Ci sono un paio di leggi che a volte tornano utili:\n",
    "\n",
    "| Formula| Equivalente a|\n",
    "|-|-|\n",
    "|`x or y`|`not(not x and not y)`|\n",
    "|`x and y`|`not(not x or not y)`|\n",
    "\n",
    "**DOMANDA**: Guarda la seguenti espressioni, e prova a riscriverla in una equivalente usando le leggi di De Morgan, eventualmente semplificando il risultato ove possibile. Verifica poi se la traduzione produce un risultato uguale all'originale per tutti i possibili valori di `x` e `y`\n",
    "\n",
    "1.  ```python\n",
    "    (not x) or y\n",
    "    ```\n",
    "1.  ```python\n",
    "    (not x) and (not y)\n",
    "    ```    \n",
    "1.  ```python\n",
    "    (not x) and (not (x or y))\n",
    "    ```        \n",
    "\n",
    "Esempio:\n",
    "\n",
    "```python\n",
    "x,y = False, False\n",
    "#x,y = False, True\n",
    "#x,y = True, False\n",
    "#x,y = True, True\n",
    "\n",
    "orig = x or y\n",
    "trasf = not((not x) and (not y))\n",
    "print('orig=',orig)\n",
    "print('trasf=',trasf)\n",
    "```"
   ]
  },
  {
   "cell_type": "code",
   "execution_count": 7,
   "metadata": {},
   "outputs": [],
   "source": [
    "# verifica qui\n",
    "\n"
   ]
  },
  {
   "cell_type": "markdown",
   "metadata": {},
   "source": [
    "## Conversione\n",
    "\n",
    "Possiamo convertire booleani in interi con la funzione predefinita `int`. Ogni intero può essere convertito in un booleano (e vice versa) con `bool`:\n"
   ]
  },
  {
   "cell_type": "code",
   "execution_count": 8,
   "metadata": {},
   "outputs": [
    {
     "data": {
      "text/plain": [
       "True"
      ]
     },
     "execution_count": 8,
     "metadata": {},
     "output_type": "execute_result"
    }
   ],
   "source": [
    "bool(1)"
   ]
  },
  {
   "cell_type": "code",
   "execution_count": 9,
   "metadata": {},
   "outputs": [
    {
     "data": {
      "text/plain": [
       "False"
      ]
     },
     "execution_count": 9,
     "metadata": {},
     "output_type": "execute_result"
    }
   ],
   "source": [
    "bool(0)"
   ]
  },
  {
   "cell_type": "code",
   "execution_count": 10,
   "metadata": {},
   "outputs": [
    {
     "data": {
      "text/plain": [
       "True"
      ]
     },
     "execution_count": 10,
     "metadata": {},
     "output_type": "execute_result"
    }
   ],
   "source": [
    "bool(72)"
   ]
  },
  {
   "cell_type": "code",
   "execution_count": 11,
   "metadata": {},
   "outputs": [
    {
     "data": {
      "text/plain": [
       "True"
      ]
     },
     "execution_count": 11,
     "metadata": {},
     "output_type": "execute_result"
    }
   ],
   "source": [
    "bool(-5)"
   ]
  },
  {
   "cell_type": "code",
   "execution_count": 12,
   "metadata": {},
   "outputs": [
    {
     "data": {
      "text/plain": [
       "1"
      ]
     },
     "execution_count": 12,
     "metadata": {},
     "output_type": "execute_result"
    }
   ],
   "source": [
    "int(True)"
   ]
  },
  {
   "cell_type": "code",
   "execution_count": 13,
   "metadata": {},
   "outputs": [
    {
     "data": {
      "text/plain": [
       "0"
      ]
     },
     "execution_count": 13,
     "metadata": {},
     "output_type": "execute_result"
    }
   ],
   "source": [
    "int(False)"
   ]
  },
  {
   "cell_type": "markdown",
   "metadata": {},
   "source": [
    "Ogni intero è valutato a `True`, eccetto `0`. Nota che, i valori di verità `True` e `False` si comportano rispettivamente come gli interi `1` e `0`"
   ]
  },
  {
   "cell_type": "markdown",
   "metadata": {},
   "source": [
    "## Domande - cos'è un booleano?\n",
    "\n",
    "**DOMANDA**: Per ciascuna di queste espressioni, che risultato produce?\n",
    "\n",
    "1.  ```python\n",
    "    bool(True)\n",
    "    ```\n",
    "1.  ```python\n",
    "    bool(False)\n",
    "    ```\n",
    "1.  ```python\n",
    "    bool(2 + 4)\n",
    "    ```\n",
    "\n",
    "1.  ```python\n",
    "    bool(4-3-1)\n",
    "    ```\n",
    "1.  ```python\n",
    "    int(4-3-1)\n",
    "    ```\n",
    "1.  ```python\n",
    "    True + True\n",
    "    ```\n",
    "1.  ```python\n",
    "    True + False\n",
    "    ```\n",
    "1.  ```python\n",
    "    True - True\n",
    "    ```\n",
    "1.  ```python\n",
    "    True * True\n",
    "    ```"
   ]
  },
  {
   "cell_type": "markdown",
   "metadata": {},
   "source": [
    "## Ordine di valutazione\n",
    "\n",
    "\n",
    "Per questioni di efficienza, se durante la valutazione di un'espressione booleana Python scopre che il risultato possibile può essere solo uno, allora evita di calcolare le espressioni seguenti. Per esempio, in questa espressione:\n",
    "\n",
    "```python\n",
    "False and x\n",
    "```\n",
    "\n",
    "leggendo da sinistra a destra, nel momento in cui incontriamo `False` sappiamo già che il risultato della `and` sarà sempre `False` indipendentemente dal valore della `x` (convinciti!). \n",
    "\n",
    "Se invece leggendo da sinistra a destra Python trova prima `True`, continua la valutazione delle espressioni seguenti _e come risultato dell'intera_ `and` _restituisce la valutazione dell'_ ***ultima*** _espressione_. Se usiamo sempre booleani, non ci accorgeremo delle differenze, ma cambiando tipi potremmo ottenere delle sorprese:"
   ]
  },
  {
   "cell_type": "code",
   "execution_count": 14,
   "metadata": {},
   "outputs": [
    {
     "data": {
      "text/plain": [
       "5"
      ]
     },
     "execution_count": 14,
     "metadata": {},
     "output_type": "execute_result"
    }
   ],
   "source": [
    "True and 5"
   ]
  },
  {
   "cell_type": "code",
   "execution_count": 15,
   "metadata": {},
   "outputs": [
    {
     "data": {
      "text/plain": [
       "True"
      ]
     },
     "execution_count": 15,
     "metadata": {},
     "output_type": "execute_result"
    }
   ],
   "source": [
    "5 and True"
   ]
  },
  {
   "cell_type": "code",
   "execution_count": 16,
   "metadata": {},
   "outputs": [
    {
     "data": {
      "text/plain": [
       "False"
      ]
     },
     "execution_count": 16,
     "metadata": {},
     "output_type": "execute_result"
    }
   ],
   "source": [
    "False and 5"
   ]
  },
  {
   "cell_type": "code",
   "execution_count": 17,
   "metadata": {},
   "outputs": [
    {
     "data": {
      "text/plain": [
       "False"
      ]
     },
     "execution_count": 17,
     "metadata": {},
     "output_type": "execute_result"
    }
   ],
   "source": [
    "5 and False"
   ]
  },
  {
   "cell_type": "markdown",
   "metadata": {},
   "source": [
    "Pensiamo a quale può essere l'ordine di valutazione nella `or`. Guarda l'espressione:\n",
    "\n",
    "```python\n",
    "True or x\n",
    "```\n",
    "\n",
    "leggendo da sinistra a destra, appena troviamo il `True` possiamo stabilire che il risultato di tutta la `or` dovrà essere `True` indipendentemente dal valore di `x` (convinciti!).\n",
    "\n",
    "Se invece il primo valore è `False`, Python continuerà la valutazione finchè trova un valore logico `True`, quando questo accade quel valore sarà il risultato dell'intera espressione. Ce ne possiamo accorgere se usiamo costanti diverse da `True` e da `False`:"
   ]
  },
  {
   "cell_type": "code",
   "execution_count": 18,
   "metadata": {},
   "outputs": [
    {
     "data": {
      "text/plain": [
       "5"
      ]
     },
     "execution_count": 18,
     "metadata": {},
     "output_type": "execute_result"
    }
   ],
   "source": [
    "False or 5"
   ]
  },
  {
   "cell_type": "code",
   "execution_count": 19,
   "metadata": {},
   "outputs": [
    {
     "data": {
      "text/plain": [
       "7"
      ]
     },
     "execution_count": 19,
     "metadata": {},
     "output_type": "execute_result"
    }
   ],
   "source": [
    "7 or False"
   ]
  },
  {
   "cell_type": "code",
   "execution_count": 20,
   "metadata": {},
   "outputs": [
    {
     "data": {
      "text/plain": [
       "3"
      ]
     },
     "execution_count": 20,
     "metadata": {},
     "output_type": "execute_result"
    }
   ],
   "source": [
    "3 or True"
   ]
  },
  {
   "cell_type": "markdown",
   "metadata": {},
   "source": [
    "I numeri che vedi hanno sempre un risultato logico coerente con le operazioni fatte, cioè se vedi `0` si intende che il risultato dell'espressione abbia valore logico `False` e se vedi un numero diverso da `0` il risultato si intende `True` (convinciti)"
   ]
  },
  {
   "cell_type": "markdown",
   "metadata": {},
   "source": [
    "**DOMANDA**: Guarda le espressioni seguenti, e per ciascuna cerca di indovinare quale risultato produce (o se da errore):\n",
    "\n",
    "1.  ```python\n",
    "    0 and True\n",
    "    ```\n",
    "1.  ```python\n",
    "    1 and 0\n",
    "    ```\n",
    "1.  ```python\n",
    "    True and -1\n",
    "    ```    \n",
    "1.  ```python\n",
    "    0 and False\n",
    "    ```    \n",
    "1.  ```python\n",
    "    0 or False\n",
    "    ```        \n",
    "1.  ```python\n",
    "    0 or 1\n",
    "    ```\n",
    "1.  ```python\n",
    "    False or -6\n",
    "    ```    \n",
    "1.  ```python\n",
    "    0 or True\n",
    "    ```       "
   ]
  },
  {
   "cell_type": "markdown",
   "metadata": {},
   "source": [
    "## Errori nella valutazione\n",
    "\n",
    "Cosa succede se un'espressione booleana contiene del codice che genererebbe un errore? Intuitivamente, il programma dovrebbe terminare, ma non è sempre così.\n",
    "\n",
    "Proviamo a generare di proposito un errore. Come ti avranno sicuramente detto più e più volte alle lezioni di matematica, provare a dividere un numero per zero è un errore perchè il risultato è indeterminato. Quindi se proviamo a chiedere a Python il risultato di `1/0` otterremo (prevedibilmente) lamentele:"
   ]
  },
  {
   "cell_type": "markdown",
   "metadata": {},
   "source": [
    "```python\n",
    "print(1/0)\n",
    "print('dopo')\n",
    "\n",
    "---------------------------------------------------------------------------\n",
    "ZeroDivisionError                         Traceback (most recent call last)\n",
    "<ipython-input-51-9e1622b385b6> in <module>()\n",
    "----> 1 1/0\n",
    "\n",
    "ZeroDivisionError: division by zero\n",
    "\n",
    "```"
   ]
  },
  {
   "cell_type": "markdown",
   "metadata": {},
   "source": [
    "Nota che `'dopo'` _non_  viene stampato perchè il programma si interrompe prima.\n",
    "\n",
    "E se proviamo a scrivere così, cosa otteniamo?"
   ]
  },
  {
   "cell_type": "code",
   "execution_count": 21,
   "metadata": {},
   "outputs": [
    {
     "data": {
      "text/plain": [
       "False"
      ]
     },
     "execution_count": 21,
     "metadata": {},
     "output_type": "execute_result"
    }
   ],
   "source": [
    "False and 1/0"
   ]
  },
  {
   "cell_type": "markdown",
   "metadata": {},
   "source": [
    "Python produce un risultato senza lamentarsi !  Perchè? Valutando da sinistra a destra ha incontrato un `False` e ha quindi concluso in anticipo che il risultato dell'espressione debba essere `False`. Molte volte non ti accorgerai di questi potenziali problemi ma è bene conoscerli perchè vi sono situazioni in cui puoi  persino sfruttare l'ordine di esecuzione per prevenire errori (per esempio negli `if` e `while` che vedremo in seguito)."
   ]
  },
  {
   "cell_type": "markdown",
   "metadata": {},
   "source": [
    "**DOMANDA**: Guarda le espressioni seguenti, e per ciascuna cerca di indovinare quale risultato produce (o se da errore):\n",
    "\n",
    "1.  ```python\n",
    "    True and 1/0\n",
    "    ```\n",
    "1.  ```python\n",
    "    1/0 and 1/0\n",
    "    ```        \n",
    "1.  ```python\n",
    "    False or 1/0\n",
    "    ```\n",
    "1.  ```python\n",
    "    True or 1/0\n",
    "    ```\n",
    "1.  ```python\n",
    "    1/0 or True\n",
    "    ```    \n",
    "1.  ```python\n",
    "    1/0 or 1/0\n",
    "    ```    \n",
    "1.  ```python\n",
    "    True or (1/0 and True)\n",
    "    ```\n",
    "1.  ```python\n",
    "    (not False) or not 1/0\n",
    "    ```\n",
    "1.  ```python\n",
    "    True and 1/0 and True\n",
    "    ```\n",
    "1.  ```python\n",
    "    (not True) or 1/0 or True\n",
    "    ```\n",
    "1.  ```python\n",
    "    True and (not True) and 1/0\n",
    "    ```"
   ]
  },
  {
   "cell_type": "markdown",
   "metadata": {},
   "source": [
    "## Operatori di comparazione\n",
    "\n",
    "Gli operatori di comparazione permettono di costruire _espressioni_ che ritornano un valore booleano:\n",
    "\n",
    "|Comparatore|Descrizione|\n",
    "|-----------|-----------|\n",
    "|`a == b`| `True` se e solo se a = b|\n",
    "|`a != b`| `True` se e solo se a $\\neq$ b|\n",
    "|`a < b`| `True` se e solo se a < b|\n",
    "|`a > b`| `True` se e solo se a > b|\n",
    "|`a <= b`| `True` se e solo se a $\\leq$ b|\n",
    "|`a >= b`| `True` se e solo se a $\\geq$ b|"
   ]
  },
  {
   "cell_type": "code",
   "execution_count": 22,
   "metadata": {},
   "outputs": [
    {
     "data": {
      "text/plain": [
       "True"
      ]
     },
     "execution_count": 22,
     "metadata": {},
     "output_type": "execute_result"
    }
   ],
   "source": [
    "3 == 3"
   ]
  },
  {
   "cell_type": "code",
   "execution_count": 23,
   "metadata": {},
   "outputs": [
    {
     "data": {
      "text/plain": [
       "False"
      ]
     },
     "execution_count": 23,
     "metadata": {},
     "output_type": "execute_result"
    }
   ],
   "source": [
    "3 == 5"
   ]
  },
  {
   "cell_type": "code",
   "execution_count": 24,
   "metadata": {},
   "outputs": [],
   "source": [
    "a,b = 3,5"
   ]
  },
  {
   "cell_type": "code",
   "execution_count": 25,
   "metadata": {},
   "outputs": [
    {
     "data": {
      "text/plain": [
       "True"
      ]
     },
     "execution_count": 25,
     "metadata": {},
     "output_type": "execute_result"
    }
   ],
   "source": [
    "a == a"
   ]
  },
  {
   "cell_type": "code",
   "execution_count": 26,
   "metadata": {},
   "outputs": [
    {
     "data": {
      "text/plain": [
       "False"
      ]
     },
     "execution_count": 26,
     "metadata": {},
     "output_type": "execute_result"
    }
   ],
   "source": [
    "a == b"
   ]
  },
  {
   "cell_type": "code",
   "execution_count": 27,
   "metadata": {},
   "outputs": [
    {
     "data": {
      "text/plain": [
       "True"
      ]
     },
     "execution_count": 27,
     "metadata": {},
     "output_type": "execute_result"
    }
   ],
   "source": [
    "a == b - 2"
   ]
  },
  {
   "cell_type": "code",
   "execution_count": 28,
   "metadata": {},
   "outputs": [
    {
     "data": {
      "text/plain": [
       "True"
      ]
     },
     "execution_count": 28,
     "metadata": {},
     "output_type": "execute_result"
    }
   ],
   "source": [
    "3 != 5  # 3 è diverso da 5 ? "
   ]
  },
  {
   "cell_type": "code",
   "execution_count": 29,
   "metadata": {},
   "outputs": [
    {
     "data": {
      "text/plain": [
       "False"
      ]
     },
     "execution_count": 29,
     "metadata": {},
     "output_type": "execute_result"
    }
   ],
   "source": [
    "3 != 3  # 3 è diverso da 3 ? "
   ]
  },
  {
   "cell_type": "code",
   "execution_count": 30,
   "metadata": {},
   "outputs": [
    {
     "data": {
      "text/plain": [
       "True"
      ]
     },
     "execution_count": 30,
     "metadata": {},
     "output_type": "execute_result"
    }
   ],
   "source": [
    "3 < 5"
   ]
  },
  {
   "cell_type": "code",
   "execution_count": 31,
   "metadata": {},
   "outputs": [
    {
     "data": {
      "text/plain": [
       "False"
      ]
     },
     "execution_count": 31,
     "metadata": {},
     "output_type": "execute_result"
    }
   ],
   "source": [
    "5 < 5"
   ]
  },
  {
   "cell_type": "code",
   "execution_count": 32,
   "metadata": {},
   "outputs": [
    {
     "data": {
      "text/plain": [
       "True"
      ]
     },
     "execution_count": 32,
     "metadata": {},
     "output_type": "execute_result"
    }
   ],
   "source": [
    "5 <= 5"
   ]
  },
  {
   "cell_type": "code",
   "execution_count": 33,
   "metadata": {},
   "outputs": [
    {
     "data": {
      "text/plain": [
       "True"
      ]
     },
     "execution_count": 33,
     "metadata": {},
     "output_type": "execute_result"
    }
   ],
   "source": [
    "8 > 5"
   ]
  },
  {
   "cell_type": "code",
   "execution_count": 34,
   "metadata": {},
   "outputs": [
    {
     "data": {
      "text/plain": [
       "False"
      ]
     },
     "execution_count": 34,
     "metadata": {},
     "output_type": "execute_result"
    }
   ],
   "source": [
    "8 > 8"
   ]
  },
  {
   "cell_type": "code",
   "execution_count": 35,
   "metadata": {},
   "outputs": [
    {
     "data": {
      "text/plain": [
       "True"
      ]
     },
     "execution_count": 35,
     "metadata": {},
     "output_type": "execute_result"
    }
   ],
   "source": [
    "8 >= 8"
   ]
  },
  {
   "cell_type": "markdown",
   "metadata": {},
   "source": [
    "Dato che le comparazioni sono espressioni che producono booleani, possiamo anche assegnare il risultato ad una variabile:"
   ]
  },
  {
   "cell_type": "code",
   "execution_count": 36,
   "metadata": {},
   "outputs": [],
   "source": [
    "x = 5 > 3"
   ]
  },
  {
   "cell_type": "code",
   "execution_count": 37,
   "metadata": {},
   "outputs": [
    {
     "name": "stdout",
     "output_type": "stream",
     "text": [
      "True\n"
     ]
    }
   ],
   "source": [
    "print(x)"
   ]
  },
  {
   "cell_type": "markdown",
   "metadata": {},
   "source": [
    "**DOMANDA**: Guarda le espressioni seguenti, e per ciascuna cerca di indovinare quale risultato produce (o se produce un errore).\n",
    "\n",
    "1.  ```python\n",
    "    x = 3 == 4\n",
    "    print(x)\n",
    "    ```\n",
    "1.  ```python\n",
    "    x = False or True\n",
    "    print(x)\n",
    "    ```\n",
    "1.  ```python\n",
    "    True or False = x or False\n",
    "    print(x)\n",
    "    ```    \n",
    "1.  ```python\n",
    "    x,y = 9,10\n",
    "    z = x < y and x == 3**2\n",
    "    print(z)\n",
    "    ```\n",
    "1.  ```python\n",
    "    a,b = 7,6\n",
    "    a = b\n",
    "    x = a >= b + 1\n",
    "    print(x)\n",
    "    ```\n",
    "1.  ```python\n",
    "    x = 3^2\n",
    "    y = 9\n",
    "    print(x == y)\n",
    "    ```"
   ]
  },
  {
   "cell_type": "markdown",
   "metadata": {},
   "source": [
    "\n",
    "## Esercizio - Il Tempio di Lava\n",
    "\n",
    "Durante i tuoi studi scopri una mappa di un antico tempio, ove sono custoditi mirabolanti tesori.\n",
    "\n",
    "Il tempio misura `d=80` metri di lato ed è un labirinto di corridoi. Sai per certo che alcune aree mostrate in rosso contengono pavimento fragile sotto il quale scorrono fiumi di lava incandescente: per avvertirti del pericolo mentre cammini, ti costruisci un detector che emetterà un suono quando sarai in zone rosse.\n",
    "\n",
    "Scrivi un'espressione booleana che restituisce `True` se sei in una zona di pericolo, `False` altrimenti.\n",
    "\n",
    "* **NON usare istruzioni** `if`\n",
    "\n",
    "![bool-temple-1.png](img/bool-temple-1.png)"
   ]
  },
  {
   "cell_type": "code",
   "execution_count": 38,
   "metadata": {},
   "outputs": [
    {
     "data": {
      "text/plain": [
       "False"
      ]
     },
     "execution_count": 38,
     "metadata": {},
     "output_type": "execute_result"
    }
   ],
   "source": [
    "\n",
    "d = 80\n",
    "\n",
    "x,y = 0, 0     # False\n",
    "#x,y = 20, 20  # False\n",
    "#x,y = 60, 10  # True\n",
    "#x,y = 10, 60  # True\n",
    "#x,y = 20, 70  # False\n",
    "#x,y = 70, 20  # False\n",
    "#x,y = 70, 70  # False\n",
    "#x,y = 0,60    # True\n",
    "#x,y = 60,0    # True\n",
    "\n",
    "# scrivi qui\n",
    "\n",
    "((x > d//2) or (y > d//2)) and  (x < -y + d)"
   ]
  },
  {
   "cell_type": "markdown",
   "metadata": {},
   "source": [
    "## Esercizio - La Torre di Gradius I\n",
    "\n",
    "La lancetta dell'orologio sulla prima Torre di Gradius  ha compiuto finora una rotazione di `n` gradi.  Scrivi del codice che mostra `True` se la lancetta si trova nelle zone evidenziate, `False` altrimenti.\n",
    "\n",
    "* **NON usare istruzioni** `if`\n",
    "* `n` può essere maggiore di `360`\n",
    "\n",
    "Ci sono due modi di risolvere il problema: \n",
    "\n",
    "1. semplice: potresti scrivere una espressione lunga con diversi `and`  e `or`\n",
    "2. più difficile: riesci a scrivere una sola espressione breve _senza_ `and` nè `or` ?"
   ]
  },
  {
   "cell_type": "markdown",
   "metadata": {},
   "source": [
    "![gradius-tower-1](img/gradius-tower-1.png)"
   ]
  },
  {
   "cell_type": "code",
   "execution_count": 39,
   "metadata": {},
   "outputs": [
    {
     "data": {
      "text/plain": [
       "False"
      ]
     },
     "execution_count": 39,
     "metadata": {},
     "output_type": "execute_result"
    }
   ],
   "source": [
    "\n",
    "n = 20    # False\n",
    "#n = 405  # False\n",
    "#n = 70   # False\n",
    "#n = 100  # True\n",
    "#n = 460  # True\n",
    "#n = 225  # True\n",
    "#n = 182  # False\n",
    "#n = 253  # False\n",
    "#n = 275  # False\n",
    "#n = 205  # False\n",
    "#n = 350  # True\n",
    "#n = 925  # False\n",
    "#n = 815  # True\n",
    "#n = 92   # True\n",
    "\n",
    "# scrivi qui\n",
    "\n",
    "# 1. SOLUZIONE 'LUNGA'\n",
    "# Guardando la figura, vediamo che le fasce sono tra 90° e 120°, 210° e 240°  e 330 e 360°\n",
    "\n",
    "# Un primo problema da affrontare potrebbe essere il fatto che la lancetta può aver girato anche più di 360° ,\n",
    "# per esempio nei test trovi 460° o 925°.\n",
    "# Per risolvere questo primo problema, possiamo direttamente usare il modulo \n",
    "# che scritto così ci darà sempre in m un numero compreso tra 0 e 359 inclusi:\n",
    "\n",
    "# m = n % 360\n",
    "\n",
    "# Già così potremmo risolvere abbastanza semplicemente l'esercizio con tanti and e or, per esempio:\n",
    "\n",
    "# (m >= 90 and m < 120)  or (m >= 210 and m < 240) or (m >= 330 and m < 360)     # soluzione 'lunga'\n",
    "\n",
    "\n",
    "# 2. SOLUZIONE 'BREVE'\n",
    "\n",
    "# In alternativa, possiamo anche usare una soluzione 'breve', che considera il fatto\n",
    "# che se consideri sequenze di 4 spicchi di 30° l'uno, ogni sequenza occupa 120°\n",
    "# e a noi ci interessa sapere se la lancetta è nell'ultimo spicchio, tra 90° e 120°.\n",
    "# Quindi possiamo usare creativamente il modulo per 'accorciare' la plancia\n",
    "# e ignorare tutti i gradi dopo il 120esimo, e infine guardariamo se m sta nell'ultimo spicchio:\n",
    "\n",
    "# m = n % 120      # numero tra 0 e 119 inclusi\n",
    "# m > 3 * 30       #  soluzione 'rapida'\n",
    "\n",
    "n % 120 > 90"
   ]
  },
  {
   "cell_type": "markdown",
   "metadata": {},
   "source": [
    "## Esercizio - Il Salto del Tubo\n",
    "\n",
    "Un idraulico italiano vede 3 tubi di altezza rispettivamente `t1`, `t2` e `t3`, sopra cui vi sono rispettivamente sono `10`, `20` e `30` monete. Esaltato, spicca un balzo di altezza `h`. Scrivi del codice che stampa quante monete raccoglie (`10`,`20` o `30`).\n",
    "\n",
    "* **NON usare istruzioni** `if`\n",
    "\n",
    "\n",
    "* **SUGGERIMENTO**: Se non sai come fare, riguardati il paragrafo [Ordine di valutazione](#Ordine-di-valutazione) e prova a pensare come produrre dei numeri solo quando una certa condizione è vera ... \n",
    "\n",
    "![img/bool-jump-1.png](img/bool-jump-1.png)"
   ]
  },
  {
   "cell_type": "code",
   "execution_count": 40,
   "metadata": {},
   "outputs": [
    {
     "data": {
      "text/plain": [
       "10"
      ]
     },
     "execution_count": 40,
     "metadata": {},
     "output_type": "execute_result"
    }
   ],
   "source": [
    "\n",
    "t1,t2,t3 = 200,500,600\n",
    "\n",
    "h=450   # 10\n",
    "#h=570  # 20\n",
    "#h=610  # 30\n",
    "#h=50   # 0\n",
    "\n",
    "# scrivi qui\n",
    "\n",
    "(h >= t3 and 30) or (h >= t2 and 20) or (h >= t1 and 10) or 0"
   ]
  },
  {
   "cell_type": "markdown",
   "metadata": {},
   "source": [
    "## Esercizio - La Torre di Gradius II\n",
    "\n",
    "Le lancette dell'orologio sulla seconda Torre di Gradius  hanno compiuto finora una rotazione rispettivamente di `n` e `m` gradi.  Scrivi del codice che mostra `True` se entrambe le lancette si trovano nella **stessa** zona tra quelle evidenziate, `False` altrimenti.\n",
    "\n",
    "* **NON usare istruzioni** `if`\n",
    "* `n` e `m` possono essere maggiori di `360`\n",
    "\n",
    "![gradius-tower-2](img/gradius-tower-2.png)"
   ]
  },
  {
   "cell_type": "code",
   "execution_count": 41,
   "metadata": {},
   "outputs": [
    {
     "data": {
      "text/plain": [
       "True"
      ]
     },
     "execution_count": 41,
     "metadata": {},
     "output_type": "execute_result"
    }
   ],
   "source": [
    "\n",
    "n,m = 160,170   # True\n",
    "#n,m = 135, 140 # False\n",
    "#n,m = 160,190  # False\n",
    "#n,m = 70,170   # False\n",
    "#n,m = 350,260  # False\n",
    "#n,m = 350,340  # True\n",
    "#n,m = 350,340  # True\n",
    "#n,m = 430,530  # False\n",
    "#n,m = 520,510  # True\n",
    "#n,m = 730,740  # False\n",
    "\n",
    "# scrivi qui\n",
    "(n % 90 > 60) and ((n // 90) % 4 == (m // 90) % 4)"
   ]
  },
  {
   "cell_type": "markdown",
   "metadata": {},
   "source": [
    "## Prosegui\n",
    "\n",
    "Continua con [Basi 3 - numeri reali](https://it.softpython.org/basics/basics3-floats-sol.html)"
   ]
  }
 ],
 "metadata": {
  "celltoolbar": "Edit Metadata",
  "kernelspec": {
   "display_name": "Python 3 (ipykernel)",
   "language": "python",
   "name": "python3"
  },
  "language_info": {
   "codemirror_mode": {
    "name": "ipython",
    "version": 3
   },
   "file_extension": ".py",
   "mimetype": "text/x-python",
   "name": "python",
   "nbconvert_exporter": "python",
   "pygments_lexer": "ipython3",
   "version": "3.7.10"
  },
  "toc": {
   "base_numbering": 1,
   "nav_menu": {},
   "number_sections": false,
   "sideBar": true,
   "skip_h1_title": false,
   "title_cell": "Table of Contents",
   "title_sidebar": "Contents",
   "toc_cell": false,
   "toc_position": {
    "height": "calc(100% - 180px)",
    "left": "10px",
    "top": "150px",
    "width": "280.2px"
   },
   "toc_section_display": true,
   "toc_window_display": false
  }
 },
 "nbformat": 4,
 "nbformat_minor": 2
}

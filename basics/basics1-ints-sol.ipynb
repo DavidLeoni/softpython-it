{
 "cells": [
  {
   "cell_type": "code",
   "execution_count": 1,
   "metadata": {
    "nbsphinx": "hidden"
   },
   "outputs": [],
   "source": [
    "# Ricordati di eseguire questa cella con Shift+Invio\n",
    "\n",
    "import jupman"
   ]
  },
  {
   "cell_type": "markdown",
   "metadata": {},
   "source": [
    "# Basi Python - variabili e interi\n",
    "\n",
    "## [Scarica zip esercizi](../_static/generated/basics.zip)\n",
    "\n",
    "[Naviga file online](https://github.com/DavidLeoni/softpython-it/tree/master/basics)\n",
    "\n",
    "<div class=\"alert alert-warning\">\n",
    "\n",
    "**REQUISITI:**\n",
    "    \n",
    "* **Installato Python 3 e Jupyter:** se non hai già provveduto, guarda [Installazione](https://it.softpython.org/installation.html)\n",
    "* **Letto** [Strumenti e script](https://it.softpython.org/tools/tools-sol.html)\n",
    "\n",
    "</div>"
   ]
  },
  {
   "cell_type": "markdown",
   "metadata": {},
   "source": [
    "## Jupyter\n",
    "\n",
    "Jupyter è un editor che ti permette di lavorare sui cosiddetti _notebook_, che sono file che finiscono con l'estensione `.ipynb`. Sono documenti divisi in celle dove per ogni cella puoi immettere dei comandi e vederne subito il rispettivo output. Proviamo ad aprire questo."
   ]
  },
  {
   "cell_type": "markdown",
   "metadata": {},
   "source": [
    "1. scompatta lo [zip degli esercizi](../_static/generated/basics.zip) in una cartella, dovresti ottenere qualcosa del genere: \n",
    "\n",
    "```\n",
    "\n",
    "basics\n",
    "    basics1-ints.ipynb\n",
    "    basics1-ints-sol.ipynb    \n",
    "    basics2-bools.ipynb\n",
    "    basics2-bools-sol.ipynb    \n",
    "    basics3-floats.ipynb\n",
    "    basics3-floats-sol.ipynb   \n",
    "    basics4-chal.ipynb\n",
    "    jupman.py\n",
    "```\n",
    "\n",
    "<div class=\"alert alert-warning\">\n",
    "\n",
    "**ATTENZIONE**: Per essere visualizzato correttamente, il file del notebook DEVE essere nella cartella szippata.\n",
    "</div>\n"
   ]
  },
  {
   "cell_type": "markdown",
   "metadata": {},
   "source": [
    "\n",
    "2. apri il Jupyter Notebook da quella cartella. Due cose dovrebbero aprirsi, prima una console e poi un browser. Il browser dovrebbe mostrare una lista di file: naviga la lista e apri il notebook `basics1-ints.ipynb`\n",
    "\n",
    "<div class=\"alert alert-warning\">\n",
    "    \n",
    "**ATTENZIONE: apri quello SENZA il** `-sol` **alla fine!**\n",
    "    \n",
    "Vedere subito le soluzioni è troppo facile ;-)\n",
    "</div>\n",
    "\n",
    "<div class=\"alert alert-warning\">\n",
    "\n",
    "**ATTENZIONE: Se non trovi Jupyter / qualcosa non funziona, guarda** [la guida per l'installazione](https://it.softpython.org/installation.html#Notebook-Jupyter)\n",
    "\n",
    "</div>\n",
    "\n",
    "\n"
   ]
  },
  {
   "cell_type": "markdown",
   "metadata": {},
   "source": [
    "3. Prosegui leggendo il file degli esercizi, ogni tanto al suo interno troverai delle scritte **ESERCIZIO**, che ti chiederanno di scrivere dei comandi Python nelle celle successive. Gli esercizi sono graduati per difficoltà, da una stellina ✪ a quattro ✪✪✪✪\n",
    "\n",
    "<div class=\"alert alert-warning\">\n",
    "\n",
    "**ATTENZIONE**: In questo libro usiamo **SOLO PYTHON 3** <br/>\n",
    "\n",
    "Se per caso ottieni comportamenti inattesi, controlla di usare Python 3 e non il 2. Se per caso il tuo sistema operativo scrivendo `python` fa partire il 2, prova ad eseguire il tre scrivendo il comando: `python3`\n",
    "</div>\n",
    "\n"
   ]
  },
  {
   "cell_type": "markdown",
   "metadata": {},
   "source": [
    "\n",
    "\n",
    "Scorciatoie da tastiera:\n",
    "\n",
    "* Per eseguire il codice Python dentro una cella di Jupyter, premi `Control+Invio`\n",
    "* Per eseguire il codice Python dentro una cella di Jupyter E selezionare la cella seguente, premi `Shift+Invio`\n",
    "* Per eseguire il codice Python dentro una cella di Jupyter E creare una nuova cella subito dopo, premi `Alt+Invio`\n",
    "* Se per caso il Notebook sembra inchiodato, prova a selezionare `Kernel -> Restart`\n"
   ]
  },
  {
   "cell_type": "markdown",
   "metadata": {},
   "source": [
    "\n",
    "## Oggetti\n",
    "\n",
    "Per Python qualunque cosa è un oggetto. Gli oggetti hanno **proprietà** (campi dove salvare valori) e **metodi** (cose che possono fare). Per esempio, un oggetto **auto** ha le _proprietà_  modello, marca, colore, numero di porte etc ..., e i _metodi_ sterza a destra, sterza a sinistra, accelera, frena, cambia marcia ...\n",
    "\n",
    "Secondo la documentazione ufficiale di Python:\n",
    "\n",
    "    Gli oggetti sono l'astrazione Python per i dati. Tutti i dati in un programma Python sono rappresentati da oggetti o da relazioni tra gli oggetti.\n",
    "\n",
    "\n",
    "Tutto quello che devi sapere per adesso è che gli oggetti Python hanno un **identificatore** (per es, il loro nome), un **tipo** (numeri, testo, collezioni, ...) e un **valore** (il dato attuale rappresentato dagli oggetti). Una volta che un'oggetto è stato creato l' _identificatore_ e il _tipo_ non cambiano mai, mentre il _valore_ può cambiare (**oggetti mutabili**) o rimanere costante (**oggetti immutabili**)."
   ]
  },
  {
   "cell_type": "markdown",
   "metadata": {},
   "source": [
    "\n",
    "Python fornisce questi tipi predefiniti ( _built-in_ ):\n",
    "\n",
    "\n",
    "\n",
    "|Tipo|Significato|Dominio|Mutabile?| \n",
    "|----|-----------|-------|---------|\n",
    "|`bool`|Condizione|`True`, `False`| no|\n",
    "|`int`|Intero|$\\mathbb{Z}$| no|\n",
    "|`long`|Intero|$\\mathbb{Z}$| no|\n",
    "|`float`|Razionale|$\\mathbb{Q}$ (più o meno)| no|\n",
    "|`str`|Testo|Testo| no|\n",
    "|`list`|Sequenza|Collezione di oggetti| sì|\n",
    "|`tuple`|Sequenza|Collezione di oggetti| no|\n",
    "|`set`|Insieme|Collezione di oggetti|sì|\n",
    "|`dict`|Mappatura|Mappatura tra oggetti| sì|\n",
    "\n",
    "\n",
    "\n",
    "Per il momento guarderemo i più semplici, più avanti li approfondiremo tutti."
   ]
  },
  {
   "cell_type": "markdown",
   "metadata": {},
   "source": [
    "## Variabili\n",
    "\n",
    "Le variabili sono associazioni tra nomi e oggetti (possiamo anche chiamarli valori)\n",
    "\n",
    "Le variabili possono essere associate o in termine più tecnico _assegnate_ agli oggetti usando l'operatore di assegnazione `=`.\n",
    "\n",
    "L'istruzione"
   ]
  },
  {
   "cell_type": "code",
   "execution_count": 2,
   "metadata": {},
   "outputs": [],
   "source": [
    "diamanti = 4"
   ]
  },
  {
   "cell_type": "markdown",
   "metadata": {},
   "source": [
    "può rappresentare quante pietre preziose teniamo in cassaforte. Cosa succede quando l'eseguiamo in Python? \n",
    "\n",
    "- un oggetto è creato\n",
    "- il suo tipo è impostato a `int` (un numero intero)\n",
    "- il suo valore è impostato a 4\n",
    "- un nome `diamanti` è creato nell'ambiente e assegnato a quell'oggetto"
   ]
  },
  {
   "cell_type": "markdown",
   "metadata": {},
   "source": [
    "### Rilevare il tipo di una variabile\n",
    "\n",
    "Quando vedi una variabile o una costante e hai dubbi sul suo tipo, puoi usare la funzione predefinita `type`:"
   ]
  },
  {
   "cell_type": "code",
   "execution_count": 3,
   "metadata": {},
   "outputs": [
    {
     "data": {
      "text/plain": [
       "int"
      ]
     },
     "execution_count": 3,
     "metadata": {},
     "output_type": "execute_result"
    }
   ],
   "source": [
    "type(diamanti)"
   ]
  },
  {
   "cell_type": "code",
   "execution_count": 4,
   "metadata": {},
   "outputs": [
    {
     "data": {
      "text/plain": [
       "int"
      ]
     },
     "execution_count": 4,
     "metadata": {},
     "output_type": "execute_result"
    }
   ],
   "source": [
    "type(4)"
   ]
  },
  {
   "cell_type": "code",
   "execution_count": 5,
   "metadata": {},
   "outputs": [
    {
     "data": {
      "text/plain": [
       "float"
      ]
     },
     "execution_count": 5,
     "metadata": {},
     "output_type": "execute_result"
    }
   ],
   "source": [
    "type(4.0)"
   ]
  },
  {
   "cell_type": "code",
   "execution_count": 6,
   "metadata": {},
   "outputs": [
    {
     "data": {
      "text/plain": [
       "str"
      ]
     },
     "execution_count": 6,
     "metadata": {},
     "output_type": "execute_result"
    }
   ],
   "source": [
    "type(\"Ciao\")"
   ]
  },
  {
   "cell_type": "markdown",
   "metadata": {},
   "source": [
    "### Riassegnare una variabile"
   ]
  },
  {
   "cell_type": "markdown",
   "metadata": {},
   "source": [
    "Considera adesso il codice seguente:"
   ]
  },
  {
   "cell_type": "code",
   "execution_count": 7,
   "metadata": {},
   "outputs": [
    {
     "name": "stdout",
     "output_type": "stream",
     "text": [
      "4\n"
     ]
    }
   ],
   "source": [
    "diamanti = 4\n",
    "\n",
    "print(diamanti)"
   ]
  },
  {
   "cell_type": "code",
   "execution_count": 8,
   "metadata": {},
   "outputs": [
    {
     "name": "stdout",
     "output_type": "stream",
     "text": [
      "5\n"
     ]
    }
   ],
   "source": [
    "diamanti = 5\n",
    "\n",
    "print(diamanti)"
   ]
  },
  {
   "cell_type": "markdown",
   "metadata": {},
   "source": [
    "Il valore della variabile `diamanti` è stato cambiato da `4` a `5`, ma come riportato nella tabella sopra, il tipo `int` è **immutabile**. Fortunatamente, questo non ci ha ostacolato nel cambiare il valore di `diamanti` da `4` a `5`. Cosa è successo dietro le scene? Quando abbiamo eseguito le istruzioni `diamanti = 5`, un nuovo oggetto di tipo `int` è stato creato  (`5` è un intero) e quindi reso disponibile con lo stesso nome `diamanti`, ma dato che è un oggetto differente (l'intero `5`)."
   ]
  },
  {
   "cell_type": "markdown",
   "metadata": {},
   "source": [
    "### Riusare una variabile\n",
    "\n",
    "Quando riassegni una variabile ad un'altro valore, per calcolare il nuovo valore puoi tranquillamente riusare il valore vecchio della variabile che vuoi cambiare. Per esempio, supponi di avere la variabile"
   ]
  },
  {
   "cell_type": "code",
   "execution_count": 9,
   "metadata": {},
   "outputs": [],
   "source": [
    "fiori = 4"
   ]
  },
  {
   "cell_type": "markdown",
   "metadata": {},
   "source": [
    "e vuoi aumentare il numero di `fiori` corrente di uno. Puoi scrivere così:"
   ]
  },
  {
   "cell_type": "code",
   "execution_count": 10,
   "metadata": {},
   "outputs": [],
   "source": [
    "fiori = fiori + 1"
   ]
  },
  {
   "cell_type": "markdown",
   "metadata": {},
   "source": [
    "Cos'è successo? Quando Python incontra un comando con l'`=`, PRIMA calcola il valore dell'espressione che trova a destra dell'`=`, e POI assegna quel valore alla variabile che trova a sinistra dell'`=`. \n",
    "\n",
    "Dato quest'ordine, nell'espressione a destra viene usato il valore vecchio della variabile (in questo caso `4`) a cui viene sommato `1` per ottenere `5` che viene quindi assegnato a `fiori`:"
   ]
  },
  {
   "cell_type": "code",
   "execution_count": 11,
   "metadata": {},
   "outputs": [
    {
     "data": {
      "text/plain": [
       "5"
      ]
     },
     "execution_count": 11,
     "metadata": {},
     "output_type": "execute_result"
    }
   ],
   "source": [
    "fiori"
   ]
  },
  {
   "cell_type": "markdown",
   "metadata": {},
   "source": [
    "In modo del tutto equivalente, potremmo riscrivere il codice così, usando una variabile d'appoggio `x`. Vediamolo in Python Tutor:"
   ]
  },
  {
   "cell_type": "code",
   "execution_count": 12,
   "metadata": {},
   "outputs": [],
   "source": [
    "# ATTENZIONE: per usare la funzione jupman.pytut() di seguito,\n",
    "# è necessario eseguire prima questa cella con Shift+Invio\n",
    "\n",
    "# basta eseguirla una volta sola, la trovi presente anche in tutti i fogli nella prima cella\n",
    "\n",
    "import jupman"
   ]
  },
  {
   "cell_type": "code",
   "execution_count": 13,
   "metadata": {},
   "outputs": [
    {
     "data": {
      "text/html": [
       "\n",
       "        <script src=\"../_static/js/pytutor-embed.bundle.min.js\" type=\"application/javascript\"></script>\n",
       "     \n",
       "        <script id=\"json-jma82da9f7-d1eb-4d05-aaff-12c06141a780\" type=\"application/json\" >\n",
       "            {\"code\": \" \\nfiori = 4   \\n\\nx = fiori + 1\\n\\nfiori = x\", \"trace\": [{\"line\": 2, \"event\": \"step_line\", \"func_name\": \"<module>\", \"globals\": {}, \"ordered_globals\": [], \"stack_to_render\": [], \"heap\": {}, \"stdout\": \"\"}, {\"line\": 4, \"event\": \"step_line\", \"func_name\": \"<module>\", \"globals\": {\"fiori\": 4}, \"ordered_globals\": [\"fiori\"], \"stack_to_render\": [], \"heap\": {}, \"stdout\": \"\"}, {\"line\": 6, \"event\": \"step_line\", \"func_name\": \"<module>\", \"globals\": {\"fiori\": 4, \"x\": 5}, \"ordered_globals\": [\"fiori\", \"x\"], \"stack_to_render\": [], \"heap\": {}, \"stdout\": \"\"}, {\"line\": 6, \"event\": \"return\", \"func_name\": \"<module>\", \"globals\": {\"fiori\": 5, \"x\": 5}, \"ordered_globals\": [\"fiori\", \"x\"], \"stack_to_render\": [], \"heap\": {}, \"stdout\": \"\"}]}\n",
       "        </script>\n",
       "        <div id=\"jma82da9f7-d1eb-4d05-aaff-12c06141a780\" class=\"pytutorVisualizer\"> </div>\n",
       " \n",
       "        <style>\n",
       "        .vizLayoutTd {\n",
       "            background-color: #fff !important;\n",
       "        }\n",
       "\n",
       "        #pyStdout {            \n",
       "            min-height:25px;\n",
       "        }\n",
       "\n",
       "        /* 'Edit this code' link, hiding because replaces browser tab !!!*/\n",
       "        #editCodeLinkDiv {\n",
       "            display:none;  \n",
       "        }\n",
       "        </style>   \n",
       "                            \n",
       "        <script>\n",
       "        (function(){\n",
       "\n",
       "            var trace = JSON.parse(document.getElementById('json-jma82da9f7-d1eb-4d05-aaff-12c06141a780').innerHTML);                                        \n",
       "            // NOTE 1: id without #\n",
       "            // NOTE 2 - maybe there are more predictable ways, but this will work anyway\n",
       "            //        - id should be number\n",
       "            visualizerIdOverride = Math.trunc(Math.random() * 100000000000)\n",
       "            addVisualizerToPage(trace, 'jma82da9f7-d1eb-4d05-aaff-12c06141a780',{'embeddedMode' : false,\n",
       "                                             'visualizerIdOverride':visualizerIdOverride})  \n",
       "            \n",
       "            \n",
       "            // set overflow for pytuts - need to do in python as css \n",
       "            // does not allow parent selection\n",
       "            var pytuts = $('.pytutorVisualizer')\n",
       "            pytuts.closest('div.output_html.rendered_html.output_result')\n",
       "                    .css('overflow-x', 'visible')\n",
       "        \n",
       "            //pytuts.closest('div.output_html.rendered_html.output_result')\n",
       "            //      .css('background-color','red')                \n",
       "            \n",
       "        })()\n",
       "        </script>\n",
       "                \n",
       "                "
      ],
      "text/plain": [
       "<IPython.core.display.HTML object>"
      ]
     },
     "execution_count": 13,
     "metadata": {},
     "output_type": "execute_result"
    }
   ],
   "source": [
    "\n",
    "fiori = 4   \n",
    "\n",
    "x = fiori + 1\n",
    "\n",
    "fiori = x\n",
    "\n",
    "jupman.pytut()"
   ]
  },
  {
   "cell_type": "markdown",
   "metadata": {},
   "source": [
    "Puoi eseguire una somma e fare un assegnamento contemporaneamente con la notazione `+=`"
   ]
  },
  {
   "cell_type": "code",
   "execution_count": 14,
   "metadata": {},
   "outputs": [
    {
     "name": "stdout",
     "output_type": "stream",
     "text": [
      "5\n"
     ]
    }
   ],
   "source": [
    "fiori = 4\n",
    "fiori += 1\n",
    "print(fiori)"
   ]
  },
  {
   "cell_type": "markdown",
   "metadata": {},
   "source": [
    "Questa notazione vale anche per altri operatori aritmetici:"
   ]
  },
  {
   "cell_type": "code",
   "execution_count": 15,
   "metadata": {},
   "outputs": [
    {
     "name": "stdout",
     "output_type": "stream",
     "text": [
      "4\n"
     ]
    }
   ],
   "source": [
    "fiori = 5\n",
    "fiori -= 1     # sottrazione\n",
    "print(fiori)   "
   ]
  },
  {
   "cell_type": "code",
   "execution_count": 16,
   "metadata": {},
   "outputs": [
    {
     "name": "stdout",
     "output_type": "stream",
     "text": [
      "12\n"
     ]
    }
   ],
   "source": [
    "fiori *= 3     # moltiplicazione\n",
    "print(fiori)"
   ]
  },
  {
   "cell_type": "code",
   "execution_count": 17,
   "metadata": {},
   "outputs": [
    {
     "name": "stdout",
     "output_type": "stream",
     "text": [
      "6.0\n"
     ]
    }
   ],
   "source": [
    "fiori /= 2     # divisione\n",
    "print(fiori)"
   ]
  },
  {
   "cell_type": "markdown",
   "metadata": {},
   "source": [
    "### Assegnazioni - domande\n",
    "\n",
    "**DOMANDA**: Guarda le espressioni seguenti, e per ciascuna cerca di indovinare quale risultato produce  (o se da errore). Prova a verificare le tue supposizioni sia in Jupyter che un'altro editor di file `.py` come Spyder:\n",
    "\n",
    "    \n",
    "1.  ```python\n",
    "    x = 1\n",
    "    x\n",
    "    x    \n",
    "    ```        \n",
    "1.  ```python\n",
    "    x = 1\n",
    "    x = 2\n",
    "    print(x)\n",
    "    ```    \n",
    "1.  ```python\n",
    "    x = 1\n",
    "    x = 2\n",
    "    x\n",
    "    ```     \n",
    "1.  ```python\n",
    "    x = 1\n",
    "    print(x)\n",
    "    x = 2\n",
    "    print(x)\n",
    "    ```        \n",
    "1.  ```python\n",
    "    print(zam)\n",
    "    print(zam)\n",
    "    zam = 1    \n",
    "    zam = 2    \n",
    "    ```    \n",
    "1.  ```python        \n",
    "    x = 5\n",
    "    print(x,x)\n",
    "    ```        \n",
    "1.  ```python        \n",
    "    x = 5\n",
    "    print(x)\n",
    "    print(x)\n",
    "    ```\n",
    "1.  ```python        \n",
    "    x = 3\n",
    "    print(x,x*x,x**x)\n",
    "    ```    \n",
    "1.  ```python\n",
    "    3 + 5 = x\n",
    "    print(x)\n",
    "    ```\n",
    "1.  ```python\n",
    "    3 + x = 1\n",
    "    print(x)\n",
    "    ```    \n",
    "1.  ```python\n",
    "    x + 3 = 2\n",
    "    print(x)\n",
    "    ```    \n",
    "1.  ```python\n",
    "    x = 2\n",
    "    x =+ 1 \n",
    "    print(x)\n",
    "    ```\n",
    "1.  ```python\n",
    "    x = 2\n",
    "    x = +1 \n",
    "    print(x)\n",
    "    ```    \n",
    "1.  ```python\n",
    "    x = 2\n",
    "    x += 1 \n",
    "    print(x)\n",
    "    ```        \n",
    "1.  ```python\n",
    "    x = 3\n",
    "    x *= 2 \n",
    "    print(x)\n",
    "    ```"
   ]
  },
  {
   "cell_type": "markdown",
   "metadata": {},
   "source": [
    "### Esercizio - scambia\n",
    "\n",
    "✪ Date due variabili `a` e `b`:\n",
    "\n",
    "```python\n",
    "a = 5\n",
    "b = 3\n",
    "```\n",
    "\n",
    "scrivi del codice che scambia i loro valori, per cui dopo il tuo codice deve risultare\n",
    "\n",
    "```python\n",
    ">>> print(a)\n",
    "3\n",
    ">>> print(b)\n",
    "5\n",
    "```\n",
    "- Bastano due variabili? Se non sono sufficienti, prova ad introdurne una terza."
   ]
  },
  {
   "cell_type": "raw",
   "id": "fe957957",
   "metadata": {
    "format": "text/html"
   },
   "source": [
    "<a  class=\"jupman-sol jupman-sol-toggler\" \n",
    " onclick=\"jupman.toggleSolution(this);\" \n",
    " data-jupman-show=\"Mostra soluzione\" data-jupman-hide=\"Nascondi\">Mostra soluzione</a><div class=\"jupman-sol jupman-sol-code\" style=\"display:none\">  "
   ]
  },
  {
   "cell_type": "code",
   "execution_count": 18,
   "metadata": {},
   "outputs": [],
   "source": [
    "a = 5\n",
    "b = 3\n",
    "\n",
    "# scrivi qui\n",
    "temp = a   # associamo 5 alla variabile temp, facendo di fatto una copia\n",
    "a = b      # riassegniamo a al valore di b, cioè 3\n",
    "b = temp   # riassegniamo b al valore di temp, cioè 5\n",
    "#print(a)\n",
    "#print(b)"
   ]
  },
  {
   "cell_type": "raw",
   "id": "faaeb5a1",
   "metadata": {
    "format": "text/html"
   },
   "source": [
    "</div>"
   ]
  },
  {
   "cell_type": "code",
   "execution_count": 18,
   "metadata": {},
   "outputs": [],
   "source": [
    "a = 5\n",
    "b = 3\n",
    "\n",
    "# scrivi qui\n",
    "\n"
   ]
  },
  {
   "cell_type": "markdown",
   "metadata": {},
   "source": [
    "### Esercizio - ciclare\n",
    "\n",
    "✪ Scrivi un programma che date tre variabili con i numeri `a`, `b`, `c`, cicla i valori, cioè, mette il valore di `a` in `b`, il valore di `b` in `c`, e alla fine il valore di `c` in `a`.\n",
    "\n",
    "Perciò se hai iniziato così:\n",
    "\n",
    "\n",
    "```python\n",
    "a = 4\n",
    "b = 7\n",
    "c = 9\n",
    "```\n",
    "\n",
    "Dopo il codice che scriverai tu, eseguendo questo:\n",
    "\n",
    "```python\n",
    "print(a)\n",
    "print(b)\n",
    "print(c)\n",
    "```\n",
    "\n",
    "Dovresti vedere:\n",
    "```\n",
    "9\n",
    "4\n",
    "7\n",
    "```\n",
    "\n",
    "Ci sono vari modi di farlo, prova ad usare **solo una** variabile temporanea e fai attenzione a non perdere i valori !\n",
    "\n",
    "\n",
    "**SUGGERIMENTO**: per aiutarti, scrivi i commenti sullo stato della memoria, e pensa a quale comando usare.\n",
    "\n",
    "\n",
    "```python\n",
    "# a b c t    di quale comando ho bisogno?\n",
    "# 4 7 9 \n",
    "# 4 7 9 7    t = b\n",
    "# \n",
    "#\n",
    "#\n",
    "```\n"
   ]
  },
  {
   "cell_type": "raw",
   "id": "739677dd",
   "metadata": {
    "format": "text/html"
   },
   "source": [
    "<a  class=\"jupman-sol jupman-sol-toggler\" \n",
    " onclick=\"jupman.toggleSolution(this);\" \n",
    " data-jupman-show=\"Mostra soluzione\" data-jupman-hide=\"Nascondi\">Mostra soluzione</a><div class=\"jupman-sol jupman-sol-code\" style=\"display:none\">  "
   ]
  },
  {
   "cell_type": "code",
   "execution_count": 19,
   "metadata": {},
   "outputs": [
    {
     "name": "stdout",
     "output_type": "stream",
     "text": [
      "4\n",
      "7\n",
      "9\n"
     ]
    }
   ],
   "source": [
    "a = 4\n",
    "b = 7\n",
    "c = 9\n",
    "\n",
    "# scrivi qui\n",
    "\n",
    "print(a)\n",
    "print(b)\n",
    "print(c)"
   ]
  },
  {
   "cell_type": "raw",
   "id": "151e8144",
   "metadata": {
    "format": "text/html"
   },
   "source": [
    "</div>"
   ]
  },
  {
   "cell_type": "code",
   "execution_count": 19,
   "metadata": {},
   "outputs": [
    {
     "name": "stdout",
     "output_type": "stream",
     "text": [
      "4\n",
      "7\n",
      "9\n"
     ]
    }
   ],
   "source": [
    "a = 4\n",
    "b = 7\n",
    "c = 9\n",
    "\n",
    "# scrivi qui\n",
    "\n"
   ]
  },
  {
   "cell_type": "raw",
   "id": "cf2b80ac",
   "metadata": {
    "format": "text/html"
   },
   "source": [
    "<a  class=\"jupman-sol jupman-sol-toggler\" \n",
    " onclick=\"jupman.toggleSolution(this);\" \n",
    " data-jupman-show=\"Mostra soluzione\" data-jupman-hide=\"Nascondi\">Mostra soluzione</a><div class=\"jupman-sol jupman-sol-code\" style=\"display:none\">  "
   ]
  },
  {
   "cell_type": "code",
   "execution_count": 20,
   "metadata": {},
   "outputs": [
    {
     "name": "stdout",
     "output_type": "stream",
     "text": [
      "9\n",
      "4\n",
      "7\n"
     ]
    }
   ],
   "source": [
    "# SOLUZIONE\n",
    "\n",
    "a = 4\n",
    "b = 7\n",
    "c = 9\n",
    "\n",
    "\n",
    "# a b c t  di quale comando ho bisogno? \n",
    "# 4 7 9\n",
    "# 4 7 9 7  t = b\n",
    "# 4 4 9 7  b = a\n",
    "# 9 4 9 7  a = c\n",
    "# 9 4 7 7  c = t\n",
    "\n",
    "\n",
    "t = b\n",
    "b = a\n",
    "a = c\n",
    "c = t\n",
    "\n",
    "print(a)\n",
    "print(b)\n",
    "print(c)"
   ]
  },
  {
   "cell_type": "raw",
   "id": "0a0ef25d",
   "metadata": {
    "format": "text/html"
   },
   "source": [
    "</div>"
   ]
  },
  {
   "cell_type": "code",
   "execution_count": 20,
   "metadata": {},
   "outputs": [
    {
     "name": "stdout",
     "output_type": "stream",
     "text": [
      "9\n",
      "4\n",
      "7\n"
     ]
    }
   ],
   "source": []
  },
  {
   "cell_type": "markdown",
   "metadata": {},
   "source": [
    "\n",
    "### Cambiare il tipo durante l'esecuzione\n",
    "\n",
    "Puoi anche cambiare il tipo di una variabile durante l'esecuzione ma quello normalmente è una **cattiva idea**  perchè rende il codice più difficile da comprendere, e aumenta la probabilità di commettere errori. Facciamo un esempio:"
   ]
  },
  {
   "cell_type": "code",
   "execution_count": 21,
   "metadata": {},
   "outputs": [],
   "source": [
    "diamanti = 4          # intero"
   ]
  },
  {
   "cell_type": "code",
   "execution_count": 22,
   "metadata": {},
   "outputs": [
    {
     "data": {
      "text/plain": [
       "6"
      ]
     },
     "execution_count": 22,
     "metadata": {},
     "output_type": "execute_result"
    }
   ],
   "source": [
    "diamanti + 2"
   ]
  },
  {
   "cell_type": "code",
   "execution_count": 23,
   "metadata": {},
   "outputs": [],
   "source": [
    "diamanti = \"quattro\"  # testo "
   ]
  },
  {
   "cell_type": "markdown",
   "metadata": {},
   "source": [
    "Adesso che `diamanti` è diventato testo, se per sbaglio proviamo a trattarlo come se fosse un numero avremo un errore !!\n",
    "\n",
    "```python\n",
    "diamanti + 2\n",
    "\n",
    "---------------------------------------------------------------------------\n",
    "TypeError                                 Traceback (most recent call last)\n",
    "<ipython-input-9-6124a47997d7> in <module>\n",
    "----> 1 diamanti + 2\n",
    "\n",
    "TypeError: can only concatenate str (not \"int\") to str\n",
    "\n",
    "```"
   ]
  },
  {
   "cell_type": "markdown",
   "metadata": {},
   "source": [
    "### Comandi multipli su una stessa linea\n",
    "\n",
    "E' possibile mettere più comandi su una stessa linea (non solo assegnazioni) separandoli da un punto e virgola `;`"
   ]
  },
  {
   "cell_type": "code",
   "execution_count": 24,
   "metadata": {},
   "outputs": [
    {
     "name": "stdout",
     "output_type": "stream",
     "text": [
      "Tanti comandi!\n"
     ]
    }
   ],
   "source": [
    "a = 10; print('Tanti comandi!'); b = a + 1;"
   ]
  },
  {
   "cell_type": "code",
   "execution_count": 25,
   "metadata": {},
   "outputs": [
    {
     "name": "stdout",
     "output_type": "stream",
     "text": [
      "10 11\n"
     ]
    }
   ],
   "source": [
    "print(a,b)"
   ]
  },
  {
   "cell_type": "markdown",
   "metadata": {},
   "source": [
    "<div class=\"alert alert-info\">\n",
    "\n",
    "**NOTA: I comandi multipli su stessa linea sono 'poco pythonici'**\n",
    "\n",
    "Per quanto volte utili e meno verbose che quelle con definizione esplicita, sono uno stile sconsigliato.\n",
    "\n",
    "</div>"
   ]
  },
  {
   "cell_type": "markdown",
   "metadata": {},
   "source": [
    "### Inizializzazioni multiple\n",
    "\n",
    "Cosa diversa sono le inizializzazioni multiple, separate da virgola `,` come:"
   ]
  },
  {
   "cell_type": "code",
   "execution_count": 26,
   "metadata": {},
   "outputs": [],
   "source": [
    "x,y = 5,7"
   ]
  },
  {
   "cell_type": "code",
   "execution_count": 27,
   "metadata": {},
   "outputs": [
    {
     "name": "stdout",
     "output_type": "stream",
     "text": [
      "5\n"
     ]
    }
   ],
   "source": [
    "print(x)"
   ]
  },
  {
   "cell_type": "code",
   "execution_count": 28,
   "metadata": {},
   "outputs": [
    {
     "name": "stdout",
     "output_type": "stream",
     "text": [
      "7\n"
     ]
    }
   ],
   "source": [
    "print(y)"
   ]
  },
  {
   "cell_type": "markdown",
   "metadata": {},
   "source": [
    "A differenza dei comandi multipli, le assegnazioni multiple sono uno stile più accettabile."
   ]
  },
  {
   "cell_type": "markdown",
   "metadata": {},
   "source": [
    "### Esercizio - scambiare come un ninja\n",
    "\n",
    "Prova a scambiare il valore di due variabili `a` e `b` in una riga usando una riassegnazione multipla.\n",
    "\n",
    "```python\n",
    "a,b = 5,3\n",
    "```\n",
    "\n",
    "Dopo il tuo codice, deve risultare\n",
    "\n",
    "```python\n",
    ">>> print(a)\n",
    "3\n",
    ">>> print(b)\n",
    "5\n",
    "```"
   ]
  },
  {
   "cell_type": "raw",
   "id": "3375fdd1",
   "metadata": {
    "format": "text/html"
   },
   "source": [
    "<a  class=\"jupman-sol jupman-sol-toggler\" \n",
    " onclick=\"jupman.toggleSolution(this);\" \n",
    " data-jupman-show=\"Mostra soluzione\" data-jupman-hide=\"Nascondi\">Mostra soluzione</a><div class=\"jupman-sol jupman-sol-code\" style=\"display:none\">  "
   ]
  },
  {
   "cell_type": "code",
   "execution_count": 29,
   "metadata": {},
   "outputs": [],
   "source": [
    "a,b = 5,3\n",
    "\n",
    "# scrivi qui\n",
    "a,b = b,a\n",
    "#print(a)\n",
    "#print(b)"
   ]
  },
  {
   "cell_type": "raw",
   "id": "e2b1ae9f",
   "metadata": {
    "format": "text/html"
   },
   "source": [
    "</div>"
   ]
  },
  {
   "cell_type": "code",
   "execution_count": 29,
   "metadata": {},
   "outputs": [],
   "source": [
    "a,b = 5,3\n",
    "\n",
    "# scrivi qui\n",
    "\n"
   ]
  },
  {
   "cell_type": "markdown",
   "metadata": {},
   "source": [
    "### Nomi di variabile\n",
    "\n",
    "<div class=\"alert alert-warning\">\n",
    "\n",
    "**NOTA IMPORTANTE:** \n",
    "\n",
    "Puoi scegliere il nome che preferisci per le tue variabili (consiglio di scegliere qualcosa che ci ricorda il loro significato), ma devi aderire a semplici regole:\n",
    "</div>\n",
    "\n",
    "1. I nome possono solo contenere  caratteri in maiuscolo/minuscolo (`A-Z`, `a-z`), numeri (`0-9`) o _underscore_ `_`\n",
    "2. I nomi non possono iniziare con un numero\n",
    "3. i nomi di variabile dovrebbero iniziare con lettera minuscola\n",
    "4. I nomi non possono essere uguali a parole riservate\n",
    "\n",
    "**Parole riservate:**\n",
    "\n",
    "|||||||\n",
    "|-----|----|--------|-------|-------|----------|\n",
    "|`and`|`as`|`assert`|`break`|`class`|`continue`|\n",
    "|`def`|`del`|`elif`|`else`|`except`|`exec`|\n",
    "|`finally`|`for`|`from`|`global`|`if`|`import`|\n",
    "|`in`|`is`|`lambda`|`nonlocal`|`not`|`or`|\n",
    "|`pass`|`raise`|`return`|`try`|`while`|`with`|\n",
    "|`yield`|`True`|`False`|`None`|  |   |"
   ]
  },
  {
   "cell_type": "markdown",
   "metadata": {},
   "source": [
    "**Funzioni di sistema**: Oltre alle parole riservate (impossibili da ridefinire), Python ha anche diverse funzioni di sistema predefinite:\n",
    "\n",
    "* `bool`, `int`,`float`,`tuple`,`str`,`list`,`set`,`dict`\n",
    "* `max`, `min`, `sum`\n",
    "* `next`, `iter`\n",
    "* `id`, `dir`, `vars`,`help`\n",
    "\n",
    "Purtroppo, Python consente agli incauti di ridefinirle, ma **noi no**:\n",
    "\n",
    "<div class=\"alert alert-info\" >\n",
    "\n",
    "[V COMANDAMENTO](https://it.softpython.org/commandments.html#V-COMANDAMENTO) **: Non ridifinerai mai funzioni di sistema**\n",
    "\n",
    "Mai dichiarare variabili con questi nomi!\n",
    "</div>"
   ]
  },
  {
   "cell_type": "markdown",
   "metadata": {},
   "source": [
    "### Nomi di variabile - domande\n",
    "\n",
    "Per ciascuno dei nomi seguenti, prova a immaginare se è un valido _nome di variabile_ oppure no, e poi prova ad assegnarlo nella cella seguente\n",
    "\n",
    "\n",
    "1. `my-variable`\n",
    "2. `my_variable`\n",
    "3. `theCount`\n",
    "4. `the count`\n",
    "5. `some@var`\n",
    "6. `MacDonald`\n",
    "7. `7channel`\n",
    "8. `channel7`\n",
    "9. `stand.by`\n",
    "10. `channel45`\n",
    "11. `maybe3maybe`\n",
    "12. `\"ciao\"`\n",
    "13. `'hello'`\n",
    "14. `as`     CERCA DI CAPIRE LA DIFFERENZA *MOLTO IMPORTANTE* TRA QUESTO E I SEGUENTI DUE !!! \n",
    "15. `asino`\n",
    "16. `As`\n",
    "17. `lista`  CERCA DI COMPRENDERE LA DIFFERENZA *MOLTO IMPORTANTE* TRA QUESTO E I SEGUENTI DUE !!!\n",
    "18. `list`   NON PROVARE NEMMENO AD ASSEGNARE QUESTO NELL'INTERPRETE (SCRIVENDO PER ES `list = 5`), SE LO FAI RENDERAI L'INTERPRETE PRATICAMENTE INUTILIZZABILE !\n",
    "19. `List`\n",
    "20. `black&decker`\n",
    "21. `black & decker`\n",
    "22. `glab()`\n",
    "23. `caffè`  (NOTA LA è ACCENTATA `è` !)\n",
    "24. `):-]`\n",
    "25. `€zone` (NOTA IL SEGNO DELL'EURO)\n",
    "26. `some:pasta`\n",
    "27. `aren'tyouboredyet`\n",
    "28. `<angular>`\n",
    "\n",
    "\n",
    " "
   ]
  },
  {
   "cell_type": "code",
   "execution_count": 30,
   "metadata": {},
   "outputs": [],
   "source": [
    "# scrivi qui\n"
   ]
  },
  {
   "cell_type": "markdown",
   "metadata": {},
   "source": [
    "## Tipi numerici\n",
    "\n",
    "Abbiamo già menzionato che i numeri sono **oggetti immutabili**. Python fornisce diversi tipi numerici: interi (`int`), reali (`float`), booleani,  frazioni e numeri complessi.\n",
    "\n",
    "E' possibile compiere operazioni aritmetiche con i seguenti operatori, in ordine di precedenza:"
   ]
  },
  {
   "cell_type": "markdown",
   "metadata": {},
   "source": [
    "|Operatore|Descrizione|\n",
    "|---------|-----------|\n",
    "|`**`|Potenza|\n",
    "|`+` `-`| Più e meno unari|\n",
    "|`*` `/` `//` `%`|Moltiplicazione, divisione, divisione intera, modulo|\n",
    "|`+` `-`| Addizione e sottrazione|"
   ]
  },
  {
   "cell_type": "markdown",
   "metadata": {},
   "source": [
    "Vi sono inoltre diverse funzioni predefinite:\n",
    "\n",
    "|Funzione|Descrizione|\n",
    "|--------|-----------|\n",
    "|`min(x,y, ...)`| il minimo tra i numeri passati |\n",
    "|`max(x,y, ...)`| il massimo tra i numeri passati |\n",
    "|`abs(x)`| il valore assoluto|"
   ]
  },
  {
   "cell_type": "markdown",
   "metadata": {},
   "source": [
    "e altre sono disponibili nel modulo `math` (ricordati che per usarle devi prima importare il modulo `math` scrivendo `import math`:\n",
    "\n",
    "|Funzione|Descrizione|\n",
    "|--------|-----------|\n",
    "|`math.floor(x)`| arrotonda x all'intero inferiore|\n",
    "|`math.ceil(x)`| arrotonda x all'intero superiore|\n",
    "|`math.sqrt(x)`| la radice quadrata|\n",
    "|`math.log(x)`| il logaritmo naturale di n |\n",
    "|`math.log(x,b)`| il logaritmo di n in base b|\n",
    "\n",
    "... più molte altre che qui non riportiamo."
   ]
  },
  {
   "cell_type": "markdown",
   "metadata": {},
   "source": [
    "## Numeri interi\n",
    "\n",
    "La gamma di valori che gli interi possono avere è limitata solo dalla memoria disponibile. Per lavorare con i numeri, Python fornisce degli operatori:"
   ]
  },
  {
   "cell_type": "code",
   "execution_count": 31,
   "metadata": {},
   "outputs": [
    {
     "data": {
      "text/plain": [
       "11"
      ]
     },
     "execution_count": 31,
     "metadata": {},
     "output_type": "execute_result"
    }
   ],
   "source": [
    "7 + 4"
   ]
  },
  {
   "cell_type": "code",
   "execution_count": 32,
   "metadata": {},
   "outputs": [
    {
     "data": {
      "text/plain": [
       "3"
      ]
     },
     "execution_count": 32,
     "metadata": {},
     "output_type": "execute_result"
    }
   ],
   "source": [
    "7 - 4"
   ]
  },
  {
   "cell_type": "code",
   "execution_count": 33,
   "metadata": {},
   "outputs": [
    {
     "data": {
      "text/plain": [
       "1"
      ]
     },
     "execution_count": 33,
     "metadata": {},
     "output_type": "execute_result"
    }
   ],
   "source": [
    "7 // 4"
   ]
  },
  {
   "cell_type": "markdown",
   "metadata": {},
   "source": [
    "**NOTA**: la seguente divisione tra interi produce un risultato **float**, che come separatore per i decimali usa **il punto** (vedremo meglio in seguito):"
   ]
  },
  {
   "cell_type": "code",
   "execution_count": 34,
   "metadata": {},
   "outputs": [
    {
     "data": {
      "text/plain": [
       "1.75"
      ]
     },
     "execution_count": 34,
     "metadata": {},
     "output_type": "execute_result"
    }
   ],
   "source": [
    "7 / 4  "
   ]
  },
  {
   "cell_type": "code",
   "execution_count": 35,
   "metadata": {},
   "outputs": [
    {
     "data": {
      "text/plain": [
       "float"
      ]
     },
     "execution_count": 35,
     "metadata": {},
     "output_type": "execute_result"
    }
   ],
   "source": [
    "type(7 / 4)"
   ]
  },
  {
   "cell_type": "code",
   "execution_count": 36,
   "metadata": {},
   "outputs": [
    {
     "data": {
      "text/plain": [
       "28"
      ]
     },
     "execution_count": 36,
     "metadata": {},
     "output_type": "execute_result"
    }
   ],
   "source": [
    "7 * 4"
   ]
  },
  {
   "cell_type": "markdown",
   "metadata": {},
   "source": [
    "**NOTA:** per quanto in molti linguaggi la potenza si indica con il cappuccio `^`, invece in Python  si indica con il doppio asterisco `**`:"
   ]
  },
  {
   "cell_type": "code",
   "execution_count": 37,
   "metadata": {},
   "outputs": [
    {
     "data": {
      "text/plain": [
       "2401"
      ]
     },
     "execution_count": 37,
     "metadata": {},
     "output_type": "execute_result"
    }
   ],
   "source": [
    "7 ** 4   # potenza"
   ]
  },
  {
   "cell_type": "markdown",
   "metadata": {},
   "source": [
    "### Esercizio - scadenza 1\n",
    "\n",
    "✪ Ci viene data una importante scadenza tra:"
   ]
  },
  {
   "cell_type": "code",
   "execution_count": 38,
   "metadata": {},
   "outputs": [],
   "source": [
    "giorni = 4\n",
    "ore = 13\n",
    "minuti = 52"
   ]
  },
  {
   "cell_type": "markdown",
   "metadata": {},
   "source": [
    "Scrivi del codice che stampa i minuti in totale. Eseguendolo, deve risultare:\n",
    "\n",
    "```\n",
    "In totale mancano 6592 minuti\n",
    "```"
   ]
  },
  {
   "cell_type": "raw",
   "id": "9bdbc94a",
   "metadata": {
    "format": "text/html"
   },
   "source": [
    "<a  class=\"jupman-sol jupman-sol-toggler\" \n",
    " onclick=\"jupman.toggleSolution(this);\" \n",
    " data-jupman-show=\"Mostra soluzione\" data-jupman-hide=\"Nascondi\">Mostra soluzione</a><div class=\"jupman-sol jupman-sol-code\" style=\"display:none\">  "
   ]
  },
  {
   "cell_type": "code",
   "execution_count": 39,
   "metadata": {},
   "outputs": [
    {
     "name": "stdout",
     "output_type": "stream",
     "text": [
      "In totale mancano 6592 minuti\n"
     ]
    }
   ],
   "source": [
    "giorni = 4\n",
    "ore = 13\n",
    "minuti = 52\n",
    "\n",
    "# scrivi qui\n",
    "print(\"In totale mancano\", giorni*24*60 + ore*60 + minuti, \"minuti\")"
   ]
  },
  {
   "cell_type": "raw",
   "id": "e2d5fb95",
   "metadata": {
    "format": "text/html"
   },
   "source": [
    "</div>"
   ]
  },
  {
   "cell_type": "code",
   "execution_count": 39,
   "metadata": {},
   "outputs": [
    {
     "name": "stdout",
     "output_type": "stream",
     "text": [
      "In totale mancano 6592 minuti\n"
     ]
    }
   ],
   "source": [
    "giorni = 4\n",
    "ore = 13\n",
    "minuti = 52\n",
    "\n",
    "# scrivi qui\n",
    "\n"
   ]
  },
  {
   "cell_type": "markdown",
   "metadata": {},
   "source": [
    "### Operatore modulo\n",
    "\n",
    "Per trovare il resto della divisione tra due interi, possiamo usare l'operatore modulo che indichiamo con `%`:"
   ]
  },
  {
   "cell_type": "code",
   "execution_count": 40,
   "metadata": {},
   "outputs": [
    {
     "data": {
      "text/plain": [
       "2"
      ]
     },
     "execution_count": 40,
     "metadata": {},
     "output_type": "execute_result"
    }
   ],
   "source": [
    "5 % 3  # 5 diviso 3 da resto 2"
   ]
  },
  {
   "cell_type": "code",
   "execution_count": 41,
   "metadata": {},
   "outputs": [
    {
     "data": {
      "text/plain": [
       "1"
      ]
     },
     "execution_count": 41,
     "metadata": {},
     "output_type": "execute_result"
    }
   ],
   "source": [
    "5 % 4"
   ]
  },
  {
   "cell_type": "code",
   "execution_count": 42,
   "metadata": {},
   "outputs": [
    {
     "data": {
      "text/plain": [
       "0"
      ]
     },
     "execution_count": 42,
     "metadata": {},
     "output_type": "execute_result"
    }
   ],
   "source": [
    "5 % 5"
   ]
  },
  {
   "cell_type": "code",
   "execution_count": 43,
   "metadata": {},
   "outputs": [
    {
     "data": {
      "text/plain": [
       "5"
      ]
     },
     "execution_count": 43,
     "metadata": {},
     "output_type": "execute_result"
    }
   ],
   "source": [
    "5 % 6"
   ]
  },
  {
   "cell_type": "code",
   "execution_count": 44,
   "metadata": {},
   "outputs": [
    {
     "data": {
      "text/plain": [
       "5"
      ]
     },
     "execution_count": 44,
     "metadata": {},
     "output_type": "execute_result"
    }
   ],
   "source": [
    "5 % 7"
   ]
  },
  {
   "cell_type": "markdown",
   "metadata": {},
   "source": [
    "### Esercizio - scadenza 2\n",
    "\n",
    "✪ Ad un'altra importantissima scadenza importante mancano:"
   ]
  },
  {
   "cell_type": "markdown",
   "metadata": {},
   "source": [
    "```python\n",
    "tot_minuti = 5000\n",
    "```\n",
    "\n",
    "Scrivi del codice che stampa:\n",
    "\n",
    "```\n",
    "Mancano:\n",
    "   3 giorni\n",
    "   11 ore\n",
    "   20 minuti\n",
    "```"
   ]
  },
  {
   "cell_type": "raw",
   "id": "27924680",
   "metadata": {
    "format": "text/html"
   },
   "source": [
    "<a  class=\"jupman-sol jupman-sol-toggler\" \n",
    " onclick=\"jupman.toggleSolution(this);\" \n",
    " data-jupman-show=\"Mostra soluzione\" data-jupman-hide=\"Nascondi\">Mostra soluzione</a><div class=\"jupman-sol jupman-sol-code\" style=\"display:none\">  "
   ]
  },
  {
   "cell_type": "code",
   "execution_count": 45,
   "metadata": {},
   "outputs": [
    {
     "name": "stdout",
     "output_type": "stream",
     "text": [
      "Mancano:\n",
      "   3 giorni\n",
      "   11 ore\n",
      "   20 minuti\n"
     ]
    }
   ],
   "source": [
    "tot_minuti = 5000\n",
    "\n",
    "# scrivi qui\n",
    "print('Mancano:')\n",
    "print('  ', tot_minuti // (60*24), 'giorni')\n",
    "print('  ', (tot_minuti % (60*24)) // 60, 'ore')\n",
    "print('  ', (tot_minuti % (60*24)) % 60, 'minuti')"
   ]
  },
  {
   "cell_type": "raw",
   "id": "8aba22d6",
   "metadata": {
    "format": "text/html"
   },
   "source": [
    "</div>"
   ]
  },
  {
   "cell_type": "code",
   "execution_count": 45,
   "metadata": {},
   "outputs": [
    {
     "name": "stdout",
     "output_type": "stream",
     "text": [
      "Mancano:\n",
      "   3 giorni\n",
      "   11 ore\n",
      "   20 minuti\n"
     ]
    }
   ],
   "source": [
    "tot_minuti = 5000\n",
    "\n",
    "# scrivi qui\n",
    "\n"
   ]
  },
  {
   "cell_type": "markdown",
   "metadata": {},
   "source": [
    "### min e max\n",
    "\n",
    "Il minimo tra due numeri può essere calcolato con la funzione`min`"
   ]
  },
  {
   "cell_type": "code",
   "execution_count": 46,
   "metadata": {},
   "outputs": [
    {
     "data": {
      "text/plain": [
       "3"
      ]
     },
     "execution_count": 46,
     "metadata": {},
     "output_type": "execute_result"
    }
   ],
   "source": [
    "min(7,3)"
   ]
  },
  {
   "cell_type": "markdown",
   "metadata": {},
   "source": [
    "e il massimo con la funzione `max`:"
   ]
  },
  {
   "cell_type": "code",
   "execution_count": 47,
   "metadata": {},
   "outputs": [
    {
     "data": {
      "text/plain": [
       "6"
      ]
     },
     "execution_count": 47,
     "metadata": {},
     "output_type": "execute_result"
    }
   ],
   "source": [
    "max(2,6)"
   ]
  },
  {
   "cell_type": "markdown",
   "metadata": {},
   "source": [
    "A `min` e `max` possiamo passare un numero arbitrario di parametri, anche negativi:"
   ]
  },
  {
   "cell_type": "code",
   "execution_count": 48,
   "metadata": {},
   "outputs": [
    {
     "data": {
      "text/plain": [
       "-3"
      ]
     },
     "execution_count": 48,
     "metadata": {},
     "output_type": "execute_result"
    }
   ],
   "source": [
    "min(2,9,-3,5)"
   ]
  },
  {
   "cell_type": "code",
   "execution_count": 49,
   "metadata": {},
   "outputs": [
    {
     "data": {
      "text/plain": [
       "9"
      ]
     },
     "execution_count": 49,
     "metadata": {},
     "output_type": "execute_result"
    }
   ],
   "source": [
    "max(2,9,-3,5)"
   ]
  },
  {
   "cell_type": "markdown",
   "metadata": {},
   "source": [
    "<div class=\"alert alert-info\" >\n",
    "\n",
    "[V COMANDAMENTO](https://it.softpython.org/commandments.html#V-COMANDAMENTO) **Non ridifinerai mai funzioni di sistema come** `min` **e** `max` \n",
    "</div>\n",
    "\n",
    "\n",
    "Se usi `min` e `max` come variabili, le funzioni corrispondenti smetteranno letteralmente di funzionare!\n",
    "\n",
    "```python\n",
    "min = 4   # NOOOO !\n",
    "max = 7   # NON FARLO !\n",
    "```"
   ]
  },
  {
   "cell_type": "markdown",
   "metadata": {},
   "source": [
    "**DOMANDA**: dati due qualsiasi interi `a` e `b`, quali delle seguenti espressioni risultano equivalenti?\n",
    "\n",
    "```python\n",
    "1. max(a,b)\n",
    "2. max(min(a,b),b)\n",
    "3. -min(-a,-b)\n",
    "4. -max(-a,-b)\n",
    "```"
   ]
  },
  {
   "cell_type": "raw",
   "id": "c4814be5",
   "metadata": {
    "format": "text/html"
   },
   "source": [
    "<a  class=\"jupman-sol jupman-sol-toggler\" \n",
    " onclick=\"jupman.toggleSolution(this);\" \n",
    " data-jupman-show=\"Mostra risposta\" data-jupman-hide=\"Nascondi\">Mostra risposta</a><div class=\"jupman-sol jupman-sol-question\" style=\"display:none\">  "
   ]
  },
  {
   "cell_type": "markdown",
   "metadata": {},
   "source": [
    "**RISPOSTA**: la 1. e la 3. sono equivalenti"
   ]
  },
  {
   "cell_type": "raw",
   "id": "fd438f8a",
   "metadata": {
    "format": "text/html"
   },
   "source": [
    "</div>"
   ]
  },
  {
   "cell_type": "markdown",
   "metadata": {},
   "source": [
    "### Esercizio - trasporti\n",
    "\n",
    "✪ Una ditta dispone di un camion che usa abitualmente per effettuare consegne presso il suo miglior cliente. Il camion può trasportare 10 tonnellate di materiale, ma sfortunatamente le strade che può percorrere hanno dei tratti su ponti che limitano il tonnellaggio massimo. Questi limiti sono indicati in 5 variabili:\n",
    "\n",
    "```python\n",
    "p1,p2,p3,p4,p5 = 7,2,4,3,6\n",
    "```\n",
    "\n",
    "Il camion deve sempre percorrere il ponte `p1`, poi per il tragitto vi sono a disposizione tre itinerari possibili:\n",
    "\n",
    "- Nel primo itinerario, il camion percorre anche il ponte `p2`\n",
    "- Nel secondo itinerario, il camion percorre anche i ponti `p3` e `p4`\n",
    "- Nel terzo itinerario, il camion percorre anche il ponte `p5`\n",
    "\n",
    "La ditta vuole sapere qual'è il tonnellaggio massimo che può far arrivare a destinazione con un viaggio. Scrivi del codice che stampa questo numero.\n",
    "\n",
    "**NOTA**: non vogliamo sapere qual'è l'itinerario migliore, ci basta trovare il tonnellaggio massimo che possiamo far giungere a destinazione con un viaggio.\n",
    "\n",
    "Esempio - dati:\n",
    "\n",
    "```python\n",
    "p1,p2,p3,p4,p5 = 7,2,4,6,3\n",
    "```\n",
    "\n",
    "deve stampare\n",
    "\n",
    "```\n",
    "In un viaggio possiamo trasportare al massimo 4 tonnellate.\n",
    "```"
   ]
  },
  {
   "cell_type": "raw",
   "id": "7aa76d32",
   "metadata": {
    "format": "text/html"
   },
   "source": [
    "<a  class=\"jupman-sol jupman-sol-toggler\" \n",
    " onclick=\"jupman.toggleSolution(this);\" \n",
    " data-jupman-show=\"Mostra soluzione\" data-jupman-hide=\"Nascondi\">Mostra soluzione</a><div class=\"jupman-sol jupman-sol-code\" style=\"display:none\">  "
   ]
  },
  {
   "cell_type": "code",
   "execution_count": 50,
   "metadata": {},
   "outputs": [
    {
     "name": "stdout",
     "output_type": "stream",
     "text": [
      "In un viaggio possiamo trasportare 4 tonnellate\n"
     ]
    }
   ],
   "source": [
    "p1,p2,p3,p4,p5 = 7,2,4,6,3   # 4\n",
    "#p1,p2,p3,p4,p5 = 2,6,2,4,5  # 2\n",
    "#p1,p2,p3,p4,p5 = 8,6,2,9,5  # 6\n",
    "#p1,p2,p3,p4,p5 = 8,9,9,4,7  # 8\n",
    "\n",
    "\n",
    "# scrivi qui\n",
    "\n",
    "print('In un viaggio possiamo trasportare',\n",
    "       max(min(p1,p2), min(p1,p3,p4),min(p1,p5)), \n",
    "      'tonnellate')"
   ]
  },
  {
   "cell_type": "raw",
   "id": "dcd330f5",
   "metadata": {
    "format": "text/html"
   },
   "source": [
    "</div>"
   ]
  },
  {
   "cell_type": "code",
   "execution_count": 50,
   "metadata": {},
   "outputs": [
    {
     "name": "stdout",
     "output_type": "stream",
     "text": [
      "In un viaggio possiamo trasportare 4 tonnellate\n"
     ]
    }
   ],
   "source": [
    "p1,p2,p3,p4,p5 = 7,2,4,6,3   # 4\n",
    "#p1,p2,p3,p4,p5 = 2,6,2,4,5  # 2\n",
    "#p1,p2,p3,p4,p5 = 8,6,2,9,5  # 6\n",
    "#p1,p2,p3,p4,p5 = 8,9,9,4,7  # 8\n",
    "\n",
    "\n",
    "# scrivi qui\n",
    "\n"
   ]
  },
  {
   "cell_type": "markdown",
   "metadata": {},
   "source": [
    "### Esercizio - divani\n",
    "\n",
    "✪ Il magnate De Industrionis possiede due fabbriche di divani, una a Belluno e una a Rovigo. Per realizzare un divano servono tre componenti principali: un materasso, uno schienale e una copertura di stoffa. Ogni fabbrica produce tutti i componenti necessari, impiegando un certo tempo per costruire ciascun componente:"
   ]
  },
  {
   "cell_type": "code",
   "execution_count": 51,
   "metadata": {},
   "outputs": [],
   "source": [
    "b_mat, b_sch, b_sto, r_mat, r_sch, r_sto = 23,54,12,13,37,24"
   ]
  },
  {
   "cell_type": "markdown",
   "metadata": {},
   "source": [
    "Belluno impiega 23h a produrre un materasso, 54h lo schienale e 12h la stoffa. Rovigo, rispettivamente, 13, 37 e 24 ore. Quando i 3 componenti sono pronti, assemblarli nel divano finito richiede un'ora.\n",
    "\n",
    "Ogni tanto arrivano richieste particolari da parte di nobili troppi facoltosi, che pretendono di vedersi consegnati nel giro di poche ore divani con modifiche stravaganti come schienali in platino massiccio e altre fesserie.\n",
    "\n",
    "Se le due fabbriche iniziano la produzione dei componenti allo stesso tempo, De Industrionis vuole sapere in quanto tempo si produrrà il primo divano. Scrivi del codice che calcola tale numero.\n",
    " \n",
    "* **NOTA 1**: non ci interessa sapere quale fabbrica produrrà il divano, vogliamo solo sapere il tempo più breve nel quale si otterrà un divano\n",
    "* **NOTA 2**: supponi che entrambi le fabbriche **non** abbiano componenti in magazzino\n",
    "* **NOTA 3**: le due fabbriche **non** si scambiano componenti"
   ]
  },
  {
   "cell_type": "markdown",
   "metadata": {},
   "source": [
    "\n",
    "Esempio 1 - dati:\n",
    "\n",
    "```python\n",
    "b_mat, b_sch, b_sto, r_mat, r_sch, r_sto = 23,54,12,13,37,24\n",
    "```\n",
    "il tuo codice deve stampare:\n",
    "\n",
    "```\n",
    "il primo divano verrà prodotto in 38 ore.\n",
    "```\n",
    "\n",
    "Esempio 2 - dati:\n",
    "\n",
    "```python\n",
    "b_mat, b_sch, b_sto, r_mat, r_sch, r_sto = 81,37,32,54,36,91\n",
    "```\n",
    "il tuo codice deve stampare:\n",
    "\n",
    "```\n",
    "il primo divano verrà prodotto in 82 ore.\n",
    "```"
   ]
  },
  {
   "cell_type": "raw",
   "id": "288f4b2b",
   "metadata": {
    "format": "text/html"
   },
   "source": [
    "<a  class=\"jupman-sol jupman-sol-toggler\" \n",
    " onclick=\"jupman.toggleSolution(this);\" \n",
    " data-jupman-show=\"Mostra soluzione\" data-jupman-hide=\"Nascondi\">Mostra soluzione</a><div class=\"jupman-sol jupman-sol-code\" style=\"display:none\">  "
   ]
  },
  {
   "cell_type": "code",
   "execution_count": 52,
   "metadata": {},
   "outputs": [
    {
     "name": "stdout",
     "output_type": "stream",
     "text": [
      "il primo divano verrà prodotto in 38 ore.\n"
     ]
    }
   ],
   "source": [
    "\n",
    "b_mat, b_sch, b_sto, r_mat, r_sch, r_sto = 23,54,12,13,37,24   # 38\n",
    "#b_mat, b_sch, b_sto, r_mat, r_sch, r_sto = 81,37,32,54,36,91  # 82\n",
    "#b_mat, b_sch, b_sto, r_mat, r_sch, r_sto = 21,39,47,54,36,91  # 48\n",
    "\n",
    "# scrivi qui\n",
    "\n",
    "t = min(max(b_mat, b_sch, b_sto) + 1, max(r_mat, r_sch, r_sto) + 1)\n",
    "\n",
    "print('il primo divano verrà prodotto in', t,'ore.')"
   ]
  },
  {
   "cell_type": "raw",
   "id": "57fc0044",
   "metadata": {
    "format": "text/html"
   },
   "source": [
    "</div>"
   ]
  },
  {
   "cell_type": "code",
   "execution_count": 52,
   "metadata": {},
   "outputs": [
    {
     "name": "stdout",
     "output_type": "stream",
     "text": [
      "il primo divano verrà prodotto in 38 ore.\n"
     ]
    }
   ],
   "source": [
    "\n",
    "b_mat, b_sch, b_sto, r_mat, r_sch, r_sto = 23,54,12,13,37,24   # 38\n",
    "#b_mat, b_sch, b_sto, r_mat, r_sch, r_sto = 81,37,32,54,36,91  # 82\n",
    "#b_mat, b_sch, b_sto, r_mat, r_sch, r_sto = 21,39,47,54,36,91  # 48\n",
    "\n",
    "# scrivi qui\n",
    "\n"
   ]
  },
  {
   "cell_type": "markdown",
   "metadata": {},
   "source": [
    "## Prosegui\n",
    "\n",
    "Continua con [Basi 2 - booleani](https://it.softpython.org/basics/basics2-bools-sol.html)"
   ]
  },
  {
   "cell_type": "code",
   "execution_count": null,
   "metadata": {},
   "outputs": [],
   "source": []
  }
 ],
 "metadata": {
  "celltoolbar": "Edit Metadata",
  "kernelspec": {
   "display_name": "Python 3",
   "language": "python",
   "name": "python3"
  },
  "language_info": {
   "codemirror_mode": {
    "name": "ipython",
    "version": 3
   },
   "file_extension": ".py",
   "mimetype": "text/x-python",
   "name": "python",
   "nbconvert_exporter": "python",
   "pygments_lexer": "ipython3",
   "version": "3.7.9"
  },
  "toc": {
   "base_numbering": 1,
   "nav_menu": {},
   "number_sections": false,
   "sideBar": true,
   "skip_h1_title": false,
   "title_cell": "Table of Contents",
   "title_sidebar": "Contents",
   "toc_cell": false,
   "toc_position": {
    "height": "calc(100% - 180px)",
    "left": "10px",
    "top": "150px",
    "width": "280.2px"
   },
   "toc_section_display": true,
   "toc_window_display": true
  }
 },
 "nbformat": 4,
 "nbformat_minor": 2
}

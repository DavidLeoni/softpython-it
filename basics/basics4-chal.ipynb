{
 "cells": [
  {
   "cell_type": "markdown",
   "metadata": {},
   "source": [
    "# Basi 4 - Challenges\n",
    "\n",
    "## [Scarica zip esercizi](../_static/generated/basics.zip)\n",
    "\n",
    "[Naviga file online](https://github.com/DavidLeoni/softpython-it/tree/master/basics)\n"
   ]
  },
  {
   "cell_type": "markdown",
   "metadata": {},
   "source": [
    "Proponiamo ora degli esercizi senza soluzione, accetti la sfida? Prova ad eseguirli sia in Jupyter che in un editor di testo come Spyder per familiarizzarti con entrambi gli ambienti."
   ]
  },
  {
   "cell_type": "markdown",
   "metadata": {},
   "source": [
    "## Sfida - quali booleani 1?\n",
    "\n",
    "✪ Trova la riga che assegnando valori a `x` e `y` faccia in modo che la stampa stampi `True`.\n",
    "Esiste una sola combinazione o più di una? "
   ]
  },
  {
   "cell_type": "code",
   "execution_count": 1,
   "metadata": {},
   "outputs": [
    {
     "name": "stdout",
     "output_type": "stream",
     "text": [
      "False\n"
     ]
    }
   ],
   "source": [
    "\n",
    "x = False; y = False\n",
    "#x = False; y = True\n",
    "#x = True; y = False\n",
    "#x = True; y = True\n",
    "\n",
    "print(x and y)"
   ]
  },
  {
   "cell_type": "markdown",
   "metadata": {},
   "source": [
    "## Sfida - quali booleani 2?\n",
    "\n",
    "✪ Trova la riga che assegnando valori a `x` e `y` faccia in modo che la stampa stampi `True`.\n",
    "Esiste una sola combinazione o più di una? "
   ]
  },
  {
   "cell_type": "code",
   "execution_count": 2,
   "metadata": {},
   "outputs": [
    {
     "name": "stdout",
     "output_type": "stream",
     "text": [
      "False\n"
     ]
    }
   ],
   "source": [
    "x = False; y = False; z = False\n",
    "#x = False; y = True; z = False\n",
    "#x = True; y = False; z = False\n",
    "#x = True; y = True; z = False\n",
    "#x = False; y = False; z = True\n",
    "#x = False; y = True; z = True\n",
    "#x = True; y = False; z = True\n",
    "#x = True; y =True; z =True\n",
    "\n",
    "print((x or y) and (not x and z))"
   ]
  },
  {
   "cell_type": "markdown",
   "metadata": {},
   "source": [
    "## Sfida - Aereoporto\n",
    "\n",
    "✪✪ Finalmente decidi di prenderti una vacanza e vai all'aereoporto, ma già sai che dovrai fare varie code. Fortunatamente hai solo il bagaglio a mano, quindi ti rechi subito ai controlli di sicurezza, dove puoi scegliere tra tre file di `sic1`, `sic2` e `sic3` persone. Ogni persona in media ci mette 4 minuti ad essere esaminata, te incluso, e ovviamente scegli la fila più corta. Dopodichè vai al gate, dove trovi due file di `ga1` e `ga2` persone, e sai che ogni persona te incluso in media ci mette 20 secondi a passare: di nuovo scegli la fila più corta. Fortunatamente l'aereo è prossimo al gate quindi puoi subito scegliere se salire dalla fila in testa all'aereo con `bo1` persone o dalla fila in coda all'aereo con `bo2` persone. Per salire ogni passeggero te incluso in media ci mette 30 secondi, e scegli la coda più corta. \n",
    "\n",
    "Scrivi del codice per calcolare quanto tempo ci impieghi in totale ad entrare nell'aereo, mostrandolo in minuti e secondi\n",
    "\n",
    "Esempio - dati:\n",
    "\n",
    "```python\n",
    "sic1,sic2,sic3,ga1,ga2,bo1,bo2 = 4,5,8,5,2,7,6\n",
    "```\n",
    "\n",
    "il tuo codice deve stampare:\n",
    "\n",
    "```\n",
    "24 minuti e 30 secondi\n",
    "```"
   ]
  },
  {
   "cell_type": "code",
   "execution_count": 3,
   "metadata": {},
   "outputs": [
    {
     "name": "stdout",
     "output_type": "stream",
     "text": [
      "24 minuti e 30 secondi\n"
     ]
    }
   ],
   "source": [
    "sic1,sic2,sic3,ga1,ga2,bo1,bo2 = 4,5,8,5,2,7,6   # 24 minuti e 30 secondi\n",
    "#sic1,sic2,sic3,ga1,ga2,bo1,bo2 = 9,7,1,3,5,2,9  # 10 minuti e 50 secondi\n",
    "\n",
    "# scrivi qui\n",
    "\n"
   ]
  },
  {
   "cell_type": "markdown",
   "metadata": {},
   "source": [
    "## Sfida - Teoria del boccino\n",
    "\n",
    "Vengono tirate delle bocce, con l'obiettivo di avvicinarsi il più possibile al boccino rosso.\n",
    "\n",
    "1. Scrivi del codice che mostra `True` se una certa boccia è dentro la fascia scura, `False` altrimenti\n",
    "2. Scrivi del codice che mostra `True` se una certa boccia è dentro il cerchio, `False` altrimenti (SUGGERIMENTO: avrai bisogno di calcolare la distanza dal boccino con `math.sqrt` ...)\n",
    "\n",
    "* **NON usare l'istruzione** `if`\n",
    "\n",
    "\n",
    "![bocce](img/bocce.png)\n"
   ]
  },
  {
   "cell_type": "code",
   "execution_count": 4,
   "metadata": {},
   "outputs": [
    {
     "name": "stdout",
     "output_type": "stream",
     "text": [
      "x= 17 y= 25\n",
      "Raggiunta la fascia? False\n",
      "Entro il cerchio? False\n"
     ]
    }
   ],
   "source": [
    "import math\n",
    "\n",
    "h = 30\n",
    "w = 20\n",
    "r = 5\n",
    "\n",
    "\n",
    "x=17; y=25   # a   fascia: False   cerchio: False   \n",
    "#x=19; y=36  # b   fascia: True    cerchio: False   \n",
    "#x=8;  y=36  # c   fascia: True    cerchio: True   \n",
    "#x=16; y=32  # d   fascia: True    cerchio: False   \n",
    "#x=7;  y=41  # e   fascia: False   cerchio: False\n",
    "#x=12;y=33   # f   fascia: True    cerchio: True\n",
    "\n",
    "# scrivi qui\n",
    "\n"
   ]
  },
  {
   "cell_type": "markdown",
   "metadata": {},
   "source": [
    "## Sfida - Space mining\n",
    "\n",
    "\n",
    "✪✪ Un robot è atterrato sul pianeta Zorbon 5, con il compito di trivellare il terreno per estrarre il prezioso metallo Tiberium. La zona di ricerca ha lato `d` ed è divisa in settori, con l'origine (0,0) al centro. I colori nella mappa rappresentano la densità di Tiberium:\n",
    "\n",
    "- rosso: 3\n",
    "- arancione: 2\n",
    "- giallo: 1\n",
    "\n",
    "Il robot conosce le proprie coordinate `x` e `y`: scrivi del codice che stampa la densità di Tiberium corrispondente alla posizione del robot.\n",
    "\n",
    "* **NON usare l'istruzione** `if`\n",
    "* **SUGGERIMENTO**: usa la funzione `abs(x)` per calcolare il valore assoluto"
   ]
  },
  {
   "cell_type": "markdown",
   "metadata": {},
   "source": [
    "![space-mining](img/space-mining.png)"
   ]
  },
  {
   "cell_type": "code",
   "execution_count": 5,
   "metadata": {},
   "outputs": [
    {
     "data": {
      "text/plain": [
       "3"
      ]
     },
     "execution_count": 5,
     "metadata": {},
     "output_type": "execute_result"
    }
   ],
   "source": [
    "\n",
    "d = 30\n",
    "\n",
    "x,y = 0, 0       # 3\n",
    "#x,y = 2, 2      # 3\n",
    "#x,y = -2, -2    # 3\n",
    "#x,y = 7, 0      # 2\n",
    "#x,y = -7, 0     # 2\n",
    "#x,y = 0, 8      # 2\n",
    "#x,y = -12, 0    # 2\n",
    "#x,y = 2, 13     # 2\n",
    "#x,y = 2, 13     # 2\n",
    "#x,y = 13, 13    # 1\n",
    "#x,y = 14, -12   # 1\n",
    "#x,y = -11, -13  # 1\n",
    "#x,y = -10, 11   # 1\n",
    "\n",
    "# scrivi qui\n",
    "\n"
   ]
  },
  {
   "cell_type": "markdown",
   "metadata": {},
   "source": [
    "## Sfida - La fabbrica infinita\n",
    "\n",
    "✪✪ Nel regno di Steamland esiste una fabbrica che si dice si estenda all'infinito.\n",
    "\n",
    "La fabbrica è popolata da robot che in prossimità degli incroci dei corridoi grigio chiari e gialli hanno il compito di azionare i complessi meccanismi a vapore che governano la fabbrica. Ogni robot  conosce la sua posizione `x`, `y`. L'origine è in basso a sinistra e ogni corridoio è largo `m`.\n",
    "\n",
    "Scrivi del codice che stampa `True` quando i robot sono negli incroci, e `False` altrimenti.\n",
    "\n",
    "* **NON usare l'istruzione** `if`\n",
    "* Il tuo codice deve funzionare anche per **qualsiasi** valore di `x` e `y`, anche enormi"
   ]
  },
  {
   "cell_type": "markdown",
   "metadata": {},
   "source": [
    "![factory-grid-1](img/factory-grid-1.png)"
   ]
  },
  {
   "cell_type": "code",
   "execution_count": 6,
   "metadata": {},
   "outputs": [
    {
     "data": {
      "text/plain": [
       "True"
      ]
     },
     "execution_count": 6,
     "metadata": {},
     "output_type": "execute_result"
    }
   ],
   "source": [
    "\n",
    "m = 10\n",
    "\n",
    "x,y = 2.5 * m, 0.5 * m       # True\n",
    "#x,y = 2.5 * m, 1.5 * m      # False\n",
    "#x,y = 0.5 * m, 0.5 * m      # False\n",
    "#x,y = 5.5 * m, 0.5 * m      # True\n",
    "#x,y = 5.5 * m, 2.5 * m      # True\n",
    "#x,y =  7.0 * m, 4.5 * m     # False\n",
    "#x,y = 5.5 * m, 2.5 * m      # True\n",
    "#x,y = 299.5 * m, 200.5 * m  # True\n",
    "#x,y = 300.5 * m, 200.5 * m  # False\n",
    "\n",
    "# scrivi qui\n",
    "\n"
   ]
  },
  {
   "cell_type": "markdown",
   "metadata": {},
   "source": [
    "## Sfida - L'Anello di Luce\n",
    "\n",
    "✪✪✪ Il malvagio stregone Tenebron ha scagliato una maledizione contro il tuo regno, e Re Tribolonius corre trafelato nel tuo studio alchemico implorandoti di contrastare queste forze oscure. Per fortuna, leggendo i tuoi grimori scopri il rituale del _RendeRing_ che è in grado di erigere un anello di forza intorno al regno. Il sortilegio prescrive di tracciare un anello con un'intensità che varia da `0.0` (buio) fino all'intensità massima `5.0` (bianco). L'intensità aumenta linearmente fino a che si raggiunge il raggio `r=5.0`, dopodichè descresce linearmente fino a raggiungere lo `0.0`\n",
    "\n",
    "Data la posizione `x`,`y`, scrivi del codice che calcola l'intensità di luce.\n",
    "\n",
    "* **NON usare l'istruzione** `if`\n",
    "* **NOTA**: l'intensità non può mai essere negativa\n",
    "* **SUGGERIMENTO**: usa `math.sqrt`"
   ]
  },
  {
   "cell_type": "markdown",
   "metadata": {},
   "source": [
    "![the-ring](img/the-ring.png)"
   ]
  },
  {
   "cell_type": "code",
   "execution_count": 7,
   "metadata": {},
   "outputs": [
    {
     "data": {
      "text/plain": [
       "0.0"
      ]
     },
     "execution_count": 7,
     "metadata": {},
     "output_type": "execute_result"
    }
   ],
   "source": [
    "import math \n",
    "\n",
    "r = 5.0\n",
    "\n",
    "x,y = 0,0    #  0.0\n",
    "#x,y = 0,3    #  3.0\n",
    "#x,y = -4,0   #  4.0\n",
    "#x,y = 3,-3   #  4.242640687119285\n",
    "#x,y = 3,4    #  5.0\n",
    "#x,y = 4,-3   #  5.0\n",
    "#x,y = -4,3   #  5.0\n",
    "#x,y = 6,0    #  4.0\n",
    "#x,y = 0,7    #  3.0\n",
    "#x,y = 0,-8   #  2.0\n",
    "#x,y = 10,0   #  0.0\n",
    "#x,y = -6,7   #  0.7804555427071129\n",
    "#x,y = -7,9   #  0.0  mai negativa ...\n",
    "\n",
    "# scrivi qui\n",
    "\n"
   ]
  },
  {
   "cell_type": "code",
   "execution_count": 9,
   "metadata": {
    "nbsphinx": "hidden"
   },
   "outputs": [],
   "source": []
  },
  {
   "cell_type": "code",
   "execution_count": null,
   "metadata": {},
   "outputs": [],
   "source": []
  }
 ],
 "metadata": {
  "celltoolbar": "Edit Metadata",
  "kernelspec": {
   "display_name": "Python 3",
   "language": "python",
   "name": "python3"
  },
  "language_info": {
   "codemirror_mode": {
    "name": "ipython",
    "version": 3
   },
   "file_extension": ".py",
   "mimetype": "text/x-python",
   "name": "python",
   "nbconvert_exporter": "python",
   "pygments_lexer": "ipython3",
   "version": "3.7.10"
  },
  "toc": {
   "base_numbering": 1,
   "nav_menu": {},
   "number_sections": false,
   "sideBar": true,
   "skip_h1_title": false,
   "title_cell": "Table of Contents",
   "title_sidebar": "Contents",
   "toc_cell": false,
   "toc_position": {
    "height": "calc(100% - 180px)",
    "left": "10px",
    "top": "150px",
    "width": "280.2px"
   },
   "toc_section_display": true,
   "toc_window_display": true
  }
 },
 "nbformat": 4,
 "nbformat_minor": 2
}

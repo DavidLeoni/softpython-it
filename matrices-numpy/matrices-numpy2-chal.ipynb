{
 "cells": [
  {
   "cell_type": "markdown",
   "id": "practical-company",
   "metadata": {},
   "source": [
    "# Matrici numpy 2 - Challenge\n",
    "\n",
    "Proponiamo ora degli esercizi senza soluzione. Accetti la sfida?"
   ]
  },
  {
   "cell_type": "markdown",
   "id": "competent-desktop",
   "metadata": {},
   "source": [
    "## La macchinetta che produce scienza\n",
    "\n",
    "Gilberto, Rocky e Clelia sono data scientist nello stesso laboratorio di ricerca. \n",
    "\n",
    "Oggi hanno deciso di chiamare la pausa e sono ora davanti alla macchinetta del caffè a chiacchierare.\n",
    "\n",
    "Il discorso arriva su quante bevande hanno preso alle macchinette nell'ultima settimana e di conseguenza a quanti soldi hanno speso per cercare di avere le energie per scrivere i loro paper.\n",
    "\n",
    "Dopo un po' di discussione qualitativa entra in gioco la deformazione professionale e preparano una matrice a tre righe e tre colonne in cui:\n",
    "\n",
    "- Ciascuna colonna rappresenta uno di loro tre\n",
    "- Ciascuna riga rappresenta una delle bevande acquistabili dalla macchinetta\n",
    "\n",
    "Vogliono ora calcolare:\n",
    "\n",
    "1. stampare la somma delle colonne \n",
    "2. stampare la somma delle righe\n",
    "3. chi di loro ha speso in totale più soldi\n",
    "4. quale bevanda è la più gettonata"
   ]
  },
  {
   "cell_type": "markdown",
   "id": "ahead-miami",
   "metadata": {},
   "source": [
    "**SUGGERIMENTO:** usate le funzioni di numpy!\n",
    "\n",
    "```python\n",
    ">>> arr[0]\n",
    "[4.0,9.0,3.0]         # riga\n",
    "```\n",
    "\n",
    "```python\n",
    ">>> arr[:,1]\n",
    "[4.0,9.0,3.0,7.0]   # colonna\n",
    "```\n",
    "\n",
    "* `mat.fill(8)`\n",
    "* `print(np.sum(arr, axis=1))`\n"
   ]
  },
  {
   "cell_type": "code",
   "execution_count": 7,
   "id": "broadband-prisoner",
   "metadata": {},
   "outputs": [
    {
     "name": "stdout",
     "output_type": "stream",
     "text": [
      "Spesa di ciascuno:\n",
      "\tGilberto Rocky Clelia\n",
      "\t [21. 13. 11.]\n",
      "Spesa per tipo:\n",
      "\tThe Caffè Ginseng\n",
      "\t [14. 12. 19.]\n",
      "Dei tre ha speso di più il numero:  [0]\n",
      "La bevanda preferita è la numero:  [2]\n"
     ]
    }
   ],
   "source": [
    "import numpy as np\n",
    "\n",
    "m = np.array( \n",
    "    [ \n",
    "#        Gilberto   Rocky     Clelia\n",
    "        [5.0,       8.0,      1.0],   # Thè\n",
    "        [7.0,       3.0,      2.0],   # Caffè\n",
    "        [9.0,       2.0,      8.0]    # Ginseng\n",
    "    ]\n",
    ")\n",
    "\n",
    "# scrivi qui\n",
    "\n"
   ]
  },
  {
   "cell_type": "code",
   "execution_count": 12,
   "id": "generic-enterprise",
   "metadata": {
    "nbsphinx": "hidden"
   },
   "outputs": [],
   "source": []
  }
 ],
 "metadata": {
  "kernelspec": {
   "display_name": "Python 3 (ipykernel)",
   "language": "python",
   "name": "python3"
  },
  "language_info": {
   "codemirror_mode": {
    "name": "ipython",
    "version": 3
   },
   "file_extension": ".py",
   "mimetype": "text/x-python",
   "name": "python",
   "nbconvert_exporter": "python",
   "pygments_lexer": "ipython3",
   "version": "3.7.10"
  },
  "toc": {
   "base_numbering": 1,
   "nav_menu": {},
   "number_sections": false,
   "sideBar": true,
   "skip_h1_title": false,
   "title_cell": "Table of Contents",
   "title_sidebar": "Contents",
   "toc_cell": false,
   "toc_position": {},
   "toc_section_display": true,
   "toc_window_display": false
  }
 },
 "nbformat": 4,
 "nbformat_minor": 5
}

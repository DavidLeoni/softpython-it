{
 "cells": [
  {
   "cell_type": "code",
   "execution_count": 1,
   "id": "febe6df4",
   "metadata": {},
   "outputs": [],
   "source": [
    "import numpy as np\n"
   ]
  },
  {
   "cell_type": "code",
   "execution_count": 2,
   "id": "20458dcf",
   "metadata": {},
   "outputs": [
    {
     "data": {
      "text/plain": [
       "array([3, 5, 1])"
      ]
     },
     "execution_count": 2,
     "metadata": {},
     "output_type": "execute_result"
    }
   ],
   "source": [
    "a = np.array([3,5,1])"
   ]
  },
  {
   "cell_type": "code",
   "execution_count": 3,
   "id": "eef96530",
   "metadata": {},
   "outputs": [],
   "source": [
    "a = np.ones((2,5))"
   ]
  },
  {
   "cell_type": "code",
   "execution_count": 4,
   "id": "af8c9360",
   "metadata": {},
   "outputs": [
    {
     "data": {
      "text/plain": [
       "array([[1., 1., 1., 1., 1.],\n",
       "       [1., 1., 1., 1., 1.]])"
      ]
     },
     "execution_count": 4,
     "metadata": {},
     "output_type": "execute_result"
    }
   ],
   "source": [
    "a"
   ]
  },
  {
   "cell_type": "code",
   "execution_count": 16,
   "id": "b76127b4",
   "metadata": {},
   "outputs": [],
   "source": [
    "a = np.full((8,2),9)"
   ]
  },
  {
   "cell_type": "code",
   "execution_count": 21,
   "id": "cc6a85fa",
   "metadata": {},
   "outputs": [],
   "source": [
    "a[:,:] = 4"
   ]
  },
  {
   "cell_type": "code",
   "execution_count": 22,
   "id": "0299d1c3",
   "metadata": {},
   "outputs": [
    {
     "data": {
      "text/plain": [
       "array([[4, 4],\n",
       "       [4, 4],\n",
       "       [4, 4],\n",
       "       [4, 4],\n",
       "       [4, 4],\n",
       "       [4, 4],\n",
       "       [4, 4],\n",
       "       [4, 4]])"
      ]
     },
     "execution_count": 22,
     "metadata": {},
     "output_type": "execute_result"
    }
   ],
   "source": [
    "a"
   ]
  },
  {
   "cell_type": "code",
   "execution_count": 27,
   "id": "1df7cd77",
   "metadata": {},
   "outputs": [
    {
     "data": {
      "text/plain": [
       "array([[ 71,  29,  12,  22],\n",
       "       [116,  41,   9,  36],\n",
       "       [116,  41,   9,  36],\n",
       "       [116,  41,   9,  36],\n",
       "       [116,  41,   9,  36]])"
      ]
     },
     "execution_count": 27,
     "metadata": {},
     "output_type": "execute_result"
    }
   ],
   "source": [
    "ma = np.array([ [3,4,2],\n",
    "                [7,3,4],\n",
    "                [7,3,4],\n",
    "                [7,3,4],\n",
    "                [7,3,4],])\n",
    "mb = np.array([ [9,3,0,2],\n",
    "                [7,4,3,2],\n",
    "                [8,2,0,4]])\n",
    "ma @ mb"
   ]
  },
  {
   "cell_type": "code",
   "execution_count": 32,
   "id": "c4f9b2fa",
   "metadata": {},
   "outputs": [
    {
     "data": {
      "text/plain": [
       "array([[3, 4, 2],\n",
       "       [7, 3, 4],\n",
       "       [7, 3, 4],\n",
       "       [7, 3, 4],\n",
       "       [7, 3, 4]])"
      ]
     },
     "execution_count": 32,
     "metadata": {},
     "output_type": "execute_result"
    }
   ],
   "source": [
    "np.where(ma > 3,9,2)"
   ]
  },
  {
   "cell_type": "code",
   "execution_count": null,
   "id": "d17c94c7",
   "metadata": {},
   "outputs": [],
   "source": []
  }
 ],
 "metadata": {
  "kernelspec": {
   "display_name": "Python 3 (ipykernel)",
   "language": "python",
   "name": "python3"
  },
  "language_info": {
   "codemirror_mode": {
    "name": "ipython",
    "version": 3
   },
   "file_extension": ".py",
   "mimetype": "text/x-python",
   "name": "python",
   "nbconvert_exporter": "python",
   "pygments_lexer": "ipython3",
   "version": "3.7.10"
  },
  "toc": {
   "base_numbering": 1,
   "nav_menu": {},
   "number_sections": false,
   "sideBar": true,
   "skip_h1_title": false,
   "title_cell": "Table of Contents",
   "title_sidebar": "Contents",
   "toc_cell": false,
   "toc_position": {},
   "toc_section_display": true,
   "toc_window_display": false
  }
 },
 "nbformat": 4,
 "nbformat_minor": 5
}

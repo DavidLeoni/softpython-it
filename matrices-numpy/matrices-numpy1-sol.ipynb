{
 "cells": [
  {
   "cell_type": "markdown",
   "metadata": {},
   "source": [
    "# Matrici - Numpy 1\n",
    "\n",
    "\n",
    "## [Scarica zip esercizi](../_static/generated/matrices-numpy.zip)\n",
    "\n",
    "[Naviga file online](https://github.com/DavidLeoni/softpython-it/tree/master/matrices-numpy)\n"
   ]
  },
  {
   "cell_type": "markdown",
   "metadata": {},
   "source": [
    "## Introduzione\n",
    "\n",
    "Ci sono sostanzialmente due modi in Python di rappresentare matrici: come liste di liste, oppure con la libreria esterna [numpy](https://www.numpy.org). La più usata è sicuramente numpy, vediamo il motivo e le principali differenze:\n",
    "\n",
    "Liste di liste - [vedere foglio separato](https://it.softpython.org/matrices-lists/matrices-lists-sol.html)\n",
    "\n",
    "1. native in Python\n",
    "2. non efficienti\n",
    "3. le liste sono pervasive in Python, probabilmente incontrerai matrici espresse come liste di liste in ogni caso\n",
    "4. forniscono un'idea di come costruire una struttura dati annidata\n",
    "5. possono servire per comprendere concetti importanti come puntatori alla memoria e copie \n",
    "\n",
    "\n",
    "Numpy - questo foglio\n",
    "\n",
    "1. non nativamente disponibile in Python\n",
    "2. efficiente\n",
    "3. alla base di parecchie librerie di calcolo scientifico (scipy, pandas)\n",
    "4. la sintassi per accedere agli elementi è lievemente diversa da quella delle liste di liste \n",
    "5. in alcuni rari casi potrebbe portare problemi di installazione e/o conflitti (l'implementazione non è puro Python)\n",
    "\n",
    "\n",
    "Qui vedremo i tipi di dati e comandi essenziali della [libreria numpy](https://www.numpy.org), ma non ci addentreremo nei dettagli. \n",
    "\n",
    "L'idea è semplicemente passare ad usare il formato dati `ndarray` senza badare molto alle performance: per esempio, anche se i cicli `for` in Python sono lenti perchè operano cella per cella, li useremo comunque. Qualora tu abbia effettivamente necessità di eseguire calcoli velocemente, vorrai usare operazioni su vettori ma per questo invitiamo alla lettura dei link qua sotto.\n",
    "\n",
    "<div class=\"alert alert-warning\">\n",
    "\n",
    "**ATTENZIONE**: se vuoi usare Numpy in [Python Tutor](http://www.pythontutor.com/visualize.html#mode=edit), invece dell'interprete di default `Python 3.6` devi selezionare `Python 3.6 with Anaconda` (che a Maggio 2019 risulta marcato come sperimentale)\n",
    "</div>\n",
    "\n",
    "\n",
    "Per riferimenti, vedere:\n",
    "\n",
    "- [i tutorial Nicola Zoppetti, parte Numpy](http://www.ifac.cnr.it/~zoppetti/corsopython/)\n",
    "- [Python Data Science Handbook, parte Numpy (inglese)](https://jakevdp.github.io/PythonDataScienceHandbook/02.00-introduction-to-numpy.html)"
   ]
  },
  {
   "cell_type": "markdown",
   "metadata": {},
   "source": [
    "### Che fare\n",
    "\n",
    "- scompatta lo zip in una cartella, dovresti ottenere qualcosa del genere: \n",
    "\n",
    "```\n",
    "\n",
    "matrices-numpy\n",
    "    matrices-numpy.ipynb\n",
    "    matrices-numpy1-sol.ipynb\n",
    "    matrices-numpy2-chal.ipynb\n",
    "    jupman.py         \n",
    "```\n",
    "\n",
    "<div class=\"alert alert-warning\">\n",
    "\n",
    "**ATTENZIONE**: Per essere visualizzato correttamente, il file del notebook DEVE essere nella cartella szippata.\n",
    "</div>\n",
    "\n",
    "- apri il Jupyter Notebook da quella cartella. Due cose dovrebbero aprirsi, prima una console e poi un browser. Il browser dovrebbe mostrare una lista di file: naviga la lista e apri il notebook `matrices-numpy.ipynb`\n",
    "- Prosegui leggendo il file degli esercizi, ogni tanto al suo interno troverai delle scritte **ESERCIZIO**, che ti chiederanno di scrivere dei comandi Python nelle celle successive.\n",
    "\n",
    "Scorciatoie da tastiera:\n",
    "\n",
    "* Per eseguire il codice Python dentro una cella di Jupyter, premi `Control+Invio`\n",
    "* Per eseguire il codice Python dentro una cella di Jupyter E selezionare la cella seguente, premi `Shift+Invio`\n",
    "* Per eseguire il codice Python dentro una cella di Jupyter E creare una nuova cella subito dopo, premi `Alt+Invio`\n",
    "* Se per caso il Notebook sembra inchiodato, prova a selezionare `Kernel -> Restart`\n",
    "\n"
   ]
  },
  {
   "cell_type": "markdown",
   "metadata": {},
   "source": [
    "## Creare una matrice"
   ]
  },
  {
   "cell_type": "code",
   "execution_count": 1,
   "metadata": {},
   "outputs": [],
   "source": [
    "# Innanzitutto importiamo la libreria, e per comodità la rinominiamo in 'np'\n",
    "\n",
    "import numpy as np"
   ]
  },
  {
   "cell_type": "markdown",
   "metadata": {},
   "source": [
    "Con le liste di liste abbiamo spesso costruito le matrici una riga alla volta, aggiundo liste all'occorrenza. In numpy invece di solito si crea in un colpo solo tutta la matrice, riempiendola di zeri. \n",
    "\n",
    "In particolare, questo comando crea un ndarray riempito di zeri:"
   ]
  },
  {
   "cell_type": "code",
   "execution_count": 2,
   "metadata": {},
   "outputs": [],
   "source": [
    "mat = np.zeros( (2,3)  )   # 2 righe, 3 colonne"
   ]
  },
  {
   "cell_type": "code",
   "execution_count": 3,
   "metadata": {},
   "outputs": [
    {
     "data": {
      "text/plain": [
       "array([[0., 0., 0.],\n",
       "       [0., 0., 0.]])"
      ]
     },
     "execution_count": 3,
     "metadata": {},
     "output_type": "execute_result"
    }
   ],
   "source": [
    "mat"
   ]
  },
  {
   "cell_type": "markdown",
   "metadata": {},
   "source": [
    "Nota come all'interno di `array( )` il contenuto sembra che venga rappresentato come una lista di liste, MA in realtà nelle memoria fisica i dati sono strutturati in una sequenza lineare che permette a Python di accedere ai numeri in modo molto più rapido."
   ]
  },
  {
   "cell_type": "markdown",
   "metadata": {},
   "source": [
    "Possiamo anche crearci un `ndarray` a partire da una lista di liste:\n"
   ]
  },
  {
   "cell_type": "code",
   "execution_count": 4,
   "metadata": {},
   "outputs": [],
   "source": [
    "mat = np.array( [ [5.0,8.0,1.0], \n",
    "                  [4.0,3.0,2.0]])"
   ]
  },
  {
   "cell_type": "code",
   "execution_count": 5,
   "metadata": {},
   "outputs": [
    {
     "data": {
      "text/plain": [
       "array([[5., 8., 1.],\n",
       "       [4., 3., 2.]])"
      ]
     },
     "execution_count": 5,
     "metadata": {},
     "output_type": "execute_result"
    }
   ],
   "source": [
    "mat"
   ]
  },
  {
   "cell_type": "code",
   "execution_count": 6,
   "metadata": {},
   "outputs": [
    {
     "data": {
      "text/plain": [
       "numpy.ndarray"
      ]
     },
     "execution_count": 6,
     "metadata": {},
     "output_type": "execute_result"
    }
   ],
   "source": [
    "type(mat)"
   ]
  },
  {
   "cell_type": "markdown",
   "metadata": {},
   "source": [
    "### Creare una matrice riempita di uno"
   ]
  },
  {
   "cell_type": "code",
   "execution_count": 7,
   "metadata": {},
   "outputs": [
    {
     "data": {
      "text/plain": [
       "array([[1., 1., 1., 1., 1.],\n",
       "       [1., 1., 1., 1., 1.],\n",
       "       [1., 1., 1., 1., 1.]])"
      ]
     },
     "execution_count": 7,
     "metadata": {},
     "output_type": "execute_result"
    }
   ],
   "source": [
    "np.ones((3,5))  # 3 righe, 5 colonne"
   ]
  },
  {
   "cell_type": "markdown",
   "metadata": {},
   "source": [
    "### Creare una matrice riempita di un numero k"
   ]
  },
  {
   "cell_type": "code",
   "execution_count": 8,
   "metadata": {},
   "outputs": [
    {
     "data": {
      "text/plain": [
       "array([[7, 7, 7, 7, 7],\n",
       "       [7, 7, 7, 7, 7],\n",
       "       [7, 7, 7, 7, 7]])"
      ]
     },
     "execution_count": 8,
     "metadata": {},
     "output_type": "execute_result"
    }
   ],
   "source": [
    "np.full((3,5), 7)   "
   ]
  },
  {
   "cell_type": "markdown",
   "metadata": {},
   "source": [
    "### Dimensioni di una matrice\n",
    "\n",
    "Per ottenere le dimensioni, scriviamo così:\n",
    "    \n",
    "<div class=\"alert alert-warning\">\n",
    "\n",
    "**ATTENZIONE**: dopo `shape` **non** ci sono le parentesi tonde !\n",
    "\n",
    "`shape` è un attributo, non una funzione da chiamare\n",
    "</div>"
   ]
  },
  {
   "cell_type": "code",
   "execution_count": 9,
   "metadata": {},
   "outputs": [
    {
     "data": {
      "text/plain": [
       "(2, 3)"
      ]
     },
     "execution_count": 9,
     "metadata": {},
     "output_type": "execute_result"
    }
   ],
   "source": [
    "mat = np.array( [ [5.0,8.0,1.0], \n",
    "                  [4.0,3.0,2.0]])\n",
    "\n",
    "mat.shape"
   ]
  },
  {
   "cell_type": "markdown",
   "metadata": {},
   "source": [
    "Se vogliamo memorizzare le dimensioni in variabili separate, possiamo usare questo modo più pythonico (notare la virgola tra `num_righe` e `num_colonne`):"
   ]
  },
  {
   "cell_type": "code",
   "execution_count": 10,
   "metadata": {},
   "outputs": [],
   "source": [
    "num_righe, num_colonne = mat.shape"
   ]
  },
  {
   "cell_type": "code",
   "execution_count": 11,
   "metadata": {},
   "outputs": [
    {
     "data": {
      "text/plain": [
       "2"
      ]
     },
     "execution_count": 11,
     "metadata": {},
     "output_type": "execute_result"
    }
   ],
   "source": [
    "num_righe"
   ]
  },
  {
   "cell_type": "code",
   "execution_count": 12,
   "metadata": {},
   "outputs": [
    {
     "data": {
      "text/plain": [
       "3"
      ]
     },
     "execution_count": 12,
     "metadata": {},
     "output_type": "execute_result"
    }
   ],
   "source": [
    "num_colonne"
   ]
  },
  {
   "cell_type": "markdown",
   "metadata": {},
   "source": [
    "## Lettura e scrittura\n",
    "\n",
    "Per accedere ai dati o sovrascriverli si utilizza la notazione con le quadre, con l'importante differenza che in numpy è consentito scrivere _entrambi_ gli indici _dentro_ le stesse quadre, separati da una virgola:\n",
    "\n",
    "\n",
    "<div class=\"alert alert-warning\">\n",
    "\n",
    "**ATTENZIONE: la notazione** `mat[i,j]` **è solo per numpy!**\n",
    "    \n",
    "Con le liste di liste **non** funziona.\n",
    "<div>"
   ]
  },
  {
   "cell_type": "code",
   "execution_count": 13,
   "metadata": {},
   "outputs": [],
   "source": [
    "mat = np.array( [ [5.0,8.0,1.0], \n",
    "                  [4.0,3.0,2.0]])\n",
    "\n",
    "# mettiamo il numero 0 nella cella alla riga 0 e colonna 1\n",
    "\n",
    "mat[0,1] = 9"
   ]
  },
  {
   "cell_type": "code",
   "execution_count": 14,
   "metadata": {},
   "outputs": [
    {
     "data": {
      "text/plain": [
       "array([[5., 9., 1.],\n",
       "       [4., 3., 2.]])"
      ]
     },
     "execution_count": 14,
     "metadata": {},
     "output_type": "execute_result"
    }
   ],
   "source": [
    "mat"
   ]
  },
  {
   "cell_type": "code",
   "execution_count": 15,
   "metadata": {},
   "outputs": [
    {
     "data": {
      "text/plain": [
       "9.0"
      ]
     },
     "execution_count": 15,
     "metadata": {},
     "output_type": "execute_result"
    }
   ],
   "source": [
    "# Accediamo alla cella alla riga 0 e colonna 1\n",
    "\n",
    "mat[0,1]"
   ]
  },
  {
   "cell_type": "code",
   "execution_count": 16,
   "metadata": {},
   "outputs": [],
   "source": [
    "# mettiamo il numero 7 nella cella alla riga 1 e colonna 2\n",
    "\n",
    "mat[1,2] = 7"
   ]
  },
  {
   "cell_type": "code",
   "execution_count": 17,
   "metadata": {},
   "outputs": [
    {
     "data": {
      "text/plain": [
       "array([[5., 9., 1.],\n",
       "       [4., 3., 7.]])"
      ]
     },
     "execution_count": 17,
     "metadata": {},
     "output_type": "execute_result"
    }
   ],
   "source": [
    "mat"
   ]
  },
  {
   "cell_type": "markdown",
   "metadata": {},
   "source": [
    "**✪ ESERCIZIO**: prova a scrivere così: che succede? \n",
    "\n",
    "```python\n",
    "mat[0,0] = \"c\"\n",
    "```"
   ]
  },
  {
   "cell_type": "code",
   "execution_count": 18,
   "metadata": {},
   "outputs": [],
   "source": [
    "# scrivi qui\n",
    "\n"
   ]
  },
  {
   "cell_type": "code",
   "execution_count": 19,
   "metadata": {},
   "outputs": [
    {
     "data": {
      "text/plain": [
       "3.0"
      ]
     },
     "execution_count": 19,
     "metadata": {},
     "output_type": "execute_result"
    }
   ],
   "source": [
    "mat[1,1]"
   ]
  },
  {
   "cell_type": "markdown",
   "metadata": {},
   "source": [
    "**✪ ESERCIZIO**: Prova a scrivere così e vedere che succede:\n",
    "    \n",
    "```python\n",
    "mat[1,1.0]\n",
    "```"
   ]
  },
  {
   "cell_type": "code",
   "execution_count": 20,
   "metadata": {},
   "outputs": [],
   "source": [
    "# scrivi qui\n"
   ]
  },
  {
   "cell_type": "markdown",
   "metadata": {},
   "source": [
    "### Riempire tutta la matrice\n",
    "\n",
    "Possiamo MODIFICARE la matrice scrivendoci dentro un numero con `fill()`"
   ]
  },
  {
   "cell_type": "code",
   "execution_count": 21,
   "metadata": {},
   "outputs": [],
   "source": [
    "mat = np.array([[3.0, 5.0, 2.0],\n",
    "                [6.0, 2.0, 9.0]])\n",
    "\n",
    "mat.fill(7)  # NOTA: non ritorna nulla !!"
   ]
  },
  {
   "cell_type": "code",
   "execution_count": 22,
   "metadata": {},
   "outputs": [
    {
     "data": {
      "text/plain": [
       "array([[7., 7., 7.],\n",
       "       [7., 7., 7.]])"
      ]
     },
     "execution_count": 22,
     "metadata": {},
     "output_type": "execute_result"
    }
   ],
   "source": [
    "mat"
   ]
  },
  {
   "cell_type": "markdown",
   "metadata": {},
   "source": [
    "### Slice\n",
    "\n",
    "Per estrarre dati da un `ndarray` possiamo usare le slice, con la notazione già usata per le liste normali. La differenza questa volta è che possiamo estrarre sotto-matrici indicando due range tra le stesse quadre:"
   ]
  },
  {
   "cell_type": "code",
   "execution_count": 23,
   "metadata": {},
   "outputs": [],
   "source": [
    "mat = np.array( [ [5, 8, 1], \n",
    "                  [4, 3, 2],\n",
    "                  [6, 7, 9],\n",
    "                  [9, 3, 4],\n",
    "                  [8, 2, 7]])"
   ]
  },
  {
   "cell_type": "code",
   "execution_count": 24,
   "metadata": {},
   "outputs": [
    {
     "data": {
      "text/plain": [
       "array([[8, 1],\n",
       "       [3, 2],\n",
       "       [7, 9],\n",
       "       [3, 4]])"
      ]
     },
     "execution_count": 24,
     "metadata": {},
     "output_type": "execute_result"
    }
   ],
   "source": [
    "mat[0:4, 1:3]  # le righe dalla 0 *inclusa* alla 4 *esclusa*\n",
    "               # e le colonne dalla 1 *inclusa*  alla 3 *esclusa"
   ]
  },
  {
   "cell_type": "code",
   "execution_count": 25,
   "metadata": {},
   "outputs": [
    {
     "data": {
      "text/plain": [
       "array([[5, 8, 1]])"
      ]
     },
     "execution_count": 25,
     "metadata": {},
     "output_type": "execute_result"
    }
   ],
   "source": [
    "mat[0:1,0:3]  # tutta la prima riga"
   ]
  },
  {
   "cell_type": "code",
   "execution_count": 26,
   "metadata": {},
   "outputs": [
    {
     "data": {
      "text/plain": [
       "array([[5, 8, 1]])"
      ]
     },
     "execution_count": 26,
     "metadata": {},
     "output_type": "execute_result"
    }
   ],
   "source": [
    "mat[0:1,:]  # altro modo di estrarre tutta la prima riga"
   ]
  },
  {
   "cell_type": "code",
   "execution_count": 27,
   "metadata": {},
   "outputs": [
    {
     "data": {
      "text/plain": [
       "array([[5],\n",
       "       [4],\n",
       "       [6],\n",
       "       [9],\n",
       "       [8]])"
      ]
     },
     "execution_count": 27,
     "metadata": {},
     "output_type": "execute_result"
    }
   ],
   "source": [
    "mat[0:5, 0:1]  # tutta la prima colonna"
   ]
  },
  {
   "cell_type": "code",
   "execution_count": 28,
   "metadata": {},
   "outputs": [
    {
     "data": {
      "text/plain": [
       "array([[5],\n",
       "       [4],\n",
       "       [6],\n",
       "       [9],\n",
       "       [8]])"
      ]
     },
     "execution_count": 28,
     "metadata": {},
     "output_type": "execute_result"
    }
   ],
   "source": [
    "mat[:, 0:1]  # altro modo di estrarre tutta la prima colonna"
   ]
  },
  {
   "cell_type": "markdown",
   "metadata": {},
   "source": [
    "<div class=\"alert alert-warning\">\n",
    "    \n",
    "**ATTENZIONE: modificando le slice di numpy si modifica anche la matrice originale!**\n",
    "\n",
    "</div>   \n",
    "\n",
    "A differenza delle slice di liste di liste che producono sempre nuove liste, per questioni di efficienza con le slice di numpy otteniamo solo una _vista_ sui dati originari, che significa che scirvendo nella vista andiamo a scrivere anche nella matrice originale:"
   ]
  },
  {
   "cell_type": "code",
   "execution_count": 29,
   "metadata": {},
   "outputs": [],
   "source": [
    "mat = np.array( [ [5, 8, 1], \n",
    "                  [4, 3, 2],\n",
    "                  [6, 7, 9],\n",
    "                  [9, 3, 4],\n",
    "                  [8, 2, 7]])\n"
   ]
  },
  {
   "cell_type": "code",
   "execution_count": 30,
   "metadata": {},
   "outputs": [
    {
     "data": {
      "text/plain": [
       "array([[8, 1],\n",
       "       [3, 2],\n",
       "       [7, 9],\n",
       "       [3, 4]])"
      ]
     },
     "execution_count": 30,
     "metadata": {},
     "output_type": "execute_result"
    }
   ],
   "source": [
    "sotto_mat = mat[0:4, 1:3]  \n",
    "sotto_mat"
   ]
  },
  {
   "cell_type": "code",
   "execution_count": 31,
   "metadata": {},
   "outputs": [],
   "source": [
    "sotto_mat[0,0] = 999"
   ]
  },
  {
   "cell_type": "code",
   "execution_count": 32,
   "metadata": {},
   "outputs": [
    {
     "data": {
      "text/plain": [
       "array([[  5, 999,   1],\n",
       "       [  4,   3,   2],\n",
       "       [  6,   7,   9],\n",
       "       [  9,   3,   4],\n",
       "       [  8,   2,   7]])"
      ]
     },
     "execution_count": 32,
     "metadata": {},
     "output_type": "execute_result"
    }
   ],
   "source": [
    "mat"
   ]
  },
  {
   "cell_type": "markdown",
   "metadata": {},
   "source": [
    "### Scrivere una costante in una slice\n",
    "\n",
    "Possiamo scrivere una costante in tutte le celle di una regione identificando la regione con una slice, e ponendola uguale alla costante:"
   ]
  },
  {
   "cell_type": "code",
   "execution_count": 33,
   "metadata": {},
   "outputs": [
    {
     "data": {
      "text/plain": [
       "array([[5, 7, 7],\n",
       "       [4, 7, 7],\n",
       "       [6, 7, 7],\n",
       "       [9, 7, 7],\n",
       "       [8, 2, 5]])"
      ]
     },
     "execution_count": 33,
     "metadata": {},
     "output_type": "execute_result"
    }
   ],
   "source": [
    "mat = np.array( [ [5, 8, 1], \n",
    "                  [4, 3, 2],\n",
    "                  [6, 7, 9],\n",
    "                  [9, 3, 4],\n",
    "                  [8, 2, 5]])\n",
    "\n",
    "mat[0:4, 1:3]  = 7\n",
    "\n",
    "mat"
   ]
  },
  {
   "cell_type": "markdown",
   "metadata": {},
   "source": [
    "### Scrivere una matrice in una slice\n",
    "\n",
    "Possiamo scrivere in tutte le celle di una regione identificando la regione con una slice, e ponendola uguale ad una matrice da cui vogliamo leggere le celle.\n",
    "\n",
    "**ATTENZIONE**: Per evitare problemi, **controlla** di usare le stesse dimensioni nella slice e nella matrice a destra!"
   ]
  },
  {
   "cell_type": "code",
   "execution_count": 34,
   "metadata": {},
   "outputs": [
    {
     "data": {
      "text/plain": [
       "array([[ 5, 10, 50],\n",
       "       [ 4, 11, 51],\n",
       "       [ 6, 12, 52],\n",
       "       [ 9, 13, 53],\n",
       "       [ 8,  2,  5]])"
      ]
     },
     "execution_count": 34,
     "metadata": {},
     "output_type": "execute_result"
    }
   ],
   "source": [
    "mat = np.array( [ [5, 8, 1], \n",
    "                  [4, 3, 2],\n",
    "                  [6, 7, 9],\n",
    "                  [9, 3, 4],\n",
    "                  [8, 2, 5]])\n",
    "\n",
    "mat[0:4, 1:3]  = np.array([\n",
    "                            [10,50],\n",
    "                            [11,51],\n",
    "                            [12,52],\n",
    "                            [13,53],\n",
    "                        ])\n",
    "\n",
    "mat"
   ]
  },
  {
   "cell_type": "markdown",
   "metadata": {},
   "source": [
    "## Assegnazione e copia\n",
    "\n",
    "Con Numpy dobbiamo fare attenzione a quando usiamo l'operatore di assegnazione `=`: come accade con le liste normali, se facciamo una assegnazione nella nuova variabile otterremo solo un puntatore all'array originale:"
   ]
  },
  {
   "cell_type": "code",
   "execution_count": 35,
   "metadata": {},
   "outputs": [],
   "source": [
    "va = np.array([1,2,3])"
   ]
  },
  {
   "cell_type": "code",
   "execution_count": 36,
   "metadata": {},
   "outputs": [
    {
     "data": {
      "text/plain": [
       "array([1, 2, 3])"
      ]
     },
     "execution_count": 36,
     "metadata": {},
     "output_type": "execute_result"
    }
   ],
   "source": [
    "va"
   ]
  },
  {
   "cell_type": "code",
   "execution_count": 37,
   "metadata": {},
   "outputs": [],
   "source": [
    "vb = va"
   ]
  },
  {
   "cell_type": "code",
   "execution_count": 38,
   "metadata": {},
   "outputs": [],
   "source": [
    "vb[0] = 100"
   ]
  },
  {
   "cell_type": "code",
   "execution_count": 39,
   "metadata": {},
   "outputs": [
    {
     "data": {
      "text/plain": [
       "array([100,   2,   3])"
      ]
     },
     "execution_count": 39,
     "metadata": {},
     "output_type": "execute_result"
    }
   ],
   "source": [
    "vb"
   ]
  },
  {
   "cell_type": "code",
   "execution_count": 40,
   "metadata": {},
   "outputs": [
    {
     "data": {
      "text/plain": [
       "array([100,   2,   3])"
      ]
     },
     "execution_count": 40,
     "metadata": {},
     "output_type": "execute_result"
    }
   ],
   "source": [
    "va"
   ]
  },
  {
   "cell_type": "markdown",
   "metadata": {},
   "source": [
    "Se volessimo una copia completa dell'array, covremmo usare il metodo `.copy()`:"
   ]
  },
  {
   "cell_type": "code",
   "execution_count": 41,
   "metadata": {},
   "outputs": [],
   "source": [
    "va = np.array([1,2,3])"
   ]
  },
  {
   "cell_type": "code",
   "execution_count": 42,
   "metadata": {},
   "outputs": [],
   "source": [
    "vc = va.copy()"
   ]
  },
  {
   "cell_type": "code",
   "execution_count": 43,
   "metadata": {},
   "outputs": [
    {
     "data": {
      "text/plain": [
       "array([1, 2, 3])"
      ]
     },
     "execution_count": 43,
     "metadata": {},
     "output_type": "execute_result"
    }
   ],
   "source": [
    "vc"
   ]
  },
  {
   "cell_type": "code",
   "execution_count": 44,
   "metadata": {},
   "outputs": [],
   "source": [
    "vc[0] = 100"
   ]
  },
  {
   "cell_type": "code",
   "execution_count": 45,
   "metadata": {},
   "outputs": [
    {
     "data": {
      "text/plain": [
       "array([100,   2,   3])"
      ]
     },
     "execution_count": 45,
     "metadata": {},
     "output_type": "execute_result"
    }
   ],
   "source": [
    "vc"
   ]
  },
  {
   "cell_type": "code",
   "execution_count": 46,
   "metadata": {},
   "outputs": [
    {
     "data": {
      "text/plain": [
       "array([1, 2, 3])"
      ]
     },
     "execution_count": 46,
     "metadata": {},
     "output_type": "execute_result"
    }
   ],
   "source": [
    "va"
   ]
  },
  {
   "cell_type": "markdown",
   "metadata": {},
   "source": [
    "## Calcoli\n",
    "\n",
    "Numpy è estremamente flessibile, e ci permette di usare gli array quasi con le stesse operazioni dei vettori e matrici che conosciamo dall'algebra:"
   ]
  },
  {
   "cell_type": "code",
   "execution_count": 47,
   "metadata": {},
   "outputs": [
    {
     "data": {
      "text/plain": [
       "array([5, 9, 7])"
      ]
     },
     "execution_count": 47,
     "metadata": {},
     "output_type": "execute_result"
    }
   ],
   "source": [
    "va = np.array([5,9,7]) \n",
    "va"
   ]
  },
  {
   "cell_type": "code",
   "execution_count": 48,
   "metadata": {},
   "outputs": [
    {
     "data": {
      "text/plain": [
       "array([6, 8, 0])"
      ]
     },
     "execution_count": 48,
     "metadata": {},
     "output_type": "execute_result"
    }
   ],
   "source": [
    "vb = np.array([6,8,0]) \n",
    "vb"
   ]
  },
  {
   "cell_type": "markdown",
   "metadata": {},
   "source": [
    "Quando effettuiamo un'operazione algebrica, tipicamente viene creato un NUOVO array:"
   ]
  },
  {
   "cell_type": "code",
   "execution_count": 49,
   "metadata": {},
   "outputs": [
    {
     "data": {
      "text/plain": [
       "array([11, 17,  7])"
      ]
     },
     "execution_count": 49,
     "metadata": {},
     "output_type": "execute_result"
    }
   ],
   "source": [
    "vc = va + vb   \n",
    "vc"
   ]
  },
  {
   "cell_type": "markdown",
   "metadata": {},
   "source": [
    "Notiamo che la somma non ha cambiato gli input:"
   ]
  },
  {
   "cell_type": "code",
   "execution_count": 50,
   "metadata": {},
   "outputs": [
    {
     "data": {
      "text/plain": [
       "array([5, 9, 7])"
      ]
     },
     "execution_count": 50,
     "metadata": {},
     "output_type": "execute_result"
    }
   ],
   "source": [
    "va"
   ]
  },
  {
   "cell_type": "code",
   "execution_count": 51,
   "metadata": {},
   "outputs": [
    {
     "data": {
      "text/plain": [
       "array([6, 8, 0])"
      ]
     },
     "execution_count": 51,
     "metadata": {},
     "output_type": "execute_result"
    }
   ],
   "source": [
    "vb"
   ]
  },
  {
   "cell_type": "markdown",
   "metadata": {},
   "source": [
    "### Moltiplicazione per uno scalare"
   ]
  },
  {
   "cell_type": "code",
   "execution_count": 52,
   "metadata": {},
   "outputs": [],
   "source": [
    "m = np.array([[5, 9, 7],\n",
    "              [6, 8, 0]])"
   ]
  },
  {
   "cell_type": "code",
   "execution_count": 53,
   "metadata": {},
   "outputs": [
    {
     "data": {
      "text/plain": [
       "array([[15, 27, 21],\n",
       "       [18, 24,  0]])"
      ]
     },
     "execution_count": 53,
     "metadata": {},
     "output_type": "execute_result"
    }
   ],
   "source": [
    "3 * m"
   ]
  },
  {
   "cell_type": "markdown",
   "metadata": {},
   "source": [
    "### Somma di uno scalare"
   ]
  },
  {
   "cell_type": "code",
   "execution_count": 54,
   "metadata": {},
   "outputs": [
    {
     "data": {
      "text/plain": [
       "array([[ 8, 12, 10],\n",
       "       [ 9, 11,  3]])"
      ]
     },
     "execution_count": 54,
     "metadata": {},
     "output_type": "execute_result"
    }
   ],
   "source": [
    "3 + m"
   ]
  },
  {
   "cell_type": "markdown",
   "metadata": {},
   "source": [
    "### Moltiplicazione\n",
    "\n",
    "Attenzione alla moltiplicazione con `*`, che diversamente dalla moltiplicazione classica tra matrici moltiplica _elemento per elemento_ e richiede quindi matrici di dimensioni identiche:"
   ]
  },
  {
   "cell_type": "code",
   "execution_count": 55,
   "metadata": {},
   "outputs": [
    {
     "data": {
      "text/plain": [
       "array([[  1,   0,   3],\n",
       "       [ 40, 100, 180]])"
      ]
     },
     "execution_count": 55,
     "metadata": {},
     "output_type": "execute_result"
    }
   ],
   "source": [
    "ma = np.array([[1,  2,  3],\n",
    "               [10, 20, 30]])\n",
    "\n",
    "mb = np.array([[1,  0,  1],\n",
    "               [4,  5,  6]]) \n",
    "\n",
    "ma * mb"
   ]
  },
  {
   "cell_type": "markdown",
   "metadata": {},
   "source": [
    "Se vogliamo la moltiplicazione tra matrici che [troviamo nell'algebra classica](https://it.wikipedia.org/wiki/Moltiplicazione_di_matrici#:~:text=In%20matematica%2C%20e%20pi%C3%B9%20precisamente,luogo%20ad%20un'altra%20matrice.), dobbiamo usare l'operatore `@` facendo attenzione ad avere matrici di dimensioni compatibili:"
   ]
  },
  {
   "cell_type": "code",
   "execution_count": 56,
   "metadata": {},
   "outputs": [
    {
     "data": {
      "text/plain": [
       "array([[  4,  32],\n",
       "       [ 40, 320]])"
      ]
     },
     "execution_count": 56,
     "metadata": {},
     "output_type": "execute_result"
    }
   ],
   "source": [
    "mc = np.array([[1,  2,  3],\n",
    "               [10, 20, 30]])\n",
    "md = np.array([[1, 4],\n",
    "               [0, 5],\n",
    "               [1, 6]]) \n",
    "\n",
    "mc @ md"
   ]
  },
  {
   "cell_type": "markdown",
   "metadata": {},
   "source": [
    "### Divisione per uno scalare"
   ]
  },
  {
   "cell_type": "code",
   "execution_count": 57,
   "metadata": {},
   "outputs": [
    {
     "data": {
      "text/plain": [
       "array([[0.25, 0.5 , 0.  ],\n",
       "       [2.5 , 0.  , 7.5 ]])"
      ]
     },
     "execution_count": 57,
     "metadata": {},
     "output_type": "execute_result"
    }
   ],
   "source": [
    "ma = np.array([[1,  2,  0.0],\n",
    "               [10, 0.0, 30]])\n",
    "\n",
    "ma / 4"
   ]
  },
  {
   "cell_type": "markdown",
   "metadata": {},
   "source": [
    "Attenzione che se dividiamo per `0.0`, l'esecuzione del programma continuerà comunque con un warning e ci ritroveremo nella matrice degli strani `nan` e `inf` che tendono poi a creare problemi - vedere al riguardo sezione [Nan e inifinità](#NaN-e-infinit%C3%A0)"
   ]
  },
  {
   "cell_type": "code",
   "execution_count": 58,
   "metadata": {},
   "outputs": [
    {
     "name": "stdout",
     "output_type": "stream",
     "text": [
      "[[inf inf nan]\n",
      " [inf nan inf]]\n",
      "DOPO\n"
     ]
    },
    {
     "name": "stderr",
     "output_type": "stream",
     "text": [
      "/home/da/.local/lib/python3.7/site-packages/ipykernel_launcher.py:1: RuntimeWarning: divide by zero encountered in true_divide\n",
      "  \"\"\"Entry point for launching an IPython kernel.\n",
      "/home/da/.local/lib/python3.7/site-packages/ipykernel_launcher.py:1: RuntimeWarning: invalid value encountered in true_divide\n",
      "  \"\"\"Entry point for launching an IPython kernel.\n"
     ]
    }
   ],
   "source": [
    "print(ma / 0.0)\n",
    "print(\"DOPO\")"
   ]
  },
  {
   "cell_type": "markdown",
   "metadata": {},
   "source": [
    "## Aggregazione\n",
    "\n",
    "Numpy fornisce diverse funzioni per calcolare statistiche, noi ne mostriamo solo alcune:"
   ]
  },
  {
   "cell_type": "code",
   "execution_count": 59,
   "metadata": {},
   "outputs": [
    {
     "data": {
      "text/plain": [
       "21"
      ]
     },
     "execution_count": 59,
     "metadata": {},
     "output_type": "execute_result"
    }
   ],
   "source": [
    "m = np.array([[5, 4, 6],\n",
    "              [3, 1, 2]])\n",
    "np.sum(m)"
   ]
  },
  {
   "cell_type": "code",
   "execution_count": 60,
   "metadata": {},
   "outputs": [
    {
     "data": {
      "text/plain": [
       "6"
      ]
     },
     "execution_count": 60,
     "metadata": {},
     "output_type": "execute_result"
    }
   ],
   "source": [
    "np.max(m)   "
   ]
  },
  {
   "cell_type": "code",
   "execution_count": 61,
   "metadata": {},
   "outputs": [
    {
     "data": {
      "text/plain": [
       "1"
      ]
     },
     "execution_count": 61,
     "metadata": {},
     "output_type": "execute_result"
    }
   ],
   "source": [
    "np.min(m)"
   ]
  },
  {
   "cell_type": "markdown",
   "metadata": {},
   "source": [
    "## Filtrare\n",
    "\n",
    "Numpy mette a disposizione un mini-linguaggio per filtrare i numeri in un array specificando dei criteri di selezione. Vediamo un esempio:"
   ]
  },
  {
   "cell_type": "code",
   "execution_count": 62,
   "metadata": {},
   "outputs": [
    {
     "data": {
      "text/plain": [
       "array([[5, 2, 6],\n",
       "       [1, 4, 3]])"
      ]
     },
     "execution_count": 62,
     "metadata": {},
     "output_type": "execute_result"
    }
   ],
   "source": [
    "mat = np.array([[5, 2, 6],\n",
    "                [1, 4, 3]])\n",
    "mat"
   ]
  },
  {
   "cell_type": "markdown",
   "metadata": {},
   "source": [
    "Supponiamo di voler ottenere un array con tutti i numeri da `mat` che sono maggiori di 2. \n",
    "\n",
    "Possiamo indicare la matrice `mat` su cui volevamo operare, poi _tra parentesi quadre_ indichiamo una specie di condizione booleana, _riusando_ la variabile `mat` così:"
   ]
  },
  {
   "cell_type": "code",
   "execution_count": 63,
   "metadata": {},
   "outputs": [
    {
     "data": {
      "text/plain": [
       "array([5, 6, 4, 3])"
      ]
     },
     "execution_count": 63,
     "metadata": {},
     "output_type": "execute_result"
    }
   ],
   "source": [
    "mat[ mat > 2 ]"
   ]
  },
  {
   "cell_type": "markdown",
   "metadata": {},
   "source": [
    "Ma esattamente, che cos'è quella strana espressione che abbiamo messo dentro le quadre? Proviamo ad eseguirla da sola:"
   ]
  },
  {
   "cell_type": "code",
   "execution_count": 64,
   "metadata": {},
   "outputs": [
    {
     "data": {
      "text/plain": [
       "array([[ True, False,  True],\n",
       "       [False,  True,  True]])"
      ]
     },
     "execution_count": 64,
     "metadata": {},
     "output_type": "execute_result"
    }
   ],
   "source": [
    "mat > 2"
   ]
  },
  {
   "cell_type": "markdown",
   "metadata": {},
   "source": [
    "Notiamo che ci restituisce una matrice di booleani, che sono veri quando la corrispondente cella nella matrice originale soddisfa la condizione che abbiamo imposto. \n",
    "\n",
    "Mettendo poi questa espressione all'interno di `mat[   ]`  otteniamo i valori della matrice originaria che soddisfano l'espressione:"
   ]
  },
  {
   "cell_type": "code",
   "execution_count": 65,
   "metadata": {},
   "outputs": [
    {
     "data": {
      "text/plain": [
       "array([5, 6, 4, 3])"
      ]
     },
     "execution_count": 65,
     "metadata": {},
     "output_type": "execute_result"
    }
   ],
   "source": [
    "mat[ mat > 2 ]"
   ]
  },
  {
   "cell_type": "markdown",
   "metadata": {},
   "source": [
    "Non solo, possiamo costruire espressione più complesse usando `&` per la congiunzione logica _and_  e `|` (carattere pipe) per la congiunzione logica _or_:"
   ]
  },
  {
   "cell_type": "code",
   "execution_count": 66,
   "metadata": {},
   "outputs": [
    {
     "data": {
      "text/plain": [
       "array([5, 4])"
      ]
     },
     "execution_count": 66,
     "metadata": {},
     "output_type": "execute_result"
    }
   ],
   "source": [
    "mat = np.array([[5, 2, 6],\n",
    "                [1, 4, 3]])\n",
    "mat[(mat > 3) & (mat < 6)]"
   ]
  },
  {
   "cell_type": "code",
   "execution_count": 67,
   "metadata": {},
   "outputs": [
    {
     "data": {
      "text/plain": [
       "array([5, 6, 1])"
      ]
     },
     "execution_count": 67,
     "metadata": {},
     "output_type": "execute_result"
    }
   ],
   "source": [
    "mat = np.array([[5, 2, 6],\n",
    "                [1, 4, 3]])\n",
    "mat[(mat < 2) | (mat > 4)]"
   ]
  },
  {
   "cell_type": "markdown",
   "metadata": {},
   "source": [
    "<div class=\"alert alert-warning\">\n",
    "\n",
    "**ATTENZIONE: RICORDATI LE PARENTESI TONDE TRA LE VARIE ESPRESSIONI!**\n",
    "</div>"
   ]
  },
  {
   "cell_type": "markdown",
   "metadata": {},
   "source": [
    "**ESERCIZIO**: prova a riscrivere le espressioni qua sopra 'dimenticando' le parentesi tonde nelle varie componenti (sinistra/destra/entrambe) e guarda cosa succede. Ottieni errori o risultati diversi da quelli attesi?"
   ]
  },
  {
   "cell_type": "raw",
   "id": "c9c98e52",
   "metadata": {
    "format": "text/html"
   },
   "source": [
    "<a  class=\"jupman-sol jupman-sol-toggler\" \n",
    " onclick=\"jupman.toggleSolution(this);\" \n",
    " data-jupman-show=\"Mostra soluzione\" data-jupman-hide=\"Nascondi\">Mostra soluzione</a><div class=\"jupman-sol jupman-sol-code\" style=\"display:none\">  "
   ]
  },
  {
   "cell_type": "code",
   "execution_count": 68,
   "metadata": {},
   "outputs": [
    {
     "name": "stdout",
     "output_type": "stream",
     "text": [
      "[5 2 6 1 4 3]\n",
      "[5 2 6 4 3]\n"
     ]
    }
   ],
   "source": [
    "\n",
    "mat = np.array([[5, 2, 6],\n",
    "                [1, 4, 3]])\n",
    "\n",
    "# scrivi qui\n",
    "print(  mat[(mat > 3) & mat < 6]  )\n",
    "print(  mat[mat > 3 & (mat < 6)]    )\n",
    "#print(  mat[mat > 3 & mat < 6]      )\n",
    "# l'ultimo produce:\n",
    "# ---------------------------------------------------------------------------\n",
    "# ValueError                                Traceback (most recent call last)\n",
    "# <ipython-input-212-33c5a083b265> in <module>\n",
    "#       3 print(  mat[(mat > 3) & mat < 6]  )\n",
    "#       4 print(  mat[mat > 3 & (mat < 6)]    )\n",
    "# ----> 5 print(  mat[mat > 3 & mat < 6]      )\n",
    "\n",
    "# ValueError: The truth value of an array with more than one element is ambiguous. Use a.any() or a.all()"
   ]
  },
  {
   "cell_type": "raw",
   "id": "537409a3",
   "metadata": {
    "format": "text/html"
   },
   "source": [
    "</div>"
   ]
  },
  {
   "cell_type": "code",
   "execution_count": 68,
   "metadata": {},
   "outputs": [],
   "source": [
    "\n",
    "mat = np.array([[5, 2, 6],\n",
    "                [1, 4, 3]])\n",
    "\n",
    "# scrivi qui\n",
    "\n"
   ]
  },
  {
   "cell_type": "markdown",
   "metadata": {},
   "source": [
    "<div class=\"alert alert-warning\">\n",
    "\n",
    "**ATTENZIONE**:  `and` **E** `or` **NON FUNZIONANO**!\n",
    "</div>"
   ]
  },
  {
   "cell_type": "markdown",
   "metadata": {},
   "source": [
    "**ESERCIZIO**: prova a riscrivere le espressioni qua sopra sostituendo `&` con `and`  e `|` con `or` e guarda cosa succede. Ottieni errori o risultati diversi da quelli attesi?"
   ]
  },
  {
   "cell_type": "raw",
   "id": "47b08032",
   "metadata": {
    "format": "text/html"
   },
   "source": [
    "<a  class=\"jupman-sol jupman-sol-toggler\" \n",
    " onclick=\"jupman.toggleSolution(this);\" \n",
    " data-jupman-show=\"Mostra soluzione\" data-jupman-hide=\"Nascondi\">Mostra soluzione</a><div class=\"jupman-sol jupman-sol-code\" style=\"display:none\">  "
   ]
  },
  {
   "cell_type": "code",
   "execution_count": 69,
   "metadata": {},
   "outputs": [],
   "source": [
    "\n",
    "mat = np.array([[5, 2, 6],\n",
    "                [1, 4, 3]])\n",
    "\n",
    "# scrivi qui\n",
    "#print(  mat[(mat > 3) and (mat < 6) ]  )\n",
    "#---------------------------------------------------------------------------\n",
    "#ValueError                                Traceback (most recent call last)\n",
    "#<ipython-input-218-3edf025af7c0> in <module>\n",
    "#      4 \n",
    "#      5 # scrivi qui\n",
    "#----> 6 print(  mat[(mat > 3) and (mat < 6) ]  )     \n",
    "\n",
    "#ValueError: The truth value of an array with more than one element is ambiguous. Use a.any() or a.all()\n",
    "\n",
    "#print(  mat[(mat > 3) or (mat < 6)]    )\n",
    "#---------------------------------------------------------------------------\n",
    "#ValueError                                Traceback (most recent call last)\n",
    "#<ipython-input-219-192c022d9d87> in <module>\n",
    "#     16 \n",
    "#     17 \n",
    "#---> 18 print(  mat[(mat > 3) or (mat < 6)]    )\n",
    "\n",
    "#ValueError: The truth value of an array with more than one element is ambiguous. Use a.any() or a.all()"
   ]
  },
  {
   "cell_type": "raw",
   "id": "ff5aa3e8",
   "metadata": {
    "format": "text/html"
   },
   "source": [
    "</div>"
   ]
  },
  {
   "cell_type": "code",
   "execution_count": 69,
   "metadata": {},
   "outputs": [],
   "source": [
    "\n",
    "mat = np.array([[5, 2, 6],\n",
    "                [1, 4, 3]])\n",
    "\n",
    "# scrivi qui\n",
    "\n"
   ]
  },
  {
   "cell_type": "markdown",
   "metadata": {},
   "source": [
    "### Trovare indici con `np.where`\n",
    "\n",
    "Abbiamo visto come trovare il contenuto delle celle per cui una condizione è soddisfatta. E se volessimo trovare gli _indici_ di quelle celle?  In quel caso useremmo la funzione `np.where`, passandogli come parametro la condizione espressa nello stesso linguaggio che abbiamo già usato prima."
   ]
  },
  {
   "cell_type": "markdown",
   "metadata": {},
   "source": [
    "Per esempio, se volessimo trovare gli _indici_ delle celle che contengono numeri minori di 40 o maggiori di 60 scriveremmo così:"
   ]
  },
  {
   "cell_type": "code",
   "execution_count": 70,
   "metadata": {},
   "outputs": [
    {
     "data": {
      "text/plain": [
       "(array([0, 2, 3, 5]),)"
      ]
     },
     "execution_count": 70,
     "metadata": {},
     "output_type": "execute_result"
    }
   ],
   "source": [
    "             #0  1  2  3  4  5\n",
    "v = np.array([30,60,20,70,40,80])\n",
    "\n",
    "np.where((v < 40) | (v > 60))"
   ]
  },
  {
   "cell_type": "markdown",
   "metadata": {},
   "source": [
    "## NaN e infinità\n",
    "\n",
    "I numeri float possono essere numeri,  _non numeri_ , e anche _infinità_ . A volte durante i calcoli accadono condizioni estreme, come per esempio dividere un piccolo numero per un numero enorme. In tali casi, potresti finire con un float particolare che è il temuto _Not a Number_ , _NaN_ in breve, o potresti ottenere una _infinità_ . Questo potrebbe portare a comportamenti imprevedibili, perciò devi saper riconoscere situazioni potenzialmente problematiche.\n",
    "\n",
    "I comportamenti descritti in seguito sono dettati dallo standard IEEE per l'Aritmetica in virgola mobile binaria (IEEE 754) usato da Numpy e che è implementato in tutti i processori ( _CPU_ ), perciò di fatto riguarda _tutti_ i linguaggi di programmazione."
   ]
  },
  {
   "cell_type": "markdown",
   "metadata": {},
   "source": [
    "### NaN\n",
    "\n",
    "NaN significa _Non è un Numero_. Che è già un nome poco chiaro, visto che il NaN in realtà è un membro molto speciale dei floats, con questa stupefacente proprietà:"
   ]
  },
  {
   "cell_type": "markdown",
   "metadata": {},
   "source": [
    "<div class=\"alert alert-warning\">\n",
    "\n",
    "**NaN NON E' UGUALE A SE' STESSO !!!**\n",
    "\n",
    "Hai letto bene, NaN davvero _non_ è uguale a sè stesso.\n",
    "\n",
    "</div>\n",
    "\n",
    "Sappiamo che la tua mente vuole rifiutare questa nozione, ma la confermeremo a breve.\n",
    "\n",
    "Per ottenere un NaN, puoi usare il modulo Python `math` che contiene questo oggetto alieno:\n"
   ]
  },
  {
   "cell_type": "code",
   "execution_count": 71,
   "metadata": {},
   "outputs": [
    {
     "data": {
      "text/plain": [
       "nan"
      ]
     },
     "execution_count": 71,
     "metadata": {},
     "output_type": "execute_result"
    }
   ],
   "source": [
    "import math\n",
    "math.nan    # nota che stampa 'nan' con n minuscolo"
   ]
  },
  {
   "cell_type": "markdown",
   "metadata": {},
   "source": [
    "Come detto, un NaN è considerato un `float`:"
   ]
  },
  {
   "cell_type": "code",
   "execution_count": 72,
   "metadata": {},
   "outputs": [
    {
     "data": {
      "text/plain": [
       "float"
      ]
     },
     "execution_count": 72,
     "metadata": {},
     "output_type": "execute_result"
    }
   ],
   "source": [
    "type(math.nan)"
   ]
  },
  {
   "cell_type": "markdown",
   "metadata": {},
   "source": [
    "Eppure, si comporta molto diversamente dai suoi compagni float, o da ogni altro oggetto nell'universo conosciuto:"
   ]
  },
  {
   "cell_type": "code",
   "execution_count": 73,
   "metadata": {},
   "outputs": [
    {
     "data": {
      "text/plain": [
       "False"
      ]
     },
     "execution_count": 73,
     "metadata": {},
     "output_type": "execute_result"
    }
   ],
   "source": [
    "math.nan == math.nan   # Eh ????"
   ]
  },
  {
   "cell_type": "markdown",
   "metadata": {},
   "source": [
    "### Rilevare i NaN\n",
    "\n",
    "Detto quanto sopra, se vuoi controllare quando una variabile `x` è un NaN, _non_ puoi scrivere così:"
   ]
  },
  {
   "cell_type": "code",
   "execution_count": 74,
   "metadata": {},
   "outputs": [
    {
     "name": "stdout",
     "output_type": "stream",
     "text": [
      "x è qualcos'altro ??\n"
     ]
    }
   ],
   "source": [
    "x = math.nan\n",
    "if x == math.nan:  # SBAGLIATO\n",
    "    print(\"Sono un NaN \")\n",
    "else:\n",
    "    print(\"x è qualcos'altro ??\")"
   ]
  },
  {
   "cell_type": "markdown",
   "metadata": {},
   "source": [
    "Per gestire correttamente questa situazione, devi usare la funzione `math.isnan`:"
   ]
  },
  {
   "cell_type": "code",
   "execution_count": 75,
   "metadata": {},
   "outputs": [
    {
     "name": "stdout",
     "output_type": "stream",
     "text": [
      "x è un NaN \n"
     ]
    }
   ],
   "source": [
    "x = math.nan\n",
    "if math.isnan(x):  # CORRETTO\n",
    "    print(\"x è un NaN \")\n",
    "else:\n",
    "    print(\"x è qualcos'altro ??\")"
   ]
  },
  {
   "cell_type": "markdown",
   "metadata": {},
   "source": [
    "Nota che `math.isnan` funziona anche con NaN _negativi_:"
   ]
  },
  {
   "cell_type": "code",
   "execution_count": 76,
   "metadata": {},
   "outputs": [
    {
     "name": "stdout",
     "output_type": "stream",
     "text": [
      "y è un NaN \n"
     ]
    }
   ],
   "source": [
    "y = -math.nan\n",
    "if math.isnan(y):  # CORRETTO\n",
    "    print(\"y è un NaN \")\n",
    "else:\n",
    "    print(\"y è quacos'altro ??\")"
   ]
  },
  {
   "cell_type": "markdown",
   "metadata": {},
   "source": [
    "### Sequenze con i NaN\n",
    "\n",
    "Per fortuna, non tutto è completamente assurdo. Se compari sequenze che contengono NaN ad altre, ottieni risultati ragionevoli:"
   ]
  },
  {
   "cell_type": "code",
   "execution_count": 77,
   "metadata": {},
   "outputs": [
    {
     "data": {
      "text/plain": [
       "True"
      ]
     },
     "execution_count": 77,
     "metadata": {},
     "output_type": "execute_result"
    }
   ],
   "source": [
    "[math.nan, math.nan] == [math.nan, math.nan]"
   ]
  },
  {
   "cell_type": "code",
   "execution_count": 78,
   "metadata": {},
   "outputs": [
    {
     "data": {
      "text/plain": [
       "False"
      ]
     },
     "execution_count": 78,
     "metadata": {},
     "output_type": "execute_result"
    }
   ],
   "source": [
    "[math.nan, math.nan] == [math.nan, 5.0]"
   ]
  },
  {
   "cell_type": "markdown",
   "metadata": {},
   "source": [
    "### Esercizio - NaN due variabili\n",
    "\n",
    "Date due variabili `x` e `y`, scrivi del codice che stampa `\"stessa cosa\"` quando sono lo stesso, _anche_ quando sono `NaN`. Altrimenti, stampa `\"non sono la stessa cosa\"`"
   ]
  },
  {
   "cell_type": "raw",
   "id": "c582999e",
   "metadata": {
    "format": "text/html"
   },
   "source": [
    "<a  class=\"jupman-sol jupman-sol-toggler\" \n",
    " onclick=\"jupman.toggleSolution(this);\" \n",
    " data-jupman-show=\"Mostra soluzione\" data-jupman-hide=\"Nascondi\">Mostra soluzione</a><div class=\"jupman-sol jupman-sol-code\" style=\"display:none\">  "
   ]
  },
  {
   "cell_type": "code",
   "execution_count": 79,
   "metadata": {},
   "outputs": [
    {
     "name": "stdout",
     "output_type": "stream",
     "text": [
      "stessa cosa\n"
     ]
    }
   ],
   "source": [
    "import math \n",
    "\n",
    "# output atteso: stessa cosa\n",
    "x = math.nan\n",
    "y = math.nan\n",
    "\n",
    "# output atteso: non sono la stessa cosa\n",
    "#x = 3\n",
    "#y = math.nan\n",
    "\n",
    "# output atteso: non sono la stessa cosa\n",
    "#x = math.nan\n",
    "#y = 5\n",
    "\n",
    "# output atteso: non sono la stessa cosa\n",
    "#x = 2\n",
    "#y = 7\n",
    "\n",
    "# output atteso: stessa cosa\n",
    "#x = 4\n",
    "#y = 4\n",
    "\n",
    "# scrivi qui\n",
    "if math.isnan(x) and math.isnan(y):\n",
    "    print('stessa cosa')\n",
    "elif x == y:\n",
    "    print('stessa cosa')\n",
    "else:\n",
    "    print('non sono la stessa cosa')"
   ]
  },
  {
   "cell_type": "raw",
   "id": "8eab2230",
   "metadata": {
    "format": "text/html"
   },
   "source": [
    "</div>"
   ]
  },
  {
   "cell_type": "code",
   "execution_count": 79,
   "metadata": {},
   "outputs": [
    {
     "name": "stdout",
     "output_type": "stream",
     "text": [
      "stessa cosa\n"
     ]
    }
   ],
   "source": [
    "import math \n",
    "\n",
    "# output atteso: stessa cosa\n",
    "x = math.nan\n",
    "y = math.nan\n",
    "\n",
    "# output atteso: non sono la stessa cosa\n",
    "#x = 3\n",
    "#y = math.nan\n",
    "\n",
    "# output atteso: non sono la stessa cosa\n",
    "#x = math.nan\n",
    "#y = 5\n",
    "\n",
    "# output atteso: non sono la stessa cosa\n",
    "#x = 2\n",
    "#y = 7\n",
    "\n",
    "# output atteso: stessa cosa\n",
    "#x = 4\n",
    "#y = 4\n",
    "\n",
    "# scrivi qui\n",
    "\n"
   ]
  },
  {
   "cell_type": "markdown",
   "metadata": {},
   "source": [
    "### Operazioni sui NaN\n",
    "\n",
    "Qualunque operazione sui NaN genera un altro NaN:"
   ]
  },
  {
   "cell_type": "code",
   "execution_count": 80,
   "metadata": {},
   "outputs": [
    {
     "data": {
      "text/plain": [
       "nan"
      ]
     },
     "execution_count": 80,
     "metadata": {},
     "output_type": "execute_result"
    }
   ],
   "source": [
    "5 * math.nan"
   ]
  },
  {
   "cell_type": "code",
   "execution_count": 81,
   "metadata": {},
   "outputs": [
    {
     "data": {
      "text/plain": [
       "nan"
      ]
     },
     "execution_count": 81,
     "metadata": {},
     "output_type": "execute_result"
    }
   ],
   "source": [
    "math.nan + math.nan"
   ]
  },
  {
   "cell_type": "code",
   "execution_count": 82,
   "metadata": {},
   "outputs": [
    {
     "data": {
      "text/plain": [
       "nan"
      ]
     },
     "execution_count": 82,
     "metadata": {},
     "output_type": "execute_result"
    }
   ],
   "source": [
    "math.nan / math.nan"
   ]
  },
  {
   "cell_type": "markdown",
   "metadata": {},
   "source": [
    "\n",
    "L'unica cosa che non puoi fare è dividere per zero un NaN 'fuori scatola':"
   ]
  },
  {
   "cell_type": "markdown",
   "metadata": {},
   "source": [
    "```python\n",
    "math.nan / 0\n",
    "```\n",
    "\n",
    "```python\n",
    "---------------------------------------------------------------------------\n",
    "ZeroDivisionError                         Traceback (most recent call last)\n",
    "<ipython-input-94-1da38377fac4> in <module>\n",
    "----> 1 math.nan / 0\n",
    "\n",
    "ZeroDivisionError: float division by zero\n",
    "```"
   ]
  },
  {
   "cell_type": "markdown",
   "metadata": {},
   "source": [
    "NaN corrisponde al valore logico booleano `True`:"
   ]
  },
  {
   "cell_type": "code",
   "execution_count": 83,
   "metadata": {},
   "outputs": [
    {
     "name": "stdout",
     "output_type": "stream",
     "text": [
      "That's True\n"
     ]
    }
   ],
   "source": [
    "if math.nan: \n",
    "    print(\"That's True\")"
   ]
  },
  {
   "cell_type": "markdown",
   "metadata": {},
   "source": [
    "### I NaN e Numpy\n",
    "\n",
    "Quando usi Numpy è abbastanza probabile incontrare NaN, al punto che sono ridefiniti dentro Numpy - ma di fatto sono esattamente gli stessi che nel modulo `math`:"
   ]
  },
  {
   "cell_type": "code",
   "execution_count": 84,
   "metadata": {},
   "outputs": [
    {
     "data": {
      "text/plain": [
       "nan"
      ]
     },
     "execution_count": 84,
     "metadata": {},
     "output_type": "execute_result"
    }
   ],
   "source": [
    "np.nan"
   ]
  },
  {
   "cell_type": "code",
   "execution_count": 85,
   "metadata": {},
   "outputs": [
    {
     "data": {
      "text/plain": [
       "True"
      ]
     },
     "execution_count": 85,
     "metadata": {},
     "output_type": "execute_result"
    }
   ],
   "source": [
    "math.isnan(np.nan)"
   ]
  },
  {
   "cell_type": "code",
   "execution_count": 86,
   "metadata": {},
   "outputs": [
    {
     "data": {
      "text/plain": [
       "True"
      ]
     },
     "execution_count": 86,
     "metadata": {},
     "output_type": "execute_result"
    }
   ],
   "source": [
    "np.isnan(math.nan)"
   ]
  },
  {
   "cell_type": "markdown",
   "metadata": {},
   "source": [
    "In Numpy quando hai numeri sconosciuti potresti essere tentato di mettere un `None`. Puoi anche farlo, ma guarda attentamente il risultato:"
   ]
  },
  {
   "cell_type": "code",
   "execution_count": 87,
   "metadata": {},
   "outputs": [
    {
     "data": {
      "text/plain": [
       "array([4.9, None, 3.2, 5.1], dtype=object)"
      ]
     },
     "execution_count": 87,
     "metadata": {},
     "output_type": "execute_result"
    }
   ],
   "source": [
    "import numpy as np\n",
    "np.array([4.9,None,3.2,5.1])"
   ]
  },
  {
   "cell_type": "markdown",
   "metadata": {},
   "source": [
    "L'array risultante _non_ è un array di float64 che permette calcoli veloci, invece è un array che contiene generici _object_ , perchè Numpy assume che l'array contenga dati eterogenei. Perciò quello che guadagni in generalità lo perdi in performance, che dovrebbe essere il motivo principale di usare Numpy.\n",
    "\n",
    "Per quanto appaiano strani, i NaN sono considerati come dei `float`  e quindi possono essere salvati nell'array:"
   ]
  },
  {
   "cell_type": "code",
   "execution_count": 88,
   "metadata": {},
   "outputs": [
    {
     "data": {
      "text/plain": [
       "array([4.9, nan, 3.2, 5.1])"
      ]
     },
     "execution_count": 88,
     "metadata": {},
     "output_type": "execute_result"
    }
   ],
   "source": [
    "np.array([4.9,np.nan,3.2,5.1])   # NOTA: il `dtype=object` è sparito"
   ]
  },
  {
   "cell_type": "markdown",
   "metadata": {},
   "source": [
    "\n",
    "### Dove sono i NaN ?\n",
    "\n",
    "Vediamo dove possiamo incontrare dei NaN e altri oggetti strani come le infinità."
   ]
  },
  {
   "cell_type": "markdown",
   "metadata": {},
   "source": [
    "Prima, controlliamo cosa succede quando chiamiamo la funzione `log` del modulo standard `math`. Dalle lezioni di matematica, sappiamo che la funzione `log` si comporta così:\n",
    "\n",
    "* $x < 0$: non definita\n",
    "* $x = 0$: tende a meno infinito\n",
    "* $x > 0$: definita\n",
    "\n",
    "![log function u9u9u9](img/log.png)\n",
    "\n",
    "Perciò possiamo chiederci cosa succede se gli passiamo un valore per il quale non è definita. Proviamo prima con `math.log` della libreria standard di Python:"
   ]
  },
  {
   "cell_type": "markdown",
   "metadata": {},
   "source": [
    "```python\n",
    ">>> math.log(-1)\n",
    "```\n",
    "```python\n",
    "ValueError                                Traceback (most recent call last)\n",
    "<ipython-input-38-d6e02ba32da6> in <module>\n",
    "----> 1 math.log(-1)\n",
    "\n",
    "ValueError: math domain error\n",
    "```"
   ]
  },
  {
   "cell_type": "markdown",
   "metadata": {},
   "source": [
    "In questo caso viene sollevato `ValueError` **e l'esecuzione viene interrotta**.\n",
    "\n",
    "Vediamo ora l'equivalente in Numpy:"
   ]
  },
  {
   "cell_type": "code",
   "execution_count": 89,
   "metadata": {},
   "outputs": [
    {
     "name": "stderr",
     "output_type": "stream",
     "text": [
      "/home/da/.local/lib/python3.7/site-packages/ipykernel_launcher.py:1: RuntimeWarning: invalid value encountered in log\n",
      "  \"\"\"Entry point for launching an IPython kernel.\n"
     ]
    },
    {
     "data": {
      "text/plain": [
       "nan"
      ]
     },
     "execution_count": 89,
     "metadata": {},
     "output_type": "execute_result"
    }
   ],
   "source": [
    "np.log(-1)"
   ]
  },
  {
   "cell_type": "markdown",
   "metadata": {},
   "source": [
    "In questo caso **abbiamo ottenuto come risultato** `np.nan`, quindi l'esecuzione non si è interrotta, Jupyter ci ha solo informato con una stampa addizionale che abbiamo compiuto qualcosa di pericoloso. \n",
    "\n",
    "Quando incontra calcoli pericolosi, Numpy di default effettua in ogni caso il calcolo e salva il risultato come NaN o altri oggetti limite. Questo vale anche per i calcoli sugli array:"
   ]
  },
  {
   "cell_type": "code",
   "execution_count": 90,
   "metadata": {
    "scrolled": false
   },
   "outputs": [
    {
     "name": "stderr",
     "output_type": "stream",
     "text": [
      "/home/da/.local/lib/python3.7/site-packages/ipykernel_launcher.py:1: RuntimeWarning: invalid value encountered in log\n",
      "  \"\"\"Entry point for launching an IPython kernel.\n"
     ]
    },
    {
     "data": {
      "text/plain": [
       "array([1.09861229, 1.94591015,        nan, 2.19722458])"
      ]
     },
     "execution_count": 90,
     "metadata": {},
     "output_type": "execute_result"
    }
   ],
   "source": [
    "np.log(np.array([3,7,-1,9]))"
   ]
  },
  {
   "cell_type": "markdown",
   "metadata": {},
   "source": [
    "### Infinità\n",
    "\n",
    "Come abbiamo detto in precedenza, Numpy usa lo standard IEEE per l'aritmetica binaria in virgola mobile (IEEE 754). Dato che qualcuno all'IEEE ha deciso di racchiudere i misteri dell'infinito nei numeri float, abbiamo ancora un'altro cittadino da considerare quando facciamo calcoli (per altre informazioni, vedere [Numpy documentation on constants](https://numpy.org/devdocs/reference/constants.html)):"
   ]
  },
  {
   "cell_type": "markdown",
   "metadata": {},
   "source": [
    "### Infinità positiva `np.inf`"
   ]
  },
  {
   "cell_type": "code",
   "execution_count": 91,
   "metadata": {},
   "outputs": [
    {
     "name": "stderr",
     "output_type": "stream",
     "text": [
      "/home/da/.local/lib/python3.7/site-packages/ipykernel_launcher.py:1: RuntimeWarning: divide by zero encountered in true_divide\n",
      "  \"\"\"Entry point for launching an IPython kernel.\n"
     ]
    },
    {
     "data": {
      "text/plain": [
       "array([inf])"
      ]
     },
     "execution_count": 91,
     "metadata": {},
     "output_type": "execute_result"
    }
   ],
   "source": [
    " np.array( [ 5 ] ) / 0"
   ]
  },
  {
   "cell_type": "code",
   "execution_count": 92,
   "metadata": {},
   "outputs": [
    {
     "name": "stderr",
     "output_type": "stream",
     "text": [
      "/home/da/.local/lib/python3.7/site-packages/ipykernel_launcher.py:1: RuntimeWarning: divide by zero encountered in true_divide\n",
      "  \"\"\"Entry point for launching an IPython kernel.\n"
     ]
    },
    {
     "data": {
      "text/plain": [
       "array([3.  ,  inf,  inf, 1.75])"
      ]
     },
     "execution_count": 92,
     "metadata": {},
     "output_type": "execute_result"
    }
   ],
   "source": [
    "np.array( [ 6,9,5,7 ] ) / np.array( [ 2,0,0,4 ] )"
   ]
  },
  {
   "cell_type": "markdown",
   "metadata": {},
   "source": [
    "Attenzione che: \n",
    "\n",
    "- Not a Number **non** è equivalente  all'infinità\n",
    "- l'infinità positiva **non** è equivalente all'infinità negativa\n",
    "- l'infinità è equivalente all'infinità positiva"
   ]
  },
  {
   "cell_type": "markdown",
   "metadata": {},
   "source": [
    "Per fortuna, l'infinità è equivalente all'infinità:"
   ]
  },
  {
   "cell_type": "code",
   "execution_count": 93,
   "metadata": {},
   "outputs": [
    {
     "data": {
      "text/plain": [
       "True"
      ]
     },
     "execution_count": 93,
     "metadata": {},
     "output_type": "execute_result"
    }
   ],
   "source": [
    "np.inf == np.inf"
   ]
  },
  {
   "cell_type": "markdown",
   "metadata": {},
   "source": [
    "perciò possiamo in sicurezza equiparare due infinità con `==`:"
   ]
  },
  {
   "cell_type": "code",
   "execution_count": 94,
   "metadata": {},
   "outputs": [
    {
     "name": "stdout",
     "output_type": "stream",
     "text": [
      "x è infinito\n"
     ]
    }
   ],
   "source": [
    "x = np.inf\n",
    " \n",
    "if x == np.inf:\n",
    "    print(\"x è infinito\")\n",
    "else:\n",
    "    print(\"x è finito\")"
   ]
  },
  {
   "cell_type": "markdown",
   "metadata": {},
   "source": [
    "Alternativamente, possiamo usare la funzione `np.isinf`: "
   ]
  },
  {
   "cell_type": "code",
   "execution_count": 95,
   "metadata": {},
   "outputs": [
    {
     "data": {
      "text/plain": [
       "True"
      ]
     },
     "execution_count": 95,
     "metadata": {},
     "output_type": "execute_result"
    }
   ],
   "source": [
    "np.isinf(np.inf)"
   ]
  },
  {
   "cell_type": "markdown",
   "metadata": {},
   "source": [
    "### Infinità negativa\n",
    "\n",
    "Possiamo anche avere un'infinità negativa, che è differente dall'inifinità positiva:"
   ]
  },
  {
   "cell_type": "code",
   "execution_count": 96,
   "metadata": {},
   "outputs": [
    {
     "data": {
      "text/plain": [
       "False"
      ]
     },
     "execution_count": 96,
     "metadata": {},
     "output_type": "execute_result"
    }
   ],
   "source": [
    "-np.inf == np.inf"
   ]
  },
  {
   "cell_type": "markdown",
   "metadata": {},
   "source": [
    "Nota che `isinf` può rilevare sia infinità positive che negative:"
   ]
  },
  {
   "cell_type": "code",
   "execution_count": 97,
   "metadata": {},
   "outputs": [
    {
     "data": {
      "text/plain": [
       "True"
      ]
     },
     "execution_count": 97,
     "metadata": {},
     "output_type": "execute_result"
    }
   ],
   "source": [
    "np.isinf(-np.inf)"
   ]
  },
  {
   "cell_type": "markdown",
   "metadata": {},
   "source": [
    "Per rilevare specificamente un'infinità negativa dei usare `isneginf`:"
   ]
  },
  {
   "cell_type": "code",
   "execution_count": 98,
   "metadata": {},
   "outputs": [
    {
     "data": {
      "text/plain": [
       "True"
      ]
     },
     "execution_count": 98,
     "metadata": {},
     "output_type": "execute_result"
    }
   ],
   "source": [
    "np.isneginf(-np.inf)"
   ]
  },
  {
   "cell_type": "code",
   "execution_count": 99,
   "metadata": {},
   "outputs": [
    {
     "data": {
      "text/plain": [
       "False"
      ]
     },
     "execution_count": 99,
     "metadata": {},
     "output_type": "execute_result"
    }
   ],
   "source": [
    "np.isneginf(np.inf)"
   ]
  },
  {
   "cell_type": "markdown",
   "metadata": {},
   "source": [
    "Dove possiamo trovarle? Come esempio, proviamo la funzione `np.log`:"
   ]
  },
  {
   "cell_type": "code",
   "execution_count": 100,
   "metadata": {},
   "outputs": [
    {
     "name": "stderr",
     "output_type": "stream",
     "text": [
      "/home/da/.local/lib/python3.7/site-packages/ipykernel_launcher.py:1: RuntimeWarning: divide by zero encountered in log\n",
      "  \"\"\"Entry point for launching an IPython kernel.\n"
     ]
    },
    {
     "data": {
      "text/plain": [
       "-inf"
      ]
     },
     "execution_count": 100,
     "metadata": {},
     "output_type": "execute_result"
    }
   ],
   "source": [
    "np.log(0)"
   ]
  },
  {
   "cell_type": "markdown",
   "metadata": {},
   "source": [
    "### Combinare infinità e NaN\n",
    "\n",
    "Quando esegui operazioni che riguardano le infinità e i NaN, l'aritmetica IEEE prova a imitare l'analisi classica, a volte includendo NaN come risultato:"
   ]
  },
  {
   "cell_type": "code",
   "execution_count": 101,
   "metadata": {},
   "outputs": [
    {
     "data": {
      "text/plain": [
       "inf"
      ]
     },
     "execution_count": 101,
     "metadata": {},
     "output_type": "execute_result"
    }
   ],
   "source": [
    "np.inf + np.inf"
   ]
  },
  {
   "cell_type": "code",
   "execution_count": 102,
   "metadata": {},
   "outputs": [
    {
     "data": {
      "text/plain": [
       "-inf"
      ]
     },
     "execution_count": 102,
     "metadata": {},
     "output_type": "execute_result"
    }
   ],
   "source": [
    "- np.inf - np.inf"
   ]
  },
  {
   "cell_type": "code",
   "execution_count": 103,
   "metadata": {},
   "outputs": [
    {
     "data": {
      "text/plain": [
       "-inf"
      ]
     },
     "execution_count": 103,
     "metadata": {},
     "output_type": "execute_result"
    }
   ],
   "source": [
    "np.inf * -np.inf"
   ]
  },
  {
   "cell_type": "markdown",
   "metadata": {},
   "source": [
    "Un risultato che in analisi classica sarebbe non definito, qui diventa NaN:"
   ]
  },
  {
   "cell_type": "code",
   "execution_count": 104,
   "metadata": {},
   "outputs": [
    {
     "data": {
      "text/plain": [
       "nan"
      ]
     },
     "execution_count": 104,
     "metadata": {},
     "output_type": "execute_result"
    }
   ],
   "source": [
    "np.inf - np.inf"
   ]
  },
  {
   "cell_type": "code",
   "execution_count": 105,
   "metadata": {},
   "outputs": [
    {
     "data": {
      "text/plain": [
       "nan"
      ]
     },
     "execution_count": 105,
     "metadata": {},
     "output_type": "execute_result"
    }
   ],
   "source": [
    "np.inf / np.inf"
   ]
  },
  {
   "cell_type": "markdown",
   "metadata": {},
   "source": [
    "Come al solito, combinare con un NaN risulta in NaN: "
   ]
  },
  {
   "cell_type": "code",
   "execution_count": 106,
   "metadata": {},
   "outputs": [
    {
     "data": {
      "text/plain": [
       "nan"
      ]
     },
     "execution_count": 106,
     "metadata": {},
     "output_type": "execute_result"
    }
   ],
   "source": [
    "np.inf + np.nan"
   ]
  },
  {
   "cell_type": "code",
   "execution_count": 107,
   "metadata": {},
   "outputs": [
    {
     "data": {
      "text/plain": [
       "nan"
      ]
     },
     "execution_count": 107,
     "metadata": {},
     "output_type": "execute_result"
    }
   ],
   "source": [
    "np.inf / np.nan"
   ]
  },
  {
   "cell_type": "markdown",
   "metadata": {},
   "source": [
    "### Zero negativo\n",
    "\n",
    "Puoi persino avere uno zero _negativo_ - chi l'avrebbe pensato?"
   ]
  },
  {
   "cell_type": "code",
   "execution_count": 108,
   "metadata": {},
   "outputs": [
    {
     "data": {
      "text/plain": [
       "-0.0"
      ]
     },
     "execution_count": 108,
     "metadata": {},
     "output_type": "execute_result"
    }
   ],
   "source": [
    "np.NZERO"
   ]
  },
  {
   "cell_type": "markdown",
   "metadata": {},
   "source": [
    "Lo zero negativo naturalmente fa coppia con il più conosciuto e apprezzato zero _positivo_:"
   ]
  },
  {
   "cell_type": "code",
   "execution_count": 109,
   "metadata": {},
   "outputs": [
    {
     "data": {
      "text/plain": [
       "0.0"
      ]
     },
     "execution_count": 109,
     "metadata": {},
     "output_type": "execute_result"
    }
   ],
   "source": [
    "np.PZERO"
   ]
  },
  {
   "cell_type": "markdown",
   "metadata": {},
   "source": [
    "**NOTA**: Scrivere `np.NZERO` o `-0.0` è  _esattamente_ la stessa cosa. Lo stesso vale per lo zero positivo."
   ]
  },
  {
   "cell_type": "markdown",
   "metadata": {},
   "source": [
    "A questo punto, potresti cominciare a chiederti con qualche se sono davvero considerati _uguali_. Verifichiamo:"
   ]
  },
  {
   "cell_type": "code",
   "execution_count": 110,
   "metadata": {},
   "outputs": [
    {
     "data": {
      "text/plain": [
       "True"
      ]
     },
     "execution_count": 110,
     "metadata": {},
     "output_type": "execute_result"
    }
   ],
   "source": [
    "0.0 == -0.0"
   ]
  },
  {
   "cell_type": "markdown",
   "metadata": {},
   "source": [
    "Grandioso! Finalmente qualcosa che ha senso.\n",
    "\n",
    "Dato quanto sopra, potresti pensare che in una formula puoi sostituire one per l'altro e ottenere gli stessi risultati, in armonia con le regole dell'universo.\n",
    "\n",
    "Facciamo un tentativo di sostituzione, come esempio prima cercheremo di dividere un numero per uno zero positivo (persino se gli insegnanti di matematica ci dicono che tali divisioni siano vietate) - cosa potremmo mai ottenere?\n",
    "\n",
    "$\\large \\frac{5.0}{0.0}= ???$\n",
    "\n",
    "In termini di Numpy, potremmo scrivere così per 'inscatolare' tutto in arrays:"
   ]
  },
  {
   "cell_type": "code",
   "execution_count": 111,
   "metadata": {},
   "outputs": [
    {
     "name": "stderr",
     "output_type": "stream",
     "text": [
      "/home/da/.local/lib/python3.7/site-packages/ipykernel_launcher.py:1: RuntimeWarning: divide by zero encountered in true_divide\n",
      "  \"\"\"Entry point for launching an IPython kernel.\n"
     ]
    },
    {
     "data": {
      "text/plain": [
       "array([inf])"
      ]
     },
     "execution_count": 111,
     "metadata": {},
     "output_type": "execute_result"
    }
   ],
   "source": [
    "np.array( [ 5.0 ] ) / np.array( [ 0.0 ] )"
   ]
  },
  {
   "cell_type": "markdown",
   "metadata": {},
   "source": [
    "Mmm, abbiamo ottenuto un array con dentro `np.inf`.\n",
    "\n",
    "Se `0.0` e `-0.0` sono davvero la stessa cosa, dividendo un numero per `-0.0` dovremmo ottenere lo stesso identico risultato, no?\n",
    "\n",
    "Proviamo:"
   ]
  },
  {
   "cell_type": "code",
   "execution_count": 112,
   "metadata": {},
   "outputs": [
    {
     "name": "stderr",
     "output_type": "stream",
     "text": [
      "/home/da/.local/lib/python3.7/site-packages/ipykernel_launcher.py:1: RuntimeWarning: divide by zero encountered in true_divide\n",
      "  \"\"\"Entry point for launching an IPython kernel.\n"
     ]
    },
    {
     "data": {
      "text/plain": [
       "array([-inf])"
      ]
     },
     "execution_count": 112,
     "metadata": {},
     "output_type": "execute_result"
    }
   ],
   "source": [
    "np.array( [ 5.0 ] ) / np.array( [ -0.0 ] )"
   ]
  },
  {
   "cell_type": "markdown",
   "metadata": {},
   "source": [
    "Ecchecaspita. Questa volta ci ritroviamo con una infinità _negativa_ `-np.inf`\n",
    "\n",
    "Se tutto ciò ti pare strano, non dare la colpa a Numpy o Python. Questo è il modo con cui praticamente ogni processore ( _CPU_ )  compie operazioni in virgola mobile, perciò lo troverai in quasi TUTTI i linguaggi di programmazione.\n",
    "\n",
    "Quello che i linguaggi di programmazione possono fare è aggiungere ulteriori controlli per proteggerti da queste situazioni paradossali, come per esempio lanciare `ZeroDivisionError` quando scrivi direttamente `1.0/0.0` (bloccando quindi l'esecuzione) o stampare un warning nel caso di operazioni su array Numpy."
   ]
  },
  {
   "cell_type": "markdown",
   "metadata": {},
   "source": [
    "### Esercizio: rilevare numeri propri\n",
    "\n",
    "Scrivi del codice che STAMPA `numeri uguali` se due numeri `x` e `y` sono uguali e veri numeri, e STAMPA `non uguali` altrimenti.\n",
    "\n",
    "**NOTA**: `numeri non uguali` va stampato se uno qualunque dei numeri è infinito o NaN.\n",
    "\n",
    "Per risolverlo, sentiti libero di chiamare funzioni indicate [nella documentazione di Numpy riguardo le costanti](https://docs.scipy.org/doc/numpy/reference/constants.html)"
   ]
  },
  {
   "cell_type": "raw",
   "id": "d417625b",
   "metadata": {
    "format": "text/html"
   },
   "source": [
    "<a  class=\"jupman-sol jupman-sol-toggler\" \n",
    " onclick=\"jupman.toggleSolution(this);\" \n",
    " data-jupman-show=\"Mostra soluzione\" data-jupman-hide=\"Nascondi\">Mostra soluzione</a><div class=\"jupman-sol jupman-sol-code\" style=\"display:none\">  "
   ]
  },
  {
   "cell_type": "code",
   "execution_count": 113,
   "metadata": {},
   "outputs": [
    {
     "name": "stdout",
     "output_type": "stream",
     "text": [
      "numeri uguali\n",
      "numeri uguali\n"
     ]
    }
   ],
   "source": [
    "import numpy as np\n",
    "\n",
    "# atteso: numeri uguali\n",
    "x = 5\n",
    "y = 5\n",
    "\n",
    "# atteso: numeri non uguali\n",
    "#x = np.inf\n",
    "#y = 3\n",
    "\n",
    "# atteso: numeri non uguali\n",
    "#x = 3\n",
    "#y = np.inf\n",
    "\n",
    "# atteso: numeri non uguali\n",
    "#x = np.inf\n",
    "#y = np.nan\n",
    "\n",
    "# atteso: numeri non uguali\n",
    "#x = np.nan\n",
    "#y = np.inf\n",
    "\n",
    "# atteso: numeri non uguali\n",
    "#x = np.nan\n",
    "#y = 7\n",
    "\n",
    "# atteso: numeri non uguali\n",
    "#x = 9\n",
    "#y = np.nan\n",
    "\n",
    "# atteso: numeri non uguali\n",
    "#x = np.nan\n",
    "#y = np.nan\n",
    "\n",
    "\n",
    "# scrivi qui\n",
    "\n",
    "# SOLUZIONE 1 - quella brutta\n",
    "if np.isinf(x) or np.isinf(y) or np.isnan(x) or np.isnan(y):\n",
    "    print('numeri non uguali')\n",
    "else:\n",
    "    print('numeri uguali')\n",
    "    \n",
    "# SOLUZIONE 2 - quella bella\n",
    "if np.isfinite(x) and np.isfinite(y):\n",
    "    print('numeri uguali')\n",
    "else:\n",
    "    print('numeri non uguali')"
   ]
  },
  {
   "cell_type": "raw",
   "id": "d3ab903d",
   "metadata": {
    "format": "text/html"
   },
   "source": [
    "</div>"
   ]
  },
  {
   "cell_type": "code",
   "execution_count": 113,
   "metadata": {},
   "outputs": [
    {
     "name": "stdout",
     "output_type": "stream",
     "text": [
      "numeri uguali\n",
      "numeri uguali\n"
     ]
    }
   ],
   "source": [
    "import numpy as np\n",
    "\n",
    "# atteso: numeri uguali\n",
    "x = 5\n",
    "y = 5\n",
    "\n",
    "# atteso: numeri non uguali\n",
    "#x = np.inf\n",
    "#y = 3\n",
    "\n",
    "# atteso: numeri non uguali\n",
    "#x = 3\n",
    "#y = np.inf\n",
    "\n",
    "# atteso: numeri non uguali\n",
    "#x = np.inf\n",
    "#y = np.nan\n",
    "\n",
    "# atteso: numeri non uguali\n",
    "#x = np.nan\n",
    "#y = np.inf\n",
    "\n",
    "# atteso: numeri non uguali\n",
    "#x = np.nan\n",
    "#y = 7\n",
    "\n",
    "# atteso: numeri non uguali\n",
    "#x = 9\n",
    "#y = np.nan\n",
    "\n",
    "# atteso: numeri non uguali\n",
    "#x = np.nan\n",
    "#y = np.nan\n",
    "\n",
    "\n",
    "# scrivi qui\n",
    "\n"
   ]
  },
  {
   "cell_type": "markdown",
   "metadata": {},
   "source": [
    "### Domande - NaN\n",
    "\n",
    "Per ciascuna delle espressioni seguenti, prova ad indovinare il risultato\n",
    "\n",
    "<div class=\"alert alert-warning\">\n",
    "\n",
    "**ATTENZIONE: ciò che segue può causare nausea e gravi convulsioni**\n",
    "    \n",
    "Durante test clinici, sia pazienti con inclinazioni matematiche che soggetti con repulsione per le scienze esatte hanno lamentato malessere per ragioni differenti che sono ancora oggetto di ricerca.\n",
    "    \n",
    "</div>\n"
   ]
  },
  {
   "cell_type": "markdown",
   "metadata": {},
   "source": [
    "```python\n",
    "a.  0.0 * -0.0\n",
    "b.  (-0.0)**3\n",
    "c.  np.log(-7) == math.log(-7)\n",
    "d.  np.log(-7) == np.log(-7)\n",
    "e.  np.isnan( 1 / np.log(1) )\n",
    "f.  np.sqrt(-1) * np.sqrt(-1)   # sqrt = square root\n",
    "g.  3 ** np.inf\n",
    "h   3 ** -np.inf\n",
    "i.  1/np.sqrt(-3)\n",
    "j.  1/np.sqrt(-0.0)\n",
    "m.  np.sqrt(np.inf) - np.sqrt(-np.inf)\n",
    "n.  np.sqrt(np.inf) + ( 1 / np.sqrt(-0.0) )\n",
    "o.  np.isneginf(np.log(np.e) / np.sqrt(-0.0))  \n",
    "p.  np.isinf(np.log(np.e) / np.sqrt(-0.0))\n",
    "q.  [np.nan, np.inf] == [np.nan, np.inf]\n",
    "r.  [np.nan, -np.inf] == [np.nan, np.inf]\n",
    "s.  [np.nan, np.inf] == [-np.nan, np.inf]\n",
    "```"
   ]
  },
  {
   "cell_type": "markdown",
   "metadata": {},
   "source": [
    "## Verifica comprensione\n",
    "\n",
    "<div class=\"alert alert-warning\">\n",
    "\n",
    "**ATTENZIONE**\n",
    "\n",
    "Gli esercizi che seguono contengono dei test con gli _assert_. Per capire come svolgerli, leggi prima [Gestione errori e testing](https://it.softpython.org/errors-and-testing/errors-and-testing-sol.html) \n",
    "\n",
    "</div>\n",
    "\n",
    "\n",
    "Prova adesso a implementare queste funzioni"
   ]
  },
  {
   "cell_type": "markdown",
   "metadata": {},
   "source": [
    "### Esercizio - quadrofor\n",
    "\n",
    "✪✪✪ Restituisce una NUOVA matrice numpy di n righe e n colonne, in cui tutti  i valori sono a zero eccetto quelli sui bordi, che devono essere uguali a k\n",
    "       \n",
    "\n",
    "Per esempio, `quadro(4, 7.0)` deve dare:\n",
    "\n",
    "```python\n",
    "    array([[7.0, 7.0, 7.0, 7.0],\n",
    "           [7.0, 0.0, 0.0, 7.0],\n",
    "           [7.0, 0.0, 0.0, 7.0],\n",
    "           [7.0, 7.0, 7.0, 7.0]])\n",
    "```\n",
    "\n",
    "Ingredienti:\n",
    "\n",
    "- crea una matrice pieni di zeri. ATTENZIONE: quali dimensioni ha? Bisogna usare `n` o `k` ? \n",
    " Leggi BENE il testo\n",
    "\n",
    "Per questa prima versione, prova a riempire le righe e colonne, usando opportuni `for in range` e scrivendo direttamente nelle singole celle"
   ]
  },
  {
   "cell_type": "raw",
   "id": "afebf760",
   "metadata": {
    "format": "text/html"
   },
   "source": [
    "<a  class=\"jupman-sol jupman-sol-toggler\" \n",
    " onclick=\"jupman.toggleSolution(this);\" \n",
    " data-jupman-show=\"Mostra soluzione\" data-jupman-hide=\"Nascondi\">Mostra soluzione</a><div class=\"jupman-sol jupman-sol-code\" style=\"display:none\">  "
   ]
  },
  {
   "cell_type": "code",
   "execution_count": 114,
   "metadata": {},
   "outputs": [],
   "source": [
    "\n",
    "def quadrofor(n, k):\n",
    "    \n",
    "    mat = np.zeros( (n,n)  )\n",
    "    for i in range(n):\n",
    "        mat[0, i] = k\n",
    "        mat[i, 0] = k\n",
    "        mat[i, n-1] = k\n",
    "        mat[n-1, i] = k\n",
    "    return mat\n",
    "    \n",
    "\n",
    "r1 = np.array( [[7.0, 7.0, 7.0, 7.0],\n",
    "                [7.0, 0.0, 0.0, 7.0],\n",
    "                [7.0, 0.0, 0.0, 7.0],\n",
    "                [7.0, 7.0, 7.0, 7.0]])\n",
    "\n",
    "# all_close ritorna True se tutti i valori nella prima matrice sono abbastanza vicini \n",
    "# (cioè entro una certa tolleranza) ai corrispondenti nella seconda \n",
    "assert np.allclose(quadrofor(4, 7.0), r1) \n",
    "\n",
    "r2 = np.array( [ [7.0] ])\n",
    "assert np.allclose(quadrofor(1, 7.0), r2) \n",
    "\n",
    "r3 = np.array( [ [7.0, 7.0],\n",
    "                 [7.0, 7.0]])\n",
    "assert np.allclose(quadrofor(2, 7.0), r3) "
   ]
  },
  {
   "cell_type": "raw",
   "id": "247c16b6",
   "metadata": {
    "format": "text/html"
   },
   "source": [
    "</div>"
   ]
  },
  {
   "cell_type": "code",
   "execution_count": 114,
   "metadata": {},
   "outputs": [],
   "source": [
    "\n",
    "def quadrofor(n, k):\n",
    "    raise Exception('TODO IMPLEMENT ME !')\n",
    "\n",
    "r1 = np.array( [[7.0, 7.0, 7.0, 7.0],\n",
    "                [7.0, 0.0, 0.0, 7.0],\n",
    "                [7.0, 0.0, 0.0, 7.0],\n",
    "                [7.0, 7.0, 7.0, 7.0]])\n",
    "\n",
    "# all_close ritorna True se tutti i valori nella prima matrice sono abbastanza vicini \n",
    "# (cioè entro una certa tolleranza) ai corrispondenti nella seconda \n",
    "assert np.allclose(quadrofor(4, 7.0), r1) \n",
    "\n",
    "r2 = np.array( [ [7.0] ])\n",
    "assert np.allclose(quadrofor(1, 7.0), r2) \n",
    "\n",
    "r3 = np.array( [ [7.0, 7.0],\n",
    "                 [7.0, 7.0]])\n",
    "assert np.allclose(quadrofor(2, 7.0), r3) "
   ]
  },
  {
   "cell_type": "markdown",
   "metadata": {},
   "source": [
    "### Esercizio - quadroslices\n",
    "\n",
    "✪✪✪ Risolvi l'esercizio precedente, questa volta **usando 4 slice**\n",
    "\n",
    "* **NON** usare cicli `for` o `while`"
   ]
  },
  {
   "cell_type": "raw",
   "id": "8b7b833a",
   "metadata": {
    "format": "text/html"
   },
   "source": [
    "<a  class=\"jupman-sol jupman-sol-toggler\" \n",
    " onclick=\"jupman.toggleSolution(this);\" \n",
    " data-jupman-show=\"Mostra soluzione\" data-jupman-hide=\"Nascondi\">Mostra soluzione</a><div class=\"jupman-sol jupman-sol-code\" style=\"display:none\">  "
   ]
  },
  {
   "cell_type": "code",
   "execution_count": 115,
   "metadata": {},
   "outputs": [],
   "source": [
    "\n",
    "def quadroslices(n, k):\n",
    "    \n",
    "    mat = np.zeros( (n,n)  )\n",
    "    \n",
    "    mat[0, :] = k\n",
    "    mat[:, 0] = k\n",
    "    mat[:, n-1] = k\n",
    "    mat[n-1, :] = k\n",
    "    \n",
    "    return mat\n",
    "    \n",
    "\n",
    "    \n",
    "r1 = np.array( [[7.0, 7.0, 7.0, 7.0],\n",
    "                [7.0, 0.0, 0.0, 7.0],\n",
    "                [7.0, 0.0, 0.0, 7.0],\n",
    "                [7.0, 7.0, 7., 7.0]])\n",
    "\n",
    "# all_close ritorna True se tutti i valori nella prima matrice sono abbastanza vicini \n",
    "# (cioè entro una certa tolleranza) ai corrispondenti nella seconda \n",
    "assert np.allclose(quadroslices(4, 7.0), r1) \n",
    "\n",
    "r2 = np.array( [ [7.0] ])\n",
    "assert np.allclose(quadroslices(1, 7.0), r2) \n",
    "\n",
    "r3 = np.array( [ [7.0, 7.0],\n",
    "                 [7.0, 7.0]])\n",
    "assert np.allclose(quadroslices(2, 7.0), r3) "
   ]
  },
  {
   "cell_type": "raw",
   "id": "d87bda10",
   "metadata": {
    "format": "text/html"
   },
   "source": [
    "</div>"
   ]
  },
  {
   "cell_type": "code",
   "execution_count": 115,
   "metadata": {},
   "outputs": [],
   "source": [
    "\n",
    "def quadroslices(n, k):\n",
    "    raise Exception('TODO IMPLEMENT ME !')\n",
    "\n",
    "    \n",
    "r1 = np.array( [[7.0, 7.0, 7.0, 7.0],\n",
    "                [7.0, 0.0, 0.0, 7.0],\n",
    "                [7.0, 0.0, 0.0, 7.0],\n",
    "                [7.0, 7.0, 7., 7.0]])\n",
    "\n",
    "# all_close ritorna True se tutti i valori nella prima matrice sono abbastanza vicini \n",
    "# (cioè entro una certa tolleranza) ai corrispondenti nella seconda \n",
    "assert np.allclose(quadroslices(4, 7.0), r1) \n",
    "\n",
    "r2 = np.array( [ [7.0] ])\n",
    "assert np.allclose(quadroslices(1, 7.0), r2) \n",
    "\n",
    "r3 = np.array( [ [7.0, 7.0],\n",
    "                 [7.0, 7.0]])\n",
    "assert np.allclose(quadroslices(2, 7.0), r3) "
   ]
  },
  {
   "cell_type": "markdown",
   "metadata": {},
   "source": [
    "### Esercizio - quadroriemp\n",
    "\n",
    "✪✪✪ Risolvi l'esercizio precedente, questa volta usando una `full` e **una sola slice**\n",
    "\n",
    "* **NON** usare cicli for o while"
   ]
  },
  {
   "cell_type": "raw",
   "id": "08a0e1f1",
   "metadata": {
    "format": "text/html"
   },
   "source": [
    "<a  class=\"jupman-sol jupman-sol-toggler\" \n",
    " onclick=\"jupman.toggleSolution(this);\" \n",
    " data-jupman-show=\"Mostra soluzione\" data-jupman-hide=\"Nascondi\">Mostra soluzione</a><div class=\"jupman-sol jupman-sol-code\" style=\"display:none\">  "
   ]
  },
  {
   "cell_type": "code",
   "execution_count": 116,
   "metadata": {},
   "outputs": [],
   "source": [
    "\n",
    "def quadroriemp(n, k):\n",
    "    \n",
    "    mat = np.full( (n,n), k)\n",
    "    \n",
    "    mat[1:n-1, 1:n-1] = 0.0\n",
    "    \n",
    "    return mat\n",
    "    \n",
    "\n",
    "    \n",
    "r1 = np.array( [[7.0, 7.0, 7.0, 7.0],\n",
    "                [7.0, 0.0, 0.0, 7.0],\n",
    "                [7.0, 0.0, 0.0, 7.0],\n",
    "                [7.0, 7.0, 7., 7.0]])\n",
    "\n",
    "# all_close ritorna True se tutti i valori nella prima matrice sono abbastanza vicini \n",
    "# (cioè entro una certa tolleranza) ai corrispondenti nella seconda \n",
    "assert np.allclose(quadroriemp(4, 7.0), r1) \n",
    "\n",
    "r2 = np.array( [ [7.0] ])\n",
    "assert np.allclose(quadroriemp(1, 7.0), r2) \n",
    "\n",
    "r3 = np.array( [ [7.0, 7.0],\n",
    "                 [7.0, 7.0]])\n",
    "assert np.allclose(quadroriemp(2, 7.0), r3) "
   ]
  },
  {
   "cell_type": "raw",
   "id": "88992234",
   "metadata": {
    "format": "text/html"
   },
   "source": [
    "</div>"
   ]
  },
  {
   "cell_type": "code",
   "execution_count": 116,
   "metadata": {},
   "outputs": [],
   "source": [
    "\n",
    "def quadroriemp(n, k):\n",
    "    raise Exception('TODO IMPLEMENT ME !')\n",
    "\n",
    "    \n",
    "r1 = np.array( [[7.0, 7.0, 7.0, 7.0],\n",
    "                [7.0, 0.0, 0.0, 7.0],\n",
    "                [7.0, 0.0, 0.0, 7.0],\n",
    "                [7.0, 7.0, 7., 7.0]])\n",
    "\n",
    "# all_close ritorna True se tutti i valori nella prima matrice sono abbastanza vicini \n",
    "# (cioè entro una certa tolleranza) ai corrispondenti nella seconda \n",
    "assert np.allclose(quadroriemp(4, 7.0), r1) \n",
    "\n",
    "r2 = np.array( [ [7.0] ])\n",
    "assert np.allclose(quadroriemp(1, 7.0), r2) \n",
    "\n",
    "r3 = np.array( [ [7.0, 7.0],\n",
    "                 [7.0, 7.0]])\n",
    "assert np.allclose(quadroriemp(2, 7.0), r3) "
   ]
  },
  {
   "cell_type": "markdown",
   "metadata": {},
   "source": [
    "### Esercizio - media_righe\n",
    "\n",
    "✪✪✪ Prende una matrice numpy n x m  e RITORNA una NUOVA matrice numpy di una sola colonna in cui i valori sono la media dei valori nelle corrispondenti righe della matrice in input\n",
    "\n",
    "Esempio:\n",
    "\n",
    "Input: matrice 5x4\n",
    "\n",
    "```\n",
    "3 2 1 4\n",
    "6 2 3 5\n",
    "4 3 6 2\n",
    "4 6 5 4\n",
    "7 2 9 3\n",
    "```\n",
    "\n",
    "Output: matrice 5x1\n",
    "\n",
    "```\n",
    "(3+2+1+4)/4 \n",
    "(6+2+3+5)/4\n",
    "(4+3+6+2)/4\n",
    "(4+6+5+4)/4\n",
    "(7+2+9+3)/4\n",
    "```\n",
    "\n",
    "Ingredienti:\n",
    "\n",
    "- create una matrice n x 1 da ritornare, riempiendola di zeri\n",
    "- visitate tutte le celle della matrice originale con due  for in range  annidati\n",
    "- durante la visita, accumulate nella matrice da ritornare la somma degli elementi presi da ciascuna riga della matrice originale\n",
    "- una volta completata la somma di una riga, potete dividerla per la dimensione ncolonne della matrice originale\n",
    "- ritornate la matrice"
   ]
  },
  {
   "cell_type": "raw",
   "id": "cc9ae12f",
   "metadata": {
    "format": "text/html"
   },
   "source": [
    "<a  class=\"jupman-sol jupman-sol-toggler\" \n",
    " onclick=\"jupman.toggleSolution(this);\" \n",
    " data-jupman-show=\"Mostra soluzione\" data-jupman-hide=\"Nascondi\">Mostra soluzione</a><div class=\"jupman-sol jupman-sol-code\" style=\"display:none\">  "
   ]
  },
  {
   "cell_type": "code",
   "execution_count": 117,
   "metadata": {},
   "outputs": [],
   "source": [
    "def media_righe(mat):\n",
    "    \n",
    "    righe, colonne = mat.shape\n",
    "\n",
    "    ret = np.zeros( (righe,1)  )\n",
    "\n",
    "    for i in range(righe):\n",
    "\n",
    "        for j in range(colonne):\n",
    "            ret[i] += mat[i,j] \n",
    "\n",
    "        ret[i] = ret[i] / colonne\n",
    "        # per brevità potremmo anche scrivere\n",
    "        # ret[i] /= colonne      \n",
    "    \n",
    "    return ret\n",
    "  \n",
    "m1 = np.array([  [5.0]  ])\n",
    "r1 = np.array([  [5.0]  ])\n",
    "assert np.allclose(media_righe(m1), r1)\n",
    "\n",
    "m2 = np.array([ [5.0, 3.0] ])\n",
    "r2 = np.array([ [4.0]  ])\n",
    "assert np.allclose(media_righe(m2), r2)\n",
    "\n",
    "m3 = np.array(\n",
    "    [[3,2,1,4],\n",
    "     [6,2,3,5],\n",
    "     [4,3,6,2],\n",
    "     [4,6,5,4],\n",
    "     [7,2,9,3]])\n",
    "\n",
    "r3 = np.array([ [(3+2+1+4)/4],\n",
    "                [(6+2+3+5)/4],\n",
    "                [(4+3+6+2)/4],\n",
    "                [(4+6+5+4)/4],\n",
    "                [(7+2+9+3)/4] ])\n",
    "\n",
    "assert np.allclose(media_righe(m3), r3)"
   ]
  },
  {
   "cell_type": "raw",
   "id": "52061839",
   "metadata": {
    "format": "text/html"
   },
   "source": [
    "</div>"
   ]
  },
  {
   "cell_type": "code",
   "execution_count": 117,
   "metadata": {},
   "outputs": [],
   "source": [
    "def media_righe(mat):\n",
    "    raise Exception('TODO IMPLEMENT ME !')\n",
    "    return ret\n",
    "  \n",
    "m1 = np.array([  [5.0]  ])\n",
    "r1 = np.array([  [5.0]  ])\n",
    "assert np.allclose(media_righe(m1), r1)\n",
    "\n",
    "m2 = np.array([ [5.0, 3.0] ])\n",
    "r2 = np.array([ [4.0]  ])\n",
    "assert np.allclose(media_righe(m2), r2)\n",
    "\n",
    "m3 = np.array(\n",
    "    [[3,2,1,4],\n",
    "     [6,2,3,5],\n",
    "     [4,3,6,2],\n",
    "     [4,6,5,4],\n",
    "     [7,2,9,3]])\n",
    "\n",
    "r3 = np.array([ [(3+2+1+4)/4],\n",
    "                [(6+2+3+5)/4],\n",
    "                [(4+3+6+2)/4],\n",
    "                [(4+6+5+4)/4],\n",
    "                [(7+2+9+3)/4] ])\n",
    "\n",
    "assert np.allclose(media_righe(m3), r3)"
   ]
  },
  {
   "cell_type": "markdown",
   "metadata": {},
   "source": [
    "\n",
    "### Esercizio - matrot \n",
    "\n",
    "✪✪✪ RITORNA una NUOVA matrice numpy che ha i numeri della matrice numpy  di input ruotati di una colonna. \n",
    "\n",
    "Per ruotati intendiamo che:\n",
    "\n",
    "- se un numero nella matrice di input si trova alla colonna j, nella matrice  di output si troverà alla colonna j+1 nella stessa riga.\n",
    "- Se un numero si trova nell'ultima colonna, nella matrice di output si troverà nella colonna zeresima.\n",
    "\n",
    "Esempio:\n",
    "\n",
    "Se abbiamo come input \n",
    "\n",
    "```python\n",
    "np.array(   [\n",
    "                [0,1,0],\n",
    "                [1,1,0],\n",
    "                [0,0,0],\n",
    "                [0,1,1]\n",
    "            ])\n",
    "```\n",
    "\n",
    "Ci aspettiamo come output\n",
    "\n",
    "```python\n",
    "np.array(   [\n",
    "                [0,0,1],\n",
    "                [0,1,1],\n",
    "                [0,0,0],\n",
    "                [1,0,1]\n",
    "            ])\n",
    "```\n"
   ]
  },
  {
   "cell_type": "raw",
   "id": "e2ada0d5",
   "metadata": {
    "format": "text/html"
   },
   "source": [
    "<a  class=\"jupman-sol jupman-sol-toggler\" \n",
    " onclick=\"jupman.toggleSolution(this);\" \n",
    " data-jupman-show=\"Mostra soluzione\" data-jupman-hide=\"Nascondi\">Mostra soluzione</a><div class=\"jupman-sol jupman-sol-code\" style=\"display:none\">  "
   ]
  },
  {
   "cell_type": "code",
   "execution_count": 118,
   "metadata": {},
   "outputs": [],
   "source": [
    "import numpy as np\n",
    "\n",
    "def matrot(matrice):\n",
    "    \n",
    "    ret = np.zeros(matrice.shape)\n",
    "\n",
    "    for i in range(matrice.shape[0]):\n",
    "        ret[i,0] = matrice[i,-1]\n",
    "        for j in range(1, matrice.shape[1]):\n",
    "            ret[i,j] = matrice[i,j-1]\n",
    "    return ret\n",
    "    \n",
    "\n",
    "m1 = np.array(  [ [1] ])\n",
    "r1 = np.array( [  [1]  ])\n",
    "assert np.allclose(matrot(m1), r1)\n",
    "\n",
    "m2 = np.array(  [ [0,1] ])\n",
    "r2 = np.array( [ [1,0] ])\n",
    "assert np.allclose(matrot(m2), r2)\n",
    "\n",
    "m3 = np.array([ [0,1,0] ])\n",
    "r3 = np.array([ [0,0,1] ])\n",
    "assert np.allclose(matrot(m3), r3)\n",
    "\n",
    "m4 = np.array(  [[0,1,0],\n",
    "                 [1,1,0]])\n",
    "r4 = np.array(  [[0,0,1],\n",
    "                 [0,1,1]])\n",
    "assert np.allclose(matrot(m4), r4)\n",
    "\n",
    "\n",
    "m5 = np.array([ [0,1,0],\n",
    "                [1,1,0],\n",
    "                [0,0,0],\n",
    "                [0,1,1]])\n",
    "r5 = np.array([ [0,0,1],\n",
    "                [0,1,1],\n",
    "                [0,0,0],\n",
    "                [1,0,1]])\n",
    "assert np.allclose(matrot(m5), r5)"
   ]
  },
  {
   "cell_type": "raw",
   "id": "9b8a7e80",
   "metadata": {
    "format": "text/html"
   },
   "source": [
    "</div>"
   ]
  },
  {
   "cell_type": "code",
   "execution_count": 118,
   "metadata": {},
   "outputs": [],
   "source": [
    "import numpy as np\n",
    "\n",
    "def matrot(matrice):\n",
    "    raise Exception('TODO IMPLEMENT ME !')\n",
    "\n",
    "m1 = np.array(  [ [1] ])\n",
    "r1 = np.array( [  [1]  ])\n",
    "assert np.allclose(matrot(m1), r1)\n",
    "\n",
    "m2 = np.array(  [ [0,1] ])\n",
    "r2 = np.array( [ [1,0] ])\n",
    "assert np.allclose(matrot(m2), r2)\n",
    "\n",
    "m3 = np.array([ [0,1,0] ])\n",
    "r3 = np.array([ [0,0,1] ])\n",
    "assert np.allclose(matrot(m3), r3)\n",
    "\n",
    "m4 = np.array(  [[0,1,0],\n",
    "                 [1,1,0]])\n",
    "r4 = np.array(  [[0,0,1],\n",
    "                 [0,1,1]])\n",
    "assert np.allclose(matrot(m4), r4)\n",
    "\n",
    "\n",
    "m5 = np.array([ [0,1,0],\n",
    "                [1,1,0],\n",
    "                [0,0,0],\n",
    "                [0,1,1]])\n",
    "r5 = np.array([ [0,0,1],\n",
    "                [0,1,1],\n",
    "                [0,0,0],\n",
    "                [1,0,1]])\n",
    "assert np.allclose(matrot(m5), r5)"
   ]
  },
  {
   "cell_type": "code",
   "execution_count": 128,
   "metadata": {
    "nbsphinx": "hidden"
   },
   "outputs": [],
   "source": [],
   "transient": {
    "remove_source": true
   }
  },
  {
   "cell_type": "markdown",
   "metadata": {},
   "source": [
    "\n",
    "### Esercizio - disp\n",
    "\n",
    "✪✪✪ Prende una matrice Numpy `mat` di dimensioni`nrighe` x `ncol` contenente numeri interi  in input e RITORNA una NUOVA matrice numpy di dimensioni `nrighe` x `ncol` che è come quella originale, ma nelle celle che contenevano numeri pari adesso ci saranno numero dispari ottenuti sommando `1` al numero pari esistente.\n",
    "\n",
    "Esempio:\n",
    "\n",
    "```python\n",
    "\n",
    "disp(np.array( [ \n",
    "                    [2,5,6,3],\n",
    "                    [8,4,3,5],\n",
    "                    [6,1,7,9]\n",
    "               ]))\n",
    "```\n",
    "Deve dare in output\n",
    "\n",
    "```python\n",
    "array([[ 3.,  5.,  7.,  3.],\n",
    "       [ 9.,  5.,  3.,  5.],\n",
    "       [ 7.,  1.,  7.,  9.]])\n",
    "```\n",
    "\n",
    "Suggerimenti: \n",
    "\n",
    "- Visto che dovete ritornare una nuova matrice, cominciate con il crearne una vuota\n",
    "- scorrete con indici i e j tutta la matrice iniziale "
   ]
  },
  {
   "cell_type": "raw",
   "id": "ad0c70b8",
   "metadata": {
    "format": "text/html"
   },
   "source": [
    "<a  class=\"jupman-sol jupman-sol-toggler\" \n",
    " onclick=\"jupman.toggleSolution(this);\" \n",
    " data-jupman-show=\"Mostra soluzione\" data-jupman-hide=\"Nascondi\">Mostra soluzione</a><div class=\"jupman-sol jupman-sol-code\" style=\"display:none\">  "
   ]
  },
  {
   "cell_type": "code",
   "execution_count": 121,
   "metadata": {},
   "outputs": [],
   "source": [
    "import numpy as np\n",
    "\n",
    "def disp(mat):\n",
    "    \n",
    "    nrighe, ncol = mat.shape\n",
    "    ret = np.zeros( (nrighe, ncol) )\n",
    "    \n",
    "    for i in range(nrighe):\n",
    "        for j in range(ncol):\n",
    "            if mat[i,j] % 2 == 0:\n",
    "                ret[i,j] = mat[i,j] + 1\n",
    "            else:\n",
    "                ret[i,j] = mat[i,j]\n",
    "    return ret\n",
    "    \n",
    "\n",
    "m1 = np.array([ [2] ])\n",
    "r1 = np.array([ [3] ])\n",
    "assert np.allclose(disp(m1), r1)\n",
    "assert m1[0][0] == 2  # controlla non si stia modificando la matrice originale\n",
    "\n",
    "m2 = np.array( [ [2,5,6,3],\n",
    "                 [8,4,3,5],\n",
    "                 [6,1,7,9]\n",
    "               ])\n",
    "r2 = np.array( [ [3,5,7,3],\n",
    "                 [9,5,3,5],\n",
    "                 [7,1,7,9]])\n",
    "assert np.allclose(disp(m2), r2)\n",
    "\n"
   ]
  },
  {
   "cell_type": "raw",
   "id": "e30e7315",
   "metadata": {
    "format": "text/html"
   },
   "source": [
    "</div>"
   ]
  },
  {
   "cell_type": "code",
   "execution_count": 121,
   "metadata": {},
   "outputs": [],
   "source": [
    "import numpy as np\n",
    "\n",
    "def disp(mat):\n",
    "    raise Exception('TODO IMPLEMENT ME !')\n",
    "\n",
    "m1 = np.array([ [2] ])\n",
    "r1 = np.array([ [3] ])\n",
    "assert np.allclose(disp(m1), r1)\n",
    "assert m1[0][0] == 2  # controlla non si stia modificando la matrice originale\n",
    "\n",
    "m2 = np.array( [ [2,5,6,3],\n",
    "                 [8,4,3,5],\n",
    "                 [6,1,7,9]\n",
    "               ])\n",
    "r2 = np.array( [ [3,5,7,3],\n",
    "                 [9,5,3,5],\n",
    "                 [7,1,7,9]])\n",
    "assert np.allclose(disp(m2), r2)\n",
    "\n"
   ]
  },
  {
   "cell_type": "markdown",
   "metadata": {},
   "source": [
    "### Esercizio - radalt\n",
    "\n",
    "✪✪✪ Prende una matrice numpy `mat` di dimensioni`nrighe` x `ncol` contenente numeri interi  in input e RITORNA una NUOVA matrice numpy di dimensioni `nrighe` x `ncol`, avente alle righe di **indice** pari i numeri della matrice originale moltiplicati per due, e alle righe di **indice** dispari gli stessi numeri della matrice originale\n",
    "\n",
    "Esempio: \n",
    "\n",
    "```python\n",
    "m  = np.array( [                      #  indice\n",
    "                    [ 2, 5, 6, 3],    #    0     pari\n",
    "                    [ 8, 4, 3, 5],    #    1     dispari\n",
    "                    [ 7, 1, 6, 9],    #    2     pari\n",
    "                    [ 5, 2, 4, 1],    #    3     dispari\n",
    "                    [ 6, 3, 4, 3]     #    4     pari\n",
    "               ])\n",
    "```\n",
    "\n",
    "Una chiamata a \n",
    "\n",
    "```python\n",
    "radalt(m)\n",
    "```\n",
    "\n",
    "ritornerà la matrice numpy\n",
    "\n",
    "```python\n",
    "array([[ 4, 10, 12,  6],              \n",
    "       [ 8,  4,  3,  5],              \n",
    "       [14,  2, 12, 18],             \n",
    "       [ 5,  2,  4,  1],\n",
    "       [12,  6,  8,  6]])\n",
    "```"
   ]
  },
  {
   "cell_type": "raw",
   "id": "a7fa82a8",
   "metadata": {
    "format": "text/html"
   },
   "source": [
    "<a  class=\"jupman-sol jupman-sol-toggler\" \n",
    " onclick=\"jupman.toggleSolution(this);\" \n",
    " data-jupman-show=\"Mostra soluzione\" data-jupman-hide=\"Nascondi\">Mostra soluzione</a><div class=\"jupman-sol jupman-sol-code\" style=\"display:none\">  "
   ]
  },
  {
   "cell_type": "code",
   "execution_count": 122,
   "metadata": {},
   "outputs": [],
   "source": [
    "import numpy as np\n",
    "\n",
    "def radalt(mat):\n",
    "    \n",
    "    nrighe, ncol = mat.shape\n",
    "    ret = np.zeros( (nrighe, ncol) )\n",
    "    \n",
    "    for i in range(nrighe):\n",
    "        for j in range(ncol):\n",
    "            if i % 2 == 0:\n",
    "                ret[i,j] = mat[i,j] * 2\n",
    "            else:\n",
    "                ret[i,j] = mat[i,j]\n",
    "    return ret\n",
    "    \n",
    "\n",
    "# INIZIO TEST: NON TOCCARE !        \n",
    "\n",
    "m1 = np.array([ [2] ])\n",
    "r1 = np.array([ [4] ])\n",
    "assert np.allclose(radalt(m1),r1)\n",
    "assert m1[0][0] == 2  # controlla non si stia modificando la matrice originale\n",
    "\n",
    "m2 = np.array( [ [ 2, 5, 6],\n",
    "                 [ 8, 4, 3]])\n",
    "r2 = np.array( [ [ 4,10,12],\n",
    "                 [ 8, 4, 3]])\n",
    "assert np.allclose(radalt(m2), r2)\n",
    "\n",
    "m3 = np.array( [ [ 2, 5, 6, 3],\n",
    "                 [ 8, 4, 3, 5],\n",
    "                 [ 7, 1, 6, 9],\n",
    "                 [ 5, 2, 4, 1],\n",
    "                 [ 6, 3, 4, 3] ])\n",
    "r3 = np.array( [ [ 4,10,12, 6],\n",
    "                 [ 8, 4, 3, 5],\n",
    "                 [14, 2,12,18],\n",
    "                 [ 5, 2, 4, 1],\n",
    "                 [12, 6, 8, 6] ])\n",
    "assert np.allclose(radalt(m3), r3) \n",
    "# FINE TEST  "
   ]
  },
  {
   "cell_type": "raw",
   "id": "f62bef2d",
   "metadata": {
    "format": "text/html"
   },
   "source": [
    "</div>"
   ]
  },
  {
   "cell_type": "code",
   "execution_count": 122,
   "metadata": {},
   "outputs": [],
   "source": [
    "import numpy as np\n",
    "\n",
    "def radalt(mat):\n",
    "    raise Exception('TODO IMPLEMENT ME !')\n",
    "\n",
    "# INIZIO TEST: NON TOCCARE !        \n",
    "\n",
    "m1 = np.array([ [2] ])\n",
    "r1 = np.array([ [4] ])\n",
    "assert np.allclose(radalt(m1),r1)\n",
    "assert m1[0][0] == 2  # controlla non si stia modificando la matrice originale\n",
    "\n",
    "m2 = np.array( [ [ 2, 5, 6],\n",
    "                 [ 8, 4, 3]])\n",
    "r2 = np.array( [ [ 4,10,12],\n",
    "                 [ 8, 4, 3]])\n",
    "assert np.allclose(radalt(m2), r2)\n",
    "\n",
    "m3 = np.array( [ [ 2, 5, 6, 3],\n",
    "                 [ 8, 4, 3, 5],\n",
    "                 [ 7, 1, 6, 9],\n",
    "                 [ 5, 2, 4, 1],\n",
    "                 [ 6, 3, 4, 3] ])\n",
    "r3 = np.array( [ [ 4,10,12, 6],\n",
    "                 [ 8, 4, 3, 5],\n",
    "                 [14, 2,12,18],\n",
    "                 [ 5, 2, 4, 1],\n",
    "                 [12, 6, 8, 6] ])\n",
    "assert np.allclose(radalt(m3), r3) \n",
    "# FINE TEST  "
   ]
  },
  {
   "cell_type": "markdown",
   "metadata": {},
   "source": [
    "### Esercizio - scacchiera\n",
    "\n",
    "✪✪✪ RITORNA una NUOVA matrice numpy di `n` righe e `n` colonne, in cui le celle si alternano tra zero e uno.\n",
    "\n",
    "Esempio: `scacchiera(4)` deve dare:\n",
    "   \n",
    "```python\n",
    "    array([[1.0, 0.0, 1.0, 0.0],\n",
    "           [0.0, 1.0, 0.0, 1.0],\n",
    "           [1.0, 0.0, 1.0, 0.0],\n",
    "           [0.0, 1.0, 0.0, 1.0]])\n",
    "```\n",
    "\n",
    "Ingredienti:\n",
    "\n",
    "- per alternare, potete usare la range nella forma in cui prende 3 parametri,\n",
    "  per esempio `range(0,n,2)` parte da `0`, arriva fino a `n` escluso e salta di due in due, generando 0,2,4,6,8, ... \n",
    "- invece `range(1,n,2)` genererebbe 1,3,5,7, ..."
   ]
  },
  {
   "cell_type": "raw",
   "id": "9e6aa445",
   "metadata": {
    "format": "text/html"
   },
   "source": [
    "<a  class=\"jupman-sol jupman-sol-toggler\" \n",
    " onclick=\"jupman.toggleSolution(this);\" \n",
    " data-jupman-show=\"Mostra soluzione\" data-jupman-hide=\"Nascondi\">Mostra soluzione</a><div class=\"jupman-sol jupman-sol-code\" style=\"display:none\">  "
   ]
  },
  {
   "cell_type": "code",
   "execution_count": 123,
   "metadata": {},
   "outputs": [],
   "source": [
    "def scacchiera(n):  \n",
    "    \n",
    "    mat = np.zeros( (n,n)  )\n",
    "    \n",
    "    for i in range(0,n, 2):\n",
    "        for j in range(0,n, 2):\n",
    "            mat[i, j] = 1\n",
    "\n",
    "    for i in range(1,n, 2):\n",
    "        for j in range(1,n, 2):\n",
    "            mat[i, j] = 1\n",
    "            \n",
    "    return mat\n",
    "    \n",
    "\n",
    "r1 = np.array( [ [1.0, 0.0, 1.0, 0.0],\n",
    "                 [0.0, 1.0, 0.0, 1.0],\n",
    "                 [1.0, 0.0, 1.0, 0.0],\n",
    "                 [0.0, 1.0, 0.0, 1.0] ])\n",
    "\n",
    "# all_close ritorna True se tutti i valori nella prima matrice sono abbastanza vicini \n",
    "# (cioè entro una certa tolleranza) ai corrispondenti nella seconda \n",
    "assert np.allclose(scacchiera(4), r1) \n",
    "\n",
    "r2 = np.array( [ [1.0] ])\n",
    "assert np.allclose(scacchiera(1), r2) \n",
    "\n",
    "r3 = np.array( [ [1.0, 0.0],\n",
    "                 [0.0, 1.0] ])\n",
    "assert np.allclose(scacchiera(2), r3) "
   ]
  },
  {
   "cell_type": "raw",
   "id": "2de9fb8c",
   "metadata": {
    "format": "text/html"
   },
   "source": [
    "</div>"
   ]
  },
  {
   "cell_type": "code",
   "execution_count": 123,
   "metadata": {},
   "outputs": [],
   "source": [
    "def scacchiera(n):  \n",
    "    raise Exception('TODO IMPLEMENT ME !')\n",
    "\n",
    "r1 = np.array( [ [1.0, 0.0, 1.0, 0.0],\n",
    "                 [0.0, 1.0, 0.0, 1.0],\n",
    "                 [1.0, 0.0, 1.0, 0.0],\n",
    "                 [0.0, 1.0, 0.0, 1.0] ])\n",
    "\n",
    "# all_close ritorna True se tutti i valori nella prima matrice sono abbastanza vicini \n",
    "# (cioè entro una certa tolleranza) ai corrispondenti nella seconda \n",
    "assert np.allclose(scacchiera(4), r1) \n",
    "\n",
    "r2 = np.array( [ [1.0] ])\n",
    "assert np.allclose(scacchiera(1), r2) \n",
    "\n",
    "r3 = np.array( [ [1.0, 0.0],\n",
    "                 [0.0, 1.0] ])\n",
    "assert np.allclose(scacchiera(2), r3) "
   ]
  },
  {
   "cell_type": "markdown",
   "metadata": {},
   "source": [
    "### Esercizio - somma_alterna\n",
    "\n",
    "✪✪✪ MODIFICA la matrice numpy in input (n x n), sommando a tutte le righe dispari le righe pari. Per esempio:\n",
    "\n",
    "```python\n",
    "    m = [[1.0, 3.0, 2.0, 5.0],\n",
    "         [2.0, 8.0, 5.0, 9.0],\n",
    "         [6.0, 9.0, 7.0, 2.0],\n",
    "         [4.0, 7.0, 2.0, 4.0]]\n",
    "    somma_alterna(m)\n",
    "```    \n",
    "\n",
    "adesso `m` dovrebbe essere :\n",
    "\n",
    "```python\n",
    "    m = [[1.0, 3.0, 2.0, 5.0],\n",
    "         [3.0, 11.0,7.0, 14.0],\n",
    "         [6.0, 9.0, 7.0, 2.0],\n",
    "         [10.0,16.0,9.0, 6.0]]\n",
    "```    \n",
    "\n",
    "Ingredienti:\n",
    "\n",
    "- per alternare, potete usare la range nella forma in cui prende 3 parametri,\n",
    "  per esempio range(0,n,2) parte da 0, arriva fino a n escluso e salta di due in due, \n",
    "  generando 0,2,4,6,8, ... \n",
    "- invece range(1,n,2) genererebbe 1,3,5,7, ...    \n",
    "        \n"
   ]
  },
  {
   "cell_type": "raw",
   "id": "a38153f6",
   "metadata": {
    "format": "text/html"
   },
   "source": [
    "<a  class=\"jupman-sol jupman-sol-toggler\" \n",
    " onclick=\"jupman.toggleSolution(this);\" \n",
    " data-jupman-show=\"Mostra soluzione\" data-jupman-hide=\"Nascondi\">Mostra soluzione</a><div class=\"jupman-sol jupman-sol-code\" style=\"display:none\">  "
   ]
  },
  {
   "cell_type": "code",
   "execution_count": 124,
   "metadata": {},
   "outputs": [],
   "source": [
    "def somma_alterna(mat):\n",
    "    \"\"\" MODIFICA la matrice numpy in input (n x n), sommando a tutte le righe dispari le righe pari.\n",
    "    \"\"\"  \n",
    "    \n",
    "    nrows, ncols = mat.shape \n",
    "    for i in range(1,nrows, 2):\n",
    "        for j in range(0,ncols):\n",
    "            mat[i, j] = mat[i,j] + mat[i-1, j] \n",
    "    \n",
    "  \n",
    "  \n",
    "m1 = np.array( [ [1.0, 3.0, 2.0, 5.0],\n",
    "                       [2.0, 8.0, 5.0, 9.0],\n",
    "                       [6.0, 9.0, 7.0, 2.0],\n",
    "                       [4.0, 7.0, 2.0, 4.0] ]) \n",
    "\n",
    "r1 = np.array( [ [1.0, 3.0, 2.0, 5.0],\n",
    "                 [3.0, 11.0,7.0, 14.0],\n",
    "                 [6.0, 9.0, 7.0, 2.0],\n",
    "                 [10.0,16.0,9.0, 6.0] ])\n",
    "\n",
    "somma_alterna(m1)\n",
    "assert np.allclose(m1, r1)  # controlla che abbiamo MODIFICATO la matrice originale\n",
    "\n",
    "m2 = np.array( [ [5.0] ])\n",
    "r2 = np.array( [ [5.0] ])\n",
    "somma_alterna(m1)                  \n",
    "assert np.allclose(m2, r2)  \n",
    "\n",
    "m3 = np.array( [ [6.0, 1.0],\n",
    "                 [3.0, 2.0] ])                    \n",
    "r3 = np.array( [ [6.0, 1.0],\n",
    "                 [9.0, 3.0] ])\n",
    "somma_alterna(m3)\n",
    "assert np.allclose(m3, r3) "
   ]
  },
  {
   "cell_type": "raw",
   "id": "31690c47",
   "metadata": {
    "format": "text/html"
   },
   "source": [
    "</div>"
   ]
  },
  {
   "cell_type": "code",
   "execution_count": 124,
   "metadata": {},
   "outputs": [],
   "source": [
    "def somma_alterna(mat):\n",
    "    \"\"\" MODIFICA la matrice numpy in input (n x n), sommando a tutte le righe dispari le righe pari.\n",
    "    \"\"\"  \n",
    "    raise Exception('TODO IMPLEMENT ME !')\n",
    "  \n",
    "  \n",
    "m1 = np.array( [ [1.0, 3.0, 2.0, 5.0],\n",
    "                       [2.0, 8.0, 5.0, 9.0],\n",
    "                       [6.0, 9.0, 7.0, 2.0],\n",
    "                       [4.0, 7.0, 2.0, 4.0] ]) \n",
    "\n",
    "r1 = np.array( [ [1.0, 3.0, 2.0, 5.0],\n",
    "                 [3.0, 11.0,7.0, 14.0],\n",
    "                 [6.0, 9.0, 7.0, 2.0],\n",
    "                 [10.0,16.0,9.0, 6.0] ])\n",
    "\n",
    "somma_alterna(m1)\n",
    "assert np.allclose(m1, r1)  # controlla che abbiamo MODIFICATO la matrice originale\n",
    "\n",
    "m2 = np.array( [ [5.0] ])\n",
    "r2 = np.array( [ [5.0] ])\n",
    "somma_alterna(m1)                  \n",
    "assert np.allclose(m2, r2)  \n",
    "\n",
    "m3 = np.array( [ [6.0, 1.0],\n",
    "                 [3.0, 2.0] ])                    \n",
    "r3 = np.array( [ [6.0, 1.0],\n",
    "                 [9.0, 3.0] ])\n",
    "somma_alterna(m3)\n",
    "assert np.allclose(m3, r3) "
   ]
  },
  {
   "cell_type": "markdown",
   "metadata": {},
   "source": [
    "### Esercizio - media_meta\n",
    "\n",
    "✪✪✪ Prende in input una matrice numpy con un numero pari di colonne, e RITORNA in output una matrice numpy 1x2: il primo elemento sarà la media della metà sinistra della matrice, il secondo elemento sarà la media della metà destra.\n",
    "\n",
    "Ingredienti:\n",
    "\n",
    "- per ottenere il numero di colonne diviso 2 come numero intero, usare l'operatore `//`\n"
   ]
  },
  {
   "cell_type": "raw",
   "id": "024794aa",
   "metadata": {
    "format": "text/html"
   },
   "source": [
    "<a  class=\"jupman-sol jupman-sol-toggler\" \n",
    " onclick=\"jupman.toggleSolution(this);\" \n",
    " data-jupman-show=\"Mostra soluzione\" data-jupman-hide=\"Nascondi\">Mostra soluzione</a><div class=\"jupman-sol jupman-sol-code\" style=\"display:none\">  "
   ]
  },
  {
   "cell_type": "code",
   "execution_count": 125,
   "metadata": {},
   "outputs": [],
   "source": [
    "def media_meta(mat):\n",
    "    \n",
    "    righe, colonne = mat.shape\n",
    "    meta_colonne = colonne // 2\n",
    "    \n",
    "    media_sx = 0.0\n",
    "    media_dx = 0.0\n",
    "    \n",
    "    # scrivi qui\n",
    "    for i in range(righe):\n",
    "        for j in range(meta_colonne):\n",
    "            media_sx += mat[i,j]\n",
    "        for j in range(meta_colonne, colonne):\n",
    "            media_dx += mat[i,j]\n",
    "            \n",
    "    mezzi_elementi = righe * meta_colonne\n",
    "    media_sx /=  mezzi_elementi\n",
    "    media_dx /= mezzi_elementi\n",
    "    return np.array([media_sx, media_dx])\n",
    "    \n",
    "\n",
    "# INIZIO TEST\n",
    "m1 = np.array([[3,2,1,4],\n",
    "              [6,2,3,5],\n",
    "              [4,3,6,2],\n",
    "              [4,6,5,4],\n",
    "              [7,2,9,3]])\n",
    "\n",
    "r1 = np.array([(3+2+6+2+4+3+4+6+7+2)/10, (1+4+3+5+6+2+5+4+9+3)/10  ])\n",
    "\n",
    "assert np.allclose( media_meta(m1), r1)\n",
    "# FINE TEST"
   ]
  },
  {
   "cell_type": "raw",
   "id": "7bcf427e",
   "metadata": {
    "format": "text/html"
   },
   "source": [
    "</div>"
   ]
  },
  {
   "cell_type": "code",
   "execution_count": 125,
   "metadata": {},
   "outputs": [],
   "source": [
    "def media_meta(mat):\n",
    "    raise Exception('TODO IMPLEMENT ME !')\n",
    "\n",
    "# INIZIO TEST\n",
    "m1 = np.array([[3,2,1,4],\n",
    "              [6,2,3,5],\n",
    "              [4,3,6,2],\n",
    "              [4,6,5,4],\n",
    "              [7,2,9,3]])\n",
    "\n",
    "r1 = np.array([(3+2+6+2+4+3+4+6+7+2)/10, (1+4+3+5+6+2+5+4+9+3)/10  ])\n",
    "\n",
    "assert np.allclose( media_meta(m1), r1)\n",
    "# FINE TEST"
   ]
  },
  {
   "cell_type": "markdown",
   "metadata": {},
   "source": [
    "### Esercizio - matxarr\n",
    "\n",
    "✪✪✪ Prende una matrice numpy `n` x `m` e un `ndarray` di `m` elementi, e RITORNA una NUOVA matrice numpy in cui \n",
    "i valori di ogni colonna della matrice di input sono moltiplicati per il corrispondente \n",
    "valore dell'array di `n` elementi.\n"
   ]
  },
  {
   "cell_type": "raw",
   "id": "92a13ce1",
   "metadata": {
    "format": "text/html"
   },
   "source": [
    "<a  class=\"jupman-sol jupman-sol-toggler\" \n",
    " onclick=\"jupman.toggleSolution(this);\" \n",
    " data-jupman-show=\"Mostra soluzione\" data-jupman-hide=\"Nascondi\">Mostra soluzione</a><div class=\"jupman-sol jupman-sol-code\" style=\"display:none\">  "
   ]
  },
  {
   "cell_type": "code",
   "execution_count": 126,
   "metadata": {},
   "outputs": [],
   "source": [
    "def matxarr(mat, arr):\n",
    "    \n",
    "    ret = np.zeros( mat.shape )\n",
    "    \n",
    "    \n",
    "    for i in range(mat.shape[0]):\n",
    "        for j in range(mat.shape[1]):\n",
    "            ret[i,j] = mat[i,j] * arr[j]            \n",
    "    \n",
    "    return ret\n",
    "    \n",
    "    \n",
    "m1 = np.array( [ [3,2,1],\n",
    "                 [6,2,3],\n",
    "                 [4,3,6],\n",
    "                 [4,6,5] ] )\n",
    "a1 = np.array([5, 2, 6])\n",
    "r1 = np.array([ [3*5, 2*2, 1*6],\n",
    "                [6*5, 2*2, 3*6],\n",
    "                [4*5, 3*2, 6*6],\n",
    "                [4*5, 6*2, 5*6] ])\n",
    "assert np.allclose(matxarr(m1,a1), r1)"
   ]
  },
  {
   "cell_type": "raw",
   "id": "191bf70a",
   "metadata": {
    "format": "text/html"
   },
   "source": [
    "</div>"
   ]
  },
  {
   "cell_type": "code",
   "execution_count": 126,
   "metadata": {},
   "outputs": [],
   "source": [
    "def matxarr(mat, arr):\n",
    "    raise Exception('TODO IMPLEMENT ME !')\n",
    "    \n",
    "m1 = np.array( [ [3,2,1],\n",
    "                 [6,2,3],\n",
    "                 [4,3,6],\n",
    "                 [4,6,5] ] )\n",
    "a1 = np.array([5, 2, 6])\n",
    "r1 = np.array([ [3*5, 2*2, 1*6],\n",
    "                [6*5, 2*2, 3*6],\n",
    "                [4*5, 3*2, 6*6],\n",
    "                [4*5, 6*2, 5*6] ])\n",
    "assert np.allclose(matxarr(m1,a1), r1)"
   ]
  },
  {
   "cell_type": "markdown",
   "metadata": {},
   "source": [
    "### Esercizio - quadranti\n",
    "\n",
    "✪✪✪ Data una matrice `2n * 2n`, dividere la matrice in 4 parti quadrate uguali \n",
    "(vedi esempio per capire meglio) e RESTITUIRE una NUOVA matrice `2 * 2`\n",
    "contente la media di ogni quadrante\n",
    "\n",
    "Si assume che la matrice sia sempre di dimensioni pari\n",
    "\n",
    "SUGGERIMENTO: per dividere per 2 e ottenere un numero intero, usare l'operatore // \n",
    "\n",
    "\n",
    "Esempio:\n",
    "```\n",
    " 1, 2 , 5 , 7\n",
    " 4, 1 , 8 , 0\n",
    " 2, 0 , 5 , 1 \n",
    " 0, 2 , 1 , 1 \n",
    "```\n",
    "si divide in \n",
    "\n",
    "```\n",
    "  1, 2 | 5 , 7\n",
    "  4, 1 | 8 , 0\n",
    "----------------- \n",
    "  2, 0 | 5 , 1 \n",
    "  0, 2 | 1 , 1 \n",
    "```\n",
    "\n",
    "e si restituisce \n",
    "\n",
    "```\n",
    "  (1+2+4+1)/ 4  | (5+7+8+0)/4                        2.0 , 5.0 \n",
    "  -----------------------------            =>        1.0 , 2.0 \n",
    "  (2+0+0+2)/4   | (5+1+1+1)/4  \n",
    "```\n",
    "\n"
   ]
  },
  {
   "cell_type": "raw",
   "id": "be67a964",
   "metadata": {
    "format": "text/html"
   },
   "source": [
    "<a  class=\"jupman-sol jupman-sol-toggler\" \n",
    " onclick=\"jupman.toggleSolution(this);\" \n",
    " data-jupman-show=\"Mostra soluzione\" data-jupman-hide=\"Nascondi\">Mostra soluzione</a><div class=\"jupman-sol jupman-sol-code\" style=\"display:none\">  "
   ]
  },
  {
   "cell_type": "code",
   "execution_count": 127,
   "metadata": {},
   "outputs": [],
   "source": [
    "import numpy as np\n",
    "\n",
    "def quadranti(matrice):\n",
    "    \n",
    "    ret = np.zeros( (2,2) )\n",
    "    \n",
    "    dim = matrice.shape[0] \n",
    "    n = dim // 2\n",
    "    elementi_per_quadrante = n * n\n",
    "    \n",
    "    for i in range(n):\n",
    "        for j in range(n):\n",
    "            ret[0,0] += matrice[i,j]\n",
    "    ret[0,0] /=   elementi_per_quadrante\n",
    "        \n",
    "      \n",
    "    for i in range(n,dim):\n",
    "        for j in range(n):\n",
    "            ret[1,0] += matrice[i,j]\n",
    "    ret[1,0] /= elementi_per_quadrante\n",
    "\n",
    "    for i in range(n,dim):\n",
    "        for j in range(n,dim):\n",
    "            ret[1,1] += matrice[i,j]\n",
    "    ret[1,1] /= elementi_per_quadrante\n",
    "\n",
    "    for i in range(n):\n",
    "        for j in range(n,dim):\n",
    "            ret[0,1] += matrice[i,j]\n",
    "    ret[0,1] /= elementi_per_quadrante\n",
    "    \n",
    "    return ret\n",
    "    \n",
    "    \n",
    "    \n",
    "# INIZIO TEST - NON TOCCARE !\n",
    "m1 = np.array( [ [3.0, 5.0],\n",
    "                 [4.0, 9.0] ])\n",
    "r1 = np.array([  [3.0, 5.0],\n",
    "                 [4.0, 9.0],\n",
    "              ])\n",
    "assert np.allclose(quadranti(m1),r1)\n",
    "\n",
    "m2 = np.array( [ [1.0, 2.0 , 5.0 , 7.0],\n",
    "                 [4.0, 1.0 , 8.0 , 0.0],\n",
    "                 [2.0, 0.0 , 5.0 , 1.0], \n",
    "                 [0.0, 2.0 , 1.0 , 1.0] ])\n",
    "r2 = np.array( [ [2.0, 5.0],\n",
    "                 [1.0, 2.0] ] )\n",
    "assert np.allclose(quadranti(m2),r2)\n",
    "# FINE TEST"
   ]
  },
  {
   "cell_type": "raw",
   "id": "fd777c52",
   "metadata": {
    "format": "text/html"
   },
   "source": [
    "</div>"
   ]
  },
  {
   "cell_type": "code",
   "execution_count": 127,
   "metadata": {},
   "outputs": [],
   "source": [
    "import numpy as np\n",
    "\n",
    "def quadranti(matrice):\n",
    "    raise Exception('TODO IMPLEMENT ME !')\n",
    "    \n",
    "    \n",
    "# INIZIO TEST - NON TOCCARE !\n",
    "m1 = np.array( [ [3.0, 5.0],\n",
    "                 [4.0, 9.0] ])\n",
    "r1 = np.array([  [3.0, 5.0],\n",
    "                 [4.0, 9.0],\n",
    "              ])\n",
    "assert np.allclose(quadranti(m1),r1)\n",
    "\n",
    "m2 = np.array( [ [1.0, 2.0 , 5.0 , 7.0],\n",
    "                 [4.0, 1.0 , 8.0 , 0.0],\n",
    "                 [2.0, 0.0 , 5.0 , 1.0], \n",
    "                 [0.0, 2.0 , 1.0 , 1.0] ])\n",
    "r2 = np.array( [ [2.0, 5.0],\n",
    "                 [1.0, 2.0] ] )\n",
    "assert np.allclose(quadranti(m2),r2)\n",
    "# FINE TEST"
   ]
  },
  {
   "cell_type": "markdown",
   "metadata": {},
   "source": [
    "### Altri esercizi numpy\n",
    "\n",
    "- Prova a svolgere gli esercizi delle [liste di liste](https://it.softpython.org/matrices-list-of-lists/list-of-lists-sol.html), ma usando invece Numpy. \n",
    "\n",
    "- Leggi [i tutorial Nicola Zoppetti, parte Numpy](http://www.ifac.cnr.it/~zoppetti/corsopython/) e prova a rendere gli esercizi già visti più efficienti sostituendo ai cicli `for` delle funzioni specifiche di numpy che operano su vettori\n",
    "\n",
    "- (in inglese) [machinelearningplus](https://www.machinelearningplus.com/python/101-numpy-exercises-python/)  Esercizi su Numpy (Fermarsi a difficoltà L1, L2 e se vuoi prova L3)\n",
    "\n",
    "- [Challenge numpy qui su softpython](https://it.softpython.org/matrices-numpy/matrices-numpy2-chal.html)"
   ]
  },
  {
   "cell_type": "code",
   "execution_count": 129,
   "metadata": {
    "nbsphinx": "hidden"
   },
   "outputs": [],
   "source": [],
   "transient": {
    "remove_source": true
   }
  }
 ],
 "metadata": {
  "celltoolbar": "Edit Metadata",
  "kernelspec": {
   "display_name": "Python 3",
   "language": "python",
   "name": "python3"
  },
  "language_info": {
   "codemirror_mode": {
    "name": "ipython",
    "version": 3
   },
   "file_extension": ".py",
   "mimetype": "text/x-python",
   "name": "python",
   "nbconvert_exporter": "python",
   "pygments_lexer": "ipython3",
   "version": "3.7.10"
  },
  "toc": {
   "base_numbering": 1,
   "nav_menu": {},
   "number_sections": false,
   "sideBar": true,
   "skip_h1_title": false,
   "title_cell": "Table of Contents",
   "title_sidebar": "Contents",
   "toc_cell": false,
   "toc_position": {},
   "toc_section_display": true,
   "toc_window_display": true
  }
 },
 "nbformat": 4,
 "nbformat_minor": 2
}

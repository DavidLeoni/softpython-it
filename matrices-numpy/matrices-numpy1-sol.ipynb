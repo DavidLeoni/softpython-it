{
 "cells": [
  {
   "cell_type": "markdown",
   "id": "ea2a5bdb",
   "metadata": {},
   "source": [
    "# Matrici - Numpy 1\n",
    "\n",
    "\n",
    "## [Scarica zip esercizi](../_static/generated/matrices-numpy.zip)\n",
    "\n",
    "[Naviga file online](https://github.com/DavidLeoni/softpython-it/tree/master/matrices-numpy)\n"
   ]
  },
  {
   "cell_type": "markdown",
   "id": "73695c55",
   "metadata": {},
   "source": [
    "## Introduzione\n",
    "\n",
    "Ci sono sostanzialmente due modi in Python di rappresentare matrici: come liste di liste, oppure con la libreria esterna [numpy](https://www.numpy.org). Vediamo le principali differenze:\n",
    "\n",
    "Liste di liste - [vedere foglio separato](https://it.softpython.org/matrices-lists/matrices-lists-sol.html)\n",
    "\n",
    "1. native in Python\n",
    "2. non efficienti\n",
    "3. le liste sono pervasive in Python, probabilmente incontrerai matrici espresse come liste di liste in ogni caso\n",
    "4. forniscono un'idea di come costruire una struttura dati annidata\n",
    "5. possono servire per comprendere concetti importanti come puntatori alla memoria e copie \n",
    "\n",
    "\n",
    "Numpy - questo tutorial\n",
    "\n",
    "1. non nativamente disponibile in Python\n",
    "2. efficiente\n",
    "3. alla base di parecchie librerie di calcolo scientifico (scipy, pandas)\n",
    "4. sintassi più comoda per accedere agli elementi (lievemente diversa da quella delle liste di liste)\n",
    "5. in alcuni rari casi potrebbe portare problemi di installazione e/o conflitti (l'implementazione non è puro Python)"
   ]
  },
  {
   "cell_type": "markdown",
   "id": "ddaf769e",
   "metadata": {},
   "source": [
    "Qui vedremo i tipi di dati e comandi essenziali della [libreria numpy](https://www.numpy.org), mostrando molto spesso due versioni dello stesso codice: una prima versione inefficiente con i normali cicli `for` in Python (lenti), e una seconda senza cicli sfruttando le operazioni su vettori di numpy che spesso permettono di ottenere codice estrememente compatto ed efficiente.\n",
    "\n",
    "Per ulteriori riferimenti, vedere:\n",
    "\n",
    "- [i tutorial Nicola Zoppetti, parte Numpy](http://www.ifac.cnr.it/~zoppetti/corsopython/)\n",
    "- [Python Data Science Handbook, parte Numpy (inglese)](https://jakevdp.github.io/PythonDataScienceHandbook/02.00-introduction-to-numpy.html)\n",
    "\n",
    "<div class=\"alert alert-warning\">\n",
    "\n",
    "**ATTENZIONE**: Numpy non funziona in [Python Tutor](http://www.pythontutor.com/visualize.html#mode=edit) \n",
    "\n",
    "</div>"
   ]
  },
  {
   "cell_type": "markdown",
   "id": "011b813b",
   "metadata": {},
   "source": [
    "### Che fare\n",
    "\n",
    "- scompatta lo zip in una cartella, dovresti ottenere qualcosa del genere: \n",
    "\n",
    "```\n",
    "\n",
    "matrices-numpy\n",
    "    matrices-numpy1.ipynb\n",
    "    matrices-numpy1-sol.ipynb\n",
    "    matrices-numpy2.ipynb\n",
    "    matrices-numpy2-sol.ipynb\n",
    "    matrices-numpy3-chal.ipynb\n",
    "    jupman.py\n",
    "```\n",
    "\n",
    "<div class=\"alert alert-warning\">\n",
    "\n",
    "**ATTENZIONE**: Per essere visualizzato correttamente, il file del notebook DEVE essere nella cartella szippata.\n",
    "</div>\n",
    "\n",
    "- apri il Jupyter Notebook da quella cartella. Due cose dovrebbero aprirsi, prima una console e poi un browser. Il browser dovrebbe mostrare una lista di file: naviga la lista e apri il notebook `matrices-numpy1.ipynb`\n",
    "- Prosegui leggendo il file degli esercizi, ogni tanto al suo interno troverai delle scritte **ESERCIZIO**, che ti chiederanno di scrivere dei comandi Python nelle celle successive.\n",
    "\n",
    "Scorciatoie da tastiera:\n",
    "\n",
    "* Per eseguire il codice Python dentro una cella di Jupyter, premi `Control+Invio`\n",
    "* Per eseguire il codice Python dentro una cella di Jupyter E selezionare la cella seguente, premi `Shift+Invio`\n",
    "* Per eseguire il codice Python dentro una cella di Jupyter E creare una nuova cella subito dopo, premi `Alt+Invio`\n",
    "* Se per caso il Notebook sembra inchiodato, prova a selezionare `Kernel -> Restart`\n",
    "\n"
   ]
  },
  {
   "cell_type": "markdown",
   "id": "2e6f2a51",
   "metadata": {},
   "source": [
    "## np.array\n",
    "\n",
    "Innanzitutto importiamo la libreria, e per comodità la rinominiamo in `np`:"
   ]
  },
  {
   "cell_type": "code",
   "execution_count": 1,
   "id": "a386ff41",
   "metadata": {},
   "outputs": [],
   "source": [
    "import numpy as np"
   ]
  },
  {
   "cell_type": "markdown",
   "id": "5e3075b6",
   "metadata": {},
   "source": [
    "Con le liste di liste abbiamo spesso costruito le matrici una riga alla volta, aggiundo liste all'occorrenza. In numpy invece di solito si crea in un colpo solo tutta la matrice, riempiendola di zeri. \n",
    "\n",
    "In particolare, questo comando crea un ndarray riempito di zeri:"
   ]
  },
  {
   "cell_type": "code",
   "execution_count": 2,
   "id": "728460d1",
   "metadata": {},
   "outputs": [],
   "source": [
    "mat = np.zeros( (2,3)  )   # 2 righe, 3 colonne"
   ]
  },
  {
   "cell_type": "code",
   "execution_count": 3,
   "id": "ee58f8d9",
   "metadata": {},
   "outputs": [
    {
     "data": {
      "text/plain": [
       "array([[0., 0., 0.],\n",
       "       [0., 0., 0.]])"
      ]
     },
     "execution_count": 3,
     "metadata": {},
     "output_type": "execute_result"
    }
   ],
   "source": [
    "mat"
   ]
  },
  {
   "cell_type": "markdown",
   "id": "b4aaef9a",
   "metadata": {},
   "source": [
    "Nota come all'interno di `array( )` il contenuto sembra che venga rappresentato come una lista di liste, MA in realtà nelle memoria fisica i dati sono strutturati in una sequenza lineare che permette a Python di accedere ai numeri in modo molto più rapido."
   ]
  },
  {
   "cell_type": "markdown",
   "id": "2e523ad3",
   "metadata": {},
   "source": [
    "Possiamo anche crearci un `ndarray` a partire da una lista di liste:\n"
   ]
  },
  {
   "cell_type": "code",
   "execution_count": 4,
   "id": "75c5d842",
   "metadata": {},
   "outputs": [],
   "source": [
    "mat = np.array( [ [5.0,8.0,1.0], \n",
    "                  [4.0,3.0,2.0]])"
   ]
  },
  {
   "cell_type": "code",
   "execution_count": 5,
   "id": "2570651d",
   "metadata": {},
   "outputs": [
    {
     "data": {
      "text/plain": [
       "array([[5., 8., 1.],\n",
       "       [4., 3., 2.]])"
      ]
     },
     "execution_count": 5,
     "metadata": {},
     "output_type": "execute_result"
    }
   ],
   "source": [
    "mat"
   ]
  },
  {
   "cell_type": "code",
   "execution_count": 6,
   "id": "e7a8ada5",
   "metadata": {},
   "outputs": [
    {
     "data": {
      "text/plain": [
       "numpy.ndarray"
      ]
     },
     "execution_count": 6,
     "metadata": {},
     "output_type": "execute_result"
    }
   ],
   "source": [
    "type(mat)"
   ]
  },
  {
   "cell_type": "markdown",
   "id": "51bd02ef",
   "metadata": {},
   "source": [
    "### Creare una matrice riempita di uno"
   ]
  },
  {
   "cell_type": "code",
   "execution_count": 7,
   "id": "e0c420c9",
   "metadata": {},
   "outputs": [
    {
     "data": {
      "text/plain": [
       "array([[1., 1., 1., 1., 1.],\n",
       "       [1., 1., 1., 1., 1.],\n",
       "       [1., 1., 1., 1., 1.]])"
      ]
     },
     "execution_count": 7,
     "metadata": {},
     "output_type": "execute_result"
    }
   ],
   "source": [
    "np.ones((3,5))  # 3 righe, 5 colonne"
   ]
  },
  {
   "cell_type": "markdown",
   "id": "f49e1085",
   "metadata": {},
   "source": [
    "### Creare una matrice riempita di un numero k"
   ]
  },
  {
   "cell_type": "code",
   "execution_count": 8,
   "id": "4574df6c",
   "metadata": {},
   "outputs": [
    {
     "data": {
      "text/plain": [
       "array([[7, 7, 7, 7, 7],\n",
       "       [7, 7, 7, 7, 7],\n",
       "       [7, 7, 7, 7, 7]])"
      ]
     },
     "execution_count": 8,
     "metadata": {},
     "output_type": "execute_result"
    }
   ],
   "source": [
    "np.full((3,5), 7)   "
   ]
  },
  {
   "cell_type": "markdown",
   "id": "941b55f6",
   "metadata": {},
   "source": [
    "### Dimensioni di una matrice\n",
    "\n",
    "Per ottenere le dimensioni, scriviamo così:\n",
    "    \n",
    "<div class=\"alert alert-warning\">\n",
    "\n",
    "**ATTENZIONE**: dopo `shape` **non** ci sono le parentesi tonde !\n",
    "\n",
    "`shape` è un attributo, non una funzione da chiamare\n",
    "</div>"
   ]
  },
  {
   "cell_type": "code",
   "execution_count": 9,
   "id": "e11843e3",
   "metadata": {},
   "outputs": [
    {
     "data": {
      "text/plain": [
       "(2, 3)"
      ]
     },
     "execution_count": 9,
     "metadata": {},
     "output_type": "execute_result"
    }
   ],
   "source": [
    "mat = np.array( [ [5.0,8.0,1.0], \n",
    "                  [4.0,3.0,2.0]])\n",
    "\n",
    "mat.shape"
   ]
  },
  {
   "cell_type": "markdown",
   "id": "3e6221b2",
   "metadata": {},
   "source": [
    "Se vogliamo memorizzare le dimensioni in variabili separate, possiamo usare questo modo più pythonico (notare la virgola tra `num_righe` e `num_colonne`):"
   ]
  },
  {
   "cell_type": "code",
   "execution_count": 10,
   "id": "4fdf80a0",
   "metadata": {},
   "outputs": [],
   "source": [
    "num_righe, num_colonne = mat.shape"
   ]
  },
  {
   "cell_type": "code",
   "execution_count": 11,
   "id": "298d3e86",
   "metadata": {},
   "outputs": [
    {
     "data": {
      "text/plain": [
       "2"
      ]
     },
     "execution_count": 11,
     "metadata": {},
     "output_type": "execute_result"
    }
   ],
   "source": [
    "num_righe"
   ]
  },
  {
   "cell_type": "code",
   "execution_count": 12,
   "id": "637046e5",
   "metadata": {},
   "outputs": [
    {
     "data": {
      "text/plain": [
       "3"
      ]
     },
     "execution_count": 12,
     "metadata": {},
     "output_type": "execute_result"
    }
   ],
   "source": [
    "num_colonne"
   ]
  },
  {
   "cell_type": "markdown",
   "id": "c31b8c51",
   "metadata": {},
   "source": [
    "## Lettura e scrittura\n",
    "\n",
    "Per accedere ai dati o sovrascriverli si utilizza la notazione con le quadre, con l'importante differenza che in Numpy è consentito scrivere _entrambi_ gli indici _dentro_ le stesse quadre, separati da una virgola:\n",
    "\n",
    "\n",
    "<div class=\"alert alert-warning\">\n",
    "\n",
    "**ATTENZIONE: la notazione** `mat[i,j]` **è solo per numpy!**\n",
    "    \n",
    "Con le liste di liste **non** funziona.\n",
    "<div>"
   ]
  },
  {
   "cell_type": "code",
   "execution_count": 13,
   "id": "8cb41b00",
   "metadata": {},
   "outputs": [],
   "source": [
    "mat = np.array( [ [5.0,8.0,1.0], \n",
    "                  [4.0,3.0,2.0]])\n",
    "\n",
    "# mettiamo il numero 9 nella cella alla riga 0 e colonna 1\n",
    "\n",
    "mat[0,1] = 9"
   ]
  },
  {
   "cell_type": "code",
   "execution_count": 14,
   "id": "fa553a68",
   "metadata": {},
   "outputs": [
    {
     "data": {
      "text/plain": [
       "array([[5., 9., 1.],\n",
       "       [4., 3., 2.]])"
      ]
     },
     "execution_count": 14,
     "metadata": {},
     "output_type": "execute_result"
    }
   ],
   "source": [
    "mat"
   ]
  },
  {
   "cell_type": "markdown",
   "id": "de777f2c",
   "metadata": {},
   "source": [
    "Accediamo alla cella alla riga `0` e colonna `1`"
   ]
  },
  {
   "cell_type": "code",
   "execution_count": 15,
   "id": "716defa9",
   "metadata": {},
   "outputs": [
    {
     "data": {
      "text/plain": [
       "9.0"
      ]
     },
     "execution_count": 15,
     "metadata": {},
     "output_type": "execute_result"
    }
   ],
   "source": [
    "mat[0,1]"
   ]
  },
  {
   "cell_type": "markdown",
   "id": "0afac159",
   "metadata": {},
   "source": [
    "Mettiamo il numero `7` nella cella alla riga `1` e colonna `2`:"
   ]
  },
  {
   "cell_type": "code",
   "execution_count": 16,
   "id": "84407090",
   "metadata": {},
   "outputs": [],
   "source": [
    "mat[1,2] = 7"
   ]
  },
  {
   "cell_type": "code",
   "execution_count": 17,
   "id": "ff0a2eca",
   "metadata": {},
   "outputs": [
    {
     "data": {
      "text/plain": [
       "array([[5., 9., 1.],\n",
       "       [4., 3., 7.]])"
      ]
     },
     "execution_count": 17,
     "metadata": {},
     "output_type": "execute_result"
    }
   ],
   "source": [
    "mat"
   ]
  },
  {
   "cell_type": "markdown",
   "id": "97428bcb",
   "metadata": {},
   "source": [
    "**✪ ESERCIZIO**: prova a scrivere così: che succede? \n",
    "\n",
    "```python\n",
    "mat[0,0] = \"c\"\n",
    "```"
   ]
  },
  {
   "cell_type": "code",
   "execution_count": 18,
   "id": "d4c4b8d0",
   "metadata": {},
   "outputs": [],
   "source": [
    "# scrivi qui\n",
    "\n"
   ]
  },
  {
   "cell_type": "markdown",
   "id": "263f5692",
   "metadata": {},
   "source": [
    "**✪ ESERCIZIO**: Prova a scrivere così e vedere che succede:\n",
    "    \n",
    "```python\n",
    "mat[1,1.0]\n",
    "```"
   ]
  },
  {
   "cell_type": "code",
   "execution_count": 19,
   "id": "3c3a14e4",
   "metadata": {},
   "outputs": [],
   "source": [
    "# scrivi qui\n"
   ]
  },
  {
   "cell_type": "markdown",
   "id": "1410c619",
   "metadata": {},
   "source": [
    "### Riempire tutta la matrice\n",
    "\n",
    "Possiamo MODIFICARE la matrice scrivendoci dentro un numero con `fill()`"
   ]
  },
  {
   "cell_type": "code",
   "execution_count": 20,
   "id": "f42e279b",
   "metadata": {},
   "outputs": [],
   "source": [
    "mat = np.array([[3.0, 5.0, 2.0],\n",
    "                [6.0, 2.0, 9.0]])\n",
    "\n",
    "mat.fill(7)  # NOTA: non ritorna nulla !!"
   ]
  },
  {
   "cell_type": "code",
   "execution_count": 21,
   "id": "58f49960",
   "metadata": {},
   "outputs": [
    {
     "data": {
      "text/plain": [
       "array([[7., 7., 7.],\n",
       "       [7., 7., 7.]])"
      ]
     },
     "execution_count": 21,
     "metadata": {},
     "output_type": "execute_result"
    }
   ],
   "source": [
    "mat"
   ]
  },
  {
   "cell_type": "markdown",
   "id": "b5fa608b",
   "metadata": {},
   "source": [
    "### Slice\n",
    "\n",
    "Per estrarre dati da un `ndarray` possiamo usare le slice, con la notazione già usata per le liste normali. La differenza questa volta è che possiamo estrarre sotto-matrici indicando due range tra le stesse quadre:"
   ]
  },
  {
   "cell_type": "code",
   "execution_count": 22,
   "id": "85735fd5",
   "metadata": {},
   "outputs": [],
   "source": [
    "mat = np.array( [ [5, 8, 1], \n",
    "                  [4, 3, 2],\n",
    "                  [6, 7, 9],\n",
    "                  [9, 3, 4],\n",
    "                  [8, 2, 7]])"
   ]
  },
  {
   "cell_type": "code",
   "execution_count": 23,
   "id": "57e9f99d",
   "metadata": {},
   "outputs": [
    {
     "data": {
      "text/plain": [
       "array([[8, 1],\n",
       "       [3, 2],\n",
       "       [7, 9],\n",
       "       [3, 4]])"
      ]
     },
     "execution_count": 23,
     "metadata": {},
     "output_type": "execute_result"
    }
   ],
   "source": [
    "mat[0:4, 1:3]  # le righe dalla 0 *inclusa* alla 4 *esclusa*\n",
    "               # e le colonne dalla 1 *inclusa*  alla 3 *esclusa*"
   ]
  },
  {
   "cell_type": "code",
   "execution_count": 24,
   "id": "d72b4479",
   "metadata": {},
   "outputs": [
    {
     "data": {
      "text/plain": [
       "array([[5, 8, 1]])"
      ]
     },
     "execution_count": 24,
     "metadata": {},
     "output_type": "execute_result"
    }
   ],
   "source": [
    "mat[0:1,0:3]  # tutta la prima riga"
   ]
  },
  {
   "cell_type": "code",
   "execution_count": 25,
   "id": "635c3df3",
   "metadata": {},
   "outputs": [
    {
     "data": {
      "text/plain": [
       "array([[5, 8, 1]])"
      ]
     },
     "execution_count": 25,
     "metadata": {},
     "output_type": "execute_result"
    }
   ],
   "source": [
    "mat[0:1,:]  # altro modo di estrarre tutta la prima riga"
   ]
  },
  {
   "cell_type": "code",
   "execution_count": 26,
   "id": "2a180961",
   "metadata": {},
   "outputs": [
    {
     "data": {
      "text/plain": [
       "array([[5],\n",
       "       [4],\n",
       "       [6],\n",
       "       [9],\n",
       "       [8]])"
      ]
     },
     "execution_count": 26,
     "metadata": {},
     "output_type": "execute_result"
    }
   ],
   "source": [
    "mat[0:5, 0:1]  # tutta la prima colonna"
   ]
  },
  {
   "cell_type": "code",
   "execution_count": 27,
   "id": "26d06cf0",
   "metadata": {},
   "outputs": [
    {
     "data": {
      "text/plain": [
       "array([[5],\n",
       "       [4],\n",
       "       [6],\n",
       "       [9],\n",
       "       [8]])"
      ]
     },
     "execution_count": 27,
     "metadata": {},
     "output_type": "execute_result"
    }
   ],
   "source": [
    "mat[:, 0:1]  # altro modo di estrarre tutta la prima colonna"
   ]
  },
  {
   "cell_type": "markdown",
   "id": "cb7eeef3",
   "metadata": {},
   "source": [
    "**Il passo**: Possiamo anche specificare un passo come terzo parametro dopo il `:`, per esempio per estrarre solo le righe pari possiamo aggiungere un `2` così:"
   ]
  },
  {
   "cell_type": "code",
   "execution_count": 28,
   "id": "4298e9b7",
   "metadata": {},
   "outputs": [
    {
     "data": {
      "text/plain": [
       "array([[5, 8, 1],\n",
       "       [6, 7, 9],\n",
       "       [8, 2, 7]])"
      ]
     },
     "execution_count": 28,
     "metadata": {},
     "output_type": "execute_result"
    }
   ],
   "source": [
    "mat[0:5:2, :]"
   ]
  },
  {
   "cell_type": "markdown",
   "id": "6d04e64c",
   "metadata": {},
   "source": [
    "<div class=\"alert alert-warning\">\n",
    "    \n",
    "**ATTENZIONE: modificando le slice di numpy si modifica anche la matrice originale!**\n",
    "\n",
    "</div>   \n",
    "\n",
    "A differenza delle slice di liste che producono sempre nuove liste, per questioni di efficienza con le slice di numpy otteniamo solo una _vista_ sui dati originari, che significa che scrivendo nella vista andiamo a scrivere anche nella matrice originale:"
   ]
  },
  {
   "cell_type": "code",
   "execution_count": 29,
   "id": "4b65002e",
   "metadata": {},
   "outputs": [],
   "source": [
    "mat = np.array( [ [5, 8, 1], \n",
    "                  [4, 3, 2],\n",
    "                  [6, 7, 9],\n",
    "                  [9, 3, 4],\n",
    "                  [8, 2, 7]])\n"
   ]
  },
  {
   "cell_type": "code",
   "execution_count": 30,
   "id": "617febd9",
   "metadata": {},
   "outputs": [
    {
     "data": {
      "text/plain": [
       "array([[8, 1],\n",
       "       [3, 2],\n",
       "       [7, 9],\n",
       "       [3, 4]])"
      ]
     },
     "execution_count": 30,
     "metadata": {},
     "output_type": "execute_result"
    }
   ],
   "source": [
    "sotto_mat = mat[0:4, 1:3]  \n",
    "sotto_mat"
   ]
  },
  {
   "cell_type": "code",
   "execution_count": 31,
   "id": "142f5303",
   "metadata": {},
   "outputs": [],
   "source": [
    "sotto_mat[0,0] = 999"
   ]
  },
  {
   "cell_type": "code",
   "execution_count": 32,
   "id": "aaf22ab2",
   "metadata": {},
   "outputs": [
    {
     "data": {
      "text/plain": [
       "array([[  5, 999,   1],\n",
       "       [  4,   3,   2],\n",
       "       [  6,   7,   9],\n",
       "       [  9,   3,   4],\n",
       "       [  8,   2,   7]])"
      ]
     },
     "execution_count": 32,
     "metadata": {},
     "output_type": "execute_result"
    }
   ],
   "source": [
    "mat"
   ]
  },
  {
   "cell_type": "markdown",
   "id": "8ea1ea53",
   "metadata": {},
   "source": [
    "### Scrivere una costante in una slice\n",
    "\n",
    "Possiamo scrivere una costante in tutte le celle di una regione identificando la regione con una slice, e ponendola uguale alla costante:"
   ]
  },
  {
   "cell_type": "code",
   "execution_count": 33,
   "id": "c71db841",
   "metadata": {},
   "outputs": [
    {
     "data": {
      "text/plain": [
       "array([[5, 7, 7],\n",
       "       [4, 7, 7],\n",
       "       [6, 7, 7],\n",
       "       [9, 7, 7],\n",
       "       [8, 2, 5]])"
      ]
     },
     "execution_count": 33,
     "metadata": {},
     "output_type": "execute_result"
    }
   ],
   "source": [
    "mat = np.array( [ [5, 8, 1], \n",
    "                  [4, 3, 2],\n",
    "                  [6, 7, 9],\n",
    "                  [9, 3, 4],\n",
    "                  [8, 2, 5]])\n",
    "\n",
    "mat[0:4, 1:3]  = 7\n",
    "\n",
    "mat"
   ]
  },
  {
   "cell_type": "markdown",
   "id": "1469cf4f",
   "metadata": {},
   "source": [
    "### Scrivere una matrice in una slice\n",
    "\n",
    "Possiamo scrivere dentro tutte le celle di una regione identificando la regione con una slice, e ponendola uguale ad una matrice da cui vogliamo leggere le celle.\n",
    "\n",
    "**ATTENZIONE**: Per evitare problemi, **controlla** di usare le stesse dimensioni nella slice e nella matrice a destra!"
   ]
  },
  {
   "cell_type": "code",
   "execution_count": 34,
   "id": "c98f15a2",
   "metadata": {},
   "outputs": [
    {
     "data": {
      "text/plain": [
       "array([[ 5, 10, 50],\n",
       "       [ 4, 11, 51],\n",
       "       [ 6, 12, 52],\n",
       "       [ 9, 13, 53],\n",
       "       [ 8,  2,  5]])"
      ]
     },
     "execution_count": 34,
     "metadata": {},
     "output_type": "execute_result"
    }
   ],
   "source": [
    "mat = np.array( [ [5, 8, 1], \n",
    "                  [4, 3, 2],\n",
    "                  [6, 7, 9],\n",
    "                  [9, 3, 4],\n",
    "                  [8, 2, 5]])\n",
    "\n",
    "mat[0:4, 1:3]  = np.array([\n",
    "                            [10,50],\n",
    "                            [11,51],\n",
    "                            [12,52],\n",
    "                            [13,53],\n",
    "                        ])\n",
    "\n",
    "mat"
   ]
  },
  {
   "cell_type": "markdown",
   "id": "489981a5",
   "metadata": {},
   "source": [
    "## Assegnazione e copia\n",
    "\n",
    "Con Numpy dobbiamo fare attenzione a quando usiamo l'operatore di assegnazione `=`: come accade con le liste normali, se facciamo una assegnazione nella nuova variabile otterremo solo un puntatore all'array originale:"
   ]
  },
  {
   "cell_type": "code",
   "execution_count": 35,
   "id": "958eb25b",
   "metadata": {},
   "outputs": [],
   "source": [
    "va = np.array([1,2,3])"
   ]
  },
  {
   "cell_type": "code",
   "execution_count": 36,
   "id": "e04e380d",
   "metadata": {},
   "outputs": [
    {
     "data": {
      "text/plain": [
       "array([1, 2, 3])"
      ]
     },
     "execution_count": 36,
     "metadata": {},
     "output_type": "execute_result"
    }
   ],
   "source": [
    "va"
   ]
  },
  {
   "cell_type": "code",
   "execution_count": 37,
   "id": "ec6f3362",
   "metadata": {},
   "outputs": [],
   "source": [
    "vb = va"
   ]
  },
  {
   "cell_type": "code",
   "execution_count": 38,
   "id": "259c0191",
   "metadata": {},
   "outputs": [],
   "source": [
    "vb[0] = 100"
   ]
  },
  {
   "cell_type": "code",
   "execution_count": 39,
   "id": "6c6e57e6",
   "metadata": {},
   "outputs": [
    {
     "data": {
      "text/plain": [
       "array([100,   2,   3])"
      ]
     },
     "execution_count": 39,
     "metadata": {},
     "output_type": "execute_result"
    }
   ],
   "source": [
    "vb"
   ]
  },
  {
   "cell_type": "code",
   "execution_count": 40,
   "id": "0c6f458d",
   "metadata": {},
   "outputs": [
    {
     "data": {
      "text/plain": [
       "array([100,   2,   3])"
      ]
     },
     "execution_count": 40,
     "metadata": {},
     "output_type": "execute_result"
    }
   ],
   "source": [
    "va"
   ]
  },
  {
   "cell_type": "markdown",
   "id": "e38f13e3",
   "metadata": {},
   "source": [
    "Se volessimo una copia completa dell'array, dovremmo usare il metodo `.copy()`:"
   ]
  },
  {
   "cell_type": "code",
   "execution_count": 41,
   "id": "458a72c2",
   "metadata": {},
   "outputs": [],
   "source": [
    "va = np.array([1,2,3])"
   ]
  },
  {
   "cell_type": "code",
   "execution_count": 42,
   "id": "75ee684b",
   "metadata": {},
   "outputs": [],
   "source": [
    "vc = va.copy()"
   ]
  },
  {
   "cell_type": "code",
   "execution_count": 43,
   "id": "90f5a15b",
   "metadata": {},
   "outputs": [
    {
     "data": {
      "text/plain": [
       "array([1, 2, 3])"
      ]
     },
     "execution_count": 43,
     "metadata": {},
     "output_type": "execute_result"
    }
   ],
   "source": [
    "vc"
   ]
  },
  {
   "cell_type": "code",
   "execution_count": 44,
   "id": "4e5dd105",
   "metadata": {},
   "outputs": [],
   "source": [
    "vc[0] = 100"
   ]
  },
  {
   "cell_type": "code",
   "execution_count": 45,
   "id": "635a4bdf",
   "metadata": {},
   "outputs": [
    {
     "data": {
      "text/plain": [
       "array([100,   2,   3])"
      ]
     },
     "execution_count": 45,
     "metadata": {},
     "output_type": "execute_result"
    }
   ],
   "source": [
    "vc"
   ]
  },
  {
   "cell_type": "code",
   "execution_count": 46,
   "id": "c469abf5",
   "metadata": {},
   "outputs": [
    {
     "data": {
      "text/plain": [
       "array([1, 2, 3])"
      ]
     },
     "execution_count": 46,
     "metadata": {},
     "output_type": "execute_result"
    }
   ],
   "source": [
    "va"
   ]
  },
  {
   "cell_type": "markdown",
   "id": "c8d42409",
   "metadata": {},
   "source": [
    "## Calcoli\n",
    "\n",
    "Numpy è estremamente flessibile, e ci permette di usare gli array quasi con le stesse operazioni dei vettori e matrici che conosciamo dall'algebra:"
   ]
  },
  {
   "cell_type": "code",
   "execution_count": 47,
   "id": "cca25499",
   "metadata": {},
   "outputs": [
    {
     "data": {
      "text/plain": [
       "array([5, 9, 7])"
      ]
     },
     "execution_count": 47,
     "metadata": {},
     "output_type": "execute_result"
    }
   ],
   "source": [
    "va = np.array([5,9,7]) \n",
    "va"
   ]
  },
  {
   "cell_type": "code",
   "execution_count": 48,
   "id": "7ad6186b",
   "metadata": {},
   "outputs": [
    {
     "data": {
      "text/plain": [
       "array([6, 8, 0])"
      ]
     },
     "execution_count": 48,
     "metadata": {},
     "output_type": "execute_result"
    }
   ],
   "source": [
    "vb = np.array([6,8,0]) \n",
    "vb"
   ]
  },
  {
   "cell_type": "markdown",
   "id": "950cfd8d",
   "metadata": {},
   "source": [
    "Quando effettuiamo un'operazione algebrica, tipicamente viene creato un NUOVO array:"
   ]
  },
  {
   "cell_type": "code",
   "execution_count": 49,
   "id": "cee120b0",
   "metadata": {},
   "outputs": [
    {
     "data": {
      "text/plain": [
       "array([11, 17,  7])"
      ]
     },
     "execution_count": 49,
     "metadata": {},
     "output_type": "execute_result"
    }
   ],
   "source": [
    "vc = va + vb   \n",
    "vc"
   ]
  },
  {
   "cell_type": "markdown",
   "id": "0854bf73",
   "metadata": {},
   "source": [
    "Notiamo che la somma non ha cambiato gli input:"
   ]
  },
  {
   "cell_type": "code",
   "execution_count": 50,
   "id": "f5affe1c",
   "metadata": {},
   "outputs": [
    {
     "data": {
      "text/plain": [
       "array([5, 9, 7])"
      ]
     },
     "execution_count": 50,
     "metadata": {},
     "output_type": "execute_result"
    }
   ],
   "source": [
    "va"
   ]
  },
  {
   "cell_type": "code",
   "execution_count": 51,
   "id": "23bbcc2c",
   "metadata": {},
   "outputs": [
    {
     "data": {
      "text/plain": [
       "array([6, 8, 0])"
      ]
     },
     "execution_count": 51,
     "metadata": {},
     "output_type": "execute_result"
    }
   ],
   "source": [
    "vb"
   ]
  },
  {
   "cell_type": "markdown",
   "id": "2386f18b",
   "metadata": {},
   "source": [
    "### Moltiplicazione per uno scalare"
   ]
  },
  {
   "cell_type": "code",
   "execution_count": 52,
   "id": "bc94ca40",
   "metadata": {},
   "outputs": [],
   "source": [
    "m = np.array([[5, 9, 7],\n",
    "              [6, 8, 0]])"
   ]
  },
  {
   "cell_type": "code",
   "execution_count": 53,
   "id": "ef369fe1",
   "metadata": {},
   "outputs": [
    {
     "data": {
      "text/plain": [
       "array([[15, 27, 21],\n",
       "       [18, 24,  0]])"
      ]
     },
     "execution_count": 53,
     "metadata": {},
     "output_type": "execute_result"
    }
   ],
   "source": [
    "3 * m"
   ]
  },
  {
   "cell_type": "markdown",
   "id": "3891f479",
   "metadata": {},
   "source": [
    "### Somma di uno scalare"
   ]
  },
  {
   "cell_type": "code",
   "execution_count": 54,
   "id": "89fe6a9a",
   "metadata": {},
   "outputs": [
    {
     "data": {
      "text/plain": [
       "array([[ 8, 12, 10],\n",
       "       [ 9, 11,  3]])"
      ]
     },
     "execution_count": 54,
     "metadata": {},
     "output_type": "execute_result"
    }
   ],
   "source": [
    "3 + m"
   ]
  },
  {
   "cell_type": "markdown",
   "id": "596545d0",
   "metadata": {},
   "source": [
    "### Moltiplicazione\n",
    "\n",
    "Attenzione alla moltiplicazione con `*`, che diversamente dalla moltiplicazione classica tra matrici moltiplica _elemento per elemento_ e richiede quindi matrici di dimensioni identiche:"
   ]
  },
  {
   "cell_type": "code",
   "execution_count": 55,
   "id": "b30aaa2f",
   "metadata": {},
   "outputs": [
    {
     "data": {
      "text/plain": [
       "array([[  1,   0,   3],\n",
       "       [ 40, 100, 180]])"
      ]
     },
     "execution_count": 55,
     "metadata": {},
     "output_type": "execute_result"
    }
   ],
   "source": [
    "ma = np.array([[1,  2,  3],\n",
    "               [10, 20, 30]])\n",
    "\n",
    "mb = np.array([[1,  0,  1],\n",
    "               [4,  5,  6]]) \n",
    "\n",
    "ma * mb"
   ]
  },
  {
   "cell_type": "markdown",
   "id": "a7ce47fe",
   "metadata": {},
   "source": [
    "Se vogliamo la moltiplicazione tra matrici che [troviamo nell'algebra classica](https://it.wikipedia.org/wiki/Moltiplicazione_di_matrici#:~:text=In%20matematica%2C%20e%20pi%C3%B9%20precisamente,luogo%20ad%20un'altra%20matrice.), dobbiamo usare l'operatore `@` facendo attenzione ad avere matrici di dimensioni compatibili:"
   ]
  },
  {
   "cell_type": "code",
   "execution_count": 56,
   "id": "2e825e4d",
   "metadata": {},
   "outputs": [
    {
     "data": {
      "text/plain": [
       "array([[  4,  32],\n",
       "       [ 40, 320]])"
      ]
     },
     "execution_count": 56,
     "metadata": {},
     "output_type": "execute_result"
    }
   ],
   "source": [
    "mc = np.array([[1,  2,  3],\n",
    "               [10, 20, 30]])\n",
    "md = np.array([[1, 4],\n",
    "               [0, 5],\n",
    "               [1, 6]]) \n",
    "\n",
    "mc @ md"
   ]
  },
  {
   "cell_type": "markdown",
   "id": "e7acd39d",
   "metadata": {},
   "source": [
    "### Divisione per uno scalare"
   ]
  },
  {
   "cell_type": "code",
   "execution_count": 57,
   "id": "2f6438f5",
   "metadata": {},
   "outputs": [
    {
     "data": {
      "text/plain": [
       "array([[0.25, 0.5 , 0.  ],\n",
       "       [2.5 , 0.  , 7.5 ]])"
      ]
     },
     "execution_count": 57,
     "metadata": {},
     "output_type": "execute_result"
    }
   ],
   "source": [
    "ma = np.array([[1,  2,  0.0],\n",
    "               [10, 0.0, 30]])\n",
    "\n",
    "ma / 4"
   ]
  },
  {
   "cell_type": "markdown",
   "id": "1d855135",
   "metadata": {},
   "source": [
    "Attenzione che se dividiamo per `0.0`, l'esecuzione del programma continuerà comunque con un warning e ci ritroveremo nella matrice degli strani `nan` e `inf` che tendono poi a creare problemi - vedere al riguardo sezione [Nan e inifinità](#NaN-e-infinit%C3%A0)"
   ]
  },
  {
   "cell_type": "code",
   "execution_count": 58,
   "id": "2e230efd",
   "metadata": {},
   "outputs": [
    {
     "name": "stdout",
     "output_type": "stream",
     "text": [
      "[[inf inf nan]\n",
      " [inf nan inf]]\n",
      "DOPO\n"
     ]
    },
    {
     "name": "stderr",
     "output_type": "stream",
     "text": [
      "/home/da/.local/lib/python3.7/site-packages/ipykernel_launcher.py:1: RuntimeWarning: divide by zero encountered in true_divide\n",
      "  \"\"\"Entry point for launching an IPython kernel.\n",
      "/home/da/.local/lib/python3.7/site-packages/ipykernel_launcher.py:1: RuntimeWarning: invalid value encountered in true_divide\n",
      "  \"\"\"Entry point for launching an IPython kernel.\n"
     ]
    }
   ],
   "source": [
    "print(ma / 0.0)\n",
    "print(\"DOPO\")"
   ]
  },
  {
   "cell_type": "markdown",
   "id": "96bf3c4e",
   "metadata": {},
   "source": [
    "## Aggregazione\n",
    "\n",
    "Numpy fornisce diverse funzioni per calcolare statistiche, noi ne mostriamo solo alcune:"
   ]
  },
  {
   "cell_type": "code",
   "execution_count": 59,
   "id": "dce0526d",
   "metadata": {},
   "outputs": [
    {
     "data": {
      "text/plain": [
       "26"
      ]
     },
     "execution_count": 59,
     "metadata": {},
     "output_type": "execute_result"
    }
   ],
   "source": [
    "m = np.array([[5, 4, 6],\n",
    "              [3, 7, 1]])\n",
    "np.sum(m)"
   ]
  },
  {
   "cell_type": "code",
   "execution_count": 60,
   "id": "760a91fd",
   "metadata": {},
   "outputs": [
    {
     "data": {
      "text/plain": [
       "7"
      ]
     },
     "execution_count": 60,
     "metadata": {},
     "output_type": "execute_result"
    }
   ],
   "source": [
    "np.max(m)   "
   ]
  },
  {
   "cell_type": "code",
   "execution_count": 61,
   "id": "3e272af8",
   "metadata": {},
   "outputs": [
    {
     "data": {
      "text/plain": [
       "1"
      ]
     },
     "execution_count": 61,
     "metadata": {},
     "output_type": "execute_result"
    }
   ],
   "source": [
    "np.min(m)"
   ]
  },
  {
   "cell_type": "markdown",
   "id": "eef0205c",
   "metadata": {},
   "source": [
    "### Aggregazione su riga o colonna"
   ]
  },
  {
   "cell_type": "markdown",
   "id": "afb24510",
   "metadata": {},
   "source": [
    "Aggiungendo il parametro `axis` possiamo indicare di effettuare l'aggregazione su ciascuna colonna (`axis=0`) o riga (`axis=1`):"
   ]
  },
  {
   "cell_type": "code",
   "execution_count": 62,
   "id": "0774bd9d",
   "metadata": {},
   "outputs": [
    {
     "data": {
      "text/plain": [
       "array([5, 7, 6])"
      ]
     },
     "execution_count": 62,
     "metadata": {},
     "output_type": "execute_result"
    }
   ],
   "source": [
    "np.max(m, axis=0)  # il massimo di ogni colonna"
   ]
  },
  {
   "cell_type": "code",
   "execution_count": 63,
   "id": "505138d5",
   "metadata": {},
   "outputs": [
    {
     "data": {
      "text/plain": [
       "array([ 8, 11,  7])"
      ]
     },
     "execution_count": 63,
     "metadata": {},
     "output_type": "execute_result"
    }
   ],
   "source": [
    "np.sum(m, axis=0)   # somma ogni colonna"
   ]
  },
  {
   "cell_type": "code",
   "execution_count": 64,
   "id": "959631ac",
   "metadata": {},
   "outputs": [
    {
     "data": {
      "text/plain": [
       "array([6, 7])"
      ]
     },
     "execution_count": 64,
     "metadata": {},
     "output_type": "execute_result"
    }
   ],
   "source": [
    "np.max(m, axis=1)  # il massimo di ogni riga"
   ]
  },
  {
   "cell_type": "code",
   "execution_count": 65,
   "id": "c2f83c6b",
   "metadata": {},
   "outputs": [
    {
     "data": {
      "text/plain": [
       "array([15, 11])"
      ]
     },
     "execution_count": 65,
     "metadata": {},
     "output_type": "execute_result"
    }
   ],
   "source": [
    "np.sum(m, axis=1)   # somma ogni riga"
   ]
  },
  {
   "cell_type": "markdown",
   "id": "19beb3f2",
   "metadata": {},
   "source": [
    "## Filtrare\n",
    "\n",
    "Numpy mette a disposizione un mini-linguaggio per filtrare i numeri in un array specificando dei criteri di selezione. Vediamo un esempio:"
   ]
  },
  {
   "cell_type": "code",
   "execution_count": 66,
   "id": "6d717e29",
   "metadata": {},
   "outputs": [
    {
     "data": {
      "text/plain": [
       "array([[5, 2, 6],\n",
       "       [1, 4, 3]])"
      ]
     },
     "execution_count": 66,
     "metadata": {},
     "output_type": "execute_result"
    }
   ],
   "source": [
    "mat = np.array([[5, 2, 6],\n",
    "                [1, 4, 3]])\n",
    "mat"
   ]
  },
  {
   "cell_type": "markdown",
   "id": "f9d29826",
   "metadata": {},
   "source": [
    "Supponiamo di voler ottenere un array con tutti i numeri da `mat` che sono maggiori di 2. \n",
    "\n",
    "Possiamo indicare la matrice `mat` su cui volevamo operare, poi _tra parentesi quadre_ indichiamo una specie di condizione booleana, _riusando_ la variabile `mat` così:"
   ]
  },
  {
   "cell_type": "code",
   "execution_count": 67,
   "id": "07e08541",
   "metadata": {},
   "outputs": [
    {
     "data": {
      "text/plain": [
       "array([5, 6, 4, 3])"
      ]
     },
     "execution_count": 67,
     "metadata": {},
     "output_type": "execute_result"
    }
   ],
   "source": [
    "mat[ mat > 2 ]"
   ]
  },
  {
   "cell_type": "markdown",
   "id": "0fa0fd12",
   "metadata": {},
   "source": [
    "Ma esattamente, che cos'è quella strana espressione che abbiamo messo dentro le quadre? Proviamo ad eseguirla da sola:"
   ]
  },
  {
   "cell_type": "code",
   "execution_count": 68,
   "id": "e5ae8ef7",
   "metadata": {},
   "outputs": [
    {
     "data": {
      "text/plain": [
       "array([[ True, False,  True],\n",
       "       [False,  True,  True]])"
      ]
     },
     "execution_count": 68,
     "metadata": {},
     "output_type": "execute_result"
    }
   ],
   "source": [
    "mat > 2"
   ]
  },
  {
   "cell_type": "markdown",
   "id": "2a66336c",
   "metadata": {},
   "source": [
    "Notiamo che ci restituisce una matrice di booleani, che sono veri quando la corrispondente cella nella matrice originale soddisfa la condizione che abbiamo imposto. \n",
    "\n",
    "Mettendo poi questa espressione all'interno di `mat[   ]`  otteniamo i valori della matrice originaria che soddisfano l'espressione:"
   ]
  },
  {
   "cell_type": "code",
   "execution_count": 69,
   "id": "c7d9a857",
   "metadata": {},
   "outputs": [
    {
     "data": {
      "text/plain": [
       "array([5, 6, 4, 3])"
      ]
     },
     "execution_count": 69,
     "metadata": {},
     "output_type": "execute_result"
    }
   ],
   "source": [
    "mat[ mat > 2 ]"
   ]
  },
  {
   "cell_type": "markdown",
   "id": "79e5317e",
   "metadata": {},
   "source": [
    "Non solo, possiamo costruire espressione più complesse usando `&` per la congiunzione logica _and_  e `|` (carattere pipe) per la congiunzione logica _or_:"
   ]
  },
  {
   "cell_type": "code",
   "execution_count": 70,
   "id": "d3993840",
   "metadata": {},
   "outputs": [
    {
     "data": {
      "text/plain": [
       "array([5, 4])"
      ]
     },
     "execution_count": 70,
     "metadata": {},
     "output_type": "execute_result"
    }
   ],
   "source": [
    "mat = np.array([[5, 2, 6],\n",
    "                [1, 4, 3]])\n",
    "mat[(mat > 3) & (mat < 6)]"
   ]
  },
  {
   "cell_type": "code",
   "execution_count": 71,
   "id": "5bc5210f",
   "metadata": {},
   "outputs": [
    {
     "data": {
      "text/plain": [
       "array([5, 6, 1])"
      ]
     },
     "execution_count": 71,
     "metadata": {},
     "output_type": "execute_result"
    }
   ],
   "source": [
    "mat = np.array([[5, 2, 6],\n",
    "                [1, 4, 3]])\n",
    "mat[(mat < 2) | (mat > 4)]"
   ]
  },
  {
   "cell_type": "markdown",
   "id": "af21596b",
   "metadata": {},
   "source": [
    "<div class=\"alert alert-warning\">\n",
    "\n",
    "**ATTENZIONE: RICORDATI LE PARENTESI TONDE TRA LE VARIE ESPRESSIONI!**\n",
    "</div>"
   ]
  },
  {
   "cell_type": "markdown",
   "id": "a95b275a",
   "metadata": {},
   "source": [
    "**ESERCIZIO**: prova a riscrivere le espressioni qua sopra 'dimenticando' le parentesi tonde nelle varie componenti (sinistra/destra/entrambe) e guarda cosa succede. Ottieni errori o risultati diversi da quelli attesi?"
   ]
  },
  {
   "cell_type": "raw",
   "id": "cb962e63",
   "metadata": {
    "format": "text/html"
   },
   "source": [
    "<a  class=\"jupman-sol jupman-sol-toggler\" \n",
    " onclick=\"jupman.toggleSolution(this);\" \n",
    " data-jupman-show=\"Mostra soluzione\" data-jupman-hide=\"Nascondi\">Mostra soluzione</a><div class=\"jupman-sol jupman-sol-code\" style=\"display:none\">  "
   ]
  },
  {
   "cell_type": "code",
   "execution_count": 72,
   "id": "0c3c0455",
   "metadata": {},
   "outputs": [
    {
     "name": "stdout",
     "output_type": "stream",
     "text": [
      "[5 2 6 1 4 3]\n",
      "[5 2 6 4 3]\n"
     ]
    }
   ],
   "source": [
    "\n",
    "mat = np.array([[5, 2, 6],\n",
    "                [1, 4, 3]])\n",
    "\n",
    "# scrivi qui\n",
    "print(  mat[(mat > 3) & mat < 6]  )\n",
    "print(  mat[mat > 3 & (mat < 6)]    )\n",
    "#print(  mat[mat > 3 & mat < 6]      )\n",
    "# l'ultimo produce:\n",
    "# ---------------------------------------------------------------------------\n",
    "# ValueError                                Traceback (most recent call last)\n",
    "# <ipython-input-212-33c5a083b265> in <module>\n",
    "#       3 print(  mat[(mat > 3) & mat < 6]  )\n",
    "#       4 print(  mat[mat > 3 & (mat < 6)]    )\n",
    "# ----> 5 print(  mat[mat > 3 & mat < 6]      )\n",
    "\n",
    "# ValueError: The truth value of an array with more than one element is ambiguous. Use a.any() or a.all()"
   ]
  },
  {
   "cell_type": "raw",
   "id": "f26ff3d7",
   "metadata": {
    "format": "text/html"
   },
   "source": [
    "</div>"
   ]
  },
  {
   "cell_type": "code",
   "execution_count": 72,
   "id": "0c3c0455-stripped",
   "metadata": {},
   "outputs": [],
   "source": [
    "\n",
    "mat = np.array([[5, 2, 6],\n",
    "                [1, 4, 3]])\n",
    "\n",
    "# scrivi qui\n",
    "\n"
   ]
  },
  {
   "cell_type": "markdown",
   "id": "3621b30f",
   "metadata": {},
   "source": [
    "<div class=\"alert alert-warning\">\n",
    "\n",
    "**ATTENZIONE**:  `and` **E** `or` **NON FUNZIONANO!**\n",
    "</div>"
   ]
  },
  {
   "cell_type": "markdown",
   "id": "e85bbc3d",
   "metadata": {},
   "source": [
    "**ESERCIZIO**: prova a riscrivere le espressioni qua sopra sostituendo `&` con `and`  e `|` con `or` e guarda cosa succede. Ottieni errori o risultati diversi da quelli attesi?"
   ]
  },
  {
   "cell_type": "raw",
   "id": "8e8992cc",
   "metadata": {
    "format": "text/html"
   },
   "source": [
    "<a  class=\"jupman-sol jupman-sol-toggler\" \n",
    " onclick=\"jupman.toggleSolution(this);\" \n",
    " data-jupman-show=\"Mostra soluzione\" data-jupman-hide=\"Nascondi\">Mostra soluzione</a><div class=\"jupman-sol jupman-sol-code\" style=\"display:none\">  "
   ]
  },
  {
   "cell_type": "code",
   "execution_count": 73,
   "id": "9385a21b",
   "metadata": {},
   "outputs": [],
   "source": [
    "\n",
    "mat = np.array([[5, 2, 6],\n",
    "                [1, 4, 3]])\n",
    "\n",
    "# scrivi qui\n",
    "#print(  mat[(mat > 3) and (mat < 6) ]  )\n",
    "#---------------------------------------------------------------------------\n",
    "#ValueError                                Traceback (most recent call last)\n",
    "#<ipython-input-218-3edf025af7c0> in <module>\n",
    "#      4 \n",
    "#      5 # scrivi qui\n",
    "#----> 6 print(  mat[(mat > 3) and (mat < 6) ]  )     \n",
    "\n",
    "#ValueError: The truth value of an array with more than one element is ambiguous. Use a.any() or a.all()\n",
    "\n",
    "#print(  mat[(mat > 3) or (mat < 6)]    )\n",
    "#---------------------------------------------------------------------------\n",
    "#ValueError                                Traceback (most recent call last)\n",
    "#<ipython-input-219-192c022d9d87> in <module>\n",
    "#     16 \n",
    "#     17 \n",
    "#---> 18 print(  mat[(mat > 3) or (mat < 6)]    )\n",
    "\n",
    "#ValueError: The truth value of an array with more than one element is ambiguous. Use a.any() or a.all()"
   ]
  },
  {
   "cell_type": "raw",
   "id": "a7a46f0f",
   "metadata": {
    "format": "text/html"
   },
   "source": [
    "</div>"
   ]
  },
  {
   "cell_type": "code",
   "execution_count": 73,
   "id": "9385a21b-stripped",
   "metadata": {},
   "outputs": [],
   "source": [
    "\n",
    "mat = np.array([[5, 2, 6],\n",
    "                [1, 4, 3]])\n",
    "\n",
    "# scrivi qui\n",
    "\n"
   ]
  },
  {
   "cell_type": "markdown",
   "id": "73b085c3",
   "metadata": {},
   "source": [
    "### Trovare indici con `np.where`\n",
    "\n",
    "Abbiamo visto come trovare il contenuto delle celle per cui una condizione è soddisfatta. E se volessimo trovare gli _indici_ di quelle celle?  In quel caso useremmo la funzione `np.where`, passandogli come parametro la condizione espressa nello stesso linguaggio che abbiamo già usato prima."
   ]
  },
  {
   "cell_type": "markdown",
   "id": "13990077",
   "metadata": {},
   "source": [
    "Per esempio, se volessimo trovare gli _indici_ delle celle che contengono numeri minori di 40 o maggiori di 60 scriveremmo così:"
   ]
  },
  {
   "cell_type": "code",
   "execution_count": 74,
   "id": "ffb17845",
   "metadata": {},
   "outputs": [
    {
     "data": {
      "text/plain": [
       "(array([0, 2, 3, 5]),)"
      ]
     },
     "execution_count": 74,
     "metadata": {},
     "output_type": "execute_result"
    }
   ],
   "source": [
    "             #0  1  2  3  4  5\n",
    "v = np.array([30,60,20,70,40,80])\n",
    "\n",
    "np.where((v < 40) | (v > 60))"
   ]
  },
  {
   "cell_type": "markdown",
   "id": "d00bc604",
   "metadata": {},
   "source": [
    "### Scrivere in celle che soddisfano una condizione\n",
    "\n",
    "Possiamo usare `np.where` per sostituire i valori nelle celle che soddisfano una condizione con altri valori che saranno indicati in due matrici extra `ma` e `mb`. Nel caso la condizione sia soddisfatta, verrà preso un corrispondente valore da `ma`, altrimenti da `mb`."
   ]
  },
  {
   "cell_type": "code",
   "execution_count": 75,
   "id": "ccfbe29f",
   "metadata": {},
   "outputs": [
    {
     "data": {
      "text/plain": [
       "array([[  1,  -2,   3,  -4],\n",
       "       [  5,   6,  -7,   8],\n",
       "       [  9, -10, -11, -12]])"
      ]
     },
     "execution_count": 75,
     "metadata": {},
     "output_type": "execute_result"
    }
   ],
   "source": [
    "ma = np.array([\n",
    "    [ 1, 2, 3, 4],\n",
    "    [ 5, 6, 7, 8],\n",
    "    [ 9,10,11,12]\n",
    "])\n",
    "\n",
    "mb = np.array([\n",
    "    [ -1, -2, -3, -4],\n",
    "    [ -5, -6, -7, -8],\n",
    "    [ -9,-10,-11,-12]\n",
    "])\n",
    "\n",
    "\n",
    "mat = np.array([\n",
    "    [40,70,10,80],\n",
    "    [20,30,60,40],\n",
    "    [10,60,80,90]\n",
    "])\n",
    "\n",
    "np.where(mat < 50, ma, mb) "
   ]
  },
  {
   "cell_type": "markdown",
   "id": "8c73fbb9",
   "metadata": {},
   "source": [
    "## Sequenze arange e linspace\n",
    "\n",
    "La funzione standard `range` Python non permette incrementi con la virgola, che possiamo invece ottenere costruendo sequenze di numeri float con `np.arange`, specificando limite sinistro (**incluso**), destro (**escluso**) e l'incremento: "
   ]
  },
  {
   "cell_type": "code",
   "execution_count": 76,
   "id": "e67664fd",
   "metadata": {},
   "outputs": [
    {
     "data": {
      "text/plain": [
       "array([0. , 0.2, 0.4, 0.6, 0.8])"
      ]
     },
     "execution_count": 76,
     "metadata": {},
     "output_type": "execute_result"
    }
   ],
   "source": [
    "np.arange(0.0, 1.0, 0.2)"
   ]
  },
  {
   "cell_type": "markdown",
   "id": "7ca10ae4",
   "metadata": {},
   "source": [
    "Alternativamente, possiamo usare `np.linspace`, che prende un limite sinistro **incluso**, un limite destro questa volta **incluso**, e il **numero di ripartizioni** in cui suddividere questo spazio:"
   ]
  },
  {
   "cell_type": "code",
   "execution_count": 77,
   "id": "b202b495",
   "metadata": {},
   "outputs": [
    {
     "data": {
      "text/plain": [
       "array([0. , 0.2, 0.4, 0.6, 0.8])"
      ]
     },
     "execution_count": 77,
     "metadata": {},
     "output_type": "execute_result"
    }
   ],
   "source": [
    "np.linspace(0, 0.8, 5)"
   ]
  },
  {
   "cell_type": "code",
   "execution_count": 78,
   "id": "98458644",
   "metadata": {},
   "outputs": [
    {
     "data": {
      "text/plain": [
       "array([0.        , 0.08888889, 0.17777778, 0.26666667, 0.35555556,\n",
       "       0.44444444, 0.53333333, 0.62222222, 0.71111111, 0.8       ])"
      ]
     },
     "execution_count": 78,
     "metadata": {},
     "output_type": "execute_result"
    }
   ],
   "source": [
    "np.linspace(0, 0.8, 10)"
   ]
  },
  {
   "cell_type": "markdown",
   "id": "5615cfb8",
   "metadata": {},
   "source": [
    "## NaN e infinità\n",
    "\n",
    "I numeri float possono essere numeri,  _non numeri_ , e anche _infinità_ . A volte durante i calcoli accadono condizioni estreme, come per esempio dividere un numero enorme per un numero enorme. In tali casi, potresti finire con un float particolare che è il temuto _Not a Number_ , _NaN_ in breve, o potresti ottenere una _infinità_ . Questo potrebbe portare a comportamenti imprevedibili, perciò devi saper riconoscere situazioni potenzialmente problematiche. Esempi:"
   ]
  },
  {
   "cell_type": "code",
   "execution_count": 79,
   "id": "4b1d82e1",
   "metadata": {},
   "outputs": [
    {
     "data": {
      "text/plain": [
       "inf"
      ]
     },
     "execution_count": 79,
     "metadata": {},
     "output_type": "execute_result"
    }
   ],
   "source": [
    "10e99999999999999999999999"
   ]
  },
  {
   "cell_type": "code",
   "execution_count": 80,
   "id": "4b8bbe35",
   "metadata": {},
   "outputs": [
    {
     "data": {
      "text/plain": [
       "nan"
      ]
     },
     "execution_count": 80,
     "metadata": {},
     "output_type": "execute_result"
    }
   ],
   "source": [
    "10e99999999999999999999999 / 10e99999999999999999999999"
   ]
  },
  {
   "cell_type": "markdown",
   "id": "7560311c",
   "metadata": {},
   "source": [
    "I comportamenti descritti in seguito sono dettati dallo standard IEEE per l'Aritmetica in virgola mobile binaria (IEEE 754) usato da Numpy e che è implementato in tutti i processori ( _CPU_ ), perciò di fatto riguarda _tutti_ i linguaggi di programmazione."
   ]
  },
  {
   "cell_type": "markdown",
   "id": "415631a4",
   "metadata": {},
   "source": [
    "### NaN\n",
    "\n",
    "NaN significa _Non è un Numero_. Che è già un nome poco chiaro, visto che il NaN in realtà è un membro molto speciale dei floats, con questa stupefacente proprietà:"
   ]
  },
  {
   "cell_type": "markdown",
   "id": "44223373",
   "metadata": {},
   "source": [
    "<div class=\"alert alert-warning\">\n",
    "\n",
    "**NaN NON E' UGUALE A SE' STESSO !!!**\n",
    "\n",
    "Hai letto bene, NaN davvero _non_ è uguale a sè stesso.\n",
    "\n",
    "</div>\n",
    "\n",
    "Sappiamo che la tua mente vuole rifiutare questa nozione, ma la confermeremo a breve.\n",
    "\n",
    "Per ottenere un NaN, puoi usare il modulo Python `math` che contiene questo oggetto alieno:\n"
   ]
  },
  {
   "cell_type": "code",
   "execution_count": 81,
   "id": "b099ce06",
   "metadata": {},
   "outputs": [
    {
     "data": {
      "text/plain": [
       "nan"
      ]
     },
     "execution_count": 81,
     "metadata": {},
     "output_type": "execute_result"
    }
   ],
   "source": [
    "import math\n",
    "math.nan    # nota che stampa 'nan' con n minuscolo"
   ]
  },
  {
   "cell_type": "markdown",
   "id": "ec5ebc2b",
   "metadata": {},
   "source": [
    "Come detto, un NaN è considerato un `float`:"
   ]
  },
  {
   "cell_type": "code",
   "execution_count": 82,
   "id": "53582f8c",
   "metadata": {},
   "outputs": [
    {
     "data": {
      "text/plain": [
       "float"
      ]
     },
     "execution_count": 82,
     "metadata": {},
     "output_type": "execute_result"
    }
   ],
   "source": [
    "type(math.nan)"
   ]
  },
  {
   "cell_type": "markdown",
   "id": "f4d701d3",
   "metadata": {},
   "source": [
    "Eppure, si comporta molto diversamente dai suoi compagni float, o da ogni altro oggetto nell'universo conosciuto:"
   ]
  },
  {
   "cell_type": "code",
   "execution_count": 83,
   "id": "2574a75d",
   "metadata": {},
   "outputs": [
    {
     "data": {
      "text/plain": [
       "False"
      ]
     },
     "execution_count": 83,
     "metadata": {},
     "output_type": "execute_result"
    }
   ],
   "source": [
    "math.nan == math.nan   # Eh ????"
   ]
  },
  {
   "cell_type": "markdown",
   "id": "582e32cb",
   "metadata": {},
   "source": [
    "### Rilevare i NaN\n",
    "\n",
    "Detto quanto sopra, se vuoi controllare quando una variabile `x` è un NaN, _non_ puoi scrivere così:"
   ]
  },
  {
   "cell_type": "code",
   "execution_count": 84,
   "id": "640f58aa",
   "metadata": {},
   "outputs": [
    {
     "name": "stdout",
     "output_type": "stream",
     "text": [
      "x è qualcos'altro ??\n"
     ]
    }
   ],
   "source": [
    "x = math.nan\n",
    "if x == math.nan:  # SBAGLIATO\n",
    "    print(\"Sono un NaN \")\n",
    "else:\n",
    "    print(\"x è qualcos'altro ??\")"
   ]
  },
  {
   "cell_type": "markdown",
   "id": "c75272e7",
   "metadata": {},
   "source": [
    "Per gestire correttamente questa situazione, devi usare la funzione `math.isnan`:"
   ]
  },
  {
   "cell_type": "code",
   "execution_count": 85,
   "id": "f6aa7ac3",
   "metadata": {},
   "outputs": [
    {
     "name": "stdout",
     "output_type": "stream",
     "text": [
      "x è un NaN \n"
     ]
    }
   ],
   "source": [
    "x = math.nan\n",
    "if math.isnan(x):  # CORRETTO\n",
    "    print(\"x è un NaN \")\n",
    "else:\n",
    "    print(\"x è qualcos'altro ??\")"
   ]
  },
  {
   "cell_type": "markdown",
   "id": "bc6e171d",
   "metadata": {},
   "source": [
    "Nota che `math.isnan` funziona anche con NaN _negativi_:"
   ]
  },
  {
   "cell_type": "code",
   "execution_count": 86,
   "id": "6a30d425",
   "metadata": {},
   "outputs": [
    {
     "name": "stdout",
     "output_type": "stream",
     "text": [
      "y è un NaN \n"
     ]
    }
   ],
   "source": [
    "y = -math.nan\n",
    "if math.isnan(y):  # CORRETTO\n",
    "    print(\"y è un NaN \")\n",
    "else:\n",
    "    print(\"y è quacos'altro ??\")"
   ]
  },
  {
   "cell_type": "markdown",
   "id": "b8c55968",
   "metadata": {},
   "source": [
    "### Sequenze con i NaN\n",
    "\n",
    "Per fortuna, non tutto è completamente assurdo. Se compari sequenze che contengono NaN ad altre, ottieni risultati ragionevoli:"
   ]
  },
  {
   "cell_type": "code",
   "execution_count": 87,
   "id": "9c8bf98a",
   "metadata": {},
   "outputs": [
    {
     "data": {
      "text/plain": [
       "True"
      ]
     },
     "execution_count": 87,
     "metadata": {},
     "output_type": "execute_result"
    }
   ],
   "source": [
    "[math.nan, math.nan] == [math.nan, math.nan]"
   ]
  },
  {
   "cell_type": "code",
   "execution_count": 88,
   "id": "2ddef8e2",
   "metadata": {},
   "outputs": [
    {
     "data": {
      "text/plain": [
       "False"
      ]
     },
     "execution_count": 88,
     "metadata": {},
     "output_type": "execute_result"
    }
   ],
   "source": [
    "[math.nan, math.nan] == [math.nan, 5.0]"
   ]
  },
  {
   "cell_type": "markdown",
   "id": "649630d1",
   "metadata": {},
   "source": [
    "### Esercizio - NaN due variabili\n",
    "\n",
    "Date due variabili `x` e `y`, scrivi del codice che stampa `\"stessa cosa\"` quando sono lo stesso, _anche_ quando sono `NaN`. Altrimenti, stampa `\"non sono la stessa cosa\"`"
   ]
  },
  {
   "cell_type": "raw",
   "id": "14bc0e68",
   "metadata": {
    "format": "text/html"
   },
   "source": [
    "<a  class=\"jupman-sol jupman-sol-toggler\" \n",
    " onclick=\"jupman.toggleSolution(this);\" \n",
    " data-jupman-show=\"Mostra soluzione\" data-jupman-hide=\"Nascondi\">Mostra soluzione</a><div class=\"jupman-sol jupman-sol-code\" style=\"display:none\">  "
   ]
  },
  {
   "cell_type": "code",
   "execution_count": 89,
   "id": "20416d57",
   "metadata": {},
   "outputs": [
    {
     "name": "stdout",
     "output_type": "stream",
     "text": [
      "stessa cosa\n"
     ]
    }
   ],
   "source": [
    "import math \n",
    "\n",
    "# output atteso: stessa cosa\n",
    "x = math.nan\n",
    "y = math.nan\n",
    "\n",
    "# output atteso: non sono la stessa cosa\n",
    "#x = 3\n",
    "#y = math.nan\n",
    "\n",
    "# output atteso: non sono la stessa cosa\n",
    "#x = math.nan\n",
    "#y = 5\n",
    "\n",
    "# output atteso: non sono la stessa cosa\n",
    "#x = 2\n",
    "#y = 7\n",
    "\n",
    "# output atteso: stessa cosa\n",
    "#x = 4\n",
    "#y = 4\n",
    "\n",
    "# scrivi qui\n",
    "if math.isnan(x) and math.isnan(y):\n",
    "    print('stessa cosa')\n",
    "elif x == y:\n",
    "    print('stessa cosa')\n",
    "else:\n",
    "    print('non sono la stessa cosa')"
   ]
  },
  {
   "cell_type": "raw",
   "id": "f6546419",
   "metadata": {
    "format": "text/html"
   },
   "source": [
    "</div>"
   ]
  },
  {
   "cell_type": "code",
   "execution_count": 89,
   "id": "20416d57-stripped",
   "metadata": {},
   "outputs": [
    {
     "name": "stdout",
     "output_type": "stream",
     "text": [
      "stessa cosa\n"
     ]
    }
   ],
   "source": [
    "import math \n",
    "\n",
    "# output atteso: stessa cosa\n",
    "x = math.nan\n",
    "y = math.nan\n",
    "\n",
    "# output atteso: non sono la stessa cosa\n",
    "#x = 3\n",
    "#y = math.nan\n",
    "\n",
    "# output atteso: non sono la stessa cosa\n",
    "#x = math.nan\n",
    "#y = 5\n",
    "\n",
    "# output atteso: non sono la stessa cosa\n",
    "#x = 2\n",
    "#y = 7\n",
    "\n",
    "# output atteso: stessa cosa\n",
    "#x = 4\n",
    "#y = 4\n",
    "\n",
    "# scrivi qui\n",
    "\n"
   ]
  },
  {
   "cell_type": "markdown",
   "id": "690f2ac4",
   "metadata": {},
   "source": [
    "### Operazioni sui NaN\n",
    "\n",
    "Qualunque operazione sui NaN genera un altro NaN:"
   ]
  },
  {
   "cell_type": "code",
   "execution_count": 90,
   "id": "ee9054a9",
   "metadata": {},
   "outputs": [
    {
     "data": {
      "text/plain": [
       "nan"
      ]
     },
     "execution_count": 90,
     "metadata": {},
     "output_type": "execute_result"
    }
   ],
   "source": [
    "5 * math.nan"
   ]
  },
  {
   "cell_type": "code",
   "execution_count": 91,
   "id": "4fdc55d4",
   "metadata": {},
   "outputs": [
    {
     "data": {
      "text/plain": [
       "nan"
      ]
     },
     "execution_count": 91,
     "metadata": {},
     "output_type": "execute_result"
    }
   ],
   "source": [
    "math.nan + math.nan"
   ]
  },
  {
   "cell_type": "code",
   "execution_count": 92,
   "id": "efbfc6eb",
   "metadata": {},
   "outputs": [
    {
     "data": {
      "text/plain": [
       "nan"
      ]
     },
     "execution_count": 92,
     "metadata": {},
     "output_type": "execute_result"
    }
   ],
   "source": [
    "math.nan / math.nan"
   ]
  },
  {
   "cell_type": "markdown",
   "id": "e864b695",
   "metadata": {},
   "source": [
    "\n",
    "L'unica cosa che non puoi fare è dividere per zero un NaN 'fuori scatola':"
   ]
  },
  {
   "cell_type": "markdown",
   "id": "a2bd46df",
   "metadata": {},
   "source": [
    "```python\n",
    "math.nan / 0\n",
    "```\n",
    "\n",
    "```python\n",
    "---------------------------------------------------------------------------\n",
    "ZeroDivisionError                         Traceback (most recent call last)\n",
    "<ipython-input-94-1da38377fac4> in <module>\n",
    "----> 1 math.nan / 0\n",
    "\n",
    "ZeroDivisionError: float division by zero\n",
    "```"
   ]
  },
  {
   "cell_type": "markdown",
   "id": "0547ea26",
   "metadata": {},
   "source": [
    "NaN corrisponde al valore logico booleano `True`:"
   ]
  },
  {
   "cell_type": "code",
   "execution_count": 93,
   "id": "aa2e57c5",
   "metadata": {},
   "outputs": [
    {
     "name": "stdout",
     "output_type": "stream",
     "text": [
      "That's True\n"
     ]
    }
   ],
   "source": [
    "if math.nan: \n",
    "    print(\"That's True\")"
   ]
  },
  {
   "cell_type": "markdown",
   "id": "3e87395c",
   "metadata": {},
   "source": [
    "### I NaN e Numpy\n",
    "\n",
    "Quando usi Numpy è abbastanza probabile incontrare NaN, al punto che sono ridefiniti dentro Numpy - ma di fatto sono esattamente gli stessi che nel modulo `math`:"
   ]
  },
  {
   "cell_type": "code",
   "execution_count": 94,
   "id": "34d884e7",
   "metadata": {},
   "outputs": [
    {
     "data": {
      "text/plain": [
       "nan"
      ]
     },
     "execution_count": 94,
     "metadata": {},
     "output_type": "execute_result"
    }
   ],
   "source": [
    "np.nan"
   ]
  },
  {
   "cell_type": "code",
   "execution_count": 95,
   "id": "f7da14f1",
   "metadata": {},
   "outputs": [
    {
     "data": {
      "text/plain": [
       "True"
      ]
     },
     "execution_count": 95,
     "metadata": {},
     "output_type": "execute_result"
    }
   ],
   "source": [
    "math.isnan(np.nan)"
   ]
  },
  {
   "cell_type": "code",
   "execution_count": 96,
   "id": "e2d28e8f",
   "metadata": {},
   "outputs": [
    {
     "data": {
      "text/plain": [
       "True"
      ]
     },
     "execution_count": 96,
     "metadata": {},
     "output_type": "execute_result"
    }
   ],
   "source": [
    "np.isnan(math.nan)"
   ]
  },
  {
   "cell_type": "markdown",
   "id": "fb02231d",
   "metadata": {},
   "source": [
    "In Numpy quando hai numeri sconosciuti potresti essere tentato di mettere un `None`. Puoi anche farlo, ma guarda attentamente il risultato:"
   ]
  },
  {
   "cell_type": "code",
   "execution_count": 97,
   "id": "ea9d9077",
   "metadata": {},
   "outputs": [
    {
     "data": {
      "text/plain": [
       "array([4.9, None, 3.2, 5.1], dtype=object)"
      ]
     },
     "execution_count": 97,
     "metadata": {},
     "output_type": "execute_result"
    }
   ],
   "source": [
    "import numpy as np\n",
    "np.array([4.9,None,3.2,5.1])"
   ]
  },
  {
   "cell_type": "markdown",
   "id": "48bce46f",
   "metadata": {},
   "source": [
    "L'array risultante _non_ è un array di float64 che permette calcoli veloci, invece è un array che contiene generici _object_ , perchè Numpy assume che l'array contenga dati eterogenei. Perciò quello che guadagni in generalità lo perdi in performance, che dovrebbe essere il motivo principale di usare Numpy.\n",
    "\n",
    "Per quanto appaiano strani, i NaN sono considerati come dei `float`  e quindi possono essere salvati nell'array:"
   ]
  },
  {
   "cell_type": "code",
   "execution_count": 98,
   "id": "7009fca0",
   "metadata": {},
   "outputs": [
    {
     "data": {
      "text/plain": [
       "array([4.9, nan, 3.2, 5.1])"
      ]
     },
     "execution_count": 98,
     "metadata": {},
     "output_type": "execute_result"
    }
   ],
   "source": [
    "np.array([4.9,np.nan,3.2,5.1])   # NOTA: il `dtype=object` è sparito"
   ]
  },
  {
   "cell_type": "markdown",
   "id": "f6042f47",
   "metadata": {},
   "source": [
    "\n",
    "### Dove sono i NaN ?\n",
    "\n",
    "Vediamo dove possiamo incontrare dei NaN e altri oggetti strani come le infinità."
   ]
  },
  {
   "cell_type": "markdown",
   "id": "908459ba",
   "metadata": {},
   "source": [
    "Prima, controlliamo cosa succede quando chiamiamo la funzione `log` del modulo standard `math`. Dalle lezioni di matematica, sappiamo che la funzione `log` si comporta così:\n",
    "\n",
    "* $x < 0$: non definita\n",
    "* $x = 0$: tende a meno infinito\n",
    "* $x > 0$: definita\n",
    "\n",
    "![log function u9u9u9](img/log.png)\n",
    "\n",
    "Perciò possiamo chiederci cosa succede se gli passiamo un valore per il quale non è definita. Proviamo prima con `math.log` della libreria standard di Python:"
   ]
  },
  {
   "cell_type": "markdown",
   "id": "ff176ff6",
   "metadata": {},
   "source": [
    "```python\n",
    ">>> math.log(-1)\n",
    "```\n",
    "```python\n",
    "ValueError                                Traceback (most recent call last)\n",
    "<ipython-input-38-d6e02ba32da6> in <module>\n",
    "----> 1 math.log(-1)\n",
    "\n",
    "ValueError: math domain error\n",
    "```"
   ]
  },
  {
   "cell_type": "markdown",
   "id": "bd0ccbed",
   "metadata": {},
   "source": [
    "In questo caso viene sollevato `ValueError` **e l'esecuzione viene interrotta**.\n",
    "\n",
    "Vediamo ora l'equivalente in Numpy:"
   ]
  },
  {
   "cell_type": "code",
   "execution_count": 99,
   "id": "33abe666",
   "metadata": {},
   "outputs": [
    {
     "name": "stderr",
     "output_type": "stream",
     "text": [
      "/home/da/.local/lib/python3.7/site-packages/ipykernel_launcher.py:1: RuntimeWarning: invalid value encountered in log\n",
      "  \"\"\"Entry point for launching an IPython kernel.\n"
     ]
    },
    {
     "data": {
      "text/plain": [
       "nan"
      ]
     },
     "execution_count": 99,
     "metadata": {},
     "output_type": "execute_result"
    }
   ],
   "source": [
    "np.log(-1)"
   ]
  },
  {
   "cell_type": "markdown",
   "id": "51d94118",
   "metadata": {},
   "source": [
    "In questo caso **abbiamo ottenuto come risultato** `np.nan`, quindi l'esecuzione non si è interrotta, Jupyter ci ha solo informato con una stampa addizionale che abbiamo compiuto qualcosa di pericoloso. \n",
    "\n",
    "Quando incontra calcoli pericolosi, Numpy di default effettua in ogni caso il calcolo e salva il risultato come NaN o altri oggetti limite. Questo vale anche per i calcoli sugli array:"
   ]
  },
  {
   "cell_type": "code",
   "execution_count": 100,
   "id": "96a56011",
   "metadata": {
    "scrolled": false
   },
   "outputs": [
    {
     "name": "stderr",
     "output_type": "stream",
     "text": [
      "/home/da/.local/lib/python3.7/site-packages/ipykernel_launcher.py:1: RuntimeWarning: invalid value encountered in log\n",
      "  \"\"\"Entry point for launching an IPython kernel.\n"
     ]
    },
    {
     "data": {
      "text/plain": [
       "array([1.09861229, 1.94591015,        nan, 2.19722458])"
      ]
     },
     "execution_count": 100,
     "metadata": {},
     "output_type": "execute_result"
    }
   ],
   "source": [
    "np.log(np.array([3,7,-1,9]))"
   ]
  },
  {
   "cell_type": "markdown",
   "id": "dc71ef86",
   "metadata": {},
   "source": [
    "### Infinità\n",
    "\n",
    "Come abbiamo detto in precedenza, Numpy usa lo standard IEEE per l'aritmetica binaria in virgola mobile (IEEE 754). Dato che qualcuno all'IEEE ha deciso di racchiudere i misteri dell'infinito nei numeri float, abbiamo ancora un'altro cittadino da considerare quando facciamo calcoli (per altre informazioni, vedere [Numpy documentation on constants](https://numpy.org/devdocs/reference/constants.html)):"
   ]
  },
  {
   "cell_type": "markdown",
   "id": "c52cf7b3",
   "metadata": {},
   "source": [
    "### Infinità positiva `np.inf`"
   ]
  },
  {
   "cell_type": "code",
   "execution_count": 101,
   "id": "3dcde09e",
   "metadata": {},
   "outputs": [
    {
     "name": "stderr",
     "output_type": "stream",
     "text": [
      "/home/da/.local/lib/python3.7/site-packages/ipykernel_launcher.py:1: RuntimeWarning: divide by zero encountered in true_divide\n",
      "  \"\"\"Entry point for launching an IPython kernel.\n"
     ]
    },
    {
     "data": {
      "text/plain": [
       "array([inf])"
      ]
     },
     "execution_count": 101,
     "metadata": {},
     "output_type": "execute_result"
    }
   ],
   "source": [
    " np.array( [ 5 ] ) / 0"
   ]
  },
  {
   "cell_type": "code",
   "execution_count": 102,
   "id": "df2d922c",
   "metadata": {},
   "outputs": [
    {
     "name": "stderr",
     "output_type": "stream",
     "text": [
      "/home/da/.local/lib/python3.7/site-packages/ipykernel_launcher.py:1: RuntimeWarning: divide by zero encountered in true_divide\n",
      "  \"\"\"Entry point for launching an IPython kernel.\n"
     ]
    },
    {
     "data": {
      "text/plain": [
       "array([3.  ,  inf,  inf, 1.75])"
      ]
     },
     "execution_count": 102,
     "metadata": {},
     "output_type": "execute_result"
    }
   ],
   "source": [
    "np.array( [ 6,9,5,7 ] ) / np.array( [ 2,0,0,4 ] )"
   ]
  },
  {
   "cell_type": "markdown",
   "id": "991b7259",
   "metadata": {},
   "source": [
    "Attenzione che: \n",
    "\n",
    "- Not a Number **non** è equivalente  all'infinità\n",
    "- l'infinità positiva **non** è equivalente all'infinità negativa\n",
    "- l'infinità è equivalente all'infinità positiva"
   ]
  },
  {
   "cell_type": "markdown",
   "id": "33ddd3ad",
   "metadata": {},
   "source": [
    "Per fortuna, l'infinità è equivalente all'infinità:"
   ]
  },
  {
   "cell_type": "code",
   "execution_count": 103,
   "id": "3f51542e",
   "metadata": {},
   "outputs": [
    {
     "data": {
      "text/plain": [
       "True"
      ]
     },
     "execution_count": 103,
     "metadata": {},
     "output_type": "execute_result"
    }
   ],
   "source": [
    "np.inf == np.inf"
   ]
  },
  {
   "cell_type": "markdown",
   "id": "8124511b",
   "metadata": {},
   "source": [
    "perciò possiamo in sicurezza equiparare due infinità con `==`:"
   ]
  },
  {
   "cell_type": "code",
   "execution_count": 104,
   "id": "7c911a15",
   "metadata": {},
   "outputs": [
    {
     "name": "stdout",
     "output_type": "stream",
     "text": [
      "x è infinito\n"
     ]
    }
   ],
   "source": [
    "x = np.inf\n",
    " \n",
    "if x == np.inf:\n",
    "    print(\"x è infinito\")\n",
    "else:\n",
    "    print(\"x è finito\")"
   ]
  },
  {
   "cell_type": "markdown",
   "id": "98f75146",
   "metadata": {},
   "source": [
    "Alternativamente, possiamo usare la funzione `np.isinf`: "
   ]
  },
  {
   "cell_type": "code",
   "execution_count": 105,
   "id": "4d900474",
   "metadata": {},
   "outputs": [
    {
     "data": {
      "text/plain": [
       "True"
      ]
     },
     "execution_count": 105,
     "metadata": {},
     "output_type": "execute_result"
    }
   ],
   "source": [
    "np.isinf(np.inf)"
   ]
  },
  {
   "cell_type": "markdown",
   "id": "09e2a321",
   "metadata": {},
   "source": [
    "### Infinità negativa\n",
    "\n",
    "Possiamo anche avere un'infinità negativa, che è differente dall'inifinità positiva:"
   ]
  },
  {
   "cell_type": "code",
   "execution_count": 106,
   "id": "2bbef5c2",
   "metadata": {},
   "outputs": [
    {
     "data": {
      "text/plain": [
       "False"
      ]
     },
     "execution_count": 106,
     "metadata": {},
     "output_type": "execute_result"
    }
   ],
   "source": [
    "-np.inf == np.inf"
   ]
  },
  {
   "cell_type": "markdown",
   "id": "33017422",
   "metadata": {},
   "source": [
    "Nota che `isinf` può rilevare sia infinità positive che negative:"
   ]
  },
  {
   "cell_type": "code",
   "execution_count": 107,
   "id": "2ce99766",
   "metadata": {},
   "outputs": [
    {
     "data": {
      "text/plain": [
       "True"
      ]
     },
     "execution_count": 107,
     "metadata": {},
     "output_type": "execute_result"
    }
   ],
   "source": [
    "np.isinf(-np.inf)"
   ]
  },
  {
   "cell_type": "markdown",
   "id": "40e34147",
   "metadata": {},
   "source": [
    "Per rilevare specificamente un'infinità negativa dei usare `isneginf`:"
   ]
  },
  {
   "cell_type": "code",
   "execution_count": 108,
   "id": "6a76914a",
   "metadata": {},
   "outputs": [
    {
     "data": {
      "text/plain": [
       "True"
      ]
     },
     "execution_count": 108,
     "metadata": {},
     "output_type": "execute_result"
    }
   ],
   "source": [
    "np.isneginf(-np.inf)"
   ]
  },
  {
   "cell_type": "code",
   "execution_count": 109,
   "id": "a33818de",
   "metadata": {},
   "outputs": [
    {
     "data": {
      "text/plain": [
       "False"
      ]
     },
     "execution_count": 109,
     "metadata": {},
     "output_type": "execute_result"
    }
   ],
   "source": [
    "np.isneginf(np.inf)"
   ]
  },
  {
   "cell_type": "markdown",
   "id": "328d90b1",
   "metadata": {},
   "source": [
    "Dove possiamo trovarle? Come esempio, proviamo la funzione `np.log`:"
   ]
  },
  {
   "cell_type": "code",
   "execution_count": 110,
   "id": "65193064",
   "metadata": {},
   "outputs": [
    {
     "name": "stderr",
     "output_type": "stream",
     "text": [
      "/home/da/.local/lib/python3.7/site-packages/ipykernel_launcher.py:1: RuntimeWarning: divide by zero encountered in log\n",
      "  \"\"\"Entry point for launching an IPython kernel.\n"
     ]
    },
    {
     "data": {
      "text/plain": [
       "-inf"
      ]
     },
     "execution_count": 110,
     "metadata": {},
     "output_type": "execute_result"
    }
   ],
   "source": [
    "np.log(0)"
   ]
  },
  {
   "cell_type": "markdown",
   "id": "00688ffa",
   "metadata": {},
   "source": [
    "### Combinare infinità e NaN\n",
    "\n",
    "Quando esegui operazioni che riguardano le infinità e i NaN, l'aritmetica IEEE prova a imitare l'analisi classica, a volte includendo NaN come risultato:"
   ]
  },
  {
   "cell_type": "code",
   "execution_count": 111,
   "id": "0ec68ffb",
   "metadata": {},
   "outputs": [
    {
     "data": {
      "text/plain": [
       "inf"
      ]
     },
     "execution_count": 111,
     "metadata": {},
     "output_type": "execute_result"
    }
   ],
   "source": [
    "np.inf + np.inf"
   ]
  },
  {
   "cell_type": "code",
   "execution_count": 112,
   "id": "d07f0703",
   "metadata": {},
   "outputs": [
    {
     "data": {
      "text/plain": [
       "-inf"
      ]
     },
     "execution_count": 112,
     "metadata": {},
     "output_type": "execute_result"
    }
   ],
   "source": [
    "- np.inf - np.inf"
   ]
  },
  {
   "cell_type": "code",
   "execution_count": 113,
   "id": "f1609b92",
   "metadata": {},
   "outputs": [
    {
     "data": {
      "text/plain": [
       "-inf"
      ]
     },
     "execution_count": 113,
     "metadata": {},
     "output_type": "execute_result"
    }
   ],
   "source": [
    "np.inf * -np.inf"
   ]
  },
  {
   "cell_type": "markdown",
   "id": "4192e3cd",
   "metadata": {},
   "source": [
    "Un risultato che in analisi classica sarebbe non definito, qui diventa NaN:"
   ]
  },
  {
   "cell_type": "code",
   "execution_count": 114,
   "id": "9a594de4",
   "metadata": {},
   "outputs": [
    {
     "data": {
      "text/plain": [
       "nan"
      ]
     },
     "execution_count": 114,
     "metadata": {},
     "output_type": "execute_result"
    }
   ],
   "source": [
    "np.inf - np.inf"
   ]
  },
  {
   "cell_type": "code",
   "execution_count": 115,
   "id": "1e4d1984",
   "metadata": {},
   "outputs": [
    {
     "data": {
      "text/plain": [
       "nan"
      ]
     },
     "execution_count": 115,
     "metadata": {},
     "output_type": "execute_result"
    }
   ],
   "source": [
    "np.inf / np.inf"
   ]
  },
  {
   "cell_type": "markdown",
   "id": "27207f12",
   "metadata": {},
   "source": [
    "Come al solito, combinare con un NaN risulta in NaN: "
   ]
  },
  {
   "cell_type": "code",
   "execution_count": 116,
   "id": "05b3921c",
   "metadata": {},
   "outputs": [
    {
     "data": {
      "text/plain": [
       "nan"
      ]
     },
     "execution_count": 116,
     "metadata": {},
     "output_type": "execute_result"
    }
   ],
   "source": [
    "np.inf + np.nan"
   ]
  },
  {
   "cell_type": "code",
   "execution_count": 117,
   "id": "0a2aea90",
   "metadata": {},
   "outputs": [
    {
     "data": {
      "text/plain": [
       "nan"
      ]
     },
     "execution_count": 117,
     "metadata": {},
     "output_type": "execute_result"
    }
   ],
   "source": [
    "np.inf / np.nan"
   ]
  },
  {
   "cell_type": "markdown",
   "id": "08cdae13",
   "metadata": {},
   "source": [
    "### Zero negativo\n",
    "\n",
    "Puoi persino avere uno zero _negativo_ - chi l'avrebbe pensato?"
   ]
  },
  {
   "cell_type": "code",
   "execution_count": 118,
   "id": "2824a0df",
   "metadata": {},
   "outputs": [
    {
     "data": {
      "text/plain": [
       "-0.0"
      ]
     },
     "execution_count": 118,
     "metadata": {},
     "output_type": "execute_result"
    }
   ],
   "source": [
    "np.NZERO"
   ]
  },
  {
   "cell_type": "markdown",
   "id": "998ad06d",
   "metadata": {},
   "source": [
    "Lo zero negativo naturalmente fa coppia con il più conosciuto e apprezzato zero _positivo_:"
   ]
  },
  {
   "cell_type": "code",
   "execution_count": 119,
   "id": "5e0bdbc5",
   "metadata": {},
   "outputs": [
    {
     "data": {
      "text/plain": [
       "0.0"
      ]
     },
     "execution_count": 119,
     "metadata": {},
     "output_type": "execute_result"
    }
   ],
   "source": [
    "np.PZERO"
   ]
  },
  {
   "cell_type": "markdown",
   "id": "5b86d1b5",
   "metadata": {},
   "source": [
    "**NOTA**: Scrivere `np.NZERO` o `-0.0` è  _esattamente_ la stessa cosa. Lo stesso vale per lo zero positivo."
   ]
  },
  {
   "cell_type": "markdown",
   "id": "42b37b77",
   "metadata": {},
   "source": [
    "A questo punto, potresti cominciare a chiederti con qualche se sono davvero considerati _uguali_. Verifichiamo:"
   ]
  },
  {
   "cell_type": "code",
   "execution_count": 120,
   "id": "40aeabf2",
   "metadata": {},
   "outputs": [
    {
     "data": {
      "text/plain": [
       "True"
      ]
     },
     "execution_count": 120,
     "metadata": {},
     "output_type": "execute_result"
    }
   ],
   "source": [
    "0.0 == -0.0"
   ]
  },
  {
   "cell_type": "markdown",
   "id": "f3d649de",
   "metadata": {},
   "source": [
    "Grandioso! Finalmente qualcosa che ha senso.\n",
    "\n",
    "Dato quanto sopra, potresti pensare che in una formula puoi sostituire uno per l'altro e ottenere gli stessi risultati, in armonia con le regole dell'universo.\n",
    "\n",
    "Facciamo un tentativo di sostituzione, come esempio prima cercheremo di dividere un numero per uno zero positivo (persino se gli insegnanti di matematica ci dicono che tali divisioni siano vietate). Cosa potremmo mai ottenere?\n",
    "\n",
    "$\\large \\frac{5.0}{0.0}= ???$\n",
    "\n",
    "In termini di Numpy, potremmo scrivere così per 'inscatolare' tutto in arrays:"
   ]
  },
  {
   "cell_type": "code",
   "execution_count": 121,
   "id": "16de6d09",
   "metadata": {},
   "outputs": [
    {
     "name": "stderr",
     "output_type": "stream",
     "text": [
      "/home/da/.local/lib/python3.7/site-packages/ipykernel_launcher.py:1: RuntimeWarning: divide by zero encountered in true_divide\n",
      "  \"\"\"Entry point for launching an IPython kernel.\n"
     ]
    },
    {
     "data": {
      "text/plain": [
       "array([inf])"
      ]
     },
     "execution_count": 121,
     "metadata": {},
     "output_type": "execute_result"
    }
   ],
   "source": [
    "np.array( [ 5.0 ] ) / np.array( [ 0.0 ] )"
   ]
  },
  {
   "cell_type": "markdown",
   "id": "045b2575",
   "metadata": {},
   "source": [
    "Mmm, abbiamo ottenuto un array con dentro `np.inf` (e un warning stampato)\n",
    "\n",
    "Se `0.0` e `-0.0` sono davvero la stessa cosa, dividendo un numero per `-0.0` dovremmo ottenere lo stesso identico risultato, no?\n",
    "\n",
    "Proviamo:"
   ]
  },
  {
   "cell_type": "code",
   "execution_count": 122,
   "id": "7ddfcdfd",
   "metadata": {},
   "outputs": [
    {
     "name": "stderr",
     "output_type": "stream",
     "text": [
      "/home/da/.local/lib/python3.7/site-packages/ipykernel_launcher.py:1: RuntimeWarning: divide by zero encountered in true_divide\n",
      "  \"\"\"Entry point for launching an IPython kernel.\n"
     ]
    },
    {
     "data": {
      "text/plain": [
       "array([-inf])"
      ]
     },
     "execution_count": 122,
     "metadata": {},
     "output_type": "execute_result"
    }
   ],
   "source": [
    "np.array( [ 5.0 ] ) / np.array( [ -0.0 ] )"
   ]
  },
  {
   "cell_type": "markdown",
   "id": "d9c4effc",
   "metadata": {},
   "source": [
    "Ecchecaspita. Questa volta ci ritroviamo con una infinità _negativa_ `-np.inf`\n",
    "\n",
    "Se tutto ciò ti pare strano, non dare la colpa a Numpy o Python. Questo è il modo con cui praticamente ogni processore ( _CPU_ )  compie operazioni in virgola mobile, perciò lo troverai in quasi TUTTI i linguaggi di programmazione.\n",
    "\n",
    "Quello che i linguaggi di programmazione possono fare è aggiungere ulteriori controlli per proteggerti da queste situazioni paradossali, come per esempio lanciare `ZeroDivisionError` quando scrivi direttamente `1.0/0.0` (bloccando quindi l'esecuzione) o stampare un warning nel caso di operazioni su array Numpy."
   ]
  },
  {
   "cell_type": "markdown",
   "id": "6b1f1eb6",
   "metadata": {},
   "source": [
    "### Esercizio: rilevare numeri propri\n",
    "\n",
    "Scrivi del codice che STAMPA `numeri uguali` se due numeri `x` e `y` sono uguali e veri numeri, e STAMPA `non uguali` altrimenti.\n",
    "\n",
    "**NOTA**: `numeri non uguali` va stampato se uno qualunque dei numeri è infinito o NaN.\n",
    "\n",
    "Per risolverlo, sentiti libero di chiamare funzioni indicate [nella documentazione di Numpy riguardo le costanti](https://docs.scipy.org/doc/numpy/reference/constants.html)"
   ]
  },
  {
   "cell_type": "raw",
   "id": "3fa4d4a1",
   "metadata": {
    "format": "text/html"
   },
   "source": [
    "<a  class=\"jupman-sol jupman-sol-toggler\" \n",
    " onclick=\"jupman.toggleSolution(this);\" \n",
    " data-jupman-show=\"Mostra soluzione\" data-jupman-hide=\"Nascondi\">Mostra soluzione</a><div class=\"jupman-sol jupman-sol-code\" style=\"display:none\">  "
   ]
  },
  {
   "cell_type": "code",
   "execution_count": 123,
   "id": "191d072f",
   "metadata": {},
   "outputs": [
    {
     "name": "stdout",
     "output_type": "stream",
     "text": [
      "numeri uguali\n",
      "numeri uguali\n"
     ]
    }
   ],
   "source": [
    "import numpy as np\n",
    "\n",
    "# atteso: numeri uguali\n",
    "x = 5\n",
    "y = 5\n",
    "\n",
    "# atteso: numeri non uguali\n",
    "#x = np.inf\n",
    "#y = 3\n",
    "\n",
    "# atteso: numeri non uguali\n",
    "#x = 3\n",
    "#y = np.inf\n",
    "\n",
    "# atteso: numeri non uguali\n",
    "#x = np.inf\n",
    "#y = np.nan\n",
    "\n",
    "# atteso: numeri non uguali\n",
    "#x = np.nan\n",
    "#y = np.inf\n",
    "\n",
    "# atteso: numeri non uguali\n",
    "#x = np.nan\n",
    "#y = 7\n",
    "\n",
    "# atteso: numeri non uguali\n",
    "#x = 9\n",
    "#y = np.nan\n",
    "\n",
    "# atteso: numeri non uguali\n",
    "#x = np.nan\n",
    "#y = np.nan\n",
    "\n",
    "\n",
    "# scrivi qui\n",
    "\n",
    "# SOLUZIONE 1 - quella brutta\n",
    "if np.isinf(x) or np.isinf(y) or np.isnan(x) or np.isnan(y):\n",
    "    print('numeri non uguali')\n",
    "else:\n",
    "    print('numeri uguali')\n",
    "    \n",
    "# SOLUZIONE 2 - quella bella\n",
    "if np.isfinite(x) and np.isfinite(y):\n",
    "    print('numeri uguali')\n",
    "else:\n",
    "    print('numeri non uguali')"
   ]
  },
  {
   "cell_type": "raw",
   "id": "51d1bf7c",
   "metadata": {
    "format": "text/html"
   },
   "source": [
    "</div>"
   ]
  },
  {
   "cell_type": "code",
   "execution_count": 123,
   "id": "191d072f-stripped",
   "metadata": {},
   "outputs": [
    {
     "name": "stdout",
     "output_type": "stream",
     "text": [
      "numeri uguali\n",
      "numeri uguali\n"
     ]
    }
   ],
   "source": [
    "import numpy as np\n",
    "\n",
    "# atteso: numeri uguali\n",
    "x = 5\n",
    "y = 5\n",
    "\n",
    "# atteso: numeri non uguali\n",
    "#x = np.inf\n",
    "#y = 3\n",
    "\n",
    "# atteso: numeri non uguali\n",
    "#x = 3\n",
    "#y = np.inf\n",
    "\n",
    "# atteso: numeri non uguali\n",
    "#x = np.inf\n",
    "#y = np.nan\n",
    "\n",
    "# atteso: numeri non uguali\n",
    "#x = np.nan\n",
    "#y = np.inf\n",
    "\n",
    "# atteso: numeri non uguali\n",
    "#x = np.nan\n",
    "#y = 7\n",
    "\n",
    "# atteso: numeri non uguali\n",
    "#x = 9\n",
    "#y = np.nan\n",
    "\n",
    "# atteso: numeri non uguali\n",
    "#x = np.nan\n",
    "#y = np.nan\n",
    "\n",
    "\n",
    "# scrivi qui\n",
    "\n"
   ]
  },
  {
   "cell_type": "markdown",
   "id": "a790c6b2",
   "metadata": {},
   "source": [
    "### Domande - NaN\n",
    "\n",
    "Per ciascuna delle espressioni seguenti, prova ad indovinare il risultato\n",
    "\n",
    "<div class=\"alert alert-warning\">\n",
    "\n",
    "**ATTENZIONE: ciò che segue può causare nausea e gravi convulsioni**\n",
    "    \n",
    "Durante test clinici, sia pazienti con inclinazioni matematiche che soggetti con repulsione per le scienze esatte hanno lamentato malessere per ragioni differenti che sono ancora oggetto di ricerca.\n",
    "    \n",
    "</div>\n"
   ]
  },
  {
   "cell_type": "markdown",
   "id": "233e0cae",
   "metadata": {},
   "source": [
    "```python\n",
    "a.  0.0 * -0.0\n",
    "b.  (-0.0)**3\n",
    "c.  np.log(-7) == math.log(-7)\n",
    "d.  np.log(-7) == np.log(-7)\n",
    "e.  np.isnan( 1 / np.log(1) )\n",
    "f.  np.sqrt(-1) * np.sqrt(-1)   # sqrt = radice quadrata\n",
    "g.  3 ** np.inf\n",
    "h   3 ** -np.inf\n",
    "i.  1/np.sqrt(-3)\n",
    "j.  1/np.sqrt(-0.0)\n",
    "m.  np.sqrt(np.inf) - np.sqrt(-np.inf)\n",
    "n.  np.sqrt(np.inf) + ( 1 / np.sqrt(-0.0) )\n",
    "o.  np.isneginf(np.log(np.e) / np.sqrt(-0.0))  \n",
    "p.  np.isinf(np.log(np.e) / np.sqrt(-0.0))\n",
    "q.  [np.nan, np.inf] == [np.nan, np.inf]\n",
    "r.  [np.nan, -np.inf] == [np.nan, np.inf]\n",
    "s.  [np.nan, np.inf] == [-np.nan, np.inf]\n",
    "```"
   ]
  },
  {
   "cell_type": "markdown",
   "id": "88e37688",
   "metadata": {},
   "source": [
    "## Prosegui\n",
    "\n",
    "[Continua](https://it.softpython.org/matrices-numpy/matrices-numpy2-sol.html) ora con gli esercizi."
   ]
  }
 ],
 "metadata": {
  "celltoolbar": "Edit Metadata",
  "kernelspec": {
   "display_name": "Python 3 (ipykernel)",
   "language": "python",
   "name": "python3"
  },
  "language_info": {
   "codemirror_mode": {
    "name": "ipython",
    "version": 3
   },
   "file_extension": ".py",
   "mimetype": "text/x-python",
   "name": "python",
   "nbconvert_exporter": "python",
   "pygments_lexer": "ipython3",
   "version": "3.7.17"
  },
  "toc": {
   "base_numbering": 1,
   "nav_menu": {},
   "number_sections": false,
   "sideBar": true,
   "skip_h1_title": false,
   "title_cell": "Table of Contents",
   "title_sidebar": "Contents",
   "toc_cell": false,
   "toc_position": {},
   "toc_section_display": true,
   "toc_window_display": true
  }
 },
 "nbformat": 4,
 "nbformat_minor": 5
}

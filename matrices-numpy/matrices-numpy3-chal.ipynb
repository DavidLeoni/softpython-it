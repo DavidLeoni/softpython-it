{
 "cells": [
  {
   "cell_type": "markdown",
   "id": "practical-company",
   "metadata": {},
   "source": [
    "# Matrici numpy 3 - Challenge\n",
    "\n",
    "## [Scarica zip esercizi](../_static/generated/matrices-numpy.zip)\n",
    "\n",
    "[Naviga file online](https://github.com/DavidLeoni/softpython-it/tree/master/matrices-numpy)\n",
    "\n",
    "Proponiamo ora degli esercizi senza soluzione. Accetti la sfida?"
   ]
  },
  {
   "cell_type": "markdown",
   "id": "competent-desktop",
   "metadata": {},
   "source": [
    "## Sfida - La macchinetta che produce scienza\n",
    "\n",
    "✪✪ Gilberto, Rocky e Clelia sono data scientist nello stesso laboratorio di ricerca. \n",
    "\n",
    "Oggi hanno deciso di chiamare la pausa e sono ora davanti alla macchinetta del caffè a chiacchierare.\n",
    "\n",
    "Il discorso arriva su quante bevande hanno preso alle macchinette nell'ultima settimana e di conseguenza a quanti soldi hanno speso per cercare di avere le energie per scrivere i loro paper.\n",
    "\n",
    "Dopo un po' di discussione qualitativa entra in gioco la deformazione professionale e preparano una matrice a tre righe e tre colonne in cui:\n",
    "\n",
    "- Ciascuna colonna rappresenta uno di loro tre\n",
    "- Ciascuna riga rappresenta una delle bevande acquistabili dalla macchinetta\n",
    "\n",
    "Vogliono ora calcolare:\n",
    "\n",
    "1. stampare la somma delle colonne \n",
    "2. stampare la somma delle righe\n",
    "3. chi di loro ha speso in totale più soldi\n",
    "4. quale bevanda è la più gettonata"
   ]
  },
  {
   "cell_type": "markdown",
   "id": "ahead-miami",
   "metadata": {},
   "source": [
    "**SUGGERIMENTO:** usate le funzioni di numpy!\n",
    "\n",
    "```python\n",
    ">>> arr[0]\n",
    "[4.0,9.0,3.0]         # riga\n",
    "```\n",
    "\n",
    "```python\n",
    ">>> arr[:,1]\n",
    "[4.0,9.0,3.0,7.0]   # colonna\n",
    "```\n",
    "\n",
    "* `mat.fill(8)`\n",
    "* `print(np.sum(arr, axis=1))`\n"
   ]
  },
  {
   "cell_type": "code",
   "execution_count": 1,
   "id": "broadband-prisoner-stripped",
   "metadata": {},
   "outputs": [
    {
     "name": "stdout",
     "output_type": "stream",
     "text": [
      "Spesa di ciascuno:\n",
      "\tGilberto Rocky Clelia\n",
      "\t [21. 13. 11.]\n",
      "Spesa per tipo:\n",
      "\tThe Caffè Ginseng\n",
      "\t [14. 12. 19.]\n",
      "Dei tre ha speso di più il numero:  [0]\n",
      "La bevanda preferita è la numero:  [2]\n"
     ]
    }
   ],
   "source": [
    "import numpy as np\n",
    "\n",
    "m = np.array( \n",
    "    [ \n",
    "#        Gilberto   Rocky     Clelia\n",
    "        [5.0,       8.0,      1.0],   # Thè\n",
    "        [7.0,       3.0,      2.0],   # Caffè\n",
    "        [9.0,       2.0,      8.0]    # Ginseng\n",
    "    ]\n",
    ")\n",
    "\n",
    "# scrivi qui\n",
    "\n"
   ]
  },
  {
   "cell_type": "markdown",
   "id": "c816cd1b",
   "metadata": {},
   "source": [
    "## Sfida - Kombattimento Morale\n",
    "\n",
    "✪✪✪ Il temuto torneo del Kombattimento Morale si appresta ad iniziare, dove ogni anno intrepidi atleti si sfidano a insulti senza pietà: a questa edizione `n` nuovi sfidanti entreranno a far parte del torneo, effettuando una serie di match contro gli `n` incombenti reduci dall'anno precedente. Le vittorie degli sfidanti sono rappresentate su un tabellone: tutti gli sfidanti nuovi che entrano nel torneo sono sempre raffigurati a sinistra, gli incombenti a destra. Il tabellone è una matrice di `1` e `0`:  ogni nuovo sfidante effettua `m` scontri contro lo stesso incombente, e ogni volta che il nuovo sfidante vince, viene segnato un `1` sul tabellone, altrimenti uno `0`.  Può capitare che vi sia un pareggio tra numero di incontri vinti e persi, in tal caso entrambi i contendenti verranno eliminati d'ufficio dal torneo (con modalità a discrezione dell'Imperatore). \n",
    "\n",
    "**Esempio**: \n",
    "\n",
    "```python\n",
    "Skarpon            [1,0,0,0,0,1,1,0]   Baracca\n",
    "SottoCosto         [1,1,1,0,1,1,0,0]   Rettilio     \n",
    "Raiban             [1,0,1,0,1,0,0,1]   GhiriGoro\n",
    "Johnny Colpobasso  [1,1,0,0,0,1,1,0]   Gin Tseng\n",
    "Lio Kanguro        [0,1,0,1,1,1,1,0]   KinTarallo\n",
    "Giacs              [0,0,1,1,0,0,1,1]   Kannone\n",
    "```\n",
    "\n",
    "su `m=8` match totali, Skarpon ne ha vinti `3` contro Baracca, invece Raiban ha vinto `4` match contro GhiriGoro e  risulta quindi in pareggio.\n",
    "\n",
    "\n",
    "Scrivi una funzione `pareggio` che produce un `np.ndarray` dove per ogni coppia di contendenti vi è `True` se la serie di match è risultata in un pareggio, e `False` altrimenti.\n",
    "\n",
    "```python\n",
    "mat = np.array([[1,0,0,0,0,1,1,0],     \n",
    "                [1,1,1,0,1,1,0,0],     \n",
    "                [1,0,1,0,1,0,0,1],     \n",
    "                [1,1,0,0,0,1,1,0],     \n",
    "                [0,1,0,1,1,1,1,0],     \n",
    "                [0,0,1,1,0,0,1,1]])\n",
    ">>> pareggio(mat)  \n",
    "[ [False],\n",
    "  [False],\n",
    "  [ True],\n",
    "  [ True],\n",
    "  [False],\n",
    "  [ True]]\n",
    ">>> type(pareggio(mat))\n",
    "<class 'numpy.ndarray'>\n",
    "```\n",
    "\n",
    "- **ASSUMI** `m` sia sempre pari\n",
    "- **PROVA** a risolvere l'esercizio ragionando 'per vettori', con **una sola linea di codice**\n",
    "- **NON** usare cicli (niente `for`, `while`, list comprehensions ...)\n",
    "- **SUGGERIMENTO**: per trasporre gli array in verticale usa [reshape](https://numpy.org/doc/stable/reference/generated/numpy.reshape.html)\n"
   ]
  },
  {
   "cell_type": "code",
   "execution_count": 2,
   "id": "17ace0cb-stripped",
   "metadata": {},
   "outputs": [],
   "source": [
    "import numpy as np\n",
    "\n",
    "\n",
    "def pareggio(mat):\n",
    "    raise Exception('TODO IMPLEMENT ME !')\n",
    "\n",
    "m1 = np.array([[0,0]])  \n",
    "res = pareggio(m1)\n",
    "print(res)  # strano qua stampa float, mentre in pareggio_pro dei boolean\n",
    "assert type(res) == np.ndarray\n",
    "assert np.allclose(res, np.array([ [False] ]))\n",
    "\n",
    "m2 = np.array([[1,0]])  \n",
    "assert np.allclose(pareggio(m2), np.array([ [True] ]))\n",
    "m3 = np.array([[0,1]])  \n",
    "assert np.allclose(pareggio(m3), np.array([ [True] ]))\n",
    "m4 = np.array([[1,1]])  # True\n",
    "assert np.allclose(pareggio(m4), np.array([ [False] ]))\n",
    "m5 = np.array([[1,1],\n",
    "               [0,1]])  \n",
    "assert np.allclose(pareggio(m5), np.array([ [False],\n",
    "                                            [True] ]))\n",
    "m6 = np.array([[0,1],\n",
    "               [1,0]])  \n",
    "assert np.allclose(pareggio(m6), np.array([ [True],\n",
    "                                            [True] ]))\n",
    "m7 = np.array([[1,1,0,0],\n",
    "               [1,1,0,1],\n",
    "               [1,0,0,1]])  \n",
    "assert np.allclose(pareggio(m7), np.array([ [True],\n",
    "                                            [False],\n",
    "                                            [True] ]))\n",
    "m8 = np.array([[1,0,0,0,0,1,1,0],     \n",
    "               [1,1,1,0,1,1,0,0],     \n",
    "               [1,0,1,0,1,0,0,1],     \n",
    "               [1,1,0,0,0,1,1,0],     \n",
    "               [0,1,0,1,1,1,1,0],     \n",
    "               [0,0,1,1,0,0,1,1]])    \n",
    "assert np.allclose(pareggio(m8), np.array([ [False],\n",
    "                                            [False],\n",
    "                                            [ True],\n",
    "                                            [ True],\n",
    "                                            [False],\n",
    "                                            [ True] ]))"
   ]
  },
  {
   "cell_type": "code",
   "execution_count": 3,
   "id": "b08606cd-stripped",
   "metadata": {
    "nbsphinx": "hidden"
   },
   "outputs": [],
   "source": []
  },
  {
   "cell_type": "code",
   "execution_count": 4,
   "id": "generic-enterprise-stripped",
   "metadata": {
    "nbsphinx": "hidden"
   },
   "outputs": [],
   "source": []
  }
 ],
 "metadata": {
  "kernelspec": {
   "display_name": "Python 3 (ipykernel)",
   "language": "python",
   "name": "python3"
  },
  "language_info": {
   "codemirror_mode": {
    "name": "ipython",
    "version": 3
   },
   "file_extension": ".py",
   "mimetype": "text/x-python",
   "name": "python",
   "nbconvert_exporter": "python",
   "pygments_lexer": "ipython3",
   "version": "3.7.10"
  },
  "toc": {
   "base_numbering": 1,
   "nav_menu": {},
   "number_sections": false,
   "sideBar": true,
   "skip_h1_title": false,
   "title_cell": "Table of Contents",
   "title_sidebar": "Contents",
   "toc_cell": false,
   "toc_position": {},
   "toc_section_display": true,
   "toc_window_display": false
  }
 },
 "nbformat": 4,
 "nbformat_minor": 5
}

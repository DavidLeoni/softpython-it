{
 "cells": [
  {
   "cell_type": "code",
   "execution_count": 1,
   "metadata": {
    "nbsphinx": "hidden"
   },
   "outputs": [],
   "source": [
    "# Ricordati di eseguire questa cella con Control+Invio\n",
    "import jupman;"
   ]
  },
  {
   "cell_type": "markdown",
   "metadata": {
    "colab_type": "text",
    "id": "dW_7xwCZAFP5"
   },
   "source": [
    "# Introduzione rapida a Python\n",
    "\n",
    "## [Scarica zip esercizi](../_static/generated/quick-intro.zip)\n",
    "\n",
    "[Naviga file online](https://github.com/DavidLeoni/softpython-it/tree/master/quick-intro)\n",
    "\n",
    "<div class=\"alert alert-warning\">\n",
    "\n",
    "**REQUISITI:**\n",
    "    \n",
    "* **QUESTO FOGLIO E' PER CHI HA GIA' COMPETENZE DI PROGRAMMAZIONE**, e in 3-4h vuole farsi rapidamente un'idea di Python\n",
    "* **Aver installati Python 3 e Jupyter:** se non hai già provveduto, guarda [Installazione](https://it.softpython.org/installation.html)\n",
    "</div>\n",
    "\n",
    "<div class=\"alert alert-warning\">\n",
    "    \n",
    "**SE SEI UN PRINCIPIANTE**: Salta questo foglio e fai invece i tutorial che trovi nella sezione [Fondamenti](https://it.softpython.org/index.html#A---Fondamenti), a partire da [Strumenti e script](https://it.softpython.org/tools/tools-sol.html)\n",
    "</div>\n",
    "\n"
   ]
  },
  {
   "cell_type": "markdown",
   "metadata": {},
   "source": [
    "\n",
    "### Che fare\n",
    "\n",
    "- scompatta lo zip in una cartella, dovresti ottenere qualcosa del genere: \n",
    "\n",
    "```\n",
    "\n",
    "quick-intro\n",
    "    quick-intro.ipynb     \n",
    "    quick-intro-sol.ipynb     \n",
    "    jupman.py         \n",
    "```\n",
    "\n",
    "<div class=\"alert alert-warning\">\n",
    "\n",
    "**ATTENZIONE**: Per essere visualizzato correttamente, il file del notebook DEVE essere nella cartella szippata.\n",
    "</div>\n",
    "\n",
    "<div class=\"alert alert-warning\">\n",
    "\n",
    "**ATTENZIONE**: In questo libro usiamo **SOLO PYTHON 3** <br/>\n",
    "\n",
    "Se per caso ottieni comportamenti inattesi, controlla di usare Python 3 e non il 2. Se per caso il tuo sistema operativo scrivendo `python` fa partire il 2, prova ad eseguire il tre scrivendo il comando: `python3`\n",
    "</div>\n",
    "\n",
    "\n",
    "- apri il Jupyter Notebook da quella cartella. Due cose dovrebbero aprirsi, prima una console e poi un browser. Il browser dovrebbe mostrare una lista di file: naviga la lista e apri il notebook `quick-intro.ipynb`\n",
    "- Prosegui leggendo il file degli esercizi, ogni tanto al suo interno troverai delle scritte **ESERCIZIO**, che ti chiederanno di scrivere dei comandi Python nelle celle successive. Gli esercizi sono graduati per difficoltà, da una stellina ✪ a quattro ✪✪✪✪\n",
    "\n",
    "\n",
    "<div class=\"alert alert-warning\">\n",
    "\n",
    "**ATTENZIONE**: Ricordati di eseguire sempre la prima cella dentro il notebook. Contiene delle istruzioni come `import jupman` che dicono a Python quali moduli servono e dove trovarli. Per eseguirla, vedi le seguenti scorciatoie\n",
    "</div>\n",
    "\n",
    "\n",
    "\n",
    "Scorciatoie da tastiera:\n",
    "\n",
    "* Per eseguire il codice Python dentro una cella di Jupyter, premi `Control+Invio`\n",
    "* Per eseguire il codice Python dentro una cella di Jupyter E selezionare la cella seguente, premi `Shift+Invio`\n",
    "* Per eseguire il codice Python dentro una cella di Jupyter E creare una nuova cella subito dopo, premi `Alt+Invio`\n",
    "* Se per caso il Notebook sembra inchiodato, prova a selezionare `Kernel -> Restart`\n",
    "\n",
    "\n",
    "\n"
   ]
  },
  {
   "cell_type": "markdown",
   "metadata": {},
   "source": [
    "## Proviamo Jupyter\n",
    "\n",
    "Vediamo brevemente come funzionano i fogli Jupyter. "
   ]
  },
  {
   "cell_type": "markdown",
   "metadata": {},
   "source": [
    "**ESERCIZIO**: Proviamo a inserire un comando Python: scrivi nella cella qua sotto `3 + 5`, e poi mentre sei in quella cella premi i tasti speciali `Control+Invio`. Come risultato, dovresti vedere apparire il numero 8"
   ]
  },
  {
   "cell_type": "code",
   "execution_count": null,
   "metadata": {},
   "outputs": [],
   "source": []
  },
  {
   "cell_type": "markdown",
   "metadata": {},
   "source": [
    "**ESERCIZIO**: in Python possiamo scrivere commenti iniziando una riga con un cancelletto `#`. Come prima, scrivi nella cella sotto `3 + 5` ma questa volta scrivilo nella riga sotto la scritta `# scrivi qui`:"
   ]
  },
  {
   "cell_type": "code",
   "execution_count": 2,
   "metadata": {},
   "outputs": [],
   "source": [
    "# scrivi qui\n"
   ]
  },
  {
   "cell_type": "markdown",
   "metadata": {},
   "source": [
    "**ESERCIZIO**: Jupyter per ogni cella mostra il risultato solo dell'ultima riga eseguita in quella cella. Prova a inserire questo codice nella cella sotto ed esegui premendo `Control+Invio`. Che risultato appare?\n",
    "\n",
    "```python\n",
    "3 + 5\n",
    "1 + 1\n",
    "```"
   ]
  },
  {
   "cell_type": "code",
   "execution_count": 3,
   "metadata": {},
   "outputs": [],
   "source": [
    "# scrivi qui\n",
    "\n"
   ]
  },
  {
   "cell_type": "markdown",
   "metadata": {},
   "source": [
    "**ESERCIZIO**: Proviamo adesso a creare noi una nuova cella. \n",
    "\n",
    "* Mentre sei con il cursore in questa cella, premi `Alt+Invio`. Si dovrebbe creare una nuova cella dopo la presente. \n",
    "\n",
    "* Nella cella appena creata, inserisci `2 + 3` e poi premi `Shift+Invio`. Cosa succede al cursore? prova la differenze con `Control+Invio`. Se non capisci la differenza, prova a premere ripetutamente `Shif+Invio` e vedi che succede."
   ]
  },
  {
   "cell_type": "markdown",
   "metadata": {
    "colab_type": "text",
    "id": "vEzZXT8MAFP9"
   },
   "source": [
    " "
   ]
  },
  {
   "cell_type": "markdown",
   "metadata": {
    "colab_type": "text",
    "id": "uZyXs9KLAFQB"
   },
   "source": [
    "## Principali tipi di dati Python\n",
    "\n",
    "Dato che il tema del corso è il trattamento dei dati, per cominciare ci focalizzeremo sui tipi di dati in Python. \n",
    "\n",
    "**Riferimenti**: \n",
    "\n",
    "- [Pensare in Python, Capitolo 1, Lo scopo del programma](https://davidleoni.github.io/ThinkPythonItalian/html/thinkpython2002.html) \n",
    "- [Pensare in Python, Capitolo 2, Variabili, istruzioni ed espressioni](https://davidleoni.github.io/ThinkPythonItalian/html/thinkpython2003.html)\n",
    "\n",
    "\n",
    "Quando leggiamo delle informazioni da una fonte esterna come un file, poi dovremo inevitabilmente incastonare i dati letti in qualche combinazione di questi tipi:\n"
   ]
  },
  {
   "cell_type": "markdown",
   "metadata": {
    "colab_type": "text",
    "id": "1ecI-hRCAFQG"
   },
   "source": [
    "\n",
    "| Tipo | Esempio 1 | Esempio 2 | Esempio 3|\n",
    "|--------|-----|---|----|\n",
    "|int|  `0`|`3`| `-5`|\n",
    "|numero in virgola mobile float| `0.0`| `3.7` | `-2.3`| \n",
    "|bool|False|True||\n",
    "|string  |`\"\"`| `\"Buon giorno\"`|`'come stai?'`|\n",
    "|list | `[]`|`[5, 8, 10]`|[`\"qualcosa\", 5, \"altro ancora\"]`|\n",
    "| dict |`{}`|`{'chiave 1':'valore 1', 'chiave 2':'valore 2'}`|`{5:'un valore stringa', 'chiave stringa':7}`|\n",
    "\n"
   ]
  },
  {
   "cell_type": "markdown",
   "metadata": {
    "colab_type": "text",
    "id": "GBvgbl0xAFQL"
   },
   "source": [
    "A volte, useremo tipi più complessi, per esempio i valori temporali si potrebbero mettere in oggetti di tipo `datetime` che oltre alla data vera e propria possono contenere anche il fuso orario.\n",
    "\n",
    "In quel che segue, forniremo alcuni esempi rapidi su quello che si può fare sui vari tipi di dato, mettendo i riferimenti alle spiegazioni più dettagliate dal libro Pensare in Python. \n"
   ]
  },
  {
   "cell_type": "markdown",
   "metadata": {
    "colab_type": "text",
    "id": "p_V71t9BAFQQ"
   },
   "source": [
    "## Numeri interi e con virgola\n",
    "\n",
    "Nel libro 'Pensare in Python' non c'è un vero e proprio capitolo dedicato ai calcoli numerici, che sono sparse nei primi capitoli segnalati prima. Metto qua due note velocissime:\n",
    "\n",
    "\n",
    "In Python abbiamo numeri interi:"
   ]
  },
  {
   "cell_type": "code",
   "execution_count": 4,
   "metadata": {
    "colab": {
     "autoexec": {
      "startup": false,
      "wait_interval": 0
     },
     "output_extras": [
      {}
     ]
    },
    "colab_type": "code",
    "id": "--cJxUntAFQT",
    "outputId": "6a261e4f-6f7f-481d-9f4e-02f951c18010"
   },
   "outputs": [
    {
     "data": {
      "text/plain": [
       "8"
      ]
     },
     "execution_count": 4,
     "metadata": {},
     "output_type": "execute_result"
    }
   ],
   "source": [
    "3 + 5"
   ]
  },
  {
   "cell_type": "markdown",
   "metadata": {
    "colab_type": "text",
    "id": "rEV6BEORAFQo"
   },
   "source": [
    "La somma tra interi ovviamente ci da un intero:"
   ]
  },
  {
   "cell_type": "code",
   "execution_count": 5,
   "metadata": {
    "colab": {
     "autoexec": {
      "startup": false,
      "wait_interval": 0
     },
     "output_extras": [
      {}
     ]
    },
    "colab_type": "code",
    "id": "Vk7aiqO5AFQr",
    "outputId": "6408cc81-e7db-4778-c929-c42fdf178b0f"
   },
   "outputs": [
    {
     "data": {
      "text/plain": [
       "int"
      ]
     },
     "execution_count": 5,
     "metadata": {},
     "output_type": "execute_result"
    }
   ],
   "source": [
    "type(8)"
   ]
  },
  {
   "cell_type": "markdown",
   "metadata": {
    "colab_type": "text",
    "id": "Z49LC8g3AFRQ"
   },
   "source": [
    "E se dividiamo interi? Ci troveremo con il tipo in virgola mobile _float_:"
   ]
  },
  {
   "cell_type": "code",
   "execution_count": 6,
   "metadata": {
    "colab": {
     "autoexec": {
      "startup": false,
      "wait_interval": 0
     },
     "output_extras": [
      {}
     ]
    },
    "colab_type": "code",
    "id": "fGqrVdg6AFRT",
    "outputId": "ead8a066-1d37-4ccb-8cf5-d7bf6bb7b5ad"
   },
   "outputs": [
    {
     "data": {
      "text/plain": [
       "0.75"
      ]
     },
     "execution_count": 6,
     "metadata": {},
     "output_type": "execute_result"
    }
   ],
   "source": [
    "3 / 4"
   ]
  },
  {
   "cell_type": "code",
   "execution_count": 7,
   "metadata": {
    "colab": {
     "autoexec": {
      "startup": false,
      "wait_interval": 0
     },
     "output_extras": [
      {}
     ]
    },
    "colab_type": "code",
    "id": "AuREnwBmAFRn",
    "outputId": "96b737a9-d30f-4696-9805-8974a1b731d3"
   },
   "outputs": [
    {
     "data": {
      "text/plain": [
       "float"
      ]
     },
     "execution_count": 7,
     "metadata": {},
     "output_type": "execute_result"
    }
   ],
   "source": [
    "type(0.75)"
   ]
  },
  {
   "cell_type": "markdown",
   "metadata": {
    "colab_type": "text",
    "id": "DIcwRoa7AFR4"
   },
   "source": [
    "<div class=\"alert alert-warning\">\n",
    "\n",
    "**ATTENZIONE al punto !**\n",
    "\n",
    "In Python e in molti formati dati, al posto della nostra virgola si usa il formato inglese con il punto '.' <br/>\n",
    "</div>"
   ]
  },
  {
   "cell_type": "markdown",
   "metadata": {},
   "source": [
    "**✪ ESERCIZIO**: Prova a scrivere qua sotto `3.14` con il punto, e poi `3,14` con la virgola  ed esegui con Ctrl+Invio. Cosa appare nei due casi?"
   ]
  },
  {
   "cell_type": "code",
   "execution_count": 8,
   "metadata": {},
   "outputs": [],
   "source": [
    "# scrivi qui con il punto\n",
    "\n"
   ]
  },
  {
   "cell_type": "code",
   "execution_count": 9,
   "metadata": {},
   "outputs": [],
   "source": [
    "# scrivi qui con la virgola\n",
    "\n"
   ]
  },
  {
   "cell_type": "markdown",
   "metadata": {
    "colab_type": "text",
    "id": "ivjG8uzWAFR7"
   },
   "source": [
    "**✪ ESERCIZIO**: Prova a scrivere qua sotto `3 + 1.0` ed esegui con Ctrl+Invio. Di quale tipo sarà il risultato? Controlla anche usando il comando `type`."
   ]
  },
  {
   "cell_type": "code",
   "execution_count": 10,
   "metadata": {
    "colab": {
     "autoexec": {
      "startup": false,
      "wait_interval": 0
     }
    },
    "colab_type": "code",
    "id": "IsFJ8O-IAFR8"
   },
   "outputs": [],
   "source": [
    "# scrivi qui i comandi\n"
   ]
  },
  {
   "cell_type": "markdown",
   "metadata": {
    "colab_type": "text",
    "id": "22kAoaiYAFSD"
   },
   "source": [
    "**✪ ESERCIZIO**: Qualche professore di matematica ti avrà sicuramente intimato di non dividere mai per zero. Neanche a Python piace molto, prova a scrivere nella cella qua sotto `1 / 0` e poi premi Ctrl+Invio per eseguire la cella. Nota come Python riporterà la riga dove è accaduto l'errore:"
   ]
  },
  {
   "cell_type": "code",
   "execution_count": 11,
   "metadata": {
    "colab": {
     "autoexec": {
      "startup": false,
      "wait_interval": 0
     }
    },
    "colab_type": "code",
    "id": "UfI3UixcAFSE"
   },
   "outputs": [],
   "source": [
    "# scrivi qui sotto il codice\n"
   ]
  },
  {
   "cell_type": "markdown",
   "metadata": {
    "colab_type": "text",
    "id": "WMaObpo6AFSP"
   },
   "source": [
    "\n",
    "## Booleani - bool\n",
    "\n",
    "I booleani rappresentano valori veri e falsi, e si possono usare per verificare quando certe condizioni avvengono.                                                                      \n",
    "\n",
    "**Riferimenti**\n",
    "\n",
    "* Softpython: [Basi - booleani](https://it.softpython.org/basics/basics-sol.html#Booleani)\n",
    "- Softpython: [controllo di flusso - if](https://it.softpython.org/control-flow/flow1-if-sol.html)"
   ]
  },
  {
   "cell_type": "markdown",
   "metadata": {},
   "source": [
    "Per indicare i booleani Python ci fornisce due costanti `True` e `False`. Cosa ci possiamo fare?\n",
    "\n",
    "\n",
    "### and\n",
    "\n",
    "Potremmo usarle per segnare in variabili se un certo fatto è avvenuto, per esempio possiamo fare un programma che al mattino ci dice che possiamo uscire di casa solo dopo aver fatto entrambe (`and`) colazione e e lavato i denti:"
   ]
  },
  {
   "cell_type": "code",
   "execution_count": 12,
   "metadata": {},
   "outputs": [
    {
     "name": "stdout",
     "output_type": "stream",
     "text": [
      "fatto tutto !\n",
      "posso uscire di casa\n"
     ]
    }
   ],
   "source": [
    "fatto_colazione = True\n",
    "lavato_denti = True\n",
    "\n",
    "if fatto_colazione and lavato_denti:\n",
    "    print(\"fatto tutto !\")\n",
    "    print(\"posso uscire di casa\")\n",
    "else:\n",
    "    print(\"NON posso uscire di casa\")\n"
   ]
  },
  {
   "cell_type": "markdown",
   "metadata": {},
   "source": [
    "**✪ ESERCIZIO**: prova a scrivere qui sotto a mano il programma riportato nella cella precedente, ed eseguilo con Control+Invio. Prova a cambiare i valori da `True` a `False` e guarda che succede. \n",
    "\n",
    "Assicurati di provare tutti i casi:\n",
    "\n",
    "- True True\n",
    "- True False\n",
    "- False True\n",
    "- False False\n",
    "\n",
    "<div class=\"alert alert-warning\">\n",
    "\n",
    "**ATTENZIONE**: Ricordati i `:` alla fine della riga con `if` !!!!\n",
    "\n",
    "</div>"
   ]
  },
  {
   "cell_type": "code",
   "execution_count": 13,
   "metadata": {},
   "outputs": [],
   "source": [
    "# scrivi qui\n",
    "\n"
   ]
  },
  {
   "cell_type": "markdown",
   "metadata": {},
   "source": [
    "Si può anche mettere un `if` dentro l'altro (_nested if_). Per esempio, questo programma qui funziona esattamente come il precedente:"
   ]
  },
  {
   "cell_type": "code",
   "execution_count": 14,
   "metadata": {},
   "outputs": [
    {
     "name": "stdout",
     "output_type": "stream",
     "text": [
      "fatto tutto !\n",
      "posso uscire di casa!\n"
     ]
    }
   ],
   "source": [
    "fatto_colazione = True\n",
    "lavato_denti = True\n",
    "\n",
    "if fatto_colazione:\n",
    "    if lavato_denti:                        # NOTA: Questo blocco if è indentato rispetto\n",
    "        print(\"fatto tutto !\")              #       all' if fatto_colazione\n",
    "        print(\"posso uscire di casa!\")      #\n",
    "    else:\n",
    "        print(\"NON posso uscire di casa\")\n",
    "else:\n",
    "    print(\"NON posso uscire di casa\")"
   ]
  },
  {
   "cell_type": "markdown",
   "metadata": {},
   "source": [
    "**✪ ESERCIZIO**: Prova a modificare il programma riportato nella cella precedente per fargli riportare lo stato delle varie azioni compiute. Elenchiamo qui i possibili casi e i risultati attesi:\n",
    "\n",
    "- True False\n",
    "\n",
    "```\n",
    "ho fatto colazione\n",
    "non ho lavato i denti\n",
    "NON posso uscire di casa\n",
    "```\n",
    "\n",
    "- False True\n",
    "- False False\n",
    "\n",
    "```\n",
    "non ho fatto colazione\n",
    "NON posso uscire di casa\n",
    "```\n",
    "\n",
    "- True True\n",
    "```\n",
    "ho fatto colazione\n",
    "ho lavato i denti\n",
    "fatto tutto !\n",
    "posso uscire di casa!\n",
    "```\n",
    "\n",
    "\n",
    "\n",
    "\n"
   ]
  },
  {
   "cell_type": "raw",
   "id": "a8247411",
   "metadata": {
    "format": "text/html"
   },
   "source": [
    "<a  class=\"jupman-sol jupman-sol-toggler\" \n",
    " onclick=\"jupman.toggleSolution(this);\" \n",
    " data-jupman-show=\"Mostra soluzione\" data-jupman-hide=\"Nascondi\">Mostra soluzione</a><div class=\"jupman-sol jupman-sol-code\" style=\"display:none\">  "
   ]
  },
  {
   "cell_type": "code",
   "execution_count": 15,
   "metadata": {},
   "outputs": [
    {
     "name": "stdout",
     "output_type": "stream",
     "text": [
      "ho fatto colazione\n",
      "ho lavato i denti\n",
      "fatto tutto !\n",
      "posso uscire di casa!\n"
     ]
    }
   ],
   "source": [
    "# scrivi qui\n",
    "\n",
    "fatto_colazione = True\n",
    "lavato_denti = True\n",
    "\n",
    "if fatto_colazione:\n",
    "    print(\"ho fatto colazione\")\n",
    "    \n",
    "    if lavato_denti:                        # NOTA: Questo blocco if è indentato rispetto\n",
    "        print(\"ho lavato i denti\")          #\n",
    "        print(\"fatto tutto !\")              #       all' if fatto_colazione\n",
    "        print(\"posso uscire di casa!\")      #\n",
    "    else: \n",
    "        print(\"non ho lavato i denti\")\n",
    "        print(\"NON posso uscire di casa\")\n",
    "        \n",
    "else:\n",
    "    print(\"non ho fatto colazione\")\n",
    "    print(\"NON posso uscire di casa\")"
   ]
  },
  {
   "cell_type": "raw",
   "id": "919e4ad3",
   "metadata": {
    "format": "text/html"
   },
   "source": [
    "</div>"
   ]
  },
  {
   "cell_type": "code",
   "execution_count": 15,
   "metadata": {},
   "outputs": [
    {
     "name": "stdout",
     "output_type": "stream",
     "text": [
      "ho fatto colazione\n",
      "ho lavato i denti\n",
      "fatto tutto !\n",
      "posso uscire di casa!\n"
     ]
    }
   ],
   "source": [
    "# scrivi qui\n",
    "\n"
   ]
  },
  {
   "cell_type": "markdown",
   "metadata": {},
   "source": [
    "### or\n",
    "\n",
    "Per verificare se almeno di due condizioni si è verificata, si usa `or`. Per esempio, possiamo stabilire che per fare colazione ci serve avere del latte intero o scremato (nota: se li abbiamo tutte e due riusciamo a fare colazione lo stesso !)\n"
   ]
  },
  {
   "cell_type": "code",
   "execution_count": 16,
   "metadata": {},
   "outputs": [
    {
     "name": "stdout",
     "output_type": "stream",
     "text": [
      "posso fare colazione !\n"
     ]
    }
   ],
   "source": [
    "ho_latte_intero = True\n",
    "ho_latte_scremato = False\n",
    "\n",
    "if ho_latte_intero or ho_latte_scremato:\n",
    "    print(\"posso fare colazione !\")\n",
    "else: \n",
    "    print(\"NON posso fare colazione :-(\")"
   ]
  },
  {
   "cell_type": "markdown",
   "metadata": {},
   "source": [
    "**✪ ESERCIZIO**: prova a scriverecqui sotto a mano il programma riportato nella cella presedente, ed eseguilo con Control+Invio. Prova a cambiare i valori da `True` a `False` e guarda che succede:\n",
    "\n",
    "Assicurati di provare tutti i casi:\n",
    "\n",
    "- True True\n",
    "- True False\n",
    "- False True\n",
    "- False False"
   ]
  },
  {
   "cell_type": "code",
   "execution_count": 17,
   "metadata": {},
   "outputs": [],
   "source": [
    "# scrivi qui\n",
    "\n"
   ]
  },
  {
   "cell_type": "markdown",
   "metadata": {},
   "source": [
    "**✪✪ ESERCIZIO**: prova a fare un programma che ti dice se puoi uscire di casa solo se  hai fatto colazione (per cui devi avere hai almeno un tipo di latte) e lavato i denti"
   ]
  },
  {
   "cell_type": "raw",
   "id": "b3c93a41",
   "metadata": {
    "format": "text/html"
   },
   "source": [
    "<a  class=\"jupman-sol jupman-sol-toggler\" \n",
    " onclick=\"jupman.toggleSolution(this);\" \n",
    " data-jupman-show=\"Mostra soluzione\" data-jupman-hide=\"Nascondi\">Mostra soluzione</a><div class=\"jupman-sol jupman-sol-code\" style=\"display:none\">  "
   ]
  },
  {
   "cell_type": "code",
   "execution_count": 18,
   "metadata": {},
   "outputs": [
    {
     "name": "stdout",
     "output_type": "stream",
     "text": [
      "posso fare colazione !\n",
      "NON posso uscire di casa\n"
     ]
    }
   ],
   "source": [
    "ho_latte_intero = False\n",
    "ho_latte_scremato = True\n",
    "lavato_denti = False\n",
    "\n",
    "\n",
    "# scrivi qui\n",
    "\n",
    "\n",
    "if ho_latte_intero or ho_latte_scremato:\n",
    "    print(\"posso fare colazione !\")\n",
    "    fatto_colazione = True\n",
    "else: \n",
    "    print(\"NON posso fare colazione :-(\")\n",
    "    fatto_colazione = False\n",
    "\n",
    "if fatto_colazione and lavato_denti:\n",
    "    print(\"posso uscire di casa\")\n",
    "else:\n",
    "    print(\"NON posso uscire di casa\")\n",
    "\n"
   ]
  },
  {
   "cell_type": "raw",
   "id": "2ebd739e",
   "metadata": {
    "format": "text/html"
   },
   "source": [
    "</div>"
   ]
  },
  {
   "cell_type": "code",
   "execution_count": 18,
   "metadata": {},
   "outputs": [
    {
     "name": "stdout",
     "output_type": "stream",
     "text": [
      "posso fare colazione !\n",
      "NON posso uscire di casa\n"
     ]
    }
   ],
   "source": [
    "ho_latte_intero = False\n",
    "ho_latte_scremato = True\n",
    "lavato_denti = False\n",
    "\n",
    "\n",
    "# scrivi qui\n",
    "\n"
   ]
  },
  {
   "cell_type": "markdown",
   "metadata": {},
   "source": [
    "### not\n",
    "\n",
    "Per le negazioni, puoi usare il `not`:\n"
   ]
  },
  {
   "cell_type": "code",
   "execution_count": 19,
   "metadata": {},
   "outputs": [
    {
     "data": {
      "text/plain": [
       "False"
      ]
     },
     "execution_count": 19,
     "metadata": {},
     "output_type": "execute_result"
    }
   ],
   "source": [
    "not True"
   ]
  },
  {
   "cell_type": "code",
   "execution_count": 20,
   "metadata": {},
   "outputs": [
    {
     "data": {
      "text/plain": [
       "True"
      ]
     },
     "execution_count": 20,
     "metadata": {},
     "output_type": "execute_result"
    }
   ],
   "source": [
    "not False"
   ]
  },
  {
   "cell_type": "code",
   "execution_count": 21,
   "metadata": {},
   "outputs": [
    {
     "name": "stdout",
     "output_type": "stream",
     "text": [
      "Ho fame !\n"
     ]
    }
   ],
   "source": [
    "fatto_colazione = False\n",
    "\n",
    "if not fatto_colazione:\n",
    "    print(\"Ho fame !\")\n",
    "else:\n",
    "    print(\"che buoni che erano i cereali\")"
   ]
  },
  {
   "cell_type": "code",
   "execution_count": 22,
   "metadata": {},
   "outputs": [
    {
     "name": "stdout",
     "output_type": "stream",
     "text": [
      "che buoni che erano i cereali\n"
     ]
    }
   ],
   "source": [
    "fatto_colazione = True\n",
    "\n",
    "if not fatto_colazione:\n",
    "    print(\"Ho fame !\")\n",
    "else:\n",
    "    print(\"che buoni che erano i cereali\")"
   ]
  },
  {
   "cell_type": "markdown",
   "metadata": {},
   "source": [
    "✪✪ ESERCIZIO: prova a fare un programma che ti dice se puoi nuotare se NON hai fatto colazione E hai il salvagente\n",
    "\n",
    "Assicurati di provare tutti i casi:\n",
    "\n",
    "- True True\n",
    "- True False\n",
    "- False True\n",
    "- False False"
   ]
  },
  {
   "cell_type": "raw",
   "id": "8176f72a",
   "metadata": {
    "format": "text/html"
   },
   "source": [
    "<a  class=\"jupman-sol jupman-sol-toggler\" \n",
    " onclick=\"jupman.toggleSolution(this);\" \n",
    " data-jupman-show=\"Mostra soluzione\" data-jupman-hide=\"Nascondi\">Mostra soluzione</a><div class=\"jupman-sol jupman-sol-code\" style=\"display:none\">  "
   ]
  },
  {
   "cell_type": "code",
   "execution_count": 23,
   "metadata": {},
   "outputs": [
    {
     "name": "stdout",
     "output_type": "stream",
     "text": [
      "NON puoi nuotare\n"
     ]
    }
   ],
   "source": [
    "\n",
    "hai_salvagente = True\n",
    "fatto_colazione = True\n",
    "\n",
    "# scrivi qui\n",
    "\n",
    "if hai_salvagente and not fatto_colazione:\n",
    "    print(\"puoi nuotare\")\n",
    "else:\n",
    "    print(\"NON puoi nuotare\")"
   ]
  },
  {
   "cell_type": "raw",
   "id": "ec6fdccd",
   "metadata": {
    "format": "text/html"
   },
   "source": [
    "</div>"
   ]
  },
  {
   "cell_type": "code",
   "execution_count": 23,
   "metadata": {},
   "outputs": [
    {
     "name": "stdout",
     "output_type": "stream",
     "text": [
      "NON puoi nuotare\n"
     ]
    }
   ],
   "source": [
    "\n",
    "hai_salvagente = True\n",
    "fatto_colazione = True\n",
    "\n",
    "# scrivi qui\n",
    "\n"
   ]
  },
  {
   "cell_type": "markdown",
   "metadata": {},
   "source": [
    "### Non solo True e False"
   ]
  },
  {
   "cell_type": "markdown",
   "metadata": {
    "colab_type": "text",
    "id": "Wtyg2lXuAFSU"
   },
   "source": [
    "<div class=\"alert alert-warning\">\n",
    "\n",
    "**ATTENZIONE ai booleani diversi da True e False !**\n",
    "\n",
    "In Python, il numero `0` e altri oggetti 'nulli' (come l'oggetto `None`, la stringa vuota `\"\"` e la lista vuota `[]`) sono considerati `False`, e tutto ciò che non è 'nullo' è considerato `True`! \n",
    "</div>"
   ]
  },
  {
   "cell_type": "markdown",
   "metadata": {
    "colab_type": "text",
    "id": "BT44SZeQAFSX"
   },
   "source": [
    "Facciamo degli esempi per mostrare quanto sopra riportato:"
   ]
  },
  {
   "cell_type": "code",
   "execution_count": 24,
   "metadata": {
    "colab": {
     "autoexec": {
      "startup": false,
      "wait_interval": 0
     }
    },
    "colab_type": "code",
    "id": "VVd4Ikp3AFSY"
   },
   "outputs": [
    {
     "name": "stdout",
     "output_type": "stream",
     "text": [
      "questo\n",
      "sarà\n",
      "stampato\n"
     ]
    }
   ],
   "source": [
    "if True:\n",
    "    print(\"questo\")    \n",
    "    print(\"sarà\")\n",
    "    print(\"stampato\")\n",
    "else:\n",
    "    print(\"quest'altro\")\n",
    "    print(\"non sarà stampato\")"
   ]
  },
  {
   "cell_type": "markdown",
   "metadata": {
    "colab_type": "text",
    "id": "AlntXiK3AFSc"
   },
   "source": [
    "Tutto ciò che non è 'nullo' è considerato `True`, verifichiamolo per esempio con la stringa `\"ciao\"`: "
   ]
  },
  {
   "cell_type": "code",
   "execution_count": 25,
   "metadata": {
    "colab": {
     "autoexec": {
      "startup": false,
      "wait_interval": 0
     }
    },
    "colab_type": "code",
    "id": "6GWu1jIUAFSd"
   },
   "outputs": [
    {
     "name": "stdout",
     "output_type": "stream",
     "text": [
      "anche questo\n",
      "sarà stampato!!\n"
     ]
    }
   ],
   "source": [
    "if \"ciao\":\n",
    "    print(\"anche questo\")\n",
    "    print(\"sarà stampato!!\")\n",
    "else:\n",
    "    print(\"e questo no\")"
   ]
  },
  {
   "cell_type": "code",
   "execution_count": 26,
   "metadata": {
    "colab": {
     "autoexec": {
      "startup": false,
      "wait_interval": 0
     }
    },
    "colab_type": "code",
    "id": "HsEUjY8sAFSs"
   },
   "outputs": [
    {
     "name": "stdout",
     "output_type": "stream",
     "text": [
      "io sì\n"
     ]
    }
   ],
   "source": [
    "if False:\n",
    "    print(\"io non sarò stampato\")\n",
    "else:\n",
    "    print(\"io sì\")"
   ]
  },
  {
   "cell_type": "code",
   "execution_count": 27,
   "metadata": {
    "colab": {
     "autoexec": {
      "startup": false,
      "wait_interval": 0
     }
    },
    "colab_type": "code",
    "id": "DG7nyxf5AFS8"
   },
   "outputs": [
    {
     "name": "stdout",
     "output_type": "stream",
     "text": [
      "io sì\n"
     ]
    }
   ],
   "source": [
    "if 0:\n",
    "    print(\"anche questo non sarà stampato\")\n",
    "else:\n",
    "    print(\"io sì\")"
   ]
  },
  {
   "cell_type": "code",
   "execution_count": 28,
   "metadata": {
    "colab": {
     "autoexec": {
      "startup": false,
      "wait_interval": 0
     }
    },
    "colab_type": "code",
    "id": "bRhHcpEjAFTE"
   },
   "outputs": [
    {
     "name": "stdout",
     "output_type": "stream",
     "text": [
      "io sì\n"
     ]
    }
   ],
   "source": [
    "if None:\n",
    "    print(\"neppure questo sarà stampato\")\n",
    "else:\n",
    "    print(\"io sì\")"
   ]
  },
  {
   "cell_type": "code",
   "execution_count": 29,
   "metadata": {
    "colab": {
     "autoexec": {
      "startup": false,
      "wait_interval": 0
     },
     "output_extras": [
      {}
     ]
    },
    "colab_type": "code",
    "id": "5mo5mXdbAFTN",
    "outputId": "1991e1dd-4cdc-41f3-cbfc-53cafff54fe0"
   },
   "outputs": [
    {
     "name": "stdout",
     "output_type": "stream",
     "text": [
      "io sì\n"
     ]
    }
   ],
   "source": [
    "if \"\":  # stringa vuota\n",
    "    print(\"Neanche questo sarà stampato !!!\")\n",
    "else:\n",
    "    print(\"io sì\")"
   ]
  },
  {
   "cell_type": "markdown",
   "metadata": {
    "colab_type": "text",
    "id": "FgE9xpe6AFTZ"
   },
   "source": [
    "**✪ ESERCIZIO**: Copia qua sotto l'`if` una stringa con uno spazio dentro `\" \"`nella condizione dell'`if`. Cosa succederà?\n",
    "\n",
    "- prova anche a mettere una lista vuota `[]`, che succede?"
   ]
  },
  {
   "cell_type": "raw",
   "id": "5bbc4c40",
   "metadata": {
    "format": "text/html"
   },
   "source": [
    "<a  class=\"jupman-sol jupman-sol-toggler\" \n",
    " onclick=\"jupman.toggleSolution(this);\" \n",
    " data-jupman-show=\"Mostra soluzione\" data-jupman-hide=\"Nascondi\">Mostra soluzione</a><div class=\"jupman-sol jupman-sol-code\" style=\"display:none\">  "
   ]
  },
  {
   "cell_type": "code",
   "execution_count": 30,
   "metadata": {
    "colab": {
     "autoexec": {
      "startup": false,
      "wait_interval": 0
     }
    },
    "colab_type": "code",
    "id": "81YonZhpAFTa"
   },
   "outputs": [
    {
     "name": "stdout",
     "output_type": "stream",
     "text": [
      "Niente stampa!\n",
      "io sì\n"
     ]
    }
   ],
   "source": [
    "# scrivi qui l'if \n",
    "\n",
    "\n",
    "if \" \": # spazio\n",
    "    print(\"Niente stampa!\")\n",
    "else:\n",
    "    print(\"io sì\")\n",
    "\n",
    "\n",
    "if []: # lista vuota\n",
    "    print(\"Niente stampa!\")\n",
    "else:\n",
    "    print(\"io sì\")"
   ]
  },
  {
   "cell_type": "raw",
   "id": "a58c97a4",
   "metadata": {
    "format": "text/html"
   },
   "source": [
    "</div>"
   ]
  },
  {
   "cell_type": "code",
   "execution_count": 30,
   "metadata": {
    "colab": {
     "autoexec": {
      "startup": false,
      "wait_interval": 0
     }
    },
    "colab_type": "code",
    "id": "81YonZhpAFTa"
   },
   "outputs": [
    {
     "name": "stdout",
     "output_type": "stream",
     "text": [
      "Niente stampa!\n",
      "io sì\n"
     ]
    }
   ],
   "source": [
    "# scrivi qui l'if \n",
    "\n"
   ]
  },
  {
   "cell_type": "markdown",
   "metadata": {
    "colab_type": "text",
    "id": "AUCCneEoAFTw"
   },
   "source": [
    "## Stringhe - string\n",
    "\n",
    "Le stringhe sono sequenze _immutabili_ di caratteri. \n",
    "\n",
    "**Riferimenti**: \n",
    "\n",
    "SoftPython:\n",
    "\n",
    "- [stringhe 1 - introduzione](https://it.softpython.org/strings/strings1-sol.html)\n",
    "- [stringhe 2 - operatori](https://it.softpython.org/strings/strings2-sol.html)\n",
    "- [stringhe 3 - metodi](https://it.softpython.org/strings/strings3-sol.html) \n",
    "- [stringhe 4 - altri esercizi](https://it.softpython.org/strings/strings4-sol.html) \n",
    "\n",
    "**Concatenare stringhe**\n",
    "\n",
    "Una delle cose che si fanno più frequentemente è concatenre delle stringhe:\n"
   ]
  },
  {
   "cell_type": "code",
   "execution_count": 31,
   "metadata": {
    "colab": {
     "autoexec": {
      "startup": false,
      "wait_interval": 0
     }
    },
    "colab_type": "code",
    "id": "HUNg73x-AFTx"
   },
   "outputs": [
    {
     "data": {
      "text/plain": [
       "'ciao mondo'"
      ]
     },
     "execution_count": 31,
     "metadata": {},
     "output_type": "execute_result"
    }
   ],
   "source": [
    "\"ciao \" + \"mondo\""
   ]
  },
  {
   "cell_type": "markdown",
   "metadata": {
    "colab_type": "text",
    "id": "5Dm0z8SOAFT0"
   },
   "source": [
    "Ma nota che quando concateniamo una stringa e un numero, Python si arrabbia:"
   ]
  },
  {
   "cell_type": "markdown",
   "metadata": {
    "colab_type": "text",
    "id": "vEDchuM9AFT2"
   },
   "source": [
    "```python\n",
    "\"ciao \" + 5\n",
    "```"
   ]
  },
  {
   "cell_type": "markdown",
   "metadata": {
    "colab_type": "text",
    "id": "jKoofPiyAFT3"
   },
   "source": [
    "```bash\n",
    "---------------------------------------------------------------------------\n",
    "TypeError                                 Traceback (most recent call last)\n",
    "<ipython-input-38-e219e8205f7d> in <module>()\n",
    "----> 1 \"ciao \" + 5\n",
    "\n",
    "TypeError: Can't convert 'int' object to str implicitly\n",
    "```"
   ]
  },
  {
   "cell_type": "markdown",
   "metadata": {
    "colab_type": "text",
    "id": "_dPea14WAFT6"
   },
   "source": [
    "Questo succede perchè Python vuole che convertiamo esplicitamente il numero '5' in una stringa. Porrà simili lamentela anche con altri tipi di oggetti. Quindi, quando concatenate oggetti che non sono stringhe, per evitare problemi racchiudete l'oggetto da convertire nella funzione `str` come qui: "
   ]
  },
  {
   "cell_type": "code",
   "execution_count": 32,
   "metadata": {
    "colab": {
     "autoexec": {
      "startup": false,
      "wait_interval": 0
     }
    },
    "colab_type": "code",
    "id": "-xndn9-FAFT7"
   },
   "outputs": [
    {
     "data": {
      "text/plain": [
       "'ciao 7'"
      ]
     },
     "execution_count": 32,
     "metadata": {},
     "output_type": "execute_result"
    }
   ],
   "source": [
    "\"ciao \" + str(7)"
   ]
  },
  {
   "cell_type": "markdown",
   "metadata": {
    "colab_type": "text",
    "id": "SdgLz37QAFUC"
   },
   "source": [
    "Un modo alternativo e più veloce è usare l'operatore di formattazione percentuale `%`, che sostituisce alle occorrenze di `%s` quello che mettete dopo un `%` dopo la stringa :"
   ]
  },
  {
   "cell_type": "code",
   "execution_count": 33,
   "metadata": {
    "colab": {
     "autoexec": {
      "startup": false,
      "wait_interval": 0
     }
    },
    "colab_type": "code",
    "id": "tkupKFSeAFUD"
   },
   "outputs": [
    {
     "data": {
      "text/plain": [
       "'ciao 7'"
      ]
     },
     "execution_count": 33,
     "metadata": {},
     "output_type": "execute_result"
    }
   ],
   "source": [
    "\"ciao %s\" % 7"
   ]
  },
  {
   "cell_type": "markdown",
   "metadata": {
    "colab_type": "text",
    "id": "ZMIOdHJbAFUK"
   },
   "source": [
    "Meglio ancora, il `%s` può stare all'interno della stringa e venire ripetuto. Per ogni occorrenza si può passare un sostituto diverso, come per esempio nella tupla `(\"bello\", \"Python\")` (una tupla è semplicemente una sequenza immutabile di elementi racchiusi tra parentesi tonde e separati da virgole)"
   ]
  },
  {
   "cell_type": "code",
   "execution_count": 34,
   "metadata": {
    "colab": {
     "autoexec": {
      "startup": false,
      "wait_interval": 0
     },
     "output_extras": [
      {}
     ]
    },
    "colab_type": "code",
    "id": "01RTe3XzAFUM",
    "outputId": "c0c70ece-bcd8-482d-8478-1f77d0c056b3"
   },
   "outputs": [
    {
     "data": {
      "text/plain": [
       "'Che bello finalmente imparo Python'"
      ]
     },
     "execution_count": 34,
     "metadata": {},
     "output_type": "execute_result"
    }
   ],
   "source": [
    "\"Che %s finalmente imparo %s\" % (\"bello\", \"Python\")"
   ]
  },
  {
   "cell_type": "markdown",
   "metadata": {
    "colab_type": "text",
    "id": "3ah1CeDPAFUV"
   },
   "source": [
    "**✪ ESERCIZIO**: il `%s` funziona con le stringhe ma anche con quasiasi altro tipo di dato, per esempio un intero. Scrivi qua sotto il comando sopra, aggiunendo un `%s` alla fine della stringa, e aggiungendo alla fine della tupla il numero `3` (separandolo dagli altri con una virgola).\n",
    "\n",
    "Domanda: i `%s` possono stare uno dopo l'altro senza spazi tra di loro? Prova."
   ]
  },
  {
   "cell_type": "code",
   "execution_count": 35,
   "metadata": {
    "colab": {
     "autoexec": {
      "startup": false,
      "wait_interval": 0
     }
    },
    "colab_type": "code",
    "id": "K1pTbCATAFUW"
   },
   "outputs": [],
   "source": [
    "# scrivi qui\n",
    "\n"
   ]
  },
  {
   "cell_type": "markdown",
   "metadata": {
    "colab_type": "text",
    "id": "F5GKXLjqAFYH"
   },
   "source": [
    "### Usare metodi degli oggetti\n",
    "\n",
    "Quasi tutto in Python è un oggetto, faremo qui una velocissima introduzione tanto per dare l'idea.\n",
    "\n",
    "**Riferimenti**\n",
    "\n",
    "- [Pensare in Python, Capitolo 15, Classi e oggetti](https://davidleoni.github.io/ThinkPythonItalian/html/thinkpython2016.html)\n",
    "- [Pensare in Python, Capitolo 16, Classi e funzioni](https://davidleoni.github.io/ThinkPythonItalian/html/thinkpython2017.html)\n",
    "- [Pensare in Python, Capitolo 17, Classi e metodi](https://davidleoni.github.io/ThinkPythonItalian/html/thinkpython2017.html)\n",
    "\n",
    "Quasi tutto in Python è un oggetto. Per esempio, le stringhe sono oggetti. Ogni tipo di oggetto ha delle azioni chiamati _metodi_ che si possono eseguire su quello oggetto. Per esempio, per le stringhe che rappresentano nomi potremmo voler rendere in maiuscolo la prima lettera: a tal fine possiamo cercare se per le stringhe ci sono giò metodi esistenti che fanno questo. Proviamo il metodo esistente  `capitalize()` sulla _stringa_ `\"trento\"` (notare che la stringa è tutta in minuscolo e _capital_ in inglese vuol anche dire 'maiuscolo' ):\n"
   ]
  },
  {
   "cell_type": "code",
   "execution_count": 36,
   "metadata": {
    "colab": {
     "autoexec": {
      "startup": false,
      "wait_interval": 0
     },
     "output_extras": [
      {}
     ]
    },
    "colab_type": "code",
    "id": "L59SZPKMAFYI",
    "outputId": "21f7d2b9-43d6-41a0-c02c-5c1a961f778f"
   },
   "outputs": [
    {
     "data": {
      "text/plain": [
       "'Trento'"
      ]
     },
     "execution_count": 36,
     "metadata": {},
     "output_type": "execute_result"
    }
   ],
   "source": [
    "\n",
    "\"trento\".capitalize()"
   ]
  },
  {
   "cell_type": "markdown",
   "metadata": {
    "colab_type": "text",
    "id": "1eyxqR-PAFYU"
   },
   "source": [
    "Python ci ha appena fatto la cortesia di rendere la prima lettera della parola in maiuscolo `'Trento'` \n"
   ]
  },
  {
   "cell_type": "markdown",
   "metadata": {
    "colab_type": "text",
    "id": "YSb82zlxAFYW"
   },
   "source": [
    "**✪ ESERCIZIO**: Scrivi nella cella qua sotto `\"trento\".` e premi TAB: Jupyter dovrebbe suggerirti dei metodi disponibili per la stringa. Prova il metodo `upper()` e `count(\"t\")` "
   ]
  },
  {
   "cell_type": "code",
   "execution_count": 37,
   "metadata": {
    "colab": {
     "autoexec": {
      "startup": false,
      "wait_interval": 0
     }
    },
    "colab_type": "code",
    "id": "r5_aFtbdAFYY"
   },
   "outputs": [],
   "source": [
    "# scrivi qui\n",
    "\n"
   ]
  },
  {
   "cell_type": "markdown",
   "metadata": {
    "colab_type": "text",
    "id": "-YkY_K8AAFUc"
   },
   "source": [
    "## Liste - list\n",
    "\n",
    "Una lista in python è una sequenza di elementi eterogenei, in cui possiamo mettere gli oggetti che vogliamo.\n",
    "\n",
    "**Riferimenti - SoftPython:**  \n",
    "\n",
    "- [Liste 1 - introduzione](https://it.softpython.org/lists/lists1-sol.html)\n",
    "- [Liste 2 - operatori](https://it.softpython.org/lists/lists2-sol.html)\n",
    "- [Liste 3 - metodi](https://it.softpython.org/lists/lists3-sol.html)\n",
    "- [Liste 4 - iterazione e funzioni](https://it.softpython.org/lists/lists4-sol.html)\n",
    "\n",
    "Creiamo una lista di stringhe:"
   ]
  },
  {
   "cell_type": "code",
   "execution_count": 38,
   "metadata": {
    "colab": {
     "autoexec": {
      "startup": false,
      "wait_interval": 0
     }
    },
    "colab_type": "code",
    "id": "Ozn-Qt0yAFUc"
   },
   "outputs": [],
   "source": [
    "x = [\"ciao\", \"soft\", \"python\"]"
   ]
  },
  {
   "cell_type": "code",
   "execution_count": 39,
   "metadata": {
    "colab": {
     "autoexec": {
      "startup": false,
      "wait_interval": 0
     },
     "output_extras": [
      {}
     ]
    },
    "colab_type": "code",
    "id": "04EWaDNyAFUf",
    "outputId": "f478db2d-544a-47bc-e578-b0d5f1b9a3f1"
   },
   "outputs": [
    {
     "data": {
      "text/plain": [
       "['ciao', 'soft', 'python']"
      ]
     },
     "execution_count": 39,
     "metadata": {},
     "output_type": "execute_result"
    }
   ],
   "source": [
    "x"
   ]
  },
  {
   "cell_type": "markdown",
   "metadata": {
    "colab_type": "text",
    "id": "U6OlmaHaAFUn"
   },
   "source": [
    "Le liste sono sequenze di oggetti possibilmente eterogenei, quindi dentro ci potete buttare di tutto, interi, stringhe, dizionari ...:\n"
   ]
  },
  {
   "cell_type": "code",
   "execution_count": 40,
   "metadata": {
    "colab": {
     "autoexec": {
      "startup": false,
      "wait_interval": 0
     }
    },
    "colab_type": "code",
    "id": "YRnNkTnbAFUn"
   },
   "outputs": [],
   "source": [
    "x = [\"ciao\", 123, {\"a\":\"b\"}]"
   ]
  },
  {
   "cell_type": "code",
   "execution_count": 41,
   "metadata": {
    "colab": {
     "autoexec": {
      "startup": false,
      "wait_interval": 0
     },
     "output_extras": [
      {}
     ]
    },
    "colab_type": "code",
    "id": "YBHGVy51AFUq",
    "outputId": "9ba3a0b6-36ca-4642-ac87-41d9f97c066f"
   },
   "outputs": [
    {
     "data": {
      "text/plain": [
       "['ciao', 123, {'a': 'b'}]"
      ]
     },
     "execution_count": 41,
     "metadata": {},
     "output_type": "execute_result"
    }
   ],
   "source": [
    "x"
   ]
  },
  {
   "cell_type": "markdown",
   "metadata": {
    "colab": {
     "autoexec": {
      "startup": false,
      "wait_interval": 0
     }
    },
    "colab_type": "code",
    "id": "perY24wzAFUx"
   },
   "source": [
    "Per accedere ad un elemento in particolare dentro una lista, si può usare un indice tra parentesi quadre che indica un elemento:"
   ]
  },
  {
   "cell_type": "code",
   "execution_count": 42,
   "metadata": {
    "colab": {
     "autoexec": {
      "startup": false,
      "wait_interval": 0
     },
     "output_extras": [
      {}
     ]
    },
    "colab_type": "code",
    "id": "vWOiXQlNAFU0",
    "outputId": "ca5fe8cc-0788-4591-d13e-febc5fee6f7c"
   },
   "outputs": [
    {
     "data": {
      "text/plain": [
       "'ciao'"
      ]
     },
     "execution_count": 42,
     "metadata": {},
     "output_type": "execute_result"
    }
   ],
   "source": [
    "# primo elemento\n",
    "\n",
    "x[0]  "
   ]
  },
  {
   "cell_type": "code",
   "execution_count": 43,
   "metadata": {
    "colab": {
     "autoexec": {
      "startup": false,
      "wait_interval": 0
     },
     "output_extras": [
      {}
     ]
    },
    "colab_type": "code",
    "id": "09ciP4W0AFU8",
    "outputId": "d7d2eacb-7afd-4e6f-da32-cfd5a12f65b4"
   },
   "outputs": [
    {
     "data": {
      "text/plain": [
       "123"
      ]
     },
     "execution_count": 43,
     "metadata": {},
     "output_type": "execute_result"
    }
   ],
   "source": [
    "# secondo elemento\n",
    "\n",
    "x[1]"
   ]
  },
  {
   "cell_type": "code",
   "execution_count": 44,
   "metadata": {
    "colab": {
     "autoexec": {
      "startup": false,
      "wait_interval": 0
     },
     "output_extras": [
      {}
     ]
    },
    "colab_type": "code",
    "id": "pHFc8586AFVD",
    "outputId": "400f7957-c1ca-4c5d-c762-809daf0fbe82"
   },
   "outputs": [
    {
     "data": {
      "text/plain": [
       "{'a': 'b'}"
      ]
     },
     "execution_count": 44,
     "metadata": {},
     "output_type": "execute_result"
    }
   ],
   "source": [
    "# terzo elemento\n",
    "\n",
    "x[2]"
   ]
  },
  {
   "cell_type": "markdown",
   "metadata": {
    "colab_type": "text",
    "id": "A6rRmAJ-AFVL"
   },
   "source": [
    "In una lista possiamo cambiare gli elementi con l'assegnazione: "
   ]
  },
  {
   "cell_type": "code",
   "execution_count": 45,
   "metadata": {
    "colab": {
     "autoexec": {
      "startup": false,
      "wait_interval": 0
     }
    },
    "colab_type": "code",
    "id": "V2LYVi8CAFVL"
   },
   "outputs": [],
   "source": [
    "# Cambiamo il _secondo_ elemento:\n",
    "\n",
    "x[1] = \"soft\""
   ]
  },
  {
   "cell_type": "code",
   "execution_count": 46,
   "metadata": {
    "colab": {
     "autoexec": {
      "startup": false,
      "wait_interval": 0
     },
     "output_extras": [
      {}
     ]
    },
    "colab_type": "code",
    "id": "8vf5xnm8AFVT",
    "outputId": "958c853d-3288-4d74-df26-e0998d98c79f"
   },
   "outputs": [
    {
     "data": {
      "text/plain": [
       "['ciao', 'soft', {'a': 'b'}]"
      ]
     },
     "execution_count": 46,
     "metadata": {},
     "output_type": "execute_result"
    }
   ],
   "source": [
    "x"
   ]
  },
  {
   "cell_type": "code",
   "execution_count": 47,
   "metadata": {
    "colab": {
     "autoexec": {
      "startup": false,
      "wait_interval": 0
     }
    },
    "colab_type": "code",
    "id": "QZ0Rg6QdAFVZ"
   },
   "outputs": [],
   "source": [
    "x[2] = \"python\""
   ]
  },
  {
   "cell_type": "code",
   "execution_count": 48,
   "metadata": {
    "colab": {
     "autoexec": {
      "startup": false,
      "wait_interval": 0
     },
     "output_extras": [
      {}
     ]
    },
    "colab_type": "code",
    "id": "0fh1vyFmAFVc",
    "outputId": "b754b8e7-9521-4e34-bf8d-82c58d44209c"
   },
   "outputs": [
    {
     "data": {
      "text/plain": [
       "['ciao', 'soft', 'python']"
      ]
     },
     "execution_count": 48,
     "metadata": {},
     "output_type": "execute_result"
    }
   ],
   "source": [
    "x"
   ]
  },
  {
   "cell_type": "markdown",
   "metadata": {
    "colab_type": "text",
    "id": "qghMxSoDAFVf"
   },
   "source": [
    "Per ottenere la lunghezza di una lista, possiamo usare `len`:"
   ]
  },
  {
   "cell_type": "code",
   "execution_count": 49,
   "metadata": {
    "colab": {
     "autoexec": {
      "startup": false,
      "wait_interval": 0
     },
     "output_extras": [
      {}
     ]
    },
    "colab_type": "code",
    "id": "B5qka4xoAFVh",
    "outputId": "4b5f0e3c-2749-48ab-ad29-38ad7f8ad638"
   },
   "outputs": [
    {
     "data": {
      "text/plain": [
       "3"
      ]
     },
     "execution_count": 49,
     "metadata": {},
     "output_type": "execute_result"
    }
   ],
   "source": [
    "x = [\"ciao\", \"soft\", \"python\"]\n",
    "\n",
    "len(x)"
   ]
  },
  {
   "cell_type": "markdown",
   "metadata": {
    "colab_type": "text",
    "id": "1oK8VQhqAFVl"
   },
   "source": [
    "**✪ ESERCIZIO**: prova ad accedere ad un elemento fuori dalla lista, e vedi che succede. \n",
    "\n",
    "- `x[3]` è dentro o fuori dalla lista? \n",
    "- C'è una qualche lista `x` per cui possiamo scrivere `x[len(x)]` senza problemi ?\n",
    "- se usi indici negativi, che succede? Prova -1, -2, -3, -4 ..."
   ]
  },
  {
   "cell_type": "code",
   "execution_count": 50,
   "metadata": {
    "colab": {
     "autoexec": {
      "startup": false,
      "wait_interval": 0
     }
    },
    "colab_type": "code",
    "id": "SP2tU81tAFVm"
   },
   "outputs": [],
   "source": [
    "# scrivi qui\n",
    "\n"
   ]
  },
  {
   "cell_type": "markdown",
   "metadata": {
    "colab_type": "text",
    "id": "ZSY_jqK_AFVv"
   },
   "source": [
    "Possiamo aggiungere elementi alla fine di una lista usando il comando `append`:"
   ]
  },
  {
   "cell_type": "code",
   "execution_count": 51,
   "metadata": {
    "colab": {
     "autoexec": {
      "startup": false,
      "wait_interval": 0
     }
    },
    "colab_type": "code",
    "id": "QxpNlcbHAFVv"
   },
   "outputs": [],
   "source": [
    "\n",
    "x = []"
   ]
  },
  {
   "cell_type": "code",
   "execution_count": 52,
   "metadata": {
    "colab": {
     "autoexec": {
      "startup": false,
      "wait_interval": 0
     },
     "output_extras": [
      {}
     ]
    },
    "colab_type": "code",
    "id": "dXKCs033AFVz",
    "outputId": "0c1d2151-929e-47ff-efe9-30fa1d805cff"
   },
   "outputs": [
    {
     "data": {
      "text/plain": [
       "[]"
      ]
     },
     "execution_count": 52,
     "metadata": {},
     "output_type": "execute_result"
    }
   ],
   "source": [
    "x"
   ]
  },
  {
   "cell_type": "code",
   "execution_count": 53,
   "metadata": {
    "colab": {
     "autoexec": {
      "startup": false,
      "wait_interval": 0
     }
    },
    "colab_type": "code",
    "id": "w6B-rfZpAFV2"
   },
   "outputs": [],
   "source": [
    "x.append(\"ciao\")"
   ]
  },
  {
   "cell_type": "code",
   "execution_count": 54,
   "metadata": {
    "colab": {
     "autoexec": {
      "startup": false,
      "wait_interval": 0
     },
     "output_extras": [
      {}
     ]
    },
    "colab_type": "code",
    "id": "M8roNVZPAFV5",
    "outputId": "b61ddfa5-115b-43cc-df02-450435f69d10"
   },
   "outputs": [
    {
     "data": {
      "text/plain": [
       "['ciao']"
      ]
     },
     "execution_count": 54,
     "metadata": {},
     "output_type": "execute_result"
    }
   ],
   "source": [
    "x"
   ]
  },
  {
   "cell_type": "code",
   "execution_count": 55,
   "metadata": {
    "colab": {
     "autoexec": {
      "startup": false,
      "wait_interval": 0
     }
    },
    "colab_type": "code",
    "id": "4zXn5AnYAFV9"
   },
   "outputs": [],
   "source": [
    "x.append(\"soft\")"
   ]
  },
  {
   "cell_type": "code",
   "execution_count": 56,
   "metadata": {
    "colab": {
     "autoexec": {
      "startup": false,
      "wait_interval": 0
     },
     "output_extras": [
      {}
     ]
    },
    "colab_type": "code",
    "id": "1YuQeTO8AFWF",
    "outputId": "6e819883-ced0-4382-a24e-c6984a0fe3e7"
   },
   "outputs": [
    {
     "data": {
      "text/plain": [
       "['ciao', 'soft']"
      ]
     },
     "execution_count": 56,
     "metadata": {},
     "output_type": "execute_result"
    }
   ],
   "source": [
    "x"
   ]
  },
  {
   "cell_type": "code",
   "execution_count": 57,
   "metadata": {
    "colab": {
     "autoexec": {
      "startup": false,
      "wait_interval": 0
     }
    },
    "colab_type": "code",
    "id": "efAjHzyfAFWK"
   },
   "outputs": [],
   "source": [
    "x.append(\"python\")"
   ]
  },
  {
   "cell_type": "code",
   "execution_count": 58,
   "metadata": {
    "colab": {
     "autoexec": {
      "startup": false,
      "wait_interval": 0
     },
     "output_extras": [
      {}
     ]
    },
    "colab_type": "code",
    "id": "vSSZvL52AFWO",
    "outputId": "54946ba0-ef21-4f9b-ac8f-afddc65bb84f"
   },
   "outputs": [
    {
     "data": {
      "text/plain": [
       "['ciao', 'soft', 'python']"
      ]
     },
     "execution_count": 58,
     "metadata": {},
     "output_type": "execute_result"
    }
   ],
   "source": [
    "x"
   ]
  },
  {
   "cell_type": "markdown",
   "metadata": {
    "colab_type": "text",
    "id": "TrimbgQ8i6zE"
   },
   "source": [
    "### Ordinamento liste\n",
    "\n",
    "Le liste possono ordinare comodamente con il metodo `.sort`, che funziona su tutti gli oggetti ordinabili. Per esempio, possiamo ordinare i numeri:\n",
    "\n",
    "**IMPORTANTE**:  `.sort()` modifica la lista su cui è chiamato, _non_ ne genera una nuova !"
   ]
  },
  {
   "cell_type": "code",
   "execution_count": 59,
   "metadata": {
    "colab": {
     "autoexec": {
      "startup": false,
      "wait_interval": 0
     }
    },
    "colab_type": "code",
    "id": "xNFr7Up3jt9l"
   },
   "outputs": [],
   "source": [
    "x = [ 8, 2, 4]\n",
    "\n",
    "x.sort()"
   ]
  },
  {
   "cell_type": "code",
   "execution_count": 60,
   "metadata": {
    "colab": {
     "autoexec": {
      "startup": false,
      "wait_interval": 0
     }
    },
    "colab_type": "code",
    "id": "bxLaBfwaj3bM"
   },
   "outputs": [
    {
     "data": {
      "text/plain": [
       "[2, 4, 8]"
      ]
     },
     "execution_count": 60,
     "metadata": {},
     "output_type": "execute_result"
    }
   ],
   "source": [
    "x"
   ]
  },
  {
   "cell_type": "markdown",
   "metadata": {
    "colab_type": "text",
    "id": "IQWomkTPj5P4"
   },
   "source": [
    "Come altro esempio, possiamo ordinare le stringhe:"
   ]
  },
  {
   "cell_type": "code",
   "execution_count": 61,
   "metadata": {
    "colab": {
     "autoexec": {
      "startup": false,
      "wait_interval": 0
     },
     "base_uri": "https://localhost:8080/",
     "height": 34,
     "output_extras": [
      {
       "item_id": 1
      }
     ]
    },
    "colab_type": "code",
    "executionInfo": {
     "elapsed": 484,
     "status": "ok",
     "timestamp": 1519035909727,
     "user": {
      "displayName": "David Leoni",
      "photoUrl": "https://lh3.googleusercontent.com/a/default-user=s128",
      "userId": "102920557909426557439"
     },
     "user_tz": -60
    },
    "id": "Z2kdDpxNjcMg",
    "outputId": "fbf06717-b6d4-4e00-a440-36628440c398"
   },
   "outputs": [
    {
     "data": {
      "text/plain": [
       "['ciao', 'mondo', 'python']"
      ]
     },
     "execution_count": 61,
     "metadata": {},
     "output_type": "execute_result"
    }
   ],
   "source": [
    "x = [ 'mondo', 'python',  'ciao',]\n",
    "\n",
    "x.sort()\n",
    "x"
   ]
  },
  {
   "cell_type": "markdown",
   "metadata": {
    "colab_type": "text",
    "id": "tyK4Pgo7lcay"
   },
   "source": [
    "Se non volessimo modificare la lista originale e invece volessimo generarne una nuova, useremmo la funzione `sorted()`. **NOTA**: `sorted` è una _funzione_, non un _metodo_:"
   ]
  },
  {
   "cell_type": "code",
   "execution_count": 62,
   "metadata": {
    "colab": {
     "autoexec": {
      "startup": false,
      "wait_interval": 0
     },
     "base_uri": "https://localhost:8080/",
     "height": 34,
     "output_extras": [
      {
       "item_id": 1
      }
     ]
    },
    "colab_type": "code",
    "executionInfo": {
     "elapsed": 826,
     "status": "ok",
     "timestamp": 1519035925999,
     "user": {
      "displayName": "David Leoni",
      "photoUrl": "https://lh3.googleusercontent.com/a/default-user=s128",
      "userId": "102920557909426557439"
     },
     "user_tz": -60
    },
    "id": "7x9keLzIlbeY",
    "outputId": "975525d4-ba5f-4075-96bc-9de778fac761"
   },
   "outputs": [
    {
     "data": {
      "text/plain": [
       "['ciao', 'mondo', 'python']"
      ]
     },
     "execution_count": 62,
     "metadata": {},
     "output_type": "execute_result"
    }
   ],
   "source": [
    "x = [ 'mondo', 'python', 'ciao',]\n",
    "\n",
    "sorted(x)"
   ]
  },
  {
   "cell_type": "code",
   "execution_count": 63,
   "metadata": {
    "colab": {
     "autoexec": {
      "startup": false,
      "wait_interval": 0
     },
     "base_uri": "https://localhost:8080/",
     "height": 34,
     "output_extras": [
      {
       "item_id": 1
      }
     ]
    },
    "colab_type": "code",
    "executionInfo": {
     "elapsed": 477,
     "status": "ok",
     "timestamp": 1519036050423,
     "user": {
      "displayName": "David Leoni",
      "photoUrl": "https://lh3.googleusercontent.com/a/default-user=s128",
      "userId": "102920557909426557439"
     },
     "user_tz": -60
    },
    "id": "L87O-fjMlwoz",
    "outputId": "98291939-58ee-494c-a7b6-5caf071741a3"
   },
   "outputs": [
    {
     "data": {
      "text/plain": [
       "['mondo', 'python', 'ciao']"
      ]
     },
     "execution_count": 63,
     "metadata": {},
     "output_type": "execute_result"
    }
   ],
   "source": [
    "# l'x originale non è cambiato:\n",
    "x"
   ]
  },
  {
   "cell_type": "markdown",
   "metadata": {
    "colab_type": "text",
    "id": "nwsN6H3bkGrN"
   },
   "source": [
    "**✪ ESERCIZIO**: Che succede se ordini stringhe contenenti gli stessi caratteri ma maiscoli invece di minuscoli? Come vengono ordinati? Fai delle prove. \n"
   ]
  },
  {
   "cell_type": "code",
   "execution_count": 64,
   "metadata": {},
   "outputs": [],
   "source": [
    "# scrivi qui"
   ]
  },
  {
   "cell_type": "markdown",
   "metadata": {},
   "source": [
    "**✪ ESERCIZIO**:  Che succede se nella stessa lista metti sia stringhe che numeri e provi ad ordinarla? Fai delle prove.\n"
   ]
  },
  {
   "cell_type": "code",
   "execution_count": 65,
   "metadata": {},
   "outputs": [],
   "source": [
    "# scrivi qui\n"
   ]
  },
  {
   "cell_type": "markdown",
   "metadata": {
    "colab_type": "text",
    "id": "OPTT3kHSpp3m"
   },
   "source": [
    "**Ordine rovesciato**\n",
    "\n",
    "Supponiamo di voler ordinare la lista alla rovescia usando `sorted`. Per fare cioò possiamo indicare a Python il parametro booleano `reverse` e il suo valore, che in questo caso sarà `True`. Questo ci permette di notare come Python consenta di usare parametri opzionali specificandoli _per nome_ :"
   ]
  },
  {
   "cell_type": "code",
   "execution_count": 66,
   "metadata": {
    "colab": {
     "autoexec": {
      "startup": false,
      "wait_interval": 0
     },
     "base_uri": "https://localhost:8080/",
     "height": 34,
     "output_extras": [
      {
       "item_id": 1
      }
     ]
    },
    "colab_type": "code",
    "executionInfo": {
     "elapsed": 662,
     "status": "ok",
     "timestamp": 1519036904044,
     "user": {
      "displayName": "David Leoni",
      "photoUrl": "https://lh3.googleusercontent.com/a/default-user=s128",
      "userId": "102920557909426557439"
     },
     "user_tz": -60
    },
    "id": "1uL7iYVxp0Jc",
    "outputId": "0c2ff50a-f5a7-4a9b-9615-47a4bfd61df9"
   },
   "outputs": [
    {
     "data": {
      "text/plain": [
       "['python', 'mondo', 'ciao']"
      ]
     },
     "execution_count": 66,
     "metadata": {},
     "output_type": "execute_result"
    }
   ],
   "source": [
    "sorted(['mondo', 'python', 'ciao'], reverse=True)"
   ]
  },
  {
   "cell_type": "markdown",
   "metadata": {
    "colab_type": "text",
    "id": "J4NE2J80qNj9"
   },
   "source": [
    "**✪ ESERCIZIO**: Per cercare informazioni su `sorted`, avremmo potuto chiedere a Python dell'aiuto. Per fare ciò Python mette a disposizione una comoda funzione chiamata `help`, che potresti usare così `help(sorted)`. Prova ad eseguirla nella cella qua sotto. A volte l'help è piuttosto complesso, e sta a noi sforzarci un po' per individuare i parametri di interesse\n"
   ]
  },
  {
   "cell_type": "code",
   "execution_count": 67,
   "metadata": {},
   "outputs": [],
   "source": [
    "# scrivi qui\n",
    "\n",
    "\n"
   ]
  },
  {
   "cell_type": "markdown",
   "metadata": {
    "colab_type": "text",
    "id": "BYKOKlw3rTXo"
   },
   "source": [
    "**Rovesciare liste non ordinate**\n",
    "\n",
    "E se volessimo rovesciare una lista così com'è, senza ordinarla in senso decrescente, per esempio per passare da`[6,2,4]` a `[2,4,6]` Cercando un po' nella libreria di Python, vediamo che c'è una comoda funzione `reversed()` che prende come paramatro la lista che vogliamo rovesciare e ne genera una nuova rovesciata. \n",
    "\n",
    "**✪ ESERCIZIO**: Prova ad eseguire `reversed([6,2,4])` nella cella qua sotto, e guarda che output ottieni. E' quello che ti aspetti ? In genere, e specialmente in Python 3, quando ci aspettiamo una lista e per caso vediamo invece un oggetto col nome `iterator`, possiamo risolvere passando il risultato come parametro della funzione `list()`"
   ]
  },
  {
   "cell_type": "code",
   "execution_count": 68,
   "metadata": {
    "colab": {
     "autoexec": {
      "startup": false,
      "wait_interval": 0
     }
    },
    "colab_type": "code",
    "id": "ajY8faRvsBIu"
   },
   "outputs": [],
   "source": [
    "# scrivi qui il codice \n",
    "\n"
   ]
  },
  {
   "cell_type": "markdown",
   "metadata": {
    "colab_type": "text",
    "id": "poPVz2M0AFWT"
   },
   "source": [
    "\n",
    "## Dizionari - dict\n",
    "\n",
    "I dizionari sono dei contenitori che ci consentono di abbinare dei _valori_ a delle voci dette _chiavi_. Qua faremo un esempio rapidissimo per dare un'idea.\n",
    "\n",
    "\n",
    "**Riferimenti**:\n",
    "\n",
    "- [Pensare in Python, Capitolo 11, Dizionari](https://davidleoni.github.io/ThinkPythonItalian/html/thinkpython2012.html)\n",
    "\n",
    "- SoftPython - dizionari:\n",
    "    1. [introduzione](https://it.softpython.org/dictionaries/dictionaries1-sol.html)\n",
    "    2. [operatori](https://it.softpython.org/dictionaries/dictionaries2-sol.html)\n",
    "    3. [metodi](https://it.softpython.org/dictionaries/dictionaries3-sol.html)\n",
    "    4. [iterazione e funzioni](https://it.softpython.org/dictionaries/dictionaries4-sol.html)\n",
    "    5. [strutture composte](https://it.softpython.org/dictionaries/dictionaries5-sol.html)\n",
    "\n",
    "Possiamo creare un dizionario con le graffe `{` `}`, separando le chiavi dai valori con i due punti `:`, e separando le coppie chiave/valore con la virgola `,`:"
   ]
  },
  {
   "cell_type": "code",
   "execution_count": 69,
   "metadata": {
    "colab": {
     "autoexec": {
      "startup": false,
      "wait_interval": 0
     }
    },
    "colab_type": "code",
    "id": "TBTib8uDAFWT"
   },
   "outputs": [],
   "source": [
    "d = {  'chiave 1':'valore 1', 'chiave 2':'valore 2'}"
   ]
  },
  {
   "cell_type": "markdown",
   "metadata": {
    "colab_type": "text",
    "id": "-KbnLHG4AFWY"
   },
   "source": [
    "Per accedere ai valori, possiamo usare le chiavi tra parentesi quadre:"
   ]
  },
  {
   "cell_type": "code",
   "execution_count": 70,
   "metadata": {
    "colab": {
     "autoexec": {
      "startup": false,
      "wait_interval": 0
     },
     "output_extras": [
      {}
     ]
    },
    "colab_type": "code",
    "id": "uOtygGF-AFWY",
    "outputId": "424158a1-1e06-4101-dfb8-3c5ea0439140"
   },
   "outputs": [
    {
     "data": {
      "text/plain": [
       "'valore 1'"
      ]
     },
     "execution_count": 70,
     "metadata": {},
     "output_type": "execute_result"
    }
   ],
   "source": [
    "d['chiave 1']"
   ]
  },
  {
   "cell_type": "code",
   "execution_count": 71,
   "metadata": {
    "colab": {
     "autoexec": {
      "startup": false,
      "wait_interval": 0
     },
     "output_extras": [
      {}
     ]
    },
    "colab_type": "code",
    "id": "USOz4GrKAFWh",
    "outputId": "c19e78b1-5506-4ae2-9e52-123c6a36c24c"
   },
   "outputs": [
    {
     "data": {
      "text/plain": [
       "'valore 2'"
      ]
     },
     "execution_count": 71,
     "metadata": {},
     "output_type": "execute_result"
    }
   ],
   "source": [
    "d['chiave 2']"
   ]
  },
  {
   "cell_type": "markdown",
   "metadata": {
    "colab_type": "text",
    "id": "Y6g0wQOoAFWn"
   },
   "source": [
    "**Valori**: come valori nei dizionari possiamo mettere quello che ci pare, numeri, stringhe, tuple, liste, altri dizionari .."
   ]
  },
  {
   "cell_type": "code",
   "execution_count": 72,
   "metadata": {
    "colab": {
     "autoexec": {
      "startup": false,
      "wait_interval": 0
     }
    },
    "colab_type": "code",
    "id": "n_jOaUL7AFWn"
   },
   "outputs": [],
   "source": [
    "d['chiave 3'] = 123"
   ]
  },
  {
   "cell_type": "code",
   "execution_count": 73,
   "metadata": {
    "colab": {
     "autoexec": {
      "startup": false,
      "wait_interval": 0
     },
     "output_extras": [
      {}
     ]
    },
    "colab_type": "code",
    "id": "4rW2qESsAFWr",
    "outputId": "a4d78101-ffa3-4061-f359-c9c9e50c6841"
   },
   "outputs": [
    {
     "data": {
      "text/plain": [
       "{'chiave 1': 'valore 1', 'chiave 2': 'valore 2', 'chiave 3': 123}"
      ]
     },
     "execution_count": 73,
     "metadata": {},
     "output_type": "execute_result"
    }
   ],
   "source": [
    "d"
   ]
  },
  {
   "cell_type": "code",
   "execution_count": 74,
   "metadata": {
    "colab": {
     "autoexec": {
      "startup": false,
      "wait_interval": 0
     }
    },
    "colab_type": "code",
    "id": "5xIZB-EnAFWw"
   },
   "outputs": [],
   "source": [
    "d['chiave 4'] = ('io','sono', 'una', 'tupla')"
   ]
  },
  {
   "cell_type": "code",
   "execution_count": 75,
   "metadata": {
    "colab": {
     "autoexec": {
      "startup": false,
      "wait_interval": 0
     },
     "output_extras": [
      {}
     ]
    },
    "colab_type": "code",
    "id": "npAcGHM8AFW7",
    "outputId": "0ea2e4b3-8693-4d97-ee75-019c901b3b99"
   },
   "outputs": [
    {
     "data": {
      "text/plain": [
       "{'chiave 1': 'valore 1',\n",
       " 'chiave 2': 'valore 2',\n",
       " 'chiave 3': 123,\n",
       " 'chiave 4': ('io', 'sono', 'una', 'tupla')}"
      ]
     },
     "execution_count": 75,
     "metadata": {},
     "output_type": "execute_result"
    }
   ],
   "source": [
    "d"
   ]
  },
  {
   "cell_type": "markdown",
   "metadata": {
    "colab_type": "text",
    "id": "ULq3n4TiAFXB"
   },
   "source": [
    "**✪ ESERCIZIO**: prova ad inserire nel dizionario delle coppie chiave valore con chiavi stringa e come valori delle liste e altri dizionari, "
   ]
  },
  {
   "cell_type": "code",
   "execution_count": 76,
   "metadata": {
    "colab": {
     "autoexec": {
      "startup": false,
      "wait_interval": 0
     }
    },
    "colab_type": "code",
    "id": "aqL7HMKjAFXC"
   },
   "outputs": [],
   "source": [
    "# scrivi qui:\n",
    "\n",
    "\n"
   ]
  },
  {
   "cell_type": "markdown",
   "metadata": {
    "colab_type": "text",
    "id": "9IpoJd3WAFXP"
   },
   "source": [
    "**Chiavi**: Per le chiavi abbiamo qualche restrizione in più. Dentro i dizionari possiamo anche inserire dei numeri interi come chiavi:"
   ]
  },
  {
   "cell_type": "code",
   "execution_count": 77,
   "metadata": {
    "colab": {
     "autoexec": {
      "startup": false,
      "wait_interval": 0
     }
    },
    "colab_type": "code",
    "id": "2GGqOz7XAFXS"
   },
   "outputs": [],
   "source": [
    "d[123] = 'valore 3'"
   ]
  },
  {
   "cell_type": "code",
   "execution_count": 78,
   "metadata": {
    "colab": {
     "autoexec": {
      "startup": false,
      "wait_interval": 0
     },
     "output_extras": [
      {}
     ]
    },
    "colab_type": "code",
    "id": "xT8hKlKWAFXW",
    "outputId": "8f04e1e5-9e98-4765-b639-4720aa4cd863"
   },
   "outputs": [
    {
     "data": {
      "text/plain": [
       "{123: 'valore 3',\n",
       " 'chiave 1': 'valore 1',\n",
       " 'chiave 2': 'valore 2',\n",
       " 'chiave 3': 123,\n",
       " 'chiave 4': ('io', 'sono', 'una', 'tupla')}"
      ]
     },
     "execution_count": 78,
     "metadata": {},
     "output_type": "execute_result"
    }
   ],
   "source": [
    "d"
   ]
  },
  {
   "cell_type": "markdown",
   "metadata": {
    "colab_type": "text",
    "id": "HwOmHE59AFXo"
   },
   "source": [
    "o persino delle sequenze, purchè siano _immutabili_ come le tuple:"
   ]
  },
  {
   "cell_type": "code",
   "execution_count": 79,
   "metadata": {
    "colab": {
     "autoexec": {
      "startup": false,
      "wait_interval": 0
     }
    },
    "colab_type": "code",
    "id": "yjUVpZA9AFXp"
   },
   "outputs": [],
   "source": [
    "d[('io','sono','una','tupla')] = 'valore 4'"
   ]
  },
  {
   "cell_type": "code",
   "execution_count": 80,
   "metadata": {
    "colab": {
     "autoexec": {
      "startup": false,
      "wait_interval": 0
     },
     "output_extras": [
      {}
     ]
    },
    "colab_type": "code",
    "id": "cfFQsiTAAFXs",
    "outputId": "3d298239-01e2-417c-b5a6-84f684fc6bd6"
   },
   "outputs": [
    {
     "data": {
      "text/plain": [
       "{('io', 'sono', 'una', 'tupla'): 'valore 4',\n",
       " 123: 'valore 3',\n",
       " 'chiave 1': 'valore 1',\n",
       " 'chiave 2': 'valore 2',\n",
       " 'chiave 3': 123,\n",
       " 'chiave 4': ('io', 'sono', 'una', 'tupla')}"
      ]
     },
     "execution_count": 80,
     "metadata": {},
     "output_type": "execute_result"
    }
   ],
   "source": [
    "d"
   ]
  },
  {
   "cell_type": "markdown",
   "metadata": {
    "colab_type": "text",
    "id": "oDjgDSrdAFX7"
   },
   "source": [
    "\n",
    "<div class=\"alert alert-warning\">\n",
    "\n",
    "**ATTENZIONE**: Non tutti i tipi vanno bene a Python come chiavi. Senza andare nei dettagli, in genere non puoi inserire nei dizionari dei tipi che possono essere modificati dopo che sono stati creati. \n",
    " \n",
    "</div>\n",
    "\n",
    "**✪ ESERCIZIO**: \n",
    "\n",
    "- Prova ad inserire in un dizionario una lista tipo `['a','b']`come chiave, e come valore metti quello che vuoi. Python non dovrebbe permetterti di farlo, e ti dovrebbe mostrare la scritta `TypeError: unhashable type: 'list'`\n",
    "- prova anche ad inserire un dizionario come chiave (per es. anche il dizionario vuoto `{}`). Che risultato ottieni?\n"
   ]
  },
  {
   "cell_type": "markdown",
   "metadata": {},
   "source": [
    "## Visualizzare l'esecuzione con Python Tutor\n",
    "\n",
    "\n",
    "Abbiamo visto i principali tipi di dati. Prima di procedere oltre, è bene vedere gli strumenti giusti per comprendere al meglio cosa succede quando si esegue il codice.\n",
    "[Python tutor](http://pythontutor.com/) è un ottimo sito online per visualizzare online l’esecuzione di codice Python, permettendo di andare avanti e _indietro_ nell'esecuzione del codice. Sfruttatelo più che potete, dovrebbe funzionare con parecchi degli esempi che tratteremo a lezione. Vediamo un esempio. \n",
    "\n",
    "**Python tutor 1/4**\n",
    "\n",
    "Vai sul sito [pythontutor.com](http://pythontutor.com/) e seleziona _Python 3_"
   ]
  },
  {
   "cell_type": "markdown",
   "metadata": {},
   "source": [
    "![pytut-1-8231](img/pytut-1.jpg)"
   ]
  },
  {
   "cell_type": "markdown",
   "metadata": {},
   "source": [
    "**Python tutor 2/4**\n",
    "\n",
    "![pytut-2-498273](img/pytut-2.jpg)"
   ]
  },
  {
   "cell_type": "markdown",
   "metadata": {},
   "source": [
    "**Python tutor 3/4**\n",
    "\n",
    "![pytut-3-89142](img/pytut-3.jpg)"
   ]
  },
  {
   "cell_type": "markdown",
   "metadata": {},
   "source": [
    "**Python tutor 4/4**\n",
    "\n",
    "![pytut-4-27854](img/pytut-4.jpg)"
   ]
  },
  {
   "cell_type": "markdown",
   "metadata": {},
   "source": [
    "### Debuggare codice in Jupyter\n",
    "\n",
    "Python tutor è fantastico, ma quando esegui del codice in Jupyter e non funziona, come si può fare? Per ispezionare l'esecuzione, gli editor di solito mettono a disposizione uno strumento chiamato _debugger_, che permette di eseguire le istruzioni una per una. Al momento (Agosto 2018), il debugger di Jupyter che si chiama [pdb](https://davidhamann.de/2017/04/22/debugging-jupyter-notebooks/) è estramamente limitato . Per superarne le limitazioni, in questo corso ci siamo inventati una soluzione di ripiego, che sfrutta Python Tutor.\n",
    "\n",
    "Se inserisci del codice Python in una cella, e poi **alla fine della cella** scrivete l'istruzione `jupman.pytut()`, come per magia il codice precedente verrà visualizzato all'interno del foglio Jupyter con il debugger di Python Tutor. \n",
    "\n"
   ]
  },
  {
   "cell_type": "markdown",
   "metadata": {},
   "source": [
    "<div class=\"alert alert-warning\">\n",
    "\n",
    "**ATTENZIONE**: `jupman` è una collezione di funzioni di supporto che ci siamo inventati apposta per questo corso. \n",
    "\n",
    "Quando vedi comandi che iniziano con `jupman`, affinchè funzionino devi prima eseguire la cella in cima al documento. Riportiamo tale cella qua per comodità. Se non lo hai già fatto, eseguila adesso.\n",
    "\n",
    "</div>\n"
   ]
  },
  {
   "cell_type": "code",
   "execution_count": 81,
   "metadata": {},
   "outputs": [],
   "source": [
    "# Ricordati di eseguire questa cella con Control+Invio\n",
    "# Questi comandi dicono a Python dove trovare il file jupman.py\n",
    "import jupman;"
   ]
  },
  {
   "cell_type": "markdown",
   "metadata": {},
   "source": [
    "Adesso siamo pronti a provare Python tutor con la funzione magica `jupman.pytut()`: \n",
    "\n",
    "<div class=\"alert alert-warning\">\n",
    "\n",
    "**ATTENZIONE**: Per usare Python tutor dentro Jupyter dovete essere online. Una volta eseguita la cella successivo, dopo qualche secondo dovrebbe apparire il debugger di Python tutor:\n",
    "\n",
    "</div>\n"
   ]
  },
  {
   "cell_type": "code",
   "execution_count": 82,
   "metadata": {},
   "outputs": [
    {
     "data": {
      "text/html": [
       "\n",
       "        <script src=\"../_static/js/pytutor-embed.bundle.min.js\" type=\"application/javascript\"></script>\n",
       "     \n",
       "        <script id=\"json-jmc7c2e112-2720-4eb5-a3fe-b7d6918fa1c8\" type=\"application/json\" >\n",
       "            {\"trace\": [{\"func_name\": \"<module>\", \"stack_to_render\": [], \"line\": 2, \"event\": \"step_line\", \"stdout\": \"\", \"ordered_globals\": [], \"heap\": {}, \"globals\": {}}, {\"func_name\": \"<module>\", \"stack_to_render\": [], \"line\": 3, \"event\": \"step_line\", \"stdout\": \"\", \"ordered_globals\": [\"x\"], \"heap\": {}, \"globals\": {\"x\": 5}}, {\"func_name\": \"<module>\", \"stack_to_render\": [], \"line\": 4, \"event\": \"step_line\", \"stdout\": \"\", \"ordered_globals\": [\"x\", \"y\"], \"heap\": {}, \"globals\": {\"x\": 5, \"y\": 7}}, {\"func_name\": \"<module>\", \"stack_to_render\": [], \"line\": 4, \"event\": \"return\", \"stdout\": \"\", \"ordered_globals\": [\"x\", \"y\", \"z\"], \"heap\": {}, \"globals\": {\"x\": 5, \"y\": 7, \"z\": 12}}], \"code\": \" \\nx = 5\\ny = 7\\nz = x + y\"}\n",
       "        </script>\n",
       "        <div id=\"jmc7c2e112-2720-4eb5-a3fe-b7d6918fa1c8\" class=\"pytutorVisualizer\"> </div>\n",
       " \n",
       "        <style>\n",
       "        .vizLayoutTd {\n",
       "            background-color: #fff !important;\n",
       "        }\n",
       "\n",
       "        #pyStdout {            \n",
       "            min-height:25px;\n",
       "        }\n",
       "\n",
       "        /* 'Edit this code' link, hiding because replaces browser tab !!!*/\n",
       "        #editCodeLinkDiv {\n",
       "            display:none;  \n",
       "        }\n",
       "        </style>   \n",
       "                            \n",
       "        <script>\n",
       "        (function(){\n",
       "\n",
       "            var trace = JSON.parse(document.getElementById('json-jmc7c2e112-2720-4eb5-a3fe-b7d6918fa1c8').innerHTML);                                        \n",
       "            // NOTE 1: id without #\n",
       "            // NOTE 2 - maybe there are more predictable ways, but this will work anyway\n",
       "            //        - id should be number\n",
       "            visualizerIdOverride = Math.trunc(Math.random() * 100000000000)\n",
       "            addVisualizerToPage(trace, 'jmc7c2e112-2720-4eb5-a3fe-b7d6918fa1c8',{'embeddedMode' : false,\n",
       "                                             'visualizerIdOverride':visualizerIdOverride})  \n",
       "            \n",
       "            \n",
       "            // set overflow for pytuts - need to do in python as css \n",
       "            // does not allow parent selection\n",
       "            var pytuts = $('.pytutorVisualizer')\n",
       "            pytuts.closest('div.output_html.rendered_html.output_result')\n",
       "                    .css('overflow-x', 'visible')\n",
       "        \n",
       "            //pytuts.closest('div.output_html.rendered_html.output_result')\n",
       "            //      .css('background-color','red')                \n",
       "            \n",
       "        })()\n",
       "        </script>\n",
       "                \n",
       "                "
      ],
      "text/plain": [
       "<IPython.core.display.HTML object>"
      ]
     },
     "execution_count": 82,
     "metadata": {},
     "output_type": "execute_result"
    }
   ],
   "source": [
    "x = 5\n",
    "y = 7\n",
    "z = x + y\n",
    "\n",
    "jupman.pytut()"
   ]
  },
  {
   "cell_type": "markdown",
   "metadata": {},
   "source": [
    "####  Python Tutor : Limitazione 1\n",
    "\n",
    "Python tutor è comodo, ma ci sono importanti limitazioni:\n",
    "\n"
   ]
  },
  {
   "cell_type": "markdown",
   "metadata": {},
   "source": [
    "<div class=\"alert alert-warning\">\n",
    "\n",
    "**ATTENZIONE**: Python Tutor guarda dentro una cella sola!\n",
    "\n",
    "Quando usi Python tutor dentro Jupyter, l'unico codice che viene considerato da Python tutor è quello dentro la cella dove sta il comando jupman.pytut(). \n",
    "</div>\n",
    "\n",
    "Quindi per esempio in queste due celle che seguono, solo `print(w)` apparirà dentro Python tutor   senza il `w = 3`. Se proverai a cliccare _Forward_ in Python tutor,  ti verrà segnalato che non è stata definita `w`"
   ]
  },
  {
   "cell_type": "code",
   "execution_count": 83,
   "metadata": {},
   "outputs": [],
   "source": [
    "w = 3"
   ]
  },
  {
   "cell_type": "code",
   "execution_count": 84,
   "metadata": {},
   "outputs": [
    {
     "name": "stdout",
     "output_type": "stream",
     "text": [
      "3\n"
     ]
    },
    {
     "name": "stderr",
     "output_type": "stream",
     "text": [
      "Traceback (most recent call last):\n",
      "  File \"../jupman.py\", line 2305, in _runscript\n",
      "    self.run(script_str, user_globals, user_globals)\n",
      "  File \"/usr/lib/python3.5/bdb.py\", line 431, in run\n",
      "    exec(cmd, globals, locals)\n",
      "  File \"<string>\", line 2, in <module>\n",
      "NameError: name 'w' is not defined\n"
     ]
    },
    {
     "data": {
      "text/html": [
       "\n",
       "        <script src=\"../_static/js/pytutor-embed.bundle.min.js\" type=\"application/javascript\"></script>\n",
       "     \n",
       "        <script id=\"json-jm211df96a-a2df-4a80-bbb6-f999a236acee\" type=\"application/json\" >\n",
       "            {\"trace\": [{\"func_name\": \"<module>\", \"stack_to_render\": [], \"line\": 2, \"event\": \"step_line\", \"stdout\": \"\", \"ordered_globals\": [], \"heap\": {}, \"globals\": {}}, {\"func_name\": \"<module>\", \"stack_to_render\": [], \"line\": 2, \"event\": \"exception\", \"stdout\": \"\", \"ordered_globals\": [], \"heap\": {}, \"exception_msg\": \"NameError: name 'w' is not defined\", \"globals\": {}}], \"code\": \" \\nprint(w)\"}\n",
       "        </script>\n",
       "        <div id=\"jm211df96a-a2df-4a80-bbb6-f999a236acee\" class=\"pytutorVisualizer\"> </div>\n",
       " \n",
       "        <style>\n",
       "        .vizLayoutTd {\n",
       "            background-color: #fff !important;\n",
       "        }\n",
       "\n",
       "        #pyStdout {            \n",
       "            min-height:25px;\n",
       "        }\n",
       "\n",
       "        /* 'Edit this code' link, hiding because replaces browser tab !!!*/\n",
       "        #editCodeLinkDiv {\n",
       "            display:none;  \n",
       "        }\n",
       "        </style>   \n",
       "                            \n",
       "        <script>\n",
       "        (function(){\n",
       "\n",
       "            var trace = JSON.parse(document.getElementById('json-jm211df96a-a2df-4a80-bbb6-f999a236acee').innerHTML);                                        \n",
       "            // NOTE 1: id without #\n",
       "            // NOTE 2 - maybe there are more predictable ways, but this will work anyway\n",
       "            //        - id should be number\n",
       "            visualizerIdOverride = Math.trunc(Math.random() * 100000000000)\n",
       "            addVisualizerToPage(trace, 'jm211df96a-a2df-4a80-bbb6-f999a236acee',{'embeddedMode' : false,\n",
       "                                             'visualizerIdOverride':visualizerIdOverride})  \n",
       "            \n",
       "            \n",
       "            // set overflow for pytuts - need to do in python as css \n",
       "            // does not allow parent selection\n",
       "            var pytuts = $('.pytutorVisualizer')\n",
       "            pytuts.closest('div.output_html.rendered_html.output_result')\n",
       "                    .css('overflow-x', 'visible')\n",
       "        \n",
       "            //pytuts.closest('div.output_html.rendered_html.output_result')\n",
       "            //      .css('background-color','red')                \n",
       "            \n",
       "        })()\n",
       "        </script>\n",
       "                \n",
       "                "
      ],
      "text/plain": [
       "<IPython.core.display.HTML object>"
      ]
     },
     "execution_count": 84,
     "metadata": {},
     "output_type": "execute_result"
    }
   ],
   "source": [
    "print(w)\n",
    "\n",
    "jupman.pytut()"
   ]
  },
  {
   "cell_type": "markdown",
   "metadata": {},
   "source": [
    "Per avere tutto in Python tutor devi mettere tutto il codice nella stessa cella:"
   ]
  },
  {
   "cell_type": "code",
   "execution_count": 85,
   "metadata": {
    "scrolled": true
   },
   "outputs": [
    {
     "name": "stdout",
     "output_type": "stream",
     "text": [
      "3\n"
     ]
    },
    {
     "data": {
      "text/html": [
       "\n",
       "        <script src=\"../_static/js/pytutor-embed.bundle.min.js\" type=\"application/javascript\"></script>\n",
       "     \n",
       "        <script id=\"json-jmc1647a27-c0c4-4edf-a1c8-45894ce8d744\" type=\"application/json\" >\n",
       "            {\"trace\": [{\"func_name\": \"<module>\", \"stack_to_render\": [], \"line\": 2, \"event\": \"step_line\", \"stdout\": \"\", \"ordered_globals\": [], \"heap\": {}, \"globals\": {}}, {\"func_name\": \"<module>\", \"stack_to_render\": [], \"line\": 3, \"event\": \"step_line\", \"stdout\": \"\", \"ordered_globals\": [\"w\"], \"heap\": {}, \"globals\": {\"w\": 3}}, {\"func_name\": \"<module>\", \"stack_to_render\": [], \"line\": 3, \"event\": \"return\", \"stdout\": \"3\\n\", \"ordered_globals\": [\"w\"], \"heap\": {}, \"globals\": {\"w\": 3}}], \"code\": \" \\nw = 3\\nprint(w)\"}\n",
       "        </script>\n",
       "        <div id=\"jmc1647a27-c0c4-4edf-a1c8-45894ce8d744\" class=\"pytutorVisualizer\"> </div>\n",
       " \n",
       "        <style>\n",
       "        .vizLayoutTd {\n",
       "            background-color: #fff !important;\n",
       "        }\n",
       "\n",
       "        #pyStdout {            \n",
       "            min-height:25px;\n",
       "        }\n",
       "\n",
       "        /* 'Edit this code' link, hiding because replaces browser tab !!!*/\n",
       "        #editCodeLinkDiv {\n",
       "            display:none;  \n",
       "        }\n",
       "        </style>   \n",
       "                            \n",
       "        <script>\n",
       "        (function(){\n",
       "\n",
       "            var trace = JSON.parse(document.getElementById('json-jmc1647a27-c0c4-4edf-a1c8-45894ce8d744').innerHTML);                                        \n",
       "            // NOTE 1: id without #\n",
       "            // NOTE 2 - maybe there are more predictable ways, but this will work anyway\n",
       "            //        - id should be number\n",
       "            visualizerIdOverride = Math.trunc(Math.random() * 100000000000)\n",
       "            addVisualizerToPage(trace, 'jmc1647a27-c0c4-4edf-a1c8-45894ce8d744',{'embeddedMode' : false,\n",
       "                                             'visualizerIdOverride':visualizerIdOverride})  \n",
       "            \n",
       "            \n",
       "            // set overflow for pytuts - need to do in python as css \n",
       "            // does not allow parent selection\n",
       "            var pytuts = $('.pytutorVisualizer')\n",
       "            pytuts.closest('div.output_html.rendered_html.output_result')\n",
       "                    .css('overflow-x', 'visible')\n",
       "        \n",
       "            //pytuts.closest('div.output_html.rendered_html.output_result')\n",
       "            //      .css('background-color','red')                \n",
       "            \n",
       "        })()\n",
       "        </script>\n",
       "                \n",
       "                "
      ],
      "text/plain": [
       "<IPython.core.display.HTML object>"
      ]
     },
     "execution_count": 85,
     "metadata": {},
     "output_type": "execute_result"
    }
   ],
   "source": [
    "w = 3\n",
    "print(w)\n",
    "\n",
    "jupman.pytut()"
   ]
  },
  {
   "cell_type": "markdown",
   "metadata": {},
   "source": [
    "####  Python Tutor : Limitazione 2\n",
    "\n",
    "Un'altra limitazione è la seguente:\n",
    "\n",
    "\n",
    "<div class=\"alert alert-warning\">\n",
    "\n",
    "**ATTENZIONE**: Python tutor usa solo funzioni dalla distribuzione standard di Python**\n",
    "\n",
    "Python Tutor va bene per ispezionare semplici algoritmi che usano funzioni di base di Python. \n",
    "</div>\n",
    "\n",
    "Se usate qualche libreria tipo `numpy`, potete provare **solo online** a selezionare `Python 3.6 with anaconda`\n",
    "\n",
    "![pytut-5-781302](img/pytut-5.jpg)\n"
   ]
  },
  {
   "cell_type": "markdown",
   "metadata": {
    "colab_type": "text",
    "id": "y1_ipl04AFYh"
   },
   "source": [
    "## Iterazione\n",
    "\n",
    "Spesso è utile compiere azioni su ogni elemento di una sequenza.\n",
    "\n",
    "**Riferimenti**\n",
    "\n",
    "- SoftPython:\n",
    "    - [controllo di flusso - cicli for](https://it.softpython.org/control-flow/flow2-for-sol.html)\n",
    "    - [controllo di flusso - cicli while](https://it.softpython.org/control-flow/flow3-for-sol.html)    \n",
    "- [Pensare in Python, Capitolo 7, Iterazione](https://davidleoni.github.io/ThinkPythonItalian/html/thinkpython2008.html)\n",
    "- [Nicola Cassetta, Lezione 8, L'istruzione while](http://ncassetta.altervista.org/Tutorial_Python/Lezione_08.html)\n",
    "\n",
    "\n",
    "**Cicli for**\n",
    "\n",
    "Tra i vari modi per farlo, uno è usare i cicli `for`"
   ]
  },
  {
   "cell_type": "code",
   "execution_count": 86,
   "metadata": {
    "colab": {
     "autoexec": {
      "startup": false,
      "wait_interval": 0
     },
     "output_extras": [
      {}
     ]
    },
    "colab_type": "code",
    "id": "dvT2rnbBAFYi",
    "outputId": "e5deee14-f728-4236-9a21-0cb13531897e"
   },
   "outputs": [
    {
     "name": "stdout",
     "output_type": "stream",
     "text": [
      "Nella lista ci sono:\n",
      "cani\n",
      "Nella lista ci sono:\n",
      "gatti\n",
      "Nella lista ci sono:\n",
      "scoiattoli\n",
      "Nella lista ci sono:\n",
      "alci\n"
     ]
    }
   ],
   "source": [
    "animali = ['cani', 'gatti', 'scoiattoli', 'alci']\n",
    "\n",
    "for animale in animali:\n",
    "    print(\"Nella lista ci sono:\")\n",
    "    print(animale)"
   ]
  },
  {
   "cell_type": "markdown",
   "metadata": {
    "colab_type": "text",
    "id": "aYoeEiXoAFYn"
   },
   "source": [
    "Qua abbiamo definito la variabile `animale` (avremmo potuto chiamarla con qualunque nome, anche `pippo`). Per ogni elemento nella lista `animali`, vengono eseguite le istruzioni dentro il blocco. Ogni volta che le istruzioni vengono eseguite, la variabile `animale` assume uno dei valori della lista `animali`\n",
    "\n",
    "<div class=\"alert alert-warning\">\n",
    "\n",
    "**ATTENZIONE**: RICORDATI I DUE PUNTI `:` ALLA FINE DELLA LINEA DEL FOR !!!\n",
    "</div>\n",
    "\n",
    "<div class=\"alert alert-warning\">\n",
    "\n",
    "**ATTENZIONE**: Per indentare il codice, usa SEMPRE sequenze di 4 spazi bianchi. Sequenze di 2 soli spazi per quanto consentite non sono raccomandate. \n",
    "</div>\n",
    "\n",
    "<div class=\"alert alert-warning\">\n",
    "\n",
    "**ATTENZIONE**: A seconda dell'editor che usi, premendo TAB potresti ottenere una sequenza di spazi bianchi come accade in Jupyter (4 spazi che sono raccomandati), oppure un carattere speciale di tabulazione (da evitare)! Per quanto noiosa questa distinzione ti possa apparire, ricordatela perchè potrebbe generare errori molto difficili da scoprire. \n",
    "</div>\n"
   ]
  },
  {
   "cell_type": "code",
   "execution_count": 87,
   "metadata": {},
   "outputs": [
    {
     "name": "stdout",
     "output_type": "stream",
     "text": [
      "Nella lista ci sono:\n",
      "cani\n",
      "Nella lista ci sono:\n",
      "gatti\n",
      "Nella lista ci sono:\n",
      "scoiattoli\n",
      "Nella lista ci sono:\n",
      "alci\n"
     ]
    },
    {
     "data": {
      "text/html": [
       "\n",
       "        <script src=\"../_static/js/pytutor-embed.bundle.min.js\" type=\"application/javascript\"></script>\n",
       "     \n",
       "        <script id=\"json-jm20458062-420e-4665-9bf2-99e57eb1fee6\" type=\"application/json\" >\n",
       "            {\"trace\": [{\"func_name\": \"<module>\", \"stack_to_render\": [], \"line\": 4, \"event\": \"step_line\", \"stdout\": \"\", \"ordered_globals\": [], \"heap\": {}, \"globals\": {}}, {\"func_name\": \"<module>\", \"stack_to_render\": [], \"line\": 6, \"event\": \"step_line\", \"stdout\": \"\", \"ordered_globals\": [\"animali\"], \"heap\": {\"1\": [\"LIST\", \"cani\", \"gatti\", \"scoiattoli\", \"alci\"]}, \"globals\": {\"animali\": [\"REF\", 1]}}, {\"func_name\": \"<module>\", \"stack_to_render\": [], \"line\": 7, \"event\": \"step_line\", \"stdout\": \"\", \"ordered_globals\": [\"animali\", \"animale\"], \"heap\": {\"1\": [\"LIST\", \"cani\", \"gatti\", \"scoiattoli\", \"alci\"]}, \"globals\": {\"animali\": [\"REF\", 1], \"animale\": \"cani\"}}, {\"func_name\": \"<module>\", \"stack_to_render\": [], \"line\": 8, \"event\": \"step_line\", \"stdout\": \"Nella lista ci sono:\\n\", \"ordered_globals\": [\"animali\", \"animale\"], \"heap\": {\"1\": [\"LIST\", \"cani\", \"gatti\", \"scoiattoli\", \"alci\"]}, \"globals\": {\"animali\": [\"REF\", 1], \"animale\": \"cani\"}}, {\"func_name\": \"<module>\", \"stack_to_render\": [], \"line\": 6, \"event\": \"step_line\", \"stdout\": \"Nella lista ci sono:\\ncani\\n\", \"ordered_globals\": [\"animali\", \"animale\"], \"heap\": {\"1\": [\"LIST\", \"cani\", \"gatti\", \"scoiattoli\", \"alci\"]}, \"globals\": {\"animali\": [\"REF\", 1], \"animale\": \"cani\"}}, {\"func_name\": \"<module>\", \"stack_to_render\": [], \"line\": 7, \"event\": \"step_line\", \"stdout\": \"Nella lista ci sono:\\ncani\\n\", \"ordered_globals\": [\"animali\", \"animale\"], \"heap\": {\"1\": [\"LIST\", \"cani\", \"gatti\", \"scoiattoli\", \"alci\"]}, \"globals\": {\"animali\": [\"REF\", 1], \"animale\": \"gatti\"}}, {\"func_name\": \"<module>\", \"stack_to_render\": [], \"line\": 8, \"event\": \"step_line\", \"stdout\": \"Nella lista ci sono:\\ncani\\nNella lista ci sono:\\n\", \"ordered_globals\": [\"animali\", \"animale\"], \"heap\": {\"1\": [\"LIST\", \"cani\", \"gatti\", \"scoiattoli\", \"alci\"]}, \"globals\": {\"animali\": [\"REF\", 1], \"animale\": \"gatti\"}}, {\"func_name\": \"<module>\", \"stack_to_render\": [], \"line\": 6, \"event\": \"step_line\", \"stdout\": \"Nella lista ci sono:\\ncani\\nNella lista ci sono:\\ngatti\\n\", \"ordered_globals\": [\"animali\", \"animale\"], \"heap\": {\"1\": [\"LIST\", \"cani\", \"gatti\", \"scoiattoli\", \"alci\"]}, \"globals\": {\"animali\": [\"REF\", 1], \"animale\": \"gatti\"}}, {\"func_name\": \"<module>\", \"stack_to_render\": [], \"line\": 7, \"event\": \"step_line\", \"stdout\": \"Nella lista ci sono:\\ncani\\nNella lista ci sono:\\ngatti\\n\", \"ordered_globals\": [\"animali\", \"animale\"], \"heap\": {\"1\": [\"LIST\", \"cani\", \"gatti\", \"scoiattoli\", \"alci\"]}, \"globals\": {\"animali\": [\"REF\", 1], \"animale\": \"scoiattoli\"}}, {\"func_name\": \"<module>\", \"stack_to_render\": [], \"line\": 8, \"event\": \"step_line\", \"stdout\": \"Nella lista ci sono:\\ncani\\nNella lista ci sono:\\ngatti\\nNella lista ci sono:\\n\", \"ordered_globals\": [\"animali\", \"animale\"], \"heap\": {\"1\": [\"LIST\", \"cani\", \"gatti\", \"scoiattoli\", \"alci\"]}, \"globals\": {\"animali\": [\"REF\", 1], \"animale\": \"scoiattoli\"}}, {\"func_name\": \"<module>\", \"stack_to_render\": [], \"line\": 6, \"event\": \"step_line\", \"stdout\": \"Nella lista ci sono:\\ncani\\nNella lista ci sono:\\ngatti\\nNella lista ci sono:\\nscoiattoli\\n\", \"ordered_globals\": [\"animali\", \"animale\"], \"heap\": {\"1\": [\"LIST\", \"cani\", \"gatti\", \"scoiattoli\", \"alci\"]}, \"globals\": {\"animali\": [\"REF\", 1], \"animale\": \"scoiattoli\"}}, {\"func_name\": \"<module>\", \"stack_to_render\": [], \"line\": 7, \"event\": \"step_line\", \"stdout\": \"Nella lista ci sono:\\ncani\\nNella lista ci sono:\\ngatti\\nNella lista ci sono:\\nscoiattoli\\n\", \"ordered_globals\": [\"animali\", \"animale\"], \"heap\": {\"1\": [\"LIST\", \"cani\", \"gatti\", \"scoiattoli\", \"alci\"]}, \"globals\": {\"animali\": [\"REF\", 1], \"animale\": \"alci\"}}, {\"func_name\": \"<module>\", \"stack_to_render\": [], \"line\": 8, \"event\": \"step_line\", \"stdout\": \"Nella lista ci sono:\\ncani\\nNella lista ci sono:\\ngatti\\nNella lista ci sono:\\nscoiattoli\\nNella lista ci sono:\\n\", \"ordered_globals\": [\"animali\", \"animale\"], \"heap\": {\"1\": [\"LIST\", \"cani\", \"gatti\", \"scoiattoli\", \"alci\"]}, \"globals\": {\"animali\": [\"REF\", 1], \"animale\": \"alci\"}}, {\"func_name\": \"<module>\", \"stack_to_render\": [], \"line\": 6, \"event\": \"step_line\", \"stdout\": \"Nella lista ci sono:\\ncani\\nNella lista ci sono:\\ngatti\\nNella lista ci sono:\\nscoiattoli\\nNella lista ci sono:\\nalci\\n\", \"ordered_globals\": [\"animali\", \"animale\"], \"heap\": {\"1\": [\"LIST\", \"cani\", \"gatti\", \"scoiattoli\", \"alci\"]}, \"globals\": {\"animali\": [\"REF\", 1], \"animale\": \"alci\"}}, {\"func_name\": \"<module>\", \"stack_to_render\": [], \"line\": 6, \"event\": \"return\", \"stdout\": \"Nella lista ci sono:\\ncani\\nNella lista ci sono:\\ngatti\\nNella lista ci sono:\\nscoiattoli\\nNella lista ci sono:\\nalci\\n\", \"ordered_globals\": [\"animali\", \"animale\"], \"heap\": {\"1\": [\"LIST\", \"cani\", \"gatti\", \"scoiattoli\", \"alci\"]}, \"globals\": {\"animali\": [\"REF\", 1], \"animale\": \"alci\"}}], \"code\": \" \\n# Guardiamo cosa succede con Python tutor: \\n\\nanimali = ['cani', 'gatti', 'scoiattoli', 'alci']\\n\\nfor animale in animali:\\n    print(\\\"Nella lista ci sono:\\\")\\n    print(animale)\"}\n",
       "        </script>\n",
       "        <div id=\"jm20458062-420e-4665-9bf2-99e57eb1fee6\" class=\"pytutorVisualizer\"> </div>\n",
       " \n",
       "        <style>\n",
       "        .vizLayoutTd {\n",
       "            background-color: #fff !important;\n",
       "        }\n",
       "\n",
       "        #pyStdout {            \n",
       "            min-height:25px;\n",
       "        }\n",
       "\n",
       "        /* 'Edit this code' link, hiding because replaces browser tab !!!*/\n",
       "        #editCodeLinkDiv {\n",
       "            display:none;  \n",
       "        }\n",
       "        </style>   \n",
       "                            \n",
       "        <script>\n",
       "        (function(){\n",
       "\n",
       "            var trace = JSON.parse(document.getElementById('json-jm20458062-420e-4665-9bf2-99e57eb1fee6').innerHTML);                                        \n",
       "            // NOTE 1: id without #\n",
       "            // NOTE 2 - maybe there are more predictable ways, but this will work anyway\n",
       "            //        - id should be number\n",
       "            visualizerIdOverride = Math.trunc(Math.random() * 100000000000)\n",
       "            addVisualizerToPage(trace, 'jm20458062-420e-4665-9bf2-99e57eb1fee6',{'embeddedMode' : false,\n",
       "                                             'visualizerIdOverride':visualizerIdOverride})  \n",
       "            \n",
       "            \n",
       "            // set overflow for pytuts - need to do in python as css \n",
       "            // does not allow parent selection\n",
       "            var pytuts = $('.pytutorVisualizer')\n",
       "            pytuts.closest('div.output_html.rendered_html.output_result')\n",
       "                    .css('overflow-x', 'visible')\n",
       "        \n",
       "            //pytuts.closest('div.output_html.rendered_html.output_result')\n",
       "            //      .css('background-color','red')                \n",
       "            \n",
       "        })()\n",
       "        </script>\n",
       "                \n",
       "                "
      ],
      "text/plain": [
       "<IPython.core.display.HTML object>"
      ]
     },
     "execution_count": 87,
     "metadata": {},
     "output_type": "execute_result"
    }
   ],
   "source": [
    "# Guardiamo cosa succede con Python tutor: \n",
    "\n",
    "animali = ['cani', 'gatti', 'scoiattoli', 'alci']\n",
    "\n",
    "for animale in animali:\n",
    "    print(\"Nella lista ci sono:\")\n",
    "    print(animale)\n",
    "    \n",
    "jupman.pytut()"
   ]
  },
  {
   "cell_type": "markdown",
   "metadata": {
    "colab_type": "text",
    "id": "wnbHtwz7AFYo"
   },
   "source": [
    "**✪ ESERCIZIO**: Proviamo a capire meglio tutti gli _Attenzione_ qua sopra. Scrivi qui sotto il `for` con gli animali di prima (niente copia e incolla!), vedi se funziona. Ricordati di usare 4 spazi per le indentazioni. \n",
    "\n",
    "- Poi prova a togliere i due punti alla fine e vedi che errore ti da Python\n",
    "- Riaggiungi i due punti, e adesso prova a variare l'indentazione. Prova a mettere due spazi all'inizio di entrambi i print, vedi se esegue\n",
    "- Adesso prova a mettere due spazi prima del primo print e 4 spazi prima del secondo, e vedi se esegue"
   ]
  },
  {
   "cell_type": "code",
   "execution_count": 88,
   "metadata": {
    "colab": {
     "autoexec": {
      "startup": false,
      "wait_interval": 0
     }
    },
    "colab_type": "code",
    "id": "STgILuUEAFYr"
   },
   "outputs": [],
   "source": [
    "# scrivi qui - copia il for di sopra\n"
   ]
  },
  {
   "cell_type": "markdown",
   "metadata": {
    "colab_type": "text",
    "id": "4JM8nJYtAFYx"
   },
   "source": [
    "### for in range\n",
    "\n",
    "Un'altra iterazione molto comune è incrementare un contatore ad ogni ciclo. Python rispetto ad altri linguaggi offre un sistema piuttosto particolare che usa la funzione `range(n)`, che ritorna una sequenza con i primi numeri da 0 incluso a `n` _escluso_. La possiamo usare così:"
   ]
  },
  {
   "cell_type": "code",
   "execution_count": 89,
   "metadata": {
    "colab": {
     "autoexec": {
      "startup": false,
      "wait_interval": 0
     },
     "output_extras": [
      {}
     ]
    },
    "colab_type": "code",
    "id": "AKaswfGQAFYy",
    "outputId": "7110d199-e29a-4c79-9ff6-c04a1b64bb63"
   },
   "outputs": [
    {
     "name": "stdout",
     "output_type": "stream",
     "text": [
      "0\n",
      "1\n",
      "2\n"
     ]
    }
   ],
   "source": [
    "for indice in range(3):\n",
    "    print(indice)\n",
    "    "
   ]
  },
  {
   "cell_type": "code",
   "execution_count": 90,
   "metadata": {
    "colab": {
     "autoexec": {
      "startup": false,
      "wait_interval": 0
     },
     "output_extras": [
      {}
     ]
    },
    "colab_type": "code",
    "id": "kpkqkSuIAFY7",
    "outputId": "49723053-062b-4dca-b64c-b5e2ae2c8ae4"
   },
   "outputs": [
    {
     "name": "stdout",
     "output_type": "stream",
     "text": [
      "0\n",
      "1\n",
      "2\n",
      "3\n",
      "4\n",
      "5\n"
     ]
    }
   ],
   "source": [
    "for indice in range(6):\n",
    "    print(indice)"
   ]
  },
  {
   "cell_type": "markdown",
   "metadata": {},
   "source": [
    "Guardiamo meglio con Python tutor: "
   ]
  },
  {
   "cell_type": "code",
   "execution_count": 91,
   "metadata": {},
   "outputs": [
    {
     "name": "stdout",
     "output_type": "stream",
     "text": [
      "0\n",
      "1\n",
      "2\n",
      "3\n",
      "4\n",
      "5\n"
     ]
    },
    {
     "data": {
      "text/html": [
       "\n",
       "        <script src=\"../_static/js/pytutor-embed.bundle.min.js\" type=\"application/javascript\"></script>\n",
       "     \n",
       "        <script id=\"json-jmfbcb6eeb-053a-49e4-ae3b-f5790ef48553\" type=\"application/json\" >\n",
       "            {\"trace\": [{\"func_name\": \"<module>\", \"stack_to_render\": [], \"line\": 2, \"event\": \"step_line\", \"stdout\": \"\", \"ordered_globals\": [], \"heap\": {}, \"globals\": {}}, {\"func_name\": \"<module>\", \"stack_to_render\": [], \"line\": 3, \"event\": \"step_line\", \"stdout\": \"\", \"ordered_globals\": [\"indice\"], \"heap\": {}, \"globals\": {\"indice\": 0}}, {\"func_name\": \"<module>\", \"stack_to_render\": [], \"line\": 2, \"event\": \"step_line\", \"stdout\": \"0\\n\", \"ordered_globals\": [\"indice\"], \"heap\": {}, \"globals\": {\"indice\": 0}}, {\"func_name\": \"<module>\", \"stack_to_render\": [], \"line\": 3, \"event\": \"step_line\", \"stdout\": \"0\\n\", \"ordered_globals\": [\"indice\"], \"heap\": {}, \"globals\": {\"indice\": 1}}, {\"func_name\": \"<module>\", \"stack_to_render\": [], \"line\": 2, \"event\": \"step_line\", \"stdout\": \"0\\n1\\n\", \"ordered_globals\": [\"indice\"], \"heap\": {}, \"globals\": {\"indice\": 1}}, {\"func_name\": \"<module>\", \"stack_to_render\": [], \"line\": 3, \"event\": \"step_line\", \"stdout\": \"0\\n1\\n\", \"ordered_globals\": [\"indice\"], \"heap\": {}, \"globals\": {\"indice\": 2}}, {\"func_name\": \"<module>\", \"stack_to_render\": [], \"line\": 2, \"event\": \"step_line\", \"stdout\": \"0\\n1\\n2\\n\", \"ordered_globals\": [\"indice\"], \"heap\": {}, \"globals\": {\"indice\": 2}}, {\"func_name\": \"<module>\", \"stack_to_render\": [], \"line\": 3, \"event\": \"step_line\", \"stdout\": \"0\\n1\\n2\\n\", \"ordered_globals\": [\"indice\"], \"heap\": {}, \"globals\": {\"indice\": 3}}, {\"func_name\": \"<module>\", \"stack_to_render\": [], \"line\": 2, \"event\": \"step_line\", \"stdout\": \"0\\n1\\n2\\n3\\n\", \"ordered_globals\": [\"indice\"], \"heap\": {}, \"globals\": {\"indice\": 3}}, {\"func_name\": \"<module>\", \"stack_to_render\": [], \"line\": 3, \"event\": \"step_line\", \"stdout\": \"0\\n1\\n2\\n3\\n\", \"ordered_globals\": [\"indice\"], \"heap\": {}, \"globals\": {\"indice\": 4}}, {\"func_name\": \"<module>\", \"stack_to_render\": [], \"line\": 2, \"event\": \"step_line\", \"stdout\": \"0\\n1\\n2\\n3\\n4\\n\", \"ordered_globals\": [\"indice\"], \"heap\": {}, \"globals\": {\"indice\": 4}}, {\"func_name\": \"<module>\", \"stack_to_render\": [], \"line\": 3, \"event\": \"step_line\", \"stdout\": \"0\\n1\\n2\\n3\\n4\\n\", \"ordered_globals\": [\"indice\"], \"heap\": {}, \"globals\": {\"indice\": 5}}, {\"func_name\": \"<module>\", \"stack_to_render\": [], \"line\": 2, \"event\": \"step_line\", \"stdout\": \"0\\n1\\n2\\n3\\n4\\n5\\n\", \"ordered_globals\": [\"indice\"], \"heap\": {}, \"globals\": {\"indice\": 5}}, {\"func_name\": \"<module>\", \"stack_to_render\": [], \"line\": 2, \"event\": \"return\", \"stdout\": \"0\\n1\\n2\\n3\\n4\\n5\\n\", \"ordered_globals\": [\"indice\"], \"heap\": {}, \"globals\": {\"indice\": 5}}], \"code\": \" \\nfor indice in range(6):\\n    print(indice)\"}\n",
       "        </script>\n",
       "        <div id=\"jmfbcb6eeb-053a-49e4-ae3b-f5790ef48553\" class=\"pytutorVisualizer\"> </div>\n",
       " \n",
       "        <style>\n",
       "        .vizLayoutTd {\n",
       "            background-color: #fff !important;\n",
       "        }\n",
       "\n",
       "        #pyStdout {            \n",
       "            min-height:25px;\n",
       "        }\n",
       "\n",
       "        /* 'Edit this code' link, hiding because replaces browser tab !!!*/\n",
       "        #editCodeLinkDiv {\n",
       "            display:none;  \n",
       "        }\n",
       "        </style>   \n",
       "                            \n",
       "        <script>\n",
       "        (function(){\n",
       "\n",
       "            var trace = JSON.parse(document.getElementById('json-jmfbcb6eeb-053a-49e4-ae3b-f5790ef48553').innerHTML);                                        \n",
       "            // NOTE 1: id without #\n",
       "            // NOTE 2 - maybe there are more predictable ways, but this will work anyway\n",
       "            //        - id should be number\n",
       "            visualizerIdOverride = Math.trunc(Math.random() * 100000000000)\n",
       "            addVisualizerToPage(trace, 'jmfbcb6eeb-053a-49e4-ae3b-f5790ef48553',{'embeddedMode' : false,\n",
       "                                             'visualizerIdOverride':visualizerIdOverride})  \n",
       "            \n",
       "            \n",
       "            // set overflow for pytuts - need to do in python as css \n",
       "            // does not allow parent selection\n",
       "            var pytuts = $('.pytutorVisualizer')\n",
       "            pytuts.closest('div.output_html.rendered_html.output_result')\n",
       "                    .css('overflow-x', 'visible')\n",
       "        \n",
       "            //pytuts.closest('div.output_html.rendered_html.output_result')\n",
       "            //      .css('background-color','red')                \n",
       "            \n",
       "        })()\n",
       "        </script>\n",
       "                \n",
       "                "
      ],
      "text/plain": [
       "<IPython.core.display.HTML object>"
      ]
     },
     "execution_count": 91,
     "metadata": {},
     "output_type": "execute_result"
    }
   ],
   "source": [
    "for indice in range(6):\n",
    "    print(indice)\n",
    "\n",
    "jupman.pytut()"
   ]
  },
  {
   "cell_type": "markdown",
   "metadata": {
    "colab_type": "text",
    "id": "Z5jrBwStAFZQ"
   },
   "source": [
    "Quindi possiamo usare questo stile come un'alternativa per listare i nostri animali:"
   ]
  },
  {
   "cell_type": "code",
   "execution_count": 92,
   "metadata": {
    "colab": {
     "autoexec": {
      "startup": false,
      "wait_interval": 0
     },
     "base_uri": "https://localhost:8080/",
     "height": 121,
     "output_extras": [
      {
       "item_id": 1
      }
     ]
    },
    "colab_type": "code",
    "executionInfo": {
     "elapsed": 591,
     "status": "ok",
     "timestamp": 1519033207873,
     "user": {
      "displayName": "David Leoni",
      "photoUrl": "https://lh3.googleusercontent.com/a/default-user=s128",
      "userId": "102920557909426557439"
     },
     "user_tz": -60
    },
    "id": "u5UoFcHtAFZV",
    "outputId": "695b71fa-dff0-4787-c950-43d4872a55ae"
   },
   "outputs": [
    {
     "name": "stdout",
     "output_type": "stream",
     "text": [
      "Nella lista ci sono:\n",
      "cani\n",
      "Nella lista ci sono:\n",
      "gatti\n",
      "Nella lista ci sono:\n",
      "scoiattoli\n"
     ]
    }
   ],
   "source": [
    "animali = ['cani', 'gatti', 'scoiattoli', 'alci']\n",
    "\n",
    "for indice in range(3):\n",
    "    print(\"Nella lista ci sono:\")\n",
    "    print(animali[indice])"
   ]
  },
  {
   "cell_type": "markdown",
   "metadata": {},
   "source": [
    "Guardiamo meglio con Python tutor:"
   ]
  },
  {
   "cell_type": "code",
   "execution_count": 93,
   "metadata": {},
   "outputs": [
    {
     "name": "stdout",
     "output_type": "stream",
     "text": [
      "Nella lista ci sono:\n",
      "cani\n",
      "Nella lista ci sono:\n",
      "gatti\n",
      "Nella lista ci sono:\n",
      "scoiattoli\n"
     ]
    },
    {
     "data": {
      "text/html": [
       "\n",
       "        <script src=\"../_static/js/pytutor-embed.bundle.min.js\" type=\"application/javascript\"></script>\n",
       "     \n",
       "        <script id=\"json-jm88488343-d29a-4940-9837-d309170c34eb\" type=\"application/json\" >\n",
       "            {\"trace\": [{\"func_name\": \"<module>\", \"stack_to_render\": [], \"line\": 2, \"event\": \"step_line\", \"stdout\": \"\", \"ordered_globals\": [], \"heap\": {}, \"globals\": {}}, {\"func_name\": \"<module>\", \"stack_to_render\": [], \"line\": 4, \"event\": \"step_line\", \"stdout\": \"\", \"ordered_globals\": [\"animali\"], \"heap\": {\"1\": [\"LIST\", \"cani\", \"gatti\", \"scoiattoli\", \"alci\"]}, \"globals\": {\"animali\": [\"REF\", 1]}}, {\"func_name\": \"<module>\", \"stack_to_render\": [], \"line\": 5, \"event\": \"step_line\", \"stdout\": \"\", \"ordered_globals\": [\"animali\", \"indice\"], \"heap\": {\"1\": [\"LIST\", \"cani\", \"gatti\", \"scoiattoli\", \"alci\"]}, \"globals\": {\"animali\": [\"REF\", 1], \"indice\": 0}}, {\"func_name\": \"<module>\", \"stack_to_render\": [], \"line\": 6, \"event\": \"step_line\", \"stdout\": \"Nella lista ci sono:\\n\", \"ordered_globals\": [\"animali\", \"indice\"], \"heap\": {\"1\": [\"LIST\", \"cani\", \"gatti\", \"scoiattoli\", \"alci\"]}, \"globals\": {\"animali\": [\"REF\", 1], \"indice\": 0}}, {\"func_name\": \"<module>\", \"stack_to_render\": [], \"line\": 4, \"event\": \"step_line\", \"stdout\": \"Nella lista ci sono:\\ncani\\n\", \"ordered_globals\": [\"animali\", \"indice\"], \"heap\": {\"1\": [\"LIST\", \"cani\", \"gatti\", \"scoiattoli\", \"alci\"]}, \"globals\": {\"animali\": [\"REF\", 1], \"indice\": 0}}, {\"func_name\": \"<module>\", \"stack_to_render\": [], \"line\": 5, \"event\": \"step_line\", \"stdout\": \"Nella lista ci sono:\\ncani\\n\", \"ordered_globals\": [\"animali\", \"indice\"], \"heap\": {\"1\": [\"LIST\", \"cani\", \"gatti\", \"scoiattoli\", \"alci\"]}, \"globals\": {\"animali\": [\"REF\", 1], \"indice\": 1}}, {\"func_name\": \"<module>\", \"stack_to_render\": [], \"line\": 6, \"event\": \"step_line\", \"stdout\": \"Nella lista ci sono:\\ncani\\nNella lista ci sono:\\n\", \"ordered_globals\": [\"animali\", \"indice\"], \"heap\": {\"1\": [\"LIST\", \"cani\", \"gatti\", \"scoiattoli\", \"alci\"]}, \"globals\": {\"animali\": [\"REF\", 1], \"indice\": 1}}, {\"func_name\": \"<module>\", \"stack_to_render\": [], \"line\": 4, \"event\": \"step_line\", \"stdout\": \"Nella lista ci sono:\\ncani\\nNella lista ci sono:\\ngatti\\n\", \"ordered_globals\": [\"animali\", \"indice\"], \"heap\": {\"1\": [\"LIST\", \"cani\", \"gatti\", \"scoiattoli\", \"alci\"]}, \"globals\": {\"animali\": [\"REF\", 1], \"indice\": 1}}, {\"func_name\": \"<module>\", \"stack_to_render\": [], \"line\": 5, \"event\": \"step_line\", \"stdout\": \"Nella lista ci sono:\\ncani\\nNella lista ci sono:\\ngatti\\n\", \"ordered_globals\": [\"animali\", \"indice\"], \"heap\": {\"1\": [\"LIST\", \"cani\", \"gatti\", \"scoiattoli\", \"alci\"]}, \"globals\": {\"animali\": [\"REF\", 1], \"indice\": 2}}, {\"func_name\": \"<module>\", \"stack_to_render\": [], \"line\": 6, \"event\": \"step_line\", \"stdout\": \"Nella lista ci sono:\\ncani\\nNella lista ci sono:\\ngatti\\nNella lista ci sono:\\n\", \"ordered_globals\": [\"animali\", \"indice\"], \"heap\": {\"1\": [\"LIST\", \"cani\", \"gatti\", \"scoiattoli\", \"alci\"]}, \"globals\": {\"animali\": [\"REF\", 1], \"indice\": 2}}, {\"func_name\": \"<module>\", \"stack_to_render\": [], \"line\": 4, \"event\": \"step_line\", \"stdout\": \"Nella lista ci sono:\\ncani\\nNella lista ci sono:\\ngatti\\nNella lista ci sono:\\nscoiattoli\\n\", \"ordered_globals\": [\"animali\", \"indice\"], \"heap\": {\"1\": [\"LIST\", \"cani\", \"gatti\", \"scoiattoli\", \"alci\"]}, \"globals\": {\"animali\": [\"REF\", 1], \"indice\": 2}}, {\"func_name\": \"<module>\", \"stack_to_render\": [], \"line\": 4, \"event\": \"return\", \"stdout\": \"Nella lista ci sono:\\ncani\\nNella lista ci sono:\\ngatti\\nNella lista ci sono:\\nscoiattoli\\n\", \"ordered_globals\": [\"animali\", \"indice\"], \"heap\": {\"1\": [\"LIST\", \"cani\", \"gatti\", \"scoiattoli\", \"alci\"]}, \"globals\": {\"animali\": [\"REF\", 1], \"indice\": 2}}], \"code\": \" \\nanimali = ['cani', 'gatti', 'scoiattoli', 'alci']\\n\\nfor indice in range(3):\\n    print(\\\"Nella lista ci sono:\\\")\\n    print(animali[indice])\"}\n",
       "        </script>\n",
       "        <div id=\"jm88488343-d29a-4940-9837-d309170c34eb\" class=\"pytutorVisualizer\"> </div>\n",
       " \n",
       "        <style>\n",
       "        .vizLayoutTd {\n",
       "            background-color: #fff !important;\n",
       "        }\n",
       "\n",
       "        #pyStdout {            \n",
       "            min-height:25px;\n",
       "        }\n",
       "\n",
       "        /* 'Edit this code' link, hiding because replaces browser tab !!!*/\n",
       "        #editCodeLinkDiv {\n",
       "            display:none;  \n",
       "        }\n",
       "        </style>   \n",
       "                            \n",
       "        <script>\n",
       "        (function(){\n",
       "\n",
       "            var trace = JSON.parse(document.getElementById('json-jm88488343-d29a-4940-9837-d309170c34eb').innerHTML);                                        \n",
       "            // NOTE 1: id without #\n",
       "            // NOTE 2 - maybe there are more predictable ways, but this will work anyway\n",
       "            //        - id should be number\n",
       "            visualizerIdOverride = Math.trunc(Math.random() * 100000000000)\n",
       "            addVisualizerToPage(trace, 'jm88488343-d29a-4940-9837-d309170c34eb',{'embeddedMode' : false,\n",
       "                                             'visualizerIdOverride':visualizerIdOverride})  \n",
       "            \n",
       "            \n",
       "            // set overflow for pytuts - need to do in python as css \n",
       "            // does not allow parent selection\n",
       "            var pytuts = $('.pytutorVisualizer')\n",
       "            pytuts.closest('div.output_html.rendered_html.output_result')\n",
       "                    .css('overflow-x', 'visible')\n",
       "        \n",
       "            //pytuts.closest('div.output_html.rendered_html.output_result')\n",
       "            //      .css('background-color','red')                \n",
       "            \n",
       "        })()\n",
       "        </script>\n",
       "                \n",
       "                "
      ],
      "text/plain": [
       "<IPython.core.display.HTML object>"
      ]
     },
     "execution_count": 93,
     "metadata": {},
     "output_type": "execute_result"
    }
   ],
   "source": [
    "animali = ['cani', 'gatti', 'scoiattoli', 'alci']\n",
    "\n",
    "for indice in range(3):\n",
    "    print(\"Nella lista ci sono:\")\n",
    "    print(animali[indice])\n",
    "    \n",
    "jupman.pytut()    "
   ]
  },
  {
   "cell_type": "markdown",
   "metadata": {
    "colab_type": "text",
    "id": "BeFkQO8VH16f"
   },
   "source": [
    "## Funzioni\n",
    "\n",
    "Una funzione prende dei parametri e li usa per produrre o riportare qualche risultato.\n",
    "\n",
    "**Riferimenti**\n",
    "\n",
    "- [Pensare in Python, Capitolo 3, Funzioni](https://davidleoni.github.io/ThinkPythonItalian/html/thinkpython2004.html)\n",
    "- [Pensare in Python, Capitolo 6, Funzioni produttive](https://davidleoni.github.io/ThinkPythonItalian/html/thinkpython2007.html) puoi fare tutto saltando la parte 6.5 sulla ricorsione.\n",
    "    **NOTA**: nel libro viene usato il termine strano 'funzioni produttive' per quelle funzioni che ritornano un valore, ed il termine ancora più strano 'funzioni vuote' per funzioni che non ritornano nulla ma fanno qualche effetto tipo stampa a video: ignora e dimentica questi termini !  \n",
    "\n",
    "- [Nicola Cassetta, Lezione 4, Funzioni](http://ncassetta.altervista.org/Tutorial_Python/Lezione_04.html)\n",
    "- [SoftPython, Esercizi sulle funzioni](https://it.softpython.org/functions/functions-sol.html)\n",
    "\n",
    "\n",
    "Per definire una funzione, possiamo usare la parola chiave `def`: "
   ]
  },
  {
   "cell_type": "code",
   "execution_count": 94,
   "metadata": {
    "colab": {
     "autoexec": {
      "startup": false,
      "wait_interval": 0
     }
    },
    "colab_type": "code",
    "id": "JHBncVarIG0a"
   },
   "outputs": [],
   "source": [
    "def mia_stampa(x,y):   # RICORDATI I DUE PUNTI ':' ALLA FINE DELLA RIGA !!!!!\n",
    "    print('Ora stamperemo la somma di due numeri')\n",
    "    print('La somma è %s' % (x + y))\n"
   ]
  },
  {
   "cell_type": "markdown",
   "metadata": {
    "colab_type": "text",
    "id": "4qODhc9qIQVZ"
   },
   "source": [
    "Possiamo chiamare la funzione così:"
   ]
  },
  {
   "cell_type": "code",
   "execution_count": 95,
   "metadata": {
    "colab": {
     "autoexec": {
      "startup": false,
      "wait_interval": 0
     },
     "base_uri": "https://localhost:8080/",
     "height": 52,
     "output_extras": [
      {
       "item_id": 1
      }
     ]
    },
    "colab_type": "code",
    "executionInfo": {
     "elapsed": 477,
     "status": "ok",
     "timestamp": 1519045245334,
     "user": {
      "displayName": "David Leoni",
      "photoUrl": "https://lh3.googleusercontent.com/a/default-user=s128",
      "userId": "102920557909426557439"
     },
     "user_tz": -60
    },
    "id": "I0xzUz41IIpG",
    "outputId": "91e139d0-6249-41a4-d6d8-de59ab9c00ba"
   },
   "outputs": [
    {
     "name": "stdout",
     "output_type": "stream",
     "text": [
      "Ora stamperemo la somma di due numeri\n",
      "La somma è 8\n"
     ]
    }
   ],
   "source": [
    "mia_stampa(3,5)"
   ]
  },
  {
   "cell_type": "markdown",
   "metadata": {},
   "source": [
    "Vediamo meglio che succede con Python Tutor: "
   ]
  },
  {
   "cell_type": "code",
   "execution_count": 96,
   "metadata": {},
   "outputs": [
    {
     "name": "stdout",
     "output_type": "stream",
     "text": [
      "Ora stamperemo la somma di due numeri\n",
      "La somma è 8\n"
     ]
    },
    {
     "data": {
      "text/html": [
       "\n",
       "        <script src=\"../_static/js/pytutor-embed.bundle.min.js\" type=\"application/javascript\"></script>\n",
       "     \n",
       "        <script id=\"json-jmbc9fde53-c71d-4f13-bad1-0691170c3f11\" type=\"application/json\" >\n",
       "            {\"trace\": [{\"func_name\": \"<module>\", \"stack_to_render\": [], \"line\": 2, \"event\": \"step_line\", \"stdout\": \"\", \"ordered_globals\": [], \"heap\": {}, \"globals\": {}}, {\"func_name\": \"<module>\", \"stack_to_render\": [], \"line\": 6, \"event\": \"step_line\", \"stdout\": \"\", \"ordered_globals\": [\"mia_stampa\"], \"heap\": {\"1\": [\"FUNCTION\", \"mia_stampa(x, y)\", null]}, \"globals\": {\"mia_stampa\": [\"REF\", 1]}}, {\"func_name\": \"mia_stampa\", \"stack_to_render\": [{\"frame_id\": 1, \"encoded_locals\": {\"x\": 3, \"y\": 5}, \"is_zombie\": false, \"ordered_varnames\": [\"x\", \"y\"], \"func_name\": \"mia_stampa\", \"unique_hash\": \"mia_stampa_f1\", \"is_parent\": false, \"is_highlighted\": true, \"parent_frame_id_list\": []}], \"line\": 2, \"event\": \"call\", \"stdout\": \"\", \"ordered_globals\": [\"mia_stampa\"], \"heap\": {\"1\": [\"FUNCTION\", \"mia_stampa(x, y)\", null]}, \"globals\": {\"mia_stampa\": [\"REF\", 1]}}, {\"func_name\": \"mia_stampa\", \"stack_to_render\": [{\"frame_id\": 1, \"encoded_locals\": {\"x\": 3, \"y\": 5}, \"is_zombie\": false, \"ordered_varnames\": [\"x\", \"y\"], \"func_name\": \"mia_stampa\", \"unique_hash\": \"mia_stampa_f1\", \"is_parent\": false, \"is_highlighted\": true, \"parent_frame_id_list\": []}], \"line\": 3, \"event\": \"step_line\", \"stdout\": \"\", \"ordered_globals\": [\"mia_stampa\"], \"heap\": {\"1\": [\"FUNCTION\", \"mia_stampa(x, y)\", null]}, \"globals\": {\"mia_stampa\": [\"REF\", 1]}}, {\"func_name\": \"mia_stampa\", \"stack_to_render\": [{\"frame_id\": 1, \"encoded_locals\": {\"x\": 3, \"y\": 5}, \"is_zombie\": false, \"ordered_varnames\": [\"x\", \"y\"], \"func_name\": \"mia_stampa\", \"unique_hash\": \"mia_stampa_f1\", \"is_parent\": false, \"is_highlighted\": true, \"parent_frame_id_list\": []}], \"line\": 4, \"event\": \"step_line\", \"stdout\": \"Ora stamperemo la somma di due numeri\\n\", \"ordered_globals\": [\"mia_stampa\"], \"heap\": {\"1\": [\"FUNCTION\", \"mia_stampa(x, y)\", null]}, \"globals\": {\"mia_stampa\": [\"REF\", 1]}}, {\"func_name\": \"mia_stampa\", \"stack_to_render\": [{\"frame_id\": 1, \"encoded_locals\": {\"x\": 3, \"__return__\": null, \"y\": 5}, \"is_zombie\": false, \"ordered_varnames\": [\"x\", \"y\", \"__return__\"], \"func_name\": \"mia_stampa\", \"unique_hash\": \"mia_stampa_f1\", \"is_parent\": false, \"is_highlighted\": true, \"parent_frame_id_list\": []}], \"line\": 4, \"event\": \"return\", \"stdout\": \"Ora stamperemo la somma di due numeri\\nLa somma \\u00e8 8\\n\", \"ordered_globals\": [\"mia_stampa\"], \"heap\": {\"1\": [\"FUNCTION\", \"mia_stampa(x, y)\", null]}, \"globals\": {\"mia_stampa\": [\"REF\", 1]}}, {\"func_name\": \"<module>\", \"stack_to_render\": [], \"line\": 6, \"event\": \"return\", \"stdout\": \"Ora stamperemo la somma di due numeri\\nLa somma \\u00e8 8\\n\", \"ordered_globals\": [\"mia_stampa\"], \"heap\": {\"1\": [\"FUNCTION\", \"mia_stampa(x, y)\", null]}, \"globals\": {\"mia_stampa\": [\"REF\", 1]}}], \"code\": \" \\ndef mia_stampa(x,y):    # RICORDATI I DUE PUNTI ':' ALLA FINE DELLA RIGA !!!!!\\n    print('Ora stamperemo la somma di due numeri')\\n    print('La somma \\u00e8 %s' % (x + y))\\n\\nmia_stampa(3,5)\"}\n",
       "        </script>\n",
       "        <div id=\"jmbc9fde53-c71d-4f13-bad1-0691170c3f11\" class=\"pytutorVisualizer\"> </div>\n",
       " \n",
       "        <style>\n",
       "        .vizLayoutTd {\n",
       "            background-color: #fff !important;\n",
       "        }\n",
       "\n",
       "        #pyStdout {            \n",
       "            min-height:25px;\n",
       "        }\n",
       "\n",
       "        /* 'Edit this code' link, hiding because replaces browser tab !!!*/\n",
       "        #editCodeLinkDiv {\n",
       "            display:none;  \n",
       "        }\n",
       "        </style>   \n",
       "                            \n",
       "        <script>\n",
       "        (function(){\n",
       "\n",
       "            var trace = JSON.parse(document.getElementById('json-jmbc9fde53-c71d-4f13-bad1-0691170c3f11').innerHTML);                                        \n",
       "            // NOTE 1: id without #\n",
       "            // NOTE 2 - maybe there are more predictable ways, but this will work anyway\n",
       "            //        - id should be number\n",
       "            visualizerIdOverride = Math.trunc(Math.random() * 100000000000)\n",
       "            addVisualizerToPage(trace, 'jmbc9fde53-c71d-4f13-bad1-0691170c3f11',{'embeddedMode' : false,\n",
       "                                             'visualizerIdOverride':visualizerIdOverride})  \n",
       "            \n",
       "            \n",
       "            // set overflow for pytuts - need to do in python as css \n",
       "            // does not allow parent selection\n",
       "            var pytuts = $('.pytutorVisualizer')\n",
       "            pytuts.closest('div.output_html.rendered_html.output_result')\n",
       "                    .css('overflow-x', 'visible')\n",
       "        \n",
       "            //pytuts.closest('div.output_html.rendered_html.output_result')\n",
       "            //      .css('background-color','red')                \n",
       "            \n",
       "        })()\n",
       "        </script>\n",
       "                \n",
       "                "
      ],
      "text/plain": [
       "<IPython.core.display.HTML object>"
      ]
     },
     "execution_count": 96,
     "metadata": {},
     "output_type": "execute_result"
    }
   ],
   "source": [
    "def mia_stampa(x,y):    # RICORDATI I DUE PUNTI ':' ALLA FINE DELLA RIGA !!!!!\n",
    "    print('Ora stamperemo la somma di due numeri')\n",
    "    print('La somma è %s' % (x + y))\n",
    "\n",
    "mia_stampa(3,5)\n",
    "\n",
    "jupman.pytut()"
   ]
  },
  {
   "cell_type": "markdown",
   "metadata": {
    "colab_type": "text",
    "id": "TNftj3qzJWgv"
   },
   "source": [
    "La funzione appena dichiarata stampa dei valori, ma non ritorna nulla. Per fare una funzione che ritorni un valore, dobbiamo usare la parola chiava `return`\n",
    "\n",
    "Trovi questo tipo di funzioni  anche sul libro [Pensare in Python, Capitolo 6, Funzioni produttive](https://davidleoni.github.io/ThinkPythonItalian/html/thinkpython2007.html), di cui puoi fare tutto saltando la parte 6.5 sulla ricorsione. NOTA: nel libro viene usato il termine strano “funzioni produttive” per quelle funzioni che ritornano un valore, ed il termine ancora più strano “funzioni vuote” per funzioni che non ritornano nulla ma fanno qualche effetto tipo stampa a video: ignora questi strani termini ! \n",
    "\n"
   ]
  },
  {
   "cell_type": "code",
   "execution_count": 97,
   "metadata": {
    "colab": {
     "autoexec": {
      "startup": false,
      "wait_interval": 0
     }
    },
    "colab_type": "code",
    "id": "FN9Ek84QIZdK"
   },
   "outputs": [],
   "source": [
    "def mia_somma(x,y):\n",
    "    s = x + y\n",
    "    return s\n"
   ]
  },
  {
   "cell_type": "code",
   "execution_count": 98,
   "metadata": {
    "colab": {
     "autoexec": {
      "startup": false,
      "wait_interval": 0
     },
     "base_uri": "https://localhost:8080/",
     "height": 34,
     "output_extras": [
      {
       "item_id": 1
      }
     ]
    },
    "colab_type": "code",
    "executionInfo": {
     "elapsed": 488,
     "status": "ok",
     "timestamp": 1519045262248,
     "user": {
      "displayName": "David Leoni",
      "photoUrl": "https://lh3.googleusercontent.com/a/default-user=s128",
      "userId": "102920557909426557439"
     },
     "user_tz": -60
    },
    "id": "vGaE6W6bIOn3",
    "outputId": "6bac1cdf-285a-41ea-d335-6703e1ee9cff"
   },
   "outputs": [
    {
     "data": {
      "text/plain": [
       "8"
      ]
     },
     "execution_count": 98,
     "metadata": {},
     "output_type": "execute_result"
    }
   ],
   "source": [
    "mia_somma(3,5)\n"
   ]
  },
  {
   "cell_type": "code",
   "execution_count": 99,
   "metadata": {},
   "outputs": [
    {
     "name": "stdout",
     "output_type": "stream",
     "text": [
      "8\n"
     ]
    },
    {
     "data": {
      "text/html": [
       "\n",
       "        <script src=\"../_static/js/pytutor-embed.bundle.min.js\" type=\"application/javascript\"></script>\n",
       "     \n",
       "        <script id=\"json-jmcbaf9f17-79d0-46f2-8d01-598b7f0cd97f\" type=\"application/json\" >\n",
       "            {\"trace\": [{\"func_name\": \"<module>\", \"stack_to_render\": [], \"line\": 4, \"event\": \"step_line\", \"stdout\": \"\", \"ordered_globals\": [], \"heap\": {}, \"globals\": {}}, {\"func_name\": \"<module>\", \"stack_to_render\": [], \"line\": 8, \"event\": \"step_line\", \"stdout\": \"\", \"ordered_globals\": [\"mia_somma\"], \"heap\": {\"1\": [\"FUNCTION\", \"mia_somma(x, y)\", null]}, \"globals\": {\"mia_somma\": [\"REF\", 1]}}, {\"func_name\": \"mia_somma\", \"stack_to_render\": [{\"frame_id\": 1, \"encoded_locals\": {\"x\": 3, \"y\": 5}, \"is_zombie\": false, \"ordered_varnames\": [\"x\", \"y\"], \"func_name\": \"mia_somma\", \"unique_hash\": \"mia_somma_f1\", \"is_parent\": false, \"is_highlighted\": true, \"parent_frame_id_list\": []}], \"line\": 4, \"event\": \"call\", \"stdout\": \"\", \"ordered_globals\": [\"mia_somma\"], \"heap\": {\"1\": [\"FUNCTION\", \"mia_somma(x, y)\", null]}, \"globals\": {\"mia_somma\": [\"REF\", 1]}}, {\"func_name\": \"mia_somma\", \"stack_to_render\": [{\"frame_id\": 1, \"encoded_locals\": {\"x\": 3, \"y\": 5}, \"is_zombie\": false, \"ordered_varnames\": [\"x\", \"y\"], \"func_name\": \"mia_somma\", \"unique_hash\": \"mia_somma_f1\", \"is_parent\": false, \"is_highlighted\": true, \"parent_frame_id_list\": []}], \"line\": 5, \"event\": \"step_line\", \"stdout\": \"\", \"ordered_globals\": [\"mia_somma\"], \"heap\": {\"1\": [\"FUNCTION\", \"mia_somma(x, y)\", null]}, \"globals\": {\"mia_somma\": [\"REF\", 1]}}, {\"func_name\": \"mia_somma\", \"stack_to_render\": [{\"frame_id\": 1, \"encoded_locals\": {\"x\": 3, \"y\": 5, \"s\": 8}, \"is_zombie\": false, \"ordered_varnames\": [\"x\", \"y\", \"s\"], \"func_name\": \"mia_somma\", \"unique_hash\": \"mia_somma_f1\", \"is_parent\": false, \"is_highlighted\": true, \"parent_frame_id_list\": []}], \"line\": 6, \"event\": \"step_line\", \"stdout\": \"\", \"ordered_globals\": [\"mia_somma\"], \"heap\": {\"1\": [\"FUNCTION\", \"mia_somma(x, y)\", null]}, \"globals\": {\"mia_somma\": [\"REF\", 1]}}, {\"func_name\": \"mia_somma\", \"stack_to_render\": [{\"frame_id\": 1, \"encoded_locals\": {\"x\": 3, \"__return__\": 8, \"y\": 5, \"s\": 8}, \"is_zombie\": false, \"ordered_varnames\": [\"x\", \"y\", \"s\", \"__return__\"], \"func_name\": \"mia_somma\", \"unique_hash\": \"mia_somma_f1\", \"is_parent\": false, \"is_highlighted\": true, \"parent_frame_id_list\": []}], \"line\": 6, \"event\": \"return\", \"stdout\": \"\", \"ordered_globals\": [\"mia_somma\"], \"heap\": {\"1\": [\"FUNCTION\", \"mia_somma(x, y)\", null]}, \"globals\": {\"mia_somma\": [\"REF\", 1]}}, {\"func_name\": \"<module>\", \"stack_to_render\": [], \"line\": 8, \"event\": \"return\", \"stdout\": \"8\\n\", \"ordered_globals\": [\"mia_somma\"], \"heap\": {\"1\": [\"FUNCTION\", \"mia_somma(x, y)\", null]}, \"globals\": {\"mia_somma\": [\"REF\", 1]}}], \"code\": \" \\n# Vediamo meglio  che succede con Python Tutor: \\n\\ndef mia_somma(x,y):\\n    s = x + y\\n    return s\\n\\nprint(mia_somma(3,5))\"}\n",
       "        </script>\n",
       "        <div id=\"jmcbaf9f17-79d0-46f2-8d01-598b7f0cd97f\" class=\"pytutorVisualizer\"> </div>\n",
       " \n",
       "        <style>\n",
       "        .vizLayoutTd {\n",
       "            background-color: #fff !important;\n",
       "        }\n",
       "\n",
       "        #pyStdout {            \n",
       "            min-height:25px;\n",
       "        }\n",
       "\n",
       "        /* 'Edit this code' link, hiding because replaces browser tab !!!*/\n",
       "        #editCodeLinkDiv {\n",
       "            display:none;  \n",
       "        }\n",
       "        </style>   \n",
       "                            \n",
       "        <script>\n",
       "        (function(){\n",
       "\n",
       "            var trace = JSON.parse(document.getElementById('json-jmcbaf9f17-79d0-46f2-8d01-598b7f0cd97f').innerHTML);                                        \n",
       "            // NOTE 1: id without #\n",
       "            // NOTE 2 - maybe there are more predictable ways, but this will work anyway\n",
       "            //        - id should be number\n",
       "            visualizerIdOverride = Math.trunc(Math.random() * 100000000000)\n",
       "            addVisualizerToPage(trace, 'jmcbaf9f17-79d0-46f2-8d01-598b7f0cd97f',{'embeddedMode' : false,\n",
       "                                             'visualizerIdOverride':visualizerIdOverride})  \n",
       "            \n",
       "            \n",
       "            // set overflow for pytuts - need to do in python as css \n",
       "            // does not allow parent selection\n",
       "            var pytuts = $('.pytutorVisualizer')\n",
       "            pytuts.closest('div.output_html.rendered_html.output_result')\n",
       "                    .css('overflow-x', 'visible')\n",
       "        \n",
       "            //pytuts.closest('div.output_html.rendered_html.output_result')\n",
       "            //      .css('background-color','red')                \n",
       "            \n",
       "        })()\n",
       "        </script>\n",
       "                \n",
       "                "
      ],
      "text/plain": [
       "<IPython.core.display.HTML object>"
      ]
     },
     "execution_count": 99,
     "metadata": {},
     "output_type": "execute_result"
    }
   ],
   "source": [
    "# Vediamo meglio  che succede con Python Tutor: \n",
    "\n",
    "def mia_somma(x,y):\n",
    "    s = x + y\n",
    "    return s\n",
    "\n",
    "print(mia_somma(3,5))\n",
    "\n",
    "jupman.pytut()"
   ]
  },
  {
   "cell_type": "markdown",
   "metadata": {
    "colab_type": "text",
    "id": "ctEd5oqiJ5Pn"
   },
   "source": [
    "**✪ ESERCIZIO**: Se proviamo ad assegnare ad una variabile `x` il valore di ritorno delle funzione `mia_stampa` che apparantemente non ritorna nulla, che valore ci sarà in `x`? Prova a capirlo qua sotto:"
   ]
  },
  {
   "cell_type": "code",
   "execution_count": 100,
   "metadata": {
    "colab": {
     "autoexec": {
      "startup": false,
      "wait_interval": 0
     }
    },
    "colab_type": "code",
    "id": "Wdy1FRAcKH0i"
   },
   "outputs": [],
   "source": [
    "# scrivi qui\n"
   ]
  },
  {
   "cell_type": "markdown",
   "metadata": {
    "colab_type": "text",
    "id": "zP0UHumoKreN"
   },
   "source": [
    "**✪ ESERCIZIO**: Scrivi qua sotto una funzione `media` che calcola e ritorna la media tra due numeri x e y in input"
   ]
  },
  {
   "cell_type": "raw",
   "id": "7d733825",
   "metadata": {
    "format": "text/html"
   },
   "source": [
    "<a  class=\"jupman-sol jupman-sol-toggler\" \n",
    " onclick=\"jupman.toggleSolution(this);\" \n",
    " data-jupman-show=\"Mostra soluzione\" data-jupman-hide=\"Nascondi\">Mostra soluzione</a><div class=\"jupman-sol jupman-sol-code\" style=\"display:none\">  "
   ]
  },
  {
   "cell_type": "code",
   "execution_count": 101,
   "metadata": {
    "colab": {
     "autoexec": {
      "startup": false,
      "wait_interval": 0
     }
    },
    "colab_type": "code",
    "id": "Wl2MS0-1K0ug"
   },
   "outputs": [],
   "source": [
    "# scrivi qui\n",
    "\n",
    "\n",
    "\n",
    "def media(x, y):\n",
    "    return (x + y) / 2"
   ]
  },
  {
   "cell_type": "raw",
   "id": "f42c53dd",
   "metadata": {
    "format": "text/html"
   },
   "source": [
    "</div>"
   ]
  },
  {
   "cell_type": "code",
   "execution_count": 101,
   "metadata": {
    "colab": {
     "autoexec": {
      "startup": false,
      "wait_interval": 0
     }
    },
    "colab_type": "code",
    "id": "Wl2MS0-1K0ug"
   },
   "outputs": [],
   "source": [
    "# scrivi qui\n",
    "\n"
   ]
  },
  {
   "cell_type": "markdown",
   "metadata": {
    "colab_type": "text",
    "id": "2nMcWnwHLQte"
   },
   "source": [
    "**✪✪ ESERCIZIO**: Scrivi qua sotto una funzione che chiameremo `iniziab` che prende una stringa `x` in ingresso. Se la stringa inizia con la lettera 'b', per esempio `'bianco'` la funzione stampa la scritta `bianco inizia con b`, altrimenti stampa `bianco non inizia con la b`. \n",
    "\n",
    "* Per controllare se il primo carattere è uguale alla `'b'`, usa l'operatore `==` (ATTENZIONE: è un DOPPIO uguale !)\n",
    "* Se la stringa è vuota la tua funzione può avere problemi? Come potresti risolverli? (Per separare più condizioni nell'`if`, usa l'operatore `and` oppure `or` a seconda di come hai costruito l'if). "
   ]
  },
  {
   "cell_type": "raw",
   "id": "d45ce92c",
   "metadata": {
    "format": "text/html"
   },
   "source": [
    "<a  class=\"jupman-sol jupman-sol-toggler\" \n",
    " onclick=\"jupman.toggleSolution(this);\" \n",
    " data-jupman-show=\"Mostra soluzione\" data-jupman-hide=\"Nascondi\">Mostra soluzione</a><div class=\"jupman-sol jupman-sol-code\" style=\"display:none\">  "
   ]
  },
  {
   "cell_type": "code",
   "execution_count": 102,
   "metadata": {
    "colab": {
     "autoexec": {
      "startup": false,
      "wait_interval": 0
     }
    },
    "colab_type": "code",
    "id": "2-rCBLAYMA3Y"
   },
   "outputs": [
    {
     "name": "stdout",
     "output_type": "stream",
     "text": [
      "bianco inizia con b\n",
      "verde non inizia con b\n",
      " non inizia con b\n"
     ]
    }
   ],
   "source": [
    "# scrivi qui\n",
    "\n",
    "def iniziab(x):\n",
    "    if len(x) != 0 and x[0] == 'b':\n",
    "        print(x + ' inizia con b')\n",
    "    else:\n",
    "        print(x + ' non inizia con b')\n",
    "    \n",
    "iniziab('bianco')        \n",
    "iniziab('verde')\n",
    "iniziab('')"
   ]
  },
  {
   "cell_type": "raw",
   "id": "18ad8365",
   "metadata": {
    "format": "text/html"
   },
   "source": [
    "</div>"
   ]
  },
  {
   "cell_type": "code",
   "execution_count": 102,
   "metadata": {
    "colab": {
     "autoexec": {
      "startup": false,
      "wait_interval": 0
     }
    },
    "colab_type": "code",
    "id": "2-rCBLAYMA3Y"
   },
   "outputs": [
    {
     "name": "stdout",
     "output_type": "stream",
     "text": [
      "bianco inizia con b\n",
      "verde non inizia con b\n",
      " non inizia con b\n"
     ]
    }
   ],
   "source": [
    "# scrivi qui\n",
    "\n"
   ]
  },
  {
   "cell_type": "markdown",
   "metadata": {
    "colab_type": "text",
    "id": "4X1oP2z2Nz4z"
   },
   "source": [
    "### Funzioni lambda\n",
    "\n",
    "In Python una variabile può contenere una funzione. Per esempio, sappiamo che `len(\"ciao\")` ci dà la lunghezza della stringa `\"ciao\"`\n"
   ]
  },
  {
   "cell_type": "code",
   "execution_count": 103,
   "metadata": {
    "colab": {
     "autoexec": {
      "startup": false,
      "wait_interval": 0
     },
     "base_uri": "https://localhost:8080/",
     "height": 34,
     "output_extras": [
      {
       "item_id": 1
      }
     ]
    },
    "colab_type": "code",
    "executionInfo": {
     "elapsed": 500,
     "status": "ok",
     "timestamp": 1519046536040,
     "user": {
      "displayName": "David Leoni",
      "photoUrl": "https://lh3.googleusercontent.com/a/default-user=s128",
      "userId": "102920557909426557439"
     },
     "user_tz": -60
    },
    "id": "El31mlUNOoRX",
    "outputId": "24ca6750-254e-4062-f24a-6850eb7af742"
   },
   "outputs": [
    {
     "data": {
      "text/plain": [
       "4"
      ]
     },
     "execution_count": 103,
     "metadata": {},
     "output_type": "execute_result"
    }
   ],
   "source": [
    "len(\"ciao\")"
   ]
  },
  {
   "cell_type": "markdown",
   "metadata": {
    "colab_type": "text",
    "id": "ENEMhfSiOrUM"
   },
   "source": [
    "Proviamo a creare una variabile `mia_variabile` che punta alla funzione `len`. \n",
    "\n",
    "**NOTA**: _non_ abbiamo aggiunto parametri a `len`!"
   ]
  },
  {
   "cell_type": "code",
   "execution_count": 104,
   "metadata": {
    "colab": {
     "autoexec": {
      "startup": false,
      "wait_interval": 0
     }
    },
    "colab_type": "code",
    "id": "6S-wDPTYOJUO"
   },
   "outputs": [],
   "source": [
    "\n",
    "mia_variabile = len\n"
   ]
  },
  {
   "cell_type": "markdown",
   "metadata": {
    "colab_type": "text",
    "id": "PX1hxxoOOUJg"
   },
   "source": [
    "Adesso possiamo usare `mia_variabile` esattamente come usiamo la funzione `len`, che da la lunghezza di sequenze come le stringhe"
   ]
  },
  {
   "cell_type": "code",
   "execution_count": 105,
   "metadata": {
    "colab": {
     "autoexec": {
      "startup": false,
      "wait_interval": 0
     },
     "base_uri": "https://localhost:8080/",
     "height": 34,
     "output_extras": [
      {
       "item_id": 1
      }
     ]
    },
    "colab_type": "code",
    "executionInfo": {
     "elapsed": 649,
     "status": "ok",
     "timestamp": 1519046587953,
     "user": {
      "displayName": "David Leoni",
      "photoUrl": "https://lh3.googleusercontent.com/a/default-user=s128",
      "userId": "102920557909426557439"
     },
     "user_tz": -60
    },
    "id": "Lh6V_SAeOS3O",
    "outputId": "efd81d20-9aa9-40b4-8540-ac5d6f45ea6d"
   },
   "outputs": [
    {
     "data": {
      "text/plain": [
       "4"
      ]
     },
     "execution_count": 105,
     "metadata": {},
     "output_type": "execute_result"
    }
   ],
   "source": [
    "mia_variabile(\"ciao\")"
   ]
  },
  {
   "cell_type": "markdown",
   "metadata": {
    "colab": {
     "autoexec": {
      "startup": false,
      "wait_interval": 0
     }
    },
    "colab_type": "code",
    "id": "DN4BJnksO3He"
   },
   "source": [
    "Possiamo anche riassegnare `mia_variabile` ad altre funzioni, per esempio `sorted`. Vediamo che succede:"
   ]
  },
  {
   "cell_type": "code",
   "execution_count": 106,
   "metadata": {
    "colab": {
     "autoexec": {
      "startup": false,
      "wait_interval": 0
     }
    },
    "colab_type": "code",
    "id": "39ad-1FIOKPB"
   },
   "outputs": [],
   "source": [
    "mia_variabile = sorted"
   ]
  },
  {
   "cell_type": "markdown",
   "metadata": {
    "colab_type": "text",
    "id": "fIb3WcLyPCx_"
   },
   "source": [
    "chiamando `mia_variabile`, ci aspettiamo di vedere i caratteri di `\"ciao\"` in ordine alfabetico:"
   ]
  },
  {
   "cell_type": "code",
   "execution_count": 107,
   "metadata": {
    "colab": {
     "autoexec": {
      "startup": false,
      "wait_interval": 0
     },
     "base_uri": "https://localhost:8080/",
     "height": 34,
     "output_extras": [
      {
       "item_id": 1
      }
     ]
    },
    "colab_type": "code",
    "executionInfo": {
     "elapsed": 494,
     "status": "ok",
     "timestamp": 1519047027841,
     "user": {
      "displayName": "David Leoni",
      "photoUrl": "https://lh3.googleusercontent.com/a/default-user=s128",
      "userId": "102920557909426557439"
     },
     "user_tz": -60
    },
    "id": "PmR_4VeMPK9L",
    "outputId": "125162e5-a0a0-4c52-9728-4c04fe539fd1"
   },
   "outputs": [
    {
     "data": {
      "text/plain": [
       "['a', 'c', 'i', 'o']"
      ]
     },
     "execution_count": 107,
     "metadata": {},
     "output_type": "execute_result"
    }
   ],
   "source": [
    "mia_variabile(\"ciao\")"
   ]
  },
  {
   "cell_type": "markdown",
   "metadata": {
    "colab_type": "text",
    "id": "Q3CoQlvZPWTG"
   },
   "source": [
    "In Python possiamo definire funzioni in una sola riga, con le cosiddette _funzioni lambda_: "
   ]
  },
  {
   "cell_type": "code",
   "execution_count": 108,
   "metadata": {
    "colab": {
     "autoexec": {
      "startup": false,
      "wait_interval": 0
     }
    },
    "colab_type": "code",
    "id": "uXGgflBePBlW"
   },
   "outputs": [],
   "source": [
    "mia_f = lambda x: x + 1"
   ]
  },
  {
   "cell_type": "markdown",
   "metadata": {
    "colab_type": "text",
    "id": "tdpFbGTsPcZb"
   },
   "source": [
    "Cosa fa `mia_f` ? Prende un parametro `x` e ritorna il risultato di calcolare l'espressione `x + 1`:"
   ]
  },
  {
   "cell_type": "code",
   "execution_count": 109,
   "metadata": {
    "colab": {
     "autoexec": {
      "startup": false,
      "wait_interval": 0
     },
     "base_uri": "https://localhost:8080/",
     "height": 34,
     "output_extras": [
      {
       "item_id": 1
      }
     ]
    },
    "colab_type": "code",
    "executionInfo": {
     "elapsed": 496,
     "status": "ok",
     "timestamp": 1519047256022,
     "user": {
      "displayName": "David Leoni",
      "photoUrl": "https://lh3.googleusercontent.com/a/default-user=s128",
      "userId": "102920557909426557439"
     },
     "user_tz": -60
    },
    "id": "5wJ9R1oJPj8L",
    "outputId": "91aeee26-af36-4dfe-b34e-f149a91dbce2"
   },
   "outputs": [
    {
     "data": {
      "text/plain": [
       "6"
      ]
     },
     "execution_count": 109,
     "metadata": {},
     "output_type": "execute_result"
    }
   ],
   "source": [
    "mia_f(5)"
   ]
  },
  {
   "cell_type": "markdown",
   "metadata": {
    "colab_type": "text",
    "id": "sWYLGHWJP0MY"
   },
   "source": [
    "Possiamo anche passare due parametri:"
   ]
  },
  {
   "cell_type": "code",
   "execution_count": 110,
   "metadata": {
    "colab": {
     "autoexec": {
      "startup": false,
      "wait_interval": 0
     }
    },
    "colab_type": "code",
    "id": "mazLpnywPaDz"
   },
   "outputs": [],
   "source": [
    "mia_somma = lambda x,y: x + y"
   ]
  },
  {
   "cell_type": "code",
   "execution_count": 111,
   "metadata": {
    "colab": {
     "autoexec": {
      "startup": false,
      "wait_interval": 0
     },
     "base_uri": "https://localhost:8080/",
     "height": 34,
     "output_extras": [
      {
       "item_id": 1
      }
     ]
    },
    "colab_type": "code",
    "executionInfo": {
     "elapsed": 506,
     "status": "ok",
     "timestamp": 1519046858574,
     "user": {
      "displayName": "David Leoni",
      "photoUrl": "https://lh3.googleusercontent.com/a/default-user=s128",
      "userId": "102920557909426557439"
     },
     "user_tz": -60
    },
    "id": "Fv3LhBAOPrqs",
    "outputId": "0efb7db1-538e-42cd-e9c9-3eef80d50ce5"
   },
   "outputs": [
    {
     "data": {
      "text/plain": [
       "8"
      ]
     },
     "execution_count": 111,
     "metadata": {},
     "output_type": "execute_result"
    }
   ],
   "source": [
    "mia_somma(3,5)"
   ]
  },
  {
   "cell_type": "markdown",
   "metadata": {
    "colab_type": "text",
    "id": "B5ZCVVazQE8Q"
   },
   "source": [
    "**✪ ESERCIZIO**: Prova a definire qua sotto una funzione lambda per calcolare la media tra due numeri `x` e `y`, e assegnala alla variabile `media` "
   ]
  },
  {
   "cell_type": "raw",
   "id": "a3d712b7",
   "metadata": {
    "format": "text/html"
   },
   "source": [
    "<a  class=\"jupman-sol jupman-sol-toggler\" \n",
    " onclick=\"jupman.toggleSolution(this);\" \n",
    " data-jupman-show=\"Mostra soluzione\" data-jupman-hide=\"Nascondi\">Mostra soluzione</a><div class=\"jupman-sol jupman-sol-code\" style=\"display:none\">  "
   ]
  },
  {
   "cell_type": "code",
   "execution_count": 112,
   "metadata": {
    "colab": {
     "autoexec": {
      "startup": false,
      "wait_interval": 0
     }
    },
    "colab_type": "code",
    "id": "FAhMilOBQJGK"
   },
   "outputs": [
    {
     "data": {
      "text/plain": [
       "4.5"
      ]
     },
     "execution_count": 112,
     "metadata": {},
     "output_type": "execute_result"
    }
   ],
   "source": [
    "# scrivi qui\n",
    "\n",
    "media = lambda x,y: (x + y)/2\n",
    "\n",
    "media(2,7)"
   ]
  },
  {
   "cell_type": "raw",
   "id": "63117925",
   "metadata": {
    "format": "text/html"
   },
   "source": [
    "</div>"
   ]
  },
  {
   "cell_type": "code",
   "execution_count": 112,
   "metadata": {
    "colab": {
     "autoexec": {
      "startup": false,
      "wait_interval": 0
     }
    },
    "colab_type": "code",
    "id": "FAhMilOBQJGK"
   },
   "outputs": [
    {
     "data": {
      "text/plain": [
       "4.5"
      ]
     },
     "execution_count": 112,
     "metadata": {},
     "output_type": "execute_result"
    }
   ],
   "source": [
    "# scrivi qui\n",
    "\n"
   ]
  },
  {
   "cell_type": "markdown",
   "metadata": {
    "colab_type": "text",
    "id": "wqYdlbArcIo9"
   },
   "source": [
    "## Trasformazioni sulle liste\n",
    "\n",
    "Supponiamo di voler prendere la lista di animali e generarne una nuova in cui tutti i nomi iniziano con la lettera maiuscola. Questa che vogliamo fare di fatto è la creazione di una nuova lista operando una trasformazione sulla precedente. Per fare ciò esistono diversi modi, quello più semplice è usare un ciclo `for` così\n",
    "\n",
    "### Trasfomazioni con il for\n",
    "\n",
    "\n"
   ]
  },
  {
   "cell_type": "code",
   "execution_count": 113,
   "metadata": {
    "colab": {
     "autoexec": {
      "startup": false,
      "wait_interval": 0
     }
    },
    "colab_type": "code",
    "id": "SnnvFBIlcNWo"
   },
   "outputs": [
    {
     "data": {
      "text/html": [
       "\n",
       "        <script src=\"../_static/js/pytutor-embed.bundle.min.js\" type=\"application/javascript\"></script>\n",
       "     \n",
       "        <script id=\"json-jma5a1a26a-d2da-453b-93df-a0aab52b644e\" type=\"application/json\" >\n",
       "            {\"trace\": [{\"func_name\": \"<module>\", \"stack_to_render\": [], \"line\": 2, \"event\": \"step_line\", \"stdout\": \"\", \"ordered_globals\": [], \"heap\": {}, \"globals\": {}}, {\"func_name\": \"<module>\", \"stack_to_render\": [], \"line\": 5, \"event\": \"step_line\", \"stdout\": \"\", \"ordered_globals\": [\"animali\"], \"heap\": {\"1\": [\"LIST\", \"cani\", \"gatti\", \"scoiattoli\", \"alci\"]}, \"globals\": {\"animali\": [\"REF\", 1]}}, {\"func_name\": \"<module>\", \"stack_to_render\": [], \"line\": 6, \"event\": \"step_line\", \"stdout\": \"\", \"ordered_globals\": [\"animali\", \"nuova_lista\"], \"heap\": {\"1\": [\"LIST\", \"cani\", \"gatti\", \"scoiattoli\", \"alci\"], \"2\": [\"LIST\"]}, \"globals\": {\"animali\": [\"REF\", 1], \"nuova_lista\": [\"REF\", 2]}}, {\"func_name\": \"<module>\", \"stack_to_render\": [], \"line\": 7, \"event\": \"step_line\", \"stdout\": \"\", \"ordered_globals\": [\"animali\", \"nuova_lista\", \"animale\"], \"heap\": {\"1\": [\"LIST\", \"cani\", \"gatti\", \"scoiattoli\", \"alci\"], \"2\": [\"LIST\"]}, \"globals\": {\"animali\": [\"REF\", 1], \"animale\": \"cani\", \"nuova_lista\": [\"REF\", 2]}}, {\"func_name\": \"<module>\", \"stack_to_render\": [], \"line\": 6, \"event\": \"step_line\", \"stdout\": \"\", \"ordered_globals\": [\"animali\", \"nuova_lista\", \"animale\"], \"heap\": {\"1\": [\"LIST\", \"cani\", \"gatti\", \"scoiattoli\", \"alci\"], \"2\": [\"LIST\", \"Cani\"]}, \"globals\": {\"animali\": [\"REF\", 1], \"animale\": \"cani\", \"nuova_lista\": [\"REF\", 2]}}, {\"func_name\": \"<module>\", \"stack_to_render\": [], \"line\": 7, \"event\": \"step_line\", \"stdout\": \"\", \"ordered_globals\": [\"animali\", \"nuova_lista\", \"animale\"], \"heap\": {\"1\": [\"LIST\", \"cani\", \"gatti\", \"scoiattoli\", \"alci\"], \"2\": [\"LIST\", \"Cani\"]}, \"globals\": {\"animali\": [\"REF\", 1], \"animale\": \"gatti\", \"nuova_lista\": [\"REF\", 2]}}, {\"func_name\": \"<module>\", \"stack_to_render\": [], \"line\": 6, \"event\": \"step_line\", \"stdout\": \"\", \"ordered_globals\": [\"animali\", \"nuova_lista\", \"animale\"], \"heap\": {\"1\": [\"LIST\", \"cani\", \"gatti\", \"scoiattoli\", \"alci\"], \"2\": [\"LIST\", \"Cani\", \"Gatti\"]}, \"globals\": {\"animali\": [\"REF\", 1], \"animale\": \"gatti\", \"nuova_lista\": [\"REF\", 2]}}, {\"func_name\": \"<module>\", \"stack_to_render\": [], \"line\": 7, \"event\": \"step_line\", \"stdout\": \"\", \"ordered_globals\": [\"animali\", \"nuova_lista\", \"animale\"], \"heap\": {\"1\": [\"LIST\", \"cani\", \"gatti\", \"scoiattoli\", \"alci\"], \"2\": [\"LIST\", \"Cani\", \"Gatti\"]}, \"globals\": {\"animali\": [\"REF\", 1], \"animale\": \"scoiattoli\", \"nuova_lista\": [\"REF\", 2]}}, {\"func_name\": \"<module>\", \"stack_to_render\": [], \"line\": 6, \"event\": \"step_line\", \"stdout\": \"\", \"ordered_globals\": [\"animali\", \"nuova_lista\", \"animale\"], \"heap\": {\"1\": [\"LIST\", \"cani\", \"gatti\", \"scoiattoli\", \"alci\"], \"2\": [\"LIST\", \"Cani\", \"Gatti\", \"Scoiattoli\"]}, \"globals\": {\"animali\": [\"REF\", 1], \"animale\": \"scoiattoli\", \"nuova_lista\": [\"REF\", 2]}}, {\"func_name\": \"<module>\", \"stack_to_render\": [], \"line\": 7, \"event\": \"step_line\", \"stdout\": \"\", \"ordered_globals\": [\"animali\", \"nuova_lista\", \"animale\"], \"heap\": {\"1\": [\"LIST\", \"cani\", \"gatti\", \"scoiattoli\", \"alci\"], \"2\": [\"LIST\", \"Cani\", \"Gatti\", \"Scoiattoli\"]}, \"globals\": {\"animali\": [\"REF\", 1], \"animale\": \"alci\", \"nuova_lista\": [\"REF\", 2]}}, {\"func_name\": \"<module>\", \"stack_to_render\": [], \"line\": 6, \"event\": \"step_line\", \"stdout\": \"\", \"ordered_globals\": [\"animali\", \"nuova_lista\", \"animale\"], \"heap\": {\"1\": [\"LIST\", \"cani\", \"gatti\", \"scoiattoli\", \"alci\"], \"2\": [\"LIST\", \"Cani\", \"Gatti\", \"Scoiattoli\", \"Alci\"]}, \"globals\": {\"animali\": [\"REF\", 1], \"animale\": \"alci\", \"nuova_lista\": [\"REF\", 2]}}, {\"func_name\": \"<module>\", \"stack_to_render\": [], \"line\": 8, \"event\": \"step_line\", \"stdout\": \"\", \"ordered_globals\": [\"animali\", \"nuova_lista\", \"animale\"], \"heap\": {\"1\": [\"LIST\", \"cani\", \"gatti\", \"scoiattoli\", \"alci\"], \"2\": [\"LIST\", \"Cani\", \"Gatti\", \"Scoiattoli\", \"Alci\"]}, \"globals\": {\"animali\": [\"REF\", 1], \"animale\": \"alci\", \"nuova_lista\": [\"REF\", 2]}}, {\"func_name\": \"<module>\", \"stack_to_render\": [], \"line\": 8, \"event\": \"return\", \"stdout\": \"\", \"ordered_globals\": [\"animali\", \"nuova_lista\", \"animale\"], \"heap\": {\"1\": [\"LIST\", \"cani\", \"gatti\", \"scoiattoli\", \"alci\"], \"2\": [\"LIST\", \"Cani\", \"Gatti\", \"Scoiattoli\", \"Alci\"]}, \"globals\": {\"animali\": [\"REF\", 1], \"animale\": \"alci\", \"nuova_lista\": [\"REF\", 2]}}], \"code\": \" \\nanimali = ['cani', 'gatti', 'scoiattoli', 'alci']\\n\\n\\nnuova_lista = []\\nfor animale in animali:  # ad ogni ciclo la variabile 'animale' contiene un nome preso dalla lista 'animali'\\n    nuova_lista.append(animale.capitalize())   # aggiungiamo alla nuova lista il nome dell'animale corrente, con la prima lettera maiuscola \\nnuova_lista \\n\\n#vediamo che succede con Python tutor\"}\n",
       "        </script>\n",
       "        <div id=\"jma5a1a26a-d2da-453b-93df-a0aab52b644e\" class=\"pytutorVisualizer\"> </div>\n",
       " \n",
       "        <style>\n",
       "        .vizLayoutTd {\n",
       "            background-color: #fff !important;\n",
       "        }\n",
       "\n",
       "        #pyStdout {            \n",
       "            min-height:25px;\n",
       "        }\n",
       "\n",
       "        /* 'Edit this code' link, hiding because replaces browser tab !!!*/\n",
       "        #editCodeLinkDiv {\n",
       "            display:none;  \n",
       "        }\n",
       "        </style>   \n",
       "                            \n",
       "        <script>\n",
       "        (function(){\n",
       "\n",
       "            var trace = JSON.parse(document.getElementById('json-jma5a1a26a-d2da-453b-93df-a0aab52b644e').innerHTML);                                        \n",
       "            // NOTE 1: id without #\n",
       "            // NOTE 2 - maybe there are more predictable ways, but this will work anyway\n",
       "            //        - id should be number\n",
       "            visualizerIdOverride = Math.trunc(Math.random() * 100000000000)\n",
       "            addVisualizerToPage(trace, 'jma5a1a26a-d2da-453b-93df-a0aab52b644e',{'embeddedMode' : false,\n",
       "                                             'visualizerIdOverride':visualizerIdOverride})  \n",
       "            \n",
       "            \n",
       "            // set overflow for pytuts - need to do in python as css \n",
       "            // does not allow parent selection\n",
       "            var pytuts = $('.pytutorVisualizer')\n",
       "            pytuts.closest('div.output_html.rendered_html.output_result')\n",
       "                    .css('overflow-x', 'visible')\n",
       "        \n",
       "            //pytuts.closest('div.output_html.rendered_html.output_result')\n",
       "            //      .css('background-color','red')                \n",
       "            \n",
       "        })()\n",
       "        </script>\n",
       "                \n",
       "                "
      ],
      "text/plain": [
       "<IPython.core.display.HTML object>"
      ]
     },
     "execution_count": 113,
     "metadata": {},
     "output_type": "execute_result"
    }
   ],
   "source": [
    "animali = ['cani', 'gatti', 'scoiattoli', 'alci']\n",
    "\n",
    "\n",
    "nuova_lista = []\n",
    "for animale in animali:  # ad ogni ciclo la variabile 'animale' contiene un nome preso dalla lista 'animali'\n",
    "    nuova_lista.append(animale.capitalize())   # aggiungiamo alla nuova lista il nome dell'animale corrente, con la prima lettera maiuscola \n",
    "nuova_lista \n",
    "\n",
    "#vediamo che succede con Python tutor\n",
    "jupman.pytut()  "
   ]
  },
  {
   "cell_type": "markdown",
   "metadata": {
    "colab_type": "text",
    "id": "6vRDoWxidjgX"
   },
   "source": [
    "Nota importante: i metodi sulle stringhe non modificano mai la stringa originale, ma ne generano sempre una nuova. Quindi la lista originale `animali` conterrà ancora le stringhe originale senza modifiche:"
   ]
  },
  {
   "cell_type": "code",
   "execution_count": 114,
   "metadata": {
    "colab": {
     "autoexec": {
      "startup": false,
      "wait_interval": 0
     },
     "base_uri": "https://localhost:8080/",
     "height": 34,
     "output_extras": [
      {
       "item_id": 1
      }
     ]
    },
    "colab_type": "code",
    "executionInfo": {
     "elapsed": 560,
     "status": "ok",
     "timestamp": 1519034975589,
     "user": {
      "displayName": "David Leoni",
      "photoUrl": "https://lh3.googleusercontent.com/a/default-user=s128",
      "userId": "102920557909426557439"
     },
     "user_tz": -60
    },
    "id": "vC58tUlqdxgf",
    "outputId": "6d32c5bc-782d-4d95-9755-2eab9ee93c05"
   },
   "outputs": [
    {
     "data": {
      "text/plain": [
       "['cani', 'gatti', 'scoiattoli', 'alci']"
      ]
     },
     "execution_count": 114,
     "metadata": {},
     "output_type": "execute_result"
    }
   ],
   "source": [
    "animali"
   ]
  },
  {
   "cell_type": "markdown",
   "metadata": {
    "colab_type": "text",
    "id": "45lFek_khbEX"
   },
   "source": [
    "**✪ ESERCIZIO**: Prova a scrivere qua sotto un ciclo `for` (senza usare il copia e incolla!) che scorre la lista dei nomi degli animali e crea un'altra lista che chiameremo `m` in cui tutti i caratteri dei nomi degli animali sono in maiuscolo (usa il metodo `.upper()`)"
   ]
  },
  {
   "cell_type": "raw",
   "id": "f46f569a",
   "metadata": {
    "format": "text/html"
   },
   "source": [
    "<a  class=\"jupman-sol jupman-sol-toggler\" \n",
    " onclick=\"jupman.toggleSolution(this);\" \n",
    " data-jupman-show=\"Mostra soluzione\" data-jupman-hide=\"Nascondi\">Mostra soluzione</a><div class=\"jupman-sol jupman-sol-code\" style=\"display:none\">  "
   ]
  },
  {
   "cell_type": "code",
   "execution_count": 115,
   "metadata": {
    "colab": {
     "autoexec": {
      "startup": false,
      "wait_interval": 0
     }
    },
    "colab_type": "code",
    "id": "3W5QjOZ6G_D-"
   },
   "outputs": [
    {
     "data": {
      "text/plain": [
       "['CANI', 'GATTI', 'SCOIATTOLI', 'ALCI']"
      ]
     },
     "execution_count": 115,
     "metadata": {},
     "output_type": "execute_result"
    }
   ],
   "source": [
    "animali = ['cani', 'gatti', 'scoiattoli', 'alci']\n",
    "\n",
    "# scrivi qui\n",
    "\n",
    "animali = ['cani', 'gatti', 'scoiattoli', 'alci']\n",
    "# Scrivi qua\n",
    "m = []\n",
    "for animale in animali:  # ad ogni ciclo la variabile 'animale' contiene un nome preso dalla lista 'animali'\n",
    "    m.append(animale.upper())   # aggiungiamo alla nuova lista il nome dell'animale corrente, con la prima lettera maiuscola \n",
    "m \n",
    "\n"
   ]
  },
  {
   "cell_type": "raw",
   "id": "1fe8acfe",
   "metadata": {
    "format": "text/html"
   },
   "source": [
    "</div>"
   ]
  },
  {
   "cell_type": "code",
   "execution_count": 115,
   "metadata": {
    "colab": {
     "autoexec": {
      "startup": false,
      "wait_interval": 0
     }
    },
    "colab_type": "code",
    "id": "3W5QjOZ6G_D-"
   },
   "outputs": [
    {
     "data": {
      "text/plain": [
       "['CANI', 'GATTI', 'SCOIATTOLI', 'ALCI']"
      ]
     },
     "execution_count": 115,
     "metadata": {},
     "output_type": "execute_result"
    }
   ],
   "source": [
    "animali = ['cani', 'gatti', 'scoiattoli', 'alci']\n",
    "\n",
    "# scrivi qui\n",
    "\n"
   ]
  },
  {
   "cell_type": "markdown",
   "metadata": {
    "colab_type": "text",
    "id": "BbNGWT5PeX_x"
   },
   "source": [
    "### Trasformazioni con le _list comprehension_\n",
    "\n",
    "**Riferimenti**: [SoftPython - Sequenze](https://it.softpython.org/sequences/sequences-sol.html#List-comprehensions)\n",
    "\n",
    "La stessa identica trasformazione di sopra si potrebbe attuare con una cosiddetta _list comprehension_,  che servono per generare nuove liste eseguendo la stessa operazione su tutti gli elementi di una lista esistente di partenza. Come sintassi imitano le liste, infatti iniziano e finiscono con le parentesi quadre, ma dentro contengono un for speciale per ciclare dentro un sequenza :\n"
   ]
  },
  {
   "cell_type": "code",
   "execution_count": 116,
   "metadata": {
    "colab": {
     "autoexec": {
      "startup": false,
      "wait_interval": 0
     }
    },
    "colab_type": "code",
    "id": "I7fl60rudyTU"
   },
   "outputs": [],
   "source": [
    "animali = ['cani', 'gatti', 'scoiattoli', 'alci']\n",
    "\n",
    "nuova_lista = [animale.capitalize() for animale in animali]"
   ]
  },
  {
   "cell_type": "code",
   "execution_count": 117,
   "metadata": {
    "colab": {
     "autoexec": {
      "startup": false,
      "wait_interval": 0
     },
     "base_uri": "https://localhost:8080/",
     "height": 34,
     "output_extras": [
      {
       "item_id": 1
      }
     ]
    },
    "colab_type": "code",
    "executionInfo": {
     "elapsed": 483,
     "status": "ok",
     "timestamp": 1519033974548,
     "user": {
      "displayName": "David Leoni",
      "photoUrl": "https://lh3.googleusercontent.com/a/default-user=s128",
      "userId": "102920557909426557439"
     },
     "user_tz": -60
    },
    "id": "fSywtAYFdgyY",
    "outputId": "f9131bc7-11a0-4cb8-f708-5d101e51d6b1"
   },
   "outputs": [
    {
     "data": {
      "text/plain": [
       "['Cani', 'Gatti', 'Scoiattoli', 'Alci']"
      ]
     },
     "execution_count": 117,
     "metadata": {},
     "output_type": "execute_result"
    }
   ],
   "source": [
    "nuova_lista"
   ]
  },
  {
   "cell_type": "markdown",
   "metadata": {},
   "source": [
    "Vediamo che succede con Python tutor: "
   ]
  },
  {
   "cell_type": "code",
   "execution_count": 118,
   "metadata": {},
   "outputs": [
    {
     "data": {
      "text/html": [
       "\n",
       "        <script src=\"../_static/js/pytutor-embed.bundle.min.js\" type=\"application/javascript\"></script>\n",
       "     \n",
       "        <script id=\"json-jm016501b8-6613-46c6-b97e-5e4de81bb091\" type=\"application/json\" >\n",
       "            {\"trace\": [{\"func_name\": \"<module>\", \"stack_to_render\": [], \"line\": 2, \"event\": \"step_line\", \"stdout\": \"\", \"ordered_globals\": [], \"heap\": {}, \"globals\": {}}, {\"func_name\": \"<module>\", \"stack_to_render\": [], \"line\": 4, \"event\": \"step_line\", \"stdout\": \"\", \"ordered_globals\": [\"animali\"], \"heap\": {\"1\": [\"LIST\", \"cani\", \"gatti\", \"scoiattoli\", \"alci\"]}, \"globals\": {\"animali\": [\"REF\", 1]}}, {\"func_name\": \"<listcomp>\", \"stack_to_render\": [{\"frame_id\": 1, \"encoded_locals\": {\".0\": [\"REF\", 2]}, \"is_zombie\": false, \"ordered_varnames\": [\".0\"], \"func_name\": \"<listcomp>\", \"unique_hash\": \"<listcomp>_f1\", \"is_parent\": false, \"is_highlighted\": true, \"parent_frame_id_list\": []}], \"line\": 4, \"event\": \"call\", \"stdout\": \"\", \"ordered_globals\": [\"animali\"], \"heap\": {\"1\": [\"LIST\", \"cani\", \"gatti\", \"scoiattoli\", \"alci\"], \"2\": [\"INSTANCE\", \"list_iterator\"]}, \"globals\": {\"animali\": [\"REF\", 1]}}, {\"func_name\": \"<listcomp>\", \"stack_to_render\": [{\"frame_id\": 1, \"encoded_locals\": {\".0\": [\"REF\", 2]}, \"is_zombie\": false, \"ordered_varnames\": [\".0\"], \"func_name\": \"<listcomp>\", \"unique_hash\": \"<listcomp>_f1\", \"is_parent\": false, \"is_highlighted\": true, \"parent_frame_id_list\": []}], \"line\": 4, \"event\": \"step_line\", \"stdout\": \"\", \"ordered_globals\": [\"animali\"], \"heap\": {\"1\": [\"LIST\", \"cani\", \"gatti\", \"scoiattoli\", \"alci\"], \"2\": [\"INSTANCE\", \"list_iterator\"]}, \"globals\": {\"animali\": [\"REF\", 1]}}, {\"func_name\": \"<listcomp>\", \"stack_to_render\": [{\"frame_id\": 1, \"encoded_locals\": {\"animale\": \"cani\", \".0\": [\"REF\", 2]}, \"is_zombie\": false, \"ordered_varnames\": [\".0\", \"animale\"], \"func_name\": \"<listcomp>\", \"unique_hash\": \"<listcomp>_f1\", \"is_parent\": false, \"is_highlighted\": true, \"parent_frame_id_list\": []}], \"line\": 4, \"event\": \"step_line\", \"stdout\": \"\", \"ordered_globals\": [\"animali\"], \"heap\": {\"1\": [\"LIST\", \"cani\", \"gatti\", \"scoiattoli\", \"alci\"], \"2\": [\"INSTANCE\", \"list_iterator\"]}, \"globals\": {\"animali\": [\"REF\", 1]}}, {\"func_name\": \"<listcomp>\", \"stack_to_render\": [{\"frame_id\": 1, \"encoded_locals\": {\"animale\": \"gatti\", \".0\": [\"REF\", 2]}, \"is_zombie\": false, \"ordered_varnames\": [\".0\", \"animale\"], \"func_name\": \"<listcomp>\", \"unique_hash\": \"<listcomp>_f1\", \"is_parent\": false, \"is_highlighted\": true, \"parent_frame_id_list\": []}], \"line\": 4, \"event\": \"step_line\", \"stdout\": \"\", \"ordered_globals\": [\"animali\"], \"heap\": {\"1\": [\"LIST\", \"cani\", \"gatti\", \"scoiattoli\", \"alci\"], \"2\": [\"INSTANCE\", \"list_iterator\"]}, \"globals\": {\"animali\": [\"REF\", 1]}}, {\"func_name\": \"<listcomp>\", \"stack_to_render\": [{\"frame_id\": 1, \"encoded_locals\": {\"animale\": \"scoiattoli\", \".0\": [\"REF\", 2]}, \"is_zombie\": false, \"ordered_varnames\": [\".0\", \"animale\"], \"func_name\": \"<listcomp>\", \"unique_hash\": \"<listcomp>_f1\", \"is_parent\": false, \"is_highlighted\": true, \"parent_frame_id_list\": []}], \"line\": 4, \"event\": \"step_line\", \"stdout\": \"\", \"ordered_globals\": [\"animali\"], \"heap\": {\"1\": [\"LIST\", \"cani\", \"gatti\", \"scoiattoli\", \"alci\"], \"2\": [\"INSTANCE\", \"list_iterator\"]}, \"globals\": {\"animali\": [\"REF\", 1]}}, {\"func_name\": \"<listcomp>\", \"stack_to_render\": [{\"frame_id\": 1, \"encoded_locals\": {\"animale\": \"alci\", \".0\": [\"REF\", 2]}, \"is_zombie\": false, \"ordered_varnames\": [\".0\", \"animale\"], \"func_name\": \"<listcomp>\", \"unique_hash\": \"<listcomp>_f1\", \"is_parent\": false, \"is_highlighted\": true, \"parent_frame_id_list\": []}], \"line\": 4, \"event\": \"step_line\", \"stdout\": \"\", \"ordered_globals\": [\"animali\"], \"heap\": {\"1\": [\"LIST\", \"cani\", \"gatti\", \"scoiattoli\", \"alci\"], \"2\": [\"INSTANCE\", \"list_iterator\"]}, \"globals\": {\"animali\": [\"REF\", 1]}}, {\"func_name\": \"<listcomp>\", \"stack_to_render\": [{\"frame_id\": 1, \"encoded_locals\": {\"__return__\": [\"REF\", 3], \"animale\": \"alci\", \".0\": [\"REF\", 2]}, \"is_zombie\": false, \"ordered_varnames\": [\".0\", \"animale\", \"__return__\"], \"func_name\": \"<listcomp>\", \"unique_hash\": \"<listcomp>_f1\", \"is_parent\": false, \"is_highlighted\": true, \"parent_frame_id_list\": []}], \"line\": 4, \"event\": \"return\", \"stdout\": \"\", \"ordered_globals\": [\"animali\"], \"heap\": {\"1\": [\"LIST\", \"cani\", \"gatti\", \"scoiattoli\", \"alci\"], \"2\": [\"INSTANCE\", \"list_iterator\"], \"3\": [\"LIST\", \"Cani\", \"Gatti\", \"Scoiattoli\", \"Alci\"]}, \"globals\": {\"animali\": [\"REF\", 1]}}, {\"func_name\": \"<module>\", \"stack_to_render\": [], \"line\": 4, \"event\": \"return\", \"stdout\": \"\", \"ordered_globals\": [\"animali\", \"nuova_lista\"], \"heap\": {\"1\": [\"LIST\", \"cani\", \"gatti\", \"scoiattoli\", \"alci\"], \"3\": [\"LIST\", \"Cani\", \"Gatti\", \"Scoiattoli\", \"Alci\"]}, \"globals\": {\"animali\": [\"REF\", 1], \"nuova_lista\": [\"REF\", 3]}}], \"code\": \" \\nanimali = ['cani', 'gatti', 'scoiattoli', 'alci']\\n\\nnuova_lista = [animale.capitalize() for animale in animali]\"}\n",
       "        </script>\n",
       "        <div id=\"jm016501b8-6613-46c6-b97e-5e4de81bb091\" class=\"pytutorVisualizer\"> </div>\n",
       " \n",
       "        <style>\n",
       "        .vizLayoutTd {\n",
       "            background-color: #fff !important;\n",
       "        }\n",
       "\n",
       "        #pyStdout {            \n",
       "            min-height:25px;\n",
       "        }\n",
       "\n",
       "        /* 'Edit this code' link, hiding because replaces browser tab !!!*/\n",
       "        #editCodeLinkDiv {\n",
       "            display:none;  \n",
       "        }\n",
       "        </style>   \n",
       "                            \n",
       "        <script>\n",
       "        (function(){\n",
       "\n",
       "            var trace = JSON.parse(document.getElementById('json-jm016501b8-6613-46c6-b97e-5e4de81bb091').innerHTML);                                        \n",
       "            // NOTE 1: id without #\n",
       "            // NOTE 2 - maybe there are more predictable ways, but this will work anyway\n",
       "            //        - id should be number\n",
       "            visualizerIdOverride = Math.trunc(Math.random() * 100000000000)\n",
       "            addVisualizerToPage(trace, 'jm016501b8-6613-46c6-b97e-5e4de81bb091',{'embeddedMode' : false,\n",
       "                                             'visualizerIdOverride':visualizerIdOverride})  \n",
       "            \n",
       "            \n",
       "            // set overflow for pytuts - need to do in python as css \n",
       "            // does not allow parent selection\n",
       "            var pytuts = $('.pytutorVisualizer')\n",
       "            pytuts.closest('div.output_html.rendered_html.output_result')\n",
       "                    .css('overflow-x', 'visible')\n",
       "        \n",
       "            //pytuts.closest('div.output_html.rendered_html.output_result')\n",
       "            //      .css('background-color','red')                \n",
       "            \n",
       "        })()\n",
       "        </script>\n",
       "                \n",
       "                "
      ],
      "text/plain": [
       "<IPython.core.display.HTML object>"
      ]
     },
     "execution_count": 118,
     "metadata": {},
     "output_type": "execute_result"
    }
   ],
   "source": [
    "animali = ['cani', 'gatti', 'scoiattoli', 'alci']\n",
    "\n",
    "nuova_lista = [animale.capitalize() for animale in animali]\n",
    "\n",
    "jupman.pytut()"
   ]
  },
  {
   "cell_type": "markdown",
   "metadata": {
    "colab_type": "text",
    "id": "G1isjIcitppx"
   },
   "source": [
    "**✪ ESERCIZIO**: Prova qua sotto ad usare una list comprehension per mettere tutti i caratteri in maiuscolo"
   ]
  },
  {
   "cell_type": "raw",
   "id": "d3cc084b",
   "metadata": {
    "format": "text/html"
   },
   "source": [
    "<a  class=\"jupman-sol jupman-sol-toggler\" \n",
    " onclick=\"jupman.toggleSolution(this);\" \n",
    " data-jupman-show=\"Mostra soluzione\" data-jupman-hide=\"Nascondi\">Mostra soluzione</a><div class=\"jupman-sol jupman-sol-code\" style=\"display:none\">  "
   ]
  },
  {
   "cell_type": "code",
   "execution_count": 119,
   "metadata": {
    "colab": {
     "autoexec": {
      "startup": false,
      "wait_interval": 0
     }
    },
    "colab_type": "code",
    "id": "eoNE416HdIEf"
   },
   "outputs": [],
   "source": [
    "animali = ['cani', 'gatti', 'scoiattoli', 'alci']\n",
    "# scrivi qui\n",
    "\n",
    "\n",
    "animali = ['cani', 'gatti', 'scoiattoli', 'alci']\n",
    "\n",
    "nuova_lista = [animale.upper() for animale in animali]\n",
    "\n",
    "\n"
   ]
  },
  {
   "cell_type": "raw",
   "id": "6c96aa59",
   "metadata": {
    "format": "text/html"
   },
   "source": [
    "</div>"
   ]
  },
  {
   "cell_type": "code",
   "execution_count": 119,
   "metadata": {
    "colab": {
     "autoexec": {
      "startup": false,
      "wait_interval": 0
     }
    },
    "colab_type": "code",
    "id": "eoNE416HdIEf"
   },
   "outputs": [],
   "source": [
    "animali = ['cani', 'gatti', 'scoiattoli', 'alci']\n",
    "# scrivi qui\n",
    "\n"
   ]
  },
  {
   "cell_type": "markdown",
   "metadata": {
    "colab_type": "text",
    "id": "wJkXW0NulL8I"
   },
   "source": [
    "**Filtrare con le comprehension**: Volendo, possiamo anche filtrare i dati usando un `if` speciale da mettere alla fine della comprehension. Per esempio potremmo selezionare solo gli animali la cui lunghezza del nome è di 4 caratteri:\n",
    "\n"
   ]
  },
  {
   "cell_type": "code",
   "execution_count": 120,
   "metadata": {
    "colab": {
     "autoexec": {
      "startup": false,
      "wait_interval": 0
     },
     "base_uri": "https://localhost:8080/",
     "height": 34,
     "output_extras": [
      {
       "item_id": 1
      }
     ]
    },
    "colab_type": "code",
    "executionInfo": {
     "elapsed": 562,
     "status": "ok",
     "timestamp": 1519052514136,
     "user": {
      "displayName": "David Leoni",
      "photoUrl": "https://lh3.googleusercontent.com/a/default-user=s128",
      "userId": "102920557909426557439"
     },
     "user_tz": -60
    },
    "id": "3j3N8Z16lKDW",
    "outputId": "ee544608-9e3a-4918-f6a3-716081ad8b8a"
   },
   "outputs": [
    {
     "data": {
      "text/plain": [
       "['CANI', 'ALCI']"
      ]
     },
     "execution_count": 120,
     "metadata": {},
     "output_type": "execute_result"
    }
   ],
   "source": [
    "[animale.upper() for animale in animali if len(animale) == 4]"
   ]
  },
  {
   "cell_type": "markdown",
   "metadata": {
    "colab_type": "text",
    "id": "VnneWysUHt02"
   },
   "source": [
    "### Trasformazioni con le map\n",
    "\n",
    "Un'altro modo ancora per trasformare una lista in una nuova è usare l'operazione `map`, che a partire da una lista, ne genera un'altra applicando ad ogni elemento della lista di partenza una funzione `f` che passiamo come parametro. Per risolvere lo stesso esercizio precedente, si potrebbe per esempio creare al volo con `lambda` una funzione `f` che mette la prima lettera di una stringa in maiuscolo, e poi si potrebbe chiamare la `map` passando la `f` appena creata:"
   ]
  },
  {
   "cell_type": "code",
   "execution_count": 121,
   "metadata": {
    "colab": {
     "autoexec": {
      "startup": false,
      "wait_interval": 0
     },
     "base_uri": "https://localhost:8080/",
     "height": 34,
     "output_extras": [
      {
       "item_id": 1
      }
     ]
    },
    "colab_type": "code",
    "executionInfo": {
     "elapsed": 478,
     "status": "ok",
     "timestamp": 1519047521588,
     "user": {
      "displayName": "David Leoni",
      "photoUrl": "https://lh3.googleusercontent.com/a/default-user=s128",
      "userId": "102920557909426557439"
     },
     "user_tz": -60
    },
    "id": "b_0fe_rQHct3",
    "outputId": "e9797827-6f8b-4d18-a067-571aa70a265b"
   },
   "outputs": [
    {
     "data": {
      "text/plain": [
       "<map at 0x7fac244d7358>"
      ]
     },
     "execution_count": 121,
     "metadata": {},
     "output_type": "execute_result"
    }
   ],
   "source": [
    "animali = ['cani', 'gatti', 'scoiattoli', 'alci']\n",
    "\n",
    "\n",
    "f = lambda animale: animale.capitalize()\n",
    "\n",
    "map(f, animali)"
   ]
  },
  {
   "cell_type": "markdown",
   "metadata": {
    "colab_type": "text",
    "id": "N0EHix0jSjRL"
   },
   "source": [
    "Purtroppo il risultato non è esattamente la lista che volevamo. Il problema è che Python 3 aspetta a ritornarci una lista vera e propria, e invece ci ritorna un _iteratore_. Come mai? Python 3 per ragioni di efficienza spera che non non andremo mai ad usare nessun elemento della nuova lista, evitandogli di fatto la fatica di applicare la funzione a tutti gli elementi della lista originale. Ma noi possiamo forzarlo a darci la lista che vogliamo usando la funzione `list`: "
   ]
  },
  {
   "cell_type": "code",
   "execution_count": 122,
   "metadata": {
    "colab": {
     "autoexec": {
      "startup": false,
      "wait_interval": 0
     },
     "base_uri": "https://localhost:8080/",
     "height": 34,
     "output_extras": [
      {
       "item_id": 1
      }
     ]
    },
    "colab_type": "code",
    "executionInfo": {
     "elapsed": 484,
     "status": "ok",
     "timestamp": 1519047866872,
     "user": {
      "displayName": "David Leoni",
      "photoUrl": "https://lh3.googleusercontent.com/a/default-user=s128",
      "userId": "102920557909426557439"
     },
     "user_tz": -60
    },
    "id": "BDT49G82TJMH",
    "outputId": "a095d6f0-9a99-4765-9bc1-f5e74515e4cb"
   },
   "outputs": [
    {
     "data": {
      "text/plain": [
       "['Cani', 'Gatti', 'Scoiattoli', 'Alci']"
      ]
     },
     "execution_count": 122,
     "metadata": {},
     "output_type": "execute_result"
    }
   ],
   "source": [
    "animali = ['cani', 'gatti', 'scoiattoli', 'alci']\n",
    "\n",
    "f = lambda animale: animale.capitalize()\n",
    "\n",
    "list(map(f, animali))"
   ]
  },
  {
   "cell_type": "markdown",
   "metadata": {
    "colab_type": "text",
    "id": "dh3LFNNqTyuK"
   },
   "source": [
    "Per avere un esempio totalmente equivalente ai precedenti, possimao assegnare il risultato a `nuova_lista`: "
   ]
  },
  {
   "cell_type": "code",
   "execution_count": 123,
   "metadata": {
    "colab": {
     "autoexec": {
      "startup": false,
      "wait_interval": 0
     }
    },
    "colab_type": "code",
    "id": "JM96quneT9lV"
   },
   "outputs": [],
   "source": [
    "animali = ['cani', 'gatti', 'scoiattoli', 'alci']\n",
    "\n",
    "f = lambda animale: animale.capitalize()\n",
    "\n",
    "nuova_lista = list(map(f, animali))"
   ]
  },
  {
   "cell_type": "code",
   "execution_count": 124,
   "metadata": {
    "colab": {
     "autoexec": {
      "startup": false,
      "wait_interval": 0
     },
     "base_uri": "https://localhost:8080/",
     "height": 34,
     "output_extras": [
      {
       "item_id": 1
      }
     ]
    },
    "colab_type": "code",
    "executionInfo": {
     "elapsed": 601,
     "status": "ok",
     "timestamp": 1519048055236,
     "user": {
      "displayName": "David Leoni",
      "photoUrl": "https://lh3.googleusercontent.com/a/default-user=s128",
      "userId": "102920557909426557439"
     },
     "user_tz": -60
    },
    "id": "xI7TtsFmSbFg",
    "outputId": "eb2dda9f-0855-4347-a83d-5afce1a1390d"
   },
   "outputs": [
    {
     "data": {
      "text/plain": [
       "['Cani', 'Gatti', 'Scoiattoli', 'Alci']"
      ]
     },
     "execution_count": 124,
     "metadata": {},
     "output_type": "execute_result"
    }
   ],
   "source": [
    "nuova_lista"
   ]
  },
  {
   "cell_type": "markdown",
   "metadata": {
    "colab_type": "text",
    "id": "DkdrP-hVUsNf"
   },
   "source": [
    "Un vero hacker Python probabilmente preferirà scrivere tutto in una sola linea, così: \n",
    "  "
   ]
  },
  {
   "cell_type": "code",
   "execution_count": 125,
   "metadata": {
    "colab": {
     "autoexec": {
      "startup": false,
      "wait_interval": 0
     }
    },
    "colab_type": "code",
    "id": "u-HHQz8BUjE6"
   },
   "outputs": [],
   "source": [
    "animali = ['cani', 'gatti', 'scoiattoli', 'alci']\n",
    "\n",
    "nuova_lista = list(map(lambda animale: animale.capitalize(), animali))"
   ]
  },
  {
   "cell_type": "code",
   "execution_count": 126,
   "metadata": {
    "colab": {
     "autoexec": {
      "startup": false,
      "wait_interval": 0
     },
     "base_uri": "https://localhost:8080/",
     "height": 34,
     "output_extras": [
      {
       "item_id": 1
      }
     ]
    },
    "colab_type": "code",
    "executionInfo": {
     "elapsed": 409,
     "status": "ok",
     "timestamp": 1519048159745,
     "user": {
      "displayName": "David Leoni",
      "photoUrl": "https://lh3.googleusercontent.com/a/default-user=s128",
      "userId": "102920557909426557439"
     },
     "user_tz": -60
    },
    "id": "fnNMSHV2U2QC",
    "outputId": "045c8d0b-ff7e-4a39-fde7-f8202b17e6ef"
   },
   "outputs": [
    {
     "data": {
      "text/plain": [
       "['Cani', 'Gatti', 'Scoiattoli', 'Alci']"
      ]
     },
     "execution_count": 126,
     "metadata": {},
     "output_type": "execute_result"
    }
   ],
   "source": [
    "nuova_lista"
   ]
  },
  {
   "cell_type": "markdown",
   "metadata": {
    "colab_type": "text",
    "id": "t6vIHoNwUaC5"
   },
   "source": [
    "**✪ ESERCIZIO**: la lista originale `animali` è cambiata? Controlla."
   ]
  },
  {
   "cell_type": "markdown",
   "metadata": {
    "colab_type": "text",
    "id": "7lmjhzyxU_-p"
   },
   "source": [
    "**✪ ESERCIZIO**: Data una lista di numeri `numeri = [3, 5, 2, 7]` prova a scrivere una `map` che genera una nuova lista con i numeri raddoppiati, come `[6, 10, 4, 14]`:  "
   ]
  },
  {
   "cell_type": "raw",
   "id": "ac8beee8",
   "metadata": {
    "format": "text/html"
   },
   "source": [
    "<a  class=\"jupman-sol jupman-sol-toggler\" \n",
    " onclick=\"jupman.toggleSolution(this);\" \n",
    " data-jupman-show=\"Mostra soluzione\" data-jupman-hide=\"Nascondi\">Mostra soluzione</a><div class=\"jupman-sol jupman-sol-code\" style=\"display:none\">  "
   ]
  },
  {
   "cell_type": "code",
   "execution_count": 127,
   "metadata": {
    "colab": {
     "autoexec": {
      "startup": false,
      "wait_interval": 0
     }
    },
    "colab_type": "code",
    "id": "4tf9IOLKVhUQ"
   },
   "outputs": [
    {
     "data": {
      "text/plain": [
       "[6, 10, 4, 14]"
      ]
     },
     "execution_count": 127,
     "metadata": {},
     "output_type": "execute_result"
    }
   ],
   "source": [
    "numeri = [3, 5, 2, 7]\n",
    "\n",
    "# scrivi qui\n",
    "\n",
    "numeri = [3,5,2,7]\n",
    "\n",
    "list(map(lambda x: x * 2, numeri))"
   ]
  },
  {
   "cell_type": "raw",
   "id": "77151b16",
   "metadata": {
    "format": "text/html"
   },
   "source": [
    "</div>"
   ]
  },
  {
   "cell_type": "code",
   "execution_count": 127,
   "metadata": {
    "colab": {
     "autoexec": {
      "startup": false,
      "wait_interval": 0
     }
    },
    "colab_type": "code",
    "id": "4tf9IOLKVhUQ"
   },
   "outputs": [
    {
     "data": {
      "text/plain": [
       "[6, 10, 4, 14]"
      ]
     },
     "execution_count": 127,
     "metadata": {},
     "output_type": "execute_result"
    }
   ],
   "source": [
    "numeri = [3, 5, 2, 7]\n",
    "\n",
    "# scrivi qui\n",
    "\n"
   ]
  },
  {
   "cell_type": "markdown",
   "metadata": {
    "colab_type": "text",
    "id": "BCmNz8C6AFZY"
   },
   "source": [
    "## Matrici\n",
    "\n",
    "Finita la presentazione, è ora di sforzarsi un po' di più. Vediamo brevemente matrici come liste di liste. Per approfondire, guardare i riferimenti.\n",
    "\n",
    "**Riferimenti**:\n",
    "\n",
    "- [SoftPython - matrici come liste di liste](https://it.softpython.org/matrices-lists/matrices-lists-sol.html)\n",
    "- [SoftPython - matrici numpy](https://it.softpython.org/matrices-numpy/matrices-numpy-sol.html)\n",
    "\n",
    "\n",
    "**✪✪ ESERCIZIO**: Date le due liste con nomi di animali e corrispondente aspettativa di vita in anni:\n",
    "\n",
    "```python\n",
    "animali = ['cane', 'gatto', 'pellicano', 'scoiattolo', 'aquila']\n",
    "anni = [12,14,30,6,25]\n",
    "```\n",
    "\n",
    "Scrivere nella cella sotto del codice che generi una lista di liste da due elementi, così:\n",
    "\n",
    "`[\n",
    "  ['cane', 12], \n",
    "  ['gatto', 14], \n",
    "  ['pellicano', 30], \n",
    "  ['scoiattolo', 6], \n",
    "  ['aquila', 25]\n",
    "]`"
   ]
  },
  {
   "cell_type": "raw",
   "id": "31665b02",
   "metadata": {
    "format": "text/html"
   },
   "source": [
    "<a  class=\"jupman-sol jupman-sol-toggler\" \n",
    " onclick=\"jupman.toggleSolution(this);\" \n",
    " data-jupman-show=\"Mostra soluzione\" data-jupman-hide=\"Nascondi\">Mostra soluzione</a><div class=\"jupman-sol jupman-sol-code\" style=\"display:none\">  "
   ]
  },
  {
   "cell_type": "code",
   "execution_count": 128,
   "metadata": {
    "colab": {
     "autoexec": {
      "startup": false,
      "wait_interval": 0
     }
    },
    "colab_type": "code",
    "id": "WSlJUPE5AFZY"
   },
   "outputs": [
    {
     "data": {
      "text/plain": [
       "[['cane', 12],\n",
       " ['gatto', 14],\n",
       " ['pellicano', 30],\n",
       " ['scoiattolo', 6],\n",
       " ['aquila', 25]]"
      ]
     },
     "execution_count": 128,
     "metadata": {},
     "output_type": "execute_result"
    }
   ],
   "source": [
    "animali = ['cane', 'gatto', 'pellicano', 'scoiattolo', 'aquila']\n",
    "anni = [12,14,30,6,25]\n",
    "\n",
    "# scrivi qui\n",
    "\n",
    "\n",
    "coppie = []\n",
    "for i in range(len(animali)):\n",
    "    coppie.append([animali[i], anni[i]])\n",
    "coppie\n"
   ]
  },
  {
   "cell_type": "raw",
   "id": "8139c7d8",
   "metadata": {
    "format": "text/html"
   },
   "source": [
    "</div>"
   ]
  },
  {
   "cell_type": "code",
   "execution_count": 128,
   "metadata": {
    "colab": {
     "autoexec": {
      "startup": false,
      "wait_interval": 0
     }
    },
    "colab_type": "code",
    "id": "WSlJUPE5AFZY"
   },
   "outputs": [
    {
     "data": {
      "text/plain": [
       "[['cane', 12],\n",
       " ['gatto', 14],\n",
       " ['pellicano', 30],\n",
       " ['scoiattolo', 6],\n",
       " ['aquila', 25]]"
      ]
     },
     "execution_count": 128,
     "metadata": {},
     "output_type": "execute_result"
    }
   ],
   "source": [
    "animali = ['cane', 'gatto', 'pellicano', 'scoiattolo', 'aquila']\n",
    "anni = [12,14,30,6,25]\n",
    "\n",
    "# scrivi qui\n",
    "\n"
   ]
  },
  {
   "cell_type": "markdown",
   "metadata": {
    "colab_type": "text",
    "id": "bd2Ap-uOAFZc"
   },
   "source": [
    "**✪✪ ESERCIZIO** modificare scrivendolo qua sotto il codice dell'esercizio precedente nella versione con il normale ciclo `for` per filtrare solo le specie con aspettativa di vita superiore ai 13 anni, così da ottenere questo risultato:\n",
    "\n",
    "```python\n",
    "[['gatto', 14], ['pellicano', 30], ['aquila', 25]]\n",
    "```"
   ]
  },
  {
   "cell_type": "raw",
   "id": "5fc20d14",
   "metadata": {
    "format": "text/html"
   },
   "source": [
    "<a  class=\"jupman-sol jupman-sol-toggler\" \n",
    " onclick=\"jupman.toggleSolution(this);\" \n",
    " data-jupman-show=\"Mostra soluzione\" data-jupman-hide=\"Nascondi\">Mostra soluzione</a><div class=\"jupman-sol jupman-sol-code\" style=\"display:none\">  "
   ]
  },
  {
   "cell_type": "code",
   "execution_count": 129,
   "metadata": {
    "colab": {
     "autoexec": {
      "startup": false,
      "wait_interval": 0
     }
    },
    "colab_type": "code",
    "id": "M4d3V2JjnocX"
   },
   "outputs": [
    {
     "data": {
      "text/plain": [
       "[['gatto', 14], ['pellicano', 30], ['aquila', 25]]"
      ]
     },
     "execution_count": 129,
     "metadata": {},
     "output_type": "execute_result"
    }
   ],
   "source": [
    "animali = ['cane', 'gatto', 'pellicano', 'scoiattolo', 'aquila']\n",
    "anni = [12,14,30,6,25]\n",
    "\n",
    "# scrivi qui\n",
    "\n",
    "animali = ['cane', 'gatto', 'pellicano', 'scoiattolo', 'aquila']\n",
    "anni = [12,14,30,6,25]\n",
    "\n",
    "coppie = []\n",
    "for i in range(len(animali)):\n",
    "    if anni[i] > 13:\n",
    "        coppie.append([animali[i], anni[i]])\n",
    "coppie\n"
   ]
  },
  {
   "cell_type": "raw",
   "id": "007306c1",
   "metadata": {
    "format": "text/html"
   },
   "source": [
    "</div>"
   ]
  },
  {
   "cell_type": "code",
   "execution_count": 129,
   "metadata": {
    "colab": {
     "autoexec": {
      "startup": false,
      "wait_interval": 0
     }
    },
    "colab_type": "code",
    "id": "M4d3V2JjnocX"
   },
   "outputs": [
    {
     "data": {
      "text/plain": [
       "[['gatto', 14], ['pellicano', 30], ['aquila', 25]]"
      ]
     },
     "execution_count": 129,
     "metadata": {},
     "output_type": "execute_result"
    }
   ],
   "source": [
    "animali = ['cane', 'gatto', 'pellicano', 'scoiattolo', 'aquila']\n",
    "anni = [12,14,30,6,25]\n",
    "\n",
    "# scrivi qui\n",
    "\n"
   ]
  },
  {
   "cell_type": "markdown",
   "metadata": {
    "colab_type": "text",
    "id": "LvVoUJ1mAFZg"
   },
   "source": [
    "**ESERCIZIO** Scrivi qua sotto del codice con un normale ciclo `for` filtri solo le specie con aspettativa di vita  superiore ai 10 anni e inferiore ai 27, così da ottenere questo risultato:\n",
    "\n",
    "```python\n",
    "[['cane', 12], ['gatto', 14], ['aquila', 25]]\n",
    "```\n",
    "\n",
    "**SUGGERIMENTO**: in Pyhton per imporre due condizioni in un if si usa la parola chiave **and**"
   ]
  },
  {
   "cell_type": "raw",
   "id": "ee05d37e",
   "metadata": {
    "format": "text/html"
   },
   "source": [
    "<a  class=\"jupman-sol jupman-sol-toggler\" \n",
    " onclick=\"jupman.toggleSolution(this);\" \n",
    " data-jupman-show=\"Mostra soluzione\" data-jupman-hide=\"Nascondi\">Mostra soluzione</a><div class=\"jupman-sol jupman-sol-code\" style=\"display:none\">  "
   ]
  },
  {
   "cell_type": "code",
   "execution_count": 130,
   "metadata": {
    "colab": {
     "autoexec": {
      "startup": false,
      "wait_interval": 0
     }
    },
    "colab_type": "code",
    "id": "ikN8wQ6oAFZg"
   },
   "outputs": [
    {
     "data": {
      "text/plain": [
       "[['cane', 12], ['gatto', 14], ['aquila', 25]]"
      ]
     },
     "execution_count": 130,
     "metadata": {},
     "output_type": "execute_result"
    }
   ],
   "source": [
    "animali = ['cane', 'gatto', 'pellicano', 'scoiattolo', 'aquila']\n",
    "anni = [12,14,30,6,25]\n",
    "\n",
    "# scrivi qui\n",
    "\n",
    "animali = ['cane', 'gatto', 'pellicano', 'scoiattolo', 'aquila']\n",
    "anni = [12,14,30,6,25]\n",
    "\n",
    "\n",
    "coppie = []\n",
    "for i in range(len(animali)):\n",
    "    if anni[i] > 10 and anni[i] < 27 :\n",
    "        coppie.append([animali[i], anni[i]])\n",
    "coppie"
   ]
  },
  {
   "cell_type": "raw",
   "id": "9b084357",
   "metadata": {
    "format": "text/html"
   },
   "source": [
    "</div>"
   ]
  },
  {
   "cell_type": "code",
   "execution_count": 130,
   "metadata": {
    "colab": {
     "autoexec": {
      "startup": false,
      "wait_interval": 0
     }
    },
    "colab_type": "code",
    "id": "ikN8wQ6oAFZg"
   },
   "outputs": [
    {
     "data": {
      "text/plain": [
       "[['cane', 12], ['gatto', 14], ['aquila', 25]]"
      ]
     },
     "execution_count": 130,
     "metadata": {},
     "output_type": "execute_result"
    }
   ],
   "source": [
    "animali = ['cane', 'gatto', 'pellicano', 'scoiattolo', 'aquila']\n",
    "anni = [12,14,30,6,25]\n",
    "\n",
    "# scrivi qui\n",
    "\n"
   ]
  },
  {
   "cell_type": "markdown",
   "metadata": {
    "colab_type": "text",
    "id": "itNZWFEYh4Oe"
   },
   "source": [
    "### Funzione zip\n",
    "\n",
    "La funzione `zip` prende due liste e ne restituisce una terza nuova, in cui mette coppie di elementi come tuple (che ricordiamo sono come le liste ma immutabilii), abbinando il primo elemento della prima lista a primo elemento della seconda lista, il secondo elemento della prima lista al secondo elemento della secondo e così via :\n"
   ]
  },
  {
   "cell_type": "code",
   "execution_count": 131,
   "metadata": {
    "colab": {
     "autoexec": {
      "startup": false,
      "wait_interval": 0
     },
     "base_uri": "https://localhost:8080/",
     "height": 34,
     "output_extras": [
      {
       "item_id": 1
      }
     ]
    },
    "colab_type": "code",
    "executionInfo": {
     "elapsed": 505,
     "status": "ok",
     "timestamp": 1519053345513,
     "user": {
      "displayName": "David Leoni",
      "photoUrl": "https://lh3.googleusercontent.com/a/default-user=s128",
      "userId": "102920557909426557439"
     },
     "user_tz": -60
    },
    "id": "FDHB64Q5olmu",
    "outputId": "50b8e861-9f06-4215-a7fb-d3ba21d8dfa4"
   },
   "outputs": [
    {
     "data": {
      "text/plain": [
       "[('a', 5), ('b', 2), ('c', 7)]"
      ]
     },
     "execution_count": 131,
     "metadata": {},
     "output_type": "execute_result"
    }
   ],
   "source": [
    "list(zip(['a','b','c'], [5,2,7]))"
   ]
  },
  {
   "cell_type": "markdown",
   "metadata": {
    "colab_type": "text",
    "id": "eWfvYP15oqwu"
   },
   "source": [
    "Perchè abbiamo messo anche `list` nell'esempio? Perchè `zip` ha lo stesso problema della map, cioè non ritorna subito una lista come vorremmo noi: \n"
   ]
  },
  {
   "cell_type": "code",
   "execution_count": 132,
   "metadata": {
    "colab": {
     "autoexec": {
      "startup": false,
      "wait_interval": 0
     },
     "base_uri": "https://localhost:8080/",
     "height": 34,
     "output_extras": [
      {
       "item_id": 1
      }
     ]
    },
    "colab_type": "code",
    "executionInfo": {
     "elapsed": 538,
     "status": "ok",
     "timestamp": 1519053414986,
     "user": {
      "displayName": "David Leoni",
      "photoUrl": "https://lh3.googleusercontent.com/a/default-user=s128",
      "userId": "102920557909426557439"
     },
     "user_tz": -60
    },
    "id": "jBWLb2vZjPKv",
    "outputId": "ebd86242-51e3-46f9-af11-85eb92aa54d1"
   },
   "outputs": [
    {
     "data": {
      "text/plain": [
       "<zip at 0x7fac244d5548>"
      ]
     },
     "execution_count": 132,
     "metadata": {},
     "output_type": "execute_result"
    }
   ],
   "source": [
    "zip(['a','b','c'], [5,2,7])"
   ]
  },
  {
   "cell_type": "markdown",
   "metadata": {
    "colab_type": "text",
    "id": "kcbDFCyOjl7E"
   },
   "source": [
    "**✪✪✪ ESERCIZIO**: Come vedi con la `zip` abbiamo ottenuto un risultato simile a quello del precedente esercizio, ma abbiamo tuple con parentesi tonde invece di liste con parentesi quadre. Riusciresti aggiungendo una `list comprehension` o una `map` ad ottenere lo stesso identico risultato?\n",
    "\n",
    "- per convertire una tupla in una lista, usa la funzione `list`:"
   ]
  },
  {
   "cell_type": "code",
   "execution_count": 133,
   "metadata": {
    "colab": {
     "autoexec": {
      "startup": false,
      "wait_interval": 0
     },
     "base_uri": "https://localhost:8080/",
     "height": 34,
     "output_extras": [
      {
       "item_id": 1
      }
     ]
    },
    "colab_type": "code",
    "executionInfo": {
     "elapsed": 573,
     "status": "ok",
     "timestamp": 1519054370413,
     "user": {
      "displayName": "David Leoni",
      "photoUrl": "https://lh3.googleusercontent.com/a/default-user=s128",
      "userId": "102920557909426557439"
     },
     "user_tz": -60
    },
    "id": "XNP1gY9roEbM",
    "outputId": "dfb74688-0995-47cc-870b-a5934fa0a23c"
   },
   "outputs": [
    {
     "data": {
      "text/plain": [
       "['ciao', 'soft', 'python']"
      ]
     },
     "execution_count": 133,
     "metadata": {},
     "output_type": "execute_result"
    }
   ],
   "source": [
    "list(  ('ciao', 'soft', 'python')  )  # all'interno abbiamo messo una tupla, delimitata da parentesi tonde"
   ]
  },
  {
   "cell_type": "raw",
   "id": "9423e92c",
   "metadata": {
    "format": "text/html"
   },
   "source": [
    "<a  class=\"jupman-sol jupman-sol-toggler\" \n",
    " onclick=\"jupman.toggleSolution(this);\" \n",
    " data-jupman-show=\"Mostra soluzione\" data-jupman-hide=\"Nascondi\">Mostra soluzione</a><div class=\"jupman-sol jupman-sol-code\" style=\"display:none\">  "
   ]
  },
  {
   "cell_type": "code",
   "execution_count": 134,
   "metadata": {
    "colab": {
     "autoexec": {
      "startup": false,
      "wait_interval": 0
     }
    },
    "colab_type": "code",
    "id": "m_rDAV-Qnd86"
   },
   "outputs": [
    {
     "data": {
      "text/plain": [
       "[['cane', 12],\n",
       " ['gatto', 14],\n",
       " ['pellicano', 30],\n",
       " ['scoiattolo', 6],\n",
       " ['aquila', 25]]"
      ]
     },
     "execution_count": 134,
     "metadata": {},
     "output_type": "execute_result"
    }
   ],
   "source": [
    "animali = ['cane', 'gatto', 'pellicano', 'scoiattolo', 'aquila']\n",
    "anni = [12,14,30,6,25]\n",
    "\n",
    "# scrivi qui - soluzione con list comprehension\n",
    "\n",
    "[ list(c) for c in zip(animali, anni) ]\n"
   ]
  },
  {
   "cell_type": "raw",
   "id": "2151c517",
   "metadata": {
    "format": "text/html"
   },
   "source": [
    "</div>"
   ]
  },
  {
   "cell_type": "code",
   "execution_count": 134,
   "metadata": {
    "colab": {
     "autoexec": {
      "startup": false,
      "wait_interval": 0
     }
    },
    "colab_type": "code",
    "id": "m_rDAV-Qnd86"
   },
   "outputs": [
    {
     "data": {
      "text/plain": [
       "[['cane', 12],\n",
       " ['gatto', 14],\n",
       " ['pellicano', 30],\n",
       " ['scoiattolo', 6],\n",
       " ['aquila', 25]]"
      ]
     },
     "execution_count": 134,
     "metadata": {},
     "output_type": "execute_result"
    }
   ],
   "source": [
    "animali = ['cane', 'gatto', 'pellicano', 'scoiattolo', 'aquila']\n",
    "anni = [12,14,30,6,25]\n",
    "\n",
    "# scrivi qui - soluzione con list comprehension\n",
    "\n"
   ]
  },
  {
   "cell_type": "raw",
   "id": "0cef8eaa",
   "metadata": {
    "format": "text/html"
   },
   "source": [
    "<a  class=\"jupman-sol jupman-sol-toggler\" \n",
    " onclick=\"jupman.toggleSolution(this);\" \n",
    " data-jupman-show=\"Mostra soluzione\" data-jupman-hide=\"Nascondi\">Mostra soluzione</a><div class=\"jupman-sol jupman-sol-code\" style=\"display:none\">  "
   ]
  },
  {
   "cell_type": "code",
   "execution_count": 135,
   "metadata": {
    "colab": {
     "autoexec": {
      "startup": false,
      "wait_interval": 0
     },
     "base_uri": "https://localhost:8080/",
     "height": 104,
     "output_extras": [
      {
       "item_id": 1
      }
     ]
    },
    "colab_type": "code",
    "executionInfo": {
     "elapsed": 416,
     "status": "ok",
     "timestamp": 1519054478279,
     "user": {
      "displayName": "David Leoni",
      "photoUrl": "https://lh3.googleusercontent.com/a/default-user=s128",
      "userId": "102920557909426557439"
     },
     "user_tz": -60
    },
    "id": "z0PWbUtnnGAK",
    "outputId": "32110d5c-9e25-419d-9a66-88d6d1b789c1"
   },
   "outputs": [
    {
     "data": {
      "text/plain": [
       "[['cane', 12],\n",
       " ['gatto', 14],\n",
       " ['pellicano', 30],\n",
       " ['scoiattolo', 6],\n",
       " ['aquila', 25]]"
      ]
     },
     "execution_count": 135,
     "metadata": {},
     "output_type": "execute_result"
    }
   ],
   "source": [
    "animali = ['cane', 'gatto', 'pellicano', 'scoiattolo', 'aquila']\n",
    "anni = [12,14,30,6,25]\n",
    "\n",
    "# scrivi qui - soluzione con map\n",
    "\n",
    "animali = ['cane', 'gatto', 'pellicano', 'scoiattolo', 'aquila']\n",
    "anni = [12,14,30,6,25]\n",
    "list(map(list, zip(animali, anni)))"
   ]
  },
  {
   "cell_type": "raw",
   "id": "f939ba3d",
   "metadata": {
    "format": "text/html"
   },
   "source": [
    "</div>"
   ]
  },
  {
   "cell_type": "code",
   "execution_count": 135,
   "metadata": {
    "colab": {
     "autoexec": {
      "startup": false,
      "wait_interval": 0
     },
     "base_uri": "https://localhost:8080/",
     "height": 104,
     "output_extras": [
      {
       "item_id": 1
      }
     ]
    },
    "colab_type": "code",
    "executionInfo": {
     "elapsed": 416,
     "status": "ok",
     "timestamp": 1519054478279,
     "user": {
      "displayName": "David Leoni",
      "photoUrl": "https://lh3.googleusercontent.com/a/default-user=s128",
      "userId": "102920557909426557439"
     },
     "user_tz": -60
    },
    "id": "z0PWbUtnnGAK",
    "outputId": "32110d5c-9e25-419d-9a66-88d6d1b789c1"
   },
   "outputs": [
    {
     "data": {
      "text/plain": [
       "[['cane', 12],\n",
       " ['gatto', 14],\n",
       " ['pellicano', 30],\n",
       " ['scoiattolo', 6],\n",
       " ['aquila', 25]]"
      ]
     },
     "execution_count": 135,
     "metadata": {},
     "output_type": "execute_result"
    }
   ],
   "source": [
    "animali = ['cane', 'gatto', 'pellicano', 'scoiattolo', 'aquila']\n",
    "anni = [12,14,30,6,25]\n",
    "\n",
    "# scrivi qui - soluzione con map\n",
    "\n"
   ]
  },
  {
   "cell_type": "markdown",
   "metadata": {
    "colab_type": "text",
    "id": "JS4ZOkHjqRE8"
   },
   "source": [
    "**✪✪✪ ESERCIZIO**: svolgi l'esercizio precedente filtrando gli animali con aspettativa di vita superiore ai 13 anni, usando la `zip` e una list comprehension"
   ]
  },
  {
   "cell_type": "raw",
   "id": "8e12b9ef",
   "metadata": {
    "format": "text/html"
   },
   "source": [
    "<a  class=\"jupman-sol jupman-sol-toggler\" \n",
    " onclick=\"jupman.toggleSolution(this);\" \n",
    " data-jupman-show=\"Mostra soluzione\" data-jupman-hide=\"Nascondi\">Mostra soluzione</a><div class=\"jupman-sol jupman-sol-code\" style=\"display:none\">  "
   ]
  },
  {
   "cell_type": "code",
   "execution_count": 136,
   "metadata": {
    "colab": {
     "autoexec": {
      "startup": false,
      "wait_interval": 0
     }
    },
    "colab_type": "code",
    "id": "lmNN4HYfnZXi"
   },
   "outputs": [
    {
     "data": {
      "text/plain": [
       "[['gatto', 14], ['pellicano', 30], ['aquila', 25]]"
      ]
     },
     "execution_count": 136,
     "metadata": {},
     "output_type": "execute_result"
    }
   ],
   "source": [
    "animali = ['cane', 'gatto', 'pellicano', 'scoiattolo', 'aquila']\n",
    "anni = [12,14,30,6,25]\n",
    "\n",
    "\n",
    "# scrivi qui\n",
    "\n",
    "animali = ['cane', 'gatto', 'pellicano', 'scoiattolo', 'aquila']\n",
    "anni = [12,14,30,6,25]\n",
    "\n",
    "[ list(c) for c in zip(animali, anni) if c[1] > 13 ]\n",
    "\n"
   ]
  },
  {
   "cell_type": "raw",
   "id": "cb83c6b6",
   "metadata": {
    "format": "text/html"
   },
   "source": [
    "</div>"
   ]
  },
  {
   "cell_type": "code",
   "execution_count": 136,
   "metadata": {
    "colab": {
     "autoexec": {
      "startup": false,
      "wait_interval": 0
     }
    },
    "colab_type": "code",
    "id": "lmNN4HYfnZXi"
   },
   "outputs": [
    {
     "data": {
      "text/plain": [
       "[['gatto', 14], ['pellicano', 30], ['aquila', 25]]"
      ]
     },
     "execution_count": 136,
     "metadata": {},
     "output_type": "execute_result"
    }
   ],
   "source": [
    "animali = ['cane', 'gatto', 'pellicano', 'scoiattolo', 'aquila']\n",
    "anni = [12,14,30,6,25]\n",
    "\n",
    "\n",
    "# scrivi qui\n",
    "\n"
   ]
  },
  {
   "cell_type": "markdown",
   "metadata": {
    "colab_type": "text",
    "id": "gmluxI1sAFZn"
   },
   "source": [
    "**✪✪ ESERCIZIO**: Date le due liste con nomi di animali e corrispondente aspettativa di vita in anni come sopra, scrivere nella cella sotto del codice che con un normale ciclo `for` generi un dizionario che associa alla specie l'aspettativa di vita, così:\n",
    "\n",
    "```python\n",
    "{\n",
    " 'aquila': 25,\n",
    " 'cane': 12,\n",
    " 'gatto': 14, \n",
    " 'pellicano': 30, \n",
    " 'scoiattolo': 6\n",
    "}\n",
    "```\n",
    "\n",
    "<div class=\"alert alert-warning\">\n",
    "\n",
    "**ATTENZIONE**: A seconda della versione esatta di Python che avete e di come il dizionario viene creato, l'ordine dei campi quando viene stampato potrebbe differire dall'esempio. Questo è perfettamente normale, perchè le chiavi di un dizionario sono da intendersi come un insieme senza ordine particolare. Se volete essere sicuri di trovare le chiavi stampate nell'ordine in cui sono state inserite, dovete usare un OrderedDict  \n",
    "\n",
    "</div>\n",
    "\n"
   ]
  },
  {
   "cell_type": "raw",
   "id": "e8623745",
   "metadata": {
    "format": "text/html"
   },
   "source": [
    "<a  class=\"jupman-sol jupman-sol-toggler\" \n",
    " onclick=\"jupman.toggleSolution(this);\" \n",
    " data-jupman-show=\"Mostra soluzione\" data-jupman-hide=\"Nascondi\">Mostra soluzione</a><div class=\"jupman-sol jupman-sol-code\" style=\"display:none\">  "
   ]
  },
  {
   "cell_type": "code",
   "execution_count": 137,
   "metadata": {
    "colab": {
     "autoexec": {
      "startup": false,
      "wait_interval": 0
     }
    },
    "colab_type": "code",
    "id": "8aomrV6KAFZn"
   },
   "outputs": [
    {
     "data": {
      "text/plain": [
       "{'aquila': 25, 'cane': 12, 'gatto': 14, 'pellicano': 30, 'scoiattolo': 6}"
      ]
     },
     "execution_count": 137,
     "metadata": {},
     "output_type": "execute_result"
    }
   ],
   "source": [
    "\n",
    "animali = ['cane', 'gatto', 'pellicano', 'scoiattolo', 'aquila']\n",
    "anni = [12,14,30,6,25]\n",
    "\n",
    "# scrivi qui\n",
    "\n",
    "d = {}\n",
    "for i in range(len(animali)):\n",
    "    d[animali[i]] = anni[i]\n",
    "d\n"
   ]
  },
  {
   "cell_type": "raw",
   "id": "39f88302",
   "metadata": {
    "format": "text/html"
   },
   "source": [
    "</div>"
   ]
  },
  {
   "cell_type": "code",
   "execution_count": 137,
   "metadata": {
    "colab": {
     "autoexec": {
      "startup": false,
      "wait_interval": 0
     }
    },
    "colab_type": "code",
    "id": "8aomrV6KAFZn"
   },
   "outputs": [
    {
     "data": {
      "text/plain": [
       "{'aquila': 25, 'cane': 12, 'gatto': 14, 'pellicano': 30, 'scoiattolo': 6}"
      ]
     },
     "execution_count": 137,
     "metadata": {},
     "output_type": "execute_result"
    }
   ],
   "source": [
    "\n",
    "animali = ['cane', 'gatto', 'pellicano', 'scoiattolo', 'aquila']\n",
    "anni = [12,14,30,6,25]\n",
    "\n",
    "# scrivi qui\n",
    "\n"
   ]
  },
  {
   "cell_type": "markdown",
   "metadata": {
    "colab_type": "text",
    "id": "y2Lk387pvSGo"
   },
   "source": [
    "Per ottenere lo stesso risultato in una linea, è possibile usare la funzione `zip` come fatto negli esercizi precedenti, e poi la funzione `dict` che crea un dizionario a partire dalla lista di coppie di elementi generata dallo `zip`:"
   ]
  },
  {
   "cell_type": "code",
   "execution_count": 138,
   "metadata": {
    "colab": {
     "autoexec": {
      "startup": false,
      "wait_interval": 0
     },
     "base_uri": "https://localhost:8080/",
     "height": 34,
     "output_extras": [
      {
       "item_id": 1
      }
     ]
    },
    "colab_type": "code",
    "executionInfo": {
     "elapsed": 524,
     "status": "ok",
     "timestamp": 1519055238687,
     "user": {
      "displayName": "David Leoni",
      "photoUrl": "https://lh3.googleusercontent.com/a/default-user=s128",
      "userId": "102920557909426557439"
     },
     "user_tz": -60
    },
    "id": "9DB78dCBcHPt",
    "outputId": "158d49f3-b0ff-4939-d42c-b8e4510cdf3b"
   },
   "outputs": [
    {
     "data": {
      "text/plain": [
       "{'aquila': 25, 'cane': 12, 'gatto': 14, 'pellicano': 30, 'scoiattolo': 6}"
      ]
     },
     "execution_count": 138,
     "metadata": {},
     "output_type": "execute_result"
    }
   ],
   "source": [
    "dict(zip(animali, anni))"
   ]
  },
  {
   "cell_type": "markdown",
   "metadata": {
    "colab_type": "text",
    "id": "jbX7XEmRAFZ8"
   },
   "source": [
    "**✪✪ ESERCIZIO**: Data una lista di prodotti contenente a sua volta liste ciascuna con tipologia, marca e quantità di confezioni vendute:\n",
    "\n",
    "\n",
    "```python\n",
    "vendite = [\n",
    "    ['pomodori', 'Santini', 5],\n",
    "    ['pomodori', 'Cirio', 1],\n",
    "    ['pomodori', 'Mutti', 2],\n",
    "    ['cereali', 'Kelloggs', 3],\n",
    "    ['cereali', 'Choco Pops', 8],\n",
    "    ['cioccolata','Novi', 9],\n",
    "    ['cioccolata','Milka', 4],\n",
    "]\n",
    "\n",
    "```\n",
    "\n",
    "Usando un normale ciclo for, scrivere del codice Python nella cella sotto per creare un dizionario in cui le chiavi sono le tipologie e i valori sono la somma delle confezioni vendute per quella categoria:\n",
    "\n",
    "```python\n",
    "{\n",
    " 'cereali': 11, \n",
    " 'cioccolata': 13,\n",
    " 'pomodori': 8   \n",
    "}\n",
    "```\n",
    "\n",
    "\n",
    "**SUGGERIMENTO**: fare attenzione ai due casi, quando il dizionario da ritornare ancora non contiene la tipologia estratta dalla lista correntemente in esame e quando invece già la contiene:  "
   ]
  },
  {
   "cell_type": "raw",
   "id": "d21193fa",
   "metadata": {
    "format": "text/html"
   },
   "source": [
    "<a  class=\"jupman-sol jupman-sol-toggler\" \n",
    " onclick=\"jupman.toggleSolution(this);\" \n",
    " data-jupman-show=\"Mostra soluzione\" data-jupman-hide=\"Nascondi\">Mostra soluzione</a><div class=\"jupman-sol jupman-sol-code\" style=\"display:none\">  "
   ]
  },
  {
   "cell_type": "code",
   "execution_count": 1,
   "metadata": {
    "colab": {
     "autoexec": {
      "startup": false,
      "wait_interval": 0
     }
    },
    "colab_type": "code",
    "id": "Si8Tt6WHAFZ8"
   },
   "outputs": [
    {
     "data": {
      "text/plain": [
       "{'cereali': 11, 'cioccolata': 13, 'pomodori': 8}"
      ]
     },
     "execution_count": 1,
     "metadata": {},
     "output_type": "execute_result"
    }
   ],
   "source": [
    "vendite = [\n",
    "    ['pomodori', 'Santini', 5],\n",
    "    ['pomodori', 'Cirio', 1],\n",
    "    ['pomodori', 'Mutti', 2],\n",
    "    ['cereali', 'Kelloggs', 3],\n",
    "    ['cereali', 'Choco Pops', 8],\n",
    "    ['cioccolata','Novi', 9],\n",
    "    ['cioccolata','Milka', 4],\n",
    "]\n",
    "\n",
    "# scrivi qui\n",
    "\n",
    "vendite = [\n",
    "    ['pomodori', 'Santini', 5],\n",
    "    ['pomodori', 'Cirio', 1],\n",
    "    ['pomodori', 'Mutti', 2],\n",
    "    ['cereali', 'Kelloggs', 3],\n",
    "    ['cereali', 'Choco Pops', 8],\n",
    "    ['cioccolata','Novi', 9],\n",
    "    ['cioccolata','Milka', 4],\n",
    "]\n",
    "\n",
    "\n",
    "d = {}\n",
    "for vendita in vendite:\n",
    "    if vendita[0] in d:\n",
    "        d[vendita[0]] += vendita[2]\n",
    "    else:\n",
    "        d[vendita[0]] = vendita[2]\n",
    "d"
   ]
  },
  {
   "cell_type": "raw",
   "id": "d3594a39",
   "metadata": {
    "format": "text/html"
   },
   "source": [
    "</div>"
   ]
  },
  {
   "cell_type": "code",
   "execution_count": 1,
   "metadata": {
    "colab": {
     "autoexec": {
      "startup": false,
      "wait_interval": 0
     }
    },
    "colab_type": "code",
    "id": "Si8Tt6WHAFZ8"
   },
   "outputs": [
    {
     "data": {
      "text/plain": [
       "{'cereali': 11, 'cioccolata': 13, 'pomodori': 8}"
      ]
     },
     "execution_count": 1,
     "metadata": {},
     "output_type": "execute_result"
    }
   ],
   "source": [
    "vendite = [\n",
    "    ['pomodori', 'Santini', 5],\n",
    "    ['pomodori', 'Cirio', 1],\n",
    "    ['pomodori', 'Mutti', 2],\n",
    "    ['cereali', 'Kelloggs', 3],\n",
    "    ['cereali', 'Choco Pops', 8],\n",
    "    ['cioccolata','Novi', 9],\n",
    "    ['cioccolata','Milka', 4],\n",
    "]\n",
    "\n",
    "# scrivi qui\n",
    "\n"
   ]
  },
  {
   "cell_type": "markdown",
   "metadata": {},
   "source": [
    "## Approfondimenti\n",
    "\n",
    "**Strumenti e script**: Se vuoi approfondire come eseguire il codice in editor diversi da Jupyter e avere un'idea più  precisa dell'architettura di Python, ti invitiamo a leggere [Strumenti e script](https://it.softpython.org/tools/tools-sol.html)\n",
    "\n",
    "**Gestione errori e testing**: Per capire come si gestiscono le situazioni di errore in genere guarda il foglio separato [Gestione errori e testing](https://it.softpython.org/exercises/errors-and-testing/errors-and-testing-sol.html), serve anche per capire come eseguire alcuni esercizi della Parte A - Fondamenti."
   ]
  }
 ],
 "metadata": {
  "celltoolbar": "Edit Metadata",
  "colab": {
   "collapsed_sections": [
    "WMaObpo6AFSP",
    "AUCCneEoAFTw",
    "F5GKXLjqAFYH",
    "-YkY_K8AAFUc",
    "poPVz2M0AFWT",
    "4JM8nJYtAFYx"
   ],
   "default_view": {},
   "name": "intro-exercises.ipynb",
   "provenance": [],
   "toc_visible": true,
   "version": "0.3.2",
   "views": {}
  },
  "kernelspec": {
   "display_name": "Python 3",
   "language": "python",
   "name": "python3"
  },
  "language_info": {
   "codemirror_mode": {
    "name": "ipython",
    "version": 3
   },
   "file_extension": ".py",
   "mimetype": "text/x-python",
   "name": "python",
   "nbconvert_exporter": "python",
   "pygments_lexer": "ipython3",
   "version": "3.5.2"
  },
  "toc": {
   "base_numbering": 1,
   "nav_menu": {},
   "number_sections": false,
   "sideBar": true,
   "skip_h1_title": false,
   "title_cell": "Table of Contents",
   "title_sidebar": "Contents",
   "toc_cell": false,
   "toc_position": {
    "height": "calc(100% - 180px)",
    "left": "10px",
    "top": "150px",
    "width": "349px"
   },
   "toc_section_display": true,
   "toc_window_display": true
  }
 },
 "nbformat": 4,
 "nbformat_minor": 1
}

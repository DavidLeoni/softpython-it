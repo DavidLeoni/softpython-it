{
 "cells": [
  {
   "cell_type": "markdown",
   "metadata": {},
   "source": [
    "# Database\n",
    "\n",
    "## [Scarica zip esercizi](../_static/generated/database.zip)\n",
    "\n",
    "[Naviga file online](https://github.com/DavidLeoni/softpython-it/tree/master/database)\n",
    "\n",
    "In questo tutorial affronteremo il tema database in Python:\n",
    "\n",
    "* Uso SQLStudio con connessione a SQLite\n",
    "* semplici query SQL da Python\n",
    "* esempi con libreria Pandas"
   ]
  },
  {
   "cell_type": "markdown",
   "metadata": {},
   "source": [
    "### Che fare\n",
    "\n",
    "\n",
    "- scompatta lo zip in una cartella, dovresti ottenere qualcosa del genere: \n",
    "\n",
    "```\n",
    "database\n",
    "    database.ipynb     \n",
    "    database-sol.ipynb\n",
    "    jupman.py\n",
    "```\n",
    "\n",
    "<div class=\"alert alert-warning\">\n",
    "\n",
    "**ATTENZIONE**: Per essere visualizzato correttamente, il file del notebook DEVE essere nella cartella szippata.\n",
    "</div>\n",
    "\n",
    "- apri il Jupyter Notebook da quella cartella. Due cose dovrebbero aprirsi, prima una console e poi un browser. Il browser dovrebbe mostrare una lista di file: naviga la lista e apri il notebook `database.ipynb`\n",
    "- Prosegui leggendo il file degli esercizi, ogni tanto al suo interno troverai delle scritte **ESERCIZIO**, che ti chiederanno di scrivere dei comandi Python nelle celle successive. \n",
    "\n",
    "Scorciatoie da tastiera:\n",
    "\n",
    "* Per eseguire il codice Python dentro una cella di Jupyter, premi `Control+Invio`\n",
    "* Per eseguire il codice Python dentro una cella di Jupyter E selezionare la cella seguente, premi `Shift+Invio`\n",
    "* Per eseguire il codice Python dentro una cella di Jupyter E creare una nuova cella subito dopo, premi `Alt+Invio`\n",
    "* Se per caso il Notebook sembra inchiodato, prova a selezionare `Kernel -> Restart`\n"
   ]
  },
  {
   "cell_type": "markdown",
   "metadata": {},
   "source": [
    "## Guardiamo il database\n",
    "\n",
    "Proveremo ad accedere via SQLiteStudio e Python al database Chinhook. \n",
    "\n",
    "Il modello dati di Chinook rappresenta uno store online di canzoni, e include tabelle per artisti (`Artist`), album (`Album`), tracce (`Track`), fatture (`Invoice`) e clienti (`Customer`):\n",
    "\n",
    "![chinook-93823](img/ChinookDatabaseSchema1.1.png)"
   ]
  },
  {
   "cell_type": "markdown",
   "metadata": {},
   "source": [
    "I dati provengono da varie sorgenti:\n",
    "\n",
    "* I dati relativi alle canzoni sono stati creati usando dati reali dalla libreria iTunes\n",
    "* Le informazioni sui clienti sono state create manualmente usando nomi fittizi\n",
    "* Gli indirizzi sono georeferenziabili su Google Maps, e altri dati ben formattatati (telefono, fax, email, etc.)\n",
    "* Le informazioni sulle vendite sono auto-generate usando dati casuali per lungo un periodo di 4 anni"
   ]
  },
  {
   "cell_type": "markdown",
   "metadata": {},
   "source": [
    "## Connessione in SQLStudio\n",
    "\n",
    "[Scarica](https://sqlitestudio.pl) e prova a lanciare SQLite Studio (non serve nemmeno l'installazione). Se ti dà problemi, in alternativa prova [SQLite browser](http://sqlitebrowser.org/):\n",
    "\n",
    "Una volta scaricato e szippato SQLStudio, eseguilo e poi:\n",
    "\n",
    "1. Dal menu in alto, clicca `Database->Add Database` e connettilo al database `chinook.sqlite`:\n",
    "\n",
    "![open-database-43282](img/open-database.png)\n",
    "\n",
    "2. Clicca su `Test connection` per verificare che la connessione funzioni, poi premi `OK`.\n",
    "\n",
    "Cominciamo a guardare una tabella semplice come `Album`. "
   ]
  },
  {
   "cell_type": "markdown",
   "metadata": {},
   "source": [
    "**ESERCIZIO**: Prima di procedere, in SQLiteStudio, nel menu a sinistra sotto il nodo `Tables` fai doppio click sulla tabella `Album`."
   ]
  },
  {
   "cell_type": "markdown",
   "metadata": {},
   "source": [
    "Adesso nel pannello principale a destra seleziona la tab `Data`: \n",
    "\n",
    "![album-data-82347](img/album-data.png)"
   ]
  },
  {
   "cell_type": "markdown",
   "metadata": {},
   "source": [
    "Vediamo che ci sono 3 colonne, due con numeri `AlbumId` e `ArtistId` e una di stringhe, chiamata `Title` \n",
    "\n",
    "**NOTA**: I nomi delle colonne in SQL possono essere arbitrariamente scelte da chi crea i database. Quindi non è strettamente necessario che i nomi delle colonne numeriche terminino con `Id`. "
   ]
  },
  {
   "cell_type": "markdown",
   "metadata": {},
   "source": [
    "## Connessione in Python\n",
    "\n",
    "Proviamo adesso a recuperare gli stessi dati della tabella `Album` in Python. SQLite è talmente popolare che la libreria per accederlo viene fornita direttamente con Python, quindi non ci servirà installare niente di particolare e possiamo tuffarci subito nel codice: "
   ]
  },
  {
   "cell_type": "code",
   "execution_count": 1,
   "metadata": {},
   "outputs": [],
   "source": [
    "import sqlite3\n",
    "\n",
    "conn = sqlite3.connect('file:chinook.sqlite?mode=rw', uri=True)"
   ]
  },
  {
   "cell_type": "markdown",
   "metadata": {},
   "source": [
    "\n",
    "L'operazione qua sopra crea un oggetto connessione e lo assegna alla variabile `conn`.\n",
    "A cosa ci connettiamo? Ad un database indicato dalla uri `file:chinook.sqlite?mode=rw`.\n",
    "Ma cos'è una URI? E' una stringa che denota una locazione da qualche parte, potrebbe essere un database accessibile come servizio via internet, o un file sul nostro disco: nel nostro caso vogliamo indicare un database che abbiamo su disco, perciò useremo il protocollo `file:`\n",
    "\n",
    "SQLite andrà quindi a cercarsi su disco il file `chinook.sqlite`, nella stessa cartella dove stiamo eseguendo Jupyter. Se il file fosse in qualche sottodirectory, potremmo scrivere per es. `qualche/cartella/chinook.sqlite`\n",
    "\n",
    "**NOTA 1**: ci stiamo connettendo al database in formato binario `.sqlite` , NON al file di testo `.sql` !\n",
    "\n",
    "**NOTA 2**: stiamo specificando che lo vogliamo aprire in modalità `mode=rw`, cioè di lettura + scrittura (Read Write). SE il database non esiste, questa funzione lancerà un errore.\n",
    "\n",
    "**NOTA 3**: se volessimo creare un nuovo database, dovremmo usare la modalità lettura + scrittura + creazione (Read Write Creation), specificando come parametro `mode=rwc` (notare la `c` in più)\n",
    "\n",
    "**NOTA 4**: in tanti sistemi di database (SQLite incluso), di default quando ci si connette ad un database su disco non esistente, ne creano uno. Questo è causa di tantissime imprecazioni, perchè se si sbaglia a scrivere il nome del database non saranno segnalati errori e ci si ritroverà connessi ad un database vuoto, chiedendosi che fine abbiano fatto i dati. E ci si troverà anche il disco pieno di file di database con nomi sbagliati! "
   ]
  },
  {
   "cell_type": "markdown",
   "metadata": {},
   "source": [
    "Tramite l'oggetto connessione `conn` possiamo creare un cosiddetto cursore, che ci consentirà di eseguire query verso il database. Usare una connessione per fare query equivale a chiedere una risorsa del sistema a Python. Le regole di buona educazione ci dicono che quando chiediamo in prestito qualcosa, dopo averlo usato lo si restituisce. La 'restituzione' equivarrebbe in Python a _chiudere_ la risorsa aperta. Ma mentre usiamo la risorsa si potrebbe verificare un errore, che potrebbe impedirci di chiudere la risorsa correttamente. Per indicare a Pyhton che vogliamo che la risorsa venga chiusa automaticamente in caso di errore, usiamo il comando `with` come abbiamo fatto per i file:"
   ]
  },
  {
   "cell_type": "code",
   "execution_count": 2,
   "metadata": {},
   "outputs": [
    {
     "name": "stdout",
     "output_type": "stream",
     "text": [
      "(1, 'For Those About To Rock We Salute You', 1)\n",
      "(2, 'Balls to the Wall', 2)\n",
      "(3, 'Restless and Wild', 2)\n",
      "(4, 'Let There Be Rock', 1)\n",
      "(5, 'Big Ones', 3)\n"
     ]
    }
   ],
   "source": [
    "import sqlite3\n",
    "conn = sqlite3.connect('file:chinook.sqlite?mode=rw', uri=True)\n",
    "\n",
    "with conn:       # col blocco with ci cauteliamo da errori imprevisti\n",
    "    cursore = conn.cursor()      # otteniamo il cursore\n",
    "    cursore.execute(\"SELECT * FROM Album LIMIT 5\")  # eseguiamo una query in\n",
    "                                                    # linguaggio SQL al database \n",
    "                                                    # notare che execute di per \n",
    "                                                    # sè non ritorna \n",
    "    \n",
    "    for riga in cursore.fetchall():   # cursore fetchall() genera una sequenza \n",
    "                                      # di righe di risultato della query. \n",
    "        print(riga)                   # una alla volta, le righe vengono \n",
    "                                      # assegnate all'oggetto `riga`                                              "
   ]
  },
  {
   "cell_type": "markdown",
   "metadata": {},
   "source": [
    "Finalmente abbiamo ottenuto la lista delle prime 5 righe dal database per la tabella `Album`."
   ]
  },
  {
   "cell_type": "markdown",
   "metadata": {},
   "source": [
    "**ESERCIZIO**: prova a scrivere qua sotto le istruzioni per stampare direttamente tutto risultato di `cursore.fetchall()` . \n",
    "\n",
    "* Qual'è il tipo di oggetto che ottieni? \n",
    "* Inoltre, qual'è il tipo delle singole righe (nota che sono rappresentate in parentesi tonde)?"
   ]
  },
  {
   "cell_type": "raw",
   "id": "148ffdd7",
   "metadata": {
    "format": "text/html"
   },
   "source": [
    "<a  class=\"jupman-sol jupman-sol-toggler\" \n",
    " onclick=\"jupman.toggleSolution(this);\" \n",
    " data-jupman-show=\"Mostra soluzione\" data-jupman-hide=\"Nascondi\">Mostra soluzione</a><div class=\"jupman-sol jupman-sol-code\" style=\"display:none\">  "
   ]
  },
  {
   "cell_type": "code",
   "execution_count": 3,
   "metadata": {},
   "outputs": [
    {
     "name": "stdout",
     "output_type": "stream",
     "text": [
      "[(1, 'For Those About To Rock We Salute You', 1), (2, 'Balls to the Wall', 2), (3, 'Restless and Wild', 2), (4, 'Let There Be Rock', 1), (5, 'Big Ones', 3)]\n",
      "<class 'list'>\n"
     ]
    }
   ],
   "source": [
    "\n",
    "\n",
    "# scrivi qui il codice\n",
    "\n",
    "# E' una lista Python. Le singole righe sono delle tuple\n",
    "# (cioè sequenze immutabili)\n",
    "import sqlite3\n",
    "conn = sqlite3.connect('file:chinook.sqlite?mode=rw', uri=True)\n",
    "\n",
    "with conn:                       \n",
    "    cursore = conn.cursor()      \n",
    "    cursore.execute(\"SELECT * FROM Album LIMIT 5\")                                                                \n",
    "    print(cursore.fetchall())\n",
    "    print(type(cursore.fetchall()))"
   ]
  },
  {
   "cell_type": "raw",
   "id": "30cc5dd9",
   "metadata": {
    "format": "text/html"
   },
   "source": [
    "</div>"
   ]
  },
  {
   "cell_type": "code",
   "execution_count": 3,
   "metadata": {},
   "outputs": [],
   "source": [
    "\n",
    "\n",
    "# scrivi qui il codice\n",
    "\n"
   ]
  },
  {
   "cell_type": "markdown",
   "metadata": {},
   "source": [
    "## Performance\n",
    "\n",
    "I database sono pensati apposta per gestire grandi quantità dati che risiedono su hard-disk. Vediamo brevemente i vari tipi di memoria disponibili nel computer, e come vengono usati dai database:\n",
    "\n",
    "|Memoria|Velocità\\*|Quantità| Note\n",
    "|-------|--------|--------|----|\n",
    "|RAM|1x|4-16 gigabyte|si cancella allo spegnimento del computer|\n",
    "|Disco SSD|2x-10x|centinaia di gigabyte|persistente, ma troppe scritture la rovinano|\n",
    "|hard disk|100x |centinaia di gigabyte, terabyte|persistente, può sopportare numerose scritture|\n",
    "\n",
    "\\* in lentezza rispetto a RAM"
   ]
  },
  {
   "cell_type": "markdown",
   "metadata": {},
   "source": [
    "Se facciamo delle query complesse che potenzialmente vanno a elaborare parecchi dati, non sempre questi possono stare tutti in RAM. Pensiamo come  esempio di chiedere al db di calcolare la media delle vendite di tutte le canzoni (supponi di avere terabyte di canzoni). Fortunatamente, spesso il database si arrangia da solo a creare un piano per ottimizzare l'uso delle risorse. Nel caso della media delle canzoni vendute, potrebbe per esempio eseguire autonomamente tutte queste operazioni:\n",
    "\n",
    "1. caricare dall'hard-disk alla RAM 4 gigabyte di canzoni\n",
    "2. calcolare media vendite di queste canzoni sul blocco corrente in RAM\n",
    "3. scaricare la RAM\n",
    "4. caricare dall'hard-disk alla RAM altri 4 gigabyte di canzoni\n",
    "5. calcolare media vendite del secondo blocco canzoni in RAM, e fare media con la media risultata dal primo blocco\n",
    "6. scaricare la RAM\n",
    "7. etc ...."
   ]
  },
  {
   "cell_type": "markdown",
   "metadata": {},
   "source": [
    "Nello scenario ideale possiamo scrivere query SQL complesse e sperare che il database se la cavi rapidamente a darci direttamente i risultati che ci servono in Python, salvandoci parecchio di lavoro. Purtroppo a volte ciò non è possibile, ci accorgiamo che il database ci mette una vita e bisogna ottimizzare a mano la query SQL, oppure il modo in cui carichiamo e rielaboriamo i dati in Python. Per ragioni di spazio in questo tutorial tratteremo solo l'ultimo caso, in modo molto semplice. \n",
    "\n",
    "**Prendere i dati un po' alla volta**\n",
    "\n",
    "Nei primi comandi Python sopra abbiamo visto come prelevare un po' di righe dal DB  usando l'opzione SQL `LIMIT`, e come caricare tutte queste righe in un colpo solo in una lista Python con `fetchall`. E se volessimo stampare a video _tutte_ le righe di una tabella da 1 terabyte, come faremmo? Sicuramente, se provassimo a caricarle tutte in una lista, Python finirebbe con saturare la memoria RAM. In alternativa al `fetchall`, possiamo usare il comando `fetchmany`, che prende un po' di righe alla volta:\n"
   ]
  },
  {
   "cell_type": "code",
   "execution_count": 4,
   "metadata": {},
   "outputs": [
    {
     "name": "stdout",
     "output_type": "stream",
     "text": [
      "(1, 'For Those About To Rock We Salute You', 1)\n",
      "(2, 'Balls to the Wall', 2)\n",
      "(3, 'Restless and Wild', 2)\n",
      "(4, 'Let There Be Rock', 1)\n",
      "(5, 'Big Ones', 3)\n",
      "(6, 'Jagged Little Pill', 4)\n",
      "(7, 'Facelift', 5)\n",
      "(8, 'Warner 25 Anos', 6)\n",
      "(9, 'Plays Metallica By Four Cellos', 7)\n",
      "(10, 'Audioslave', 8)\n",
      "(11, 'Out Of Exile', 8)\n",
      "(12, 'BackBeat Soundtrack', 9)\n",
      "(13, 'The Best Of Billy Cobham', 10)\n",
      "(14, 'Alcohol Fueled Brewtality Live! [Disc 1]', 11)\n",
      "(15, 'Alcohol Fueled Brewtality Live! [Disc 2]', 11)\n",
      "(16, 'Black Sabbath', 12)\n",
      "(17, 'Black Sabbath Vol. 4 (Remaster)', 12)\n",
      "(18, 'Body Count', 13)\n",
      "(19, 'Chemical Wedding', 14)\n",
      "(20, 'The Best Of Buddy Guy - The Millenium Collection', 15)\n",
      "(21, 'Prenda Minha', 16)\n",
      "(22, 'Sozinho Remix Ao Vivo', 16)\n",
      "(23, 'Minha Historia', 17)\n",
      "(24, 'Afrociberdelia', 18)\n",
      "(25, 'Da Lama Ao Caos', 18)\n",
      "(26, 'Acústico MTV [Live]', 19)\n",
      "(27, 'Cidade Negra - Hits', 19)\n",
      "(28, 'Na Pista', 20)\n",
      "(29, 'Axé Bahia 2001', 21)\n",
      "(30, 'BBC Sessions [Disc 1] [Live]', 22)\n",
      "(31, 'Bongo Fury', 23)\n",
      "(32, 'Carnaval 2001', 21)\n",
      "(33, 'Chill: Brazil (Disc 1)', 24)\n",
      "(34, 'Chill: Brazil (Disc 2)', 6)\n",
      "(35, 'Garage Inc. (Disc 1)', 50)\n",
      "(36, 'Greatest Hits II', 51)\n",
      "(37, 'Greatest Kiss', 52)\n",
      "(38, 'Heart of the Night', 53)\n",
      "(39, 'International Superhits', 54)\n",
      "(40, 'Into The Light', 55)\n",
      "(41, 'Meus Momentos', 56)\n",
      "(42, 'Minha História', 57)\n",
      "(43, 'MK III The Final Concerts [Disc 1]', 58)\n",
      "(44, 'Physical Graffiti [Disc 1]', 22)\n",
      "(45, 'Sambas De Enredo 2001', 21)\n",
      "(46, 'Supernatural', 59)\n",
      "(47, 'The Best of Ed Motta', 37)\n",
      "(48, 'The Essential Miles Davis [Disc 1]', 68)\n",
      "(49, 'The Essential Miles Davis [Disc 2]', 68)\n",
      "(50, 'The Final Concerts (Disc 2)', 58)\n",
      "(51, \"Up An' Atom\", 69)\n",
      "(52, 'Vinícius De Moraes - Sem Limite', 70)\n",
      "(53, 'Vozes do MPB', 21)\n",
      "(54, 'Chronicle, Vol. 1', 76)\n",
      "(55, 'Chronicle, Vol. 2', 76)\n",
      "(56, 'Cássia Eller - Coleção Sem Limite [Disc 2]', 77)\n",
      "(57, 'Cássia Eller - Sem Limite [Disc 1]', 77)\n",
      "(58, 'Come Taste The Band', 58)\n",
      "(59, 'Deep Purple In Rock', 58)\n",
      "(60, 'Fireball', 58)\n",
      "(61, \"Knocking at Your Back Door: The Best Of Deep Purple in the 80's\", 58)\n",
      "(62, 'Machine Head', 58)\n",
      "(63, 'Purpendicular', 58)\n",
      "(64, 'Slaves And Masters', 58)\n",
      "(65, 'Stormbringer', 58)\n",
      "(66, 'The Battle Rages On', 58)\n",
      "(67, \"Vault: Def Leppard's Greatest Hits\", 78)\n",
      "(68, 'Outbreak', 79)\n",
      "(69, 'Djavan Ao Vivo - Vol. 02', 80)\n",
      "(70, 'Djavan Ao Vivo - Vol. 1', 80)\n",
      "(71, 'Elis Regina-Minha História', 41)\n",
      "(72, 'The Cream Of Clapton', 81)\n",
      "(73, 'Unplugged', 81)\n",
      "(74, 'Album Of The Year', 82)\n",
      "(75, 'Angel Dust', 82)\n",
      "(76, 'King For A Day Fool For A Lifetime', 82)\n",
      "(77, 'The Real Thing', 82)\n",
      "(78, 'Deixa Entrar', 83)\n",
      "(79, 'In Your Honor [Disc 1]', 84)\n",
      "(80, 'In Your Honor [Disc 2]', 84)\n",
      "(81, 'One By One', 84)\n",
      "(82, 'The Colour And The Shape', 84)\n",
      "(83, 'My Way: The Best Of Frank Sinatra [Disc 1]', 85)\n",
      "(84, 'Roda De Funk', 86)\n",
      "(85, 'As Canções de Eu Tu Eles', 27)\n",
      "(86, 'Quanta Gente Veio Ver (Live)', 27)\n",
      "(87, 'Quanta Gente Veio ver--Bônus De Carnaval', 27)\n",
      "(88, 'Faceless', 87)\n",
      "(89, 'American Idiot', 54)\n",
      "(90, 'Appetite for Destruction', 88)\n",
      "(91, 'Use Your Illusion I', 88)\n",
      "(92, 'Use Your Illusion II', 88)\n",
      "(93, 'Blue Moods', 89)\n",
      "(94, 'A Matter of Life and Death', 90)\n",
      "(95, 'A Real Dead One', 90)\n",
      "(96, 'A Real Live One', 90)\n",
      "(97, 'Brave New World', 90)\n",
      "(98, 'Dance Of Death', 90)\n",
      "(99, 'Fear Of The Dark', 90)\n",
      "(100, 'Iron Maiden', 90)\n",
      "(101, 'Killers', 90)\n",
      "(102, 'Live After Death', 90)\n",
      "(103, 'Live At Donington 1992 (Disc 1)', 90)\n",
      "(104, 'Live At Donington 1992 (Disc 2)', 90)\n",
      "(105, 'No Prayer For The Dying', 90)\n",
      "(106, 'Piece Of Mind', 90)\n",
      "(107, 'Powerslave', 90)\n",
      "(108, 'Rock In Rio [CD1]', 90)\n",
      "(109, 'Rock In Rio [CD2]', 90)\n",
      "(110, 'Seventh Son of a Seventh Son', 90)\n",
      "(111, 'Somewhere in Time', 90)\n",
      "(112, 'The Number of The Beast', 90)\n",
      "(113, 'The X Factor', 90)\n",
      "(114, 'Virtual XI', 90)\n",
      "(115, 'Sex Machine', 91)\n",
      "(116, 'Emergency On Planet Earth', 92)\n",
      "(117, 'Synkronized', 92)\n",
      "(118, 'The Return Of The Space Cowboy', 92)\n",
      "(119, 'Get Born', 93)\n",
      "(120, 'Are You Experienced?', 94)\n",
      "(121, 'Surfing with the Alien (Remastered)', 95)\n",
      "(122, 'Jorge Ben Jor 25 Anos', 46)\n",
      "(123, 'Jota Quest-1995', 96)\n",
      "(124, 'Cafezinho', 97)\n",
      "(125, 'Living After Midnight', 98)\n",
      "(126, 'Unplugged [Live]', 52)\n",
      "(127, 'BBC Sessions [Disc 2] [Live]', 22)\n",
      "(128, 'Coda', 22)\n",
      "(129, 'Houses Of The Holy', 22)\n",
      "(130, 'In Through The Out Door', 22)\n",
      "(131, 'IV', 22)\n",
      "(132, 'Led Zeppelin I', 22)\n",
      "(133, 'Led Zeppelin II', 22)\n",
      "(134, 'Led Zeppelin III', 22)\n",
      "(135, 'Physical Graffiti [Disc 2]', 22)\n",
      "(136, 'Presence', 22)\n",
      "(137, 'The Song Remains The Same (Disc 1)', 22)\n",
      "(138, 'The Song Remains The Same (Disc 2)', 22)\n",
      "(139, 'A TempestadeTempestade Ou O Livro Dos Dias', 99)\n",
      "(140, 'Mais Do Mesmo', 99)\n",
      "(141, 'Greatest Hits', 100)\n",
      "(142, 'Lulu Santos - RCA 100 Anos De Música - Álbum 01', 101)\n",
      "(143, 'Lulu Santos - RCA 100 Anos De Música - Álbum 02', 101)\n",
      "(144, 'Misplaced Childhood', 102)\n",
      "(145, 'Barulhinho Bom', 103)\n",
      "(146, 'Seek And Shall Find: More Of The Best (1963-1981)', 104)\n",
      "(147, 'The Best Of Men At Work', 105)\n",
      "(148, 'Black Album', 50)\n",
      "(149, 'Garage Inc. (Disc 2)', 50)\n",
      "(150, \"Kill 'Em All\", 50)\n",
      "(151, 'Load', 50)\n",
      "(152, 'Master Of Puppets', 50)\n",
      "(153, 'ReLoad', 50)\n",
      "(154, 'Ride The Lightning', 50)\n",
      "(155, 'St. Anger', 50)\n",
      "(156, '...And Justice For All', 50)\n",
      "(157, 'Miles Ahead', 68)\n",
      "(158, 'Milton Nascimento Ao Vivo', 42)\n",
      "(159, 'Minas', 42)\n",
      "(160, 'Ace Of Spades', 106)\n",
      "(161, 'Demorou...', 108)\n",
      "(162, 'Motley Crue Greatest Hits', 109)\n",
      "(163, 'From The Muddy Banks Of The Wishkah [Live]', 110)\n",
      "(164, 'Nevermind', 110)\n",
      "(165, 'Compositores', 111)\n",
      "(166, 'Olodum', 112)\n",
      "(167, 'Acústico MTV', 113)\n",
      "(168, 'Arquivo II', 113)\n",
      "(169, 'Arquivo Os Paralamas Do Sucesso', 113)\n",
      "(170, 'Bark at the Moon (Remastered)', 114)\n",
      "(171, 'Blizzard of Ozz', 114)\n",
      "(172, 'Diary of a Madman (Remastered)', 114)\n",
      "(173, 'No More Tears (Remastered)', 114)\n",
      "(174, 'Tribute', 114)\n",
      "(175, 'Walking Into Clarksdale', 115)\n",
      "(176, 'Original Soundtracks 1', 116)\n",
      "(177, 'The Beast Live', 117)\n",
      "(178, 'Live On Two Legs [Live]', 118)\n",
      "(179, 'Pearl Jam', 118)\n",
      "(180, 'Riot Act', 118)\n",
      "(181, 'Ten', 118)\n",
      "(182, 'Vs.', 118)\n",
      "(183, 'Dark Side Of The Moon', 120)\n",
      "(184, 'Os Cães Ladram Mas A Caravana Não Pára', 121)\n",
      "(185, 'Greatest Hits I', 51)\n",
      "(186, 'News Of The World', 51)\n",
      "(187, 'Out Of Time', 122)\n",
      "(188, 'Green', 124)\n",
      "(189, 'New Adventures In Hi-Fi', 124)\n",
      "(190, 'The Best Of R.E.M.: The IRS Years', 124)\n",
      "(191, 'Cesta Básica', 125)\n",
      "(192, 'Raul Seixas', 126)\n",
      "(193, 'Blood Sugar Sex Magik', 127)\n",
      "(194, 'By The Way', 127)\n",
      "(195, 'Californication', 127)\n",
      "(196, 'Retrospective I (1974-1980)', 128)\n",
      "(197, 'Santana - As Years Go By', 59)\n",
      "(198, 'Santana Live', 59)\n",
      "(199, 'Maquinarama', 130)\n",
      "(200, 'O Samba Poconé', 130)\n",
      "(201, 'Judas 0: B-Sides and Rarities', 131)\n",
      "(202, 'Rotten Apples: Greatest Hits', 131)\n",
      "(203, 'A-Sides', 132)\n",
      "(204, 'Morning Dance', 53)\n",
      "(205, 'In Step', 133)\n",
      "(206, 'Core', 134)\n",
      "(207, 'Mezmerize', 135)\n",
      "(208, '[1997] Black Light Syndrome', 136)\n",
      "(209, 'Live [Disc 1]', 137)\n",
      "(210, 'Live [Disc 2]', 137)\n",
      "(211, 'The Singles', 138)\n",
      "(212, 'Beyond Good And Evil', 139)\n",
      "(213, 'Pure Cult: The Best Of The Cult (For Rockers, Ravers, Lovers & Sinners) [UK]', 139)\n",
      "(214, 'The Doors', 140)\n",
      "(215, 'The Police Greatest Hits', 141)\n",
      "(216, 'Hot Rocks, 1964-1971 (Disc 1)', 142)\n",
      "(217, 'No Security', 142)\n",
      "(218, 'Voodoo Lounge', 142)\n",
      "(219, 'Tangents', 143)\n",
      "(220, 'Transmission', 143)\n",
      "(221, 'My Generation - The Very Best Of The Who', 144)\n",
      "(222, 'Serie Sem Limite (Disc 1)', 145)\n",
      "(223, 'Serie Sem Limite (Disc 2)', 145)\n",
      "(224, 'Acústico', 146)\n",
      "(225, 'Volume Dois', 146)\n",
      "(226, 'Battlestar Galactica: The Story So Far', 147)\n",
      "(227, 'Battlestar Galactica, Season 3', 147)\n",
      "(228, 'Heroes, Season 1', 148)\n",
      "(229, 'Lost, Season 3', 149)\n",
      "(230, 'Lost, Season 1', 149)\n",
      "(231, 'Lost, Season 2', 149)\n",
      "(232, 'Achtung Baby', 150)\n",
      "(233, \"All That You Can't Leave Behind\", 150)\n",
      "(234, 'B-Sides 1980-1990', 150)\n",
      "(235, 'How To Dismantle An Atomic Bomb', 150)\n",
      "(236, 'Pop', 150)\n",
      "(237, 'Rattle And Hum', 150)\n",
      "(238, 'The Best Of 1980-1990', 150)\n",
      "(239, 'War', 150)\n",
      "(240, 'Zooropa', 150)\n",
      "(241, 'UB40 The Best Of - Volume Two [UK]', 151)\n",
      "(242, 'Diver Down', 152)\n",
      "(243, 'The Best Of Van Halen, Vol. I', 152)\n",
      "(244, 'Van Halen', 152)\n",
      "(245, 'Van Halen III', 152)\n",
      "(246, 'Contraband', 153)\n",
      "(247, 'Vinicius De Moraes', 72)\n",
      "(248, 'Ao Vivo [IMPORT]', 155)\n",
      "(249, 'The Office, Season 1', 156)\n",
      "(250, 'The Office, Season 2', 156)\n",
      "(251, 'The Office, Season 3', 156)\n",
      "(252, 'Un-Led-Ed', 157)\n",
      "(253, 'Battlestar Galactica (Classic), Season 1', 158)\n",
      "(254, 'Aquaman', 159)\n",
      "(255, 'Instant Karma: The Amnesty International Campaign to Save Darfur', 150)\n",
      "(256, 'Speak of the Devil', 114)\n",
      "(257, '20th Century Masters - The Millennium Collection: The Best of Scorpions', 179)\n",
      "(258, 'House of Pain', 180)\n",
      "(259, 'Radio Brasil (O Som da Jovem Vanguarda) - Seleccao de Henrique Amaro', 36)\n",
      "(260, 'Cake: B-Sides and Rarities', 196)\n",
      "(261, 'LOST, Season 4', 149)\n",
      "(262, 'Quiet Songs', 197)\n",
      "(263, 'Muso Ko', 198)\n",
      "(264, 'Realize', 199)\n",
      "(265, 'Every Kind of Light', 200)\n",
      "(266, 'Duos II', 201)\n",
      "(267, 'Worlds', 202)\n",
      "(268, 'The Best of Beethoven', 203)\n",
      "(269, 'Temple of the Dog', 204)\n",
      "(270, 'Carry On', 205)\n",
      "(271, 'Revelations', 8)\n",
      "(272, 'Adorate Deum: Gregorian Chant from the Proper of the Mass', 206)\n",
      "(273, 'Allegri: Miserere', 207)\n",
      "(274, 'Pachelbel: Canon & Gigue', 208)\n",
      "(275, 'Vivaldi: The Four Seasons', 209)\n",
      "(276, 'Bach: Violin Concertos', 210)\n",
      "(277, 'Bach: Goldberg Variations', 211)\n",
      "(278, 'Bach: The Cello Suites', 212)\n",
      "(279, 'Handel: The Messiah (Highlights)', 213)\n",
      "(280, 'The World of Classical Favourites', 214)\n",
      "(281, 'Sir Neville Marriner: A Celebration', 215)\n",
      "(282, 'Mozart: Wind Concertos', 216)\n",
      "(283, 'Haydn: Symphonies 99 - 104', 217)\n",
      "(284, 'Beethoven: Symhonies Nos. 5 & 6', 218)\n",
      "(285, 'A Soprano Inspired', 219)\n",
      "(286, 'Great Opera Choruses', 220)\n",
      "(287, 'Wagner: Favourite Overtures', 221)\n",
      "(288, 'Fauré: Requiem, Ravel: Pavane & Others', 222)\n",
      "(289, 'Tchaikovsky: The Nutcracker', 223)\n",
      "(290, 'The Last Night of the Proms', 224)\n",
      "(291, 'Puccini: Madama Butterfly - Highlights', 225)\n",
      "(292, 'Holst: The Planets, Op. 32 & Vaughan Williams: Fantasies', 226)\n",
      "(293, \"Pavarotti's Opera Made Easy\", 227)\n",
      "(294, \"Great Performances - Barber's Adagio and Other Romantic Favorites for Strings\", 228)\n",
      "(295, 'Carmina Burana', 229)\n",
      "(296, 'A Copland Celebration, Vol. I', 230)\n",
      "(297, 'Bach: Toccata & Fugue in D Minor', 231)\n",
      "(298, 'Prokofiev: Symphony No.1', 232)\n",
      "(299, 'Scheherazade', 233)\n",
      "(300, 'Bach: The Brandenburg Concertos', 234)\n",
      "(301, 'Chopin: Piano Concertos Nos. 1 & 2', 235)\n",
      "(302, 'Mascagni: Cavalleria Rusticana', 236)\n",
      "(303, 'Sibelius: Finlandia', 237)\n",
      "(304, 'Beethoven Piano Sonatas: Moonlight & Pastorale', 238)\n",
      "(305, 'Great Recordings of the Century - Mahler: Das Lied von der Erde', 240)\n",
      "(306, 'Elgar: Cello Concerto & Vaughan Williams: Fantasias', 241)\n",
      "(307, 'Adams, John: The Chairman Dances', 242)\n",
      "(308, \"Tchaikovsky: 1812 Festival Overture, Op.49, Capriccio Italien & Beethoven: Wellington's Victory\", 243)\n",
      "(309, 'Palestrina: Missa Papae Marcelli & Allegri: Miserere', 244)\n",
      "(310, 'Prokofiev: Romeo & Juliet', 245)\n",
      "(311, 'Strauss: Waltzes', 226)\n",
      "(312, 'Berlioz: Symphonie Fantastique', 245)\n",
      "(313, 'Bizet: Carmen Highlights', 246)\n",
      "(314, 'English Renaissance', 247)\n",
      "(315, 'Handel: Music for the Royal Fireworks (Original Version 1749)', 208)\n",
      "(316, 'Grieg: Peer Gynt Suites & Sibelius: Pelléas et Mélisande', 248)\n",
      "(317, 'Mozart Gala: Famous Arias', 249)\n",
      "(318, 'SCRIABIN: Vers la flamme', 250)\n",
      "(319, 'Armada: Music from the Courts of England and Spain', 251)\n",
      "(320, 'Mozart: Symphonies Nos. 40 & 41', 248)\n",
      "(321, 'Back to Black', 252)\n",
      "(322, 'Frank', 252)\n",
      "(323, 'Carried to Dust (Bonus Track Version)', 253)\n",
      "(324, \"Beethoven: Symphony No. 6 'Pastoral' Etc.\", 254)\n",
      "(325, 'Bartok: Violin & Viola Concertos', 255)\n",
      "(326, \"Mendelssohn: A Midsummer Night's Dream\", 256)\n",
      "(327, 'Bach: Orchestral Suites Nos. 1 - 4', 257)\n",
      "(328, 'Charpentier: Divertissements, Airs & Concerts', 258)\n",
      "(329, 'South American Getaway', 259)\n",
      "(330, 'Górecki: Symphony No. 3', 260)\n",
      "(331, 'Purcell: The Fairy Queen', 261)\n",
      "(332, 'The Ultimate Relexation Album', 262)\n",
      "(333, 'Purcell: Music for the Queen Mary', 263)\n",
      "(334, 'Weill: The Seven Deadly Sins', 264)\n",
      "(335, 'J.S. Bach: Chaconne, Suite in E Minor, Partita in E Major & Prelude, Fugue and Allegro', 265)\n",
      "(336, 'Prokofiev: Symphony No.5 & Stravinksy: Le Sacre Du Printemps', 248)\n",
      "(337, 'Szymanowski: Piano Works, Vol. 1', 266)\n",
      "(338, 'Nielsen: The Six Symphonies', 267)\n",
      "(339, \"Great Recordings of the Century: Paganini's 24 Caprices\", 268)\n",
      "(340, \"Liszt - 12 Études D'Execution Transcendante\", 269)\n",
      "(341, 'Great Recordings of the Century - Shubert: Schwanengesang, 4 Lieder', 270)\n",
      "(342, 'Locatelli: Concertos for Violin, Strings and Continuo, Vol. 3', 271)\n",
      "(343, 'Respighi:Pines of Rome', 226)\n",
      "(344, \"Schubert: The Late String Quartets & String Quintet (3 CD's)\", 272)\n",
      "(345, \"Monteverdi: L'Orfeo\", 273)\n",
      "(346, 'Mozart: Chamber Music', 274)\n",
      "(347, 'Koyaanisqatsi (Soundtrack from the Motion Picture)', 275)\n"
     ]
    }
   ],
   "source": [
    "import sqlite3\n",
    "conn = sqlite3.connect('file:chinook.sqlite?mode=rw', uri=True)\n",
    "\n",
    "with conn:                       \n",
    "    cursore = conn.cursor()      \n",
    "    cursore.execute(\"SELECT * FROM Album\")\n",
    "    while True: # fintanto che True è vero, \n",
    "                # cioè il ciclo apparentemente non termina mai ...\n",
    "        righe = cursore.fetchmany(5)   # prende 5 righe\n",
    "        if len(righe) > 0:             # se abbiamo delle righe, le stampa\n",
    "            for riga in righe:    \n",
    "                print(riga)\n",
    "        else:                          # altrimenti interrompe\n",
    "            break                      # forzatamente il ciclo while\n",
    "            "
   ]
  },
  {
   "cell_type": "markdown",
   "metadata": {},
   "source": [
    "\n",
    "## Passare parametri alla query\n",
    "\n",
    "E se volessimo passare agevolmente dei parametri alla query, come per esempio il numero dei risultati da ottenere? Per fare ciò possiamo usare dei cosiddetti _placeholder_, cioè dei caratteri punto di domanda `?` che segnano dove vorremmo mettere le variabili. In questo caso sistituiremo il `5` con un punto di domanda, e passeremo il `5` in una lista di parametri a parte: "
   ]
  },
  {
   "cell_type": "code",
   "execution_count": 5,
   "metadata": {},
   "outputs": [
    {
     "name": "stdout",
     "output_type": "stream",
     "text": [
      "(1, 'For Those About To Rock We Salute You', 1)\n",
      "(2, 'Balls to the Wall', 2)\n",
      "(3, 'Restless and Wild', 2)\n",
      "(4, 'Let There Be Rock', 1)\n",
      "(5, 'Big Ones', 3)\n"
     ]
    }
   ],
   "source": [
    "import sqlite3\n",
    "conn = sqlite3.connect('file:chinook.sqlite?mode=rw', uri=True)\n",
    "\n",
    "\n",
    "with conn:                       # col blocco with\n",
    "                                 # ci cauteliamo da errori imprevisti\n",
    "    cursore = conn.cursor()      # otteniamo il cursore\n",
    "    \n",
    "    # eseguiamo una query in linguaggio SQL al database \n",
    "    # notare che execute di per sè non ritorna \n",
    "    cursore.execute(\"SELECT * FROM Album LIMIT ?\", [5]) \n",
    "                                                        \n",
    "    \n",
    "    for riga in cursore.fetchall():  # cursore fetchall() genera una sequenza \n",
    "                                     # di righe di risultato della query. \n",
    "                                     # in sequenza, le righe una alla volta\n",
    "                                     # vengono assegnate'oggetto `riga`\n",
    "        print(riga)                  # stampiamo la riga ottenuta"
   ]
  },
  {
   "cell_type": "markdown",
   "metadata": {},
   "source": [
    "Si possono anche aggiungere più punti di domanda, basta per ognuno passare il corrispondente parametro nella lista: "
   ]
  },
  {
   "cell_type": "code",
   "execution_count": 6,
   "metadata": {},
   "outputs": [
    {
     "name": "stdout",
     "output_type": "stream",
     "text": [
      "(1, 'For Those About To Rock We Salute You', 1)\n",
      "(2, 'Balls to the Wall', 2)\n",
      "(3, 'Restless and Wild', 2)\n",
      "(4, 'Let There Be Rock', 1)\n",
      "(5, 'Big Ones', 3)\n",
      "(6, 'Jagged Little Pill', 4)\n"
     ]
    }
   ],
   "source": [
    "import sqlite3\n",
    "conn = sqlite3.connect('file:chinook.sqlite?mode=rw', uri=True)\n",
    "\n",
    "\n",
    "with conn:     # col blocco with ci cauteliamo da errori imprevisti\n",
    "    cursore = conn.cursor()      # otteniamo il cursore\n",
    "    cursore.execute(\"SELECT * FROM Album WHERE AlbumId < ? AND ArtistId < ?\",\n",
    "                    [30,5])\n",
    "    \n",
    "    for riga in cursore.fetchall():  # cursore fetchall() genera una sequenza\n",
    "                                     # di righe di risultato della query. \n",
    "                                     # in sequenza, le righe una alla volta \n",
    "                                     # vengono assegnate'oggetto `riga`\n",
    "        print(riga)                  # stampiamo la riga ottenuta"
   ]
  },
  {
   "cell_type": "markdown",
   "metadata": {},
   "source": [
    "## Funzione Esegui Query\n",
    "\n",
    "Per agevolare le prossime operazioni, ci definiamo una funzione `esegui` che esegue le query che desideriamo e ritorna la lista delle righe ottenute:\n",
    "\n",
    "**IMPORTANTE**: Fai `Ctrl+Invio` nella cella seguente così Python in seguito riconoscerà la funzione:"
   ]
  },
  {
   "cell_type": "code",
   "execution_count": 7,
   "metadata": {},
   "outputs": [],
   "source": [
    "def esegui(conn, query, params=()):\n",
    "    \"\"\"\n",
    "    Esegue una query usando la connessione conn, \n",
    "    e ritorna la lista di risultati ottenuti.\n",
    "     \n",
    "    In params, possiamo mettere una lista di parametri\n",
    "    con i parametri per la nostra query. \n",
    "    \"\"\"\n",
    "    with conn:\n",
    "        cur = conn.cursor()\n",
    "        cur.execute(query, params)\n",
    "        return cur.fetchall()"
   ]
  },
  {
   "cell_type": "markdown",
   "metadata": {},
   "source": [
    "Facciamo una prova: "
   ]
  },
  {
   "cell_type": "code",
   "execution_count": 8,
   "metadata": {},
   "outputs": [
    {
     "data": {
      "text/plain": [
       "[(1, 'For Those About To Rock We Salute You', 1),\n",
       " (2, 'Balls to the Wall', 2),\n",
       " (3, 'Restless and Wild', 2),\n",
       " (4, 'Let There Be Rock', 1),\n",
       " (5, 'Big Ones', 3)]"
      ]
     },
     "execution_count": 8,
     "metadata": {},
     "output_type": "execute_result"
    }
   ],
   "source": [
    "import sqlite3\n",
    "conn = sqlite3.connect('file:chinook.sqlite?mode=rw', uri=True)\n",
    "\n",
    "esegui(conn, \"SELECT * FROM Album LIMIT 5\")"
   ]
  },
  {
   "cell_type": "markdown",
   "metadata": {},
   "source": [
    "Meglio ancora, per maggiore chiarezza possiamo scrivere la query usando una stringa su più linee con le triple doppie virgolette all'inizio e alla fine:"
   ]
  },
  {
   "cell_type": "code",
   "execution_count": 9,
   "metadata": {},
   "outputs": [
    {
     "data": {
      "text/plain": [
       "[(1, 'For Those About To Rock We Salute You', 1),\n",
       " (2, 'Balls to the Wall', 2),\n",
       " (3, 'Restless and Wild', 2),\n",
       " (4, 'Let There Be Rock', 1),\n",
       " (5, 'Big Ones', 3)]"
      ]
     },
     "execution_count": 9,
     "metadata": {},
     "output_type": "execute_result"
    }
   ],
   "source": [
    "import sqlite3\n",
    "conn = sqlite3.connect('file:chinook.sqlite?mode=rw', uri=True)\n",
    "\n",
    "\n",
    "esegui(conn, \"\"\"\n",
    "SELECT * \n",
    "FROM Album \n",
    "LIMIT 5\n",
    "\"\"\")"
   ]
  },
  {
   "cell_type": "markdown",
   "metadata": {},
   "source": [
    "Proviamo a passare dei parametri: "
   ]
  },
  {
   "cell_type": "code",
   "execution_count": 10,
   "metadata": {},
   "outputs": [
    {
     "data": {
      "text/plain": [
       "[(1, 'For Those About To Rock We Salute You', 1),\n",
       " (2, 'Balls to the Wall', 2),\n",
       " (3, 'Restless and Wild', 2),\n",
       " (4, 'Let There Be Rock', 1),\n",
       " (5, 'Big Ones', 3),\n",
       " (6, 'Jagged Little Pill', 4)]"
      ]
     },
     "execution_count": 10,
     "metadata": {},
     "output_type": "execute_result"
    }
   ],
   "source": [
    "esegui(conn, \"\"\"\n",
    "SELECT * \n",
    "FROM Album\n",
    "WHERE AlbumId < ? AND ArtistId < ?\n",
    "\"\"\", [30, 5])"
   ]
  },
  {
   "cell_type": "markdown",
   "metadata": {},
   "source": [
    "**ESERCIZIO**: In SQLStudio, creare una query che seleziona gli album con id compreso tra 3 e 5 inclusi: \n",
    "\n",
    "1. apri il query editor con `Alt+E`\n",
    "2. immetti la query\n",
    "3. eseguila premendo F9\n",
    "\n",
    "**ESERCIZIO**: chiama `esegui` per eseguire la stessa query, usando i parametri"
   ]
  },
  {
   "cell_type": "raw",
   "id": "27a61ba5",
   "metadata": {
    "format": "text/html"
   },
   "source": [
    "<a  class=\"jupman-sol jupman-sol-toggler\" \n",
    " onclick=\"jupman.toggleSolution(this);\" \n",
    " data-jupman-show=\"Mostra soluzione\" data-jupman-hide=\"Nascondi\">Mostra soluzione</a><div class=\"jupman-sol jupman-sol-code\" style=\"display:none\">  "
   ]
  },
  {
   "cell_type": "code",
   "execution_count": 11,
   "metadata": {},
   "outputs": [
    {
     "data": {
      "text/plain": [
       "[(3, 'Restless and Wild', 2), (4, 'Let There Be Rock', 1), (5, 'Big Ones', 3)]"
      ]
     },
     "execution_count": 11,
     "metadata": {},
     "output_type": "execute_result"
    }
   ],
   "source": [
    "# scrivi qui il comando\n",
    "\n",
    "esegui(conn,\n",
    "\"\"\"\n",
    "SELECT * FROM Album\n",
    "WHERE AlbumId >= ? AND AlbumId <= ?\n",
    "\"\"\", (3, 5))\n"
   ]
  },
  {
   "cell_type": "raw",
   "id": "20d1ea07",
   "metadata": {
    "format": "text/html"
   },
   "source": [
    "</div>"
   ]
  },
  {
   "cell_type": "code",
   "execution_count": 11,
   "metadata": {},
   "outputs": [
    {
     "data": {
      "text/plain": [
       "[(3, 'Restless and Wild', 2), (4, 'Let There Be Rock', 1), (5, 'Big Ones', 3)]"
      ]
     },
     "execution_count": 11,
     "metadata": {},
     "output_type": "execute_result"
    }
   ],
   "source": [
    "# scrivi qui il comando\n",
    "\n"
   ]
  },
  {
   "cell_type": "markdown",
   "metadata": {},
   "source": [
    "### Struttura della tabella\n",
    "\n",
    "**ESERCIZIO**: Guarda meglio la tab `Structure` di `Album`:\n",
    "\n",
    "![album-structure-328239](img/album-structure.png)"
   ]
  },
  {
   "cell_type": "markdown",
   "metadata": {},
   "source": [
    "### DDL\n",
    "\n",
    "Confronta quanto sopra con la tab `DDL` (Data Definition Language), che contiene le istruzioni SQL per creare la tabella nel database:\n",
    "\n",
    "![album-ddl-394823](img/album-ddl.png)"
   ]
  },
  {
   "cell_type": "markdown",
   "metadata": {},
   "source": [
    "Una caratteristica dei database è la possibilità di dichiarare vincoli sui dati inseriti. Per esempio, qua notiamo che\n",
    "\n",
    "* la tabella ha una cosiddetta _chiave primaria_ (`PRIMARY KEY`): in essa asserisce che non possono esistere due righe con lo stesso `AlbumId`\n",
    "\n",
    "* la tabella definisce la colonna `ArtistId` come _chiave esterna_ (`FOREIGN KEY`), asserendo che ai valori in quella colonna deve sempre corrispondere un id esistente nella colonna `ArtistId` **della tabella** `Artist`. Quindi non ci si potrà mai riferire ad un artista non esistente\n",
    "\n",
    "**ESERCIZIO**: Vai alla tab `Data` e prova a cambiare un `ArtistId` mettendo un numero inesistente (tipo 1000). Apparentemente il database non si lamenterà, ma solo perchè al momento non abbiamo ancora registrato il cambiamento su disco, cioè non abbiamo operato una operazione di _commit_. I commit ci permettono di eseguire più operazioni in modo atomico, nel senso che o tutti i cambiamenti fatti vengono registrati con successo, o non viene fatta nessuna modifica. Prova ad eseguire un commit premendo il bottoncino verde con la spunta (o premere Ctrl-Return). Che succede? Per riparare al danno fatto, esegui _rollback_ col bottoncino rosso con la x (o premi Ctrl-Backspace).  \n",
    "\n"
   ]
  },
  {
   "cell_type": "markdown",
   "metadata": {},
   "source": [
    "### Query ai metadati\n",
    "\n",
    "Una cosa interessante e a volte utile di molti database SQL è che spesso i metadati sul tipo di tabelle nel database sono salvate essi stessi come tabelle, quindi è possibile eseguire query SQL su questi metadati. Per esempio, con SQLite si può eseguire una query del genere. Non la spieghiamo nel dettaglio, limitandoci a mostrare qualche esempio di utilizzo:"
   ]
  },
  {
   "cell_type": "code",
   "execution_count": 12,
   "metadata": {},
   "outputs": [],
   "source": [
    "def query_schema(conn, tabella):\n",
    "    \"\"\" Ritorna una stringa con le istruzioni SQL per creare \n",
    "        la tabella (senza i dati)  \n",
    "    \"\"\"\n",
    "    return esegui(conn, \"\"\"\n",
    "    SELECT sql FROM sqlite_master \n",
    "    WHERE name = ?\n",
    "    \"\"\", (tabella,))[0][0]"
   ]
  },
  {
   "cell_type": "code",
   "execution_count": 13,
   "metadata": {
    "scrolled": true
   },
   "outputs": [
    {
     "name": "stdout",
     "output_type": "stream",
     "text": [
      "CREATE TABLE [Album]\n",
      "(\n",
      "    [AlbumId] INTEGER  NOT NULL,\n",
      "    [Title] NVARCHAR(160)  NOT NULL,\n",
      "    [ArtistId] INTEGER  NOT NULL,\n",
      "    CONSTRAINT [PK_Album] PRIMARY KEY  ([AlbumId]),\n",
      "    FOREIGN KEY ([ArtistId]) REFERENCES [Artist] ([ArtistId]) \n",
      "\t\tON DELETE NO ACTION ON UPDATE NO ACTION\n",
      ")\n"
     ]
    }
   ],
   "source": [
    "import sqlite3\n",
    "conn = sqlite3.connect('file:chinook.sqlite?mode=rw', uri=True)\n",
    "\n",
    "\n",
    "print(query_schema(conn, 'Album'))"
   ]
  },
  {
   "cell_type": "markdown",
   "metadata": {},
   "source": [
    "## ORDER BY\n",
    "\n",
    "Spesso vorremo ordinare il risultato in base a qualche colonna, per farlo possiamo aggiungere la clausola `ORDER BY`:\n",
    "\n",
    "**NOTA**: se aggiungiamo LIMIT, questo viene applicato DOPO che l'ordinamento è stato fatto"
   ]
  },
  {
   "cell_type": "code",
   "execution_count": 14,
   "metadata": {},
   "outputs": [
    {
     "data": {
      "text/plain": [
       "[(156, '...And Justice For All', 50),\n",
       " (257,\n",
       "  '20th Century Masters - The Millennium Collection: The Best of Scorpions',\n",
       "  179),\n",
       " (296, 'A Copland Celebration, Vol. I', 230),\n",
       " (94, 'A Matter of Life and Death', 90),\n",
       " (95, 'A Real Dead One', 90),\n",
       " (96, 'A Real Live One', 90),\n",
       " (285, 'A Soprano Inspired', 219),\n",
       " (139, 'A TempestadeTempestade Ou O Livro Dos Dias', 99),\n",
       " (203, 'A-Sides', 132),\n",
       " (160, 'Ace Of Spades', 106)]"
      ]
     },
     "execution_count": 14,
     "metadata": {},
     "output_type": "execute_result"
    }
   ],
   "source": [
    "esegui(conn, \"\"\"\n",
    "SELECT * \n",
    "FROM Album \n",
    "ORDER BY Album.Title\n",
    "LIMIT 10\n",
    "\"\"\")"
   ]
  },
  {
   "cell_type": "markdown",
   "metadata": {},
   "source": [
    "Per ordinare in ordine decrescente possiamo aggiungere DESC:"
   ]
  },
  {
   "cell_type": "code",
   "execution_count": 15,
   "metadata": {},
   "outputs": [
    {
     "data": {
      "text/plain": [
       "[(208, '[1997] Black Light Syndrome', 136),\n",
       " (240, 'Zooropa', 150),\n",
       " (267, 'Worlds', 202),\n",
       " (334, 'Weill: The Seven Deadly Sins', 264),\n",
       " (8, 'Warner 25 Anos', 6),\n",
       " (239, 'War', 150),\n",
       " (175, 'Walking Into Clarksdale', 115),\n",
       " (287, 'Wagner: Favourite Overtures', 221),\n",
       " (182, 'Vs.', 118),\n",
       " (53, 'Vozes do MPB', 21)]"
      ]
     },
     "execution_count": 15,
     "metadata": {},
     "output_type": "execute_result"
    }
   ],
   "source": [
    "esegui(conn, \"\"\"\n",
    "SELECT * \n",
    "FROM Album \n",
    "ORDER BY Album.Title DESC\n",
    "LIMIT 10\n",
    "\"\"\")"
   ]
  },
  {
   "cell_type": "markdown",
   "metadata": {},
   "source": [
    "## JOIN\n",
    "\n",
    "Nella tabella `Album` per gli artisti vediamo solo dei numeri. Come possiamo fare una query per vedere anche i nomi degli artisti? Useremo il comando SQL `JOIN` : "
   ]
  },
  {
   "cell_type": "markdown",
   "metadata": {},
   "source": [
    "**ESERCIZIO**: Per capire cosa succede, esegui le query in SQLStudio"
   ]
  },
  {
   "cell_type": "code",
   "execution_count": 16,
   "metadata": {},
   "outputs": [
    {
     "data": {
      "text/plain": [
       "[(1, 'For Those About To Rock We Salute You', 1, 1, 'AC/DC'),\n",
       " (2, 'Balls to the Wall', 2, 2, 'Accept'),\n",
       " (3, 'Restless and Wild', 2, 2, 'Accept'),\n",
       " (4, 'Let There Be Rock', 1, 1, 'AC/DC'),\n",
       " (5, 'Big Ones', 3, 3, 'Aerosmith')]"
      ]
     },
     "execution_count": 16,
     "metadata": {},
     "output_type": "execute_result"
    }
   ],
   "source": [
    "esegui(conn, \"\"\"\n",
    "SELECT * \n",
    "FROM Album JOIN Artist \n",
    "WHERE Album.ArtistId = Artist.ArtistId \n",
    "LIMIT 5\n",
    "\"\"\")"
   ]
  },
  {
   "cell_type": "markdown",
   "metadata": {},
   "source": [
    "Invece del JOIN possiamo usare una virgola:"
   ]
  },
  {
   "cell_type": "code",
   "execution_count": 17,
   "metadata": {},
   "outputs": [
    {
     "data": {
      "text/plain": [
       "[(1, 'For Those About To Rock We Salute You', 1, 1, 'AC/DC'),\n",
       " (2, 'Balls to the Wall', 2, 2, 'Accept'),\n",
       " (3, 'Restless and Wild', 2, 2, 'Accept'),\n",
       " (4, 'Let There Be Rock', 1, 1, 'AC/DC'),\n",
       " (5, 'Big Ones', 3, 3, 'Aerosmith')]"
      ]
     },
     "execution_count": 17,
     "metadata": {},
     "output_type": "execute_result"
    }
   ],
   "source": [
    "esegui(conn, \"\"\"\n",
    "SELECT * FROM Album, Artist \n",
    "WHERE Album.ArtistId = Artist.ArtistId \n",
    "LIMIT 5\n",
    "\"\"\")"
   ]
  },
  {
   "cell_type": "markdown",
   "metadata": {},
   "source": [
    "Meglio ancora, in questo caso visto che abbiamo lo stesso nome di colonna in  entrambe le tabelle, possiamo usare la clausola `USING` che ha anche il beneficio di eliminare la colonna duplicata\n",
    "\n",
    "**NOTA**: Per ragioni oscure, in SQLiteStudio la colonna `ArtistId` appare comunque duplicata con nome `ArtistiId:1`"
   ]
  },
  {
   "cell_type": "code",
   "execution_count": 18,
   "metadata": {},
   "outputs": [
    {
     "data": {
      "text/plain": [
       "[(1, 'For Those About To Rock We Salute You', 1, 'AC/DC'),\n",
       " (2, 'Balls to the Wall', 2, 'Accept'),\n",
       " (3, 'Restless and Wild', 2, 'Accept'),\n",
       " (4, 'Let There Be Rock', 1, 'AC/DC'),\n",
       " (5, 'Big Ones', 3, 'Aerosmith')]"
      ]
     },
     "execution_count": 18,
     "metadata": {},
     "output_type": "execute_result"
    }
   ],
   "source": [
    "esegui(conn, \"\"\"\n",
    "SELECT * \n",
    "FROM Album, Artist USING(ArtistId)\n",
    "LIMIT 5\n",
    "\"\"\")"
   ]
  },
  {
   "cell_type": "markdown",
   "metadata": {},
   "source": [
    "Infine possiamo selezionare solo le colonne che ci interessano, `Title` di album e `Name` di `Artisti`. Per chiarezza, possiamo identificare le tabelle con variabili che assegnamo in FROM (qua usiamo i nomi `ALB` e `ART` ma potrebbero essere qualsiasi): "
   ]
  },
  {
   "cell_type": "code",
   "execution_count": 19,
   "metadata": {},
   "outputs": [
    {
     "data": {
      "text/plain": [
       "[('For Those About To Rock We Salute You', 'AC/DC'),\n",
       " ('Balls to the Wall', 'Accept'),\n",
       " ('Restless and Wild', 'Accept'),\n",
       " ('Let There Be Rock', 'AC/DC'),\n",
       " ('Big Ones', 'Aerosmith')]"
      ]
     },
     "execution_count": 19,
     "metadata": {},
     "output_type": "execute_result"
    }
   ],
   "source": [
    "esegui(conn, \"\"\"\n",
    "SELECT ALB.Title, ART.Name  \n",
    "FROM Album ALB, Artist ART USING(ArtistId) \n",
    "LIMIT 5\n",
    "\"\"\")"
   ]
  },
  {
   "cell_type": "markdown",
   "metadata": {},
   "source": [
    "## Tabella Track\n",
    "\n",
    "Passiamo adesso ad una tabella più complessa, come `Track`, che contiene canzoni ascoltate dagli utenti di iTunes: "
   ]
  },
  {
   "cell_type": "code",
   "execution_count": 20,
   "metadata": {},
   "outputs": [
    {
     "data": {
      "text/plain": [
       "[(1,\n",
       "  'For Those About To Rock (We Salute You)',\n",
       "  1,\n",
       "  1,\n",
       "  1,\n",
       "  'Angus Young, Malcolm Young, Brian Johnson',\n",
       "  343719,\n",
       "  11170334,\n",
       "  0.99),\n",
       " (2, 'Balls to the Wall', 2, 2, 1, None, 342562, 5510424, 0.99),\n",
       " (3,\n",
       "  'Fast As a Shark',\n",
       "  3,\n",
       "  2,\n",
       "  1,\n",
       "  'F. Baltes, S. Kaufman, U. Dirkscneider & W. Hoffman',\n",
       "  230619,\n",
       "  3990994,\n",
       "  0.99),\n",
       " (4,\n",
       "  'Restless and Wild',\n",
       "  3,\n",
       "  2,\n",
       "  1,\n",
       "  'F. Baltes, R.A. Smith-Diesel, S. Kaufman, U. Dirkscneider & W. Hoffman',\n",
       "  252051,\n",
       "  4331779,\n",
       "  0.99),\n",
       " (5,\n",
       "  'Princess of the Dawn',\n",
       "  3,\n",
       "  2,\n",
       "  1,\n",
       "  'Deaffy & R.A. Smith-Diesel',\n",
       "  375418,\n",
       "  6290521,\n",
       "  0.99)]"
      ]
     },
     "execution_count": 20,
     "metadata": {},
     "output_type": "execute_result"
    }
   ],
   "source": [
    "esegui(conn, \"SELECT * FROM Track LIMIT 5\")"
   ]
  },
  {
   "cell_type": "code",
   "execution_count": 21,
   "metadata": {},
   "outputs": [
    {
     "data": {
      "text/plain": [
       "'CREATE TABLE [Track]\\n(\\n    [TrackId] INTEGER  NOT NULL,\\n    [Name] NVARCHAR(200)  NOT NULL,\\n    [AlbumId] INTEGER,\\n    [MediaTypeId] INTEGER  NOT NULL,\\n    [GenreId] INTEGER,\\n    [Composer] NVARCHAR(220),\\n    [Milliseconds] INTEGER  NOT NULL,\\n    [Bytes] INTEGER,\\n    [UnitPrice] NUMERIC(10,2)  NOT NULL,\\n    CONSTRAINT [PK_Track] PRIMARY KEY  ([TrackId]),\\n    FOREIGN KEY ([AlbumId]) REFERENCES [Album] ([AlbumId]) \\n\\t\\tON DELETE NO ACTION ON UPDATE NO ACTION,\\n    FOREIGN KEY ([GenreId]) REFERENCES [Genre] ([GenreId]) \\n\\t\\tON DELETE NO ACTION ON UPDATE NO ACTION,\\n    FOREIGN KEY ([MediaTypeId]) REFERENCES [MediaType] ([MediaTypeId]) \\n\\t\\tON DELETE NO ACTION ON UPDATE NO ACTION\\n)'"
      ]
     },
     "execution_count": 21,
     "metadata": {},
     "output_type": "execute_result"
    }
   ],
   "source": [
    "query_schema(conn, \"Track\")"
   ]
  },
  {
   "cell_type": "code",
   "execution_count": 22,
   "metadata": {},
   "outputs": [
    {
     "name": "stdout",
     "output_type": "stream",
     "text": [
      "CREATE TABLE [Track]\n",
      "(\n",
      "    [TrackId] INTEGER  NOT NULL,\n",
      "    [Name] NVARCHAR(200)  NOT NULL,\n",
      "    [AlbumId] INTEGER,\n",
      "    [MediaTypeId] INTEGER  NOT NULL,\n",
      "    [GenreId] INTEGER,\n",
      "    [Composer] NVARCHAR(220),\n",
      "    [Milliseconds] INTEGER  NOT NULL,\n",
      "    [Bytes] INTEGER,\n",
      "    [UnitPrice] NUMERIC(10,2)  NOT NULL,\n",
      "    CONSTRAINT [PK_Track] PRIMARY KEY  ([TrackId]),\n",
      "    FOREIGN KEY ([AlbumId]) REFERENCES [Album] ([AlbumId]) \n",
      "\t\tON DELETE NO ACTION ON UPDATE NO ACTION,\n",
      "    FOREIGN KEY ([GenreId]) REFERENCES [Genre] ([GenreId]) \n",
      "\t\tON DELETE NO ACTION ON UPDATE NO ACTION,\n",
      "    FOREIGN KEY ([MediaTypeId]) REFERENCES [MediaType] ([MediaTypeId]) \n",
      "\t\tON DELETE NO ACTION ON UPDATE NO ACTION\n",
      ")\n"
     ]
    }
   ],
   "source": [
    "print(query_schema(conn, \"Track\"))"
   ]
  },
  {
   "cell_type": "code",
   "execution_count": 23,
   "metadata": {},
   "outputs": [
    {
     "data": {
      "text/plain": [
       "[('For Those About To Rock (We Salute You)',\n",
       "  'Angus Young, Malcolm Young, Brian Johnson'),\n",
       " ('Balls to the Wall', None),\n",
       " ('Fast As a Shark', 'F. Baltes, S. Kaufman, U. Dirkscneider & W. Hoffman'),\n",
       " ('Restless and Wild',\n",
       "  'F. Baltes, R.A. Smith-Diesel, S. Kaufman, U. Dirkscneider & W. Hoffman'),\n",
       " ('Princess of the Dawn', 'Deaffy & R.A. Smith-Diesel')]"
      ]
     },
     "execution_count": 23,
     "metadata": {},
     "output_type": "execute_result"
    }
   ],
   "source": [
    "esegui(conn, \"\"\"\n",
    "SELECT Name, Composer \n",
    "FROM Track \n",
    "LIMIT 5\n",
    "\"\"\")"
   ]
  },
  {
   "cell_type": "code",
   "execution_count": 24,
   "metadata": {},
   "outputs": [
    {
     "data": {
      "text/plain": [
       "('For Those About To Rock (We Salute You)',\n",
       " 'Angus Young, Malcolm Young, Brian Johnson')"
      ]
     },
     "execution_count": 24,
     "metadata": {},
     "output_type": "execute_result"
    }
   ],
   "source": [
    "esegui(conn, \"\"\"\n",
    "SELECT Name, Composer \n",
    "FROM Track\n",
    "LIMIT 5\n",
    "\"\"\")[0]"
   ]
  },
  {
   "cell_type": "markdown",
   "metadata": {},
   "source": [
    "Per la seconda riga: "
   ]
  },
  {
   "cell_type": "code",
   "execution_count": 25,
   "metadata": {},
   "outputs": [
    {
     "data": {
      "text/plain": [
       "('Balls to the Wall', None)"
      ]
     },
     "execution_count": 25,
     "metadata": {},
     "output_type": "execute_result"
    }
   ],
   "source": [
    "esegui(conn, \"\"\"\n",
    "SELECT Name, Composer\n",
    "FROM Track\n",
    "LIMIT 5\n",
    "\"\"\")[1]"
   ]
  },
  {
   "cell_type": "markdown",
   "metadata": {},
   "source": [
    "Notiamo che in questo caso manca il compositore. Ma sorge una domanda: nella tabella originale SQL, come era segnato il fatto che il compositore mancasse?\n",
    "\n",
    "**ESERCIZIO**: Usando SQLiteStudio, nel menu a sinistra fai doppio click sulla tabella `Track` e  poi seleziona la tab `Data` a destra. Scorri le righe finchè non trovi la casella per la colonna `Composer`."
   ]
  },
  {
   "cell_type": "raw",
   "id": "3e280dde",
   "metadata": {
    "format": "text/html"
   },
   "source": [
    "<a  class=\"jupman-sol jupman-sol-toggler\" \n",
    " onclick=\"jupman.toggleSolution(this);\" \n",
    " data-jupman-show=\"Mostra risposta\" data-jupman-hide=\"Nascondi\">Mostra risposta</a><div class=\"jupman-sol jupman-sol-question\" style=\"display:none\">  "
   ]
  },
  {
   "cell_type": "markdown",
   "metadata": {},
   "source": [
    "**RISPOSTA**:\n",
    "\n",
    "Notiamo che in SQL le caselle vuote si indicano con `NULL`. Dato che `NULL` non è un tipo Python, durante la conversione da oggetti SQL a oggetti Python `NULL` viene convertito nell'oggetto Python `None`."
   ]
  },
  {
   "cell_type": "raw",
   "id": "ed7d5246",
   "metadata": {
    "format": "text/html"
   },
   "source": [
    "</div>"
   ]
  },
  {
   "cell_type": "markdown",
   "metadata": {},
   "source": [
    "Proviamo a selezionare dei valori numerici alla nostra query, come per esempio i `Milliseconds`"
   ]
  },
  {
   "cell_type": "code",
   "execution_count": 26,
   "metadata": {},
   "outputs": [
    {
     "data": {
      "text/plain": [
       "[('For Those About To Rock (We Salute You)', 343719),\n",
       " ('Balls to the Wall', 342562),\n",
       " ('Fast As a Shark', 230619),\n",
       " ('Restless and Wild', 252051),\n",
       " ('Princess of the Dawn', 375418)]"
      ]
     },
     "execution_count": 26,
     "metadata": {},
     "output_type": "execute_result"
    }
   ],
   "source": [
    "esegui(conn, \"\"\"\n",
    "SELECT Name, Milliseconds \n",
    "FROM Track \n",
    "LIMIT 5\n",
    "\"\"\")"
   ]
  },
  {
   "cell_type": "code",
   "execution_count": 27,
   "metadata": {},
   "outputs": [
    {
     "data": {
      "text/plain": [
       "('For Those About To Rock (We Salute You)', 343719)"
      ]
     },
     "execution_count": 27,
     "metadata": {},
     "output_type": "execute_result"
    }
   ],
   "source": [
    "esegui(conn, \"\"\"\n",
    "SELECT Name, Milliseconds \n",
    "FROM Track \n",
    "LIMIT 5\n",
    "\"\"\")[0]"
   ]
  },
  {
   "cell_type": "code",
   "execution_count": 28,
   "metadata": {},
   "outputs": [
    {
     "data": {
      "text/plain": [
       "'For Those About To Rock (We Salute You)'"
      ]
     },
     "execution_count": 28,
     "metadata": {},
     "output_type": "execute_result"
    }
   ],
   "source": [
    "esegui(conn, \"\"\"\n",
    "SELECT Name, Milliseconds\n",
    "FROM Track\n",
    "LIMIT 5\n",
    "\"\"\")[0][0]"
   ]
  },
  {
   "cell_type": "code",
   "execution_count": 29,
   "metadata": {},
   "outputs": [
    {
     "data": {
      "text/plain": [
       "343719"
      ]
     },
     "execution_count": 29,
     "metadata": {},
     "output_type": "execute_result"
    }
   ],
   "source": [
    "esegui(conn, \"\"\"\n",
    "SELECT Name, Milliseconds \n",
    "FROM Track \n",
    "LIMIT 5\n",
    "\"\"\")[0][1]"
   ]
  },
  {
   "cell_type": "code",
   "execution_count": 30,
   "metadata": {},
   "outputs": [
    {
     "data": {
      "text/plain": [
       "[('Occupation / Precipice', 5286953),\n",
       " ('Through a Looking Glass', 5088838),\n",
       " ('Greetings from Earth, Pt. 1', 2960293),\n",
       " ('The Man With Nine Lives', 2956998),\n",
       " ('Battlestar Galactica, Pt. 2', 2956081)]"
      ]
     },
     "execution_count": 30,
     "metadata": {},
     "output_type": "execute_result"
    }
   ],
   "source": [
    "esegui(conn, \"\"\"\n",
    "SELECT Name, Milliseconds \n",
    "FROM Track \n",
    "ORDER BY Milliseconds DESC \n",
    "LIMIT 5\n",
    "\"\"\")"
   ]
  },
  {
   "cell_type": "markdown",
   "metadata": {},
   "source": [
    "**ESERCIZIO**: Prova ad usare `ASC` invece di `DESC`"
   ]
  },
  {
   "cell_type": "raw",
   "id": "f6a5b2ea",
   "metadata": {
    "format": "text/html"
   },
   "source": [
    "<a  class=\"jupman-sol jupman-sol-toggler\" \n",
    " onclick=\"jupman.toggleSolution(this);\" \n",
    " data-jupman-show=\"Mostra soluzione\" data-jupman-hide=\"Nascondi\">Mostra soluzione</a><div class=\"jupman-sol jupman-sol-code\" style=\"display:none\">  "
   ]
  },
  {
   "cell_type": "code",
   "execution_count": 31,
   "metadata": {},
   "outputs": [
    {
     "data": {
      "text/plain": [
       "[('É Uma Partida De Futebol', 'Samuel Rosa', 1071),\n",
       " ('Now Sports', None, 4884),\n",
       " ('A Statistic', None, 6373),\n",
       " ('Oprah', None, 6635),\n",
       " ('Commercial 1', 'L. Muggerud', 7941)]"
      ]
     },
     "execution_count": 31,
     "metadata": {},
     "output_type": "execute_result"
    }
   ],
   "source": [
    "# scrivi qui la query\n",
    "\n",
    "esegui(conn, \"\"\"\n",
    "SELECT Name, Composer, Milliseconds \n",
    "FROM Track \n",
    "ORDER BY Milliseconds ASC \n",
    "LIMIT 5\n",
    "\"\"\")"
   ]
  },
  {
   "cell_type": "raw",
   "id": "d1b730ec",
   "metadata": {
    "format": "text/html"
   },
   "source": [
    "</div>"
   ]
  },
  {
   "cell_type": "code",
   "execution_count": 31,
   "metadata": {},
   "outputs": [
    {
     "data": {
      "text/plain": [
       "[('É Uma Partida De Futebol', 'Samuel Rosa', 1071),\n",
       " ('Now Sports', None, 4884),\n",
       " ('A Statistic', None, 6373),\n",
       " ('Oprah', None, 6635),\n",
       " ('Commercial 1', 'L. Muggerud', 7941)]"
      ]
     },
     "execution_count": 31,
     "metadata": {},
     "output_type": "execute_result"
    }
   ],
   "source": [
    "# scrivi qui la query\n",
    "\n"
   ]
  },
  {
   "cell_type": "markdown",
   "metadata": {},
   "source": [
    "## Aggregare i dati"
   ]
  },
  {
   "cell_type": "markdown",
   "metadata": {},
   "source": [
    "### COUNT\n",
    "\n",
    "Per contare quante righe ci sono in una tabella, possiamo usare la parola chiave `COUNT(*)` nella `SELECT`. Per esempio, per vedere quante tracce ci sono, possiamo fare così: "
   ]
  },
  {
   "cell_type": "code",
   "execution_count": 32,
   "metadata": {},
   "outputs": [
    {
     "data": {
      "text/plain": [
       "[(3503,)]"
      ]
     },
     "execution_count": 32,
     "metadata": {},
     "output_type": "execute_result"
    }
   ],
   "source": [
    "esegui(conn, \"\"\"\n",
    "SELECT COUNT(*)\n",
    "FROM Track \n",
    "\"\"\")"
   ]
  },
  {
   "cell_type": "markdown",
   "metadata": {},
   "source": [
    "**DOMANDA**: è molto meglio fare così, invece che prelevare tutte le righe in Python e contare con `len`. Perchè?"
   ]
  },
  {
   "cell_type": "raw",
   "id": "5e00f8a5",
   "metadata": {
    "format": "text/html"
   },
   "source": [
    "<a  class=\"jupman-sol jupman-sol-toggler\" \n",
    " onclick=\"jupman.toggleSolution(this);\" \n",
    " data-jupman-show=\"Mostra risposta\" data-jupman-hide=\"Nascondi\">Mostra risposta</a><div class=\"jupman-sol jupman-sol-question\" style=\"display:none\">  "
   ]
  },
  {
   "cell_type": "markdown",
   "metadata": {},
   "source": [
    "**RISPOSTA**: \n",
    "\n",
    "Perchè facendo i conteggi direttamente in SQL, il database si arrangerà a fare i conti e spedirà a Python solo un numero invece che una quantità di righe che potenzialmente potrebbe essere molto ingente e intasare la memoria. "
   ]
  },
  {
   "cell_type": "raw",
   "id": "801c5b4a",
   "metadata": {
    "format": "text/html"
   },
   "source": [
    "</div>"
   ]
  },
  {
   "cell_type": "markdown",
   "metadata": {},
   "source": [
    "### GROUP BY e COUNT\n",
    "\n",
    "Ogni Track ha associato un `MediaTypeId`. Potremmo chiederci per ogni media type quante track ci sono. \n",
    "\n",
    "* Per conteggiare, dovremo usare la parola chiave `COUNT(*) AS Conteggio` nella `SELECT`\n",
    "* per raggruppare  `GROUP BY` dopo la linea del `FROM`\n",
    "* Per ordinare i conteggi in modo decrescente, useremo anche `ORDER BY Conteggio DESC`\n",
    "\n",
    "**Nota**:  il `COUNT(*)` conteggierà in questo caso quanti elementi ci sono nei gruppi, non in tutta la tabella:"
   ]
  },
  {
   "cell_type": "code",
   "execution_count": 33,
   "metadata": {},
   "outputs": [
    {
     "data": {
      "text/plain": [
       "[(1, 3034), (2, 237), (3, 214), (5, 11), (4, 7)]"
      ]
     },
     "execution_count": 33,
     "metadata": {},
     "output_type": "execute_result"
    }
   ],
   "source": [
    "esegui(conn, \"\"\"\n",
    "SELECT T.MediaTypeId, COUNT(*) AS Conteggio\n",
    "FROM Track T\n",
    "GROUP BY T.MediaTypeId\n",
    "ORDER BY Conteggio DESC\n",
    "\"\"\")"
   ]
  },
  {
   "cell_type": "markdown",
   "metadata": {},
   "source": [
    "**ESERCIZIO**: I `MediaTypeId` non sono molto descrittivi. Scrivi qua sotto una query per ottenere coppie con nome del MediaType e rispettivo conteggio. Prova anche ad eseguire la query in SQLStudio:"
   ]
  },
  {
   "cell_type": "raw",
   "id": "935a9bfe",
   "metadata": {
    "format": "text/html"
   },
   "source": [
    "<a  class=\"jupman-sol jupman-sol-toggler\" \n",
    " onclick=\"jupman.toggleSolution(this);\" \n",
    " data-jupman-show=\"Mostra soluzione\" data-jupman-hide=\"Nascondi\">Mostra soluzione</a><div class=\"jupman-sol jupman-sol-code\" style=\"display:none\">  "
   ]
  },
  {
   "cell_type": "code",
   "execution_count": 34,
   "metadata": {},
   "outputs": [
    {
     "data": {
      "text/plain": [
       "[('MPEG audio file', 3034),\n",
       " ('Protected AAC audio file', 237),\n",
       " ('Protected MPEG-4 video file', 214),\n",
       " ('AAC audio file', 11),\n",
       " ('Purchased AAC audio file', 7)]"
      ]
     },
     "execution_count": 34,
     "metadata": {},
     "output_type": "execute_result"
    }
   ],
   "source": [
    "# scrivi qui\n",
    "\n",
    "\n",
    "esegui(conn, \"\"\"\n",
    "SELECT MT.Name, COUNT(*) AS Conteggio\n",
    "FROM Track T, MediaType MT USING (MediaTypeId)\n",
    "GROUP BY MT.MediaTypeId\n",
    "ORDER BY Conteggio DESC\n",
    "\"\"\")\n"
   ]
  },
  {
   "cell_type": "raw",
   "id": "06f1bba2",
   "metadata": {
    "format": "text/html"
   },
   "source": [
    "</div>"
   ]
  },
  {
   "cell_type": "code",
   "execution_count": 34,
   "metadata": {},
   "outputs": [
    {
     "data": {
      "text/plain": [
       "[('MPEG audio file', 3034),\n",
       " ('Protected AAC audio file', 237),\n",
       " ('Protected MPEG-4 video file', 214),\n",
       " ('AAC audio file', 11),\n",
       " ('Purchased AAC audio file', 7)]"
      ]
     },
     "execution_count": 34,
     "metadata": {},
     "output_type": "execute_result"
    }
   ],
   "source": [
    "# scrivi qui\n",
    "\n"
   ]
  },
  {
   "cell_type": "markdown",
   "metadata": {},
   "source": [
    "**ESERCIZIO**:  Scrivi qua sotto una query per creare una tabella di due colonne, nella prima ci saranno i nomi dei generi musicali e nella seconda quante track di quel genere ci sono nel database."
   ]
  },
  {
   "cell_type": "raw",
   "id": "29f4bdfa",
   "metadata": {
    "format": "text/html"
   },
   "source": [
    "<a  class=\"jupman-sol jupman-sol-toggler\" \n",
    " onclick=\"jupman.toggleSolution(this);\" \n",
    " data-jupman-show=\"Mostra soluzione\" data-jupman-hide=\"Nascondi\">Mostra soluzione</a><div class=\"jupman-sol jupman-sol-code\" style=\"display:none\">  "
   ]
  },
  {
   "cell_type": "code",
   "execution_count": 35,
   "metadata": {},
   "outputs": [
    {
     "data": {
      "text/plain": [
       "[('Rock', 1297),\n",
       " ('Latin', 579),\n",
       " ('Metal', 374),\n",
       " ('Alternative & Punk', 332),\n",
       " ('Jazz', 130),\n",
       " ('TV Shows', 93),\n",
       " ('Blues', 81),\n",
       " ('Classical', 74),\n",
       " ('Drama', 64),\n",
       " ('R&B/Soul', 61),\n",
       " ('Reggae', 58),\n",
       " ('Pop', 48),\n",
       " ('Soundtrack', 43),\n",
       " ('Alternative', 40),\n",
       " ('Hip Hop/Rap', 35),\n",
       " ('Electronica/Dance', 30),\n",
       " ('Heavy Metal', 28),\n",
       " ('World', 28),\n",
       " ('Sci Fi & Fantasy', 26),\n",
       " ('Easy Listening', 24),\n",
       " ('Comedy', 17),\n",
       " ('Bossa Nova', 15),\n",
       " ('Science Fiction', 13),\n",
       " ('Rock And Roll', 12),\n",
       " ('Opera', 1)]"
      ]
     },
     "execution_count": 35,
     "metadata": {},
     "output_type": "execute_result"
    }
   ],
   "source": [
    "# scrivi qui\n",
    "\n",
    "\n",
    "esegui(conn, \"\"\"\n",
    "SELECT G.Name, COUNT(*) AS Conteggio\n",
    "FROM Track T, Genre G USING (GenreId)\n",
    "GROUP BY G.GenreId\n",
    "ORDER BY Conteggio DESC\n",
    "\"\"\")\n",
    "\n"
   ]
  },
  {
   "cell_type": "raw",
   "id": "4cf2e204",
   "metadata": {
    "format": "text/html"
   },
   "source": [
    "</div>"
   ]
  },
  {
   "cell_type": "code",
   "execution_count": 35,
   "metadata": {},
   "outputs": [
    {
     "data": {
      "text/plain": [
       "[('Rock', 1297),\n",
       " ('Latin', 579),\n",
       " ('Metal', 374),\n",
       " ('Alternative & Punk', 332),\n",
       " ('Jazz', 130),\n",
       " ('TV Shows', 93),\n",
       " ('Blues', 81),\n",
       " ('Classical', 74),\n",
       " ('Drama', 64),\n",
       " ('R&B/Soul', 61),\n",
       " ('Reggae', 58),\n",
       " ('Pop', 48),\n",
       " ('Soundtrack', 43),\n",
       " ('Alternative', 40),\n",
       " ('Hip Hop/Rap', 35),\n",
       " ('Electronica/Dance', 30),\n",
       " ('Heavy Metal', 28),\n",
       " ('World', 28),\n",
       " ('Sci Fi & Fantasy', 26),\n",
       " ('Easy Listening', 24),\n",
       " ('Comedy', 17),\n",
       " ('Bossa Nova', 15),\n",
       " ('Science Fiction', 13),\n",
       " ('Rock And Roll', 12),\n",
       " ('Opera', 1)]"
      ]
     },
     "execution_count": 35,
     "metadata": {},
     "output_type": "execute_result"
    }
   ],
   "source": [
    "# scrivi qui\n",
    "\n"
   ]
  },
  {
   "cell_type": "markdown",
   "metadata": {},
   "source": [
    "**ESERCIZIO**: Ora prova a trovare per ogni genere la lunghezza media in millisecondi usando invece di `COUNT(*)` la funzione `AVG(Track.Milliseconds)`:"
   ]
  },
  {
   "cell_type": "raw",
   "id": "e454a244",
   "metadata": {
    "format": "text/html"
   },
   "source": [
    "<a  class=\"jupman-sol jupman-sol-toggler\" \n",
    " onclick=\"jupman.toggleSolution(this);\" \n",
    " data-jupman-show=\"Mostra soluzione\" data-jupman-hide=\"Nascondi\">Mostra soluzione</a><div class=\"jupman-sol jupman-sol-code\" style=\"display:none\">  "
   ]
  },
  {
   "cell_type": "code",
   "execution_count": 36,
   "metadata": {},
   "outputs": [
    {
     "data": {
      "text/plain": [
       "[('Sci Fi & Fantasy', 2911783.0384615385),\n",
       " ('Science Fiction', 2625549.076923077),\n",
       " ('Drama', 2575283.78125),\n",
       " ('TV Shows', 2145041.0215053763),\n",
       " ('Comedy', 1585263.705882353),\n",
       " ('Metal', 309749.4438502674),\n",
       " ('Electronica/Dance', 302985.8),\n",
       " ('Heavy Metal', 297452.9285714286),\n",
       " ('Classical', 293867.5675675676),\n",
       " ('Jazz', 291755.3769230769),\n",
       " ('Rock', 283910.0431765613),\n",
       " ('Blues', 270359.77777777775),\n",
       " ('Alternative', 264058.525),\n",
       " ('Reggae', 247177.75862068965),\n",
       " ('Soundtrack', 244370.88372093023),\n",
       " ('Alternative & Punk', 234353.84939759035),\n",
       " ('Latin', 232859.26252158894),\n",
       " ('Pop', 229034.10416666666),\n",
       " ('World', 224923.82142857142),\n",
       " ('R&B/Soul', 220066.8524590164),\n",
       " ('Bossa Nova', 219590.0),\n",
       " ('Easy Listening', 189164.20833333334),\n",
       " ('Hip Hop/Rap', 178176.2857142857),\n",
       " ('Opera', 174813.0),\n",
       " ('Rock And Roll', 134643.5)]"
      ]
     },
     "execution_count": 36,
     "metadata": {},
     "output_type": "execute_result"
    }
   ],
   "source": [
    "# scrivi qui:\n",
    "\n",
    "\n",
    "esegui(conn, \"\"\"\n",
    "SELECT G.Name, AVG(T.Milliseconds) AS Lunghezza\n",
    "FROM Track T, Genre G USING (GenreId)\n",
    "GROUP BY G.GenreId\n",
    "ORDER BY Lunghezza DESC\n",
    "\"\"\")\n"
   ]
  },
  {
   "cell_type": "raw",
   "id": "2ddea5fc",
   "metadata": {
    "format": "text/html"
   },
   "source": [
    "</div>"
   ]
  },
  {
   "cell_type": "code",
   "execution_count": 36,
   "metadata": {},
   "outputs": [
    {
     "data": {
      "text/plain": [
       "[('Sci Fi & Fantasy', 2911783.0384615385),\n",
       " ('Science Fiction', 2625549.076923077),\n",
       " ('Drama', 2575283.78125),\n",
       " ('TV Shows', 2145041.0215053763),\n",
       " ('Comedy', 1585263.705882353),\n",
       " ('Metal', 309749.4438502674),\n",
       " ('Electronica/Dance', 302985.8),\n",
       " ('Heavy Metal', 297452.9285714286),\n",
       " ('Classical', 293867.5675675676),\n",
       " ('Jazz', 291755.3769230769),\n",
       " ('Rock', 283910.0431765613),\n",
       " ('Blues', 270359.77777777775),\n",
       " ('Alternative', 264058.525),\n",
       " ('Reggae', 247177.75862068965),\n",
       " ('Soundtrack', 244370.88372093023),\n",
       " ('Alternative & Punk', 234353.84939759035),\n",
       " ('Latin', 232859.26252158894),\n",
       " ('Pop', 229034.10416666666),\n",
       " ('World', 224923.82142857142),\n",
       " ('R&B/Soul', 220066.8524590164),\n",
       " ('Bossa Nova', 219590.0),\n",
       " ('Easy Listening', 189164.20833333334),\n",
       " ('Hip Hop/Rap', 178176.2857142857),\n",
       " ('Opera', 174813.0),\n",
       " ('Rock And Roll', 134643.5)]"
      ]
     },
     "execution_count": 36,
     "metadata": {},
     "output_type": "execute_result"
    }
   ],
   "source": [
    "# scrivi qui:\n",
    "\n"
   ]
  },
  {
   "cell_type": "markdown",
   "metadata": {},
   "source": [
    "## Pandas\n",
    "\n",
    "Finora abbiamo usato metodi base di Python, ma ovviamente processare il tutto in pandas è più comodo. \n",
    "\n",
    "Per maggiori informazioni su Pandas, guarda il [relativo tutorial](https://it.softpython.org/pandas/pandas-sol.html)"
   ]
  },
  {
   "cell_type": "code",
   "execution_count": 37,
   "metadata": {},
   "outputs": [],
   "source": [
    "import pandas\n",
    "\n",
    "df = pandas.read_sql_query(\"SELECT Name, Composer, Milliseconds from Track\", conn)"
   ]
  },
  {
   "cell_type": "code",
   "execution_count": 38,
   "metadata": {},
   "outputs": [
    {
     "data": {
      "text/html": [
       "<div>\n",
       "<style scoped>\n",
       "    .dataframe tbody tr th:only-of-type {\n",
       "        vertical-align: middle;\n",
       "    }\n",
       "\n",
       "    .dataframe tbody tr th {\n",
       "        vertical-align: top;\n",
       "    }\n",
       "\n",
       "    .dataframe thead th {\n",
       "        text-align: right;\n",
       "    }\n",
       "</style>\n",
       "<table border=\"1\" class=\"dataframe\">\n",
       "  <thead>\n",
       "    <tr style=\"text-align: right;\">\n",
       "      <th></th>\n",
       "      <th>Name</th>\n",
       "      <th>Composer</th>\n",
       "      <th>Milliseconds</th>\n",
       "    </tr>\n",
       "  </thead>\n",
       "  <tbody>\n",
       "    <tr>\n",
       "      <th>0</th>\n",
       "      <td>For Those About To Rock (We Salute You)</td>\n",
       "      <td>Angus Young, Malcolm Young, Brian Johnson</td>\n",
       "      <td>343719</td>\n",
       "    </tr>\n",
       "    <tr>\n",
       "      <th>1</th>\n",
       "      <td>Balls to the Wall</td>\n",
       "      <td>None</td>\n",
       "      <td>342562</td>\n",
       "    </tr>\n",
       "    <tr>\n",
       "      <th>2</th>\n",
       "      <td>Fast As a Shark</td>\n",
       "      <td>F. Baltes, S. Kaufman, U. Dirkscneider &amp; W. Ho...</td>\n",
       "      <td>230619</td>\n",
       "    </tr>\n",
       "    <tr>\n",
       "      <th>3</th>\n",
       "      <td>Restless and Wild</td>\n",
       "      <td>F. Baltes, R.A. Smith-Diesel, S. Kaufman, U. D...</td>\n",
       "      <td>252051</td>\n",
       "    </tr>\n",
       "    <tr>\n",
       "      <th>4</th>\n",
       "      <td>Princess of the Dawn</td>\n",
       "      <td>Deaffy &amp; R.A. Smith-Diesel</td>\n",
       "      <td>375418</td>\n",
       "    </tr>\n",
       "    <tr>\n",
       "      <th>...</th>\n",
       "      <td>...</td>\n",
       "      <td>...</td>\n",
       "      <td>...</td>\n",
       "    </tr>\n",
       "    <tr>\n",
       "      <th>3498</th>\n",
       "      <td>Pini Di Roma (Pinien Von Rom) \\ I Pini Della V...</td>\n",
       "      <td>None</td>\n",
       "      <td>286741</td>\n",
       "    </tr>\n",
       "    <tr>\n",
       "      <th>3499</th>\n",
       "      <td>String Quartet No. 12 in C Minor, D. 703 \"Quar...</td>\n",
       "      <td>Franz Schubert</td>\n",
       "      <td>139200</td>\n",
       "    </tr>\n",
       "    <tr>\n",
       "      <th>3500</th>\n",
       "      <td>L'orfeo, Act 3, Sinfonia (Orchestra)</td>\n",
       "      <td>Claudio Monteverdi</td>\n",
       "      <td>66639</td>\n",
       "    </tr>\n",
       "    <tr>\n",
       "      <th>3501</th>\n",
       "      <td>Quintet for Horn, Violin, 2 Violas, and Cello ...</td>\n",
       "      <td>Wolfgang Amadeus Mozart</td>\n",
       "      <td>221331</td>\n",
       "    </tr>\n",
       "    <tr>\n",
       "      <th>3502</th>\n",
       "      <td>Koyaanisqatsi</td>\n",
       "      <td>Philip Glass</td>\n",
       "      <td>206005</td>\n",
       "    </tr>\n",
       "  </tbody>\n",
       "</table>\n",
       "<p>3503 rows × 3 columns</p>\n",
       "</div>"
      ],
      "text/plain": [
       "                                                   Name  \\\n",
       "0               For Those About To Rock (We Salute You)   \n",
       "1                                     Balls to the Wall   \n",
       "2                                       Fast As a Shark   \n",
       "3                                     Restless and Wild   \n",
       "4                                  Princess of the Dawn   \n",
       "...                                                 ...   \n",
       "3498  Pini Di Roma (Pinien Von Rom) \\ I Pini Della V...   \n",
       "3499  String Quartet No. 12 in C Minor, D. 703 \"Quar...   \n",
       "3500               L'orfeo, Act 3, Sinfonia (Orchestra)   \n",
       "3501  Quintet for Horn, Violin, 2 Violas, and Cello ...   \n",
       "3502                                      Koyaanisqatsi   \n",
       "\n",
       "                                               Composer  Milliseconds  \n",
       "0             Angus Young, Malcolm Young, Brian Johnson        343719  \n",
       "1                                                  None        342562  \n",
       "2     F. Baltes, S. Kaufman, U. Dirkscneider & W. Ho...        230619  \n",
       "3     F. Baltes, R.A. Smith-Diesel, S. Kaufman, U. D...        252051  \n",
       "4                            Deaffy & R.A. Smith-Diesel        375418  \n",
       "...                                                 ...           ...  \n",
       "3498                                               None        286741  \n",
       "3499                                     Franz Schubert        139200  \n",
       "3500                                 Claudio Monteverdi         66639  \n",
       "3501                            Wolfgang Amadeus Mozart        221331  \n",
       "3502                                       Philip Glass        206005  \n",
       "\n",
       "[3503 rows x 3 columns]"
      ]
     },
     "execution_count": 38,
     "metadata": {},
     "output_type": "execute_result"
    }
   ],
   "source": [
    "df"
   ]
  },
  {
   "cell_type": "markdown",
   "metadata": {
    "collapsed": true
   },
   "source": [
    "<div class=\"alert alert-warning\">\n",
    "\n",
    "**ATTENZIONE a quanti dati carichi !**\n",
    "\n",
    "Pandas è molto comodo, ma come già detto nella [nel relativo tutorial](http://it.softpython.org/pandas/pandas-sol.html) Pandas carica tutto in memoria RAM che tipicamente sono dai 4 ai 16 giga. Se hai grandi database potresti avere dei problemi per cui valgono i metodi e considerazioni fatte nella sezione [Performance](#Performance)\n",
    "\n",
    "</div>"
   ]
  },
  {
   "cell_type": "markdown",
   "metadata": {},
   "source": [
    "**ESERCIZIO**: Millisecondi e bytes occupati dovrebbero ragionevolmente essere linearmente dipendenti. Dimostralo con Pandas."
   ]
  },
  {
   "cell_type": "raw",
   "id": "f2e4c64c",
   "metadata": {
    "format": "text/html"
   },
   "source": [
    "<a  class=\"jupman-sol jupman-sol-toggler\" \n",
    " onclick=\"jupman.toggleSolution(this);\" \n",
    " data-jupman-show=\"Mostra soluzione\" data-jupman-hide=\"Nascondi\">Mostra soluzione</a><div class=\"jupman-sol jupman-sol-code\" style=\"display:none\">  "
   ]
  },
  {
   "cell_type": "code",
   "execution_count": 39,
   "metadata": {},
   "outputs": [
    {
     "data": {
      "text/html": [
       "<div>\n",
       "<style scoped>\n",
       "    .dataframe tbody tr th:only-of-type {\n",
       "        vertical-align: middle;\n",
       "    }\n",
       "\n",
       "    .dataframe tbody tr th {\n",
       "        vertical-align: top;\n",
       "    }\n",
       "\n",
       "    .dataframe thead th {\n",
       "        text-align: right;\n",
       "    }\n",
       "</style>\n",
       "<table border=\"1\" class=\"dataframe\">\n",
       "  <thead>\n",
       "    <tr style=\"text-align: right;\">\n",
       "      <th></th>\n",
       "      <th>Milliseconds</th>\n",
       "      <th>Bytes</th>\n",
       "    </tr>\n",
       "  </thead>\n",
       "  <tbody>\n",
       "    <tr>\n",
       "      <th>Milliseconds</th>\n",
       "      <td>1.000000</td>\n",
       "      <td>0.960181</td>\n",
       "    </tr>\n",
       "    <tr>\n",
       "      <th>Bytes</th>\n",
       "      <td>0.960181</td>\n",
       "      <td>1.000000</td>\n",
       "    </tr>\n",
       "  </tbody>\n",
       "</table>\n",
       "</div>"
      ],
      "text/plain": [
       "              Milliseconds     Bytes\n",
       "Milliseconds      1.000000  0.960181\n",
       "Bytes             0.960181  1.000000"
      ]
     },
     "execution_count": 39,
     "metadata": {},
     "output_type": "execute_result"
    }
   ],
   "source": [
    "\n",
    "# scrivi qui\n",
    "\n",
    "df = pandas.read_sql_query(\n",
    "    \"SELECT Name, Composer, Milliseconds, Bytes from Track\", \n",
    "    conn)\n",
    "df.corr()\n",
    "\n",
    "# l'indice di correlazione lineare tra milliseconds e bytes \n",
    "# è prossimo al massimo 1.0"
   ]
  },
  {
   "cell_type": "raw",
   "id": "bac34936",
   "metadata": {
    "format": "text/html"
   },
   "source": [
    "</div>"
   ]
  },
  {
   "cell_type": "code",
   "execution_count": 39,
   "metadata": {},
   "outputs": [],
   "source": [
    "\n",
    "# scrivi qui\n",
    "\n"
   ]
  }
 ],
 "metadata": {
  "celltoolbar": "Edit Metadata",
  "kernelspec": {
   "display_name": "Python 3 (ipykernel)",
   "language": "python",
   "name": "python3"
  },
  "language_info": {
   "codemirror_mode": {
    "name": "ipython",
    "version": 3
   },
   "file_extension": ".py",
   "mimetype": "text/x-python",
   "name": "python",
   "nbconvert_exporter": "python",
   "pygments_lexer": "ipython3",
   "version": "3.7.13"
  },
  "toc": {
   "base_numbering": 1,
   "nav_menu": {},
   "number_sections": false,
   "sideBar": true,
   "skip_h1_title": false,
   "title_cell": "Table of Contents",
   "title_sidebar": "Contents",
   "toc_cell": false,
   "toc_position": {},
   "toc_section_display": true,
   "toc_window_display": true
  }
 },
 "nbformat": 4,
 "nbformat_minor": 2
}

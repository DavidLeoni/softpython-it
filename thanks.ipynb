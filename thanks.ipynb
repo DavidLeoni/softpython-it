{
 "cells": [
  {
   "cell_type": "markdown",
   "metadata": {},
   "source": [
    "# Ringraziamenti\n",
    "\n",
    "\n",
    "Questo sito è stato realizzato con stanziamenti del [Dipartimento di Ingegneria e Scienze dell’Informazione (DISI)](https://www.disi.unitn.it) dell'Università di Trento\n",
    "\n",
    "![DISI - Dipartimento Informatica -  Università di Trento-28723](_static/img/third-parties/disi-unitn-it-logo.jpeg)\n"
   ]
  },
  {
   "cell_type": "markdown",
   "metadata": {},
   "source": [
    "**Ringraziamo inoltre:**\n",
    "\n",
    "Il professor [Alberto Montresor](http://cricca.disi.unitn.it/montresor/) e Ivano Bison per aver consentito la realizzazione dei materiale nei seminari a Sociologia e al corso Scientific Programming al master Data Science.\n",
    "\n",
    "![Ictdays Summercamp Promoters-87232](_static/img/third-parties/ictdays-summercamp-promoters.png)\n",
    "\n",
    "Il [Dipartimento di Ingegneria e Scienze dell’Informazione (DISI)](https://www.disi.unitn.it) dell'Università di Trento, [Hub Innovazione Trentino HIT](https://www.trentinoinnovation.eu) e la rete STAAR per aver consentito la realizzazione delle challenge ICTDays Summercamp [Edizione 2018](https://webmagazine.unitn.it/evento/disi/39864/ict-days-summer-camp) e [edizione 2019](https://webmagazine.unitn.it/evento/disi/66093/ict-days-summer-camp) per ragazzi delle superiori, che hanno usato il materiale del sito per affrontare diverse [sfide di Data Science](challenges.ipynb)"
   ]
  },
  {
   "cell_type": "markdown",
   "metadata": {},
   "source": [
    "![dati.trentino.it-783623](_static/img/third-parties/dati-trentino-small.png)&emsp; [dati.trentino.it](http://dati.trentino.it) per i dati da elaborare, e l'assistenza di Francesca Gleria e Marco Combetto che hanno anche promosso la [challenge RiParco da Trento 2019](projects-chal/city-parks/city-parks-chal.ipynb)"
   ]
  },
  {
   "cell_type": "markdown",
   "metadata": {},
   "source": [
    "![SpazioDati-871332](_static/img/third-parties/spaziodati-small.png)&emsp; [SpazioDati](http://spaziodati.eu) nelle persone di Nicola Sambin e Alessio Guerrieri per aver promosso la challenge [A Prova di Hacker](projects-chal/hacker-proof/hacker-proof-chal.ipynb)  fornendo i dati sulle imprese con il servizio [Atoka.io](http://atoka.io), e l'accesso ai servizi semantici di [Dandelion](http://dandelion.eu)"
   ]
  },
  {
   "cell_type": "markdown",
   "metadata": {},
   "source": [
    "![ICE-782132](_static/img/third-parties/ice-small.png) &emsp; Il professor Nicola Conci del [Dipartimento di Ingegneria e Scienze dell’Informazione (DISI)](https://www.disi.unitn.it) dell'Università di Trento  in rappresentaza del Corso di Studi in Ingegneria Informatica, delle Comunicazioni ed Elettronica (ICE)  per aver promosso la challenge [RiParco da Trento 2019](projects-chal/city-parks/city-parks-chal.ipynb) e Andrea Montagner per il prezioso aiuto offerto sul capitolo computer vision.\n"
   ]
  },
  {
   "cell_type": "markdown",
   "metadata": {},
   "source": [
    "![ESA-918923](_static/img/third-parties/esa-raspberrypi.png) &emsp; La Raspberry Pi Foundation e l'European Space Agency per il concorso Astropi e i dati usati nel [tutorial su Pandas](pandas/pandas1-sol.ipynb)\n",
    "\n"
   ]
  },
  {
   "cell_type": "markdown",
   "metadata": {},
   "source": [
    "![CoderDojo Trento-23231](_static/img/third-parties/coderdojotrento-small.png)&emsp; Autoreferenzialmente citiamo anche [CoderDojo Trento](http://coderdojotrento.it) per i tutorial su HTML & UMap !"
   ]
  }
 ],
 "metadata": {
  "kernelspec": {
   "display_name": "Python 3 (ipykernel)",
   "language": "python",
   "name": "python3"
  },
  "language_info": {
   "codemirror_mode": {
    "name": "ipython",
    "version": 3
   },
   "file_extension": ".py",
   "mimetype": "text/x-python",
   "name": "python",
   "nbconvert_exporter": "python",
   "pygments_lexer": "ipython3",
   "version": "3.7.10"
  },
  "toc": {
   "base_numbering": 1,
   "nav_menu": {},
   "number_sections": false,
   "sideBar": true,
   "skip_h1_title": false,
   "title_cell": "Table of Contents",
   "title_sidebar": "Contents",
   "toc_cell": false,
   "toc_position": {},
   "toc_section_display": true,
   "toc_window_display": true
  }
 },
 "nbformat": 4,
 "nbformat_minor": 2
}

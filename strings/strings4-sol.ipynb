{
 "cells": [
  {
   "cell_type": "code",
   "execution_count": 1,
   "metadata": {
    "nbsphinx": "hidden"
   },
   "outputs": [],
   "source": [
    "# Ricordati di eseguire questa cella con Shift+Invio\n",
    "\n",
    "import jupman"
   ]
  },
  {
   "cell_type": "markdown",
   "metadata": {},
   "source": [
    "# Stringhe 4 - iterazione e funzioni\n",
    "\n",
    "## [Scarica zip esercizi](../_static/generated/strings.zip)\n",
    "\n",
    "[Naviga file online](https://github.com/DavidLeoni/softpython-it/tree/master/strings)\n",
    "\n"
   ]
  },
  {
   "cell_type": "markdown",
   "metadata": {},
   "source": [
    "### Che fare\n",
    "\n",
    "- scompatta lo zip in una cartella, dovresti ottenere qualcosa del genere: \n",
    "\n",
    "```\n",
    "\n",
    "strings\n",
    "    strings1.ipynb    \n",
    "    strings1-sol.ipynb         \n",
    "    strings2.ipynb\n",
    "    strings2-sol.ipynb\n",
    "    strings3.ipynb\n",
    "    strings3-sol.ipynb\n",
    "    jupman.py         \n",
    "```\n",
    "\n",
    "<div class=\"alert alert-warning\">\n",
    "\n",
    "**ATTENZIONE**: Per essere visualizzato correttamente, il file del notebook DEVE essere nella cartella szippata.\n",
    "</div>\n",
    "\n",
    "- apri il Jupyter Notebook da quella cartella. Due cose dovrebbero aprirsi, prima una console e poi un browser. Il browser dovrebbe mostrare una lista di file: naviga la lista e apri il notebook `strings1.ipynb`\n",
    "- Prosegui leggendo il file degli esercizi, ogni tanto al suo interno troverai delle scritte **ESERCIZIO**, che ti chiederanno di scrivere dei comandi Python nelle celle successive. Gli esercizi sono graduati per difficoltà, da una stellina ✪ a quattro ✪✪✪✪\n",
    "\n",
    "\n",
    "Scorciatoie da tastiera:\n",
    "\n",
    "* Per eseguire il codice Python dentro una cella di Jupyter, premi `Control+Invio`\n",
    "* Per eseguire il codice Python dentro una cella di Jupyter E selezionare la cella seguente, premi `Shift+Invio`\n",
    "* Per eseguire il codice Python dentro una cella di Jupyter E creare una nuova cella subito dopo, premi `Alt+Invio`\n",
    "* Se per caso il Notebook sembra inchiodato, prova a selezionare `Kernel -> Restart`\n",
    "\n"
   ]
  },
  {
   "cell_type": "markdown",
   "metadata": {},
   "source": [
    "## Esercizi con le funzioni\n",
    "\n",
    "\n",
    "<div class=\"alert alert-warning\">\n",
    "\n",
    "**ATTENZIONE: Gli esercizi seguenti richiedono di conoscere:**\n",
    "\n",
    "<ul>\n",
    "<li>Tutti gli esercizi sulle stringhe precedenti</li>\n",
    "<li>[Controllo di flusso](https://it.softpython.org/#control-flow)</li>\n",
    "<li>[Funzioni](https://it.softpython.org/functions/functions-sol.html)</li>\n",
    "</ul>\n",
    "<br/>\n",
    "\n",
    "**Se sei alle prime armi con la programmazione, ti conviene saltarli e ripassare in seguito**\n",
    "</div>"
   ]
  },
  {
   "cell_type": "markdown",
   "metadata": {},
   "source": [
    "### lung\n",
    "\n",
    "✪ a. Scrivi una funzione `lung1(stringa)` in cui data una stringa, RITORNI quanto è lunga la stringa. Usa `len` Per esempio, con la stringa `\"ciao\"`, la vostra funzione dovrebbe ritornare `4` mentre con `\"hi\"` dovrebbe ritornare `2`\n",
    "\n",
    "```python\n",
    ">>> x = lung1(\"ciao\")\n",
    ">>> x\n",
    "4\n",
    "```\n",
    "\n",
    "✪ b. Scrivi una funzione `lung2` che come prima calcola la lunghezza della stringa, ma SENZA usare `len` (usa un ciclo `for`)\n",
    "\n",
    "```python\n",
    ">>> y = lung2(\"mondo\")\n",
    ">>> y\n",
    "5\n",
    "```"
   ]
  },
  {
   "cell_type": "raw",
   "id": "34c601bc",
   "metadata": {
    "format": "text/html"
   },
   "source": [
    "<a  class=\"jupman-sol jupman-sol-toggler\" \n",
    " onclick=\"jupman.toggleSolution(this);\" \n",
    " data-jupman-show=\"Mostra soluzione\" data-jupman-hide=\"Nascondi\">Mostra soluzione</a><div class=\"jupman-sol jupman-sol-code\" style=\"display:none\">  "
   ]
  },
  {
   "cell_type": "code",
   "execution_count": 2,
   "metadata": {},
   "outputs": [],
   "source": [
    "# scrivi qui\n",
    "\n",
    "# versione con len, più veloce perchè python assieme ad una stringa mantiene sempre in memoria \n",
    "# il numero della lunghezza immediatamente disponibile\n",
    "\n",
    "def lung1(stringa):\n",
    "    return len(stringa)\n",
    "\n",
    "# versione con contatore, più lenta\n",
    "def lung2(parola):\n",
    "    contatore = 0\n",
    "    for lettera in parola:\n",
    "        contatore = contatore + 1\n",
    "    return contatore"
   ]
  },
  {
   "cell_type": "raw",
   "id": "87d42463",
   "metadata": {
    "format": "text/html"
   },
   "source": [
    "</div>"
   ]
  },
  {
   "cell_type": "code",
   "execution_count": 2,
   "metadata": {},
   "outputs": [],
   "source": [
    "# scrivi qui\n",
    "\n"
   ]
  },
  {
   "cell_type": "markdown",
   "metadata": {},
   "source": [
    "### contin\n",
    "\n",
    "✪ Scrivi la funzione `contin(parola, stringa)`, che RITORNA `True` se `parola` contiene la `stringa` indicata, altrimenti RITORNA `False` \n",
    "    \n",
    "- Usa l'operatore `in`\n",
    "\n",
    "\n",
    "\n",
    "```python\n",
    ">>> x = contin('carpenteria', 'ent')\n",
    ">>> x\n",
    "True\n",
    ">>> y = contin('carpenteria', 'zent')\n",
    ">>> y\n",
    "False\n",
    "```"
   ]
  },
  {
   "cell_type": "raw",
   "id": "86b6e9d1",
   "metadata": {
    "format": "text/html"
   },
   "source": [
    "<a  class=\"jupman-sol jupman-sol-toggler\" \n",
    " onclick=\"jupman.toggleSolution(this);\" \n",
    " data-jupman-show=\"Mostra soluzione\" data-jupman-hide=\"Nascondi\">Mostra soluzione</a><div class=\"jupman-sol jupman-sol-code\" style=\"display:none\">  "
   ]
  },
  {
   "cell_type": "code",
   "execution_count": 3,
   "metadata": {},
   "outputs": [],
   "source": [
    "# scrivi qui\n",
    "\n",
    "def contin(parola, stringa):\n",
    "    return stringa in parola"
   ]
  },
  {
   "cell_type": "raw",
   "id": "5babf049",
   "metadata": {
    "format": "text/html"
   },
   "source": [
    "</div>"
   ]
  },
  {
   "cell_type": "code",
   "execution_count": 3,
   "metadata": {},
   "outputs": [],
   "source": [
    "# scrivi qui\n",
    "\n"
   ]
  },
  {
   "cell_type": "markdown",
   "metadata": {},
   "source": [
    "### invertilet\n",
    "\n",
    "✪ Scrivi la funzione `invertilet(primo, secondo)` che prende in input due stringhe di lunghezza maggiore di 3, e RESTITUISCE una nuova stringa in cui le parole sono concatenate e separate da uno spazio,  le ultime lettere delle due parole sono invertite. Questo significa che passando in input 'ciao' e 'world', la funzione dovrebbe restituire 'ciad worlo'\n",
    "\n",
    "Se le stringhe non sono di lunghezza adeguata, il programma STAMPA _errore!_\n",
    "\n",
    "SUGGERIMENTO: usa  _le slice_\n",
    "\n",
    "\n",
    "```python\n",
    ">>> x = invertilet('hi','mondo')\n",
    "'errore!'\n",
    ">>> x\n",
    "None\n",
    ">>> x = invertilet('cirippo', 'bla')\n",
    "'errore!'\n",
    ">>> x\n",
    "None\n",
    "```\n"
   ]
  },
  {
   "cell_type": "raw",
   "id": "f2767a1d",
   "metadata": {
    "format": "text/html"
   },
   "source": [
    "<a  class=\"jupman-sol jupman-sol-toggler\" \n",
    " onclick=\"jupman.toggleSolution(this);\" \n",
    " data-jupman-show=\"Mostra soluzione\" data-jupman-hide=\"Nascondi\">Mostra soluzione</a><div class=\"jupman-sol jupman-sol-code\" style=\"display:none\">  "
   ]
  },
  {
   "cell_type": "code",
   "execution_count": 4,
   "metadata": {},
   "outputs": [],
   "source": [
    "# scrivi qui\n",
    "\n",
    "def invertilet(primo,secondo):\n",
    "    if len(primo) <= 3 or len(secondo) <=3:\n",
    "        print(\"errore!\")\n",
    "    else:\n",
    "        return primo[:-1] + secondo[-1] + \" \" + secondo[:-1] + primo[-1]\n"
   ]
  },
  {
   "cell_type": "raw",
   "id": "fd5b0830",
   "metadata": {
    "format": "text/html"
   },
   "source": [
    "</div>"
   ]
  },
  {
   "cell_type": "code",
   "execution_count": 4,
   "metadata": {},
   "outputs": [],
   "source": [
    "# scrivi qui\n",
    "\n"
   ]
  },
  {
   "cell_type": "markdown",
   "metadata": {},
   "source": [
    "### nspazio\n",
    "\n",
    "✪ Scrivi la funzione `nspazio` che data una stringa in input, RITORNA una nuova stringa in\n",
    "cui l’n-esimo carattere è uno spazio. Per esempio, data la stringa 'largamente' e il carattere all'indice 5, il programma deve RITORNARE `'larga ente'`. Nota: se il numero \n",
    "dovesse essere troppo grande (i.e., la parola ha 6 caratteri e chiedo di rimuovere \n",
    "il numero 9), il programma STAMPA _errore!_\n",
    "\n",
    "```python\n",
    ">>> x = nspazio('largamente', 5)\n",
    ">>> x\n",
    "'larga ente'\n",
    "\n",
    ">>> x = nspazio('ciao', 9)\n",
    "errore!\n",
    ">>> x\n",
    "None\n",
    "\n",
    ">>> x = nspazio('ciao', 4)\n",
    "errore!\n",
    ">>> x\n",
    "None\n",
    "```"
   ]
  },
  {
   "cell_type": "raw",
   "id": "1c86b477",
   "metadata": {
    "format": "text/html"
   },
   "source": [
    "<a  class=\"jupman-sol jupman-sol-toggler\" \n",
    " onclick=\"jupman.toggleSolution(this);\" \n",
    " data-jupman-show=\"Mostra soluzione\" data-jupman-hide=\"Nascondi\">Mostra soluzione</a><div class=\"jupman-sol jupman-sol-code\" style=\"display:none\">  "
   ]
  },
  {
   "cell_type": "code",
   "execution_count": 5,
   "metadata": {},
   "outputs": [],
   "source": [
    "# scrivi qui\n",
    "\n",
    "def nspazio(parola, indice):\n",
    "    if indice >= len(parola):\n",
    "        print(\"errore!\")\n",
    "    return parola[:indice]+' '+parola[indice+1:]\n",
    "\n",
    "#nspazio(\"largamente\", 5)"
   ]
  },
  {
   "cell_type": "raw",
   "id": "dff357db",
   "metadata": {
    "format": "text/html"
   },
   "source": [
    "</div>"
   ]
  },
  {
   "cell_type": "code",
   "execution_count": 5,
   "metadata": {},
   "outputs": [],
   "source": [
    "# scrivi qui\n",
    "\n"
   ]
  },
  {
   "cell_type": "markdown",
   "metadata": {},
   "source": [
    "### inifin\n",
    "\n",
    "✪ Scrivi un programma in Python prende una stringa, e se la stringa ha una lunghezza maggiore di 4, il programma STAMPA le prime e le ultime due lettere. Altrimenti, nel caso in cui la lunghezza della stringa sia minore di 4, STAMPA `voglio almeno 4 caratteri`. Per esempio, passando alla funzione `\"ciaomondo\"`, la funzione dovrebbe stampare `\"cido\"`. Passando `\"ciao\"` dovrebbe stampare `ciao` e passando `\"hi\"` dovrebbe stampare `voglio almeno 4 caratteri`\n",
    "\n",
    "```python\n",
    ">>> inifin('ciaomondo')\n",
    "cido\n",
    "\n",
    ">>> inifin('hi')\n",
    "Voglio almeno 4 caratteri\n",
    "```"
   ]
  },
  {
   "cell_type": "raw",
   "id": "5ba0a78a",
   "metadata": {
    "format": "text/html"
   },
   "source": [
    "<a  class=\"jupman-sol jupman-sol-toggler\" \n",
    " onclick=\"jupman.toggleSolution(this);\" \n",
    " data-jupman-show=\"Mostra soluzione\" data-jupman-hide=\"Nascondi\">Mostra soluzione</a><div class=\"jupman-sol jupman-sol-code\" style=\"display:none\">  "
   ]
  },
  {
   "cell_type": "code",
   "execution_count": 6,
   "metadata": {},
   "outputs": [],
   "source": [
    "# scrivi qui\n",
    "\n",
    "def inifin(stringa):\n",
    "    if len(stringa) >= 4:\n",
    "        print(stringa[:2] + stringa[-2:])\n",
    "    else:\n",
    "        print(\"Voglio almeno 4 caratteri\")\n",
    "        "
   ]
  },
  {
   "cell_type": "raw",
   "id": "ea9e8e0d",
   "metadata": {
    "format": "text/html"
   },
   "source": [
    "</div>"
   ]
  },
  {
   "cell_type": "code",
   "execution_count": 6,
   "metadata": {},
   "outputs": [],
   "source": [
    "# scrivi qui\n",
    "\n"
   ]
  },
  {
   "cell_type": "markdown",
   "metadata": {},
   "source": [
    "### scambia\n",
    "\n",
    "Scrivere una funzione che data una stringa, inverte il primo e l’ultimo carattere, e STAMPA il risultato.\n",
    "\n",
    "Quindi, data la stringa “mondo”, il programma stamperà “oondm”\n",
    "\n",
    "```python\n",
    ">>> scambia('mondo')\n",
    "oondm\n",
    "```"
   ]
  },
  {
   "cell_type": "raw",
   "id": "5c267a02",
   "metadata": {
    "format": "text/html"
   },
   "source": [
    "<a  class=\"jupman-sol jupman-sol-toggler\" \n",
    " onclick=\"jupman.toggleSolution(this);\" \n",
    " data-jupman-show=\"Mostra soluzione\" data-jupman-hide=\"Nascondi\">Mostra soluzione</a><div class=\"jupman-sol jupman-sol-code\" style=\"display:none\">  "
   ]
  },
  {
   "cell_type": "code",
   "execution_count": 7,
   "metadata": {},
   "outputs": [],
   "source": [
    "# scrivi qui\n",
    "\n",
    "def scambia(stringa):\n",
    "    print(stringa[-1] + stringa[1:-1] + stringa[0])"
   ]
  },
  {
   "cell_type": "raw",
   "id": "2fc8aef4",
   "metadata": {
    "format": "text/html"
   },
   "source": [
    "</div>"
   ]
  },
  {
   "cell_type": "code",
   "execution_count": 7,
   "metadata": {},
   "outputs": [],
   "source": [
    "# scrivi qui\n",
    "\n"
   ]
  },
  {
   "cell_type": "markdown",
   "metadata": {},
   "source": [
    "## Esercizi con eccezioni e test\n",
    "\n",
    "\n",
    "\n",
    "<div class=\"alert alert-warning\">\n",
    "\n",
    "**ATTENZIONE: Gli esercizi seguenti richiedono di conoscere:**\n",
    "\n",
    "<ul>\n",
    "<li>[Controllo di flusso](https://it.softpython.org/#control-flow)</li>\n",
    "<li>[Funzioni](https://it.softpython.org/functions/functions-sol.html)</li>\n",
    "<li>**e anche**: [Eccezioni e test con assert](https://it.softpython.org/errors-and-testing/errors-and-testing-sol.html)\n",
    "</ul>\n",
    "<br/>\n",
    "<strong>Se sei alle prime armi con la programmazione, ti conviene saltarli e ripassare in seguito</strong>\n",
    "</div>\n",
    "\n"
   ]
  },
  {
   "cell_type": "markdown",
   "metadata": {},
   "source": [
    "### halet\n",
    "\n",
    "✪ RITORNA `True` se parola contiene lettera, `False` altrimenti\n",
    "        \n",
    "- usare ciclo `while`"
   ]
  },
  {
   "cell_type": "raw",
   "id": "bc0ae877",
   "metadata": {
    "format": "text/html"
   },
   "source": [
    "<a  class=\"jupman-sol jupman-sol-toggler\" \n",
    " onclick=\"jupman.toggleSolution(this);\" \n",
    " data-jupman-show=\"Mostra soluzione\" data-jupman-hide=\"Nascondi\">Mostra soluzione</a><div class=\"jupman-sol jupman-sol-code\" style=\"display:none\">  "
   ]
  },
  {
   "cell_type": "code",
   "execution_count": 8,
   "metadata": {},
   "outputs": [],
   "source": [
    "def halet(parola, lettera):\n",
    "    \n",
    "    indice = 0     # inizializziamo indice\n",
    "    while indice < len(parola):\n",
    "        if parola[indice] == lettera:\n",
    "            return True   # abbiamo trovato il carattere, possiamo interrompere la ricerca\n",
    "        indice += 1   # è come scrivere indice = indice + 1\n",
    "    # se arriviamo DOPO il while, c'è una sola ragione:\n",
    "    # non abbiamo trovato nulla, quindi dobbiamo ritornare False\n",
    "    return False\n",
    "    \n",
    "\n",
    "\n",
    "# INIZIO TEST - NON TOCCARE !      \n",
    "# se hai scritto tutto il codice giusto, ed esegui la cella, python non dovrebbe lanciare AssertionError\n",
    "\n",
    "assert halet(\"ciao\", 'a')\n",
    "assert not halet(\"ciao\", 'A')\n",
    "assert halet(\"ciao\", 'c') \n",
    "assert not halet(\"\", 'a')\n",
    "assert not halet(\"ciao\", 'z')\n",
    "# FINE TEST"
   ]
  },
  {
   "cell_type": "raw",
   "id": "871c0dff",
   "metadata": {
    "format": "text/html"
   },
   "source": [
    "</div>"
   ]
  },
  {
   "cell_type": "code",
   "execution_count": 8,
   "metadata": {},
   "outputs": [],
   "source": [
    "def halet(parola, lettera):\n",
    "    raise Exception('TODO IMPLEMENT ME !')\n",
    "\n",
    "\n",
    "# INIZIO TEST - NON TOCCARE !      \n",
    "# se hai scritto tutto il codice giusto, ed esegui la cella, python non dovrebbe lanciare AssertionError\n",
    "\n",
    "assert halet(\"ciao\", 'a')\n",
    "assert not halet(\"ciao\", 'A')\n",
    "assert halet(\"ciao\", 'c') \n",
    "assert not halet(\"\", 'a')\n",
    "assert not halet(\"ciao\", 'z')\n",
    "# FINE TEST"
   ]
  },
  {
   "cell_type": "markdown",
   "metadata": {},
   "source": [
    "### conta\n",
    "\n",
    "✪ RITORNA il numero di occorrenze di lettera in parola\n",
    "\n",
    "NOTA: NON VOGLIO UNA STAMPA, VOGLIO CHE *RITORNI* IL VALORE!\n",
    "        \n",
    "- Usare ciclo for in "
   ]
  },
  {
   "cell_type": "raw",
   "id": "cd42cae5",
   "metadata": {
    "format": "text/html"
   },
   "source": [
    "<a  class=\"jupman-sol jupman-sol-toggler\" \n",
    " onclick=\"jupman.toggleSolution(this);\" \n",
    " data-jupman-show=\"Mostra soluzione\" data-jupman-hide=\"Nascondi\">Mostra soluzione</a><div class=\"jupman-sol jupman-sol-code\" style=\"display:none\">  "
   ]
  },
  {
   "cell_type": "code",
   "execution_count": 9,
   "metadata": {},
   "outputs": [],
   "source": [
    "\n",
    "def conta(parola, lettera):\n",
    "    \n",
    "    occorrenze = 0\n",
    "    for carattere in parola:\n",
    "        # print(\"carattere corrente = \", carattere)    # le print di debug sono ammesse\n",
    "        if carattere == lettera:\n",
    "            # print(\"trovata occorrenza !\")    # le print di debug sono ammesse\n",
    "            occorrenze += 1\n",
    "    return occorrenze     # L'IMPORTANTE E' _RITORANRE_ IL VALORE COME DA TESTO DELL'ESERCIZIO !!!!!\n",
    "    \n",
    "    \n",
    "# INIZIO TEST - NON TOCCARE !      \n",
    "# se hai scritto tutto il codice giusto, ed esegui la cella, python non dovrebbe lanciare AssertionError\n",
    "\n",
    "assert conta(\"ciao\", \"z\") == 0 \n",
    "assert conta(\"ciao\", \"c\") == 1\n",
    "assert conta(\"babbo\", \"b\") == 3\n",
    "assert conta(\"\", \"b\") == 0\n",
    "assert conta(\"ciao\", \"C\") == 0 \n",
    "# FINE TEST"
   ]
  },
  {
   "cell_type": "raw",
   "id": "5a3c8e95",
   "metadata": {
    "format": "text/html"
   },
   "source": [
    "</div>"
   ]
  },
  {
   "cell_type": "code",
   "execution_count": 9,
   "metadata": {},
   "outputs": [],
   "source": [
    "\n",
    "def conta(parola, lettera):\n",
    "    raise Exception('TODO IMPLEMENT ME !')\n",
    "    \n",
    "# INIZIO TEST - NON TOCCARE !      \n",
    "# se hai scritto tutto il codice giusto, ed esegui la cella, python non dovrebbe lanciare AssertionError\n",
    "\n",
    "assert conta(\"ciao\", \"z\") == 0 \n",
    "assert conta(\"ciao\", \"c\") == 1\n",
    "assert conta(\"babbo\", \"b\") == 3\n",
    "assert conta(\"\", \"b\") == 0\n",
    "assert conta(\"ciao\", \"C\") == 0 \n",
    "# FINE TEST"
   ]
  },
  {
   "cell_type": "markdown",
   "metadata": {},
   "source": [
    "### contiene_minuscola\n",
    "\n",
    "✪ Esercizio ripreso dall' Esercizio 4 del libro Pensare in Python Capitolo Stringhe\n",
    "leggere in fondo qua: https://davidleoni.github.io/ThinkPythonItalian/html/thinkpython2009.html\n",
    " \n",
    "- RITORNA True se la parola contiene almeno una lettera minuscola\n",
    "- RITORNA False altrimenti\n",
    "\n",
    "- Usare ciclo `while`"
   ]
  },
  {
   "cell_type": "raw",
   "id": "302d19e3",
   "metadata": {
    "format": "text/html"
   },
   "source": [
    "<a  class=\"jupman-sol jupman-sol-toggler\" \n",
    " onclick=\"jupman.toggleSolution(this);\" \n",
    " data-jupman-show=\"Mostra soluzione\" data-jupman-hide=\"Nascondi\">Mostra soluzione</a><div class=\"jupman-sol jupman-sol-code\" style=\"display:none\">  "
   ]
  },
  {
   "cell_type": "code",
   "execution_count": 10,
   "metadata": {},
   "outputs": [],
   "source": [
    "\n",
    "def contiene_minuscola(s):\n",
    "    \n",
    "    i = 0\n",
    "    while i < len(s):\n",
    "        if s[i] == s[i].lower():\n",
    "            return True\n",
    "        i += 1\n",
    "    return False\n",
    "    \n",
    "    \n",
    "\n",
    "# INIZIO TEST - NON TOCCARE !      \n",
    "# se hai scritto tutto il codice giusto, ed esegui la cella, python non dovrebbe lanciare AssertionError\n",
    "\n",
    "assert contiene_minuscola(\"David\")  \n",
    "assert contiene_minuscola(\"daviD\")\n",
    "assert not contiene_minuscola(\"DAVID\")\n",
    "assert not contiene_minuscola(\"\")\n",
    "assert contiene_minuscola(\"a\")\n",
    "assert not contiene_minuscola(\"A\")"
   ]
  },
  {
   "cell_type": "raw",
   "id": "68c028f6",
   "metadata": {
    "format": "text/html"
   },
   "source": [
    "</div>"
   ]
  },
  {
   "cell_type": "code",
   "execution_count": 10,
   "metadata": {},
   "outputs": [],
   "source": [
    "\n",
    "def contiene_minuscola(s):\n",
    "    raise Exception('TODO IMPLEMENT ME !')\n",
    "    \n",
    "\n",
    "# INIZIO TEST - NON TOCCARE !      \n",
    "# se hai scritto tutto il codice giusto, ed esegui la cella, python non dovrebbe lanciare AssertionError\n",
    "\n",
    "assert contiene_minuscola(\"David\")  \n",
    "assert contiene_minuscola(\"daviD\")\n",
    "assert not contiene_minuscola(\"DAVID\")\n",
    "assert not contiene_minuscola(\"\")\n",
    "assert contiene_minuscola(\"a\")\n",
    "assert not contiene_minuscola(\"A\")"
   ]
  },
  {
   "cell_type": "markdown",
   "metadata": {},
   "source": [
    "### dialetto\n",
    "\n",
    "✪✪ Esiste un dialetto in cui tutte le “a” devono per forza essere precedute da una “g”. Nel caso una parola dovesse contenere “a” _non_ preceduta da una “g”, possiamo dire con certezza che questa parola non fa parte di quel dialetto. Scrivere una funzione che data una parola, RITORNI `True` se la parola rispetta le regole del dialetto, `False` altrimenti. \n",
    "\n",
    "```python\n",
    ">>> dialetto(\"ammot\")\n",
    "False\n",
    ">>> print(dialetto(\"paganog\")\n",
    "False\n",
    ">>> print(dialetto(\"pgaganog\")\n",
    "True\n",
    ">>> print(dialetto(\"ciao\")\n",
    "False\n",
    ">>> dialetto(\"cigao\")\n",
    "True\n",
    ">>> dialetto(\"zogava\")\n",
    "False\n",
    ">>> dialetto(\"zogavga\")\n",
    "True\n",
    "```"
   ]
  },
  {
   "cell_type": "raw",
   "id": "90e8bf2b",
   "metadata": {
    "format": "text/html"
   },
   "source": [
    "<a  class=\"jupman-sol jupman-sol-toggler\" \n",
    " onclick=\"jupman.toggleSolution(this);\" \n",
    " data-jupman-show=\"Mostra soluzione\" data-jupman-hide=\"Nascondi\">Mostra soluzione</a><div class=\"jupman-sol jupman-sol-code\" style=\"display:none\">  "
   ]
  },
  {
   "cell_type": "code",
   "execution_count": 11,
   "metadata": {},
   "outputs": [],
   "source": [
    "\n",
    "\n",
    "def dialetto(parola):\n",
    "    \n",
    "    n = 0\n",
    "    for i in range(0,len(parola)):\n",
    "        if parola[i] == \"a\":\n",
    "            if i == 0 or parola[i - 1] != \"g\":\n",
    "                return False\n",
    "    return True\n",
    "    \n",
    "\n",
    "# INIZIO TEST - NON TOCCARE !      \n",
    "# se hai scritto tutto il codice giusto, ed esegui la cella, python non dovrebbe lanciare AssertionError\n",
    "    \n",
    "assert dialetto(\"a\") == False\n",
    "assert dialetto(\"ab\") == False\n",
    "assert dialetto(\"ag\") == False\n",
    "assert dialetto(\"ag\") == False\n",
    "assert dialetto(\"ga\") == True\n",
    "assert dialetto(\"gga\") == True\n",
    "assert dialetto(\"gag\") == True\n",
    "assert dialetto(\"gaa\") == False\n",
    "assert dialetto(\"gaga\") == True\n",
    "assert dialetto(\"gabga\") == True\n",
    "assert dialetto(\"gabgac\") == True\n",
    "assert dialetto(\"gabbgac\") == True\n",
    "assert dialetto(\"gabbgagag\") == True\n",
    "# FINE TEST"
   ]
  },
  {
   "cell_type": "raw",
   "id": "b709871c",
   "metadata": {
    "format": "text/html"
   },
   "source": [
    "</div>"
   ]
  },
  {
   "cell_type": "code",
   "execution_count": 11,
   "metadata": {},
   "outputs": [],
   "source": [
    "\n",
    "\n",
    "def dialetto(parola):\n",
    "    raise Exception('TODO IMPLEMENT ME !')\n",
    "\n",
    "# INIZIO TEST - NON TOCCARE !      \n",
    "# se hai scritto tutto il codice giusto, ed esegui la cella, python non dovrebbe lanciare AssertionError\n",
    "    \n",
    "assert dialetto(\"a\") == False\n",
    "assert dialetto(\"ab\") == False\n",
    "assert dialetto(\"ag\") == False\n",
    "assert dialetto(\"ag\") == False\n",
    "assert dialetto(\"ga\") == True\n",
    "assert dialetto(\"gga\") == True\n",
    "assert dialetto(\"gag\") == True\n",
    "assert dialetto(\"gaa\") == False\n",
    "assert dialetto(\"gaga\") == True\n",
    "assert dialetto(\"gabga\") == True\n",
    "assert dialetto(\"gabgac\") == True\n",
    "assert dialetto(\"gabbgac\") == True\n",
    "assert dialetto(\"gabbgagag\") == True\n",
    "# FINE TEST"
   ]
  },
  {
   "cell_type": "markdown",
   "metadata": {},
   "source": [
    "### contavoc \n",
    "\n",
    "✪✪  Data una stringa, scrivere una funzione che conti il numero di vocali. \n",
    "Se il numero di vocali è pari RITORNA il numero di vocali,  altrimenti solleva l'eccezione `ValueError`\n",
    "\t\n",
    "```python        \n",
    ">>> conta_vocali(\"asso\")        \n",
    "2\n",
    ">>> conta_vocali(\"ciao\")\n",
    "---------------------------------------------------------------------------\n",
    "ValueError                                Traceback (most recent call last)\n",
    "<ipython-input-15-058310342431> in <module>()\n",
    "     16 contavoc(\"arco\")\n",
    "---> 19 contavoc(\"ciao\")\n",
    "\n",
    "ValueError: Vocali dispari !\n",
    "```"
   ]
  },
  {
   "cell_type": "raw",
   "id": "72a0fbbe",
   "metadata": {
    "format": "text/html"
   },
   "source": [
    "<a  class=\"jupman-sol jupman-sol-toggler\" \n",
    " onclick=\"jupman.toggleSolution(this);\" \n",
    " data-jupman-show=\"Mostra soluzione\" data-jupman-hide=\"Nascondi\">Mostra soluzione</a><div class=\"jupman-sol jupman-sol-code\" style=\"display:none\">  "
   ]
  },
  {
   "cell_type": "code",
   "execution_count": 12,
   "metadata": {},
   "outputs": [],
   "source": [
    "\n",
    "def contavoc(parola):\n",
    "    \n",
    "    n_vocali = 0\n",
    "\n",
    "    vocali = [\"a\",\"e\",\"i\",\"o\",\"u\"]\n",
    "\n",
    "    for lettera in parola:\n",
    "        if lettera.lower() in vocali:\n",
    "            n_vocali = n_vocali + 1\n",
    "\n",
    "    if n_vocali % 2 == 0:\n",
    "        return n_vocali\n",
    "    else:\n",
    "        raise ValueError(\"Vocali dispari !\")\n",
    "    \n",
    "        \n",
    "# INIZIO TEST - NON TOCCARE !      \n",
    "# se hai scritto tutto il codice giusto, ed esegui la cella, python non dovrebbe lanciare AssertionError\n",
    "        \n",
    "assert contavoc(\"arco\") == 2\n",
    "assert contavoc(\"scaturire\") == 4\n",
    "\n",
    "try:\n",
    "    contavoc(\"ciao\")    # con questa stringa ci attendiamo che sollevi l'eccezione ValueError\n",
    "    raise Exception(\"Non dovrei arrivare fin qui !\")\n",
    "except ValueError:      # se solleva l'eccezione ValueError,si sta comportando come previsto e non facciamo niente\n",
    "    pass\n",
    "\n",
    "try:\n",
    "    contavoc(\"aiuola\")  # con questa stringa ci attendiamo che sollevi l'eccezione ValueError\n",
    "    raise Exception(\"Non dovrei arrivare fin qui !\")\n",
    "except ValueError:      # se solleva l'eccezione ValueError,si sta comportando come previsto e non facciamo niente\n",
    "    pass\n",
    "\n"
   ]
  },
  {
   "cell_type": "raw",
   "id": "4cbb6556",
   "metadata": {
    "format": "text/html"
   },
   "source": [
    "</div>"
   ]
  },
  {
   "cell_type": "code",
   "execution_count": 12,
   "metadata": {},
   "outputs": [],
   "source": [
    "\n",
    "def contavoc(parola):\n",
    "    raise Exception('TODO IMPLEMENT ME !')\n",
    "        \n",
    "# INIZIO TEST - NON TOCCARE !      \n",
    "# se hai scritto tutto il codice giusto, ed esegui la cella, python non dovrebbe lanciare AssertionError\n",
    "        \n",
    "assert contavoc(\"arco\") == 2\n",
    "assert contavoc(\"scaturire\") == 4\n",
    "\n",
    "try:\n",
    "    contavoc(\"ciao\")    # con questa stringa ci attendiamo che sollevi l'eccezione ValueError\n",
    "    raise Exception(\"Non dovrei arrivare fin qui !\")\n",
    "except ValueError:      # se solleva l'eccezione ValueError,si sta comportando come previsto e non facciamo niente\n",
    "    pass\n",
    "\n",
    "try:\n",
    "    contavoc(\"aiuola\")  # con questa stringa ci attendiamo che sollevi l'eccezione ValueError\n",
    "    raise Exception(\"Non dovrei arrivare fin qui !\")\n",
    "except ValueError:      # se solleva l'eccezione ValueError,si sta comportando come previsto e non facciamo niente\n",
    "    pass\n",
    "\n"
   ]
  },
  {
   "cell_type": "markdown",
   "metadata": {},
   "source": [
    "### palindroma\n",
    "\n",
    "✪✪✪ Una parola è palindroma quando è esattamente la stessa se letta al contrario\n",
    "\n",
    "Scrivi una funzione che RITORNA `True` se una parola è palindroma, `False` altrimenti\n",
    "\n",
    "* assumi che la stringa vuota sia palindroma\n",
    "\n",
    "Esempio: \n",
    "\n",
    "```python\n",
    ">>> x = palindroma('radar')\n",
    ">>> x\n",
    "True\n",
    ">>> x = palindroma('scatola')\n",
    ">>> x\n",
    "False\n",
    "\n",
    "```"
   ]
  },
  {
   "cell_type": "raw",
   "id": "fa31b5a5",
   "metadata": {
    "format": "text/html"
   },
   "source": [
    "<a  class=\"jupman-sol jupman-sol-toggler\" \n",
    " onclick=\"jupman.toggleSolution(this);\" \n",
    " data-jupman-show=\"Mostra soluzione\" data-jupman-hide=\"Nascondi\">Mostra soluzione</a><div class=\"jupman-sol jupman-sol-code\" style=\"display:none\">  "
   ]
  },
  {
   "cell_type": "code",
   "execution_count": 13,
   "metadata": {},
   "outputs": [],
   "source": [
    "\n",
    "def palindroma(parola):\n",
    "    \n",
    "    for i in range(len(parola) // 2):\n",
    "        if parola[i] != parola[len(parola)- i - 1]:\n",
    "            return False\n",
    "                  \n",
    "    return True   # nota che è FUORI dal for: superati tutti i controlli,\n",
    "                  # possiamo concludere che la parola è palindroma\n",
    "    \n",
    "    \n",
    "# INIZIO TEST - NON TOCCARE !      \n",
    "# se hai scritto tutto il codice giusto, ed esegui la cella, python non dovrebbe lanciare AssertionError\n",
    "\n",
    "assert palindroma('') == True    # assumiamo che la stringa vuota sia palindroma\n",
    "assert palindroma('a') == True\n",
    "assert palindroma('aa') == True\n",
    "assert palindroma('ab') == False\n",
    "assert palindroma('aba') == True\n",
    "assert palindroma('bab') == True\n",
    "assert palindroma('bba') == False\n",
    "assert palindroma('abb') == False\n",
    "assert palindroma('abba') == True\n",
    "assert palindroma('baab') == True\n",
    "assert palindroma('abbb') == False\n",
    "assert palindroma('bbba') == False\n",
    "assert palindroma('radar') == True\n",
    "assert palindroma('scatola') == False\n",
    "\n",
    "# FINE TEST\n",
    "    "
   ]
  },
  {
   "cell_type": "raw",
   "id": "e330de41",
   "metadata": {
    "format": "text/html"
   },
   "source": [
    "</div>"
   ]
  },
  {
   "cell_type": "code",
   "execution_count": 13,
   "metadata": {},
   "outputs": [],
   "source": [
    "\n",
    "def palindroma(parola):\n",
    "    raise Exception('TODO IMPLEMENT ME !')\n",
    "    \n",
    "# INIZIO TEST - NON TOCCARE !      \n",
    "# se hai scritto tutto il codice giusto, ed esegui la cella, python non dovrebbe lanciare AssertionError\n",
    "\n",
    "assert palindroma('') == True    # assumiamo che la stringa vuota sia palindroma\n",
    "assert palindroma('a') == True\n",
    "assert palindroma('aa') == True\n",
    "assert palindroma('ab') == False\n",
    "assert palindroma('aba') == True\n",
    "assert palindroma('bab') == True\n",
    "assert palindroma('bba') == False\n",
    "assert palindroma('abb') == False\n",
    "assert palindroma('abba') == True\n",
    "assert palindroma('baab') == True\n",
    "assert palindroma('abbb') == False\n",
    "assert palindroma('bbba') == False\n",
    "assert palindroma('radar') == True\n",
    "assert palindroma('scatola') == False\n",
    "\n",
    "# FINE TEST\n",
    "    "
   ]
  },
  {
   "cell_type": "markdown",
   "metadata": {},
   "source": [
    "## Prosegui\n",
    "\n",
    "Continua con le [challenges](https://it.softpython.org/strings/strings5-chal.html)"
   ]
  }
 ],
 "metadata": {
  "celltoolbar": "Edit Metadata",
  "kernelspec": {
   "display_name": "Python 3",
   "language": "python",
   "name": "python3"
  },
  "language_info": {
   "codemirror_mode": {
    "name": "ipython",
    "version": 3
   },
   "file_extension": ".py",
   "mimetype": "text/x-python",
   "name": "python",
   "nbconvert_exporter": "python",
   "pygments_lexer": "ipython3",
   "version": "3.7.10"
  },
  "toc": {
   "base_numbering": 1,
   "nav_menu": {},
   "number_sections": false,
   "sideBar": true,
   "skip_h1_title": false,
   "title_cell": "Table of Contents",
   "title_sidebar": "Contents",
   "toc_cell": false,
   "toc_position": {},
   "toc_section_display": true,
   "toc_window_display": true
  }
 },
 "nbformat": 4,
 "nbformat_minor": 2
}

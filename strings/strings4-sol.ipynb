{
 "cells": [
  {
   "cell_type": "code",
   "execution_count": 1,
   "metadata": {
    "nbsphinx": "hidden"
   },
   "outputs": [],
   "source": [
    "# Ricordati di eseguire questa cella con Shift+Invio\n",
    "\n",
    "import jupman"
   ]
  },
  {
   "cell_type": "markdown",
   "metadata": {},
   "source": [
    "# Stringhe 4 - metodi di ricerca\n",
    "\n",
    "## [Scarica zip esercizi](../_static/generated/strings.zip)\n",
    "\n",
    "[Naviga file online](https://github.com/DavidLeoni/softpython-it/tree/master/strings)\n"
   ]
  },
  {
   "cell_type": "markdown",
   "metadata": {},
   "source": [
    "Le stringhe mettono a disposizione diversi metodi per effettuare ricerche e e trasformarle in nuove stringhe, ma attenzione: il potere è nulla senza il controllo! A volte ti troverai con l'esigenza di usarli, e potrebbero anche funzionare con qualche piccolo esempio, ma spesso nascondono tranelli che poi si rimpiangono amaramente. Quindi quando scrivi codice con uno di questi metodi, **poniti sempre le domande che evidenzieremo!**\n",
    "\n",
    "\n",
    "<div class=\"alert alert-warning\">\n",
    "\n",
    "**ATTENZIONE: Quando i metodi sulle stringhe generano una stringa, questa è SEMPRE NUOVA**\n",
    "\n",
    "L'oggetto stringa originale non viene MAI modificato (perchè le stringhe sono immutabili). \n",
    "\n",
    "</div>\n"
   ]
  },
  {
   "cell_type": "markdown",
   "metadata": {},
   "source": [
    "\n",
    "|Risultato|Metodo|Significato|\n",
    "|---------|------|-----------|\n",
    "|str|[str.strip(str)](#Metodo-strip)|Rimuove stringhe dai lati|\n",
    "|str|[str.lstrip(str)](#Metodo-lstrip)|Rimuove stringhe da sinistra|\n",
    "|str|[str.rstrip(str)](#Metodo-rstrip)|Rimuove stringhe da destra|\n",
    "|int|[str.count(str)](#Metodo-count)|Conta il numero di occorrenze di una sottostringa|\n",
    "|int|[str.find(str)](#Metodo-find)|Ritorna la prima posizione di una sottostringa a partire da sinistra|\n",
    "|int|[str.rfind(str)](#Metodo-rfind)|Ritorna la prima posizione di una sottostringa a partire da destra|\n",
    "|str|[str.replace(str, str)](#Metodo-replace)|Sostituisce sottostringhe|"
   ]
  },
  {
   "cell_type": "markdown",
   "metadata": {},
   "source": [
    "## Che fare\n",
    "\n",
    "1. scompatta lo zip in una cartella, dovresti ottenere qualcosa del genere: \n",
    "\n",
    "```\n",
    "\n",
    "strings\n",
    "    strings1.ipynb    \n",
    "    strings1-sol.ipynb         \n",
    "    strings2.ipynb\n",
    "    strings2-sol.ipynb\n",
    "    strings3.ipynb\n",
    "    strings3-sol.ipynb\n",
    "    strings4.ipynb\n",
    "    strings4-sol.ipynb\n",
    "    strings5-chal.ipynb\n",
    "    jupman.py         \n",
    "```\n",
    "\n",
    "<div class=\"alert alert-warning\">\n",
    "\n",
    "**ATTENZIONE**: Per essere visualizzato correttamente, il file del notebook DEVE essere nella cartella szippata.\n",
    "</div>\n",
    "\n",
    "2. apri il Jupyter Notebook da quella cartella. Due cose dovrebbero aprirsi, prima una console e poi un browser. Il browser dovrebbe mostrare una lista di file: naviga la lista e apri il notebook `strings4.ipynb`\n",
    "3. Prosegui leggendo il file degli esercizi, ogni tanto al suo interno troverai delle scritte **ESERCIZIO**, che ti chiederanno di scrivere dei comandi Python nelle celle successive.\n",
    "\n",
    "Scorciatoie da tastiera:\n",
    "\n",
    "* Per eseguire il codice Python dentro una cella di Jupyter, premi `Control+Invio`\n",
    "* Per eseguire il codice Python dentro una cella di Jupyter E selezionare la cella seguente, premi `Shift+Invio`\n",
    "* Per eseguire il codice Python dentro una cella di Jupyter E creare una nuova cella subito dopo, premi `Alt+Invio`\n",
    "* Se per caso il Notebook sembra inchiodato, prova a selezionare `Kernel -> Restart`\n",
    "\n"
   ]
  },
  {
   "cell_type": "markdown",
   "metadata": {},
   "source": [
    "## Metodo strip\n",
    "\n",
    "Elimina spazi bianchi, tab e ritorni a capo dalle _estremità_ della stringa. In genere, questo insieme di caratteri viene definito _blank_\n",
    "\n",
    "**NOTA**: NON rimuove i _blank_ tra le parole della stringa! Solo quelli all'estremità destra e sinistra."
   ]
  },
  {
   "cell_type": "code",
   "execution_count": 2,
   "metadata": {},
   "outputs": [],
   "source": [
    "x = ' \\t\\n\\n\\t carpe diem \\t  '   # alle estremità abbiamo messo spazi bianchi, tab e ritorni a capo"
   ]
  },
  {
   "cell_type": "code",
   "execution_count": 3,
   "metadata": {},
   "outputs": [
    {
     "data": {
      "text/plain": [
       "' \\t\\n\\n\\t carpe diem \\t  '"
      ]
     },
     "execution_count": 3,
     "metadata": {},
     "output_type": "execute_result"
    }
   ],
   "source": [
    "x"
   ]
  },
  {
   "cell_type": "code",
   "execution_count": 4,
   "metadata": {},
   "outputs": [
    {
     "name": "stdout",
     "output_type": "stream",
     "text": [
      " \t\n",
      "\n",
      "\t carpe diem \t  \n"
     ]
    }
   ],
   "source": [
    "print(x)"
   ]
  },
  {
   "cell_type": "code",
   "execution_count": 5,
   "metadata": {},
   "outputs": [
    {
     "data": {
      "text/plain": [
       "20"
      ]
     },
     "execution_count": 5,
     "metadata": {},
     "output_type": "execute_result"
    }
   ],
   "source": [
    "len(x)   # ricorda che i caratteri speciali come \\t e \\n occupano 1 carattere"
   ]
  },
  {
   "cell_type": "code",
   "execution_count": 6,
   "metadata": {},
   "outputs": [],
   "source": [
    "y = x.strip()"
   ]
  },
  {
   "cell_type": "code",
   "execution_count": 7,
   "metadata": {},
   "outputs": [
    {
     "data": {
      "text/plain": [
       "'carpe diem'"
      ]
     },
     "execution_count": 7,
     "metadata": {},
     "output_type": "execute_result"
    }
   ],
   "source": [
    "y"
   ]
  },
  {
   "cell_type": "code",
   "execution_count": 8,
   "metadata": {},
   "outputs": [
    {
     "name": "stdout",
     "output_type": "stream",
     "text": [
      "carpe diem\n"
     ]
    }
   ],
   "source": [
    "print(y)"
   ]
  },
  {
   "cell_type": "code",
   "execution_count": 9,
   "metadata": {},
   "outputs": [
    {
     "data": {
      "text/plain": [
       "10"
      ]
     },
     "execution_count": 9,
     "metadata": {},
     "output_type": "execute_result"
    }
   ],
   "source": [
    "len(y)"
   ]
  },
  {
   "cell_type": "code",
   "execution_count": 10,
   "metadata": {},
   "outputs": [
    {
     "data": {
      "text/plain": [
       "' \\t\\n\\n\\t carpe diem \\t  '"
      ]
     },
     "execution_count": 10,
     "metadata": {},
     "output_type": "execute_result"
    }
   ],
   "source": [
    "x      # IMPORTANTE: x è ancora associato alla vecchia stringa !"
   ]
  },
  {
   "cell_type": "markdown",
   "metadata": {},
   "source": [
    "### Specificare i caratteri da rimuovere\n",
    "\n",
    "Se vuoi che Python si limiti a rimuovere solo qualche carattere specifico, puoi specificarli in parentesi. Proviamo a specificarne solo uno:"
   ]
  },
  {
   "cell_type": "code",
   "execution_count": 11,
   "metadata": {},
   "outputs": [
    {
     "data": {
      "text/plain": [
       "'alsa'"
      ]
     },
     "execution_count": 11,
     "metadata": {},
     "output_type": "execute_result"
    }
   ],
   "source": [
    "'salsa'.strip('s')    #  nota che la `s` interna non è rimossa"
   ]
  },
  {
   "cell_type": "markdown",
   "metadata": {},
   "source": [
    "Se ne specifichiamo due o più, Python rimuove tutti i caratteri che può trovare dai lati\n",
    "\n",
    "Nota che l'ordine in cui specifichi i caratteri **non** conta:"
   ]
  },
  {
   "cell_type": "code",
   "execution_count": 12,
   "metadata": {},
   "outputs": [
    {
     "data": {
      "text/plain": [
       "'ust'"
      ]
     },
     "execution_count": 12,
     "metadata": {},
     "output_type": "execute_result"
    }
   ],
   "source": [
    "'caustic'.strip('aci')"
   ]
  },
  {
   "cell_type": "markdown",
   "metadata": {},
   "source": [
    "<div class=\"alert alert-warning\">\n",
    "\n",
    "**ATTENZIONE: Se specifichi i caratteri, Python non proverà più a rimuovere i** ***blank!***\n",
    "</div>"
   ]
  },
  {
   "cell_type": "code",
   "execution_count": 13,
   "metadata": {},
   "outputs": [
    {
     "data": {
      "text/plain": [
       "'ouquet  '"
      ]
     },
     "execution_count": 13,
     "metadata": {},
     "output_type": "execute_result"
    }
   ],
   "source": [
    "'bouquet  '.strip('b')    # non rimuoverà gli spazi a destra!"
   ]
  },
  {
   "cell_type": "code",
   "execution_count": 14,
   "metadata": {},
   "outputs": [
    {
     "data": {
      "text/plain": [
       "'\\tbouquet  '"
      ]
     },
     "execution_count": 14,
     "metadata": {},
     "output_type": "execute_result"
    }
   ],
   "source": [
    "'\\tbouquet  '.strip('b')    # ... nè rimuoverà i blank a sinistra come il tab"
   ]
  },
  {
   "cell_type": "markdown",
   "metadata": {},
   "source": [
    "Secondo lo stesso principio, se specifichi uno spazio `' '`, allora Python rimuoverà **solo** gli spazi e non cercherà gli altri _blank_ !!"
   ]
  },
  {
   "cell_type": "code",
   "execution_count": 15,
   "metadata": {},
   "outputs": [
    {
     "data": {
      "text/plain": [
       "'attento! \\t'"
      ]
     },
     "execution_count": 15,
     "metadata": {},
     "output_type": "execute_result"
    }
   ],
   "source": [
    "'  attento! \\t'.strip(' ')   # rimuove solo dalla sinistra!"
   ]
  },
  {
   "cell_type": "markdown",
   "metadata": {},
   "source": [
    "**DOMANDA**: per ciascuna delle espressioni seguenti, prova ad indovinare che risultato produce (o se da errore):\n",
    "\n",
    "\n",
    "1.  ```python\n",
    "    '\\ttumultuoso\\n'.strip()\n",
    "    ```\n",
    "1.  ```python\n",
    "    ' a b c '.strip()\n",
    "    ```\n",
    "1.  ```python\n",
    "    '\\ta\\tb\\t'.strip()\n",
    "    ```\n",
    "1.  ```python\n",
    "    '\\\\tMmm'.strip()\n",
    "    ```\n",
    "1.  ```python\n",
    "    'sky diving'.strip('sky')\n",
    "    ```\n",
    "1.  ```python\n",
    "    'anacondas'.strip('sad')\n",
    "    ```    \n",
    "1.  ```python\n",
    "    '\\nno way '.strip(' ')\n",
    "    ```            \n",
    "1.  ```python\n",
    "    '\\nno way '.strip('\\\\n')\n",
    "    ```\n",
    "1.  ```python\n",
    "    '\\nno way '.strip('\\n')\n",
    "    ```                \n",
    "1.  ```python\n",
    "    'salsa'.strip('as')\n",
    "    ```\n",
    "1.  ```python\n",
    "    '\\t ACE '.strip('\\t')\n",
    "    ```\n",
    "1.  ```python\n",
    "    ' e allora? '.strip(\"\")\n",
    "    ```\n",
    "1.  ```python\n",
    "    str(-3+1).strip(\"+\"+\"-\")\n",
    "    ```    "
   ]
  },
  {
   "cell_type": "markdown",
   "metadata": {},
   "source": [
    "### Esercizio - Biblio blank\n",
    "\n",
    "Hai appena coronato il tuo sogno: sei stata assunta nella cyber-biblioteca!\n",
    "Era da quando frequentavi il Gymnasiuz Lunare nel 2365 che sognavavi di contribuire a mantenere e tramandare la conoscenza umana accumulata nei secoli.\n",
    "Dovrai controllare il lavoro di un Intelligenza Artificiale che legge e trascrive un'interessante cronaca dal titolo \"**Pagine Bianche 2021**\".\n",
    "\n",
    "Le Pagine hanno degli elenchi di numeri formati in questa maniera:\n",
    "\n",
    "Nome Cognome Prefisso-Suffisso\n",
    "\n",
    "Tuttavia la macchina è difettosa e per ogni riga che legge tende a inserire dei caratteri _blank_  (spazi, caratteri di controllo come `\\t` e `\\n`, ...):\n",
    "\n",
    "* a volte deve scaldare la testina mobile, causando la lettura di numerosi _blank_ prima del testo\n",
    "* a volte l'Intelligenza Artificiale rimane così colpita dal contenuto che si dimentica di spegnere la lettura aggiungendo così _blank_ in coda\n",
    "\n",
    "Dovrebbe invece produrre una stringa con trattino iniziale e punto finale:\n",
    "\n",
    "`-` Nome Cognome Prefisso-Suffisso`.`\n",
    "\n",
    "Scrivi del codice per sistemare il prodotto dell'IA pasticciona."
   ]
  },
  {
   "cell_type": "raw",
   "id": "d551ed46",
   "metadata": {
    "format": "text/html"
   },
   "source": [
    "<a  class=\"jupman-sol jupman-sol-toggler\" \n",
    " onclick=\"jupman.toggleSolution(this);\" \n",
    " data-jupman-show=\"Mostra soluzione\" data-jupman-hide=\"Nascondi\">Mostra soluzione</a><div class=\"jupman-sol jupman-sol-code\" style=\"display:none\">  "
   ]
  },
  {
   "cell_type": "code",
   "execution_count": 16,
   "metadata": {
    "scrolled": true
   },
   "outputs": [
    {
     "name": "stdout",
     "output_type": "stream",
     "text": [
      " - Mario Rossi 0323-454345.\n"
     ]
    }
   ],
   "source": [
    "\n",
    "\n",
    "riga = '      \\t   \\n  Mario Rossi 0323-454345 \\t \\t   '  # - Mario Rossi 0323-454345.\n",
    "#riga = '    Ernesto Spadafesso 0323-454345  \\n'          # - Ernesto Spadafesso 0323-454345.\n",
    "#riga = '      Gianantonia Marcolina Carla Napoleone 0323-454345 \\t'\n",
    "#riga = '\\nChiara Ermellino 0323-454345  \\n \\n'\n",
    "#riga = '  \\tGiada Pietraverde 0323-454345\\n\\t'\n",
    "\n",
    "# scrivi qui\n",
    "prodotto = ' - ' + riga.strip() + '.'\n",
    "print(prodotto)"
   ]
  },
  {
   "cell_type": "raw",
   "id": "118826db",
   "metadata": {
    "format": "text/html"
   },
   "source": [
    "</div>"
   ]
  },
  {
   "cell_type": "code",
   "execution_count": 16,
   "metadata": {
    "scrolled": true
   },
   "outputs": [],
   "source": [
    "\n",
    "\n",
    "riga = '      \\t   \\n  Mario Rossi 0323-454345 \\t \\t   '  # - Mario Rossi 0323-454345.\n",
    "#riga = '    Ernesto Spadafesso 0323-454345  \\n'          # - Ernesto Spadafesso 0323-454345.\n",
    "#riga = '      Gianantonia Marcolina Carla Napoleone 0323-454345 \\t'\n",
    "#riga = '\\nChiara Ermellino 0323-454345  \\n \\n'\n",
    "#riga = '  \\tGiada Pietraverde 0323-454345\\n\\t'\n",
    "\n",
    "# scrivi qui\n",
    "\n"
   ]
  },
  {
   "cell_type": "markdown",
   "metadata": {},
   "source": [
    "## Metodo lstrip\n",
    "\n",
    "Elimina spazi bianchi, tab e ritorni a capo dall' _estremità sinistra_ della stringa. \n",
    "\n",
    "**NOTA**: NON rimuove i _blank_ tra le parole della stringa! Solo quelli all'estremità sinistra."
   ]
  },
  {
   "cell_type": "code",
   "execution_count": 17,
   "metadata": {},
   "outputs": [],
   "source": [
    "x = '\\n \\t la strada \\t '"
   ]
  },
  {
   "cell_type": "code",
   "execution_count": 18,
   "metadata": {},
   "outputs": [
    {
     "data": {
      "text/plain": [
       "'\\n \\t la strada \\t '"
      ]
     },
     "execution_count": 18,
     "metadata": {},
     "output_type": "execute_result"
    }
   ],
   "source": [
    "x"
   ]
  },
  {
   "cell_type": "code",
   "execution_count": 19,
   "metadata": {},
   "outputs": [
    {
     "data": {
      "text/plain": [
       "16"
      ]
     },
     "execution_count": 19,
     "metadata": {},
     "output_type": "execute_result"
    }
   ],
   "source": [
    "len(x)"
   ]
  },
  {
   "cell_type": "code",
   "execution_count": 20,
   "metadata": {},
   "outputs": [],
   "source": [
    "y = x.lstrip()"
   ]
  },
  {
   "cell_type": "code",
   "execution_count": 21,
   "metadata": {},
   "outputs": [
    {
     "data": {
      "text/plain": [
       "'la strada \\t '"
      ]
     },
     "execution_count": 21,
     "metadata": {},
     "output_type": "execute_result"
    }
   ],
   "source": [
    "y"
   ]
  },
  {
   "cell_type": "code",
   "execution_count": 22,
   "metadata": {},
   "outputs": [
    {
     "data": {
      "text/plain": [
       "12"
      ]
     },
     "execution_count": 22,
     "metadata": {},
     "output_type": "execute_result"
    }
   ],
   "source": [
    "len(y)"
   ]
  },
  {
   "cell_type": "code",
   "execution_count": 23,
   "metadata": {},
   "outputs": [
    {
     "data": {
      "text/plain": [
       "'\\n \\t la strada \\t '"
      ]
     },
     "execution_count": 23,
     "metadata": {},
     "output_type": "execute_result"
    }
   ],
   "source": [
    "x       # IMPORTANTE: x è ancora associato alla vecchia stringa !"
   ]
  },
  {
   "cell_type": "markdown",
   "metadata": {},
   "source": [
    "## Metodo rstrip\n",
    "\n",
    "Elimina spazi bianchi, tab e ritorni a capo dall' _estremità destra_ della stringa. \n",
    "\n",
    "**NOTA**: NON rimuove i _blank_ tra le parole della stringa! Solo quelli all'estremità destra."
   ]
  },
  {
   "cell_type": "code",
   "execution_count": 24,
   "metadata": {},
   "outputs": [],
   "source": [
    "x = '\\n \\t il faro \\t '"
   ]
  },
  {
   "cell_type": "code",
   "execution_count": 25,
   "metadata": {},
   "outputs": [
    {
     "data": {
      "text/plain": [
       "'\\n \\t il faro \\t '"
      ]
     },
     "execution_count": 25,
     "metadata": {},
     "output_type": "execute_result"
    }
   ],
   "source": [
    "x"
   ]
  },
  {
   "cell_type": "code",
   "execution_count": 26,
   "metadata": {},
   "outputs": [
    {
     "data": {
      "text/plain": [
       "14"
      ]
     },
     "execution_count": 26,
     "metadata": {},
     "output_type": "execute_result"
    }
   ],
   "source": [
    "len(x)"
   ]
  },
  {
   "cell_type": "code",
   "execution_count": 27,
   "metadata": {},
   "outputs": [],
   "source": [
    "y = x.rstrip()"
   ]
  },
  {
   "cell_type": "code",
   "execution_count": 28,
   "metadata": {},
   "outputs": [
    {
     "data": {
      "text/plain": [
       "'\\n \\t il faro'"
      ]
     },
     "execution_count": 28,
     "metadata": {},
     "output_type": "execute_result"
    }
   ],
   "source": [
    "y"
   ]
  },
  {
   "cell_type": "code",
   "execution_count": 29,
   "metadata": {},
   "outputs": [
    {
     "data": {
      "text/plain": [
       "11"
      ]
     },
     "execution_count": 29,
     "metadata": {},
     "output_type": "execute_result"
    }
   ],
   "source": [
    "len(y)"
   ]
  },
  {
   "cell_type": "code",
   "execution_count": 30,
   "metadata": {},
   "outputs": [
    {
     "data": {
      "text/plain": [
       "'\\n \\t il faro \\t '"
      ]
     },
     "execution_count": 30,
     "metadata": {},
     "output_type": "execute_result"
    }
   ],
   "source": [
    "x       # IMPORTANTE: x è ancora associato alla vecchia stringa !"
   ]
  },
  {
   "cell_type": "markdown",
   "metadata": {},
   "source": [
    "### Esercizio - Bad to the bone\n",
    "\n",
    "Hai una stringa in maiuscolo `s` che contiene ai lati dei caratteri che vuoi rimuovere: `punteggiatura`, un `carattere` minuscolo e dei _blank_. Scrivi del codice per eseguire la rimozione\n",
    "\n",
    "Esempio - dati:\n",
    "\n",
    "```python\n",
    "carattere = 'b'\n",
    "punteggiatura = '!?.;,'\n",
    "s = ' \\t\\n...bbbbbBAD TO THE BONE\\n!'\n",
    "```\n",
    "\n",
    "il tuo codice dovrebbe mostrare:\n",
    "\n",
    "```\n",
    "'BAD TO THE BONE'\n",
    "```\n",
    "\n",
    "* usa solo i metodi `strip` (o `lstrip` e `rstrip`)  (se necessario, puoi fare chiamate ripetute)"
   ]
  },
  {
   "cell_type": "raw",
   "id": "2d02c5c7",
   "metadata": {
    "format": "text/html"
   },
   "source": [
    "<a  class=\"jupman-sol jupman-sol-toggler\" \n",
    " onclick=\"jupman.toggleSolution(this);\" \n",
    " data-jupman-show=\"Mostra soluzione\" data-jupman-hide=\"Nascondi\">Mostra soluzione</a><div class=\"jupman-sol jupman-sol-code\" style=\"display:none\">  "
   ]
  },
  {
   "cell_type": "code",
   "execution_count": 31,
   "metadata": {},
   "outputs": [
    {
     "data": {
      "text/plain": [
       "'BAD TO THE BONE'"
      ]
     },
     "execution_count": 31,
     "metadata": {},
     "output_type": "execute_result"
    }
   ],
   "source": [
    "\n",
    "carattere = 'b'\n",
    "punteggiatura = '!?.;,'\n",
    "s = ' \\t\\n...bbbbbBAD TO THE BONE\\n!'\n",
    "\n",
    "# scrivi qui\n",
    "s.strip().strip(carattere + punteggiatura).strip()"
   ]
  },
  {
   "cell_type": "raw",
   "id": "b6929492",
   "metadata": {
    "format": "text/html"
   },
   "source": [
    "</div>"
   ]
  },
  {
   "cell_type": "code",
   "execution_count": 31,
   "metadata": {},
   "outputs": [],
   "source": [
    "\n",
    "carattere = 'b'\n",
    "punteggiatura = '!?.;,'\n",
    "s = ' \\t\\n...bbbbbBAD TO THE BONE\\n!'\n",
    "\n",
    "# scrivi qui\n",
    "\n"
   ]
  },
  {
   "cell_type": "markdown",
   "metadata": {},
   "source": [
    "## Metodo count\n",
    "\n",
    "Il metodo `count` prende una sottostringa e conta quante occorrenze vi sono nella stringa prima del punto."
   ]
  },
  {
   "cell_type": "code",
   "execution_count": 32,
   "metadata": {},
   "outputs": [
    {
     "data": {
      "text/plain": [
       "3"
      ]
     },
     "execution_count": 32,
     "metadata": {},
     "output_type": "execute_result"
    }
   ],
   "source": [
    "\"raggi astrali\".count('a')"
   ]
  },
  {
   "cell_type": "code",
   "execution_count": 33,
   "metadata": {},
   "outputs": [
    {
     "data": {
      "text/plain": [
       "0"
      ]
     },
     "execution_count": 33,
     "metadata": {},
     "output_type": "execute_result"
    }
   ],
   "source": [
    "\"raggi astrali\".count('A')    # distingue maiuscole/minuscole"
   ]
  },
  {
   "cell_type": "code",
   "execution_count": 34,
   "metadata": {},
   "outputs": [
    {
     "data": {
      "text/plain": [
       "1"
      ]
     },
     "execution_count": 34,
     "metadata": {},
     "output_type": "execute_result"
    }
   ],
   "source": [
    "\"raggi astrali\".count('st')"
   ]
  },
  {
   "cell_type": "markdown",
   "metadata": {},
   "source": [
    "Opzionalmente, puoi passare due altri parametri per denotare un indice da quale partire a contare (incluso) e dove terminare (escluso):"
   ]
  },
  {
   "cell_type": "code",
   "execution_count": 35,
   "metadata": {},
   "outputs": [
    {
     "data": {
      "text/plain": [
       "2"
      ]
     },
     "execution_count": 35,
     "metadata": {},
     "output_type": "execute_result"
    }
   ],
   "source": [
    "#012345678901\n",
    "\"raggi astrali\".count('a',4)  "
   ]
  },
  {
   "cell_type": "code",
   "execution_count": 36,
   "metadata": {},
   "outputs": [
    {
     "data": {
      "text/plain": [
       "1"
      ]
     },
     "execution_count": 36,
     "metadata": {},
     "output_type": "execute_result"
    }
   ],
   "source": [
    "#0123456789012\n",
    "\"raggi astrali\".count('a',4,9)  "
   ]
  },
  {
   "cell_type": "markdown",
   "metadata": {},
   "source": [
    "### Non abusare count"
   ]
  },
  {
   "cell_type": "markdown",
   "metadata": {},
   "source": [
    "<div class=\"alert alert-warning\">\n",
    "    \n",
    "**ATTENZIONE**: `count` **viene spesso usato in modo errato / inefficiente**\n",
    "\n",
    "Chiediti sempre:\n",
    "    \n",
    "1. la stringa su cui operare potrebbe contenere duplicati? Ricordati che verranno tutti conteggiati!\n",
    "2. la stringa potrebbe _non_ contenere la sottostringa da conteggiare? Ricordati di gestire anche questo caso!\n",
    "3. `count` compie una ricerca in tutta la stringa, che può essere inefficiente: è proprio necessaria, o sappiamo già l'intervallo in cui cercare?\n",
    "</div>"
   ]
  },
  {
   "cell_type": "markdown",
   "metadata": {},
   "source": [
    "### Esercizio - denaro astrale\n",
    "\n",
    "Durante il lockdown 2020, mentre guardavi le stelle nella notte, hai cominciato a sentire... onde. Rimuginandoci sopra, hai deciso che LORO vogliono comunicare con te, perciò hai montato un antenna satellitare sul tuo tetto per ricevere messaggi dagli alieni. Dopo mesi di rumori apparentemente irrilevanti, un giorno hai finalmente ricevuto un radio-messaggio che pensi di poter tradurre. Gli alieni _ovviamente_ stanno cercando di dirti i numeri vincenti della lotto!\n",
    "\n",
    "Un messaggio è una sequenza di esattamente 3 _diverse_ ripetizioni di caratteri: il numero di caratteri in ogni ripetizione è un numero che proverai alla lotteria. Inizi freneticamente a sviluppare il traduttore per mostrare questi numeri fortunati sul terminale.\n",
    "\n",
    "Esempio - data:\n",
    "\n",
    "```python\n",
    "s = '$$$$€€€€€!!'\n",
    "```\n",
    "\n",
    "dovrebbe stampare:\n",
    "\n",
    "```\n",
    "$ € !\n",
    "4 5 2\n",
    "```\n",
    "\n",
    "* **IMPORTANTE: puoi assumere che tutte le sequenze abbiano caratteri** ***differenti***\n",
    "* **NON** usare cicli nè comprehension\n",
    "* per semplicità assumi che ogni sequenza di caratteri abbia al più 9 ripetizioni"
   ]
  },
  {
   "cell_type": "raw",
   "id": "cc7438db",
   "metadata": {
    "format": "text/html"
   },
   "source": [
    "<a  class=\"jupman-sol jupman-sol-toggler\" \n",
    " onclick=\"jupman.toggleSolution(this);\" \n",
    " data-jupman-show=\"Mostra soluzione\" data-jupman-hide=\"Nascondi\">Mostra soluzione</a><div class=\"jupman-sol jupman-sol-code\" style=\"display:none\">  "
   ]
  },
  {
   "cell_type": "code",
   "execution_count": 37,
   "metadata": {},
   "outputs": [
    {
     "name": "stdout",
     "output_type": "stream",
     "text": [
      "$ € !\n",
      "4 5 2\n"
     ]
    }
   ],
   "source": [
    "\n",
    "    #01234567890      # $ € !\n",
    "s = '$$$$€€€€€!!'     # 4 5 2\n",
    "\n",
    "                      # I M Q\n",
    "#s = 'IIIMMMMMMQQQ'   # 3 6 3\n",
    "\n",
    "                      # H A L    \n",
    "#s = 'HAL'            # 1 1 1\n",
    "\n",
    "# scrivi qui\n",
    "p1 = 0\n",
    "d1 = s.count(s[p1])\n",
    "p2 = p1 + d1\n",
    "d2 = s.count(s[p2])\n",
    "p3 = p2 + d2\n",
    "d3 = s.count(s[p3])\n",
    "\n",
    "print(s[p1],s[p2],s[p3])\n",
    "print(d1,d2,d3)"
   ]
  },
  {
   "cell_type": "raw",
   "id": "ef981d6f",
   "metadata": {
    "format": "text/html"
   },
   "source": [
    "</div>"
   ]
  },
  {
   "cell_type": "code",
   "execution_count": 37,
   "metadata": {},
   "outputs": [],
   "source": [
    "\n",
    "    #01234567890      # $ € !\n",
    "s = '$$$$€€€€€!!'     # 4 5 2\n",
    "\n",
    "                      # I M Q\n",
    "#s = 'IIIMMMMMMQQQ'   # 3 6 3\n",
    "\n",
    "                      # H A L    \n",
    "#s = 'HAL'            # 1 1 1\n",
    "\n",
    "# scrivi qui\n",
    "\n"
   ]
  },
  {
   "cell_type": "markdown",
   "metadata": {},
   "source": [
    "## Metodo find\n",
    "\n",
    "`find` ritorna l'indice della _prima_ occorrenza di qualche sottostringa data:"
   ]
  },
  {
   "cell_type": "code",
   "execution_count": 38,
   "metadata": {},
   "outputs": [
    {
     "data": {
      "text/plain": [
       "7"
      ]
     },
     "execution_count": 38,
     "metadata": {},
     "output_type": "execute_result"
    }
   ],
   "source": [
    "#0123456789012345\n",
    "'bingo bongo bong'.find('ong')"
   ]
  },
  {
   "cell_type": "markdown",
   "metadata": {},
   "source": [
    "Se nessuna occorrenza è trovata, ritorna `-1`:"
   ]
  },
  {
   "cell_type": "code",
   "execution_count": 39,
   "metadata": {},
   "outputs": [
    {
     "data": {
      "text/plain": [
       "-1"
      ]
     },
     "execution_count": 39,
     "metadata": {},
     "output_type": "execute_result"
    }
   ],
   "source": [
    "#0123456789012345\n",
    "'bingo bongo bong'.find('bang')"
   ]
  },
  {
   "cell_type": "code",
   "execution_count": 40,
   "metadata": {},
   "outputs": [
    {
     "data": {
      "text/plain": [
       "-1"
      ]
     },
     "execution_count": 40,
     "metadata": {},
     "output_type": "execute_result"
    }
   ],
   "source": [
    "#0123456789012345\n",
    "'bingo bongo bong'.find('Bong')    #  differenzia tra maiuscole/minuscole"
   ]
  },
  {
   "cell_type": "markdown",
   "metadata": {},
   "source": [
    "Opzionalmente, puoi specificare un indice da dove iniziare a cercare (incluso):"
   ]
  },
  {
   "cell_type": "code",
   "execution_count": 41,
   "metadata": {},
   "outputs": [
    {
     "data": {
      "text/plain": [
       "13"
      ]
     },
     "execution_count": 41,
     "metadata": {},
     "output_type": "execute_result"
    }
   ],
   "source": [
    "#0123456789012345\n",
    "'bingo bongo bong'.find('ong',10)"
   ]
  },
  {
   "cell_type": "markdown",
   "metadata": {},
   "source": [
    "E anche dove finire (escluso):"
   ]
  },
  {
   "cell_type": "code",
   "execution_count": 42,
   "metadata": {},
   "outputs": [
    {
     "data": {
      "text/plain": [
       "-1"
      ]
     },
     "execution_count": 42,
     "metadata": {},
     "output_type": "execute_result"
    }
   ],
   "source": [
    "#0123456789012345\n",
    "'bingo bongo bong'.find('g',4, 9)"
   ]
  },
  {
   "cell_type": "markdown",
   "metadata": {},
   "source": [
    "### Metodo rfind\n",
    "\n",
    "Come il [metodo find](#Metodo-find), ma la ricerca inizia dalla destra."
   ]
  },
  {
   "cell_type": "markdown",
   "metadata": {},
   "source": [
    "### Non abusare find"
   ]
  },
  {
   "cell_type": "markdown",
   "metadata": {},
   "source": [
    "<div class=\"alert alert-warning\">\n",
    "    \n",
    "**ATTENZIONE**: `find` **viene spesso usato in modo errato / inefficiente**\n",
    "\n",
    "Chiediti sempre:\n",
    "    \n",
    "1. la stringa su cui operare potrebbe contenere duplicati? Ricordati che solo il _primo_ verrà trovato!\n",
    "2. la stringa potrebbe _non_ contenere la sottostringa cercata? Ricordati di gestire anche questo caso!\n",
    "3. `find` compie una ricerca in tutta la stringa, che può essere inefficiente: è proprio necessaria, o sappiamo già l'intervallo in cui cercare? \n",
    "4. se vogliamo sapere se un `carattere` è in una posizione nota a priori (es `3`), `find` non ci serve, basta scrivere `stringa[3] == carattere`. Usando `find` potrebbe trovare caratteri duplicati che stanno _prima_ o _dopo_ di quello che vogliamo verificare!\n",
    "</div>"
   ]
  },
  {
   "cell_type": "markdown",
   "metadata": {},
   "source": [
    "### Esercizio - Il porto di Monkey Island \n",
    "\n",
    "L'isola di Monkey Island ha un porto che dispone di 4 moli a cui attraccano le navi provenienti da tutto l'arcipelago. Il punto di attracco non è mai preciso, e possono esserci degli spazi arbitrari con i bordi dei moli. Vi possono anche essere navi dal nome duplicato. \n",
    "\n",
    "1) Supponiamo che ad ogni molo può contenere una sola nave, e vogliamo scrivere del codice che mostri `True` se la `\"The Jolly Rasta\"` è attraccata al molo `2` oppure `False` altrimenti.\n",
    "\n",
    "Guarda i porti seguenti, e per ciascun cerca di indovinare se le righe di codice seguenti produrranno risultati corretti oppure no. Prova poi a scrivere del codice da te che non abbia i problemi che riscontrerai.\n",
    "\n",
    "* **NON** istruzioni `if`,  cicli nè comprehension\n",
    "* **NON** usare liste (quindi niente split)"
   ]
  },
  {
   "cell_type": "raw",
   "id": "720292a6",
   "metadata": {
    "format": "text/html"
   },
   "source": [
    "<a  class=\"jupman-sol jupman-sol-toggler\" \n",
    " onclick=\"jupman.toggleSolution(this);\" \n",
    " data-jupman-show=\"Mostra soluzione\" data-jupman-hide=\"Nascondi\">Mostra soluzione</a><div class=\"jupman-sol jupman-sol-code\" style=\"display:none\">  "
   ]
  },
  {
   "cell_type": "code",
   "execution_count": 43,
   "metadata": {},
   "outputs": [
    {
     "name": "stdout",
     "output_type": "stream",
     "text": [
      "La Jolly Rasta è attraccata al molo 2 ?\n",
      "\n",
      "The Mad Monkey      |  The Jolly Rasta   |  The Sea Cucumber  |LeChuck's Ghost Ship|\n",
      "\n",
      "                     in: True\n",
      "\n",
      "          find su tutto: True\n",
      "\n",
      "  find dal secondo molo: True\n",
      "\n",
      "              Soluzione: True\n"
     ]
    }
   ],
   "source": [
    "larghezza = 21  # larghezza di un molo,  INCLUSO il `|` di destra\n",
    "molo = 2\n",
    "\n",
    "\n",
    "# moli     :  1                    2                    3                    4\n",
    "porto =      \"The Mad Monkey      |  The Jolly Rasta   |  The Sea Cucumber  |LeChuck's Ghost Ship|\"\n",
    "#porto =     \"  The Mad Monkey    |                    | The Sea Cucumber   |LeChuck's Ghost Ship|\"\n",
    "#porto =     \"    The Mad Monkey  |The Jolly Rasta     |   The Sea Cucumber |                    |\"\n",
    "#porto =     \"The Jolly Rasta     |                    |    The Sea Cucumber|LeChuck's Ghost Ship|\"\n",
    "#porto =     \"                    | The Mad Monkey     |   The Jolly Rasta  |LeChuck's Ghost Ship|\"\n",
    "#porto =     \"    The Jolly Rasta |                    | The Jolly Rasta    |   The Jolly Rasta  |\"\n",
    "\n",
    "print('La Jolly Rasta è attraccata al molo', molo, '?')\n",
    "print()\n",
    "print(porto)\n",
    "\n",
    "print()\n",
    "print('                     in:', 'The Jolly Rasta' in porto)\n",
    "\n",
    "print()\n",
    "print('          find su tutto:', porto.find('The Jolly Rasta') != -1)\n",
    "\n",
    "print()\n",
    "print('  find dal secondo molo:', porto.find('The Jolly Rasta', larghezza*(molo-1)) != -1)\n",
    "\n",
    "# scrivi qui\n",
    "print()\n",
    "sub = porto[larghezza*(molo-1):larghezza*molo-1]\n",
    "print('              Soluzione:', sub.find('The Jolly Rasta') != -1)"
   ]
  },
  {
   "cell_type": "raw",
   "id": "594ebed0",
   "metadata": {
    "format": "text/html"
   },
   "source": [
    "</div>"
   ]
  },
  {
   "cell_type": "code",
   "execution_count": 43,
   "metadata": {},
   "outputs": [
    {
     "name": "stdout",
     "output_type": "stream",
     "text": [
      "La Jolly Rasta è attraccata al molo 2 ?\n",
      "\n",
      "The Mad Monkey      |  The Jolly Rasta   |  The Sea Cucumber  |LeChuck's Ghost Ship|\n",
      "\n",
      "                     in: True\n",
      "\n",
      "          find su tutto: True\n",
      "\n",
      "  find dal secondo molo: True\n",
      "\n",
      "              Soluzione: True\n"
     ]
    }
   ],
   "source": [
    "larghezza = 21  # larghezza di un molo,  INCLUSO il `|` di destra\n",
    "molo = 2\n",
    "\n",
    "\n",
    "# moli     :  1                    2                    3                    4\n",
    "porto =      \"The Mad Monkey      |  The Jolly Rasta   |  The Sea Cucumber  |LeChuck's Ghost Ship|\"\n",
    "#porto =     \"  The Mad Monkey    |                    | The Sea Cucumber   |LeChuck's Ghost Ship|\"\n",
    "#porto =     \"    The Mad Monkey  |The Jolly Rasta     |   The Sea Cucumber |                    |\"\n",
    "#porto =     \"The Jolly Rasta     |                    |    The Sea Cucumber|LeChuck's Ghost Ship|\"\n",
    "#porto =     \"                    | The Mad Monkey     |   The Jolly Rasta  |LeChuck's Ghost Ship|\"\n",
    "#porto =     \"    The Jolly Rasta |                    | The Jolly Rasta    |   The Jolly Rasta  |\"\n",
    "\n",
    "print('La Jolly Rasta è attraccata al molo', molo, '?')\n",
    "print()\n",
    "print(porto)\n",
    "\n",
    "print()\n",
    "print('                     in:', 'The Jolly Rasta' in porto)\n",
    "\n",
    "print()\n",
    "print('          find su tutto:', porto.find('The Jolly Rasta') != -1)\n",
    "\n",
    "print()\n",
    "print('  find dal secondo molo:', porto.find('The Jolly Rasta', larghezza*(molo-1)) != -1)\n",
    "\n",
    "# scrivi qui\n",
    "\n"
   ]
  },
  {
   "cell_type": "markdown",
   "metadata": {},
   "source": [
    "2) Supponiamo ora che ogni molo possa accogliere più di una nave, anche con lo stesso nome. Scrivi del codice che mostri `True` se **una sola** Grog Ship è attraccata al secondo molo, `False` altrimenti."
   ]
  },
  {
   "cell_type": "raw",
   "id": "fc229e22",
   "metadata": {
    "format": "text/html"
   },
   "source": [
    "<a  class=\"jupman-sol jupman-sol-toggler\" \n",
    " onclick=\"jupman.toggleSolution(this);\" \n",
    " data-jupman-show=\"Mostra soluzione\" data-jupman-hide=\"Nascondi\">Mostra soluzione</a><div class=\"jupman-sol jupman-sol-code\" style=\"display:none\">  "
   ]
  },
  {
   "cell_type": "code",
   "execution_count": 44,
   "metadata": {},
   "outputs": [
    {
     "name": "stdout",
     "output_type": "stream",
     "text": [
      "\n",
      "Una sola Grog Ship è attraccata al molo 2 ?\n",
      "\n",
      "Soluzione Grog Ship: False\n"
     ]
    }
   ],
   "source": [
    "larghezza = 21  # larghezza di un molo,  INCLUSO il `|` di destra\n",
    "molo = 2\n",
    "\n",
    "# moli     :  1                    2                    3                    4\n",
    "porto =      \"The Mad Monkey      |The Jolly Rasta     |  The Sea Cucumber  |LeChuck's Ghost Ship|\"\n",
    "#porto =     \"The Mad Monkey      | Grog Ship Grog Ship| The Jolly Rasta    |   The Sea Cucumber \"\n",
    "#porto =     \"   The Jolly Rasta  |   Grog Ship        | The Jolly Rasta    |   The Jolly Rasta  \"\n",
    "#porto =     \"   Grog Ship        |   Grog Ship        |LeChuck's Ghost Ship|    Grog Ship       \"\n",
    "#porto =     \"LeChuck's Ghost Ship|                    |   Grog Ship        |   The Jolly Rasta  \"\n",
    "#porto =     \"The Jolly Rasta     | Grog Ship Grog Ship|       Grog Ship    |   The Jolly Rasta  \"\n",
    "\n",
    "print()\n",
    "print('Una sola Grog Ship è attraccata al molo', molo, '?')\n",
    "print()\n",
    "\n",
    "# scrivi qui\n",
    "\n",
    "sub = porto[larghezza*(molo-1):larghezza*molo-1]\n",
    "print('Soluzione Grog Ship:', sub.count('Grog Ship') == 1)"
   ]
  },
  {
   "cell_type": "raw",
   "id": "39b765bc",
   "metadata": {
    "format": "text/html"
   },
   "source": [
    "</div>"
   ]
  },
  {
   "cell_type": "code",
   "execution_count": 44,
   "metadata": {},
   "outputs": [
    {
     "name": "stdout",
     "output_type": "stream",
     "text": [
      "\n",
      "Una sola Grog Ship è attraccata al molo 2 ?\n",
      "\n",
      "Soluzione Grog Ship: False\n"
     ]
    }
   ],
   "source": [
    "larghezza = 21  # larghezza di un molo,  INCLUSO il `|` di destra\n",
    "molo = 2\n",
    "\n",
    "# moli     :  1                    2                    3                    4\n",
    "porto =      \"The Mad Monkey      |The Jolly Rasta     |  The Sea Cucumber  |LeChuck's Ghost Ship|\"\n",
    "#porto =     \"The Mad Monkey      | Grog Ship Grog Ship| The Jolly Rasta    |   The Sea Cucumber \"\n",
    "#porto =     \"   The Jolly Rasta  |   Grog Ship        | The Jolly Rasta    |   The Jolly Rasta  \"\n",
    "#porto =     \"   Grog Ship        |   Grog Ship        |LeChuck's Ghost Ship|    Grog Ship       \"\n",
    "#porto =     \"LeChuck's Ghost Ship|                    |   Grog Ship        |   The Jolly Rasta  \"\n",
    "#porto =     \"The Jolly Rasta     | Grog Ship Grog Ship|       Grog Ship    |   The Jolly Rasta  \"\n",
    "\n",
    "print()\n",
    "print('Una sola Grog Ship è attraccata al molo', molo, '?')\n",
    "print()\n",
    "\n",
    "# scrivi qui\n",
    "\n"
   ]
  },
  {
   "cell_type": "markdown",
   "metadata": {},
   "source": [
    "### Esercizio - banane\n",
    "\n",
    "Durante l'esplorazione di una regione tropicale remota, un etologo scopre una popolazione di scimmie che sembra abbiano qualche concetto dei numeri. Collezionano centinaia di banane che sono poi scambiate con noci di cocco collezionate da un'altro gruppo. Per comunicare quantità fino a 999 banane, usano una serie di esattamente tre suoni gutturali. L'etologo scrive le sequenze e formula la teoria seguente: ogni suono è rappresentato da una sequenza dello stesso carattere, ripetuto un certo numero di volte. Il numero di caratteri nella prima sequenza è la prima cifra (le centinaia), il numero di caratteri nella seconda sequenza è la seconda cifra (le decine), mentre l'ultima sequenza rappresenta le unità.\n",
    "\n",
    "Scrivi del codice che mette nella variabile `banane` **un intero** che rappresenti il numero.\n",
    "\n",
    "Per esempio - dati:\n",
    "\n",
    "```python\n",
    "s = 'bb bbbbb aaaa'\n",
    "```\n",
    "\n",
    "il tuo codice dovrebbe stampare:\n",
    "\n",
    "```\n",
    ">>> banane\n",
    "254\n",
    ">>> type(banane)\n",
    "int\n",
    "```\n",
    "\n",
    "* **IMPORTANTE 1: sequenze differenti possono usare lo** ***stesso*** **carattere!**\n",
    "* **IMPORTANTE 2: non puoi assumere quali caratteri le scimmie useranno**: conosci solo che ogni cifra è rappresentata da una ripetizione dello stesso carattere\n",
    "* **NON** usare cicli nè comprehensions\n",
    "* le scimmie non hanno cognizione dello zero"
   ]
  },
  {
   "cell_type": "raw",
   "id": "3a06e145",
   "metadata": {
    "format": "text/html"
   },
   "source": [
    "<a  class=\"jupman-sol jupman-sol-toggler\" \n",
    " onclick=\"jupman.toggleSolution(this);\" \n",
    " data-jupman-show=\"Mostra soluzione\" data-jupman-hide=\"Nascondi\">Mostra soluzione</a><div class=\"jupman-sol jupman-sol-code\" style=\"display:none\">  "
   ]
  },
  {
   "cell_type": "code",
   "execution_count": 45,
   "metadata": {},
   "outputs": [
    {
     "name": "stdout",
     "output_type": "stream",
     "text": [
      "Le banane sono 254\n"
     ]
    },
    {
     "data": {
      "text/plain": [
       "int"
      ]
     },
     "execution_count": 45,
     "metadata": {},
     "output_type": "execute_result"
    }
   ],
   "source": [
    "\n",
    "    #0123456789012\n",
    "s = 'bb bbbbb aaaa'     # 254\n",
    "#s = 'ccc cc ccc'       # 323    \n",
    "#s = 'vvv rrrr ww'      # 342\n",
    "#s = 'cccc h jjj'       # 413\n",
    "#s = '🌳🌳🌳 🍌🍌🍌🍌🍌🍌 🐵🐵🐵🐵'  # 364   (potresti ottenere *qualunque* strano carattere, anche unicode ...)\n",
    "\n",
    "# scrivi qui\n",
    "p1 = s.find(' ')\n",
    "banane = len(s[:p1])*100\n",
    "p2 = s.find(' ',p1+1)\n",
    "banane += len(s[p1+1:p2])*10\n",
    "banane += len(s[p2+1:])*1\n",
    "\n",
    "print('Le banane sono',banane)\n",
    "type(banane)"
   ]
  },
  {
   "cell_type": "raw",
   "id": "9606b484",
   "metadata": {
    "format": "text/html"
   },
   "source": [
    "</div>"
   ]
  },
  {
   "cell_type": "code",
   "execution_count": 45,
   "metadata": {},
   "outputs": [],
   "source": [
    "\n",
    "    #0123456789012\n",
    "s = 'bb bbbbb aaaa'     # 254\n",
    "#s = 'ccc cc ccc'       # 323    \n",
    "#s = 'vvv rrrr ww'      # 342\n",
    "#s = 'cccc h jjj'       # 413\n",
    "#s = '🌳🌳🌳 🍌🍌🍌🍌🍌🍌 🐵🐵🐵🐵'  # 364   (potresti ottenere *qualunque* strano carattere, anche unicode ...)\n",
    "\n",
    "# scrivi qui\n",
    "\n"
   ]
  },
  {
   "cell_type": "markdown",
   "metadata": {},
   "source": [
    "## Metodo replace\n",
    "\n",
    "`str.replace` prende due stringhe, e restituisce una NUOVA stringa ricavata sostituendo nella stringa su cui è chiamata _tutte_ le occorrenze del primo parametero stringa con il secondo.\n",
    "\n",
    "\n",
    "Esempio:"
   ]
  },
  {
   "cell_type": "code",
   "execution_count": 46,
   "metadata": {},
   "outputs": [
    {
     "data": {
      "text/plain": [
       "'il tROno percorRO'"
      ]
     },
     "execution_count": 46,
     "metadata": {},
     "output_type": "execute_result"
    }
   ],
   "source": [
    "\"il treno percorre\".replace('re', 'RO')"
   ]
  },
  {
   "cell_type": "code",
   "execution_count": 47,
   "metadata": {},
   "outputs": [
    {
     "data": {
      "text/plain": [
       "'alberellini bellini'"
      ]
     },
     "execution_count": 47,
     "metadata": {},
     "output_type": "execute_result"
    }
   ],
   "source": [
    "\"alberello bello\".replace('llo', 'llini')"
   ]
  },
  {
   "cell_type": "code",
   "execution_count": 48,
   "metadata": {},
   "outputs": [
    {
     "data": {
      "text/plain": [
       "'parlare e brindare'"
      ]
     },
     "execution_count": 48,
     "metadata": {},
     "output_type": "execute_result"
    }
   ],
   "source": [
    "\"parlare e brindare\".replace('ARE', 'iamo')  # se cerchiamo maiuscole qua non le troveremo"
   ]
  },
  {
   "cell_type": "code",
   "execution_count": 49,
   "metadata": {},
   "outputs": [
    {
     "data": {
      "text/plain": [
       "'PARLIAMO E BRINDIAMO'"
      ]
     },
     "execution_count": 49,
     "metadata": {},
     "output_type": "execute_result"
    }
   ],
   "source": [
    "\"PARLARE E BRINDARE\".replace('ARE', 'IAMO')  # ma qua sì"
   ]
  },
  {
   "cell_type": "markdown",
   "metadata": {},
   "source": [
    "Come sempre per le stringhe, `replace` NON modifica la stringa su cui è chiamato:"
   ]
  },
  {
   "cell_type": "code",
   "execution_count": 50,
   "metadata": {},
   "outputs": [],
   "source": [
    "x = \"sulla panca\""
   ]
  },
  {
   "cell_type": "code",
   "execution_count": 51,
   "metadata": {},
   "outputs": [],
   "source": [
    "y = x.replace('panca', 'panca la capra campa')"
   ]
  },
  {
   "cell_type": "code",
   "execution_count": 52,
   "metadata": {},
   "outputs": [
    {
     "data": {
      "text/plain": [
       "'sulla panca la capra campa'"
      ]
     },
     "execution_count": 52,
     "metadata": {},
     "output_type": "execute_result"
    }
   ],
   "source": [
    "y"
   ]
  },
  {
   "cell_type": "code",
   "execution_count": 53,
   "metadata": {},
   "outputs": [
    {
     "data": {
      "text/plain": [
       "'sulla panca'"
      ]
     },
     "execution_count": 53,
     "metadata": {},
     "output_type": "execute_result"
    }
   ],
   "source": [
    "x  # IMPORTANTE: x è ancora associato alla vecchia stringa !"
   ]
  },
  {
   "cell_type": "markdown",
   "metadata": {},
   "source": [
    "E' possile specificare fino a quante occorrenze verranno sostituite:"
   ]
  },
  {
   "cell_type": "code",
   "execution_count": 54,
   "metadata": {},
   "outputs": [
    {
     "data": {
      "text/plain": [
       "'apoZzo fece una paZza di peZze di pollo'"
      ]
     },
     "execution_count": 54,
     "metadata": {},
     "output_type": "execute_result"
    }
   ],
   "source": [
    "'apollo fece una palla di pelle di pollo'.replace('ll', 'Zz', 3)"
   ]
  },
  {
   "cell_type": "markdown",
   "metadata": {},
   "source": [
    "**DOMANDA**: per ciascuna delle espressioni seguenti, prova ad indovinare quale risultato produce (o se da errore)\n",
    "\n",
    "1.  ```python\n",
    "    '$£mangia il ricco£$'.replace('£','').replace('$','')\n",
    "    ```    \n",
    "    \n",
    "1.  ```python\n",
    "    '$£mangia il ricco\n",
    "    £$'.strip('£').strip('$')\n",
    "    ```"
   ]
  },
  {
   "cell_type": "markdown",
   "metadata": {},
   "source": [
    "### Non abusare replace"
   ]
  },
  {
   "cell_type": "markdown",
   "metadata": {},
   "source": [
    "<div class=\"alert alert-warning\">\n",
    "    \n",
    "**ATTENZIONE**: `replace` **viene spesso usato in modo errato / inefficiente**\n",
    "\n",
    "Chiediti sempre:\n",
    "    \n",
    "1. la stringa su cui operare potrebbe contenere duplicati? Ricordati che verranno _tutti_ sostituiti!\n",
    "2. `replace` compie una ricerca in tutta la stringa, che può essere inefficiente: è proprio necessaria, o sappiamo già la posizione dove è presente il testo da sostituire?\n",
    "</div>\n"
   ]
  },
  {
   "cell_type": "markdown",
   "metadata": {},
   "source": [
    "### Esercizio - Non aprite quella porta\n",
    "\n",
    "**DOMANDA** Hai una biblioteca di libri, con etichette come `G-Il padrino`, `R-I promessi sposi` o `'H-Non aprite quella porta'` composte da una un carattere che identifica il tipo (`G` giallo, `R` romanzo, `H` horror) seguito da `-` e dal titolo. Dato un `libro`, vuoi stampare l'etichetta completa, due punti e poi il titolo, come `'Giallo: Il padrino'`. Guarda i seguenti frammenti di codice, e per ciascuno prova a scrivere delle etichette tra quelle proposte **o creane altre** che darebbero risultati errati (se esistono)\n",
    "\n",
    "```python\n",
    "libro = 'G-Il padrino'\n",
    "libro = 'R-I promessi sposi'\n",
    "libro = 'H-Non aprite quella porta'\n",
    "```\n",
    "\n",
    "1.  ```python\n",
    "    libro.replace('G', 'Giallo: ').replace('R', 'Romanzo: ')\n",
    "    ```\n",
    "1.  ```python\n",
    "    libro[0].replace('G', 'Giallo: ')  \\\n",
    "            .replace('H', 'HORROR: ')  \\\n",
    "            .replace('R', 'Romanzo: ') + libro[2:]\n",
    "    ```\n",
    "1.  ```python\n",
    "    libro.replace('G-', 'Giallo: ').replace('R-', 'Romanzo: ')\n",
    "    ```\n",
    "1.  ```python\n",
    "    libro.replace('G-', 'Giallo: ',1).replace('R-', 'Romanzo: ',1)\n",
    "    ```\n",
    "1.  ```python\n",
    "    libro[0:2].replace('G-', 'Giallo: ').replace('R-', 'Romanzo: ') + libro[2:]\n",
    "    ```"
   ]
  },
  {
   "cell_type": "raw",
   "id": "62af308e",
   "metadata": {
    "format": "text/html"
   },
   "source": [
    "<a  class=\"jupman-sol jupman-sol-toggler\" \n",
    " onclick=\"jupman.toggleSolution(this);\" \n",
    " data-jupman-show=\"Mostra soluzione\" data-jupman-hide=\"Nascondi\">Mostra soluzione</a><div class=\"jupman-sol jupman-sol-code\" style=\"display:none\">  "
   ]
  },
  {
   "cell_type": "code",
   "execution_count": 55,
   "metadata": {},
   "outputs": [
    {
     "name": "stdout",
     "output_type": "stream",
     "text": [
      "Romanzo: -Giallo: uerra e Pace\n",
      "HORomanzo: Romanzo: ORomanzo: : Non aprite quella porta\n",
      "Romanzo: Giallo: Force\n",
      "Giallo: L-A-Romanzo: A-P-I-N-A\n"
     ]
    }
   ],
   "source": [
    "# SOLUZIONE\n",
    "\n",
    "\n",
    "\n",
    "#1\n",
    "libro = 'R-Guerra e Pace'\n",
    "print(libro.replace('G', 'Giallo: ').replace('R', 'Romanzo: '))\n",
    "\n",
    "#2\n",
    "libro = 'H-Non aprite quella porta'\n",
    "print(libro[0].replace('G', 'Giallo: ').replace('H', 'HORROR: ').replace('R', 'Romanzo: ') + libro[2:])\n",
    "\n",
    "#3\n",
    "libro = 'R-G-Force'\n",
    "print(libro.replace('G-', 'Giallo: ').replace('R-', 'Romanzo: '))\n",
    "\n",
    "#4 \n",
    "libro = 'G-L-A-R-A-P-I-N-A'\n",
    "print(libro.replace('G-', 'Giallo: ',1).replace('R-', 'Romanzo: ',1))\n",
    "\n",
    "#5 questo è abbastanza blindato, SE assumiamo che le categorie siano fisse e NON contengano trattini\n",
    "# per es una categoria malefica potrebbe essere C- espanso a C-R-O-S-T-A-C-E-I  (che conterrebbe R-)\n",
    "#print(libro[0:2].replace('G-', 'Giallo: ').replace('R-', 'Romanzo: ').replace('H-', 'Horror: ') + libro[2:])"
   ]
  },
  {
   "cell_type": "raw",
   "id": "0f9beeba",
   "metadata": {
    "format": "text/html"
   },
   "source": [
    "</div>"
   ]
  },
  {
   "cell_type": "code",
   "execution_count": 55,
   "metadata": {},
   "outputs": [],
   "source": []
  },
  {
   "cell_type": "markdown",
   "metadata": {},
   "source": [
    "### Esercizio - Il Regno degli Stringardi\n",
    "\n",
    "\n",
    "La landa dei Caratterinzi è dominata col pugno di ferro dal Ducato degli Stringardi. I borghi comandati degli Stringardi si distinguono per essere monodimensionali e possono essere rappresentati come una stringa: offrono ospitalità ai duchi `'d'`, ai  signori `'s'`, ai vassalli `'v'`, e alla plebe `'p'`. Al fine di separare le varie cerchie sociali da disdicevoli commistioni sono state erette delle mura `|mm|`. Purtroppo, il Ducato è sotto attacco dalla tribù dei beceri Replaceri, che con loro tecniche barbare e poco avvedute rischiano di radere al suolo la città. Per difendersi, gli Stringardi decidono di innalzare le mura, trasformandole da `|mm|` a `|MM|`. \n",
    "\n",
    "* **NON** usare cicli nè list comprehension\n",
    "* **NON** usare liste (quindi niente split)"
   ]
  },
  {
   "cell_type": "markdown",
   "metadata": {},
   "source": [
    "#### Stringardi I: Innalza tutte le mura\n",
    "\n",
    "Esempio - dati:\n",
    "\n",
    "```python\n",
    "borgo = 'ppp|mm|vvvvvv|mm|sss|mm|dd|mm|sssss|mm|vvvvvv|mm|pppppp'\n",
    "```\n",
    "\n",
    "dopo il tuo codice, deve risultare:\n",
    "\n",
    "```python\n",
    ">>> borgo\n",
    "'ppp|MM|vvvvvv|MM|sss|MM|dd|MM|sssss|MM|vvvvvv|MM|pppppp'\n",
    "```\n"
   ]
  },
  {
   "cell_type": "raw",
   "id": "6d20ee27",
   "metadata": {
    "format": "text/html"
   },
   "source": [
    "<a  class=\"jupman-sol jupman-sol-toggler\" \n",
    " onclick=\"jupman.toggleSolution(this);\" \n",
    " data-jupman-show=\"Mostra soluzione\" data-jupman-hide=\"Nascondi\">Mostra soluzione</a><div class=\"jupman-sol jupman-sol-code\" style=\"display:none\">  "
   ]
  },
  {
   "cell_type": "code",
   "execution_count": 56,
   "metadata": {},
   "outputs": [
    {
     "name": "stdout",
     "output_type": "stream",
     "text": [
      "ppp|MM|vvvvvv|MM|sss|MM|dd|MM|sssss|MM|vvvvvv|MM|pppppp\n"
     ]
    }
   ],
   "source": [
    "\n",
    "borgo =      'ppp|mm|vvvvvv|mm|sss|mm|dd|mm|sssss|mm|vvvvvv|mm|pppppp'\n",
    "# risultato: 'ppp|MM|vvvvvv|MM|sss|MM|dd|MM|sssss|MM|vvvvvv|MM|pppppp'\n",
    "\n",
    "# scrivi qui\n",
    "\n",
    "borgo = borgo.replace('|mm|','|MM|')\n",
    "print(borgo)"
   ]
  },
  {
   "cell_type": "raw",
   "id": "d23d96cf",
   "metadata": {
    "format": "text/html"
   },
   "source": [
    "</div>"
   ]
  },
  {
   "cell_type": "code",
   "execution_count": 56,
   "metadata": {},
   "outputs": [],
   "source": [
    "\n",
    "borgo =      'ppp|mm|vvvvvv|mm|sss|mm|dd|mm|sssss|mm|vvvvvv|mm|pppppp'\n",
    "# risultato: 'ppp|MM|vvvvvv|MM|sss|MM|dd|MM|sssss|MM|vvvvvv|MM|pppppp'\n",
    "\n",
    "# scrivi qui\n",
    "\n"
   ]
  },
  {
   "cell_type": "markdown",
   "metadata": {},
   "source": [
    "#### Stringardi II: Mura esterne\n",
    "\n",
    "Purtroppo la plebaglia non lavora abbastanza e non vi sono fondi per innalzare tutte le mura: innalza **solo le mura all'esterno**\n",
    "\n",
    "\n",
    "* **NON** usare `if`, cicli nè list comprehension\n",
    "* **NON** usare liste (quindi niente split)\n",
    "\n",
    "Esempio - dati:\n",
    "\n",
    "```python\n",
    "borgo = 'ppp|mm|vvvvvv|mm|sss|mm|dd|mm|sssss|mm|vvvvvv|mm|pppppp'\n",
    "```\n",
    "\n",
    "dopo il tuo codice, deve risultare:\n",
    "\n",
    "```python\n",
    ">>> borgo\n",
    "'ppp|MM|vvvvvv|mm|sss|mm|dd|mm|sssss|mm|vvvvvv|MM|pppppp'\n",
    "```"
   ]
  },
  {
   "cell_type": "raw",
   "id": "e68dc7a4",
   "metadata": {
    "format": "text/html"
   },
   "source": [
    "<a  class=\"jupman-sol jupman-sol-toggler\" \n",
    " onclick=\"jupman.toggleSolution(this);\" \n",
    " data-jupman-show=\"Mostra soluzione\" data-jupman-hide=\"Nascondi\">Mostra soluzione</a><div class=\"jupman-sol jupman-sol-code\" style=\"display:none\">  "
   ]
  },
  {
   "cell_type": "code",
   "execution_count": 57,
   "metadata": {},
   "outputs": [
    {
     "name": "stdout",
     "output_type": "stream",
     "text": [
      "ppp|MM|vvvvvv|mm|sss|mm|dd|mm|sssss|mm|vvvvvv|MM|pppppp\n"
     ]
    }
   ],
   "source": [
    "\n",
    "borgo =      'ppp|mm|vvvvvv|mm|sss|mm|dd|mm|sssss|mm|vvvvvv|mm|pppppp'\n",
    "#risultato:  'ppp|MM|vvvvvv|mm|sss|mm|dd|mm|sssss|mm|vvvvvv|MM|pppppp'\n",
    "#borgo =     '|mm|vvvvvv|mm||mm|ddddd|mm|ssvvv|mm|pp'\n",
    "#risultato:  '|MM|vvvvvv|mm||mm|ddddd|mm|ssvvv|MM|pp'\n",
    "\n",
    "\n",
    "# scrivi qui\n",
    "\n",
    "i = borgo.find('|mm|')\n",
    "borgo = borgo[:i] + '|MM|' + borgo[i+4:]\n",
    "i = borgo.rfind('|mm|')\n",
    "borgo = borgo[:i] + '|MM|' + borgo[i+4:]\n",
    "        \n",
    "print(borgo)"
   ]
  },
  {
   "cell_type": "raw",
   "id": "638e2958",
   "metadata": {
    "format": "text/html"
   },
   "source": [
    "</div>"
   ]
  },
  {
   "cell_type": "code",
   "execution_count": 57,
   "metadata": {},
   "outputs": [],
   "source": [
    "\n",
    "borgo =      'ppp|mm|vvvvvv|mm|sss|mm|dd|mm|sssss|mm|vvvvvv|mm|pppppp'\n",
    "#risultato:  'ppp|MM|vvvvvv|mm|sss|mm|dd|mm|sssss|mm|vvvvvv|MM|pppppp'\n",
    "#borgo =     '|mm|vvvvvv|mm||mm|ddddd|mm|ssvvv|mm|pp'\n",
    "#risultato:  '|MM|vvvvvv|mm||mm|ddddd|mm|ssvvv|MM|pp'\n",
    "\n",
    "\n",
    "# scrivi qui\n",
    "\n"
   ]
  },
  {
   "cell_type": "markdown",
   "metadata": {},
   "source": [
    "#### Stringardi III: Potere al popolo\n",
    "\n",
    "Una minaccia ancora più grande affligge gli Stringardi: _la democrazia_. A seguito del dilagare di questo male oscuro, in alcune città si sono sviluppate fazioni di destra e sinistra, che tendono a privilegiare solo alcune parti della città. Se il sentimento dominante di una città è di sinistra, tutte le abitazioni a sinistra del duca sono privilegiate a suon di dobloni, altrimenti se di destra sono privilegiate quelle a destra del duca. Quando una casa è privilegiata la lettera corrispondente viene resa in maiuscolo. \n",
    "\n",
    "* assumi che almeno un blocco con `d` sia sempre presente, e che sia unico\n",
    "* **NON** usare `if`, cicli nè list comprehension\n",
    "* **NON** usare liste (quindi niente split)\n",
    "\n",
    "\n",
    "**3.1) privilegia solo le case di sinistra**\n",
    "\n",
    "```python\n",
    "borgo = 'ppp|mm|vvvvvv|mm|sss|mm|dd|mm|sssss|mm|vvvvvv|mm|pppppp'\n",
    "```\n",
    "\n",
    "dopo il tuo codice, deve risultare:\n",
    "\n",
    "```python\n",
    ">>> borgo\n",
    "'PPP|mm|VVVVVV|mm|SSS|mm|dd|mm|sssss|mm|vvvvvv|mm|pppppp'\n",
    "```"
   ]
  },
  {
   "cell_type": "raw",
   "id": "ffb1344d",
   "metadata": {
    "format": "text/html"
   },
   "source": [
    "<a  class=\"jupman-sol jupman-sol-toggler\" \n",
    " onclick=\"jupman.toggleSolution(this);\" \n",
    " data-jupman-show=\"Mostra soluzione\" data-jupman-hide=\"Nascondi\">Mostra soluzione</a><div class=\"jupman-sol jupman-sol-code\" style=\"display:none\">  "
   ]
  },
  {
   "cell_type": "code",
   "execution_count": 58,
   "metadata": {},
   "outputs": [
    {
     "data": {
      "text/plain": [
       "'PPP|mm|VVVVVV|mm|SSS|mm|dd|mm|sssss|mm|vvvvvv|mm|pppppp'"
      ]
     },
     "execution_count": 58,
     "metadata": {},
     "output_type": "execute_result"
    }
   ],
   "source": [
    "\n",
    "borgo =      'ppp|mm|vvvvvv|mm|sss|mm|dd|mm|sssss|mm|vvvvvv|mm|pppppp'\n",
    "# risultato: 'PPP|mm|VVVVVV|mm|SSS|mm|dd|mm|sssss|mm|vvvvvv|mm|pppppp'\n",
    "#borgo =     '|p|ppp||p|pp|mm|vvv|vvvv|mm|sssss|mm|ddd|mm|ssss|ss|mm|vvvvvv|mm|'\n",
    "# risultato: '|P|PPP||P|PP|mm|VVV|VVVV|mm|SSSSS|mm|ddd|mm|ssss|ss|mm|vvvvvv|mm|'\n",
    "\n",
    "# scrivi qui\n",
    "\n",
    "dpos = borgo.find('d')\n",
    "borgo = borgo[:dpos].replace('p','P').replace('v','V').replace('s','S') + borgo[dpos:]\n",
    "\n",
    "borgo        "
   ]
  },
  {
   "cell_type": "raw",
   "id": "e269283c",
   "metadata": {
    "format": "text/html"
   },
   "source": [
    "</div>"
   ]
  },
  {
   "cell_type": "code",
   "execution_count": 58,
   "metadata": {},
   "outputs": [],
   "source": [
    "\n",
    "borgo =      'ppp|mm|vvvvvv|mm|sss|mm|dd|mm|sssss|mm|vvvvvv|mm|pppppp'\n",
    "# risultato: 'PPP|mm|VVVVVV|mm|SSS|mm|dd|mm|sssss|mm|vvvvvv|mm|pppppp'\n",
    "#borgo =     '|p|ppp||p|pp|mm|vvv|vvvv|mm|sssss|mm|ddd|mm|ssss|ss|mm|vvvvvv|mm|'\n",
    "# risultato: '|P|PPP||P|PP|mm|VVV|VVVV|mm|SSSSS|mm|ddd|mm|ssss|ss|mm|vvvvvv|mm|'\n",
    "\n",
    "# scrivi qui\n",
    "\n"
   ]
  },
  {
   "cell_type": "markdown",
   "metadata": {},
   "source": [
    "**3.2) privilegia solo le case di destra**\n",
    "\n",
    "Esempio - dati:\n",
    "\n",
    "```python\n",
    "borgo = 'ppp|mm|vvvvvv|mm|sss|mm|dd|mm|sssss|mm|vvvvvv|mm|pppppp'\n",
    "```\n",
    "\n",
    "dopo il tuo codice, deve risultare:\n",
    "\n",
    "```python\n",
    ">>> borgo\n",
    "'ppp|mm|vvvvvv|mm|sss|mm|dd|mm|SSSSS|mm|VVVVVV|mm|PPPPPP'\n",
    "```"
   ]
  },
  {
   "cell_type": "raw",
   "id": "1ec800fb",
   "metadata": {
    "format": "text/html"
   },
   "source": [
    "<a  class=\"jupman-sol jupman-sol-toggler\" \n",
    " onclick=\"jupman.toggleSolution(this);\" \n",
    " data-jupman-show=\"Mostra soluzione\" data-jupman-hide=\"Nascondi\">Mostra soluzione</a><div class=\"jupman-sol jupman-sol-code\" style=\"display:none\">  "
   ]
  },
  {
   "cell_type": "code",
   "execution_count": 59,
   "metadata": {},
   "outputs": [
    {
     "data": {
      "text/plain": [
       "'ppp|mm|vvvvvv|mm|sss|mm|dd|mm|SSSSS|mm|VVVVVV|mm|PPPPPP'"
      ]
     },
     "execution_count": 59,
     "metadata": {},
     "output_type": "execute_result"
    }
   ],
   "source": [
    "\n",
    "borgo =     'ppp|mm|vvvvvv|mm|sss|mm|dd|mm|sssss|mm|vvvvvv|mm|pppppp'\n",
    "#risultato: 'ppp|mm|vvvvvv|mm|sss|mm|dd|mm|SSSSS|mm|VVVVVV|mm|PPPPPP'\n",
    "#borgo =    '|p|ppp||p|pp|mm|vvv|vvvv|mm|sssss|mm|ddd|mm|ssss|ss|mm|vvvvvv|p|pp|mm|'\n",
    "#risultato: '|p|ppp||p|pp|mm|vvv|vvvv|mm|sssss|mm|ddd|mm|SSSS|SS|mm|VVVVVV|P|PP|mm|'\n",
    "\n",
    "# scrivi qui\n",
    "dpos = borgo.rfind('d')    \n",
    "borgo = borgo[:dpos] + borgo[dpos:].replace('p','P').replace('v','V').replace('s','S') \n",
    "\n",
    "borgo"
   ]
  },
  {
   "cell_type": "raw",
   "id": "c13cac9d",
   "metadata": {
    "format": "text/html"
   },
   "source": [
    "</div>"
   ]
  },
  {
   "cell_type": "code",
   "execution_count": 59,
   "metadata": {},
   "outputs": [],
   "source": [
    "\n",
    "borgo =     'ppp|mm|vvvvvv|mm|sss|mm|dd|mm|sssss|mm|vvvvvv|mm|pppppp'\n",
    "#risultato: 'ppp|mm|vvvvvv|mm|sss|mm|dd|mm|SSSSS|mm|VVVVVV|mm|PPPPPP'\n",
    "#borgo =    '|p|ppp||p|pp|mm|vvv|vvvv|mm|sssss|mm|ddd|mm|ssss|ss|mm|vvvvvv|p|pp|mm|'\n",
    "#risultato: '|p|ppp||p|pp|mm|vvv|vvvv|mm|sssss|mm|ddd|mm|SSSS|SS|mm|VVVVVV|P|PP|mm|'\n",
    "\n",
    "# scrivi qui\n",
    "\n"
   ]
  },
  {
   "cell_type": "markdown",
   "metadata": {},
   "source": [
    "#### Stringardi IV: Lotte di potere\n",
    "\n",
    "Nel tempo la famiglia ducale si è espansa e purtroppo sono nate faide spietate. A seconda della popolosità del borgo di sinistra o destra, un corrispondonete numero dei membri della famiglia più a sinistra nel palazzo ducale o più a destra ricevono supporto per attuare i loro giochi di potere. Un membro del palazzo ducale che riceve supporto diventa in maiuscolo. Ogni lettera `'p'`, `'v'` o `'s'` contribuisce supporto (ma non i muri). I membri della famiglia ducale che non sono raggiunti da nessun supporto vengono trucidati dai parenti, e sostituiti con una [Latin Cross Unicode](https://www.compart.com/en/unicode/U+271D) ✝ \n",
    "\n",
    "* assumi che almeno un blocco con `d` sia sempre presente, e che sia unico\n",
    "* assumi che per ogni casa di sinistra/destra, vi sia _almeno un_ duca di sinistra/destra\n",
    "\n",
    "\n",
    "* **NON** usare `if`, cicli nè list comprehension\n",
    "* **NON** usare liste (quindi niente split)\n",
    "\n",
    "\n",
    "Esempio - dato:\n",
    "\n",
    "```python\n",
    "borgo = 'ppp|mm|vv|mm|v|s|mm|dddddddddddddddddddddddd|mm|ss|mm|vvvvv|mm|pppp'\n",
    "```\n",
    "\n",
    "Dopo il tuo codice, deve stampare:\n",
    "\n",
    "```\n",
    "Membri della famiglia reale: 24\n",
    "                di sinistra: 7\n",
    "                  di destra: 11\n",
    "\n",
    "Dopo la lotta fratricida, il nuovo borgo è:\n",
    "\n",
    "ppp|mm|vv|mm|v|s|mm|DDDDDDD✝✝✝✝✝✝DDDDDDDDDDD|mm|ss|mm|vvvvv|mm|pppp\n",
    "```"
   ]
  },
  {
   "cell_type": "raw",
   "id": "9fd7993e",
   "metadata": {
    "format": "text/html"
   },
   "source": [
    "<a  class=\"jupman-sol jupman-sol-toggler\" \n",
    " onclick=\"jupman.toggleSolution(this);\" \n",
    " data-jupman-show=\"Mostra soluzione\" data-jupman-hide=\"Nascondi\">Mostra soluzione</a><div class=\"jupman-sol jupman-sol-code\" style=\"display:none\">  "
   ]
  },
  {
   "cell_type": "code",
   "execution_count": 60,
   "metadata": {
    "scrolled": true
   },
   "outputs": [
    {
     "name": "stdout",
     "output_type": "stream",
     "text": [
      "Membri della famiglia reale: 24\n",
      "                di sinistra: 7\n",
      "                  di destra: 11\n",
      "\n",
      "Dopo la lotta fratricida, il nuovo borgo è:\n",
      "\n",
      "ppp|mm|vv|mm|v|s|mm|DDDDDDD✝✝✝✝✝✝DDDDDDDDDDD|mm|ss|mm|vvvvv|mm|pppp\n"
     ]
    }
   ],
   "source": [
    "\n",
    "borgo =     'ppp|mm|vv|mm|v|s|mm|dddddddddddddddddddddddd|mm|ss|mm|vvvvv|mm|pppp'\n",
    "#risultato: 'ppp|mm|vv|mm|v|s|mm|DDDDDDD✝✝✝✝✝✝DDDDDDDDDDD|mm|ss|mm|vvvvv|mm|pppp'  tot:24 sx:7 dx:11\n",
    "#borgo =    'ppp|mm|ppp|mm|vv|mm|ss|mm|dddddddddddddddddddd|mm|ss|mm|mm|s|v|mm|p|p|'\n",
    "#risultato: 'ppp|mm|ppp|mm|vv|mm|ss|mm|DDDDDDDDDD✝✝✝✝DDDDDD|mm|ss|mm|mm|s|v|mm|p|p|' tot:20 sx:10 dx:6\n",
    "\n",
    "# scrivi qui\n",
    "\n",
    "d = borgo.count('d')\n",
    "\n",
    "print('Membri della famiglia reale:', d)\n",
    "\n",
    "dpos_sx = borgo.find('d')\n",
    "c_sx = borgo.count('p', 0, dpos_sx) + borgo.count('v', 0, dpos_sx) + borgo.count('s', 0, dpos_sx)\n",
    "print('                di sinistra:', c_sx)\n",
    "\n",
    "\n",
    "dpos_dx = borgo.rfind('d')\n",
    "c_dx = borgo.count('p', dpos_dx) + borgo.count('v', dpos_dx) + borgo.count('s', dpos_dx)\n",
    "print('                  di destra:', c_dx)\n",
    "\n",
    "borgo = borgo[:dpos_sx] + 'D'*c_sx + '✝'*(d-c_sx-c_dx) + 'D'*c_dx + borgo[dpos_dx+1:]\n",
    "\n",
    "print()\n",
    "print('Dopo la lotta fratricida, il nuovo borgo è:')\n",
    "print()\n",
    "print(borgo) "
   ]
  },
  {
   "cell_type": "raw",
   "id": "e422dd76",
   "metadata": {
    "format": "text/html"
   },
   "source": [
    "</div>"
   ]
  },
  {
   "cell_type": "code",
   "execution_count": 60,
   "metadata": {
    "scrolled": true
   },
   "outputs": [],
   "source": [
    "\n",
    "borgo =     'ppp|mm|vv|mm|v|s|mm|dddddddddddddddddddddddd|mm|ss|mm|vvvvv|mm|pppp'\n",
    "#risultato: 'ppp|mm|vv|mm|v|s|mm|DDDDDDD✝✝✝✝✝✝DDDDDDDDDDD|mm|ss|mm|vvvvv|mm|pppp'  tot:24 sx:7 dx:11\n",
    "#borgo =    'ppp|mm|ppp|mm|vv|mm|ss|mm|dddddddddddddddddddd|mm|ss|mm|mm|s|v|mm|p|p|'\n",
    "#risultato: 'ppp|mm|ppp|mm|vv|mm|ss|mm|DDDDDDDDDD✝✝✝✝DDDDDD|mm|ss|mm|mm|s|v|mm|p|p|' tot:20 sx:10 dx:6\n",
    "\n",
    "# scrivi qui\n",
    "\n"
   ]
  },
  {
   "cell_type": "markdown",
   "metadata": {},
   "source": [
    "## Altri esercizi "
   ]
  },
  {
   "cell_type": "markdown",
   "metadata": {},
   "source": [
    "**DOMANDA**: Per ciascuna espressione di seguito, cerca di indovinare il risultato.\n",
    "\n",
    "    \n",
    "1.  ```python\n",
    "    'gUrP'.lower() == 'GuRp'.lower()\n",
    "    ```\n",
    "1.  ```python    \n",
    "    'NaNo'.lower() != 'nAnO'.upper()\n",
    "    ```\n",
    "1.  ```python    \n",
    "    'O' + 'ortaggio'.replace('o','\\t \\n     ').strip() + 'O'\n",
    "    ```\n",
    "1.  ```python    \n",
    "    'DaDo'.replace('D','b') in 'barbados'\n",
    "    ```    "
   ]
  },
  {
   "cell_type": "markdown",
   "metadata": {},
   "source": [
    "## Prosegui\n",
    "\n",
    "Continua con [le prime challenge](https://it.softpython.org/strings/strings5-chal.html)"
   ]
  }
 ],
 "metadata": {
  "kernelspec": {
   "display_name": "Python 3 (ipykernel)",
   "language": "python",
   "name": "python3"
  },
  "language_info": {
   "codemirror_mode": {
    "name": "ipython",
    "version": 3
   },
   "file_extension": ".py",
   "mimetype": "text/x-python",
   "name": "python",
   "nbconvert_exporter": "python",
   "pygments_lexer": "ipython3",
   "version": "3.7.10"
  },
  "toc": {
   "base_numbering": 1,
   "nav_menu": {},
   "number_sections": false,
   "sideBar": true,
   "skip_h1_title": false,
   "title_cell": "Table of Contents",
   "title_sidebar": "Contents",
   "toc_cell": false,
   "toc_position": {
    "height": "calc(100% - 180px)",
    "left": "10px",
    "top": "150px",
    "width": "280.2px"
   },
   "toc_section_display": true,
   "toc_window_display": true
  }
 },
 "nbformat": 4,
 "nbformat_minor": 2
}

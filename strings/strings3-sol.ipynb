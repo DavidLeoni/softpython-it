{
 "cells": [
  {
   "cell_type": "code",
   "execution_count": 1,
   "metadata": {
    "nbsphinx": "hidden"
   },
   "outputs": [],
   "source": [
    "# Ricordati di eseguire questa cella con Shift+Invio\n",
    "\n",
    "import jupman"
   ]
  },
  {
   "cell_type": "markdown",
   "metadata": {},
   "source": [
    "# Stringhe 3 - metodi\n",
    "\n",
    "## [Scarica zip esercizi](../_static/generated/strings.zip)\n",
    "\n",
    "[Naviga file online](https://github.com/DavidLeoni/softpython-it/tree/master/strings)\n",
    "\n",
    "Ogni tipo di dati ha associati dei metodi particolari per quel tipo, vediamo quelli associati al tipo stringa (`str`)"
   ]
  },
  {
   "cell_type": "markdown",
   "metadata": {},
   "source": [
    "<div class=\"alert alert-warning\">\n",
    "\n",
    "**ATTENZIONE: Quando i metodi sulle stringhe generano una stringa, questa è SEMPRE NUOVA**\n",
    "\n",
    "L'oggetto stringa originale non viene MAI modificato (perchè le stringhe sono immutabili). \n",
    "\n",
    "</div>\n"
   ]
  },
  {
   "cell_type": "markdown",
   "metadata": {},
   "source": [
    "### Metodi semplici\n",
    "\n",
    "|Risultato|Metodo|Significato|\n",
    "|---------|------|-----------|\n",
    "|str|[str.upper()](#Esempio-upper)|Ritorna la stringa con tutti i caratteri maiuscoli|\n",
    "|str|[str.lower()](#Metodo-lower)|Ritorna la stringa con tutti i caratteri minuscoli|\n",
    "|str|[str.capitalize()](#Metodo-capitalize)|Ritorna la stringa con il primo carattere maiuscolo|\n",
    "|bool|[str.startswith(str)](#Metodo-startswith)|Controlla se la stringa inizia con un'altra|\n",
    "|bool|[str.endswith(str)](#Metodo-endswith)|Controlla se la stringa finisce con un'altra|\n",
    "|bool|[str.isalpha(str)](#Metodo-isalpha)|Controlla se tutti i caratteri sono alfabetici|\n",
    "|bool|[str.isdigit(str)](#Metodo-isdigit)|Controlla se tutti i caratteri sono cifre|\n",
    "|bool|[str.isupper()](#Metodi-isupper-e-islower)|Controlla se tutti i caratteri sono minuscoli|\n",
    "|bool|[str.islower()](#Metodi-isupper-e-islower)|Controlla se tutti i caratteri sono maiuscoli|"
   ]
  },
  {
   "cell_type": "markdown",
   "metadata": {},
   "source": [
    "\n",
    "### Metodi di ricerca\n",
    "\n",
    "Le stringhe mettono a disposizione diversi metodi per effettuare ricerche e e trasformarle in nuove stringhe, ma attenzione: il potere è nulla senza il controllo! Spesso ti troverai con l'esigenza di usarli, e potrebbero anche funzionare con qualche piccolo esempio, ma molto spesso nascondono tranelli che poi si rimpiangono amaramente. Quindi quando scrivi codice con uno di questi metodi, **poniti sempre le domande che evidenzieremo!**\n",
    "\n",
    "\n",
    "|Risultato|Metodo|Significato|\n",
    "|---------|------|-----------|\n",
    "|str|[str.strip(str)](#Metodo-strip)|Rimuove stringhe dai lati|\n",
    "|str|[str.lstrip(str)](#Metodo-lstrip)|Rimuove stringhe da sinistra|\n",
    "|str|[str.rstrip(str)](#Metodo-rstrip)|Rimuove stringhe da destra|\n",
    "|int|[str.count(str)](#Metodo-count)|Conta il numero di occorrenze di una sottostringa|\n",
    "|int|[str.find(str)](#Metodo-find)|Ritorna la prima posizione di una sottostringa a partire da sinistra|\n",
    "|int|[str.rfind(str)](#Metodo-rfind)|Ritorna la prima posizione di una sottostringa a partire da destra|\n",
    "|str|[str.replace(str, str)](#Metodo-replace)|Sostituisce sottostringhe|"
   ]
  },
  {
   "cell_type": "markdown",
   "metadata": {},
   "source": [
    "## Che fare\n",
    "\n",
    "- scompatta lo zip in una cartella, dovresti ottenere qualcosa del genere: \n",
    "\n",
    "```\n",
    "\n",
    "strings\n",
    "    strings1.ipynb    \n",
    "    strings1-sol.ipynb         \n",
    "    strings2.ipynb\n",
    "    strings2-sol.ipynb\n",
    "    strings3.ipynb\n",
    "    strings3-sol.ipynb\n",
    "    strings4.ipynb\n",
    "    strings4-sol.ipynb\n",
    "    jupman.py         \n",
    "```\n",
    "\n",
    "<div class=\"alert alert-warning\">\n",
    "\n",
    "**ATTENZIONE**: Per essere visualizzato correttamente, il file del notebook DEVE essere nella cartella szippata.\n",
    "</div>\n",
    "\n",
    "- apri il Jupyter Notebook da quella cartella. Due cose dovrebbero aprirsi, prima una console e poi un browser. Il browser dovrebbe mostrare una lista di file: naviga la lista e apri il notebook `strings1.ipynb`\n",
    "- Prosegui leggendo il file degli esercizi, ogni tanto al suo interno troverai delle scritte **ESERCIZIO**, che ti chiederanno di scrivere dei comandi Python nelle celle successive. Gli esercizi sono graduati per difficoltà, da una stellina ✪ a quattro ✪✪✪✪\n",
    "\n",
    "\n",
    "Scorciatoie da tastiera:\n",
    "\n",
    "* Per eseguire il codice Python dentro una cella di Jupyter, premi `Control+Invio`\n",
    "* Per eseguire il codice Python dentro una cella di Jupyter E selezionare la cella seguente, premi `Shift+Invio`\n",
    "* Per eseguire il codice Python dentro una cella di Jupyter E creare una nuova cella subito dopo, premi `Alt+Invio`\n",
    "* Se per caso il Notebook sembra inchiodato, prova a selezionare `Kernel -> Restart`\n",
    "\n"
   ]
  },
  {
   "cell_type": "markdown",
   "metadata": {},
   "source": [
    "## Esempio - upper\n",
    "\n",
    "Un metodo è una funzione di un oggetto che prende in ingresso l'oggetto a cui è applicata e vi fa dei calcoli. \n",
    "\n",
    "Il tipo stringa (`str`) ha metodi predefiniti come `str.upper()` che possono essere applicati agli oggetti stringa (es: `'ciao'` è un oggetto stringa). \n",
    "\n",
    "\n",
    "Il metodo `str.upper()` prende la stringa su cui è applicato  e crea una NUOVA stringa in cui tutti i caratteri sono in maiuscolo. Per applicare un metodo come `str.upper()` al particolare oggetto stringa `'ciao'`, dobbiamo scrivere \n",
    "\n",
    "```python\n",
    "'ciao'.upper()\n",
    "``` \n",
    "\n",
    "cioè dobbiamo prima scrivere l'oggetto su cui applicare il metodo (`'ciao'`), poi un punto `.` , quindi il nome del metodo seguito da parentesi tonde. Le tonde possono contenere ulteriori parametri a seconda del metodo.\n",
    "\n",
    "Esempi:"
   ]
  },
  {
   "cell_type": "code",
   "execution_count": 2,
   "metadata": {},
   "outputs": [
    {
     "data": {
      "text/plain": [
       "'CIAO'"
      ]
     },
     "execution_count": 2,
     "metadata": {},
     "output_type": "execute_result"
    }
   ],
   "source": [
    "'ciao'.upper()"
   ]
  },
  {
   "cell_type": "code",
   "execution_count": 3,
   "metadata": {},
   "outputs": [
    {
     "data": {
      "text/plain": [
       "'PROVA'"
      ]
     },
     "execution_count": 3,
     "metadata": {},
     "output_type": "execute_result"
    }
   ],
   "source": [
    "'prova'.upper()"
   ]
  },
  {
   "cell_type": "markdown",
   "metadata": {},
   "source": [
    "<div class=\"alert alert-warning\">\n",
    "\n",
    "**ATTENZIONE**: come TUTTI i metodi delle stringhe, l'oggetto stringa originale su cui è chiamato NON viene modificato. \n",
    "\n",
    "</div>\n",
    "\n",
    "Esempio:\n"
   ]
  },
  {
   "cell_type": "code",
   "execution_count": 4,
   "metadata": {},
   "outputs": [],
   "source": [
    "x = \"ciao\"\n",
    "y = x.upper()    #  genera una NUOVA stringa e la associa alla variabile y"
   ]
  },
  {
   "cell_type": "code",
   "execution_count": 5,
   "metadata": {},
   "outputs": [
    {
     "data": {
      "text/plain": [
       "'ciao'"
      ]
     },
     "execution_count": 5,
     "metadata": {},
     "output_type": "execute_result"
    }
   ],
   "source": [
    "x     # la variabile x è ancora associata alla vecchia stringa"
   ]
  },
  {
   "cell_type": "code",
   "execution_count": 6,
   "metadata": {},
   "outputs": [
    {
     "data": {
      "text/plain": [
       "'CIAO'"
      ]
     },
     "execution_count": 6,
     "metadata": {},
     "output_type": "execute_result"
    }
   ],
   "source": [
    "y     # la variabile y è associata alla nuova stringa"
   ]
  },
  {
   "cell_type": "markdown",
   "metadata": {},
   "source": [
    "Guarda lo stesso esempio in Python Tutor:"
   ]
  },
  {
   "cell_type": "code",
   "execution_count": 7,
   "metadata": {},
   "outputs": [
    {
     "name": "stdout",
     "output_type": "stream",
     "text": [
      "ciao\n",
      "CIAO\n"
     ]
    },
    {
     "data": {
      "text/html": [
       "\n",
       "        <script src=\"../_static/js/pytutor-embed.bundle.min.js\" type=\"application/javascript\"></script>\n",
       "     \n",
       "        <script id=\"json-jmf8975adc-90ba-4a43-aca1-c55c32a30ce6\" type=\"application/json\" >\n",
       "            {\"code\": \" \\nx = \\\"ciao\\\"\\ny = x.upper()\\nprint(x)\\nprint(y)\", \"trace\": [{\"line\": 2, \"event\": \"step_line\", \"func_name\": \"<module>\", \"globals\": {}, \"ordered_globals\": [], \"stack_to_render\": [], \"heap\": {}, \"stdout\": \"\"}, {\"line\": 3, \"event\": \"step_line\", \"func_name\": \"<module>\", \"globals\": {\"x\": \"ciao\"}, \"ordered_globals\": [\"x\"], \"stack_to_render\": [], \"heap\": {}, \"stdout\": \"\"}, {\"line\": 4, \"event\": \"step_line\", \"func_name\": \"<module>\", \"globals\": {\"x\": \"ciao\", \"y\": \"CIAO\"}, \"ordered_globals\": [\"x\", \"y\"], \"stack_to_render\": [], \"heap\": {}, \"stdout\": \"\"}, {\"line\": 5, \"event\": \"step_line\", \"func_name\": \"<module>\", \"globals\": {\"x\": \"ciao\", \"y\": \"CIAO\"}, \"ordered_globals\": [\"x\", \"y\"], \"stack_to_render\": [], \"heap\": {}, \"stdout\": \"ciao\\n\"}, {\"line\": 5, \"event\": \"return\", \"func_name\": \"<module>\", \"globals\": {\"x\": \"ciao\", \"y\": \"CIAO\"}, \"ordered_globals\": [\"x\", \"y\"], \"stack_to_render\": [], \"heap\": {}, \"stdout\": \"ciao\\nCIAO\\n\"}]}\n",
       "        </script>\n",
       "        <div id=\"jmf8975adc-90ba-4a43-aca1-c55c32a30ce6\" class=\"pytutorVisualizer\"> </div>\n",
       " \n",
       "        <style>\n",
       "        .vizLayoutTd {\n",
       "            background-color: #fff !important;\n",
       "        }\n",
       "\n",
       "        #pyStdout {            \n",
       "            min-height:25px;\n",
       "        }\n",
       "\n",
       "        /* 'Edit this code' link, hiding because replaces browser tab !!!*/\n",
       "        #editCodeLinkDiv {\n",
       "            display:none;  \n",
       "        }\n",
       "        </style>   \n",
       "                            \n",
       "        <script>\n",
       "        (function(){\n",
       "\n",
       "            var trace = JSON.parse(document.getElementById('json-jmf8975adc-90ba-4a43-aca1-c55c32a30ce6').innerHTML);                                        \n",
       "            // NOTE 1: id without #\n",
       "            // NOTE 2 - maybe there are more predictable ways, but this will work anyway\n",
       "            //        - id should be number\n",
       "            visualizerIdOverride = Math.trunc(Math.random() * 100000000000)\n",
       "            addVisualizerToPage(trace, 'jmf8975adc-90ba-4a43-aca1-c55c32a30ce6',{'embeddedMode' : false,\n",
       "                                             'visualizerIdOverride':visualizerIdOverride})  \n",
       "            \n",
       "            \n",
       "            // set overflow for pytuts - need to do in python as css \n",
       "            // does not allow parent selection\n",
       "            var pytuts = $('.pytutorVisualizer')\n",
       "            pytuts.closest('div.output_html.rendered_html.output_result')\n",
       "                    .css('overflow-x', 'visible')\n",
       "        \n",
       "            //pytuts.closest('div.output_html.rendered_html.output_result')\n",
       "            //      .css('background-color','red')                \n",
       "            \n",
       "        })()\n",
       "        </script>\n",
       "                \n",
       "                "
      ],
      "text/plain": [
       "<IPython.core.display.HTML object>"
      ]
     },
     "execution_count": 7,
     "metadata": {},
     "output_type": "execute_result"
    }
   ],
   "source": [
    "x = \"ciao\"\n",
    "y = x.upper()\n",
    "print(x)\n",
    "print(y)\n",
    "\n",
    "jupman.pytut()"
   ]
  },
  {
   "cell_type": "markdown",
   "metadata": {},
   "source": [
    "## Esercizio - cammina\n",
    "\n",
    "Scrivere del codice che data una stringa `x` (per es: `x='cammina'`) stampa due volta la riga \n",
    "\n",
    "```\n",
    "cammina CAMMINA cammina CAMMINA\n",
    "cammina CAMMINA cammina CAMMINA\n",
    "```\n",
    "\n",
    "* NON creare nuove variabili\n",
    "* il tuo codice deve funzionare con qualsiasi stringa"
   ]
  },
  {
   "cell_type": "code",
   "execution_count": 8,
   "metadata": {},
   "outputs": [
    {
     "name": "stdout",
     "output_type": "stream",
     "text": [
      "cammina CAMMINA cammina CAMMINA\n",
      "cammina CAMMINA cammina CAMMINA\n"
     ]
    }
   ],
   "source": [
    "x = 'cammina'\n",
    "\n",
    "print(x, x.upper(), x, x.upper())\n",
    "print(x, x.upper(), x, x.upper())"
   ]
  },
  {
   "cell_type": "markdown",
   "metadata": {},
   "source": [
    "**Help**:  Se non sei sicuro riguardo a un metodo (per esempio `strip`), puoi chiedere aiuto a Python in questo modo:\n",
    "\n",
    "<div class=\"alert alert-warning\">\n",
    "\n",
    "**ATTENZIONE: con help dopo il nome del metodo NON ci sono parentesi !!**\n",
    "\n",
    "</div>\n"
   ]
  },
  {
   "cell_type": "code",
   "execution_count": 9,
   "metadata": {},
   "outputs": [
    {
     "name": "stdout",
     "output_type": "stream",
     "text": [
      "Help on built-in function strip:\n",
      "\n",
      "strip(chars=None, /) method of builtins.str instance\n",
      "    Return a copy of the string with leading and trailing whitespace removed.\n",
      "    \n",
      "    If chars is given and not None, remove characters in chars instead.\n",
      "\n"
     ]
    }
   ],
   "source": [
    "help(\"ciao\".strip)\n"
   ]
  },
  {
   "cell_type": "markdown",
   "metadata": {},
   "source": [
    "## Metodo lower\n",
    "\n",
    "Ritorna la stringa con tutti i caratteri minuscoli\n"
   ]
  },
  {
   "cell_type": "code",
   "execution_count": 10,
   "metadata": {},
   "outputs": [
    {
     "name": "stdout",
     "output_type": "stream",
     "text": [
      "ciao mondo\n"
     ]
    }
   ],
   "source": [
    "stringa = \"ciAo MonDo\"\n",
    "\n",
    "altra_stringa = stringa.lower()\n",
    "\n",
    "print(altra_stringa)\n"
   ]
  },
  {
   "cell_type": "code",
   "execution_count": 11,
   "metadata": {},
   "outputs": [
    {
     "name": "stdout",
     "output_type": "stream",
     "text": [
      "ciAo MonDo\n"
     ]
    }
   ],
   "source": [
    "print(stringa)  # non è cambiata"
   ]
  },
  {
   "cell_type": "markdown",
   "metadata": {},
   "source": [
    "### Esercizio - lowermezzo\n",
    "\n",
    "Scrivi del codice che data una stringa qualsiasi `x` di lunghezza dispari, stampa una nuova stringa uguale a `x` eccetto al carattere in mezzo che deve essere in minuscolo.\n",
    "\n",
    "* Il tuo codice deve funzionare con qualunque stringa !\n",
    "* **SUGGERIMENTO**: per calcolare la posizione del carattere in mezzo, usa la divisione intera con l'operatore `//`\n",
    "\n",
    "Esempi:\n",
    "\n",
    "Dato \n",
    "\n",
    "```python\n",
    "x = 'ASCENSORE'\n",
    "```\n",
    "\n",
    "deve stampare\n",
    "\n",
    "`ASCEnSORE`\n",
    "\n",
    "Dato \n",
    "\n",
    "```python\n",
    "x = 'LAMPADA'\n",
    "```\n",
    "\n",
    "deve stampare\n",
    "\n",
    "`LAMpADA`\n"
   ]
  },
  {
   "cell_type": "raw",
   "id": "b5fa2630",
   "metadata": {
    "format": "text/html"
   },
   "source": [
    "<a  class=\"jupman-sol jupman-sol-toggler\" \n",
    " onclick=\"jupman.toggleSolution(this);\" \n",
    " data-jupman-show=\"Mostra soluzione\" data-jupman-hide=\"Nascondi\">Mostra soluzione</a><div class=\"jupman-sol jupman-sol-code\" style=\"display:none\">  "
   ]
  },
  {
   "cell_type": "code",
   "execution_count": 12,
   "metadata": {},
   "outputs": [
    {
     "name": "stdout",
     "output_type": "stream",
     "text": [
      "ASCEnSORE\n"
     ]
    }
   ],
   "source": [
    "\n",
    "    #012345678\n",
    "x = 'ASCENSORE'\n",
    "k = len(x) // 2\n",
    "\n",
    "# scrivi qui\n",
    "print(x[:k] + x[k].lower() + x[k+1:])"
   ]
  },
  {
   "cell_type": "raw",
   "id": "05a8f649",
   "metadata": {
    "format": "text/html"
   },
   "source": [
    "</div>"
   ]
  },
  {
   "cell_type": "code",
   "execution_count": 12,
   "metadata": {},
   "outputs": [],
   "source": [
    "\n",
    "    #012345678\n",
    "x = 'ASCENSORE'\n",
    "k = len(x) // 2\n",
    "\n",
    "# scrivi qui\n",
    "\n"
   ]
  },
  {
   "cell_type": "markdown",
   "metadata": {},
   "source": [
    "## Metodo capitalize"
   ]
  },
  {
   "cell_type": "markdown",
   "metadata": {},
   "source": [
    "Il metodo `capitalize()` crea una NUOVA stringa avente solo il PRIMO carattere in maiuscolo:"
   ]
  },
  {
   "cell_type": "code",
   "execution_count": 13,
   "metadata": {},
   "outputs": [
    {
     "data": {
      "text/plain": [
       "'Ciao'"
      ]
     },
     "execution_count": 13,
     "metadata": {},
     "output_type": "execute_result"
    }
   ],
   "source": [
    "\"ciao\".capitalize()"
   ]
  },
  {
   "cell_type": "code",
   "execution_count": 14,
   "metadata": {},
   "outputs": [
    {
     "data": {
      "text/plain": [
       "'Mondo'"
      ]
     },
     "execution_count": 14,
     "metadata": {},
     "output_type": "execute_result"
    }
   ],
   "source": [
    "\"mondo\".capitalize()"
   ]
  },
  {
   "cell_type": "code",
   "execution_count": 15,
   "metadata": {},
   "outputs": [],
   "source": [
    "x = 'capra'\n",
    "y = 'capra'.capitalize()"
   ]
  },
  {
   "cell_type": "code",
   "execution_count": 16,
   "metadata": {},
   "outputs": [
    {
     "data": {
      "text/plain": [
       "'capra'"
      ]
     },
     "execution_count": 16,
     "metadata": {},
     "output_type": "execute_result"
    }
   ],
   "source": [
    "x      #  x rimane associata al vecchio valore"
   ]
  },
  {
   "cell_type": "code",
   "execution_count": 17,
   "metadata": {},
   "outputs": [
    {
     "data": {
      "text/plain": [
       "'Capra'"
      ]
     },
     "execution_count": 17,
     "metadata": {},
     "output_type": "execute_result"
    }
   ],
   "source": [
    "y      #  y viene associata alla nuova stringa"
   ]
  },
  {
   "cell_type": "markdown",
   "metadata": {},
   "source": [
    "### Esercizio - Vostra Eccellenza\n",
    "\n",
    "\n"
   ]
  },
  {
   "cell_type": "markdown",
   "metadata": {},
   "source": [
    "Scrivere del codice che date due stringhe qualsiasi `x` e `y` restituisce le due stringhe concatenate, separandole con uno spazio ed entrambe tutte in minuscolo eccetto le rispettive prime lettere che devono essere maiuscole.\n",
    "\n",
    "Esempio 1 - dati:\n",
    "\n",
    "```python\n",
    "x = 'vosTRA'\n",
    "y = 'ecCeLLeNza'\n",
    "```\n",
    "\n",
    "deve stampare:\n",
    "\n",
    "```\n",
    "Vostra Eccellenza\n",
    "```\n",
    "\n",
    "Esempio 2 - dati:\n",
    "\n",
    "```python\n",
    "x = 'sUa'\n",
    "y = 'maEStà'\n",
    "```\n",
    "\n",
    "deve stampare:\n",
    "\n",
    "```\n",
    "Sua Maestà\n",
    "```\n"
   ]
  },
  {
   "cell_type": "raw",
   "id": "4650a4c7",
   "metadata": {
    "format": "text/html"
   },
   "source": [
    "<a  class=\"jupman-sol jupman-sol-toggler\" \n",
    " onclick=\"jupman.toggleSolution(this);\" \n",
    " data-jupman-show=\"Mostra soluzione\" data-jupman-hide=\"Nascondi\">Mostra soluzione</a><div class=\"jupman-sol jupman-sol-code\" style=\"display:none\">  "
   ]
  },
  {
   "cell_type": "code",
   "execution_count": 18,
   "metadata": {},
   "outputs": [
    {
     "name": "stdout",
     "output_type": "stream",
     "text": [
      "Vostra Eccellenza\n"
     ]
    }
   ],
   "source": [
    "\n",
    "x,y = 'vosTRA', 'ecCeLLeNza'\n",
    "#x,y = 'sUa', 'maEStà'\n",
    "\n",
    "# scrivi qui\n",
    "\n",
    "print(x.capitalize() + \" \" + y.capitalize())"
   ]
  },
  {
   "cell_type": "raw",
   "id": "12323d28",
   "metadata": {
    "format": "text/html"
   },
   "source": [
    "</div>"
   ]
  },
  {
   "cell_type": "code",
   "execution_count": 18,
   "metadata": {},
   "outputs": [],
   "source": [
    "\n",
    "x,y = 'vosTRA', 'ecCeLLeNza'\n",
    "#x,y = 'sUa', 'maEStà'\n",
    "\n",
    "# scrivi qui\n",
    "\n"
   ]
  },
  {
   "cell_type": "markdown",
   "metadata": {},
   "source": [
    "## Metodo startswith\n",
    "\n",
    "`str.startswith` prende come parametro una stringa e ritorna `True` se la stringa prima del punto inizia con la stringa passata come parametro. Esempio:"
   ]
  },
  {
   "cell_type": "code",
   "execution_count": 19,
   "metadata": {},
   "outputs": [
    {
     "data": {
      "text/plain": [
       "True"
      ]
     },
     "execution_count": 19,
     "metadata": {},
     "output_type": "execute_result"
    }
   ],
   "source": [
    "\"il cane abbaia nella strada\".startswith('il cane')"
   ]
  },
  {
   "cell_type": "code",
   "execution_count": 20,
   "metadata": {},
   "outputs": [
    {
     "data": {
      "text/plain": [
       "False"
      ]
     },
     "execution_count": 20,
     "metadata": {},
     "output_type": "execute_result"
    }
   ],
   "source": [
    "\"il cane abbaia nella strada\".startswith('abbaia')"
   ]
  },
  {
   "cell_type": "code",
   "execution_count": 21,
   "metadata": {},
   "outputs": [
    {
     "data": {
      "text/plain": [
       "False"
      ]
     },
     "execution_count": 21,
     "metadata": {},
     "output_type": "execute_result"
    }
   ],
   "source": [
    "\"il cane abbaia nella strada\".startswith('IL CANE')  # le maiuscole sono diverse dalle minuscole"
   ]
  },
  {
   "cell_type": "code",
   "execution_count": 22,
   "metadata": {},
   "outputs": [
    {
     "data": {
      "text/plain": [
       "True"
      ]
     },
     "execution_count": 22,
     "metadata": {},
     "output_type": "execute_result"
    }
   ],
   "source": [
    "\"IL CANE ABBAIA SULLA STRADA\".startswith('IL CANE')  # le maiuscole sono diverse dalle minuscole"
   ]
  },
  {
   "cell_type": "markdown",
   "metadata": {},
   "source": [
    "### Esercizio - per Giove"
   ]
  },
  {
   "cell_type": "markdown",
   "metadata": {},
   "source": [
    "Scrivere del codice che date tre stringhe qualsiasi `x` e `y` e `z`, stampa `True` se entrambe `x` e `y` iniziano con la stringa `z`, altrimenti stampa `False`\n",
    "\n",
    "Esempi 1 - Dati:\n",
    "\n",
    "```python\n",
    "x = 'per Giove'\n",
    "y = 'per Zeus'\n",
    "z = 'per'\n",
    "```\n",
    "\n",
    "deve stampare \n",
    "\n",
    "```\n",
    "True\n",
    "```\n",
    "\n",
    "\n",
    "Esempio 2 - Dati:\n",
    "\n",
    "```python\n",
    "x = 'per Giove'\n",
    "y = 'per Zeus'\n",
    "z = 'da'\n",
    "```\n",
    "\n",
    "deve stampare \n",
    "\n",
    "```\n",
    "False\n",
    "```\n",
    "\n",
    "Esempio 3 - Dati:\n",
    "\n",
    "```python\n",
    "x = 'da Giove'\n",
    "y = 'per Zeus'\n",
    "z = 'per'\n",
    "```\n",
    "\n",
    "deve stampare \n",
    "\n",
    "```\n",
    "False\n",
    "```"
   ]
  },
  {
   "cell_type": "raw",
   "id": "ee4e7e4a",
   "metadata": {
    "format": "text/html"
   },
   "source": [
    "<a  class=\"jupman-sol jupman-sol-toggler\" \n",
    " onclick=\"jupman.toggleSolution(this);\" \n",
    " data-jupman-show=\"Mostra soluzione\" data-jupman-hide=\"Nascondi\">Mostra soluzione</a><div class=\"jupman-sol jupman-sol-code\" style=\"display:none\">  "
   ]
  },
  {
   "cell_type": "code",
   "execution_count": 23,
   "metadata": {},
   "outputs": [
    {
     "name": "stdout",
     "output_type": "stream",
     "text": [
      "True\n"
     ]
    }
   ],
   "source": [
    "\n",
    "x = 'per Giove'\n",
    "y = 'per Zeus'\n",
    "z = 'per'\n",
    "\n",
    "# scrivi qui\n",
    "\n",
    "print(x.startswith(z) and y.startswith(z))"
   ]
  },
  {
   "cell_type": "raw",
   "id": "457d753b",
   "metadata": {
    "format": "text/html"
   },
   "source": [
    "</div>"
   ]
  },
  {
   "cell_type": "code",
   "execution_count": 23,
   "metadata": {},
   "outputs": [],
   "source": [
    "\n",
    "x = 'per Giove'\n",
    "y = 'per Zeus'\n",
    "z = 'per'\n",
    "\n",
    "# scrivi qui\n",
    "\n"
   ]
  },
  {
   "cell_type": "markdown",
   "metadata": {},
   "source": [
    "## Metodo endswith\n",
    "\n",
    "`str.endswith` prende come parametro una stringa e ritorna `True` se la stringa prima del punto finisce con la stringa passata come parametro. Esempio:"
   ]
  },
  {
   "cell_type": "code",
   "execution_count": 24,
   "metadata": {},
   "outputs": [
    {
     "data": {
      "text/plain": [
       "True"
      ]
     },
     "execution_count": 24,
     "metadata": {},
     "output_type": "execute_result"
    }
   ],
   "source": [
    "\"I miei più cari saluti\".endswith('cari saluti')"
   ]
  },
  {
   "cell_type": "code",
   "execution_count": 25,
   "metadata": {},
   "outputs": [
    {
     "data": {
      "text/plain": [
       "False"
      ]
     },
     "execution_count": 25,
     "metadata": {},
     "output_type": "execute_result"
    }
   ],
   "source": [
    "\"I miei più cari saluti\".endswith('cari')"
   ]
  },
  {
   "cell_type": "code",
   "execution_count": 26,
   "metadata": {},
   "outputs": [
    {
     "data": {
      "text/plain": [
       "False"
      ]
     },
     "execution_count": 26,
     "metadata": {},
     "output_type": "execute_result"
    }
   ],
   "source": [
    "\"I miei più cari saluti\".endswith('SALUTI')  # le maiuscole sono diverse dalle minuscole"
   ]
  },
  {
   "cell_type": "code",
   "execution_count": 27,
   "metadata": {},
   "outputs": [
    {
     "data": {
      "text/plain": [
       "True"
      ]
     },
     "execution_count": 27,
     "metadata": {},
     "output_type": "execute_result"
    }
   ],
   "source": [
    "\"I MIEI PIU' CARI SALUTI\".endswith('SALUTI')  # le maiuscole sono diverse dalle minuscole"
   ]
  },
  {
   "cell_type": "markdown",
   "metadata": {},
   "source": [
    "### Esercizio - Snobbonis\n",
    "\n",
    "Dati nomi di coppie `marito` e `moglie`, scrivi del codice che stampa `True` se condividono il cognome, `False` altrimenti. \n",
    "\n",
    "* assumi che il cognome sia sempre alla stessa posizione\n",
    "* il tuo codice deve funzionare per qualsiasi coppia `marito` `moglie`"
   ]
  },
  {
   "cell_type": "raw",
   "id": "8ae79cec",
   "metadata": {
    "format": "text/html"
   },
   "source": [
    "<a  class=\"jupman-sol jupman-sol-toggler\" \n",
    " onclick=\"jupman.toggleSolution(this);\" \n",
    " data-jupman-show=\"Mostra soluzione\" data-jupman-hide=\"Nascondi\">Mostra soluzione</a><div class=\"jupman-sol jupman-sol-code\" style=\"display:none\">  "
   ]
  },
  {
   "cell_type": "code",
   "execution_count": 28,
   "metadata": {},
   "outputs": [
    {
     "name": "stdout",
     "output_type": "stream",
     "text": [
      "True\n"
     ]
    }
   ],
   "source": [
    "\n",
    "                  #0123456789               #0123456789\n",
    "marito, moglie = 'Antonio  Snobbonis',     'Carolina Snobbonis'   # True\n",
    "#marito, moglie = 'Camillo  De Spaparanzi', 'Matilda  Degli Agi'  # False\n",
    "\n",
    "# scrivi qui\n",
    "\n",
    "print(moglie.endswith(marito[9:]))"
   ]
  },
  {
   "cell_type": "raw",
   "id": "425b3eea",
   "metadata": {
    "format": "text/html"
   },
   "source": [
    "</div>"
   ]
  },
  {
   "cell_type": "code",
   "execution_count": 28,
   "metadata": {},
   "outputs": [],
   "source": [
    "\n",
    "                  #0123456789               #0123456789\n",
    "marito, moglie = 'Antonio  Snobbonis',     'Carolina Snobbonis'   # True\n",
    "#marito, moglie = 'Camillo  De Spaparanzi', 'Matilda  Degli Agi'  # False\n",
    "\n",
    "# scrivi qui\n",
    "\n"
   ]
  },
  {
   "cell_type": "markdown",
   "metadata": {},
   "source": [
    "## Metodo isalpha"
   ]
  },
  {
   "cell_type": "markdown",
   "metadata": {},
   "source": [
    "Il metodo `isalpha` ritorna `True` se tutti i caratteri nella stringa sono alfabetici:"
   ]
  },
  {
   "cell_type": "code",
   "execution_count": 29,
   "metadata": {},
   "outputs": [
    {
     "data": {
      "text/plain": [
       "True"
      ]
     },
     "execution_count": 29,
     "metadata": {},
     "output_type": "execute_result"
    }
   ],
   "source": [
    "'BarrieraCorallina'.isalpha()"
   ]
  },
  {
   "cell_type": "markdown",
   "metadata": {},
   "source": [
    "I numeri non sono considerati alfabetici:"
   ]
  },
  {
   "cell_type": "code",
   "execution_count": 30,
   "metadata": {},
   "outputs": [
    {
     "data": {
      "text/plain": [
       "False"
      ]
     },
     "execution_count": 30,
     "metadata": {},
     "output_type": "execute_result"
    }
   ],
   "source": [
    "'Route 666'.isalpha()"
   ]
  },
  {
   "cell_type": "markdown",
   "metadata": {},
   "source": [
    "Nota che le spaziature (i cosiddetti _blank_) _non_ sono alfabetiche:"
   ]
  },
  {
   "cell_type": "code",
   "execution_count": 31,
   "metadata": {},
   "outputs": [
    {
     "data": {
      "text/plain": [
       "False"
      ]
     },
     "execution_count": 31,
     "metadata": {},
     "output_type": "execute_result"
    }
   ],
   "source": [
    "'Barriera Corallina'.isalpha()"
   ]
  },
  {
   "cell_type": "markdown",
   "metadata": {},
   "source": [
    "... nè la punteggiatura:"
   ]
  },
  {
   "cell_type": "code",
   "execution_count": 32,
   "metadata": {},
   "outputs": [
    {
     "data": {
      "text/plain": [
       "False"
      ]
     },
     "execution_count": 32,
     "metadata": {},
     "output_type": "execute_result"
    }
   ],
   "source": [
    "'!'.isalpha()"
   ]
  },
  {
   "cell_type": "markdown",
   "metadata": {},
   "source": [
    "... e neanche strani caratteri Unicode:"
   ]
  },
  {
   "cell_type": "code",
   "execution_count": 33,
   "metadata": {},
   "outputs": [
    {
     "data": {
      "text/plain": [
       "False"
      ]
     },
     "execution_count": 33,
     "metadata": {},
     "output_type": "execute_result"
    }
   ],
   "source": [
    "'♥'.isalpha()"
   ]
  },
  {
   "cell_type": "markdown",
   "metadata": {},
   "source": [
    ".. nè la stringa vuota:"
   ]
  },
  {
   "cell_type": "code",
   "execution_count": 34,
   "metadata": {
    "scrolled": true
   },
   "outputs": [
    {
     "data": {
      "text/plain": [
       "False"
      ]
     },
     "execution_count": 34,
     "metadata": {},
     "output_type": "execute_result"
    }
   ],
   "source": [
    "''.isalpha()"
   ]
  },
  {
   "cell_type": "markdown",
   "metadata": {},
   "source": [
    "### Esercizio - Combattiamo gli hacker\n",
    "\n",
    "Come è noto nei piani bassi dell'Interpol, gli hacker internazionali comunicano usando una lingua ricca di slang chiamata _Leet_. Tuttavia questa moda si sta diffondendo anche nelle scuole, dove si viene considerati _K001_ (cool) se si sa comunicare in questa scomoda maniera.\n",
    "La base è cercare di sostituire alle lettere dei numeri durante la scrittura. ( [Qui una guida completa](https://simple.wikipedia.org/wiki/Leet) )\n",
    "```\n",
    "1 -> i\n",
    "2 -> z\n",
    "3 -> e\n",
    "4 -> h, a, y\n",
    "etc\n",
    "```\n",
    "\n",
    "Scriviamo un codice che controlla le parole usate dagli studenti per evitare che si esprimano in questa maniera, che Dante di sicuro disapprova!\n",
    "\n",
    "* Le parole verranno inserite di volta in volta nella variabile `parola`\n",
    "* Il codice deve essere generico, valido per tutte le parole\n",
    "* Devi restituire `True` se la parola è incriminata, contiene numeri al posto di lettere\n",
    "* Devi restituire `False` se la parola è scritta bene e non c'è bisogno di ramanzine agli studenti"
   ]
  },
  {
   "cell_type": "raw",
   "id": "2a63b8dc",
   "metadata": {
    "format": "text/html"
   },
   "source": [
    "<a  class=\"jupman-sol jupman-sol-toggler\" \n",
    " onclick=\"jupman.toggleSolution(this);\" \n",
    " data-jupman-show=\"Mostra soluzione\" data-jupman-hide=\"Nascondi\">Mostra soluzione</a><div class=\"jupman-sol jupman-sol-code\" style=\"display:none\">  "
   ]
  },
  {
   "cell_type": "code",
   "execution_count": 35,
   "metadata": {},
   "outputs": [
    {
     "name": "stdout",
     "output_type": "stream",
     "text": [
      "True\n"
     ]
    }
   ],
   "source": [
    "\n",
    "parola = 'H4ck3r'    # True\n",
    "#parola = 'Hacker'   # False\n",
    "#parola = 'K001'     # True\n",
    "#parola = 'Cool'     # False\n",
    "\n",
    "# scrivi qui\n",
    "print(not parola.isalpha())"
   ]
  },
  {
   "cell_type": "raw",
   "id": "6f44c49d",
   "metadata": {
    "format": "text/html"
   },
   "source": [
    "</div>"
   ]
  },
  {
   "cell_type": "code",
   "execution_count": 35,
   "metadata": {},
   "outputs": [],
   "source": [
    "\n",
    "parola = 'H4ck3r'    # True\n",
    "#parola = 'Hacker'   # False\n",
    "#parola = 'K001'     # True\n",
    "#parola = 'Cool'     # False\n",
    "\n",
    "# scrivi qui\n",
    "\n"
   ]
  },
  {
   "cell_type": "markdown",
   "metadata": {},
   "source": [
    "## Metodo isdigit\n",
    "\n",
    "Il metodo `isdigit` ritorna `True` se una stringa è solo composta di cifre:"
   ]
  },
  {
   "cell_type": "code",
   "execution_count": 36,
   "metadata": {},
   "outputs": [
    {
     "data": {
      "text/plain": [
       "True"
      ]
     },
     "execution_count": 36,
     "metadata": {},
     "output_type": "execute_result"
    }
   ],
   "source": [
    "'391'.isdigit()"
   ]
  },
  {
   "cell_type": "code",
   "execution_count": 37,
   "metadata": {},
   "outputs": [
    {
     "data": {
      "text/plain": [
       "False"
      ]
     },
     "execution_count": 37,
     "metadata": {},
     "output_type": "execute_result"
    }
   ],
   "source": [
    "'400m'.isdigit()"
   ]
  },
  {
   "cell_type": "markdown",
   "metadata": {},
   "source": [
    "Le notazioni a virgola mobile e scientifica non sono riconosciute:"
   ]
  },
  {
   "cell_type": "code",
   "execution_count": 38,
   "metadata": {},
   "outputs": [
    {
     "data": {
      "text/plain": [
       "False"
      ]
     },
     "execution_count": 38,
     "metadata": {},
     "output_type": "execute_result"
    }
   ],
   "source": [
    "'3.14'.isdigit()"
   ]
  },
  {
   "cell_type": "code",
   "execution_count": 39,
   "metadata": {},
   "outputs": [
    {
     "data": {
      "text/plain": [
       "False"
      ]
     },
     "execution_count": 39,
     "metadata": {},
     "output_type": "execute_result"
    }
   ],
   "source": [
    "'4e29'.isdigit()"
   ]
  },
  {
   "cell_type": "markdown",
   "metadata": {},
   "source": [
    "### Esercizio - Vendere numeri\n",
    "\n",
    "La multinazionale ToxiCorp è riuscita a mettere le mani su un tesoro di dati personali di ignari utenti, e ti propone di  analizzarli per poi vendere informazioni private sul mercato nero al miglior offerente. L'offerta ti pare questionabile, ma pagano bene, perciò accetti.\n",
    "\n",
    "Occorre capire che dati sono e come catalogarli. Tra i tanti hai trovato una serie di stringhe che sembrano dei numeri di telefono. \n",
    "\n",
    "Ogni numero dovrebbe essere così composto:\n",
    "\n",
    "```\n",
    "+ [prefisso nazionale 39] [10 numeri]\n",
    "```\n",
    "\n",
    "Scrivi del codice che stampa `True` se la stringa è un numero telefonico, `False` altrimenti\n",
    "\n",
    "* Dentro `telefono` metti uno alla volta i numeri che hai trovato\n",
    "* Il codice deve essere generico, valido per tutti i numeri"
   ]
  },
  {
   "cell_type": "raw",
   "id": "2f69d661",
   "metadata": {
    "format": "text/html"
   },
   "source": [
    "<a  class=\"jupman-sol jupman-sol-toggler\" \n",
    " onclick=\"jupman.toggleSolution(this);\" \n",
    " data-jupman-show=\"Mostra soluzione\" data-jupman-hide=\"Nascondi\">Mostra soluzione</a><div class=\"jupman-sol jupman-sol-code\" style=\"display:none\">  "
   ]
  },
  {
   "cell_type": "code",
   "execution_count": 40,
   "metadata": {},
   "outputs": [
    {
     "name": "stdout",
     "output_type": "stream",
     "text": [
      "Controllo delle variabili: True True True True\n",
      "E' un numero di telefono? True\n"
     ]
    }
   ],
   "source": [
    "\n",
    "\n",
    "telefono = '+392574856985'    # True\n",
    "#telefono = '395851256954'    # False (manca il '+')\n",
    "#telefono = '++7485125874'    # False (manca il prefisso) \n",
    "#telefono = '+39333457Ciao'   # False (mi pare ovvio :D )\n",
    "#telefono = \"+3912\"           # False (troppo corto)\n",
    "#telefono = '+393481489945'   # True\n",
    "\n",
    "# scrivi qui\n",
    "numero = telefono[3:]  # Mi salvo la stringa escluso l'eventuale +39\n",
    "\n",
    "# Facciamo 4 bool per tenere traccia di tutte le condizioni\n",
    "segno_piu = telefono.startswith('+')                  # Comincia con il + ?\n",
    "prefisso_nazionale = telefono[1:].startswith('39')  # Dopo c'è 39?     (Volendo si poteva fare insieme aLLA riga sopra)\n",
    "lungo10 = len(numero) == 10       # Escluso il prefisso gli altri sono 10 caratteri?\n",
    "tutte_cifre = numero.isdigit()          # Sono tutti numeri?\n",
    "\n",
    "# Questa è solo una stampa di debug\n",
    "print(\"Controllo delle variabili:\", segno_piu, prefisso_nazionale, lungo10, tutte_cifre)\n",
    "# Soluzione finale, combina tutto \n",
    "print(\"E' un numero di telefono?\", segno_piu and prefisso_nazionale and lungo10 and tutte_cifre)"
   ]
  },
  {
   "cell_type": "raw",
   "id": "e1e35916",
   "metadata": {
    "format": "text/html"
   },
   "source": [
    "</div>"
   ]
  },
  {
   "cell_type": "code",
   "execution_count": 40,
   "metadata": {},
   "outputs": [],
   "source": [
    "\n",
    "\n",
    "telefono = '+392574856985'    # True\n",
    "#telefono = '395851256954'    # False (manca il '+')\n",
    "#telefono = '++7485125874'    # False (manca il prefisso) \n",
    "#telefono = '+39333457Ciao'   # False (mi pare ovvio :D )\n",
    "#telefono = \"+3912\"           # False (troppo corto)\n",
    "#telefono = '+393481489945'   # True\n",
    "\n",
    "# scrivi qui\n",
    "\n"
   ]
  },
  {
   "cell_type": "markdown",
   "metadata": {},
   "source": [
    "## Metodi `isupper` e `islower`\n",
    "\n",
    "Possiamo controllare se un carattere è maiuscolo o minuscolo con i metodi `isupper` e `islower`:"
   ]
  },
  {
   "cell_type": "code",
   "execution_count": 41,
   "metadata": {},
   "outputs": [
    {
     "data": {
      "text/plain": [
       "False"
      ]
     },
     "execution_count": 41,
     "metadata": {},
     "output_type": "execute_result"
    }
   ],
   "source": [
    "'q'.isupper()"
   ]
  },
  {
   "cell_type": "code",
   "execution_count": 42,
   "metadata": {},
   "outputs": [
    {
     "data": {
      "text/plain": [
       "True"
      ]
     },
     "execution_count": 42,
     "metadata": {},
     "output_type": "execute_result"
    }
   ],
   "source": [
    "'Q'.isupper()"
   ]
  },
  {
   "cell_type": "code",
   "execution_count": 43,
   "metadata": {},
   "outputs": [
    {
     "data": {
      "text/plain": [
       "True"
      ]
     },
     "execution_count": 43,
     "metadata": {},
     "output_type": "execute_result"
    }
   ],
   "source": [
    "'b'.islower()"
   ]
  },
  {
   "cell_type": "code",
   "execution_count": 44,
   "metadata": {},
   "outputs": [
    {
     "data": {
      "text/plain": [
       "False"
      ]
     },
     "execution_count": 44,
     "metadata": {},
     "output_type": "execute_result"
    }
   ],
   "source": [
    "'B'.islower()"
   ]
  },
  {
   "cell_type": "markdown",
   "metadata": {},
   "source": [
    "Funzionano anche con stringhe lunghe, controllando se tutti i caratteri soddisfano il criterio:"
   ]
  },
  {
   "cell_type": "code",
   "execution_count": 45,
   "metadata": {},
   "outputs": [
    {
     "data": {
      "text/plain": [
       "True"
      ]
     },
     "execution_count": 45,
     "metadata": {},
     "output_type": "execute_result"
    }
   ],
   "source": [
    "'GREAT'.isupper()"
   ]
  },
  {
   "cell_type": "code",
   "execution_count": 46,
   "metadata": {},
   "outputs": [
    {
     "data": {
      "text/plain": [
       "False"
      ]
     },
     "execution_count": 46,
     "metadata": {},
     "output_type": "execute_result"
    }
   ],
   "source": [
    "'NotSoGREAT'.isupper()"
   ]
  },
  {
   "cell_type": "markdown",
   "metadata": {},
   "source": [
    "Nota che spaziatura in genere (i _blank_) e punteggiatura non sono prese in considerazione:"
   ]
  },
  {
   "cell_type": "code",
   "execution_count": 47,
   "metadata": {},
   "outputs": [
    {
     "data": {
      "text/plain": [
       "True"
      ]
     },
     "execution_count": 47,
     "metadata": {},
     "output_type": "execute_result"
    }
   ],
   "source": [
    "'TROPPO\\nGIUSTO !'.isupper()"
   ]
  },
  {
   "cell_type": "markdown",
   "metadata": {},
   "source": [
    "Potremmo controllare se un carattere è maiuscolo/minuscolo guardando il codice ASCII ma il miglior modo per coprire tutti gli alfabeti è usare i metodi `isupper` e `islower`, per esempio funzionano anche con lettere accentate:"
   ]
  },
  {
   "cell_type": "code",
   "execution_count": 48,
   "metadata": {},
   "outputs": [
    {
     "data": {
      "text/plain": [
       "False"
      ]
     },
     "execution_count": 48,
     "metadata": {},
     "output_type": "execute_result"
    }
   ],
   "source": [
    "'à'.isupper()"
   ]
  },
  {
   "cell_type": "code",
   "execution_count": 49,
   "metadata": {
    "scrolled": true
   },
   "outputs": [
    {
     "data": {
      "text/plain": [
       "True"
      ]
     },
     "execution_count": 49,
     "metadata": {},
     "output_type": "execute_result"
    }
   ],
   "source": [
    "'Á'.isupper()"
   ]
  },
  {
   "cell_type": "markdown",
   "metadata": {},
   "source": [
    "### Esercizio - nani e GIGANTI\n",
    "\n",
    "In un mondo fantasy eccitante e sconosciuto vivono due popolazioni: si tratta dei nani e dei GIGANTI. \n",
    "\n",
    "- I nani amano dare nomi ai propri pargoli che contengono solo lettere minuscole.\n",
    "- I GIGANTI invece non devono nemmeno pensarci, perchè come scritto sulle tavole di GROCK i nomi dei  GIGANTI possono solo avere lettere maiuscole.\n",
    "\n",
    "Un giorno arrivò una minaccia malvagia da un regno lontano e come in tutti i clichè fu composta una compagnia. Una profezia diceva che solo una compagnia mista di GIGANTI e di nani per un totale di **4** persone avrebbe potuto sconfiggere il malvagio di turno.\n",
    "\n",
    "1) Scrivi del codice che controlla se quattro componenti possono comporre una compagnia valida:\n",
    "\n",
    "* Stampa `True` se i quattro nomi sono sia di nani che di GIGANTI, altrimenti se sono di una sola delle due popolazioni stampa `False` \n",
    "* Il codice deve essere generico, valido per tutte le stringhe\n",
    "\n",
    "2) Cerca dei [nomi di GIGANTI](https://www.fantasynamegenerators.com/giant-names.php) e [Nomi di nani](https://www.fantasynamegenerators.com/dwarf_names.php) e prova a metterli, facendo attenzione a tradurli con la capitalizzazione tutta minuscola / tutta maiuscola corretta, es \"Jisog\" non è un nome di gigante valido, va tradotto alla scrittura gigantica \"JISOG\". "
   ]
  },
  {
   "cell_type": "raw",
   "id": "5bb1beb2",
   "metadata": {
    "format": "text/html"
   },
   "source": [
    "<a  class=\"jupman-sol jupman-sol-toggler\" \n",
    " onclick=\"jupman.toggleSolution(this);\" \n",
    " data-jupman-show=\"Mostra soluzione\" data-jupman-hide=\"Nascondi\">Mostra soluzione</a><div class=\"jupman-sol jupman-sol-code\" style=\"display:none\">  "
   ]
  },
  {
   "cell_type": "code",
   "execution_count": 50,
   "metadata": {},
   "outputs": [
    {
     "name": "stdout",
     "output_type": "stream",
     "text": [
      "False\n"
     ]
    }
   ],
   "source": [
    "\n",
    "avv1, avv2, avv3, avv4 = 'gimli', 'savorlim', 'glazouc', 'hondouni'       # False\n",
    "#avv1, avv2, avv3, avv4 = 'OXLOR', 'HIVAR', 'ELOR', 'SUXGROG'             # False\n",
    "#avv1, avv2, avv3, avv4 = 'krakrerlig', 'GUCAM', 'SUXGROG', 'kodearen'    # True\n",
    "#avv1, avv2, avv3, avv4 = 'yarnithra', 'krakrerlig', 'jandreda', 'TOVIR'  # True\n",
    "\n",
    "# scrivi qui\n",
    "a1 = avv1.isupper()\n",
    "a2 = avv2.isupper()\n",
    "a3 = avv3.isupper()\n",
    "a4 = avv4.isupper()\n",
    "\n",
    "print(not(a1 == a2 == a3 == a4))"
   ]
  },
  {
   "cell_type": "raw",
   "id": "5af2bd56",
   "metadata": {
    "format": "text/html"
   },
   "source": [
    "</div>"
   ]
  },
  {
   "cell_type": "code",
   "execution_count": 50,
   "metadata": {},
   "outputs": [],
   "source": [
    "\n",
    "avv1, avv2, avv3, avv4 = 'gimli', 'savorlim', 'glazouc', 'hondouni'       # False\n",
    "#avv1, avv2, avv3, avv4 = 'OXLOR', 'HIVAR', 'ELOR', 'SUXGROG'             # False\n",
    "#avv1, avv2, avv3, avv4 = 'krakrerlig', 'GUCAM', 'SUXGROG', 'kodearen'    # True\n",
    "#avv1, avv2, avv3, avv4 = 'yarnithra', 'krakrerlig', 'jandreda', 'TOVIR'  # True\n",
    "\n",
    "# scrivi qui\n",
    "\n"
   ]
  },
  {
   "cell_type": "markdown",
   "metadata": {},
   "source": [
    "## Metodo strip\n",
    "\n",
    "Elimina spazi bianchi, tab e ritorni a capo dalle _estremità_ della stringa. In genere, questo insieme di caratteri viene definito _blank_\n",
    "\n",
    "**NOTA**: NON rimuove i _blank_ tra le parole della stringa! Solo quelli all'estremità destra e sinistra."
   ]
  },
  {
   "cell_type": "code",
   "execution_count": 51,
   "metadata": {},
   "outputs": [],
   "source": [
    "x = ' \\t\\n\\n\\t ciao mondo \\t  '   # alle estremità abbiamo messo spazi bianchi, tab e ritorni a capo"
   ]
  },
  {
   "cell_type": "code",
   "execution_count": 52,
   "metadata": {},
   "outputs": [
    {
     "data": {
      "text/plain": [
       "' \\t\\n\\n\\t ciao mondo \\t  '"
      ]
     },
     "execution_count": 52,
     "metadata": {},
     "output_type": "execute_result"
    }
   ],
   "source": [
    "x"
   ]
  },
  {
   "cell_type": "code",
   "execution_count": 53,
   "metadata": {},
   "outputs": [
    {
     "name": "stdout",
     "output_type": "stream",
     "text": [
      " \t\n",
      "\n",
      "\t ciao mondo \t  \n"
     ]
    }
   ],
   "source": [
    "print(x)"
   ]
  },
  {
   "cell_type": "code",
   "execution_count": 54,
   "metadata": {},
   "outputs": [
    {
     "data": {
      "text/plain": [
       "20"
      ]
     },
     "execution_count": 54,
     "metadata": {},
     "output_type": "execute_result"
    }
   ],
   "source": [
    "len(x)   # ricorda che i caratteri speciali come \\t e \\n occupano 1 carattere"
   ]
  },
  {
   "cell_type": "code",
   "execution_count": 55,
   "metadata": {},
   "outputs": [],
   "source": [
    "y = x.strip()"
   ]
  },
  {
   "cell_type": "code",
   "execution_count": 56,
   "metadata": {},
   "outputs": [
    {
     "data": {
      "text/plain": [
       "'ciao mondo'"
      ]
     },
     "execution_count": 56,
     "metadata": {},
     "output_type": "execute_result"
    }
   ],
   "source": [
    "y"
   ]
  },
  {
   "cell_type": "code",
   "execution_count": 57,
   "metadata": {},
   "outputs": [
    {
     "name": "stdout",
     "output_type": "stream",
     "text": [
      "ciao mondo\n"
     ]
    }
   ],
   "source": [
    "print(y)"
   ]
  },
  {
   "cell_type": "code",
   "execution_count": 58,
   "metadata": {},
   "outputs": [
    {
     "data": {
      "text/plain": [
       "10"
      ]
     },
     "execution_count": 58,
     "metadata": {},
     "output_type": "execute_result"
    }
   ],
   "source": [
    "len(y)"
   ]
  },
  {
   "cell_type": "code",
   "execution_count": 59,
   "metadata": {},
   "outputs": [
    {
     "data": {
      "text/plain": [
       "' \\t\\n\\n\\t ciao mondo \\t  '"
      ]
     },
     "execution_count": 59,
     "metadata": {},
     "output_type": "execute_result"
    }
   ],
   "source": [
    "x      # IMPORTANTE: x è ancora associato alla vecchia stringa !"
   ]
  },
  {
   "cell_type": "markdown",
   "metadata": {},
   "source": [
    "### Specificare i caratteri da rimuovere\n",
    "\n",
    "Se vuoi che Python si limiti a rimuovere solo qualche carattere specifico, puoi specificarli in parentesi. Proviamo a specificarne solo uno:"
   ]
  },
  {
   "cell_type": "code",
   "execution_count": 60,
   "metadata": {},
   "outputs": [
    {
     "data": {
      "text/plain": [
       "'alsa'"
      ]
     },
     "execution_count": 60,
     "metadata": {},
     "output_type": "execute_result"
    }
   ],
   "source": [
    "'salsa'.strip('s')    #  nota che la `s` interna non è rimossa"
   ]
  },
  {
   "cell_type": "markdown",
   "metadata": {},
   "source": [
    "Se ne specifichiamo due o più, Python rimuove tutti i caratteri che può trovare dai lati\n",
    "\n",
    "Nota che l'ordine in cui specifichi i caratteri **non** conta:"
   ]
  },
  {
   "cell_type": "code",
   "execution_count": 61,
   "metadata": {},
   "outputs": [
    {
     "data": {
      "text/plain": [
       "'ust'"
      ]
     },
     "execution_count": 61,
     "metadata": {},
     "output_type": "execute_result"
    }
   ],
   "source": [
    "'caustic'.strip('aci')"
   ]
  },
  {
   "cell_type": "markdown",
   "metadata": {},
   "source": [
    "<div class=\"alert alert-warning\">\n",
    "\n",
    "**ATTENZIONE: Se specifichi i caratteri, Python non proverà più a rimuovere i** ***blank!***\n",
    "</div>"
   ]
  },
  {
   "cell_type": "code",
   "execution_count": 62,
   "metadata": {},
   "outputs": [
    {
     "data": {
      "text/plain": [
       "'ouquet  '"
      ]
     },
     "execution_count": 62,
     "metadata": {},
     "output_type": "execute_result"
    }
   ],
   "source": [
    "'bouquet  '.strip('b')    # non rimuoverà gli spazi a destra!"
   ]
  },
  {
   "cell_type": "code",
   "execution_count": 63,
   "metadata": {},
   "outputs": [
    {
     "data": {
      "text/plain": [
       "'\\tbouquet  '"
      ]
     },
     "execution_count": 63,
     "metadata": {},
     "output_type": "execute_result"
    }
   ],
   "source": [
    "'\\tbouquet  '.strip('b')    # ... nè rimuoverà i blank a sinistra come il tab"
   ]
  },
  {
   "cell_type": "markdown",
   "metadata": {},
   "source": [
    "Secondo lo stesso principio, se specifichi uno spazio `' '`, allora Python rimuoverà **solo** gli spazi e non cercherà gli altri _blank_ !!"
   ]
  },
  {
   "cell_type": "code",
   "execution_count": 64,
   "metadata": {},
   "outputs": [
    {
     "data": {
      "text/plain": [
       "'attento! \\t'"
      ]
     },
     "execution_count": 64,
     "metadata": {},
     "output_type": "execute_result"
    }
   ],
   "source": [
    "'  attento! \\t'.strip(' ')   # rimuove solo dalla sinistra!"
   ]
  },
  {
   "cell_type": "markdown",
   "metadata": {},
   "source": [
    "**DOMANDA**: per ciascuna delle espressioni seguenti, prova ad indovinare che risultato produce (o se da errore):\n",
    "\n",
    "\n",
    "1.  ```python\n",
    "    '\\ttumultuoso\\n'.strip()\n",
    "    ```\n",
    "1.  ```python\n",
    "    ' a b c '.strip()\n",
    "    ```\n",
    "1.  ```python\n",
    "    '\\ta\\tb\\t'.strip()\n",
    "    ```\n",
    "1.  ```python\n",
    "    '\\\\tMmm'.strip()\n",
    "    ```\n",
    "1.  ```python\n",
    "    'sky diving'.strip('sky')\n",
    "    ```\n",
    "1.  ```python\n",
    "    'anacondas'.strip('sad')\n",
    "    ```    \n",
    "1.  ```python\n",
    "    '\\nno way '.strip(' ')\n",
    "    ```            \n",
    "1.  ```python\n",
    "    '\\nno way '.strip('\\\\n')\n",
    "    ```\n",
    "1.  ```python\n",
    "    '\\nno way '.strip('\\n')\n",
    "    ```                \n",
    "1.  ```python\n",
    "    'salsa'.strip('as')\n",
    "    ```\n",
    "1.  ```python\n",
    "    '\\t ACE '.strip('\\t')\n",
    "    ```\n",
    "1.  ```python\n",
    "    ' e allora? '.strip(\"\")\n",
    "    ```\n",
    "1.  ```python\n",
    "    str(-3+1).strip(\"+\"+\"-\")\n",
    "    ```    "
   ]
  },
  {
   "cell_type": "markdown",
   "metadata": {},
   "source": [
    "## Metodo lstrip\n",
    "\n",
    "Elimina spazi bianchi, tab e ritorni a capo dall' _estremità sinistra_ della stringa. \n",
    "\n",
    "**NOTA**: NON rimuove i _blank_ tra le parole della stringa! Solo quelli all'estremità sinistra."
   ]
  },
  {
   "cell_type": "code",
   "execution_count": 65,
   "metadata": {},
   "outputs": [],
   "source": [
    "x = '\\n \\t la strada \\t '"
   ]
  },
  {
   "cell_type": "code",
   "execution_count": 66,
   "metadata": {},
   "outputs": [
    {
     "data": {
      "text/plain": [
       "'\\n \\t la strada \\t '"
      ]
     },
     "execution_count": 66,
     "metadata": {},
     "output_type": "execute_result"
    }
   ],
   "source": [
    "x"
   ]
  },
  {
   "cell_type": "code",
   "execution_count": 67,
   "metadata": {},
   "outputs": [
    {
     "data": {
      "text/plain": [
       "16"
      ]
     },
     "execution_count": 67,
     "metadata": {},
     "output_type": "execute_result"
    }
   ],
   "source": [
    "len(x)"
   ]
  },
  {
   "cell_type": "code",
   "execution_count": 68,
   "metadata": {},
   "outputs": [],
   "source": [
    "y = x.lstrip()"
   ]
  },
  {
   "cell_type": "code",
   "execution_count": 69,
   "metadata": {},
   "outputs": [
    {
     "data": {
      "text/plain": [
       "'la strada \\t '"
      ]
     },
     "execution_count": 69,
     "metadata": {},
     "output_type": "execute_result"
    }
   ],
   "source": [
    "y"
   ]
  },
  {
   "cell_type": "code",
   "execution_count": 70,
   "metadata": {},
   "outputs": [
    {
     "data": {
      "text/plain": [
       "12"
      ]
     },
     "execution_count": 70,
     "metadata": {},
     "output_type": "execute_result"
    }
   ],
   "source": [
    "len(y)"
   ]
  },
  {
   "cell_type": "code",
   "execution_count": 71,
   "metadata": {},
   "outputs": [
    {
     "data": {
      "text/plain": [
       "'\\n \\t la strada \\t '"
      ]
     },
     "execution_count": 71,
     "metadata": {},
     "output_type": "execute_result"
    }
   ],
   "source": [
    "x       # IMPORTANTE: x è ancora associato alla vecchia stringa !"
   ]
  },
  {
   "cell_type": "markdown",
   "metadata": {},
   "source": [
    "## Metodo rstrip\n",
    "\n",
    "Elimina spazi bianchi, tab e ritorni a capo dall' _estremità destra_ della stringa. \n",
    "\n",
    "**NOTA**: NON rimuove i _blank_ tra le parole della stringa! Solo quelli all'estremità destra."
   ]
  },
  {
   "cell_type": "code",
   "execution_count": 72,
   "metadata": {},
   "outputs": [],
   "source": [
    "x = '\\n \\t il faro \\t '"
   ]
  },
  {
   "cell_type": "code",
   "execution_count": 73,
   "metadata": {},
   "outputs": [
    {
     "data": {
      "text/plain": [
       "'\\n \\t il faro \\t '"
      ]
     },
     "execution_count": 73,
     "metadata": {},
     "output_type": "execute_result"
    }
   ],
   "source": [
    "x"
   ]
  },
  {
   "cell_type": "code",
   "execution_count": 74,
   "metadata": {},
   "outputs": [
    {
     "data": {
      "text/plain": [
       "14"
      ]
     },
     "execution_count": 74,
     "metadata": {},
     "output_type": "execute_result"
    }
   ],
   "source": [
    "len(x)"
   ]
  },
  {
   "cell_type": "code",
   "execution_count": 75,
   "metadata": {},
   "outputs": [],
   "source": [
    "y = x.rstrip()"
   ]
  },
  {
   "cell_type": "code",
   "execution_count": 76,
   "metadata": {},
   "outputs": [
    {
     "data": {
      "text/plain": [
       "'\\n \\t il faro'"
      ]
     },
     "execution_count": 76,
     "metadata": {},
     "output_type": "execute_result"
    }
   ],
   "source": [
    "y"
   ]
  },
  {
   "cell_type": "code",
   "execution_count": 77,
   "metadata": {},
   "outputs": [
    {
     "data": {
      "text/plain": [
       "11"
      ]
     },
     "execution_count": 77,
     "metadata": {},
     "output_type": "execute_result"
    }
   ],
   "source": [
    "len(y)"
   ]
  },
  {
   "cell_type": "code",
   "execution_count": 78,
   "metadata": {},
   "outputs": [
    {
     "data": {
      "text/plain": [
       "'\\n \\t il faro \\t '"
      ]
     },
     "execution_count": 78,
     "metadata": {},
     "output_type": "execute_result"
    }
   ],
   "source": [
    "x       # IMPORTANTE: x è ancora associato alla vecchia stringa !"
   ]
  },
  {
   "cell_type": "markdown",
   "metadata": {},
   "source": [
    "### Esercizio - hatespace\n",
    "\n",
    "Data una stringa `x` che può contenere dei _blank_ (spazi, caratteri di controllo come `\\t` e `\\n`, ...) all'inizio e alla fine, scrivi del codice che stampa la stringa senza i _blank_ e le stringhe `INIZIO` e `FINE` alle estremità.\n",
    "\n",
    "Esempio - dato:\n",
    "\n",
    "```python\n",
    "x = ' \\t  \\n \\n hatespace\\n   \\t \\n'\n",
    "```\n",
    "\n",
    "stampa:\n",
    "\n",
    "```\n",
    "INIZIOhatespaceFINE\n",
    "```\n"
   ]
  },
  {
   "cell_type": "raw",
   "id": "b3752f86",
   "metadata": {
    "format": "text/html"
   },
   "source": [
    "<a  class=\"jupman-sol jupman-sol-toggler\" \n",
    " onclick=\"jupman.toggleSolution(this);\" \n",
    " data-jupman-show=\"Mostra soluzione\" data-jupman-hide=\"Nascondi\">Mostra soluzione</a><div class=\"jupman-sol jupman-sol-code\" style=\"display:none\">  "
   ]
  },
  {
   "cell_type": "code",
   "execution_count": 79,
   "metadata": {},
   "outputs": [
    {
     "name": "stdout",
     "output_type": "stream",
     "text": [
      "INIZIOhatespaceFINE\n"
     ]
    }
   ],
   "source": [
    "\n",
    "# scrivi qui\n",
    "\n",
    "x = ' \\t  \\n \\n hatespace\\n   \\t \\n'\n",
    "\n",
    "print('INIZIO' + x.strip() + 'FINE')"
   ]
  },
  {
   "cell_type": "raw",
   "id": "64794ba5",
   "metadata": {
    "format": "text/html"
   },
   "source": [
    "</div>"
   ]
  },
  {
   "cell_type": "code",
   "execution_count": 79,
   "metadata": {},
   "outputs": [],
   "source": [
    "\n",
    "# scrivi qui\n",
    "\n"
   ]
  },
  {
   "cell_type": "markdown",
   "metadata": {},
   "source": [
    "### Esercizio - Bad to the bone\n",
    "\n",
    "Hai una stringa in maiuscolo `s` che contiene ai lati dei caratteri che vuoi rimuovere: `punteggiatura`, un `carattere` minuscolo e dei _blank_. Scrivi del codice per eseguire la rimozione\n",
    "\n",
    "Esempio - dati:\n",
    "\n",
    "```python\n",
    "carattere = 'b'\n",
    "punteggiatura = '!?.;,'\n",
    "s = ' \\t\\n...bbbbbBAD TO THE BONE\\n!'\n",
    "```\n",
    "\n",
    "il tuo codice dovrebbe mostrare:\n",
    "\n",
    "```\n",
    "'BAD TO THE BONE'\n",
    "```\n",
    "\n",
    "* usa solo i metodi `strip` (o `lstrip` e `rstrip`)  (se necessario, puoi fare chiamate ripetute)"
   ]
  },
  {
   "cell_type": "raw",
   "id": "6f682fad",
   "metadata": {
    "format": "text/html"
   },
   "source": [
    "<a  class=\"jupman-sol jupman-sol-toggler\" \n",
    " onclick=\"jupman.toggleSolution(this);\" \n",
    " data-jupman-show=\"Mostra soluzione\" data-jupman-hide=\"Nascondi\">Mostra soluzione</a><div class=\"jupman-sol jupman-sol-code\" style=\"display:none\">  "
   ]
  },
  {
   "cell_type": "code",
   "execution_count": 80,
   "metadata": {},
   "outputs": [
    {
     "data": {
      "text/plain": [
       "'BAD TO THE BONE'"
      ]
     },
     "execution_count": 80,
     "metadata": {},
     "output_type": "execute_result"
    }
   ],
   "source": [
    "\n",
    "carattere = 'b'\n",
    "punteggiatura = '!?.;,'\n",
    "s = ' \\t\\n...bbbbbBAD TO THE BONE\\n!'\n",
    "\n",
    "# scrivi qui\n",
    "s.strip().strip(carattere + punteggiatura).strip()"
   ]
  },
  {
   "cell_type": "raw",
   "id": "c25adf41",
   "metadata": {
    "format": "text/html"
   },
   "source": [
    "</div>"
   ]
  },
  {
   "cell_type": "code",
   "execution_count": 80,
   "metadata": {},
   "outputs": [],
   "source": [
    "\n",
    "carattere = 'b'\n",
    "punteggiatura = '!?.;,'\n",
    "s = ' \\t\\n...bbbbbBAD TO THE BONE\\n!'\n",
    "\n",
    "# scrivi qui\n",
    "\n"
   ]
  },
  {
   "cell_type": "markdown",
   "metadata": {},
   "source": [
    "## Metodo count\n",
    "\n",
    "Il metodo `count` prende una sottostringa e conta quante occorrenze vi sono nella stringa prima del punto."
   ]
  },
  {
   "cell_type": "code",
   "execution_count": 81,
   "metadata": {},
   "outputs": [
    {
     "data": {
      "text/plain": [
       "3"
      ]
     },
     "execution_count": 81,
     "metadata": {},
     "output_type": "execute_result"
    }
   ],
   "source": [
    "\"raggi astrali\".count('a')"
   ]
  },
  {
   "cell_type": "code",
   "execution_count": 82,
   "metadata": {},
   "outputs": [
    {
     "data": {
      "text/plain": [
       "0"
      ]
     },
     "execution_count": 82,
     "metadata": {},
     "output_type": "execute_result"
    }
   ],
   "source": [
    "\"raggi astrali\".count('A')    # distingue maiuscole/minuscole"
   ]
  },
  {
   "cell_type": "code",
   "execution_count": 83,
   "metadata": {},
   "outputs": [
    {
     "data": {
      "text/plain": [
       "1"
      ]
     },
     "execution_count": 83,
     "metadata": {},
     "output_type": "execute_result"
    }
   ],
   "source": [
    "\"raggi astrali\".count('st')"
   ]
  },
  {
   "cell_type": "markdown",
   "metadata": {},
   "source": [
    "Opzionalmente, puoi passare due altri parametri per denotare un indice da quale partire a contare (incluso) e dove terminare (escluso):"
   ]
  },
  {
   "cell_type": "code",
   "execution_count": 84,
   "metadata": {},
   "outputs": [
    {
     "data": {
      "text/plain": [
       "2"
      ]
     },
     "execution_count": 84,
     "metadata": {},
     "output_type": "execute_result"
    }
   ],
   "source": [
    "#012345678901\n",
    "\"raggi astrali\".count('a',4)  "
   ]
  },
  {
   "cell_type": "code",
   "execution_count": 85,
   "metadata": {},
   "outputs": [
    {
     "data": {
      "text/plain": [
       "1"
      ]
     },
     "execution_count": 85,
     "metadata": {},
     "output_type": "execute_result"
    }
   ],
   "source": [
    "#0123456789012\n",
    "\"raggi astrali\".count('a',4,9)  "
   ]
  },
  {
   "cell_type": "markdown",
   "metadata": {},
   "source": [
    "### Non abusare count"
   ]
  },
  {
   "cell_type": "markdown",
   "metadata": {},
   "source": [
    "<div class=\"alert alert-warning\">\n",
    "    \n",
    "**ATTENZIONE**: `count` **viene spesso usato in modo errato / inefficiente**\n",
    "\n",
    "Chiediti sempre:\n",
    "    \n",
    "1. la stringa su cui operare potrebbe contenere duplicati? Ricordati che verranno tutti conteggiati!\n",
    "2. la stringa potrebbe _non_ contenere la sottostringa da conteggiare? Ricordati di gestire anche questo caso!\n",
    "3. `count` compie una ricerca in tutta la stringa, che può essere inefficiente: è proprio necessaria, o sappiamo già l'intervallo in cui cercare?\n",
    "</div>"
   ]
  },
  {
   "cell_type": "markdown",
   "metadata": {},
   "source": [
    "### Esercizio - denaro astrale\n",
    "\n",
    "Durante il lockdown 2020, mentre guardavi le stelle nella notte, hai cominciato a sentire... onde. Rimuginandoci sopra, hai deciso che LORO vogliono comunicare con te, perciò hai montato un antenna satellitare sul tuo tetto per ricevere messaggi dagli alieni. Dopo mesi di rumori apparentemente irrilevanti, un giorno hai finalmente ricevuto un radio-messaggio che pensi di poter tradurre. Gli alieni _ovviamente_ stanno cercando di dirti i numeri vincenti della lotto!\n",
    "\n",
    "Un messaggio è una sequenza di esattamente 3 _diverse_ ripetizioni di caratteri: il numero di caratteri in ogni ripetizione è un numero che proverai alla lotteria. Inizi freneticamente a sviluppare il traduttore per mostrare questi numeri fortunati sul terminale.\n",
    "\n",
    "Esempio - data:\n",
    "\n",
    "```python\n",
    "s = '$$$$€€€€€!!'\n",
    "```\n",
    "\n",
    "dovrebbe stampare:\n",
    "\n",
    "```\n",
    "$ € !\n",
    "4 5 2\n",
    "```\n",
    "\n",
    "* **IMPORTANTE: puoi assumere che tutte le sequenze abbiano caratteri** ***differenti***\n",
    "* **NON** usare cicli nè comprehension\n",
    "* per semplicità assumi che ogni sequenza di caratteri abbia al più 9 ripetizioni"
   ]
  },
  {
   "cell_type": "raw",
   "id": "7c3d4774",
   "metadata": {
    "format": "text/html"
   },
   "source": [
    "<a  class=\"jupman-sol jupman-sol-toggler\" \n",
    " onclick=\"jupman.toggleSolution(this);\" \n",
    " data-jupman-show=\"Mostra soluzione\" data-jupman-hide=\"Nascondi\">Mostra soluzione</a><div class=\"jupman-sol jupman-sol-code\" style=\"display:none\">  "
   ]
  },
  {
   "cell_type": "code",
   "execution_count": 86,
   "metadata": {},
   "outputs": [
    {
     "name": "stdout",
     "output_type": "stream",
     "text": [
      "$ € !\n",
      "4 5 2\n"
     ]
    }
   ],
   "source": [
    "\n",
    "    #01234567890      # $ € !\n",
    "s = '$$$$€€€€€!!'     # 4 5 2\n",
    "\n",
    "                      # a b c\n",
    "#s = 'aaabbbbbbccc'   # 3 6 3\n",
    "\n",
    "                      # H A L    \n",
    "#s = 'HAL'            # 1 1 1\n",
    "\n",
    "# scrivi qui\n",
    "p1 = 0\n",
    "d1 = s.count(s[p1])\n",
    "p2 = p1 + d1\n",
    "d2 = s.count(s[p2])\n",
    "p3 = p2 + d2\n",
    "d3 = s.count(s[p3])\n",
    "\n",
    "print(s[p1],s[p2],s[p3])\n",
    "print(d1,d2,d3)"
   ]
  },
  {
   "cell_type": "raw",
   "id": "37777255",
   "metadata": {
    "format": "text/html"
   },
   "source": [
    "</div>"
   ]
  },
  {
   "cell_type": "code",
   "execution_count": 86,
   "metadata": {},
   "outputs": [],
   "source": [
    "\n",
    "    #01234567890      # $ € !\n",
    "s = '$$$$€€€€€!!'     # 4 5 2\n",
    "\n",
    "                      # a b c\n",
    "#s = 'aaabbbbbbccc'   # 3 6 3\n",
    "\n",
    "                      # H A L    \n",
    "#s = 'HAL'            # 1 1 1\n",
    "\n",
    "# scrivi qui\n",
    "\n"
   ]
  },
  {
   "cell_type": "markdown",
   "metadata": {},
   "source": [
    "## Metodo find\n",
    "\n",
    "`find` ritorna l'indice della _prima_ occorrenza di qualche sottostringa data."
   ]
  },
  {
   "cell_type": "code",
   "execution_count": 87,
   "metadata": {},
   "outputs": [
    {
     "data": {
      "text/plain": [
       "7"
      ]
     },
     "execution_count": 87,
     "metadata": {},
     "output_type": "execute_result"
    }
   ],
   "source": [
    "#0123456789012345\n",
    "'bingo bongo bong'.find('ong')"
   ]
  },
  {
   "cell_type": "markdown",
   "metadata": {},
   "source": [
    "Se nessuna occorrenza è trovata, ritorna `-1`:"
   ]
  },
  {
   "cell_type": "code",
   "execution_count": 88,
   "metadata": {},
   "outputs": [
    {
     "data": {
      "text/plain": [
       "-1"
      ]
     },
     "execution_count": 88,
     "metadata": {},
     "output_type": "execute_result"
    }
   ],
   "source": [
    "#0123456789012345\n",
    "'bingo bongo bong'.find('bang')"
   ]
  },
  {
   "cell_type": "code",
   "execution_count": 89,
   "metadata": {},
   "outputs": [
    {
     "data": {
      "text/plain": [
       "-1"
      ]
     },
     "execution_count": 89,
     "metadata": {},
     "output_type": "execute_result"
    }
   ],
   "source": [
    "#0123456789012345\n",
    "'bingo bongo bong'.find('Bong')    #  differenzia tra maiuscole/minuscole"
   ]
  },
  {
   "cell_type": "markdown",
   "metadata": {},
   "source": [
    "Opzionalmente, puoi specificare un indice da dove iniziare a cercare (incluso):"
   ]
  },
  {
   "cell_type": "code",
   "execution_count": 90,
   "metadata": {},
   "outputs": [
    {
     "data": {
      "text/plain": [
       "13"
      ]
     },
     "execution_count": 90,
     "metadata": {},
     "output_type": "execute_result"
    }
   ],
   "source": [
    "#0123456789012345\n",
    "'bingo bongo bong'.find('ong',10)"
   ]
  },
  {
   "cell_type": "markdown",
   "metadata": {},
   "source": [
    "E anche dove finire (escluso):"
   ]
  },
  {
   "cell_type": "code",
   "execution_count": 91,
   "metadata": {},
   "outputs": [
    {
     "data": {
      "text/plain": [
       "-1"
      ]
     },
     "execution_count": 91,
     "metadata": {},
     "output_type": "execute_result"
    }
   ],
   "source": [
    "#0123456789012345\n",
    "'bingo bongo bong'.find('g',4, 9)"
   ]
  },
  {
   "cell_type": "markdown",
   "metadata": {},
   "source": [
    "### Metodo rfind\n",
    "\n",
    "Come il [metodo find](#Metodo-find), ma la ricerca inizia dalla destra."
   ]
  },
  {
   "cell_type": "markdown",
   "metadata": {},
   "source": [
    "### Non abusare find"
   ]
  },
  {
   "cell_type": "markdown",
   "metadata": {},
   "source": [
    "<div class=\"alert alert-warning\">\n",
    "    \n",
    "**ATTENZIONE**: `find` **viene spesso usato in modo errato / inefficiente**\n",
    "\n",
    "Chiediti sempre:\n",
    "    \n",
    "1. la stringa su cui operare potrebbe contenere duplicati? Ricordati che solo il _primo_ verrà trovato!\n",
    "2. la stringa potrebbe _non_ contenere la sottostringa cercata? Ricordati di gestire anche questo caso!\n",
    "3. `find` compie una ricerca in tutta la stringa, che può essere inefficiente: è proprio necessaria, o sappiamo già l'intervallo in cui cercare? \n",
    "4. se vogliamo sapere se un `carattere` è in una posizione nota a priori (es `3`), `find` non ci serve, basta scrivere `stringa[3] == carattere`. Usando `find` potrebbe trovare caratteri duplicati che stanno _prima_ o _dopo_ di quello che vogliamo verificare!\n",
    "</div>"
   ]
  },
  {
   "cell_type": "markdown",
   "metadata": {},
   "source": [
    "### Esercizio - Il porto di Monkey Island \n",
    "\n",
    "L'isola di Monkey Island ha un porto che dispone di 4 moli a cui attraccano le navi provenienti da tutto l'arcipelago. Il punto di attracco non è mai preciso, e possono esserci degli spazi arbitrari con i bordi dei moli. Vi possono anche essere navi dal nome duplicato. \n",
    "\n",
    "1) Supponiamo che ad ogni molo può contenere una sola nave, e vogliamo scrivere del codice che mostri `True` se la `\"The Jolly Rasta\"` è attraccata al molo `2` oppure `False` altrimenti.\n",
    "\n",
    "Guarda i porti seguenti, e per ciascun cerca di indovinare se le righe di codice seguenti produrranno risultati corretti oppure no. Prova poi a scrivere del codice da te che non abbia i problemi che riscontrerai.\n",
    "\n",
    "* **NON** istruzioni `if`,  cicli nè comprehension\n",
    "* **NON** usare liste (quindi niente split)"
   ]
  },
  {
   "cell_type": "raw",
   "id": "79ea9fdd",
   "metadata": {
    "format": "text/html"
   },
   "source": [
    "<a  class=\"jupman-sol jupman-sol-toggler\" \n",
    " onclick=\"jupman.toggleSolution(this);\" \n",
    " data-jupman-show=\"Mostra soluzione\" data-jupman-hide=\"Nascondi\">Mostra soluzione</a><div class=\"jupman-sol jupman-sol-code\" style=\"display:none\">  "
   ]
  },
  {
   "cell_type": "code",
   "execution_count": 92,
   "metadata": {},
   "outputs": [
    {
     "name": "stdout",
     "output_type": "stream",
     "text": [
      "La Jolly Rasta è attraccata al molo 2 ?\n",
      "\n",
      "The Mad Monkey      |  The Jolly Rasta   |  The Sea Cucumber  |LeChuck's Ghost Ship|\n",
      "\n",
      "                     in: True\n",
      "\n",
      "          find su tutto: True\n",
      "\n",
      "  find dal secondo molo: True\n",
      "\n",
      "              Soluzione: True\n"
     ]
    }
   ],
   "source": [
    "\n",
    "larghezza = 21  # larghezza di un molo,  INCLUSO il `|` di destra\n",
    "molo = 2\n",
    "\n",
    "\n",
    "# moli     :  1                    2                    3                    4\n",
    "porto =      \"The Mad Monkey      |  The Jolly Rasta   |  The Sea Cucumber  |LeChuck's Ghost Ship|\"\n",
    "#porto =     \"  The Mad Monkey    |                    | The Sea Cucumber   |LeChuck's Ghost Ship|\"\n",
    "#porto =     \"    The Mad Monkey  |The Jolly Rasta     |   The Sea Cucumber |                    |\"\n",
    "#porto =     \"The Jolly Rasta     |                    |    The Sea Cucumber|LeChuck's Ghost Ship|\"\n",
    "#porto =     \"                    | The Mad Monkey     |   The Jolly Rasta  |LeChuck's Ghost Ship|\"\n",
    "#porto =     \"    The Jolly Rasta |                    | The Jolly Rasta    |   The Jolly Rasta  |\"\n",
    "\n",
    "print('La Jolly Rasta è attraccata al molo', molo, '?')\n",
    "print()\n",
    "print(porto)\n",
    "\n",
    "print()\n",
    "print('                     in:', 'The Jolly Rasta' in porto)\n",
    "\n",
    "print()\n",
    "print('          find su tutto:', porto.find('The Jolly Rasta') != -1)\n",
    "\n",
    "print()\n",
    "print('  find dal secondo molo:', porto.find('The Jolly Rasta', larghezza*(molo-1)) != -1)\n",
    "\n",
    "# scrivi qui\n",
    "print()\n",
    "sub = porto[larghezza*(molo-1):larghezza*molo-1]\n",
    "print('              Soluzione:', sub.find('The Jolly Rasta') != -1)"
   ]
  },
  {
   "cell_type": "raw",
   "id": "99b9b5ea",
   "metadata": {
    "format": "text/html"
   },
   "source": [
    "</div>"
   ]
  },
  {
   "cell_type": "code",
   "execution_count": 92,
   "metadata": {},
   "outputs": [],
   "source": [
    "\n",
    "larghezza = 21  # larghezza di un molo,  INCLUSO il `|` di destra\n",
    "molo = 2\n",
    "\n",
    "\n",
    "# moli     :  1                    2                    3                    4\n",
    "porto =      \"The Mad Monkey      |  The Jolly Rasta   |  The Sea Cucumber  |LeChuck's Ghost Ship|\"\n",
    "#porto =     \"  The Mad Monkey    |                    | The Sea Cucumber   |LeChuck's Ghost Ship|\"\n",
    "#porto =     \"    The Mad Monkey  |The Jolly Rasta     |   The Sea Cucumber |                    |\"\n",
    "#porto =     \"The Jolly Rasta     |                    |    The Sea Cucumber|LeChuck's Ghost Ship|\"\n",
    "#porto =     \"                    | The Mad Monkey     |   The Jolly Rasta  |LeChuck's Ghost Ship|\"\n",
    "#porto =     \"    The Jolly Rasta |                    | The Jolly Rasta    |   The Jolly Rasta  |\"\n",
    "\n",
    "print('La Jolly Rasta è attraccata al molo', molo, '?')\n",
    "print()\n",
    "print(porto)\n",
    "\n",
    "print()\n",
    "print('                     in:', 'The Jolly Rasta' in porto)\n",
    "\n",
    "print()\n",
    "print('          find su tutto:', porto.find('The Jolly Rasta') != -1)\n",
    "\n",
    "print()\n",
    "print('  find dal secondo molo:', porto.find('The Jolly Rasta', larghezza*(molo-1)) != -1)\n",
    "\n",
    "# scrivi qui\n",
    "\n"
   ]
  },
  {
   "cell_type": "markdown",
   "metadata": {},
   "source": [
    "2) Supponiamo ora che ogni molo possa accogliere più di una nave, anche con lo stesso nome. Scrivi del codice che mostri `True` se **una sola** Grog Ship è attraccata al secondo molo, `False` altrimenti."
   ]
  },
  {
   "cell_type": "raw",
   "id": "ef82cddb",
   "metadata": {
    "format": "text/html"
   },
   "source": [
    "<a  class=\"jupman-sol jupman-sol-toggler\" \n",
    " onclick=\"jupman.toggleSolution(this);\" \n",
    " data-jupman-show=\"Mostra soluzione\" data-jupman-hide=\"Nascondi\">Mostra soluzione</a><div class=\"jupman-sol jupman-sol-code\" style=\"display:none\">  "
   ]
  },
  {
   "cell_type": "code",
   "execution_count": 93,
   "metadata": {},
   "outputs": [
    {
     "name": "stdout",
     "output_type": "stream",
     "text": [
      "\n",
      "Una sola Grog Ship è attraccata al molo 2 ?\n",
      "\n",
      "Soluzione Grog Ship: False\n"
     ]
    }
   ],
   "source": [
    "# moli     :  1                    2                    3                    4\n",
    "porto =      \"The Mad Monkey      |The Jolly Rasta     |  The Sea Cucumber  |LeChuck's Ghost Ship|\"\n",
    "#porto =     \"The Mad Monkey      | Grog Ship Grog Ship| The Jolly Rasta    |   The Sea Cucumber \"\n",
    "#porto =     \"   The Jolly Rasta  |   Grog Ship        | The Jolly Rasta    |   The Jolly Rasta  \"\n",
    "#porto =     \"   Grog Ship        |   Grog Ship        |LeChuck's Ghost Ship|    Grog Ship       \"\n",
    "#porto =     \"LeChuck's Ghost Ship|                    |   Grog Ship        |   The Jolly Rasta  \"\n",
    "#porto =     \"The Jolly Rasta     | Grog Ship Grog Ship|       Grog Ship    |   The Jolly Rasta  \"\n",
    "\n",
    "print()\n",
    "print('Una sola Grog Ship è attraccata al molo', molo, '?')\n",
    "print()\n",
    "\n",
    "# scrivi qui\n",
    "\n",
    "sub = porto[larghezza*(molo-1):larghezza*molo-1]\n",
    "print('Soluzione Grog Ship:', sub.count('Grog Ship') == 1)"
   ]
  },
  {
   "cell_type": "raw",
   "id": "24bad9e8",
   "metadata": {
    "format": "text/html"
   },
   "source": [
    "</div>"
   ]
  },
  {
   "cell_type": "code",
   "execution_count": 93,
   "metadata": {},
   "outputs": [
    {
     "name": "stdout",
     "output_type": "stream",
     "text": [
      "\n",
      "Una sola Grog Ship è attraccata al molo 2 ?\n",
      "\n",
      "Soluzione Grog Ship: False\n"
     ]
    }
   ],
   "source": [
    "# moli     :  1                    2                    3                    4\n",
    "porto =      \"The Mad Monkey      |The Jolly Rasta     |  The Sea Cucumber  |LeChuck's Ghost Ship|\"\n",
    "#porto =     \"The Mad Monkey      | Grog Ship Grog Ship| The Jolly Rasta    |   The Sea Cucumber \"\n",
    "#porto =     \"   The Jolly Rasta  |   Grog Ship        | The Jolly Rasta    |   The Jolly Rasta  \"\n",
    "#porto =     \"   Grog Ship        |   Grog Ship        |LeChuck's Ghost Ship|    Grog Ship       \"\n",
    "#porto =     \"LeChuck's Ghost Ship|                    |   Grog Ship        |   The Jolly Rasta  \"\n",
    "#porto =     \"The Jolly Rasta     | Grog Ship Grog Ship|       Grog Ship    |   The Jolly Rasta  \"\n",
    "\n",
    "print()\n",
    "print('Una sola Grog Ship è attraccata al molo', molo, '?')\n",
    "print()\n",
    "\n",
    "# scrivi qui\n",
    "\n"
   ]
  },
  {
   "cell_type": "markdown",
   "metadata": {},
   "source": [
    "### Esercizio - banane\n",
    "\n",
    "Durante l'esplorazione di una regione tropicale remota, un etologo scopre una popolazione di scimmie che sembra abbiano qualche concetto dei numeri. Collezionano centinaia di banane che sono poi scambiate con noci di cocco collezionate da un'altro gruppo. Per comunicare quantità fino a 999 banane, usano una serie di esattamente tre suoni gutturali. L'etologo scrive le sequenze e formula la teoria seguente: ogni suono è rappresentato da una sequenza dello stesso carattere, ripetuto un certo numero di volte. Il numero di caratteri nella prima sequenza è la prima cifra (le centinaia), il numero di caratteri nella seconda sequenza è la seconda cifra (le decine), mentre l'ultima sequenza rappresenta le unità.\n",
    "\n",
    "Scrivi del codice che mette nella variabile `banane` **un intero** che rappresenti il numero.\n",
    "\n",
    "Per esempio - dati:\n",
    "\n",
    "```python\n",
    "s = 'bb bbbbb aaaa'\n",
    "```\n",
    "\n",
    "il tuo codice dovrebbe stampare:\n",
    "\n",
    "```\n",
    ">>> banane\n",
    "254\n",
    ">>> type(banane)\n",
    "int\n",
    "```\n",
    "\n",
    "* **IMPORTANTE 1: sequenze differenti possono usare lo** ***stesso*** **carattere!**\n",
    "* **IMPORTANTE 2: non puoi assumere quali caratteri le scimmie useranno**: conosci solo che ogni cifra è rappresentata da una ripetizione dello stesso carattere\n",
    "* **NON** usare cicli nè comprehensions\n",
    "* le scimmie non hanno cognizione dello zero"
   ]
  },
  {
   "cell_type": "raw",
   "id": "bb936e2f",
   "metadata": {
    "format": "text/html"
   },
   "source": [
    "<a  class=\"jupman-sol jupman-sol-toggler\" \n",
    " onclick=\"jupman.toggleSolution(this);\" \n",
    " data-jupman-show=\"Mostra soluzione\" data-jupman-hide=\"Nascondi\">Mostra soluzione</a><div class=\"jupman-sol jupman-sol-code\" style=\"display:none\">  "
   ]
  },
  {
   "cell_type": "code",
   "execution_count": 94,
   "metadata": {},
   "outputs": [
    {
     "name": "stdout",
     "output_type": "stream",
     "text": [
      "Le banane sono 254\n"
     ]
    },
    {
     "data": {
      "text/plain": [
       "int"
      ]
     },
     "execution_count": 94,
     "metadata": {},
     "output_type": "execute_result"
    }
   ],
   "source": [
    "\n",
    "    #0123456789012\n",
    "s = 'bb bbbbb aaaa'     # 254\n",
    "#s = 'ccc cc ccc'       # 323    \n",
    "#s = 'vvv rrrr ww'      # 342\n",
    "#s = 'cccc h jjj'       # 413\n",
    "#s = '🌳🌳🌳 🍌🍌🍌🍌🍌🍌 🐵🐵🐵🐵'  # 364   (potresti ottenere *qualunque* strano carattere, anche unicode ...)\n",
    "\n",
    "# scrivi qui\n",
    "p1 = s.find(' ')\n",
    "banane = len(s[:p1])*100\n",
    "p2 = s.find(' ',p1+1)\n",
    "banane += len(s[p1+1:p2])*10\n",
    "banane += len(s[p2+1:])*1\n",
    "\n",
    "print('Le banane sono',banane)\n",
    "type(banane)"
   ]
  },
  {
   "cell_type": "raw",
   "id": "2fc214f5",
   "metadata": {
    "format": "text/html"
   },
   "source": [
    "</div>"
   ]
  },
  {
   "cell_type": "code",
   "execution_count": 94,
   "metadata": {},
   "outputs": [],
   "source": [
    "\n",
    "    #0123456789012\n",
    "s = 'bb bbbbb aaaa'     # 254\n",
    "#s = 'ccc cc ccc'       # 323    \n",
    "#s = 'vvv rrrr ww'      # 342\n",
    "#s = 'cccc h jjj'       # 413\n",
    "#s = '🌳🌳🌳 🍌🍌🍌🍌🍌🍌 🐵🐵🐵🐵'  # 364   (potresti ottenere *qualunque* strano carattere, anche unicode ...)\n",
    "\n",
    "# scrivi qui\n",
    "\n"
   ]
  },
  {
   "cell_type": "markdown",
   "metadata": {},
   "source": [
    "## Metodo replace\n",
    "\n",
    "`str.replace` prende due stringhe, e restituisce una NUOVA stringa ricavata sostituendo nella stringa su cui è chiamata _tutte_ le occorrenze del primo parametero stringa con il secondo.\n",
    "\n",
    "\n",
    "Esempio:"
   ]
  },
  {
   "cell_type": "code",
   "execution_count": 95,
   "metadata": {},
   "outputs": [
    {
     "data": {
      "text/plain": [
       "'il tROno percorRO'"
      ]
     },
     "execution_count": 95,
     "metadata": {},
     "output_type": "execute_result"
    }
   ],
   "source": [
    "\"il treno percorre\".replace('re', 'RO')"
   ]
  },
  {
   "cell_type": "code",
   "execution_count": 96,
   "metadata": {},
   "outputs": [
    {
     "data": {
      "text/plain": [
       "'alberellini bellini'"
      ]
     },
     "execution_count": 96,
     "metadata": {},
     "output_type": "execute_result"
    }
   ],
   "source": [
    "\"alberello bello\".replace('llo', 'llini')"
   ]
  },
  {
   "cell_type": "code",
   "execution_count": 97,
   "metadata": {},
   "outputs": [
    {
     "data": {
      "text/plain": [
       "'parlare e brindare'"
      ]
     },
     "execution_count": 97,
     "metadata": {},
     "output_type": "execute_result"
    }
   ],
   "source": [
    "\"parlare e brindare\".replace('ARE', 'iamo')  # se cerchiamo maiuscole qua non le troveremo"
   ]
  },
  {
   "cell_type": "code",
   "execution_count": 98,
   "metadata": {},
   "outputs": [
    {
     "data": {
      "text/plain": [
       "'PARLIAMO E BRINDIAMO'"
      ]
     },
     "execution_count": 98,
     "metadata": {},
     "output_type": "execute_result"
    }
   ],
   "source": [
    "\"PARLARE E BRINDARE\".replace('ARE', 'IAMO')  # ma qua sì"
   ]
  },
  {
   "cell_type": "markdown",
   "metadata": {},
   "source": [
    "Come sempre per le stringhe, `replace` NON modifica la stringa su cui è chiamato:"
   ]
  },
  {
   "cell_type": "code",
   "execution_count": 99,
   "metadata": {},
   "outputs": [],
   "source": [
    "x = \"sulla panca\""
   ]
  },
  {
   "cell_type": "code",
   "execution_count": 100,
   "metadata": {},
   "outputs": [],
   "source": [
    "y = x.replace('panca', 'panca la capra campa')"
   ]
  },
  {
   "cell_type": "code",
   "execution_count": 101,
   "metadata": {},
   "outputs": [
    {
     "data": {
      "text/plain": [
       "'sulla panca la capra campa'"
      ]
     },
     "execution_count": 101,
     "metadata": {},
     "output_type": "execute_result"
    }
   ],
   "source": [
    "y"
   ]
  },
  {
   "cell_type": "code",
   "execution_count": 102,
   "metadata": {},
   "outputs": [
    {
     "data": {
      "text/plain": [
       "'sulla panca'"
      ]
     },
     "execution_count": 102,
     "metadata": {},
     "output_type": "execute_result"
    }
   ],
   "source": [
    "x  # IMPORTANTE: x è ancora associato alla vecchia stringa !"
   ]
  },
  {
   "cell_type": "markdown",
   "metadata": {},
   "source": [
    "E' possile specificare fino a quante occorrenze verranno sostituite:"
   ]
  },
  {
   "cell_type": "code",
   "execution_count": 103,
   "metadata": {},
   "outputs": [
    {
     "data": {
      "text/plain": [
       "'apoZzo fece una paZza di peZze di pollo'"
      ]
     },
     "execution_count": 103,
     "metadata": {},
     "output_type": "execute_result"
    }
   ],
   "source": [
    "'apollo fece una palla di pelle di pollo'.replace('ll', 'Zz', 3)"
   ]
  },
  {
   "cell_type": "markdown",
   "metadata": {},
   "source": [
    "### Non abusare replace"
   ]
  },
  {
   "cell_type": "markdown",
   "metadata": {},
   "source": [
    "<div class=\"alert alert-warning\">\n",
    "    \n",
    "**ATTENZIONE**: `replace` **viene spesso usato in modo errato / inefficiente**\n",
    "\n",
    "Chiediti sempre:\n",
    "    \n",
    "1. la stringa su cui operare potrebbe contenere duplicati? Ricordati che verranno _tutti_ sostituiti!\n",
    "2. `replace` compie una ricerca in tutta la stringa, che può essere inefficiente: è proprio necessaria, o sappiamo già la posizione dove è presente il testo da sostituire?\n",
    "</div>\n"
   ]
  },
  {
   "cell_type": "markdown",
   "metadata": {},
   "source": [
    "### Esercizio - Non aprite quella porta\n",
    "\n",
    "**DOMANDA** Hai una biblioteca di libri, con etichette come `G-Il padrino`, `R-I promessi sposi` o `'H-Non aprite quella porta'` composte da una un carattere che identifica il tipo (`G` giallo, `R` romanzo, `H` horror) seguito da `-` e dal titolo. Dato un `libro`, vuoi stampare l'etichetta completa, due punti e poi il titolo, come `'Giallo: Il padrino'`. Guarda i seguenti frammenti di codice, e per ciascuno prova a scrivere delle etichette tra quelle proposte **o creane altre** che darebbero risultati errati (se esistono)\n",
    "\n",
    "```python\n",
    "libro = 'G-Il padrino'\n",
    "libro = 'R-I promessi sposi'\n",
    "libro = 'H-Non aprite quella porta'\n",
    "```\n",
    "\n",
    "1.  ```python\n",
    "    libro.replace('G', 'Giallo: ').replace('R', 'Romanzo: ')\n",
    "    ```\n",
    "1.  ```python\n",
    "    libro[0].replace('G', 'Giallo: ')  \\\n",
    "            .replace('H', 'HORROR: ')  \\\n",
    "            .replace('R', 'Romanzo: ') + libro[2:]\n",
    "    ```\n",
    "1.  ```python\n",
    "    libro.replace('G-', 'Giallo: ').replace('R-', 'Romanzo: ')\n",
    "    ```\n",
    "1.  ```python\n",
    "    libro.replace('G-', 'Giallo: ',1).replace('R-', 'Romanzo: ',1)\n",
    "    ```\n",
    "1.  ```python\n",
    "    libro[0:2].replace('G-', 'Giallo: ').replace('R-', 'Romanzo: ') + libro[2:]\n",
    "    ```"
   ]
  },
  {
   "cell_type": "raw",
   "id": "2bd6b0e6",
   "metadata": {
    "format": "text/html"
   },
   "source": [
    "<a  class=\"jupman-sol jupman-sol-toggler\" \n",
    " onclick=\"jupman.toggleSolution(this);\" \n",
    " data-jupman-show=\"Mostra soluzione\" data-jupman-hide=\"Nascondi\">Mostra soluzione</a><div class=\"jupman-sol jupman-sol-code\" style=\"display:none\">  "
   ]
  },
  {
   "cell_type": "code",
   "execution_count": 104,
   "metadata": {},
   "outputs": [
    {
     "name": "stdout",
     "output_type": "stream",
     "text": [
      "Romanzo: -Giallo: uerra e Pace\n",
      "HORomanzo: Romanzo: ORomanzo: : Non aprite quella porta\n",
      "Romanzo: Giallo: Force\n",
      "Giallo: L-A-Romanzo: A-P-I-N-A\n"
     ]
    }
   ],
   "source": [
    "# SOLUZIONE\n",
    "\n",
    "\n",
    "\n",
    "#1\n",
    "libro = 'R-Guerra e Pace'\n",
    "print(libro.replace('G', 'Giallo: ').replace('R', 'Romanzo: '))\n",
    "\n",
    "#2\n",
    "libro = 'H-Non aprite quella porta'\n",
    "print(libro[0].replace('G', 'Giallo: ').replace('H', 'HORROR: ').replace('R', 'Romanzo: ') + libro[2:])\n",
    "\n",
    "#3\n",
    "libro = 'R-G-Force'\n",
    "print(libro.replace('G-', 'Giallo: ').replace('R-', 'Romanzo: '))\n",
    "\n",
    "#4 \n",
    "libro = 'G-L-A-R-A-P-I-N-A'\n",
    "print(libro.replace('G-', 'Giallo: ',1).replace('R-', 'Romanzo: ',1))\n",
    "\n",
    "#5 questo è abbastanza blindato, SE assumiamo che le categorie siano fisse e NON contengano trattini\n",
    "# per es una categoria malefica potrebbe essere C- espanso a C-R-O-S-T-A-C-E-I  (che conterrebbe R-)\n",
    "#print(libro[0:2].replace('G-', 'Giallo: ').replace('R-', 'Romanzo: ').replace('H-', 'Horror: ') + libro[2:])"
   ]
  },
  {
   "cell_type": "raw",
   "id": "d2faca2c",
   "metadata": {
    "format": "text/html"
   },
   "source": [
    "</div>"
   ]
  },
  {
   "cell_type": "code",
   "execution_count": 104,
   "metadata": {},
   "outputs": [],
   "source": []
  },
  {
   "cell_type": "markdown",
   "metadata": {},
   "source": [
    "### Esercizio - Il Regno degli Stringardi\n",
    "\n",
    "\n",
    "La landa dei Caratterinzi è dominata col pugno di ferro dal Ducato degli Stringardi. I borghi comandati degli Stringardi si distinguono per essere monodimensionali e possono essere rappresentati come una stringa: offrono ospitalità ai duchi `'d'`, ai  signori `'s'`, ai vassalli `'v'`, e alla plebe `'p'`. Al fine di separare le varie cerchie sociali da disdicevoli commistioni sono state erette delle mura `|mm|`. Purtroppo, il Ducato è sotto attacco dalla tribù dei beceri Replaceri, che con loro tecniche barbare e poco avvedute rischiano di radere al suolo la città. Per difendersi, gli Stringardi decidono di innalzare le mura, trasformandole da `|mm|` a `|MM|`. \n",
    "\n",
    "* **NON** usare cicli nè list comprehension\n",
    "* **NON** usare liste (quindi niente split)"
   ]
  },
  {
   "cell_type": "markdown",
   "metadata": {},
   "source": [
    "#### Stringardi I: Innalza tutte le mura\n",
    "\n",
    "Esempio - dati:\n",
    "\n",
    "```python\n",
    "borgo = 'ppp|mm|vvvvvv|mm|sss|mm|dd|mm|sssss|mm|vvvvvv|mm|pppppp'\n",
    "```\n",
    "\n",
    "dopo il tuo codice, deve risultare:\n",
    "\n",
    "```python\n",
    ">>> borgo\n",
    "'ppp|MM|vvvvvv|MM|sss|MM|dd|MM|sssss|MM|vvvvvv|MM|pppppp'\n",
    "```\n"
   ]
  },
  {
   "cell_type": "raw",
   "id": "f3823189",
   "metadata": {
    "format": "text/html"
   },
   "source": [
    "<a  class=\"jupman-sol jupman-sol-toggler\" \n",
    " onclick=\"jupman.toggleSolution(this);\" \n",
    " data-jupman-show=\"Mostra soluzione\" data-jupman-hide=\"Nascondi\">Mostra soluzione</a><div class=\"jupman-sol jupman-sol-code\" style=\"display:none\">  "
   ]
  },
  {
   "cell_type": "code",
   "execution_count": 105,
   "metadata": {},
   "outputs": [
    {
     "name": "stdout",
     "output_type": "stream",
     "text": [
      "ppp|MM|vvvvvv|MM|sss|MM|dd|MM|sssss|MM|vvvvvv|MM|pppppp\n"
     ]
    }
   ],
   "source": [
    "\n",
    "borgo =      'ppp|mm|vvvvvv|mm|sss|mm|dd|mm|sssss|mm|vvvvvv|mm|pppppp'\n",
    "# risultato: 'ppp|MM|vvvvvv|MM|sss|MM|dd|MM|sssss|MM|vvvvvv|MM|pppppp'\n",
    "\n",
    "# scrivi qui\n",
    "\n",
    "borgo = borgo.replace('|mm|','|MM|')\n",
    "print(borgo)"
   ]
  },
  {
   "cell_type": "raw",
   "id": "21bebf44",
   "metadata": {
    "format": "text/html"
   },
   "source": [
    "</div>"
   ]
  },
  {
   "cell_type": "code",
   "execution_count": 105,
   "metadata": {},
   "outputs": [],
   "source": [
    "\n",
    "borgo =      'ppp|mm|vvvvvv|mm|sss|mm|dd|mm|sssss|mm|vvvvvv|mm|pppppp'\n",
    "# risultato: 'ppp|MM|vvvvvv|MM|sss|MM|dd|MM|sssss|MM|vvvvvv|MM|pppppp'\n",
    "\n",
    "# scrivi qui\n",
    "\n"
   ]
  },
  {
   "cell_type": "markdown",
   "metadata": {},
   "source": [
    "#### Stringardi II: Mura esterne\n",
    "\n",
    "Purtroppo la plebaglia non lavora abbastanza e non vi sono fondi per innalzare tutte le mura: innalza **solo le mura all'esterno**\n",
    "\n",
    "\n",
    "* **NON** usare `if`, cicli nè list comprehension\n",
    "* **NON** usare liste (quindi niente split)\n",
    "\n",
    "Esempio - dati:\n",
    "\n",
    "```python\n",
    "borgo = 'ppp|mm|vvvvvv|mm|sss|mm|dd|mm|sssss|mm|vvvvvv|mm|pppppp'\n",
    "```\n",
    "\n",
    "dopo il tuo codice, deve risultare:\n",
    "\n",
    "```python\n",
    ">>> borgo\n",
    "'ppp|MM|vvvvvv|mm|sss|mm|dd|mm|sssss|mm|vvvvvv|MM|pppppp'\n",
    "```"
   ]
  },
  {
   "cell_type": "raw",
   "id": "31fbbae1",
   "metadata": {
    "format": "text/html"
   },
   "source": [
    "<a  class=\"jupman-sol jupman-sol-toggler\" \n",
    " onclick=\"jupman.toggleSolution(this);\" \n",
    " data-jupman-show=\"Mostra soluzione\" data-jupman-hide=\"Nascondi\">Mostra soluzione</a><div class=\"jupman-sol jupman-sol-code\" style=\"display:none\">  "
   ]
  },
  {
   "cell_type": "code",
   "execution_count": 106,
   "metadata": {},
   "outputs": [
    {
     "name": "stdout",
     "output_type": "stream",
     "text": [
      "ppp|MM|vvvvvv|mm|sss|mm|dd|mm|sssss|mm|vvvvvv|MM|pppppp\n"
     ]
    }
   ],
   "source": [
    "\n",
    "borgo =      'ppp|mm|vvvvvv|mm|sss|mm|dd|mm|sssss|mm|vvvvvv|mm|pppppp'\n",
    "#risultato:  'ppp|MM|vvvvvv|mm|sss|mm|dd|mm|sssss|mm|vvvvvv|MM|pppppp'\n",
    "#borgo =     '|mm|vvvvvv|mm||mm|ddddd|mm|ssvvv|mm|pp'\n",
    "#risultato:  '|MM|vvvvvv|mm||mm|ddddd|mm|ssvvv|MM|pp'\n",
    "\n",
    "\n",
    "# scrivi qui\n",
    "\n",
    "i = borgo.find('|mm|')\n",
    "borgo = borgo[:i] + '|MM|' + borgo[i+4:]\n",
    "i = borgo.rfind('|mm|')\n",
    "borgo = borgo[:i] + '|MM|' + borgo[i+4:]\n",
    "        \n",
    "print(borgo)"
   ]
  },
  {
   "cell_type": "raw",
   "id": "0717b696",
   "metadata": {
    "format": "text/html"
   },
   "source": [
    "</div>"
   ]
  },
  {
   "cell_type": "code",
   "execution_count": 106,
   "metadata": {},
   "outputs": [],
   "source": [
    "\n",
    "borgo =      'ppp|mm|vvvvvv|mm|sss|mm|dd|mm|sssss|mm|vvvvvv|mm|pppppp'\n",
    "#risultato:  'ppp|MM|vvvvvv|mm|sss|mm|dd|mm|sssss|mm|vvvvvv|MM|pppppp'\n",
    "#borgo =     '|mm|vvvvvv|mm||mm|ddddd|mm|ssvvv|mm|pp'\n",
    "#risultato:  '|MM|vvvvvv|mm||mm|ddddd|mm|ssvvv|MM|pp'\n",
    "\n",
    "\n",
    "# scrivi qui\n",
    "\n"
   ]
  },
  {
   "cell_type": "markdown",
   "metadata": {},
   "source": [
    "#### Stringardi III: Potere al popolo\n",
    "\n",
    "Una minaccia ancora più grande affligge gli Stringardi: _la democrazia_. A seguito del dilagare di questo male oscuro, in alcune città si sono sviluppate fazioni di destra e sinistra, che tendono a privilegiare solo alcune parti della città. Se il sentimento dominante di una città è di sinistra, tutte le abitazioni a sinistra del duca sono privilegiate a suon di dobloni, altrimenti se di destra sono privilegiate quelle a destra del duca. Quando una casa è privilegiata la lettera corrispondente viene resa in maiuscolo. \n",
    "\n",
    "* assumi che almeno un blocco con `d` sia sempre presente, e che sia unico\n",
    "* **NON** usare `if`, cicli nè list comprehension\n",
    "* **NON** usare liste (quindi niente split)\n",
    "\n",
    "\n",
    "**3.1) privilegia solo le case di sinistra**\n",
    "\n",
    "```python\n",
    "borgo = 'ppp|mm|vvvvvv|mm|sss|mm|dd|mm|sssss|mm|vvvvvv|mm|pppppp'\n",
    "```\n",
    "\n",
    "dopo il tuo codice, deve risultare:\n",
    "\n",
    "```python\n",
    ">>> borgo\n",
    "'PPP|mm|VVVVVV|mm|SSS|mm|dd|mm|sssss|mm|vvvvvv|mm|pppppp'\n",
    "```"
   ]
  },
  {
   "cell_type": "raw",
   "id": "d9f2dce9",
   "metadata": {
    "format": "text/html"
   },
   "source": [
    "<a  class=\"jupman-sol jupman-sol-toggler\" \n",
    " onclick=\"jupman.toggleSolution(this);\" \n",
    " data-jupman-show=\"Mostra soluzione\" data-jupman-hide=\"Nascondi\">Mostra soluzione</a><div class=\"jupman-sol jupman-sol-code\" style=\"display:none\">  "
   ]
  },
  {
   "cell_type": "code",
   "execution_count": 107,
   "metadata": {},
   "outputs": [
    {
     "data": {
      "text/plain": [
       "'PPP|mm|VVVVVV|mm|SSS|mm|dd|mm|sssss|mm|vvvvvv|mm|pppppp'"
      ]
     },
     "execution_count": 107,
     "metadata": {},
     "output_type": "execute_result"
    }
   ],
   "source": [
    "\n",
    "borgo =      'ppp|mm|vvvvvv|mm|sss|mm|dd|mm|sssss|mm|vvvvvv|mm|pppppp'\n",
    "# risultato: 'PPP|mm|VVVVVV|mm|SSS|mm|dd|mm|sssss|mm|vvvvvv|mm|pppppp'\n",
    "#borgo =     '|p|ppp||p|pp|mm|vvv|vvvv|mm|sssss|mm|ddd|mm|ssss|ss|mm|vvvvvv|mm|'\n",
    "# risultato: '|P|PPP||P|PP|mm|VVV|VVVV|mm|SSSSS|mm|ddd|mm|ssss|ss|mm|vvvvvv|mm|'\n",
    "\n",
    "# scrivi qui\n",
    "\n",
    "dpos = borgo.find('d')\n",
    "borgo = borgo[:dpos].replace('p','P').replace('v','V').replace('s','S') + borgo[dpos:]\n",
    "\n",
    "borgo        "
   ]
  },
  {
   "cell_type": "raw",
   "id": "b9b4daf7",
   "metadata": {
    "format": "text/html"
   },
   "source": [
    "</div>"
   ]
  },
  {
   "cell_type": "code",
   "execution_count": 107,
   "metadata": {},
   "outputs": [],
   "source": [
    "\n",
    "borgo =      'ppp|mm|vvvvvv|mm|sss|mm|dd|mm|sssss|mm|vvvvvv|mm|pppppp'\n",
    "# risultato: 'PPP|mm|VVVVVV|mm|SSS|mm|dd|mm|sssss|mm|vvvvvv|mm|pppppp'\n",
    "#borgo =     '|p|ppp||p|pp|mm|vvv|vvvv|mm|sssss|mm|ddd|mm|ssss|ss|mm|vvvvvv|mm|'\n",
    "# risultato: '|P|PPP||P|PP|mm|VVV|VVVV|mm|SSSSS|mm|ddd|mm|ssss|ss|mm|vvvvvv|mm|'\n",
    "\n",
    "# scrivi qui\n",
    "\n"
   ]
  },
  {
   "cell_type": "markdown",
   "metadata": {},
   "source": [
    "**3.2) privilegia solo le case di destra**\n",
    "\n",
    "Esempio - dati:\n",
    "\n",
    "```python\n",
    "borgo = 'ppp|mm|vvvvvv|mm|sss|mm|dd|mm|sssss|mm|vvvvvv|mm|pppppp'\n",
    "```\n",
    "\n",
    "dopo il tuo codice, deve risultare:\n",
    "\n",
    "```python\n",
    ">>> borgo\n",
    "'ppp|mm|vvvvvv|mm|sss|mm|dd|mm|SSSSS|mm|VVVVVV|mm|PPPPPP'\n",
    "```"
   ]
  },
  {
   "cell_type": "raw",
   "id": "8d0c4555",
   "metadata": {
    "format": "text/html"
   },
   "source": [
    "<a  class=\"jupman-sol jupman-sol-toggler\" \n",
    " onclick=\"jupman.toggleSolution(this);\" \n",
    " data-jupman-show=\"Mostra soluzione\" data-jupman-hide=\"Nascondi\">Mostra soluzione</a><div class=\"jupman-sol jupman-sol-code\" style=\"display:none\">  "
   ]
  },
  {
   "cell_type": "code",
   "execution_count": 108,
   "metadata": {},
   "outputs": [
    {
     "data": {
      "text/plain": [
       "'ppp|mm|vvvvvv|mm|sss|mm|dd|mm|SSSSS|mm|VVVVVV|mm|PPPPPP'"
      ]
     },
     "execution_count": 108,
     "metadata": {},
     "output_type": "execute_result"
    }
   ],
   "source": [
    "\n",
    "borgo =     'ppp|mm|vvvvvv|mm|sss|mm|dd|mm|sssss|mm|vvvvvv|mm|pppppp'\n",
    "#risultato: 'ppp|mm|vvvvvv|mm|sss|mm|dd|mm|SSSSS|mm|VVVVVV|mm|PPPPPP'\n",
    "#borgo =    '|p|ppp||p|pp|mm|vvv|vvvv|mm|sssss|mm|ddd|mm|ssss|ss|mm|vvvvvv|p|pp|mm|'\n",
    "#risultato: '|p|ppp||p|pp|mm|vvv|vvvv|mm|sssss|mm|ddd|mm|SSSS|SS|mm|VVVVVV|P|PP|mm|'\n",
    "\n",
    "# scrivi qui\n",
    "dpos = borgo.rfind('d')    \n",
    "borgo = borgo[:dpos] + borgo[dpos:].replace('p','P').replace('v','V').replace('s','S') \n",
    "\n",
    "borgo"
   ]
  },
  {
   "cell_type": "raw",
   "id": "4eb5bf61",
   "metadata": {
    "format": "text/html"
   },
   "source": [
    "</div>"
   ]
  },
  {
   "cell_type": "code",
   "execution_count": 108,
   "metadata": {},
   "outputs": [],
   "source": [
    "\n",
    "borgo =     'ppp|mm|vvvvvv|mm|sss|mm|dd|mm|sssss|mm|vvvvvv|mm|pppppp'\n",
    "#risultato: 'ppp|mm|vvvvvv|mm|sss|mm|dd|mm|SSSSS|mm|VVVVVV|mm|PPPPPP'\n",
    "#borgo =    '|p|ppp||p|pp|mm|vvv|vvvv|mm|sssss|mm|ddd|mm|ssss|ss|mm|vvvvvv|p|pp|mm|'\n",
    "#risultato: '|p|ppp||p|pp|mm|vvv|vvvv|mm|sssss|mm|ddd|mm|SSSS|SS|mm|VVVVVV|P|PP|mm|'\n",
    "\n",
    "# scrivi qui\n",
    "\n"
   ]
  },
  {
   "cell_type": "markdown",
   "metadata": {},
   "source": [
    "#### Stringardi IV: Lotte di potere\n",
    "\n",
    "Nel tempo la famiglia ducale si è espansa e purtroppo sono nate faide spietate. A seconda della popolosità del borgo di sinistra o destra, un corrispondonete numero dei membri della famiglia più a sinistra nel palazzo ducale o più a destra ricevono supporto per attuare i loro giochi di potere. Un membro del palazzo ducale che riceve supporto diventa in maiuscolo. Ogni lettera `'p'`, `'v'` o `'s'` contribuisce supporto (ma non i muri). I membri della famiglia ducale che non sono raggiunti da nessun supporto vengono trucidati dai parenti, e sostituiti con una [Latin Cross Unicode](https://www.compart.com/en/unicode/U+271D) ✝ \n",
    "\n",
    "* assumi che almeno un blocco con `d` sia sempre presente, e che sia unico\n",
    "* assumi che per ogni casa di sinistra/destra, vi sia _almeno un_ duca di sinistra/destra\n",
    "\n",
    "\n",
    "* **NON** usare `if`, cicli nè list comprehension\n",
    "* **NON** usare liste (quindi niente split)\n",
    "\n",
    "\n",
    "Esempio - dato:\n",
    "\n",
    "```python\n",
    "borgo = 'ppp|mm|vv|mm|v|s|mm|dddddddddddddddddddddddd|mm|ss|mm|vvvvv|mm|pppp'\n",
    "```\n",
    "\n",
    "Dopo il tuo codice, deve stampare:\n",
    "\n",
    "```\n",
    "Membri della famiglia reale: 24\n",
    "                di sinistra: 7\n",
    "                  di destra: 11\n",
    "\n",
    "Dopo la lotta fratricida, il nuovo borgo è:\n",
    "\n",
    "ppp|mm|vv|mm|v|s|mm|DDDDDDD✝✝✝✝✝✝DDDDDDDDDDD|mm|ss|mm|vvvvv|mm|pppp\n",
    "```"
   ]
  },
  {
   "cell_type": "raw",
   "id": "c3ced788",
   "metadata": {
    "format": "text/html"
   },
   "source": [
    "<a  class=\"jupman-sol jupman-sol-toggler\" \n",
    " onclick=\"jupman.toggleSolution(this);\" \n",
    " data-jupman-show=\"Mostra soluzione\" data-jupman-hide=\"Nascondi\">Mostra soluzione</a><div class=\"jupman-sol jupman-sol-code\" style=\"display:none\">  "
   ]
  },
  {
   "cell_type": "code",
   "execution_count": 109,
   "metadata": {
    "scrolled": true
   },
   "outputs": [
    {
     "name": "stdout",
     "output_type": "stream",
     "text": [
      "Membri della famiglia reale: 24\n",
      "                di sinistra: 7\n",
      "                  di destra: 11\n",
      "\n",
      "Dopo la lotta fratricida, il nuovo borgo è:\n",
      "\n",
      "ppp|mm|vv|mm|v|s|mm|DDDDDDD✝✝✝✝✝✝DDDDDDDDDDD|mm|ss|mm|vvvvv|mm|pppp\n"
     ]
    }
   ],
   "source": [
    "\n",
    "borgo =     'ppp|mm|vv|mm|v|s|mm|dddddddddddddddddddddddd|mm|ss|mm|vvvvv|mm|pppp'\n",
    "#risultato: 'ppp|mm|vv|mm|v|s|mm|DDDDDDD✝✝✝✝✝✝DDDDDDDDDDD|mm|ss|mm|vvvvv|mm|pppp'  tot:24 sx:7 dx:11\n",
    "#borgo =    'ppp|mm|ppp|mm|vv|mm|ss|mm|dddddddddddddddddddd|mm|ss|mm|mm|s|v|mm|p|p|'\n",
    "#risultato: 'ppp|mm|ppp|mm|vv|mm|ss|mm|DDDDDDDDDD✝✝✝✝DDDDDD|mm|ss|mm|mm|s|v|mm|p|p|' tot:20 sx:10 dx:6\n",
    "\n",
    "# scrivi qui\n",
    "\n",
    "d = borgo.count('d')\n",
    "\n",
    "print('Membri della famiglia reale:', d)\n",
    "\n",
    "dpos_sx = borgo.find('d')\n",
    "c_sx = borgo.count('p', 0, dpos_sx) + borgo.count('v', 0, dpos_sx) + borgo.count('s', 0, dpos_sx)\n",
    "print('                di sinistra:', c_sx)\n",
    "\n",
    "\n",
    "dpos_dx = borgo.rfind('d')\n",
    "c_dx = borgo.count('p', dpos_dx) + borgo.count('v', dpos_dx) + borgo.count('s', dpos_dx)\n",
    "print('                  di destra:', c_dx)\n",
    "\n",
    "borgo = borgo[:dpos_sx] + 'D'*c_sx + '✝'*(d-c_sx-c_dx) + 'D'*c_dx + borgo[dpos_dx+1:]\n",
    "\n",
    "print()\n",
    "print('Dopo la lotta fratricida, il nuovo borgo è:')\n",
    "print()\n",
    "print(borgo) "
   ]
  },
  {
   "cell_type": "raw",
   "id": "592960ac",
   "metadata": {
    "format": "text/html"
   },
   "source": [
    "</div>"
   ]
  },
  {
   "cell_type": "code",
   "execution_count": 109,
   "metadata": {
    "scrolled": true
   },
   "outputs": [],
   "source": [
    "\n",
    "borgo =     'ppp|mm|vv|mm|v|s|mm|dddddddddddddddddddddddd|mm|ss|mm|vvvvv|mm|pppp'\n",
    "#risultato: 'ppp|mm|vv|mm|v|s|mm|DDDDDDD✝✝✝✝✝✝DDDDDDDDDDD|mm|ss|mm|vvvvv|mm|pppp'  tot:24 sx:7 dx:11\n",
    "#borgo =    'ppp|mm|ppp|mm|vv|mm|ss|mm|dddddddddddddddddddd|mm|ss|mm|mm|s|v|mm|p|p|'\n",
    "#risultato: 'ppp|mm|ppp|mm|vv|mm|ss|mm|DDDDDDDDDD✝✝✝✝DDDDDD|mm|ss|mm|mm|s|v|mm|p|p|' tot:20 sx:10 dx:6\n",
    "\n",
    "# scrivi qui\n",
    "\n"
   ]
  },
  {
   "cell_type": "markdown",
   "metadata": {},
   "source": [
    "## Altri esercizi "
   ]
  },
  {
   "cell_type": "markdown",
   "metadata": {},
   "source": [
    "**DOMANDA**: Per ciascuna espressione di seguito, cerca di indovinare il risultato.\n",
    "\n",
    "    \n",
    "1.  ```python\n",
    "    'gUrP'.lower() == 'GuRp'.lower()\n",
    "    ```\n",
    "1.  ```python    \n",
    "    'NaNo'.lower() != 'nAnO'.upper()\n",
    "    ```\n",
    "1.  ```python    \n",
    "    'O' + 'ortaggio'.replace('o','\\t \\n     ').strip() + 'O'\n",
    "    ```\n",
    "1.  ```python    \n",
    "    'DaDo'.replace('D','b') in 'barbados'\n",
    "    ```    "
   ]
  },
  {
   "cell_type": "markdown",
   "metadata": {},
   "source": [
    "## Prosegui\n",
    "\n",
    "Trovi ulteriori esercizi nel foglio [Stringhe 4](https://it.softpython.org/strings/strings4-sol.html)"
   ]
  }
 ],
 "metadata": {
  "kernelspec": {
   "display_name": "Python 3",
   "language": "python",
   "name": "python3"
  },
  "language_info": {
   "codemirror_mode": {
    "name": "ipython",
    "version": 3
   },
   "file_extension": ".py",
   "mimetype": "text/x-python",
   "name": "python",
   "nbconvert_exporter": "python",
   "pygments_lexer": "ipython3",
   "version": "3.7.10"
  },
  "toc": {
   "base_numbering": 1,
   "nav_menu": {},
   "number_sections": false,
   "sideBar": true,
   "skip_h1_title": false,
   "title_cell": "Table of Contents",
   "title_sidebar": "Contents",
   "toc_cell": false,
   "toc_position": {
    "height": "calc(100% - 180px)",
    "left": "10px",
    "top": "150px",
    "width": "280.2px"
   },
   "toc_section_display": true,
   "toc_window_display": true
  }
 },
 "nbformat": 4,
 "nbformat_minor": 2
}

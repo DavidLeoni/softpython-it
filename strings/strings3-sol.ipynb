{
 "cells": [
  {
   "cell_type": "code",
   "execution_count": 1,
   "metadata": {
    "nbsphinx": "hidden"
   },
   "outputs": [],
   "source": [
    "# Ricordati di eseguire questa cella con Shift+Invio\n",
    "\n",
    "import jupman"
   ]
  },
  {
   "cell_type": "markdown",
   "metadata": {},
   "source": [
    "# Stringhe 3 - metodi base\n",
    "\n",
    "## [Scarica zip esercizi](../_static/generated/strings.zip)\n",
    "\n",
    "[Naviga file online](https://github.com/DavidLeoni/softpython-it/tree/master/strings)\n",
    "\n",
    "Ogni tipo di dati ha associati dei metodi particolari per quel tipo, vediamo instanto quelli più semplici associati al tipo stringa (`str`)"
   ]
  },
  {
   "cell_type": "markdown",
   "metadata": {},
   "source": [
    "\n",
    "|Risultato|Metodo|Significato|\n",
    "|---------|------|-----------|\n",
    "|str|[str.upper()](#Esempio-upper)|Ritorna la stringa con tutti i caratteri maiuscoli|\n",
    "|str|[str.lower()](#Metodo-lower)|Ritorna la stringa con tutti i caratteri minuscoli|\n",
    "|str|[str.capitalize()](#Metodo-capitalize)|Ritorna la stringa con il primo carattere maiuscolo|\n",
    "|bool|[str.startswith(str)](#Metodo-startswith)|Controlla se la stringa inizia con un'altra|\n",
    "|bool|[str.endswith(str)](#Metodo-endswith)|Controlla se la stringa finisce con un'altra|\n",
    "|bool|[str.isalpha(str)](#Metodo-isalpha)|Controlla se tutti i caratteri sono alfabetici|\n",
    "|bool|[str.isdigit(str)](#Metodo-isdigit)|Controlla se tutti i caratteri sono cifre|\n",
    "|bool|[str.isupper()](#Metodi-isupper-e-islower)|Controlla se tutti i caratteri sono minuscoli|\n",
    "|bool|[str.islower()](#Metodi-isupper-e-islower)|Controlla se tutti i caratteri sono maiuscoli|\n",
    "\n",
    "Gli altri sono descritti alla pagina [Metodi di ricerca](https://it.softpython.org/strings/strings4-sol.html)"
   ]
  },
  {
   "cell_type": "markdown",
   "metadata": {},
   "source": [
    "<div class=\"alert alert-warning\">\n",
    "\n",
    "**ATTENZIONE: Quando i metodi sulle stringhe generano una stringa, questa è SEMPRE NUOVA**\n",
    "\n",
    "L'oggetto stringa originale non viene MAI modificato (perchè le stringhe sono immutabili). \n",
    "\n",
    "</div>\n"
   ]
  },
  {
   "cell_type": "markdown",
   "metadata": {},
   "source": [
    "## Che fare\n",
    "\n",
    "- scompatta lo zip in una cartella, dovresti ottenere qualcosa del genere: \n",
    "\n",
    "```\n",
    "\n",
    "strings\n",
    "    strings1.ipynb    \n",
    "    strings1-sol.ipynb         \n",
    "    strings2.ipynb\n",
    "    strings2-sol.ipynb\n",
    "    strings3.ipynb\n",
    "    strings3-sol.ipynb\n",
    "    strings4.ipynb\n",
    "    strings4-sol.ipynb    \n",
    "    strings5-chal.ipynb\n",
    "    jupman.py         \n",
    "```\n",
    "\n",
    "<div class=\"alert alert-warning\">\n",
    "\n",
    "**ATTENZIONE**: Per essere visualizzato correttamente, il file del notebook DEVE essere nella cartella szippata.\n",
    "</div>\n",
    "\n",
    "- apri il Jupyter Notebook da quella cartella. Due cose dovrebbero aprirsi, prima una console e poi un browser. Il browser dovrebbe mostrare una lista di file: naviga la lista e apri il notebook `strings3.ipynb`\n",
    "- Prosegui leggendo il file degli esercizi, ogni tanto al suo interno troverai delle scritte **ESERCIZIO**, che ti chiederanno di scrivere dei comandi Python nelle celle successive.\n",
    "\n",
    "Scorciatoie da tastiera:\n",
    "\n",
    "* Per eseguire il codice Python dentro una cella di Jupyter, premi `Control+Invio`\n",
    "* Per eseguire il codice Python dentro una cella di Jupyter E selezionare la cella seguente, premi `Shift+Invio`\n",
    "* Per eseguire il codice Python dentro una cella di Jupyter E creare una nuova cella subito dopo, premi `Alt+Invio`\n",
    "* Se per caso il Notebook sembra inchiodato, prova a selezionare `Kernel -> Restart`\n",
    "\n"
   ]
  },
  {
   "cell_type": "markdown",
   "metadata": {},
   "source": [
    "## Esempio - `upper`\n",
    "\n",
    "Un metodo è una funzione di un oggetto che prende in ingresso l'oggetto a cui è applicata e vi fa dei calcoli. \n",
    "\n",
    "Il tipo stringa (`str`) ha metodi predefiniti come `str.upper()` che possono essere applicati agli oggetti stringa (es: `'ciao'` è un oggetto stringa). \n",
    "\n",
    "\n",
    "Il metodo `str.upper()` prende la stringa su cui è applicato  e crea una NUOVA stringa in cui tutti i caratteri sono in maiuscolo. Per applicare un metodo come `str.upper()` al particolare oggetto stringa `'ciao'`, dobbiamo scrivere \n",
    "\n",
    "```python\n",
    "'ciao'.upper()\n",
    "``` \n",
    "\n",
    "cioè dobbiamo prima scrivere l'oggetto su cui applicare il metodo (`'ciao'`), poi un punto `.` , quindi il nome del metodo seguito da parentesi tonde. Le tonde possono contenere ulteriori parametri a seconda del metodo.\n",
    "\n",
    "Esempi:"
   ]
  },
  {
   "cell_type": "code",
   "execution_count": 2,
   "metadata": {},
   "outputs": [
    {
     "data": {
      "text/plain": [
       "'CIAO'"
      ]
     },
     "execution_count": 2,
     "metadata": {},
     "output_type": "execute_result"
    }
   ],
   "source": [
    "'ciao'.upper()"
   ]
  },
  {
   "cell_type": "code",
   "execution_count": 3,
   "metadata": {},
   "outputs": [
    {
     "data": {
      "text/plain": [
       "'SONO IMPORTANTE'"
      ]
     },
     "execution_count": 3,
     "metadata": {},
     "output_type": "execute_result"
    }
   ],
   "source": [
    "'Sono importante'.upper()"
   ]
  },
  {
   "cell_type": "markdown",
   "metadata": {},
   "source": [
    "<div class=\"alert alert-warning\">\n",
    "\n",
    "**ATTENZIONE**: come TUTTI i metodi delle stringhe, l'oggetto stringa originale su cui è chiamato NON viene modificato. \n",
    "\n",
    "</div>\n",
    "\n",
    "Esempio:\n"
   ]
  },
  {
   "cell_type": "code",
   "execution_count": 4,
   "metadata": {},
   "outputs": [],
   "source": [
    "x = \"ciao\"\n",
    "y = x.upper()    #  genera una NUOVA stringa e la associa alla variabile y"
   ]
  },
  {
   "cell_type": "code",
   "execution_count": 5,
   "metadata": {},
   "outputs": [
    {
     "data": {
      "text/plain": [
       "'ciao'"
      ]
     },
     "execution_count": 5,
     "metadata": {},
     "output_type": "execute_result"
    }
   ],
   "source": [
    "x     # la variabile x è ancora associata alla vecchia stringa"
   ]
  },
  {
   "cell_type": "code",
   "execution_count": 6,
   "metadata": {},
   "outputs": [
    {
     "data": {
      "text/plain": [
       "'CIAO'"
      ]
     },
     "execution_count": 6,
     "metadata": {},
     "output_type": "execute_result"
    }
   ],
   "source": [
    "y     # la variabile y è associata alla nuova stringa"
   ]
  },
  {
   "cell_type": "markdown",
   "metadata": {},
   "source": [
    "Guarda lo stesso esempio in Python Tutor:"
   ]
  },
  {
   "cell_type": "code",
   "execution_count": 7,
   "metadata": {},
   "outputs": [
    {
     "name": "stdout",
     "output_type": "stream",
     "text": [
      "ciao\n",
      "CIAO\n"
     ]
    },
    {
     "data": {
      "text/html": [
       "\n",
       "        <script src=\"../_static/js/pytutor-embed.bundle.min.js\" type=\"application/javascript\"></script>\n",
       "     \n",
       "        <script id=\"json-jm40b5501c-b5b8-48b7-b7d0-6476141633ea\" type=\"application/json\" >\n",
       "            {\"code\": \" \\nx = \\\"ciao\\\"\\ny = x.upper()\\nprint(x)\\nprint(y)\", \"trace\": [{\"line\": 2, \"event\": \"step_line\", \"func_name\": \"<module>\", \"globals\": {}, \"ordered_globals\": [], \"stack_to_render\": [], \"heap\": {}, \"stdout\": \"\"}, {\"line\": 3, \"event\": \"step_line\", \"func_name\": \"<module>\", \"globals\": {\"x\": \"ciao\"}, \"ordered_globals\": [\"x\"], \"stack_to_render\": [], \"heap\": {}, \"stdout\": \"\"}, {\"line\": 4, \"event\": \"step_line\", \"func_name\": \"<module>\", \"globals\": {\"x\": \"ciao\", \"y\": \"CIAO\"}, \"ordered_globals\": [\"x\", \"y\"], \"stack_to_render\": [], \"heap\": {}, \"stdout\": \"\"}, {\"line\": 5, \"event\": \"step_line\", \"func_name\": \"<module>\", \"globals\": {\"x\": \"ciao\", \"y\": \"CIAO\"}, \"ordered_globals\": [\"x\", \"y\"], \"stack_to_render\": [], \"heap\": {}, \"stdout\": \"ciao\\n\"}, {\"line\": 5, \"event\": \"return\", \"func_name\": \"<module>\", \"globals\": {\"x\": \"ciao\", \"y\": \"CIAO\"}, \"ordered_globals\": [\"x\", \"y\"], \"stack_to_render\": [], \"heap\": {}, \"stdout\": \"ciao\\nCIAO\\n\"}]}\n",
       "        </script>\n",
       "        <div id=\"jm40b5501c-b5b8-48b7-b7d0-6476141633ea\" class=\"pytutorVisualizer\"> </div>\n",
       " \n",
       "        <style>\n",
       "        .vizLayoutTd {\n",
       "            background-color: #fff !important;\n",
       "        }\n",
       "\n",
       "        #pyStdout {            \n",
       "            min-height:25px;\n",
       "        }\n",
       "\n",
       "        /* 'Edit this code' link, hiding because replaces browser tab !!!*/\n",
       "        #editCodeLinkDiv {\n",
       "            display:none;  \n",
       "        }\n",
       "        </style>   \n",
       "                            \n",
       "        <script>\n",
       "        (function(){\n",
       "\n",
       "            var trace = JSON.parse(document.getElementById('json-jm40b5501c-b5b8-48b7-b7d0-6476141633ea').innerHTML);                                        \n",
       "            // NOTE 1: id without #\n",
       "            // NOTE 2 - maybe there are more predictable ways, but this will work anyway\n",
       "            //        - id should be number\n",
       "            visualizerIdOverride = Math.trunc(Math.random() * 100000000000)\n",
       "            addVisualizerToPage(trace, 'jm40b5501c-b5b8-48b7-b7d0-6476141633ea',{'embeddedMode' : false,\n",
       "                                             'visualizerIdOverride':visualizerIdOverride})  \n",
       "            \n",
       "            \n",
       "            // set overflow for pytuts - need to do in python as css \n",
       "            // does not allow parent selection\n",
       "            var pytuts = $('.pytutorVisualizer')\n",
       "            pytuts.closest('div.output_html.rendered_html.output_result')\n",
       "                    .css('overflow-x', 'visible')\n",
       "        \n",
       "            //pytuts.closest('div.output_html.rendered_html.output_result')\n",
       "            //      .css('background-color','red')                \n",
       "            \n",
       "        })()\n",
       "        </script>\n",
       "                \n",
       "                "
      ],
      "text/plain": [
       "<IPython.core.display.HTML object>"
      ]
     },
     "execution_count": 7,
     "metadata": {},
     "output_type": "execute_result"
    }
   ],
   "source": [
    "x = \"ciao\"\n",
    "y = x.upper()\n",
    "print(x)\n",
    "print(y)\n",
    "\n",
    "jupman.pytut()"
   ]
  },
  {
   "cell_type": "markdown",
   "metadata": {},
   "source": [
    "### Esercizio - cammina\n",
    "\n",
    "Scrivere del codice che data una stringa `x` (per es: `x='cammina'`) stampa due volta la riga \n",
    "\n",
    "```\n",
    "cammina CAMMINA cammina CAMMINA\n",
    "cammina CAMMINA cammina CAMMINA\n",
    "```\n",
    "\n",
    "* **NON** creare nuove variabili\n",
    "* il tuo codice deve funzionare con qualsiasi stringa"
   ]
  },
  {
   "cell_type": "code",
   "execution_count": 8,
   "metadata": {},
   "outputs": [
    {
     "name": "stdout",
     "output_type": "stream",
     "text": [
      "cammina CAMMINA cammina CAMMINA\n",
      "cammina CAMMINA cammina CAMMINA\n"
     ]
    }
   ],
   "source": [
    "x = 'cammina'\n",
    "\n",
    "print(x, x.upper(), x, x.upper())\n",
    "print(x, x.upper(), x, x.upper())"
   ]
  },
  {
   "cell_type": "markdown",
   "metadata": {},
   "source": [
    "**Help**:  Se non sei sicuro riguardo a un metodo (per esempio `strip`), puoi chiedere aiuto a Python in questo modo:\n",
    "\n",
    "<div class=\"alert alert-warning\">\n",
    "\n",
    "**ATTENZIONE: con help dopo il nome del metodo NON ci sono parentesi !!**\n",
    "\n",
    "</div>\n"
   ]
  },
  {
   "cell_type": "code",
   "execution_count": 9,
   "metadata": {},
   "outputs": [
    {
     "name": "stdout",
     "output_type": "stream",
     "text": [
      "Help on built-in function strip:\n",
      "\n",
      "strip(chars=None, /) method of builtins.str instance\n",
      "    Return a copy of the string with leading and trailing whitespace removed.\n",
      "    \n",
      "    If chars is given and not None, remove characters in chars instead.\n",
      "\n"
     ]
    }
   ],
   "source": [
    "help(\"ciao\".strip)\n"
   ]
  },
  {
   "cell_type": "markdown",
   "metadata": {},
   "source": [
    "## Metodo lower\n",
    "\n",
    "Ritorna la stringa con tutti i caratteri minuscoli\n"
   ]
  },
  {
   "cell_type": "code",
   "execution_count": 10,
   "metadata": {},
   "outputs": [
    {
     "name": "stdout",
     "output_type": "stream",
     "text": [
      "ciao mondo\n"
     ]
    }
   ],
   "source": [
    "stringa = \"ciAo MonDo\"\n",
    "\n",
    "altra_stringa = stringa.lower()\n",
    "\n",
    "print(altra_stringa)\n"
   ]
  },
  {
   "cell_type": "code",
   "execution_count": 11,
   "metadata": {},
   "outputs": [
    {
     "name": "stdout",
     "output_type": "stream",
     "text": [
      "ciAo MonDo\n"
     ]
    }
   ],
   "source": [
    "print(stringa)  # non è cambiata"
   ]
  },
  {
   "cell_type": "markdown",
   "metadata": {},
   "source": [
    "### Esercizio - lowermezzo\n",
    "\n",
    "Scrivi del codice che data una stringa qualsiasi `x` di lunghezza dispari, stampa una nuova stringa uguale a `x` eccetto al carattere in mezzo che deve essere in minuscolo.\n",
    "\n",
    "* Il tuo codice deve funzionare con qualunque stringa !\n",
    "* **SUGGERIMENTO**: per calcolare la posizione del carattere in mezzo, usa la divisione intera con l'operatore `//`\n",
    "\n",
    "Esempi:\n",
    "\n",
    "Dato \n",
    "\n",
    "```python\n",
    "x = 'ASCENSORE'\n",
    "```\n",
    "\n",
    "deve stampare\n",
    "\n",
    "`ASCEnSORE`\n",
    "\n",
    "Dato \n",
    "\n",
    "```python\n",
    "x = 'LAMPADA'\n",
    "```\n",
    "\n",
    "deve stampare\n",
    "\n",
    "`LAMpADA`\n"
   ]
  },
  {
   "cell_type": "raw",
   "id": "74863954",
   "metadata": {
    "format": "text/html"
   },
   "source": [
    "<a  class=\"jupman-sol jupman-sol-toggler\" \n",
    " onclick=\"jupman.toggleSolution(this);\" \n",
    " data-jupman-show=\"Mostra soluzione\" data-jupman-hide=\"Nascondi\">Mostra soluzione</a><div class=\"jupman-sol jupman-sol-code\" style=\"display:none\">  "
   ]
  },
  {
   "cell_type": "code",
   "execution_count": 12,
   "metadata": {},
   "outputs": [
    {
     "name": "stdout",
     "output_type": "stream",
     "text": [
      "ASCEnSORE\n"
     ]
    }
   ],
   "source": [
    "\n",
    "    #012345678\n",
    "x = 'ASCENSORE'\n",
    "k = len(x) // 2\n",
    "\n",
    "# scrivi qui\n",
    "print(x[:k] + x[k].lower() + x[k+1:])"
   ]
  },
  {
   "cell_type": "raw",
   "id": "5d68b0ec",
   "metadata": {
    "format": "text/html"
   },
   "source": [
    "</div>"
   ]
  },
  {
   "cell_type": "code",
   "execution_count": 12,
   "metadata": {},
   "outputs": [],
   "source": [
    "\n",
    "    #012345678\n",
    "x = 'ASCENSORE'\n",
    "k = len(x) // 2\n",
    "\n",
    "# scrivi qui\n",
    "\n"
   ]
  },
  {
   "cell_type": "markdown",
   "metadata": {},
   "source": [
    "## Metodo capitalize"
   ]
  },
  {
   "cell_type": "markdown",
   "metadata": {},
   "source": [
    "Il metodo `capitalize()` crea una NUOVA stringa avente solo il PRIMO carattere in maiuscolo:"
   ]
  },
  {
   "cell_type": "code",
   "execution_count": 13,
   "metadata": {},
   "outputs": [
    {
     "data": {
      "text/plain": [
       "'Ciao'"
      ]
     },
     "execution_count": 13,
     "metadata": {},
     "output_type": "execute_result"
    }
   ],
   "source": [
    "\"ciao\".capitalize()"
   ]
  },
  {
   "cell_type": "code",
   "execution_count": 14,
   "metadata": {},
   "outputs": [
    {
     "data": {
      "text/plain": [
       "'Mondo'"
      ]
     },
     "execution_count": 14,
     "metadata": {},
     "output_type": "execute_result"
    }
   ],
   "source": [
    "\"mondo\".capitalize()"
   ]
  },
  {
   "cell_type": "code",
   "execution_count": 15,
   "metadata": {},
   "outputs": [],
   "source": [
    "x = 'capra'\n",
    "y = 'capra'.capitalize()"
   ]
  },
  {
   "cell_type": "code",
   "execution_count": 16,
   "metadata": {},
   "outputs": [
    {
     "data": {
      "text/plain": [
       "'capra'"
      ]
     },
     "execution_count": 16,
     "metadata": {},
     "output_type": "execute_result"
    }
   ],
   "source": [
    "x      #  x rimane associata al vecchio valore"
   ]
  },
  {
   "cell_type": "code",
   "execution_count": 17,
   "metadata": {},
   "outputs": [
    {
     "data": {
      "text/plain": [
       "'Capra'"
      ]
     },
     "execution_count": 17,
     "metadata": {},
     "output_type": "execute_result"
    }
   ],
   "source": [
    "y      #  y viene associata alla nuova stringa"
   ]
  },
  {
   "cell_type": "markdown",
   "metadata": {},
   "source": [
    "### Esercizio - Vostra Eccellenza\n",
    "\n",
    "\n"
   ]
  },
  {
   "cell_type": "markdown",
   "metadata": {},
   "source": [
    "Scrivere del codice che date due stringhe qualsiasi `x` e `y` restituisce le due stringhe concatenate, separandole con uno spazio ed entrambe tutte in minuscolo eccetto le rispettive prime lettere che devono essere maiuscole.\n",
    "\n",
    "Esempio 1 - dati:\n",
    "\n",
    "```python\n",
    "x = 'vosTRA'\n",
    "y = 'ecCeLLeNza'\n",
    "```\n",
    "\n",
    "deve stampare:\n",
    "\n",
    "```\n",
    "Vostra Eccellenza\n",
    "```\n",
    "\n",
    "Esempio 2 - dati:\n",
    "\n",
    "```python\n",
    "x = 'sUa'\n",
    "y = 'maEStà'\n",
    "```\n",
    "\n",
    "deve stampare:\n",
    "\n",
    "```\n",
    "Sua Maestà\n",
    "```\n"
   ]
  },
  {
   "cell_type": "raw",
   "id": "c9a55aa1",
   "metadata": {
    "format": "text/html"
   },
   "source": [
    "<a  class=\"jupman-sol jupman-sol-toggler\" \n",
    " onclick=\"jupman.toggleSolution(this);\" \n",
    " data-jupman-show=\"Mostra soluzione\" data-jupman-hide=\"Nascondi\">Mostra soluzione</a><div class=\"jupman-sol jupman-sol-code\" style=\"display:none\">  "
   ]
  },
  {
   "cell_type": "code",
   "execution_count": 18,
   "metadata": {},
   "outputs": [
    {
     "name": "stdout",
     "output_type": "stream",
     "text": [
      "Vostra Eccellenza\n"
     ]
    }
   ],
   "source": [
    "\n",
    "x,y = 'vosTRA', 'ecCeLLeNza'\n",
    "#x,y = 'sUa', 'maEStà'\n",
    "\n",
    "# scrivi qui\n",
    "\n",
    "print(x.capitalize() + \" \" + y.capitalize())"
   ]
  },
  {
   "cell_type": "raw",
   "id": "5a2525f5",
   "metadata": {
    "format": "text/html"
   },
   "source": [
    "</div>"
   ]
  },
  {
   "cell_type": "code",
   "execution_count": 18,
   "metadata": {},
   "outputs": [],
   "source": [
    "\n",
    "x,y = 'vosTRA', 'ecCeLLeNza'\n",
    "#x,y = 'sUa', 'maEStà'\n",
    "\n",
    "# scrivi qui\n",
    "\n"
   ]
  },
  {
   "cell_type": "markdown",
   "metadata": {},
   "source": [
    "## Metodo startswith\n",
    "\n",
    "`str.startswith` prende come parametro una stringa e ritorna `True` se la stringa prima del punto inizia con la stringa passata come parametro. Esempio:"
   ]
  },
  {
   "cell_type": "code",
   "execution_count": 19,
   "metadata": {},
   "outputs": [
    {
     "data": {
      "text/plain": [
       "True"
      ]
     },
     "execution_count": 19,
     "metadata": {},
     "output_type": "execute_result"
    }
   ],
   "source": [
    "\"il cane abbaia nella strada\".startswith('il cane')"
   ]
  },
  {
   "cell_type": "code",
   "execution_count": 20,
   "metadata": {},
   "outputs": [
    {
     "data": {
      "text/plain": [
       "False"
      ]
     },
     "execution_count": 20,
     "metadata": {},
     "output_type": "execute_result"
    }
   ],
   "source": [
    "\"il cane abbaia nella strada\".startswith('abbaia')"
   ]
  },
  {
   "cell_type": "code",
   "execution_count": 21,
   "metadata": {},
   "outputs": [
    {
     "data": {
      "text/plain": [
       "False"
      ]
     },
     "execution_count": 21,
     "metadata": {},
     "output_type": "execute_result"
    }
   ],
   "source": [
    "\"il cane abbaia nella strada\".startswith('IL CANE')  # le maiuscole sono diverse dalle minuscole"
   ]
  },
  {
   "cell_type": "code",
   "execution_count": 22,
   "metadata": {},
   "outputs": [
    {
     "data": {
      "text/plain": [
       "True"
      ]
     },
     "execution_count": 22,
     "metadata": {},
     "output_type": "execute_result"
    }
   ],
   "source": [
    "\"IL CANE ABBAIA SULLA STRADA\".startswith('IL CANE')  # le maiuscole sono diverse dalle minuscole"
   ]
  },
  {
   "cell_type": "markdown",
   "metadata": {},
   "source": [
    "### Esercizio - per Giove"
   ]
  },
  {
   "cell_type": "markdown",
   "metadata": {},
   "source": [
    "Scrivere del codice che date tre stringhe qualsiasi `x` e `y` e `z`, stampa `True` se entrambe `x` e `y` iniziano con la stringa `z`, altrimenti stampa `False`\n",
    "\n",
    "Esempi 1 - Dati:\n",
    "\n",
    "```python\n",
    "x = 'per Giove'\n",
    "y = 'per Zeus'\n",
    "z = 'per'\n",
    "```\n",
    "\n",
    "deve stampare \n",
    "\n",
    "```\n",
    "True\n",
    "```\n",
    "\n",
    "\n",
    "Esempio 2 - Dati:\n",
    "\n",
    "```python\n",
    "x = 'per Giove'\n",
    "y = 'per Zeus'\n",
    "z = 'da'\n",
    "```\n",
    "\n",
    "deve stampare \n",
    "\n",
    "```\n",
    "False\n",
    "```\n",
    "\n",
    "Esempio 3 - Dati:\n",
    "\n",
    "```python\n",
    "x = 'da Giove'\n",
    "y = 'per Zeus'\n",
    "z = 'per'\n",
    "```\n",
    "\n",
    "deve stampare \n",
    "\n",
    "```\n",
    "False\n",
    "```"
   ]
  },
  {
   "cell_type": "raw",
   "id": "cb2cc977",
   "metadata": {
    "format": "text/html"
   },
   "source": [
    "<a  class=\"jupman-sol jupman-sol-toggler\" \n",
    " onclick=\"jupman.toggleSolution(this);\" \n",
    " data-jupman-show=\"Mostra soluzione\" data-jupman-hide=\"Nascondi\">Mostra soluzione</a><div class=\"jupman-sol jupman-sol-code\" style=\"display:none\">  "
   ]
  },
  {
   "cell_type": "code",
   "execution_count": 23,
   "metadata": {},
   "outputs": [
    {
     "name": "stdout",
     "output_type": "stream",
     "text": [
      "True\n"
     ]
    }
   ],
   "source": [
    "\n",
    "x = 'per Giove'   # True\n",
    "y = 'per Zeus'    # False\n",
    "z = 'per'         # False\n",
    "\n",
    "# scrivi qui\n",
    "\n",
    "print(x.startswith(z) and y.startswith(z))"
   ]
  },
  {
   "cell_type": "raw",
   "id": "83f603ec",
   "metadata": {
    "format": "text/html"
   },
   "source": [
    "</div>"
   ]
  },
  {
   "cell_type": "code",
   "execution_count": 23,
   "metadata": {},
   "outputs": [],
   "source": [
    "\n",
    "x = 'per Giove'   # True\n",
    "y = 'per Zeus'    # False\n",
    "z = 'per'         # False\n",
    "\n",
    "# scrivi qui\n",
    "\n"
   ]
  },
  {
   "cell_type": "markdown",
   "metadata": {},
   "source": [
    "## Metodo endswith\n",
    "\n",
    "`str.endswith` prende come parametro una stringa e ritorna `True` se la stringa prima del punto finisce con la stringa passata come parametro. Esempio:"
   ]
  },
  {
   "cell_type": "code",
   "execution_count": 24,
   "metadata": {},
   "outputs": [
    {
     "data": {
      "text/plain": [
       "True"
      ]
     },
     "execution_count": 24,
     "metadata": {},
     "output_type": "execute_result"
    }
   ],
   "source": [
    "\"I miei più cari saluti\".endswith('cari saluti')"
   ]
  },
  {
   "cell_type": "code",
   "execution_count": 25,
   "metadata": {},
   "outputs": [
    {
     "data": {
      "text/plain": [
       "False"
      ]
     },
     "execution_count": 25,
     "metadata": {},
     "output_type": "execute_result"
    }
   ],
   "source": [
    "\"I miei più cari saluti\".endswith('cari')"
   ]
  },
  {
   "cell_type": "code",
   "execution_count": 26,
   "metadata": {},
   "outputs": [
    {
     "data": {
      "text/plain": [
       "False"
      ]
     },
     "execution_count": 26,
     "metadata": {},
     "output_type": "execute_result"
    }
   ],
   "source": [
    "\"I miei più cari saluti\".endswith('SALUTI')  # le maiuscole sono diverse dalle minuscole"
   ]
  },
  {
   "cell_type": "code",
   "execution_count": 27,
   "metadata": {},
   "outputs": [
    {
     "data": {
      "text/plain": [
       "True"
      ]
     },
     "execution_count": 27,
     "metadata": {},
     "output_type": "execute_result"
    }
   ],
   "source": [
    "\"I MIEI PIU' CARI SALUTI\".endswith('SALUTI')  # le maiuscole sono diverse dalle minuscole"
   ]
  },
  {
   "cell_type": "markdown",
   "metadata": {},
   "source": [
    "### Esercizio - Snobbonis\n",
    "\n",
    "Dati nomi di coppie `marito` e `moglie`, scrivi del codice che stampa `True` se condividono il cognome, `False` altrimenti. \n",
    "\n",
    "* assumi che il cognome sia sempre alla stessa posizione\n",
    "* il tuo codice deve funzionare per qualsiasi coppia `marito` `moglie`"
   ]
  },
  {
   "cell_type": "raw",
   "id": "de7ebd6d",
   "metadata": {
    "format": "text/html"
   },
   "source": [
    "<a  class=\"jupman-sol jupman-sol-toggler\" \n",
    " onclick=\"jupman.toggleSolution(this);\" \n",
    " data-jupman-show=\"Mostra soluzione\" data-jupman-hide=\"Nascondi\">Mostra soluzione</a><div class=\"jupman-sol jupman-sol-code\" style=\"display:none\">  "
   ]
  },
  {
   "cell_type": "code",
   "execution_count": 28,
   "metadata": {},
   "outputs": [
    {
     "name": "stdout",
     "output_type": "stream",
     "text": [
      "True\n"
     ]
    }
   ],
   "source": [
    "\n",
    "                  #0123456789               #0123456789\n",
    "marito, moglie = 'Antonio  Snobbonis',     'Carolina Snobbonis'   # True\n",
    "#marito, moglie = 'Camillo  De Spaparanzi', 'Matilda  Degli Agi'  # False\n",
    "\n",
    "# scrivi qui\n",
    "\n",
    "print(moglie.endswith(marito[9:]))"
   ]
  },
  {
   "cell_type": "raw",
   "id": "06b38032",
   "metadata": {
    "format": "text/html"
   },
   "source": [
    "</div>"
   ]
  },
  {
   "cell_type": "code",
   "execution_count": 28,
   "metadata": {},
   "outputs": [],
   "source": [
    "\n",
    "                  #0123456789               #0123456789\n",
    "marito, moglie = 'Antonio  Snobbonis',     'Carolina Snobbonis'   # True\n",
    "#marito, moglie = 'Camillo  De Spaparanzi', 'Matilda  Degli Agi'  # False\n",
    "\n",
    "# scrivi qui\n",
    "\n"
   ]
  },
  {
   "cell_type": "markdown",
   "metadata": {},
   "source": [
    "## Metodo isalpha"
   ]
  },
  {
   "cell_type": "markdown",
   "metadata": {},
   "source": [
    "Il metodo `isalpha` ritorna `True` se tutti i caratteri nella stringa sono alfabetici:"
   ]
  },
  {
   "cell_type": "code",
   "execution_count": 29,
   "metadata": {},
   "outputs": [
    {
     "data": {
      "text/plain": [
       "True"
      ]
     },
     "execution_count": 29,
     "metadata": {},
     "output_type": "execute_result"
    }
   ],
   "source": [
    "'BarrieraCorallina'.isalpha()"
   ]
  },
  {
   "cell_type": "markdown",
   "metadata": {},
   "source": [
    "I numeri non sono considerati alfabetici:"
   ]
  },
  {
   "cell_type": "code",
   "execution_count": 30,
   "metadata": {},
   "outputs": [
    {
     "data": {
      "text/plain": [
       "False"
      ]
     },
     "execution_count": 30,
     "metadata": {},
     "output_type": "execute_result"
    }
   ],
   "source": [
    "'Route 666'.isalpha()"
   ]
  },
  {
   "cell_type": "markdown",
   "metadata": {},
   "source": [
    "Nota che le spaziature (i cosiddetti _blank_) _non_ sono alfabetiche:"
   ]
  },
  {
   "cell_type": "code",
   "execution_count": 31,
   "metadata": {},
   "outputs": [
    {
     "data": {
      "text/plain": [
       "False"
      ]
     },
     "execution_count": 31,
     "metadata": {},
     "output_type": "execute_result"
    }
   ],
   "source": [
    "'Barriera Corallina'.isalpha()"
   ]
  },
  {
   "cell_type": "markdown",
   "metadata": {},
   "source": [
    "... nè la punteggiatura:"
   ]
  },
  {
   "cell_type": "code",
   "execution_count": 32,
   "metadata": {},
   "outputs": [
    {
     "data": {
      "text/plain": [
       "False"
      ]
     },
     "execution_count": 32,
     "metadata": {},
     "output_type": "execute_result"
    }
   ],
   "source": [
    "'!'.isalpha()"
   ]
  },
  {
   "cell_type": "markdown",
   "metadata": {},
   "source": [
    "... e neanche strani caratteri Unicode:"
   ]
  },
  {
   "cell_type": "code",
   "execution_count": 33,
   "metadata": {},
   "outputs": [
    {
     "data": {
      "text/plain": [
       "False"
      ]
     },
     "execution_count": 33,
     "metadata": {},
     "output_type": "execute_result"
    }
   ],
   "source": [
    "'♥'.isalpha()"
   ]
  },
  {
   "cell_type": "markdown",
   "metadata": {},
   "source": [
    ".. nè la stringa vuota:"
   ]
  },
  {
   "cell_type": "code",
   "execution_count": 34,
   "metadata": {
    "scrolled": true
   },
   "outputs": [
    {
     "data": {
      "text/plain": [
       "False"
      ]
     },
     "execution_count": 34,
     "metadata": {},
     "output_type": "execute_result"
    }
   ],
   "source": [
    "''.isalpha()"
   ]
  },
  {
   "cell_type": "markdown",
   "metadata": {},
   "source": [
    "### Esercizio - Combattiamo gli hacker\n",
    "\n",
    "Come è noto nei piani bassi dell'Interpol, gli hacker internazionali comunicano usando una lingua ricca di slang chiamata _Leet_. Tuttavia questa moda si sta diffondendo anche nelle scuole, dove si viene considerati _K001_ (cool) se si sa comunicare in questa scomoda maniera.\n",
    "La base è cercare di sostituire alle lettere dei numeri durante la scrittura. ( [Qui una guida completa](https://simple.wikipedia.org/wiki/Leet) )\n",
    "```\n",
    "1 -> i\n",
    "2 -> z\n",
    "3 -> e\n",
    "4 -> h, a, y\n",
    "etc\n",
    "```\n",
    "\n",
    "Scrivi un codice che controlla che i `nome` e  `cognome` forniti dagli studenti per evitare che si esprimano in questa maniera, che Dante di sicuro disapprova!\n",
    "\n",
    "* stampa `True` se almeno una delle parole contiene numeri al posto di lettere, altrimenti stampa `False` \n",
    "* Il codice deve essere generico, valido per tutte le parole\n",
    "* **NON** usare l'istruzione `if`"
   ]
  },
  {
   "cell_type": "raw",
   "id": "9b2bfa83",
   "metadata": {
    "format": "text/html"
   },
   "source": [
    "<a  class=\"jupman-sol jupman-sol-toggler\" \n",
    " onclick=\"jupman.toggleSolution(this);\" \n",
    " data-jupman-show=\"Mostra soluzione\" data-jupman-hide=\"Nascondi\">Mostra soluzione</a><div class=\"jupman-sol jupman-sol-code\" style=\"display:none\">  "
   ]
  },
  {
   "cell_type": "code",
   "execution_count": 35,
   "metadata": {},
   "outputs": [
    {
     "name": "stdout",
     "output_type": "stream",
     "text": [
      "True\n"
     ]
    }
   ],
   "source": [
    "\n",
    "nome, cognome = 'K001',   'H4ck3r'     # True\n",
    "#nome, cognome = 'Cool',  'H4ck3r'     # True\n",
    "#nome, cognome = 'Romina','Rossi'      # False\n",
    "#nome, cognome = 'Peppo', 'Sbirilli'   # False\n",
    "#nome, cognome = 'K001',  'Sbirilli'   # True\n",
    "\n",
    "# scrivi qui\n",
    "print(not (nome.isalpha() and cognome.isalpha()))"
   ]
  },
  {
   "cell_type": "raw",
   "id": "5403dcdc",
   "metadata": {
    "format": "text/html"
   },
   "source": [
    "</div>"
   ]
  },
  {
   "cell_type": "code",
   "execution_count": 35,
   "metadata": {},
   "outputs": [],
   "source": [
    "\n",
    "nome, cognome = 'K001',   'H4ck3r'     # True\n",
    "#nome, cognome = 'Cool',  'H4ck3r'     # True\n",
    "#nome, cognome = 'Romina','Rossi'      # False\n",
    "#nome, cognome = 'Peppo', 'Sbirilli'   # False\n",
    "#nome, cognome = 'K001',  'Sbirilli'   # True\n",
    "\n",
    "# scrivi qui\n",
    "\n"
   ]
  },
  {
   "cell_type": "markdown",
   "metadata": {},
   "source": [
    "## Metodo isdigit\n",
    "\n",
    "Il metodo `isdigit` ritorna `True` se una stringa è solo composta di cifre:"
   ]
  },
  {
   "cell_type": "code",
   "execution_count": 36,
   "metadata": {},
   "outputs": [
    {
     "data": {
      "text/plain": [
       "True"
      ]
     },
     "execution_count": 36,
     "metadata": {},
     "output_type": "execute_result"
    }
   ],
   "source": [
    "'391'.isdigit()"
   ]
  },
  {
   "cell_type": "code",
   "execution_count": 37,
   "metadata": {},
   "outputs": [
    {
     "data": {
      "text/plain": [
       "False"
      ]
     },
     "execution_count": 37,
     "metadata": {},
     "output_type": "execute_result"
    }
   ],
   "source": [
    "'400m'.isdigit()"
   ]
  },
  {
   "cell_type": "markdown",
   "metadata": {},
   "source": [
    "Le notazioni a virgola mobile e scientifica non sono riconosciute:"
   ]
  },
  {
   "cell_type": "code",
   "execution_count": 38,
   "metadata": {},
   "outputs": [
    {
     "data": {
      "text/plain": [
       "False"
      ]
     },
     "execution_count": 38,
     "metadata": {},
     "output_type": "execute_result"
    }
   ],
   "source": [
    "'3.14'.isdigit()"
   ]
  },
  {
   "cell_type": "code",
   "execution_count": 39,
   "metadata": {},
   "outputs": [
    {
     "data": {
      "text/plain": [
       "False"
      ]
     },
     "execution_count": 39,
     "metadata": {},
     "output_type": "execute_result"
    }
   ],
   "source": [
    "'4e29'.isdigit()"
   ]
  },
  {
   "cell_type": "markdown",
   "metadata": {},
   "source": [
    "### Esercizio - Vendere numeri\n",
    "\n",
    "La multinazionale ToxiCorp è riuscita a mettere le mani su un tesoro di dati personali di ignari utenti, e ti propone di  analizzarli per poi vendere informazioni private sul mercato nero al miglior offerente. L'offerta ti pare questionabile, ma pagano bene, perciò accetti.\n",
    "\n",
    "Occorre capire che dati sono e come catalogarli. Tra i tanti hai trovato una serie di stringhe che sembrano dei numeri di telefono. \n",
    "\n",
    "Ogni numero dovrebbe essere così composto:\n",
    "\n",
    "```\n",
    "+[prefisso nazionale 39][10 numeri]\n",
    "```\n",
    "\n",
    "Per esempio, questo è un numero valido: `+392574856985`\n",
    "\n",
    "Scrivi del codice che stampa `True` se la stringa è un numero telefonico, `False` altrimenti\n",
    "\n",
    "\n",
    "* Prova le varie combinazioni scommentando `telefono`\n",
    "* Il codice deve essere generico, valido per tutti i numeri"
   ]
  },
  {
   "cell_type": "raw",
   "id": "e888b777",
   "metadata": {
    "format": "text/html"
   },
   "source": [
    "<a  class=\"jupman-sol jupman-sol-toggler\" \n",
    " onclick=\"jupman.toggleSolution(this);\" \n",
    " data-jupman-show=\"Mostra soluzione\" data-jupman-hide=\"Nascondi\">Mostra soluzione</a><div class=\"jupman-sol jupman-sol-code\" style=\"display:none\">  "
   ]
  },
  {
   "cell_type": "code",
   "execution_count": 40,
   "metadata": {},
   "outputs": [
    {
     "name": "stdout",
     "output_type": "stream",
     "text": [
      "Controllo delle variabili: True True True True\n",
      "E' un numero di telefono? True\n"
     ]
    }
   ],
   "source": [
    "\n",
    "\n",
    "telefono = '+392574856985'    # True\n",
    "#telefono = '395851256954'    # False (manca il '+')\n",
    "#telefono = '++7485125874'    # False (manca il prefisso) \n",
    "#telefono = '+39333457Ciao'   # False (mi pare ovvio :D )\n",
    "#telefono = \"+3912\"           # False (troppo corto)\n",
    "#telefono = '+393481489945'   # True\n",
    "\n",
    "# scrivi qui\n",
    "numero = telefono[3:]  # Mi salvo la stringa escluso l'eventuale +39\n",
    "\n",
    "# Facciamo 4 bool per tenere traccia di tutte le condizioni\n",
    "segno_piu = telefono.startswith('+')                  # Comincia con il + ?\n",
    "prefisso_nazionale = telefono[1:].startswith('39')  # Dopo c'è 39?     (Volendo si poteva fare insieme aLLA riga sopra)\n",
    "lungo10 = len(numero) == 10       # Escluso il prefisso gli altri sono 10 caratteri?\n",
    "tutte_cifre = numero.isdigit()          # Sono tutti numeri?\n",
    "\n",
    "# Questa è solo una stampa di debug\n",
    "print(\"Controllo delle variabili:\", segno_piu, prefisso_nazionale, lungo10, tutte_cifre)\n",
    "# Soluzione finale, combina tutto \n",
    "print(\"E' un numero di telefono?\", segno_piu and prefisso_nazionale and lungo10 and tutte_cifre)"
   ]
  },
  {
   "cell_type": "raw",
   "id": "dd8f2658",
   "metadata": {
    "format": "text/html"
   },
   "source": [
    "</div>"
   ]
  },
  {
   "cell_type": "code",
   "execution_count": 40,
   "metadata": {},
   "outputs": [],
   "source": [
    "\n",
    "\n",
    "telefono = '+392574856985'    # True\n",
    "#telefono = '395851256954'    # False (manca il '+')\n",
    "#telefono = '++7485125874'    # False (manca il prefisso) \n",
    "#telefono = '+39333457Ciao'   # False (mi pare ovvio :D )\n",
    "#telefono = \"+3912\"           # False (troppo corto)\n",
    "#telefono = '+393481489945'   # True\n",
    "\n",
    "# scrivi qui\n",
    "\n"
   ]
  },
  {
   "cell_type": "markdown",
   "metadata": {},
   "source": [
    "## Metodi `isupper` e `islower`\n",
    "\n",
    "Possiamo controllare se un carattere è maiuscolo o minuscolo con i metodi `isupper` e `islower`:"
   ]
  },
  {
   "cell_type": "code",
   "execution_count": 41,
   "metadata": {},
   "outputs": [
    {
     "data": {
      "text/plain": [
       "False"
      ]
     },
     "execution_count": 41,
     "metadata": {},
     "output_type": "execute_result"
    }
   ],
   "source": [
    "'q'.isupper()"
   ]
  },
  {
   "cell_type": "code",
   "execution_count": 42,
   "metadata": {},
   "outputs": [
    {
     "data": {
      "text/plain": [
       "True"
      ]
     },
     "execution_count": 42,
     "metadata": {},
     "output_type": "execute_result"
    }
   ],
   "source": [
    "'Q'.isupper()"
   ]
  },
  {
   "cell_type": "code",
   "execution_count": 43,
   "metadata": {},
   "outputs": [
    {
     "data": {
      "text/plain": [
       "True"
      ]
     },
     "execution_count": 43,
     "metadata": {},
     "output_type": "execute_result"
    }
   ],
   "source": [
    "'b'.islower()"
   ]
  },
  {
   "cell_type": "code",
   "execution_count": 44,
   "metadata": {},
   "outputs": [
    {
     "data": {
      "text/plain": [
       "False"
      ]
     },
     "execution_count": 44,
     "metadata": {},
     "output_type": "execute_result"
    }
   ],
   "source": [
    "'B'.islower()"
   ]
  },
  {
   "cell_type": "markdown",
   "metadata": {},
   "source": [
    "Funzionano anche con stringhe lunghe, controllando se tutti i caratteri soddisfano il criterio:"
   ]
  },
  {
   "cell_type": "code",
   "execution_count": 45,
   "metadata": {},
   "outputs": [
    {
     "data": {
      "text/plain": [
       "True"
      ]
     },
     "execution_count": 45,
     "metadata": {},
     "output_type": "execute_result"
    }
   ],
   "source": [
    "'GREAT'.isupper()"
   ]
  },
  {
   "cell_type": "code",
   "execution_count": 46,
   "metadata": {},
   "outputs": [
    {
     "data": {
      "text/plain": [
       "False"
      ]
     },
     "execution_count": 46,
     "metadata": {},
     "output_type": "execute_result"
    }
   ],
   "source": [
    "'NotSoGREAT'.isupper()"
   ]
  },
  {
   "cell_type": "markdown",
   "metadata": {},
   "source": [
    "Nota che spaziatura in genere (i _blank_) e punteggiatura non sono prese in considerazione:"
   ]
  },
  {
   "cell_type": "code",
   "execution_count": 47,
   "metadata": {},
   "outputs": [
    {
     "data": {
      "text/plain": [
       "True"
      ]
     },
     "execution_count": 47,
     "metadata": {},
     "output_type": "execute_result"
    }
   ],
   "source": [
    "'TROPPO\\nGIUSTO !'.isupper()"
   ]
  },
  {
   "cell_type": "markdown",
   "metadata": {},
   "source": [
    "Potremmo controllare se un carattere è maiuscolo/minuscolo guardando il codice ASCII ma il miglior modo per coprire tutti gli alfabeti è usare i metodi `isupper` e `islower`, per esempio funzionano anche con lettere accentate:"
   ]
  },
  {
   "cell_type": "code",
   "execution_count": 48,
   "metadata": {},
   "outputs": [
    {
     "data": {
      "text/plain": [
       "False"
      ]
     },
     "execution_count": 48,
     "metadata": {},
     "output_type": "execute_result"
    }
   ],
   "source": [
    "'à'.isupper()"
   ]
  },
  {
   "cell_type": "code",
   "execution_count": 49,
   "metadata": {
    "scrolled": true
   },
   "outputs": [
    {
     "data": {
      "text/plain": [
       "True"
      ]
     },
     "execution_count": 49,
     "metadata": {},
     "output_type": "execute_result"
    }
   ],
   "source": [
    "'Á'.isupper()"
   ]
  },
  {
   "cell_type": "markdown",
   "metadata": {},
   "source": [
    "### Esercizio - nani e GIGANTI\n",
    "\n",
    "In un mondo fantasy eccitante e sconosciuto vivono due popolazioni: si tratta dei nani e dei GIGANTI. \n",
    "\n",
    "- I nani amano dare nomi ai propri pargoli che contengono solo lettere minuscole.\n",
    "- I GIGANTI invece non devono nemmeno pensarci, perchè come scritto sulle tavole di GROCK i nomi dei  GIGANTI possono solo avere lettere maiuscole.\n",
    "\n",
    "Un giorno arrivò una minaccia malvagia da un regno lontano e come in tutti i clichè fu composta una compagnia. Una profezia diceva che solo una compagnia mista di GIGANTI e di nani per un totale di **4** persone avrebbe potuto sconfiggere il malvagio di turno.\n",
    "\n",
    "1) Scrivi del codice che controlla se quattro componenti possono comporre una compagnia valida:\n",
    "\n",
    "* Stampa `True` se i quattro nomi sono sia di nani che di GIGANTI, altrimenti se sono di una sola delle due popolazioni stampa `False` \n",
    "* Il codice deve essere generico, valido per tutte le stringhe\n",
    "\n",
    "2) Cerca dei [nomi di GIGANTI](https://www.fantasynamegenerators.com/giant-names.php) e [Nomi di nani](https://www.fantasynamegenerators.com/dwarf_names.php) e prova a metterli, facendo attenzione a tradurli con la capitalizzazione tutta minuscola / tutta maiuscola corretta, es \"Jisog\" non è un nome di gigante valido, va tradotto alla scrittura gigantica \"JISOG\". "
   ]
  },
  {
   "cell_type": "raw",
   "id": "2aadc7ba",
   "metadata": {
    "format": "text/html"
   },
   "source": [
    "<a  class=\"jupman-sol jupman-sol-toggler\" \n",
    " onclick=\"jupman.toggleSolution(this);\" \n",
    " data-jupman-show=\"Mostra soluzione\" data-jupman-hide=\"Nascondi\">Mostra soluzione</a><div class=\"jupman-sol jupman-sol-code\" style=\"display:none\">  "
   ]
  },
  {
   "cell_type": "code",
   "execution_count": 50,
   "metadata": {},
   "outputs": [
    {
     "name": "stdout",
     "output_type": "stream",
     "text": [
      "False\n"
     ]
    }
   ],
   "source": [
    "\n",
    "avv1, avv2, avv3, avv4 = 'gimli', 'savorlim', 'glazouc', 'hondouni'       # False\n",
    "#avv1, avv2, avv3, avv4 = 'OXLOR', 'HIVAR', 'ELOR', 'SUXGROG'             # False\n",
    "#avv1, avv2, avv3, avv4 = 'krakrerlig', 'GUCAM', 'SUXGROG', 'kodearen'    # True\n",
    "#avv1, avv2, avv3, avv4 = 'yarnithra', 'krakrerlig', 'jandreda', 'TOVIR'  # True\n",
    "\n",
    "# scrivi qui\n",
    "a1 = avv1.isupper()\n",
    "a2 = avv2.isupper()\n",
    "a3 = avv3.isupper()\n",
    "a4 = avv4.isupper()\n",
    "\n",
    "print(not(a1 == a2 == a3 == a4))"
   ]
  },
  {
   "cell_type": "raw",
   "id": "27d66358",
   "metadata": {
    "format": "text/html"
   },
   "source": [
    "</div>"
   ]
  },
  {
   "cell_type": "code",
   "execution_count": 50,
   "metadata": {},
   "outputs": [],
   "source": [
    "\n",
    "avv1, avv2, avv3, avv4 = 'gimli', 'savorlim', 'glazouc', 'hondouni'       # False\n",
    "#avv1, avv2, avv3, avv4 = 'OXLOR', 'HIVAR', 'ELOR', 'SUXGROG'             # False\n",
    "#avv1, avv2, avv3, avv4 = 'krakrerlig', 'GUCAM', 'SUXGROG', 'kodearen'    # True\n",
    "#avv1, avv2, avv3, avv4 = 'yarnithra', 'krakrerlig', 'jandreda', 'TOVIR'  # True\n",
    "\n",
    "# scrivi qui\n",
    "\n"
   ]
  },
  {
   "cell_type": "markdown",
   "metadata": {},
   "source": [
    "## Prosegui\n",
    "\n",
    "Trovi ulteriori esercizi nel foglio [Stringhe 4 - metodi di ricerca](https://it.softpython.org/strings/strings4-sol.html)"
   ]
  },
  {
   "cell_type": "code",
   "execution_count": null,
   "metadata": {},
   "outputs": [],
   "source": []
  }
 ],
 "metadata": {
  "kernelspec": {
   "display_name": "Python 3 (ipykernel)",
   "language": "python",
   "name": "python3"
  },
  "language_info": {
   "codemirror_mode": {
    "name": "ipython",
    "version": 3
   },
   "file_extension": ".py",
   "mimetype": "text/x-python",
   "name": "python",
   "nbconvert_exporter": "python",
   "pygments_lexer": "ipython3",
   "version": "3.7.10"
  },
  "toc": {
   "base_numbering": 1,
   "nav_menu": {},
   "number_sections": false,
   "sideBar": true,
   "skip_h1_title": false,
   "title_cell": "Table of Contents",
   "title_sidebar": "Contents",
   "toc_cell": false,
   "toc_position": {
    "height": "calc(100% - 180px)",
    "left": "10px",
    "top": "150px",
    "width": "280.2px"
   },
   "toc_section_display": true,
   "toc_window_display": true
  }
 },
 "nbformat": 4,
 "nbformat_minor": 2
}

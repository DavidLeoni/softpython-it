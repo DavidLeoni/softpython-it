{
 "cells": [
  {
   "cell_type": "code",
   "execution_count": 1,
   "metadata": {
    "nbsphinx": "hidden"
   },
   "outputs": [],
   "source": [
    "# Ricordati di eseguire questa cella con Shift+Invio\n",
    "\n",
    "import jupman"
   ]
  },
  {
   "cell_type": "markdown",
   "metadata": {},
   "source": [
    "# Stringhe 1 - introduzione\n",
    "\n",
    "## [Scarica zip esercizi](../_static/generated/strings.zip)\n",
    "\n",
    "[Naviga file online](https://github.com/DavidLeoni/softpython-it/tree/master/strings)\n",
    "\n",
    "\n",
    "Le stringhe sono sequenze _immutabili_ di caratteri, e costituiscono uno dei tipi di base di Python. In questo foglio vedremo come manipolarle."
   ]
  },
  {
   "cell_type": "markdown",
   "metadata": {},
   "source": [
    "## Che fare\n",
    "\n",
    "- scompatta [lo zip](../_static/generated/strings.zip) in una cartella, dovresti ottenere qualcosa del genere: \n",
    "\n",
    "```\n",
    "\n",
    "strings\n",
    "    strings1.ipynb    \n",
    "    strings1-sol.ipynb         \n",
    "    strings2.ipynb\n",
    "    strings2-sol.ipynb\n",
    "    strings3.ipynb\n",
    "    strings3-sol.ipynb    \n",
    "    strings4.ipynb\n",
    "    strings4-sol.ipynb    \n",
    "    jupman.py         \n",
    "```\n",
    "\n",
    "<div class=\"alert alert-warning\">\n",
    "\n",
    "**ATTENZIONE**: Per essere visualizzato correttamente, il file del notebook DEVE essere nella cartella szippata.\n",
    "</div>\n",
    "\n",
    "- apri il Jupyter Notebook da quella cartella. Due cose dovrebbero aprirsi, prima una console e poi un browser. Il browser dovrebbe mostrare una lista di file: naviga la lista e apri il notebook `strings1.ipynb`\n",
    "- Prosegui leggendo il file degli esercizi, ogni tanto al suo interno troverai delle scritte **ESERCIZIO**, che ti chiederanno di scrivere dei comandi Python nelle celle successive. Gli esercizi sono graduati per difficoltà, da una stellina ✪ a quattro ✪✪✪✪\n",
    "\n",
    "\n",
    "Scorciatoie da tastiera:\n",
    "\n",
    "* Per eseguire il codice Python dentro una cella di Jupyter, premi `Control+Invio`\n",
    "* Per eseguire il codice Python dentro una cella di Jupyter E selezionare la cella seguente, premi `Shift+Invio`\n",
    "* Per eseguire il codice Python dentro una cella di Jupyter E creare una nuova cella subito dopo, premi `Alt+Invio`\n",
    "* Se per caso il Notebook sembra inchiodato, prova a selezionare `Kernel -> Restart`\n",
    "\n"
   ]
  },
  {
   "cell_type": "markdown",
   "metadata": {},
   "source": [
    "\n",
    "\n",
    "## Creare stringhe\n",
    "\n",
    "Ci sono diversi modi di definire una stringa. \n",
    "\n",
    "**Doppie virgolette, su una linea**"
   ]
  },
  {
   "cell_type": "code",
   "execution_count": 2,
   "metadata": {},
   "outputs": [],
   "source": [
    "a = \"la mia prima stringa, in doppie virgolette\""
   ]
  },
  {
   "cell_type": "code",
   "execution_count": 3,
   "metadata": {},
   "outputs": [
    {
     "name": "stdout",
     "output_type": "stream",
     "text": [
      "la mia prima stringa, in doppie virgolette\n"
     ]
    }
   ],
   "source": [
    "print(a)"
   ]
  },
  {
   "cell_type": "markdown",
   "metadata": {},
   "source": [
    "**Virgolette singole, su una linea**\n",
    "\n",
    "Questo modo è equivalente al precedente."
   ]
  },
  {
   "cell_type": "code",
   "execution_count": 4,
   "metadata": {},
   "outputs": [],
   "source": [
    "b = 'la mia seconda stringa, in virgolette singole'"
   ]
  },
  {
   "cell_type": "code",
   "execution_count": 5,
   "metadata": {},
   "outputs": [
    {
     "name": "stdout",
     "output_type": "stream",
     "text": [
      "la mia seconda stringa, in virgolette singole\n"
     ]
    }
   ],
   "source": [
    "print(b)"
   ]
  },
  {
   "cell_type": "markdown",
   "metadata": {},
   "source": [
    "**Tre doppie virgolette, su più linee**"
   ]
  },
  {
   "cell_type": "code",
   "execution_count": 6,
   "metadata": {},
   "outputs": [],
   "source": [
    "c = \"\"\"la mia terza stringa \n",
    "in triple doppie virgolette\n",
    "quindi la posso mettere \n",
    "\n",
    "su più righe\"\"\""
   ]
  },
  {
   "cell_type": "code",
   "execution_count": 7,
   "metadata": {},
   "outputs": [
    {
     "name": "stdout",
     "output_type": "stream",
     "text": [
      "la mia terza stringa \n",
      "in triple doppie virgolette\n",
      "quindi la posso mettere \n",
      "\n",
      "su più righe\n"
     ]
    }
   ],
   "source": [
    "print(c)"
   ]
  },
  {
   "cell_type": "markdown",
   "metadata": {},
   "source": [
    "**Tre apici, su più linee**"
   ]
  },
  {
   "cell_type": "code",
   "execution_count": 8,
   "metadata": {},
   "outputs": [],
   "source": [
    "d = '''la mia quarta stringa, \n",
    "in tripli apici\n",
    "può pure essere messa \n",
    "\n",
    "su più linee\n",
    "'''"
   ]
  },
  {
   "cell_type": "code",
   "execution_count": 9,
   "metadata": {},
   "outputs": [
    {
     "name": "stdout",
     "output_type": "stream",
     "text": [
      "la mia quarta stringa, \n",
      "in tripli apici\n",
      "può pure essere messa \n",
      "\n",
      "su più linee\n",
      "\n"
     ]
    }
   ],
   "source": [
    "print(d)"
   ]
  },
  {
   "cell_type": "markdown",
   "metadata": {},
   "source": [
    "## Stampare - le celle\n",
    "\n",
    "Per stampare una stringa possiamo usare la funzione `print`:"
   ]
  },
  {
   "cell_type": "code",
   "execution_count": 10,
   "metadata": {},
   "outputs": [
    {
     "name": "stdout",
     "output_type": "stream",
     "text": [
      "ciao\n"
     ]
    }
   ],
   "source": [
    "print('ciao')"
   ]
  },
  {
   "cell_type": "markdown",
   "metadata": {},
   "source": [
    "Notare che nella stampa _non_ sono riportati gli apici.\n",
    "\n",
    "Se invece scriviamo direttamente la stringa senza la `print`, vedremo gli apici: "
   ]
  },
  {
   "cell_type": "code",
   "execution_count": 11,
   "metadata": {},
   "outputs": [
    {
     "data": {
      "text/plain": [
       "'ciao'"
      ]
     },
     "execution_count": 11,
     "metadata": {},
     "output_type": "execute_result"
    }
   ],
   "source": [
    "'ciao'"
   ]
  },
  {
   "cell_type": "markdown",
   "metadata": {},
   "source": [
    "Cosa succede se scriviamo la stringa coi doppi apici?"
   ]
  },
  {
   "cell_type": "code",
   "execution_count": 12,
   "metadata": {},
   "outputs": [
    {
     "data": {
      "text/plain": [
       "'ciao'"
      ]
     },
     "execution_count": 12,
     "metadata": {},
     "output_type": "execute_result"
    }
   ],
   "source": [
    "\"ciao\""
   ]
  },
  {
   "cell_type": "markdown",
   "metadata": {},
   "source": [
    "Vediamo che di default Jupyter la mostra con gli apici singoli"
   ]
  },
  {
   "cell_type": "markdown",
   "metadata": {},
   "source": [
    "Lo stesso discorso si applica se assegnamo una stringa a una variabile:"
   ]
  },
  {
   "cell_type": "code",
   "execution_count": 13,
   "metadata": {},
   "outputs": [],
   "source": [
    "x = 'ciao'"
   ]
  },
  {
   "cell_type": "code",
   "execution_count": 14,
   "metadata": {},
   "outputs": [
    {
     "name": "stdout",
     "output_type": "stream",
     "text": [
      "ciao\n"
     ]
    }
   ],
   "source": [
    "print(x)"
   ]
  },
  {
   "cell_type": "code",
   "execution_count": 15,
   "metadata": {},
   "outputs": [
    {
     "data": {
      "text/plain": [
       "'ciao'"
      ]
     },
     "execution_count": 15,
     "metadata": {},
     "output_type": "execute_result"
    }
   ],
   "source": [
    "x"
   ]
  },
  {
   "cell_type": "code",
   "execution_count": 16,
   "metadata": {},
   "outputs": [],
   "source": [
    "y = \"ciao\""
   ]
  },
  {
   "cell_type": "code",
   "execution_count": 17,
   "metadata": {},
   "outputs": [
    {
     "name": "stdout",
     "output_type": "stream",
     "text": [
      "ciao\n"
     ]
    }
   ],
   "source": [
    "print(y)"
   ]
  },
  {
   "cell_type": "code",
   "execution_count": 18,
   "metadata": {},
   "outputs": [
    {
     "data": {
      "text/plain": [
       "'ciao'"
      ]
     },
     "execution_count": 18,
     "metadata": {},
     "output_type": "execute_result"
    }
   ],
   "source": [
    "y"
   ]
  },
  {
   "cell_type": "markdown",
   "metadata": {},
   "source": [
    "## La stringa vuota\n",
    "\n",
    "La stringa di lunghezza zero si rappresenta con due doppie virgolette `\"\"` o due apici singoli. \n",
    "\n",
    "Nota che se anche scriviamo due doppie virgolette, Jupyter la mostra che inizia e finisce con un apice solo:"
   ]
  },
  {
   "cell_type": "code",
   "execution_count": 19,
   "metadata": {},
   "outputs": [
    {
     "data": {
      "text/plain": [
       "''"
      ]
     },
     "execution_count": 19,
     "metadata": {},
     "output_type": "execute_result"
    }
   ],
   "source": [
    "\"\""
   ]
  },
  {
   "cell_type": "markdown",
   "metadata": {},
   "source": [
    "Lo stesso vale se associamo una stringa vuota ad una variabile:"
   ]
  },
  {
   "cell_type": "code",
   "execution_count": 20,
   "metadata": {},
   "outputs": [],
   "source": [
    "x = \"\""
   ]
  },
  {
   "cell_type": "code",
   "execution_count": 21,
   "metadata": {},
   "outputs": [
    {
     "data": {
      "text/plain": [
       "''"
      ]
     },
     "execution_count": 21,
     "metadata": {},
     "output_type": "execute_result"
    }
   ],
   "source": [
    "x"
   ]
  },
  {
   "cell_type": "markdown",
   "metadata": {},
   "source": [
    "Nota anche che se chiediamo a Jupyter di stampare con la `print`, non vedremo nulla:"
   ]
  },
  {
   "cell_type": "code",
   "execution_count": 22,
   "metadata": {},
   "outputs": [
    {
     "name": "stdout",
     "output_type": "stream",
     "text": [
      "\n"
     ]
    }
   ],
   "source": [
    "print(\"\")"
   ]
  },
  {
   "cell_type": "code",
   "execution_count": 23,
   "metadata": {},
   "outputs": [
    {
     "name": "stdout",
     "output_type": "stream",
     "text": [
      "\n"
     ]
    }
   ],
   "source": [
    "print('')"
   ]
  },
  {
   "cell_type": "markdown",
   "metadata": {},
   "source": [
    "## Stampare più stringhe\n",
    "\n",
    "Per stampare più stringhe su una linea ci sono diversi modi, cominciamo dal più semplice con la `print`"
   ]
  },
  {
   "cell_type": "code",
   "execution_count": 24,
   "metadata": {},
   "outputs": [
    {
     "name": "stdout",
     "output_type": "stream",
     "text": [
      "ciao Python\n"
     ]
    }
   ],
   "source": [
    "x = \"ciao\"\n",
    "y = \"Python\"\n",
    "\n",
    "print(x,y)   # nota che nella stampa Python ha inserito uno spazio"
   ]
  },
  {
   "cell_type": "markdown",
   "metadata": {},
   "source": [
    "Alla `print` possiamo aggiungere quanti parametri vogliamo, e possono anche essere mischiati con altri tipi come i numeri:"
   ]
  },
  {
   "cell_type": "code",
   "execution_count": 25,
   "metadata": {},
   "outputs": [
    {
     "name": "stdout",
     "output_type": "stream",
     "text": [
      "ciao Python 3\n"
     ]
    }
   ],
   "source": [
    "x = \"ciao\"\n",
    "y = \"Python\"\n",
    "z = 3\n",
    "\n",
    "print(x,y,z)"
   ]
  },
  {
   "cell_type": "markdown",
   "metadata": {},
   "source": [
    "## Lunghezza di una stringa\n",
    "\n",
    "Per ottenere la lunghezza di una stringa (o in genere di qualunque sequenza), possiamo usare la funzione `len`:"
   ]
  },
  {
   "cell_type": "code",
   "execution_count": 26,
   "metadata": {},
   "outputs": [
    {
     "data": {
      "text/plain": [
       "4"
      ]
     },
     "execution_count": 26,
     "metadata": {},
     "output_type": "execute_result"
    }
   ],
   "source": [
    "len(\"ciao\")"
   ]
  },
  {
   "cell_type": "code",
   "execution_count": 27,
   "metadata": {},
   "outputs": [
    {
     "data": {
      "text/plain": [
       "0"
      ]
     },
     "execution_count": 27,
     "metadata": {},
     "output_type": "execute_result"
    }
   ],
   "source": [
    "len(\"\")   # stringa vuota"
   ]
  },
  {
   "cell_type": "code",
   "execution_count": 28,
   "metadata": {},
   "outputs": [
    {
     "data": {
      "text/plain": [
       "0"
      ]
     },
     "execution_count": 28,
     "metadata": {},
     "output_type": "execute_result"
    }
   ],
   "source": [
    "len('')   # stringa vuota"
   ]
  },
  {
   "cell_type": "markdown",
   "metadata": {},
   "source": [
    "**DOMANDA**: Possiamo scrivere una cosa del genere? \n",
    "\n",
    "```python\n",
    "\"len\"(\"ciao\")\n",
    "```"
   ]
  },
  {
   "cell_type": "raw",
   "id": "3a2cfdf9",
   "metadata": {
    "format": "text/html"
   },
   "source": [
    "<a  class=\"jupman-sol jupman-sol-toggler\" \n",
    " onclick=\"jupman.toggleSolution(this);\" \n",
    " data-jupman-show=\"Mostra risposta\" data-jupman-hide=\"Nascondi\">Mostra risposta</a><div class=\"jupman-sol jupman-sol-question\" style=\"display:none\">  "
   ]
  },
  {
   "cell_type": "markdown",
   "metadata": {},
   "source": [
    "**RISPOSTA**: no, `\"len\"` tra virgolette verrà interpretato come una stringa, non come una funzione, e quindi Python si lamenterà dicendoci che non possiamo applicare una stringa ad un'altra stringa. Prova a vedere che errore viene fuori qua riscrivendo l'espressione qua sotto."
   ]
  },
  {
   "cell_type": "raw",
   "id": "769a984b",
   "metadata": {
    "format": "text/html"
   },
   "source": [
    "</div>"
   ]
  },
  {
   "cell_type": "raw",
   "id": "825ecad1",
   "metadata": {
    "format": "text/html"
   },
   "source": [
    "<a  class=\"jupman-sol jupman-sol-toggler\" \n",
    " onclick=\"jupman.toggleSolution(this);\" \n",
    " data-jupman-show=\"Mostra soluzione\" data-jupman-hide=\"Nascondi\">Mostra soluzione</a><div class=\"jupman-sol jupman-sol-code\" style=\"display:none\">  "
   ]
  },
  {
   "cell_type": "code",
   "execution_count": 29,
   "metadata": {},
   "outputs": [],
   "source": [
    "# scrivi qui\n",
    "\n",
    "#\"len\"(\"ciao\")"
   ]
  },
  {
   "cell_type": "raw",
   "id": "df36951c",
   "metadata": {
    "format": "text/html"
   },
   "source": [
    "</div>"
   ]
  },
  {
   "cell_type": "code",
   "execution_count": 29,
   "metadata": {},
   "outputs": [],
   "source": [
    "# scrivi qui\n",
    "\n"
   ]
  },
  {
   "cell_type": "markdown",
   "metadata": {},
   "source": [
    "**DOMANDA**: possiamo scrivere una cosa del genere? Cosa produce? un errore? un numero ? Quale?\n",
    "\n",
    "```python\n",
    "len(\"len('ciao')\")\n",
    "```"
   ]
  },
  {
   "cell_type": "raw",
   "id": "7c35e0d9",
   "metadata": {
    "format": "text/html"
   },
   "source": [
    "<a  class=\"jupman-sol jupman-sol-toggler\" \n",
    " onclick=\"jupman.toggleSolution(this);\" \n",
    " data-jupman-show=\"Mostra risposta\" data-jupman-hide=\"Nascondi\">Mostra risposta</a><div class=\"jupman-sol jupman-sol-question\" style=\"display:none\">  "
   ]
  },
  {
   "cell_type": "markdown",
   "metadata": {},
   "source": [
    "**RISPOSTA**: restituisce il numero `11`: mettendo il codice Python  `len('ciao')` tra doppie virgolette, è diventato una stringa come tutte le altre. Quindi scrivendo `len(\"len('ciao')\")` andiamo a contare quanto è lunga la stringa `\"len('ciao')\"`, cioè 11."
   ]
  },
  {
   "cell_type": "raw",
   "id": "2eea344a",
   "metadata": {
    "format": "text/html"
   },
   "source": [
    "</div>"
   ]
  },
  {
   "cell_type": "markdown",
   "metadata": {},
   "source": [
    "**DOMANDA**: Cosa otteniamo se scriviamo così:\n",
    "\n",
    "```python\n",
    "\n",
    "len((((((\"ciao\"))))))\n",
    "```\n",
    "\n",
    "1. un errore\n",
    "2. la lunghezza della stringa\n",
    "3. qualcos'altro"
   ]
  },
  {
   "cell_type": "raw",
   "id": "30412279",
   "metadata": {
    "format": "text/html"
   },
   "source": [
    "<a  class=\"jupman-sol jupman-sol-toggler\" \n",
    " onclick=\"jupman.toggleSolution(this);\" \n",
    " data-jupman-show=\"Mostra risposta\" data-jupman-hide=\"Nascondi\">Mostra risposta</a><div class=\"jupman-sol jupman-sol-question\" style=\"display:none\">  "
   ]
  },
  {
   "cell_type": "markdown",
   "metadata": {},
   "source": [
    "**RISPOSTA**: La 2: `\"ciao\"` è una espressione, come tale possiamo racchiuderla in quante parentesi tonde vogliamo."
   ]
  },
  {
   "cell_type": "raw",
   "id": "bde57646",
   "metadata": {
    "format": "text/html"
   },
   "source": [
    "</div>"
   ]
  },
  {
   "cell_type": "markdown",
   "metadata": {},
   "source": [
    "**Contare sequenze di escape**: Nota che alcune sequenze particolari dette di _escape_ come per esempio `\\t` occupano meno spazi di quello che sembra (con `len` contano come 1), ma stampate ne occupano addirittura di più di 2 !! \n",
    "\n",
    "Vediamo un esempio, nel prossimo paragrafo scenderemo nei dettagli:"
   ]
  },
  {
   "cell_type": "code",
   "execution_count": 30,
   "metadata": {},
   "outputs": [
    {
     "data": {
      "text/plain": [
       "3"
      ]
     },
     "execution_count": 30,
     "metadata": {},
     "output_type": "execute_result"
    }
   ],
   "source": [
    "len('a\\tb')"
   ]
  },
  {
   "cell_type": "code",
   "execution_count": 31,
   "metadata": {},
   "outputs": [
    {
     "name": "stdout",
     "output_type": "stream",
     "text": [
      "a\tb\n"
     ]
    }
   ],
   "source": [
    "print('a\\tb')"
   ]
  },
  {
   "cell_type": "markdown",
   "metadata": {},
   "source": [
    "\n",
    "## Stampare - sequenze di escape\n",
    "\n",
    "Alcune sequenze di caratteri dette _sequenze di escape_ sono speciali perchè invece di mostrare caratteri, forzano la stampa a fare cose particolari come andare a capo o inserire spazi extra. Queste sequenze sono sempre precedute da il carattere di _backslash_ `\\`:\n",
    "\n",
    "|Descrizione|Sequenza di _escape_| \n",
    "|-----------|---------------------|\n",
    "|Ritorno a capo (_linefeed_)|`\\n`|\n",
    "|Tabulazione (_ASCII tab_)| `\\t`| \n",
    "\n",
    "\n",
    "### Esempio - ritorno a capo"
   ]
  },
  {
   "cell_type": "code",
   "execution_count": 32,
   "metadata": {},
   "outputs": [
    {
     "name": "stdout",
     "output_type": "stream",
     "text": [
      "ciao\n",
      "mondo\n"
     ]
    }
   ],
   "source": [
    "print(\"ciao\\nmondo\")"
   ]
  },
  {
   "cell_type": "markdown",
   "metadata": {},
   "source": [
    "Notare che il ritorno a capo si verifica SOLO quando stampiamo con `print`, se invece immettiamo direttamente la stringa nella cella la vediamo tale e quale: "
   ]
  },
  {
   "cell_type": "code",
   "execution_count": 33,
   "metadata": {},
   "outputs": [
    {
     "data": {
      "text/plain": [
       "'ciao\\nmondo'"
      ]
     },
     "execution_count": 33,
     "metadata": {},
     "output_type": "execute_result"
    }
   ],
   "source": [
    "\"ciao\\nmondo\""
   ]
  },
  {
   "cell_type": "markdown",
   "metadata": {},
   "source": [
    "In una stringa si possono mettere quante sequenze si vuole:"
   ]
  },
  {
   "cell_type": "code",
   "execution_count": 34,
   "metadata": {},
   "outputs": [
    {
     "name": "stdout",
     "output_type": "stream",
     "text": [
      "La nebbia a gl'irti colli\n",
      "piovigginando sale,\n",
      "e sotto il maestrale\n",
      "urla e biancheggia il mar;\n"
     ]
    }
   ],
   "source": [
    "print(\"La nebbia a gl'irti colli\\npiovigginando sale,\\ne sotto il maestrale\\nurla e biancheggia il mar;\")"
   ]
  },
  {
   "cell_type": "markdown",
   "metadata": {},
   "source": [
    "### Esempio - tabulazione"
   ]
  },
  {
   "cell_type": "code",
   "execution_count": 35,
   "metadata": {},
   "outputs": [
    {
     "name": "stdout",
     "output_type": "stream",
     "text": [
      "ciao\tmondo\n"
     ]
    }
   ],
   "source": [
    "print(\"ciao\\tmondo\")"
   ]
  },
  {
   "cell_type": "code",
   "execution_count": 36,
   "metadata": {},
   "outputs": [
    {
     "name": "stdout",
     "output_type": "stream",
     "text": [
      "ciao\tmondo\tcon\ttante\ttab\n"
     ]
    }
   ],
   "source": [
    "print(\"ciao\\tmondo\\tcon\\ttante\\ttab\")"
   ]
  },
  {
   "cell_type": "markdown",
   "metadata": {},
   "source": [
    "**ESERCIZIO**: Visto che le _sequenze di escape_ sono speciali, ci si può chiedere quanto siano lunghe. Usa la funzione `len` per stampare la lunghezza delle stringhe. Noti qualcosa di strano?\n",
    "\n",
    "* `'ab\\ncd'`\n",
    "* `'ab\\tcd'`"
   ]
  },
  {
   "cell_type": "code",
   "execution_count": 37,
   "metadata": {},
   "outputs": [],
   "source": [
    "# scrivi qui\n",
    "\n"
   ]
  },
  {
   "cell_type": "markdown",
   "metadata": {},
   "source": [
    "**ESERCIZIO**: Prova a selezionare la sequenza di caratteri stampata nella precedente cella. Cosa ottieni ?  Una sequenza di spazi, oppure un carattere singolo di tabulazione?  Nota che questo può variare a seconda del programma che ha effettivamente stampato la stringa."
   ]
  },
  {
   "cell_type": "markdown",
   "metadata": {},
   "source": [
    "**ESERCIZIO**: trova UNA SOLA stringa che stampata con `print` venga mostrata come la seguente.\n",
    "\n",
    "- USA SOLO combinazioni di `\\t` e `\\n`\n",
    "- NON usare spazi\n",
    "- inizia e concludi la stringa con apice singolo\n",
    "\n",
    "```\n",
    "Questa\tè\n",
    "una\n",
    "\n",
    "sfida\tapparentemente\t\tsemplice\n",
    "```\n"
   ]
  },
  {
   "cell_type": "raw",
   "id": "0b2efa0e",
   "metadata": {
    "format": "text/html"
   },
   "source": [
    "<a  class=\"jupman-sol jupman-sol-toggler\" \n",
    " onclick=\"jupman.toggleSolution(this);\" \n",
    " data-jupman-show=\"Mostra soluzione\" data-jupman-hide=\"Nascondi\">Mostra soluzione</a><div class=\"jupman-sol jupman-sol-code\" style=\"display:none\">  "
   ]
  },
  {
   "cell_type": "code",
   "execution_count": 38,
   "metadata": {},
   "outputs": [
    {
     "name": "stdout",
     "output_type": "stream",
     "text": [
      "Questa\tè\n",
      "una\n",
      "\n",
      "sfida\tapparentemente\t\tsemplice\n"
     ]
    }
   ],
   "source": [
    "# scrivi qui\n",
    "\n",
    "print('Questa\\tè\\nuna\\n\\nsfida\\tapparentemente\\t\\tsemplice')"
   ]
  },
  {
   "cell_type": "raw",
   "id": "8567e542",
   "metadata": {
    "format": "text/html"
   },
   "source": [
    "</div>"
   ]
  },
  {
   "cell_type": "code",
   "execution_count": 38,
   "metadata": {},
   "outputs": [
    {
     "name": "stdout",
     "output_type": "stream",
     "text": [
      "Questa\tè\n",
      "una\n",
      "\n",
      "sfida\tapparentemente\t\tsemplice\n"
     ]
    }
   ],
   "source": [
    "# scrivi qui\n",
    "\n"
   ]
  },
  {
   "cell_type": "markdown",
   "metadata": {},
   "source": [
    "**ESERCIZIO**: Prova a trovare una stringa che stampata con `print` venga mostrata così, SENZA usare nessuno spazio, SENZA triple apici e usando SOLO combinazioni di `\\t` e `\\n` !!\n",
    "\n",
    "```\n",
    "At\tte\n",
    "n\ttis\n",
    "simame\n",
    "\n",
    "n\n",
    "te\n",
    "```"
   ]
  },
  {
   "cell_type": "raw",
   "id": "9a872077",
   "metadata": {
    "format": "text/html"
   },
   "source": [
    "<a  class=\"jupman-sol jupman-sol-toggler\" \n",
    " onclick=\"jupman.toggleSolution(this);\" \n",
    " data-jupman-show=\"Mostra soluzione\" data-jupman-hide=\"Nascondi\">Mostra soluzione</a><div class=\"jupman-sol jupman-sol-code\" style=\"display:none\">  "
   ]
  },
  {
   "cell_type": "code",
   "execution_count": 39,
   "metadata": {},
   "outputs": [
    {
     "name": "stdout",
     "output_type": "stream",
     "text": [
      "At\tte\n",
      "n\ttis\n",
      "simame\n",
      "\n",
      "n\n",
      "te\n"
     ]
    }
   ],
   "source": [
    "# scrivi qui\n",
    "print(\"At\\tte\\nn\\ttis\\nsimame\\n\\nn\\nte\")"
   ]
  },
  {
   "cell_type": "raw",
   "id": "af672f16",
   "metadata": {
    "format": "text/html"
   },
   "source": [
    "</div>"
   ]
  },
  {
   "cell_type": "code",
   "execution_count": 39,
   "metadata": {},
   "outputs": [
    {
     "name": "stdout",
     "output_type": "stream",
     "text": [
      "At\tte\n",
      "n\ttis\n",
      "simame\n",
      "\n",
      "n\n",
      "te\n"
     ]
    }
   ],
   "source": [
    "# scrivi qui\n",
    "\n"
   ]
  },
  {
   "cell_type": "markdown",
   "metadata": {},
   "source": [
    "**Caratteri speciali**: Per mettere caratteri speciali come il singolo apice `'` o le doppie virgolette `\"` , dobbiamo creare una cosiddetta _sequenza di escape_, cioè prima scriviamo il carattere _backslash_ `\\` e poi lo facciamo seguire dal carattere speciale che ci interessa: \n",
    "\n",
    "|Descrizione|Sequenza di _escape_|Risultato a stampa|\n",
    "|--------|-----|-----------|\n",
    "|Apice singolo|`\\'`|`'`|\n",
    "|Doppio apice|`\\\"`| `\"`|\n",
    "|Backslash|`\\\\` | `\\`|\n"
   ]
  },
  {
   "cell_type": "markdown",
   "metadata": {},
   "source": [
    "**Esempio**:\n",
    "\n",
    "Stampiamo una stringa contenente un apice singolo `'` e una doppia virgoletta `\"`"
   ]
  },
  {
   "cell_type": "code",
   "execution_count": 40,
   "metadata": {},
   "outputs": [],
   "source": [
    "stringa = \"Così metto \\'apici\\' e \\\"doppie virgolette\\\" nelle stringhe\""
   ]
  },
  {
   "cell_type": "code",
   "execution_count": 41,
   "metadata": {},
   "outputs": [
    {
     "name": "stdout",
     "output_type": "stream",
     "text": [
      "Così metto 'apici' e \"doppie virgolette\" nelle stringhe\n"
     ]
    }
   ],
   "source": [
    "print(stringa)"
   ]
  },
  {
   "cell_type": "markdown",
   "metadata": {},
   "source": [
    "Se una stringa inizia con doppi apici, all'interno possiamo usare liberamente singoli apici, anche senza _backslash_ `\\`:"
   ]
  },
  {
   "cell_type": "code",
   "execution_count": 42,
   "metadata": {},
   "outputs": [
    {
     "name": "stdout",
     "output_type": "stream",
     "text": [
      "Non c'è problema\n"
     ]
    }
   ],
   "source": [
    "print(\"Non c'è problema\")"
   ]
  },
  {
   "cell_type": "markdown",
   "metadata": {},
   "source": [
    "Se inizia con singoli apici, possiamo liberamente usare doppie virgolette anche senza _backslash_ `\\`:"
   ]
  },
  {
   "cell_type": "code",
   "execution_count": 43,
   "metadata": {},
   "outputs": [
    {
     "name": "stdout",
     "output_type": "stream",
     "text": [
      "Così è \"se vi pare\"\n"
     ]
    }
   ],
   "source": [
    "print('Così è \"se vi pare\"')"
   ]
  },
  {
   "cell_type": "markdown",
   "metadata": {},
   "source": [
    "**ESERCIZIO**: Trova una stringa da stampare con la `print` che stampata mostri la sequenza seguente\n",
    "\n",
    "* la stringa DEVE iniziare e finire con singoli apici `'`\n",
    "\n",
    "```\n",
    "Questo \"genio\" delle stringhe vuole  /\\\\/ fregarmi \\//\\ con esercizi atroci O_o'\n",
    "```\n"
   ]
  },
  {
   "cell_type": "raw",
   "id": "029c1f51",
   "metadata": {
    "format": "text/html"
   },
   "source": [
    "<a  class=\"jupman-sol jupman-sol-toggler\" \n",
    " onclick=\"jupman.toggleSolution(this);\" \n",
    " data-jupman-show=\"Mostra soluzione\" data-jupman-hide=\"Nascondi\">Mostra soluzione</a><div class=\"jupman-sol jupman-sol-code\" style=\"display:none\">  "
   ]
  },
  {
   "cell_type": "code",
   "execution_count": 44,
   "metadata": {},
   "outputs": [
    {
     "name": "stdout",
     "output_type": "stream",
     "text": [
      "Questo \"genio\" delle stringhe vuole  /\\\\/ fregarmi \\//\\ con esercizi atroci O_o'\n"
     ]
    }
   ],
   "source": [
    "# scrivi qui\n",
    "\n",
    "print('Questo \"genio\" delle stringhe vuole  /\\\\\\\\/ fregarmi \\\\//\\\\ con esercizi atroci O_o\\'')"
   ]
  },
  {
   "cell_type": "raw",
   "id": "633c0328",
   "metadata": {
    "format": "text/html"
   },
   "source": [
    "</div>"
   ]
  },
  {
   "cell_type": "code",
   "execution_count": 44,
   "metadata": {},
   "outputs": [
    {
     "name": "stdout",
     "output_type": "stream",
     "text": [
      "Questo \"genio\" delle stringhe vuole  /\\\\/ fregarmi \\//\\ con esercizi atroci O_o'\n"
     ]
    }
   ],
   "source": [
    "# scrivi qui\n",
    "\n"
   ]
  },
  {
   "cell_type": "markdown",
   "metadata": {},
   "source": [
    "**Caratteri Unicode**: Quando abbiamo bisogno di caratteri particolari come ✪ che non sono disponibili sulla tastiera, possiamo rivolgerci ai caratteri Unicode. [Ce ne sono tantissimi](http://www.fileformat.info/info/unicode/char/a.htm), e spesso per metterli in Python 3 è sufficiente un copia e incolla. Per esempio, andando su [questa pagina](https://www.fileformat.info/info/unicode/char/272a/index.htm) possiamo copia incollare il carattere ✪. In altri casi il carattere può essere così speciale da non essere nemmeno correttamente visualizzato, in tali situazioni si può usare una sequenza più complessa in formato `\\uxxxx` come questa:\n",
    "\n",
    "|Descrizione|Sequenza di _escape_|Risultato a stampa|\n",
    "|--------|-----|-----------|\n",
    "|Esempio stella in cerchio in formato `\\uxxxx`| `\\u272A`|✪|\n"
   ]
  },
  {
   "cell_type": "markdown",
   "metadata": {},
   "source": [
    "**ESERCIZIO**: Prova a cercare in google _Unicode heart_ e prova a far stampare a Python un cuoricino , sia copia-incollando direttamente il carattere che usando la notazione `\\uxxxx`"
   ]
  },
  {
   "cell_type": "markdown",
   "metadata": {},
   "source": [
    "## Encodings"
   ]
  },
  {
   "cell_type": "markdown",
   "metadata": {},
   "source": [
    "### Caratteri ASCII\n",
    "\n",
    "Quando usi le stringhe nei tuoi programmi quotidiani, tipicamente non hai bisogno di pensare molto a come i caratteri sono fisicamente rappresentati come bit in memoria, ma a volte è importante. La rappresentazione è chiamata _encoding_ e va tenuta in considerazione in particolare quando leggi dati da sorgenti esterne come file e siti web.\n",
    "\n",
    "L'encoding più usato e famoso è lo [ASCII](https://en.wikipedia.org/wiki/ASCII) (American Standard Code for Information Interchange), che offre 127 caselle fatte da caratteri stampabili dall'alfabeto inglese (`a`-`z`, `A`-`Z`, punteggiatura come `.;,!` e caratteri come `(`, `@` ...) e sequenze di controllo (come `\\t`, `\\n`)\n",
    "\n",
    "\n",
    "\n",
    "* Vedi [caratteri stampabili](https://it.wikipedia.org/wiki/ASCII#Stampabili) (Wikipedia)\n",
    "* [Codici di controllo ASCII](https://en.wikipedia.org/wiki/C0_and_C1_control_codes#Basic_ASCII_control_codes)  (Wikipedia)\n",
    "\n",
    "Visto che la tabella originale ASCII manca del supporto per linguaggi non-inglesi (per esempio, non ha le lettere accentate italiane come\n",
    "`è`,`à`, ...), parecchie estensioni sono state sviluppate per supportare altri linguaggi, per esempio vedere la pagina [Extended ASCII](https://it.wikipedia.org/wiki/ASCII_esteso) su Wikipedia. "
   ]
  },
  {
   "cell_type": "markdown",
   "metadata": {},
   "source": [
    "### Caratteri Unicode\n",
    "\n",
    "Quando abbiamo bisogno di caratteri particolari come ✪  che non sono disponibili sulla tastiera, possiamo guardare i caratteri Unicode. [Ce ne sono parecchi](http://www.fileformat.info/info/unicode/char/a.htm), e possiamo spesso usarli in Python 3 semplicemente copia-incollandoli. Per esempio, se vai a [questa pagina](https://www.fileformat.info/info/unicode/char/272a/index.htm) puoi copia-incollare il carattere ✪. In altri casi potrebbe essere così speciale che non può nemmeno essere correttamente visualizzato, perciò in questi casi puoi usare una sequenza più complessa nel formato `\\uxxxx` come questo:\n",
    "\n",
    "|Descrizione|Sequenza di escape|Risultato stampato|\n",
    "|--------|-----|-----------|\n",
    "|Esempio stella in un cerchio nel formato `\\uxxxx`| `\\u272A`|✪|\n"
   ]
  },
  {
   "cell_type": "markdown",
   "metadata": {},
   "source": [
    "**ESERCIZIO**: Cerca su Google _Unicode heart_ e prova a stampare  un cuore in Python, sia copia-incollando direttamente il carattere che usando la notazione `\\uxxxx`"
   ]
  },
  {
   "cell_type": "raw",
   "id": "45941d3c",
   "metadata": {
    "format": "text/html"
   },
   "source": [
    "<a  class=\"jupman-sol jupman-sol-toggler\" \n",
    " onclick=\"jupman.toggleSolution(this);\" \n",
    " data-jupman-show=\"Mostra soluzione\" data-jupman-hide=\"Nascondi\">Mostra soluzione</a><div class=\"jupman-sol jupman-sol-code\" style=\"display:none\">  "
   ]
  },
  {
   "cell_type": "code",
   "execution_count": 45,
   "metadata": {},
   "outputs": [
    {
     "name": "stdout",
     "output_type": "stream",
     "text": [
      "I ♥ Python, con copia e incolla\n",
      "I ♥ Python, anche in formato \\uxxxx\n"
     ]
    }
   ],
   "source": [
    "# scrivi qui\n",
    "\n",
    "print(\"I ♥ Python, con copia e incolla\")\n",
    "print(\"I \\u2665 Python, anche in formato \\\\uxxxx\")\n"
   ]
  },
  {
   "cell_type": "raw",
   "id": "0db89724",
   "metadata": {
    "format": "text/html"
   },
   "source": [
    "</div>"
   ]
  },
  {
   "cell_type": "code",
   "execution_count": 45,
   "metadata": {},
   "outputs": [
    {
     "name": "stdout",
     "output_type": "stream",
     "text": [
      "I ♥ Python, con copia e incolla\n",
      "I ♥ Python, anche in formato \\uxxxx\n"
     ]
    }
   ],
   "source": [
    "# scrivi qui\n",
    "\n"
   ]
  },
  {
   "cell_type": "markdown",
   "metadata": {},
   "source": [
    "\n",
    "**Riferimenti Unicode**: abbiamo solo menzionato Unicode ma\n",
    "può essere un argomento complesso, se avrai mai a che fare con insiemi di caratteri giapponesi o _encodings_ eterogenei trovi qua un paio di riferimenti che dovresti leggere:\n",
    "\n",
    "* prima parte sull'encoding Unicode [dal capitolo Stringhe nel libro  Dive into Python 3](http://gpiancastelli.altervista.org/dip3-it/stringhe.html)\n",
    "* [Documentazione unicode di Python 3](https://docs.python.org/3/howto/unicode.html)"
   ]
  },
  {
   "cell_type": "markdown",
   "metadata": {},
   "source": [
    "\n",
    "## Le stringhe sono immutabili\n",
    "\n",
    "Le stringhe sono oggetti _immutabili_, quindi una volta create non si possono più cambiare. Questo può apparire restrittivo, ma non è poi così tragico, perchè abbiamo comunque a disposizione queste alternative:\n",
    "\n",
    "* generare una nuova stringa a partire da stringhe precedenti\n",
    "* se abbiamo una variabile a cui abbiamo assegnato una stringa, possiamo assegnare un'altra stringa a quella variabile "
   ]
  },
  {
   "cell_type": "markdown",
   "metadata": {},
   "source": [
    "Proviamo a generare una nuova stringa a partire da precedenti, per esempio concatendone due con l'operatore `+`\n",
    "    "
   ]
  },
  {
   "cell_type": "code",
   "execution_count": 46,
   "metadata": {},
   "outputs": [],
   "source": [
    "x = 'ciao'"
   ]
  },
  {
   "cell_type": "code",
   "execution_count": 47,
   "metadata": {},
   "outputs": [],
   "source": [
    "y = x + 'mondo'"
   ]
  },
  {
   "cell_type": "code",
   "execution_count": 48,
   "metadata": {},
   "outputs": [
    {
     "data": {
      "text/plain": [
       "'ciao'"
      ]
     },
     "execution_count": 48,
     "metadata": {},
     "output_type": "execute_result"
    }
   ],
   "source": [
    "x"
   ]
  },
  {
   "cell_type": "code",
   "execution_count": 49,
   "metadata": {},
   "outputs": [
    {
     "data": {
      "text/plain": [
       "'ciaomondo'"
      ]
     },
     "execution_count": 49,
     "metadata": {},
     "output_type": "execute_result"
    }
   ],
   "source": [
    "y"
   ]
  },
  {
   "cell_type": "markdown",
   "metadata": {},
   "source": [
    "L'operazione `+` quando eseguita _tra stringhe_ le attacca creando una NUOVA stringa. Questo significa che l'associazione per `x`  non è affatto cambiata, l'unica vera modifica osservabile è che abbiamo associato la stringa `'ciaomondo` alla variabile `y`. Prova a sincerartene in Python Tutor cliccando ripetutamente sul bottone _Next_:"
   ]
  },
  {
   "cell_type": "code",
   "execution_count": 50,
   "metadata": {},
   "outputs": [],
   "source": [
    "# ATTENZIONE: per usare la funzione jupman.pytut() di seguito, \n",
    "# è necessario eseguire prima questa cella con Shift+Invio\n",
    "\n",
    "# basta eseguirla una volta sola, la trovi presente anche in tutti i fogli nella prima cella\n",
    "\n",
    "import jupman"
   ]
  },
  {
   "cell_type": "code",
   "execution_count": 51,
   "metadata": {},
   "outputs": [
    {
     "name": "stdout",
     "output_type": "stream",
     "text": [
      "ciao\n",
      "ciaomondo\n"
     ]
    },
    {
     "data": {
      "text/html": [
       "\n",
       "        <script src=\"../_static/js/pytutor-embed.bundle.min.js\" type=\"application/javascript\"></script>\n",
       "     \n",
       "        <script id=\"json-jm6c2aae36-838e-4678-86f1-4c0464171be5\" type=\"application/json\" >\n",
       "            {\"code\": \" \\nx = 'ciao'\\ny = x + 'mondo'\\n\\nprint(x)\\nprint(y)\", \"trace\": [{\"line\": 2, \"event\": \"step_line\", \"func_name\": \"<module>\", \"globals\": {}, \"ordered_globals\": [], \"stack_to_render\": [], \"heap\": {}, \"stdout\": \"\"}, {\"line\": 3, \"event\": \"step_line\", \"func_name\": \"<module>\", \"globals\": {\"x\": \"ciao\"}, \"ordered_globals\": [\"x\"], \"stack_to_render\": [], \"heap\": {}, \"stdout\": \"\"}, {\"line\": 5, \"event\": \"step_line\", \"func_name\": \"<module>\", \"globals\": {\"x\": \"ciao\", \"y\": \"ciaomondo\"}, \"ordered_globals\": [\"x\", \"y\"], \"stack_to_render\": [], \"heap\": {}, \"stdout\": \"\"}, {\"line\": 6, \"event\": \"step_line\", \"func_name\": \"<module>\", \"globals\": {\"x\": \"ciao\", \"y\": \"ciaomondo\"}, \"ordered_globals\": [\"x\", \"y\"], \"stack_to_render\": [], \"heap\": {}, \"stdout\": \"ciao\\n\"}, {\"line\": 6, \"event\": \"return\", \"func_name\": \"<module>\", \"globals\": {\"x\": \"ciao\", \"y\": \"ciaomondo\"}, \"ordered_globals\": [\"x\", \"y\"], \"stack_to_render\": [], \"heap\": {}, \"stdout\": \"ciao\\nciaomondo\\n\"}]}\n",
       "        </script>\n",
       "        <div id=\"jm6c2aae36-838e-4678-86f1-4c0464171be5\" class=\"pytutorVisualizer\"> </div>\n",
       " \n",
       "        <style>\n",
       "        .vizLayoutTd {\n",
       "            background-color: #fff !important;\n",
       "        }\n",
       "\n",
       "        #pyStdout {            \n",
       "            min-height:25px;\n",
       "        }\n",
       "\n",
       "        /* 'Edit this code' link, hiding because replaces browser tab !!!*/\n",
       "        #editCodeLinkDiv {\n",
       "            display:none;  \n",
       "        }\n",
       "        </style>   \n",
       "                            \n",
       "        <script>\n",
       "        (function(){\n",
       "\n",
       "            var trace = JSON.parse(document.getElementById('json-jm6c2aae36-838e-4678-86f1-4c0464171be5').innerHTML);                                        \n",
       "            // NOTE 1: id without #\n",
       "            // NOTE 2 - maybe there are more predictable ways, but this will work anyway\n",
       "            //        - id should be number\n",
       "            visualizerIdOverride = Math.trunc(Math.random() * 100000000000)\n",
       "            addVisualizerToPage(trace, 'jm6c2aae36-838e-4678-86f1-4c0464171be5',{'embeddedMode' : false,\n",
       "                                             'visualizerIdOverride':visualizerIdOverride})  \n",
       "            \n",
       "            \n",
       "            // set overflow for pytuts - need to do in python as css \n",
       "            // does not allow parent selection\n",
       "            var pytuts = $('.pytutorVisualizer')\n",
       "            pytuts.closest('div.output_html.rendered_html.output_result')\n",
       "                    .css('overflow-x', 'visible')\n",
       "        \n",
       "            //pytuts.closest('div.output_html.rendered_html.output_result')\n",
       "            //      .css('background-color','red')                \n",
       "            \n",
       "        })()\n",
       "        </script>\n",
       "                \n",
       "                "
      ],
      "text/plain": [
       "<IPython.core.display.HTML object>"
      ]
     },
     "execution_count": 51,
     "metadata": {},
     "output_type": "execute_result"
    }
   ],
   "source": [
    "x = 'ciao'\n",
    "y = x + 'mondo'\n",
    "\n",
    "print(x)\n",
    "print(y)\n",
    "\n",
    "jupman.pytut()"
   ]
  },
  {
   "cell_type": "markdown",
   "metadata": {},
   "source": [
    "### Riassegnare variabili\n",
    "\n",
    "Altre variazioni allo stato della memoria possono essere ottenute riassegnando le variabili, per esempio: "
   ]
  },
  {
   "cell_type": "code",
   "execution_count": 52,
   "metadata": {},
   "outputs": [],
   "source": [
    "x = 'ciao'"
   ]
  },
  {
   "cell_type": "code",
   "execution_count": 53,
   "metadata": {},
   "outputs": [],
   "source": [
    "y = 'mondo'"
   ]
  },
  {
   "cell_type": "code",
   "execution_count": 54,
   "metadata": {},
   "outputs": [],
   "source": [
    "x = y        # assegnamo a x la stessa stringa contenuta in y"
   ]
  },
  {
   "cell_type": "code",
   "execution_count": 55,
   "metadata": {},
   "outputs": [
    {
     "data": {
      "text/plain": [
       "'mondo'"
      ]
     },
     "execution_count": 55,
     "metadata": {},
     "output_type": "execute_result"
    }
   ],
   "source": [
    "x"
   ]
  },
  {
   "cell_type": "code",
   "execution_count": 56,
   "metadata": {},
   "outputs": [
    {
     "data": {
      "text/plain": [
       "'mondo'"
      ]
     },
     "execution_count": 56,
     "metadata": {},
     "output_type": "execute_result"
    }
   ],
   "source": [
    "y"
   ]
  },
  {
   "cell_type": "markdown",
   "metadata": {},
   "source": [
    "Se una stringa che è stata creata non risulta assegnata a nessuna variabile, Python si occuperà automaticamente di eliminarla dalla memoria. Nel caso qui sopra, la stringa `'ciao'` in sè non è mai cambiata, semplicemente a un certo punto si è ritrovata non più assegnata ad alcuna variabile, e perciò Python ha provveduto ad eliminarla dalla memoria. Guarda cosa succede in Python Tutor:"
   ]
  },
  {
   "cell_type": "code",
   "execution_count": 57,
   "metadata": {},
   "outputs": [
    {
     "data": {
      "text/html": [
       "\n",
       "        <script src=\"../_static/js/pytutor-embed.bundle.min.js\" type=\"application/javascript\"></script>\n",
       "     \n",
       "        <script id=\"json-jm5ff228fa-6da1-430e-a6d4-4918130ddea4\" type=\"application/json\" >\n",
       "            {\"code\": \" \\nx = 'ciao'\\ny = 'mondo'\\nx = y\", \"trace\": [{\"line\": 2, \"event\": \"step_line\", \"func_name\": \"<module>\", \"globals\": {}, \"ordered_globals\": [], \"stack_to_render\": [], \"heap\": {}, \"stdout\": \"\"}, {\"line\": 3, \"event\": \"step_line\", \"func_name\": \"<module>\", \"globals\": {\"x\": \"ciao\"}, \"ordered_globals\": [\"x\"], \"stack_to_render\": [], \"heap\": {}, \"stdout\": \"\"}, {\"line\": 4, \"event\": \"step_line\", \"func_name\": \"<module>\", \"globals\": {\"x\": \"ciao\", \"y\": \"mondo\"}, \"ordered_globals\": [\"x\", \"y\"], \"stack_to_render\": [], \"heap\": {}, \"stdout\": \"\"}, {\"line\": 4, \"event\": \"return\", \"func_name\": \"<module>\", \"globals\": {\"x\": \"mondo\", \"y\": \"mondo\"}, \"ordered_globals\": [\"x\", \"y\"], \"stack_to_render\": [], \"heap\": {}, \"stdout\": \"\"}]}\n",
       "        </script>\n",
       "        <div id=\"jm5ff228fa-6da1-430e-a6d4-4918130ddea4\" class=\"pytutorVisualizer\"> </div>\n",
       " \n",
       "        <style>\n",
       "        .vizLayoutTd {\n",
       "            background-color: #fff !important;\n",
       "        }\n",
       "\n",
       "        #pyStdout {            \n",
       "            min-height:25px;\n",
       "        }\n",
       "\n",
       "        /* 'Edit this code' link, hiding because replaces browser tab !!!*/\n",
       "        #editCodeLinkDiv {\n",
       "            display:none;  \n",
       "        }\n",
       "        </style>   \n",
       "                            \n",
       "        <script>\n",
       "        (function(){\n",
       "\n",
       "            var trace = JSON.parse(document.getElementById('json-jm5ff228fa-6da1-430e-a6d4-4918130ddea4').innerHTML);                                        \n",
       "            // NOTE 1: id without #\n",
       "            // NOTE 2 - maybe there are more predictable ways, but this will work anyway\n",
       "            //        - id should be number\n",
       "            visualizerIdOverride = Math.trunc(Math.random() * 100000000000)\n",
       "            addVisualizerToPage(trace, 'jm5ff228fa-6da1-430e-a6d4-4918130ddea4',{'embeddedMode' : false,\n",
       "                                             'visualizerIdOverride':visualizerIdOverride})  \n",
       "            \n",
       "            \n",
       "            // set overflow for pytuts - need to do in python as css \n",
       "            // does not allow parent selection\n",
       "            var pytuts = $('.pytutorVisualizer')\n",
       "            pytuts.closest('div.output_html.rendered_html.output_result')\n",
       "                    .css('overflow-x', 'visible')\n",
       "        \n",
       "            //pytuts.closest('div.output_html.rendered_html.output_result')\n",
       "            //      .css('background-color','red')                \n",
       "            \n",
       "        })()\n",
       "        </script>\n",
       "                \n",
       "                "
      ],
      "text/plain": [
       "<IPython.core.display.HTML object>"
      ]
     },
     "execution_count": 57,
     "metadata": {},
     "output_type": "execute_result"
    }
   ],
   "source": [
    "x = 'ciao'\n",
    "y = 'mondo'\n",
    "x = y\n",
    "\n",
    "jupman.pytut()"
   ]
  },
  {
   "cell_type": "markdown",
   "metadata": {},
   "source": [
    "### Riassegnare una variabile a sè stessa\n",
    "\n",
    "Possiamo chiederci cosa succede quando scriviamo qualcosa del genere:"
   ]
  },
  {
   "cell_type": "code",
   "execution_count": 58,
   "metadata": {},
   "outputs": [],
   "source": [
    "x = 'ciao'\n",
    "\n",
    "x = x"
   ]
  },
  {
   "cell_type": "code",
   "execution_count": 59,
   "metadata": {},
   "outputs": [
    {
     "name": "stdout",
     "output_type": "stream",
     "text": [
      "ciao\n"
     ]
    }
   ],
   "source": [
    "print(x)"
   ]
  },
  {
   "cell_type": "markdown",
   "metadata": {},
   "source": [
    "Non è successo molto, l'assegnazione di `x` è rimasta inalterata.\n",
    "\n",
    "Ma cosa succede se a destra dell'`=` mettiamo una formula più complessa?"
   ]
  },
  {
   "cell_type": "code",
   "execution_count": 60,
   "metadata": {},
   "outputs": [
    {
     "name": "stdout",
     "output_type": "stream",
     "text": [
      "ciaomondo\n"
     ]
    }
   ],
   "source": [
    "x = 'ciao'\n",
    "\n",
    "x = x + 'mondo'\n",
    "\n",
    "print(x)"
   ]
  },
  {
   "cell_type": "markdown",
   "metadata": {},
   "source": [
    "Cerchiamo di capire bene che è successo. \n",
    "\n",
    "Nella prima linea, Python ha generato la stringa `'ciao'` e l'ha assegnata alla variabile `x`. Ma fin qui, niente di straordinario.\n",
    "\n",
    "Poi, nella seconda linea, Python ha fatto due cose:\n",
    "\n",
    "1. ha calcolato il risultato dell'espressione `x + 'mondo'`, generando una NUOVA stringa `ciaomondo`\n",
    "2. ha assegnato la stringa appena generata `ciaomondo` alla variabile `x`\n",
    "\n",
    "E' fondamentale capire bene che in presenza di riassegnamenti avvengono i due passaggi appena citati, che quindi ribadiamo: \n",
    "\n",
    "* PRIMA viene calcolato il risultato dell'espressione a destra dell'`=` (avendo quindi a disposizione il vecchio valore associato a `x`)\n",
    "* POI il risultato viene associato alla variabile a sinistra dell'`=`.\n",
    "\n",
    "Se proviamo a guardare in Python Tutor, questo doppio passaggio viene eseguito in un colpo solo:"
   ]
  },
  {
   "cell_type": "code",
   "execution_count": 61,
   "metadata": {},
   "outputs": [
    {
     "data": {
      "text/html": [
       "\n",
       "        <script src=\"../_static/js/pytutor-embed.bundle.min.js\" type=\"application/javascript\"></script>\n",
       "     \n",
       "        <script id=\"json-jmcba3312b-ab5e-4c00-8978-4bf1366156dc\" type=\"application/json\" >\n",
       "            {\"code\": \" \\nx = 'ciao'\\nx = x + 'mondo'\", \"trace\": [{\"line\": 2, \"event\": \"step_line\", \"func_name\": \"<module>\", \"globals\": {}, \"ordered_globals\": [], \"stack_to_render\": [], \"heap\": {}, \"stdout\": \"\"}, {\"line\": 3, \"event\": \"step_line\", \"func_name\": \"<module>\", \"globals\": {\"x\": \"ciao\"}, \"ordered_globals\": [\"x\"], \"stack_to_render\": [], \"heap\": {}, \"stdout\": \"\"}, {\"line\": 3, \"event\": \"return\", \"func_name\": \"<module>\", \"globals\": {\"x\": \"ciaomondo\"}, \"ordered_globals\": [\"x\"], \"stack_to_render\": [], \"heap\": {}, \"stdout\": \"\"}]}\n",
       "        </script>\n",
       "        <div id=\"jmcba3312b-ab5e-4c00-8978-4bf1366156dc\" class=\"pytutorVisualizer\"> </div>\n",
       " \n",
       "        <style>\n",
       "        .vizLayoutTd {\n",
       "            background-color: #fff !important;\n",
       "        }\n",
       "\n",
       "        #pyStdout {            \n",
       "            min-height:25px;\n",
       "        }\n",
       "\n",
       "        /* 'Edit this code' link, hiding because replaces browser tab !!!*/\n",
       "        #editCodeLinkDiv {\n",
       "            display:none;  \n",
       "        }\n",
       "        </style>   \n",
       "                            \n",
       "        <script>\n",
       "        (function(){\n",
       "\n",
       "            var trace = JSON.parse(document.getElementById('json-jmcba3312b-ab5e-4c00-8978-4bf1366156dc').innerHTML);                                        \n",
       "            // NOTE 1: id without #\n",
       "            // NOTE 2 - maybe there are more predictable ways, but this will work anyway\n",
       "            //        - id should be number\n",
       "            visualizerIdOverride = Math.trunc(Math.random() * 100000000000)\n",
       "            addVisualizerToPage(trace, 'jmcba3312b-ab5e-4c00-8978-4bf1366156dc',{'embeddedMode' : false,\n",
       "                                             'visualizerIdOverride':visualizerIdOverride})  \n",
       "            \n",
       "            \n",
       "            // set overflow for pytuts - need to do in python as css \n",
       "            // does not allow parent selection\n",
       "            var pytuts = $('.pytutorVisualizer')\n",
       "            pytuts.closest('div.output_html.rendered_html.output_result')\n",
       "                    .css('overflow-x', 'visible')\n",
       "        \n",
       "            //pytuts.closest('div.output_html.rendered_html.output_result')\n",
       "            //      .css('background-color','red')                \n",
       "            \n",
       "        })()\n",
       "        </script>\n",
       "                \n",
       "                "
      ],
      "text/plain": [
       "<IPython.core.display.HTML object>"
      ]
     },
     "execution_count": 61,
     "metadata": {},
     "output_type": "execute_result"
    }
   ],
   "source": [
    "x = 'ciao'\n",
    "x = x + 'mondo'\n",
    "\n",
    "jupman.pytut()"
   ]
  },
  {
   "cell_type": "markdown",
   "metadata": {},
   "source": [
    "**ESERCIZIO**: Scrivi del codice che cambia lo stato della memoria in modo che alla fine risulti la stampa seguente: \n",
    "\n",
    "```\n",
    "z =  Questo\n",
    "w =  era\n",
    "x =  un problema\n",
    "y =  era\n",
    "s =  Questo era un problema\n",
    "```\n",
    "\n",
    "* per scrivere il codice, USA SOLO i simboli `=`,`+`,`z`,`w`,`x`,`y`,`s` E NIENT'ALTRO\n",
    "* puoi usare quante linee di codice ritieni opportune\n",
    "* puoi usare ogni simbolo quante volte vuoi\n",
    "\n",
    "\n"
   ]
  },
  {
   "cell_type": "raw",
   "id": "86c51437",
   "metadata": {
    "format": "text/html"
   },
   "source": [
    "<a  class=\"jupman-sol jupman-sol-toggler\" \n",
    " onclick=\"jupman.toggleSolution(this);\" \n",
    " data-jupman-show=\"Mostra soluzione\" data-jupman-hide=\"Nascondi\">Mostra soluzione</a><div class=\"jupman-sol jupman-sol-code\" style=\"display:none\">  "
   ]
  },
  {
   "cell_type": "code",
   "execution_count": 62,
   "metadata": {},
   "outputs": [],
   "source": [
    "# queste variabili ti sono date\n",
    "\n",
    "z = \"Questo\"\n",
    "w = 'è'\n",
    "x = 'un problema'\n",
    "y = 'era'\n",
    "s = ' '\n",
    "\n",
    "# scrivi qui il codice\n",
    "\n",
    "w = y\n",
    "\n",
    "s = z + s + y + s + x"
   ]
  },
  {
   "cell_type": "raw",
   "id": "d70895e2",
   "metadata": {
    "format": "text/html"
   },
   "source": [
    "</div>"
   ]
  },
  {
   "cell_type": "code",
   "execution_count": 62,
   "metadata": {},
   "outputs": [],
   "source": [
    "# queste variabili ti sono date\n",
    "\n",
    "z = \"Questo\"\n",
    "w = 'è'\n",
    "x = 'un problema'\n",
    "y = 'era'\n",
    "s = ' '\n",
    "\n",
    "# scrivi qui il codice\n",
    "\n"
   ]
  },
  {
   "cell_type": "code",
   "execution_count": 63,
   "metadata": {},
   "outputs": [
    {
     "name": "stdout",
     "output_type": "stream",
     "text": [
      "z =  Questo\n",
      "w =  era\n",
      "x =  un problema\n",
      "y =  era\n",
      "s =  Questo era un problema\n"
     ]
    }
   ],
   "source": [
    "print(\"z = \", z)\n",
    "print(\"w = \", w)\n",
    "print(\"x = \", x)\n",
    "print(\"y = \", y)\n",
    "print(\"s = \", s)"
   ]
  },
  {
   "cell_type": "markdown",
   "metadata": {},
   "source": [
    "## Stringhe e  numeri"
   ]
  },
  {
   "cell_type": "markdown",
   "metadata": {},
   "source": [
    "Le stringhe in Python hanno il tipo `str`:\n",
    "\n"
   ]
  },
  {
   "cell_type": "code",
   "execution_count": 64,
   "metadata": {},
   "outputs": [
    {
     "data": {
      "text/plain": [
       "str"
      ]
     },
     "execution_count": 64,
     "metadata": {},
     "output_type": "execute_result"
    }
   ],
   "source": [
    "type(\"ciao mondo\")"
   ]
  },
  {
   "cell_type": "markdown",
   "metadata": {},
   "source": [
    "Nelle stringhe possiamo inserire dei caratteri che rappresentano cifre:"
   ]
  },
  {
   "cell_type": "code",
   "execution_count": 65,
   "metadata": {},
   "outputs": [
    {
     "name": "stdout",
     "output_type": "stream",
     "text": [
      "Il carattere 5 rappresenta la cifra cinque, il carattere 3 rappresenta la cifra tre\n"
     ]
    }
   ],
   "source": [
    "print(\"Il carattere 5 rappresenta la cifra cinque, il carattere 3 rappresenta la cifra tre\")"
   ]
  },
  {
   "cell_type": "markdown",
   "metadata": {},
   "source": [
    "Ovviamente possiamo anche costruire una sequenza di cifre, per avere ciò che sembra un numero:"
   ]
  },
  {
   "cell_type": "code",
   "execution_count": 66,
   "metadata": {},
   "outputs": [
    {
     "name": "stdout",
     "output_type": "stream",
     "text": [
      "La sequenza di caratteri 7583 rappresenta il numero settemila cinquecento ottanta tre\n"
     ]
    }
   ],
   "source": [
    "print(\"La sequenza di caratteri 7583 rappresenta il numero settemila cinquecento ottanta tre\")"
   ]
  },
  {
   "cell_type": "markdown",
   "metadata": {},
   "source": [
    "Detto ciò, possiamo domandarci come si comporta Python quando abbiamo una _stringa_ che contiene _solo_ una sequenza di caratteri che rappresenta un numero, come per esempio `'254'`"
   ]
  },
  {
   "cell_type": "markdown",
   "metadata": {},
   "source": [
    "Possiamo usare `'254'` (che abbiamo scritto come se fosse una stringa) anche come se fosse un numero? Per esempio, possiamo sommarci 3 ?"
   ]
  },
  {
   "cell_type": "markdown",
   "metadata": {},
   "source": [
    "\n",
    "```python\n",
    "'254' + 3\n",
    "\n",
    "---------------------------------------------------------------------------\n",
    "TypeError                                 Traceback (most recent call last)\n",
    "<ipython-input-29-d39aa62a7e3d> in <module>\n",
    "----> 1 \"254\" + 3\n",
    "\n",
    "TypeError: can only concatenate str (not \"int\") to str\n",
    "```"
   ]
  },
  {
   "cell_type": "markdown",
   "metadata": {},
   "source": [
    "Come vedi, Python is offende immediatamente, perchè stiamo cercando di mischiare tipi differenti\n",
    "\n",
    "**QUINDI:**\n",
    "\n",
    "* Scrivendo `'254'` tra doppi apici creiamo una _stringa_ di tipo `str`\n",
    "* scrivendo `254` creiamo un _numero_ di tipo `int`\n"
   ]
  },
  {
   "cell_type": "code",
   "execution_count": 67,
   "metadata": {},
   "outputs": [
    {
     "data": {
      "text/plain": [
       "str"
      ]
     },
     "execution_count": 67,
     "metadata": {},
     "output_type": "execute_result"
    }
   ],
   "source": [
    "type('254')"
   ]
  },
  {
   "cell_type": "code",
   "execution_count": 68,
   "metadata": {},
   "outputs": [
    {
     "data": {
      "text/plain": [
       "int"
      ]
     },
     "execution_count": 68,
     "metadata": {},
     "output_type": "execute_result"
    }
   ],
   "source": [
    "type(254)"
   ]
  },
  {
   "cell_type": "markdown",
   "metadata": {},
   "source": [
    "<div class=\"alert alert-warning\">\n",
    "\n",
    "**ATTENZIONE ALLA** `print` **!!**\n",
    "\n",
    "Se provi a stampare una stringa che contiene solo cifre, Python la mostrerà senza apici, e questo potrebbe ingannarti riguardo la sua vera natura !!\n",
    "\n",
    "</div>"
   ]
  },
  {
   "cell_type": "code",
   "execution_count": 69,
   "metadata": {},
   "outputs": [
    {
     "name": "stdout",
     "output_type": "stream",
     "text": [
      "254\n"
     ]
    }
   ],
   "source": [
    "print('254')"
   ]
  },
  {
   "cell_type": "code",
   "execution_count": 70,
   "metadata": {},
   "outputs": [
    {
     "name": "stdout",
     "output_type": "stream",
     "text": [
      "254\n"
     ]
    }
   ],
   "source": [
    "print(254)"
   ]
  },
  {
   "cell_type": "markdown",
   "metadata": {},
   "source": [
    "_Solo in Jupyter_, per mostrare costanti, variabili o risultati di calcoli, come alternativa alla  `print` puoi immettere direttamente una formula nella cella. In questo caso siamo semplicmente mostrando una costante, e quando è una stringa vedrai degli apici:"
   ]
  },
  {
   "cell_type": "code",
   "execution_count": 71,
   "metadata": {},
   "outputs": [
    {
     "data": {
      "text/plain": [
       "'254'"
      ]
     },
     "execution_count": 71,
     "metadata": {},
     "output_type": "execute_result"
    }
   ],
   "source": [
    "'254'"
   ]
  },
  {
   "cell_type": "code",
   "execution_count": 72,
   "metadata": {},
   "outputs": [
    {
     "data": {
      "text/plain": [
       "254"
      ]
     },
     "execution_count": 72,
     "metadata": {},
     "output_type": "execute_result"
    }
   ],
   "source": [
    "254"
   ]
  },
  {
   "cell_type": "markdown",
   "metadata": {},
   "source": [
    "Lo stesso discorso vale anche per le variabili: "
   ]
  },
  {
   "cell_type": "code",
   "execution_count": 73,
   "metadata": {},
   "outputs": [],
   "source": [
    "x = '254'"
   ]
  },
  {
   "cell_type": "code",
   "execution_count": 74,
   "metadata": {},
   "outputs": [
    {
     "data": {
      "text/plain": [
       "'254'"
      ]
     },
     "execution_count": 74,
     "metadata": {},
     "output_type": "execute_result"
    }
   ],
   "source": [
    "x"
   ]
  },
  {
   "cell_type": "code",
   "execution_count": 75,
   "metadata": {},
   "outputs": [],
   "source": [
    "y = 254"
   ]
  },
  {
   "cell_type": "code",
   "execution_count": 76,
   "metadata": {},
   "outputs": [
    {
     "data": {
      "text/plain": [
       "254"
      ]
     },
     "execution_count": 76,
     "metadata": {},
     "output_type": "execute_result"
    }
   ],
   "source": [
    "y"
   ]
  },
  {
   "cell_type": "markdown",
   "metadata": {},
   "source": [
    "Quindi, _solo in Jupyter_, quando devi mostrare una costante, una variabile o un calcolo spesso conviene scriverlo direttamente nella cella senza usare la `print`."
   ]
  },
  {
   "cell_type": "markdown",
   "metadata": {},
   "source": [
    "## Conversioni - da stringa a numero\n",
    "\n",
    "Torniamo al problema di sommare `'254' + 3`. La prima è una stringa, il secondo un numero. Se fossero entrambi numeri la somma sicuramente funzionerebbe:"
   ]
  },
  {
   "cell_type": "code",
   "execution_count": 77,
   "metadata": {},
   "outputs": [
    {
     "data": {
      "text/plain": [
       "257"
      ]
     },
     "execution_count": 77,
     "metadata": {},
     "output_type": "execute_result"
    }
   ],
   "source": [
    "254 + 3"
   ]
  },
  {
   "cell_type": "markdown",
   "metadata": {},
   "source": [
    "Quindi possiamo provare a convertire la stringa `'254'` in un vero intero. Per farlo, possiamo usare `int` come se fosse una funzione, e passarci come argomento la stringa da convertire:"
   ]
  },
  {
   "cell_type": "code",
   "execution_count": 78,
   "metadata": {},
   "outputs": [
    {
     "data": {
      "text/plain": [
       "257"
      ]
     },
     "execution_count": 78,
     "metadata": {},
     "output_type": "execute_result"
    }
   ],
   "source": [
    "int('254') + 3"
   ]
  },
  {
   "cell_type": "markdown",
   "metadata": {},
   "source": [
    "<div class=\"alert alert-warning\">\n",
    "\n",
    "**ATTENZIONE: le stringhe e i numeri sono immutabili !!**\n",
    "\n",
    "</div>\n",
    "\n",
    "Questo significa che scrivendo `int('254')` viene generato un _nuovo_ numero senza intaccare minimamente la stringa `'254'` da cui si è partiti. Vediamo meglio con un esempio: "
   ]
  },
  {
   "cell_type": "code",
   "execution_count": 79,
   "metadata": {},
   "outputs": [],
   "source": [
    "x = '254'     # assegnamo alla variabile x la stringa '254'"
   ]
  },
  {
   "cell_type": "code",
   "execution_count": 80,
   "metadata": {},
   "outputs": [],
   "source": [
    "y = int(x)    # assegnamo alla variabile y il numero ottenuto convertendo '254' in int"
   ]
  },
  {
   "cell_type": "code",
   "execution_count": 81,
   "metadata": {},
   "outputs": [
    {
     "data": {
      "text/plain": [
       "'254'"
      ]
     },
     "execution_count": 81,
     "metadata": {},
     "output_type": "execute_result"
    }
   ],
   "source": [
    "x             # la variabile x risulta sempre assegnata alla stringa '254'"
   ]
  },
  {
   "cell_type": "code",
   "execution_count": 82,
   "metadata": {},
   "outputs": [
    {
     "data": {
      "text/plain": [
       "254"
      ]
     },
     "execution_count": 82,
     "metadata": {},
     "output_type": "execute_result"
    }
   ],
   "source": [
    "y             # in y invece adesso c'è un numero (notare che qua non abbiamo apici)"
   ]
  },
  {
   "cell_type": "markdown",
   "metadata": {},
   "source": [
    "Può essere utile rivedere l'esempio in Python tutor:"
   ]
  },
  {
   "cell_type": "code",
   "execution_count": 83,
   "metadata": {},
   "outputs": [
    {
     "name": "stdout",
     "output_type": "stream",
     "text": [
      "257\n"
     ]
    },
    {
     "data": {
      "text/html": [
       "\n",
       "        <script src=\"../_static/js/pytutor-embed.bundle.min.js\" type=\"application/javascript\"></script>\n",
       "     \n",
       "        <script id=\"json-jm624c8bb9-5e60-4caf-965c-494d3b0d069d\" type=\"application/json\" >\n",
       "            {\"code\": \" \\nx = \\\"254\\\"\\n\\ny = int(x)\\n\\nprint(y + 3)\", \"trace\": [{\"line\": 2, \"event\": \"step_line\", \"func_name\": \"<module>\", \"globals\": {}, \"ordered_globals\": [], \"stack_to_render\": [], \"heap\": {}, \"stdout\": \"\"}, {\"line\": 4, \"event\": \"step_line\", \"func_name\": \"<module>\", \"globals\": {\"x\": \"254\"}, \"ordered_globals\": [\"x\"], \"stack_to_render\": [], \"heap\": {}, \"stdout\": \"\"}, {\"line\": 6, \"event\": \"step_line\", \"func_name\": \"<module>\", \"globals\": {\"x\": \"254\", \"y\": 254}, \"ordered_globals\": [\"x\", \"y\"], \"stack_to_render\": [], \"heap\": {}, \"stdout\": \"\"}, {\"line\": 6, \"event\": \"return\", \"func_name\": \"<module>\", \"globals\": {\"x\": \"254\", \"y\": 254}, \"ordered_globals\": [\"x\", \"y\"], \"stack_to_render\": [], \"heap\": {}, \"stdout\": \"257\\n\"}]}\n",
       "        </script>\n",
       "        <div id=\"jm624c8bb9-5e60-4caf-965c-494d3b0d069d\" class=\"pytutorVisualizer\"> </div>\n",
       " \n",
       "        <style>\n",
       "        .vizLayoutTd {\n",
       "            background-color: #fff !important;\n",
       "        }\n",
       "\n",
       "        #pyStdout {            \n",
       "            min-height:25px;\n",
       "        }\n",
       "\n",
       "        /* 'Edit this code' link, hiding because replaces browser tab !!!*/\n",
       "        #editCodeLinkDiv {\n",
       "            display:none;  \n",
       "        }\n",
       "        </style>   \n",
       "                            \n",
       "        <script>\n",
       "        (function(){\n",
       "\n",
       "            var trace = JSON.parse(document.getElementById('json-jm624c8bb9-5e60-4caf-965c-494d3b0d069d').innerHTML);                                        \n",
       "            // NOTE 1: id without #\n",
       "            // NOTE 2 - maybe there are more predictable ways, but this will work anyway\n",
       "            //        - id should be number\n",
       "            visualizerIdOverride = Math.trunc(Math.random() * 100000000000)\n",
       "            addVisualizerToPage(trace, 'jm624c8bb9-5e60-4caf-965c-494d3b0d069d',{'embeddedMode' : false,\n",
       "                                             'visualizerIdOverride':visualizerIdOverride})  \n",
       "            \n",
       "            \n",
       "            // set overflow for pytuts - need to do in python as css \n",
       "            // does not allow parent selection\n",
       "            var pytuts = $('.pytutorVisualizer')\n",
       "            pytuts.closest('div.output_html.rendered_html.output_result')\n",
       "                    .css('overflow-x', 'visible')\n",
       "        \n",
       "            //pytuts.closest('div.output_html.rendered_html.output_result')\n",
       "            //      .css('background-color','red')                \n",
       "            \n",
       "        })()\n",
       "        </script>\n",
       "                \n",
       "                "
      ],
      "text/plain": [
       "<IPython.core.display.HTML object>"
      ]
     },
     "execution_count": 83,
     "metadata": {},
     "output_type": "execute_result"
    }
   ],
   "source": [
    "x = \"254\"\n",
    "\n",
    "y = int(x)\n",
    "\n",
    "print(y + 3)\n",
    "\n",
    "\n",
    "jupman.pytut()"
   ]
  },
  {
   "cell_type": "markdown",
   "metadata": {},
   "source": [
    "**ESERCIZIO**: Prova a convertire una stringa che rappresenta un numero malformato (per es un numero con dentro un carattere: `'43K12'`) in un `int`. Che succede?"
   ]
  },
  {
   "cell_type": "code",
   "execution_count": 84,
   "metadata": {},
   "outputs": [],
   "source": [
    "# scrivi qui\n",
    "\n"
   ]
  },
  {
   "cell_type": "markdown",
   "metadata": {},
   "source": [
    "## Conversioni - da numero a stringa\n",
    "\n",
    "Un qualsiasi oggetto può essere convertito a stringa usando `str` come se fosse una funzione e passandogli l'oggetto da convertire. Proviamo quindi a convertire un numero a stringa:"
   ]
  },
  {
   "cell_type": "code",
   "execution_count": 85,
   "metadata": {},
   "outputs": [
    {
     "data": {
      "text/plain": [
       "'5'"
      ]
     },
     "execution_count": 85,
     "metadata": {},
     "output_type": "execute_result"
    }
   ],
   "source": [
    "str(5)"
   ]
  },
  {
   "cell_type": "markdown",
   "metadata": {},
   "source": [
    "notare gli apici nel risultato, che testimoniano che abbiamo effettivamente ottenuto una stringa.\n",
    "\n",
    "Se per caso vogliamo ottenere una stringa che è la concatenzione di oggetti di tipo diverso dobbiamo stare attenti:"
   ]
  },
  {
   "cell_type": "markdown",
   "metadata": {},
   "source": [
    "```python\n",
    "x = 5\n",
    "s = 'I giorni di lavoro settimanali sono ' + x\n",
    "print(s)\n",
    "\n",
    "---------------------------------------------------------------------------\n",
    "TypeError                                 Traceback (most recent call last)\n",
    "<ipython-input-154-5951bd3aa528> in <module>\n",
    "      1 x = 5\n",
    "----> 2 s = 'I giorni di lavoro settimanali sono ' + x\n",
    "      3 print(s)\n",
    "\n",
    "TypeError: can only concatenate str (not \"int\") to str\n",
    "```\n"
   ]
  },
  {
   "cell_type": "markdown",
   "metadata": {},
   "source": [
    "Un modo di ovviare al problema (anche se non il più comodo) è convertire a stringa ciascuno degli oggetti che usiamo nella concatenazione:"
   ]
  },
  {
   "cell_type": "code",
   "execution_count": 86,
   "metadata": {},
   "outputs": [
    {
     "name": "stdout",
     "output_type": "stream",
     "text": [
      "questa settimana ho fatto jogging 3 volte correndo a una media di 1.6km/h\n"
     ]
    }
   ],
   "source": [
    "x = 3\n",
    "y = 1.6\n",
    "s = 'questa settimana ho fatto jogging ' + str(x) + ' volte correndo a una media di ' + str(y) + 'km/h'\n",
    "print(s)"
   ]
  },
  {
   "cell_type": "markdown",
   "metadata": {},
   "source": [
    "**DOMANDA**: Visto quanto detto in precedenza, dopo l'esecuzione del codice nella cella precedente, alla variabile `x` risulterà associato un _numero_ oppure una _stringa_ ?\n",
    "\n",
    "Se hai dubbi, usa Python Tutor."
   ]
  },
  {
   "cell_type": "raw",
   "id": "9a8c999c",
   "metadata": {
    "format": "text/html"
   },
   "source": [
    "<a  class=\"jupman-sol jupman-sol-toggler\" \n",
    " onclick=\"jupman.toggleSolution(this);\" \n",
    " data-jupman-show=\"Mostra risposta\" data-jupman-hide=\"Nascondi\">Mostra risposta</a><div class=\"jupman-sol jupman-sol-question\" style=\"display:none\">  "
   ]
  },
  {
   "cell_type": "markdown",
   "metadata": {},
   "source": [
    "**RISPOSTA**: i numeri, come le stringhe, sono immutabili. Quindi chiamando la funzione `str(x)` è impossibile che il numero `5` associato a `x` venga in alcun modo modificato. `str(x)` semplicemente _genererà_ una NUOVA stringa `'5'` che verrà usata poi nella concatenazione."
   ]
  },
  {
   "cell_type": "raw",
   "id": "6bdb9655",
   "metadata": {
    "format": "text/html"
   },
   "source": [
    "</div>"
   ]
  },
  {
   "cell_type": "markdown",
   "metadata": {},
   "source": [
    "## Formattare stringhe\n",
    "\n",
    "Concatenare stringhe con un segno `+` come sopra è macchinoso e si presta ad errori. Ci sono diverse soluzioni migliori, per una recensione completa ci riferiamo al sito [Real Python](https://realpython.com/python-formatted-output/). In particolare, guardare le più utili che sono le [f-strings](https://realpython.com/python-formatted-output/#the-python-formatted-string-literal-f-string) che sono disponibili per Python $\\geq$ 3.6\n",
    "\n",
    "### Formattare con `%`\n",
    "\n",
    "Vediamo come formattare stringhe con l'operatore `%`.\n",
    "Questa soluzione non è la migliore, ma è molto usata e supportata in tutte le versioni di Python, perciò l'abbiamo adottata nel libro:"
   ]
  },
  {
   "cell_type": "code",
   "execution_count": 87,
   "metadata": {},
   "outputs": [
    {
     "data": {
      "text/plain": [
       "'Ho saltato 3 volte'"
      ]
     },
     "execution_count": 87,
     "metadata": {},
     "output_type": "execute_result"
    }
   ],
   "source": [
    "x = 3\n",
    "\"Ho saltato %s volte\" % x"
   ]
  },
  {
   "cell_type": "markdown",
   "metadata": {},
   "source": [
    "Nota che abbiamo messo un cosìdetto _place-holder_ (segnaposto) `%s` dentro la stringa, per dire a Python di sostituirlo con una variabile. Per passare a Python la variabile, _dopo_ la stringa abbiamo messo un simbolo `%` seguito da una variabile, in questo caso `x`.\n",
    "\n",
    "Se vogliamo mettere più di una variabile, dobbiamo solo aggiungere più segnaposti `%s` e dopo il `%` esterno mettiamo le variabili richieste in parentesi tonde, separandole con virgole:"
   ]
  },
  {
   "cell_type": "code",
   "execution_count": 88,
   "metadata": {},
   "outputs": [
    {
     "data": {
      "text/plain": [
       "'Ho saltato 3 volte e fatto 5 flessioni'"
      ]
     },
     "execution_count": 88,
     "metadata": {},
     "output_type": "execute_result"
    }
   ],
   "source": [
    "x = 3\n",
    "y = 5\n",
    "\"Ho saltato %s volte e fatto %s flessioni\" % (x,y)"
   ]
  },
  {
   "cell_type": "markdown",
   "metadata": {},
   "source": [
    "Possiamo mettere quante variabili vogliamo, anche non-numeriche:"
   ]
  },
  {
   "cell_type": "code",
   "execution_count": 89,
   "metadata": {},
   "outputs": [
    {
     "data": {
      "text/plain": [
       "\"Ho saltato 3 volte, fatto 5 flessioni e vinto il premio 'Migliore Atleta della Valle'\""
      ]
     },
     "execution_count": 89,
     "metadata": {},
     "output_type": "execute_result"
    }
   ],
   "source": [
    "x = 3\n",
    "y = 5\n",
    "premio = 'Migliore Atleta della Valle'\n",
    "\"Ho saltato %s volte, fatto %s flessioni e vinto il premio '%s'\" % (x,y,premio)"
   ]
  },
  {
   "cell_type": "markdown",
   "metadata": {},
   "source": [
    "### Esercizio - supercar\n",
    "\n",
    "\n",
    "Hai ricevuto dei soldi, perciò decidi di comprare due modelli di auto sportive. Visto lo stile di guida scellerato prevedi già incidenti, perciò per ciascun modello comprerai tante auto quanti caratteri ci sono nel nome di ciascun modello.\n",
    "\n",
    "Scrivi del codice che salva nella stringa `s` il numero di auto che comprerai.\n",
    "\n",
    "* **USA** il segnaposto `%s`\n",
    "\n",
    "Esempio - dati:\n",
    "\n",
    "```python\n",
    "auto1 = 'Jaguar'  \n",
    "auto2 = 'Ferrari'\n",
    "```\n",
    "\n",
    "Dopo il tuo codice, dovrebbe mostrare:\n",
    "\n",
    "\n",
    "\n",
    "```python\n",
    ">>> s\n",
    "'Comprerò 6 Jaguar e 7 Ferrari perchè tengo i dindi'\n",
    "```\n",
    "\n"
   ]
  },
  {
   "cell_type": "code",
   "execution_count": 90,
   "metadata": {},
   "outputs": [
    {
     "name": "stdout",
     "output_type": "stream",
     "text": [
      "Comprerò 6 Jaguar e 7 Ferrari perchè tengo i dindi\n"
     ]
    }
   ],
   "source": [
    "auto1, auto2 = 'Jaguar','Ferrari'        # Comprerò 6 Jaguar e 7 Ferrari perchè tengo i dindi\n",
    "#auto1, auto2 = 'Porsche','Lamborghini'  # Comprerò 7 Porsche e 11 Lamborghini perchè tengo i dindi\n",
    "\n",
    "# write here\n",
    "\n",
    "s = 'Comprerò %s %s e %s %s perchè tengo i dindi' % (len(auto1), auto1, len(auto2), auto2)\n",
    "print(s)"
   ]
  },
  {
   "cell_type": "markdown",
   "metadata": {},
   "source": [
    "## Prosegui\n",
    "\n",
    "Trovi ulteriori esercizi nel foglio [Stringhe 2 - operatori](https://it.softpython.org/strings/strings2-sol.html)"
   ]
  }
 ],
 "metadata": {
  "celltoolbar": "Edit Metadata",
  "kernelspec": {
   "display_name": "Python 3",
   "language": "python",
   "name": "python3"
  },
  "language_info": {
   "codemirror_mode": {
    "name": "ipython",
    "version": 3
   },
   "file_extension": ".py",
   "mimetype": "text/x-python",
   "name": "python",
   "nbconvert_exporter": "python",
   "pygments_lexer": "ipython3",
   "version": "3.7.10"
  },
  "toc": {
   "base_numbering": 1,
   "nav_menu": {},
   "number_sections": false,
   "sideBar": true,
   "skip_h1_title": false,
   "title_cell": "Table of Contents",
   "title_sidebar": "Contents",
   "toc_cell": false,
   "toc_position": {
    "height": "calc(100% - 180px)",
    "left": "10px",
    "top": "150px",
    "width": "280px"
   },
   "toc_section_display": true,
   "toc_window_display": true
  }
 },
 "nbformat": 4,
 "nbformat_minor": 2
}

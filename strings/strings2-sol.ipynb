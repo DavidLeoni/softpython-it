{
 "cells": [
  {
   "cell_type": "code",
   "execution_count": 1,
   "metadata": {
    "nbsphinx": "hidden"
   },
   "outputs": [],
   "source": [
    "# Ricordati di eseguire questa cella con Shift+Invio\n",
    "\n",
    "import sys\n",
    "sys.path.append('../')\n",
    "import jupman"
   ]
  },
  {
   "cell_type": "markdown",
   "metadata": {},
   "source": [
    "# Stringhe 2 - operatori\n",
    "\n",
    "## [Scarica zip esercizi](../_static/generated/strings.zip)\n",
    "\n",
    "[Naviga file online](https://github.com/DavidLeoni/softpython-it/tree/master/strings)\n",
    "\n",
    "Python offre diversi operatori per lavorare con le stringhe:\n",
    "\n",
    "|Operatore|Sintassi|Risultato|Significato|\n",
    "|---|---|----|-----|\n",
    "|lunghezza|`len`(str)|`int`| Ritorna la lunghezza della stringa|\n",
    "|[indice](#Leggere-caratteri)|str`[`int`]`|`str`|Legge il carattere all'indice specificato|\n",
    "|[concatenazione](#Sostituire-caratteri)|str1 `+` str2|`str`| Concatena due stringhe|\n",
    "|[inclusione](#Operatore-in)|str1 `in` str2|`bool`| Controlla se la stringa è presente in un'altra stringa|\n",
    "|[slice](#Slice)|str`[`int`:`int`]`|`str`|Estrae una sotto-stringa|\n",
    "|[uguaglianza](#Operatori-uguaglianza)|`==`,`!=`|`bool`| Controlla se due stringhe sono uguali o differenti|\n",
    "|[replicazione](#Operatore-di-replicazione)|str `*` int|`str`| Replica la stringa|"
   ]
  },
  {
   "cell_type": "markdown",
   "metadata": {},
   "source": [
    "## Che fare\n",
    "\n",
    "- scompatta lo zip in una cartella, dovresti ottenere qualcosa del genere: \n",
    "\n",
    "```\n",
    "\n",
    "strings\n",
    "    strings1.ipynb    \n",
    "    strings1-sol.ipynb         \n",
    "    strings2.ipynb\n",
    "    strings2-sol.ipynb\n",
    "    strings3.ipynb\n",
    "    strings3-sol.ipynb\n",
    "    strings4.ipynb\n",
    "    strings4-sol.ipynb\n",
    "    strings5-chal.ipynb\n",
    "    jupman.py         \n",
    "```\n",
    "\n",
    "<div class=\"alert alert-warning\">\n",
    "\n",
    "**ATTENZIONE**: Per essere visualizzato correttamente, il file del notebook DEVE essere nella cartella szippata.\n",
    "</div>\n",
    "\n",
    "- apri il Jupyter Notebook da quella cartella. Due cose dovrebbero aprirsi, prima una console e poi un browser. Il browser dovrebbe mostrare una lista di file: naviga la lista e apri il notebook `strings2.ipynb`\n",
    "- Prosegui leggendo il file degli esercizi, ogni tanto al suo interno troverai delle scritte **ESERCIZIO**, che ti chiederanno di scrivere dei comandi Python nelle celle successive.\n",
    "\n",
    "\n",
    "Scorciatoie da tastiera:\n",
    "\n",
    "* Per eseguire il codice Python dentro una cella di Jupyter, premi `Control+Invio`\n",
    "* Per eseguire il codice Python dentro una cella di Jupyter E selezionare la cella seguente, premi `Shift+Invio`\n",
    "* Per eseguire il codice Python dentro una cella di Jupyter E creare una nuova cella subito dopo, premi `Alt+Invio`\n",
    "* Se per caso il Notebook sembra inchiodato, prova a selezionare `Kernel -> Restart`\n",
    "\n"
   ]
  },
  {
   "cell_type": "markdown",
   "metadata": {},
   "source": [
    "## Leggere caratteri"
   ]
  },
  {
   "cell_type": "markdown",
   "metadata": {},
   "source": [
    "Una stringa è una sequenza di caratteri, e spesso potremmo voler accedere ad un singolo carattere specificando la posizione del carattere che interessa\n",
    "\n",
    "E' importante ricordarsi che le posizioni dei caratteri nelle stringhe iniziano da 0. Per leggere un carattere ad una certa posizione, bisogna scrivere la stringa seguita da parentesi quadre con all'interno la posizione. Esempi:"
   ]
  },
  {
   "cell_type": "code",
   "execution_count": 2,
   "metadata": {},
   "outputs": [
    {
     "data": {
      "text/plain": [
       "'c'"
      ]
     },
     "execution_count": 2,
     "metadata": {},
     "output_type": "execute_result"
    }
   ],
   "source": [
    "'ciao'[0]"
   ]
  },
  {
   "cell_type": "code",
   "execution_count": 3,
   "metadata": {},
   "outputs": [
    {
     "data": {
      "text/plain": [
       "'i'"
      ]
     },
     "execution_count": 3,
     "metadata": {},
     "output_type": "execute_result"
    }
   ],
   "source": [
    "'ciao'[1]"
   ]
  },
  {
   "cell_type": "code",
   "execution_count": 4,
   "metadata": {},
   "outputs": [
    {
     "data": {
      "text/plain": [
       "'a'"
      ]
     },
     "execution_count": 4,
     "metadata": {},
     "output_type": "execute_result"
    }
   ],
   "source": [
    "#0123\n",
    "'ciao'[2]"
   ]
  },
  {
   "cell_type": "code",
   "execution_count": 5,
   "metadata": {},
   "outputs": [
    {
     "data": {
      "text/plain": [
       "'o'"
      ]
     },
     "execution_count": 5,
     "metadata": {},
     "output_type": "execute_result"
    }
   ],
   "source": [
    "#0123\n",
    "'ciao'[3]"
   ]
  },
  {
   "cell_type": "markdown",
   "metadata": {},
   "source": [
    "Se cerchiamo di andare oltre all'ultimo carattere, otterremo un errore:"
   ]
  },
  {
   "cell_type": "markdown",
   "metadata": {},
   "source": [
    "```python\n",
    "#0123\n",
    "'ciao'[4]\n",
    "---------------------------------------------------------------------------\n",
    "IndexError                                Traceback (most recent call last)\n",
    "<ipython-input-106-b8f1f689f0c7> in <module>\n",
    "      1 #0123\n",
    "----> 2 'ciao'[4]\n",
    "\n",
    "IndexError: string index out of range\n",
    "```\n"
   ]
  },
  {
   "cell_type": "markdown",
   "metadata": {},
   "source": [
    "Prima abbiamo usato una stringa specificandola letteralmente, ma possiamo anche usare variabili:"
   ]
  },
  {
   "cell_type": "code",
   "execution_count": 6,
   "metadata": {},
   "outputs": [],
   "source": [
    "    #01234 \n",
    "x = 'panca'"
   ]
  },
  {
   "cell_type": "code",
   "execution_count": 7,
   "metadata": {},
   "outputs": [
    {
     "data": {
      "text/plain": [
       "'p'"
      ]
     },
     "execution_count": 7,
     "metadata": {},
     "output_type": "execute_result"
    }
   ],
   "source": [
    "x[0]"
   ]
  },
  {
   "cell_type": "code",
   "execution_count": 8,
   "metadata": {},
   "outputs": [
    {
     "data": {
      "text/plain": [
       "'n'"
      ]
     },
     "execution_count": 8,
     "metadata": {},
     "output_type": "execute_result"
    }
   ],
   "source": [
    "x[2]"
   ]
  },
  {
   "cell_type": "markdown",
   "metadata": {},
   "source": [
    "Come viene rappresentato il carattere letto? Se hai notato, è circondato da apici come se fosse una stringa. Controlliamo:"
   ]
  },
  {
   "cell_type": "code",
   "execution_count": 9,
   "metadata": {},
   "outputs": [
    {
     "data": {
      "text/plain": [
       "str"
      ]
     },
     "execution_count": 9,
     "metadata": {},
     "output_type": "execute_result"
    }
   ],
   "source": [
    "type(x[0])"
   ]
  },
  {
   "cell_type": "markdown",
   "metadata": {},
   "source": [
    "Infatti è proprio una stringa. Questo potrebbe forse sorprendere alcuni, anche da un punto di vista filosico: le stringhe in Python sono a loro volta composte da... stringhe! In altri linguaggi di programmazione per i singoli caratteri si possono trovare tipi appositi, ma Python usa stringhe per gestire meglio anche alfabeti con simboli complicati come quello giapponese."
   ]
  },
  {
   "cell_type": "markdown",
   "metadata": {},
   "source": [
    "**DOMANDA**: Supponiamo che `x` sia una stringa _qualsiasi_. Se proviamo ad eseguire questo codice: \n",
    "\n",
    "```python\n",
    "x[0]\n",
    "```\n",
    "\n",
    "otterremo:\n",
    "\n",
    "1. sempre un carattere\n",
    "2. sempre un errore\n",
    "3. a volte un carattere, a volte un errore a seconda della stringa"
   ]
  },
  {
   "cell_type": "markdown",
   "metadata": {},
   "source": [
    "**RISPOSTA**: la 3: potremmo ottenere un errore con la stringa vuota (prova)"
   ]
  },
  {
   "cell_type": "markdown",
   "metadata": {},
   "source": [
    "**DOMANDA**: Supponiamo che `x` sia una stringa qualsiasi. Se proviamo ad eseguire questo codice:\n",
    "\n",
    "```python\n",
    "x[len(x)]\n",
    "```\n",
    "\n",
    "otterremo:\n",
    "\n",
    "1. sempre un carattere\n",
    "2. sempre un errore\n",
    "3. a volte un carattere, a volte un errore a seconda della stringa\n",
    "\n"
   ]
  },
  {
   "cell_type": "markdown",
   "metadata": {},
   "source": [
    "**RISPOSTA**: la 2: poichè l'indicizzazione inizia da 0, `len` ci da sempre un numero che è superiore di 1 al più grande indice usabile."
   ]
  },
  {
   "cell_type": "markdown",
   "metadata": {},
   "source": [
    "### Esercizio - intercalare\n",
    "\n",
    "Date due stringhe che hanno entrambe lunghezza `3`, stampa una stringa che inercala caratteri da entrambe le stringhe. Il tuo codice deve poter funzionare con qualsiasi stringa di questa lunghezza\n",
    "\n",
    "\n",
    "Esempio:\n",
    "\n",
    "Dati\n",
    "\n",
    "```python\n",
    "x=\"say\"\n",
    "y=\"hi!\"\n",
    "```\n",
    "\n",
    "dovrebbe stampare\n",
    "\n",
    "```\n",
    "shaiy!\n",
    "```"
   ]
  },
  {
   "cell_type": "code",
   "execution_count": 10,
   "metadata": {},
   "outputs": [
    {
     "name": "stdout",
     "output_type": "stream",
     "text": [
      "shaiy!\n"
     ]
    }
   ],
   "source": [
    "# scrivi qui\n",
    "\n",
    "x=\"say\"\n",
    "y=\"hi!\"\n",
    "print(x[0] + y[0] + x[1] + y[1] + x[2] + y[2])"
   ]
  },
  {
   "cell_type": "markdown",
   "metadata": {},
   "source": [
    "### Indici negativi\n",
    "\n",
    "In Python possiamo anche usare indici negativi, che invece di partire _dall'inizio_ partono _dalla fine_:"
   ]
  },
  {
   "cell_type": "code",
   "execution_count": 11,
   "metadata": {},
   "outputs": [
    {
     "data": {
      "text/plain": [
       "'o'"
      ]
     },
     "execution_count": 11,
     "metadata": {},
     "output_type": "execute_result"
    }
   ],
   "source": [
    "#4321\n",
    "\"ciao\"[-1]"
   ]
  },
  {
   "cell_type": "code",
   "execution_count": 12,
   "metadata": {},
   "outputs": [
    {
     "data": {
      "text/plain": [
       "'a'"
      ]
     },
     "execution_count": 12,
     "metadata": {},
     "output_type": "execute_result"
    }
   ],
   "source": [
    "#4321\n",
    "\"ciao\"[-2]"
   ]
  },
  {
   "cell_type": "code",
   "execution_count": 13,
   "metadata": {},
   "outputs": [
    {
     "data": {
      "text/plain": [
       "'i'"
      ]
     },
     "execution_count": 13,
     "metadata": {},
     "output_type": "execute_result"
    }
   ],
   "source": [
    "#4321\n",
    "\"ciao\"[-3]"
   ]
  },
  {
   "cell_type": "code",
   "execution_count": 14,
   "metadata": {},
   "outputs": [
    {
     "data": {
      "text/plain": [
       "'c'"
      ]
     },
     "execution_count": 14,
     "metadata": {},
     "output_type": "execute_result"
    }
   ],
   "source": [
    "#4321\n",
    "\"ciao\"[-4]"
   ]
  },
  {
   "cell_type": "markdown",
   "metadata": {},
   "source": [
    "Se andiamo troppo in là, otteniamo un errore:\n",
    "\n",
    "```python\n",
    "#4321\n",
    "\"ciao\"[-5]\n",
    "\n",
    "---------------------------------------------------------------------------\n",
    "IndexError                                Traceback (most recent call last)\n",
    "<ipython-input-126-668d8a13a324> in <module>\n",
    "----> 1 \"ciao\"[-5]\n",
    "\n",
    "IndexError: string index out of range\n",
    "\n",
    "```"
   ]
  },
  {
   "cell_type": "markdown",
   "metadata": {},
   "source": [
    "\n",
    "**DOMANDA**: Supponiamo che `x` sia una stringa NON vuota qualsiasi, con la seguente espressione cosa otterremmo ? \n",
    "\n",
    "```python\n",
    "x[-len(x)]\n",
    "```\n",
    "\n",
    "1. sempre un carattere\n",
    "2. sempre un errore\n",
    "3. a volte un carattere, a volte un errore a seconda della stringa\n"
   ]
  },
  {
   "cell_type": "markdown",
   "metadata": {},
   "source": [
    "**RISPOSTA**: La 1. (abbiamo supposto che la stringa non sia mai vuota)"
   ]
  },
  {
   "cell_type": "markdown",
   "metadata": {},
   "source": [
    "**DOMANDA**: Supponendo che `x` sia una stringa qualsiasi (anche vuota), le espressioni \n",
    "\n",
    "```python\n",
    "x[len(x)-1]\n",
    "```\n",
    "e \n",
    "\n",
    "```python\n",
    "x[-len(x) - 1]\n",
    "```\n",
    "\n",
    "sono equivalenti ? Che cosa fanno ?"
   ]
  },
  {
   "cell_type": "markdown",
   "metadata": {},
   "source": [
    "**RISPOSTA**: le espressioni non sono equivalenti: la prima restituisce l'ultimo carattere solo quando la stringa è non vuota, invece la seconda ritorna sempre un errore."
   ]
  },
  {
   "cell_type": "markdown",
   "metadata": {},
   "source": [
    "**DOMANDA**: Se `x` è una stringa non vuota, l'espressione seguente cosa produce? La possiamo semplificare in una più breve?\n",
    "\n",
    "```python\n",
    "(x + x)[len(x)]\n",
    "```"
   ]
  },
  {
   "cell_type": "markdown",
   "metadata": {},
   "source": [
    "**RISPOSTA**: corrisponde a `x[0]`"
   ]
  },
  {
   "cell_type": "markdown",
   "metadata": {},
   "source": [
    "**DOMANDA**: Se `x` è una stringa non vuota, cosa produce la seguente espressione? Un errore? Altro? La possiamo semplificare?\n",
    "\n",
    "```python\n",
    "'ciao'[0][0]\n",
    "```"
   ]
  },
  {
   "cell_type": "markdown",
   "metadata": {},
   "source": [
    "**RISPOSTA**: Sappiamo che `'ciao'[0]` produce un carattere, ma sappiamo anche che in Python i caratteri estratti dalle stringhe sono a loro volta stringhe di lunghezza 1. Quindi se dopo l'espressione `\"ciao\"[0]` che produce la stringa `'c'` aggiungiamo un'altro `[0]` è come se stessimo scrivendo `'c'[0]`, che ritorna il carattere zeresimo trovato nella stringa `'c'`, cioè `c` stesso."
   ]
  },
  {
   "cell_type": "markdown",
   "metadata": {},
   "source": [
    "**DOMANDA**: Se `x` è una stringa non vuota, cosa produce la seguente espressione? Un errore? Altro? La possiamo semplificare?\n",
    "\n",
    "```python\n",
    "(x[0])[0]\n",
    "```"
   ]
  },
  {
   "cell_type": "markdown",
   "metadata": {},
   "source": [
    "**RISPOSTA**: `x[0]` è un espressione che produce il primo carattere della stringa `x`. In Python, possiamo mettere le espressioni tra parentesi che vogliamo. Quindi in questo caso la parentesi non produce nessun effetto, e l'espressione è equivalente a `x[0][0]` che come abbiamo visto prima è uguale a scrivere `x[0]`"
   ]
  },
  {
   "cell_type": "markdown",
   "metadata": {},
   "source": [
    "## Sostituire caratteri\n",
    "\n",
    "Abbiamo detto che in Python le stringhe sono immutabili, quindi se abbiamo una stringa "
   ]
  },
  {
   "cell_type": "code",
   "execution_count": 15,
   "metadata": {},
   "outputs": [],
   "source": [
    "    #01234\n",
    "x = 'ciao'"
   ]
  },
  {
   "cell_type": "markdown",
   "metadata": {},
   "source": [
    "e vogliamo per esempio cambiare il carattere in posizione 2 (in questo caso, la `a`) perchè diventi una `b`, come facciamo ? \n",
    "\n",
    "Potremmo essere tentati di scrivere così, ma Python ci punirebbe con un errore:"
   ]
  },
  {
   "cell_type": "markdown",
   "metadata": {},
   "source": [
    "```python\n",
    "x[2] = 'b'\n",
    "\n",
    "---------------------------------------------------------------------------\n",
    "TypeError                                 Traceback (most recent call last)\n",
    "<ipython-input-113-e5847c6fa4bf> in <module>\n",
    "----> 1 x[2] = 'b'\n",
    "\n",
    "TypeError: 'str' object does not support item assignment\n",
    "```"
   ]
  },
  {
   "cell_type": "markdown",
   "metadata": {},
   "source": [
    "La soluzione corretta è assegnare a `x` una stringa completamente nuova, ottenuta prendendo pezzi della precedente:"
   ]
  },
  {
   "cell_type": "code",
   "execution_count": 16,
   "metadata": {},
   "outputs": [],
   "source": [
    "x = x[0] + x[1] + 'b' + x[3]"
   ]
  },
  {
   "cell_type": "code",
   "execution_count": 17,
   "metadata": {},
   "outputs": [
    {
     "data": {
      "text/plain": [
       "'cibo'"
      ]
     },
     "execution_count": 17,
     "metadata": {},
     "output_type": "execute_result"
    }
   ],
   "source": [
    "x"
   ]
  },
  {
   "cell_type": "markdown",
   "metadata": {},
   "source": [
    "Se il fatto che la `x` compaia a destra dell'uguale ti sconcerta, possiamo scomporre il codice così e funzionerebbe ugualmente"
   ]
  },
  {
   "cell_type": "code",
   "execution_count": 18,
   "metadata": {},
   "outputs": [],
   "source": [
    "x = \"ciao\"\n",
    "y = x\n",
    "x = y[0] + y[1] + 'b' + y[3]"
   ]
  },
  {
   "cell_type": "markdown",
   "metadata": {},
   "source": [
    "Provalo in Python Tutor:"
   ]
  },
  {
   "cell_type": "code",
   "execution_count": 19,
   "metadata": {},
   "outputs": [
    {
     "data": {
      "text/html": [
       "        \n",
       "        <script src=\"../_static/js/pytutor-embed.bundle.min.js\" type=\"application/javascript\"></script>\n",
       "    \n",
       "        <style>\n",
       "        @import \"../_static/css/jupman.css\";\n",
       "        </style>\n",
       "     \n",
       "        <script id=\"json-jm-2fab4eee23fd3853c75355acc33ec14c-21\" type=\"application/json\" >\n",
       "            {\"code\": \" \\nx = \\\"ciao\\\"\\ny = x\\nx = y[0] + y[1] + 'b' + y[3]\", \"trace\": [{\"line\": 2, \"event\": \"step_line\", \"func_name\": \"<module>\", \"globals\": {}, \"ordered_globals\": [], \"stack_to_render\": [], \"heap\": {}, \"stdout\": \"\"}, {\"line\": 3, \"event\": \"step_line\", \"func_name\": \"<module>\", \"globals\": {\"x\": \"ciao\"}, \"ordered_globals\": [\"x\"], \"stack_to_render\": [], \"heap\": {}, \"stdout\": \"\"}, {\"line\": 4, \"event\": \"step_line\", \"func_name\": \"<module>\", \"globals\": {\"x\": \"ciao\", \"y\": \"ciao\"}, \"ordered_globals\": [\"x\", \"y\"], \"stack_to_render\": [], \"heap\": {}, \"stdout\": \"\"}, {\"line\": 4, \"event\": \"return\", \"func_name\": \"<module>\", \"globals\": {\"x\": \"cibo\", \"y\": \"ciao\"}, \"ordered_globals\": [\"x\", \"y\"], \"stack_to_render\": [], \"heap\": {}, \"stdout\": \"\"}]}\n",
       "        </script>\n",
       "        <div id=\"jm-2fab4eee23fd3853c75355acc33ec14c-21\" class=\"pytutorVisualizer\"> </div>\n",
       "                        \n",
       "        <script>\n",
       "        \n",
       "        (function(){\n",
       "            console.log(\"jupman.py embedded javascript: adding Python tutor visualizer...\")\n",
       "            \n",
       "            var trace = JSON.parse(document.getElementById('json-jm-2fab4eee23fd3853c75355acc33ec14c-21').innerHTML);                                        \n",
       "            // NOTE: id without #\n",
       "                    \n",
       "            addVisualizerToPage(trace, 'jm-2fab4eee23fd3853c75355acc33ec14c-21',{'embeddedMode' : false,\n",
       "                                             'disableHeapNesting': true,\n",
       "                                             'visualizerIdOverride':'viz-jm-2fab4eee23fd3853c75355acc33ec14c-21'})  \n",
       "            \n",
       "            \n",
       "            // set overflow for pytuts - need to do in python as css \n",
       "            // does not allow parent selection\n",
       "            var pytuts = $('.pytutorVisualizer')\n",
       "            pytuts.closest('div.output_html.rendered_html.output_result')\n",
       "                    .css('overflow-x', 'visible')\n",
       "        \n",
       "            //pytuts.closest('div.output_html.rendered_html.output_result')\n",
       "            //      .css('background-color','red')                \n",
       "            \n",
       "        })()\n",
       "        </script>\n",
       "                \n",
       "    \n",
       "    <div style=\"text-align:center; font-size:0.9em\"> <a href=\"https://pythontutor.com/visualize.html#mode=edit\" target=\"_blank\">Python Tutor</a> visualization</div> \n",
       "    "
      ],
      "text/plain": [
       "<IPython.core.display.HTML object>"
      ]
     },
     "execution_count": 19,
     "metadata": {},
     "output_type": "execute_result"
    }
   ],
   "source": [
    "x = \"ciao\"\n",
    "y = x\n",
    "x = y[0] + y[1] + 'b' + y[3]\n",
    "\n",
    "jupman.pytut()"
   ]
  },
  {
   "cell_type": "markdown",
   "metadata": {},
   "source": [
    "## Slice\n",
    "\n",
    "Potremmo voler leggere solo una sottosequenza che parte da una posizione e finisce in un'altra. Per esempio, supponiamo di avere la scritta"
   ]
  },
  {
   "cell_type": "code",
   "execution_count": 20,
   "metadata": {},
   "outputs": [],
   "source": [
    "    #0123456789\n",
    "x = 'mercantile'"
   ]
  },
  {
   "cell_type": "markdown",
   "metadata": {},
   "source": [
    "e vogliamo estrarre la stringa `'canti'`, che parte dall'indice 3 **incluso** e arriva all'indice 8 **escluso**. Potremmo estrarre i singoli caratteri e concatenarli con il `+`, ma scriveremmo tantissimo codice. Un opzione migliore è usare le cosiddette _slice_: basta scrivere la stringa seguita da parentesi quadre contenti i due indici di inzio (**incluso**) e fine (**escluso**) separati dai due punti `:`"
   ]
  },
  {
   "cell_type": "code",
   "execution_count": 21,
   "metadata": {},
   "outputs": [
    {
     "data": {
      "text/plain": [
       "'canti'"
      ]
     },
     "execution_count": 21,
     "metadata": {},
     "output_type": "execute_result"
    }
   ],
   "source": [
    "    #0123456789\n",
    "x = 'mercantile'\n",
    "\n",
    "x[3:8]   # notare i : in mezzo ai due indici di inizio e fine"
   ]
  },
  {
   "cell_type": "markdown",
   "metadata": {},
   "source": [
    "<div class=\"alert alert-warning\">\n",
    "\n",
    "**ATTENZIONE: Estrarre una sottostringa con le slice NON modifica la stringa originale !!** \n",
    "</div>\n",
    "\n",
    "Vediamo un esempio:"
   ]
  },
  {
   "cell_type": "code",
   "execution_count": 22,
   "metadata": {},
   "outputs": [
    {
     "name": "stdout",
     "output_type": "stream",
     "text": [
      "              x è mercantile\n",
      "La slice x[3:8] è canti\n",
      "              x è mercantile\n"
     ]
    }
   ],
   "source": [
    "    #0123456789\n",
    "x = 'mercantile'\n",
    "\n",
    "print('              x è', x)\n",
    "print('La slice x[3:8] è', x[3:8])\n",
    "print('              x è', x)       # nota che x continua a puntare alla vecchia stringa!"
   ]
  },
  {
   "cell_type": "markdown",
   "metadata": {},
   "source": [
    "**DOMANDA**: se `x` è una stringa qualsiasi di lunghezza almeno 5, cosa fa questo codice? Da errore? Funziona? Possiamo abbreviarlo?\n",
    "\n",
    "```python\n",
    "x[3:4]\n",
    "```"
   ]
  },
  {
   "cell_type": "markdown",
   "metadata": {},
   "source": [
    "**RISPOSTA**: Se la stringa ha lunghezza almeno 5, potremmo avere una situazione del genere:\n",
    "\n",
    "```python\n",
    "    #01234\n",
    "x = 'abcde'\n",
    "```\n",
    "\n",
    "La slice `x[3:4]` estrarrà i caratteri da posizione 3 **incluso** fino alla posizione 4 **esclusa**, quindi di fatto estrarrà solo un carattere alla posizione 3. Il codice è quindi equivalente a `x[3]`\n"
   ]
  },
  {
   "cell_type": "markdown",
   "metadata": {},
   "source": [
    "### Esercizio - garalampog\n",
    "\n",
    "Scrivi del codice per estrarre e stampare `alam` dalla stringa `\"garalampog\"`. Prova a indovinare correttamente gli indici."
   ]
  },
  {
   "cell_type": "code",
   "execution_count": 23,
   "metadata": {},
   "outputs": [
    {
     "name": "stdout",
     "output_type": "stream",
     "text": [
      "alam\n"
     ]
    }
   ],
   "source": [
    "x = \"garalampog\"\n",
    "\n",
    "# scrivi qui\n",
    "\n",
    "#      0123456789\n",
    "print(x[3:7])\n"
   ]
  },
  {
   "cell_type": "markdown",
   "metadata": {},
   "source": [
    "### Esercizio - ifEweEfav  lkSD lkWe\n",
    "\n",
    "Scrivi del codice per estrarre e stampare `kS` dalla stringa `\"ifE\\te\\nfav  lkD lkWe\"`. Fai attenzione agli spazi e caratteri speciali (prima potresti voler stampare `x`). Prova a indovinare gli indici corretti.\n"
   ]
  },
  {
   "cell_type": "code",
   "execution_count": 24,
   "metadata": {},
   "outputs": [
    {
     "name": "stdout",
     "output_type": "stream",
     "text": [
      "kD\n"
     ]
    }
   ],
   "source": [
    "x = \"ifE\\te\\nfav  lkD lkWe\"\n",
    "\n",
    "# scrivi qui\n",
    "\n",
    "#     0123 45 67890123456789\n",
    "#x = \"ifE\\te\\nfav  lkD lkWe\"\n",
    "\n",
    "print(x[12:14])"
   ]
  },
  {
   "cell_type": "markdown",
   "metadata": {},
   "source": [
    "### Slice - limiti\n",
    "\n",
    "Quando operiamo con le slice dobbiamo stare attenti ai limiti degli indici. Vediamo come si comportano:"
   ]
  },
  {
   "cell_type": "code",
   "execution_count": 25,
   "metadata": {},
   "outputs": [
    {
     "data": {
      "text/plain": [
       "'sed'"
      ]
     },
     "execution_count": 25,
     "metadata": {},
     "output_type": "execute_result"
    }
   ],
   "source": [
    "#012345\n",
    "\"sedia\"[0:3]  # da indice 0 *incluso* a 3 *escluso*"
   ]
  },
  {
   "cell_type": "code",
   "execution_count": 26,
   "metadata": {},
   "outputs": [
    {
     "data": {
      "text/plain": [
       "'sedi'"
      ]
     },
     "execution_count": 26,
     "metadata": {},
     "output_type": "execute_result"
    }
   ],
   "source": [
    "#012345\n",
    "\"sedia\"[0:4]  # da indice 0 *incluso* a 4 *escluso*"
   ]
  },
  {
   "cell_type": "code",
   "execution_count": 27,
   "metadata": {},
   "outputs": [
    {
     "data": {
      "text/plain": [
       "'sedia'"
      ]
     },
     "execution_count": 27,
     "metadata": {},
     "output_type": "execute_result"
    }
   ],
   "source": [
    "#012345\n",
    "\"sedia\"[0:5]  # da indice 0 *incluso* a 5 *escluso*"
   ]
  },
  {
   "cell_type": "code",
   "execution_count": 28,
   "metadata": {},
   "outputs": [
    {
     "data": {
      "text/plain": [
       "'sedia'"
      ]
     },
     "execution_count": 28,
     "metadata": {},
     "output_type": "execute_result"
    }
   ],
   "source": [
    "#012345\n",
    "\"sedia\"[0:6]   # se andiamo oltre la lunghezza della stringa Python non si arrabbia"
   ]
  },
  {
   "cell_type": "markdown",
   "metadata": {},
   "source": [
    "**DOMANDA**: se `x` è una stringa qualsiasi (anche vuota), questa espressione cosa fa? Può dare errore? o ritorna qualcosa di utile? \n",
    "\n",
    "```python\n",
    "x[0:len(x)]\n",
    "```"
   ]
  },
  {
   "cell_type": "markdown",
   "metadata": {},
   "source": [
    "**RISPOSTA**: Ritorna sempre una NUOVA copia dell'intera stringa, perchè parte da indice 0 _incluso_ e finisce a indice `len(x)` _escluso_\n",
    "\n",
    "Funziona anche con la stringa vuota, perchè `''[0:len('')]` equivale a `''[0:0]`  cioè sottostringa da 0 _incluso_ a 0 _escluso_, quindi non prendiamo nessun carattere e non sforiamo i limiti della stringa. In realtà, anche se sforassimo, Python non avrebbe problemi (prova a scrivere `''[0:100]`)"
   ]
  },
  {
   "cell_type": "markdown",
   "metadata": {},
   "source": [
    "### Slice - omissione limiti"
   ]
  },
  {
   "cell_type": "markdown",
   "metadata": {},
   "source": [
    "Volendo, è possibile omettere l'indice di partenza, in tal caso Python supporrà sia 0:"
   ]
  },
  {
   "cell_type": "code",
   "execution_count": 29,
   "metadata": {},
   "outputs": [
    {
     "data": {
      "text/plain": [
       "'tra'"
      ]
     },
     "execution_count": 29,
     "metadata": {},
     "output_type": "execute_result"
    }
   ],
   "source": [
    "#0123456789\n",
    "\"traghetto\"[:3]"
   ]
  },
  {
   "cell_type": "markdown",
   "metadata": {},
   "source": [
    "E' anche possibile omettere l'indice di fine, in tal caso Python estrarrà fino alla fine della stringa:"
   ]
  },
  {
   "cell_type": "code",
   "execution_count": 30,
   "metadata": {},
   "outputs": [
    {
     "data": {
      "text/plain": [
       "'ghetto'"
      ]
     },
     "execution_count": 30,
     "metadata": {},
     "output_type": "execute_result"
    }
   ],
   "source": [
    "#0123456789\n",
    "\"traghetto\"[3:]"
   ]
  },
  {
   "cell_type": "markdown",
   "metadata": {},
   "source": [
    "Omettendo entrambi gli indici si ottiene l'intera stringa:"
   ]
  },
  {
   "cell_type": "code",
   "execution_count": 31,
   "metadata": {},
   "outputs": [
    {
     "data": {
      "text/plain": [
       "'traghetto'"
      ]
     },
     "execution_count": 31,
     "metadata": {},
     "output_type": "execute_result"
    }
   ],
   "source": [
    "\"traghetto\"[:]"
   ]
  },
  {
   "cell_type": "markdown",
   "metadata": {},
   "source": [
    "### Esercizio - isteroister\n",
    "\n",
    "Scrivere del codice che data una stringa `x` stampa la stringa composta da tutte le lettere di `x` eccetto la prima seguita da tutte le lettere di `x` eccetto l'ultima\n",
    "\n",
    "* il tuo codice deve funzionare con qualunque stringa\n",
    "\n",
    "Esempio:\n",
    "\n",
    "Dato\n",
    "```python\n",
    "x = \"mistero\"\n",
    "```\n",
    "\n",
    "deve stampare\n",
    "\n",
    "```\n",
    "isteromister\n",
    "```\n",
    "\n",
    "Dato\n",
    "```python\n",
    "x = \"corale\"\n",
    "```\n",
    "\n",
    "deve stampare\n",
    "\n",
    "`oralecoral`\n"
   ]
  },
  {
   "cell_type": "code",
   "execution_count": 32,
   "metadata": {},
   "outputs": [
    {
     "name": "stdout",
     "output_type": "stream",
     "text": [
      "isteromister\n"
     ]
    }
   ],
   "source": [
    "#jupman-purge-output\n",
    "x = \"mistero\" \n",
    "#x = \"corale\" \n",
    "\n",
    "# scrivi qui\n",
    "\n",
    "print(x[1:] + x[0:len(x)-1])"
   ]
  },
  {
   "cell_type": "markdown",
   "metadata": {},
   "source": [
    "### Slice - limiti negativi\n",
    "\n",
    "Volendo è anche possibile impostare limiti negativi, per quanto non sia sempre molto intuitivo."
   ]
  },
  {
   "cell_type": "code",
   "execution_count": 33,
   "metadata": {},
   "outputs": [
    {
     "data": {
      "text/plain": [
       "''"
      ]
     },
     "execution_count": 33,
     "metadata": {},
     "output_type": "execute_result"
    }
   ],
   "source": [
    "#0123456   \n",
    "\"foresta\"[3:0]   # da indice 3 a indici positivi <= 3 non produce nulla"
   ]
  },
  {
   "cell_type": "code",
   "execution_count": 34,
   "metadata": {},
   "outputs": [
    {
     "data": {
      "text/plain": [
       "''"
      ]
     },
     "execution_count": 34,
     "metadata": {},
     "output_type": "execute_result"
    }
   ],
   "source": [
    "#0123456   \n",
    "\"foresta\"[3:1]   # da indice 3 a indici positivi <= 3 non produce nulla"
   ]
  },
  {
   "cell_type": "code",
   "execution_count": 35,
   "metadata": {},
   "outputs": [
    {
     "data": {
      "text/plain": [
       "''"
      ]
     },
     "execution_count": 35,
     "metadata": {},
     "output_type": "execute_result"
    }
   ],
   "source": [
    "#0123456   \n",
    "\"foresta\"[3:2]  # da indice 3 a indici positivi <= 3 non produce nulla"
   ]
  },
  {
   "cell_type": "code",
   "execution_count": 36,
   "metadata": {},
   "outputs": [
    {
     "data": {
      "text/plain": [
       "''"
      ]
     },
     "execution_count": 36,
     "metadata": {},
     "output_type": "execute_result"
    }
   ],
   "source": [
    "#0123456   \n",
    "\"foresta\"[3:3]  # da indice 3 a indici positivi <= 3 non produce nulla"
   ]
  },
  {
   "cell_type": "markdown",
   "metadata": {},
   "source": [
    "Vediamo cosa succede con indici negativi: "
   ]
  },
  {
   "cell_type": "code",
   "execution_count": 37,
   "metadata": {},
   "outputs": [
    {
     "data": {
      "text/plain": [
       "'est'"
      ]
     },
     "execution_count": 37,
     "metadata": {},
     "output_type": "execute_result"
    }
   ],
   "source": [
    "#0123456   indici positivi\n",
    "#7654321   indici negativi \n",
    "\"foresta\"[3:-1]"
   ]
  },
  {
   "cell_type": "code",
   "execution_count": 38,
   "metadata": {},
   "outputs": [
    {
     "data": {
      "text/plain": [
       "'es'"
      ]
     },
     "execution_count": 38,
     "metadata": {},
     "output_type": "execute_result"
    }
   ],
   "source": [
    "#0123456   indici positivi\n",
    "#7654321   indici negativi\n",
    "\"foresta\"[3:-2]"
   ]
  },
  {
   "cell_type": "code",
   "execution_count": 39,
   "metadata": {},
   "outputs": [
    {
     "data": {
      "text/plain": [
       "'e'"
      ]
     },
     "execution_count": 39,
     "metadata": {},
     "output_type": "execute_result"
    }
   ],
   "source": [
    "#0123456   indici positivi\n",
    "#7654321   indici negativi\n",
    "\"foresta\"[3:-3]"
   ]
  },
  {
   "cell_type": "code",
   "execution_count": 40,
   "metadata": {},
   "outputs": [
    {
     "data": {
      "text/plain": [
       "''"
      ]
     },
     "execution_count": 40,
     "metadata": {},
     "output_type": "execute_result"
    }
   ],
   "source": [
    "#0123456   indici positivi\n",
    "#7654321   indici negativi \n",
    "\"foresta\"[3:-4]"
   ]
  },
  {
   "cell_type": "code",
   "execution_count": 41,
   "metadata": {},
   "outputs": [
    {
     "data": {
      "text/plain": [
       "''"
      ]
     },
     "execution_count": 41,
     "metadata": {},
     "output_type": "execute_result"
    }
   ],
   "source": [
    "#0123456   indici positivi\n",
    "#7654321   indici negativi \n",
    "\"foresta\"[3:-5]"
   ]
  },
  {
   "cell_type": "markdown",
   "metadata": {},
   "source": [
    "### Esercizio - javarnanda\n",
    "\n",
    "Data una stringa `x`, scrivi del codice per estrarre e stampare i suoi ultimi 3 caratteri e unirli ai primi 3.\n",
    "\n",
    "* Il tuo codice deve funzionare per qualsiasi stringa di lunghezza uguale o superiore a 3\n",
    "\n",
    "Esempio 1 - dato:\n",
    "\n",
    "```python\n",
    "x = \"javarnanda\"\n",
    "```\n",
    "\n",
    "dovrebbe stampare:\n",
    "\n",
    "```bash\n",
    "javnda\n",
    "```\n",
    "\n",
    "Esempio 2 - dato:\n",
    "\n",
    "```python\n",
    "x = \"bang\"\n",
    "```\n",
    "\n",
    "dovrebbe stampare:\n",
    "\n",
    "```bash\n",
    "banang\n",
    "```"
   ]
  },
  {
   "cell_type": "code",
   "execution_count": 42,
   "metadata": {},
   "outputs": [
    {
     "name": "stdout",
     "output_type": "stream",
     "text": [
      "javnda\n"
     ]
    }
   ],
   "source": [
    "x = \"javarnanda\"\n",
    "#x = \"bang\"\n",
    "\n",
    "# scrivi qui\n",
    "\n",
    "print(x[:3] + x[-3:])"
   ]
  },
  {
   "cell_type": "markdown",
   "metadata": {},
   "source": [
    "### Slice - modifica\n",
    "\n",
    "Supponiamo di avere la stringa "
   ]
  },
  {
   "cell_type": "code",
   "execution_count": 43,
   "metadata": {},
   "outputs": [],
   "source": [
    "    #0123456789\n",
    "s = \"il tavolo bianco è al centro della stanza\""
   ]
  },
  {
   "cell_type": "markdown",
   "metadata": {},
   "source": [
    "e di voler cambiare l'assegnazione della variabile `s` in modo che diventi associata alla stringa \n",
    "\n",
    "```python\n",
    "#0123456789\n",
    "\"il divano bianco è al centro della stanza\"\n",
    "```"
   ]
  },
  {
   "cell_type": "markdown",
   "metadata": {},
   "source": [
    "Visto che le due stringhe sono simili, potremmo essere tentati di ridefinire solo la sequenza di caratteri corrispondente alla parola `\"tavolo\"`, che va dall'indice `3` incluso all'indice `9` escluso:"
   ]
  },
  {
   "cell_type": "markdown",
   "metadata": {},
   "source": [
    "```python\n",
    "s[3:9] = \"divano\"   # ATTENZIONE! SBAGLIATO!\n",
    "\n",
    "---------------------------------------------------------------------------\n",
    "TypeError                                 Traceback (most recent call last)\n",
    "<ipython-input-57-0de7363c6882> in <module>\n",
    "----> 1 s[3:9] = \"divano\"   # ATTENZIONE! SBAGLIATO!\n",
    "\n",
    "TypeError: 'str' object does not support item assignment\n",
    "\n",
    "```"
   ]
  },
  {
   "cell_type": "markdown",
   "metadata": {},
   "source": [
    "Purtroppo, otterremo un errore, perchè come ripetuto più volte le stringhe sono IMMUTABILI, quindi non possiamo individuare una parte in una particolare stringa e provare a cambiare la stringa originale. Quello che invece possiamo fare è costruire una NUOVA stringa a partire da pezzi della stringa originale, concatenare i caratteri desiderati e associare il risultato alla variabile di cui vogliamo modificare l'assegnazione:"
   ]
  },
  {
   "cell_type": "code",
   "execution_count": 44,
   "metadata": {},
   "outputs": [
    {
     "name": "stdout",
     "output_type": "stream",
     "text": [
      "il divano bianco è al centro della stanza\n"
     ]
    }
   ],
   "source": [
    "    #0123456789\n",
    "s = \"il tavolo bianco è al centro della stanza\"\n",
    "s = s[0:3] + \"divano\" + s[9:]\n",
    "print(s)"
   ]
  },
  {
   "cell_type": "markdown",
   "metadata": {},
   "source": [
    "Quando Python trova la linea\n",
    "\n",
    "```python\n",
    "s = s[0:3] + \"divano\" + s[9:]\n",
    "```\n",
    "\n",
    "PRIMA calcola il risultato della parte a destra dell' `=`, e POI associa il risultato alla variabile che sta a sinistra. Nell'espressione a destra dell' `=` vengono solo solo generate e concatenate NUOVE stringhe, che quindi una volta costruite possono essere assegnate alla variabile `s`."
   ]
  },
  {
   "cell_type": "markdown",
   "metadata": {},
   "source": [
    "### Esercizio - la corsa\n",
    "\n",
    "Scrivere del codice per cui data una stringa `s` \n",
    "\n",
    "```python\n",
    "s = \"la corsa all'oro è iniziata.\"\n",
    "```\n",
    "e delle variabili\n",
    "\n",
    "```python\n",
    "cosa = \"atomo\"\n",
    "verbo = \"finita\"\n",
    "```\n",
    "\n",
    "sostituisce la sottostringa in corrispondenza di `\"oro\"` con la stringa presente nella variabile `cosa` e sostituisce la sottostringa in corrispondenza di `\"iniziata\"` con la stringa presente nella variabile `verbo`.\n",
    "\n",
    "Dopo l'esecuzione del tuo codice, la stringa associata ad `s` dovra essere\n",
    "\n",
    "```python\n",
    ">>> print(s)\n",
    "\"la corsa all'atomo è finita.\"\n",
    "```\n",
    "\n",
    "* **NON** usare caratteri costanti nel tuo codice, quindi niente punto `'.'` !"
   ]
  },
  {
   "cell_type": "code",
   "execution_count": 45,
   "metadata": {},
   "outputs": [
    {
     "name": "stdout",
     "output_type": "stream",
     "text": [
      "la corsa all'atomo è finita.\n"
     ]
    }
   ],
   "source": [
    "    #01234567890123456789012345678\n",
    "s = \"la corsa all'oro è iniziata.\"\n",
    "cosa = \"atomo\"\n",
    "verbo = \"finita\"\n",
    "\n",
    "# scrivi qui\n",
    "\n",
    "s = s[:13] + cosa + s[16:19] + verbo + s[27:]\n",
    "print(s)"
   ]
  },
  {
   "cell_type": "markdown",
   "metadata": {},
   "source": [
    "## Operatore `in`\n",
    "\n",
    "Per verificare se una stringa è contenuta in un'altra, possiamo usare l'operatore `in`. \n",
    "\n",
    "Nota che il risultato di questa espressione è un booleano:"
   ]
  },
  {
   "cell_type": "code",
   "execution_count": 46,
   "metadata": {},
   "outputs": [
    {
     "data": {
      "text/plain": [
       "True"
      ]
     },
     "execution_count": 46,
     "metadata": {},
     "output_type": "execute_result"
    }
   ],
   "source": [
    "'tra' in 'Cantando per le strade'   "
   ]
  },
  {
   "cell_type": "code",
   "execution_count": 47,
   "metadata": {},
   "outputs": [
    {
     "data": {
      "text/plain": [
       "False"
      ]
     },
     "execution_count": 47,
     "metadata": {},
     "output_type": "execute_result"
    }
   ],
   "source": [
    "'ca' in 'Cantando per le strade'  # l'operatore in   distingue tra maiuscole/minuscole"
   ]
  },
  {
   "cell_type": "code",
   "execution_count": 48,
   "metadata": {},
   "outputs": [
    {
     "data": {
      "text/plain": [
       "True"
      ]
     },
     "execution_count": 48,
     "metadata": {},
     "output_type": "execute_result"
    }
   ],
   "source": [
    "'Ca' in 'Cantando per le strade'  "
   ]
  },
  {
   "cell_type": "markdown",
   "metadata": {},
   "source": [
    "### Non abusare `in`"
   ]
  },
  {
   "cell_type": "markdown",
   "metadata": {},
   "source": [
    "<div class=\"alert alert-warning\">\n",
    "    \n",
    "**ATTENZIONE**: `in` **viene spesso usato in modo errato / inefficiente**\n",
    "\n",
    "Chiediti sempre:\n",
    "    \n",
    "1. la stringa potrebbe _non_ contenere la sottostringa cercata? Ricordati di gestire anche questo caso!\n",
    "2. `in` compie una ricerca in tutta la stringa, che può essere inefficiente: è proprio necessaria, o sappiamo già l'intervallo in cui cercare? \n",
    "3. se vogliamo sapere se un `carattere` è in una posizione nota a priori (es `3`), `in` non ci serve, basta scrivere `stringa[3] == carattere`. Usando `in` potrebbe trovare caratteri duplicati che stanno _prima_ o _dopo_ di quello che vogliamo verificare!\n",
    "</div>"
   ]
  },
  {
   "cell_type": "markdown",
   "metadata": {},
   "source": [
    "### Esercizio -  contenute 1\n",
    "\n",
    "Ti vengono date due stringhe `x` e `y`, e una terza `z`. Scrivi del codice che stampa `True` se `x` e `y` sono entrambe contenute in `z`.\n",
    "\n",
    "Esempio 1 - date:\n",
    "\n",
    "```python\n",
    "x = 'cad'\n",
    "y = 'ra'\n",
    "z = 'abracadabra'\n",
    "```\n",
    "dovrebbe stampare\n",
    "\n",
    "```bash\n",
    "True\n",
    "```\n",
    "\n",
    "Esempio 2 - date:\n",
    "\n",
    "```python\n",
    "x = 'zam'\n",
    "y = 'ra'\n",
    "z = 'abracadabra'\n",
    "```\n",
    "dovrebbe stampare\n",
    "\n",
    "```bash\n",
    "False\n",
    "```\n",
    "\n",
    "\n"
   ]
  },
  {
   "cell_type": "code",
   "execution_count": 49,
   "metadata": {},
   "outputs": [
    {
     "name": "stdout",
     "output_type": "stream",
     "text": [
      "True\n"
     ]
    }
   ],
   "source": [
    "#jupman-purge-output\n",
    "x,y,z = 'cad','ra','abracadabra'   # True\n",
    "#x,y,z = 'zam','ra','abracadabra'  # False\n",
    "\n",
    "# scrivi qui\n",
    "\n",
    "print((x in z) and (y in z))"
   ]
  },
  {
   "cell_type": "markdown",
   "metadata": {},
   "source": [
    "### Esercizio -  contenute 2\n",
    "\n",
    "Date tre stringhe `x`, `y`, `z`, scrivere del codice che stampa `True` se una stringa `x` è contenuta almeno in una delle stringhe `y` o `z`, altrimenti stampa `False`\n",
    "\n",
    "* il tuo codice deve funzionare con qualunque insieme di stringhe\n",
    "\n",
    "Esempio 1 - dati:\n",
    "\n",
    "```python\n",
    "x = 'tti'\n",
    "y = 'patti chiari amicizia lunga'\n",
    "z = 'tutto chiaro?'\n",
    "```\n",
    "\n",
    "deve mostrare:\n",
    "\n",
    "`True`\n",
    "\n",
    "Esempio 2 - dati:\n",
    "\n",
    "\n",
    "```python\n",
    "x = 'zio'\n",
    "y = 'patti chiari amicizia lunga'\n",
    "z = 'tutto chiaro?'\n",
    "```\n",
    "\n",
    "deve mostrare:\n",
    "\n",
    "`False`\n",
    "\n",
    "Esempio 3 - dati:\n",
    "\n",
    "\n",
    "```python\n",
    "x = 'chiaro'\n",
    "y = 'patti chiari amicizia lunga'\n",
    "z = 'tutto chiaro?'\n",
    "```\n",
    "\n",
    "deve mostrare:\n",
    "\n",
    "`True`\n"
   ]
  },
  {
   "cell_type": "code",
   "execution_count": 50,
   "metadata": {},
   "outputs": [
    {
     "name": "stdout",
     "output_type": "stream",
     "text": [
      "True\n"
     ]
    }
   ],
   "source": [
    "#jupman-purge-output\n",
    "x,y,z = 'tti', 'patti chiari amicizia lunga', 'tutto chiaro?'   # True\n",
    "#x,y,z = 'zio','patti chiari amicizia lunga','tutto chiaro?'    # False\n",
    "#x,y,z = 'chiaro','patti chiari amicizia lunga','tutto chiaro?' # True\n",
    "\n",
    "# scrivi qui\n",
    "\n",
    "print((x in y) or (x  in z))"
   ]
  },
  {
   "cell_type": "markdown",
   "metadata": {},
   "source": [
    "## Comparazioni\n",
    "\n",
    "Python ci offre la possibilità di eseguire una _comparazione lessicografica_ tra stringhe, come faremmo scrivendo nomi in una agenda di indirizzi. Sebbene ordinare nomi sia qualcosa di intuitivo che facciamo spesso, dobbiamo prestare attenzione ai casi speciali.\n",
    "\n",
    "Per prima cosa, vediamo come determinare quando due stringhe sono uguali."
   ]
  },
  {
   "cell_type": "markdown",
   "metadata": {},
   "source": [
    "### Operatori uguaglianza\n",
    "\n",
    "Per verificare se due stringhe sono uguali, possiamo usare l'operatore `==` che come risultato produce un booleano `True` oppure `False`\n",
    "\n",
    "<div class=\"alert alert-warning\">\n",
    "\n",
    "**ATTENZIONE: si scrive** `==` **con DUE uguali !!!**\n",
    "\n",
    "</div>\n"
   ]
  },
  {
   "cell_type": "code",
   "execution_count": 51,
   "metadata": {},
   "outputs": [
    {
     "data": {
      "text/plain": [
       "True"
      ]
     },
     "execution_count": 51,
     "metadata": {},
     "output_type": "execute_result"
    }
   ],
   "source": [
    "\"gatto\" == \"gatto\""
   ]
  },
  {
   "cell_type": "code",
   "execution_count": 52,
   "metadata": {},
   "outputs": [
    {
     "data": {
      "text/plain": [
       "False"
      ]
     },
     "execution_count": 52,
     "metadata": {},
     "output_type": "execute_result"
    }
   ],
   "source": [
    "\"gatto\" == \"cane\""
   ]
  },
  {
   "cell_type": "markdown",
   "metadata": {},
   "source": [
    "L'operatore di uguaglianza distingue tra maiuscole e minuscole:"
   ]
  },
  {
   "cell_type": "code",
   "execution_count": 53,
   "metadata": {},
   "outputs": [
    {
     "data": {
      "text/plain": [
       "False"
      ]
     },
     "execution_count": 53,
     "metadata": {},
     "output_type": "execute_result"
    }
   ],
   "source": [
    "\"gatto\" == \"GATTO\""
   ]
  },
  {
   "cell_type": "markdown",
   "metadata": {},
   "source": [
    "Per vedere se due stringhe NON sono uguali, possiamo usare l'operatore `!=`, che come possiamo attenderci si comporta esattamente all'opposto di `==`:"
   ]
  },
  {
   "cell_type": "code",
   "execution_count": 54,
   "metadata": {},
   "outputs": [
    {
     "data": {
      "text/plain": [
       "False"
      ]
     },
     "execution_count": 54,
     "metadata": {},
     "output_type": "execute_result"
    }
   ],
   "source": [
    "\"gatto\" != \"gatto\""
   ]
  },
  {
   "cell_type": "code",
   "execution_count": 55,
   "metadata": {},
   "outputs": [
    {
     "data": {
      "text/plain": [
       "True"
      ]
     },
     "execution_count": 55,
     "metadata": {},
     "output_type": "execute_result"
    }
   ],
   "source": [
    "\"gatto\" != \"cane\""
   ]
  },
  {
   "cell_type": "code",
   "execution_count": 56,
   "metadata": {},
   "outputs": [
    {
     "data": {
      "text/plain": [
       "True"
      ]
     },
     "execution_count": 56,
     "metadata": {},
     "output_type": "execute_result"
    }
   ],
   "source": [
    "\"gatto\" != \"GATTO\""
   ]
  },
  {
   "cell_type": "markdown",
   "metadata": {},
   "source": [
    "In alternativa, potremmo anche usare l'operatore `not`:"
   ]
  },
  {
   "cell_type": "code",
   "execution_count": 57,
   "metadata": {},
   "outputs": [
    {
     "data": {
      "text/plain": [
       "False"
      ]
     },
     "execution_count": 57,
     "metadata": {},
     "output_type": "execute_result"
    }
   ],
   "source": [
    "not \"gatto\" == \"gatto\""
   ]
  },
  {
   "cell_type": "code",
   "execution_count": 58,
   "metadata": {},
   "outputs": [
    {
     "data": {
      "text/plain": [
       "True"
      ]
     },
     "execution_count": 58,
     "metadata": {},
     "output_type": "execute_result"
    }
   ],
   "source": [
    "not \"gatto\" == \"cane\""
   ]
  },
  {
   "cell_type": "code",
   "execution_count": 59,
   "metadata": {},
   "outputs": [
    {
     "data": {
      "text/plain": [
       "True"
      ]
     },
     "execution_count": 59,
     "metadata": {},
     "output_type": "execute_result"
    }
   ],
   "source": [
    "not \"gatto\" == \"GATTO\""
   ]
  },
  {
   "cell_type": "markdown",
   "metadata": {},
   "source": [
    "**DOMANDA**: Il codice seguente cosa stampa?\n",
    "    \n",
    "```python\n",
    "x = \"fiume\" == \"fiume\" \n",
    "print(x)\n",
    "```"
   ]
  },
  {
   "cell_type": "markdown",
   "metadata": {},
   "source": [
    "**RISPOSTA**: Quando Python incontra `x = \"fiume\" == \"fiume\"` vede che è un'assegnazione, che dovrebbe associare alla variabile `x` il risultato dell'espressione `\"fiume\" == \"fiume\"`. Quindi PRIMA calcola l'espressione `\"fiume\" == \"fiume\"` che produce il booleano `True`, e POI associa il valore `True` alla variabile `x`. Quindi vedremo stampato `True`"
   ]
  },
  {
   "cell_type": "markdown",
   "metadata": {},
   "source": [
    "**DOMANDA**: Per ciascuna delle espressioni seguenti, prova a indovinare se produce `True` o `False`\n",
    "\n",
    "\n",
    "1.  ```python\n",
    "    'cappello' != 'Cappello'\n",
    "    ```\n",
    "1.  ```python    \n",
    "    'cappello' == 'CAPPELLO'\n",
    "    ```\n",
    "1.  ```python    \n",
    "    'pensieroso'[4:8] == 'forestiero'[6:]\n",
    "    ```\n",
    "1.  ```python    \n",
    "    'CoStOsO'[4:] == 'oSo'\n",
    "    ```\n",
    "1.  ```python    \n",
    "    'chiaro'[9:20] == 'scuro'[10:15]\n",
    "    ```\n",
    "1.  ```python    \n",
    "    'ramarro'[-1] == 'giglio'[-1]\n",
    "    ```\n",
    "1.  ```python    \n",
    "    ('cappello' != 'giacca') == ('pantaloni' != 'cravatta')\n",
    "    ```\n",
    "1.  ```python    \n",
    "    ('stra' in 'stradivarius') == ('div' in 'divano')\n",
    "    ```\n",
    "1.  ```python    \n",
    "    len('nota') in '5436'\n",
    "    ```\n",
    "1.  ```python    \n",
    "    str(len('nota')) in '5436'\n",
    "    ```\n",
    "1.  ```python    \n",
    "    len('cartellone') in '5436'\n",
    "    ```\n",
    "1.  ```python    \n",
    "    str(len('cartellone')) in '5436'\n",
    "    ```"
   ]
  },
  {
   "cell_type": "markdown",
   "metadata": {},
   "source": [
    "### Esercizio - rockettaro\n",
    "\n",
    "Scrivi del codice che stampa `True` se una `parola` inizia con le stesse due lettere con cui finisce\n",
    "\n",
    "* Il tuo codice deve funzionare per qualsiasi `parola`"
   ]
  },
  {
   "cell_type": "code",
   "execution_count": 60,
   "metadata": {},
   "outputs": [
    {
     "name": "stdout",
     "output_type": "stream",
     "text": [
      "True\n"
     ]
    }
   ],
   "source": [
    "#jupman-purge-output\n",
    "parola = 'rockettaro'  # True\n",
    "#parola = 'massima'    # True\n",
    "#parola = 'stima'      # False\n",
    "#parola = 'baobab'     # False\n",
    "\n",
    "# scrivi qui\n",
    "\n",
    "print(parola[:2] == parola[-2:len(parola)])"
   ]
  },
  {
   "cell_type": "markdown",
   "metadata": {},
   "source": [
    "### Comparare caratteri\n",
    "\n",
    "I caratteri hanno un ordine che possiamo sfruttare. Vediamo un esempio:"
   ]
  },
  {
   "cell_type": "code",
   "execution_count": 61,
   "metadata": {},
   "outputs": [
    {
     "data": {
      "text/plain": [
       "True"
      ]
     },
     "execution_count": 61,
     "metadata": {},
     "output_type": "execute_result"
    }
   ],
   "source": [
    "'a' < 'g'"
   ]
  },
  {
   "cell_type": "markdown",
   "metadata": {},
   "source": [
    "un altro:"
   ]
  },
  {
   "cell_type": "code",
   "execution_count": 62,
   "metadata": {},
   "outputs": [
    {
     "data": {
      "text/plain": [
       "True"
      ]
     },
     "execution_count": 62,
     "metadata": {},
     "output_type": "execute_result"
    }
   ],
   "source": [
    "'m' > 'c'"
   ]
  },
  {
   "cell_type": "markdown",
   "metadata": {},
   "source": [
    "Sembrano comparazioni ragionevoli! Ma cosa dire di queste (nota la `Z` maiuscola)?"
   ]
  },
  {
   "cell_type": "code",
   "execution_count": 63,
   "metadata": {},
   "outputs": [
    {
     "data": {
      "text/plain": [
       "False"
      ]
     },
     "execution_count": 63,
     "metadata": {},
     "output_type": "execute_result"
    }
   ],
   "source": [
    "'a' < 'Z'"
   ]
  },
  {
   "cell_type": "markdown",
   "metadata": {},
   "source": [
    "Forse questa non sembra così ovvia. E se proviamo ad essere creativi e compariamo con simboli come parentesi quadre o cuori [Unicode](https://it.softpython.org/strings/strings1-sol.html#Caratteri-Unicode) ??"
   ]
  },
  {
   "cell_type": "code",
   "execution_count": 64,
   "metadata": {},
   "outputs": [
    {
     "data": {
      "text/plain": [
       "False"
      ]
     },
     "execution_count": 64,
     "metadata": {},
     "output_type": "execute_result"
    }
   ],
   "source": [
    "'a' > '♥'"
   ]
  },
  {
   "cell_type": "markdown",
   "metadata": {},
   "source": [
    "Per determinare come gestire questi casi speciali, dobbiamo ricordare che la codifica [ASCII](https://it.softpython.org/strings/strings1-sol.html#Caratteri-ASCII) assegna un numero di posizione ad ogni carattere, definendo di fatto _un ordine_ tra tutti i suoi caratteri.\n",
    "\n",
    "Se vogliamo sapere il numero corrispondente di un carattere, possiamo usare la funzione `ord`:"
   ]
  },
  {
   "cell_type": "code",
   "execution_count": 65,
   "metadata": {},
   "outputs": [
    {
     "data": {
      "text/plain": [
       "97"
      ]
     },
     "execution_count": 65,
     "metadata": {},
     "output_type": "execute_result"
    }
   ],
   "source": [
    "ord('a')"
   ]
  },
  {
   "cell_type": "code",
   "execution_count": 66,
   "metadata": {},
   "outputs": [
    {
     "data": {
      "text/plain": [
       "98"
      ]
     },
     "execution_count": 66,
     "metadata": {},
     "output_type": "execute_result"
    }
   ],
   "source": [
    "ord('b')"
   ]
  },
  {
   "cell_type": "code",
   "execution_count": 67,
   "metadata": {},
   "outputs": [
    {
     "data": {
      "text/plain": [
       "122"
      ]
     },
     "execution_count": 67,
     "metadata": {},
     "output_type": "execute_result"
    }
   ],
   "source": [
    "ord('z')"
   ]
  },
  {
   "cell_type": "markdown",
   "metadata": {},
   "source": [
    "Se vogliamo andare nell'altro senso, dato un numero di posizione possiamo ottenere il carattere corrispondente con la funzione `chr`: "
   ]
  },
  {
   "cell_type": "code",
   "execution_count": 68,
   "metadata": {},
   "outputs": [
    {
     "data": {
      "text/plain": [
       "'a'"
      ]
     },
     "execution_count": 68,
     "metadata": {},
     "output_type": "execute_result"
    }
   ],
   "source": [
    "chr(97)"
   ]
  },
  {
   "cell_type": "markdown",
   "metadata": {},
   "source": [
    "I caratteri maiuscoli hanno posizioni differenti:"
   ]
  },
  {
   "cell_type": "code",
   "execution_count": 69,
   "metadata": {},
   "outputs": [
    {
     "data": {
      "text/plain": [
       "65"
      ]
     },
     "execution_count": 69,
     "metadata": {},
     "output_type": "execute_result"
    }
   ],
   "source": [
    "ord('A')"
   ]
  },
  {
   "cell_type": "code",
   "execution_count": 70,
   "metadata": {},
   "outputs": [
    {
     "data": {
      "text/plain": [
       "90"
      ]
     },
     "execution_count": 70,
     "metadata": {},
     "output_type": "execute_result"
    }
   ],
   "source": [
    "ord('Z')"
   ]
  },
  {
   "cell_type": "markdown",
   "metadata": {},
   "source": [
    "**ESERCIZIO**: Usando le funzioni sopra, prova a trovare quali caratteri sono _tra_ la `Z` maiuscola e la `a` minuscola."
   ]
  },
  {
   "cell_type": "code",
   "execution_count": 71,
   "metadata": {},
   "outputs": [
    {
     "name": "stdout",
     "output_type": "stream",
     "text": [
      "[ \\ ] ^ _ `\n"
     ]
    }
   ],
   "source": [
    "#jupman-purge-output\n",
    "# scrivi qui\n",
    "print(chr(91),chr(92), chr(93),chr(94), chr(95),chr(96))"
   ]
  },
  {
   "cell_type": "markdown",
   "metadata": {},
   "source": [
    "L'ordine ci permette di eseguire _comparazioni lessicografiche_ tra caratteri singoli:"
   ]
  },
  {
   "cell_type": "code",
   "execution_count": 72,
   "metadata": {},
   "outputs": [
    {
     "data": {
      "text/plain": [
       "True"
      ]
     },
     "execution_count": 72,
     "metadata": {},
     "output_type": "execute_result"
    }
   ],
   "source": [
    "'a' < 'b'"
   ]
  },
  {
   "cell_type": "code",
   "execution_count": 73,
   "metadata": {},
   "outputs": [
    {
     "data": {
      "text/plain": [
       "False"
      ]
     },
     "execution_count": 73,
     "metadata": {},
     "output_type": "execute_result"
    }
   ],
   "source": [
    "'g' >= 'm'"
   ]
  },
  {
   "cell_type": "markdown",
   "metadata": {},
   "source": [
    "**ESERCIZIO**: Scrivi del codice che:\n",
    "\n",
    "1. stampa i valori `ord` di `'A'`, `'Z'` e un dato carattere `car` \n",
    "2. stampa `True` se `car` è maiuscolo, e `False` altrimenti\n",
    "\n",
    "\n",
    "* il tuo codice funzionerebbe anche con caratteri accentati capitalizzati come `'Á'`? \n",
    "* **NOTA**: gli insiemi di caratteri possibili sono parecchi, perciò la soluzione appropriata sarebbe usare il metodo [isupper](https://it.softpython.org/strings/strings3-sol.html#Metodi-isupper-e-islower) che vedremo nel prossimo tutorial."
   ]
  },
  {
   "cell_type": "code",
   "execution_count": 74,
   "metadata": {},
   "outputs": [
    {
     "name": "stdout",
     "output_type": "stream",
     "text": [
      "A: 65  Z: 90\n",
      "G: 71\n"
     ]
    },
    {
     "data": {
      "text/plain": [
       "True"
      ]
     },
     "execution_count": 74,
     "metadata": {},
     "output_type": "execute_result"
    }
   ],
   "source": [
    "#jupman-purge-output\n",
    "car = 'G'   # True\n",
    "#car = 'g'  # False\n",
    "\n",
    "#car = 'Á'  # True ?? Nota l'accento!\n",
    "\n",
    "# scrivi qui\n",
    "print('A:', ord('A'), ' Z:', ord('Z'))\n",
    "print(car+':',ord(car))\n",
    "ord(car) >= ord('A') and ord(car) <= ord('Z')  #  only checks simple English alphabet cases"
   ]
  },
  {
   "cell_type": "markdown",
   "metadata": {},
   "source": [
    "Inoltre, dato che l'insieme dei caratteri Unicode _include_ l'ASCII, l'ordine dei caratteri ASCII può essere usato per compararli in sicurezza con i caratteri unicode, perciò comparare i caratteri o i loro `ord` dovrebbe sempre essere equivalente:"
   ]
  },
  {
   "cell_type": "code",
   "execution_count": 75,
   "metadata": {},
   "outputs": [
    {
     "data": {
      "text/plain": [
       "97"
      ]
     },
     "execution_count": 75,
     "metadata": {},
     "output_type": "execute_result"
    }
   ],
   "source": [
    "ord('a')   # ascii"
   ]
  },
  {
   "cell_type": "code",
   "execution_count": 76,
   "metadata": {},
   "outputs": [
    {
     "data": {
      "text/plain": [
       "9829"
      ]
     },
     "execution_count": 76,
     "metadata": {},
     "output_type": "execute_result"
    }
   ],
   "source": [
    "ord('♥')   # unicode"
   ]
  },
  {
   "cell_type": "code",
   "execution_count": 77,
   "metadata": {},
   "outputs": [
    {
     "data": {
      "text/plain": [
       "False"
      ]
     },
     "execution_count": 77,
     "metadata": {},
     "output_type": "execute_result"
    }
   ],
   "source": [
    "'a' > '♥'"
   ]
  },
  {
   "cell_type": "code",
   "execution_count": 78,
   "metadata": {},
   "outputs": [
    {
     "data": {
      "text/plain": [
       "False"
      ]
     },
     "execution_count": 78,
     "metadata": {},
     "output_type": "execute_result"
    }
   ],
   "source": [
    "ord('a') > ord('♥')"
   ]
  },
  {
   "cell_type": "markdown",
   "metadata": {},
   "source": [
    "Python offre anche comparazioni lessigrafiche su stringhe con più di un carattere. Per capire quale dovrebbe essere il risultato atteso, dobbiamo però distinguere diversi casi:\n",
    "\n",
    "* stringhe di lunghezza uguale / differente\n",
    "* stringhe con capitalizzazione uguale / diversa"
   ]
  },
  {
   "cell_type": "markdown",
   "metadata": {},
   "source": [
    "Cominciamo con stringhe della stessa lunghezza:"
   ]
  },
  {
   "cell_type": "code",
   "execution_count": 79,
   "metadata": {},
   "outputs": [
    {
     "data": {
      "text/plain": [
       "True"
      ]
     },
     "execution_count": 79,
     "metadata": {},
     "output_type": "execute_result"
    }
   ],
   "source": [
    "'mario' > 'luigi'"
   ]
  },
  {
   "cell_type": "code",
   "execution_count": 80,
   "metadata": {},
   "outputs": [
    {
     "data": {
      "text/plain": [
       "False"
      ]
     },
     "execution_count": 80,
     "metadata": {},
     "output_type": "execute_result"
    }
   ],
   "source": [
    "'mario' > 'wario'"
   ]
  },
  {
   "cell_type": "code",
   "execution_count": 81,
   "metadata": {},
   "outputs": [
    {
     "data": {
      "text/plain": [
       "False"
      ]
     },
     "execution_count": 81,
     "metadata": {},
     "output_type": "execute_result"
    }
   ],
   "source": [
    "'Mario' > 'Wario'"
   ]
  },
  {
   "cell_type": "code",
   "execution_count": 82,
   "metadata": {},
   "outputs": [
    {
     "data": {
      "text/plain": [
       "True"
      ]
     },
     "execution_count": 82,
     "metadata": {},
     "output_type": "execute_result"
    }
   ],
   "source": [
    "'Wario' < 'mario'    # il maiuscolo è *prima* del minuscolo in ASCII"
   ]
  },
  {
   "cell_type": "markdown",
   "metadata": {},
   "source": [
    "### Comparare lunghezze diverse\n",
    "\n",
    "Stringhe corte che sono incluse in altre più lunghe appaiono prima nell'ordinamento:"
   ]
  },
  {
   "cell_type": "code",
   "execution_count": 83,
   "metadata": {},
   "outputs": [
    {
     "data": {
      "text/plain": [
       "True"
      ]
     },
     "execution_count": 83,
     "metadata": {},
     "output_type": "execute_result"
    }
   ],
   "source": [
    "'troll' < 'trolley'"
   ]
  },
  {
   "cell_type": "markdown",
   "metadata": {},
   "source": [
    "Se condividono solo un prefisso con una stringa più lunga, Python compara i caratteri dopo il prefisso comune, in questo caso rileva che `e` precede la `s` corrispondente:"
   ]
  },
  {
   "cell_type": "code",
   "execution_count": 84,
   "metadata": {},
   "outputs": [
    {
     "data": {
      "text/plain": [
       "True"
      ]
     },
     "execution_count": 84,
     "metadata": {},
     "output_type": "execute_result"
    }
   ],
   "source": [
    "'trolley' < 'trolls' "
   ]
  },
  {
   "cell_type": "markdown",
   "metadata": {},
   "source": [
    "### Esercizio - Intervalli di caratteri\n",
    "\n",
    "Ti vengono fornite due coppie di stringhe `i1` e `i2` da due caratteri ciascuna.\n",
    "\n",
    "Supponi che rappresentino intervalli di caratteri: il primo carattere di un intervallo ha sempre un numero d'ordine inferiore o uguale al secondo.\n",
    "\n",
    "Ci sono cinque possibilità: il primo intervallo 'è contenuto in', oppure 'contiene', oppure  'si sovrappone parzialmente a', oppure 'è prima' o 'è dopo' il secondo intervallo. Scrivi del codice che dice quale relazione di contenimento abbiamo.\n",
    "\n",
    "Esempio 1 - dati:\n",
    "\n",
    "```python\n",
    "i1 = 'gm'\n",
    "i2 = 'cp'\n",
    "```\n",
    "\n",
    "Il tuo programma dovrebbe stampare:\n",
    "\n",
    "```\n",
    "gm è contenuto in cp\n",
    "```\n",
    "\n",
    "Per vedere perchè, puoi guardare a questa piccola rappresentazione (**non** è necessario stamparla!):\n",
    "\n",
    "```\n",
    "  c   g     m  p\n",
    "abcdefghijklmnopqrstuvwxyz\n",
    "```\n",
    "\n",
    "Esempio 2 - dati:\n",
    "\n",
    "```python\n",
    "i1 = 'mr'\n",
    "i2 = 'pt'\n",
    "```\n",
    "\n",
    "Il tuo programma dovrebbe stampare:\n",
    "\n",
    "```\n",
    "mr si sovrappone parzialmente a pt\n",
    "```\n",
    "\n",
    "perchè `mr` non è contenuto nè contiene ne completamente precede nè completamente segue `pt` (**non** è necessario stampare questo:)\n",
    "\n",
    "```\n",
    "            m  p r t\n",
    "abcdefghijklmnopqrstuvwxyz\n",
    "```\n",
    "\n",
    "* se l'intervallo `i1` coincide con `i2`, è considerato come contenente `i2`\n",
    "* **NON** usare cicli nè `if`\n",
    "* **SUGGERIMENTO**: per soddisfare i vincoli qui sopra, pensa all'[ordine di valutazione dei booleani](https://it.softpython.org/basics/basics2-bools-sol.html#Ordine-di-valutazione):\n",
    "\n",
    "```python\n",
    "'g' >= 'c' and 'm' <= 'p' and 'è contenuto in'\n",
    "```\n",
    "\n",
    "produce come risultato la stringa `'è contenuto in'`"
   ]
  },
  {
   "cell_type": "code",
   "execution_count": 85,
   "metadata": {},
   "outputs": [
    {
     "name": "stdout",
     "output_type": "stream",
     "text": [
      "gm è contenuto in cp\n"
     ]
    }
   ],
   "source": [
    "#jupman-purge-output\n",
    "i1,i2 = 'gm','cp'   # gm è contenuto in cp\n",
    "#i1,i2 = 'dh','dh'  # gm è contenuto in cp  #(caso speciale)\n",
    "#i1,i2 = 'bw','dq'  # bw contiene dq\n",
    "#i1,i2 = 'ac','bd'  # ac si sovrappone parzialmente a bd\n",
    "#i1,i2 = 'mr','pt'  # mr si sovrappone parzialmente  pt\n",
    "#i1,i2 = 'fm','su'  # fm è prima di su\n",
    "#i1,i2 = 'xz','pq'  # xz è dopo pq\n",
    "\n",
    "# scrivi qui\n",
    "res = (i1[0] >= i2[0] and i1[1] <= i2[1] and 'è contenuto in')  \\\n",
    "      or (i1[0] < i2[0] and i1[1] >i2[1] and 'contiene')         \\\n",
    "      or (i1[0] >= i2[0] and i1[0] <= i2[1] and 'si sovrappone parzialmente a') \\\n",
    "      or (i1[1] >= i2[0] and i1[1] <= i2[1] and 'si sovrappone parzialmente a')  \\\n",
    "      or (i1[1] < i2[0] and 'è prima di')   \\\n",
    "      or (i1[0] > i2[1] and 'è dopo')\n",
    "      \n",
    "print(i1, res, i2)"
   ]
  },
  {
   "cell_type": "markdown",
   "metadata": {},
   "source": [
    "### Esercizio - La Biblioteca di Encodicus\n",
    "\n",
    "Nello studio dell'algoritmista Encodicus è presente uno scaffale diviso in 26 sezioni ordinate alfabeticamente, ove custodisce gelosamente i suoi preziosi testi alchemici. Ciascuna sezione può contenere al massimo 9 libri. Un giorno, Encodicus decide di acquistare un nuovo tomo da aggiungere alla sua collezione: scrivi del codice che data una stringa rappresentante lo `scaffale` con i conteggi dei libri e un nuovo `libro`, trovi la giusta posizione del libro e aggiorni `scaffale` di conseguenza\n",
    "\n",
    "- assumi che nessuna sezione contenga `9` libri\n",
    "- assumi che i nomi dei libri siano sempre in minuscolo\n",
    "\n",
    "\n",
    "- **NON usare cicli,** `if`**, o metodi delle stringhe**\n",
    "- **NON** scrivere manualmente stringhe con 26 caratteri, o peggio creare 26 variabili !!!\n",
    "- **USA** `ord` per trovare la posizione della sezione \n",
    "\n",
    "Esempio - dati:\n",
    "\n",
    "```python\n",
    "scaffale = \"|a 7|b 5|c 5|d 8|e 2|f 0|g 4|h 8|i 7|j 1|k 6|l 0|m 5|n 0|o 3|p 7|q 2|r 2|s 4|t 6|u 1|v 3|w 3|x 5|y 7|z 6|\"\n",
    "libro = \"ciclare all'aperto\"\n",
    "```\n",
    "\n",
    "dopo il tuo codice  `scaffale` deve risultare aggiornato con `|c 6|`:\n",
    "\n",
    "```python\n",
    ">>> print(scaffale)\n",
    "|a 7|b 5|c 6|d 8|e 2|f 0|g 4|h 8|i 7|j 1|k 6|l 0|m 5|n 0|o 3|p 7|q 2|r 2|s 4|t 6|u 1|v 3|w 3|x 5|y 7|z 6|\n",
    "```\n"
   ]
  },
  {
   "cell_type": "code",
   "execution_count": 86,
   "metadata": {},
   "outputs": [
    {
     "name": "stdout",
     "output_type": "stream",
     "text": [
      "|a 7|b 5|c 6|d 8|e 2|f 0|g 4|h 8|i 7|j 1|k 6|l 0|m 5|n 0|o 3|p 7|q 2|r 2|s 4|t 6|u 1|v 3|w 3|x 5|y 7|z 6|\n"
     ]
    }
   ],
   "source": [
    "#jupman-purge-output\n",
    "libro = \"ciclare all'aperto\"   \n",
    "#libro = \"algoritmi occulti\"   \n",
    "#libro = \"teoria dello zippo\"  \n",
    "#libro = \"zoologia dello sviluppatore software\"\n",
    "\n",
    "scaffale = \"|a 7|b 5|c 5|d 8|e 2|f 0|g 4|h 8|i 7|j 1|k 6|l 0|m 5|n 0|o 3|p 7|q 2|r 2|s 4|t 6|u 1|v 3|w 3|x 5|y 7|z 6|\"\n",
    "\n",
    "# scrivi qui\n",
    "\n",
    "c = libro[0]\n",
    "\n",
    "i = ord(c) - ord('a')\n",
    "n = int(scaffale[(i*4)+3:((i)*4)+4])\n",
    "\n",
    "scaffale = scaffale[:i*4] + '|' + c + ' ' + str(n+1)  + scaffale[(i+1)*4:]\n",
    "\n",
    "print(scaffale)"
   ]
  },
  {
   "cell_type": "markdown",
   "metadata": {},
   "source": [
    "## Operatore di replicazione\n",
    "\n",
    "Con l'operatore `*` puoi replicare una stringa n volte, per esempio:"
   ]
  },
  {
   "cell_type": "code",
   "execution_count": 87,
   "metadata": {},
   "outputs": [
    {
     "data": {
      "text/plain": [
       "'birrabirrabirrabirra'"
      ]
     },
     "execution_count": 87,
     "metadata": {},
     "output_type": "execute_result"
    }
   ],
   "source": [
    "'birra' * 4"
   ]
  },
  {
   "cell_type": "markdown",
   "metadata": {},
   "source": [
    "Nota come venga creata una NUOVA stringa, l'originale non viene intaccata:"
   ]
  },
  {
   "cell_type": "code",
   "execution_count": 88,
   "metadata": {},
   "outputs": [],
   "source": [
    "beviamo = \"birra\""
   ]
  },
  {
   "cell_type": "code",
   "execution_count": 89,
   "metadata": {},
   "outputs": [
    {
     "name": "stdout",
     "output_type": "stream",
     "text": [
      "birrabirrabirrabirra\n"
     ]
    }
   ],
   "source": [
    "print(beviamo * 4)"
   ]
  },
  {
   "cell_type": "code",
   "execution_count": 90,
   "metadata": {},
   "outputs": [
    {
     "data": {
      "text/plain": [
       "'birra'"
      ]
     },
     "execution_count": 90,
     "metadata": {},
     "output_type": "execute_result"
    }
   ],
   "source": [
    "beviamo"
   ]
  },
  {
   "cell_type": "markdown",
   "metadata": {},
   "source": [
    "### Esercizio - za za za\n",
    "\n",
    "Data una `sillaba` e una `frase` che termina con una carattere `n` come cifra, scrivi del codice che stampa una stringa con la `sillaba` ripetuta `n` volte, separate da spazi.\n",
    "\n",
    "* Il tuo codice deve funzionare con qualsiasi stringa assegnata a `sillaba` e `frase`\n",
    "\n",
    "Esempio - date:\n",
    "\n",
    "```python\n",
    "frase = 'Il numero 7'\n",
    "sillaba = 'za'\n",
    "```\n",
    "\n",
    "dopo il tuo codice, deve stampare:\n",
    "\n",
    "```\n",
    "za za za za za za za\n",
    "```"
   ]
  },
  {
   "cell_type": "code",
   "execution_count": 91,
   "metadata": {},
   "outputs": [
    {
     "name": "stdout",
     "output_type": "stream",
     "text": [
      "za za za za za za za \n"
     ]
    }
   ],
   "source": [
    "#jupman-purge-output\n",
    "sillaba = 'za'\n",
    "frase = 'Il numero 7'   # za za za za za za za\n",
    "#frase = 'Dammi il 5'   # za za za za za\n",
    "\n",
    "\n",
    "# scrivi qui\n",
    "\n",
    "print((sillaba + ' ') * (int(frase[-1])))"
   ]
  },
  {
   "cell_type": "markdown",
   "metadata": {},
   "source": [
    "## Prosegui\n",
    "\n",
    "Trovi ulteriori esercizi nel foglio [Stringhe 3 - metodi base](https://it.softpython.org/strings/strings3-sol.html)"
   ]
  },
  {
   "cell_type": "code",
   "execution_count": null,
   "metadata": {},
   "outputs": [],
   "source": []
  }
 ],
 "metadata": {
  "celltoolbar": "Edit Metadata",
  "kernelspec": {
   "display_name": "Python 3 (ipykernel)",
   "language": "python",
   "name": "python3"
  },
  "language_info": {
   "codemirror_mode": {
    "name": "ipython",
    "version": 3
   },
   "file_extension": ".py",
   "mimetype": "text/x-python",
   "name": "python",
   "nbconvert_exporter": "python",
   "pygments_lexer": "ipython3",
   "version": "3.7.16"
  },
  "toc": {
   "base_numbering": 1,
   "nav_menu": {},
   "number_sections": false,
   "sideBar": true,
   "skip_h1_title": false,
   "title_cell": "Table of Contents",
   "title_sidebar": "Contents",
   "toc_cell": false,
   "toc_position": {},
   "toc_section_display": true,
   "toc_window_display": true
  }
 },
 "nbformat": 4,
 "nbformat_minor": 2
}

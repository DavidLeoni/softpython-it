{
 "cells": [
  {
   "cell_type": "markdown",
   "id": "0e746a08",
   "metadata": {
    "colab_type": "text",
    "id": "AGGbNktRUx5b"
   },
   "source": [
    "## Catena di Distribuzione Challenge\n",
    "\n",
    "**Area di interesse**:  Ingegneria industriale, Economia\n",
    "\n",
    "Realizzare qualche interfaccia in Jupyter sul modello di questa: http://arcg.is/1Hm45L \n",
    "\n",
    "I dati si possono prelevare da Kaggle ,  cercando [dataset taggati supply chain](https://www.kaggle.com/datasets?sortBy=hottest&group=public&page=1&pageSize=20&size=all&filetype=all&license=all&tagids=11131)\n",
    "\n",
    "\n",
    "![supply-chain-3423](img/supply-chain.png)\n"
   ]
  },
  {
   "cell_type": "code",
   "execution_count": null,
   "id": "79ff7d84",
   "metadata": {},
   "outputs": [],
   "source": []
  }
 ],
 "metadata": {
  "kernelspec": {
   "display_name": "Python 3 (ipykernel)",
   "language": "python",
   "name": "python3"
  },
  "language_info": {
   "codemirror_mode": {
    "name": "ipython",
    "version": 3
   },
   "file_extension": ".py",
   "mimetype": "text/x-python",
   "name": "python",
   "nbconvert_exporter": "python",
   "pygments_lexer": "ipython3",
   "version": "3.7.10"
  },
  "toc": {
   "base_numbering": 1,
   "nav_menu": {},
   "number_sections": false,
   "sideBar": true,
   "skip_h1_title": false,
   "title_cell": "Table of Contents",
   "title_sidebar": "Contents",
   "toc_cell": false,
   "toc_position": {},
   "toc_section_display": true,
   "toc_window_display": false
  }
 },
 "nbformat": 4,
 "nbformat_minor": 5
}

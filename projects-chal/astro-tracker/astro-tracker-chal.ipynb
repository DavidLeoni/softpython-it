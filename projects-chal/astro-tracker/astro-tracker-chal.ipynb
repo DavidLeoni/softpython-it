{
 "cells": [
  {
   "cell_type": "markdown",
   "id": "4a6a97fe",
   "metadata": {
    "colab_type": "text",
    "id": "3HhMMya-Uqhw"
   },
   "source": [
    "## Astro Tracker Challenge\n",
    "\n",
    "**Area di interesse**: Ingegneria industriale, Ingegneria Civile ambientale,  Fisica, Matematica indirizzo didattico\n",
    "\n",
    "Il progetto consiste nel realizzare in un foglio Jupyter un tracciatore di oggetti astronomici come satelliti, pianeti, auto Tesla... Come modello si può guardare l'[ISS Tracker](http://www.isstracker.com/) che segue la Stazione Spaziale Internazionale:\n",
    "\n",
    "![iss-tracker-89342](img/iss-tracker.jpg)\n",
    "\n",
    "In Jupyter si potrebbe:\n",
    "\n",
    "- avere una barra di testo dove si immette l'ora (in alternativa si può usare uno slider)\n",
    "- da un menu drop-down, poter selezionare un qualche oggetto celeste, tipo ISS\n",
    "- usando i file del [NORAD](https://www.celestrak.com/NORAD/elements/) , mostrarne la posizione dell'oggetto selezionate su mappa terrestre in cella Jupyter\n",
    "- mostrare la posizione dell'oggetto su mappa celeste rispetto ad un punto d'osservazione, per calcolare la posizione esatta si può usare la libreria PyEphem, per qualche esempio  vedere [tutorial CoderDojo Trento](https://www.coderdojotrento.it/astropi2)"
   ]
  },
  {
   "cell_type": "markdown",
   "id": "1f2db3f1",
   "metadata": {},
   "source": [
    "**Dati AstroPI**\n",
    "\n",
    "Volendosi concentrare sulla Stazione Spaziale Internazionale (ISS), sarebbe interessante riutilizzare dati ambientali interni ed esterni raccolti sulla ISS per gli esperimenti AstroPI proposti da CoderDojo Trento in collaborazione con l'Agenzia Spaziale Europea e la Raspberry Foundation - per una presentazione molto generale vedere [comunicato stampa](https://www.coderdolomiti.it/2018/02/08/astropi-challenge-2017-18/). \n",
    "\n",
    "In particolare per voi di interessante ci sono i due progetti presentati per la Mission Space Lab:\n",
    "\n",
    "**Progetto Team Lamponi - ISS Orbit**\n",
    "\n",
    "In questo progetto sono raccolte foto della Terra per calcolare la velocità della alla Stazione Spaziale Internazionale (ISS) in base a oggetti rilevati sul suolo, paragonandola alla velocità reale:\n",
    "\n",
    "- [descrizione progetto ISS Orbit](https://github.com/CoderDojoTrento/AstroPi_2017-18/tree/master/Team%20Lampone%20-%20ISS%20Orbit/versione_ok)  \n",
    "- [immagini esempio rilevanti](https://github.com/CoderDojoTrento/AstroPi_2017-18/tree/master/Team%20Lampone%20-%20ISS%20Orbit/versione_ok/postprocessing/file_esempio) ( sono ~161 metri per pixel)\n",
    "\n",
    "Le serie completa di immagini da edizioni passate la trovate nel progetto del 2015 environ_pi - notare che trattandosi di esperimenti 'alla buona', si vedono i bordi dell'oblò e dei riflessi. In più in alcune immagini sono nere  perchè riprese dal lato non illuminato dal Sole :\n",
    "\n",
    "- [descrizione environ_pi](https://astro-pi.org/principia/science-results/#trees)\n",
    "- [scarica zip environ_pi](https://github.com/astro-pi/enviro-pi/archive/master.zip)\n",
    "\n",
    "**Progetto Trentini DOP - Space Pressure**\n",
    "\n",
    "In quest'altro vengono prese rilevazioni da sensori interni alla stazione, come pressione, temperatura, accelerazione, etc.\n",
    "\n",
    "- [descrizione progetto Space Pressure](https://github.com/CoderDojoTrento/AstroPi_2017-18/tree/master/Trentini%20DOP%20-%20Space%20Pressure)\n",
    "- [formato dati](https://github.com/CoderDojoTrento/AstroPi_2017-18/blob/master/Trentini%20DOP%20-%20Space%20Pressure/file_esempio/TDOP_2018-02-06_19.43.43.csv) - NOTA: questi sono rilevati dalla scrivania :-)\n",
    "\n",
    "Come esempio di dati veri da edizioni passate, puoi guardare il tutorial [Pandas in SoftPython](../../pandas/pandas1-sol.ipynb), in cui usiamo [questi dati commentati](https://www.raspberrypi.org/learning/astro-pi-flight-data-analysis/worksheet/) di AstroPI\n",
    "\n",
    "In base a quanto sopra, si potrebbe quindi:\n",
    "\n",
    "- mostrare dentro dei box testuali i parametri ambientali della stazione rilevati nell'istante più prossimo\n",
    "- in un altro riquadro, mostrare la foto ripresa nell'istante più vicino dalla ISS, oppure anche [risultati dello stitching](https://github.com/CoderDojoTrento/AstroPi_2017-18/blob/master/Team%20Lampone%20-%20ISS%20Orbit/versione_ok/postprocessing/EnviroPi_20160223_184131_keypoints.jpg) operato da OpenCV\n",
    "- mostrare velocità teorica in base a stitching e reale, con differenza in percentuale\n",
    "- se interessa, volendo si potrebbe fare più analisi delle immagini con OpenCV, tipo identificare solo le nuvole o capire se la ISS sta sorvolando il mare / terra / foreste ...\n"
   ]
  },
  {
   "cell_type": "code",
   "execution_count": null,
   "id": "d9a23b55",
   "metadata": {},
   "outputs": [],
   "source": []
  }
 ],
 "metadata": {
  "kernelspec": {
   "display_name": "Python 3 (ipykernel)",
   "language": "python",
   "name": "python3"
  },
  "language_info": {
   "codemirror_mode": {
    "name": "ipython",
    "version": 3
   },
   "file_extension": ".py",
   "mimetype": "text/x-python",
   "name": "python",
   "nbconvert_exporter": "python",
   "pygments_lexer": "ipython3",
   "version": "3.7.10"
  },
  "toc": {
   "base_numbering": 1,
   "nav_menu": {},
   "number_sections": false,
   "sideBar": true,
   "skip_h1_title": false,
   "title_cell": "Table of Contents",
   "title_sidebar": "Contents",
   "toc_cell": false,
   "toc_position": {},
   "toc_section_display": true,
   "toc_window_display": false
  }
 },
 "nbformat": 4,
 "nbformat_minor": 5
}

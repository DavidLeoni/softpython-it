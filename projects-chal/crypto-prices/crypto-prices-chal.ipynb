{
 "cells": [
  {
   "cell_type": "markdown",
   "id": "62361cd9",
   "metadata": {},
   "source": [
    "## Criptovalute Challenge\n",
    "\n",
    "**Area di interesse**: economia\n",
    "\n",
    "![crypto-prices-preview](img/crypto-prices-preview.png)\n",
    "\n",
    "Si potrebbero visualizzare in Jupyter grafici sull'andamento di criptovalute presi da [coinmarketcap.com](http://coinmarketcap.com)\n",
    "\n",
    "* Esempio formato dati ottenibili:\n",
    "    * https://api.coinmarketcap.com/v1/ticker/ \n",
    "* Per altre API, vedere: https://coinmarketcap.com/api/\n",
    "\n",
    "* Creare in Jupyter un configuratore di widget (vedere [tutorial interfacce grafiche SoftPython](../../gui/gui-sol.ipynb)), sull'esempio del [_Cryptocurrency Price Ticker Widget_](https://coinmarketcap.com/widget/). L'output del programma dovrebbero essere oggetti widget Jupyter (non HTML). \n",
    "\n",
    "* Addizionalmente, il configuratore potrebbe anche generare del codice HTML come questo (per informazioni sull'HTML, vedere [tutorial estrazione dati SoftPython](../../extraction/extraction-sol.ipynb)): \n",
    "\n",
    "```html\n",
    "<script type=\"text/javascript\" \n",
    "        src=\"https://files.coinmarketcap.com/static/widget/currency.js\">\n",
    "</script>\n",
    "<div class=\"coinmarketcap-currency-widget\" \n",
    "     data-currencyid=\"1\" \n",
    "     data-base=\"USD\" \n",
    "     data-secondary=\"\" \n",
    "     data-ticker=\"true\" \n",
    "     data-rank=\"true\" \n",
    "     data-marketcap=\"true\" \n",
    "     data-volume=\"true\" \n",
    "     data-stats=\"USD\" \n",
    "     data-statsticker=\"false\">\n",
    " </div>\n",
    "```\n",
    "\n",
    "Il codice HTML può essere creato come oggetti BeautifulSoup o anche come semplice concatenazione di stringhe  \n",
    "\n",
    "Notate che se in una cella di Jupyter si scrive all inizio `%%HTML` e sotto si incolla il codice HTML come quello sopra, dovrebbe apparire qualcosa come questo:\n"
   ]
  },
  {
   "cell_type": "code",
   "execution_count": 2,
   "id": "0abc39d1",
   "metadata": {},
   "outputs": [
    {
     "data": {
      "text/html": [
       "\n",
       "<script type=\"text/javascript\" \n",
       "        src=\"https://files.coinmarketcap.com/static/widget/currency.js\">\n",
       "</script>\n",
       "<div class=\"coinmarketcap-currency-widget\" \n",
       "     data-currencyid=\"1\" \n",
       "     data-base=\"USD\" \n",
       "     data-secondary=\"\" \n",
       "     data-ticker=\"true\" \n",
       "     data-rank=\"true\" \n",
       "     data-marketcap=\"true\" \n",
       "     data-volume=\"true\" \n",
       "     data-stats=\"USD\" \n",
       "     data-statsticker=\"false\">\n",
       " </div>\n",
       "\n"
      ],
      "text/plain": [
       "<IPython.core.display.HTML object>"
      ]
     },
     "metadata": {},
     "output_type": "display_data"
    }
   ],
   "source": [
    "%%HTML\n",
    "\n",
    "<script type=\"text/javascript\" \n",
    "        src=\"https://files.coinmarketcap.com/static/widget/currency.js\">\n",
    "</script>\n",
    "<div class=\"coinmarketcap-currency-widget\" \n",
    "     data-currencyid=\"1\" \n",
    "     data-base=\"USD\" \n",
    "     data-secondary=\"\" \n",
    "     data-ticker=\"true\" \n",
    "     data-rank=\"true\" \n",
    "     data-marketcap=\"true\" \n",
    "     data-volume=\"true\" \n",
    "     data-stats=\"USD\" \n",
    "     data-statsticker=\"false\">\n",
    " </div>\n",
    "\n"
   ]
  },
  {
   "cell_type": "code",
   "execution_count": null,
   "id": "3614fd8e",
   "metadata": {},
   "outputs": [],
   "source": []
  }
 ],
 "metadata": {
  "kernelspec": {
   "display_name": "Python 3 (ipykernel)",
   "language": "python",
   "name": "python3"
  },
  "language_info": {
   "codemirror_mode": {
    "name": "ipython",
    "version": 3
   },
   "file_extension": ".py",
   "mimetype": "text/x-python",
   "name": "python",
   "nbconvert_exporter": "python",
   "pygments_lexer": "ipython3",
   "version": "3.7.10"
  },
  "toc": {
   "base_numbering": 1,
   "nav_menu": {},
   "number_sections": false,
   "sideBar": true,
   "skip_h1_title": false,
   "title_cell": "Table of Contents",
   "title_sidebar": "Contents",
   "toc_cell": false,
   "toc_position": {},
   "toc_section_display": true,
   "toc_window_display": false
  }
 },
 "nbformat": 4,
 "nbformat_minor": 5
}

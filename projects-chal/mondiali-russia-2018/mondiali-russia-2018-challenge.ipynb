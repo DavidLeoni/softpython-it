{
 "cells": [
  {
   "cell_type": "markdown",
   "metadata": {},
   "source": [
    "# Mondiali Russia 2018 Challenge\n",
    "\n",
    "![](../../_static/img/third-parties/u-hopper-thinkin-big.png)\n",
    "\n",
    "**Sponsor**: [U-Hopper](http://u-hopper.com/)\n",
    "\n",
    "Daniele, CEO di [U-Hopper](http://u-hopper.com/), ha deciso di diventare ricco per poter andare a fare il baby-pensionato ad Antigua. Dato che pero' diventare ricco facendo l'imprenditore si e' rivelata una strada lunga e tortuosa (piu' del previsto, almeno), ha avuto un'idea geniale (a suo parere, ndr). Con i soldi dell'azienda assumera' un data scientist, e lo mettera' a lavorare in segreto su un progetto speciale. Da appassionato di **calcio**, Daniele conosce bene il mondo delle **scommesse online**. E da ex ricercatore ne sa abbastanza di big data e intelligenza artificiale per sapere che un algoritmo ben congegnato da un brillante data scientist puo' facilmente battere la logica (e gli algoritmi) delle varie piattaforme di scommesse online. E il caso di [Soccermatics](https://medium.com/@Soccermatics/if-you-had-followed-the-betting-advice-in-soccermatics-you-would-now-be-very-rich-1f643a4f5a23) , con un ritorno del 1.800% in circa un anno gli conferma che e' sulla buona strada. L'occasione per fare il botto e' dietro l'angolo, ed e' rappresentata dai **mondiali di Russia 2018**. Con una stima di 5.45 miliardi di euro [investiti in scommesse](https://www.sportytrader.com/en/news/world-cup-infographic/) durante i mondiali, e' chiaro che una **intelligenza artificiale** ben allenata puo' fare ricco il suo creatore. E l'idea di Daniele e' di sfruttare, oltre ai dati statistici consueti (ranking FIFA, storico delle partecipazione ai Mondiali etc.) anche dati dalle news e dai social media per intercettare quei piccoli **segnali** che potrebbero **predire il risultato**. Con un budget iniziale di 1.000 euro, quanto riuscira' a realizzare Daniele durante i mondiali, usando il prodigioso algoritmo progettato dal suo data scientist?\n",
    "\n",
    "\n",
    "## a. Analisi\n",
    "\n",
    "Se fossimo in grado di prevedere le partite con buona accuratezza e li pubblicassimo, potremmo pensare di attrarre una buona quantità di scommettitori sul nostro sito. Quanti potrebbero essere?\n",
    "\n",
    "* descrivere / capire la strategia di investimento\n",
    "* descrivere il modello (e differenza tra parametrico / non parametrico) \n",
    "\n",
    "## b. Pulizia di dati\n",
    "\n",
    "* pulizia dei dati (_data cleaning_) : convertire il risultato di ogni partita i.e. 5-3 in vinta (V), persa (P), pareggiata (X) in modo da semplificare il modello \n",
    "\n",
    "\n",
    "## c. Integrazione dati\n",
    "\n",
    "Vi sono disponibili diverse statistiche sulle squadre. Per essere effettivamente riutilizzabili andrebbero unite, per esempio si potrebbe unire il  ranking degli ultimi anni ai risultati delle squadre \n",
    "\n",
    "## d. Sviluppo del modello di predizione\n",
    "\n",
    "Le attività precedenti sarebbero da supporto all'effettivo sviluppo di un modello che permetta di predire i risultati. In termini più tecnici, bisognerebbe effettuare il _training_ del il modello e variare i pesi di ogni caratteristica (_feature_) in modo da ottimizzare i risultati. \n",
    "\n",
    "\n",
    "## e. Sviluppo chatbot \n",
    "\n",
    "Se avanza tempo, si potrebbe provare a creare una specie di chatbot in Jupyter, in cui l'utente può domandare al bot l'esito delle partite future. (nota: non sarà necessario creare un servizio web). \n",
    "\n",
    "\n",
    "## f. Lavorare alla presentazione \n",
    "\n",
    "Forse più che nelle altre challenge sarà necessario lavorare ad una presentazione convincente, che sia un po' più elaborata del \"Col mio sistema diventi ricco sfondato\". Dovrebbero esserci considerazioni sulla strategia di investimento. E' conservativa? Aggressiva? A quale pubblico si rivolge? Il pensionato? Il giovane con la propensione al rischio  ?\n",
    "\n",
    "\n"
   ]
  },
  {
   "cell_type": "markdown",
   "metadata": {},
   "source": [
    "## Dati\n",
    "\n",
    "Come dati useremo i FIFA Soccer Rankings dal 1993 to 2018 \n",
    "\n",
    "### FIFA Soccer Rankings \n",
    "\n",
    "[fifa-ranking.csv.zip](datasets/fifa-ranking.csv.zip)\n",
    "\n",
    "### Risultati match internazionali \n",
    "\n",
    "Risultati match internazionali dal 1872 to 2018 \n",
    "\n",
    "Scarica il file: [results.csv.zip](datasets/results.csv.zip)\n",
    "\n",
    "\n",
    "\n",
    "### FIFA World Cup 2018 data set\n",
    "\n",
    "Scarica il file: [world-cup-2018.csv](datasets/world-cup-2018.csv)\n",
    "\n",
    "### Dati news\n",
    "\n",
    "I dati news sono forniti da SpazioDati. Per il file completo chiedere a [david.leoni@unitn.it](mailto:david.leoni@unitn.it)\n"
   ]
  },
  {
   "cell_type": "code",
   "execution_count": null,
   "metadata": {},
   "outputs": [],
   "source": []
  }
 ],
 "metadata": {
  "kernelspec": {
   "display_name": "Python 3",
   "language": "python",
   "name": "python3"
  },
  "language_info": {
   "codemirror_mode": {
    "name": "ipython",
    "version": 3
   },
   "file_extension": ".py",
   "mimetype": "text/x-python",
   "name": "python",
   "nbconvert_exporter": "python",
   "pygments_lexer": "ipython3",
   "version": "3.7.3"
  },
  "toc": {
   "base_numbering": 1,
   "nav_menu": {},
   "number_sections": false,
   "sideBar": true,
   "skip_h1_title": false,
   "title_cell": "Table of Contents",
   "title_sidebar": "Contents",
   "toc_cell": false,
   "toc_position": {},
   "toc_section_display": true,
   "toc_window_display": false
  }
 },
 "nbformat": 4,
 "nbformat_minor": 2
}

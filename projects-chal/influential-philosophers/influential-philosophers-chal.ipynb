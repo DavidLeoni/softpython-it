{
 "cells": [
  {
   "cell_type": "markdown",
   "id": "49a5567a",
   "metadata": {
    "colab_type": "text",
    "id": "eevXkiEQOZ8_"
   },
   "source": [
    "## Filosofi influenti Challenge\n",
    "\n",
    "**Area di interesse**: Lettere e Filosofia, Storia\n",
    "\n",
    "\n",
    "Tutti conosciamo Wikipedia, l'enciclopedia online creata da volontari di tutto il mondo. In Wikipedia a volte alcune informazioni sono semistrutturate, come per esempio gli infobox. Vediamone uno per il filosofo Parmenide. Dall'infobox della versione inglese si può notare che è presente il campo 'influenced', che ci dice chi ha influenzato Parmenide:\n",
    "\n",
    "![parmenide-8923](img/parmenides.png)\n",
    "\n",
    "Sarebbe interessante estrarre queste informazioni per fare per esempio grafici che mostrino i legami di chi ha influenzato chi nel corso della storia, tenendo naturalmente presente il fatto che Wikipedia non è sempre completa e al 100% affidabile. Questo è un esempio: \n",
    "\n"
   ]
  },
  {
   "cell_type": "markdown",
   "id": "b933d9c6",
   "metadata": {},
   "source": [
    "![filosofi-89123](img/philosophers.png)"
   ]
  },
  {
   "cell_type": "markdown",
   "id": "ff40fda1",
   "metadata": {},
   "source": [
    "\n",
    "Cose che si potrebbero fare:\n",
    "\n",
    "- mostrare grafo dei filosofi\n",
    "- creare un widget selettore, in qui si seleziona un pensatore e vengono mostrati in una lista i pensatori che ha influenzato\n",
    "- mostrare chi non ha influenzato nessuno (secondo Wikipedia !). Se un personaggio è un filosofo famoso dovrà pur aver influenzato qualcuno quindi potremmo creare uno strumento che mostri a potenziali contributori di Wikipedia pagine di filosofi che necessitano ulteriori informazioni.\n",
    "- altri dettagli verranno aggiunti a breve ! \n",
    "\n",
    "**Formato file filosofi**: \n",
    "\n",
    "[descrizione (in inglese)](http://brendangriffen.com/blog/gow-influential-thinkers)\n",
    "\n",
    "Il dataset è stato ottenuto con questa [query SPARQL su dbpedia](http://dbpedia.org/snorql/?query=SELECT+*%0D%0AWHERE+{%0D%0A%3Fp+a+%3Chttp%3A%2F%2Fdbpedia.org%2Fontology%2FPhilosopher%3E+.%0D%0A%3Fp+%3Chttp%3A%2F%2Fdbpedia.org%2Fontology%2Finfluenced%3E+%3Finfluenced.%0D%0A}) . Per ottenere un file processabile in Python con gli strumenti che affronteremo durante il corso, si può richiedere un file JSON con [query sparql su dbpedia, formato json](http://dbpedia.org/sparql?default-graph-uri=http%3A%2F%2Fdbpedia.org&query=PREFIX+owl%3A+%3Chttp%3A%2F%2Fwww.w3.org%2F2002%2F07%2Fowl%23%3E%0D%0APREFIX+xsd%3A+%3Chttp%3A%2F%2Fwww.w3.org%2F2001%2FXMLSchema%23%3E%0D%0APREFIX+rdfs%3A+%3Chttp%3A%2F%2Fwww.w3.org%2F2000%2F01%2Frdf-schema%23%3E%0D%0APREFIX+rdf%3A+%3Chttp%3A%2F%2Fwww.w3.org%2F1999%2F02%2F22-rdf-syntax-ns%23%3E%0D%0APREFIX+foaf%3A+%3Chttp%3A%2F%2Fxmlns.com%2Ffoaf%2F0.1%2F%3E%0D%0APREFIX+dc%3A+%3Chttp%3A%2F%2Fpurl.org%2Fdc%2Felements%2F1.1%2F%3E%0D%0APREFIX+%3A+%3Chttp%3A%2F%2Fdbpedia.org%2Fresource%2F%3E%0D%0APREFIX+dbpedia2%3A+%3Chttp%3A%2F%2Fdbpedia.org%2Fproperty%2F%3E%0D%0APREFIX+dbpedia%3A+%3Chttp%3A%2F%2Fdbpedia.org%2F%3E%0D%0APREFIX+skos%3A+%3Chttp%3A%2F%2Fwww.w3.org%2F2004%2F02%2Fskos%2Fcore%23%3E%0D%0ASELECT+*%0D%0AWHERE+%7B%0D%0A%3Fp+a+%3Chttp%3A%2F%2Fdbpedia.org%2Fontology%2FPhilosopher%3E+.%0D%0A%3Fp+%3Chttp%3A%2F%2Fdbpedia.org%2Fontology%2Finfluenced%3E+%3Finfluenced.%0D%0A%7D&output=json)\n"
   ]
  },
  {
   "cell_type": "markdown",
   "id": "5a335295",
   "metadata": {},
   "source": [
    "Riportiamo qua un estratto del file:\n",
    "\n",
    "    \n",
    "```json\n",
    "{ \n",
    "  \"head\": { \n",
    "            \"link\": [], \n",
    "            \"vars\": [\"p\", \"influenced\"] \n",
    "          },\n",
    "  \n",
    "  \"results\": {\n",
    "               \"distinct\": false,\n",
    "               \"ordered\": true,\n",
    "               \"bindings\": [\n",
    "  \n",
    "                               { \n",
    "                                 \"p\": { \n",
    "                                          \"type\": \"uri\", \n",
    "                                          \"value\": \"http://dbpedia.org/resource/Parmenides\" \n",
    "                                      },\n",
    "                                 \"influenced\": { \n",
    "                                                  \"type\": \"uri\", \n",
    "                                                  \"value\": \"http://dbpedia.org/resource/Socrates\" \n",
    "                                               }\n",
    "                               },\n",
    "\n",
    "                               { \n",
    "                                 \"p\": { \n",
    "                                          \"type\": \"uri\", \n",
    "                                          \"value\": \"http://dbpedia.org/resource/Socrates\" \n",
    "                                      },\n",
    "                                 \"influenced\": { \n",
    "                                                  \"type\": \"uri\", \n",
    "                                                  \"value\": \"http://dbpedia.org/resource/Aristotle\" \n",
    "                                               }\n",
    "                               },\n",
    "\n",
    "                               ETC... TAGLIATA ......................\n",
    "}\n",
    "    \n",
    "```\n",
    "\n"
   ]
  },
  {
   "cell_type": "markdown",
   "id": "51a04ebb",
   "metadata": {},
   "source": [
    "Possiamo ignorare\n",
    "\n",
    "```json\n",
    "{ \n",
    "  \"head\": { \n",
    "            \"link\": [], \n",
    "            \"vars\": [\"p\", \"influenced\"] \n",
    "          },\n",
    "  \n",
    "  \"results\": {\n",
    "               \"distinct\": false,\n",
    "               \"ordered\": true,\n",
    "\n",
    "```\n",
    "\n",
    "e concentrarci sulla parte che ci interessa, che è quella sotto `results[\"bindings\"]` e vediamo essere distinta da una sequenza di oggetti contenenti ciascuno un riferimento ad un filosofo e un riferimento ad un'altro filosofo che è stato influenzato dal primo. In questo caso è riportato che Parmenide ha influenzato Socrate:\n",
    "\n",
    "\n",
    "```json\n",
    "                               { \n",
    "                                 \"p\": { \n",
    "                                          \"type\": \"uri\", \n",
    "                                          \"value\": \"http://dbpedia.org/resource/Parmenides\" \n",
    "                                      },\n",
    "                                 \"influenced\": { \n",
    "                                                  \"type\": \"uri\", \n",
    "                                                  \"value\": \"http://dbpedia.org/resource/Socrates\" \n",
    "                                               }\n",
    "                               },\n",
    "\n",
    "```\n",
    "\n",
    "In particolare in questo caso Parmenide è identificato dall' indirizzo http://dbpedia.org/resource/Parmenides  (provate a cliccarci sopra per vedere cosa DBpedia contiene su Parmenide ) e il personaggio Socrate viene esplicitato dall'indirizzo http://dbpedia.org/resource/Socrates (di nuovo provate a cliccarci sopra)"
   ]
  },
  {
   "cell_type": "code",
   "execution_count": null,
   "id": "ab54ecfe",
   "metadata": {},
   "outputs": [],
   "source": []
  }
 ],
 "metadata": {
  "kernelspec": {
   "display_name": "Python 3 (ipykernel)",
   "language": "python",
   "name": "python3"
  },
  "language_info": {
   "codemirror_mode": {
    "name": "ipython",
    "version": 3
   },
   "file_extension": ".py",
   "mimetype": "text/x-python",
   "name": "python",
   "nbconvert_exporter": "python",
   "pygments_lexer": "ipython3",
   "version": "3.7.10"
  },
  "toc": {
   "base_numbering": 1,
   "nav_menu": {},
   "number_sections": false,
   "sideBar": true,
   "skip_h1_title": false,
   "title_cell": "Table of Contents",
   "title_sidebar": "Contents",
   "toc_cell": false,
   "toc_position": {},
   "toc_section_display": true,
   "toc_window_display": false
  }
 },
 "nbformat": 4,
 "nbformat_minor": 5
}

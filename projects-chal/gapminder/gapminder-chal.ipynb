{
 "cells": [
  {
   "cell_type": "markdown",
   "id": "3c94ce96",
   "metadata": {
    "colab_type": "text",
    "id": "PuC3bNp2UuAM"
   },
   "source": [
    "## GapMinder Challenge - Analisi dati socio-economici\n",
    "\n",
    "**Area di interesse**: sociologia, economia \n",
    "\n",
    "Il [progetto GapMinder](https://www.gapminder.org/tools/#_chart-type=bubbles) mira a ridurre l'ignoranza globale proponendo strumenti online di facile utilizzo per analizzare dati statistici su indicatori quali per esempio il reddito pro-capite per nazione, la diffusione delle malattie, i flussi migratori, etc. Si potrebbero quindi creare in Jupyter delle interfacce che riproducano in qualche modo i grafici di GapMinder.\n",
    "\n",
    "![gapminder-892132](img/gapminder.png)\n"
   ]
  },
  {
   "cell_type": "markdown",
   "id": "3a1964c0",
   "metadata": {},
   "source": [
    "- Come dati, si potrebbero scaricare manualmente due-tre dataset da [questa lista](https://www.gapminder.org/data/) e mostrarli in un grafico creato con matplotlib (vedere [tutorial SoftPython visualizzazione dati](../../visualization/visualization1-sol.ipynb))\n",
    "- aggiungere un widget selettore (vedere [tutorial interfacce grafiche SoftPython](../../gui/gui-sol.ipynb)) per filtrare i paesi da mostrare nel grafico, sullo stile dell'esempio [Wealth of Nations](../../gui/gui-sol.ipynb#bqplot---esempi-avanzati) di Bqplot\n",
    "- aggiungere uno slider per permettere all'utente di variare l'anno della visualizzazione\n",
    "- supportare altri tipi di visualizzazioni, [per esempio mappe](https://www.gapminder.org/tools/#_chart-type=map)\n",
    "- aggiungere un selettore per poter scegliere il tipo di grafico da visualizzare\n",
    "\n",
    "### Altre fonti dati\n",
    "\n",
    "- [dati.trentino.it](http://dati.trentino.it)\n",
    "- [dati.gov.it](https://www.dati.gov.it)"
   ]
  },
  {
   "cell_type": "code",
   "execution_count": null,
   "id": "39d91253",
   "metadata": {},
   "outputs": [],
   "source": []
  }
 ],
 "metadata": {
  "kernelspec": {
   "display_name": "Python 3 (ipykernel)",
   "language": "python",
   "name": "python3"
  },
  "language_info": {
   "codemirror_mode": {
    "name": "ipython",
    "version": 3
   },
   "file_extension": ".py",
   "mimetype": "text/x-python",
   "name": "python",
   "nbconvert_exporter": "python",
   "pygments_lexer": "ipython3",
   "version": "3.7.10"
  },
  "toc": {
   "base_numbering": 1,
   "nav_menu": {},
   "number_sections": false,
   "sideBar": true,
   "skip_h1_title": false,
   "title_cell": "Table of Contents",
   "title_sidebar": "Contents",
   "toc_cell": false,
   "toc_position": {},
   "toc_section_display": true,
   "toc_window_display": false
  }
 },
 "nbformat": 4,
 "nbformat_minor": 5
}

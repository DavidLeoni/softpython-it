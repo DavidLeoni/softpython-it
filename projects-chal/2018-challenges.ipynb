{
 "cells": [
  {
   "cell_type": "markdown",
   "metadata": {},
   "source": [
    "# Challenges 2018\n",
    "\n",
    "![2018-banner-328934](../_static/img/third-parties/ictdays-summercamp-2018-banner.png)\n",
    "\n",
    "In occasione degli ICTDays Summercamp 2018 per ragazzi delle superiori in Alternanza Scuola / Lavoro, organizzato dal [Dipartimento di Ingegneria e Scienze dell’Informazione (DISI)](https://www.disi.unitn.it) dell'Università di Trento, [Hub Innovazione Trentino HIT](https://www.trentinoinnovation.eu) e la [rete STAAR](http://www.staarr.it/) nelle sedi del [Clab Trento](https://international.unitn.it/blt/clab-trento) vi proponiamo tre sfide: Business Oriented, promossa da [SpazioDati](http://spaziodati.eu), Turismo 3.0 promossa da [dati.trentino.it](http://dati.trentino.it) e Mondiali Russia 2018, promossa da [U-Hopper](https://u-hopper.com/) / [Thinkin](https://thinkin.io).\n",
    "\n",
    "\n",
    "**Programmazione Python** :\n",
    "\n",
    "**Docente**: David Leoni\n",
    "\n",
    "**Tutors**:  Luca Bosotti, Massimiliano Luca, Alessia Tovo, Alessandro Cacco, Samuel Giacomelli\n",
    "\n"
   ]
  },
  {
   "cell_type": "markdown",
   "metadata": {},
   "source": [
    "\n",
    "\n",
    "\n",
    "<div class=\"alert alert-info\">\n",
    "\n",
    "**Attività da svolgere**\n",
    "\n",
    "Lavorerete a gruppi di 4/5 studenti. Ogni challenge prevede la consegna e presentazione di un piccolo progetto.\n",
    "\n",
    "[VEDI COME FARE UN PROGETTO](../project-howto.ipynb)\n",
    "</div>\n",
    "\n"
   ]
  },
  {
   "cell_type": "markdown",
   "metadata": {},
   "source": [
    "## Business Oriented\n",
    "\n",
    "![spaziodati-98423424](../_static/img/third-parties/spaziodati-medium.png)\n",
    "\n",
    "Motore di ricerca per bandi di gara. \n",
    "\n",
    "* Sponsor: [SpazioDati](http://spaziodati.eu) \n",
    "* Categoria: Servizi B2B (Business to Business)\n",
    "* text mining, estrazione parole chiave\n",
    "* classificazione aziende\n",
    "\n",
    "[VAI ALLA CHALLENGE](business-oriented/business-oriented-challenge.ipynb)\n"
   ]
  },
  {
   "cell_type": "markdown",
   "metadata": {},
   "source": [
    "\n",
    "## Turismo 3.0\n",
    "\n",
    "![dati-trentino-39829434](../_static/img/third-parties/dati-trentino-medium.png)\n",
    "\n",
    "Motore di ricerca per agritur e hotel.\n",
    "\n",
    "* Sponsor: [dati.trentino.it](http://dati.trentino.it)\n",
    "* Categoria: Servizi B2C (Business to Consumer)\n",
    "* georeferenziazione su mappe\n",
    "* ranking e reputazione\n",
    "\n",
    "[VAI ALLA CHALLENGE](turismo-3.0/turismo-3.0-challenge.ipynb)"
   ]
  },
  {
   "cell_type": "markdown",
   "metadata": {},
   "source": [
    "## Mondiali Russia 2018\n",
    "\n",
    "![u-hopper-934834](../_static/img/third-parties/u-hopper-thinkin-medium.png)\n",
    "\n",
    "\n",
    "Predire i risultati dei mondiali. \n",
    "\n",
    "* Sponsor: [U-Hopper](https://u-hopper.com/) / [Thinkin](https://thinkin.io)\n",
    "* Categoria: Diventare ricchi\n",
    "* statistica e strategia\n",
    "* scommettere e investire\n",
    "\n",
    "[VAI ALLA CHALLENGE](mondiali-russia-2018/mondiali-russia-2018-challenge.ipynb)\n",
    "\n"
   ]
  },
  {
   "cell_type": "code",
   "execution_count": null,
   "metadata": {},
   "outputs": [],
   "source": []
  }
 ],
 "metadata": {
  "celltoolbar": "Edit Metadata",
  "kernelspec": {
   "display_name": "Python 3",
   "language": "python",
   "name": "python3"
  },
  "language_info": {
   "codemirror_mode": {
    "name": "ipython",
    "version": 3
   },
   "file_extension": ".py",
   "mimetype": "text/x-python",
   "name": "python",
   "nbconvert_exporter": "python",
   "pygments_lexer": "ipython3",
   "version": "3.7.3"
  },
  "toc": {
   "base_numbering": 1,
   "nav_menu": {},
   "number_sections": false,
   "sideBar": true,
   "skip_h1_title": false,
   "title_cell": "Table of Contents",
   "title_sidebar": "Contents",
   "toc_cell": false,
   "toc_position": {},
   "toc_section_display": true,
   "toc_window_display": false
  }
 },
 "nbformat": 4,
 "nbformat_minor": 2
}

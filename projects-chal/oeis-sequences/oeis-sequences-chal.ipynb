{
 "cells": [
  {
   "cell_type": "markdown",
   "id": "dfa2720d",
   "metadata": {
    "colab_type": "text",
    "id": "B3gmcuUtVJlA"
   },
   "source": [
    "## OEIS Challenge - Sequenze numeri interi\n",
    "\n",
    "**Area di interesse**: Matematica\n",
    "\n",
    "Un utile strumento a disposizione dei matematici è [OEIS](http://oeis.org), l'enciclopedia online delle sequenze intere. Il sito permette di scrivere in input una sequenza di numeri interi come `1,2,3,6,11,23,47,106,235`, e il sito proverà a ritornare delle ricorrenze numeriche che la generano, più altre informazioni come gli articoli scientifici che ne parlano:\n",
    "\n",
    "![oeis-9823](img/oeis.png)\n"
   ]
  },
  {
   "cell_type": "markdown",
   "id": "ba2d06ce",
   "metadata": {},
   "source": [
    "Scriviamo qua qualche spunto per il progetto:\n",
    "\n",
    "- fare dei widget in Jupyter che permettano all'utente di inserire una sequenza numerica, poi\n",
    "- con la libreria `request` spiegata in tutorial [Integrazione dati SoftPython](../../integration/integration-sol.ipynb), chiamare le API di OEIS e ottenere dati sulla sequenza, in formato testuale nativo (più difficile da parsare) o JSON (più semplice) \n",
    "- se si ottiene una ricorrenza, fare un plot dei punti precalcolati forniti \n",
    "- provare a fare un parser (anche con regex, vedere tutorial [Ricerca in SoftPython](../../search/regex-sol.ipynb)) che estrae nomi di autore dalla sezione `references` e li visualizza in un widget (tipo un `VBox` di `Label`):\n",
    "\n",
    "```\n",
    "\n",
    "\t\t\t\"reference\": [\n",
    "\t\t\t\t\"F. Bergeron, G. Labelle and P. Leroux, Combinatorial Species and Tree-Like Structures, Camb. 1998, p. 279.\",\n",
    "\t\t\t\t\"N. L. Biggs et al., Graph Theory 1736-1936, Oxford, 1976, p. 49.\",\n",
    "\t\t\t\t\"A. Cayley, On the analytical forms called trees, with application to the theory of chemical combinations, Reports British Assoc. Advance. Sci. 45 (1875), 257-305 = Math. Papers, Vol. 9, 427-460 (see p. 459).\",\n",
    "\t\t\t\t\"S. R. Finch, Mathematical Constants, Cambridge, 2003, pp. 295-316.\",\n",
    "\t\t\t\t\"J. L. Gross and J. Yellen, eds., Handbook of Graph Theory, CRC Press, 2004; p. 526.\",\n",
    "```\n",
    "\n"
   ]
  },
  {
   "cell_type": "markdown",
   "id": "a3a802c9",
   "metadata": {},
   "source": [
    "### Esempi API OEIS\n",
    "\n",
    "Esempio (tagliato) di dati già ben parsato in JSON: http://oeis.org/search?fmt=json&q=1,2,3,6,11,23,47,106,235\n",
    "\n",
    "```json\n",
    "{\n",
    "\t\"greeting\": \"Greetings from The On-Line Encyclopedia of Integer Sequences! http://oeis.org/\",\n",
    "\t\"query\": \"1,2,3,6,11,23,47,106,235\",\n",
    "\t\"count\": 1,\n",
    "\t\"start\": 0,\n",
    "\t\"results\": [\n",
    "\t\t{\n",
    "\t\t\t\"number\": 55,\n",
    "\t\t\t\"id\": \"M0791 N0299\",\n",
    "\t\t\t\"data\": \"1,1,1,1,2,3,6,11,23,47,106,235,551,1301,3159,7741,19320,48629,123867,317955,823065,2144505,5623756,14828074,39299897,104636890,279793450,751065460,2023443032,5469566585,14830871802,40330829030,109972410221,300628862480,823779631721,2262366343746,6226306037178\",\n",
    "\t\t\t\"name\": \"Number of trees with n unlabeled nodes.\",\n",
    "\t\t\t\"comment\": [\n",
    "\t\t\t\t\"Also, number of unlabeled 2-gonal 2-trees with n 2-gons.\",\n",
    "\t\t\t\t\"Main diagonal of A054924.\",\n",
    "\t\t\t\t\"Left border of A157905. - _Gary W. Adamson_, Mar 08 2009\",\n",
    "\t\t\t\t\"From _Robert Munafo_, Jan 24 2010: (Start)\",\n",
    "\t\t\t\t\"Also counts classifications of n items that require exactly n-1 binary partitions; see Munafo link at A005646, also A171871 and A171872.\",\n",
    "\t\t\t\t\"The 11 trees for n = 7 are illustrated at the Munafo web link.\",\n",
    "```\n",
    "\n",
    "Esempio (tagliato) di dati in formato interno:  http://oeis.org/search?fmt=text&q=1,1,1,5,3,60,487\n",
    "\n",
    "\n",
    "```\n",
    "# Greetings from The On-Line Encyclopedia of Integer Sequences! http://oeis.org/\n",
    "\n",
    "Search: seq:1,1,1,5,3,60,487\n",
    "Showing 1-1 of 1\n",
    "\n",
    "%I A007299 M3736\n",
    "%S A007299 1,1,1,1,5,3,60,487,13710027\n",
    "%N A007299 Number of Hadamard matrices of order 4n.\n",
    "%C A007299 More precisely, number of inequivalent Hadamard matrices of order n if two matrices are considered equivalent if one can be obtained from the other by permuting rows, permuting columns and multiplying rows or columns by -1.\n",
    "%C A007299 The Hadamard conjecture is that a(n) > 0 for all n >= 0. - _Charles R Greathouse IV_, Oct 08 2012\n",
    "```\n",
    "\n",
    "Per dettagli sul formato, vedere:\n",
    "\n",
    "* [Internal format](http://oeis.org/eishelp1.html)\n",
    "* [Explanation of Terms Used in Reply From](http://oeis.org/eishelp2.html)\n",
    "\n",
    "Se il parsing diretto non vi entusiasma, potete anche provare ad usare la libreria [PyOEIS](http://pyoeis.readthedocs.io/en/latest/index.html)\n",
    "\n"
   ]
  },
  {
   "cell_type": "code",
   "execution_count": null,
   "id": "d02efa65",
   "metadata": {},
   "outputs": [],
   "source": []
  }
 ],
 "metadata": {
  "kernelspec": {
   "display_name": "Python 3 (ipykernel)",
   "language": "python",
   "name": "python3"
  },
  "language_info": {
   "codemirror_mode": {
    "name": "ipython",
    "version": 3
   },
   "file_extension": ".py",
   "mimetype": "text/x-python",
   "name": "python",
   "nbconvert_exporter": "python",
   "pygments_lexer": "ipython3",
   "version": "3.7.10"
  },
  "toc": {
   "base_numbering": 1,
   "nav_menu": {},
   "number_sections": false,
   "sideBar": true,
   "skip_h1_title": false,
   "title_cell": "Table of Contents",
   "title_sidebar": "Contents",
   "toc_cell": false,
   "toc_position": {},
   "toc_section_display": true,
   "toc_window_display": false
  }
 },
 "nbformat": 4,
 "nbformat_minor": 5
}

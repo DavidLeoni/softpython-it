{
 "cells": [
  {
   "cell_type": "markdown",
   "metadata": {},
   "source": [
    "# Lavoro 4.0 Challenge\n",
    "\n",
    "<br/>\n",
    "<br/>\n",
    "\n",
    "![](img/lavoro-4.0-sponsor-big.png)\n",
    "\n",
    "**Sponsor:** [Agenzia del Lavoro - Provincia Autonoma di Trento](https://www.agenzialavoro.tn.it/) ed [Engineering](https://www.eng.it)\n",
    "\n",
    "L’offerta di servizi per l’incontro domanda/offerta di lavoro da parte delle Pubbliche Amministrazioni italiane è in costante evoluzione per venire incontro alle sempre mutevoli esigenze del mercato del lavoro nonché alle novità introdotte sul fronte tecnologico. Da anni la Provincia Autonoma di Trento, tramite l’Agenza per il Lavoro provinciale, ha creato, in collaborazione con il proprio partner IT Engineering, [Trentino Lavoro](https://www.sil.provincia.tn.it/welcomepage/). Si tratta di un portale di servizi online per il lavoro che raccoglie al proprio interno quanto a disposizione nel territorio della Provincia Autonoma di Trento per fruire dei servizi afferenti l’area “Lavoro”. Al proprio interno, infatti, tutti i soggetti coinvolti a vario titolo nella filiera del mercato del lavoro (cittadini, aziende, operatori pubblici e privati) operano in autonomia senza necessità di presentarsi presso gli sportelli dei Centri per l’Impiego.\n",
    "\n",
    "In particolare, uno dei principali servizi offerti riguarda la gestione della **domanda e offerta di lavoro**: le aziende, autonomamente o per tramite degli operatori dei Centri per l’Impiego, caricano su Trentino Lavoro delle opportunità di lavoro (vacancy), alle quali i cittadini, interessati a ricercare lavoro possono candidarsi utilizzando i loro curriculum vitae (CV) e le loro lettere di presentazione creati e salvati all’interno del Portale stesso. Terminato il periodo di apertura delle candidature, l’azienda procederà quindi a valutare le candidature ricevute. Parimenti, le aziende possono effettuare delle ricerche nella banca dati dei CV anche in assenza di specifiche offerte di lavoro.\n",
    "\n",
    "Punto focale del servizio offerto è, quindi, la ricerca che il Portale consente di effettuare. Ciascuna offerta di lavoro e ciascun CV, **strutturati secondo modelli predefiniti**, contengono sia campi tabellari sia campi testuali. Questi ultimi, tuttavia, difficilmente possono essere usati in modo esaustivo in considerazione dell’uso di parole dal significato simile ma non identiche tra loro (per es. cercando “cuoco” non troverebbe offerte di lavoro per “cuoco capo partita“). Oggi quindi il portale si limita ad utilizzare i campi tabellari contenuti nei CV e nelle vacancy, riducendo di molto le possibilità di incrocio fra la domanda e l’offerta che oggi sempre di più tendono ad esprimere i loro bisogni in un **linguaggio naturale**. Per ciascuna categoria di utenti (**Cittadini, Aziende, CPI/Agenzia**) la sfida è quella di ridisegnare i canali digitali offerti su Trentino Lavoro dall’Agenzia, andando poi ad innestarvi nuove modalità di servizio, **potenziate tramite l’uso dell’Intelligenza Artificiale**.\n",
    "\n",
    "Da qui, un primo passo è costituito dalla modifica delle modalità con cui il Portale effettua la ricerca, basandosi quindi non sulle sole parole contenute in offerte di lavoro e CV ma sul **significato** _semantico_ che esse trasmettono, ampliando così il numero e la potenziale rilevanza dei risultati ottenuti.\n",
    "\n",
    "\n"
   ]
  },
  {
   "cell_type": "markdown",
   "metadata": {},
   "source": [
    "Challenge\n",
    "\n",
    "La semplice ricerca testuale per parole coincidenti sulla vacancy rispetto a quanto presente nel o nei CV quasi mai risulta essere efficace ed esaustivo nella ricerca di tutti i risultati potenzialmente desiderati e/o desiderabili. Infatti, tipicamente, il modo di procedere di un essere umano è quello di effettuare una ricerca per concetti e analogie in cui le possibilità di matching, tenendo conto delle distanze semantiche tra i concetti trovati tra CV e offerta di lavro (es. un cv in cui ci sia la qualifica di “assistente alla cucina” potrà essere applicabile, con una opportuna valutazione di distanza, per una vacancy in cui si richieda un “cuoco”), diventano molto più ampie.\n",
    "\n",
    "Ci viene quindi chiesto di sviluppare un prototipo che arricchisca i testi con il loro _significato semantico_ al fine di ampliare le possibilità di associazione ed i risultati delle ricerche, o anche renderle più precise con filtri addizionali. Tra le possibili attività da svolgere, identificazione delle sezioni del cv e delle vacancy relative ad esperienze lavorative e/o aspirazioni e/o formazione specifica, **estrazione di parole chiave** e loro estensione semantica (concetti limitrofi e/o sinonimi semantici), estrazione di impieghi passati dai CV, etc (vedere [teoria similarità del testo](https://it.softpython.org/information-retrieval/information-retrieval-sol.html#Similarit%C3%A0-semantica))\n",
    "\n",
    "Concretamente, si dovranno **integrare i dataset relativi** a CV e Vacancy ed estenderli con ulteriori “colonne” in cui verranno riportate, ad es. le parole oggetto di estensione semantica, in modo da poter successivamente coinvolgere anche questi “nuovi” termini nella ricerca, permettere di fornire delle analisi di distanza e di effettuare filtri più raffinati."
   ]
  },
  {
   "cell_type": "markdown",
   "metadata": {},
   "source": [
    "## a. Analisi\n",
    "\n",
    "I dataset sono complessi, in particolare quello dei CV (nel paragrafo finale sui [Dataset](#Dataset) sono descritti meglio). Dovrete quindi esaminare attentamente i campi utili da estrarre, in base alle esigenze che credete sia più importante soddisfare nei tempi limitati a disposizione. In ogni caso, ricordatevi che dovete sviluppare un prototipo che comunichi un idea, non un prodotto completo.\n",
    "\n",
    "Per fare esperimenti, si raccomanda di estrarre pochi cv e annunci (aprire tutti i cv in LibreOffice potrebbe pure risultare in una navigazione troppo lenta per essere agevole) e metterli in file separati.\n",
    "\n",
    "Per una discussione generale, vedere [analisi dati](https://it.softpython.org/jm-templates/project-NAME-SURNAME-ID/project.html#Analisi-dati)\n",
    "\n"
   ]
  },
  {
   "cell_type": "markdown",
   "metadata": {},
   "source": [
    "## b. Ricerca base\n",
    "\n",
    "Un primo approccio potrebbe essere la ricerca per termini chiave e quindi, implementare un processo di information retrieval con delle semplici funzioni python che permettono di specificare i vari argomenti di ricerca.\n",
    "Una possibile evoluzione potrebbe essere quella di realizzare una semplice interfaccia di utilizzo del motore di ricerca utilizzando, ad es., HTML.\n",
    "\n",
    "Vedere [esempi](https://it.softpython.org/information-retrieval/information-retrieval-sol.html#Costruiamo-il-nostro-motore-di-ricerca)"
   ]
  },
  {
   "cell_type": "markdown",
   "metadata": {},
   "source": [
    "## c. Ricerca avanzata\n",
    "\n",
    "Si potrebbero migliorare le funzionalità di ricerca sfruttando i campi oggetto di arricchimento semantico, permettendo di filtrare:\n",
    "\n",
    "- estrazione di CV e vacancy tra loro correlabili per concetti simili\n",
    "- definizione di un ranking di matching sulla base di distanze tra i concetti\n",
    "- area geografica, comune\n",
    "\n",
    "Esempi di ricerca:\n",
    "\n",
    "1. Cittadino vuole sapere le posizioni aperte per un certo tipo di lavoro\n",
    "2. Azienda vuole sapere i candidati migliori per una posizione di cuoco\n",
    "\n",
    "Per realizzare quanto sopra, si potrebbe effettuare analisi semantica del testo usando il servizio Dandelion di SpazioDati con l’API Entity Extraction, documentazione [API](https://dandelion.eu/docs/api/datatxt/nex/v1/) e [libreria Python](http://python-dandelion-eu.readthedocs.io/en/latest/datatxt.html)) e l’uso di risorse come Wikipedia o dizionari per la gestione degli aspetti semantici (sinonimi, concetti limitrofi ed eventuali distanze). Per sapere come fare, puoi consultare gli [esempi sul sito SoftPython](https://it.softpython.org/information-retrieval/information-retrieval-sol.html#Prendiamo-le-distanze). Esempi di arricchimento con Dandelion:\n",
    "\n",
    "Nel dataset delle vacancies, nel campo `Titolo annuncio` è presente il testo \n",
    "“OPERAIO PER CARPENTERIA METALLICA/SALDATORE” [Vedi testo arricchito](https://dandelion.eu/semantic-text/entity-extraction-demo/?text=OPERAIO+PER+CARPENTERIA+METALLICA%2FSALDATORE&lang=it&min_confidence=0&exec=true#1500677)\n",
    "\n",
    "Nel dataset dei cv, nel campo `Desiderate: descrizione professione` è presente il testo “CAPOSQUADRA CARPENTIERE” [Vedi testo arricchito](https://dandelion.eu/semantic-text/entity-extraction-demo/?text=CAPOSQUADRA+CARPENTIERE&lang=it&min_confidence=0&exec=true#results)\n",
    "\n",
    "Come si può notare, in uno è scritto “CARPENTERIA” mentre nell’altro è scritto “CARPENTIERE”. Nonostante le differenza categoria/mestiere, Dandelion ad entrambi i testi assocerà il singolo concetto ‘Carpentiere’ esplicitandolo con un link a Wikipedia: http://it.wikipedia.org/wiki/Carpentiere"
   ]
  },
  {
   "cell_type": "markdown",
   "metadata": {},
   "source": [
    "### e. Interfaccia utente\n",
    "\n",
    "Realizzare un prototipo di interfaccia grafica (anche rudimentale) che consenta di scegliere quale profilo essere (cittadino / impresa) ed effettuare ricerche immettendo filtri e testo libero\n"
   ]
  },
  {
   "cell_type": "markdown",
   "metadata": {},
   "source": [
    "## Dataset\n",
    "\n",
    "\n",
    "Sono forniti due file, `dataset_CV.csv` e `dataset_vacancy.csv`\n",
    "\n",
    "Per i dati completi chiedere a [david.leoni@unitn.it](mailto:david.leoni@unitn.it)"
   ]
  },
  {
   "cell_type": "markdown",
   "metadata": {},
   "source": [
    "I campi hanno intestazioni parlanti, per cui non li descriveremo tutti nel dettaglio. In genere:\n",
    "\n",
    "- in giallo vi sono i campi strutturati, provenienti da form di input in cui gli operatori, i cittadini o le aziende possono scegliere i valori in modo vincolato\n",
    "- in verde vi sono le colonne che vengono compilate con testo libero\n",
    "- Le colonne su cui si può soffermare l’attenzione e su cui effettuare l’analisi del testo sono evidenziate in verde con carattere rosso:\n",
    "    - colonna `AI` per `dataset_CV.csv`\n",
    "    - colonna `B` per `dataset_Vacancy.csv`"
   ]
  },
  {
   "cell_type": "markdown",
   "metadata": {},
   "source": [
    "### dataset_vacancy.csv\n",
    "\n",
    "Righe: 401\n",
    "\n",
    "Dimensione: 110.5 KB\n",
    "\n",
    "Campi: per le vacancy ci possono essere più ID uguali: rappresentano la stessa posizione espressa da una azienda per cui possono cambiare dei dettagli (es. cuoco per pranzo, cuoco per cena,… oppure conoscenza arabo o conoscenza inglese)\n"
   ]
  },
  {
   "cell_type": "markdown",
   "metadata": {},
   "source": [
    "### dataset_CV.csv\n",
    "\n",
    "Righe: 102011\n",
    "\n",
    "Dimensione: 151.5 MB\n",
    "\n",
    "CV rappresentati: 133\n",
    "\n",
    "- Un cv può presentare più righe: a ID (colonna A) uguali corrispondono più dettagli della stessa persona ovvero sono parte dello stesso cv \n",
    "- È stata fatta una cernita dei soli CV che contenessero almeno una riga con campo a testo libero valorizzato (AI).\n"
   ]
  }
 ],
 "metadata": {
  "kernelspec": {
   "display_name": "Python 3",
   "language": "python",
   "name": "python3"
  },
  "language_info": {
   "codemirror_mode": {
    "name": "ipython",
    "version": 3
   },
   "file_extension": ".py",
   "mimetype": "text/x-python",
   "name": "python",
   "nbconvert_exporter": "python",
   "pygments_lexer": "ipython3",
   "version": "3.7.3"
  },
  "toc": {
   "base_numbering": 1,
   "nav_menu": {},
   "number_sections": false,
   "sideBar": true,
   "skip_h1_title": false,
   "title_cell": "Table of Contents",
   "title_sidebar": "Contents",
   "toc_cell": false,
   "toc_position": {},
   "toc_section_display": true,
   "toc_window_display": false
  }
 },
 "nbformat": 4,
 "nbformat_minor": 2
}

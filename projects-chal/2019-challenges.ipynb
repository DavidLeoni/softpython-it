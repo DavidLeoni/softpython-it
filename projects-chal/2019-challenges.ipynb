{
 "cells": [
  {
   "cell_type": "markdown",
   "metadata": {},
   "source": [
    "# Challenges 2019\n",
    "\n",
    "![2019-banner-38492834](../_static/img/third-parties/ictdays-summercamp-2019-banner.png)\n",
    "\n"
   ]
  },
  {
   "cell_type": "markdown",
   "metadata": {},
   "source": [
    "In occasione degli ICTDays Summercamp 2019 per ragazzi delle superiori in Alternanza Scuola / Lavoro, organizzato dal [Dipartimento di Ingegneria e Scienze dell’Informazione (DISI)](https://www.disi.unitn.it) dell'Università di Trento, [Hub Innovazione Trentino HIT](https://www.trentinoinnovation.eu) e la [rete STAAR](http://www.staarr.it/) nelle sedi del [Clab Trento](https://international.unitn.it/blt/clab-trento) vi proponiamo quattro sfide: Re Parco da Trento promossa da [Dipartimento di Ingegneria e Scienze dell’Informazione (DISI)](https://www.disi.unitn.it) e [dati.trentino.it](http://dati.trentino.it), Lavoro 4.0 promossa da [Agenzia del Lavoro](https://www.agenzialavoro.tn.it/) ed [Engineering](https://www.eng.it), A Prova di Hacker  promossa da [SpazioDati](http://spaziodati.eu), e Real Time Transport, promossa da [U-Hopper](https://u-hopper.com/) / [Thinkin](https://thinkin.io).\n",
    "\n",
    "\n",
    "**Programmazione Python** :\n",
    "\n",
    "**Docente**: David Leoni\n",
    "\n",
    "**Tutors**: Aurora Papotti, Willi Menapace, Luca Zanella, Daniele Giuliani, Luca 'James' Bosotti, Andrea Ferigo, Damiano Melotti\n",
    "\n"
   ]
  },
  {
   "cell_type": "markdown",
   "metadata": {},
   "source": [
    "<div class=\"alert alert-info\">\n",
    "\n",
    "**Attività da svolgere**\n",
    "\n",
    "Lavorerete a gruppi di 4/5 studenti. Ogni challenge prevede la consegna e presentazione di un piccolo progetto.\n",
    "\n",
    "[VEDI COME FARE UN PROGETTO](../project-howto.ipynb)\n",
    "</div>\n"
   ]
  },
  {
   "cell_type": "markdown",
   "metadata": {},
   "source": [
    "## Ri Parco da Trento\n",
    "\n",
    "![riparco-3498234](riparco-da-trento/img/riparco-da-trento-sponsor-medium.png)\n",
    "\n",
    "Come possiamo promuovere le attività svolte nei parchi pubblici?\n",
    "\n",
    "* Sponsor: [Dipartimento di Ingegneria e Scienze dell’Informazione (DISI)](https://www.disi.unitn.it) e [dati.trentino.it](http://dati.trentino.it)\n",
    "* Categoria: B2B (Business to Business)\n",
    "* rilevamento sensori, internet of things\n",
    "* data viz\n",
    "\n",
    "[VAI ALLA CHALLENGE](riparco-da-trento/riparco-da-trento-challenge.ipynb)\n",
    "\n"
   ]
  },
  {
   "cell_type": "markdown",
   "metadata": {},
   "source": [
    "## Lavoro 4.0\n",
    "\n",
    "![lavoro-08122](lavoro-4.0/img/lavoro-4.0-sponsor-medium.png)\n",
    "\n",
    "Come possiamo migliorare la ricerca di domanda e offerta di lavoro ?\n",
    "\n",
    "* Sponsor: [Agenzia del Lavoro - Provincia Autonoma di Trento](https://www.agenzialavoro.tn.it/) ed [Engineering](https://www.eng.it)\n",
    "* Categoria: settore pubblico\n",
    "* artificial intelligence, analisi semantica\n",
    "* information retrieval\n",
    "\n",
    "[VAI ALLA CHALLENGE](lavoro-4.0/lavoro-4.0-challenge.ipynb)\n",
    "\n"
   ]
  },
  {
   "cell_type": "markdown",
   "metadata": {},
   "source": [
    "## A Prova di Hacker\n",
    "\n",
    "![spaziodati-23181](../_static/img/third-parties/spaziodati-medium.png)\n",
    "\n",
    "Analisi vulnerabilità siti web di aziende .\n",
    "\n",
    "* Sponsor: [SpazioDati](http://spaziodati.eu) \n",
    "* Categoria: Servizi B2B (Business to Business)\n",
    "* cybersecurity\n",
    "* data viz\n",
    "\n",
    "[VAI ALLA CHALLENGE](a-prova-di-hacker/a-prova-di-hacker-challenge.ipynb)\n"
   ]
  },
  {
   "cell_type": "markdown",
   "metadata": {},
   "source": [
    "## Real Time Transport\n",
    "\n",
    "![u-hopper-99822](../_static/img/third-parties/u-hopper-thinkin-medium.png)\n",
    "\n",
    "\n",
    "Visualizzare afflusso passeggeri trasporti pubblici\n",
    "\n",
    "* Sponsor: [U-Hopper](https://u-hopper.com/) / [Thinkin](https://thinkin.io)\n",
    "* Categoria: B2B (Business to Business)\n",
    "* rilevamento sensori, internet of things\n",
    "* data viz\n",
    "\n",
    "[VAI ALLA CHALLENGE](real-time-transport/real-time-transport-challenge.ipynb)\n",
    "\n"
   ]
  }
 ],
 "metadata": {
  "celltoolbar": "Edit Metadata",
  "kernelspec": {
   "display_name": "Python 3",
   "language": "python",
   "name": "python3"
  },
  "language_info": {
   "codemirror_mode": {
    "name": "ipython",
    "version": 3
   },
   "file_extension": ".py",
   "mimetype": "text/x-python",
   "name": "python",
   "nbconvert_exporter": "python",
   "pygments_lexer": "ipython3",
   "version": "3.7.3"
  },
  "toc": {
   "base_numbering": 1,
   "nav_menu": {},
   "number_sections": false,
   "sideBar": true,
   "skip_h1_title": false,
   "title_cell": "Table of Contents",
   "title_sidebar": "Contents",
   "toc_cell": false,
   "toc_position": {},
   "toc_section_display": true,
   "toc_window_display": false
  }
 },
 "nbformat": 4,
 "nbformat_minor": 2
}

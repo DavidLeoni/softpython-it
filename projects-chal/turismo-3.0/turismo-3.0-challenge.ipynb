{
 "cells": [
  {
   "cell_type": "markdown",
   "metadata": {},
   "source": [
    "# Turismo 3.0 Challenge\n",
    "\n",
    "![dati-trentino-74342](../../_static/img/third-parties/dati-trentino-big.png)\n",
    "\n",
    "**Sponsor**: [dati.trentino.it](http://dati.trentino.it)\n",
    "\n",
    "\n",
    "Il servizio Supporto alla direzione generale e ICT - Progetto Open data in Trentino - è la struttura responsabile del **portale** federato **opendata** [dati.trentino.it](http://dati.trentino.it)\n",
    "\n",
    "I dati vengono pubblicati sul portale seguendo il principio del _best effort_,  cioè fornire la  massima qualità possibile date le risorse disponibili. I dataset,  quindi, possono essere costantemente migliorati ed arricchiti. \n",
    "\n",
    "La visualizzazione dei dati sulle **mappe** è un passaggio importante  per permettere di programmare delle visite/viaggi/vacanze da remoto e, per chi sia fisicamente in un luogo in un dato momento, per  trovare informazioni che interessano circa risorse e attività interessanti nei dintorni. \n",
    "\n",
    "Vi chiediamo quindi di arricchire i dataset degli **agritur** e  degli **esercizi alberghieri** con le coordinate geografiche delle strutture, usando tecniche di **georeferenziazione**. Inoltre, potreste realizzare un prototipo di **motore di ricerca** per  alberghi e agritur, che permetta di visualizzare i risultati su una mappa.\n",
    "\n",
    "La georeferenziazione si può effettuare usando servizi offerti da [OpenStreetMap](http://openstreetmap.org/), la mappa di tutto il mondo realizzata da volontari. \n",
    "La ricerca dovrebbe permettere di **filtrare le strutture** in base a diversi criteri (n. camere, servizi come parcheggio, prima colazione, etc ). Per ordinare i risultati della ricerca ponendo per prime le strutture più rilevanti, si potrebbe provare ad **ordinarle** secondo la **reputazione**. Si potrebbe calcolarla considerando diversi fattori come la data di inizio attività,  o il numero follower sui social come Twitter: tali informazioni vi saranno fornite da [Atoka](http://atoka.io), il motore di ricerca per aziende di [SpazioDati](http://spaziodati.eu).\n",
    "\n",
    "Dataset: \n",
    "\n",
    "- dataset sulle strutture alberghiere su dati.trentino.it\n",
    "- dataset agritur su dati.trentin.it\n",
    "- dataset Atoka\n",
    "\n"
   ]
  },
  {
   "cell_type": "markdown",
   "metadata": {},
   "source": [
    "\n",
    "## a. Analisi\n",
    "\n",
    "* Quanti turisti ci sono in Trentino che possono essere interessati al nostro servizio ?\n",
    "* Quali e quante imprese possono essere interessate a contattare strutture alberghiere e agritur ? Esempi: \n",
    "    - i produttori di alimentari trentini possono voler rifornire agritur vicini\n",
    "    - imprese assicurative possono voler vendere assicurazioni anti-incendio / furto agli alberghi\n",
    "    \n",
    "## b. Integrazione\n",
    "\n",
    "* i dati spesso provengono da varie fonti e vanno integrati, per esempio i dati sugli alberghi possono avere un formato diverso da quelli degli agritur\n",
    "\n",
    "## c. Arricchimento\n",
    "\n",
    "A volte i dati desiderati non sono immediatamente reperibili dalle tabelle iniziali e vanno ricavati in altro modo. \n",
    "\n",
    "Consideriamo le coordinate geografiche:\n",
    "\n",
    "* il dataset degli agritur ha le colonne, ma sono vuote\n",
    "* il dataset degli alberghi non ha nemmeno le colonne per latitudine e longitudine\n",
    "* il dataset di Atoka ha spesso le coordinate, ma in alcuni casi non sono presenti\n",
    "\n",
    "Potremmo ricavare le coordinate mancanti usando servizi di geocoding  di OpenStreetMap\n",
    "\n",
    "Per esempio, l’Hotel La Gioiosa di Riva del Garda non è in Atoka ma lo troviamo su OpenStreetMap : \n",
    "\n",
    "https://www.openstreetmap.org/search?query=HOTEL%20LA%20GIOIOSA%20#map=19/45.91066/10.83929\n",
    "\n",
    "### Partita IVA e CCIA\n",
    "\n",
    "il modo più preciso per identificare un’azienda in Italia è tramite la partita IVA. Il dataset delle strutture alberghiere ce l’ha, ma in quello degli agritur invece troviamo il codice CCIA, che è un identificativo unico all'interno delle aziende iscritte in un'unica Camera di Commercio. Sarebbe quindi interessante aggiungere l’IVA agli agritur, per esempio cercando di incrociare la tabella con informazioni da Atoka\n",
    "\n",
    "\n",
    "## d. Ricerca\n",
    "\n",
    "Dovremmo mostrare per primi i risultati più rilevanti. L'ordinamento  (_ranking_) si può costruire considerando nella formula fattori come:\n",
    "\n",
    "* la data di inizio attività\n",
    "* il numero di dipendenti\n",
    "* numero di link al proprio sito\n",
    "* follower sui social come twitter.  \n",
    "\n",
    "Per usare tali dati, occorrerà incorciare i dati degli agritur e strutture alberghiere con il dataset estratto da [Atoka](http://atoka.io), il servizio per aziende di [SpazioDati](http://spaziodati.eu).\n"
   ]
  },
  {
   "cell_type": "markdown",
   "metadata": {},
   "source": [
    "## Dati agritur\n",
    "\n",
    "Su dati trentino c’è un dataset degli agritur in formato csv, che ha gli indirizzi ma non le coordinate geografiche. Si potrebbe ottenere le coordinate geografiche usando OpenStreetMap e poi mettere gli agritur su una mappa. Questa procedura è già stata fatta in un [tutorial sul sito di softpython](http://it.softpython.org/integration/integration-sol.html) e in versione semplificata senza python con solo Google Spreadsheet e MapQuest API sul [sito di CoderDojo Trento](https://www.coderdojotrento.it/risorse/openstreetmap-e-agritur/)\n",
    "\n",
    "## Dati strutture alberghiere\n",
    "\n",
    "Su dati trentino c’è un [dataset sulle strutture alberghiere](https://dati.trentino.it/dataset/esercizi-alberghieri)  in formato XML che però non ha le coordinate geografiche. Si potrebbe ottenerle con OpenStreetMap e poi riportarle su una mappa, sul modello del tutorial per gli agritur \n",
    "\n",
    "Per avere un idea di come estrarli in Python, guardare il tutorial [Estrazione dati su softpython](http://it.softpython.org/extraction/extraction-sol.html). Volendo, si possono anche convertire in CSV con il sito [convertcsv.com](http://www.convertcsv.com/xml-to-csv.htm)\n",
    "\n",
    "**DOMANDA**: Se hai dei dati privati contenti informazioni sensibili dei clienti che non vuoi assolutamente pubblicare e/o cedere a terze parti, useresti un servizio web 'gratuito' qualunque per convertirli? Sai che uso verrà poi fatto di quei dati?\n",
    "\n"
   ]
  },
  {
   "cell_type": "markdown",
   "metadata": {},
   "source": [
    "## Dataset agritur Atoka\n",
    "\n",
    "Questo dataset è fornito da [SpazioDati](http://spaziodati.eu) tramite il servizio [Atoka](http://atoka.io) . Riportiamo qui un esempio dei dati (in verticale).\n",
    "\n",
    "Per i dati completi chiedere a [david.leoni@unitn.it](mailto:david.leoni@unitn.it)\n",
    "\n",
    "\n",
    "![agritur-atoka-8912312](img/agritur-atoka.jpg)\n",
    "\n"
   ]
  },
  {
   "cell_type": "markdown",
   "metadata": {},
   "source": [
    "## Dataset hotels Atoka\n",
    "\n",
    "Questo dataset è fornito da [SpazioDati](http://spaziodati.eu) tramite il servizio [Atoka](http://atoka.io) . Riportiamo qui un esempio dei dati (in verticale).\n",
    "\n",
    "![hotels-atoka-8123123](img/hotels-atoka.jpg)\n",
    "\n",
    "Per i dati completi chiedere a [david.leoni@unitn.it](mailto:david.leoni@unitn.it)\n"
   ]
  },
  {
   "cell_type": "code",
   "execution_count": null,
   "metadata": {},
   "outputs": [],
   "source": []
  }
 ],
 "metadata": {
  "kernelspec": {
   "display_name": "Python 3",
   "language": "python",
   "name": "python3"
  },
  "language_info": {
   "codemirror_mode": {
    "name": "ipython",
    "version": 3
   },
   "file_extension": ".py",
   "mimetype": "text/x-python",
   "name": "python",
   "nbconvert_exporter": "python",
   "pygments_lexer": "ipython3",
   "version": "3.7.3"
  },
  "toc": {
   "base_numbering": 1,
   "nav_menu": {},
   "number_sections": false,
   "sideBar": true,
   "skip_h1_title": false,
   "title_cell": "Table of Contents",
   "title_sidebar": "Contents",
   "toc_cell": false,
   "toc_position": {},
   "toc_section_display": true,
   "toc_window_display": false
  }
 },
 "nbformat": 4,
 "nbformat_minor": 2
}

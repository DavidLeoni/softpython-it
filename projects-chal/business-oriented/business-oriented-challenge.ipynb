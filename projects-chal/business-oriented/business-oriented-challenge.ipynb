{
 "cells": [
  {
   "cell_type": "markdown",
   "metadata": {},
   "source": [
    "# Business Oriented Challenge\n",
    "\n",
    "\n",
    "\n",
    "![spaziodati-34293](../../_static/img/third-parties/spaziodati-big.png)\n",
    "\n",
    "**Sponsor:** [SpazioDati](http://spaziodati.eu). \n",
    "\n",
    "Gli enti pubblici come i comuni hanno costantemente bisogno che siano svolti diverse attività, come per esempio pavimentazione stradale, gestione impianti sportivi, manutenzione aree verdi, etc. A tal fine aprono **bandi di gara** per chiedere alle imprese di offrire questi servizi al prezzo più basso. In Italia ci sono circa 8000 comuni, e per un impresa **monitorare tutti i bandi** può richiedere un notevole sforzo. \n",
    "SpazioDati offre un servizio di ricerca di imprese chiamato Atoka, che permette di trovare aziende per partita IVA, settore e contenuti dei loro siti web. Per esempio, permette di capire rapidamente i prodotti e servizi venduti dalle aziende di un certo territorio. Tra i vari filtri, è possibile ricercare aziende che siano risultate vincitrici di bandi pubblici. [SpazioDati](https://spaziodati.eu) ci chiede di **aggiungere filtri** riguardanti i bandi di gara, implementando funzionalità come **estrazione di parole chiave**, classificazione dei bandi, estrazione di date, importi e luoghi. \n",
    "\n",
    "In Trentino sono disponibili su [dati.trentino](http://dati.trentino.it/dataset/bandi-di-gara-del-comune-di-trento) bandi di gara per vari comuni forniti da ComunWeb, negli esempi ci concentriamo su Trento. Per avere un’idea di cosa è disponibile, si può guardare l’interfaccia di ricerca [sul sito del Comune di Trento](http://www.comune.trento.it/Amministrazione-Trasparente/Bandi-di-gara-e-contratti/Atti-delle-amministrazioni-aggiudicatrici-e-degli-enti-aggiudicatori-distintamente-per-ogni-procedura/Atti-relativi-alle-procedure-per-l-affidamento-di-appalti-pubblici-di-servizi-forniture-lavori-e-opere-di-concorsi-pubblici-di-progettazione-di-concorsi-di-idee-e-di-concessioni.-Compresi-quelli-tra-enti-nell-mabito-del-settore-pubblico-di-cui-all-art/Bandi-di-gara), che permette di cercare per \n",
    "\n",
    "* titolo\n",
    "* servizi o ufficio di competenza\n",
    "* argomento\n",
    "* tipologia (lavori pubblici, servizi, forniture)\n",
    "* fase (aperto, in esame, aggiudicato)\n",
    "* data pubblicazione\n",
    "\n",
    "Per i fini di questa challenge, ci limiteremo ad usare il dataset dei bandi di gara da dati.trentino.ti con un dataset di aziende trentine ricavato dal database di Atoka di SpazioDati. Il vostro compito sarà **integrare i dataset** ed estenderli ulteriormente con altre colonne come keywords e importo, implementando infine un **prototipo di motore di ricerca** che permetta di filtrare in base a tali colonne.\n",
    "\n",
    "\n"
   ]
  },
  {
   "cell_type": "markdown",
   "metadata": {},
   "source": [
    "## a. Analisi\n",
    "\n",
    "Quante e quali aziende potrebbero essere interessate al nostro servizio ?\n",
    "\n",
    "\n",
    "## b. Ricerca base\n",
    "\n",
    "Un primo approccio semplice  potrebbe essere replicare la ricerca già presente sul sito del comune. Per iniziare, basterebbe creare delle funzioni python che permettono di specificare i vari argomenti di ricerca. Fatto ciò, se rimane tempo e se ne hanno le competenze, si potrebbe pensare di costruire una interfaccia HTML rudimentale. \n",
    "\n",
    "## c. Ricerca avanzata\n",
    "\n",
    "Si potrebbe migliorare le funzionalità di ricerca permettendo di filtrare:\n",
    "\n",
    "* keyword\n",
    "* importo complessivo\n",
    "* sottocategorie  (pavimentazioni, reti idrauliche …)\n",
    "* area geografica, comune\n",
    "\n",
    "\n",
    "Per realizzare quanto sopra, si potrebbe effettuare analisi semantica del testo usando il servizio Dandelion di SpazioDati con l’API Entity Extraction (vedi [esempio visuale](https://dandelion.eu/semantic-text/entity-extraction-demo/?text=%22Sottopasso+stradale+e+strada+di+collegamento+sull%27area+ex+Aziende+Agrarie%E2%80%9D.Le+opere+che+formano+oggetto+dell%27appalto+possono+riassumersi+in+via+puramente+indicativa+come+di+seguito%3A-+demolizioni%2C+rimozioni+e+scavi%3B-+formazioni+di+rilevati+e+massicciate%3B-+calcestruzzo+e+acciai+per+c.a.%3B-+micropali+e+fondazioni+speciali%3B-+opere+di+abbassamento+falda%3B-+infissione+e+traslazione+del+monolite+ferroviario%3B-+sistema+provvisorio+di+sostegno+dei+binari%3B-+pavimentazioni%3B-+reti+idrauliche%3B-+impianto+di+illuminazione+pubblica.Importo+complessivo+di+appalto%3A+euro+2.137.992%2C87+di+cui+euro+73.115%2C84+per+oneri+di+sicurezza+non+soggetti+a+ribasso.&lang=it&min_confidence=0&country=IT&exec=true#results) e  [documentazione API](https://dandelion.eu/docs/api/datatxt/nex/v1/))\n",
    "\n",
    "Esempi di ricerca: \n",
    "\n",
    "* impresa edile vuole sapere quando esce un bando per lavori pubblici da almeno 2 milioni di euro in un certo territorio, filtrando se possibile tra lavori di pavimentazioni, reti idrauliche, impianto di illuminazione pubblica, etc. \n",
    "Esempio\n",
    "[Lavori Pubblici - Area ex Michelin](http://www.comune.trento.it/Amministrazione-Trasparente/Bandi-di-gara-e-contratti/Atti-delle-amministrazioni-aggiudicatrici-e-degli-enti-aggiudicatori-distintamente-per-ogni-procedura/Atti-relativi-alle-procedure-per-l-affidamento-di-appalti-pubblici-di-servizi-forniture-lavori-e-opere-di-concorsi-pubblici-di-progettazione-di-concorsi-di-idee-e-di-concessioni.-Compresi-quelli-tra-enti-nell-mabito-del-settore-pubblico-di-cui-all-art/Bandi-di-gara/Lavori-Pubblici-Procedura-aperta-per-l-affidamento-dei-lavori-relativi-all-Area-ex-Michelin-Sottopasso-stradale-e-strada-di-collegamento-sull-area-ex-Aziende-agrarie-lotto-2)  CIG n. 70813914B7\n",
    "\n",
    "Dalla descrizione è possibile estrarre diverse parole chiave che identificano i lavori effettivamente richiesti ( pavimentazioni, reti idrauliche, impianto di illuminazione pubblica etc).  [Esempio estrazione su Dandelion](https://dandelion.eu/semantic-text/entity-extraction-demo/?text=%22Sottopasso+stradale+e+strada+di+collegamento+sull%27area+ex+Aziende+Agrarie%E2%80%9D.Le+opere+che+formano+oggetto+dell%27appalto+possono+riassumersi+in+via+puramente+indicativa+come+di+seguito%3A-+demolizioni%2C+rimozioni+e+scavi%3B-+formazioni+di+rilevati+e+massicciate%3B-+calcestruzzo+e+acciai+per+c.a.%3B-+micropali+e+fondazioni+speciali%3B-+opere+di+abbassamento+falda%3B-+infissione+e+traslazione+del+monolite+ferroviario%3B-+sistema+provvisorio+di+sostegno+dei+binari%3B-+pavimentazioni%3B-+reti+idrauliche%3B-+impianto+di+illuminazione+pubblica.Importo+complessivo+di+appalto%3A+euro+2.137.992%2C87+di+cui+euro+73.115%2C84+per+oneri+di+sicurezza+non+soggetti+a+ribasso.&lang=it&min_confidence=0&country=IT&exec=true#results) (leggermente editato per stare nei limiti del sito). L’estrazione dell’importo complessivo può essere invece fatta con [l’uso di regex](http://it.softpython.org/search/regex-sol.html)\n",
    "Altre imprese potrebbero essere imprese di pulizie, servizi alla persona, etc...\n",
    "\n",
    "\n",
    "## d. Bandi simili\n",
    "\n",
    "Dato un bando, un’impresa potrebbe voler cercare bandi simili, per esempio per capire quali sono stati i criteri di selezione e per individuare quanti e quali potenziali aziende concorrenti hanno partecipato al bando.\n",
    "\n",
    "\n"
   ]
  },
  {
   "cell_type": "markdown",
   "metadata": {},
   "source": [
    "## Dati bandi di gara\n",
    "\n",
    "Dataset su dati.trentino: [http://dati.trentino.it/dataset/bandi-di-gara-del-comune-di-trento](http://dati.trentino.it/dataset/bandi-di-gara-del-comune-di-trento)\n",
    "\n",
    "Esempi API per comune di Trento (per documentazione parametri query vedere documentazione ComunWeb):\n",
    "\n",
    "JSON \n",
    "[www.comune.trento.it/api/opendata/v2/content/search/classes+bando+offset+30](http://www.comune.trento.it/api/opendata/v2/content/search/classes+bando+offset+30)\n",
    "\n",
    "CSV: \n",
    "API:  [www.comune.trento.it/exportas/custom/csv_search?classes=bando](http://www.comune.trento.it/exportas/custom/csv_search?classes=bando)\n",
    "\n"
   ]
  },
  {
   "cell_type": "markdown",
   "metadata": {},
   "source": [
    "## Dati Atoka\n",
    "\n",
    "\n",
    "Questo dataset è fornito da [SpazioDati](http://spaziodati.eu) tramite il servizio [Atoka](http://atoka.io) . Riportiamo qui un esempio dei dati (in verticale). \n",
    "\n",
    "Per i dati completi chiedere a [david.leoni@unitn.it](mailto:david.leoni@unitn.it)\n",
    "\n",
    "\n",
    "![aziende-98232](img/aziende-trentine-atoka.jpg)"
   ]
  },
  {
   "cell_type": "code",
   "execution_count": null,
   "metadata": {},
   "outputs": [],
   "source": []
  }
 ],
 "metadata": {
  "kernelspec": {
   "display_name": "Python 3",
   "language": "python",
   "name": "python3"
  },
  "language_info": {
   "codemirror_mode": {
    "name": "ipython",
    "version": 3
   },
   "file_extension": ".py",
   "mimetype": "text/x-python",
   "name": "python",
   "nbconvert_exporter": "python",
   "pygments_lexer": "ipython3",
   "version": "3.7.3"
  },
  "toc": {
   "base_numbering": 1,
   "nav_menu": {},
   "number_sections": false,
   "sideBar": true,
   "skip_h1_title": false,
   "title_cell": "Table of Contents",
   "title_sidebar": "Contents",
   "toc_cell": false,
   "toc_position": {},
   "toc_section_display": true,
   "toc_window_display": false
  }
 },
 "nbformat": 4,
 "nbformat_minor": 2
}

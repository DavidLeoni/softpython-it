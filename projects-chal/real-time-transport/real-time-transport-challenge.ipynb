{
 "cells": [
  {
   "cell_type": "markdown",
   "metadata": {},
   "source": [
    "# Real Time Transport Challenge\n",
    "\n",
    "<br/>\n",
    "<br/>\n",
    "\n",
    "![](../../_static/img/third-parties/u-hopper-thinkin-big.png)\n",
    "\n",
    "**Sponsor:** [U-Hopper](https://u-hopper.com/) / [Thinkin](https://thinkin.io)\n",
    "\n",
    "\n",
    "Nell’ambito dei **trasporti pubblici**, per comprendere appieno le dinamiche di afflusso dei passeggeri sugli **autobus** e quindi ottimizzare il numero di corse e i tragitti, è importante sapere il **numero di passeggeri** per linea durante la giornata.\n",
    "Una società di trasporti pubblici di una città che U-Hopper non è autorizzata a rivelare (a scanso di equivoci, la città non è comunque Trento), è interessata pertanto a verificare se sia possibile stimare il numero di passeggeri a bordo di un autobus sulla base del numero di dispositivi (**smartphone**, essenzialmente) rilevati a bordo dell’autobus stesso tramite opportuni **sensori**. Una procedura di rilevazione di questo tipo presenta alcuni vantaggi rispetto a metodologie più tradizionali: per esempio, rispetto alla rilevazione manuale, non richiede l’impiego a tempo pieno di un addetto su ogni autobus che conteggi il numero di passeggeri a bordo nel corso tragitto; rispetto invece a una misurazione effettuata tramite controllo dei dati delle obliteratrici, una rilevazione tramite sensori consente di stabilire non solo quando un passeggero salga sull’autobus ma anche quando ne discenda.  \n",
    "Al riguardo, la società si è rivolta a U-Hopper per la programmazione e installazione dei sensori e, una volta acquisiti i dati, per la messa a punto di un procedimento (algoritmo) in grado di analizzare le misurazioni per effettuare una stima del numero di passeggeri. Per calibrare il sistema, la società di trasporti pubblici ha messo a disposizione di U-Hopper le rilevazioni del numero di passeggeri compiute manualmente da alcuni addetti a bordo degli autobus - questi ultimi ovviamente muniti anche di sensore - di varie linee urbane durante alcune giornate.   \n",
    "U-Hopper ha già provveduto a realizzare quanto richiesto dal cliente, ma in futuro potrebbe risultare utile produrre **visualizzazioni grafiche** per mettere in evidenza regolarità nell’affluenza dei passeggeri (_pattern_) tramite uno strumento che risulti **facilmente comprensibile** per qualunque interlocutore. Si richiede quindi di visualizzare il numero di device rilevati mediamente giorno per giorno sulle diverse linee nelle varie fasce orarie, comparandolo eventualmente con le rilevazioni manuali. Per aumentare la fruibilità, si potrebbe creare un’apposita **interfaccia utente** stile chatbot che consenta di scegliere per es. quale fascia oraria evidenziare. \n"
   ]
  },
  {
   "cell_type": "markdown",
   "metadata": {},
   "source": [
    "## a. Analisi\n",
    "\n",
    "Esplorare i dati per individuare a quali linee urbane si riferiscano le misurazioni, in quali giorni siano state effettuate e in quali fasce orarie (ovviamente gli autobus non circolano per tutte le 24 ore) - in questa fase occorrerà procedere a una conversione del timestamp in modo che giorno e ora siano leggibili."
   ]
  },
  {
   "cell_type": "markdown",
   "metadata": {},
   "source": [
    "## b. Preparazione\n",
    "\n",
    "Importanti operazioni di pulizia sono state già svolte da U-Hopper, come la rimozione preliminare dai dati dei segnali spuri, cioè dei segnali provenienti da device non appartenenti a passeggeri dell’autobus (per esempio, il device dell’autista, quello del guidatore e/o passeggero dell’auto che transita a fianco dell’autobus, etc.).\n",
    "\n",
    "Quello che dovrete fare voi sarà segmentare dei dati in modo che siano raggruppati in base alla linea dell’autobus e alla fascia oraria. Dato che i sensori effettuano rilevazioni a intervalli di qualche secondo, è naturale che il device di ogni passeggero compaia ripetutamente fintanto che il passeggero sia a bordo dell’autobus e di questo aspetto occorrerà tener opportunamente conto.\n",
    "\n"
   ]
  },
  {
   "cell_type": "markdown",
   "metadata": {},
   "source": [
    "## c.  Visualizzazione\n",
    "\n",
    "### c.1 Utilizzo linee\n",
    "\n",
    "Per ogni linea di autobus si potrebbero produrre una o più visualizzazioni grafiche (tabella, istogramma, diagramma a torta, etc.) relative alla frequentazione dell’autobus nelle varie fasce orarie delle diverse giornate (si potrebbe considerare un intervallo temporale di un’ora, per esempio), mettendo in evidenza quanto sia stato utilizzato l’autobus in ogni fascia rispetto alla media giornaliera della linea. Una visualizzazione di questo tipo sarebbe per esempio utile alla società di trasporti per verificare se sia il caso di intensificare - o rarefare - il numero di corse rispetto alla prassi attuale, tenuto anche conto delle variazioni di affluenza nei giorni festivi rispetto ai feriali.    \n",
    " \n",
    "### c.2 Differenze dati device / registrazioni manuali\n",
    "\n",
    "Siccome non tutti i passeggeri dispongono necessariamente di un device, i numeri nelle visualizzazioni relative alle rilevazioni dei sensori non coincideranno con gli analoghi numeri che si potrebbero ottenere a partire dalle misurazioni manuali. Cionondimeno, un confronto tra i picchi rilevati in un caso e nell’altro potrebbe essere utile a segnalare eventuali anomalie/malfunzionamenti dei sensori (peraltro nuovi) o blackout, aiutando così U-Hopper o la società dei trasporti stessa a procedere con le necessarie verifiche e, nel caso, a intervenire opportunamente.    \n",
    "Si potrebbero quindi produrre visualizzazioni analoghe a quelle cui si fa riferimento nella sezione d.1, impiegando però i dati ottenuti tramite le misurazioni effettuate manualmente dagli addetti della società di trasporti, così da procedere poi al confronto qui sopra descritto.\n"
   ]
  },
  {
   "cell_type": "markdown",
   "metadata": {},
   "source": [
    "### d. Interfaccia interattiva \n",
    "\n",
    "Presentare il tutto in un chatbot o sito, includendo elementi interattivi: per esempio, un utente potrebbe inserire la linea urbana, il giorno della settimana e la fascia oraria e vedersi restituito il corrispondente numero di device rilevati, nuovamente evidenziato in maniera diversa a seconda di quanto elevato o basso sia il numero di device rapportato alla media giornaliera.\n"
   ]
  },
  {
   "cell_type": "markdown",
   "metadata": {},
   "source": [
    "### e. Inferenza\n",
    "\n",
    "Se vi avanza tempo, come extra guardate cosa si può inferire solo analizzando la distribuzione dei picchi nell’arco di una singola giornata. Potreste avanzare ipotesi sulla tipologia di area urbana servita dalla varie linee di autobus: per esempio, picchi al mattino presto e in tarda mattinata potrebbero far ipotizzare che la linea urbana in esame serva dei poli scolastici, picchi al mattino presto e nel tardo pomeriggio porterebbero invece a credere che la linea urbana serva aree di uffici e/o industrie. Provate quindi a realizzare una tabella che metta in corrispondenza le fermate con il tipo di luogo. \n"
   ]
  },
  {
   "cell_type": "markdown",
   "metadata": {},
   "source": [
    "## Dataset\n",
    "\n",
    "\n",
    "\n",
    "I dataset sono forniti da [U-Hopper](https://www.u-hopper.com). Per i dati completi chiedere a [david.leoni@unitn.it](mailto:david.leoni@unitn.it)\n",
    "\n",
    "Vi verranno forniti due file, `Rilevazioni_sensori.csv` e `Rilevazioni_manuali.csv`\n",
    "\n",
    "Le rilevazioni - sia tramite sensori che tramite addetti della società - sono state effettuate su tre linee urbane di un Comune (che deve rimanere anonimo) nel corso di tre distinte giornate durante una settimana del mese di novembre dell’anno scorso. \n",
    "Più precisamente, il file con le rilevazioni dei sensori e quello con le misurazioni manuali contengono circa 110000 e 5300 righe rispettivamente, per un totale di circa 2.5 Mb e 210 Kb di memoria. Le rilevazioni coprono le fasce orarie dalle 5-6 del mattino (circa) fino alle 20-21 (circa), eccezion fatta per una linea di bus che, in due delle tre giornate in questione, ha dati solo tra le 5 e le 10 per un giorno e tra le 6 e le 16 per l’altro.\n"
   ]
  },
  {
   "cell_type": "markdown",
   "metadata": {},
   "source": [
    "### Rilevazioni_sensori.csv\n",
    "\n",
    "Righe: 110000\n",
    "\n",
    "Dimensione: 2.5 Mb\n",
    "\n",
    "Colonne:\n",
    "\n",
    "- `Line`: linea di autobus della rete urbana\n",
    "- `Timestamp`: timestamp dell’istante in cui la rilevazione è stata effettuata\n",
    "- `ID Device`: id del device rilevato (opportunamente anonimizzato)\n",
    "\n",
    "Esempio:\n",
    "\n",
    "```\n",
    "Line    Timestamp           ID_Device\n",
    "11      1542859801.14977    53c5a73e-b1a3-5618-81f2-ec0d8a24cb10\n",
    "11      1542859805.09879    53c5a73e-b1a3-5618-81f2-ec0d8a24cb10\n",
    "11      1542860008.60541    0d36bc0a-c1c9-535a-92fe-187dcb670dc4\n",
    "6       1542861382.94801    538072a4-722b-5e5a-afdd-46bcd9626245\n",
    "6       1542861384.6065     5656b67a-67d3-5b31-8e53-637b1ef501e7\n",
    "6       1542861384.89655    7493648b-4eef-5029-bfe3-f363aae59c2d\n",
    "```"
   ]
  },
  {
   "cell_type": "markdown",
   "metadata": {},
   "source": [
    "### Rilevazioni_manuali.csv \n",
    "\n",
    "Righe: 5300\n",
    "\n",
    "Dimensione: 210 Kb\n",
    "\n",
    "Colonne: \n",
    "\n",
    "- `linea dell’autobus`\n",
    "- `timestamp`\n",
    "- `Passengers`: numero di passeggeri presenti sull’autobus una volta terminate le operazioni di salita e discesa a una fermata (è qui utile specificare che gli addetti hanno proceduto alla rilevazione alla ripartenza dell’autobus da ogni fermata)\n",
    "- `Gone_up`: numero di passeggeri saliti alla fermata\n",
    "- `Gone_down`: numero di passeggeri discesi\n",
    "\n",
    "Esempio:\n",
    "\n",
    "```\n",
    "Line    Timestamp   Passengers  Gone_up Went_down\n",
    "6       1542870352  17          2       1\n",
    "6       1542870960  12          0       2\n",
    "6       1542871204  11          3       0\n",
    "9       1542873885  5           0       0\n",
    "9       1542873976  0           0       5\n",
    "9       1542874068  18          18      0\n",
    "\n",
    "```"
   ]
  }
 ],
 "metadata": {
  "kernelspec": {
   "display_name": "Python 3",
   "language": "python",
   "name": "python3"
  },
  "language_info": {
   "codemirror_mode": {
    "name": "ipython",
    "version": 3
   },
   "file_extension": ".py",
   "mimetype": "text/x-python",
   "name": "python",
   "nbconvert_exporter": "python",
   "pygments_lexer": "ipython3",
   "version": "3.7.3"
  },
  "toc": {
   "base_numbering": 1,
   "nav_menu": {},
   "number_sections": false,
   "sideBar": true,
   "skip_h1_title": false,
   "title_cell": "Table of Contents",
   "title_sidebar": "Contents",
   "toc_cell": false,
   "toc_position": {},
   "toc_section_display": true,
   "toc_window_display": false
  }
 },
 "nbformat": 4,
 "nbformat_minor": 2
}

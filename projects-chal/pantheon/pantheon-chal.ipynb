{
 "cells": [
  {
   "cell_type": "markdown",
   "id": "cbc7339a",
   "metadata": {
    "colab_type": "text",
    "id": "9EV5oLSggWlg"
   },
   "source": [
    "\n",
    "## Pantheon Challenge - Personaggi culturalmente importanti\n",
    "\n",
    "[Pantheon](http://pantheon.media.mit.edu) è un progetto online per aiutare a comprendere il processo di sviluppo culturale globale. Il progetto consisterebbe nel ricreare in fogli Jupyter alcune delle visualizzazioni presenti sul sito di Pantheon, come per esempio questa:\n",
    "\n",
    "\n",
    "![pantheon-32981](img/pantheon.png)\n",
    "\n",
    "\n",
    "In particolare, vengono offerti [tre dataset](https://pantheon.world/data/datasets) estratti da Wikipedia con cui sono state realizzate le visualizzazioni online.\n",
    "\n",
    "- [visualizzazione scatterplot](http://pantheon.media.mit.edu/scatterplot/domain_vs_domain/ECONOMIST/MEDICINE/-4000/2000/H15/pantheon) che compara domini per rispondere a domande tipo \"Quali luoghi di nascita hanno prodotto personalità nei campi dell'economia e della medicina?\". "
   ]
  },
  {
   "cell_type": "code",
   "execution_count": null,
   "id": "8a670135",
   "metadata": {},
   "outputs": [],
   "source": []
  }
 ],
 "metadata": {
  "kernelspec": {
   "display_name": "Python 3 (ipykernel)",
   "language": "python",
   "name": "python3"
  },
  "language_info": {
   "codemirror_mode": {
    "name": "ipython",
    "version": 3
   },
   "file_extension": ".py",
   "mimetype": "text/x-python",
   "name": "python",
   "nbconvert_exporter": "python",
   "pygments_lexer": "ipython3",
   "version": "3.7.10"
  },
  "toc": {
   "base_numbering": 1,
   "nav_menu": {},
   "number_sections": false,
   "sideBar": true,
   "skip_h1_title": false,
   "title_cell": "Table of Contents",
   "title_sidebar": "Contents",
   "toc_cell": false,
   "toc_position": {},
   "toc_section_display": true,
   "toc_window_display": false
  }
 },
 "nbformat": 4,
 "nbformat_minor": 5
}

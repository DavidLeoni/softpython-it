{
 "cells": [
  {
   "cell_type": "code",
   "execution_count": 17,
   "metadata": {
    "nbsphinx": "hidden"
   },
   "outputs": [],
   "source": [
    "# Ricordati di eseguire questa cella\n",
    "import jupman;"
   ]
  },
  {
   "cell_type": "markdown",
   "metadata": {},
   "source": [
    "# Funzioni 2 - Gestione degli errori e testing\n",
    "\n",
    "## [Scarica zip esercizi](../_static/generated/functions.zip)\n",
    "\n",
    "[Naviga file online](https://github.com/DavidLeoni/softpython-it/tree/master/functions/)"
   ]
  },
  {
   "cell_type": "markdown",
   "metadata": {},
   "source": [
    "## Introduzione\n",
    "\n",
    "In questa guida tratteremo come deve fare il nostro programma quando incontra situazioni impreviste e vedremo come testare il codice che scriviamo. In particolare, descriveremo il formato degli esercizi proposti nelle parti successive dei Fondamenti Python."
   ]
  },
  {
   "cell_type": "markdown",
   "metadata": {},
   "source": [
    "## Che fare\n",
    "\n",
    "1. scompatta lo zip in una cartella, dovresti ottenere qualcosa del genere: \n",
    "\n",
    "```\n",
    "functions\n",
    "    fun1-intro.ipynb\n",
    "    fun1-intro-sol.ipynb   \n",
    "    fun2-errors-and-testing.ipynb\n",
    "    fun2-errors-and-testing-sol.ipynb\n",
    "    fun3-strings.ipynb\n",
    "    fun3-strings-sol.ipynb\n",
    "    fun4-lists.ipynb\n",
    "    fun4-lists-sol.ipynb\n",
    "    fun5-tuples.ipynb\n",
    "    fun5-tuples-sol.ipynb\n",
    "    fun6-sets.ipynb\n",
    "    fun6-sets-sol.ipynb\n",
    "    fun7-dictionaries.ipynb\n",
    "    fun7-dictionaries-sol.ipynb\n",
    "    fun8-chal.ipynb\n",
    "    jupman.py\n",
    "```\n",
    "\n",
    "<div class=\"alert alert-warning\">\n",
    "\n",
    "**ATTENZIONE**: Per essere visualizzato correttamente, il file del notebook DEVE essere nella cartella szippata.\n",
    "</div>\n",
    "\n",
    "2. apri il Jupyter Notebook da quella cartella. Due cose dovrebbero aprirsi, prima una console e poi un browser. Il browser dovrebbe mostrare una lista di file: naviga la lista e apri il notebook `fun2-errors-and-testing.ipynb`\n",
    "3. Prosegui leggendo il file degli esercizi, ogni tanto al suo interno troverai delle scritte **ESERCIZIO**, che ti chiederanno di scrivere dei comandi Python nelle celle successive. \n",
    "\n",
    "\n",
    "Scorciatoie da tastiera:\n",
    "\n",
    "* Per eseguire il codice Python dentro una cella di Jupyter, premi `Control+Invio`\n",
    "* Per eseguire il codice Python dentro una cella di Jupyter E selezionare la cella seguente, premi `Shift+Invio`\n",
    "* Per eseguire il codice Python dentro una cella di Jupyter E creare una nuova cella subito dopo, premi `Alt+Invio`\n",
    "* Se per caso il Notebook sembra inchiodato, prova a selezionare `Kernel -> Restart`"
   ]
  },
  {
   "cell_type": "markdown",
   "metadata": {
    "colab_type": "text",
    "id": "2uM_3S83D9p9"
   },
   "source": [
    "\n",
    "## Situazioni inaspettate\n",
    "\n",
    "E' sera,  c'è da festeggiare un compleanno e perciò ti è stato chiesto di fare una torta. Sai che servono i seguenti passi:\n",
    "\n",
    "1. prendi il latte\n",
    "2. prendi lo zucchero\n",
    "3. prendi la farina \n",
    "4. impasta\n",
    "5. scalda nel forno\n",
    "\n",
    "Prendi il latte, lo zucchero, ma scopri di non avere la farina. E' sera, e non ci sono negozi aperti. Evidentemente,  non ha senso proseguire  al punto 4 con l'impasto e devi rinunciare a fare la torta, segnalando al festeggiato/a il problema. Puoi solo sperate che il  festeggiato/a decida per qualche alternativa di suo gradimento.\n",
    "\n"
   ]
  },
  {
   "cell_type": "markdown",
   "metadata": {
    "colab_type": "text",
    "id": "zwNdlmJfHo55"
   },
   "source": [
    "Traducendo il tutto in termini di Python, possiamo chiederci se durante l'esecuzione di una funzione, di fronte ad una situazione imprevista è possibile :\n",
    "\n",
    "1. **interrompere** il flusso di esecuzione del programma\n",
    "2. **segnalare** a chi ha chiamato la funzione che c'è stato un problema\n",
    "3. **permettere di gestire** a chi ha chiamato la funzione il problema\n",
    "\n",
    "La risposta è sì e si fa col meccanismo delle **eccezioni** (`Exception`)\n",
    "\n",
    "### fai_torta_problematica\n",
    "\n",
    "Vediamo intanto come possiamo rappresentare in Python il problema di sopra. Una versione di base potrebbe essere essere la seguente: \n",
    "\n",
    "**DOMANDA**: questa versione ha un problema serio. Riesci a vederlo ??"
   ]
  },
  {
   "cell_type": "code",
   "execution_count": 1,
   "metadata": {
    "colab": {
     "base_uri": "https://localhost:8080/",
     "height": 141
    },
    "colab_type": "code",
    "id": "Y5gUglTvJegE",
    "outputId": "52a9dd62-e852-45e6-fb61-75af719c4963"
   },
   "outputs": [
    {
     "name": "stdout",
     "output_type": "stream",
     "text": [
      "prendo il latte\n",
      "prendo lo zucchero\n",
      "Non ho abbastanza farina !\n",
      "Impasto\n",
      "Scaldo\n",
      "Ho fatto la torta !\n",
      "Festeggia\n"
     ]
    }
   ],
   "source": [
    "def fai_torta_problematica(latte, zucchero, farina):\n",
    "    \"\"\" - supponiamo servano 1.3 kg per il latte, 0.2kg per lo zucchero e 1.0kg per la farina\n",
    "    \n",
    "        - prende come parametri le quantità che abbiamo in dispensa\n",
    "    \"\"\"\n",
    "  \n",
    "    if latte > 1.3:\n",
    "        print(\"prendo il latte\")\n",
    "    else:\n",
    "        print(\"Non ho abbastanza latte !\")\n",
    "\n",
    "    if zucchero > 0.2:\n",
    "        print(\"prendo lo zucchero\")\n",
    "    else:\n",
    "        print(\"Non ho abbastanza zucchero !\")\n",
    "\n",
    "    if farina > 1.0:\n",
    "        print(\"prendo la farina\")\n",
    "    else:\n",
    "        print(\"Non ho abbastanza farina !\")\n",
    "\n",
    "    print(\"Impasto\")\n",
    "    print(\"Scaldo\")\n",
    "    print(\"Ho fatto la torta !\")\n",
    "\n",
    "\n",
    "fai_torta_problematica(5,1,0.3)  # poca farina ...\n",
    "\n",
    "print(\"Festeggia\")"
   ]
  },
  {
   "cell_type": "raw",
   "id": "af4e9b83",
   "metadata": {
    "format": "text/html"
   },
   "source": [
    "<a  class=\"jupman-sol jupman-sol-toggler\" \n",
    " onclick=\"jupman.toggleSolution(this);\" \n",
    " data-jupman-show=\"Mostra risposta\" data-jupman-hide=\"Nascondi\">Mostra risposta</a><div class=\"jupman-sol jupman-sol-question\" style=\"display:none\">  "
   ]
  },
  {
   "cell_type": "markdown",
   "metadata": {},
   "source": [
    "**RISPOSTA**: il programma qua sopra festeggia anche quando non abbiamo ingredienti sufficienti !"
   ]
  },
  {
   "cell_type": "raw",
   "id": "989f237e",
   "metadata": {
    "format": "text/html"
   },
   "source": [
    "</div>"
   ]
  },
  {
   "cell_type": "markdown",
   "metadata": {
    "colab_type": "text",
    "id": "27WwfcdGYBgU"
   },
   "source": [
    "## Controllare con i return\n",
    "\n",
    "**ESERCIZIO**: Potremmo correggere i problemi della torta di prima aggiungendo dei comandi `return`. Implementa la seguente funzione.\n",
    "\n",
    "**NOTA**: NON spostare il `print(\"Festeggia\")` dentro la funzione. Lo scopo dell'esercizio è proprio tenerlo fuori così da usare il valore ritornato da `fai_torta` per decidere se festeggiare o meno.\n",
    "\n",
    "Se hai dubbi sulle funzioni con valori di ritorno, puoi consultare il [Capitolo 6 di Pensare in Python](https://davidleoni.github.io/ThinkPythonItalian/html/thinkpython2007.html)"
   ]
  },
  {
   "cell_type": "raw",
   "id": "62a9d580",
   "metadata": {
    "format": "text/html"
   },
   "source": [
    "<a  class=\"jupman-sol jupman-sol-toggler\" \n",
    " onclick=\"jupman.toggleSolution(this);\" \n",
    " data-jupman-show=\"Mostra soluzione\" data-jupman-hide=\"Nascondi\">Mostra soluzione</a><div class=\"jupman-sol jupman-sol-code\" style=\"display:none\">  "
   ]
  },
  {
   "cell_type": "code",
   "execution_count": 2,
   "metadata": {
    "colab": {},
    "colab_type": "code",
    "id": "nx_iIyXSZskA"
   },
   "outputs": [
    {
     "name": "stdout",
     "output_type": "stream",
     "text": [
      "prendo il latte\n",
      "prendo lo zucchero\n",
      "Non ho abbastanza farina !\n",
      "No party !\n"
     ]
    }
   ],
   "source": [
    "def fai_torta(latte, zucchero, farina):\n",
    "    \"\"\"  - supponiamo servano 1.3 kg per il latte, 0.2kg per lo zucchero e 1.0kg per la farina\n",
    "\n",
    "         - prende come parametri le quantità che abbiamo in dispensa\n",
    "         MIGLIORARE CON LE return: RITORNA True se la torta è fattibile,\n",
    "                                           False altrimenti\n",
    "         *FUORI* USA IL VALORE RITORNATO PER FESTEGGIARE O MENO\n",
    "\n",
    "    \"\"\"    \n",
    "    # implementa qui la funzione\n",
    "    \n",
    "    if latte > 1.3:\n",
    "        print(\"prendo il latte\")\n",
    "        # return True  # NO, finisce subito\n",
    "    else:\n",
    "        print(\"Non ho abbastanza latte !\")\n",
    "        return False\n",
    "      \n",
    "    if zucchero > 0.2:\n",
    "        print(\"prendo lo zucchero\")\n",
    "    else:\n",
    "        print(\"Non ho abbastanza zucchero !\")\n",
    "        return False\n",
    "      \n",
    "    if farina > 1.0:\n",
    "        print(\"prendo la farina\")\n",
    "    else:\n",
    "        print(\"Non ho abbastanza farina !\")\n",
    "        return False\n",
    "  \n",
    "    print(\"Impasto\")\n",
    "    print(\"Scaldo\")\n",
    "    print(\"Ho fatto la torta !\")\n",
    "    return True\n",
    "    \n",
    "      \n",
    "\n",
    "# e scrivi qui la chiamata a funzione, fai_torta(5,1,0.3)  \n",
    "# usando il risultato per dichiarare se si può o meno fare il party :-(\n",
    "\n",
    "\n",
    "fatta_torta = fai_torta(5,1,0.3)\n",
    "\n",
    "if fatta_torta == True:\n",
    "    print(\"Festeggia\")\n",
    "else:\n",
    "    print(\"No party !\")\n"
   ]
  },
  {
   "cell_type": "raw",
   "id": "dcbe357b",
   "metadata": {
    "format": "text/html"
   },
   "source": [
    "</div>"
   ]
  },
  {
   "cell_type": "code",
   "execution_count": 2,
   "metadata": {
    "colab": {},
    "colab_type": "code",
    "id": "nx_iIyXSZskA"
   },
   "outputs": [
    {
     "name": "stdout",
     "output_type": "stream",
     "text": [
      "prendo il latte\n",
      "prendo lo zucchero\n",
      "Non ho abbastanza farina !\n",
      "No party !\n"
     ]
    }
   ],
   "source": [
    "def fai_torta(latte, zucchero, farina):\n",
    "    \"\"\"  - supponiamo servano 1.3 kg per il latte, 0.2kg per lo zucchero e 1.0kg per la farina\n",
    "\n",
    "         - prende come parametri le quantità che abbiamo in dispensa\n",
    "         MIGLIORARE CON LE return: RITORNA True se la torta è fattibile,\n",
    "                                           False altrimenti\n",
    "         *FUORI* USA IL VALORE RITORNATO PER FESTEGGIARE O MENO\n",
    "\n",
    "    \"\"\"    \n",
    "    # implementa qui la funzione\n",
    "    \n",
    "      \n",
    "\n",
    "# e scrivi qui la chiamata a funzione, fai_torta(5,1,0.3)  \n",
    "# usando il risultato per dichiarare se si può o meno fare il party :-(\n",
    "\n"
   ]
  },
  {
   "cell_type": "markdown",
   "metadata": {
    "colab_type": "text",
    "id": "DGmYOPOiVVSL"
   },
   "source": [
    "## Le eccezioni\n",
    "\n",
    "**Riferimenti**: [Nicola Cassetta - 19: La gestione delle eccezioni](http://ncassetta.altervista.org/Tutorial_Python/Lezione_19.html)\n",
    "\n",
    "\n",
    "Usando i `return`  abbiamo migliorato la funzione precedente, ma rimane un problema: la responsabilità di capire se la torta è riuscita rimane al chiamante della funzione, che deve prendere il valore ritornato e decidere in base a quello se festeggiare o meno. Un programmatore sbadato potrebbe dimenticarsi di effettuare il controllo e feteggiare anche con una torta mal riuscita. \n",
    "\n",
    "Quindi ci chiediamo: è possibile fermare l'esecuzione non solo della funzione ma di tutto il programma non appena riscontriamo una situazione imprevista? "
   ]
  },
  {
   "cell_type": "markdown",
   "metadata": {
    "colab_type": "text",
    "id": "PqIyLDxULTRE"
   },
   "source": [
    "Per migliorare quanto sopra, si possono usare le _eccezioni_. Per dire a Python di **interrompere** l'esecuzione del programma in un punto, si può inserire l'istruzione `raise` così:\n",
    "\n",
    "```python\n",
    "raise Exception()\n",
    "```\n",
    "\n",
    "Volendo, si può anche scrivere un messaggio che aiuti i programmatori  (potreste essere voi stessi ...) a capire l'origine del problema. Nel nostro caso potrebbe essere un messaggio di questo tipo:\n",
    "\n",
    "```python\n",
    "raise Exception(\"Non c'è abbastanza farina !\")\n",
    "```\n",
    "\n",
    "Nota: nei programmi professionali,  i messaggi delle exception sono intesi per programmatori, sono verbosi,  e tipicamente finiscono nascosti nei log di sistema. Agli utenti finali si dovrebbero mostrare messaggi più brevi e comprensibili da un pubblico non tecnico. Al più, si può includere un codice di errore che l'utente può copiare e dare ai tecnici per aiutare a trovare il problema.\n",
    "\n",
    "**ESERCIZIO**: Prova a riscrivere la funzione qua sopra sostituendo le righe con `return` con  dei `raise Exception()` :"
   ]
  },
  {
   "cell_type": "raw",
   "id": "43a696c3",
   "metadata": {
    "format": "text/html"
   },
   "source": [
    "<a  class=\"jupman-sol jupman-sol-toggler\" \n",
    " onclick=\"jupman.toggleSolution(this);\" \n",
    " data-jupman-show=\"Mostra soluzione\" data-jupman-hide=\"Nascondi\">Mostra soluzione</a><div class=\"jupman-sol jupman-sol-code\" style=\"display:none\">  "
   ]
  },
  {
   "cell_type": "code",
   "execution_count": 3,
   "metadata": {
    "colab": {
     "base_uri": "https://localhost:8080/",
     "height": 402
    },
    "colab_type": "code",
    "id": "1LGEMpfVEMas",
    "outputId": "cae6f401-2557-4e29-d7ac-a1eaef976a7c"
   },
   "outputs": [],
   "source": [
    "def fai_torta_eccezionale(latte, zucchero, farina):\n",
    "    \"\"\" - supponiamo servano 1.3 kg per il latte, 0.2kg per lo zucchero e 1.0kg per la farina\n",
    "\n",
    "        - prende come parametri le quantità che abbiamo in dispensa\n",
    "        - se mancano ingredienti, lancia Exception\n",
    "        \n",
    "    \"\"\"\n",
    "    # implementa la funzione  \n",
    "    \n",
    "\n",
    "    if latte > 1.3:\n",
    "        print(\"prendo il latte\")\n",
    "    else:\n",
    "        raise Exception(\"Non ho abbastanza latte !\")\n",
    "    if zucchero > 0.2:\n",
    "        print(\"prendo lo zucchero\")\n",
    "    else:\n",
    "        raise Exception(\"Non ho abbastanza zucchero!\")\n",
    "    if farina > 1.0:\n",
    "        print(\"prendo la farina\")\n",
    "    else:\n",
    "        raise Exception(\"Non ho abbastanza farina !\")\n",
    "    print(\"Impasto\")\n",
    "    print(\"Scaldo\")\n",
    "    print(\"Ho fatto la torta !\")\n",
    "   \n"
   ]
  },
  {
   "cell_type": "raw",
   "id": "01ad531a",
   "metadata": {
    "format": "text/html"
   },
   "source": [
    "</div>"
   ]
  },
  {
   "cell_type": "code",
   "execution_count": 3,
   "metadata": {
    "colab": {
     "base_uri": "https://localhost:8080/",
     "height": 402
    },
    "colab_type": "code",
    "id": "1LGEMpfVEMas",
    "outputId": "cae6f401-2557-4e29-d7ac-a1eaef976a7c"
   },
   "outputs": [],
   "source": [
    "def fai_torta_eccezionale(latte, zucchero, farina):\n",
    "    \"\"\" - supponiamo servano 1.3 kg per il latte, 0.2kg per lo zucchero e 1.0kg per la farina\n",
    "\n",
    "        - prende come parametri le quantità che abbiamo in dispensa\n",
    "        - se mancano ingredienti, lancia Exception\n",
    "        \n",
    "    \"\"\"\n",
    "    # implementa la funzione  \n",
    "    \n"
   ]
  },
  {
   "cell_type": "markdown",
   "metadata": {},
   "source": [
    "Una volta implmenetata, scrivendo \n",
    "\n",
    "```python\n",
    "fai_torta_eccezionale(5,1,0.3)\n",
    "print(\"Festeggia\")\n",
    "```\n",
    "\n",
    "Dovresti vedere (nota come \"Festeggia\" non venga mai stampato):\n",
    "    \n",
    "```bash\n",
    "prendo il latte\n",
    "prendo lo zucchero\n",
    "\n",
    "---------------------------------------------------------------------------\n",
    "Exception                                 Traceback (most recent call last)\n",
    "<ipython-input-10-02c123f44f31> in <module>()\n",
    "----> 1 fai_torta_eccezionale(5,1,0.3)\n",
    "      2 \n",
    "      3 print(\"Festeggia\")\n",
    "\n",
    "<ipython-input-9-030239f08ca5> in fai_torta_eccezionale(latte, zucchero, farina)\n",
    "     18         print(\"prendo la farina\")\n",
    "     19     else:\n",
    "---> 20         raise Exception(\"Non ho abbastanza farina !\")\n",
    "     21     print(\"Impasto\")\n",
    "     22     print(\"Scaldo\")\n",
    "\n",
    "Exception: Non ho abbastanza farina !\n",
    "\n",
    "\n",
    "```"
   ]
  },
  {
   "cell_type": "markdown",
   "metadata": {
    "colab_type": "text",
    "id": "JifNcpcGMN1p"
   },
   "source": [
    "Vediamo che  il programma si è interrotto prima di passare all'impasto (dentro la funzione), e non è neppure stato fatto il festaggiamento (che è fuori dalla funzione). Proviamo adesso a chiamare la funzione con abbastanza elementi in dispensa:"
   ]
  },
  {
   "cell_type": "code",
   "execution_count": 4,
   "metadata": {
    "colab": {
     "base_uri": "https://localhost:8080/",
     "height": 124
    },
    "colab_type": "code",
    "id": "nUSiXiguMCWb",
    "outputId": "4a37af25-226f-4331-ef57-7debb2664047"
   },
   "outputs": [
    {
     "name": "stdout",
     "output_type": "stream",
     "text": [
      "prendo il latte\n",
      "prendo lo zucchero\n",
      "prendo la farina\n",
      "Impasto\n",
      "Scaldo\n",
      "Ho fatto la torta !\n",
      "Festeggia\n"
     ]
    }
   ],
   "source": [
    "fai_torta_eccezionale(5,1,20)\n",
    "print(\"Festeggia\")"
   ]
  },
  {
   "cell_type": "markdown",
   "metadata": {},
   "source": [
    "### Gestire le eccezioni\n",
    "\n",
    "E se invece di interrompere brutalmente il programma in caso di problemi, volessimo provare qualche alternativa (come andare a comprare del gelato ...) ? Potremmo usare i blocchi `try` `except` così:\n",
    "\n"
   ]
  },
  {
   "cell_type": "code",
   "execution_count": 5,
   "metadata": {},
   "outputs": [
    {
     "name": "stdout",
     "output_type": "stream",
     "text": [
      "prendo il latte\n",
      "prendo lo zucchero\n",
      "Non riesco a fare la torta, che ne dite se usciamo a prendere del gelato?\n"
     ]
    }
   ],
   "source": [
    "try: \n",
    "    fai_torta_eccezionale(5,1,0.3)\n",
    "    print(\"Festeggia\")\n",
    "except:  \n",
    "    print(\"Non riesco a fare la torta, che ne dite se usciamo a prendere del gelato?\")   "
   ]
  },
  {
   "cell_type": "markdown",
   "metadata": {},
   "source": [
    "Se noti, l'esecuzione ha saltato il `print(\"Festeggia\")` ma non è stata stampata nessuna eccezione, e l'esecuzione è passata alla riga subito dopo l'`except`\n",
    "\n",
    "### Eccezioni particolari\n",
    "\n",
    "Finora abbiamo usato `Exception` che è un'eccezione generica, ma volendo si può usare eccezioni più specifiche per segnalare meglio il tipo di errore che è accaduto. Per esempio, quando si implementa una funzione, dato che il controllo del valore corretto dei parametri come in `fai_torta_eccezionale` è qualcosa che si fa molto spesso, Python mette a disposizione una eccezione di nome `ValueError`. Usandola invece di `Exception`, si  consente a chi chiama la funzione di intercettare solo quella tipologia di errore. \n",
    "\n",
    "Se invece nella funzione viene lanciato un errore che nel `catch` non viene intercettato, il programma si interromperà. \n",
    "\n"
   ]
  },
  {
   "cell_type": "code",
   "execution_count": 6,
   "metadata": {},
   "outputs": [
    {
     "name": "stdout",
     "output_type": "stream",
     "text": [
      "prendo il latte\n",
      "prendo lo zucchero\n",
      "\n",
      "Ci deve essere un problema con gli ingredienti!\n",
      "Proviamo a chiedere ai vicini !\n",
      "Che fortuna, ci hanno dato della farina, riproviamo !\n",
      "\n",
      "prendo il latte\n",
      "prendo lo zucchero\n",
      "prendo la farina\n",
      "Impasto\n",
      "Scaldo\n",
      "Ho fatto la torta !\n",
      "Festeggia\n"
     ]
    }
   ],
   "source": [
    "\n",
    "def fai_torta_eccezionale_2(latte, zucchero, farina):\n",
    "    \"\"\" - supponiamo servano 1.3 kg per il latte, 0.2kg per lo zucchero e 1.0kg per la farina\n",
    "\n",
    "        - prende come parametri le quantità che abbiamo in dispensa\n",
    "        - se mancano ingredienti, lancia ValueError\n",
    "    \"\"\"\n",
    "\n",
    "    if latte > 1.3:\n",
    "        print(\"prendo il latte\")\n",
    "    else:\n",
    "        raise ValueError(\"Non ho abbastanza latte !\")\n",
    "    if zucchero > 0.2:\n",
    "        print(\"prendo lo zucchero\")\n",
    "    else:\n",
    "        raise ValueError(\"Non ho abbastanza zucchero!\")\n",
    "    if farina > 1.0:\n",
    "        print(\"prendo la farina\")\n",
    "    else:\n",
    "        raise ValueError(\"Non ho abbastanza farina !\")\n",
    "    print(\"Impasto\")\n",
    "    print(\"Scaldo\")\n",
    "    print(\"Ho fatto la torta !\")\n",
    "    \n",
    "try: \n",
    "    fai_torta_eccezionale_2(5,1,0.3)\n",
    "    print(\"Festeggia\")\n",
    "except ValueError:     \n",
    "    print()\n",
    "    print(\"Ci deve essere un problema con gli ingredienti!\")   \n",
    "    print(\"Proviamo a chiedere ai vicini !\")\n",
    "    print(\"Che fortuna, ci hanno dato della farina, riproviamo !\")\n",
    "    print(\"\")\n",
    "    fai_torta_eccezionale_2(5,1,4) \n",
    "    print(\"Festeggia\")\n",
    "except:  # gestisce tutte le altre eccezioni\n",
    "    print(\"Ragazzi, è successo un problema grave, no so come fare. Meglio uscire a prendere il gelato!\")\n"
   ]
  },
  {
   "cell_type": "markdown",
   "metadata": {},
   "source": [
    "Per ulteriori spiegazioni su i `try catch` rimandiamo alla lezioni di [Nicola Cassetta - 19: La gestione delle eccezioni](http://ncassetta.altervista.org/Tutorial_Python/Lezione_19.html) "
   ]
  },
  {
   "cell_type": "markdown",
   "metadata": {
    "colab_type": "text",
    "id": "N4td4QXyapHU"
   },
   "source": [
    "## Gli assert\n",
    "\n",
    "Ti è stato chiesto di scrivere un programma per controllare un reattore nucleare. Il reattore produce tanta energia, ma ha anche bisogno di almeno 20 metri d'acqua per raffreddarsi, e il tuo programma deve regolare il livello dell'acqua. Senza acqua sufficiente, rischi una fusione. Non ti senti esattamente all'altezza del compito, e cominci a sudare..\n",
    "\n",
    "Con un certo nervosismo scrivi il codice. Controlli e ricontrolli il programma, credi che sia tutto giusto. \n",
    "\n",
    "Il giorno dell'inaugurazione, il reattore viene fatto partire. Inaspettatamente, il livello dell'acqua scende a 5 metri, e inizia la reazione. Seguono spettacoli pirotecnici al plutonio.\n",
    "\n",
    "Avremmo potuto evitare tutto ciò? A volte crediamo sia tutto giusto ma per qualche motivo ci ritroviamo variabili con valori inattesi. Il programma sbagliato descritto qua sopra, in Python avrebbe potuto essere così:"
   ]
  },
  {
   "cell_type": "code",
   "execution_count": 7,
   "metadata": {
    "colab": {
     "base_uri": "https://localhost:8080/",
     "height": 53
    },
    "colab_type": "code",
    "id": "tma2Ru2Gc28E",
    "outputId": "7cc74a1e-81a6-4d71-8865-67210243f3e2"
   },
   "outputs": [
    {
     "name": "stdout",
     "output_type": "stream",
     "text": [
      "livello_acqua:  40\n",
      "ATTENZIONE: livello acqua basso!  5\n",
      "fai partire reattore nucleare\n"
     ]
    }
   ],
   "source": [
    "# ci serve acqua per raffreddare il nostro reattore nucleare\n",
    "livello_acqua = 40 #  sembra sufficiente\n",
    "\n",
    "print(\"livello_acqua: \", livello_acqua)\n",
    "\n",
    "# tanto codice\n",
    "\n",
    "# tanto codice\n",
    "\n",
    "# tanto codice\n",
    "\n",
    "# tanto codice\n",
    "\n",
    "livello_acqua = 5  # abbiamo dimenticato questa riga nefasta !\n",
    "print(\"ATTENZIONE: livello acqua basso! \", livello_acqua)\n",
    "\n",
    "# tanto codice\n",
    "\n",
    "# tanto codice\n",
    "\n",
    "# tanto codice\n",
    "\n",
    "# tanto codice\n",
    "\n",
    "# dopo tanto codice potremmo non sapere se ci sono le condizioni necessarie \n",
    "# affinchè tutto funzioni correttamente\n",
    "\n",
    "print(\"fai partire reattore nucleare\")\n",
    "\n"
   ]
  },
  {
   "cell_type": "markdown",
   "metadata": {
    "colab_type": "text",
    "id": "jIZeJGG9dNgR"
   },
   "source": [
    "Come potremmo migliorarlo? Guardiamo come funziona il comando `assert`, che va scritto facendolo seguire da una condizione booleana. \n",
    "\n",
    "`assert True` non fa assolutamente niente:"
   ]
  },
  {
   "cell_type": "code",
   "execution_count": 8,
   "metadata": {
    "colab": {
     "base_uri": "https://localhost:8080/",
     "height": 53
    },
    "colab_type": "code",
    "id": "k7DN2SI4daLM",
    "outputId": "15dbb4e4-e9ec-4c5c-9c35-71cdd6f9ef36"
   },
   "outputs": [
    {
     "name": "stdout",
     "output_type": "stream",
     "text": [
      "prima\n",
      "dopo\n"
     ]
    }
   ],
   "source": [
    "print(\"prima\")\n",
    "assert True\n",
    "print(\"dopo\")"
   ]
  },
  {
   "cell_type": "markdown",
   "metadata": {
    "colab_type": "text",
    "id": "J8cZ3gbJdr60"
   },
   "source": [
    "Invece, `assert False` blocca l'esecuzione del programma, lanciando un'eccezione di tipo `AssertionError` (nota come `\"dopo\"` non venga stampato):\n",
    "\n",
    "\n",
    "```python\n",
    "print(\"prima\")\n",
    "assert False\n",
    "print(\"dopo\")\n",
    "```\n",
    "\n",
    "```bash\n",
    "prima\n",
    "---------------------------------------------------------------------------\n",
    "AssertionError                            Traceback (most recent call last)\n",
    "<ipython-input-7-a871fdc9ebee> in <module>()\n",
    "----> 1 assert False\n",
    "\n",
    "AssertionError: \n",
    "\n",
    "\n",
    "```"
   ]
  },
  {
   "cell_type": "markdown",
   "metadata": {
    "colab_type": "text",
    "id": "I1O2Qr4Nd6Kn"
   },
   "source": [
    "Per migliorare il programma precedente, potremmo usare `assert` così:"
   ]
  },
  {
   "cell_type": "markdown",
   "metadata": {
    "colab": {},
    "colab_type": "code",
    "id": "h8lLo60dctPT"
   },
   "source": [
    "```python\n",
    "\n",
    "# ci serve acqua per raffreddare il nostro reattore nucleare\n",
    "livello_acqua = 40 #  livello sufficiente\n",
    "\n",
    "print(\"livello_acqua: \", livello_acqua)\n",
    "\n",
    "# tanto codice\n",
    "\n",
    "# tanto codice\n",
    "\n",
    "# tanto codice\n",
    "\n",
    "# tanto codice\n",
    "\n",
    "livello_acqua = 5  # abbiamo dimenticato questa riga nefasta !\n",
    "print(\"ATTENZIONE: livello acqua basso! \", livello_acqua)\n",
    "\n",
    "# tanto codice\n",
    "\n",
    "# tanto codice\n",
    "\n",
    "# tanto codice\n",
    "\n",
    "# tanto codice\n",
    "\n",
    "\n",
    "# dopo tanto codice potremmo non sapere se ci sono le condizioni necessarie \n",
    "# affinchè tutto funzioni correttamente\n",
    "# quindi prima di fare cose pericolose, è sempre meglio fare un controllo !\n",
    "# se l'assert fallisce (cioè se l'espressione booleana è False) \n",
    "# l'esecuzione si blocca subito \n",
    "assert livello_acqua >= 20\n",
    "\n",
    "print(\"fai partire reattore nucleare\")\n",
    "```"
   ]
  },
  {
   "cell_type": "markdown",
   "metadata": {},
   "source": [
    "```python\n",
    "livello_acqua:  40\n",
    "ATTENZIONE: livello acqua basso!  5\n",
    "\n",
    "---------------------------------------------------------------------------\n",
    "AssertionError                            Traceback (most recent call last)\n",
    "<ipython-input-14-9019745468f3> in <module>\n",
    "     29 # se l'assert fallisce (cioè se l'espressione booleana è False)\n",
    "     30 # l'esecuzione si blocca subito\n",
    "---> 31 assert livello_acqua >= 20\n",
    "     32 \n",
    "     33 print(\"fai partire reattore nucleare\")\n",
    "\n",
    "AssertionError: \n",
    "\n",
    "```"
   ]
  },
  {
   "cell_type": "markdown",
   "metadata": {
    "colab_type": "text",
    "id": "itT2wsNpcsUi"
   },
   "source": [
    "### Quando usare gli assert?\n",
    "\n",
    "Il caso qua sopra è volutamente esagerato, ma mostra come un controllo in più a volte impedisca disastri. \n",
    "\n",
    "**NOTA**: Gli assert sono un modo molto spiccio di fare controlli, tanto che Python  permette anche  anche di ignorarli durante l'esecuzione per migliorare le performance, chiamando python con il parametro `-O` come in:\n",
    "\n",
    "```bash\n",
    "python -O mio_file.py\n",
    "```\n",
    "\n",
    "Ma se le performance non sono un problema (nel caso del reattore qui sopra),  conviene riscrivere il programma usando un `if` e lanciando esplicitamente una `Exception`: "
   ]
  },
  {
   "cell_type": "markdown",
   "metadata": {
    "colab": {},
    "colab_type": "code",
    "id": "m0p7LXfbfvZF"
   },
   "source": [
    "```python\n",
    "# ci serve acqua per raffreddare il nostro reattore nucleare\n",
    "livello_acqua = 40 #  seems ok\n",
    "\n",
    "print(\"livello_acqua: \", livello_acqua)\n",
    "\n",
    "# tanto codice\n",
    "\n",
    "# tanto codice\n",
    "\n",
    "# tanto codice\n",
    "\n",
    "# tanto codice\n",
    "\n",
    "livello_acqua = 5  # abbiamo dimenticato questa riga nefasta !\n",
    "print(\"ATTENZIONE: livello acqua basso! \", livello_acqua)\n",
    "\n",
    "# tanto codice\n",
    "\n",
    "# tanto codice\n",
    "\n",
    "# tanto codice\n",
    "\n",
    "# tanto codice\n",
    "\n",
    "\n",
    "# dopo tanto codice potremmo non sapere se ci sono le condizioni necessarie \n",
    "# affinchè tutto funzioni correttamente\n",
    "# quindi prima di fare cose pericolose, è sempre meglio fare un controllo !\n",
    "if livello_acqua < 20:\n",
    "    raise Exception(\"Livello acqua troppo basso !\")  # l'esecuzione si blocca subito\n",
    "\n",
    "print(\"fai partire reattore nucleare\")\n",
    "\n",
    "```"
   ]
  },
  {
   "cell_type": "markdown",
   "metadata": {},
   "source": [
    "\n",
    "```bash\n",
    "livello_acqua:  40\n",
    "ATTENZIONE: livello acqua basso!  5\n",
    "\n",
    "---------------------------------------------------------------------------\n",
    "Exception                                 Traceback (most recent call last)\n",
    "<ipython-input-16-02382ff90f5a> in <module>\n",
    "     28 # quindi prima di fare cose pericolose, è sempre meglio fare un controllo !\n",
    "     29 if livello_acqua < 20:\n",
    "---> 30     raise Exception(\"Livello acqua troppo basso !\")  # l'esecuzione si blocca subito\n",
    "     31 \n",
    "     32 print(\"fai partire reattore nucleare\")\n",
    "\n",
    "Exception: Livello acqua troppo basso !\n",
    "\n",
    "\n",
    "```"
   ]
  },
  {
   "cell_type": "markdown",
   "metadata": {},
   "source": [
    "Nota come il reattore _non_ sia stato attivato"
   ]
  },
  {
   "cell_type": "markdown",
   "metadata": {},
   "source": [
    "## Testing\n",
    "\n",
    "Se sembra funzionare, allora funziona? _Probabilmente no_.\n",
    "\n",
    "Il diavolo sta nei dettagli, specialmente per algoritmi complessi: aremo un corso accelerato sul testing con Python\n",
    "\n",
    "<div class=\"alert alert-warning\">\n",
    "\n",
    "**ATTENZIONE**: Software scritti male possono portare alla perdita di milioni di €/$ o persino ferire persone. Lettura raccomandata: [Software Horror Stories](https://www.cs.tau.ac.il/~nachumd/horror.html)\n",
    "</div>"
   ]
  },
  {
   "cell_type": "markdown",
   "metadata": {},
   "source": [
    "### Dov'è il tuo software?\n",
    "\n",
    "Se vuoi essere un data scientist, potresti finire con codice che è moderatamente complesso dal punto di vista algoritmico, ma forse non troppo grande in dimensioni.\n",
    "\n",
    "In ogni caso, quando la linea rosso è superata dovresti cominciare a testare appropriatamente:\n",
    "\n",
    "![dove è il tuo software](img/where-is-your-software.png)"
   ]
  },
  {
   "cell_type": "markdown",
   "metadata": {
    "colab_type": "text",
    "id": "KzyNzgRdgUgM"
   },
   "source": [
    "### Usare gli assert per testare\n",
    "\n",
    "<div class=\"alert alert-warning\">\n",
    "    \n",
    "**NOTA: in questo libro usiamo semplici** `assert`, **ma ci sono soluzioni molto migliori per testare!** Se hai intenzioni serie riguardo lo sviluppo software, consigliamo caldamente di considerare l'uso di framework appositi come [PyTest](https://docs.pytest.org/en/stable/) (recente e pulito) oppure [Unittest](https://docs.python.org/3/library/unittest.html) (la libreria di testing di default di Python, ha un approccio più tradizionale)\n",
    "</div>\n",
    "\n",
    "Nella parte sui [Fondamenti Python - A.3 Algoritmi](https://it.softpython.org/index.html#A.3---Fondamenti), usiamo spesso gli `assert` per fare dei test, cioè per verificare che una funzione si comporti come ci si attende. \n",
    "\n",
    "Per esempio, per questa funzione:"
   ]
  },
  {
   "cell_type": "code",
   "execution_count": 9,
   "metadata": {
    "colab": {},
    "colab_type": "code",
    "id": "RAcNr9zDgd1y"
   },
   "outputs": [],
   "source": [
    "def somma(x, y):\n",
    "    s = x + y\n",
    "    return s"
   ]
  },
  {
   "cell_type": "markdown",
   "metadata": {
    "colab_type": "text",
    "id": "ISlL7iHLgjwb"
   },
   "source": [
    "Ci si attende che `somma(2,3)` dia `5`. Possiamo scrivere in Python questa attesa usando un `assert`:"
   ]
  },
  {
   "cell_type": "code",
   "execution_count": 10,
   "metadata": {
    "colab": {},
    "colab_type": "code",
    "id": "6t1v78uFgr6T"
   },
   "outputs": [],
   "source": [
    "assert somma(2,3) == 5"
   ]
  },
  {
   "cell_type": "markdown",
   "metadata": {
    "colab_type": "text",
    "id": "9Es6xXfIg4Ex"
   },
   "source": [
    "Se `somma` è implementata correttamente:\n",
    "\n",
    "1. `somma(2,3)` ci darà `5`\n",
    "2. l'espression booleana `somma(2,3) == 5` darà `True`\n",
    "3. `assert True` verrà eseguita senza produrre alcun risultato, lasciando proseguire l'esecuzione del programma\n",
    "\n",
    "Viceversa, se `somma` NON è implementata correttamente come in questo caso:\n",
    "\n",
    "```python\n",
    "def somma(x,y):\n",
    "    return 666\n",
    "```\n",
    "\n",
    "1. `somma(2,3)` produrrà il numero `666`\n",
    "2.  l'espression booleana `somma(2,3) == 5` darà quindi `False`\n",
    "3. `assert False` interromperà l'esecuzione del programma, lanciando un eccezione di tipo `AssertionError`\n"
   ]
  },
  {
   "cell_type": "markdown",
   "metadata": {
    "colab_type": "text",
    "id": "_Upwpmikh0wW"
   },
   "source": [
    "### Struttura esercizi\n",
    "\n",
    "Ricapitolando, gli esercizi della parte [Fondamenti Python - A.3 Algoritmi](https://it.softpython.org/index.html#A.3---Fondamenti) sono spesso strutturati nel seguente formato: \n",
    "\n",
    "```python\n",
    "def somma(x,y):\n",
    "    \"\"\" RITORNA la somma dei numeri x e y\n",
    "    \"\"\"\n",
    "    raise Exception(\"IMPLEMENTAMI\")\n",
    "\n",
    "\n",
    "assert somma(2,3) == 5\n",
    "assert somma(3,1) == 4\n",
    "assert somma(-2,5) == 3\n",
    "```"
   ]
  },
  {
   "cell_type": "markdown",
   "metadata": {},
   "source": [
    "Se tenti di eseguire la cella, vedrai questo errore:\n",
    "\n",
    "```bash\n",
    "---------------------------------------------------------------------------\n",
    "Exception                                 Traceback (most recent call last)\n",
    "<ipython-input-16-5f5c8512d42a> in <module>()\n",
    "      6 \n",
    "      7 \n",
    "----> 8 assert somma(2,3) == 5\n",
    "      9 assert somma(3,1) == 4\n",
    "     10 assert somma(-2,5) == 3\n",
    "\n",
    "<ipython-input-16-5f5c8512d42a> in somma(x, y)\n",
    "      3     \"\"\" RITORNA la somma dei numeri x e y\n",
    "      4     \"\"\"\n",
    "----> 5     raise Exception(\"IMPLEMENTAMI\")\n",
    "      6 \n",
    "      7 \n",
    "\n",
    "Exception: IMPLEMENTAMI\n",
    "```"
   ]
  },
  {
   "cell_type": "markdown",
   "metadata": {
    "colab_type": "text",
    "id": "BhZJI2d1iWbA"
   },
   "source": [
    "Per risolverli, dovrai: \n",
    "\n",
    "1. sostituire la riga `raise Exception(\"IMPLEMENTAMI\")` con il corpo della funzione\n",
    "2. eseguire la cella\n",
    "\n",
    "Se l'esecuzione della cella non risulta in eccezioni lanciate, bene ! Vuol dire che la funzione fa quello che ci si attende (gli assert quando vanno a buon fine non producono output)\n",
    "\n",
    "Se invece vedi qualche `AssertionError`, probabilmente hai sbagliato qualcosa.\n",
    "\n",
    "**NOTA**: Il `raise Exception(\"IMPLEMENTAMI\")` è messo per ricordarti che la funzione ha un problema grosso,  e cioè che non ha il codice !!  \n",
    "\n",
    "In programma lunghi, può capitare di sapere che c'è bisogno di una funzione, ma di non sapere al momento quale codice mettere nel corpo. Invece di scrivere nel corpo dei comandi che non fanno niente tipo `print()` o `return None`, è MOLTO meglio lanciare delle eccezioni così che se per caso si esegue il programma per sbaglio, appena Python raggiunge la funzione non implementata, l'esecuzione viene subito fermata segnalando all'utente la natura e posizione del problema. Infatti, diversi editor per programmatori quando generano automaticamente codice mettono negli scheletri di funzione da implementare delle Exception di questo tipo.\n",
    "\n",
    "\n",
    "Proviamo a scrivere volutamente un corpo di funzione sbagliato, che ritorna sempre `5` indipendentemente dall'`x` e `y` di ingresso:"
   ]
  },
  {
   "cell_type": "markdown",
   "metadata": {
    "colab": {},
    "colab_type": "code",
    "id": "rzbfpwgWhyLW"
   },
   "source": [
    "\n",
    "```python\n",
    "def somma(x,y):\n",
    "    \"\"\" RITORNA la somma dei numeri x e y\n",
    "    \"\"\"\n",
    "    return 5\n",
    "\n",
    "assert somma(2,3) == 5\n",
    "assert somma(3,1) == 4\n",
    "assert somma(-2,5) == 3\n",
    "```\n",
    "\n",
    "In questo caso la prima asserzione ha successo e quindi semplicemente passa l'esecuzione passa alla riga successiva che contiene un'altro `assert`. Ci si attende che `somma(3, 1)` dia `4`, ma la nostra funzione implementata male ritorna `5` e quindi questo assert fallisce. Notare come l'esecuzione si interrompa al _secondo_ `assert`:\n",
    "\n",
    "```bash\n",
    "---------------------------------------------------------------------------\n",
    "AssertionError                            Traceback (most recent call last)\n",
    "<ipython-input-19-e5091c194d3c> in <module>()\n",
    "      6 \n",
    "      7 assert somma(2,3) == 5\n",
    "----> 8 assert somma(3,1) == 4\n",
    "      9 assert somma(-2,5) == 3\n",
    "\n",
    "AssertionError: \n",
    "\n",
    "```\n",
    "\n",
    "Implementando la funzione bene ed eseguendo la cella non vedremo nessun output: significa che la funzione ha passato i test e possiamo concludere che è  _corretta rispetto ai test_.\n",
    "\n",
    "<div class=\"alert alert-warning\">\n",
    "\n",
    "**ATTENZIONE**:  ricordati sempre che questo tipo di test *non* sono quasi mai esaustivi! Il fatto che i test passino è solo un'indicazione che la funzione _potrebbe_ essere corretta, ma non una certezza !\n",
    "</div>"
   ]
  },
  {
   "cell_type": "code",
   "execution_count": 11,
   "metadata": {},
   "outputs": [],
   "source": [
    "def somma(x,y):\n",
    "    \"\"\" RITORNA la somma dei numeri x e y\n",
    "    \"\"\"\n",
    "    return x + y\n",
    "\n",
    "# Adesso la funzione è corretta, eseguendo questa cella non dovresti vedere alcun output\n",
    "\n",
    "assert somma(2,3) == 5\n",
    "assert somma(3,1) == 4\n",
    "assert somma(-2,5) == 3"
   ]
  },
  {
   "cell_type": "markdown",
   "metadata": {},
   "source": [
    "**ESERCIZIO**: Prova a scrivere il corpo della funzione `moltiplica`:\n",
    "\n",
    "* sostituisci `raise Exception(\"IMPLEMENTAMI\")` con `return x * y` ed eseguire la cella. Se hai scritto giusto, non dovrebbe succedere niente. In tal caso complimenti, il codice che hai scritto è corretto _rispetto ai test_!\n",
    "* Prova poi a sostituire invece con `return 10` e guarda che succede.\n"
   ]
  },
  {
   "cell_type": "raw",
   "id": "0b54b469",
   "metadata": {
    "format": "text/html"
   },
   "source": [
    "<a  class=\"jupman-sol jupman-sol-toggler\" \n",
    " onclick=\"jupman.toggleSolution(this);\" \n",
    " data-jupman-show=\"Mostra soluzione\" data-jupman-hide=\"Nascondi\">Mostra soluzione</a><div class=\"jupman-sol jupman-sol-code\" style=\"display:none\">  "
   ]
  },
  {
   "cell_type": "code",
   "execution_count": 12,
   "metadata": {
    "colab": {},
    "colab_type": "code",
    "id": "ArXcLaGCguPi"
   },
   "outputs": [],
   "source": [
    "def moltiplica(x,y):\n",
    "    \"\"\" RITORNA la somma dei numeri x e y\n",
    "    \"\"\"\n",
    "    \n",
    "    return x * y\n",
    "    \n",
    "\n",
    "assert moltiplica(2,5) == 10\n",
    "assert moltiplica(0,2) == 0\n",
    "assert moltiplica(3,2) == 6"
   ]
  },
  {
   "cell_type": "raw",
   "id": "d09243c0",
   "metadata": {
    "format": "text/html"
   },
   "source": [
    "</div>"
   ]
  },
  {
   "cell_type": "code",
   "execution_count": 12,
   "metadata": {
    "colab": {},
    "colab_type": "code",
    "id": "ArXcLaGCguPi"
   },
   "outputs": [],
   "source": [
    "def moltiplica(x,y):\n",
    "    \"\"\" RITORNA la somma dei numeri x e y\n",
    "    \"\"\"\n",
    "    raise Exception('TODO IMPLEMENT ME !')\n",
    "\n",
    "assert moltiplica(2,5) == 10\n",
    "assert moltiplica(0,2) == 0\n",
    "assert moltiplica(3,2) == 6"
   ]
  },
  {
   "cell_type": "markdown",
   "metadata": {},
   "source": [
    "### Esercizio - mag_tre\n",
    "\n",
    "✪✪ Scrivi una funzione `mag_tre(a,b,c)` che prende stavolta tre numeri come parametro e RESTITUISCE il più grande tra loro\n",
    "\n",
    "Esempi: \n",
    "\n",
    "```python\n",
    ">>> mag_tre(1,2,4)\n",
    "4\n",
    "\n",
    ">>> mag_tre(5,7,3)\n",
    "7\n",
    "\n",
    ">>> mag_tre(4,4,4)\n",
    "4\n",
    "```"
   ]
  },
  {
   "cell_type": "raw",
   "id": "186001a4",
   "metadata": {
    "format": "text/html"
   },
   "source": [
    "<a  class=\"jupman-sol jupman-sol-toggler\" \n",
    " onclick=\"jupman.toggleSolution(this);\" \n",
    " data-jupman-show=\"Mostra soluzione\" data-jupman-hide=\"Nascondi\">Mostra soluzione</a><div class=\"jupman-sol jupman-sol-code\" style=\"display:none\">  "
   ]
  },
  {
   "cell_type": "code",
   "execution_count": 13,
   "metadata": {},
   "outputs": [],
   "source": [
    "\n",
    "\n",
    "def mag_tre(a,b,c):\n",
    "    \n",
    "    if a > b:\n",
    "        if a>c:\n",
    "            return a\n",
    "        else:\n",
    "            return c\n",
    "    else:\n",
    "        if b > c:\n",
    "            return b\n",
    "        else:\n",
    "            return c\n",
    "    \n",
    "\n",
    "assert mag_tre(1,2,4) == 4\n",
    "assert mag_tre(5,7,3) == 7\n",
    "assert mag_tre(4,4,4) == 4"
   ]
  },
  {
   "cell_type": "raw",
   "id": "f4eb7e16",
   "metadata": {
    "format": "text/html"
   },
   "source": [
    "</div>"
   ]
  },
  {
   "cell_type": "code",
   "execution_count": 13,
   "metadata": {},
   "outputs": [],
   "source": [
    "\n",
    "    \n",
    "\n",
    "assert mag_tre(1,2,4) == 4\n",
    "assert mag_tre(5,7,3) == 7\n",
    "assert mag_tre(4,4,4) == 4"
   ]
  },
  {
   "cell_type": "markdown",
   "metadata": {},
   "source": [
    "\n",
    "### Esercizio - prezzo_finale\n",
    "\n",
    "✪✪ Il prezzo di copertina di un libro è € 24,95, ma una libreria ottiene il 40% di sconto. I costi di spedizione sono € 3 per la prima copia e 75 centesimi per ogni copia aggiuntiva. Quanto costano `n` copie? \n",
    "Scrivi una funzione `prezzo_finale(n)` che RITORNA il prezzo.\n",
    "\n",
    "**ATTENZIONE 1**: Python per i numeri vuole il punto, NON la virgola !\n",
    "\n",
    "**ATTENZIONE 2**: Se ordinassi zero libri, quanto dovrei pagare ?\n",
    "\n",
    "**SUGGERIMENTO**: il 40% di 24,95 si può calcolare moltiplicando il prezzo per 0.40\n",
    "\n",
    "```python\n",
    ">>> p = prezzo_finale(10)\n",
    ">>> print(p)\n",
    "\n",
    "159.45\n",
    "\n",
    ">>> p = prezzo_finale(0)\n",
    ">>> print(p)\n",
    "\n",
    "0\n",
    "\n",
    "```"
   ]
  },
  {
   "cell_type": "raw",
   "id": "28cf4bc5",
   "metadata": {
    "format": "text/html"
   },
   "source": [
    "<a  class=\"jupman-sol jupman-sol-toggler\" \n",
    " onclick=\"jupman.toggleSolution(this);\" \n",
    " data-jupman-show=\"Mostra soluzione\" data-jupman-hide=\"Nascondi\">Mostra soluzione</a><div class=\"jupman-sol jupman-sol-code\" style=\"display:none\">  "
   ]
  },
  {
   "cell_type": "code",
   "execution_count": 14,
   "metadata": {},
   "outputs": [],
   "source": [
    "def prezzo_finale(n):\n",
    "    \n",
    "    if n == 0:\n",
    "        return 0\n",
    "    else:\n",
    "        return n* 24.95*0.6 + 3 +(n-1)*0.75\n",
    "    \n",
    "\n",
    "assert prezzo_finale(10) == 159.45\n",
    "assert prezzo_finale(0) == 0"
   ]
  },
  {
   "cell_type": "raw",
   "id": "844e2237",
   "metadata": {
    "format": "text/html"
   },
   "source": [
    "</div>"
   ]
  },
  {
   "cell_type": "code",
   "execution_count": 14,
   "metadata": {},
   "outputs": [],
   "source": [
    "def prezzo_finale(n):\n",
    "    raise Exception('TODO IMPLEMENT ME !')\n",
    "\n",
    "assert prezzo_finale(10) == 159.45\n",
    "assert prezzo_finale(0) == 0"
   ]
  },
  {
   "cell_type": "markdown",
   "metadata": {},
   "source": [
    "### Esercizio - ora_arrivo\n",
    "\n",
    "✪✪✪ Correndo a ritmo blando ci mettete  8 minuti e 15 secondi al miglio, e correndo a ritmo moderato  ci impiegate  7 minuti e 12 secondi al miglio. \n",
    "\n",
    "Scrivi una funzione `ora_arrivo(n,m)` che supponendo una partenza alle ore 6 e 52 minuti,  date `n` miglia percorse con ritmo blando e `m` con  ritmo moderato, STAMPA l'ora di arrivo.\n",
    "\n",
    "* **SUGGERIMENTO 1**: per calcare una divisione intera, usate `//`\n",
    "* **SUGGERIMENTO 2**: per calcolare il resto di una divisione intera, usate l'operatore modulo `%`\n",
    "\n",
    "```python\n",
    ">>> ora_arrivo(2,2)\n",
    "7:22\n",
    "```\n"
   ]
  },
  {
   "cell_type": "raw",
   "id": "a1af4f7a",
   "metadata": {
    "format": "text/html"
   },
   "source": [
    "<a  class=\"jupman-sol jupman-sol-toggler\" \n",
    " onclick=\"jupman.toggleSolution(this);\" \n",
    " data-jupman-show=\"Mostra soluzione\" data-jupman-hide=\"Nascondi\">Mostra soluzione</a><div class=\"jupman-sol jupman-sol-code\" style=\"display:none\">  "
   ]
  },
  {
   "cell_type": "code",
   "execution_count": 15,
   "metadata": {},
   "outputs": [],
   "source": [
    "def ora_arrivo(n,m):\n",
    "    \n",
    "    ore_partenza = 6\n",
    "    minuti_partenza = 52\n",
    "\n",
    "    # tempo trascorso    \n",
    "    secondi = ore_partenza*60*60 + minuti_partenza*60 + n * (8*60+15) + m * (7*60+12)        \n",
    "    minuti = secondi // 60\n",
    "    ore = minuti // 60\n",
    "            \n",
    "    ora_mostra = ore % 24\n",
    "    minuti_mostra = minuti % 60\n",
    "    \n",
    "    return \"%s:%s\" % (ora_mostra, minuti_mostra)\n",
    "\n",
    "    \n",
    "\n",
    "\n",
    "assert ora_arrivo(0,0) == '6:52'\n",
    "assert ora_arrivo(2,2) == '7:22'\n",
    "assert ora_arrivo(2,5) == '7:44'\n",
    "assert ora_arrivo(8,5) == '8:34'\n",
    "assert ora_arrivo(40,5) == '12:58'\n",
    "assert ora_arrivo(100,25) == '23:37'\n",
    "assert ora_arrivo(100,40) == '1:25'   \n",
    "assert ora_arrivo(700,305) == '19:43' # Forrest Gump"
   ]
  },
  {
   "cell_type": "raw",
   "id": "f1704264",
   "metadata": {
    "format": "text/html"
   },
   "source": [
    "</div>"
   ]
  },
  {
   "cell_type": "code",
   "execution_count": 15,
   "metadata": {},
   "outputs": [],
   "source": [
    "def ora_arrivo(n,m):\n",
    "    raise Exception('TODO IMPLEMENT ME !')\n",
    "\n",
    "\n",
    "assert ora_arrivo(0,0) == '6:52'\n",
    "assert ora_arrivo(2,2) == '7:22'\n",
    "assert ora_arrivo(2,5) == '7:44'\n",
    "assert ora_arrivo(8,5) == '8:34'\n",
    "assert ora_arrivo(40,5) == '12:58'\n",
    "assert ora_arrivo(100,25) == '23:37'\n",
    "assert ora_arrivo(100,40) == '1:25'   \n",
    "assert ora_arrivo(700,305) == '19:43' # Forrest Gump"
   ]
  },
  {
   "cell_type": "markdown",
   "metadata": {},
   "source": [
    "## Prosegui\n",
    "\n",
    "Continua con esercizi su [funzioni e stringhe](https://it.softpython.org/functions/fun3-strings-sol.html)"
   ]
  }
 ],
 "metadata": {
  "celltoolbar": "Edit Metadata",
  "colab": {
   "collapsed_sections": [],
   "name": "SPS-4.ipynb",
   "provenance": [],
   "version": "0.3.2"
  },
  "kernelspec": {
   "display_name": "Python 3 (ipykernel)",
   "language": "python",
   "name": "python3"
  },
  "language_info": {
   "codemirror_mode": {
    "name": "ipython",
    "version": 3
   },
   "file_extension": ".py",
   "mimetype": "text/x-python",
   "name": "python",
   "nbconvert_exporter": "python",
   "pygments_lexer": "ipython3",
   "version": "3.7.10"
  },
  "toc": {
   "base_numbering": 1,
   "nav_menu": {},
   "number_sections": false,
   "sideBar": true,
   "skip_h1_title": false,
   "title_cell": "Table of Contents",
   "title_sidebar": "Contents",
   "toc_cell": false,
   "toc_position": {},
   "toc_section_display": true,
   "toc_window_display": true
  }
 },
 "nbformat": 4,
 "nbformat_minor": 1
}

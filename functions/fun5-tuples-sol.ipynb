{
 "cells": [
  {
   "cell_type": "markdown",
   "id": "43c7cbcb",
   "metadata": {},
   "source": [
    "# Funzioni 5 - esercizi con tuple\n",
    "\n",
    "## [Scarica zip esercizi](../_static/generated/functions.zip)\n",
    "\n",
    "[Naviga file online](https://github.com/DavidLeoni/softpython-it/tree/master/functions)"
   ]
  },
  {
   "cell_type": "markdown",
   "id": "df220a77",
   "metadata": {},
   "source": [
    "## Esercizio - giunto\n",
    "\n",
    "✪✪ Scrivi una funzione che date due tuple di caratteri `ta` e `tb` aventi ciascuna caratteri diversi (possono essere anche vuote), se la tupla `ta` termina con lo stesso carattere con cui `tb` inizia, RITORNA la concatenazione di `ta` e `tb` SENZA caratteri duplicati, altrimenti RITORNA una tupla vuota.\n",
    "\n",
    "Esempio:\n",
    "\n",
    "```python\n",
    ">>> giunto(('m','e','s'), ('s','a','g','e','r','o'))\n",
    "('m','e','s','a','g','g','e','r','o')\n",
    ">>> giunto(('c','u'), ('o','r','e'))\n",
    "()\n",
    "```\n"
   ]
  },
  {
   "cell_type": "raw",
   "id": "86440ebc",
   "metadata": {
    "format": "text/html"
   },
   "source": [
    "<a  class=\"jupman-sol jupman-sol-toggler\" \n",
    " onclick=\"jupman.toggleSolution(this);\" \n",
    " data-jupman-show=\"Mostra soluzione\" data-jupman-hide=\"Nascondi\">Mostra soluzione</a><div class=\"jupman-sol jupman-sol-code\" style=\"display:none\">  "
   ]
  },
  {
   "cell_type": "code",
   "execution_count": 1,
   "id": "323d71d2",
   "metadata": {},
   "outputs": [],
   "source": [
    "def giunto(ta,tb):\n",
    "    \n",
    "    if len(ta) > 0 and len(tb) > 0:\n",
    "        if ta[-1] == tb[0]:\n",
    "            return ta[:-1] + tb\n",
    "\n",
    "    return ()\n",
    "    \n",
    "\n",
    "assert giunto(('m','e','s'), ('s','a','g','g','e','r','o')) == ('m','e','s','a','g','g','e','r','o')\n",
    "assert giunto(('o','r'), ('r','o','r','e')) == ('o', 'r', 'o', 'r','e')\n",
    "assert giunto(('c','u'), ('o','r','e')) == ()\n",
    "assert giunto((),('e','f','g')) == ()\n",
    "assert giunto(('a',),('e','f','g')) == ()\n",
    "assert giunto(('a','b','c'),()) == ()\n",
    "assert giunto(('a','b','c'),('d','e')) == ()"
   ]
  },
  {
   "cell_type": "raw",
   "id": "5c303768",
   "metadata": {
    "format": "text/html"
   },
   "source": [
    "</div>"
   ]
  },
  {
   "cell_type": "code",
   "execution_count": 1,
   "id": "323d71d2-stripped",
   "metadata": {},
   "outputs": [],
   "source": [
    "def giunto(ta,tb):\n",
    "    raise Exception('TODO IMPLEMENT ME !')\n",
    "\n",
    "assert giunto(('m','e','s'), ('s','a','g','g','e','r','o')) == ('m','e','s','a','g','g','e','r','o')\n",
    "assert giunto(('o','r'), ('r','o','r','e')) == ('o', 'r', 'o', 'r','e')\n",
    "assert giunto(('c','u'), ('o','r','e')) == ()\n",
    "assert giunto((),('e','f','g')) == ()\n",
    "assert giunto(('a',),('e','f','g')) == ()\n",
    "assert giunto(('a','b','c'),()) == ()\n",
    "assert giunto(('a','b','c'),('d','e')) == ()"
   ]
  },
  {
   "cell_type": "markdown",
   "id": "4ebc799a",
   "metadata": {},
   "source": [
    "## Esecizio - nasty\n",
    "\n",
    "✪✪✪ Date due tuple `ta` di caratteri e `tb` di numeri interi positivi, scrivi una funzione `nasty` che RITORNA una tupla avente stringhe da due caratteri: il primo carattere è preso da `ta`, e il secondo carattere è un numero preso dalla posizione corrispondente in `tb`.\n",
    "Le stringhe vengono ripetute per un numero di volte pari a quel numero.\n",
    "\n",
    "```python\n",
    ">>> nasty(('u','r','g'), (4,2,3))\n",
    "('u4', 'u4', 'u4', 'u4', 'r2', 'r2', 'g3', 'g3', 'g3')\n",
    "\n",
    ">>> nasty(('g','a','s','p'), (2,4,1,3))\n",
    "('g2', 'g2', 'a4', 'a4', 'a4', 'a4', 's1', 'p3', 'p3', 'p3')\n",
    "```"
   ]
  },
  {
   "cell_type": "raw",
   "id": "6c8b6d9a",
   "metadata": {
    "format": "text/html"
   },
   "source": [
    "<a  class=\"jupman-sol jupman-sol-toggler\" \n",
    " onclick=\"jupman.toggleSolution(this);\" \n",
    " data-jupman-show=\"Mostra soluzione\" data-jupman-hide=\"Nascondi\">Mostra soluzione</a><div class=\"jupman-sol jupman-sol-code\" style=\"display:none\">  "
   ]
  },
  {
   "cell_type": "code",
   "execution_count": 2,
   "id": "cb133415",
   "metadata": {},
   "outputs": [],
   "source": [
    "def nasty(ta, tb):\n",
    "    \n",
    "    i = 0\n",
    "    ret = []    \n",
    "    for i in range(len(tb)):\n",
    "        s = ta[i]+str(tb[i])    \n",
    "        ret.extend( (s,) * tb[i] )\n",
    "        i += 1\n",
    "    return tuple(ret)\n",
    "    \n",
    "        \n",
    "# INIZIO TEST - NON TOCCARE !        \n",
    "assert nasty(('a',), (3,)) == ('a3','a3','a3')\n",
    "assert nasty(('a','b'), (3,1)) == ('a3','a3','a3','b1')\n",
    "assert nasty(('u','r','g'), (4,2,3)) == ('u4', 'u4', 'u4', 'u4', 'r2', 'r2', 'g3', 'g3', 'g3')\n",
    "assert nasty(('g','a','s','p'), (2,4,1,3)) == ('g2', 'g2', 'a4', 'a4', 'a4', 'a4', 's1', 'p3', 'p3', 'p3')\n",
    "# FINE TEST"
   ]
  },
  {
   "cell_type": "raw",
   "id": "0b44b515",
   "metadata": {
    "format": "text/html"
   },
   "source": [
    "</div>"
   ]
  },
  {
   "cell_type": "code",
   "execution_count": 2,
   "id": "cb133415-stripped",
   "metadata": {},
   "outputs": [],
   "source": [
    "def nasty(ta, tb):\n",
    "    raise Exception('TODO IMPLEMENT ME !')\n",
    "        \n",
    "# INIZIO TEST - NON TOCCARE !        \n",
    "assert nasty(('a',), (3,)) == ('a3','a3','a3')\n",
    "assert nasty(('a','b'), (3,1)) == ('a3','a3','a3','b1')\n",
    "assert nasty(('u','r','g'), (4,2,3)) == ('u4', 'u4', 'u4', 'u4', 'r2', 'r2', 'g3', 'g3', 'g3')\n",
    "assert nasty(('g','a','s','p'), (2,4,1,3)) == ('g2', 'g2', 'a4', 'a4', 'a4', 'a4', 's1', 'p3', 'p3', 'p3')\n",
    "# FINE TEST"
   ]
  },
  {
   "cell_type": "markdown",
   "id": "cf396a03",
   "metadata": {},
   "source": [
    "## Prosegui\n",
    "\n",
    "Continua con esercizi su [funzioni e insiemi](https://it.softpython.org/functions/fun6-sets-sol.html)"
   ]
  }
 ],
 "metadata": {
  "kernelspec": {
   "display_name": "Python 3 (ipykernel)",
   "language": "python",
   "name": "python3"
  },
  "language_info": {
   "codemirror_mode": {
    "name": "ipython",
    "version": 3
   },
   "file_extension": ".py",
   "mimetype": "text/x-python",
   "name": "python",
   "nbconvert_exporter": "python",
   "pygments_lexer": "ipython3",
   "version": "3.7.10"
  },
  "toc": {
   "base_numbering": 1,
   "nav_menu": {},
   "number_sections": false,
   "sideBar": true,
   "skip_h1_title": false,
   "title_cell": "Table of Contents",
   "title_sidebar": "Contents",
   "toc_cell": false,
   "toc_position": {},
   "toc_section_display": true,
   "toc_window_display": true
  }
 },
 "nbformat": 4,
 "nbformat_minor": 5
}

{
 "cells": [
  {
   "cell_type": "markdown",
   "metadata": {},
   "source": [
    "# Funzioni 1 - introduzione\n",
    "\n",
    "## [Scarica zip esercizi](../_static/generated/functions.zip)\n",
    "\n",
    "[Naviga file online](https://github.com/DavidLeoni/softpython-it/tree/master/functions)\n",
    "\n",
    "\n",
    "Una funzione prende dei parametri e li usa per produrre o riportare qualche risultato.\n",
    "\n",
    "<div class=\"alert alert-warning\">\n",
    "\n",
    "**ATTENZIONE**\n",
    "\n",
    "**Questi esercizi sulle funzioni sono integrativi a quelli già indicati nella** [pagina riferimenti](https://it.softpython.org/references.html), in particolare vedere quelli qui sotto.\n",
    "\n",
    "</div>\n",
    "\n",
    "**Riferimenti**\n",
    "\n",
    "- [Pensare in Python, Capitolo 3, Funzioni](https://davidleoni.github.io/ThinkPythonItalian/html/thinkpython2004.html)\n",
    "- [Pensare in Python, Capitolo 6, Funzioni produttive](https://davidleoni.github.io/ThinkPythonItalian/html/thinkpython2007.html) puoi fare tutto saltando la parte 6.5 sulla ricorsione.\n",
    "    **NOTA**: nel libro viene usato il termine strano 'funzioni produttive' per quelle funzioni che ritornano un valore, ed il termine ancora più strano 'funzioni vuote' per funzioni che non ritornano nulla ma fanno qualche effetto tipo stampa a video: ignora e dimentica questi termini !  \n",
    "\n",
    "- [Nicola Cassetta, Lezione 4, Funzioni](http://ncassetta.altervista.org/Tutorial_Python/Lezione_04.html)\n"
   ]
  },
  {
   "cell_type": "markdown",
   "metadata": {},
   "source": [
    "## Che fare\n",
    "\n",
    "- scompatta lo zip in una cartella, dovresti ottenere qualcosa del genere: \n",
    "\n",
    "```\n",
    "functions\n",
    "    functions1.ipynb\n",
    "    functions1-sol.ipynb   \n",
    "    functions2-chal.ipynb    \n",
    "    jupman.py\n",
    "```\n",
    "\n",
    "<div class=\"alert alert-warning\">\n",
    "\n",
    "**ATTENZIONE**: Per essere visualizzato correttamente, il file del notebook DEVE essere nella cartella szippata.\n",
    "</div>\n",
    "\n",
    "- apri il Jupyter Notebook da quella cartella. Due cose dovrebbero aprirsi, prima una console e poi un browser. Il browser dovrebbe mostrare una lista di file: naviga la lista e apri il notebook `functions.ipynb`\n",
    "- Prosegui leggendo il file degli esercizi, ogni tanto al suo interno troverai delle scritte **ESERCIZIO**, che ti chiederanno di scrivere dei comandi Python nelle celle successive. Gli esercizi sono graduati per difficoltà, da una stellina ✪ a quattro ✪✪✪✪\n",
    "\n",
    "\n",
    "Scorciatoie da tastiera:\n",
    "\n",
    "* Per eseguire il codice Python dentro una cella di Jupyter, premi `Control+Invio`\n",
    "* Per eseguire il codice Python dentro una cella di Jupyter E selezionare la cella seguente, premi `Shift+Invio`\n",
    "* Per eseguire il codice Python dentro una cella di Jupyter E creare una nuova cella subito dopo, premi `Alt+Invio`\n",
    "* Se per caso il Notebook sembra inchiodato, prova a selezionare `Kernel -> Restart`\n",
    "\n"
   ]
  },
  {
   "cell_type": "markdown",
   "metadata": {},
   "source": [
    "**DOMANDE**: Per ciascuna delle espressioni seguenti, prova a indovinare che risultato produce (o se da errore)\n",
    "\n",
    "\n",
    "1.  ```python\n",
    "    def f():\n",
    "    print('car')\n",
    "    f()\n",
    "    ```\n",
    "1.  ```python\n",
    "    def f():\n",
    "        print('car')\n",
    "    f()\n",
    "    ```\n",
    "1.  ```python\n",
    "    def f():\n",
    "    return 3\n",
    "    f()\n",
    "    ```\n",
    "1.  ```python\n",
    "    def f():\n",
    "        return 3\n",
    "    f()\n",
    "    ```\n",
    "1.  ```python\n",
    "    def f()\n",
    "        return 3\n",
    "    f()\n",
    "    ```\n",
    "1.  ```python\n",
    "    def f():\n",
    "        return 3\n",
    "    f()f()\n",
    "    ```\n",
    "1.  ```python\n",
    "    def f():\n",
    "        return 3\n",
    "    f()*f()\n",
    "    ```\n",
    "1.  ```python\n",
    "    def f():\n",
    "        pass\n",
    "    ```\n",
    "1.  ```python\n",
    "    def f(x):\n",
    "        return x\n",
    "    f()\n",
    "    ```    \n",
    "1.  ```python\n",
    "    def f(x):\n",
    "        return x\n",
    "    f(5)\n",
    "    ```\n",
    "1.  ```python\n",
    "    def f():\n",
    "        print('fire')        \n",
    "    x = f()\n",
    "    print(x)\n",
    "    ```\n",
    "1.  ```python\n",
    "    def f():\n",
    "        return(print('fire'))\n",
    "    print(f())\n",
    "    ```\n",
    "1.  ```python\n",
    "    def f(x):\n",
    "        return 'x'\n",
    "    print(f(5))\n",
    "    ```\n",
    "1.  ```python\n",
    "    def f(x):\n",
    "        return 'x'\n",
    "    print(f(5))\n",
    "    ```\n",
    "1.  ```python\n",
    "    def etc():\n",
    "        print('etc...')\n",
    "        return etc()\n",
    "    etc()\n",
    "    ```\n",
    "1.  ```python\n",
    "    def gu():\n",
    "        print('GU')\n",
    "        ru()\n",
    "    def ru():\n",
    "        print('RU')\n",
    "        gu()        \n",
    "    gu()\n",
    "    ```    "
   ]
  },
  {
   "cell_type": "markdown",
   "metadata": {},
   "source": [
    "## Modificare parameteri\n",
    "\n",
    "**DOMANDE**:  Per ciascuna delle espressioni seguenti, prova a indovinare che risultato produce (o se da errore)"
   ]
  },
  {
   "cell_type": "markdown",
   "metadata": {},
   "source": [
    "1.  ```python\n",
    "    def zam(bal):\n",
    "        bal = 4\n",
    "    x = 8\n",
    "    zam(x)\n",
    "    print(x)\n",
    "    ```   \n",
    "1.  ```python\n",
    "    def zom(y):\n",
    "        y = 4\n",
    "    y = 8\n",
    "    zom(y)\n",
    "    print(y)\n",
    "    ```           \n",
    "1.  ```python\n",
    "    def per(la):\n",
    "        la.append('è')    \n",
    "    per(la)\n",
    "    print(la)\n",
    "    ```\n",
    "    \n",
    "1.  ```python\n",
    "    def zeb(la):\n",
    "        la.append('d')\n",
    "    lista = ['a','b','c']\n",
    "    zeb(lista)\n",
    "    print(lista)\n",
    "    ```\n",
    "1.  ```python\n",
    "    def ocio(la):\n",
    "        la = ['?','?']\n",
    "    lb = ['o','r','p','o']\n",
    "    ocio(lb)\n",
    "    print(lb)\n",
    "    ```\n",
    "1.  ```python\n",
    "    def umpa(stringa):\n",
    "        stringa = \"lompa\"\n",
    "    parola = \"gnappa\"\n",
    "    umpa(parola)\n",
    "    print(parola)\n",
    "    ```\n",
    "1.  ```python\n",
    "    def sportiva(diz):\n",
    "        diz['scarpe'] = 2\n",
    "    armadio = {'racchette':4,\n",
    "               'palline': 7}\n",
    "    sportiva(armadio)\n",
    "    print(armadio)\n",
    "    ```\n",
    "1.  ```python\n",
    "    def numma(lista):\n",
    "        lista + [4,5]\n",
    "    la = [1,2,3]    \n",
    "    print(numma(la))\n",
    "    print(la)\n",
    "    ```\n",
    "\n",
    "1.  ```python\n",
    "    def giara(lista):\n",
    "        return lista + [4,5]\n",
    "    lb = [1,2,3]    \n",
    "    print(giara(lb))\n",
    "    print(lb)\n",
    "    ```"
   ]
  },
  {
   "cell_type": "markdown",
   "metadata": {},
   "source": [
    "## Saper distinguere le funzioni\n",
    "\n",
    "All'incirca puoi trovare 5 categorie di funzioni nel mondo là fuori:\n",
    "\n",
    "1. fa solo una STAMPA/SCRITTURA (produce i cosiddetti _side effects_ modificando l'ambiente in qualche mode, come mostrando caratteri sullo schermo o scrivendo in un file)\n",
    "2. RITORNA un valore\n",
    "3. MODIFICA l'input\n",
    "4. MODIFICA l'input e lo RITORNA (permette la concatenazione di chiamate, detto _chaining_)\n",
    "5. MODIFICA l'input e RITORNA qualcosa derivato dall'input\n",
    "\n",
    "Proviamo ora a capire le differenze con diversi esempi."
   ]
  },
  {
   "cell_type": "markdown",
   "metadata": {},
   "source": [
    "## Esempio - pirintola\n",
    "\n",
    "Fa solo una STAMPA / SCRITTURA\n",
    "\n",
    "- NON modifica l'input!\n",
    "- NON ritorna niente!\n"
   ]
  },
  {
   "cell_type": "code",
   "execution_count": 1,
   "metadata": {},
   "outputs": [
    {
     "name": "stdout",
     "output_type": "stream",
     "text": [
      "8 5\n"
     ]
    }
   ],
   "source": [
    "def pirintola(lista):\n",
    "    \"\"\"STAMPA i primi due elementi della lista data\n",
    "    \"\"\"\n",
    "    print(lista[0], lista[1])\n",
    "\n",
    "la = [8,5,6,2]\n",
    "\n",
    "pirintola(la)"
   ]
  },
  {
   "cell_type": "markdown",
   "metadata": {},
   "source": [
    "## Esempio - ritornola\n",
    "\n",
    "RITORNA valori \n",
    "\n",
    "- NON modifica l'input\n",
    "- NON stampa niente!"
   ]
  },
  {
   "cell_type": "code",
   "execution_count": 2,
   "metadata": {},
   "outputs": [
    {
     "data": {
      "text/plain": [
       "[10, 4, 12, 6]"
      ]
     },
     "execution_count": 2,
     "metadata": {},
     "output_type": "execute_result"
    }
   ],
   "source": [
    "def ritornola(lista):\n",
    "    \"\"\"RITORNA una NUOVA lista che ha tutti i numeri di lista raddoppiati\n",
    "    \"\"\"    \n",
    "    ret = []\n",
    "    for el in lista:\n",
    "        ret.append(el*2)\n",
    "    return ret\n",
    "\n",
    "la = [5,2,6,3]\n",
    "ritornola(la)"
   ]
  },
  {
   "cell_type": "markdown",
   "metadata": {},
   "source": [
    "## Esempio - modifanta\n",
    "\n",
    "MODIFICA l'input\n",
    "\n",
    "- NON ritorna niente!\n",
    "- NON stampa niente!"
   ]
  },
  {
   "cell_type": "code",
   "execution_count": 3,
   "metadata": {},
   "outputs": [
    {
     "name": "stdout",
     "output_type": "stream",
     "text": [
      "[4, 7, 8, 9]\n"
     ]
    }
   ],
   "source": [
    "def modifanta(lista):\n",
    "    \"\"\"MODIFICA lista in modo che sia ordinata in-place\n",
    "    \"\"\"\n",
    "    lista.sort()   \n",
    "    \n",
    "la = [7,4,9,8]\n",
    "\n",
    "modifanta(la)\n",
    "\n",
    "print(la)"
   ]
  },
  {
   "cell_type": "markdown",
   "metadata": {},
   "source": [
    "## Esempio - modritut\n",
    "\n",
    "- MODIFICA l'input e lo RITORNA\n",
    "- NON STAMPA niente!"
   ]
  },
  {
   "cell_type": "code",
   "execution_count": 4,
   "metadata": {},
   "outputs": [
    {
     "name": "stdout",
     "output_type": "stream",
     "text": [
      "[16, 14, 10]\n",
      "[16, 14, 10]\n",
      "[12, 10, 14]\n",
      "[16, 14, 10]\n"
     ]
    }
   ],
   "source": [
    "def modritut(lista):\n",
    "    \"\"\"MODIFICA lista raddoppiando tutti i suoi elementi, \n",
    "       e infine RITORNA la lista di input\n",
    "    \"\"\"\n",
    "    for i in range(len(lista)):\n",
    "        lista[i] = lista[i] * 2\n",
    "    return lista\n",
    "\n",
    "la = [8,7,5]\n",
    "print(modritut(la))   # [16,14,10]  ha RITORNATO l'input modificato\n",
    "print(la)             # [16,14,10]  l'input la è stato MODIFICATO !!\n",
    "\n",
    "lb = [7,5,6]\n",
    "modritut(lb).reverse()   # NOTA CHE POSSIAMO CONCATENARE\n",
    "print(lb)                # [12,10,14]  l'input lb è stato MODIFICATO !!\n",
    "#modritut(lb).reverse().append(16)  # ... ma questo non funzionerebbe. Perchè?\n",
    "\n",
    "print(la)"
   ]
  },
  {
   "cell_type": "markdown",
   "metadata": {},
   "source": [
    "## Esempio - modritpar\n",
    "\n",
    "MODIFICA l'input e RITORNA una parte di esso\n",
    "\n",
    "- NON STAMPA niente!"
   ]
  },
  {
   "cell_type": "code",
   "execution_count": 5,
   "metadata": {},
   "outputs": [
    {
     "name": "stdout",
     "output_type": "stream",
     "text": [
      "c\n",
      "['a', 'b']\n"
     ]
    }
   ],
   "source": [
    "def modritpar(lista):\n",
    "    \"\"\"MODIFICA lista affinchè diventi ordinata e l'elemento più grande sia rimosso,\n",
    "       infine RITORNA l'elemento rimosso\n",
    "    \"\"\"\n",
    "    lista.sort()\n",
    "    ret = lista[-1]\n",
    "    lista.pop()\n",
    "    return ret    \n",
    "\n",
    "la = ['b','c','a']\n",
    "print(modritpar(la))  # 'c'        # ha RITORNATO un pezzo di input\n",
    "print(la)             # ['a','b']  # la è stata MODIFICATA!!\n"
   ]
  },
  {
   "cell_type": "markdown",
   "metadata": {},
   "source": [
    "## Esercizi"
   ]
  },
  {
   "cell_type": "markdown",
   "metadata": {},
   "source": [
    "\n",
    "### somma\n",
    "\n",
    "✪ Scrivere una funzione `somma` che dati due numeri x e y RITORNA la loro somma"
   ]
  },
  {
   "cell_type": "raw",
   "id": "5dfee085",
   "metadata": {
    "format": "text/html"
   },
   "source": [
    "<a  class=\"jupman-sol jupman-sol-toggler\" \n",
    " onclick=\"jupman.toggleSolution(this);\" \n",
    " data-jupman-show=\"Mostra soluzione\" data-jupman-hide=\"Nascondi\">Mostra soluzione</a><div class=\"jupman-sol jupman-sol-code\" style=\"display:none\">  "
   ]
  },
  {
   "cell_type": "code",
   "execution_count": 6,
   "metadata": {},
   "outputs": [],
   "source": [
    "# scrivi qui\n",
    "\n",
    "def somma(x,y):\n",
    "    return x + y\n"
   ]
  },
  {
   "cell_type": "raw",
   "id": "34f82a20",
   "metadata": {
    "format": "text/html"
   },
   "source": [
    "</div>"
   ]
  },
  {
   "cell_type": "code",
   "execution_count": 6,
   "metadata": {},
   "outputs": [],
   "source": [
    "# scrivi qui\n",
    "\n"
   ]
  },
  {
   "cell_type": "code",
   "execution_count": 7,
   "metadata": {},
   "outputs": [
    {
     "name": "stdout",
     "output_type": "stream",
     "text": [
      "9\n"
     ]
    }
   ],
   "source": [
    "s = somma(3,6)\n",
    "print(s)"
   ]
  },
  {
   "cell_type": "code",
   "execution_count": 8,
   "metadata": {},
   "outputs": [
    {
     "name": "stdout",
     "output_type": "stream",
     "text": [
      "2\n"
     ]
    }
   ],
   "source": [
    "s = somma(-1,3)\n",
    "print(s)"
   ]
  },
  {
   "cell_type": "markdown",
   "metadata": {},
   "source": [
    "### comparap\n",
    "\n",
    "✪ Scrivere una funzione `comparap` che dati due numeri `x` e `y`, STAMPA  `x è maggiore di y`, `x è minore di y` o `x è uguale a y`\n",
    " \n",
    "**NOTA**: nella stampa, mettere i numeri veri.  Per es `comparap(10,5)` dovrebbe stampare:\n",
    "\n",
    "    10 è maggiore di 5\n",
    "\n",
    "**SUGGERIMENTO**: per stampare numeri e testo, usare le virgole nella `print`:\n",
    "\n",
    "```python\n",
    "print(x, \" è maggiore di \")\n",
    "```"
   ]
  },
  {
   "cell_type": "raw",
   "id": "88f60d01",
   "metadata": {
    "format": "text/html"
   },
   "source": [
    "<a  class=\"jupman-sol jupman-sol-toggler\" \n",
    " onclick=\"jupman.toggleSolution(this);\" \n",
    " data-jupman-show=\"Mostra soluzione\" data-jupman-hide=\"Nascondi\">Mostra soluzione</a><div class=\"jupman-sol jupman-sol-code\" style=\"display:none\">  "
   ]
  },
  {
   "cell_type": "code",
   "execution_count": 9,
   "metadata": {},
   "outputs": [],
   "source": [
    "# scrivi qui\n",
    "def comparap(x,y):\n",
    "    if x > y:\n",
    "        print(x, \" è maggiore di \", y)\n",
    "    elif x < y:\n",
    "        print(x, \" è minore di \", y)\n",
    "    else:\n",
    "        print(x, \" è uguale a \", y)"
   ]
  },
  {
   "cell_type": "raw",
   "id": "31d0107b",
   "metadata": {
    "format": "text/html"
   },
   "source": [
    "</div>"
   ]
  },
  {
   "cell_type": "code",
   "execution_count": 9,
   "metadata": {},
   "outputs": [],
   "source": [
    "# scrivi qui\n",
    "\n"
   ]
  },
  {
   "cell_type": "code",
   "execution_count": 10,
   "metadata": {},
   "outputs": [
    {
     "name": "stdout",
     "output_type": "stream",
     "text": [
      "10  è maggiore di  5\n"
     ]
    }
   ],
   "source": [
    "comparap(10,5)"
   ]
  },
  {
   "cell_type": "code",
   "execution_count": 11,
   "metadata": {},
   "outputs": [
    {
     "name": "stdout",
     "output_type": "stream",
     "text": [
      "3  è minore di  8\n"
     ]
    }
   ],
   "source": [
    "comparap(3,8)"
   ]
  },
  {
   "cell_type": "code",
   "execution_count": 12,
   "metadata": {},
   "outputs": [
    {
     "name": "stdout",
     "output_type": "stream",
     "text": [
      "3  è uguale a  3\n"
     ]
    }
   ],
   "source": [
    "comparap(3,3)"
   ]
  },
  {
   "cell_type": "markdown",
   "metadata": {},
   "source": [
    "### comparar\n",
    "\n",
    "✪ Scrivere una funzione `comparar` che dati due numeri `x` e `y`, RITORNA la STRINGA  `'>'` se `x` è maggiore di `y`, la STRINGA `'<'` se `x` è minore di `y` oppure la STRINGA `'=='` se `x` è uguale a `y`\n",
    " \n"
   ]
  },
  {
   "cell_type": "raw",
   "id": "0a78dc83",
   "metadata": {
    "format": "text/html"
   },
   "source": [
    "<a  class=\"jupman-sol jupman-sol-toggler\" \n",
    " onclick=\"jupman.toggleSolution(this);\" \n",
    " data-jupman-show=\"Mostra soluzione\" data-jupman-hide=\"Nascondi\">Mostra soluzione</a><div class=\"jupman-sol jupman-sol-code\" style=\"display:none\">  "
   ]
  },
  {
   "cell_type": "code",
   "execution_count": 13,
   "metadata": {},
   "outputs": [],
   "source": [
    "# scrivi qui\n",
    "def comparar(x,y):\n",
    "    if x > y:\n",
    "        return '>'\n",
    "    elif x < y:\n",
    "        return '<'\n",
    "    else:\n",
    "        return '=='"
   ]
  },
  {
   "cell_type": "raw",
   "id": "3933cdb4",
   "metadata": {
    "format": "text/html"
   },
   "source": [
    "</div>"
   ]
  },
  {
   "cell_type": "code",
   "execution_count": 13,
   "metadata": {},
   "outputs": [],
   "source": [
    "# scrivi qui\n",
    "\n"
   ]
  },
  {
   "cell_type": "code",
   "execution_count": 14,
   "metadata": {},
   "outputs": [
    {
     "name": "stdout",
     "output_type": "stream",
     "text": [
      ">\n"
     ]
    }
   ],
   "source": [
    "c = comparar(10,5)\n",
    "print(c)"
   ]
  },
  {
   "cell_type": "code",
   "execution_count": 15,
   "metadata": {},
   "outputs": [
    {
     "name": "stdout",
     "output_type": "stream",
     "text": [
      "<\n"
     ]
    }
   ],
   "source": [
    "c = comparar(3,7)\n",
    "print(c)"
   ]
  },
  {
   "cell_type": "code",
   "execution_count": 16,
   "metadata": {},
   "outputs": [
    {
     "name": "stdout",
     "output_type": "stream",
     "text": [
      "==\n"
     ]
    }
   ],
   "source": [
    "c = comparar(3,3)\n",
    "print(c)"
   ]
  },
  {
   "cell_type": "markdown",
   "metadata": {},
   "source": [
    "### pari\n",
    "\n",
    "✪ Scrivere una funzione `pari` che dato un numero `x` RITORNA `True` se il numero `x` in ingresso è pari, altrimenti ritorna `False`\n",
    "\n",
    "**SUGGERIMENTO**: un numero è pari quando il resto della divisione per due è zero. Per ottenere il resto della divisione, scrivere `x % 2`. "
   ]
  },
  {
   "cell_type": "code",
   "execution_count": 17,
   "metadata": {},
   "outputs": [
    {
     "data": {
      "text/plain": [
       "0"
      ]
     },
     "execution_count": 17,
     "metadata": {},
     "output_type": "execute_result"
    }
   ],
   "source": [
    "# Esempio:\n",
    "2 % 2"
   ]
  },
  {
   "cell_type": "code",
   "execution_count": 18,
   "metadata": {},
   "outputs": [
    {
     "data": {
      "text/plain": [
       "1"
      ]
     },
     "execution_count": 18,
     "metadata": {},
     "output_type": "execute_result"
    }
   ],
   "source": [
    "3 % 2"
   ]
  },
  {
   "cell_type": "code",
   "execution_count": 19,
   "metadata": {},
   "outputs": [
    {
     "data": {
      "text/plain": [
       "0"
      ]
     },
     "execution_count": 19,
     "metadata": {},
     "output_type": "execute_result"
    }
   ],
   "source": [
    "4 % 2"
   ]
  },
  {
   "cell_type": "code",
   "execution_count": 20,
   "metadata": {},
   "outputs": [
    {
     "data": {
      "text/plain": [
       "1"
      ]
     },
     "execution_count": 20,
     "metadata": {},
     "output_type": "execute_result"
    }
   ],
   "source": [
    "5 % 2"
   ]
  },
  {
   "cell_type": "raw",
   "id": "ecdf5d6b",
   "metadata": {
    "format": "text/html"
   },
   "source": [
    "<a  class=\"jupman-sol jupman-sol-toggler\" \n",
    " onclick=\"jupman.toggleSolution(this);\" \n",
    " data-jupman-show=\"Mostra soluzione\" data-jupman-hide=\"Nascondi\">Mostra soluzione</a><div class=\"jupman-sol jupman-sol-code\" style=\"display:none\">  "
   ]
  },
  {
   "cell_type": "code",
   "execution_count": 21,
   "metadata": {},
   "outputs": [],
   "source": [
    "# scrivi qui\n",
    "def pari(x):\n",
    "    return x % 2 == 0"
   ]
  },
  {
   "cell_type": "raw",
   "id": "fbf95ad8",
   "metadata": {
    "format": "text/html"
   },
   "source": [
    "</div>"
   ]
  },
  {
   "cell_type": "code",
   "execution_count": 21,
   "metadata": {},
   "outputs": [],
   "source": [
    "# scrivi qui\n",
    "\n"
   ]
  },
  {
   "cell_type": "code",
   "execution_count": 22,
   "metadata": {},
   "outputs": [
    {
     "name": "stdout",
     "output_type": "stream",
     "text": [
      "True\n"
     ]
    }
   ],
   "source": [
    "p = pari(2)\n",
    "print(p)"
   ]
  },
  {
   "cell_type": "code",
   "execution_count": 23,
   "metadata": {},
   "outputs": [
    {
     "name": "stdout",
     "output_type": "stream",
     "text": [
      "False\n"
     ]
    }
   ],
   "source": [
    "p = pari(3)\n",
    "print(p)"
   ]
  },
  {
   "cell_type": "code",
   "execution_count": 24,
   "metadata": {},
   "outputs": [
    {
     "name": "stdout",
     "output_type": "stream",
     "text": [
      "True\n"
     ]
    }
   ],
   "source": [
    "p = pari(4)\n",
    "print(p)"
   ]
  },
  {
   "cell_type": "code",
   "execution_count": 25,
   "metadata": {},
   "outputs": [
    {
     "name": "stdout",
     "output_type": "stream",
     "text": [
      "False\n"
     ]
    }
   ],
   "source": [
    "p = pari(5)\n",
    "print(p)"
   ]
  },
  {
   "cell_type": "code",
   "execution_count": 26,
   "metadata": {},
   "outputs": [
    {
     "name": "stdout",
     "output_type": "stream",
     "text": [
      "True\n"
     ]
    }
   ],
   "source": [
    "p = pari(0)\n",
    "print(p)"
   ]
  },
  {
   "cell_type": "markdown",
   "metadata": {},
   "source": [
    "### mag\n",
    "\n",
    "✪ Scrivere una funzione che dati due numeri `x` e `y` RITORNA il numero maggiore. \n",
    "\n",
    "Se sono uguali, RITORNA un numero qualsiasi."
   ]
  },
  {
   "cell_type": "raw",
   "id": "7486492a",
   "metadata": {
    "format": "text/html"
   },
   "source": [
    "<a  class=\"jupman-sol jupman-sol-toggler\" \n",
    " onclick=\"jupman.toggleSolution(this);\" \n",
    " data-jupman-show=\"Mostra soluzione\" data-jupman-hide=\"Nascondi\">Mostra soluzione</a><div class=\"jupman-sol jupman-sol-code\" style=\"display:none\">  "
   ]
  },
  {
   "cell_type": "code",
   "execution_count": 27,
   "metadata": {},
   "outputs": [],
   "source": [
    "# scrivi qui\n",
    "\n",
    "def mag(x,y):\n",
    "    if x > y:\n",
    "        return x\n",
    "    else:\n",
    "        return y\n"
   ]
  },
  {
   "cell_type": "raw",
   "id": "35569d56",
   "metadata": {
    "format": "text/html"
   },
   "source": [
    "</div>"
   ]
  },
  {
   "cell_type": "code",
   "execution_count": 27,
   "metadata": {},
   "outputs": [],
   "source": [
    "# scrivi qui\n",
    "\n"
   ]
  },
  {
   "cell_type": "code",
   "execution_count": 28,
   "metadata": {},
   "outputs": [
    {
     "name": "stdout",
     "output_type": "stream",
     "text": [
      "5\n"
     ]
    }
   ],
   "source": [
    "m = mag(3,5)\n",
    "print(m)"
   ]
  },
  {
   "cell_type": "code",
   "execution_count": 29,
   "metadata": {},
   "outputs": [
    {
     "name": "stdout",
     "output_type": "stream",
     "text": [
      "6\n"
     ]
    }
   ],
   "source": [
    "m = mag(6,2)\n",
    "print(m)"
   ]
  },
  {
   "cell_type": "code",
   "execution_count": 30,
   "metadata": {},
   "outputs": [
    {
     "name": "stdout",
     "output_type": "stream",
     "text": [
      "4\n"
     ]
    }
   ],
   "source": [
    "m = mag(4,4)\n",
    "print(m)"
   ]
  },
  {
   "cell_type": "code",
   "execution_count": 31,
   "metadata": {},
   "outputs": [
    {
     "name": "stdout",
     "output_type": "stream",
     "text": [
      "2\n"
     ]
    }
   ],
   "source": [
    "m = mag(-5,2)\n",
    "print(m)"
   ]
  },
  {
   "cell_type": "code",
   "execution_count": 32,
   "metadata": {},
   "outputs": [
    {
     "name": "stdout",
     "output_type": "stream",
     "text": [
      "-3\n"
     ]
    }
   ],
   "source": [
    "m = mag(-5, -3)\n",
    "print(m)"
   ]
  },
  {
   "cell_type": "markdown",
   "metadata": {},
   "source": [
    "\n",
    "### is_vocale\n",
    "\n",
    "✪ Scrivi una funzione `is_vocale` a cui viene passato un carattere `car` come parametro, e STAMPA `'sì'` se il carattere è una vocale, altrimenti STAMPA `'no'` (usando le `print`).\n",
    "\n",
    "\n",
    "```python\n",
    ">>> is_vocale(\"a\")\n",
    "'si'\n",
    "\n",
    ">>> is_vocale(\"c\")\n",
    "'no'\n",
    "```"
   ]
  },
  {
   "cell_type": "raw",
   "id": "97ab283c",
   "metadata": {
    "format": "text/html"
   },
   "source": [
    "<a  class=\"jupman-sol jupman-sol-toggler\" \n",
    " onclick=\"jupman.toggleSolution(this);\" \n",
    " data-jupman-show=\"Mostra soluzione\" data-jupman-hide=\"Nascondi\">Mostra soluzione</a><div class=\"jupman-sol jupman-sol-code\" style=\"display:none\">  "
   ]
  },
  {
   "cell_type": "code",
   "execution_count": 33,
   "metadata": {},
   "outputs": [],
   "source": [
    "# scrivi qui\n",
    "\n",
    "def is_vocale(car):\n",
    "    if car == 'a' or car == 'e' or car == 'i' or car == 'o' or car == 'u':\n",
    "        print('sì')\n",
    "    else:\n",
    "        print('no')\n",
    "    "
   ]
  },
  {
   "cell_type": "raw",
   "id": "8eae4cda",
   "metadata": {
    "format": "text/html"
   },
   "source": [
    "</div>"
   ]
  },
  {
   "cell_type": "code",
   "execution_count": 33,
   "metadata": {},
   "outputs": [],
   "source": [
    "# scrivi qui\n",
    "\n"
   ]
  },
  {
   "cell_type": "markdown",
   "metadata": {},
   "source": [
    "### volume_sfera \n",
    "\n",
    "✪ Il volume di una sfera di raggio `r` è $4/3 π r^3$\n",
    "\n",
    "Scrivere una funzione `volume_sfera(raggio)`  che dato un `raggio` di una sfera, STAMPA un messaggio `il volume è` ...\n",
    "\n",
    "NB: assumi `pi_greco = 3.14`\n",
    "\n",
    "```python\n",
    ">>> x = volume_sfera(4)\n",
    "il volume è 267.94666666666666\n",
    ">>> x  # non ritorna nulla\n",
    "None\n",
    "```\n"
   ]
  },
  {
   "cell_type": "raw",
   "id": "97d5b700",
   "metadata": {
    "format": "text/html"
   },
   "source": [
    "<a  class=\"jupman-sol jupman-sol-toggler\" \n",
    " onclick=\"jupman.toggleSolution(this);\" \n",
    " data-jupman-show=\"Mostra soluzione\" data-jupman-hide=\"Nascondi\">Mostra soluzione</a><div class=\"jupman-sol jupman-sol-code\" style=\"display:none\">  "
   ]
  },
  {
   "cell_type": "code",
   "execution_count": 34,
   "metadata": {},
   "outputs": [
    {
     "name": "stdout",
     "output_type": "stream",
     "text": [
      "il volume è 267.94666666666666\n"
     ]
    }
   ],
   "source": [
    "\n",
    "# scrivi qui\n",
    "\n",
    "def volume_sfera(raggio):\n",
    "    print(\"il volume è\", (4/3)*3.14*(raggio**3))\n",
    "volume_sfera(4)"
   ]
  },
  {
   "cell_type": "raw",
   "id": "e66cfd26",
   "metadata": {
    "format": "text/html"
   },
   "source": [
    "</div>"
   ]
  },
  {
   "cell_type": "code",
   "execution_count": 34,
   "metadata": {},
   "outputs": [],
   "source": [
    "\n",
    "# scrivi qui\n",
    "\n"
   ]
  },
  {
   "cell_type": "markdown",
   "metadata": {},
   "source": [
    "### ciri\n",
    "\n",
    "✪ Scrivi una funzione `ciri(nome)` che prende come parametro la stringa `nome` e RITORNA `True` se è uguale al nome 'Cirillo'\n",
    "\n",
    "```python\n",
    ">>> r = ciri(\"Cirillo\")\n",
    ">>> r\n",
    "True\n",
    "\n",
    ">>> r = ciri(\"Cirillo\")\n",
    ">>> r\n",
    "False\n",
    "```"
   ]
  },
  {
   "cell_type": "raw",
   "id": "07b3d1ee",
   "metadata": {
    "format": "text/html"
   },
   "source": [
    "<a  class=\"jupman-sol jupman-sol-toggler\" \n",
    " onclick=\"jupman.toggleSolution(this);\" \n",
    " data-jupman-show=\"Mostra soluzione\" data-jupman-hide=\"Nascondi\">Mostra soluzione</a><div class=\"jupman-sol jupman-sol-code\" style=\"display:none\">  "
   ]
  },
  {
   "cell_type": "code",
   "execution_count": 35,
   "metadata": {},
   "outputs": [],
   "source": [
    "# scrivi qui\n",
    "\n",
    "def ciri(nome):\n",
    "    if nome == \"Cirillo\":\n",
    "        return True\n",
    "    else:\n",
    "        return False\n"
   ]
  },
  {
   "cell_type": "raw",
   "id": "dd617bef",
   "metadata": {
    "format": "text/html"
   },
   "source": [
    "</div>"
   ]
  },
  {
   "cell_type": "code",
   "execution_count": 35,
   "metadata": {},
   "outputs": [],
   "source": [
    "# scrivi qui\n",
    "\n"
   ]
  },
  {
   "cell_type": "markdown",
   "metadata": {},
   "source": [
    "### age\n",
    "\n",
    "✪ Scrivi una funzione `age` che prende come parametro `anno` di nascita e RITORNA l'eta' della persona\n",
    "\n",
    "**Supponi che l'anno corrente sia noto, quindi per rappresentarlo nel corpo della funzione usa una costante come** `2019`\n",
    "\n",
    "```python\n",
    ">>> a = age(2003)\n",
    ">>> print(a)\n",
    "16\n",
    "```"
   ]
  },
  {
   "cell_type": "raw",
   "id": "1cab0f92",
   "metadata": {
    "format": "text/html"
   },
   "source": [
    "<a  class=\"jupman-sol jupman-sol-toggler\" \n",
    " onclick=\"jupman.toggleSolution(this);\" \n",
    " data-jupman-show=\"Mostra soluzione\" data-jupman-hide=\"Nascondi\">Mostra soluzione</a><div class=\"jupman-sol jupman-sol-code\" style=\"display:none\">  "
   ]
  },
  {
   "cell_type": "code",
   "execution_count": 36,
   "metadata": {},
   "outputs": [],
   "source": [
    "# scrivi qui\n",
    "\n",
    "def age(anno):\n",
    "    return 2019 - anno"
   ]
  },
  {
   "cell_type": "raw",
   "id": "f2eb938c",
   "metadata": {
    "format": "text/html"
   },
   "source": [
    "</div>"
   ]
  },
  {
   "cell_type": "code",
   "execution_count": 36,
   "metadata": {},
   "outputs": [],
   "source": [
    "# scrivi qui\n",
    "\n"
   ]
  },
  {
   "cell_type": "markdown",
   "metadata": {},
   "source": [
    "## Verifica comprensione\n",
    "\n",
    "<div class=\"alert alert-warning\">\n",
    "\n",
    "**ATTENZIONE**\n",
    "\n",
    "Gli esercizi che segueno contengono dei test con gli _assert_. Per capire come svolgerli, leggi prima [Gestione errori e testing](https://it.softpython.org/errors-and-testing/errors-and-testing-sol.html) \n",
    "\n",
    "</div>\n"
   ]
  },
  {
   "cell_type": "markdown",
   "metadata": {},
   "source": [
    "### mag_tre\n",
    "\n",
    "✪✪ Scrivi una funzione `mag_tre(a,b,c)` che prende stavolta tre numeri come parametro e RESTITUISCE il più grande tra loro\n",
    "\n",
    "Esempi: \n",
    "\n",
    "```python\n",
    ">>> mag_tre(1,2,4)\n",
    "4\n",
    "\n",
    ">>> mag_tre(5,7,3)\n",
    "7\n",
    "\n",
    ">>> mag_tre(4,4,4)\n",
    "4\n",
    "```"
   ]
  },
  {
   "cell_type": "raw",
   "id": "514c9376",
   "metadata": {
    "format": "text/html"
   },
   "source": [
    "<a  class=\"jupman-sol jupman-sol-toggler\" \n",
    " onclick=\"jupman.toggleSolution(this);\" \n",
    " data-jupman-show=\"Mostra soluzione\" data-jupman-hide=\"Nascondi\">Mostra soluzione</a><div class=\"jupman-sol jupman-sol-code\" style=\"display:none\">  "
   ]
  },
  {
   "cell_type": "code",
   "execution_count": 37,
   "metadata": {},
   "outputs": [],
   "source": [
    "# scrivi qui\n",
    "\n",
    "def mag_tre(a,b,c):\n",
    "    if a > b:\n",
    "        if a>c:\n",
    "            return a\n",
    "        else:\n",
    "            return c\n",
    "    else:\n",
    "        if b > c:\n",
    "            return b\n",
    "        else:\n",
    "            return c\n",
    "\n",
    "assert mag_tre(1,2,4) == 4\n",
    "assert mag_tre(5,7,3) == 7\n",
    "assert mag_tre(4,4,4) == 4"
   ]
  },
  {
   "cell_type": "raw",
   "id": "57164750",
   "metadata": {
    "format": "text/html"
   },
   "source": [
    "</div>"
   ]
  },
  {
   "cell_type": "code",
   "execution_count": 37,
   "metadata": {},
   "outputs": [],
   "source": [
    "# scrivi qui\n",
    "\n"
   ]
  },
  {
   "cell_type": "markdown",
   "metadata": {},
   "source": [
    "\n",
    "### prezzo_finale\n",
    "\n",
    "✪✪ Il prezzo di copertina di un libro è € 24,95, ma una libreria ottiene il 40% di sconto. I costi di spedizione sono € 3 per la prima copia e 75 centesimi per ogni copia aggiuntiva. Quanto costano `n` copie? \n",
    "Scrivi una funzione `prezzo_finale(n)` che RITORNA il prezzo.\n",
    "\n",
    "**ATTENZIONE 1**: Python per i numeri vuole il punto, NON la virgola !\n",
    "\n",
    "**ATTENZIONE 2**: Se ordinassi zero libri, quanto dovrei pagare ?\n",
    "\n",
    "**SUGGERIMENTO**: il 40% di 24,95 si può calcolare moltiplicando il prezzo per 0.40\n",
    "\n",
    "```python\n",
    ">>> p = prezzo_finale(10)\n",
    ">>> print(p)\n",
    "\n",
    "159.45\n",
    "\n",
    ">>> p = prezzo_finale(0)\n",
    ">>> print(p)\n",
    "\n",
    "0\n",
    "\n",
    "```"
   ]
  },
  {
   "cell_type": "raw",
   "id": "974f7a5e",
   "metadata": {
    "format": "text/html"
   },
   "source": [
    "<a  class=\"jupman-sol jupman-sol-toggler\" \n",
    " onclick=\"jupman.toggleSolution(this);\" \n",
    " data-jupman-show=\"Mostra soluzione\" data-jupman-hide=\"Nascondi\">Mostra soluzione</a><div class=\"jupman-sol jupman-sol-code\" style=\"display:none\">  "
   ]
  },
  {
   "cell_type": "code",
   "execution_count": 38,
   "metadata": {},
   "outputs": [],
   "source": [
    "def prezzo_finale(n):\n",
    "    \n",
    "    if n == 0:\n",
    "        return 0\n",
    "    else:\n",
    "        return n* 24.95*0.6 + 3 +(n-1)*0.75\n",
    "    \n",
    "\n",
    "assert prezzo_finale(10) == 159.45\n",
    "assert prezzo_finale(0) == 0"
   ]
  },
  {
   "cell_type": "raw",
   "id": "35a1e800",
   "metadata": {
    "format": "text/html"
   },
   "source": [
    "</div>"
   ]
  },
  {
   "cell_type": "code",
   "execution_count": 38,
   "metadata": {},
   "outputs": [],
   "source": [
    "def prezzo_finale(n):\n",
    "    raise Exception('TODO IMPLEMENT ME !')\n",
    "\n",
    "assert prezzo_finale(10) == 159.45\n",
    "assert prezzo_finale(0) == 0"
   ]
  },
  {
   "cell_type": "markdown",
   "metadata": {},
   "source": [
    "### ora_arrivo\n",
    "\n",
    "✪✪✪ Correndo a ritmo blando ci mettete  8 minuti e 15 secondi al miglio, e correndo a ritmo moderato  ci impiegate  7 minuti e 12 secondi al miglio. \n",
    "\n",
    "Scrivi una funzione `ora_arrivo(n,m)` che supponendo una partenza alle ore 6 e 52 minuti,  date `n` miglia percorse con ritmo blando e `m` con  ritmo moderato, STAMPA l'ora di arrivo.\n",
    "\n",
    "* **SUGGERIMENTO 1**: per calcare una divisione intera, usate `//`\n",
    "* **SUGGERIMENTO 2**: per calcolare il resto di una divisione intera, usate l'operatore modulo `%`\n",
    "\n",
    "```python\n",
    ">>> ora_arrivo(2,2)\n",
    "7:22\n",
    "```\n"
   ]
  },
  {
   "cell_type": "raw",
   "id": "d148ff5b",
   "metadata": {
    "format": "text/html"
   },
   "source": [
    "<a  class=\"jupman-sol jupman-sol-toggler\" \n",
    " onclick=\"jupman.toggleSolution(this);\" \n",
    " data-jupman-show=\"Mostra soluzione\" data-jupman-hide=\"Nascondi\">Mostra soluzione</a><div class=\"jupman-sol jupman-sol-code\" style=\"display:none\">  "
   ]
  },
  {
   "cell_type": "code",
   "execution_count": 40,
   "metadata": {},
   "outputs": [],
   "source": [
    "def ora_arrivo(n,m):\n",
    "    \n",
    "    ore_partenza = 6\n",
    "    minuti_partenza = 52\n",
    "\n",
    "    # tempo trascorso    \n",
    "    secondi = ore_partenza*60*60 + minuti_partenza*60 + n * (8*60+15) + m * (7*60+12)        \n",
    "    minuti = secondi // 60\n",
    "    ore = minuti // 60\n",
    "            \n",
    "    ora_mostra = ore % 24\n",
    "    minuti_mostra = minuti % 60\n",
    "    \n",
    "    return \"%s:%s\" % (ora_mostra, minuti_mostra)\n",
    "\n",
    "    \n",
    "\n",
    "\n",
    "assert ora_arrivo(0,0) == '6:52'\n",
    "assert ora_arrivo(2,2) == '7:22'\n",
    "assert ora_arrivo(2,5) == '7:44'\n",
    "assert ora_arrivo(8,5) == '8:34'\n",
    "assert ora_arrivo(40,5) == '12:58'\n",
    "assert ora_arrivo(100,25) == '23:37'\n",
    "assert ora_arrivo(100,40) == '1:25'   \n",
    "assert ora_arrivo(700,305) == '19:43' # Forrest Gump"
   ]
  },
  {
   "cell_type": "raw",
   "id": "c6304a2e",
   "metadata": {
    "format": "text/html"
   },
   "source": [
    "</div>"
   ]
  },
  {
   "cell_type": "code",
   "execution_count": 40,
   "metadata": {},
   "outputs": [],
   "source": [
    "def ora_arrivo(n,m):\n",
    "    raise Exception('TODO IMPLEMENT ME !')\n",
    "\n",
    "\n",
    "assert ora_arrivo(0,0) == '6:52'\n",
    "assert ora_arrivo(2,2) == '7:22'\n",
    "assert ora_arrivo(2,5) == '7:44'\n",
    "assert ora_arrivo(8,5) == '8:34'\n",
    "assert ora_arrivo(40,5) == '12:58'\n",
    "assert ora_arrivo(100,25) == '23:37'\n",
    "assert ora_arrivo(100,40) == '1:25'   \n",
    "assert ora_arrivo(700,305) == '19:43' # Forrest Gump"
   ]
  },
  {
   "cell_type": "markdown",
   "metadata": {},
   "source": [
    "## Prosegui\n",
    "\n",
    "Continua con le [challenges](https://it.softpython.org/functions/functions2-chal.html)"
   ]
  }
 ],
 "metadata": {
  "celltoolbar": "Edit Metadata",
  "kernelspec": {
   "display_name": "Python 3",
   "language": "python",
   "name": "python3"
  },
  "language_info": {
   "codemirror_mode": {
    "name": "ipython",
    "version": 3
   },
   "file_extension": ".py",
   "mimetype": "text/x-python",
   "name": "python",
   "nbconvert_exporter": "python",
   "pygments_lexer": "ipython3",
   "version": "3.7.10"
  },
  "toc": {
   "base_numbering": 1,
   "nav_menu": {},
   "number_sections": false,
   "sideBar": true,
   "skip_h1_title": false,
   "title_cell": "Table of Contents",
   "title_sidebar": "Contents",
   "toc_cell": false,
   "toc_position": {},
   "toc_section_display": true,
   "toc_window_display": true
  }
 },
 "nbformat": 4,
 "nbformat_minor": 2
}

{
 "cells": [
  {
   "cell_type": "markdown",
   "id": "43c7cbcb",
   "metadata": {},
   "source": [
    "# Funzioni 7 - esercizi coi dizionari\n",
    "\n",
    "## [Scarica zip esercizi](../_static/generated/functions.zip)\n",
    "\n",
    "[Naviga file online](https://github.com/DavidLeoni/softpython-it/tree/master/functions)"
   ]
  },
  {
   "cell_type": "markdown",
   "id": "14651ab8",
   "metadata": {},
   "source": [
    "### stampa_val\n",
    "\n",
    "✪ Scrivi la funzione `stampa_val(d,chiave)` che RITORNA il valore associato a `chiave`\n",
    "\n",
    "```python\n",
    ">>> x = stampa_val({'a':5,'b':2}, 'a')\n",
    ">>> x\n",
    "5\n",
    ">>> y = stampa_val({'a':5,'b':2}, 'b')\n",
    ">>> y\n",
    "2\n",
    "```"
   ]
  },
  {
   "cell_type": "raw",
   "id": "7b10dd7b",
   "metadata": {
    "format": "text/html"
   },
   "source": [
    "<a  class=\"jupman-sol jupman-sol-toggler\" \n",
    " onclick=\"jupman.toggleSolution(this);\" \n",
    " data-jupman-show=\"Mostra soluzione\" data-jupman-hide=\"Nascondi\">Mostra soluzione</a><div class=\"jupman-sol jupman-sol-code\" style=\"display:none\">  "
   ]
  },
  {
   "cell_type": "code",
   "execution_count": 1,
   "id": "1aa2ba1f",
   "metadata": {},
   "outputs": [],
   "source": [
    "# scrivi qui\n",
    "\n",
    "def stampa_val(d, key):\n",
    "    return d[key]\n",
    "\n",
    "#x = stampa_val({'a':5,'b':2}, 'a')\n",
    "#x"
   ]
  },
  {
   "cell_type": "raw",
   "id": "c515c7a9",
   "metadata": {
    "format": "text/html"
   },
   "source": [
    "</div>"
   ]
  },
  {
   "cell_type": "code",
   "execution_count": 1,
   "id": "1aa2ba1f-stripped",
   "metadata": {},
   "outputs": [],
   "source": [
    "# scrivi qui\n",
    "\n"
   ]
  },
  {
   "cell_type": "markdown",
   "id": "d86c0e21",
   "metadata": {},
   "source": [
    "### ha_chiave\n",
    "\n",
    "Scrivi la funzione `ha_chiave(d,chiave)` che STAMPA `\"trovate\"` se `diz` contiene la chiave `chiave`, altrimenti STAMPA `\"non trovato\"`.\n",
    "\n",
    "```python\n",
    ">>> ha_chiave({'a':5,'b':2}, 'a')\n",
    "trovato\n",
    ">>> ha_chiave({'a':5,'b':2}, 'z')\n",
    "non trovato\n",
    "```\n"
   ]
  },
  {
   "cell_type": "raw",
   "id": "9b8e5fb4",
   "metadata": {
    "format": "text/html"
   },
   "source": [
    "<a  class=\"jupman-sol jupman-sol-toggler\" \n",
    " onclick=\"jupman.toggleSolution(this);\" \n",
    " data-jupman-show=\"Mostra soluzione\" data-jupman-hide=\"Nascondi\">Mostra soluzione</a><div class=\"jupman-sol jupman-sol-code\" style=\"display:none\">  "
   ]
  },
  {
   "cell_type": "code",
   "execution_count": 2,
   "id": "3b8ee5ae",
   "metadata": {},
   "outputs": [],
   "source": [
    "# scrivi qui\n",
    "\n",
    "def ha_chiave(d, chiave):  \n",
    "    if chiave in d:\n",
    "        print(\"trovato\")\n",
    "    else:\n",
    "        print(\"non trovato\")\n",
    "  \n",
    "  \n",
    "#ha_chiave({'a':5,'b':2}, 'a')\n",
    "#ha_chiave({'a':5,'b':2}, 'b')\n",
    "#ha_chiave({'a':5,'b':2}, 'z')\n"
   ]
  },
  {
   "cell_type": "raw",
   "id": "9727516d",
   "metadata": {
    "format": "text/html"
   },
   "source": [
    "</div>"
   ]
  },
  {
   "cell_type": "code",
   "execution_count": 2,
   "id": "3b8ee5ae-stripped",
   "metadata": {},
   "outputs": [],
   "source": [
    "# scrivi qui\n",
    "\n"
   ]
  },
  {
   "cell_type": "markdown",
   "id": "a12ae517",
   "metadata": {},
   "source": [
    "### dim\n",
    "\n",
    "✪ Scrivi la funzione `dim(d)` che RITORNA le associazioni chiave valore presenti nel dizionario\n",
    "\n",
    "```python\n",
    ">>> x = dim({'a':5,'b':2,'c':9})\n",
    ">>> x\n",
    "3\n",
    "```"
   ]
  },
  {
   "cell_type": "raw",
   "id": "c36f4c72",
   "metadata": {
    "format": "text/html"
   },
   "source": [
    "<a  class=\"jupman-sol jupman-sol-toggler\" \n",
    " onclick=\"jupman.toggleSolution(this);\" \n",
    " data-jupman-show=\"Mostra soluzione\" data-jupman-hide=\"Nascondi\">Mostra soluzione</a><div class=\"jupman-sol jupman-sol-code\" style=\"display:none\">  "
   ]
  },
  {
   "cell_type": "code",
   "execution_count": 3,
   "id": "882c6223",
   "metadata": {},
   "outputs": [],
   "source": [
    "# scrivi qui\n",
    "\n",
    "def dim(d):\n",
    "    return len(d)\n",
    "\n",
    "#x = dim({'a':5,'b':2,'c':9})\n",
    "#x"
   ]
  },
  {
   "cell_type": "raw",
   "id": "ae2614a6",
   "metadata": {
    "format": "text/html"
   },
   "source": [
    "</div>"
   ]
  },
  {
   "cell_type": "code",
   "execution_count": 3,
   "id": "882c6223-stripped",
   "metadata": {},
   "outputs": [],
   "source": [
    "# scrivi qui\n",
    "\n"
   ]
  },
  {
   "cell_type": "markdown",
   "id": "7694daa0",
   "metadata": {},
   "source": [
    "### mazzol\n",
    "\n",
    "✪  Dato un dizionario, scrivi una funzione `mazzol` che RITORNA una LISTA ORDINATA con tutte le chiavi, una alla volta. \n",
    "\n",
    "**NOTA**: l'ordine delle chiavi in questa lista E' importante !\n",
    "\n",
    "```python\n",
    ">>> x = mazzol({'a':5,'c':2,'b':9})\n",
    ">>> x\n",
    "['a','b','c']\n",
    "```"
   ]
  },
  {
   "cell_type": "raw",
   "id": "0b596ff7",
   "metadata": {
    "format": "text/html"
   },
   "source": [
    "<a  class=\"jupman-sol jupman-sol-toggler\" \n",
    " onclick=\"jupman.toggleSolution(this);\" \n",
    " data-jupman-show=\"Mostra soluzione\" data-jupman-hide=\"Nascondi\">Mostra soluzione</a><div class=\"jupman-sol jupman-sol-code\" style=\"display:none\">  "
   ]
  },
  {
   "cell_type": "code",
   "execution_count": 4,
   "id": "1779b730",
   "metadata": {},
   "outputs": [],
   "source": [
    "\n",
    "# scrivi qui\n",
    "\n",
    "def mazzol(d):  \n",
    "    la = list(d.keys())\n",
    "    la.sort()  # RICORDA: .sort() NON ritorna nulla !\n",
    "    return la\n",
    "\n",
    "\n",
    "#x = mazzol({'a':5,'c':2,'b':9})\n",
    "#x"
   ]
  },
  {
   "cell_type": "raw",
   "id": "d2f88295",
   "metadata": {
    "format": "text/html"
   },
   "source": [
    "</div>"
   ]
  },
  {
   "cell_type": "code",
   "execution_count": 4,
   "id": "1779b730-stripped",
   "metadata": {},
   "outputs": [],
   "source": [
    "\n",
    "# scrivi qui\n",
    "\n"
   ]
  },
  {
   "cell_type": "markdown",
   "id": "2b381956",
   "metadata": {},
   "source": [
    "### coppie\n",
    "\n",
    "✪ Dato un dizionario, scrivi una funzione `coppie` che STAMPA tutte le coppie chiave/valore, una per riga\n",
    "\n",
    "**NOTA**: l'ordine di stampa *NON* è importante, è sufficiente stampare tutte le coppie !\n",
    "\n",
    "```python\n",
    ">>> coppie({'a':5,'b':2,'c':9})\n",
    "a 5\n",
    "c 9\n",
    "b 2\n",
    "```"
   ]
  },
  {
   "cell_type": "raw",
   "id": "29cdb3c7",
   "metadata": {
    "format": "text/html"
   },
   "source": [
    "<a  class=\"jupman-sol jupman-sol-toggler\" \n",
    " onclick=\"jupman.toggleSolution(this);\" \n",
    " data-jupman-show=\"Mostra soluzione\" data-jupman-hide=\"Nascondi\">Mostra soluzione</a><div class=\"jupman-sol jupman-sol-code\" style=\"display:none\">  "
   ]
  },
  {
   "cell_type": "code",
   "execution_count": 5,
   "id": "5b7eb0bf",
   "metadata": {},
   "outputs": [],
   "source": [
    "# scrivi qui\n",
    "\n",
    "def coppie(d):\n",
    "    for chiave in d:\n",
    "        print(chiave,d[chiave])\n",
    "    \n",
    "#coppie({'a':5,'b':2,'c':9})"
   ]
  },
  {
   "cell_type": "raw",
   "id": "9bdb1706",
   "metadata": {
    "format": "text/html"
   },
   "source": [
    "</div>"
   ]
  },
  {
   "cell_type": "code",
   "execution_count": 5,
   "id": "5b7eb0bf-stripped",
   "metadata": {},
   "outputs": [],
   "source": [
    "# scrivi qui\n",
    "\n"
   ]
  },
  {
   "cell_type": "markdown",
   "id": "228dc52f",
   "metadata": {},
   "source": [
    "## Funzioni con assert\n",
    "\n",
    "<div class=\"alert alert-warning\">\n",
    "\n",
    "**ATTENZIONE**\n",
    "\n",
    "Gli esercizi che segueno contengono dei test con gli _assert_. Per capire come svolgerli, leggi prima [Gestione errori e testing](https://it.softpython.org/functions/fun2-errors-and-testing-sol.html) \n",
    "\n",
    "</div>\n",
    "\n"
   ]
  },
  {
   "cell_type": "markdown",
   "id": "d234f5d6",
   "metadata": {},
   "source": [
    "### istogramma\n",
    "\n",
    "✪✪ RITORNA un NUOVO dizionario. contenente una chiave per ogni carattere di stringa.\n",
    "A ciascuna chiave sarà associato come valore il numero di occorrenze del relativo carattere in stringa\n",
    "\n",
    "Ingredienti: \n",
    "\n",
    "- variabile dizionario da ritornare\n",
    "- ciclo for (dobbiamo iterare su stringa)\n",
    "- **NON** usare `Counter`\n",
    "        "
   ]
  },
  {
   "cell_type": "raw",
   "id": "3f33707a",
   "metadata": {
    "format": "text/html"
   },
   "source": [
    "<a  class=\"jupman-sol jupman-sol-toggler\" \n",
    " onclick=\"jupman.toggleSolution(this);\" \n",
    " data-jupman-show=\"Mostra soluzione\" data-jupman-hide=\"Nascondi\">Mostra soluzione</a><div class=\"jupman-sol jupman-sol-code\" style=\"display:none\">  "
   ]
  },
  {
   "cell_type": "code",
   "execution_count": 6,
   "id": "4f3521d4",
   "metadata": {},
   "outputs": [],
   "source": [
    "def istogramma(stringa):\n",
    "    \n",
    "    \n",
    "    diz = {}\n",
    "    for carattere in stringa:\n",
    "        if carattere in diz:\n",
    "            diz[carattere] += 1\n",
    "        else:\n",
    "            diz[carattere] = 1\n",
    "    return diz\n",
    "    \n",
    "\n",
    "# INIZIO TEST: NON TOCCARE QUESTA PARTE !\n",
    "# se hai scritto tutto il codice giusto, ed esegui la cella, Python non dovrebbe lanciare AssertionError\n",
    "assert istogramma(\"\") == {}\n",
    "assert istogramma(\"a\") == {'a':1}\n",
    "assert istogramma(\"aa\") == {'a':2}\n",
    "assert istogramma(\"aaa\") == {'a':3}\n",
    "assert istogramma(\"ba\") == {'a':1,\n",
    "                            'b':1}\n",
    "assert istogramma(\"aba\") == {'a':2,\n",
    "                             'b':1}\n",
    "assert istogramma(\"abc\") == {'a':1,\n",
    "                             'b':1,\n",
    "                             'c':1}\n",
    "assert istogramma(\"acccbb\") == {'a':1,\n",
    "                                'b':2,\n",
    "                                'c':3}\n"
   ]
  },
  {
   "cell_type": "raw",
   "id": "57655729",
   "metadata": {
    "format": "text/html"
   },
   "source": [
    "</div>"
   ]
  },
  {
   "cell_type": "code",
   "execution_count": 6,
   "id": "4f3521d4-stripped",
   "metadata": {},
   "outputs": [],
   "source": [
    "def istogramma(stringa):\n",
    "    \n",
    "    raise Exception('TODO IMPLEMENT ME !')\n",
    "\n",
    "# INIZIO TEST: NON TOCCARE QUESTA PARTE !\n",
    "# se hai scritto tutto il codice giusto, ed esegui la cella, Python non dovrebbe lanciare AssertionError\n",
    "assert istogramma(\"\") == {}\n",
    "assert istogramma(\"a\") == {'a':1}\n",
    "assert istogramma(\"aa\") == {'a':2}\n",
    "assert istogramma(\"aaa\") == {'a':3}\n",
    "assert istogramma(\"ba\") == {'a':1,\n",
    "                            'b':1}\n",
    "assert istogramma(\"aba\") == {'a':2,\n",
    "                             'b':1}\n",
    "assert istogramma(\"abc\") == {'a':1,\n",
    "                             'b':1,\n",
    "                             'c':1}\n",
    "assert istogramma(\"acccbb\") == {'a':1,\n",
    "                                'b':2,\n",
    "                                'c':3}\n"
   ]
  },
  {
   "cell_type": "markdown",
   "id": "25ee821d",
   "metadata": {},
   "source": [
    "### listifica\n",
    "\n",
    "✪✪ Prende un dizionario `d` come input e RITORNA una LISTA con soli i valori dal dizionario (quindi nessuna chiave)\n",
    "\n",
    "Per avere un ordine prevedibile, la funzione prende anche come input una lista `ordine`  dove vi sono chiavi dal primo dizionario ordinate come le vorremmo vedere nella lista risultante"
   ]
  },
  {
   "cell_type": "raw",
   "id": "23f6dc80",
   "metadata": {
    "format": "text/html"
   },
   "source": [
    "<a  class=\"jupman-sol jupman-sol-toggler\" \n",
    " onclick=\"jupman.toggleSolution(this);\" \n",
    " data-jupman-show=\"Mostra soluzione\" data-jupman-hide=\"Nascondi\">Mostra soluzione</a><div class=\"jupman-sol jupman-sol-code\" style=\"display:none\">  "
   ]
  },
  {
   "cell_type": "code",
   "execution_count": 7,
   "id": "f93ae544",
   "metadata": {},
   "outputs": [],
   "source": [
    "def listifica(d, ordine):\n",
    "    \n",
    "    ret = list()\n",
    "    for elemento in ordine:\n",
    "        ret.append (d[elemento])\n",
    "    return ret\n",
    "    \n",
    "\n",
    "# INIZIO TEST: NON TOCCARE QUESTA PARTE !\n",
    "# se hai scritto tutto il codice giusto, ed esegui la cella, python non dovrebbe lanciare AssertionError\n",
    "assert listifica({}, []) == []\n",
    "assert listifica({'ciao':123}, ['ciao']) == [123]\n",
    "assert listifica({'a':'x','b':'y'}, ['a','b']) == ['x','y']\n",
    "assert listifica({'a':'x','b':'y'}, ['b','a']) == ['y','x']\n",
    "assert listifica({'a':'x','b':'y','c':'x'}, ['c','a','b']) == ['x','x','y']\n",
    "assert listifica({'a':'x','b':'y','c':'x'}, ['b','c','a']) == ['y','x','x']\n",
    "assert listifica({'a':5,'b':2,'c':9}, ['b','c','a']) == [2,9,5]\n",
    "assert listifica({6:'x',8:'y',3:'x'}, [6,3,8]) == ['x','x','y']\n",
    "# FINE TEST"
   ]
  },
  {
   "cell_type": "raw",
   "id": "e8c17a44",
   "metadata": {
    "format": "text/html"
   },
   "source": [
    "</div>"
   ]
  },
  {
   "cell_type": "code",
   "execution_count": 7,
   "id": "f93ae544-stripped",
   "metadata": {},
   "outputs": [],
   "source": [
    "def listifica(d, ordine):\n",
    "    raise Exception('TODO IMPLEMENT ME !')\n",
    "\n",
    "# INIZIO TEST: NON TOCCARE QUESTA PARTE !\n",
    "# se hai scritto tutto il codice giusto, ed esegui la cella, python non dovrebbe lanciare AssertionError\n",
    "assert listifica({}, []) == []\n",
    "assert listifica({'ciao':123}, ['ciao']) == [123]\n",
    "assert listifica({'a':'x','b':'y'}, ['a','b']) == ['x','y']\n",
    "assert listifica({'a':'x','b':'y'}, ['b','a']) == ['y','x']\n",
    "assert listifica({'a':'x','b':'y','c':'x'}, ['c','a','b']) == ['x','x','y']\n",
    "assert listifica({'a':'x','b':'y','c':'x'}, ['b','c','a']) == ['y','x','x']\n",
    "assert listifica({'a':5,'b':2,'c':9}, ['b','c','a']) == [2,9,5]\n",
    "assert listifica({6:'x',8:'y',3:'x'}, [6,3,8]) == ['x','x','y']\n",
    "# FINE TEST"
   ]
  },
  {
   "cell_type": "markdown",
   "id": "ac4ced21",
   "metadata": {},
   "source": [
    "### tcont\n",
    "\n",
    "✪✪ Prende una lista di tuple. Ogni tupla ha due valori, il primo è un oggetto immutabile e il secondo un numero intero (il conteggio dell'oggetto). RITORNA un dizionario che per ogni oggetto immutabile trovato nelle tuple, associa il conteggio totale trovato.\n",
    "\n",
    "Per esempi vedere gli assert"
   ]
  },
  {
   "cell_type": "raw",
   "id": "a99fbeba",
   "metadata": {
    "format": "text/html"
   },
   "source": [
    "<a  class=\"jupman-sol jupman-sol-toggler\" \n",
    " onclick=\"jupman.toggleSolution(this);\" \n",
    " data-jupman-show=\"Mostra soluzione\" data-jupman-hide=\"Nascondi\">Mostra soluzione</a><div class=\"jupman-sol jupman-sol-code\" style=\"display:none\">  "
   ]
  },
  {
   "cell_type": "code",
   "execution_count": 8,
   "id": "6e5c7815",
   "metadata": {},
   "outputs": [],
   "source": [
    "def tcont(lst):\n",
    "    \n",
    "    ret = {}\n",
    "    for c in lst:\n",
    "        if c[0] in ret:\n",
    "            ret[c[0]] += c[1]\n",
    "        else:\n",
    "            ret[c[0]] = c[1]\n",
    "    return ret\n",
    "    \n",
    "\n",
    "# INIZIO TEST: NON TOCCARE QUESTA PARTE !\n",
    "# se hai scritto tutto il codice giusto, ed esegui la cella, Python non dovrebbe lanciare AssertionError\n",
    "assert tcont([]) == {}\n",
    "assert tcont([('a',3)]) == {'a':3}\n",
    "assert tcont([('a',3),('a',4)]) == {'a':7}\n",
    "assert tcont([('a',3),('b',8), ('a',4)]) == {'a':7, 'b':8}\n",
    "assert tcont([('a',5), ('c',8), ('b',7), ('a',2), ('a',1), ('c',4)]) == {'a':5+2+1, 'b':7, 'c': 8 + 4}\n",
    "# FINE TEST"
   ]
  },
  {
   "cell_type": "raw",
   "id": "6947b7b9",
   "metadata": {
    "format": "text/html"
   },
   "source": [
    "</div>"
   ]
  },
  {
   "cell_type": "code",
   "execution_count": 8,
   "id": "6e5c7815-stripped",
   "metadata": {},
   "outputs": [],
   "source": [
    "def tcont(lst):\n",
    "    raise Exception('TODO IMPLEMENT ME !')\n",
    "\n",
    "# INIZIO TEST: NON TOCCARE QUESTA PARTE !\n",
    "# se hai scritto tutto il codice giusto, ed esegui la cella, Python non dovrebbe lanciare AssertionError\n",
    "assert tcont([]) == {}\n",
    "assert tcont([('a',3)]) == {'a':3}\n",
    "assert tcont([('a',3),('a',4)]) == {'a':7}\n",
    "assert tcont([('a',3),('b',8), ('a',4)]) == {'a':7, 'b':8}\n",
    "assert tcont([('a',5), ('c',8), ('b',7), ('a',2), ('a',1), ('c',4)]) == {'a':5+2+1, 'b':7, 'c': 8 + 4}\n",
    "# FINE TEST"
   ]
  },
  {
   "cell_type": "markdown",
   "id": "318fbbfb",
   "metadata": {},
   "source": [
    "✪✪ Scrivi una funzione `inter(d1,d2)` che prende due dizionari e RITORNA un SET di chiavi per le quali la coppia è la stessa in entrambi i dizionari\n",
    " \n",
    "Esempio:\n",
    "\n",
    "```python\n",
    ">>> a = {'chiave1': 1, 'chiave2': 2 , 'chiave3': 3}\n",
    ">>> b = {'chiave1': 1 ,'chiave2': 3 , 'chiave3': 3}\n",
    ">>> inter(a,b)\n",
    "{'chiave1','chiave3'}\n",
    "```"
   ]
  },
  {
   "cell_type": "raw",
   "id": "1c933176",
   "metadata": {
    "format": "text/html"
   },
   "source": [
    "<a  class=\"jupman-sol jupman-sol-toggler\" \n",
    " onclick=\"jupman.toggleSolution(this);\" \n",
    " data-jupman-show=\"Mostra soluzione\" data-jupman-hide=\"Nascondi\">Mostra soluzione</a><div class=\"jupman-sol jupman-sol-code\" style=\"display:none\">  "
   ]
  },
  {
   "cell_type": "code",
   "execution_count": 9,
   "id": "b7476340",
   "metadata": {},
   "outputs": [],
   "source": [
    "\n",
    "def inter(d1, d2):\n",
    "    \n",
    "    res = set()\n",
    "    for chiave in d1:\n",
    "        if chiave in d2:\n",
    "            if d1[chiave] == d2[chiave]:\n",
    "                 res.add(chiave)\n",
    "    return res\n",
    "    \n",
    "\n",
    "\n",
    "# INIZIO TEST: NON TOCCARE QUESTA PARTE !\n",
    "# se hai scritto tutto il codice giusto, ed esegui la cella, Python non dovrebbe lanciare AssertionError\n",
    "assert inter({'key1': 1, 'key2': 2 , 'key3': 3}, {'key1':1 ,'key2':3 , 'key3':3}) == {'key1', 'key3'}\n",
    "assert inter(dict(), {'key1':1 ,'key2':3 , 'key3':3}) == set()\n",
    "assert inter({'key1':1 ,'key2':3 , 'key3':3}, dict()) == set()\n",
    "assert inter(dict(),dict()) == set()\n",
    "# FINE TEST\n"
   ]
  },
  {
   "cell_type": "raw",
   "id": "45af6c51",
   "metadata": {
    "format": "text/html"
   },
   "source": [
    "</div>"
   ]
  },
  {
   "cell_type": "code",
   "execution_count": 9,
   "id": "b7476340-stripped",
   "metadata": {},
   "outputs": [],
   "source": [
    "\n",
    "def inter(d1, d2):\n",
    "    raise Exception('TODO IMPLEMENT ME !')\n",
    "\n",
    "\n",
    "# INIZIO TEST: NON TOCCARE QUESTA PARTE !\n",
    "# se hai scritto tutto il codice giusto, ed esegui la cella, Python non dovrebbe lanciare AssertionError\n",
    "assert inter({'key1': 1, 'key2': 2 , 'key3': 3}, {'key1':1 ,'key2':3 , 'key3':3}) == {'key1', 'key3'}\n",
    "assert inter(dict(), {'key1':1 ,'key2':3 , 'key3':3}) == set()\n",
    "assert inter({'key1':1 ,'key2':3 , 'key3':3}, dict()) == set()\n",
    "assert inter(dict(),dict()) == set()\n",
    "# FINE TEST\n"
   ]
  },
  {
   "cell_type": "markdown",
   "id": "8053105e",
   "metadata": {},
   "source": [
    "### valori_unici\n",
    "\n",
    "✪✪ Scrivi una funzione `valori_unici(d)` che RITORNA una lista di valori unici dal dizionario. La lista DEVE essere ordinata alfanumericamente.\n",
    "\n",
    "Domanda: ci serve ordinata per fini di test. Come mai?\n",
    "\n",
    "* per ordinare la lista, usa il metodo `.sort()`\n",
    "\n",
    "Esempio:\n",
    "\n",
    "```python\n",
    ">>> valori_unici({'a':'y','b':'x','c':'x'})\n",
    "\n",
    "['x','y']\n",
    "```"
   ]
  },
  {
   "cell_type": "raw",
   "id": "98f75e0a",
   "metadata": {
    "format": "text/html"
   },
   "source": [
    "<a  class=\"jupman-sol jupman-sol-toggler\" \n",
    " onclick=\"jupman.toggleSolution(this);\" \n",
    " data-jupman-show=\"Mostra soluzione\" data-jupman-hide=\"Nascondi\">Mostra soluzione</a><div class=\"jupman-sol jupman-sol-code\" style=\"display:none\">  "
   ]
  },
  {
   "cell_type": "code",
   "execution_count": 10,
   "id": "5b4927ad",
   "metadata": {},
   "outputs": [],
   "source": [
    "def valori_unici(d):\n",
    "    \n",
    "    s = set(d.values())\n",
    "    ret = list(s)  # possiamo solo ordinare liste (gli insiemi non hanno ordine) \n",
    "    ret.sort()\n",
    "    return ret\n",
    "    \n",
    "\n",
    "# INIZIO TEST: NON TOCCARE QUESTA PARTE !\n",
    "# se hai scritto tutto il codice giusto, ed esegui la cella, Python non dovrebbe lanciare AssertionError\n",
    "assert valori_unici({}) == []\n",
    "assert valori_unici({'a':'y','b':'x','c':'x'}) == ['x','y']\n",
    "assert valori_unici({'a':4,'b':6,'c':4,'d':8}) == [4,6,8]\n",
    "# FINE TEST\n"
   ]
  },
  {
   "cell_type": "raw",
   "id": "0b94aa62",
   "metadata": {
    "format": "text/html"
   },
   "source": [
    "</div>"
   ]
  },
  {
   "cell_type": "code",
   "execution_count": 10,
   "id": "5b4927ad-stripped",
   "metadata": {},
   "outputs": [],
   "source": [
    "def valori_unici(d):\n",
    "    raise Exception('TODO IMPLEMENT ME !')\n",
    "\n",
    "# INIZIO TEST: NON TOCCARE QUESTA PARTE !\n",
    "# se hai scritto tutto il codice giusto, ed esegui la cella, Python non dovrebbe lanciare AssertionError\n",
    "assert valori_unici({}) == []\n",
    "assert valori_unici({'a':'y','b':'x','c':'x'}) == ['x','y']\n",
    "assert valori_unici({'a':4,'b':6,'c':4,'d':8}) == [4,6,8]\n",
    "# FINE TEST\n"
   ]
  },
  {
   "cell_type": "markdown",
   "id": "b6736f78",
   "metadata": {},
   "source": [
    "### maiuscole\n",
    "\n",
    "✪✪ RITORNA un dizionario che associa ad ogni stringa nella lista fornita la stessa stringa ma con tutte le lettere in maiuscolo\n",
    "\n",
    "Esempio:\n",
    "\n",
    "```python\n",
    ">>> `maiuscole([\"ciao\", \"mondo\", \"come va?\"])` \n",
    "{\"ciao\":\"CIAO\", \"mondo\":\"MONDO\", \"come va?\":\"COME VA?\"}\n",
    "```\n",
    "\n",
    "Ingredienti:\n",
    "\n",
    "    - ciclo `for`\n",
    "    - metodo `.upper()`"
   ]
  },
  {
   "cell_type": "raw",
   "id": "38f9e68e",
   "metadata": {
    "format": "text/html"
   },
   "source": [
    "<a  class=\"jupman-sol jupman-sol-toggler\" \n",
    " onclick=\"jupman.toggleSolution(this);\" \n",
    " data-jupman-show=\"Mostra soluzione\" data-jupman-hide=\"Nascondi\">Mostra soluzione</a><div class=\"jupman-sol jupman-sol-code\" style=\"display:none\">  "
   ]
  },
  {
   "cell_type": "code",
   "execution_count": 11,
   "id": "4a39eb69",
   "metadata": {},
   "outputs": [],
   "source": [
    "\n",
    "def maiuscole(lista):\n",
    "    \n",
    "    diz = {} \n",
    "    for stringa in lista:\n",
    "        diz[stringa] = stringa.upper()\n",
    "    return diz\n",
    "    \n",
    "    \n",
    "\n",
    "# INIZIO TEST: NON TOCCARE QUESTA PARTE !\n",
    "# se hai scritto tutto il codice giusto, ed esegui la cella, Python non dovrebbe lanciare AssertionError\n",
    "assert maiuscole([]) == {}\n",
    "assert maiuscole([\"ciao\"]) == {\"ciao\":\"CIAO\"}\n",
    "assert maiuscole([\"ciao\", \"mondo\"]) == {\"ciao\":\"CIAO\", \"mondo\":\"MONDO\"}\n",
    "assert maiuscole([\"ciao\", \"mondo\", \"ciao\"]) == {\"ciao\":\"CIAO\", \"mondo\":\"MONDO\"}\n",
    "assert maiuscole([\"ciao\", \"mondo\", \"come va?\"]) == {\"ciao\":\"CIAO\", \"mondo\":\"MONDO\", \"come va?\":\"COME VA?\"}\n",
    "# FINE TEST"
   ]
  },
  {
   "cell_type": "raw",
   "id": "f76c7dee",
   "metadata": {
    "format": "text/html"
   },
   "source": [
    "</div>"
   ]
  },
  {
   "cell_type": "code",
   "execution_count": 11,
   "id": "4a39eb69-stripped",
   "metadata": {},
   "outputs": [],
   "source": [
    "\n",
    "def maiuscole(lista):\n",
    "    raise Exception('TODO IMPLEMENT ME !')\n",
    "    \n",
    "\n",
    "# INIZIO TEST: NON TOCCARE QUESTA PARTE !\n",
    "# se hai scritto tutto il codice giusto, ed esegui la cella, Python non dovrebbe lanciare AssertionError\n",
    "assert maiuscole([]) == {}\n",
    "assert maiuscole([\"ciao\"]) == {\"ciao\":\"CIAO\"}\n",
    "assert maiuscole([\"ciao\", \"mondo\"]) == {\"ciao\":\"CIAO\", \"mondo\":\"MONDO\"}\n",
    "assert maiuscole([\"ciao\", \"mondo\", \"ciao\"]) == {\"ciao\":\"CIAO\", \"mondo\":\"MONDO\"}\n",
    "assert maiuscole([\"ciao\", \"mondo\", \"come va?\"]) == {\"ciao\":\"CIAO\", \"mondo\":\"MONDO\", \"come va?\":\"COME VA?\"}\n",
    "# FINE TEST"
   ]
  },
  {
   "cell_type": "markdown",
   "id": "a108ab31",
   "metadata": {},
   "source": [
    "### filtraz\n",
    "\n",
    "✪✪ RITORNA un NUOVO dizionario, che contiene solo le chiavi/valori del\n",
    "      dizionario diz in ingresso nella cui chiave è presente la lettera 'z'\n",
    "\n",
    "Esempio:\n",
    "\n",
    "```python\n",
    "filtraz({'zibibbo':'da bere',\n",
    "         'mc donald': 'da evitare',\n",
    "         'liquirizia': 'ze best',\n",
    "         'burger king': 'zozzerie'\n",
    "})\n",
    "```\n",
    "\n",
    "deve RITORNARE il NUOVO dizionario\n",
    "\n",
    "```python\n",
    "{\n",
    "'zibibbo':'da bere',\n",
    "'liquirizia': 'ze best'\n",
    "}\n",
    "```\n",
    "\n",
    "In altre parole, abbiamo solo tenuto quelle chiavi che contenevano almeno una `'z'`. Se nei valori ci sono `z` non ce ne curiamo.\n",
    "\n",
    "Ingredienti:\n",
    "\n",
    "Per vedere se 'z' è nella chiave, usare l'operatore  `in`  per es    \n",
    "```python\n",
    "    'z' in 'zibibbo' == True\n",
    "    'z' in 'mc donald' == False\n",
    "```\n"
   ]
  },
  {
   "cell_type": "raw",
   "id": "42c4bf64",
   "metadata": {
    "format": "text/html"
   },
   "source": [
    "<a  class=\"jupman-sol jupman-sol-toggler\" \n",
    " onclick=\"jupman.toggleSolution(this);\" \n",
    " data-jupman-show=\"Mostra soluzione\" data-jupman-hide=\"Nascondi\">Mostra soluzione</a><div class=\"jupman-sol jupman-sol-code\" style=\"display:none\">  "
   ]
  },
  {
   "cell_type": "code",
   "execution_count": 12,
   "id": "64c82e1a",
   "metadata": {},
   "outputs": [],
   "source": [
    "def filtraz(diz):    \n",
    "    \n",
    "    \n",
    "    ret = {}\n",
    "    for chiave in diz:\n",
    "        if 'z' in chiave:\n",
    "            ret[chiave] = diz[chiave]\n",
    "    return ret\n",
    "\n",
    "    \n",
    "\n",
    "\n",
    "# INIZIO TEST: NON TOCCARE QUESTA PARTE !\n",
    "# se hai scritto tutto il codice giusto, ed esegui la cella, Python non dovrebbe lanciare AssertionError\n",
    "assert filtraz({}) == {}\n",
    "assert filtraz({'az':'t'}) == {'az':'t'}\n",
    "assert filtraz({'zc':'w'}) == {'zc':'w'}\n",
    "assert filtraz({'b':'h'}) == {}\n",
    "assert filtraz({'b':'hz'}) == {}\n",
    "assert filtraz({'az':'t','b':'hz'}) == {'az':'t'}\n",
    "assert filtraz({'az':'t','b':'hz','zc':'w'}) == {'az':'t', 'zc':'w'}\n",
    "# FINE TEST"
   ]
  },
  {
   "cell_type": "raw",
   "id": "0d0e9547",
   "metadata": {
    "format": "text/html"
   },
   "source": [
    "</div>"
   ]
  },
  {
   "cell_type": "code",
   "execution_count": 12,
   "id": "64c82e1a-stripped",
   "metadata": {},
   "outputs": [],
   "source": [
    "def filtraz(diz):    \n",
    "    raise Exception('TODO IMPLEMENT ME !')\n",
    "\n",
    "\n",
    "# INIZIO TEST: NON TOCCARE QUESTA PARTE !\n",
    "# se hai scritto tutto il codice giusto, ed esegui la cella, Python non dovrebbe lanciare AssertionError\n",
    "assert filtraz({}) == {}\n",
    "assert filtraz({'az':'t'}) == {'az':'t'}\n",
    "assert filtraz({'zc':'w'}) == {'zc':'w'}\n",
    "assert filtraz({'b':'h'}) == {}\n",
    "assert filtraz({'b':'hz'}) == {}\n",
    "assert filtraz({'az':'t','b':'hz'}) == {'az':'t'}\n",
    "assert filtraz({'az':'t','b':'hz','zc':'w'}) == {'az':'t', 'zc':'w'}\n",
    "# FINE TEST"
   ]
  },
  {
   "cell_type": "markdown",
   "id": "4a9aaa0e",
   "metadata": {},
   "source": [
    "### powers\n",
    "\n",
    "✪✪ RITORNA un dizionario in cui le chiavi sono numeri interi da 1 a `n` inclusi, e i rispettivi \n",
    "valori sono i quadrati delle chiavi \n",
    "\n",
    "Esempio:\n",
    "\n",
    "```python\n",
    "powers(3)\n",
    "```\n",
    "\n",
    "Ritorna\n",
    "\n",
    "```\n",
    "{\n",
    " 1:1,\n",
    " 2:4,\n",
    " 3:9\n",
    "}\n",
    "```\n"
   ]
  },
  {
   "cell_type": "raw",
   "id": "d28b9c8a",
   "metadata": {
    "format": "text/html"
   },
   "source": [
    "<a  class=\"jupman-sol jupman-sol-toggler\" \n",
    " onclick=\"jupman.toggleSolution(this);\" \n",
    " data-jupman-show=\"Mostra soluzione\" data-jupman-hide=\"Nascondi\">Mostra soluzione</a><div class=\"jupman-sol jupman-sol-code\" style=\"display:none\">  "
   ]
  },
  {
   "cell_type": "code",
   "execution_count": 13,
   "id": "a8c8327f",
   "metadata": {},
   "outputs": [],
   "source": [
    "\n",
    "def powers(n):\n",
    "    \n",
    "    d=dict()\n",
    "    for i in range(1,n+1):\n",
    "        d[i]=i**2\n",
    "    return d\n",
    "    \n",
    "\n",
    "# INIZIO TEST: NON TOCCARE QUESTA PARTE !\n",
    "# se hai scritto tutto il codice giusto, ed esegui la cella, Python non dovrebbe lanciare AssertionError\n",
    "assert powers(1) == {1:1}\n",
    "assert powers(2) == {\n",
    "                        1:1,\n",
    "                        2:4\n",
    "                    }\n",
    "assert powers(3) == {\n",
    "                        1:1,\n",
    "                        2:4,\n",
    "                        3:9\n",
    "                    }\n",
    "\n",
    "assert powers(4) == {\n",
    "                        1:1,\n",
    "                        2:4,\n",
    "                        3:9,\n",
    "                        4:16\n",
    "                    }\n",
    "# FINE TEST\n"
   ]
  },
  {
   "cell_type": "raw",
   "id": "b46fc430",
   "metadata": {
    "format": "text/html"
   },
   "source": [
    "</div>"
   ]
  },
  {
   "cell_type": "code",
   "execution_count": 13,
   "id": "a8c8327f-stripped",
   "metadata": {},
   "outputs": [],
   "source": [
    "\n",
    "def powers(n):\n",
    "    raise Exception('TODO IMPLEMENT ME !')\n",
    "\n",
    "# INIZIO TEST: NON TOCCARE QUESTA PARTE !\n",
    "# se hai scritto tutto il codice giusto, ed esegui la cella, Python non dovrebbe lanciare AssertionError\n",
    "assert powers(1) == {1:1}\n",
    "assert powers(2) == {\n",
    "                        1:1,\n",
    "                        2:4\n",
    "                    }\n",
    "assert powers(3) == {\n",
    "                        1:1,\n",
    "                        2:4,\n",
    "                        3:9\n",
    "                    }\n",
    "\n",
    "assert powers(4) == {\n",
    "                        1:1,\n",
    "                        2:4,\n",
    "                        3:9,\n",
    "                        4:16\n",
    "                    }\n",
    "# FINE TEST\n"
   ]
  },
  {
   "cell_type": "markdown",
   "id": "2e61d6db",
   "metadata": {},
   "source": [
    "### dilist\n",
    "\n",
    "✪✪ Restituisce un dizionario con `n` coppie chiave-valore, dove le chiavi sono  numeri interi da `1` a `n` incluso, e ad ogni chiave `i` è associata una lista di numeri da `1` a `i`\n",
    "\n",
    "NOTA: le chiavi sono *numeri interi*, NON stringhe !!!!!\n",
    "\n",
    "Esempio:\n",
    "\n",
    "```python\n",
    "dilist(3)\n",
    "```\n",
    "\n",
    "deve dare:\n",
    "\n",
    "```python\n",
    "{ \n",
    "    1:[1],\n",
    "    2:[1,2],\n",
    "    3:[1,2,3]\n",
    "}\n",
    "```\n"
   ]
  },
  {
   "cell_type": "raw",
   "id": "d35582ff",
   "metadata": {
    "format": "text/html"
   },
   "source": [
    "<a  class=\"jupman-sol jupman-sol-toggler\" \n",
    " onclick=\"jupman.toggleSolution(this);\" \n",
    " data-jupman-show=\"Mostra soluzione\" data-jupman-hide=\"Nascondi\">Mostra soluzione</a><div class=\"jupman-sol jupman-sol-code\" style=\"display:none\">  "
   ]
  },
  {
   "cell_type": "code",
   "execution_count": 14,
   "id": "1a6618c8",
   "metadata": {},
   "outputs": [],
   "source": [
    "\n",
    "\n",
    "def dilist(n):\n",
    "    \n",
    "    ret = dict()\n",
    "    for i in range(1,n+1):\n",
    "        lista = []\n",
    "        for j in range(1,i+1):\n",
    "            lista.append(j)\n",
    "        ret[i] = lista\n",
    "    return ret\n",
    "    \n",
    "\n",
    "# INIZIO TEST: NON TOCCARE QUESTA PARTE !\n",
    "# se hai scritto tutto il codice giusto, ed esegui la cella, Python non dovrebbe lanciare AssertionError\n",
    "assert dilist(0) == dict()\n",
    "assert dilist(1) == {\n",
    "                        1:[1]\n",
    "                    }\n",
    "assert dilist(2) == { \n",
    "                        1:[1],\n",
    "                        2:[1,2]\n",
    "                    }\n",
    "assert dilist(3) == { \n",
    "                        1:[1],\n",
    "                        2:[1,2],\n",
    "                        3:[1,2,3]\n",
    "                    }\n",
    "# FINE TEST"
   ]
  },
  {
   "cell_type": "raw",
   "id": "1ff99dd0",
   "metadata": {
    "format": "text/html"
   },
   "source": [
    "</div>"
   ]
  },
  {
   "cell_type": "code",
   "execution_count": 14,
   "id": "1a6618c8-stripped",
   "metadata": {},
   "outputs": [],
   "source": [
    "\n",
    "\n",
    "def dilist(n):\n",
    "    raise Exception('TODO IMPLEMENT ME !')\n",
    "\n",
    "# INIZIO TEST: NON TOCCARE QUESTA PARTE !\n",
    "# se hai scritto tutto il codice giusto, ed esegui la cella, Python non dovrebbe lanciare AssertionError\n",
    "assert dilist(0) == dict()\n",
    "assert dilist(1) == {\n",
    "                        1:[1]\n",
    "                    }\n",
    "assert dilist(2) == { \n",
    "                        1:[1],\n",
    "                        2:[1,2]\n",
    "                    }\n",
    "assert dilist(3) == { \n",
    "                        1:[1],\n",
    "                        2:[1,2],\n",
    "                        3:[1,2,3]\n",
    "                    }\n",
    "# FINE TEST"
   ]
  },
  {
   "cell_type": "markdown",
   "id": "e2b48652",
   "metadata": {},
   "source": [
    "### prefissi\n",
    "\n",
    "\n",
    "✪✪ Scrivere una funzione `prefissi` che dati:\n",
    "\n",
    "- un dizionario `diz` avente come chiavi province italiane e come valori i loro prefissi telefonici (nota: anche i prefissi sono stringhe!)\n",
    "- una lista `province` con le province italiane\n",
    "\n",
    "RITORNA una lista di prefissi corrispondenti alle province della lista passata\n",
    "\n",
    "Esempio:\n",
    "\n",
    "```python\n",
    "prefissi({\n",
    "            'tn':'0461', \n",
    "            'bz':'0471', \n",
    "            'mi':'02', \n",
    "            'to':'011',\n",
    "            'bo':'051'\n",
    "          }, \n",
    "          ['tn','to', 'mi'])\n",
    "```\n",
    "\n",
    "deve ritornare\n",
    "\n",
    "```python\n",
    "['0461', '011', '02']\n",
    "```\n",
    "\n",
    "SUGGERIMENTI:\n",
    "\n",
    "- inizializzare lista vuota da ritornare\n",
    "- scorrere la lista di province e pescarsi i corrispondenti prefissi dal dizionario\n"
   ]
  },
  {
   "cell_type": "raw",
   "id": "e64040b4",
   "metadata": {
    "format": "text/html"
   },
   "source": [
    "<a  class=\"jupman-sol jupman-sol-toggler\" \n",
    " onclick=\"jupman.toggleSolution(this);\" \n",
    " data-jupman-show=\"Mostra soluzione\" data-jupman-hide=\"Nascondi\">Mostra soluzione</a><div class=\"jupman-sol jupman-sol-code\" style=\"display:none\">  "
   ]
  },
  {
   "cell_type": "code",
   "execution_count": 15,
   "id": "0e88db9d",
   "metadata": {},
   "outputs": [],
   "source": [
    "def prefissi(diz, province):\n",
    "    \n",
    "    \n",
    "    ret = []\n",
    "    for provincia in province:\n",
    "        ret.append(diz[provincia])\n",
    "    \n",
    "    return ret\n",
    "    \n",
    "\n",
    "# INIZIO TEST: NON TOCCARE QUESTA PARTE !\n",
    "# se hai scritto tutto il codice giusto, ed esegui la cella, Python non dovrebbe lanciare AssertionError\n",
    "assert prefissi({'tn':'0461'}, []) == []    \n",
    "assert prefissi({'tn':'0461'}, ['tn']) == ['0461']\n",
    "assert prefissi({'tn':'0461', 'bz':'0471'}, ['tn']) == ['0461']\n",
    "assert prefissi({'tn':'0461', 'bz':'0471'}, ['bz']) == ['0471']\n",
    "assert prefissi({'tn':'0461', 'bz':'0471'}, ['tn','bz']) == ['0461', '0471']\n",
    "assert prefissi({'tn':'0461', 'bz':'0471'}, ['bz','tn']) == ['0471', '0461']\n",
    "assert prefissi({'tn':'0461', \n",
    "                 'bz':'0471', \n",
    "                 'mi':'02', \n",
    "                 'to':'011',\n",
    "                 'bo':'051'\n",
    "                }, \n",
    "                ['tn','to', 'mi']) == ['0461', '011', '02']\n",
    "# FINE TEST"
   ]
  },
  {
   "cell_type": "raw",
   "id": "f26ee24a",
   "metadata": {
    "format": "text/html"
   },
   "source": [
    "</div>"
   ]
  },
  {
   "cell_type": "code",
   "execution_count": 15,
   "id": "0e88db9d-stripped",
   "metadata": {},
   "outputs": [],
   "source": [
    "def prefissi(diz, province):\n",
    "    \n",
    "    raise Exception('TODO IMPLEMENT ME !')\n",
    "\n",
    "# INIZIO TEST: NON TOCCARE QUESTA PARTE !\n",
    "# se hai scritto tutto il codice giusto, ed esegui la cella, Python non dovrebbe lanciare AssertionError\n",
    "assert prefissi({'tn':'0461'}, []) == []    \n",
    "assert prefissi({'tn':'0461'}, ['tn']) == ['0461']\n",
    "assert prefissi({'tn':'0461', 'bz':'0471'}, ['tn']) == ['0461']\n",
    "assert prefissi({'tn':'0461', 'bz':'0471'}, ['bz']) == ['0471']\n",
    "assert prefissi({'tn':'0461', 'bz':'0471'}, ['tn','bz']) == ['0461', '0471']\n",
    "assert prefissi({'tn':'0461', 'bz':'0471'}, ['bz','tn']) == ['0471', '0461']\n",
    "assert prefissi({'tn':'0461', \n",
    "                 'bz':'0471', \n",
    "                 'mi':'02', \n",
    "                 'to':'011',\n",
    "                 'bo':'051'\n",
    "                }, \n",
    "                ['tn','to', 'mi']) == ['0461', '011', '02']\n",
    "# FINE TEST"
   ]
  },
  {
   "cell_type": "markdown",
   "id": "ac39989e",
   "metadata": {},
   "source": [
    "### traduci\n",
    "\n",
    "✪✪ L'italiano è oramai una lingua obsoleta, perciò va soppiantata dall'inglese che\n",
    " è più _trendy_. A tal fine, scrivere una funzione che prende una frase come \n",
    " lista di parole e un dizionario di traduzioni italiano-inglese, e RITORNA una \n",
    "NUOVA lista in cui tutte le parole della lista originale e che sono presenti \n",
    "come chiavi nel dizionario sono sostituite con la corrispondente voce \n",
    "in inglese. \n",
    "\n",
    "Se non c'è traduzione, viene messa la parola in italiano.\n",
    "\n",
    "Esempio:\n",
    "\n",
    "```python\n",
    "lista = [\"Oggi\", \"ho\", \"una riunione\", \"dove\", \"discuteremo\", \"gli obiettivi\", \"da\", \"raggiungere\", \"per\", \"soddisfare\", \"i nostri clienti\" ] \n",
    "\n",
    "inglesismi={\n",
    "    \"una riunione\": \"un meeting\",\n",
    "    \"gli obiettivi\" : \"i goal\",\n",
    "    \"i nostri clienti\" : \"il nostro target\"\n",
    "}\n",
    "\n",
    "\n",
    "traduci(lista, inglesismi)\n",
    "```\n",
    "\n",
    "deve ritornare\n",
    "\n",
    "```python\n",
    "[\"Oggi\", \"ho\", \"un meeting\", \"dove\", \"discuteremo\", \"i goal\", \"da\", \"raggiungere\", \"per\", \"soddisfare\", \"il nostro target\"]\n",
    "```\n"
   ]
  },
  {
   "cell_type": "raw",
   "id": "f016b7c0",
   "metadata": {
    "format": "text/html"
   },
   "source": [
    "<a  class=\"jupman-sol jupman-sol-toggler\" \n",
    " onclick=\"jupman.toggleSolution(this);\" \n",
    " data-jupman-show=\"Mostra soluzione\" data-jupman-hide=\"Nascondi\">Mostra soluzione</a><div class=\"jupman-sol jupman-sol-code\" style=\"display:none\">  "
   ]
  },
  {
   "cell_type": "code",
   "execution_count": 16,
   "id": "6fb111ba",
   "metadata": {},
   "outputs": [],
   "source": [
    "def traduci(lista, inglesismi):\n",
    "    \n",
    "    ret = []\n",
    "    for parola in lista:\n",
    "        if parola in inglesismi:\n",
    "            ret.append(inglesismi[parola])\n",
    "        else:\n",
    "            ret.append(parola)\n",
    "    return ret\n",
    "    \n",
    "    \n",
    "\n",
    "# INIZIO TEST: NON TOCCARE QUESTA PARTE !\n",
    "# se hai scritto tutto il codice giusto, ed esegui la cella, Python non dovrebbe lanciare AssertionError\n",
    "assert traduci([], {}) == []\n",
    "assert traduci(['a'], {}) == ['a']\n",
    "assert traduci(['a'], {'a':'x'}) == ['x']\n",
    "assert traduci(['a b'], {'a b':'x'}) == ['x']\n",
    "assert traduci(['a','b'], {'a':'x'}) == ['x','b']\n",
    "assert traduci(['a','b'], {'a':'x','b':'y'}) == ['x','y']\n",
    "assert traduci([\"Oggi\", \"ho\", \"una riunione\", \"dove\", \"discuteremo\", \n",
    "\"gli obiettivi\", \"da\", \"raggiungere\", \"per\", \"soddisfare\", \"i nostri clienti\"],\n",
    " {\n",
    "     \"una riunione\": \"un meeting\",\n",
    "     \"gli obiettivi\" : \"i goal\",\n",
    "     \"i nostri clienti\" : \"il nostro target\"\n",
    "}) == [\"Oggi\", \"ho\", \"un meeting\", \"dove\", \"discuteremo\", \"i goal\", \"da\",\n",
    " \"raggiungere\", \"per\", \"soddisfare\", \"il nostro target\"] \n",
    "# FINE TEST\n",
    "    \n",
    " "
   ]
  },
  {
   "cell_type": "raw",
   "id": "7ebc7534",
   "metadata": {
    "format": "text/html"
   },
   "source": [
    "</div>"
   ]
  },
  {
   "cell_type": "code",
   "execution_count": 16,
   "id": "6fb111ba-stripped",
   "metadata": {},
   "outputs": [],
   "source": [
    "def traduci(lista, inglesismi):\n",
    "    raise Exception('TODO IMPLEMENT ME !')\n",
    "    \n",
    "\n",
    "# INIZIO TEST: NON TOCCARE QUESTA PARTE !\n",
    "# se hai scritto tutto il codice giusto, ed esegui la cella, Python non dovrebbe lanciare AssertionError\n",
    "assert traduci([], {}) == []\n",
    "assert traduci(['a'], {}) == ['a']\n",
    "assert traduci(['a'], {'a':'x'}) == ['x']\n",
    "assert traduci(['a b'], {'a b':'x'}) == ['x']\n",
    "assert traduci(['a','b'], {'a':'x'}) == ['x','b']\n",
    "assert traduci(['a','b'], {'a':'x','b':'y'}) == ['x','y']\n",
    "assert traduci([\"Oggi\", \"ho\", \"una riunione\", \"dove\", \"discuteremo\", \n",
    "\"gli obiettivi\", \"da\", \"raggiungere\", \"per\", \"soddisfare\", \"i nostri clienti\"],\n",
    " {\n",
    "     \"una riunione\": \"un meeting\",\n",
    "     \"gli obiettivi\" : \"i goal\",\n",
    "     \"i nostri clienti\" : \"il nostro target\"\n",
    "}) == [\"Oggi\", \"ho\", \"un meeting\", \"dove\", \"discuteremo\", \"i goal\", \"da\",\n",
    " \"raggiungere\", \"per\", \"soddisfare\", \"il nostro target\"] \n",
    "# FINE TEST\n",
    "    \n",
    " "
   ]
  },
  {
   "cell_type": "markdown",
   "id": "5bc208a5",
   "metadata": {},
   "source": [
    "### dopocar\n",
    "\n",
    "Data una stringa di almeno due lettere, RITORNA un NUOVO dizionario in cui ogni lettera è associata alla lettera successiva\n",
    "\n",
    "- NOTA: si suppone che la stringa abbia tutti i caratteri diversi"
   ]
  },
  {
   "cell_type": "raw",
   "id": "128ace36",
   "metadata": {
    "format": "text/html"
   },
   "source": [
    "<a  class=\"jupman-sol jupman-sol-toggler\" \n",
    " onclick=\"jupman.toggleSolution(this);\" \n",
    " data-jupman-show=\"Mostra soluzione\" data-jupman-hide=\"Nascondi\">Mostra soluzione</a><div class=\"jupman-sol jupman-sol-code\" style=\"display:none\">  "
   ]
  },
  {
   "cell_type": "code",
   "execution_count": 17,
   "id": "db9ad28a",
   "metadata": {},
   "outputs": [],
   "source": [
    "def dopocar(stringa):\n",
    "    \n",
    "    diz = {}\n",
    "    for i in range(len(stringa) - 1):        \n",
    "        diz[stringa[i]] = stringa[i + 1]\n",
    "    return diz\n",
    "    \n",
    "    \n",
    "\n",
    "assert dopocar('ab') == {'a':'b'}\n",
    "assert dopocar('cera') == {'c':'e',\n",
    "                           'e':'r',\n",
    "                           'r':'a'}\n",
    "assert dopocar('orchestra') == {'o': 'r', \n",
    "                                'c': 'h', \n",
    "                                'h': 'e', \n",
    "                                'e': 's', \n",
    "                                's': 't', \n",
    "                                't': 'r',\n",
    "                                'r': 'a'}\n"
   ]
  },
  {
   "cell_type": "raw",
   "id": "a8371651",
   "metadata": {
    "format": "text/html"
   },
   "source": [
    "</div>"
   ]
  },
  {
   "cell_type": "code",
   "execution_count": 17,
   "id": "db9ad28a-stripped",
   "metadata": {},
   "outputs": [],
   "source": [
    "def dopocar(stringa):\n",
    "    raise Exception('TODO IMPLEMENT ME !')\n",
    "    \n",
    "\n",
    "assert dopocar('ab') == {'a':'b'}\n",
    "assert dopocar('cera') == {'c':'e',\n",
    "                           'e':'r',\n",
    "                           'r':'a'}\n",
    "assert dopocar('orchestra') == {'o': 'r', \n",
    "                                'c': 'h', \n",
    "                                'h': 'e', \n",
    "                                'e': 's', \n",
    "                                's': 't', \n",
    "                                't': 'r',\n",
    "                                'r': 'a'}\n"
   ]
  },
  {
   "cell_type": "markdown",
   "id": "85f9ff5a",
   "metadata": {},
   "source": [
    "### bestmecha\n",
    "\n",
    "✪✪✪ Dato un dizionario che assegna a `n` nomi di anime giapponesi una preferenza da 1 a `n` (1=più favorito n=meno favorito), RITORNA una NUOVA lista con i nomi in ordine di preferenza dal più al meno preferito.\n",
    "\n",
    "* **NON** usare `lambda`"
   ]
  },
  {
   "cell_type": "raw",
   "id": "9acc35c9",
   "metadata": {
    "format": "text/html"
   },
   "source": [
    "<a  class=\"jupman-sol jupman-sol-toggler\" \n",
    " onclick=\"jupman.toggleSolution(this);\" \n",
    " data-jupman-show=\"Mostra soluzione\" data-jupman-hide=\"Nascondi\">Mostra soluzione</a><div class=\"jupman-sol jupman-sol-code\" style=\"display:none\">  "
   ]
  },
  {
   "cell_type": "code",
   "execution_count": 18,
   "id": "02141391",
   "metadata": {},
   "outputs": [],
   "source": [
    "def bestmecha(diz):\n",
    "    \n",
    "    ret = [None]*len(diz)  \n",
    "    for k in diz:\n",
    "        ret[diz[k] - 1] = k \n",
    "    \n",
    "    return ret\n",
    "    \n",
    "\n",
    "\n",
    "assert bestmecha( {'Macross'    : 1} ) == ['Macross']\n",
    "assert bestmecha( {'Patlabor'   : 2,\n",
    "                   'Evangelion' : 1} ) == ['Evangelion','Patlabor']\n",
    "assert bestmecha( {'Gundam'    : 3,\n",
    "                   'Evangelion': 2,\n",
    "                   'Patlabor'  : 4,              \n",
    "                   'Macross'   : 1} ) == ['Macross', 'Evangelion', 'Gundam', 'Patlabor']"
   ]
  },
  {
   "cell_type": "raw",
   "id": "44762435",
   "metadata": {
    "format": "text/html"
   },
   "source": [
    "</div>"
   ]
  },
  {
   "cell_type": "code",
   "execution_count": 18,
   "id": "02141391-stripped",
   "metadata": {},
   "outputs": [],
   "source": [
    "def bestmecha(diz):\n",
    "    raise Exception('TODO IMPLEMENT ME !')\n",
    "\n",
    "\n",
    "assert bestmecha( {'Macross'    : 1} ) == ['Macross']\n",
    "assert bestmecha( {'Patlabor'   : 2,\n",
    "                   'Evangelion' : 1} ) == ['Evangelion','Patlabor']\n",
    "assert bestmecha( {'Gundam'    : 3,\n",
    "                   'Evangelion': 2,\n",
    "                   'Patlabor'  : 4,              \n",
    "                   'Macross'   : 1} ) == ['Macross', 'Evangelion', 'Gundam', 'Patlabor']"
   ]
  },
  {
   "cell_type": "markdown",
   "id": "f07275c6",
   "metadata": {},
   "source": [
    "## Prosegui\n",
    "\n",
    "Continua con [le challenge](https://it.softpython.org/functions/fun8-chal.html)"
   ]
  }
 ],
 "metadata": {
  "kernelspec": {
   "display_name": "Python 3 (ipykernel)",
   "language": "python",
   "name": "python3"
  },
  "language_info": {
   "codemirror_mode": {
    "name": "ipython",
    "version": 3
   },
   "file_extension": ".py",
   "mimetype": "text/x-python",
   "name": "python",
   "nbconvert_exporter": "python",
   "pygments_lexer": "ipython3",
   "version": "3.7.10"
  },
  "toc": {
   "base_numbering": 1,
   "nav_menu": {},
   "number_sections": false,
   "sideBar": true,
   "skip_h1_title": false,
   "title_cell": "Table of Contents",
   "title_sidebar": "Contents",
   "toc_cell": false,
   "toc_position": {},
   "toc_section_display": true,
   "toc_window_display": true
  }
 },
 "nbformat": 4,
 "nbformat_minor": 5
}

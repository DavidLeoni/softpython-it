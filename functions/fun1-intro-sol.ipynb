{
 "cells": [
  {
   "cell_type": "code",
   "execution_count": 1,
   "metadata": {
    "nbsphinx": "hidden"
   },
   "outputs": [],
   "source": [
    "# Ricordati di eseguire questa cella\n",
    "import jupman;"
   ]
  },
  {
   "cell_type": "markdown",
   "metadata": {},
   "source": [
    "# Funzioni 1 - introduzione\n",
    "\n",
    "## [Scarica zip esercizi](../_static/generated/functions.zip)\n",
    "\n",
    "[Naviga file online](https://github.com/DavidLeoni/softpython-it/tree/master/functions)\n",
    "\n",
    "\n",
    "Una funzione è del codice che prende in input dei parametri e li usa per produrre o riportare qualche risultato.\n",
    "\n",
    "<div class=\"alert alert-warning\">\n",
    "    \n",
    "**ATTENZIONE: questa guida è IN PROGRESS**\n",
    "\n",
    "Per maggiori informazioni, vedere [Pensare in Python, di Allen B. Downey](https://davidleoni.github.io/ThinkPythonItalian/html/thinkpython2004.html)\n",
    "</div>    "
   ]
  },
  {
   "cell_type": "markdown",
   "metadata": {},
   "source": [
    "## Cosa fare\n",
    "\n",
    "- scompatta lo zip in una cartella, dovresti ottenere qualcosa del genere: \n",
    "\n",
    "```\n",
    "functions\n",
    "    fun1-intro.ipynb\n",
    "    fun1-intro-sol.ipynb   \n",
    "    fun2-errors-and-testing.ipynb\n",
    "    fun2-errors-and-testing-sol.ipynb\n",
    "    fun3-strings.ipynb\n",
    "    fun3-strings-sol.ipynb\n",
    "    fun4-lists.ipynb\n",
    "    fun4-lists-sol.ipynb\n",
    "    fun5-tuples.ipynb\n",
    "    fun5-tuples-sol.ipynb\n",
    "    fun6-sets.ipynb\n",
    "    fun6-sets-sol.ipynb\n",
    "    fun7-dictionaries.ipynb\n",
    "    fun7-dictionaries-sol.ipynb\n",
    "    fun8-chal.ipynb\n",
    "    jupman.py\n",
    "```\n",
    "\n",
    "<div class=\"alert alert-warning\">\n",
    "\n",
    "**ATTENZIONE**: Per essere visualizzato correttamente, il file del notebook DEVE essere nella cartella szippata.\n",
    "</div>\n",
    "\n",
    "- apri il Jupyter Notebook da quella cartella. Due cose dovrebbero aprirsi, prima una console e poi un browser. Il browser dovrebbe mostrare una lista di file: naviga la lista e apri il notebook `fun1-intro.ipynb`\n",
    "- Prosegui leggendo il file degli esercizi, seguendo le istruzioni\n",
    "\n",
    "\n",
    "Scorciatoie da tastiera:\n",
    "\n",
    "* Per eseguire il codice Python dentro una cella di Jupyter, premi `Control+Invio`\n",
    "* Per eseguire il codice Python dentro una cella di Jupyter E selezionare la cella seguente, premi `Shift+Invio`\n",
    "* Per eseguire il codice Python dentro una cella di Jupyter E creare una nuova cella subito dopo, premi `Alt+Invio`\n",
    "* Se per caso il Notebook sembra inchiodato, prova a selezionare `Kernel -> Restart`"
   ]
  },
  {
   "cell_type": "markdown",
   "metadata": {},
   "source": [
    "## Perchè le funzioni?\n",
    "\n",
    "\n",
    "Ci sono diversi motivi per cui potremmo voler crearci le nostre funzioni, per esempio:\n",
    "\n",
    "* Ridurre la duplicazione del codice: mettere nelle funzioni parti di codice che sono necessarie diverse volte nell'intero programma, così non hai bisogno di ripetere lo stesso codice più volte;\n",
    "\n",
    "*  Decomporre un task complesso: rendere il codice più semplice da scrivere e comprendere separando un programma intero in funzioni più semplici.\n"
   ]
  },
  {
   "cell_type": "markdown",
   "metadata": {},
   "source": [
    "**DOMANDE**: Per ciascun frammento di codice che segue, prova a indovinare che risultato produce (o se da errore)\n",
    "\n",
    "\n",
    "1.  ```python\n",
    "    def f():\n",
    "    print('car')\n",
    "    f()\n",
    "    ```\n",
    "1.  ```python\n",
    "    def f():\n",
    "        print('car')\n",
    "    f()\n",
    "    ```\n",
    "1.  ```python\n",
    "    def f():\n",
    "    return 3\n",
    "    f()\n",
    "    ```\n",
    "1.  ```python\n",
    "    def f():\n",
    "        return 3\n",
    "    f()\n",
    "    ```\n",
    "1.  ```python\n",
    "    def f():\n",
    "        return 3\n",
    "    f()f()\n",
    "    ```\n",
    "1.  ```python\n",
    "    def f():\n",
    "        return 3\n",
    "    f()*f()\n",
    "    ```\n",
    "1.  ```python\n",
    "    def f():\n",
    "        pass        \n",
    "    f()\n",
    "    ```\n",
    "1.  ```python\n",
    "    def f():\n",
    "        pass\n",
    "        print(\"ciao\")\n",
    "    f()\n",
    "    ```\n",
    "1.  ```python\n",
    "    def f(x):\n",
    "        return x\n",
    "    f()\n",
    "    ```    \n",
    "1.  ```python\n",
    "    def f(x):\n",
    "        return x\n",
    "    f(5)\n",
    "    ```\n",
    "1.  ```python\n",
    "    def f():\n",
    "        print('fire')        \n",
    "    x = f()\n",
    "    print(x)\n",
    "    ```\n",
    "1.  ```python\n",
    "    def f():\n",
    "        return(print('fire'))\n",
    "    print(f())\n",
    "    ```\n",
    "1.  ```python\n",
    "    def f(x):\n",
    "        return 'x'\n",
    "    print(f(5))\n",
    "    ```\n",
    "1.  ```python\n",
    "    def f(x):\n",
    "        return x\n",
    "    print(f(5))\n",
    "    ```\n",
    "1.  ```python\n",
    "    def etc():\n",
    "        print('etc...')\n",
    "        return etc()\n",
    "    etc()\n",
    "    ```\n",
    "1.  ```python\n",
    "    def gu():\n",
    "        print('GU')\n",
    "        ru()\n",
    "        \n",
    "    def ru():\n",
    "        print('RU')\n",
    "        gu()        \n",
    "        \n",
    "    gu()\n",
    "    ```    "
   ]
  },
  {
   "cell_type": "markdown",
   "metadata": {},
   "source": [
    "## Saper distinguere le funzioni\n",
    "\n",
    "Puoi trovare all'incirca 5 categorie di funzioni nel mondo là fuori:\n",
    "\n",
    "1. PRODUCE _SIDE EFFECTS_: \n",
    "\n",
    "    * STAMPA / RICHIEDE INPUT MANUALE / SCRIVE modificando l'ambiente in qualche modo, per esempio stampando caratteri sullo schermo, chiedendo in modo interattivo dati all'utente o scrivendo in un file.\n",
    "2. RITORNA un valore\n",
    "3. MODIFICA l'input\n",
    "4. MODIFICA l'input e lo RITORNA (permette la concatenazione di chiamate, detto _chaining_)\n",
    "5. MODIFICA l'input e RITORNA qualcosa derivato dall'input\n",
    "\n",
    "Proviamo ora a capire le differenze con diversi esempi."
   ]
  },
  {
   "cell_type": "markdown",
   "metadata": {},
   "source": [
    "### SIDE EFFECTS\n",
    "\n",
    "Fa solo una STAMPA, RICHIEDE INPUT INTERATTIVO oppure SCRIVE SU FILE\n",
    "\n",
    "- NON modifica l'input!\n",
    "- NON ritorna niente!\n",
    "\n",
    "Esempio: "
   ]
  },
  {
   "cell_type": "code",
   "execution_count": 2,
   "metadata": {},
   "outputs": [
    {
     "name": "stdout",
     "output_type": "stream",
     "text": [
      "I primi due elementi sono 8 e 5\n"
     ]
    },
    {
     "data": {
      "text/html": [
       "\n",
       "        <script src=\"../_static/js/pytutor-embed.bundle.min.js\" type=\"application/javascript\"></script>\n",
       "     \n",
       "        <script id=\"json-jme5fbee19-112c-4c6c-b801-73884076ce2d\" type=\"application/json\" >\n",
       "            {\"code\": \" \\ndef stampola(lista):\\n    \\\"\\\"\\\"STAMPA i primi due elementi della lista data\\n    \\\"\\\"\\\"    \\n    print('I primi due elementi sono', lista[0], 'e', lista[1])\\n\\nla = [8,5,6,2]\\n\\nstampola(la)\", \"trace\": [{\"line\": 2, \"event\": \"step_line\", \"func_name\": \"<module>\", \"globals\": {}, \"ordered_globals\": [], \"stack_to_render\": [], \"heap\": {}, \"stdout\": \"\"}, {\"line\": 7, \"event\": \"step_line\", \"func_name\": \"<module>\", \"globals\": {\"stampola\": [\"REF\", 1]}, \"ordered_globals\": [\"stampola\"], \"stack_to_render\": [], \"heap\": {\"1\": [\"FUNCTION\", \"stampola(lista)\", null]}, \"stdout\": \"\"}, {\"line\": 9, \"event\": \"step_line\", \"func_name\": \"<module>\", \"globals\": {\"stampola\": [\"REF\", 1], \"la\": [\"REF\", 2]}, \"ordered_globals\": [\"stampola\", \"la\"], \"stack_to_render\": [], \"heap\": {\"1\": [\"FUNCTION\", \"stampola(lista)\", null], \"2\": [\"LIST\", 8, 5, 6, 2]}, \"stdout\": \"\"}, {\"line\": 2, \"event\": \"call\", \"func_name\": \"stampola\", \"globals\": {\"stampola\": [\"REF\", 1], \"la\": [\"REF\", 2]}, \"ordered_globals\": [\"stampola\", \"la\"], \"stack_to_render\": [{\"func_name\": \"stampola\", \"is_parent\": false, \"frame_id\": 1, \"parent_frame_id_list\": [], \"encoded_locals\": {\"lista\": [\"REF\", 2]}, \"ordered_varnames\": [\"lista\"], \"is_zombie\": false, \"is_highlighted\": true, \"unique_hash\": \"stampola_f1\"}], \"heap\": {\"2\": [\"LIST\", 8, 5, 6, 2], \"1\": [\"FUNCTION\", \"stampola(lista)\", null]}, \"stdout\": \"\"}, {\"line\": 5, \"event\": \"step_line\", \"func_name\": \"stampola\", \"globals\": {\"stampola\": [\"REF\", 1], \"la\": [\"REF\", 2]}, \"ordered_globals\": [\"stampola\", \"la\"], \"stack_to_render\": [{\"func_name\": \"stampola\", \"is_parent\": false, \"frame_id\": 1, \"parent_frame_id_list\": [], \"encoded_locals\": {\"lista\": [\"REF\", 2]}, \"ordered_varnames\": [\"lista\"], \"is_zombie\": false, \"is_highlighted\": true, \"unique_hash\": \"stampola_f1\"}], \"heap\": {\"2\": [\"LIST\", 8, 5, 6, 2], \"1\": [\"FUNCTION\", \"stampola(lista)\", null]}, \"stdout\": \"\"}, {\"line\": 5, \"event\": \"return\", \"func_name\": \"stampola\", \"globals\": {\"stampola\": [\"REF\", 1], \"la\": [\"REF\", 2]}, \"ordered_globals\": [\"stampola\", \"la\"], \"stack_to_render\": [{\"func_name\": \"stampola\", \"is_parent\": false, \"frame_id\": 1, \"parent_frame_id_list\": [], \"encoded_locals\": {\"lista\": [\"REF\", 2], \"__return__\": null}, \"ordered_varnames\": [\"lista\", \"__return__\"], \"is_zombie\": false, \"is_highlighted\": true, \"unique_hash\": \"stampola_f1\"}], \"heap\": {\"2\": [\"LIST\", 8, 5, 6, 2], \"1\": [\"FUNCTION\", \"stampola(lista)\", null]}, \"stdout\": \"I primi due elementi sono 8 e 5\\n\"}, {\"line\": 9, \"event\": \"return\", \"func_name\": \"<module>\", \"globals\": {\"stampola\": [\"REF\", 1], \"la\": [\"REF\", 2]}, \"ordered_globals\": [\"stampola\", \"la\"], \"stack_to_render\": [], \"heap\": {\"1\": [\"FUNCTION\", \"stampola(lista)\", null], \"2\": [\"LIST\", 8, 5, 6, 2]}, \"stdout\": \"I primi due elementi sono 8 e 5\\n\"}]}\n",
       "        </script>\n",
       "        <div id=\"jme5fbee19-112c-4c6c-b801-73884076ce2d\" class=\"pytutorVisualizer\"> </div>\n",
       " \n",
       "        <style>\n",
       "        .vizLayoutTd {\n",
       "            background-color: #fff !important;\n",
       "        }\n",
       "\n",
       "        #pyStdout {            \n",
       "            min-height:25px;\n",
       "        }\n",
       "\n",
       "        /* 'Edit this code' link, hiding because replaces browser tab !!!*/\n",
       "        #editCodeLinkDiv {\n",
       "            display:none;  \n",
       "        }\n",
       "        </style>   \n",
       "                            \n",
       "        <script>\n",
       "        (function(){\n",
       "\n",
       "            var trace = JSON.parse(document.getElementById('json-jme5fbee19-112c-4c6c-b801-73884076ce2d').innerHTML);                                        \n",
       "            // NOTE 1: id without #\n",
       "            // NOTE 2 - maybe there are more predictable ways, but this will work anyway\n",
       "            //        - id should be number\n",
       "            visualizerIdOverride = Math.trunc(Math.random() * 100000000000)\n",
       "            addVisualizerToPage(trace, 'jme5fbee19-112c-4c6c-b801-73884076ce2d',{'embeddedMode' : false,\n",
       "                                             'visualizerIdOverride':visualizerIdOverride})  \n",
       "            \n",
       "            \n",
       "            // set overflow for pytuts - need to do in python as css \n",
       "            // does not allow parent selection\n",
       "            var pytuts = $('.pytutorVisualizer')\n",
       "            pytuts.closest('div.output_html.rendered_html.output_result')\n",
       "                    .css('overflow-x', 'visible')\n",
       "        \n",
       "            //pytuts.closest('div.output_html.rendered_html.output_result')\n",
       "            //      .css('background-color','red')                \n",
       "            \n",
       "        })()\n",
       "        </script>\n",
       "                \n",
       "                "
      ],
      "text/plain": [
       "<IPython.core.display.HTML object>"
      ]
     },
     "execution_count": 2,
     "metadata": {},
     "output_type": "execute_result"
    }
   ],
   "source": [
    "def stampola(lista):\n",
    "    \"\"\"STAMPA i primi due elementi della lista data\n",
    "    \"\"\"    \n",
    "    print('I primi due elementi sono', lista[0], 'e', lista[1])\n",
    "\n",
    "la = [8,5,6,2]\n",
    "\n",
    "stampola(la)\n",
    "jupman.pytut()"
   ]
  },
  {
   "cell_type": "markdown",
   "metadata": {},
   "source": [
    "### RITORNA\n",
    "\n",
    "RITORNA qualche valore, come una NUOVA regione di memoria o un puntatore a una regione di memoria esistente, in accordo al testo della funzione\n",
    "\n",
    "- NON modifica l'input\n",
    "- NON stampa niente!\n",
    "\n",
    "Esempio:"
   ]
  },
  {
   "cell_type": "code",
   "execution_count": 3,
   "metadata": {},
   "outputs": [
    {
     "name": "stdout",
     "output_type": "stream",
     "text": [
      "       la: [5, 2, 6, 3]\n",
      "risultato: [10, 4, 12, 6]\n"
     ]
    },
    {
     "data": {
      "text/html": [
       "\n",
       "        <script src=\"../_static/js/pytutor-embed.bundle.min.js\" type=\"application/javascript\"></script>\n",
       "     \n",
       "        <script id=\"json-jm943f70a5-a96c-4b3d-80af-abab30270812\" type=\"application/json\" >\n",
       "            {\"code\": \" \\ndef ritornola(lista):\\n    \\\"\\\"\\\"RITORNA una NUOVA lista che ha tutti i numeri di lista raddoppiati\\n    \\\"\\\"\\\"    \\n    ret = []\\n    for el in lista:\\n        ret.append(el*2)\\n    return ret   \\n\\nla = [5,2,6,3]\\nrisultato = ritornola(la)\\nprint(\\\"       la:\\\", la)\\nprint(\\\"risultato:\\\", risultato)\", \"trace\": [{\"line\": 2, \"event\": \"step_line\", \"func_name\": \"<module>\", \"globals\": {}, \"ordered_globals\": [], \"stack_to_render\": [], \"heap\": {}, \"stdout\": \"\"}, {\"line\": 10, \"event\": \"step_line\", \"func_name\": \"<module>\", \"globals\": {\"ritornola\": [\"REF\", 1]}, \"ordered_globals\": [\"ritornola\"], \"stack_to_render\": [], \"heap\": {\"1\": [\"FUNCTION\", \"ritornola(lista)\", null]}, \"stdout\": \"\"}, {\"line\": 11, \"event\": \"step_line\", \"func_name\": \"<module>\", \"globals\": {\"ritornola\": [\"REF\", 1], \"la\": [\"REF\", 2]}, \"ordered_globals\": [\"ritornola\", \"la\"], \"stack_to_render\": [], \"heap\": {\"1\": [\"FUNCTION\", \"ritornola(lista)\", null], \"2\": [\"LIST\", 5, 2, 6, 3]}, \"stdout\": \"\"}, {\"line\": 2, \"event\": \"call\", \"func_name\": \"ritornola\", \"globals\": {\"ritornola\": [\"REF\", 1], \"la\": [\"REF\", 2]}, \"ordered_globals\": [\"ritornola\", \"la\"], \"stack_to_render\": [{\"func_name\": \"ritornola\", \"is_parent\": false, \"frame_id\": 1, \"parent_frame_id_list\": [], \"encoded_locals\": {\"lista\": [\"REF\", 2]}, \"ordered_varnames\": [\"lista\"], \"is_zombie\": false, \"is_highlighted\": true, \"unique_hash\": \"ritornola_f1\"}], \"heap\": {\"2\": [\"LIST\", 5, 2, 6, 3], \"1\": [\"FUNCTION\", \"ritornola(lista)\", null]}, \"stdout\": \"\"}, {\"line\": 5, \"event\": \"step_line\", \"func_name\": \"ritornola\", \"globals\": {\"ritornola\": [\"REF\", 1], \"la\": [\"REF\", 2]}, \"ordered_globals\": [\"ritornola\", \"la\"], \"stack_to_render\": [{\"func_name\": \"ritornola\", \"is_parent\": false, \"frame_id\": 1, \"parent_frame_id_list\": [], \"encoded_locals\": {\"lista\": [\"REF\", 2]}, \"ordered_varnames\": [\"lista\"], \"is_zombie\": false, \"is_highlighted\": true, \"unique_hash\": \"ritornola_f1\"}], \"heap\": {\"2\": [\"LIST\", 5, 2, 6, 3], \"1\": [\"FUNCTION\", \"ritornola(lista)\", null]}, \"stdout\": \"\"}, {\"line\": 6, \"event\": \"step_line\", \"func_name\": \"ritornola\", \"globals\": {\"ritornola\": [\"REF\", 1], \"la\": [\"REF\", 2]}, \"ordered_globals\": [\"ritornola\", \"la\"], \"stack_to_render\": [{\"func_name\": \"ritornola\", \"is_parent\": false, \"frame_id\": 1, \"parent_frame_id_list\": [], \"encoded_locals\": {\"lista\": [\"REF\", 2], \"ret\": [\"REF\", 3]}, \"ordered_varnames\": [\"lista\", \"ret\"], \"is_zombie\": false, \"is_highlighted\": true, \"unique_hash\": \"ritornola_f1\"}], \"heap\": {\"2\": [\"LIST\", 5, 2, 6, 3], \"3\": [\"LIST\"], \"1\": [\"FUNCTION\", \"ritornola(lista)\", null]}, \"stdout\": \"\"}, {\"line\": 7, \"event\": \"step_line\", \"func_name\": \"ritornola\", \"globals\": {\"ritornola\": [\"REF\", 1], \"la\": [\"REF\", 2]}, \"ordered_globals\": [\"ritornola\", \"la\"], \"stack_to_render\": [{\"func_name\": \"ritornola\", \"is_parent\": false, \"frame_id\": 1, \"parent_frame_id_list\": [], \"encoded_locals\": {\"lista\": [\"REF\", 2], \"ret\": [\"REF\", 3], \"el\": 5}, \"ordered_varnames\": [\"lista\", \"ret\", \"el\"], \"is_zombie\": false, \"is_highlighted\": true, \"unique_hash\": \"ritornola_f1\"}], \"heap\": {\"2\": [\"LIST\", 5, 2, 6, 3], \"3\": [\"LIST\"], \"1\": [\"FUNCTION\", \"ritornola(lista)\", null]}, \"stdout\": \"\"}, {\"line\": 6, \"event\": \"step_line\", \"func_name\": \"ritornola\", \"globals\": {\"ritornola\": [\"REF\", 1], \"la\": [\"REF\", 2]}, \"ordered_globals\": [\"ritornola\", \"la\"], \"stack_to_render\": [{\"func_name\": \"ritornola\", \"is_parent\": false, \"frame_id\": 1, \"parent_frame_id_list\": [], \"encoded_locals\": {\"lista\": [\"REF\", 2], \"ret\": [\"REF\", 3], \"el\": 5}, \"ordered_varnames\": [\"lista\", \"ret\", \"el\"], \"is_zombie\": false, \"is_highlighted\": true, \"unique_hash\": \"ritornola_f1\"}], \"heap\": {\"2\": [\"LIST\", 5, 2, 6, 3], \"3\": [\"LIST\", 10], \"1\": [\"FUNCTION\", \"ritornola(lista)\", null]}, \"stdout\": \"\"}, {\"line\": 7, \"event\": \"step_line\", \"func_name\": \"ritornola\", \"globals\": {\"ritornola\": [\"REF\", 1], \"la\": [\"REF\", 2]}, \"ordered_globals\": [\"ritornola\", \"la\"], \"stack_to_render\": [{\"func_name\": \"ritornola\", \"is_parent\": false, \"frame_id\": 1, \"parent_frame_id_list\": [], \"encoded_locals\": {\"lista\": [\"REF\", 2], \"ret\": [\"REF\", 3], \"el\": 2}, \"ordered_varnames\": [\"lista\", \"ret\", \"el\"], \"is_zombie\": false, \"is_highlighted\": true, \"unique_hash\": \"ritornola_f1\"}], \"heap\": {\"2\": [\"LIST\", 5, 2, 6, 3], \"3\": [\"LIST\", 10], \"1\": [\"FUNCTION\", \"ritornola(lista)\", null]}, \"stdout\": \"\"}, {\"line\": 6, \"event\": \"step_line\", \"func_name\": \"ritornola\", \"globals\": {\"ritornola\": [\"REF\", 1], \"la\": [\"REF\", 2]}, \"ordered_globals\": [\"ritornola\", \"la\"], \"stack_to_render\": [{\"func_name\": \"ritornola\", \"is_parent\": false, \"frame_id\": 1, \"parent_frame_id_list\": [], \"encoded_locals\": {\"lista\": [\"REF\", 2], \"ret\": [\"REF\", 3], \"el\": 2}, \"ordered_varnames\": [\"lista\", \"ret\", \"el\"], \"is_zombie\": false, \"is_highlighted\": true, \"unique_hash\": \"ritornola_f1\"}], \"heap\": {\"2\": [\"LIST\", 5, 2, 6, 3], \"3\": [\"LIST\", 10, 4], \"1\": [\"FUNCTION\", \"ritornola(lista)\", null]}, \"stdout\": \"\"}, {\"line\": 7, \"event\": \"step_line\", \"func_name\": \"ritornola\", \"globals\": {\"ritornola\": [\"REF\", 1], \"la\": [\"REF\", 2]}, \"ordered_globals\": [\"ritornola\", \"la\"], \"stack_to_render\": [{\"func_name\": \"ritornola\", \"is_parent\": false, \"frame_id\": 1, \"parent_frame_id_list\": [], \"encoded_locals\": {\"lista\": [\"REF\", 2], \"ret\": [\"REF\", 3], \"el\": 6}, \"ordered_varnames\": [\"lista\", \"ret\", \"el\"], \"is_zombie\": false, \"is_highlighted\": true, \"unique_hash\": \"ritornola_f1\"}], \"heap\": {\"2\": [\"LIST\", 5, 2, 6, 3], \"3\": [\"LIST\", 10, 4], \"1\": [\"FUNCTION\", \"ritornola(lista)\", null]}, \"stdout\": \"\"}, {\"line\": 6, \"event\": \"step_line\", \"func_name\": \"ritornola\", \"globals\": {\"ritornola\": [\"REF\", 1], \"la\": [\"REF\", 2]}, \"ordered_globals\": [\"ritornola\", \"la\"], \"stack_to_render\": [{\"func_name\": \"ritornola\", \"is_parent\": false, \"frame_id\": 1, \"parent_frame_id_list\": [], \"encoded_locals\": {\"lista\": [\"REF\", 2], \"ret\": [\"REF\", 3], \"el\": 6}, \"ordered_varnames\": [\"lista\", \"ret\", \"el\"], \"is_zombie\": false, \"is_highlighted\": true, \"unique_hash\": \"ritornola_f1\"}], \"heap\": {\"2\": [\"LIST\", 5, 2, 6, 3], \"3\": [\"LIST\", 10, 4, 12], \"1\": [\"FUNCTION\", \"ritornola(lista)\", null]}, \"stdout\": \"\"}, {\"line\": 7, \"event\": \"step_line\", \"func_name\": \"ritornola\", \"globals\": {\"ritornola\": [\"REF\", 1], \"la\": [\"REF\", 2]}, \"ordered_globals\": [\"ritornola\", \"la\"], \"stack_to_render\": [{\"func_name\": \"ritornola\", \"is_parent\": false, \"frame_id\": 1, \"parent_frame_id_list\": [], \"encoded_locals\": {\"lista\": [\"REF\", 2], \"ret\": [\"REF\", 3], \"el\": 3}, \"ordered_varnames\": [\"lista\", \"ret\", \"el\"], \"is_zombie\": false, \"is_highlighted\": true, \"unique_hash\": \"ritornola_f1\"}], \"heap\": {\"2\": [\"LIST\", 5, 2, 6, 3], \"3\": [\"LIST\", 10, 4, 12], \"1\": [\"FUNCTION\", \"ritornola(lista)\", null]}, \"stdout\": \"\"}, {\"line\": 6, \"event\": \"step_line\", \"func_name\": \"ritornola\", \"globals\": {\"ritornola\": [\"REF\", 1], \"la\": [\"REF\", 2]}, \"ordered_globals\": [\"ritornola\", \"la\"], \"stack_to_render\": [{\"func_name\": \"ritornola\", \"is_parent\": false, \"frame_id\": 1, \"parent_frame_id_list\": [], \"encoded_locals\": {\"lista\": [\"REF\", 2], \"ret\": [\"REF\", 3], \"el\": 3}, \"ordered_varnames\": [\"lista\", \"ret\", \"el\"], \"is_zombie\": false, \"is_highlighted\": true, \"unique_hash\": \"ritornola_f1\"}], \"heap\": {\"2\": [\"LIST\", 5, 2, 6, 3], \"3\": [\"LIST\", 10, 4, 12, 6], \"1\": [\"FUNCTION\", \"ritornola(lista)\", null]}, \"stdout\": \"\"}, {\"line\": 8, \"event\": \"step_line\", \"func_name\": \"ritornola\", \"globals\": {\"ritornola\": [\"REF\", 1], \"la\": [\"REF\", 2]}, \"ordered_globals\": [\"ritornola\", \"la\"], \"stack_to_render\": [{\"func_name\": \"ritornola\", \"is_parent\": false, \"frame_id\": 1, \"parent_frame_id_list\": [], \"encoded_locals\": {\"lista\": [\"REF\", 2], \"ret\": [\"REF\", 3], \"el\": 3}, \"ordered_varnames\": [\"lista\", \"ret\", \"el\"], \"is_zombie\": false, \"is_highlighted\": true, \"unique_hash\": \"ritornola_f1\"}], \"heap\": {\"2\": [\"LIST\", 5, 2, 6, 3], \"3\": [\"LIST\", 10, 4, 12, 6], \"1\": [\"FUNCTION\", \"ritornola(lista)\", null]}, \"stdout\": \"\"}, {\"line\": 8, \"event\": \"return\", \"func_name\": \"ritornola\", \"globals\": {\"ritornola\": [\"REF\", 1], \"la\": [\"REF\", 2]}, \"ordered_globals\": [\"ritornola\", \"la\"], \"stack_to_render\": [{\"func_name\": \"ritornola\", \"is_parent\": false, \"frame_id\": 1, \"parent_frame_id_list\": [], \"encoded_locals\": {\"lista\": [\"REF\", 2], \"ret\": [\"REF\", 3], \"el\": 3, \"__return__\": [\"REF\", 3]}, \"ordered_varnames\": [\"lista\", \"ret\", \"el\", \"__return__\"], \"is_zombie\": false, \"is_highlighted\": true, \"unique_hash\": \"ritornola_f1\"}], \"heap\": {\"2\": [\"LIST\", 5, 2, 6, 3], \"3\": [\"LIST\", 10, 4, 12, 6], \"1\": [\"FUNCTION\", \"ritornola(lista)\", null]}, \"stdout\": \"\"}, {\"line\": 12, \"event\": \"step_line\", \"func_name\": \"<module>\", \"globals\": {\"ritornola\": [\"REF\", 1], \"la\": [\"REF\", 2], \"risultato\": [\"REF\", 3]}, \"ordered_globals\": [\"ritornola\", \"la\", \"risultato\"], \"stack_to_render\": [], \"heap\": {\"1\": [\"FUNCTION\", \"ritornola(lista)\", null], \"2\": [\"LIST\", 5, 2, 6, 3], \"3\": [\"LIST\", 10, 4, 12, 6]}, \"stdout\": \"\"}, {\"line\": 13, \"event\": \"step_line\", \"func_name\": \"<module>\", \"globals\": {\"ritornola\": [\"REF\", 1], \"la\": [\"REF\", 2], \"risultato\": [\"REF\", 3]}, \"ordered_globals\": [\"ritornola\", \"la\", \"risultato\"], \"stack_to_render\": [], \"heap\": {\"1\": [\"FUNCTION\", \"ritornola(lista)\", null], \"2\": [\"LIST\", 5, 2, 6, 3], \"3\": [\"LIST\", 10, 4, 12, 6]}, \"stdout\": \"       la: [5, 2, 6, 3]\\n\"}, {\"line\": 13, \"event\": \"return\", \"func_name\": \"<module>\", \"globals\": {\"ritornola\": [\"REF\", 1], \"la\": [\"REF\", 2], \"risultato\": [\"REF\", 3]}, \"ordered_globals\": [\"ritornola\", \"la\", \"risultato\"], \"stack_to_render\": [], \"heap\": {\"1\": [\"FUNCTION\", \"ritornola(lista)\", null], \"2\": [\"LIST\", 5, 2, 6, 3], \"3\": [\"LIST\", 10, 4, 12, 6]}, \"stdout\": \"       la: [5, 2, 6, 3]\\nrisultato: [10, 4, 12, 6]\\n\"}]}\n",
       "        </script>\n",
       "        <div id=\"jm943f70a5-a96c-4b3d-80af-abab30270812\" class=\"pytutorVisualizer\"> </div>\n",
       " \n",
       "        <style>\n",
       "        .vizLayoutTd {\n",
       "            background-color: #fff !important;\n",
       "        }\n",
       "\n",
       "        #pyStdout {            \n",
       "            min-height:25px;\n",
       "        }\n",
       "\n",
       "        /* 'Edit this code' link, hiding because replaces browser tab !!!*/\n",
       "        #editCodeLinkDiv {\n",
       "            display:none;  \n",
       "        }\n",
       "        </style>   \n",
       "                            \n",
       "        <script>\n",
       "        (function(){\n",
       "\n",
       "            var trace = JSON.parse(document.getElementById('json-jm943f70a5-a96c-4b3d-80af-abab30270812').innerHTML);                                        \n",
       "            // NOTE 1: id without #\n",
       "            // NOTE 2 - maybe there are more predictable ways, but this will work anyway\n",
       "            //        - id should be number\n",
       "            visualizerIdOverride = Math.trunc(Math.random() * 100000000000)\n",
       "            addVisualizerToPage(trace, 'jm943f70a5-a96c-4b3d-80af-abab30270812',{'embeddedMode' : false,\n",
       "                                             'visualizerIdOverride':visualizerIdOverride})  \n",
       "            \n",
       "            \n",
       "            // set overflow for pytuts - need to do in python as css \n",
       "            // does not allow parent selection\n",
       "            var pytuts = $('.pytutorVisualizer')\n",
       "            pytuts.closest('div.output_html.rendered_html.output_result')\n",
       "                    .css('overflow-x', 'visible')\n",
       "        \n",
       "            //pytuts.closest('div.output_html.rendered_html.output_result')\n",
       "            //      .css('background-color','red')                \n",
       "            \n",
       "        })()\n",
       "        </script>\n",
       "                \n",
       "                "
      ],
      "text/plain": [
       "<IPython.core.display.HTML object>"
      ]
     },
     "execution_count": 3,
     "metadata": {},
     "output_type": "execute_result"
    }
   ],
   "source": [
    "def ritornola(lista):\n",
    "    \"\"\"RITORNA una NUOVA lista che ha tutti i numeri di lista raddoppiati\n",
    "    \"\"\"    \n",
    "    ret = []\n",
    "    for el in lista:\n",
    "        ret.append(el*2)\n",
    "    return ret   \n",
    "\n",
    "la = [5,2,6,3]\n",
    "risultato = ritornola(la)\n",
    "print(\"       la:\", la)\n",
    "print(\"risultato:\", risultato)\n",
    "jupman.pytut()"
   ]
  },
  {
   "cell_type": "markdown",
   "metadata": {},
   "source": [
    "### MODIFICA\n",
    "\n",
    "MODIFICA l'input - con la scritta _modifica_ tipicamente indichiamo cambiare i dati dentro regioni di memoria _esistenti_, limitando il più possibile la creazione di regioni nuove.\n",
    "\n",
    "- NON ritorna niente!\n",
    "- NON stampa niente!\n",
    "- NON crea nuove regioni di memoria (o limita la creazione al minimo necessario)\n",
    "\n",
    "Esempio:"
   ]
  },
  {
   "cell_type": "code",
   "execution_count": 4,
   "metadata": {},
   "outputs": [
    {
     "name": "stdout",
     "output_type": "stream",
     "text": [
      "[4, 7, 8, 9]\n"
     ]
    },
    {
     "data": {
      "text/html": [
       "\n",
       "        <script src=\"../_static/js/pytutor-embed.bundle.min.js\" type=\"application/javascript\"></script>\n",
       "     \n",
       "        <script id=\"json-jmdd79fd52-1324-4687-ba20-068b2cf0b05e\" type=\"application/json\" >\n",
       "            {\"code\": \" \\ndef modifanta(lista):\\n    \\\"\\\"\\\"MODIFICA lista in modo che sia ordinata in-place\\n    \\\"\\\"\\\"\\n    lista.sort()   \\n    \\nla = [7,4,9,8]\\n\\nmodifanta(la)\\n\\nprint(la)\", \"trace\": [{\"line\": 2, \"event\": \"step_line\", \"func_name\": \"<module>\", \"globals\": {}, \"ordered_globals\": [], \"stack_to_render\": [], \"heap\": {}, \"stdout\": \"\"}, {\"line\": 7, \"event\": \"step_line\", \"func_name\": \"<module>\", \"globals\": {\"modifanta\": [\"REF\", 1]}, \"ordered_globals\": [\"modifanta\"], \"stack_to_render\": [], \"heap\": {\"1\": [\"FUNCTION\", \"modifanta(lista)\", null]}, \"stdout\": \"\"}, {\"line\": 9, \"event\": \"step_line\", \"func_name\": \"<module>\", \"globals\": {\"modifanta\": [\"REF\", 1], \"la\": [\"REF\", 2]}, \"ordered_globals\": [\"modifanta\", \"la\"], \"stack_to_render\": [], \"heap\": {\"1\": [\"FUNCTION\", \"modifanta(lista)\", null], \"2\": [\"LIST\", 7, 4, 9, 8]}, \"stdout\": \"\"}, {\"line\": 2, \"event\": \"call\", \"func_name\": \"modifanta\", \"globals\": {\"modifanta\": [\"REF\", 1], \"la\": [\"REF\", 2]}, \"ordered_globals\": [\"modifanta\", \"la\"], \"stack_to_render\": [{\"func_name\": \"modifanta\", \"is_parent\": false, \"frame_id\": 1, \"parent_frame_id_list\": [], \"encoded_locals\": {\"lista\": [\"REF\", 2]}, \"ordered_varnames\": [\"lista\"], \"is_zombie\": false, \"is_highlighted\": true, \"unique_hash\": \"modifanta_f1\"}], \"heap\": {\"2\": [\"LIST\", 7, 4, 9, 8], \"1\": [\"FUNCTION\", \"modifanta(lista)\", null]}, \"stdout\": \"\"}, {\"line\": 5, \"event\": \"step_line\", \"func_name\": \"modifanta\", \"globals\": {\"modifanta\": [\"REF\", 1], \"la\": [\"REF\", 2]}, \"ordered_globals\": [\"modifanta\", \"la\"], \"stack_to_render\": [{\"func_name\": \"modifanta\", \"is_parent\": false, \"frame_id\": 1, \"parent_frame_id_list\": [], \"encoded_locals\": {\"lista\": [\"REF\", 2]}, \"ordered_varnames\": [\"lista\"], \"is_zombie\": false, \"is_highlighted\": true, \"unique_hash\": \"modifanta_f1\"}], \"heap\": {\"2\": [\"LIST\", 7, 4, 9, 8], \"1\": [\"FUNCTION\", \"modifanta(lista)\", null]}, \"stdout\": \"\"}, {\"line\": 5, \"event\": \"return\", \"func_name\": \"modifanta\", \"globals\": {\"modifanta\": [\"REF\", 1], \"la\": [\"REF\", 2]}, \"ordered_globals\": [\"modifanta\", \"la\"], \"stack_to_render\": [{\"func_name\": \"modifanta\", \"is_parent\": false, \"frame_id\": 1, \"parent_frame_id_list\": [], \"encoded_locals\": {\"lista\": [\"REF\", 2], \"__return__\": null}, \"ordered_varnames\": [\"lista\", \"__return__\"], \"is_zombie\": false, \"is_highlighted\": true, \"unique_hash\": \"modifanta_f1\"}], \"heap\": {\"2\": [\"LIST\", 4, 7, 8, 9], \"1\": [\"FUNCTION\", \"modifanta(lista)\", null]}, \"stdout\": \"\"}, {\"line\": 11, \"event\": \"step_line\", \"func_name\": \"<module>\", \"globals\": {\"modifanta\": [\"REF\", 1], \"la\": [\"REF\", 2]}, \"ordered_globals\": [\"modifanta\", \"la\"], \"stack_to_render\": [], \"heap\": {\"1\": [\"FUNCTION\", \"modifanta(lista)\", null], \"2\": [\"LIST\", 4, 7, 8, 9]}, \"stdout\": \"\"}, {\"line\": 11, \"event\": \"return\", \"func_name\": \"<module>\", \"globals\": {\"modifanta\": [\"REF\", 1], \"la\": [\"REF\", 2]}, \"ordered_globals\": [\"modifanta\", \"la\"], \"stack_to_render\": [], \"heap\": {\"1\": [\"FUNCTION\", \"modifanta(lista)\", null], \"2\": [\"LIST\", 4, 7, 8, 9]}, \"stdout\": \"[4, 7, 8, 9]\\n\"}]}\n",
       "        </script>\n",
       "        <div id=\"jmdd79fd52-1324-4687-ba20-068b2cf0b05e\" class=\"pytutorVisualizer\"> </div>\n",
       " \n",
       "        <style>\n",
       "        .vizLayoutTd {\n",
       "            background-color: #fff !important;\n",
       "        }\n",
       "\n",
       "        #pyStdout {            \n",
       "            min-height:25px;\n",
       "        }\n",
       "\n",
       "        /* 'Edit this code' link, hiding because replaces browser tab !!!*/\n",
       "        #editCodeLinkDiv {\n",
       "            display:none;  \n",
       "        }\n",
       "        </style>   \n",
       "                            \n",
       "        <script>\n",
       "        (function(){\n",
       "\n",
       "            var trace = JSON.parse(document.getElementById('json-jmdd79fd52-1324-4687-ba20-068b2cf0b05e').innerHTML);                                        \n",
       "            // NOTE 1: id without #\n",
       "            // NOTE 2 - maybe there are more predictable ways, but this will work anyway\n",
       "            //        - id should be number\n",
       "            visualizerIdOverride = Math.trunc(Math.random() * 100000000000)\n",
       "            addVisualizerToPage(trace, 'jmdd79fd52-1324-4687-ba20-068b2cf0b05e',{'embeddedMode' : false,\n",
       "                                             'visualizerIdOverride':visualizerIdOverride})  \n",
       "            \n",
       "            \n",
       "            // set overflow for pytuts - need to do in python as css \n",
       "            // does not allow parent selection\n",
       "            var pytuts = $('.pytutorVisualizer')\n",
       "            pytuts.closest('div.output_html.rendered_html.output_result')\n",
       "                    .css('overflow-x', 'visible')\n",
       "        \n",
       "            //pytuts.closest('div.output_html.rendered_html.output_result')\n",
       "            //      .css('background-color','red')                \n",
       "            \n",
       "        })()\n",
       "        </script>\n",
       "                \n",
       "                "
      ],
      "text/plain": [
       "<IPython.core.display.HTML object>"
      ]
     },
     "execution_count": 4,
     "metadata": {},
     "output_type": "execute_result"
    }
   ],
   "source": [
    "def modifanta(lista):\n",
    "    \"\"\"MODIFICA lista in modo che sia ordinata in-place\n",
    "    \"\"\"\n",
    "    lista.sort()   \n",
    "    \n",
    "la = [7,4,9,8]\n",
    "\n",
    "modifanta(la)\n",
    "\n",
    "print(la)\n",
    "jupman.pytut()"
   ]
  },
  {
   "cell_type": "markdown",
   "metadata": {},
   "source": [
    "### MODIFICA E RITORNA\n",
    "\n",
    "MODIFICA l'input e RITORNA un puntatore all'input stesso\n",
    "\n",
    "- NON STAMPA niente!\n",
    "- NON crea nuove regioni di memoria (o limita la creazione al minimo necessario)\n",
    "\n",
    "Nota: permette così il concatenamento di chiamate (detto _chaining_)"
   ]
  },
  {
   "cell_type": "code",
   "execution_count": 5,
   "metadata": {},
   "outputs": [
    {
     "name": "stdout",
     "output_type": "stream",
     "text": [
      "risultato:  [16, 14, 10]\n",
      "       la:  [16, 14, 10]\n",
      "\n",
      "       lb:  [12, 10, 14]\n"
     ]
    },
    {
     "data": {
      "text/html": [
       "\n",
       "        <script src=\"../_static/js/pytutor-embed.bundle.min.js\" type=\"application/javascript\"></script>\n",
       "     \n",
       "        <script id=\"json-jmd1d26bdb-7f0b-48ba-88ec-baef28eb9665\" type=\"application/json\" >\n",
       "            {\"code\": \" \\ndef modirit(lista):\\n    \\\"\\\"\\\"MODIFICA lista raddoppiando tutti i suoi elementi, \\n       e infine RITORNA la lista di input\\n    \\\"\\\"\\\"\\n    for i in range(len(lista)):\\n        lista[i] = lista[i] * 2\\n    return lista\\n\\nla = [8,7,5]\\nrisultato = modirit(la)\\nprint(\\\"risultato: \\\", risultato)    # [16,14,10]  ha RITORNATO l'input modificato\\nprint(\\\"       la: \\\", la)           # [16,14,10]  l'input la \\u00e8 stato MODIFICATO !!\\n\\nprint()\\nlb = [7,5,6]\\nmodirit(lb).reverse()              # NOTA CHE POSSIAMO CONCATENARE\\nprint(\\\"       lb: \\\", lb)           # [12,10,14]  l'input lb \\u00e8 stato MODIFICATO !!\\n#modirit(lb).reverse().append(16)  # ... ma questo non funzionerebbe. Perch\\u00e8?\", \"trace\": [{\"line\": 2, \"event\": \"step_line\", \"func_name\": \"<module>\", \"globals\": {}, \"ordered_globals\": [], \"stack_to_render\": [], \"heap\": {}, \"stdout\": \"\"}, {\"line\": 10, \"event\": \"step_line\", \"func_name\": \"<module>\", \"globals\": {\"modirit\": [\"REF\", 1]}, \"ordered_globals\": [\"modirit\"], \"stack_to_render\": [], \"heap\": {\"1\": [\"FUNCTION\", \"modirit(lista)\", null]}, \"stdout\": \"\"}, {\"line\": 11, \"event\": \"step_line\", \"func_name\": \"<module>\", \"globals\": {\"modirit\": [\"REF\", 1], \"la\": [\"REF\", 2]}, \"ordered_globals\": [\"modirit\", \"la\"], \"stack_to_render\": [], \"heap\": {\"1\": [\"FUNCTION\", \"modirit(lista)\", null], \"2\": [\"LIST\", 8, 7, 5]}, \"stdout\": \"\"}, {\"line\": 2, \"event\": \"call\", \"func_name\": \"modirit\", \"globals\": {\"modirit\": [\"REF\", 1], \"la\": [\"REF\", 2]}, \"ordered_globals\": [\"modirit\", \"la\"], \"stack_to_render\": [{\"func_name\": \"modirit\", \"is_parent\": false, \"frame_id\": 1, \"parent_frame_id_list\": [], \"encoded_locals\": {\"lista\": [\"REF\", 2]}, \"ordered_varnames\": [\"lista\"], \"is_zombie\": false, \"is_highlighted\": true, \"unique_hash\": \"modirit_f1\"}], \"heap\": {\"2\": [\"LIST\", 8, 7, 5], \"1\": [\"FUNCTION\", \"modirit(lista)\", null]}, \"stdout\": \"\"}, {\"line\": 6, \"event\": \"step_line\", \"func_name\": \"modirit\", \"globals\": {\"modirit\": [\"REF\", 1], \"la\": [\"REF\", 2]}, \"ordered_globals\": [\"modirit\", \"la\"], \"stack_to_render\": [{\"func_name\": \"modirit\", \"is_parent\": false, \"frame_id\": 1, \"parent_frame_id_list\": [], \"encoded_locals\": {\"lista\": [\"REF\", 2]}, \"ordered_varnames\": [\"lista\"], \"is_zombie\": false, \"is_highlighted\": true, \"unique_hash\": \"modirit_f1\"}], \"heap\": {\"2\": [\"LIST\", 8, 7, 5], \"1\": [\"FUNCTION\", \"modirit(lista)\", null]}, \"stdout\": \"\"}, {\"line\": 7, \"event\": \"step_line\", \"func_name\": \"modirit\", \"globals\": {\"modirit\": [\"REF\", 1], \"la\": [\"REF\", 2]}, \"ordered_globals\": [\"modirit\", \"la\"], \"stack_to_render\": [{\"func_name\": \"modirit\", \"is_parent\": false, \"frame_id\": 1, \"parent_frame_id_list\": [], \"encoded_locals\": {\"lista\": [\"REF\", 2], \"i\": 0}, \"ordered_varnames\": [\"lista\", \"i\"], \"is_zombie\": false, \"is_highlighted\": true, \"unique_hash\": \"modirit_f1\"}], \"heap\": {\"2\": [\"LIST\", 8, 7, 5], \"1\": [\"FUNCTION\", \"modirit(lista)\", null]}, \"stdout\": \"\"}, {\"line\": 6, \"event\": \"step_line\", \"func_name\": \"modirit\", \"globals\": {\"modirit\": [\"REF\", 1], \"la\": [\"REF\", 2]}, \"ordered_globals\": [\"modirit\", \"la\"], \"stack_to_render\": [{\"func_name\": \"modirit\", \"is_parent\": false, \"frame_id\": 1, \"parent_frame_id_list\": [], \"encoded_locals\": {\"lista\": [\"REF\", 2], \"i\": 0}, \"ordered_varnames\": [\"lista\", \"i\"], \"is_zombie\": false, \"is_highlighted\": true, \"unique_hash\": \"modirit_f1\"}], \"heap\": {\"2\": [\"LIST\", 16, 7, 5], \"1\": [\"FUNCTION\", \"modirit(lista)\", null]}, \"stdout\": \"\"}, {\"line\": 7, \"event\": \"step_line\", \"func_name\": \"modirit\", \"globals\": {\"modirit\": [\"REF\", 1], \"la\": [\"REF\", 2]}, \"ordered_globals\": [\"modirit\", \"la\"], \"stack_to_render\": [{\"func_name\": \"modirit\", \"is_parent\": false, \"frame_id\": 1, \"parent_frame_id_list\": [], \"encoded_locals\": {\"lista\": [\"REF\", 2], \"i\": 1}, \"ordered_varnames\": [\"lista\", \"i\"], \"is_zombie\": false, \"is_highlighted\": true, \"unique_hash\": \"modirit_f1\"}], \"heap\": {\"2\": [\"LIST\", 16, 7, 5], \"1\": [\"FUNCTION\", \"modirit(lista)\", null]}, \"stdout\": \"\"}, {\"line\": 6, \"event\": \"step_line\", \"func_name\": \"modirit\", \"globals\": {\"modirit\": [\"REF\", 1], \"la\": [\"REF\", 2]}, \"ordered_globals\": [\"modirit\", \"la\"], \"stack_to_render\": [{\"func_name\": \"modirit\", \"is_parent\": false, \"frame_id\": 1, \"parent_frame_id_list\": [], \"encoded_locals\": {\"lista\": [\"REF\", 2], \"i\": 1}, \"ordered_varnames\": [\"lista\", \"i\"], \"is_zombie\": false, \"is_highlighted\": true, \"unique_hash\": \"modirit_f1\"}], \"heap\": {\"2\": [\"LIST\", 16, 14, 5], \"1\": [\"FUNCTION\", \"modirit(lista)\", null]}, \"stdout\": \"\"}, {\"line\": 7, \"event\": \"step_line\", \"func_name\": \"modirit\", \"globals\": {\"modirit\": [\"REF\", 1], \"la\": [\"REF\", 2]}, \"ordered_globals\": [\"modirit\", \"la\"], \"stack_to_render\": [{\"func_name\": \"modirit\", \"is_parent\": false, \"frame_id\": 1, \"parent_frame_id_list\": [], \"encoded_locals\": {\"lista\": [\"REF\", 2], \"i\": 2}, \"ordered_varnames\": [\"lista\", \"i\"], \"is_zombie\": false, \"is_highlighted\": true, \"unique_hash\": \"modirit_f1\"}], \"heap\": {\"2\": [\"LIST\", 16, 14, 5], \"1\": [\"FUNCTION\", \"modirit(lista)\", null]}, \"stdout\": \"\"}, {\"line\": 6, \"event\": \"step_line\", \"func_name\": \"modirit\", \"globals\": {\"modirit\": [\"REF\", 1], \"la\": [\"REF\", 2]}, \"ordered_globals\": [\"modirit\", \"la\"], \"stack_to_render\": [{\"func_name\": \"modirit\", \"is_parent\": false, \"frame_id\": 1, \"parent_frame_id_list\": [], \"encoded_locals\": {\"lista\": [\"REF\", 2], \"i\": 2}, \"ordered_varnames\": [\"lista\", \"i\"], \"is_zombie\": false, \"is_highlighted\": true, \"unique_hash\": \"modirit_f1\"}], \"heap\": {\"2\": [\"LIST\", 16, 14, 10], \"1\": [\"FUNCTION\", \"modirit(lista)\", null]}, \"stdout\": \"\"}, {\"line\": 8, \"event\": \"step_line\", \"func_name\": \"modirit\", \"globals\": {\"modirit\": [\"REF\", 1], \"la\": [\"REF\", 2]}, \"ordered_globals\": [\"modirit\", \"la\"], \"stack_to_render\": [{\"func_name\": \"modirit\", \"is_parent\": false, \"frame_id\": 1, \"parent_frame_id_list\": [], \"encoded_locals\": {\"lista\": [\"REF\", 2], \"i\": 2}, \"ordered_varnames\": [\"lista\", \"i\"], \"is_zombie\": false, \"is_highlighted\": true, \"unique_hash\": \"modirit_f1\"}], \"heap\": {\"2\": [\"LIST\", 16, 14, 10], \"1\": [\"FUNCTION\", \"modirit(lista)\", null]}, \"stdout\": \"\"}, {\"line\": 8, \"event\": \"return\", \"func_name\": \"modirit\", \"globals\": {\"modirit\": [\"REF\", 1], \"la\": [\"REF\", 2]}, \"ordered_globals\": [\"modirit\", \"la\"], \"stack_to_render\": [{\"func_name\": \"modirit\", \"is_parent\": false, \"frame_id\": 1, \"parent_frame_id_list\": [], \"encoded_locals\": {\"lista\": [\"REF\", 2], \"i\": 2, \"__return__\": [\"REF\", 2]}, \"ordered_varnames\": [\"lista\", \"i\", \"__return__\"], \"is_zombie\": false, \"is_highlighted\": true, \"unique_hash\": \"modirit_f1\"}], \"heap\": {\"2\": [\"LIST\", 16, 14, 10], \"1\": [\"FUNCTION\", \"modirit(lista)\", null]}, \"stdout\": \"\"}, {\"line\": 12, \"event\": \"step_line\", \"func_name\": \"<module>\", \"globals\": {\"modirit\": [\"REF\", 1], \"la\": [\"REF\", 2], \"risultato\": [\"REF\", 2]}, \"ordered_globals\": [\"modirit\", \"la\", \"risultato\"], \"stack_to_render\": [], \"heap\": {\"1\": [\"FUNCTION\", \"modirit(lista)\", null], \"2\": [\"LIST\", 16, 14, 10]}, \"stdout\": \"\"}, {\"line\": 13, \"event\": \"step_line\", \"func_name\": \"<module>\", \"globals\": {\"modirit\": [\"REF\", 1], \"la\": [\"REF\", 2], \"risultato\": [\"REF\", 2]}, \"ordered_globals\": [\"modirit\", \"la\", \"risultato\"], \"stack_to_render\": [], \"heap\": {\"1\": [\"FUNCTION\", \"modirit(lista)\", null], \"2\": [\"LIST\", 16, 14, 10]}, \"stdout\": \"risultato:  [16, 14, 10]\\n\"}, {\"line\": 15, \"event\": \"step_line\", \"func_name\": \"<module>\", \"globals\": {\"modirit\": [\"REF\", 1], \"la\": [\"REF\", 2], \"risultato\": [\"REF\", 2]}, \"ordered_globals\": [\"modirit\", \"la\", \"risultato\"], \"stack_to_render\": [], \"heap\": {\"1\": [\"FUNCTION\", \"modirit(lista)\", null], \"2\": [\"LIST\", 16, 14, 10]}, \"stdout\": \"risultato:  [16, 14, 10]\\n       la:  [16, 14, 10]\\n\"}, {\"line\": 16, \"event\": \"step_line\", \"func_name\": \"<module>\", \"globals\": {\"modirit\": [\"REF\", 1], \"la\": [\"REF\", 2], \"risultato\": [\"REF\", 2]}, \"ordered_globals\": [\"modirit\", \"la\", \"risultato\"], \"stack_to_render\": [], \"heap\": {\"1\": [\"FUNCTION\", \"modirit(lista)\", null], \"2\": [\"LIST\", 16, 14, 10]}, \"stdout\": \"risultato:  [16, 14, 10]\\n       la:  [16, 14, 10]\\n\\n\"}, {\"line\": 17, \"event\": \"step_line\", \"func_name\": \"<module>\", \"globals\": {\"modirit\": [\"REF\", 1], \"la\": [\"REF\", 2], \"risultato\": [\"REF\", 2], \"lb\": [\"REF\", 3]}, \"ordered_globals\": [\"modirit\", \"la\", \"risultato\", \"lb\"], \"stack_to_render\": [], \"heap\": {\"1\": [\"FUNCTION\", \"modirit(lista)\", null], \"2\": [\"LIST\", 16, 14, 10], \"3\": [\"LIST\", 7, 5, 6]}, \"stdout\": \"risultato:  [16, 14, 10]\\n       la:  [16, 14, 10]\\n\\n\"}, {\"line\": 2, \"event\": \"call\", \"func_name\": \"modirit\", \"globals\": {\"modirit\": [\"REF\", 1], \"la\": [\"REF\", 2], \"risultato\": [\"REF\", 2], \"lb\": [\"REF\", 3]}, \"ordered_globals\": [\"modirit\", \"la\", \"risultato\", \"lb\"], \"stack_to_render\": [{\"func_name\": \"modirit\", \"is_parent\": false, \"frame_id\": 2, \"parent_frame_id_list\": [], \"encoded_locals\": {\"lista\": [\"REF\", 3]}, \"ordered_varnames\": [\"lista\"], \"is_zombie\": false, \"is_highlighted\": true, \"unique_hash\": \"modirit_f2\"}], \"heap\": {\"3\": [\"LIST\", 7, 5, 6], \"1\": [\"FUNCTION\", \"modirit(lista)\", null], \"2\": [\"LIST\", 16, 14, 10]}, \"stdout\": \"risultato:  [16, 14, 10]\\n       la:  [16, 14, 10]\\n\\n\"}, {\"line\": 6, \"event\": \"step_line\", \"func_name\": \"modirit\", \"globals\": {\"modirit\": [\"REF\", 1], \"la\": [\"REF\", 2], \"risultato\": [\"REF\", 2], \"lb\": [\"REF\", 3]}, \"ordered_globals\": [\"modirit\", \"la\", \"risultato\", \"lb\"], \"stack_to_render\": [{\"func_name\": \"modirit\", \"is_parent\": false, \"frame_id\": 2, \"parent_frame_id_list\": [], \"encoded_locals\": {\"lista\": [\"REF\", 3]}, \"ordered_varnames\": [\"lista\"], \"is_zombie\": false, \"is_highlighted\": true, \"unique_hash\": \"modirit_f2\"}], \"heap\": {\"3\": [\"LIST\", 7, 5, 6], \"1\": [\"FUNCTION\", \"modirit(lista)\", null], \"2\": [\"LIST\", 16, 14, 10]}, \"stdout\": \"risultato:  [16, 14, 10]\\n       la:  [16, 14, 10]\\n\\n\"}, {\"line\": 7, \"event\": \"step_line\", \"func_name\": \"modirit\", \"globals\": {\"modirit\": [\"REF\", 1], \"la\": [\"REF\", 2], \"risultato\": [\"REF\", 2], \"lb\": [\"REF\", 3]}, \"ordered_globals\": [\"modirit\", \"la\", \"risultato\", \"lb\"], \"stack_to_render\": [{\"func_name\": \"modirit\", \"is_parent\": false, \"frame_id\": 2, \"parent_frame_id_list\": [], \"encoded_locals\": {\"lista\": [\"REF\", 3], \"i\": 0}, \"ordered_varnames\": [\"lista\", \"i\"], \"is_zombie\": false, \"is_highlighted\": true, \"unique_hash\": \"modirit_f2\"}], \"heap\": {\"3\": [\"LIST\", 7, 5, 6], \"1\": [\"FUNCTION\", \"modirit(lista)\", null], \"2\": [\"LIST\", 16, 14, 10]}, \"stdout\": \"risultato:  [16, 14, 10]\\n       la:  [16, 14, 10]\\n\\n\"}, {\"line\": 6, \"event\": \"step_line\", \"func_name\": \"modirit\", \"globals\": {\"modirit\": [\"REF\", 1], \"la\": [\"REF\", 2], \"risultato\": [\"REF\", 2], \"lb\": [\"REF\", 3]}, \"ordered_globals\": [\"modirit\", \"la\", \"risultato\", \"lb\"], \"stack_to_render\": [{\"func_name\": \"modirit\", \"is_parent\": false, \"frame_id\": 2, \"parent_frame_id_list\": [], \"encoded_locals\": {\"lista\": [\"REF\", 3], \"i\": 0}, \"ordered_varnames\": [\"lista\", \"i\"], \"is_zombie\": false, \"is_highlighted\": true, \"unique_hash\": \"modirit_f2\"}], \"heap\": {\"3\": [\"LIST\", 14, 5, 6], \"1\": [\"FUNCTION\", \"modirit(lista)\", null], \"2\": [\"LIST\", 16, 14, 10]}, \"stdout\": \"risultato:  [16, 14, 10]\\n       la:  [16, 14, 10]\\n\\n\"}, {\"line\": 7, \"event\": \"step_line\", \"func_name\": \"modirit\", \"globals\": {\"modirit\": [\"REF\", 1], \"la\": [\"REF\", 2], \"risultato\": [\"REF\", 2], \"lb\": [\"REF\", 3]}, \"ordered_globals\": [\"modirit\", \"la\", \"risultato\", \"lb\"], \"stack_to_render\": [{\"func_name\": \"modirit\", \"is_parent\": false, \"frame_id\": 2, \"parent_frame_id_list\": [], \"encoded_locals\": {\"lista\": [\"REF\", 3], \"i\": 1}, \"ordered_varnames\": [\"lista\", \"i\"], \"is_zombie\": false, \"is_highlighted\": true, \"unique_hash\": \"modirit_f2\"}], \"heap\": {\"3\": [\"LIST\", 14, 5, 6], \"1\": [\"FUNCTION\", \"modirit(lista)\", null], \"2\": [\"LIST\", 16, 14, 10]}, \"stdout\": \"risultato:  [16, 14, 10]\\n       la:  [16, 14, 10]\\n\\n\"}, {\"line\": 6, \"event\": \"step_line\", \"func_name\": \"modirit\", \"globals\": {\"modirit\": [\"REF\", 1], \"la\": [\"REF\", 2], \"risultato\": [\"REF\", 2], \"lb\": [\"REF\", 3]}, \"ordered_globals\": [\"modirit\", \"la\", \"risultato\", \"lb\"], \"stack_to_render\": [{\"func_name\": \"modirit\", \"is_parent\": false, \"frame_id\": 2, \"parent_frame_id_list\": [], \"encoded_locals\": {\"lista\": [\"REF\", 3], \"i\": 1}, \"ordered_varnames\": [\"lista\", \"i\"], \"is_zombie\": false, \"is_highlighted\": true, \"unique_hash\": \"modirit_f2\"}], \"heap\": {\"3\": [\"LIST\", 14, 10, 6], \"1\": [\"FUNCTION\", \"modirit(lista)\", null], \"2\": [\"LIST\", 16, 14, 10]}, \"stdout\": \"risultato:  [16, 14, 10]\\n       la:  [16, 14, 10]\\n\\n\"}, {\"line\": 7, \"event\": \"step_line\", \"func_name\": \"modirit\", \"globals\": {\"modirit\": [\"REF\", 1], \"la\": [\"REF\", 2], \"risultato\": [\"REF\", 2], \"lb\": [\"REF\", 3]}, \"ordered_globals\": [\"modirit\", \"la\", \"risultato\", \"lb\"], \"stack_to_render\": [{\"func_name\": \"modirit\", \"is_parent\": false, \"frame_id\": 2, \"parent_frame_id_list\": [], \"encoded_locals\": {\"lista\": [\"REF\", 3], \"i\": 2}, \"ordered_varnames\": [\"lista\", \"i\"], \"is_zombie\": false, \"is_highlighted\": true, \"unique_hash\": \"modirit_f2\"}], \"heap\": {\"3\": [\"LIST\", 14, 10, 6], \"1\": [\"FUNCTION\", \"modirit(lista)\", null], \"2\": [\"LIST\", 16, 14, 10]}, \"stdout\": \"risultato:  [16, 14, 10]\\n       la:  [16, 14, 10]\\n\\n\"}, {\"line\": 6, \"event\": \"step_line\", \"func_name\": \"modirit\", \"globals\": {\"modirit\": [\"REF\", 1], \"la\": [\"REF\", 2], \"risultato\": [\"REF\", 2], \"lb\": [\"REF\", 3]}, \"ordered_globals\": [\"modirit\", \"la\", \"risultato\", \"lb\"], \"stack_to_render\": [{\"func_name\": \"modirit\", \"is_parent\": false, \"frame_id\": 2, \"parent_frame_id_list\": [], \"encoded_locals\": {\"lista\": [\"REF\", 3], \"i\": 2}, \"ordered_varnames\": [\"lista\", \"i\"], \"is_zombie\": false, \"is_highlighted\": true, \"unique_hash\": \"modirit_f2\"}], \"heap\": {\"3\": [\"LIST\", 14, 10, 12], \"1\": [\"FUNCTION\", \"modirit(lista)\", null], \"2\": [\"LIST\", 16, 14, 10]}, \"stdout\": \"risultato:  [16, 14, 10]\\n       la:  [16, 14, 10]\\n\\n\"}, {\"line\": 8, \"event\": \"step_line\", \"func_name\": \"modirit\", \"globals\": {\"modirit\": [\"REF\", 1], \"la\": [\"REF\", 2], \"risultato\": [\"REF\", 2], \"lb\": [\"REF\", 3]}, \"ordered_globals\": [\"modirit\", \"la\", \"risultato\", \"lb\"], \"stack_to_render\": [{\"func_name\": \"modirit\", \"is_parent\": false, \"frame_id\": 2, \"parent_frame_id_list\": [], \"encoded_locals\": {\"lista\": [\"REF\", 3], \"i\": 2}, \"ordered_varnames\": [\"lista\", \"i\"], \"is_zombie\": false, \"is_highlighted\": true, \"unique_hash\": \"modirit_f2\"}], \"heap\": {\"3\": [\"LIST\", 14, 10, 12], \"1\": [\"FUNCTION\", \"modirit(lista)\", null], \"2\": [\"LIST\", 16, 14, 10]}, \"stdout\": \"risultato:  [16, 14, 10]\\n       la:  [16, 14, 10]\\n\\n\"}, {\"line\": 8, \"event\": \"return\", \"func_name\": \"modirit\", \"globals\": {\"modirit\": [\"REF\", 1], \"la\": [\"REF\", 2], \"risultato\": [\"REF\", 2], \"lb\": [\"REF\", 3]}, \"ordered_globals\": [\"modirit\", \"la\", \"risultato\", \"lb\"], \"stack_to_render\": [{\"func_name\": \"modirit\", \"is_parent\": false, \"frame_id\": 2, \"parent_frame_id_list\": [], \"encoded_locals\": {\"lista\": [\"REF\", 3], \"i\": 2, \"__return__\": [\"REF\", 3]}, \"ordered_varnames\": [\"lista\", \"i\", \"__return__\"], \"is_zombie\": false, \"is_highlighted\": true, \"unique_hash\": \"modirit_f2\"}], \"heap\": {\"3\": [\"LIST\", 14, 10, 12], \"1\": [\"FUNCTION\", \"modirit(lista)\", null], \"2\": [\"LIST\", 16, 14, 10]}, \"stdout\": \"risultato:  [16, 14, 10]\\n       la:  [16, 14, 10]\\n\\n\"}, {\"line\": 18, \"event\": \"step_line\", \"func_name\": \"<module>\", \"globals\": {\"modirit\": [\"REF\", 1], \"la\": [\"REF\", 2], \"risultato\": [\"REF\", 2], \"lb\": [\"REF\", 3]}, \"ordered_globals\": [\"modirit\", \"la\", \"risultato\", \"lb\"], \"stack_to_render\": [], \"heap\": {\"1\": [\"FUNCTION\", \"modirit(lista)\", null], \"2\": [\"LIST\", 16, 14, 10], \"3\": [\"LIST\", 12, 10, 14]}, \"stdout\": \"risultato:  [16, 14, 10]\\n       la:  [16, 14, 10]\\n\\n\"}, {\"line\": 18, \"event\": \"return\", \"func_name\": \"<module>\", \"globals\": {\"modirit\": [\"REF\", 1], \"la\": [\"REF\", 2], \"risultato\": [\"REF\", 2], \"lb\": [\"REF\", 3]}, \"ordered_globals\": [\"modirit\", \"la\", \"risultato\", \"lb\"], \"stack_to_render\": [], \"heap\": {\"1\": [\"FUNCTION\", \"modirit(lista)\", null], \"2\": [\"LIST\", 16, 14, 10], \"3\": [\"LIST\", 12, 10, 14]}, \"stdout\": \"risultato:  [16, 14, 10]\\n       la:  [16, 14, 10]\\n\\n       lb:  [12, 10, 14]\\n\"}]}\n",
       "        </script>\n",
       "        <div id=\"jmd1d26bdb-7f0b-48ba-88ec-baef28eb9665\" class=\"pytutorVisualizer\"> </div>\n",
       " \n",
       "        <style>\n",
       "        .vizLayoutTd {\n",
       "            background-color: #fff !important;\n",
       "        }\n",
       "\n",
       "        #pyStdout {            \n",
       "            min-height:25px;\n",
       "        }\n",
       "\n",
       "        /* 'Edit this code' link, hiding because replaces browser tab !!!*/\n",
       "        #editCodeLinkDiv {\n",
       "            display:none;  \n",
       "        }\n",
       "        </style>   \n",
       "                            \n",
       "        <script>\n",
       "        (function(){\n",
       "\n",
       "            var trace = JSON.parse(document.getElementById('json-jmd1d26bdb-7f0b-48ba-88ec-baef28eb9665').innerHTML);                                        \n",
       "            // NOTE 1: id without #\n",
       "            // NOTE 2 - maybe there are more predictable ways, but this will work anyway\n",
       "            //        - id should be number\n",
       "            visualizerIdOverride = Math.trunc(Math.random() * 100000000000)\n",
       "            addVisualizerToPage(trace, 'jmd1d26bdb-7f0b-48ba-88ec-baef28eb9665',{'embeddedMode' : false,\n",
       "                                             'visualizerIdOverride':visualizerIdOverride})  \n",
       "            \n",
       "            \n",
       "            // set overflow for pytuts - need to do in python as css \n",
       "            // does not allow parent selection\n",
       "            var pytuts = $('.pytutorVisualizer')\n",
       "            pytuts.closest('div.output_html.rendered_html.output_result')\n",
       "                    .css('overflow-x', 'visible')\n",
       "        \n",
       "            //pytuts.closest('div.output_html.rendered_html.output_result')\n",
       "            //      .css('background-color','red')                \n",
       "            \n",
       "        })()\n",
       "        </script>\n",
       "                \n",
       "                "
      ],
      "text/plain": [
       "<IPython.core.display.HTML object>"
      ]
     },
     "execution_count": 5,
     "metadata": {},
     "output_type": "execute_result"
    }
   ],
   "source": [
    "def modirit(lista):\n",
    "    \"\"\"MODIFICA lista raddoppiando tutti i suoi elementi, \n",
    "       e infine RITORNA la lista di input\n",
    "    \"\"\"\n",
    "    for i in range(len(lista)):\n",
    "        lista[i] = lista[i] * 2\n",
    "    return lista\n",
    "\n",
    "la = [8,7,5]\n",
    "risultato = modirit(la)\n",
    "print(\"risultato: \", risultato)    # [16,14,10]  ha RITORNATO l'input modificato\n",
    "print(\"       la: \", la)           # [16,14,10]  l'input la è stato MODIFICATO !!\n",
    "\n",
    "print()\n",
    "lb = [7,5,6]\n",
    "modirit(lb).reverse()              # NOTA CHE POSSIAMO CONCATENARE\n",
    "print(\"       lb: \", lb)           # [12,10,14]  l'input lb è stato MODIFICATO !!\n",
    "#modirit(lb).reverse().append(16)  # ... ma questo non funzionerebbe. Perchè?\n",
    "\n",
    "jupman.pytut()"
   ]
  },
  {
   "cell_type": "markdown",
   "metadata": {},
   "source": [
    "### MODIFICA E RITORNA UNA PARTE\n",
    "\n",
    "MODIFICA l'input e RITORNA una parte di esso\n",
    "\n",
    "- NON STAMPA niente!"
   ]
  },
  {
   "cell_type": "code",
   "execution_count": 6,
   "metadata": {
    "scrolled": true
   },
   "outputs": [
    {
     "name": "stdout",
     "output_type": "stream",
     "text": [
      "risultato: c\n",
      "       la: ['a', 'b']\n"
     ]
    },
    {
     "data": {
      "text/html": [
       "\n",
       "        <script src=\"../_static/js/pytutor-embed.bundle.min.js\" type=\"application/javascript\"></script>\n",
       "     \n",
       "        <script id=\"json-jm989ca89f-de41-409b-8366-3f883a8e4603\" type=\"application/json\" >\n",
       "            {\"code\": \" \\ndef modirip(lista):\\n    \\\"\\\"\\\"MODIFICA lista affinch\\u00e8 diventi ordinata e l'elemento pi\\u00f9 grande sia rimosso,\\n       infine RITORNA l'elemento rimosso\\n    \\\"\\\"\\\"\\n    lista.sort()\\n    ret = lista[-1]\\n    lista.pop()\\n    return ret    \\n\\nla = ['b','c','a']\\nrisultato = modirip(la)\\nprint(\\\"risultato:\\\", risultato)    # 'c'        : ha RITORNATO un pezzo di input\\nprint(\\\"       la:\\\", la)           # ['a','b']  : la \\u00e8 stata MODIFICATA!!\", \"trace\": [{\"line\": 2, \"event\": \"step_line\", \"func_name\": \"<module>\", \"globals\": {}, \"ordered_globals\": [], \"stack_to_render\": [], \"heap\": {}, \"stdout\": \"\"}, {\"line\": 11, \"event\": \"step_line\", \"func_name\": \"<module>\", \"globals\": {\"modirip\": [\"REF\", 1]}, \"ordered_globals\": [\"modirip\"], \"stack_to_render\": [], \"heap\": {\"1\": [\"FUNCTION\", \"modirip(lista)\", null]}, \"stdout\": \"\"}, {\"line\": 12, \"event\": \"step_line\", \"func_name\": \"<module>\", \"globals\": {\"modirip\": [\"REF\", 1], \"la\": [\"REF\", 2]}, \"ordered_globals\": [\"modirip\", \"la\"], \"stack_to_render\": [], \"heap\": {\"1\": [\"FUNCTION\", \"modirip(lista)\", null], \"2\": [\"LIST\", \"b\", \"c\", \"a\"]}, \"stdout\": \"\"}, {\"line\": 2, \"event\": \"call\", \"func_name\": \"modirip\", \"globals\": {\"modirip\": [\"REF\", 1], \"la\": [\"REF\", 2]}, \"ordered_globals\": [\"modirip\", \"la\"], \"stack_to_render\": [{\"func_name\": \"modirip\", \"is_parent\": false, \"frame_id\": 1, \"parent_frame_id_list\": [], \"encoded_locals\": {\"lista\": [\"REF\", 2]}, \"ordered_varnames\": [\"lista\"], \"is_zombie\": false, \"is_highlighted\": true, \"unique_hash\": \"modirip_f1\"}], \"heap\": {\"2\": [\"LIST\", \"b\", \"c\", \"a\"], \"1\": [\"FUNCTION\", \"modirip(lista)\", null]}, \"stdout\": \"\"}, {\"line\": 6, \"event\": \"step_line\", \"func_name\": \"modirip\", \"globals\": {\"modirip\": [\"REF\", 1], \"la\": [\"REF\", 2]}, \"ordered_globals\": [\"modirip\", \"la\"], \"stack_to_render\": [{\"func_name\": \"modirip\", \"is_parent\": false, \"frame_id\": 1, \"parent_frame_id_list\": [], \"encoded_locals\": {\"lista\": [\"REF\", 2]}, \"ordered_varnames\": [\"lista\"], \"is_zombie\": false, \"is_highlighted\": true, \"unique_hash\": \"modirip_f1\"}], \"heap\": {\"2\": [\"LIST\", \"b\", \"c\", \"a\"], \"1\": [\"FUNCTION\", \"modirip(lista)\", null]}, \"stdout\": \"\"}, {\"line\": 7, \"event\": \"step_line\", \"func_name\": \"modirip\", \"globals\": {\"modirip\": [\"REF\", 1], \"la\": [\"REF\", 2]}, \"ordered_globals\": [\"modirip\", \"la\"], \"stack_to_render\": [{\"func_name\": \"modirip\", \"is_parent\": false, \"frame_id\": 1, \"parent_frame_id_list\": [], \"encoded_locals\": {\"lista\": [\"REF\", 2]}, \"ordered_varnames\": [\"lista\"], \"is_zombie\": false, \"is_highlighted\": true, \"unique_hash\": \"modirip_f1\"}], \"heap\": {\"2\": [\"LIST\", \"a\", \"b\", \"c\"], \"1\": [\"FUNCTION\", \"modirip(lista)\", null]}, \"stdout\": \"\"}, {\"line\": 8, \"event\": \"step_line\", \"func_name\": \"modirip\", \"globals\": {\"modirip\": [\"REF\", 1], \"la\": [\"REF\", 2]}, \"ordered_globals\": [\"modirip\", \"la\"], \"stack_to_render\": [{\"func_name\": \"modirip\", \"is_parent\": false, \"frame_id\": 1, \"parent_frame_id_list\": [], \"encoded_locals\": {\"lista\": [\"REF\", 2], \"ret\": \"c\"}, \"ordered_varnames\": [\"lista\", \"ret\"], \"is_zombie\": false, \"is_highlighted\": true, \"unique_hash\": \"modirip_f1\"}], \"heap\": {\"2\": [\"LIST\", \"a\", \"b\", \"c\"], \"1\": [\"FUNCTION\", \"modirip(lista)\", null]}, \"stdout\": \"\"}, {\"line\": 9, \"event\": \"step_line\", \"func_name\": \"modirip\", \"globals\": {\"modirip\": [\"REF\", 1], \"la\": [\"REF\", 2]}, \"ordered_globals\": [\"modirip\", \"la\"], \"stack_to_render\": [{\"func_name\": \"modirip\", \"is_parent\": false, \"frame_id\": 1, \"parent_frame_id_list\": [], \"encoded_locals\": {\"lista\": [\"REF\", 2], \"ret\": \"c\"}, \"ordered_varnames\": [\"lista\", \"ret\"], \"is_zombie\": false, \"is_highlighted\": true, \"unique_hash\": \"modirip_f1\"}], \"heap\": {\"2\": [\"LIST\", \"a\", \"b\"], \"1\": [\"FUNCTION\", \"modirip(lista)\", null]}, \"stdout\": \"\"}, {\"line\": 9, \"event\": \"return\", \"func_name\": \"modirip\", \"globals\": {\"modirip\": [\"REF\", 1], \"la\": [\"REF\", 2]}, \"ordered_globals\": [\"modirip\", \"la\"], \"stack_to_render\": [{\"func_name\": \"modirip\", \"is_parent\": false, \"frame_id\": 1, \"parent_frame_id_list\": [], \"encoded_locals\": {\"lista\": [\"REF\", 2], \"ret\": \"c\", \"__return__\": \"c\"}, \"ordered_varnames\": [\"lista\", \"ret\", \"__return__\"], \"is_zombie\": false, \"is_highlighted\": true, \"unique_hash\": \"modirip_f1\"}], \"heap\": {\"2\": [\"LIST\", \"a\", \"b\"], \"1\": [\"FUNCTION\", \"modirip(lista)\", null]}, \"stdout\": \"\"}, {\"line\": 13, \"event\": \"step_line\", \"func_name\": \"<module>\", \"globals\": {\"modirip\": [\"REF\", 1], \"la\": [\"REF\", 2], \"risultato\": \"c\"}, \"ordered_globals\": [\"modirip\", \"la\", \"risultato\"], \"stack_to_render\": [], \"heap\": {\"1\": [\"FUNCTION\", \"modirip(lista)\", null], \"2\": [\"LIST\", \"a\", \"b\"]}, \"stdout\": \"\"}, {\"line\": 14, \"event\": \"step_line\", \"func_name\": \"<module>\", \"globals\": {\"modirip\": [\"REF\", 1], \"la\": [\"REF\", 2], \"risultato\": \"c\"}, \"ordered_globals\": [\"modirip\", \"la\", \"risultato\"], \"stack_to_render\": [], \"heap\": {\"1\": [\"FUNCTION\", \"modirip(lista)\", null], \"2\": [\"LIST\", \"a\", \"b\"]}, \"stdout\": \"risultato: c\\n\"}, {\"line\": 14, \"event\": \"return\", \"func_name\": \"<module>\", \"globals\": {\"modirip\": [\"REF\", 1], \"la\": [\"REF\", 2], \"risultato\": \"c\"}, \"ordered_globals\": [\"modirip\", \"la\", \"risultato\"], \"stack_to_render\": [], \"heap\": {\"1\": [\"FUNCTION\", \"modirip(lista)\", null], \"2\": [\"LIST\", \"a\", \"b\"]}, \"stdout\": \"risultato: c\\n       la: ['a', 'b']\\n\"}]}\n",
       "        </script>\n",
       "        <div id=\"jm989ca89f-de41-409b-8366-3f883a8e4603\" class=\"pytutorVisualizer\"> </div>\n",
       " \n",
       "        <style>\n",
       "        .vizLayoutTd {\n",
       "            background-color: #fff !important;\n",
       "        }\n",
       "\n",
       "        #pyStdout {            \n",
       "            min-height:25px;\n",
       "        }\n",
       "\n",
       "        /* 'Edit this code' link, hiding because replaces browser tab !!!*/\n",
       "        #editCodeLinkDiv {\n",
       "            display:none;  \n",
       "        }\n",
       "        </style>   \n",
       "                            \n",
       "        <script>\n",
       "        (function(){\n",
       "\n",
       "            var trace = JSON.parse(document.getElementById('json-jm989ca89f-de41-409b-8366-3f883a8e4603').innerHTML);                                        \n",
       "            // NOTE 1: id without #\n",
       "            // NOTE 2 - maybe there are more predictable ways, but this will work anyway\n",
       "            //        - id should be number\n",
       "            visualizerIdOverride = Math.trunc(Math.random() * 100000000000)\n",
       "            addVisualizerToPage(trace, 'jm989ca89f-de41-409b-8366-3f883a8e4603',{'embeddedMode' : false,\n",
       "                                             'visualizerIdOverride':visualizerIdOverride})  \n",
       "            \n",
       "            \n",
       "            // set overflow for pytuts - need to do in python as css \n",
       "            // does not allow parent selection\n",
       "            var pytuts = $('.pytutorVisualizer')\n",
       "            pytuts.closest('div.output_html.rendered_html.output_result')\n",
       "                    .css('overflow-x', 'visible')\n",
       "        \n",
       "            //pytuts.closest('div.output_html.rendered_html.output_result')\n",
       "            //      .css('background-color','red')                \n",
       "            \n",
       "        })()\n",
       "        </script>\n",
       "                \n",
       "                "
      ],
      "text/plain": [
       "<IPython.core.display.HTML object>"
      ]
     },
     "execution_count": 6,
     "metadata": {},
     "output_type": "execute_result"
    }
   ],
   "source": [
    "def modirip(lista):\n",
    "    \"\"\"MODIFICA lista affinchè diventi ordinata e l'elemento più grande sia rimosso,\n",
    "       infine RITORNA l'elemento rimosso\n",
    "    \"\"\"\n",
    "    lista.sort()\n",
    "    ret = lista[-1]\n",
    "    lista.pop()\n",
    "    return ret    \n",
    "\n",
    "la = ['b','c','a']\n",
    "risultato = modirip(la)\n",
    "print(\"risultato:\", risultato)    # 'c'        : ha RITORNATO un pezzo di input\n",
    "print(\"       la:\", la)           # ['a','b']  : la è stata MODIFICATA!!\n",
    "jupman.pytut()"
   ]
  },
  {
   "cell_type": "markdown",
   "metadata": {},
   "source": [
    "## Ricorda i comandamenti"
   ]
  },
  {
   "cell_type": "markdown",
   "metadata": {},
   "source": [
    "### III COMANDAMENTO\n",
    "\n",
    "<div class=\"alert alert-info\" >\n",
    "\n",
    "**Noi riassegnerai mai parametri di funzione**\n",
    "\n",
    "</div>\n",
    "\n",
    "Non farai mai nessuna di queste assegnazioni, pena la perdita del parametro passato quando viene chiamata la funzione:"
   ]
  },
  {
   "cell_type": "code",
   "execution_count": 7,
   "metadata": {},
   "outputs": [
    {
     "name": "stdout",
     "output_type": "stream",
     "text": [
      "666\n"
     ]
    }
   ],
   "source": [
    "def peccato(intero):\n",
    "    intero = 666            # peccato, hai perso il 5 passato dall'esterno !\n",
    "    print(intero)           # stampa 666\n",
    "    \n",
    "x = 5\n",
    "peccato(x)"
   ]
  },
  {
   "cell_type": "markdown",
   "metadata": {},
   "source": [
    "Lo stesso discorso si applica per tutti gli altri tipi:"
   ]
  },
  {
   "cell_type": "code",
   "execution_count": 8,
   "metadata": {},
   "outputs": [],
   "source": [
    "def male(stringa):\n",
    "    stringa = \"666\"          "
   ]
  },
  {
   "cell_type": "code",
   "execution_count": 9,
   "metadata": {},
   "outputs": [],
   "source": [
    "def disgrazia(lista):\n",
    "    lista = [666]"
   ]
  },
  {
   "cell_type": "code",
   "execution_count": 10,
   "metadata": {},
   "outputs": [],
   "source": [
    "def delirio(dizionario):\n",
    "    dizionario = {\"maligno\":666}"
   ]
  },
  {
   "cell_type": "markdown",
   "metadata": {},
   "source": [
    "Per il solo caso di parametri compositi come liste o dizionari, puoi scrivere come sotto \n",
    "SE E SOLO SE le specifiche della funzione ti richiedono di MODIFICARE gli elementi interni del \n",
    "parametro (come per esempio ordinare una lista o cambiare il campo di un dizionario)"
   ]
  },
  {
   "cell_type": "code",
   "execution_count": 11,
   "metadata": {},
   "outputs": [
    {
     "name": "stdout",
     "output_type": "stream",
     "text": [
      "[8, 5, 9]\n"
     ]
    }
   ],
   "source": [
    "# MODIFICA lista in qualche modo\n",
    "def consentito(lista):        \n",
    "    lista[2] = 9         # OK, lo richiede il testo della funzione\n",
    "    \n",
    "fuori = [8,5,7]\n",
    "consentito(fuori)\n",
    "print(fuori)"
   ]
  },
  {
   "cell_type": "code",
   "execution_count": 12,
   "metadata": {},
   "outputs": [],
   "source": [
    "# MODIFICA dizionario in qualche modo\n",
    "def daccordo(dizionario):\n",
    "    dizionario[\"mio campo\"] = 5       # OK, lo richiede il testo"
   ]
  },
  {
   "cell_type": "code",
   "execution_count": 13,
   "metadata": {},
   "outputs": [],
   "source": [
    "# MODIFICA istanza in qualche modo\n",
    "def va_bene(istanza_di_classe):\n",
    "    istanza_di_classe.mio_campo = 7   # OK, lo richiede il testo"
   ]
  },
  {
   "cell_type": "markdown",
   "metadata": {},
   "source": [
    "Se invece il testo di una funzione ti chiede di RITORNARE  un NUOVO oggetto, non cadrai nella tentazione di modificare l'input:"
   ]
  },
  {
   "cell_type": "code",
   "execution_count": 14,
   "metadata": {},
   "outputs": [],
   "source": [
    "# RITORNA una NUOVA lista ordinata\n",
    "def dolore(lista):\n",
    "    lista.sort()           # MALE, stai modificando la lista di input invece di crearne una nuova!\n",
    "    return lista"
   ]
  },
  {
   "cell_type": "code",
   "execution_count": 15,
   "metadata": {},
   "outputs": [],
   "source": [
    "# RITORNA una NUOVA lista \n",
    "def crisi(lista):\n",
    "    lista[0] = 5           # MALE, come sopra\n",
    "    return lista"
   ]
  },
  {
   "cell_type": "code",
   "execution_count": 16,
   "metadata": {},
   "outputs": [],
   "source": [
    "# RITORNA un NUOVO dizionario \n",
    "def tormento(dizionario):\n",
    "    dizionario['a'] = 6    # MALE, stai modificando il dizionario di input \n",
    "                           #       invece di crearne uno nuovo!\n",
    "    return dizionario"
   ]
  },
  {
   "cell_type": "code",
   "execution_count": 17,
   "metadata": {},
   "outputs": [],
   "source": [
    "# RITORNA una NUOVA istanza di classe\n",
    "def disperazione(istanza):\n",
    "    istanza.mio_campo = 6  # MALE, stai modificando l'oggetto di input\n",
    "                           #       invece di crearne uno nuovo!\n",
    "    return istanza"
   ]
  },
  {
   "cell_type": "markdown",
   "metadata": {},
   "source": [
    "### IV COMANDAMENTO\n",
    "\n",
    "<div class=\"alert alert-info\" >\n",
    "\n",
    "**Non riassegnerai mai valori a chiamate a funzioni o metodi**\n",
    "\n",
    "</div>\n",
    "\n",
    "Chiamate a funzione come `mia_funzione()` ritornano risultati di calcoli e li mettono in una scatola che è creata solo per lo scopo della chiamata e Python non ci consentirà di riusarla come una variabile. \n",
    "\n",
    "Quando vedi `nome()` alla parte sinistra, _non può_ essere seguito da un segno di uguaglianza `=` (ma può essere seguito da due segni di uguaglianza `==` se stai eseguendo una comparazione).\n",
    "\n",
    "_SBAGLIATO:_\n",
    "\n",
    "```python\n",
    "mia_funzione() = 666      \n",
    "mia_funzione() = 'evil'   \n",
    "mia_funzione() = [666]    \n",
    "```\n",
    "\n",
    "_CORRETTO:_\n",
    "\n",
    "```python\n",
    "x = 5                     \n",
    "y = my_fun()              \n",
    "z = []                    \n",
    "z[0] = 7                  \n",
    "d = dict()                \n",
    "d[\"a\"] = 6                \n",
    "```\n"
   ]
  },
  {
   "cell_type": "markdown",
   "metadata": {},
   "source": [
    "### V COMANDAMENTO\n",
    "\n",
    "<div class=\"alert alert-info\" >\n",
    "\n",
    "**Non ridifinerai mai funzioni di sistema**\n",
    "</div>\n",
    "\n",
    "Python ha diverse funzioni di sistema predefinite. Per esempio `list` è un tipo Python: come tale, puoi usarlo per esempio come funzione per convertire un qualche tipo a lista:"
   ]
  },
  {
   "cell_type": "code",
   "execution_count": 18,
   "metadata": {},
   "outputs": [
    {
     "data": {
      "text/plain": [
       "['c', 'i', 'a', 'o']"
      ]
     },
     "execution_count": 18,
     "metadata": {},
     "output_type": "execute_result"
    }
   ],
   "source": [
    "list(\"ciao\")"
   ]
  },
  {
   "cell_type": "markdown",
   "metadata": {},
   "source": [
    "Quando consenti alle forze del male di prendere il sopravvento, potresti essere tentato di usare tipi e funzioni di sistema (per es. `list`) come una variabile per i tuoi miserabili propositi personali:\n",
    "\n",
    "```python\n",
    "list = ['la', 'mia', 'lista', 'raccapricciante']\n",
    "```"
   ]
  },
  {
   "cell_type": "markdown",
   "metadata": {},
   "source": [
    "Python ti permette di farlo, ma **noi no**, poichè le conseguenze sono disastrose. \n",
    "\n",
    "Per esempio, se adesso usi `list` per il proposito per cui è stata creata, cioè conversione a lista, non funzionerà più:"
   ]
  },
  {
   "cell_type": "markdown",
   "metadata": {},
   "source": [
    "```python\n",
    "list(\"ciao\")\n",
    "```\n",
    "```\n",
    "---------------------------------------------------------------------------\n",
    "TypeError                                 Traceback (most recent call last)\n",
    "<ipython-input-4-c63add832213> in <module>()\n",
    "----> 1 list(\"ciao\")\n",
    "\n",
    "TypeError: 'list' object is not callable\n",
    "\n",
    "```"
   ]
  },
  {
   "cell_type": "markdown",
   "metadata": {},
   "source": [
    "\n",
    "In particolare, raccomandiamo di **non ridefinire** queste preziose funzioni:\n",
    "\n",
    "* `bool`, `int`,`float`,`tuple`,`str`,`list`,`set`,`dict`\n",
    "* `max`, `min`, `sum`\n",
    "* `next`, `iter`\n",
    "* `id`, `dir`, `vars`,`help`"
   ]
  },
  {
   "cell_type": "markdown",
   "metadata": {},
   "source": [
    "## Valori immutabili\n",
    "\n",
    "I tipi base come gli interi, float e booleani sono immutabili, così come le sequenze stringhe e tuple: quando ti viene chiesto di RITORNARE uno di questi tipi, diciamo una stringa, la sola cosa che puoi fare è ottenere NUOVE stringhe basate sui parametri che ricevi. Vediamo un esempio."
   ]
  },
  {
   "cell_type": "markdown",
   "metadata": {},
   "source": [
    "Supponi ti venga richiesto di implementare questa funzione:"
   ]
  },
  {
   "cell_type": "markdown",
   "metadata": {},
   "source": [
    "> Scrivi una funzione `mia_maiusc`che RITORNI la stringa passata in maiuscolo.\n",
    "\n",
    "Potremmo implementarla così:"
   ]
  },
  {
   "cell_type": "code",
   "execution_count": 19,
   "metadata": {},
   "outputs": [],
   "source": [
    "# Esegui questa cella per far funzionare Python Tutor\n",
    "import jupman;"
   ]
  },
  {
   "cell_type": "code",
   "execution_count": 20,
   "metadata": {},
   "outputs": [
    {
     "name": "stdout",
     "output_type": "stream",
     "text": [
      "      risultato: MARINAIO\n",
      "stringa_esterna: marinaio\n"
     ]
    },
    {
     "data": {
      "text/html": [
       "\n",
       "        <script src=\"../_static/js/pytutor-embed.bundle.min.js\" type=\"application/javascript\"></script>\n",
       "     \n",
       "        <script id=\"json-jm393ee4e9-a7cb-456e-88fa-4273bd01e3c5\" type=\"application/json\" >\n",
       "            {\"code\": \" \\nstringa_esterna = \\\"marinaio\\\"\\n\\ndef mia_maiusc(s):\\n    ret = s.upper()   # i metodi delle stringhe creano una NUOVA stringa\\n    return ret        \\n    \\nrisultato = mia_maiusc(stringa_esterna)\\n\\nprint('      risultato:', risultato)\\nprint('stringa_esterna:', stringa_esterna)\", \"trace\": [{\"line\": 2, \"event\": \"step_line\", \"func_name\": \"<module>\", \"globals\": {}, \"ordered_globals\": [], \"stack_to_render\": [], \"heap\": {}, \"stdout\": \"\"}, {\"line\": 4, \"event\": \"step_line\", \"func_name\": \"<module>\", \"globals\": {\"stringa_esterna\": \"marinaio\"}, \"ordered_globals\": [\"stringa_esterna\"], \"stack_to_render\": [], \"heap\": {}, \"stdout\": \"\"}, {\"line\": 8, \"event\": \"step_line\", \"func_name\": \"<module>\", \"globals\": {\"stringa_esterna\": \"marinaio\", \"mia_maiusc\": [\"REF\", 1]}, \"ordered_globals\": [\"stringa_esterna\", \"mia_maiusc\"], \"stack_to_render\": [], \"heap\": {\"1\": [\"FUNCTION\", \"mia_maiusc(s)\", null]}, \"stdout\": \"\"}, {\"line\": 4, \"event\": \"call\", \"func_name\": \"mia_maiusc\", \"globals\": {\"stringa_esterna\": \"marinaio\", \"mia_maiusc\": [\"REF\", 1]}, \"ordered_globals\": [\"stringa_esterna\", \"mia_maiusc\"], \"stack_to_render\": [{\"func_name\": \"mia_maiusc\", \"is_parent\": false, \"frame_id\": 1, \"parent_frame_id_list\": [], \"encoded_locals\": {\"s\": \"marinaio\"}, \"ordered_varnames\": [\"s\"], \"is_zombie\": false, \"is_highlighted\": true, \"unique_hash\": \"mia_maiusc_f1\"}], \"heap\": {\"1\": [\"FUNCTION\", \"mia_maiusc(s)\", null]}, \"stdout\": \"\"}, {\"line\": 5, \"event\": \"step_line\", \"func_name\": \"mia_maiusc\", \"globals\": {\"stringa_esterna\": \"marinaio\", \"mia_maiusc\": [\"REF\", 1]}, \"ordered_globals\": [\"stringa_esterna\", \"mia_maiusc\"], \"stack_to_render\": [{\"func_name\": \"mia_maiusc\", \"is_parent\": false, \"frame_id\": 1, \"parent_frame_id_list\": [], \"encoded_locals\": {\"s\": \"marinaio\"}, \"ordered_varnames\": [\"s\"], \"is_zombie\": false, \"is_highlighted\": true, \"unique_hash\": \"mia_maiusc_f1\"}], \"heap\": {\"1\": [\"FUNCTION\", \"mia_maiusc(s)\", null]}, \"stdout\": \"\"}, {\"line\": 6, \"event\": \"step_line\", \"func_name\": \"mia_maiusc\", \"globals\": {\"stringa_esterna\": \"marinaio\", \"mia_maiusc\": [\"REF\", 1]}, \"ordered_globals\": [\"stringa_esterna\", \"mia_maiusc\"], \"stack_to_render\": [{\"func_name\": \"mia_maiusc\", \"is_parent\": false, \"frame_id\": 1, \"parent_frame_id_list\": [], \"encoded_locals\": {\"s\": \"marinaio\", \"ret\": \"MARINAIO\"}, \"ordered_varnames\": [\"s\", \"ret\"], \"is_zombie\": false, \"is_highlighted\": true, \"unique_hash\": \"mia_maiusc_f1\"}], \"heap\": {\"1\": [\"FUNCTION\", \"mia_maiusc(s)\", null]}, \"stdout\": \"\"}, {\"line\": 6, \"event\": \"return\", \"func_name\": \"mia_maiusc\", \"globals\": {\"stringa_esterna\": \"marinaio\", \"mia_maiusc\": [\"REF\", 1]}, \"ordered_globals\": [\"stringa_esterna\", \"mia_maiusc\"], \"stack_to_render\": [{\"func_name\": \"mia_maiusc\", \"is_parent\": false, \"frame_id\": 1, \"parent_frame_id_list\": [], \"encoded_locals\": {\"s\": \"marinaio\", \"ret\": \"MARINAIO\", \"__return__\": \"MARINAIO\"}, \"ordered_varnames\": [\"s\", \"ret\", \"__return__\"], \"is_zombie\": false, \"is_highlighted\": true, \"unique_hash\": \"mia_maiusc_f1\"}], \"heap\": {\"1\": [\"FUNCTION\", \"mia_maiusc(s)\", null]}, \"stdout\": \"\"}, {\"line\": 10, \"event\": \"step_line\", \"func_name\": \"<module>\", \"globals\": {\"stringa_esterna\": \"marinaio\", \"mia_maiusc\": [\"REF\", 1], \"risultato\": \"MARINAIO\"}, \"ordered_globals\": [\"stringa_esterna\", \"mia_maiusc\", \"risultato\"], \"stack_to_render\": [], \"heap\": {\"1\": [\"FUNCTION\", \"mia_maiusc(s)\", null]}, \"stdout\": \"\"}, {\"line\": 11, \"event\": \"step_line\", \"func_name\": \"<module>\", \"globals\": {\"stringa_esterna\": \"marinaio\", \"mia_maiusc\": [\"REF\", 1], \"risultato\": \"MARINAIO\"}, \"ordered_globals\": [\"stringa_esterna\", \"mia_maiusc\", \"risultato\"], \"stack_to_render\": [], \"heap\": {\"1\": [\"FUNCTION\", \"mia_maiusc(s)\", null]}, \"stdout\": \"      risultato: MARINAIO\\n\"}, {\"line\": 11, \"event\": \"return\", \"func_name\": \"<module>\", \"globals\": {\"stringa_esterna\": \"marinaio\", \"mia_maiusc\": [\"REF\", 1], \"risultato\": \"MARINAIO\"}, \"ordered_globals\": [\"stringa_esterna\", \"mia_maiusc\", \"risultato\"], \"stack_to_render\": [], \"heap\": {\"1\": [\"FUNCTION\", \"mia_maiusc(s)\", null]}, \"stdout\": \"      risultato: MARINAIO\\nstringa_esterna: marinaio\\n\"}]}\n",
       "        </script>\n",
       "        <div id=\"jm393ee4e9-a7cb-456e-88fa-4273bd01e3c5\" class=\"pytutorVisualizer\"> </div>\n",
       " \n",
       "        <style>\n",
       "        .vizLayoutTd {\n",
       "            background-color: #fff !important;\n",
       "        }\n",
       "\n",
       "        #pyStdout {            \n",
       "            min-height:25px;\n",
       "        }\n",
       "\n",
       "        /* 'Edit this code' link, hiding because replaces browser tab !!!*/\n",
       "        #editCodeLinkDiv {\n",
       "            display:none;  \n",
       "        }\n",
       "        </style>   \n",
       "                            \n",
       "        <script>\n",
       "        (function(){\n",
       "\n",
       "            var trace = JSON.parse(document.getElementById('json-jm393ee4e9-a7cb-456e-88fa-4273bd01e3c5').innerHTML);                                        \n",
       "            // NOTE 1: id without #\n",
       "            // NOTE 2 - maybe there are more predictable ways, but this will work anyway\n",
       "            //        - id should be number\n",
       "            visualizerIdOverride = Math.trunc(Math.random() * 100000000000)\n",
       "            addVisualizerToPage(trace, 'jm393ee4e9-a7cb-456e-88fa-4273bd01e3c5',{'embeddedMode' : false,\n",
       "                                             'visualizerIdOverride':visualizerIdOverride})  \n",
       "            \n",
       "            \n",
       "            // set overflow for pytuts - need to do in python as css \n",
       "            // does not allow parent selection\n",
       "            var pytuts = $('.pytutorVisualizer')\n",
       "            pytuts.closest('div.output_html.rendered_html.output_result')\n",
       "                    .css('overflow-x', 'visible')\n",
       "        \n",
       "            //pytuts.closest('div.output_html.rendered_html.output_result')\n",
       "            //      .css('background-color','red')                \n",
       "            \n",
       "        })()\n",
       "        </script>\n",
       "                \n",
       "                "
      ],
      "text/plain": [
       "<IPython.core.display.HTML object>"
      ]
     },
     "execution_count": 20,
     "metadata": {},
     "output_type": "execute_result"
    }
   ],
   "source": [
    "stringa_esterna = \"marinaio\"\n",
    "\n",
    "def mia_maiusc(s):\n",
    "    ret = s.upper()   # i metodi delle stringhe creano una NUOVA stringa\n",
    "    return ret        \n",
    "    \n",
    "risultato = mia_maiusc(stringa_esterna)\n",
    "\n",
    "print('      risultato:', risultato)\n",
    "print('stringa_esterna:', stringa_esterna)\n",
    "\n",
    "jupman.pytut()"
   ]
  },
  {
   "cell_type": "markdown",
   "metadata": {},
   "source": [
    "Nota alcune cose:\n",
    "\n",
    "- la `stringa_esterna` non è cambiata\n",
    "- non abbiamo scritto `s = ` dentro il corpo della funzione, perchè il [IV COMMANDMENTO](https://it.softpython.org/commandments.html#IV-COMANDAMENTO) prescrive di non riassegnare i parametri\n",
    "- non ci siamo riferiti a `stringa_esterna` dentro il corpo della funzione: fare una cosa del genere avrebbe invalidato il proposito delle funzioni, che è proprio isolarle per quanto possibile dal mondo esterno"
   ]
  },
  {
   "cell_type": "markdown",
   "metadata": {},
   "source": [
    "### Cambiare il mondo: fallimento / 1\n",
    "\n",
    "E se avessimo voluto veramente cambiare l'assegnazione di `stringa_esterna` ?\n",
    "\n",
    "Potresti essere tentato di scrivere qualcosa come un assegnamento `s =` proprio dentro la funzione, ma il codice seguente **non** funzionerà"
   ]
  },
  {
   "cell_type": "markdown",
   "metadata": {},
   "source": [
    "**DOMANDA**: Perchè? Prova a rispondere prima di verificare l'esecuzione in Python Tutor."
   ]
  },
  {
   "cell_type": "raw",
   "id": "e1e94201",
   "metadata": {
    "format": "text/html"
   },
   "source": [
    "<a  class=\"jupman-sol jupman-sol-toggler\" \n",
    " onclick=\"jupman.toggleSolution(this);\" \n",
    " data-jupman-show=\"Mostra risposta\" data-jupman-hide=\"Nascondi\">Mostra risposta</a><div class=\"jupman-sol jupman-sol-question\" style=\"display:none\">  "
   ]
  },
  {
   "cell_type": "markdown",
   "metadata": {},
   "source": [
    "**RISPOSTA**: \n",
    "    \n",
    "`s = s.upper()` MODIFICA solo l'assegnazione `s` del frame di chiamata della funzione, non ha effetti sul mondo esterno"
   ]
  },
  {
   "cell_type": "raw",
   "id": "9c25d7b6",
   "metadata": {
    "format": "text/html"
   },
   "source": [
    "</div>"
   ]
  },
  {
   "cell_type": "code",
   "execution_count": 21,
   "metadata": {},
   "outputs": [
    {
     "name": "stdout",
     "output_type": "stream",
     "text": [
      "      risultato: MARINAIO\n",
      "stringa_esterna: marinaio\n"
     ]
    },
    {
     "data": {
      "text/html": [
       "\n",
       "        <script src=\"../_static/js/pytutor-embed.bundle.min.js\" type=\"application/javascript\"></script>\n",
       "     \n",
       "        <script id=\"json-jm75e56273-8589-4a2c-90a0-866c0967abfc\" type=\"application/json\" >\n",
       "            {\"code\": \" \\nstringa_esterna = \\\"marinaio\\\"\\n\\ndef mia_maiusc(s):\\n    s = s.upper()  \\n    return s\\n    \\nrisultato = mia_maiusc(stringa_esterna)\\n\\nprint('      risultato:', risultato)\\nprint('stringa_esterna:', stringa_esterna)\", \"trace\": [{\"line\": 2, \"event\": \"step_line\", \"func_name\": \"<module>\", \"globals\": {}, \"ordered_globals\": [], \"stack_to_render\": [], \"heap\": {}, \"stdout\": \"\"}, {\"line\": 4, \"event\": \"step_line\", \"func_name\": \"<module>\", \"globals\": {\"stringa_esterna\": \"marinaio\"}, \"ordered_globals\": [\"stringa_esterna\"], \"stack_to_render\": [], \"heap\": {}, \"stdout\": \"\"}, {\"line\": 8, \"event\": \"step_line\", \"func_name\": \"<module>\", \"globals\": {\"stringa_esterna\": \"marinaio\", \"mia_maiusc\": [\"REF\", 1]}, \"ordered_globals\": [\"stringa_esterna\", \"mia_maiusc\"], \"stack_to_render\": [], \"heap\": {\"1\": [\"FUNCTION\", \"mia_maiusc(s)\", null]}, \"stdout\": \"\"}, {\"line\": 4, \"event\": \"call\", \"func_name\": \"mia_maiusc\", \"globals\": {\"stringa_esterna\": \"marinaio\", \"mia_maiusc\": [\"REF\", 1]}, \"ordered_globals\": [\"stringa_esterna\", \"mia_maiusc\"], \"stack_to_render\": [{\"func_name\": \"mia_maiusc\", \"is_parent\": false, \"frame_id\": 1, \"parent_frame_id_list\": [], \"encoded_locals\": {\"s\": \"marinaio\"}, \"ordered_varnames\": [\"s\"], \"is_zombie\": false, \"is_highlighted\": true, \"unique_hash\": \"mia_maiusc_f1\"}], \"heap\": {\"1\": [\"FUNCTION\", \"mia_maiusc(s)\", null]}, \"stdout\": \"\"}, {\"line\": 5, \"event\": \"step_line\", \"func_name\": \"mia_maiusc\", \"globals\": {\"stringa_esterna\": \"marinaio\", \"mia_maiusc\": [\"REF\", 1]}, \"ordered_globals\": [\"stringa_esterna\", \"mia_maiusc\"], \"stack_to_render\": [{\"func_name\": \"mia_maiusc\", \"is_parent\": false, \"frame_id\": 1, \"parent_frame_id_list\": [], \"encoded_locals\": {\"s\": \"marinaio\"}, \"ordered_varnames\": [\"s\"], \"is_zombie\": false, \"is_highlighted\": true, \"unique_hash\": \"mia_maiusc_f1\"}], \"heap\": {\"1\": [\"FUNCTION\", \"mia_maiusc(s)\", null]}, \"stdout\": \"\"}, {\"line\": 6, \"event\": \"step_line\", \"func_name\": \"mia_maiusc\", \"globals\": {\"stringa_esterna\": \"marinaio\", \"mia_maiusc\": [\"REF\", 1]}, \"ordered_globals\": [\"stringa_esterna\", \"mia_maiusc\"], \"stack_to_render\": [{\"func_name\": \"mia_maiusc\", \"is_parent\": false, \"frame_id\": 1, \"parent_frame_id_list\": [], \"encoded_locals\": {\"s\": \"MARINAIO\"}, \"ordered_varnames\": [\"s\"], \"is_zombie\": false, \"is_highlighted\": true, \"unique_hash\": \"mia_maiusc_f1\"}], \"heap\": {\"1\": [\"FUNCTION\", \"mia_maiusc(s)\", null]}, \"stdout\": \"\"}, {\"line\": 6, \"event\": \"return\", \"func_name\": \"mia_maiusc\", \"globals\": {\"stringa_esterna\": \"marinaio\", \"mia_maiusc\": [\"REF\", 1]}, \"ordered_globals\": [\"stringa_esterna\", \"mia_maiusc\"], \"stack_to_render\": [{\"func_name\": \"mia_maiusc\", \"is_parent\": false, \"frame_id\": 1, \"parent_frame_id_list\": [], \"encoded_locals\": {\"s\": \"MARINAIO\", \"__return__\": \"MARINAIO\"}, \"ordered_varnames\": [\"s\", \"__return__\"], \"is_zombie\": false, \"is_highlighted\": true, \"unique_hash\": \"mia_maiusc_f1\"}], \"heap\": {\"1\": [\"FUNCTION\", \"mia_maiusc(s)\", null]}, \"stdout\": \"\"}, {\"line\": 10, \"event\": \"step_line\", \"func_name\": \"<module>\", \"globals\": {\"stringa_esterna\": \"marinaio\", \"mia_maiusc\": [\"REF\", 1], \"risultato\": \"MARINAIO\"}, \"ordered_globals\": [\"stringa_esterna\", \"mia_maiusc\", \"risultato\"], \"stack_to_render\": [], \"heap\": {\"1\": [\"FUNCTION\", \"mia_maiusc(s)\", null]}, \"stdout\": \"\"}, {\"line\": 11, \"event\": \"step_line\", \"func_name\": \"<module>\", \"globals\": {\"stringa_esterna\": \"marinaio\", \"mia_maiusc\": [\"REF\", 1], \"risultato\": \"MARINAIO\"}, \"ordered_globals\": [\"stringa_esterna\", \"mia_maiusc\", \"risultato\"], \"stack_to_render\": [], \"heap\": {\"1\": [\"FUNCTION\", \"mia_maiusc(s)\", null]}, \"stdout\": \"      risultato: MARINAIO\\n\"}, {\"line\": 11, \"event\": \"return\", \"func_name\": \"<module>\", \"globals\": {\"stringa_esterna\": \"marinaio\", \"mia_maiusc\": [\"REF\", 1], \"risultato\": \"MARINAIO\"}, \"ordered_globals\": [\"stringa_esterna\", \"mia_maiusc\", \"risultato\"], \"stack_to_render\": [], \"heap\": {\"1\": [\"FUNCTION\", \"mia_maiusc(s)\", null]}, \"stdout\": \"      risultato: MARINAIO\\nstringa_esterna: marinaio\\n\"}]}\n",
       "        </script>\n",
       "        <div id=\"jm75e56273-8589-4a2c-90a0-866c0967abfc\" class=\"pytutorVisualizer\"> </div>\n",
       " \n",
       "        <style>\n",
       "        .vizLayoutTd {\n",
       "            background-color: #fff !important;\n",
       "        }\n",
       "\n",
       "        #pyStdout {            \n",
       "            min-height:25px;\n",
       "        }\n",
       "\n",
       "        /* 'Edit this code' link, hiding because replaces browser tab !!!*/\n",
       "        #editCodeLinkDiv {\n",
       "            display:none;  \n",
       "        }\n",
       "        </style>   \n",
       "                            \n",
       "        <script>\n",
       "        (function(){\n",
       "\n",
       "            var trace = JSON.parse(document.getElementById('json-jm75e56273-8589-4a2c-90a0-866c0967abfc').innerHTML);                                        \n",
       "            // NOTE 1: id without #\n",
       "            // NOTE 2 - maybe there are more predictable ways, but this will work anyway\n",
       "            //        - id should be number\n",
       "            visualizerIdOverride = Math.trunc(Math.random() * 100000000000)\n",
       "            addVisualizerToPage(trace, 'jm75e56273-8589-4a2c-90a0-866c0967abfc',{'embeddedMode' : false,\n",
       "                                             'visualizerIdOverride':visualizerIdOverride})  \n",
       "            \n",
       "            \n",
       "            // set overflow for pytuts - need to do in python as css \n",
       "            // does not allow parent selection\n",
       "            var pytuts = $('.pytutorVisualizer')\n",
       "            pytuts.closest('div.output_html.rendered_html.output_result')\n",
       "                    .css('overflow-x', 'visible')\n",
       "        \n",
       "            //pytuts.closest('div.output_html.rendered_html.output_result')\n",
       "            //      .css('background-color','red')                \n",
       "            \n",
       "        })()\n",
       "        </script>\n",
       "                \n",
       "                "
      ],
      "text/plain": [
       "<IPython.core.display.HTML object>"
      ]
     },
     "execution_count": 21,
     "metadata": {},
     "output_type": "execute_result"
    }
   ],
   "source": [
    "stringa_esterna = \"marinaio\"\n",
    "\n",
    "def mia_maiusc(s):\n",
    "    s = s.upper()  \n",
    "    return s\n",
    "    \n",
    "risultato = mia_maiusc(stringa_esterna)\n",
    "\n",
    "print('      risultato:', risultato)\n",
    "print('stringa_esterna:', stringa_esterna)\n",
    "\n",
    "jupman.pytut()"
   ]
  },
  {
   "cell_type": "markdown",
   "metadata": {},
   "source": [
    "### Cambiare il mondo: fallimento / 2\n",
    "\n",
    "Vediamo un'altra tentazione. Potresti provare ad assegnare `stringa_esterna =` dentro la funzione, ma il codice seguente **non** funzionerà"
   ]
  },
  {
   "cell_type": "markdown",
   "metadata": {},
   "source": [
    "**DOMANDA**: Perchè? Prova a rispondere prima di controllare l'esecuzione in Python Tutor."
   ]
  },
  {
   "cell_type": "raw",
   "id": "3cd6fc6c",
   "metadata": {
    "format": "text/html"
   },
   "source": [
    "<a  class=\"jupman-sol jupman-sol-toggler\" \n",
    " onclick=\"jupman.toggleSolution(this);\" \n",
    " data-jupman-show=\"Mostra risposta\" data-jupman-hide=\"Nascondi\">Mostra risposta</a><div class=\"jupman-sol jupman-sol-question\" style=\"display:none\">  "
   ]
  },
  {
   "cell_type": "markdown",
   "metadata": {},
   "source": [
    "**RISPOSTA**: \n",
    "\n",
    "`stringa_esterna = s.upper()` crea una NUOVA variabile  `stringa_esterna` dentro il frame di esecuzione della funzione chiamata."
   ]
  },
  {
   "cell_type": "raw",
   "id": "eaa8adb8",
   "metadata": {
    "format": "text/html"
   },
   "source": [
    "</div>"
   ]
  },
  {
   "cell_type": "code",
   "execution_count": 22,
   "metadata": {},
   "outputs": [
    {
     "name": "stdout",
     "output_type": "stream",
     "text": [
      "      risultato: MARINAIO\n",
      "stringa_esterna: marinaio\n"
     ]
    },
    {
     "data": {
      "text/html": [
       "\n",
       "        <script src=\"../_static/js/pytutor-embed.bundle.min.js\" type=\"application/javascript\"></script>\n",
       "     \n",
       "        <script id=\"json-jm50509337-2802-41ef-bbbc-6d034e500dbd\" type=\"application/json\" >\n",
       "            {\"code\": \" \\nstringa_esterna = \\\"marinaio\\\"\\n\\ndef mia_maiusc(s):\\n    stringa_esterna = s.upper()  \\n    return stringa_esterna\\n    \\nrisultato = mia_maiusc(stringa_esterna)\\n\\nprint('      risultato:', risultato)\\nprint('stringa_esterna:', stringa_esterna)\", \"trace\": [{\"line\": 2, \"event\": \"step_line\", \"func_name\": \"<module>\", \"globals\": {}, \"ordered_globals\": [], \"stack_to_render\": [], \"heap\": {}, \"stdout\": \"\"}, {\"line\": 4, \"event\": \"step_line\", \"func_name\": \"<module>\", \"globals\": {\"stringa_esterna\": \"marinaio\"}, \"ordered_globals\": [\"stringa_esterna\"], \"stack_to_render\": [], \"heap\": {}, \"stdout\": \"\"}, {\"line\": 8, \"event\": \"step_line\", \"func_name\": \"<module>\", \"globals\": {\"stringa_esterna\": \"marinaio\", \"mia_maiusc\": [\"REF\", 1]}, \"ordered_globals\": [\"stringa_esterna\", \"mia_maiusc\"], \"stack_to_render\": [], \"heap\": {\"1\": [\"FUNCTION\", \"mia_maiusc(s)\", null]}, \"stdout\": \"\"}, {\"line\": 4, \"event\": \"call\", \"func_name\": \"mia_maiusc\", \"globals\": {\"stringa_esterna\": \"marinaio\", \"mia_maiusc\": [\"REF\", 1]}, \"ordered_globals\": [\"stringa_esterna\", \"mia_maiusc\"], \"stack_to_render\": [{\"func_name\": \"mia_maiusc\", \"is_parent\": false, \"frame_id\": 1, \"parent_frame_id_list\": [], \"encoded_locals\": {\"s\": \"marinaio\"}, \"ordered_varnames\": [\"s\"], \"is_zombie\": false, \"is_highlighted\": true, \"unique_hash\": \"mia_maiusc_f1\"}], \"heap\": {\"1\": [\"FUNCTION\", \"mia_maiusc(s)\", null]}, \"stdout\": \"\"}, {\"line\": 5, \"event\": \"step_line\", \"func_name\": \"mia_maiusc\", \"globals\": {\"stringa_esterna\": \"marinaio\", \"mia_maiusc\": [\"REF\", 1]}, \"ordered_globals\": [\"stringa_esterna\", \"mia_maiusc\"], \"stack_to_render\": [{\"func_name\": \"mia_maiusc\", \"is_parent\": false, \"frame_id\": 1, \"parent_frame_id_list\": [], \"encoded_locals\": {\"s\": \"marinaio\"}, \"ordered_varnames\": [\"s\"], \"is_zombie\": false, \"is_highlighted\": true, \"unique_hash\": \"mia_maiusc_f1\"}], \"heap\": {\"1\": [\"FUNCTION\", \"mia_maiusc(s)\", null]}, \"stdout\": \"\"}, {\"line\": 6, \"event\": \"step_line\", \"func_name\": \"mia_maiusc\", \"globals\": {\"stringa_esterna\": \"marinaio\", \"mia_maiusc\": [\"REF\", 1]}, \"ordered_globals\": [\"stringa_esterna\", \"mia_maiusc\"], \"stack_to_render\": [{\"func_name\": \"mia_maiusc\", \"is_parent\": false, \"frame_id\": 1, \"parent_frame_id_list\": [], \"encoded_locals\": {\"s\": \"marinaio\", \"stringa_esterna\": \"MARINAIO\"}, \"ordered_varnames\": [\"s\", \"stringa_esterna\"], \"is_zombie\": false, \"is_highlighted\": true, \"unique_hash\": \"mia_maiusc_f1\"}], \"heap\": {\"1\": [\"FUNCTION\", \"mia_maiusc(s)\", null]}, \"stdout\": \"\"}, {\"line\": 6, \"event\": \"return\", \"func_name\": \"mia_maiusc\", \"globals\": {\"stringa_esterna\": \"marinaio\", \"mia_maiusc\": [\"REF\", 1]}, \"ordered_globals\": [\"stringa_esterna\", \"mia_maiusc\"], \"stack_to_render\": [{\"func_name\": \"mia_maiusc\", \"is_parent\": false, \"frame_id\": 1, \"parent_frame_id_list\": [], \"encoded_locals\": {\"s\": \"marinaio\", \"stringa_esterna\": \"MARINAIO\", \"__return__\": \"MARINAIO\"}, \"ordered_varnames\": [\"s\", \"stringa_esterna\", \"__return__\"], \"is_zombie\": false, \"is_highlighted\": true, \"unique_hash\": \"mia_maiusc_f1\"}], \"heap\": {\"1\": [\"FUNCTION\", \"mia_maiusc(s)\", null]}, \"stdout\": \"\"}, {\"line\": 10, \"event\": \"step_line\", \"func_name\": \"<module>\", \"globals\": {\"stringa_esterna\": \"marinaio\", \"mia_maiusc\": [\"REF\", 1], \"risultato\": \"MARINAIO\"}, \"ordered_globals\": [\"stringa_esterna\", \"mia_maiusc\", \"risultato\"], \"stack_to_render\": [], \"heap\": {\"1\": [\"FUNCTION\", \"mia_maiusc(s)\", null]}, \"stdout\": \"\"}, {\"line\": 11, \"event\": \"step_line\", \"func_name\": \"<module>\", \"globals\": {\"stringa_esterna\": \"marinaio\", \"mia_maiusc\": [\"REF\", 1], \"risultato\": \"MARINAIO\"}, \"ordered_globals\": [\"stringa_esterna\", \"mia_maiusc\", \"risultato\"], \"stack_to_render\": [], \"heap\": {\"1\": [\"FUNCTION\", \"mia_maiusc(s)\", null]}, \"stdout\": \"      risultato: MARINAIO\\n\"}, {\"line\": 11, \"event\": \"return\", \"func_name\": \"<module>\", \"globals\": {\"stringa_esterna\": \"marinaio\", \"mia_maiusc\": [\"REF\", 1], \"risultato\": \"MARINAIO\"}, \"ordered_globals\": [\"stringa_esterna\", \"mia_maiusc\", \"risultato\"], \"stack_to_render\": [], \"heap\": {\"1\": [\"FUNCTION\", \"mia_maiusc(s)\", null]}, \"stdout\": \"      risultato: MARINAIO\\nstringa_esterna: marinaio\\n\"}]}\n",
       "        </script>\n",
       "        <div id=\"jm50509337-2802-41ef-bbbc-6d034e500dbd\" class=\"pytutorVisualizer\"> </div>\n",
       " \n",
       "        <style>\n",
       "        .vizLayoutTd {\n",
       "            background-color: #fff !important;\n",
       "        }\n",
       "\n",
       "        #pyStdout {            \n",
       "            min-height:25px;\n",
       "        }\n",
       "\n",
       "        /* 'Edit this code' link, hiding because replaces browser tab !!!*/\n",
       "        #editCodeLinkDiv {\n",
       "            display:none;  \n",
       "        }\n",
       "        </style>   \n",
       "                            \n",
       "        <script>\n",
       "        (function(){\n",
       "\n",
       "            var trace = JSON.parse(document.getElementById('json-jm50509337-2802-41ef-bbbc-6d034e500dbd').innerHTML);                                        \n",
       "            // NOTE 1: id without #\n",
       "            // NOTE 2 - maybe there are more predictable ways, but this will work anyway\n",
       "            //        - id should be number\n",
       "            visualizerIdOverride = Math.trunc(Math.random() * 100000000000)\n",
       "            addVisualizerToPage(trace, 'jm50509337-2802-41ef-bbbc-6d034e500dbd',{'embeddedMode' : false,\n",
       "                                             'visualizerIdOverride':visualizerIdOverride})  \n",
       "            \n",
       "            \n",
       "            // set overflow for pytuts - need to do in python as css \n",
       "            // does not allow parent selection\n",
       "            var pytuts = $('.pytutorVisualizer')\n",
       "            pytuts.closest('div.output_html.rendered_html.output_result')\n",
       "                    .css('overflow-x', 'visible')\n",
       "        \n",
       "            //pytuts.closest('div.output_html.rendered_html.output_result')\n",
       "            //      .css('background-color','red')                \n",
       "            \n",
       "        })()\n",
       "        </script>\n",
       "                \n",
       "                "
      ],
      "text/plain": [
       "<IPython.core.display.HTML object>"
      ]
     },
     "execution_count": 22,
     "metadata": {},
     "output_type": "execute_result"
    }
   ],
   "source": [
    "stringa_esterna = \"marinaio\"\n",
    "\n",
    "def mia_maiusc(s):\n",
    "    stringa_esterna = s.upper()  \n",
    "    return stringa_esterna\n",
    "    \n",
    "risultato = mia_maiusc(stringa_esterna)\n",
    "\n",
    "print('      risultato:', risultato)\n",
    "print('stringa_esterna:', stringa_esterna)\n",
    "\n",
    "jupman.pytut()"
   ]
  },
  {
   "cell_type": "markdown",
   "metadata": {},
   "source": [
    "### Cambiare il mondo: Successo!\n",
    "\n",
    "Il modo corretto di affrontare il problema è creare una NUOVA stringa dentro la funzione, ritornarla, e quindi **fuori** dalla funzione effettuare l'assegnazione `stringa_esterna = risultato`. "
   ]
  },
  {
   "cell_type": "code",
   "execution_count": 23,
   "metadata": {},
   "outputs": [
    {
     "name": "stdout",
     "output_type": "stream",
     "text": [
      "      risultato: MARINAIO\n",
      "stringa_esterna: MARINAIO\n"
     ]
    },
    {
     "data": {
      "text/html": [
       "\n",
       "        <script src=\"../_static/js/pytutor-embed.bundle.min.js\" type=\"application/javascript\"></script>\n",
       "     \n",
       "        <script id=\"json-jm306a0b39-bdf8-485c-bf1c-210bcdc4b712\" type=\"application/json\" >\n",
       "            {\"code\": \" \\nstringa_esterna = \\\"marinaio\\\"\\n\\ndef mia_maiusc(s):\\n    ret = s.upper()   \\n    return ret\\n    \\nrisultato = mia_maiusc(stringa_esterna)   \\nstringa_esterna = risultato             # riassegna *fuori*\\n\\nprint('      risultato:', risultato)\\nprint('stringa_esterna:', stringa_esterna)\", \"trace\": [{\"line\": 2, \"event\": \"step_line\", \"func_name\": \"<module>\", \"globals\": {}, \"ordered_globals\": [], \"stack_to_render\": [], \"heap\": {}, \"stdout\": \"\"}, {\"line\": 4, \"event\": \"step_line\", \"func_name\": \"<module>\", \"globals\": {\"stringa_esterna\": \"marinaio\"}, \"ordered_globals\": [\"stringa_esterna\"], \"stack_to_render\": [], \"heap\": {}, \"stdout\": \"\"}, {\"line\": 8, \"event\": \"step_line\", \"func_name\": \"<module>\", \"globals\": {\"stringa_esterna\": \"marinaio\", \"mia_maiusc\": [\"REF\", 1]}, \"ordered_globals\": [\"stringa_esterna\", \"mia_maiusc\"], \"stack_to_render\": [], \"heap\": {\"1\": [\"FUNCTION\", \"mia_maiusc(s)\", null]}, \"stdout\": \"\"}, {\"line\": 4, \"event\": \"call\", \"func_name\": \"mia_maiusc\", \"globals\": {\"stringa_esterna\": \"marinaio\", \"mia_maiusc\": [\"REF\", 1]}, \"ordered_globals\": [\"stringa_esterna\", \"mia_maiusc\"], \"stack_to_render\": [{\"func_name\": \"mia_maiusc\", \"is_parent\": false, \"frame_id\": 1, \"parent_frame_id_list\": [], \"encoded_locals\": {\"s\": \"marinaio\"}, \"ordered_varnames\": [\"s\"], \"is_zombie\": false, \"is_highlighted\": true, \"unique_hash\": \"mia_maiusc_f1\"}], \"heap\": {\"1\": [\"FUNCTION\", \"mia_maiusc(s)\", null]}, \"stdout\": \"\"}, {\"line\": 5, \"event\": \"step_line\", \"func_name\": \"mia_maiusc\", \"globals\": {\"stringa_esterna\": \"marinaio\", \"mia_maiusc\": [\"REF\", 1]}, \"ordered_globals\": [\"stringa_esterna\", \"mia_maiusc\"], \"stack_to_render\": [{\"func_name\": \"mia_maiusc\", \"is_parent\": false, \"frame_id\": 1, \"parent_frame_id_list\": [], \"encoded_locals\": {\"s\": \"marinaio\"}, \"ordered_varnames\": [\"s\"], \"is_zombie\": false, \"is_highlighted\": true, \"unique_hash\": \"mia_maiusc_f1\"}], \"heap\": {\"1\": [\"FUNCTION\", \"mia_maiusc(s)\", null]}, \"stdout\": \"\"}, {\"line\": 6, \"event\": \"step_line\", \"func_name\": \"mia_maiusc\", \"globals\": {\"stringa_esterna\": \"marinaio\", \"mia_maiusc\": [\"REF\", 1]}, \"ordered_globals\": [\"stringa_esterna\", \"mia_maiusc\"], \"stack_to_render\": [{\"func_name\": \"mia_maiusc\", \"is_parent\": false, \"frame_id\": 1, \"parent_frame_id_list\": [], \"encoded_locals\": {\"s\": \"marinaio\", \"ret\": \"MARINAIO\"}, \"ordered_varnames\": [\"s\", \"ret\"], \"is_zombie\": false, \"is_highlighted\": true, \"unique_hash\": \"mia_maiusc_f1\"}], \"heap\": {\"1\": [\"FUNCTION\", \"mia_maiusc(s)\", null]}, \"stdout\": \"\"}, {\"line\": 6, \"event\": \"return\", \"func_name\": \"mia_maiusc\", \"globals\": {\"stringa_esterna\": \"marinaio\", \"mia_maiusc\": [\"REF\", 1]}, \"ordered_globals\": [\"stringa_esterna\", \"mia_maiusc\"], \"stack_to_render\": [{\"func_name\": \"mia_maiusc\", \"is_parent\": false, \"frame_id\": 1, \"parent_frame_id_list\": [], \"encoded_locals\": {\"s\": \"marinaio\", \"ret\": \"MARINAIO\", \"__return__\": \"MARINAIO\"}, \"ordered_varnames\": [\"s\", \"ret\", \"__return__\"], \"is_zombie\": false, \"is_highlighted\": true, \"unique_hash\": \"mia_maiusc_f1\"}], \"heap\": {\"1\": [\"FUNCTION\", \"mia_maiusc(s)\", null]}, \"stdout\": \"\"}, {\"line\": 9, \"event\": \"step_line\", \"func_name\": \"<module>\", \"globals\": {\"stringa_esterna\": \"marinaio\", \"mia_maiusc\": [\"REF\", 1], \"risultato\": \"MARINAIO\"}, \"ordered_globals\": [\"stringa_esterna\", \"mia_maiusc\", \"risultato\"], \"stack_to_render\": [], \"heap\": {\"1\": [\"FUNCTION\", \"mia_maiusc(s)\", null]}, \"stdout\": \"\"}, {\"line\": 11, \"event\": \"step_line\", \"func_name\": \"<module>\", \"globals\": {\"stringa_esterna\": \"MARINAIO\", \"mia_maiusc\": [\"REF\", 1], \"risultato\": \"MARINAIO\"}, \"ordered_globals\": [\"stringa_esterna\", \"mia_maiusc\", \"risultato\"], \"stack_to_render\": [], \"heap\": {\"1\": [\"FUNCTION\", \"mia_maiusc(s)\", null]}, \"stdout\": \"\"}, {\"line\": 12, \"event\": \"step_line\", \"func_name\": \"<module>\", \"globals\": {\"stringa_esterna\": \"MARINAIO\", \"mia_maiusc\": [\"REF\", 1], \"risultato\": \"MARINAIO\"}, \"ordered_globals\": [\"stringa_esterna\", \"mia_maiusc\", \"risultato\"], \"stack_to_render\": [], \"heap\": {\"1\": [\"FUNCTION\", \"mia_maiusc(s)\", null]}, \"stdout\": \"      risultato: MARINAIO\\n\"}, {\"line\": 12, \"event\": \"return\", \"func_name\": \"<module>\", \"globals\": {\"stringa_esterna\": \"MARINAIO\", \"mia_maiusc\": [\"REF\", 1], \"risultato\": \"MARINAIO\"}, \"ordered_globals\": [\"stringa_esterna\", \"mia_maiusc\", \"risultato\"], \"stack_to_render\": [], \"heap\": {\"1\": [\"FUNCTION\", \"mia_maiusc(s)\", null]}, \"stdout\": \"      risultato: MARINAIO\\nstringa_esterna: MARINAIO\\n\"}]}\n",
       "        </script>\n",
       "        <div id=\"jm306a0b39-bdf8-485c-bf1c-210bcdc4b712\" class=\"pytutorVisualizer\"> </div>\n",
       " \n",
       "        <style>\n",
       "        .vizLayoutTd {\n",
       "            background-color: #fff !important;\n",
       "        }\n",
       "\n",
       "        #pyStdout {            \n",
       "            min-height:25px;\n",
       "        }\n",
       "\n",
       "        /* 'Edit this code' link, hiding because replaces browser tab !!!*/\n",
       "        #editCodeLinkDiv {\n",
       "            display:none;  \n",
       "        }\n",
       "        </style>   \n",
       "                            \n",
       "        <script>\n",
       "        (function(){\n",
       "\n",
       "            var trace = JSON.parse(document.getElementById('json-jm306a0b39-bdf8-485c-bf1c-210bcdc4b712').innerHTML);                                        \n",
       "            // NOTE 1: id without #\n",
       "            // NOTE 2 - maybe there are more predictable ways, but this will work anyway\n",
       "            //        - id should be number\n",
       "            visualizerIdOverride = Math.trunc(Math.random() * 100000000000)\n",
       "            addVisualizerToPage(trace, 'jm306a0b39-bdf8-485c-bf1c-210bcdc4b712',{'embeddedMode' : false,\n",
       "                                             'visualizerIdOverride':visualizerIdOverride})  \n",
       "            \n",
       "            \n",
       "            // set overflow for pytuts - need to do in python as css \n",
       "            // does not allow parent selection\n",
       "            var pytuts = $('.pytutorVisualizer')\n",
       "            pytuts.closest('div.output_html.rendered_html.output_result')\n",
       "                    .css('overflow-x', 'visible')\n",
       "        \n",
       "            //pytuts.closest('div.output_html.rendered_html.output_result')\n",
       "            //      .css('background-color','red')                \n",
       "            \n",
       "        })()\n",
       "        </script>\n",
       "                \n",
       "                "
      ],
      "text/plain": [
       "<IPython.core.display.HTML object>"
      ]
     },
     "execution_count": 23,
     "metadata": {},
     "output_type": "execute_result"
    }
   ],
   "source": [
    "stringa_esterna = \"marinaio\"\n",
    "\n",
    "def mia_maiusc(s):\n",
    "    ret = s.upper()   \n",
    "    return ret\n",
    "    \n",
    "risultato = mia_maiusc(stringa_esterna)   \n",
    "stringa_esterna = risultato             # riassegna *fuori*\n",
    "\n",
    "print('      risultato:', risultato)\n",
    "print('stringa_esterna:', stringa_esterna)\n",
    "\n",
    "jupman.pytut()"
   ]
  },
  {
   "cell_type": "markdown",
   "metadata": {},
   "source": [
    "### Parola chiave `global`\n",
    "\n",
    "Se proprio volessimo modificare l'associazione `stringa_esterna` dentro la funzione, potremmo farlo con la parola chiave  [global](https://www.w3schools.com/python/python_variables_global.asp), ma tipicamente è meglio evitare di usarla per tenere il codice pulito."
   ]
  },
  {
   "cell_type": "markdown",
   "metadata": {},
   "source": [
    "## Valori mutabili\n",
    "\n",
    "Sequenze come le liste, insiemi e dizionari sono oggetti _mutabili_. Quando chiami una funzione e passi uno di questi oggetti, Python in realtà fornisce alla funzione solo un _riferimento_ all'oggetto: un puntatore molto piccolo che è solo una freccia che punta alla regione di memoria dove risiede l'oggetto reale. Dato che la funzione riceve solo un piccolo puntatore, chiamare una funzione è un'operazione veloce. D'altro canto, dobbiamo essere consci del fatto che dato che nessuna copia viene effettuata, dentro la funzione sarà come operare sulla regione di memoria originale che vive al di fuori della chiamata di funzione.\n",
    "\n",
    "Tutto ciò potrebbe sembrare uno sciogli-lingua, perciò vediamo un esempio pratico in Python Tutor. Supponiamo di dover implementare questa funzione:"
   ]
  },
  {
   "cell_type": "markdown",
   "metadata": {},
   "source": [
    "> Scrivi una funzione che prende una lista e la MODIFICA raddoppiando tutti i suoi numeri"
   ]
  },
  {
   "cell_type": "markdown",
   "metadata": {},
   "source": [
    "Nota che nel testo abbiamo usato la parola MODIFICA, col significato di voler veramente modificare la regione di memoria originale dell'oggetto esterno che ci viene consegnato.\n",
    "\n",
    "Per quanto possa sembrare semplice, ci sono parecchi modi in cui le cose potrebbero andare storte. Vediamone qualcuno."
   ]
  },
  {
   "cell_type": "markdown",
   "metadata": {},
   "source": [
    "### Raddoppiare: fallimento / 1\n",
    "\n",
    "Potreste essere tentati di risolvere il problema come nel codice seguente, ma **non** funzionerà."
   ]
  },
  {
   "cell_type": "markdown",
   "metadata": {},
   "source": [
    "**DOMANDA**: Perchè? Prova a rispondere prima di controllare l'esecuzione in Python Tutor."
   ]
  },
  {
   "cell_type": "raw",
   "id": "f5811af0",
   "metadata": {
    "format": "text/html"
   },
   "source": [
    "<a  class=\"jupman-sol jupman-sol-toggler\" \n",
    " onclick=\"jupman.toggleSolution(this);\" \n",
    " data-jupman-show=\"Mostra risposta\" data-jupman-hide=\"Nascondi\">Mostra risposta</a><div class=\"jupman-sol jupman-sol-question\" style=\"display:none\">  "
   ]
  },
  {
   "cell_type": "markdown",
   "metadata": {},
   "source": [
    "**RISPOSTA**: `elemento` è creato come una NUOVA variabile nel frame di esecuzione della chiamata di funzione, e non modifica le celle originali."
   ]
  },
  {
   "cell_type": "raw",
   "id": "2486238f",
   "metadata": {
    "format": "text/html"
   },
   "source": [
    "</div>"
   ]
  },
  {
   "cell_type": "code",
   "execution_count": 24,
   "metadata": {
    "scrolled": true
   },
   "outputs": [
    {
     "data": {
      "text/html": [
       "\n",
       "        <script src=\"../_static/js/pytutor-embed.bundle.min.js\" type=\"application/javascript\"></script>\n",
       "     \n",
       "        <script id=\"json-jm3ba4b2ba-6ca7-4731-86ad-039b5d4ba5d4\" type=\"application/json\" >\n",
       "            {\"code\": \" \\nnumeri_esterni = [10,20,30]\\n\\ndef raddoppia(lista):\\n    for elemento in lista:\\n        elemento = elemento * 2   \\n        \\nraddoppia(numeri_esterni)\", \"trace\": [{\"line\": 2, \"event\": \"step_line\", \"func_name\": \"<module>\", \"globals\": {}, \"ordered_globals\": [], \"stack_to_render\": [], \"heap\": {}, \"stdout\": \"\"}, {\"line\": 4, \"event\": \"step_line\", \"func_name\": \"<module>\", \"globals\": {\"numeri_esterni\": [\"REF\", 1]}, \"ordered_globals\": [\"numeri_esterni\"], \"stack_to_render\": [], \"heap\": {\"1\": [\"LIST\", 10, 20, 30]}, \"stdout\": \"\"}, {\"line\": 8, \"event\": \"step_line\", \"func_name\": \"<module>\", \"globals\": {\"numeri_esterni\": [\"REF\", 1], \"raddoppia\": [\"REF\", 2]}, \"ordered_globals\": [\"numeri_esterni\", \"raddoppia\"], \"stack_to_render\": [], \"heap\": {\"1\": [\"LIST\", 10, 20, 30], \"2\": [\"FUNCTION\", \"raddoppia(lista)\", null]}, \"stdout\": \"\"}, {\"line\": 4, \"event\": \"call\", \"func_name\": \"raddoppia\", \"globals\": {\"numeri_esterni\": [\"REF\", 1], \"raddoppia\": [\"REF\", 2]}, \"ordered_globals\": [\"numeri_esterni\", \"raddoppia\"], \"stack_to_render\": [{\"func_name\": \"raddoppia\", \"is_parent\": false, \"frame_id\": 1, \"parent_frame_id_list\": [], \"encoded_locals\": {\"lista\": [\"REF\", 1]}, \"ordered_varnames\": [\"lista\"], \"is_zombie\": false, \"is_highlighted\": true, \"unique_hash\": \"raddoppia_f1\"}], \"heap\": {\"1\": [\"LIST\", 10, 20, 30], \"2\": [\"FUNCTION\", \"raddoppia(lista)\", null]}, \"stdout\": \"\"}, {\"line\": 5, \"event\": \"step_line\", \"func_name\": \"raddoppia\", \"globals\": {\"numeri_esterni\": [\"REF\", 1], \"raddoppia\": [\"REF\", 2]}, \"ordered_globals\": [\"numeri_esterni\", \"raddoppia\"], \"stack_to_render\": [{\"func_name\": \"raddoppia\", \"is_parent\": false, \"frame_id\": 1, \"parent_frame_id_list\": [], \"encoded_locals\": {\"lista\": [\"REF\", 1]}, \"ordered_varnames\": [\"lista\"], \"is_zombie\": false, \"is_highlighted\": true, \"unique_hash\": \"raddoppia_f1\"}], \"heap\": {\"1\": [\"LIST\", 10, 20, 30], \"2\": [\"FUNCTION\", \"raddoppia(lista)\", null]}, \"stdout\": \"\"}, {\"line\": 6, \"event\": \"step_line\", \"func_name\": \"raddoppia\", \"globals\": {\"numeri_esterni\": [\"REF\", 1], \"raddoppia\": [\"REF\", 2]}, \"ordered_globals\": [\"numeri_esterni\", \"raddoppia\"], \"stack_to_render\": [{\"func_name\": \"raddoppia\", \"is_parent\": false, \"frame_id\": 1, \"parent_frame_id_list\": [], \"encoded_locals\": {\"lista\": [\"REF\", 1], \"elemento\": 10}, \"ordered_varnames\": [\"lista\", \"elemento\"], \"is_zombie\": false, \"is_highlighted\": true, \"unique_hash\": \"raddoppia_f1\"}], \"heap\": {\"1\": [\"LIST\", 10, 20, 30], \"2\": [\"FUNCTION\", \"raddoppia(lista)\", null]}, \"stdout\": \"\"}, {\"line\": 5, \"event\": \"step_line\", \"func_name\": \"raddoppia\", \"globals\": {\"numeri_esterni\": [\"REF\", 1], \"raddoppia\": [\"REF\", 2]}, \"ordered_globals\": [\"numeri_esterni\", \"raddoppia\"], \"stack_to_render\": [{\"func_name\": \"raddoppia\", \"is_parent\": false, \"frame_id\": 1, \"parent_frame_id_list\": [], \"encoded_locals\": {\"lista\": [\"REF\", 1], \"elemento\": 20}, \"ordered_varnames\": [\"lista\", \"elemento\"], \"is_zombie\": false, \"is_highlighted\": true, \"unique_hash\": \"raddoppia_f1\"}], \"heap\": {\"1\": [\"LIST\", 10, 20, 30], \"2\": [\"FUNCTION\", \"raddoppia(lista)\", null]}, \"stdout\": \"\"}, {\"line\": 6, \"event\": \"step_line\", \"func_name\": \"raddoppia\", \"globals\": {\"numeri_esterni\": [\"REF\", 1], \"raddoppia\": [\"REF\", 2]}, \"ordered_globals\": [\"numeri_esterni\", \"raddoppia\"], \"stack_to_render\": [{\"func_name\": \"raddoppia\", \"is_parent\": false, \"frame_id\": 1, \"parent_frame_id_list\": [], \"encoded_locals\": {\"lista\": [\"REF\", 1], \"elemento\": 20}, \"ordered_varnames\": [\"lista\", \"elemento\"], \"is_zombie\": false, \"is_highlighted\": true, \"unique_hash\": \"raddoppia_f1\"}], \"heap\": {\"1\": [\"LIST\", 10, 20, 30], \"2\": [\"FUNCTION\", \"raddoppia(lista)\", null]}, \"stdout\": \"\"}, {\"line\": 5, \"event\": \"step_line\", \"func_name\": \"raddoppia\", \"globals\": {\"numeri_esterni\": [\"REF\", 1], \"raddoppia\": [\"REF\", 2]}, \"ordered_globals\": [\"numeri_esterni\", \"raddoppia\"], \"stack_to_render\": [{\"func_name\": \"raddoppia\", \"is_parent\": false, \"frame_id\": 1, \"parent_frame_id_list\": [], \"encoded_locals\": {\"lista\": [\"REF\", 1], \"elemento\": 40}, \"ordered_varnames\": [\"lista\", \"elemento\"], \"is_zombie\": false, \"is_highlighted\": true, \"unique_hash\": \"raddoppia_f1\"}], \"heap\": {\"1\": [\"LIST\", 10, 20, 30], \"2\": [\"FUNCTION\", \"raddoppia(lista)\", null]}, \"stdout\": \"\"}, {\"line\": 6, \"event\": \"step_line\", \"func_name\": \"raddoppia\", \"globals\": {\"numeri_esterni\": [\"REF\", 1], \"raddoppia\": [\"REF\", 2]}, \"ordered_globals\": [\"numeri_esterni\", \"raddoppia\"], \"stack_to_render\": [{\"func_name\": \"raddoppia\", \"is_parent\": false, \"frame_id\": 1, \"parent_frame_id_list\": [], \"encoded_locals\": {\"lista\": [\"REF\", 1], \"elemento\": 30}, \"ordered_varnames\": [\"lista\", \"elemento\"], \"is_zombie\": false, \"is_highlighted\": true, \"unique_hash\": \"raddoppia_f1\"}], \"heap\": {\"1\": [\"LIST\", 10, 20, 30], \"2\": [\"FUNCTION\", \"raddoppia(lista)\", null]}, \"stdout\": \"\"}, {\"line\": 5, \"event\": \"step_line\", \"func_name\": \"raddoppia\", \"globals\": {\"numeri_esterni\": [\"REF\", 1], \"raddoppia\": [\"REF\", 2]}, \"ordered_globals\": [\"numeri_esterni\", \"raddoppia\"], \"stack_to_render\": [{\"func_name\": \"raddoppia\", \"is_parent\": false, \"frame_id\": 1, \"parent_frame_id_list\": [], \"encoded_locals\": {\"lista\": [\"REF\", 1], \"elemento\": 60}, \"ordered_varnames\": [\"lista\", \"elemento\"], \"is_zombie\": false, \"is_highlighted\": true, \"unique_hash\": \"raddoppia_f1\"}], \"heap\": {\"1\": [\"LIST\", 10, 20, 30], \"2\": [\"FUNCTION\", \"raddoppia(lista)\", null]}, \"stdout\": \"\"}, {\"line\": 5, \"event\": \"return\", \"func_name\": \"raddoppia\", \"globals\": {\"numeri_esterni\": [\"REF\", 1], \"raddoppia\": [\"REF\", 2]}, \"ordered_globals\": [\"numeri_esterni\", \"raddoppia\"], \"stack_to_render\": [{\"func_name\": \"raddoppia\", \"is_parent\": false, \"frame_id\": 1, \"parent_frame_id_list\": [], \"encoded_locals\": {\"lista\": [\"REF\", 1], \"elemento\": 60, \"__return__\": null}, \"ordered_varnames\": [\"lista\", \"elemento\", \"__return__\"], \"is_zombie\": false, \"is_highlighted\": true, \"unique_hash\": \"raddoppia_f1\"}], \"heap\": {\"1\": [\"LIST\", 10, 20, 30], \"2\": [\"FUNCTION\", \"raddoppia(lista)\", null]}, \"stdout\": \"\"}, {\"line\": 8, \"event\": \"return\", \"func_name\": \"<module>\", \"globals\": {\"numeri_esterni\": [\"REF\", 1], \"raddoppia\": [\"REF\", 2]}, \"ordered_globals\": [\"numeri_esterni\", \"raddoppia\"], \"stack_to_render\": [], \"heap\": {\"1\": [\"LIST\", 10, 20, 30], \"2\": [\"FUNCTION\", \"raddoppia(lista)\", null]}, \"stdout\": \"\"}]}\n",
       "        </script>\n",
       "        <div id=\"jm3ba4b2ba-6ca7-4731-86ad-039b5d4ba5d4\" class=\"pytutorVisualizer\"> </div>\n",
       " \n",
       "        <style>\n",
       "        .vizLayoutTd {\n",
       "            background-color: #fff !important;\n",
       "        }\n",
       "\n",
       "        #pyStdout {            \n",
       "            min-height:25px;\n",
       "        }\n",
       "\n",
       "        /* 'Edit this code' link, hiding because replaces browser tab !!!*/\n",
       "        #editCodeLinkDiv {\n",
       "            display:none;  \n",
       "        }\n",
       "        </style>   \n",
       "                            \n",
       "        <script>\n",
       "        (function(){\n",
       "\n",
       "            var trace = JSON.parse(document.getElementById('json-jm3ba4b2ba-6ca7-4731-86ad-039b5d4ba5d4').innerHTML);                                        \n",
       "            // NOTE 1: id without #\n",
       "            // NOTE 2 - maybe there are more predictable ways, but this will work anyway\n",
       "            //        - id should be number\n",
       "            visualizerIdOverride = Math.trunc(Math.random() * 100000000000)\n",
       "            addVisualizerToPage(trace, 'jm3ba4b2ba-6ca7-4731-86ad-039b5d4ba5d4',{'embeddedMode' : false,\n",
       "                                             'visualizerIdOverride':visualizerIdOverride})  \n",
       "            \n",
       "            \n",
       "            // set overflow for pytuts - need to do in python as css \n",
       "            // does not allow parent selection\n",
       "            var pytuts = $('.pytutorVisualizer')\n",
       "            pytuts.closest('div.output_html.rendered_html.output_result')\n",
       "                    .css('overflow-x', 'visible')\n",
       "        \n",
       "            //pytuts.closest('div.output_html.rendered_html.output_result')\n",
       "            //      .css('background-color','red')                \n",
       "            \n",
       "        })()\n",
       "        </script>\n",
       "                \n",
       "                "
      ],
      "text/plain": [
       "<IPython.core.display.HTML object>"
      ]
     },
     "execution_count": 24,
     "metadata": {},
     "output_type": "execute_result"
    }
   ],
   "source": [
    "numeri_esterni = [10,20,30]\n",
    "\n",
    "def raddoppia(lista):\n",
    "    for elemento in lista:\n",
    "        elemento = elemento * 2   \n",
    "        \n",
    "raddoppia(numeri_esterni)\n",
    "\n",
    "jupman.pytut()"
   ]
  },
  {
   "cell_type": "markdown",
   "metadata": {},
   "source": [
    "### Raddoppiare: fallimento / 2\n",
    "\n",
    "Potresti avere un'altra tentazione di risolvere il problema come nel codice seguente, ma di nuovo **non** funzionerà."
   ]
  },
  {
   "cell_type": "markdown",
   "metadata": {},
   "source": [
    "**DOMANDA**: Perchè? Prova a rispondere prima di controllare l'esecuzione in Python Tutor."
   ]
  },
  {
   "cell_type": "raw",
   "id": "434d50e9",
   "metadata": {
    "format": "text/html"
   },
   "source": [
    "<a  class=\"jupman-sol jupman-sol-toggler\" \n",
    " onclick=\"jupman.toggleSolution(this);\" \n",
    " data-jupman-show=\"Mostra risposta\" data-jupman-hide=\"Nascondi\">Mostra risposta</a><div class=\"jupman-sol jupman-sol-question\" style=\"display:none\">  "
   ]
  },
  {
   "cell_type": "markdown",
   "metadata": {},
   "source": [
    "**RISPOSTA**:\n",
    "\n",
    "* `tmp = []` crea una NUOVA lista, ma il testo della funzione dice di MODIFICARE\n",
    "* `lista = tmp`  viola il [IV COMANDAMENTO](https://it.softpython.org/commandments.html#IV-COMANDAMENTO): imposta la variabile `lista`  nel frame di chiamata per puntare a `tmp`, ma entrambe saranno perse dopo che la chiamata è terminata."
   ]
  },
  {
   "cell_type": "raw",
   "id": "b16f0655",
   "metadata": {
    "format": "text/html"
   },
   "source": [
    "</div>"
   ]
  },
  {
   "cell_type": "code",
   "execution_count": 25,
   "metadata": {},
   "outputs": [
    {
     "data": {
      "text/html": [
       "\n",
       "        <script src=\"../_static/js/pytutor-embed.bundle.min.js\" type=\"application/javascript\"></script>\n",
       "     \n",
       "        <script id=\"json-jmfaa14618-417e-415c-ae74-6a4de7917c6e\" type=\"application/json\" >\n",
       "            {\"code\": \" \\nnumeri_esterni = [10,20,30]\\n\\ndef raddoppia(lista):\\n    tmp = []\\n    for elemento in lista:\\n        tmp.append(elemento * 2)   \\n                                 \\n    lista = tmp                     \\n    \\nraddoppia(numeri_esterni)\", \"trace\": [{\"line\": 2, \"event\": \"step_line\", \"func_name\": \"<module>\", \"globals\": {}, \"ordered_globals\": [], \"stack_to_render\": [], \"heap\": {}, \"stdout\": \"\"}, {\"line\": 4, \"event\": \"step_line\", \"func_name\": \"<module>\", \"globals\": {\"numeri_esterni\": [\"REF\", 1]}, \"ordered_globals\": [\"numeri_esterni\"], \"stack_to_render\": [], \"heap\": {\"1\": [\"LIST\", 10, 20, 30]}, \"stdout\": \"\"}, {\"line\": 11, \"event\": \"step_line\", \"func_name\": \"<module>\", \"globals\": {\"numeri_esterni\": [\"REF\", 1], \"raddoppia\": [\"REF\", 2]}, \"ordered_globals\": [\"numeri_esterni\", \"raddoppia\"], \"stack_to_render\": [], \"heap\": {\"1\": [\"LIST\", 10, 20, 30], \"2\": [\"FUNCTION\", \"raddoppia(lista)\", null]}, \"stdout\": \"\"}, {\"line\": 4, \"event\": \"call\", \"func_name\": \"raddoppia\", \"globals\": {\"numeri_esterni\": [\"REF\", 1], \"raddoppia\": [\"REF\", 2]}, \"ordered_globals\": [\"numeri_esterni\", \"raddoppia\"], \"stack_to_render\": [{\"func_name\": \"raddoppia\", \"is_parent\": false, \"frame_id\": 1, \"parent_frame_id_list\": [], \"encoded_locals\": {\"lista\": [\"REF\", 1]}, \"ordered_varnames\": [\"lista\"], \"is_zombie\": false, \"is_highlighted\": true, \"unique_hash\": \"raddoppia_f1\"}], \"heap\": {\"1\": [\"LIST\", 10, 20, 30], \"2\": [\"FUNCTION\", \"raddoppia(lista)\", null]}, \"stdout\": \"\"}, {\"line\": 5, \"event\": \"step_line\", \"func_name\": \"raddoppia\", \"globals\": {\"numeri_esterni\": [\"REF\", 1], \"raddoppia\": [\"REF\", 2]}, \"ordered_globals\": [\"numeri_esterni\", \"raddoppia\"], \"stack_to_render\": [{\"func_name\": \"raddoppia\", \"is_parent\": false, \"frame_id\": 1, \"parent_frame_id_list\": [], \"encoded_locals\": {\"lista\": [\"REF\", 1]}, \"ordered_varnames\": [\"lista\"], \"is_zombie\": false, \"is_highlighted\": true, \"unique_hash\": \"raddoppia_f1\"}], \"heap\": {\"1\": [\"LIST\", 10, 20, 30], \"2\": [\"FUNCTION\", \"raddoppia(lista)\", null]}, \"stdout\": \"\"}, {\"line\": 6, \"event\": \"step_line\", \"func_name\": \"raddoppia\", \"globals\": {\"numeri_esterni\": [\"REF\", 1], \"raddoppia\": [\"REF\", 2]}, \"ordered_globals\": [\"numeri_esterni\", \"raddoppia\"], \"stack_to_render\": [{\"func_name\": \"raddoppia\", \"is_parent\": false, \"frame_id\": 1, \"parent_frame_id_list\": [], \"encoded_locals\": {\"lista\": [\"REF\", 1], \"tmp\": [\"REF\", 3]}, \"ordered_varnames\": [\"lista\", \"tmp\"], \"is_zombie\": false, \"is_highlighted\": true, \"unique_hash\": \"raddoppia_f1\"}], \"heap\": {\"1\": [\"LIST\", 10, 20, 30], \"3\": [\"LIST\"], \"2\": [\"FUNCTION\", \"raddoppia(lista)\", null]}, \"stdout\": \"\"}, {\"line\": 7, \"event\": \"step_line\", \"func_name\": \"raddoppia\", \"globals\": {\"numeri_esterni\": [\"REF\", 1], \"raddoppia\": [\"REF\", 2]}, \"ordered_globals\": [\"numeri_esterni\", \"raddoppia\"], \"stack_to_render\": [{\"func_name\": \"raddoppia\", \"is_parent\": false, \"frame_id\": 1, \"parent_frame_id_list\": [], \"encoded_locals\": {\"lista\": [\"REF\", 1], \"tmp\": [\"REF\", 3], \"elemento\": 10}, \"ordered_varnames\": [\"lista\", \"tmp\", \"elemento\"], \"is_zombie\": false, \"is_highlighted\": true, \"unique_hash\": \"raddoppia_f1\"}], \"heap\": {\"1\": [\"LIST\", 10, 20, 30], \"3\": [\"LIST\"], \"2\": [\"FUNCTION\", \"raddoppia(lista)\", null]}, \"stdout\": \"\"}, {\"line\": 6, \"event\": \"step_line\", \"func_name\": \"raddoppia\", \"globals\": {\"numeri_esterni\": [\"REF\", 1], \"raddoppia\": [\"REF\", 2]}, \"ordered_globals\": [\"numeri_esterni\", \"raddoppia\"], \"stack_to_render\": [{\"func_name\": \"raddoppia\", \"is_parent\": false, \"frame_id\": 1, \"parent_frame_id_list\": [], \"encoded_locals\": {\"lista\": [\"REF\", 1], \"tmp\": [\"REF\", 3], \"elemento\": 10}, \"ordered_varnames\": [\"lista\", \"tmp\", \"elemento\"], \"is_zombie\": false, \"is_highlighted\": true, \"unique_hash\": \"raddoppia_f1\"}], \"heap\": {\"1\": [\"LIST\", 10, 20, 30], \"3\": [\"LIST\", 20], \"2\": [\"FUNCTION\", \"raddoppia(lista)\", null]}, \"stdout\": \"\"}, {\"line\": 7, \"event\": \"step_line\", \"func_name\": \"raddoppia\", \"globals\": {\"numeri_esterni\": [\"REF\", 1], \"raddoppia\": [\"REF\", 2]}, \"ordered_globals\": [\"numeri_esterni\", \"raddoppia\"], \"stack_to_render\": [{\"func_name\": \"raddoppia\", \"is_parent\": false, \"frame_id\": 1, \"parent_frame_id_list\": [], \"encoded_locals\": {\"lista\": [\"REF\", 1], \"tmp\": [\"REF\", 3], \"elemento\": 20}, \"ordered_varnames\": [\"lista\", \"tmp\", \"elemento\"], \"is_zombie\": false, \"is_highlighted\": true, \"unique_hash\": \"raddoppia_f1\"}], \"heap\": {\"1\": [\"LIST\", 10, 20, 30], \"3\": [\"LIST\", 20], \"2\": [\"FUNCTION\", \"raddoppia(lista)\", null]}, \"stdout\": \"\"}, {\"line\": 6, \"event\": \"step_line\", \"func_name\": \"raddoppia\", \"globals\": {\"numeri_esterni\": [\"REF\", 1], \"raddoppia\": [\"REF\", 2]}, \"ordered_globals\": [\"numeri_esterni\", \"raddoppia\"], \"stack_to_render\": [{\"func_name\": \"raddoppia\", \"is_parent\": false, \"frame_id\": 1, \"parent_frame_id_list\": [], \"encoded_locals\": {\"lista\": [\"REF\", 1], \"tmp\": [\"REF\", 3], \"elemento\": 20}, \"ordered_varnames\": [\"lista\", \"tmp\", \"elemento\"], \"is_zombie\": false, \"is_highlighted\": true, \"unique_hash\": \"raddoppia_f1\"}], \"heap\": {\"1\": [\"LIST\", 10, 20, 30], \"3\": [\"LIST\", 20, 40], \"2\": [\"FUNCTION\", \"raddoppia(lista)\", null]}, \"stdout\": \"\"}, {\"line\": 7, \"event\": \"step_line\", \"func_name\": \"raddoppia\", \"globals\": {\"numeri_esterni\": [\"REF\", 1], \"raddoppia\": [\"REF\", 2]}, \"ordered_globals\": [\"numeri_esterni\", \"raddoppia\"], \"stack_to_render\": [{\"func_name\": \"raddoppia\", \"is_parent\": false, \"frame_id\": 1, \"parent_frame_id_list\": [], \"encoded_locals\": {\"lista\": [\"REF\", 1], \"tmp\": [\"REF\", 3], \"elemento\": 30}, \"ordered_varnames\": [\"lista\", \"tmp\", \"elemento\"], \"is_zombie\": false, \"is_highlighted\": true, \"unique_hash\": \"raddoppia_f1\"}], \"heap\": {\"1\": [\"LIST\", 10, 20, 30], \"3\": [\"LIST\", 20, 40], \"2\": [\"FUNCTION\", \"raddoppia(lista)\", null]}, \"stdout\": \"\"}, {\"line\": 6, \"event\": \"step_line\", \"func_name\": \"raddoppia\", \"globals\": {\"numeri_esterni\": [\"REF\", 1], \"raddoppia\": [\"REF\", 2]}, \"ordered_globals\": [\"numeri_esterni\", \"raddoppia\"], \"stack_to_render\": [{\"func_name\": \"raddoppia\", \"is_parent\": false, \"frame_id\": 1, \"parent_frame_id_list\": [], \"encoded_locals\": {\"lista\": [\"REF\", 1], \"tmp\": [\"REF\", 3], \"elemento\": 30}, \"ordered_varnames\": [\"lista\", \"tmp\", \"elemento\"], \"is_zombie\": false, \"is_highlighted\": true, \"unique_hash\": \"raddoppia_f1\"}], \"heap\": {\"1\": [\"LIST\", 10, 20, 30], \"3\": [\"LIST\", 20, 40, 60], \"2\": [\"FUNCTION\", \"raddoppia(lista)\", null]}, \"stdout\": \"\"}, {\"line\": 9, \"event\": \"step_line\", \"func_name\": \"raddoppia\", \"globals\": {\"numeri_esterni\": [\"REF\", 1], \"raddoppia\": [\"REF\", 2]}, \"ordered_globals\": [\"numeri_esterni\", \"raddoppia\"], \"stack_to_render\": [{\"func_name\": \"raddoppia\", \"is_parent\": false, \"frame_id\": 1, \"parent_frame_id_list\": [], \"encoded_locals\": {\"lista\": [\"REF\", 1], \"tmp\": [\"REF\", 3], \"elemento\": 30}, \"ordered_varnames\": [\"lista\", \"tmp\", \"elemento\"], \"is_zombie\": false, \"is_highlighted\": true, \"unique_hash\": \"raddoppia_f1\"}], \"heap\": {\"1\": [\"LIST\", 10, 20, 30], \"3\": [\"LIST\", 20, 40, 60], \"2\": [\"FUNCTION\", \"raddoppia(lista)\", null]}, \"stdout\": \"\"}, {\"line\": 9, \"event\": \"return\", \"func_name\": \"raddoppia\", \"globals\": {\"numeri_esterni\": [\"REF\", 1], \"raddoppia\": [\"REF\", 2]}, \"ordered_globals\": [\"numeri_esterni\", \"raddoppia\"], \"stack_to_render\": [{\"func_name\": \"raddoppia\", \"is_parent\": false, \"frame_id\": 1, \"parent_frame_id_list\": [], \"encoded_locals\": {\"lista\": [\"REF\", 3], \"tmp\": [\"REF\", 3], \"elemento\": 30, \"__return__\": null}, \"ordered_varnames\": [\"lista\", \"tmp\", \"elemento\", \"__return__\"], \"is_zombie\": false, \"is_highlighted\": true, \"unique_hash\": \"raddoppia_f1\"}], \"heap\": {\"3\": [\"LIST\", 20, 40, 60], \"1\": [\"LIST\", 10, 20, 30], \"2\": [\"FUNCTION\", \"raddoppia(lista)\", null]}, \"stdout\": \"\"}, {\"line\": 11, \"event\": \"return\", \"func_name\": \"<module>\", \"globals\": {\"numeri_esterni\": [\"REF\", 1], \"raddoppia\": [\"REF\", 2]}, \"ordered_globals\": [\"numeri_esterni\", \"raddoppia\"], \"stack_to_render\": [], \"heap\": {\"1\": [\"LIST\", 10, 20, 30], \"2\": [\"FUNCTION\", \"raddoppia(lista)\", null]}, \"stdout\": \"\"}]}\n",
       "        </script>\n",
       "        <div id=\"jmfaa14618-417e-415c-ae74-6a4de7917c6e\" class=\"pytutorVisualizer\"> </div>\n",
       " \n",
       "        <style>\n",
       "        .vizLayoutTd {\n",
       "            background-color: #fff !important;\n",
       "        }\n",
       "\n",
       "        #pyStdout {            \n",
       "            min-height:25px;\n",
       "        }\n",
       "\n",
       "        /* 'Edit this code' link, hiding because replaces browser tab !!!*/\n",
       "        #editCodeLinkDiv {\n",
       "            display:none;  \n",
       "        }\n",
       "        </style>   \n",
       "                            \n",
       "        <script>\n",
       "        (function(){\n",
       "\n",
       "            var trace = JSON.parse(document.getElementById('json-jmfaa14618-417e-415c-ae74-6a4de7917c6e').innerHTML);                                        \n",
       "            // NOTE 1: id without #\n",
       "            // NOTE 2 - maybe there are more predictable ways, but this will work anyway\n",
       "            //        - id should be number\n",
       "            visualizerIdOverride = Math.trunc(Math.random() * 100000000000)\n",
       "            addVisualizerToPage(trace, 'jmfaa14618-417e-415c-ae74-6a4de7917c6e',{'embeddedMode' : false,\n",
       "                                             'visualizerIdOverride':visualizerIdOverride})  \n",
       "            \n",
       "            \n",
       "            // set overflow for pytuts - need to do in python as css \n",
       "            // does not allow parent selection\n",
       "            var pytuts = $('.pytutorVisualizer')\n",
       "            pytuts.closest('div.output_html.rendered_html.output_result')\n",
       "                    .css('overflow-x', 'visible')\n",
       "        \n",
       "            //pytuts.closest('div.output_html.rendered_html.output_result')\n",
       "            //      .css('background-color','red')                \n",
       "            \n",
       "        })()\n",
       "        </script>\n",
       "                \n",
       "                "
      ],
      "text/plain": [
       "<IPython.core.display.HTML object>"
      ]
     },
     "execution_count": 25,
     "metadata": {},
     "output_type": "execute_result"
    }
   ],
   "source": [
    "numeri_esterni = [10,20,30]\n",
    "\n",
    "def raddoppia(lista):\n",
    "    tmp = []\n",
    "    for elemento in lista:\n",
    "        tmp.append(elemento * 2)   \n",
    "                                 \n",
    "    lista = tmp                     \n",
    "    \n",
    "raddoppia(numeri_esterni)\n",
    "\n",
    "jupman.pytut()"
   ]
  },
  {
   "cell_type": "markdown",
   "metadata": {},
   "source": [
    "### Raddoppiare: fallimento / 3\n",
    "\n",
    "Un'altra tentazione potrebbe essere la seguente, ma ancora una volta il codice **non** funzionerà."
   ]
  },
  {
   "cell_type": "markdown",
   "metadata": {},
   "source": [
    "**DOMANDA**: Perchè? Prova a rispondere prima di controllare l'esecuzione in Python Tutor."
   ]
  },
  {
   "cell_type": "raw",
   "id": "c7a07e3b",
   "metadata": {
    "format": "text/html"
   },
   "source": [
    "<a  class=\"jupman-sol jupman-sol-toggler\" \n",
    " onclick=\"jupman.toggleSolution(this);\" \n",
    " data-jupman-show=\"Mostra risposta\" data-jupman-hide=\"Nascondi\">Mostra risposta</a><div class=\"jupman-sol jupman-sol-question\" style=\"display:none\">  "
   ]
  },
  {
   "cell_type": "markdown",
   "metadata": {},
   "source": [
    "**RISPOSTA**:\n",
    "\n",
    "* `tmp = []` crea una NUOVA lista, ma il testo della funzione dice di MODIFICARE\n",
    "* `numeri_esterni = tmp` crea una NUOVA assocazione `numeri_esterni` dentro il frame di chiamata della funzione, ma sarà perso dopo che la chiamata di funzione è terminata."
   ]
  },
  {
   "cell_type": "raw",
   "id": "85f3eb80",
   "metadata": {
    "format": "text/html"
   },
   "source": [
    "</div>"
   ]
  },
  {
   "cell_type": "code",
   "execution_count": 26,
   "metadata": {},
   "outputs": [
    {
     "data": {
      "text/html": [
       "\n",
       "        <script src=\"../_static/js/pytutor-embed.bundle.min.js\" type=\"application/javascript\"></script>\n",
       "     \n",
       "        <script id=\"json-jm43db96f9-2ddc-47ec-995e-2f3a3c673584\" type=\"application/json\" >\n",
       "            {\"code\": \" \\nnumeri_esterni = [10,20,30]\\n\\ndef raddoppia(lista):\\n    tmp = []\\n    for elemento in lista:\\n        tmp.append(elemento * 2)  \\n                                 \\n    numeri_esterni = tmp\\n    \\nraddoppia(numeri_esterni)\", \"trace\": [{\"line\": 2, \"event\": \"step_line\", \"func_name\": \"<module>\", \"globals\": {}, \"ordered_globals\": [], \"stack_to_render\": [], \"heap\": {}, \"stdout\": \"\"}, {\"line\": 4, \"event\": \"step_line\", \"func_name\": \"<module>\", \"globals\": {\"numeri_esterni\": [\"REF\", 1]}, \"ordered_globals\": [\"numeri_esterni\"], \"stack_to_render\": [], \"heap\": {\"1\": [\"LIST\", 10, 20, 30]}, \"stdout\": \"\"}, {\"line\": 11, \"event\": \"step_line\", \"func_name\": \"<module>\", \"globals\": {\"numeri_esterni\": [\"REF\", 1], \"raddoppia\": [\"REF\", 2]}, \"ordered_globals\": [\"numeri_esterni\", \"raddoppia\"], \"stack_to_render\": [], \"heap\": {\"1\": [\"LIST\", 10, 20, 30], \"2\": [\"FUNCTION\", \"raddoppia(lista)\", null]}, \"stdout\": \"\"}, {\"line\": 4, \"event\": \"call\", \"func_name\": \"raddoppia\", \"globals\": {\"numeri_esterni\": [\"REF\", 1], \"raddoppia\": [\"REF\", 2]}, \"ordered_globals\": [\"numeri_esterni\", \"raddoppia\"], \"stack_to_render\": [{\"func_name\": \"raddoppia\", \"is_parent\": false, \"frame_id\": 1, \"parent_frame_id_list\": [], \"encoded_locals\": {\"lista\": [\"REF\", 1]}, \"ordered_varnames\": [\"lista\"], \"is_zombie\": false, \"is_highlighted\": true, \"unique_hash\": \"raddoppia_f1\"}], \"heap\": {\"1\": [\"LIST\", 10, 20, 30], \"2\": [\"FUNCTION\", \"raddoppia(lista)\", null]}, \"stdout\": \"\"}, {\"line\": 5, \"event\": \"step_line\", \"func_name\": \"raddoppia\", \"globals\": {\"numeri_esterni\": [\"REF\", 1], \"raddoppia\": [\"REF\", 2]}, \"ordered_globals\": [\"numeri_esterni\", \"raddoppia\"], \"stack_to_render\": [{\"func_name\": \"raddoppia\", \"is_parent\": false, \"frame_id\": 1, \"parent_frame_id_list\": [], \"encoded_locals\": {\"lista\": [\"REF\", 1]}, \"ordered_varnames\": [\"lista\"], \"is_zombie\": false, \"is_highlighted\": true, \"unique_hash\": \"raddoppia_f1\"}], \"heap\": {\"1\": [\"LIST\", 10, 20, 30], \"2\": [\"FUNCTION\", \"raddoppia(lista)\", null]}, \"stdout\": \"\"}, {\"line\": 6, \"event\": \"step_line\", \"func_name\": \"raddoppia\", \"globals\": {\"numeri_esterni\": [\"REF\", 1], \"raddoppia\": [\"REF\", 2]}, \"ordered_globals\": [\"numeri_esterni\", \"raddoppia\"], \"stack_to_render\": [{\"func_name\": \"raddoppia\", \"is_parent\": false, \"frame_id\": 1, \"parent_frame_id_list\": [], \"encoded_locals\": {\"lista\": [\"REF\", 1], \"tmp\": [\"REF\", 3]}, \"ordered_varnames\": [\"lista\", \"tmp\"], \"is_zombie\": false, \"is_highlighted\": true, \"unique_hash\": \"raddoppia_f1\"}], \"heap\": {\"1\": [\"LIST\", 10, 20, 30], \"3\": [\"LIST\"], \"2\": [\"FUNCTION\", \"raddoppia(lista)\", null]}, \"stdout\": \"\"}, {\"line\": 7, \"event\": \"step_line\", \"func_name\": \"raddoppia\", \"globals\": {\"numeri_esterni\": [\"REF\", 1], \"raddoppia\": [\"REF\", 2]}, \"ordered_globals\": [\"numeri_esterni\", \"raddoppia\"], \"stack_to_render\": [{\"func_name\": \"raddoppia\", \"is_parent\": false, \"frame_id\": 1, \"parent_frame_id_list\": [], \"encoded_locals\": {\"lista\": [\"REF\", 1], \"tmp\": [\"REF\", 3], \"elemento\": 10}, \"ordered_varnames\": [\"lista\", \"tmp\", \"elemento\"], \"is_zombie\": false, \"is_highlighted\": true, \"unique_hash\": \"raddoppia_f1\"}], \"heap\": {\"1\": [\"LIST\", 10, 20, 30], \"3\": [\"LIST\"], \"2\": [\"FUNCTION\", \"raddoppia(lista)\", null]}, \"stdout\": \"\"}, {\"line\": 6, \"event\": \"step_line\", \"func_name\": \"raddoppia\", \"globals\": {\"numeri_esterni\": [\"REF\", 1], \"raddoppia\": [\"REF\", 2]}, \"ordered_globals\": [\"numeri_esterni\", \"raddoppia\"], \"stack_to_render\": [{\"func_name\": \"raddoppia\", \"is_parent\": false, \"frame_id\": 1, \"parent_frame_id_list\": [], \"encoded_locals\": {\"lista\": [\"REF\", 1], \"tmp\": [\"REF\", 3], \"elemento\": 10}, \"ordered_varnames\": [\"lista\", \"tmp\", \"elemento\"], \"is_zombie\": false, \"is_highlighted\": true, \"unique_hash\": \"raddoppia_f1\"}], \"heap\": {\"1\": [\"LIST\", 10, 20, 30], \"3\": [\"LIST\", 20], \"2\": [\"FUNCTION\", \"raddoppia(lista)\", null]}, \"stdout\": \"\"}, {\"line\": 7, \"event\": \"step_line\", \"func_name\": \"raddoppia\", \"globals\": {\"numeri_esterni\": [\"REF\", 1], \"raddoppia\": [\"REF\", 2]}, \"ordered_globals\": [\"numeri_esterni\", \"raddoppia\"], \"stack_to_render\": [{\"func_name\": \"raddoppia\", \"is_parent\": false, \"frame_id\": 1, \"parent_frame_id_list\": [], \"encoded_locals\": {\"lista\": [\"REF\", 1], \"tmp\": [\"REF\", 3], \"elemento\": 20}, \"ordered_varnames\": [\"lista\", \"tmp\", \"elemento\"], \"is_zombie\": false, \"is_highlighted\": true, \"unique_hash\": \"raddoppia_f1\"}], \"heap\": {\"1\": [\"LIST\", 10, 20, 30], \"3\": [\"LIST\", 20], \"2\": [\"FUNCTION\", \"raddoppia(lista)\", null]}, \"stdout\": \"\"}, {\"line\": 6, \"event\": \"step_line\", \"func_name\": \"raddoppia\", \"globals\": {\"numeri_esterni\": [\"REF\", 1], \"raddoppia\": [\"REF\", 2]}, \"ordered_globals\": [\"numeri_esterni\", \"raddoppia\"], \"stack_to_render\": [{\"func_name\": \"raddoppia\", \"is_parent\": false, \"frame_id\": 1, \"parent_frame_id_list\": [], \"encoded_locals\": {\"lista\": [\"REF\", 1], \"tmp\": [\"REF\", 3], \"elemento\": 20}, \"ordered_varnames\": [\"lista\", \"tmp\", \"elemento\"], \"is_zombie\": false, \"is_highlighted\": true, \"unique_hash\": \"raddoppia_f1\"}], \"heap\": {\"1\": [\"LIST\", 10, 20, 30], \"3\": [\"LIST\", 20, 40], \"2\": [\"FUNCTION\", \"raddoppia(lista)\", null]}, \"stdout\": \"\"}, {\"line\": 7, \"event\": \"step_line\", \"func_name\": \"raddoppia\", \"globals\": {\"numeri_esterni\": [\"REF\", 1], \"raddoppia\": [\"REF\", 2]}, \"ordered_globals\": [\"numeri_esterni\", \"raddoppia\"], \"stack_to_render\": [{\"func_name\": \"raddoppia\", \"is_parent\": false, \"frame_id\": 1, \"parent_frame_id_list\": [], \"encoded_locals\": {\"lista\": [\"REF\", 1], \"tmp\": [\"REF\", 3], \"elemento\": 30}, \"ordered_varnames\": [\"lista\", \"tmp\", \"elemento\"], \"is_zombie\": false, \"is_highlighted\": true, \"unique_hash\": \"raddoppia_f1\"}], \"heap\": {\"1\": [\"LIST\", 10, 20, 30], \"3\": [\"LIST\", 20, 40], \"2\": [\"FUNCTION\", \"raddoppia(lista)\", null]}, \"stdout\": \"\"}, {\"line\": 6, \"event\": \"step_line\", \"func_name\": \"raddoppia\", \"globals\": {\"numeri_esterni\": [\"REF\", 1], \"raddoppia\": [\"REF\", 2]}, \"ordered_globals\": [\"numeri_esterni\", \"raddoppia\"], \"stack_to_render\": [{\"func_name\": \"raddoppia\", \"is_parent\": false, \"frame_id\": 1, \"parent_frame_id_list\": [], \"encoded_locals\": {\"lista\": [\"REF\", 1], \"tmp\": [\"REF\", 3], \"elemento\": 30}, \"ordered_varnames\": [\"lista\", \"tmp\", \"elemento\"], \"is_zombie\": false, \"is_highlighted\": true, \"unique_hash\": \"raddoppia_f1\"}], \"heap\": {\"1\": [\"LIST\", 10, 20, 30], \"3\": [\"LIST\", 20, 40, 60], \"2\": [\"FUNCTION\", \"raddoppia(lista)\", null]}, \"stdout\": \"\"}, {\"line\": 9, \"event\": \"step_line\", \"func_name\": \"raddoppia\", \"globals\": {\"numeri_esterni\": [\"REF\", 1], \"raddoppia\": [\"REF\", 2]}, \"ordered_globals\": [\"numeri_esterni\", \"raddoppia\"], \"stack_to_render\": [{\"func_name\": \"raddoppia\", \"is_parent\": false, \"frame_id\": 1, \"parent_frame_id_list\": [], \"encoded_locals\": {\"lista\": [\"REF\", 1], \"tmp\": [\"REF\", 3], \"elemento\": 30}, \"ordered_varnames\": [\"lista\", \"tmp\", \"elemento\"], \"is_zombie\": false, \"is_highlighted\": true, \"unique_hash\": \"raddoppia_f1\"}], \"heap\": {\"1\": [\"LIST\", 10, 20, 30], \"3\": [\"LIST\", 20, 40, 60], \"2\": [\"FUNCTION\", \"raddoppia(lista)\", null]}, \"stdout\": \"\"}, {\"line\": 9, \"event\": \"return\", \"func_name\": \"raddoppia\", \"globals\": {\"numeri_esterni\": [\"REF\", 1], \"raddoppia\": [\"REF\", 2]}, \"ordered_globals\": [\"numeri_esterni\", \"raddoppia\"], \"stack_to_render\": [{\"func_name\": \"raddoppia\", \"is_parent\": false, \"frame_id\": 1, \"parent_frame_id_list\": [], \"encoded_locals\": {\"lista\": [\"REF\", 1], \"tmp\": [\"REF\", 3], \"elemento\": 30, \"numeri_esterni\": [\"REF\", 3], \"__return__\": null}, \"ordered_varnames\": [\"lista\", \"tmp\", \"elemento\", \"numeri_esterni\", \"__return__\"], \"is_zombie\": false, \"is_highlighted\": true, \"unique_hash\": \"raddoppia_f1\"}], \"heap\": {\"1\": [\"LIST\", 10, 20, 30], \"3\": [\"LIST\", 20, 40, 60], \"2\": [\"FUNCTION\", \"raddoppia(lista)\", null]}, \"stdout\": \"\"}, {\"line\": 11, \"event\": \"return\", \"func_name\": \"<module>\", \"globals\": {\"numeri_esterni\": [\"REF\", 1], \"raddoppia\": [\"REF\", 2]}, \"ordered_globals\": [\"numeri_esterni\", \"raddoppia\"], \"stack_to_render\": [], \"heap\": {\"1\": [\"LIST\", 10, 20, 30], \"2\": [\"FUNCTION\", \"raddoppia(lista)\", null]}, \"stdout\": \"\"}]}\n",
       "        </script>\n",
       "        <div id=\"jm43db96f9-2ddc-47ec-995e-2f3a3c673584\" class=\"pytutorVisualizer\"> </div>\n",
       " \n",
       "        <style>\n",
       "        .vizLayoutTd {\n",
       "            background-color: #fff !important;\n",
       "        }\n",
       "\n",
       "        #pyStdout {            \n",
       "            min-height:25px;\n",
       "        }\n",
       "\n",
       "        /* 'Edit this code' link, hiding because replaces browser tab !!!*/\n",
       "        #editCodeLinkDiv {\n",
       "            display:none;  \n",
       "        }\n",
       "        </style>   \n",
       "                            \n",
       "        <script>\n",
       "        (function(){\n",
       "\n",
       "            var trace = JSON.parse(document.getElementById('json-jm43db96f9-2ddc-47ec-995e-2f3a3c673584').innerHTML);                                        \n",
       "            // NOTE 1: id without #\n",
       "            // NOTE 2 - maybe there are more predictable ways, but this will work anyway\n",
       "            //        - id should be number\n",
       "            visualizerIdOverride = Math.trunc(Math.random() * 100000000000)\n",
       "            addVisualizerToPage(trace, 'jm43db96f9-2ddc-47ec-995e-2f3a3c673584',{'embeddedMode' : false,\n",
       "                                             'visualizerIdOverride':visualizerIdOverride})  \n",
       "            \n",
       "            \n",
       "            // set overflow for pytuts - need to do in python as css \n",
       "            // does not allow parent selection\n",
       "            var pytuts = $('.pytutorVisualizer')\n",
       "            pytuts.closest('div.output_html.rendered_html.output_result')\n",
       "                    .css('overflow-x', 'visible')\n",
       "        \n",
       "            //pytuts.closest('div.output_html.rendered_html.output_result')\n",
       "            //      .css('background-color','red')                \n",
       "            \n",
       "        })()\n",
       "        </script>\n",
       "                \n",
       "                "
      ],
      "text/plain": [
       "<IPython.core.display.HTML object>"
      ]
     },
     "execution_count": 26,
     "metadata": {},
     "output_type": "execute_result"
    }
   ],
   "source": [
    "numeri_esterni = [10,20,30]\n",
    "\n",
    "def raddoppia(lista):\n",
    "    tmp = []\n",
    "    for elemento in lista:\n",
    "        tmp.append(elemento * 2)  \n",
    "                                 \n",
    "    numeri_esterni = tmp\n",
    "    \n",
    "raddoppia(numeri_esterni)\n",
    "\n",
    "jupman.pytut()"
   ]
  },
  {
   "cell_type": "markdown",
   "metadata": {},
   "source": [
    "### Raddoppiare: fallimento / 4\n",
    "\n",
    "Infine, vediamo l'ultima tentazione che come immaginerai **non** funzionerà."
   ]
  },
  {
   "cell_type": "markdown",
   "metadata": {},
   "source": [
    "**DOMANDA**: Perchè? Prova a rispondere prima di controllare l'esecuzione in Python Tutor."
   ]
  },
  {
   "cell_type": "raw",
   "id": "7b8032bf",
   "metadata": {
    "format": "text/html"
   },
   "source": [
    "<a  class=\"jupman-sol jupman-sol-toggler\" \n",
    " onclick=\"jupman.toggleSolution(this);\" \n",
    " data-jupman-show=\"Mostra risposta\" data-jupman-hide=\"Nascondi\">Mostra risposta</a><div class=\"jupman-sol jupman-sol-question\" style=\"display:none\">  "
   ]
  },
  {
   "cell_type": "markdown",
   "metadata": {},
   "source": [
    "**RISPOSTA**: \n",
    "\n",
    "```python\n",
    "numeri_esterni = [10,20,30]\n",
    "\n",
    "def raddoppia(lst):\n",
    "    tmp = []                      # SBAGLIATO: stiamo creando una NUOVA lista, \n",
    "                                  # ma il testo dice di MODIFICARE                                         \n",
    "    for elemento in lista:\n",
    "        tmp.append(elemento * 2)  # SBAGLIATO: stiamo modificando una NUOVA lista\n",
    "    return tmp                    # SBAGLIATO: il testo non ha chiesto di\n",
    "                                  # ritornare alcunchè                    \n",
    "    \n",
    "numeri_esterni = raddoppia(numeri_esterni)  # SBAGLIATO: anche se l'associazione numeri_esterni\n",
    "                                            # punterà a una lista di numeri raddoppiati,\n",
    "                                            # sarà una regione di memoria completamente nuova, \n",
    "                                            # ma noi volevamo MODIFICARE quella originale! \n",
    "```"
   ]
  },
  {
   "cell_type": "raw",
   "id": "3d2b0edf",
   "metadata": {
    "format": "text/html"
   },
   "source": [
    "</div>"
   ]
  },
  {
   "cell_type": "code",
   "execution_count": 27,
   "metadata": {},
   "outputs": [
    {
     "data": {
      "text/html": [
       "\n",
       "        <script src=\"../_static/js/pytutor-embed.bundle.min.js\" type=\"application/javascript\"></script>\n",
       "     \n",
       "        <script id=\"json-jm23ede8b7-fb5c-4f1e-b121-fac3912a2740\" type=\"application/json\" >\n",
       "            {\"code\": \" \\nnumeri_esterni = [10,20,30]\\n\\ndef raddoppia(lst):\\n    tmp = []\\n    for element in lst:\\n        tmp.append(element * 2)   \\n                                 \\n    return tmp                    \\n    \\nnumeri_esterni = raddoppia(numeri_esterni)\", \"trace\": [{\"line\": 2, \"event\": \"step_line\", \"func_name\": \"<module>\", \"globals\": {}, \"ordered_globals\": [], \"stack_to_render\": [], \"heap\": {}, \"stdout\": \"\"}, {\"line\": 4, \"event\": \"step_line\", \"func_name\": \"<module>\", \"globals\": {\"numeri_esterni\": [\"REF\", 1]}, \"ordered_globals\": [\"numeri_esterni\"], \"stack_to_render\": [], \"heap\": {\"1\": [\"LIST\", 10, 20, 30]}, \"stdout\": \"\"}, {\"line\": 11, \"event\": \"step_line\", \"func_name\": \"<module>\", \"globals\": {\"numeri_esterni\": [\"REF\", 1], \"raddoppia\": [\"REF\", 2]}, \"ordered_globals\": [\"numeri_esterni\", \"raddoppia\"], \"stack_to_render\": [], \"heap\": {\"1\": [\"LIST\", 10, 20, 30], \"2\": [\"FUNCTION\", \"raddoppia(lst)\", null]}, \"stdout\": \"\"}, {\"line\": 4, \"event\": \"call\", \"func_name\": \"raddoppia\", \"globals\": {\"numeri_esterni\": [\"REF\", 1], \"raddoppia\": [\"REF\", 2]}, \"ordered_globals\": [\"numeri_esterni\", \"raddoppia\"], \"stack_to_render\": [{\"func_name\": \"raddoppia\", \"is_parent\": false, \"frame_id\": 1, \"parent_frame_id_list\": [], \"encoded_locals\": {\"lst\": [\"REF\", 1]}, \"ordered_varnames\": [\"lst\"], \"is_zombie\": false, \"is_highlighted\": true, \"unique_hash\": \"raddoppia_f1\"}], \"heap\": {\"1\": [\"LIST\", 10, 20, 30], \"2\": [\"FUNCTION\", \"raddoppia(lst)\", null]}, \"stdout\": \"\"}, {\"line\": 5, \"event\": \"step_line\", \"func_name\": \"raddoppia\", \"globals\": {\"numeri_esterni\": [\"REF\", 1], \"raddoppia\": [\"REF\", 2]}, \"ordered_globals\": [\"numeri_esterni\", \"raddoppia\"], \"stack_to_render\": [{\"func_name\": \"raddoppia\", \"is_parent\": false, \"frame_id\": 1, \"parent_frame_id_list\": [], \"encoded_locals\": {\"lst\": [\"REF\", 1]}, \"ordered_varnames\": [\"lst\"], \"is_zombie\": false, \"is_highlighted\": true, \"unique_hash\": \"raddoppia_f1\"}], \"heap\": {\"1\": [\"LIST\", 10, 20, 30], \"2\": [\"FUNCTION\", \"raddoppia(lst)\", null]}, \"stdout\": \"\"}, {\"line\": 6, \"event\": \"step_line\", \"func_name\": \"raddoppia\", \"globals\": {\"numeri_esterni\": [\"REF\", 1], \"raddoppia\": [\"REF\", 2]}, \"ordered_globals\": [\"numeri_esterni\", \"raddoppia\"], \"stack_to_render\": [{\"func_name\": \"raddoppia\", \"is_parent\": false, \"frame_id\": 1, \"parent_frame_id_list\": [], \"encoded_locals\": {\"lst\": [\"REF\", 1], \"tmp\": [\"REF\", 3]}, \"ordered_varnames\": [\"lst\", \"tmp\"], \"is_zombie\": false, \"is_highlighted\": true, \"unique_hash\": \"raddoppia_f1\"}], \"heap\": {\"1\": [\"LIST\", 10, 20, 30], \"3\": [\"LIST\"], \"2\": [\"FUNCTION\", \"raddoppia(lst)\", null]}, \"stdout\": \"\"}, {\"line\": 7, \"event\": \"step_line\", \"func_name\": \"raddoppia\", \"globals\": {\"numeri_esterni\": [\"REF\", 1], \"raddoppia\": [\"REF\", 2]}, \"ordered_globals\": [\"numeri_esterni\", \"raddoppia\"], \"stack_to_render\": [{\"func_name\": \"raddoppia\", \"is_parent\": false, \"frame_id\": 1, \"parent_frame_id_list\": [], \"encoded_locals\": {\"lst\": [\"REF\", 1], \"tmp\": [\"REF\", 3], \"element\": 10}, \"ordered_varnames\": [\"lst\", \"tmp\", \"element\"], \"is_zombie\": false, \"is_highlighted\": true, \"unique_hash\": \"raddoppia_f1\"}], \"heap\": {\"1\": [\"LIST\", 10, 20, 30], \"3\": [\"LIST\"], \"2\": [\"FUNCTION\", \"raddoppia(lst)\", null]}, \"stdout\": \"\"}, {\"line\": 6, \"event\": \"step_line\", \"func_name\": \"raddoppia\", \"globals\": {\"numeri_esterni\": [\"REF\", 1], \"raddoppia\": [\"REF\", 2]}, \"ordered_globals\": [\"numeri_esterni\", \"raddoppia\"], \"stack_to_render\": [{\"func_name\": \"raddoppia\", \"is_parent\": false, \"frame_id\": 1, \"parent_frame_id_list\": [], \"encoded_locals\": {\"lst\": [\"REF\", 1], \"tmp\": [\"REF\", 3], \"element\": 10}, \"ordered_varnames\": [\"lst\", \"tmp\", \"element\"], \"is_zombie\": false, \"is_highlighted\": true, \"unique_hash\": \"raddoppia_f1\"}], \"heap\": {\"1\": [\"LIST\", 10, 20, 30], \"3\": [\"LIST\", 20], \"2\": [\"FUNCTION\", \"raddoppia(lst)\", null]}, \"stdout\": \"\"}, {\"line\": 7, \"event\": \"step_line\", \"func_name\": \"raddoppia\", \"globals\": {\"numeri_esterni\": [\"REF\", 1], \"raddoppia\": [\"REF\", 2]}, \"ordered_globals\": [\"numeri_esterni\", \"raddoppia\"], \"stack_to_render\": [{\"func_name\": \"raddoppia\", \"is_parent\": false, \"frame_id\": 1, \"parent_frame_id_list\": [], \"encoded_locals\": {\"lst\": [\"REF\", 1], \"tmp\": [\"REF\", 3], \"element\": 20}, \"ordered_varnames\": [\"lst\", \"tmp\", \"element\"], \"is_zombie\": false, \"is_highlighted\": true, \"unique_hash\": \"raddoppia_f1\"}], \"heap\": {\"1\": [\"LIST\", 10, 20, 30], \"3\": [\"LIST\", 20], \"2\": [\"FUNCTION\", \"raddoppia(lst)\", null]}, \"stdout\": \"\"}, {\"line\": 6, \"event\": \"step_line\", \"func_name\": \"raddoppia\", \"globals\": {\"numeri_esterni\": [\"REF\", 1], \"raddoppia\": [\"REF\", 2]}, \"ordered_globals\": [\"numeri_esterni\", \"raddoppia\"], \"stack_to_render\": [{\"func_name\": \"raddoppia\", \"is_parent\": false, \"frame_id\": 1, \"parent_frame_id_list\": [], \"encoded_locals\": {\"lst\": [\"REF\", 1], \"tmp\": [\"REF\", 3], \"element\": 20}, \"ordered_varnames\": [\"lst\", \"tmp\", \"element\"], \"is_zombie\": false, \"is_highlighted\": true, \"unique_hash\": \"raddoppia_f1\"}], \"heap\": {\"1\": [\"LIST\", 10, 20, 30], \"3\": [\"LIST\", 20, 40], \"2\": [\"FUNCTION\", \"raddoppia(lst)\", null]}, \"stdout\": \"\"}, {\"line\": 7, \"event\": \"step_line\", \"func_name\": \"raddoppia\", \"globals\": {\"numeri_esterni\": [\"REF\", 1], \"raddoppia\": [\"REF\", 2]}, \"ordered_globals\": [\"numeri_esterni\", \"raddoppia\"], \"stack_to_render\": [{\"func_name\": \"raddoppia\", \"is_parent\": false, \"frame_id\": 1, \"parent_frame_id_list\": [], \"encoded_locals\": {\"lst\": [\"REF\", 1], \"tmp\": [\"REF\", 3], \"element\": 30}, \"ordered_varnames\": [\"lst\", \"tmp\", \"element\"], \"is_zombie\": false, \"is_highlighted\": true, \"unique_hash\": \"raddoppia_f1\"}], \"heap\": {\"1\": [\"LIST\", 10, 20, 30], \"3\": [\"LIST\", 20, 40], \"2\": [\"FUNCTION\", \"raddoppia(lst)\", null]}, \"stdout\": \"\"}, {\"line\": 6, \"event\": \"step_line\", \"func_name\": \"raddoppia\", \"globals\": {\"numeri_esterni\": [\"REF\", 1], \"raddoppia\": [\"REF\", 2]}, \"ordered_globals\": [\"numeri_esterni\", \"raddoppia\"], \"stack_to_render\": [{\"func_name\": \"raddoppia\", \"is_parent\": false, \"frame_id\": 1, \"parent_frame_id_list\": [], \"encoded_locals\": {\"lst\": [\"REF\", 1], \"tmp\": [\"REF\", 3], \"element\": 30}, \"ordered_varnames\": [\"lst\", \"tmp\", \"element\"], \"is_zombie\": false, \"is_highlighted\": true, \"unique_hash\": \"raddoppia_f1\"}], \"heap\": {\"1\": [\"LIST\", 10, 20, 30], \"3\": [\"LIST\", 20, 40, 60], \"2\": [\"FUNCTION\", \"raddoppia(lst)\", null]}, \"stdout\": \"\"}, {\"line\": 9, \"event\": \"step_line\", \"func_name\": \"raddoppia\", \"globals\": {\"numeri_esterni\": [\"REF\", 1], \"raddoppia\": [\"REF\", 2]}, \"ordered_globals\": [\"numeri_esterni\", \"raddoppia\"], \"stack_to_render\": [{\"func_name\": \"raddoppia\", \"is_parent\": false, \"frame_id\": 1, \"parent_frame_id_list\": [], \"encoded_locals\": {\"lst\": [\"REF\", 1], \"tmp\": [\"REF\", 3], \"element\": 30}, \"ordered_varnames\": [\"lst\", \"tmp\", \"element\"], \"is_zombie\": false, \"is_highlighted\": true, \"unique_hash\": \"raddoppia_f1\"}], \"heap\": {\"1\": [\"LIST\", 10, 20, 30], \"3\": [\"LIST\", 20, 40, 60], \"2\": [\"FUNCTION\", \"raddoppia(lst)\", null]}, \"stdout\": \"\"}, {\"line\": 9, \"event\": \"return\", \"func_name\": \"raddoppia\", \"globals\": {\"numeri_esterni\": [\"REF\", 1], \"raddoppia\": [\"REF\", 2]}, \"ordered_globals\": [\"numeri_esterni\", \"raddoppia\"], \"stack_to_render\": [{\"func_name\": \"raddoppia\", \"is_parent\": false, \"frame_id\": 1, \"parent_frame_id_list\": [], \"encoded_locals\": {\"lst\": [\"REF\", 1], \"tmp\": [\"REF\", 3], \"element\": 30, \"__return__\": [\"REF\", 3]}, \"ordered_varnames\": [\"lst\", \"tmp\", \"element\", \"__return__\"], \"is_zombie\": false, \"is_highlighted\": true, \"unique_hash\": \"raddoppia_f1\"}], \"heap\": {\"1\": [\"LIST\", 10, 20, 30], \"3\": [\"LIST\", 20, 40, 60], \"2\": [\"FUNCTION\", \"raddoppia(lst)\", null]}, \"stdout\": \"\"}, {\"line\": 11, \"event\": \"return\", \"func_name\": \"<module>\", \"globals\": {\"numeri_esterni\": [\"REF\", 3], \"raddoppia\": [\"REF\", 2]}, \"ordered_globals\": [\"numeri_esterni\", \"raddoppia\"], \"stack_to_render\": [], \"heap\": {\"3\": [\"LIST\", 20, 40, 60], \"2\": [\"FUNCTION\", \"raddoppia(lst)\", null]}, \"stdout\": \"\"}]}\n",
       "        </script>\n",
       "        <div id=\"jm23ede8b7-fb5c-4f1e-b121-fac3912a2740\" class=\"pytutorVisualizer\"> </div>\n",
       " \n",
       "        <style>\n",
       "        .vizLayoutTd {\n",
       "            background-color: #fff !important;\n",
       "        }\n",
       "\n",
       "        #pyStdout {            \n",
       "            min-height:25px;\n",
       "        }\n",
       "\n",
       "        /* 'Edit this code' link, hiding because replaces browser tab !!!*/\n",
       "        #editCodeLinkDiv {\n",
       "            display:none;  \n",
       "        }\n",
       "        </style>   \n",
       "                            \n",
       "        <script>\n",
       "        (function(){\n",
       "\n",
       "            var trace = JSON.parse(document.getElementById('json-jm23ede8b7-fb5c-4f1e-b121-fac3912a2740').innerHTML);                                        \n",
       "            // NOTE 1: id without #\n",
       "            // NOTE 2 - maybe there are more predictable ways, but this will work anyway\n",
       "            //        - id should be number\n",
       "            visualizerIdOverride = Math.trunc(Math.random() * 100000000000)\n",
       "            addVisualizerToPage(trace, 'jm23ede8b7-fb5c-4f1e-b121-fac3912a2740',{'embeddedMode' : false,\n",
       "                                             'visualizerIdOverride':visualizerIdOverride})  \n",
       "            \n",
       "            \n",
       "            // set overflow for pytuts - need to do in python as css \n",
       "            // does not allow parent selection\n",
       "            var pytuts = $('.pytutorVisualizer')\n",
       "            pytuts.closest('div.output_html.rendered_html.output_result')\n",
       "                    .css('overflow-x', 'visible')\n",
       "        \n",
       "            //pytuts.closest('div.output_html.rendered_html.output_result')\n",
       "            //      .css('background-color','red')                \n",
       "            \n",
       "        })()\n",
       "        </script>\n",
       "                \n",
       "                "
      ],
      "text/plain": [
       "<IPython.core.display.HTML object>"
      ]
     },
     "execution_count": 27,
     "metadata": {},
     "output_type": "execute_result"
    }
   ],
   "source": [
    "numeri_esterni = [10,20,30]\n",
    "\n",
    "def raddoppia(lst):\n",
    "    tmp = []\n",
    "    for element in lst:\n",
    "        tmp.append(element * 2)   \n",
    "                                 \n",
    "    return tmp                    \n",
    "    \n",
    "numeri_esterni = raddoppia(numeri_esterni)                                             \n",
    "\n",
    "jupman.pytut()"
   ]
  },
  {
   "cell_type": "markdown",
   "metadata": {},
   "source": [
    "Probabilmente sei un po' confuso riguardo il tentativo precendente, perchè all'occhio non esperto potrebbe sembrare che faccia quanto desiderato.  Proviamo a riscriverlo con una variabile extra `salvata` che punterà esattamente alla stessa regione di memoria originale di `numeri_esterni`. Vedrai che alla fine `salvato` punterà a `[10,20,30]`, mostrando che non abbiamo veramente MODIFICATO la regione di memoria originale."
   ]
  },
  {
   "cell_type": "code",
   "execution_count": 28,
   "metadata": {},
   "outputs": [
    {
     "name": "stdout",
     "output_type": "stream",
     "text": [
      "numeri_esterni: [20, 40, 60]\n",
      "       salvata: [10, 20, 30]\n"
     ]
    },
    {
     "data": {
      "text/html": [
       "\n",
       "        <script src=\"../_static/js/pytutor-embed.bundle.min.js\" type=\"application/javascript\"></script>\n",
       "     \n",
       "        <script id=\"json-jm00bae4e1-3714-4d45-9619-c955dd04963a\" type=\"application/json\" >\n",
       "            {\"code\": \" \\nnumeri_esterni = [10,20,30]\\nsalvata = numeri_esterni   # preserviamo il puntatore\\n\\ndef raddoppia(lista):\\n    tmp = []\\n    for elemento in lista:\\n        tmp.append(elemento * 2)\\n    return tmp                   \\n    \\nnumeri_esterni = raddoppia(numeri_esterni) \\nprint('numeri_esterni:', numeri_esterni)  # [20,40,60]\\nprint('       salvata:', salvata)         # [10,20,30]\", \"trace\": [{\"line\": 2, \"event\": \"step_line\", \"func_name\": \"<module>\", \"globals\": {}, \"ordered_globals\": [], \"stack_to_render\": [], \"heap\": {}, \"stdout\": \"\"}, {\"line\": 3, \"event\": \"step_line\", \"func_name\": \"<module>\", \"globals\": {\"numeri_esterni\": [\"REF\", 1]}, \"ordered_globals\": [\"numeri_esterni\"], \"stack_to_render\": [], \"heap\": {\"1\": [\"LIST\", 10, 20, 30]}, \"stdout\": \"\"}, {\"line\": 5, \"event\": \"step_line\", \"func_name\": \"<module>\", \"globals\": {\"numeri_esterni\": [\"REF\", 1], \"salvata\": [\"REF\", 1]}, \"ordered_globals\": [\"numeri_esterni\", \"salvata\"], \"stack_to_render\": [], \"heap\": {\"1\": [\"LIST\", 10, 20, 30]}, \"stdout\": \"\"}, {\"line\": 11, \"event\": \"step_line\", \"func_name\": \"<module>\", \"globals\": {\"numeri_esterni\": [\"REF\", 1], \"salvata\": [\"REF\", 1], \"raddoppia\": [\"REF\", 2]}, \"ordered_globals\": [\"numeri_esterni\", \"salvata\", \"raddoppia\"], \"stack_to_render\": [], \"heap\": {\"1\": [\"LIST\", 10, 20, 30], \"2\": [\"FUNCTION\", \"raddoppia(lista)\", null]}, \"stdout\": \"\"}, {\"line\": 5, \"event\": \"call\", \"func_name\": \"raddoppia\", \"globals\": {\"numeri_esterni\": [\"REF\", 1], \"salvata\": [\"REF\", 1], \"raddoppia\": [\"REF\", 2]}, \"ordered_globals\": [\"numeri_esterni\", \"salvata\", \"raddoppia\"], \"stack_to_render\": [{\"func_name\": \"raddoppia\", \"is_parent\": false, \"frame_id\": 1, \"parent_frame_id_list\": [], \"encoded_locals\": {\"lista\": [\"REF\", 1]}, \"ordered_varnames\": [\"lista\"], \"is_zombie\": false, \"is_highlighted\": true, \"unique_hash\": \"raddoppia_f1\"}], \"heap\": {\"1\": [\"LIST\", 10, 20, 30], \"2\": [\"FUNCTION\", \"raddoppia(lista)\", null]}, \"stdout\": \"\"}, {\"line\": 6, \"event\": \"step_line\", \"func_name\": \"raddoppia\", \"globals\": {\"numeri_esterni\": [\"REF\", 1], \"salvata\": [\"REF\", 1], \"raddoppia\": [\"REF\", 2]}, \"ordered_globals\": [\"numeri_esterni\", \"salvata\", \"raddoppia\"], \"stack_to_render\": [{\"func_name\": \"raddoppia\", \"is_parent\": false, \"frame_id\": 1, \"parent_frame_id_list\": [], \"encoded_locals\": {\"lista\": [\"REF\", 1]}, \"ordered_varnames\": [\"lista\"], \"is_zombie\": false, \"is_highlighted\": true, \"unique_hash\": \"raddoppia_f1\"}], \"heap\": {\"1\": [\"LIST\", 10, 20, 30], \"2\": [\"FUNCTION\", \"raddoppia(lista)\", null]}, \"stdout\": \"\"}, {\"line\": 7, \"event\": \"step_line\", \"func_name\": \"raddoppia\", \"globals\": {\"numeri_esterni\": [\"REF\", 1], \"salvata\": [\"REF\", 1], \"raddoppia\": [\"REF\", 2]}, \"ordered_globals\": [\"numeri_esterni\", \"salvata\", \"raddoppia\"], \"stack_to_render\": [{\"func_name\": \"raddoppia\", \"is_parent\": false, \"frame_id\": 1, \"parent_frame_id_list\": [], \"encoded_locals\": {\"lista\": [\"REF\", 1], \"tmp\": [\"REF\", 3]}, \"ordered_varnames\": [\"lista\", \"tmp\"], \"is_zombie\": false, \"is_highlighted\": true, \"unique_hash\": \"raddoppia_f1\"}], \"heap\": {\"1\": [\"LIST\", 10, 20, 30], \"3\": [\"LIST\"], \"2\": [\"FUNCTION\", \"raddoppia(lista)\", null]}, \"stdout\": \"\"}, {\"line\": 8, \"event\": \"step_line\", \"func_name\": \"raddoppia\", \"globals\": {\"numeri_esterni\": [\"REF\", 1], \"salvata\": [\"REF\", 1], \"raddoppia\": [\"REF\", 2]}, \"ordered_globals\": [\"numeri_esterni\", \"salvata\", \"raddoppia\"], \"stack_to_render\": [{\"func_name\": \"raddoppia\", \"is_parent\": false, \"frame_id\": 1, \"parent_frame_id_list\": [], \"encoded_locals\": {\"lista\": [\"REF\", 1], \"tmp\": [\"REF\", 3], \"elemento\": 10}, \"ordered_varnames\": [\"lista\", \"tmp\", \"elemento\"], \"is_zombie\": false, \"is_highlighted\": true, \"unique_hash\": \"raddoppia_f1\"}], \"heap\": {\"1\": [\"LIST\", 10, 20, 30], \"3\": [\"LIST\"], \"2\": [\"FUNCTION\", \"raddoppia(lista)\", null]}, \"stdout\": \"\"}, {\"line\": 7, \"event\": \"step_line\", \"func_name\": \"raddoppia\", \"globals\": {\"numeri_esterni\": [\"REF\", 1], \"salvata\": [\"REF\", 1], \"raddoppia\": [\"REF\", 2]}, \"ordered_globals\": [\"numeri_esterni\", \"salvata\", \"raddoppia\"], \"stack_to_render\": [{\"func_name\": \"raddoppia\", \"is_parent\": false, \"frame_id\": 1, \"parent_frame_id_list\": [], \"encoded_locals\": {\"lista\": [\"REF\", 1], \"tmp\": [\"REF\", 3], \"elemento\": 10}, \"ordered_varnames\": [\"lista\", \"tmp\", \"elemento\"], \"is_zombie\": false, \"is_highlighted\": true, \"unique_hash\": \"raddoppia_f1\"}], \"heap\": {\"1\": [\"LIST\", 10, 20, 30], \"3\": [\"LIST\", 20], \"2\": [\"FUNCTION\", \"raddoppia(lista)\", null]}, \"stdout\": \"\"}, {\"line\": 8, \"event\": \"step_line\", \"func_name\": \"raddoppia\", \"globals\": {\"numeri_esterni\": [\"REF\", 1], \"salvata\": [\"REF\", 1], \"raddoppia\": [\"REF\", 2]}, \"ordered_globals\": [\"numeri_esterni\", \"salvata\", \"raddoppia\"], \"stack_to_render\": [{\"func_name\": \"raddoppia\", \"is_parent\": false, \"frame_id\": 1, \"parent_frame_id_list\": [], \"encoded_locals\": {\"lista\": [\"REF\", 1], \"tmp\": [\"REF\", 3], \"elemento\": 20}, \"ordered_varnames\": [\"lista\", \"tmp\", \"elemento\"], \"is_zombie\": false, \"is_highlighted\": true, \"unique_hash\": \"raddoppia_f1\"}], \"heap\": {\"1\": [\"LIST\", 10, 20, 30], \"3\": [\"LIST\", 20], \"2\": [\"FUNCTION\", \"raddoppia(lista)\", null]}, \"stdout\": \"\"}, {\"line\": 7, \"event\": \"step_line\", \"func_name\": \"raddoppia\", \"globals\": {\"numeri_esterni\": [\"REF\", 1], \"salvata\": [\"REF\", 1], \"raddoppia\": [\"REF\", 2]}, \"ordered_globals\": [\"numeri_esterni\", \"salvata\", \"raddoppia\"], \"stack_to_render\": [{\"func_name\": \"raddoppia\", \"is_parent\": false, \"frame_id\": 1, \"parent_frame_id_list\": [], \"encoded_locals\": {\"lista\": [\"REF\", 1], \"tmp\": [\"REF\", 3], \"elemento\": 20}, \"ordered_varnames\": [\"lista\", \"tmp\", \"elemento\"], \"is_zombie\": false, \"is_highlighted\": true, \"unique_hash\": \"raddoppia_f1\"}], \"heap\": {\"1\": [\"LIST\", 10, 20, 30], \"3\": [\"LIST\", 20, 40], \"2\": [\"FUNCTION\", \"raddoppia(lista)\", null]}, \"stdout\": \"\"}, {\"line\": 8, \"event\": \"step_line\", \"func_name\": \"raddoppia\", \"globals\": {\"numeri_esterni\": [\"REF\", 1], \"salvata\": [\"REF\", 1], \"raddoppia\": [\"REF\", 2]}, \"ordered_globals\": [\"numeri_esterni\", \"salvata\", \"raddoppia\"], \"stack_to_render\": [{\"func_name\": \"raddoppia\", \"is_parent\": false, \"frame_id\": 1, \"parent_frame_id_list\": [], \"encoded_locals\": {\"lista\": [\"REF\", 1], \"tmp\": [\"REF\", 3], \"elemento\": 30}, \"ordered_varnames\": [\"lista\", \"tmp\", \"elemento\"], \"is_zombie\": false, \"is_highlighted\": true, \"unique_hash\": \"raddoppia_f1\"}], \"heap\": {\"1\": [\"LIST\", 10, 20, 30], \"3\": [\"LIST\", 20, 40], \"2\": [\"FUNCTION\", \"raddoppia(lista)\", null]}, \"stdout\": \"\"}, {\"line\": 7, \"event\": \"step_line\", \"func_name\": \"raddoppia\", \"globals\": {\"numeri_esterni\": [\"REF\", 1], \"salvata\": [\"REF\", 1], \"raddoppia\": [\"REF\", 2]}, \"ordered_globals\": [\"numeri_esterni\", \"salvata\", \"raddoppia\"], \"stack_to_render\": [{\"func_name\": \"raddoppia\", \"is_parent\": false, \"frame_id\": 1, \"parent_frame_id_list\": [], \"encoded_locals\": {\"lista\": [\"REF\", 1], \"tmp\": [\"REF\", 3], \"elemento\": 30}, \"ordered_varnames\": [\"lista\", \"tmp\", \"elemento\"], \"is_zombie\": false, \"is_highlighted\": true, \"unique_hash\": \"raddoppia_f1\"}], \"heap\": {\"1\": [\"LIST\", 10, 20, 30], \"3\": [\"LIST\", 20, 40, 60], \"2\": [\"FUNCTION\", \"raddoppia(lista)\", null]}, \"stdout\": \"\"}, {\"line\": 9, \"event\": \"step_line\", \"func_name\": \"raddoppia\", \"globals\": {\"numeri_esterni\": [\"REF\", 1], \"salvata\": [\"REF\", 1], \"raddoppia\": [\"REF\", 2]}, \"ordered_globals\": [\"numeri_esterni\", \"salvata\", \"raddoppia\"], \"stack_to_render\": [{\"func_name\": \"raddoppia\", \"is_parent\": false, \"frame_id\": 1, \"parent_frame_id_list\": [], \"encoded_locals\": {\"lista\": [\"REF\", 1], \"tmp\": [\"REF\", 3], \"elemento\": 30}, \"ordered_varnames\": [\"lista\", \"tmp\", \"elemento\"], \"is_zombie\": false, \"is_highlighted\": true, \"unique_hash\": \"raddoppia_f1\"}], \"heap\": {\"1\": [\"LIST\", 10, 20, 30], \"3\": [\"LIST\", 20, 40, 60], \"2\": [\"FUNCTION\", \"raddoppia(lista)\", null]}, \"stdout\": \"\"}, {\"line\": 9, \"event\": \"return\", \"func_name\": \"raddoppia\", \"globals\": {\"numeri_esterni\": [\"REF\", 1], \"salvata\": [\"REF\", 1], \"raddoppia\": [\"REF\", 2]}, \"ordered_globals\": [\"numeri_esterni\", \"salvata\", \"raddoppia\"], \"stack_to_render\": [{\"func_name\": \"raddoppia\", \"is_parent\": false, \"frame_id\": 1, \"parent_frame_id_list\": [], \"encoded_locals\": {\"lista\": [\"REF\", 1], \"tmp\": [\"REF\", 3], \"elemento\": 30, \"__return__\": [\"REF\", 3]}, \"ordered_varnames\": [\"lista\", \"tmp\", \"elemento\", \"__return__\"], \"is_zombie\": false, \"is_highlighted\": true, \"unique_hash\": \"raddoppia_f1\"}], \"heap\": {\"1\": [\"LIST\", 10, 20, 30], \"3\": [\"LIST\", 20, 40, 60], \"2\": [\"FUNCTION\", \"raddoppia(lista)\", null]}, \"stdout\": \"\"}, {\"line\": 12, \"event\": \"step_line\", \"func_name\": \"<module>\", \"globals\": {\"numeri_esterni\": [\"REF\", 3], \"salvata\": [\"REF\", 1], \"raddoppia\": [\"REF\", 2]}, \"ordered_globals\": [\"numeri_esterni\", \"salvata\", \"raddoppia\"], \"stack_to_render\": [], \"heap\": {\"3\": [\"LIST\", 20, 40, 60], \"1\": [\"LIST\", 10, 20, 30], \"2\": [\"FUNCTION\", \"raddoppia(lista)\", null]}, \"stdout\": \"\"}, {\"line\": 13, \"event\": \"step_line\", \"func_name\": \"<module>\", \"globals\": {\"numeri_esterni\": [\"REF\", 3], \"salvata\": [\"REF\", 1], \"raddoppia\": [\"REF\", 2]}, \"ordered_globals\": [\"numeri_esterni\", \"salvata\", \"raddoppia\"], \"stack_to_render\": [], \"heap\": {\"3\": [\"LIST\", 20, 40, 60], \"1\": [\"LIST\", 10, 20, 30], \"2\": [\"FUNCTION\", \"raddoppia(lista)\", null]}, \"stdout\": \"numeri_esterni: [20, 40, 60]\\n\"}, {\"line\": 13, \"event\": \"return\", \"func_name\": \"<module>\", \"globals\": {\"numeri_esterni\": [\"REF\", 3], \"salvata\": [\"REF\", 1], \"raddoppia\": [\"REF\", 2]}, \"ordered_globals\": [\"numeri_esterni\", \"salvata\", \"raddoppia\"], \"stack_to_render\": [], \"heap\": {\"3\": [\"LIST\", 20, 40, 60], \"1\": [\"LIST\", 10, 20, 30], \"2\": [\"FUNCTION\", \"raddoppia(lista)\", null]}, \"stdout\": \"numeri_esterni: [20, 40, 60]\\n       salvata: [10, 20, 30]\\n\"}]}\n",
       "        </script>\n",
       "        <div id=\"jm00bae4e1-3714-4d45-9619-c955dd04963a\" class=\"pytutorVisualizer\"> </div>\n",
       " \n",
       "        <style>\n",
       "        .vizLayoutTd {\n",
       "            background-color: #fff !important;\n",
       "        }\n",
       "\n",
       "        #pyStdout {            \n",
       "            min-height:25px;\n",
       "        }\n",
       "\n",
       "        /* 'Edit this code' link, hiding because replaces browser tab !!!*/\n",
       "        #editCodeLinkDiv {\n",
       "            display:none;  \n",
       "        }\n",
       "        </style>   \n",
       "                            \n",
       "        <script>\n",
       "        (function(){\n",
       "\n",
       "            var trace = JSON.parse(document.getElementById('json-jm00bae4e1-3714-4d45-9619-c955dd04963a').innerHTML);                                        \n",
       "            // NOTE 1: id without #\n",
       "            // NOTE 2 - maybe there are more predictable ways, but this will work anyway\n",
       "            //        - id should be number\n",
       "            visualizerIdOverride = Math.trunc(Math.random() * 100000000000)\n",
       "            addVisualizerToPage(trace, 'jm00bae4e1-3714-4d45-9619-c955dd04963a',{'embeddedMode' : false,\n",
       "                                             'visualizerIdOverride':visualizerIdOverride})  \n",
       "            \n",
       "            \n",
       "            // set overflow for pytuts - need to do in python as css \n",
       "            // does not allow parent selection\n",
       "            var pytuts = $('.pytutorVisualizer')\n",
       "            pytuts.closest('div.output_html.rendered_html.output_result')\n",
       "                    .css('overflow-x', 'visible')\n",
       "        \n",
       "            //pytuts.closest('div.output_html.rendered_html.output_result')\n",
       "            //      .css('background-color','red')                \n",
       "            \n",
       "        })()\n",
       "        </script>\n",
       "                \n",
       "                "
      ],
      "text/plain": [
       "<IPython.core.display.HTML object>"
      ]
     },
     "execution_count": 28,
     "metadata": {},
     "output_type": "execute_result"
    }
   ],
   "source": [
    "numeri_esterni = [10,20,30]\n",
    "salvata = numeri_esterni   # preserviamo il puntatore\n",
    "\n",
    "def raddoppia(lista):\n",
    "    tmp = []\n",
    "    for elemento in lista:\n",
    "        tmp.append(elemento * 2)\n",
    "    return tmp                   \n",
    "    \n",
    "numeri_esterni = raddoppia(numeri_esterni) \n",
    "print('numeri_esterni:', numeri_esterni)  # [20,40,60]\n",
    "print('       salvata:', salvata)         # [10,20,30]\n",
    "\n",
    "jupman.pytut()"
   ]
  },
  {
   "cell_type": "markdown",
   "metadata": {},
   "source": [
    "### Raddoppiare: successo!\n",
    "\n",
    "Vediamo infine il modo giusto di affrontare il problema: dobbiamo considerare che vogliamo riferirci alle celle originali, e per farlo propriamente dobbiamo accederle _per indice_. Avremo quindi bisogno di un `for in` range:"
   ]
  },
  {
   "cell_type": "code",
   "execution_count": 29,
   "metadata": {},
   "outputs": [
    {
     "data": {
      "text/html": [
       "\n",
       "        <script src=\"../_static/js/pytutor-embed.bundle.min.js\" type=\"application/javascript\"></script>\n",
       "     \n",
       "        <script id=\"json-jm579cd6a4-5ba2-4316-a0db-321ed3c53b60\" type=\"application/json\" >\n",
       "            {\"code\": \" \\nnumeri_esterni = [1,2,3,4,5]\\n\\ndef raddoppia(lista):\\n    for i in range(len(lista)):\\n        lista[i] = lista[i] * 2        \\n    \\nraddoppia(numeri_esterni)\", \"trace\": [{\"line\": 2, \"event\": \"step_line\", \"func_name\": \"<module>\", \"globals\": {}, \"ordered_globals\": [], \"stack_to_render\": [], \"heap\": {}, \"stdout\": \"\"}, {\"line\": 4, \"event\": \"step_line\", \"func_name\": \"<module>\", \"globals\": {\"numeri_esterni\": [\"REF\", 1]}, \"ordered_globals\": [\"numeri_esterni\"], \"stack_to_render\": [], \"heap\": {\"1\": [\"LIST\", 1, 2, 3, 4, 5]}, \"stdout\": \"\"}, {\"line\": 8, \"event\": \"step_line\", \"func_name\": \"<module>\", \"globals\": {\"numeri_esterni\": [\"REF\", 1], \"raddoppia\": [\"REF\", 2]}, \"ordered_globals\": [\"numeri_esterni\", \"raddoppia\"], \"stack_to_render\": [], \"heap\": {\"1\": [\"LIST\", 1, 2, 3, 4, 5], \"2\": [\"FUNCTION\", \"raddoppia(lista)\", null]}, \"stdout\": \"\"}, {\"line\": 4, \"event\": \"call\", \"func_name\": \"raddoppia\", \"globals\": {\"numeri_esterni\": [\"REF\", 1], \"raddoppia\": [\"REF\", 2]}, \"ordered_globals\": [\"numeri_esterni\", \"raddoppia\"], \"stack_to_render\": [{\"func_name\": \"raddoppia\", \"is_parent\": false, \"frame_id\": 1, \"parent_frame_id_list\": [], \"encoded_locals\": {\"lista\": [\"REF\", 1]}, \"ordered_varnames\": [\"lista\"], \"is_zombie\": false, \"is_highlighted\": true, \"unique_hash\": \"raddoppia_f1\"}], \"heap\": {\"1\": [\"LIST\", 1, 2, 3, 4, 5], \"2\": [\"FUNCTION\", \"raddoppia(lista)\", null]}, \"stdout\": \"\"}, {\"line\": 5, \"event\": \"step_line\", \"func_name\": \"raddoppia\", \"globals\": {\"numeri_esterni\": [\"REF\", 1], \"raddoppia\": [\"REF\", 2]}, \"ordered_globals\": [\"numeri_esterni\", \"raddoppia\"], \"stack_to_render\": [{\"func_name\": \"raddoppia\", \"is_parent\": false, \"frame_id\": 1, \"parent_frame_id_list\": [], \"encoded_locals\": {\"lista\": [\"REF\", 1]}, \"ordered_varnames\": [\"lista\"], \"is_zombie\": false, \"is_highlighted\": true, \"unique_hash\": \"raddoppia_f1\"}], \"heap\": {\"1\": [\"LIST\", 1, 2, 3, 4, 5], \"2\": [\"FUNCTION\", \"raddoppia(lista)\", null]}, \"stdout\": \"\"}, {\"line\": 6, \"event\": \"step_line\", \"func_name\": \"raddoppia\", \"globals\": {\"numeri_esterni\": [\"REF\", 1], \"raddoppia\": [\"REF\", 2]}, \"ordered_globals\": [\"numeri_esterni\", \"raddoppia\"], \"stack_to_render\": [{\"func_name\": \"raddoppia\", \"is_parent\": false, \"frame_id\": 1, \"parent_frame_id_list\": [], \"encoded_locals\": {\"lista\": [\"REF\", 1], \"i\": 0}, \"ordered_varnames\": [\"lista\", \"i\"], \"is_zombie\": false, \"is_highlighted\": true, \"unique_hash\": \"raddoppia_f1\"}], \"heap\": {\"1\": [\"LIST\", 1, 2, 3, 4, 5], \"2\": [\"FUNCTION\", \"raddoppia(lista)\", null]}, \"stdout\": \"\"}, {\"line\": 5, \"event\": \"step_line\", \"func_name\": \"raddoppia\", \"globals\": {\"numeri_esterni\": [\"REF\", 1], \"raddoppia\": [\"REF\", 2]}, \"ordered_globals\": [\"numeri_esterni\", \"raddoppia\"], \"stack_to_render\": [{\"func_name\": \"raddoppia\", \"is_parent\": false, \"frame_id\": 1, \"parent_frame_id_list\": [], \"encoded_locals\": {\"lista\": [\"REF\", 1], \"i\": 0}, \"ordered_varnames\": [\"lista\", \"i\"], \"is_zombie\": false, \"is_highlighted\": true, \"unique_hash\": \"raddoppia_f1\"}], \"heap\": {\"1\": [\"LIST\", 2, 2, 3, 4, 5], \"2\": [\"FUNCTION\", \"raddoppia(lista)\", null]}, \"stdout\": \"\"}, {\"line\": 6, \"event\": \"step_line\", \"func_name\": \"raddoppia\", \"globals\": {\"numeri_esterni\": [\"REF\", 1], \"raddoppia\": [\"REF\", 2]}, \"ordered_globals\": [\"numeri_esterni\", \"raddoppia\"], \"stack_to_render\": [{\"func_name\": \"raddoppia\", \"is_parent\": false, \"frame_id\": 1, \"parent_frame_id_list\": [], \"encoded_locals\": {\"lista\": [\"REF\", 1], \"i\": 1}, \"ordered_varnames\": [\"lista\", \"i\"], \"is_zombie\": false, \"is_highlighted\": true, \"unique_hash\": \"raddoppia_f1\"}], \"heap\": {\"1\": [\"LIST\", 2, 2, 3, 4, 5], \"2\": [\"FUNCTION\", \"raddoppia(lista)\", null]}, \"stdout\": \"\"}, {\"line\": 5, \"event\": \"step_line\", \"func_name\": \"raddoppia\", \"globals\": {\"numeri_esterni\": [\"REF\", 1], \"raddoppia\": [\"REF\", 2]}, \"ordered_globals\": [\"numeri_esterni\", \"raddoppia\"], \"stack_to_render\": [{\"func_name\": \"raddoppia\", \"is_parent\": false, \"frame_id\": 1, \"parent_frame_id_list\": [], \"encoded_locals\": {\"lista\": [\"REF\", 1], \"i\": 1}, \"ordered_varnames\": [\"lista\", \"i\"], \"is_zombie\": false, \"is_highlighted\": true, \"unique_hash\": \"raddoppia_f1\"}], \"heap\": {\"1\": [\"LIST\", 2, 4, 3, 4, 5], \"2\": [\"FUNCTION\", \"raddoppia(lista)\", null]}, \"stdout\": \"\"}, {\"line\": 6, \"event\": \"step_line\", \"func_name\": \"raddoppia\", \"globals\": {\"numeri_esterni\": [\"REF\", 1], \"raddoppia\": [\"REF\", 2]}, \"ordered_globals\": [\"numeri_esterni\", \"raddoppia\"], \"stack_to_render\": [{\"func_name\": \"raddoppia\", \"is_parent\": false, \"frame_id\": 1, \"parent_frame_id_list\": [], \"encoded_locals\": {\"lista\": [\"REF\", 1], \"i\": 2}, \"ordered_varnames\": [\"lista\", \"i\"], \"is_zombie\": false, \"is_highlighted\": true, \"unique_hash\": \"raddoppia_f1\"}], \"heap\": {\"1\": [\"LIST\", 2, 4, 3, 4, 5], \"2\": [\"FUNCTION\", \"raddoppia(lista)\", null]}, \"stdout\": \"\"}, {\"line\": 5, \"event\": \"step_line\", \"func_name\": \"raddoppia\", \"globals\": {\"numeri_esterni\": [\"REF\", 1], \"raddoppia\": [\"REF\", 2]}, \"ordered_globals\": [\"numeri_esterni\", \"raddoppia\"], \"stack_to_render\": [{\"func_name\": \"raddoppia\", \"is_parent\": false, \"frame_id\": 1, \"parent_frame_id_list\": [], \"encoded_locals\": {\"lista\": [\"REF\", 1], \"i\": 2}, \"ordered_varnames\": [\"lista\", \"i\"], \"is_zombie\": false, \"is_highlighted\": true, \"unique_hash\": \"raddoppia_f1\"}], \"heap\": {\"1\": [\"LIST\", 2, 4, 6, 4, 5], \"2\": [\"FUNCTION\", \"raddoppia(lista)\", null]}, \"stdout\": \"\"}, {\"line\": 6, \"event\": \"step_line\", \"func_name\": \"raddoppia\", \"globals\": {\"numeri_esterni\": [\"REF\", 1], \"raddoppia\": [\"REF\", 2]}, \"ordered_globals\": [\"numeri_esterni\", \"raddoppia\"], \"stack_to_render\": [{\"func_name\": \"raddoppia\", \"is_parent\": false, \"frame_id\": 1, \"parent_frame_id_list\": [], \"encoded_locals\": {\"lista\": [\"REF\", 1], \"i\": 3}, \"ordered_varnames\": [\"lista\", \"i\"], \"is_zombie\": false, \"is_highlighted\": true, \"unique_hash\": \"raddoppia_f1\"}], \"heap\": {\"1\": [\"LIST\", 2, 4, 6, 4, 5], \"2\": [\"FUNCTION\", \"raddoppia(lista)\", null]}, \"stdout\": \"\"}, {\"line\": 5, \"event\": \"step_line\", \"func_name\": \"raddoppia\", \"globals\": {\"numeri_esterni\": [\"REF\", 1], \"raddoppia\": [\"REF\", 2]}, \"ordered_globals\": [\"numeri_esterni\", \"raddoppia\"], \"stack_to_render\": [{\"func_name\": \"raddoppia\", \"is_parent\": false, \"frame_id\": 1, \"parent_frame_id_list\": [], \"encoded_locals\": {\"lista\": [\"REF\", 1], \"i\": 3}, \"ordered_varnames\": [\"lista\", \"i\"], \"is_zombie\": false, \"is_highlighted\": true, \"unique_hash\": \"raddoppia_f1\"}], \"heap\": {\"1\": [\"LIST\", 2, 4, 6, 8, 5], \"2\": [\"FUNCTION\", \"raddoppia(lista)\", null]}, \"stdout\": \"\"}, {\"line\": 6, \"event\": \"step_line\", \"func_name\": \"raddoppia\", \"globals\": {\"numeri_esterni\": [\"REF\", 1], \"raddoppia\": [\"REF\", 2]}, \"ordered_globals\": [\"numeri_esterni\", \"raddoppia\"], \"stack_to_render\": [{\"func_name\": \"raddoppia\", \"is_parent\": false, \"frame_id\": 1, \"parent_frame_id_list\": [], \"encoded_locals\": {\"lista\": [\"REF\", 1], \"i\": 4}, \"ordered_varnames\": [\"lista\", \"i\"], \"is_zombie\": false, \"is_highlighted\": true, \"unique_hash\": \"raddoppia_f1\"}], \"heap\": {\"1\": [\"LIST\", 2, 4, 6, 8, 5], \"2\": [\"FUNCTION\", \"raddoppia(lista)\", null]}, \"stdout\": \"\"}, {\"line\": 5, \"event\": \"step_line\", \"func_name\": \"raddoppia\", \"globals\": {\"numeri_esterni\": [\"REF\", 1], \"raddoppia\": [\"REF\", 2]}, \"ordered_globals\": [\"numeri_esterni\", \"raddoppia\"], \"stack_to_render\": [{\"func_name\": \"raddoppia\", \"is_parent\": false, \"frame_id\": 1, \"parent_frame_id_list\": [], \"encoded_locals\": {\"lista\": [\"REF\", 1], \"i\": 4}, \"ordered_varnames\": [\"lista\", \"i\"], \"is_zombie\": false, \"is_highlighted\": true, \"unique_hash\": \"raddoppia_f1\"}], \"heap\": {\"1\": [\"LIST\", 2, 4, 6, 8, 10], \"2\": [\"FUNCTION\", \"raddoppia(lista)\", null]}, \"stdout\": \"\"}, {\"line\": 5, \"event\": \"return\", \"func_name\": \"raddoppia\", \"globals\": {\"numeri_esterni\": [\"REF\", 1], \"raddoppia\": [\"REF\", 2]}, \"ordered_globals\": [\"numeri_esterni\", \"raddoppia\"], \"stack_to_render\": [{\"func_name\": \"raddoppia\", \"is_parent\": false, \"frame_id\": 1, \"parent_frame_id_list\": [], \"encoded_locals\": {\"lista\": [\"REF\", 1], \"i\": 4, \"__return__\": null}, \"ordered_varnames\": [\"lista\", \"i\", \"__return__\"], \"is_zombie\": false, \"is_highlighted\": true, \"unique_hash\": \"raddoppia_f1\"}], \"heap\": {\"1\": [\"LIST\", 2, 4, 6, 8, 10], \"2\": [\"FUNCTION\", \"raddoppia(lista)\", null]}, \"stdout\": \"\"}, {\"line\": 8, \"event\": \"return\", \"func_name\": \"<module>\", \"globals\": {\"numeri_esterni\": [\"REF\", 1], \"raddoppia\": [\"REF\", 2]}, \"ordered_globals\": [\"numeri_esterni\", \"raddoppia\"], \"stack_to_render\": [], \"heap\": {\"1\": [\"LIST\", 2, 4, 6, 8, 10], \"2\": [\"FUNCTION\", \"raddoppia(lista)\", null]}, \"stdout\": \"\"}]}\n",
       "        </script>\n",
       "        <div id=\"jm579cd6a4-5ba2-4316-a0db-321ed3c53b60\" class=\"pytutorVisualizer\"> </div>\n",
       " \n",
       "        <style>\n",
       "        .vizLayoutTd {\n",
       "            background-color: #fff !important;\n",
       "        }\n",
       "\n",
       "        #pyStdout {            \n",
       "            min-height:25px;\n",
       "        }\n",
       "\n",
       "        /* 'Edit this code' link, hiding because replaces browser tab !!!*/\n",
       "        #editCodeLinkDiv {\n",
       "            display:none;  \n",
       "        }\n",
       "        </style>   \n",
       "                            \n",
       "        <script>\n",
       "        (function(){\n",
       "\n",
       "            var trace = JSON.parse(document.getElementById('json-jm579cd6a4-5ba2-4316-a0db-321ed3c53b60').innerHTML);                                        \n",
       "            // NOTE 1: id without #\n",
       "            // NOTE 2 - maybe there are more predictable ways, but this will work anyway\n",
       "            //        - id should be number\n",
       "            visualizerIdOverride = Math.trunc(Math.random() * 100000000000)\n",
       "            addVisualizerToPage(trace, 'jm579cd6a4-5ba2-4316-a0db-321ed3c53b60',{'embeddedMode' : false,\n",
       "                                             'visualizerIdOverride':visualizerIdOverride})  \n",
       "            \n",
       "            \n",
       "            // set overflow for pytuts - need to do in python as css \n",
       "            // does not allow parent selection\n",
       "            var pytuts = $('.pytutorVisualizer')\n",
       "            pytuts.closest('div.output_html.rendered_html.output_result')\n",
       "                    .css('overflow-x', 'visible')\n",
       "        \n",
       "            //pytuts.closest('div.output_html.rendered_html.output_result')\n",
       "            //      .css('background-color','red')                \n",
       "            \n",
       "        })()\n",
       "        </script>\n",
       "                \n",
       "                "
      ],
      "text/plain": [
       "<IPython.core.display.HTML object>"
      ]
     },
     "execution_count": 29,
     "metadata": {},
     "output_type": "execute_result"
    }
   ],
   "source": [
    "\n",
    "numeri_esterni = [1,2,3,4,5]\n",
    "\n",
    "def raddoppia(lista):\n",
    "    for i in range(len(lista)):\n",
    "        lista[i] = lista[i] * 2        \n",
    "    \n",
    "raddoppia(numeri_esterni)\n",
    "\n",
    "jupman.pytut()"
   ]
  },
  {
   "cell_type": "markdown",
   "metadata": {},
   "source": [
    "Nota che:\n",
    "\n",
    "- quando il frame di chiamata della funzione è creato, vediamo una freccia ai dati originali\n",
    "- la `lista_esterna` è davvero mutata, senza averla mai riassegnata (nemmeno fuori) \n",
    "- non abbiamo riassegnato `lista =` dentro il corpo della funzione, in accordo al [IV COMANDMENTO](https://en.softpython.org/commandments.html#IV-COMMANDMENT) che prescrive di non riassegnare i parametri\n",
    "- non abbiamo usato `return`, perchè il testo della funzione non ha menzionato di ritornare alcunchè\n",
    "- non ci siamo riferiti a `lista_esterna` dentro il corpo della funzione: farlo avrebbe sconfitto il proposito delle funzioni, che è isolarle il più possibile dal mondo esterno.\n",
    "\n",
    "In generale, nel caso di dati mutabili l'isolamento dei dati non è mai stretto, perchè otteniamo puntatori a dati che vivono fuori dal frame della funzione. Quando manipoliamo puntatori, la responsabilità di trattarli con particolare attenzione cade su di noi."
   ]
  },
  {
   "cell_type": "markdown",
   "metadata": {},
   "source": [
    "## Modificare parametri - domande\n",
    "\n",
    "Per ciascuna dei seguenti frammenti di codice, prova a indovinare il risultato che produce (o se da errore)"
   ]
  },
  {
   "cell_type": "markdown",
   "metadata": {},
   "source": [
    "1.  ```python\n",
    "    def zam(bal):\n",
    "        bal = 4\n",
    "    x = 8\n",
    "    zam(x)\n",
    "    print(x)\n",
    "    ```   \n",
    "1.  ```python\n",
    "    def zom(y):\n",
    "        y = 4\n",
    "    y = 8\n",
    "    zom(y)\n",
    "    print(y)\n",
    "    ```           \n",
    "1.  ```python\n",
    "    def per(la):\n",
    "        la.append('è')    \n",
    "    per(la)\n",
    "    print(la)\n",
    "    ```\n",
    "    \n",
    "1.  ```python\n",
    "    def zeb(lst):\n",
    "        lst.append('d')\n",
    "    la = ['a','b','c']\n",
    "    zeb(la)\n",
    "    print(la)\n",
    "    ```\n",
    "1.  ```python\n",
    "    def attenzione(la):\n",
    "        la = ['?','?']\n",
    "    lb = ['c','a','s','p','i','t','a']\n",
    "    attenzione(lb)\n",
    "    print(lb)\n",
    "    ```\n",
    "1.  ```python\n",
    "    def umpa(string):\n",
    "        string = \"lompa\"\n",
    "    word = \"gnappa\"\n",
    "    umpa(word)\n",
    "    print(word)\n",
    "    ```\n",
    "1.  ```python\n",
    "    def sport(diz):\n",
    "        diz['scarpe'] = 2\n",
    "    armadio = {'racchette':4,\n",
    "               'palline': 7}\n",
    "    sport(armadio)\n",
    "    print(armadio)\n",
    "    ```\n",
    "1.  ```python\n",
    "    def numma(lst):\n",
    "        lst + [4,5]\n",
    "    la = [1,2,3]    \n",
    "    print(numma(la))\n",
    "    print(la)\n",
    "    ```\n",
    "\n",
    "1.  ```python\n",
    "    def truc(lista):\n",
    "        return lista + [4,5]\n",
    "    lb = [1,2,3]    \n",
    "    print(truc(lb))\n",
    "    print(lb)\n",
    "    ```"
   ]
  },
  {
   "cell_type": "markdown",
   "metadata": {},
   "source": [
    "## Esercizi - Si cambia musica\n",
    "\n",
    "E' arrivato il momento di capire meglio cosa stiamo facendo quando traffichiamo con variabili e chiamate di funzioni. \n",
    "\n",
    "Abbiamo un `album` di canzoni impolverato che ci ha passato uno zio nostalgico, che chissà perchè da decenni si rifiuta di accendere la radio:"
   ]
  },
  {
   "cell_type": "code",
   "execution_count": 30,
   "metadata": {},
   "outputs": [],
   "source": [
    "album = [\n",
    "    \"Caterina Caselli - Cento giorni\",\n",
    "    \"Delirium - Jesahel\",\n",
    "    \"Jan Hammer - Crockett's Theme\",\n",
    "    \"Sonata Arctica - White Pearl, Black Oceans\",\n",
    "    \"Lucio Dalla - 4 marzo 1943.mp3\",\n",
    "    \"The Wellermen - Wellerman\",    \n",
    "    \"Manu Chao - Por el Suelo\",\n",
    "    \"Intillimani - El Pueblo Unido\"\n",
    "]"
   ]
  },
  {
   "cell_type": "markdown",
   "metadata": {},
   "source": [
    "Le canzoni sono riportate con il gruppo, un trattino `-` e infine il nome. Forti delle nostre nuove conoscenze, decidiamo di avvalerci delle moderne tecniche di sviluppo software per analizzare questi misteriosi reperti audio del passato. "
   ]
  },
  {
   "cell_type": "markdown",
   "metadata": {},
   "source": [
    "Di seguito troverai diversi esercizi che ti chiederanno di sviluppare delle funzioni: spesso realizzare qualcosa che sembra funzionare è relativamente facile, **la vera sfida è seguire fedelmente quanto richiesto dal testo della funzione**: poni particolare attenzione alle parole in maiuscolo, come STAMPA, MODIFICA, RITORNA, e agli output desiderati, cercando di capire a quale categoria appartengono le varie funzioni."
   ]
  },
  {
   "cell_type": "markdown",
   "metadata": {},
   "source": [
    "Gli esercizi vanno tutti risolti seguendo questo schema:\n",
    "\n",
    "```python\n",
    "album = ...\n",
    "\n",
    "def funz(canzoni):\n",
    "    # fai qualcosa con canzoni, NON con album\n",
    "    # ....    \n",
    "    \n",
    "funz(album)  # chiamate per testare, esterne al corpo della funzione\n",
    "```"
   ]
  },
  {
   "cell_type": "markdown",
   "metadata": {},
   "source": [
    "<div class=\"warning alert-warning\">\n",
    "\n",
    "**NON SCRIVERE NOMI DI VARIABILI ESTERNE DENTRO LA FUNZIONE**\n",
    "    \n",
    "Per esempio, **NON** scrivere `album`, in particolare **NON** riassegnarlo (niente `album =`)\n",
    "    \n",
    "Una funzione tipicamente va vista come un mondo isolato, che dovrebbe interagire con l'esterno SOLO attraverso i parametri passati. Scrivere esplicitamente `album` scavalca questo isolamento ed è garantito portare sfortuna.\n",
    "</div>    "
   ]
  },
  {
   "cell_type": "markdown",
   "metadata": {},
   "source": [
    "<div class=\"warning alert-warning\">\n",
    "\n",
    "**USA SEMPRE UN NOME DI PARAMETRO DIVERSO DALLE VARIABILI ESTERNE**\n",
    "    \n",
    "Per esempio, se i dati esterni si chiamano `album`, puoi chiamare il parametro `canzoni`\n",
    "</div>        "
   ]
  },
  {
   "cell_type": "markdown",
   "metadata": {},
   "source": [
    "\n",
    "### Esercizio - mostra\n",
    "\n",
    "Scrivi una funzione che data una lista di `canzoni`, le STAMPA con il gruppo giustificato a destra seguito da `:` e il nome della canzone\n",
    "\n",
    "- **SUGGERIMENTO**: per giustificare il testo, usa il metodo delle stringhe `.rjust(16)`\n",
    "\n",
    "```python\n",
    ">>> ris = mostra(album)  # stampa solo, implicitamente ritorna None\n",
    "```\n",
    "```\n",
    "Caterina Caselli: Cento giorni\n",
    "        Delirium: Jesahel\n",
    "      Jan Hammer: Crockett's Theme\n",
    "  Sonata Arctica: White Pearl, Black Oceans\n",
    "     Lucio Dalla: 4 marzo 1943.mp3\n",
    "   The Wellermen: Wellerman\n",
    "       Manu Chao: Por el Suelo\n",
    "     Intillimani: El Pueblo Unido\n",
    "```\n",
    "```python\n",
    ">>> print(ris)\n",
    "None\n",
    "```"
   ]
  },
  {
   "cell_type": "raw",
   "id": "d38e16eb",
   "metadata": {
    "format": "text/html"
   },
   "source": [
    "<a  class=\"jupman-sol jupman-sol-toggler\" \n",
    " onclick=\"jupman.toggleSolution(this);\" \n",
    " data-jupman-show=\"Mostra soluzione\" data-jupman-hide=\"Nascondi\">Mostra soluzione</a><div class=\"jupman-sol jupman-sol-code\" style=\"display:none\">  "
   ]
  },
  {
   "cell_type": "code",
   "execution_count": 31,
   "metadata": {},
   "outputs": [
    {
     "name": "stdout",
     "output_type": "stream",
     "text": [
      "Caterina Caselli: Cento giorni\n",
      "        Delirium: Jesahel\n",
      "      Jan Hammer: Crockett's Theme\n",
      "  Sonata Arctica: White Pearl, Black Oceans\n",
      "     Lucio Dalla: 4 marzo 1943.mp3\n",
      "   The Wellermen: Wellerman\n",
      "       Manu Chao: Por el Suelo\n",
      "     Intillimani: El Pueblo Unido\n"
     ]
    }
   ],
   "source": [
    "\n",
    "album = [\n",
    "    \"Caterina Caselli - Cento giorni\",\n",
    "    \"Delirium - Jesahel\",\n",
    "    \"Jan Hammer - Crockett's Theme\",\n",
    "    \"Sonata Arctica - White Pearl, Black Oceans\",\n",
    "    \"Lucio Dalla - 4 marzo 1943.mp3\",\n",
    "    \"The Wellermen - Wellerman\",    \n",
    "    \"Manu Chao - Por el Suelo\",\n",
    "    \"Intillimani - El Pueblo Unido\"\n",
    "]\n",
    "\n",
    "# scrivi qui\n",
    "\n",
    "#categoria: side effects\n",
    "\n",
    "def mostra(canzoni):\n",
    "    for canzone in canzoni:\n",
    "        parti = canzone.split(' - ')        \n",
    "        print(parti[0].rjust(16) + ':' + ' ' + parti[1])\n",
    "        \n",
    "mostra(album)        "
   ]
  },
  {
   "cell_type": "raw",
   "id": "dba1b1d3",
   "metadata": {
    "format": "text/html"
   },
   "source": [
    "</div>"
   ]
  },
  {
   "cell_type": "code",
   "execution_count": 31,
   "metadata": {},
   "outputs": [],
   "source": [
    "\n",
    "album = [\n",
    "    \"Caterina Caselli - Cento giorni\",\n",
    "    \"Delirium - Jesahel\",\n",
    "    \"Jan Hammer - Crockett's Theme\",\n",
    "    \"Sonata Arctica - White Pearl, Black Oceans\",\n",
    "    \"Lucio Dalla - 4 marzo 1943.mp3\",\n",
    "    \"The Wellermen - Wellerman\",    \n",
    "    \"Manu Chao - Por el Suelo\",\n",
    "    \"Intillimani - El Pueblo Unido\"\n",
    "]\n",
    "\n",
    "# scrivi qui\n",
    "\n"
   ]
  },
  {
   "cell_type": "markdown",
   "metadata": {},
   "source": [
    "### Esercizio - autori\n",
    "\n",
    "Scrivi una funzione che data una lista di `canzoni` RITORNA una NUOVA lista con solo gli autori\n",
    "\n",
    "```python\n",
    ">>> autori(album)\n",
    "['Caterina Caselli', 'Delirium', 'Jan Hammer', 'Sonata Arctica', 'Lucio Dalla', 'The Wellermen', 'Manu Chao', 'Intillimani']\n",
    "\n",
    ">>> album  \n",
    "['Caterina Caselli - Cento giorni',\n",
    " 'Delirium - Jesahel',\n",
    " \"Jan Hammer - Crockett's Theme\",\n",
    " 'Sonata Arctica - White Pearl, Black Oceans',\n",
    " \"Lucio Dalla - 4 marzo 1943.mp3\",\n",
    " 'The Wellermen - Wellerman',\n",
    " 'Manu Chao - Por el Suelo',\n",
    " 'Intillimani - El Pueblo Unido']\n",
    "```"
   ]
  },
  {
   "cell_type": "raw",
   "id": "23d30e5a",
   "metadata": {
    "format": "text/html"
   },
   "source": [
    "<a  class=\"jupman-sol jupman-sol-toggler\" \n",
    " onclick=\"jupman.toggleSolution(this);\" \n",
    " data-jupman-show=\"Mostra soluzione\" data-jupman-hide=\"Nascondi\">Mostra soluzione</a><div class=\"jupman-sol jupman-sol-code\" style=\"display:none\">  "
   ]
  },
  {
   "cell_type": "code",
   "execution_count": 32,
   "metadata": {},
   "outputs": [
    {
     "name": "stdout",
     "output_type": "stream",
     "text": [
      "['Caterina Caselli', 'Delirium', 'Jan Hammer', 'Sonata Arctica', 'Lucio Dalla', 'The Wellermen', 'Manu Chao', 'Intillimani']\n"
     ]
    },
    {
     "data": {
      "text/plain": [
       "['Caterina Caselli - Cento giorni',\n",
       " 'Delirium - Jesahel',\n",
       " \"Jan Hammer - Crockett's Theme\",\n",
       " 'Sonata Arctica - White Pearl, Black Oceans',\n",
       " 'Lucio Dalla - 4 marzo 1943.mp3',\n",
       " 'The Wellermen - Wellerman',\n",
       " 'Manu Chao - Por el Suelo',\n",
       " 'Intillimani - El Pueblo Unido']"
      ]
     },
     "execution_count": 32,
     "metadata": {},
     "output_type": "execute_result"
    }
   ],
   "source": [
    "\n",
    "album = [\n",
    "    \"Caterina Caselli - Cento giorni\",\n",
    "    \"Delirium - Jesahel\",\n",
    "    \"Jan Hammer - Crockett's Theme\",\n",
    "    \"Sonata Arctica - White Pearl, Black Oceans\",\n",
    "    \"Lucio Dalla - 4 marzo 1943.mp3\",\n",
    "    \"The Wellermen - Wellerman\",    \n",
    "    \"Manu Chao - Por el Suelo\",\n",
    "    \"Intillimani - El Pueblo Unido\"\n",
    "]\n",
    "\n",
    "# scrivi qui   \n",
    "\n",
    "#categoria: RITORNA  \n",
    "\n",
    "#NOTA: Non ci sono comandi print nel corpo della funzione !\n",
    "\n",
    "def autori(canzoni):\n",
    "    ret = []\n",
    "    for canzone in canzoni:\n",
    "        ret.append(canzone.split(' - ')[0])\n",
    "    return ret\n",
    "\n",
    "print(autori(album))\n",
    "album"
   ]
  },
  {
   "cell_type": "raw",
   "id": "64dc4368",
   "metadata": {
    "format": "text/html"
   },
   "source": [
    "</div>"
   ]
  },
  {
   "cell_type": "code",
   "execution_count": 32,
   "metadata": {},
   "outputs": [],
   "source": [
    "\n",
    "album = [\n",
    "    \"Caterina Caselli - Cento giorni\",\n",
    "    \"Delirium - Jesahel\",\n",
    "    \"Jan Hammer - Crockett's Theme\",\n",
    "    \"Sonata Arctica - White Pearl, Black Oceans\",\n",
    "    \"Lucio Dalla - 4 marzo 1943.mp3\",\n",
    "    \"The Wellermen - Wellerman\",    \n",
    "    \"Manu Chao - Por el Suelo\",\n",
    "    \"Intillimani - El Pueblo Unido\"\n",
    "]\n",
    "\n",
    "# scrivi qui   \n",
    "\n"
   ]
  },
  {
   "cell_type": "markdown",
   "metadata": {},
   "source": [
    "### Esercizio - registra\n",
    "\n",
    "Scrivi una funzione che date due liste `canzoniA` e `canzoniB`, MODIFICA `canzoniA` sovrascrivendola con il contenuto di `canzoniB`. Se `canzoniB` ha meno elementi di `canzoniA`, riempi gli spazi restanti con `None`.\n",
    "\n",
    "- supponi che `canzoniB` abbia al massimo lo stesso numero di canzoni di `canzoniA`\n",
    "- **NON** riassegnare `album` (niente `album =` )\n",
    "\n",
    "```python\n",
    "# non ritorna nulla !\n",
    ">>> registra(album, [\"Toto Cotugno - L'Italiano vero\", \"Mia Martini - Minuetto\", \"Al Bano-NEL SOLE\"]) \n",
    "\n",
    ">>> album   # il parametro è stato modificato\n",
    "[\"Toto Cotugno - L'Italiano vero\",\n",
    " \"Mia Martini - Minuetto\",\n",
    " \"Al Bano - Nel sole\",\n",
    " None,\n",
    " None,\n",
    " None,\n",
    " None,\n",
    " None]\n",
    "```"
   ]
  },
  {
   "cell_type": "raw",
   "id": "e7a56b14",
   "metadata": {
    "format": "text/html"
   },
   "source": [
    "<a  class=\"jupman-sol jupman-sol-toggler\" \n",
    " onclick=\"jupman.toggleSolution(this);\" \n",
    " data-jupman-show=\"Mostra soluzione\" data-jupman-hide=\"Nascondi\">Mostra soluzione</a><div class=\"jupman-sol jupman-sol-code\" style=\"display:none\">  "
   ]
  },
  {
   "cell_type": "code",
   "execution_count": 33,
   "metadata": {},
   "outputs": [
    {
     "data": {
      "text/plain": [
       "[\"Toto Cotugno - L'Italiano vero\",\n",
       " 'Mia Martini - Minuetto',\n",
       " 'Al Bano- Nel sole',\n",
       " None,\n",
       " None,\n",
       " None,\n",
       " None,\n",
       " None]"
      ]
     },
     "execution_count": 33,
     "metadata": {},
     "output_type": "execute_result"
    }
   ],
   "source": [
    "\n",
    "album = [\n",
    "    \"Caterina Caselli - Cento giorni\",\n",
    "    \"Delirium - Jesahel\",\n",
    "    \"Jan Hammer - Crockett's Theme\",\n",
    "    \"Sonata Arctica - White Pearl, Black Oceans\",\n",
    "    \"Lucio Dalla - 4 marzo 1943.mp3\",\n",
    "    \"The Wellermen - Wellerman\",    \n",
    "    \"Manu Chao - Por el Suelo\",\n",
    "    \"Intillimani - El Pueblo Unido\"\n",
    "]\n",
    "\n",
    "# scrivi qui\n",
    "\n",
    "#categoria: MODIFICA\n",
    "\n",
    "def registra(canzoniA, canzoniB):\n",
    "    \n",
    "    for i in range(len(canzoniB)):\n",
    "        canzoniA[i] = canzoniB[i]\n",
    "    i += 1\n",
    "    while i < len(canzoniA):\n",
    "        canzoniA[i] = None\n",
    "        i += 1\n",
    "\n",
    "registra(album, [\"Toto Cotugno - L'Italiano vero\", \"Mia Martini - Minuetto\", \"Al Bano- Nel sole\"])\n",
    "album"
   ]
  },
  {
   "cell_type": "raw",
   "id": "7608d0d9",
   "metadata": {
    "format": "text/html"
   },
   "source": [
    "</div>"
   ]
  },
  {
   "cell_type": "code",
   "execution_count": 33,
   "metadata": {},
   "outputs": [],
   "source": [
    "\n",
    "album = [\n",
    "    \"Caterina Caselli - Cento giorni\",\n",
    "    \"Delirium - Jesahel\",\n",
    "    \"Jan Hammer - Crockett's Theme\",\n",
    "    \"Sonata Arctica - White Pearl, Black Oceans\",\n",
    "    \"Lucio Dalla - 4 marzo 1943.mp3\",\n",
    "    \"The Wellermen - Wellerman\",    \n",
    "    \"Manu Chao - Por el Suelo\",\n",
    "    \"Intillimani - El Pueblo Unido\"\n",
    "]\n",
    "\n",
    "# scrivi qui\n",
    "\n"
   ]
  },
  {
   "cell_type": "markdown",
   "metadata": {},
   "source": [
    "### Esercizio - grande\n",
    "\n",
    "Scrivi una funzione che data una lista di `canzoni` MODIFICA la lista ponendo tutti i caratteri in maiuscolo, e poi la RITORNA\n",
    "\n",
    "* **NON** riassegnare `album` (niente `album =`)\n",
    "\n",
    "Esempio:\n",
    "\n",
    "```python\n",
    ">>> grande(album)   # ritorna \n",
    "['CATERINA CASELLI - CENTO GIORNI',\n",
    " 'DELIRIUM - JESAHEL',\n",
    " \"JAN HAMMER - CROCKETT'S THEME\",\n",
    " 'SONATA ARCTICA - WHITE PEARL, BLACK OCEANS',\n",
    " 'LUCIO DALLA - 4 MARZO 1943.MP3',\n",
    " 'THE WELLERMEN - WELLERMAN',\n",
    " 'MANU CHAO - POR EL SUELO',\n",
    " 'INTILLIMANI - EL PUEBLO UNIDO']\n",
    "\n",
    ">>> album          # il parametro è stato modificato\n",
    "['CATERINA CASELLI - CENTO GIORNI',\n",
    " 'DELIRIUM - JESAHEL',\n",
    " \"JAN HAMMER - CROCKETT'S THEME\",\n",
    " 'SONATA ARCTICA - WHITE PEARL, BLACK OCEANS',\n",
    " 'LUCIO DALLA - 4 MARZO 1943.MP3',\n",
    " 'THE WELLERMEN - WELLERMAN',\n",
    " 'MANU CHAO - POR EL SUELO',\n",
    " 'INTILLIMANI - EL PUEBLO UNIDO']\n",
    "```"
   ]
  },
  {
   "cell_type": "raw",
   "id": "77df5a7c",
   "metadata": {
    "format": "text/html"
   },
   "source": [
    "<a  class=\"jupman-sol jupman-sol-toggler\" \n",
    " onclick=\"jupman.toggleSolution(this);\" \n",
    " data-jupman-show=\"Mostra soluzione\" data-jupman-hide=\"Nascondi\">Mostra soluzione</a><div class=\"jupman-sol jupman-sol-code\" style=\"display:none\">  "
   ]
  },
  {
   "cell_type": "code",
   "execution_count": 34,
   "metadata": {},
   "outputs": [
    {
     "name": "stdout",
     "output_type": "stream",
     "text": [
      "['CATERINA CASELLI - CENTO GIORNI', 'DELIRIUM - JESAHEL', \"JAN HAMMER - CROCKETT'S THEME\", 'SONATA ARCTICA - WHITE PEARL, BLACK OCEANS', 'LUCIO DALLA - 4 MARZO 1943.MP3', 'THE WELLERMEN - WELLERMAN', 'MANU CHAO - POR EL SUELO', 'INTILLIMANI - EL PUEBLO UNIDO']\n",
      "\n"
     ]
    },
    {
     "data": {
      "text/plain": [
       "['CATERINA CASELLI - CENTO GIORNI',\n",
       " 'DELIRIUM - JESAHEL',\n",
       " \"JAN HAMMER - CROCKETT'S THEME\",\n",
       " 'SONATA ARCTICA - WHITE PEARL, BLACK OCEANS',\n",
       " 'LUCIO DALLA - 4 MARZO 1943.MP3',\n",
       " 'THE WELLERMEN - WELLERMAN',\n",
       " 'MANU CHAO - POR EL SUELO',\n",
       " 'INTILLIMANI - EL PUEBLO UNIDO']"
      ]
     },
     "execution_count": 34,
     "metadata": {},
     "output_type": "execute_result"
    }
   ],
   "source": [
    "\n",
    "album = [\n",
    "    \"Caterina Caselli - Cento giorni\",\n",
    "    \"Delirium - Jesahel\",\n",
    "    \"Jan Hammer - Crockett's Theme\",\n",
    "    \"Sonata Arctica - White Pearl, Black Oceans\",\n",
    "    \"Lucio Dalla - 4 marzo 1943.mp3\",\n",
    "    \"The Wellermen - Wellerman\",    \n",
    "    \"Manu Chao - Por el Suelo\",\n",
    "    \"Intillimani - El Pueblo Unido\"\n",
    "]\n",
    "\n",
    "# scrivi qui\n",
    "\n",
    "#categoria: MODIFICA e RITORNA\n",
    "\n",
    "def grande(canzoni):    \n",
    "    for i in range(len(canzoni)):\n",
    "        canzoni[i] = canzoni[i].upper()\n",
    "    return canzoni\n",
    "\n",
    "print(grande(album))\n",
    "print()\n",
    "album"
   ]
  },
  {
   "cell_type": "raw",
   "id": "792b5f2b",
   "metadata": {
    "format": "text/html"
   },
   "source": [
    "</div>"
   ]
  },
  {
   "cell_type": "code",
   "execution_count": 34,
   "metadata": {},
   "outputs": [],
   "source": [
    "\n",
    "album = [\n",
    "    \"Caterina Caselli - Cento giorni\",\n",
    "    \"Delirium - Jesahel\",\n",
    "    \"Jan Hammer - Crockett's Theme\",\n",
    "    \"Sonata Arctica - White Pearl, Black Oceans\",\n",
    "    \"Lucio Dalla - 4 marzo 1943.mp3\",\n",
    "    \"The Wellermen - Wellerman\",    \n",
    "    \"Manu Chao - Por el Suelo\",\n",
    "    \"Intillimani - El Pueblo Unido\"\n",
    "]\n",
    "\n",
    "# scrivi qui\n",
    "\n"
   ]
  },
  {
   "cell_type": "markdown",
   "metadata": {},
   "source": [
    "### Esercizio - accorcia\n",
    "\n",
    "Scrivi una funzione che data una lista di `canzoni` e un numero `n`, MODIFICA `canzoni` accorciandola affinchè abbia solo `n` canzoni, e RITORNA una NUOVA lista con gli elementi rimossi\n",
    "\n",
    "- se si richiede di accorciare ad un numero di canzoni superiore al contenuto dell'album, ritorna lista vuota senza modificare l'album\n",
    "- **USA** un nome di parametro diverso da `album`\n",
    "- **NON** riassegnare `album` (niente `album =`)\n",
    "\n",
    "Esempio:\n",
    "\n",
    "```python\n",
    ">>> accorcia(album, 3)  # ritorna \n",
    "['Sonata Arctica - White Pearl, Black Oceans', \n",
    " 'Lucio Dalla - 4 marzo 1943.mp3', \n",
    " 'The Wellermen - Wellerman', \n",
    " 'Manu Chao - Por el Suelo', \n",
    " 'Intillimani - El Pueblo Unido']\n",
    ">>> album               # il parametro è stato modificato\n",
    "['Caterina Caselli - Cento giorni', \n",
    " 'Delirium - Jesahel', \n",
    " \"Jan Hammer - Crockett's Theme\"] \n",
    ">>> accorcia(album, 7)\n",
    "[]\n",
    ">>> album\n",
    "['Caterina Caselli - Cento giorni', \n",
    " 'Delirium - Jesahel', \n",
    " \"Jan Hammer - Crockett's Theme\"]\n",
    "```"
   ]
  },
  {
   "cell_type": "raw",
   "id": "ce96ca13",
   "metadata": {
    "format": "text/html"
   },
   "source": [
    "<a  class=\"jupman-sol jupman-sol-toggler\" \n",
    " onclick=\"jupman.toggleSolution(this);\" \n",
    " data-jupman-show=\"Mostra soluzione\" data-jupman-hide=\"Nascondi\">Mostra soluzione</a><div class=\"jupman-sol jupman-sol-code\" style=\"display:none\">  "
   ]
  },
  {
   "cell_type": "code",
   "execution_count": 35,
   "metadata": {},
   "outputs": [
    {
     "name": "stdout",
     "output_type": "stream",
     "text": [
      "ritornato:\n",
      " ['Sonata Arctica - White Pearl, Black Oceans', 'Lucio Dalla - 4 marzo 1943.mp3', 'The Wellermen - Wellerman', 'Manu Chao - Por el Suelo', 'Intillimani - El Pueblo Unido'] \n",
      "\n",
      "l'album è:\n",
      " ['Caterina Caselli - Cento giorni', 'Delirium - Jesahel', \"Jan Hammer - Crockett's Theme\"] \n",
      "\n",
      "ritornato:\n",
      " [] \n",
      "\n",
      "l'album è:\n",
      " ['Caterina Caselli - Cento giorni', 'Delirium - Jesahel', \"Jan Hammer - Crockett's Theme\"] \n",
      "\n"
     ]
    }
   ],
   "source": [
    "\n",
    "album = [\n",
    "    \"Caterina Caselli - Cento giorni\",\n",
    "    \"Delirium - Jesahel\",\n",
    "    \"Jan Hammer - Crockett's Theme\",\n",
    "    \"Sonata Arctica - White Pearl, Black Oceans\",\n",
    "    \"Lucio Dalla - 4 marzo 1943.mp3\",\n",
    "    \"The Wellermen - Wellerman\",    \n",
    "    \"Manu Chao - Por el Suelo\",\n",
    "    \"Intillimani - El Pueblo Unido\"\n",
    "]\n",
    "\n",
    "# scrivi qui\n",
    "\n",
    "#categoria: MODIFICA e RITORNA UNA PARTE\n",
    "\n",
    "def accorcia(canzoni, n):\n",
    "    ret = []\n",
    "    if n >= len(canzoni):\n",
    "        return ret\n",
    "    for i in range(len(canzoni) - n):\n",
    "        ret.append(canzoni.pop())\n",
    "    ret.reverse()\n",
    "    return ret\n",
    "\n",
    "ris1 = accorcia(album, 3)\n",
    "print('ritornato:\\n', ris1,'\\n')\n",
    "print(\"l'album è:\\n\", album,'\\n')\n",
    "ris2 = accorcia(album, 5)\n",
    "print('ritornato:\\n', ris2, '\\n')\n",
    "print(\"l'album è:\\n\", album, '\\n')"
   ]
  },
  {
   "cell_type": "raw",
   "id": "ff50939f",
   "metadata": {
    "format": "text/html"
   },
   "source": [
    "</div>"
   ]
  },
  {
   "cell_type": "code",
   "execution_count": 35,
   "metadata": {},
   "outputs": [],
   "source": [
    "\n",
    "album = [\n",
    "    \"Caterina Caselli - Cento giorni\",\n",
    "    \"Delirium - Jesahel\",\n",
    "    \"Jan Hammer - Crockett's Theme\",\n",
    "    \"Sonata Arctica - White Pearl, Black Oceans\",\n",
    "    \"Lucio Dalla - 4 marzo 1943.mp3\",\n",
    "    \"The Wellermen - Wellerman\",    \n",
    "    \"Manu Chao - Por el Suelo\",\n",
    "    \"Intillimani - El Pueblo Unido\"\n",
    "]\n",
    "\n",
    "# scrivi qui\n",
    "\n"
   ]
  },
  {
   "cell_type": "markdown",
   "metadata": {},
   "source": [
    "## Funzioni lambda\n",
    "\n",
    "Le funzioni lambda sono funzioni che\n",
    "\n",
    "* non hanno un nome\n",
    "* sono definite su una sola linea, tipicamente nel posto dove sono necessarie\n",
    "* il loro corpo è un espressione, quindi non necessitano della parola chiave `return`\n",
    "\n",
    "Proviamo a creare una funzione lambda che prende un numero `x` e lo raddoppia:"
   ]
  },
  {
   "cell_type": "code",
   "execution_count": 36,
   "metadata": {},
   "outputs": [
    {
     "data": {
      "text/plain": [
       "<function __main__.<lambda>(x)>"
      ]
     },
     "execution_count": 36,
     "metadata": {},
     "output_type": "execute_result"
    }
   ],
   "source": [
    "lambda x: x*2"
   ]
  },
  {
   "cell_type": "markdown",
   "metadata": {},
   "source": [
    "Come vedi, Python ha creato un oggetto funzione, che viene mostrato da Jupyter. Sfortunatamente, a questo punto l'oggetto funzione viene perso, perchè questo è il destino di qualcunque oggetto creato da una espressione che non sia assegnato ad una variabile.\n",
    "\n",
    "Per essere in grado di chiamare la funzione, sarà quindi conveniente assegnare tale oggetto funzione ad una variabile, diciamo `f`:"
   ]
  },
  {
   "cell_type": "code",
   "execution_count": 37,
   "metadata": {},
   "outputs": [],
   "source": [
    "f = lambda x: x*2"
   ]
  },
  {
   "cell_type": "code",
   "execution_count": 38,
   "metadata": {},
   "outputs": [
    {
     "data": {
      "text/plain": [
       "<function __main__.<lambda>(x)>"
      ]
     },
     "execution_count": 38,
     "metadata": {},
     "output_type": "execute_result"
    }
   ],
   "source": [
    "f"
   ]
  },
  {
   "cell_type": "markdown",
   "metadata": {},
   "source": [
    "Ottimo, adesso abbiamo una funzione che possiamo chiamare quante volte vogliamo:"
   ]
  },
  {
   "cell_type": "code",
   "execution_count": 39,
   "metadata": {},
   "outputs": [
    {
     "data": {
      "text/plain": [
       "10"
      ]
     },
     "execution_count": 39,
     "metadata": {},
     "output_type": "execute_result"
    }
   ],
   "source": [
    "f(5)"
   ]
  },
  {
   "cell_type": "code",
   "execution_count": 40,
   "metadata": {},
   "outputs": [
    {
     "data": {
      "text/plain": [
       "14"
      ]
     },
     "execution_count": 40,
     "metadata": {},
     "output_type": "execute_result"
    }
   ],
   "source": [
    "f(7)"
   ]
  },
  {
   "cell_type": "markdown",
   "metadata": {},
   "source": [
    "Di fatto, scrivere"
   ]
  },
  {
   "cell_type": "code",
   "execution_count": 41,
   "metadata": {},
   "outputs": [],
   "source": [
    "def f(x):\n",
    "    return x*2"
   ]
  },
  {
   "cell_type": "markdown",
   "metadata": {},
   "source": [
    "oppure"
   ]
  },
  {
   "cell_type": "code",
   "execution_count": 42,
   "metadata": {},
   "outputs": [],
   "source": [
    "f = lambda x: x*2"
   ]
  },
  {
   "cell_type": "markdown",
   "metadata": {},
   "source": [
    "è completamente equivalente, la differenza principale è che con `def` possiamo scrivere funzioni con corpi su più linee. Le lambda possono apparire limitanti, perciò perchè usarle? A volte consentono di ottenere codice molto conciso. Per esempio, immagina di avere una lista di tuple contenenti animali e la loro speranza di vita attesa:"
   ]
  },
  {
   "cell_type": "code",
   "execution_count": 43,
   "metadata": {},
   "outputs": [],
   "source": [
    "animali = [('cane', 12), ('gatto', 14), ('pellicano', 30), ('acquila', 25), ('scoiattolo', 6)]"
   ]
  },
  {
   "cell_type": "markdown",
   "metadata": {},
   "source": [
    "Se vuoi ordinarle per gli anni, puoi provare il metodo `.sort` ma non funzionerà:"
   ]
  },
  {
   "cell_type": "code",
   "execution_count": 44,
   "metadata": {},
   "outputs": [],
   "source": [
    "animali.sort()"
   ]
  },
  {
   "cell_type": "code",
   "execution_count": 45,
   "metadata": {},
   "outputs": [
    {
     "data": {
      "text/plain": [
       "[('acquila', 25),\n",
       " ('cane', 12),\n",
       " ('gatto', 14),\n",
       " ('pellicano', 30),\n",
       " ('scoiattolo', 6)]"
      ]
     },
     "execution_count": 45,
     "metadata": {},
     "output_type": "execute_result"
    }
   ],
   "source": [
    "animali"
   ]
  },
  {
   "cell_type": "markdown",
   "metadata": {},
   "source": [
    "chiaramente non abbiamo ottenuto il risultato sperato. Per avere l'ordinamento giusto, dobbiamo dire a Python che al momento di considerare una tupla per fare una comparazione, deve estrarre il numero dell'aspettativa di vita. Per farlo, Python ci fornisce il parametro `key`, a cui dobbiamo passare una funzione che prende come argomento un elemento della sequenza in considerazione (in questo caso una tupla) e ritorna una trasformazione dello stesso che Python userà per effettuare la comparazione - in questo caso vogliamo gli anni che stanno alla posizione 1-esima della tupla:"
   ]
  },
  {
   "cell_type": "code",
   "execution_count": 46,
   "metadata": {},
   "outputs": [],
   "source": [
    "animali.sort(key=lambda t: t[1])"
   ]
  },
  {
   "cell_type": "code",
   "execution_count": 47,
   "metadata": {},
   "outputs": [
    {
     "data": {
      "text/plain": [
       "[('scoiattolo', 6),\n",
       " ('cane', 12),\n",
       " ('gatto', 14),\n",
       " ('acquila', 25),\n",
       " ('pellicano', 30)]"
      ]
     },
     "execution_count": 47,
     "metadata": {},
     "output_type": "execute_result"
    }
   ],
   "source": [
    "animali"
   ]
  },
  {
   "cell_type": "markdown",
   "metadata": {},
   "source": [
    "Adesso abbiamo ottenuto l'ordinamento desiderato. Avremmo potuto scrivere la stessa cosa così:"
   ]
  },
  {
   "cell_type": "code",
   "execution_count": 48,
   "metadata": {},
   "outputs": [
    {
     "data": {
      "text/plain": [
       "[('scoiattolo', 6),\n",
       " ('cane', 12),\n",
       " ('gatto', 14),\n",
       " ('acquila', 25),\n",
       " ('pellicano', 30)]"
      ]
     },
     "execution_count": 48,
     "metadata": {},
     "output_type": "execute_result"
    }
   ],
   "source": [
    "def mia_f(t):\n",
    "    return t[1]\n",
    "\n",
    "animali.sort(key=mia_f)\n",
    "animali"
   ]
  },
  {
   "cell_type": "markdown",
   "metadata": {},
   "source": [
    "ma le lambda chiaramente ci risparmiano caratteri da scrivere.\n",
    "\n",
    "Nota che le lambda possono prendere più parametri:"
   ]
  },
  {
   "cell_type": "code",
   "execution_count": 49,
   "metadata": {},
   "outputs": [
    {
     "data": {
      "text/plain": [
       "10"
      ]
     },
     "execution_count": 49,
     "metadata": {},
     "output_type": "execute_result"
    }
   ],
   "source": [
    "mia_moltip = lambda x,y: x * y\n",
    "\n",
    "mia_moltip(2,5)"
   ]
  },
  {
   "cell_type": "markdown",
   "metadata": {},
   "source": [
    "### Esercizio - applica_bordi\n",
    "\n",
    "✪ Scrivi una funzione che prende come parametri una funzione `f` e una sequenza, e RITORNA una tupla con due elementi:\n",
    "\n",
    "\n",
    "- il primo elemento è ottenuto applicando `f` al primo elemento della sequenza\n",
    "- il secondo elemento è ottenuto applicando `f` all'ultimo elemento della sequenza\n",
    "\n",
    "Esempio:\n",
    "\n",
    "```python\n",
    ">>> applica_bordi(lambda x: x.upper(), ['quel', 'fiume', 'è', 'in', 'piena'])\n",
    "('QUEL', 'PIENA')\n",
    ">>> applica_bordi(lambda x: x[0], ['quel', 'fiume', 'è', 'in', 'piena'])\n",
    "('q', 'p')\n",
    "```"
   ]
  },
  {
   "cell_type": "raw",
   "id": "c05a690d",
   "metadata": {
    "format": "text/html"
   },
   "source": [
    "<a  class=\"jupman-sol jupman-sol-toggler\" \n",
    " onclick=\"jupman.toggleSolution(this);\" \n",
    " data-jupman-show=\"Mostra soluzione\" data-jupman-hide=\"Nascondi\">Mostra soluzione</a><div class=\"jupman-sol jupman-sol-code\" style=\"display:none\">  "
   ]
  },
  {
   "cell_type": "code",
   "execution_count": 50,
   "metadata": {},
   "outputs": [],
   "source": [
    "# scrivi qui\n",
    "\n",
    "def applica_bordi(f, seq):\n",
    "    return ( f(seq[0]),   f(seq[-1]) )"
   ]
  },
  {
   "cell_type": "raw",
   "id": "bf93f4d0",
   "metadata": {
    "format": "text/html"
   },
   "source": [
    "</div>"
   ]
  },
  {
   "cell_type": "code",
   "execution_count": 50,
   "metadata": {},
   "outputs": [],
   "source": [
    "# scrivi qui\n",
    "\n"
   ]
  },
  {
   "cell_type": "code",
   "execution_count": 51,
   "metadata": {},
   "outputs": [
    {
     "name": "stdout",
     "output_type": "stream",
     "text": [
      "('QUEL', 'PIENA')\n",
      "('q', 'p')\n"
     ]
    }
   ],
   "source": [
    "print(applica_bordi(lambda x: x.upper(), ['quel', 'fiume', 'è', 'in', 'piena']))\n",
    "print(applica_bordi(lambda x: x[0], ['quel', 'fiume', 'è', 'in', 'piena']))"
   ]
  },
  {
   "cell_type": "markdown",
   "metadata": {},
   "source": [
    "### Esercizio - processa\n",
    "\n",
    "✪✪ Scrivi una espressione lambda da passare come primo parametro della funzione definita qua sotto, in modo che una chiamata a `processa` generi una lista come mostrato qui:\n",
    "\n",
    "```python\n",
    ">>> f = METTI_QUI_LA_TUA_FUNZIONE_LAMBDA\n",
    ">>> processa(f, ['d','b','a','c','e','f'], ['q','s','p','t','r','n'])\n",
    "['An', 'Bp', 'Cq', 'Dr', 'Es', 'Ft']\n",
    "```\n",
    "\n",
    "**NOTA**: `processa` è già definita, non cambiarla"
   ]
  },
  {
   "cell_type": "raw",
   "id": "c59be0a8",
   "metadata": {
    "format": "text/html"
   },
   "source": [
    "<a  class=\"jupman-sol jupman-sol-toggler\" \n",
    " onclick=\"jupman.toggleSolution(this);\" \n",
    " data-jupman-show=\"Mostra soluzione\" data-jupman-hide=\"Nascondi\">Mostra soluzione</a><div class=\"jupman-sol jupman-sol-code\" style=\"display:none\">  "
   ]
  },
  {
   "cell_type": "code",
   "execution_count": 52,
   "metadata": {},
   "outputs": [],
   "source": [
    "def processa(f, lista, listb):\n",
    "    orda = list(sorted(lista))\n",
    "    ordb = list(sorted(listb))\n",
    "    ret = []\n",
    "    for i in range(len(lista)):\n",
    "        ret.append(f(orda[i], ordb[i]))\n",
    "    return ret    \n",
    "\n",
    "# scrivi qui la f = lambda ...\n",
    "f = lambda x,y: x.upper() + y"
   ]
  },
  {
   "cell_type": "raw",
   "id": "dbb6c2f0",
   "metadata": {
    "format": "text/html"
   },
   "source": [
    "</div>"
   ]
  },
  {
   "cell_type": "code",
   "execution_count": 52,
   "metadata": {},
   "outputs": [],
   "source": [
    "def processa(f, lista, listb):\n",
    "    orda = list(sorted(lista))\n",
    "    ordb = list(sorted(listb))\n",
    "    ret = []\n",
    "    for i in range(len(lista)):\n",
    "        ret.append(f(orda[i], ordb[i]))\n",
    "    return ret    \n",
    "\n",
    "# scrivi qui la f = lambda ...\n",
    "\n"
   ]
  },
  {
   "cell_type": "code",
   "execution_count": 53,
   "metadata": {},
   "outputs": [
    {
     "data": {
      "text/plain": [
       "['An', 'Bp', 'Cq', 'Dr', 'Es', 'Ft']"
      ]
     },
     "execution_count": 53,
     "metadata": {},
     "output_type": "execute_result"
    }
   ],
   "source": [
    "processa(f, ['d','b','a','c','e','f'], ['q','s','p','t','r','n'])"
   ]
  },
  {
   "cell_type": "markdown",
   "metadata": {},
   "source": [
    "## Continua\n",
    "\n",
    "Prosegui con [gestione errori e testing](https://it.softpython.org/functions/fun2-errors-and-testing-sol.html)"
   ]
  }
 ],
 "metadata": {
  "celltoolbar": "Edit Metadata",
  "kernelspec": {
   "display_name": "Python 3 (ipykernel)",
   "language": "python",
   "name": "python3"
  },
  "language_info": {
   "codemirror_mode": {
    "name": "ipython",
    "version": 3
   },
   "file_extension": ".py",
   "mimetype": "text/x-python",
   "name": "python",
   "nbconvert_exporter": "python",
   "pygments_lexer": "ipython3",
   "version": "3.7.10"
  },
  "toc": {
   "base_numbering": 1,
   "nav_menu": {
    "height": "11.5px",
    "width": "344.5px"
   },
   "number_sections": false,
   "sideBar": true,
   "skip_h1_title": false,
   "title_cell": "Table of Contents",
   "title_sidebar": "Contents",
   "toc_cell": false,
   "toc_position": {
    "height": "612.25px",
    "left": "24px",
    "top": "110.383px",
    "width": "205.7px"
   },
   "toc_section_display": true,
   "toc_window_display": true
  }
 },
 "nbformat": 4,
 "nbformat_minor": 2
}

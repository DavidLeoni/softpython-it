{
 "cells": [
  {
   "cell_type": "code",
   "execution_count": 83,
   "metadata": {},
   "outputs": [],
   "source": [
    "# Ricordati di eseguire questa cella\n",
    "import sys;\n",
    "sys.path.append('../'); \n",
    "import jupman;"
   ]
  },
  {
   "cell_type": "markdown",
   "metadata": {},
   "source": [
    "# Funzioni 1 - introduzione\n",
    "\n",
    "## [Scarica zip esercizi](../_static/generated/functions.zip)\n",
    "\n",
    "[Naviga file online](https://github.com/DavidLeoni/softpython-it/tree/master/functions)\n",
    "\n",
    "\n",
    "Una funzione è del codice che prende in input dei parametri e li usa per produrre o riportare qualche risultato."
   ]
  },
  {
   "cell_type": "markdown",
   "metadata": {},
   "source": [
    "## Cosa fare\n",
    "\n",
    "- scompatta lo zip in una cartella, dovresti ottenere qualcosa del genere: \n",
    "\n",
    "```\n",
    "functions\n",
    "    fun1-intro.ipynb\n",
    "    fun1-intro-sol.ipynb   \n",
    "    fun2-errors-and-testing.ipynb\n",
    "    fun2-errors-and-testing-sol.ipynb\n",
    "    fun3-strings.ipynb\n",
    "    fun3-strings-sol.ipynb\n",
    "    fun4-lists.ipynb\n",
    "    fun4-lists-sol.ipynb\n",
    "    fun5-tuples.ipynb\n",
    "    fun5-tuples-sol.ipynb\n",
    "    fun6-sets.ipynb\n",
    "    fun6-sets-sol.ipynb\n",
    "    fun7-dictionaries.ipynb\n",
    "    fun7-dictionaries-sol.ipynb\n",
    "    fun8-chal.ipynb\n",
    "    jupman.py\n",
    "```\n",
    "\n",
    "<div class=\"alert alert-warning\">\n",
    "\n",
    "**ATTENZIONE**: Per essere visualizzato correttamente, il file del notebook DEVE essere nella cartella szippata.\n",
    "</div>\n",
    "\n",
    "- apri il Jupyter Notebook da quella cartella. Due cose dovrebbero aprirsi, prima una console e poi un browser. Il browser dovrebbe mostrare una lista di file: naviga la lista e apri il notebook `fun1-intro.ipynb`\n",
    "- Prosegui leggendo il file degli esercizi, ogni tanto al suo interno troverai delle scritte **ESERCIZIO**, che ti chiederanno di scrivere dei comandi Python nelle celle successive. \n",
    "\n",
    "\n",
    "Scorciatoie da tastiera:\n",
    "\n",
    "* Per eseguire il codice Python dentro una cella di Jupyter, premi `Control+Invio`\n",
    "* Per eseguire il codice Python dentro una cella di Jupyter E selezionare la cella seguente, premi `Shift+Invio`\n",
    "* Per eseguire il codice Python dentro una cella di Jupyter E creare una nuova cella subito dopo, premi `Alt+Invio`\n",
    "* Se per caso il Notebook sembra inchiodato, prova a selezionare `Kernel -> Restart`"
   ]
  },
  {
   "cell_type": "markdown",
   "metadata": {},
   "source": [
    "## Perchè le funzioni?\n",
    "\n",
    "La casa nipponica Musicainmoto TODO ti chiede di sviluppare il display del suo nuovo impianto stereo di ultimissima generazione. Il display dovrà STAMPARE un certo numero di asterischi per rappresentare il volume. \n",
    "Conscia che sempre più persone ascoltano musica con le cuffie 24h/7 ad alto volume per contrastare il rumore delle strade sovraffollate da motori rombanti, ti chiede inoltre ti STAMPARE un messaggio di avvertimento sul display qualora il volume sia maggiore di 7. Altrimenti, STAMPA 'Buon ascolto'.\n",
    "\n",
    "Il seguente codice potrebbe risolvere il problema:"
   ]
  },
  {
   "cell_type": "code",
   "execution_count": 80,
   "metadata": {},
   "outputs": [
    {
     "name": "stdout",
     "output_type": "stream",
     "text": [
      "volume: *****\n",
      "Buon ascolto!\n"
     ]
    }
   ],
   "source": [
    "\n",
    "volume = 5\n",
    "#volume = 7\n",
    "#volume = 10\n",
    "#volume = 0\n",
    "\n",
    "print(\"volume:\", '*'*volume)\n",
    "if volume > 7:    \n",
    "    print(\"ATTENZIONE: un volume troppo alto danneggia l'udito\")\n",
    "else:\n",
    "    print(\"Buon ascolto!\")"
   ]
  },
  {
   "cell_type": "markdown",
   "metadata": {},
   "source": [
    "Il formato della soluzione è simile ai tanti che avrai già visto nel libro. Come tutte le volte in cui c'è un `if`, abbiamo proposto nei commentate varie alternative alla variabile di input per testare più agevolmente il codice. Supponiamo che la TODO ci richieda di stampare due volte lo stesso messaggio, una volta sul display in fronte, e una volta sul minidisplay "
   ]
  },
  {
   "cell_type": "code",
   "execution_count": 82,
   "metadata": {},
   "outputs": [
    {
     "name": "stdout",
     "output_type": "stream",
     "text": [
      "volume: ********\n",
      "ATTENZIONE: un volume troppo alto danneggia l'udito\n"
     ]
    }
   ],
   "source": [
    "#volume = 5\n",
    "volume = 8\n",
    "#volume = 10\n",
    "#volume = 0\n",
    "\n",
    "print(\"volume:\", '*'*volume)\n",
    "if volume > 7:    \n",
    "    print(\"ATTENZIONE: un volume troppo alto danneggia l'udito\")\n",
    "else:\n",
    "    print(\"Buon ascolto!\")"
   ]
  },
  {
   "cell_type": "markdown",
   "metadata": {},
   "source": [
    "**DOMANDE**: Per ciascuna delle espressioni seguenti, prova a indovinare che risultato produce (o se da errore)\n",
    "\n",
    "\n",
    "1.  ```python\n",
    "    def f():\n",
    "    print('car')\n",
    "    f()\n",
    "    ```\n",
    "1.  ```python\n",
    "    def f():\n",
    "        print('car')\n",
    "    f()\n",
    "    ```\n",
    "1.  ```python\n",
    "    def f():\n",
    "    return 3\n",
    "    f()\n",
    "    ```\n",
    "1.  ```python\n",
    "    def f():\n",
    "        return 3\n",
    "    f()\n",
    "    ```\n",
    "1.  ```python\n",
    "    def f()\n",
    "        return 3\n",
    "    f()\n",
    "    ```\n",
    "1.  ```python\n",
    "    def f():\n",
    "        return 3\n",
    "    f()f()\n",
    "    ```\n",
    "1.  ```python\n",
    "    def f():\n",
    "        return 3\n",
    "    f()*f()\n",
    "    ```\n",
    "1.  ```python\n",
    "    def f():\n",
    "        pass\n",
    "    ```\n",
    "1.  ```python\n",
    "    def f(x):\n",
    "        return x\n",
    "    f()\n",
    "    ```    \n",
    "1.  ```python\n",
    "    def f(x):\n",
    "        return x\n",
    "    f(5)\n",
    "    ```\n",
    "1.  ```python\n",
    "    def f():\n",
    "        print('fire')        \n",
    "    x = f()\n",
    "    print(x)\n",
    "    ```\n",
    "1.  ```python\n",
    "    def f():\n",
    "        return(print('fire'))\n",
    "    print(f())\n",
    "    ```\n",
    "1.  ```python\n",
    "    def f(x):\n",
    "        return 'x'\n",
    "    print(f(5))\n",
    "    ```\n",
    "1.  ```python\n",
    "    def f(x):\n",
    "        return 'x'\n",
    "    print(f(5))\n",
    "    ```\n",
    "1.  ```python\n",
    "    def etc():\n",
    "        print('etc...')\n",
    "        return etc()\n",
    "    etc()\n",
    "    ```\n",
    "1.  ```python\n",
    "    def gu():\n",
    "        print('GU')\n",
    "        ru()\n",
    "    def ru():\n",
    "        print('RU')\n",
    "        gu()        \n",
    "    gu()\n",
    "    ```    "
   ]
  },
  {
   "cell_type": "markdown",
   "metadata": {},
   "source": [
    "## Modificare parametri\n"
   ]
  },
  {
   "cell_type": "markdown",
   "metadata": {},
   "source": [
    "## Parametri immutabili"
   ]
  },
  {
   "cell_type": "markdown",
   "metadata": {},
   "source": [
    "## Parametri mutabili"
   ]
  },
  {
   "cell_type": "markdown",
   "metadata": {},
   "source": [
    "**DOMANDE**:  Per ciascuna delle espressioni seguenti, prova a indovinare che risultato produce (o se da errore)"
   ]
  },
  {
   "cell_type": "markdown",
   "metadata": {},
   "source": [
    "1.  ```python\n",
    "    def zam(bal):\n",
    "        bal = 4\n",
    "    x = 8\n",
    "    zam(x)\n",
    "    print(x)\n",
    "    ```   \n",
    "1.  ```python\n",
    "    def zom(y):\n",
    "        y = 4\n",
    "    y = 8\n",
    "    zom(y)\n",
    "    print(y)\n",
    "    ```           \n",
    "1.  ```python\n",
    "    def per(la):\n",
    "        la.append('è')    \n",
    "    per(la)\n",
    "    print(la)\n",
    "    ```\n",
    "    \n",
    "1.  ```python\n",
    "    def zeb(la):\n",
    "        la.append('d')\n",
    "    lista = ['a','b','c']\n",
    "    zeb(lista)\n",
    "    print(lista)\n",
    "    ```\n",
    "1.  ```python\n",
    "    def ocio(la):\n",
    "        la = ['?','?']\n",
    "    lb = ['o','r','p','o']\n",
    "    ocio(lb)\n",
    "    print(lb)\n",
    "    ```\n",
    "1.  ```python\n",
    "    def umpa(stringa):\n",
    "        stringa = \"lompa\"\n",
    "    parola = \"gnappa\"\n",
    "    umpa(parola)\n",
    "    print(parola)\n",
    "    ```\n",
    "1.  ```python\n",
    "    def sportiva(diz):\n",
    "        diz['scarpe'] = 2\n",
    "    armadio = {'racchette':4,\n",
    "               'palline': 7}\n",
    "    sportiva(armadio)\n",
    "    print(armadio)\n",
    "    ```\n",
    "1.  ```python\n",
    "    def numma(lista):\n",
    "        lista + [4,5]\n",
    "    la = [1,2,3]    \n",
    "    print(numma(la))\n",
    "    print(la)\n",
    "    ```\n",
    "\n",
    "1.  ```python\n",
    "    def giara(lista):\n",
    "        return lista + [4,5]\n",
    "    lb = [1,2,3]    \n",
    "    print(giara(lb))\n",
    "    print(lb)\n",
    "    ```"
   ]
  },
  {
   "cell_type": "markdown",
   "metadata": {},
   "source": [
    "## Saper distinguere le funzioni\n",
    "\n",
    "Puoi trovare all'incirca 5 categorie di funzioni nel mondo là fuori:\n",
    "\n",
    "1. PRODUCE _SIDE EFFECTS_: STAMPA/RICHIEDE INPUT MANUALE/SCRIVE, modificando l'ambiente in qualche modo, per es stampando caratteri sullo schermo, chiedendo in modo interattivo dati all'utente o scrivendo in un file.\n",
    "2. RITORNA un valore\n",
    "3. MODIFICA l'input\n",
    "4. MODIFICA l'input e lo RITORNA (permette la concatenazione di chiamate, detto _chaining_)\n",
    "5. MODIFICA l'input e RITORNA qualcosa derivato dall'input\n",
    "\n",
    "Proviamo ora a capire le differenze con diversi esempi."
   ]
  },
  {
   "cell_type": "markdown",
   "metadata": {},
   "source": [
    "### SIDE EFFECTS\n",
    "\n",
    "Fa solo una STAMPA / RICHIESTA INPUT INTERATTIVO / SCRITTURA FILE\n",
    "\n",
    "- NON modifica l'input!\n",
    "- NON ritorna niente!\n",
    "\n",
    "Esempio: "
   ]
  },
  {
   "cell_type": "code",
   "execution_count": 84,
   "metadata": {},
   "outputs": [
    {
     "name": "stdout",
     "output_type": "stream",
     "text": [
      "8 5\n"
     ]
    },
    {
     "data": {
      "text/html": [
       "\n",
       "        <script src=\"../_static/js/pytutor-embed.bundle.min.js\" type=\"application/javascript\"></script>\n",
       "     \n",
       "        <script id=\"json-jm3ac3db45-9218-49b7-a6aa-b4e75178190f\" type=\"application/json\" >\n",
       "            {\"code\": \" \\ndef stampola(lista):\\n    \\\"\\\"\\\"STAMPA i primi due elementi della lista data\\n    \\\"\\\"\\\"    \\n    print(lista[0], lista[1])\\n\\nla = [8,5,6,2]\\n\\nstampola(la)\", \"trace\": [{\"line\": 2, \"event\": \"step_line\", \"func_name\": \"<module>\", \"globals\": {}, \"ordered_globals\": [], \"stack_to_render\": [], \"heap\": {}, \"stdout\": \"\"}, {\"line\": 7, \"event\": \"step_line\", \"func_name\": \"<module>\", \"globals\": {\"stampola\": [\"REF\", 1]}, \"ordered_globals\": [\"stampola\"], \"stack_to_render\": [], \"heap\": {\"1\": [\"FUNCTION\", \"stampola(lista)\", null]}, \"stdout\": \"\"}, {\"line\": 9, \"event\": \"step_line\", \"func_name\": \"<module>\", \"globals\": {\"stampola\": [\"REF\", 1], \"la\": [\"REF\", 2]}, \"ordered_globals\": [\"stampola\", \"la\"], \"stack_to_render\": [], \"heap\": {\"1\": [\"FUNCTION\", \"stampola(lista)\", null], \"2\": [\"LIST\", 8, 5, 6, 2]}, \"stdout\": \"\"}, {\"line\": 2, \"event\": \"call\", \"func_name\": \"stampola\", \"globals\": {\"stampola\": [\"REF\", 1], \"la\": [\"REF\", 2]}, \"ordered_globals\": [\"stampola\", \"la\"], \"stack_to_render\": [{\"func_name\": \"stampola\", \"is_parent\": false, \"frame_id\": 1, \"parent_frame_id_list\": [], \"encoded_locals\": {\"lista\": [\"REF\", 2]}, \"ordered_varnames\": [\"lista\"], \"is_zombie\": false, \"is_highlighted\": true, \"unique_hash\": \"stampola_f1\"}], \"heap\": {\"2\": [\"LIST\", 8, 5, 6, 2], \"1\": [\"FUNCTION\", \"stampola(lista)\", null]}, \"stdout\": \"\"}, {\"line\": 5, \"event\": \"step_line\", \"func_name\": \"stampola\", \"globals\": {\"stampola\": [\"REF\", 1], \"la\": [\"REF\", 2]}, \"ordered_globals\": [\"stampola\", \"la\"], \"stack_to_render\": [{\"func_name\": \"stampola\", \"is_parent\": false, \"frame_id\": 1, \"parent_frame_id_list\": [], \"encoded_locals\": {\"lista\": [\"REF\", 2]}, \"ordered_varnames\": [\"lista\"], \"is_zombie\": false, \"is_highlighted\": true, \"unique_hash\": \"stampola_f1\"}], \"heap\": {\"2\": [\"LIST\", 8, 5, 6, 2], \"1\": [\"FUNCTION\", \"stampola(lista)\", null]}, \"stdout\": \"\"}, {\"line\": 5, \"event\": \"return\", \"func_name\": \"stampola\", \"globals\": {\"stampola\": [\"REF\", 1], \"la\": [\"REF\", 2]}, \"ordered_globals\": [\"stampola\", \"la\"], \"stack_to_render\": [{\"func_name\": \"stampola\", \"is_parent\": false, \"frame_id\": 1, \"parent_frame_id_list\": [], \"encoded_locals\": {\"lista\": [\"REF\", 2], \"__return__\": null}, \"ordered_varnames\": [\"lista\", \"__return__\"], \"is_zombie\": false, \"is_highlighted\": true, \"unique_hash\": \"stampola_f1\"}], \"heap\": {\"2\": [\"LIST\", 8, 5, 6, 2], \"1\": [\"FUNCTION\", \"stampola(lista)\", null]}, \"stdout\": \"8 5\\n\"}, {\"line\": 9, \"event\": \"return\", \"func_name\": \"<module>\", \"globals\": {\"stampola\": [\"REF\", 1], \"la\": [\"REF\", 2]}, \"ordered_globals\": [\"stampola\", \"la\"], \"stack_to_render\": [], \"heap\": {\"1\": [\"FUNCTION\", \"stampola(lista)\", null], \"2\": [\"LIST\", 8, 5, 6, 2]}, \"stdout\": \"8 5\\n\"}]}\n",
       "        </script>\n",
       "        <div id=\"jm3ac3db45-9218-49b7-a6aa-b4e75178190f\" class=\"pytutorVisualizer\"> </div>\n",
       " \n",
       "        <style>\n",
       "        .vizLayoutTd {\n",
       "            background-color: #fff !important;\n",
       "        }\n",
       "\n",
       "        #pyStdout {            \n",
       "            min-height:25px;\n",
       "        }\n",
       "\n",
       "        /* 'Edit this code' link, hiding because replaces browser tab !!!*/\n",
       "        #editCodeLinkDiv {\n",
       "            display:none;  \n",
       "        }\n",
       "        </style>   \n",
       "                            \n",
       "        <script>\n",
       "        (function(){\n",
       "\n",
       "            var trace = JSON.parse(document.getElementById('json-jm3ac3db45-9218-49b7-a6aa-b4e75178190f').innerHTML);                                        \n",
       "            // NOTE 1: id without #\n",
       "            // NOTE 2 - maybe there are more predictable ways, but this will work anyway\n",
       "            //        - id should be number\n",
       "            visualizerIdOverride = Math.trunc(Math.random() * 100000000000)\n",
       "            addVisualizerToPage(trace, 'jm3ac3db45-9218-49b7-a6aa-b4e75178190f',{'embeddedMode' : false,\n",
       "                                             'visualizerIdOverride':visualizerIdOverride})  \n",
       "            \n",
       "            \n",
       "            // set overflow for pytuts - need to do in python as css \n",
       "            // does not allow parent selection\n",
       "            var pytuts = $('.pytutorVisualizer')\n",
       "            pytuts.closest('div.output_html.rendered_html.output_result')\n",
       "                    .css('overflow-x', 'visible')\n",
       "        \n",
       "            //pytuts.closest('div.output_html.rendered_html.output_result')\n",
       "            //      .css('background-color','red')                \n",
       "            \n",
       "        })()\n",
       "        </script>\n",
       "                \n",
       "                "
      ],
      "text/plain": [
       "<IPython.core.display.HTML object>"
      ]
     },
     "execution_count": 84,
     "metadata": {},
     "output_type": "execute_result"
    }
   ],
   "source": [
    "def stampola(lista):\n",
    "    \"\"\"STAMPA i primi due elementi della lista data\n",
    "    \"\"\"    \n",
    "    print(lista[0], lista[1])\n",
    "\n",
    "la = [8,5,6,2]\n",
    "\n",
    "stampola(la)\n",
    "jupman.pytut()"
   ]
  },
  {
   "cell_type": "markdown",
   "metadata": {},
   "source": [
    "### RITORNA\n",
    "\n",
    "RITORNA valori \n",
    "\n",
    "- NON modifica l'input\n",
    "- NON stampa niente!\n",
    "\n",
    "Esempio:"
   ]
  },
  {
   "cell_type": "code",
   "execution_count": 85,
   "metadata": {},
   "outputs": [
    {
     "data": {
      "text/html": [
       "\n",
       "        <script src=\"../_static/js/pytutor-embed.bundle.min.js\" type=\"application/javascript\"></script>\n",
       "     \n",
       "        <script id=\"json-jme26176ad-5cb9-47d9-96b0-25b5df23d02b\" type=\"application/json\" >\n",
       "            {\"code\": \" \\ndef ritornola(lista):\\n    \\\"\\\"\\\"RITORNA una NUOVA lista che ha tutti i numeri di lista raddoppiati\\n    \\\"\\\"\\\"    \\n    ret = []\\n    for el in lista:\\n        ret.append(el*2)\\n    return ret   \\n\\nla = [5,2,6,3]\\nritornola(la)\", \"trace\": [{\"line\": 2, \"event\": \"step_line\", \"func_name\": \"<module>\", \"globals\": {}, \"ordered_globals\": [], \"stack_to_render\": [], \"heap\": {}, \"stdout\": \"\"}, {\"line\": 10, \"event\": \"step_line\", \"func_name\": \"<module>\", \"globals\": {\"ritornola\": [\"REF\", 1]}, \"ordered_globals\": [\"ritornola\"], \"stack_to_render\": [], \"heap\": {\"1\": [\"FUNCTION\", \"ritornola(lista)\", null]}, \"stdout\": \"\"}, {\"line\": 11, \"event\": \"step_line\", \"func_name\": \"<module>\", \"globals\": {\"ritornola\": [\"REF\", 1], \"la\": [\"REF\", 2]}, \"ordered_globals\": [\"ritornola\", \"la\"], \"stack_to_render\": [], \"heap\": {\"1\": [\"FUNCTION\", \"ritornola(lista)\", null], \"2\": [\"LIST\", 5, 2, 6, 3]}, \"stdout\": \"\"}, {\"line\": 2, \"event\": \"call\", \"func_name\": \"ritornola\", \"globals\": {\"ritornola\": [\"REF\", 1], \"la\": [\"REF\", 2]}, \"ordered_globals\": [\"ritornola\", \"la\"], \"stack_to_render\": [{\"func_name\": \"ritornola\", \"is_parent\": false, \"frame_id\": 1, \"parent_frame_id_list\": [], \"encoded_locals\": {\"lista\": [\"REF\", 2]}, \"ordered_varnames\": [\"lista\"], \"is_zombie\": false, \"is_highlighted\": true, \"unique_hash\": \"ritornola_f1\"}], \"heap\": {\"2\": [\"LIST\", 5, 2, 6, 3], \"1\": [\"FUNCTION\", \"ritornola(lista)\", null]}, \"stdout\": \"\"}, {\"line\": 5, \"event\": \"step_line\", \"func_name\": \"ritornola\", \"globals\": {\"ritornola\": [\"REF\", 1], \"la\": [\"REF\", 2]}, \"ordered_globals\": [\"ritornola\", \"la\"], \"stack_to_render\": [{\"func_name\": \"ritornola\", \"is_parent\": false, \"frame_id\": 1, \"parent_frame_id_list\": [], \"encoded_locals\": {\"lista\": [\"REF\", 2]}, \"ordered_varnames\": [\"lista\"], \"is_zombie\": false, \"is_highlighted\": true, \"unique_hash\": \"ritornola_f1\"}], \"heap\": {\"2\": [\"LIST\", 5, 2, 6, 3], \"1\": [\"FUNCTION\", \"ritornola(lista)\", null]}, \"stdout\": \"\"}, {\"line\": 6, \"event\": \"step_line\", \"func_name\": \"ritornola\", \"globals\": {\"ritornola\": [\"REF\", 1], \"la\": [\"REF\", 2]}, \"ordered_globals\": [\"ritornola\", \"la\"], \"stack_to_render\": [{\"func_name\": \"ritornola\", \"is_parent\": false, \"frame_id\": 1, \"parent_frame_id_list\": [], \"encoded_locals\": {\"lista\": [\"REF\", 2], \"ret\": [\"REF\", 3]}, \"ordered_varnames\": [\"lista\", \"ret\"], \"is_zombie\": false, \"is_highlighted\": true, \"unique_hash\": \"ritornola_f1\"}], \"heap\": {\"2\": [\"LIST\", 5, 2, 6, 3], \"3\": [\"LIST\"], \"1\": [\"FUNCTION\", \"ritornola(lista)\", null]}, \"stdout\": \"\"}, {\"line\": 7, \"event\": \"step_line\", \"func_name\": \"ritornola\", \"globals\": {\"ritornola\": [\"REF\", 1], \"la\": [\"REF\", 2]}, \"ordered_globals\": [\"ritornola\", \"la\"], \"stack_to_render\": [{\"func_name\": \"ritornola\", \"is_parent\": false, \"frame_id\": 1, \"parent_frame_id_list\": [], \"encoded_locals\": {\"lista\": [\"REF\", 2], \"ret\": [\"REF\", 3], \"el\": 5}, \"ordered_varnames\": [\"lista\", \"ret\", \"el\"], \"is_zombie\": false, \"is_highlighted\": true, \"unique_hash\": \"ritornola_f1\"}], \"heap\": {\"2\": [\"LIST\", 5, 2, 6, 3], \"3\": [\"LIST\"], \"1\": [\"FUNCTION\", \"ritornola(lista)\", null]}, \"stdout\": \"\"}, {\"line\": 6, \"event\": \"step_line\", \"func_name\": \"ritornola\", \"globals\": {\"ritornola\": [\"REF\", 1], \"la\": [\"REF\", 2]}, \"ordered_globals\": [\"ritornola\", \"la\"], \"stack_to_render\": [{\"func_name\": \"ritornola\", \"is_parent\": false, \"frame_id\": 1, \"parent_frame_id_list\": [], \"encoded_locals\": {\"lista\": [\"REF\", 2], \"ret\": [\"REF\", 3], \"el\": 5}, \"ordered_varnames\": [\"lista\", \"ret\", \"el\"], \"is_zombie\": false, \"is_highlighted\": true, \"unique_hash\": \"ritornola_f1\"}], \"heap\": {\"2\": [\"LIST\", 5, 2, 6, 3], \"3\": [\"LIST\", 10], \"1\": [\"FUNCTION\", \"ritornola(lista)\", null]}, \"stdout\": \"\"}, {\"line\": 7, \"event\": \"step_line\", \"func_name\": \"ritornola\", \"globals\": {\"ritornola\": [\"REF\", 1], \"la\": [\"REF\", 2]}, \"ordered_globals\": [\"ritornola\", \"la\"], \"stack_to_render\": [{\"func_name\": \"ritornola\", \"is_parent\": false, \"frame_id\": 1, \"parent_frame_id_list\": [], \"encoded_locals\": {\"lista\": [\"REF\", 2], \"ret\": [\"REF\", 3], \"el\": 2}, \"ordered_varnames\": [\"lista\", \"ret\", \"el\"], \"is_zombie\": false, \"is_highlighted\": true, \"unique_hash\": \"ritornola_f1\"}], \"heap\": {\"2\": [\"LIST\", 5, 2, 6, 3], \"3\": [\"LIST\", 10], \"1\": [\"FUNCTION\", \"ritornola(lista)\", null]}, \"stdout\": \"\"}, {\"line\": 6, \"event\": \"step_line\", \"func_name\": \"ritornola\", \"globals\": {\"ritornola\": [\"REF\", 1], \"la\": [\"REF\", 2]}, \"ordered_globals\": [\"ritornola\", \"la\"], \"stack_to_render\": [{\"func_name\": \"ritornola\", \"is_parent\": false, \"frame_id\": 1, \"parent_frame_id_list\": [], \"encoded_locals\": {\"lista\": [\"REF\", 2], \"ret\": [\"REF\", 3], \"el\": 2}, \"ordered_varnames\": [\"lista\", \"ret\", \"el\"], \"is_zombie\": false, \"is_highlighted\": true, \"unique_hash\": \"ritornola_f1\"}], \"heap\": {\"2\": [\"LIST\", 5, 2, 6, 3], \"3\": [\"LIST\", 10, 4], \"1\": [\"FUNCTION\", \"ritornola(lista)\", null]}, \"stdout\": \"\"}, {\"line\": 7, \"event\": \"step_line\", \"func_name\": \"ritornola\", \"globals\": {\"ritornola\": [\"REF\", 1], \"la\": [\"REF\", 2]}, \"ordered_globals\": [\"ritornola\", \"la\"], \"stack_to_render\": [{\"func_name\": \"ritornola\", \"is_parent\": false, \"frame_id\": 1, \"parent_frame_id_list\": [], \"encoded_locals\": {\"lista\": [\"REF\", 2], \"ret\": [\"REF\", 3], \"el\": 6}, \"ordered_varnames\": [\"lista\", \"ret\", \"el\"], \"is_zombie\": false, \"is_highlighted\": true, \"unique_hash\": \"ritornola_f1\"}], \"heap\": {\"2\": [\"LIST\", 5, 2, 6, 3], \"3\": [\"LIST\", 10, 4], \"1\": [\"FUNCTION\", \"ritornola(lista)\", null]}, \"stdout\": \"\"}, {\"line\": 6, \"event\": \"step_line\", \"func_name\": \"ritornola\", \"globals\": {\"ritornola\": [\"REF\", 1], \"la\": [\"REF\", 2]}, \"ordered_globals\": [\"ritornola\", \"la\"], \"stack_to_render\": [{\"func_name\": \"ritornola\", \"is_parent\": false, \"frame_id\": 1, \"parent_frame_id_list\": [], \"encoded_locals\": {\"lista\": [\"REF\", 2], \"ret\": [\"REF\", 3], \"el\": 6}, \"ordered_varnames\": [\"lista\", \"ret\", \"el\"], \"is_zombie\": false, \"is_highlighted\": true, \"unique_hash\": \"ritornola_f1\"}], \"heap\": {\"2\": [\"LIST\", 5, 2, 6, 3], \"3\": [\"LIST\", 10, 4, 12], \"1\": [\"FUNCTION\", \"ritornola(lista)\", null]}, \"stdout\": \"\"}, {\"line\": 7, \"event\": \"step_line\", \"func_name\": \"ritornola\", \"globals\": {\"ritornola\": [\"REF\", 1], \"la\": [\"REF\", 2]}, \"ordered_globals\": [\"ritornola\", \"la\"], \"stack_to_render\": [{\"func_name\": \"ritornola\", \"is_parent\": false, \"frame_id\": 1, \"parent_frame_id_list\": [], \"encoded_locals\": {\"lista\": [\"REF\", 2], \"ret\": [\"REF\", 3], \"el\": 3}, \"ordered_varnames\": [\"lista\", \"ret\", \"el\"], \"is_zombie\": false, \"is_highlighted\": true, \"unique_hash\": \"ritornola_f1\"}], \"heap\": {\"2\": [\"LIST\", 5, 2, 6, 3], \"3\": [\"LIST\", 10, 4, 12], \"1\": [\"FUNCTION\", \"ritornola(lista)\", null]}, \"stdout\": \"\"}, {\"line\": 6, \"event\": \"step_line\", \"func_name\": \"ritornola\", \"globals\": {\"ritornola\": [\"REF\", 1], \"la\": [\"REF\", 2]}, \"ordered_globals\": [\"ritornola\", \"la\"], \"stack_to_render\": [{\"func_name\": \"ritornola\", \"is_parent\": false, \"frame_id\": 1, \"parent_frame_id_list\": [], \"encoded_locals\": {\"lista\": [\"REF\", 2], \"ret\": [\"REF\", 3], \"el\": 3}, \"ordered_varnames\": [\"lista\", \"ret\", \"el\"], \"is_zombie\": false, \"is_highlighted\": true, \"unique_hash\": \"ritornola_f1\"}], \"heap\": {\"2\": [\"LIST\", 5, 2, 6, 3], \"3\": [\"LIST\", 10, 4, 12, 6], \"1\": [\"FUNCTION\", \"ritornola(lista)\", null]}, \"stdout\": \"\"}, {\"line\": 8, \"event\": \"step_line\", \"func_name\": \"ritornola\", \"globals\": {\"ritornola\": [\"REF\", 1], \"la\": [\"REF\", 2]}, \"ordered_globals\": [\"ritornola\", \"la\"], \"stack_to_render\": [{\"func_name\": \"ritornola\", \"is_parent\": false, \"frame_id\": 1, \"parent_frame_id_list\": [], \"encoded_locals\": {\"lista\": [\"REF\", 2], \"ret\": [\"REF\", 3], \"el\": 3}, \"ordered_varnames\": [\"lista\", \"ret\", \"el\"], \"is_zombie\": false, \"is_highlighted\": true, \"unique_hash\": \"ritornola_f1\"}], \"heap\": {\"2\": [\"LIST\", 5, 2, 6, 3], \"3\": [\"LIST\", 10, 4, 12, 6], \"1\": [\"FUNCTION\", \"ritornola(lista)\", null]}, \"stdout\": \"\"}, {\"line\": 8, \"event\": \"return\", \"func_name\": \"ritornola\", \"globals\": {\"ritornola\": [\"REF\", 1], \"la\": [\"REF\", 2]}, \"ordered_globals\": [\"ritornola\", \"la\"], \"stack_to_render\": [{\"func_name\": \"ritornola\", \"is_parent\": false, \"frame_id\": 1, \"parent_frame_id_list\": [], \"encoded_locals\": {\"lista\": [\"REF\", 2], \"ret\": [\"REF\", 3], \"el\": 3, \"__return__\": [\"REF\", 3]}, \"ordered_varnames\": [\"lista\", \"ret\", \"el\", \"__return__\"], \"is_zombie\": false, \"is_highlighted\": true, \"unique_hash\": \"ritornola_f1\"}], \"heap\": {\"2\": [\"LIST\", 5, 2, 6, 3], \"3\": [\"LIST\", 10, 4, 12, 6], \"1\": [\"FUNCTION\", \"ritornola(lista)\", null]}, \"stdout\": \"\"}, {\"line\": 11, \"event\": \"return\", \"func_name\": \"<module>\", \"globals\": {\"ritornola\": [\"REF\", 1], \"la\": [\"REF\", 2]}, \"ordered_globals\": [\"ritornola\", \"la\"], \"stack_to_render\": [], \"heap\": {\"1\": [\"FUNCTION\", \"ritornola(lista)\", null], \"2\": [\"LIST\", 5, 2, 6, 3]}, \"stdout\": \"\"}]}\n",
       "        </script>\n",
       "        <div id=\"jme26176ad-5cb9-47d9-96b0-25b5df23d02b\" class=\"pytutorVisualizer\"> </div>\n",
       " \n",
       "        <style>\n",
       "        .vizLayoutTd {\n",
       "            background-color: #fff !important;\n",
       "        }\n",
       "\n",
       "        #pyStdout {            \n",
       "            min-height:25px;\n",
       "        }\n",
       "\n",
       "        /* 'Edit this code' link, hiding because replaces browser tab !!!*/\n",
       "        #editCodeLinkDiv {\n",
       "            display:none;  \n",
       "        }\n",
       "        </style>   \n",
       "                            \n",
       "        <script>\n",
       "        (function(){\n",
       "\n",
       "            var trace = JSON.parse(document.getElementById('json-jme26176ad-5cb9-47d9-96b0-25b5df23d02b').innerHTML);                                        \n",
       "            // NOTE 1: id without #\n",
       "            // NOTE 2 - maybe there are more predictable ways, but this will work anyway\n",
       "            //        - id should be number\n",
       "            visualizerIdOverride = Math.trunc(Math.random() * 100000000000)\n",
       "            addVisualizerToPage(trace, 'jme26176ad-5cb9-47d9-96b0-25b5df23d02b',{'embeddedMode' : false,\n",
       "                                             'visualizerIdOverride':visualizerIdOverride})  \n",
       "            \n",
       "            \n",
       "            // set overflow for pytuts - need to do in python as css \n",
       "            // does not allow parent selection\n",
       "            var pytuts = $('.pytutorVisualizer')\n",
       "            pytuts.closest('div.output_html.rendered_html.output_result')\n",
       "                    .css('overflow-x', 'visible')\n",
       "        \n",
       "            //pytuts.closest('div.output_html.rendered_html.output_result')\n",
       "            //      .css('background-color','red')                \n",
       "            \n",
       "        })()\n",
       "        </script>\n",
       "                \n",
       "                "
      ],
      "text/plain": [
       "<IPython.core.display.HTML object>"
      ]
     },
     "execution_count": 85,
     "metadata": {},
     "output_type": "execute_result"
    }
   ],
   "source": [
    "def ritornola(lista):\n",
    "    \"\"\"RITORNA una NUOVA lista che ha tutti i numeri di lista raddoppiati\n",
    "    \"\"\"    \n",
    "    ret = []\n",
    "    for el in lista:\n",
    "        ret.append(el*2)\n",
    "    return ret   \n",
    "\n",
    "la = [5,2,6,3]\n",
    "ritornola(la)\n",
    "jupman.pytut()"
   ]
  },
  {
   "cell_type": "markdown",
   "metadata": {},
   "source": [
    "### MODIFICA\n",
    "\n",
    "MODIFICA l'input\n",
    "\n",
    "- NON ritorna niente!\n",
    "- NON stampa niente!\n",
    "\n",
    "Esempio:"
   ]
  },
  {
   "cell_type": "code",
   "execution_count": 86,
   "metadata": {},
   "outputs": [
    {
     "name": "stdout",
     "output_type": "stream",
     "text": [
      "[4, 7, 8, 9]\n"
     ]
    },
    {
     "data": {
      "text/html": [
       "\n",
       "        <script src=\"../_static/js/pytutor-embed.bundle.min.js\" type=\"application/javascript\"></script>\n",
       "     \n",
       "        <script id=\"json-jme268f154-56cc-4585-bc83-b0ea96c44f2b\" type=\"application/json\" >\n",
       "            {\"code\": \" \\ndef modifanta(lista):\\n    \\\"\\\"\\\"MODIFICA lista in modo che sia ordinata in-place\\n    \\\"\\\"\\\"\\n    lista.sort()   \\n    \\nla = [7,4,9,8]\\n\\nmodifanta(la)\\n\\nprint(la)\", \"trace\": [{\"line\": 2, \"event\": \"step_line\", \"func_name\": \"<module>\", \"globals\": {}, \"ordered_globals\": [], \"stack_to_render\": [], \"heap\": {}, \"stdout\": \"\"}, {\"line\": 7, \"event\": \"step_line\", \"func_name\": \"<module>\", \"globals\": {\"modifanta\": [\"REF\", 1]}, \"ordered_globals\": [\"modifanta\"], \"stack_to_render\": [], \"heap\": {\"1\": [\"FUNCTION\", \"modifanta(lista)\", null]}, \"stdout\": \"\"}, {\"line\": 9, \"event\": \"step_line\", \"func_name\": \"<module>\", \"globals\": {\"modifanta\": [\"REF\", 1], \"la\": [\"REF\", 2]}, \"ordered_globals\": [\"modifanta\", \"la\"], \"stack_to_render\": [], \"heap\": {\"1\": [\"FUNCTION\", \"modifanta(lista)\", null], \"2\": [\"LIST\", 7, 4, 9, 8]}, \"stdout\": \"\"}, {\"line\": 2, \"event\": \"call\", \"func_name\": \"modifanta\", \"globals\": {\"modifanta\": [\"REF\", 1], \"la\": [\"REF\", 2]}, \"ordered_globals\": [\"modifanta\", \"la\"], \"stack_to_render\": [{\"func_name\": \"modifanta\", \"is_parent\": false, \"frame_id\": 1, \"parent_frame_id_list\": [], \"encoded_locals\": {\"lista\": [\"REF\", 2]}, \"ordered_varnames\": [\"lista\"], \"is_zombie\": false, \"is_highlighted\": true, \"unique_hash\": \"modifanta_f1\"}], \"heap\": {\"2\": [\"LIST\", 7, 4, 9, 8], \"1\": [\"FUNCTION\", \"modifanta(lista)\", null]}, \"stdout\": \"\"}, {\"line\": 5, \"event\": \"step_line\", \"func_name\": \"modifanta\", \"globals\": {\"modifanta\": [\"REF\", 1], \"la\": [\"REF\", 2]}, \"ordered_globals\": [\"modifanta\", \"la\"], \"stack_to_render\": [{\"func_name\": \"modifanta\", \"is_parent\": false, \"frame_id\": 1, \"parent_frame_id_list\": [], \"encoded_locals\": {\"lista\": [\"REF\", 2]}, \"ordered_varnames\": [\"lista\"], \"is_zombie\": false, \"is_highlighted\": true, \"unique_hash\": \"modifanta_f1\"}], \"heap\": {\"2\": [\"LIST\", 7, 4, 9, 8], \"1\": [\"FUNCTION\", \"modifanta(lista)\", null]}, \"stdout\": \"\"}, {\"line\": 5, \"event\": \"return\", \"func_name\": \"modifanta\", \"globals\": {\"modifanta\": [\"REF\", 1], \"la\": [\"REF\", 2]}, \"ordered_globals\": [\"modifanta\", \"la\"], \"stack_to_render\": [{\"func_name\": \"modifanta\", \"is_parent\": false, \"frame_id\": 1, \"parent_frame_id_list\": [], \"encoded_locals\": {\"lista\": [\"REF\", 2], \"__return__\": null}, \"ordered_varnames\": [\"lista\", \"__return__\"], \"is_zombie\": false, \"is_highlighted\": true, \"unique_hash\": \"modifanta_f1\"}], \"heap\": {\"2\": [\"LIST\", 4, 7, 8, 9], \"1\": [\"FUNCTION\", \"modifanta(lista)\", null]}, \"stdout\": \"\"}, {\"line\": 11, \"event\": \"step_line\", \"func_name\": \"<module>\", \"globals\": {\"modifanta\": [\"REF\", 1], \"la\": [\"REF\", 2]}, \"ordered_globals\": [\"modifanta\", \"la\"], \"stack_to_render\": [], \"heap\": {\"1\": [\"FUNCTION\", \"modifanta(lista)\", null], \"2\": [\"LIST\", 4, 7, 8, 9]}, \"stdout\": \"\"}, {\"line\": 11, \"event\": \"return\", \"func_name\": \"<module>\", \"globals\": {\"modifanta\": [\"REF\", 1], \"la\": [\"REF\", 2]}, \"ordered_globals\": [\"modifanta\", \"la\"], \"stack_to_render\": [], \"heap\": {\"1\": [\"FUNCTION\", \"modifanta(lista)\", null], \"2\": [\"LIST\", 4, 7, 8, 9]}, \"stdout\": \"[4, 7, 8, 9]\\n\"}]}\n",
       "        </script>\n",
       "        <div id=\"jme268f154-56cc-4585-bc83-b0ea96c44f2b\" class=\"pytutorVisualizer\"> </div>\n",
       " \n",
       "        <style>\n",
       "        .vizLayoutTd {\n",
       "            background-color: #fff !important;\n",
       "        }\n",
       "\n",
       "        #pyStdout {            \n",
       "            min-height:25px;\n",
       "        }\n",
       "\n",
       "        /* 'Edit this code' link, hiding because replaces browser tab !!!*/\n",
       "        #editCodeLinkDiv {\n",
       "            display:none;  \n",
       "        }\n",
       "        </style>   \n",
       "                            \n",
       "        <script>\n",
       "        (function(){\n",
       "\n",
       "            var trace = JSON.parse(document.getElementById('json-jme268f154-56cc-4585-bc83-b0ea96c44f2b').innerHTML);                                        \n",
       "            // NOTE 1: id without #\n",
       "            // NOTE 2 - maybe there are more predictable ways, but this will work anyway\n",
       "            //        - id should be number\n",
       "            visualizerIdOverride = Math.trunc(Math.random() * 100000000000)\n",
       "            addVisualizerToPage(trace, 'jme268f154-56cc-4585-bc83-b0ea96c44f2b',{'embeddedMode' : false,\n",
       "                                             'visualizerIdOverride':visualizerIdOverride})  \n",
       "            \n",
       "            \n",
       "            // set overflow for pytuts - need to do in python as css \n",
       "            // does not allow parent selection\n",
       "            var pytuts = $('.pytutorVisualizer')\n",
       "            pytuts.closest('div.output_html.rendered_html.output_result')\n",
       "                    .css('overflow-x', 'visible')\n",
       "        \n",
       "            //pytuts.closest('div.output_html.rendered_html.output_result')\n",
       "            //      .css('background-color','red')                \n",
       "            \n",
       "        })()\n",
       "        </script>\n",
       "                \n",
       "                "
      ],
      "text/plain": [
       "<IPython.core.display.HTML object>"
      ]
     },
     "execution_count": 86,
     "metadata": {},
     "output_type": "execute_result"
    }
   ],
   "source": [
    "def modifanta(lista):\n",
    "    \"\"\"MODIFICA lista in modo che sia ordinata in-place\n",
    "    \"\"\"\n",
    "    lista.sort()   \n",
    "    \n",
    "la = [7,4,9,8]\n",
    "\n",
    "modifanta(la)\n",
    "\n",
    "print(la)\n",
    "jupman.pytut()"
   ]
  },
  {
   "cell_type": "markdown",
   "metadata": {},
   "source": [
    "### MODIFICA E RITORNA\n",
    "\n",
    "- MODIFICA l'input e lo RITORNA\n",
    "- NON STAMPA niente!\n",
    "\n",
    "Nota: permette così il concatenamento di chiamate (_chaining_)"
   ]
  },
  {
   "cell_type": "code",
   "execution_count": 87,
   "metadata": {},
   "outputs": [
    {
     "name": "stdout",
     "output_type": "stream",
     "text": [
      "[16, 14, 10]\n",
      "[16, 14, 10]\n",
      "[12, 10, 14]\n",
      "[16, 14, 10]\n"
     ]
    },
    {
     "data": {
      "text/html": [
       "\n",
       "        <script src=\"../_static/js/pytutor-embed.bundle.min.js\" type=\"application/javascript\"></script>\n",
       "     \n",
       "        <script id=\"json-jm394784fb-4812-499b-9b92-2ea2a36add2c\" type=\"application/json\" >\n",
       "            {\"code\": \" \\ndef modirit(lista):\\n    \\\"\\\"\\\"MODIFICA lista raddoppiando tutti i suoi elementi, \\n       e infine RITORNA la lista di input\\n    \\\"\\\"\\\"\\n    for i in range(len(lista)):\\n        lista[i] = lista[i] * 2\\n    return lista\\n\\nla = [8,7,5]\\nprint(modirit(la))    # [16,14,10]  ha RITORNATO l'input modificato\\nprint(la)             # [16,14,10]  l'input la \\u00e8 stato MODIFICATO !!\\n\\nlb = [7,5,6]\\nmodirit(lb).reverse()    # NOTA CHE POSSIAMO CONCATENARE\\nprint(lb)                # [12,10,14]  l'input lb \\u00e8 stato MODIFICATO !!\\n#modirit(lb).reverse().append(16)  # ... ma questo non funzionerebbe. Perch\\u00e8?\\n\\nprint(la)\", \"trace\": [{\"line\": 2, \"event\": \"step_line\", \"func_name\": \"<module>\", \"globals\": {}, \"ordered_globals\": [], \"stack_to_render\": [], \"heap\": {}, \"stdout\": \"\"}, {\"line\": 10, \"event\": \"step_line\", \"func_name\": \"<module>\", \"globals\": {\"modirit\": [\"REF\", 1]}, \"ordered_globals\": [\"modirit\"], \"stack_to_render\": [], \"heap\": {\"1\": [\"FUNCTION\", \"modirit(lista)\", null]}, \"stdout\": \"\"}, {\"line\": 11, \"event\": \"step_line\", \"func_name\": \"<module>\", \"globals\": {\"modirit\": [\"REF\", 1], \"la\": [\"REF\", 2]}, \"ordered_globals\": [\"modirit\", \"la\"], \"stack_to_render\": [], \"heap\": {\"1\": [\"FUNCTION\", \"modirit(lista)\", null], \"2\": [\"LIST\", 8, 7, 5]}, \"stdout\": \"\"}, {\"line\": 2, \"event\": \"call\", \"func_name\": \"modirit\", \"globals\": {\"modirit\": [\"REF\", 1], \"la\": [\"REF\", 2]}, \"ordered_globals\": [\"modirit\", \"la\"], \"stack_to_render\": [{\"func_name\": \"modirit\", \"is_parent\": false, \"frame_id\": 1, \"parent_frame_id_list\": [], \"encoded_locals\": {\"lista\": [\"REF\", 2]}, \"ordered_varnames\": [\"lista\"], \"is_zombie\": false, \"is_highlighted\": true, \"unique_hash\": \"modirit_f1\"}], \"heap\": {\"2\": [\"LIST\", 8, 7, 5], \"1\": [\"FUNCTION\", \"modirit(lista)\", null]}, \"stdout\": \"\"}, {\"line\": 6, \"event\": \"step_line\", \"func_name\": \"modirit\", \"globals\": {\"modirit\": [\"REF\", 1], \"la\": [\"REF\", 2]}, \"ordered_globals\": [\"modirit\", \"la\"], \"stack_to_render\": [{\"func_name\": \"modirit\", \"is_parent\": false, \"frame_id\": 1, \"parent_frame_id_list\": [], \"encoded_locals\": {\"lista\": [\"REF\", 2]}, \"ordered_varnames\": [\"lista\"], \"is_zombie\": false, \"is_highlighted\": true, \"unique_hash\": \"modirit_f1\"}], \"heap\": {\"2\": [\"LIST\", 8, 7, 5], \"1\": [\"FUNCTION\", \"modirit(lista)\", null]}, \"stdout\": \"\"}, {\"line\": 7, \"event\": \"step_line\", \"func_name\": \"modirit\", \"globals\": {\"modirit\": [\"REF\", 1], \"la\": [\"REF\", 2]}, \"ordered_globals\": [\"modirit\", \"la\"], \"stack_to_render\": [{\"func_name\": \"modirit\", \"is_parent\": false, \"frame_id\": 1, \"parent_frame_id_list\": [], \"encoded_locals\": {\"lista\": [\"REF\", 2], \"i\": 0}, \"ordered_varnames\": [\"lista\", \"i\"], \"is_zombie\": false, \"is_highlighted\": true, \"unique_hash\": \"modirit_f1\"}], \"heap\": {\"2\": [\"LIST\", 8, 7, 5], \"1\": [\"FUNCTION\", \"modirit(lista)\", null]}, \"stdout\": \"\"}, {\"line\": 6, \"event\": \"step_line\", \"func_name\": \"modirit\", \"globals\": {\"modirit\": [\"REF\", 1], \"la\": [\"REF\", 2]}, \"ordered_globals\": [\"modirit\", \"la\"], \"stack_to_render\": [{\"func_name\": \"modirit\", \"is_parent\": false, \"frame_id\": 1, \"parent_frame_id_list\": [], \"encoded_locals\": {\"lista\": [\"REF\", 2], \"i\": 0}, \"ordered_varnames\": [\"lista\", \"i\"], \"is_zombie\": false, \"is_highlighted\": true, \"unique_hash\": \"modirit_f1\"}], \"heap\": {\"2\": [\"LIST\", 16, 7, 5], \"1\": [\"FUNCTION\", \"modirit(lista)\", null]}, \"stdout\": \"\"}, {\"line\": 7, \"event\": \"step_line\", \"func_name\": \"modirit\", \"globals\": {\"modirit\": [\"REF\", 1], \"la\": [\"REF\", 2]}, \"ordered_globals\": [\"modirit\", \"la\"], \"stack_to_render\": [{\"func_name\": \"modirit\", \"is_parent\": false, \"frame_id\": 1, \"parent_frame_id_list\": [], \"encoded_locals\": {\"lista\": [\"REF\", 2], \"i\": 1}, \"ordered_varnames\": [\"lista\", \"i\"], \"is_zombie\": false, \"is_highlighted\": true, \"unique_hash\": \"modirit_f1\"}], \"heap\": {\"2\": [\"LIST\", 16, 7, 5], \"1\": [\"FUNCTION\", \"modirit(lista)\", null]}, \"stdout\": \"\"}, {\"line\": 6, \"event\": \"step_line\", \"func_name\": \"modirit\", \"globals\": {\"modirit\": [\"REF\", 1], \"la\": [\"REF\", 2]}, \"ordered_globals\": [\"modirit\", \"la\"], \"stack_to_render\": [{\"func_name\": \"modirit\", \"is_parent\": false, \"frame_id\": 1, \"parent_frame_id_list\": [], \"encoded_locals\": {\"lista\": [\"REF\", 2], \"i\": 1}, \"ordered_varnames\": [\"lista\", \"i\"], \"is_zombie\": false, \"is_highlighted\": true, \"unique_hash\": \"modirit_f1\"}], \"heap\": {\"2\": [\"LIST\", 16, 14, 5], \"1\": [\"FUNCTION\", \"modirit(lista)\", null]}, \"stdout\": \"\"}, {\"line\": 7, \"event\": \"step_line\", \"func_name\": \"modirit\", \"globals\": {\"modirit\": [\"REF\", 1], \"la\": [\"REF\", 2]}, \"ordered_globals\": [\"modirit\", \"la\"], \"stack_to_render\": [{\"func_name\": \"modirit\", \"is_parent\": false, \"frame_id\": 1, \"parent_frame_id_list\": [], \"encoded_locals\": {\"lista\": [\"REF\", 2], \"i\": 2}, \"ordered_varnames\": [\"lista\", \"i\"], \"is_zombie\": false, \"is_highlighted\": true, \"unique_hash\": \"modirit_f1\"}], \"heap\": {\"2\": [\"LIST\", 16, 14, 5], \"1\": [\"FUNCTION\", \"modirit(lista)\", null]}, \"stdout\": \"\"}, {\"line\": 6, \"event\": \"step_line\", \"func_name\": \"modirit\", \"globals\": {\"modirit\": [\"REF\", 1], \"la\": [\"REF\", 2]}, \"ordered_globals\": [\"modirit\", \"la\"], \"stack_to_render\": [{\"func_name\": \"modirit\", \"is_parent\": false, \"frame_id\": 1, \"parent_frame_id_list\": [], \"encoded_locals\": {\"lista\": [\"REF\", 2], \"i\": 2}, \"ordered_varnames\": [\"lista\", \"i\"], \"is_zombie\": false, \"is_highlighted\": true, \"unique_hash\": \"modirit_f1\"}], \"heap\": {\"2\": [\"LIST\", 16, 14, 10], \"1\": [\"FUNCTION\", \"modirit(lista)\", null]}, \"stdout\": \"\"}, {\"line\": 8, \"event\": \"step_line\", \"func_name\": \"modirit\", \"globals\": {\"modirit\": [\"REF\", 1], \"la\": [\"REF\", 2]}, \"ordered_globals\": [\"modirit\", \"la\"], \"stack_to_render\": [{\"func_name\": \"modirit\", \"is_parent\": false, \"frame_id\": 1, \"parent_frame_id_list\": [], \"encoded_locals\": {\"lista\": [\"REF\", 2], \"i\": 2}, \"ordered_varnames\": [\"lista\", \"i\"], \"is_zombie\": false, \"is_highlighted\": true, \"unique_hash\": \"modirit_f1\"}], \"heap\": {\"2\": [\"LIST\", 16, 14, 10], \"1\": [\"FUNCTION\", \"modirit(lista)\", null]}, \"stdout\": \"\"}, {\"line\": 8, \"event\": \"return\", \"func_name\": \"modirit\", \"globals\": {\"modirit\": [\"REF\", 1], \"la\": [\"REF\", 2]}, \"ordered_globals\": [\"modirit\", \"la\"], \"stack_to_render\": [{\"func_name\": \"modirit\", \"is_parent\": false, \"frame_id\": 1, \"parent_frame_id_list\": [], \"encoded_locals\": {\"lista\": [\"REF\", 2], \"i\": 2, \"__return__\": [\"REF\", 2]}, \"ordered_varnames\": [\"lista\", \"i\", \"__return__\"], \"is_zombie\": false, \"is_highlighted\": true, \"unique_hash\": \"modirit_f1\"}], \"heap\": {\"2\": [\"LIST\", 16, 14, 10], \"1\": [\"FUNCTION\", \"modirit(lista)\", null]}, \"stdout\": \"\"}, {\"line\": 12, \"event\": \"step_line\", \"func_name\": \"<module>\", \"globals\": {\"modirit\": [\"REF\", 1], \"la\": [\"REF\", 2]}, \"ordered_globals\": [\"modirit\", \"la\"], \"stack_to_render\": [], \"heap\": {\"1\": [\"FUNCTION\", \"modirit(lista)\", null], \"2\": [\"LIST\", 16, 14, 10]}, \"stdout\": \"[16, 14, 10]\\n\"}, {\"line\": 14, \"event\": \"step_line\", \"func_name\": \"<module>\", \"globals\": {\"modirit\": [\"REF\", 1], \"la\": [\"REF\", 2]}, \"ordered_globals\": [\"modirit\", \"la\"], \"stack_to_render\": [], \"heap\": {\"1\": [\"FUNCTION\", \"modirit(lista)\", null], \"2\": [\"LIST\", 16, 14, 10]}, \"stdout\": \"[16, 14, 10]\\n[16, 14, 10]\\n\"}, {\"line\": 15, \"event\": \"step_line\", \"func_name\": \"<module>\", \"globals\": {\"modirit\": [\"REF\", 1], \"la\": [\"REF\", 2], \"lb\": [\"REF\", 3]}, \"ordered_globals\": [\"modirit\", \"la\", \"lb\"], \"stack_to_render\": [], \"heap\": {\"1\": [\"FUNCTION\", \"modirit(lista)\", null], \"2\": [\"LIST\", 16, 14, 10], \"3\": [\"LIST\", 7, 5, 6]}, \"stdout\": \"[16, 14, 10]\\n[16, 14, 10]\\n\"}, {\"line\": 2, \"event\": \"call\", \"func_name\": \"modirit\", \"globals\": {\"modirit\": [\"REF\", 1], \"la\": [\"REF\", 2], \"lb\": [\"REF\", 3]}, \"ordered_globals\": [\"modirit\", \"la\", \"lb\"], \"stack_to_render\": [{\"func_name\": \"modirit\", \"is_parent\": false, \"frame_id\": 2, \"parent_frame_id_list\": [], \"encoded_locals\": {\"lista\": [\"REF\", 3]}, \"ordered_varnames\": [\"lista\"], \"is_zombie\": false, \"is_highlighted\": true, \"unique_hash\": \"modirit_f2\"}], \"heap\": {\"3\": [\"LIST\", 7, 5, 6], \"1\": [\"FUNCTION\", \"modirit(lista)\", null], \"2\": [\"LIST\", 16, 14, 10]}, \"stdout\": \"[16, 14, 10]\\n[16, 14, 10]\\n\"}, {\"line\": 6, \"event\": \"step_line\", \"func_name\": \"modirit\", \"globals\": {\"modirit\": [\"REF\", 1], \"la\": [\"REF\", 2], \"lb\": [\"REF\", 3]}, \"ordered_globals\": [\"modirit\", \"la\", \"lb\"], \"stack_to_render\": [{\"func_name\": \"modirit\", \"is_parent\": false, \"frame_id\": 2, \"parent_frame_id_list\": [], \"encoded_locals\": {\"lista\": [\"REF\", 3]}, \"ordered_varnames\": [\"lista\"], \"is_zombie\": false, \"is_highlighted\": true, \"unique_hash\": \"modirit_f2\"}], \"heap\": {\"3\": [\"LIST\", 7, 5, 6], \"1\": [\"FUNCTION\", \"modirit(lista)\", null], \"2\": [\"LIST\", 16, 14, 10]}, \"stdout\": \"[16, 14, 10]\\n[16, 14, 10]\\n\"}, {\"line\": 7, \"event\": \"step_line\", \"func_name\": \"modirit\", \"globals\": {\"modirit\": [\"REF\", 1], \"la\": [\"REF\", 2], \"lb\": [\"REF\", 3]}, \"ordered_globals\": [\"modirit\", \"la\", \"lb\"], \"stack_to_render\": [{\"func_name\": \"modirit\", \"is_parent\": false, \"frame_id\": 2, \"parent_frame_id_list\": [], \"encoded_locals\": {\"lista\": [\"REF\", 3], \"i\": 0}, \"ordered_varnames\": [\"lista\", \"i\"], \"is_zombie\": false, \"is_highlighted\": true, \"unique_hash\": \"modirit_f2\"}], \"heap\": {\"3\": [\"LIST\", 7, 5, 6], \"1\": [\"FUNCTION\", \"modirit(lista)\", null], \"2\": [\"LIST\", 16, 14, 10]}, \"stdout\": \"[16, 14, 10]\\n[16, 14, 10]\\n\"}, {\"line\": 6, \"event\": \"step_line\", \"func_name\": \"modirit\", \"globals\": {\"modirit\": [\"REF\", 1], \"la\": [\"REF\", 2], \"lb\": [\"REF\", 3]}, \"ordered_globals\": [\"modirit\", \"la\", \"lb\"], \"stack_to_render\": [{\"func_name\": \"modirit\", \"is_parent\": false, \"frame_id\": 2, \"parent_frame_id_list\": [], \"encoded_locals\": {\"lista\": [\"REF\", 3], \"i\": 0}, \"ordered_varnames\": [\"lista\", \"i\"], \"is_zombie\": false, \"is_highlighted\": true, \"unique_hash\": \"modirit_f2\"}], \"heap\": {\"3\": [\"LIST\", 14, 5, 6], \"1\": [\"FUNCTION\", \"modirit(lista)\", null], \"2\": [\"LIST\", 16, 14, 10]}, \"stdout\": \"[16, 14, 10]\\n[16, 14, 10]\\n\"}, {\"line\": 7, \"event\": \"step_line\", \"func_name\": \"modirit\", \"globals\": {\"modirit\": [\"REF\", 1], \"la\": [\"REF\", 2], \"lb\": [\"REF\", 3]}, \"ordered_globals\": [\"modirit\", \"la\", \"lb\"], \"stack_to_render\": [{\"func_name\": \"modirit\", \"is_parent\": false, \"frame_id\": 2, \"parent_frame_id_list\": [], \"encoded_locals\": {\"lista\": [\"REF\", 3], \"i\": 1}, \"ordered_varnames\": [\"lista\", \"i\"], \"is_zombie\": false, \"is_highlighted\": true, \"unique_hash\": \"modirit_f2\"}], \"heap\": {\"3\": [\"LIST\", 14, 5, 6], \"1\": [\"FUNCTION\", \"modirit(lista)\", null], \"2\": [\"LIST\", 16, 14, 10]}, \"stdout\": \"[16, 14, 10]\\n[16, 14, 10]\\n\"}, {\"line\": 6, \"event\": \"step_line\", \"func_name\": \"modirit\", \"globals\": {\"modirit\": [\"REF\", 1], \"la\": [\"REF\", 2], \"lb\": [\"REF\", 3]}, \"ordered_globals\": [\"modirit\", \"la\", \"lb\"], \"stack_to_render\": [{\"func_name\": \"modirit\", \"is_parent\": false, \"frame_id\": 2, \"parent_frame_id_list\": [], \"encoded_locals\": {\"lista\": [\"REF\", 3], \"i\": 1}, \"ordered_varnames\": [\"lista\", \"i\"], \"is_zombie\": false, \"is_highlighted\": true, \"unique_hash\": \"modirit_f2\"}], \"heap\": {\"3\": [\"LIST\", 14, 10, 6], \"1\": [\"FUNCTION\", \"modirit(lista)\", null], \"2\": [\"LIST\", 16, 14, 10]}, \"stdout\": \"[16, 14, 10]\\n[16, 14, 10]\\n\"}, {\"line\": 7, \"event\": \"step_line\", \"func_name\": \"modirit\", \"globals\": {\"modirit\": [\"REF\", 1], \"la\": [\"REF\", 2], \"lb\": [\"REF\", 3]}, \"ordered_globals\": [\"modirit\", \"la\", \"lb\"], \"stack_to_render\": [{\"func_name\": \"modirit\", \"is_parent\": false, \"frame_id\": 2, \"parent_frame_id_list\": [], \"encoded_locals\": {\"lista\": [\"REF\", 3], \"i\": 2}, \"ordered_varnames\": [\"lista\", \"i\"], \"is_zombie\": false, \"is_highlighted\": true, \"unique_hash\": \"modirit_f2\"}], \"heap\": {\"3\": [\"LIST\", 14, 10, 6], \"1\": [\"FUNCTION\", \"modirit(lista)\", null], \"2\": [\"LIST\", 16, 14, 10]}, \"stdout\": \"[16, 14, 10]\\n[16, 14, 10]\\n\"}, {\"line\": 6, \"event\": \"step_line\", \"func_name\": \"modirit\", \"globals\": {\"modirit\": [\"REF\", 1], \"la\": [\"REF\", 2], \"lb\": [\"REF\", 3]}, \"ordered_globals\": [\"modirit\", \"la\", \"lb\"], \"stack_to_render\": [{\"func_name\": \"modirit\", \"is_parent\": false, \"frame_id\": 2, \"parent_frame_id_list\": [], \"encoded_locals\": {\"lista\": [\"REF\", 3], \"i\": 2}, \"ordered_varnames\": [\"lista\", \"i\"], \"is_zombie\": false, \"is_highlighted\": true, \"unique_hash\": \"modirit_f2\"}], \"heap\": {\"3\": [\"LIST\", 14, 10, 12], \"1\": [\"FUNCTION\", \"modirit(lista)\", null], \"2\": [\"LIST\", 16, 14, 10]}, \"stdout\": \"[16, 14, 10]\\n[16, 14, 10]\\n\"}, {\"line\": 8, \"event\": \"step_line\", \"func_name\": \"modirit\", \"globals\": {\"modirit\": [\"REF\", 1], \"la\": [\"REF\", 2], \"lb\": [\"REF\", 3]}, \"ordered_globals\": [\"modirit\", \"la\", \"lb\"], \"stack_to_render\": [{\"func_name\": \"modirit\", \"is_parent\": false, \"frame_id\": 2, \"parent_frame_id_list\": [], \"encoded_locals\": {\"lista\": [\"REF\", 3], \"i\": 2}, \"ordered_varnames\": [\"lista\", \"i\"], \"is_zombie\": false, \"is_highlighted\": true, \"unique_hash\": \"modirit_f2\"}], \"heap\": {\"3\": [\"LIST\", 14, 10, 12], \"1\": [\"FUNCTION\", \"modirit(lista)\", null], \"2\": [\"LIST\", 16, 14, 10]}, \"stdout\": \"[16, 14, 10]\\n[16, 14, 10]\\n\"}, {\"line\": 8, \"event\": \"return\", \"func_name\": \"modirit\", \"globals\": {\"modirit\": [\"REF\", 1], \"la\": [\"REF\", 2], \"lb\": [\"REF\", 3]}, \"ordered_globals\": [\"modirit\", \"la\", \"lb\"], \"stack_to_render\": [{\"func_name\": \"modirit\", \"is_parent\": false, \"frame_id\": 2, \"parent_frame_id_list\": [], \"encoded_locals\": {\"lista\": [\"REF\", 3], \"i\": 2, \"__return__\": [\"REF\", 3]}, \"ordered_varnames\": [\"lista\", \"i\", \"__return__\"], \"is_zombie\": false, \"is_highlighted\": true, \"unique_hash\": \"modirit_f2\"}], \"heap\": {\"3\": [\"LIST\", 14, 10, 12], \"1\": [\"FUNCTION\", \"modirit(lista)\", null], \"2\": [\"LIST\", 16, 14, 10]}, \"stdout\": \"[16, 14, 10]\\n[16, 14, 10]\\n\"}, {\"line\": 16, \"event\": \"step_line\", \"func_name\": \"<module>\", \"globals\": {\"modirit\": [\"REF\", 1], \"la\": [\"REF\", 2], \"lb\": [\"REF\", 3]}, \"ordered_globals\": [\"modirit\", \"la\", \"lb\"], \"stack_to_render\": [], \"heap\": {\"1\": [\"FUNCTION\", \"modirit(lista)\", null], \"2\": [\"LIST\", 16, 14, 10], \"3\": [\"LIST\", 12, 10, 14]}, \"stdout\": \"[16, 14, 10]\\n[16, 14, 10]\\n\"}, {\"line\": 19, \"event\": \"step_line\", \"func_name\": \"<module>\", \"globals\": {\"modirit\": [\"REF\", 1], \"la\": [\"REF\", 2], \"lb\": [\"REF\", 3]}, \"ordered_globals\": [\"modirit\", \"la\", \"lb\"], \"stack_to_render\": [], \"heap\": {\"1\": [\"FUNCTION\", \"modirit(lista)\", null], \"2\": [\"LIST\", 16, 14, 10], \"3\": [\"LIST\", 12, 10, 14]}, \"stdout\": \"[16, 14, 10]\\n[16, 14, 10]\\n[12, 10, 14]\\n\"}, {\"line\": 19, \"event\": \"return\", \"func_name\": \"<module>\", \"globals\": {\"modirit\": [\"REF\", 1], \"la\": [\"REF\", 2], \"lb\": [\"REF\", 3]}, \"ordered_globals\": [\"modirit\", \"la\", \"lb\"], \"stack_to_render\": [], \"heap\": {\"1\": [\"FUNCTION\", \"modirit(lista)\", null], \"2\": [\"LIST\", 16, 14, 10], \"3\": [\"LIST\", 12, 10, 14]}, \"stdout\": \"[16, 14, 10]\\n[16, 14, 10]\\n[12, 10, 14]\\n[16, 14, 10]\\n\"}]}\n",
       "        </script>\n",
       "        <div id=\"jm394784fb-4812-499b-9b92-2ea2a36add2c\" class=\"pytutorVisualizer\"> </div>\n",
       " \n",
       "        <style>\n",
       "        .vizLayoutTd {\n",
       "            background-color: #fff !important;\n",
       "        }\n",
       "\n",
       "        #pyStdout {            \n",
       "            min-height:25px;\n",
       "        }\n",
       "\n",
       "        /* 'Edit this code' link, hiding because replaces browser tab !!!*/\n",
       "        #editCodeLinkDiv {\n",
       "            display:none;  \n",
       "        }\n",
       "        </style>   \n",
       "                            \n",
       "        <script>\n",
       "        (function(){\n",
       "\n",
       "            var trace = JSON.parse(document.getElementById('json-jm394784fb-4812-499b-9b92-2ea2a36add2c').innerHTML);                                        \n",
       "            // NOTE 1: id without #\n",
       "            // NOTE 2 - maybe there are more predictable ways, but this will work anyway\n",
       "            //        - id should be number\n",
       "            visualizerIdOverride = Math.trunc(Math.random() * 100000000000)\n",
       "            addVisualizerToPage(trace, 'jm394784fb-4812-499b-9b92-2ea2a36add2c',{'embeddedMode' : false,\n",
       "                                             'visualizerIdOverride':visualizerIdOverride})  \n",
       "            \n",
       "            \n",
       "            // set overflow for pytuts - need to do in python as css \n",
       "            // does not allow parent selection\n",
       "            var pytuts = $('.pytutorVisualizer')\n",
       "            pytuts.closest('div.output_html.rendered_html.output_result')\n",
       "                    .css('overflow-x', 'visible')\n",
       "        \n",
       "            //pytuts.closest('div.output_html.rendered_html.output_result')\n",
       "            //      .css('background-color','red')                \n",
       "            \n",
       "        })()\n",
       "        </script>\n",
       "                \n",
       "                "
      ],
      "text/plain": [
       "<IPython.core.display.HTML object>"
      ]
     },
     "execution_count": 87,
     "metadata": {},
     "output_type": "execute_result"
    }
   ],
   "source": [
    "def modirit(lista):\n",
    "    \"\"\"MODIFICA lista raddoppiando tutti i suoi elementi, \n",
    "       e infine RITORNA la lista di input\n",
    "    \"\"\"\n",
    "    for i in range(len(lista)):\n",
    "        lista[i] = lista[i] * 2\n",
    "    return lista\n",
    "\n",
    "la = [8,7,5]\n",
    "print(modirit(la))    # [16,14,10]  ha RITORNATO l'input modificato\n",
    "print(la)             # [16,14,10]  l'input la è stato MODIFICATO !!\n",
    "\n",
    "lb = [7,5,6]\n",
    "modirit(lb).reverse()    # NOTA CHE POSSIAMO CONCATENARE\n",
    "print(lb)                # [12,10,14]  l'input lb è stato MODIFICATO !!\n",
    "#modirit(lb).reverse().append(16)  # ... ma questo non funzionerebbe. Perchè?\n",
    "\n",
    "print(la)\n",
    "jupman.pytut()"
   ]
  },
  {
   "cell_type": "markdown",
   "metadata": {},
   "source": [
    "### MODIFICA E RITORNA UNA PARTE\n",
    "\n",
    "MODIFICA l'input e RITORNA una parte di esso\n",
    "\n",
    "- NON STAMPA niente!"
   ]
  },
  {
   "cell_type": "code",
   "execution_count": 88,
   "metadata": {},
   "outputs": [
    {
     "name": "stdout",
     "output_type": "stream",
     "text": [
      "c\n",
      "['a', 'b']\n"
     ]
    },
    {
     "data": {
      "text/html": [
       "\n",
       "        <script src=\"../_static/js/pytutor-embed.bundle.min.js\" type=\"application/javascript\"></script>\n",
       "     \n",
       "        <script id=\"json-jm60492f1f-2a56-4e2c-b99e-aceedf546104\" type=\"application/json\" >\n",
       "            {\"code\": \" \\ndef modirip(lista):\\n    \\\"\\\"\\\"MODIFICA lista affinch\\u00e8 diventi ordinata e l'elemento pi\\u00f9 grande sia rimosso,\\n       infine RITORNA l'elemento rimosso\\n    \\\"\\\"\\\"\\n    lista.sort()\\n    ret = lista[-1]\\n    lista.pop()\\n    return ret    \\n\\nla = ['b','c','a']\\nprint(modirip(la))    # 'c'        # ha RITORNATO un pezzo di input\\nprint(la)             # ['a','b']  # la \\u00e8 stata MODIFICATA!!\", \"trace\": [{\"line\": 2, \"event\": \"step_line\", \"func_name\": \"<module>\", \"globals\": {}, \"ordered_globals\": [], \"stack_to_render\": [], \"heap\": {}, \"stdout\": \"\"}, {\"line\": 11, \"event\": \"step_line\", \"func_name\": \"<module>\", \"globals\": {\"modirip\": [\"REF\", 1]}, \"ordered_globals\": [\"modirip\"], \"stack_to_render\": [], \"heap\": {\"1\": [\"FUNCTION\", \"modirip(lista)\", null]}, \"stdout\": \"\"}, {\"line\": 12, \"event\": \"step_line\", \"func_name\": \"<module>\", \"globals\": {\"modirip\": [\"REF\", 1], \"la\": [\"REF\", 2]}, \"ordered_globals\": [\"modirip\", \"la\"], \"stack_to_render\": [], \"heap\": {\"1\": [\"FUNCTION\", \"modirip(lista)\", null], \"2\": [\"LIST\", \"b\", \"c\", \"a\"]}, \"stdout\": \"\"}, {\"line\": 2, \"event\": \"call\", \"func_name\": \"modirip\", \"globals\": {\"modirip\": [\"REF\", 1], \"la\": [\"REF\", 2]}, \"ordered_globals\": [\"modirip\", \"la\"], \"stack_to_render\": [{\"func_name\": \"modirip\", \"is_parent\": false, \"frame_id\": 1, \"parent_frame_id_list\": [], \"encoded_locals\": {\"lista\": [\"REF\", 2]}, \"ordered_varnames\": [\"lista\"], \"is_zombie\": false, \"is_highlighted\": true, \"unique_hash\": \"modirip_f1\"}], \"heap\": {\"2\": [\"LIST\", \"b\", \"c\", \"a\"], \"1\": [\"FUNCTION\", \"modirip(lista)\", null]}, \"stdout\": \"\"}, {\"line\": 6, \"event\": \"step_line\", \"func_name\": \"modirip\", \"globals\": {\"modirip\": [\"REF\", 1], \"la\": [\"REF\", 2]}, \"ordered_globals\": [\"modirip\", \"la\"], \"stack_to_render\": [{\"func_name\": \"modirip\", \"is_parent\": false, \"frame_id\": 1, \"parent_frame_id_list\": [], \"encoded_locals\": {\"lista\": [\"REF\", 2]}, \"ordered_varnames\": [\"lista\"], \"is_zombie\": false, \"is_highlighted\": true, \"unique_hash\": \"modirip_f1\"}], \"heap\": {\"2\": [\"LIST\", \"b\", \"c\", \"a\"], \"1\": [\"FUNCTION\", \"modirip(lista)\", null]}, \"stdout\": \"\"}, {\"line\": 7, \"event\": \"step_line\", \"func_name\": \"modirip\", \"globals\": {\"modirip\": [\"REF\", 1], \"la\": [\"REF\", 2]}, \"ordered_globals\": [\"modirip\", \"la\"], \"stack_to_render\": [{\"func_name\": \"modirip\", \"is_parent\": false, \"frame_id\": 1, \"parent_frame_id_list\": [], \"encoded_locals\": {\"lista\": [\"REF\", 2]}, \"ordered_varnames\": [\"lista\"], \"is_zombie\": false, \"is_highlighted\": true, \"unique_hash\": \"modirip_f1\"}], \"heap\": {\"2\": [\"LIST\", \"a\", \"b\", \"c\"], \"1\": [\"FUNCTION\", \"modirip(lista)\", null]}, \"stdout\": \"\"}, {\"line\": 8, \"event\": \"step_line\", \"func_name\": \"modirip\", \"globals\": {\"modirip\": [\"REF\", 1], \"la\": [\"REF\", 2]}, \"ordered_globals\": [\"modirip\", \"la\"], \"stack_to_render\": [{\"func_name\": \"modirip\", \"is_parent\": false, \"frame_id\": 1, \"parent_frame_id_list\": [], \"encoded_locals\": {\"lista\": [\"REF\", 2], \"ret\": \"c\"}, \"ordered_varnames\": [\"lista\", \"ret\"], \"is_zombie\": false, \"is_highlighted\": true, \"unique_hash\": \"modirip_f1\"}], \"heap\": {\"2\": [\"LIST\", \"a\", \"b\", \"c\"], \"1\": [\"FUNCTION\", \"modirip(lista)\", null]}, \"stdout\": \"\"}, {\"line\": 9, \"event\": \"step_line\", \"func_name\": \"modirip\", \"globals\": {\"modirip\": [\"REF\", 1], \"la\": [\"REF\", 2]}, \"ordered_globals\": [\"modirip\", \"la\"], \"stack_to_render\": [{\"func_name\": \"modirip\", \"is_parent\": false, \"frame_id\": 1, \"parent_frame_id_list\": [], \"encoded_locals\": {\"lista\": [\"REF\", 2], \"ret\": \"c\"}, \"ordered_varnames\": [\"lista\", \"ret\"], \"is_zombie\": false, \"is_highlighted\": true, \"unique_hash\": \"modirip_f1\"}], \"heap\": {\"2\": [\"LIST\", \"a\", \"b\"], \"1\": [\"FUNCTION\", \"modirip(lista)\", null]}, \"stdout\": \"\"}, {\"line\": 9, \"event\": \"return\", \"func_name\": \"modirip\", \"globals\": {\"modirip\": [\"REF\", 1], \"la\": [\"REF\", 2]}, \"ordered_globals\": [\"modirip\", \"la\"], \"stack_to_render\": [{\"func_name\": \"modirip\", \"is_parent\": false, \"frame_id\": 1, \"parent_frame_id_list\": [], \"encoded_locals\": {\"lista\": [\"REF\", 2], \"ret\": \"c\", \"__return__\": \"c\"}, \"ordered_varnames\": [\"lista\", \"ret\", \"__return__\"], \"is_zombie\": false, \"is_highlighted\": true, \"unique_hash\": \"modirip_f1\"}], \"heap\": {\"2\": [\"LIST\", \"a\", \"b\"], \"1\": [\"FUNCTION\", \"modirip(lista)\", null]}, \"stdout\": \"\"}, {\"line\": 13, \"event\": \"step_line\", \"func_name\": \"<module>\", \"globals\": {\"modirip\": [\"REF\", 1], \"la\": [\"REF\", 2]}, \"ordered_globals\": [\"modirip\", \"la\"], \"stack_to_render\": [], \"heap\": {\"1\": [\"FUNCTION\", \"modirip(lista)\", null], \"2\": [\"LIST\", \"a\", \"b\"]}, \"stdout\": \"c\\n\"}, {\"line\": 13, \"event\": \"return\", \"func_name\": \"<module>\", \"globals\": {\"modirip\": [\"REF\", 1], \"la\": [\"REF\", 2]}, \"ordered_globals\": [\"modirip\", \"la\"], \"stack_to_render\": [], \"heap\": {\"1\": [\"FUNCTION\", \"modirip(lista)\", null], \"2\": [\"LIST\", \"a\", \"b\"]}, \"stdout\": \"c\\n['a', 'b']\\n\"}]}\n",
       "        </script>\n",
       "        <div id=\"jm60492f1f-2a56-4e2c-b99e-aceedf546104\" class=\"pytutorVisualizer\"> </div>\n",
       " \n",
       "        <style>\n",
       "        .vizLayoutTd {\n",
       "            background-color: #fff !important;\n",
       "        }\n",
       "\n",
       "        #pyStdout {            \n",
       "            min-height:25px;\n",
       "        }\n",
       "\n",
       "        /* 'Edit this code' link, hiding because replaces browser tab !!!*/\n",
       "        #editCodeLinkDiv {\n",
       "            display:none;  \n",
       "        }\n",
       "        </style>   \n",
       "                            \n",
       "        <script>\n",
       "        (function(){\n",
       "\n",
       "            var trace = JSON.parse(document.getElementById('json-jm60492f1f-2a56-4e2c-b99e-aceedf546104').innerHTML);                                        \n",
       "            // NOTE 1: id without #\n",
       "            // NOTE 2 - maybe there are more predictable ways, but this will work anyway\n",
       "            //        - id should be number\n",
       "            visualizerIdOverride = Math.trunc(Math.random() * 100000000000)\n",
       "            addVisualizerToPage(trace, 'jm60492f1f-2a56-4e2c-b99e-aceedf546104',{'embeddedMode' : false,\n",
       "                                             'visualizerIdOverride':visualizerIdOverride})  \n",
       "            \n",
       "            \n",
       "            // set overflow for pytuts - need to do in python as css \n",
       "            // does not allow parent selection\n",
       "            var pytuts = $('.pytutorVisualizer')\n",
       "            pytuts.closest('div.output_html.rendered_html.output_result')\n",
       "                    .css('overflow-x', 'visible')\n",
       "        \n",
       "            //pytuts.closest('div.output_html.rendered_html.output_result')\n",
       "            //      .css('background-color','red')                \n",
       "            \n",
       "        })()\n",
       "        </script>\n",
       "                \n",
       "                "
      ],
      "text/plain": [
       "<IPython.core.display.HTML object>"
      ]
     },
     "execution_count": 88,
     "metadata": {},
     "output_type": "execute_result"
    }
   ],
   "source": [
    "def modirip(lista):\n",
    "    \"\"\"MODIFICA lista affinchè diventi ordinata e l'elemento più grande sia rimosso,\n",
    "       infine RITORNA l'elemento rimosso\n",
    "    \"\"\"\n",
    "    lista.sort()\n",
    "    ret = lista[-1]\n",
    "    lista.pop()\n",
    "    return ret    \n",
    "\n",
    "la = ['b','c','a']\n",
    "print(modirip(la))    # 'c'        # ha RITORNATO un pezzo di input\n",
    "print(la)             # ['a','b']  # la è stata MODIFICATA!!\n",
    "jupman.pytut()"
   ]
  },
  {
   "cell_type": "markdown",
   "metadata": {},
   "source": [
    "## Esercizi - Si cambia musica\n",
    "\n",
    "E' arrivato il momento di capire meglio cosa stiamo facendo quando traffichiamo con le variabili e le chiamate di funzioni. \n",
    "\n",
    "Abbiamo un `album` di canzoni impolverato che ci ha passato uno zio nostalgico che chissà perchè da decenni si rifiuta di accendere la radio:"
   ]
  },
  {
   "cell_type": "code",
   "execution_count": 44,
   "metadata": {},
   "outputs": [],
   "source": [
    "album = [\n",
    "    \"Caterina Caselli - Cento giorni\",\n",
    "    \"Delirium - Jesahel\",\n",
    "    \"Jan Hammer - Crockett's Theme\",\n",
    "    \"Sonata Arctica - White Pearl, Black Oceans\",\n",
    "    \"Lucio Dalla - 4 marzo 1943.mp3\",\n",
    "    \"The Wellermen - Wellerman\",    \n",
    "    \"Manu Chao - Por el Suelo\",\n",
    "    \"Intillimani - El Pueblo Unido\"\n",
    "]"
   ]
  },
  {
   "cell_type": "markdown",
   "metadata": {},
   "source": [
    "Le canzoni sono riportate con il gruppo, un trattino `-` e infine il nome. Forti delle nostre nuove conoscenze, decidiamo di avvalerci delle moderne tecniche di sviluppo software per analizzare questi misteriosi reperti audio del passato. "
   ]
  },
  {
   "cell_type": "markdown",
   "metadata": {},
   "source": [
    "Di seguito troverai diversi esercizi che ti chiederanno di sviluppare delle funzioni: spesso realizzare qualcosa che sembra funzionare è relativamente facile, **la vera sfida è seguire fedelmente quanto richiesto dal testo della funzione**: poni particolare attenzione alle parole in maiuscolo, come STAMPA, MODIFICA, RITORNA, e agli output desiderati, cercando di capire a quale categoria appartengono le varie funzioni."
   ]
  },
  {
   "cell_type": "markdown",
   "metadata": {},
   "source": [
    "Gli esercizi vanno tutti risolti seguendo questo schema:\n",
    "\n",
    "```python\n",
    "album = ...\n",
    "\n",
    "def funz(canzoni):\n",
    "    # fai qualcosa con canzoni, NON con album\n",
    "    # ....    \n",
    "    \n",
    "funz(album)  # chiamate per testare, esterne al corpo della funzione\n",
    "```"
   ]
  },
  {
   "cell_type": "markdown",
   "metadata": {},
   "source": [
    "<div class=\"warning alert-warning\">\n",
    "\n",
    "**ATTENZIONE: NON SCRIVERE NOMI DI VARIABILI ESTERNE DENTRO LA FUNZIONE**\n",
    "    \n",
    "Per esempio, **NON** scrivere `album`, in particolare **NON** riassegnarlo (niente `album =`)\n",
    "    \n",
    "Una funzione tipicamente va vista come un mondo isolato, che dovrebbe interagire con l'esterno SOLO attraverso i parametri passati. Scrivere esplicitamente `album = ...` scavalca questo isolamento ed è garantito portare sfortuna.\n",
    "</div>    "
   ]
  },
  {
   "cell_type": "markdown",
   "metadata": {},
   "source": [
    "<div class=\"warning alert-warning\">\n",
    "\n",
    "**ATTENZIONE: USA SEMPRE UN NOME DI PARAMETRO DIVERSO DALLE VARIABILI ESTERNE**\n",
    "    \n",
    "Per es, se i dati esterni si chiamano `album`, puoi chiamare il parametro `canzoni`\n",
    "</div>        "
   ]
  },
  {
   "cell_type": "markdown",
   "metadata": {},
   "source": [
    "\n",
    "### Esercizio - mostra\n",
    "\n",
    "Scrivi una funzione che data una lista di `canzoni`, le STAMPA con il gruppo giustificato a destra seguito da `:` e il nome della canzone\n",
    "\n",
    "- **SUGGERIMENTO**: per giustificare il testo, usa il metodo delle stringhe `.rjust(16)`\n",
    "\n",
    "```python\n",
    ">>> ris = mostra(album)  # stampa solo, implicitamente ritorna None\n",
    "```\n",
    "```\n",
    "Caterina Caselli: Cento giorni\n",
    "        Delirium: Jesahel\n",
    "      Jan Hammer: Crockett's Theme\n",
    "  Sonata Arctica: White Pearl, Black Oceans\n",
    "     Lucio Dalla: 4 marzo 1943.mp3\n",
    "   The Wellermen: Wellerman\n",
    "       Manu Chao: Por el Suelo\n",
    "     Intillimani: El Pueblo Unido\n",
    "```\n",
    "```python\n",
    ">>> ris\n",
    "None\n",
    "```"
   ]
  },
  {
   "cell_type": "code",
   "execution_count": 89,
   "metadata": {},
   "outputs": [
    {
     "name": "stdout",
     "output_type": "stream",
     "text": [
      "Caterina Caselli: Cento giorni\n",
      "        Delirium: Jesahel\n",
      "      Jan Hammer: Crockett's Theme\n",
      "  Sonata Arctica: White Pearl, Black Oceans\n",
      "     Lucio Dalla: 4 marzo 1943.mp3\n",
      "   The Wellermen: Wellerman\n",
      "       Manu Chao: Por el Suelo\n",
      "     Intillimani: El Pueblo Unido\n"
     ]
    }
   ],
   "source": [
    "#jupman-purge-output\n",
    "album = [\n",
    "    \"Caterina Caselli - Cento giorni\",\n",
    "    \"Delirium - Jesahel\",\n",
    "    \"Jan Hammer - Crockett's Theme\",\n",
    "    \"Sonata Arctica - White Pearl, Black Oceans\",\n",
    "    \"Lucio Dalla - 4 marzo 1943.mp3\",\n",
    "    \"The Wellermen - Wellerman\",    \n",
    "    \"Manu Chao - Por el Suelo\",\n",
    "    \"Intillimani - El Pueblo Unido\"\n",
    "]\n",
    "\n",
    "# scrivi qui\n",
    "\n",
    "#categoria: side effects\n",
    "\n",
    "def mostra(canzoni):\n",
    "    for canzone in canzoni:\n",
    "        parti = canzone.split(' - ')        \n",
    "        print(parti[0].rjust(16) + ':' + ' ' + parti[1])\n",
    "        \n",
    "mostra(album)        "
   ]
  },
  {
   "cell_type": "markdown",
   "metadata": {},
   "source": [
    "### Esercizio - autori\n",
    "\n",
    "Scrivi una funzione che data una lista di `canzoni` RITORNA una NUOVA lista con solo gli autori\n",
    "\n",
    "```python\n",
    ">>> autori(album)\n",
    "['Caterina Caselli', 'Delirium', 'Jan Hammer', 'Sonata Arctica', 'Lucio Dalla', 'The Wellermen', 'Manu Chao', 'Intillimani']\n",
    "\n",
    ">>> album  \n",
    "['Caterina Caselli - Cento giorni',\n",
    " 'Delirium - Jesahel',\n",
    " \"Jan Hammer - Crockett's Theme\",\n",
    " 'Sonata Arctica - White Pearl, Black Oceans',\n",
    " \"Lucio Dalla - 4 marzo 1943.mp3\",\n",
    " 'The Wellermen - Wellerman',\n",
    " 'Manu Chao - Por el Suelo',\n",
    " 'Intillimani - El Pueblo Unido']\n",
    "```"
   ]
  },
  {
   "cell_type": "code",
   "execution_count": 56,
   "metadata": {},
   "outputs": [
    {
     "name": "stdout",
     "output_type": "stream",
     "text": [
      "['Caterina Caselli', 'Delirium', 'Jan Hammer', 'Sonata Arctica', 'Lucio Dalla', 'The Wellermen', 'Manu Chao', 'Intillimani']\n"
     ]
    },
    {
     "data": {
      "text/plain": [
       "['Caterina Caselli - Cento giorni',\n",
       " 'Delirium - Jesahel',\n",
       " \"Jan Hammer - Crockett's Theme\",\n",
       " 'Sonata Arctica - White Pearl, Black Oceans',\n",
       " 'Lucio Dalla - 4 marzo 1943.mp3',\n",
       " 'The Wellermen - Wellerman',\n",
       " 'Manu Chao - Por el Suelo',\n",
       " 'Intillimani - El Pueblo Unido']"
      ]
     },
     "execution_count": 56,
     "metadata": {},
     "output_type": "execute_result"
    }
   ],
   "source": [
    "#jupman-purge-output\n",
    "album = [\n",
    "    \"Caterina Caselli - Cento giorni\",\n",
    "    \"Delirium - Jesahel\",\n",
    "    \"Jan Hammer - Crockett's Theme\",\n",
    "    \"Sonata Arctica - White Pearl, Black Oceans\",\n",
    "    \"Lucio Dalla - 4 marzo 1943.mp3\",\n",
    "    \"The Wellermen - Wellerman\",    \n",
    "    \"Manu Chao - Por el Suelo\",\n",
    "    \"Intillimani - El Pueblo Unido\"\n",
    "]\n",
    "\n",
    "# scrivi qui   \n",
    "\n",
    "#categoria: ritornola    \n",
    "\n",
    "#NOTA: Non ci sono comandi print nel corpo della funzione !\n",
    "\n",
    "def autori(canzoni):\n",
    "    ret = []\n",
    "    for canzone in canzoni:\n",
    "        ret.append(canzone.split(' - ')[0])\n",
    "    return ret\n",
    "\n",
    "print(autori(album))\n",
    "album"
   ]
  },
  {
   "cell_type": "markdown",
   "metadata": {},
   "source": [
    "### Esercizio - registra\n",
    "\n",
    "Scrivi una funzione che date due liste `canzoniA` e `canzoniB`, MODIFICA `canzoniA` sovrascrivendola con il contenuto di `canzoniB`. Se `canzoniB` ha meno elementi di `canzoniA`, riempi gli spazi restanti con `None`.\n",
    "\n",
    "- supponi che `canzoniB` abbia al massimo lo stesso numero di canzoni di `canzoniA`\n",
    "- **NON** riassegnare `album` (niente `album =` )\n",
    "\n",
    "```python\n",
    "# non ritorna nulla !\n",
    ">>> registra(album, [\"Toto Cotugno - L'Italiano vero\", \"Mia Martini - Minuetto\", \"Al Bano-NEL SOLE\"]) \n",
    "\n",
    ">>> album   # il parametro è stato modificato\n",
    "[\"Toto Cotugno - L'Italiano vero\",\n",
    " \"Mia Martini - Minuetto\",\n",
    " \"Al Bano - Nel sole\",\n",
    " None,\n",
    " None,\n",
    " None,\n",
    " None,\n",
    " None]\n",
    "```"
   ]
  },
  {
   "cell_type": "code",
   "execution_count": 60,
   "metadata": {},
   "outputs": [
    {
     "data": {
      "text/plain": [
       "[\"Toto Cotugno - L'Italiano vero\",\n",
       " 'Mia Martini - Minuetto',\n",
       " 'Al Bano- Nel sole',\n",
       " None,\n",
       " None,\n",
       " None,\n",
       " None,\n",
       " None]"
      ]
     },
     "execution_count": 60,
     "metadata": {},
     "output_type": "execute_result"
    }
   ],
   "source": [
    "#jupman-purge-output\n",
    "album = [\n",
    "    \"Caterina Caselli - Cento giorni\",\n",
    "    \"Delirium - Jesahel\",\n",
    "    \"Jan Hammer - Crockett's Theme\",\n",
    "    \"Sonata Arctica - White Pearl, Black Oceans\",\n",
    "    \"Lucio Dalla - 4 marzo 1943.mp3\",\n",
    "    \"The Wellermen - Wellerman\",    \n",
    "    \"Manu Chao - Por el Suelo\",\n",
    "    \"Intillimani - El Pueblo Unido\"\n",
    "]\n",
    "\n",
    "# scrivi qui\n",
    "\n",
    "#categoria: modifanta\n",
    "\n",
    "def registra(canzoniA, canzoniB):\n",
    "    \n",
    "    for i in range(len(canzoniB)):\n",
    "        canzoniA[i] = canzoniB[i]\n",
    "    i += 1\n",
    "    while i < len(canzoniA):\n",
    "        canzoniA[i] = None\n",
    "        i += 1\n",
    "\n",
    "registra(album, [\"Toto Cotugno - L'Italiano vero\", \"Mia Martini - Minuetto\", \"Al Bano- Nel sole\"])\n",
    "album"
   ]
  },
  {
   "cell_type": "markdown",
   "metadata": {},
   "source": [
    "### Esercizio - grande\n",
    "\n",
    "Scrivi una funzione che data una lista di `canzoni` MODIFICA la lista ponendo tutti i caratteri in maiuscolo, e poi la RITORNA\n",
    "\n",
    "* **NON** riassegnare `album` (niente `album =`)\n",
    "\n",
    "Esempio:\n",
    "\n",
    "```python\n",
    ">>> grande(album)   # ritorna \n",
    "['CATERINA CASELLI - CENTO GIORNI',\n",
    " 'DELIRIUM - JESAHEL',\n",
    " \"JAN HAMMER - CROCKETT'S THEME\",\n",
    " 'SONATA ARCTICA - WHITE PEARL, BLACK OCEANS',\n",
    " 'LUCIO DALLA - 4 MARZO 1943.MP3',\n",
    " 'THE WELLERMEN - WELLERMAN',\n",
    " 'MANU CHAO - POR EL SUELO',\n",
    " 'INTILLIMANI - EL PUEBLO UNIDO']\n",
    "\n",
    ">>> album          # il parametro è stato modificato\n",
    "['CATERINA CASELLI - CENTO GIORNI',\n",
    " 'DELIRIUM - JESAHEL',\n",
    " \"JAN HAMMER - CROCKETT'S THEME\",\n",
    " 'SONATA ARCTICA - WHITE PEARL, BLACK OCEANS',\n",
    " 'LUCIO DALLA - 4 MARZO 1943.MP3',\n",
    " 'THE WELLERMEN - WELLERMAN',\n",
    " 'MANU CHAO - POR EL SUELO',\n",
    " 'INTILLIMANI - EL PUEBLO UNIDO']\n",
    "```"
   ]
  },
  {
   "cell_type": "code",
   "execution_count": 90,
   "metadata": {},
   "outputs": [
    {
     "name": "stdout",
     "output_type": "stream",
     "text": [
      "['CATERINA CASELLI - CENTO GIORNI', 'DELIRIUM - JESAHEL', \"JAN HAMMER - CROCKETT'S THEME\", 'SONATA ARCTICA - WHITE PEARL, BLACK OCEANS', 'LUCIO DALLA - 4 MARZO 1943.MP3', 'THE WELLERMEN - WELLERMAN', 'MANU CHAO - POR EL SUELO', 'INTILLIMANI - EL PUEBLO UNIDO']\n",
      "\n"
     ]
    },
    {
     "data": {
      "text/plain": [
       "['CATERINA CASELLI - CENTO GIORNI',\n",
       " 'DELIRIUM - JESAHEL',\n",
       " \"JAN HAMMER - CROCKETT'S THEME\",\n",
       " 'SONATA ARCTICA - WHITE PEARL, BLACK OCEANS',\n",
       " 'LUCIO DALLA - 4 MARZO 1943.MP3',\n",
       " 'THE WELLERMEN - WELLERMAN',\n",
       " 'MANU CHAO - POR EL SUELO',\n",
       " 'INTILLIMANI - EL PUEBLO UNIDO']"
      ]
     },
     "execution_count": 90,
     "metadata": {},
     "output_type": "execute_result"
    }
   ],
   "source": [
    "#jupman-purge-output\n",
    "album = [\n",
    "    \"Caterina Caselli - Cento giorni\",\n",
    "    \"Delirium - Jesahel\",\n",
    "    \"Jan Hammer - Crockett's Theme\",\n",
    "    \"Sonata Arctica - White Pearl, Black Oceans\",\n",
    "    \"Lucio Dalla - 4 marzo 1943.mp3\",\n",
    "    \"The Wellermen - Wellerman\",    \n",
    "    \"Manu Chao - Por el Suelo\",\n",
    "    \"Intillimani - El Pueblo Unido\"\n",
    "]\n",
    "\n",
    "# scrivi qui\n",
    "\n",
    "#categoria: modirit\n",
    "\n",
    "def grande(canzoni):    \n",
    "    for i in range(len(canzoni)):\n",
    "        canzoni[i] = canzoni[i].upper()\n",
    "    return canzoni\n",
    "\n",
    "print(grande(album))\n",
    "print()\n",
    "album"
   ]
  },
  {
   "cell_type": "markdown",
   "metadata": {},
   "source": [
    "### Esercizio - accorcia\n",
    "\n",
    "Scrivi una funzione che data una lista di `canzoni` e un numero `n`, MODIFICA `canzoni` accorciandola affinchè abbia solo `n` canzoni, e RITORNA una NUOVA lista con gli elementi rimossi\n",
    "\n",
    "- **USA** un nome di parametro diverso da `album`\n",
    "- **NON** riassegnare `album` (niente `album =`)\n",
    "\n",
    "Esempio:\n",
    "\n",
    "```python\n",
    ">>> accorcia(album, 3)  # ritorna \n",
    "[   \"Sonata Arctica - White Pearl, Black Oceans\",\n",
    "    \"Lucio Dalla - 4 marzo 1943.mp3\",\n",
    "    \"The Wellermen - Wellerman\",    \n",
    "    \"Manu Chao - Por el Suelo\",\n",
    "    \"Intillimani - El Pueblo Unido\"\n",
    "]\n",
    ">>> album               # il parametro è stato modificato\n",
    "[   \"Caterina Caselli - Cento giorni\",\n",
    "    \"Delirium - Jesahel\",\n",
    "    \"Jan Hammer - Crockett's Theme\",\n",
    "]\n",
    "```"
   ]
  },
  {
   "cell_type": "code",
   "execution_count": 11,
   "metadata": {},
   "outputs": [],
   "source": [
    "#jupman-purge-output\n",
    "album = [\n",
    "    \"Caterina Caselli - Cento giorni\",\n",
    "    \"Delirium - Jesahel\",\n",
    "    \"Jan Hammer - Crockett's Theme\",\n",
    "    \"Sonata Arctica - White Pearl, Black Oceans\",\n",
    "    \"Lucio Dalla - 4 marzo 1943.mp3\",\n",
    "    \"The Wellermen - Wellerman\",    \n",
    "    \"Manu Chao - Por el Suelo\",\n",
    "    \"Intillimani - El Pueblo Unido\"\n",
    "]\n",
    "\n",
    "# scrivi qui\n",
    "\n",
    "#categoria: modirip \n",
    "\n",
    "def accorcia(canzoni, n):\n",
    "    ret = []\n",
    "    for i in range(max(len(canzoni), n)):\n",
    "        ret.append(canzoni.pop())\n",
    "    ret.reverse()\n",
    "    return ret"
   ]
  },
  {
   "cell_type": "markdown",
   "metadata": {},
   "source": [
    "## Esercizi"
   ]
  },
  {
   "cell_type": "markdown",
   "metadata": {},
   "source": [
    "\n",
    "### somma\n",
    "\n",
    "✪ Scrivi una funzione `somma` che dati due numeri x e y RITORNA la loro somma"
   ]
  },
  {
   "cell_type": "code",
   "execution_count": 12,
   "metadata": {},
   "outputs": [],
   "source": [
    "# scrivi qui\n",
    "\n",
    "def somma(x,y):\n",
    "    return x + y\n"
   ]
  },
  {
   "cell_type": "code",
   "execution_count": 13,
   "metadata": {},
   "outputs": [
    {
     "name": "stdout",
     "output_type": "stream",
     "text": [
      "9\n"
     ]
    }
   ],
   "source": [
    "s = somma(3,6)\n",
    "print(s)"
   ]
  },
  {
   "cell_type": "code",
   "execution_count": 14,
   "metadata": {},
   "outputs": [
    {
     "name": "stdout",
     "output_type": "stream",
     "text": [
      "2\n"
     ]
    }
   ],
   "source": [
    "s = somma(-1,3)\n",
    "print(s)"
   ]
  },
  {
   "cell_type": "markdown",
   "metadata": {},
   "source": [
    "### comparap\n",
    "\n",
    "✪ Scrivi una funzione `comparap` che dati due numeri `x` e `y`, STAMPA  `x è maggiore di y`, `x è minore di y` o `x è uguale a y`\n",
    " \n",
    "**NOTA**: nella stampa, metti i numeri veri.  Per es `comparap(10,5)` dovrebbe stampare:\n",
    "\n",
    "    10 è maggiore di 5\n",
    "\n",
    "**SUGGERIMENTO**: per stampare numeri e testo, usa le virgole nella `print`:\n",
    "\n",
    "```python\n",
    "print(x, \" è maggiore di \")\n",
    "```"
   ]
  },
  {
   "cell_type": "code",
   "execution_count": 15,
   "metadata": {},
   "outputs": [],
   "source": [
    "# scrivi qui\n",
    "def comparap(x,y):\n",
    "    if x > y:\n",
    "        print(x, \" è maggiore di \", y)\n",
    "    elif x < y:\n",
    "        print(x, \" è minore di \", y)\n",
    "    else:\n",
    "        print(x, \" è uguale a \", y)"
   ]
  },
  {
   "cell_type": "code",
   "execution_count": 16,
   "metadata": {},
   "outputs": [
    {
     "name": "stdout",
     "output_type": "stream",
     "text": [
      "10  è maggiore di  5\n"
     ]
    }
   ],
   "source": [
    "comparap(10,5)"
   ]
  },
  {
   "cell_type": "code",
   "execution_count": 17,
   "metadata": {},
   "outputs": [
    {
     "name": "stdout",
     "output_type": "stream",
     "text": [
      "3  è minore di  8\n"
     ]
    }
   ],
   "source": [
    "comparap(3,8)"
   ]
  },
  {
   "cell_type": "code",
   "execution_count": 18,
   "metadata": {},
   "outputs": [
    {
     "name": "stdout",
     "output_type": "stream",
     "text": [
      "3  è uguale a  3\n"
     ]
    }
   ],
   "source": [
    "comparap(3,3)"
   ]
  },
  {
   "cell_type": "markdown",
   "metadata": {},
   "source": [
    "### comparar\n",
    "\n",
    "✪ Scrivi una funzione `comparar` che dati due numeri `x` e `y`, RITORNA la STRINGA  `'>'` se `x` è maggiore di `y`, la STRINGA `'<'` se `x` è minore di `y` oppure la STRINGA `'=='` se `x` è uguale a `y`\n",
    " \n"
   ]
  },
  {
   "cell_type": "code",
   "execution_count": 19,
   "metadata": {},
   "outputs": [],
   "source": [
    "# scrivi qui\n",
    "def comparar(x,y):\n",
    "    if x > y:\n",
    "        return '>'\n",
    "    elif x < y:\n",
    "        return '<'\n",
    "    else:\n",
    "        return '=='"
   ]
  },
  {
   "cell_type": "code",
   "execution_count": 20,
   "metadata": {},
   "outputs": [
    {
     "name": "stdout",
     "output_type": "stream",
     "text": [
      ">\n"
     ]
    }
   ],
   "source": [
    "c = comparar(10,5)\n",
    "print(c)"
   ]
  },
  {
   "cell_type": "code",
   "execution_count": 21,
   "metadata": {},
   "outputs": [
    {
     "name": "stdout",
     "output_type": "stream",
     "text": [
      "<\n"
     ]
    }
   ],
   "source": [
    "c = comparar(3,7)\n",
    "print(c)"
   ]
  },
  {
   "cell_type": "code",
   "execution_count": 22,
   "metadata": {},
   "outputs": [
    {
     "name": "stdout",
     "output_type": "stream",
     "text": [
      "==\n"
     ]
    }
   ],
   "source": [
    "c = comparar(3,3)\n",
    "print(c)"
   ]
  },
  {
   "cell_type": "markdown",
   "metadata": {},
   "source": [
    "### pari\n",
    "\n",
    "✪ Scrivi una funzione `pari` che dato un numero `x` RITORNA `True` se il numero `x` in ingresso è pari, altrimenti ritorna `False`\n",
    "\n",
    "**SUGGERIMENTO**: un numero è pari quando il resto della divisione per due è zero. Per ottenere il resto della divisione, scrivere `x % 2`. "
   ]
  },
  {
   "cell_type": "code",
   "execution_count": 23,
   "metadata": {},
   "outputs": [
    {
     "data": {
      "text/plain": [
       "0"
      ]
     },
     "execution_count": 23,
     "metadata": {},
     "output_type": "execute_result"
    }
   ],
   "source": [
    "# Esempio:\n",
    "2 % 2"
   ]
  },
  {
   "cell_type": "code",
   "execution_count": 24,
   "metadata": {},
   "outputs": [
    {
     "data": {
      "text/plain": [
       "1"
      ]
     },
     "execution_count": 24,
     "metadata": {},
     "output_type": "execute_result"
    }
   ],
   "source": [
    "3 % 2"
   ]
  },
  {
   "cell_type": "code",
   "execution_count": 25,
   "metadata": {},
   "outputs": [
    {
     "data": {
      "text/plain": [
       "0"
      ]
     },
     "execution_count": 25,
     "metadata": {},
     "output_type": "execute_result"
    }
   ],
   "source": [
    "4 % 2"
   ]
  },
  {
   "cell_type": "code",
   "execution_count": 26,
   "metadata": {},
   "outputs": [
    {
     "data": {
      "text/plain": [
       "1"
      ]
     },
     "execution_count": 26,
     "metadata": {},
     "output_type": "execute_result"
    }
   ],
   "source": [
    "5 % 2"
   ]
  },
  {
   "cell_type": "code",
   "execution_count": 27,
   "metadata": {},
   "outputs": [],
   "source": [
    "# scrivi qui\n",
    "def pari(x):\n",
    "    return x % 2 == 0"
   ]
  },
  {
   "cell_type": "code",
   "execution_count": 28,
   "metadata": {},
   "outputs": [
    {
     "name": "stdout",
     "output_type": "stream",
     "text": [
      "True\n"
     ]
    }
   ],
   "source": [
    "p = pari(2)\n",
    "print(p)"
   ]
  },
  {
   "cell_type": "code",
   "execution_count": 29,
   "metadata": {},
   "outputs": [
    {
     "name": "stdout",
     "output_type": "stream",
     "text": [
      "False\n"
     ]
    }
   ],
   "source": [
    "p = pari(3)\n",
    "print(p)"
   ]
  },
  {
   "cell_type": "code",
   "execution_count": 30,
   "metadata": {},
   "outputs": [
    {
     "name": "stdout",
     "output_type": "stream",
     "text": [
      "True\n"
     ]
    }
   ],
   "source": [
    "p = pari(4)\n",
    "print(p)"
   ]
  },
  {
   "cell_type": "code",
   "execution_count": 31,
   "metadata": {},
   "outputs": [
    {
     "name": "stdout",
     "output_type": "stream",
     "text": [
      "False\n"
     ]
    }
   ],
   "source": [
    "p = pari(5)\n",
    "print(p)"
   ]
  },
  {
   "cell_type": "code",
   "execution_count": 32,
   "metadata": {},
   "outputs": [
    {
     "name": "stdout",
     "output_type": "stream",
     "text": [
      "True\n"
     ]
    }
   ],
   "source": [
    "p = pari(0)\n",
    "print(p)"
   ]
  },
  {
   "cell_type": "markdown",
   "metadata": {},
   "source": [
    "### mag\n",
    "\n",
    "✪ Scrivi una funzione che dati due numeri `x` e `y` RITORNA il numero maggiore. \n",
    "\n",
    "Se sono uguali, RITORNA un numero qualsiasi."
   ]
  },
  {
   "cell_type": "code",
   "execution_count": 33,
   "metadata": {},
   "outputs": [],
   "source": [
    "# scrivi qui\n",
    "\n",
    "def mag(x,y):\n",
    "    if x > y:\n",
    "        return x\n",
    "    else:\n",
    "        return y\n"
   ]
  },
  {
   "cell_type": "code",
   "execution_count": 34,
   "metadata": {},
   "outputs": [
    {
     "name": "stdout",
     "output_type": "stream",
     "text": [
      "5\n"
     ]
    }
   ],
   "source": [
    "m = mag(3,5)\n",
    "print(m)"
   ]
  },
  {
   "cell_type": "code",
   "execution_count": 35,
   "metadata": {},
   "outputs": [
    {
     "name": "stdout",
     "output_type": "stream",
     "text": [
      "6\n"
     ]
    }
   ],
   "source": [
    "m = mag(6,2)\n",
    "print(m)"
   ]
  },
  {
   "cell_type": "code",
   "execution_count": 36,
   "metadata": {},
   "outputs": [
    {
     "name": "stdout",
     "output_type": "stream",
     "text": [
      "4\n"
     ]
    }
   ],
   "source": [
    "m = mag(4,4)\n",
    "print(m)"
   ]
  },
  {
   "cell_type": "code",
   "execution_count": 37,
   "metadata": {},
   "outputs": [
    {
     "name": "stdout",
     "output_type": "stream",
     "text": [
      "2\n"
     ]
    }
   ],
   "source": [
    "m = mag(-5,2)\n",
    "print(m)"
   ]
  },
  {
   "cell_type": "code",
   "execution_count": 38,
   "metadata": {},
   "outputs": [
    {
     "name": "stdout",
     "output_type": "stream",
     "text": [
      "-3\n"
     ]
    }
   ],
   "source": [
    "m = mag(-5, -3)\n",
    "print(m)"
   ]
  },
  {
   "cell_type": "markdown",
   "metadata": {},
   "source": [
    "\n",
    "### is_vocale\n",
    "\n",
    "✪ Scrivi una funzione `is_vocale` a cui viene passato un carattere `car` come parametro, e STAMPA `'sì'` se il carattere è una vocale, altrimenti STAMPA `'no'` (usando le `print`).\n",
    "\n",
    "\n",
    "```python\n",
    ">>> is_vocale(\"a\")\n",
    "'si'\n",
    "\n",
    ">>> is_vocale(\"c\")\n",
    "'no'\n",
    "```"
   ]
  },
  {
   "cell_type": "code",
   "execution_count": 39,
   "metadata": {},
   "outputs": [],
   "source": [
    "# scrivi qui\n",
    "\n",
    "def is_vocale(car):\n",
    "    if car == 'a' or car == 'e' or car == 'i' or car == 'o' or car == 'u':\n",
    "        print('sì')\n",
    "    else:\n",
    "        print('no')\n",
    "    "
   ]
  },
  {
   "cell_type": "markdown",
   "metadata": {},
   "source": [
    "### volume_sfera \n",
    "\n",
    "✪ Il volume di una sfera di raggio `r` è $4/3 π r^3$\n",
    "\n",
    "Scrivi una funzione `volume_sfera(raggio)`  che dato un `raggio` di una sfera, STAMPA un messaggio `il volume è` ...\n",
    "\n",
    "NB: assumi `pi_greco = 3.14`\n",
    "\n",
    "```python\n",
    ">>> x = volume_sfera(4)\n",
    "il volume è 267.94666666666666\n",
    ">>> x  # non ritorna nulla\n",
    "None\n",
    "```\n"
   ]
  },
  {
   "cell_type": "code",
   "execution_count": 40,
   "metadata": {},
   "outputs": [
    {
     "name": "stdout",
     "output_type": "stream",
     "text": [
      "il volume è 267.94666666666666\n"
     ]
    }
   ],
   "source": [
    "#jupman-purge-output\n",
    "# scrivi qui\n",
    "\n",
    "def volume_sfera(raggio):\n",
    "    print(\"il volume è\", (4/3)*3.14*(raggio**3))\n",
    "volume_sfera(4)"
   ]
  },
  {
   "cell_type": "markdown",
   "metadata": {},
   "source": [
    "### ciri\n",
    "\n",
    "✪ Scrivi una funzione `ciri(nome)` che prende come parametro la stringa `nome` e RITORNA `True` se è uguale al nome 'Cirillo'\n",
    "\n",
    "```python\n",
    ">>> r = ciri(\"Cirillo\")\n",
    ">>> r\n",
    "True\n",
    "\n",
    ">>> r = ciri(\"Cirillo\")\n",
    ">>> r\n",
    "False\n",
    "```\n",
    "\n",
    "- Riesci a scrivere il corpo della funzione in una riga sola?"
   ]
  },
  {
   "cell_type": "code",
   "execution_count": 41,
   "metadata": {},
   "outputs": [],
   "source": [
    "# scrivi qui\n",
    "\n",
    "# soluzione 1\n",
    "def ciri(nome):\n",
    "    if nome == \"Cirillo\":\n",
    "        return True\n",
    "    else:\n",
    "        return False\n",
    "    \n",
    "# soluzione 2\n",
    "def ciri(nome):    \n",
    "    return nome == \"Cirillo\"    "
   ]
  },
  {
   "cell_type": "markdown",
   "metadata": {},
   "source": [
    "### age\n",
    "\n",
    "✪ Scrivi una funzione `age` che prende come parametro `anno` di nascita e RITORNA l'eta' della persona\n",
    "\n",
    "**Supponi che l'anno corrente sia noto, quindi per rappresentarlo nel corpo della funzione usa una costante come** `2019`\n",
    "\n",
    "```python\n",
    ">>> a = age(2003)\n",
    ">>> print(a)\n",
    "16\n",
    "```"
   ]
  },
  {
   "cell_type": "code",
   "execution_count": 42,
   "metadata": {},
   "outputs": [],
   "source": [
    "# scrivi qui\n",
    "\n",
    "def age(anno):\n",
    "    return 2019 - anno"
   ]
  },
  {
   "cell_type": "markdown",
   "metadata": {},
   "source": [
    "## Prosegui\n",
    "\n",
    "Continua con [gestione errori e testing](https://it.softpython.org/functions/fun2-errors-and-testing.html)"
   ]
  }
 ],
 "metadata": {
  "celltoolbar": "Edit Metadata",
  "kernelspec": {
   "display_name": "Python 3 (ipykernel)",
   "language": "python",
   "name": "python3"
  },
  "language_info": {
   "codemirror_mode": {
    "name": "ipython",
    "version": 3
   },
   "file_extension": ".py",
   "mimetype": "text/x-python",
   "name": "python",
   "nbconvert_exporter": "python",
   "pygments_lexer": "ipython3",
   "version": "3.7.10"
  },
  "toc": {
   "base_numbering": 1,
   "nav_menu": {
    "height": "11.5px",
    "width": "344.5px"
   },
   "number_sections": false,
   "sideBar": true,
   "skip_h1_title": false,
   "title_cell": "Table of Contents",
   "title_sidebar": "Contents",
   "toc_cell": false,
   "toc_position": {
    "height": "612.25px",
    "left": "24px",
    "top": "110.383px",
    "width": "205.7px"
   },
   "toc_section_display": true,
   "toc_window_display": true
  }
 },
 "nbformat": 4,
 "nbformat_minor": 2
}

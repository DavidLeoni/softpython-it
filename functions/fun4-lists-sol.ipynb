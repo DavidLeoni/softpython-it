{
 "cells": [
  {
   "cell_type": "markdown",
   "id": "43c7cbcb",
   "metadata": {},
   "source": [
    "# Funzioni 4 - esercizi con liste\n",
    "\n",
    "## [Scarica zip esercizi](../_static/generated/functions.zip)\n",
    "\n",
    "[Naviga file online](https://github.com/DavidLeoni/softpython-it/tree/master/functions)"
   ]
  },
  {
   "cell_type": "markdown",
   "id": "01dbc170",
   "metadata": {},
   "source": [
    "### stamparole\n",
    "\n",
    "✪ Scrive una funzione `stamparole` che STAMPI tutte le parole in una frase \n",
    "\n",
    "\n",
    "```python\n",
    ">>> stamparole(\"ciao come stai?\")\n",
    "```\n",
    "```\n",
    "ciao\n",
    "come\n",
    "stai?\n",
    "```\n"
   ]
  },
  {
   "cell_type": "raw",
   "id": "a295a310",
   "metadata": {
    "format": "text/html"
   },
   "source": [
    "<a  class=\"jupman-sol jupman-sol-toggler\" \n",
    " onclick=\"jupman.toggleSolution(this);\" \n",
    " data-jupman-show=\"Mostra soluzione\" data-jupman-hide=\"Nascondi\">Mostra soluzione</a><div class=\"jupman-sol jupman-sol-code\" style=\"display:none\">  "
   ]
  },
  {
   "cell_type": "code",
   "execution_count": 1,
   "id": "057cd965",
   "metadata": {},
   "outputs": [
    {
     "name": "stdout",
     "output_type": "stream",
     "text": [
      "ciao\n",
      "come\n",
      "stai?\n"
     ]
    }
   ],
   "source": [
    "\n",
    "# scrivi qui\n",
    "\n",
    "frase = \"ciao come stai?\"\n",
    "\n",
    "def stamparole(f):\n",
    "    \n",
    "    lista = f.split()\n",
    "    for parola in lista:\n",
    "        print(parola)\n",
    "        \n",
    "stamparole(frase)"
   ]
  },
  {
   "cell_type": "raw",
   "id": "9fba7039",
   "metadata": {
    "format": "text/html"
   },
   "source": [
    "</div>"
   ]
  },
  {
   "cell_type": "code",
   "execution_count": 1,
   "id": "057cd965-stripped",
   "metadata": {},
   "outputs": [],
   "source": [
    "\n",
    "# scrivi qui\n",
    "\n"
   ]
  },
  {
   "cell_type": "markdown",
   "id": "de134cb5",
   "metadata": {},
   "source": [
    "### stampari\n",
    "\n",
    "✪ Scrivere una funzione `stampari(lista)` che STAMPI i numeri pari di una lista di numeri \n",
    "\n",
    "\n",
    "```python\n",
    ">>> stampari([1,2,3,4,5,6])\n",
    "\n",
    "2\n",
    "4\n",
    "6\n",
    "```\n"
   ]
  },
  {
   "cell_type": "raw",
   "id": "569ddfc7",
   "metadata": {
    "format": "text/html"
   },
   "source": [
    "<a  class=\"jupman-sol jupman-sol-toggler\" \n",
    " onclick=\"jupman.toggleSolution(this);\" \n",
    " data-jupman-show=\"Mostra soluzione\" data-jupman-hide=\"Nascondi\">Mostra soluzione</a><div class=\"jupman-sol jupman-sol-code\" style=\"display:none\">  "
   ]
  },
  {
   "cell_type": "code",
   "execution_count": 2,
   "id": "d1788cb5",
   "metadata": {},
   "outputs": [
    {
     "name": "stdout",
     "output_type": "stream",
     "text": [
      "2\n",
      "4\n",
      "6\n"
     ]
    }
   ],
   "source": [
    "\n",
    "# scrivi qui\n",
    "\n",
    "def stampari(lista):\n",
    "\n",
    "    for numero in lista:\n",
    "        if numero % 2 == 0:\n",
    "            print(numero)\n",
    "\n",
    "numeri = [1,2,3,4,5,6]\n",
    "stampari(numeri)"
   ]
  },
  {
   "cell_type": "raw",
   "id": "5bf7ad8a",
   "metadata": {
    "format": "text/html"
   },
   "source": [
    "</div>"
   ]
  },
  {
   "cell_type": "code",
   "execution_count": 2,
   "id": "d1788cb5-stripped",
   "metadata": {},
   "outputs": [],
   "source": [
    "\n",
    "# scrivi qui\n",
    "\n"
   ]
  },
  {
   "cell_type": "markdown",
   "id": "d8fcf34c",
   "metadata": {},
   "source": [
    "### cerca26\n",
    "\n",
    "✪ Scrivere una funzione che RITORNA True se il numero 26 è contenuto in una lista di numeri\n",
    "\n",
    "```python\n",
    ">>> cerca26( [1,26,143,431,53,6] )\n",
    "True\n",
    "```"
   ]
  },
  {
   "cell_type": "raw",
   "id": "71cfd886",
   "metadata": {
    "format": "text/html"
   },
   "source": [
    "<a  class=\"jupman-sol jupman-sol-toggler\" \n",
    " onclick=\"jupman.toggleSolution(this);\" \n",
    " data-jupman-show=\"Mostra soluzione\" data-jupman-hide=\"Nascondi\">Mostra soluzione</a><div class=\"jupman-sol jupman-sol-code\" style=\"display:none\">  "
   ]
  },
  {
   "cell_type": "code",
   "execution_count": 3,
   "id": "00da72c5",
   "metadata": {},
   "outputs": [
    {
     "data": {
      "text/plain": [
       "True"
      ]
     },
     "execution_count": 3,
     "metadata": {},
     "output_type": "execute_result"
    }
   ],
   "source": [
    "\n",
    "# scrivi qui\n",
    "\n",
    "def cerca26(lista):\n",
    "    return (26 in numeri)\n",
    "\n",
    "numeri = [1,26,143,431,53,6]\n",
    "cerca26(numeri)"
   ]
  },
  {
   "cell_type": "raw",
   "id": "ada6eb2e",
   "metadata": {
    "format": "text/html"
   },
   "source": [
    "</div>"
   ]
  },
  {
   "cell_type": "code",
   "execution_count": 3,
   "id": "00da72c5-stripped",
   "metadata": {},
   "outputs": [],
   "source": [
    "\n",
    "# scrivi qui\n",
    "\n"
   ]
  },
  {
   "cell_type": "markdown",
   "id": "17f6620b",
   "metadata": {},
   "source": [
    "### stamprisec\n",
    "\n",
    "\n",
    "✪ Scrivere una funzione `stamprisec(stringa)` che STAMPI la prima e la seconda parola di una frase \n",
    "\n",
    "* per ottenere una lista di parole usare il metodo delle stringhe `.split()` \n",
    "\n",
    "```python\n",
    ">>> stamprisec(\"ciao come stai?\")\n",
    "```\n",
    "```\n",
    "ciao come\n",
    "```"
   ]
  },
  {
   "cell_type": "raw",
   "id": "9d5735e2",
   "metadata": {
    "format": "text/html"
   },
   "source": [
    "<a  class=\"jupman-sol jupman-sol-toggler\" \n",
    " onclick=\"jupman.toggleSolution(this);\" \n",
    " data-jupman-show=\"Mostra soluzione\" data-jupman-hide=\"Nascondi\">Mostra soluzione</a><div class=\"jupman-sol jupman-sol-code\" style=\"display:none\">  "
   ]
  },
  {
   "cell_type": "code",
   "execution_count": 4,
   "id": "39624c39",
   "metadata": {},
   "outputs": [
    {
     "name": "stdout",
     "output_type": "stream",
     "text": [
      "ciao come\n"
     ]
    }
   ],
   "source": [
    "\n",
    "# scrivi qui\n",
    "\n",
    "def stamprisec(stringa):\n",
    "\n",
    "    lista = frase.split()\n",
    "    print(lista[0], lista[1])\n",
    "    \n",
    "frase = \"ciao come stai?\"\n",
    "stamprisec(frase)"
   ]
  },
  {
   "cell_type": "raw",
   "id": "2fea5d51",
   "metadata": {
    "format": "text/html"
   },
   "source": [
    "</div>"
   ]
  },
  {
   "cell_type": "code",
   "execution_count": 4,
   "id": "39624c39-stripped",
   "metadata": {},
   "outputs": [],
   "source": [
    "\n",
    "# scrivi qui\n",
    "\n"
   ]
  },
  {
   "cell_type": "markdown",
   "id": "91c101c1",
   "metadata": {},
   "source": [
    "### trepari\n",
    "\n",
    "✪ Scrivi una funzione che STAMPI \"si\" se i primi tre elementi di una lista sono numeri pari. Altrimenti, la funzione deve STAMPARE \"no\". Nel caso in cui la lista  contenga meno di tre elementi, STAMPARE \"non va bene\"\n",
    "\n",
    "```python\n",
    ">>> trepari([6,4,8,4,5])\n",
    "True\n",
    ">>> trepari([2,5,6,3,4,5])\n",
    "False\n",
    ">>> trepari([4])\n",
    "non va bene\n",
    "```"
   ]
  },
  {
   "cell_type": "raw",
   "id": "12b6a382",
   "metadata": {
    "format": "text/html"
   },
   "source": [
    "<a  class=\"jupman-sol jupman-sol-toggler\" \n",
    " onclick=\"jupman.toggleSolution(this);\" \n",
    " data-jupman-show=\"Mostra soluzione\" data-jupman-hide=\"Nascondi\">Mostra soluzione</a><div class=\"jupman-sol jupman-sol-code\" style=\"display:none\">  "
   ]
  },
  {
   "cell_type": "code",
   "execution_count": 5,
   "id": "fda3bca5",
   "metadata": {},
   "outputs": [
    {
     "name": "stdout",
     "output_type": "stream",
     "text": [
      "True\n",
      "False\n",
      "non va bene\n"
     ]
    }
   ],
   "source": [
    "\n",
    "# scrivi qui\n",
    "\n",
    "def trepari(lista):\n",
    "    if len(lista) >= 3:\n",
    "        print(lista[0] % 2 == 0 and lista[1] % 2 == 0 and lista[2] % 2 == 0)\n",
    "    else:\n",
    "        print(\"non va bene\")\n",
    "\n",
    "trepari([6,4,8,4,5])\n",
    "trepari([2,5,6,3,4,5])\n",
    "trepari([4])"
   ]
  },
  {
   "cell_type": "raw",
   "id": "ca6a20b5",
   "metadata": {
    "format": "text/html"
   },
   "source": [
    "</div>"
   ]
  },
  {
   "cell_type": "code",
   "execution_count": 5,
   "id": "fda3bca5-stripped",
   "metadata": {},
   "outputs": [],
   "source": [
    "\n",
    "# scrivi qui\n",
    "\n"
   ]
  },
  {
   "cell_type": "markdown",
   "id": "31430385",
   "metadata": {},
   "source": [
    "### separa_ip\n",
    "\n",
    "✪ Un indirizzo IP è una stringa in cui ci sono quattro sequenze di numeri (di lunghezza massima 3) separati \".\". Per esempio, `192.168.19.34` e `255.31.1.0` sono indirizzi IP. Scrivere una funzione che dato un indirizzo IP in input, STAMPI i numeri che compongono l’indirizzo IP (nota: non vale utilizzare il metodo `.replace()` )\n",
    "\n",
    "```python\n",
    ">>> separa_ip(\"192.168.0.1\")\n",
    "\n",
    "192\n",
    "168\n",
    "0\n",
    "1\n",
    "```"
   ]
  },
  {
   "cell_type": "raw",
   "id": "4d921cfc",
   "metadata": {
    "format": "text/html"
   },
   "source": [
    "<a  class=\"jupman-sol jupman-sol-toggler\" \n",
    " onclick=\"jupman.toggleSolution(this);\" \n",
    " data-jupman-show=\"Mostra soluzione\" data-jupman-hide=\"Nascondi\">Mostra soluzione</a><div class=\"jupman-sol jupman-sol-code\" style=\"display:none\">  "
   ]
  },
  {
   "cell_type": "code",
   "execution_count": 6,
   "id": "e45ba63e",
   "metadata": {},
   "outputs": [
    {
     "name": "stdout",
     "output_type": "stream",
     "text": [
      "192\n",
      "168\n",
      "0\n",
      "1\n"
     ]
    }
   ],
   "source": [
    "\n",
    "# scrivi qui\n",
    "\n",
    "def separa_ip(stringa):\n",
    "    separata = stringa.split(\".\")\n",
    "    for elemento in separata:\n",
    "        print(elemento)\n",
    "    \n",
    "\n",
    "separa_ip(\"192.168.0.1\")"
   ]
  },
  {
   "cell_type": "raw",
   "id": "8d590431",
   "metadata": {
    "format": "text/html"
   },
   "source": [
    "</div>"
   ]
  },
  {
   "cell_type": "code",
   "execution_count": 6,
   "id": "e45ba63e-stripped",
   "metadata": {},
   "outputs": [],
   "source": [
    "\n",
    "# scrivi qui\n",
    "\n"
   ]
  },
  {
   "cell_type": "markdown",
   "id": "f04bd3fa",
   "metadata": {},
   "source": [
    "### media\n",
    "\n",
    "✪ Data una lista di numeri interi, scrivi una funzione `media(lista)` che RITORNI la media \n",
    "aritmetica dei numeri che contiene. Se la lista passata alla funzione dovesse \n",
    "essere vuota, RITORNARE 0\n",
    "\n",
    "```python\n",
    ">>> x = media([3,4,2,3])  # ( 10/4 => 3.0)\n",
    ">>> x\n",
    "3.0\n",
    ">>> y = media([])\n",
    ">>> y\n",
    "0\n",
    ">>> z = media([ 30, 28 , 20, 29 ])\n",
    ">>> z\n",
    "26.75\n",
    "```"
   ]
  },
  {
   "cell_type": "raw",
   "id": "8f461f47",
   "metadata": {
    "format": "text/html"
   },
   "source": [
    "<a  class=\"jupman-sol jupman-sol-toggler\" \n",
    " onclick=\"jupman.toggleSolution(this);\" \n",
    " data-jupman-show=\"Mostra soluzione\" data-jupman-hide=\"Nascondi\">Mostra soluzione</a><div class=\"jupman-sol jupman-sol-code\" style=\"display:none\">  "
   ]
  },
  {
   "cell_type": "code",
   "execution_count": 7,
   "id": "cb68574c",
   "metadata": {},
   "outputs": [
    {
     "name": "stdout",
     "output_type": "stream",
     "text": [
      "0\n"
     ]
    },
    {
     "data": {
      "text/plain": [
       "26.75"
      ]
     },
     "execution_count": 7,
     "metadata": {},
     "output_type": "execute_result"
    }
   ],
   "source": [
    "\n",
    "# scrivi qui\n",
    "\n",
    "def media(lista):\n",
    "    \n",
    "    if len(lista) == 0:\n",
    "        return 0\n",
    "    else:\n",
    "        totale = 0\n",
    "        for elemento in lista:\n",
    "            totale = totale + elemento\n",
    "\n",
    "        return(totale / len(lista))\n",
    "\n",
    "x = media([])\n",
    "print(x)\n",
    "media([30,28,20,29])"
   ]
  },
  {
   "cell_type": "raw",
   "id": "b57861e1",
   "metadata": {
    "format": "text/html"
   },
   "source": [
    "</div>"
   ]
  },
  {
   "cell_type": "code",
   "execution_count": 7,
   "id": "cb68574c-stripped",
   "metadata": {},
   "outputs": [],
   "source": [
    "\n",
    "# scrivi qui\n",
    "\n"
   ]
  },
  {
   "cell_type": "markdown",
   "id": "7d86ddaa",
   "metadata": {},
   "source": [
    "## Funzioni con assert\n",
    "\n",
    "<div class=\"alert alert-warning\">\n",
    "\n",
    "**ATTENZIONE**\n",
    "\n",
    "Gli esercizi che segueno contengono dei test con gli _assert_. Per capire come svolgerli, leggi prima [Gestione errori e testing](https://it.softpython.org/functions/fun2-errors-and-testing-sol.html) \n",
    "\n",
    "</div>"
   ]
  },
  {
   "cell_type": "markdown",
   "id": "1c9a1286",
   "metadata": {},
   "source": [
    "### Mappare\n",
    "\n",
    "Parlando in genere, operazioni che _mappano_ (o trasformano) prendono qualcosa in input e danno indietro lo stesso tipo di sequenza con gli elementi cambiati in qualche modo. \n",
    "\n",
    "Presta attenzione se è richiesto tornare una NUOVA lista o MODIFICARE quella esistente."
   ]
  },
  {
   "cell_type": "markdown",
   "id": "243c4506",
   "metadata": {},
   "source": [
    "### Esercizio - nuoradf\n",
    "\n",
    "✪ Prende una lista di interi in input e RITORNA una NUOVA lista con tutti i numeri raddoppiati.\n",
    "\n",
    "* Implementala con un `for`"
   ]
  },
  {
   "cell_type": "raw",
   "id": "754ac8ee",
   "metadata": {
    "format": "text/html"
   },
   "source": [
    "<a  class=\"jupman-sol jupman-sol-toggler\" \n",
    " onclick=\"jupman.toggleSolution(this);\" \n",
    " data-jupman-show=\"Mostra soluzione\" data-jupman-hide=\"Nascondi\">Mostra soluzione</a><div class=\"jupman-sol jupman-sol-code\" style=\"display:none\">  "
   ]
  },
  {
   "cell_type": "code",
   "execution_count": 8,
   "id": "7ae53dc5",
   "metadata": {},
   "outputs": [],
   "source": [
    "def nuoradf(lst):\n",
    "    \n",
    "   \n",
    "    ret = []\n",
    "    for x in lst:\n",
    "        ret.append(x*2)\n",
    "    return ret\n",
    "        \n",
    "\n",
    "# INIZIO TEST - NON TOCCARE ! \n",
    "# se hai scritto tutto il codice giusto, ed esegui la cella, python non dovrebbe lanciare AssertionError\n",
    "assert nuoradf([]) == []\n",
    "assert nuoradf([3]) == [6]\n",
    "assert nuoradf([3,7,1]) == [6,14,2]\n",
    "\n",
    "l = [3,7,1]\n",
    "assert nuoradf(l) == [6,14,2]\n",
    "assert l == [3,7,1]\n",
    "# FINE TEST"
   ]
  },
  {
   "cell_type": "raw",
   "id": "82c2d916",
   "metadata": {
    "format": "text/html"
   },
   "source": [
    "</div>"
   ]
  },
  {
   "cell_type": "code",
   "execution_count": 8,
   "id": "7ae53dc5-stripped",
   "metadata": {},
   "outputs": [],
   "source": [
    "def nuoradf(lst):\n",
    "    raise Exception('TODO IMPLEMENT ME !')    \n",
    "\n",
    "# INIZIO TEST - NON TOCCARE ! \n",
    "# se hai scritto tutto il codice giusto, ed esegui la cella, python non dovrebbe lanciare AssertionError\n",
    "assert nuoradf([]) == []\n",
    "assert nuoradf([3]) == [6]\n",
    "assert nuoradf([3,7,1]) == [6,14,2]\n",
    "\n",
    "l = [3,7,1]\n",
    "assert nuoradf(l) == [6,14,2]\n",
    "assert l == [3,7,1]\n",
    "# FINE TEST"
   ]
  },
  {
   "cell_type": "markdown",
   "id": "a3790226",
   "metadata": {},
   "source": [
    "### Esercizio - radm\n",
    "\n",
    "✪✪ Prende una lista di interi in input e la MODIFICA raddoppiando tutti i numeri.\n"
   ]
  },
  {
   "cell_type": "raw",
   "id": "137c0a85",
   "metadata": {
    "format": "text/html"
   },
   "source": [
    "<a  class=\"jupman-sol jupman-sol-toggler\" \n",
    " onclick=\"jupman.toggleSolution(this);\" \n",
    " data-jupman-show=\"Mostra soluzione\" data-jupman-hide=\"Nascondi\">Mostra soluzione</a><div class=\"jupman-sol jupman-sol-code\" style=\"display:none\">  "
   ]
  },
  {
   "cell_type": "code",
   "execution_count": 9,
   "id": "45e5d783",
   "metadata": {},
   "outputs": [],
   "source": [
    "def radm(lst):\n",
    "   \n",
    "    \n",
    "   \n",
    "    for i in range(len(lst)):\n",
    "        lst[i] = lst[i] * 2\n",
    "    \n",
    "      \n",
    "# INIZIO TEST - NON TOCCARE ! \n",
    "# se hai scritto tutto il codice giusto, ed esegui la cella, python non dovrebbe lanciare AssertionError\n",
    "l = []\n",
    "radm(l)\n",
    "assert l == []\n",
    "\n",
    "l = [3]\n",
    "radm(l)\n",
    "assert l == [6]\n",
    "    \n",
    "l = [3,7,1]\n",
    "radm(l)\n",
    "assert l == [6,14,2]\n",
    "# FINE TEST"
   ]
  },
  {
   "cell_type": "raw",
   "id": "a9ce7d42",
   "metadata": {
    "format": "text/html"
   },
   "source": [
    "</div>"
   ]
  },
  {
   "cell_type": "code",
   "execution_count": 9,
   "id": "45e5d783-stripped",
   "metadata": {},
   "outputs": [],
   "source": [
    "def radm(lst):\n",
    "   \n",
    "    raise Exception('TODO IMPLEMENT ME !')\n",
    "      \n",
    "# INIZIO TEST - NON TOCCARE ! \n",
    "# se hai scritto tutto il codice giusto, ed esegui la cella, python non dovrebbe lanciare AssertionError\n",
    "l = []\n",
    "radm(l)\n",
    "assert l == []\n",
    "\n",
    "l = [3]\n",
    "radm(l)\n",
    "assert l == [6]\n",
    "    \n",
    "l = [3,7,1]\n",
    "radm(l)\n",
    "assert l == [6,14,2]\n",
    "# FINE TEST"
   ]
  },
  {
   "cell_type": "markdown",
   "id": "3e182a8f",
   "metadata": {},
   "source": [
    "### Esercizio - nuoradc\n",
    "\n",
    "✪ Prende una lista di interi in input e RITORNA una NUOVA lista con tutti i numeri di raddoppiati\n",
    " \n",
    "* **USA** con una list comprehension"
   ]
  },
  {
   "cell_type": "raw",
   "id": "44b06a2f",
   "metadata": {
    "format": "text/html"
   },
   "source": [
    "<a  class=\"jupman-sol jupman-sol-toggler\" \n",
    " onclick=\"jupman.toggleSolution(this);\" \n",
    " data-jupman-show=\"Mostra soluzione\" data-jupman-hide=\"Nascondi\">Mostra soluzione</a><div class=\"jupman-sol jupman-sol-code\" style=\"display:none\">  "
   ]
  },
  {
   "cell_type": "code",
   "execution_count": 10,
   "id": "afff7951",
   "metadata": {},
   "outputs": [],
   "source": [
    "def nuoradc(lst):\n",
    "    \n",
    "    return [x*2 for x in lst]\n",
    "    \n",
    "    \n",
    "# INIZIO TEST - NON TOCCARE ! \n",
    "# se hai scritto tutto il codice giusto, ed esegui la cella, python non dovrebbe lanciare AssertionError\n",
    "assert nuoradc([]) == []\n",
    "assert nuoradc([3]) == [6]\n",
    "assert nuoradc([3,7,1]) == [6,14,2]\n",
    "\n",
    "l = [3,7,1]\n",
    "assert nuoradc(l) == [6,14,2]\n",
    "assert l == [3,7,1]\n",
    "# FINE TEST"
   ]
  },
  {
   "cell_type": "raw",
   "id": "74609350",
   "metadata": {
    "format": "text/html"
   },
   "source": [
    "</div>"
   ]
  },
  {
   "cell_type": "code",
   "execution_count": 10,
   "id": "afff7951-stripped",
   "metadata": {},
   "outputs": [],
   "source": [
    "def nuoradc(lst):\n",
    "    raise Exception('TODO IMPLEMENT ME !')\n",
    "    \n",
    "# INIZIO TEST - NON TOCCARE ! \n",
    "# se hai scritto tutto il codice giusto, ed esegui la cella, python non dovrebbe lanciare AssertionError\n",
    "assert nuoradc([]) == []\n",
    "assert nuoradc([3]) == [6]\n",
    "assert nuoradc([3,7,1]) == [6,14,2]\n",
    "\n",
    "l = [3,7,1]\n",
    "assert nuoradc(l) == [6,14,2]\n",
    "assert l == [3,7,1]\n",
    "# FINE TEST"
   ]
  },
  {
   "cell_type": "markdown",
   "id": "89aea994",
   "metadata": {},
   "source": [
    "### Esercizio - up\n",
    "\n",
    "✪ Prende una `lista` di stringhe in input, e RITORNA una NUOVA lista con tutte le stringhe di `lista` in maiuscolo\n",
    "\n",
    "* **USA** una list comprehension "
   ]
  },
  {
   "cell_type": "raw",
   "id": "e5b1975c",
   "metadata": {
    "format": "text/html"
   },
   "source": [
    "<a  class=\"jupman-sol jupman-sol-toggler\" \n",
    " onclick=\"jupman.toggleSolution(this);\" \n",
    " data-jupman-show=\"Mostra soluzione\" data-jupman-hide=\"Nascondi\">Mostra soluzione</a><div class=\"jupman-sol jupman-sol-code\" style=\"display:none\">  "
   ]
  },
  {
   "cell_type": "code",
   "execution_count": 11,
   "id": "47c141c8",
   "metadata": {},
   "outputs": [],
   "source": [
    "def up(lst):\n",
    "    \n",
    "   \n",
    "    return [x.upper() for x in lst]\n",
    "    \n",
    "    \n",
    "assert up([]) == []\n",
    "assert up(['']) == ['']\n",
    "assert up(['a']) == ['A']\n",
    "assert up(['aA']) == ['AA']\n",
    "assert up(['Ba']) == ['BA']\n",
    "assert up(['Ba', 'aC']) == ['BA','AC']\n",
    "assert up(['Ba dA']) == ['BA DA']\n",
    "\n",
    "l = ['ciAo']\n",
    "assert up(l) == ['CIAO']\n",
    "assert l == ['ciAo']"
   ]
  },
  {
   "cell_type": "raw",
   "id": "bce675a0",
   "metadata": {
    "format": "text/html"
   },
   "source": [
    "</div>"
   ]
  },
  {
   "cell_type": "code",
   "execution_count": 11,
   "id": "47c141c8-stripped",
   "metadata": {},
   "outputs": [],
   "source": [
    "def up(lst):\n",
    "    raise Exception('TODO IMPLEMENT ME !')\n",
    "    \n",
    "assert up([]) == []\n",
    "assert up(['']) == ['']\n",
    "assert up(['a']) == ['A']\n",
    "assert up(['aA']) == ['AA']\n",
    "assert up(['Ba']) == ['BA']\n",
    "assert up(['Ba', 'aC']) == ['BA','AC']\n",
    "assert up(['Ba dA']) == ['BA DA']\n",
    "\n",
    "l = ['ciAo']\n",
    "assert up(l) == ['CIAO']\n",
    "assert l == ['ciAo']"
   ]
  },
  {
   "cell_type": "markdown",
   "id": "61a2971f",
   "metadata": {},
   "source": [
    "### Filtrare\n",
    "\n",
    "In genere, le operazioni di filtraggio prendono qualcosa in input e danno indietro lo stesso tipo di cosa rimuovendo elementi secondo qualche criterio\n",
    "\n",
    "Presta attenzione se è richiesto RITORNARE una NUOVA lista o MODIFICARE quella esistente."
   ]
  },
  {
   "cell_type": "markdown",
   "id": "7e130410",
   "metadata": {},
   "source": [
    "### Esercizio - rimtut\n",
    "\n",
    "✪✪ RITORNA una NUOVA lista che ha gli elementi da `list2` ECCETTO quelli di `list1`"
   ]
  },
  {
   "cell_type": "raw",
   "id": "57938799",
   "metadata": {
    "format": "text/html"
   },
   "source": [
    "<a  class=\"jupman-sol jupman-sol-toggler\" \n",
    " onclick=\"jupman.toggleSolution(this);\" \n",
    " data-jupman-show=\"Mostra soluzione\" data-jupman-hide=\"Nascondi\">Mostra soluzione</a><div class=\"jupman-sol jupman-sol-code\" style=\"display:none\">  "
   ]
  },
  {
   "cell_type": "code",
   "execution_count": 12,
   "id": "b522d672",
   "metadata": {},
   "outputs": [],
   "source": [
    "def rimtut(list1, list2):\n",
    "    \n",
    "   \n",
    "    list3 = list2[:]\n",
    "    for x in list1:\n",
    "        if x in list3:\n",
    "            list3.remove(x)\n",
    "    \n",
    "    return list3\n",
    "        \n",
    "\n",
    "\n",
    "assert rimtut([],[]) == []\n",
    "assert rimtut(['a'], []) == []\n",
    "assert rimtut([], ['a']) == ['a']\n",
    "assert rimtut(['a'], ['a']) == []\n",
    "assert rimtut(['b'], ['a']) == ['a']\n",
    "assert rimtut(['a', 'b'], ['a','c','b']) == ['c']\n",
    "\n",
    "orig_l1,orig_l2 = ['a','d'], ['a','c','d','b']\n",
    "assert rimtut(orig_l1, orig_l2) == ['c', 'b']\n",
    "assert orig_l1 == ['a','d']         # controlla che non modifichi l'originale\n",
    "assert orig_l2 == ['a','c','d','b'] \n"
   ]
  },
  {
   "cell_type": "raw",
   "id": "e3aebc79",
   "metadata": {
    "format": "text/html"
   },
   "source": [
    "</div>"
   ]
  },
  {
   "cell_type": "code",
   "execution_count": 12,
   "id": "b522d672-stripped",
   "metadata": {},
   "outputs": [],
   "source": [
    "def rimtut(list1, list2):\n",
    "    raise Exception('TODO IMPLEMENT ME !')    \n",
    "\n",
    "\n",
    "assert rimtut([],[]) == []\n",
    "assert rimtut(['a'], []) == []\n",
    "assert rimtut([], ['a']) == ['a']\n",
    "assert rimtut(['a'], ['a']) == []\n",
    "assert rimtut(['b'], ['a']) == ['a']\n",
    "assert rimtut(['a', 'b'], ['a','c','b']) == ['c']\n",
    "\n",
    "orig_l1,orig_l2 = ['a','d'], ['a','c','d','b']\n",
    "assert rimtut(orig_l1, orig_l2) == ['c', 'b']\n",
    "assert orig_l1 == ['a','d']         # controlla che non modifichi l'originale\n",
    "assert orig_l2 == ['a','c','d','b'] \n"
   ]
  },
  {
   "cell_type": "markdown",
   "id": "ce247f69",
   "metadata": {},
   "source": [
    "### Esercizio - solmaf\n",
    "\n",
    "✪ Prende una lista di stringhe e RITORNA una NUOVA lista che contiene solo le stringhe che sono tutte in lettere maiuscole (perciò tiene `'AB'` ma non `'aB'`)\n",
    "        \n",
    "* **USA** un ciclo `for`"
   ]
  },
  {
   "cell_type": "raw",
   "id": "28a4bf1a",
   "metadata": {
    "format": "text/html"
   },
   "source": [
    "<a  class=\"jupman-sol jupman-sol-toggler\" \n",
    " onclick=\"jupman.toggleSolution(this);\" \n",
    " data-jupman-show=\"Mostra soluzione\" data-jupman-hide=\"Nascondi\">Mostra soluzione</a><div class=\"jupman-sol jupman-sol-code\" style=\"display:none\">  "
   ]
  },
  {
   "cell_type": "code",
   "execution_count": 13,
   "id": "f6b2df85",
   "metadata": {},
   "outputs": [],
   "source": [
    "def solmaf(lst):\n",
    "    \n",
    "    ret = []\n",
    "    for el in lst:\n",
    "        if el.isupper():\n",
    "            ret.append(el)\n",
    "    return ret\n",
    "    \n",
    "\n",
    "    \n",
    "assert solmaf([\"CD\"]) == [ \"CD\"]    \n",
    "assert solmaf([\"ab\"]) == []\n",
    "assert solmaf([\"dE\"]) == []\n",
    "assert solmaf([\"De\"]) == []\n",
    "assert solmaf([\"ab\",\"DE\"]) == [\"DE\"]\n",
    "orig = [\"ab\", \"CD\", \"Hb\", \"EF\"]\n",
    "assert solmaf(orig) == [ \"CD\", \"EF\"]\n",
    "assert orig == [\"ab\", \"CD\", \"Hb\", \"EF\"]\n"
   ]
  },
  {
   "cell_type": "raw",
   "id": "1a451bbe",
   "metadata": {
    "format": "text/html"
   },
   "source": [
    "</div>"
   ]
  },
  {
   "cell_type": "code",
   "execution_count": 13,
   "id": "f6b2df85-stripped",
   "metadata": {},
   "outputs": [],
   "source": [
    "def solmaf(lst):\n",
    "    raise Exception('TODO IMPLEMENT ME !')\n",
    "\n",
    "    \n",
    "assert solmaf([\"CD\"]) == [ \"CD\"]    \n",
    "assert solmaf([\"ab\"]) == []\n",
    "assert solmaf([\"dE\"]) == []\n",
    "assert solmaf([\"De\"]) == []\n",
    "assert solmaf([\"ab\",\"DE\"]) == [\"DE\"]\n",
    "orig = [\"ab\", \"CD\", \"Hb\", \"EF\"]\n",
    "assert solmaf(orig) == [ \"CD\", \"EF\"]\n",
    "assert orig == [\"ab\", \"CD\", \"Hb\", \"EF\"]\n"
   ]
  },
  {
   "cell_type": "markdown",
   "id": "5271fd36",
   "metadata": {},
   "source": [
    "### Esercizio - solmac\n",
    "\n",
    "✪ Prende una lista di stringhe e RITORNA una NUOVA lista che contiene solo le stringhe che sono tutte in lettere maiuscole (perciò tiene `'AB'` ma non `'aB'`)\n",
    "        \n",
    "* **USA** una  list comprehension"
   ]
  },
  {
   "cell_type": "raw",
   "id": "9779156b",
   "metadata": {
    "format": "text/html"
   },
   "source": [
    "<a  class=\"jupman-sol jupman-sol-toggler\" \n",
    " onclick=\"jupman.toggleSolution(this);\" \n",
    " data-jupman-show=\"Mostra soluzione\" data-jupman-hide=\"Nascondi\">Mostra soluzione</a><div class=\"jupman-sol jupman-sol-code\" style=\"display:none\">  "
   ]
  },
  {
   "cell_type": "code",
   "execution_count": 14,
   "id": "3834b834",
   "metadata": {},
   "outputs": [],
   "source": [
    "def solmac(lst):\n",
    "    \n",
    "    return [el for el in lst if el.isupper() ]\n",
    "    \n",
    "\n",
    "assert solmac([\"CD\"]) == [ \"CD\"]    \n",
    "assert solmac([\"ab\"]) == []\n",
    "assert solmac([\"dE\"]) == []\n",
    "assert solmac([\"De\"]) == []\n",
    "assert solmac([\"ab\",\"DE\"]) == [\"DE\"]\n",
    "orig = [\"ab\", \"CD\", \"Hb\", \"EF\"]\n",
    "assert solmac(orig) == [ \"CD\", \"EF\"]\n",
    "assert orig == [\"ab\", \"CD\", \"Hb\", \"EF\"]"
   ]
  },
  {
   "cell_type": "raw",
   "id": "e01b9b5d",
   "metadata": {
    "format": "text/html"
   },
   "source": [
    "</div>"
   ]
  },
  {
   "cell_type": "code",
   "execution_count": 14,
   "id": "3834b834-stripped",
   "metadata": {},
   "outputs": [],
   "source": [
    "def solmac(lst):\n",
    "    raise Exception('TODO IMPLEMENT ME !')\n",
    "\n",
    "assert solmac([\"CD\"]) == [ \"CD\"]    \n",
    "assert solmac([\"ab\"]) == []\n",
    "assert solmac([\"dE\"]) == []\n",
    "assert solmac([\"De\"]) == []\n",
    "assert solmac([\"ab\",\"DE\"]) == [\"DE\"]\n",
    "orig = [\"ab\", \"CD\", \"Hb\", \"EF\"]\n",
    "assert solmac(orig) == [ \"CD\", \"EF\"]\n",
    "assert orig == [\"ab\", \"CD\", \"Hb\", \"EF\"]"
   ]
  },
  {
   "cell_type": "markdown",
   "id": "854c4809",
   "metadata": {},
   "source": [
    "### Ridurre\n",
    "\n",
    "Parlando in genere, operazioni di _riduzione_ (_reduce_) effettuano operazioni su sequenze di elementi e producono un risultato più piccolo. \n",
    "\n",
    "In questi casi, operiamo su liste. Presta attenzione se è richiesti RITORNARE una NUOVA lista o MODIFICARE l'esistente."
   ]
  },
  {
   "cell_type": "markdown",
   "id": "ccf30ba4",
   "metadata": {},
   "source": [
    "### Esercizio - somtut\n",
    "\n",
    "✪ RITORNA la somma di tutti gli elementi in `lista`\n",
    "    \n",
    "* Implementa come vuoi"
   ]
  },
  {
   "cell_type": "raw",
   "id": "bee806bc",
   "metadata": {
    "format": "text/html"
   },
   "source": [
    "<a  class=\"jupman-sol jupman-sol-toggler\" \n",
    " onclick=\"jupman.toggleSolution(this);\" \n",
    " data-jupman-show=\"Mostra soluzione\" data-jupman-hide=\"Nascondi\">Mostra soluzione</a><div class=\"jupman-sol jupman-sol-code\" style=\"display:none\">  "
   ]
  },
  {
   "cell_type": "code",
   "execution_count": 15,
   "id": "d017c427",
   "metadata": {},
   "outputs": [],
   "source": [
    "def somtut(lst):\n",
    "    \n",
    "       \n",
    "    return sum(lst)\n",
    "        \n",
    "\n",
    "assert somtut([]) == 0\n",
    "assert somtut([7,5]) == 12\n",
    "assert somtut([9,5,8]) == 22"
   ]
  },
  {
   "cell_type": "raw",
   "id": "bba1d5bb",
   "metadata": {
    "format": "text/html"
   },
   "source": [
    "</div>"
   ]
  },
  {
   "cell_type": "code",
   "execution_count": 15,
   "id": "d017c427-stripped",
   "metadata": {},
   "outputs": [],
   "source": [
    "def somtut(lst):\n",
    "    raise Exception('TODO IMPLEMENT ME !')    \n",
    "\n",
    "assert somtut([]) == 0\n",
    "assert somtut([7,5]) == 12\n",
    "assert somtut([9,5,8]) == 22"
   ]
  },
  {
   "cell_type": "markdown",
   "id": "f33eae45",
   "metadata": {},
   "source": [
    "### Esercizio - somparif\n",
    "\n",
    "✪ RITORNA la somma di tutti gli elementi pari in `lst`\n",
    "    \n",
    "* **USA** un ciclo `for`"
   ]
  },
  {
   "cell_type": "raw",
   "id": "ba92ed53",
   "metadata": {
    "format": "text/html"
   },
   "source": [
    "<a  class=\"jupman-sol jupman-sol-toggler\" \n",
    " onclick=\"jupman.toggleSolution(this);\" \n",
    " data-jupman-show=\"Mostra soluzione\" data-jupman-hide=\"Nascondi\">Mostra soluzione</a><div class=\"jupman-sol jupman-sol-code\" style=\"display:none\">  "
   ]
  },
  {
   "cell_type": "code",
   "execution_count": 16,
   "id": "9d52439c",
   "metadata": {},
   "outputs": [],
   "source": [
    "def somparif(lst):\n",
    "    \n",
    "    ret = 0\n",
    "    for el in lst:\n",
    "        if el % 2 == 0:\n",
    "            ret += el\n",
    "    return ret\n",
    "    \n",
    "\n",
    "assert somparif([]) == 0\n",
    "assert somparif([9]) == 0\n",
    "assert somparif([4]) == 4\n",
    "assert somparif([7,2,5,8]) == 10"
   ]
  },
  {
   "cell_type": "raw",
   "id": "9ea054c3",
   "metadata": {
    "format": "text/html"
   },
   "source": [
    "</div>"
   ]
  },
  {
   "cell_type": "code",
   "execution_count": 16,
   "id": "9d52439c-stripped",
   "metadata": {},
   "outputs": [],
   "source": [
    "def somparif(lst):\n",
    "    raise Exception('TODO IMPLEMENT ME !')\n",
    "\n",
    "assert somparif([]) == 0\n",
    "assert somparif([9]) == 0\n",
    "assert somparif([4]) == 4\n",
    "assert somparif([7,2,5,8]) == 10"
   ]
  },
  {
   "cell_type": "markdown",
   "id": "acd54ae6",
   "metadata": {},
   "source": [
    "### Esercizio - somtutc\n",
    "\n",
    "✪ RITORNA la somma di tutti gli elementi pari in lst\n",
    "  \n",
    "* **USA** una list comprehension\n",
    "* **SCRIVI** una sola linea di codice"
   ]
  },
  {
   "cell_type": "raw",
   "id": "4055c3c8",
   "metadata": {
    "format": "text/html"
   },
   "source": [
    "<a  class=\"jupman-sol jupman-sol-toggler\" \n",
    " onclick=\"jupman.toggleSolution(this);\" \n",
    " data-jupman-show=\"Mostra soluzione\" data-jupman-hide=\"Nascondi\">Mostra soluzione</a><div class=\"jupman-sol jupman-sol-code\" style=\"display:none\">  "
   ]
  },
  {
   "cell_type": "code",
   "execution_count": 17,
   "id": "b5198eef",
   "metadata": {},
   "outputs": [],
   "source": [
    "def sum_all_even_comp(lst):\n",
    "    \n",
    "   \n",
    "    return sum([el for el in lst if el % 2 == 0])\n",
    "    \n",
    "\n",
    "assert sum_all_even_comp([]) == 0\n",
    "assert sum_all_even_comp([9]) == 0\n",
    "assert sum_all_even_comp([4]) == 4\n",
    "assert sum_all_even_comp([7,2,5,8]) == 10\n"
   ]
  },
  {
   "cell_type": "raw",
   "id": "0ee94746",
   "metadata": {
    "format": "text/html"
   },
   "source": [
    "</div>"
   ]
  },
  {
   "cell_type": "code",
   "execution_count": 17,
   "id": "b5198eef-stripped",
   "metadata": {},
   "outputs": [],
   "source": [
    "def sum_all_even_comp(lst):\n",
    "    raise Exception('TODO IMPLEMENT ME !')\n",
    "\n",
    "assert sum_all_even_comp([]) == 0\n",
    "assert sum_all_even_comp([9]) == 0\n",
    "assert sum_all_even_comp([4]) == 4\n",
    "assert sum_all_even_comp([7,2,5,8]) == 10\n"
   ]
  },
  {
   "cell_type": "markdown",
   "id": "eb9329a5",
   "metadata": {},
   "source": [
    "## Altri esercizi"
   ]
  },
  {
   "cell_type": "markdown",
   "id": "062d2a1f",
   "metadata": {},
   "source": [
    "### contiene\n",
    "\n",
    "✪ RITORNA `True` se `elem` è presente in lista, altrimenti RITORNA `False`"
   ]
  },
  {
   "cell_type": "raw",
   "id": "38dd7f99",
   "metadata": {
    "format": "text/html"
   },
   "source": [
    "<a  class=\"jupman-sol jupman-sol-toggler\" \n",
    " onclick=\"jupman.toggleSolution(this);\" \n",
    " data-jupman-show=\"Mostra soluzione\" data-jupman-hide=\"Nascondi\">Mostra soluzione</a><div class=\"jupman-sol jupman-sol-code\" style=\"display:none\">  "
   ]
  },
  {
   "cell_type": "code",
   "execution_count": 18,
   "id": "941ee3a8",
   "metadata": {},
   "outputs": [],
   "source": [
    "def contiene(lista, elem):  \n",
    "    \n",
    "    return elem in lista\n",
    "    \n",
    "\n",
    "\n",
    "assert contiene([],'a') == False\n",
    "assert contiene(['a'],'a') == True\n",
    "assert contiene(['a','b','c'],'b') == True\n",
    "assert contiene(['a','b','c'],'z') == False"
   ]
  },
  {
   "cell_type": "raw",
   "id": "c95f9428",
   "metadata": {
    "format": "text/html"
   },
   "source": [
    "</div>"
   ]
  },
  {
   "cell_type": "code",
   "execution_count": 18,
   "id": "941ee3a8-stripped",
   "metadata": {},
   "outputs": [],
   "source": [
    "def contiene(lista, elem):  \n",
    "    raise Exception('TODO IMPLEMENT ME !')\n",
    "\n",
    "\n",
    "assert contiene([],'a') == False\n",
    "assert contiene(['a'],'a') == True\n",
    "assert contiene(['a','b','c'],'b') == True\n",
    "assert contiene(['a','b','c'],'z') == False"
   ]
  },
  {
   "cell_type": "markdown",
   "id": "96ff47c4",
   "metadata": {},
   "source": [
    "### primi\n",
    "\n",
    "✪ RITORNA una lista con i primi numeri da `0` incluso a `n` escluso. \n",
    "\n",
    "- Per esempio, `primi(3)` deve ritornare `[0,1,2]`\n",
    "\n",
    "- Se `n` < 0, ritorna la lista vuota \n",
    "\n",
    "Ingredienti:\n",
    "\n",
    "- variabile lista da ritornare\n",
    "- variabile contatore\n",
    "- ciclo `while` (volendo ci sono anche altri modi)\n",
    "- `return`\n"
   ]
  },
  {
   "cell_type": "raw",
   "id": "9afe1d95",
   "metadata": {
    "format": "text/html"
   },
   "source": [
    "<a  class=\"jupman-sol jupman-sol-toggler\" \n",
    " onclick=\"jupman.toggleSolution(this);\" \n",
    " data-jupman-show=\"Mostra soluzione\" data-jupman-hide=\"Nascondi\">Mostra soluzione</a><div class=\"jupman-sol jupman-sol-code\" style=\"display:none\">  "
   ]
  },
  {
   "cell_type": "code",
   "execution_count": 19,
   "id": "ce625687",
   "metadata": {},
   "outputs": [],
   "source": [
    "\n",
    "def primi(n):\n",
    "    \n",
    "    lista = []\n",
    "    contatore = 0\n",
    "    while contatore < n:\n",
    "        lista.append(contatore)        \n",
    "        contatore += 1      \n",
    "    return lista\n",
    "    \n",
    "\n",
    "\n",
    "\n",
    "assert primi(-1) == []\n",
    "assert primi(-2) == []\n",
    "assert primi(0) == []\n",
    "assert primi(1) == [0]\n",
    "assert primi(2) == [0,1]\n",
    "assert primi(3) == [0,1,2]"
   ]
  },
  {
   "cell_type": "raw",
   "id": "8344ca57",
   "metadata": {
    "format": "text/html"
   },
   "source": [
    "</div>"
   ]
  },
  {
   "cell_type": "code",
   "execution_count": 19,
   "id": "ce625687-stripped",
   "metadata": {},
   "outputs": [],
   "source": [
    "\n",
    "def primi(n):\n",
    "    raise Exception('TODO IMPLEMENT ME !')\n",
    "\n",
    "\n",
    "\n",
    "assert primi(-1) == []\n",
    "assert primi(-2) == []\n",
    "assert primi(0) == []\n",
    "assert primi(1) == [0]\n",
    "assert primi(2) == [0,1]\n",
    "assert primi(3) == [0,1,2]"
   ]
  },
  {
   "cell_type": "markdown",
   "id": "012f4ba0",
   "metadata": {},
   "source": [
    "### primul\n",
    "\n",
    "✪ RITORNA `True` se il primo elemento di lista è uguale all'ultimo, altrimenti RITORNA `False`\n",
    "\n",
    "NOTA: Si può assumere che lista contenga sempre almeno un elemento.\n"
   ]
  },
  {
   "cell_type": "raw",
   "id": "4a0e9a17",
   "metadata": {
    "format": "text/html"
   },
   "source": [
    "<a  class=\"jupman-sol jupman-sol-toggler\" \n",
    " onclick=\"jupman.toggleSolution(this);\" \n",
    " data-jupman-show=\"Mostra soluzione\" data-jupman-hide=\"Nascondi\">Mostra soluzione</a><div class=\"jupman-sol jupman-sol-code\" style=\"display:none\">  "
   ]
  },
  {
   "cell_type": "code",
   "execution_count": 20,
   "id": "a6a0dabc",
   "metadata": {},
   "outputs": [],
   "source": [
    "\n",
    "def primul(lista):\n",
    "    \n",
    "    return lista[0] == lista[-1]\n",
    "\n",
    "    # nota: la comparazione   lista[0] == lista[-1]   è una ESPRESSIONE che genera un booleano, \n",
    "    #       in questo caso True se il primo carattere è uguale all'ultimo e False altrimenti, \n",
    "    #       quindi possiamo ritornare direttamente il risultato dell'espressione\n",
    "    \n",
    "    \n",
    "assert primul(['a']) == True\n",
    "assert primul(['a','a']) == True\n",
    "assert primul(['a','b']) == False\n",
    "assert primul(['a','b','a']) == True\n",
    "assert primul(['a','b','c','a']) == True\n",
    "assert primul(['a','b','c','d']) == False"
   ]
  },
  {
   "cell_type": "raw",
   "id": "90fa45a6",
   "metadata": {
    "format": "text/html"
   },
   "source": [
    "</div>"
   ]
  },
  {
   "cell_type": "code",
   "execution_count": 20,
   "id": "a6a0dabc-stripped",
   "metadata": {},
   "outputs": [],
   "source": [
    "\n",
    "def primul(lista):\n",
    "    raise Exception('TODO IMPLEMENT ME !')\n",
    "    \n",
    "assert primul(['a']) == True\n",
    "assert primul(['a','a']) == True\n",
    "assert primul(['a','b']) == False\n",
    "assert primul(['a','b','a']) == True\n",
    "assert primul(['a','b','c','a']) == True\n",
    "assert primul(['a','b','c','d']) == False"
   ]
  },
  {
   "cell_type": "markdown",
   "id": "38787e1e",
   "metadata": {},
   "source": [
    "### duplica\n",
    "\n",
    "✪ RITORNA una NUOVA lista, in cui ciascun elemento della lista in ingresso è duplicato. Per esempio, \n",
    "\n",
    "```python\n",
    "duplica(['ciao','mondo','python'])\n",
    "```\n",
    "\n",
    "deve ritornare\n",
    "\n",
    "```python\n",
    "['ciao','ciao','mondo','mondo','python','python']\n",
    "```\n",
    "\n",
    "Ingredienti:\n",
    "- variabile per nuova lista\n",
    "- ciclo for\n",
    "- return"
   ]
  },
  {
   "cell_type": "raw",
   "id": "e71c04b3",
   "metadata": {
    "format": "text/html"
   },
   "source": [
    "<a  class=\"jupman-sol jupman-sol-toggler\" \n",
    " onclick=\"jupman.toggleSolution(this);\" \n",
    " data-jupman-show=\"Mostra soluzione\" data-jupman-hide=\"Nascondi\">Mostra soluzione</a><div class=\"jupman-sol jupman-sol-code\" style=\"display:none\">  "
   ]
  },
  {
   "cell_type": "code",
   "execution_count": 21,
   "id": "8e7d59ed",
   "metadata": {},
   "outputs": [],
   "source": [
    "def duplica(lista):\n",
    "    \n",
    "    \n",
    "    ret = []\n",
    "    for elemento in lista:\n",
    "        ret.append(elemento)\n",
    "        ret.append(elemento)\n",
    "    return ret\n",
    "\n",
    "    \n",
    "        \n",
    "\n",
    "assert duplica([]) ==  []\n",
    "assert duplica(['a']) == ['a','a']\n",
    "assert duplica(['a','b']) == ['a','a','b','b']\n",
    "assert duplica(['a','b','c']) == ['a','a','b','b','c','c']\n",
    "assert duplica(['a','a']) == ['a','a','a','a']\n",
    "assert duplica(['a','a','b','b']) == ['a','a','a','a','b','b','b','b']\n"
   ]
  },
  {
   "cell_type": "raw",
   "id": "dd434354",
   "metadata": {
    "format": "text/html"
   },
   "source": [
    "</div>"
   ]
  },
  {
   "cell_type": "code",
   "execution_count": 21,
   "id": "8e7d59ed-stripped",
   "metadata": {},
   "outputs": [],
   "source": [
    "def duplica(lista):\n",
    "    raise Exception('TODO IMPLEMENT ME !')\n",
    "        \n",
    "\n",
    "assert duplica([]) ==  []\n",
    "assert duplica(['a']) == ['a','a']\n",
    "assert duplica(['a','b']) == ['a','a','b','b']\n",
    "assert duplica(['a','b','c']) == ['a','a','b','b','c','c']\n",
    "assert duplica(['a','a']) == ['a','a','a','a']\n",
    "assert duplica(['a','a','b','b']) == ['a','a','a','a','b','b','b','b']\n"
   ]
  },
  {
   "cell_type": "markdown",
   "id": "f8208938",
   "metadata": {},
   "source": [
    "### hadup\n",
    "\n",
    "✪✪ RESTITUISCE `True` se `lista` contiene l'elemento `el` più di una volta, altrimenti RESTITUISCE `False`.\n",
    "\n",
    "- **NON** usare il metodo `.count`, è troppo facile!"
   ]
  },
  {
   "cell_type": "raw",
   "id": "133b41b4",
   "metadata": {
    "format": "text/html"
   },
   "source": [
    "<a  class=\"jupman-sol jupman-sol-toggler\" \n",
    " onclick=\"jupman.toggleSolution(this);\" \n",
    " data-jupman-show=\"Mostra soluzione\" data-jupman-hide=\"Nascondi\">Mostra soluzione</a><div class=\"jupman-sol jupman-sol-code\" style=\"display:none\">  "
   ]
  },
  {
   "cell_type": "code",
   "execution_count": 22,
   "id": "bdc1d810",
   "metadata": {},
   "outputs": [],
   "source": [
    "def hadup(el, lista):\n",
    "    \n",
    "\n",
    "    contatore = 0\n",
    "    \n",
    "    for x in lista:\n",
    "        if x == el:\n",
    "            contatore += 1\n",
    "            if contatore > 1:\n",
    "                return True\n",
    "    return False\n",
    "    \n",
    "\n",
    "assert hadup(\"a\", []) == False\n",
    "assert hadup(\"a\", [\"a\"]) == False\n",
    "assert hadup(\"a\", [\"a\", \"a\"]) == True\n",
    "assert hadup(\"a\", [\"a\", \"a\", \"a\"]) == True\n",
    "assert hadup(\"a\", [\"b\", \"a\", \"a\"]) == True\n",
    "assert hadup(\"a\", [\"b\", \"a\", \"a\", \"a\"]) == True\n",
    "assert hadup(\"b\", [\"b\", \"a\", \"a\", \"a\"]) == False\n",
    "assert hadup(\"b\", [\"b\", \"a\", \"b\", \"a\"]) == True"
   ]
  },
  {
   "cell_type": "raw",
   "id": "8b8da627",
   "metadata": {
    "format": "text/html"
   },
   "source": [
    "</div>"
   ]
  },
  {
   "cell_type": "code",
   "execution_count": 22,
   "id": "bdc1d810-stripped",
   "metadata": {},
   "outputs": [],
   "source": [
    "def hadup(el, lista):\n",
    "    raise Exception('TODO IMPLEMENT ME !')\n",
    "\n",
    "assert hadup(\"a\", []) == False\n",
    "assert hadup(\"a\", [\"a\"]) == False\n",
    "assert hadup(\"a\", [\"a\", \"a\"]) == True\n",
    "assert hadup(\"a\", [\"a\", \"a\", \"a\"]) == True\n",
    "assert hadup(\"a\", [\"b\", \"a\", \"a\"]) == True\n",
    "assert hadup(\"a\", [\"b\", \"a\", \"a\", \"a\"]) == True\n",
    "assert hadup(\"b\", [\"b\", \"a\", \"a\", \"a\"]) == False\n",
    "assert hadup(\"b\", [\"b\", \"a\", \"b\", \"a\"]) == True"
   ]
  },
  {
   "cell_type": "markdown",
   "id": "b7b00d09",
   "metadata": {},
   "source": [
    "### ord3\n",
    "\n",
    "✪✪ RITORNA `True` se la lista fornita ha i primi tre elementi ordinati in modo crescente, `False` altrimenti\n",
    "\n",
    "- se `lista` ha meno di 3 elementi, ritorna `False`\n"
   ]
  },
  {
   "cell_type": "raw",
   "id": "a62f2355",
   "metadata": {
    "format": "text/html"
   },
   "source": [
    "<a  class=\"jupman-sol jupman-sol-toggler\" \n",
    " onclick=\"jupman.toggleSolution(this);\" \n",
    " data-jupman-show=\"Mostra soluzione\" data-jupman-hide=\"Nascondi\">Mostra soluzione</a><div class=\"jupman-sol jupman-sol-code\" style=\"display:none\">  "
   ]
  },
  {
   "cell_type": "code",
   "execution_count": 23,
   "id": "6a9628b0",
   "metadata": {},
   "outputs": [],
   "source": [
    "def ord3(lista):\n",
    "    \n",
    "    if len(lista) >= 3:\n",
    "        return lista[0] <= lista[1] and lista[1] <= lista[2]\n",
    "    else:\n",
    "        return False\n",
    "    \n",
    "    \n",
    "\n",
    "assert ord3([5]) == False\n",
    "assert ord3([4,7]) == False\n",
    "assert ord3([4,6,9]) == True       \n",
    "assert ord3([4,9,7]) == False\n",
    "assert ord3([9,5,7]) == False\n",
    "assert ord3([4,8,9,1,5]) == True   # primi 3 elementi crescenti\n",
    "assert ord3([9,4,8,10,13]) == False  # primi 3 elementi NON crescenti"
   ]
  },
  {
   "cell_type": "raw",
   "id": "293a52a4",
   "metadata": {
    "format": "text/html"
   },
   "source": [
    "</div>"
   ]
  },
  {
   "cell_type": "code",
   "execution_count": 23,
   "id": "6a9628b0-stripped",
   "metadata": {},
   "outputs": [],
   "source": [
    "def ord3(lista):\n",
    "    raise Exception('TODO IMPLEMENT ME !')\n",
    "    \n",
    "\n",
    "assert ord3([5]) == False\n",
    "assert ord3([4,7]) == False\n",
    "assert ord3([4,6,9]) == True       \n",
    "assert ord3([4,9,7]) == False\n",
    "assert ord3([9,5,7]) == False\n",
    "assert ord3([4,8,9,1,5]) == True   # primi 3 elementi crescenti\n",
    "assert ord3([9,4,8,10,13]) == False  # primi 3 elementi NON crescenti"
   ]
  },
  {
   "cell_type": "markdown",
   "id": "2e7c7db1",
   "metadata": {},
   "source": [
    "### filtrab\n",
    "\n",
    "✪✪ Prende in input una lista di caratteri, e RITORNA una NUOVA lista\n",
    "contenente solo i caratteri `'a'` e `'b'` trovati scorrendo la lista originale \n",
    "\n",
    "Esempio:\n",
    "\n",
    "```python\n",
    "filtrab(['c','a','c','d','b','a','c','a','b','e'])\n",
    "```\n",
    "\n",
    "deve ritornare\n",
    "\n",
    "```python\n",
    "['a','b','a','a','b']\n",
    "```\n"
   ]
  },
  {
   "cell_type": "raw",
   "id": "b249dcee",
   "metadata": {
    "format": "text/html"
   },
   "source": [
    "<a  class=\"jupman-sol jupman-sol-toggler\" \n",
    " onclick=\"jupman.toggleSolution(this);\" \n",
    " data-jupman-show=\"Mostra soluzione\" data-jupman-hide=\"Nascondi\">Mostra soluzione</a><div class=\"jupman-sol jupman-sol-code\" style=\"display:none\">  "
   ]
  },
  {
   "cell_type": "code",
   "execution_count": 24,
   "id": "462f9213",
   "metadata": {},
   "outputs": [],
   "source": [
    "def filtrab(lista):\n",
    "    \n",
    "    ret = []\n",
    "    for el in lista: \n",
    "        if el == 'a' or el == 'b':\n",
    "            ret.append(el)\n",
    "    return ret\n",
    "    \n",
    "\n",
    "\n",
    "assert filtrab([]) == []\n",
    "assert filtrab(['a']) == ['a']\n",
    "assert filtrab(['b']) == ['b']\n",
    "assert filtrab(['a','b']) == ['a','b']\n",
    "assert filtrab(['a','b','c']) == ['a','b']\n",
    "assert filtrab(['a','c','b']) == ['a','b']\n",
    "assert filtrab(['c','a','b']) == ['a','b']\n",
    "assert filtrab(['c','a','c','d','b','a','c','a','b','e']) == ['a','b','a','a','b']\n",
    "\n",
    "l = ['a','c','b']\n",
    "assert filtrab(l) == ['a','b'] # verifica che sia ritornata una NUOVA lista\n",
    "assert l == ['a','c','b']      # verifica che la lista originale non sia stata modificata"
   ]
  },
  {
   "cell_type": "raw",
   "id": "662cc749",
   "metadata": {
    "format": "text/html"
   },
   "source": [
    "</div>"
   ]
  },
  {
   "cell_type": "code",
   "execution_count": 24,
   "id": "462f9213-stripped",
   "metadata": {},
   "outputs": [],
   "source": [
    "def filtrab(lista):\n",
    "    raise Exception('TODO IMPLEMENT ME !')\n",
    "\n",
    "\n",
    "assert filtrab([]) == []\n",
    "assert filtrab(['a']) == ['a']\n",
    "assert filtrab(['b']) == ['b']\n",
    "assert filtrab(['a','b']) == ['a','b']\n",
    "assert filtrab(['a','b','c']) == ['a','b']\n",
    "assert filtrab(['a','c','b']) == ['a','b']\n",
    "assert filtrab(['c','a','b']) == ['a','b']\n",
    "assert filtrab(['c','a','c','d','b','a','c','a','b','e']) == ['a','b','a','a','b']\n",
    "\n",
    "l = ['a','c','b']\n",
    "assert filtrab(l) == ['a','b'] # verifica che sia ritornata una NUOVA lista\n",
    "assert l == ['a','c','b']      # verifica che la lista originale non sia stata modificata"
   ]
  },
  {
   "cell_type": "markdown",
   "id": "32eb81eb",
   "metadata": {},
   "source": [
    "### collina\n",
    "\n",
    "✪✪ RITORNA una lista in cui all'inizio sono presenti i primi numeri da uno a `n` in crescendo, e dopo `n` decrescono fino a `1`. NOTA: `n` è contenuto una sola volta.\n",
    "\n",
    "Per esempio, \n",
    "\n",
    "```python\n",
    "collina(4)\n",
    "```\n",
    "\n",
    "deve ritornare\n",
    "\n",
    "```python\n",
    "[1,2,3,4,3,2,1]\n",
    "```\n",
    "\n",
    "\n",
    "Ingredienti:\n",
    "- variabile per la lista da ritornare\n",
    "- due cicli for di seguito e funzioni range oppure due while di seguito "
   ]
  },
  {
   "cell_type": "raw",
   "id": "b57de0f4",
   "metadata": {
    "format": "text/html"
   },
   "source": [
    "<a  class=\"jupman-sol jupman-sol-toggler\" \n",
    " onclick=\"jupman.toggleSolution(this);\" \n",
    " data-jupman-show=\"Mostra soluzione\" data-jupman-hide=\"Nascondi\">Mostra soluzione</a><div class=\"jupman-sol jupman-sol-code\" style=\"display:none\">  "
   ]
  },
  {
   "cell_type": "code",
   "execution_count": 25,
   "id": "c6569db6",
   "metadata": {},
   "outputs": [],
   "source": [
    "def collina(n):   \n",
    "    \n",
    "    \n",
    "    ret = []\n",
    "    for i in range(1,n):\n",
    "        ret.append(i)\n",
    "    for i in range(n,0,-1):\n",
    "        ret.append(i)\n",
    "    return ret\n",
    "    \n",
    "\n",
    "assert collina(0) == []\n",
    "assert collina(1) == [1]\n",
    "assert collina(2) == [1,2,1]\n",
    "assert collina(3) == [1,2,3,2,1]\n",
    "assert collina(4) == [1,2,3,4,3,2,1]\n",
    "assert collina(5) == [1,2,3,4,5,4,3,2,1]"
   ]
  },
  {
   "cell_type": "raw",
   "id": "6e0f2b0f",
   "metadata": {
    "format": "text/html"
   },
   "source": [
    "</div>"
   ]
  },
  {
   "cell_type": "code",
   "execution_count": 25,
   "id": "c6569db6-stripped",
   "metadata": {},
   "outputs": [],
   "source": [
    "def collina(n):   \n",
    "    \n",
    "    raise Exception('TODO IMPLEMENT ME !')\n",
    "\n",
    "assert collina(0) == []\n",
    "assert collina(1) == [1]\n",
    "assert collina(2) == [1,2,1]\n",
    "assert collina(3) == [1,2,3,2,1]\n",
    "assert collina(4) == [1,2,3,4,3,2,1]\n",
    "assert collina(5) == [1,2,3,4,5,4,3,2,1]"
   ]
  },
  {
   "cell_type": "markdown",
   "id": "a819ffee",
   "metadata": {},
   "source": [
    "### vetta \n",
    "\n",
    "✪✪ Supponiamo che in una lista vengano salvate le altitudini  di una strada di montagna prendendo una misura ogni 3 km (assumiamo che la strada sia costantemente in salita). Ad un certo punto, si arriverà alla vetta della montagna dove si misurerà l’altezza sul livello del mare. Chiaramente, esiste anche una strada per scendere (costantemente in discesa) e anche qui verrà misurata l’altitudine ogni 3 km. \n",
    "\n",
    "Un esempio di misurazione è `[100, 400, 800, 1220, 1600, 1400, 1000, 300, 40]`\n",
    "\n",
    "* Scrivere una funzione che RITORNI il _valore_ della lista che corrisponde alla misurazione presa in vetta \n",
    "\n",
    "* se la lista contiene meno di tre elementi, lanciare eccezione `ValueError`\n",
    "\n",
    "```python\n",
    ">>> vetta([100,400, 800, 1220, 1600, 1400, 1000, 300, 40])\n",
    "1600\n",
    "```\n",
    "\n",
    "* **USA** un ciclo `while` terminando la ricerca appena trovi la vetta\n",
    "* **NON USARE** la funzione `max` (troppo facile!)"
   ]
  },
  {
   "cell_type": "raw",
   "id": "3eaee48f",
   "metadata": {
    "format": "text/html"
   },
   "source": [
    "<a  class=\"jupman-sol jupman-sol-toggler\" \n",
    " onclick=\"jupman.toggleSolution(this);\" \n",
    " data-jupman-show=\"Mostra soluzione\" data-jupman-hide=\"Nascondi\">Mostra soluzione</a><div class=\"jupman-sol jupman-sol-code\" style=\"display:none\">  "
   ]
  },
  {
   "cell_type": "code",
   "execution_count": 26,
   "id": "1b8b9593",
   "metadata": {},
   "outputs": [],
   "source": [
    "\n",
    "def vetta(lista):\n",
    "    \n",
    "    if len(lista) < 3:\n",
    "        raise ValueError(\"Lista vuota !\")\n",
    "    if len(lista) == 1:\n",
    "        return lista[0]\n",
    "        \n",
    "    for i in range(len(lista)):\n",
    "        if lista[i] > lista[i+1]:\n",
    "            return lista[i]\n",
    "    \n",
    "    return lista[-i]  # strada senza discesa\n",
    "                \n",
    "    \n",
    "\n",
    "\n",
    "\n",
    "assert vetta([5,40,7]) == 40\n",
    "assert vetta([5,30,4]) == 30\n",
    "assert vetta([5,70,70, 4]) == 70\n",
    "assert vetta([5,10,80,25,2]) == 80\n",
    "assert vetta([100,400, 800, 1220, 1600, 1400, 1000, 300, 40]) == 1600\n",
    "try:\n",
    "    vetta([])         # con questa lista anomala ci attendiamo che sollevi l'eccezione ValueError\n",
    "    raise Exception(\"Non sarei dovuto arrivare fin qua !\") \n",
    "except ValueError:    # se solleva l'eccezione,si sta comportando come previsto e non facciamo niente\n",
    "    pass"
   ]
  },
  {
   "cell_type": "raw",
   "id": "f193e3d5",
   "metadata": {
    "format": "text/html"
   },
   "source": [
    "</div>"
   ]
  },
  {
   "cell_type": "code",
   "execution_count": 26,
   "id": "1b8b9593-stripped",
   "metadata": {},
   "outputs": [],
   "source": [
    "\n",
    "def vetta(lista):\n",
    "    raise Exception('TODO IMPLEMENT ME !')\n",
    "\n",
    "\n",
    "\n",
    "assert vetta([5,40,7]) == 40\n",
    "assert vetta([5,30,4]) == 30\n",
    "assert vetta([5,70,70, 4]) == 70\n",
    "assert vetta([5,10,80,25,2]) == 80\n",
    "assert vetta([100,400, 800, 1220, 1600, 1400, 1000, 300, 40]) == 1600\n",
    "try:\n",
    "    vetta([])         # con questa lista anomala ci attendiamo che sollevi l'eccezione ValueError\n",
    "    raise Exception(\"Non sarei dovuto arrivare fin qua !\") \n",
    "except ValueError:    # se solleva l'eccezione,si sta comportando come previsto e non facciamo niente\n",
    "    pass"
   ]
  },
  {
   "cell_type": "markdown",
   "id": "344e5635",
   "metadata": {},
   "source": [
    "### pari\n",
    "\n",
    "✪✪ RITORNA una lista contenente gli elementi dalla lista di input alle posizioni pari,  cominciando dalla zero che è considerato pari\n",
    "\n",
    "- si può assumere che la lista di input contenga sempre un numero pari di \n",
    "  elementi\n",
    "- Suggerimento: ricordati che range può prendere tre parametri."
   ]
  },
  {
   "cell_type": "raw",
   "id": "fff461a0",
   "metadata": {
    "format": "text/html"
   },
   "source": [
    "<a  class=\"jupman-sol jupman-sol-toggler\" \n",
    " onclick=\"jupman.toggleSolution(this);\" \n",
    " data-jupman-show=\"Mostra soluzione\" data-jupman-hide=\"Nascondi\">Mostra soluzione</a><div class=\"jupman-sol jupman-sol-code\" style=\"display:none\">  "
   ]
  },
  {
   "cell_type": "code",
   "execution_count": 27,
   "id": "867366ff",
   "metadata": {},
   "outputs": [],
   "source": [
    "def pari(lista):\n",
    "    \n",
    "    ret = []\n",
    "    for i in range(0,len(lista),2):\n",
    "        ret.append(lista[i])\n",
    "    return ret\n",
    "    \n",
    "    \n",
    "\n",
    "assert pari([]) == []\n",
    "assert pari(['a','b']) == ['a']\n",
    "assert pari(['a','b','c','d']) == ['a', 'c']\n",
    "assert pari(['a','b','a','c']) == ['a', 'a']\n",
    "assert pari(['a','b','c','d','e','f']) == ['a', 'c','e']"
   ]
  },
  {
   "cell_type": "raw",
   "id": "16e70608",
   "metadata": {
    "format": "text/html"
   },
   "source": [
    "</div>"
   ]
  },
  {
   "cell_type": "code",
   "execution_count": 27,
   "id": "867366ff-stripped",
   "metadata": {},
   "outputs": [],
   "source": [
    "def pari(lista):\n",
    "    raise Exception('TODO IMPLEMENT ME !')\n",
    "    \n",
    "\n",
    "assert pari([]) == []\n",
    "assert pari(['a','b']) == ['a']\n",
    "assert pari(['a','b','c','d']) == ['a', 'c']\n",
    "assert pari(['a','b','a','c']) == ['a', 'a']\n",
    "assert pari(['a','b','c','d','e','f']) == ['a', 'c','e']"
   ]
  },
  {
   "cell_type": "markdown",
   "id": "2d365f6c",
   "metadata": {},
   "source": [
    "### mix\n",
    "\n",
    "✪✪ RITORNA una nuova lista in cui gli elementi sono presi alternativamente da \n",
    "lista1 e da lista2. \n",
    "- si può assumere che `lista1` e `lista2` contengano lo stesso numero di elementi\n",
    "\n",
    "Esempio:\n",
    "\n",
    "```python\n",
    "    mix(['a', 'b','c'], ['x', 'y','z']) \n",
    "```\n",
    "\n",
    "deve dare \n",
    "```python\n",
    "    ['a', 'x', 'b','y', 'c','z']\n",
    "```"
   ]
  },
  {
   "cell_type": "raw",
   "id": "76f78ffb",
   "metadata": {
    "format": "text/html"
   },
   "source": [
    "<a  class=\"jupman-sol jupman-sol-toggler\" \n",
    " onclick=\"jupman.toggleSolution(this);\" \n",
    " data-jupman-show=\"Mostra soluzione\" data-jupman-hide=\"Nascondi\">Mostra soluzione</a><div class=\"jupman-sol jupman-sol-code\" style=\"display:none\">  "
   ]
  },
  {
   "cell_type": "code",
   "execution_count": 28,
   "id": "a985c93e",
   "metadata": {},
   "outputs": [],
   "source": [
    "\n",
    "def mix(lista1, lista2):\n",
    "    \n",
    "    ret = []\n",
    "    for i in range(len(lista1)):\n",
    "        ret.append(lista1[i])\n",
    "        ret.append(lista2[i])\n",
    "    return ret\n",
    "    \n",
    "\n",
    "\n",
    "assert mix([], []) == []\n",
    "assert mix(['a'], ['x']) == ['a', 'x']\n",
    "assert mix(['a'], ['a']) == ['a', 'a']\n",
    "assert mix(['a', 'b'], ['x', 'y']) == ['a', 'x', 'b','y']\n",
    "assert mix(['a', 'b','c'], ['x', 'y','z']) == ['a', 'x', 'b','y', 'c','z']"
   ]
  },
  {
   "cell_type": "raw",
   "id": "c0a9364e",
   "metadata": {
    "format": "text/html"
   },
   "source": [
    "</div>"
   ]
  },
  {
   "cell_type": "code",
   "execution_count": 28,
   "id": "a985c93e-stripped",
   "metadata": {},
   "outputs": [],
   "source": [
    "\n",
    "def mix(lista1, lista2):\n",
    "    raise Exception('TODO IMPLEMENT ME !')\n",
    "\n",
    "\n",
    "assert mix([], []) == []\n",
    "assert mix(['a'], ['x']) == ['a', 'x']\n",
    "assert mix(['a'], ['a']) == ['a', 'a']\n",
    "assert mix(['a', 'b'], ['x', 'y']) == ['a', 'x', 'b','y']\n",
    "assert mix(['a', 'b','c'], ['x', 'y','z']) == ['a', 'x', 'b','y', 'c','z']"
   ]
  },
  {
   "cell_type": "markdown",
   "id": "9b59034d",
   "metadata": {},
   "source": [
    "### nostop\n",
    "\n",
    "✪✪ Quando si analizza una frase, può essere utile processarla per rimuovere parole molto comuni, come per \n",
    "esempio gli articoli e le preposizioni: `\"un libro su Python\"` si può semplificare in `\"libro Python\"`\n",
    "\n",
    "Le parole 'poco utili' vengono chiamate _stopwords_. Questo processo è per esempio eseguito dai motori di ricerca per ridurre la complessità della stringa di input fornita dall'utente.\n",
    "\n",
    "\n",
    "Implementa una funzione che prende una stringa e RITORNA la stringa di input senza le stopwords\n",
    "\n",
    "**SUGGERIMENTO 1**: le stringhe in Python sono *immutabili* ! Per rimuovere le parole devi creare una \n",
    "_nuova_ stringa a partire dalla stringa di partenza. \n",
    " \n",
    "**SUGGERIMENTO 2**: crea una lista di parole così:\n",
    "\n",
    "```python\n",
    "lista = stringa.split()\n",
    "```\n",
    "\n",
    "**SUGGERIMENTO 3**: opera le opportune trasformazioni su lista, e poi costruisci la stringa da restituire con  `\" \".join(lista)`\n"
   ]
  },
  {
   "cell_type": "raw",
   "id": "3cd9ccc8",
   "metadata": {
    "format": "text/html"
   },
   "source": [
    "<a  class=\"jupman-sol jupman-sol-toggler\" \n",
    " onclick=\"jupman.toggleSolution(this);\" \n",
    " data-jupman-show=\"Mostra soluzione\" data-jupman-hide=\"Nascondi\">Mostra soluzione</a><div class=\"jupman-sol jupman-sol-code\" style=\"display:none\">  "
   ]
  },
  {
   "cell_type": "code",
   "execution_count": 29,
   "id": "1a4d1680",
   "metadata": {},
   "outputs": [],
   "source": [
    "\n",
    "def nostop(stringa, stopwords):\n",
    "    \n",
    "    insieme = set(stopwords)   # la ricerca nell'insieme sarà più efficiente\n",
    "    lista = stringa.split()\n",
    "    ret = []\n",
    "    for parola in lista:\n",
    "        if parola not in insieme:\n",
    "            ret.append(parola)\n",
    "    return \" \".join(ret)\n",
    "    \n",
    "\n",
    "assert nostop(\"un\", [\"un\"]) == \"\"\n",
    "assert nostop(\"un\", []) == \"un\"\n",
    "assert nostop(\"\", []) == \"\"\n",
    "assert nostop(\"\", [\"un\"]) == \"\"\n",
    "assert nostop(\"un libro\", [\"un\"]) == \"libro\"\n",
    "assert nostop(\"un libro su Python\", [\"un\",\"su\"]) == \"libro Python\"\n",
    "assert nostop(\"un libro su Python per principianti\", [\"un\",\"uno\",\"il\",\"su\",\"per\"]) == \"libro Python principianti\"\n",
    "assert nostop(\"un libro\\tsu Python\\nper principianti\", [\"un\",\"uno\",\"il\",\"su\",\"per\"]) == \"libro Python principianti\""
   ]
  },
  {
   "cell_type": "raw",
   "id": "3a308f98",
   "metadata": {
    "format": "text/html"
   },
   "source": [
    "</div>"
   ]
  },
  {
   "cell_type": "code",
   "execution_count": 29,
   "id": "1a4d1680-stripped",
   "metadata": {},
   "outputs": [],
   "source": [
    "\n",
    "def nostop(stringa, stopwords):\n",
    "    raise Exception('TODO IMPLEMENT ME !')\n",
    "\n",
    "assert nostop(\"un\", [\"un\"]) == \"\"\n",
    "assert nostop(\"un\", []) == \"un\"\n",
    "assert nostop(\"\", []) == \"\"\n",
    "assert nostop(\"\", [\"un\"]) == \"\"\n",
    "assert nostop(\"un libro\", [\"un\"]) == \"libro\"\n",
    "assert nostop(\"un libro su Python\", [\"un\",\"su\"]) == \"libro Python\"\n",
    "assert nostop(\"un libro su Python per principianti\", [\"un\",\"uno\",\"il\",\"su\",\"per\"]) == \"libro Python principianti\"\n",
    "assert nostop(\"un libro\\tsu Python\\nper principianti\", [\"un\",\"uno\",\"il\",\"su\",\"per\"]) == \"libro Python principianti\""
   ]
  },
  {
   "cell_type": "markdown",
   "id": "d0df0fad",
   "metadata": {},
   "source": [
    "### Esercizio - trez\n",
    "\n",
    "✪✪ MODIFICA `lst` mettendo la lettera `'z'` agli indici divisibili per 3.\n",
    "\n",
    "```python\n",
    ">>> lst = ['f','c','s','g','a','w','a','b']\n",
    ">>> trez(lst)\n",
    ">>> lst\n",
    ">>> ['z','c','s','z','a','w','z','b']\n",
    "```"
   ]
  },
  {
   "cell_type": "raw",
   "id": "3396606f",
   "metadata": {
    "format": "text/html"
   },
   "source": [
    "<a  class=\"jupman-sol jupman-sol-toggler\" \n",
    " onclick=\"jupman.toggleSolution(this);\" \n",
    " data-jupman-show=\"Mostra soluzione\" data-jupman-hide=\"Nascondi\">Mostra soluzione</a><div class=\"jupman-sol jupman-sol-code\" style=\"display:none\">  "
   ]
  },
  {
   "cell_type": "code",
   "execution_count": 30,
   "id": "cad6adb9",
   "metadata": {},
   "outputs": [],
   "source": [
    "def trez(lst):    \n",
    "    \n",
    "   \n",
    "    ret = []\n",
    "    for i in range(len(lst)):\n",
    "        if i % 3 == 0:\n",
    "            lst[i] = 'z'            \n",
    "    \n",
    "\n",
    "l1 = []\n",
    "trez(l1)\n",
    "assert l1 == []\n",
    "l2 = ['a']\n",
    "trez(l2)\n",
    "assert l2 == ['z']\n",
    "l3 = ['a','b']\n",
    "assert trez(['a','b']) == None  # non ritorna niente!\n",
    "trez(l3)\n",
    "assert l3 == ['z','b']\n",
    "l4 = ['a','b','c']\n",
    "trez(l4)\n",
    "assert l4 == ['z','b','c']\n",
    "l5 = ['a','b','c','d']\n",
    "trez(l5)\n",
    "assert l5 == ['z','b','c','z']\n",
    "l6 = ['f','c','s','g','a','w','a','b']\n",
    "trez(l6)\n",
    "assert l6 == ['z','c','s','z','a','w','z','b']"
   ]
  },
  {
   "cell_type": "raw",
   "id": "d602bce6",
   "metadata": {
    "format": "text/html"
   },
   "source": [
    "</div>"
   ]
  },
  {
   "cell_type": "code",
   "execution_count": 30,
   "id": "cad6adb9-stripped",
   "metadata": {},
   "outputs": [],
   "source": [
    "def trez(lst):    \n",
    "    raise Exception('TODO IMPLEMENT ME !')\n",
    "\n",
    "l1 = []\n",
    "trez(l1)\n",
    "assert l1 == []\n",
    "l2 = ['a']\n",
    "trez(l2)\n",
    "assert l2 == ['z']\n",
    "l3 = ['a','b']\n",
    "assert trez(['a','b']) == None  # non ritorna niente!\n",
    "trez(l3)\n",
    "assert l3 == ['z','b']\n",
    "l4 = ['a','b','c']\n",
    "trez(l4)\n",
    "assert l4 == ['z','b','c']\n",
    "l5 = ['a','b','c','d']\n",
    "trez(l5)\n",
    "assert l5 == ['z','b','c','z']\n",
    "l6 = ['f','c','s','g','a','w','a','b']\n",
    "trez(l6)\n",
    "assert l6 == ['z','c','s','z','a','w','z','b']"
   ]
  },
  {
   "cell_type": "markdown",
   "id": "bca12e8b",
   "metadata": {},
   "source": [
    "## Esercizi coi numeri"
   ]
  },
  {
   "cell_type": "markdown",
   "id": "d9f40412",
   "metadata": {},
   "source": [
    "### Esercizio -  listoint\n",
    "\n",
    "✪✪ Data una lista non vuota di cifre rappresentanti un intero non negativo, RITORNA un oggetto intero python.\n",
    "\n",
    "Le cifre sono memorizzate con la cifra più significativa alla testa della lista, e ogni elemento della lista contiene una singola cifra.\n",
    "\n",
    "Puoi assumere che l'intere non contenga nessuno zero a sinistra, eccetto il numero `0` stesso.\n",
    "\n",
    "Esempi:\n",
    "\n",
    "```python\n",
    ">>> listoint([3,7,5])\n",
    "375  \n",
    ">>> listoint([2,0])\n",
    "20    \n",
    ">>> listoint([0])\n",
    "0\n",
    "```"
   ]
  },
  {
   "cell_type": "markdown",
   "id": "58cfd73c",
   "metadata": {},
   "source": [
    "**NON** provare furberie tipo convertire tutta la lista ad una stringa, trucchi 'sporchi' come questi portano sempre a conseguenze indesiderate!\n",
    "\n",
    "Il modo più opportuno è seguire le regole della matematica, considerando che\n",
    "\n",
    "$$5746 = 5*1000 + 7*100 + 4 * 10 + 6 * 1$$\n",
    "\n",
    "Per i nostri scopi, è meglio riscrivere la formula così:\n",
    "\n",
    "$$5746 = 6 * 1 + 4 * 10 + 7*100 + 5*1000$$\n",
    "\n",
    "In sostanza, stiamo facendo una somma $4$ volte. Ogni volta, e cominciando dalla cifra meno significativa, la cifra in considerazione è moltiplicata per potenze progressive di 10, cominciando da \n",
    "$10^0 = 1$ fino a $10^4=1000$.\n",
    "\n",
    "Per comprendere come potrebbe funzionare in Python, potremmo aggiungere progressivamente conti ad una variabile accumulatore `c` così:\n",
    "\n",
    "\n",
    "```python\n",
    "c = 0\n",
    "\n",
    "c = c + 6*1\n",
    "c = c + 4*10\n",
    "c = c + 7*100\n",
    "c = c + 5*1000\n",
    "```\n",
    "\n",
    "In un modo più pythonico e conciso, potremmo scrivere:\n",
    "\n",
    "```python\n",
    "c = 0\n",
    "\n",
    "c += 6*1\n",
    "c += 4*10\n",
    "c += 7*100\n",
    "c += 5*1000\n",
    "```\n",
    "\n",
    "Perciò prima di tutto per prendere i  6,4,7,5 potrebbe essere utile scansionare la lista in ordine inverso usando la funzione  `reversed` (notare il  `ed` alla fine!)"
   ]
  },
  {
   "cell_type": "code",
   "execution_count": 31,
   "id": "e132e291",
   "metadata": {},
   "outputs": [
    {
     "name": "stdout",
     "output_type": "stream",
     "text": [
      "6\n",
      "4\n",
      "7\n",
      "5\n"
     ]
    }
   ],
   "source": [
    "for x in reversed([5,7,4,6]):\n",
    "    print(x)"
   ]
  },
  {
   "cell_type": "markdown",
   "id": "a1b1526b",
   "metadata": {},
   "source": [
    "Una volte che abbiamo tale sequenza, abbiamo bisogno di un modo per prendere una sequenza di potenze progressivamente crescenti di 10. Per farlo, possiamo usare una variabile `potenza`:"
   ]
  },
  {
   "cell_type": "code",
   "execution_count": 32,
   "id": "6eccba1d",
   "metadata": {},
   "outputs": [
    {
     "name": "stdout",
     "output_type": "stream",
     "text": [
      "1\n",
      "10\n",
      "100\n",
      "1000\n"
     ]
    }
   ],
   "source": [
    "potenza = 1\n",
    "\n",
    "for x in reversed([5,7,4,6]):\n",
    "    print (potenza)\n",
    "    potenza = potenza * 10"
   ]
  },
  {
   "cell_type": "markdown",
   "id": "15c6997e",
   "metadata": {},
   "source": [
    "Adesso dovresti avere tutti gli elementi necessari per implementare la funzione richiesta da te.\n",
    "\n",
    "<div class=\"alert alert-info\">\n",
    "\n",
    "**RICORDATI**: se non puoi trovare una soluzione generica, prova con costanti e scrivi giù tutti i passaggi che fai. Poi nelle nuove celle prova a sostitutire le costanti con variabili e continua a sperimentare - è il metodo migliore per individuare possibili schemi di soluzione!\n",
    "</div>"
   ]
  },
  {
   "cell_type": "raw",
   "id": "1e178a5a",
   "metadata": {
    "format": "text/html"
   },
   "source": [
    "<a  class=\"jupman-sol jupman-sol-toggler\" \n",
    " onclick=\"jupman.toggleSolution(this);\" \n",
    " data-jupman-show=\"Mostra soluzione\" data-jupman-hide=\"Nascondi\">Mostra soluzione</a><div class=\"jupman-sol jupman-sol-code\" style=\"display:none\">  "
   ]
  },
  {
   "cell_type": "code",
   "execution_count": 33,
   "id": "a9f9cbd0",
   "metadata": {},
   "outputs": [],
   "source": [
    "def listoint(lst):\n",
    "    \"\"\" RITORNA un intero Python che è rappresentato dalla lista di cifre fornita, \n",
    "        che rappresenta sempre un numero >= 0 e non ha zeri a sinistra eccetto \n",
    "        per il caso speciale del numero 0\n",
    "    \"\"\"\n",
    "    \n",
    "    potenza = 1\n",
    "    num = 0\n",
    "    for cifra in reversed(lst):\n",
    "        num += potenza * cifra\n",
    "        potenza = potenza * 10\n",
    "    return num\n",
    "    \n",
    "\n",
    "assert listoint([0]) == 0\n",
    "assert listoint([1]) == 1\n",
    "assert listoint([2]) == 2\n",
    "assert listoint([92]) == 92\n",
    "assert listoint([90]) == 90\n",
    "assert listoint([5,7,4]) == 574"
   ]
  },
  {
   "cell_type": "raw",
   "id": "19350d63",
   "metadata": {
    "format": "text/html"
   },
   "source": [
    "</div>"
   ]
  },
  {
   "cell_type": "code",
   "execution_count": 33,
   "id": "a9f9cbd0-stripped",
   "metadata": {},
   "outputs": [],
   "source": [
    "def listoint(lst):\n",
    "    \"\"\" RITORNA un intero Python che è rappresentato dalla lista di cifre fornita, \n",
    "        che rappresenta sempre un numero >= 0 e non ha zeri a sinistra eccetto \n",
    "        per il caso speciale del numero 0\n",
    "    \"\"\"\n",
    "    raise Exception('TODO IMPLEMENT ME !')\n",
    "\n",
    "assert listoint([0]) == 0\n",
    "assert listoint([1]) == 1\n",
    "assert listoint([2]) == 2\n",
    "assert listoint([92]) == 92\n",
    "assert listoint([90]) == 90\n",
    "assert listoint([5,7,4]) == 574"
   ]
  },
  {
   "cell_type": "markdown",
   "id": "a8fd3749",
   "metadata": {},
   "source": [
    "### Esercizio - intolist\n",
    "\n",
    "✪✪ Proviamo adesso l'operazione inversa, cioè, passare da un oggetto numero Python  come `574` ad una lista `[5,7,4]`\n",
    "\n",
    "Esempio:\n",
    "\n",
    "```python\n",
    ">>> intolist(375)\n",
    "[3,7,5]\n",
    "\n",
    ">>> intolist(20)\n",
    "[2,0]\n",
    "\n",
    ">>> intolist(0)\n",
    "[0]\n",
    "```\n",
    "\n",
    "Per farlo, dobbiamo sfruttare la divisione intera `//` e l'operatore modulo `%`. \n",
    "\n",
    "Supponiamo di voler prender la cifra finale `4` dal `574`. Per farlo, possiamo notare che il `4` è il resto della divisione intera tra `547` e `10`:"
   ]
  },
  {
   "cell_type": "code",
   "execution_count": 34,
   "id": "c8b9e0ea",
   "metadata": {},
   "outputs": [
    {
     "data": {
      "text/plain": [
       "4"
      ]
     },
     "execution_count": 34,
     "metadata": {},
     "output_type": "execute_result"
    }
   ],
   "source": [
    "574 % 10"
   ]
  },
  {
   "cell_type": "markdown",
   "id": "661dffb6",
   "metadata": {},
   "source": [
    "Questo estra il quattro, ma se vogliamo trovare un algoritmo per il nostro problema, dobbiamo anche trovare un modo per ridurre progressivamente la dimensione del problema. Per farlo, possiamo sfruttare l'operatore di divisione intera `//`:"
   ]
  },
  {
   "cell_type": "code",
   "execution_count": 35,
   "id": "6a70092f",
   "metadata": {},
   "outputs": [
    {
     "data": {
      "text/plain": [
       "57"
      ]
     },
     "execution_count": 35,
     "metadata": {},
     "output_type": "execute_result"
    }
   ],
   "source": [
    "574 // 10"
   ]
  },
  {
   "cell_type": "markdown",
   "id": "8f17398c",
   "metadata": {},
   "source": [
    "Adesso, dato un numero intero qualunque, dovresti sapere come:\n",
    "\n",
    "a. estrarre l'ultima cifra\n",
    "b. ridurre il problema per l'iterazione successiva\n",
    "\n",
    "Questo dovrebbe essere sufficiente per procedere. Presta particolare attenzione al caso speciale dell'input `0`"
   ]
  },
  {
   "cell_type": "raw",
   "id": "e2a4dc0b",
   "metadata": {
    "format": "text/html"
   },
   "source": [
    "<a  class=\"jupman-sol jupman-sol-toggler\" \n",
    " onclick=\"jupman.toggleSolution(this);\" \n",
    " data-jupman-show=\"Mostra soluzione\" data-jupman-hide=\"Nascondi\">Mostra soluzione</a><div class=\"jupman-sol jupman-sol-code\" style=\"display:none\">  "
   ]
  },
  {
   "cell_type": "code",
   "execution_count": 36,
   "id": "dc15b26b",
   "metadata": {},
   "outputs": [],
   "source": [
    "def intolist(num):\n",
    "    \"\"\"  Prende un numero intero >= 0 e RITORNA una lista di cifre rappresentanti il numero in base 10.    \n",
    "    \"\"\"\n",
    "    \n",
    "    if num == 0:\n",
    "        return [0]\n",
    "    else:\n",
    "        ret = []\n",
    "        d = num\n",
    "        while d > 0:\n",
    "            cifra = d % 10   # resto di d diviso per 10\n",
    "            ret.append(cifra)\n",
    "            d = d // 10\n",
    "\n",
    "        return list(reversed(ret))\n",
    "        \n",
    "    \n",
    "assert intolist(0) == [0]\n",
    "assert intolist(1) == [1]\n",
    "assert intolist(2) == [2]\n",
    "assert intolist(92) == [9,2]\n",
    "assert intolist(90) == [9,0]\n",
    "assert intolist(574) == [5,7,4]    "
   ]
  },
  {
   "cell_type": "raw",
   "id": "024bf3a1",
   "metadata": {
    "format": "text/html"
   },
   "source": [
    "</div>"
   ]
  },
  {
   "cell_type": "code",
   "execution_count": 36,
   "id": "dc15b26b-stripped",
   "metadata": {},
   "outputs": [],
   "source": [
    "def intolist(num):\n",
    "    \"\"\"  Prende un numero intero >= 0 e RITORNA una lista di cifre rappresentanti il numero in base 10.    \n",
    "    \"\"\"\n",
    "    raise Exception('TODO IMPLEMENT ME !')\n",
    "    \n",
    "assert intolist(0) == [0]\n",
    "assert intolist(1) == [1]\n",
    "assert intolist(2) == [2]\n",
    "assert intolist(92) == [9,2]\n",
    "assert intolist(90) == [9,0]\n",
    "assert intolist(574) == [5,7,4]    "
   ]
  },
  {
   "cell_type": "markdown",
   "id": "83de3d31",
   "metadata": {},
   "source": [
    "### Esercizio - add one\n",
    "\n",
    "Data una lista non vuota di cifre rappresentanti un intero non-negativo, aggiunge uno all'intero.\n",
    "\n",
    "Le cifre sono memorizzate con la cifra più significativa alla testa della lista, e ogni elemento della lista contiene una cifra singola.\n",
    "\n",
    "Puoi assumere che l'intero non contenga nessuno zero a sinistra, eccetto per il numero `0` stesso.\n",
    "\n",
    "Per esempio:\n",
    "\n",
    "```\n",
    "     Input: [1,2,3]\n",
    "    Output: [1,2,4]\n",
    "\n",
    "     Input: [3,6,9,9]\n",
    "    Output: [3,7,0,0]\n",
    "\n",
    "     Input: [9,9,9,9]\n",
    "    Output: [1,0,0,0,0]\n",
    "```\n",
    "\n",
    "Ci sono due modi per risolvere l'esercizio: puoi convertire ad un oggetto intero Python, aggiungere `1`, e quindi convertire indietro ad una lista, procedura che seguira implementando `add_one_conv`. L'altro modo è operare direttamente su una lista, usando una variabile di riporto, cosa che implementerai nella `add_one_rip`"
   ]
  },
  {
   "cell_type": "markdown",
   "id": "3a7c9599",
   "metadata": {},
   "source": [
    "#### Esercizio - add_one_conv\n",
    "\n",
    "✪✪✪ Ti servono tre passi:\n",
    "\n",
    "1. Convertire ad un intero python proprio\n",
    "2. aggiungere `1` all'intero python\n",
    "3. convertire indietro a list, e ritornarla"
   ]
  },
  {
   "cell_type": "raw",
   "id": "211481ab",
   "metadata": {
    "format": "text/html"
   },
   "source": [
    "<a  class=\"jupman-sol jupman-sol-toggler\" \n",
    " onclick=\"jupman.toggleSolution(this);\" \n",
    " data-jupman-show=\"Mostra soluzione\" data-jupman-hide=\"Nascondi\">Mostra soluzione</a><div class=\"jupman-sol jupman-sol-code\" style=\"display:none\">  "
   ]
  },
  {
   "cell_type": "code",
   "execution_count": 37,
   "id": "8d9ae55a",
   "metadata": {},
   "outputs": [],
   "source": [
    "def add_one_conv(lst):\n",
    "    \"\"\"\n",
    "        Prende una lista di cifre rappresentanti un intero >= 0 senza zeri alla sinistra eccetto \n",
    "        il numero zero stesso, e RITORNA una NUOVA lista rappresentante il valore di lst più uno.\n",
    "        \n",
    "        Implementala chiamando le funzioni già implementate.        \n",
    "    \"\"\"\n",
    "    \n",
    "    power = 1\n",
    "    num = listoint(lst)\n",
    "    \n",
    "    return intolist(num + 1)        \n",
    "    \n",
    "    \n",
    "assert add_one_conv([0]) == [1]\n",
    "assert add_one_conv([1]) == [2]\n",
    "assert add_one_conv([2]) == [3]\n",
    "assert add_one_conv([9]) == [1, 0]\n",
    "assert add_one_conv([5,7]) == [5, 8]\n",
    "assert add_one_conv([5,9]) == [6, 0]\n",
    "assert add_one_conv([9,9]) == [1, 0, 0]"
   ]
  },
  {
   "cell_type": "raw",
   "id": "eea3fb83",
   "metadata": {
    "format": "text/html"
   },
   "source": [
    "</div>"
   ]
  },
  {
   "cell_type": "code",
   "execution_count": 37,
   "id": "8d9ae55a-stripped",
   "metadata": {},
   "outputs": [],
   "source": [
    "def add_one_conv(lst):\n",
    "    \"\"\"\n",
    "        Prende una lista di cifre rappresentanti un intero >= 0 senza zeri alla sinistra eccetto \n",
    "        il numero zero stesso, e RITORNA una NUOVA lista rappresentante il valore di lst più uno.\n",
    "        \n",
    "        Implementala chiamando le funzioni già implementate.        \n",
    "    \"\"\"\n",
    "    raise Exception('TODO IMPLEMENT ME !')\n",
    "    \n",
    "assert add_one_conv([0]) == [1]\n",
    "assert add_one_conv([1]) == [2]\n",
    "assert add_one_conv([2]) == [3]\n",
    "assert add_one_conv([9]) == [1, 0]\n",
    "assert add_one_conv([5,7]) == [5, 8]\n",
    "assert add_one_conv([5,9]) == [6, 0]\n",
    "assert add_one_conv([9,9]) == [1, 0, 0]"
   ]
  },
  {
   "cell_type": "markdown",
   "id": "81ae295a",
   "metadata": {},
   "source": [
    "#### Esercizio - add_one_rip\n",
    "\n",
    "✪✪✪ Data una lista non vuota di cifre rappresentanti un intero non-negativo, aggiunge uno all'intero.\n",
    "\n",
    "The cifre sono memorizzate con la cifra più significativa alla testa della lista, e ogni elemento della lista contiene una cifra singola.\n",
    "\n",
    "Puoi assumere che l'intero non contenga nessuno zero a sinistra, eccetto per il numero `0` stesso.\n",
    "\n",
    "Per esempio\n",
    "\n",
    "```python\n",
    ">>> add_one_rip([1,2,3])\n",
    "[1,2,4]\n",
    "\n",
    ">>> add_one_rip([3,6,9,9])\n",
    "[3,7,0,0]\n",
    "\n",
    ">>> add_one_rip([9,9,9,9])\n",
    "[1,0,0,0,0]\n",
    "```\n",
    "\n",
    "Per implementarla, opera direttamente sulla lista, usando una variabile `riporto`.\n",
    "\n",
    "Segui semplicemente l'addizione come fatta alle scuole elementari. Comincia con l'ultima cifra e somma uno:\n",
    "\n",
    "Se ottieni un numero $<= 9$, quello è il risultato di sommare le ultime due cifre, e il resto è facile:\n",
    "\n",
    "```\n",
    "596+    riporto=0\n",
    "001      \n",
    "----\n",
    "  7     6 + 1 + riporto = 7\n",
    "```\n",
    "\n",
    "```\n",
    "596+    carry=0\n",
    "001     \n",
    "----\n",
    " 97     9 + 0 + riporto = 9\n",
    "```\n",
    "\n",
    "```\n",
    "596+    carry=0\n",
    "001\n",
    "----\n",
    " 07     5 + 0 + riporto = 5\n",
    "```\n",
    "\n",
    "Se ottieni un numero più grande di 9, allora metti uno zero e setti `riporto` a uno:\n",
    "\n",
    "```\n",
    "3599+    riporto=0\n",
    "0001      \n",
    "-----\n",
    "   0     9 + 1 + riporto = 10    # >9,  scrivo zero e setto riporto a 1\n",
    "```\n",
    "\n",
    "\n",
    "```\n",
    "3599+    riporto=1\n",
    "0001     \n",
    "---- \n",
    "  00     9 + 0 + riporto = 10   # >9, scrivo zero e setto riporto a 1\n",
    "```\n",
    "\n",
    "```\n",
    "3599+    riporto=1\n",
    "0001\n",
    "-----\n",
    " 600     5 + 0 + riporto = 6    # <= 9, scrivo il risultato e setto il riporto a zero\n",
    "```\n",
    "\n",
    "```\n",
    "3599+    riporto=0\n",
    "0001\n",
    "-----\n",
    "3600     3 + 0 + riporto = 3    # <= 9, scrivo il risultato e setto il riporto a zero\n",
    "```"
   ]
  },
  {
   "cell_type": "raw",
   "id": "def306ad",
   "metadata": {
    "format": "text/html"
   },
   "source": [
    "<a  class=\"jupman-sol jupman-sol-toggler\" \n",
    " onclick=\"jupman.toggleSolution(this);\" \n",
    " data-jupman-show=\"Mostra soluzione\" data-jupman-hide=\"Nascondi\">Mostra soluzione</a><div class=\"jupman-sol jupman-sol-code\" style=\"display:none\">  "
   ]
  },
  {
   "cell_type": "code",
   "execution_count": 38,
   "id": "8eae7e0b",
   "metadata": {},
   "outputs": [],
   "source": [
    "def add_one_rip(lst):\n",
    "    \"\"\"\n",
    "        Prende una lista di cifre rappresentanti un intero >= 0 senza zeri alla sinistra eccetto \n",
    "        il numero zero stesso, e RITORNA una NUOVA lista rappresentante il valore di lst più uno.                \n",
    "    \"\"\"    \n",
    "    \n",
    "    ret = []\n",
    "    riporto = 1\n",
    "    for cifra in reversed(lst):\n",
    "        nuova_cifra = cifra + riporto\n",
    "        if nuova_cifra == 10:\n",
    "            ret.append(0)\n",
    "            riporto = 1\n",
    "        else:\n",
    "            ret.append(nuova_cifra)\n",
    "            riporto = 0   \n",
    "    if riporto == 1:\n",
    "        ret.append(riporto)\n",
    "    ret.reverse()\n",
    "    return ret\n",
    "    \n",
    "    \n",
    "assert add_one_rip([0]) == [1]\n",
    "assert add_one_rip([1]) == [2]\n",
    "assert add_one_rip([2]) == [3]\n",
    "assert add_one_rip([9]) == [1, 0]\n",
    "assert add_one_rip([5,7]) == [5, 8]\n",
    "assert add_one_rip([5,9]) == [6, 0]\n",
    "assert add_one_rip([9,9]) == [1, 0, 0]"
   ]
  },
  {
   "cell_type": "raw",
   "id": "2d0d3883",
   "metadata": {
    "format": "text/html"
   },
   "source": [
    "</div>"
   ]
  },
  {
   "cell_type": "code",
   "execution_count": 38,
   "id": "8eae7e0b-stripped",
   "metadata": {},
   "outputs": [],
   "source": [
    "def add_one_rip(lst):\n",
    "    \"\"\"\n",
    "        Prende una lista di cifre rappresentanti un intero >= 0 senza zeri alla sinistra eccetto \n",
    "        il numero zero stesso, e RITORNA una NUOVA lista rappresentante il valore di lst più uno.                \n",
    "    \"\"\"    \n",
    "    raise Exception('TODO IMPLEMENT ME !')\n",
    "    \n",
    "assert add_one_rip([0]) == [1]\n",
    "assert add_one_rip([1]) == [2]\n",
    "assert add_one_rip([2]) == [3]\n",
    "assert add_one_rip([9]) == [1, 0]\n",
    "assert add_one_rip([5,7]) == [5, 8]\n",
    "assert add_one_rip([5,9]) == [6, 0]\n",
    "assert add_one_rip([9,9]) == [1, 0, 0]"
   ]
  },
  {
   "cell_type": "markdown",
   "id": "4b9d8f09",
   "metadata": {},
   "source": [
    "### Esercizio - collatz\n",
    "\n",
    "✪✪✪✪ La [congettura di Collatz](https://it.wikipedia.org/wiki/Congettura_di_Collatz) dice che cominciando da una qualsiasi `n`, se si continua a fare ricorsivamente questi calcoli si ottiene una sequenza che finisce sempre con `1`:\n",
    "\n",
    "- se `n` è pari, dividi `n` per `2`\n",
    "- se `n` è dispari, moltiplicalo per `3` e aggiungi `1`\n",
    "- ripeti finchè raggiungi il valore di `1`\n",
    "\n",
    "Esempio: per `n = 3`, la sequenza è  `[3 , 10 , 5 , 16 , 8 , 4 , 2 , 1]` . \n",
    "\n",
    "Scrivi un programma che crea una lista `seq`, tale per cui per ciascun valore di `n` tra `1` e `50`, `seq[n]` contiene la lunghezza della sequenza generata. Nel caso di `n = 3`, la lunghezza è `8`. Nel caso di `n = 27`, la lunghezza è `111`.\n",
    "\n",
    "Se devi controllare i tuoi risultati, puoi provare questo [utile tool online](https://www.dcode.fr/collatz-conjecture)"
   ]
  },
  {
   "cell_type": "code",
   "execution_count": 39,
   "id": "9cb74b6f",
   "metadata": {},
   "outputs": [],
   "source": [
    "def collatz():\n",
    "    raise Exception(\"TODO IMPLEMENT ME!\")"
   ]
  },
  {
   "cell_type": "markdown",
   "id": "0c713a47",
   "metadata": {},
   "source": [
    "## Prosegui\n",
    "\n",
    "Continua con esercizi su [funzioni e tuple](https://it.softpython.org/functions/fun4-tuples-sol.html)"
   ]
  }
 ],
 "metadata": {
  "kernelspec": {
   "display_name": "Python 3 (ipykernel)",
   "language": "python",
   "name": "python3"
  },
  "language_info": {
   "codemirror_mode": {
    "name": "ipython",
    "version": 3
   },
   "file_extension": ".py",
   "mimetype": "text/x-python",
   "name": "python",
   "nbconvert_exporter": "python",
   "pygments_lexer": "ipython3",
   "version": "3.7.13"
  },
  "toc": {
   "base_numbering": 1,
   "nav_menu": {},
   "number_sections": false,
   "sideBar": true,
   "skip_h1_title": false,
   "title_cell": "Table of Contents",
   "title_sidebar": "Contents",
   "toc_cell": false,
   "toc_position": {},
   "toc_section_display": true,
   "toc_window_display": true
  }
 },
 "nbformat": 4,
 "nbformat_minor": 5
}

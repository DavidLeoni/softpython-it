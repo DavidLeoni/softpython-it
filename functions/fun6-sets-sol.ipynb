{
 "cells": [
  {
   "cell_type": "markdown",
   "id": "43c7cbcb",
   "metadata": {},
   "source": [
    "# Funzioni 6 - esercizi con insiemi\n",
    "\n",
    "## [Scarica zip esercizi](../_static/generated/functions.zip)\n",
    "\n",
    "[Naviga file online](https://github.com/DavidLeoni/softpython-it/tree/master/functions)"
   ]
  },
  {
   "cell_type": "markdown",
   "id": "5d44809e",
   "metadata": {},
   "source": [
    "## Esercizio - sillabe\n",
    "\n",
    "Scrivi una funzione `sillabe` che data una stringa `parola` costituita solo da bisillabe e un insieme `trovate` passato alla funzione, trova tutte le bisillabe distinte e le mette nell'insieme `trovate`.\n",
    "\n",
    "* **NOTA**: la funzione `sillabe` NON ritorna nulla ! \n",
    "\n",
    "Esempio 1:\n",
    "```python\n",
    ">>> trovate = set()\n",
    ">>> sillabe(\"banana\", trovate)\n",
    ">>> trovate\n",
    "{'na', 'ba'}\n",
    "```\n",
    "\n",
    "Esempio 2:\n",
    "\n",
    "```python\n",
    ">>> trovate = set()\n",
    ">>> sillabe(\"ricaricare\", trovate)\n",
    ">>> trovate\n",
    "{'ri', 'ca', 're'}\n",
    "```\n",
    "\n"
   ]
  },
  {
   "cell_type": "raw",
   "id": "bdf9400a",
   "metadata": {
    "format": "text/html"
   },
   "source": [
    "<a  class=\"jupman-sol jupman-sol-toggler\" \n",
    " onclick=\"jupman.toggleSolution(this);\" \n",
    " data-jupman-show=\"Mostra soluzione\" data-jupman-hide=\"Nascondi\">Mostra soluzione</a><div class=\"jupman-sol jupman-sol-code\" style=\"display:none\">  "
   ]
  },
  {
   "cell_type": "code",
   "execution_count": 1,
   "id": "9cf6bf91",
   "metadata": {},
   "outputs": [
    {
     "name": "stdout",
     "output_type": "stream",
     "text": [
      "{'ba', 'na'}\n",
      "{'ri', 're', 'ca'}\n"
     ]
    }
   ],
   "source": [
    "\n",
    "# scrivi qui\n",
    "def sillabe(parola, t):        \n",
    "    for i in range(0, len(parola), 2):\n",
    "        t.add(parola[i:i+2])\n",
    "    \n",
    "trovate = set()\n",
    "sillabe(\"banana\", trovate)\n",
    "print(trovate)\n",
    "\n",
    "trovate = set()\n",
    "sillabe(\"ricaricare\", trovate)\n",
    "print(trovate)"
   ]
  },
  {
   "cell_type": "raw",
   "id": "9bac7670",
   "metadata": {
    "format": "text/html"
   },
   "source": [
    "</div>"
   ]
  },
  {
   "cell_type": "code",
   "execution_count": 1,
   "id": "9cf6bf91-stripped",
   "metadata": {},
   "outputs": [],
   "source": [
    "\n",
    "# scrivi qui\n",
    "\n"
   ]
  },
  {
   "cell_type": "markdown",
   "id": "c1d4ffde",
   "metadata": {},
   "source": [
    "## Esercizio - distingui\n",
    "\n",
    "✪✪ Scrivi una funzione `distingui` che data una lista `listona` contenente sottoliste di due caratteri ciascuna, RITORNA una NUOVA LISTA contenente tutte le sottoliste _distinte_ (ignorando quindi le sottoliste duplicate)\n",
    "\n",
    "* la lista ritornata deve avere gli elementi _nello stesso ordine_ in cui li si è trovati in `listona`\n",
    "* per sapere velocemente se una sottolista è già stata incontrata o meno, **usare un insieme**\n",
    "* **NON** effettuare ricerche in liste (quindi niente `count`, `index`, `in` in liste - sono lenti) !\n",
    "* **NON** effettuare rimozioni da liste (quindi niente `remove` da liste - è lenta) !\n",
    "* **SUGGERIMENTO**: le liste sono _mutabili_, possiamo metterle in un insieme? Se non è possibile, come possiamo fare?\n"
   ]
  },
  {
   "cell_type": "markdown",
   "id": "cb079305",
   "metadata": {},
   "source": [
    "Esempio:\n",
    "\n",
    "```python\n",
    ">>> listona = [ ['d','d'],['a','b'],['d','d'],['c','a'],['c','a'],['d','d'],['a','b'] ]\n",
    ">>> distingui( listona)\n",
    "[['d', 'd'], ['a', 'b'], ['c', 'a']]\n",
    "#NOTA: la variabile listona NON deve essere modificata:\n",
    ">>> listona\n",
    "[ ['d','d'],['a','b'],['d','d'],['c','a'],['c','a'],['d','d'],['a','b'] ]\n",
    "```"
   ]
  },
  {
   "cell_type": "raw",
   "id": "e4499389",
   "metadata": {
    "format": "text/html"
   },
   "source": [
    "<a  class=\"jupman-sol jupman-sol-toggler\" \n",
    " onclick=\"jupman.toggleSolution(this);\" \n",
    " data-jupman-show=\"Mostra soluzione\" data-jupman-hide=\"Nascondi\">Mostra soluzione</a><div class=\"jupman-sol jupman-sol-code\" style=\"display:none\">  "
   ]
  },
  {
   "cell_type": "code",
   "execution_count": 2,
   "id": "587d62db",
   "metadata": {},
   "outputs": [],
   "source": [
    "# scrivi qui\n",
    "\n",
    "def distingui(lona):\n",
    "    s = set()\n",
    "    ret = []\n",
    "    \n",
    "    for sottolista in lona: \n",
    "        # Negli insiemi non possiamo mettere le liste perchè sono mutabili, \n",
    "        # ma possiamo mettere le tuple\n",
    "        tup = tuple(sottolista)\n",
    "\n",
    "        #  Verificare se un elemento appartiene ad un insieme è molto veloce:\n",
    "        #  è indipendente dalla dimensione dell'insieme!\n",
    "        \n",
    "        if tup not in s:  \n",
    "            ret.append(sottolista)\n",
    "            #  Aggiungere un elemento ad un insieme è molto veloce:\n",
    "            #  è indipendente dalla dimensione dell'insieme!\n",
    "            s.add(tup)\n",
    "    \n",
    "    return ret    \n",
    "        \n",
    "listona = [ ['d','d'],['a','b'],['d','d'],['c','a'],['c','a'],['d','d'],['a','b'] ]\n",
    "#print('distinte:', distingui(listona))\n",
    "#print('listona:', listona)"
   ]
  },
  {
   "cell_type": "raw",
   "id": "e719d725",
   "metadata": {
    "format": "text/html"
   },
   "source": [
    "</div>"
   ]
  },
  {
   "cell_type": "code",
   "execution_count": 2,
   "id": "587d62db-stripped",
   "metadata": {},
   "outputs": [],
   "source": [
    "# scrivi qui\n",
    "\n"
   ]
  },
  {
   "cell_type": "markdown",
   "id": "d7b70593",
   "metadata": {},
   "source": [
    "## Esercizio - intersectron\n",
    "\n",
    "![intersectron](img/abc-intersection.png)"
   ]
  },
  {
   "cell_type": "markdown",
   "id": "c1a026f2",
   "metadata": {},
   "source": [
    "Dati una lista `insiemi` contenente un numero arbitrario di insiemi, RITORNA un NUOVO insieme che contiene gli elementi comuni a tutti gli insiemi.\n",
    "\n",
    "Per risolvere l'esercizio, si può intersecare un insieme alla volta con  un ciclo `for` (lento) oppure la tecnica [descritta qui](https://stackoverflow.com/a/2541814) (breve ed efficace). \n",
    "\n",
    "* prova a risolvere in **entrambi** i modi\n",
    "* **ATTENTO** alla lista vuota !\n",
    "* il tuo codice deve funzionare con un **qualsiasi** numeri di insiemi (l'immagine è solo un esempio)"
   ]
  },
  {
   "cell_type": "raw",
   "id": "d4c37ab5",
   "metadata": {
    "format": "text/html"
   },
   "source": [
    "<a  class=\"jupman-sol jupman-sol-toggler\" \n",
    " onclick=\"jupman.toggleSolution(this);\" \n",
    " data-jupman-show=\"Mostra soluzione\" data-jupman-hide=\"Nascondi\">Mostra soluzione</a><div class=\"jupman-sol jupman-sol-code\" style=\"display:none\">  "
   ]
  },
  {
   "cell_type": "code",
   "execution_count": 3,
   "id": "bf67f6dc",
   "metadata": {},
   "outputs": [],
   "source": [
    "def inter_for(insiemi):    \n",
    "    \n",
    "    \n",
    "   \n",
    "    if len(insiemi) == 0:\n",
    "        return set()\n",
    "    \n",
    "    primo = True\n",
    "    \n",
    "    for el in insiemi:\n",
    "        if primo:\n",
    "            ret = set(el)\n",
    "            primo = False\n",
    "        else:\n",
    "            ret.intersection_update(el)\n",
    "    return ret\n",
    "    \n",
    "\n",
    "# INIZIO TEST - NON TOCCARE !    \n",
    "assert inter_for([]) == set()\n",
    "assert inter_for([set(),set()]) == set()\n",
    "assert inter_for([set(),set(),set()]) == set()\n",
    "assert inter_for([{'a'},{'a'},{'a'}]) == {'a'}\n",
    "assert inter_for([{'a','b'},{'b'},{'b'}]) == {'b'}\n",
    "assert inter_for([{'a'},{'a','b'},{'a'}]) == {'a'}\n",
    "assert inter_for([{'c'},{'c'},{'c','b'}]) == {'c'}\n",
    "assert inter_for([{'a','b'},{'a','b'},{'a','b'}]) == {'a','b'}\n",
    "assert inter_for([{'a','b','c'},{'a','b','c','d'},{'b','c','d'}, {'b','c'}]) == {'b','c'}\n",
    "# verifica che non abbiamo modificato gli insiemi di input\n",
    "s = {'a','b'}\n",
    "assert inter_for([s,{'b','c'}]) == {'b'}\n",
    "assert s == {'a','b'}\n",
    "# FINE TEST"
   ]
  },
  {
   "cell_type": "raw",
   "id": "7c79d6c8",
   "metadata": {
    "format": "text/html"
   },
   "source": [
    "</div>"
   ]
  },
  {
   "cell_type": "code",
   "execution_count": 3,
   "id": "bf67f6dc-stripped",
   "metadata": {},
   "outputs": [],
   "source": [
    "def inter_for(insiemi):    \n",
    "    \n",
    "    raise Exception('TODO IMPLEMENT ME !')\n",
    "\n",
    "# INIZIO TEST - NON TOCCARE !    \n",
    "assert inter_for([]) == set()\n",
    "assert inter_for([set(),set()]) == set()\n",
    "assert inter_for([set(),set(),set()]) == set()\n",
    "assert inter_for([{'a'},{'a'},{'a'}]) == {'a'}\n",
    "assert inter_for([{'a','b'},{'b'},{'b'}]) == {'b'}\n",
    "assert inter_for([{'a'},{'a','b'},{'a'}]) == {'a'}\n",
    "assert inter_for([{'c'},{'c'},{'c','b'}]) == {'c'}\n",
    "assert inter_for([{'a','b'},{'a','b'},{'a','b'}]) == {'a','b'}\n",
    "assert inter_for([{'a','b','c'},{'a','b','c','d'},{'b','c','d'}, {'b','c'}]) == {'b','c'}\n",
    "# verifica che non abbiamo modificato gli insiemi di input\n",
    "s = {'a','b'}\n",
    "assert inter_for([s,{'b','c'}]) == {'b'}\n",
    "assert s == {'a','b'}\n",
    "# FINE TEST"
   ]
  },
  {
   "cell_type": "raw",
   "id": "8dee0519",
   "metadata": {
    "format": "text/html"
   },
   "source": [
    "<a  class=\"jupman-sol jupman-sol-toggler\" \n",
    " onclick=\"jupman.toggleSolution(this);\" \n",
    " data-jupman-show=\"Mostra soluzione\" data-jupman-hide=\"Nascondi\">Mostra soluzione</a><div class=\"jupman-sol jupman-sol-code\" style=\"display:none\">  "
   ]
  },
  {
   "cell_type": "code",
   "execution_count": 4,
   "id": "e3a168bf",
   "metadata": {},
   "outputs": [],
   "source": [
    "def inter_fast(insiemi):    \n",
    "    \n",
    "    \n",
    "   \n",
    "    if len(insiemi) == 0:\n",
    "        return set()\n",
    "    \n",
    "    return set.intersection(*insiemi)\n",
    "    \n",
    "\n",
    "# INIZIO TEST - NON TOCCARE !\n",
    "assert inter_fast([]) == set()\n",
    "assert inter_fast([set(),set()]) == set()\n",
    "assert inter_fast([set(),set(),set()]) == set()\n",
    "assert inter_fast([{'a'},{'a'},{'a'}]) == {'a'}\n",
    "assert inter_fast([{'a','b'},{'b'},{'b'}]) == {'b'}\n",
    "assert inter_fast([{'a'},{'a','b'},{'a'}]) == {'a'}\n",
    "assert inter_fast([{'c'},{'c'},{'c','b'}]) == {'c'}\n",
    "assert inter_fast([{'a','b'},{'a','b'},{'a','b'}]) == {'a','b'}\n",
    "assert inter_fast([{'a','b','c'},{'a','b','c','d'},{'b','c','d'}, {'b','c'}]) == {'b','c'}\n",
    "# verifica che non abbiamo modificato gli insiemi di input\n",
    "s = {'a','b'}\n",
    "assert inter_fast([s,{'b','c'}]) == {'b'}\n",
    "assert s == {'a','b'}\n",
    "# FINE TEST"
   ]
  },
  {
   "cell_type": "raw",
   "id": "9c7c26dd",
   "metadata": {
    "format": "text/html"
   },
   "source": [
    "</div>"
   ]
  },
  {
   "cell_type": "code",
   "execution_count": 4,
   "id": "e3a168bf-stripped",
   "metadata": {},
   "outputs": [],
   "source": [
    "def inter_fast(insiemi):    \n",
    "    \n",
    "    raise Exception('TODO IMPLEMENT ME !')\n",
    "\n",
    "# INIZIO TEST - NON TOCCARE !\n",
    "assert inter_fast([]) == set()\n",
    "assert inter_fast([set(),set()]) == set()\n",
    "assert inter_fast([set(),set(),set()]) == set()\n",
    "assert inter_fast([{'a'},{'a'},{'a'}]) == {'a'}\n",
    "assert inter_fast([{'a','b'},{'b'},{'b'}]) == {'b'}\n",
    "assert inter_fast([{'a'},{'a','b'},{'a'}]) == {'a'}\n",
    "assert inter_fast([{'c'},{'c'},{'c','b'}]) == {'c'}\n",
    "assert inter_fast([{'a','b'},{'a','b'},{'a','b'}]) == {'a','b'}\n",
    "assert inter_fast([{'a','b','c'},{'a','b','c','d'},{'b','c','d'}, {'b','c'}]) == {'b','c'}\n",
    "# verifica che non abbiamo modificato gli insiemi di input\n",
    "s = {'a','b'}\n",
    "assert inter_fast([s,{'b','c'}]) == {'b'}\n",
    "assert s == {'a','b'}\n",
    "# FINE TEST"
   ]
  },
  {
   "cell_type": "markdown",
   "id": "f961e8e7",
   "metadata": {},
   "source": [
    "## Prosegui\n",
    "\n",
    "Continua con esercizi su [funzioni e dizionari](https://it.softpython.org/functions/fun7-dictionaries-sol.html)"
   ]
  }
 ],
 "metadata": {
  "kernelspec": {
   "display_name": "Python 3 (ipykernel)",
   "language": "python",
   "name": "python3"
  },
  "language_info": {
   "codemirror_mode": {
    "name": "ipython",
    "version": 3
   },
   "file_extension": ".py",
   "mimetype": "text/x-python",
   "name": "python",
   "nbconvert_exporter": "python",
   "pygments_lexer": "ipython3",
   "version": "3.7.13"
  },
  "toc": {
   "base_numbering": 1,
   "nav_menu": {},
   "number_sections": false,
   "sideBar": true,
   "skip_h1_title": false,
   "title_cell": "Table of Contents",
   "title_sidebar": "Contents",
   "toc_cell": false,
   "toc_position": {},
   "toc_section_display": true,
   "toc_window_display": true
  }
 },
 "nbformat": 4,
 "nbformat_minor": 5
}

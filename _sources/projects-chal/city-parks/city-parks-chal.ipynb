{
 "cells": [
  {
   "cell_type": "markdown",
   "metadata": {},
   "source": [
    "# RiParco dalla Città Challenge - mappe e foto\n",
    "\n",
    "<br/>\n",
    "<br/>\n",
    "\n",
    "\n",
    "I parchi sono un importante luogo di **aggregazione sociale**, e consentono a famiglie e giovani di riunirsi in spazi all’aperto. Le occasioni di ritrovo possono essere molteplici: a carattere **sportivo** come partite di calcio, ping pong, criquet, skateboard, **attività ludiche** nei parchi giochi per bambini, ritrovi informali di giocolieri di strada, suonatori di bonghi, o **eventi organizzati** come sagre rionali e concerti. \n",
    "\n",
    "Non sempre tutte queste occasioni sono note, perché o informali o non sufficientemente pubblicizzate. A volte, gli incontri neppure nascono perché si crede non vi sia un sufficiente numero di persone interessato a svolgere una certa attività. \n",
    "\n",
    "Si richiede pertanto di **creare un sito** che mostri una **mappa dei parchi** della vostra città arricchita con le attività in essere. La visualizzazione sarà basata su [OpenStreetMap](https://www.openstreetmap.org/#map=14/46.0681/11.1181), la mappa del mondo realizzata da volontari. Qualora le attività siano informali, si dovrà provvedere a scattare **foto** e caricarle manualmente sulla mappa. Dato che nelle foto di attività pubbliche è sempre probabile la presenza di volti, per questioni di privacy si dovrà provvedere a sviluppare un **software per anonimizzare** le facce.\n",
    "Per attività pubbliche (es. sagre, concerti), si dovranno cercare opportuni dataset che le descrivano (da fonti come [dati.trentino.it](http://dati.trentino.it)) e sviluppare programmi che **integrino i dati** nella mappa.\n",
    "Il sito dovrà inoltre prevedere un’**interfaccia grafica** per aggiungere eventi, caricare le foto ed organizzare nuovi incontri. A tal fine, potrebbe essere interessante integrare dati meteo da dati.trentino.it.\n",
    "\n",
    "![](img/riparco-da-trento-sponsor-big.png)\n",
    "\n",
    "Questa sfida è un riadattamento della challenge 'RiParco da Trento' che è stata proposta dal [Dipartimento di Ingegneria e Scienze dell’Informazione (DISI)](https://www.disi.unitn.it) e [dati.trentino.it](http://dati.trentino.it) all'interno dell'ICTDays Summercamp 2019 per studenti di istituti superiori in Alternanza Scuola-Lavoro presso l'Università di Trento."
   ]
  },
  {
   "cell_type": "markdown",
   "metadata": {},
   "source": [
    "## a. Acquisire foto \n",
    "\n",
    "<div class=\"alert alert-warning\">\n",
    "    \n",
    "**ATTENZIONE: LEGGETE QUANTO SEGUE IN OGNI SUA PARTE, COMPORTAMENTI INADEGUATI E MANCANZE SAREBBERO FONTE SICURA DI PROBLEMI**\n",
    "</div>\n",
    "\n",
    "**Nel vostro tempo libero**, o in pausa pranzo, vi si chiede di visitare parchi della vostra città e fotografare le attività presenti, come giochi per bambini, giochi cricket, ping-pong, skateboard, giocoleria, musicali, etc. Nel caso nella scena vi siano persone, per non destare preoccupazioni si raccomanda di scattare le foto da lontano. \n",
    "\n",
    "Le foto devono essere scattate da voi, **non** scaricate foto a caso da Internet. \n",
    "\n",
    "Ai soli fini di testare il software di anonimizzazione che produrrete, vi si richiede di fare foto dei **vostri** (e **solo** i vostri) volti mentre simulate lo svolgimento di qualche attività (es. giocare a ping pong). Queste foto (e **solo** queste) dovranno essere sufficientemente da vicino affinchè i volti siano riconoscibili.\n",
    "\n",
    "Durante gli scatti, assicuraratevi che il GPS sia attivo e che le coordinate geografiche di dove siete siano memorizzate nei file delle foto.\n"
   ]
  },
  {
   "cell_type": "markdown",
   "metadata": {},
   "source": [
    "## b. Estrazione dati foto\n",
    "\n",
    "Se avete scattato le foto come richiesto, all’interno dei file dovrebbero essere presenti le coordinate geografiche. Come primo passo, producete una tabella con i seguenti dati, ed eventualmente altri se li ritenete rilevanti \n",
    "\n",
    "Tra i dati potenzialmente utili, considerate :\n",
    "\n",
    "- percorso file foto  (es: `pics/parco-s-chiara/DSC10132323.jpg`)\n",
    "- latitudine, longitudine\n",
    "- nome file `DSC10132323.jpg`\n",
    "- nome foto \"Prato\"\n",
    "- descrizione \"Prato usato per cricket e calcio\"\n",
    "\n",
    "La lista **non** è esaustiva e **non** è necessario mettere tutte le colonne indicate, stabilite voi cosa è meglio per il vostro progetto. \n",
    "\n",
    "Concretamente, dovrete estrarre metadati GPS dalle foto, che sono codificati nel cosiddetto formato EXIF. Come spunto per farlo con Python, potete guardare [questo tutorial](https://www.sylvaindurand.org/gps-data-from-photos-with-python/) (in inglese). Per avere le coordinate in formato usabile, dovrete convertirle in formato decimale (guardare paragrafo _Decimal form_)\n",
    "\n",
    "Il tutorial usa la libreria [pillow](https://python-pillow.org), che potete installare così:\n",
    "\n",
    "**Anaconda**:\n",
    "\n",
    "Apri Anaconda Prompt (per istruzioni su come trovarlo o se non hai idea di cosa sia, prima di proseguire [leggi sezione interprete Python nell'introduzione](https://it.softpython.org/intro/intro-sol.html#L'interprete-Python)) ed esegui:\n",
    "\n",
    "`conda install -c anaconda pillow`\n",
    "\n",
    "\n",
    "**Linux/Mac**:\n",
    "\n",
    "* installa ipywidgets (`--user` installa nella propria home): \n",
    "\n",
    "```bash\n",
    "python3 -m pip install --user  pillow\n",
    "```\n"
   ]
  },
  {
   "cell_type": "markdown",
   "metadata": {},
   "source": [
    "## c. Anonimizzare foto \n",
    "\n",
    "Aggiungere una funzionalità di anonimizzazione volti, implementandolo seguendo il tutorial [Computer vision su SoftPython](../../computer-vision/computer-vision-sol.ipynb)  (che ha sua volta con la [libreria opencv](https://opencv.org/)\n",
    "se non riuscite a fare tutto in automatico, eventualmente potete dividere in due step: nel primo fornite agli utenti per segnare manualmente i poligoni sulle facce, e nel secondo si svolge l’anonimizzazione in base al poligono fornito.\n"
   ]
  },
  {
   "cell_type": "markdown",
   "metadata": {},
   "source": [
    "## d. Realizzare sito\n",
    "\n",
    "Realizzare un prototipo di sito con una mappa, implementando nell’ordine, le seguenti funzionalità.\n",
    "\n",
    "- **NOTA 1** ricordatevi che questo è un prototipo, dovete comunicare un idea, non fare un sito professionale\n",
    "- **NOTA 2**: NON serve fare anche app per smartphone, realizzarle bene è difficile e ancora più difficile è mostrarle durante una demo al pubblico (non vorrete mica girare con lo smartphone tra i presenti ...)\n",
    "\n",
    "Per farlo, seguire il tutorial [Interfacce grafiche](../../gui/gui-sol.ipynb) e guardare in particolare il [sottocapitolo sulle mappe](../../gui/gui-sol.ipynb#Mappe)"
   ]
  },
  {
   "cell_type": "markdown",
   "metadata": {},
   "source": [
    "### d.1  mostrare e caricare foto\n",
    "\n",
    "i punti di interesse (POI) con foto, e consenta di caricarne altri. Al caricamento di una foto, questa dovrà essere automaticamente anonimizzata\n"
   ]
  },
  {
   "cell_type": "markdown",
   "metadata": {},
   "source": [
    "### d.2 mostrare eventi pubblici\n",
    "\n",
    "Mostrare sulla mappa attività pubbliche (es. sagre, concerti). A tal fine, si dovranno cercare opportuni dataset che le descrivano (da fonti come [dati.trentino.it](http://dati.trentino.it)) e sviluppare un programma che integri i dati nella mappa.\n"
   ]
  },
  {
   "cell_type": "markdown",
   "metadata": {},
   "source": [
    "### d.3 interfaccia per organizzare eventi\n",
    "\n",
    "Realizzare un’interfaccia per organizzare eventi informali. Ogni evento avrà un luogo con le coordinate all’interno parco, la tipologia (es. partita cricket), un numero minimo di partecipanti. Chi vuole può iscriversi all’evento. Per esempio,  raggiunto un certo numero di partecipanti l’evento viene mostrato con un colore diverso sulla mappa \n",
    "\n",
    "Ricordatevi che questo è un prototipo, quindi fate una cosa semplice senza login e notifiche.\n",
    "\n"
   ]
  },
  {
   "cell_type": "markdown",
   "metadata": {},
   "source": [
    "## Dataset\n",
    "\n",
    "\n",
    "### Foto\n",
    "\n",
    "Le foto **le farete voi** - **NON** scaricate foto da internet. \n"
   ]
  },
  {
   "cell_type": "markdown",
   "metadata": {},
   "source": [
    "###  OpenStreetMap\n",
    "\n",
    "[OpenStreetMap](https://www.openstreetmap.org/#map=16/46.0662/11.1266) è la mappa libera del mondo realizzata da volontari. \n",
    "\n",
    "Licenza: [ODBL](https://www.openstreetmap.org/copyright)\n",
    "\n"
   ]
  },
  {
   "cell_type": "markdown",
   "metadata": {},
   "source": [
    "### dati.trentino.it\n",
    "\n",
    "Catalogo dati trentino: [dati.trentino.it](https://dati.trentino.it)\n",
    "\n",
    "Cercate dataset che riportino informazioni su avvenimenti nei parchi.\n",
    "\n",
    "Licenza: in genere i dataset sono Creative Commons [CC-0](https://creativecommons.org/publicdomain/zero/1.0/deed.it) o [CC-BY](https://creativecommons.org/licenses/by/4.0/deed.it), comunque controllate.\n",
    "\n",
    "Per capire come leggere i vari formati che potete trovare, potete trarre spunto dal tutorial [Formati dati](https://it.softpython.org/#formats)"
   ]
  }
 ],
 "metadata": {
  "kernelspec": {
   "display_name": "Python 3 (ipykernel)",
   "language": "python",
   "name": "python3"
  },
  "language_info": {
   "codemirror_mode": {
    "name": "ipython",
    "version": 3
   },
   "file_extension": ".py",
   "mimetype": "text/x-python",
   "name": "python",
   "nbconvert_exporter": "python",
   "pygments_lexer": "ipython3",
   "version": "3.7.10"
  },
  "toc": {
   "base_numbering": 1,
   "nav_menu": {},
   "number_sections": false,
   "sideBar": true,
   "skip_h1_title": false,
   "title_cell": "Table of Contents",
   "title_sidebar": "Contents",
   "toc_cell": false,
   "toc_position": {},
   "toc_section_display": true,
   "toc_window_display": false
  }
 },
 "nbformat": 4,
 "nbformat_minor": 2
}

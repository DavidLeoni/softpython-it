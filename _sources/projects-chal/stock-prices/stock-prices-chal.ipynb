{
 "cells": [
  {
   "cell_type": "markdown",
   "id": "1f338d2d",
   "metadata": {
    "colab_type": "text",
    "id": "RkFwn22wU7pM"
   },
   "source": [
    "## Trader Challenge - Analisi quotazioni di borsa\n",
    "\n",
    "**Area di interesse**: economia\n",
    "\n",
    "Visualizzare in Jupyter grafici sull'andamento di valute e serie storiche macroeconomiche presi da\n",
    "\n",
    "* Alpha Vantage (https://www.alphavantage.co/): per le serie storiche dei prezzi dei titoli finanziari\n",
    "* FRED (https://fred.stlouisfed.org/): per le serie storiche economiche (macroeconomiche) USA\n",
    "\n",
    "![rendimenti-891237](img/jmp-gains.png)\n",
    "\n",
    "Per entrambi i siti è richiesta una key per scaricare i dati. Queste sono ottenibli gratuitamente dopo essersi registrati\n",
    "\n",
    "L'utilizzo dei dati provenienti da Alpha Vantage è libero, viene solo limitata la frequenza delle richieste (quindi mettete delle attese programmate tra uno scaricamento e l'altro). Invece l'utilizzo dei dati provenienti da FRED è soggetto a dei specifici termini d'uso (https://research.stlouisfed.org/fred_terms.html)\n",
    "I dati scaricati sono di volta in volta decisi dall'utente che deve specificare le sigle del titolo (ES: AAPL (Apple), MSFT (Microsoft), GE (General Electric), ^GSPC (S&P 500)) oppure della variabile economica (ES: BAA (\n",
    "Moody's Seasoned Baa Corporate Bond Yield), GDPCA (Real Gross Domestic Product), CPIAUCSL (Consumer Price Index for All Urban Consumers: All Items)) che vuole analizzare. Le dimensioni dei file scaricati sono variabili.\n",
    "\n",
    "\n",
    "I dati scaricati (ultimi 100 dati giornalieri) da Alpha Vantage sono in formato csv con al seguente struttura (intestazione ed esempio riga):\n",
    "\n",
    "```\n",
    "timestamp, open, high, low, close, adjusted_close, volume, dividend_amount, split_coefficient\n",
    "\n",
    "2018-02-02, 166.0000, 166.8000, 160.1000, 160.5000, 160.5000, 85437085, 0.0000, 1.0000\n",
    "```\n",
    "\n",
    "Ad eccezione di 'timestamp' che indica la data dei dati di riga, i restanti valori sono numeri che rappresentano ad esempio il prezzo di apertura, chiusura, chiusura aggiustato, volumi scambiati, ecc.\n",
    "\n",
    "\n",
    "I dati scaricati (l'intera serie storica dei dati annuali, è possibile modificare eventualmente la frequenza modificando opportuamente l'url) da FRED sono in formato xml con al seguente struttura:\n",
    "   \n",
    "```xml\n",
    "    <observations realtime_start=\"2018-02-06\" realtime_end=\"2018-02-06\" observation_start=\"1600-01-01\" observation_end=\"9999-12-31\" units=\"lin\" output_type=\"1\" file_type=\"xml\" order_by=\"observation_date\" sort_order=\"asc\" count=\"88\" offset=\"0\" limit=\"100000\">\n",
    "    <observation realtime_start=\"2018-02-06\" realtime_end=\"2018-02-06\" date=\"1929-01-01\" value=\"1066.782\"/>\n",
    "    <observation realtime_start=\"2018-02-06\" realtime_end=\"2018-02-06\" date=\"1930-01-01\" value=\"976.305\"/>\n",
    "```"
   ]
  },
  {
   "cell_type": "code",
   "execution_count": null,
   "id": "960e7a32",
   "metadata": {},
   "outputs": [],
   "source": []
  }
 ],
 "metadata": {
  "kernelspec": {
   "display_name": "Python 3 (ipykernel)",
   "language": "python",
   "name": "python3"
  },
  "language_info": {
   "codemirror_mode": {
    "name": "ipython",
    "version": 3
   },
   "file_extension": ".py",
   "mimetype": "text/x-python",
   "name": "python",
   "nbconvert_exporter": "python",
   "pygments_lexer": "ipython3",
   "version": "3.7.10"
  },
  "toc": {
   "base_numbering": 1,
   "nav_menu": {},
   "number_sections": false,
   "sideBar": true,
   "skip_h1_title": false,
   "title_cell": "Table of Contents",
   "title_sidebar": "Contents",
   "toc_cell": false,
   "toc_position": {},
   "toc_section_display": true,
   "toc_window_display": false
  }
 },
 "nbformat": 4,
 "nbformat_minor": 5
}

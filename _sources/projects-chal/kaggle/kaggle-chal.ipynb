{
 "cells": [
  {
   "cell_type": "markdown",
   "id": "48e55c1d",
   "metadata": {},
   "source": [
    "## Kaggle Challenge - dataset per tutti i gusti\n",
    "\n",
    "**Area di interesse:** tutte !\n",
    "\n",
    "Kaggle è il sito di riferimento per data scientists, ricco di dataset e spunti interessanti ben categorizzati (per scaricare i dataset occorre registrarsi). Dategli un'occhiata perchè merita:\n",
    "\n",
    "https://www.kaggle.com/datasets\n",
    "\n",
    "\n",
    "Alcuni aree presenti tra le 1000:\n",
    "\n",
    "- [linguistica](https://www.kaggle.com/datasets?sortBy=hotness&group=public&page=1&pageSize=20&size=all&filetype=all&license=all&tagids=11208)\n",
    "- [sociologia](https://www.kaggle.com/datasets?sortBy=hotness&group=public&page=1&pageSize=20&size=all&filetype=all&license=all&tagids=11215)\n",
    "- [finanza](https://www.kaggle.com/datasets?sortBy=hotness&group=public&page=1&pageSize=20&size=all&filetype=all&license=all&tagids=11108)\n",
    "- [fisica](https://www.kaggle.com/datasets?sortBy=relevance&group=public&search=physics&page=1&pageSize=20&size=all&filetype=all&license=all)\n",
    "- [biologia](https://www.kaggle.com/datasets?sortBy=hotness&group=public&page=1&pageSize=20&size=all&filetype=all&license=all&tagids=7103)\n",
    "- [ingegneria meccanica](https://www.kaggle.com/datasets?sortBy=hotness&group=public&page=1&pageSize=20&size=all&filetype=all&license=all&tagids=12308)\n",
    "- [ingegneria civile](https://www.kaggle.com/datasets?sortBy=relevance&group=public&search=civil+&page=1&pageSize=20&size=all&filetype=all&license=all&tagids=12304)\n",
    "\n",
    "Si può semplicemente usare il sito come fonte dati, oppure seguire le sfide proposte: prendendo per esempio le recensioni, si potrebbe scrivere un programmino rudimentale che cerca di capire se una recensione Amazon è positiva guardando se contiene le parole 'bello/a', 'fantastico/a', e poi confrontare i risultati con il numero di stelle che l'utente ha assegnato all'articolo per vedere quanto concordano.\n",
    "\n",
    "Qua sotto riportiamo come prendere da Kaggle per esempio il [CSV dei video trending di YouTube](https://www.kaggle.com/datasnaek/youtube-new) che contengono cose tipo i like, la descrizione, il numero di commenti etc :\n",
    "\n",
    "![youtube-892328](img/kaggle-youtube.png)\n",
    "\n"
   ]
  },
  {
   "cell_type": "code",
   "execution_count": null,
   "id": "86f6a102",
   "metadata": {},
   "outputs": [],
   "source": []
  }
 ],
 "metadata": {
  "kernelspec": {
   "display_name": "Python 3 (ipykernel)",
   "language": "python",
   "name": "python3"
  },
  "language_info": {
   "codemirror_mode": {
    "name": "ipython",
    "version": 3
   },
   "file_extension": ".py",
   "mimetype": "text/x-python",
   "name": "python",
   "nbconvert_exporter": "python",
   "pygments_lexer": "ipython3",
   "version": "3.7.10"
  },
  "toc": {
   "base_numbering": 1,
   "nav_menu": {},
   "number_sections": false,
   "sideBar": true,
   "skip_h1_title": false,
   "title_cell": "Table of Contents",
   "title_sidebar": "Contents",
   "toc_cell": false,
   "toc_position": {},
   "toc_section_display": true,
   "toc_window_display": false
  }
 },
 "nbformat": 4,
 "nbformat_minor": 5
}

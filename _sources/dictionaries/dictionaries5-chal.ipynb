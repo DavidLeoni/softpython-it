{
 "cells": [
  {
   "cell_type": "markdown",
   "id": "worst-going",
   "metadata": {},
   "source": [
    "# Dizionari 6 - Prime challenges\n",
    "\n",
    "## [Scarica zip esercizi](../_static/generated/dictionaries.zip)\n",
    "\n",
    "[Naviga file online](https://github.com/DavidLeoni/softpython-it/dictionaries)"
   ]
  },
  {
   "cell_type": "markdown",
   "id": "impossible-cambodia",
   "metadata": {},
   "source": [
    "Proponiamo ora degli esercizi senza soluzione, accetti la sfida? "
   ]
  },
  {
   "cell_type": "markdown",
   "id": "comprehensive-ukraine",
   "metadata": {},
   "source": [
    "## Sfida - Nozze di platino\n",
    "\n",
    "✪ Requisiti: dizionari\n",
    "\n",
    "Al tranquillissimo paesello di Gerontonia vi sono delle coppie assai tenaci che dopo 75 anni dal fatico \"Sì!\" meritano di festeggiare le nozze di platino. Abbiamo una lista dei matrimoni con esattamente 3 coppie scritte nel formato \"maschio-femmina\", e vogliamo creare un dizionario `diz` che associa ad ogni maschio la corrispondente compagna.\n",
    "\n",
    "- assumi che i nomi dei maschi siano tutti diversi e che vi siano **esattamente** 3 coppie\n",
    "\n",
    "Esempio - data:\n",
    "\n",
    "```python\n",
    "matrimoni = [\"Amilcare-Genoveffa\", \"Oronzo-Eusonia\", \"Venceslao-Elvira\"]\n",
    "```\n",
    "\n",
    "dopo il tuo codice, deve risultare:\n",
    "\n",
    "```python\n",
    ">>> print(diz)\n",
    "{'Amilcare': 'Genoveffa', \n",
    " 'Oronzo': 'Eusonia', \n",
    " 'Venceslao': 'Elvira'}\n",
    "```"
   ]
  },
  {
   "cell_type": "code",
   "execution_count": 1,
   "id": "necessary-blanket-stripped",
   "metadata": {},
   "outputs": [],
   "source": [
    "\n",
    "matrimoni = [\"Amilcare-Genoveffa\", \"Oronzo-Eusonia\", \"Venceslao-Elvira\"]\n",
    "#matrimoni = [\"Liutprando-Brunilde\", \"Clodoveo-Pancrazia\", \"Evaristo-Ubalda\"]\n",
    "\n",
    "# scrivi qui\n",
    "\n"
   ]
  },
  {
   "cell_type": "markdown",
   "id": "listed-hudson",
   "metadata": {},
   "source": [
    "## Sfida - I pescatori\n",
    "\n",
    "✪ Requisiti: dizionari\n",
    "\n",
    "\n",
    "Una compagnia di pescatori ogni giorno cattura dei `pesci` che poi rivende a vari ristoranti. Ogni ristorante richiede diversi specie di pesci. Dati un `ristorante` e dei `pesci`, scrivi del codice che stampa `True` se il ristorante cucina quei pesci, altrimenti stampa `False`.\n",
    "\n",
    "- **NON** usare `if`\n",
    "- **NON** usare cicli \n",
    "\n",
    "- **SUGGERIMENTO**: se non sai come fare, guarda [Booleani - Ordine di valutazione](https://it.softpython.org/basics/basics2-bools-sol.html#Ordine-di-valutazione)"
   ]
  },
  {
   "cell_type": "code",
   "execution_count": 2,
   "id": "early-canadian-stripped",
   "metadata": {},
   "outputs": [],
   "source": [
    "\n",
    "ristorante, pesci = \"Il Galeone\", \"carpe\"            # True\n",
    "#ristorante, pesci = \"Il Galeone\", \"aringhe\"         # False\n",
    "#ristorante, pesci = \"Al Molo\",    \"trote\"           # True\n",
    "#ristorante, pesci = \"Al Molo\",    \"orate\"           # False\n",
    "#ristorante, pesci = \"La Cambusa\", \"merluzzi\"        # False\n",
    "\n",
    "\n",
    "registro = {\n",
    "    \"L'Ancora\"  : ['aringhe', 'carpe'],\n",
    "    \"Il Galeone\": ['merluzzi', 'carpe', 'trote'],    \n",
    "    \"Al Molo\"   : ['trote'],\n",
    "    \"La Cambusa\": ['aringhe', 'carpe'],\n",
    "}\n",
    "\n",
    "# scrivi qui\n",
    "\n"
   ]
  },
  {
   "cell_type": "code",
   "execution_count": 3,
   "id": "spectacular-mexican-stripped",
   "metadata": {
    "nbsphinx": "hidden"
   },
   "outputs": [],
   "source": []
  }
 ],
 "metadata": {
  "kernelspec": {
   "display_name": "Python 3 (ipykernel)",
   "language": "python",
   "name": "python3"
  },
  "language_info": {
   "codemirror_mode": {
    "name": "ipython",
    "version": 3
   },
   "file_extension": ".py",
   "mimetype": "text/x-python",
   "name": "python",
   "nbconvert_exporter": "python",
   "pygments_lexer": "ipython3",
   "version": "3.7.10"
  },
  "toc": {
   "base_numbering": 1,
   "nav_menu": {},
   "number_sections": false,
   "sideBar": true,
   "skip_h1_title": false,
   "title_cell": "Table of Contents",
   "title_sidebar": "Contents",
   "toc_cell": false,
   "toc_position": {},
   "toc_section_display": true,
   "toc_window_display": true
  }
 },
 "nbformat": 4,
 "nbformat_minor": 5
}

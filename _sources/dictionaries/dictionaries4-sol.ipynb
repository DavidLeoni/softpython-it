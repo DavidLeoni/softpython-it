{
 "cells": [
  {
   "cell_type": "code",
   "execution_count": 1,
   "metadata": {
    "nbsphinx": "hidden"
   },
   "outputs": [],
   "source": [
    " # Ricordati di eseguire questa cella con Shift+Invio\n",
    "\n",
    "import sys\n",
    "sys.path.append('../')\n",
    "import jupman"
   ]
  },
  {
   "cell_type": "markdown",
   "metadata": {},
   "source": [
    "# Dizionari 4 - classi speciali\n",
    "\n",
    "## [Scarica zip esercizi](../_static/generated/dictionaries.zip)\n",
    "\n",
    "[Naviga file online](https://github.com/DavidLeoni/softpython-it/tree/master/dictionaries)\n",
    "\n",
    "Vi sono delle classi speciali di dizionari che possiamo usare:"
   ]
  },
  {
   "cell_type": "markdown",
   "metadata": {},
   "source": [
    "|Classe|Descrizione|\n",
    "|------|-----------|\n",
    "|[OrderedDict](#OrderedDict)|Dizionario che permette di mantenere l'ordine di inserimento delle chiavi|\n",
    "|[Counter](#Counter)|Dizionario che permette di calcolare rapidamente istogrammi|\n"
   ]
  },
  {
   "cell_type": "markdown",
   "metadata": {},
   "source": [
    "### Che fare\n",
    "\n",
    "- scompatta lo zip in una cartella, dovresti ottenere qualcosa del genere: \n",
    "\n",
    "```\n",
    "\n",
    "dictionaries \n",
    "    dictionaries1.ipynb\n",
    "    dictionaries1-sol.ipynb\n",
    "    dictionaries2.ipynb\n",
    "    dictionaries2-sol.ipynb\n",
    "    dictionaries3.ipynb\n",
    "    dictionaries3-sol.ipynb\n",
    "    dictionaries4.ipynb\n",
    "    dictionaries4-sol.ipynb\n",
    "    dictionaries5-chal.ipynb    \n",
    "    jupman.py    jupman.py\n",
    "    \n",
    "```\n",
    "\n",
    "<div class=\"alert alert-warning\">\n",
    "\n",
    "**ATTENZIONE**: Per essere visualizzato correttamente, il file del notebook DEVE essere nella cartella szippata.\n",
    "</div>\n",
    "\n",
    "- apri il Jupyter Notebook da quella cartella. Due cose dovrebbero aprirsi, prima una console e poi un browser. Il browser dovrebbe mostrare una lista di file: naviga la lista e apri il notebook `dictionaries4.ipynb`\n",
    "- Prosegui leggendo il file degli esercizi, ogni tanto al suo interno troverai delle scritte **ESERCIZIO**, che ti chiederanno di scrivere dei comandi Python nelle celle successive. \n",
    "\n",
    "\n",
    "Scorciatoie da tastiera:\n",
    "\n",
    "* Per eseguire il codice Python dentro una cella di Jupyter, premi `Control+Invio`\n",
    "* Per eseguire il codice Python dentro una cella di Jupyter E selezionare la cella seguente, premi `Shift+Invio`\n",
    "* Per eseguire il codice Python dentro una cella di Jupyter E creare una nuova cella subito dopo, premi `Alt+Invio`\n",
    "* Se per caso il Notebook sembra inchiodato, prova a selezionare `Kernel -> Restart`\n",
    "\n"
   ]
  },
  {
   "cell_type": "markdown",
   "metadata": {},
   "source": [
    "## OrderedDict\n",
    "\n",
    "Come abbiamo detto in precedenza, quando stampiamo un dizionario con `print` o lasciamo la visualizzazione a Jupyter, l'ordine il più delle volte non è lo stesso di quello d'inserimento. Affinchè sia predicibile, devi usare un `OrderedDict`\n",
    "\n",
    "Per poterlo usare, per prima cosa devi importarlo dal modulo delle collezioni:"
   ]
  },
  {
   "cell_type": "code",
   "execution_count": 2,
   "metadata": {},
   "outputs": [],
   "source": [
    "from collections import OrderedDict"
   ]
  },
  {
   "cell_type": "code",
   "execution_count": 3,
   "metadata": {},
   "outputs": [],
   "source": [
    "od = OrderedDict()"
   ]
  },
  {
   "cell_type": "markdown",
   "metadata": {},
   "source": [
    "Un `OrderedDict` appare e si comporta come dizionari regolari:"
   ]
  },
  {
   "cell_type": "code",
   "execution_count": 4,
   "metadata": {},
   "outputs": [],
   "source": [
    "od['qualche chiave'] = 5\n",
    "od['qualche altra chiave'] = 7\n",
    "od[('una', 'tupla', 'immutabile','come chiave')] = 3\n",
    "od[\"un'altra chiave\"] = 'adesso una stringa!'\n",
    "od[123] = 'hello'"
   ]
  },
  {
   "cell_type": "markdown",
   "metadata": {},
   "source": [
    "La visualizzazione con Jupyter mantiene l'ordine:"
   ]
  },
  {
   "cell_type": "code",
   "execution_count": 5,
   "metadata": {},
   "outputs": [
    {
     "data": {
      "text/plain": [
       "OrderedDict([('qualche chiave', 5),\n",
       "             ('qualche altra chiave', 7),\n",
       "             (('una', 'tupla', 'immutabile', 'come chiave'), 3),\n",
       "             (\"un'altra chiave\", 'adesso una stringa!'),\n",
       "             (123, 'hello')])"
      ]
     },
     "execution_count": 5,
     "metadata": {},
     "output_type": "execute_result"
    }
   ],
   "source": [
    "od"
   ]
  },
  {
   "cell_type": "markdown",
   "metadata": {},
   "source": [
    "Così come la `print`:"
   ]
  },
  {
   "cell_type": "code",
   "execution_count": 6,
   "metadata": {},
   "outputs": [
    {
     "name": "stdout",
     "output_type": "stream",
     "text": [
      "OrderedDict([('qualche chiave', 5), ('qualche altra chiave', 7), (('una', 'tupla', 'immutabile', 'come chiave'), 3), (\"un'altra chiave\", 'adesso una stringa!'), (123, 'hello')])\n"
     ]
    }
   ],
   "source": [
    "print(od)"
   ]
  },
  {
   "cell_type": "markdown",
   "metadata": {},
   "source": [
    "Vediamo come appare in Python Tutor:"
   ]
  },
  {
   "cell_type": "code",
   "execution_count": 7,
   "metadata": {},
   "outputs": [
    {
     "data": {
      "text/html": [
       "\n",
       "        <script src=\"../_static/js/pytutor-embed.bundle.min.js\" type=\"application/javascript\"></script>\n",
       "     \n",
       "        <script id=\"json-jm87396ffb-ef35-46d6-972c-b9152d297cac\" type=\"application/json\" >\n",
       "            {\"code\": \" \\nfrom collections import OrderedDict\\nod = OrderedDict()\\nod['qualche chiave'] = 5\\nod['qualche altra chiave'] = 7\\nod[('una', 'tupla', 'immutabile','come chiave')] = 3\\nod[\\\"un'altra chiave\\\"] = 'adesso una stringa!'\\nod[123] = 'hello'\", \"trace\": [{\"line\": 2, \"event\": \"step_line\", \"func_name\": \"<module>\", \"globals\": {}, \"ordered_globals\": [], \"stack_to_render\": [], \"heap\": {}, \"stdout\": \"\"}, {\"line\": 3, \"event\": \"step_line\", \"func_name\": \"<module>\", \"globals\": {\"OrderedDict\": [\"IMPORTED_FAUX_PRIMITIVE\", \"imported class\"]}, \"ordered_globals\": [\"OrderedDict\"], \"stack_to_render\": [], \"heap\": {}, \"stdout\": \"\"}, {\"line\": 4, \"event\": \"step_line\", \"func_name\": \"<module>\", \"globals\": {\"OrderedDict\": [\"IMPORTED_FAUX_PRIMITIVE\", \"imported class\"], \"od\": [\"REF\", 1]}, \"ordered_globals\": [\"OrderedDict\", \"od\"], \"stack_to_render\": [], \"heap\": {\"1\": [\"INSTANCE_PPRINT\", \"OrderedDict\", \"OrderedDict()\"]}, \"stdout\": \"\"}, {\"line\": 5, \"event\": \"step_line\", \"func_name\": \"<module>\", \"globals\": {\"OrderedDict\": [\"IMPORTED_FAUX_PRIMITIVE\", \"imported class\"], \"od\": [\"REF\", 1]}, \"ordered_globals\": [\"OrderedDict\", \"od\"], \"stack_to_render\": [], \"heap\": {\"1\": [\"INSTANCE_PPRINT\", \"OrderedDict\", \"OrderedDict([('qualche chiave', 5)])\"]}, \"stdout\": \"\"}, {\"line\": 6, \"event\": \"step_line\", \"func_name\": \"<module>\", \"globals\": {\"OrderedDict\": [\"IMPORTED_FAUX_PRIMITIVE\", \"imported class\"], \"od\": [\"REF\", 1]}, \"ordered_globals\": [\"OrderedDict\", \"od\"], \"stack_to_render\": [], \"heap\": {\"1\": [\"INSTANCE_PPRINT\", \"OrderedDict\", \"OrderedDict([('qualche chiave', 5), ('qualche altra chiave', 7)])\"]}, \"stdout\": \"\"}, {\"line\": 7, \"event\": \"step_line\", \"func_name\": \"<module>\", \"globals\": {\"OrderedDict\": [\"IMPORTED_FAUX_PRIMITIVE\", \"imported class\"], \"od\": [\"REF\", 1]}, \"ordered_globals\": [\"OrderedDict\", \"od\"], \"stack_to_render\": [], \"heap\": {\"1\": [\"INSTANCE_PPRINT\", \"OrderedDict\", \"OrderedDict([('qualche chiave', 5), ('qualche altra chiave', 7), (('una', 'tupla', 'immutabile', 'come chiave'), 3)])\"]}, \"stdout\": \"\"}, {\"line\": 8, \"event\": \"step_line\", \"func_name\": \"<module>\", \"globals\": {\"OrderedDict\": [\"IMPORTED_FAUX_PRIMITIVE\", \"imported class\"], \"od\": [\"REF\", 1]}, \"ordered_globals\": [\"OrderedDict\", \"od\"], \"stack_to_render\": [], \"heap\": {\"1\": [\"INSTANCE_PPRINT\", \"OrderedDict\", \"OrderedDict([('qualche chiave', 5), ('qualche altra chiave', 7), (('una', 'tupla', 'immutabile', 'come chiave'), 3), (\\\"un'altra chiave\\\", 'adesso una stringa!')])\"]}, \"stdout\": \"\"}, {\"line\": 8, \"event\": \"return\", \"func_name\": \"<module>\", \"globals\": {\"OrderedDict\": [\"IMPORTED_FAUX_PRIMITIVE\", \"imported class\"], \"od\": [\"REF\", 1]}, \"ordered_globals\": [\"OrderedDict\", \"od\"], \"stack_to_render\": [], \"heap\": {\"1\": [\"INSTANCE_PPRINT\", \"OrderedDict\", \"OrderedDict([('qualche chiave', 5), ('qualche altra chiave', 7), (('una', 'tupla', 'immutabile', 'come chiave'), 3), (\\\"un'altra chiave\\\", 'adesso una stringa!'), (123, 'hello')])\"]}, \"stdout\": \"\"}]}\n",
       "        </script>\n",
       "        <div id=\"jm87396ffb-ef35-46d6-972c-b9152d297cac\" class=\"pytutorVisualizer\"> </div>\n",
       " \n",
       "        <style>\n",
       "        .vizLayoutTd {\n",
       "            background-color: #fff !important;\n",
       "        }\n",
       "\n",
       "        #pyStdout {            \n",
       "            min-height:25px;\n",
       "        }\n",
       "\n",
       "        /* 'Edit this code' link, hiding because replaces browser tab !!!*/\n",
       "        #editCodeLinkDiv {\n",
       "            display:none;  \n",
       "        }\n",
       "        </style>   \n",
       "                            \n",
       "        <script>\n",
       "        (function(){\n",
       "\n",
       "            var trace = JSON.parse(document.getElementById('json-jm87396ffb-ef35-46d6-972c-b9152d297cac').innerHTML);                                        \n",
       "            // NOTE 1: id without #\n",
       "            // NOTE 2 - maybe there are more predictable ways, but this will work anyway\n",
       "            //        - id should be number\n",
       "            visualizerIdOverride = Math.trunc(Math.random() * 100000000000)\n",
       "            addVisualizerToPage(trace, 'jm87396ffb-ef35-46d6-972c-b9152d297cac',{'embeddedMode' : false,\n",
       "                                             'visualizerIdOverride':visualizerIdOverride})  \n",
       "            \n",
       "            \n",
       "            // set overflow for pytuts - need to do in python as css \n",
       "            // does not allow parent selection\n",
       "            var pytuts = $('.pytutorVisualizer')\n",
       "            pytuts.closest('div.output_html.rendered_html.output_result')\n",
       "                    .css('overflow-x', 'visible')\n",
       "        \n",
       "            //pytuts.closest('div.output_html.rendered_html.output_result')\n",
       "            //      .css('background-color','red')                \n",
       "            \n",
       "        })()\n",
       "        </script>\n",
       "                \n",
       "                "
      ],
      "text/plain": [
       "<IPython.core.display.HTML object>"
      ]
     },
     "execution_count": 7,
     "metadata": {},
     "output_type": "execute_result"
    }
   ],
   "source": [
    "from collections import OrderedDict\n",
    "od = OrderedDict()\n",
    "od['qualche chiave'] = 5\n",
    "od['qualche altra chiave'] = 7\n",
    "od[('una', 'tupla', 'immutabile','come chiave')] = 3\n",
    "od[\"un'altra chiave\"] = 'adesso una stringa!'\n",
    "od[123] = 'hello'\n",
    "\n",
    "jupman.pytut()"
   ]
  },
  {
   "cell_type": "markdown",
   "metadata": {},
   "source": [
    "### Esercizio: agenda OrderedDict\n",
    "\n",
    "Scrivi del codice che date tre tuple come le seguenti, STAMPA un `OrderedDict` che associa nomi a numeri di telefono, nell'ordine in cui sono proposti\n",
    "\n",
    "* Il tuo codice deve funzionare con tuple _qualsiasi_ \n",
    "* Non dimenticarti di importare l'`OrderedDict` dalle `collections`\n",
    "\n",
    "Esempio:\n",
    "\n",
    "```python\n",
    "t1 = ('Alice', '143242903')\n",
    "t2 = ('Bob', '417483437')\n",
    "t3 = ('Carlo', '423413213')\n",
    "```\n",
    "\n",
    "dopo il tuo codice, dovrebbe risultare:\n",
    "\n",
    "```python\n",
    "OrderedDict([('Alice', '143242903'), ('Bob', '417483437'), ('Charles', '423413213')])\n",
    "```\n"
   ]
  },
  {
   "cell_type": "code",
   "execution_count": 8,
   "metadata": {},
   "outputs": [
    {
     "name": "stdout",
     "output_type": "stream",
     "text": [
      "OrderedDict([('Alice', '143242903'), ('Bob', '417483437'), ('Charles', '423413213')])\n"
     ]
    }
   ],
   "source": [
    "#jupman-purge-output\n",
    "t1 = ('Alice', '143242903')\n",
    "t2 = ('Bob', '417483437')\n",
    "t3 = ('Charles', '423413213')\n",
    "\n",
    "# scrivi qui\n",
    "\n",
    "# prima bisogna importare dalle collezioni \n",
    "from collections import OrderedDict\n",
    "\n",
    "od = OrderedDict([t1, t2, t3])\n",
    "print(od)"
   ]
  },
  {
   "cell_type": "markdown",
   "metadata": {},
   "source": [
    "### Esercizio - copia di OrderedDict\n",
    "\n",
    "Dato un `OrderedDict` `od1` contenente traduzioni Inglese -> Italiano, crea un NUOVO `OrderedDict` chiamato `od2` che contiene le stesse traduzioni come input PIU' la traduzione `'water' : 'acqua'`\n",
    "\n",
    "- NOTA 1: il tuo codice dovrebbe funzionare con qualsiasi ordered dict di input\n",
    "- NOTA 2: `od2` DEVE essere associata ad un NUOVO `OrderedDict` !!\n",
    "\n",
    "Esempio - dato:\n",
    "\n",
    "```python\n",
    "od1 = OrderedDict()\n",
    "od1['dog'] = 'cane'\n",
    "od1['home'] = 'casa'\n",
    "od1['table'] = 'tavolo'\n",
    "```\n",
    "\n",
    "dopo il tuo codice, dovresti ottenere:\n",
    "\n",
    "```python\n",
    ">>> print(od1)\n",
    "OrderedDict([('dog', 'cane'), ('home', 'casa'), ('table', 'tavolo')])\n",
    ">>> print(od2)\n",
    "OrderedDict([('dog', 'cane'), ('home', 'casa'), ('table', 'tavolo'), ('water', 'acqua')])\n",
    "```"
   ]
  },
  {
   "cell_type": "code",
   "execution_count": 9,
   "metadata": {},
   "outputs": [
    {
     "name": "stdout",
     "output_type": "stream",
     "text": [
      "od1= OrderedDict([('dog', 'cane'), ('home', 'casa'), ('table', 'tavolo')])\n",
      "od2= OrderedDict([('dog', 'cane'), ('home', 'casa'), ('table', 'tavolo'), ('water', 'acqua')])\n"
     ]
    }
   ],
   "source": [
    "#jupman-purge-output\n",
    "from collections import OrderedDict\n",
    "\n",
    "od1 = OrderedDict()\n",
    "od1['dog'] = 'cane'\n",
    "od1['home'] = 'casa'\n",
    "od1['table'] = 'tavolo'\n",
    "\n",
    "# scrivi qui\n",
    "od2 = OrderedDict(od1)\n",
    "od2['water'] = 'acqua'\n",
    "\n",
    "print(\"od1=\", od1)\n",
    "print(\"od2=\", od2)"
   ]
  },
  {
   "cell_type": "markdown",
   "metadata": {},
   "source": [
    "## Counter\n",
    "\n",
    "Se abbiamo bisogno di contare quanti elementi diversi si trovano in una sequenza (in altre parole, se dobbiamo calcolare un istogramma delle frequenze), la classe `Counter` ci può tornare molto utile. `Counter` è un tipo di dizionario speciale. Prima di tutto, dobbiamo dichiarare a Python la nostra intenzione di usarlo, recuperandolo dal modulo `collections`:"
   ]
  },
  {
   "cell_type": "code",
   "execution_count": 10,
   "metadata": {},
   "outputs": [],
   "source": [
    "from collections import Counter"
   ]
  },
  {
   "cell_type": "markdown",
   "metadata": {},
   "source": [
    "Supponiamo di voler contare quanti elementi diversi ci sono nella lista \n",
    "\n",
    "```python\n",
    "['c', 'a', 'n', 't', 'a', 'r', 'e', 'l', 'l', 'a', 'n', 'd', 'o']\n",
    "```\n",
    "\n",
    "Possiamo inizializzare `Counter` così:"
   ]
  },
  {
   "cell_type": "code",
   "execution_count": 11,
   "metadata": {},
   "outputs": [],
   "source": [
    "istogramma = Counter(['c', 'a', 'n', 't', 'a', 'r', 'e', 'l', 'l', 'a', 'n', 'd', 'o'])     "
   ]
  },
  {
   "cell_type": "markdown",
   "metadata": {},
   "source": [
    "Se lo stampiamo, vediamo che per primi sono messi gli elementi più frequenti:"
   ]
  },
  {
   "cell_type": "code",
   "execution_count": 12,
   "metadata": {},
   "outputs": [
    {
     "name": "stdout",
     "output_type": "stream",
     "text": [
      "Counter({'a': 3, 'n': 2, 'l': 2, 'c': 1, 't': 1, 'r': 1, 'e': 1, 'd': 1, 'o': 1})\n"
     ]
    }
   ],
   "source": [
    "print(istogramma)"
   ]
  },
  {
   "cell_type": "markdown",
   "metadata": {},
   "source": [
    "<div class=\"alert alert-warning\">\n",
    "\n",
    "**ATTENZIONE: SE NON SI USA LA** `print` **JUPYTER STAMPERA' IN ORDINE ALFABETICO!**\n",
    "</div>"
   ]
  },
  {
   "cell_type": "code",
   "execution_count": 13,
   "metadata": {},
   "outputs": [
    {
     "data": {
      "text/plain": [
       "Counter({'c': 1,\n",
       "         'a': 3,\n",
       "         'n': 2,\n",
       "         't': 1,\n",
       "         'r': 1,\n",
       "         'e': 1,\n",
       "         'l': 2,\n",
       "         'd': 1,\n",
       "         'o': 1})"
      ]
     },
     "execution_count": 13,
     "metadata": {},
     "output_type": "execute_result"
    }
   ],
   "source": [
    "istogramma    # occhio !"
   ]
  },
  {
   "cell_type": "markdown",
   "metadata": {},
   "source": [
    "Possiamo ottenere una lista con gli `n` più frequenti col metodo `most_common`, che ritorna una lista di tuple:"
   ]
  },
  {
   "cell_type": "code",
   "execution_count": 14,
   "metadata": {},
   "outputs": [
    {
     "data": {
      "text/plain": [
       "[('a', 3), ('n', 2), ('l', 2), ('c', 1), ('t', 1)]"
      ]
     },
     "execution_count": 14,
     "metadata": {},
     "output_type": "execute_result"
    }
   ],
   "source": [
    "istogramma.most_common(5)"
   ]
  },
  {
   "cell_type": "markdown",
   "metadata": {},
   "source": [
    "`Counter` si può inizializzare con una sequenza qualsiasi, per esempio con tuple:"
   ]
  },
  {
   "cell_type": "code",
   "execution_count": 15,
   "metadata": {},
   "outputs": [
    {
     "name": "stdout",
     "output_type": "stream",
     "text": [
      "Counter({50: 8, 40: 4, 70: 3, 60: 3, 30: 2})\n"
     ]
    }
   ],
   "source": [
    "ct = Counter((50,70,40,60,40,50,40,70,50,50,50,60,50,30,50,30,40,50,60,70))\n",
    "print(ct)"
   ]
  },
  {
   "cell_type": "markdown",
   "metadata": {},
   "source": [
    "o stringhe:"
   ]
  },
  {
   "cell_type": "code",
   "execution_count": 16,
   "metadata": {},
   "outputs": [],
   "source": [
    "cs = Counter('rabbrividirai')"
   ]
  },
  {
   "cell_type": "code",
   "execution_count": 17,
   "metadata": {},
   "outputs": [
    {
     "name": "stdout",
     "output_type": "stream",
     "text": [
      "Counter({'i': 4, 'r': 3, 'a': 2, 'b': 2, 'v': 1, 'd': 1})\n"
     ]
    }
   ],
   "source": [
    "print(cs)"
   ]
  },
  {
   "cell_type": "markdown",
   "metadata": {},
   "source": [
    "Vi sono altri metodi che si possono usare, ma per quelli facciamo riferimento alla [documentazione di Python](https://docs.python.org/3/library/collections.html#collections.Counter) "
   ]
  },
  {
   "cell_type": "markdown",
   "metadata": {},
   "source": [
    "### Esercizio - frequenti\n",
    "\n",
    "\n",
    "Dato una stringa `s`, scrivi del codice che stampa \n",
    "\n",
    "- il carattere più frequente\n",
    "- quello meno frequente\n",
    "- quante e quali frequenze diverse vi sono\n",
    "\n",
    "\n",
    "- Il tuo codice deve funzionare con _qualsiasi_ stringa `s`\n",
    "- Ignora la possibilità che vi siano pari merito tra i più/meno frequenti\n",
    "- ricordati di importare `Counter` da `collections`\n",
    "\n",
    "Esempio - data:\n",
    "\n",
    "```python\n",
    "s = 'rattristato'\n",
    "```\n",
    "\n",
    "il tuo codice deve stampare:\n",
    "\n",
    "```\n",
    "Tra i più frequenti troviamo ('t', 4)\n",
    "Tra i meno frequenti troviamo ('o', 1)\n",
    "Vi sono  3 frequenze diverse: {1, 2, 4}\n",
    "```"
   ]
  },
  {
   "cell_type": "code",
   "execution_count": 18,
   "metadata": {},
   "outputs": [
    {
     "name": "stdout",
     "output_type": "stream",
     "text": [
      "Tra i più frequenti troviamo ('t', 4)\n",
      "Tra i meno frequenti troviamo ('o', 1)\n",
      "Vi sono  3 frequenze diverse: {1, 2, 4}\n"
     ]
    }
   ],
   "source": [
    "#jupman-purge-output\n",
    "\n",
    "s = 'rattristato'\n",
    "\n",
    "# scrivi qui\n",
    "from collections import Counter\n",
    "\n",
    "c = Counter(s)\n",
    "\n",
    "print(\"Tra i più frequenti troviamo\", c.most_common()[0])\n",
    "print(\"Tra i meno frequenti troviamo\", c.most_common()[-1])\n",
    "print(\"Vi sono \", len(set(c.values())), \"frequenze diverse:\", set(c.values()))"
   ]
  },
  {
   "cell_type": "markdown",
   "metadata": {},
   "source": [
    "\n",
    "## Prosegui\n",
    "\n",
    "Prosegui con [le prime challenge](https://it.softpython.org/dictionaries/dictionaries5-chal.html)"
   ]
  },
  {
   "cell_type": "code",
   "execution_count": null,
   "metadata": {},
   "outputs": [],
   "source": []
  }
 ],
 "metadata": {
  "celltoolbar": "Edit Metadata",
  "kernelspec": {
   "display_name": "Python 3 (ipykernel)",
   "language": "python",
   "name": "python3"
  },
  "language_info": {
   "codemirror_mode": {
    "name": "ipython",
    "version": 3
   },
   "file_extension": ".py",
   "mimetype": "text/x-python",
   "name": "python",
   "nbconvert_exporter": "python",
   "pygments_lexer": "ipython3",
   "version": "3.7.10"
  },
  "toc": {
   "base_numbering": 1,
   "nav_menu": {},
   "number_sections": false,
   "sideBar": true,
   "skip_h1_title": false,
   "title_cell": "Table of Contents",
   "title_sidebar": "Contents",
   "toc_cell": false,
   "toc_position": {
    "height": "calc(100% - 180px)",
    "left": "10px",
    "top": "150px",
    "width": "342px"
   },
   "toc_section_display": true,
   "toc_window_display": false
  }
 },
 "nbformat": 4,
 "nbformat_minor": 2
}

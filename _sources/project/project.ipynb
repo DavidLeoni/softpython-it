{
 "cells": [
  {
   "cell_type": "markdown",
   "metadata": {},
   "source": [
    "# Template Progetto\n",
    "\n",
    "<div class=\"alert alert-warning\">\n",
    "\n",
    "**ATTENZIONE: QUESTO E' SOLO UN TEMPLATE!**\n",
    "    \n",
    "**LEGGI ANCHE TUTTA LA PAGINA**  [COME FARE UN PROGETTO](https://it.softpython.org/project-howto.html)\n",
    "\n",
    "</div>    \n",
    "\n",
    "\n",
    "METTERE:\n",
    "\n",
    "TITOLO\n",
    "\n",
    "NOME GRUPPO\n",
    "\n",
    "NOMI / MATRICOLA PARTECIPANTI\n",
    "\n",
    "DATA\n"
   ]
  },
  {
   "cell_type": "markdown",
   "metadata": {},
   "source": [
    "## Introduzione\n",
    "\n",
    "Descrivere \n",
    "\n",
    "* gli obbiettivi che ci si è posti\n",
    "* risultati attesi (i.e. file CSV con dati integrati da mostrare su Umap)\n",
    "* Descrivere brevemente quali attività sono state svolte. Mettere solo una **breve sintesi**, più avanti nel report vi sarà chiesto di descriverle nel dettaglio. Esempi:\n",
    "\n",
    "```\n",
    "    Analisi\n",
    "    Pulizia\n",
    "    Integrazione\n",
    "    Arricchimento\n",
    "        georeferenziazione\n",
    "        semantico\n",
    "    Ricerca\n",
    "        Base\n",
    "        Avanzata\n",
    "        Calcolo similarità\n",
    "        Ranking\n",
    "    Predizione\n",
    "    Presentazione\n",
    "        slides\n",
    "        demo \n",
    "```\n",
    "* librerie Python utilizzate per il progetto\n"
   ]
  },
  {
   "cell_type": "markdown",
   "metadata": {},
   "source": [
    "\n",
    "## Sorgenti dati\n",
    "\n",
    "Descrivere le sorgenti dati (almeno due), mettendo:\n",
    "\n",
    "- nome origine e possibilmente URL\n",
    "- le licenze\n",
    "- encoding\n",
    "- dimensione in Kb (i file dovrebbero essere max 50 megabyte, se più grandi cercate un modo per ridurli e se avete problemi chiedete come fare)\n",
    "- schemi dei dati \n",
    "    - CSV: intestazione colonne, tipi delle colonne (stringa, numero, data ...)\n",
    "    - JSON: spiegare sommariamente le scheletro del JSON  ( se volete strafare scrivete un [JSON schema](http://json-schema.org), ma non l'abbiamo visto a lezione)\n",
    "    - XML: spiegare sommariamente le scheletro dell'XML (possibilmente guardate se l'XML già fornisce un [XML schema](https://en.wikipedia.org/wiki/XML_schema), ma non l'abbiamo fatto a lezione, se avete dubbi chiedete)\n",
    "    - SQL: mettere schema del DB (molti browser di database possono generare diagrammi per gli schemi)\n",
    "    - per altri formati: descrivere a parole\n",
    "- qualche dato di esempio\n",
    "\n",
    "* Se i dati sono da ottenere tramite [web API](https://en.wikipedia.org/wiki/Web_API), chiedersi se è possibile ottenere gratuitamente tutti i dati desiderati  entro i limiti d'uso dell'API\n",
    "\n",
    "\n",
    "**IMPORTANTE: ricordarsi di includere nella cartella del progetto una copia dei dati! Questa è fondamentale ai fini della riproducibilità del notebook, e vale in particolare per i dati ottenuti da Web API e pagine HTML, che possono variare nel tempo (i.e. dati meteo).**"
   ]
  },
  {
   "cell_type": "markdown",
   "metadata": {},
   "source": [
    "\n",
    "## Analisi\n",
    "\n",
    "**ATTIVITA' OBBLIGATORIA**\n",
    "\n",
    "Cercare di capire bene cosa c’è dentro il dataset. Cercare problemi - se si può in Python o altrimenti con LibreOffice / Excel. Per esempio, in una colonna ‘Categoria’, quanti valori distinti ci sono? Sono sempre scritti allo stesso modo? Se c’è una colonna con gli indirizzi, gli indirizzi sono sempre formattati nello stesso modo?\n",
    "\n",
    "- mostrare raggruppamenti, grafici frequenze. Esempi: \n",
    "    - motivare con numeri perchè si sono scelte certe colonne piuttosto che altre\n",
    "    - per le colonne usate, quante celle vuote c'erano in proporzione a quelle piene, con grafico percentuali a torta\n",
    "    - qual'era la distribuzione dei valori in una data colonna?\n",
    "    - quante righe sono state mantenute e quante eliminate?    \n",
    "- correlazioni tra valori (potreste usare librerie come Pandas)\n",
    "- mostrare punti su mappa con UMap, notare raggruppamenti\n",
    "- ricavare qualche modello dai dati, con plot su grafico (es: relazione lineare pressione / temperatura)\n",
    "- mettere qualche widget per variare parametri del modello\n",
    "\n"
   ]
  },
  {
   "cell_type": "markdown",
   "metadata": {},
   "source": [
    "## Pulizia \n",
    "\n",
    "Elencare eventuali problemi da correggere, e come li si è risolti. Esempi: \n",
    "\n",
    "- dati mal formattati\n",
    "- interpretazione dati mancanti, come li si è convertiti \n",
    "    - i valori assenti sono da assumersi uguali a 0, stringa vuota, `None`, lista vuota ? ...\n",
    "- Mappe con punti in posti assurdi\n",
    "\n"
   ]
  },
  {
   "cell_type": "markdown",
   "metadata": {},
   "source": [
    "## Integrazione\n",
    "\n",
    "Quando si integrano due dataset con contenuti simili, ma che possono avere formati e campi diversi (es. file CSV agritur e file XML delle strutture alberghiere)\n",
    "\n",
    "Per un esempio di integrazione, vedere [tutorial integrazione](https://it.softpython.org/integration/integration-sol.html)\n",
    "\n",
    "\n",
    "* Si sono uniti dei dataset ? Come? \n",
    "* Su quali colonne è stata effettuata la join? \n",
    "* Che problemi sono stati sorti? \n",
    "* Come sono stati risolti?\n",
    "\n"
   ]
  },
  {
   "cell_type": "markdown",
   "metadata": {},
   "source": [
    "## Arricchimento\n",
    "\n",
    "Si arricchiscono i dati quando si precisa meglio il loro significato. Per esempio, si specifica la posizione geografica aggiungendo le colonne latitudine e longitudine, ottenute  passando l’indirizzo testuale a servizi di geocoding. Vedere [tutorial integrazione](https://it.softpython.org/integration/integration-sol.html). Altro esempio: si determina il significato preciso delle parole nel testo usando disambiguazione semantica come Dandelion.\n",
    "\n",
    "\n",
    "* Sono stati usati dei metodi, librerie Python o servizi via WEBAPI per precisare il significato dei dati? \n",
    "* Sono state trovate coordinate geografiche ? Come? \n",
    "* Sono state estratte entità / concetti dal testo ? Come ?\n"
   ]
  },
  {
   "cell_type": "markdown",
   "metadata": {},
   "source": [
    "## Ricerca\n",
    "\n",
    "L' _information retrieval_ è l'attività che svolgono i sistemi informatici quando devono recuperare _rapidamente_ delle informazioni _rilevanti_ . Vedere [tutorial information retrieval](https://it.softpython.org/information-retrieval/information-retrieval-sol.html)\n",
    "\n",
    "Si è implementato un sistema di ricerca? Come? Che fattori sono stati considerati ? \n",
    "\n",
    "### Ricerca base\n",
    "\n",
    "Possiamo categorizzare la ricerca come 'base' se permette \n",
    "\n",
    "- matching di parole esatto, es cerco “pavimentazione”  e se c’è “pavimentazioni” con la “i” alla fine o “manto stradale” non la trova \n",
    "- ricerca di valori tra due limiti. Es cerco tutti i bandi pubblicati entro due date. I valori da cercare sono già facilmente disponibili in celle separate in formato machine readable e non serve estrarli con tecniche particolari\n",
    "- inserimento query di ricerca come parametro di funzioni python\n",
    "- visualizzazione risultati come semplici print testuali\n",
    "\n",
    "### Ricerca avanzata\n",
    "\n",
    "Possiamo considerare una ricerca 'avanzata' se richiede una elaborazione preventiva dei dati per una maggiore precisione. Per es. si vuole ricercare per importo complessivo di un bando, ma il valore dell’importo è nella descrizione e va preventivamente estratto in una colonna a parte. Vedere [regex su softpython](https://it.softpython.org/search/regex-sol.html)\n",
    "\n",
    "Miglioramento dell’interfaccia grafica (vedere [tutorial applicazioni interattive](https://it.softpython.org/gui/gui-sol.html)):\n",
    "\n",
    "- inserimento della ricerca in una casella di ricerca widget jupyter \n",
    "- possibilità di impostare qualche parametro della ricerca con dei widget (es checkbox per includere / escludere agritur nella ricerca)\n",
    "- visualizzazione della ricerca in widget \n",
    "\n",
    "### Ricerca semantica\n",
    "\n",
    "La ricerca 'semantica' prende in considerazione il significato delle parole, vedi [teoria information retrieval](https://it.softpython.org/information-retrieval/information-retrieval-sol.html#Prendiamo-le-distanze)\n",
    "\n",
    "- matching di parole non esatto, es cerco “pavimentazione” e se c’è “pavimentazioni” con la “i” alla fine o ‘‘manto stradale” trova una corrispondenza\n",
    "\n",
    "- ricerca per similarità: Sono stati adottati metodi per calcolare la similarità tra gli elementi da cercare? Quali sono le performance?\n",
    "\n",
    "### Ranking\n",
    "\n",
    "* I risultati della ricerca vengono presentati in un ordine casuale o preciso? \n",
    "* Sono ordinati per _rilevanza_ ? \n",
    "* Quali fattori si usano per calcolarla? \n",
    "* Che formula si è usata per creare il ranking ?\n",
    "  \n"
   ]
  },
  {
   "cell_type": "markdown",
   "metadata": {},
   "source": [
    "## Predizione\n",
    "\n",
    "* Si è implementato un sistema predittivo (es. date n - 1 colonne riesco a prevedere il valore dell'ennesima con una precisione del X %)? \n",
    "* Come è stata calcolata la formula per predire la colonna mancante?\n"
   ]
  },
  {
   "cell_type": "markdown",
   "metadata": {},
   "source": [
    "## Presentazione\n",
    "\n",
    "### Slides\n",
    "\n",
    "Sono state create delle slides? Dove si trovano (se online si _deve_ consegnare una copia pdf nello zip) ?\n",
    "\n",
    "### Demo\n",
    "\n",
    "**NOTA**: questa parte è per la _demo_, che è distinta dalla sezione [Analisi](#Analisi). Se prima hai usato dei widget per mostrare i parametri dei modelli, quei widget non vanno riportati qui\n",
    "\n",
    "* Se il tuo progetto prevede una parte di demo in Jupyter, includi nel foglio separato [demo.ipynb](demo.ipynb) i widget funzionanti\n",
    "* Se invece hai fatto il progetto come sistema esterno a Jupyter, **spiega bene qui come eseguirlo**, includendo degli screenshot del sistema. \n",
    "\n",
    "**Condividere codice**: Se hai codice da condividere tra più fogli, invece del copia-e-incolla considera creare file di codice sorgente Python con estensione `.py` come `esempio.py`. In entrambi i fogli poi potresti fare\n",
    "\n",
    "```python\n",
    "from esempio import *\n",
    "```\n",
    "\n",
    "\n"
   ]
  },
  {
   "cell_type": "markdown",
   "metadata": {},
   "source": [
    "## Problematiche riscontrate\n",
    "\n",
    "Descrivere i problemi maggiori riscontrati nel progetto\n",
    "\n"
   ]
  },
  {
   "cell_type": "markdown",
   "metadata": {},
   "source": [
    "## Conclusioni\n",
    "\n",
    "Descrivere: \n",
    "\n",
    "- se si sono raggiunti gli obbiettivi posti\n",
    "- eventualmente cosa si potrebbe aggiungere di interessante \n",
    "\n"
   ]
  },
  {
   "cell_type": "code",
   "execution_count": null,
   "metadata": {},
   "outputs": [],
   "source": []
  }
 ],
 "metadata": {
  "kernelspec": {
   "display_name": "Python 3 (ipykernel)",
   "language": "python",
   "name": "python3"
  },
  "language_info": {
   "codemirror_mode": {
    "name": "ipython",
    "version": 3
   },
   "file_extension": ".py",
   "mimetype": "text/x-python",
   "name": "python",
   "nbconvert_exporter": "python",
   "pygments_lexer": "ipython3",
   "version": "3.7.10"
  },
  "toc": {
   "base_numbering": 1,
   "nav_menu": {},
   "number_sections": false,
   "sideBar": true,
   "skip_h1_title": false,
   "title_cell": "Table of Contents",
   "title_sidebar": "Contents",
   "toc_cell": false,
   "toc_position": {},
   "toc_section_display": true,
   "toc_window_display": true
  }
 },
 "nbformat": 4,
 "nbformat_minor": 2
}

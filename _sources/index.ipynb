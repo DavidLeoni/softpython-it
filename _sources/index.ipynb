{
 "cells": [
  {
   "cell_type": "raw",
   "metadata": {
    "raw_mimetype": "text/restructuredtext"
   },
   "source": [
    ".. meta::\n",
    "\n",
    "   :description: Guida introduttiva gratuita alla pulizia e analisi dati con Python 3"
   ]
  },
  {
   "cell_type": "markdown",
   "metadata": {
    "collapsed": true
   },
   "source": [
    "# SoftPython\n"
   ]
  },
  {
   "cell_type": "raw",
   "metadata": {
    "raw_mimetype": "text/latex"
   },
   "source": [
    "% Latex fixes, DO NOT DELETE THIS !!!!\n",
    "\n",
    "% need to demote chapters to sections because sphinx promotes them *just in the home* :-/\n",
    "% https://tex.stackexchange.com/questions/161259/macro-for-promoting-sections-to-chapters\n",
    "% for alternatives, see https://texfaq.org/FAQ-patch\n",
    "\n",
    "\\let\\truechapter\\chapter\n",
    "\\let\\truesection\\section\n",
    "\\let\\truesubsection\\subsection\n",
    "\\let\\truesubsubsection\\subsubsection\n",
    "\\let\\truethesection\\thesection\n",
    "\n",
    "\\let\\chapter\\truesection\n",
    "\\let\\section\\truesubsection\n",
    "% suspend number printing , according to   https://tex.stackexchange.com/a/80114\n",
    "\\renewcommand\\thesection{}\n",
    "\n",
    "\\truesection{Prefazione}"
   ]
  },
  {
   "cell_type": "markdown",
   "metadata": {},
   "source": [
    "**Guida introduttiva e gratuita alla pulizia e analisi dati con Python 3.** \n",
    "\n",
    "**Ricca di esercizi svolti e adatta sia a principianti che studenti con conoscenze tecnico/scientifiche.**\n"
   ]
  },
  {
   "cell_type": "raw",
   "metadata": {
    "raw_mimetype": "text/html"
   },
   "source": [
    "<!-- HTML download links -->\n",
    "<p>\n",
    " DOWNLOAD: &nbsp;&nbsp; <a href=\"https://it.softpython.org/softpython-it.pdf\" target=\"_blank\">PDF</a>\n",
    "           &nbsp;&nbsp; <a href=\"https://it.softpython.org/softpython-it.epub\" target=\"_blank\"> EPUB </a>\n",
    "           &nbsp;&nbsp; <a href=\"https://github.com/DavidLeoni/softpython-it/archive/it.softpython.org.zip\" target=\"_blank\"> HTML </a>\n",
    "           &nbsp;&nbsp; <a href=\"https://github.com/DavidLeoni/softpython-it\" target=\"_blank\"> Github </a>\n",
    "</p>\n",
    " <br/>\n",
    " <br/>"
   ]
  },
  {
   "cell_type": "markdown",
   "metadata": {},
   "source": [
    "\n",
    "Al giorno d’oggi sempre più decisioni vengono prese in base a dati fattuali e oggettivi. Tutte le discipline, dall’ingegneria alle scienze sociali, necessitano oramai capacità di elaborare dati ed estrarre informazioni utili dall’analisi di fonti eterogenee. Questo sito di esercizi pratici fornisce quindi un’introduzione al processamento dati usando [Python](http://www.python.it/), un linguaggio di programmazione popolare sia nell’industria che nell'ambito della ricerca. "
   ]
  },
  {
   "cell_type": "markdown",
   "metadata": {},
   "source": [
    "## News\n",
    "\n",
    "**19 agosto 2021**: aggiunto esercizi a liste 1 e 2\n",
    "\n",
    "**6 agosto 2021**: aggiunto [challenge pandas](#pandas)\n",
    "\n",
    "**5 agosto 2021**: migliorato e aggiunto soluzioni efficienti a [matrici numpy](#matrices-numpy)\n",
    "\n",
    "**24 maggio 2021**: migliorato [pandas](pandas/pandas-sol.ipynb)\n",
    "\n",
    "**8 maggio 2021**: migliorato [matrici numpy](#matrices-numpy) e aggiunto challenge  \n",
    "\n",
    "**2 maggio 2021**: aggiunto challenge a [visualizzazione](#visualization)\n",
    "\n",
    "Vecchie news: [link](changelog.ipynb)"
   ]
  },
  {
   "cell_type": "raw",
   "metadata": {
    "raw_mimetype": "text/latex"
   },
   "source": [
    "% Latex: fix for book structure\n",
    "\n",
    "\\let\\thesection\\truethesection\n",
    "\\truechapter{Panoramica}"
   ]
  },
  {
   "cell_type": "markdown",
   "metadata": {},
   "source": [
    "## A chi è rivolto \n",
    "\n",
    "Il materiale in questo sito è rivolto sia a principianti assoluti che a studenti con background più tecnico che desiderino acquisire conoscenze pratiche riguardo l’estrazione, la pulizia, l’analisi e visualizzazione di dati (tra i framework Python usati vi saranno Pandas, Numpy e l’editor Jupyter). Per superare eventuali difficoltà e garantire risultati didattici concreti, le guide presentate sono passo-passo."
   ]
  },
  {
   "cell_type": "markdown",
   "metadata": {},
   "source": [
    "## Requisiti\n",
    "\n",
    "Qualche conoscenza base di programmazione, in un qualsiasi linguaggio è utile ma non strettamente necessaria. Tutti i materiali proposti sono in lingua italiana."
   ]
  },
  {
   "cell_type": "markdown",
   "metadata": {},
   "source": [
    "## Contenuti\n",
    "\n",
    "* [Come orientarsi](overview.ipynb): Approccio e obbiettivi\n",
    "\n",
    "* [Riferimenti](references.ipynb)\n",
    "    \n",
    "### A - Fondamenti\n",
    "\n",
    "1.  [Installazione](installation.ipynb)\n",
    "1.  [Introduzione veloce a Python](quick-intro/quick-intro-sol.ipynb) (per chi ha già conoscenze di programmazione)\n",
    "1.  [Strumenti e script](tools/tools-sol.ipynb)\n",
    "\n",
    "1.  <p id=\"basics\">Basi (per principianti assoluti)</p> \n",
    "\n",
    "    1. [variabili e interi](basics/basics1-ints-sol.ipynb) \n",
    "    2. [booleani](basics/basics2-bools-sol.ipynb) \n",
    "    3. [numeri reali](basics/basics3-floats-sol.ipynb) \n",
    "    4. [challenge](basics/basics4-chal.ipynb)\n",
    "\n",
    "1.  <p id=\"strings\">Stringhe</p>\n",
    "\n",
    "    1. [introduzione](strings/strings1-sol.ipynb)\n",
    "    2. [operatori](strings/strings2-sol.ipynb)\n",
    "    3. [metodi](strings/strings3-sol.ipynb)\n",
    "    4. [altri esercizi](strings/strings4-sol.ipynb)\n",
    "    5. [challenge](strings/strings5-chal.ipynb)\n",
    "    \n",
    "1.  <p id=\"lists\">Liste</p>\n",
    "\n",
    "    1. [introduzione](lists/lists1-sol.ipynb)\n",
    "    2. [operatori](lists/lists2-sol.ipynb)\n",
    "    3. [metodi](lists/lists3-sol.ipynb)\n",
    "    4. [iterazione e funzioni](lists/lists4-sol.ipynb)\n",
    "    5. [challenge](lists/lists5-chal.ipynb)\n",
    "    \n",
    "1.  <p id=\"tuples\">Tuple</p>\n",
    "\n",
    "    1.  [introduzione](tuples/tuples1-sol.ipynb)\n",
    "    2.  [challenge](tuples/tuples2-chal.ipynb)\n",
    "\n",
    "1.  <p id=\"sets\">Insiemi</p>\n",
    "\n",
    "    1.  [introduzione](sets/sets1-sol.ipynb)\n",
    "    2.  [challenge](sets/sets2-chal.ipynb)\n",
    "\n",
    "1.  <p id=\"dictionaries\">Dizionari</p>\n",
    "\n",
    "    1. [introduzione](dictionaries/dictionaries1-sol.ipynb)\n",
    "    2. [operatori](dictionaries/dictionaries2-sol.ipynb)\n",
    "    3. [metodi](dictionaries/dictionaries3-sol.ipynb)\n",
    "    4. [iterazione e funzioni](dictionaries/dictionaries4-sol.ipynb)\n",
    "    5. [strutture composte](dictionaries/dictionaries5-sol.ipynb)\n",
    "    6. [challenge](dictionaries/dictionaries6-chal.ipynb)\n",
    "\n",
    "1.  <p id=\"control-flow\">Controllo di flusso</p>\n",
    "\n",
    "    1. [condizionali if](control-flow/flow1-if-sol.ipynb)\n",
    "    2. [cicli for](control-flow/flow2-for-sol.ipynb)   \n",
    "    3. [cicli while](control-flow/flow3-while-sol.ipynb)\n",
    "    4. [challenge](control-flow/flow4-chal.ipynb)\n",
    "\n",
    "1.  <p id=\"sequences\">Sequenze ecomprehensions</p>\n",
    "\n",
    "    1. [introduzione](sequences/sequences1-sol.ipynb)\n",
    "    1. [challenge](sequences/sequences2-chal.ipynb)\n",
    "\n",
    "1.  <p id=\"functions\">Funzioni</p>\n",
    "\n",
    "    1.  [introduzione](functions/functions1-sol.ipynb)\n",
    "    1.  [challenge](functions/functions2-chal.ipynb)\n",
    "    \n",
    "1.  <p id=\"errors-and-testing\">Gestione errori e testing</p>\n",
    "\n",
    "    1. [Introduzione](errors-and-testing/errors-and-testing1-sol.ipynb)\n",
    "    1. [challenge](errors-and-testing/errors-and-testing2-chal.ipynb)\n",
    "\n",
    "1.  <p id=\"matrices-lists\">Matrici - liste di liste</p>\n",
    "\n",
    "    1.  [introduzione](matrices-lists/matrices-lists1-sol.ipynb)\n",
    "    1.  [altri esercizi](matrices-lists/matrices-lists2-sol.ipynb)\n",
    "    1.  [challenge](matrices-lists/matrices-lists3-chal.ipynb)\n",
    "\n",
    "1.  <p id=\"matrices-numpy\">Matrici - Numpy</p>\n",
    "\n",
    "    1.  [introduzione](matrices-numpy/matrices-numpy1-sol.ipynb)\n",
    "    1.  [challenge](matrices-numpy/matrices-numpy2-chal.ipynb)"
   ]
  },
  {
   "cell_type": "markdown",
   "metadata": {},
   "source": [
    "### B - Analisi dati\n",
    "\n",
    "1.  <p id=\"formats\">Formati dei dati</p>\n",
    "\n",
    "    1. [file a linee](formats/formats1-lines-sol.ipynb)\n",
    "    1. [file CSV](formats/formats2-csv-sol.ipynb)\n",
    "    1. [file JSON](formats/formats3-json-sol.ipynb)\n",
    "    1. [challenge: personaggi storici del Trentino](formats/formats4-chal.ipynb)\n",
    "    \n",
    "1.  <p id=\"visualization\">Visualizzazione dati</p>    \n",
    "    \n",
    "    1. [introduzione](visualization/visualization1-sol.ipynb): Plotting di grafici in Matplotlib, esporre dati online con DataWrapper, RawGraphs, UMap    \n",
    "    1. [challenge](visualization/visualization2-chal.ipynb)\n",
    "1. [Ricerca](search/regex-sol.ipynb)\n",
    "    * Ricerca in dati testuali  usando espressioni regolari\n",
    "    * es. fermate autobus trentino\n",
    "1. [Integrazione dati](integration/integration-sol.ipynb)\n",
    "    * Esempio di integrazione dati: scaricamento di un dataset opendata (agritur del Trentino)\n",
    "    * pulizia e posizionamento dei punti di interesse su OpenStreetMap usando un servizio di georeferenziazione\n",
    "1. [Estrazione Dati](extraction/extraction-sol.ipynb)\n",
    "    * Estrazione di testo rilevante da una pagina HTML  usando BeautifulSoup\n",
    "    * es. eventi del Trentino\n",
    "1.  <p id=\"pandas\">Analitiche con Pandas</p>\n",
    "\n",
    "    1. [introduzione](pandas/pandas1-sol.ipynb): Analisi di dataset (filtraggio, statistiche) con la libreria Pandas\n",
    "    1. [challenge](pandas/pandas2-chal.ipynb)    \n",
    "    \n",
    "1. [Information retrieval](information-retrieval/information-retrieval-sol.ipynb)\n",
    "    * Ricerca per rilevanza\n",
    "    * Ricerca per similarità"
   ]
  },
  {
   "cell_type": "markdown",
   "metadata": {},
   "source": [
    "### C - Applicazioni \n",
    " \n",
    "1. [Interfacce utente](gui/gui-sol.ipynb)\n",
    "    * Creazione di interfacce per analisi interattiva di dati con Jupyter Widgets\n",
    "    * Discussione di alternative (QT, wxWidget)\n",
    "2. [Integrazione con database](database/database-sol.ipynb)\n",
    "    * Estrazione di dati da un database SQLite con Pandas\n",
    "    * Esecuzione di semplici ricerche SQL   \n",
    "3. [Web development](web/web-sol.ipynb)\n",
    "    * Cenni sviluppo di un semplice server web"
   ]
  },
  {
   "cell_type": "markdown",
   "metadata": {},
   "source": [
    "### D - Progetti\n",
    "\n",
    "1. [Realizzare progetti](project-howto.ipynb)\n",
    "    * ambienti virtuali\n",
    "    * installazione librerie\n",
    "2. [Scrittura testo in Markdown / Jupyter](project/markdown.ipynb)\n",
    "3. [Idee per progetti](project-ideas.ipynb)\n",
    "4. [Challenges](challenges.ipynb)"
   ]
  },
  {
   "cell_type": "markdown",
   "metadata": {},
   "source": [
    "## Autori\n",
    " \n",
    "**David Leoni** (autore principale): Software engineer specializzato in data integration e web semantico, ha realizzato applicazioni in ambito open data e medico in Italia e all'estero. Dal 2019 è presidente dell'associazione CoderDolomiti, con cui insieme a Marco Caresia gestisce il movimento di volontariato CoderDojo Trento dove da anni insegnano programmazione creativa ai ragazzi. <br/>\n",
    "Email: [david.leoni@unitn.it](mailto:david.leoni@unitn.it) &ensp; Sito: [davidleoni.it](https://davidleoni.it)\n",
    "\n",
    "**Marco Caresia** (assistente Edizione Autunno 2017 @DISI Università di Trento): E' stato docente di informatica presso la Scuola Professionale Einaudi di Bolzano. E' presidente della delegazione Trentino Alto Adige Südtirol dell’Associazione Italiana Formatori e vicepresidente dell'associazione CoderDolomiti.\n",
    "\n",
    "**Alessio Zamboni** (assistente Edizione Marzo 2018 @Sociologia Università di Trento): Data scientist e software engineer con esperienza in NLP, GIS e gestione del knowledge. Ha collaborato in numerosi progetti di ricerca, collezionando esperienze in Europa e in Asia. Sostiene con convinzione che _\"la programmazione è una forma d'arte\"_ \n",
    "\n",
    "**Luca Bosotti** (assistente edizione Summerschool Data Science 2020 e seminari 2021 @Sociologia, Università di Trento): Developer, scientist e professore. Crede che il mondo stia diventando sempre più complicato e interessante. Perciò quello che dobbiamo fare è studiarlo e per farlo ci tocca sfruttare tutte le potenzialità ed il ragionamento possibile. Ha insegnato a giovani di tutte le età, dalle scuole elementari al livello universitario ed è sempre rimasto colpito da quanto siano differenti le persone che si approcciano alla programmazione.\n",
    "\n",
    "**Massimiliano Luca** (docente Edizione Estate 2019 @Sociologia Università di Trento): Adora imparare nuove tecnologie ogni giorno. Particolarmente interessato in knowledge representation, data integration, data modeling e computational social science. Crede fermamente che sia vitale introdurre i giovani alla computer science, a tal fine è mentor al Coder Dojo DISI Master.\n",
    "\n",
    "**Contributors:** Ringraziamo anche gli studenti Ludovico Maria Valenti e Ioana Doleanu per i miglioramenti alla pagina numpy e Stefano Moro per le numerose segnalazioni."
   ]
  },
  {
   "cell_type": "markdown",
   "metadata": {},
   "source": [
    "## Licenza\n",
    "\n",
    "Questo sito è stato realizzato con stanziamenti dei dipartimenti di [Ingegneria e Scienze dell’Informazione (DISI)](https://www.disi.unitn.it), Sociologia e Matematica dell'Università di Trento.\n",
    "\n",
    "![unitn-843724](_static/img/third-parties/disi-unitn-it-logo.jpeg)\n",
    "\n",
    "\n",
    "![cc-by-7172829](_static/img/cc-by.png)\n",
    "\n",
    "Tutto il materiale in questo sito è distribuito con licenza CC-BY 4.0 Internazionale [https://creativecommons.org/licenses/by/4.0/deed.it](https://creativecommons.org/licenses/by/4.0/deed.it) \n",
    "\n",
    "Si può quindi liberamente ridistribuire e modificare il contenuto, basta citare l'Università di Trento / DISI e [gli autori](index.ipynb#Autori) \n",
    "\n",
    "Note tecniche: tutte le pagine del sito sono fogli Jupyter facilmente modificabili - sono stati convertiti in pagine web tramite [NBSphinx](https://nbsphinx.readthedocs.io) usando il template [Jupman](https://github.com/DavidLeoni/jupman). I sorgenti del testo si trovano su Github all'indirizzo [https://github.com/DavidLeoni/softpython-it](https://github.com/DavidLeoni/softpython-it)\n",
    "\n",
    "Se vi piace il contenuto del libro e volete contribuire esercizi / tutorial, vedere la pagina [CONTRIBUTING](CONTRIBUTING.md)"
   ]
  },
  {
   "cell_type": "markdown",
   "metadata": {},
   "source": [
    "\n",
    "## Ringraziamenti\n",
    "\n",
    "Ringraziamo in particolare il professor Alberto Montresor del Dipartimento di Informatica dell'Università di Trento per aver consentito la realizzazione dei corsi dai quali nasce questo materiale, e il progetto Trentino Open Data ([dati.trentino.it](https://dati.trentino.it)) per i numerosi dataset forniti. \n",
    "\n",
    "![dati-trentino-9327234823487](_static/img/third-parties/dati-trentino-small.png)\n",
    "\n",
    "Gli altri numerosi enti ed aziende che nel tempo hanno contribuito materiale ed idee sono citati [in questa pagina](thanks.ipynb)"
   ]
  },
  {
   "cell_type": "raw",
   "metadata": {
    "raw_mimetype": "text/latex"
   },
   "source": [
    "% Latex: Restores all the previous substitutions \n",
    "% DO NOT DELETE THIS !!!!\n",
    " \n",
    "\\let\\chapter\\truechapter\n",
    "\\let\\section\\truesection\n",
    "\\let\\subsection\\truesubsection\n",
    "\\let\\subsubsection\\truesubsubsection"
   ]
  }
 ],
 "metadata": {
  "celltoolbar": "Raw Cell Format",
  "kernelspec": {
   "display_name": "Python 3 (ipykernel)",
   "language": "python",
   "name": "python3"
  },
  "language_info": {
   "codemirror_mode": {
    "name": "ipython",
    "version": 3
   },
   "file_extension": ".py",
   "mimetype": "text/x-python",
   "name": "python",
   "nbconvert_exporter": "python",
   "pygments_lexer": "ipython3",
   "version": "3.7.10"
  },
  "toc": {
   "base_numbering": 1,
   "nav_menu": {},
   "number_sections": false,
   "sideBar": true,
   "skip_h1_title": false,
   "title_cell": "Table of Contents",
   "title_sidebar": "Contents",
   "toc_cell": false,
   "toc_position": {
    "height": "calc(100% - 180px)",
    "left": "10px",
    "top": "150px",
    "width": "249.067px"
   },
   "toc_section_display": true,
   "toc_window_display": true
  }
 },
 "nbformat": 4,
 "nbformat_minor": 2
}

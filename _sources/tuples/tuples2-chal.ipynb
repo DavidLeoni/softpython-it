{
 "cells": [
  {
   "cell_type": "markdown",
   "id": "worst-going",
   "metadata": {},
   "source": [
    "# Tuple 2 - Challenges\n",
    "\n",
    "## [Scarica zip esercizi](../_static/generated/tuples.zip)\n",
    "\n",
    "[Naviga file online](https://github.com/DavidLeoni/softpython-it/tuples)"
   ]
  },
  {
   "cell_type": "markdown",
   "id": "impossible-cambodia",
   "metadata": {},
   "source": [
    "Proponiamo ora degli esercizi senza soluzione, accetti la sfida? "
   ]
  },
  {
   "cell_type": "markdown",
   "id": "distinguished-finland",
   "metadata": {},
   "source": [
    "\n",
    "## Sfida - Gioco delle tre carte\n",
    "\n",
    "✪ Requisiti: tuple\n",
    "\n",
    "Stiamo giocando ad un gioco di carte, e dobbiamo scrivere un programma che ci aiuta a tenere traccia delle carte pescate. Dati in input tre carte, stampare:\n",
    "\n",
    "1. una mano contenente le prime due\n",
    "2. una mano contenente tutte e tre \n",
    "\n",
    "\n",
    "Esempio - dati:\n",
    "    \n",
    "```python    \n",
    "    carta1, carta2, carta3 = (3, \"Fiori\"), (5, \"Quadri\"), (10, \"Picche\") \n",
    "```\n",
    "\n",
    "dopo il tuo codice, deve stampare:\n",
    "    \n",
    "```python\n",
    "  Prima mano: ((3, 'Fiori'), (5, 'Quadri'))\n",
    "Seconda mano: ((3, 'Fiori'), (5, 'Quadri'), (10, 'Picche'))\n",
    "```"
   ]
  },
  {
   "cell_type": "code",
   "execution_count": 1,
   "id": "fifty-indianapolis-stripped",
   "metadata": {},
   "outputs": [],
   "source": [
    "\n",
    "# Input (NON MODIFICARE)\n",
    "\n",
    "carta1, carta2, carta3 = (3, \"Fiori\"), (5, \"Quadri\"), (10, \"Picche\") \n",
    "#           Prima mano: ((3, 'Fiori'), (5, 'Quadri'))\n",
    "#         Seconda mano: ((3, 'Fiori'), (5, 'Quadri'), (10, 'Picche'))\n",
    "\n",
    "\n",
    "#carta1, carta2, carta3 = (6, \"Cuori\"), (8, \"Picche\"), (3, \"Quadri\") \n",
    "#          Prima mano: ((6, 'Cuori'), (8, 'Picche'))\n",
    "#        Seconda mano: ((6, 'Cuori'), (8, 'Picche'), (3, 'Quadri'))\n",
    "\n",
    "# scrivi qui\n",
    "\n"
   ]
  },
  {
   "cell_type": "markdown",
   "id": "adjacent-surprise",
   "metadata": {},
   "source": [
    "## Sfida - cannocchiale\n",
    "\n",
    "✪ Requisiti: tuple, stringhe, liste\n",
    "\n",
    "Data una stringa `s`, scrivi del codice che mette in una variabile tupla `ordinata` tutti i caratteri di `s` ordinati\n",
    "\n",
    "Esempio - data:\n",
    "\n",
    "```python\n",
    "s = \"cannocchiale\"\n",
    "```\n",
    "\n",
    "Dopo il tuo codice deve risultare:\n",
    " \n",
    "```python\n",
    ">>> print(ordinata)\n",
    "('a', 'a', 'c', 'c', 'c', 'e', 'h', 'i', 'l', 'n', 'n', 'o')\n",
    "```"
   ]
  },
  {
   "cell_type": "code",
   "execution_count": 2,
   "id": "hungarian-demand-stripped",
   "metadata": {},
   "outputs": [
    {
     "name": "stdout",
     "output_type": "stream",
     "text": [
      "('a', 'a', 'c', 'c', 'c', 'e', 'h', 'i', 'l', 'n', 'n', 'o')\n"
     ]
    }
   ],
   "source": [
    "s = \"cannocchiale\"\n",
    "\n",
    "# scrivi qui\n",
    "\n"
   ]
  },
  {
   "cell_type": "code",
   "execution_count": 3,
   "id": "spectacular-mexican-stripped",
   "metadata": {
    "nbsphinx": "hidden"
   },
   "outputs": [],
   "source": []
  },
  {
   "cell_type": "code",
   "execution_count": null,
   "id": "fallen-kitchen",
   "metadata": {},
   "outputs": [],
   "source": []
  }
 ],
 "metadata": {
  "kernelspec": {
   "display_name": "Python 3 (ipykernel)",
   "language": "python",
   "name": "python3"
  },
  "language_info": {
   "codemirror_mode": {
    "name": "ipython",
    "version": 3
   },
   "file_extension": ".py",
   "mimetype": "text/x-python",
   "name": "python",
   "nbconvert_exporter": "python",
   "pygments_lexer": "ipython3",
   "version": "3.7.10"
  },
  "toc": {
   "base_numbering": 1,
   "nav_menu": {},
   "number_sections": false,
   "sideBar": true,
   "skip_h1_title": false,
   "title_cell": "Table of Contents",
   "title_sidebar": "Contents",
   "toc_cell": false,
   "toc_position": {},
   "toc_section_display": true,
   "toc_window_display": true
  }
 },
 "nbformat": 4,
 "nbformat_minor": 5
}

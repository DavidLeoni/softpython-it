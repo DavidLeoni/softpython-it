{
 "cells": [
  {
   "cell_type": "markdown",
   "id": "worst-going",
   "metadata": {},
   "source": [
    "# Liste 5 - Challenges\n",
    "\n",
    "## [Scarica zip esercizi](../_static/generated/lists.zip)\n",
    "\n",
    "[Naviga file online](https://github.com/DavidLeoni/softpython-it/lists)"
   ]
  },
  {
   "cell_type": "markdown",
   "id": "impossible-cambodia",
   "metadata": {},
   "source": [
    "Proponiamo ora degli esercizi senza soluzione, accetti la sfida? "
   ]
  },
  {
   "cell_type": "markdown",
   "id": "invisible-positive",
   "metadata": {},
   "source": [
    "## Sfida - iniziamo!"
   ]
  },
  {
   "cell_type": "markdown",
   "id": "fancy-watts",
   "metadata": {},
   "source": [
    "### 1.1 verdure\n",
    "\n",
    "✪ Che cosa viene stampato? Come mai?"
   ]
  },
  {
   "cell_type": "code",
   "execution_count": 1,
   "id": "streaming-economics-stripped",
   "metadata": {},
   "outputs": [],
   "source": [
    "\n",
    "la = ['carote','peperoni','melanzane']\n",
    "x = la.append('z')\n",
    "print(x)\n",
    "print(la)"
   ]
  },
  {
   "cell_type": "markdown",
   "id": "relative-heath",
   "metadata": {},
   "source": [
    "### 1.2 scoiattoli"
   ]
  },
  {
   "cell_type": "markdown",
   "id": "phantom-magnitude",
   "metadata": {},
   "source": [
    "✪ Che cosa viene stampato? Come facciamo a far si che in `lb` venga salvata una copia  di `la` che non viene poi riordinata?"
   ]
  },
  {
   "cell_type": "code",
   "execution_count": 2,
   "id": "abroad-syndicate-stripped",
   "metadata": {},
   "outputs": [],
   "source": [
    "\n",
    "\n",
    "la = ['scoiattolo nano','scoiattolo volante','scoiattolo grigio']\n",
    "lb = la\n",
    "la.sort()\n",
    "print(la)\n",
    "print(lb)"
   ]
  },
  {
   "cell_type": "markdown",
   "id": "stone-crack",
   "metadata": {},
   "source": [
    "### 1.3 alberi\n",
    "\n",
    "✪ E in questo caso? Come facciamo a far modificare solo `lb`?"
   ]
  },
  {
   "cell_type": "code",
   "execution_count": 3,
   "id": "digital-convenience-stripped",
   "metadata": {},
   "outputs": [],
   "source": [
    "\n",
    "la = ['pino marittimo','abete rosso','larice','sequoia']\n",
    "lb = la\n",
    "lb.sort()\n",
    "print(la)\n",
    "print(lb)"
   ]
  },
  {
   "cell_type": "markdown",
   "id": "nasty-maine",
   "metadata": {},
   "source": [
    "### 1.4 ascanio\n",
    "\n",
    "✪ La faccenda cambia se usiamo `reverse()` invece di `sort()`? Perchè?"
   ]
  },
  {
   "cell_type": "code",
   "execution_count": 4,
   "id": "devoted-lindsay-stripped",
   "metadata": {},
   "outputs": [],
   "source": [
    "\n",
    "la = ['giulia','ascanio','ernesto','camilla']\n",
    "lb = la\n",
    "la.reverse()\n",
    "print(la)\n",
    "print(lb)"
   ]
  },
  {
   "cell_type": "markdown",
   "id": "japanese-bennett",
   "metadata": {},
   "source": [
    "### 1.5 ultimo \n",
    "\n",
    "✪ Svincoliamo pure qui il contenuto di `la` da quello di `lb`. Cerca di usare un altro modo"
   ]
  },
  {
   "cell_type": "code",
   "execution_count": 5,
   "id": "thorough-culture-stripped",
   "metadata": {},
   "outputs": [],
   "source": [
    "\n",
    "la = ['ultimo','last','final','letzte','sist']\n",
    "lb = la\n",
    "lb.reverse()\n",
    "print(la)\n",
    "print(lb)"
   ]
  },
  {
   "cell_type": "markdown",
   "id": "chemical-evidence",
   "metadata": {},
   "source": [
    "### 1.6 colori\n",
    "\n",
    "✪ Ci interessa mettere da parte solo gli ultimi colori. Come mai non vengono riordinati al contrario?"
   ]
  },
  {
   "cell_type": "code",
   "execution_count": 6,
   "id": "academic-gabriel-stripped",
   "metadata": {},
   "outputs": [],
   "source": [
    "\n",
    "la = ['rosso pomodoro','arancione','ambra','rosa-arancio','rosso mattone','lillà']\n",
    "lb = la[2:10]\n",
    "la.reverse()\n",
    "print(la)\n",
    "print(lb)"
   ]
  },
  {
   "cell_type": "markdown",
   "id": "final-treasurer",
   "metadata": {},
   "source": [
    "### 1.7 officina\n",
    "\n",
    "✪ Abbiamo degli attrezzi maschili e degli attrezzi femminili (grammaticalmente parlando). Riuniamoli tutti. Come mai se li invertiamo le liste di partenza non cambiano?"
   ]
  },
  {
   "cell_type": "code",
   "execution_count": 7,
   "id": "qualified-today-stripped",
   "metadata": {},
   "outputs": [],
   "source": [
    "\n",
    "la = ['cacciavite','martello','mattarello']\n",
    "lb = ['forbice','pinza','impastatrice']\n",
    "lc = la + lb\n",
    "lc.reverse()\n",
    "print(la)\n",
    "print(lb)\n",
    "print(lc)"
   ]
  },
  {
   "cell_type": "markdown",
   "id": "likely-utility",
   "metadata": {},
   "source": [
    "## Sfida - Cantina\n",
    "\n",
    "✪✪ Requisiti: liste\n",
    "\n",
    "Data una stringa `parola`, creare una LISTA che contenga la parola seguita da sè stessa rovesciata \n",
    "\n",
    "- **NOTA**: l'ultima lettera NON deve essere duplicata\n",
    "\n",
    "Esempio - dato: \n",
    "\n",
    "```python\n",
    "parola = \"cantina\"   \n",
    "```\n",
    "\n",
    "deve stampare:\n",
    "\n",
    "```\n",
    "['c', 'a', 'n', 't', 'i', 'n', 'a', 'n', 'i', 't', 'n', 'a', 'c']\n",
    "```"
   ]
  },
  {
   "cell_type": "code",
   "execution_count": 8,
   "id": "solid-cooler-stripped",
   "metadata": {},
   "outputs": [],
   "source": [
    "\n",
    "parola = \"cantina\"   #  ['c', 'a', 'n', 't', 'i', 'n', 'a', 'n', 'i', 't', 'n', 'a', 'c']\n",
    "#parola = \"armadio\"  #  ['a', 'r', 'm', 'a', 'd', 'i', 'o', 'i', 'd', 'a', 'm', 'r', 'a']\n",
    "\n",
    "# scrivi qui\n",
    "\n"
   ]
  },
  {
   "cell_type": "markdown",
   "id": "palestinian-dollar",
   "metadata": {},
   "source": [
    "## Sfida - Rupert e Mortimer\n",
    "\n",
    "✪✪ Requisiti: stringhe, liste\n",
    "\n",
    "I riccastri Rupert e Mortimer hanno alle dipendenze due faccendieri dalla dubbia reputazione, e non vogliono risulti traccia della loro presenza. Ogni ingresso e uscita dal palazzo di Rupert e Mortimer viene registrato dal guardiano, il quale però è stato appena assunto e sbadatamente ha segnato nel registro anche i nomi dei faccendieri.  Scrivi del codice che MODIFICA la lista eliminando i loro nomi.\n",
    "\n",
    "- I faccendieri si muovono sempre in coppia e oggi sono entrati e usciti esattamente 1 volta\n",
    "- Il tuo codice deve funzionare con qualsiasi lista avente 1 ingresso e uscita \n",
    "- NON scrivere costanti come `\"sonny\"` / `\"Sonny\"` nella soluzione\n",
    "- NON usare cicli nè `if`\n",
    "\n",
    "Esempio - dati:\n",
    "\n",
    "```python\n",
    "faccendiere1, faccendiere2 = 'Sonny', 'Lenny'\n",
    "registro = ['mortimer','rupert', 'rupert','mortimer','sonny e lenny', 'mortimer','rupert',\n",
    "            'lenny e sonny', 'mortimer', 'mortimer e rupert', 'rupert e mortimer']\n",
    "```\n",
    "\n",
    "dopo il tuo codice, deve risultare:\n",
    "\n",
    "```python\n",
    ">>> print(registro)\n",
    "['mortimer', 'rupert', 'rupert', 'mortimer', 'mortimer', 'rupert', 'mortimer', 'mortimer e rupert', 'rupert e mortimer']\n",
    "```"
   ]
  },
  {
   "cell_type": "code",
   "execution_count": 9,
   "id": "champion-manitoba-stripped",
   "metadata": {},
   "outputs": [],
   "source": [
    "\n",
    "faccendiere1, faccendiere2 = 'Sonny', 'Lenny'\n",
    "registro = ['mortimer','rupert', 'rupert','mortimer','sonny e lenny', 'mortimer','rupert',            \n",
    "            'lenny e sonny', 'mortimer', 'mortimer e rupert', 'rupert e mortimer']\n",
    "\n",
    "#faccendiere1, faccendiere2 = 'Joey', 'Vincent'\n",
    "#registro = ['rupert','rupert', 'mortimer e rupert','mortimer', 'mortimer', 'vincent e joey', 'rupert','mortimer', 'joey e vincent','mortimer', 'mortimer e rupert', 'rupert e mortimer']\n",
    "\n",
    "# scrivi qui\n",
    "\n"
   ]
  },
  {
   "cell_type": "code",
   "execution_count": 10,
   "id": "spectacular-mexican-stripped",
   "metadata": {
    "nbsphinx": "hidden"
   },
   "outputs": [],
   "source": []
  },
  {
   "cell_type": "code",
   "execution_count": null,
   "id": "rapid-declaration",
   "metadata": {},
   "outputs": [],
   "source": []
  }
 ],
 "metadata": {
  "kernelspec": {
   "display_name": "Python 3 (ipykernel)",
   "language": "python",
   "name": "python3"
  },
  "language_info": {
   "codemirror_mode": {
    "name": "ipython",
    "version": 3
   },
   "file_extension": ".py",
   "mimetype": "text/x-python",
   "name": "python",
   "nbconvert_exporter": "python",
   "pygments_lexer": "ipython3",
   "version": "3.7.10"
  },
  "toc": {
   "base_numbering": 1,
   "nav_menu": {},
   "number_sections": false,
   "sideBar": true,
   "skip_h1_title": false,
   "title_cell": "Table of Contents",
   "title_sidebar": "Contents",
   "toc_cell": false,
   "toc_position": {},
   "toc_section_display": true,
   "toc_window_display": true
  }
 },
 "nbformat": 4,
 "nbformat_minor": 5
}

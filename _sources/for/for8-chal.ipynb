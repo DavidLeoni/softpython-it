{
 "cells": [
  {
   "cell_type": "markdown",
   "id": "worst-going",
   "metadata": {},
   "source": [
    "# Cicli for 8 - Challenges\n",
    "\n",
    "## [Scarica zip esercizi](../_static/generated/for.zip)\n",
    "\n",
    "[Naviga file online](https://github.com/DavidLeoni/softpython-it/tree/master/for)"
   ]
  },
  {
   "cell_type": "markdown",
   "id": "impossible-cambodia",
   "metadata": {},
   "source": [
    "Proponiamo ora degli esercizi senza soluzione, accetti la sfida? "
   ]
  },
  {
   "cell_type": "markdown",
   "id": "b5e7b494",
   "metadata": {},
   "source": [
    "## Sfide range"
   ]
  },
  {
   "cell_type": "markdown",
   "id": "suited-coupon",
   "metadata": {},
   "source": [
    "### Sfida - ascensore a 10 piani\n",
    "\n",
    "✪✪ Requisiti: if annidati, cicli for, range negativi\n",
    "\n",
    "Questa sfida è come [ascensore a 2 piani](https://it.softpython.org/if/if2-chal.html#Sfida---Ascensore-a-due-piani), ma in questo caso le posizioni dell'ascensore e dell'utente sono memorizzate come interi da `0` a `10`. \n",
    "\n",
    "Esempio - dati:\n",
    "\n",
    "```python\n",
    "piano_utente = 3; piano_ascensore = 7\n",
    "```\n",
    "\n",
    "STAMPA:\n",
    "\n",
    "```python    \n",
    "7\n",
    "6\n",
    "5\n",
    "4\n",
    "3\n",
    "DING!\n",
    "```"
   ]
  },
  {
   "cell_type": "code",
   "execution_count": 1,
   "id": "dental-knitting-stripped",
   "metadata": {},
   "outputs": [],
   "source": [
    "\n",
    "piano_utente = 3; piano_ascensore = 7    # 7,6,5,4,3,DING!\n",
    "#piano_utente = 5; piano_ascensore = 0   # 0,1,2,3,4,5,DING!\n",
    "#piano_utente = 3; piano_ascensore = 3   # DING!\n",
    "#piano_utente = 4; piano_ascensore = 6   # 6,5,4,DING!\n",
    "#piano_utente = 6; piano_ascensore = 4   # 4,5,6,DING!\n",
    "\n",
    "# scrivi qui\n",
    "\n"
   ]
  },
  {
   "cell_type": "markdown",
   "id": "ad5e98b0",
   "metadata": {},
   "source": [
    "## Sfide con stringhe"
   ]
  },
  {
   "cell_type": "markdown",
   "id": "187a8671",
   "metadata": {},
   "source": [
    "### Sfida - PALAZZO \n",
    "\n",
    "✪ Requisiti: metodi stringhe, for\n",
    "\n",
    "Data una parola, per ogni carattere stampare l'indice, il carattere in minuscolo e il carattere in maiuscolo. \n",
    "Ci sono due modi principali per svolgere l'esercizio, usando `range` e senza usare `range`. Prova a trovare entrambe le soluzioni\n",
    "\n",
    "Esempio - data:\n",
    "\n",
    "```python\n",
    "parola = 'palazzo'\n",
    "```\n",
    "stampa:\n",
    "\n",
    "```\n",
    "0 p P\n",
    "1 a A\n",
    "2 l L\n",
    "3 a A\n",
    "4 z Z\n",
    "5 z Z\n",
    "6 o O\n",
    "```"
   ]
  },
  {
   "cell_type": "code",
   "execution_count": 2,
   "id": "e3c82d8f-stripped",
   "metadata": {
    "scrolled": true
   },
   "outputs": [],
   "source": [
    "\n",
    "parola = 'palazzo' \n",
    "\n",
    "# scrivi qui\n",
    "\n"
   ]
  },
  {
   "cell_type": "markdown",
   "id": "da8561b1",
   "metadata": {},
   "source": [
    "## Sfide con liste"
   ]
  },
  {
   "cell_type": "markdown",
   "id": "olive-bahamas",
   "metadata": {},
   "source": [
    "### Sfida - La ricetta della nonna\n",
    "\n",
    "✪✪ Requisiti: stringhe, liste, if, for\n",
    "\n",
    "La nonna ci ha dato la sua miracolosa ricetta della pasta olive acciughe \n",
    "e capperi.\n",
    "\n",
    "Dobbiamo andare a comprare gli ingredienti e dobbiamo capire quanti **capperi**, **olive** e **pepe** comprare. Ovviamente di pasta ne abbiamo già in quantità, quindi non ci interessa.\n",
    "\n",
    "Per comprarli, dobbiamo sapere **quanti** prodotti comprare di ciascun tipo.\n",
    "\n",
    "- **ATTENZIONE:** la nonna ha la sua età ed è sempre stata pasticciona e quindi la ricetta è scritta in modo non consistente, e le parole vanno *normalizzate*              \n",
    "- **SUGGERIMENTO:** trasforma prima la stringa in una lista con il [metodo .split](https://it.softpython.org/lists/lists3-sol.html#Metodo-split---da-stringhe-a-liste)\n",
    "  \n",
    "Esempio - dati:\n",
    "\n",
    "```python\n",
    "ricetta = \"oliva\\t, pepe,cappero ,detersivo, cappero, peperone, acciuga ,oliva , pepe\\t, cappero , oliva,pasta\\n\"\n",
    "```\n",
    "\n",
    "stampa:\n",
    "\n",
    "```\n",
    "  Servono:\n",
    "     3 oliva\n",
    "     2 pepe\n",
    "     3 cappero\n",
    "``` "
   ]
  },
  {
   "cell_type": "code",
   "execution_count": 3,
   "id": "colored-short-stripped",
   "metadata": {},
   "outputs": [],
   "source": [
    "\n",
    "\n",
    "#          0        1    2        3          4        5         6        7       8       9         10    11\n",
    "ricetta = \"oliva\\t, pepe,cappero ,detersivo, cappero, peperone, acciuga ,oliva , pepe\\t, cappero , oliva,pasta\\n\"\n",
    "num_oliva   = 0\n",
    "num_pepe = 0\n",
    "num_cappero = 0\n",
    "\n",
    "# scrivi qui\n",
    "\n"
   ]
  },
  {
   "cell_type": "markdown",
   "id": "altered-purchase",
   "metadata": {},
   "source": [
    "### Sfida - testo storto\n",
    "\n",
    "✪✪ Requisiti: stringhe, liste, if, for\n",
    "\n",
    "Dato un testo di caratteri con diversa capitalizzazione, metti nella variabile `tradotto` il testo con la capitalizzazione invertita e poi STAMPALO\n",
    "\n",
    "* **SUGGERIMENTO**: per verificare se un carattere è minuscolo, usa il metodo `.islower()`\n",
    "\n",
    "Esempio - dato:\n",
    "    \n",
    "```python    \n",
    "testo = \"CiAo QuEsTo E' uN TeStO sToRto\"\n",
    "```\n",
    "    \n",
    "dopo il tuo codice dovrebbe risultare:\n",
    "    \n",
    "```\n",
    ">>> print(tradotto)\n",
    "cIaO qUeStO e' Un tEsTo StOrTO\n",
    "```"
   ]
  },
  {
   "cell_type": "code",
   "execution_count": 4,
   "id": "asian-wrist-stripped",
   "metadata": {},
   "outputs": [],
   "source": [
    "\n",
    "testo = \"CiAo QuEsTo E' uN TeStO sToRto\"\n",
    "tradotto = ''\n",
    "\n",
    "# scrivi qui\n",
    "\n"
   ]
  },
  {
   "cell_type": "markdown",
   "id": "given-corporation",
   "metadata": {},
   "source": [
    "### Sfida - Gioco dell'Ordine \n",
    "\n",
    "✪✪ Requisiti: stringhe, liste, sort, if, for\n",
    "\n",
    "Le regole del gioco dell'Ordine sono le seguenti: ci sono sul tavolo 24 gettoni, ognuno con una lettera diversa dell'alfabeto scritta sopra. Due giocatori si sfidano raccogliendo a caso un gettone e quando hanno cinque gettoni inizia la battaglia. Durante la battaglia ciascun giocatore gioca la pedina con la lettera più alta che possiede.\n",
    "Vince al gioco chi è il primo giocatore a posizionare tutte le pedine. \n",
    "\n",
    "1) In questo esercizio abbiamo in input le due liste di pedine. Dobbiamo aggiungere\n",
    "un etichetta che ci dice per ciascuna pedina a quale giocatore appartiene. \n",
    "Successivamente calcoliamo qual'è l'ordine delle giocate.\n",
    "\n",
    "\n",
    "2) Dopo aver trovato l'ordine delle giocate, prova anche a stampare quale giocatore \n",
    "ha vinto la battaglia!\n",
    "\n",
    "Esempio - dati:\n",
    "\n",
    "```python\n",
    "      giocatore1 = [\"h\", \"b\", \"f\", \"d\", \"x\"]\n",
    "      giocatore2 = [\"e\", \"c\", \"g\", \"a\", \"z\"]\n",
    "```        \n",
    "\n",
    "dopo il tuo codice, deve stampare:\n",
    "     \n",
    "```python\n",
    "      ['z_2', 'x_1', 'h_1', 'g_2', 'f_1', 'e_2', 'd_1', 'c_2', 'b_1', 'a_2']\n",
    "```\n"
   ]
  },
  {
   "cell_type": "code",
   "execution_count": 5,
   "id": "nearby-thermal-stripped",
   "metadata": {},
   "outputs": [],
   "source": [
    "\n",
    "giocatore1 = [\"h\", \"b\", \"f\", \"a\", \"x\"]\n",
    "giocatore2 = [\"e\", \"c\", \"g\", \"d\", \"z\"]\n",
    "\n",
    "# scrivi qui\n",
    "\n"
   ]
  },
  {
   "cell_type": "markdown",
   "id": "accompanied-david",
   "metadata": {},
   "source": [
    "### Sfida - Monte ordinato\n",
    "\n",
    "✪✪ Requisiti: liste, sort, for\n",
    "\n",
    "Data una lista `monte` con $n$ numeri (supponi che $n$ sia pari), scrivi del codice \n",
    "che MODIFICA `monte`, ordinando solo i numeri nella prima metà in ordine crescente\n",
    "e poi ordinando solo i numeri nella seconda metà in ordine inverso\n",
    "\n",
    "**SUGGERIMENTO:** ``sort()`` funziona solo su tutta la lista, per ordinarne solo metà dovrai creare altre liste dove mettere i valori da ordinare, e poi copiarli nella lista originale\n",
    " \n",
    "Esempio - data:\n",
    "\n",
    "```python\n",
    "   monte = [90,40,50,20,60, 7, 3, 4, 9, 8]\n",
    "```\n",
    "\n",
    "Dopo il tuo codice, scrivendo `print(monte)` deve risultare:\n",
    "\n",
    "```python\n",
    ">>> print(monte)\n",
    "[20, 40, 50, 60, 90, 9, 8, 7, 4, 3]\n",
    "```\n"
   ]
  },
  {
   "cell_type": "code",
   "execution_count": 6,
   "id": "loaded-insulation-stripped",
   "metadata": {},
   "outputs": [],
   "source": [
    "\n",
    "monte = [90,40,50,20,60, 7, 3, 4, 9, 8]\n",
    "\n",
    "# scrivi qui\n",
    "\n"
   ]
  },
  {
   "cell_type": "markdown",
   "id": "labeled-yukon",
   "metadata": {},
   "source": [
    "### Sfida - Gita scolastica \n",
    "\n",
    "✪✪✪ Requisiti: stringhe, liste, if, for, range\n",
    "\n",
    "Siamo professori nel rinomato liceo della città. E' giunto il periodo dell'anno in cui si devono organizzare le gite scolastiche. Quest'anno avremo l'incredibile opportunità di dormire nelle stanze di un vero castello\n",
    "medioevale! \n",
    "\n",
    "Abbiamo quindi una lista di studenti sia maschi che femmine che parteciperanno alla gita e siccome durerà qualche giorno dobbiamo predisporre le stanze per l'albergo.\n",
    "\n",
    "- per i maschi abbiamo a disposizione stanze da 3 letti.\n",
    "- per le femmine abbiamo stanze da 3 letti\n",
    "\n",
    "Assegneremo le persone nelle stanze in base all'ORDINE ALFABETICO. \n",
    "\n",
    "- i primi 3 maschi andranno nella prima stanza\n",
    "- i maschi dal quarto al sesto andranno nella seconda, etc\n",
    "- le prime 3 femmine, prima stanza\n",
    "- dalla 4 alla 6, seconda stanza, etc\n",
    "\n",
    "**SUGGERIMENTO**: se abbiamo `14` studenti maschi da dividere in stanze da `3` vengono: `4` stanze da `3` più una da `2`. Vale a dire, `14 // 3  = 4` (divisione intera, se non si mettesse `//` verrebbe `4.666666666666667`)\n",
    "\n",
    "Alla fine, l'ultima stanza potrebbe essere incompleta ma ci va bene così.\n",
    "\n",
    "**CONSEGNA:**\n",
    "\n",
    "1.a) Dividere la lista in due NUOVE liste di maschi e femmine\n",
    "\n",
    "1.b) Togliere il prefisso `\"M_\"` e `\"F_\"` dai nomi\n",
    "\n",
    "2) Stampare (**non** serve memorizzare!) le stanze dei maschi\n",
    "\n",
    "3) Stampare (**non** serve memorizzare!) le stanze delle femmine"
   ]
  },
  {
   "cell_type": "markdown",
   "id": "parliamentary-structure",
   "metadata": {},
   "source": [
    "\n",
    "Esempio - dati:"
   ]
  },
  {
   "cell_type": "code",
   "execution_count": 7,
   "id": "official-picking",
   "metadata": {},
   "outputs": [],
   "source": [
    "# Qui abbiamo una classe molto piccola, ma cerchiamo lo stesso di fare le stanze\n",
    "studenti = ['M_Alessandro', 'F_Alessia', 'F_Alice', 'M_Andrea', 'F_Anna', 'F_Arianna',\n",
    "            'F_Aurora', 'F_Beatrice', 'F_Bianca', 'F_Camilla', 'M_Federico', 'M_Francesco']"
   ]
  },
  {
   "cell_type": "markdown",
   "id": "stuck-supervision",
   "metadata": {},
   "source": [
    "Il tuo codice dovrebbe STAMPARE:\n",
    "\n",
    "```    \n",
    "1.a)  maschi = ['M_Alessandro', 'M_Andrea', 'M_Federico', 'M_Francesco']\n",
    "      femmine = ['F_Alessia', 'F_Alice', 'F_Anna', 'F_Arianna', 'F_Aurora', \n",
    "                 'F_Beatrice', 'F_Bianca', 'F_Camilla']\n",
    "      \n",
    "1.b)  maschi = ['Alessandro', 'Andrea', 'Federico', 'Francesco']\n",
    "      femmine = ['Alessia', 'Alice', 'Anna', 'Arianna', 'Aurora', 'Beatrice', \n",
    "                 'Bianca', 'Camilla']\n",
    "\n",
    "2)    Stanza maschi 1: ['Alessandro', 'Andrea', 'Federico']\n",
    "      Stanza maschi 2: ['Francesco']\n",
    "\n",
    "3)    Stanza femmine 1: ['Alessia', 'Alice', 'Anna'] \n",
    "      Stanza femmine 2: ['Arianna', 'Aurora', 'Beatrice']\n",
    "      Stanza femmine 3: ['Bianca', 'Camilla']\n",
    "```        "
   ]
  },
  {
   "cell_type": "code",
   "execution_count": 8,
   "id": "postal-translation-stripped",
   "metadata": {
    "scrolled": false
   },
   "outputs": [],
   "source": [
    "\n",
    "studenti = ['M_Alessandro', 'F_Alessia', 'F_Alice', 'M_Andrea', 'F_Anna', 'F_Arianna', 'F_Aurora',\n",
    "            'F_Beatrice', 'F_Bianca', 'F_Camilla', 'F_Chiara', 'M_Federico', 'M_Francesco', 'M_Gabriele', \n",
    "            'F_Gaia', 'F_Ginevra', 'F_Giorgia', 'F_Giulia', 'M_Giuseppe', 'F_Greta', 'M_Leonardo', 'M_Lorenzo',\n",
    "            'F_Ludovica', 'M_Matteo', 'M_Mattia', 'M_Merlino','F_Nicole', 'M_Nicolo', 'F_Noemi', 'M_Riccardo', \n",
    "            'F_Sara', 'F_Sofia', 'M_Tommaso', 'F_Vittoria']\n",
    "\n",
    "# scrivi qui:\n",
    "\n"
   ]
  },
  {
   "cell_type": "markdown",
   "id": "83d21fcc",
   "metadata": {},
   "source": [
    "## Sfide con insiemi"
   ]
  },
  {
   "cell_type": "markdown",
   "id": "private-princeton",
   "metadata": {},
   "source": [
    "### Sfida - Nuovi Mercati\n",
    "\n",
    "✪✪ Requisiti: liste, insiemi, if, for\n",
    "\n",
    "Abbiamo qualche milione da investire nell'apertura di una nuova attività commerciale.\n",
    "Prima di tutto però ci serve sapere quali negozi non sono disponibili a Trento in maniera da evitare\n",
    "di aprire l'ennesimo negozio di abbigliamento casual (E rischiare di andare in perdita!)\n",
    " \n",
    "INPUT:\n",
    "\n",
    "- `categorie`: insieme di tutte le categorie possibile\n",
    "- `competitor`: lista di competitor con dati `(nome_competitor, insieme_categorie_merci)`\n",
    "\n",
    "Scrivi del codice che\n",
    "\n",
    "1. Stampa le categorie che non sono vendute da nessun competitor\n",
    "2. Calcola **per ogni categoria**, da quanti competitor è venduta\n",
    "\n",
    "Esempio - dati:\n",
    "    \n",
    "```python    \n",
    "categorie = {a, b, c, d, e, f}\n",
    "competitor = [(\"pippo\", {a, c, e}), (\"pluto\", {c, d, e})]\n",
    "```\n",
    "\n",
    "il tuo codice deve stampare:\n",
    "\n",
    "```\n",
    "\"Le categorie disponibili sono: {b, f}\"\n",
    "```   \n",
    "\n",
    "```\n",
    "Categorie vendute da competitor:\n",
    "\n",
    "[(a, 1), (b, 0), (c, 2), (d, 1), (e, 2), (f,0)]\n",
    "```"
   ]
  },
  {
   "cell_type": "code",
   "execution_count": 9,
   "id": "lined-amsterdam-stripped",
   "metadata": {},
   "outputs": [],
   "source": [
    "\n",
    "# INPUT (NON modificare)\n",
    "categorie = {\"Ferramenta\", \"Ortofrutta\", \"Abbigliamento sportivo\", \"Gioielleria\", \"Cosmetici\", \"Pesce\", \"Alcolici\", \"Forniture Elettriche\", \"Telefonia\"}\n",
    "competitor = [\n",
    "        (\"GenerStore\", {\"Ortofrutta\", \"Abbigliamento sportivo\", \"Gioielleria\", \"Pesce\", \"Alcolici\"}),\n",
    "        (\"MomentiElettrizzanti\", {\"Abbigliamento sportivo\", \"Videogames\", \"Gioielleria\", \"Alcolici\", \"Forniture Elettriche\"}),\n",
    "        (\"TuttoEDiPiù\", {\"Videogames\", \"Gioielleria\", \"Pesce\", \"Alcolici\", \"Forniture Elettriche\"}),\n",
    "        (\"ProfumoDiBuono\", {\"Pesce\", \"Alcolici\", \"Forniture Elettriche\"}),\n",
    "        (\"PessimeCombo\", {\"Alcolici\", \"Telefonia\"}),\n",
    "]\n",
    "\n",
    "# scrivi qui\n",
    "\n"
   ]
  },
  {
   "cell_type": "markdown",
   "id": "debb7e24",
   "metadata": {},
   "source": [
    "## Sfide con dizionari"
   ]
  },
  {
   "cell_type": "markdown",
   "id": "defensive-treaty",
   "metadata": {},
   "source": [
    "### Sfida - dondolo\n",
    "\n",
    "✪ Requisiti: stringhe, dizionari, if, cicli\n",
    "\n",
    "Scrivi del codice che data una lista di parole costituite solo dalla stessa lettera, crea un dizionario `freq` che associa a ciascuna lettera il numero di occorrenze di quella lettera trovate **in tutta la lista**\n",
    "\n",
    "Esempio - data:\n",
    "\n",
    "```python\n",
    "parole = ['dddd', 'oooo', 'nnn', 'dddd', 'o', 'lllllll', 'oo']\n",
    "```\n",
    "\n",
    "\n",
    "deve risultare:\n",
    "\n",
    "```python\n",
    ">>> print(freq)\n",
    "{'d': 8, 'o': 7, 'n': 3, 'l': 7}\n",
    "```\n",
    "\n",
    "\n"
   ]
  },
  {
   "cell_type": "code",
   "execution_count": 10,
   "id": "painted-genetics-stripped",
   "metadata": {},
   "outputs": [],
   "source": [
    "\n",
    "parole = ['dddd', 'oooo', 'nnn', 'dddd', 'o', 'lllllll', 'oo']\n",
    "             \n",
    "# scrivi qui\n",
    "\n"
   ]
  },
  {
   "cell_type": "markdown",
   "id": "hairy-steal",
   "metadata": {},
   "source": [
    "### Sfida - Interpol db\n",
    "\n",
    "✪✪ Requisiti: stringhe, liste, dizionari, for\n",
    "\n",
    "Un numero sempre crescente di hackers finanziati da regimi dittatoriali attaccano senza tregua l'infrastruttura informatica di nazioni rivali allo scopo di destabilizzarle, colpendo anche aziende per rubare proprietà intellettuale. L'Interpol vi richiede di sviluppare un database dei gruppi hacker più pericolosi.\n",
    "\n",
    "Dato un nome di un gruppo hacker, si vuole sapere rapidamente se se è presente un dossier che li riguarda.\n",
    "Vi vengono fornite due liste, una con i nomi ufficiali dei gruppi, e una con il corrispondente dossier. Per quanto sia possibile effettuare una ricerca nelle lista, questa potrebbe risultare troppo lenta.\n",
    "Vi si chiede quindi di memorizzare il contenuto delle due liste in un opportuno dizionario `db` che associ i nomi dei gruppi hacker al rispettivo numero di dossier. Visto che l'agente che effettuerà le ricerche potrebbe scrivere i nomi dei gruppi in modi diversi, nel dizionario mettere anche come chiavi  possibili variazioni dei nomi.\n",
    "\n",
    "**ATTENZIONE:**\n",
    "\n",
    "- PRIMA costruire il dizionario `db`\n",
    "- ... e solo POI effettuare la ricerca usando solo `db` e con *UNA SOLA* riga di codice           "
   ]
  },
  {
   "cell_type": "markdown",
   "id": "restricted-canada",
   "metadata": {},
   "source": [
    "Esempio 1 - dati:\n",
    "\n",
    "```python\n",
    "nomi =    ['hacKnights','Cult  of  Cobra','unsafe\\nKreW']\n",
    "dossier = ['hack.odt','cobra.odt','unsafe.docx']\n",
    "```\n",
    "\n",
    "con questa ricerca per chiave nel dizionario db:\n",
    "\n",
    "```python\n",
    "ricerca = 'hacKnights'\n",
    "```\n",
    "\n",
    "deve stampare:\n",
    "\n",
    "```\n",
    "hacKnights è documentato nel dossier 'hack.odt'\n",
    "```"
   ]
  },
  {
   "cell_type": "markdown",
   "id": "corporate-panama",
   "metadata": {},
   "source": [
    "Esempio 2 - data:\n",
    "\n",
    "```python    \n",
    "ricerca = 'CULT OF COBRA'\n",
    "```\n",
    "\n",
    "deve stampare:\n",
    "\n",
    "```\n",
    "   CULT OF COBRA è documentato nel dossier cobra.odt\n",
    "```\n",
    "\n",
    "Per altri test, vedere sotto"
   ]
  },
  {
   "cell_type": "code",
   "execution_count": 11,
   "id": "grateful-liver-stripped",
   "metadata": {},
   "outputs": [],
   "source": [
    "\n",
    "db = {}\n",
    "\n",
    "nomi =     ['hacKnights','Cult  of  Cobra','unsafe\\nKreW']\n",
    "dossier =  ['hack.odt','cobra.odt','unsafe.docx']\n",
    "\n",
    "# Ricerca 'tale e quale':\n",
    "ricerca = 'hacKnights'         # hack.odt\n",
    "#ricerca = 'Cult  of  Cobra'   # cobra.odt\n",
    "#ricerca = 'unsafe\\nKreW'      # unsafe.docx\n",
    "\n",
    "# Ricerca su variazioni della normalizzazione:\n",
    "#ricerca = 'hacknights'      # hack.odt\n",
    "#ricerca = 'HACKNIGHTS'      # hack.odt\n",
    "#ricerca = 'Hacknights'      # hack.odt\n",
    "#ricerca = 'cult of cobra'   # cobra.odt\n",
    "#ricerca = 'CULT OF COBRA'   # cobra.odt\n",
    "#ricerca = 'Cult of cobra'   # cobra.odt\n",
    "#ricerca = 'unsafe krew'     # unsafe.docx\n",
    "#ricerca = 'Unsafe krew'     # unsafe.docx\n",
    "#ricerca = 'UNSAFE KREW'     # unsafe.docx\n",
    "\n",
    "# scrivi qui\n",
    "\n"
   ]
  },
  {
   "cell_type": "code",
   "execution_count": 13,
   "id": "nasty-sampling-stripped",
   "metadata": {
    "nbsphinx": "hidden"
   },
   "outputs": [],
   "source": []
  }
 ],
 "metadata": {
  "kernelspec": {
   "display_name": "Python 3 (ipykernel)",
   "language": "python",
   "name": "python3"
  },
  "language_info": {
   "codemirror_mode": {
    "name": "ipython",
    "version": 3
   },
   "file_extension": ".py",
   "mimetype": "text/x-python",
   "name": "python",
   "nbconvert_exporter": "python",
   "pygments_lexer": "ipython3",
   "version": "3.7.10"
  },
  "toc": {
   "base_numbering": 1,
   "nav_menu": {},
   "number_sections": false,
   "sideBar": true,
   "skip_h1_title": false,
   "title_cell": "Table of Contents",
   "title_sidebar": "Contents",
   "toc_cell": false,
   "toc_position": {
    "height": "calc(100% - 180px)",
    "left": "10px",
    "top": "150px",
    "width": "280.2px"
   },
   "toc_section_display": true,
   "toc_window_display": true
  }
 },
 "nbformat": 4,
 "nbformat_minor": 5
}

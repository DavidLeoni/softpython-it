{
 "cells": [
  {
   "cell_type": "code",
   "execution_count": 1,
   "metadata": {
    "nbsphinx": "hidden"
   },
   "outputs": [],
   "source": [
    "# Ricordati di eseguire questa cella con Shift+Invio\n",
    "\n",
    "import jupman"
   ]
  },
  {
   "cell_type": "markdown",
   "metadata": {},
   "source": [
    "# Tuple\n",
    "\n",
    "## [Scarica zip esercizi](../_static/generated/tuples.zip)\n",
    "\n",
    "[Naviga file online](https://github.com/DavidLeoni/softpython-it/tree/master/tuples)\n",
    "\n",
    "\n",
    "Una tupla in Python è una sequenza _immutabile_ di elementi eterogenei che ammette duplicati, perciò possiamo mettere gli oggetti che vogliamo, anche di tipi diversi, e anche ripetuti."
   ]
  },
  {
   "cell_type": "markdown",
   "metadata": {},
   "source": [
    "### Che fare\n",
    "\n",
    "- scompatta lo zip in una cartella, dovresti ottenere qualcosa del genere: \n",
    "\n",
    "```\n",
    "\n",
    "tuples\n",
    "    tuples1.ipynb\n",
    "    tuples1-sol.ipynb\n",
    "    tuples2-chal.ipynb    \n",
    "    jupman.py         \n",
    "```\n",
    "\n",
    "<div class=\"alert alert-warning\">\n",
    "\n",
    "**ATTENZIONE**: Per essere visualizzato correttamente, il file del notebook DEVE essere nella cartella szippata.\n",
    "</div>\n",
    "\n",
    "- apri il Jupyter Notebook da quella cartella. Due cose dovrebbero aprirsi, prima una console e poi un browser. Il browser dovrebbe mostrare una lista di file: naviga la lista e apri il notebook `tuples1.ipynb`\n",
    "- Prosegui leggendo il file degli esercizi, ogni tanto al suo interno troverai delle scritte **ESERCIZIO**, che ti chiederanno di scrivere dei comandi Python nelle celle successive.\n",
    "\n",
    "Scorciatoie da tastiera:\n",
    "\n",
    "* Per eseguire il codice Python dentro una cella di Jupyter, premi `Control+Invio`\n",
    "* Per eseguire il codice Python dentro una cella di Jupyter E selezionare la cella seguente, premi `Shift+Invio`\n",
    "* Per eseguire il codice Python dentro una cella di Jupyter E creare una nuova cella subito dopo, premi `Alt+Invio`\n",
    "* Se per caso il Notebook sembra inchiodato, prova a selezionare `Kernel -> Restart`\n",
    "\n"
   ]
  },
  {
   "cell_type": "markdown",
   "metadata": {},
   "source": [
    "## Creare tuple\n",
    "\n",
    "Le tuple si creano con le parentesi tonde `()` e separando gli elementi da virgole `,`.\n",
    "\n",
    "Qualche esempio:"
   ]
  },
  {
   "cell_type": "code",
   "execution_count": 2,
   "metadata": {},
   "outputs": [],
   "source": [
    "numeri = (6,7,5,7,7,9)"
   ]
  },
  {
   "cell_type": "code",
   "execution_count": 3,
   "metadata": {},
   "outputs": [
    {
     "name": "stdout",
     "output_type": "stream",
     "text": [
      "(6, 7, 5, 7, 7, 9)\n"
     ]
    }
   ],
   "source": [
    "print(numeri)"
   ]
  },
  {
   "cell_type": "markdown",
   "metadata": {},
   "source": [
    "**Tuple di un solo elemento**: Puoi creare una tupla di un solo elemento **aggiungendo una virgola dopo l'elemento**:"
   ]
  },
  {
   "cell_type": "code",
   "execution_count": 4,
   "metadata": {},
   "outputs": [],
   "source": [
    "tuplina = (4,)  # occhio alla virgola !!!"
   ]
  },
  {
   "cell_type": "markdown",
   "metadata": {},
   "source": [
    "Verifichiamo che il tipo sia quello atteso:"
   ]
  },
  {
   "cell_type": "code",
   "execution_count": 5,
   "metadata": {},
   "outputs": [
    {
     "data": {
      "text/plain": [
       "tuple"
      ]
     },
     "execution_count": 5,
     "metadata": {},
     "output_type": "execute_result"
    }
   ],
   "source": [
    "type(tuplina)"
   ]
  },
  {
   "cell_type": "markdown",
   "metadata": {},
   "source": [
    "Per vedere la differenza, scriviamo qua sotto `(4)` senza virgola e verifichiamo il tipo dell'oggetto ottenuto"
   ]
  },
  {
   "cell_type": "code",
   "execution_count": 6,
   "metadata": {},
   "outputs": [],
   "source": [
    "farlocca = (4)"
   ]
  },
  {
   "cell_type": "code",
   "execution_count": 7,
   "metadata": {},
   "outputs": [
    {
     "data": {
      "text/plain": [
       "int"
      ]
     },
     "execution_count": 7,
     "metadata": {},
     "output_type": "execute_result"
    }
   ],
   "source": [
    "type(farlocca)"
   ]
  },
  {
   "cell_type": "markdown",
   "metadata": {},
   "source": [
    "Vediamo che `farlocca` è un `int`, perchè il `4` è stato valutato come un'espressione dentro delle tonde e il risultato è il contenuto delle tonde"
   ]
  },
  {
   "cell_type": "markdown",
   "metadata": {},
   "source": [
    "### Tupla vuota\n",
    "\n",
    "Possiamo anche creare una tupla vuota:"
   ]
  },
  {
   "cell_type": "code",
   "execution_count": 8,
   "metadata": {},
   "outputs": [],
   "source": [
    "vuota = ()"
   ]
  },
  {
   "cell_type": "code",
   "execution_count": 9,
   "metadata": {},
   "outputs": [
    {
     "name": "stdout",
     "output_type": "stream",
     "text": [
      "()\n"
     ]
    }
   ],
   "source": [
    "print(vuota)"
   ]
  },
  {
   "cell_type": "code",
   "execution_count": 10,
   "metadata": {},
   "outputs": [
    {
     "data": {
      "text/plain": [
       "tuple"
      ]
     },
     "execution_count": 10,
     "metadata": {},
     "output_type": "execute_result"
    }
   ],
   "source": [
    "type(vuota)"
   ]
  },
  {
   "cell_type": "markdown",
   "metadata": {},
   "source": [
    "### Tuple senza parentesi\n",
    "\n",
    "Quando assegnamo dei valori a delle variabili, (e _solo_ quando assegnamo valori a delle variabili) è possibile usare una notazione del genere, in cui a sinistra dell' `=` mettiamo nomi di variabili e a destra una sequenza di valori:"
   ]
  },
  {
   "cell_type": "code",
   "execution_count": 11,
   "metadata": {},
   "outputs": [],
   "source": [
    "a,b,c = 1, 2, 3"
   ]
  },
  {
   "cell_type": "code",
   "execution_count": 12,
   "metadata": {},
   "outputs": [
    {
     "data": {
      "text/plain": [
       "1"
      ]
     },
     "execution_count": 12,
     "metadata": {},
     "output_type": "execute_result"
    }
   ],
   "source": [
    "a"
   ]
  },
  {
   "cell_type": "code",
   "execution_count": 13,
   "metadata": {},
   "outputs": [
    {
     "data": {
      "text/plain": [
       "2"
      ]
     },
     "execution_count": 13,
     "metadata": {},
     "output_type": "execute_result"
    }
   ],
   "source": [
    "b"
   ]
  },
  {
   "cell_type": "code",
   "execution_count": 14,
   "metadata": {},
   "outputs": [
    {
     "data": {
      "text/plain": [
       "3"
      ]
     },
     "execution_count": 14,
     "metadata": {},
     "output_type": "execute_result"
    }
   ],
   "source": [
    "c"
   ]
  },
  {
   "cell_type": "markdown",
   "metadata": {},
   "source": [
    "Se ci chiediamo cosa sia quel `1,2,3`, possiamo provare a mettere a sinistra solo una variabile:"
   ]
  },
  {
   "cell_type": "code",
   "execution_count": 15,
   "metadata": {},
   "outputs": [],
   "source": [
    "# ATTENZIONE: MEGLIO EVITARE !\n",
    "x = 1,2,3"
   ]
  },
  {
   "cell_type": "code",
   "execution_count": 16,
   "metadata": {},
   "outputs": [
    {
     "data": {
      "text/plain": [
       "tuple"
      ]
     },
     "execution_count": 16,
     "metadata": {},
     "output_type": "execute_result"
    }
   ],
   "source": [
    "type(x)"
   ]
  },
  {
   "cell_type": "markdown",
   "metadata": {},
   "source": [
    "Vediamo che Python ha considerato quel `1,2,3` come una tupla. Tipicamente, non scriverai mai assegnazioni con meno variabili che valori da metterci, ma se per caso ti capita, probabilmente ti troverai con qualche tupla indesiderata!"
   ]
  },
  {
   "cell_type": "markdown",
   "metadata": {},
   "source": [
    "**DOMANDA**: Guarda i seguenti frammenti di codice, e per ciascuno cerca di indovinare quale risultato produce (o se danno errore):\n",
    "\n",
    "1.  ```python\n",
    "    z,w = 5,6\n",
    "    print(type(z))\n",
    "    print(type(w))\n",
    "    ```\n",
    "1.  ```python\n",
    "    a,b = 5,6\n",
    "    a,b = b,a\n",
    "    print('a=',a)\n",
    "    print('b=',b)\n",
    "    ```\n",
    "1.  ```python\n",
    "    z = 5,\n",
    "    print(type(z))\n",
    "    ```\n",
    "1.  ```python\n",
    "    z = ,\n",
    "    print(type(z))\n",
    "    ```\n"
   ]
  },
  {
   "cell_type": "markdown",
   "metadata": {},
   "source": [
    "### Elementi eterogenei\n",
    "\n",
    "In una tupla possiamo mettere elementi di tipo diverso, come numeri e stringhe:"
   ]
  },
  {
   "cell_type": "code",
   "execution_count": 17,
   "metadata": {},
   "outputs": [],
   "source": [
    "roba = (4, \"carta\", 5, 2,\"scatole\", 7)"
   ]
  },
  {
   "cell_type": "code",
   "execution_count": 18,
   "metadata": {},
   "outputs": [
    {
     "data": {
      "text/plain": [
       "(4, 'carta', 5, 2, 'scatole', 7)"
      ]
     },
     "execution_count": 18,
     "metadata": {},
     "output_type": "execute_result"
    }
   ],
   "source": [
    "roba"
   ]
  },
  {
   "cell_type": "code",
   "execution_count": 19,
   "metadata": {},
   "outputs": [
    {
     "data": {
      "text/plain": [
       "tuple"
      ]
     },
     "execution_count": 19,
     "metadata": {},
     "output_type": "execute_result"
    }
   ],
   "source": [
    "type(roba)"
   ]
  },
  {
   "cell_type": "markdown",
   "metadata": {},
   "source": [
    "Possiamo anche inserire anche altre tuple:"
   ]
  },
  {
   "cell_type": "code",
   "execution_count": 20,
   "metadata": {},
   "outputs": [],
   "source": [
    "insalata = ( (\"cavoli\", 3), (\"pomodori\",9), (\"verze\",4) )"
   ]
  },
  {
   "cell_type": "code",
   "execution_count": 21,
   "metadata": {},
   "outputs": [
    {
     "data": {
      "text/plain": [
       "(('cavoli', 3), ('pomodori', 9), ('verze', 4))"
      ]
     },
     "execution_count": 21,
     "metadata": {},
     "output_type": "execute_result"
    }
   ],
   "source": [
    "insalata"
   ]
  },
  {
   "cell_type": "code",
   "execution_count": 22,
   "metadata": {},
   "outputs": [
    {
     "data": {
      "text/plain": [
       "tuple"
      ]
     },
     "execution_count": 22,
     "metadata": {},
     "output_type": "execute_result"
    }
   ],
   "source": [
    "type(insalata)"
   ]
  },
  {
   "cell_type": "markdown",
   "metadata": {},
   "source": [
    "E anche liste:"
   ]
  },
  {
   "cell_type": "code",
   "execution_count": 23,
   "metadata": {},
   "outputs": [],
   "source": [
    "misto = ( [\"quando\", \"fuori\", \"piove\"], [\"scrivo\", \"programmi\"], [7,3,9] )"
   ]
  },
  {
   "cell_type": "markdown",
   "metadata": {},
   "source": [
    "<div class=\"alert alert-warning\">\n",
    "\n",
    "**ATTENZIONE agli oggetti mutabili dentro le tuple!**\n",
    "\n",
    "Inserire oggetti _mutabili_ come le liste dentro le tuple potrebbe causare problemi in alcune situazioni - per es. se poi vuoi usare la tupla come elemento di un insieme o chiave di un dizionario (lo vedremo meglio nei rispettivi tutorial)\n",
    "</div>"
   ]
  },
  {
   "cell_type": "markdown",
   "metadata": {},
   "source": [
    "Vediamo come gli esempi precedenti vengono rappresentati in Python Tutor:"
   ]
  },
  {
   "cell_type": "code",
   "execution_count": 24,
   "metadata": {},
   "outputs": [],
   "source": [
    "# AFFINCHE' PYTHON TUTOR FUNZIONI, RICORDATI DI ESEGUIRE QUESTA CELLA con Shift+Invio\n",
    "#   (basta eseguirla una volta sola, la trovi anche all'inizio di ogni foglio)\n",
    "\n",
    "import jupman"
   ]
  },
  {
   "cell_type": "code",
   "execution_count": 25,
   "metadata": {},
   "outputs": [
    {
     "data": {
      "text/html": [
       "\n",
       "        <script src=\"../_static/js/pytutor-embed.bundle.min.js\" type=\"application/javascript\"></script>\n",
       "     \n",
       "        <script id=\"json-jm10590ace-9764-4e28-85d5-d0885756c18c\" type=\"application/json\" >\n",
       "            {\"code\": \" \\nroba = (4, \\\"carta\\\", 5, 2,\\\"scatole\\\", 7)\\ninsalata = ( (\\\"cavoli\\\", 3), (\\\"pomodori\\\",9), (\\\"verze\\\",4) )\\nmisto = ( [\\\"quando\\\", \\\"fuori\\\", \\\"piove\\\"], [\\\"scrivo\\\", \\\"programmi\\\"], [7,3,9] )\", \"trace\": [{\"line\": 2, \"event\": \"step_line\", \"func_name\": \"<module>\", \"globals\": {}, \"ordered_globals\": [], \"stack_to_render\": [], \"heap\": {}, \"stdout\": \"\"}, {\"line\": 3, \"event\": \"step_line\", \"func_name\": \"<module>\", \"globals\": {\"roba\": [\"REF\", 1]}, \"ordered_globals\": [\"roba\"], \"stack_to_render\": [], \"heap\": {\"1\": [\"TUPLE\", 4, \"carta\", 5, 2, \"scatole\", 7]}, \"stdout\": \"\"}, {\"line\": 4, \"event\": \"step_line\", \"func_name\": \"<module>\", \"globals\": {\"roba\": [\"REF\", 1], \"insalata\": [\"REF\", 2]}, \"ordered_globals\": [\"roba\", \"insalata\"], \"stack_to_render\": [], \"heap\": {\"1\": [\"TUPLE\", 4, \"carta\", 5, 2, \"scatole\", 7], \"2\": [\"TUPLE\", [\"REF\", 3], [\"REF\", 4], [\"REF\", 5]], \"3\": [\"TUPLE\", \"cavoli\", 3], \"4\": [\"TUPLE\", \"pomodori\", 9], \"5\": [\"TUPLE\", \"verze\", 4]}, \"stdout\": \"\"}, {\"line\": 4, \"event\": \"return\", \"func_name\": \"<module>\", \"globals\": {\"roba\": [\"REF\", 1], \"insalata\": [\"REF\", 2], \"misto\": [\"REF\", 6]}, \"ordered_globals\": [\"roba\", \"insalata\", \"misto\"], \"stack_to_render\": [], \"heap\": {\"1\": [\"TUPLE\", 4, \"carta\", 5, 2, \"scatole\", 7], \"2\": [\"TUPLE\", [\"REF\", 3], [\"REF\", 4], [\"REF\", 5]], \"3\": [\"TUPLE\", \"cavoli\", 3], \"4\": [\"TUPLE\", \"pomodori\", 9], \"5\": [\"TUPLE\", \"verze\", 4], \"6\": [\"TUPLE\", [\"REF\", 7], [\"REF\", 8], [\"REF\", 9]], \"7\": [\"LIST\", \"quando\", \"fuori\", \"piove\"], \"8\": [\"LIST\", \"scrivo\", \"programmi\"], \"9\": [\"LIST\", 7, 3, 9]}, \"stdout\": \"\"}]}\n",
       "        </script>\n",
       "        <div id=\"jm10590ace-9764-4e28-85d5-d0885756c18c\" class=\"pytutorVisualizer\"> </div>\n",
       " \n",
       "        <style>\n",
       "        .vizLayoutTd {\n",
       "            background-color: #fff !important;\n",
       "        }\n",
       "\n",
       "        #pyStdout {            \n",
       "            min-height:25px;\n",
       "        }\n",
       "\n",
       "        /* 'Edit this code' link, hiding because replaces browser tab !!!*/\n",
       "        #editCodeLinkDiv {\n",
       "            display:none;  \n",
       "        }\n",
       "        </style>   \n",
       "                            \n",
       "        <script>\n",
       "        (function(){\n",
       "\n",
       "            var trace = JSON.parse(document.getElementById('json-jm10590ace-9764-4e28-85d5-d0885756c18c').innerHTML);                                        \n",
       "            // NOTE 1: id without #\n",
       "            // NOTE 2 - maybe there are more predictable ways, but this will work anyway\n",
       "            //        - id should be number\n",
       "            visualizerIdOverride = Math.trunc(Math.random() * 100000000000)\n",
       "            addVisualizerToPage(trace, 'jm10590ace-9764-4e28-85d5-d0885756c18c',{'embeddedMode' : false,\n",
       "                                             'visualizerIdOverride':visualizerIdOverride})  \n",
       "            \n",
       "            \n",
       "            // set overflow for pytuts - need to do in python as css \n",
       "            // does not allow parent selection\n",
       "            var pytuts = $('.pytutorVisualizer')\n",
       "            pytuts.closest('div.output_html.rendered_html.output_result')\n",
       "                    .css('overflow-x', 'visible')\n",
       "        \n",
       "            //pytuts.closest('div.output_html.rendered_html.output_result')\n",
       "            //      .css('background-color','red')                \n",
       "            \n",
       "        })()\n",
       "        </script>\n",
       "                \n",
       "                "
      ],
      "text/plain": [
       "<IPython.core.display.HTML object>"
      ]
     },
     "execution_count": 25,
     "metadata": {},
     "output_type": "execute_result"
    }
   ],
   "source": [
    "roba = (4, \"carta\", 5, 2,\"scatole\", 7)\n",
    "insalata = ( (\"cavoli\", 3), (\"pomodori\",9), (\"verze\",4) )\n",
    "misto = ( [\"quando\", \"fuori\", \"piove\"], [\"scrivo\", \"programmi\"], [7,3,9] )\n",
    "\n",
    "jupman.pytut()"
   ]
  },
  {
   "cell_type": "markdown",
   "metadata": {},
   "source": [
    "### Creare tuple da sequenze\n",
    "\n",
    "Puoi creare una tupla da una qualsiasi sequenza, per esempio da una lista:"
   ]
  },
  {
   "cell_type": "code",
   "execution_count": 26,
   "metadata": {},
   "outputs": [
    {
     "data": {
      "text/plain": [
       "(8, 2, 5)"
      ]
     },
     "execution_count": 26,
     "metadata": {},
     "output_type": "execute_result"
    }
   ],
   "source": [
    "tuple( [8,2,5] )"
   ]
  },
  {
   "cell_type": "markdown",
   "metadata": {},
   "source": [
    "Oppure una stringa (che è una sequenza di caratteri):"
   ]
  },
  {
   "cell_type": "code",
   "execution_count": 27,
   "metadata": {},
   "outputs": [
    {
     "data": {
      "text/plain": [
       "('a', 'b', 'c')"
      ]
     },
     "execution_count": 27,
     "metadata": {},
     "output_type": "execute_result"
    }
   ],
   "source": [
    "tuple(\"abc\")"
   ]
  },
  {
   "cell_type": "markdown",
   "metadata": {},
   "source": [
    "### Creare sequenze da tuple"
   ]
  },
  {
   "cell_type": "markdown",
   "metadata": {},
   "source": [
    "Visto che la tupla è una sequenza, è anche possibile generare liste a partire da tuple:"
   ]
  },
  {
   "cell_type": "code",
   "execution_count": 28,
   "metadata": {},
   "outputs": [
    {
     "data": {
      "text/plain": [
       "[3, 4, 2, 3]"
      ]
     },
     "execution_count": 28,
     "metadata": {},
     "output_type": "execute_result"
    }
   ],
   "source": [
    "list( (3,4,2,3)  )"
   ]
  },
  {
   "cell_type": "markdown",
   "metadata": {},
   "source": [
    "**DOMANDA**: Ha senso creare una tupla da un'altra tupla così? Possiamo riscrivere il codice in modo più conciso?"
   ]
  },
  {
   "cell_type": "code",
   "execution_count": 29,
   "metadata": {},
   "outputs": [],
   "source": [
    "x = (4,2,5)\n",
    "y = tuple(x)"
   ]
  },
  {
   "cell_type": "raw",
   "id": "5616bdca",
   "metadata": {
    "format": "text/html"
   },
   "source": [
    "<a  class=\"jupman-sol jupman-sol-toggler\" \n",
    " onclick=\"jupman.toggleSolution(this);\" \n",
    " data-jupman-show=\"Mostra risposta\" data-jupman-hide=\"Nascondi\">Mostra risposta</a><div class=\"jupman-sol jupman-sol-question\" style=\"display:none\">  "
   ]
  },
  {
   "cell_type": "markdown",
   "metadata": {},
   "source": [
    "**RISPOSTA**: visto che una tupla è IMMUTABILE, una volta che abbiamo creato in memoria l'oggetto `(4,2,5)` siamo sicuri che nessuno lo modificherà, quindi non occorre creare una nuova tupla e possiamo scrivere direttamente\n",
    "\n",
    "```python\n",
    "x = (4,2,5)\n",
    "y = x\n",
    "```"
   ]
  },
  {
   "cell_type": "raw",
   "id": "472bb20b",
   "metadata": {
    "format": "text/html"
   },
   "source": [
    "</div>"
   ]
  },
  {
   "cell_type": "markdown",
   "metadata": {},
   "source": [
    "**DOMANDA**: Guarda le seguenti espressioni, e per ciascuna cerca di indovinare quale risultato producono (o se danno errore):\n",
    "\n",
    "1.  ```python\n",
    "    (1.2,3.4)\n",
    "    ```\n",
    "1.  ```python    \n",
    "    (1;2;3;4)\n",
    "    ```\n",
    "1.  ```python    \n",
    "    (1,2;3,4)\n",
    "    ```\n",
    "1.  ```python    \n",
    "    (1,2,3,4)\n",
    "    ```\n",
    "1.  ```python    \n",
    "    (())\n",
    "    ```\n",
    "1.  ```python    \n",
    "    type(())\n",
    "    ```\n",
    "1.  ```python    \n",
    "    ((),)\n",
    "    ```\n",
    "1.  ```python    \n",
    "    tuple([('a'),('b'),('c')])\n",
    "    ```\n",
    "1.  ```python    \n",
    "    tuple(tuple(('z','u','m')))\n",
    "    ```\n",
    "1.  ```python    \n",
    "    str(('a','b','c'))\n",
    "    ```\n",
    "1.  ```python    \n",
    "    \"\".join(('a','b','c'))\n",
    "    ```"
   ]
  },
  {
   "cell_type": "markdown",
   "metadata": {},
   "source": [
    "## Operatori\n",
    "\n",
    "I seguenti operatori funzionano sulle tuple e si comportano esattamente come per le liste:\n",
    "\n",
    "|Operatore|Risultato|Significato|\n",
    "|---|---|----|\n",
    "|`len`(tuple)|`int`|Ritorna la lunghezza di una tupla|\n",
    "|tuple`[`int`]`|obj|Legge un elemento all'indice specificato|\n",
    "|tuple`[`int`:`int`]`|`tuple`| Estrae una sotto-tupla - ritorna una NUOVA tupla|\n",
    "|tuple `+` tuple|`tuple`|Concatena due tuple - ritorna una NUOVA tupla|\n",
    "|obj `in` tuple|`bool`|Controlla se un elemento è presente in una tupla|\n",
    "|tuple `*` int|`tuple`| Replica la tupla - ritorna una NUOVA tupla|\n",
    "|`==`,`!=`|`bool`| Controlla se due tuple sono uguali o differenti|\n"
   ]
  },
  {
   "cell_type": "markdown",
   "metadata": {},
   "source": [
    "### len"
   ]
  },
  {
   "cell_type": "markdown",
   "metadata": {},
   "source": [
    "La funzione `len` ritorna la lunghezza della tupla:"
   ]
  },
  {
   "cell_type": "code",
   "execution_count": 30,
   "metadata": {},
   "outputs": [
    {
     "data": {
      "text/plain": [
       "3"
      ]
     },
     "execution_count": 30,
     "metadata": {},
     "output_type": "execute_result"
    }
   ],
   "source": [
    "len( (4,2,3) )"
   ]
  },
  {
   "cell_type": "code",
   "execution_count": 31,
   "metadata": {},
   "outputs": [
    {
     "data": {
      "text/plain": [
       "1"
      ]
     },
     "execution_count": 31,
     "metadata": {},
     "output_type": "execute_result"
    }
   ],
   "source": [
    "len( (7,) )"
   ]
  },
  {
   "cell_type": "code",
   "execution_count": 32,
   "metadata": {},
   "outputs": [
    {
     "data": {
      "text/plain": [
       "0"
      ]
     },
     "execution_count": 32,
     "metadata": {},
     "output_type": "execute_result"
    }
   ],
   "source": [
    "len( () )"
   ]
  },
  {
   "cell_type": "markdown",
   "metadata": {},
   "source": [
    "**DOMANDA**: Guarda le seguenti espressioni, e per ciascuna cerca di indovinare il risultato (o se produce un errore)\n",
    "\n",
    "    \n",
    "1.  ```python\n",
    "    len(3,2,4)\n",
    "    ```\n",
    "1.  ```python    \n",
    "    len((3,2,4))\n",
    "    ```\n",
    "1.  ```python    \n",
    "    len(('a',))\n",
    "    ```\n",
    "1.  ```python    \n",
    "    len(('a,'))\n",
    "    ```\n",
    "1.  ```python    \n",
    "    len(((),(),()))\n",
    "    ```\n",
    "1.  ```python    \n",
    "    len(len((1,2,3,4)))\n",
    "    ```\n",
    "1.  ```python    \n",
    "    len([('d','a','c','d'),(('ab')),[('a','b','c')]])\n",
    "    ```"
   ]
  },
  {
   "cell_type": "code",
   "execution_count": null,
   "metadata": {},
   "outputs": [],
   "source": []
  },
  {
   "cell_type": "markdown",
   "metadata": {},
   "source": [
    "### Leggere un elemento"
   ]
  },
  {
   "cell_type": "markdown",
   "metadata": {},
   "source": [
    "Come per stringhe e liste possiamo leggere un elemento ad una certa posizione con le quadre:"
   ]
  },
  {
   "cell_type": "code",
   "execution_count": 33,
   "metadata": {},
   "outputs": [],
   "source": [
    "#        0  1  2  3\n",
    "tupla = (10,11,12,13)"
   ]
  },
  {
   "cell_type": "code",
   "execution_count": 34,
   "metadata": {},
   "outputs": [
    {
     "data": {
      "text/plain": [
       "10"
      ]
     },
     "execution_count": 34,
     "metadata": {},
     "output_type": "execute_result"
    }
   ],
   "source": [
    "tupla[0]"
   ]
  },
  {
   "cell_type": "code",
   "execution_count": 35,
   "metadata": {},
   "outputs": [
    {
     "data": {
      "text/plain": [
       "11"
      ]
     },
     "execution_count": 35,
     "metadata": {},
     "output_type": "execute_result"
    }
   ],
   "source": [
    "tupla[1]"
   ]
  },
  {
   "cell_type": "code",
   "execution_count": 36,
   "metadata": {},
   "outputs": [
    {
     "data": {
      "text/plain": [
       "12"
      ]
     },
     "execution_count": 36,
     "metadata": {},
     "output_type": "execute_result"
    }
   ],
   "source": [
    "tupla[2]"
   ]
  },
  {
   "cell_type": "code",
   "execution_count": 37,
   "metadata": {},
   "outputs": [
    {
     "data": {
      "text/plain": [
       "13"
      ]
     },
     "execution_count": 37,
     "metadata": {},
     "output_type": "execute_result"
    }
   ],
   "source": [
    "tupla[3]"
   ]
  },
  {
   "cell_type": "markdown",
   "metadata": {},
   "source": [
    "Anche per le tuple possiamo usare indici negativi:"
   ]
  },
  {
   "cell_type": "code",
   "execution_count": 38,
   "metadata": {},
   "outputs": [
    {
     "data": {
      "text/plain": [
       "13"
      ]
     },
     "execution_count": 38,
     "metadata": {},
     "output_type": "execute_result"
    }
   ],
   "source": [
    "tupla[-1]"
   ]
  },
  {
   "cell_type": "markdown",
   "metadata": {},
   "source": [
    "**DOMANDA**: Guarda le espressioni seguenti e per ciascuna cerca di indovinare il risultato o se produce un errore:"
   ]
  },
  {
   "cell_type": "markdown",
   "metadata": {},
   "source": [
    "    \n",
    "1.  ```python\n",
    "    (1,2,3)[0]\n",
    "    ```\n",
    "1.  ```python    \n",
    "    (1,2,3)[3]\n",
    "    ```\n",
    "1.  ```python    \n",
    "    (1,2,3)0\n",
    "    ```\n",
    "1.  ```python    \n",
    "    ()[0]\n",
    "    ```\n",
    "1.  ```python    \n",
    "    (())[0]\n",
    "    ```\n",
    "1.  ```python    \n",
    "    type((())[0])\n",
    "    ```\n",
    "1.  ```python    \n",
    "    ('a,')[0]\n",
    "    ```\n",
    "1.  ```python    \n",
    "    ('a',)[0]\n",
    "    ```\n",
    "1.  ```python    \n",
    "    (1,2,3)[-0]\n",
    "    ```\n",
    "1.  ```python    \n",
    "    (1,2,3)[-1]\n",
    "    ```\n",
    "1.  ```python    \n",
    "    (1,2,3)[-3]\n",
    "    ```"
   ]
  },
  {
   "cell_type": "code",
   "execution_count": null,
   "metadata": {},
   "outputs": [],
   "source": []
  },
  {
   "cell_type": "markdown",
   "metadata": {},
   "source": [
    "### Esercizio: animali\n",
    "\n",
    "Data la stringa `animali = \"gatto siamese,cane,canarino,porcellino,coniglio,criceto\"` \n",
    "\n",
    "1. convertila in una lista\n",
    "2. crea una tupla di tuple dove ogni tupla ha due informazioni: il nome dell'animale e la lunghezza del nome, per esempio ((\"cane\",3), ( \"criceto\",7))\n",
    "3. stampa la tupla\n",
    "\n",
    "Dovresti ottenere\n",
    "```bash\n",
    "gatto siamese,cane,canarino,porcellino,coniglio,criceto\n",
    "\n",
    "(('gatto siamese', 13), ('cane', 4), ('canarino', 8), ('porcellino', 10), ('coniglio', 8), ('criceto', 7))\n",
    "```\n",
    "\n",
    "* puoi assumere che `animali` contenga sempre esattamente 6 animali"
   ]
  },
  {
   "cell_type": "raw",
   "id": "f677f3ce",
   "metadata": {
    "format": "text/html"
   },
   "source": [
    "<a  class=\"jupman-sol jupman-sol-toggler\" \n",
    " onclick=\"jupman.toggleSolution(this);\" \n",
    " data-jupman-show=\"Mostra soluzione\" data-jupman-hide=\"Nascondi\">Mostra soluzione</a><div class=\"jupman-sol jupman-sol-code\" style=\"display:none\">  "
   ]
  },
  {
   "cell_type": "code",
   "execution_count": 39,
   "metadata": {},
   "outputs": [
    {
     "name": "stdout",
     "output_type": "stream",
     "text": [
      "\n"
     ]
    }
   ],
   "source": [
    "animali = \"gatto siamese,cane,canarino,porcellino,coniglio,criceto\"\n",
    "\n",
    "# scrivi qui\n",
    "lista = animali.split(',')\n",
    "\n",
    "#print(animali)\n",
    "print()\n",
    "\n",
    "tuple_animali = ( (lista[0], len(lista[0])), \n",
    "                  (lista[1], len(lista[1])), \n",
    "                  (lista[2], len(lista[2])), \n",
    "                  (lista[3], len(lista[3])),\n",
    "                  (lista[4], len(lista[4])),\n",
    "                  (lista[5], len(lista[5])))\n",
    "\n",
    "#print(tuple_animali)"
   ]
  },
  {
   "cell_type": "raw",
   "id": "73cceeae",
   "metadata": {
    "format": "text/html"
   },
   "source": [
    "</div>"
   ]
  },
  {
   "cell_type": "code",
   "execution_count": 39,
   "metadata": {},
   "outputs": [
    {
     "name": "stdout",
     "output_type": "stream",
     "text": [
      "\n"
     ]
    }
   ],
   "source": [
    "animali = \"gatto siamese,cane,canarino,porcellino,coniglio,criceto\"\n",
    "\n",
    "# scrivi qui\n",
    "\n"
   ]
  },
  {
   "cell_type": "markdown",
   "metadata": {},
   "source": [
    "### Slice\n",
    "\n",
    "Come per stringhe e liste possiamo ricavare sottosequenze da una tupla usando le _slice_, cioè scrivendo alla destra della tupla delle quadre con dentro un indice di partenza INCLUSO, due punti `:` e un indice di fine ESCLUSO:"
   ]
  },
  {
   "cell_type": "code",
   "execution_count": 40,
   "metadata": {},
   "outputs": [],
   "source": [
    "tupla = (10,11,12,13,14,15,16,17,18,19)"
   ]
  },
  {
   "cell_type": "code",
   "execution_count": 41,
   "metadata": {},
   "outputs": [
    {
     "data": {
      "text/plain": [
       "(12, 13, 14, 15)"
      ]
     },
     "execution_count": 41,
     "metadata": {},
     "output_type": "execute_result"
    }
   ],
   "source": [
    "tupla[2:6]  # da indice 2 INCLUSO a 6 ESCLUSO"
   ]
  },
  {
   "cell_type": "markdown",
   "metadata": {},
   "source": [
    "Si può specificare di raccogliere elementi saltandone tra uno e l'altro aggiungendo il numero di elementi da saltare come un terzo numero tra le quadre, per esempio:"
   ]
  },
  {
   "cell_type": "code",
   "execution_count": 42,
   "metadata": {},
   "outputs": [],
   "source": [
    "tupla = (10,11,12,13,14,15,16,17)"
   ]
  },
  {
   "cell_type": "code",
   "execution_count": 43,
   "metadata": {},
   "outputs": [
    {
     "data": {
      "text/plain": [
       "(10, 15)"
      ]
     },
     "execution_count": 43,
     "metadata": {},
     "output_type": "execute_result"
    }
   ],
   "source": [
    "tupla[0:8:5]"
   ]
  },
  {
   "cell_type": "code",
   "execution_count": 44,
   "metadata": {},
   "outputs": [
    {
     "data": {
      "text/plain": [
       "(10, 12, 14, 16)"
      ]
     },
     "execution_count": 44,
     "metadata": {},
     "output_type": "execute_result"
    }
   ],
   "source": [
    "tupla[0:8:2]"
   ]
  },
  {
   "cell_type": "code",
   "execution_count": 45,
   "metadata": {},
   "outputs": [
    {
     "data": {
      "text/plain": [
       "(11, 12, 13, 14, 15, 16, 17)"
      ]
     },
     "execution_count": 45,
     "metadata": {},
     "output_type": "execute_result"
    }
   ],
   "source": [
    "tupla[1:8:1]"
   ]
  },
  {
   "cell_type": "markdown",
   "metadata": {},
   "source": [
    "<div class=\"alert alert-warning\">\n",
    "    \n",
    "**ATTENZIONE: ricordati che le slice producono una NUOVA tupla !**\n",
    "\n",
    "</div>"
   ]
  },
  {
   "cell_type": "markdown",
   "metadata": {},
   "source": [
    "**DOMANDA**: Guarda il codice seguente e per ciascuna espressione prova a indovinare il risultato o se produce un errore:\n",
    "\n",
    "    \n",
    "1.  ```python\n",
    "    (7,6,8,9,5)(1:3)\n",
    "    ```\n",
    "1.  ```python    \n",
    "    (7,6,8,9,5)[1:3]\n",
    "    ```\n",
    "1.  ```python    \n",
    "    (10,11,12,13,14,15,16)[3:100]\n",
    "    ```\n",
    "1.  ```python    \n",
    "    (10,11,12,13,14,15,16)[-3:5]\n",
    "    ```\n",
    "1.  ```python    \n",
    "    (1,0,1,0,1,0)[::2]\n",
    "    ```\n",
    "1.  ```python    \n",
    "    (1,2,3)[::1]\n",
    "    ```\n",
    "1.  ```python    \n",
    "    (1,0,1,0,1,0)[1::2]\n",
    "    ```\n",
    "1.  ```python    \n",
    "    tuple(\"cartolina\")[0::2]\n",
    "    ```\n",
    "1.  ```python    \n",
    "    (4,5,6,3,4,7)[0:::2]\n",
    "    ```"
   ]
  },
  {
   "cell_type": "markdown",
   "metadata": {},
   "source": [
    "### Concatenazione\n",
    "\n",
    "E' possibile concatenare due tuple usando l'operatore `+`, che crea una NUOVA tupla"
   ]
  },
  {
   "cell_type": "code",
   "execution_count": 46,
   "metadata": {},
   "outputs": [],
   "source": [
    "t = (1,2,3) + (4,5,6,7,8)"
   ]
  },
  {
   "cell_type": "code",
   "execution_count": 47,
   "metadata": {},
   "outputs": [
    {
     "data": {
      "text/plain": [
       "(1, 2, 3, 4, 5, 6, 7, 8)"
      ]
     },
     "execution_count": 47,
     "metadata": {},
     "output_type": "execute_result"
    }
   ],
   "source": [
    "t"
   ]
  },
  {
   "cell_type": "code",
   "execution_count": 48,
   "metadata": {},
   "outputs": [
    {
     "data": {
      "text/plain": [
       "tuple"
      ]
     },
     "execution_count": 48,
     "metadata": {},
     "output_type": "execute_result"
    }
   ],
   "source": [
    "type(t)"
   ]
  },
  {
   "cell_type": "markdown",
   "metadata": {},
   "source": [
    "Verifichiamo che le tuple originali non vengano modificate: "
   ]
  },
  {
   "cell_type": "code",
   "execution_count": 49,
   "metadata": {},
   "outputs": [],
   "source": [
    "x = (1,2,3)\n",
    "y = (4,5,6,7,8)"
   ]
  },
  {
   "cell_type": "code",
   "execution_count": 50,
   "metadata": {},
   "outputs": [],
   "source": [
    "t = x + y"
   ]
  },
  {
   "cell_type": "code",
   "execution_count": 51,
   "metadata": {},
   "outputs": [
    {
     "data": {
      "text/plain": [
       "(1, 2, 3, 4, 5, 6, 7, 8)"
      ]
     },
     "execution_count": 51,
     "metadata": {},
     "output_type": "execute_result"
    }
   ],
   "source": [
    "t"
   ]
  },
  {
   "cell_type": "code",
   "execution_count": 52,
   "metadata": {},
   "outputs": [
    {
     "data": {
      "text/plain": [
       "(1, 2, 3)"
      ]
     },
     "execution_count": 52,
     "metadata": {},
     "output_type": "execute_result"
    }
   ],
   "source": [
    "x"
   ]
  },
  {
   "cell_type": "code",
   "execution_count": 53,
   "metadata": {},
   "outputs": [
    {
     "data": {
      "text/plain": [
       "(4, 5, 6, 7, 8)"
      ]
     },
     "execution_count": 53,
     "metadata": {},
     "output_type": "execute_result"
    }
   ],
   "source": [
    "y"
   ]
  },
  {
   "cell_type": "markdown",
   "metadata": {},
   "source": [
    "Guardiamo come vengono rappresentate in Python Tutor: "
   ]
  },
  {
   "cell_type": "code",
   "execution_count": 54,
   "metadata": {},
   "outputs": [],
   "source": [
    "# AFFINCHE' PYTHON TUTOR FUNZIONI, RICORDATI DI ESEGUIRE QUESTA CELLA con Shift+Invio\n",
    "#   (basta eseguirla una volta sola, la trovi anche all'inizio di ogni foglio)\n",
    "\n",
    "import jupman"
   ]
  },
  {
   "cell_type": "code",
   "execution_count": 55,
   "metadata": {},
   "outputs": [
    {
     "name": "stdout",
     "output_type": "stream",
     "text": [
      "(1, 2, 3, 4, 5, 6, 7, 8)\n",
      "(1, 2, 3)\n",
      "(4, 5, 6, 7, 8)\n"
     ]
    },
    {
     "data": {
      "text/html": [
       "\n",
       "        <script src=\"../_static/js/pytutor-embed.bundle.min.js\" type=\"application/javascript\"></script>\n",
       "     \n",
       "        <script id=\"json-jm6e4124ce-c032-4847-a42d-0023ce852292\" type=\"application/json\" >\n",
       "            {\"code\": \" \\nx = (1,2,3)\\ny = (4,5,6,7,8)\\nt = x + y\\nprint(t)\\nprint(x)\\nprint(y)\", \"trace\": [{\"line\": 2, \"event\": \"step_line\", \"func_name\": \"<module>\", \"globals\": {}, \"ordered_globals\": [], \"stack_to_render\": [], \"heap\": {}, \"stdout\": \"\"}, {\"line\": 3, \"event\": \"step_line\", \"func_name\": \"<module>\", \"globals\": {\"x\": [\"REF\", 1]}, \"ordered_globals\": [\"x\"], \"stack_to_render\": [], \"heap\": {\"1\": [\"TUPLE\", 1, 2, 3]}, \"stdout\": \"\"}, {\"line\": 4, \"event\": \"step_line\", \"func_name\": \"<module>\", \"globals\": {\"x\": [\"REF\", 1], \"y\": [\"REF\", 2]}, \"ordered_globals\": [\"x\", \"y\"], \"stack_to_render\": [], \"heap\": {\"1\": [\"TUPLE\", 1, 2, 3], \"2\": [\"TUPLE\", 4, 5, 6, 7, 8]}, \"stdout\": \"\"}, {\"line\": 5, \"event\": \"step_line\", \"func_name\": \"<module>\", \"globals\": {\"x\": [\"REF\", 1], \"y\": [\"REF\", 2], \"t\": [\"REF\", 3]}, \"ordered_globals\": [\"x\", \"y\", \"t\"], \"stack_to_render\": [], \"heap\": {\"1\": [\"TUPLE\", 1, 2, 3], \"2\": [\"TUPLE\", 4, 5, 6, 7, 8], \"3\": [\"TUPLE\", 1, 2, 3, 4, 5, 6, 7, 8]}, \"stdout\": \"\"}, {\"line\": 6, \"event\": \"step_line\", \"func_name\": \"<module>\", \"globals\": {\"x\": [\"REF\", 1], \"y\": [\"REF\", 2], \"t\": [\"REF\", 3]}, \"ordered_globals\": [\"x\", \"y\", \"t\"], \"stack_to_render\": [], \"heap\": {\"1\": [\"TUPLE\", 1, 2, 3], \"2\": [\"TUPLE\", 4, 5, 6, 7, 8], \"3\": [\"TUPLE\", 1, 2, 3, 4, 5, 6, 7, 8]}, \"stdout\": \"(1, 2, 3, 4, 5, 6, 7, 8)\\n\"}, {\"line\": 7, \"event\": \"step_line\", \"func_name\": \"<module>\", \"globals\": {\"x\": [\"REF\", 1], \"y\": [\"REF\", 2], \"t\": [\"REF\", 3]}, \"ordered_globals\": [\"x\", \"y\", \"t\"], \"stack_to_render\": [], \"heap\": {\"1\": [\"TUPLE\", 1, 2, 3], \"2\": [\"TUPLE\", 4, 5, 6, 7, 8], \"3\": [\"TUPLE\", 1, 2, 3, 4, 5, 6, 7, 8]}, \"stdout\": \"(1, 2, 3, 4, 5, 6, 7, 8)\\n(1, 2, 3)\\n\"}, {\"line\": 7, \"event\": \"return\", \"func_name\": \"<module>\", \"globals\": {\"x\": [\"REF\", 1], \"y\": [\"REF\", 2], \"t\": [\"REF\", 3]}, \"ordered_globals\": [\"x\", \"y\", \"t\"], \"stack_to_render\": [], \"heap\": {\"1\": [\"TUPLE\", 1, 2, 3], \"2\": [\"TUPLE\", 4, 5, 6, 7, 8], \"3\": [\"TUPLE\", 1, 2, 3, 4, 5, 6, 7, 8]}, \"stdout\": \"(1, 2, 3, 4, 5, 6, 7, 8)\\n(1, 2, 3)\\n(4, 5, 6, 7, 8)\\n\"}]}\n",
       "        </script>\n",
       "        <div id=\"jm6e4124ce-c032-4847-a42d-0023ce852292\" class=\"pytutorVisualizer\"> </div>\n",
       " \n",
       "        <style>\n",
       "        .vizLayoutTd {\n",
       "            background-color: #fff !important;\n",
       "        }\n",
       "\n",
       "        #pyStdout {            \n",
       "            min-height:25px;\n",
       "        }\n",
       "\n",
       "        /* 'Edit this code' link, hiding because replaces browser tab !!!*/\n",
       "        #editCodeLinkDiv {\n",
       "            display:none;  \n",
       "        }\n",
       "        </style>   \n",
       "                            \n",
       "        <script>\n",
       "        (function(){\n",
       "\n",
       "            var trace = JSON.parse(document.getElementById('json-jm6e4124ce-c032-4847-a42d-0023ce852292').innerHTML);                                        \n",
       "            // NOTE 1: id without #\n",
       "            // NOTE 2 - maybe there are more predictable ways, but this will work anyway\n",
       "            //        - id should be number\n",
       "            visualizerIdOverride = Math.trunc(Math.random() * 100000000000)\n",
       "            addVisualizerToPage(trace, 'jm6e4124ce-c032-4847-a42d-0023ce852292',{'embeddedMode' : false,\n",
       "                                             'visualizerIdOverride':visualizerIdOverride})  \n",
       "            \n",
       "            \n",
       "            // set overflow for pytuts - need to do in python as css \n",
       "            // does not allow parent selection\n",
       "            var pytuts = $('.pytutorVisualizer')\n",
       "            pytuts.closest('div.output_html.rendered_html.output_result')\n",
       "                    .css('overflow-x', 'visible')\n",
       "        \n",
       "            //pytuts.closest('div.output_html.rendered_html.output_result')\n",
       "            //      .css('background-color','red')                \n",
       "            \n",
       "        })()\n",
       "        </script>\n",
       "                \n",
       "                "
      ],
      "text/plain": [
       "<IPython.core.display.HTML object>"
      ]
     },
     "execution_count": 55,
     "metadata": {},
     "output_type": "execute_result"
    }
   ],
   "source": [
    "x = (1,2,3)\n",
    "y = (4,5,6,7,8)\n",
    "t = x + y\n",
    "print(t)\n",
    "print(x)\n",
    "print(y)\n",
    "\n",
    "jupman.pytut()"
   ]
  },
  {
   "cell_type": "markdown",
   "metadata": {},
   "source": [
    "**DOMANDA**: Guarda il codice seguente e per ciascuna espressione cerca di indovinare il risultato, o se produce un errore.\n",
    "\n",
    "1.  ```python\n",
    "    ()+()\n",
    "    ```\n",
    "1.  ```python    \n",
    "    type(()+())\n",
    "    ```\n",
    "1.  ```python    \n",
    "    len(()+())\n",
    "    ```\n",
    "1.  ```python    \n",
    "    ()+[]\n",
    "    ```\n",
    "1.  ```python    \n",
    "    []+()\n",
    "    ```\n",
    "1.  ```python    \n",
    "    (2,3,4) + tuple([5,6,7])\n",
    "    ```    \n",
    "1.  ```python    \n",
    "    \"razzo\"+('p','a','z','z','o')\n",
    "    ```"
   ]
  },
  {
   "cell_type": "markdown",
   "metadata": {},
   "source": [
    "### Appartenenza"
   ]
  },
  {
   "cell_type": "markdown",
   "metadata": {},
   "source": [
    "Come per tutte le sequenze, se vogliamo verificare se un elemento è contenuto in una tupla possiamo usare l'operatore `in` che ci ritorna un valore booleano:"
   ]
  },
  {
   "cell_type": "code",
   "execution_count": 56,
   "metadata": {},
   "outputs": [
    {
     "data": {
      "text/plain": [
       "True"
      ]
     },
     "execution_count": 56,
     "metadata": {},
     "output_type": "execute_result"
    }
   ],
   "source": [
    "'a' in ('c','a','s','c','o')"
   ]
  },
  {
   "cell_type": "code",
   "execution_count": 57,
   "metadata": {},
   "outputs": [
    {
     "data": {
      "text/plain": [
       "False"
      ]
     },
     "execution_count": 57,
     "metadata": {},
     "output_type": "execute_result"
    }
   ],
   "source": [
    "'z' in ('c','a','s','c','o')"
   ]
  },
  {
   "cell_type": "markdown",
   "metadata": {},
   "source": [
    "#### not in\n",
    "\n",
    "Per verificare se qualcosa **non** appartiene ad una tupla, possiamo usare due forme:\n",
    "\n",
    "**not in - forma 1**:"
   ]
  },
  {
   "cell_type": "code",
   "execution_count": 58,
   "metadata": {},
   "outputs": [
    {
     "data": {
      "text/plain": [
       "True"
      ]
     },
     "execution_count": 58,
     "metadata": {},
     "output_type": "execute_result"
    }
   ],
   "source": [
    "\"carota\" not in (\"anguria\",\"banana\",\"mela\")"
   ]
  },
  {
   "cell_type": "code",
   "execution_count": 59,
   "metadata": {},
   "outputs": [
    {
     "data": {
      "text/plain": [
       "False"
      ]
     },
     "execution_count": 59,
     "metadata": {},
     "output_type": "execute_result"
    }
   ],
   "source": [
    "\"anguria\" not in (\"anguria\",\"banana\",\"mela\")"
   ]
  },
  {
   "cell_type": "markdown",
   "metadata": {},
   "source": [
    "**not in - forma 2**"
   ]
  },
  {
   "cell_type": "code",
   "execution_count": 60,
   "metadata": {},
   "outputs": [
    {
     "data": {
      "text/plain": [
       "True"
      ]
     },
     "execution_count": 60,
     "metadata": {},
     "output_type": "execute_result"
    }
   ],
   "source": [
    "not \"carota\" in (\"anguria\",\"banana\",\"mela\")"
   ]
  },
  {
   "cell_type": "code",
   "execution_count": 61,
   "metadata": {},
   "outputs": [
    {
     "data": {
      "text/plain": [
       "False"
      ]
     },
     "execution_count": 61,
     "metadata": {},
     "output_type": "execute_result"
    }
   ],
   "source": [
    "not \"anguria\" in (\"anguria\",\"banana\",\"mela\")"
   ]
  },
  {
   "cell_type": "markdown",
   "metadata": {},
   "source": [
    "**DOMANDA**: Guarda le seguenti espressioni, e per ciascuna cerca di indovinare quale risultato producono (o se danno errore):\n",
    "\n",
    "    \n",
    "1.  ```python    \n",
    "    3 in (1.0, 2.0,3.0)\n",
    "    ```\n",
    "1.  ```python    \n",
    "    3.0 in (1,2,3)\n",
    "    ```\n",
    "1.  ```python    \n",
    "    3 not in (3)\n",
    "    ```\n",
    "1.  ```python    \n",
    "    3 not in (3,)\n",
    "    ```\n",
    "1.  ```python    \n",
    "    6 not in ()\n",
    "    ```\n",
    "1.  ```python\n",
    "    0 in (0)[0]\n",
    "    ```\n",
    "1.  ```python    \n",
    "    [] in ()\n",
    "    ```\n",
    "1.  ```python    \n",
    "    () in []\n",
    "    ```\n",
    "1.  ```python    \n",
    "    not [] in ()\n",
    "    ```\n",
    "1.  ```python    \n",
    "    () in ()\n",
    "    ```\n",
    "1.  ```python    \n",
    "    () in (())\n",
    "    ```\n",
    "1.  ```python    \n",
    "    () in ((),)\n",
    "    ```\n",
    "1.  ```python    \n",
    "    'ciao' in ('c','i','a','o')\n",
    "    ```\n"
   ]
  },
  {
   "cell_type": "markdown",
   "metadata": {},
   "source": [
    "\n",
    "### Moltiplicazione\n",
    "\n",
    "Per replicare gli elementi di una tupla, è possibile usare l’operatore `*` che produce una NUOVA tupla:"
   ]
  },
  {
   "cell_type": "code",
   "execution_count": 62,
   "metadata": {},
   "outputs": [
    {
     "data": {
      "text/plain": [
       "(7, 8, 5, 7, 8, 5, 7, 8, 5)"
      ]
     },
     "execution_count": 62,
     "metadata": {},
     "output_type": "execute_result"
    }
   ],
   "source": [
    "(7,8,5) * 3"
   ]
  },
  {
   "cell_type": "code",
   "execution_count": 63,
   "metadata": {},
   "outputs": [
    {
     "data": {
      "text/plain": [
       "(7, 8, 5)"
      ]
     },
     "execution_count": 63,
     "metadata": {},
     "output_type": "execute_result"
    }
   ],
   "source": [
    "(7,8,5) * 1"
   ]
  },
  {
   "cell_type": "code",
   "execution_count": 64,
   "metadata": {},
   "outputs": [
    {
     "data": {
      "text/plain": [
       "()"
      ]
     },
     "execution_count": 64,
     "metadata": {},
     "output_type": "execute_result"
    }
   ],
   "source": [
    "(7,8,5) * 0"
   ]
  },
  {
   "cell_type": "markdown",
   "metadata": {},
   "source": [
    "**DOMANDA**: Il seguente codice cosa stamperà?\n",
    "\n",
    "```python\n",
    "x = (5,6,7)\n",
    "y = x * 3\n",
    "print('x=',x)\n",
    "print('y=',y)\n",
    "```"
   ]
  },
  {
   "cell_type": "raw",
   "id": "986416fd",
   "metadata": {
    "format": "text/html"
   },
   "source": [
    "<a  class=\"jupman-sol jupman-sol-toggler\" \n",
    " onclick=\"jupman.toggleSolution(this);\" \n",
    " data-jupman-show=\"Mostra risposta\" data-jupman-hide=\"Nascondi\">Mostra risposta</a><div class=\"jupman-sol jupman-sol-question\" style=\"display:none\">  "
   ]
  },
  {
   "cell_type": "markdown",
   "metadata": {},
   "source": [
    "**RISPOSTA**: Stamperà\n",
    "\n",
    "```\n",
    "x = (5, 6, 7)\n",
    "y = (5, 6, 7, 5, 6, 7, 5, 6, 7)\n",
    "```\n",
    "\n",
    "perchè la moltiplicazione genera una NUOVA tupla che viene associata a `y`. La tupla associata a  `x` rimane invariata."
   ]
  },
  {
   "cell_type": "raw",
   "id": "f2bf1148",
   "metadata": {
    "format": "text/html"
   },
   "source": [
    "</div>"
   ]
  },
  {
   "cell_type": "markdown",
   "metadata": {},
   "source": [
    "**DOMANDA**: Guarda il codice seguente e per ciascuna espressione cerca di indovinare il risultato, o se produce un errore.\n",
    "\n",
    "    \n",
    "1.  ```python\n",
    "    (5,6,7)*(3.0)\n",
    "    ```\n",
    "1.  ```python    \n",
    "    (5,6,7)*(3,0)\n",
    "    ```\n",
    "1.  ```python    \n",
    "    (5,6,7)*(3)\n",
    "    ```\n",
    "1.  ```python    \n",
    "    (5,6,7)*3\n",
    "    ```\n",
    "1.  ```python    \n",
    "    (4,2,3)*int(3.0)\n",
    "    ```\n",
    "1.  ```python    \n",
    "    (1,2)*[3][0]\n",
    "    ```\n",
    "1.  ```python    \n",
    "    (1,2)*(3,4)[-1]\n",
    "    ```\n",
    "1.  ```python    \n",
    "    [(9,8)]*4\n",
    "    ```\n",
    "1.  ```python\n",
    "    (1+2,3+4)*5\n",
    "    ```    \n",
    "1.  ```python\n",
    "    (1+2,)*4\n",
    "    ```\n",
    "1.  ```python\n",
    "    (1+2)*4\n",
    "    ```        \n",
    "1.  ```python\n",
    "    (1,2,3)*0\n",
    "    ```\n",
    "1.  ```python\n",
    "    (7)*0\n",
    "    ```\n",
    "1.  ```python\n",
    "    (7,)*0\n",
    "    ```"
   ]
  },
  {
   "cell_type": "markdown",
   "metadata": {},
   "source": [
    "### Esercizio - welcome\n",
    "\n",
    "Data una tupla `x` contenente esattamente 3 interi, ed una tupla `y` contenente esattamente 3 tuple di caratteri, scrivi del codice per creare una tupla `z` contenente ogni tupla di `y` replicata dal numero corrispondente in `x`.\n",
    "\n",
    "Esempio - dati:\n",
    "\n",
    "```python\n",
    "x = (2,4,3)\n",
    "y = (('w','e','l','c'),('o',),('m','e'))\n",
    "```\n",
    "\n",
    "dopo il tuo codice dovrebbe stampare:\n",
    "\n",
    "```python\n",
    ">>> print(z)\n",
    "('w', 'e', 'l', 'c', 'w', 'e', 'l', 'c', 'o', 'o', 'o', 'o', 'm', 'e', 'm', 'e', 'm', 'e')\n",
    "```"
   ]
  },
  {
   "cell_type": "raw",
   "id": "23ef4c88",
   "metadata": {
    "format": "text/html"
   },
   "source": [
    "<a  class=\"jupman-sol jupman-sol-toggler\" \n",
    " onclick=\"jupman.toggleSolution(this);\" \n",
    " data-jupman-show=\"Mostra soluzione\" data-jupman-hide=\"Nascondi\">Mostra soluzione</a><div class=\"jupman-sol jupman-sol-code\" style=\"display:none\">  "
   ]
  },
  {
   "cell_type": "code",
   "execution_count": 90,
   "metadata": {},
   "outputs": [
    {
     "name": "stdout",
     "output_type": "stream",
     "text": [
      "('w', 'e', 'l', 'c', 'w', 'e', 'l', 'c', 'o', 'o', 'o', 'o', 'm', 'e', 'm', 'e', 'm', 'e')\n"
     ]
    }
   ],
   "source": [
    "\n",
    "x = (2,4,3)\n",
    "y = (('w','e','l','c'),('o',),('m','e'))\n",
    "\n",
    "# scrivi qui\n",
    "z = y[0]*x[0] + y[1]*x[1] + y[2]*x[2] \n",
    "\n",
    "print(z)"
   ]
  },
  {
   "cell_type": "raw",
   "id": "df6a1101",
   "metadata": {
    "format": "text/html"
   },
   "source": [
    "</div>"
   ]
  },
  {
   "cell_type": "code",
   "execution_count": 90,
   "metadata": {},
   "outputs": [],
   "source": [
    "\n",
    "x = (2,4,3)\n",
    "y = (('w','e','l','c'),('o',),('m','e'))\n",
    "\n",
    "# scrivi qui\n",
    "\n"
   ]
  },
  {
   "cell_type": "markdown",
   "metadata": {},
   "source": [
    "## Scrivere un elemento"
   ]
  },
  {
   "cell_type": "markdown",
   "metadata": {},
   "source": [
    "Le tuple sono _immutabili,_ quindi provare per esempio a scrivere un assegnazione  per mettere il numero `12` nella cella all'indice `3`  provoca un errore:"
   ]
  },
  {
   "cell_type": "markdown",
   "metadata": {},
   "source": [
    "```python\n",
    "#        0 1 2 3 4\n",
    "tupla = (5,8,7,9,11)\n",
    "tupla[3] = 666\n",
    "\n",
    "---------------------------------------------------------------------------\n",
    "TypeError                                 Traceback (most recent call last)\n",
    "<ipython-input-118-83949b0c81e2> in <module>\n",
    "      1 tupla = (5,8,7,9)\n",
    "----> 2 tupla[1] = 666\n",
    "\n",
    "TypeError: 'tuple' object does not support item assignment\n",
    "\n",
    "```"
   ]
  },
  {
   "cell_type": "markdown",
   "metadata": {},
   "source": [
    "Quello che possiamo fare è creare una NUOVA tupla componendola da sequenze prese dall'originale"
   ]
  },
  {
   "cell_type": "code",
   "execution_count": 66,
   "metadata": {},
   "outputs": [],
   "source": [
    "#        0  1  2  3  4  5  6\n",
    "tupla = (17,54,34,87,26,95,34)"
   ]
  },
  {
   "cell_type": "code",
   "execution_count": 67,
   "metadata": {},
   "outputs": [],
   "source": [
    "tupla =  tupla[0:3] + (12,) + tupla[4:]"
   ]
  },
  {
   "cell_type": "code",
   "execution_count": 68,
   "metadata": {},
   "outputs": [
    {
     "data": {
      "text/plain": [
       "(17, 54, 34, 12, 26, 95, 34)"
      ]
     },
     "execution_count": 68,
     "metadata": {},
     "output_type": "execute_result"
    }
   ],
   "source": [
    "tupla"
   ]
  },
  {
   "cell_type": "markdown",
   "metadata": {},
   "source": [
    "<div class=\"alert alert-warning\">\n",
    "\n",
    "**ATTENZIONE:** `append`, `extend`, `insert`, `sort` **NON FUNZIONANO CON LE TUPLE !**\n",
    "\n",
    "Tutti i metodi che hai usato per modificare le liste _non_ funzioneranno con le tuple. \n",
    "\n",
    "</div>"
   ]
  },
  {
   "cell_type": "markdown",
   "metadata": {},
   "source": [
    "###  Esercizio - errando\n",
    "\n",
    "Prova a scrivere qua sotto `(1,2,3).append(4)` e guarda che errore appare:"
   ]
  },
  {
   "cell_type": "raw",
   "id": "262157c2",
   "metadata": {
    "format": "text/html"
   },
   "source": [
    "<a  class=\"jupman-sol jupman-sol-toggler\" \n",
    " onclick=\"jupman.toggleSolution(this);\" \n",
    " data-jupman-show=\"Mostra soluzione\" data-jupman-hide=\"Nascondi\">Mostra soluzione</a><div class=\"jupman-sol jupman-sol-code\" style=\"display:none\">  "
   ]
  },
  {
   "cell_type": "code",
   "execution_count": 69,
   "metadata": {},
   "outputs": [],
   "source": [
    "# scrivi qui\n",
    "#(1,2,3).append(4)"
   ]
  },
  {
   "cell_type": "raw",
   "id": "7a9cc10d",
   "metadata": {
    "format": "text/html"
   },
   "source": [
    "</div>"
   ]
  },
  {
   "cell_type": "code",
   "execution_count": 69,
   "metadata": {},
   "outputs": [],
   "source": [
    "# scrivi qui\n",
    "\n"
   ]
  },
  {
   "cell_type": "markdown",
   "metadata": {},
   "source": [
    "### Esercizio: abde\n",
    "\n",
    "Data una tupla `x`, salva nella variabile `y` un'altra tupla contenente:\n",
    "\n",
    "* all'inizio gli stessi elementi di `x` _eccetto_ l'ultimo\n",
    "* alla fine gli elementi `'d'` e `'e'` . \n",
    "\n",
    "* Il tuo codice dovrebbe funzionare con _qualunque_ tupla `x`\n",
    "\n",
    "Esempio\n",
    "\n",
    "```python\n",
    "x = ('a','b','c')\n",
    "```\n",
    "\n",
    "dopo il tuo codice, dovresti veder stampato:\n",
    "\n",
    "```bash\n",
    "x = ('a', 'b', 'c')\n",
    "y = ('a', 'b', 'd', 'e')\n",
    "```"
   ]
  },
  {
   "cell_type": "raw",
   "id": "fca717b3",
   "metadata": {
    "format": "text/html"
   },
   "source": [
    "<a  class=\"jupman-sol jupman-sol-toggler\" \n",
    " onclick=\"jupman.toggleSolution(this);\" \n",
    " data-jupman-show=\"Mostra soluzione\" data-jupman-hide=\"Nascondi\">Mostra soluzione</a><div class=\"jupman-sol jupman-sol-code\" style=\"display:none\">  "
   ]
  },
  {
   "cell_type": "code",
   "execution_count": 70,
   "metadata": {},
   "outputs": [],
   "source": [
    "x = ('a','b','c')\n",
    "\n",
    "# scrivi qui\n",
    "y = x[:-1] + ('d','e')\n",
    "\n",
    "#print('x=',x)\n",
    "#print('y=',y)"
   ]
  },
  {
   "cell_type": "raw",
   "id": "914ad3fb",
   "metadata": {
    "format": "text/html"
   },
   "source": [
    "</div>"
   ]
  },
  {
   "cell_type": "code",
   "execution_count": 70,
   "metadata": {},
   "outputs": [],
   "source": [
    "x = ('a','b','c')\n",
    "\n",
    "# scrivi qui\n",
    "\n"
   ]
  },
  {
   "cell_type": "markdown",
   "metadata": {},
   "source": [
    "### Esercizio - carismatico\n",
    "\n",
    "Data una tupla `t` avente caratteri intervallati maiuscolo / minuscolo, scrivere del codice che modifica l'assegnazione di `t` in modo che `t` sia uguale ad una tupla avente tutti i caratteri maiuscoli per primi e tutti i caratteri minuscoli per ultimi.\n",
    "\n",
    "Esempio - data\n",
    "\n",
    "```python\n",
    "t = ('C', 'a', 'R', 'i', 'S', 'm', 'A', 't', 'I', 'c', 'O')\n",
    "```\n",
    "\n",
    "dopo il tuo codice deve risultare\n",
    "\n",
    "```python\n",
    ">>> print(t)\n",
    "('C', 'R', 'S', 'A', 'I', 'O', 'a', 'i', 'm', 't', 'c')\n",
    "```"
   ]
  },
  {
   "cell_type": "raw",
   "id": "862a8287",
   "metadata": {
    "format": "text/html"
   },
   "source": [
    "<a  class=\"jupman-sol jupman-sol-toggler\" \n",
    " onclick=\"jupman.toggleSolution(this);\" \n",
    " data-jupman-show=\"Mostra soluzione\" data-jupman-hide=\"Nascondi\">Mostra soluzione</a><div class=\"jupman-sol jupman-sol-code\" style=\"display:none\">  "
   ]
  },
  {
   "cell_type": "code",
   "execution_count": 71,
   "metadata": {},
   "outputs": [],
   "source": [
    "t = ('C', 'a', 'R', 'i', 'S', 'm', 'A', 't', 'I', 'c', 'O')\n",
    "\n",
    "# scrivi qui\n",
    "t = t[::2] + t[1::2]\n",
    "#print(t)"
   ]
  },
  {
   "cell_type": "raw",
   "id": "bbc6c145",
   "metadata": {
    "format": "text/html"
   },
   "source": [
    "</div>"
   ]
  },
  {
   "cell_type": "code",
   "execution_count": 71,
   "metadata": {},
   "outputs": [],
   "source": [
    "t = ('C', 'a', 'R', 'i', 'S', 'm', 'A', 't', 'I', 'c', 'O')\n",
    "\n",
    "# scrivi qui\n",
    "\n"
   ]
  },
  {
   "cell_type": "markdown",
   "metadata": {},
   "source": [
    "### Esercizio - ordinare\n",
    "\n",
    "Data una tupla `x` di numeri disordinati, scrivere del codice che cambia l'assegnazione di `x` in modo che abbia assegnata una tupla con i numeri ordinati.\n",
    "\n",
    "* il tuo codice deve funzionare per _qualsiasi_ tupla `x`\n",
    "* **SUGGERIMENTO**: Come già scritto, le tuple NON hanno il metodo `sort` (perchè le muterebbe), ma le liste ce l'hanno....\n",
    "\n",
    "Esempio - dati:\n",
    "\n",
    "```python\n",
    "x = (3,4,2,5,5,5,2,3)\n",
    "```\n",
    "dopo il tuo codice deve risultare\n",
    " \n",
    "```python\n",
    ">>> print(x)\n",
    "(2, 2, 3, 3, 4, 5, 5, 5)\n",
    "```"
   ]
  },
  {
   "cell_type": "raw",
   "id": "a076e1c6",
   "metadata": {
    "format": "text/html"
   },
   "source": [
    "<a  class=\"jupman-sol jupman-sol-toggler\" \n",
    " onclick=\"jupman.toggleSolution(this);\" \n",
    " data-jupman-show=\"Mostra soluzione\" data-jupman-hide=\"Nascondi\">Mostra soluzione</a><div class=\"jupman-sol jupman-sol-code\" style=\"display:none\">  "
   ]
  },
  {
   "cell_type": "code",
   "execution_count": 72,
   "metadata": {},
   "outputs": [],
   "source": [
    "x = (3,4,2,5,5,5,2,3)\n",
    "\n",
    "# scrivi qui\n",
    "y = list(x)\n",
    "y.sort()\n",
    "x = tuple(y)\n",
    "#print(x)"
   ]
  },
  {
   "cell_type": "raw",
   "id": "d30a95dc",
   "metadata": {
    "format": "text/html"
   },
   "source": [
    "</div>"
   ]
  },
  {
   "cell_type": "code",
   "execution_count": 72,
   "metadata": {},
   "outputs": [],
   "source": [
    "x = (3,4,2,5,5,5,2,3)\n",
    "\n",
    "# scrivi qui\n",
    "\n"
   ]
  },
  {
   "cell_type": "markdown",
   "metadata": {},
   "source": [
    "## Metodi\n",
    "\n",
    "Le tuple sono oggetti di tipo `tuple` e possiedono dei metodi che permettono di operare su di esse:\n",
    "\n",
    "|Metodo|Ritorna|Descrizione|\n",
    "|-------|------|-----------|\n",
    "|`tuple.index(obj)`|`int`|Trova la prima occorrenza di un elemento e ne ritorna la posizione|\n",
    "|`tuple.count(obj)`|`int`|Conta le occorrenze di un elemento|"
   ]
  },
  {
   "cell_type": "markdown",
   "metadata": {},
   "source": [
    "### Metodo index"
   ]
  },
  {
   "cell_type": "markdown",
   "metadata": {},
   "source": [
    "Il metodo `index` ci permette di trovare l’indice della PRIMA occorrenza di un elemento."
   ]
  },
  {
   "cell_type": "code",
   "execution_count": 73,
   "metadata": {},
   "outputs": [],
   "source": [
    "tupla = ('b','a','r','a','t','t','a','r','e')"
   ]
  },
  {
   "cell_type": "code",
   "execution_count": 74,
   "metadata": {},
   "outputs": [
    {
     "data": {
      "text/plain": [
       "0"
      ]
     },
     "execution_count": 74,
     "metadata": {},
     "output_type": "execute_result"
    }
   ],
   "source": [
    "tupla.index('b')"
   ]
  },
  {
   "cell_type": "code",
   "execution_count": 75,
   "metadata": {},
   "outputs": [
    {
     "data": {
      "text/plain": [
       "1"
      ]
     },
     "execution_count": 75,
     "metadata": {},
     "output_type": "execute_result"
    }
   ],
   "source": [
    "tupla.index('a')"
   ]
  },
  {
   "cell_type": "code",
   "execution_count": 76,
   "metadata": {},
   "outputs": [
    {
     "data": {
      "text/plain": [
       "4"
      ]
     },
     "execution_count": 76,
     "metadata": {},
     "output_type": "execute_result"
    }
   ],
   "source": [
    "tupla.index('t')"
   ]
  },
  {
   "cell_type": "markdown",
   "metadata": {},
   "source": [
    "Se l’elemento che cerchiamo non è presente, otterremo un errore:"
   ]
  },
  {
   "cell_type": "markdown",
   "metadata": {},
   "source": [
    "```python\n",
    ">>> tupla.index('z')\n",
    "\n",
    "---------------------------------------------------------------------------\n",
    "ValueError                                Traceback (most recent call last)\n",
    "<ipython-input-318-96cf33478b69> in <module>\n",
    "----> 1 tupla.index('z')\n",
    "\n",
    "ValueError: tuple.index(x): x not in tuple\n",
    "\n",
    "```"
   ]
  },
  {
   "cell_type": "markdown",
   "metadata": {},
   "source": [
    "Opzionalmente, puoi specificare un indice da dove iniziare a cercare (**incluso**):"
   ]
  },
  {
   "cell_type": "code",
   "execution_count": 77,
   "metadata": {},
   "outputs": [
    {
     "data": {
      "text/plain": [
       "7"
      ]
     },
     "execution_count": 77,
     "metadata": {},
     "output_type": "execute_result"
    }
   ],
   "source": [
    "# 0   1   2   3   4   5   6   7   8\n",
    "('b','a','r','a','t','t','a','r','e').index('r',3)"
   ]
  },
  {
   "cell_type": "markdown",
   "metadata": {},
   "source": [
    "E anche dove finire (**escluso**):"
   ]
  },
  {
   "cell_type": "markdown",
   "metadata": {},
   "source": [
    "```python\n",
    "# 0   1   2   3   4   5   6   7   8\n",
    "('b','a','r','a','t','t','a','r','e').index('r',3,7)\n",
    "---------------------------------------------------------------------------\n",
    "ValueError                                Traceback (most recent call last)\n",
    "<ipython-input-12-e91a1f6569d7> in <module>\n",
    "      1 # 0   1   2   3   4   5   6   7   8\n",
    "----> 2 ('b','a','r','a','t','t','a','r','e').index('r',3,7)\n",
    "\n",
    "ValueError: tuple.index(x): x not in tuple\n",
    "```"
   ]
  },
  {
   "cell_type": "markdown",
   "metadata": {},
   "source": [
    "### Non abusare index"
   ]
  },
  {
   "cell_type": "markdown",
   "metadata": {},
   "source": [
    "<div class=\"alert alert-warning\">\n",
    "    \n",
    "**ATTENZIONE**: `index` **viene spesso usato in modo errato / inefficiente**\n",
    "\n",
    "Chiediti sempre:\n",
    "    \n",
    "1. la tupla su cui operare potrebbe contenere duplicati? Ricordati che solo il _primo_ verrà trovato!\n",
    "2. la tupla potrebbe _non_ contenere l'elemento cercato? Ricordati che in questo caso il programma lancerà un errore!    \n",
    "3. `index` compie una ricerca in tutta la tupla, che può essere inefficiente: è proprio necessaria, o sappiamo già l'intervallo in cui cercare? \n",
    "4. se vogliamo sapere se un `elemento` è in una posizione nota a priori (es `3`), `index` non ci serve, basta scrivere `tupla[3] == elemento`. Usando `index` potrebbe trovare caratteri duplicati che stanno _prima_ o _dopo_ di quello che vogliamo verificare!\n",
    "</div>"
   ]
  },
  {
   "cell_type": "markdown",
   "metadata": {},
   "source": [
    "**DOMANDA**: Guarda il codice seguente e per ciascuna espressione prova a indovinare il risultato o se produce un errore:\n",
    "\n",
    "    \n",
    "1.  ```python\n",
    "    (3,4,2).index(4)\n",
    "    ```\n",
    "1.  ```python    \n",
    "    (3,4,---1).index(-1)\n",
    "    ```\n",
    "1.  ```python    \n",
    "    (2.2,.2,2,).index(2)\n",
    "    ```\n",
    "1.  ```python    \n",
    "    (3,4,2).index(len([3,8,2,9]))\n",
    "    ```\n",
    "1.  ```python    \n",
    "    (6,6,6).index(666)\n",
    "    ```\n",
    "1.  ```python    \n",
    "    (4,2,3).index(3).index(3)\n",
    "    ```\n",
    "1.  ```python    \n",
    "    tuple(\"GUG\").index(\"g\")\n",
    "    ```\n",
    "1.  ```python    \n",
    "    (tuple(\"ci\") + (\"a\",\"o\")).index('a')\n",
    "    ```    \n",
    "1.  ```python    \n",
    "    (()).index(())\n",
    "    ```\n",
    "1.  ```python    \n",
    "    ((),).index(())\n",
    "    ```"
   ]
  },
  {
   "cell_type": "markdown",
   "metadata": {},
   "source": [
    "### Esercizio - Le scatole cinesi\n",
    "\n",
    "Scrivi del codice che cerca la parola `\"Cinesi\"` in ciascuna di 3 tuple una dentro l'altra, indicando la posizione relativa alla tupla che contiene l'occorrenza.\n",
    "\n",
    "- le tuple iniziano sempre con 4 stringhe\n",
    "\n",
    "\n",
    "Esempio - data:\n",
    "\n",
    "```python\n",
    "tupla = ('Apri','Le','Scatole','Cinesi', ('Scatole','Cinesi','Le','Apri', ('Apri','Le','Cinesi','Scatole')))\n",
    "```\n",
    "\n",
    "dopo il tuo codice, deve stampare:\n",
    "\n",
    "```\n",
    "('Apri', 'Le', 'Scatole', 'Cinesi') contiene Cinesi alla posizione 3\n",
    "('Scatole', 'Cinesi', 'Le', 'Apri') contiene Cinesi alla posizione 1\n",
    "('Apri', 'Le', 'Cinesi', 'Scatole') contiene Cinesi alla posizione 2\n",
    "```"
   ]
  },
  {
   "cell_type": "raw",
   "id": "58ccd712",
   "metadata": {
    "format": "text/html"
   },
   "source": [
    "<a  class=\"jupman-sol jupman-sol-toggler\" \n",
    " onclick=\"jupman.toggleSolution(this);\" \n",
    " data-jupman-show=\"Mostra soluzione\" data-jupman-hide=\"Nascondi\">Mostra soluzione</a><div class=\"jupman-sol jupman-sol-code\" style=\"display:none\">  "
   ]
  },
  {
   "cell_type": "code",
   "execution_count": 78,
   "metadata": {},
   "outputs": [
    {
     "name": "stdout",
     "output_type": "stream",
     "text": [
      "('Apri', 'Le', 'Scatole', 'Cinesi') contiene Cinesi alla posizione 3\n",
      "('Scatole', 'Cinesi', 'Le', 'Apri') contiene Cinesi alla posizione 1\n",
      "('Apri', 'Le', 'Cinesi', 'Scatole') contiene Cinesi alla posizione 2\n"
     ]
    }
   ],
   "source": [
    "\n",
    "parola = 'Cinesi'\n",
    "tupla = ('Apri','Le','Scatole','Cinesi', ('Scatole','Cinesi','Le','Apri', ('Apri','Le','Cinesi','Scatole')))\n",
    "#                                 3                     1                                 2\n",
    "\n",
    "#parola = 'c'\n",
    "#tupla = ('a','b','c','d',('e','c','g','h',('a','b','d','c')))\n",
    "#                  2            1                        3\n",
    "\n",
    "# scrivi qui\n",
    "\n",
    "t1 = tupla[:4]\n",
    "t2 = tupla[4][:4]\n",
    "t3 = tupla[4][4] \n",
    "i1 = t1.index(parola)\n",
    "i2 = t2.index(parola)\n",
    "i3 = t3.index(parola)\n",
    "\n",
    "print(t1,\"contiene\", parola, \"alla posizione\", i1)\n",
    "print(t2,\"contiene\", parola, \"alla posizione\", i2)\n",
    "print(t3,\"contiene\", parola, \"alla posizione\", i3)      "
   ]
  },
  {
   "cell_type": "raw",
   "id": "e61f9f0d",
   "metadata": {
    "format": "text/html"
   },
   "source": [
    "</div>"
   ]
  },
  {
   "cell_type": "code",
   "execution_count": 78,
   "metadata": {},
   "outputs": [],
   "source": [
    "\n",
    "parola = 'Cinesi'\n",
    "tupla = ('Apri','Le','Scatole','Cinesi', ('Scatole','Cinesi','Le','Apri', ('Apri','Le','Cinesi','Scatole')))\n",
    "#                                 3                     1                                 2\n",
    "\n",
    "#parola = 'c'\n",
    "#tupla = ('a','b','c','d',('e','c','g','h',('a','b','d','c')))\n",
    "#                  2            1                        3\n",
    "\n",
    "# scrivi qui\n",
    "\n"
   ]
  },
  {
   "cell_type": "markdown",
   "metadata": {},
   "source": [
    "### Metodo count\n",
    "\n",
    "Si può ottenere il numero di occorrenze di un certo elemento in una lista usando il metodo `count`:"
   ]
  },
  {
   "cell_type": "code",
   "execution_count": 79,
   "metadata": {},
   "outputs": [],
   "source": [
    "t = ('g', 'u', 'a', 'r', 'a', 'n', 't', 'i', 'g', 'i', 'a')"
   ]
  },
  {
   "cell_type": "code",
   "execution_count": 80,
   "metadata": {},
   "outputs": [
    {
     "data": {
      "text/plain": [
       "2"
      ]
     },
     "execution_count": 80,
     "metadata": {},
     "output_type": "execute_result"
    }
   ],
   "source": [
    "t.count('g')"
   ]
  },
  {
   "cell_type": "code",
   "execution_count": 81,
   "metadata": {},
   "outputs": [
    {
     "data": {
      "text/plain": [
       "3"
      ]
     },
     "execution_count": 81,
     "metadata": {},
     "output_type": "execute_result"
    }
   ],
   "source": [
    "t.count('a')"
   ]
  },
  {
   "cell_type": "markdown",
   "metadata": {},
   "source": [
    "Se un elemento non è presente viene ritornato `0`: "
   ]
  },
  {
   "cell_type": "code",
   "execution_count": 82,
   "metadata": {},
   "outputs": [
    {
     "data": {
      "text/plain": [
       "0"
      ]
     },
     "execution_count": 82,
     "metadata": {},
     "output_type": "execute_result"
    }
   ],
   "source": [
    "t.count('z')"
   ]
  },
  {
   "cell_type": "markdown",
   "metadata": {},
   "source": [
    "### Non abusare count\n",
    "\n",
    "<div class=\"alert alert-warning\">\n",
    "    \n",
    "**ATTENZIONE**: `count` **viene spesso usato in modo errato / inefficiente**\n",
    "\n",
    "Chiediti sempre:\n",
    "    \n",
    "1. la tupla potrebbe contenere duplicati? Ricordati che verranno tutti conteggiati!\n",
    "2. la tupla potrebbe _non_ contenere l'oggetto da contare? Ricordati di gestire anche questo caso!\n",
    "3. `count` compie una ricerca in tutta la tupla, che può essere inefficiente: è proprio necessaria, o sappiamo già l'intervallo in cui cercare?\n",
    "</div>"
   ]
  },
  {
   "cell_type": "markdown",
   "metadata": {},
   "source": [
    "**DOMANDA**: Guarda i frammenti di codice seguenti, e per ciascuno cerca di indovinare che risultato produce (o se risulta in un errore).\n",
    "\n",
    "1.  ```python\n",
    "    ('p', 'o', 'r', 't', 'e', 'n', 't', 'o', 's', 'o').count('o')\n",
    "    ```\n",
    "1.  ```python\n",
    "    ('p', 'o', 'r', 't', 'e', 'n', 't', 'o', 's', 'o').count( ('o') )\n",
    "    ```\n",
    "1.  ```python\n",
    "    ('p', 'o', 'r', 't', 'e', 'n', 't', 'o', 's', 'o').count( ('o',) )\n",
    "    ```    \n",
    "1.  ```python\n",
    "    (1,0,0,0).count( 0 )\n",
    "    ```            \n",
    "1.  ```python\n",
    "    (1,0,0,0).count( (0) )\n",
    "    ```        \n",
    "1.  ```python\n",
    "    (1,0,0,0).count( (0,) )\n",
    "    ```    \n",
    "1.  ```python\n",
    "    (1,0,(0,),(0,)).count( (0,) )\n",
    "    ```        \n",
    "1.  ```python\n",
    "    (1,0,(0.0),((0,0),(0,0))).count( (0,0) )\n",
    "    ```        "
   ]
  },
  {
   "cell_type": "markdown",
   "metadata": {},
   "source": [
    "### Esercizio: frutti\n",
    "\n",
    "Data la stringa `s = \"mela|pera|mela|ciliegia|pera|mela|pera|pera|ciliegia|pera|fragola\"`\n",
    "\n",
    "Inserisci gli elementi separati da `\"|\"` in una lista.\n",
    "    \n",
    "1. Quanti elementi deve avere la lista?\n",
    "2. Sapendo che la lista creata al punto precedente ha solo quattro elementi distinti (es `\"mela\"`, `\"pera\"`, `\"ciliegia\"`, e `\"fragola\"`), crea un'altra lista dove ogni elemento è una tupla contenente il nome del frutto e la sua moltiplicità (cioè il numero di volte che compare nella lista originale). Esempio:\n",
    "\n",
    "```python\n",
    "conteggi = [(\"mela\", 3), (\"pera\",5), ...]\n",
    "```\n",
    "\n",
    "Qua puoi scrivere codice che funziona data una specifica costante, quindi non hai bisogno di cicli.\n",
    "\n",
    "3. Stampa il contenuto di ciascuna tupla in una linea separata (es: prima linea: `\"mela\"` è presente 3 volte)\n",
    "\n",
    "Dovresti ottenere:\n",
    "\n",
    "```bash\n",
    "['mela', 'pera', 'mela', 'ciliegia', 'pera', 'mela', 'pera', 'pera', 'ciliegia', 'pera', 'fragola']\n",
    "[('mela', 3), ('pera', 5), ('ciliegia', 2), ('fragola', 1)] \n",
    "\n",
    "mela  è presente  3  volte\n",
    "pera  è presente  5  volte\n",
    "ciliegia  è presente  2  volte\n",
    "fragola  è presente  1  volte\n",
    "```"
   ]
  },
  {
   "cell_type": "raw",
   "id": "6c432051",
   "metadata": {
    "format": "text/html"
   },
   "source": [
    "<a  class=\"jupman-sol jupman-sol-toggler\" \n",
    " onclick=\"jupman.toggleSolution(this);\" \n",
    " data-jupman-show=\"Mostra soluzione\" data-jupman-hide=\"Nascondi\">Mostra soluzione</a><div class=\"jupman-sol jupman-sol-code\" style=\"display:none\">  "
   ]
  },
  {
   "cell_type": "code",
   "execution_count": 83,
   "metadata": {
    "scrolled": true
   },
   "outputs": [],
   "source": [
    "s = \"mela|pera|mela|ciliegia|pera|mela|pera|pera|ciliegia|pera|fragola\"\n",
    "\n",
    "# scrivi qui\n",
    "\n",
    "parole = s.split(\"|\")\n",
    "#print(parole)\n",
    "\n",
    "tmele = (\"mela\", parole.count(\"mela\"))\n",
    "tpere = (\"pera\", parole.count(\"pera\"))\n",
    "tciliegie = (\"ciliegia\", parole.count(\"ciliegia\"))\n",
    "tfragole = (\"fragola\", parole.count(\"fragola\"))\n",
    "conteggi =[tmele, tpere, tciliegie, tfragole]\n",
    "\n",
    "#print(conteggi) \n",
    "#print()\n",
    "#print(tmele[0], \" è presente \", tmele[1], \" volte\")\n",
    "#print(tpere[0], \" è presente \", tpere[1], \" volte\")\n",
    "#print(tciliegie[0], \" è presente \", tciliegie[1], \" volte\")\n",
    "#print(tfragole[0], \" è presente \", tfragole[1], \" volte\")"
   ]
  },
  {
   "cell_type": "raw",
   "id": "91b783a6",
   "metadata": {
    "format": "text/html"
   },
   "source": [
    "</div>"
   ]
  },
  {
   "cell_type": "code",
   "execution_count": 83,
   "metadata": {
    "scrolled": true
   },
   "outputs": [],
   "source": [
    "s = \"mela|pera|mela|ciliegia|pera|mela|pera|pera|ciliegia|pera|fragola\"\n",
    "\n",
    "# scrivi qui\n",
    "\n"
   ]
  },
  {
   "cell_type": "markdown",
   "metadata": {},
   "source": [
    "## Esercizi con le funzioni\n",
    "\n",
    "\n",
    "<div class=\"alert alert-warning\">\n",
    "\n",
    "**ATTENZIONE: Gli esercizi seguenti richiedono di conoscere:**\n",
    "\n",
    "<ul>\n",
    "   <li>[Controllo di flusso](https://it.softpython.org/control-flow/control-flow-sol.html)</li>\n",
    "   <li>[Funzioni](https://it.softpython.org/functions/functions-sol.html)</li>\n",
    "</ul>\n",
    "<br/>\n",
    "Se sei alle prime armi con la programmazione, ti conviene saltarli e ripassare in seguito\n",
    "</div>\n"
   ]
  },
  {
   "cell_type": "markdown",
   "metadata": {},
   "source": [
    "### appaia\n",
    "\n",
    "✪✪ Scrivere una funzione `appaia` che data una tupla `t`, RITORNA una lista avente come elementi delle tuple da due elementi presi a due a due da `t`. \n",
    "\n",
    "* se la tupla `t` ha un numero dispari di elementi, l'ultima tupla nella lista da ritornare sarà costituita da un solo elemento\n",
    "\n",
    "Esempio : \n",
    "\n",
    "```python\n",
    ">>> appaia( ('c', 'a', 'p', 'i', 'r', 'e') )   # lunghezza pari\n",
    "[('c', 'a'), ('p', 'i'), ('r', 'e')]\n",
    ">>> appaia( ('t','a','p','p','e','t','o') )    # lunghezza dispari\n",
    "[('t', 'a'), ('p', 'p'), ('e', 't'), ('o',)]\n",
    "```"
   ]
  },
  {
   "cell_type": "raw",
   "id": "ce0a9e79",
   "metadata": {
    "format": "text/html"
   },
   "source": [
    "<a  class=\"jupman-sol jupman-sol-toggler\" \n",
    " onclick=\"jupman.toggleSolution(this);\" \n",
    " data-jupman-show=\"Mostra soluzione\" data-jupman-hide=\"Nascondi\">Mostra soluzione</a><div class=\"jupman-sol jupman-sol-code\" style=\"display:none\">  "
   ]
  },
  {
   "cell_type": "code",
   "execution_count": 84,
   "metadata": {},
   "outputs": [],
   "source": [
    "# scrivi qui\n",
    "def appaia(t):\n",
    "    ret = []\n",
    "    i = 0\n",
    "    while i < len(t)-1:\n",
    "        ret.append((t[i],t[i+1]))\n",
    "        i += 2\n",
    "    if i == len(t)-1:\n",
    "        ret.append((t[-1],))\n",
    "    return ret"
   ]
  },
  {
   "cell_type": "raw",
   "id": "80d98423",
   "metadata": {
    "format": "text/html"
   },
   "source": [
    "</div>"
   ]
  },
  {
   "cell_type": "code",
   "execution_count": 84,
   "metadata": {},
   "outputs": [],
   "source": [
    "# scrivi qui\n",
    "\n"
   ]
  },
  {
   "cell_type": "markdown",
   "metadata": {},
   "source": [
    "\n",
    "### giunto\n",
    "\n",
    "✪✪ Scrivi una funzione che date due tuple di caratteri `ta` e `tb` aventi ciascuna caratteri diversi (possono essere anche vuote), se la tupla `ta` termina con lo stesso carattere con cui `tb` inizia, RITORNA la concatenazione di `ta` e `tb` SENZA caratteri duplicati, altrimenti RITORNA una tupla vuota.\n",
    "\n",
    "Esempio:\n",
    "\n",
    "```python\n",
    ">>> giunto(('a','b','c'), ('c','d','e'))\n",
    "('a', 'b', 'c', 'd', 'e')\n",
    ">>> giunto(('a','b'), ('b','c','d'))\n",
    "('a', 'b', 'c', 'd')\n",
    ">>> giunto((),('e','f','g'))\n",
    "()\n",
    ">>> giunto(('a',),('e','f','g'))\n",
    "()\n",
    ">>>  f(('a','b','c'),())\n",
    "()\n",
    ">>> f(('a','b','c'),('d','e'))\n",
    "()\n",
    "```\n"
   ]
  },
  {
   "cell_type": "raw",
   "id": "b34401e5",
   "metadata": {
    "format": "text/html"
   },
   "source": [
    "<a  class=\"jupman-sol jupman-sol-toggler\" \n",
    " onclick=\"jupman.toggleSolution(this);\" \n",
    " data-jupman-show=\"Mostra soluzione\" data-jupman-hide=\"Nascondi\">Mostra soluzione</a><div class=\"jupman-sol jupman-sol-code\" style=\"display:none\">  "
   ]
  },
  {
   "cell_type": "code",
   "execution_count": 85,
   "metadata": {},
   "outputs": [],
   "source": [
    "# scrivi qui\n",
    "\n",
    "def giunto(ta,tb):\n",
    "    if len(ta) > 0 and len(tb) > 0:\n",
    "        if ta[-1] == tb[0]:\n",
    "            return ta[:-1] + tb\n",
    "\n",
    "    return ()"
   ]
  },
  {
   "cell_type": "raw",
   "id": "fbf22104",
   "metadata": {
    "format": "text/html"
   },
   "source": [
    "</div>"
   ]
  },
  {
   "cell_type": "code",
   "execution_count": 85,
   "metadata": {},
   "outputs": [],
   "source": [
    "# scrivi qui\n",
    "\n"
   ]
  },
  {
   "cell_type": "markdown",
   "metadata": {},
   "source": [
    "## Verifica comprensione\n",
    "\n",
    "<div class=\"alert alert-warning\">\n",
    "\n",
    "**ATTENZIONE**\n",
    "\n",
    "Gli esercizi che segueno contengono dei test con gli _assert_. Per capire come svolgerli, leggi prima [Gestione errori e testing](https://it.softpython.org/errors-and-testing/errors-and-testing-sol.html) \n",
    "\n",
    "</div>\n"
   ]
  },
  {
   "cell_type": "markdown",
   "metadata": {},
   "source": [
    "\n",
    "### doppie\n",
    "\n",
    "✪✪ Prende in input una lista con `n` numeri interi, e RITORNA una NUOVA lista che \n",
    "contiene `n` tuple ciascuna da due elementi. Ogni tupla contiene un numero \n",
    "preso dalla corrispondente posizione della lista di partenza, e il suo doppio. \n",
    "\n",
    "Per esempio:\n",
    "\n",
    "```python\n",
    "doppie([ 5, 3, 8])\n",
    "```\n",
    "\n",
    "deve dare la nuova lista\n",
    "\n",
    "```python\n",
    "[(5,10), (3,6), (8,16)]\n",
    "```\n",
    "\n",
    "\n"
   ]
  },
  {
   "cell_type": "raw",
   "id": "4bfd2487",
   "metadata": {
    "format": "text/html"
   },
   "source": [
    "<a  class=\"jupman-sol jupman-sol-toggler\" \n",
    " onclick=\"jupman.toggleSolution(this);\" \n",
    " data-jupman-show=\"Mostra soluzione\" data-jupman-hide=\"Nascondi\">Mostra soluzione</a><div class=\"jupman-sol jupman-sol-code\" style=\"display:none\">  "
   ]
  },
  {
   "cell_type": "code",
   "execution_count": 86,
   "metadata": {},
   "outputs": [],
   "source": [
    "def doppie(lista):\n",
    "    \n",
    "    ret = []\n",
    "    for elemento in lista:\n",
    "        ret.append((elemento, elemento * 2))\n",
    "    return ret\n",
    "    \n",
    "\n",
    "# INIZIO TEST - NON TOCCARE !\n",
    "assert doppie([]) == []\n",
    "assert doppie([3]) == [(3,6)]\n",
    "assert doppie([2,7]) == [(2,4),(7,14)]\n",
    "assert doppie([5,3,8]) == [(5,10), (3,6), (8,16)]\n",
    "\n",
    "# verifica che la lista originale non venga cambiata \n",
    "la = [6]\n",
    "lb = doppie(la)\n",
    "assert la == [6]\n",
    "assert lb == [(6,12)]\n",
    "# FINE TEST"
   ]
  },
  {
   "cell_type": "raw",
   "id": "7a6cb5cb",
   "metadata": {
    "format": "text/html"
   },
   "source": [
    "</div>"
   ]
  },
  {
   "cell_type": "code",
   "execution_count": 86,
   "metadata": {},
   "outputs": [],
   "source": [
    "def doppie(lista):\n",
    "    raise Exception('TODO IMPLEMENT ME !')\n",
    "\n",
    "# INIZIO TEST - NON TOCCARE !\n",
    "assert doppie([]) == []\n",
    "assert doppie([3]) == [(3,6)]\n",
    "assert doppie([2,7]) == [(2,4),(7,14)]\n",
    "assert doppie([5,3,8]) == [(5,10), (3,6), (8,16)]\n",
    "\n",
    "# verifica che la lista originale non venga cambiata \n",
    "la = [6]\n",
    "lb = doppie(la)\n",
    "assert la == [6]\n",
    "assert lb == [(6,12)]\n",
    "# FINE TEST"
   ]
  },
  {
   "cell_type": "markdown",
   "metadata": {},
   "source": [
    "### nasty\n",
    "\n",
    "✪✪✪ Date due tuple `ta` di caratteri e `tb` di numeri interi positivi, scrivere una funzione `nasty` che RITORNA una tupla avente stringhe da due caratteri: il primo carattere è preso da `ta`, e il secondo carattere è un numero preso dalla posizione corrispondente in `tb`.\n",
    "Le stringhe vengono ripetute per un numero di volte pari a quel numero.\n",
    "\n",
    "```python\n",
    ">>> nasty(('u','r','g'), (4,2,3))\n",
    "('u4', 'u4', 'u4', 'u4', 'r2', 'r2', 'g3', 'g3', 'g3')\n",
    "\n",
    ">>> nasty(('g','a','s','p'), (2,4,1,3))\n",
    "('g2', 'g2', 'a4', 'a4', 'a4', 'a4', 's1', 'p3', 'p3', 'p3')\n",
    "```"
   ]
  },
  {
   "cell_type": "raw",
   "id": "f89ab756",
   "metadata": {
    "format": "text/html"
   },
   "source": [
    "<a  class=\"jupman-sol jupman-sol-toggler\" \n",
    " onclick=\"jupman.toggleSolution(this);\" \n",
    " data-jupman-show=\"Mostra soluzione\" data-jupman-hide=\"Nascondi\">Mostra soluzione</a><div class=\"jupman-sol jupman-sol-code\" style=\"display:none\">  "
   ]
  },
  {
   "cell_type": "code",
   "execution_count": 87,
   "metadata": {},
   "outputs": [],
   "source": [
    "def nasty(ta, tb):\n",
    "    \n",
    "    i = 0\n",
    "    ret = []\n",
    "    while i < len(tb):\n",
    "        s = ta[i]+str(tb[i])    \n",
    "        ret.extend( (s,) * tb[i] )\n",
    "        i += 1\n",
    "    return tuple(ret)\n",
    "    \n",
    "        \n",
    "# INIZIO TEST - NON TOCCARE !        \n",
    "assert nasty(('a',), (3,)) == ('a3','a3','a3')\n",
    "assert nasty(('a','b'), (3,1)) == ('a3','a3','a3','b1')\n",
    "assert nasty(('u','r','g'), (4,2,3)) == ('u4', 'u4', 'u4', 'u4', 'r2', 'r2', 'g3', 'g3', 'g3')\n",
    "assert nasty(('g','a','s','p'), (2,4,1,3)) == ('g2', 'g2', 'a4', 'a4', 'a4', 'a4', 's1', 'p3', 'p3', 'p3')\n",
    "# FINE TEST"
   ]
  },
  {
   "cell_type": "raw",
   "id": "c41f1393",
   "metadata": {
    "format": "text/html"
   },
   "source": [
    "</div>"
   ]
  },
  {
   "cell_type": "code",
   "execution_count": 87,
   "metadata": {},
   "outputs": [],
   "source": [
    "def nasty(ta, tb):\n",
    "    raise Exception('TODO IMPLEMENT ME !')\n",
    "        \n",
    "# INIZIO TEST - NON TOCCARE !        \n",
    "assert nasty(('a',), (3,)) == ('a3','a3','a3')\n",
    "assert nasty(('a','b'), (3,1)) == ('a3','a3','a3','b1')\n",
    "assert nasty(('u','r','g'), (4,2,3)) == ('u4', 'u4', 'u4', 'u4', 'r2', 'r2', 'g3', 'g3', 'g3')\n",
    "assert nasty(('g','a','s','p'), (2,4,1,3)) == ('g2', 'g2', 'a4', 'a4', 'a4', 'a4', 's1', 'p3', 'p3', 'p3')\n",
    "# FINE TEST"
   ]
  },
  {
   "cell_type": "markdown",
   "metadata": {},
   "source": [
    "## Prosegui\n",
    "\n",
    "Prosegui con le [challenges](https://it.softpython.org/tuples/tuples2-chal.html)"
   ]
  }
 ],
 "metadata": {
  "celltoolbar": "Edit Metadata",
  "kernelspec": {
   "display_name": "Python 3",
   "language": "python",
   "name": "python3"
  },
  "language_info": {
   "codemirror_mode": {
    "name": "ipython",
    "version": 3
   },
   "file_extension": ".py",
   "mimetype": "text/x-python",
   "name": "python",
   "nbconvert_exporter": "python",
   "pygments_lexer": "ipython3",
   "version": "3.7.10"
  },
  "toc": {
   "base_numbering": 1,
   "nav_menu": {},
   "number_sections": false,
   "sideBar": true,
   "skip_h1_title": false,
   "title_cell": "Table of Contents",
   "title_sidebar": "Contents",
   "toc_cell": false,
   "toc_position": {},
   "toc_section_display": true,
   "toc_window_display": true
  }
 },
 "nbformat": 4,
 "nbformat_minor": 2
}

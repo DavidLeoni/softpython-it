{
 "cells": [
  {
   "cell_type": "markdown",
   "id": "worst-going",
   "metadata": {},
   "source": [
    "# Cicli while 2 - Challenges\n",
    "\n",
    "## [Scarica zip esercizi](../_static/generated/while.zip)\n",
    "\n",
    "[Naviga file online](https://github.com/DavidLeoni/softpython-it/tree/master/while)"
   ]
  },
  {
   "cell_type": "markdown",
   "id": "impossible-cambodia",
   "metadata": {},
   "source": [
    "Proponiamo ora degli esercizi senza soluzione, accetti la sfida? "
   ]
  },
  {
   "cell_type": "markdown",
   "id": "nonprofit-element",
   "metadata": {},
   "source": [
    "## Sfida - Se magna\n",
    "\n",
    "✪✪ Requisiti: `if`, `while`\n",
    "\n",
    "C'è una festa post-esame, e siamo affamati. Bisogna servire dei panini con hamburger. Abbiamo un certo numero di panini e dei burgers, non necessariamente nella stessa quantità. Dovremo servire panini fino a quando o il pane o i burger finiscono. Alla fine avviseremo se sono avanzati ingredienti.\n",
    "\n",
    "Scrivi del codice che MODIFICA l'input e STAMPA dettagliatamente la procedura eseguita.\n",
    "\n",
    "Esempio:\n",
    "    \n",
    "```python    \n",
    "panini, burgers = 3, 5\n",
    "```\n",
    "\n",
    "stampa:\n",
    "\n",
    "```\n",
    "Servito un panino: 2 panini rimanenti, 4 burger rimanenti\n",
    "Servito un panino: 1 panini rimanenti, 3 burger rimanenti\n",
    "Servito un panino: 0 panini rimanenti, 2 burger rimanenti\n",
    "Avanzano 2 burger.\n",
    "```"
   ]
  },
  {
   "cell_type": "code",
   "execution_count": 1,
   "id": "revised-algebra-stripped",
   "metadata": {},
   "outputs": [],
   "source": [
    "\n",
    "panini, burgers = 3, 5   # Servito bla bla... alla fine stampa 'Avanzano 2 burger.'\n",
    "#panini, burgers = 9,3   # Servito bla bla... alla fine stampa 'Avanzano 6 panini.'\n",
    "#panini, burgers = 4,4   # Servito bla bla... alla fine stampa 'credenza vuota!'\n",
    "\n",
    "# scrivi qui\n",
    "\n"
   ]
  },
  {
   "cell_type": "markdown",
   "id": "neural-investment",
   "metadata": {},
   "source": [
    "\n",
    "## Sfida - Il Dungeon\n",
    "\n",
    "✪✪✪ Requisiti: `while`, `if`, `liste`\n",
    "\n",
    "Un cavaliere si inoltra in una caverna alla ricerca di oggetti preziosi. Appena trova quello che sta cercando, esulta e torna indietro. \n",
    "\n",
    "Rappresentiamo la `caverna` come una lista di stringhe. L'oggetto da cercare è indicato nella variabile `cerco`. \n",
    "\n",
    "Scrivi del codice che date le voci STAMPA il percorso.\n",
    "\n",
    "- **USA** un  `while`\n",
    "- **NON USARE** `break` !!\n",
    "- **NON USARE** metodi di ricerca come `.index` o `count`"
   ]
  },
  {
   "cell_type": "markdown",
   "id": "hairy-armenia",
   "metadata": {},
   "source": [
    "**Esempio 1** - Dati:\n",
    "\n",
    "```python\n",
    "cerco = 'il tesoro'\n",
    "caverna = ['un masso','una trappola','delle spade',\n",
    "           'il tesoro','una ragnatela', 'un boleto delle tombe']\n",
    "\n",
    "```\n",
    "\n",
    "stampa:\n",
    "\n",
    "```    \n",
    "Entro\n",
    "Vedo un masso\n",
    "Vedo una trappola\n",
    "Vedo delle spade\n",
    "Che fortuna! Ho trovato il tesoro\n",
    "Torno indietro!\n",
    "Vedo delle spade\n",
    "Vedo una trappola\n",
    "Vedo un masso\n",
    "Esco\n",
    "```"
   ]
  },
  {
   "cell_type": "markdown",
   "id": "sharing-congo",
   "metadata": {},
   "source": [
    "**Esempio 2:** Una lista può anche *non* contenere l'oggetto cercato, in tal caso bisognerà  mostrare un messaggio apposito. Per es, dati:\n",
    "\n",
    "```python    \n",
    "cerco = 'il talismano del potere'\n",
    "caverna = ['una trappola','un boleto delle tombe','una ragnatela']\n",
    "```    \n",
    "\n",
    "stampa:\n",
    "\n",
    "```    \n",
    "Entro\n",
    "Vedo una trappola\n",
    "Vedo un boleto delle tombe\n",
    "Vedo una ragnatela\n",
    "Purtroppo il talismano del potere non c'è\n",
    "Torno indietro!\n",
    "Vedo una ragnatela\n",
    "Vedo un boleto delle tombe\n",
    "Vedo una trappola\n",
    "Esco\n",
    "```"
   ]
  },
  {
   "cell_type": "code",
   "execution_count": 2,
   "id": "special-amazon-stripped",
   "metadata": {},
   "outputs": [],
   "source": [
    "\n",
    "cerco,caverna='il tesoro', ['un masso','una trappola','delle spade','il tesoro','una ragnatela','un boleto delle tombe']\n",
    "\n",
    "#cerco,caverna = 'il talismano del potere', ['una trappola','un boleto delle tombe','una ragnatela']\n",
    "#cerco, caverna = 'la corona di rubini', []                         # funziona anche in questi casi particolari?\n",
    "#cerco, caverna = 'la corona di rubini', ['la corona di rubini']    # \n",
    "#cerco, caverna = 'la corona di rubini', ['il martello di granito'] # \n",
    "\n",
    "# scrivi qui\n",
    "\n"
   ]
  },
  {
   "cell_type": "code",
   "execution_count": 3,
   "id": "nasty-sampling-stripped",
   "metadata": {
    "nbsphinx": "hidden"
   },
   "outputs": [],
   "source": []
  }
 ],
 "metadata": {
  "kernelspec": {
   "display_name": "Python 3 (ipykernel)",
   "language": "python",
   "name": "python3"
  },
  "language_info": {
   "codemirror_mode": {
    "name": "ipython",
    "version": 3
   },
   "file_extension": ".py",
   "mimetype": "text/x-python",
   "name": "python",
   "nbconvert_exporter": "python",
   "pygments_lexer": "ipython3",
   "version": "3.7.10"
  },
  "toc": {
   "base_numbering": 1,
   "nav_menu": {},
   "number_sections": false,
   "sideBar": true,
   "skip_h1_title": false,
   "title_cell": "Table of Contents",
   "title_sidebar": "Contents",
   "toc_cell": false,
   "toc_position": {},
   "toc_section_display": true,
   "toc_window_display": true
  }
 },
 "nbformat": 4,
 "nbformat_minor": 5
}

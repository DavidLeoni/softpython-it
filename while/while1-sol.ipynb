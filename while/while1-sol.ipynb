{
 "cells": [
  {
   "cell_type": "code",
   "execution_count": 1,
   "metadata": {
    "nbsphinx": "hidden"
   },
   "outputs": [],
   "source": [
    "# Ricordati di eseguire questa cella con Shift+Invio\n",
    "\n",
    "import jupman"
   ]
  },
  {
   "cell_type": "markdown",
   "metadata": {},
   "source": [
    "# Cicli while 1 - introduzione\n",
    "\n",
    "## [Scarica zip esercizi](../_static/generated/while.zip)\n",
    "\n",
    "[Naviga file online](https://github.com/DavidLeoni/softpython-it/tree/master/while)"
   ]
  },
  {
   "cell_type": "markdown",
   "metadata": {},
   "source": [
    "\n",
    "Vediamo come ripetere delle istruzioni eseguendole all'interno dei cicli `while`. \n",
    "\n",
    "La caratteristica principale del ciclo `while` è che permette di controllare esplicitamente la condizione di fine del ciclo. Tipicamente, si utilizzano questi cicli quando si deve _iterare_ su una sequenza la cui dimensione non è nota a priori, varia nel tempo oppure vi sono diverse condizioni che potrebbero determinare la fine del ciclo."
   ]
  },
  {
   "cell_type": "markdown",
   "metadata": {},
   "source": [
    "### Che fare\n",
    "\n",
    "1. scompatta lo zip in una cartella, dovresti ottenere qualcosa del genere: \n",
    "\n",
    "```\n",
    "\n",
    "while\n",
    "    while1.ipynb\n",
    "    while1-sol.ipynb\n",
    "    while2-chal.ipynb\n",
    "    jupman.py    \n",
    "```\n",
    "\n",
    "<div class=\"alert alert-warning\">\n",
    "\n",
    "**ATTENZIONE**: Per essere visualizzato correttamente, il file del notebook DEVE essere nella cartella szippata.\n",
    "</div>\n",
    "\n",
    "2. apri il Jupyter Notebook da quella cartella. Due cose dovrebbero aprirsi, prima una console e poi un browser. Il browser dovrebbe mostrare una lista di file: naviga la lista e apri il notebook `while1.ipynb`\n",
    "3. Prosegui leggendo il file degli esercizi, ogni tanto al suo interno troverai delle scritte **ESERCIZIO**, che ti chiederanno di scrivere dei comandi Python nelle celle successive."
   ]
  },
  {
   "cell_type": "markdown",
   "metadata": {},
   "source": [
    "Scorciatoie da tastiera:\n",
    "\n",
    "* Per eseguire il codice Python dentro una cella di Jupyter, premi `Control+Invio`\n",
    "* Per eseguire il codice Python dentro una cella di Jupyter E selezionare la cella seguente, premi `Shift+Invio`\n",
    "* Per eseguire il codice Python dentro una cella di Jupyter E creare una nuova cella subito dopo, premi `Alt+Invio`\n",
    "* Se per caso il Notebook sembra inchiodato, prova a selezionare `Kernel -> Restart`"
   ]
  },
  {
   "cell_type": "markdown",
   "metadata": {},
   "source": [
    "## Contare con un while\n",
    "\n",
    "Un ciclo `while` è un blocco di codice che viene eseguito quando si verifica una certa condizione booleana. Il blocco di codice viene ripetutamente eseguito fintantochè la condizione è vera.\n",
    "\n",
    "Vediamo un esempio:"
   ]
  },
  {
   "cell_type": "code",
   "execution_count": 2,
   "metadata": {},
   "outputs": [
    {
     "name": "stdout",
     "output_type": "stream",
     "text": [
      "Ho contato fino a 1\n",
      "Ho contato fino a 2\n",
      "Ho contato fino a 3\n",
      "Ciclo finito !\n"
     ]
    }
   ],
   "source": [
    "i = 1\n",
    "\n",
    "while i < 4:\n",
    "    print('Ho contato fino a', i)\n",
    "    i += 1\n",
    "    \n",
    "print('Ciclo finito !')"
   ]
  },
  {
   "cell_type": "markdown",
   "metadata": {},
   "source": [
    "Nell'esempio, la condizione booleana è\n",
    "\n",
    "```python\n",
    "i < 4\n",
    "```\n",
    "\n",
    "mentre il blocco di codice da eseguire ripetutamente è \n",
    "\n",
    "```python\n",
    "    print('Ho contato fino a', i)\n",
    "    i += 1\n",
    "```\n",
    "\n",
    "Come in tutti blocchi di codice Python, il blocco va indentato con gli spazi (di solito 4). \n",
    "\n",
    "Guarda meglio l'esecuzione in Python Tutor e leggi il commento che segue."
   ]
  },
  {
   "cell_type": "code",
   "execution_count": 3,
   "metadata": {},
   "outputs": [],
   "source": [
    "# AFFINCHE' PYTHON TUTOR FUNZIONI, RICORDATI DI ESEGUIRE QUESTA CELLA con Shift+Invio\n",
    "#   (basta eseguirla una volta sola, la trovi anche all'inizio di ogni foglio)\n",
    "\n",
    "import jupman"
   ]
  },
  {
   "cell_type": "code",
   "execution_count": 4,
   "metadata": {},
   "outputs": [
    {
     "name": "stdout",
     "output_type": "stream",
     "text": [
      "Ho contato fino a 1\n",
      "Ho contato fino a 2\n",
      "Ho contato fino a 3\n",
      "Ciclo finito !\n"
     ]
    },
    {
     "data": {
      "text/html": [
       "        \n",
       "        <script src=\"../_static/js/pytutor-embed.bundle.min.js\" type=\"application/javascript\"></script>\n",
       "    \n",
       "        <style>\n",
       "        @import \"../_static/css/jupman.css\";\n",
       "        </style>\n",
       "     \n",
       "        <script id=\"json-jm-d294cd9c5e57cab69527e72d7ed0e577-6\" type=\"application/json\" >\n",
       "            {\"code\": \" \\ni = 1\\nwhile i < 4:\\n    print('Ho contato fino a', i)\\n    i += 1\\n    \\nprint('Ciclo finito !')\", \"trace\": [{\"line\": 2, \"event\": \"step_line\", \"func_name\": \"<module>\", \"globals\": {}, \"ordered_globals\": [], \"stack_to_render\": [], \"heap\": {}, \"stdout\": \"\"}, {\"line\": 3, \"event\": \"step_line\", \"func_name\": \"<module>\", \"globals\": {\"i\": 1}, \"ordered_globals\": [\"i\"], \"stack_to_render\": [], \"heap\": {}, \"stdout\": \"\"}, {\"line\": 4, \"event\": \"step_line\", \"func_name\": \"<module>\", \"globals\": {\"i\": 1}, \"ordered_globals\": [\"i\"], \"stack_to_render\": [], \"heap\": {}, \"stdout\": \"\"}, {\"line\": 5, \"event\": \"step_line\", \"func_name\": \"<module>\", \"globals\": {\"i\": 1}, \"ordered_globals\": [\"i\"], \"stack_to_render\": [], \"heap\": {}, \"stdout\": \"Ho contato fino a 1\\n\"}, {\"line\": 3, \"event\": \"step_line\", \"func_name\": \"<module>\", \"globals\": {\"i\": 2}, \"ordered_globals\": [\"i\"], \"stack_to_render\": [], \"heap\": {}, \"stdout\": \"Ho contato fino a 1\\n\"}, {\"line\": 4, \"event\": \"step_line\", \"func_name\": \"<module>\", \"globals\": {\"i\": 2}, \"ordered_globals\": [\"i\"], \"stack_to_render\": [], \"heap\": {}, \"stdout\": \"Ho contato fino a 1\\n\"}, {\"line\": 5, \"event\": \"step_line\", \"func_name\": \"<module>\", \"globals\": {\"i\": 2}, \"ordered_globals\": [\"i\"], \"stack_to_render\": [], \"heap\": {}, \"stdout\": \"Ho contato fino a 1\\nHo contato fino a 2\\n\"}, {\"line\": 3, \"event\": \"step_line\", \"func_name\": \"<module>\", \"globals\": {\"i\": 3}, \"ordered_globals\": [\"i\"], \"stack_to_render\": [], \"heap\": {}, \"stdout\": \"Ho contato fino a 1\\nHo contato fino a 2\\n\"}, {\"line\": 4, \"event\": \"step_line\", \"func_name\": \"<module>\", \"globals\": {\"i\": 3}, \"ordered_globals\": [\"i\"], \"stack_to_render\": [], \"heap\": {}, \"stdout\": \"Ho contato fino a 1\\nHo contato fino a 2\\n\"}, {\"line\": 5, \"event\": \"step_line\", \"func_name\": \"<module>\", \"globals\": {\"i\": 3}, \"ordered_globals\": [\"i\"], \"stack_to_render\": [], \"heap\": {}, \"stdout\": \"Ho contato fino a 1\\nHo contato fino a 2\\nHo contato fino a 3\\n\"}, {\"line\": 3, \"event\": \"step_line\", \"func_name\": \"<module>\", \"globals\": {\"i\": 4}, \"ordered_globals\": [\"i\"], \"stack_to_render\": [], \"heap\": {}, \"stdout\": \"Ho contato fino a 1\\nHo contato fino a 2\\nHo contato fino a 3\\n\"}, {\"line\": 7, \"event\": \"step_line\", \"func_name\": \"<module>\", \"globals\": {\"i\": 4}, \"ordered_globals\": [\"i\"], \"stack_to_render\": [], \"heap\": {}, \"stdout\": \"Ho contato fino a 1\\nHo contato fino a 2\\nHo contato fino a 3\\n\"}, {\"line\": 7, \"event\": \"return\", \"func_name\": \"<module>\", \"globals\": {\"i\": 4}, \"ordered_globals\": [\"i\"], \"stack_to_render\": [], \"heap\": {}, \"stdout\": \"Ho contato fino a 1\\nHo contato fino a 2\\nHo contato fino a 3\\nCiclo finito !\\n\"}]}\n",
       "        </script>\n",
       "        <div id=\"jm-d294cd9c5e57cab69527e72d7ed0e577-6\" class=\"pytutorVisualizer\"> </div>\n",
       "                        \n",
       "        <script>\n",
       "        \n",
       "        (function(){\n",
       "            console.log(\"jupman.py embedded javascript: adding Python tutor visualizer...\")\n",
       "            \n",
       "            var trace = JSON.parse(document.getElementById('json-jm-d294cd9c5e57cab69527e72d7ed0e577-6').innerHTML);                                        \n",
       "            // NOTE: id without #\n",
       "                    \n",
       "            addVisualizerToPage(trace, 'jm-d294cd9c5e57cab69527e72d7ed0e577-6',{'embeddedMode' : false,\n",
       "                                             'disableHeapNesting': true,\n",
       "                                             'visualizerIdOverride':'viz-jm-d294cd9c5e57cab69527e72d7ed0e577-6'})  \n",
       "            \n",
       "            \n",
       "            // set overflow for pytuts - need to do in python as css \n",
       "            // does not allow parent selection\n",
       "            var pytuts = $('.pytutorVisualizer')\n",
       "            pytuts.closest('div.output_html.rendered_html.output_result')\n",
       "                    .css('overflow-x', 'visible')\n",
       "        \n",
       "            //pytuts.closest('div.output_html.rendered_html.output_result')\n",
       "            //      .css('background-color','red')                \n",
       "            \n",
       "        })()\n",
       "        </script>\n",
       "                \n",
       "    \n",
       "    <div style=\"text-align:center; font-size:0.9em\"> <a href=\"https://pythontutor.com/visualize.html#mode=edit\" target=\"_blank\">Python Tutor</a> visualization</div> \n",
       "    "
      ],
      "text/plain": [
       "<IPython.core.display.HTML object>"
      ]
     },
     "execution_count": 4,
     "metadata": {},
     "output_type": "execute_result"
    }
   ],
   "source": [
    "i = 1\n",
    "while i < 4:\n",
    "    print('Ho contato fino a', i)\n",
    "    i += 1\n",
    "    \n",
    "print('Ciclo finito !')\n",
    "\n",
    "jupman.pytut()"
   ]
  },
  {
   "cell_type": "markdown",
   "metadata": {},
   "source": [
    "Nell'esempio abbiamo usato una variabile che abbiamo chiamato `i` e l'abbiamo inizializzata a zero.\n",
    "\n",
    "All'inizio del ciclo `i` vale `1`, perciò l'espressione booleana `i < 4` viene valutata come `True`. Dato che è `True`, l'esecuzione procede all'interno del blocco con la `print` e infine MODIFICA `i` con l'incremento `i += 1`.\n",
    "\n",
    "A questo punto l'esecuzione riprende alla riga del `while`, e la condizione `i < 4` viene valutata di nuovo. A questa seconda iterazione `i` vale `2` perciò l'espressione booleana `i < 4` viene ancora valutata a `True` e l'esecuzione rimane all'interno del blocco. Di nuovo, viene fatta la stampa con la `print` e incrementata `i`. \n",
    "\n",
    "Viene fatto ancora un'altro ciclo finchè `i` vale 4. A quel punto `i < 4` produce `False` e in quel momento l'esecuzione _esce_ dal blocco `while` e prosegue con i comandi allo stesso livello di indentazione del `while`"
   ]
  },
  {
   "cell_type": "markdown",
   "metadata": {},
   "source": [
    "### `while` che terminano\n",
    "\n",
    "Quando abbiamo un ciclo `while`, tipicamente vogliamo che prima o poi termini (i programmi che 'si impallano' non sono molto graditi agli utenti ...).  Per garantire la terminazione, abbiamo bisogno di:\n",
    "\n",
    "1. inizializzare una variabile all'esterno del ciclo\n",
    "2. una condizione dopo la scritta `while` che valuta quella variabile (e opzionalmente altro)\n",
    "3. almeno una istruzione nel blocco interno che MODIFICA la variabile, portandola prima o poi a soddisfare la condizione 2\n",
    "\n",
    "Se uno qualsiasi di questi punti viene omesso, avremo problemi. Proviamo di proposito a dimenticarci di rispettarli: "
   ]
  },
  {
   "cell_type": "markdown",
   "metadata": {},
   "source": [
    "**Errore 1: omettere l'inizializzazione.**  Come in tutti i casi in Python in cui ci si è dimenticati di inizializzare una variabile (proviamo in questo caso `j`), l'esecuzione si interrompe non appena si cerca di usare la variabile:\n",
    "\n",
    "```python\n",
    "print('Sto per entrare nel ciclo ..')\n",
    "while j < 4:\n",
    "    print('Ho contato fino a', j)\n",
    "    j += 1\n",
    "    \n",
    "print('Ciclo finito !')\n",
    "\n",
    "```\n",
    "\n",
    "```\n",
    "Sto per entrare nel ciclo ..\n",
    "---------------------------------------------------------------------------\n",
    "NameError                                 Traceback (most recent call last)\n",
    "<ipython-input-277-3f311955204d> in <module>()\n",
    "      1 print('Sto per entrare nel ciclo ..')\n",
    "----> 2 while j < 4:\n",
    "      3     print('Ho contato fino a', j)\n",
    "      4     j += 1\n",
    "      5 \n",
    "\n",
    "NameError: name 'j' is not defined\n",
    "\n",
    "```"
   ]
  },
  {
   "cell_type": "markdown",
   "metadata": {},
   "source": [
    "**Errore 2: omettere di usare la variabile nella condizione.** Se ci si dimentica di valutare la variabile, per esempio usandone per sbaglio un'altra (supponiamo `x`), il ciclo non terminerà mai:\n",
    "\n",
    "```python\n",
    "i = 1\n",
    "x = 1\n",
    "print('Sto per entrare nel ciclo ..')\n",
    "while x < 4:   # valuta x invece di i\n",
    "    print('Ho contato fino a', i)\n",
    "    i += 1\n",
    "    \n",
    "print('Ciclo finito !')\n",
    "```\n",
    "```\n",
    "\n",
    "Sto per entrare nel ciclo ..\n",
    "Ho contato fino a 1\n",
    "Ho contato fino a 2\n",
    "Ho contato fino a 3\n",
    "Ho contato fino a 4\n",
    "Ho contato fino a 5\n",
    "Ho contato fino a 6\n",
    ".\n",
    ".\n",
    "\n",
    "```"
   ]
  },
  {
   "cell_type": "markdown",
   "metadata": {},
   "source": [
    "**Errore 3: Omettere di MODIFICARE la variabile nel blocco interno.** Se ci si dimentica di mettere almeno un'istruzione che MODIFICA la variabile usata nella condizione, quando la condizione viene valutata produrrà sempre lo stesso valore booleano `False` impedendo l'uscita dal ciclo:\n",
    "\n",
    "```python\n",
    "i = 1\n",
    "print('Sto per entrare nel ciclo ..')\n",
    "while i < 4:\n",
    "    print('Ho contato fino a', i)        \n",
    "\n",
    "print('Ciclo finito !')\n",
    "```\n",
    "\n",
    "```\n",
    "Sto per entrare nel ciclo ..\n",
    "Ho contato fino a 1\n",
    "Ho contato fino a 1\n",
    "Ho contato fino a 1\n",
    "Ho contato fino a 1\n",
    "Ho contato fino a 1\n",
    ".\n",
    ".\n",
    "```"
   ]
  },
  {
   "cell_type": "markdown",
   "metadata": {},
   "source": [
    "### `while` che non terminano\n",
    "\n",
    "**DOMANDA**: Riesci ad immaginare un programma che _non_ deve terminare mai?"
   ]
  },
  {
   "cell_type": "raw",
   "id": "6ee9bf9f",
   "metadata": {
    "format": "text/html"
   },
   "source": [
    "<a  class=\"jupman-sol jupman-sol-toggler\" \n",
    " onclick=\"jupman.toggleSolution(this);\" \n",
    " data-jupman-show=\"Mostra risposta\" data-jupman-hide=\"Nascondi\">Mostra risposta</a><div class=\"jupman-sol jupman-sol-question\" style=\"display:none\">  "
   ]
  },
  {
   "cell_type": "markdown",
   "metadata": {},
   "source": [
    "**RISPOSTA**: se abiti vicino ad una centrale idroelettrica o nucleare, cosa succede se il programma che regola il livello dell'acqua termina ? \n",
    "\n",
    "Oppure: se sei in aereo e il programma che controlla il flusso di carburante ai motori si blocca improvvisamente è un problema? \n",
    "\n",
    "Tutti i programmi se scritti bene devono prevedere la terminazione, ma alcuni software vengono eseguiti così a lungo che la terminazione è da considerarsi un evento eccezionale."
   ]
  },
  {
   "cell_type": "raw",
   "id": "bb1d1519",
   "metadata": {
    "format": "text/html"
   },
   "source": [
    "</div>"
   ]
  },
  {
   "cell_type": "markdown",
   "metadata": {},
   "source": [
    "### Domande"
   ]
  },
  {
   "cell_type": "markdown",
   "metadata": {},
   "source": [
    "**DOMANDA**: Guarda i seguenti frammenti di codice, e per ciascuno cerca di indovinare quale risultato produce (o se da errore):\n",
    "\n",
    "1.  ```python\n",
    "    i = 0\n",
    "    while i < 3:\n",
    "    print(i)    \n",
    "    ```\n",
    "1.  ```python\n",
    "    k = 0\n",
    "    while k < 5:\n",
    "        print(k)\n",
    "        k + 1\n",
    "    ```    \n",
    "1.  ```python\n",
    "    i = 0\n",
    "    while i < 3:\n",
    "        print(i)\n",
    "    i += 1\n",
    "    ```    \n",
    "1.  ```python\n",
    "    i = 0\n",
    "    while False:\n",
    "        print(i)\n",
    "        i += 1\n",
    "    print('Finito !')\n",
    "    ```\n",
    "    \n",
    "1.  ```python\n",
    "    i = 0\n",
    "    while i < 3:\n",
    "        print(i)\n",
    "        i += 1\n",
    "    ```   \n",
    "1.  ```python\n",
    "    k = 0\n",
    "    while k < 2\n",
    "        print(i)\n",
    "        k += 1\n",
    "    ```        \n",
    "1.  ```python\n",
    "    i = 0\n",
    "    while i < 3:\n",
    "        print('GAM')\n",
    "        i = i + 1\n",
    "    ```\n",
    "1.  ```python\n",
    "    while zanza < 2\n",
    "        print('ZANZA')\n",
    "        zanza += 1\n",
    "    ```         \n",
    "1.  ```python\n",
    "    i = 0\n",
    "    while False:\n",
    "        print(i)\n",
    "        i = i + 1\n",
    "    print('DARK')\n",
    "    ```\n",
    "1.  ```python\n",
    "    i = 0\n",
    "    while True:\n",
    "        print(i)\n",
    "        i = i + 1\n",
    "    print('LIGHT')\n",
    "    ```\n",
    "1.  ```python\n",
    "    while 2 + 3:\n",
    "        print('z')\n",
    "    print('')\n",
    "    ```\n",
    "1.  ```python\n",
    "    i = 10\n",
    "    while i > 0:\n",
    "        if i > 5:\n",
    "            print(i)\n",
    "            i -= 1\n",
    "    print('WAM')\n",
    "    ```\n",
    "1.  ```python\n",
    "    i = 10\n",
    "    while i > 0:\n",
    "        if i > 5:\n",
    "            print(i)\n",
    "        i -= 1\n",
    "    print('MAW')\n",
    "    ```\n",
    "\n",
    "1.  ```python\n",
    "    import random\n",
    "    x = 0\n",
    "    while  x < 7:\n",
    "        x = random.randint(1,10)\n",
    "        print(x)\n",
    "\n",
    "    print('LUCK')\n",
    "    ```\n",
    "1.  ```python\n",
    "    x,y = 0,0\n",
    "    while x + y < 4:\n",
    "        x += 1\n",
    "        y += 1\n",
    "        print(x,y)\n",
    "    ```\n",
    "1.  ```python\n",
    "    x,y = 0,3\n",
    "    while x < y:\n",
    "        print(x,y)\n",
    "        x += 1\n",
    "        y -= 1\n",
    "    ```"
   ]
  },
  {
   "cell_type": "markdown",
   "metadata": {},
   "source": [
    "### Esercizi "
   ]
  },
  {
   "cell_type": "markdown",
   "metadata": {},
   "source": [
    "### Esercizio - stampari\n",
    "\n",
    "✪ Scrivi del codice che in un ciclo `while` stampa tutti i numeri dispari da `1` a `k`\n",
    "\n",
    "- per `k<1` non stampa nulla\n",
    "\n",
    "Esempio - dati:\n",
    "\n",
    "```python\n",
    "k = 5\n",
    "```\n",
    "\n",
    "dopo il tuo codice deve stampare:\n",
    "\n",
    "```\n",
    "1\n",
    "3\n",
    "5\n",
    "```\n",
    "\n"
   ]
  },
  {
   "cell_type": "raw",
   "id": "975637b6",
   "metadata": {
    "format": "text/html"
   },
   "source": [
    "<a  class=\"jupman-sol jupman-sol-toggler\" \n",
    " onclick=\"jupman.toggleSolution(this);\" \n",
    " data-jupman-show=\"Mostra soluzione\" data-jupman-hide=\"Nascondi\">Mostra soluzione</a><div class=\"jupman-sol jupman-sol-code\" style=\"display:none\">  "
   ]
  },
  {
   "cell_type": "code",
   "execution_count": 5,
   "metadata": {},
   "outputs": [
    {
     "name": "stdout",
     "output_type": "stream",
     "text": [
      "1\n",
      "3\n",
      "5\n"
     ]
    }
   ],
   "source": [
    "\n",
    "k = 5   # 1 3 5\n",
    "#k = 1  # 1\n",
    "#k = 0  # non stampa\n",
    "\n",
    "# scrivi qui\n",
    "i = 1\n",
    "while i <= k:\n",
    "    if i % 2 == 1:\n",
    "        print(i)\n",
    "    i += 1"
   ]
  },
  {
   "cell_type": "raw",
   "id": "822b3c21",
   "metadata": {
    "format": "text/html"
   },
   "source": [
    "</div>"
   ]
  },
  {
   "cell_type": "code",
   "execution_count": 5,
   "metadata": {},
   "outputs": [],
   "source": [
    "\n",
    "k = 5   # 1 3 5\n",
    "#k = 1  # 1\n",
    "#k = 0  # non stampa\n",
    "\n",
    "# scrivi qui\n",
    "\n"
   ]
  },
  {
   "cell_type": "markdown",
   "metadata": {},
   "source": [
    "### Esercizio - media\n",
    "\n",
    "✪ Scrivi del codice che data una lista `numeri`, calcola la media dei valori della lista usando un `while` e la stampa.\n",
    "\n",
    "- se la lista è vuota, la media si suppone essere `0.0`\n",
    "- **NON** usare la funzione `sum`\n",
    "- NON creare variabili che si chiamano `sum` (violerebbe il [V Comandamento](https://it.softpython.org/commandments.html#V-COMANDAMENTO): non ridifinerai mai funzioni di sistema)\n",
    "\n",
    "\n",
    "Esempio - data:\n",
    "\n",
    "```python\n",
    "numeri = [8,6,5,9]\n",
    "```\n",
    "\n",
    "stampa \n",
    "\n",
    "```\n",
    "7.0\n",
    "```"
   ]
  },
  {
   "cell_type": "raw",
   "id": "7c51eaf5",
   "metadata": {
    "format": "text/html"
   },
   "source": [
    "<a  class=\"jupman-sol jupman-sol-toggler\" \n",
    " onclick=\"jupman.toggleSolution(this);\" \n",
    " data-jupman-show=\"Mostra soluzione\" data-jupman-hide=\"Nascondi\">Mostra soluzione</a><div class=\"jupman-sol jupman-sol-code\" style=\"display:none\">  "
   ]
  },
  {
   "cell_type": "code",
   "execution_count": 6,
   "metadata": {},
   "outputs": [
    {
     "name": "stdout",
     "output_type": "stream",
     "text": [
      "7.0\n"
     ]
    }
   ],
   "source": [
    "\n",
    "numeri = [8,6,5,9] # 7.0\n",
    "#numeri = [3,1,2]  # 2.0\n",
    "#numeri = []       # 0\n",
    "\n",
    "# scrivi qui\n",
    "somma = 0.0\n",
    "i = 0\n",
    "while i < len(numeri):\n",
    "    somma += numeri[i]\n",
    "    i += 1\n",
    "    \n",
    "if len(numeri) > 0:\n",
    "    print(somma / len(numeri))\n",
    "else:\n",
    "    print(0.0)"
   ]
  },
  {
   "cell_type": "raw",
   "id": "39c60792",
   "metadata": {
    "format": "text/html"
   },
   "source": [
    "</div>"
   ]
  },
  {
   "cell_type": "code",
   "execution_count": 6,
   "metadata": {},
   "outputs": [],
   "source": [
    "\n",
    "numeri = [8,6,5,9] # 7.0\n",
    "#numeri = [3,1,2]  # 2.0\n",
    "#numeri = []       # 0\n",
    "\n",
    "# scrivi qui\n",
    "\n"
   ]
  },
  {
   "cell_type": "markdown",
   "metadata": {},
   "source": [
    "## Comandi `break` e `continue`\n",
    "\n",
    "Per avere ancora più controllo sull'esecuzione di un ciclo possiamo usare i comandi `break` e `continue` . \n",
    "\n",
    "<div class=\"alert alert-info\">\n",
    "\n",
    "**NOTA: Cerca di limitarne l'uso!**\n",
    "\n",
    "Quando vi è molto codice nel ciclo è facile 'dimenticarsi' della loro presenza trovandosi con bug difficili da scovare. D'altro canto, in alcuni casi selezionati _possono_ rendere il codice più leggibile, quindi come in tutte le cose vanno usati con giudizio.\n",
    "\n",
    "</div>\n",
    "\n",
    "\n",
    "### Terminare con un `break`\n",
    "\n",
    "Lo schema visto precedentemente per avere `while` terminanti è quello consigliato, ma se abbiamo una condizione che NON valuta la variabile che incrementiamo (come per esempio l'espressione costante `True`), come alternativa per uscire immediatamente dal ciclo si può usare il comando `break`:"
   ]
  },
  {
   "cell_type": "code",
   "execution_count": 7,
   "metadata": {},
   "outputs": [
    {
     "name": "stdout",
     "output_type": "stream",
     "text": [
      "Ho contato fino a 1\n",
      "Ho contato fino a 2\n",
      "Ho contato fino a 3\n",
      "Ho contato fino a 4\n",
      "break! Esco dal ciclo!\n",
      "Ciclo finito !\n"
     ]
    }
   ],
   "source": [
    "i = 1\n",
    "while True: \n",
    "    \n",
    "    print('Ho contato fino a', i)    \n",
    "    \n",
    "    if i > 3:        \n",
    "        print('break! Esco dal ciclo!')\n",
    "        break    \n",
    "        print('Dopo il break')\n",
    "            \n",
    "    i += 1    \n",
    "\n",
    "print('Ciclo finito !')"
   ]
  },
  {
   "cell_type": "markdown",
   "metadata": {},
   "source": [
    "Nota come `Dopo il break` _non_ venga mostrato."
   ]
  },
  {
   "cell_type": "markdown",
   "metadata": {},
   "source": [
    "### Proseguire con `continue`\n",
    "\n",
    "E' possibile portare l'esecuzione immediatamente all'iterazione successiva chiamando `continue`, che salta subito alla verifica della condizione senza eseguire le istruzioni dopo il `continue`.\n",
    "\n",
    "<div class=\"alert alert-warning\">\n",
    "\n",
    "**ATTENZIONE: i** `continue` **se usati male possono creare cicli infiniti !**\n",
    "\n",
    "Quando usi `continue` assicurati che non salti l'istruzione per modificare la varibile usata nella condizione di terminazione (oppure che non salti un `break` necessario per uscire)!\n",
    "</div>"
   ]
  },
  {
   "cell_type": "markdown",
   "metadata": {},
   "source": [
    "Per evitare problemi qui abbiamo incrementato `i`  prima dell'`if` con il `continue`:"
   ]
  },
  {
   "cell_type": "code",
   "execution_count": 8,
   "metadata": {
    "scrolled": true
   },
   "outputs": [
    {
     "name": "stdout",
     "output_type": "stream",
     "text": [
      "Ho contato fino a 1\n",
      "arrivato in fondo\n",
      "Ho contato fino a 2\n",
      "continue, salta alla verifica condizione\n",
      "Ho contato fino a 3\n",
      "arrivato in fondo\n",
      "Ho contato fino a 4\n",
      "continue, salta alla verifica condizione\n",
      "Ciclo finito !\n"
     ]
    }
   ],
   "source": [
    "i = 1\n",
    "while i < 5:     \n",
    "    print('Ho contato fino a', i)\n",
    "    \n",
    "    i += 1\n",
    "    \n",
    "    if i % 2 == 1:\n",
    "        print('continue, salta alla verifica condizione')\n",
    "        continue\n",
    "        print('Dopo il continue')            \n",
    "    \n",
    "    print('arrivato in fondo')\n",
    "    \n",
    "print('Ciclo finito !')"
   ]
  },
  {
   "cell_type": "markdown",
   "metadata": {},
   "source": [
    "Proviamo a combinare `break` e `continue` e vedere il risultato in Python Tutor:"
   ]
  },
  {
   "cell_type": "code",
   "execution_count": 9,
   "metadata": {},
   "outputs": [
    {
     "name": "stdout",
     "output_type": "stream",
     "text": [
      "Ho contato fino a 1\n",
      "arrivato in fondo\n",
      "Ho contato fino a 2\n",
      "continue, salta alla verifica condizione\n",
      "Ho contato fino a 3\n",
      "arrivato in fondo\n",
      "Ho contato fino a 4\n",
      "break! Esco dal ciclo!\n",
      "Ciclo finito !\n"
     ]
    },
    {
     "data": {
      "text/html": [
       "        \n",
       "        <script src=\"../_static/js/pytutor-embed.bundle.min.js\" type=\"application/javascript\"></script>\n",
       "    \n",
       "        <style>\n",
       "        @import \"../_static/css/jupman.css\";\n",
       "        </style>\n",
       "     \n",
       "        <script id=\"json-jm-dc4bf0b5232bc0fed8d7782a00e83ea3-11\" type=\"application/json\" >\n",
       "            {\"code\": \" \\ni = 1\\nwhile i < 5:     \\n    print('Ho contato fino a', i)        \\n    if i > 3:        \\n        print('break! Esco dal ciclo!')\\n        break    \\n        print('Dopo il break')        \\n    i += 1    \\n    if i % 2 == 1:\\n        print('continue, salta alla verifica condizione')\\n        continue\\n        print('Dopo il continue')                \\n    print('arrivato in fondo')\\n    \\nprint('Ciclo finito !')\", \"trace\": [{\"line\": 2, \"event\": \"step_line\", \"func_name\": \"<module>\", \"globals\": {}, \"ordered_globals\": [], \"stack_to_render\": [], \"heap\": {}, \"stdout\": \"\"}, {\"line\": 3, \"event\": \"step_line\", \"func_name\": \"<module>\", \"globals\": {\"i\": 1}, \"ordered_globals\": [\"i\"], \"stack_to_render\": [], \"heap\": {}, \"stdout\": \"\"}, {\"line\": 4, \"event\": \"step_line\", \"func_name\": \"<module>\", \"globals\": {\"i\": 1}, \"ordered_globals\": [\"i\"], \"stack_to_render\": [], \"heap\": {}, \"stdout\": \"\"}, {\"line\": 5, \"event\": \"step_line\", \"func_name\": \"<module>\", \"globals\": {\"i\": 1}, \"ordered_globals\": [\"i\"], \"stack_to_render\": [], \"heap\": {}, \"stdout\": \"Ho contato fino a 1\\n\"}, {\"line\": 9, \"event\": \"step_line\", \"func_name\": \"<module>\", \"globals\": {\"i\": 1}, \"ordered_globals\": [\"i\"], \"stack_to_render\": [], \"heap\": {}, \"stdout\": \"Ho contato fino a 1\\n\"}, {\"line\": 10, \"event\": \"step_line\", \"func_name\": \"<module>\", \"globals\": {\"i\": 2}, \"ordered_globals\": [\"i\"], \"stack_to_render\": [], \"heap\": {}, \"stdout\": \"Ho contato fino a 1\\n\"}, {\"line\": 14, \"event\": \"step_line\", \"func_name\": \"<module>\", \"globals\": {\"i\": 2}, \"ordered_globals\": [\"i\"], \"stack_to_render\": [], \"heap\": {}, \"stdout\": \"Ho contato fino a 1\\n\"}, {\"line\": 3, \"event\": \"step_line\", \"func_name\": \"<module>\", \"globals\": {\"i\": 2}, \"ordered_globals\": [\"i\"], \"stack_to_render\": [], \"heap\": {}, \"stdout\": \"Ho contato fino a 1\\narrivato in fondo\\n\"}, {\"line\": 4, \"event\": \"step_line\", \"func_name\": \"<module>\", \"globals\": {\"i\": 2}, \"ordered_globals\": [\"i\"], \"stack_to_render\": [], \"heap\": {}, \"stdout\": \"Ho contato fino a 1\\narrivato in fondo\\n\"}, {\"line\": 5, \"event\": \"step_line\", \"func_name\": \"<module>\", \"globals\": {\"i\": 2}, \"ordered_globals\": [\"i\"], \"stack_to_render\": [], \"heap\": {}, \"stdout\": \"Ho contato fino a 1\\narrivato in fondo\\nHo contato fino a 2\\n\"}, {\"line\": 9, \"event\": \"step_line\", \"func_name\": \"<module>\", \"globals\": {\"i\": 2}, \"ordered_globals\": [\"i\"], \"stack_to_render\": [], \"heap\": {}, \"stdout\": \"Ho contato fino a 1\\narrivato in fondo\\nHo contato fino a 2\\n\"}, {\"line\": 10, \"event\": \"step_line\", \"func_name\": \"<module>\", \"globals\": {\"i\": 3}, \"ordered_globals\": [\"i\"], \"stack_to_render\": [], \"heap\": {}, \"stdout\": \"Ho contato fino a 1\\narrivato in fondo\\nHo contato fino a 2\\n\"}, {\"line\": 11, \"event\": \"step_line\", \"func_name\": \"<module>\", \"globals\": {\"i\": 3}, \"ordered_globals\": [\"i\"], \"stack_to_render\": [], \"heap\": {}, \"stdout\": \"Ho contato fino a 1\\narrivato in fondo\\nHo contato fino a 2\\n\"}, {\"line\": 12, \"event\": \"step_line\", \"func_name\": \"<module>\", \"globals\": {\"i\": 3}, \"ordered_globals\": [\"i\"], \"stack_to_render\": [], \"heap\": {}, \"stdout\": \"Ho contato fino a 1\\narrivato in fondo\\nHo contato fino a 2\\ncontinue, salta alla verifica condizione\\n\"}, {\"line\": 3, \"event\": \"step_line\", \"func_name\": \"<module>\", \"globals\": {\"i\": 3}, \"ordered_globals\": [\"i\"], \"stack_to_render\": [], \"heap\": {}, \"stdout\": \"Ho contato fino a 1\\narrivato in fondo\\nHo contato fino a 2\\ncontinue, salta alla verifica condizione\\n\"}, {\"line\": 4, \"event\": \"step_line\", \"func_name\": \"<module>\", \"globals\": {\"i\": 3}, \"ordered_globals\": [\"i\"], \"stack_to_render\": [], \"heap\": {}, \"stdout\": \"Ho contato fino a 1\\narrivato in fondo\\nHo contato fino a 2\\ncontinue, salta alla verifica condizione\\n\"}, {\"line\": 5, \"event\": \"step_line\", \"func_name\": \"<module>\", \"globals\": {\"i\": 3}, \"ordered_globals\": [\"i\"], \"stack_to_render\": [], \"heap\": {}, \"stdout\": \"Ho contato fino a 1\\narrivato in fondo\\nHo contato fino a 2\\ncontinue, salta alla verifica condizione\\nHo contato fino a 3\\n\"}, {\"line\": 9, \"event\": \"step_line\", \"func_name\": \"<module>\", \"globals\": {\"i\": 3}, \"ordered_globals\": [\"i\"], \"stack_to_render\": [], \"heap\": {}, \"stdout\": \"Ho contato fino a 1\\narrivato in fondo\\nHo contato fino a 2\\ncontinue, salta alla verifica condizione\\nHo contato fino a 3\\n\"}, {\"line\": 10, \"event\": \"step_line\", \"func_name\": \"<module>\", \"globals\": {\"i\": 4}, \"ordered_globals\": [\"i\"], \"stack_to_render\": [], \"heap\": {}, \"stdout\": \"Ho contato fino a 1\\narrivato in fondo\\nHo contato fino a 2\\ncontinue, salta alla verifica condizione\\nHo contato fino a 3\\n\"}, {\"line\": 14, \"event\": \"step_line\", \"func_name\": \"<module>\", \"globals\": {\"i\": 4}, \"ordered_globals\": [\"i\"], \"stack_to_render\": [], \"heap\": {}, \"stdout\": \"Ho contato fino a 1\\narrivato in fondo\\nHo contato fino a 2\\ncontinue, salta alla verifica condizione\\nHo contato fino a 3\\n\"}, {\"line\": 3, \"event\": \"step_line\", \"func_name\": \"<module>\", \"globals\": {\"i\": 4}, \"ordered_globals\": [\"i\"], \"stack_to_render\": [], \"heap\": {}, \"stdout\": \"Ho contato fino a 1\\narrivato in fondo\\nHo contato fino a 2\\ncontinue, salta alla verifica condizione\\nHo contato fino a 3\\narrivato in fondo\\n\"}, {\"line\": 4, \"event\": \"step_line\", \"func_name\": \"<module>\", \"globals\": {\"i\": 4}, \"ordered_globals\": [\"i\"], \"stack_to_render\": [], \"heap\": {}, \"stdout\": \"Ho contato fino a 1\\narrivato in fondo\\nHo contato fino a 2\\ncontinue, salta alla verifica condizione\\nHo contato fino a 3\\narrivato in fondo\\n\"}, {\"line\": 5, \"event\": \"step_line\", \"func_name\": \"<module>\", \"globals\": {\"i\": 4}, \"ordered_globals\": [\"i\"], \"stack_to_render\": [], \"heap\": {}, \"stdout\": \"Ho contato fino a 1\\narrivato in fondo\\nHo contato fino a 2\\ncontinue, salta alla verifica condizione\\nHo contato fino a 3\\narrivato in fondo\\nHo contato fino a 4\\n\"}, {\"line\": 6, \"event\": \"step_line\", \"func_name\": \"<module>\", \"globals\": {\"i\": 4}, \"ordered_globals\": [\"i\"], \"stack_to_render\": [], \"heap\": {}, \"stdout\": \"Ho contato fino a 1\\narrivato in fondo\\nHo contato fino a 2\\ncontinue, salta alla verifica condizione\\nHo contato fino a 3\\narrivato in fondo\\nHo contato fino a 4\\n\"}, {\"line\": 7, \"event\": \"step_line\", \"func_name\": \"<module>\", \"globals\": {\"i\": 4}, \"ordered_globals\": [\"i\"], \"stack_to_render\": [], \"heap\": {}, \"stdout\": \"Ho contato fino a 1\\narrivato in fondo\\nHo contato fino a 2\\ncontinue, salta alla verifica condizione\\nHo contato fino a 3\\narrivato in fondo\\nHo contato fino a 4\\nbreak! Esco dal ciclo!\\n\"}, {\"line\": 16, \"event\": \"step_line\", \"func_name\": \"<module>\", \"globals\": {\"i\": 4}, \"ordered_globals\": [\"i\"], \"stack_to_render\": [], \"heap\": {}, \"stdout\": \"Ho contato fino a 1\\narrivato in fondo\\nHo contato fino a 2\\ncontinue, salta alla verifica condizione\\nHo contato fino a 3\\narrivato in fondo\\nHo contato fino a 4\\nbreak! Esco dal ciclo!\\n\"}, {\"line\": 16, \"event\": \"return\", \"func_name\": \"<module>\", \"globals\": {\"i\": 4}, \"ordered_globals\": [\"i\"], \"stack_to_render\": [], \"heap\": {}, \"stdout\": \"Ho contato fino a 1\\narrivato in fondo\\nHo contato fino a 2\\ncontinue, salta alla verifica condizione\\nHo contato fino a 3\\narrivato in fondo\\nHo contato fino a 4\\nbreak! Esco dal ciclo!\\nCiclo finito !\\n\"}]}\n",
       "        </script>\n",
       "        <div id=\"jm-dc4bf0b5232bc0fed8d7782a00e83ea3-11\" class=\"pytutorVisualizer\"> </div>\n",
       "                        \n",
       "        <script>\n",
       "        \n",
       "        (function(){\n",
       "            console.log(\"jupman.py embedded javascript: adding Python tutor visualizer...\")\n",
       "            \n",
       "            var trace = JSON.parse(document.getElementById('json-jm-dc4bf0b5232bc0fed8d7782a00e83ea3-11').innerHTML);                                        \n",
       "            // NOTE: id without #\n",
       "                    \n",
       "            addVisualizerToPage(trace, 'jm-dc4bf0b5232bc0fed8d7782a00e83ea3-11',{'embeddedMode' : false,\n",
       "                                             'disableHeapNesting': true,\n",
       "                                             'visualizerIdOverride':'viz-jm-dc4bf0b5232bc0fed8d7782a00e83ea3-11'})  \n",
       "            \n",
       "            \n",
       "            // set overflow for pytuts - need to do in python as css \n",
       "            // does not allow parent selection\n",
       "            var pytuts = $('.pytutorVisualizer')\n",
       "            pytuts.closest('div.output_html.rendered_html.output_result')\n",
       "                    .css('overflow-x', 'visible')\n",
       "        \n",
       "            //pytuts.closest('div.output_html.rendered_html.output_result')\n",
       "            //      .css('background-color','red')                \n",
       "            \n",
       "        })()\n",
       "        </script>\n",
       "                \n",
       "    \n",
       "    <div style=\"text-align:center; font-size:0.9em\"> <a href=\"https://pythontutor.com/visualize.html#mode=edit\" target=\"_blank\">Python Tutor</a> visualization</div> \n",
       "    "
      ],
      "text/plain": [
       "<IPython.core.display.HTML object>"
      ]
     },
     "execution_count": 9,
     "metadata": {},
     "output_type": "execute_result"
    }
   ],
   "source": [
    "i = 1\n",
    "while i < 5:     \n",
    "    print('Ho contato fino a', i)        \n",
    "    if i > 3:        \n",
    "        print('break! Esco dal ciclo!')\n",
    "        break    \n",
    "        print('Dopo il break')        \n",
    "    i += 1    \n",
    "    if i % 2 == 1:\n",
    "        print('continue, salta alla verifica condizione')\n",
    "        continue\n",
    "        print('Dopo il continue')                \n",
    "    print('arrivato in fondo')\n",
    "    \n",
    "print('Ciclo finito !')\n",
    "\n",
    "jupman.pytut()"
   ]
  },
  {
   "cell_type": "markdown",
   "metadata": {},
   "source": [
    "### Domande su `break`  e `continue`"
   ]
  },
  {
   "cell_type": "markdown",
   "metadata": {},
   "source": [
    "**DOMANDA**: Guarda i seguenti frammenti di codice, e per ciascuno cerca di indovinare quale risultato produce (o se da errore):\n",
    "\n",
    "\n",
    "1.  ```python\n",
    "    i = 1\n",
    "    while i < 4:\n",
    "        print('Ho contato fino a', i)\n",
    "        i += 1\n",
    "        continue\n",
    "\n",
    "    print('Ciclo finito !')    \n",
    "    ```\n",
    "1.  ```python\n",
    "    i = 1\n",
    "    while i < 4:\n",
    "        print('Ho contato fino a', i)\n",
    "        continue        \n",
    "        i += 1\n",
    "        \n",
    "    print('Ciclo finito !')    \n",
    "    ```\n",
    "1.  ```python\n",
    "    i = 3\n",
    "    while i > 0:\n",
    "        print('Ho contato fino a', i)    \n",
    "        if i == 2:\n",
    "            print('continue, salta alla verifica condizione')\n",
    "            continue    \n",
    "        i -= 1\n",
    "        print('arrivato in fondo')\n",
    "        \n",
    "    print('Ciclo finito !')\n",
    "    ```  \n",
    "1.  ```python\n",
    "    i = 0\n",
    "    while True:\n",
    "        i += 1\n",
    "        print(i)\n",
    "        if i > 3:            \n",
    "            break\n",
    "        \n",
    "    print('BONG')\n",
    "\n",
    "    ```\n",
    "1.  ```python\n",
    "    i = 0\n",
    "    while True:\n",
    "        if i < 3:\n",
    "            continue\n",
    "        else:\n",
    "            break\n",
    "        i += 1\n",
    "\n",
    "    print('ZONG')\n",
    "    ```\n",
    "1.  ```python\n",
    "    i = 0\n",
    "    while True:\n",
    "        i += 1\n",
    "        if i < 3:\n",
    "            continue\n",
    "        else:\n",
    "            break\n",
    "\n",
    "    print('ZANG')\n",
    "    ```    "
   ]
  },
  {
   "cell_type": "markdown",
   "metadata": {},
   "source": [
    "## Domande - Sono equivalenti ? \n",
    "\n",
    "Guarda i seguenti frammenti di codice: in ciascuno, vi sono due parti, A e B. In ciascun frammento, cerca di indovinare se la parte A stamperà esattamente quello che stampa il codice nella parte B.\n",
    "\n",
    "* **PRIMA** pensa alla risposta\n",
    "* **POI** prova ad eseguire "
   ]
  },
  {
   "cell_type": "markdown",
   "metadata": {},
   "source": [
    "### Sono equivalenti? - BORG\n",
    "\n",
    "```python\n",
    "print('A:')\n",
    "while True:\n",
    "    print('BORG')\n",
    "    break\n",
    "\n",
    "print('\\nB:')\n",
    "while False:\n",
    "    pass\n",
    "print('BORG')\n",
    "```"
   ]
  },
  {
   "cell_type": "markdown",
   "metadata": {},
   "source": [
    "### Sono equivalenti? - al 3\n",
    "\n",
    "```python\n",
    "print('A:')\n",
    "x = 0\n",
    "while x < 3:\n",
    "    print(x)\n",
    "    x += 1\n",
    "    \n",
    "print('\\nB:')\n",
    "x = 1\n",
    "while x <= 3:\n",
    "    print(x-1)\n",
    "    x += 1\n",
    "```    "
   ]
  },
  {
   "cell_type": "markdown",
   "metadata": {},
   "source": [
    "### Sono equivalenti? - che caso\n",
    "\n",
    "\n",
    "Ricordati che `randint(a, b)` restituisce un intero casuale `N` tale che `a <= N <= b`\n",
    "\n",
    "\n",
    "```python\n",
    "print('A:')\n",
    "x = 0\n",
    "while x < 3:\n",
    "    x += 1\n",
    "print(x)  \n",
    "\n",
    "print('\\nB:')\n",
    "x = 0\n",
    "import random\n",
    "while x != 3:\n",
    "    x = random.randint(1,5)\n",
    "print(x)    \n",
    "```"
   ]
  },
  {
   "cell_type": "markdown",
   "metadata": {},
   "source": [
    "\n"
   ]
  },
  {
   "cell_type": "markdown",
   "metadata": {},
   "source": [
    "### Sono equivalenti? - al sei\n",
    "\n",
    "```python\n",
    "print('A:')\n",
    "i = 0\n",
    "while i < 3:\n",
    "    print(i)\n",
    "    i += 1\n",
    "while i < 6:\n",
    "    print(i)\n",
    "    i += 1 \n",
    "\n",
    "print('\\nB:')\n",
    "i = 0\n",
    "while i < 6:\n",
    "    print(i)\n",
    "    i += 1 \n",
    "```"
   ]
  },
  {
   "cell_type": "markdown",
   "metadata": {},
   "source": [
    "### Sono equivalenti? - countdown 1\n",
    "\n",
    "```python\n",
    "print('A:')\n",
    "i = 2\n",
    "print(i)\n",
    "while i > 0:\n",
    "    i -= 1\n",
    "    print(i)\n",
    "\n",
    "print('\\nB:')\n",
    "i = 2\n",
    "while i > 0:\n",
    "    print(i)\n",
    "    i -= 1  \n",
    "```"
   ]
  },
  {
   "cell_type": "markdown",
   "metadata": {},
   "source": [
    "### Sono equivalenti? - countdown 2\n",
    "\n",
    "```python\n",
    "print('A:')\n",
    "i = 2\n",
    "print(i)\n",
    "while i > 0:\n",
    "    i -= 1\n",
    "    print(i)\n",
    "\n",
    "print('\\nB:')\n",
    "i = 2\n",
    "while i > 0:\n",
    "    print(i)\n",
    "    i -= 1  \n",
    "print(i)\n",
    "```"
   ]
  },
  {
   "cell_type": "markdown",
   "metadata": {},
   "source": [
    "### Sono equivalenti? - sortilegio\n",
    "\n",
    "```python\n",
    "print('A:')\n",
    "s = 'sortilegio'\n",
    "i = 0\n",
    "while s[i] != 'g':\n",
    "    i += 1\n",
    "print(s[i:])\n",
    "    \n",
    "print('B:')    \n",
    "s = 'sortilegio'\n",
    "i = len(s)\n",
    "while s[i] != 'g':\n",
    "    i -= 1\n",
    "print(s[i:]) \n",
    "```"
   ]
  },
  {
   "cell_type": "markdown",
   "metadata": {},
   "source": [
    "### Sono equivalenti?  - ping pong\n",
    "\n",
    "\n",
    "```python\n",
    "print('A:')\n",
    "ping,pong = 0,3\n",
    "while ping < 3 or pong > 0:\n",
    "    print(ping,pong)\n",
    "    ping += 1\n",
    "    pong -= 1\n",
    "    \n",
    "print('\\nB:')    \n",
    "ping,pong = 0,3\n",
    "while not(ping >= 3 and pong <= 0):\n",
    "    print(ping,pong)\n",
    "    ping += 1\n",
    "    pong -= 1\n",
    "```"
   ]
  },
  {
   "cell_type": "markdown",
   "metadata": {},
   "source": [
    "### Sono equivalenti? - zanna\n",
    "\n",
    "```python\n",
    "print('A:')\n",
    "n,i,s = 0,0,'zanna'\n",
    "while i < len(s):\n",
    "    if s[i] == 'n':\n",
    "        n += 1\n",
    "    i += 1\n",
    "print(n)\n",
    "\n",
    "print('\\nB:')\n",
    "n,i,s = 0,0,'zanna'\n",
    "while i < len(s):\n",
    "    i += 1\n",
    "    if s[i-1] == 'n':\n",
    "        n += 1    \n",
    "print(n)\n",
    "```"
   ]
  },
  {
   "cell_type": "markdown",
   "metadata": {},
   "source": [
    "### Sono equivalenti? - pasticcio\n",
    "\n",
    "\n",
    "```python\n",
    "print('A:')\n",
    "c,i,s = 0,0,'pasticcio'\n",
    "while i < len(s):\n",
    "    if s[i] == 'c':\n",
    "        c += 1\n",
    "    i += 1\n",
    "print(c)\n",
    "\n",
    "print('\\nB:')\n",
    "no,k,s = 0,0,'pasticcio'\n",
    "while k < len(s):\n",
    "    if s[k] != 'c':\n",
    "        no += 1\n",
    "    else:\n",
    "        k += 1\n",
    "print(len(s) - no)\n",
    "```\n",
    "    "
   ]
  },
  {
   "cell_type": "markdown",
   "metadata": {},
   "source": [
    "## Esercizi su contatori"
   ]
  },
  {
   "cell_type": "markdown",
   "metadata": {},
   "source": [
    "### Esercizio - don't break 1\n",
    "\n",
    "✪ Guarda il codice seguente, e scrivi nella cella seguente del codice che produca lo stesso risultato con un `while` e **senza usare** `break`"
   ]
  },
  {
   "cell_type": "code",
   "execution_count": 10,
   "metadata": {},
   "outputs": [
    {
     "name": "stdout",
     "output_type": "stream",
     "text": [
      "3\n",
      "2\n",
      "1\n",
      "0\n"
     ]
    }
   ],
   "source": [
    "x = 3\n",
    "while True:\n",
    "    print(x)\n",
    "    if x == 0:\n",
    "        break\n",
    "    x -= 1"
   ]
  },
  {
   "cell_type": "raw",
   "id": "2a5433c7",
   "metadata": {
    "format": "text/html"
   },
   "source": [
    "<a  class=\"jupman-sol jupman-sol-toggler\" \n",
    " onclick=\"jupman.toggleSolution(this);\" \n",
    " data-jupman-show=\"Mostra soluzione\" data-jupman-hide=\"Nascondi\">Mostra soluzione</a><div class=\"jupman-sol jupman-sol-code\" style=\"display:none\">  "
   ]
  },
  {
   "cell_type": "code",
   "execution_count": 11,
   "metadata": {},
   "outputs": [
    {
     "name": "stdout",
     "output_type": "stream",
     "text": [
      "3\n",
      "2\n",
      "1\n",
      "0\n"
     ]
    }
   ],
   "source": [
    "\n",
    "x = 3\n",
    "\n",
    "# scrivi qui\n",
    "\n",
    "while x >= 0:\n",
    "    print(x)    \n",
    "    x -= 1"
   ]
  },
  {
   "cell_type": "raw",
   "id": "265b4589",
   "metadata": {
    "format": "text/html"
   },
   "source": [
    "</div>"
   ]
  },
  {
   "cell_type": "code",
   "execution_count": 11,
   "metadata": {},
   "outputs": [],
   "source": [
    "\n",
    "x = 3\n",
    "\n",
    "# scrivi qui\n",
    "\n"
   ]
  },
  {
   "cell_type": "markdown",
   "metadata": {},
   "source": [
    "### Esercizio - don't break 2\n",
    "\n",
    "✪ Guarda il codice seguente, e scrivi nella cella seguente del codice che produca lo stesso risultato con un `while` e **senza usare** `break`"
   ]
  },
  {
   "cell_type": "code",
   "execution_count": 12,
   "metadata": {},
   "outputs": [
    {
     "name": "stdout",
     "output_type": "stream",
     "text": [
      "2\n",
      "3\n",
      "7\n"
     ]
    }
   ],
   "source": [
    "la = [2,3,7,5,6]\n",
    "k = 7   # 2 3 7\n",
    "#k = 5  # 2 3 7 5 6\n",
    "#k = 13 # 2 3 7 5 6\n",
    "\n",
    "i = 0\n",
    "while True:    \n",
    "    print(la[i])\n",
    "    if i >= len(la)-1 or la[i] == k:        \n",
    "        break\n",
    "    else:\n",
    "        i += 1"
   ]
  },
  {
   "cell_type": "raw",
   "id": "7af5dfea",
   "metadata": {
    "format": "text/html"
   },
   "source": [
    "<a  class=\"jupman-sol jupman-sol-toggler\" \n",
    " onclick=\"jupman.toggleSolution(this);\" \n",
    " data-jupman-show=\"Mostra soluzione\" data-jupman-hide=\"Nascondi\">Mostra soluzione</a><div class=\"jupman-sol jupman-sol-code\" style=\"display:none\">  "
   ]
  },
  {
   "cell_type": "code",
   "execution_count": 13,
   "metadata": {},
   "outputs": [
    {
     "name": "stdout",
     "output_type": "stream",
     "text": [
      "2\n",
      "3\n",
      "7\n"
     ]
    }
   ],
   "source": [
    "\n",
    "la = [2,3,7,5,6]\n",
    "k = 7   # 2 3 7\n",
    "#k = 6  # 2 3 7 5 6\n",
    "#k = 13 # 2 3 7 5 6\n",
    "\n",
    "i = 0\n",
    "\n",
    "# scrivi qui\n",
    "\n",
    "while i < len(la) and la[i] != k:\n",
    "    print(la[i])\n",
    "    i += 1\n",
    "if i < len(la) and la[i] == k:\n",
    "    print(la[i])\n",
    "    "
   ]
  },
  {
   "cell_type": "raw",
   "id": "7efb2b81",
   "metadata": {
    "format": "text/html"
   },
   "source": [
    "</div>"
   ]
  },
  {
   "cell_type": "code",
   "execution_count": 13,
   "metadata": {},
   "outputs": [],
   "source": [
    "\n",
    "la = [2,3,7,5,6]\n",
    "k = 7   # 2 3 7\n",
    "#k = 6  # 2 3 7 5 6\n",
    "#k = 13 # 2 3 7 5 6\n",
    "\n",
    "i = 0\n",
    "\n",
    "# scrivi qui\n",
    "\n"
   ]
  },
  {
   "cell_type": "markdown",
   "metadata": {},
   "source": [
    "### Esercizio - Dammi un break\n",
    "\n",
    "✪ Guarda il codice seguente, e scrivi nella cella seguente del codice che produca lo stesso risultato con un `while` **questa volta usando un** `break`"
   ]
  },
  {
   "cell_type": "code",
   "execution_count": 14,
   "metadata": {},
   "outputs": [
    {
     "name": "stdout",
     "output_type": "stream",
     "text": [
      "(1, 5)\n",
      "(2, 4)\n"
     ]
    }
   ],
   "source": [
    "\n",
    "x,y = 1,5    # (1,5)  (2,4)\n",
    "#x,y = 2,8   # (2, 8) (3, 7) (4, 6)\n",
    "\n",
    "while x < y or x == 4:\n",
    "    print((x,y))\n",
    "    x += 1 \n",
    "    y -= 1"
   ]
  },
  {
   "cell_type": "raw",
   "id": "372710bd",
   "metadata": {
    "format": "text/html"
   },
   "source": [
    "<a  class=\"jupman-sol jupman-sol-toggler\" \n",
    " onclick=\"jupman.toggleSolution(this);\" \n",
    " data-jupman-show=\"Mostra soluzione\" data-jupman-hide=\"Nascondi\">Mostra soluzione</a><div class=\"jupman-sol jupman-sol-code\" style=\"display:none\">  "
   ]
  },
  {
   "cell_type": "code",
   "execution_count": 15,
   "metadata": {},
   "outputs": [
    {
     "name": "stdout",
     "output_type": "stream",
     "text": [
      "(1, 5)\n",
      "(2, 4)\n"
     ]
    }
   ],
   "source": [
    "\n",
    "x,y = 1,5    # (1,5)  (2,4)\n",
    "#x,y = 2,8   # (2, 8) (3, 7) (4, 6)\n",
    "\n",
    "# scrivi qui\n",
    "while True:\n",
    "    \n",
    "    if x >= y or x == 4:\n",
    "        break\n",
    "    else:\n",
    "        print((x,y))\n",
    "        x += 1 \n",
    "        y -= 1\n",
    "        \n",
    "if x < y or x == 4:\n",
    "    print((x,y))"
   ]
  },
  {
   "cell_type": "raw",
   "id": "d37f3bf9",
   "metadata": {
    "format": "text/html"
   },
   "source": [
    "</div>"
   ]
  },
  {
   "cell_type": "code",
   "execution_count": 15,
   "metadata": {},
   "outputs": [],
   "source": [
    "\n",
    "x,y = 1,5    # (1,5)  (2,4)\n",
    "#x,y = 2,8   # (2, 8) (3, 7) (4, 6)\n",
    "\n",
    "# scrivi qui\n",
    "\n"
   ]
  },
  {
   "cell_type": "markdown",
   "metadata": {},
   "source": [
    "\n",
    "### Esercizio - cartone\n",
    "\n",
    "✪ Stampa numeri interi da `0` a `k` INCLUSI usando un `while`, e ad ogni numero stampa a fianco una tra le stringhe `'CAR'`, `'TO'` e `'NE'` alternandole\n",
    "\n",
    "Es - per `k=8` stampa\n",
    "\n",
    "```\n",
    "0 CAR\n",
    "1 TO\n",
    "2 NE\n",
    "3 CAR\n",
    "4 TO\n",
    "5 NE\n",
    "6 CAR\n",
    "7 TO\n",
    "8 NE\n",
    "```"
   ]
  },
  {
   "cell_type": "raw",
   "id": "34dfcdaf",
   "metadata": {
    "format": "text/html"
   },
   "source": [
    "<a  class=\"jupman-sol jupman-sol-toggler\" \n",
    " onclick=\"jupman.toggleSolution(this);\" \n",
    " data-jupman-show=\"Mostra soluzione\" data-jupman-hide=\"Nascondi\">Mostra soluzione</a><div class=\"jupman-sol jupman-sol-code\" style=\"display:none\">  "
   ]
  },
  {
   "cell_type": "code",
   "execution_count": 16,
   "metadata": {},
   "outputs": [
    {
     "name": "stdout",
     "output_type": "stream",
     "text": [
      "0 CAR\n",
      "1 TO\n",
      "2 NE\n",
      "3 CAR\n",
      "4 TO\n",
      "5 NE\n",
      "6 CAR\n",
      "7 TO\n",
      "8 NE\n"
     ]
    }
   ],
   "source": [
    "\n",
    "k = 8\n",
    "\n",
    "# scrivi qui\n",
    "x = 0\n",
    "while x <= k:\n",
    "    if x % 3 == 0:\n",
    "        print(x, 'CAR')\n",
    "    elif x % 3 == 1:\n",
    "        print(x, 'TO')\n",
    "    else:\n",
    "        print(x, 'NE')\n",
    "    x += 1"
   ]
  },
  {
   "cell_type": "raw",
   "id": "6bac71a3",
   "metadata": {
    "format": "text/html"
   },
   "source": [
    "</div>"
   ]
  },
  {
   "cell_type": "code",
   "execution_count": 16,
   "metadata": {},
   "outputs": [],
   "source": [
    "\n",
    "k = 8\n",
    "\n",
    "# scrivi qui\n",
    "\n"
   ]
  },
  {
   "cell_type": "markdown",
   "metadata": {},
   "source": [
    "### Esercizio - al dieci\n",
    "\n",
    "✪ Dati due numeri `x` e `y`, scrivi del codice con un `while` che stampa i numeri e li incrementa fermandosi non appena uno dei due raggiunge il dieci.\n",
    "\n",
    "\n",
    "```python\n",
    "x,y = 5,7\n",
    "```\n",
    "\n",
    "dopo il tuo codice deve risultare\n",
    "```\n",
    "5 7\n",
    "6 8\n",
    "7 9\n",
    "8 10\n",
    "```"
   ]
  },
  {
   "cell_type": "raw",
   "id": "a1136b1f",
   "metadata": {
    "format": "text/html"
   },
   "source": [
    "<a  class=\"jupman-sol jupman-sol-toggler\" \n",
    " onclick=\"jupman.toggleSolution(this);\" \n",
    " data-jupman-show=\"Mostra soluzione\" data-jupman-hide=\"Nascondi\">Mostra soluzione</a><div class=\"jupman-sol jupman-sol-code\" style=\"display:none\">  "
   ]
  },
  {
   "cell_type": "code",
   "execution_count": 17,
   "metadata": {},
   "outputs": [
    {
     "name": "stdout",
     "output_type": "stream",
     "text": [
      "5 7\n",
      "6 8\n",
      "7 9\n",
      "8 10\n"
     ]
    }
   ],
   "source": [
    "\n",
    "x,y = 5,7\n",
    "#x,y = 8,4\n",
    "\n",
    "# scrivi qui\n",
    "while x <= 10 and y <= 10:\n",
    "    print(x,y)\n",
    "    x += 1\n",
    "    y += 1"
   ]
  },
  {
   "cell_type": "raw",
   "id": "3f18c015",
   "metadata": {
    "format": "text/html"
   },
   "source": [
    "</div>"
   ]
  },
  {
   "cell_type": "code",
   "execution_count": 17,
   "metadata": {},
   "outputs": [],
   "source": [
    "\n",
    "x,y = 5,7\n",
    "#x,y = 8,4\n",
    "\n",
    "# scrivi qui\n",
    "\n"
   ]
  },
  {
   "cell_type": "markdown",
   "metadata": {},
   "source": [
    "### Esercizio - cccc\n",
    "\n",
    "✪ Scrivi del codice usando un `while` che dato un numero `y`, stampa `y` righe contenti la lettera `c` tante volte quante il numero di riga. \n",
    "\n",
    "Esempio - dato\n",
    "\n",
    "```python\n",
    "y = 4\n",
    "``` \n",
    "\n",
    "Stampa:\n",
    "\n",
    "```\n",
    "c\n",
    "cc\n",
    "ccc\n",
    "cccc\n",
    "```"
   ]
  },
  {
   "cell_type": "raw",
   "id": "efdcffcd",
   "metadata": {
    "format": "text/html"
   },
   "source": [
    "<a  class=\"jupman-sol jupman-sol-toggler\" \n",
    " onclick=\"jupman.toggleSolution(this);\" \n",
    " data-jupman-show=\"Mostra soluzione\" data-jupman-hide=\"Nascondi\">Mostra soluzione</a><div class=\"jupman-sol jupman-sol-code\" style=\"display:none\">  "
   ]
  },
  {
   "cell_type": "code",
   "execution_count": 18,
   "metadata": {},
   "outputs": [
    {
     "name": "stdout",
     "output_type": "stream",
     "text": [
      "\n",
      "c\n",
      "cc\n",
      "ccc\n",
      "cccc\n"
     ]
    }
   ],
   "source": [
    "\n",
    "y = 4\n",
    "\n",
    "# scrivi qui\n",
    "x = 0\n",
    "while x <= y:\n",
    "    print('c'*x)\n",
    "    x += 1"
   ]
  },
  {
   "cell_type": "raw",
   "id": "e8489dd6",
   "metadata": {
    "format": "text/html"
   },
   "source": [
    "</div>"
   ]
  },
  {
   "cell_type": "code",
   "execution_count": 18,
   "metadata": {},
   "outputs": [],
   "source": [
    "\n",
    "y = 4\n",
    "\n",
    "# scrivi qui\n",
    "\n"
   ]
  },
  {
   "cell_type": "markdown",
   "metadata": {},
   "source": [
    "### Esercizio - convergi\n",
    "\n",
    "✪ Dati due numeri `x` e `k`, usando un `while` modifica di `1` e stampa `x` finchè `x` non raggiunge `k` incluso.\n",
    "\n",
    "* **NOTA**: `k` può essere sia maggiore che minore di `x`, devi gestire entrambi i casi\n",
    "\n",
    "Esempio 1 - dato:\n",
    "\n",
    "```python\n",
    "x,k = 3,5    \n",
    "```\n",
    "stampa:\n",
    "\n",
    "```\n",
    "3\n",
    "4\n",
    "5\n",
    "```\n",
    "Esempio 2 - dato:\n",
    "\n",
    "```python\n",
    "x,k = 6,2\n",
    "```\n",
    "\n",
    "stampa:\n",
    "\n",
    "```\n",
    "6\n",
    "5\n",
    "4\n",
    "3\n",
    "2\n",
    "```"
   ]
  },
  {
   "cell_type": "raw",
   "id": "1b5f3691",
   "metadata": {
    "format": "text/html"
   },
   "source": [
    "<a  class=\"jupman-sol jupman-sol-toggler\" \n",
    " onclick=\"jupman.toggleSolution(this);\" \n",
    " data-jupman-show=\"Mostra soluzione\" data-jupman-hide=\"Nascondi\">Mostra soluzione</a><div class=\"jupman-sol jupman-sol-code\" style=\"display:none\">  "
   ]
  },
  {
   "cell_type": "code",
   "execution_count": 19,
   "metadata": {},
   "outputs": [
    {
     "name": "stdout",
     "output_type": "stream",
     "text": [
      "3\n",
      "4\n",
      "5\n"
     ]
    }
   ],
   "source": [
    "\n",
    "x,k = 3,5    # 3 4 5\n",
    "#x,k = 6,2    # 6 5 4 3 2\n",
    "#x,k = 4,4   # 4\n",
    "\n",
    "# scrivi qui\n",
    "\n",
    "while x != k:\n",
    "    print(x)\n",
    "    if x < k:\n",
    "        x += 1\n",
    "    else:\n",
    "        x -= 1\n",
    "print(x)"
   ]
  },
  {
   "cell_type": "raw",
   "id": "86f616a5",
   "metadata": {
    "format": "text/html"
   },
   "source": [
    "</div>"
   ]
  },
  {
   "cell_type": "code",
   "execution_count": 19,
   "metadata": {},
   "outputs": [],
   "source": [
    "\n",
    "x,k = 3,5    # 3 4 5\n",
    "#x,k = 6,2    # 6 5 4 3 2\n",
    "#x,k = 4,4   # 4\n",
    "\n",
    "# scrivi qui\n",
    "\n"
   ]
  },
  {
   "cell_type": "markdown",
   "metadata": {},
   "source": [
    "## Ricercare in una sequenza\n",
    "\n",
    "Siamo ad un aereoporto e ci viene detto di raggiungere il gate della nostra compagnia aerea di fiducia _Turbolenz_. Non ci ricordiamo esattamente il gate, ma sappiamo che dobbiamo fermarci al primo cartello Turbulenz che troviamo. Se per sbaglio proseguissimo oltre, potremmo finire ad altri gate per voli internazionali, e chissà dove ci porterebbero.\n",
    "\n",
    "Se dobbiamo fare ricerche in sequenze potenzialmente molto lunghe sapendo, ma che non sempre richiedono di visitare tutta la sequenza, usare un ciclo `while` è più conveniente ed efficiente di un `for`. \n",
    "\n",
    "Potremmo rappresentare l'esempio qua sopra come una lista:"
   ]
  },
  {
   "cell_type": "code",
   "execution_count": 20,
   "metadata": {},
   "outputs": [],
   "source": [
    "             #    0         1            2            3           4           5         6           7\n",
    "aereoporto = ['Volatut','AliBucate','PiccionJet','Turbolenz', 'BoingBoing','Jettoni','Turbulenz','BoingBoing' ]"
   ]
  },
  {
   "cell_type": "markdown",
   "metadata": {},
   "source": [
    "Una volta trovato l'elemento, vorremmo che il programma ci stampasse la posizione in cui l'ha trovato, in questo caso `3`\n",
    "\n",
    "Naturalmente, se hai letto bene i [metodi delle liste](https://it.softpython.org/lists/lists4-sol.html) saprai che già abbiamo a disposizione un comodo metodo `.index('Turbulenz')`, ma in questo foglio adottiamo invece la filosofia del 'fai da te' e proveremo a costruirci da zero i nostri algoritmi di ricerca. "
   ]
  },
  {
   "cell_type": "markdown",
   "metadata": {},
   "source": [
    "**DOMANDA**: Riesci a pensare ad un caso in cui il metodo `index` possa dare dei problemi?"
   ]
  },
  {
   "cell_type": "raw",
   "id": "7ae5c548",
   "metadata": {
    "format": "text/html"
   },
   "source": [
    "<a  class=\"jupman-sol jupman-sol-toggler\" \n",
    " onclick=\"jupman.toggleSolution(this);\" \n",
    " data-jupman-show=\"Mostra risposta\" data-jupman-hide=\"Nascondi\">Mostra risposta</a><div class=\"jupman-sol jupman-sol-question\" style=\"display:none\">  "
   ]
  },
  {
   "cell_type": "markdown",
   "metadata": {},
   "source": [
    "**RISPOSTA**: se la list _non_ contiene l'elemento cercato, `index` lancerà una eccezione fermando quindi il programma."
   ]
  },
  {
   "cell_type": "raw",
   "id": "14490ce3",
   "metadata": {
    "format": "text/html"
   },
   "source": [
    "</div>"
   ]
  },
  {
   "cell_type": "markdown",
   "metadata": {},
   "source": [
    "Per costruire la nostra ricerca, ci serviranno:\n",
    "\n",
    "1. variabile di controllo\n",
    "2. condizione di termine\n",
    "3. aggiornamento della variabile di controllo\n",
    "\n",
    "La variabile di controllo in questo caso potrebbe essere un indice, la condizione di termine potrebbe valutare se abbiamo raggiunto la fine dell'aereoporto, e dentro il ciclo dovremo incrementare l'indice per progredire nella ricerca. Ma dove potremmo valutare se abbiamo trovato o meno il gate? Inoltre, visto che siamo programmatori esperti, crediamo nella sfortuna e sappiamo che potremmo anche scoprire con orrore che la compagnia aerea Turbulenz è fallita il giorno del nostro arrivo in aereoporto! Dovremo pertanto sempre prevedere anche il caso in cui la ricerca vada a vuoto, e decidere come dovrebbe comportarsi il programma in questo frangente."
   ]
  },
  {
   "cell_type": "markdown",
   "metadata": {},
   "source": [
    "### Come controllare\n",
    "\n",
    "Ci sono due modi per controllare il ritrovamento: \n",
    "\n",
    "a) il modo più diretto di fare un controllo di uscita è dentro il corpo stesso del `while`, mettendo un `if` che al verificarsi del ritrovamento provoca l'esecuzione di un `break`. Non è affatto elegante, ma può essere un primo approccio.\n",
    "\n",
    "b) un'opzione migliore è fare il controllo nella condizione booleana del `while`, ma potrebbe essere un po' più difficile avere un programma che funziona davvero in tutti i casi.\n",
    "\n",
    "Proviamoli entrambi i modi negli esercizi che seguono."
   ]
  },
  {
   "cell_type": "markdown",
   "metadata": {},
   "source": [
    "### Esercizio - Turbolenz con break\n",
    "\n",
    "✪✪ Scrivi del codice che usando un `while` cerca nella lista `aereoporto` la PRIMA occorrenza di `compagnia`: appena la trova si ferma e STAMPA l'indice in cui è stata trovata. \n",
    "\n",
    "- se non trova la compagnia, STAMPA che la ricerca è andata a vuoto\n",
    "- **USA** un `break` per fermare la ricerca\n",
    "- **RICORDATI** di provare il tuo programma anche con gli altri aereoporti suggeriti\n",
    "\n",
    "Esempio 1 - dati:\n",
    "\n",
    "```python\n",
    "compagnia = 'Turbolenz'             \n",
    "aereoporto = ['Volatut','AliBucate','PiccionJet','Turbolenz', 'BoingBoing','Jettoni','Turbulenz','BoingBoing' ]\n",
    "```\n",
    "\n",
    "dopo il tuo codice deve stampare :\n",
    "\n",
    "```\n",
    "Trovato il primo Turbolenz all'indice 3\n",
    "```\n",
    "\n",
    "Esempio 2 - dati:\n",
    "\n",
    "```python\n",
    "compagnia = 'FlapFlap'\n",
    "aereoporto = ['AliBucate','BoingBoing','Turbolenz','PiccionJet']\n",
    "```\n",
    "\n",
    "deve stampare:\n",
    "\n",
    "```\n",
    "Non ho trovato FlapFlap\n",
    "```"
   ]
  },
  {
   "cell_type": "raw",
   "id": "0477d655",
   "metadata": {
    "format": "text/html"
   },
   "source": [
    "<a  class=\"jupman-sol jupman-sol-toggler\" \n",
    " onclick=\"jupman.toggleSolution(this);\" \n",
    " data-jupman-show=\"Mostra soluzione\" data-jupman-hide=\"Nascondi\">Mostra soluzione</a><div class=\"jupman-sol jupman-sol-code\" style=\"display:none\">  "
   ]
  },
  {
   "cell_type": "code",
   "execution_count": 21,
   "metadata": {},
   "outputs": [
    {
     "name": "stdout",
     "output_type": "stream",
     "text": [
      "Trovato il primo Turbolenz all'indice 3\n"
     ]
    }
   ],
   "source": [
    "\n",
    "\n",
    "compagnia = 'Turbolenz'                         \n",
    "aereoporto = ['Volatut','AliBucate','PiccionJet','Turbolenz', 'BoingBoing','Jettoni','Turbulenz','BoingBoing']\n",
    "\n",
    "#compagnia = 'FlapFlap'\n",
    "#aereoporto = ['AliBucate','BoingBoing','Turbolenz','PiccionJet']\n",
    "#aereoporto = []        \n",
    "#aereoporto = ['FlapFlap']\n",
    "#aereoporto = ['Turbolenz', 'FlapFlap']\n",
    "\n",
    "# scrivi qui\n",
    "i = 0\n",
    "while i < len(aereoporto):\n",
    "    if aereoporto[i] == compagnia:\n",
    "        print(\"Trovato il primo\", compagnia, \"all'indice\", i)\n",
    "        break\n",
    "    i += 1\n",
    "if i == len(aereoporto):\n",
    "    print(\"Non ho trovato\", compagnia)"
   ]
  },
  {
   "cell_type": "raw",
   "id": "28bceb5e",
   "metadata": {
    "format": "text/html"
   },
   "source": [
    "</div>"
   ]
  },
  {
   "cell_type": "code",
   "execution_count": 21,
   "metadata": {},
   "outputs": [],
   "source": [
    "\n",
    "\n",
    "compagnia = 'Turbolenz'                         \n",
    "aereoporto = ['Volatut','AliBucate','PiccionJet','Turbolenz', 'BoingBoing','Jettoni','Turbulenz','BoingBoing']\n",
    "\n",
    "#compagnia = 'FlapFlap'\n",
    "#aereoporto = ['AliBucate','BoingBoing','Turbolenz','PiccionJet']\n",
    "#aereoporto = []        \n",
    "#aereoporto = ['FlapFlap']\n",
    "#aereoporto = ['Turbolenz', 'FlapFlap']\n",
    "\n",
    "# scrivi qui\n",
    "\n"
   ]
  },
  {
   "cell_type": "markdown",
   "metadata": {},
   "source": [
    "### Esercizio - Turbolenz senza break\n",
    "\n",
    "✪✪ Prova adesso a riscrivere il programma di prima, ma **NON** usare `break` nè `continue`: per verificare il ritrovamento, dovrai arricchire la condizione di terminazione."
   ]
  },
  {
   "cell_type": "raw",
   "id": "c91ea46c",
   "metadata": {
    "format": "text/html"
   },
   "source": [
    "<a  class=\"jupman-sol jupman-sol-toggler\" \n",
    " onclick=\"jupman.toggleSolution(this);\" \n",
    " data-jupman-show=\"Mostra soluzione\" data-jupman-hide=\"Nascondi\">Mostra soluzione</a><div class=\"jupman-sol jupman-sol-code\" style=\"display:none\">  "
   ]
  },
  {
   "cell_type": "code",
   "execution_count": 22,
   "metadata": {},
   "outputs": [
    {
     "name": "stdout",
     "output_type": "stream",
     "text": [
      "Trovato il primo Turbolenz all'indice 3\n"
     ]
    }
   ],
   "source": [
    "\n",
    "\n",
    "compagnia = 'Turbolenz'\n",
    "aereoporto = ['Volatut','AliBucate','PiccionJet','Turbolenz', 'BoingBoing','Jettoni','Turbulenz','BoingBoing']\n",
    "\n",
    "#compagnia = 'FlapFlap'\n",
    "#aereoporto = ['AliBucate','BoingBoing','Turbolenz','PiccionJet']\n",
    "#aereoporto = []        \n",
    "#aereoporto = ['FlapFlap']\n",
    "#aereoporto = ['Turbolenz', 'FlapFlap']\n",
    "\n",
    "# scrivi qui\n",
    "i = 0\n",
    "while i < len(aereoporto) and aereoporto[i] != compagnia:    \n",
    "    i += 1\n",
    "    \n",
    "if i == len(aereoporto):\n",
    "    print(\"Non ho trovato\", compagnia)\n",
    "else:\n",
    "    print(\"Trovato il primo\", compagnia, \"all'indice\", i)"
   ]
  },
  {
   "cell_type": "raw",
   "id": "fa0ed656",
   "metadata": {
    "format": "text/html"
   },
   "source": [
    "</div>"
   ]
  },
  {
   "cell_type": "code",
   "execution_count": 22,
   "metadata": {},
   "outputs": [],
   "source": [
    "\n",
    "\n",
    "compagnia = 'Turbolenz'\n",
    "aereoporto = ['Volatut','AliBucate','PiccionJet','Turbolenz', 'BoingBoing','Jettoni','Turbulenz','BoingBoing']\n",
    "\n",
    "#compagnia = 'FlapFlap'\n",
    "#aereoporto = ['AliBucate','BoingBoing','Turbolenz','PiccionJet']\n",
    "#aereoporto = []        \n",
    "#aereoporto = ['FlapFlap']\n",
    "#aereoporto = ['Turbolenz', 'FlapFlap']\n",
    "\n",
    "# scrivi qui\n",
    "\n"
   ]
  },
  {
   "cell_type": "markdown",
   "metadata": {},
   "source": [
    "**DOMANDA**: Probabilmente hai usato due condizioni nel `while`. Scambiando l'ordine delle condizioni nella soluzione proposta, il programma funzionerebbe correttamente? Se no, in quali casi fallirebbe? \n",
    "\n",
    "* **SUGGERIMENTO**: Se hai dubbi prova a guardare il capitolo [booleani - ordine di valutazione](https://it.softpython.org/basics/basics2-bools-sol.html#Ordine-di-valutazione)"
   ]
  },
  {
   "cell_type": "raw",
   "id": "c278fa0b",
   "metadata": {
    "format": "text/html"
   },
   "source": [
    "<a  class=\"jupman-sol jupman-sol-toggler\" \n",
    " onclick=\"jupman.toggleSolution(this);\" \n",
    " data-jupman-show=\"Mostra risposta\" data-jupman-hide=\"Nascondi\">Mostra risposta</a><div class=\"jupman-sol jupman-sol-question\" style=\"display:none\">  "
   ]
  },
  {
   "cell_type": "markdown",
   "metadata": {},
   "source": [
    "**RISPOSTA**: il confronto dell'indice con la lunghezza dell'aereoporto va fatto per primo, perchè quando da `False`, la valutazione dell'espressione `and` si conclude subito senza proseguire col pericoloso `aereoporto[i] != compagnia` che in un aereoporto senza compagnia `FlapFlap` finirebbe col diventare `aereoporto[4] != compagnia` e producendo quindi un errore di indice:\n",
    "\n",
    "```python\n",
    "compagnia = 'FlapFlap'\n",
    "             #    0            1            2           3\n",
    "aereoporto = ['AliBucate','BoingBoing','Turbolenz','PiccionJet']\n",
    "\n",
    "# scrivi qui\n",
    "i = 0\n",
    "# ATTENZIONE: ORDINE SBAGLIATO!\n",
    "while aereoporto[i] != compagnia and i < len(aereoporto):\n",
    "    i += 1\n",
    "    \n",
    "if i == len(aereoporto):\n",
    "    print(\"Non ho trovato\", compagnia)\n",
    "else:\n",
    "    print(\"Trovato il primo\", compagnia, \"all'indice\", i)\n",
    "```    "
   ]
  },
  {
   "cell_type": "raw",
   "id": "014c97dc",
   "metadata": {
    "format": "text/html"
   },
   "source": [
    "</div>"
   ]
  },
  {
   "cell_type": "markdown",
   "metadata": {},
   "source": [
    "### Esercizio - hangar\n",
    "\n",
    "✪✪ Il nostro aereo è appena atterrato ma deve arrivare all'hangar schivando tutti gli oggetti estranei che trova sulla pista!  Scrivi del codice che data una stringa `pista` con un certo numero di caratteri non alfanumerici all'inizio, STAMPA la parola che segue questi caratteri.\n",
    "\n",
    "Esempio - data:\n",
    "\n",
    "```python\n",
    "pista = '★★🏳🏳♦🏳♦🏳🏳hangar★★★' \n",
    "```\n",
    "\n",
    "il tuo codice deve stampare:\n",
    "\n",
    "`hangar★★★`\n",
    "\n",
    "* **NON** puoi sapere a priori quali caratteri extra troverai nella stringa\n",
    "* **NON** scrivere caratteri come ★🏳♦-_ nel codice\n",
    "\n",
    "**SUGGERIMENTO**: per determinare se hai trovato caratteri alfanumerici o numeri, usa i metodi `.isalpha()` e `.isdigit()`"
   ]
  },
  {
   "cell_type": "raw",
   "id": "036169ce",
   "metadata": {
    "format": "text/html"
   },
   "source": [
    "<a  class=\"jupman-sol jupman-sol-toggler\" \n",
    " onclick=\"jupman.toggleSolution(this);\" \n",
    " data-jupman-show=\"Mostra soluzione\" data-jupman-hide=\"Nascondi\">Mostra soluzione</a><div class=\"jupman-sol jupman-sol-code\" style=\"display:none\">  "
   ]
  },
  {
   "cell_type": "code",
   "execution_count": 23,
   "metadata": {},
   "outputs": [
    {
     "name": "stdout",
     "output_type": "stream",
     "text": [
      "hangar★★★\n"
     ]
    }
   ],
   "source": [
    "\n",
    "pista = '★★🏳🏳♦🏳♦🏳🏳hangar★★★'  # hangar★★★\n",
    "#pista = '🏳🏳bimotore'          # bimotore\n",
    "#pista = '-★♦--♦--747-🏳'        # 747-🏳\n",
    "#pista = 'aliante'              # aliante\n",
    "#pista = '__♦__🏳__♦_'           # non stampa niente\n",
    "\n",
    "# scrivi qui\n",
    "\n",
    "i = 0\n",
    "while i < len(pista) and not (pista[i].isalpha() or pista[i].isdigit()):\n",
    "    i += 1\n",
    "print(pista[i:])"
   ]
  },
  {
   "cell_type": "raw",
   "id": "c2e0a729",
   "metadata": {
    "format": "text/html"
   },
   "source": [
    "</div>"
   ]
  },
  {
   "cell_type": "code",
   "execution_count": 23,
   "metadata": {},
   "outputs": [],
   "source": [
    "\n",
    "pista = '★★🏳🏳♦🏳♦🏳🏳hangar★★★'  # hangar★★★\n",
    "#pista = '🏳🏳bimotore'          # bimotore\n",
    "#pista = '-★♦--♦--747-🏳'        # 747-🏳\n",
    "#pista = 'aliante'              # aliante\n",
    "#pista = '__♦__🏳__♦_'           # non stampa niente\n",
    "\n",
    "# scrivi qui\n",
    "\n"
   ]
  },
  {
   "cell_type": "markdown",
   "metadata": {},
   "source": [
    "### Esercizio - Wild West\n",
    "\n",
    "✪✪ I due banditi Carson e Butch hanno sepolto di comune accordo un tesoro nella ridente cittadina di Tombstone, ma adesso ciascuno dei due vuole riprenderselo senza condividere nulla con il compare. \n",
    "\n",
    "- per arrivare al tesoro c'è una `strada` da `Santa Fe` fino a `Tombstone` che rappresentiamo come lista di stringhe\n",
    "- per rappresentare dove sono i banditi nella strada, usiamo due indici `butch` e `carson`\n",
    "- ciascun bandito parte da una città diversa\n",
    "- ad ogni turno Carson si sposta di **una** città\n",
    "- ad ogni turno Butch si sposta di **due** città, perchè dispone di un veloce cavallo Mustang \n",
    "\n",
    "Scrivi del codice che stampa la corsa e termina non appena uno dei due arriva nell'ultima città, indicando chi ha preso il tesoro.\n",
    "\n",
    "* Nel caso entrambi i banditi arrivino contemporaneamente nell'ultima città, stampa 'Duello finale a Tombstone!' \n",
    "\n",
    "- il tuo codice deve funzionare per _qualsiasi_ `strada` e posizioni iniziale `carson` e `butch`\n",
    "\n",
    "Esempio 1 - dati\n",
    "\n",
    "```python\n",
    "#             0         1          2              3            4               5\n",
    "strada = ['Santa Fe','Denver','Dodge City', 'Silverton', 'Agua Caliente', 'Tombstone']\n",
    "carson,butch  = 3, 0   \n",
    "```\n",
    "\n",
    "deve stampare:\n",
    "\n",
    "```\n",
    "Carson parte da Silverton\n",
    "Butch parte da Santa Fe\n",
    "Carson raggiunge Agua Caliente\n",
    "Butch raggiunge Dodge City\n",
    "Carson raggiunge Tombstone\n",
    "Butch raggiunge Agua Caliente\n",
    "\n",
    "Carson ha trovato il tesoro a Tombstone !\n",
    "```\n",
    "\n",
    "Esempio 2 - dati\n",
    "\n",
    "```python\n",
    "strada = ['Santa Fe','Denver','Dodge City', 'Silverton', 'Agua Caliente', 'Tombstone']\n",
    "carson,butch  = 3, 2    \n",
    "```\n",
    "\n",
    "deve stampare:\n",
    "\n",
    "```\n",
    "Carson parte da Silverton\n",
    "Butch parte da Dodge City\n",
    "Carson raggiunge Agua Caliente\n",
    "Butch raggiunge Agua Caliente\n",
    "Carson raggiunge Tombstone\n",
    "Butch raggiunge Tombstone\n",
    "\n",
    "Duello finale a  Tombstone !\n",
    "\n",
    "```"
   ]
  },
  {
   "cell_type": "raw",
   "id": "c7631637",
   "metadata": {
    "format": "text/html"
   },
   "source": [
    "<a  class=\"jupman-sol jupman-sol-toggler\" \n",
    " onclick=\"jupman.toggleSolution(this);\" \n",
    " data-jupman-show=\"Mostra soluzione\" data-jupman-hide=\"Nascondi\">Mostra soluzione</a><div class=\"jupman-sol jupman-sol-code\" style=\"display:none\">  "
   ]
  },
  {
   "cell_type": "code",
   "execution_count": 24,
   "metadata": {
    "scrolled": true
   },
   "outputs": [
    {
     "name": "stdout",
     "output_type": "stream",
     "text": [
      "Carson parte da Silverton\n",
      "Butch parte da Santa Fe\n",
      "Carson raggiunge Agua Caliente\n",
      "Butch raggiunge Dodge City\n",
      "Carson raggiunge Tombstone\n",
      "Butch raggiunge Agua Caliente\n",
      "\n",
      "Carson ha trovato il tesoro a Tombstone !\n"
     ]
    }
   ],
   "source": [
    "\n",
    "#           0          1         2              3              4              5 \n",
    "strada = ['Santa Fe','Denver','Dodge City', 'Silverton', 'Agua Caliente', 'Tombstone']\n",
    "\n",
    "carson,butch  = 3, 0    #  Carson ha trovato il tesoro a Tombstone !\n",
    "#carson,butch  = 0, 0   #  Butch ha trovato il tesoro a Tombstone !\n",
    "#carson,butch  = 3, 2   #  Duello finale a Tombstone !\n",
    "\n",
    "# scrivi qui\n",
    "\n",
    "print('Carson parte da', strada[carson])\n",
    "print('Butch parte da', strada[butch])\n",
    "\n",
    "while carson < len(strada)-1 and butch < len(strada)-1:\n",
    "    carson = min(len(strada)-1, carson + 1)\n",
    "    butch = min(len(strada)-1, butch + 2)\n",
    "    print('Carson raggiunge', strada[carson])\n",
    "    print('Butch raggiunge', strada[butch])\n",
    "    \n",
    "    \n",
    "print()\n",
    "if carson == len(strada)-1 and butch == len(strada)-1:\n",
    "    print('Duello finale a ', strada[-1], '!')\n",
    "elif carson == len(strada)-1:\n",
    "    print('Carson ha trovato il tesoro a', strada[-1], '!')\n",
    "else: \n",
    "    print('Butch ha trovato il tesoro a', strada[-1], '!')"
   ]
  },
  {
   "cell_type": "raw",
   "id": "00a10a2c",
   "metadata": {
    "format": "text/html"
   },
   "source": [
    "</div>"
   ]
  },
  {
   "cell_type": "code",
   "execution_count": 24,
   "metadata": {
    "scrolled": true
   },
   "outputs": [],
   "source": [
    "\n",
    "#           0          1         2              3              4              5 \n",
    "strada = ['Santa Fe','Denver','Dodge City', 'Silverton', 'Agua Caliente', 'Tombstone']\n",
    "\n",
    "carson,butch  = 3, 0    #  Carson ha trovato il tesoro a Tombstone !\n",
    "#carson,butch  = 0, 0   #  Butch ha trovato il tesoro a Tombstone !\n",
    "#carson,butch  = 3, 2   #  Duello finale a Tombstone !\n",
    "\n",
    "# scrivi qui\n",
    "\n"
   ]
  },
  {
   "cell_type": "markdown",
   "metadata": {},
   "source": [
    "### Esercizio - La Bilancia del Linguaggio\n",
    "\n",
    "✪✪ Nei sacri scritti del profeta Zamfir, è predetto che qualora tutti gli abitanti della Terra  parleranno una lingua in cui tutte le parole hanno la stessa lunghezza, sarà raggiunta l'armonia tra le umane genti. Questo evento è previdibilmente assai lontano nel tempo e per quell'epoca il vocabolario degli umani sarà talmente ampio e variegato che per controllare tutte le parole serviranno certamente potenti calcoli: ti viene richiesto di programmare i server subacquei di Atlantis per effettuare questo controllo nei secoli dei secoli.\n",
    "\n",
    "Data una stringa di parole `linguaggio`, scrivi del codice che stampa `True` se tutte le parole hanno la stessa lunghezza, `False` altrimenti\n",
    "\n",
    "Per avere un algoritmo efficiente, dovrai usare un `while`: \n",
    "\n",
    "- ferma il ciclo appena puoi determinare con certezza il risultato del programma\n",
    "- **NON** usare `break`"
   ]
  },
  {
   "cell_type": "raw",
   "id": "3829bc76",
   "metadata": {
    "format": "text/html"
   },
   "source": [
    "<a  class=\"jupman-sol jupman-sol-toggler\" \n",
    " onclick=\"jupman.toggleSolution(this);\" \n",
    " data-jupman-show=\"Mostra soluzione\" data-jupman-hide=\"Nascondi\">Mostra soluzione</a><div class=\"jupman-sol jupman-sol-code\" style=\"display:none\">  "
   ]
  },
  {
   "cell_type": "code",
   "execution_count": 25,
   "metadata": {},
   "outputs": [
    {
     "name": "stdout",
     "output_type": "stream",
     "text": [
      "True\n"
     ]
    }
   ],
   "source": [
    "\n",
    "\n",
    "linguaggio =  \"armonia cosmica forever\" # True\n",
    "#linguaggio = \"guerra e violenza\"       # False\n",
    "#linguaggio = \"vi rt uo so\"             # True\n",
    "#linguaggio = \"sopraffazione inganno\"   # False\n",
    "#linguaggio = \"nessuna armonia reale\"   # False\n",
    "#linguaggio = \"pace\"                    # True\n",
    "#linguaggio = \"\"                        # True\n",
    "\n",
    "# scrivi qui\n",
    "li = linguaggio.split()\n",
    "\n",
    "n = len(li[0]) if len(li) > 0 else 0\n",
    "\n",
    "tutte_uguali = True\n",
    "i = 1\n",
    "while i < len(li) and tutte_uguali:\n",
    "    if n != len(li[i]):\n",
    "        tutte_uguali = False        \n",
    "    i += 1  \n",
    "\n",
    "print(tutte_uguali)"
   ]
  },
  {
   "cell_type": "raw",
   "id": "8e90735d",
   "metadata": {
    "format": "text/html"
   },
   "source": [
    "</div>"
   ]
  },
  {
   "cell_type": "code",
   "execution_count": 25,
   "metadata": {},
   "outputs": [],
   "source": [
    "\n",
    "\n",
    "linguaggio =  \"armonia cosmica forever\" # True\n",
    "#linguaggio = \"guerra e violenza\"       # False\n",
    "#linguaggio = \"vi rt uo so\"             # True\n",
    "#linguaggio = \"sopraffazione inganno\"   # False\n",
    "#linguaggio = \"nessuna armonia reale\"   # False\n",
    "#linguaggio = \"pace\"                    # True\n",
    "#linguaggio = \"\"                        # True\n",
    "\n",
    "# scrivi qui\n",
    "\n"
   ]
  },
  {
   "cell_type": "markdown",
   "metadata": {},
   "source": [
    "### Esercizio - lo sfrucugliatore\n",
    "\n",
    "✪✪✪ Giustino il contadino ha deciso di dare una svolta high-tech alla sua azienda agricola, e ti chiede di sviluppare uno 'sfrucugliatore' di alberi (così lo chiama lui..) per percuotere gli alberi e raccogliere i frutti esotici che ha piantato  in alta quota in montagna (ormai il cambiamento climatico lo permette...)\n",
    "\n",
    "La `piantagione` è una sequenza di alberi da frutto, elementi del paesaggio (pietre, ghiaia, etc) e cartelli `'C'`. L'inizio e la fine di una sottosequenza di alberi da frutto sono sempre marcate da un cartello.\n",
    "\n",
    "Il veicolo da progettare dispone di un `cassone` di **capienza 7** dove può mettere il raccolto. \n",
    "\n",
    "Scrivi del codice che percorre la piantagione e raccoglie in `cassone` i frutti trovati\n",
    "\n",
    "- **USA** un `while` **fermandolo** non appena il cassone è pieno \n",
    "- **NON** usare `break` nè `continue`\n",
    "- **NON** scrivere nomi dei frutti o elementi del paesaggio nel codice (niente `'banane'` o `'sassi'` ..). Puoi scrivere `'C'`. \n",
    "\n",
    "\n",
    "Esempio - data:\n",
    "\n",
    "```python\n",
    "piantagione = ['pietre','sassi',  'C',   'banane',   'arance',  'manghi', 'C',    'sabbia', 'sassi', 'sassi',\n",
    "                 'C',   'avocadi','C',   'gramigna','C',        'kiwi',  'manghi', 'C',     'C',     'C',\n",
    "                 'rocce', 'C',    'lime', 'C',      'ciottoli', 'C',     'arance', 'cocco', 'C',     'ghiaia']\n",
    "```\n",
    "\n",
    "dopo il tuo codice, deve risultare:\n",
    "\n",
    "```python\n",
    ">>> print(cassone)\n",
    "['banane', 'arance', 'manghi', 'avocadi', 'kiwi', 'manghi', 'lime']\n",
    "```"
   ]
  },
  {
   "cell_type": "raw",
   "id": "902a7fc7",
   "metadata": {
    "format": "text/html"
   },
   "source": [
    "<a  class=\"jupman-sol jupman-sol-toggler\" \n",
    " onclick=\"jupman.toggleSolution(this);\" \n",
    " data-jupman-show=\"Mostra soluzione\" data-jupman-hide=\"Nascondi\">Mostra soluzione</a><div class=\"jupman-sol jupman-sol-code\" style=\"display:none\">  "
   ]
  },
  {
   "cell_type": "code",
   "execution_count": 26,
   "metadata": {},
   "outputs": [
    {
     "name": "stdout",
     "output_type": "stream",
     "text": [
      "['banane', 'arance', 'manghi', 'avocadi', 'kiwi', 'manghi', 'lime']\n"
     ]
    }
   ],
   "source": [
    "              #   0        1       2       3         4           5        6        7         8        9\n",
    "piantagione = ['pietre','sassi',  'C',   'banane',   'arance',  'manghi', 'C',    'sabbia', 'sassi', 'sassi',\n",
    "              #   10       11      12      13        14          15       16       17        18       19 \n",
    "                 'C',   'avocadi','C',   'gramigna','C',        'kiwi',  'manghi', 'C',     'C',     'C',\n",
    "              #   20       21      22      23        24          25       26       27        28       29\n",
    "                 'rocce', 'C',    'lime', 'C',      'ciottoli', 'C',     'arance', 'cocco', 'C',     'ghiaia']\n",
    "\n",
    "#piantagione = ['C','C']   # []\n",
    "#piantagione = ['C','limoni','C']   # ['limoni']\n",
    "#piantagione = ['sabbia','C','limoni','C']   # ['limoni']\n",
    "#piantagione = ['arance']   # []\n",
    "#piantagione = ['C','1','2','3','4','5','6','7', '8','C']   # ['1','2','3','4','5','6','7']  \n",
    "#piantagione = ['C','1','2','C','x','C','3','4','5','6','7','8','C','9']   # ['1','2','3','4','5','6','7']  \n",
    "\n",
    "\n",
    "cassone = []\n",
    "\n",
    "# scrivi qui\n",
    "\n",
    "raccogliendo = False\n",
    "i = 0\n",
    "while i < len(piantagione) and len(cassone) < 7:\n",
    "    if piantagione[i] == 'C':\n",
    "        raccogliendo = not raccogliendo\n",
    "    else:\n",
    "        if raccogliendo:\n",
    "            cassone.append(piantagione[i])\n",
    "    i += 1\n",
    "print(cassone)"
   ]
  },
  {
   "cell_type": "raw",
   "id": "10dc77f3",
   "metadata": {
    "format": "text/html"
   },
   "source": [
    "</div>"
   ]
  },
  {
   "cell_type": "code",
   "execution_count": 26,
   "metadata": {},
   "outputs": [
    {
     "name": "stdout",
     "output_type": "stream",
     "text": [
      "['banane', 'arance', 'manghi', 'avocadi', 'kiwi', 'manghi', 'lime']\n"
     ]
    }
   ],
   "source": [
    "              #   0        1       2       3         4           5        6        7         8        9\n",
    "piantagione = ['pietre','sassi',  'C',   'banane',   'arance',  'manghi', 'C',    'sabbia', 'sassi', 'sassi',\n",
    "              #   10       11      12      13        14          15       16       17        18       19 \n",
    "                 'C',   'avocadi','C',   'gramigna','C',        'kiwi',  'manghi', 'C',     'C',     'C',\n",
    "              #   20       21      22      23        24          25       26       27        28       29\n",
    "                 'rocce', 'C',    'lime', 'C',      'ciottoli', 'C',     'arance', 'cocco', 'C',     'ghiaia']\n",
    "\n",
    "#piantagione = ['C','C']   # []\n",
    "#piantagione = ['C','limoni','C']   # ['limoni']\n",
    "#piantagione = ['sabbia','C','limoni','C']   # ['limoni']\n",
    "#piantagione = ['arance']   # []\n",
    "#piantagione = ['C','1','2','3','4','5','6','7', '8','C']   # ['1','2','3','4','5','6','7']  \n",
    "#piantagione = ['C','1','2','C','x','C','3','4','5','6','7','8','C','9']   # ['1','2','3','4','5','6','7']  \n",
    "\n",
    "\n",
    "cassone = []\n",
    "\n",
    "# scrivi qui\n",
    "\n"
   ]
  },
  {
   "cell_type": "markdown",
   "metadata": {},
   "source": [
    "### Esercizio - la posta nella stiva\n",
    "\n",
    "✪✪✪ Data una `stringa` e due caratteri `car1` e `car2`, scrivi del codice che STAMPA `True` se tutte le occorrenze di `car1` in stringa sono **sempre** seguite da `car2`.\n",
    "\n",
    "Esempio - data:\n",
    "\n",
    "```python\n",
    "stringa,car1,car2 = \"accatastare la posta nella stiva\", 's','t' \n",
    "```\n",
    "\n",
    "stampa `True` perchè tutte le occorrenze di `s` sono seguite da `t`\n",
    "\n",
    "\n",
    "```python\n",
    "stringa,car1,car2 = \"dadaista entusiasta\", 's','t'\n",
    "```\n",
    "\n",
    "stampa `False`, perchè viene ritrovata la sequenza `si` dove `s` non è seguita da `t`\n",
    "\n",
    "- **USA** un `while`, cerca di farlo efficiente terminandolo appena puoi\n",
    "- **NON** usare **break**"
   ]
  },
  {
   "cell_type": "raw",
   "id": "79e544a6",
   "metadata": {
    "format": "text/html"
   },
   "source": [
    "<a  class=\"jupman-sol jupman-sol-toggler\" \n",
    " onclick=\"jupman.toggleSolution(this);\" \n",
    " data-jupman-show=\"Mostra soluzione\" data-jupman-hide=\"Nascondi\">Mostra soluzione</a><div class=\"jupman-sol jupman-sol-code\" style=\"display:none\">  "
   ]
  },
  {
   "cell_type": "code",
   "execution_count": 27,
   "metadata": {},
   "outputs": [
    {
     "data": {
      "text/plain": [
       "True"
      ]
     },
     "execution_count": 27,
     "metadata": {},
     "output_type": "execute_result"
    }
   ],
   "source": [
    "\n",
    "stringa,car1,car2 = \"accatastare la posta nella stiva\", 's','t'  # True\n",
    "#stringa,car1,car2 = \"dadaista entusiasta\", 's','t'    # False\n",
    "#stringa,car1,car2 = \"barbabietole\", 't','o'           # True\n",
    "#stringa,car1,car2 = \"barbabietole\", 'b','a'           # False\n",
    "#stringa,car1,car2 = \"a\", 'a','b'                      # False\n",
    "#stringa,car1,car2 = \"ab\", 'a','b'                     # True\n",
    "#stringa,car1,car2 = \"aa\", 'a','b'                     # False\n",
    "\n",
    "\n",
    "# scrivi qui\n",
    "i = 0\n",
    "\n",
    "ris = True\n",
    "\n",
    "if len(stringa) == 1:\n",
    "    ris = False\n",
    "\n",
    "while i + 1 < len(stringa) and ris:\n",
    "    if stringa[i] == car1 and stringa[i+1] != car2:        \n",
    "        ris = False     \n",
    "    i += 1\n",
    "    \n",
    "ris"
   ]
  },
  {
   "cell_type": "raw",
   "id": "6e4415d6",
   "metadata": {
    "format": "text/html"
   },
   "source": [
    "</div>"
   ]
  },
  {
   "cell_type": "code",
   "execution_count": 27,
   "metadata": {},
   "outputs": [],
   "source": [
    "\n",
    "stringa,car1,car2 = \"accatastare la posta nella stiva\", 's','t'  # True\n",
    "#stringa,car1,car2 = \"dadaista entusiasta\", 's','t'    # False\n",
    "#stringa,car1,car2 = \"barbabietole\", 't','o'           # True\n",
    "#stringa,car1,car2 = \"barbabietole\", 'b','a'           # False\n",
    "#stringa,car1,car2 = \"a\", 'a','b'                      # False\n",
    "#stringa,car1,car2 = \"ab\", 'a','b'                     # True\n",
    "#stringa,car1,car2 = \"aa\", 'a','b'                     # False\n",
    "\n",
    "\n",
    "# scrivi qui\n",
    "\n"
   ]
  },
  {
   "cell_type": "markdown",
   "metadata": {},
   "source": [
    "## Modificare sequenze\n",
    "\n",
    "Nel foglio sui cicli `for` abbiamo visto un importante avvertimento, che ripetiamo qua:\n",
    "\n",
    "<div class=\"jupman-alert-principle\"></div>\n",
    "<div class=\"alert alert-info\" >\n",
    "\n",
    "[X COMANDAMENTO](https://it.softpython.org/commandments.html#X-COMANDAMENTO): **Non aggiungerai o toglierai mai elementi da una sequenza che stai iterando con un** `for`**!**\n",
    "\n",
    "Abbandonarti in simil tentazioni **produrrebbe comportamenti del tutto imprevedibili** (conosci forse l'espressione volgare _tirare il tappeto da sotto i piedi_?)\n",
    "\n",
    "**Se proprio devi rimuovere elementi dalla sequenza su cui stai iterando**, usa un ciclo `while` o effettua prima una copia della sequenza originale.\n",
    "\n",
    "</div>\n",
    "\n",
    "**Nota che l'avviso è solo per i cicli** `for`. In caso di necessità in fondo ci suggerisce di adottare come alternativa i `while`. Vediamo quindi quando e come usarli."
   ]
  },
  {
   "cell_type": "markdown",
   "metadata": {},
   "source": [
    "### Stack - Pescare da mazzo di carte\n",
    "\n",
    "Supponiamo di avere un mazzo di carte che rappresentiamo come lista di stringhe e vogliamo pescare tutte le carte, leggendole una per una\n",
    "\n",
    "Possiamo scrivere un `while` che fintanto che il mazzo contiene carte, continua a togliere la carte in cima con il [metodo pop](https://it.softpython.org/lists/lists3-sol.html#Metodo-pop) e ne stampa il nome. Ricordati che `pop` MODIFICA la lista rimuovendo l'ultimo elemento E restituisce l'elemento come risultato della chiamata, che possiamo quindi salvare in una variabile che in questo caso chiameremo `carta`:\n"
   ]
  },
  {
   "cell_type": "code",
   "execution_count": 28,
   "metadata": {},
   "outputs": [
    {
     "name": "stdout",
     "output_type": "stream",
     "text": [
      "pescato 8 fiori\n",
      "pescato 5 quadri\n",
      "pescato 9 cuori\n",
      "pescato 2 picche\n",
      "pescato 3 cuori\n",
      "Finite le carte !\n"
     ]
    },
    {
     "data": {
      "text/html": [
       "        \n",
       "        <script src=\"../_static/js/pytutor-embed.bundle.min.js\" type=\"application/javascript\"></script>\n",
       "    \n",
       "        <style>\n",
       "        @import \"../_static/css/jupman.css\";\n",
       "        </style>\n",
       "     \n",
       "        <script id=\"json-jm-ac557d9e253649db90fb108500f11fc1-30\" type=\"application/json\" >\n",
       "            {\"code\": \" \\nmazzo = ['3 cuori',   # <---- in fondo\\n         '2 picche',\\n         '9 cuori',\\n         '5 quadri',\\n         '8 fiori']   # <---- in cima\\n\\nwhile len(mazzo) > 0:\\n    carta = mazzo.pop()      \\n    print('pescato', carta)\\n\\nprint('Finite le carte !')\", \"trace\": [{\"line\": 2, \"event\": \"step_line\", \"func_name\": \"<module>\", \"globals\": {}, \"ordered_globals\": [], \"stack_to_render\": [], \"heap\": {}, \"stdout\": \"\"}, {\"line\": 3, \"event\": \"step_line\", \"func_name\": \"<module>\", \"globals\": {}, \"ordered_globals\": [], \"stack_to_render\": [], \"heap\": {}, \"stdout\": \"\"}, {\"line\": 4, \"event\": \"step_line\", \"func_name\": \"<module>\", \"globals\": {}, \"ordered_globals\": [], \"stack_to_render\": [], \"heap\": {}, \"stdout\": \"\"}, {\"line\": 5, \"event\": \"step_line\", \"func_name\": \"<module>\", \"globals\": {}, \"ordered_globals\": [], \"stack_to_render\": [], \"heap\": {}, \"stdout\": \"\"}, {\"line\": 6, \"event\": \"step_line\", \"func_name\": \"<module>\", \"globals\": {}, \"ordered_globals\": [], \"stack_to_render\": [], \"heap\": {}, \"stdout\": \"\"}, {\"line\": 8, \"event\": \"step_line\", \"func_name\": \"<module>\", \"globals\": {\"mazzo\": [\"REF\", 1]}, \"ordered_globals\": [\"mazzo\"], \"stack_to_render\": [], \"heap\": {\"1\": [\"LIST\", \"3 cuori\", \"2 picche\", \"9 cuori\", \"5 quadri\", \"8 fiori\"]}, \"stdout\": \"\"}, {\"line\": 9, \"event\": \"step_line\", \"func_name\": \"<module>\", \"globals\": {\"mazzo\": [\"REF\", 1]}, \"ordered_globals\": [\"mazzo\"], \"stack_to_render\": [], \"heap\": {\"1\": [\"LIST\", \"3 cuori\", \"2 picche\", \"9 cuori\", \"5 quadri\", \"8 fiori\"]}, \"stdout\": \"\"}, {\"line\": 10, \"event\": \"step_line\", \"func_name\": \"<module>\", \"globals\": {\"mazzo\": [\"REF\", 1], \"carta\": \"8 fiori\"}, \"ordered_globals\": [\"mazzo\", \"carta\"], \"stack_to_render\": [], \"heap\": {\"1\": [\"LIST\", \"3 cuori\", \"2 picche\", \"9 cuori\", \"5 quadri\"]}, \"stdout\": \"\"}, {\"line\": 8, \"event\": \"step_line\", \"func_name\": \"<module>\", \"globals\": {\"mazzo\": [\"REF\", 1], \"carta\": \"8 fiori\"}, \"ordered_globals\": [\"mazzo\", \"carta\"], \"stack_to_render\": [], \"heap\": {\"1\": [\"LIST\", \"3 cuori\", \"2 picche\", \"9 cuori\", \"5 quadri\"]}, \"stdout\": \"pescato 8 fiori\\n\"}, {\"line\": 9, \"event\": \"step_line\", \"func_name\": \"<module>\", \"globals\": {\"mazzo\": [\"REF\", 1], \"carta\": \"8 fiori\"}, \"ordered_globals\": [\"mazzo\", \"carta\"], \"stack_to_render\": [], \"heap\": {\"1\": [\"LIST\", \"3 cuori\", \"2 picche\", \"9 cuori\", \"5 quadri\"]}, \"stdout\": \"pescato 8 fiori\\n\"}, {\"line\": 10, \"event\": \"step_line\", \"func_name\": \"<module>\", \"globals\": {\"mazzo\": [\"REF\", 1], \"carta\": \"5 quadri\"}, \"ordered_globals\": [\"mazzo\", \"carta\"], \"stack_to_render\": [], \"heap\": {\"1\": [\"LIST\", \"3 cuori\", \"2 picche\", \"9 cuori\"]}, \"stdout\": \"pescato 8 fiori\\n\"}, {\"line\": 8, \"event\": \"step_line\", \"func_name\": \"<module>\", \"globals\": {\"mazzo\": [\"REF\", 1], \"carta\": \"5 quadri\"}, \"ordered_globals\": [\"mazzo\", \"carta\"], \"stack_to_render\": [], \"heap\": {\"1\": [\"LIST\", \"3 cuori\", \"2 picche\", \"9 cuori\"]}, \"stdout\": \"pescato 8 fiori\\npescato 5 quadri\\n\"}, {\"line\": 9, \"event\": \"step_line\", \"func_name\": \"<module>\", \"globals\": {\"mazzo\": [\"REF\", 1], \"carta\": \"5 quadri\"}, \"ordered_globals\": [\"mazzo\", \"carta\"], \"stack_to_render\": [], \"heap\": {\"1\": [\"LIST\", \"3 cuori\", \"2 picche\", \"9 cuori\"]}, \"stdout\": \"pescato 8 fiori\\npescato 5 quadri\\n\"}, {\"line\": 10, \"event\": \"step_line\", \"func_name\": \"<module>\", \"globals\": {\"mazzo\": [\"REF\", 1], \"carta\": \"9 cuori\"}, \"ordered_globals\": [\"mazzo\", \"carta\"], \"stack_to_render\": [], \"heap\": {\"1\": [\"LIST\", \"3 cuori\", \"2 picche\"]}, \"stdout\": \"pescato 8 fiori\\npescato 5 quadri\\n\"}, {\"line\": 8, \"event\": \"step_line\", \"func_name\": \"<module>\", \"globals\": {\"mazzo\": [\"REF\", 1], \"carta\": \"9 cuori\"}, \"ordered_globals\": [\"mazzo\", \"carta\"], \"stack_to_render\": [], \"heap\": {\"1\": [\"LIST\", \"3 cuori\", \"2 picche\"]}, \"stdout\": \"pescato 8 fiori\\npescato 5 quadri\\npescato 9 cuori\\n\"}, {\"line\": 9, \"event\": \"step_line\", \"func_name\": \"<module>\", \"globals\": {\"mazzo\": [\"REF\", 1], \"carta\": \"9 cuori\"}, \"ordered_globals\": [\"mazzo\", \"carta\"], \"stack_to_render\": [], \"heap\": {\"1\": [\"LIST\", \"3 cuori\", \"2 picche\"]}, \"stdout\": \"pescato 8 fiori\\npescato 5 quadri\\npescato 9 cuori\\n\"}, {\"line\": 10, \"event\": \"step_line\", \"func_name\": \"<module>\", \"globals\": {\"mazzo\": [\"REF\", 1], \"carta\": \"2 picche\"}, \"ordered_globals\": [\"mazzo\", \"carta\"], \"stack_to_render\": [], \"heap\": {\"1\": [\"LIST\", \"3 cuori\"]}, \"stdout\": \"pescato 8 fiori\\npescato 5 quadri\\npescato 9 cuori\\n\"}, {\"line\": 8, \"event\": \"step_line\", \"func_name\": \"<module>\", \"globals\": {\"mazzo\": [\"REF\", 1], \"carta\": \"2 picche\"}, \"ordered_globals\": [\"mazzo\", \"carta\"], \"stack_to_render\": [], \"heap\": {\"1\": [\"LIST\", \"3 cuori\"]}, \"stdout\": \"pescato 8 fiori\\npescato 5 quadri\\npescato 9 cuori\\npescato 2 picche\\n\"}, {\"line\": 9, \"event\": \"step_line\", \"func_name\": \"<module>\", \"globals\": {\"mazzo\": [\"REF\", 1], \"carta\": \"2 picche\"}, \"ordered_globals\": [\"mazzo\", \"carta\"], \"stack_to_render\": [], \"heap\": {\"1\": [\"LIST\", \"3 cuori\"]}, \"stdout\": \"pescato 8 fiori\\npescato 5 quadri\\npescato 9 cuori\\npescato 2 picche\\n\"}, {\"line\": 10, \"event\": \"step_line\", \"func_name\": \"<module>\", \"globals\": {\"mazzo\": [\"REF\", 1], \"carta\": \"3 cuori\"}, \"ordered_globals\": [\"mazzo\", \"carta\"], \"stack_to_render\": [], \"heap\": {\"1\": [\"LIST\"]}, \"stdout\": \"pescato 8 fiori\\npescato 5 quadri\\npescato 9 cuori\\npescato 2 picche\\n\"}, {\"line\": 8, \"event\": \"step_line\", \"func_name\": \"<module>\", \"globals\": {\"mazzo\": [\"REF\", 1], \"carta\": \"3 cuori\"}, \"ordered_globals\": [\"mazzo\", \"carta\"], \"stack_to_render\": [], \"heap\": {\"1\": [\"LIST\"]}, \"stdout\": \"pescato 8 fiori\\npescato 5 quadri\\npescato 9 cuori\\npescato 2 picche\\npescato 3 cuori\\n\"}, {\"line\": 12, \"event\": \"step_line\", \"func_name\": \"<module>\", \"globals\": {\"mazzo\": [\"REF\", 1], \"carta\": \"3 cuori\"}, \"ordered_globals\": [\"mazzo\", \"carta\"], \"stack_to_render\": [], \"heap\": {\"1\": [\"LIST\"]}, \"stdout\": \"pescato 8 fiori\\npescato 5 quadri\\npescato 9 cuori\\npescato 2 picche\\npescato 3 cuori\\n\"}, {\"line\": 12, \"event\": \"return\", \"func_name\": \"<module>\", \"globals\": {\"mazzo\": [\"REF\", 1], \"carta\": \"3 cuori\"}, \"ordered_globals\": [\"mazzo\", \"carta\"], \"stack_to_render\": [], \"heap\": {\"1\": [\"LIST\"]}, \"stdout\": \"pescato 8 fiori\\npescato 5 quadri\\npescato 9 cuori\\npescato 2 picche\\npescato 3 cuori\\nFinite le carte !\\n\"}]}\n",
       "        </script>\n",
       "        <div id=\"jm-ac557d9e253649db90fb108500f11fc1-30\" class=\"pytutorVisualizer\"> </div>\n",
       "                        \n",
       "        <script>\n",
       "        \n",
       "        (function(){\n",
       "            console.log(\"jupman.py embedded javascript: adding Python tutor visualizer...\")\n",
       "            \n",
       "            var trace = JSON.parse(document.getElementById('json-jm-ac557d9e253649db90fb108500f11fc1-30').innerHTML);                                        \n",
       "            // NOTE: id without #\n",
       "                    \n",
       "            addVisualizerToPage(trace, 'jm-ac557d9e253649db90fb108500f11fc1-30',{'embeddedMode' : false,\n",
       "                                             'disableHeapNesting': true,\n",
       "                                             'visualizerIdOverride':'viz-jm-ac557d9e253649db90fb108500f11fc1-30'})  \n",
       "            \n",
       "            \n",
       "            // set overflow for pytuts - need to do in python as css \n",
       "            // does not allow parent selection\n",
       "            var pytuts = $('.pytutorVisualizer')\n",
       "            pytuts.closest('div.output_html.rendered_html.output_result')\n",
       "                    .css('overflow-x', 'visible')\n",
       "        \n",
       "            //pytuts.closest('div.output_html.rendered_html.output_result')\n",
       "            //      .css('background-color','red')                \n",
       "            \n",
       "        })()\n",
       "        </script>\n",
       "                \n",
       "    \n",
       "    <div style=\"text-align:center; font-size:0.9em\"> <a href=\"https://pythontutor.com/visualize.html#mode=edit\" target=\"_blank\">Python Tutor</a> visualization</div> \n",
       "    "
      ],
      "text/plain": [
       "<IPython.core.display.HTML object>"
      ]
     },
     "execution_count": 28,
     "metadata": {},
     "output_type": "execute_result"
    }
   ],
   "source": [
    "mazzo = ['3 cuori',   # <---- in fondo\n",
    "         '2 picche',\n",
    "         '9 cuori',\n",
    "         '5 quadri',\n",
    "         '8 fiori']   # <---- in cima\n",
    "\n",
    "while len(mazzo) > 0:\n",
    "    carta = mazzo.pop()      \n",
    "    print('pescato', carta)\n",
    "\n",
    "print('Finite le carte !')\n",
    "\n",
    "jupman.pytut()"
   ]
  },
  {
   "cell_type": "markdown",
   "metadata": {},
   "source": [
    "Guardando il codice, possiamo notare che:\n",
    "\n",
    "1. la variabile `mazzo` viene inizializzata\n",
    "2. si verifica che la dimensione di `mazzo` sia maggiore di zero\n",
    "3. ad ogni passo la lista `mazzo` viene MODIFICATA riducendone la dimensione\n",
    "4. ritorna al punto 2 \n",
    "\n",
    "I primi tre punti sono le condizioni che ci garantiscono che il `while` prima o poi terminerà, "
   ]
  },
  {
   "cell_type": "markdown",
   "metadata": {},
   "source": [
    "### Stack - Pescare fino a condizione"
   ]
  },
  {
   "cell_type": "markdown",
   "metadata": {},
   "source": [
    "Supponiamo adesso di continuare a pescare carte finchè non ne troviamo una di cuori. La situazione è più complicata, perchè adesso il ciclo può terminare in due modi:\n",
    "\n",
    "1. troviamo cuori, e interrompiamo la ricerca\n",
    "2. non ci sono carte di cuori, e il mazzo si esaurisce\n",
    "\n",
    "In ogni caso, alla fine dobbiamo riportare all'utente un risultato. A tal fine, ci risulta comodo inizializzare all'inizio la variabile `carta` come stringa vuota per gestire il caso non vengano trovate carte di cuori (o il mazzo sia vuoto).\n",
    "\n",
    "Proviamo una prima implementazione che usa un `if` interno che verifica se abbiamo trovato cuori e in tal caso esce con il comando `break`. \n",
    "\n",
    "* Prova ad eseguire il codice togliendo il commento al secondo mazzo che non ha carte di cuori e guarda la differenza nell'esecuzione."
   ]
  },
  {
   "cell_type": "code",
   "execution_count": 29,
   "metadata": {},
   "outputs": [
    {
     "name": "stdout",
     "output_type": "stream",
     "text": [
      "pescato 8 fiori\n",
      "pescato 5 quadri\n",
      "pescato 9 cuori\n",
      "Ho trovato cuori!\n"
     ]
    },
    {
     "data": {
      "text/html": [
       "        \n",
       "        <script src=\"../_static/js/pytutor-embed.bundle.min.js\" type=\"application/javascript\"></script>\n",
       "    \n",
       "        <style>\n",
       "        @import \"../_static/css/jupman.css\";\n",
       "        </style>\n",
       "     \n",
       "        <script id=\"json-jm-4e2b1da79414a71e7309d7ccee448be6-31\" type=\"application/json\" >\n",
       "            {\"code\": \" \\nmazzo = ['3 cuori','2 picche','9 cuori','5 quadri','8 fiori']\\n#mazzo = ['8 picche','2 picche','5 quadri','4 fiori']   # niente cuori !\\ncarta = ''\\nwhile len(mazzo) > 0:\\n    carta = mazzo.pop()      \\n    print('pescato', carta)\\n    if 'cuori' in carta:\\n        break\\n        \\nif 'cuori' in carta:\\n    print('Ho trovato cuori!')\\nelse:\\n    print('Non ho trovato carte di cuori !')\", \"trace\": [{\"line\": 2, \"event\": \"step_line\", \"func_name\": \"<module>\", \"globals\": {}, \"ordered_globals\": [], \"stack_to_render\": [], \"heap\": {}, \"stdout\": \"\"}, {\"line\": 4, \"event\": \"step_line\", \"func_name\": \"<module>\", \"globals\": {\"mazzo\": [\"REF\", 1]}, \"ordered_globals\": [\"mazzo\"], \"stack_to_render\": [], \"heap\": {\"1\": [\"LIST\", \"3 cuori\", \"2 picche\", \"9 cuori\", \"5 quadri\", \"8 fiori\"]}, \"stdout\": \"\"}, {\"line\": 5, \"event\": \"step_line\", \"func_name\": \"<module>\", \"globals\": {\"mazzo\": [\"REF\", 1], \"carta\": \"\"}, \"ordered_globals\": [\"mazzo\", \"carta\"], \"stack_to_render\": [], \"heap\": {\"1\": [\"LIST\", \"3 cuori\", \"2 picche\", \"9 cuori\", \"5 quadri\", \"8 fiori\"]}, \"stdout\": \"\"}, {\"line\": 6, \"event\": \"step_line\", \"func_name\": \"<module>\", \"globals\": {\"mazzo\": [\"REF\", 1], \"carta\": \"\"}, \"ordered_globals\": [\"mazzo\", \"carta\"], \"stack_to_render\": [], \"heap\": {\"1\": [\"LIST\", \"3 cuori\", \"2 picche\", \"9 cuori\", \"5 quadri\", \"8 fiori\"]}, \"stdout\": \"\"}, {\"line\": 7, \"event\": \"step_line\", \"func_name\": \"<module>\", \"globals\": {\"mazzo\": [\"REF\", 1], \"carta\": \"8 fiori\"}, \"ordered_globals\": [\"mazzo\", \"carta\"], \"stack_to_render\": [], \"heap\": {\"1\": [\"LIST\", \"3 cuori\", \"2 picche\", \"9 cuori\", \"5 quadri\"]}, \"stdout\": \"\"}, {\"line\": 8, \"event\": \"step_line\", \"func_name\": \"<module>\", \"globals\": {\"mazzo\": [\"REF\", 1], \"carta\": \"8 fiori\"}, \"ordered_globals\": [\"mazzo\", \"carta\"], \"stack_to_render\": [], \"heap\": {\"1\": [\"LIST\", \"3 cuori\", \"2 picche\", \"9 cuori\", \"5 quadri\"]}, \"stdout\": \"pescato 8 fiori\\n\"}, {\"line\": 5, \"event\": \"step_line\", \"func_name\": \"<module>\", \"globals\": {\"mazzo\": [\"REF\", 1], \"carta\": \"8 fiori\"}, \"ordered_globals\": [\"mazzo\", \"carta\"], \"stack_to_render\": [], \"heap\": {\"1\": [\"LIST\", \"3 cuori\", \"2 picche\", \"9 cuori\", \"5 quadri\"]}, \"stdout\": \"pescato 8 fiori\\n\"}, {\"line\": 6, \"event\": \"step_line\", \"func_name\": \"<module>\", \"globals\": {\"mazzo\": [\"REF\", 1], \"carta\": \"8 fiori\"}, \"ordered_globals\": [\"mazzo\", \"carta\"], \"stack_to_render\": [], \"heap\": {\"1\": [\"LIST\", \"3 cuori\", \"2 picche\", \"9 cuori\", \"5 quadri\"]}, \"stdout\": \"pescato 8 fiori\\n\"}, {\"line\": 7, \"event\": \"step_line\", \"func_name\": \"<module>\", \"globals\": {\"mazzo\": [\"REF\", 1], \"carta\": \"5 quadri\"}, \"ordered_globals\": [\"mazzo\", \"carta\"], \"stack_to_render\": [], \"heap\": {\"1\": [\"LIST\", \"3 cuori\", \"2 picche\", \"9 cuori\"]}, \"stdout\": \"pescato 8 fiori\\n\"}, {\"line\": 8, \"event\": \"step_line\", \"func_name\": \"<module>\", \"globals\": {\"mazzo\": [\"REF\", 1], \"carta\": \"5 quadri\"}, \"ordered_globals\": [\"mazzo\", \"carta\"], \"stack_to_render\": [], \"heap\": {\"1\": [\"LIST\", \"3 cuori\", \"2 picche\", \"9 cuori\"]}, \"stdout\": \"pescato 8 fiori\\npescato 5 quadri\\n\"}, {\"line\": 5, \"event\": \"step_line\", \"func_name\": \"<module>\", \"globals\": {\"mazzo\": [\"REF\", 1], \"carta\": \"5 quadri\"}, \"ordered_globals\": [\"mazzo\", \"carta\"], \"stack_to_render\": [], \"heap\": {\"1\": [\"LIST\", \"3 cuori\", \"2 picche\", \"9 cuori\"]}, \"stdout\": \"pescato 8 fiori\\npescato 5 quadri\\n\"}, {\"line\": 6, \"event\": \"step_line\", \"func_name\": \"<module>\", \"globals\": {\"mazzo\": [\"REF\", 1], \"carta\": \"5 quadri\"}, \"ordered_globals\": [\"mazzo\", \"carta\"], \"stack_to_render\": [], \"heap\": {\"1\": [\"LIST\", \"3 cuori\", \"2 picche\", \"9 cuori\"]}, \"stdout\": \"pescato 8 fiori\\npescato 5 quadri\\n\"}, {\"line\": 7, \"event\": \"step_line\", \"func_name\": \"<module>\", \"globals\": {\"mazzo\": [\"REF\", 1], \"carta\": \"9 cuori\"}, \"ordered_globals\": [\"mazzo\", \"carta\"], \"stack_to_render\": [], \"heap\": {\"1\": [\"LIST\", \"3 cuori\", \"2 picche\"]}, \"stdout\": \"pescato 8 fiori\\npescato 5 quadri\\n\"}, {\"line\": 8, \"event\": \"step_line\", \"func_name\": \"<module>\", \"globals\": {\"mazzo\": [\"REF\", 1], \"carta\": \"9 cuori\"}, \"ordered_globals\": [\"mazzo\", \"carta\"], \"stack_to_render\": [], \"heap\": {\"1\": [\"LIST\", \"3 cuori\", \"2 picche\"]}, \"stdout\": \"pescato 8 fiori\\npescato 5 quadri\\npescato 9 cuori\\n\"}, {\"line\": 9, \"event\": \"step_line\", \"func_name\": \"<module>\", \"globals\": {\"mazzo\": [\"REF\", 1], \"carta\": \"9 cuori\"}, \"ordered_globals\": [\"mazzo\", \"carta\"], \"stack_to_render\": [], \"heap\": {\"1\": [\"LIST\", \"3 cuori\", \"2 picche\"]}, \"stdout\": \"pescato 8 fiori\\npescato 5 quadri\\npescato 9 cuori\\n\"}, {\"line\": 11, \"event\": \"step_line\", \"func_name\": \"<module>\", \"globals\": {\"mazzo\": [\"REF\", 1], \"carta\": \"9 cuori\"}, \"ordered_globals\": [\"mazzo\", \"carta\"], \"stack_to_render\": [], \"heap\": {\"1\": [\"LIST\", \"3 cuori\", \"2 picche\"]}, \"stdout\": \"pescato 8 fiori\\npescato 5 quadri\\npescato 9 cuori\\n\"}, {\"line\": 12, \"event\": \"step_line\", \"func_name\": \"<module>\", \"globals\": {\"mazzo\": [\"REF\", 1], \"carta\": \"9 cuori\"}, \"ordered_globals\": [\"mazzo\", \"carta\"], \"stack_to_render\": [], \"heap\": {\"1\": [\"LIST\", \"3 cuori\", \"2 picche\"]}, \"stdout\": \"pescato 8 fiori\\npescato 5 quadri\\npescato 9 cuori\\n\"}, {\"line\": 12, \"event\": \"return\", \"func_name\": \"<module>\", \"globals\": {\"mazzo\": [\"REF\", 1], \"carta\": \"9 cuori\"}, \"ordered_globals\": [\"mazzo\", \"carta\"], \"stack_to_render\": [], \"heap\": {\"1\": [\"LIST\", \"3 cuori\", \"2 picche\"]}, \"stdout\": \"pescato 8 fiori\\npescato 5 quadri\\npescato 9 cuori\\nHo trovato cuori!\\n\"}]}\n",
       "        </script>\n",
       "        <div id=\"jm-4e2b1da79414a71e7309d7ccee448be6-31\" class=\"pytutorVisualizer\"> </div>\n",
       "                        \n",
       "        <script>\n",
       "        \n",
       "        (function(){\n",
       "            console.log(\"jupman.py embedded javascript: adding Python tutor visualizer...\")\n",
       "            \n",
       "            var trace = JSON.parse(document.getElementById('json-jm-4e2b1da79414a71e7309d7ccee448be6-31').innerHTML);                                        \n",
       "            // NOTE: id without #\n",
       "                    \n",
       "            addVisualizerToPage(trace, 'jm-4e2b1da79414a71e7309d7ccee448be6-31',{'embeddedMode' : false,\n",
       "                                             'disableHeapNesting': true,\n",
       "                                             'visualizerIdOverride':'viz-jm-4e2b1da79414a71e7309d7ccee448be6-31'})  \n",
       "            \n",
       "            \n",
       "            // set overflow for pytuts - need to do in python as css \n",
       "            // does not allow parent selection\n",
       "            var pytuts = $('.pytutorVisualizer')\n",
       "            pytuts.closest('div.output_html.rendered_html.output_result')\n",
       "                    .css('overflow-x', 'visible')\n",
       "        \n",
       "            //pytuts.closest('div.output_html.rendered_html.output_result')\n",
       "            //      .css('background-color','red')                \n",
       "            \n",
       "        })()\n",
       "        </script>\n",
       "                \n",
       "    \n",
       "    <div style=\"text-align:center; font-size:0.9em\"> <a href=\"https://pythontutor.com/visualize.html#mode=edit\" target=\"_blank\">Python Tutor</a> visualization</div> \n",
       "    "
      ],
      "text/plain": [
       "<IPython.core.display.HTML object>"
      ]
     },
     "execution_count": 29,
     "metadata": {},
     "output_type": "execute_result"
    }
   ],
   "source": [
    "mazzo = ['3 cuori','2 picche','9 cuori','5 quadri','8 fiori']\n",
    "#mazzo = ['8 picche','2 picche','5 quadri','4 fiori']   # niente cuori !\n",
    "carta = ''\n",
    "while len(mazzo) > 0:\n",
    "    carta = mazzo.pop()      \n",
    "    print('pescato', carta)\n",
    "    if 'cuori' in carta:\n",
    "        break\n",
    "        \n",
    "if 'cuori' in carta:\n",
    "    print('Ho trovato cuori!')\n",
    "else:\n",
    "    print('Non ho trovato carte di cuori !')\n",
    "\n",
    "jupman.pytut()"
   ]
  },
  {
   "cell_type": "markdown",
   "metadata": {},
   "source": [
    "### Esercizio - Don't break my heart\n",
    "\n",
    "✪ Prova a scrivere del codice che risolve lo stesso problema precedente:\n",
    "\n",
    "* questa volta **NON** usare il `break` \n",
    "* assicurati che il codice funzioni con un mazzo senza cuori e anche con un mazzo vuoto\n",
    "* **SUGGERIMENTO**: metti una condizione multipla nel `while`"
   ]
  },
  {
   "cell_type": "raw",
   "id": "c9c3b775",
   "metadata": {
    "format": "text/html"
   },
   "source": [
    "<a  class=\"jupman-sol jupman-sol-toggler\" \n",
    " onclick=\"jupman.toggleSolution(this);\" \n",
    " data-jupman-show=\"Mostra soluzione\" data-jupman-hide=\"Nascondi\">Mostra soluzione</a><div class=\"jupman-sol jupman-sol-code\" style=\"display:none\">  "
   ]
  },
  {
   "cell_type": "code",
   "execution_count": 30,
   "metadata": {},
   "outputs": [
    {
     "name": "stdout",
     "output_type": "stream",
     "text": [
      "pescato 8 fiori\n",
      "pescato 5 quadri\n",
      "pescato 9 cuori\n",
      "Ho trovato cuori!\n"
     ]
    }
   ],
   "source": [
    "\n",
    "mazzo = ['3 cuori','2 picche','9 cuori','5 quadri','8 fiori']\n",
    "#mazzo = ['8 picche','2 picche','5 quadri','4 fiori']   # niente cuori !\n",
    "#mazzo = []  # niente cuori !\n",
    "\n",
    "carta = ''\n",
    "\n",
    "# scrivi qui\n",
    "\n",
    "while len(mazzo) > 0 and 'cuori' not in carta:\n",
    "    carta = mazzo.pop()      \n",
    "    print('pescato', carta)\n",
    "\n",
    "if 'cuori' in carta: \n",
    "    print('Ho trovato cuori!')\n",
    "else:\n",
    "    print('Non ho trovato carte di cuori !')\n"
   ]
  },
  {
   "cell_type": "raw",
   "id": "e13c6eff",
   "metadata": {
    "format": "text/html"
   },
   "source": [
    "</div>"
   ]
  },
  {
   "cell_type": "code",
   "execution_count": 30,
   "metadata": {},
   "outputs": [],
   "source": [
    "\n",
    "mazzo = ['3 cuori','2 picche','9 cuori','5 quadri','8 fiori']\n",
    "#mazzo = ['8 picche','2 picche','5 quadri','4 fiori']   # niente cuori !\n",
    "#mazzo = []  # niente cuori !\n",
    "\n",
    "carta = ''\n",
    "\n",
    "# scrivi qui\n",
    "\n"
   ]
  },
  {
   "cell_type": "markdown",
   "metadata": {},
   "source": [
    "### Domande - cosa fanno?\n",
    "\n",
    "**DOMANDA**: Guarda i seguenti frammenti di codice, e per ciascuno cerca di indovinare quale risultato produce (o se da errore):\n",
    "\n",
    "1.  ```python\n",
    "    while []:\n",
    "        print('z')\n",
    "    print('BIG')\n",
    "    ```\n",
    "    \n",
    "1.  ```python\n",
    "    while ['a']:\n",
    "        print('z')\n",
    "    print('BUG')\n",
    "    ```\n",
    "1.  ```python\n",
    "    la = []\n",
    "    while len(la) < 3:\n",
    "        la.append('x')\n",
    "    print(la)\n",
    "    ```\n",
    "1.  ```python\n",
    "    la = ['x','y','z']\n",
    "    while len(la) > 0:\n",
    "        print(la.pop())\n",
    "    ```\n",
    "1.  ```python\n",
    "    la = ['x','y','z']\n",
    "    while la:\n",
    "        print(la.pop(0))    \n",
    "    ```\n",
    "1.  ```python\n",
    "    la = [4,5,8,10]\n",
    "    while la.pop() % 2 == 0:\n",
    "        print(la)\n",
    "    ```"
   ]
  },
  {
   "cell_type": "markdown",
   "metadata": {},
   "source": [
    "### Domande - sono equivalenti?\n",
    "\n",
    "Guarda i seguenti frammenti di codice: in ciascuno, vi sono due parti, A e B. In ciascun frammento, cerca di indovinare se la parte A stamperà esattamente quello che stampa il codice nella parte B.\n",
    "\n",
    "* **PRIMA** pensa alla risposta\n",
    "* **POI** prova ad eseguire "
   ]
  },
  {
   "cell_type": "markdown",
   "metadata": {},
   "source": [
    "### Sono equivalenti? - treno\n",
    "\n",
    "```python\n",
    "print('A:')\n",
    "la = ['t','r','e','n','o']\n",
    "while len(la) > 0:\n",
    "    print(la.pop())\n",
    "    \n",
    "print('\\nB:')\n",
    "la = ['t','r','e','n','o']\n",
    "la.reverse()\n",
    "while len(la) > 0:\n",
    "    print(la.pop(0))\n",
    "```"
   ]
  },
  {
   "cell_type": "markdown",
   "metadata": {},
   "source": [
    "### Sono equivalenti? - append nx\n",
    "\n",
    "```python\n",
    "print('A:')\n",
    "x,n,la = 2,0,[]\n",
    "while x not in la:\n",
    "    la.append(n)\n",
    "    n += 1\n",
    "print(la)\n",
    "\n",
    "print('\\nB:')\n",
    "x,la = 2,[]\n",
    "while len(la) < 3:\n",
    "    la.append(x)\n",
    "    x += 1\n",
    "print(la)\n",
    "```"
   ]
  },
  {
   "cell_type": "markdown",
   "metadata": {},
   "source": [
    "## Esercizi su stack"
   ]
  },
  {
   "cell_type": "markdown",
   "metadata": {},
   "source": [
    "### Esercizio - break somma\n",
    "\n",
    "✪ Guarda il codice seguente, e riscrivilo nella cella seguente come `while` questa volta **usando il comando** `break`"
   ]
  },
  {
   "cell_type": "code",
   "execution_count": 31,
   "metadata": {},
   "outputs": [
    {
     "name": "stdout",
     "output_type": "stream",
     "text": [
      "[0]\n",
      "[0, 1]\n",
      "[0, 1, 2]\n",
      "[0, 1, 2, 3]\n",
      "[0, 1, 2, 3, 4]\n"
     ]
    }
   ],
   "source": [
    "\n",
    "lista = []\n",
    "i = 0\n",
    "k = 10\n",
    "while sum(lista) < k:\n",
    "    lista.append(i)\n",
    "    i += 1\n",
    "    print(lista)"
   ]
  },
  {
   "cell_type": "raw",
   "id": "459b8a80",
   "metadata": {
    "format": "text/html"
   },
   "source": [
    "<a  class=\"jupman-sol jupman-sol-toggler\" \n",
    " onclick=\"jupman.toggleSolution(this);\" \n",
    " data-jupman-show=\"Mostra soluzione\" data-jupman-hide=\"Nascondi\">Mostra soluzione</a><div class=\"jupman-sol jupman-sol-code\" style=\"display:none\">  "
   ]
  },
  {
   "cell_type": "code",
   "execution_count": 32,
   "metadata": {},
   "outputs": [
    {
     "name": "stdout",
     "output_type": "stream",
     "text": [
      "[0]\n",
      "[0, 1]\n",
      "[0, 1, 2]\n",
      "[0, 1, 2, 3]\n",
      "[0, 1, 2, 3, 4]\n"
     ]
    }
   ],
   "source": [
    "\n",
    "lista = []\n",
    "i = 0\n",
    "\n",
    "# scrivi qui\n",
    "\n",
    "while True:    \n",
    "    if sum(lista) >= k:\n",
    "        break\n",
    "    else:        \n",
    "        lista.append(i)\n",
    "        i += 1\n",
    "        print(lista)"
   ]
  },
  {
   "cell_type": "raw",
   "id": "ea552ce2",
   "metadata": {
    "format": "text/html"
   },
   "source": [
    "</div>"
   ]
  },
  {
   "cell_type": "code",
   "execution_count": 32,
   "metadata": {},
   "outputs": [],
   "source": [
    "\n",
    "lista = []\n",
    "i = 0\n",
    "\n",
    "# scrivi qui\n",
    "\n"
   ]
  },
  {
   "cell_type": "markdown",
   "metadata": {},
   "source": [
    "### Esercizio - libri di viaggi\n",
    "\n",
    "✪✪ Supponiamo di aver visitato la soffitta e raccolto una pila di libri, che rappresentiamo come lista di stringhe. Ogni stringa è preceduta da un etichetta di una lettera che indica la categoria (G per Giallo, V per Viaggi, S per Storia)\n",
    "\n",
    "```python\n",
    "pila = ['S-Medioevo',   # <---- in fondo\n",
    "        'V-Australia',        \n",
    "        'V-Scozia',        \n",
    "        'G-Sospetti',\n",
    "        'V-Caraibi']    # <---- in cima\n",
    "```\n",
    "\n",
    "Essendo appassionati di libri di viaggi, vogliamo esaminare da `pila` un libro alla volta a partire da quello più in alto, trasferendo in un'altra catasta inizialmente vuota che chiameremo `viaggi` solo i libri che iniziano con l'etichetta `V` come (`'V-Australia'`)\n",
    "\n",
    "```python\n",
    "viaggi = []\n",
    "```\n",
    "\n",
    "Scrivi del codice che produce la seguente stampa:\n",
    "\n",
    "```\n",
    "All'inizio:\n",
    "    pila:   ['S-Medioevo', 'V-Australia', 'V-Scozia', 'G-Sospetti', 'V-Caraibi']\n",
    "    viaggi: []\n",
    "Preso V-Caraibi\n",
    "    pila:   ['S-Medioevo', 'V-Australia', 'V-Scozia', 'G-Sospetti']\n",
    "    viaggi: ['V-Caraibi']\n",
    "Scartato G-Sospetti\n",
    "    pila:   ['S-Medioevo', 'V-Australia', 'V-Scozia']\n",
    "    viaggi: ['V-Caraibi']\n",
    "Preso V-Scozia\n",
    "    pila:   ['S-Medioevo', 'V-Australia']\n",
    "    viaggi: ['V-Caraibi', 'V-Scozia']\n",
    "Preso V-Australia\n",
    "    pila:   ['S-Medioevo']\n",
    "    viaggi: ['V-Caraibi', 'V-Scozia', 'V-Australia']\n",
    "Scartato S-Medioevo\n",
    "    pila:   []\n",
    "    viaggi: ['V-Caraibi', 'V-Scozia', 'V-Australia']\n",
    "```\n",
    "\n",
    "* I libri non di viaggi non ci interessano e andranno scartati.\n",
    "* Il tuo codice deve funzionare per _qualunque_ lista `viaggi`\n",
    "\n"
   ]
  },
  {
   "cell_type": "raw",
   "id": "c45a7818",
   "metadata": {
    "format": "text/html"
   },
   "source": [
    "<a  class=\"jupman-sol jupman-sol-toggler\" \n",
    " onclick=\"jupman.toggleSolution(this);\" \n",
    " data-jupman-show=\"Mostra soluzione\" data-jupman-hide=\"Nascondi\">Mostra soluzione</a><div class=\"jupman-sol jupman-sol-code\" style=\"display:none\">  "
   ]
  },
  {
   "cell_type": "code",
   "execution_count": 33,
   "metadata": {},
   "outputs": [
    {
     "name": "stdout",
     "output_type": "stream",
     "text": [
      "All'inizio:\n",
      "    pila:   ['S-Medioevo', 'V-Australia', 'V-Scozia', 'G-Sospetti', 'V-Caraibi']\n",
      "    viaggi: []\n",
      "Preso V-Caraibi\n",
      "    pila:   ['S-Medioevo', 'V-Australia', 'V-Scozia', 'G-Sospetti']\n",
      "    viaggi: ['V-Caraibi']\n",
      "Scartato G-Sospetti\n",
      "    pila:   ['S-Medioevo', 'V-Australia', 'V-Scozia']\n",
      "    viaggi: ['V-Caraibi']\n",
      "Preso V-Scozia\n",
      "    pila:   ['S-Medioevo', 'V-Australia']\n",
      "    viaggi: ['V-Caraibi', 'V-Scozia']\n",
      "Preso V-Australia\n",
      "    pila:   ['S-Medioevo']\n",
      "    viaggi: ['V-Caraibi', 'V-Scozia', 'V-Australia']\n",
      "Scartato S-Medioevo\n",
      "    pila:   []\n",
      "    viaggi: ['V-Caraibi', 'V-Scozia', 'V-Australia']\n"
     ]
    }
   ],
   "source": [
    "\n",
    "pila = ['S-Medioevo', 'V-Australia', 'V-Scozia', 'G-Sospetti', 'V-Caraibi']\n",
    "\n",
    "viaggi = []\n",
    "\n",
    "# scrivi qui\n",
    "print(\"All'inizio:\")\n",
    "print('    pila:  ', pila)\n",
    "print('    viaggi:', viaggi)\n",
    "\n",
    "while len(pila) > 0:\n",
    "    libro = pila.pop() \n",
    "    if libro.startswith('V'):\n",
    "        print('Preso',libro)    \n",
    "        viaggi.append(libro)\n",
    "    else:\n",
    "        print('Scartato', libro)    \n",
    "    print('    pila:  ', pila)\n",
    "    print('    viaggi:', viaggi)"
   ]
  },
  {
   "cell_type": "raw",
   "id": "22b29635",
   "metadata": {
    "format": "text/html"
   },
   "source": [
    "</div>"
   ]
  },
  {
   "cell_type": "code",
   "execution_count": 33,
   "metadata": {},
   "outputs": [],
   "source": [
    "\n",
    "pila = ['S-Medioevo', 'V-Australia', 'V-Scozia', 'G-Sospetti', 'V-Caraibi']\n",
    "\n",
    "viaggi = []\n",
    "\n",
    "# scrivi qui\n",
    "\n"
   ]
  },
  {
   "cell_type": "markdown",
   "metadata": {},
   "source": [
    "### Esercizio - BANG !\n",
    "\n",
    "✪✪ Ci sono due pile di oggetti `pila_dx` e `pila_sx` che rappresentiamo come liste di stringhe. Un cowboy per passare il tempo decide di sparare agli oggetti in cima alle pile,  alternando ad ogni sparo la pila. Il cowboy è abile e fa sempre centro, quindi ad ogni sparo la pila bersaglio decresce.\n",
    "\n",
    "- Supponi che gli oggetti in alto siano quelli in fondo alla lista\n",
    "- Per tenere conto di quale pila colpire, usiamo una variabile `sparo` che tiene all'interno il valore `'dx'` oppure `'sx'`\n",
    "- Dopo ogni sparo il cowboy se possibile cambierà pila, altrimenti continuerà a sparare alla stessa finchè non rimangono più oggetti\n",
    "\n",
    "- il tuo codice deve funzionare per _qualsiasi_ pila e sparo iniziale\n",
    "\n",
    "Esempio - dati:\n",
    "\n",
    "\n",
    "```python\n",
    "pila_sx = ['cassa','stivale','ferro di cavallo','secchio']\n",
    "pila_dx = ['bidone','sella','latta']\n",
    "sparo = 'dx'\n",
    "```\n",
    "\n",
    "dopo il tuo codice, deve stampare\n",
    "\n",
    "```\n",
    "BANG! a destra:    latta\n",
    "   pila_sx: ['cassa', 'stivale', 'ferro di cavallo', 'secchio']\n",
    "   pila_dx: ['bidone', 'sella']\n",
    "BANG! a sinistra:  secchio\n",
    "   pila_sx: ['cassa', 'stivale', 'ferro di cavallo']\n",
    "   pila_dx: ['bidone', 'sella']\n",
    "BANG! a destra:    sella\n",
    "   pila_sx: ['cassa', 'stivale', 'ferro di cavallo']\n",
    "   pila_dx: ['bidone']\n",
    "BANG! a sinistra:  ferro di cavallo\n",
    "   pila_sx: ['cassa', 'stivale']\n",
    "   pila_dx: ['bidone']\n",
    "BANG! a destra:    bidone\n",
    "   pila_sx: ['cassa', 'stivale']\n",
    "   pila_dx: []\n",
    "BANG! a sinistra:  stivale\n",
    "   pila_sx: ['cassa']\n",
    "   pila_dx: []\n",
    "   pila_sx: ['cassa']\n",
    "   pila_dx: []\n",
    "BANG! a sinistra:  cassa\n",
    "   pila_sx: []\n",
    "   pila_dx: []\n",
    "```"
   ]
  },
  {
   "cell_type": "raw",
   "id": "7868b61a",
   "metadata": {
    "format": "text/html"
   },
   "source": [
    "<a  class=\"jupman-sol jupman-sol-toggler\" \n",
    " onclick=\"jupman.toggleSolution(this);\" \n",
    " data-jupman-show=\"Mostra soluzione\" data-jupman-hide=\"Nascondi\">Mostra soluzione</a><div class=\"jupman-sol jupman-sol-code\" style=\"display:none\">  "
   ]
  },
  {
   "cell_type": "code",
   "execution_count": 34,
   "metadata": {},
   "outputs": [
    {
     "name": "stdout",
     "output_type": "stream",
     "text": [
      "BANG! a destra:    latta\n",
      "   pila_sx: ['cassa', 'stivale', 'ferro di cavallo', 'secchio']\n",
      "   pila_dx: ['bidone', 'sella']\n",
      "BANG! a sinistra:  secchio\n",
      "   pila_sx: ['cassa', 'stivale', 'ferro di cavallo']\n",
      "   pila_dx: ['bidone', 'sella']\n",
      "BANG! a destra:    sella\n",
      "   pila_sx: ['cassa', 'stivale', 'ferro di cavallo']\n",
      "   pila_dx: ['bidone']\n",
      "BANG! a sinistra:  ferro di cavallo\n",
      "   pila_sx: ['cassa', 'stivale']\n",
      "   pila_dx: ['bidone']\n",
      "BANG! a destra:    bidone\n",
      "   pila_sx: ['cassa', 'stivale']\n",
      "   pila_dx: []\n",
      "BANG! a sinistra:  stivale\n",
      "   pila_sx: ['cassa']\n",
      "   pila_dx: []\n",
      "   pila_sx: ['cassa']\n",
      "   pila_dx: []\n",
      "BANG! a sinistra:  cassa\n",
      "   pila_sx: []\n",
      "   pila_dx: []\n"
     ]
    }
   ],
   "source": [
    "\n",
    "pila_sx = ['cassa','stivale','ferro di cavallo','secchio']\n",
    "pila_dx = ['bidone','sella','latta']\n",
    "sparo = 'dx'\n",
    "#sparo = 'sx'\n",
    "#pila_sx = ['secchio', 'cassa']\n",
    "\n",
    "\n",
    "# scrivi qui\n",
    "while len(pila_dx) > 0 or len(pila_sx) > 0:\n",
    "    if sparo == 'dx':\n",
    "        if len(pila_dx) > 0:\n",
    "            print('BANG! a destra:   ', pila_dx.pop()) \n",
    "        sparo = 'sx'\n",
    "    else:\n",
    "        if len(pila_sx) > 0:\n",
    "            print('BANG! a sinistra: ', pila_sx.pop())\n",
    "        sparo = 'dx'\n",
    "\n",
    "    print('   pila_sx:', pila_sx)\n",
    "    print('   pila_dx:', pila_dx)"
   ]
  },
  {
   "cell_type": "raw",
   "id": "354528a0",
   "metadata": {
    "format": "text/html"
   },
   "source": [
    "</div>"
   ]
  },
  {
   "cell_type": "code",
   "execution_count": 34,
   "metadata": {},
   "outputs": [],
   "source": [
    "\n",
    "pila_sx = ['cassa','stivale','ferro di cavallo','secchio']\n",
    "pila_dx = ['bidone','sella','latta']\n",
    "sparo = 'dx'\n",
    "#sparo = 'sx'\n",
    "#pila_sx = ['secchio', 'cassa']\n",
    "\n",
    "\n",
    "# scrivi qui\n",
    "\n"
   ]
  },
  {
   "cell_type": "markdown",
   "metadata": {},
   "source": [
    "\n",
    "### Esercizio - Crescere o decrescere ?\n",
    "\n",
    "✪✪ Scrivi del codice che data una lista `la`, MODIFICA continuamente la lista secondo questa procedura:\n",
    "\n",
    "* se l'ultimo elemento è dispari (es `7`), attacca alla fine della lista un nuovo numero ottenuto moltiplicando per due l'ultimo elemento (es. attacca `14`)\n",
    "* se l'ultimo elemento è pari, toglie gli ultimi due elementi\n",
    "\n",
    "\n",
    "\n",
    "* **NOTA 1**: vogliamo proprio MODIFICARE la lista originale, NON vogliamo creare una nuova lista (quindi non vi saranno righe che iniziano con `la =`\n",
    "* **NOTA 2**: quando vogliamo far sia crescere che decrescere la sequenza che stiamo considerando in un ciclo,  dobbiamo convincerci per bene che prima o poi la condizione di terminazione si verifichi, è facile sbagliarsi e finire con un ciclo infinito !\n",
    "* **SUGGERIMENTO**: per far decrescere la lista, puoi usare il [metodo pop](https://it.softpython.org/lists/lists3-sol.html#Metodo-pop)\n",
    "\n",
    "Esempio - data: \n",
    "\n",
    "```python\n",
    "la = [3,5,6,7]\n",
    "```\n",
    "\n",
    "eseguendo il tuo codice, deve stampare\n",
    "\n",
    "```\n",
    "Dispari: attacco 14\n",
    "         la diventa [3, 5, 6, 7, 14]\n",
    "   Pari: tolgo 14\n",
    "         tolgo 7\n",
    "         la diventa [3, 5, 6]\n",
    "   Pari: tolgo 6\n",
    "         tolgo 5\n",
    "         la diventa [3]\n",
    "Dispari: attacco 6\n",
    "         la diventa [3, 6]\n",
    "   Pari: tolgo 6\n",
    "         tolgo 3\n",
    "         la diventa []\n",
    "Finito! la è []\n",
    "```\n"
   ]
  },
  {
   "cell_type": "raw",
   "id": "951cd2eb",
   "metadata": {
    "format": "text/html"
   },
   "source": [
    "<a  class=\"jupman-sol jupman-sol-toggler\" \n",
    " onclick=\"jupman.toggleSolution(this);\" \n",
    " data-jupman-show=\"Mostra soluzione\" data-jupman-hide=\"Nascondi\">Mostra soluzione</a><div class=\"jupman-sol jupman-sol-code\" style=\"display:none\">  "
   ]
  },
  {
   "cell_type": "code",
   "execution_count": 35,
   "metadata": {
    "scrolled": true
   },
   "outputs": [
    {
     "name": "stdout",
     "output_type": "stream",
     "text": [
      "Dispari: attacco 14\n",
      "         la diventa [3, 5, 6, 7, 14]\n",
      "   Pari: tolgo 14\n",
      "         tolgo 7\n",
      "         la diventa [3, 5, 6]\n",
      "   Pari: tolgo 6\n",
      "         tolgo 5\n",
      "         la diventa [3]\n",
      "Dispari: attacco 6\n",
      "         la diventa [3, 6]\n",
      "   Pari: tolgo 6\n",
      "         tolgo 3\n",
      "         la diventa []\n",
      "Finito! la è []\n"
     ]
    }
   ],
   "source": [
    "\n",
    "la = [3,5,6,7]\n",
    "\n",
    "# scrivi qui\n",
    "\n",
    "i = 0\n",
    "while len(la) > 0:\n",
    "    if la[-1] % 2 == 1:\n",
    "        nuovo = la[-1]*2\n",
    "        la.append(nuovo)\n",
    "        print('Dispari: attacco', nuovo)        \n",
    "    else:        \n",
    "        print('   Pari: tolgo',la.pop())        \n",
    "        print('         tolgo',la.pop())\n",
    "    print('         la diventa', la)\n",
    "    i += 1\n",
    "print('Finito! la è', la)\n"
   ]
  },
  {
   "cell_type": "raw",
   "id": "c210dc7a",
   "metadata": {
    "format": "text/html"
   },
   "source": [
    "</div>"
   ]
  },
  {
   "cell_type": "code",
   "execution_count": 35,
   "metadata": {
    "scrolled": true
   },
   "outputs": [],
   "source": [
    "\n",
    "la = [3,5,6,7]\n",
    "\n",
    "# scrivi qui\n",
    "\n"
   ]
  },
  {
   "cell_type": "markdown",
   "metadata": {},
   "source": [
    "## Prosegui\n",
    "\n",
    "Continua con le [challenges](https://it.softpython.org/while/while2-chal.html)"
   ]
  }
 ],
 "metadata": {
  "kernelspec": {
   "display_name": "Python 3 (ipykernel)",
   "language": "python",
   "name": "python3"
  },
  "language_info": {
   "codemirror_mode": {
    "name": "ipython",
    "version": 3
   },
   "file_extension": ".py",
   "mimetype": "text/x-python",
   "name": "python",
   "nbconvert_exporter": "python",
   "pygments_lexer": "ipython3",
   "version": "3.7.17"
  },
  "toc": {
   "base_numbering": 1,
   "nav_menu": {},
   "number_sections": false,
   "sideBar": true,
   "skip_h1_title": false,
   "title_cell": "Table of Contents",
   "title_sidebar": "Contents",
   "toc_cell": false,
   "toc_position": {
    "height": "calc(100% - 180px)",
    "left": "10px",
    "top": "150px",
    "width": "311px"
   },
   "toc_section_display": true,
   "toc_window_display": true
  }
 },
 "nbformat": 4,
 "nbformat_minor": 2
}

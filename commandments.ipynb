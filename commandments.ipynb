{
 "cells": [
  {
   "cell_type": "markdown",
   "metadata": {},
   "source": [
    "# Comandamenti\n",
    "\n"
   ]
  },
  {
   "cell_type": "markdown",
   "metadata": {},
   "source": [
    "Il Comitato Supremo per la Dottrina del Coding ha emanato importanti comandamenti che seguirai scrupolosamente.\n",
    "\n",
    "Se accetti le loro sagge parole, diventerai un vero Jedi Python.\n"
   ]
  },
  {
   "cell_type": "markdown",
   "metadata": {},
   "source": [
    "<div class=\"alert alert-warning\">\n",
    "\n",
    "**ATTENZIONE**:  se non segui i Comandamenti, finirai nel _Debugging Hell_ !\n",
    "</div>\n"
   ]
  },
  {
   "cell_type": "markdown",
   "metadata": {},
   "source": [
    "## I COMANDAMENTO\n",
    "\n",
    "<div class=\"jupman-alert-principle\"></div>\n",
    "<div class=\"alert alert-info\" >\n",
    "\n",
    "**Scriverai codice Python**\n",
    "</div>\n",
    "\n",
    "Chi non scrive codice Python, non impara Python"
   ]
  },
  {
   "cell_type": "markdown",
   "metadata": {},
   "source": [
    "## II COMANDAMENTO\n",
    "\n",
    "<div class=\"jupman-alert-principle\"></div>\n",
    "<div class=\"alert alert-info\" >\n",
    "\n",
    "**Quando inserisci una variabile in un ciclo** `for`,\n",
    "    \n",
    "**questa variabile deve essere nuova**\n",
    "</div>"
   ]
  },
  {
   "cell_type": "markdown",
   "metadata": {},
   "source": [
    "Se hai definito la variabile prima, non la reintrodurrai in un `for`, perchè ciò portebbe confusione nelle menti di chi legge.\n",
    "\n",
    "Perciò evita questi peccati:"
   ]
  },
  {
   "cell_type": "code",
   "execution_count": 1,
   "metadata": {},
   "outputs": [
    {
     "name": "stdout",
     "output_type": "stream",
     "text": [
      "0\n",
      "1\n",
      "2\n",
      "2\n"
     ]
    }
   ],
   "source": [
    "i = 7\n",
    "for i in range(3):  # peccato, perdi la variabile i\n",
    "    print(i)\n",
    "    \n",
    "print(i)   # stampa 2 e non 7  !!"
   ]
  },
  {
   "cell_type": "code",
   "execution_count": 2,
   "metadata": {},
   "outputs": [
    {
     "name": "stdout",
     "output_type": "stream",
     "text": [
      "0\n",
      "1\n",
      "2\n",
      "2\n"
     ]
    }
   ],
   "source": [
    "def f(i):\n",
    "    for i in range(3): # altro peccato, perdi il parametro i\n",
    "        print(i)\n",
    "    \n",
    "    print(i)  # stampa 2, e non il 7 che gli abbiamo passato !\n",
    "    \n",
    "f(7)"
   ]
  },
  {
   "cell_type": "code",
   "execution_count": 3,
   "metadata": {
    "scrolled": false
   },
   "outputs": [
    {
     "name": "stdout",
     "output_type": "stream",
     "text": [
      "0\n",
      "1\n",
      "2\n",
      "3\n",
      "4\n",
      "4\n",
      "0\n",
      "1\n",
      "2\n",
      "3\n",
      "4\n",
      "4\n"
     ]
    }
   ],
   "source": [
    "for i in range(2):      \n",
    "    \n",
    "    for i in  range(5):  # inferno da debuggare, perdi l'i del ciclo for esterno\n",
    "        print(i)\n",
    "        \n",
    "    print(i)  # stampa 4 !!"
   ]
  },
  {
   "cell_type": "markdown",
   "metadata": {},
   "source": [
    "## III COMANDAMENTO\n",
    "\n",
    "<div class=\"jupman-alert-principle\"></div>\n",
    "<div class=\"alert alert-info\" >\n",
    "\n",
    "**Non riassegnerai mai parametri di funzione**\n",
    "\n",
    "</div>\n",
    "\n",
    "Non farai mai nessuna di queste assegnazioni, pena la perdita del parametro passato quando viene chiamata la funzione:"
   ]
  },
  {
   "cell_type": "code",
   "execution_count": 4,
   "metadata": {},
   "outputs": [
    {
     "name": "stdout",
     "output_type": "stream",
     "text": [
      "666\n"
     ]
    }
   ],
   "source": [
    "def peccato(intero):\n",
    "    intero = 666            # peccato, hai perso il 5 passato dall'esterno !\n",
    "    print(intero)           # stampa 666\n",
    "    \n",
    "x = 5\n",
    "peccato(x)"
   ]
  },
  {
   "cell_type": "markdown",
   "metadata": {},
   "source": [
    "Lo stesso discorso si applica per tutti gli altri tipi:"
   ]
  },
  {
   "cell_type": "code",
   "execution_count": 5,
   "metadata": {},
   "outputs": [],
   "source": [
    "def male(stringa):\n",
    "    stringa = \"666\"          "
   ]
  },
  {
   "cell_type": "code",
   "execution_count": 6,
   "metadata": {},
   "outputs": [],
   "source": [
    "def disgrazia(lista):\n",
    "    lista = [666]"
   ]
  },
  {
   "cell_type": "code",
   "execution_count": 7,
   "metadata": {},
   "outputs": [],
   "source": [
    "def delirio(dizionario):\n",
    "    dizionario = {\"evil\":666}"
   ]
  },
  {
   "cell_type": "markdown",
   "metadata": {},
   "source": [
    "Per il solo caso di parametri compositi come liste o dizionari, puoi scrivere come sotto \n",
    "SE E SOLO SE le specifiche della funzione ti richiedono di MODIFICARE gli elementi interni del \n",
    "parametro (come per esempio ordinare una lista o cambiare il campo di un dizionario)"
   ]
  },
  {
   "cell_type": "code",
   "execution_count": 8,
   "metadata": {},
   "outputs": [
    {
     "name": "stdout",
     "output_type": "stream",
     "text": [
      "[8, 5, 9]\n"
     ]
    }
   ],
   "source": [
    "# MODIFICA lista in qualche modo\n",
    "def consentito(lista):        \n",
    "    lista[2] = 9         # OK, lo richiede il testo della funzione\n",
    "    \n",
    "fuori = [8,5,7]\n",
    "consentito(fuori)\n",
    "print(fuori)"
   ]
  },
  {
   "cell_type": "code",
   "execution_count": 9,
   "metadata": {},
   "outputs": [],
   "source": [
    "# MODIFICA dizionario in qualche modo\n",
    "def daccordo(dizionario):\n",
    "    dizionario[\"mio campo\"] = 5       # OK, lo richiede il testo"
   ]
  },
  {
   "cell_type": "code",
   "execution_count": 10,
   "metadata": {},
   "outputs": [],
   "source": [
    "# MODIFICA istanza in qualche modo\n",
    "def va_bene(istanza_di_classe):\n",
    "    istanza_di_classe.mio_campo = 7   # OK, lo richiede il testo"
   ]
  },
  {
   "cell_type": "markdown",
   "metadata": {},
   "source": [
    "Se invece il testo di una funzione ti chiede di RITORNARE  un NUOVO oggetto, non cadrai nella tentazione di modificare l'input:"
   ]
  },
  {
   "cell_type": "code",
   "execution_count": 11,
   "metadata": {},
   "outputs": [],
   "source": [
    "\n",
    "# RITORNA una NUOVA lista ordinata\n",
    "def dolore(lista):\n",
    "    lista.sort()           # MALE, stai modificando la lista di input invece di crearne una nuova!\n",
    "    return lista"
   ]
  },
  {
   "cell_type": "code",
   "execution_count": 12,
   "metadata": {},
   "outputs": [],
   "source": [
    "# RITORNA una NUOVA lista \n",
    "def crisi(lista):\n",
    "    lista[0] = 5           # MALE, come sopra\n",
    "    return lista"
   ]
  },
  {
   "cell_type": "code",
   "execution_count": 13,
   "metadata": {},
   "outputs": [],
   "source": [
    "# RITORNA un NUOVO dizionario \n",
    "def tormento(dizionario):\n",
    "    dizionario['a'] = 6    # MALE, stai modificando il dizionario di input \n",
    "                           # invece di crearne uno nuovo!\n",
    "    return dizionario"
   ]
  },
  {
   "cell_type": "code",
   "execution_count": 14,
   "metadata": {},
   "outputs": [],
   "source": [
    "# RITORNA una NUOVA istanza di classe\n",
    "def disperazione(istanza):\n",
    "    istanza.mio_campo = 6  # MALE, stai modificando l'oggetto di input\n",
    "                           # invece di crearne uno nuovo!\n",
    "    return istanza"
   ]
  },
  {
   "cell_type": "markdown",
   "metadata": {},
   "source": [
    "## IV COMANDAMENTO\n",
    "\n",
    "<div class=\"jupman-alert-principle\"></div>\n",
    "<div class=\"alert alert-info\" >\n",
    "\n",
    "**Non riassegnerai mai valori**\n",
    "    \n",
    "**a chiamate a funzioni o metodi**\n",
    "\n",
    "</div>\n",
    "\n",
    "\n",
    "```python\n",
    "\n",
    "mia_funzione() = 666      # SBAGLIATO \n",
    "mia_funzione() = 'evil'   # SBAGLIATO\n",
    "mia_funzione() = [666]    # SBAGLIATO\n",
    "\n",
    "```\n",
    "\n",
    "```python\n",
    "x = 5                     # OK\n",
    "y = my_fun()              # OK\n",
    "z = []                    # OK\n",
    "z[0] = 7                  # OK\n",
    "d = dict()                # OK\n",
    "d[\"a\"] = 6                # OK\n",
    "```\n",
    "\n",
    "Chiamate a funzione come `mia_funzione()` ritornano risultati di calcoli e li mettono in una scatola che è creata solo per lo scopo della chiamata e Python non ci consentirà di riusarla come una variabile. \n",
    "\n",
    "Quando vedi `nome()` alla parte sinistra, _non può_ essere seguito da un segno di uguaglianza `=` (ma può essere seguito da due segni di uguaglianza `==` se stai eseguendo una comparazione).\n"
   ]
  },
  {
   "cell_type": "markdown",
   "metadata": {},
   "source": [
    "## V COMANDAMENTO\n",
    "\n",
    "<div class=\"jupman-alert-principle\"></div>\n",
    "<div class=\"alert alert-info\" >\n",
    "\n",
    "**Non ridifinerai mai funzioni di sistema**\n",
    "</div>\n",
    "\n",
    "Python ha diverse funzioni di sistema predefinite. Per esempio `list` è un tipo Python: come tale, puoi usarlo per esempio come funzione per convertire un qualche tipo a lista:"
   ]
  },
  {
   "cell_type": "code",
   "execution_count": 15,
   "metadata": {},
   "outputs": [
    {
     "data": {
      "text/plain": [
       "['c', 'i', 'a', 'o']"
      ]
     },
     "execution_count": 15,
     "metadata": {},
     "output_type": "execute_result"
    }
   ],
   "source": [
    "list(\"ciao\")"
   ]
  },
  {
   "cell_type": "markdown",
   "metadata": {},
   "source": [
    "Quando consenti alle forze del male di prendere il sopravvento, potresti essere tentato di usare tipi e funzioni di sistema (per es. `list`) come una variabile per i tuoi miserabili propositi personali:\n",
    "\n",
    "```python\n",
    "list = ['la', 'mia', 'lista', 'raccapricciante']\n",
    "```"
   ]
  },
  {
   "cell_type": "markdown",
   "metadata": {},
   "source": [
    "Python ti permette di farlo, ma **noi no**, poichè le conseguenze sono disastrose. \n",
    "\n",
    "Per esempio, se adesso usi `list` per il proposito per cui è stata creata, cioè conversione a lista, non funzionerà più:"
   ]
  },
  {
   "cell_type": "markdown",
   "metadata": {},
   "source": [
    "```python\n",
    "list(\"ciao\")\n",
    "```\n",
    "```\n",
    "---------------------------------------------------------------------------\n",
    "TypeError                                 Traceback (most recent call last)\n",
    "<ipython-input-4-c63add832213> in <module>()\n",
    "----> 1 list(\"ciao\")\n",
    "\n",
    "TypeError: 'list' object is not callable\n",
    "\n",
    "```"
   ]
  },
  {
   "cell_type": "markdown",
   "metadata": {},
   "source": [
    "\n",
    "In particolare, raccomandiamo di **non ridefinire** queste preziose funzioni:\n",
    "\n",
    "* `bool`, `int`,`float`,`tuple`,`str`,`list`,`set`,`dict`\n",
    "* `max`, `min`, `sum`\n",
    "* `next`, `iter`\n",
    "* `id`, `dir`, `vars`,`help`"
   ]
  },
  {
   "cell_type": "markdown",
   "metadata": {},
   "source": [
    "## VI COMANDAMENTO\n",
    "\n",
    "<div class=\"jupman-alert-principle\"></div>\n",
    "<div class=\"alert alert-info\" >\n",
    "\n",
    "**Userai il comando** `return` **solo se vedi scritto RITORNA nella descrizione di funzione!**\n",
    "</div>\n",
    "\n",
    "Se non c'è un RITORNA nella descrizione di funzione, si intende che la funzione ritorni `None`. In questo caso non devi nemmeno scrivere `return None`, perchè Python lo farà implicitamente per te.\n"
   ]
  },
  {
   "cell_type": "markdown",
   "metadata": {},
   "source": [
    "## VII COMANDAMENTO\n",
    "\n",
    "<div class=\"jupman-alert-principle\"></div>\n",
    "<div class=\"alert alert-info\" >\n",
    "\n",
    "**Scriverai anche su carta!**\n",
    "</div>\n",
    "\n",
    "Se fissare il monitor non funziona, aiutati e disegna su carta una rappresentazione dello stato del programma. Tabelle, nodi, frecce, tutto può aiutare nel trovare una soluzione al problema.\n"
   ]
  },
  {
   "cell_type": "markdown",
   "metadata": {},
   "source": [
    "## VIII COMANDAMENTO\n",
    "\n",
    "<div class=\"jupman-alert-principle\"></div>\n",
    "<div class=\"alert alert-info\">\n",
    "\n",
    "**Non riassegnerai mai** `self` **!**    \n",
    "</div>\n",
    "\n",
    "Non scriverai mai empietà come questa:\n",
    "\n"
   ]
  },
  {
   "cell_type": "code",
   "execution_count": 16,
   "metadata": {},
   "outputs": [],
   "source": [
    "class MiaClasse:\n",
    "    def mio_metodo(self):\n",
    "        self = {'mio_campo':666}"
   ]
  },
  {
   "cell_type": "markdown",
   "metadata": {},
   "source": [
    "Dato che `self` è una specie di dizionario, potresti essere tentato di scrivere come sopra, ma al mondo esterno questo non porterà alcun effetto. \n",
    "\n",
    "Per esempio, supponiamo che qualcuno da fuori faccia una chiamata come questa:"
   ]
  },
  {
   "cell_type": "code",
   "execution_count": 17,
   "metadata": {},
   "outputs": [],
   "source": [
    "mc = MiaClasse()\n",
    "mc.mio_metodo()"
   ]
  },
  {
   "cell_type": "markdown",
   "metadata": {},
   "source": [
    "Dopo la chiamata `mc` non punterà a `{'mio_campo':666}`"
   ]
  },
  {
   "cell_type": "code",
   "execution_count": 18,
   "metadata": {},
   "outputs": [
    {
     "data": {
      "text/plain": [
       "<__main__.MiaClasse at 0x7fe98843d8d0>"
      ]
     },
     "execution_count": 18,
     "metadata": {},
     "output_type": "execute_result"
    }
   ],
   "source": [
    "mc"
   ]
  },
  {
   "cell_type": "markdown",
   "metadata": {},
   "source": [
    "e non avrà `mio_campo`:"
   ]
  },
  {
   "cell_type": "markdown",
   "metadata": {},
   "source": [
    "```python\n",
    "mc.mio_campo\n",
    "\n",
    "---------------------------------------------------------------------------\n",
    "AttributeError                            Traceback (most recent call last)\n",
    "<ipython-input-26-5c4e6630908d> in <module>()\n",
    "----> 1 mc.mio_campo\n",
    "\n",
    "AttributeError: 'MiaClasse' object has no attribute 'mio_campo'\n",
    "\n",
    "```"
   ]
  },
  {
   "cell_type": "markdown",
   "metadata": {},
   "source": [
    "Per lo stesso ragionamento, non devi riassegnare `self` a liste o altro:"
   ]
  },
  {
   "cell_type": "code",
   "execution_count": 19,
   "metadata": {},
   "outputs": [],
   "source": [
    "class MiaClasse:\n",
    "    def mio_metodo(self):\n",
    "        self = ['evil'] \n",
    "        self = 666      "
   ]
  },
  {
   "cell_type": "markdown",
   "metadata": {},
   "source": [
    "## IX COMANDAMENTO\n",
    "\n",
    "<div class=\"jupman-alert-principle\"></div>\n",
    "<div class=\"alert alert-info\" >\n",
    "\n",
    "**Testerai il codice!**\n",
    "</div>\n",
    "\n",
    "\n",
    "Il codice non testato per definizione _non funziona_. Per idee su come testare, guarda [Gestione degli errori e testing](functions/fun2-errors-and-testing-sol.ipynb)\n"
   ]
  },
  {
   "cell_type": "markdown",
   "metadata": {},
   "source": [
    "## X COMANDAMENTO\n",
    "\n",
    "<div class=\"jupman-alert-principle\"></div>\n",
    "<div class=\"alert alert-info\" >\n",
    "\n",
    "**Non aggiungerai o toglierai mai elementi da una sequenza che iteri con un** `for` **!**\n",
    "</div>\n",
    "\n",
    "\n",
    "Abbandonarti a simil tentazioni **produrrebbe comportamenti del tutto imprevedibili** (conosci forse l'espressione _tirare il tappeto da sotto i piedi?_ )"
   ]
  },
  {
   "cell_type": "markdown",
   "metadata": {},
   "source": [
    "**Non aggiungere**, poichè rischi di camminare su un tapis roulant che mai si spegne:\n",
    "\n",
    "```python\n",
    "lista = ['a','b','c','d','e']\n",
    "for el in lista:\n",
    "    lista.append(el)  # STAI INTASANDO LA MEMORIA DEL COMPUTER\n",
    "```"
   ]
  },
  {
   "cell_type": "markdown",
   "metadata": {},
   "source": [
    "**Non togliere**, poichè rischi di corrompere l'ordine naturale delle cose:"
   ]
  },
  {
   "cell_type": "code",
   "execution_count": 20,
   "metadata": {},
   "outputs": [],
   "source": [
    "lista = ['a','b','c','d','e']\n",
    "\n",
    "for el in lista:\n",
    "    lista.remove(el)   # PESSIMA IDEA"
   ]
  },
  {
   "cell_type": "markdown",
   "metadata": {},
   "source": [
    "Guarda bene il codice. Credi che abbiamo rimosso tutto, eh?"
   ]
  },
  {
   "cell_type": "code",
   "execution_count": 21,
   "metadata": {},
   "outputs": [
    {
     "data": {
      "text/plain": [
       "['b', 'd']"
      ]
     },
     "execution_count": 21,
     "metadata": {},
     "output_type": "execute_result"
    }
   ],
   "source": [
    "lista"
   ]
  },
  {
   "cell_type": "markdown",
   "metadata": {},
   "source": [
    "`O_o'` Non provar a capacitarti di cotal sortilegio - nessuno capirlo può, poichè esso è legato all'implementazione interna di Python.\n",
    "\n",
    "La mia versione di Python dà questo risultato assurdo, la vostra potrebbe darne un'altro. Il discorso vale anche per iterazione su insiemi e dizionari. **Siete avvertiti**."
   ]
  },
  {
   "cell_type": "markdown",
   "metadata": {},
   "source": [
    "**Se proprio devi rimuovere elementi dalla sequenza su cui stai iterando**, usa [un ciclo while](https://it.softpython.org/control-flow/flow3-while-sol.html) o effettua prima una copia della sequenza originale."
   ]
  }
 ],
 "metadata": {
  "kernelspec": {
   "display_name": "Python 3 (ipykernel)",
   "language": "python",
   "name": "python3"
  },
  "language_info": {
   "codemirror_mode": {
    "name": "ipython",
    "version": 3
   },
   "file_extension": ".py",
   "mimetype": "text/x-python",
   "name": "python",
   "nbconvert_exporter": "python",
   "pygments_lexer": "ipython3",
   "version": "3.7.17"
  },
  "toc": {
   "base_numbering": 1,
   "nav_menu": {},
   "number_sections": false,
   "sideBar": true,
   "skip_h1_title": false,
   "title_cell": "Table of Contents",
   "title_sidebar": "Contents",
   "toc_cell": false,
   "toc_position": {},
   "toc_section_display": true,
   "toc_window_display": true
  }
 },
 "nbformat": 4,
 "nbformat_minor": 2
}

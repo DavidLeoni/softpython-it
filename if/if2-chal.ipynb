{
 "cells": [
  {
   "cell_type": "markdown",
   "id": "worst-going",
   "metadata": {},
   "source": [
    "# if 2 - Challenges -\n",
    "\n",
    "## [Scarica zip esercizi](../_static/generated/if.zip)\n",
    "\n",
    "[Naviga file online](https://github.com/DavidLeoni/softpython-it/tree/master/if)"
   ]
  },
  {
   "cell_type": "markdown",
   "id": "impossible-cambodia",
   "metadata": {},
   "source": [
    "Proponiamo ora degli esercizi senza soluzione, accetti la sfida? "
   ]
  },
  {
   "cell_type": "markdown",
   "id": "identified-entry",
   "metadata": {},
   "source": [
    "## Sfida - Alla corte di re Artù\n",
    "\n",
    "✪ Alla corte di re Artu' ci sono tantissimi veri cavalieri. Lancillotto, Rinaldo, etc... \n",
    "E' perfino arrivato Orlando in visita da oltremanica.Però non tutti sono convinti del fatto che Ginevra, Merlino e Morgana siano veri cavalieri.\n",
    "\n",
    "Viene ideato un test a cui vengono sottoposti questi tre e in base a se riusciranno nell'impresa\n",
    "verranno dichiarati. Per lo svolgimento del test vengono portati in una parte tranquilla del castello e, ognuno in una stanza diversa, dovrà rispondere alla domanda:\n",
    " \n",
    "> Un vero cavaliere protegge i deboli e gli oppressi? \n",
    "\n",
    "Noi siamo stati incaricati di correre nella sala del banchetto dove Artu' passeggia nervoso e di \n",
    "comunicare l'esito del test. \n",
    "\n",
    "Scrivi del codice che:\n",
    "\n",
    "- SE TUTTI e tre hanno passato il test stampa `\"Sono tutti veri cavalieri\"`\n",
    "- SE ALMENO uno di loro ha passato il test, stampa `\"C'è almeno un vero cavaliere\"`\n",
    "- SE invece NESSUNO di loro ha passato il test, stampa `\"Non c'è nessun vero cavaliere\"`)"
   ]
  },
  {
   "cell_type": "code",
   "execution_count": 1,
   "id": "manufactured-buffalo-stripped",
   "metadata": {},
   "outputs": [
    {
     "name": "stdout",
     "output_type": "stream",
     "text": [
      "Non c'è nessun vero cavaliere\n"
     ]
    }
   ],
   "source": [
    "# Assegnazioni di esempio (NON MODIFICARE!)\n",
    "# Scommentarne solo una alla volta per provare se funziona la tua soluzione\n",
    "\n",
    "ginevra = False; merlino = False; morgana = False\n",
    "#ginevra = False; merlino = False; morgana = True\n",
    "#ginevra = False; merlino = True; morgana = False\n",
    "#ginevra = False; merlino = True; morgana = True\n",
    "#ginevra = True; merlino = False; morgana = False\n",
    "#ginevra = True; merlino = False; morgana = True\n",
    "#ginevra = True; merlino = True; morgana = False      \n",
    "#ginevra = True; merlino = True; morgana = True\n",
    "\n",
    "\n",
    "\n",
    "# scrivi qui\n",
    "\n"
   ]
  },
  {
   "cell_type": "markdown",
   "id": "clear-rotation",
   "metadata": {},
   "source": [
    "\n",
    "\n"
   ]
  },
  {
   "cell_type": "markdown",
   "id": "afraid-twelve",
   "metadata": {},
   "source": [
    "## Sfida - Ascensore a due piani\n",
    "\n",
    "✪ Requisiti: if annidati\n",
    "\n",
    "Dobbiamo installare l'ascensore in un palazzo di due piani. Esistono il piano `'terra'` e il piano `'rialzato'`.\n",
    "Il nostro compito è quello di programmare la centralina dell'ascensore, affinche mostri sul display al piano dell'utente dove si trova l'ascensore\n",
    "\n",
    "Gli input che abbiamo sono:\n",
    "\n",
    "- `piano_utente`, il piano a cui l'utente ha appena chiamato l'ascensore\n",
    "- `piano_ascensore`, il piano a cui si trova l'ascensore\n",
    "\n",
    "Se l'ascensore si trova allo stesso piano dell'utente si dovranno aprire le \n",
    "porte, e stamperemo sul display l'output `'DING!'` per simulare il suono che farebbe un ascensore che è appena arrivato.\n",
    "\n",
    "L'output della centralina deve essere l'ordine di azioni da effettuare per \n",
    "portare l'ascensore al piano dell'utente."
   ]
  },
  {
   "cell_type": "markdown",
   "id": "small-stroke",
   "metadata": {},
   "source": [
    "Esempio 1 - dati:\n",
    "\n",
    "```python\n",
    "piano_utente = 'terra'; \n",
    "piano_ascensore = 'rialzato'    \n",
    "```\n",
    "\n",
    "stampa:\n",
    "\n",
    "```\n",
    "rialzato\n",
    "terra\n",
    "DING!\n",
    "```\n",
    "\n",
    "perchè l'utente mentre aspetta al piano terra che arrivi l'ascensore vedrà sul display la scritta `rialzato`, poi `terra` e infine sentirà il suono `DING!` (non devi far produrre nessun suono a python, semplicemente stampa la scritta!)"
   ]
  },
  {
   "cell_type": "markdown",
   "id": "binding-treaty",
   "metadata": {},
   "source": [
    "Esempio 2 - dati:\n",
    "\n",
    "```python\n",
    "piano_utente = 'rialzato'\n",
    "piano_ascensore = 'rialzato'\n",
    "```\n",
    "\n",
    "stampa:\n",
    "\n",
    "```\n",
    "DING!\n",
    "```  \n",
    "\n",
    "perchè l'ascensore è allo stesso piano dell'utente e produce direttamente il suono per invitare l'utente ad entrare nell'ascensore."
   ]
  },
  {
   "cell_type": "code",
   "execution_count": 2,
   "id": "atmospheric-polymer-stripped",
   "metadata": {},
   "outputs": [],
   "source": [
    "\n",
    "piano_utente = 'terra'; piano_ascensore = 'rialzato'     # rialzato, terra, DING!\n",
    "piano_utente = 'rialzato'; piano_ascensore = 'terra'    # terra, rialzato, DING!\n",
    "#piano_utente = 'terra'; piano_ascensore = 'terra'       # DING!\n",
    "#piano_utente = 'rialzato'; piano_ascensore = 'rialzato' # DING!\n",
    "\n",
    "# scrivi qui\n",
    "\n"
   ]
  },
  {
   "cell_type": "code",
   "execution_count": 3,
   "id": "nasty-sampling-stripped",
   "metadata": {
    "nbsphinx": "hidden"
   },
   "outputs": [],
   "source": []
  }
 ],
 "metadata": {
  "kernelspec": {
   "display_name": "Python 3 (ipykernel)",
   "language": "python",
   "name": "python3"
  },
  "language_info": {
   "codemirror_mode": {
    "name": "ipython",
    "version": 3
   },
   "file_extension": ".py",
   "mimetype": "text/x-python",
   "name": "python",
   "nbconvert_exporter": "python",
   "pygments_lexer": "ipython3",
   "version": "3.7.10"
  },
  "toc": {
   "base_numbering": 1,
   "nav_menu": {},
   "number_sections": false,
   "sideBar": true,
   "skip_h1_title": false,
   "title_cell": "Table of Contents",
   "title_sidebar": "Contents",
   "toc_cell": false,
   "toc_position": {},
   "toc_section_display": true,
   "toc_window_display": true
  }
 },
 "nbformat": 4,
 "nbformat_minor": 5
}

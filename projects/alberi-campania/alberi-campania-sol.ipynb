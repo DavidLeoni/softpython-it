{
 "cells": [
  {
   "cell_type": "markdown",
   "id": "a54cc7ed",
   "metadata": {},
   "source": [
    "# Progetto svolto - Alberi della Campania\n",
    "\n",
    "## [Scarica zip esercizi](../../_static/generated/alberi-campania-prj.zip) \n",
    "\n",
    "[Naviga file online](https://github.com/DavidLeoni/softpython-it/tree/master/projects/alberi-campania)\n",
    "\n",
    "Gli alberi monumentali sono alberi ad alto fusto come l'albero secolare tipico che possono essere considerati come rari esempi di maestosità e longevità. Si possono trovare isolati, in filari di particolare pregio paesaggistico, o inseriti in complessi architettonici ad esempio ville, monasteri, chiese.  Tali alberi sono regolarmente censiti a fini di tutela paesaggistica e in questo caso analizzeremo un dataset della regione Campania.\n",
    "\n",
    "Sorgente dati: [dati.regione.campania.it](https://dati.regione.campania.it/catalogo/datasetdetail/alberi-monumentali-della-campania) - Licenza: [Creative Commons Attribuzione](http://www.opendefinition.org/licenses/cc-by)"
   ]
  },
  {
   "cell_type": "markdown",
   "id": "3c390137",
   "metadata": {},
   "source": [
    "### albernomi\n",
    "\n",
    "Scrivi una funzione che data una `parola` di ricerca carica il file [Alberi-Monumentali-Della-Campania.csv](Alberi-Monumentali-Della-Campania.csv) con un csv reader (**usa il parametro** `delimiter=';'` ed encoding utf-8), STAMPA il numero di risultati ottenuti e RITORNA tutti gli alberi aventi quella parola nel nome scientifico oppure nel nome volgare. \n",
    "\n",
    "- la ricerca deve funzionare indipendentemente dalla capitalizzazione di `parola` o del dataset\n",
    "\n",
    "\n",
    "Il formato di output deve essere una lista di dizionari come questa:\n",
    "\n",
    "```python\n",
    ">>> albernomi('tiglio')\n",
    "Trovati 12 risultati     \n",
    "  \n",
    "[{'nome': 'Tiglio intermedio',\n",
    "  'nome_scientifico': 'Tilia vulgaris',\n",
    "  'luogo': 'Collegiata della Santissima Annunziata'},\n",
    " {'nome': 'Tiglio intermedio',\n",
    "  'nome_scientifico': 'Tilia vulgaris',\n",
    "  'luogo': 'Petruro di Forino'},\n",
    " {'nome': 'Tiglio selvatico',\n",
    "  'nome_scientifico': 'Tilia cordata',\n",
    "  'luogo': 'San Barbato - Castello'},\n",
    "  .\n",
    "  .\n",
    "  .\n",
    "]\n",
    "```"
   ]
  },
  {
   "cell_type": "raw",
   "id": "25f22d46",
   "metadata": {
    "format": "text/html"
   },
   "source": [
    "<a  class=\"jupman-sol jupman-sol-toggler\" \n",
    " onclick=\"jupman.toggleSolution(this);\" \n",
    " data-jupman-show=\"Mostra soluzione\" data-jupman-hide=\"Nascondi\">Mostra soluzione</a><div class=\"jupman-sol jupman-sol-code\" style=\"display:none\">  "
   ]
  },
  {
   "cell_type": "code",
   "execution_count": 1,
   "id": "37ee4f65",
   "metadata": {
    "scrolled": false
   },
   "outputs": [
    {
     "name": "stdout",
     "output_type": "stream",
     "text": [
      "Trovati 12 risultati\n"
     ]
    },
    {
     "data": {
      "text/plain": [
       "[{'nome': 'Tiglio intermedio',\n",
       "  'nome_scientifico': 'Tilia vulgaris',\n",
       "  'luogo': 'Collegiata della Santissima Annunziata'},\n",
       " {'nome': 'Tiglio intermedio',\n",
       "  'nome_scientifico': 'Tilia vulgaris',\n",
       "  'luogo': 'Petruro di Forino'},\n",
       " {'nome': 'Tiglio selvatico',\n",
       "  'nome_scientifico': 'Tilia cordata',\n",
       "  'luogo': 'San Barbato - Castello'},\n",
       " {'nome': 'Tiglio selvatico',\n",
       "  'nome_scientifico': 'Tilia cordata',\n",
       "  'luogo': 'Piazza San Felice'},\n",
       " {'nome': 'Tiglio selvatico',\n",
       "  'nome_scientifico': 'Tilia cordata',\n",
       "  'luogo': 'Casola'},\n",
       " {'nome': 'Tiglio nostrale',\n",
       "  'nome_scientifico': 'Tilia platyphyllos',\n",
       "  'luogo': 'Piano di Sorrento'},\n",
       " {'nome': 'Tiglio',\n",
       "  'nome_scientifico': 'Tilia vulgaris',\n",
       "  'luogo': 'Centro Urbano'},\n",
       " {'nome': 'Tiglio',\n",
       "  'nome_scientifico': 'Tilia cordata',\n",
       "  'luogo': 'Massaquano'},\n",
       " {'nome': 'Tiglio', 'nome_scientifico': 'Tilia cordata', 'luogo': 'Filetta'},\n",
       " {'nome': 'Tiglio', 'nome_scientifico': 'Tilia cordata', 'luogo': 'Campora'},\n",
       " {'nome': 'Tiglio',\n",
       "  'nome_scientifico': 'Tilia cordata',\n",
       "  'luogo': 'Parco Colonia montana'},\n",
       " {'nome': 'Tiglio',\n",
       "  'nome_scientifico': 'Tilia cordata',\n",
       "  'luogo': 'Largo Sipicciano'}]"
      ]
     },
     "execution_count": 1,
     "metadata": {},
     "output_type": "execute_result"
    }
   ],
   "source": [
    "\n",
    "import csv\n",
    "\n",
    "def albernomi(parola):\n",
    "    \n",
    "    with open('Alberi-Monumentali-Della-Campania.csv', encoding='utf-8', newline='') as f:\n",
    "        lettore = csv.DictReader(f, delimiter=';')\n",
    "        next(lettore)\n",
    "        ret = []\n",
    "        for d in lettore:\n",
    "\n",
    "            if parola.lower() in d['NOME_SCIENTIFICO'].lower() \\\n",
    "               or parola.lower() in d['NOME_VOLGARE'].lower():\n",
    "                diz = {'nome' : d['NOME_VOLGARE'],\n",
    "                       'nome_scientifico' : d['NOME_SCIENTIFICO'],\n",
    "                       'luogo' : d['LOCALITA']}\n",
    "                ret.append(diz)\n",
    "        \n",
    "        print('Trovati', len(ret), 'risultati')\n",
    "    return ret\n",
    "    \n",
    "    \n",
    "albernomi('tiglio')    # 12 risultati\n",
    "#albernomi('TIGLIO')   # 12 risultati\n",
    "#albernomi('tilia')    # 12 risultati\n",
    "#albernomi('Tilia')    # 12 risultati\n",
    "#albernomi('cordata')  # 8 risultati"
   ]
  },
  {
   "cell_type": "raw",
   "id": "8a401867",
   "metadata": {
    "format": "text/html"
   },
   "source": [
    "</div>"
   ]
  },
  {
   "cell_type": "code",
   "execution_count": 1,
   "id": "37ee4f65-stripped",
   "metadata": {
    "scrolled": false
   },
   "outputs": [],
   "source": [
    "\n",
    "import csv\n",
    "\n",
    "def albernomi(parola):\n",
    "    raise Exception('TODO IMPLEMENT ME !')\n",
    "    \n",
    "albernomi('tiglio')    # 12 risultati\n",
    "#albernomi('TIGLIO')   # 12 risultati\n",
    "#albernomi('tilia')    # 12 risultati\n",
    "#albernomi('Tilia')    # 12 risultati\n",
    "#albernomi('cordata')  # 8 risultati"
   ]
  },
  {
   "cell_type": "markdown",
   "id": "e4f87102",
   "metadata": {},
   "source": [
    "### alberalti\n",
    "\n",
    "Scrivi una funzione che date una altezza minima e una massima carica il file [Alberi-Monumentali-Della-Campania.csv](Alberi-Monumentali-Della-Campania.csv) con un csv reader (**usa il parametro** `delimiter=';'` ed encoding utf-8), STAMPA il numero di risultati ottenuti e RITORNA tutti gli alberi aventi altezza inclusa nell'intervallo dato **estremi inclusi**.\n",
    "\n",
    "Il formato di output deve essere una lista di dizionari come questa:\n",
    "\n",
    "```python\n",
    ">>> alberalti(4,7)\n",
    "  \n",
    "Trovati 13 risultati\n",
    "\n",
    "[{'nome': 'Tiglio selvatico', \n",
    "  'altezza': 6, \n",
    "  'località': 'San Barbato - Castello'},\n",
    " {'nome': 'Sofora',\n",
    "  'altezza': 5, \n",
    "  'località': 'Villa Rende'},\n",
    " {'nome': 'Olivo',            \n",
    "  'altezza': 6, \n",
    "  'località': 'Via Carducci - Piazza Sabbato'},\n",
    " {'nome': 'Leccio', \n",
    "  'altezza': 7, \n",
    "  'località': 'Viale della Vittoria'},\n",
    " {'nome': 'Platano', \n",
    "  'altezza': 4, \n",
    "  'località': 'Ogliara'},\n",
    " .\n",
    " .\n",
    " . \n",
    "]\n",
    "```"
   ]
  },
  {
   "cell_type": "raw",
   "id": "002def4b",
   "metadata": {
    "format": "text/html"
   },
   "source": [
    "<a  class=\"jupman-sol jupman-sol-toggler\" \n",
    " onclick=\"jupman.toggleSolution(this);\" \n",
    " data-jupman-show=\"Mostra soluzione\" data-jupman-hide=\"Nascondi\">Mostra soluzione</a><div class=\"jupman-sol jupman-sol-code\" style=\"display:none\">  "
   ]
  },
  {
   "cell_type": "code",
   "execution_count": 2,
   "id": "d469e9f4",
   "metadata": {
    "scrolled": false
   },
   "outputs": [
    {
     "name": "stdout",
     "output_type": "stream",
     "text": [
      "Trovati 13 risultati\n"
     ]
    },
    {
     "data": {
      "text/plain": [
       "[{'nome': 'Tiglio selvatico',\n",
       "  'altezza': 6,\n",
       "  'località': 'San Barbato - Castello'},\n",
       " {'nome': 'Sofora', 'altezza': 5, 'località': 'Villa Rende'},\n",
       " {'nome': 'Olivo', 'altezza': 6, 'località': 'Via Carducci - Piazza Sabbato'},\n",
       " {'nome': 'Leccio', 'altezza': 7, 'località': 'Viale della Vittoria'},\n",
       " {'nome': 'Platano', 'altezza': 4, 'località': 'Ogliara'},\n",
       " {'nome': 'Tiglio', 'altezza': 6, 'località': 'Centro Urbano'},\n",
       " {'nome': 'Leccio', 'altezza': 6, 'località': 'Piazza F. Napolitano'},\n",
       " {'nome': 'Gelso', 'altezza': 6, 'località': 'Puolo - Villa Angelina'},\n",
       " {'nome': 'Tiglio', 'altezza': 6, 'località': 'Massaquano'},\n",
       " {'nome': 'Alloro', 'altezza': 6, 'località': 'Pratillo'},\n",
       " {'nome': 'Gelso', 'altezza': 4, 'località': 'Vieticala'},\n",
       " {'nome': 'Tiglio', 'altezza': 5, 'località': 'Filetta'},\n",
       " {'nome': 'Yucca', 'altezza': 6, 'località': \"Mostra d'Oltremare\"}]"
      ]
     },
     "execution_count": 2,
     "metadata": {},
     "output_type": "execute_result"
    }
   ],
   "source": [
    "\n",
    "import csv\n",
    "\n",
    "def alberalti(minh, maxh):\n",
    "    \n",
    "    with open('Alberi-Monumentali-Della-Campania.csv', encoding='utf-8', newline='') as f:\n",
    "        lettore = csv.DictReader(f, delimiter=';')\n",
    "        next(lettore)\n",
    "        ret = []\n",
    "        for d in lettore:                        \n",
    "            h = int(d['ALTEZZA'])\n",
    "            if minh <= h and h <= maxh:\n",
    "                diz = { 'nome' : d['NOME_VOLGARE'],                        \n",
    "                        'altezza' : h,\n",
    "                        'località' : d['LOCALITA']}\n",
    "                ret.append(diz)\n",
    "                \n",
    "        print('Trovati', len(ret), 'risultati')\n",
    "    return ret\n",
    "    \n",
    "    \n",
    "alberalti(4,7)    # 13 risultati\n",
    "#alberalti(5,8)   # 15 risultati"
   ]
  },
  {
   "cell_type": "raw",
   "id": "e02ea46f",
   "metadata": {
    "format": "text/html"
   },
   "source": [
    "</div>"
   ]
  },
  {
   "cell_type": "code",
   "execution_count": 2,
   "id": "d469e9f4-stripped",
   "metadata": {
    "scrolled": false
   },
   "outputs": [],
   "source": [
    "\n",
    "import csv\n",
    "\n",
    "def alberalti(minh, maxh):\n",
    "    raise Exception('TODO IMPLEMENT ME !')\n",
    "    \n",
    "alberalti(4,7)    # 13 risultati\n",
    "#alberalti(5,8)   # 15 risultati"
   ]
  },
  {
   "cell_type": "markdown",
   "id": "50fd4182",
   "metadata": {},
   "source": [
    "### Alberi per provincia\n",
    "\n",
    "Scrivere del codice che conta per ogni provincia quanti alberi ci sono, e visualizza un grafico a barre verdi\n",
    "\n",
    "- ricordati di impostare il titolo\n",
    "\n",
    "**SUGGERIMENTO**: Vedere [grafici a barre](https://it.softpython.org/visualization/visualization1-sol.html#Grafici-a-barre) e [xticks](https://it.softpython.org/visualization/visualization1-sol.html#Le-etichette-sugli-assi)\n",
    "\n",
    "![expected-plot.png](expected-plot.png)"
   ]
  },
  {
   "cell_type": "raw",
   "id": "dff83d42",
   "metadata": {
    "format": "text/html"
   },
   "source": [
    "<a  class=\"jupman-sol jupman-sol-toggler\" \n",
    " onclick=\"jupman.toggleSolution(this);\" \n",
    " data-jupman-show=\"Mostra soluzione\" data-jupman-hide=\"Nascondi\">Mostra soluzione</a><div class=\"jupman-sol jupman-sol-code\" style=\"display:none\">  "
   ]
  },
  {
   "cell_type": "code",
   "execution_count": 4,
   "id": "79c66851",
   "metadata": {},
   "outputs": [
    {
     "data": {
      "image/png": "[encoded data removed]",
      "text/plain": [
       "<Figure size 432x288 with 1 Axes>"
      ]
     },
     "metadata": {
      "needs_background": "light"
     },
     "output_type": "display_data"
    }
   ],
   "source": [
    "\n",
    "%matplotlib inline\n",
    "import matplotlib.pyplot as plt\n",
    "\n",
    "\n",
    "# scrivi qui\n",
    "with open('Alberi-Monumentali-Della-Campania.csv', encoding='utf-8', newline='') as f:\n",
    "    lettore = csv.DictReader(f, delimiter=';')\n",
    "    next(lettore)\n",
    "    ret = []\n",
    "    province = {}\n",
    "    for d in lettore:\n",
    "        h = int(d['ALTEZZA'])\n",
    "        p = d['PROVINCIA']\n",
    "        if p not in province:\n",
    "            province[p] = 1\n",
    "        else:\n",
    "            province[p] += 1\n",
    "\n",
    "\n",
    "    xs = list(range(len(province)))\n",
    "    nomi_province = province.keys()\n",
    "    ys = [province[x] for x in nomi_province]\n",
    "    plt.xticks(xs, nomi_province)\n",
    "    plt.title('Alberi monmentali per provincia')    \n",
    "    plt.bar(xs, ys,\n",
    "            0.5,            \n",
    "            color='green',                              \n",
    "            align='center') \n",
    "\n",
    "    \n",
    "    plt.show()                 "
   ]
  },
  {
   "cell_type": "raw",
   "id": "0d523517",
   "metadata": {
    "format": "text/html"
   },
   "source": [
    "</div>"
   ]
  },
  {
   "cell_type": "code",
   "execution_count": 4,
   "id": "79c66851-stripped",
   "metadata": {},
   "outputs": [],
   "source": [
    "\n",
    "%matplotlib inline\n",
    "import matplotlib.pyplot as plt\n",
    "\n",
    "\n",
    "# scrivi qui\n",
    "\n"
   ]
  },
  {
   "cell_type": "code",
   "execution_count": null,
   "id": "35313c0a",
   "metadata": {},
   "outputs": [],
   "source": []
  }
 ],
 "metadata": {
  "kernelspec": {
   "display_name": "Python 3 (ipykernel)",
   "language": "python",
   "name": "python3"
  },
  "language_info": {
   "codemirror_mode": {
    "name": "ipython",
    "version": 3
   },
   "file_extension": ".py",
   "mimetype": "text/x-python",
   "name": "python",
   "nbconvert_exporter": "python",
   "pygments_lexer": "ipython3",
   "version": "3.7.10"
  },
  "toc": {
   "base_numbering": 1,
   "nav_menu": {},
   "number_sections": false,
   "sideBar": true,
   "skip_h1_title": false,
   "title_cell": "Table of Contents",
   "title_sidebar": "Contents",
   "toc_cell": false,
   "toc_position": {},
   "toc_section_display": true,
   "toc_window_display": false
  }
 },
 "nbformat": 4,
 "nbformat_minor": 5
}

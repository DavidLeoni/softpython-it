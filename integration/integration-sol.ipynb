{
 "cells": [
  {
   "cell_type": "markdown",
   "metadata": {},
   "source": [
    "# Integrazione dati\n",
    "\n",
    "\n",
    "## [Scarica zip esercizi](../_static/generated/integration.zip)\n",
    "\n",
    "[Naviga file online](https://github.com/DavidLeoni/softpython-it/tree/master/integration)\n",
    "\n",
    "\n",
    "## Introduzione\n",
    "\n",
    "In questo tutorial parleremo di integrazione di dati, presentando diversi argomenti / tool:\n",
    "\n",
    "- OpenStreetMap\n",
    "- UMap \n",
    "- Formato JSON\n",
    "- Web API\n",
    "\n",
    "In particolare mapperemo degli agritur del Trentino su Umap, seguendo grossomodo [il tutorial sugli agritur di CoderDojoTrento](https://www.coderdojotrento.it/risorse/openstreetmap-e-agritur/). La differenza sostanziale sarà che in questo caso invece dei Google spreadsheet useremo Python.\n",
    "\n",
    "Scaletta:\n",
    "\n",
    "- 0 Presentazione OpenStreetMap e UMap\n",
    "- 1 prendere dati agritur da dati.trentino.it\n",
    "- 2 leggere file CSV in Python\n",
    "- 3 cercare automaticamente coordinate geografiche usando le web api di MapQuest / OpenStreetMap Nominatim\n",
    "    - parsing formato json\n",
    "- 4 scrivere il nuovo file CSV con i campi latitudine e longitudine riempiti\n",
    "- 5 importare il file CSV in Umap\n",
    "- 6 Inserire la mappa in Jupyter\n",
    "\n"
   ]
  },
  {
   "cell_type": "markdown",
   "metadata": {},
   "source": [
    "### Che fare\n",
    "\n",
    "\n",
    "- scompatta lo zip in una cartella, dovresti ottenere qualcosa del genere: \n",
    "\n",
    "```\n",
    "\n",
    "integration\n",
    "    integration.ipynb     \n",
    "    integration-sol.ipynb        \n",
    "    jupman.py         \n",
    "```\n",
    "\n",
    "<div class=\"alert alert-warning\">\n",
    "\n",
    "**ATTENZIONE**: Per essere visualizzato correttamente, il file del notebook DEVE essere nella cartella szippata.\n",
    "</div>\n",
    "\n",
    "- apri il Jupyter Notebook da quella cartella. Due cose dovrebbero aprirsi, prima una console e poi un browser. Il browser dovrebbe mostrare una lista di file: naviga la lista e apri il notebook `integration.ipynb`\n",
    "- Prosegui leggendo il file degli esercizi, ogni tanto al suo interno troverai delle scritte **ESERCIZIO**, che ti chiederanno di scrivere dei comandi Python nelle celle successive. \n",
    "\n",
    "Scorciatoie da tastiera:\n",
    "\n",
    "* Per eseguire il codice Python dentro una cella di Jupyter, premi `Control+Invio`\n",
    "* Per eseguire il codice Python dentro una cella di Jupyter E selezionare la cella seguente, premi `Shift+Invio`\n",
    "* Per eseguire il codice Python dentro una cella di Jupyter E creare una nuova cella subito dopo, premi `Alt+Invio`\n",
    "* Se per caso il Notebook sembra inchiodato, prova a selezionare `Kernel -> Restart`\n",
    "\n",
    "\n"
   ]
  },
  {
   "cell_type": "markdown",
   "metadata": {},
   "source": [
    "## 0 Presentazione OpenStreetMap e UMap\n",
    "\n",
    "### 0.1 OpenStreetMap\n",
    "\n",
    "Conosciamo tutti le Google Maps. Se le usiamo come privati cittadini, sono gratute, ma se siamo delle aziende Google potrebbe porci dei vincoli al riuso - sicuramente per scaricare tutto il database del mondo dovremmo chiedere permessi e pagare soldoni, sempre che Google ce lo conceda ! Esistono alternative? Sappiamo che esiste un enciclopedia realizzata completamente da volontari che si chiama Wikipedia, e per le mappe? Per nostra fortuna esiste [OpenStreetMap](http://openstreetmap.org) (detta anche OSM), che è una mappa del mondo realizzata da volontari, completamente gratuita, nonchè scaricabile e riusabile con licenza  [OpenDatabase License](https://it.okfn.org/odbl-riassunto/). La licenza è piuttosto libera, il peggio che può capitare è che in alcuni casi si sia costretti a ripubblicare le proprie mappe costruite usando dati presi da OpenStreetMap. \n",
    "\n",
    "**✪ ESERCIZIO 0.1.1**: Per capire un po' come navigare OpenStreetMap, puoi guardare il tutorial di CoderDojo Trento [Inseriamo un punto in OpenStreetMap](https://www.coderdojotrento.it/materiale/webmapping/tutorial/osm-inseriamo-un-punto/tutorial-osm-inseriamo-un-punto.pdf). Non serve che inserisci punti in OpenStreetMap, ma naturalmente se vuoi arricchire la mappa la comunità te ne sarà grata !\n",
    "\n",
    "**✪ ESERCIZIO 0.1.2** Per capire  le potenzialità di OpenStreetMap e le differenze con Google Maps, guarda anche queste diverse visualizzazioni di OpenStreetMap che evidenziano alcune categorie di punti che si trovano in OpenStreetMap:\n",
    "\n",
    "[OsmHydrant](https://www.osmhydrant.org/en/): Mappa di idranti, notare il raggio d'azione utile degli idranti\n",
    "\n",
    "[WheelMap](https://wheelmap.org/it/map#/?lat=46.0900194916288&lon=11.123485565185547&q=trento&zoom=15): mappa dei luoghi accessibili ai disabili\n",
    "\n",
    "[TagInfo](https://taginfo.openstreetmap.org) Ad ogni oggetto in OpenStreetMap si possono aggiungere tag. TagInfo mostra le tag più utilizzate."
   ]
  },
  {
   "cell_type": "markdown",
   "metadata": {},
   "source": [
    "\n",
    "### 0.1 UMap\n",
    "\n",
    "[UMap](https://umap.openstreetmap.fr) è un tool online per creare mappe in cui si sovrappongono punti che vogliamo noi a OpenStreetMap. \n",
    "\n",
    "**✪ ESERCIZIO 0.2.1**: Se non l'hai già fatto precedentemente, prova a fare il [tutorial di CoderDojo Trento sui Servizi di Rovereto e Umap](https://docs.google.com/presentation/d/1CWo9pFl6jcR1EmDAXOmNeOayfyjfLqLR5-h5U8zxrrk/edit#slide=id.g518a59eb3_0_0). E' molto semplice e non serve Python, basta usare tool online. Mostra come prendere da dati.trentino.it i servizi di Rovereto in formato JSON georeferenziati, convertirli in CSV e importarli in UMap"
   ]
  },
  {
   "cell_type": "markdown",
   "metadata": {},
   "source": [
    "\n",
    "\n",
    "## 1 Prendiamoci i dati\n",
    "\n",
    "Concentriamoci adesso sugli Agritur. Andiamo a cercarci dei dati dal catalogo opendata `dati.trentino.it`. In questo caso sceglieremo un file dal dataset [Agritur del Trentino](http://dati.trentino.it/dataset/agriturismi-del-trentino). \n",
    "\n",
    "**✪ DOMANDA 1.1**: Quale è la licenza del dataset? Possiamo farci tutto quello che vogliamo ? \n",
    "\n"
   ]
  },
  {
   "cell_type": "raw",
   "id": "6c6ae85a",
   "metadata": {
    "format": "text/html"
   },
   "source": [
    "<a  class=\"jupman-sol jupman-sol-toggler\" \n",
    " onclick=\"jupman.toggleSolution(this);\" \n",
    " data-jupman-show=\"Mostra risposta\" data-jupman-hide=\"Nascondi\">Mostra risposta</a><div class=\"jupman-sol jupman-sol-question\" style=\"display:none\">  "
   ]
  },
  {
   "cell_type": "markdown",
   "metadata": {},
   "source": [
    "**RISPOSTA**: E' CC-BY, basta citare la fonte"
   ]
  },
  {
   "cell_type": "raw",
   "id": "4f260ddd",
   "metadata": {
    "format": "text/html"
   },
   "source": [
    "</div>"
   ]
  },
  {
   "cell_type": "markdown",
   "metadata": {},
   "source": [
    "Nel dataset troviamo la risorsa [Elenco Agritur](http://dati.trentino.it/dataset/agriturismi-del-trentino/resource/bb9f3185-602d-44c5-9f06-fc1f7ae25038) che al suo interno contiene un link ad un file CSV.\n",
    "\n",
    "**ATTENZIONE**: Per questo esercizio, **NON** usate il CSV dal sito, ma scaricate invece [agritur16_10_2014.csv a questo link](agritur16_10_2014.csv) che come dal nome contiene un file del 2014. \n",
    "\n",
    "**✪ DOMANDA 1.2**: notate differenze tra il file del 2014 e quello corrente sul sito ? \n",
    "\n"
   ]
  },
  {
   "cell_type": "raw",
   "id": "f52b0f0e",
   "metadata": {
    "format": "text/html"
   },
   "source": [
    "<a  class=\"jupman-sol jupman-sol-toggler\" \n",
    " onclick=\"jupman.toggleSolution(this);\" \n",
    " data-jupman-show=\"Mostra risposta\" data-jupman-hide=\"Nascondi\">Mostra risposta</a><div class=\"jupman-sol jupman-sol-question\" style=\"display:none\">  "
   ]
  },
  {
   "cell_type": "markdown",
   "metadata": {},
   "source": [
    "**RISPOSTA**: al momento (Marzo 2018) neanche si può scaricare, precedentemente a Novembre 2017 rispetto al file del 2014 erano apparsi cambiamenti nel formato delle colonne"
   ]
  },
  {
   "cell_type": "raw",
   "id": "82736890",
   "metadata": {
    "format": "text/html"
   },
   "source": [
    "</div>"
   ]
  },
  {
   "cell_type": "markdown",
   "metadata": {},
   "source": [
    "**✪ DOMANDA 1.3**: Se realizzaste un programma per leggere questi file degli agriturismi scaricandoli periodicamente dal sito,  a lungo andare quali problemi potrebbero insorgere (pensate anche al contenuto del file) ? \n",
    "\n",
    "Vediamo qua una anterprima del file  [agritur16_10_2014.csv](agritur16_10_2014.csv) (NOTA: i campi a destra sono tagliati) : \n",
    "\n",
    "```\n",
    "N_prog;Num_archivio;data_rilascio_prima_autorizzazione;Nome_Impresa_agricola;A ...\n",
    "1;10;11/11/1986;DALLAGO LUCIANO;no;38060;Aldeno;Via S. D'Acquisto n. 4;29251/9 ...\n",
    "2;26;16/12/1986;ARMAN CRISTINA;no;38010;Faedo;Loc. Pineta - Maso Nello;137876/ ...\n",
    "3;37;22/12/1986;INAMA FRANCESCO;no;38010;Sanzeno;Via Casalini n. 74;130041/96; ...\n",
    "4;49;15/01/1987;MONTIBELLER VALTER;no;38050;Roncegno;Via Prose n. 1;138559/96; ...\n",
    "```\n",
    "\n",
    "\n"
   ]
  },
  {
   "cell_type": "raw",
   "id": "5b5a3ba8",
   "metadata": {
    "format": "text/html"
   },
   "source": [
    "<a  class=\"jupman-sol jupman-sol-toggler\" \n",
    " onclick=\"jupman.toggleSolution(this);\" \n",
    " data-jupman-show=\"Mostra risposta\" data-jupman-hide=\"Nascondi\">Mostra risposta</a><div class=\"jupman-sol jupman-sol-question\" style=\"display:none\">  "
   ]
  },
  {
   "cell_type": "markdown",
   "metadata": {},
   "source": [
    "**RISPOSTA**:  Bisogna sempre prepararsi al peggio: sparizione di colonne, aggiunta di nuove colonne, cambiamento dei valori attesi dentro le colonne, sparizione di tutto il file... "
   ]
  },
  {
   "cell_type": "raw",
   "id": "9f9babf6",
   "metadata": {
    "format": "text/html"
   },
   "source": [
    "</div>"
   ]
  },
  {
   "cell_type": "markdown",
   "metadata": {},
   "source": [
    "**✪ DOMANDA 1.4**: Ci sono le intestazioni ? Qual'è il separatore ? \n"
   ]
  },
  {
   "cell_type": "raw",
   "id": "aa1825c3",
   "metadata": {
    "format": "text/html"
   },
   "source": [
    "<a  class=\"jupman-sol jupman-sol-toggler\" \n",
    " onclick=\"jupman.toggleSolution(this);\" \n",
    " data-jupman-show=\"Mostra risposta\" data-jupman-hide=\"Nascondi\">Mostra risposta</a><div class=\"jupman-sol jupman-sol-question\" style=\"display:none\">  "
   ]
  },
  {
   "cell_type": "markdown",
   "metadata": {},
   "source": [
    "**RISPOSTA**: ci sono le intestazioni, separate dal punto e virgola."
   ]
  },
  {
   "cell_type": "raw",
   "id": "6b14814b",
   "metadata": {
    "format": "text/html"
   },
   "source": [
    "</div>"
   ]
  },
  {
   "cell_type": "markdown",
   "metadata": {},
   "source": [
    "**✪ DOMANDA 1.5**: Quanti indirizzi ci sono nel file ? Se volessimo posizionare gli agritur su una mappa, quali indirizzi useremmo ? Ci sono le coordinate geografiche?\n",
    "\n"
   ]
  },
  {
   "cell_type": "raw",
   "id": "f7db4222",
   "metadata": {
    "format": "text/html"
   },
   "source": [
    "<a  class=\"jupman-sol jupman-sol-toggler\" \n",
    " onclick=\"jupman.toggleSolution(this);\" \n",
    " data-jupman-show=\"Mostra risposta\" data-jupman-hide=\"Nascondi\">Mostra risposta</a><div class=\"jupman-sol jupman-sol-question\" style=\"display:none\">  "
   ]
  },
  {
   "cell_type": "markdown",
   "metadata": {},
   "source": [
    "**RISPOSTA**: \n",
    "\n",
    "indirizzi:\n",
    "\n",
    "    indirizzo_impresa_agricola\n",
    "    Indirizzo_agriturismo\n",
    "\n",
    "coordinate geografiche: Latitudine e Longitudine\n",
    "\n",
    "La posizione degli agritur è in Indirizzo_agriturismo, ma le coordinate geografiche sono vuote."
   ]
  },
  {
   "cell_type": "raw",
   "id": "f3b6e406",
   "metadata": {
    "format": "text/html"
   },
   "source": [
    "</div>"
   ]
  },
  {
   "cell_type": "markdown",
   "metadata": {},
   "source": [
    "**✪ DOMANDA 1.6**: Prova ad aprire il file in LibreOffice Calc o Excel, facendo attenzione a specificare i separatori corretti e l'encoding (guarda l'header 'Società' , in particolare il carattere finale !)\n",
    "\n",
    "<div class=\"alert alert-warning\">\n",
    "           \n",
    "**ATTENZIONE SE USI EXCEL!**\n",
    "     \n",
    "Facendo direttamente `File->Apri in Excel`, probabilmente Excel cercherà di immaginarsi da solo come intabellare il CSV, e sbaglierà metterà tutto le righe in una colonna. Per ovviare al problema, dobbiamo dire ad Excel di mostrare un pannello per chiederci come vogliamo aprire il CSV, facendo così: \n",
    "\n",
    "* In Excel vecchi, cerca `File-> Importa`\n",
    "* In Excel recenti, clicca la scheda `Dati` e poi seleziona `Da testo`. Per ulteriori riferimenti su Excel, [vedere guida di Salvatore Aranzulla](https://www.aranzulla.it/come-aprire-file-csv-672903.html)\n",
    "\n",
    "</div>\n",
    "\n"
   ]
  },
  {
   "cell_type": "markdown",
   "metadata": {},
   "source": [
    "## 2. Leggiamo il CSV"
   ]
  },
  {
   "cell_type": "markdown",
   "metadata": {},
   "source": [
    "**✪ ESERCIZIO 2.1**: Prova a caricare le prime 10 righe del file CSV in Python usando le istruzioni già viste [nella capitolo sui formati](http://it.softpython.org/formats/formats-sol.html#File-CSV)\n",
    "\n",
    "Fai attenzione al delimitatore e specifica `encoding='utf-8'` come parametro nella `open` !\n",
    "\n",
    "Per ottenere 10 righe, puoi usare un ciclo `while` e ottenere ciascuna riga con un istruzione del tipo \n",
    "\n",
    "```python\n",
    "row = next(lettore)\n",
    "```"
   ]
  },
  {
   "cell_type": "raw",
   "id": "751b2642",
   "metadata": {
    "format": "text/html"
   },
   "source": [
    "<a  class=\"jupman-sol jupman-sol-toggler\" \n",
    " onclick=\"jupman.toggleSolution(this);\" \n",
    " data-jupman-show=\"Mostra soluzione\" data-jupman-hide=\"Nascondi\">Mostra soluzione</a><div class=\"jupman-sol jupman-sol-code\" style=\"display:none\">  "
   ]
  },
  {
   "cell_type": "code",
   "execution_count": 1,
   "metadata": {},
   "outputs": [
    {
     "name": "stdout",
     "output_type": "stream",
     "text": [
      "['N_prog', 'Num_archivio', 'data_rilascio_prima_autorizzazione', 'Nome_Impresa_agricola', 'Azienda_zootecnica', 'CAP', 'sede_impresa_agricola', 'indirizzo_impresa_agricola', 'CCIAA', 'pref', 'tel', 'società', 'malga', 'PEC', 'indirizzo_e_mail', 'Altitudine', 'Latitudine', 'Longitudine', 'Comune_Sede_Agriturismo', 'Indirizzo_agriturismo', 'Denominazione_Agriturismo', 'N_appartamenti', 'N_stanze_in_appartamento', 'Tot_posti_letto_in_appartamento', 'N_bagni_appartamento', 'N_Stanze', 'Tot_posti_letto_in_stanze', 'N_bagni_in_stanze', 'N_tot_stanze_e_stanze_in_appartamento', 'Tot_posti_letto', 'Alloggio_in_appartamenti', 'Alloggio_in_stanze', 'Prima_colazione', 'Ristorazione_solo_per_alloggiati', 'Servizio_Ristorante_per_passanti', 'N_posti_tavola_interni_a_struttura', 'N_posti_tavola_esterni_alla_struttura', 'N_tot_posti_tavola', 'N_tot_Bagni', 'Agricampeggio', 'N_piazzole', 'N_tot_posti_in_campeggio', 'Fattoria_didattica', 'Altre_attività_ricreative', 'Degustazione', 'Classificazione_punteggio_tabella_1', 'Classificazione_punteggio_tabella_2', 'Classificazione_punteggio_tabella_3', 'ASSEGNAZIONE_MARGHERITE']\n",
      "['1', '10', '11/11/1986', 'DALLAGO LUCIANO', 'no', '38060', 'Aldeno', \"Via S. D'Acquisto n. 4\", '29251/97', '0461', '842629', 'no', 'no', 'luciano.dallago@pec.agritel.it', 'gastone.dallago@smach.it ', '810', '', '', 'Garniga Terme', 'Loc. al Lago n. 15', 'DALLAGO LUCIANO', '2', '5', '10', '2', '0', '0', '0', '5', '10', 'si', 'no', 'no', 'no', 'no', '0', '0', '0', '0', 'no', '0', '0', 'no', '', 'no', '0', '0', '0', '']\n",
      "['2', '26', '16/12/1986', 'ARMAN CRISTINA', 'no', '38010', 'Faedo', 'Loc. Pineta - Maso Nello', '137876/96', '0461', '650384', 'no', 'no', 'cristina.arman@pec.agritel.it', 'masonello@hotmail.com ', '595', '', '', 'Faedo', 'Loc. Pineta - Maso Nello', 'MASO NELLO', '1', '2', '4', '1', '4', '8', '4', '6', '12', 'si', 'si', 'si', 'no', 'si', '30', '0', '30', '1', 'no', '0', '0', 'si', '', 'si', '31', '40', '10', '3']\n",
      "['3', '37', '22/12/1986', 'INAMA FRANCESCO', 'no', '38010', 'Sanzeno', 'Via Casalini n. 74', '130041/96', '0463', '434072', 'no', 'no', 'inama.francesco@cia.legalmail.it', '', '641', '', '', 'Sanzeno', 'Via Casalini n. 74', 'ANAUNIA', '0', '0', '0', '0', '5', '10', '5', '5', '10', 'no', 'si', 'si', 'no', 'no', '0', '0', '0', '0', 'no', '0', '0', 'no', '', 'no', '22', '19', '6', '2']\n",
      "['4', '49', '15/01/1987', 'MONTIBELLER VALTER', 'no', '38050', 'Roncegno', 'Via Prose n. 1', '138559/96', '0461', '773349', 'no', 'no', 'AZ.MONTIBELLER@PEC.IT', '', '535', '', '', 'Roncegno', 'Via Prose n. 1', 'MONTIBELLER', '6', '6', '8', '6', '4', '8', '4', '10', '16', 'si', 'si', 'si', 'no', 'si', '43', '0', '43', '2', 'si', '15', '30', 'si', 'bagni di fieno', 'si', '32', '24', '10', '2']\n",
      "['5', '52', '20/01/1987', 'BRESCIANI ITALO', 'no', '38060', 'Tenno', 'Via Diaz n. 40 - Fraz. Cologna', '138928/96', '0464', '521701', 'no', 'no', 'italo.bresciani@pec.agritel.it', '', '428', '', '', 'Tenno', 'Loc. Fontanelle', 'PIZACOL DI BRESCIANI ITALO', '0', '0', '0', '0', '0', '0', '0', '0', '0', 'no', 'no', 'no', 'no', 'si', '35', '0', '35', '2', 'no', '0', '0', 'no', '', 'no', '7', '11', '2', '2']\n",
      "['6', '61', '30/01/1987', 'FONTANARI ETTORE', 'no', '38057', 'Pergine Valsugana', 'Via Chimelli n. 25', '38575/97', '0461', '530023', 'no', 'no', 'ettore.fontanari@pec.agritel.it', '', '482', '', '', 'Pergine Valsugana', 'Via Chimelli n. 25', 'FONTANARI ETTORE', '4', '6', '9', '4', '0', '0', '0', '6', '9', 'si', 'no', 'no', 'no', 'no', '0', '0', '0', '0', 'no', '0', '0', 'no', '', 'no', '8', '14', '4', '2']\n",
      "['7', '68', '30/01/1987', 'MARINCONZ GINO', 'no', '38010', 'Coredo', 'Via G. Inama n. 21', '61840/97', '0463', '536328', 'no', 'no', 'GINO.MARINCONZ@PEC.IT', '', '831', '', '', 'Coredo', 'Via G. Inama n. 21', 'MARINCONZ GINO', '3', '6', '11', '3', '0', '0', '0', '6', '11', 'si', 'no', 'no', 'no', 'no', '0', '0', '0', '0', 'no', '0', '0', 'no', '', 'no', '9', '12', '4', '2']\n",
      "['8', '74', '06/02/1987', 'BERNARDI ARMANDA BORTOLOTTI', 'no', '38057', 'Pergine Valsugana', 'Via Montesei n. 2', '141055/96', '0461', '530125', 'no', 'no', 'AGRITUR.BORTOLOTTI@PEC.CGN.IT', 'agritur.bortolotti@tin.it', '482', '', '', 'Pergine Valsugana', 'Via Montesei n. 4', 'AGRITUR BORTOLOTTI', '2', '2', '8', '2', '6', '14', '6', '8', '22', 'si', 'si', 'si', 'no', 'si', '25', '0', '25', '2', 'no', '0', '0', 'si', '', 'no', '31', '26', '11', '3']\n",
      "['9', '94', '06/05/1987', 'ZAMBONI PIA', 'no', '38040', 'Bosentino', 'Maso Fosina n. 5', '129820/96', '0461', '848468', 'no', 'no', 'pia.zamboni@pec.agritel.it', '', '700', '', '', 'Calceranica al Lago', 'Maso Marini', 'MASO MARINI', '3', '5', '8', '3', '0', '0', '0', '5', '8', 'si', 'no', 'no', 'no', 'no', '0', '0', '0', '0', 'no', '0', '0', 'no', '', 'no', '27', '39', '15', '4']\n"
     ]
    }
   ],
   "source": [
    "# scrivi qui\n",
    "\n",
    "import csv\n",
    "with open('agritur16_10_2014.csv', encoding='utf-8', newline='') as f:\n",
    "    lettore = csv.reader(f, delimiter=';')\n",
    "    i = 0\n",
    "    \n",
    "    while i < 10:\n",
    "        row = next(lettore)\n",
    "        print(row)\n",
    "        i += 1\n",
    "    "
   ]
  },
  {
   "cell_type": "raw",
   "id": "f054874b",
   "metadata": {
    "format": "text/html"
   },
   "source": [
    "</div>"
   ]
  },
  {
   "cell_type": "code",
   "execution_count": 1,
   "metadata": {},
   "outputs": [
    {
     "name": "stdout",
     "output_type": "stream",
     "text": [
      "['N_prog', 'Num_archivio', 'data_rilascio_prima_autorizzazione', 'Nome_Impresa_agricola', 'Azienda_zootecnica', 'CAP', 'sede_impresa_agricola', 'indirizzo_impresa_agricola', 'CCIAA', 'pref', 'tel', 'società', 'malga', 'PEC', 'indirizzo_e_mail', 'Altitudine', 'Latitudine', 'Longitudine', 'Comune_Sede_Agriturismo', 'Indirizzo_agriturismo', 'Denominazione_Agriturismo', 'N_appartamenti', 'N_stanze_in_appartamento', 'Tot_posti_letto_in_appartamento', 'N_bagni_appartamento', 'N_Stanze', 'Tot_posti_letto_in_stanze', 'N_bagni_in_stanze', 'N_tot_stanze_e_stanze_in_appartamento', 'Tot_posti_letto', 'Alloggio_in_appartamenti', 'Alloggio_in_stanze', 'Prima_colazione', 'Ristorazione_solo_per_alloggiati', 'Servizio_Ristorante_per_passanti', 'N_posti_tavola_interni_a_struttura', 'N_posti_tavola_esterni_alla_struttura', 'N_tot_posti_tavola', 'N_tot_Bagni', 'Agricampeggio', 'N_piazzole', 'N_tot_posti_in_campeggio', 'Fattoria_didattica', 'Altre_attività_ricreative', 'Degustazione', 'Classificazione_punteggio_tabella_1', 'Classificazione_punteggio_tabella_2', 'Classificazione_punteggio_tabella_3', 'ASSEGNAZIONE_MARGHERITE']\n",
      "['1', '10', '11/11/1986', 'DALLAGO LUCIANO', 'no', '38060', 'Aldeno', \"Via S. D'Acquisto n. 4\", '29251/97', '0461', '842629', 'no', 'no', 'luciano.dallago@pec.agritel.it', 'gastone.dallago@smach.it ', '810', '', '', 'Garniga Terme', 'Loc. al Lago n. 15', 'DALLAGO LUCIANO', '2', '5', '10', '2', '0', '0', '0', '5', '10', 'si', 'no', 'no', 'no', 'no', '0', '0', '0', '0', 'no', '0', '0', 'no', '', 'no', '0', '0', '0', '']\n",
      "['2', '26', '16/12/1986', 'ARMAN CRISTINA', 'no', '38010', 'Faedo', 'Loc. Pineta - Maso Nello', '137876/96', '0461', '650384', 'no', 'no', 'cristina.arman@pec.agritel.it', 'masonello@hotmail.com ', '595', '', '', 'Faedo', 'Loc. Pineta - Maso Nello', 'MASO NELLO', '1', '2', '4', '1', '4', '8', '4', '6', '12', 'si', 'si', 'si', 'no', 'si', '30', '0', '30', '1', 'no', '0', '0', 'si', '', 'si', '31', '40', '10', '3']\n",
      "['3', '37', '22/12/1986', 'INAMA FRANCESCO', 'no', '38010', 'Sanzeno', 'Via Casalini n. 74', '130041/96', '0463', '434072', 'no', 'no', 'inama.francesco@cia.legalmail.it', '', '641', '', '', 'Sanzeno', 'Via Casalini n. 74', 'ANAUNIA', '0', '0', '0', '0', '5', '10', '5', '5', '10', 'no', 'si', 'si', 'no', 'no', '0', '0', '0', '0', 'no', '0', '0', 'no', '', 'no', '22', '19', '6', '2']\n",
      "['4', '49', '15/01/1987', 'MONTIBELLER VALTER', 'no', '38050', 'Roncegno', 'Via Prose n. 1', '138559/96', '0461', '773349', 'no', 'no', 'AZ.MONTIBELLER@PEC.IT', '', '535', '', '', 'Roncegno', 'Via Prose n. 1', 'MONTIBELLER', '6', '6', '8', '6', '4', '8', '4', '10', '16', 'si', 'si', 'si', 'no', 'si', '43', '0', '43', '2', 'si', '15', '30', 'si', 'bagni di fieno', 'si', '32', '24', '10', '2']\n",
      "['5', '52', '20/01/1987', 'BRESCIANI ITALO', 'no', '38060', 'Tenno', 'Via Diaz n. 40 - Fraz. Cologna', '138928/96', '0464', '521701', 'no', 'no', 'italo.bresciani@pec.agritel.it', '', '428', '', '', 'Tenno', 'Loc. Fontanelle', 'PIZACOL DI BRESCIANI ITALO', '0', '0', '0', '0', '0', '0', '0', '0', '0', 'no', 'no', 'no', 'no', 'si', '35', '0', '35', '2', 'no', '0', '0', 'no', '', 'no', '7', '11', '2', '2']\n",
      "['6', '61', '30/01/1987', 'FONTANARI ETTORE', 'no', '38057', 'Pergine Valsugana', 'Via Chimelli n. 25', '38575/97', '0461', '530023', 'no', 'no', 'ettore.fontanari@pec.agritel.it', '', '482', '', '', 'Pergine Valsugana', 'Via Chimelli n. 25', 'FONTANARI ETTORE', '4', '6', '9', '4', '0', '0', '0', '6', '9', 'si', 'no', 'no', 'no', 'no', '0', '0', '0', '0', 'no', '0', '0', 'no', '', 'no', '8', '14', '4', '2']\n",
      "['7', '68', '30/01/1987', 'MARINCONZ GINO', 'no', '38010', 'Coredo', 'Via G. Inama n. 21', '61840/97', '0463', '536328', 'no', 'no', 'GINO.MARINCONZ@PEC.IT', '', '831', '', '', 'Coredo', 'Via G. Inama n. 21', 'MARINCONZ GINO', '3', '6', '11', '3', '0', '0', '0', '6', '11', 'si', 'no', 'no', 'no', 'no', '0', '0', '0', '0', 'no', '0', '0', 'no', '', 'no', '9', '12', '4', '2']\n",
      "['8', '74', '06/02/1987', 'BERNARDI ARMANDA BORTOLOTTI', 'no', '38057', 'Pergine Valsugana', 'Via Montesei n. 2', '141055/96', '0461', '530125', 'no', 'no', 'AGRITUR.BORTOLOTTI@PEC.CGN.IT', 'agritur.bortolotti@tin.it', '482', '', '', 'Pergine Valsugana', 'Via Montesei n. 4', 'AGRITUR BORTOLOTTI', '2', '2', '8', '2', '6', '14', '6', '8', '22', 'si', 'si', 'si', 'no', 'si', '25', '0', '25', '2', 'no', '0', '0', 'si', '', 'no', '31', '26', '11', '3']\n",
      "['9', '94', '06/05/1987', 'ZAMBONI PIA', 'no', '38040', 'Bosentino', 'Maso Fosina n. 5', '129820/96', '0461', '848468', 'no', 'no', 'pia.zamboni@pec.agritel.it', '', '700', '', '', 'Calceranica al Lago', 'Maso Marini', 'MASO MARINI', '3', '5', '8', '3', '0', '0', '0', '5', '8', 'si', 'no', 'no', 'no', 'no', '0', '0', '0', '0', 'no', '0', '0', 'no', '', 'no', '27', '39', '15', '4']\n"
     ]
    }
   ],
   "source": [
    "# scrivi qui\n",
    "\n"
   ]
  },
  {
   "cell_type": "markdown",
   "metadata": {
    "collapsed": true
   },
   "source": [
    "## 3. Geocoding con webapi\n",
    "\n",
    "### 3.1 MapQuest / OpenStreetMap Nominatim\n",
    "\n",
    "Possiamo leggere i valori dal CSV, ma purtroppo notiamo che mancano le coordinate geografiche. Per ottenerle, possiamo usare i servizi di MapQuest, che ci offre gratutitamente un cosiddetto servizio di _geocoding_ : Dati degli indirizzi, ci ritornerà le loro coordinate geografiche usando OpenStreetMap (detto OSM per gli amici) come riferimento.\n",
    "\n",
    "Per capire cosa potremmo avere indietro, cerchiamo su OpenStreetMap un agritur, tipo il Montibeller di Roncegno:\n",
    "\n",
    "* Sito di OpenStreetMap, stringa di ricerca `Montibeller, Roncegno`:\n",
    "\n",
    "    http://www.openstreetmap.org/search?query=Montibeller%2C%20Roncegno#map=19/46.04691/11.41157\n",
    "\n",
    "* Sito di OpenStreetMap, stringa di ricerca `Via Prose n. 1, Roncegno`:\n",
    "\n",
    "    http://www.openstreetmap.org/search?query=via%20Prose%20n.%201%2C%20Roncegno#map=18/46.04698/11.41101\n",
    "\n",
    "**✪ DOMANDA 3.1.1**: Le due stringhe trovano risultati diversi. Come mai? Manca forse qualche dato ad OpenStreetMap?\n",
    "\n"
   ]
  },
  {
   "cell_type": "raw",
   "id": "7008bd93",
   "metadata": {
    "format": "text/html"
   },
   "source": [
    "<a  class=\"jupman-sol jupman-sol-toggler\" \n",
    " onclick=\"jupman.toggleSolution(this);\" \n",
    " data-jupman-show=\"Mostra risposta\" data-jupman-hide=\"Nascondi\">Mostra risposta</a><div class=\"jupman-sol jupman-sol-question\" style=\"display:none\">  "
   ]
  },
  {
   "cell_type": "markdown",
   "metadata": {},
   "source": [
    "**RISPOSTA**: Mancano i numeri civici, ma c'è il nome esatto dell'agritur. Quindi la query con il numero civico viene semplicemente centrata sulla strada ma non sull'agritur"
   ]
  },
  {
   "cell_type": "raw",
   "id": "c02de558",
   "metadata": {
    "format": "text/html"
   },
   "source": [
    "</div>"
   ]
  },
  {
   "cell_type": "markdown",
   "metadata": {},
   "source": [
    "### 3.2 Webapi JSON\n",
    "\n",
    "Oggigiorno, tantissimi portali offrono la possibilità di leggere e scrivere informazioni programmaticamente tramite cosiddette 'API REST'. `API` significa `Application Programming Interface`, ed è una serie di specifiche su come accedere programmaticamente ai dati di un sito. Di solito, le API disponibili vengono descritte nella sezione sviluppatori. \n",
    "\n",
    "**✪ DOMANDA 3.2.2**: prova ad andare sul sito di [dati.gov.it](https://www.dati.gov.it/) e cerca dove sono le API. Provane qualcuna dal browser cercando di capire cosa viene ritornato.\n"
   ]
  },
  {
   "cell_type": "raw",
   "id": "6a6c27ee",
   "metadata": {
    "format": "text/html"
   },
   "source": [
    "<a  class=\"jupman-sol jupman-sol-toggler\" \n",
    " onclick=\"jupman.toggleSolution(this);\" \n",
    " data-jupman-show=\"Mostra risposta\" data-jupman-hide=\"Nascondi\">Mostra risposta</a><div class=\"jupman-sol jupman-sol-question\" style=\"display:none\">  "
   ]
  },
  {
   "cell_type": "markdown",
   "metadata": {},
   "source": [
    "**RISPOSTA**:  Ci sono API alla [sezione Sviluppatori](https://www.dati.gov.it/content/sviluppatori) tipo questa che ritorna tutti i dataset (chiamati anche _packages_ in CKAN) : \n",
    "\n",
    "http://www.dati.gov.it/api/3/action/package_list"
   ]
  },
  {
   "cell_type": "raw",
   "id": "13c1a900",
   "metadata": {
    "format": "text/html"
   },
   "source": [
    "</div>"
   ]
  },
  {
   "cell_type": "markdown",
   "metadata": {},
   "source": [
    "\n",
    "**Webapi geografiche**\n",
    "\n",
    "Abbiamo visto una bella rappresentazione grafica del punto sulla mappa. Però ci piacerebbe ottenere quell'informazione in Python. Come fare? [openstreetmap.org](http://openstreetmap.org) offre delle API che potremmo usare, ma teniamo presente che OpenStreetMap è un servizio gratuito gestito principalmente su base volontaristica con risorse limitate.\n",
    "\n",
    "In alternativa, conviene rivolgersi a servizi offerti da aziende commerciali che possono sostenere un traffico più elevato. Di interessante c'è MapQuest, che oltre a mappe commerciali,  offre anche lo stesso identico servizio di OpenStreetMap (può farlo perchè le condizioni di licenza di OSM, molto libere, lo permettono). L'unico vincolo è che per usare il servizio bisogna prima registrare una cosiddetta 'Api key' da passare al servizio ogni volta che lo usiamo. Questo consente a MapQuest di monitorare eventuali abusi del servizio (per più info, vedere le [condizioni di licenza di MapQuest](https://developer.mapquest.com/documentation/open/). Quando ci connettiamo a indirizzi che iniziano con `open.mapquestapi`, vuol dire che stiamo usando mappe di OpenStreetMap.\n",
    "\n"
   ]
  },
  {
   "cell_type": "markdown",
   "metadata": {},
   "source": [
    "Specifichiamo un paio di parametri importanti delle nostre chiamate web:"
   ]
  },
  {
   "cell_type": "code",
   "execution_count": 2,
   "metadata": {},
   "outputs": [],
   "source": [
    "api_key = \"Er38WkJVmeOl5AvFIAzM6lBBq4uEdgvG\"  # Usate questa key SOLO per fare questi esercizi!\n",
    "url_base = \"http://open.mapquestapi.com/nominatim/v1/search\"\n"
   ]
  },
  {
   "cell_type": "markdown",
   "metadata": {},
   "source": [
    "Provate a fare copia e incolla nel vostro broswer dell'indirizzo seguente:"
   ]
  },
  {
   "cell_type": "code",
   "execution_count": 3,
   "metadata": {},
   "outputs": [
    {
     "name": "stdout",
     "output_type": "stream",
     "text": [
      "http://open.mapquestapi.com/nominatim/v1/search\n"
     ]
    }
   ],
   "source": [
    "print(url_base)"
   ]
  },
  {
   "cell_type": "markdown",
   "metadata": {},
   "source": [
    "MapQuest dovrebbe rispondervi così:\n",
    "\n",
    "```\n",
    "The AppKey submitted with this request is invalid.\n",
    "```\n",
    "\n",
    "Si è offeso perchè non gli abbiamo passato una api key. \n",
    "\n",
    "<div class=\"alert alert-warning\">\n",
    "\n",
    "**IMPORTANTE:** Per oggi, la api key ve la diamo noi, ma se usate il servizio per i vostri progetti, [registratevene una ](https://developer.mapquest.com/plan_purchase/steps/business_edition/business_edition_free/register)!!!!**\n",
    "\n",
    "</div>\n",
    "\n",
    "Proviamo ad aggiungere la api key, mettendo il tutto nel browser dovremmo vedere dei bottoni (notate che il primo parametro è sempre preceduto da il punto di domanda `?`) :"
   ]
  },
  {
   "cell_type": "code",
   "execution_count": 4,
   "metadata": {},
   "outputs": [
    {
     "name": "stdout",
     "output_type": "stream",
     "text": [
      "http://open.mapquestapi.com/nominatim/v1/search?key=Er38WkJVmeOl5AvFIAzM6lBBq4uEdgvG\n"
     ]
    }
   ],
   "source": [
    "url_with_key = url_base + \"?key=\" + api_key\n",
    "print(url_with_key)"
   ]
  },
  {
   "cell_type": "markdown",
   "metadata": {},
   "source": [
    "Se siamo riusciti a vedere dei bottoni, vuol dire che abbiamo superato il primo ostacolo. Ma Python di bottoni non ci capisce un tubo! Dobbiamo fornire a pyhton un formato più 'digeribile':"
   ]
  },
  {
   "cell_type": "code",
   "execution_count": 5,
   "metadata": {},
   "outputs": [],
   "source": [
    "url_json = url_base + \"?key=\" + api_key + \"&format=json\""
   ]
  },
  {
   "cell_type": "markdown",
   "metadata": {},
   "source": [
    "Se proviamo nel browser questa nuova url, vedremo che è sparito tutto - al più vedrai due parentesi quadre vuote `[]`. Un JSON vuoto non è per niente interessante, ma almeno sono spariti i bottoni:"
   ]
  },
  {
   "cell_type": "code",
   "execution_count": 6,
   "metadata": {},
   "outputs": [
    {
     "name": "stdout",
     "output_type": "stream",
     "text": [
      "http://open.mapquestapi.com/nominatim/v1/search?key=Er38WkJVmeOl5AvFIAzM6lBBq4uEdgvG&format=json\n"
     ]
    }
   ],
   "source": [
    "print(url_json)"
   ]
  },
  {
   "cell_type": "markdown",
   "metadata": {},
   "source": [
    "Siamo finalmente pronti per eseguire la nostra prima query via web api ! Nella nostra query, scriveremo in linguaggio naturale `Montibeller,Roncegno`:"
   ]
  },
  {
   "cell_type": "code",
   "execution_count": 7,
   "metadata": {},
   "outputs": [
    {
     "name": "stdout",
     "output_type": "stream",
     "text": [
      "http://open.mapquestapi.com/nominatim/v1/search?key=Er38WkJVmeOl5AvFIAzM6lBBq4uEdgvG&format=json&q=Montibeller,Roncegno\n"
     ]
    }
   ],
   "source": [
    "\n",
    "query = \"Montibeller,Roncegno\"\n",
    "\n",
    "url_complete = url_json = url_base + \"?key=\" + api_key + \"&format=json\"  + \"&q=\" + query \n",
    "\n",
    "print(url_complete)"
   ]
  },
  {
   "cell_type": "markdown",
   "metadata": {},
   "source": [
    "Adesso dovremmo vedere un risultato tipo questo:\n",
    "    \n",
    "```\n",
    "[{\"place_id\":\"6560673\",\"licence\":\"Data \\u00a9 OpenStreetMap contributors, ODbL 1.0. http:\\/\\/www.openstreetmap.org\\/copyright\",\"osm_type\":\"node\",\"osm_id\":\"673194565\",\"boundingbox\":[\"46.0469105\",\"46.0469105\",\"11.4115734\",\"11.4115734\"],\"lat\":\"46.0469105\",\"lon\":\"11.4115734\",\"display_name\":\"Montibeller, Via Prose, Alps, Salembis, Roncegno Terme, Comunit\\u00e0 Valsugana e Tesino, Provincia autonoma di Trento, Trentino-Alto Adige - S\\u00fcdtirol, 38051, Italy\",\"class\":\"tourism\",\"type\":\"hotel\",\"importance\":0.211,\"icon\":\"http:\\/\\/ip-10-98-183-183.mq-us-east-1.ec2.aolcloud.net:8000\\/nominatim\\/v1\\/images\\/mapicons\\/accommodation_hotel2.p.20.png\"}]\n",
    "```"
   ]
  },
  {
   "cell_type": "markdown",
   "metadata": {},
   "source": [
    "prova a copia e incollare il risultato in un editor che supporta i JSON, salva il file come `.json` e prova a dire all'editor di riformattare il documento. Se tutto va bene, dovrebbe venire fuori un bell'albero ordinato così: \n",
    "\n",
    "```json\n",
    "[\n",
    "    {\n",
    "        \"place_id\": \"6560673\",\n",
    "        \"licence\": \"Data \\u00a9 OpenStreetMap contributors, ODbL 1.0. http:\\/\\/www.openstreetmap.org\\/copyright\",\n",
    "        \"osm_type\": \"node\",\n",
    "        \"osm_id\": \"673194565\",\n",
    "        \"boundingbox\": [\n",
    "            \"46.0469105\",\n",
    "            \"46.0469105\",\n",
    "            \"11.4115734\",\n",
    "            \"11.4115734\"\n",
    "        ],\n",
    "        \"lat\": \"46.0469105\",\n",
    "        \"lon\": \"11.4115734\",\n",
    "        \"display_name\": \"Montibeller, Via Prose, Alps, Salembis, Roncegno Terme, Comunit\\u00e0 Valsugana e Tesino, TN, Trentino-Alto Adige - S\\u00fcdtirol, 38051, Italy\",\n",
    "        \"class\": \"tourism\",\n",
    "        \"type\": \"hotel\",\n",
    "        \"importance\": 0.211,\n",
    "        \"icon\": \"http:\\/\\/ip-10-98-183-183.mq-us-east-1.ec2.aolcloud.net:8000\\/nominatim\\/v1\\/images\\/mapicons\\/accommodation_hotel2.p.20.png\"\n",
    "    }\n",
    "]\n",
    "```\n"
   ]
  },
  {
   "cell_type": "markdown",
   "metadata": {},
   "source": [
    "Mmm.. non sembra tanto diversa da una combinazione di liste e dizionari Python... Forse possiamo riuscire ad estrarre quel `lat` e `lon` senza neanche troppa fatica ..."
   ]
  },
  {
   "cell_type": "markdown",
   "metadata": {},
   "source": [
    "### 3.3. Requests in Python"
   ]
  },
  {
   "cell_type": "markdown",
   "metadata": {},
   "source": [
    "Per chiamare le webapi da Python, installiamo la libreria `requests`:\n",
    "\n",
    "- Anaconda: `conda install requests`\n",
    "- Linux/Mac : `python3 -m pip install --user requests`"
   ]
  },
  {
   "cell_type": "code",
   "execution_count": 8,
   "metadata": {},
   "outputs": [],
   "source": [
    "# importiamo il modulo per la libreria:\n",
    "import requests\n",
    "\n",
    "query = \"Montibeller,Roncegno\"\n",
    "\n",
    "url_complete = url_json = url_base + \"?key=\" + api_key + \"&format=json\"  + \"&q=\" + query \n",
    "\n",
    "\n",
    "# effettuiamo una chiamata HTTP GET:\n",
    "\n",
    "r = requests.get(url_complete)\n"
   ]
  },
  {
   "cell_type": "markdown",
   "metadata": {},
   "source": [
    "Stampando direttamente `r`, vedremo qual'è stato il codice di risposta. Se è `200`, vuol dire che è andato tutto bene. er altri possibili codici di risposta, puoi [guardare Wikipedia](https://it.wikipedia.org/wiki/Codici_di_stato_HTTP)"
   ]
  },
  {
   "cell_type": "code",
   "execution_count": 9,
   "metadata": {},
   "outputs": [
    {
     "name": "stdout",
     "output_type": "stream",
     "text": [
      "<Response [200]>\n"
     ]
    }
   ],
   "source": [
    "print(r)"
   ]
  },
  {
   "cell_type": "markdown",
   "metadata": {},
   "source": [
    "Possiamo accedere al contenuto testuale della risposta con `r.text`:"
   ]
  },
  {
   "cell_type": "code",
   "execution_count": 10,
   "metadata": {},
   "outputs": [
    {
     "data": {
      "text/plain": [
       "'[{\"place_id\":\"6471026\",\"licence\":\"Data © OpenStreetMap contributors, ODbL 1.0. https:\\\\/\\\\/www.openstreetmap.org\\\\/copyright\",\"osm_type\":\"node\",\"osm_id\":\"673194565\",\"boundingbox\":[\"46.0468605\",\"46.0469605\",\"11.4115234\",\"11.4116234\"],\"lat\":\"46.0469105\",\"lon\":\"11.4115734\",\"display_name\":\"Montibeller, Via Prose, Maso Vazzena, Larganza, Roncegno Terme, Comunità Valsugana e Tesino, TN, TAA, 38051, Italia\",\"class\":\"tourism\",\"type\":\"hotel\",\"importance\":0.211,\"icon\":\"http:\\\\/\\\\/ip-10-98-165-99.mq-us-east-1.ec2.aolcloud.net\\\\/nominatim\\\\/images\\\\/mapicons\\\\/accommodation_hotel2.p.20.png\"}]'"
      ]
     },
     "execution_count": 10,
     "metadata": {},
     "output_type": "execute_result"
    }
   ],
   "source": [
    "r.text"
   ]
  },
  {
   "cell_type": "code",
   "execution_count": 11,
   "metadata": {},
   "outputs": [
    {
     "data": {
      "text/plain": [
       "str"
      ]
     },
     "execution_count": 11,
     "metadata": {},
     "output_type": "execute_result"
    }
   ],
   "source": [
    "type(r.text)"
   ]
  },
  {
   "cell_type": "markdown",
   "metadata": {},
   "source": [
    "Gli headers `content-type` ci dicono il tipo di formato e l'encoding dichiarato dal server (NOTA: purtroppo l'encoding dichiarato dal server non sempre corrisponde a quello effettivo !):"
   ]
  },
  {
   "cell_type": "code",
   "execution_count": 12,
   "metadata": {},
   "outputs": [
    {
     "data": {
      "text/plain": [
       "'application/json; charset=UTF-8'"
      ]
     },
     "execution_count": 12,
     "metadata": {},
     "output_type": "execute_result"
    }
   ],
   "source": [
    "r.headers['content-type']"
   ]
  },
  {
   "cell_type": "markdown",
   "metadata": {},
   "source": [
    "Possiamo anche ottenere l'encoding direttamente:"
   ]
  },
  {
   "cell_type": "code",
   "execution_count": 13,
   "metadata": {},
   "outputs": [
    {
     "data": {
      "text/plain": [
       "'UTF-8'"
      ]
     },
     "execution_count": 13,
     "metadata": {},
     "output_type": "execute_result"
    }
   ],
   "source": [
    "r.encoding"
   ]
  },
  {
   "cell_type": "markdown",
   "metadata": {},
   "source": [
    "Dalle ispezioni fatte sinora, abbiamo capito che abbiamo ottenuto una stringa in formato json. `requests` mette a disposizione un comodo metodo che interpreta la stringa come json, e ritorna delle strutture dati Python per accedere facilmente ai campi interni del json. Quali strutture? Come avrete notato, il formato del json è molto simile a strutture dati che già abbiamo in python, come stringhe, numeri interi, float, liste e dizionari. L'unica differenza sono i campi  `null` in json che diventano `None` in Python. Quindi la conversione a Python è quasi sempre facile e indolore: "
   ]
  },
  {
   "cell_type": "code",
   "execution_count": 14,
   "metadata": {},
   "outputs": [
    {
     "data": {
      "text/plain": [
       "[{'place_id': '6471026',\n",
       "  'licence': 'Data © OpenStreetMap contributors, ODbL 1.0. https://www.openstreetmap.org/copyright',\n",
       "  'osm_type': 'node',\n",
       "  'osm_id': '673194565',\n",
       "  'boundingbox': ['46.0468605', '46.0469605', '11.4115234', '11.4116234'],\n",
       "  'lat': '46.0469105',\n",
       "  'lon': '11.4115734',\n",
       "  'display_name': 'Montibeller, Via Prose, Maso Vazzena, Larganza, Roncegno Terme, Comunità Valsugana e Tesino, TN, TAA, 38051, Italia',\n",
       "  'class': 'tourism',\n",
       "  'type': 'hotel',\n",
       "  'importance': 0.211,\n",
       "  'icon': 'http://ip-10-98-165-99.mq-us-east-1.ec2.aolcloud.net/nominatim/images/mapicons/accommodation_hotel2.p.20.png'}]"
      ]
     },
     "execution_count": 14,
     "metadata": {},
     "output_type": "execute_result"
    }
   ],
   "source": [
    "r.json()"
   ]
  },
  {
   "cell_type": "markdown",
   "metadata": {},
   "source": [
    "Notiamo che abbiamo ricevuto una lista di dizionari: "
   ]
  },
  {
   "cell_type": "code",
   "execution_count": 15,
   "metadata": {},
   "outputs": [
    {
     "data": {
      "text/plain": [
       "list"
      ]
     },
     "execution_count": 15,
     "metadata": {},
     "output_type": "execute_result"
    }
   ],
   "source": [
    "type(r.json())"
   ]
  },
  {
   "cell_type": "markdown",
   "metadata": {},
   "source": [
    "Prendiamo il primo dizionario:"
   ]
  },
  {
   "cell_type": "code",
   "execution_count": 16,
   "metadata": {},
   "outputs": [
    {
     "data": {
      "text/plain": [
       "{'place_id': '6471026',\n",
       " 'licence': 'Data © OpenStreetMap contributors, ODbL 1.0. https://www.openstreetmap.org/copyright',\n",
       " 'osm_type': 'node',\n",
       " 'osm_id': '673194565',\n",
       " 'boundingbox': ['46.0468605', '46.0469605', '11.4115234', '11.4116234'],\n",
       " 'lat': '46.0469105',\n",
       " 'lon': '11.4115734',\n",
       " 'display_name': 'Montibeller, Via Prose, Maso Vazzena, Larganza, Roncegno Terme, Comunità Valsugana e Tesino, TN, TAA, 38051, Italia',\n",
       " 'class': 'tourism',\n",
       " 'type': 'hotel',\n",
       " 'importance': 0.211,\n",
       " 'icon': 'http://ip-10-98-165-99.mq-us-east-1.ec2.aolcloud.net/nominatim/images/mapicons/accommodation_hotel2.p.20.png'}"
      ]
     },
     "execution_count": 16,
     "metadata": {},
     "output_type": "execute_result"
    }
   ],
   "source": [
    "r.json()[0]"
   ]
  },
  {
   "cell_type": "code",
   "execution_count": 17,
   "metadata": {},
   "outputs": [
    {
     "data": {
      "text/plain": [
       "dict"
      ]
     },
     "execution_count": 17,
     "metadata": {},
     "output_type": "execute_result"
    }
   ],
   "source": [
    "type(r.json()[0])"
   ]
  },
  {
   "cell_type": "markdown",
   "metadata": {},
   "source": [
    "Prendiamo il campo `lat` dal primo dizionario:"
   ]
  },
  {
   "cell_type": "code",
   "execution_count": 18,
   "metadata": {},
   "outputs": [
    {
     "data": {
      "text/plain": [
       "'46.0469105'"
      ]
     },
     "execution_count": 18,
     "metadata": {},
     "output_type": "execute_result"
    }
   ],
   "source": [
    "r.json()[0]['lat']"
   ]
  },
  {
   "cell_type": "code",
   "execution_count": 19,
   "metadata": {},
   "outputs": [
    {
     "data": {
      "text/plain": [
       "'11.4115734'"
      ]
     },
     "execution_count": 19,
     "metadata": {},
     "output_type": "execute_result"
    }
   ],
   "source": [
    "r.json()[0]['lon']"
   ]
  },
  {
   "cell_type": "markdown",
   "metadata": {},
   "source": [
    "**✪ DOMANDA 3.3.1**: Come è stato convertito in Python il campo `lat`. Numero o qualcos'altro? In cosa potremmo convertirlo?: "
   ]
  },
  {
   "cell_type": "raw",
   "id": "4eefc124",
   "metadata": {
    "format": "text/html"
   },
   "source": [
    "<a  class=\"jupman-sol jupman-sol-toggler\" \n",
    " onclick=\"jupman.toggleSolution(this);\" \n",
    " data-jupman-show=\"Mostra soluzione\" data-jupman-hide=\"Nascondi\">Mostra soluzione</a><div class=\"jupman-sol jupman-sol-code\" style=\"display:none\">  "
   ]
  },
  {
   "cell_type": "code",
   "execution_count": 20,
   "metadata": {},
   "outputs": [
    {
     "name": "stdout",
     "output_type": "stream",
     "text": [
      "<class 'str'>\n",
      "11.4115734\n"
     ]
    }
   ],
   "source": [
    "# scrivi qui\n",
    "# è stato convertito in stringa, quindi si potrebbe pensare di convertirlo in `float`\n",
    "\n",
    "print(type('11.4115734'))\n",
    "print(float('11.4115734'))"
   ]
  },
  {
   "cell_type": "raw",
   "id": "a1f93445",
   "metadata": {
    "format": "text/html"
   },
   "source": [
    "</div>"
   ]
  },
  {
   "cell_type": "code",
   "execution_count": 20,
   "metadata": {},
   "outputs": [
    {
     "name": "stdout",
     "output_type": "stream",
     "text": [
      "<class 'str'>\n",
      "11.4115734\n"
     ]
    }
   ],
   "source": [
    "# scrivi qui\n",
    "\n"
   ]
  },
  {
   "cell_type": "markdown",
   "metadata": {},
   "source": [
    "**✪ ESERCIZIO 3.3.2**: prova a chiamare `requests.get` passandogli una URL sbagliata, come `boh` o parzialmente giusta come `http://open.mapquestapi.com/BLA`. Cosa ottieni di ritorno per i vari campi di `r`? Il [codice HTTP di ritorno](https://it.wikipedia.org/wiki/Codici_di_stato_HTTP) (successo / errore) ti sembra consistente con il risultato che ottieni? "
   ]
  },
  {
   "cell_type": "raw",
   "id": "c39755d1",
   "metadata": {
    "format": "text/html"
   },
   "source": [
    "<a  class=\"jupman-sol jupman-sol-toggler\" \n",
    " onclick=\"jupman.toggleSolution(this);\" \n",
    " data-jupman-show=\"Mostra soluzione\" data-jupman-hide=\"Nascondi\">Mostra soluzione</a><div class=\"jupman-sol jupman-sol-code\" style=\"display:none\">  "
   ]
  },
  {
   "cell_type": "code",
   "execution_count": 21,
   "metadata": {},
   "outputs": [
    {
     "data": {
      "text/plain": [
       "<Response [200]>"
      ]
     },
     "execution_count": 21,
     "metadata": {},
     "output_type": "execute_result"
    }
   ],
   "source": [
    "# scrivi qui\n",
    "\n",
    "import requests\n",
    "requests.get('http://open.mapquestapi.com/BLA')"
   ]
  },
  {
   "cell_type": "raw",
   "id": "290421e7",
   "metadata": {
    "format": "text/html"
   },
   "source": [
    "</div>"
   ]
  },
  {
   "cell_type": "code",
   "execution_count": 21,
   "metadata": {},
   "outputs": [
    {
     "data": {
      "text/plain": [
       "<Response [200]>"
      ]
     },
     "execution_count": 21,
     "metadata": {},
     "output_type": "execute_result"
    }
   ],
   "source": [
    "# scrivi qui\n",
    "\n"
   ]
  },
  {
   "cell_type": "markdown",
   "metadata": {},
   "source": [
    "Notiamo che pur richiedendo una pagina inesistente, il sito di mapquest (a Marzo 2018) ci ritorna un codice http 200 che indicherebbe 'successo'. Questo comportamento può essere molto pericoloso, perchè può indurre programmi che ricevono la pagina a ritenere di aver ottenuto effettivamente quello che chiedevano, quando invece si dovrebbe essere verificato un errore. A peggiorare le cose, se avete TIM a volte ci si mettono di mezzo pure loro: a Ottobre 2016, se voi richiedete un indirizzo inesistente (http://bla), la TIM vi rimanda ad una pagina di cortesia che dice `Spiacenti, l'indirizzo digitato nonesiste`, ma mandava indietro al browser un codice di successo dal valore 200 !"
   ]
  },
  {
   "cell_type": "markdown",
   "metadata": {},
   "source": [
    "### 3.4 Funzioni geocode per requests\n",
    "\n",
    "Proviamo a scriverci delle funzioni comode per effettuare delle chiamate semplicemente passando un indirizzo "
   ]
  },
  {
   "cell_type": "code",
   "execution_count": 22,
   "metadata": {},
   "outputs": [],
   "source": [
    "def geocode_generic(address):\n",
    "    # 'payload' è una variabile che ci definiamo noi, per metterci più comodamente i parametri \n",
    "    # dentro un dizionario\n",
    "    payload = {'key': api_key,  # Questa è la chiave lunga tipo Er38Wk... che abbiamo definito più sopra\n",
    "               'format': 'json', \n",
    "               'q' : address}\n",
    "    r = requests.get(url_base, params=payload)  # qua passiamo il dizionario 'payload' alla libreria requests\n",
    "    print(r.url) # stampa l'url che requests ha usato \n",
    "    return r.json()\n"
   ]
  },
  {
   "cell_type": "markdown",
   "metadata": {},
   "source": [
    "Facciamo una prova:"
   ]
  },
  {
   "cell_type": "code",
   "execution_count": 23,
   "metadata": {},
   "outputs": [
    {
     "name": "stdout",
     "output_type": "stream",
     "text": [
      "http://open.mapquestapi.com/nominatim/v1/search?key=Er38WkJVmeOl5AvFIAzM6lBBq4uEdgvG&format=json&q=Montibeller%2C+Roncegno\n"
     ]
    },
    {
     "data": {
      "text/plain": [
       "[{'place_id': '6471026',\n",
       "  'licence': 'Data © OpenStreetMap contributors, ODbL 1.0. https://www.openstreetmap.org/copyright',\n",
       "  'osm_type': 'node',\n",
       "  'osm_id': '673194565',\n",
       "  'boundingbox': ['46.0468605', '46.0469605', '11.4115234', '11.4116234'],\n",
       "  'lat': '46.0469105',\n",
       "  'lon': '11.4115734',\n",
       "  'display_name': 'Montibeller, Via Prose, Maso Vazzena, Larganza, Roncegno Terme, Comunità Valsugana e Tesino, TN, TAA, 38051, Italia',\n",
       "  'class': 'tourism',\n",
       "  'type': 'hotel',\n",
       "  'importance': 0.211,\n",
       "  'icon': 'http://ip-10-98-178-30.mq-us-east-1.ec2.aolcloud.net/nominatim/images/mapicons/accommodation_hotel2.p.20.png'}]"
      ]
     },
     "execution_count": 23,
     "metadata": {},
     "output_type": "execute_result"
    }
   ],
   "source": [
    "geocode_generic(\"Montibeller, Roncegno\")"
   ]
  },
  {
   "cell_type": "markdown",
   "metadata": {},
   "source": [
    "A volte essere precisi non aiuta: "
   ]
  },
  {
   "cell_type": "code",
   "execution_count": 24,
   "metadata": {},
   "outputs": [
    {
     "name": "stdout",
     "output_type": "stream",
     "text": [
      "http://open.mapquestapi.com/nominatim/v1/search?key=Er38WkJVmeOl5AvFIAzM6lBBq4uEdgvG&format=json&q=Montibeller%2C+Via+Prose+n.+1%2C+Roncegno\n"
     ]
    }
   ],
   "source": [
    "json = geocode_generic(\"Montibeller, Via Prose n. 1, Roncegno\")"
   ]
  },
  {
   "cell_type": "code",
   "execution_count": 25,
   "metadata": {},
   "outputs": [
    {
     "name": "stdout",
     "output_type": "stream",
     "text": [
      "[]\n"
     ]
    }
   ],
   "source": [
    "print(json)"
   ]
  },
  {
   "cell_type": "markdown",
   "metadata": {},
   "source": [
    "Per verificare se abbiamo trovato o meno qualcosa, possiamo controllare che la lunghezza della lista ritornata sia zero con `len`: "
   ]
  },
  {
   "cell_type": "code",
   "execution_count": 26,
   "metadata": {},
   "outputs": [
    {
     "name": "stdout",
     "output_type": "stream",
     "text": [
      "non ho trovato niente!\n"
     ]
    }
   ],
   "source": [
    "if len(json) == 0:\n",
    "    print(\"non ho trovato niente!\")\n",
    "else: \n",
    "    print(\"ho trovato !\")"
   ]
  },
  {
   "cell_type": "code",
   "execution_count": 27,
   "metadata": {},
   "outputs": [
    {
     "name": "stdout",
     "output_type": "stream",
     "text": [
      "http://open.mapquestapi.com/nominatim/v1/search?key=Er38WkJVmeOl5AvFIAzM6lBBq4uEdgvG&format=json&q=Via+Prose+n.+1%2C+Roncegno\n"
     ]
    },
    {
     "data": {
      "text/plain": [
       "[{'place_id': '106260827',\n",
       "  'licence': 'Data © OpenStreetMap contributors, ODbL 1.0. https://www.openstreetmap.org/copyright',\n",
       "  'osm_type': 'way',\n",
       "  'osm_id': '149123476',\n",
       "  'boundingbox': ['46.0464048', '46.047558', '11.4100616', '11.4119591'],\n",
       "  'lat': '46.0469731',\n",
       "  'lon': '11.4109589',\n",
       "  'display_name': 'Via Prose, Maso Vazzena, Larganza, Roncegno Terme, Comunità Valsugana e Tesino, TN, TAA, 38051, Italia',\n",
       "  'class': 'highway',\n",
       "  'type': 'residential',\n",
       "  'importance': 0.525}]"
      ]
     },
     "execution_count": 27,
     "metadata": {},
     "output_type": "execute_result"
    }
   ],
   "source": [
    "geocode_generic(\"Via Prose n. 1, Roncegno\")"
   ]
  },
  {
   "cell_type": "markdown",
   "metadata": {},
   "source": [
    "Con query generiche è possibile che vengano ritornati parecchi risultati:\n",
    "\n",
    "**✪ DOMANDA 3.4.1**: Qual'è il risultato più rilevante secondo Nominatim (ricordiamo che Nominatim è il search engine di OpenStreetMap)? E quanto è rilevante ? Qual'è la rilevanza minimima? Qual'è la massima ? "
   ]
  },
  {
   "cell_type": "raw",
   "id": "7e410ce3",
   "metadata": {
    "format": "text/html"
   },
   "source": [
    "<a  class=\"jupman-sol jupman-sol-toggler\" \n",
    " onclick=\"jupman.toggleSolution(this);\" \n",
    " data-jupman-show=\"Mostra risposta\" data-jupman-hide=\"Nascondi\">Mostra risposta</a><div class=\"jupman-sol jupman-sol-question\" style=\"display:none\">  "
   ]
  },
  {
   "cell_type": "markdown",
   "metadata": {},
   "source": [
    "**RISPOSTA**: Il primo, i risultati sono ordinati secondo il campo `importance`, che può andare da 0 a 1.0. Molte API hanno ordinamenti di questo tipo (es: rilevanza risultati ricerca in Google)"
   ]
  },
  {
   "cell_type": "raw",
   "id": "a8b83bed",
   "metadata": {
    "format": "text/html"
   },
   "source": [
    "</div>"
   ]
  },
  {
   "cell_type": "code",
   "execution_count": 28,
   "metadata": {},
   "outputs": [
    {
     "name": "stdout",
     "output_type": "stream",
     "text": [
      "http://open.mapquestapi.com/nominatim/v1/search?key=Er38WkJVmeOl5AvFIAzM6lBBq4uEdgvG&format=json&q=Trento\n"
     ]
    },
    {
     "data": {
      "text/plain": [
       "[{'place_id': '186698302',\n",
       "  'licence': 'Data © OpenStreetMap contributors, ODbL 1.0. https://www.openstreetmap.org/copyright',\n",
       "  'osm_type': 'relation',\n",
       "  'osm_id': '46663',\n",
       "  'boundingbox': ['45.9775306', '46.1530112', '11.0224735', '11.1948226'],\n",
       "  'lat': '46.0664228',\n",
       "  'lon': '11.1257601',\n",
       "  'display_name': \"Trento, Territorio Val d'Adige, TN, TAA, Italia\",\n",
       "  'class': 'place',\n",
       "  'type': 'city',\n",
       "  'importance': 0.26364591679333,\n",
       "  'icon': 'http://ip-10-98-173-122.mq-us-east-1.ec2.aolcloud.net/nominatim/images/mapicons/poi_place_city.p.20.png'},\n",
       " {'place_id': '187948156',\n",
       "  'licence': 'Data © OpenStreetMap contributors, ODbL 1.0. https://www.openstreetmap.org/copyright',\n",
       "  'osm_type': 'relation',\n",
       "  'osm_id': '3870471',\n",
       "  'boundingbox': ['7.9378151', '8.292381', '126.00048', '126.355208'],\n",
       "  'lat': '8.114415',\n",
       "  'lon': '126.158888603496',\n",
       "  'display_name': 'Trento, Agusan del Sur, Caraga, 8505, Philippines',\n",
       "  'class': 'boundary',\n",
       "  'type': 'administrative',\n",
       "  'importance': 0.2225,\n",
       "  'icon': 'http://ip-10-98-173-122.mq-us-east-1.ec2.aolcloud.net/nominatim/images/mapicons/poi_boundary_administrative.p.20.png'},\n",
       " {'place_id': '652743',\n",
       "  'licence': 'Data © OpenStreetMap contributors, ODbL 1.0. https://www.openstreetmap.org/copyright',\n",
       "  'osm_type': 'node',\n",
       "  'osm_id': '248804218',\n",
       "  'boundingbox': ['46.0721752', '46.0722752', '11.1189539', '11.1190539'],\n",
       "  'lat': '46.0722252',\n",
       "  'lon': '11.1190039',\n",
       "  'display_name': \"Trento, Piazzetta Filippo Foti e Edoardo Martini, Centro storico Trento, Trento, Territorio Val d'Adige, TN, TAA, 38122, Italia\",\n",
       "  'class': 'railway',\n",
       "  'type': 'stop',\n",
       "  'importance': 0.18947959270135},\n",
       " {'place_id': '43377314',\n",
       "  'licence': 'Data © OpenStreetMap contributors, ODbL 1.0. https://www.openstreetmap.org/copyright',\n",
       "  'osm_type': 'node',\n",
       "  'osm_id': '3134911289',\n",
       "  'boundingbox': ['44.9456976', '44.9856976', '11.4473224', '11.4873224'],\n",
       "  'lat': '44.9656976',\n",
       "  'lon': '11.4673224',\n",
       "  'display_name': 'Trento, RO, VEN, Italia',\n",
       "  'class': 'place',\n",
       "  'type': 'hamlet',\n",
       "  'importance': 0.17875,\n",
       "  'icon': 'http://ip-10-98-173-122.mq-us-east-1.ec2.aolcloud.net/nominatim/images/mapicons/poi_place_village.p.20.png'},\n",
       " {'place_id': '531699',\n",
       "  'licence': 'Data © OpenStreetMap contributors, ODbL 1.0. https://www.openstreetmap.org/copyright',\n",
       "  'osm_type': 'node',\n",
       "  'osm_id': '198505670',\n",
       "  'boundingbox': ['8.0059463', '8.0859463', '126.0214264', '126.1014264'],\n",
       "  'lat': '8.0459463',\n",
       "  'lon': '126.0614264',\n",
       "  'display_name': 'Trento, Agusan del Sur, Caraga, 8505, Philippines',\n",
       "  'class': 'place',\n",
       "  'type': 'town',\n",
       "  'importance': 0.16650761976897,\n",
       "  'icon': 'http://ip-10-98-173-122.mq-us-east-1.ec2.aolcloud.net/nominatim/images/mapicons/poi_place_town.p.20.png'},\n",
       " {'place_id': '105325154',\n",
       "  'licence': 'Data © OpenStreetMap contributors, ODbL 1.0. https://www.openstreetmap.org/copyright',\n",
       "  'osm_type': 'way',\n",
       "  'osm_id': '147148070',\n",
       "  'boundingbox': ['44.1482269', '44.1507838', '4.8476098', '4.850579'],\n",
       "  'lat': '44.14948815',\n",
       "  'lon': '4.84974947145189',\n",
       "  'display_name': \"Trento, La Baussenque, Orange, Carpentras, Vaucluse, Provence-Alpes-Côte d'Azur, France métropolitaine, 84100, France\",\n",
       "  'class': 'landuse',\n",
       "  'type': 'industrial',\n",
       "  'importance': 0.16},\n",
       " {'place_id': '166654422',\n",
       "  'licence': 'Data © OpenStreetMap contributors, ODbL 1.0. https://www.openstreetmap.org/copyright',\n",
       "  'osm_type': 'way',\n",
       "  'osm_id': '431617802',\n",
       "  'boundingbox': ['46.0782422', '46.0784452', '11.1421592', '11.1427322'],\n",
       "  'lat': '46.0783806',\n",
       "  'lon': '11.1424334',\n",
       "  'display_name': \"Trento, Marnighe, Trento, Territorio Val d'Adige, TN, TAA, 38122, Italia\",\n",
       "  'class': 'highway',\n",
       "  'type': 'pedestrian',\n",
       "  'importance': 0.135},\n",
       " {'place_id': '132505515',\n",
       "  'licence': 'Data © OpenStreetMap contributors, ODbL 1.0. https://www.openstreetmap.org/copyright',\n",
       "  'osm_type': 'way',\n",
       "  'osm_id': '252075211',\n",
       "  'boundingbox': ['-32.9847715', '-32.9825163', '-60.6614742', '-60.6609117'],\n",
       "  'lat': '-32.9836455',\n",
       "  'lon': '-60.6611934',\n",
       "  'display_name': 'Trento, Villa Moreno, Domingo Matheu, Distrito Sur, Rosario, Municipio de Rosario, Departamento Rosario, Sta. Fe, S2000, Argentina',\n",
       "  'class': 'highway',\n",
       "  'type': 'residential',\n",
       "  'importance': 0.135},\n",
       " {'place_id': '89398989',\n",
       "  'licence': 'Data © OpenStreetMap contributors, ODbL 1.0. https://www.openstreetmap.org/copyright',\n",
       "  'osm_type': 'way',\n",
       "  'osm_id': '73838593',\n",
       "  'boundingbox': ['-32.9893919', '-32.985958', '-60.6626152', '-60.6617997'],\n",
       "  'lat': '-32.9882128',\n",
       "  'lon': '-60.6623171',\n",
       "  'display_name': 'Trento, La Guardia, Distrito Sur, Rosario, Municipio de Rosario, Departamento Rosario, Sta. Fe, S2000, Argentina',\n",
       "  'class': 'highway',\n",
       "  'type': 'residential',\n",
       "  'importance': 0.135},\n",
       " {'place_id': '89720595',\n",
       "  'licence': 'Data © OpenStreetMap contributors, ODbL 1.0. https://www.openstreetmap.org/copyright',\n",
       "  'osm_type': 'way',\n",
       "  'osm_id': '80595940',\n",
       "  'boundingbox': ['45.7466148', '45.7469574', '9.2305622', '9.2319169'],\n",
       "  'lat': '45.7468391',\n",
       "  'lon': '9.2310522',\n",
       "  'display_name': 'Trento, Inverigo, CO, LOM, 22044, Italia',\n",
       "  'class': 'highway',\n",
       "  'type': 'residential',\n",
       "  'importance': 0.135}]"
      ]
     },
     "execution_count": 28,
     "metadata": {},
     "output_type": "execute_result"
    }
   ],
   "source": [
    "geocode_generic(\"Trento\")"
   ]
  },
  {
   "cell_type": "markdown",
   "metadata": {},
   "source": [
    "**✪✪✪ ESERCIZIO 3.4.2**: guardando anche la documentazione di [sorted](https://docs.python.org/3/howto/sorting.html) scrivere del codice python  per riordinare i risultati precedenti dal meno rilevante al più rilevante. Ci sono vari modi per farlo, ma il più sintetico è con funzioni lambda. Riuscite a usarlo? \n",
    "\n",
    "**SUGGERIMENTO**: Per ottenere per es. il campo `'osm_id'` di un dizionario `miodiz`, si può chiamare il metodo `miodiz.get('odm_id')`"
   ]
  },
  {
   "cell_type": "raw",
   "id": "a2975ffd",
   "metadata": {
    "format": "text/html"
   },
   "source": [
    "<a  class=\"jupman-sol jupman-sol-toggler\" \n",
    " onclick=\"jupman.toggleSolution(this);\" \n",
    " data-jupman-show=\"Mostra soluzione\" data-jupman-hide=\"Nascondi\">Mostra soluzione</a><div class=\"jupman-sol jupman-sol-code\" style=\"display:none\">  "
   ]
  },
  {
   "cell_type": "code",
   "execution_count": 29,
   "metadata": {},
   "outputs": [
    {
     "name": "stdout",
     "output_type": "stream",
     "text": [
      "http://open.mapquestapi.com/nominatim/v1/search?key=Er38WkJVmeOl5AvFIAzM6lBBq4uEdgvG&format=json&q=Trento\n"
     ]
    },
    {
     "data": {
      "text/plain": [
       "[{'place_id': '166654422',\n",
       "  'licence': 'Data © OpenStreetMap contributors, ODbL 1.0. https://www.openstreetmap.org/copyright',\n",
       "  'osm_type': 'way',\n",
       "  'osm_id': '431617802',\n",
       "  'boundingbox': ['46.0782422', '46.0784452', '11.1421592', '11.1427322'],\n",
       "  'lat': '46.0783806',\n",
       "  'lon': '11.1424334',\n",
       "  'display_name': \"Trento, Marnighe, Trento, Territorio Val d'Adige, TN, TAA, 38122, Italia\",\n",
       "  'class': 'highway',\n",
       "  'type': 'pedestrian',\n",
       "  'importance': 0.135},\n",
       " {'place_id': '132505515',\n",
       "  'licence': 'Data © OpenStreetMap contributors, ODbL 1.0. https://www.openstreetmap.org/copyright',\n",
       "  'osm_type': 'way',\n",
       "  'osm_id': '252075211',\n",
       "  'boundingbox': ['-32.9847715', '-32.9825163', '-60.6614742', '-60.6609117'],\n",
       "  'lat': '-32.9836455',\n",
       "  'lon': '-60.6611934',\n",
       "  'display_name': 'Trento, Villa Moreno, Domingo Matheu, Distrito Sur, Rosario, Municipio de Rosario, Departamento Rosario, Sta. Fe, S2000, Argentina',\n",
       "  'class': 'highway',\n",
       "  'type': 'residential',\n",
       "  'importance': 0.135},\n",
       " {'place_id': '89398989',\n",
       "  'licence': 'Data © OpenStreetMap contributors, ODbL 1.0. https://www.openstreetmap.org/copyright',\n",
       "  'osm_type': 'way',\n",
       "  'osm_id': '73838593',\n",
       "  'boundingbox': ['-32.9893919', '-32.985958', '-60.6626152', '-60.6617997'],\n",
       "  'lat': '-32.9882128',\n",
       "  'lon': '-60.6623171',\n",
       "  'display_name': 'Trento, La Guardia, Distrito Sur, Rosario, Municipio de Rosario, Departamento Rosario, Sta. Fe, S2000, Argentina',\n",
       "  'class': 'highway',\n",
       "  'type': 'residential',\n",
       "  'importance': 0.135},\n",
       " {'place_id': '89720595',\n",
       "  'licence': 'Data © OpenStreetMap contributors, ODbL 1.0. https://www.openstreetmap.org/copyright',\n",
       "  'osm_type': 'way',\n",
       "  'osm_id': '80595940',\n",
       "  'boundingbox': ['45.7466148', '45.7469574', '9.2305622', '9.2319169'],\n",
       "  'lat': '45.7468391',\n",
       "  'lon': '9.2310522',\n",
       "  'display_name': 'Trento, Inverigo, CO, LOM, 22044, Italia',\n",
       "  'class': 'highway',\n",
       "  'type': 'residential',\n",
       "  'importance': 0.135},\n",
       " {'place_id': '105325154',\n",
       "  'licence': 'Data © OpenStreetMap contributors, ODbL 1.0. https://www.openstreetmap.org/copyright',\n",
       "  'osm_type': 'way',\n",
       "  'osm_id': '147148070',\n",
       "  'boundingbox': ['44.1482269', '44.1507838', '4.8476098', '4.850579'],\n",
       "  'lat': '44.14948815',\n",
       "  'lon': '4.84974947145189',\n",
       "  'display_name': \"Trento, La Baussenque, Orange, Carpentras, Vaucluse, Provence-Alpes-Côte d'Azur, France métropolitaine, 84100, France\",\n",
       "  'class': 'landuse',\n",
       "  'type': 'industrial',\n",
       "  'importance': 0.16},\n",
       " {'place_id': '531699',\n",
       "  'licence': 'Data © OpenStreetMap contributors, ODbL 1.0. https://www.openstreetmap.org/copyright',\n",
       "  'osm_type': 'node',\n",
       "  'osm_id': '198505670',\n",
       "  'boundingbox': ['8.0059463', '8.0859463', '126.0214264', '126.1014264'],\n",
       "  'lat': '8.0459463',\n",
       "  'lon': '126.0614264',\n",
       "  'display_name': 'Trento, Agusan del Sur, Caraga, 8505, Philippines',\n",
       "  'class': 'place',\n",
       "  'type': 'town',\n",
       "  'importance': 0.16650761976897,\n",
       "  'icon': 'http://ip-10-98-165-99.mq-us-east-1.ec2.aolcloud.net/nominatim/images/mapicons/poi_place_town.p.20.png'},\n",
       " {'place_id': '43377314',\n",
       "  'licence': 'Data © OpenStreetMap contributors, ODbL 1.0. https://www.openstreetmap.org/copyright',\n",
       "  'osm_type': 'node',\n",
       "  'osm_id': '3134911289',\n",
       "  'boundingbox': ['44.9456976', '44.9856976', '11.4473224', '11.4873224'],\n",
       "  'lat': '44.9656976',\n",
       "  'lon': '11.4673224',\n",
       "  'display_name': 'Trento, RO, VEN, Italia',\n",
       "  'class': 'place',\n",
       "  'type': 'hamlet',\n",
       "  'importance': 0.17875,\n",
       "  'icon': 'http://ip-10-98-165-99.mq-us-east-1.ec2.aolcloud.net/nominatim/images/mapicons/poi_place_village.p.20.png'},\n",
       " {'place_id': '652743',\n",
       "  'licence': 'Data © OpenStreetMap contributors, ODbL 1.0. https://www.openstreetmap.org/copyright',\n",
       "  'osm_type': 'node',\n",
       "  'osm_id': '248804218',\n",
       "  'boundingbox': ['46.0721752', '46.0722752', '11.1189539', '11.1190539'],\n",
       "  'lat': '46.0722252',\n",
       "  'lon': '11.1190039',\n",
       "  'display_name': \"Trento, Piazzetta Filippo Foti e Edoardo Martini, Centro storico Trento, Trento, Territorio Val d'Adige, TN, TAA, 38122, Italia\",\n",
       "  'class': 'railway',\n",
       "  'type': 'stop',\n",
       "  'importance': 0.18947959270135},\n",
       " {'place_id': '187948156',\n",
       "  'licence': 'Data © OpenStreetMap contributors, ODbL 1.0. https://www.openstreetmap.org/copyright',\n",
       "  'osm_type': 'relation',\n",
       "  'osm_id': '3870471',\n",
       "  'boundingbox': ['7.9378151', '8.292381', '126.00048', '126.355208'],\n",
       "  'lat': '8.114415',\n",
       "  'lon': '126.158888603496',\n",
       "  'display_name': 'Trento, Agusan del Sur, Caraga, 8505, Philippines',\n",
       "  'class': 'boundary',\n",
       "  'type': 'administrative',\n",
       "  'importance': 0.2225,\n",
       "  'icon': 'http://ip-10-98-165-99.mq-us-east-1.ec2.aolcloud.net/nominatim/images/mapicons/poi_boundary_administrative.p.20.png'},\n",
       " {'place_id': '186698302',\n",
       "  'licence': 'Data © OpenStreetMap contributors, ODbL 1.0. https://www.openstreetmap.org/copyright',\n",
       "  'osm_type': 'relation',\n",
       "  'osm_id': '46663',\n",
       "  'boundingbox': ['45.9775306', '46.1530112', '11.0224735', '11.1948226'],\n",
       "  'lat': '46.0664228',\n",
       "  'lon': '11.1257601',\n",
       "  'display_name': \"Trento, Territorio Val d'Adige, TN, TAA, Italia\",\n",
       "  'class': 'place',\n",
       "  'type': 'city',\n",
       "  'importance': 0.26364591679333,\n",
       "  'icon': 'http://ip-10-98-165-99.mq-us-east-1.ec2.aolcloud.net/nominatim/images/mapicons/poi_place_city.p.20.png'}]"
      ]
     },
     "execution_count": 29,
     "metadata": {},
     "output_type": "execute_result"
    }
   ],
   "source": [
    "# scrivi qui\n",
    "\n",
    "sorted(geocode_generic(\"Trento\"), key=lambda res: res.get('importance'))"
   ]
  },
  {
   "cell_type": "raw",
   "id": "b6136892",
   "metadata": {
    "format": "text/html"
   },
   "source": [
    "</div>"
   ]
  },
  {
   "cell_type": "code",
   "execution_count": 29,
   "metadata": {},
   "outputs": [
    {
     "name": "stdout",
     "output_type": "stream",
     "text": [
      "http://open.mapquestapi.com/nominatim/v1/search?key=Er38WkJVmeOl5AvFIAzM6lBBq4uEdgvG&format=json&q=Trento\n"
     ]
    },
    {
     "data": {
      "text/plain": [
       "[{'place_id': '166654422',\n",
       "  'licence': 'Data © OpenStreetMap contributors, ODbL 1.0. https://www.openstreetmap.org/copyright',\n",
       "  'osm_type': 'way',\n",
       "  'osm_id': '431617802',\n",
       "  'boundingbox': ['46.0782422', '46.0784452', '11.1421592', '11.1427322'],\n",
       "  'lat': '46.0783806',\n",
       "  'lon': '11.1424334',\n",
       "  'display_name': \"Trento, Marnighe, Trento, Territorio Val d'Adige, TN, TAA, 38122, Italia\",\n",
       "  'class': 'highway',\n",
       "  'type': 'pedestrian',\n",
       "  'importance': 0.135},\n",
       " {'place_id': '132505515',\n",
       "  'licence': 'Data © OpenStreetMap contributors, ODbL 1.0. https://www.openstreetmap.org/copyright',\n",
       "  'osm_type': 'way',\n",
       "  'osm_id': '252075211',\n",
       "  'boundingbox': ['-32.9847715', '-32.9825163', '-60.6614742', '-60.6609117'],\n",
       "  'lat': '-32.9836455',\n",
       "  'lon': '-60.6611934',\n",
       "  'display_name': 'Trento, Villa Moreno, Domingo Matheu, Distrito Sur, Rosario, Municipio de Rosario, Departamento Rosario, Sta. Fe, S2000, Argentina',\n",
       "  'class': 'highway',\n",
       "  'type': 'residential',\n",
       "  'importance': 0.135},\n",
       " {'place_id': '89398989',\n",
       "  'licence': 'Data © OpenStreetMap contributors, ODbL 1.0. https://www.openstreetmap.org/copyright',\n",
       "  'osm_type': 'way',\n",
       "  'osm_id': '73838593',\n",
       "  'boundingbox': ['-32.9893919', '-32.985958', '-60.6626152', '-60.6617997'],\n",
       "  'lat': '-32.9882128',\n",
       "  'lon': '-60.6623171',\n",
       "  'display_name': 'Trento, La Guardia, Distrito Sur, Rosario, Municipio de Rosario, Departamento Rosario, Sta. Fe, S2000, Argentina',\n",
       "  'class': 'highway',\n",
       "  'type': 'residential',\n",
       "  'importance': 0.135},\n",
       " {'place_id': '89720595',\n",
       "  'licence': 'Data © OpenStreetMap contributors, ODbL 1.0. https://www.openstreetmap.org/copyright',\n",
       "  'osm_type': 'way',\n",
       "  'osm_id': '80595940',\n",
       "  'boundingbox': ['45.7466148', '45.7469574', '9.2305622', '9.2319169'],\n",
       "  'lat': '45.7468391',\n",
       "  'lon': '9.2310522',\n",
       "  'display_name': 'Trento, Inverigo, CO, LOM, 22044, Italia',\n",
       "  'class': 'highway',\n",
       "  'type': 'residential',\n",
       "  'importance': 0.135},\n",
       " {'place_id': '105325154',\n",
       "  'licence': 'Data © OpenStreetMap contributors, ODbL 1.0. https://www.openstreetmap.org/copyright',\n",
       "  'osm_type': 'way',\n",
       "  'osm_id': '147148070',\n",
       "  'boundingbox': ['44.1482269', '44.1507838', '4.8476098', '4.850579'],\n",
       "  'lat': '44.14948815',\n",
       "  'lon': '4.84974947145189',\n",
       "  'display_name': \"Trento, La Baussenque, Orange, Carpentras, Vaucluse, Provence-Alpes-Côte d'Azur, France métropolitaine, 84100, France\",\n",
       "  'class': 'landuse',\n",
       "  'type': 'industrial',\n",
       "  'importance': 0.16},\n",
       " {'place_id': '531699',\n",
       "  'licence': 'Data © OpenStreetMap contributors, ODbL 1.0. https://www.openstreetmap.org/copyright',\n",
       "  'osm_type': 'node',\n",
       "  'osm_id': '198505670',\n",
       "  'boundingbox': ['8.0059463', '8.0859463', '126.0214264', '126.1014264'],\n",
       "  'lat': '8.0459463',\n",
       "  'lon': '126.0614264',\n",
       "  'display_name': 'Trento, Agusan del Sur, Caraga, 8505, Philippines',\n",
       "  'class': 'place',\n",
       "  'type': 'town',\n",
       "  'importance': 0.16650761976897,\n",
       "  'icon': 'http://ip-10-98-165-99.mq-us-east-1.ec2.aolcloud.net/nominatim/images/mapicons/poi_place_town.p.20.png'},\n",
       " {'place_id': '43377314',\n",
       "  'licence': 'Data © OpenStreetMap contributors, ODbL 1.0. https://www.openstreetmap.org/copyright',\n",
       "  'osm_type': 'node',\n",
       "  'osm_id': '3134911289',\n",
       "  'boundingbox': ['44.9456976', '44.9856976', '11.4473224', '11.4873224'],\n",
       "  'lat': '44.9656976',\n",
       "  'lon': '11.4673224',\n",
       "  'display_name': 'Trento, RO, VEN, Italia',\n",
       "  'class': 'place',\n",
       "  'type': 'hamlet',\n",
       "  'importance': 0.17875,\n",
       "  'icon': 'http://ip-10-98-165-99.mq-us-east-1.ec2.aolcloud.net/nominatim/images/mapicons/poi_place_village.p.20.png'},\n",
       " {'place_id': '652743',\n",
       "  'licence': 'Data © OpenStreetMap contributors, ODbL 1.0. https://www.openstreetmap.org/copyright',\n",
       "  'osm_type': 'node',\n",
       "  'osm_id': '248804218',\n",
       "  'boundingbox': ['46.0721752', '46.0722752', '11.1189539', '11.1190539'],\n",
       "  'lat': '46.0722252',\n",
       "  'lon': '11.1190039',\n",
       "  'display_name': \"Trento, Piazzetta Filippo Foti e Edoardo Martini, Centro storico Trento, Trento, Territorio Val d'Adige, TN, TAA, 38122, Italia\",\n",
       "  'class': 'railway',\n",
       "  'type': 'stop',\n",
       "  'importance': 0.18947959270135},\n",
       " {'place_id': '187948156',\n",
       "  'licence': 'Data © OpenStreetMap contributors, ODbL 1.0. https://www.openstreetmap.org/copyright',\n",
       "  'osm_type': 'relation',\n",
       "  'osm_id': '3870471',\n",
       "  'boundingbox': ['7.9378151', '8.292381', '126.00048', '126.355208'],\n",
       "  'lat': '8.114415',\n",
       "  'lon': '126.158888603496',\n",
       "  'display_name': 'Trento, Agusan del Sur, Caraga, 8505, Philippines',\n",
       "  'class': 'boundary',\n",
       "  'type': 'administrative',\n",
       "  'importance': 0.2225,\n",
       "  'icon': 'http://ip-10-98-165-99.mq-us-east-1.ec2.aolcloud.net/nominatim/images/mapicons/poi_boundary_administrative.p.20.png'},\n",
       " {'place_id': '186698302',\n",
       "  'licence': 'Data © OpenStreetMap contributors, ODbL 1.0. https://www.openstreetmap.org/copyright',\n",
       "  'osm_type': 'relation',\n",
       "  'osm_id': '46663',\n",
       "  'boundingbox': ['45.9775306', '46.1530112', '11.0224735', '11.1948226'],\n",
       "  'lat': '46.0664228',\n",
       "  'lon': '11.1257601',\n",
       "  'display_name': \"Trento, Territorio Val d'Adige, TN, TAA, Italia\",\n",
       "  'class': 'place',\n",
       "  'type': 'city',\n",
       "  'importance': 0.26364591679333,\n",
       "  'icon': 'http://ip-10-98-165-99.mq-us-east-1.ec2.aolcloud.net/nominatim/images/mapicons/poi_place_city.p.20.png'}]"
      ]
     },
     "execution_count": 29,
     "metadata": {},
     "output_type": "execute_result"
    }
   ],
   "source": [
    "# scrivi qui\n",
    "\n"
   ]
  },
  {
   "cell_type": "markdown",
   "metadata": {},
   "source": [
    "La [API di Nominatim](https://wiki.openstreetmap.org/wiki/Nominatim#Special_Keywords) (ricordiamo che Nominatim è il search engine di OpenStreetMap) ci permette di essere più specifici nei parametri che passiamo. Per esempio, si possono passare i parameteri `street` e `county`:  "
   ]
  },
  {
   "cell_type": "code",
   "execution_count": 30,
   "metadata": {},
   "outputs": [],
   "source": [
    "\n",
    "def geocode_street_county(street, county):\n",
    "    # 'payload' è una variabile che ci definiamo noi, per metterci più comodamente i parametri \n",
    "    payload = {'key': api_key,  # api_key è la chiave lunga tipo Er38Wk... che abbiamo definito più sopra\n",
    "               'format': 'json',\n",
    "               'street' : street,\n",
    "               'county' : county}\n",
    "    r = requests.get(url_base, params=payload)  # qua passiamo il 'payload' alla libreria requests\n",
    "    print(r.url) # stampa l'url che requests ha usato \n",
    "    return r.json()\n",
    "\n"
   ]
  },
  {
   "cell_type": "code",
   "execution_count": 31,
   "metadata": {},
   "outputs": [
    {
     "name": "stdout",
     "output_type": "stream",
     "text": [
      "http://open.mapquestapi.com/nominatim/v1/search?key=Er38WkJVmeOl5AvFIAzM6lBBq4uEdgvG&format=json&street=Via+Prose+n.+1&county=Roncegno\n"
     ]
    },
    {
     "data": {
      "text/plain": [
       "[{'place_id': '106260827',\n",
       "  'licence': 'Data © OpenStreetMap contributors, ODbL 1.0. https://www.openstreetmap.org/copyright',\n",
       "  'osm_type': 'way',\n",
       "  'osm_id': '149123476',\n",
       "  'boundingbox': ['46.0464048', '46.047558', '11.4100616', '11.4119591'],\n",
       "  'lat': '46.0469731',\n",
       "  'lon': '11.4109589',\n",
       "  'display_name': 'Via Prose, Maso Vazzena, Larganza, Roncegno Terme, Comunità Valsugana e Tesino, TN, TAA, 38051, Italia',\n",
       "  'class': 'highway',\n",
       "  'type': 'residential',\n",
       "  'importance': 0.525}]"
      ]
     },
     "execution_count": 31,
     "metadata": {},
     "output_type": "execute_result"
    }
   ],
   "source": [
    "geocode_street_county(\"Via Prose n. 1\", \"Roncegno\")"
   ]
  },
  {
   "cell_type": "markdown",
   "metadata": {},
   "source": [
    "## 4. Scriviamo un nuovo CSV con i campi lat e long\n",
    "\n",
    "Adesso che abbiamo capito come prenderci le coordinate, possiamo\n",
    "\n",
    "1. aprire in scrittura un nuovo CSV chiamato `agritur_mini_latlon.csv`\n",
    "2. leggere il CSV originale `agritur_mini.csv`\n",
    "3. per ogni riga del CSV originale `agritur_mini.csv`, leggere `lat` e `lon` da MapQuest\n",
    "4. scrivere nel nuovo CSV `agritur_mini_latlon.csv` i campi vecchi più le nuove coordinate\n",
    "\n",
    "<div class=\"alert alert-warning\">\n",
    "\n",
    "**Attenzione**: Per non sovraccaricare MapQuest, negli esercizi seguenti useremo **SOLO** il file [agritur_mini.csv](agritur_mini.csv) che contiene i primi 7 Agritur. Per un paio di questi sarà possibile trovare una georeferenziazione. Il CSV 'soluzione' lo potete vedere nel file [agritur_soluzione.csv](agritur_soluzione.csv) (NON modificatelo !)\n",
    "</div>"
   ]
  },
  {
   "cell_type": "markdown",
   "metadata": {},
   "source": [
    "Intanto scriviamo un programmino per leggere dall'input `agritur_mini.csv` e copiare tutto quanto letto in un file di output che chiameremo `agritur_mini_latlon.csv` "
   ]
  },
  {
   "cell_type": "code",
   "execution_count": 32,
   "metadata": {},
   "outputs": [],
   "source": [
    "\n",
    "import csv\n",
    "\n",
    "# apriamo il file `agritur_mini_latlon`in scrittura (fouput è un nome  scelto da noi)\n",
    "with open('agritur_mini_latlon.csv', 'w', encoding='utf-8') as foutput:   \n",
    "    scrittore = csv.writer(foutput)  # Ci serve creare un'oggetto 'scrittore'\n",
    "    \n",
    "    # apriamo il file `agritur_mini`in scrittura (finput è un nome  scelto da noi)\n",
    "    with open('agritur_mini.csv', encoding='utf-8', newline='') as finput:\n",
    "        lettore = csv.reader(finput, delimiter=';')  # delimitatore ';'\n",
    "        for riga in lettore:\n",
    "            scrittore.writerow(riga)  # chiamiamo l'oggetto scrittore dicendogli di scrivere la riga appena letta"
   ]
  },
  {
   "cell_type": "markdown",
   "metadata": {},
   "source": [
    "**✪ ESERCIZIO 4.1**: Copia a mano qua sotto il codice qua sopra, e usa `Control+Invio` per eseguirlo"
   ]
  },
  {
   "cell_type": "code",
   "execution_count": 33,
   "metadata": {},
   "outputs": [],
   "source": [
    "# scrivi il codice"
   ]
  },
  {
   "cell_type": "markdown",
   "metadata": {},
   "source": [
    "**✪ ESERCIZIO 4.2**: prova a cancellare il file `agritur_mini_latlon.csv`, eseguire la cella qua sopra e verificare che il programma effettivamente crei il file\n",
    "\n",
    "**✪ DOMANDA 4.3**: di default, lo `scrittore` che separatori usa? Guarda il file di risultato.\n"
   ]
  },
  {
   "cell_type": "markdown",
   "metadata": {},
   "source": [
    "**SOLUZIONE**: Usa la virgola"
   ]
  },
  {
   "cell_type": "markdown",
   "metadata": {},
   "source": [
    "**✪✪ ESERCIZIO 4.4**: Prova ad aggiungere un contatore per verificare a che riga siamo, poi tanto per capire dove sta la latitudine, prova a modificare `row` prima che venga scritta, in modo che il campo `Latitudine` (`row[16]`) e `Longitudine` (`row[17]`) siano messi rispettivamente a `123` e `456`"
   ]
  },
  {
   "cell_type": "raw",
   "id": "d8bf2b7c",
   "metadata": {
    "format": "text/html"
   },
   "source": [
    "<a  class=\"jupman-sol jupman-sol-toggler\" \n",
    " onclick=\"jupman.toggleSolution(this);\" \n",
    " data-jupman-show=\"Mostra soluzione\" data-jupman-hide=\"Nascondi\">Mostra soluzione</a><div class=\"jupman-sol jupman-sol-code\" style=\"display:none\">  "
   ]
  },
  {
   "cell_type": "code",
   "execution_count": 34,
   "metadata": {},
   "outputs": [],
   "source": [
    "# scrivi qui\n",
    "\n",
    "import csv\n",
    "\n",
    "# apriamo il file `agritur_mini_latlon`in scrittura (fouput è un nome  scelto da noi)\n",
    "with open('agritur_mini_latlon.csv', 'w', encoding='utf-8') as foutput:   \n",
    "    scrittore = csv.writer(foutput)  # Ci serve creare un'oggetto 'scrittore'\n",
    "    \n",
    "    # apriamo il file `agritur_mini`in lettura (finput è un nome  scelto da noi)\n",
    "    with open('agritur_mini.csv', encoding='utf-8', newline='') as finput:\n",
    "        lettore = csv.reader(finput, delimiter=';')  # delimitatore ';'\n",
    "        i = 0\n",
    "        for riga in lettore:\n",
    "            if i > 0:\n",
    "                riga[16] = 123\n",
    "                riga[17] = 456\n",
    "            scrittore.writerow(riga)  #chiamiamo l'oggetto scrittore dicendogli di scrivere la riga appena letta\n",
    "            i += 1"
   ]
  },
  {
   "cell_type": "raw",
   "id": "0cde1567",
   "metadata": {
    "format": "text/html"
   },
   "source": [
    "</div>"
   ]
  },
  {
   "cell_type": "code",
   "execution_count": 34,
   "metadata": {},
   "outputs": [],
   "source": [
    "# scrivi qui\n",
    "\n"
   ]
  },
  {
   "cell_type": "markdown",
   "metadata": {},
   "source": [
    "\n",
    "**✪✪ ESERCIZIO 4.5**: Mentre leggi il CSV, adesso setta latitudine e longitudine usando risultati ottenuti chiamando `geocode_street_county` definita precedentemente. Per gli input, puoi usare questi indici:\n",
    "\n",
    "* `Indirizzo_agriturismo` : `riga[19]`\n",
    "* `Comune_Sede_Agriturismo` : `riga[18]`\n",
    "\n",
    "(ci sarebbe la `Denominazione_Agriturismo` : `riga[20]` ma come visto prima funziona solo se l'agriturismo è già in OpenStreetMap, usando solo la via abbiamo qualche probabilità in più di successo)\n"
   ]
  },
  {
   "cell_type": "raw",
   "id": "7669a362",
   "metadata": {
    "format": "text/html"
   },
   "source": [
    "<a  class=\"jupman-sol jupman-sol-toggler\" \n",
    " onclick=\"jupman.toggleSolution(this);\" \n",
    " data-jupman-show=\"Mostra soluzione\" data-jupman-hide=\"Nascondi\">Mostra soluzione</a><div class=\"jupman-sol jupman-sol-code\" style=\"display:none\">  "
   ]
  },
  {
   "cell_type": "code",
   "execution_count": 35,
   "metadata": {},
   "outputs": [
    {
     "name": "stdout",
     "output_type": "stream",
     "text": [
      "http://open.mapquestapi.com/nominatim/v1/search?key=Er38WkJVmeOl5AvFIAzM6lBBq4uEdgvG&format=json&street=Loc.+al+Lago+n.+15&county=Garniga+Terme\n",
      "http://open.mapquestapi.com/nominatim/v1/search?key=Er38WkJVmeOl5AvFIAzM6lBBq4uEdgvG&format=json&street=Loc.+Pineta+-+Maso+Nello&county=Faedo\n",
      "http://open.mapquestapi.com/nominatim/v1/search?key=Er38WkJVmeOl5AvFIAzM6lBBq4uEdgvG&format=json&street=Via+Casalini+n.+74&county=Sanzeno\n",
      "http://open.mapquestapi.com/nominatim/v1/search?key=Er38WkJVmeOl5AvFIAzM6lBBq4uEdgvG&format=json&street=Via+Prose+n.+1&county=Roncegno\n",
      "trovato !\n",
      "http://open.mapquestapi.com/nominatim/v1/search?key=Er38WkJVmeOl5AvFIAzM6lBBq4uEdgvG&format=json&street=Loc.+Fontanelle&county=Tenno\n",
      "http://open.mapquestapi.com/nominatim/v1/search?key=Er38WkJVmeOl5AvFIAzM6lBBq4uEdgvG&format=json&street=Via+Chimelli+n.+25&county=Pergine+Valsugana\n",
      "trovato !\n",
      "http://open.mapquestapi.com/nominatim/v1/search?key=Er38WkJVmeOl5AvFIAzM6lBBq4uEdgvG&format=json&street=Via+G.+Inama+n.+21&county=Coredo\n",
      "trovato !\n"
     ]
    }
   ],
   "source": [
    "\n",
    "import requests\n",
    "\n",
    "def geocode_street_county(street, county):\n",
    "    # 'payload' è una variabile che ci definiamo noi, per metterci più comodamente i parametri \n",
    "    payload = {'key': api_key,  # api_key è la chiave lunga tipo Er38Wk... che abbiamo definito più sopra\n",
    "               'format': 'json',\n",
    "               'street' : street,\n",
    "               'county' : county}\n",
    "    r = requests.get(url_base, params=payload)  # qua passiamo il 'payload' alla libreria requests\n",
    "    print(r.url) # stampa l'url che requests ha usato \n",
    "    return r.json()\n",
    "\n",
    "# scrivi qui\n",
    "\n",
    "import csv\n",
    "\n",
    "# apriamo il file `agritur_mini_latlon`in scrittura (fouput è un nome  scelto da noi)\n",
    "with open('agritur_mini_latlon.csv', 'w', encoding='utf-8') as foutput:   \n",
    "    scrittore = csv.writer(foutput)  # Ci serve creare un'oggetto 'scrittore'\n",
    "    \n",
    "    # apriamo il file `agritur_mini`in lettura (finput è un nome  scelto da noi)\n",
    "    with open('agritur_mini.csv', encoding='utf-8', newline='') as finput:\n",
    "        lettore = csv.reader(finput, delimiter=';')  # delimitatore ';'\n",
    "        i = 0\n",
    "        for riga in lettore:\n",
    "            if i > 0:\n",
    "                json = geocode_street_county(riga[19], riga[18])\n",
    "                if len(json) > 0:\n",
    "                    print('trovato !')\n",
    "                    riga[16] = json[0]['lat']\n",
    "                    riga[17] = json[0]['lon']\n",
    "            scrittore.writerow(riga)  # chiamiamo l'oggetto scrittore dicendogli di scrivere la riga appena letta\n",
    "            i += 1"
   ]
  },
  {
   "cell_type": "raw",
   "id": "d843bf77",
   "metadata": {
    "format": "text/html"
   },
   "source": [
    "</div>"
   ]
  },
  {
   "cell_type": "code",
   "execution_count": 35,
   "metadata": {},
   "outputs": [
    {
     "name": "stdout",
     "output_type": "stream",
     "text": [
      "http://open.mapquestapi.com/nominatim/v1/search?key=Er38WkJVmeOl5AvFIAzM6lBBq4uEdgvG&format=json&street=Loc.+al+Lago+n.+15&county=Garniga+Terme\n",
      "http://open.mapquestapi.com/nominatim/v1/search?key=Er38WkJVmeOl5AvFIAzM6lBBq4uEdgvG&format=json&street=Loc.+Pineta+-+Maso+Nello&county=Faedo\n",
      "http://open.mapquestapi.com/nominatim/v1/search?key=Er38WkJVmeOl5AvFIAzM6lBBq4uEdgvG&format=json&street=Via+Casalini+n.+74&county=Sanzeno\n",
      "http://open.mapquestapi.com/nominatim/v1/search?key=Er38WkJVmeOl5AvFIAzM6lBBq4uEdgvG&format=json&street=Via+Prose+n.+1&county=Roncegno\n",
      "trovato !\n",
      "http://open.mapquestapi.com/nominatim/v1/search?key=Er38WkJVmeOl5AvFIAzM6lBBq4uEdgvG&format=json&street=Loc.+Fontanelle&county=Tenno\n",
      "http://open.mapquestapi.com/nominatim/v1/search?key=Er38WkJVmeOl5AvFIAzM6lBBq4uEdgvG&format=json&street=Via+Chimelli+n.+25&county=Pergine+Valsugana\n",
      "trovato !\n",
      "http://open.mapquestapi.com/nominatim/v1/search?key=Er38WkJVmeOl5AvFIAzM6lBBq4uEdgvG&format=json&street=Via+G.+Inama+n.+21&county=Coredo\n",
      "trovato !\n"
     ]
    }
   ],
   "source": [
    "\n",
    "import requests\n",
    "\n",
    "def geocode_street_county(street, county):\n",
    "    # 'payload' è una variabile che ci definiamo noi, per metterci più comodamente i parametri \n",
    "    payload = {'key': api_key,  # api_key è la chiave lunga tipo Er38Wk... che abbiamo definito più sopra\n",
    "               'format': 'json',\n",
    "               'street' : street,\n",
    "               'county' : county}\n",
    "    r = requests.get(url_base, params=payload)  # qua passiamo il 'payload' alla libreria requests\n",
    "    print(r.url) # stampa l'url che requests ha usato \n",
    "    return r.json()\n",
    "\n",
    "# scrivi qui\n",
    "\n"
   ]
  },
  {
   "cell_type": "markdown",
   "metadata": {},
   "source": [
    "## 5. Importiamo in UMap\n",
    "\n",
    "**✪ ESERCIZIO 5.1** Importa il CSV in Umap, seguendo le indicazioni di [del tutorial sui Servizi di Rovereto](https://docs.google.com/presentation/d/1CWo9pFl6jcR1EmDAXOmNeOayfyjfLqLR5-h5U8zxrrk/edit) visto precedentemente al punto 0.2\n",
    "\n",
    "Il risultato finale dovrebbe essere così: [Mappa Agritur mini](http://umap.openstreetmap.fr/en/map/agritur-mini_181977#10/46.0594/11.3805) . Nota che abbiamo scritto `%%HTML` che è un comando speciale di Jupyter e poi incollato sotto il codice HTML ricavato da Umap:\n"
   ]
  },
  {
   "cell_type": "code",
   "execution_count": 36,
   "metadata": {},
   "outputs": [
    {
     "data": {
      "text/html": [
       "\n",
       "<iframe width=\"100%\" height=\"300px\" frameBorder=\"0\" src=\"https://umap.openstreetmap.fr/en/map/mia-mappa-agritur_182055?scaleControl=false&miniMap=false&scrollWheelZoom=false&zoomControl=true&allowEdit=false&moreControl=true&searchControl=null&tilelayersControl=null&embedControl=null&datalayersControl=true&onLoadPanel=undefined&captionBar=false#11/46.0966/11.4024\"></iframe><p><a href=\"http://umap.openstreetmap.fr/en/map/mia-mappa-agritur_182055\">See full screen</a></p>\n"
      ],
      "text/plain": [
       "<IPython.core.display.HTML object>"
      ]
     },
     "metadata": {},
     "output_type": "display_data"
    }
   ],
   "source": [
    "%%HTML\n",
    "\n",
    "<iframe width=\"100%\" height=\"300px\" frameBorder=\"0\" src=\"https://umap.openstreetmap.fr/en/map/mia-mappa-agritur_182055?scaleControl=false&miniMap=false&scrollWheelZoom=false&zoomControl=true&allowEdit=false&moreControl=true&searchControl=null&tilelayersControl=null&embedControl=null&datalayersControl=true&onLoadPanel=undefined&captionBar=false#11/46.0966/11.4024\"></iframe><p><a href=\"http://umap.openstreetmap.fr/en/map/mia-mappa-agritur_182055\">See full screen</a></p>"
   ]
  },
  {
   "cell_type": "markdown",
   "metadata": {},
   "source": [
    "**✪ ESERCIZIO 5.2**: Crea una nuova cella qua sotto, e prova ad incorporare nel foglio Jupyter la tua mappa come fatto qua sopra:"
   ]
  },
  {
   "cell_type": "code",
   "execution_count": null,
   "metadata": {},
   "outputs": [],
   "source": []
  }
 ],
 "metadata": {
  "celltoolbar": "Edit Metadata",
  "kernelspec": {
   "display_name": "Python 3",
   "language": "python",
   "name": "python3"
  },
  "language_info": {
   "codemirror_mode": {
    "name": "ipython",
    "version": 3
   },
   "file_extension": ".py",
   "mimetype": "text/x-python",
   "name": "python",
   "nbconvert_exporter": "python",
   "pygments_lexer": "ipython3",
   "version": "3.7.3"
  },
  "toc": {
   "base_numbering": 1,
   "nav_menu": {},
   "number_sections": false,
   "sideBar": true,
   "skip_h1_title": false,
   "title_cell": "Table of Contents",
   "title_sidebar": "Contents",
   "toc_cell": false,
   "toc_position": {},
   "toc_section_display": true,
   "toc_window_display": true
  }
 },
 "nbformat": 4,
 "nbformat_minor": 2
}

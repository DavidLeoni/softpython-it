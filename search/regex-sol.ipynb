{
 "cells": [
  {
   "cell_type": "markdown",
   "metadata": {},
   "source": [
    "# Ricerca - espressioni regolari\n",
    "\n",
    "## [Scarica zip esercizi](../_static/generated/search.zip)\n",
    "\n",
    "[Naviga file online](https://github.com/DavidLeoni/softpython-it/tree/master/search)\n",
    "\n",
    "## Introduzione\n",
    "\n",
    "In questo capitolo parleremo di ricerca nei dati usando le cosidette  **Espressioni regolari (regex)**:\n",
    "\n",
    "Per compiere operazioni di ricerca su testo, quando il problema è relativamente semplice si possono usare alcuni metodi delle stringhe (`replace`, `search`, `index`, `upper`, `lower`, etc...), ma in casi più compicati, per evitare di scrivere tonnellate di codice ed `if` può essere più pratico utilizzare delle *espressioni regolari*.\n",
    "\n",
    "In particolare, vedremo:\n",
    "\n",
    "* un esempio dai dati dei trasporti\n",
    "* filtreremo strade provinciali\n",
    "* `re.search` e altro\n",
    "\n",
    "Per capire velocemente cosa sono le regex, prova a giocare un po' con [regexcrossword.com](https://regexcrossword.com) (vedere [istruzioni](https://regexcrossword.com/howtoplay) e  [tutorial](https://regexcrossword.com/challenges/tutorial/puzzles/1))\n",
    "\n",
    "**Quando hai dubbi durante il tutorial, prova le regex online su** [regex101.com](https://regex101.com/) \n",
    "\n",
    "\n",
    "<div class=\"alert alert-warning\">\n",
    "    \n",
    "**ATTENZIONE:** ricordati di selezionare 'Python' nella barra a sinistra in FLAVOR !\n",
    "</div>"
   ]
  },
  {
   "cell_type": "markdown",
   "metadata": {},
   "source": [
    "\n",
    "### Che fare\n",
    "\n",
    "\n",
    "- scompatta lo zip in una cartella, dovresti ottenere qualcosa del genere: \n",
    "\n",
    "```\n",
    "search\n",
    "    regex.ipynb     \n",
    "    regex-sol.ipynb\n",
    "    jupman.py         \n",
    "```\n",
    "\n",
    "<div class=\"alert alert-warning\">\n",
    "\n",
    "**ATTENZIONE**: Per essere visualizzato correttamente, il file del notebook DEVE essere nella cartella szippata.\n",
    "</div>\n",
    "\n",
    "- apri il Jupyter Notebook da quella cartella. Due cose dovrebbero aprirsi, prima una console e poi un browser. Il browser dovrebbe mostrare una lista di file: naviga la lista e apri il notebook `regex.ipynb`\n",
    "- Prosegui leggendo il file degli esercizi, ogni tanto al suo interno troverai delle scritte **ESERCIZIO**, che ti chiederanno di scrivere dei comandi Python nelle celle successive. \n",
    "\n",
    "Scorciatoie da tastiera:\n",
    "\n",
    "* Per eseguire il codice Python dentro una cella di Jupyter, premi `Control+Invio`\n",
    "* Per eseguire il codice Python dentro una cella di Jupyter E selezionare la cella seguente, premi `Shift+Invio`\n",
    "* Per eseguire il codice Python dentro una cella di Jupyter E creare una nuova cella subito dopo, premi `Alt+Invio`\n",
    "* Se per caso il Notebook sembra inchiodato, prova a selezionare `Kernel -> Restart`\n"
   ]
  },
  {
   "cell_type": "markdown",
   "metadata": {},
   "source": [
    "## 1 Prendiamoci i dati\n",
    "\n",
    "Per partire da casi concreti, come già fatto in precedenza andiamo a cercarci dei dati dal catalogo opendata `dati.trentino.it`. In questo caso sceglieremo un file dal dataset [ Trasporti pubblici del Trentino (formato GTFS) ](http://dati.trentino.it/dataset/trasporti-pubblici-del-trentino-formato-gtfs). Sono dati dei trasporti, ma quello che impareremo vale per qualunque dataset che contenga del testo.\n",
    "\n",
    "**✪ DOMANDA 1.1**: Quale è la licenza del dataset? Possiamo farci tutto quello che vogliamo ? \n"
   ]
  },
  {
   "cell_type": "raw",
   "id": "581477e9",
   "metadata": {
    "format": "text/html"
   },
   "source": [
    "<a  class=\"jupman-sol jupman-sol-toggler\" \n",
    " onclick=\"jupman.toggleSolution(this);\" \n",
    " data-jupman-show=\"Mostra risposta\" data-jupman-hide=\"Nascondi\">Mostra risposta</a><div class=\"jupman-sol jupman-sol-question\" style=\"display:none\">  "
   ]
  },
  {
   "cell_type": "markdown",
   "metadata": {},
   "source": [
    "**RISPOSTA**: La licenza è Creative Commons BY, quindi quando riusiamo dobbiamo citare l'autore"
   ]
  },
  {
   "cell_type": "raw",
   "id": "2dd2d5e2",
   "metadata": {
    "format": "text/html"
   },
   "source": [
    "</div>"
   ]
  },
  {
   "cell_type": "markdown",
   "metadata": {},
   "source": [
    "\n",
    "Il [formato GTFS](https://developers.google.com/transit/gtfs/) è un formato pratico per gli orari e tracciati del trasporto pubblico. Questo formato ci descrive i campi che ci aspettiamo nei file. Ma i file, fisicamente, in che formato sono?\n",
    "\n",
    "Nel dataset troviamo la risorsa [GTFS Urbano TTE](http://dati.trentino.it/dataset/trasporti-pubblici-del-trentino-formato-gtfs/resource/57869023-adfa-467e-8100-76403257d2d1) che al suo interno contiene un link  [ad uno zip](http://www.ttesercizio.it/opendata/google_transit_urbano_tte.zip). Se apriamo lo zip troveremo diversi `.txt` che se attentamente osservati rivelano essere in formato CSV (cominciate a notare l'utilità del formato ;-) ?\n",
    "\n",
    "\n",
    "Concentriamoci sul file [stops.txt](stops.txt), di cui vediamo un estratto qui:\n",
    "\n",
    "```\n",
    "stop_id,stop_code,stop_name,stop_desc,stop_lat,stop_lon,zone_id,wheelchair_boarding\n",
    "1,28105z,Baselga Del Bondone,,46.078317,11.046924,10110,2\n",
    "2,28105x,Baselga Del Bondone,,46.078581,11.047541,10110,2\n",
    "3,27105c,Belvedere,,46.044406,11.105342,10110,2\n",
    "4,22220z,Lamar Ponte Avisio,,46.134620,11.110914,10110,2\n",
    "5,28060z,Sp 85 Bivio Sopramonte,,46.085226,11.069313,10110,2\n",
    "7,24405z,Maso Bolleri,,46.102485,11.124174,10110,2\n",
    "8,24405x,Maso Bolleri,,46.102234,11.123940,10110,2\n",
    "9,25205x,Borino,,46.067367,11.165050,10110,2\n",
    "```\n",
    "\n",
    "Come ci aspettiamo da un buon file CSV, nella prima riga costituisce le intestazioni e vediamo che i campi sono separati da virgole. \n",
    "\n",
    "**✪ DOMANDA 1.2**: Dove possiamo trovare il significato del file ?\n"
   ]
  },
  {
   "cell_type": "raw",
   "id": "da8d343c",
   "metadata": {
    "format": "text/html"
   },
   "source": [
    "<a  class=\"jupman-sol jupman-sol-toggler\" \n",
    " onclick=\"jupman.toggleSolution(this);\" \n",
    " data-jupman-show=\"Mostra risposta\" data-jupman-hide=\"Nascondi\">Mostra risposta</a><div class=\"jupman-sol jupman-sol-question\" style=\"display:none\">  "
   ]
  },
  {
   "cell_type": "markdown",
   "metadata": {},
   "source": [
    "**RISPOSTA**: Pagina del dataset, cerca PDF MITT - Manuale OpenData - v.7:  http://dati.trentino.it/dataset/trasporti-pubblici-del-trentino-formato-gtfs"
   ]
  },
  {
   "cell_type": "raw",
   "id": "eef62661",
   "metadata": {
    "format": "text/html"
   },
   "source": [
    "</div>"
   ]
  },
  {
   "cell_type": "markdown",
   "metadata": {},
   "source": [
    "## 2. Verifichiamo che i dati siano corretti\n",
    "\n",
    "Come avrai intuito, il file `stops.txt` è un file CSV che contiene le informazioni riguardanti le stazioni degli autobus di Trento. \n",
    "\n",
    "Supponiamo che tu voglia fare avere la lista di tutte le fermate su *strade provinciali* (sigla *SP*): \n",
    "\n",
    "**✪ DOMANDA 2.1**: Cerca un po' manualmente dentro il [file completo](stops.txt): i dati sono sempre perfettamente regolari come ci piacerebbe? Riesci ad individuare dei criteri per filtrare le righe con strade provinciali ?\n"
   ]
  },
  {
   "cell_type": "raw",
   "id": "12f1a05b",
   "metadata": {
    "format": "text/html"
   },
   "source": [
    "<a  class=\"jupman-sol jupman-sol-toggler\" \n",
    " onclick=\"jupman.toggleSolution(this);\" \n",
    " data-jupman-show=\"Mostra risposta\" data-jupman-hide=\"Nascondi\">Mostra risposta</a><div class=\"jupman-sol jupman-sol-question\" style=\"display:none\">  "
   ]
  },
  {
   "cell_type": "markdown",
   "metadata": {},
   "source": [
    "**RISPOSTA**: I dati non sono uniformi.`Sp` quando è riferito alle superstrade a volte è seguito da spazio e a volte da un punto:\n",
    "\n",
    "```\n",
    "5,28060z,Sp 85 Bivio Sopramonte,,46.085226,11.069313,10110,2\n",
    "1339,32671x,Sp.2 Noriglio,,45.884263,11.070323,10101,2\n",
    "```\n",
    "e non sempre è all'inizio del nome di strada, in questo caso è alla fine: \n",
    "```\n",
    "2217,35021x,Brancolino Sp.90,,45.900719,11.020254,15091,1\n",
    "```\n",
    "\n",
    "In più, la sigla `Sp` si presenta anche in strade non provinciali:\n",
    "\n",
    "```\n",
    "2449,22607x,Spini Praga,,46.123666,11.097351,10110,2\n",
    "```\n",
    "\n",
    "E ci sono pure strade non provinciali contenenti `sp.` col punto:\n",
    "\n",
    "```\n",
    "2376,21385x,Grazioli \"Osp. S.Camillo\",,46.065677,11.132418,10110,2\n",
    "```\n",
    "\n"
   ]
  },
  {
   "cell_type": "raw",
   "id": "f3f94304",
   "metadata": {
    "format": "text/html"
   },
   "source": [
    "</div>"
   ]
  },
  {
   "cell_type": "markdown",
   "metadata": {},
   "source": [
    "\n",
    "**✪✪ ESERCIZIO 2.2**: Con quello che sai [dalla lezione sui formati](http://it.softpython.org/formats/formats-sol.html#File-CSV), prova ad aprire il CSV e stampare solo le linee che contengono qualcosa che assomiglia a strade provinciali. \n",
    "\n",
    "**NOTA**: non serve che filtri per bene tutte, fai solo qualche tentativo per i casi più ovvi, usando funzioni sulle stringhe che già conosci. Ai casi più difficili ci penseremo in seguito con le regex! \n",
    "\n",
    "**SUGGERIMENTO 1**: se devi usare diversi condizioni alternative in un `if`, separale con `or`\n",
    "\n",
    "**SUGGERIMENTO 2**: usa il metodo `upper` delle stringhe:"
   ]
  },
  {
   "cell_type": "raw",
   "id": "136b1287",
   "metadata": {
    "format": "text/html"
   },
   "source": [
    "<a  class=\"jupman-sol jupman-sol-toggler\" \n",
    " onclick=\"jupman.toggleSolution(this);\" \n",
    " data-jupman-show=\"Mostra soluzione\" data-jupman-hide=\"Nascondi\">Mostra soluzione</a><div class=\"jupman-sol jupman-sol-code\" style=\"display:none\">  "
   ]
  },
  {
   "cell_type": "code",
   "execution_count": 1,
   "metadata": {},
   "outputs": [
    {
     "name": "stdout",
     "output_type": "stream",
     "text": [
      "['5', '28060z', 'Sp 85 Bivio Sopramonte', '', '46.085226', '11.069313', '10110', '2']\n",
      "['48', '22080z', 'Sp 76 Carpenedi', '', '46.117195', '11.108678', '10110', '2']\n",
      "['49', '22080x', 'Sp 76 Carpenedi', '', '46.117171', '11.108438', '10110', '2']\n",
      "['104', '24040z', 'Sp 131 \"Maso Pradiscola\"', '', '46.083189', '11.135736', '10110', '2']\n",
      "['105', '24040x', 'Sp 131 \"Maso Pradiscola\"', '', '46.083255', '11.135874', '10110', '1']\n",
      "['109', '24350z', 'Sp 131 \"Res. Silvana\"', '', '46.097726', '11.126962', '10110', '2']\n",
      "['110', '24350x', 'Sp 131 \"Res. Silvana\"', '', '46.097493', '11.126925', '10110', '2']\n",
      "['115', '24355z', 'Sp 131 Al Maso Specchio', '', '46.104391', '11.123568', '10110', '2']\n",
      "['116', '24355x', 'Sp 131 Al Maso Specchio', '', '46.104353', '11.123420', '10110', '2']\n",
      "['131', '23040z', 'Sp 76 \"Piac\"', '', '46.126690', '11.114532', '10110', '1']\n",
      "['133', '23035z', 'Sp 76 \"Maregioli\"', '', '46.130755', '11.121750', '10110', '2']\n",
      "['134', '23035x', 'Sp 76 \"Maregioli\"', '', '46.130836', '11.121666', '10110', '1']\n",
      "['139', '23045z', 'Sp 76 \"Via Rossa\"', '', '46.119858', '11.111416', '10110', '2']\n",
      "['140', '23045x', 'Sp 76 \"Via Rossa\"', '', '46.119812', '11.111266', '10110', '2']\n",
      "['143', '23055z', 'Sp 76 Dos di Lamar', '', '46.124939', '11.113463', '10110', '2']\n",
      "['144', '23055x', 'Sp 76 Dos di Lamar', '', '46.124718', '11.113018', '10110', '1']\n",
      "['154', '24520z', 'Sp 131 \"Paganin\"', '', '46.106288', '11.137610', '10110', '2']\n",
      "['155', '24520x', 'Sp 131 \"Paganin\"', '', '46.106524', '11.137306', '10110', '2']\n",
      "['245', '28045z', 'Sp 85 \"Soraval\"', '', '46.083258', '11.063955', '10110', '2']\n",
      "['246', '28045x', 'Sp 85 \"Soraval\"', '', '46.083094', '11.063877', '10110', '2']\n",
      "['439', '27050z', 'Sp 90 \"Maso Prudenza\"', '', '46.028867', '11.111521', '10110', '2']\n",
      "['440', '27050x', 'Sp 90 \"Maso Prudenza\"', '', '46.029290', '11.111771', '10110', '2']\n",
      "['1296', '32651x', \"Sp.2 Loc. Beccache'\", '', '45.882087', '11.071643', '10101', '2']\n",
      "['1334', '32651z', \"Sp.2 Loc. Beccache'\", '', '45.882063', '11.071733', '10101', '2']\n",
      "['1338', '32661x', 'Sp.2 Fr. Campolongo', '', '45.886995', '11.063902', '10101', '2']\n",
      "['1339', '32671x', 'Sp.2 Noriglio', '', '45.884263', '11.070323', '10101', '2']\n",
      "['1340', '32671z', 'Sp.2 Noriglio', '', '45.884371', '11.069842', '10101', '2']\n",
      "['1341', '32661z', 'Sp.2 Fr. Campolongo', '', '45.886988', '11.063994', '10101', '2']\n",
      "['2217', '35021x', 'Brancolino Sp.90', '', '45.900719', '11.020254', '15091', '1']\n",
      "['2218', '35021z', 'Brancolino Sp.90', '', '45.900853', '11.020410', '15091', '1']\n",
      "['2285', '38601z', 'Sp.20 S.Sisinio', '', '45.924877', '11.021092', '18511', '2']\n",
      "['2286', '38611z', 'Sp.20 Zisi', '', '45.931009', '11.022102', '18511', '2']\n",
      "['2287', '38611x', 'Sp.20 Zisi', '', '45.931416', '11.022116', '18511', '2']\n",
      "['2288', '38601x', 'Sp.20 S.Sisinio', '', '45.924981', '11.021093', '18511', '2']\n",
      "['2363', '38591x', 'Sp.20 Maso Tiaf', '', '45.936511', '11.008597', '18511', '2']\n",
      "['2364', '38621x', 'Sp.20 Bivio Per Bordala', '', '45.930910', '11.007172', '18511', '2']\n",
      "['2367', '38621z', 'Sp.20 Bivio Per Bordala', '', '45.930864', '11.007233', '18511', '2']\n",
      "['2368', '38591z', 'Sp.20 Maso Tiaf', '', '45.935890', '11.008594', '18511', '2']\n",
      "['2377', '23050x', 'Sp 76 Bivio S.Lazzaro', '', '46.129006', '11.115500', '10110', '2']\n",
      "['2510', '32641z', 'Sp.2 Bivio Per Cisterna', '', '45.881281', '11.075365', '10101', '2']\n",
      "['2843', '35161x', 'Sp.20 Bivio Noarna', '', '45.915825', '11.016559', '15091', '2']\n",
      "['2844', '35161z', 'Sp.20 Bivio Noarna', '', '45.915880', '11.016803', '15091', '2']\n",
      "['2897', '32218x', 'Sp.23 \"Nero Cubo\"', '', '45.855421', '11.002179', '10101', '2']\n",
      "['2936', '37551z', 'Sp.89 Maso Brentegam', '', '45.880439', '11.050882', '10101', '2']\n"
     ]
    }
   ],
   "source": [
    "# scrivi qui\n",
    "\n",
    "import csv\n",
    "\n",
    "with open('stops.txt', encoding='utf-8', newline='') as f:\n",
    "    reader = csv.reader(f, delimiter=',')    \n",
    "    for row in reader:\n",
    "        name = row[2].upper()\n",
    "        \n",
    "        # mettere le condizioni su più righe non è necessario ma aumenta di \n",
    "        # molto la leggibilità. Notate che per poterlo fare, \n",
    "        # le espressioni devono essere racchiuse tra parentesi tonde\n",
    "        \n",
    "        if (name.find(\"SP \") >= 0 \n",
    "            or name.find(\"SP.\") == 0\n",
    "            or name.find(\" SP.\") >= 0):\n",
    "            \n",
    "            print(row)"
   ]
  },
  {
   "cell_type": "raw",
   "id": "daad792f",
   "metadata": {
    "format": "text/html"
   },
   "source": [
    "</div>"
   ]
  },
  {
   "cell_type": "code",
   "execution_count": 1,
   "metadata": {},
   "outputs": [
    {
     "name": "stdout",
     "output_type": "stream",
     "text": [
      "['5', '28060z', 'Sp 85 Bivio Sopramonte', '', '46.085226', '11.069313', '10110', '2']\n",
      "['48', '22080z', 'Sp 76 Carpenedi', '', '46.117195', '11.108678', '10110', '2']\n",
      "['49', '22080x', 'Sp 76 Carpenedi', '', '46.117171', '11.108438', '10110', '2']\n",
      "['104', '24040z', 'Sp 131 \"Maso Pradiscola\"', '', '46.083189', '11.135736', '10110', '2']\n",
      "['105', '24040x', 'Sp 131 \"Maso Pradiscola\"', '', '46.083255', '11.135874', '10110', '1']\n",
      "['109', '24350z', 'Sp 131 \"Res. Silvana\"', '', '46.097726', '11.126962', '10110', '2']\n",
      "['110', '24350x', 'Sp 131 \"Res. Silvana\"', '', '46.097493', '11.126925', '10110', '2']\n",
      "['115', '24355z', 'Sp 131 Al Maso Specchio', '', '46.104391', '11.123568', '10110', '2']\n",
      "['116', '24355x', 'Sp 131 Al Maso Specchio', '', '46.104353', '11.123420', '10110', '2']\n",
      "['131', '23040z', 'Sp 76 \"Piac\"', '', '46.126690', '11.114532', '10110', '1']\n",
      "['133', '23035z', 'Sp 76 \"Maregioli\"', '', '46.130755', '11.121750', '10110', '2']\n",
      "['134', '23035x', 'Sp 76 \"Maregioli\"', '', '46.130836', '11.121666', '10110', '1']\n",
      "['139', '23045z', 'Sp 76 \"Via Rossa\"', '', '46.119858', '11.111416', '10110', '2']\n",
      "['140', '23045x', 'Sp 76 \"Via Rossa\"', '', '46.119812', '11.111266', '10110', '2']\n",
      "['143', '23055z', 'Sp 76 Dos di Lamar', '', '46.124939', '11.113463', '10110', '2']\n",
      "['144', '23055x', 'Sp 76 Dos di Lamar', '', '46.124718', '11.113018', '10110', '1']\n",
      "['154', '24520z', 'Sp 131 \"Paganin\"', '', '46.106288', '11.137610', '10110', '2']\n",
      "['155', '24520x', 'Sp 131 \"Paganin\"', '', '46.106524', '11.137306', '10110', '2']\n",
      "['245', '28045z', 'Sp 85 \"Soraval\"', '', '46.083258', '11.063955', '10110', '2']\n",
      "['246', '28045x', 'Sp 85 \"Soraval\"', '', '46.083094', '11.063877', '10110', '2']\n",
      "['439', '27050z', 'Sp 90 \"Maso Prudenza\"', '', '46.028867', '11.111521', '10110', '2']\n",
      "['440', '27050x', 'Sp 90 \"Maso Prudenza\"', '', '46.029290', '11.111771', '10110', '2']\n",
      "['1296', '32651x', \"Sp.2 Loc. Beccache'\", '', '45.882087', '11.071643', '10101', '2']\n",
      "['1334', '32651z', \"Sp.2 Loc. Beccache'\", '', '45.882063', '11.071733', '10101', '2']\n",
      "['1338', '32661x', 'Sp.2 Fr. Campolongo', '', '45.886995', '11.063902', '10101', '2']\n",
      "['1339', '32671x', 'Sp.2 Noriglio', '', '45.884263', '11.070323', '10101', '2']\n",
      "['1340', '32671z', 'Sp.2 Noriglio', '', '45.884371', '11.069842', '10101', '2']\n",
      "['1341', '32661z', 'Sp.2 Fr. Campolongo', '', '45.886988', '11.063994', '10101', '2']\n",
      "['2217', '35021x', 'Brancolino Sp.90', '', '45.900719', '11.020254', '15091', '1']\n",
      "['2218', '35021z', 'Brancolino Sp.90', '', '45.900853', '11.020410', '15091', '1']\n",
      "['2285', '38601z', 'Sp.20 S.Sisinio', '', '45.924877', '11.021092', '18511', '2']\n",
      "['2286', '38611z', 'Sp.20 Zisi', '', '45.931009', '11.022102', '18511', '2']\n",
      "['2287', '38611x', 'Sp.20 Zisi', '', '45.931416', '11.022116', '18511', '2']\n",
      "['2288', '38601x', 'Sp.20 S.Sisinio', '', '45.924981', '11.021093', '18511', '2']\n",
      "['2363', '38591x', 'Sp.20 Maso Tiaf', '', '45.936511', '11.008597', '18511', '2']\n",
      "['2364', '38621x', 'Sp.20 Bivio Per Bordala', '', '45.930910', '11.007172', '18511', '2']\n",
      "['2367', '38621z', 'Sp.20 Bivio Per Bordala', '', '45.930864', '11.007233', '18511', '2']\n",
      "['2368', '38591z', 'Sp.20 Maso Tiaf', '', '45.935890', '11.008594', '18511', '2']\n",
      "['2377', '23050x', 'Sp 76 Bivio S.Lazzaro', '', '46.129006', '11.115500', '10110', '2']\n",
      "['2510', '32641z', 'Sp.2 Bivio Per Cisterna', '', '45.881281', '11.075365', '10101', '2']\n",
      "['2843', '35161x', 'Sp.20 Bivio Noarna', '', '45.915825', '11.016559', '15091', '2']\n",
      "['2844', '35161z', 'Sp.20 Bivio Noarna', '', '45.915880', '11.016803', '15091', '2']\n",
      "['2897', '32218x', 'Sp.23 \"Nero Cubo\"', '', '45.855421', '11.002179', '10101', '2']\n",
      "['2936', '37551z', 'Sp.89 Maso Brentegam', '', '45.880439', '11.050882', '10101', '2']\n"
     ]
    }
   ],
   "source": [
    "# scrivi qui\n",
    "\n"
   ]
  },
  {
   "cell_type": "code",
   "execution_count": 2,
   "metadata": {},
   "outputs": [
    {
     "data": {
      "text/plain": [
       "'CIAO MONDO'"
      ]
     },
     "execution_count": 2,
     "metadata": {},
     "output_type": "execute_result"
    }
   ],
   "source": [
    "\"Ciao MONDO\".upper()"
   ]
  },
  {
   "cell_type": "code",
   "execution_count": 3,
   "metadata": {},
   "outputs": [
    {
     "data": {
      "text/plain": [
       "'SOFTPYTHON'"
      ]
     },
     "execution_count": 3,
     "metadata": {},
     "output_type": "execute_result"
    }
   ],
   "source": [
    "\"SoftPython\".upper()"
   ]
  },
  {
   "cell_type": "markdown",
   "metadata": {},
   "source": [
    "**SUGGERIMENTO 3**: usa anche il metodo `find` che ritorna la posizione di una sottostringa all'interno di un'altra. "
   ]
  },
  {
   "cell_type": "code",
   "execution_count": 4,
   "metadata": {},
   "outputs": [
    {
     "data": {
      "text/plain": [
       "3"
      ]
     },
     "execution_count": 4,
     "metadata": {},
     "output_type": "execute_result"
    }
   ],
   "source": [
    "\"ab cde\".find('cd')"
   ]
  },
  {
   "cell_type": "code",
   "execution_count": 5,
   "metadata": {},
   "outputs": [
    {
     "data": {
      "text/plain": [
       "2"
      ]
     },
     "execution_count": 5,
     "metadata": {},
     "output_type": "execute_result"
    }
   ],
   "source": [
    "\"ab cde\".find(' c')"
   ]
  },
  {
   "cell_type": "markdown",
   "metadata": {},
   "source": [
    " Ricordati che gli indici delle stringhe iniziano da zero:"
   ]
  },
  {
   "cell_type": "code",
   "execution_count": 6,
   "metadata": {},
   "outputs": [
    {
     "data": {
      "text/plain": [
       "0"
      ]
     },
     "execution_count": 6,
     "metadata": {},
     "output_type": "execute_result"
    }
   ],
   "source": [
    "\"ab cde\".find('a')  "
   ]
  },
  {
   "cell_type": "markdown",
   "metadata": {},
   "source": [
    "Quando `find` non trova qualcosa ritorna `-1` per segnalarlo:"
   ]
  },
  {
   "cell_type": "code",
   "execution_count": 7,
   "metadata": {},
   "outputs": [
    {
     "data": {
      "text/plain": [
       "-1"
      ]
     },
     "execution_count": 7,
     "metadata": {},
     "output_type": "execute_result"
    }
   ],
   "source": [
    "\"ab cde\".find('z')"
   ]
  },
  {
   "cell_type": "markdown",
   "metadata": {},
   "source": [
    "Ricordati che `find` distingue tra maiuscole / minuscole, quindi non troverà la `D` maiuscola:"
   ]
  },
  {
   "cell_type": "code",
   "execution_count": 8,
   "metadata": {},
   "outputs": [
    {
     "data": {
      "text/plain": [
       "-1"
      ]
     },
     "execution_count": 8,
     "metadata": {},
     "output_type": "execute_result"
    }
   ],
   "source": [
    "\"ab cde\".find('D')"
   ]
  },
  {
   "cell_type": "markdown",
   "metadata": {},
   "source": [
    "**Discussione**\n",
    "\n",
    "Prosegui la lettura solo dopo aver provato l'esercizio precedente.\n",
    "\n",
    "Pur avendo analizzato un file piccolo, sono spuntati fuori parecchi casi da trattare. Per poter quindi filtrare agevolmente insiemi grandi di dati senza specificare mille casi particolari, è bene cominciare a pensare a tutte le caratteristiche comuni dell'_insieme_ di stringhe che vogliamo ottenere. Si può poi implementare dei filtri in Python usando le _regex_."
   ]
  },
  {
   "cell_type": "markdown",
   "metadata": {},
   "source": [
    "## 3. Introduzione alle regex\n",
    "\n",
    "\n",
    "Vediamo cosa sono queste **espressioni regolari**:\n",
    "\n",
    "> **WIKIPEDIA**\n",
    ">\n",
    "> Una *espressione regolare* (in lingua inglese regular expression o, in forma abbreviata, regexp, regex o RE) è una sequenza di simboli (quindi una stringa) che identifica un insieme di stringhe: essa definisce una funzione che prende in ingresso una stringa, e restituisce in uscita un valore del tipo sì/no, a seconda che la stringa segua o meno un certo *pattern*.\n",
    "\n",
    "L'utilizzo di una espressione regolare è sicuramente più veloce perché ci permette di cercare non solo una stringa bensì un intero insieme di stringhe, detto appunto *pattern*. Una considerazione ESERCIZIO è che nonostante i concetti riguardo le regex siano universali, alcune implementazioni si differenziano nel comportamento in alcuni casi particolari oppure aggiungendo funzionalità *non standard*. Quindi, se già avete usate le _regex_ nel vostro linguaggio preferito, state attenti a controllare le eventuali differenze con Python!\n",
    "\n",
    "### Stringhe e sequenze di escape\n",
    "\n",
    "Le _regex_ si esprimono usando semplici stringhe Python, per cui è meglio spendere 5 minuti per capire meglio alcune peculiarità delle stringhe. Quando indichiamo una stringa in Python, possiamo inserire delle squenze speciali dette _sequenze di escape_, come per esempio `\\n` in `\"ciao\\nSoftPython\"` che dice a Python che quando stampiamo la stringa, dopo aver stampato la stringa `ciao` deve andare a capo e quindi stampare la seguente `SoftPython`:"
   ]
  },
  {
   "cell_type": "code",
   "execution_count": 9,
   "metadata": {},
   "outputs": [
    {
     "name": "stdout",
     "output_type": "stream",
     "text": [
      "ciao\n",
      "SoftPython\n"
     ]
    }
   ],
   "source": [
    "print(\"ciao\\nSoftPython\")"
   ]
  },
  {
   "cell_type": "markdown",
   "metadata": {},
   "source": [
    "Se non vogliamo che Python interpreti queste sequenze, perchè vogliamo che in fase di stampa sia invece proprio stampato il `\\n`, possiamo aggiungere prima della stringa una `r` così :"
   ]
  },
  {
   "cell_type": "code",
   "execution_count": 10,
   "metadata": {},
   "outputs": [
    {
     "name": "stdout",
     "output_type": "stream",
     "text": [
      "ciao\\nSoftPython\n"
     ]
    }
   ],
   "source": [
    "print(r\"ciao\\nSoftPython\")"
   ]
  },
  {
   "cell_type": "markdown",
   "metadata": {},
   "source": [
    "La `r` prima dell'inizio della stringa serve ad indicare a Python che la seguente è una \n",
    "raw string, cioè una stringa in cui non deve espandere le *sequenze di escape* (cioè `\\` seguito da altri caratteri al fine di generare caratteri non stampabili, per esempio `\\n` è il carattere di new-line).\n",
    "\n",
    "\n",
    "**✪ ESERCIZIO 3.1**: magari già conosci le _sequenze  di escape_, si trovano in molti linguaggi. Se non le conosci, prova a scrivere i comandi qua sotto, sempre in nuove celle:\n",
    "\n",
    "* `print(\"ciao mondo\")`\n",
    "* `print(\"ciao\\tmondo\")`\n",
    "* `print(\"ciao\\nmondo\")`\n",
    "* `print(\"ciao\\rmondo\")` (questo è strano...)\n",
    "* `print(\"ciao\\\\mondo\")`\n",
    "\n",
    "Che differenze noti? E se metti il carattere `r` _davanti_ alle stringhe (quindi subito prima del doppio apice `\"`, come in `r\"hello\"`), che succede ?"
   ]
  },
  {
   "cell_type": "raw",
   "id": "d43262f2",
   "metadata": {
    "format": "text/html"
   },
   "source": [
    "<a  class=\"jupman-sol jupman-sol-toggler\" \n",
    " onclick=\"jupman.toggleSolution(this);\" \n",
    " data-jupman-show=\"Mostra soluzione\" data-jupman-hide=\"Nascondi\">Mostra soluzione</a><div class=\"jupman-sol jupman-sol-code\" style=\"display:none\">  "
   ]
  },
  {
   "cell_type": "code",
   "execution_count": 11,
   "metadata": {},
   "outputs": [
    {
     "name": "stdout",
     "output_type": "stream",
     "text": [
      "ciao mondo\n",
      "ciao\tmondo\n",
      "ciao\n",
      "mondo\n",
      "ciao\\mondo\n",
      "ciao\r",
      "mondo\n",
      "ciao mondo\n",
      "ciao\\tmondo\n",
      "ciao\\nmondo\n",
      "ciao\\\\mondo\n",
      "ciao\\rmondo\n"
     ]
    }
   ],
   "source": [
    "# scrivi qui\n",
    "\n",
    "print(\"ciao mondo\")\n",
    "print(\"ciao\\tmondo\")\n",
    "print(\"ciao\\nmondo\")\n",
    "print(\"ciao\\\\mondo\")\n",
    "print(\"ciao\\rmondo\")\n",
    "print(r\"ciao mondo\")\n",
    "print(r\"ciao\\tmondo\")\n",
    "print(r\"ciao\\nmondo\")\n",
    "print(r\"ciao\\\\mondo\")\n",
    "print(r\"ciao\\rmondo\")"
   ]
  },
  {
   "cell_type": "raw",
   "id": "5ce4f5f1",
   "metadata": {
    "format": "text/html"
   },
   "source": [
    "</div>"
   ]
  },
  {
   "cell_type": "code",
   "execution_count": 11,
   "metadata": {},
   "outputs": [
    {
     "name": "stdout",
     "output_type": "stream",
     "text": [
      "ciao mondo\n",
      "ciao\tmondo\n",
      "ciao\n",
      "mondo\n",
      "ciao\\mondo\n",
      "ciao\r",
      "mondo\n",
      "ciao mondo\n",
      "ciao\\tmondo\n",
      "ciao\\nmondo\n",
      "ciao\\\\mondo\n",
      "ciao\\rmondo\n"
     ]
    }
   ],
   "source": [
    "# scrivi qui\n",
    "\n"
   ]
  },
  {
   "cell_type": "markdown",
   "metadata": {},
   "source": [
    "\n",
    "### La nostra prima regex\n",
    "\n",
    "Proviamo ad eseguire la nostra prima regex:"
   ]
  },
  {
   "cell_type": "code",
   "execution_count": 12,
   "metadata": {},
   "outputs": [
    {
     "data": {
      "text/plain": [
       "<_sre.SRE_Match object; span=(0, 2), match='Sp'>"
      ]
     },
     "execution_count": 12,
     "metadata": {},
     "output_type": "execute_result"
    }
   ],
   "source": [
    "# diciamo a Python che vogliamo usare il modulo per usare le regex, che si chiama 're'\n",
    "# NOTA: per quanto breve,  're' è proprio il nome del modulo, non un comando speciale !\n",
    "import re   \n",
    "\n",
    "# usando la funzione search del modulo 're', effettuiamo una ricerca del pattern 'Sp'\n",
    "# dentro 'Sp.89 Maso Brentegam'\n",
    "re.search('Sp', 'Sp.89 Maso Brentegam')"
   ]
  },
  {
   "cell_type": "markdown",
   "metadata": {},
   "source": [
    "Osservando `span=(0, 2), match='Sp'` nel risultato, si vede che Python ha individuato la stringa `Sp` dicendoci che inizia alla posizione 0 (inclusa) e termina alla posizione 2 (esclusa) di `'Sp.89 Maso Brentegam'`\n",
    "\n",
    "Possiamo ottenere i numeri delle posizioni con `start()` e `end()`: "
   ]
  },
  {
   "cell_type": "code",
   "execution_count": 13,
   "metadata": {},
   "outputs": [
    {
     "data": {
      "text/plain": [
       "0"
      ]
     },
     "execution_count": 13,
     "metadata": {},
     "output_type": "execute_result"
    }
   ],
   "source": [
    "re.search('Sp', 'Sp.89 Maso Brentegam').start()"
   ]
  },
  {
   "cell_type": "code",
   "execution_count": 14,
   "metadata": {},
   "outputs": [
    {
     "data": {
      "text/plain": [
       "2"
      ]
     },
     "execution_count": 14,
     "metadata": {},
     "output_type": "execute_result"
    }
   ],
   "source": [
    "re.search('Sp', 'Sp.89 Maso Brentegam').end()"
   ]
  },
  {
   "cell_type": "markdown",
   "metadata": {},
   "source": [
    "Proviamo ora a cercare un'altra stringa che sappiamo essere presente, come `Maso`:"
   ]
  },
  {
   "cell_type": "code",
   "execution_count": 15,
   "metadata": {},
   "outputs": [
    {
     "data": {
      "text/plain": [
       "<_sre.SRE_Match object; span=(6, 10), match='Maso'>"
      ]
     },
     "execution_count": 15,
     "metadata": {},
     "output_type": "execute_result"
    }
   ],
   "source": [
    "re.search('Maso', 'Sp.89 Maso Brentegam')"
   ]
  },
  {
   "cell_type": "markdown",
   "metadata": {},
   "source": [
    "Notiamo che la stringa è stata trovata tra il sesto carattere (incluso) e il decimo (escluso)"
   ]
  },
  {
   "cell_type": "markdown",
   "metadata": {},
   "source": [
    "**ESERCIZIO**: Prova ad estrarre qua sotto le posizioni in cui la stringa sopra è stata trovata"
   ]
  },
  {
   "cell_type": "code",
   "execution_count": 16,
   "metadata": {},
   "outputs": [],
   "source": [
    "import re\n",
    "# scrivi qui"
   ]
  },
  {
   "cell_type": "markdown",
   "metadata": {},
   "source": [
    "Proviamo ora a cercare una stringa che sappiamo _non_ esserci, come `'blabla'`:"
   ]
  },
  {
   "cell_type": "code",
   "execution_count": 17,
   "metadata": {},
   "outputs": [
    {
     "name": "stdout",
     "output_type": "stream",
     "text": [
      "None\n"
     ]
    }
   ],
   "source": [
    "print(re.search('blabla', 'Sp.89 Maso Brentegam'))"
   ]
  },
  {
   "cell_type": "markdown",
   "metadata": {},
   "source": [
    "Vediamo che Python ci restituisce l'oggetto None, per indicare che non ha trovato nulla. \n",
    "\n",
    "**ESERCIZIO**: Perchè in questo caso abbiamo messo il `print`? Per capirlo, prova a scrivere qui sotto la chiamata alla `re.search` senza usare la `print`, e vedi che succede (non dovrebbe succedere proprio niente perchè Jupyter di default non ci mostra gli oggetti `None` a meno che non li stampiamo esplicitamente)"
   ]
  },
  {
   "cell_type": "code",
   "execution_count": 18,
   "metadata": {},
   "outputs": [],
   "source": [
    "import re\n",
    "# scrivi qui\n"
   ]
  },
  {
   "cell_type": "markdown",
   "metadata": {},
   "source": [
    "### Maiuscole e minuscole\n",
    "\n",
    "La ricerca nelle regex distingue tra maiuscole e minuscole, quindi se cerchiamo `SP` tutto maiuscolo in `'Sp.89 Maso Brentegam'` non vedremo nulla come risultato:  "
   ]
  },
  {
   "cell_type": "code",
   "execution_count": 19,
   "metadata": {},
   "outputs": [],
   "source": [
    "re.search('SP', 'Sp.89 Maso Brentegam')"
   ]
  },
  {
   "cell_type": "markdown",
   "metadata": {},
   "source": [
    "Per dire a Python di ignorare maiuscole/minuscole, si può aggiungere il parametro `re.I`:"
   ]
  },
  {
   "cell_type": "code",
   "execution_count": 20,
   "metadata": {},
   "outputs": [
    {
     "data": {
      "text/plain": [
       "<_sre.SRE_Match object; span=(0, 2), match='Sp'>"
      ]
     },
     "execution_count": 20,
     "metadata": {},
     "output_type": "execute_result"
    }
   ],
   "source": [
    "re.search('SP', 'Sp.89 Maso Brentegam', re.I)"
   ]
  },
  {
   "cell_type": "markdown",
   "metadata": {},
   "source": [
    "Notare come ora il parametro `match` sia più utile, perchè ci dice esattamente quali caratteri maiuscoli o minuscoli hanno fatto il match (i nquesto caso `Sp`)."
   ]
  },
  {
   "cell_type": "markdown",
   "metadata": {},
   "source": [
    "### Trovare tutti i match\n",
    "\n",
    "`re.search` ritorna il primo match trovato. Se vogliamo trovarli tutti, bisogna usare `finditer`. Per esempio, possiamo provare a cercare la stringa `ab` in `abcabd`:"
   ]
  },
  {
   "cell_type": "code",
   "execution_count": 21,
   "metadata": {},
   "outputs": [
    {
     "name": "stdout",
     "output_type": "stream",
     "text": [
      "<_sre.SRE_Match object; span=(0, 2), match='ab'>\n",
      "<_sre.SRE_Match object; span=(3, 5), match='ab'>\n"
     ]
    }
   ],
   "source": [
    "for trovato in re.finditer('ab', 'abcabd'):\n",
    "    print(trovato)\n"
   ]
  },
  {
   "cell_type": "markdown",
   "metadata": {},
   "source": [
    "**✪ ESERCIZIO 3.2**: Se provi a stampare direttamente il risultato restituito `re.finditer`, non otterrai molte informazioni. Conosci un modo per ottenere una bella lista senza usare il for ? "
   ]
  },
  {
   "cell_type": "raw",
   "id": "6bf90145",
   "metadata": {
    "format": "text/html"
   },
   "source": [
    "<a  class=\"jupman-sol jupman-sol-toggler\" \n",
    " onclick=\"jupman.toggleSolution(this);\" \n",
    " data-jupman-show=\"Mostra soluzione\" data-jupman-hide=\"Nascondi\">Mostra soluzione</a><div class=\"jupman-sol jupman-sol-code\" style=\"display:none\">  "
   ]
  },
  {
   "cell_type": "code",
   "execution_count": 22,
   "metadata": {},
   "outputs": [
    {
     "data": {
      "text/plain": [
       "[<_sre.SRE_Match object; span=(0, 2), match='ab'>,\n",
       " <_sre.SRE_Match object; span=(3, 5), match='ab'>]"
      ]
     },
     "execution_count": 22,
     "metadata": {},
     "output_type": "execute_result"
    }
   ],
   "source": [
    "# scrivi qui\n",
    "\n",
    "import re\n",
    "list(re.finditer('ab', 'abcabd'))"
   ]
  },
  {
   "cell_type": "raw",
   "id": "9f443b79",
   "metadata": {
    "format": "text/html"
   },
   "source": [
    "</div>"
   ]
  },
  {
   "cell_type": "code",
   "execution_count": 22,
   "metadata": {},
   "outputs": [
    {
     "data": {
      "text/plain": [
       "[<_sre.SRE_Match object; span=(0, 2), match='ab'>,\n",
       " <_sre.SRE_Match object; span=(3, 5), match='ab'>]"
      ]
     },
     "execution_count": 22,
     "metadata": {},
     "output_type": "execute_result"
    }
   ],
   "source": [
    "# scrivi qui\n",
    "\n"
   ]
  },
  {
   "cell_type": "markdown",
   "metadata": {},
   "source": [
    "### Il metacarattere punto\n",
    "\n",
    "Proviamo ora una regex un po' più interessante, per esempio cerchiamo nella stringa `abcabd` tutte le stringhe che iniziano con `b` e sono seguite da un solo qualsiasi carattere. Come facciamo ad indicare che vogliamo un solo carattare, ma senza specificare quale ? Possiamo usare il _metacarattere_ punto `.`, che ha un significato speciale nelle _regex_ e agisce come jolly:"
   ]
  },
  {
   "cell_type": "code",
   "execution_count": 23,
   "metadata": {},
   "outputs": [
    {
     "name": "stdout",
     "output_type": "stream",
     "text": [
      "<_sre.SRE_Match object; span=(1, 3), match='bc'>\n",
      "<_sre.SRE_Match object; span=(4, 6), match='bd'>\n"
     ]
    }
   ],
   "source": [
    "for trovato in re.finditer('b.', 'abcabd'):\n",
    "    print(trovato)"
   ]
  },
  {
   "cell_type": "markdown",
   "metadata": {},
   "source": [
    "**✪ ESERCIZIO 3.3**: Prova a cercare tutte le stringhe in `abcabd` che iniziano con `a` e sono seguite da due caratteri qualsiasi:"
   ]
  },
  {
   "cell_type": "raw",
   "id": "13bc93b1",
   "metadata": {
    "format": "text/html"
   },
   "source": [
    "<a  class=\"jupman-sol jupman-sol-toggler\" \n",
    " onclick=\"jupman.toggleSolution(this);\" \n",
    " data-jupman-show=\"Mostra soluzione\" data-jupman-hide=\"Nascondi\">Mostra soluzione</a><div class=\"jupman-sol jupman-sol-code\" style=\"display:none\">  "
   ]
  },
  {
   "cell_type": "code",
   "execution_count": 24,
   "metadata": {},
   "outputs": [
    {
     "name": "stdout",
     "output_type": "stream",
     "text": [
      "<_sre.SRE_Match object; span=(0, 3), match='abc'>\n",
      "<_sre.SRE_Match object; span=(3, 6), match='abd'>\n"
     ]
    }
   ],
   "source": [
    "import re\n",
    "\n",
    "# scrivi qui\n",
    "\n",
    "for trovato in re.finditer('a..', 'abcabd'):\n",
    "    print(trovato)\n"
   ]
  },
  {
   "cell_type": "raw",
   "id": "0081f874",
   "metadata": {
    "format": "text/html"
   },
   "source": [
    "</div>"
   ]
  },
  {
   "cell_type": "code",
   "execution_count": 24,
   "metadata": {},
   "outputs": [
    {
     "name": "stdout",
     "output_type": "stream",
     "text": [
      "<_sre.SRE_Match object; span=(0, 3), match='abc'>\n",
      "<_sre.SRE_Match object; span=(3, 6), match='abd'>\n"
     ]
    }
   ],
   "source": [
    "import re\n",
    "\n",
    "# scrivi qui\n",
    "\n"
   ]
  },
  {
   "cell_type": "markdown",
   "metadata": {},
   "source": [
    "**✪ ESERCIZIO 3.4**: Prova a cercare tutte le stringhe in `abcabd` che iniziano con un carattere qualsiasi e sono seguite da `b`:"
   ]
  },
  {
   "cell_type": "raw",
   "id": "ecf4a2d9",
   "metadata": {
    "format": "text/html"
   },
   "source": [
    "<a  class=\"jupman-sol jupman-sol-toggler\" \n",
    " onclick=\"jupman.toggleSolution(this);\" \n",
    " data-jupman-show=\"Mostra soluzione\" data-jupman-hide=\"Nascondi\">Mostra soluzione</a><div class=\"jupman-sol jupman-sol-code\" style=\"display:none\">  "
   ]
  },
  {
   "cell_type": "code",
   "execution_count": 25,
   "metadata": {},
   "outputs": [
    {
     "name": "stdout",
     "output_type": "stream",
     "text": [
      "<_sre.SRE_Match object; span=(0, 2), match='ab'>\n",
      "<_sre.SRE_Match object; span=(3, 5), match='ab'>\n"
     ]
    }
   ],
   "source": [
    "import re\n",
    "# scrivi qui\n",
    "\n",
    "for trovato in re.finditer('.b', 'abcabd'):\n",
    "    print(trovato)"
   ]
  },
  {
   "cell_type": "raw",
   "id": "dae70f87",
   "metadata": {
    "format": "text/html"
   },
   "source": [
    "</div>"
   ]
  },
  {
   "cell_type": "code",
   "execution_count": 25,
   "metadata": {},
   "outputs": [
    {
     "name": "stdout",
     "output_type": "stream",
     "text": [
      "<_sre.SRE_Match object; span=(0, 2), match='ab'>\n",
      "<_sre.SRE_Match object; span=(3, 5), match='ab'>\n"
     ]
    }
   ],
   "source": [
    "import re\n",
    "# scrivi qui\n",
    "\n"
   ]
  },
  {
   "cell_type": "markdown",
   "metadata": {},
   "source": [
    "Abbiamo capito che i punti sono caratteri speciali. E se volessimo cercare invece proprio un punto, per distinguire per esempio `Sp.89 Maso Brentegam` da `Sp 85 Bivio Sopramonte` che invece ha lo spazio dopo `Sp`? Per filtIn questo caso, prima del punto dovremmo usare il carattere di barra rovesciata  `\\` , detto anche `carattere di escape`:"
   ]
  },
  {
   "cell_type": "code",
   "execution_count": 26,
   "metadata": {},
   "outputs": [
    {
     "data": {
      "text/plain": [
       "<_sre.SRE_Match object; span=(0, 3), match='Sp.'>"
      ]
     },
     "execution_count": 26,
     "metadata": {},
     "output_type": "execute_result"
    }
   ],
   "source": [
    "re.search('Sp\\.', 'Sp.89 Maso Brentegam')"
   ]
  },
  {
   "cell_type": "markdown",
   "metadata": {},
   "source": [
    "Mettendo `Sp 85 Bivio Sopramonte` non dovrebbe trovare nulla (lo spazio non è un punto!):"
   ]
  },
  {
   "cell_type": "code",
   "execution_count": 27,
   "metadata": {},
   "outputs": [],
   "source": [
    "re.search('Sp\\.', 'Sp 85 Bivio Sopramonte')"
   ]
  },
  {
   "cell_type": "markdown",
   "metadata": {},
   "source": [
    "**✪✪ ESERCIZIO 3.5**: Prova a trovare tutte le stringhe che contengono un punto seguito da qualsiasi carattere nella stringa `'il.corso.soft.python'`  (dovrebbe trovare match per `.c`, `.s` e `.p`):"
   ]
  },
  {
   "cell_type": "raw",
   "id": "377189eb",
   "metadata": {
    "format": "text/html"
   },
   "source": [
    "<a  class=\"jupman-sol jupman-sol-toggler\" \n",
    " onclick=\"jupman.toggleSolution(this);\" \n",
    " data-jupman-show=\"Mostra soluzione\" data-jupman-hide=\"Nascondi\">Mostra soluzione</a><div class=\"jupman-sol jupman-sol-code\" style=\"display:none\">  "
   ]
  },
  {
   "cell_type": "code",
   "execution_count": 28,
   "metadata": {},
   "outputs": [
    {
     "name": "stdout",
     "output_type": "stream",
     "text": [
      "<_sre.SRE_Match object; span=(2, 4), match='.c'>\n",
      "<_sre.SRE_Match object; span=(8, 10), match='.s'>\n",
      "<_sre.SRE_Match object; span=(13, 15), match='.p'>\n"
     ]
    }
   ],
   "source": [
    "import re\n",
    "\n",
    "# scrivi qui\n",
    "\n",
    "for trovato in re.finditer('\\..', 'il.corso.soft.python'):\n",
    "    print(trovato)"
   ]
  },
  {
   "cell_type": "raw",
   "id": "ff49a6a0",
   "metadata": {
    "format": "text/html"
   },
   "source": [
    "</div>"
   ]
  },
  {
   "cell_type": "code",
   "execution_count": 28,
   "metadata": {},
   "outputs": [
    {
     "name": "stdout",
     "output_type": "stream",
     "text": [
      "<_sre.SRE_Match object; span=(2, 4), match='.c'>\n",
      "<_sre.SRE_Match object; span=(8, 10), match='.s'>\n",
      "<_sre.SRE_Match object; span=(13, 15), match='.p'>\n"
     ]
    }
   ],
   "source": [
    "import re\n",
    "\n",
    "# scrivi qui\n",
    "\n"
   ]
  },
  {
   "cell_type": "markdown",
   "metadata": {},
   "source": [
    "### Scriviamoci una funzione di test\n",
    "\n",
    "Dato che scrivere i comandi per stampare i risultati dei test può diventare ripetitivo e noioso, ci conviene creare una _funzione_  con dentro delle istruzioni di stampa da eseguire automaticamente (per più info sulle funzioni, vedi [capitolo 3 Pensare in Python ](https://davidleoni.github.io/ThinkPythonItalian/html/thinkpython2004.html)):"
   ]
  },
  {
   "cell_type": "code",
   "execution_count": 29,
   "metadata": {},
   "outputs": [
    {
     "name": "stdout",
     "output_type": "stream",
     "text": [
      "None\n",
      "<_sre.SRE_Match object; span=(0, 2), match='Sp'>\n",
      "<_sre.SRE_Match object; span=(0, 2), match='Sp'>\n",
      "<_sre.SRE_Match object; span=(0, 2), match='sp'>\n",
      "<_sre.SRE_Match object; span=(11, 13), match='Sp'>\n"
     ]
    }
   ],
   "source": [
    "import re\n",
    "\n",
    "def test_regex(pattern):\n",
    "    names = ['Baselga del Bondone',\n",
    "             'Spini Bregenz', \n",
    "             'Sp.89 Maso Brentegam', \n",
    "             'sp 90 \"Maso Prudenza\"', \n",
    "             'Brancolino Sp.90']\n",
    "    for name in names:\n",
    "        print(re.search(pattern, name, re.I))\n",
    "    \n",
    "test_regex(\"SP\")"
   ]
  },
  {
   "cell_type": "markdown",
   "metadata": {},
   "source": [
    "\n",
    "In Python, le funzioni si dichiarano con la parola riservata `def` seguita dal nome della funzione che scegliamo arbitrariamente noi.  In questo caso il nome scelto è `test_regex`:\n",
    "\n",
    "```python\n",
    "def test_regex(pattern):\n",
    "```\n",
    "Poi, a questa funzione abbiamo deciso che bisognerà passare un parametro, che chiamiamo `pattern` (ma potremmo chiamarlo come ci pare, anche `pippo`).\n",
    "\n",
    "**NOTA**: alla fine della prima riga, ci sono dei due punti `:` se dimentichi di metterli potresti trovarti con strani errori di syntassi ! \n",
    "\n",
    "La nostra funzione farà qualcosa con questa variabile che abbiamo chiamato `pattern`:\n",
    "\n",
    "```python\n",
    "def test_regex(pattern):\n",
    "    names = ['Baselga Del Bondone',\n",
    "             'Spini Bregenz',\n",
    "             'Sp.89 Maso Brentegam', \n",
    "             'sp 90 \"Maso Prudenza\"', \n",
    "             'Brancolino Sp.90']\n",
    "    for name in names:\n",
    "        print(re.search(pattern, name, re.I))\n",
    "```\n",
    "\n",
    "In questo caso, per ciascun nome, eseguirà questa riga (vedremo in seguito il contenuto della `print`):\n",
    "\n",
    "```python\n",
    "print(re.search(pattern, name, re.I))\n",
    "```\n",
    "\n",
    "sfruttando la variabile `pattern` che passeremo al momento di chiamare la funzione: \n",
    "\n"
   ]
  },
  {
   "cell_type": "code",
   "execution_count": 30,
   "metadata": {},
   "outputs": [
    {
     "name": "stdout",
     "output_type": "stream",
     "text": [
      "None\n",
      "<_sre.SRE_Match object; span=(0, 2), match='Sp'>\n",
      "<_sre.SRE_Match object; span=(0, 2), match='Sp'>\n",
      "<_sre.SRE_Match object; span=(0, 2), match='sp'>\n",
      "<_sre.SRE_Match object; span=(11, 13), match='Sp'>\n"
     ]
    }
   ],
   "source": [
    "test_regex(\"SP\")"
   ]
  },
  {
   "cell_type": "markdown",
   "metadata": {},
   "source": [
    "**✪ ESERCIZIO 3.6**: Copia a mano la funzione di sopra qua sotto, ed eseguila con Control + Invio:"
   ]
  },
  {
   "cell_type": "raw",
   "id": "5775010c",
   "metadata": {
    "format": "text/html"
   },
   "source": [
    "<a  class=\"jupman-sol jupman-sol-toggler\" \n",
    " onclick=\"jupman.toggleSolution(this);\" \n",
    " data-jupman-show=\"Mostra soluzione\" data-jupman-hide=\"Nascondi\">Mostra soluzione</a><div class=\"jupman-sol jupman-sol-code\" style=\"display:none\">  "
   ]
  },
  {
   "cell_type": "code",
   "execution_count": 31,
   "metadata": {},
   "outputs": [
    {
     "name": "stdout",
     "output_type": "stream",
     "text": [
      "<_sre.SRE_Match object; span=(0, 2), match='Sp'>\n",
      "<_sre.SRE_Match object; span=(0, 2), match='Sp'>\n",
      "<_sre.SRE_Match object; span=(0, 2), match='sp'>\n",
      "<_sre.SRE_Match object; span=(11, 13), match='Sp'>\n"
     ]
    }
   ],
   "source": [
    "# scrivi qui\n",
    "\n",
    "import re\n",
    "\n",
    "def test_regex(pattern):\n",
    "    names = ['Spini Bregenz', \n",
    "             'Sp.89 Maso Brentegam', \n",
    "             'sp 90 \"Maso Prudenza\"', \n",
    "             'Brancolino Sp.90']\n",
    "    for name in names:\n",
    "        print(re.search(pattern, name, re.I))\n",
    "    \n",
    "test_regex(\"SP\")"
   ]
  },
  {
   "cell_type": "raw",
   "id": "14370950",
   "metadata": {
    "format": "text/html"
   },
   "source": [
    "</div>"
   ]
  },
  {
   "cell_type": "code",
   "execution_count": 31,
   "metadata": {},
   "outputs": [
    {
     "name": "stdout",
     "output_type": "stream",
     "text": [
      "<_sre.SRE_Match object; span=(0, 2), match='Sp'>\n",
      "<_sre.SRE_Match object; span=(0, 2), match='Sp'>\n",
      "<_sre.SRE_Match object; span=(0, 2), match='sp'>\n",
      "<_sre.SRE_Match object; span=(11, 13), match='Sp'>\n"
     ]
    }
   ],
   "source": [
    "# scrivi qui\n",
    "\n"
   ]
  },
  {
   "cell_type": "markdown",
   "metadata": {},
   "source": [
    "\n",
    "### Filtriamo bene gli sp\n",
    "\n",
    "È ora di usare la nostra prima regex 'seria', per farlo dobbiamo guardare le differenze tra le stringhe corrette e quella errata: in questo caso sappiamo che ogni *strada provinciale* ha un numero. Proviamo con questa regex:\n"
   ]
  },
  {
   "cell_type": "code",
   "execution_count": 32,
   "metadata": {},
   "outputs": [
    {
     "name": "stdout",
     "output_type": "stream",
     "text": [
      "None\n",
      "<_sre.SRE_Match object; span=(0, 5), match='Sp.89'>\n",
      "<_sre.SRE_Match object; span=(0, 5), match='sp 90'>\n",
      "<_sre.SRE_Match object; span=(11, 16), match='Sp.90'>\n"
     ]
    }
   ],
   "source": [
    "test_regex(r\"sp.\\d\\d\")"
   ]
  },
  {
   "cell_type": "markdown",
   "metadata": {},
   "source": [
    "Tornando alla regex  `r\"sp.\\d\\d\"`:\n",
    "\n",
    "- Come detto nella sezione precedente, la `r` prima dell'inizio della stringa serve ad indicare a Python che la seguente è una raw string, cioè una stringa in cui non deve espandere le *sequenze di escape* (cioè `\\` seguito da altri caratteri al fine di generare caratteri non stampabili, per esempio `\\n` è il carattere di new-line).\n",
    "- Abbiamo visto che le lettere dell'alfabeto (e i numeri) hanno semplicemente il loro valore.\n",
    "- Come detto in precedenza, il carattere `.` in questo caso è un *metacarattere* che in questo caso si comporta come un \"jolly\" e può identificare qualsiasi carattere ad eccezione de carattere di fine riga (solitamente).\n",
    "- `\\d` sono due caratteri ma ai fini della regex sono da considerarsi uno solo. Ogni volta che vediamo il carattere `\\` è da considerarsi assieme al carattere successivo. Il significato in questo caso è una qualsiasi cifra tra `0` e `9`."
   ]
  },
  {
   "cell_type": "markdown",
   "metadata": {},
   "source": [
    "**✪✪✪ ESERCIZIO 3.7**: Prova ad integrare l'esempio di regex qui sopra con quello di lettura  del file [stops.txt](stops.txt) precedente, usando nell'`if` le regex invece delle `find` (se non lo hai risolto prendilo [dalle soluzioni](regex-sol.ipynb)):"
   ]
  },
  {
   "cell_type": "raw",
   "id": "4053ec5a",
   "metadata": {
    "format": "text/html"
   },
   "source": [
    "<a  class=\"jupman-sol jupman-sol-toggler\" \n",
    " onclick=\"jupman.toggleSolution(this);\" \n",
    " data-jupman-show=\"Mostra soluzione\" data-jupman-hide=\"Nascondi\">Mostra soluzione</a><div class=\"jupman-sol jupman-sol-code\" style=\"display:none\">  "
   ]
  },
  {
   "cell_type": "code",
   "execution_count": 33,
   "metadata": {},
   "outputs": [
    {
     "name": "stdout",
     "output_type": "stream",
     "text": [
      "['5', '28060z', 'Sp 85 Bivio Sopramonte', '', '46.085226', '11.069313', '10110', '2']\n",
      "['48', '22080z', 'Sp 76 Carpenedi', '', '46.117195', '11.108678', '10110', '2']\n",
      "['49', '22080x', 'Sp 76 Carpenedi', '', '46.117171', '11.108438', '10110', '2']\n",
      "['104', '24040z', 'Sp 131 \"Maso Pradiscola\"', '', '46.083189', '11.135736', '10110', '2']\n",
      "['105', '24040x', 'Sp 131 \"Maso Pradiscola\"', '', '46.083255', '11.135874', '10110', '1']\n",
      "['109', '24350z', 'Sp 131 \"Res. Silvana\"', '', '46.097726', '11.126962', '10110', '2']\n",
      "['110', '24350x', 'Sp 131 \"Res. Silvana\"', '', '46.097493', '11.126925', '10110', '2']\n",
      "['115', '24355z', 'Sp 131 Al Maso Specchio', '', '46.104391', '11.123568', '10110', '2']\n",
      "['116', '24355x', 'Sp 131 Al Maso Specchio', '', '46.104353', '11.123420', '10110', '2']\n",
      "['131', '23040z', 'Sp 76 \"Piac\"', '', '46.126690', '11.114532', '10110', '1']\n",
      "['133', '23035z', 'Sp 76 \"Maregioli\"', '', '46.130755', '11.121750', '10110', '2']\n",
      "['134', '23035x', 'Sp 76 \"Maregioli\"', '', '46.130836', '11.121666', '10110', '1']\n",
      "['139', '23045z', 'Sp 76 \"Via Rossa\"', '', '46.119858', '11.111416', '10110', '2']\n",
      "['140', '23045x', 'Sp 76 \"Via Rossa\"', '', '46.119812', '11.111266', '10110', '2']\n",
      "['143', '23055z', 'Sp 76 Dos di Lamar', '', '46.124939', '11.113463', '10110', '2']\n",
      "['144', '23055x', 'Sp 76 Dos di Lamar', '', '46.124718', '11.113018', '10110', '1']\n",
      "['154', '24520z', 'Sp 131 \"Paganin\"', '', '46.106288', '11.137610', '10110', '2']\n",
      "['155', '24520x', 'Sp 131 \"Paganin\"', '', '46.106524', '11.137306', '10110', '2']\n",
      "['245', '28045z', 'Sp 85 \"Soraval\"', '', '46.083258', '11.063955', '10110', '2']\n",
      "['246', '28045x', 'Sp 85 \"Soraval\"', '', '46.083094', '11.063877', '10110', '2']\n",
      "['439', '27050z', 'Sp 90 \"Maso Prudenza\"', '', '46.028867', '11.111521', '10110', '2']\n",
      "['440', '27050x', 'Sp 90 \"Maso Prudenza\"', '', '46.029290', '11.111771', '10110', '2']\n",
      "['2217', '35021x', 'Brancolino Sp.90', '', '45.900719', '11.020254', '15091', '1']\n",
      "['2218', '35021z', 'Brancolino Sp.90', '', '45.900853', '11.020410', '15091', '1']\n",
      "['2285', '38601z', 'Sp.20 S.Sisinio', '', '45.924877', '11.021092', '18511', '2']\n",
      "['2286', '38611z', 'Sp.20 Zisi', '', '45.931009', '11.022102', '18511', '2']\n",
      "['2287', '38611x', 'Sp.20 Zisi', '', '45.931416', '11.022116', '18511', '2']\n",
      "['2288', '38601x', 'Sp.20 S.Sisinio', '', '45.924981', '11.021093', '18511', '2']\n",
      "['2363', '38591x', 'Sp.20 Maso Tiaf', '', '45.936511', '11.008597', '18511', '2']\n",
      "['2364', '38621x', 'Sp.20 Bivio Per Bordala', '', '45.930910', '11.007172', '18511', '2']\n",
      "['2367', '38621z', 'Sp.20 Bivio Per Bordala', '', '45.930864', '11.007233', '18511', '2']\n",
      "['2368', '38591z', 'Sp.20 Maso Tiaf', '', '45.935890', '11.008594', '18511', '2']\n",
      "['2377', '23050x', 'Sp 76 Bivio S.Lazzaro', '', '46.129006', '11.115500', '10110', '2']\n",
      "['2843', '35161x', 'Sp.20 Bivio Noarna', '', '45.915825', '11.016559', '15091', '2']\n",
      "['2844', '35161z', 'Sp.20 Bivio Noarna', '', '45.915880', '11.016803', '15091', '2']\n",
      "['2897', '32218x', 'Sp.23 \"Nero Cubo\"', '', '45.855421', '11.002179', '10101', '2']\n",
      "['2936', '37551z', 'Sp.89 Maso Brentegam', '', '45.880439', '11.050882', '10101', '2']\n"
     ]
    }
   ],
   "source": [
    "# scrivi qui\n",
    "\n",
    "import csv\n",
    "import re\n",
    "\n",
    "with open('stops.txt', encoding='utf-8', newline='') as f:\n",
    "    reader = csv.reader(f, delimiter=',')    \n",
    "    for row in reader:\n",
    "        if re.search(r'sp.\\d\\d', row[2], re.I):\n",
    "            print(row)"
   ]
  },
  {
   "cell_type": "raw",
   "id": "0e2e16d5",
   "metadata": {
    "format": "text/html"
   },
   "source": [
    "</div>"
   ]
  },
  {
   "cell_type": "code",
   "execution_count": 33,
   "metadata": {},
   "outputs": [
    {
     "name": "stdout",
     "output_type": "stream",
     "text": [
      "['5', '28060z', 'Sp 85 Bivio Sopramonte', '', '46.085226', '11.069313', '10110', '2']\n",
      "['48', '22080z', 'Sp 76 Carpenedi', '', '46.117195', '11.108678', '10110', '2']\n",
      "['49', '22080x', 'Sp 76 Carpenedi', '', '46.117171', '11.108438', '10110', '2']\n",
      "['104', '24040z', 'Sp 131 \"Maso Pradiscola\"', '', '46.083189', '11.135736', '10110', '2']\n",
      "['105', '24040x', 'Sp 131 \"Maso Pradiscola\"', '', '46.083255', '11.135874', '10110', '1']\n",
      "['109', '24350z', 'Sp 131 \"Res. Silvana\"', '', '46.097726', '11.126962', '10110', '2']\n",
      "['110', '24350x', 'Sp 131 \"Res. Silvana\"', '', '46.097493', '11.126925', '10110', '2']\n",
      "['115', '24355z', 'Sp 131 Al Maso Specchio', '', '46.104391', '11.123568', '10110', '2']\n",
      "['116', '24355x', 'Sp 131 Al Maso Specchio', '', '46.104353', '11.123420', '10110', '2']\n",
      "['131', '23040z', 'Sp 76 \"Piac\"', '', '46.126690', '11.114532', '10110', '1']\n",
      "['133', '23035z', 'Sp 76 \"Maregioli\"', '', '46.130755', '11.121750', '10110', '2']\n",
      "['134', '23035x', 'Sp 76 \"Maregioli\"', '', '46.130836', '11.121666', '10110', '1']\n",
      "['139', '23045z', 'Sp 76 \"Via Rossa\"', '', '46.119858', '11.111416', '10110', '2']\n",
      "['140', '23045x', 'Sp 76 \"Via Rossa\"', '', '46.119812', '11.111266', '10110', '2']\n",
      "['143', '23055z', 'Sp 76 Dos di Lamar', '', '46.124939', '11.113463', '10110', '2']\n",
      "['144', '23055x', 'Sp 76 Dos di Lamar', '', '46.124718', '11.113018', '10110', '1']\n",
      "['154', '24520z', 'Sp 131 \"Paganin\"', '', '46.106288', '11.137610', '10110', '2']\n",
      "['155', '24520x', 'Sp 131 \"Paganin\"', '', '46.106524', '11.137306', '10110', '2']\n",
      "['245', '28045z', 'Sp 85 \"Soraval\"', '', '46.083258', '11.063955', '10110', '2']\n",
      "['246', '28045x', 'Sp 85 \"Soraval\"', '', '46.083094', '11.063877', '10110', '2']\n",
      "['439', '27050z', 'Sp 90 \"Maso Prudenza\"', '', '46.028867', '11.111521', '10110', '2']\n",
      "['440', '27050x', 'Sp 90 \"Maso Prudenza\"', '', '46.029290', '11.111771', '10110', '2']\n",
      "['2217', '35021x', 'Brancolino Sp.90', '', '45.900719', '11.020254', '15091', '1']\n",
      "['2218', '35021z', 'Brancolino Sp.90', '', '45.900853', '11.020410', '15091', '1']\n",
      "['2285', '38601z', 'Sp.20 S.Sisinio', '', '45.924877', '11.021092', '18511', '2']\n",
      "['2286', '38611z', 'Sp.20 Zisi', '', '45.931009', '11.022102', '18511', '2']\n",
      "['2287', '38611x', 'Sp.20 Zisi', '', '45.931416', '11.022116', '18511', '2']\n",
      "['2288', '38601x', 'Sp.20 S.Sisinio', '', '45.924981', '11.021093', '18511', '2']\n",
      "['2363', '38591x', 'Sp.20 Maso Tiaf', '', '45.936511', '11.008597', '18511', '2']\n",
      "['2364', '38621x', 'Sp.20 Bivio Per Bordala', '', '45.930910', '11.007172', '18511', '2']\n",
      "['2367', '38621z', 'Sp.20 Bivio Per Bordala', '', '45.930864', '11.007233', '18511', '2']\n",
      "['2368', '38591z', 'Sp.20 Maso Tiaf', '', '45.935890', '11.008594', '18511', '2']\n",
      "['2377', '23050x', 'Sp 76 Bivio S.Lazzaro', '', '46.129006', '11.115500', '10110', '2']\n",
      "['2843', '35161x', 'Sp.20 Bivio Noarna', '', '45.915825', '11.016559', '15091', '2']\n",
      "['2844', '35161z', 'Sp.20 Bivio Noarna', '', '45.915880', '11.016803', '15091', '2']\n",
      "['2897', '32218x', 'Sp.23 \"Nero Cubo\"', '', '45.855421', '11.002179', '10101', '2']\n",
      "['2936', '37551z', 'Sp.89 Maso Brentegam', '', '45.880439', '11.050882', '10101', '2']\n"
     ]
    }
   ],
   "source": [
    "# scrivi qui\n",
    "\n"
   ]
  },
  {
   "cell_type": "markdown",
   "metadata": {},
   "source": [
    "## 4. Sintassi delle Python RegEx\n",
    "\n",
    "Proviamo ora a guardare alcuni meta-caratteri importanti nelle regular expression in Python - scusate per l'orribile tabella ma fare tabelle in Jupyter è [sempre problematico](https://github.com/jupyter/notebook/issues/3024)\n",
    "\n",
    "### Metacaratteri\n",
    "\n",
    "| Modificatore | Descrizione |\n",
    "|:---:|:---:|\n",
    "| `\\` | usato come *escape* (cioè segnalare che il carattere a seguire, nonostante sia un carattere speciale deve essere trattato come se non lo fosse) o per iniziare una *sequenza* (vedi sotto). |\n",
    "| `.` | usato per rappresentare un qualsiasi carattere ad eccezione della nuova linea (con l'opzione `re.A` possiamo rimuovere anche questa eccezione). |\n",
    "| `^` | usato per indicare l'inizio della riga |\n",
    "| `$` | usato per indicare la fine della riga |\n",
    "| `[...]` | usate per racchiudere l'insieme di caratteri che verificano questa espressione regolare |\n",
    "| `[^...]` | usate per racchiudere l'insieme di caratteri che se presenti **NON** verificano questa espressione regolare |\n",
    "| `A` &#124; `B` | usato per indicare una rappresentazione alternativa, è valida sia che appaia `A`, sia che appaia `B` |\n",
    "| `()` | usate come in matematica per indicare la precedenza sulle operazioni |\n",
    "\n",
    "Nel codice qui sotto definiamo la funzione `test_regex_num()` che è come quella già ma vista, ma usando dei numeri di telefono al posto dei nomi delle fermate; per ogni numero controlliamo se l'espressione regolare viene soddisfatta e se lo è lo stampiamo ed in fine testiamo varie proprietà di questi numeri di telefono."
   ]
  },
  {
   "cell_type": "code",
   "execution_count": 34,
   "metadata": {},
   "outputs": [
    {
     "name": "stdout",
     "output_type": "stream",
     "text": [
      "Tutti i numeri che contengono 33\n",
      "3303303367\n",
      "3232123323\n",
      "3383123222\n",
      "-----\n",
      "Tutti i numeri che iniziano per 33\n",
      "3303303367\n",
      "3383123222\n",
      "-----\n",
      "Tutti i numeri che hanno come penultima cifra 2\n",
      "3232123323\n",
      "3383123222\n",
      "-----\n",
      "Tutti i numeri che contengono 212 o 312\n",
      "3232123323\n",
      "3383123222\n",
      "-----\n",
      "3232123323\n",
      "3383123222\n",
      "-----\n",
      "3232123323\n",
      "3383123222\n",
      "-----\n"
     ]
    }
   ],
   "source": [
    "import re\n",
    "def test_regex_num(pattern):  \n",
    "    numbers = ['3471234567',  #NOTA: i numeri sono in formato stringa !!!!\n",
    "             '3303303367', \n",
    "             '3232123323', \n",
    "             '3383123222']\n",
    "    for num in numbers:\n",
    "        if re.search(pattern, num):\n",
    "            print(num)\n",
    "    print(\"-----\")\n",
    "\n",
    "print(\"Tutti i numeri che contengono 33\")\n",
    "test_regex_num(\"33\")\n",
    "print(\"Tutti i numeri che iniziano per 33\")\n",
    "test_regex_num(\"^33\")\n",
    "print(\"Tutti i numeri che hanno come penultima cifra 2\")\n",
    "test_regex_num(\"2.$\")\n",
    "print(\"Tutti i numeri che contengono 212 o 312\")\n",
    "test_regex_num(\"212|312\")\n",
    "# Oppure\n",
    "test_regex_num(\"[23]12\")\n",
    "# Oppure\n",
    "test_regex_num(\"(2|3)12\")\n"
   ]
  },
  {
   "cell_type": "markdown",
   "metadata": {},
   "source": [
    "**✪✪ ESERCIZIO 4.1** Prova a scrivere qua sotto i pattern che soddisfano le proprietà richieste nelle chiamate a `test_regex_num`. Cerca di *non guardare* all'esercizio precedente:"
   ]
  },
  {
   "cell_type": "code",
   "execution_count": 35,
   "metadata": {},
   "outputs": [
    {
     "name": "stdout",
     "output_type": "stream",
     "text": [
      "Tutti i numeri che contengono 32\n",
      "3471234567\n",
      "3303303367\n",
      "3232123323\n",
      "3383123222\n",
      "-----\n",
      "Tutti i numeri che finiscono per 67\n",
      "3471234567\n",
      "3303303367\n",
      "3232123323\n",
      "3383123222\n",
      "-----\n",
      "Tutti i numeri che hanno come quarta cifra 3\n",
      "3471234567\n",
      "3303303367\n",
      "3232123323\n",
      "3383123222\n",
      "-----\n",
      "Tutti i numeri che contengono 232 o 233 o 234\n",
      "3471234567\n",
      "3303303367\n",
      "3232123323\n",
      "3383123222\n",
      "-----\n",
      "3471234567\n",
      "3303303367\n",
      "3232123323\n",
      "3383123222\n",
      "-----\n",
      "3471234567\n",
      "3303303367\n",
      "3232123323\n",
      "3383123222\n",
      "-----\n"
     ]
    }
   ],
   "source": [
    "import re\n",
    "\n",
    "def test_regex_num(pattern):\n",
    "    numbers = ['3471234567', \n",
    "             '3303303367', \n",
    "             '3232123323', \n",
    "             '3383123222']\n",
    "    for num in numbers:\n",
    "        if re.search(pattern, num):\n",
    "            print(num)\n",
    "    print(\"-----\")\n",
    "\n",
    "print(\"Tutti i numeri che contengono 32\")\n",
    "test_regex_num(\"\")    # metti il pattern giusto\n",
    "\n",
    "print(\"Tutti i numeri che finiscono per 67\")\n",
    "test_regex_num(\"\")\n",
    "\n",
    "print(\"Tutti i numeri che hanno come quarta cifra 3\")\n",
    "test_regex_num(\"\")\n",
    "\n",
    "print(\"Tutti i numeri che contengono 232 o 233 o 234\")\n",
    "test_regex_num(\"\")\n",
    "# Oppure\n",
    "test_regex_num(\"\")\n",
    "# Oppure\n",
    "test_regex_num(\"\")"
   ]
  },
  {
   "cell_type": "raw",
   "id": "25e93273",
   "metadata": {
    "format": "text/html"
   },
   "source": [
    "<a  class=\"jupman-sol jupman-sol-toggler\" \n",
    " onclick=\"jupman.toggleSolution(this);\" \n",
    " data-jupman-show=\"Mostra soluzione\" data-jupman-hide=\"Nascondi\">Mostra soluzione</a><div class=\"jupman-sol jupman-sol-code\" style=\"display:none\">  "
   ]
  },
  {
   "cell_type": "code",
   "execution_count": 36,
   "metadata": {},
   "outputs": [
    {
     "name": "stdout",
     "output_type": "stream",
     "text": [
      "Tutti i numeri che contengono 32\n",
      "3232123323\n",
      "3383123222\n",
      "-----\n",
      "Tutti i numeri che finiscono per 67\n",
      "3471234567\n",
      "3303303367\n",
      "-----\n",
      "Tutti i numeri che hanno come quarta cifra 3\n",
      "3303303367\n",
      "3383123222\n",
      "-----\n",
      "Tutti i numeri che contengono 232 o 233 o 234\n",
      "3471234567\n",
      "3232123323\n",
      "3383123222\n",
      "-----\n",
      "3471234567\n",
      "3232123323\n",
      "3383123222\n",
      "-----\n",
      "3471234567\n",
      "3232123323\n",
      "3383123222\n",
      "-----\n"
     ]
    }
   ],
   "source": [
    "# SOLUZIONE\n",
    "\n",
    "print(\"Tutti i numeri che contengono 32\")\n",
    "test_regex_num(\"32\")\n",
    "\n",
    "print(\"Tutti i numeri che finiscono per 67\")\n",
    "test_regex_num(\"67$\")\n",
    "\n",
    "print(\"Tutti i numeri che hanno come quarta cifra 3\")\n",
    "test_regex_num(\"^...3\")\n",
    "\n",
    "print(\"Tutti i numeri che contengono 232 o 233 o 234\")\n",
    "test_regex_num(\"232|233|234\")\n",
    "# Oppure\n",
    "test_regex_num(\"23[234]\")\n",
    "# Oppure\n",
    "test_regex_num(\"23(2|3|4)\")\n",
    "# Oppure\n",
    "#test_regex(\"23[2-4]\")\n"
   ]
  },
  {
   "cell_type": "raw",
   "id": "fa198538",
   "metadata": {
    "format": "text/html"
   },
   "source": [
    "</div>"
   ]
  },
  {
   "cell_type": "code",
   "execution_count": 36,
   "metadata": {},
   "outputs": [
    {
     "name": "stdout",
     "output_type": "stream",
     "text": [
      "Tutti i numeri che contengono 32\n",
      "3232123323\n",
      "3383123222\n",
      "-----\n",
      "Tutti i numeri che finiscono per 67\n",
      "3471234567\n",
      "3303303367\n",
      "-----\n",
      "Tutti i numeri che hanno come quarta cifra 3\n",
      "3303303367\n",
      "3383123222\n",
      "-----\n",
      "Tutti i numeri che contengono 232 o 233 o 234\n",
      "3471234567\n",
      "3232123323\n",
      "3383123222\n",
      "-----\n",
      "3471234567\n",
      "3232123323\n",
      "3383123222\n",
      "-----\n",
      "3471234567\n",
      "3232123323\n",
      "3383123222\n",
      "-----\n"
     ]
    }
   ],
   "source": []
  },
  {
   "cell_type": "markdown",
   "metadata": {},
   "source": [
    "### Ripetizioni\n",
    "\n",
    "Le espressioni regolari possono anche gestire delle ripetizioni di particolari pattern utilizzando altri caratteri speciali. \n",
    "\n",
    "| Modificatori | Descrizione |\n",
    "| :---: | :--- |\n",
    "| `{m, n}` | il carattere o gruppo a cui è riferito viene ripetuto almeno `m` volte fino ad un massimo di `n` volte. |\n",
    "| `{m}` | il carrattere o il gruppo a cui è riferito viene ripetuto esattamente `m` volte |\n",
    "| `?` | il carattere o il gruppo a cui è riferito viene ripetuto `0` o `1` volta. Equivale a `{,1}`. |\n",
    "| `*` | il carattere o il gruppo a cui è riferito viene ripetuto `0` o più volte . Equivale a `{,}`. |\n",
    "| `+` | il carattere o il gruppo a cui è riferito viene ripetuto `1` o più volte. Equivale a `{1,}`. |\n",
    "\n",
    "I caratteri o gruppi a cui si riferiscono i `modificatori delle ripetizioni` appena precedenti ad essi, vediamo un esempio"
   ]
  },
  {
   "cell_type": "code",
   "execution_count": 37,
   "metadata": {},
   "outputs": [
    {
     "name": "stdout",
     "output_type": "stream",
     "text": [
      "<_sre.SRE_Match object; span=(0, 5), match='aaaab'>\n",
      "<_sre.SRE_Match object; span=(1, 3), match='ab'>\n",
      "None\n",
      "None\n"
     ]
    }
   ],
   "source": [
    "print(re.search(\"a+b\", \"aaaabbb\"))\n",
    "print(re.search(\"a+b\", \"bab\"))\n",
    "print(re.search(\"a+b\", \"bbb\"))\n",
    "print(re.search(\"a+b\", \"aaaa\"))"
   ]
  },
  {
   "cell_type": "markdown",
   "metadata": {},
   "source": [
    "Come pui vedere nell'esempio qui sopra il pattern `a+b` indica `a` una o più volte, seguito da una `b`. Quando si ha un match puoi vedere nell'oggetto ritornato dal metodo `re.search()` la sottostringa che ha verificato la regex (usando il metodo `group()`) e gli indici della posizione di essa all'interno della stringa (chiamando il metodo `.span()`).\n",
    "\n",
    "### Funzione `pass_n_fail`\n",
    "\n",
    "\n",
    "Qui sotto la funzione `pass_n_fail()` prende come parametri un `pattern` e due liste di stringhe: `pass_list` e `fail_list`. La funzione verifica se quelle che appartengono alla prima lista matchano l'espressione regolare e se quelle nella seconda non la matchano:"
   ]
  },
  {
   "cell_type": "code",
   "execution_count": 38,
   "metadata": {},
   "outputs": [],
   "source": [
    "def pass_n_fail(pattern, pass_list, fail_list):\n",
    "    for p in pass_list:\n",
    "        if not re.search(pattern, p):\n",
    "            print(\"ERRORE: '{}' non matcha il pattern '{}' ma dovrebbe farlo!\".format(p, pattern))\n",
    "    for f in fail_list:\n",
    "        if re.search(pattern, f):\n",
    "            print(\"ERRORE: '{}' matcha il pattern '{}' ma non dovrebbe farlo!\".format(f, pattern))\n"
   ]
  },
  {
   "cell_type": "markdown",
   "metadata": {},
   "source": [
    "Guardiamo quest'esempio:\n",
    "\n",
    "**NOTA**: il fatto che nell'output dell'esempio sia scritto `ERRORE` è voluto, lo scopo della funzione è proprio segnalarci che non abbiamo messo i parametri giusti !"
   ]
  },
  {
   "cell_type": "code",
   "execution_count": 39,
   "metadata": {},
   "outputs": [
    {
     "name": "stdout",
     "output_type": "stream",
     "text": [
      "ERRORE: 'aa' non matcha il pattern 'c' ma dovrebbe farlo!\n",
      "ERRORE: 'a' non matcha il pattern 'c' ma dovrebbe farlo!\n",
      "ERRORE: 'c' matcha il pattern 'c' ma non dovrebbe farlo!\n"
     ]
    }
   ],
   "source": [
    "\n",
    "# ESEMPIO\n",
    "pass_n_fail(\"c\",\n",
    "            [\"aa\",\"a\"],  # espressioni che vorremmo matchassero il pattern \"c\"\n",
    "            [\"b\",\"c\"]    # espressioni che vorremmo NON matchassero il pattern \"c\"\n",
    "           )"
   ]
  },
  {
   "cell_type": "markdown",
   "metadata": {},
   "source": [
    "Quest'esempio qua invece non dovrebbe darci nessun output, perchè le stringhe `\"aa\"` che `\"a` matchano il pattern `\"a\"`, e  le stringhe `\"b\"` e `\"c\"` non matchano il pattern `\"a\"`:"
   ]
  },
  {
   "cell_type": "code",
   "execution_count": 40,
   "metadata": {},
   "outputs": [],
   "source": [
    "\n",
    "# ESEMPIO\n",
    "pass_n_fail(\"a\",\n",
    "            [\"aa\",\"a\"],  # espressioni che vorremmo matchassero il pattern \"a\"\n",
    "            [\"b\",\"c\"]    # espressioni che vorremmo NON matchassero il pattern \"a\"\n",
    "           )\n"
   ]
  },
  {
   "cell_type": "markdown",
   "metadata": {
    "collapsed": true
   },
   "source": [
    "\n",
    "**✪✪✪ ESERCIZIO 4.2**: Prova tu a fornire esempi nelle due liste qua sotto (non preoccuparti se vedi scritto `ERRORE` nell'output della cella prima ancora di cominciare, se metti esempi giusti ed esegui la cella i messaggi di errore dovrebbero sparire):"
   ]
  },
  {
   "cell_type": "code",
   "execution_count": 41,
   "metadata": {},
   "outputs": [
    {
     "name": "stdout",
     "output_type": "stream",
     "text": [
      "ERRORE: '' non matcha il pattern 'a' ma dovrebbe farlo!\n",
      "ERRORE: '' non matcha il pattern 'a' ma dovrebbe farlo!\n"
     ]
    }
   ],
   "source": [
    "pass_n_fail(\"a\",\n",
    "            [\"\",\"\"], # metti esempi che matchano\n",
    "            [\"\",\"\"]  # metti esempi che non matchano\n",
    "           )"
   ]
  },
  {
   "cell_type": "raw",
   "id": "9ea9fe8a",
   "metadata": {
    "format": "text/html"
   },
   "source": [
    "<a  class=\"jupman-sol jupman-sol-toggler\" \n",
    " onclick=\"jupman.toggleSolution(this);\" \n",
    " data-jupman-show=\"Mostra soluzione\" data-jupman-hide=\"Nascondi\">Mostra soluzione</a><div class=\"jupman-sol jupman-sol-code\" style=\"display:none\">  "
   ]
  },
  {
   "cell_type": "code",
   "execution_count": 42,
   "metadata": {},
   "outputs": [],
   "source": [
    "# SOLUZIONE\n",
    "\n",
    "pass_n_fail(\"a\",\n",
    "            [\"a\",\"(aa)+b\"],\n",
    "            [\"c\",\"bb\"]\n",
    "           )\n"
   ]
  },
  {
   "cell_type": "raw",
   "id": "aa1ccd9f",
   "metadata": {
    "format": "text/html"
   },
   "source": [
    "</div>"
   ]
  },
  {
   "cell_type": "code",
   "execution_count": 42,
   "metadata": {},
   "outputs": [],
   "source": []
  },
  {
   "cell_type": "code",
   "execution_count": 43,
   "metadata": {},
   "outputs": [
    {
     "name": "stdout",
     "output_type": "stream",
     "text": [
      "ERRORE: '' non matcha il pattern 'ab+' ma dovrebbe farlo!\n",
      "ERRORE: '' non matcha il pattern 'ab+' ma dovrebbe farlo!\n"
     ]
    }
   ],
   "source": [
    " # Come sopra, ma un po più difficile:\n",
    "pass_n_fail(\"ab+\",\n",
    "            [\"\",\"\"], \n",
    "            [\"\",\"\"]\n",
    "           )"
   ]
  },
  {
   "cell_type": "raw",
   "id": "11c9220a",
   "metadata": {
    "format": "text/html"
   },
   "source": [
    "<a  class=\"jupman-sol jupman-sol-toggler\" \n",
    " onclick=\"jupman.toggleSolution(this);\" \n",
    " data-jupman-show=\"Mostra soluzione\" data-jupman-hide=\"Nascondi\">Mostra soluzione</a><div class=\"jupman-sol jupman-sol-code\" style=\"display:none\">  "
   ]
  },
  {
   "cell_type": "code",
   "execution_count": 44,
   "metadata": {},
   "outputs": [],
   "source": [
    "# SOLUZIONE\n",
    "\n",
    "pass_n_fail(\"ab+\",\n",
    "            [\"abb\",\"abbb\"], \n",
    "            [\"bbb\",\"aa\"]\n",
    "           )\n"
   ]
  },
  {
   "cell_type": "raw",
   "id": "1005dbf7",
   "metadata": {
    "format": "text/html"
   },
   "source": [
    "</div>"
   ]
  },
  {
   "cell_type": "code",
   "execution_count": 44,
   "metadata": {},
   "outputs": [],
   "source": []
  },
  {
   "cell_type": "code",
   "execution_count": 45,
   "metadata": {},
   "outputs": [
    {
     "name": "stdout",
     "output_type": "stream",
     "text": [
      "ERRORE: '' non matcha il pattern 'ab*' ma dovrebbe farlo!\n",
      "ERRORE: '' non matcha il pattern 'ab*' ma dovrebbe farlo!\n"
     ]
    }
   ],
   "source": [
    "# Come sopra, un po più difficile ancora:\n",
    "pass_n_fail(\"ab*\",\n",
    "            [\"\",\"\"], \n",
    "            [\"\",\"\"]\n",
    "           )"
   ]
  },
  {
   "cell_type": "raw",
   "id": "56b13e69",
   "metadata": {
    "format": "text/html"
   },
   "source": [
    "<a  class=\"jupman-sol jupman-sol-toggler\" \n",
    " onclick=\"jupman.toggleSolution(this);\" \n",
    " data-jupman-show=\"Mostra soluzione\" data-jupman-hide=\"Nascondi\">Mostra soluzione</a><div class=\"jupman-sol jupman-sol-code\" style=\"display:none\">  "
   ]
  },
  {
   "cell_type": "code",
   "execution_count": 46,
   "metadata": {},
   "outputs": [],
   "source": [
    "# SOLUZIONE\n",
    "\n",
    "pass_n_fail(\"ab*\",\n",
    "            [\"a\",\"ba\"], \n",
    "            [\"bb\",\"b\"]\n",
    "           )\n"
   ]
  },
  {
   "cell_type": "raw",
   "id": "98de0881",
   "metadata": {
    "format": "text/html"
   },
   "source": [
    "</div>"
   ]
  },
  {
   "cell_type": "code",
   "execution_count": 46,
   "metadata": {},
   "outputs": [],
   "source": []
  },
  {
   "cell_type": "code",
   "execution_count": 47,
   "metadata": {},
   "outputs": [
    {
     "name": "stdout",
     "output_type": "stream",
     "text": [
      "ERRORE: '' non matcha il pattern '^[ab]+[^ab]$' ma dovrebbe farlo!\n",
      "ERRORE: '' non matcha il pattern '^[ab]+[^ab]$' ma dovrebbe farlo!\n"
     ]
    }
   ],
   "source": [
    "# OK! Ancora un paio\n",
    "pass_n_fail(\"^[ab]+[^ab]$\",\n",
    "            [\"\",\"\"],\n",
    "            [\"\",\"\"]\n",
    "           )"
   ]
  },
  {
   "cell_type": "raw",
   "id": "577613d1",
   "metadata": {
    "format": "text/html"
   },
   "source": [
    "<a  class=\"jupman-sol jupman-sol-toggler\" \n",
    " onclick=\"jupman.toggleSolution(this);\" \n",
    " data-jupman-show=\"Mostra soluzione\" data-jupman-hide=\"Nascondi\">Mostra soluzione</a><div class=\"jupman-sol jupman-sol-code\" style=\"display:none\">  "
   ]
  },
  {
   "cell_type": "code",
   "execution_count": 48,
   "metadata": {},
   "outputs": [],
   "source": [
    "# SOLUZIONE\n",
    "\n",
    "pass_n_fail(\"^[ab]+[^ab]$\",\n",
    "            [\"bbbbc\",\"aaac\"], \n",
    "            [\"acccca\",\"cbac\"]\n",
    "           )\n",
    "\n"
   ]
  },
  {
   "cell_type": "raw",
   "id": "e22173cd",
   "metadata": {
    "format": "text/html"
   },
   "source": [
    "</div>"
   ]
  },
  {
   "cell_type": "code",
   "execution_count": 48,
   "metadata": {},
   "outputs": [],
   "source": []
  },
  {
   "cell_type": "code",
   "execution_count": 49,
   "metadata": {},
   "outputs": [
    {
     "name": "stdout",
     "output_type": "stream",
     "text": [
      "ERRORE: '' non matcha il pattern '.?\\.{3}$' ma dovrebbe farlo!\n",
      "ERRORE: '' non matcha il pattern '.?\\.{3}$' ma dovrebbe farlo!\n"
     ]
    }
   ],
   "source": [
    "# L'ultima\n",
    "pass_n_fail(\".?\\.{3}$\",\n",
    "            [\"\",\"\"], #TODO\n",
    "            [\"\",\"\"]\n",
    "           )"
   ]
  },
  {
   "cell_type": "raw",
   "id": "a73ee01d",
   "metadata": {
    "format": "text/html"
   },
   "source": [
    "<a  class=\"jupman-sol jupman-sol-toggler\" \n",
    " onclick=\"jupman.toggleSolution(this);\" \n",
    " data-jupman-show=\"Mostra soluzione\" data-jupman-hide=\"Nascondi\">Mostra soluzione</a><div class=\"jupman-sol jupman-sol-code\" style=\"display:none\">  "
   ]
  },
  {
   "cell_type": "code",
   "execution_count": 50,
   "metadata": {},
   "outputs": [],
   "source": [
    "# SOLUZIONE\n",
    "pass_n_fail(\".?\\.{3}$\",\n",
    "            [\"foo...\",\"...\"], \n",
    "            [\"bar..\",\"... \"]\n",
    "           )\n"
   ]
  },
  {
   "cell_type": "raw",
   "id": "b6cc6d41",
   "metadata": {
    "format": "text/html"
   },
   "source": [
    "</div>"
   ]
  },
  {
   "cell_type": "code",
   "execution_count": 50,
   "metadata": {},
   "outputs": [],
   "source": []
  },
  {
   "cell_type": "markdown",
   "metadata": {},
   "source": [
    "## 5. Sequenze\n",
    "\n",
    "A volte vogliamo considerare insiemi molto grandi di possibili simboli in una espressione regolare: per esempio se vogliamo validare la struttura di un **indirizzo email** vogliamo controllare che\n",
    "\n",
    "* contenga almeno 3 caratteri\n",
    "* una `@`\n",
    "* altri 3 caratteri \n",
    "* un punto \n",
    "* e almeno altri 2 caratteri.\n",
    "\n",
    "Il problema è che alcuni caratteri non possono essere presenti nelle email (come ad esempio `\\|{}()[]` etc...), e se dovessimo scrivere un set di caratteri da escludere usando l'espressione `[^...]` ci costerebbe molto tempo e spazio, inoltre sarebbe facile dimenticarsi qualche simbolo e quasi impossibile da leggere.\n",
    "\n",
    "Per ovviare a questo problema sono stati introdotte delle scorciatoie: delle *sequenze* di simboli che vanno a sostituire lunghi set di caratteri di comune utilizzo, eccone alcuni:\n",
    "\n",
    "| Sequenza | Descrizione |\n",
    "| :---: | :--- |\n",
    "| `\\A` | Inizio della stringa (simile a `^`) |\n",
    "| `\\b` | Valida la stringa vuota che delimita una parola |\n",
    "| `\\d` | Cifre da 0 a 9 |\n",
    "| `\\D` | Tutto eccetto le cifre |\n",
    "| `\\s` | Spaziature |\n",
    "| `\\S` | Tutto eccetto le spaziature |\n",
    "| `\\w` | Tutti i caratteri alfanumerici e `_` |\n",
    "| `\\W` | Tutto eccetto i caratteri alfanumerici e l'underscore `_` |\n",
    "| `\\Z` | Fine della stringa (simile a `$`) |\n",
    "\n",
    "**✪✪✪ ESERCIZIO 5.1**: Proviamo a variare l'esercizio precedente adesso quando matcherà sarai tu a *scrivere dei pattern* che verifichi le stringhe nella `pass_list` ed escluda quelle nella `fail_list`, dove troverai il pattern sarà come l'esercizio precedente (di nuovo non preoccuparti se vedi 'ERRORE' scritto sotto le celle prima ancora di iniziare, se metti i giusti pattern / esempi come richiesto le scritte 'ERRORE' dovrebbero scomparire )\n"
   ]
  },
  {
   "cell_type": "code",
   "execution_count": 51,
   "metadata": {},
   "outputs": [
    {
     "name": "stdout",
     "output_type": "stream",
     "text": [
      "ERRORE: 'tre ramarri' matcha il pattern '' ma non dovrebbe farlo!\n",
      "ERRORE: 'due carri' matcha il pattern '' ma non dovrebbe farlo!\n",
      "ERRORE: '3 ' matcha il pattern '' ma non dovrebbe farlo!\n",
      "ERRORE: '2 ' matcha il pattern '' ma non dovrebbe farlo!\n"
     ]
    }
   ],
   "source": [
    "#Scegli il PATTERN giusto !\n",
    "pass_n_fail(r\"\",\n",
    "            [\"3 ramarri\", \"2 carri\"],  # queste devono matchare\n",
    "            [\"tre ramarri\", \"due carri\", \"3 \", \"2 \"]  # queste non devono matchare\n",
    "           )"
   ]
  },
  {
   "cell_type": "raw",
   "id": "a79720a4",
   "metadata": {
    "format": "text/html"
   },
   "source": [
    "<a  class=\"jupman-sol jupman-sol-toggler\" \n",
    " onclick=\"jupman.toggleSolution(this);\" \n",
    " data-jupman-show=\"Mostra soluzione\" data-jupman-hide=\"Nascondi\">Mostra soluzione</a><div class=\"jupman-sol jupman-sol-code\" style=\"display:none\">  "
   ]
  },
  {
   "cell_type": "code",
   "execution_count": 52,
   "metadata": {},
   "outputs": [],
   "source": [
    "# SOLUZIONE\n",
    "\n",
    "pass_n_fail(r\"^\\d\\s\\w+\",\n",
    "            [\"3 ramarri\", \"2 carri\"],\n",
    "            [\"tre ramarri\", \"due carri\", \"3 \", \"2 \"]\n",
    "           )"
   ]
  },
  {
   "cell_type": "raw",
   "id": "151816c2",
   "metadata": {
    "format": "text/html"
   },
   "source": [
    "</div>"
   ]
  },
  {
   "cell_type": "code",
   "execution_count": 52,
   "metadata": {},
   "outputs": [],
   "source": []
  },
  {
   "cell_type": "code",
   "execution_count": 53,
   "metadata": {},
   "outputs": [
    {
     "name": "stdout",
     "output_type": "stream",
     "text": [
      "ERRORE: '' non matcha il pattern '^(w{3}\\.)?\\w\\w+\\.\\w\\w+' ma dovrebbe farlo!\n",
      "ERRORE: '' non matcha il pattern '^(w{3}\\.)?\\w\\w+\\.\\w\\w+' ma dovrebbe farlo!\n"
     ]
    }
   ],
   "source": [
    "#Scegli le STRINGHE\n",
    "pass_n_fail(r\"^(w{3}\\.)?\\w\\w+\\.\\w\\w+\",\n",
    "            [\"\",\"\"],\n",
    "            [\"\",\"\"]\n",
    "           )\n"
   ]
  },
  {
   "cell_type": "raw",
   "id": "2a4e66ff",
   "metadata": {
    "format": "text/html"
   },
   "source": [
    "<a  class=\"jupman-sol jupman-sol-toggler\" \n",
    " onclick=\"jupman.toggleSolution(this);\" \n",
    " data-jupman-show=\"Mostra soluzione\" data-jupman-hide=\"Nascondi\">Mostra soluzione</a><div class=\"jupman-sol jupman-sol-code\" style=\"display:none\">  "
   ]
  },
  {
   "cell_type": "code",
   "execution_count": 54,
   "metadata": {},
   "outputs": [],
   "source": [
    "# SOLUZIONE\n",
    "\n",
    "pass_n_fail(r\"^(w{3}\\.)?\\w\\w+\\.\\w\\w+\",\n",
    "            [\"www.google.it\",\"youtube.com\"],\n",
    "            [\"ciaociao\",\" www.google.com\"]\n",
    "           )"
   ]
  },
  {
   "cell_type": "raw",
   "id": "9f2c4b74",
   "metadata": {
    "format": "text/html"
   },
   "source": [
    "</div>"
   ]
  },
  {
   "cell_type": "code",
   "execution_count": 54,
   "metadata": {},
   "outputs": [],
   "source": []
  },
  {
   "cell_type": "code",
   "execution_count": 55,
   "metadata": {},
   "outputs": [
    {
     "name": "stdout",
     "output_type": "stream",
     "text": [
      "ERRORE: '1621211003' matcha il pattern '' ma non dovrebbe farlo!\n",
      "ERRORE: '11/20/2010' matcha il pattern '' ma non dovrebbe farlo!\n",
      "ERRORE: '12-12-123' matcha il pattern '' ma non dovrebbe farlo!\n"
     ]
    }
   ],
   "source": [
    "#Scegli il PATTERN\n",
    "pass_n_fail(r\"\",\n",
    "            [\"21.12.2017\", \"11/01/2018\", \"16-12-89\"],\n",
    "            [\"1621211003\", \"11/20/2010\", \"12-12-123\"]\n",
    "           )"
   ]
  },
  {
   "cell_type": "raw",
   "id": "5140731c",
   "metadata": {
    "format": "text/html"
   },
   "source": [
    "<a  class=\"jupman-sol jupman-sol-toggler\" \n",
    " onclick=\"jupman.toggleSolution(this);\" \n",
    " data-jupman-show=\"Mostra soluzione\" data-jupman-hide=\"Nascondi\">Mostra soluzione</a><div class=\"jupman-sol jupman-sol-code\" style=\"display:none\">  "
   ]
  },
  {
   "cell_type": "code",
   "execution_count": 56,
   "metadata": {},
   "outputs": [],
   "source": [
    "# SOLUZIONE\n",
    "\n",
    "pass_n_fail(r\"\\d{2}[-/.][01]\\d[-/.]\\d\\d(\\d\\d)?$\",\n",
    "            [\"21.12.2017\", \"11/01/2018\", \"16-12-89\"],\n",
    "            [\"1621211003\", \"11/20/2010\", \"12-12-123\"]\n",
    "           )"
   ]
  },
  {
   "cell_type": "raw",
   "id": "1dbc40db",
   "metadata": {
    "format": "text/html"
   },
   "source": [
    "</div>"
   ]
  },
  {
   "cell_type": "code",
   "execution_count": 56,
   "metadata": {},
   "outputs": [],
   "source": []
  },
  {
   "cell_type": "markdown",
   "metadata": {},
   "source": [
    "## 6. Le funzioni della libreria `re`\n",
    "\n",
    "Fino ad ora abbiamo usato una sola funzione della libreria `re` di Python, ossia `re.search()` ma sono presenti anche altre funzionalità, la più simile è il metodo `re.match()`:\n"
   ]
  },
  {
   "cell_type": "code",
   "execution_count": 57,
   "metadata": {},
   "outputs": [
    {
     "name": "stdout",
     "output_type": "stream",
     "text": [
      "<_sre.SRE_Match object; span=(2, 3), match='c'>\n"
     ]
    }
   ],
   "source": [
    "print(re.search('c', 'abcde'))"
   ]
  },
  {
   "cell_type": "code",
   "execution_count": 58,
   "metadata": {},
   "outputs": [
    {
     "name": "stdout",
     "output_type": "stream",
     "text": [
      "None\n"
     ]
    }
   ],
   "source": [
    "print(re.match('c', 'abcde'))"
   ]
  },
  {
   "cell_type": "code",
   "execution_count": 59,
   "metadata": {},
   "outputs": [
    {
     "name": "stdout",
     "output_type": "stream",
     "text": [
      "<_sre.SRE_Match object; span=(0, 1), match='a'>\n"
     ]
    }
   ],
   "source": [
    "print(re.match('a', 'abcde'))"
   ]
  },
  {
   "cell_type": "markdown",
   "metadata": {},
   "source": [
    "**✪✪ DOMANDA 6.1**:  Riesci a capire la differenza? `help(re.match)` e `help(re.search)` possono tornarti utili. \n"
   ]
  },
  {
   "cell_type": "raw",
   "id": "55a0cc51",
   "metadata": {
    "format": "text/html"
   },
   "source": [
    "<a  class=\"jupman-sol jupman-sol-toggler\" \n",
    " onclick=\"jupman.toggleSolution(this);\" \n",
    " data-jupman-show=\"Mostra risposta\" data-jupman-hide=\"Nascondi\">Mostra risposta</a><div class=\"jupman-sol jupman-sol-question\" style=\"display:none\">  "
   ]
  },
  {
   "cell_type": "markdown",
   "metadata": {},
   "source": [
    "**RISPOSTA**: Match cerca dal primo carattere."
   ]
  },
  {
   "cell_type": "raw",
   "id": "0bef4087",
   "metadata": {
    "format": "text/html"
   },
   "source": [
    "</div>"
   ]
  },
  {
   "cell_type": "markdown",
   "metadata": {},
   "source": [
    "\n",
    "## 7. Sostituzioni con `re.sub`\n",
    "\n",
    "Le espressioni regolari possono anche essere utilizzate per sostituire del testo, un po' come il metodo `replace()` sulle stringhe. Quando chiamiamo il metodo `re.sub()`, per ricevere in output la stringa elaborata, dobbiamo passare come argomenti:\n",
    "\n",
    "1. il pattern della regular expression\n",
    "2. il testo da sostituire\n",
    "3. la stringa su cui effettuare la ricerca\n",
    "\n",
    "Tornando all'esempio delle fermate dell'autobus, adesso vogliamo sostituire tutto quel confusionario \"Sp\" in \"strade provinciali\", vediamo il codice:"
   ]
  },
  {
   "cell_type": "code",
   "execution_count": 60,
   "metadata": {},
   "outputs": [
    {
     "name": "stdout",
     "output_type": "stream",
     "text": [
      "Help on function sub in module re:\n",
      "\n",
      "sub(pattern, repl, string, count=0, flags=0)\n",
      "    Return the string obtained by replacing the leftmost\n",
      "    non-overlapping occurrences of the pattern in string by the\n",
      "    replacement repl.  repl can be either a string or a callable;\n",
      "    if a string, backslash escapes in it are processed.  If it is\n",
      "    a callable, it's passed the match object and must return\n",
      "    a replacement string to be used.\n",
      "\n"
     ]
    }
   ],
   "source": [
    "help(re.sub)"
   ]
  },
  {
   "cell_type": "code",
   "execution_count": 61,
   "metadata": {},
   "outputs": [
    {
     "name": "stdout",
     "output_type": "stream",
     "text": [
      "Sp 85 Bivio Sopramonte DIVENTA Strada Provinciale 85 Bivio Sopramonte\n",
      "Sp 76 Carpenedi DIVENTA Strada Provinciale 76 Carpenedi\n",
      "Sp 76 Carpenedi DIVENTA Strada Provinciale 76 Carpenedi\n",
      "Sp 131 \"Maso Pradiscola\" DIVENTA Strada Provinciale 131 \"Maso Pradiscola\"\n",
      "Sp 131 \"Maso Pradiscola\" DIVENTA Strada Provinciale 131 \"Maso Pradiscola\"\n",
      "Sp 131 \"Res. Silvana\" DIVENTA Strada Provinciale 131 \"Res. Silvana\"\n",
      "Sp 131 \"Res. Silvana\" DIVENTA Strada Provinciale 131 \"Res. Silvana\"\n",
      "Sp 131 Al Maso Specchio DIVENTA Strada Provinciale 131 Al Maso Specchio\n",
      "Sp 131 Al Maso Specchio DIVENTA Strada Provinciale 131 Al Maso Specchio\n",
      "Sp 76 \"Piac\" DIVENTA Strada Provinciale 76 \"Piac\"\n",
      "Sp 76 \"Maregioli\" DIVENTA Strada Provinciale 76 \"Maregioli\"\n",
      "Sp 76 \"Maregioli\" DIVENTA Strada Provinciale 76 \"Maregioli\"\n",
      "Sp 76 \"Via Rossa\" DIVENTA Strada Provinciale 76 \"Via Rossa\"\n",
      "Sp 76 \"Via Rossa\" DIVENTA Strada Provinciale 76 \"Via Rossa\"\n",
      "Sp 76 Dos di Lamar DIVENTA Strada Provinciale 76 Dos di Lamar\n",
      "Sp 76 Dos di Lamar DIVENTA Strada Provinciale 76 Dos di Lamar\n",
      "Sp 131 \"Paganin\" DIVENTA Strada Provinciale 131 \"Paganin\"\n",
      "Sp 131 \"Paganin\" DIVENTA Strada Provinciale 131 \"Paganin\"\n",
      "Sp 85 \"Soraval\" DIVENTA Strada Provinciale 85 \"Soraval\"\n",
      "Sp 85 \"Soraval\" DIVENTA Strada Provinciale 85 \"Soraval\"\n",
      "Sp 90 \"Maso Prudenza\" DIVENTA Strada Provinciale 90 \"Maso Prudenza\"\n",
      "Sp 90 \"Maso Prudenza\" DIVENTA Strada Provinciale 90 \"Maso Prudenza\"\n",
      "Sp.2 Loc. Beccache' DIVENTA Strada Provinciale 2 Loc. Beccache'\n",
      "Sp.2 Loc. Beccache' DIVENTA Strada Provinciale 2 Loc. Beccache'\n",
      "Sp.2 Fr. Campolongo DIVENTA Strada Provinciale 2 Fr. Campolongo\n",
      "Sp.2 Noriglio DIVENTA Strada Provinciale 2 Noriglio\n",
      "Sp.2 Noriglio DIVENTA Strada Provinciale 2 Noriglio\n",
      "Sp.2 Fr. Campolongo DIVENTA Strada Provinciale 2 Fr. Campolongo\n",
      "Brancolino Sp.90 DIVENTA Brancolino Strada Provinciale 90\n",
      "Brancolino Sp.90 DIVENTA Brancolino Strada Provinciale 90\n",
      "Sp.20 S.Sisinio DIVENTA Strada Provinciale 20 S.Sisinio\n",
      "Sp.20 Zisi DIVENTA Strada Provinciale 20 Zisi\n",
      "Sp.20 Zisi DIVENTA Strada Provinciale 20 Zisi\n",
      "Sp.20 S.Sisinio DIVENTA Strada Provinciale 20 S.Sisinio\n",
      "Sp.20 Maso Tiaf DIVENTA Strada Provinciale 20 Maso Tiaf\n",
      "Sp.20 Bivio Per Bordala DIVENTA Strada Provinciale 20 Bivio Per Bordala\n",
      "Sp.20 Bivio Per Bordala DIVENTA Strada Provinciale 20 Bivio Per Bordala\n",
      "Sp.20 Maso Tiaf DIVENTA Strada Provinciale 20 Maso Tiaf\n",
      "Sp 76 Bivio S.Lazzaro DIVENTA Strada Provinciale 76 Bivio S.Lazzaro\n",
      "Sp.2 Bivio Per Cisterna DIVENTA Strada Provinciale 2 Bivio Per Cisterna\n",
      "Sp.20 Bivio Noarna DIVENTA Strada Provinciale 20 Bivio Noarna\n",
      "Sp.20 Bivio Noarna DIVENTA Strada Provinciale 20 Bivio Noarna\n",
      "Sp.23 \"Nero Cubo\" DIVENTA Strada Provinciale 23 \"Nero Cubo\"\n",
      "Sp.89 Maso Brentegam DIVENTA Strada Provinciale 89 Maso Brentegam\n"
     ]
    }
   ],
   "source": [
    "import csv\n",
    "import re\n",
    "with open('stops.txt', newline='') as f:\n",
    "    reader = csv.reader(f, delimiter=',')    \n",
    "    \n",
    "    for row in reader:        \n",
    "        nuova = re.sub(r'Sp.(\\d+)', r'Strada Provinciale \\1',  row[2])\n",
    "        if nuova != row[2]:\n",
    "            print(row[2], 'DIVENTA', nuova)    "
   ]
  },
  {
   "cell_type": "markdown",
   "metadata": {},
   "source": [
    "Bene, ma cosa succede? Conosciamo già tutto fino alla linea 3, poi cerchiamo il pattern `Sp.(\\d+)` ; nota che ho messo delle parentesi dove sembrerebbe non servano ma fai attenzione al prossimo parametro (cioè la stringa sostitutiva): ti accorgerai di un carattere speciale di una sequenza particolare di cui non abbiamo parlato, ovvero `\\1` . Questo tipo di sequenza è detta **gruppo di backreference** e viene definito nel pattern da cercare utilizzando le parentesi tonde appunto: tutto quello tra `(` and `)` diventa un gruppo e per richiamarlo è necessario soltando aggiungere un *backslash* seguito dal numero del gruppo, contando da sinistra a destra. \n",
    "\n",
    "Nel nostro caso esiste un solo gruppo quindi non possiamo sbagliare: la ricerca prima esamina il testo per trovare `Sp` seguito da un carattere e poi (da un gruppo definito come) una o più cifre. La stringa di sostituzione riporterà prima la scritta `Strada Provinciale` poi uno spazio ed infine la cifra che ha verificato il gruppo definito nel pattern di ricerca.\n",
    "\n",
    "**✪✪✪ ESERCIZIO 7.1**: Prova a ricopiare il codice precedente qua sotto, e compi la stessa operazione ma questa volta con le *Strade Statali*. Riesci a scrivere pattern diversi di ricerca e sostituzione per farlo?"
   ]
  },
  {
   "cell_type": "raw",
   "id": "6688543c",
   "metadata": {
    "format": "text/html"
   },
   "source": [
    "<a  class=\"jupman-sol jupman-sol-toggler\" \n",
    " onclick=\"jupman.toggleSolution(this);\" \n",
    " data-jupman-show=\"Mostra soluzione\" data-jupman-hide=\"Nascondi\">Mostra soluzione</a><div class=\"jupman-sol jupman-sol-code\" style=\"display:none\">  "
   ]
  },
  {
   "cell_type": "code",
   "execution_count": 62,
   "metadata": {},
   "outputs": [
    {
     "name": "stdout",
     "output_type": "stream",
     "text": [
      "['64', '22075x', 'Gardolo Svincolo Strada Statale 12', '', '46.106227', '11.109072', '10110', '1']\n",
      "['72', '22230z', 'Strada Statale 12 \"Zona Ind.Le Ftm\"', '', '46.119309', '11.106123', '10110', '2']\n",
      "['94', '26040z', 'Strada Statale 12 \"Casteller\"', '', '46.025284', '11.132751', '10110', '2']\n",
      "['95', '26040x', 'Strada Statale 12 \"Casteller\"', '', '46.025707', '11.132791', '10110', '2']\n",
      "['99', '26045z', 'Strada Statale 12 \"Le Caverne\"', '', '46.030862', '11.132677', '10110', '2']\n",
      "['100', '26045x', 'Strada Statale 12 \"Le Caverne\"', '', '46.030338', '11.132911', '10110', '1']\n",
      "['158', '28055z', 'Strada Statale 45 \"Montevideo\"', '', '46.080499', '11.098333', '10110', '2']\n",
      "['214', '22230x', 'Strada Statale 12 \"Zona Ind.Le Ftm\"', '', '46.120242', '11.105822', '10110', '2']\n",
      "['278', '21680z', 'Strada Statale 47 Muralta', '', '46.077059', '11.131773', '10110', '2']\n",
      "['286', '22710x', 'Strada Statale 12 \"Pioppeto\"', '', '46.108369', '11.108528', '10110', '1']\n",
      "['287', '22715x', 'Strada Statale 12 Bivio Meano', '', '46.116062', '11.106197', '10110', '2']\n",
      "['288', '22720x', 'Strada Statale 12 Canova', '', '46.098985', '11.111739', '10110', '1']\n",
      "['289', '22705x', 'Strada Statale 12 \"Paludi\"', 'via Bolzano incrocio via Noce', '46.102643', '11.110490', '10110', '2']\n",
      "['290', '22720z', 'Strada Statale 12 Canova', '', '46.100264', '11.111578', '10110', '1']\n",
      "['340', '25815z', 'Strada Statale 349 Pozzata', '', '46.039534', '11.144070', '10110', '2']\n",
      "['1350', '31221z', 'Lizzanella Strada Statale 12', '', '45.875522', '11.031822', '10101', '2']\n",
      "['1351', '31221x', 'Lizzanella Strada Statale 12', '', '45.875686', '11.032030', '10101', '2']\n",
      "['1422', '32221z', 'Strada Statale 12 \"Rovercenter\"', '', '45.864490', '11.029338', '10101', '2']\n",
      "['2289', '32251x', 'Strada Statale 240 \"Millennium Sud\"', '', '45.868678', '11.014119', '10101', '2']\n",
      "['2291', '32251z', 'Strada Statale 240 \"Millennium Sud\"', '', '45.868802', '11.014170', '10101', '2']\n",
      "['2293', '32241z', 'Strada Statale 240 \"Millennium Nord\"', '', '45.870320', '11.016768', '10101', '2']\n",
      "['2294', '32241x', 'Strada Statale 240 \"Millennium Nord\"', '', '45.870588', '11.017358', '10101', '2']\n",
      "['2337', '39041z', 'Volano Strada Statale 12', '', '45.917871', '11.064024', '19011', '2']\n",
      "['2338', '39041x', 'Volano Strada Statale 12', '', '45.917904', '11.063866', '19011', '2']\n",
      "['2418', '22710z', 'Strada Statale 12 \"Pioppeto\"', '', '46.108623', '11.108717', '10110', '1']\n",
      "['2419', '22730z', 'Strada Statale 12 S.Anna', '', '46.112409', '11.107438', '10110', '2']\n",
      "['2438', '22725z', 'Strada Statale 12 Talvera', '', '46.103288', '11.110545', '10110', '1']\n",
      "['2500', '21685z', 'Strada Statale 45 \"Scala\"', '', '46.077367', '11.099792', '10110', '2']\n",
      "['2514', '34101x', \"Strada Statale 240 Ponte Sull'adige\", '', '45.863191', '10.997289', '14051', '2']\n",
      "['2515', '34101z', \"Strada Statale 240 Ponte Sull'adige\", '', '45.863235', '10.997355', '14051', '2']\n",
      "['2699', '32221x', 'Strada Statale 12 \"Rovercenter\"', '', '45.864206', '11.029050', '10101', '2']\n",
      "['2701', '25815x', 'Strada Statale 349 Pozzata', '', '46.041779', '11.142383', '10110', '2']\n",
      "['2780', '21687z', 'Strada Statale 45 S.Giorgio', '', '46.078668', '11.099302', '10110', '2']\n",
      "['2806', '32236x', 'Strada Statale 240 \"Alla Staffa\"', '', '45.872760', '11.024323', '10101', '2']\n",
      "['2838', '39061z', 'Strada Statale 12 Fornaci', '', '45.919443', '11.085327', '19011', '2']\n",
      "['2856', '36511z', 'Strada Statale 12 Castel Pietra', '', '45.921721', '11.091309', '16501', '2']\n",
      "['2857', '36511x', 'Strada Statale 12 Castel Pietra', '', '45.922938', '11.092225', '16501', '2']\n",
      "['2858', '36521x', 'Strada Statale 12 Campagnole', '', '45.928854', '11.093011', '16501', '2']\n",
      "['2859', '36521z', 'Strada Statale 12 Campagnole', '', '45.928851', '11.093153', '16501', '2']\n",
      "['2870', '32236z', 'Strada Statale 240 \"Alla Staffa\"', '', '45.872820', '11.024167', '10101', '2']\n",
      "['2877', '32256x', 'Strada Statale 240 \"Meb\"', '', '45.867858', '11.011826', '10101', '2']\n",
      "['2906', '36541z', 'Calliano Strada Statale 12', '', '45.934315', '11.096017', '16501', '2']\n",
      "['2907', '36541x', 'Calliano Strada Statale 12', '', '45.934334', '11.095870', '16501', '2']\n"
     ]
    }
   ],
   "source": [
    "# scrivi qui il metodo 1\n",
    "\n",
    "with open('stops.txt', encoding='utf-8', newline='') as f:\n",
    "    reader = csv.reader(f, delimiter=',')    \n",
    "    for row in reader:\n",
    "        nuova = re.sub(r'Ss.(\\d+)', r'Strada Statale \\1', row[2])        \n",
    "        if nuova != row[2]:  # NOTA: questo if non sarebbe strettamente necessario, \n",
    "                             #       l'abbiamo messo per non stampare tutto il dataset\n",
    "            row[2] = nuova\n",
    "            print(row)"
   ]
  },
  {
   "cell_type": "raw",
   "id": "5498be16",
   "metadata": {
    "format": "text/html"
   },
   "source": [
    "</div>"
   ]
  },
  {
   "cell_type": "code",
   "execution_count": 62,
   "metadata": {},
   "outputs": [
    {
     "name": "stdout",
     "output_type": "stream",
     "text": [
      "['64', '22075x', 'Gardolo Svincolo Strada Statale 12', '', '46.106227', '11.109072', '10110', '1']\n",
      "['72', '22230z', 'Strada Statale 12 \"Zona Ind.Le Ftm\"', '', '46.119309', '11.106123', '10110', '2']\n",
      "['94', '26040z', 'Strada Statale 12 \"Casteller\"', '', '46.025284', '11.132751', '10110', '2']\n",
      "['95', '26040x', 'Strada Statale 12 \"Casteller\"', '', '46.025707', '11.132791', '10110', '2']\n",
      "['99', '26045z', 'Strada Statale 12 \"Le Caverne\"', '', '46.030862', '11.132677', '10110', '2']\n",
      "['100', '26045x', 'Strada Statale 12 \"Le Caverne\"', '', '46.030338', '11.132911', '10110', '1']\n",
      "['158', '28055z', 'Strada Statale 45 \"Montevideo\"', '', '46.080499', '11.098333', '10110', '2']\n",
      "['214', '22230x', 'Strada Statale 12 \"Zona Ind.Le Ftm\"', '', '46.120242', '11.105822', '10110', '2']\n",
      "['278', '21680z', 'Strada Statale 47 Muralta', '', '46.077059', '11.131773', '10110', '2']\n",
      "['286', '22710x', 'Strada Statale 12 \"Pioppeto\"', '', '46.108369', '11.108528', '10110', '1']\n",
      "['287', '22715x', 'Strada Statale 12 Bivio Meano', '', '46.116062', '11.106197', '10110', '2']\n",
      "['288', '22720x', 'Strada Statale 12 Canova', '', '46.098985', '11.111739', '10110', '1']\n",
      "['289', '22705x', 'Strada Statale 12 \"Paludi\"', 'via Bolzano incrocio via Noce', '46.102643', '11.110490', '10110', '2']\n",
      "['290', '22720z', 'Strada Statale 12 Canova', '', '46.100264', '11.111578', '10110', '1']\n",
      "['340', '25815z', 'Strada Statale 349 Pozzata', '', '46.039534', '11.144070', '10110', '2']\n",
      "['1350', '31221z', 'Lizzanella Strada Statale 12', '', '45.875522', '11.031822', '10101', '2']\n",
      "['1351', '31221x', 'Lizzanella Strada Statale 12', '', '45.875686', '11.032030', '10101', '2']\n",
      "['1422', '32221z', 'Strada Statale 12 \"Rovercenter\"', '', '45.864490', '11.029338', '10101', '2']\n",
      "['2289', '32251x', 'Strada Statale 240 \"Millennium Sud\"', '', '45.868678', '11.014119', '10101', '2']\n",
      "['2291', '32251z', 'Strada Statale 240 \"Millennium Sud\"', '', '45.868802', '11.014170', '10101', '2']\n",
      "['2293', '32241z', 'Strada Statale 240 \"Millennium Nord\"', '', '45.870320', '11.016768', '10101', '2']\n",
      "['2294', '32241x', 'Strada Statale 240 \"Millennium Nord\"', '', '45.870588', '11.017358', '10101', '2']\n",
      "['2337', '39041z', 'Volano Strada Statale 12', '', '45.917871', '11.064024', '19011', '2']\n",
      "['2338', '39041x', 'Volano Strada Statale 12', '', '45.917904', '11.063866', '19011', '2']\n",
      "['2418', '22710z', 'Strada Statale 12 \"Pioppeto\"', '', '46.108623', '11.108717', '10110', '1']\n",
      "['2419', '22730z', 'Strada Statale 12 S.Anna', '', '46.112409', '11.107438', '10110', '2']\n",
      "['2438', '22725z', 'Strada Statale 12 Talvera', '', '46.103288', '11.110545', '10110', '1']\n",
      "['2500', '21685z', 'Strada Statale 45 \"Scala\"', '', '46.077367', '11.099792', '10110', '2']\n",
      "['2514', '34101x', \"Strada Statale 240 Ponte Sull'adige\", '', '45.863191', '10.997289', '14051', '2']\n",
      "['2515', '34101z', \"Strada Statale 240 Ponte Sull'adige\", '', '45.863235', '10.997355', '14051', '2']\n",
      "['2699', '32221x', 'Strada Statale 12 \"Rovercenter\"', '', '45.864206', '11.029050', '10101', '2']\n",
      "['2701', '25815x', 'Strada Statale 349 Pozzata', '', '46.041779', '11.142383', '10110', '2']\n",
      "['2780', '21687z', 'Strada Statale 45 S.Giorgio', '', '46.078668', '11.099302', '10110', '2']\n",
      "['2806', '32236x', 'Strada Statale 240 \"Alla Staffa\"', '', '45.872760', '11.024323', '10101', '2']\n",
      "['2838', '39061z', 'Strada Statale 12 Fornaci', '', '45.919443', '11.085327', '19011', '2']\n",
      "['2856', '36511z', 'Strada Statale 12 Castel Pietra', '', '45.921721', '11.091309', '16501', '2']\n",
      "['2857', '36511x', 'Strada Statale 12 Castel Pietra', '', '45.922938', '11.092225', '16501', '2']\n",
      "['2858', '36521x', 'Strada Statale 12 Campagnole', '', '45.928854', '11.093011', '16501', '2']\n",
      "['2859', '36521z', 'Strada Statale 12 Campagnole', '', '45.928851', '11.093153', '16501', '2']\n",
      "['2870', '32236z', 'Strada Statale 240 \"Alla Staffa\"', '', '45.872820', '11.024167', '10101', '2']\n",
      "['2877', '32256x', 'Strada Statale 240 \"Meb\"', '', '45.867858', '11.011826', '10101', '2']\n",
      "['2906', '36541z', 'Calliano Strada Statale 12', '', '45.934315', '11.096017', '16501', '2']\n",
      "['2907', '36541x', 'Calliano Strada Statale 12', '', '45.934334', '11.095870', '16501', '2']\n"
     ]
    }
   ],
   "source": [
    "# scrivi qui il metodo 1\n",
    "\n"
   ]
  },
  {
   "cell_type": "raw",
   "id": "e0d5aa8f",
   "metadata": {
    "format": "text/html"
   },
   "source": [
    "<a  class=\"jupman-sol jupman-sol-toggler\" \n",
    " onclick=\"jupman.toggleSolution(this);\" \n",
    " data-jupman-show=\"Mostra soluzione\" data-jupman-hide=\"Nascondi\">Mostra soluzione</a><div class=\"jupman-sol jupman-sol-code\" style=\"display:none\">  "
   ]
  },
  {
   "cell_type": "code",
   "execution_count": 63,
   "metadata": {},
   "outputs": [
    {
     "name": "stdout",
     "output_type": "stream",
     "text": [
      "['64', '22075x', 'Gardolo Svincolo Strada Statale.12', '', '46.106227', '11.109072', '10110', '1']\n",
      "['72', '22230z', 'Strada Statale 12 \"Zona Ind.Le Ftm\"', '', '46.119309', '11.106123', '10110', '2']\n",
      "['94', '26040z', 'Strada Statale 12 \"Casteller\"', '', '46.025284', '11.132751', '10110', '2']\n",
      "['95', '26040x', 'Strada Statale 12 \"Casteller\"', '', '46.025707', '11.132791', '10110', '2']\n",
      "['99', '26045z', 'Strada Statale 12 \"Le Caverne\"', '', '46.030862', '11.132677', '10110', '2']\n",
      "['100', '26045x', 'Strada Statale 12 \"Le Caverne\"', '', '46.030338', '11.132911', '10110', '1']\n",
      "['158', '28055z', 'Strada Statale 45 \"Montevideo\"', '', '46.080499', '11.098333', '10110', '2']\n",
      "['214', '22230x', 'Strada Statale 12 \"Zona Ind.Le Ftm\"', '', '46.120242', '11.105822', '10110', '2']\n",
      "['278', '21680z', 'Strada Statale 47 Muralta', '', '46.077059', '11.131773', '10110', '2']\n",
      "['286', '22710x', 'Strada Statale 12 \"Pioppeto\"', '', '46.108369', '11.108528', '10110', '1']\n",
      "['287', '22715x', 'Strada Statale 12 Bivio Meano', '', '46.116062', '11.106197', '10110', '2']\n",
      "['288', '22720x', 'Strada Statale 12 Canova', '', '46.098985', '11.111739', '10110', '1']\n",
      "['289', '22705x', 'Strada Statale 12 \"Paludi\"', 'via Bolzano incrocio via Noce', '46.102643', '11.110490', '10110', '2']\n",
      "['290', '22720z', 'Strada Statale 12 Canova', '', '46.100264', '11.111578', '10110', '1']\n",
      "['340', '25815z', 'Strada Statale 349 Pozzata', '', '46.039534', '11.144070', '10110', '2']\n",
      "['1350', '31221z', 'Lizzanella Strada Statale.12', '', '45.875522', '11.031822', '10101', '2']\n",
      "['1351', '31221x', 'Lizzanella Strada Statale.12', '', '45.875686', '11.032030', '10101', '2']\n",
      "['1422', '32221z', 'Strada Statale.12 \"Rovercenter\"', '', '45.864490', '11.029338', '10101', '2']\n",
      "['2289', '32251x', 'Strada Statale.240 \"Millennium Sud\"', '', '45.868678', '11.014119', '10101', '2']\n",
      "['2291', '32251z', 'Strada Statale.240 \"Millennium Sud\"', '', '45.868802', '11.014170', '10101', '2']\n",
      "['2293', '32241z', 'Strada Statale.240 \"Millennium Nord\"', '', '45.870320', '11.016768', '10101', '2']\n",
      "['2294', '32241x', 'Strada Statale.240 \"Millennium Nord\"', '', '45.870588', '11.017358', '10101', '2']\n",
      "['2337', '39041z', 'Volano Strada Statale.12', '', '45.917871', '11.064024', '19011', '2']\n",
      "['2338', '39041x', 'Volano Strada Statale.12', '', '45.917904', '11.063866', '19011', '2']\n",
      "['2418', '22710z', 'Strada Statale 12 \"Pioppeto\"', '', '46.108623', '11.108717', '10110', '1']\n",
      "['2419', '22730z', 'Strada Statale 12 S.Anna', '', '46.112409', '11.107438', '10110', '2']\n",
      "['2438', '22725z', 'Strada Statale 12 Talvera', '', '46.103288', '11.110545', '10110', '1']\n",
      "['2500', '21685z', 'Strada Statale 45 \"Scala\"', '', '46.077367', '11.099792', '10110', '2']\n",
      "['2514', '34101x', \"Strada Statale.240 Ponte Sull'adige\", '', '45.863191', '10.997289', '14051', '2']\n",
      "['2515', '34101z', \"Strada Statale.240 Ponte Sull'adige\", '', '45.863235', '10.997355', '14051', '2']\n",
      "['2699', '32221x', 'Strada Statale.12 \"Rovercenter\"', '', '45.864206', '11.029050', '10101', '2']\n",
      "['2701', '25815x', 'Strada Statale 349 Pozzata', '', '46.041779', '11.142383', '10110', '2']\n",
      "['2780', '21687z', 'Strada Statale 45 S.Giorgio', '', '46.078668', '11.099302', '10110', '2']\n",
      "['2806', '32236x', 'Strada Statale.240 \"Alla Staffa\"', '', '45.872760', '11.024323', '10101', '2']\n",
      "['2838', '39061z', 'Strada Statale.12 Fornaci', '', '45.919443', '11.085327', '19011', '2']\n",
      "['2856', '36511z', 'Strada Statale.12 Castel Pietra', '', '45.921721', '11.091309', '16501', '2']\n",
      "['2857', '36511x', 'Strada Statale.12 Castel Pietra', '', '45.922938', '11.092225', '16501', '2']\n",
      "['2858', '36521x', 'Strada Statale.12 Campagnole', '', '45.928854', '11.093011', '16501', '2']\n",
      "['2859', '36521z', 'Strada Statale.12 Campagnole', '', '45.928851', '11.093153', '16501', '2']\n",
      "['2870', '32236z', 'Strada Statale.240 \"Alla Staffa\"', '', '45.872820', '11.024167', '10101', '2']\n",
      "['2877', '32256x', 'Strada Statale.240 \"Meb\"', '', '45.867858', '11.011826', '10101', '2']\n",
      "['2906', '36541z', 'Calliano Strada Statale.12', '', '45.934315', '11.096017', '16501', '2']\n",
      "['2907', '36541x', 'Calliano Strada Statale.12', '', '45.934334', '11.095870', '16501', '2']\n"
     ]
    }
   ],
   "source": [
    "# scrivi qui il metodo 2\n",
    "\n",
    "with open('stops.txt', encoding='utf-8', newline='') as f:\n",
    "    reader = csv.reader(f, delimiter=',')    \n",
    "    for row in reader:\n",
    "        nuova = re.sub(r'Ss\\b', r'Strada Statale', row[2])\n",
    "        if nuova != row[2]:  # NOTA: questo if non sarebbe strettamente necessario, \n",
    "                             #       l'abbiamo messo per non stampare tutto il dataset\n",
    "            row[2] = nuova\n",
    "            print(row)"
   ]
  },
  {
   "cell_type": "raw",
   "id": "7389aaab",
   "metadata": {
    "format": "text/html"
   },
   "source": [
    "</div>"
   ]
  },
  {
   "cell_type": "code",
   "execution_count": 63,
   "metadata": {},
   "outputs": [
    {
     "name": "stdout",
     "output_type": "stream",
     "text": [
      "['64', '22075x', 'Gardolo Svincolo Strada Statale.12', '', '46.106227', '11.109072', '10110', '1']\n",
      "['72', '22230z', 'Strada Statale 12 \"Zona Ind.Le Ftm\"', '', '46.119309', '11.106123', '10110', '2']\n",
      "['94', '26040z', 'Strada Statale 12 \"Casteller\"', '', '46.025284', '11.132751', '10110', '2']\n",
      "['95', '26040x', 'Strada Statale 12 \"Casteller\"', '', '46.025707', '11.132791', '10110', '2']\n",
      "['99', '26045z', 'Strada Statale 12 \"Le Caverne\"', '', '46.030862', '11.132677', '10110', '2']\n",
      "['100', '26045x', 'Strada Statale 12 \"Le Caverne\"', '', '46.030338', '11.132911', '10110', '1']\n",
      "['158', '28055z', 'Strada Statale 45 \"Montevideo\"', '', '46.080499', '11.098333', '10110', '2']\n",
      "['214', '22230x', 'Strada Statale 12 \"Zona Ind.Le Ftm\"', '', '46.120242', '11.105822', '10110', '2']\n",
      "['278', '21680z', 'Strada Statale 47 Muralta', '', '46.077059', '11.131773', '10110', '2']\n",
      "['286', '22710x', 'Strada Statale 12 \"Pioppeto\"', '', '46.108369', '11.108528', '10110', '1']\n",
      "['287', '22715x', 'Strada Statale 12 Bivio Meano', '', '46.116062', '11.106197', '10110', '2']\n",
      "['288', '22720x', 'Strada Statale 12 Canova', '', '46.098985', '11.111739', '10110', '1']\n",
      "['289', '22705x', 'Strada Statale 12 \"Paludi\"', 'via Bolzano incrocio via Noce', '46.102643', '11.110490', '10110', '2']\n",
      "['290', '22720z', 'Strada Statale 12 Canova', '', '46.100264', '11.111578', '10110', '1']\n",
      "['340', '25815z', 'Strada Statale 349 Pozzata', '', '46.039534', '11.144070', '10110', '2']\n",
      "['1350', '31221z', 'Lizzanella Strada Statale.12', '', '45.875522', '11.031822', '10101', '2']\n",
      "['1351', '31221x', 'Lizzanella Strada Statale.12', '', '45.875686', '11.032030', '10101', '2']\n",
      "['1422', '32221z', 'Strada Statale.12 \"Rovercenter\"', '', '45.864490', '11.029338', '10101', '2']\n",
      "['2289', '32251x', 'Strada Statale.240 \"Millennium Sud\"', '', '45.868678', '11.014119', '10101', '2']\n",
      "['2291', '32251z', 'Strada Statale.240 \"Millennium Sud\"', '', '45.868802', '11.014170', '10101', '2']\n",
      "['2293', '32241z', 'Strada Statale.240 \"Millennium Nord\"', '', '45.870320', '11.016768', '10101', '2']\n",
      "['2294', '32241x', 'Strada Statale.240 \"Millennium Nord\"', '', '45.870588', '11.017358', '10101', '2']\n",
      "['2337', '39041z', 'Volano Strada Statale.12', '', '45.917871', '11.064024', '19011', '2']\n",
      "['2338', '39041x', 'Volano Strada Statale.12', '', '45.917904', '11.063866', '19011', '2']\n",
      "['2418', '22710z', 'Strada Statale 12 \"Pioppeto\"', '', '46.108623', '11.108717', '10110', '1']\n",
      "['2419', '22730z', 'Strada Statale 12 S.Anna', '', '46.112409', '11.107438', '10110', '2']\n",
      "['2438', '22725z', 'Strada Statale 12 Talvera', '', '46.103288', '11.110545', '10110', '1']\n",
      "['2500', '21685z', 'Strada Statale 45 \"Scala\"', '', '46.077367', '11.099792', '10110', '2']\n",
      "['2514', '34101x', \"Strada Statale.240 Ponte Sull'adige\", '', '45.863191', '10.997289', '14051', '2']\n",
      "['2515', '34101z', \"Strada Statale.240 Ponte Sull'adige\", '', '45.863235', '10.997355', '14051', '2']\n",
      "['2699', '32221x', 'Strada Statale.12 \"Rovercenter\"', '', '45.864206', '11.029050', '10101', '2']\n",
      "['2701', '25815x', 'Strada Statale 349 Pozzata', '', '46.041779', '11.142383', '10110', '2']\n",
      "['2780', '21687z', 'Strada Statale 45 S.Giorgio', '', '46.078668', '11.099302', '10110', '2']\n",
      "['2806', '32236x', 'Strada Statale.240 \"Alla Staffa\"', '', '45.872760', '11.024323', '10101', '2']\n",
      "['2838', '39061z', 'Strada Statale.12 Fornaci', '', '45.919443', '11.085327', '19011', '2']\n",
      "['2856', '36511z', 'Strada Statale.12 Castel Pietra', '', '45.921721', '11.091309', '16501', '2']\n",
      "['2857', '36511x', 'Strada Statale.12 Castel Pietra', '', '45.922938', '11.092225', '16501', '2']\n",
      "['2858', '36521x', 'Strada Statale.12 Campagnole', '', '45.928854', '11.093011', '16501', '2']\n",
      "['2859', '36521z', 'Strada Statale.12 Campagnole', '', '45.928851', '11.093153', '16501', '2']\n",
      "['2870', '32236z', 'Strada Statale.240 \"Alla Staffa\"', '', '45.872820', '11.024167', '10101', '2']\n",
      "['2877', '32256x', 'Strada Statale.240 \"Meb\"', '', '45.867858', '11.011826', '10101', '2']\n",
      "['2906', '36541z', 'Calliano Strada Statale.12', '', '45.934315', '11.096017', '16501', '2']\n",
      "['2907', '36541x', 'Calliano Strada Statale.12', '', '45.934334', '11.095870', '16501', '2']\n"
     ]
    }
   ],
   "source": [
    "# scrivi qui il metodo 2\n",
    "\n"
   ]
  },
  {
   "cell_type": "markdown",
   "metadata": {},
   "source": [
    "**NOTA**\n",
    "In realtà l'utilizzo delle backreferences non è limitato alla funzione di sostituzione `re.sub` ma può essere usato anche nei pattern: il pattern `^(a+)=\\1$` per esempio significa che la stringa deve iniziare `^` con una o più `a` ( `a+` ), e deve essere seguito da un uguale ( `=` ) e dalla stessa stringa che ha verificato il *gruppo 1* ( `\\1` ) che nel nostro caso equivale a quanto stato verificato da `a+` precedentemente.\n",
    "\n",
    "**✪✪✪ ESERCIZIO 7.2**\n",
    "Prova a inserire delle stringhe che verificano i pattern inseriti:"
   ]
  },
  {
   "cell_type": "code",
   "execution_count": 64,
   "metadata": {},
   "outputs": [
    {
     "name": "stdout",
     "output_type": "stream",
     "text": [
      "ERRORE: '' non matcha il pattern '^(a+)=\\1$' ma dovrebbe farlo!\n",
      "ERRORE: '' non matcha il pattern '^(a+)=\\1$' ma dovrebbe farlo!\n",
      "ERRORE: '' non matcha il pattern '^(a+)=\\1$' ma dovrebbe farlo!\n"
     ]
    }
   ],
   "source": [
    "pass_n_fail(r'^(a+)=\\1$',\n",
    "           ['', '',''], # Inserisci qui almeno 3 elementi\n",
    "           [])"
   ]
  },
  {
   "cell_type": "raw",
   "id": "8bb32fec",
   "metadata": {
    "format": "text/html"
   },
   "source": [
    "<a  class=\"jupman-sol jupman-sol-toggler\" \n",
    " onclick=\"jupman.toggleSolution(this);\" \n",
    " data-jupman-show=\"Mostra soluzione\" data-jupman-hide=\"Nascondi\">Mostra soluzione</a><div class=\"jupman-sol jupman-sol-code\" style=\"display:none\">  "
   ]
  },
  {
   "cell_type": "code",
   "execution_count": 65,
   "metadata": {},
   "outputs": [],
   "source": [
    "# SOLUZIONE\n",
    "\n",
    "pass_n_fail(r'^(a+)=\\1$',\n",
    "           ['a=a', 'aaa=aaa','aaaaaa=aaaaaa'], #TODO Inserisci almeno 3 elementi\n",
    "           [])"
   ]
  },
  {
   "cell_type": "raw",
   "id": "1dca9d49",
   "metadata": {
    "format": "text/html"
   },
   "source": [
    "</div>"
   ]
  },
  {
   "cell_type": "code",
   "execution_count": 65,
   "metadata": {},
   "outputs": [],
   "source": []
  },
  {
   "cell_type": "markdown",
   "metadata": {},
   "source": [
    "## 8. Dividere le stringhe\n",
    "\n",
    "Uno degli altri task ai quali le espressioni regolari possono essere utile è quello di spezzare le stringhe, magari per isolare parti specifiche. Anche in questo caso esiste un'analogia con il metodo `split()` per le stringhe visto che entrambe le istruzioni compiono una funzione simile ma `re.split()` ha due parametri obbligatori, il primo è il `pattern` dell'espressione regolare che quando verificata spezza il testo e il secondo è la stringa da spezzare.\n",
    "\n",
    "Nell'esempio qui sotto separare tutte le frasi in un testo, prendiamo il file, lo apriamo e lo leggiamo: `f.readlines()` legge tutte le linee e restituisce una lista di linee, il metodo `\"\\n\".join()` usa il carattere di nuova riga `\\n` per unire gli elementi della lista (in questo caso le varie linee, formando il testo).\n",
    "\n",
    "A questo punto chiamiamo il metodo `re.split()` usando come pattern di separazione punti, punto e virgola, due punti, etc... presenti almeno una volta e seguiti da almeno uno spazio seguito da opzionalmente da una serie di acapo; abbiamo anche aggiunto il flag `re.MULTILINE` per permettere le regex su righe multiple."
   ]
  },
  {
   "cell_type": "code",
   "execution_count": 66,
   "metadata": {
    "scrolled": true
   },
   "outputs": [
    {
     "data": {
      "text/plain": [
       "['Quel ramo del lago di Como, che volge a mezzogiorno, tra due catene [1] non interrotte di monti, tutto a seni e a golfi, a seconda dello sporgere e del rientrare di quelli, vien, quasi a un tratto, a ristringersi, e a prender corso e figura di fiume, tra un promontorio a destra, e un’ampia costiera dall’altra parte',\n",
       " 'e il ponte [2], che ivi congiunge le due rive, par che renda ancor più sensibile all’occhio questa trasformazione, e segni il punto in cui il lago cessa, e l’Adda rincomincia, per ripigliar poi nome di lago dove le rive, allontanandosi di nuovo, lascian l’acqua distendersi e rallentarsi in nuovi golfi e in nuovi seni',\n",
       " 'La costiera, formata dal deposito di tre grossi torrenti [3], scende appoggiata a due monti contigui, l’uno detto di san Martino, l’altro, con voce lombarda, il Resegone, dai molti suoi cocuzzoli in fila, che in vero lo fanno somigliare a una sega',\n",
       " 'talché non è chi, al primo vederlo, purché sia di fronte, come per esempio di su le mura di Milano che guardano a settentrione, non lo discerna tosto, a un tal contrassegno, in quella lunga e vasta giogaia, dagli altri monti di nome più oscuro e di forma più comune',\n",
       " 'Per un buon pezzo, la costa sale con un pendìo lento e continuo',\n",
       " 'poi si rompe in poggi e in valloncelli, in erte e in ispianate, secondo l’ossatura de’ due monti, e il lavoro dell’acque',\n",
       " 'Il lembo estremo, tagliato dalle foci de’ torrenti, è quasi tutto ghiaia e ciottoloni',\n",
       " 'il resto, campi e vigne, sparse di terre, di ville, di casali',\n",
       " 'in qualche parte boschi, che si prolungano su per la montagna',\n",
       " 'Lecco, la principale di quelle terre, e che dà nome al territorio, giace poco discosto dal ponte, alla riva del lago, anzi viene in parte a trovarsi nel lago stesso, quando questo ingrossa']"
      ]
     },
     "execution_count": 66,
     "metadata": {},
     "output_type": "execute_result"
    }
   ],
   "source": [
    "import re\n",
    "\n",
    "with open('psposi1.txt', encoding='utf-8') as f:\n",
    "    testo = \"\\n\".join(f.readlines())\n",
    "\n",
    "frasi = re.split(r'[.;:?!-]+\\s+\\n*', testo, flags=re.MULTILINE)\n",
    "\n",
    "frasi[:10]  # con la slice [:10] mostriamo solo le prime 10 frasi"
   ]
  },
  {
   "cell_type": "markdown",
   "metadata": {},
   "source": [
    "## 9. Cercare pattern nel testo\n",
    "\n",
    "A volte vogliamo trovare delle informazioni all'interno del testo e sappiamo che queste appaiono in un certo pattern, possiamo scrivere una espressione regolare e utilizzare il metodo `re.findall()` per estrarle.\n",
    "Questo comando è molto simile al comando `re.find()` ma al contrario di questo non si ferma al primo match ma prosegue estraendo una lista delle stringhe che hanno verificato la regex oppure, se sono presenti delle backreferences, con *una lista di tuple avente i valori di tutti i gruppi di backreference* che hanno verificato il pattern.\n",
    "\n",
    "Proviamo a cercare tutte le parole che seguono la parola `\"terra\"` o `\"terre\"` : la regular expression cerca prima una stringa che inizi per *terr* e che abbia una *a* oppure una *e*, uno spazio ed infine una stringa alfanumerica di uno o più caratteri ed un delimitatore di fine parola:"
   ]
  },
  {
   "cell_type": "code",
   "execution_count": 67,
   "metadata": {},
   "outputs": [
    {
     "data": {
      "text/plain": [
       "['terre accennate', 'terra cotta', 'terra con']"
      ]
     },
     "execution_count": 67,
     "metadata": {},
     "output_type": "execute_result"
    }
   ],
   "source": [
    "import re\n",
    "\n",
    "with open('psposi1.txt', encoding='utf-8') as f:\n",
    "    testo = \"\\n\".join(f.readlines())\n",
    "\n",
    "re.findall(r'terr[ae]\\s\\w+\\b', testo)"
   ]
  },
  {
   "cell_type": "markdown",
   "metadata": {},
   "source": [
    "Come vedi ci viene restituita una lista di stringhe, infatti non ci sono gruppi all'interno della regex e quindi ci viene restituito tutto il matching. \n",
    "\n",
    "**✪✪ ESERCIZIO 9.1**: Prova a copiare la linea di sopra qua sotto e ad aggiungere uno o più gruppi nel pattern e vedi cosa succede:"
   ]
  },
  {
   "cell_type": "raw",
   "id": "b094cfc3",
   "metadata": {
    "format": "text/html"
   },
   "source": [
    "<a  class=\"jupman-sol jupman-sol-toggler\" \n",
    " onclick=\"jupman.toggleSolution(this);\" \n",
    " data-jupman-show=\"Mostra soluzione\" data-jupman-hide=\"Nascondi\">Mostra soluzione</a><div class=\"jupman-sol jupman-sol-code\" style=\"display:none\">  "
   ]
  },
  {
   "cell_type": "code",
   "execution_count": 68,
   "metadata": {},
   "outputs": [
    {
     "name": "stdout",
     "output_type": "stream",
     "text": [
      "['terre', 'terra', 'terra']\n",
      "[('terre', 'accennate'), ('terra', 'cotta'), ('terra', 'con')]\n"
     ]
    }
   ],
   "source": [
    "# scrivi qui\n",
    "\n",
    "import re\n",
    "\n",
    "with open('psposi1.txt', encoding='utf-8') as f:\n",
    "    testo = \"\\n\".join(f.readlines())\n",
    "\n",
    "#Aggiungo un gruppo attorno a terr[ae]\n",
    "print(re.findall(r'(terr[ae])\\s\\w+\\b', testo))\n",
    "#Ne aggiungo un altro attorno a \\w+\n",
    "print(re.findall(r'(terr[ae])\\s(\\w+)\\b', testo))"
   ]
  },
  {
   "cell_type": "raw",
   "id": "fe445006",
   "metadata": {
    "format": "text/html"
   },
   "source": [
    "</div>"
   ]
  },
  {
   "cell_type": "code",
   "execution_count": 68,
   "metadata": {},
   "outputs": [
    {
     "name": "stdout",
     "output_type": "stream",
     "text": [
      "['terre', 'terra', 'terra']\n",
      "[('terre', 'accennate'), ('terra', 'cotta'), ('terra', 'con')]\n"
     ]
    }
   ],
   "source": [
    "# scrivi qui\n",
    "\n"
   ]
  },
  {
   "cell_type": "code",
   "execution_count": null,
   "metadata": {},
   "outputs": [],
   "source": []
  }
 ],
 "metadata": {
  "celltoolbar": "Edit Metadata",
  "kernelspec": {
   "display_name": "Python 3",
   "language": "python",
   "name": "python3"
  },
  "language_info": {
   "codemirror_mode": {
    "name": "ipython",
    "version": 3
   },
   "file_extension": ".py",
   "mimetype": "text/x-python",
   "name": "python",
   "nbconvert_exporter": "python",
   "pygments_lexer": "ipython3",
   "version": "3.7.10"
  },
  "toc": {
   "base_numbering": 1,
   "nav_menu": {},
   "number_sections": false,
   "sideBar": true,
   "skip_h1_title": false,
   "title_cell": "Table of Contents",
   "title_sidebar": "Contents",
   "toc_cell": false,
   "toc_position": {},
   "toc_section_display": true,
   "toc_window_display": true
  }
 },
 "nbformat": 4,
 "nbformat_minor": 2
}

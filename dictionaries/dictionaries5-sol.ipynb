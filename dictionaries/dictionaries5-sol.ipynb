{
 "cells": [
  {
   "cell_type": "markdown",
   "metadata": {},
   "source": [
    "# Dizionari - strutture composte\n",
    "\n",
    "## [Scarica zip esercizi](../_static/generated/dictionaries.zip)\n",
    "\n",
    "[Naviga file online](https://github.com/DavidLeoni/softpython-it/tree/master/dictionaries)\n",
    "\n",
    "\n",
    "In questo foglio vedremo come gestire una struttura dati più complesse come una liste di dizionari e dizionari di liste, esaminando al contempo il significato di copia in superficie e copia in profondità.\n",
    "\n",
    "<div class=\"alert alert-warning\">\n",
    "\n",
    "**ATTENZIONE: Gli esercizi seguenti richiedono di conoscere:**\n",
    "\n",
    "<ul>\n",
    "   <li>[Dizionari 1](https://it.softpython.org/dictionaries/dictionaries1-sol.html), [Dizionari 2](https://it.softpython.org/dictionaries/dictionaries2-sol.html), [Dizionari  3](https://it.softpython.org/dictionaries/dictionaries3-sol.html) e [Dizionari  4](https://it.softpython.org/dictionaries/dictionaries3-sol.html)</li>\n",
    "   <li>[Controllo di flusso](https://it.softpython.org/control-flow/control-flow-sol.html)</li>\n",
    "   <li>[Funzioni](https://it.softpython.org/functions/functions-sol.html)</li>\n",
    "   <li>(possibilmente) [Matrici - Liste di liste](https://it.softpython.org/matrices-lists/matrices-lists-sol.html)</li>\n",
    "</ul>\n",
    "<br/>\n",
    "Se sei alle prime armi con la programmazione, ti conviene saltarli e ripassare in seguito\n",
    "</div>"
   ]
  },
  {
   "cell_type": "markdown",
   "metadata": {},
   "source": [
    "### Che fare\n",
    "\n",
    "- scompatta lo zip in una cartella, dovresti ottenere qualcosa del genere: \n",
    "\n",
    "```\n",
    "\n",
    "dictionaries \n",
    "    dictionaries1.ipynb\n",
    "    dictionaries1-sol.ipynb\n",
    "    dictionaries2.ipynb\n",
    "    dictionaries2-sol.ipynb\n",
    "    dictionaries3.ipynb\n",
    "    dictionaries3-sol.ipynb\n",
    "    dictionaries4.ipynb\n",
    "    dictionaries4-sol.ipynb\n",
    "    dictionaries5.ipynb\n",
    "    dictionaries5-sol.ipynb\n",
    "    jupman.py\n",
    "    \n",
    "```\n",
    "\n",
    "<div class=\"alert alert-warning\">\n",
    "\n",
    "**ATTENZIONE**: Per essere visualizzato correttamente, il file del notebook DEVE essere nella cartella szippata.\n",
    "</div>\n",
    "\n",
    "- apri il Jupyter Notebook da quella cartella. Due cose dovrebbero aprirsi, prima una console e poi un browser. Il browser dovrebbe mostrare una lista di file: naviga la lista e apri il notebook `dictionaries4.ipynb`\n",
    "- Prosegui leggendo il file degli esercizi, ogni tanto al suo interno troverai delle scritte **ESERCIZIO**, che ti chiederanno di scrivere dei comandi Python nelle celle successive. Gli esercizi sono graduati per difficoltà, da una stellina ✪ a quattro ✪✪✪✪\n",
    "\n",
    "\n",
    "Scorciatoie da tastiera:\n",
    "\n",
    "* Per eseguire il codice Python dentro una cella di Jupyter, premi `Control+Invio`\n",
    "* Per eseguire il codice Python dentro una cella di Jupyter E selezionare la cella seguente, premi `Shift+Invio`\n",
    "* Per eseguire il codice Python dentro una cella di Jupyter E creare una nuova cella subito dopo, premi `Alt+Invio`\n",
    "* Se per caso il Notebook sembra inchiodato, prova a selezionare `Kernel -> Restart`\n",
    "\n"
   ]
  },
  {
   "cell_type": "markdown",
   "metadata": {},
   "source": [
    "\n"
   ]
  },
  {
   "cell_type": "markdown",
   "metadata": {},
   "source": [
    "## Impiegati\n",
    "\n",
    "\n",
    "<div class=\"alert alert-warning\">\n",
    "\n",
    "**ATTENZIONE**\n",
    "\n",
    "Gli esercizi che segueno contengono dei test con gli _assert_. Per capire come svolgerli, leggi prima [Gestione errori e testing](https://it.softpython.org/errors-and-testing/errors-and-testing-sol.html) \n",
    "\n",
    "</div>\n",
    "\n",
    "Supponiamo di avere una lista di dizionari che rappresenta un database di impiegati. Ogni impiegato è rappresentato da un dizionario:\n",
    "\n",
    "```python\n",
    "{\n",
    "    \"nome\":\"Mario\",\n",
    "    \"cognome\": \"Rossi\",\n",
    "    \"età\": 34,\n",
    "    \"azienda\": {\n",
    "                    \"nome\": \"Aringhe Candite Spa\",\n",
    "                    \"settore\":\"Alimentari\"\n",
    "               }\n",
    "}\n",
    "```\n",
    "\n",
    "\n",
    "Il dizionario ha diversi attributi semplici quali `nome`, `cognome`, `età`. L'attributo `azienda` è più complesso, perchè è rappresentato come un altro dizionario: `\n",
    "\n",
    "```python\n",
    "\"azienda\": {\n",
    "        \"nome\": \"Aringhe Candite Spa\",\n",
    "        \"settore\":\"Alimentari\"\n",
    "    }\n",
    "```"
   ]
  },
  {
   "cell_type": "code",
   "execution_count": 1,
   "metadata": {},
   "outputs": [],
   "source": [
    "db_impiegati = [\n",
    "  {\n",
    "    \"nome\":\"Mario\",\n",
    "    \"cognome\": \"Rossi\",\n",
    "    \"età\": 34,\n",
    "    \"azienda\": {\n",
    "                   \"nome\": \"Aringhe Candite Spa\",\n",
    "                   \"settore\":\"Alimentari\"\n",
    "               }\n",
    "  },\n",
    "  {\n",
    "    \"nome\":\"Pippo\",\n",
    "    \"cognome\": \"Rossi\",\n",
    "    \"età\": 20,\n",
    "    \"azienda\": {\n",
    "                    \"nome\": \"Batworks\",\n",
    "                    \"settore\":\"Abbigliamento\"\n",
    "               }\n",
    "  },\n",
    "  {\n",
    "    \"nome\":\"Paolo\",\n",
    "    \"cognome\": \"Bianchi\",\n",
    "    \"età\": 25,\n",
    "    \"azienda\": {\n",
    "                    \"nome\": \"Aringhe Candite Spa\",\n",
    "                    \"settore\":\"Alimentari\"\n",
    "               }\n",
    "  }\n",
    "  \n",
    "]\n"
   ]
  },
  {
   "cell_type": "markdown",
   "metadata": {},
   "source": [
    "### estrai_impiegati\n",
    "\n",
    "✪✪ RITORNA i nomi degli impiegati in una lista"
   ]
  },
  {
   "cell_type": "raw",
   "id": "e065c107",
   "metadata": {
    "format": "text/html"
   },
   "source": [
    "<a  class=\"jupman-sol jupman-sol-toggler\" \n",
    " onclick=\"jupman.toggleSolution(this);\" \n",
    " data-jupman-show=\"Mostra soluzione\" data-jupman-hide=\"Nascondi\">Mostra soluzione</a><div class=\"jupman-sol jupman-sol-code\" style=\"display:none\">  "
   ]
  },
  {
   "cell_type": "code",
   "execution_count": 2,
   "metadata": {},
   "outputs": [],
   "source": [
    "\n",
    "def estrai_impiegati(lista):\n",
    "    \n",
    "    ret = []\n",
    "    for diz in lista:\n",
    "        ret.append(diz[\"nome\"])\n",
    "    return ret\n",
    "    \n",
    "\n",
    "assert estrai_impiegati([]) == []\n",
    "\n",
    "# se non trova db_impiegati, ricordati di eseguire la cella sopra che lo definisce \n",
    "assert estrai_impiegati(db_impiegati) == ['Mario', 'Pippo', 'Paolo']\n"
   ]
  },
  {
   "cell_type": "raw",
   "id": "a4c6e7b4",
   "metadata": {
    "format": "text/html"
   },
   "source": [
    "</div>"
   ]
  },
  {
   "cell_type": "code",
   "execution_count": 2,
   "metadata": {},
   "outputs": [],
   "source": [
    "\n",
    "def estrai_impiegati(lista):\n",
    "    raise Exception('TODO IMPLEMENT ME !')\n",
    "\n",
    "assert estrai_impiegati([]) == []\n",
    "\n",
    "# se non trova db_impiegati, ricordati di eseguire la cella sopra che lo definisce \n",
    "assert estrai_impiegati(db_impiegati) == ['Mario', 'Pippo', 'Paolo']\n"
   ]
  },
  {
   "cell_type": "markdown",
   "metadata": {},
   "source": [
    "### estrai_aziende\n",
    "\n",
    "✪✪ RITORNA i nomi di azienda in una lista (i duplicati sono ammessi)"
   ]
  },
  {
   "cell_type": "raw",
   "id": "66c68b63",
   "metadata": {
    "format": "text/html"
   },
   "source": [
    "<a  class=\"jupman-sol jupman-sol-toggler\" \n",
    " onclick=\"jupman.toggleSolution(this);\" \n",
    " data-jupman-show=\"Mostra soluzione\" data-jupman-hide=\"Nascondi\">Mostra soluzione</a><div class=\"jupman-sol jupman-sol-code\" style=\"display:none\">  "
   ]
  },
  {
   "cell_type": "code",
   "execution_count": 3,
   "metadata": {},
   "outputs": [],
   "source": [
    "def estrai_aziende(lista):\n",
    "    \"\"\"RITORNA i nomi di azienda in una lista (i duplicati sono ammessi)\n",
    "    \"\"\"\n",
    "    \n",
    "    ret = []\n",
    "    for diz in lista:\n",
    "        ret.append(diz[\"azienda\"][\"nome\"])\n",
    "       \n",
    "    return ret\n",
    "    \n",
    "    \n",
    "    \n",
    "assert estrai_aziende([]) == []\n",
    "# se non trova db_impiegati, ricordati di eseguire la cella sopra che lo definisce \n",
    "assert estrai_aziende(db_impiegati) == [\"Aringhe Candite Spa\",\"Batworks\",\"Aringhe Candite Spa\"]"
   ]
  },
  {
   "cell_type": "raw",
   "id": "cf6a5ada",
   "metadata": {
    "format": "text/html"
   },
   "source": [
    "</div>"
   ]
  },
  {
   "cell_type": "code",
   "execution_count": 3,
   "metadata": {},
   "outputs": [],
   "source": [
    "def estrai_aziende(lista):\n",
    "    \"\"\"RITORNA i nomi di azienda in una lista (i duplicati sono ammessi)\n",
    "    \"\"\"\n",
    "    raise Exception('TODO IMPLEMENT ME !')\n",
    "    \n",
    "    \n",
    "assert estrai_aziende([]) == []\n",
    "# se non trova db_impiegati, ricordati di eseguire la cella sopra che lo definisce \n",
    "assert estrai_aziende(db_impiegati) == [\"Aringhe Candite Spa\",\"Batworks\",\"Aringhe Candite Spa\"]"
   ]
  },
  {
   "cell_type": "markdown",
   "metadata": {},
   "source": [
    "### età_media\n",
    "\n",
    "✪✪ RITORNA l'età media degli impiegati di azienda"
   ]
  },
  {
   "cell_type": "raw",
   "id": "37cc7e77",
   "metadata": {
    "format": "text/html"
   },
   "source": [
    "<a  class=\"jupman-sol jupman-sol-toggler\" \n",
    " onclick=\"jupman.toggleSolution(this);\" \n",
    " data-jupman-show=\"Mostra soluzione\" data-jupman-hide=\"Nascondi\">Mostra soluzione</a><div class=\"jupman-sol jupman-sol-code\" style=\"display:none\">  "
   ]
  },
  {
   "cell_type": "code",
   "execution_count": 4,
   "metadata": {},
   "outputs": [],
   "source": [
    "\n",
    "def età_media(lista):\n",
    "    \n",
    "    somma = 0\n",
    "    for diz in lista:\n",
    "        somma += diz[\"età\"]\n",
    "    \n",
    "    return somma / len(lista)\n",
    "    \n",
    "  \n",
    "  \n",
    "# visto che la funzione ritorna float non si può comparare per numeri esatti ma per numeri vicini \n",
    "# con funzione math.isclose  \n",
    "import math   \n",
    "assert math.isclose(età_media(db_impiegati), (34 + 20 + 25) / 3)"
   ]
  },
  {
   "cell_type": "raw",
   "id": "b0bc3005",
   "metadata": {
    "format": "text/html"
   },
   "source": [
    "</div>"
   ]
  },
  {
   "cell_type": "code",
   "execution_count": 4,
   "metadata": {},
   "outputs": [],
   "source": [
    "\n",
    "def età_media(lista):\n",
    "    raise Exception('TODO IMPLEMENT ME !')\n",
    "  \n",
    "  \n",
    "# visto che la funzione ritorna float non si può comparare per numeri esatti ma per numeri vicini \n",
    "# con funzione math.isclose  \n",
    "import math   \n",
    "assert math.isclose(età_media(db_impiegati), (34 + 20 + 25) / 3)"
   ]
  },
  {
   "cell_type": "markdown",
   "metadata": {},
   "source": [
    "### tipi_aziende\n",
    "\n",
    "✪✪ RITORNA i tipi (settori) di azienda in una lista, SENZA duplicati !!"
   ]
  },
  {
   "cell_type": "raw",
   "id": "d6378eac",
   "metadata": {
    "format": "text/html"
   },
   "source": [
    "<a  class=\"jupman-sol jupman-sol-toggler\" \n",
    " onclick=\"jupman.toggleSolution(this);\" \n",
    " data-jupman-show=\"Mostra soluzione\" data-jupman-hide=\"Nascondi\">Mostra soluzione</a><div class=\"jupman-sol jupman-sol-code\" style=\"display:none\">  "
   ]
  },
  {
   "cell_type": "code",
   "execution_count": 5,
   "metadata": {},
   "outputs": [],
   "source": [
    "def tipi_aziende(lista):\n",
    "    \n",
    "    ret = []\n",
    "    for diz in lista:\n",
    "        settore = diz[\"azienda\"][\"settore\"]\n",
    "        if settore not in ret:\n",
    "            ret.append(settore)\n",
    "\n",
    "    return ret\n",
    "    \n",
    "\n",
    "assert tipi_aziende([]) == []\n",
    "assert tipi_aziende(db_impiegati) == [\"Alimentari\", \"Abbigliamento\"]"
   ]
  },
  {
   "cell_type": "raw",
   "id": "00e92c1e",
   "metadata": {
    "format": "text/html"
   },
   "source": [
    "</div>"
   ]
  },
  {
   "cell_type": "code",
   "execution_count": 5,
   "metadata": {},
   "outputs": [],
   "source": [
    "def tipi_aziende(lista):\n",
    "    raise Exception('TODO IMPLEMENT ME !')\n",
    "\n",
    "assert tipi_aziende([]) == []\n",
    "assert tipi_aziende(db_impiegati) == [\"Alimentari\", \"Abbigliamento\"]"
   ]
  },
  {
   "cell_type": "markdown",
   "metadata": {},
   "source": [
    "## Altri esercizi"
   ]
  },
  {
   "cell_type": "markdown",
   "metadata": {},
   "source": [
    "### medie\n",
    "\n",
    "✪✪ Dato un dizionario strutturato ad albero riguardante i voti di uno studente in classe V e VI, \n",
    "RESTITUIRE un array contente la media di ogni materia\n",
    "\n",
    "Esempio: \n",
    "```python\n",
    "medie([\n",
    "  {'id' : 1, 'subject' : 'math', 'V' : 70, 'VI' : 82},\n",
    "  {'id' : 1, 'subject' : 'italian', 'V' : 73, 'VI' : 74},\n",
    "  {'id' : 1, 'subject' : 'german', 'V' : 75, 'VI' : 86}\n",
    "])\n",
    "```\n",
    "\n",
    "ritorna \n",
    "\n",
    "```python\n",
    "[ (70+82)/2 , (73+74)/2, (75+86)/2 ]\n",
    "```\n",
    "ovvero\n",
    "```python\n",
    "[ 76.0 , 73.5, 80.5 ]\n",
    "```\n",
    "\n",
    "\n",
    "\n"
   ]
  },
  {
   "cell_type": "raw",
   "id": "f46ced62",
   "metadata": {
    "format": "text/html"
   },
   "source": [
    "<a  class=\"jupman-sol jupman-sol-toggler\" \n",
    " onclick=\"jupman.toggleSolution(this);\" \n",
    " data-jupman-show=\"Mostra soluzione\" data-jupman-hide=\"Nascondi\">Mostra soluzione</a><div class=\"jupman-sol jupman-sol-code\" style=\"display:none\">  "
   ]
  },
  {
   "cell_type": "code",
   "execution_count": 6,
   "metadata": {},
   "outputs": [],
   "source": [
    "def medie(lista):\n",
    "    \n",
    "    ret = [0.0, 0.0, 0.0]\n",
    "    \n",
    "    for i in range(len(lista)):\n",
    "        ret[i] = (lista[i]['V'] + lista[i]['VI']) / 2\n",
    "   \n",
    "    return ret\n",
    "    \n",
    "\n",
    "# INIZIO TEST - NON TOCCARE !\n",
    "import math\n",
    "\n",
    "\n",
    "'''\n",
    "Verifica che i numeri float in lista1 siano simili a quelli di lista2 \n",
    "'''  \n",
    "def is_list_close(lista1, lista2):\n",
    "    if len(lista1) != len(lista2):\n",
    "        return False\n",
    "    \n",
    "    for i in range(len(lista1)):\n",
    "        if not math.isclose(lista1[i], lista2[i]):\n",
    "            return False\n",
    "  \n",
    "    return True\n",
    "\n",
    "assert is_list_close(medie([\n",
    "                            {'id' : 1, 'subject' : 'math', 'V' : 70, 'VI' : 82},\n",
    "                            {'id' : 1, 'subject' : 'italian', 'V' : 73, 'VI' : 74},\n",
    "                            {'id' : 1, 'subject' : 'german', 'V' : 75, 'VI' : 86}\n",
    "                          ]),         \n",
    "                     [ 76.0 , 73.5, 80.5 ])\n",
    "# FINE TEST"
   ]
  },
  {
   "cell_type": "raw",
   "id": "1fba94d4",
   "metadata": {
    "format": "text/html"
   },
   "source": [
    "</div>"
   ]
  },
  {
   "cell_type": "code",
   "execution_count": 6,
   "metadata": {},
   "outputs": [],
   "source": [
    "def medie(lista):\n",
    "    raise Exception('TODO IMPLEMENT ME !')\n",
    "\n",
    "# INIZIO TEST - NON TOCCARE !\n",
    "import math\n",
    "\n",
    "\n",
    "'''\n",
    "Verifica che i numeri float in lista1 siano simili a quelli di lista2 \n",
    "'''  \n",
    "def is_list_close(lista1, lista2):\n",
    "    if len(lista1) != len(lista2):\n",
    "        return False\n",
    "    \n",
    "    for i in range(len(lista1)):\n",
    "        if not math.isclose(lista1[i], lista2[i]):\n",
    "            return False\n",
    "  \n",
    "    return True\n",
    "\n",
    "assert is_list_close(medie([\n",
    "                            {'id' : 1, 'subject' : 'math', 'V' : 70, 'VI' : 82},\n",
    "                            {'id' : 1, 'subject' : 'italian', 'V' : 73, 'VI' : 74},\n",
    "                            {'id' : 1, 'subject' : 'german', 'V' : 75, 'VI' : 86}\n",
    "                          ]),         \n",
    "                     [ 76.0 , 73.5, 80.5 ])\n",
    "# FINE TEST"
   ]
  },
  {
   "cell_type": "markdown",
   "metadata": {},
   "source": [
    "### ha_pref\n",
    "\n",
    "✪✪ Uno grande magazzino ha un database dei clienti modellato come un dizionario che associa ai nomi dei clienti le loro preferenze riguardo le categorie di articoli che comprano di solito:\n",
    "\n",
    "```python\n",
    "    {\n",
    "        'aldo':['cinema', 'musica', 'sport'],\n",
    "        'giovanni':['musica'],\n",
    "        'giacomo':['cinema', 'videogiochi']\n",
    "    }\n",
    "```\n",
    "\n",
    "Dato il dizionario, il nome di un cliente e una categoria, scrivere una funzione `ha_pref` che RITORNA `True` se quel cliente ha la preferenza indicata, `False` altrimenti.\n",
    "\n",
    "Esempio: \n",
    "\n",
    "```python\n",
    "ha_pref({\n",
    "            'aldo':['cinema', 'musica', 'sport'],\n",
    "            'giovanni':['musica'],\n",
    "            'giacomo':['cinema', 'videogiochi']\n",
    "    \n",
    "        }, 'aldo', 'musica')\n",
    "```\n",
    "\n",
    "deve ritornare `True` perchè ad `aldo` piace la musica, invece \n",
    "\n",
    "```python\n",
    "ha_pref({'aldo':['cinema', 'musica', 'sport'],\n",
    "         'giovanni':['musica'],\n",
    "         'giacomo':['cinema', 'videogiochi']\n",
    "    \n",
    "        }, 'giacomo', 'sport')\n",
    "```\n",
    "\n",
    "Deve ritornare `False` perchè a giacomo non piace lo sport"
   ]
  },
  {
   "cell_type": "raw",
   "id": "f5257147",
   "metadata": {
    "format": "text/html"
   },
   "source": [
    "<a  class=\"jupman-sol jupman-sol-toggler\" \n",
    " onclick=\"jupman.toggleSolution(this);\" \n",
    " data-jupman-show=\"Mostra soluzione\" data-jupman-hide=\"Nascondi\">Mostra soluzione</a><div class=\"jupman-sol jupman-sol-code\" style=\"display:none\">  "
   ]
  },
  {
   "cell_type": "code",
   "execution_count": 7,
   "metadata": {},
   "outputs": [],
   "source": [
    "\n",
    "def ha_pref(diz, nome, pref):\n",
    "    \n",
    "    if nome in diz:\n",
    "        return pref in diz[nome]\n",
    "    else:\n",
    "        return False\n",
    "    \n",
    "\n",
    "assert ha_pref({}, 'a', 'x') == False\n",
    "assert ha_pref({'a':[]}, 'a',  'x') == False\n",
    "assert ha_pref({'a':['x']}, 'a',  'x') == True\n",
    "assert ha_pref({'a':['x']}, 'b',  'x') == False\n",
    "assert ha_pref({'a':['x','y']}, 'a',  'y') == True\n",
    "assert ha_pref({'a':['x','y'],\n",
    "                   'b':['y','x','z']}, 'b',  'y') == True\n",
    "assert ha_pref({'aldo':['cinema', 'musica', 'sport'],\n",
    "                'giovanni':['musica'],\n",
    "                'giacomo':['cinema', 'videogiochi']\n",
    "               }, 'aldo', 'musica') == True\n",
    "assert ha_pref({'aldo':['cinema', 'musica', 'sport'],\n",
    "                'giovanni':['musica'],\n",
    "                'giacomo':['cinema', 'videogiochi']\n",
    "               }, 'giacomo', 'sport') == False\n"
   ]
  },
  {
   "cell_type": "raw",
   "id": "c22d8c18",
   "metadata": {
    "format": "text/html"
   },
   "source": [
    "</div>"
   ]
  },
  {
   "cell_type": "code",
   "execution_count": 7,
   "metadata": {},
   "outputs": [],
   "source": [
    "\n",
    "def ha_pref(diz, nome, pref):\n",
    "    raise Exception('TODO IMPLEMENT ME !')\n",
    "\n",
    "assert ha_pref({}, 'a', 'x') == False\n",
    "assert ha_pref({'a':[]}, 'a',  'x') == False\n",
    "assert ha_pref({'a':['x']}, 'a',  'x') == True\n",
    "assert ha_pref({'a':['x']}, 'b',  'x') == False\n",
    "assert ha_pref({'a':['x','y']}, 'a',  'y') == True\n",
    "assert ha_pref({'a':['x','y'],\n",
    "                   'b':['y','x','z']}, 'b',  'y') == True\n",
    "assert ha_pref({'aldo':['cinema', 'musica', 'sport'],\n",
    "                'giovanni':['musica'],\n",
    "                'giacomo':['cinema', 'videogiochi']\n",
    "               }, 'aldo', 'musica') == True\n",
    "assert ha_pref({'aldo':['cinema', 'musica', 'sport'],\n",
    "                'giovanni':['musica'],\n",
    "                'giacomo':['cinema', 'videogiochi']\n",
    "               }, 'giacomo', 'sport') == False\n"
   ]
  },
  {
   "cell_type": "markdown",
   "metadata": {},
   "source": [
    "### onomat\n",
    "\n",
    "✪✪ Proviamo ad aggiungere delle espressioni onomatopeiche a delle frasi\n",
    "\n",
    "INPUT: \n",
    "  - frase da arricchire\n",
    "  - Il sentimento da usare, che è codificato come un valore numerico.\n",
    "  - un dizionario di sentimenti, in cui si associa al codice numerico \n",
    "di ogni sentimento un dizionario contenente un espressione onomatopeica tipica per quel sentimento,\n",
    "e la posizione in cui deve figurare all'interno di una frase. Le posizioni sono indicate come 'i'\n",
    "per inizio e 'f' per fine.\n",
    "\n",
    "\n",
    "OUTPUT\n",
    "\n",
    "- La frase arricchita con l'espressione onomatopeica scelta in base al sentimento. L'espressione\n",
    "  va aggiunta sempre prima o dopo la frase, e sempre separata da uno spazio. \n",
    "\n",
    "\n",
    "\n",
    "Per esempio\n",
    "\n",
    "```python\n",
    "sentimenti = {\n",
    "                1:  {\n",
    "                        \"espressione\": \"Gulp!\",\n",
    "                        \"posizione\": \"i\"\n",
    "                    }\n",
    "                2:  {\n",
    "                        \"espressione\": \"Sgaragulp !\",\n",
    "                        \"posizione\": \"i\"\n",
    "                    }\n",
    "                3:  {\n",
    "                        \"espressione\": \"Uff..\",\n",
    "                        \"posizione\": \"f\"\n",
    "                    }\n",
    "}\n",
    "\n",
    "\n",
    "onomat(\"Ma quelli sono i bassotti!\", 1, sentimenti) \n",
    "```\n",
    "\n",
    "Deve tornare\n",
    "\n",
    "```python\n",
    "\"Gulp! Ma quelli sono i bassotti!\"\n",
    "```\n",
    "\n",
    "Mentre \n",
    "```python\n",
    "onomat(\"Non voglio alzarmi dall'amaca.\", 3, sentimenti) \n",
    "```\n",
    "Deve tornare \n",
    "\n",
    "```\n",
    "\"Non voglio alzarmi dall'amaca. Uff..\"\n",
    "```\n",
    "\n",
    "**NOTA**: Ricordarsi lo spazio tra espressione e frase!\n",
    "\n"
   ]
  },
  {
   "cell_type": "raw",
   "id": "3a547afe",
   "metadata": {
    "format": "text/html"
   },
   "source": [
    "<a  class=\"jupman-sol jupman-sol-toggler\" \n",
    " onclick=\"jupman.toggleSolution(this);\" \n",
    " data-jupman-show=\"Mostra soluzione\" data-jupman-hide=\"Nascondi\">Mostra soluzione</a><div class=\"jupman-sol jupman-sol-code\" style=\"display:none\">  "
   ]
  },
  {
   "cell_type": "code",
   "execution_count": 8,
   "metadata": {},
   "outputs": [],
   "source": [
    "def onomat(frase, sentimento, sentimenti):\n",
    "    \n",
    "    sent = sentimenti[sentimento]\n",
    "    if sent[\"posizione\"] == \"i\":\n",
    "        return sent[\"espressione\"] + \" \" + frase\n",
    "    else:\n",
    "        return frase + \" \" + sent[\"espressione\"]\n",
    "    \n",
    "\n",
    "\n",
    "# INIZIO TEST - NON TOCCARE !!!\n",
    "\n",
    "\n",
    "sentimenti = {\n",
    "                1:  {\n",
    "                        \"espressione\": \"Gulp!\",\n",
    "                        \"posizione\": \"i\"\n",
    "                    },\n",
    "                2:  {\n",
    "                        \"espressione\": \"Sgaragulp!\",\n",
    "                        \"posizione\": \"i\"\n",
    "                    },\n",
    "                3:  {\n",
    "                        \"espressione\": \"Uff..\",\n",
    "                        \"posizione\": \"f\"\n",
    "                    },\n",
    "                4:  {\n",
    "                        \"espressione\": \"Yuk yuk!\",\n",
    "                        \"posizione\": \"f\"\n",
    "                    },\n",
    "                5:  {\n",
    "                        \"espressione\": \"Sgrunt!\",\n",
    "                        \"posizione\": \"i\"\n",
    "                    },\n",
    "                6:  {\n",
    "                        \"espressione\": \"Gasp!\",\n",
    "                        \"posizione\" : \"i\"\n",
    "                    }\n",
    "            }\n",
    "\n",
    "\n",
    "assert onomat(\"Mi chiamo Pippo.\", 4, sentimenti) == \"Mi chiamo Pippo. Yuk yuk!\"\n",
    "assert onomat(\"Quel topastro mi ha rovinato un'altra rapina!\", 5, sentimenti) == \"Sgrunt! Quel topastro mi ha rovinato un'altra rapina!\"\n",
    "assert onomat(\"Non voglio alzarmi dall'amaca.\", 3, sentimenti) == \"Non voglio alzarmi dall'amaca. Uff..\"\n",
    "\n",
    "# FINE TEST"
   ]
  },
  {
   "cell_type": "raw",
   "id": "331bc17c",
   "metadata": {
    "format": "text/html"
   },
   "source": [
    "</div>"
   ]
  },
  {
   "cell_type": "code",
   "execution_count": 8,
   "metadata": {},
   "outputs": [],
   "source": [
    "def onomat(frase, sentimento, sentimenti):\n",
    "    raise Exception('TODO IMPLEMENT ME !')\n",
    "\n",
    "\n",
    "# INIZIO TEST - NON TOCCARE !!!\n",
    "\n",
    "\n",
    "sentimenti = {\n",
    "                1:  {\n",
    "                        \"espressione\": \"Gulp!\",\n",
    "                        \"posizione\": \"i\"\n",
    "                    },\n",
    "                2:  {\n",
    "                        \"espressione\": \"Sgaragulp!\",\n",
    "                        \"posizione\": \"i\"\n",
    "                    },\n",
    "                3:  {\n",
    "                        \"espressione\": \"Uff..\",\n",
    "                        \"posizione\": \"f\"\n",
    "                    },\n",
    "                4:  {\n",
    "                        \"espressione\": \"Yuk yuk!\",\n",
    "                        \"posizione\": \"f\"\n",
    "                    },\n",
    "                5:  {\n",
    "                        \"espressione\": \"Sgrunt!\",\n",
    "                        \"posizione\": \"i\"\n",
    "                    },\n",
    "                6:  {\n",
    "                        \"espressione\": \"Gasp!\",\n",
    "                        \"posizione\" : \"i\"\n",
    "                    }\n",
    "            }\n",
    "\n",
    "\n",
    "assert onomat(\"Mi chiamo Pippo.\", 4, sentimenti) == \"Mi chiamo Pippo. Yuk yuk!\"\n",
    "assert onomat(\"Quel topastro mi ha rovinato un'altra rapina!\", 5, sentimenti) == \"Sgrunt! Quel topastro mi ha rovinato un'altra rapina!\"\n",
    "assert onomat(\"Non voglio alzarmi dall'amaca.\", 3, sentimenti) == \"Non voglio alzarmi dall'amaca. Uff..\"\n",
    "\n",
    "# FINE TEST"
   ]
  },
  {
   "cell_type": "markdown",
   "metadata": {},
   "source": [
    "## Prosegui\n",
    "\n",
    "Continua con le [challenges](https://it.softpython.org/dictionaries/dictionaries6-chal.html) ..."
   ]
  }
 ],
 "metadata": {
  "kernelspec": {
   "display_name": "Python 3",
   "language": "python",
   "name": "python3"
  },
  "language_info": {
   "codemirror_mode": {
    "name": "ipython",
    "version": 3
   },
   "file_extension": ".py",
   "mimetype": "text/x-python",
   "name": "python",
   "nbconvert_exporter": "python",
   "pygments_lexer": "ipython3",
   "version": "3.7.10"
  },
  "toc": {
   "base_numbering": 1,
   "nav_menu": {},
   "number_sections": false,
   "sideBar": true,
   "skip_h1_title": false,
   "title_cell": "Table of Contents",
   "title_sidebar": "Contents",
   "toc_cell": false,
   "toc_position": {},
   "toc_section_display": true,
   "toc_window_display": true
  }
 },
 "nbformat": 4,
 "nbformat_minor": 2
}

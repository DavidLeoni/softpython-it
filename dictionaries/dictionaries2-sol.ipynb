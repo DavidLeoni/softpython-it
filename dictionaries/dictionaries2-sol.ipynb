{
 "cells": [
  {
   "cell_type": "code",
   "execution_count": 1,
   "metadata": {
    "nbsphinx": "hidden"
   },
   "outputs": [],
   "source": [
    " # Ricordati di eseguire questa cella con Shift+Invio\n",
    "\n",
    "import jupman"
   ]
  },
  {
   "cell_type": "markdown",
   "metadata": {},
   "source": [
    "# Dizionari 2 - operatori\n",
    "\n",
    "## [Scarica zip esercizi](../_static/generated/dictionaries.zip)\n",
    "\n",
    "[Naviga file online](https://github.com/DavidLeoni/softpython-it/tree/master/dictionaries)"
   ]
  },
  {
   "cell_type": "markdown",
   "metadata": {},
   "source": [
    "Per manipolare i dizionari vi sono diversi operatori:"
   ]
  },
  {
   "cell_type": "markdown",
   "metadata": {},
   "source": [
    "|Operatore|Ritorna|Descrizione|\n",
    "|---------|-------|-----------|\n",
    "|`len`(dict)|`int`|Ritorna il numero di chiavi|\n",
    "|dict`[`chiave`]`|obj|Ritorna il valore associato alla chiave|\n",
    "|dict`[`chiave`]` `=` valore||Aggiunge o modifica il valore associato ad una chiave|\n",
    "|`del` dict`[`chiave`]`||Rimuove la coppia chiave/valore|\n",
    "|chiave `in` dict|`bool`|Ritorna `True` se chiave è presente nel dizionario|\n",
    "|`==`,`!=`|`bool`|Controlla se due dizionari sono uguali o differenti|\n"
   ]
  },
  {
   "cell_type": "markdown",
   "metadata": {},
   "source": [
    "### Che fare\n",
    "\n",
    "- scompatta lo zip in una cartella, dovresti ottenere qualcosa del genere: \n",
    "\n",
    "```\n",
    "\n",
    "dictionaries \n",
    "    dictionaries1.ipynb\n",
    "    dictionaries1-sol.ipynb\n",
    "    dictionaries2.ipynb\n",
    "    dictionaries2-sol.ipynb\n",
    "    dictionaries3.ipynb\n",
    "    dictionaries3-sol.ipynb\n",
    "    dictionaries4.ipynb\n",
    "    dictionaries4-sol.ipynb\n",
    "    dictionaries5.ipynb\n",
    "    dictionaries5-sol.ipynb    \n",
    "    jupman.py\n",
    "    \n",
    "```\n",
    "\n",
    "<div class=\"alert alert-warning\">\n",
    "\n",
    "**ATTENZIONE**: Per essere visualizzato correttamente, il file del notebook DEVE essere nella cartella szippata.\n",
    "</div>\n",
    "\n",
    "- apri il Jupyter Notebook da quella cartella. Due cose dovrebbero aprirsi, prima una console e poi un browser. Il browser dovrebbe mostrare una lista di file: naviga la lista e apri il notebook `dictionaries2.ipynb`\n",
    "- Prosegui leggendo il file degli esercizi, ogni tanto al suo interno troverai delle scritte **ESERCIZIO**, che ti chiederanno di scrivere dei comandi Python nelle celle successive. Gli esercizi sono graduati per difficoltà, da una stellina ✪ a quattro ✪✪✪✪\n",
    "\n",
    "\n",
    "Scorciatoie da tastiera:\n",
    "\n",
    "* Per eseguire il codice Python dentro una cella di Jupyter, premi `Control+Invio`\n",
    "* Per eseguire il codice Python dentro una cella di Jupyter E selezionare la cella seguente, premi `Shift+Invio`\n",
    "* Per eseguire il codice Python dentro una cella di Jupyter E creare una nuova cella subito dopo, premi `Alt+Invio`\n",
    "* Se per caso il Notebook sembra inchiodato, prova a selezionare `Kernel -> Restart`\n",
    "\n"
   ]
  },
  {
   "cell_type": "markdown",
   "metadata": {},
   "source": [
    "## len\n",
    "\n",
    "E' possibile ottenere il numero di associazioni chiave/valore presente in un dizionario usando la funzione `len`:"
   ]
  },
  {
   "cell_type": "code",
   "execution_count": 2,
   "metadata": {},
   "outputs": [
    {
     "data": {
      "text/plain": [
       "3"
      ]
     },
     "execution_count": 2,
     "metadata": {},
     "output_type": "execute_result"
    }
   ],
   "source": [
    "len({'a':5,\n",
    "     'b':9,\n",
    "     'c':7\n",
    "})"
   ]
  },
  {
   "cell_type": "code",
   "execution_count": 3,
   "metadata": {},
   "outputs": [
    {
     "data": {
      "text/plain": [
       "2"
      ]
     },
     "execution_count": 3,
     "metadata": {},
     "output_type": "execute_result"
    }
   ],
   "source": [
    "len({3:8,\n",
    "     1:3\n",
    "})"
   ]
  },
  {
   "cell_type": "code",
   "execution_count": 4,
   "metadata": {},
   "outputs": [
    {
     "data": {
      "text/plain": [
       "0"
      ]
     },
     "execution_count": 4,
     "metadata": {},
     "output_type": "execute_result"
    }
   ],
   "source": [
    "len({})"
   ]
  },
  {
   "cell_type": "markdown",
   "metadata": {},
   "source": [
    "**DOMANDA**: Guarda i seguenti frammenti di codice, e per ciascuno cerca di indovinare quale risultato produce (o se da errore):\n",
    "\n",
    "1.  ```python\n",
    "    len(dict())\n",
    "    ```\n",
    "1.  ```python\n",
    "    len({'a':{}})\n",
    "    ```\n",
    "1.  ```python    \n",
    "    len({(1,2):{3},(4,5):{6},(7,8):{9}})\n",
    "    ```\n",
    "1.  ```python    \n",
    "    len({1:2,1:2,2:4,2:4,3:6,3:6})\n",
    "    ```\n",
    "1.  ```python    \n",
    "    len({1:2,',':3,',':4,})\n",
    "    ```    \n",
    "1.  ```python    \n",
    "    len(len({3:4,5:6}))\n",
    "    ```    "
   ]
  },
  {
   "cell_type": "markdown",
   "metadata": {},
   "source": [
    "## Leggere di un valore\n",
    "\n",
    "In fondo alla definizione dei dizionari, è riportato\n",
    "\n",
    "> **Data una chiave, possiamo reperire velocemente il valore corrispondente.**\n",
    "\n",
    "Come possiamo specificare la chiave di ricerca? Basta usare le quadre `[` `]`, un po' come abbiamo già fatto per le liste:"
   ]
  },
  {
   "cell_type": "code",
   "execution_count": 5,
   "metadata": {},
   "outputs": [],
   "source": [
    "diz = {  'sedia'     : 'un mobile per sedersi',\n",
    "         'armadio'   : 'un mobile a ripiani',\n",
    "         'lampadario': 'un apparecchio di illuminazione'\n",
    "}"
   ]
  },
  {
   "cell_type": "code",
   "execution_count": 6,
   "metadata": {},
   "outputs": [
    {
     "data": {
      "text/plain": [
       "'un mobile per sedersi'"
      ]
     },
     "execution_count": 6,
     "metadata": {},
     "output_type": "execute_result"
    }
   ],
   "source": [
    "diz['sedia']"
   ]
  },
  {
   "cell_type": "code",
   "execution_count": 7,
   "metadata": {},
   "outputs": [
    {
     "data": {
      "text/plain": [
       "'un apparecchio di illuminazione'"
      ]
     },
     "execution_count": 7,
     "metadata": {},
     "output_type": "execute_result"
    }
   ],
   "source": [
    "diz['lampadario']"
   ]
  },
  {
   "cell_type": "markdown",
   "metadata": {},
   "source": [
    "<div class=\"alert alert-warning\">\n",
    "**ATTENZIONE** Quello che mettiamo tra parentesi quadre **deve** essere una chiave presente nel dizionario\n",
    "</div>"
   ]
  },
  {
   "cell_type": "markdown",
   "metadata": {},
   "source": [
    "Se mettiamo chiavi non presenti, otterremo un errore:\n",
    "\n",
    "```python\n",
    ">>> diz['tavolo']\n",
    "\n",
    "---------------------------------------------------------------------------\n",
    "KeyError                                  Traceback (most recent call last)\n",
    "<ipython-input-19-ee891f51417b> in <module>\n",
    "----> 1 diz['tavolo']\n",
    "\n",
    "KeyError: 'tavolo'\n",
    "\n",
    "```"
   ]
  },
  {
   "cell_type": "markdown",
   "metadata": {},
   "source": [
    "\n",
    "### Disordine veloce\n",
    "\n",
    "Quando diamo una chiave a Python, quanto è veloce a reperire il valore corrispondente? Tanto, così veloce che la velocità _non dipende dalla dimensione del dizionario_. Che sia piccolo o enorme, data una chiave troverà il valore associato in circa il medesimo tempo.\n",
    "\n",
    "Quando abbiamo in mano un dizionario nella vita reale, tipicamente abbiamo una voce da cercare e lo sfogliamo finchè troviamo la voce ordinata: il fatto che le voci siano ordinate è quello che ci consente di trovare rapidamente la voce.\n",
    "\n",
    "Potremmo aspettarci lo stesso anche in Python, invece guardando la definizione troviamo una notevole differenza:\n",
    "\n",
    "> I dizionari sono dei contenitori mutabili che ci consentono di associare velocemente voci dette chiavi a dei valori\n",
    ">\n",
    "> * Le chiavi sono immutabili, **non hanno ordine** e non vi possono essere duplicati\n",
    "> * I valori possono essere duplicati\n",
    "\n",
    "\n",
    "Se le chiavi _non_ sono ordinate, come fa Python ad essere veloce a reperire i valori? La rapidità nasce dal fatto che Python memorizza le chiavi con un sistema con basato sugli _hash_ simile al [meccanismo impiegato per gli insiemi](https://it.softpython.org/sets/sets-sol.html#Elementi-mutabili-e-hash). Il prezzo da pagare per noi è l'imposizione di dover usare chiavi di tipo _immutabile_.\n"
   ]
  },
  {
   "cell_type": "markdown",
   "metadata": {},
   "source": [
    "**DOMANDA**: Se volessimo stampare il valore `'un apparecchio di illuminazione'` che vediamo in fondo al dizionario, senza sapere che corrisponde a `'lampadario'`, avrebbe senso scrivere qualcosa del genere ?:\n",
    "\n",
    "```python\n",
    "arredo = {  'sedia'     : 'un mobile per sedersi',\n",
    "            'armadio'   : 'un mobile a ripiani',\n",
    "            'lampadario': 'un apparecchio di illuminazione'\n",
    "}\n",
    "\n",
    "print( arredo[2] )\n",
    "```"
   ]
  },
  {
   "cell_type": "raw",
   "id": "90a76ed7",
   "metadata": {
    "format": "text/html"
   },
   "source": [
    "<a  class=\"jupman-sol jupman-sol-toggler\" \n",
    " onclick=\"jupman.toggleSolution(this);\" \n",
    " data-jupman-show=\"Mostra risposta\" data-jupman-hide=\"Nascondi\">Mostra risposta</a><div class=\"jupman-sol jupman-sol-question\" style=\"display:none\">  "
   ]
  },
  {
   "cell_type": "markdown",
   "metadata": {},
   "source": [
    "**RISPOSTA**: Assolutamente NO. Le coppie chiave/valore nel dizionario _non_ sono ordinate, pertanto non ha nessun senso procurarsi un valore ad una certa posizione. "
   ]
  },
  {
   "cell_type": "raw",
   "id": "cdfc3ac6",
   "metadata": {
    "format": "text/html"
   },
   "source": [
    "</div>"
   ]
  },
  {
   "cell_type": "markdown",
   "metadata": {},
   "source": [
    "**DOMANDA**: Guarda le seguenti espressioni, e per ciascuna cerca di indovinare quale risultato producono (o se danno errore):\n",
    "\n",
    "```python\n",
    "kabbalah = {\n",
    "    1 : 'Progresso',\n",
    "    3 : 'Amore',\n",
    "    5 : 'Creazione'\n",
    "}\n",
    "```\n",
    "\n",
    "*  ```python\n",
    "    kabbalah[0]\n",
    "    ```\n",
    "*  ```python\n",
    "    kabbalah[1]\n",
    "    ```\n",
    "*  ```python    \n",
    "    kabbalah[2]\n",
    "    ```\n",
    "*  ```python    \n",
    "    kabbalah[3]\n",
    "    ```\n",
    "*  ```python    \n",
    "    kabbalah[4]\n",
    "    ```\n",
    "*  ```python    \n",
    "    kabbalah[5]\n",
    "    ```\n",
    "*  ```python    \n",
    "    kabbalah[-1]\n",
    "    ```    "
   ]
  },
  {
   "cell_type": "raw",
   "id": "4524d351",
   "metadata": {
    "format": "text/html"
   },
   "source": [
    "<a  class=\"jupman-sol jupman-sol-toggler\" \n",
    " onclick=\"jupman.toggleSolution(this);\" \n",
    " data-jupman-show=\"Mostra risposta\" data-jupman-hide=\"Nascondi\">Mostra risposta</a><div class=\"jupman-sol jupman-sol-question\" style=\"display:none\">  "
   ]
  },
  {
   "cell_type": "markdown",
   "metadata": {},
   "source": [
    "**RISPOSTA**: Nel dizionario abbiamo delle chiavi che sono dei numeri interi. Pertanto possiamo usare dei numeri tra le quadre, ma indicheranno _chiavi_,  _non posizioni_.\n",
    "\n",
    "Le uniche espressioni che produrranno risultati sono quelle per cui il numero specificato tra quadre è effettivamente presente tra le chiavi:\n",
    "\n",
    "```python\n",
    ">>> kabbalah[1]\n",
    "'Progresso'\n",
    ">>> kabbalah[3]\n",
    "'Amore'\n",
    ">>> kabbalah[5]\n",
    "'Creazione'\n",
    "```\n",
    "\n",
    "Tutte le altre daranno `KeyError`, per es:\n",
    "\n",
    "```python\n",
    ">>> kabbalah[2]\n",
    "\n",
    "---------------------------------------------------------------------------\n",
    "KeyError                                  Traceback (most recent call last)\n",
    "<ipython-input-29-de66b9721e9b> in <module>\n",
    "      5 }\n",
    "      6 \n",
    "----> 7 kabbalah[2]\n",
    "\n",
    "KeyError: 2\n",
    "```"
   ]
  },
  {
   "cell_type": "raw",
   "id": "59ef8fc6",
   "metadata": {
    "format": "text/html"
   },
   "source": [
    "</div>"
   ]
  },
  {
   "cell_type": "markdown",
   "metadata": {},
   "source": [
    "**DOMANDA**: Guarda le seguenti espressioni, e per ciascuna cerca di indovinare quale risultato producono (o se danno errore):\n",
    "\n",
    "1.  ```python\n",
    "    {'a':4,'b':5}('a')\n",
    "    ```\n",
    "1.  ```python\n",
    "    {1:2,2:3,3:4}[2]\n",
    "    ```\n",
    "1.  ```python    \n",
    "    {'a':1,'b':2}['c']\n",
    "    ```\n",
    "1.  ```python    \n",
    "    {'a':1,'b':2}[a]\n",
    "    ```\n",
    "1.  ```python    \n",
    "    {'a':1,'b':2}[1]\n",
    "    ```\n",
    "1.  ```python        \n",
    "    {'a':1,'b':2,'c':3}['c']\n",
    "    ```\n",
    "1.  ```python        \n",
    "    {'a':1,'b':2,'c':3}[len(['a','b','c'])]\n",
    "    ```\n",
    "1.  ```python        \n",
    "    {(3,4):(1,2)}[(1,2)]\n",
    "    ```\n",
    "1.  ```python        \n",
    "    {(1,2):(3,4)}[(1,2)]\n",
    "    ```\n",
    "1.  ```python        \n",
    "    {[1,2]:[3,4]}[[1,2]]\n",
    "    ```\n",
    "1.  ```python        \n",
    "    {'a','b','c'}['a']\n",
    "    ```\n",
    "1.  ```python        \n",
    "    {'a:b','c:d'}['c']\n",
    "    ```\n",
    "1.  ```python        \n",
    "    {'a':4,'b':5}{'a'}\n",
    "    ```\n",
    "1.  ```python\n",
    "    d1 = {'a':'b'}\n",
    "    d2 = {'b':'c'}\n",
    "    print(d1[d2['c']])\n",
    "    ```\n",
    "1.  ```python\n",
    "    d1 = {'a':'b'}\n",
    "    d2 = {'b':'c'}\n",
    "    print(d2[d1['a']])\n",
    "    ```\n",
    "1.  ```python        \n",
    "    {}[]\n",
    "    ```\n",
    "1.  ```python        \n",
    "    {[]:3}[[]]\n",
    "    ```\n",
    "1.  ```python        \n",
    "    {1:7}['1']\n",
    "    ```\n",
    "1.  ```python        \n",
    "    {'':7}\"[]\"\n",
    "    ```\n",
    "1.  ```python        \n",
    "    {'':7}[\"\"]\n",
    "    ```\n",
    "1.  ```python        \n",
    "    {\"\":7}['']\n",
    "    ```\n",
    "1.  ```python        \n",
    "    {'\"':()}['']\n",
    "    ```        \n",
    "1.  ```python        \n",
    "    {():7}[()]\n",
    "    ```\n",
    "1.  ```python        \n",
    "    {(()):7}[()]\n",
    "    ```\n",
    "1.  ```python        \n",
    "    {(()):7}[((),)]\n",
    "    ```"
   ]
  },
  {
   "cell_type": "markdown",
   "metadata": {},
   "source": [
    "### Esercizio - z7\n",
    "\n",
    "✪ Dato un dizionario `diz1` con chiavi `'b'` e `'c'` associate a numeri, crea un dizionario `diz2` che abbia una chiave `'z'` associata alla somma dei valori delle chiavi `'b'` e `'c'` di `diz1`\n",
    "\n",
    "* il tuo codice deve funzionare per _qualunque_ `diz1` con chiavi `'b'` e `'c'`\n",
    "\n",
    "Esempio - dato:\n",
    "\n",
    "```python\n",
    "diz1 = {'a':6, 'b':2,'c':5}\n",
    "```\n",
    "\n",
    "Dopo il tuo codice, deve risultare:\n",
    "\n",
    "```python\n",
    ">>> print(diz2)\n",
    "{'z': 7}\n",
    "```"
   ]
  },
  {
   "cell_type": "raw",
   "id": "ab526c0e",
   "metadata": {
    "format": "text/html"
   },
   "source": [
    "<a  class=\"jupman-sol jupman-sol-toggler\" \n",
    " onclick=\"jupman.toggleSolution(this);\" \n",
    " data-jupman-show=\"Mostra soluzione\" data-jupman-hide=\"Nascondi\">Mostra soluzione</a><div class=\"jupman-sol jupman-sol-code\" style=\"display:none\">  "
   ]
  },
  {
   "cell_type": "code",
   "execution_count": 8,
   "metadata": {},
   "outputs": [
    {
     "name": "stdout",
     "output_type": "stream",
     "text": [
      "{'z': 7}\n"
     ]
    }
   ],
   "source": [
    "diz1 = {'a':6, 'b':2,'c':5}\n",
    "\n",
    "# scrivi qui\n",
    "\n",
    "diz2 = {'z' : diz1['b'] + diz1['c']}\n",
    "\n",
    "print(diz2)"
   ]
  },
  {
   "cell_type": "raw",
   "id": "f9ce09d2",
   "metadata": {
    "format": "text/html"
   },
   "source": [
    "</div>"
   ]
  },
  {
   "cell_type": "code",
   "execution_count": 8,
   "metadata": {},
   "outputs": [
    {
     "name": "stdout",
     "output_type": "stream",
     "text": [
      "{'z': 7}\n"
     ]
    }
   ],
   "source": [
    "diz1 = {'a':6, 'b':2,'c':5}\n",
    "\n",
    "# scrivi qui\n",
    "\n"
   ]
  },
  {
   "cell_type": "markdown",
   "metadata": {},
   "source": [
    "## Scrivere nel dizionario\n",
    "\n",
    "Possiamo scrivere in un dizionario?\n",
    "\n",
    "> **I dizionari sono dei contenitori mutabili** che ci consentono di associare velocemente voci dette chiavi a dei valori\n",
    "\n",
    "La definizione parla di mutabilità, quindi una volta creati, possiamo successivamente modificarli. \n",
    "\n",
    "I dizionari sono collezioni di coppie chiave/valore, e tra le modifiche possibili troviamo:\n",
    "\n",
    "1. aggiunta di una coppia chiave/valore\n",
    "2. associare una chiave esistente ad un valore diverso\n",
    "3. rimuovere una coppia chiave/valore"
   ]
  },
  {
   "cell_type": "markdown",
   "metadata": {},
   "source": [
    "### Scrivere - aggiunta chiave/valore\n",
    "\n",
    "Supponiamo di aver creato il nostro dizionario `arredo`"
   ]
  },
  {
   "cell_type": "code",
   "execution_count": 9,
   "metadata": {},
   "outputs": [],
   "source": [
    "arredo = {  'sedia'     : 'un mobile per sedersi',\n",
    "            'armadio'   : 'un mobile a ripiani',\n",
    "            'lampadario': 'un apparecchio di illuminazione'\n",
    "}"
   ]
  },
  {
   "cell_type": "markdown",
   "metadata": {},
   "source": [
    "e vogliamo in seguito aggiungere una definizione per `'divano'`. Possiamo riusare la variabile `arredo` seguita da quadre con dentro la chiave che vogliamo aggiungere `['divano']` e dopo le quadre metteremo un segno di uguale `=`"
   ]
  },
  {
   "cell_type": "code",
   "execution_count": 10,
   "metadata": {},
   "outputs": [],
   "source": [
    "arredo['divano'] = 'mobile per rilassarsi'"
   ]
  },
  {
   "cell_type": "markdown",
   "metadata": {},
   "source": [
    "Nota che Jupyter non ha mostrato risultati, perchè l'operazione precedente è un _comando_ di assegnamento (solo le _espressioni_ generano risultati). \n",
    "\n",
    "Ma qualcosa comunque internamente nella memoria è successo, lo possiamo verificare stampando `arredo`:"
   ]
  },
  {
   "cell_type": "code",
   "execution_count": 11,
   "metadata": {},
   "outputs": [
    {
     "data": {
      "text/plain": [
       "{'sedia': 'un mobile per sedersi',\n",
       " 'armadio': 'un mobile a ripiani',\n",
       " 'lampadario': 'un apparecchio di illuminazione',\n",
       " 'divano': 'mobile per rilassarsi'}"
      ]
     },
     "execution_count": 11,
     "metadata": {},
     "output_type": "execute_result"
    }
   ],
   "source": [
    "arredo"
   ]
  },
  {
   "cell_type": "markdown",
   "metadata": {},
   "source": [
    "Notiamo che il dizionario associato alla variabile `arredo` è stato MODIFICATO con l'aggiunta del divano.\n",
    "\n",
    "Quando aggiungiamo una coppia chiave/valore, possiamo usare tipi eterogenei:"
   ]
  },
  {
   "cell_type": "code",
   "execution_count": 12,
   "metadata": {},
   "outputs": [],
   "source": [
    "bidone = {'bla':3,\n",
    "           4 : 'boh',\n",
    "           (7,9) : ['spaz','zatura'] \n",
    "         }"
   ]
  },
  {
   "cell_type": "code",
   "execution_count": 13,
   "metadata": {},
   "outputs": [],
   "source": [
    "bidone[5.0] = 'un float'"
   ]
  },
  {
   "cell_type": "code",
   "execution_count": 14,
   "metadata": {},
   "outputs": [
    {
     "data": {
      "text/plain": [
       "{'bla': 3, 4: 'boh', (7, 9): ['spaz', 'zatura'], 5.0: 'un float'}"
      ]
     },
     "execution_count": 14,
     "metadata": {},
     "output_type": "execute_result"
    }
   ],
   "source": [
    "bidone"
   ]
  },
  {
   "cell_type": "markdown",
   "metadata": {},
   "source": [
    "E siamo soggetti agli stessi vincoli sulle chiavi che abbiamo durante la creazione, quindi possiamo solo usare chiavi _immutabili_. Se proviamo ad immettere un tipo _mutabile_ come per es. una lista, otteniamo un errore:"
   ]
  },
  {
   "cell_type": "markdown",
   "metadata": {},
   "source": [
    "```python \n",
    ">>> bidone[ ['una', 'lista']  ] = 8\n",
    "\n",
    "---------------------------------------------------------------------------\n",
    "TypeError                                 Traceback (most recent call last)\n",
    "<ipython-input-51-195ac9c21bcd> in <module>\n",
    "----> 1 bidone[ ['una', 'lista']  ] = 8\n",
    "\n",
    "TypeError: unhashable type: 'list'\n",
    "```\n"
   ]
  },
  {
   "cell_type": "markdown",
   "metadata": {},
   "source": [
    "**DOMANDA**: Guarda i seguenti frammenti di codice, e per ciascuno cerca di indovinare quale risultato produce (o se da errore):\n",
    "\n",
    "1.  ```python\n",
    "    diz = {1:'a'}\n",
    "    diz[2] = 'a'\n",
    "    print(diz)\n",
    "    ```\n",
    "1.  ```python\n",
    "    diz = {}\n",
    "    print(len(diz))\n",
    "    diz['a'] = 'b'\n",
    "    print(len(diz))\n",
    "    ```\n",
    "1.  ```python\n",
    "    diz1 = {'a':3, 'b':4}\n",
    "    diz2 = diz1\n",
    "    diz1['a'] = 5\n",
    "    print(diz1)\n",
    "    print(diz2)    \n",
    "    ```\n",
    "1.  ```python\n",
    "    diz1 = {'a':3, 'b':4}\n",
    "    diz2 = dict(diz1)\n",
    "    diz1['a'] = 5\n",
    "    print(diz1)\n",
    "    print(diz2)    \n",
    "    ```\n",
    "1.  ```python\n",
    "    la = ['a','c']\n",
    "    diz = {'a':3,\n",
    "           'b':4,\n",
    "           'c':5}\n",
    "    diz['d'] = diz[la[0]] + diz[la[1]]\n",
    "    print(diz)\n",
    "    ```\n",
    "1.  ```python\n",
    "    diz = {}\n",
    "    diz[()]: ''\n",
    "    diz[('a',)]: 'A'\n",
    "    diz[('a','b')]: 'AB'\n",
    "    print(diz)\n",
    "    ```\n",
    "1.  ```python\n",
    "    la = [5,8,6,9]\n",
    "    diz = {}\n",
    "    diz[la[0]]=la[2]\n",
    "    diz[la[2]]=la[0]\n",
    "    print(diz)\n",
    "    ```\n",
    "1.  ```python\n",
    "    diz = {}\n",
    "    diz[(4,5,6)[2]] = 'c'\n",
    "    diz[(4,5,6)[1]] = 'b'\n",
    "    diz[(4,5,6)[0]] = 'a'\n",
    "    print(diz)    \n",
    "    ```\n",
    "1.  ```python\n",
    "    diz1 = {\n",
    "        'a' : 'x',\n",
    "        'b' : 'x',\n",
    "        'c' : 'y',\n",
    "        'd' : 'y',\n",
    "    }\n",
    "\n",
    "    diz2 = {}\n",
    "    diz2[diz1['a']] = 'a'\n",
    "    diz2[diz1['b']] = 'b'\n",
    "    diz2[diz1['c']] = 'c'\n",
    "    diz2[diz1['d']] = 'd'\n",
    "    print(diz2)\n",
    "    ```"
   ]
  },
  {
   "cell_type": "markdown",
   "metadata": {},
   "source": [
    "### Scrivere - riassociare chiave \n",
    "\n",
    "Supponiamo di voler cambiare la definizione di `lampadario`:"
   ]
  },
  {
   "cell_type": "code",
   "execution_count": 15,
   "metadata": {},
   "outputs": [],
   "source": [
    "arredo = {  'sedia'     : 'un mobile per sedersi',\n",
    "            'armadio'   : 'un mobile a ripiani',\n",
    "            'lampadario': 'un apparecchio di illuminazione'\n",
    "}"
   ]
  },
  {
   "cell_type": "code",
   "execution_count": 16,
   "metadata": {},
   "outputs": [],
   "source": [
    "arredo['lampadario'] = 'un apparecchio di illuminazione appeso al soffitto'"
   ]
  },
  {
   "cell_type": "code",
   "execution_count": 17,
   "metadata": {},
   "outputs": [
    {
     "data": {
      "text/plain": [
       "{'sedia': 'un mobile per sedersi',\n",
       " 'armadio': 'un mobile a ripiani',\n",
       " 'lampadario': 'un apparecchio di illuminazione appeso al soffitto'}"
      ]
     },
     "execution_count": 17,
     "metadata": {},
     "output_type": "execute_result"
    }
   ],
   "source": [
    "arredo"
   ]
  },
  {
   "cell_type": "markdown",
   "metadata": {},
   "source": [
    "### Esercizio - officina\n",
    "\n",
    "✪ MODIFICA il dizionario `officina`:\n",
    "\n",
    "1. poni il valore della chiave `'bulloni'` uguale al valore della chiave `'tenaglie'`\n",
    "2. incrementa il valore della chiave `ruote` di 1\n",
    "\n",
    "\n",
    "* il tuo codice deve funzionare per qualunque numero associato alle chiavi\n",
    "* **NON** creare nuovi dizionari, quindi niente linee che cominciano con `officina = {`\n",
    "\n",
    "Esempio - dati:\n",
    "\n",
    "```python\n",
    "officina = {'ruote':3, \n",
    "            'bulloni':2, \n",
    "            'tenaglie':5}\n",
    "```\n",
    "\n",
    "dopo il tuo codice, devi ottenere:\n",
    "\n",
    "```python\n",
    "\n",
    ">>> print(officina)\n",
    "{'ruote': 4, 'bulloni': 5, 'tenaglie': 5}\n",
    "```"
   ]
  },
  {
   "cell_type": "raw",
   "id": "14448ca9",
   "metadata": {
    "format": "text/html"
   },
   "source": [
    "<a  class=\"jupman-sol jupman-sol-toggler\" \n",
    " onclick=\"jupman.toggleSolution(this);\" \n",
    " data-jupman-show=\"Mostra soluzione\" data-jupman-hide=\"Nascondi\">Mostra soluzione</a><div class=\"jupman-sol jupman-sol-code\" style=\"display:none\">  "
   ]
  },
  {
   "cell_type": "code",
   "execution_count": 18,
   "metadata": {},
   "outputs": [],
   "source": [
    "officina = {'ruote':3, \n",
    "            'bulloni':2, \n",
    "            'tenaglie':5}\n",
    "\n",
    "# scrivi qui\n",
    "\n",
    "officina['ruote'] = officina['ruote'] + 1\n",
    "officina['bulloni'] = officina['tenaglie']\n",
    "#print(officina)"
   ]
  },
  {
   "cell_type": "raw",
   "id": "5a3b71e3",
   "metadata": {
    "format": "text/html"
   },
   "source": [
    "</div>"
   ]
  },
  {
   "cell_type": "code",
   "execution_count": 18,
   "metadata": {},
   "outputs": [],
   "source": [
    "officina = {'ruote':3, \n",
    "            'bulloni':2, \n",
    "            'tenaglie':5}\n",
    "\n",
    "# scrivi qui\n",
    "\n"
   ]
  },
  {
   "cell_type": "markdown",
   "metadata": {},
   "source": [
    "**DOMANDA**: Guarda i seguenti frammenti di codice, e per ciascuno cerca di indovinare quale risultato produce (o se da errore):\n",
    "\n",
    "1.  ```python\n",
    "    diz = {'a':'b'}\n",
    "    diz['a'] = 'a'\n",
    "    print(diz)\n",
    "    ```\n",
    "\n",
    "1.  ```python\n",
    "    diz = {'1':'2'}\n",
    "    diz[1] = diz[1] + 5   # nasty\n",
    "    print(diz)\n",
    "    ```\n",
    "\n",
    "1.  ```python\n",
    "    diz = {1:2}\n",
    "    diz[1] = diz[1] + 5\n",
    "    print(diz)\n",
    "    ```\n",
    "\n",
    "1.  ```python\n",
    "    d1 = {1:2}\n",
    "    d2 = {2:3}\n",
    "    d1[1] = d2[d1[1]]\n",
    "    print(d1)\n",
    "    ```"
   ]
  },
  {
   "cell_type": "markdown",
   "metadata": {},
   "source": [
    "### Scrivere - cancellare\n",
    "\n",
    "Per cancellare una coppia chiave/valore esiste il comando speciale `del`. Prendiamo un dizionario:"
   ]
  },
  {
   "cell_type": "code",
   "execution_count": 19,
   "metadata": {},
   "outputs": [],
   "source": [
    "cucina = { 'pentole' : 3,\n",
    "           'padelle': 7,\n",
    "           'forchette' : 20\n",
    "}"
   ]
  },
  {
   "cell_type": "markdown",
   "metadata": {},
   "source": [
    "Se vogliamo eliminare la coppia `'padelle' : 7`, scriveremo `del` seguito dal nome del dizionario e la chiave da eliminare tra quadre:"
   ]
  },
  {
   "cell_type": "code",
   "execution_count": 20,
   "metadata": {},
   "outputs": [],
   "source": [
    "del cucina['padelle']"
   ]
  },
  {
   "cell_type": "code",
   "execution_count": 21,
   "metadata": {},
   "outputs": [
    {
     "data": {
      "text/plain": [
       "{'pentole': 3, 'forchette': 20}"
      ]
     },
     "execution_count": 21,
     "metadata": {},
     "output_type": "execute_result"
    }
   ],
   "source": [
    "cucina"
   ]
  },
  {
   "cell_type": "markdown",
   "metadata": {},
   "source": [
    "Cercare di cancellare una chiave inesistente produrrà un errore:"
   ]
  },
  {
   "cell_type": "markdown",
   "metadata": {},
   "source": [
    "```python\n",
    ">>> del cucina['spinterogeno']\n",
    "\n",
    "---------------------------------------------------------------------------\n",
    "KeyError                                  Traceback (most recent call last)\n",
    "<ipython-input-34-c0d541348698> in <module>\n",
    "----> 1 del cucina['spinterogeno']\n",
    "\n",
    "KeyError: 'spinterogeno'\n",
    "\n",
    "```"
   ]
  },
  {
   "cell_type": "markdown",
   "metadata": {},
   "source": [
    "**DOMANDA**: Guarda i seguenti frammenti di codice, e per ciascuno cerca di indovinare quale risultato produce (o se da errore):\n",
    "\n",
    "\n",
    "1.  ```python\n",
    "    diz = {'a':'b'}\n",
    "    del diz['b']\n",
    "    print(diz)\n",
    "    ```\n",
    "\n",
    "1.  ```python\n",
    "    diz = {'a':'b', 'c':'d'}\n",
    "    del diz['a']\n",
    "    print(diz)\n",
    "    ```\n",
    "\n",
    "1.  ```python\n",
    "    diz = {'a':'b', 'c':'d'}\n",
    "    del diz['a']\n",
    "    del diz['a']\n",
    "    print(diz)\n",
    "    ```\n",
    "\n",
    "1.  ```python\n",
    "    diz = {'a':'b'}\n",
    "    new_diz = del diz['a']\n",
    "    print(diz)\n",
    "    print(new_diz)\n",
    "    ```\n",
    "\n",
    "1.  ```python\n",
    "    diz1 = {'a':'b', 'c':'d'}\n",
    "    diz2 = diz1\n",
    "    del diz1['a']\n",
    "    print(diz1)\n",
    "    print(diz2)\n",
    "    ```\n",
    "\n",
    "1.  ```python\n",
    "    diz1 = {'a':'b', 'c':'d'}\n",
    "    diz2 = dict(diz1)\n",
    "    del diz1['a']\n",
    "    print(diz1)\n",
    "    print(diz2)\n",
    "    ```\n",
    "\n",
    "\n",
    "1.  ```python\n",
    "    diz = {'a':'b'}\n",
    "    del diz['c']\n",
    "    print(diz)\n",
    "    ```\n",
    "\n",
    "1.  ```python\n",
    "    diz = {'a':'b'}\n",
    "    diz.del('a')\n",
    "    print(diz)\n",
    "    ```\n",
    "\n",
    "1.  ```python\n",
    "    diz = {'a':'b'}\n",
    "    diz['a'] = None\n",
    "    print(diz)\n",
    "    ```"
   ]
  },
  {
   "cell_type": "markdown",
   "metadata": {},
   "source": [
    "### Esercizio - scrivania\n",
    "\n",
    "Dato un dizionario `scrivania`:\n",
    "\n",
    "```python\n",
    "scrivania = {\n",
    "            'carta':5,\n",
    "            'matite':2,\n",
    "            'penne':3\n",
    "}\n",
    "```\n",
    "\n",
    "scrivi del codice che lo MODIFICA in modo che dopo l'esecuzione del tuo codice, il dizionario appaia così:\n",
    "\n",
    "```python\n",
    ">>> print(scrivania)\n",
    "{'carta': 4,'matite': 2, 'temperino': 1}\n",
    "```\n",
    "\n",
    "* **NON** scrivere linee che iniziano con `scrivania = ` (questo creerebbe un nuovo dizionario, invece noi vogliamo modificare quello esistente)"
   ]
  },
  {
   "cell_type": "raw",
   "id": "6d3c33cc",
   "metadata": {
    "format": "text/html"
   },
   "source": [
    "<a  class=\"jupman-sol jupman-sol-toggler\" \n",
    " onclick=\"jupman.toggleSolution(this);\" \n",
    " data-jupman-show=\"Mostra soluzione\" data-jupman-hide=\"Nascondi\">Mostra soluzione</a><div class=\"jupman-sol jupman-sol-code\" style=\"display:none\">  "
   ]
  },
  {
   "cell_type": "code",
   "execution_count": 22,
   "metadata": {},
   "outputs": [],
   "source": [
    "scrivania = {\n",
    "            'carta':5,\n",
    "            'matite':2,\n",
    "            'penne':3\n",
    "}\n",
    "\n",
    "# scrivi qui\n",
    "scrivania['carta'] = 4\n",
    "del scrivania['penne'] \n",
    "scrivania['temperino'] = 1\n",
    "#print(scrivania)"
   ]
  },
  {
   "cell_type": "raw",
   "id": "8b724b3e",
   "metadata": {
    "format": "text/html"
   },
   "source": [
    "</div>"
   ]
  },
  {
   "cell_type": "code",
   "execution_count": 22,
   "metadata": {},
   "outputs": [],
   "source": [
    "scrivania = {\n",
    "            'carta':5,\n",
    "            'matite':2,\n",
    "            'penne':3\n",
    "}\n",
    "\n",
    "# scrivi qui\n",
    "\n"
   ]
  },
  {
   "cell_type": "markdown",
   "metadata": {},
   "source": [
    "### Esercizio - giardino\n",
    "\n",
    "Hai un dizionario `giardino` che associa nomi di oggetti presenti alla loro quantità. Ti vengono fornite:\n",
    "\n",
    "* una lista `da_togliere` contenente i nomi di esattamente 2 oggetti da eliminare\n",
    "* un dizionario `da_aggiungere` contenente 2 nomi di fiori  associati alla loro quantità da aggiungere\n",
    "\n",
    "MODIFICA il dizionario `giardino` secondo le quantità indicate da `da_togliere` (**cancellando** le chiavi) e `da_aggiungere` (**incrementando** i valori corrispondenti)\n",
    "\n",
    "* assumi che `giardino` contenga sempre gli oggetti indicati in `da_togliere` e `da_aggiungere`\n",
    "* assumi che `da_aggiungere` contenga sempre e solo `tulipani` e `rose`\n",
    "\n",
    "\n",
    "Esempio:\n",
    "\n",
    "```python\n",
    "da_togliere = ['erbacce', 'cartacce']\n",
    "da_aggiungere = { 'tulipani':4,\n",
    "                  'rose' : 2\n",
    "}\n",
    "\n",
    "giardino = { 'ortensie':3,\n",
    "             'tulipani':7,\n",
    "             'erbacce' : 10,\n",
    "             'rose' : 5,\n",
    "             'cartacce' : 6,            \n",
    "}\n",
    "```\n",
    "\n",
    "dopo il tuo codice, deve stampare\n",
    "\n",
    "\n",
    "```python\n",
    ">>> print(giardino)\n",
    "{'ortensie': 3, 'tulipani': 11, 'rose': 7}\n",
    "```"
   ]
  },
  {
   "cell_type": "raw",
   "id": "26385ce8",
   "metadata": {
    "format": "text/html"
   },
   "source": [
    "<a  class=\"jupman-sol jupman-sol-toggler\" \n",
    " onclick=\"jupman.toggleSolution(this);\" \n",
    " data-jupman-show=\"Mostra soluzione\" data-jupman-hide=\"Nascondi\">Mostra soluzione</a><div class=\"jupman-sol jupman-sol-code\" style=\"display:none\">  "
   ]
  },
  {
   "cell_type": "code",
   "execution_count": 23,
   "metadata": {},
   "outputs": [],
   "source": [
    "da_togliere = ['erbacce', 'cartacce']\n",
    "da_aggiungere = {\n",
    "    'tulipani':4,\n",
    "    'rose' : 2\n",
    "}\n",
    "\n",
    "giardino = { 'ortensie':3,\n",
    "             'tulipani':7,\n",
    "             'erbacce' : 10,\n",
    "             'rose' : 5,\n",
    "             'cartacce' : 6,            \n",
    "}\n",
    "\n",
    "# scrivi qui\n",
    "\n",
    "del giardino[da_togliere[0]]\n",
    "del giardino[da_togliere[1]]\n",
    "giardino['rose'] = giardino['rose'] + da_aggiungere['rose']\n",
    "giardino['tulipani'] = giardino['tulipani'] + da_aggiungere['tulipani']\n",
    "#print(giardino)"
   ]
  },
  {
   "cell_type": "raw",
   "id": "fa99058e",
   "metadata": {
    "format": "text/html"
   },
   "source": [
    "</div>"
   ]
  },
  {
   "cell_type": "code",
   "execution_count": 23,
   "metadata": {},
   "outputs": [],
   "source": [
    "da_togliere = ['erbacce', 'cartacce']\n",
    "da_aggiungere = {\n",
    "    'tulipani':4,\n",
    "    'rose' : 2\n",
    "}\n",
    "\n",
    "giardino = { 'ortensie':3,\n",
    "             'tulipani':7,\n",
    "             'erbacce' : 10,\n",
    "             'rose' : 5,\n",
    "             'cartacce' : 6,            \n",
    "}\n",
    "\n",
    "# scrivi qui\n",
    "\n"
   ]
  },
  {
   "cell_type": "markdown",
   "metadata": {},
   "source": [
    "### Esercizio - traduzioni\n",
    "\n",
    "Dati due dizionari `en_it` e `it_es` di traduzioni inglese-italiano e italiano-spagnolo,  scrivi del codice che MODIFICA un terzo dizionario `en_es` mettendoci traduzioni dall'inglese allo spagnolo\n",
    "\n",
    "* assumi che `en_it` contenga sempre e solo le traduzioni di `hello` e `road`\n",
    "* assumi che `it_es` contenga sempre e solo le traduzioni di `ciao` e `strada`\n",
    "* nella soluzione, usa **SOLO** le costanti `'hello'` e `'road'`, le altre che ti servono dovrai recuperarle usando i dizionari\n",
    "* **NON** creare un nuovo dizionario - quindi niente linee che iniziano con `en_es = {` \n",
    "\n",
    "\n",
    "Esempio - dati:\n",
    "\n",
    "```python\n",
    "en_it = {\n",
    "    'hello' : 'ciao',\n",
    "    'road' : 'strada'\n",
    "}\n",
    "\n",
    "it_es = {\n",
    "    'ciao' : 'hola',\n",
    "    'strada' : 'carretera'\n",
    "}\n",
    "en_es = {}\n",
    "```\n",
    "\n",
    "dopo il tuo codice, dovrà stampare:\n",
    "\n",
    "```python\n",
    ">>> print(en_es)\n",
    "{'hello': 'hola', 'road': 'carretera'}\n",
    "```"
   ]
  },
  {
   "cell_type": "raw",
   "id": "40fdc0a5",
   "metadata": {
    "format": "text/html"
   },
   "source": [
    "<a  class=\"jupman-sol jupman-sol-toggler\" \n",
    " onclick=\"jupman.toggleSolution(this);\" \n",
    " data-jupman-show=\"Mostra soluzione\" data-jupman-hide=\"Nascondi\">Mostra soluzione</a><div class=\"jupman-sol jupman-sol-code\" style=\"display:none\">  "
   ]
  },
  {
   "cell_type": "code",
   "execution_count": 24,
   "metadata": {},
   "outputs": [],
   "source": [
    "en_it = {\n",
    "    'hello' : 'ciao',\n",
    "    'road' : 'strada'\n",
    "}\n",
    "\n",
    "it_es = {\n",
    "    'ciao' : 'hola',\n",
    "    'strada' : 'carretera'\n",
    "}\n",
    "\n",
    "en_es = {}\n",
    "\n",
    "# scrivi qui\n",
    "en_es['hello'] = it_es[en_it['hello']]\n",
    "en_es['road'] = it_es[en_it['road']]\n",
    "#print(en_es)"
   ]
  },
  {
   "cell_type": "raw",
   "id": "f5390730",
   "metadata": {
    "format": "text/html"
   },
   "source": [
    "</div>"
   ]
  },
  {
   "cell_type": "code",
   "execution_count": 24,
   "metadata": {},
   "outputs": [],
   "source": [
    "en_it = {\n",
    "    'hello' : 'ciao',\n",
    "    'road' : 'strada'\n",
    "}\n",
    "\n",
    "it_es = {\n",
    "    'ciao' : 'hola',\n",
    "    'strada' : 'carretera'\n",
    "}\n",
    "\n",
    "en_es = {}\n",
    "\n",
    "# scrivi qui\n",
    "\n"
   ]
  },
  {
   "cell_type": "markdown",
   "metadata": {},
   "source": [
    "## Appartenenza con `in`\n",
    "\n",
    "Per verificare se una _chiave_ è presente in un dizionario, possiamo usare l'operatore `in`:"
   ]
  },
  {
   "cell_type": "code",
   "execution_count": 25,
   "metadata": {},
   "outputs": [
    {
     "data": {
      "text/plain": [
       "True"
      ]
     },
     "execution_count": 25,
     "metadata": {},
     "output_type": "execute_result"
    }
   ],
   "source": [
    "'a' in {'a':5,'b':7}"
   ]
  },
  {
   "cell_type": "code",
   "execution_count": 26,
   "metadata": {},
   "outputs": [
    {
     "data": {
      "text/plain": [
       "True"
      ]
     },
     "execution_count": 26,
     "metadata": {},
     "output_type": "execute_result"
    }
   ],
   "source": [
    "'b' in {'a':5,'b':7}"
   ]
  },
  {
   "cell_type": "code",
   "execution_count": 27,
   "metadata": {},
   "outputs": [
    {
     "data": {
      "text/plain": [
       "False"
      ]
     },
     "execution_count": 27,
     "metadata": {},
     "output_type": "execute_result"
    }
   ],
   "source": [
    "'z' in {'a':5,'b':7}"
   ]
  },
  {
   "cell_type": "markdown",
   "metadata": {},
   "source": [
    "<div class=\"alert alert-warning\">\n",
    "**ATTENZIONE**: `in` cerca nelle _chiavi_ , non nei _valori_ !\n",
    "</div>"
   ]
  },
  {
   "cell_type": "code",
   "execution_count": 28,
   "metadata": {},
   "outputs": [
    {
     "data": {
      "text/plain": [
       "False"
      ]
     },
     "execution_count": 28,
     "metadata": {},
     "output_type": "execute_result"
    }
   ],
   "source": [
    "5 in {'a':5,'b':7}"
   ]
  },
  {
   "cell_type": "markdown",
   "metadata": {},
   "source": [
    "Come sempre quando operiamo con chiavi, _non_ possiamo cercare un oggetto che sia mutabile, come per esempio le liste:"
   ]
  },
  {
   "cell_type": "markdown",
   "metadata": {},
   "source": [
    "```python\n",
    ">>> [3,5] in {'a':'c','b':'d'}\n",
    "\n",
    "---------------------------------------------------------------------------\n",
    "TypeError                                 Traceback (most recent call last)\n",
    "<ipython-input-41-3e3e336117aa> in <module>\n",
    "----> 1 [3,5] in {'a':'c','b':'d'}\n",
    "\n",
    "TypeError: unhashable type: 'list'\n",
    "```\n"
   ]
  },
  {
   "cell_type": "markdown",
   "metadata": {},
   "source": [
    "### not in\n",
    "\n",
    "E' possibile verificare la _non_ appartenza con l'operatore `not in`:"
   ]
  },
  {
   "cell_type": "code",
   "execution_count": 29,
   "metadata": {},
   "outputs": [
    {
     "data": {
      "text/plain": [
       "True"
      ]
     },
     "execution_count": 29,
     "metadata": {},
     "output_type": "execute_result"
    }
   ],
   "source": [
    "'z' not in {'a':5,'b':7}"
   ]
  },
  {
   "cell_type": "code",
   "execution_count": 30,
   "metadata": {},
   "outputs": [
    {
     "data": {
      "text/plain": [
       "False"
      ]
     },
     "execution_count": 30,
     "metadata": {},
     "output_type": "execute_result"
    }
   ],
   "source": [
    "'a' not in {'a':5,'b':7}"
   ]
  },
  {
   "cell_type": "markdown",
   "metadata": {},
   "source": [
    "Equivalentemente, possiamo usare quest'altra forma:"
   ]
  },
  {
   "cell_type": "code",
   "execution_count": 31,
   "metadata": {},
   "outputs": [
    {
     "data": {
      "text/plain": [
       "True"
      ]
     },
     "execution_count": 31,
     "metadata": {},
     "output_type": "execute_result"
    }
   ],
   "source": [
    "not 'z' in {'a':5,'b':7}"
   ]
  },
  {
   "cell_type": "code",
   "execution_count": 32,
   "metadata": {},
   "outputs": [
    {
     "data": {
      "text/plain": [
       "False"
      ]
     },
     "execution_count": 32,
     "metadata": {},
     "output_type": "execute_result"
    }
   ],
   "source": [
    "not 'a' in {'a':5,'b':7}"
   ]
  },
  {
   "cell_type": "markdown",
   "metadata": {},
   "source": [
    "**DOMANDA**: Guarda i seguenti frammenti di codice, e per ciascuno cerca di indovinare quale risultato produce (o se da errore):\n",
    "\n",
    "   \n",
    "1.  ```python\n",
    "    ('a') in {'a':5}\n",
    "    ```\n",
    "1.  ```python\n",
    "    ('a','b') in {('a','b'):5}\n",
    "    ```\n",
    "1.  ```python\n",
    "    ('a','b',) in {('a','b'):5}\n",
    "    ```\n",
    "1.  ```python\n",
    "    ['a','b'] in {('a','b'):5}\n",
    "    ```\n",
    "1.  ```python\n",
    "    {3: 'q' in {'q':5}}\n",
    "    ```\n",
    "1.  ```python\n",
    "    {'q' not in {'q':0} : 'q' in {'q':0}}\n",
    "    ```\n",
    "1.  ```python\n",
    "    {'a' in 'b'}\n",
    "    ```\n",
    "1.  ```python\n",
    "    {'a' not in {'b':'a'}}\n",
    "    ```\n",
    "1.  ```python\n",
    "    len({'a':6,'b':4}) in {1:2}\n",
    "    ```\n",
    "1.  ```python\n",
    "    'ab' in {('a','b'): 'ab'}\n",
    "    ```\n",
    "1.  ```python\n",
    "    None in {}\n",
    "    ```\n",
    "1.  ```python\n",
    "    \n",
    "    None in {'None':3}\n",
    "    ```\n",
    "1.  ```python\n",
    "    \n",
    "    None in {None:3}\n",
    "    ```\n",
    "1.  ```python    \n",
    "    not None in {0:None}\n",
    "    ```"
   ]
  },
  {
   "cell_type": "markdown",
   "metadata": {},
   "source": [
    "### Esercizio - Il timoniere"
   ]
  },
  {
   "cell_type": "markdown",
   "metadata": {},
   "source": [
    "\n",
    "Al ristorante \"Il Timoniere\" viene servito un `menu` con esattamente 3 portate ciascuna abbinata ad un contorno.  Le portate e i contorni sono **numerati da 1** a **12**. Vi sono molti clienti internazionali che non parlano bene l'italiano, quindi spesso indicano semplicemente un numero di portata. Non indicano mai un contorno.\n",
    "\n",
    "Una volta ricevuta la `richiesta`, il cameriere dispone di un tablet con cui verifica con  'Cambusapp' se il piatto è già pronto con il contorno corretto. Scrivi del codice che dato un indice di **portata** mostra `True`se questa è in `cambusa` abbinata alla portata, `False` altrimenti.\n",
    "\n",
    "- **NON** usare `if`\n",
    "- **NON** usare cicli o list comprehensions\n",
    "- **SUGGERIMENTO**: se non sai come fare, guarda [Booleani - Ordine di valutazione](https://it.softpython.org/basics/basics2-bools-sol.html#Ordine-di-valutazione)\n",
    "\n",
    "Esempio 1 - dati:\n",
    "\n",
    "```python\n",
    "       # 1        2        3        4        5         6         \n",
    "menu = ['aringa','burro','orata','insalata', 'salmone','patate', \n",
    "        \n",
    "       # 7        8          9         10        11        12\n",
    "        'tonno', 'fagioli', 'salmone','limone', 'aringa', 'insalata']\n",
    "\n",
    "cambusa = {'orata':'insalata',           \n",
    "           'salmone':'patate',\n",
    "           'aringa':'insalata',\n",
    "           'tonno':'fagioli'}\n",
    "\n",
    "richiesta = 1   \n",
    "```\n",
    "\n",
    "Il programma mostrerà  `False`, perchè non c'è l'associazione  `\"aringa\" : \"burro\"` in `cambusa`\n",
    "\n",
    "Esempio 2 - data:\n",
    "\n",
    "```python\n",
    "richiesta = 3\n",
    "```\n",
    "\n",
    "il programma mostrerà `True` perchè c'è l'associazione `\"orata\" : \"insalata\"` in `cambusa`\n",
    "\n"
   ]
  },
  {
   "cell_type": "raw",
   "id": "25c421a7",
   "metadata": {
    "format": "text/html"
   },
   "source": [
    "<a  class=\"jupman-sol jupman-sol-toggler\" \n",
    " onclick=\"jupman.toggleSolution(this);\" \n",
    " data-jupman-show=\"Mostra soluzione\" data-jupman-hide=\"Nascondi\">Mostra soluzione</a><div class=\"jupman-sol jupman-sol-code\" style=\"display:none\">  "
   ]
  },
  {
   "cell_type": "code",
   "execution_count": 33,
   "metadata": {},
   "outputs": [
    {
     "data": {
      "text/plain": [
       "False"
      ]
     },
     "execution_count": 33,
     "metadata": {},
     "output_type": "execute_result"
    }
   ],
   "source": [
    "\n",
    "richiesta = 1   # False   \n",
    "#richiesta = 3   # True  \n",
    "#richiesta = 5   # True\n",
    "#richiesta = 7   # True\n",
    "#richiesta = 9   # False\n",
    "#richiesta = 11  # True\n",
    "\n",
    "\n",
    "       # 1        2        3        4        5         6         \n",
    "menu = ['aringa','burro','orata','insalata', 'salmone','patate', \n",
    "        \n",
    "       # 7        8          9         10        11        12\n",
    "        'tonno', 'fagioli', 'salmone','limone', 'aringa', 'insalata']\n",
    "\n",
    "\n",
    "cambusa = {'orata':'insalata',           \n",
    "           'salmone':'patate',\n",
    "           'aringa':'insalata',\n",
    "           'tonno':'fagioli'}\n",
    "\n",
    "# scrivi qui\n",
    "\n",
    "menu[richiesta-1] in cambusa and cambusa[menu[richiesta-1]] == menu[richiesta]"
   ]
  },
  {
   "cell_type": "raw",
   "id": "75aa6881",
   "metadata": {
    "format": "text/html"
   },
   "source": [
    "</div>"
   ]
  },
  {
   "cell_type": "code",
   "execution_count": 33,
   "metadata": {},
   "outputs": [],
   "source": [
    "\n",
    "richiesta = 1   # False   \n",
    "#richiesta = 3   # True  \n",
    "#richiesta = 5   # True\n",
    "#richiesta = 7   # True\n",
    "#richiesta = 9   # False\n",
    "#richiesta = 11  # True\n",
    "\n",
    "\n",
    "       # 1        2        3        4        5         6         \n",
    "menu = ['aringa','burro','orata','insalata', 'salmone','patate', \n",
    "        \n",
    "       # 7        8          9         10        11        12\n",
    "        'tonno', 'fagioli', 'salmone','limone', 'aringa', 'insalata']\n",
    "\n",
    "\n",
    "cambusa = {'orata':'insalata',           \n",
    "           'salmone':'patate',\n",
    "           'aringa':'insalata',\n",
    "           'tonno':'fagioli'}\n",
    "\n",
    "# scrivi qui\n",
    "\n"
   ]
  },
  {
   "cell_type": "markdown",
   "metadata": {},
   "source": [
    "## Dizionari di sequenze\n",
    "\n",
    "Finora abbiamo quasi sempre associato alle chiavi un solo valore. E se volessimo associarne di più? Per esempio, supponiamo di essere una biblioteca e vogliamo associare agli utenti i libri che hanno preso in prestito. Potremmo rappresentare il tutto come un dizionario in cui al nome di ciascun utente si associa una lista con i libri presi in prestito:"
   ]
  },
  {
   "cell_type": "code",
   "execution_count": 34,
   "metadata": {},
   "outputs": [],
   "source": [
    "prestiti = {'Marco': ['I Miserabili', 'Ulisse'],\n",
    "            'Gloria': ['Guerra e pace'],\n",
    "            'Rita': ['Shining','Dracula','1984']}"
   ]
  },
  {
   "cell_type": "markdown",
   "metadata": {},
   "source": [
    "Vediamo come è rappresentato in Python Tutor: "
   ]
  },
  {
   "cell_type": "code",
   "execution_count": 35,
   "metadata": {},
   "outputs": [],
   "source": [
    "# AFFINCHE' PYTHON TUTOR FUNZIONI, RICORDATI DI ESEGUIRE QUESTA CELLA con Shift+Invio\n",
    "#   (basta eseguirla una volta sola, la trovi anche all'inizio di ogni foglio)\n",
    "\n",
    "import jupman"
   ]
  },
  {
   "cell_type": "code",
   "execution_count": 36,
   "metadata": {},
   "outputs": [
    {
     "data": {
      "text/html": [
       "\n",
       "        <script src=\"../_static/js/pytutor-embed.bundle.min.js\" type=\"application/javascript\"></script>\n",
       "     \n",
       "        <script id=\"json-jm56e1835c-f248-4ca5-aa2f-86a87736873b\" type=\"application/json\" >\n",
       "            {\"code\": \" \\nprestiti = {'Marco': ['I Miserabili', 'Ulisse'],\\n            'Gloria': ['Guerra e pace'],\\n            'Rita': ['Shining','Dracula','1984']}\", \"trace\": [{\"line\": 2, \"event\": \"step_line\", \"func_name\": \"<module>\", \"globals\": {}, \"ordered_globals\": [], \"stack_to_render\": [], \"heap\": {}, \"stdout\": \"\"}, {\"line\": 3, \"event\": \"step_line\", \"func_name\": \"<module>\", \"globals\": {}, \"ordered_globals\": [], \"stack_to_render\": [], \"heap\": {}, \"stdout\": \"\"}, {\"line\": 4, \"event\": \"step_line\", \"func_name\": \"<module>\", \"globals\": {}, \"ordered_globals\": [], \"stack_to_render\": [], \"heap\": {}, \"stdout\": \"\"}, {\"line\": 4, \"event\": \"return\", \"func_name\": \"<module>\", \"globals\": {\"prestiti\": [\"REF\", 1]}, \"ordered_globals\": [\"prestiti\"], \"stack_to_render\": [], \"heap\": {\"1\": [\"DICT\", [\"Marco\", [\"REF\", 2]], [\"Gloria\", [\"REF\", 3]], [\"Rita\", [\"REF\", 4]]], \"2\": [\"LIST\", \"I Miserabili\", \"Ulisse\"], \"3\": [\"LIST\", \"Guerra e pace\"], \"4\": [\"LIST\", \"Shining\", \"Dracula\", \"1984\"]}, \"stdout\": \"\"}]}\n",
       "        </script>\n",
       "        <div id=\"jm56e1835c-f248-4ca5-aa2f-86a87736873b\" class=\"pytutorVisualizer\"> </div>\n",
       " \n",
       "        <style>\n",
       "        .vizLayoutTd {\n",
       "            background-color: #fff !important;\n",
       "        }\n",
       "\n",
       "        #pyStdout {            \n",
       "            min-height:25px;\n",
       "        }\n",
       "\n",
       "        /* 'Edit this code' link, hiding because replaces browser tab !!!*/\n",
       "        #editCodeLinkDiv {\n",
       "            display:none;  \n",
       "        }\n",
       "        </style>   \n",
       "                            \n",
       "        <script>\n",
       "        (function(){\n",
       "\n",
       "            var trace = JSON.parse(document.getElementById('json-jm56e1835c-f248-4ca5-aa2f-86a87736873b').innerHTML);                                        \n",
       "            // NOTE 1: id without #\n",
       "            // NOTE 2 - maybe there are more predictable ways, but this will work anyway\n",
       "            //        - id should be number\n",
       "            visualizerIdOverride = Math.trunc(Math.random() * 100000000000)\n",
       "            addVisualizerToPage(trace, 'jm56e1835c-f248-4ca5-aa2f-86a87736873b',{'embeddedMode' : false,\n",
       "                                             'visualizerIdOverride':visualizerIdOverride})  \n",
       "            \n",
       "            \n",
       "            // set overflow for pytuts - need to do in python as css \n",
       "            // does not allow parent selection\n",
       "            var pytuts = $('.pytutorVisualizer')\n",
       "            pytuts.closest('div.output_html.rendered_html.output_result')\n",
       "                    .css('overflow-x', 'visible')\n",
       "        \n",
       "            //pytuts.closest('div.output_html.rendered_html.output_result')\n",
       "            //      .css('background-color','red')                \n",
       "            \n",
       "        })()\n",
       "        </script>\n",
       "                \n",
       "                "
      ],
      "text/plain": [
       "<IPython.core.display.HTML object>"
      ]
     },
     "execution_count": 36,
     "metadata": {},
     "output_type": "execute_result"
    }
   ],
   "source": [
    "prestiti = {'Marco': ['I Miserabili', 'Ulisse'],\n",
    "            'Gloria': ['Guerra e pace'],\n",
    "            'Rita': ['Shining','Dracula','1984']}\n",
    "jupman.pytut()"
   ]
  },
  {
   "cell_type": "markdown",
   "metadata": {},
   "source": [
    "Se proviamo a scrivere l'espressione"
   ]
  },
  {
   "cell_type": "code",
   "execution_count": 37,
   "metadata": {},
   "outputs": [
    {
     "data": {
      "text/plain": [
       "['Shining', 'Dracula', '1984']"
      ]
     },
     "execution_count": 37,
     "metadata": {},
     "output_type": "execute_result"
    }
   ],
   "source": [
    "prestiti['Rita']"
   ]
  },
  {
   "cell_type": "markdown",
   "metadata": {},
   "source": [
    "Python ci mostra la lista corrispondente. Quindi Python considera `prestiti['Rita']` a tutti gli effetti come una lista, e come tale la possiamo usare. Per esempio, se volessimo accedere al libro unesimo della lista scriveremmo `[1]` dopo l'espressione"
   ]
  },
  {
   "cell_type": "code",
   "execution_count": 38,
   "metadata": {},
   "outputs": [
    {
     "data": {
      "text/plain": [
       "'Dracula'"
      ]
     },
     "execution_count": 38,
     "metadata": {},
     "output_type": "execute_result"
    }
   ],
   "source": [
    "prestiti['Rita'][1]"
   ]
  },
  {
   "cell_type": "markdown",
   "metadata": {},
   "source": [
    "Equivalentemente, potremmo anche salvarci un puntatore alla lista assegnando l'espressione ad una variabile:"
   ]
  },
  {
   "cell_type": "code",
   "execution_count": 39,
   "metadata": {},
   "outputs": [],
   "source": [
    "lista_rita = prestiti['Rita']"
   ]
  },
  {
   "cell_type": "code",
   "execution_count": 40,
   "metadata": {},
   "outputs": [
    {
     "data": {
      "text/plain": [
       "['Shining', 'Dracula', '1984']"
      ]
     },
     "execution_count": 40,
     "metadata": {},
     "output_type": "execute_result"
    }
   ],
   "source": [
    "lista_rita"
   ]
  },
  {
   "cell_type": "code",
   "execution_count": 41,
   "metadata": {},
   "outputs": [
    {
     "data": {
      "text/plain": [
       "'Dracula'"
      ]
     },
     "execution_count": 41,
     "metadata": {},
     "output_type": "execute_result"
    }
   ],
   "source": [
    "lista_rita[1]"
   ]
  },
  {
   "cell_type": "markdown",
   "metadata": {},
   "source": [
    "Rivediamo il tutto in Python Tutor: "
   ]
  },
  {
   "cell_type": "code",
   "execution_count": 42,
   "metadata": {
    "scrolled": false
   },
   "outputs": [
    {
     "name": "stdout",
     "output_type": "stream",
     "text": [
      "Dracula\n"
     ]
    },
    {
     "data": {
      "text/html": [
       "\n",
       "        <script src=\"../_static/js/pytutor-embed.bundle.min.js\" type=\"application/javascript\"></script>\n",
       "     \n",
       "        <script id=\"json-jmb97e70c7-c515-4872-9bd4-3ba40bf6973b\" type=\"application/json\" >\n",
       "            {\"code\": \" \\nprestiti = {'Marco':  ['I Miserabili', 'Ulisse'],\\n            'Gloria': ['Guerra e pace'],\\n            'Rita':   ['Shining','Dracula','1984']}\\nlista_rita = prestiti['Rita']\\nprint(lista_rita[1])\", \"trace\": [{\"line\": 2, \"event\": \"step_line\", \"func_name\": \"<module>\", \"globals\": {}, \"ordered_globals\": [], \"stack_to_render\": [], \"heap\": {}, \"stdout\": \"\"}, {\"line\": 3, \"event\": \"step_line\", \"func_name\": \"<module>\", \"globals\": {}, \"ordered_globals\": [], \"stack_to_render\": [], \"heap\": {}, \"stdout\": \"\"}, {\"line\": 4, \"event\": \"step_line\", \"func_name\": \"<module>\", \"globals\": {}, \"ordered_globals\": [], \"stack_to_render\": [], \"heap\": {}, \"stdout\": \"\"}, {\"line\": 5, \"event\": \"step_line\", \"func_name\": \"<module>\", \"globals\": {\"prestiti\": [\"REF\", 1]}, \"ordered_globals\": [\"prestiti\"], \"stack_to_render\": [], \"heap\": {\"1\": [\"DICT\", [\"Marco\", [\"REF\", 2]], [\"Gloria\", [\"REF\", 3]], [\"Rita\", [\"REF\", 4]]], \"2\": [\"LIST\", \"I Miserabili\", \"Ulisse\"], \"3\": [\"LIST\", \"Guerra e pace\"], \"4\": [\"LIST\", \"Shining\", \"Dracula\", \"1984\"]}, \"stdout\": \"\"}, {\"line\": 6, \"event\": \"step_line\", \"func_name\": \"<module>\", \"globals\": {\"prestiti\": [\"REF\", 1], \"lista_rita\": [\"REF\", 4]}, \"ordered_globals\": [\"prestiti\", \"lista_rita\"], \"stack_to_render\": [], \"heap\": {\"1\": [\"DICT\", [\"Marco\", [\"REF\", 2]], [\"Gloria\", [\"REF\", 3]], [\"Rita\", [\"REF\", 4]]], \"2\": [\"LIST\", \"I Miserabili\", \"Ulisse\"], \"3\": [\"LIST\", \"Guerra e pace\"], \"4\": [\"LIST\", \"Shining\", \"Dracula\", \"1984\"]}, \"stdout\": \"\"}, {\"line\": 6, \"event\": \"return\", \"func_name\": \"<module>\", \"globals\": {\"prestiti\": [\"REF\", 1], \"lista_rita\": [\"REF\", 4]}, \"ordered_globals\": [\"prestiti\", \"lista_rita\"], \"stack_to_render\": [], \"heap\": {\"1\": [\"DICT\", [\"Marco\", [\"REF\", 2]], [\"Gloria\", [\"REF\", 3]], [\"Rita\", [\"REF\", 4]]], \"2\": [\"LIST\", \"I Miserabili\", \"Ulisse\"], \"3\": [\"LIST\", \"Guerra e pace\"], \"4\": [\"LIST\", \"Shining\", \"Dracula\", \"1984\"]}, \"stdout\": \"Dracula\\n\"}]}\n",
       "        </script>\n",
       "        <div id=\"jmb97e70c7-c515-4872-9bd4-3ba40bf6973b\" class=\"pytutorVisualizer\"> </div>\n",
       " \n",
       "        <style>\n",
       "        .vizLayoutTd {\n",
       "            background-color: #fff !important;\n",
       "        }\n",
       "\n",
       "        #pyStdout {            \n",
       "            min-height:25px;\n",
       "        }\n",
       "\n",
       "        /* 'Edit this code' link, hiding because replaces browser tab !!!*/\n",
       "        #editCodeLinkDiv {\n",
       "            display:none;  \n",
       "        }\n",
       "        </style>   \n",
       "                            \n",
       "        <script>\n",
       "        (function(){\n",
       "\n",
       "            var trace = JSON.parse(document.getElementById('json-jmb97e70c7-c515-4872-9bd4-3ba40bf6973b').innerHTML);                                        \n",
       "            // NOTE 1: id without #\n",
       "            // NOTE 2 - maybe there are more predictable ways, but this will work anyway\n",
       "            //        - id should be number\n",
       "            visualizerIdOverride = Math.trunc(Math.random() * 100000000000)\n",
       "            addVisualizerToPage(trace, 'jmb97e70c7-c515-4872-9bd4-3ba40bf6973b',{'embeddedMode' : false,\n",
       "                                             'visualizerIdOverride':visualizerIdOverride})  \n",
       "            \n",
       "            \n",
       "            // set overflow for pytuts - need to do in python as css \n",
       "            // does not allow parent selection\n",
       "            var pytuts = $('.pytutorVisualizer')\n",
       "            pytuts.closest('div.output_html.rendered_html.output_result')\n",
       "                    .css('overflow-x', 'visible')\n",
       "        \n",
       "            //pytuts.closest('div.output_html.rendered_html.output_result')\n",
       "            //      .css('background-color','red')                \n",
       "            \n",
       "        })()\n",
       "        </script>\n",
       "                \n",
       "                "
      ],
      "text/plain": [
       "<IPython.core.display.HTML object>"
      ]
     },
     "execution_count": 42,
     "metadata": {},
     "output_type": "execute_result"
    }
   ],
   "source": [
    "prestiti = {'Marco':  ['I Miserabili', 'Ulisse'],\n",
    "            'Gloria': ['Guerra e pace'],\n",
    "            'Rita':   ['Shining','Dracula','1984']}\n",
    "lista_rita = prestiti['Rita']\n",
    "print(lista_rita[1])\n",
    "\n",
    "jupman.pytut()"
   ]
  },
  {
   "cell_type": "markdown",
   "metadata": {},
   "source": [
    "Se esegui il codice in Python Tutor, noterai come nel momento in cui assegnamo `lista_rita` la lista corrispondente a Rita sembra 'staccarsi' dal dizionario. Questo è un solo effetto grafico causato da Python Tutor, dal punto di vista del dizionario non è cambiato nulla. L'intenzione è mostrare che la lista adesso è _raggiungibile_ sia dal dizionario che dalla nuova variabile `lista_rita`. "
   ]
  },
  {
   "cell_type": "markdown",
   "metadata": {},
   "source": [
    "### Esercizio - prestiti\n",
    "\n",
    "Scrivi del codice per recuperare e stampare:\n",
    "\n",
    "1. Il primo libro preso in prestito da Gloria (`'Guerra e Pace'`) e l'ultimo preso in prestito da Rita (`'1984'`)\n",
    "2. Il numero di libri presi in prestito da Rita \n",
    "3. `True` se tutti tra Marco, Gloria e Rita hanno preso in prestito almeno un libro, `False` altrimenti\n"
   ]
  },
  {
   "cell_type": "raw",
   "id": "63788467",
   "metadata": {
    "format": "text/html"
   },
   "source": [
    "<a  class=\"jupman-sol jupman-sol-toggler\" \n",
    " onclick=\"jupman.toggleSolution(this);\" \n",
    " data-jupman-show=\"Mostra soluzione\" data-jupman-hide=\"Nascondi\">Mostra soluzione</a><div class=\"jupman-sol jupman-sol-code\" style=\"display:none\">  "
   ]
  },
  {
   "cell_type": "code",
   "execution_count": 43,
   "metadata": {
    "scrolled": true
   },
   "outputs": [
    {
     "name": "stdout",
     "output_type": "stream",
     "text": [
      "1. Il primo libro preso in prestito da Gloria è Guerra e pace\n",
      "   L'ultimo libro preso in prestito da Rita è 1984\n",
      "2. Rita ha preso in prestito 3 libro/i\n",
      "3. Hanno preso tutti in prestito almeno un libro? True\n"
     ]
    }
   ],
   "source": [
    "prestiti = {'Marco':  ['I Miserabili', 'Ulisse'],\n",
    "            'Gloria': ['Guerra e pace'],\n",
    "            'Rita':   ['Shining','Dracula','1984']}\n",
    "\n",
    "# scrivi qui\n",
    "print(\"1. Il primo libro preso in prestito da Gloria è\", prestiti['Gloria'][0])\n",
    "print(\"   L'ultimo libro preso in prestito da Rita è\", prestiti['Rita'][-1])\n",
    "print(\"2. Rita ha preso in prestito\", len(prestiti['Rita']), \"libro/i\")\n",
    "res = len(prestiti['Marco']) > 0 and len(prestiti['Gloria']) > 0 and len(prestiti['Rita']) > 0\n",
    "print(\"3. Hanno preso tutti in prestito almeno un libro?\", res)"
   ]
  },
  {
   "cell_type": "raw",
   "id": "01329699",
   "metadata": {
    "format": "text/html"
   },
   "source": [
    "</div>"
   ]
  },
  {
   "cell_type": "code",
   "execution_count": 43,
   "metadata": {
    "scrolled": true
   },
   "outputs": [
    {
     "name": "stdout",
     "output_type": "stream",
     "text": [
      "1. Il primo libro preso in prestito da Gloria è Guerra e pace\n",
      "   L'ultimo libro preso in prestito da Rita è 1984\n",
      "2. Rita ha preso in prestito 3 libro/i\n",
      "3. Hanno preso tutti in prestito almeno un libro? True\n"
     ]
    }
   ],
   "source": [
    "prestiti = {'Marco':  ['I Miserabili', 'Ulisse'],\n",
    "            'Gloria': ['Guerra e pace'],\n",
    "            'Rita':   ['Shining','Dracula','1984']}\n",
    "\n",
    "# scrivi qui\n",
    "\n"
   ]
  },
  {
   "cell_type": "markdown",
   "metadata": {},
   "source": [
    "### Esercizio - La baia dello squalo\n",
    "\n",
    "La West India Company ti ha richiesto di compiere una esplorazione nei mari tropicali noti per le specie pericolose che popolano le loro acque. Ti viene fornita una `mappa` che associa dei luoghi alle specie ritrovate:\n",
    "\n",
    "```python\n",
    "mappa = {\n",
    "     \"Baia dello Squalo\" : [\"squali\"],\n",
    "     \"Estuario della Malasorte\" : [\"coccodrilli\", \"piraña\"],\n",
    "     \"Fossa del Naufragio\" : [\"orche assassine\", \"pesci tigre\"],\n",
    "}\n",
    "```\n",
    "\n",
    "Ti vengono altresì date delle indicazioni vaghe su come aggiornare la `mappa`, usando queste variabili:\n",
    "\n",
    "```python\n",
    "luogo = \"Estuario della Malasorte\"\n",
    "pericoli = [\"murene\", \"polpo blu maculato\"]\n",
    "viaggio = \"Largo delle Vele Sommerse\"\n",
    "esplorazione = ['barracuda', 'meduse']\n",
    "```\n",
    "\n",
    "Prova a scrivere del codice che usando le variabili qua sopra (o dati dalla mappa stessa) MODIFICA `mappa` al fine di ottenere:\n",
    "\n",
    "```python\n",
    ">>> mappa\n",
    "{'Baia dello Squalo': ['squali'],\n",
    " 'Estuario della Malasorte': ['coccodrilli', 'piraña', 'meduse'],\n",
    " 'Fossa del Naufragio': ['orche assassine', 'pesci tigre'],\n",
    " 'Largo delle Meduse': ['barracuda', 'meduse', 'coccodrilli', 'piraña']}\n",
    "```\n",
    " \n",
    "- **IMPORTANTE**: **NON usare stringhe costanti nel tuo codice** (quindi es. niente `\"Estuario della Malasorte\"` ...). Costanti numeriche sono invece ammesse.\n",
    " "
   ]
  },
  {
   "cell_type": "raw",
   "id": "bbf422d0",
   "metadata": {
    "format": "text/html"
   },
   "source": [
    "<a  class=\"jupman-sol jupman-sol-toggler\" \n",
    " onclick=\"jupman.toggleSolution(this);\" \n",
    " data-jupman-show=\"Mostra soluzione\" data-jupman-hide=\"Nascondi\">Mostra soluzione</a><div class=\"jupman-sol jupman-sol-code\" style=\"display:none\">  "
   ]
  },
  {
   "cell_type": "code",
   "execution_count": 44,
   "metadata": {},
   "outputs": [
    {
     "data": {
      "text/plain": [
       "{'Baia dello Squalo': ['squali'],\n",
       " 'Estuario della Malasorte': ['coccodrilli', 'piraña', 'meduse'],\n",
       " 'Fossa del Naufragio': ['orche assassine', 'pesci tigre'],\n",
       " 'Largo delle Meduse': ['barracuda', 'meduse', 'coccodrilli', 'piraña']}"
      ]
     },
     "execution_count": 44,
     "metadata": {},
     "output_type": "execute_result"
    }
   ],
   "source": [
    "\n",
    "luogo = \"Estuario della Malasorte\"\n",
    "pericoli = [\"murene\", \"polpo blu maculato\"]\n",
    "viaggio = \"Largo delle Vele Sommerse\"\n",
    "esplorazione = ['barracuda', 'meduse']\n",
    "\n",
    "mappa = {\n",
    "     \"Baia dello Squalo\" : [\"squali\"],\n",
    "     \"Estuario della Malasorte\" : [\"coccodrilli\", \"piraña\"],\n",
    "     \"Fossa del Naufragio\" : [\"orche assassine\", \"pesci tigre\"],\n",
    "}\n",
    "\n",
    "# scrivi qui\n",
    "\n",
    "mappa[viaggio] = pericoli\n",
    "mappa[viaggio[:12] + esplorazione[1].capitalize()] = esplorazione + mappa[luogo]\n",
    "mappa[luogo].append(esplorazione[1])\n",
    "del mappa[viaggio]\n",
    "\n",
    "mappa"
   ]
  },
  {
   "cell_type": "raw",
   "id": "d181c39f",
   "metadata": {
    "format": "text/html"
   },
   "source": [
    "</div>"
   ]
  },
  {
   "cell_type": "code",
   "execution_count": 44,
   "metadata": {},
   "outputs": [],
   "source": [
    "\n",
    "luogo = \"Estuario della Malasorte\"\n",
    "pericoli = [\"murene\", \"polpo blu maculato\"]\n",
    "viaggio = \"Largo delle Vele Sommerse\"\n",
    "esplorazione = ['barracuda', 'meduse']\n",
    "\n",
    "mappa = {\n",
    "     \"Baia dello Squalo\" : [\"squali\"],\n",
    "     \"Estuario della Malasorte\" : [\"coccodrilli\", \"piraña\"],\n",
    "     \"Fossa del Naufragio\" : [\"orche assassine\", \"pesci tigre\"],\n",
    "}\n",
    "\n",
    "# scrivi qui\n",
    "\n"
   ]
  },
  {
   "cell_type": "markdown",
   "metadata": {},
   "source": [
    "### Esercizio - Il mare della burrasca\n",
    "\n",
    "La West India Company ti richiede di scrivere del codice per produrre una `nuova` mappa a partire da `mappa1` e `mappa2`. La mappa `nuova` deve contenere **tutte** le voci di `mappa1`, espansa con le voci `luogo1` e `luogo2` da `mappa2`. \n",
    "\n",
    "- assumi che le voci `luogo1` e `luogo2` siano sempre presenti in `mappa1` e `mappa2`\n",
    "- **IMPORTANTE**: dopo l'esecuzione del tuo codice, sia `mappa1` che `mappa2` devono risultare inalterate!\n",
    "\n",
    "Esempio - date:\n",
    "\n",
    "```python\n",
    "mappa1 = {\n",
    "     \"Baia dello Squalo\" : [\"squali\"],\n",
    "     \"Estuario della Malasorte\" : [\"coccodrilli\", \"piraña\"],\n",
    "     \"Mare della Burrasca\" : [\"barracuda\", \"meduse\"],     \n",
    "}\n",
    "\n",
    "mappa2 = {     \n",
    "     \"Estuario della Malasorte\" : [\"murene\", \"pesci tigre\"],\n",
    "     \"Mare della Burrasca\" : [\"polipi giganti\"],\n",
    "     \"Fossa del Naufragio\" : [\"orche assassine\"],\n",
    "     \"Lago dei Disperati\" : [\"vortici d'acqua\"],\n",
    "}\n",
    "\n",
    "luogo1, luogo2 = \"Estuario della Malasorte\", \"Mare della Burrasca\"\n",
    "```\n",
    "\n",
    "\n",
    "Dopo il tuo cordice, deve risultare:\n",
    "\n",
    "```python\n",
    ">>> nuova\n",
    "{'Baia dello Squalo': ['squali'],\n",
    " 'Estuario della Malasorte': ['coccodrilli', 'piraña', 'murene', 'pesci tigre'],\n",
    " 'Mare della Burrasca': ['barracuda', 'meduse', 'polipi giganti']}\n",
    ">>> mappa1  # inalterata!\n",
    "{'Baia dello Squalo': ['squali'],\n",
    " 'Estuario della Malasorte': ['coccodrilli', 'piraña'],\n",
    " 'Mare della Burrasca': ['barracuda', 'meduse']}\n",
    ">>> mappa2  # inalterata!\n",
    "{'Estuario della Malasorte': ['murene', 'pesci tigre'],\n",
    " 'Fossa del Naufragio': ['orche assassine'],\n",
    " 'Lago dei Disperati': [\"vortici d'acqua\"],\n",
    " 'Mare della Burrasca': ['polipi giganti']}\n",
    "\n",
    "```"
   ]
  },
  {
   "cell_type": "raw",
   "id": "c56e000f",
   "metadata": {
    "format": "text/html"
   },
   "source": [
    "<a  class=\"jupman-sol jupman-sol-toggler\" \n",
    " onclick=\"jupman.toggleSolution(this);\" \n",
    " data-jupman-show=\"Mostra soluzione\" data-jupman-hide=\"Nascondi\">Mostra soluzione</a><div class=\"jupman-sol jupman-sol-code\" style=\"display:none\">  "
   ]
  },
  {
   "cell_type": "code",
   "execution_count": 45,
   "metadata": {},
   "outputs": [
    {
     "name": "stdout",
     "output_type": "stream",
     "text": [
      "nuova:\n",
      "{'Baia dello Squalo': ['squali'],\n",
      " 'Estuario della Malasorte': ['coccodrilli', 'piraña', 'murene', 'pesci tigre'],\n",
      " 'Mare della Burrasca': ['barracuda', 'meduse', 'polipi giganti']}\n",
      "mappa1:\n",
      "{'Baia dello Squalo': ['squali'],\n",
      " 'Estuario della Malasorte': ['coccodrilli', 'piraña'],\n",
      " 'Mare della Burrasca': ['barracuda', 'meduse']}\n",
      "mappa2:\n",
      "{'Estuario della Malasorte': ['murene', 'pesci tigre'],\n",
      " 'Fossa del Naufragio': ['orche assassine'],\n",
      " 'Lago dei Disperati': [\"vortici d'acqua\"],\n",
      " 'Mare della Burrasca': ['polipi giganti']}\n"
     ]
    }
   ],
   "source": [
    "\n",
    "mappa1 = {\n",
    "     \"Baia dello Squalo\" : [\"squali\"],\n",
    "     \"Estuario della Malasorte\" : [\"coccodrilli\", \"piraña\"],\n",
    "     \"Mare della Burrasca\" : [\"barracuda\", \"meduse\"],     \n",
    "}\n",
    "\n",
    "mappa2 = {     \n",
    "     \"Estuario della Malasorte\" : [\"murene\", \"pesci tigre\"],\n",
    "     \"Mare della Burrasca\" : [\"polipi giganti\"],\n",
    "     \"Fossa del Naufragio\" : [\"orche assassine\"],\n",
    "     \"Lago dei Disperati\" : [\"vortici d'acqua\"],\n",
    "}\n",
    "\n",
    "\n",
    "luogo1, luogo2 = \"Estuario della Malasorte\", \"Mare della Burrasca\"\n",
    "\n",
    "# scrivi qui\n",
    "\n",
    "import copy\n",
    "\n",
    "nuova = copy.deepcopy(mappa1)\n",
    "nuova[luogo1].extend(mappa2[luogo1])\n",
    "nuova[luogo2].extend(mappa2[luogo2])\n",
    "\n",
    "from pprint import pprint\n",
    "print(\"nuova:\")\n",
    "pprint(nuova)\n",
    "print(\"mappa1:\")\n",
    "pprint(mappa1)\n",
    "print(\"mappa2:\")\n",
    "pprint(mappa2)\n"
   ]
  },
  {
   "cell_type": "raw",
   "id": "afd9080e",
   "metadata": {
    "format": "text/html"
   },
   "source": [
    "</div>"
   ]
  },
  {
   "cell_type": "code",
   "execution_count": 45,
   "metadata": {},
   "outputs": [],
   "source": [
    "\n",
    "mappa1 = {\n",
    "     \"Baia dello Squalo\" : [\"squali\"],\n",
    "     \"Estuario della Malasorte\" : [\"coccodrilli\", \"piraña\"],\n",
    "     \"Mare della Burrasca\" : [\"barracuda\", \"meduse\"],     \n",
    "}\n",
    "\n",
    "mappa2 = {     \n",
    "     \"Estuario della Malasorte\" : [\"murene\", \"pesci tigre\"],\n",
    "     \"Mare della Burrasca\" : [\"polipi giganti\"],\n",
    "     \"Fossa del Naufragio\" : [\"orche assassine\"],\n",
    "     \"Lago dei Disperati\" : [\"vortici d'acqua\"],\n",
    "}\n",
    "\n",
    "\n",
    "luogo1, luogo2 = \"Estuario della Malasorte\", \"Mare della Burrasca\"\n",
    "\n",
    "# scrivi qui\n",
    "\n"
   ]
  },
  {
   "cell_type": "markdown",
   "metadata": {},
   "source": [
    "## Uguaglianza\n",
    "\n",
    "Possiamo verificare se due dizionari sono uguali con l’operatore di uguaglianza `==`, che dati due dizionari ritorna `True` se contengono coppie chiave/valore uguali oppure `False` altrimenti:"
   ]
  },
  {
   "cell_type": "code",
   "execution_count": 46,
   "metadata": {},
   "outputs": [
    {
     "data": {
      "text/plain": [
       "True"
      ]
     },
     "execution_count": 46,
     "metadata": {},
     "output_type": "execute_result"
    }
   ],
   "source": [
    "{'a':3, 'b':4} == {'a':3, 'b':4}"
   ]
  },
  {
   "cell_type": "code",
   "execution_count": 47,
   "metadata": {},
   "outputs": [
    {
     "data": {
      "text/plain": [
       "False"
      ]
     },
     "execution_count": 47,
     "metadata": {},
     "output_type": "execute_result"
    }
   ],
   "source": [
    "{'a':3, 'b':4} == {'c':3, 'b':4}"
   ]
  },
  {
   "cell_type": "code",
   "execution_count": 48,
   "metadata": {},
   "outputs": [
    {
     "data": {
      "text/plain": [
       "False"
      ]
     },
     "execution_count": 48,
     "metadata": {},
     "output_type": "execute_result"
    }
   ],
   "source": [
    "{'a':3, 'b':4} == {'a':3, 'b':999}"
   ]
  },
  {
   "cell_type": "markdown",
   "metadata": {},
   "source": [
    "Possiamo verificare l’uguaglianza di dizionari con numero di elementi diverso:"
   ]
  },
  {
   "cell_type": "code",
   "execution_count": 49,
   "metadata": {},
   "outputs": [
    {
     "data": {
      "text/plain": [
       "False"
      ]
     },
     "execution_count": 49,
     "metadata": {},
     "output_type": "execute_result"
    }
   ],
   "source": [
    "{'a':3, 'b':4} == {'a':3}"
   ]
  },
  {
   "cell_type": "code",
   "execution_count": 50,
   "metadata": {},
   "outputs": [
    {
     "data": {
      "text/plain": [
       "False"
      ]
     },
     "execution_count": 50,
     "metadata": {},
     "output_type": "execute_result"
    }
   ],
   "source": [
    "{'a':3, 'b':4} == {'a':3,'b':3,'c':5}"
   ]
  },
  {
   "cell_type": "markdown",
   "metadata": {},
   "source": [
    "... e con elementi eterogenei:"
   ]
  },
  {
   "cell_type": "code",
   "execution_count": 51,
   "metadata": {},
   "outputs": [
    {
     "data": {
      "text/plain": [
       "False"
      ]
     },
     "execution_count": 51,
     "metadata": {},
     "output_type": "execute_result"
    }
   ],
   "source": [
    "{'a':3, 'b':4} == {2:('q','p'), 'b':[99,77]}"
   ]
  },
  {
   "cell_type": "markdown",
   "metadata": {},
   "source": [
    "### Uguaglianza e ordine\n",
    "\n",
    "Dalla definizione: \n",
    "\n",
    "> * Le chiavi sono immutabili, **non hanno ordine** e non vi possono essere duplicati\n",
    "\n",
    "Visto che l'ordine non ha importanza,  dizionari creati inserendo le stesse coppie chiavi/valore ma in ordine diverso saranno considerati uguali.\n",
    "\n",
    "Esempio con creazione diretta:"
   ]
  },
  {
   "cell_type": "code",
   "execution_count": 52,
   "metadata": {},
   "outputs": [
    {
     "data": {
      "text/plain": [
       "True"
      ]
     },
     "execution_count": 52,
     "metadata": {},
     "output_type": "execute_result"
    }
   ],
   "source": [
    "{'a':5, 'b':7} == {'b':7, 'a':5}"
   ]
  },
  {
   "cell_type": "markdown",
   "metadata": {},
   "source": [
    "Esempio con aggiunta graduale:"
   ]
  },
  {
   "cell_type": "code",
   "execution_count": 53,
   "metadata": {},
   "outputs": [
    {
     "name": "stdout",
     "output_type": "stream",
     "text": [
      "True\n"
     ]
    }
   ],
   "source": [
    "diz1 = {}\n",
    "diz1['a'] = 5\n",
    "diz1['b'] = 7\n",
    "\n",
    "diz2 = {}\n",
    "diz2['b'] = 7\n",
    "diz2['a'] = 5\n",
    "\n",
    "print(diz1 == diz2)"
   ]
  },
  {
   "cell_type": "markdown",
   "metadata": {},
   "source": [
    "**DOMANDA**: Guarda i seguenti frammenti di codice, e per ciascuno cerca di indovinare quale risultato produce (o se da errore):\n",
    "\n",
    "\n",
    "   \n",
    "1.  ```python\n",
    "    {1:2} == {2:1}\n",
    "    ```\n",
    "1.  ```python    \n",
    "    {1:2,3:4} == {3:4,1:2}\n",
    "    ```    \n",
    "1.  ```python\n",
    "    {'a'.upper():3} == {'a':3}\n",
    "    ```\n",
    "1.  ```python\n",
    "    {'A'.lower():3} == {'a':3}    \n",
    "    ```    \n",
    "1.  ```python\n",
    "    {'a': {1:2} == {3:4}}\n",
    "    ```\n",
    "1.  ```python\n",
    "    diz1 = {}\n",
    "    diz1[2] = 5\n",
    "    diz1[3] = 7\n",
    "\n",
    "    diz2 = {}\n",
    "    diz2[3] = 7\n",
    "    diz2[2] = 5\n",
    "    print(diz1 == diz2)\n",
    "    ```\n",
    "1.  ```python\n",
    "    diz1 = {'a':3,'b':8}\n",
    "    diz2 = diz1\n",
    "    diz1['a'] = 7\n",
    "    print(diz1 == diz2)\n",
    "    ```\n",
    "1.  ```python\n",
    "    diz1 = {}\n",
    "    diz1['a']=3\n",
    "    diz2 = diz1\n",
    "    diz2['a']=4\n",
    "    print(diz1 == diz2)\n",
    "    ```\n",
    "1.  ```python\n",
    "    diz1 = {'a':3, 'b':4, 'c':5}\n",
    "    diz2 = {'a':3,'c':5}\n",
    "    del diz1['a']\n",
    "    print(diz1 == diz2)\n",
    "    ```\n",
    "1.  ```python\n",
    "    diz1 = {}\n",
    "    diz2 = {'a':3}\n",
    "    diz1['a'] = 3\n",
    "    diz1['b'] = 5\n",
    "    diz2['b'] = 5\n",
    "    print(diz1 == diz2)\n",
    "    ```    "
   ]
  },
  {
   "cell_type": "markdown",
   "metadata": {},
   "source": [
    "### Uguaglianza e copie\n",
    "\n",
    "Quando si duplicano contenitori che contengono oggetti mutabili, se non si presta attenzione si possono ottenere sorprese. Ritorniamo quindi sull'argomento copie di dizionari superficiale e in profondità, questa volta cercando di verificare l'effettiva uguaglianza con Python.\n",
    "\n",
    "<div class=\"alert alert-warning\">\n",
    "\n",
    "**ATTENZIONE: Per comprendere quanto segue, è necessario (ri)guardare bene il foglio** [dizionari 1 - Copiare un dizionario](https://it.softpython.org/dictionaries/dictionaries1-sol.html#Copiare-un-dizionario)\n",
    "</div>\n",
    "\n",
    "**DOMANDA**: Vediamo un esempio semplice, con una copia 'manuale'. Se esegui il seguente codice in Python Tutor, cosa stamperà? Quante regioni di memoria vedrai? \n",
    "\n",
    "```python\n",
    "diz1 = {'a':3,\n",
    "        'b':8}\n",
    "diz2 = {'a':diz1['a'], \n",
    "        'b':diz1['b'] }\n",
    "diz1['a'] = 6\n",
    "\n",
    "print('uguali?', diz1 == diz2)\n",
    "print('diz1=', diz1)\n",
    "print('diz2=', diz2)\n",
    "```\n",
    "\n",
    "NOTA: tutti i valori (`3` e `8`) sono **immutabili**."
   ]
  },
  {
   "cell_type": "raw",
   "id": "debe1742",
   "metadata": {
    "format": "text/html"
   },
   "source": [
    "<a  class=\"jupman-sol jupman-sol-toggler\" \n",
    " onclick=\"jupman.toggleSolution(this);\" \n",
    " data-jupman-show=\"Mostra risposta\" data-jupman-hide=\"Nascondi\">Mostra risposta</a><div class=\"jupman-sol jupman-sol-question\" style=\"display:none\">  "
   ]
  },
  {
   "cell_type": "markdown",
   "metadata": {},
   "source": [
    "**RISPOSTA**: In questo caso abbiamo creato manualmente un dizionario `diz2` indicando dei valori  _immutabili_ presi da `diz1`. Pertanto in Python Tutor vedremo due regioni di memoria distinte e una successiva modifica a `diz1` non altererà `diz2`:"
   ]
  },
  {
   "cell_type": "raw",
   "id": "cbe5f02e",
   "metadata": {
    "format": "text/html"
   },
   "source": [
    "</div>"
   ]
  },
  {
   "cell_type": "code",
   "execution_count": 54,
   "metadata": {},
   "outputs": [
    {
     "name": "stdout",
     "output_type": "stream",
     "text": [
      "uguali? False\n",
      "diz1= {'a': 6, 'b': 8}\n",
      "diz2= {'a': 3, 'b': 8}\n"
     ]
    },
    {
     "data": {
      "text/html": [
       "\n",
       "        <script src=\"../_static/js/pytutor-embed.bundle.min.js\" type=\"application/javascript\"></script>\n",
       "     \n",
       "        <script id=\"json-jm7e0994fa-4056-45a0-8121-c439e2bc9744\" type=\"application/json\" >\n",
       "            {\"code\": \" \\ndiz1 = {'a':3,\\n        'b':8}\\ndiz2 = {'a':diz1['a'], \\n        'b':diz1['b'] }\\ndiz1['a'] = 6\\n\\nprint('uguali?', diz1 == diz2)\\nprint('diz1=', diz1)\\nprint('diz2=', diz2)\", \"trace\": [{\"line\": 2, \"event\": \"step_line\", \"func_name\": \"<module>\", \"globals\": {}, \"ordered_globals\": [], \"stack_to_render\": [], \"heap\": {}, \"stdout\": \"\"}, {\"line\": 3, \"event\": \"step_line\", \"func_name\": \"<module>\", \"globals\": {}, \"ordered_globals\": [], \"stack_to_render\": [], \"heap\": {}, \"stdout\": \"\"}, {\"line\": 4, \"event\": \"step_line\", \"func_name\": \"<module>\", \"globals\": {\"diz1\": [\"REF\", 1]}, \"ordered_globals\": [\"diz1\"], \"stack_to_render\": [], \"heap\": {\"1\": [\"DICT\", [\"a\", 3], [\"b\", 8]]}, \"stdout\": \"\"}, {\"line\": 5, \"event\": \"step_line\", \"func_name\": \"<module>\", \"globals\": {\"diz1\": [\"REF\", 1]}, \"ordered_globals\": [\"diz1\"], \"stack_to_render\": [], \"heap\": {\"1\": [\"DICT\", [\"a\", 3], [\"b\", 8]]}, \"stdout\": \"\"}, {\"line\": 6, \"event\": \"step_line\", \"func_name\": \"<module>\", \"globals\": {\"diz1\": [\"REF\", 1], \"diz2\": [\"REF\", 2]}, \"ordered_globals\": [\"diz1\", \"diz2\"], \"stack_to_render\": [], \"heap\": {\"1\": [\"DICT\", [\"a\", 3], [\"b\", 8]], \"2\": [\"DICT\", [\"a\", 3], [\"b\", 8]]}, \"stdout\": \"\"}, {\"line\": 8, \"event\": \"step_line\", \"func_name\": \"<module>\", \"globals\": {\"diz1\": [\"REF\", 1], \"diz2\": [\"REF\", 2]}, \"ordered_globals\": [\"diz1\", \"diz2\"], \"stack_to_render\": [], \"heap\": {\"1\": [\"DICT\", [\"a\", 6], [\"b\", 8]], \"2\": [\"DICT\", [\"a\", 3], [\"b\", 8]]}, \"stdout\": \"\"}, {\"line\": 9, \"event\": \"step_line\", \"func_name\": \"<module>\", \"globals\": {\"diz1\": [\"REF\", 1], \"diz2\": [\"REF\", 2]}, \"ordered_globals\": [\"diz1\", \"diz2\"], \"stack_to_render\": [], \"heap\": {\"1\": [\"DICT\", [\"a\", 6], [\"b\", 8]], \"2\": [\"DICT\", [\"a\", 3], [\"b\", 8]]}, \"stdout\": \"uguali? False\\n\"}, {\"line\": 10, \"event\": \"step_line\", \"func_name\": \"<module>\", \"globals\": {\"diz1\": [\"REF\", 1], \"diz2\": [\"REF\", 2]}, \"ordered_globals\": [\"diz1\", \"diz2\"], \"stack_to_render\": [], \"heap\": {\"1\": [\"DICT\", [\"a\", 6], [\"b\", 8]], \"2\": [\"DICT\", [\"a\", 3], [\"b\", 8]]}, \"stdout\": \"uguali? False\\ndiz1= {'a': 6, 'b': 8}\\n\"}, {\"line\": 10, \"event\": \"return\", \"func_name\": \"<module>\", \"globals\": {\"diz1\": [\"REF\", 1], \"diz2\": [\"REF\", 2]}, \"ordered_globals\": [\"diz1\", \"diz2\"], \"stack_to_render\": [], \"heap\": {\"1\": [\"DICT\", [\"a\", 6], [\"b\", 8]], \"2\": [\"DICT\", [\"a\", 3], [\"b\", 8]]}, \"stdout\": \"uguali? False\\ndiz1= {'a': 6, 'b': 8}\\ndiz2= {'a': 3, 'b': 8}\\n\"}]}\n",
       "        </script>\n",
       "        <div id=\"jm7e0994fa-4056-45a0-8121-c439e2bc9744\" class=\"pytutorVisualizer\"> </div>\n",
       " \n",
       "        <style>\n",
       "        .vizLayoutTd {\n",
       "            background-color: #fff !important;\n",
       "        }\n",
       "\n",
       "        #pyStdout {            \n",
       "            min-height:25px;\n",
       "        }\n",
       "\n",
       "        /* 'Edit this code' link, hiding because replaces browser tab !!!*/\n",
       "        #editCodeLinkDiv {\n",
       "            display:none;  \n",
       "        }\n",
       "        </style>   \n",
       "                            \n",
       "        <script>\n",
       "        (function(){\n",
       "\n",
       "            var trace = JSON.parse(document.getElementById('json-jm7e0994fa-4056-45a0-8121-c439e2bc9744').innerHTML);                                        \n",
       "            // NOTE 1: id without #\n",
       "            // NOTE 2 - maybe there are more predictable ways, but this will work anyway\n",
       "            //        - id should be number\n",
       "            visualizerIdOverride = Math.trunc(Math.random() * 100000000000)\n",
       "            addVisualizerToPage(trace, 'jm7e0994fa-4056-45a0-8121-c439e2bc9744',{'embeddedMode' : false,\n",
       "                                             'visualizerIdOverride':visualizerIdOverride})  \n",
       "            \n",
       "            \n",
       "            // set overflow for pytuts - need to do in python as css \n",
       "            // does not allow parent selection\n",
       "            var pytuts = $('.pytutorVisualizer')\n",
       "            pytuts.closest('div.output_html.rendered_html.output_result')\n",
       "                    .css('overflow-x', 'visible')\n",
       "        \n",
       "            //pytuts.closest('div.output_html.rendered_html.output_result')\n",
       "            //      .css('background-color','red')                \n",
       "            \n",
       "        })()\n",
       "        </script>\n",
       "                \n",
       "                "
      ],
      "text/plain": [
       "<IPython.core.display.HTML object>"
      ]
     },
     "execution_count": 54,
     "metadata": {},
     "output_type": "execute_result"
    }
   ],
   "source": [
    "diz1 = {'a':3,\n",
    "        'b':8}\n",
    "diz2 = {'a':diz1['a'], \n",
    "        'b':diz1['b'] }\n",
    "diz1['a'] = 6\n",
    "\n",
    "print('uguali?', diz1 == diz2)\n",
    "print('diz1=', diz1)\n",
    "print('diz2=', diz2)\n",
    "\n",
    "jupman.pytut()    "
   ]
  },
  {
   "cell_type": "markdown",
   "metadata": {},
   "source": [
    "**DOMANDA**: Se esegui il seguente codice in Python Tutor, cosa stamperà?\n",
    "\n",
    "1. Che tipo di copia abbiamo fatto? Superficiale? In profondità? (o tutte e due..?)\n",
    "2. Quante regioni di memoria vedrai? \n",
    "\n",
    "```python\n",
    "diz1 = {'a':3,\n",
    "        'b':8}\n",
    "diz2 = dict(diz1)\n",
    "diz1['a'] = 7\n",
    "\n",
    "print('uguali?', diz1 == diz2)\n",
    "print('diz1=', diz1)\n",
    "print('diz2=', diz2)\n",
    "```\n"
   ]
  },
  {
   "cell_type": "raw",
   "id": "f4cad84f",
   "metadata": {
    "format": "text/html"
   },
   "source": [
    "<a  class=\"jupman-sol jupman-sol-toggler\" \n",
    " onclick=\"jupman.toggleSolution(this);\" \n",
    " data-jupman-show=\"Mostra risposta\" data-jupman-hide=\"Nascondi\">Mostra risposta</a><div class=\"jupman-sol jupman-sol-question\" style=\"display:none\">  "
   ]
  },
  {
   "cell_type": "markdown",
   "metadata": {},
   "source": [
    "**RISPOSTA**: `dict` quando usato come funzione esegue una _copia superficiale_ (_shallow copy_), cioè copia la struttura del dizionario senza duplicare i valori mutabili. In questo caso specifico, tutti i valori che abbiamo sono interi quindi immutabili, perciò la copia può anche essere considerata una duplicazione completa. Quando assegnamo il valore `7` alla chiave `'a'` in `diz1` stiamo modificando la struttura dati originale, lasciando inalterata la copia `diz2` appena fatta, pertanto `diz1 == diz2` varrà `False`. Verifichiamolo in Python Tutor:"
   ]
  },
  {
   "cell_type": "raw",
   "id": "f62381ac",
   "metadata": {
    "format": "text/html"
   },
   "source": [
    "</div>"
   ]
  },
  {
   "cell_type": "code",
   "execution_count": 55,
   "metadata": {},
   "outputs": [
    {
     "name": "stdout",
     "output_type": "stream",
     "text": [
      "uguali? False\n",
      "diz1= {'a': 7, 'b': 8}\n",
      "diz2= {'a': 3, 'b': 8}\n"
     ]
    },
    {
     "data": {
      "text/html": [
       "\n",
       "        <script src=\"../_static/js/pytutor-embed.bundle.min.js\" type=\"application/javascript\"></script>\n",
       "     \n",
       "        <script id=\"json-jmb3110e2d-e685-4b13-8dcd-96eb567c85c9\" type=\"application/json\" >\n",
       "            {\"code\": \" \\ndiz1 = {'a':3,\\n        'b':8}\\ndiz2 = dict(diz1)\\ndiz1['a'] = 7\\n\\nprint('uguali?', diz1 == diz2)\\nprint('diz1=', diz1)\\nprint('diz2=', diz2)\", \"trace\": [{\"line\": 2, \"event\": \"step_line\", \"func_name\": \"<module>\", \"globals\": {}, \"ordered_globals\": [], \"stack_to_render\": [], \"heap\": {}, \"stdout\": \"\"}, {\"line\": 3, \"event\": \"step_line\", \"func_name\": \"<module>\", \"globals\": {}, \"ordered_globals\": [], \"stack_to_render\": [], \"heap\": {}, \"stdout\": \"\"}, {\"line\": 4, \"event\": \"step_line\", \"func_name\": \"<module>\", \"globals\": {\"diz1\": [\"REF\", 1]}, \"ordered_globals\": [\"diz1\"], \"stack_to_render\": [], \"heap\": {\"1\": [\"DICT\", [\"a\", 3], [\"b\", 8]]}, \"stdout\": \"\"}, {\"line\": 5, \"event\": \"step_line\", \"func_name\": \"<module>\", \"globals\": {\"diz1\": [\"REF\", 1], \"diz2\": [\"REF\", 2]}, \"ordered_globals\": [\"diz1\", \"diz2\"], \"stack_to_render\": [], \"heap\": {\"1\": [\"DICT\", [\"a\", 3], [\"b\", 8]], \"2\": [\"DICT\", [\"a\", 3], [\"b\", 8]]}, \"stdout\": \"\"}, {\"line\": 7, \"event\": \"step_line\", \"func_name\": \"<module>\", \"globals\": {\"diz1\": [\"REF\", 1], \"diz2\": [\"REF\", 2]}, \"ordered_globals\": [\"diz1\", \"diz2\"], \"stack_to_render\": [], \"heap\": {\"1\": [\"DICT\", [\"a\", 7], [\"b\", 8]], \"2\": [\"DICT\", [\"a\", 3], [\"b\", 8]]}, \"stdout\": \"\"}, {\"line\": 8, \"event\": \"step_line\", \"func_name\": \"<module>\", \"globals\": {\"diz1\": [\"REF\", 1], \"diz2\": [\"REF\", 2]}, \"ordered_globals\": [\"diz1\", \"diz2\"], \"stack_to_render\": [], \"heap\": {\"1\": [\"DICT\", [\"a\", 7], [\"b\", 8]], \"2\": [\"DICT\", [\"a\", 3], [\"b\", 8]]}, \"stdout\": \"uguali? False\\n\"}, {\"line\": 9, \"event\": \"step_line\", \"func_name\": \"<module>\", \"globals\": {\"diz1\": [\"REF\", 1], \"diz2\": [\"REF\", 2]}, \"ordered_globals\": [\"diz1\", \"diz2\"], \"stack_to_render\": [], \"heap\": {\"1\": [\"DICT\", [\"a\", 7], [\"b\", 8]], \"2\": [\"DICT\", [\"a\", 3], [\"b\", 8]]}, \"stdout\": \"uguali? False\\ndiz1= {'a': 7, 'b': 8}\\n\"}, {\"line\": 9, \"event\": \"return\", \"func_name\": \"<module>\", \"globals\": {\"diz1\": [\"REF\", 1], \"diz2\": [\"REF\", 2]}, \"ordered_globals\": [\"diz1\", \"diz2\"], \"stack_to_render\": [], \"heap\": {\"1\": [\"DICT\", [\"a\", 7], [\"b\", 8]], \"2\": [\"DICT\", [\"a\", 3], [\"b\", 8]]}, \"stdout\": \"uguali? False\\ndiz1= {'a': 7, 'b': 8}\\ndiz2= {'a': 3, 'b': 8}\\n\"}]}\n",
       "        </script>\n",
       "        <div id=\"jmb3110e2d-e685-4b13-8dcd-96eb567c85c9\" class=\"pytutorVisualizer\"> </div>\n",
       " \n",
       "        <style>\n",
       "        .vizLayoutTd {\n",
       "            background-color: #fff !important;\n",
       "        }\n",
       "\n",
       "        #pyStdout {            \n",
       "            min-height:25px;\n",
       "        }\n",
       "\n",
       "        /* 'Edit this code' link, hiding because replaces browser tab !!!*/\n",
       "        #editCodeLinkDiv {\n",
       "            display:none;  \n",
       "        }\n",
       "        </style>   \n",
       "                            \n",
       "        <script>\n",
       "        (function(){\n",
       "\n",
       "            var trace = JSON.parse(document.getElementById('json-jmb3110e2d-e685-4b13-8dcd-96eb567c85c9').innerHTML);                                        \n",
       "            // NOTE 1: id without #\n",
       "            // NOTE 2 - maybe there are more predictable ways, but this will work anyway\n",
       "            //        - id should be number\n",
       "            visualizerIdOverride = Math.trunc(Math.random() * 100000000000)\n",
       "            addVisualizerToPage(trace, 'jmb3110e2d-e685-4b13-8dcd-96eb567c85c9',{'embeddedMode' : false,\n",
       "                                             'visualizerIdOverride':visualizerIdOverride})  \n",
       "            \n",
       "            \n",
       "            // set overflow for pytuts - need to do in python as css \n",
       "            // does not allow parent selection\n",
       "            var pytuts = $('.pytutorVisualizer')\n",
       "            pytuts.closest('div.output_html.rendered_html.output_result')\n",
       "                    .css('overflow-x', 'visible')\n",
       "        \n",
       "            //pytuts.closest('div.output_html.rendered_html.output_result')\n",
       "            //      .css('background-color','red')                \n",
       "            \n",
       "        })()\n",
       "        </script>\n",
       "                \n",
       "                "
      ],
      "text/plain": [
       "<IPython.core.display.HTML object>"
      ]
     },
     "execution_count": 55,
     "metadata": {},
     "output_type": "execute_result"
    }
   ],
   "source": [
    "diz1 = {'a':3,\n",
    "        'b':8}\n",
    "diz2 = dict(diz1)\n",
    "diz1['a'] = 7\n",
    "\n",
    "print('uguali?', diz1 == diz2)\n",
    "print('diz1=', diz1)\n",
    "print('diz2=', diz2)\n",
    "\n",
    "jupman.pytut()"
   ]
  },
  {
   "cell_type": "markdown",
   "metadata": {},
   "source": [
    "**DOMANDA**: Se esegui il seguente codice in Python Tutor, cosa stamperà?\n",
    "\n",
    "1. Che tipo di copia abbiamo fatto? Superficiale? In profondità? (o tutte e due..?)\n",
    "2. Quante regioni di memoria vedrai? \n",
    "\n",
    "**NOTA**: i valori sono liste, perciò **mutabili**\n",
    "\n",
    "```python\n",
    "diz1 = {'a':[1,2],\n",
    "        'b':[4,5,6]}\n",
    "diz2 = dict(diz1)\n",
    "diz1['a'].append(3)\n",
    "\n",
    "print('uguali?', diz1 == diz2)\n",
    "print('diz1=', diz1)\n",
    "print('diz2=', diz2)\n",
    "```"
   ]
  },
  {
   "cell_type": "raw",
   "id": "8e2535b5",
   "metadata": {
    "format": "text/html"
   },
   "source": [
    "<a  class=\"jupman-sol jupman-sol-toggler\" \n",
    " onclick=\"jupman.toggleSolution(this);\" \n",
    " data-jupman-show=\"Mostra risposta\" data-jupman-hide=\"Nascondi\">Mostra risposta</a><div class=\"jupman-sol jupman-sol-question\" style=\"display:none\">  "
   ]
  },
  {
   "cell_type": "markdown",
   "metadata": {},
   "source": [
    "**RISPOSTA**: Abbiamo usato `dict` come una funzione, quindi abbiamo fatto una _copia superficiale_. In questo caso come valori abbiamo liste che sono oggetti _mutabili_. Questo vuol dire che la copia superficiale si è limitata a copiare i riferimenti alle liste, ma _non_ le liste stesse. Per questa ragione vedrai delle frecce puntare dalla copia del dizionario `diz2` alle regioni di memoria delle liste originali. Questo significa che se cerchi di modificare una lista dopo che la copia è avvenuta (per esempio con il metodo `.append(3)`), di fatto modificherai anche la lista raggiungibile dal dizionario copiato `diz2`. Verifichiamolo in Python Tutor:"
   ]
  },
  {
   "cell_type": "raw",
   "id": "700b80dc",
   "metadata": {
    "format": "text/html"
   },
   "source": [
    "</div>"
   ]
  },
  {
   "cell_type": "code",
   "execution_count": 56,
   "metadata": {},
   "outputs": [
    {
     "name": "stdout",
     "output_type": "stream",
     "text": [
      "uguali? True\n",
      "diz1= {'a': [1, 2, 3], 'b': [4, 5, 6]}\n",
      "diz2= {'a': [1, 2, 3], 'b': [4, 5, 6]}\n"
     ]
    },
    {
     "data": {
      "text/html": [
       "\n",
       "        <script src=\"../_static/js/pytutor-embed.bundle.min.js\" type=\"application/javascript\"></script>\n",
       "     \n",
       "        <script id=\"json-jm12b2a326-df85-47ba-a84f-c19d9dc17aa9\" type=\"application/json\" >\n",
       "            {\"code\": \" \\ndiz1 = {'a':[1,2],\\n        'b':[4,5,6]}\\ndiz2 = dict(diz1)\\ndiz1['a'].append(3)\\n\\nprint('uguali?', diz1 == diz2)\\nprint('diz1=', diz1)\\nprint('diz2=', diz2)\", \"trace\": [{\"line\": 2, \"event\": \"step_line\", \"func_name\": \"<module>\", \"globals\": {}, \"ordered_globals\": [], \"stack_to_render\": [], \"heap\": {}, \"stdout\": \"\"}, {\"line\": 3, \"event\": \"step_line\", \"func_name\": \"<module>\", \"globals\": {}, \"ordered_globals\": [], \"stack_to_render\": [], \"heap\": {}, \"stdout\": \"\"}, {\"line\": 4, \"event\": \"step_line\", \"func_name\": \"<module>\", \"globals\": {\"diz1\": [\"REF\", 1]}, \"ordered_globals\": [\"diz1\"], \"stack_to_render\": [], \"heap\": {\"1\": [\"DICT\", [\"a\", [\"REF\", 2]], [\"b\", [\"REF\", 3]]], \"2\": [\"LIST\", 1, 2], \"3\": [\"LIST\", 4, 5, 6]}, \"stdout\": \"\"}, {\"line\": 5, \"event\": \"step_line\", \"func_name\": \"<module>\", \"globals\": {\"diz1\": [\"REF\", 1], \"diz2\": [\"REF\", 4]}, \"ordered_globals\": [\"diz1\", \"diz2\"], \"stack_to_render\": [], \"heap\": {\"1\": [\"DICT\", [\"a\", [\"REF\", 2]], [\"b\", [\"REF\", 3]]], \"2\": [\"LIST\", 1, 2], \"3\": [\"LIST\", 4, 5, 6], \"4\": [\"DICT\", [\"a\", [\"REF\", 2]], [\"b\", [\"REF\", 3]]]}, \"stdout\": \"\"}, {\"line\": 7, \"event\": \"step_line\", \"func_name\": \"<module>\", \"globals\": {\"diz1\": [\"REF\", 1], \"diz2\": [\"REF\", 4]}, \"ordered_globals\": [\"diz1\", \"diz2\"], \"stack_to_render\": [], \"heap\": {\"1\": [\"DICT\", [\"a\", [\"REF\", 2]], [\"b\", [\"REF\", 3]]], \"2\": [\"LIST\", 1, 2, 3], \"3\": [\"LIST\", 4, 5, 6], \"4\": [\"DICT\", [\"a\", [\"REF\", 2]], [\"b\", [\"REF\", 3]]]}, \"stdout\": \"\"}, {\"line\": 8, \"event\": \"step_line\", \"func_name\": \"<module>\", \"globals\": {\"diz1\": [\"REF\", 1], \"diz2\": [\"REF\", 4]}, \"ordered_globals\": [\"diz1\", \"diz2\"], \"stack_to_render\": [], \"heap\": {\"1\": [\"DICT\", [\"a\", [\"REF\", 2]], [\"b\", [\"REF\", 3]]], \"2\": [\"LIST\", 1, 2, 3], \"3\": [\"LIST\", 4, 5, 6], \"4\": [\"DICT\", [\"a\", [\"REF\", 2]], [\"b\", [\"REF\", 3]]]}, \"stdout\": \"uguali? True\\n\"}, {\"line\": 9, \"event\": \"step_line\", \"func_name\": \"<module>\", \"globals\": {\"diz1\": [\"REF\", 1], \"diz2\": [\"REF\", 4]}, \"ordered_globals\": [\"diz1\", \"diz2\"], \"stack_to_render\": [], \"heap\": {\"1\": [\"DICT\", [\"a\", [\"REF\", 2]], [\"b\", [\"REF\", 3]]], \"2\": [\"LIST\", 1, 2, 3], \"3\": [\"LIST\", 4, 5, 6], \"4\": [\"DICT\", [\"a\", [\"REF\", 2]], [\"b\", [\"REF\", 3]]]}, \"stdout\": \"uguali? True\\ndiz1= {'a': [1, 2, 3], 'b': [4, 5, 6]}\\n\"}, {\"line\": 9, \"event\": \"return\", \"func_name\": \"<module>\", \"globals\": {\"diz1\": [\"REF\", 1], \"diz2\": [\"REF\", 4]}, \"ordered_globals\": [\"diz1\", \"diz2\"], \"stack_to_render\": [], \"heap\": {\"1\": [\"DICT\", [\"a\", [\"REF\", 2]], [\"b\", [\"REF\", 3]]], \"2\": [\"LIST\", 1, 2, 3], \"3\": [\"LIST\", 4, 5, 6], \"4\": [\"DICT\", [\"a\", [\"REF\", 2]], [\"b\", [\"REF\", 3]]]}, \"stdout\": \"uguali? True\\ndiz1= {'a': [1, 2, 3], 'b': [4, 5, 6]}\\ndiz2= {'a': [1, 2, 3], 'b': [4, 5, 6]}\\n\"}]}\n",
       "        </script>\n",
       "        <div id=\"jm12b2a326-df85-47ba-a84f-c19d9dc17aa9\" class=\"pytutorVisualizer\"> </div>\n",
       " \n",
       "        <style>\n",
       "        .vizLayoutTd {\n",
       "            background-color: #fff !important;\n",
       "        }\n",
       "\n",
       "        #pyStdout {            \n",
       "            min-height:25px;\n",
       "        }\n",
       "\n",
       "        /* 'Edit this code' link, hiding because replaces browser tab !!!*/\n",
       "        #editCodeLinkDiv {\n",
       "            display:none;  \n",
       "        }\n",
       "        </style>   \n",
       "                            \n",
       "        <script>\n",
       "        (function(){\n",
       "\n",
       "            var trace = JSON.parse(document.getElementById('json-jm12b2a326-df85-47ba-a84f-c19d9dc17aa9').innerHTML);                                        \n",
       "            // NOTE 1: id without #\n",
       "            // NOTE 2 - maybe there are more predictable ways, but this will work anyway\n",
       "            //        - id should be number\n",
       "            visualizerIdOverride = Math.trunc(Math.random() * 100000000000)\n",
       "            addVisualizerToPage(trace, 'jm12b2a326-df85-47ba-a84f-c19d9dc17aa9',{'embeddedMode' : false,\n",
       "                                             'visualizerIdOverride':visualizerIdOverride})  \n",
       "            \n",
       "            \n",
       "            // set overflow for pytuts - need to do in python as css \n",
       "            // does not allow parent selection\n",
       "            var pytuts = $('.pytutorVisualizer')\n",
       "            pytuts.closest('div.output_html.rendered_html.output_result')\n",
       "                    .css('overflow-x', 'visible')\n",
       "        \n",
       "            //pytuts.closest('div.output_html.rendered_html.output_result')\n",
       "            //      .css('background-color','red')                \n",
       "            \n",
       "        })()\n",
       "        </script>\n",
       "                \n",
       "                "
      ],
      "text/plain": [
       "<IPython.core.display.HTML object>"
      ]
     },
     "execution_count": 56,
     "metadata": {},
     "output_type": "execute_result"
    }
   ],
   "source": [
    "diz1 = {'a':[1,2],\n",
    "        'b':[4,5,6]}\n",
    "diz2 = dict(diz1)\n",
    "diz1['a'].append(3)\n",
    "\n",
    "print('uguali?', diz1 == diz2)\n",
    "print('diz1=', diz1)\n",
    "print('diz2=', diz2)\n",
    "\n",
    "jupman.pytut()"
   ]
  },
  {
   "cell_type": "markdown",
   "metadata": {},
   "source": [
    "**DOMANDA**: Se esegui il seguente codice in Python Tutor, cosa stamperà?\n",
    "\n",
    "1. Che tipo di copia abbiamo fatto? Superficiale? In profondità? (o tutte e due..?)\n",
    "2. Quante regioni di memoria vedrai? \n",
    "\n",
    "**NOTA**: i valori sono liste, perciò **mutabili**\n",
    "\n",
    "```python\n",
    "import copy\n",
    "diz1 = {'a':[1,2],\n",
    "        'b':[4,5,6]}\n",
    "diz2 = copy.deepcopy(diz1)\n",
    "diz1['a'].append(3)\n",
    "\n",
    "print('uguali?', diz1 == diz2)\n",
    "print('diz1=', diz1)\n",
    "print('diz2=', diz2)\n",
    "```\n"
   ]
  },
  {
   "cell_type": "raw",
   "id": "71587a1f",
   "metadata": {
    "format": "text/html"
   },
   "source": [
    "<a  class=\"jupman-sol jupman-sol-toggler\" \n",
    " onclick=\"jupman.toggleSolution(this);\" \n",
    " data-jupman-show=\"Mostra risposta\" data-jupman-hide=\"Nascondi\">Mostra risposta</a><div class=\"jupman-sol jupman-sol-question\" style=\"display:none\">  "
   ]
  },
  {
   "cell_type": "markdown",
   "metadata": {},
   "source": [
    "**RISPOSTA**: Abbiamo usato `copy.deepcopy`, quindi abbiamo fatto una copia _in profondità_. In questo caso come valori abbiamo liste che sono oggetti mutabili. La copia in profondità ha duplicato qualunque oggetto che è riuscita a raggiungere, liste incluse. Quindi in questo caso otteniamo due regioni di memoria completamente distinte. Se dopo aver effettuato la copia cerchiamo di modificare una lista accessibile dall'originale `diz1`, siamo sicuri che non potremo intaccare oggetti raggiungibili da `diz2`. Verifichiamolo in Python Tutor:"
   ]
  },
  {
   "cell_type": "raw",
   "id": "1ef2ef58",
   "metadata": {
    "format": "text/html"
   },
   "source": [
    "</div>"
   ]
  },
  {
   "cell_type": "code",
   "execution_count": 57,
   "metadata": {},
   "outputs": [
    {
     "name": "stdout",
     "output_type": "stream",
     "text": [
      "uguali? False\n",
      "diz1= {'a': [1, 2, 3], 'b': [4, 5, 6]}\n",
      "diz2= {'a': [1, 2], 'b': [4, 5, 6]}\n"
     ]
    },
    {
     "data": {
      "text/html": [
       "\n",
       "        <script src=\"../_static/js/pytutor-embed.bundle.min.js\" type=\"application/javascript\"></script>\n",
       "     \n",
       "        <script id=\"json-jmb3ee5cc7-d8e4-43cf-b44b-102d2ad2008c\" type=\"application/json\" >\n",
       "            {\"code\": \" \\nimport copy\\ndiz1 = {'a':[1,2],\\n        'b':[4,5,6]}\\ndiz2 = copy.deepcopy(diz1)\\ndiz1['a'].append(3)\\n\\nprint('uguali?', diz1 == diz2)\\nprint('diz1=', diz1)\\nprint('diz2=', diz2)\", \"trace\": [{\"line\": 2, \"event\": \"step_line\", \"func_name\": \"<module>\", \"globals\": {}, \"ordered_globals\": [], \"stack_to_render\": [], \"heap\": {}, \"stdout\": \"\"}, {\"line\": 3, \"event\": \"step_line\", \"func_name\": \"<module>\", \"globals\": {\"copy\": [\"REF\", 1]}, \"ordered_globals\": [\"copy\"], \"stack_to_render\": [], \"heap\": {\"1\": [\"INSTANCE\", \"module\"]}, \"stdout\": \"\"}, {\"line\": 4, \"event\": \"step_line\", \"func_name\": \"<module>\", \"globals\": {\"copy\": [\"REF\", 1]}, \"ordered_globals\": [\"copy\"], \"stack_to_render\": [], \"heap\": {\"1\": [\"INSTANCE\", \"module\"]}, \"stdout\": \"\"}, {\"line\": 5, \"event\": \"step_line\", \"func_name\": \"<module>\", \"globals\": {\"copy\": [\"REF\", 1], \"diz1\": [\"REF\", 2]}, \"ordered_globals\": [\"copy\", \"diz1\"], \"stack_to_render\": [], \"heap\": {\"1\": [\"INSTANCE\", \"module\"], \"2\": [\"DICT\", [\"a\", [\"REF\", 3]], [\"b\", [\"REF\", 4]]], \"3\": [\"LIST\", 1, 2], \"4\": [\"LIST\", 4, 5, 6]}, \"stdout\": \"\"}, {\"line\": 6, \"event\": \"step_line\", \"func_name\": \"<module>\", \"globals\": {\"copy\": [\"REF\", 1], \"diz1\": [\"REF\", 2], \"diz2\": [\"REF\", 5]}, \"ordered_globals\": [\"copy\", \"diz1\", \"diz2\"], \"stack_to_render\": [], \"heap\": {\"1\": [\"INSTANCE\", \"module\"], \"2\": [\"DICT\", [\"a\", [\"REF\", 3]], [\"b\", [\"REF\", 4]]], \"3\": [\"LIST\", 1, 2], \"4\": [\"LIST\", 4, 5, 6], \"5\": [\"DICT\", [\"a\", [\"REF\", 6]], [\"b\", [\"REF\", 7]]], \"6\": [\"LIST\", 1, 2], \"7\": [\"LIST\", 4, 5, 6]}, \"stdout\": \"\"}, {\"line\": 8, \"event\": \"step_line\", \"func_name\": \"<module>\", \"globals\": {\"copy\": [\"REF\", 1], \"diz1\": [\"REF\", 2], \"diz2\": [\"REF\", 5]}, \"ordered_globals\": [\"copy\", \"diz1\", \"diz2\"], \"stack_to_render\": [], \"heap\": {\"1\": [\"INSTANCE\", \"module\"], \"2\": [\"DICT\", [\"a\", [\"REF\", 3]], [\"b\", [\"REF\", 4]]], \"3\": [\"LIST\", 1, 2, 3], \"4\": [\"LIST\", 4, 5, 6], \"5\": [\"DICT\", [\"a\", [\"REF\", 6]], [\"b\", [\"REF\", 7]]], \"6\": [\"LIST\", 1, 2], \"7\": [\"LIST\", 4, 5, 6]}, \"stdout\": \"\"}, {\"line\": 9, \"event\": \"step_line\", \"func_name\": \"<module>\", \"globals\": {\"copy\": [\"REF\", 1], \"diz1\": [\"REF\", 2], \"diz2\": [\"REF\", 5]}, \"ordered_globals\": [\"copy\", \"diz1\", \"diz2\"], \"stack_to_render\": [], \"heap\": {\"1\": [\"INSTANCE\", \"module\"], \"2\": [\"DICT\", [\"a\", [\"REF\", 3]], [\"b\", [\"REF\", 4]]], \"3\": [\"LIST\", 1, 2, 3], \"4\": [\"LIST\", 4, 5, 6], \"5\": [\"DICT\", [\"a\", [\"REF\", 6]], [\"b\", [\"REF\", 7]]], \"6\": [\"LIST\", 1, 2], \"7\": [\"LIST\", 4, 5, 6]}, \"stdout\": \"uguali? False\\n\"}, {\"line\": 10, \"event\": \"step_line\", \"func_name\": \"<module>\", \"globals\": {\"copy\": [\"REF\", 1], \"diz1\": [\"REF\", 2], \"diz2\": [\"REF\", 5]}, \"ordered_globals\": [\"copy\", \"diz1\", \"diz2\"], \"stack_to_render\": [], \"heap\": {\"1\": [\"INSTANCE\", \"module\"], \"2\": [\"DICT\", [\"a\", [\"REF\", 3]], [\"b\", [\"REF\", 4]]], \"3\": [\"LIST\", 1, 2, 3], \"4\": [\"LIST\", 4, 5, 6], \"5\": [\"DICT\", [\"a\", [\"REF\", 6]], [\"b\", [\"REF\", 7]]], \"6\": [\"LIST\", 1, 2], \"7\": [\"LIST\", 4, 5, 6]}, \"stdout\": \"uguali? False\\ndiz1= {'a': [1, 2, 3], 'b': [4, 5, 6]}\\n\"}, {\"line\": 10, \"event\": \"return\", \"func_name\": \"<module>\", \"globals\": {\"copy\": [\"REF\", 1], \"diz1\": [\"REF\", 2], \"diz2\": [\"REF\", 5]}, \"ordered_globals\": [\"copy\", \"diz1\", \"diz2\"], \"stack_to_render\": [], \"heap\": {\"1\": [\"INSTANCE\", \"module\"], \"2\": [\"DICT\", [\"a\", [\"REF\", 3]], [\"b\", [\"REF\", 4]]], \"3\": [\"LIST\", 1, 2, 3], \"4\": [\"LIST\", 4, 5, 6], \"5\": [\"DICT\", [\"a\", [\"REF\", 6]], [\"b\", [\"REF\", 7]]], \"6\": [\"LIST\", 1, 2], \"7\": [\"LIST\", 4, 5, 6]}, \"stdout\": \"uguali? False\\ndiz1= {'a': [1, 2, 3], 'b': [4, 5, 6]}\\ndiz2= {'a': [1, 2], 'b': [4, 5, 6]}\\n\"}]}\n",
       "        </script>\n",
       "        <div id=\"jmb3ee5cc7-d8e4-43cf-b44b-102d2ad2008c\" class=\"pytutorVisualizer\"> </div>\n",
       " \n",
       "        <style>\n",
       "        .vizLayoutTd {\n",
       "            background-color: #fff !important;\n",
       "        }\n",
       "\n",
       "        #pyStdout {            \n",
       "            min-height:25px;\n",
       "        }\n",
       "\n",
       "        /* 'Edit this code' link, hiding because replaces browser tab !!!*/\n",
       "        #editCodeLinkDiv {\n",
       "            display:none;  \n",
       "        }\n",
       "        </style>   \n",
       "                            \n",
       "        <script>\n",
       "        (function(){\n",
       "\n",
       "            var trace = JSON.parse(document.getElementById('json-jmb3ee5cc7-d8e4-43cf-b44b-102d2ad2008c').innerHTML);                                        \n",
       "            // NOTE 1: id without #\n",
       "            // NOTE 2 - maybe there are more predictable ways, but this will work anyway\n",
       "            //        - id should be number\n",
       "            visualizerIdOverride = Math.trunc(Math.random() * 100000000000)\n",
       "            addVisualizerToPage(trace, 'jmb3ee5cc7-d8e4-43cf-b44b-102d2ad2008c',{'embeddedMode' : false,\n",
       "                                             'visualizerIdOverride':visualizerIdOverride})  \n",
       "            \n",
       "            \n",
       "            // set overflow for pytuts - need to do in python as css \n",
       "            // does not allow parent selection\n",
       "            var pytuts = $('.pytutorVisualizer')\n",
       "            pytuts.closest('div.output_html.rendered_html.output_result')\n",
       "                    .css('overflow-x', 'visible')\n",
       "        \n",
       "            //pytuts.closest('div.output_html.rendered_html.output_result')\n",
       "            //      .css('background-color','red')                \n",
       "            \n",
       "        })()\n",
       "        </script>\n",
       "                \n",
       "                "
      ],
      "text/plain": [
       "<IPython.core.display.HTML object>"
      ]
     },
     "execution_count": 57,
     "metadata": {},
     "output_type": "execute_result"
    }
   ],
   "source": [
    "import copy\n",
    "diz1 = {'a':[1,2],\n",
    "        'b':[4,5,6]}\n",
    "diz2 = copy.deepcopy(diz1)\n",
    "diz1['a'].append(3)\n",
    "\n",
    "print('uguali?', diz1 == diz2)\n",
    "print('diz1=', diz1)\n",
    "print('diz2=', diz2)\n",
    "\n",
    "jupman.pytut()"
   ]
  },
  {
   "cell_type": "markdown",
   "metadata": {},
   "source": [
    "**DOMANDA**: Guarda i seguenti frammenti di codice, e per ciascuno cerca di indovinare quale risultato produce (o se da errore):\n",
    "\n",
    "\n",
    "1.  ```python\n",
    "    diz1 = {'a':[4,5],\n",
    "            'b':[6,7]}\n",
    "    diz2 = dict(diz1)\n",
    "    diz2['a'] = diz1['b']\n",
    "    diz2['b'][0] = 9\n",
    "    print(diz1 == diz2)\n",
    "    print(diz1)\n",
    "    print(diz2)\n",
    "    ```\n",
    "1.  ```python\n",
    "    da = {'a':['x','y','z']}\n",
    "    db = dict(da)\n",
    "    db['a'] = ['w','t']\n",
    "    dc = dict(db)\n",
    "    print(da)\n",
    "    print(db)\n",
    "    print(dc)\n",
    "    ```\n",
    "1.  ```python\n",
    "    import copy\n",
    "\n",
    "    la = ['x','y','z']\n",
    "    diz1 = {'a':la,\n",
    "            'b':la }\n",
    "    diz2 = copy.deepcopy(diz1)\n",
    "    diz2['a'][0] = 'w'\n",
    "    print('uguali?', diz1 == diz2)\n",
    "    print('diz1=', diz1)\n",
    "    print('diz2=', diz2)\n",
    "    ```\n"
   ]
  },
  {
   "cell_type": "markdown",
   "metadata": {},
   "source": [
    "### Esercizio - Zoom Doom\n",
    "\n",
    "Scrivi del codice che data una stringa `s` (es `'ZOOM'`), crea un dizionario `diz` ed assegna alle chiavi `'a'`, `'b'` e `'c'` _la stessa identica lista_ contenente i caratteri della stringa come elementi (es `['Z','O','O','M']`). \n",
    "\n",
    "* in Python Tutor dovrai vedere 3 frecce che dalle chiavi puntano _alla stessa identica regione di memoria_\n",
    "* modificando la lista associata ad una chiave, dovresti vedere la modifica anche nei liste associate alle altre chiavi\n",
    "* il tuo codice deve funzionare per _qualunque_ stringa `s`\n",
    "\n",
    "Esempio - data:\n",
    "\n",
    "```python\n",
    "s = 'ZOOM'\n",
    "```\n",
    "\n",
    "Dopo il tuo codice, deve risultare:\n",
    "\n",
    "```python\n",
    ">>> print(diz)\n",
    "{'a': ['Z', 'O', 'O', 'M']\n",
    " 'b': ['Z', 'O', 'O', 'M'], \n",
    " 'c': ['Z', 'O', 'O', 'M'], \n",
    "}\n",
    ">>> diz['a'][0] = 'D'\n",
    ">>> print(diz)\n",
    "{'a': ['D', 'O', 'O', 'M']\n",
    " 'b': ['D', 'O', 'O', 'M'], \n",
    " 'c': ['D', 'O', 'O', 'M'], \n",
    "}\n",
    "```"
   ]
  },
  {
   "cell_type": "raw",
   "id": "e63924ec",
   "metadata": {
    "format": "text/html"
   },
   "source": [
    "<a  class=\"jupman-sol jupman-sol-toggler\" \n",
    " onclick=\"jupman.toggleSolution(this);\" \n",
    " data-jupman-show=\"Mostra soluzione\" data-jupman-hide=\"Nascondi\">Mostra soluzione</a><div class=\"jupman-sol jupman-sol-code\" style=\"display:none\">  "
   ]
  },
  {
   "cell_type": "code",
   "execution_count": 58,
   "metadata": {},
   "outputs": [
    {
     "name": "stdout",
     "output_type": "stream",
     "text": [
      "{'a': ['Z', 'O', 'O', 'M'], 'b': ['Z', 'O', 'O', 'M'], 'c': ['Z', 'O', 'O', 'M']}\n",
      "{'a': ['D', 'O', 'O', 'M'], 'b': ['D', 'O', 'O', 'M'], 'c': ['D', 'O', 'O', 'M']}\n"
     ]
    }
   ],
   "source": [
    "s = 'ZOOM'\n",
    "\n",
    "# scrivi qui\n",
    "\n",
    "zoom = list(s)\n",
    "\n",
    "diz = {'a':zoom,\n",
    "       'b':zoom,\n",
    "       'c':zoom}\n",
    "print(diz)\n",
    "diz['a'][0] = 'D'\n",
    "print(diz)\n",
    "\n",
    "#jupman.pytut()"
   ]
  },
  {
   "cell_type": "raw",
   "id": "54962ee5",
   "metadata": {
    "format": "text/html"
   },
   "source": [
    "</div>"
   ]
  },
  {
   "cell_type": "code",
   "execution_count": 58,
   "metadata": {},
   "outputs": [
    {
     "name": "stdout",
     "output_type": "stream",
     "text": [
      "{'a': ['Z', 'O', 'O', 'M'], 'b': ['Z', 'O', 'O', 'M'], 'c': ['Z', 'O', 'O', 'M']}\n",
      "{'a': ['D', 'O', 'O', 'M'], 'b': ['D', 'O', 'O', 'M'], 'c': ['D', 'O', 'O', 'M']}\n"
     ]
    }
   ],
   "source": [
    "s = 'ZOOM'\n",
    "\n",
    "# scrivi qui\n",
    "\n"
   ]
  },
  {
   "cell_type": "markdown",
   "metadata": {},
   "source": [
    "\n",
    "## Prosegui\n",
    "\n",
    "Prosegui con [Dizionari 3](https://it.softpython.org/dictionaries/dictionaries3-sol.html)"
   ]
  },
  {
   "cell_type": "code",
   "execution_count": null,
   "metadata": {},
   "outputs": [],
   "source": []
  }
 ],
 "metadata": {
  "kernelspec": {
   "display_name": "Python 3",
   "language": "python",
   "name": "python3"
  },
  "language_info": {
   "codemirror_mode": {
    "name": "ipython",
    "version": 3
   },
   "file_extension": ".py",
   "mimetype": "text/x-python",
   "name": "python",
   "nbconvert_exporter": "python",
   "pygments_lexer": "ipython3",
   "version": "3.7.10"
  },
  "toc": {
   "base_numbering": 1,
   "nav_menu": {},
   "number_sections": false,
   "sideBar": true,
   "skip_h1_title": false,
   "title_cell": "Table of Contents",
   "title_sidebar": "Contents",
   "toc_cell": false,
   "toc_position": {
    "height": "calc(100% - 180px)",
    "left": "10px",
    "top": "150px",
    "width": "342px"
   },
   "toc_section_display": true,
   "toc_window_display": true
  }
 },
 "nbformat": 4,
 "nbformat_minor": 2
}

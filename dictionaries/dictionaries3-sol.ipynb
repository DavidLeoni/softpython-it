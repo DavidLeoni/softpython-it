{
 "cells": [
  {
   "cell_type": "code",
   "execution_count": 1,
   "metadata": {
    "nbsphinx": "hidden"
   },
   "outputs": [],
   "source": [
    " # Ricordati di eseguire questa cella con Shift+Invio\n",
    "\n",
    "import jupman"
   ]
  },
  {
   "cell_type": "markdown",
   "metadata": {},
   "source": [
    "# Dizionari 3 - metodi e classi\n",
    "\n",
    "## [Scarica zip esercizi](../_static/generated/dictionaries.zip)\n",
    "\n",
    "[Naviga file online](https://github.com/DavidLeoni/softpython-it/tree/master/dictionaries)\n",
    "\n",
    "In questo foglio vedremo i metodi principali per estrarre informazioni e manipolare i dizionari, assieme a delle classi di dizionari speciali"
   ]
  },
  {
   "cell_type": "markdown",
   "metadata": {},
   "source": [
    "**Metodi**:\n",
    "\n",
    "|Metodo|Ritorna|Descrizione|\n",
    "|---|---|---|\n",
    "|`dict.keys()`|`dict_keys`|Ritorna una _vista_ di chiavi che sono presenti nel dizionario|\n",
    "|[dict.values()](#values)|`dict_values`|Ritorna una _vista_ di valori presenti nel dizionario|\n",
    "|[dict.items()](#items)|`dict_items`|Ritorna una _vista_ di coppie (chiave, valore) presenti nel dizionario|\n",
    "|diz1.update(diz2)|`None`|MODIFICA il dizionario `diz1` con le coppie chiave / valore trovate in `diz2`|\n"
   ]
  },
  {
   "cell_type": "markdown",
   "metadata": {},
   "source": [
    "**Classi**:\n",
    "\n",
    "|Classe|Descrizione|\n",
    "|------|-----------|\n",
    "|[OrderedDict](https://docs.python.org/3/library/collections.html#collections.OrderedDict)|Dizionario che permette di mantenere l'ordine di inserimento delle chiavi|\n",
    "|[Counter](https://docs.python.org/3/library/collections.html#collections.Counter)|Dizionario che permette di calcolare rapidamente istogrammi|\n"
   ]
  },
  {
   "cell_type": "markdown",
   "metadata": {},
   "source": [
    "### Che fare\n",
    "\n",
    "- scompatta lo zip in una cartella, dovresti ottenere qualcosa del genere: \n",
    "\n",
    "```\n",
    "\n",
    "dictionaries \n",
    "dictionaries \n",
    "    dictionaries1.ipynb\n",
    "    dictionaries1-sol.ipynb\n",
    "    dictionaries2.ipynb\n",
    "    dictionaries2-sol.ipynb\n",
    "    dictionaries3.ipynb\n",
    "    dictionaries3-sol.ipynb\n",
    "    dictionaries4.ipynb\n",
    "    dictionaries4-sol.ipynb\n",
    "    dictionaries5.ipynb\n",
    "    dictionaries5-sol.ipynb        \n",
    "    jupman.py    jupman.py\n",
    "    \n",
    "```\n",
    "\n",
    "<div class=\"alert alert-warning\">\n",
    "\n",
    "**ATTENZIONE**: Per essere visualizzato correttamente, il file del notebook DEVE essere nella cartella szippata.\n",
    "</div>\n",
    "\n",
    "- apri il Jupyter Notebook da quella cartella. Due cose dovrebbero aprirsi, prima una console e poi un browser. Il browser dovrebbe mostrare una lista di file: naviga la lista e apri il notebook `dictionaries3.ipynb`\n",
    "- Prosegui leggendo il file degli esercizi, ogni tanto al suo interno troverai delle scritte **ESERCIZIO**, che ti chiederanno di scrivere dei comandi Python nelle celle successive. Gli esercizi sono graduati per difficoltà, da una stellina ✪ a quattro ✪✪✪✪\n",
    "\n",
    "\n",
    "Scorciatoie da tastiera:\n",
    "\n",
    "* Per eseguire il codice Python dentro una cella di Jupyter, premi `Control+Invio`\n",
    "* Per eseguire il codice Python dentro una cella di Jupyter E selezionare la cella seguente, premi `Shift+Invio`\n",
    "* Per eseguire il codice Python dentro una cella di Jupyter E creare una nuova cella subito dopo, premi `Alt+Invio`\n",
    "* Se per caso il Notebook sembra inchiodato, prova a selezionare `Kernel -> Restart`\n",
    "\n"
   ]
  },
  {
   "cell_type": "markdown",
   "metadata": {},
   "source": [
    "## keys\n",
    "\n",
    "Chiamando il metodo `.keys()` possiamo ottenere tutte le chiavi del dizionario:"
   ]
  },
  {
   "cell_type": "code",
   "execution_count": 2,
   "metadata": {},
   "outputs": [],
   "source": [
    "verdure = {'carote':5,\n",
    "           'pomodori':8,\n",
    "           'cavoli':3}"
   ]
  },
  {
   "cell_type": "code",
   "execution_count": 3,
   "metadata": {},
   "outputs": [
    {
     "data": {
      "text/plain": [
       "dict_keys(['carote', 'pomodori', 'cavoli'])"
      ]
     },
     "execution_count": 3,
     "metadata": {},
     "output_type": "execute_result"
    }
   ],
   "source": [
    "verdure.keys()"
   ]
  },
  {
   "cell_type": "markdown",
   "metadata": {},
   "source": [
    "<div class=\"alert alert-warning\">\n",
    "\n",
    "**ATTENZIONE: LA SEQUENZA RITORNATA E' DI TIPO** `dict_keys` \n",
    "\n",
    "\n",
    "`dict_keys` potrebbe sembrare una lista ma è ben diversa !\n",
    "\n",
    "</div>"
   ]
  },
  {
   "cell_type": "markdown",
   "metadata": {},
   "source": [
    "In particolare, la sequenza `dict_keys` ritornata è **una vista** sul dizionario originale. In informatica, quando parliamo di _viste_ di solito intendiamo collezioni che contengono una parte degli oggetti contenuti in un'altra collezione, _e se la collezione originale viene modificata, si modifica contemporaneamente anche la vista_.\n",
    "\n",
    "Vediamo cosa vuol dire. Per prima cosa proviamo ad assegnare la sequenza di chiavi ad una variabile:"
   ]
  },
  {
   "cell_type": "code",
   "execution_count": 4,
   "metadata": {},
   "outputs": [],
   "source": [
    "chiavi = verdure.keys()"
   ]
  },
  {
   "cell_type": "markdown",
   "metadata": {},
   "source": [
    "Poi modifichiamo il dizionario originale, aggiungendo una associazione:"
   ]
  },
  {
   "cell_type": "code",
   "execution_count": 5,
   "metadata": {},
   "outputs": [],
   "source": [
    "verdure['patate'] = 8"
   ]
  },
  {
   "cell_type": "markdown",
   "metadata": {},
   "source": [
    "Se adesso stampiamo `chiavi`, dovremmo vedere la modifica:"
   ]
  },
  {
   "cell_type": "code",
   "execution_count": 6,
   "metadata": {},
   "outputs": [
    {
     "data": {
      "text/plain": [
       "dict_keys(['carote', 'pomodori', 'cavoli', 'patate'])"
      ]
     },
     "execution_count": 6,
     "metadata": {},
     "output_type": "execute_result"
    }
   ],
   "source": [
    "chiavi"
   ]
  },
  {
   "cell_type": "markdown",
   "metadata": {},
   "source": [
    "<div class=\"alert alert-info\">\n",
    "\n",
    "**Quando riusi la sequenza da** `.keys()` **poni attenzione ad eventuali modifiche successive al dizionario di partenza**\n",
    "\n",
    "</div>"
   ]
  },
  {
   "cell_type": "markdown",
   "metadata": {},
   "source": [
    "Se vogliamo una versione stabile che sia una specie di 'fotografia' in un dato momento delle chiavi del dizionario, dobbiamo esplicitamente convertirle ad una altra sequenza, come per esempio `list`:"
   ]
  },
  {
   "cell_type": "code",
   "execution_count": 7,
   "metadata": {},
   "outputs": [],
   "source": [
    "come_lista = list(verdure.keys())"
   ]
  },
  {
   "cell_type": "code",
   "execution_count": 8,
   "metadata": {},
   "outputs": [
    {
     "data": {
      "text/plain": [
       "['carote', 'pomodori', 'cavoli', 'patate']"
      ]
     },
     "execution_count": 8,
     "metadata": {},
     "output_type": "execute_result"
    }
   ],
   "source": [
    "come_lista"
   ]
  },
  {
   "cell_type": "code",
   "execution_count": 9,
   "metadata": {},
   "outputs": [],
   "source": [
    "verdure['cetrioli'] = 9"
   ]
  },
  {
   "cell_type": "code",
   "execution_count": 10,
   "metadata": {},
   "outputs": [
    {
     "data": {
      "text/plain": [
       "['carote', 'pomodori', 'cavoli', 'patate']"
      ]
     },
     "execution_count": 10,
     "metadata": {},
     "output_type": "execute_result"
    }
   ],
   "source": [
    "come_lista     # niente cetrioli"
   ]
  },
  {
   "cell_type": "markdown",
   "metadata": {},
   "source": [
    "Rivediamo l'esempio in Python Tutor:"
   ]
  },
  {
   "cell_type": "code",
   "execution_count": 11,
   "metadata": {},
   "outputs": [],
   "source": [
    "# AFFINCHE' PYTHON TUTOR FUNZIONI, RICORDATI DI ESEGUIRE QUESTA CELLA con Shift+Invio\n",
    "#   (basta eseguirla una volta sola, la trovi anche all'inizio di ogni foglio)\n",
    "\n",
    "import jupman"
   ]
  },
  {
   "cell_type": "code",
   "execution_count": 12,
   "metadata": {
    "scrolled": false
   },
   "outputs": [
    {
     "name": "stdout",
     "output_type": "stream",
     "text": [
      "['carote', 'pomodori', 'cavoli', 'patate']\n"
     ]
    },
    {
     "data": {
      "text/html": [
       "\n",
       "        <script src=\"../_static/js/pytutor-embed.bundle.min.js\" type=\"application/javascript\"></script>\n",
       "     \n",
       "        <script id=\"json-jmde707d67-e4f5-4206-a378-32d1b09030b0\" type=\"application/json\" >\n",
       "            {\"code\": \" \\nverdure = {'carote':5,\\n           'pomodori':8,\\n           'cavoli':3}\\nchiavi = verdure.keys()\\nverdure['patate'] = 8\\ncome_lista = list(verdure.keys())\\nverdure['cetrioli'] = 9\\nprint(come_lista)\", \"trace\": [{\"line\": 2, \"event\": \"step_line\", \"func_name\": \"<module>\", \"globals\": {}, \"ordered_globals\": [], \"stack_to_render\": [], \"heap\": {}, \"stdout\": \"\"}, {\"line\": 3, \"event\": \"step_line\", \"func_name\": \"<module>\", \"globals\": {}, \"ordered_globals\": [], \"stack_to_render\": [], \"heap\": {}, \"stdout\": \"\"}, {\"line\": 4, \"event\": \"step_line\", \"func_name\": \"<module>\", \"globals\": {}, \"ordered_globals\": [], \"stack_to_render\": [], \"heap\": {}, \"stdout\": \"\"}, {\"line\": 5, \"event\": \"step_line\", \"func_name\": \"<module>\", \"globals\": {\"verdure\": [\"REF\", 1]}, \"ordered_globals\": [\"verdure\"], \"stack_to_render\": [], \"heap\": {\"1\": [\"DICT\", [\"carote\", 5], [\"pomodori\", 8], [\"cavoli\", 3]]}, \"stdout\": \"\"}, {\"line\": 6, \"event\": \"step_line\", \"func_name\": \"<module>\", \"globals\": {\"verdure\": [\"REF\", 1], \"chiavi\": [\"REF\", 2]}, \"ordered_globals\": [\"verdure\", \"chiavi\"], \"stack_to_render\": [], \"heap\": {\"1\": [\"DICT\", [\"carote\", 5], [\"pomodori\", 8], [\"cavoli\", 3]], \"2\": [\"INSTANCE_PPRINT\", \"dict_keys\", \"dict_keys(['carote', 'pomodori', 'cavoli'])\"]}, \"stdout\": \"\"}, {\"line\": 7, \"event\": \"step_line\", \"func_name\": \"<module>\", \"globals\": {\"verdure\": [\"REF\", 1], \"chiavi\": [\"REF\", 2]}, \"ordered_globals\": [\"verdure\", \"chiavi\"], \"stack_to_render\": [], \"heap\": {\"1\": [\"DICT\", [\"carote\", 5], [\"pomodori\", 8], [\"cavoli\", 3], [\"patate\", 8]], \"2\": [\"INSTANCE_PPRINT\", \"dict_keys\", \"dict_keys(['carote', 'pomodori', 'cavoli', 'patate'])\"]}, \"stdout\": \"\"}, {\"line\": 8, \"event\": \"step_line\", \"func_name\": \"<module>\", \"globals\": {\"verdure\": [\"REF\", 1], \"chiavi\": [\"REF\", 2], \"come_lista\": [\"REF\", 3]}, \"ordered_globals\": [\"verdure\", \"chiavi\", \"come_lista\"], \"stack_to_render\": [], \"heap\": {\"1\": [\"DICT\", [\"carote\", 5], [\"pomodori\", 8], [\"cavoli\", 3], [\"patate\", 8]], \"2\": [\"INSTANCE_PPRINT\", \"dict_keys\", \"dict_keys(['carote', 'pomodori', 'cavoli', 'patate'])\"], \"3\": [\"LIST\", \"carote\", \"pomodori\", \"cavoli\", \"patate\"]}, \"stdout\": \"\"}, {\"line\": 9, \"event\": \"step_line\", \"func_name\": \"<module>\", \"globals\": {\"verdure\": [\"REF\", 1], \"chiavi\": [\"REF\", 2], \"come_lista\": [\"REF\", 3]}, \"ordered_globals\": [\"verdure\", \"chiavi\", \"come_lista\"], \"stack_to_render\": [], \"heap\": {\"1\": [\"DICT\", [\"carote\", 5], [\"pomodori\", 8], [\"cavoli\", 3], [\"patate\", 8], [\"cetrioli\", 9]], \"2\": [\"INSTANCE_PPRINT\", \"dict_keys\", \"dict_keys(['carote', 'pomodori', 'cavoli', 'patate', 'cetrioli'])\"], \"3\": [\"LIST\", \"carote\", \"pomodori\", \"cavoli\", \"patate\"]}, \"stdout\": \"\"}, {\"line\": 9, \"event\": \"return\", \"func_name\": \"<module>\", \"globals\": {\"verdure\": [\"REF\", 1], \"chiavi\": [\"REF\", 2], \"come_lista\": [\"REF\", 3]}, \"ordered_globals\": [\"verdure\", \"chiavi\", \"come_lista\"], \"stack_to_render\": [], \"heap\": {\"1\": [\"DICT\", [\"carote\", 5], [\"pomodori\", 8], [\"cavoli\", 3], [\"patate\", 8], [\"cetrioli\", 9]], \"2\": [\"INSTANCE_PPRINT\", \"dict_keys\", \"dict_keys(['carote', 'pomodori', 'cavoli', 'patate', 'cetrioli'])\"], \"3\": [\"LIST\", \"carote\", \"pomodori\", \"cavoli\", \"patate\"]}, \"stdout\": \"['carote', 'pomodori', 'cavoli', 'patate']\\n\"}]}\n",
       "        </script>\n",
       "        <div id=\"jmde707d67-e4f5-4206-a378-32d1b09030b0\" class=\"pytutorVisualizer\"> </div>\n",
       " \n",
       "        <style>\n",
       "        .vizLayoutTd {\n",
       "            background-color: #fff !important;\n",
       "        }\n",
       "\n",
       "        #pyStdout {            \n",
       "            min-height:25px;\n",
       "        }\n",
       "\n",
       "        /* 'Edit this code' link, hiding because replaces browser tab !!!*/\n",
       "        #editCodeLinkDiv {\n",
       "            display:none;  \n",
       "        }\n",
       "        </style>   \n",
       "                            \n",
       "        <script>\n",
       "        (function(){\n",
       "\n",
       "            var trace = JSON.parse(document.getElementById('json-jmde707d67-e4f5-4206-a378-32d1b09030b0').innerHTML);                                        \n",
       "            // NOTE 1: id without #\n",
       "            // NOTE 2 - maybe there are more predictable ways, but this will work anyway\n",
       "            //        - id should be number\n",
       "            visualizerIdOverride = Math.trunc(Math.random() * 100000000000)\n",
       "            addVisualizerToPage(trace, 'jmde707d67-e4f5-4206-a378-32d1b09030b0',{'embeddedMode' : false,\n",
       "                                             'visualizerIdOverride':visualizerIdOverride})  \n",
       "            \n",
       "            \n",
       "            // set overflow for pytuts - need to do in python as css \n",
       "            // does not allow parent selection\n",
       "            var pytuts = $('.pytutorVisualizer')\n",
       "            pytuts.closest('div.output_html.rendered_html.output_result')\n",
       "                    .css('overflow-x', 'visible')\n",
       "        \n",
       "            //pytuts.closest('div.output_html.rendered_html.output_result')\n",
       "            //      .css('background-color','red')                \n",
       "            \n",
       "        })()\n",
       "        </script>\n",
       "                \n",
       "                "
      ],
      "text/plain": [
       "<IPython.core.display.HTML object>"
      ]
     },
     "execution_count": 12,
     "metadata": {},
     "output_type": "execute_result"
    }
   ],
   "source": [
    "verdure = {'carote':5,\n",
    "           'pomodori':8,\n",
    "           'cavoli':3}\n",
    "chiavi = verdure.keys()\n",
    "verdure['patate'] = 8\n",
    "come_lista = list(verdure.keys())\n",
    "verdure['cetrioli'] = 9\n",
    "print(come_lista)\n",
    "\n",
    "jupman.pytut()"
   ]
  },
  {
   "cell_type": "markdown",
   "metadata": {},
   "source": [
    "\n",
    "<div class=\"alert alert-warning\">\n",
    "\n",
    "**ATTENZIONE: NON POSSIAMO ACCEDERE AD UA SPECIFICA POSIZIONE DI** `dict_keys` \n",
    "\n",
    "</div>\n",
    "\n",
    "Se ci proviamo, otterremo un errore:"
   ]
  },
  {
   "cell_type": "markdown",
   "metadata": {},
   "source": [
    "\n",
    "```python\n",
    ">>> verdure = {'carote':5,\n",
    "               'pomodori':8,\n",
    "               'cavoli':3}\n",
    ">>> chiavi = verdure.keys()\n",
    ">>> chiavi[0]\n",
    "\n",
    "---------------------------------------------------------------------------\n",
    "TypeError                                 Traceback (most recent call last)\n",
    "<ipython-input-90-c888bf602918> in <module>()\n",
    "----> 1 chiavi[0]\n",
    "\n",
    "TypeError: 'dict_keys' object does not support indexing\n",
    "\n",
    "```"
   ]
  },
  {
   "cell_type": "markdown",
   "metadata": {},
   "source": [
    "<div class=\"alert alert-warning\">\n",
    "\n",
    "**ATTENZIONE: NON POSSIAMO MODIFICARE DIRETTAMENTE** `dict_keys` \n",
    "\n",
    "Non vi sono operazioni o metodi che ci permettono di cambiare gli elementi di `dict_keys`, si può solo agire sul dizionario originale.\n",
    "\n",
    "</div>"
   ]
  },
  {
   "cell_type": "markdown",
   "metadata": {},
   "source": [
    "**DOMANDA**: Guarda questi frammenti di codice. Per ciascuno, prova a indovinare se può funzionare, e quale risultato produce.\n",
    "\n",
    "1.  ```python\n",
    "    diz = {'a':4,\n",
    "           'b':5}\n",
    "\n",
    "    chiavi = diz.keys()\n",
    "    chiavi.append('c')\n",
    "    ```\n",
    "\n",
    "1.  ```python\n",
    "    diz = {'a':4,\n",
    "           'b':5}\n",
    "\n",
    "    chiavi = diz.keys()\n",
    "    chiavi.add('c')\n",
    "    ```\n",
    "\n",
    "1.  ```python\n",
    "    diz = {'a':4,\n",
    "           'b':5}\n",
    "\n",
    "    chiavi = diz.keys()\n",
    "    chiavi['c'] = 3\n",
    "    ```\n"
   ]
  },
  {
   "cell_type": "raw",
   "id": "7a7a4b59",
   "metadata": {
    "format": "text/html"
   },
   "source": [
    "<a  class=\"jupman-sol jupman-sol-toggler\" \n",
    " onclick=\"jupman.toggleSolution(this);\" \n",
    " data-jupman-show=\"Mostra risposta\" data-jupman-hide=\"Nascondi\">Mostra risposta</a><div class=\"jupman-sol jupman-sol-question\" style=\"display:none\">  "
   ]
  },
  {
   "cell_type": "markdown",
   "metadata": {},
   "source": [
    "**RISPOSTA**: Nessuno degli esempi può funzionare,  dato che non possiamo modificare direttamente oggetti di tipo `dict_keys`. Operatori come le quadre o metodi come l'`.append`, `.add`, etc non sono supportati."
   ]
  },
  {
   "cell_type": "raw",
   "id": "af767a6c",
   "metadata": {
    "format": "text/html"
   },
   "source": [
    "</div>"
   ]
  },
  {
   "cell_type": "markdown",
   "metadata": {},
   "source": [
    "**DOMANDA**: Guarda questi frammenti di codice. Per ciascuno, prova a indovinare che risultato produce (o se da errore)\n",
    "    \n",
    "1.  ```python\n",
    "    diz = {'a':1,'b':2}\n",
    "    s = set(diz.keys())    \n",
    "    s.add(('c',3))\n",
    "    print(diz)\n",
    "    print(s)\n",
    "    ```\n",
    "1.  ```python\n",
    "    diz = {'a':3,'b':4}\n",
    "    k = diz.keys()\n",
    "    diz['c'] = 5\n",
    "    print(len(k))\n",
    "    ```\n",
    "1.  ```python\n",
    "    diz = {'a':'x',\n",
    "           'b':'y'}\n",
    "    print('a' in diz.keys())\n",
    "    ```\n",
    "1.  ```python\n",
    "    diz1 = {'a':1,'b':2}\n",
    "    chiavi = diz1.keys()\n",
    "    diz2 = dict(diz1)\n",
    "    diz2['c'] = 3\n",
    "    print('diz1=',diz1)\n",
    "    print('diz2=',diz2)\n",
    "    print('chiavi=',chiavi)\n",
    "    ```\n",
    "1.  ```python\n",
    "    diz1 = {'a':'b','c':'d'}\n",
    "    diz2 = {'a':'b','b':'c'}\n",
    "    print( set(diz1.keys()) - set(diz2.keys())  )\n",
    "    ```\n",
    "1.  ```python\n",
    "    diz1 = {'a':'b','c':'d'}\n",
    "    diz2 = {'e':'a','f':'c'}\n",
    "    chiavi = diz1.keys()\n",
    "    del diz1[diz2['e']]\n",
    "    del diz1[diz2['f']]\n",
    "    print(len(chiavi))\n",
    "    ```"
   ]
  },
  {
   "cell_type": "markdown",
   "metadata": {},
   "source": [
    "### Esercizio - chiavi disordinate\n",
    "\n",
    "✪ STAMPA una LISTA con tutte le chiavi del dizionario.\n",
    "\n",
    "* **NOTA 1**: NON è necessario che la lista sia ordinata\n",
    "* **NOTA 2**: per convertire una qualsiasi sequenza a lista, usa la funzione predefinita `list`\n",
    "\n"
   ]
  },
  {
   "cell_type": "raw",
   "id": "29e9d8fd",
   "metadata": {
    "format": "text/html"
   },
   "source": [
    "<a  class=\"jupman-sol jupman-sol-toggler\" \n",
    " onclick=\"jupman.toggleSolution(this);\" \n",
    " data-jupman-show=\"Mostra soluzione\" data-jupman-hide=\"Nascondi\">Mostra soluzione</a><div class=\"jupman-sol jupman-sol-code\" style=\"display:none\">  "
   ]
  },
  {
   "cell_type": "code",
   "execution_count": 13,
   "metadata": {},
   "outputs": [
    {
     "data": {
      "text/plain": [
       "['c', 'b', 'a']"
      ]
     },
     "execution_count": 13,
     "metadata": {},
     "output_type": "execute_result"
    }
   ],
   "source": [
    "diz = {'c':6, 'b':2,'a':5}\n",
    "\n",
    "# scrivi qui\n",
    "\n",
    "list(diz.keys())"
   ]
  },
  {
   "cell_type": "raw",
   "id": "440d9e5c",
   "metadata": {
    "format": "text/html"
   },
   "source": [
    "</div>"
   ]
  },
  {
   "cell_type": "code",
   "execution_count": 13,
   "metadata": {},
   "outputs": [
    {
     "data": {
      "text/plain": [
       "['c', 'b', 'a']"
      ]
     },
     "execution_count": 13,
     "metadata": {},
     "output_type": "execute_result"
    }
   ],
   "source": [
    "diz = {'c':6, 'b':2,'a':5}\n",
    "\n",
    "# scrivi qui\n",
    "\n"
   ]
  },
  {
   "cell_type": "markdown",
   "metadata": {},
   "source": [
    "### Esercizio - chiavi ordinate\n",
    "\n",
    "✪ STAMPA una LISTA con tutte le chiavi del dizionario.\n",
    "\n",
    "* **NOTA 1**: Adesso E' necessario che la lista sia ordinata\n",
    "* **NOTA 2**: per convertire una qualsiasi sequenza a lista, usa la funzione predefinita `list`\n"
   ]
  },
  {
   "cell_type": "raw",
   "id": "443f117c",
   "metadata": {
    "format": "text/html"
   },
   "source": [
    "<a  class=\"jupman-sol jupman-sol-toggler\" \n",
    " onclick=\"jupman.toggleSolution(this);\" \n",
    " data-jupman-show=\"Mostra soluzione\" data-jupman-hide=\"Nascondi\">Mostra soluzione</a><div class=\"jupman-sol jupman-sol-code\" style=\"display:none\">  "
   ]
  },
  {
   "cell_type": "code",
   "execution_count": 14,
   "metadata": {},
   "outputs": [
    {
     "name": "stdout",
     "output_type": "stream",
     "text": [
      "['a', 'b', 'c']\n"
     ]
    }
   ],
   "source": [
    "diz = {'c':6, 'b':2,'a':5}\n",
    "\n",
    "# scrivi qui\n",
    "\n",
    "lista = list(diz.keys())\n",
    "lista.sort()\n",
    "print(lista)"
   ]
  },
  {
   "cell_type": "raw",
   "id": "d7193870",
   "metadata": {
    "format": "text/html"
   },
   "source": [
    "</div>"
   ]
  },
  {
   "cell_type": "code",
   "execution_count": 14,
   "metadata": {},
   "outputs": [
    {
     "name": "stdout",
     "output_type": "stream",
     "text": [
      "['a', 'b', 'c']\n"
     ]
    }
   ],
   "source": [
    "diz = {'c':6, 'b':2,'a':5}\n",
    "\n",
    "# scrivi qui\n",
    "\n"
   ]
  },
  {
   "cell_type": "markdown",
   "metadata": {},
   "source": [
    "### Esercizio - chiavistello\n",
    "\n",
    "Dati i dizionari `diz1` e `diz2`, scrivi del codice che mette in una **lista** `chiavi` tutte le chiavi dei due dizionari, **senza duplicati** e **ordinate alfabeticamente**, e infine stampa la lista.\n",
    "\n",
    "* il tuo codice deve funzionare per qualunque `diz1` e `diz2`\n",
    "\n",
    "Esempio - dati:\n",
    "\n",
    "```python\n",
    "diz1 = {\n",
    "    'a':5,\n",
    "    'b':9,\n",
    "    'e':2,\n",
    "    \n",
    "}\n",
    "diz2 = {'a':9,\n",
    "        'c':2,\n",
    "        'e':2,\n",
    "        'f':6}\n",
    "```      \n",
    "\n",
    "dopo il tuo codice, deve risultare:\n",
    "\n",
    "```python\n",
    ">>> print(chiavi)\n",
    "['a', 'b', 'c', 'e', 'f']\n",
    "```"
   ]
  },
  {
   "cell_type": "raw",
   "id": "f7ec38ef",
   "metadata": {
    "format": "text/html"
   },
   "source": [
    "<a  class=\"jupman-sol jupman-sol-toggler\" \n",
    " onclick=\"jupman.toggleSolution(this);\" \n",
    " data-jupman-show=\"Mostra soluzione\" data-jupman-hide=\"Nascondi\">Mostra soluzione</a><div class=\"jupman-sol jupman-sol-code\" style=\"display:none\">  "
   ]
  },
  {
   "cell_type": "code",
   "execution_count": 15,
   "metadata": {},
   "outputs": [],
   "source": [
    "diz1 = {\n",
    "    'a':5,\n",
    "    'b':9,\n",
    "    'e':2,\n",
    "    \n",
    "}\n",
    "diz2 = {'a':9,\n",
    "        'c':2,\n",
    "        'e':2,\n",
    "        'f':6}\n",
    "\n",
    "\n",
    "# scrivi qui\n",
    "chiavi = list(set(diz1.keys()) | set(diz2.keys()))\n",
    "chiavi.sort()\n",
    "#print(chiavi)"
   ]
  },
  {
   "cell_type": "raw",
   "id": "e53644c9",
   "metadata": {
    "format": "text/html"
   },
   "source": [
    "</div>"
   ]
  },
  {
   "cell_type": "code",
   "execution_count": 15,
   "metadata": {},
   "outputs": [],
   "source": [
    "diz1 = {\n",
    "    'a':5,\n",
    "    'b':9,\n",
    "    'e':2,\n",
    "    \n",
    "}\n",
    "diz2 = {'a':9,\n",
    "        'c':2,\n",
    "        'e':2,\n",
    "        'f':6}\n",
    "\n",
    "\n",
    "# scrivi qui\n",
    "\n"
   ]
  },
  {
   "cell_type": "markdown",
   "metadata": {},
   "source": []
  },
  {
   "cell_type": "markdown",
   "metadata": {},
   "source": [
    "## values\n",
    "\n",
    "Dato un dizionario, è possibile ottenere tutti i valori chiamando il metodo `.values()`\n",
    "\n",
    "Supponiamo di avere un dizionario  `veicoli` che ad ogni targa di automobile assegna un proprietario:"
   ]
  },
  {
   "cell_type": "code",
   "execution_count": 16,
   "metadata": {},
   "outputs": [],
   "source": [
    "veicoli = {\n",
    "    'AA111AA' : 'Mario',\n",
    "    'BB222BB' : 'Lidia',\n",
    "    'CC333CC' : 'Mario',\n",
    "    'DD444DD' : 'Gino',\n",
    "    'EE555EE' : 'Gino'\n",
    "}\n",
    "\n",
    "proprietari = veicoli.values()"
   ]
  },
  {
   "cell_type": "markdown",
   "metadata": {},
   "source": [
    "<div class=\"alert alert-warning\">\n",
    "\n",
    "**ATTENZIONE: LA SEQUENZA RITORNATA E' DI TIPO** `dict_values`\n",
    "\n",
    "`dict_values` può sembrare una lista ma non lo è !\n",
    "\n",
    "</div>"
   ]
  },
  {
   "cell_type": "markdown",
   "metadata": {},
   "source": [
    "Come nel caso di `dict_keys`, anche `dict_values` è **una vista** sul dizionario originale, quindi aggiungendo un'associazione a `veicoli`:"
   ]
  },
  {
   "cell_type": "code",
   "execution_count": 17,
   "metadata": {},
   "outputs": [],
   "source": [
    "veicoli['FF666FF'] = 'Paola'"
   ]
  },
  {
   "cell_type": "markdown",
   "metadata": {},
   "source": [
    "Anche la vista`proprietari` risulterà automaticamente cambiata:"
   ]
  },
  {
   "cell_type": "code",
   "execution_count": 18,
   "metadata": {},
   "outputs": [
    {
     "data": {
      "text/plain": [
       "dict_values(['Mario', 'Lidia', 'Mario', 'Gino', 'Gino', 'Paola'])"
      ]
     },
     "execution_count": 18,
     "metadata": {},
     "output_type": "execute_result"
    }
   ],
   "source": [
    "proprietari"
   ]
  },
  {
   "cell_type": "markdown",
   "metadata": {},
   "source": [
    "Notiamo anche che essendo _valori_ di un dizionario, sono ammessi duplicati."
   ]
  },
  {
   "cell_type": "markdown",
   "metadata": {},
   "source": [
    "\n",
    "<div class=\"alert alert-warning\">\n",
    "\n",
    "**ATTENZIONE: NON POSSIAMO ACCEDERE AD UNA SPECIFICA POSIZIONE DI** `dict_values` \n",
    "\n",
    "</div>\n",
    "\n",
    "Se ci proviamo, otterremo un errore:"
   ]
  },
  {
   "cell_type": "markdown",
   "metadata": {},
   "source": [
    "\n",
    "```python\n",
    ">>> proprietari[0]\n",
    "\n",
    "---------------------------------------------------------------------------\n",
    "TypeError                                 Traceback (most recent call last)\n",
    "<ipython-input-90-c888bf602918> in <module>()\n",
    "----> 1 proprietari[0]\n",
    "\n",
    "TypeError: 'dict_values' object does not support indexing\n",
    "\n",
    "```"
   ]
  },
  {
   "cell_type": "markdown",
   "metadata": {},
   "source": [
    "<div class=\"alert alert-warning\">\n",
    "\n",
    "**ATTENZIONE: NON POSSIAMO MODIFICARE DIRETTAMENTE** `dict_values` \n",
    "\n",
    "Non vi sono operazioni o metodi che ci permettono di cambiare gli elementi di `dict_values`, si può solo agire sul dizionario originale.\n",
    "\n",
    "</div>"
   ]
  },
  {
   "cell_type": "markdown",
   "metadata": {},
   "source": [
    "**DOMANDA**: Guarda questi frammenti di codice. Per ciascuno, prova a indovinare se può funzionare, e quale risultato produce.\n",
    "\n",
    "1.  ```python\n",
    "    diz = {'a':4,\n",
    "           'b':5}\n",
    "\n",
    "    valori = diz.values()\n",
    "    valori.append(4)\n",
    "    ```\n",
    "1.  ```python\n",
    "    d = {0:'a',\n",
    "         1:'b',\n",
    "         2:'b'}\n",
    "    vs = d.values()\n",
    "    d[2]='c'\n",
    "    print(vs)\n",
    "    ```\n",
    "1.  ```python\n",
    "    diz = {'a':4,\n",
    "           'b':5}\n",
    "\n",
    "    valori = diz.values()\n",
    "    valori.add(5)\n",
    "    ```\n",
    "1.  ```python\n",
    "    diz = {0:1,\n",
    "           1:2,\n",
    "           2:3}\n",
    "\n",
    "    diz[list(diz.values())[0]-1]\n",
    "    ```\n",
    "1.  ```python\n",
    "    diz = {'a':4,\n",
    "           'b':5}\n",
    "\n",
    "    valori = diz.values()\n",
    "    valori['c'] = 6\n",
    "    ```\n",
    "1.  ```python\n",
    "    diz = {'a':4,\n",
    "           'b':5}\n",
    "\n",
    "    valori = diz.values()\n",
    "    valori[6] = 'c'\n",
    "    ```\n"
   ]
  },
  {
   "cell_type": "markdown",
   "metadata": {},
   "source": [
    "### Esercizio - uno a uno\n",
    "\n",
    "Dato un dizionario `diz`, scrivi del codice che stampa `True` se ad ogni chiave corrisponde un valore _diverso_ dai  valori corrispondenti a tutte le altre chiavi, altrimenti stampa `False`.\n",
    "\n",
    "Esempio 1 - dati\n",
    "\n",
    "```python\n",
    "diz = {'a' : 3,\n",
    "       'c' : 6,\n",
    "       'g' : 8}\n",
    "```\n",
    "\n",
    "Dopo il tuo codice, deve stampare `True` (perchè 3,6 e 8 sono tutti diversi)\n",
    "\n",
    "```python\n",
    "True\n",
    "```\n",
    "\n",
    "Esempio 2 - dati\n",
    "\n",
    "```python\n",
    "diz = {'x' : 5,\n",
    "       'y' : 7,\n",
    "       'z' : 5}\n",
    "```\n",
    "\n",
    "deve stampare \n",
    "\n",
    "```python\n",
    "False\n",
    "```"
   ]
  },
  {
   "cell_type": "raw",
   "id": "4d661604",
   "metadata": {
    "format": "text/html"
   },
   "source": [
    "<a  class=\"jupman-sol jupman-sol-toggler\" \n",
    " onclick=\"jupman.toggleSolution(this);\" \n",
    " data-jupman-show=\"Mostra soluzione\" data-jupman-hide=\"Nascondi\">Mostra soluzione</a><div class=\"jupman-sol jupman-sol-code\" style=\"display:none\">  "
   ]
  },
  {
   "cell_type": "code",
   "execution_count": 19,
   "metadata": {},
   "outputs": [
    {
     "name": "stdout",
     "output_type": "stream",
     "text": [
      "True\n"
     ]
    }
   ],
   "source": [
    "diz = {'a' : 3,\n",
    "       'c' : 6,\n",
    "       'g' : 8}\n",
    "\n",
    "\"\"\"\n",
    "diz = {'x' : 5,\n",
    "       'y' : 7,\n",
    "       'z' : 5}\n",
    "\"\"\"\n",
    "\n",
    "# scrivi qui\n",
    "\n",
    "print(len(diz.keys()) == len(set(diz.values())))"
   ]
  },
  {
   "cell_type": "raw",
   "id": "c5c66042",
   "metadata": {
    "format": "text/html"
   },
   "source": [
    "</div>"
   ]
  },
  {
   "cell_type": "code",
   "execution_count": 19,
   "metadata": {},
   "outputs": [
    {
     "name": "stdout",
     "output_type": "stream",
     "text": [
      "True\n"
     ]
    }
   ],
   "source": [
    "diz = {'a' : 3,\n",
    "       'c' : 6,\n",
    "       'g' : 8}\n",
    "\n",
    "\"\"\"\n",
    "diz = {'x' : 5,\n",
    "       'y' : 7,\n",
    "       'z' : 5}\n",
    "\"\"\"\n",
    "\n",
    "# scrivi qui\n",
    "\n"
   ]
  },
  {
   "cell_type": "markdown",
   "metadata": {},
   "source": [
    "### Esercizio - borsa\n",
    "\n",
    "Dato un dizionario `diz` di associazioni tra caratteri, scrivi del codice che mette nella variabile `borsa` la lista ordinata di tutte le chiavi e i valori.\n",
    "\n",
    "Esempio - dato\n",
    "\n",
    "```python\n",
    "diz = {\n",
    "    'a':'b',\n",
    "    'b':'f',\n",
    "    'c':'b',\n",
    "    'd':'e'\n",
    "}\n",
    "```\n",
    "\n",
    "Dopo il tuo codice, deve stampare\n",
    "\n",
    "```python\n",
    ">>> print(borsa)\n",
    "['a', 'b', 'c', 'd', 'e', 'f']\n",
    "```"
   ]
  },
  {
   "cell_type": "raw",
   "id": "e2ecf553",
   "metadata": {
    "format": "text/html"
   },
   "source": [
    "<a  class=\"jupman-sol jupman-sol-toggler\" \n",
    " onclick=\"jupman.toggleSolution(this);\" \n",
    " data-jupman-show=\"Mostra soluzione\" data-jupman-hide=\"Nascondi\">Mostra soluzione</a><div class=\"jupman-sol jupman-sol-code\" style=\"display:none\">  "
   ]
  },
  {
   "cell_type": "code",
   "execution_count": 20,
   "metadata": {},
   "outputs": [
    {
     "name": "stdout",
     "output_type": "stream",
     "text": [
      "['a', 'b', 'c', 'd', 'e', 'f']\n"
     ]
    }
   ],
   "source": [
    "diz = {\n",
    "    'a':'b',\n",
    "    'b':'f',\n",
    "    'c':'b',\n",
    "    'd':'e'\n",
    "}\n",
    "\n",
    "# scrivi qui\n",
    "\n",
    "borsa = list(set(diz.keys()) | set(diz.values()))\n",
    "borsa.sort()\n",
    "\n",
    "print(borsa)"
   ]
  },
  {
   "cell_type": "raw",
   "id": "470b71f3",
   "metadata": {
    "format": "text/html"
   },
   "source": [
    "</div>"
   ]
  },
  {
   "cell_type": "code",
   "execution_count": 20,
   "metadata": {},
   "outputs": [
    {
     "name": "stdout",
     "output_type": "stream",
     "text": [
      "['a', 'b', 'c', 'd', 'e', 'f']\n"
     ]
    }
   ],
   "source": [
    "diz = {\n",
    "    'a':'b',\n",
    "    'b':'f',\n",
    "    'c':'b',\n",
    "    'd':'e'\n",
    "}\n",
    "\n",
    "# scrivi qui\n",
    "\n"
   ]
  },
  {
   "cell_type": "markdown",
   "metadata": {},
   "source": [
    "### Esercizio - valori comuni\n",
    "\n",
    "Dati due dizionari `diz1` e `diz2`, scrivere del codice che STAMPA `True` se hanno _almeno_ un valore in comune (senza considerare le chiavi).\n",
    "\n",
    "Esempio 1 - dati\n",
    "\n",
    "```python\n",
    "diz1 = {\n",
    "    'a':4,\n",
    "    'k':2,\n",
    "    'm':5\n",
    "}\n",
    "\n",
    "diz2 = {\n",
    "    'b':2,\n",
    "    'e':4,\n",
    "    'g':9,\n",
    "    'h':1\n",
    "}\n",
    "```\n",
    "\n",
    "dopo il tuo codice, deve stampare `True` (perchè hanno i valori `2` e `4` in comune):\n",
    "\n",
    "```\n",
    "Hanno valori in comune? True\n",
    "```\n",
    "\n",
    "Esempio 2 - dati\n",
    "\n",
    "```python\n",
    "diz1 = {\n",
    "    'd':1,\n",
    "    'e':2,\n",
    "    'f':6\n",
    "}\n",
    "\n",
    "diz2 = {\n",
    "    'a':3,\n",
    "    'b':5,\n",
    "    'c':9,\n",
    "    'd':7\n",
    "}\n",
    "```\n",
    "\n",
    "dopo il tuo codice, deve stampare:\n",
    "\n",
    "```\n",
    "Hanno valori in comune? False\n",
    "```"
   ]
  },
  {
   "cell_type": "raw",
   "id": "16c8afc0",
   "metadata": {
    "format": "text/html"
   },
   "source": [
    "<a  class=\"jupman-sol jupman-sol-toggler\" \n",
    " onclick=\"jupman.toggleSolution(this);\" \n",
    " data-jupman-show=\"Mostra soluzione\" data-jupman-hide=\"Nascondi\">Mostra soluzione</a><div class=\"jupman-sol jupman-sol-code\" style=\"display:none\">  "
   ]
  },
  {
   "cell_type": "code",
   "execution_count": 21,
   "metadata": {},
   "outputs": [
    {
     "name": "stdout",
     "output_type": "stream",
     "text": [
      "Hanno valori in comune? True\n"
     ]
    }
   ],
   "source": [
    "diz1 = {\n",
    "    'a':4,\n",
    "    'k':2,\n",
    "    'm':5\n",
    "}\n",
    "\n",
    "diz2 = {\n",
    "    'b':2,\n",
    "    'e':4,\n",
    "    'g':9,\n",
    "    'h':1\n",
    "}\n",
    "\n",
    "\"\"\"\n",
    "diz1 = {\n",
    "    'd':1,\n",
    "    'e':2,\n",
    "    'f':6\n",
    "}\n",
    "\n",
    "diz2 = {\n",
    "    'a':3,\n",
    "    'b':5,\n",
    "    'c':9,\n",
    "    'd':7\n",
    "}\n",
    "\"\"\"\n",
    "\n",
    "# scrivi qui\n",
    "\n",
    "print('Hanno valori in comune?',len(set(diz1.values()) & set(diz2.values())) > 0)"
   ]
  },
  {
   "cell_type": "raw",
   "id": "7d69b483",
   "metadata": {
    "format": "text/html"
   },
   "source": [
    "</div>"
   ]
  },
  {
   "cell_type": "code",
   "execution_count": 21,
   "metadata": {},
   "outputs": [
    {
     "name": "stdout",
     "output_type": "stream",
     "text": [
      "Hanno valori in comune? True\n"
     ]
    }
   ],
   "source": [
    "diz1 = {\n",
    "    'a':4,\n",
    "    'k':2,\n",
    "    'm':5\n",
    "}\n",
    "\n",
    "diz2 = {\n",
    "    'b':2,\n",
    "    'e':4,\n",
    "    'g':9,\n",
    "    'h':1\n",
    "}\n",
    "\n",
    "\"\"\"\n",
    "diz1 = {\n",
    "    'd':1,\n",
    "    'e':2,\n",
    "    'f':6\n",
    "}\n",
    "\n",
    "diz2 = {\n",
    "    'a':3,\n",
    "    'b':5,\n",
    "    'c':9,\n",
    "    'd':7\n",
    "}\n",
    "\"\"\"\n",
    "\n",
    "# scrivi qui\n",
    "\n"
   ]
  },
  {
   "cell_type": "markdown",
   "metadata": {},
   "source": [
    "### Esercizio - piccolo grande\n",
    "\n",
    "Dato un dizionario `diz` che ha interi come chiavi e valori, stampa `True` se la chiave più piccola è uguale al valore più grande.\n",
    "\n",
    "Esempio 1 - dato:\n",
    "\n",
    "```python\n",
    "diz = {\n",
    "    14:1,\n",
    "    11:7,\n",
    "    7:3,\n",
    "    70:5\n",
    "}\n",
    "```\n",
    "\n",
    "dopo il tuo codice, deve stampare `True` (perchè chiave minima `7` è uguale a valore massimo `7`)\n",
    "\n",
    "```python\n",
    "True\n",
    "```\n",
    "Esempio 2 - dato:\n",
    "\n",
    "```python\n",
    "diz = {\n",
    "    12:1,\n",
    "    11:9,\n",
    "    7:3,\n",
    "    2:5,\n",
    "    9:1\n",
    "}\n",
    "```\n",
    "\n",
    "dopo il tuo codice, deve stampare `False` (perchè chiave minima `2` è diversa da valore massimo `9`):\n",
    "\n",
    "```python\n",
    "False\n",
    "```"
   ]
  },
  {
   "cell_type": "raw",
   "id": "e88d86d3",
   "metadata": {
    "format": "text/html"
   },
   "source": [
    "<a  class=\"jupman-sol jupman-sol-toggler\" \n",
    " onclick=\"jupman.toggleSolution(this);\" \n",
    " data-jupman-show=\"Mostra soluzione\" data-jupman-hide=\"Nascondi\">Mostra soluzione</a><div class=\"jupman-sol jupman-sol-code\" style=\"display:none\">  "
   ]
  },
  {
   "cell_type": "code",
   "execution_count": 22,
   "metadata": {},
   "outputs": [
    {
     "data": {
      "text/plain": [
       "True"
      ]
     },
     "execution_count": 22,
     "metadata": {},
     "output_type": "execute_result"
    }
   ],
   "source": [
    "diz = {\n",
    "    14:1,\n",
    "    11:7,\n",
    "    7:3,\n",
    "    70:5\n",
    "}\n",
    "\n",
    "\"\"\"\n",
    "diz = {\n",
    "    12:1,\n",
    "    11:9,\n",
    "    7:3,\n",
    "    2:5,\n",
    "    9:1\n",
    "}\n",
    "\"\"\"\n",
    "\n",
    "# scrivi qui\n",
    "\n",
    "min(diz.keys()) == max(diz.values())"
   ]
  },
  {
   "cell_type": "raw",
   "id": "58bf0eda",
   "metadata": {
    "format": "text/html"
   },
   "source": [
    "</div>"
   ]
  },
  {
   "cell_type": "code",
   "execution_count": 22,
   "metadata": {},
   "outputs": [
    {
     "data": {
      "text/plain": [
       "True"
      ]
     },
     "execution_count": 22,
     "metadata": {},
     "output_type": "execute_result"
    }
   ],
   "source": [
    "diz = {\n",
    "    14:1,\n",
    "    11:7,\n",
    "    7:3,\n",
    "    70:5\n",
    "}\n",
    "\n",
    "\"\"\"\n",
    "diz = {\n",
    "    12:1,\n",
    "    11:9,\n",
    "    7:3,\n",
    "    2:5,\n",
    "    9:1\n",
    "}\n",
    "\"\"\"\n",
    "\n",
    "# scrivi qui\n",
    "\n"
   ]
  },
  {
   "cell_type": "markdown",
   "metadata": {},
   "source": [
    "## items\n",
    "\n",
    "Possiamo ricavare tutte le associazioni chiave/valore come lista di coppie di tipo tupla con il metodo `.items()`. Vediamo un esempio che associa attrazioni da visitare alla città dove si trovano:"
   ]
  },
  {
   "cell_type": "code",
   "execution_count": 23,
   "metadata": {},
   "outputs": [],
   "source": [
    "vacanza = {'Piazza S.Marco':'Venezia',\n",
    "           'Fontana di Trevi':'Roma',\n",
    "           'Uffizi':'Firenze',           \n",
    "           'Colosseo':'Roma',\n",
    "}\n",
    "    "
   ]
  },
  {
   "cell_type": "code",
   "execution_count": 24,
   "metadata": {},
   "outputs": [
    {
     "data": {
      "text/plain": [
       "dict_items([('Piazza S.Marco', 'Venezia'), ('Fontana di Trevi', 'Roma'), ('Uffizi', 'Firenze'), ('Colosseo', 'Roma')])"
      ]
     },
     "execution_count": 24,
     "metadata": {},
     "output_type": "execute_result"
    }
   ],
   "source": [
    "vacanza.items()"
   ]
  },
  {
   "cell_type": "markdown",
   "metadata": {},
   "source": [
    "In questo caso vediamo che ci è ritornato un oggetto di tipo `dict_items`. Come nei precedenti casi, è **una vista** che **non** possiamo modificare direttamente. Se il dizionario originale viene cambiato, la mutazione si rifletterà sulla vista:"
   ]
  },
  {
   "cell_type": "code",
   "execution_count": 25,
   "metadata": {},
   "outputs": [],
   "source": [
    "attrazioni = vacanza.items()"
   ]
  },
  {
   "cell_type": "code",
   "execution_count": 26,
   "metadata": {},
   "outputs": [],
   "source": [
    "vacanza['Palazzo Ducale'] = 'Venezia'"
   ]
  },
  {
   "cell_type": "code",
   "execution_count": 27,
   "metadata": {},
   "outputs": [
    {
     "data": {
      "text/plain": [
       "dict_items([('Piazza S.Marco', 'Venezia'), ('Fontana di Trevi', 'Roma'), ('Uffizi', 'Firenze'), ('Colosseo', 'Roma'), ('Palazzo Ducale', 'Venezia')])"
      ]
     },
     "execution_count": 27,
     "metadata": {},
     "output_type": "execute_result"
    }
   ],
   "source": [
    "attrazioni"
   ]
  },
  {
   "cell_type": "markdown",
   "metadata": {},
   "source": [
    "**DOMANDA**: Guarda questi frammenti di codice. Per ciascuno, prova a indovinare se può funzionare, e quale risultato produce.\n",
    "\n",
    "1.  ```python\n",
    "    {'a':7, 'b':9}.items()[0] = ('c',8)\n",
    "    ```\n",
    "1.  ```python\n",
    "    dict({'a':7,'b':5}.items())['a']\n",
    "    ```\n",
    "1.  ```python\n",
    "    len(set({'a':'b', 'a':'B'}.items()))\n",
    "    ```\n",
    "1.  ```python\n",
    "    {'a':2}.items().find(('a',2))\n",
    "    ```\n",
    "1.  ```python\n",
    "    {'a':2}.items().index(('a',2))\n",
    "    ```    \n",
    "1.  ```python\n",
    "    list({'a':2}.items()).index(('a',2))\n",
    "    ```\n",
    "1.  ```python\n",
    "    diz1 = {'a':7,\n",
    "            'b':5}\n",
    "    diz2 = dict(diz1.items())\n",
    "    diz1['a'] = 6\n",
    "    print(diz1 == diz2)\n",
    "    ```\n",
    "1.  ```python\n",
    "    ('a','b') in {'a':('a','b'), 'b':('a','b')}.items()\n",
    "    ```\n",
    "    \n",
    "1.  ```python    \n",
    "    ('a','b') in list({'a':('a','b'), 'b':('a','b')}.items())[0]\n",
    "    ```"
   ]
  },
  {
   "cell_type": "markdown",
   "metadata": {},
   "source": [
    "### Esercizio - unione senza update\n",
    "\n",
    "Dati i dizionari `diz1` e `diz2`, scrivi del codice che crea un NUOVO dizionario `diz3` contenente tutte le coppie chiave/valore da `diz1` e `diz2`.\n",
    "\n",
    "* si suppone che tutte le coppie chiave/valore siano distinte\n",
    "* **NON** usare cicli\n",
    "* **NON** usare `.update()`\n",
    "* il tuo codice deve funzionare per _qualsiasi_ `diz1` e `diz2`\n",
    "\n",
    "Esempio - dati:\n",
    "\n",
    "```python\n",
    "diz1 = {'a':4,\n",
    "        'b':7}\n",
    "diz2 = {'c':5,\n",
    "        'd':8,\n",
    "        'e':2}\n",
    "```\n",
    "\n",
    "dopo il tuo codice, deve risultare (l'ordine non è importante):\n",
    "\n",
    "```python\n",
    ">>> print(diz3)\n",
    "{'a': 4, 'e': 2, 'd': 8, 'c': 5, 'b': 7}\n",
    "```"
   ]
  },
  {
   "cell_type": "raw",
   "id": "dfcbffad",
   "metadata": {
    "format": "text/html"
   },
   "source": [
    "<a  class=\"jupman-sol jupman-sol-toggler\" \n",
    " onclick=\"jupman.toggleSolution(this);\" \n",
    " data-jupman-show=\"Mostra soluzione\" data-jupman-hide=\"Nascondi\">Mostra soluzione</a><div class=\"jupman-sol jupman-sol-code\" style=\"display:none\">  "
   ]
  },
  {
   "cell_type": "code",
   "execution_count": 28,
   "metadata": {},
   "outputs": [],
   "source": [
    "diz1 = {'a':4,\n",
    "        'b':7}\n",
    "diz2 = {'c':5,\n",
    "        'd':8,\n",
    "        'e':2}\n",
    "\n",
    "# scrivi qui\n",
    "diz3 = dict(list(diz1.items()) + list(diz2.items()))\n",
    "#print(diz3)"
   ]
  },
  {
   "cell_type": "raw",
   "id": "13d790db",
   "metadata": {
    "format": "text/html"
   },
   "source": [
    "</div>"
   ]
  },
  {
   "cell_type": "code",
   "execution_count": 28,
   "metadata": {},
   "outputs": [],
   "source": [
    "diz1 = {'a':4,\n",
    "        'b':7}\n",
    "diz2 = {'c':5,\n",
    "        'd':8,\n",
    "        'e':2}\n",
    "\n",
    "# scrivi qui\n",
    "\n"
   ]
  },
  {
   "cell_type": "markdown",
   "metadata": {},
   "source": [
    "## update\n",
    "\n",
    "Avendo un dizionario di partenza, è possibile MODIFICARLO unendone un'altro con il metodo `.update()`:"
   ]
  },
  {
   "cell_type": "code",
   "execution_count": 29,
   "metadata": {},
   "outputs": [],
   "source": [
    "diz1 = {'capre':6,\n",
    "        'cavoli':9,\n",
    "        'pastori':1}\n",
    "        \n",
    "\n",
    "diz2 = {'capre':12,\n",
    "        'cavoli':15,\n",
    "        'panche':3,\n",
    "        'fieno':7}"
   ]
  },
  {
   "cell_type": "code",
   "execution_count": 30,
   "metadata": {},
   "outputs": [],
   "source": [
    "diz1.update(diz2)"
   ]
  },
  {
   "cell_type": "code",
   "execution_count": 31,
   "metadata": {},
   "outputs": [
    {
     "data": {
      "text/plain": [
       "{'capre': 12, 'cavoli': 15, 'pastori': 1, 'panche': 3, 'fieno': 7}"
      ]
     },
     "execution_count": 31,
     "metadata": {},
     "output_type": "execute_result"
    }
   ],
   "source": [
    "diz1"
   ]
  },
  {
   "cell_type": "markdown",
   "metadata": {},
   "source": [
    "Notare come le chiavi in comune tra i dizionari come `'capre'` e `'cavoli'` e  abbiano valori dal secondo.\n",
    "\n",
    "Volendo, si può anche passare una sequenza di coppie così:"
   ]
  },
  {
   "cell_type": "code",
   "execution_count": 32,
   "metadata": {},
   "outputs": [],
   "source": [
    "diz1.update([('fieno',3),('panche',18), ('stalle',4)])"
   ]
  },
  {
   "cell_type": "code",
   "execution_count": 33,
   "metadata": {},
   "outputs": [
    {
     "data": {
      "text/plain": [
       "{'capre': 12,\n",
       " 'cavoli': 15,\n",
       " 'pastori': 1,\n",
       " 'panche': 18,\n",
       " 'fieno': 3,\n",
       " 'stalle': 4}"
      ]
     },
     "execution_count": 33,
     "metadata": {},
     "output_type": "execute_result"
    }
   ],
   "source": [
    "diz1"
   ]
  },
  {
   "cell_type": "markdown",
   "metadata": {},
   "source": [
    "### Esercizio - axby\n",
    "\n",
    "Dato un dizionario `diz` che associa caratteri a caratteri ed una stringa `s` formattata con coppie di caratteri come `ax` separate da punto e virgola `;`, sostituire tutti i valori in `diz` con i corrispondenti valori indicati nella stringa\n",
    "\n",
    "* il tuo codice deve funzionare per _qualsiasi_ dizionario `diz` e lista `s`\n",
    "\n",
    "Esempio - dati\n",
    "\n",
    "```python\n",
    "diz = {\n",
    "    'a':'x',\n",
    "    'b':'y',\n",
    "    'c':'z',\n",
    "    'd':'w'\n",
    "}\n",
    "s = \"bx;cw;ex\"\n",
    "\n",
    "```\n",
    "\n",
    "dopo il tuo codice, deve risultare\n",
    "\n",
    "```python\n",
    ">>> diz\n",
    "{'a': 'x', 'b': 'x', 'c': 'w', 'd': 'w', 'e': 'x'}\n",
    "```"
   ]
  },
  {
   "cell_type": "raw",
   "id": "c98fbd38",
   "metadata": {
    "format": "text/html"
   },
   "source": [
    "<a  class=\"jupman-sol jupman-sol-toggler\" \n",
    " onclick=\"jupman.toggleSolution(this);\" \n",
    " data-jupman-show=\"Mostra soluzione\" data-jupman-hide=\"Nascondi\">Mostra soluzione</a><div class=\"jupman-sol jupman-sol-code\" style=\"display:none\">  "
   ]
  },
  {
   "cell_type": "code",
   "execution_count": 34,
   "metadata": {},
   "outputs": [
    {
     "data": {
      "text/plain": [
       "{'a': 'x', 'b': 'x', 'c': 'w', 'd': 'w', 'e': 'x'}"
      ]
     },
     "execution_count": 34,
     "metadata": {},
     "output_type": "execute_result"
    }
   ],
   "source": [
    "diz = {\n",
    "    'a':'x',\n",
    "    'b':'y',\n",
    "    'c':'z',\n",
    "    'd':'w'\n",
    "}\n",
    "s = \"bx;cw;ex\"\n",
    "\n",
    "# scrivi qui\n",
    "\n",
    "la = s.split(';')\n",
    "diz.update(la)\n",
    "diz"
   ]
  },
  {
   "cell_type": "raw",
   "id": "6654ecd1",
   "metadata": {
    "format": "text/html"
   },
   "source": [
    "</div>"
   ]
  },
  {
   "cell_type": "code",
   "execution_count": 34,
   "metadata": {},
   "outputs": [
    {
     "data": {
      "text/plain": [
       "{'a': 'x', 'b': 'x', 'c': 'w', 'd': 'w', 'e': 'x'}"
      ]
     },
     "execution_count": 34,
     "metadata": {},
     "output_type": "execute_result"
    }
   ],
   "source": [
    "diz = {\n",
    "    'a':'x',\n",
    "    'b':'y',\n",
    "    'c':'z',\n",
    "    'd':'w'\n",
    "}\n",
    "s = \"bx;cw;ex\"\n",
    "\n",
    "# scrivi qui\n",
    "\n"
   ]
  },
  {
   "cell_type": "markdown",
   "metadata": {},
   "source": [
    "## Classi - OrderedDict\n",
    "\n",
    "Come abbiamo detto in precedenza, quando stampiamo un dizionario con `print` o lasciamo la visualizzazione a Jupyter, l'ordine il più delle volte non è lo stesso di quello d'inserimento. Affinchè sia predicibile, devi usare un `OrderedDict`\n",
    "\n",
    "Per poterlo usare, per prima cosa devi importarlo dal modulo delle collezioni:"
   ]
  },
  {
   "cell_type": "code",
   "execution_count": 35,
   "metadata": {},
   "outputs": [],
   "source": [
    "from collections import OrderedDict"
   ]
  },
  {
   "cell_type": "code",
   "execution_count": 36,
   "metadata": {},
   "outputs": [],
   "source": [
    "od = OrderedDict()"
   ]
  },
  {
   "cell_type": "markdown",
   "metadata": {},
   "source": [
    "Un `OrderedDict` appare e si comporta come dizionari regolari:"
   ]
  },
  {
   "cell_type": "code",
   "execution_count": 37,
   "metadata": {},
   "outputs": [],
   "source": [
    "od['qualche chiave'] = 5\n",
    "od['qualche altra chiave'] = 7\n",
    "od[('una', 'tupla', 'immutabile','come chiave')] = 3\n",
    "od[\"un'altra chiave\"] = 'adesso una stringa!'\n",
    "od[123] = 'hello'"
   ]
  },
  {
   "cell_type": "markdown",
   "metadata": {},
   "source": [
    "La visualizzazione con Jupyter mantiene l'ordine:"
   ]
  },
  {
   "cell_type": "code",
   "execution_count": 38,
   "metadata": {},
   "outputs": [
    {
     "data": {
      "text/plain": [
       "OrderedDict([('qualche chiave', 5),\n",
       "             ('qualche altra chiave', 7),\n",
       "             (('una', 'tupla', 'immutabile', 'come chiave'), 3),\n",
       "             (\"un'altra chiave\", 'adesso una stringa!'),\n",
       "             (123, 'hello')])"
      ]
     },
     "execution_count": 38,
     "metadata": {},
     "output_type": "execute_result"
    }
   ],
   "source": [
    "od"
   ]
  },
  {
   "cell_type": "markdown",
   "metadata": {},
   "source": [
    "Così come la `print`:"
   ]
  },
  {
   "cell_type": "code",
   "execution_count": 39,
   "metadata": {},
   "outputs": [
    {
     "name": "stdout",
     "output_type": "stream",
     "text": [
      "OrderedDict([('qualche chiave', 5), ('qualche altra chiave', 7), (('una', 'tupla', 'immutabile', 'come chiave'), 3), (\"un'altra chiave\", 'adesso una stringa!'), (123, 'hello')])\n"
     ]
    }
   ],
   "source": [
    "print(od)"
   ]
  },
  {
   "cell_type": "markdown",
   "metadata": {},
   "source": [
    "Vediamo come appare in Python Tutor:"
   ]
  },
  {
   "cell_type": "code",
   "execution_count": 40,
   "metadata": {},
   "outputs": [
    {
     "data": {
      "text/html": [
       "\n",
       "        <script src=\"../_static/js/pytutor-embed.bundle.min.js\" type=\"application/javascript\"></script>\n",
       "     \n",
       "        <script id=\"json-jm2d9abcbb-683b-46d7-b65b-e1180455ef30\" type=\"application/json\" >\n",
       "            {\"code\": \" \\nfrom collections import OrderedDict\\nod = OrderedDict()\\nod['qualche chiave'] = 5\\nod['qualche altra chiave'] = 7\\nod[('una', 'tupla', 'immutabile','come chiave')] = 3\\nod[\\\"un'altra chiave\\\"] = 'adesso una stringa!'\\nod[123] = 'hello'\", \"trace\": [{\"line\": 2, \"event\": \"step_line\", \"func_name\": \"<module>\", \"globals\": {}, \"ordered_globals\": [], \"stack_to_render\": [], \"heap\": {}, \"stdout\": \"\"}, {\"line\": 3, \"event\": \"step_line\", \"func_name\": \"<module>\", \"globals\": {\"OrderedDict\": [\"IMPORTED_FAUX_PRIMITIVE\", \"imported class\"]}, \"ordered_globals\": [\"OrderedDict\"], \"stack_to_render\": [], \"heap\": {}, \"stdout\": \"\"}, {\"line\": 4, \"event\": \"step_line\", \"func_name\": \"<module>\", \"globals\": {\"OrderedDict\": [\"IMPORTED_FAUX_PRIMITIVE\", \"imported class\"], \"od\": [\"REF\", 1]}, \"ordered_globals\": [\"OrderedDict\", \"od\"], \"stack_to_render\": [], \"heap\": {\"1\": [\"INSTANCE_PPRINT\", \"OrderedDict\", \"OrderedDict()\"]}, \"stdout\": \"\"}, {\"line\": 5, \"event\": \"step_line\", \"func_name\": \"<module>\", \"globals\": {\"OrderedDict\": [\"IMPORTED_FAUX_PRIMITIVE\", \"imported class\"], \"od\": [\"REF\", 1]}, \"ordered_globals\": [\"OrderedDict\", \"od\"], \"stack_to_render\": [], \"heap\": {\"1\": [\"INSTANCE_PPRINT\", \"OrderedDict\", \"OrderedDict([('qualche chiave', 5)])\"]}, \"stdout\": \"\"}, {\"line\": 6, \"event\": \"step_line\", \"func_name\": \"<module>\", \"globals\": {\"OrderedDict\": [\"IMPORTED_FAUX_PRIMITIVE\", \"imported class\"], \"od\": [\"REF\", 1]}, \"ordered_globals\": [\"OrderedDict\", \"od\"], \"stack_to_render\": [], \"heap\": {\"1\": [\"INSTANCE_PPRINT\", \"OrderedDict\", \"OrderedDict([('qualche chiave', 5), ('qualche altra chiave', 7)])\"]}, \"stdout\": \"\"}, {\"line\": 7, \"event\": \"step_line\", \"func_name\": \"<module>\", \"globals\": {\"OrderedDict\": [\"IMPORTED_FAUX_PRIMITIVE\", \"imported class\"], \"od\": [\"REF\", 1]}, \"ordered_globals\": [\"OrderedDict\", \"od\"], \"stack_to_render\": [], \"heap\": {\"1\": [\"INSTANCE_PPRINT\", \"OrderedDict\", \"OrderedDict([('qualche chiave', 5), ('qualche altra chiave', 7), (('una', 'tupla', 'immutabile', 'come chiave'), 3)])\"]}, \"stdout\": \"\"}, {\"line\": 8, \"event\": \"step_line\", \"func_name\": \"<module>\", \"globals\": {\"OrderedDict\": [\"IMPORTED_FAUX_PRIMITIVE\", \"imported class\"], \"od\": [\"REF\", 1]}, \"ordered_globals\": [\"OrderedDict\", \"od\"], \"stack_to_render\": [], \"heap\": {\"1\": [\"INSTANCE_PPRINT\", \"OrderedDict\", \"OrderedDict([('qualche chiave', 5), ('qualche altra chiave', 7), (('una', 'tupla', 'immutabile', 'come chiave'), 3), (\\\"un'altra chiave\\\", 'adesso una stringa!')])\"]}, \"stdout\": \"\"}, {\"line\": 8, \"event\": \"return\", \"func_name\": \"<module>\", \"globals\": {\"OrderedDict\": [\"IMPORTED_FAUX_PRIMITIVE\", \"imported class\"], \"od\": [\"REF\", 1]}, \"ordered_globals\": [\"OrderedDict\", \"od\"], \"stack_to_render\": [], \"heap\": {\"1\": [\"INSTANCE_PPRINT\", \"OrderedDict\", \"OrderedDict([('qualche chiave', 5), ('qualche altra chiave', 7), (('una', 'tupla', 'immutabile', 'come chiave'), 3), (\\\"un'altra chiave\\\", 'adesso una stringa!'), (123, 'hello')])\"]}, \"stdout\": \"\"}]}\n",
       "        </script>\n",
       "        <div id=\"jm2d9abcbb-683b-46d7-b65b-e1180455ef30\" class=\"pytutorVisualizer\"> </div>\n",
       " \n",
       "        <style>\n",
       "        .vizLayoutTd {\n",
       "            background-color: #fff !important;\n",
       "        }\n",
       "\n",
       "        #pyStdout {            \n",
       "            min-height:25px;\n",
       "        }\n",
       "\n",
       "        /* 'Edit this code' link, hiding because replaces browser tab !!!*/\n",
       "        #editCodeLinkDiv {\n",
       "            display:none;  \n",
       "        }\n",
       "        </style>   \n",
       "                            \n",
       "        <script>\n",
       "        (function(){\n",
       "\n",
       "            var trace = JSON.parse(document.getElementById('json-jm2d9abcbb-683b-46d7-b65b-e1180455ef30').innerHTML);                                        \n",
       "            // NOTE 1: id without #\n",
       "            // NOTE 2 - maybe there are more predictable ways, but this will work anyway\n",
       "            //        - id should be number\n",
       "            visualizerIdOverride = Math.trunc(Math.random() * 100000000000)\n",
       "            addVisualizerToPage(trace, 'jm2d9abcbb-683b-46d7-b65b-e1180455ef30',{'embeddedMode' : false,\n",
       "                                             'visualizerIdOverride':visualizerIdOverride})  \n",
       "            \n",
       "            \n",
       "            // set overflow for pytuts - need to do in python as css \n",
       "            // does not allow parent selection\n",
       "            var pytuts = $('.pytutorVisualizer')\n",
       "            pytuts.closest('div.output_html.rendered_html.output_result')\n",
       "                    .css('overflow-x', 'visible')\n",
       "        \n",
       "            //pytuts.closest('div.output_html.rendered_html.output_result')\n",
       "            //      .css('background-color','red')                \n",
       "            \n",
       "        })()\n",
       "        </script>\n",
       "                \n",
       "                "
      ],
      "text/plain": [
       "<IPython.core.display.HTML object>"
      ]
     },
     "execution_count": 40,
     "metadata": {},
     "output_type": "execute_result"
    }
   ],
   "source": [
    "from collections import OrderedDict\n",
    "od = OrderedDict()\n",
    "od['qualche chiave'] = 5\n",
    "od['qualche altra chiave'] = 7\n",
    "od[('una', 'tupla', 'immutabile','come chiave')] = 3\n",
    "od[\"un'altra chiave\"] = 'adesso una stringa!'\n",
    "od[123] = 'hello'\n",
    "\n",
    "jupman.pytut()"
   ]
  },
  {
   "cell_type": "markdown",
   "metadata": {},
   "source": [
    "### Esercizio: agenda OrderedDict\n",
    "\n",
    "Scrivi del codice che date tre tuple come le seguenti, STAMPA un `OrderedDict` che associa nomi a numeri di telefono, nell'ordine in cui sono proposti\n",
    "\n",
    "* Il tuo codice deve funzionare con tuple _qualsiasi_ \n",
    "* Non dimenticarti di importare l'`OrderedDict` dalle `collections`\n",
    "\n",
    "Esempio:\n",
    "\n",
    "```python\n",
    "t1 = ('Alice', '143242903')\n",
    "t2 = ('Bob', '417483437')\n",
    "t3 = ('Carlo', '423413213')\n",
    "```\n",
    "\n",
    "dopo il tuo codice, dovrebbe risultare:\n",
    "\n",
    "```python\n",
    "OrderedDict([('Alice', '143242903'), ('Bob', '417483437'), ('Charles', '423413213')])\n",
    "```\n"
   ]
  },
  {
   "cell_type": "raw",
   "id": "5c249695",
   "metadata": {
    "format": "text/html"
   },
   "source": [
    "<a  class=\"jupman-sol jupman-sol-toggler\" \n",
    " onclick=\"jupman.toggleSolution(this);\" \n",
    " data-jupman-show=\"Mostra soluzione\" data-jupman-hide=\"Nascondi\">Mostra soluzione</a><div class=\"jupman-sol jupman-sol-code\" style=\"display:none\">  "
   ]
  },
  {
   "cell_type": "code",
   "execution_count": 41,
   "metadata": {},
   "outputs": [],
   "source": [
    "t1 = ('Alice', '143242903')\n",
    "t2 = ('Bob', '417483437')\n",
    "t3 = ('Charles', '423413213')\n",
    "\n",
    "# scrivi qui\n",
    "\n",
    "# prima bisogna importare dalle collezioni \n",
    "from collections import OrderedDict\n",
    "\n",
    "od = OrderedDict([t1, t2, t3])\n",
    "#print(od)"
   ]
  },
  {
   "cell_type": "raw",
   "id": "e86d417f",
   "metadata": {
    "format": "text/html"
   },
   "source": [
    "</div>"
   ]
  },
  {
   "cell_type": "code",
   "execution_count": 41,
   "metadata": {},
   "outputs": [],
   "source": [
    "t1 = ('Alice', '143242903')\n",
    "t2 = ('Bob', '417483437')\n",
    "t3 = ('Charles', '423413213')\n",
    "\n",
    "# scrivi qui\n",
    "\n"
   ]
  },
  {
   "cell_type": "markdown",
   "metadata": {},
   "source": [
    "### Esercizio - copia di OrderedDict\n",
    "\n",
    "Dato un `OrderedDict` `od1` contenente traduzioni Inglese -> Italiano, crea un NUOVO `OrderedDict` chiamato `od2` che contiene le stesse traduzioni come input PIU' la traduzione `'water' : 'acqua'`\n",
    "\n",
    "- NOTA 1: il tuo codice dovrebbe funzionare con qualsiasi ordered dict di input\n",
    "- NOTA 2: `od2` DEVE essere associata ad un NUOVO `OrderedDict` !!\n",
    "\n",
    "Esempio - dato:\n",
    "\n",
    "```python\n",
    "od1 = OrderedDict()\n",
    "od1['dog'] = 'cane'\n",
    "od1['home'] = 'casa'\n",
    "od1['table'] = 'tavolo'\n",
    "```\n",
    "\n",
    "dopo il tuo codice, dovresti ottenere:\n",
    "\n",
    "```python\n",
    ">>> print(od1)\n",
    "OrderedDict([('dog', 'cane'), ('home', 'casa'), ('table', 'tavolo')])\n",
    ">>> print(od2)\n",
    "OrderedDict([('dog', 'cane'), ('home', 'casa'), ('table', 'tavolo'), ('water', 'acqua')])\n",
    "```"
   ]
  },
  {
   "cell_type": "raw",
   "id": "66fe8303",
   "metadata": {
    "format": "text/html"
   },
   "source": [
    "<a  class=\"jupman-sol jupman-sol-toggler\" \n",
    " onclick=\"jupman.toggleSolution(this);\" \n",
    " data-jupman-show=\"Mostra soluzione\" data-jupman-hide=\"Nascondi\">Mostra soluzione</a><div class=\"jupman-sol jupman-sol-code\" style=\"display:none\">  "
   ]
  },
  {
   "cell_type": "code",
   "execution_count": 42,
   "metadata": {},
   "outputs": [
    {
     "name": "stdout",
     "output_type": "stream",
     "text": [
      "od1= OrderedDict([('dog', 'cane'), ('home', 'casa'), ('table', 'tavolo')])\n",
      "od2= OrderedDict([('dog', 'cane'), ('home', 'casa'), ('table', 'tavolo'), ('water', 'acqua')])\n"
     ]
    }
   ],
   "source": [
    "from collections import OrderedDict\n",
    "\n",
    "od1 = OrderedDict()\n",
    "od1['dog'] = 'cane'\n",
    "od1['home'] = 'casa'\n",
    "od1['table'] = 'tavolo'\n",
    "\n",
    "# scrivi qui\n",
    "od2 = OrderedDict(od1)\n",
    "od2['water'] = 'acqua'\n",
    "\n",
    "print(\"od1=\", od1)\n",
    "print(\"od2=\", od2)"
   ]
  },
  {
   "cell_type": "raw",
   "id": "14ed9d8b",
   "metadata": {
    "format": "text/html"
   },
   "source": [
    "</div>"
   ]
  },
  {
   "cell_type": "code",
   "execution_count": 42,
   "metadata": {},
   "outputs": [
    {
     "name": "stdout",
     "output_type": "stream",
     "text": [
      "od1= OrderedDict([('dog', 'cane'), ('home', 'casa'), ('table', 'tavolo')])\n",
      "od2= OrderedDict([('dog', 'cane'), ('home', 'casa'), ('table', 'tavolo'), ('water', 'acqua')])\n"
     ]
    }
   ],
   "source": [
    "from collections import OrderedDict\n",
    "\n",
    "od1 = OrderedDict()\n",
    "od1['dog'] = 'cane'\n",
    "od1['home'] = 'casa'\n",
    "od1['table'] = 'tavolo'\n",
    "\n",
    "# scrivi qui\n",
    "\n"
   ]
  },
  {
   "cell_type": "markdown",
   "metadata": {},
   "source": [
    "## Classi - Counter\n",
    "\n",
    "Se abbiamo bisogno di contare quanti elementi diversi si trovano in una sequenza (in altre parole, se dobbiamo calcolare un istogramma delle frequenze), la classe `Counter` ci può tornare molto utile. `Counter` è un tipo di dizionario speciale. Prima di tutto, dobbiamo dichiarare a Python la nostra intenzione di usarlo, recuperandolo dal modulo `collections`:"
   ]
  },
  {
   "cell_type": "code",
   "execution_count": 43,
   "metadata": {},
   "outputs": [],
   "source": [
    "from collections import Counter"
   ]
  },
  {
   "cell_type": "markdown",
   "metadata": {},
   "source": [
    "Supponiamo di voler contare quanti elementi diversi ci sono nella lista \n",
    "\n",
    "```python\n",
    "['c', 'a', 'n', 't', 'a', 'r', 'e', 'l', 'l', 'a', 'n', 'd', 'o']\n",
    "```\n",
    "\n",
    "Possiamo inizializzare `Counter` così:"
   ]
  },
  {
   "cell_type": "code",
   "execution_count": 44,
   "metadata": {},
   "outputs": [],
   "source": [
    "istogramma = Counter(['c', 'a', 'n', 't', 'a', 'r', 'e', 'l', 'l', 'a', 'n', 'd', 'o'])     "
   ]
  },
  {
   "cell_type": "markdown",
   "metadata": {},
   "source": [
    "Se lo stampiamo, vediamo che per primi sono messi gli elementi più frequenti:"
   ]
  },
  {
   "cell_type": "code",
   "execution_count": 45,
   "metadata": {},
   "outputs": [
    {
     "name": "stdout",
     "output_type": "stream",
     "text": [
      "Counter({'a': 3, 'n': 2, 'l': 2, 'c': 1, 't': 1, 'r': 1, 'e': 1, 'd': 1, 'o': 1})\n"
     ]
    }
   ],
   "source": [
    "print(istogramma)"
   ]
  },
  {
   "cell_type": "markdown",
   "metadata": {},
   "source": [
    "<div class=\"alert alert-warning\">\n",
    "\n",
    "**ATTENZIONE: SE NON SI USA LA** `print` **JUPYTER STAMPERA' IN ORDINE ALFABETICO!**\n",
    "</div>"
   ]
  },
  {
   "cell_type": "code",
   "execution_count": 46,
   "metadata": {},
   "outputs": [
    {
     "data": {
      "text/plain": [
       "Counter({'c': 1,\n",
       "         'a': 3,\n",
       "         'n': 2,\n",
       "         't': 1,\n",
       "         'r': 1,\n",
       "         'e': 1,\n",
       "         'l': 2,\n",
       "         'd': 1,\n",
       "         'o': 1})"
      ]
     },
     "execution_count": 46,
     "metadata": {},
     "output_type": "execute_result"
    }
   ],
   "source": [
    "istogramma    # occhio !"
   ]
  },
  {
   "cell_type": "markdown",
   "metadata": {},
   "source": [
    "Possiamo ottenere una lista con gli `n` più frequenti col metodo `most_common`, che ritorna una lista di tuple:"
   ]
  },
  {
   "cell_type": "code",
   "execution_count": 47,
   "metadata": {},
   "outputs": [
    {
     "data": {
      "text/plain": [
       "[('a', 3), ('n', 2), ('l', 2), ('c', 1), ('t', 1)]"
      ]
     },
     "execution_count": 47,
     "metadata": {},
     "output_type": "execute_result"
    }
   ],
   "source": [
    "istogramma.most_common(5)"
   ]
  },
  {
   "cell_type": "markdown",
   "metadata": {},
   "source": [
    "`Counter` si può inizializzare con una sequenza qualsiasi, per esempio con tuple:"
   ]
  },
  {
   "cell_type": "code",
   "execution_count": 48,
   "metadata": {},
   "outputs": [
    {
     "name": "stdout",
     "output_type": "stream",
     "text": [
      "Counter({50: 8, 40: 4, 70: 3, 60: 3, 30: 2})\n"
     ]
    }
   ],
   "source": [
    "ct = Counter((50,70,40,60,40,50,40,70,50,50,50,60,50,30,50,30,40,50,60,70))\n",
    "print(ct)"
   ]
  },
  {
   "cell_type": "markdown",
   "metadata": {},
   "source": [
    "o stringhe:"
   ]
  },
  {
   "cell_type": "code",
   "execution_count": 49,
   "metadata": {},
   "outputs": [],
   "source": [
    "cs = Counter('rabbrividirai')"
   ]
  },
  {
   "cell_type": "code",
   "execution_count": 50,
   "metadata": {},
   "outputs": [
    {
     "name": "stdout",
     "output_type": "stream",
     "text": [
      "Counter({'i': 4, 'r': 3, 'a': 2, 'b': 2, 'v': 1, 'd': 1})\n"
     ]
    }
   ],
   "source": [
    "print(cs)"
   ]
  },
  {
   "cell_type": "markdown",
   "metadata": {},
   "source": [
    "Vi sono altri metodi che si possono usare, ma per quelli facciamo riferimento alla [documentazione di Python](https://docs.python.org/3/library/collections.html#collections.Counter) "
   ]
  },
  {
   "cell_type": "markdown",
   "metadata": {},
   "source": [
    "### Esercizio - frequenti\n",
    "\n",
    "\n",
    "Dato una stringa `s`, scrivi del codice che stampa \n",
    "\n",
    "- il carattere più frequente\n",
    "- quello meno frequente\n",
    "- quante e quali frequenze diverse vi sono\n",
    "\n",
    "\n",
    "- Il tuo codice deve funzionare con _qualsiasi_ stringa `s`\n",
    "- Ignora la possibilità che vi siano pari merito tra i più/meno frequenti\n",
    "- ricordati di importare `Counter` da `collections`\n",
    "\n",
    "Esempio - data:\n",
    "\n",
    "```python\n",
    "s = 'rattristato'\n",
    "```\n",
    "\n",
    "il tuo codice deve stampare:\n",
    "\n",
    "```\n",
    "Tra i più frequenti troviamo ('t', 4)\n",
    "Tra i meno frequenti troviamo ('i', 1)\n",
    "Vi sono  3 frequenze diverse: {1, 2, 4}\n",
    "```"
   ]
  },
  {
   "cell_type": "raw",
   "id": "e596b09f",
   "metadata": {
    "format": "text/html"
   },
   "source": [
    "<a  class=\"jupman-sol jupman-sol-toggler\" \n",
    " onclick=\"jupman.toggleSolution(this);\" \n",
    " data-jupman-show=\"Mostra soluzione\" data-jupman-hide=\"Nascondi\">Mostra soluzione</a><div class=\"jupman-sol jupman-sol-code\" style=\"display:none\">  "
   ]
  },
  {
   "cell_type": "code",
   "execution_count": 51,
   "metadata": {},
   "outputs": [],
   "source": [
    "\n",
    "s = 'rattristato'\n",
    "\n",
    "# scrivi qui\n",
    "from collections import Counter\n",
    "\n",
    "c = Counter(s)\n",
    "\n",
    "#print(\"Tra i più frequenti troviamo\", c.most_common()[0])\n",
    "#print(\"Tra i meno frequenti troviamo\", c.most_common()[-1])\n",
    "#print(\"Vi sono \", len(set(c.values())), \"frequenze diverse:\", set(c.values()))"
   ]
  },
  {
   "cell_type": "raw",
   "id": "2cb27bce",
   "metadata": {
    "format": "text/html"
   },
   "source": [
    "</div>"
   ]
  },
  {
   "cell_type": "code",
   "execution_count": 51,
   "metadata": {},
   "outputs": [],
   "source": [
    "\n",
    "s = 'rattristato'\n",
    "\n",
    "# scrivi qui\n",
    "\n"
   ]
  },
  {
   "cell_type": "markdown",
   "metadata": {},
   "source": [
    "\n",
    "## Prosegui\n",
    "\n",
    "Prosegui con [Dizionari 4](https://it.softpython.org/dictionaries/dictionaries4-sol.html)"
   ]
  },
  {
   "cell_type": "code",
   "execution_count": null,
   "metadata": {},
   "outputs": [],
   "source": []
  }
 ],
 "metadata": {
  "celltoolbar": "Edit Metadata",
  "kernelspec": {
   "display_name": "Python 3",
   "language": "python",
   "name": "python3"
  },
  "language_info": {
   "codemirror_mode": {
    "name": "ipython",
    "version": 3
   },
   "file_extension": ".py",
   "mimetype": "text/x-python",
   "name": "python",
   "nbconvert_exporter": "python",
   "pygments_lexer": "ipython3",
   "version": "3.7.10"
  },
  "toc": {
   "base_numbering": 1,
   "nav_menu": {},
   "number_sections": false,
   "sideBar": true,
   "skip_h1_title": false,
   "title_cell": "Table of Contents",
   "title_sidebar": "Contents",
   "toc_cell": false,
   "toc_position": {
    "height": "calc(100% - 180px)",
    "left": "10px",
    "top": "150px",
    "width": "342px"
   },
   "toc_section_display": true,
   "toc_window_display": true
  }
 },
 "nbformat": 4,
 "nbformat_minor": 2
}

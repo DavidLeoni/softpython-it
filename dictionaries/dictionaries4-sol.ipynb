{
 "cells": [
  {
   "cell_type": "markdown",
   "metadata": {},
   "source": [
    "# Dizionari - iterazione e funzioni\n",
    "\n",
    "## [Scarica zip esercizi](../_static/generated/dictionaries.zip)\n",
    "\n",
    "[Naviga file online](https://github.com/DavidLeoni/softpython-it/tree/master/dictionaries)\n",
    "\n",
    "In questo foglio troviamo esercizi su iterazione in dizionari, e come usarli quando sono argomento di funzioni.\n",
    "\n",
    "<div class=\"alert alert-warning\">\n",
    "\n",
    "**ATTENZIONE: Gli esercizi seguenti richiedono di conoscere:**\n",
    "\n",
    "<ul>\n",
    "   <li>[Dizionari 1](https://it.softpython.org/dictionaries/dictionaries1-sol.html), [Dizionari 2](https://it.softpython.org/dictionaries/dictionaries2-sol.html) e [Dizionari  3](https://it.softpython.org/dictionaries/dictionaries3-sol.html)</li>\n",
    "   <li>[Controllo di flusso](https://it.softpython.org/control-flow/control-flow-sol.html)</li>\n",
    "   <li>[Funzioni](https://it.softpython.org/functions/functions-sol.html)</li>\n",
    "</ul>\n",
    "<br/>\n",
    "Se sei alle prime armi con la programmazione, ti conviene saltarli e ripassare in seguito\n",
    "</div>"
   ]
  },
  {
   "cell_type": "markdown",
   "metadata": {},
   "source": [
    "### Che fare\n",
    "\n",
    "- scompatta lo zip in una cartella, dovresti ottenere qualcosa del genere: \n",
    "\n",
    "```\n",
    "\n",
    "dictionaries \n",
    "    dictionaries1.ipynb\n",
    "    dictionaries1-sol.ipynb\n",
    "    dictionaries2.ipynb\n",
    "    dictionaries2-sol.ipynb\n",
    "    dictionaries3.ipynb\n",
    "    dictionaries3-sol.ipynb\n",
    "    dictionaries4.ipynb\n",
    "    dictionaries4-sol.ipynb\n",
    "    dictionaries5.ipynb\n",
    "    dictionaries5-sol.ipynb        \n",
    "    jupman.py\n",
    "    \n",
    "```\n",
    "\n",
    "<div class=\"alert alert-warning\">\n",
    "\n",
    "**ATTENZIONE**: Per essere visualizzato correttamente, il file del notebook DEVE essere nella cartella szippata.\n",
    "</div>\n",
    "\n",
    "- apri il Jupyter Notebook da quella cartella. Due cose dovrebbero aprirsi, prima una console e poi un browser. Il browser dovrebbe mostrare una lista di file: naviga la lista e apri il notebook `dictionaries4.ipynb`\n",
    "- Prosegui leggendo il file degli esercizi, ogni tanto al suo interno troverai delle scritte **ESERCIZIO**, che ti chiederanno di scrivere dei comandi Python nelle celle successive. Gli esercizi sono graduati per difficoltà, da una stellina ✪ a quattro ✪✪✪✪\n",
    "\n",
    "\n",
    "Scorciatoie da tastiera:\n",
    "\n",
    "* Per eseguire il codice Python dentro una cella di Jupyter, premi `Control+Invio`\n",
    "* Per eseguire il codice Python dentro una cella di Jupyter E selezionare la cella seguente, premi `Shift+Invio`\n",
    "* Per eseguire il codice Python dentro una cella di Jupyter E creare una nuova cella subito dopo, premi `Alt+Invio`\n",
    "* Se per caso il Notebook sembra inchiodato, prova a selezionare `Kernel -> Restart`\n",
    "\n"
   ]
  },
  {
   "cell_type": "markdown",
   "metadata": {},
   "source": [
    "\n",
    "## Esercizi con le funzioni\n"
   ]
  },
  {
   "cell_type": "markdown",
   "metadata": {},
   "source": [
    "### stampa_val\n",
    "\n",
    "✪ Scrivi la funzione `stampa_val(d,chiave)` che RITORNA il valore associato a `chiave`\n",
    "\n",
    "```python\n",
    ">>> x = stampa_val({'a':5,'b':2}, 'a')\n",
    ">>> x\n",
    "5\n",
    ">>> y = stampa_val({'a':5,'b':2}, 'b')\n",
    ">>> y\n",
    "2\n",
    "```"
   ]
  },
  {
   "cell_type": "raw",
   "id": "178e16c5",
   "metadata": {
    "format": "text/html"
   },
   "source": [
    "<a  class=\"jupman-sol jupman-sol-toggler\" \n",
    " onclick=\"jupman.toggleSolution(this);\" \n",
    " data-jupman-show=\"Mostra soluzione\" data-jupman-hide=\"Nascondi\">Mostra soluzione</a><div class=\"jupman-sol jupman-sol-code\" style=\"display:none\">  "
   ]
  },
  {
   "cell_type": "code",
   "execution_count": 1,
   "metadata": {},
   "outputs": [],
   "source": [
    "# scrivi qui\n",
    "\n",
    "def stampa_val(d, key):\n",
    "    return d[key]\n",
    "\n",
    "#x = stampa_val({'a':5,'b':2}, 'a')\n",
    "#x"
   ]
  },
  {
   "cell_type": "raw",
   "id": "43dc5e52",
   "metadata": {
    "format": "text/html"
   },
   "source": [
    "</div>"
   ]
  },
  {
   "cell_type": "code",
   "execution_count": 1,
   "metadata": {},
   "outputs": [],
   "source": [
    "# scrivi qui\n",
    "\n"
   ]
  },
  {
   "cell_type": "markdown",
   "metadata": {},
   "source": [
    "### ha_chiave\n",
    "\n",
    "Scrivi la funzione `ha_chiave(d,chiave)` che STAMPA `\"trovate\"` se `diz` contiene la chiave `chiave`, altrimenti STAMPA `\"non trovato\"`.\n",
    "\n",
    "```python\n",
    ">>> ha_chiave({'a':5,'b':2}, 'a')\n",
    "trovato\n",
    ">>> ha_chiave({'a':5,'b':2}, 'z')\n",
    "non trovato\n",
    "```\n"
   ]
  },
  {
   "cell_type": "raw",
   "id": "f547b3ca",
   "metadata": {
    "format": "text/html"
   },
   "source": [
    "<a  class=\"jupman-sol jupman-sol-toggler\" \n",
    " onclick=\"jupman.toggleSolution(this);\" \n",
    " data-jupman-show=\"Mostra soluzione\" data-jupman-hide=\"Nascondi\">Mostra soluzione</a><div class=\"jupman-sol jupman-sol-code\" style=\"display:none\">  "
   ]
  },
  {
   "cell_type": "code",
   "execution_count": 2,
   "metadata": {},
   "outputs": [],
   "source": [
    "# scrivi qui\n",
    "\n",
    "def ha_chiave(d, chiave):  \n",
    "    if chiave in d:\n",
    "        print(\"trovato\")\n",
    "    else:\n",
    "        print(\"non trovato\")\n",
    "  \n",
    "  \n",
    "#ha_chiave({'a':5,'b':2}, 'a')\n",
    "#ha_chiave({'a':5,'b':2}, 'b')\n",
    "#ha_chiave({'a':5,'b':2}, 'z')\n"
   ]
  },
  {
   "cell_type": "raw",
   "id": "3624835b",
   "metadata": {
    "format": "text/html"
   },
   "source": [
    "</div>"
   ]
  },
  {
   "cell_type": "code",
   "execution_count": 2,
   "metadata": {},
   "outputs": [],
   "source": [
    "# scrivi qui\n",
    "\n"
   ]
  },
  {
   "cell_type": "markdown",
   "metadata": {},
   "source": [
    "### dim\n",
    "\n",
    "✪ Scrivi la funzione `dim(d)` che RITORNA le associazioni chiave valore presenti nel dizionario\n",
    "\n",
    "```python\n",
    ">>> x = dim({'a':5,'b':2,'c':9})\n",
    ">>> x\n",
    "3\n",
    "```"
   ]
  },
  {
   "cell_type": "raw",
   "id": "f13e4f5f",
   "metadata": {
    "format": "text/html"
   },
   "source": [
    "<a  class=\"jupman-sol jupman-sol-toggler\" \n",
    " onclick=\"jupman.toggleSolution(this);\" \n",
    " data-jupman-show=\"Mostra soluzione\" data-jupman-hide=\"Nascondi\">Mostra soluzione</a><div class=\"jupman-sol jupman-sol-code\" style=\"display:none\">  "
   ]
  },
  {
   "cell_type": "code",
   "execution_count": 3,
   "metadata": {},
   "outputs": [],
   "source": [
    "# scrivi qui\n",
    "\n",
    "def dim(d):\n",
    "    return len(d)\n",
    "\n",
    "#x = dim({'a':5,'b':2,'c':9})\n",
    "#x"
   ]
  },
  {
   "cell_type": "raw",
   "id": "bcd2f393",
   "metadata": {
    "format": "text/html"
   },
   "source": [
    "</div>"
   ]
  },
  {
   "cell_type": "code",
   "execution_count": 3,
   "metadata": {},
   "outputs": [],
   "source": [
    "# scrivi qui\n",
    "\n"
   ]
  },
  {
   "cell_type": "markdown",
   "metadata": {},
   "source": [
    "### mazzol\n",
    "\n",
    "✪  Dato un dizionario, scrivi una funzione `mazzol` che RITORNA una LISTA ORDINATA con tutte le chiavi, una alla volta. \n",
    "\n",
    "**NOTA**: l'ordine delle chiavi in questa lista E' importante !\n",
    "\n",
    "```python\n",
    ">>> x = mazzol({'a':5,'c':2,'b':9})\n",
    ">>> x\n",
    "['a','b','c']\n",
    "```"
   ]
  },
  {
   "cell_type": "raw",
   "id": "32fadcae",
   "metadata": {
    "format": "text/html"
   },
   "source": [
    "<a  class=\"jupman-sol jupman-sol-toggler\" \n",
    " onclick=\"jupman.toggleSolution(this);\" \n",
    " data-jupman-show=\"Mostra soluzione\" data-jupman-hide=\"Nascondi\">Mostra soluzione</a><div class=\"jupman-sol jupman-sol-code\" style=\"display:none\">  "
   ]
  },
  {
   "cell_type": "code",
   "execution_count": 4,
   "metadata": {},
   "outputs": [],
   "source": [
    "\n",
    "# scrivi qui\n",
    "\n",
    "def mazzol(d):  \n",
    "    la = list(d.keys())\n",
    "    la.sort()  # RICORDA: .sort() NON ritorna nulla !\n",
    "    return la\n",
    "\n",
    "\n",
    "#x = mazzol({'a':5,'c':2,'b':9})\n",
    "#x"
   ]
  },
  {
   "cell_type": "raw",
   "id": "fdf10843",
   "metadata": {
    "format": "text/html"
   },
   "source": [
    "</div>"
   ]
  },
  {
   "cell_type": "code",
   "execution_count": 4,
   "metadata": {},
   "outputs": [],
   "source": [
    "\n",
    "# scrivi qui\n",
    "\n"
   ]
  },
  {
   "cell_type": "markdown",
   "metadata": {},
   "source": [
    "### coppie\n",
    "\n",
    "✪ Dato un dizionario, scrivi una funzione `coppie` che STAMPA tutte le coppie chiave/valore, una per riga\n",
    "\n",
    "**NOTA**: l'ordine di stampa *NON* è importante, è sufficiente stampare tutte le coppie !\n",
    "\n",
    "```python\n",
    ">>> coppie({'a':5,'b':2,'c':9})\n",
    "a 5\n",
    "c 9\n",
    "b 2\n",
    "```"
   ]
  },
  {
   "cell_type": "raw",
   "id": "cef36da3",
   "metadata": {
    "format": "text/html"
   },
   "source": [
    "<a  class=\"jupman-sol jupman-sol-toggler\" \n",
    " onclick=\"jupman.toggleSolution(this);\" \n",
    " data-jupman-show=\"Mostra soluzione\" data-jupman-hide=\"Nascondi\">Mostra soluzione</a><div class=\"jupman-sol jupman-sol-code\" style=\"display:none\">  "
   ]
  },
  {
   "cell_type": "code",
   "execution_count": 5,
   "metadata": {},
   "outputs": [],
   "source": [
    "# scrivi qui\n",
    "\n",
    "def coppie(d):\n",
    "    for chiave in d:\n",
    "        print(chiave,d[chiave])\n",
    "    \n",
    "#coppie({'a':5,'b':2,'c':9})"
   ]
  },
  {
   "cell_type": "raw",
   "id": "8b8c980b",
   "metadata": {
    "format": "text/html"
   },
   "source": [
    "</div>"
   ]
  },
  {
   "cell_type": "code",
   "execution_count": 5,
   "metadata": {},
   "outputs": [],
   "source": [
    "# scrivi qui\n",
    "\n"
   ]
  },
  {
   "cell_type": "markdown",
   "metadata": {},
   "source": [
    "## Verifica comprensione\n",
    "<div class=\"alert alert-warning\">\n",
    "\n",
    "**ATTENZIONE**\n",
    "\n",
    "Gli esercizi che segueno contengono dei test con gli _assert_. Per capire come svolgerli, leggi prima [Gestione errori e testing](https://it.softpython.org/errors-and-testing/errors-and-testing-sol.html) \n",
    "\n",
    "</div>\n",
    "\n"
   ]
  },
  {
   "cell_type": "markdown",
   "metadata": {},
   "source": [
    "### istogramma\n",
    "\n",
    "✪✪ RITORNA un NUOVO dizionario. contenente una chiave per ogni carattere di stringa.\n",
    "A ciascuna chiave sarà associato come valore il numero di occorrenze del relativo carattere in stringa\n",
    "\n",
    "Ingredienti: \n",
    "\n",
    "- variabile dizionario da ritornare\n",
    "- ciclo for (dobbiamo iterare su stringa)\n",
    "- **NON** usare `Counter`\n",
    "        "
   ]
  },
  {
   "cell_type": "raw",
   "id": "19dc24b7",
   "metadata": {
    "format": "text/html"
   },
   "source": [
    "<a  class=\"jupman-sol jupman-sol-toggler\" \n",
    " onclick=\"jupman.toggleSolution(this);\" \n",
    " data-jupman-show=\"Mostra soluzione\" data-jupman-hide=\"Nascondi\">Mostra soluzione</a><div class=\"jupman-sol jupman-sol-code\" style=\"display:none\">  "
   ]
  },
  {
   "cell_type": "code",
   "execution_count": 6,
   "metadata": {},
   "outputs": [],
   "source": [
    "def istogramma(stringa):\n",
    "    \n",
    "    \n",
    "    diz = {}\n",
    "    for carattere in stringa:\n",
    "        if carattere in diz:\n",
    "            diz[carattere] += 1\n",
    "        else:\n",
    "            diz[carattere] = 1\n",
    "    return diz\n",
    "    \n",
    "\n",
    "# INIZIO TEST: NON TOCCARE QUESTA PARTE !\n",
    "# se hai scritto tutto il codice giusto, ed esegui la cella, Python non dovrebbe lanciare AssertionError\n",
    "assert istogramma(\"\") == {}\n",
    "assert istogramma(\"a\") == {'a':1}\n",
    "assert istogramma(\"aa\") == {'a':2}\n",
    "assert istogramma(\"aaa\") == {'a':3}\n",
    "assert istogramma(\"ba\") == {'a':1,\n",
    "                            'b':1}\n",
    "assert istogramma(\"aba\") == {'a':2,\n",
    "                             'b':1}\n",
    "assert istogramma(\"abc\") == {'a':1,\n",
    "                             'b':1,\n",
    "                             'c':1}\n",
    "assert istogramma(\"acccbb\") == {'a':1,\n",
    "                                'b':2,\n",
    "                                'c':3}\n"
   ]
  },
  {
   "cell_type": "raw",
   "id": "f21cb9f2",
   "metadata": {
    "format": "text/html"
   },
   "source": [
    "</div>"
   ]
  },
  {
   "cell_type": "code",
   "execution_count": 6,
   "metadata": {},
   "outputs": [],
   "source": [
    "def istogramma(stringa):\n",
    "    \n",
    "    raise Exception('TODO IMPLEMENT ME !')\n",
    "\n",
    "# INIZIO TEST: NON TOCCARE QUESTA PARTE !\n",
    "# se hai scritto tutto il codice giusto, ed esegui la cella, Python non dovrebbe lanciare AssertionError\n",
    "assert istogramma(\"\") == {}\n",
    "assert istogramma(\"a\") == {'a':1}\n",
    "assert istogramma(\"aa\") == {'a':2}\n",
    "assert istogramma(\"aaa\") == {'a':3}\n",
    "assert istogramma(\"ba\") == {'a':1,\n",
    "                            'b':1}\n",
    "assert istogramma(\"aba\") == {'a':2,\n",
    "                             'b':1}\n",
    "assert istogramma(\"abc\") == {'a':1,\n",
    "                             'b':1,\n",
    "                             'c':1}\n",
    "assert istogramma(\"acccbb\") == {'a':1,\n",
    "                                'b':2,\n",
    "                                'c':3}\n"
   ]
  },
  {
   "cell_type": "markdown",
   "metadata": {},
   "source": [
    "### listifica\n",
    "\n",
    "✪✪ Prende un dizionario `d` come input e RITORNA una LISTA con soli i valori dal dizionario (quindi nessuna chiave)\n",
    "\n",
    "Per avere un ordine prevedibile, la funzione prende anche come input una lista `ordine`  dove vi sono chiavi dal primo dizionario ordinate come le vorremmo vedere nella lista risultante"
   ]
  },
  {
   "cell_type": "raw",
   "id": "70acf142",
   "metadata": {
    "format": "text/html"
   },
   "source": [
    "<a  class=\"jupman-sol jupman-sol-toggler\" \n",
    " onclick=\"jupman.toggleSolution(this);\" \n",
    " data-jupman-show=\"Mostra soluzione\" data-jupman-hide=\"Nascondi\">Mostra soluzione</a><div class=\"jupman-sol jupman-sol-code\" style=\"display:none\">  "
   ]
  },
  {
   "cell_type": "code",
   "execution_count": 7,
   "metadata": {},
   "outputs": [],
   "source": [
    "def listifica(d, ordine):\n",
    "    \n",
    "    ret = list()\n",
    "    for elemento in ordine:\n",
    "        ret.append (d[elemento])\n",
    "    return ret\n",
    "    \n",
    "\n",
    "# INIZIO TEST: NON TOCCARE QUESTA PARTE !\n",
    "# se hai scritto tutto il codice giusto, ed esegui la cella, python non dovrebbe lanciare AssertionError\n",
    "assert listifica({}, []) == []\n",
    "assert listifica({'ciao':123}, ['ciao']) == [123]\n",
    "assert listifica({'a':'x','b':'y'}, ['a','b']) == ['x','y']\n",
    "assert listifica({'a':'x','b':'y'}, ['b','a']) == ['y','x']\n",
    "assert listifica({'a':'x','b':'y','c':'x'}, ['c','a','b']) == ['x','x','y']\n",
    "assert listifica({'a':'x','b':'y','c':'x'}, ['b','c','a']) == ['y','x','x']\n",
    "assert listifica({'a':5,'b':2,'c':9}, ['b','c','a']) == [2,9,5]\n",
    "assert listifica({6:'x',8:'y',3:'x'}, [6,3,8]) == ['x','x','y']\n",
    "# FINE TEST"
   ]
  },
  {
   "cell_type": "raw",
   "id": "06904c10",
   "metadata": {
    "format": "text/html"
   },
   "source": [
    "</div>"
   ]
  },
  {
   "cell_type": "code",
   "execution_count": 7,
   "metadata": {},
   "outputs": [],
   "source": [
    "def listifica(d, ordine):\n",
    "    raise Exception('TODO IMPLEMENT ME !')\n",
    "\n",
    "# INIZIO TEST: NON TOCCARE QUESTA PARTE !\n",
    "# se hai scritto tutto il codice giusto, ed esegui la cella, python non dovrebbe lanciare AssertionError\n",
    "assert listifica({}, []) == []\n",
    "assert listifica({'ciao':123}, ['ciao']) == [123]\n",
    "assert listifica({'a':'x','b':'y'}, ['a','b']) == ['x','y']\n",
    "assert listifica({'a':'x','b':'y'}, ['b','a']) == ['y','x']\n",
    "assert listifica({'a':'x','b':'y','c':'x'}, ['c','a','b']) == ['x','x','y']\n",
    "assert listifica({'a':'x','b':'y','c':'x'}, ['b','c','a']) == ['y','x','x']\n",
    "assert listifica({'a':5,'b':2,'c':9}, ['b','c','a']) == [2,9,5]\n",
    "assert listifica({6:'x',8:'y',3:'x'}, [6,3,8]) == ['x','x','y']\n",
    "# FINE TEST"
   ]
  },
  {
   "cell_type": "markdown",
   "metadata": {},
   "source": [
    "### tcont\n",
    "\n",
    "✪✪ Prende una lista di tuple. Ogni tupla ha due valori, il primo è un oggetto immutabile e il secondo un numero intero (il conteggio dell'oggetto). RITORNA un dizionario che per ogni oggetto immutabile trovato nelle tuple, associa il conteggio totale trovato.\n",
    "\n",
    "Per esempi vedere gli assert"
   ]
  },
  {
   "cell_type": "raw",
   "id": "228ff903",
   "metadata": {
    "format": "text/html"
   },
   "source": [
    "<a  class=\"jupman-sol jupman-sol-toggler\" \n",
    " onclick=\"jupman.toggleSolution(this);\" \n",
    " data-jupman-show=\"Mostra soluzione\" data-jupman-hide=\"Nascondi\">Mostra soluzione</a><div class=\"jupman-sol jupman-sol-code\" style=\"display:none\">  "
   ]
  },
  {
   "cell_type": "code",
   "execution_count": 8,
   "metadata": {},
   "outputs": [],
   "source": [
    "def tcont(lst):\n",
    "    \n",
    "    ret = {}\n",
    "    for c in lst:\n",
    "        if c[0] in ret:\n",
    "            ret[c[0]] += c[1]\n",
    "        else:\n",
    "            ret[c[0]] = c[1]\n",
    "    return ret\n",
    "    \n",
    "\n",
    "# INIZIO TEST: NON TOCCARE QUESTA PARTE !\n",
    "# se hai scritto tutto il codice giusto, ed esegui la cella, Python non dovrebbe lanciare AssertionError\n",
    "assert tcont([]) == {}\n",
    "assert tcont([('a',3)]) == {'a':3}\n",
    "assert tcont([('a',3),('a',4)]) == {'a':7}\n",
    "assert tcont([('a',3),('b',8), ('a',4)]) == {'a':7, 'b':8}\n",
    "assert tcont([('a',5), ('c',8), ('b',7), ('a',2), ('a',1), ('c',4)]) == {'a':5+2+1, 'b':7, 'c': 8 + 4}\n",
    "# FINE TEST"
   ]
  },
  {
   "cell_type": "raw",
   "id": "3798a492",
   "metadata": {
    "format": "text/html"
   },
   "source": [
    "</div>"
   ]
  },
  {
   "cell_type": "code",
   "execution_count": 8,
   "metadata": {},
   "outputs": [],
   "source": [
    "def tcont(lst):\n",
    "    raise Exception('TODO IMPLEMENT ME !')\n",
    "\n",
    "# INIZIO TEST: NON TOCCARE QUESTA PARTE !\n",
    "# se hai scritto tutto il codice giusto, ed esegui la cella, Python non dovrebbe lanciare AssertionError\n",
    "assert tcont([]) == {}\n",
    "assert tcont([('a',3)]) == {'a':3}\n",
    "assert tcont([('a',3),('a',4)]) == {'a':7}\n",
    "assert tcont([('a',3),('b',8), ('a',4)]) == {'a':7, 'b':8}\n",
    "assert tcont([('a',5), ('c',8), ('b',7), ('a',2), ('a',1), ('c',4)]) == {'a':5+2+1, 'b':7, 'c': 8 + 4}\n",
    "# FINE TEST"
   ]
  },
  {
   "cell_type": "markdown",
   "metadata": {},
   "source": [
    "✪✪ Scrivi una funzione `inter(d1,d2)` che prende due dizionari e RITORNA un SET di chiavi per le quali la coppia è la stessa in entrambi i dizionari\n",
    " \n",
    "Esempio:\n",
    "\n",
    "```python\n",
    ">>> a = {'chiave1': 1, 'chiave2': 2 , 'chiave3': 3}\n",
    ">>> b = {'chiave1': 1 ,'chiave2': 3 , 'chiave3': 3}\n",
    ">>> inter(a,b)\n",
    "{'chiave1','chiave3'}\n",
    "```"
   ]
  },
  {
   "cell_type": "raw",
   "id": "a2e96457",
   "metadata": {
    "format": "text/html"
   },
   "source": [
    "<a  class=\"jupman-sol jupman-sol-toggler\" \n",
    " onclick=\"jupman.toggleSolution(this);\" \n",
    " data-jupman-show=\"Mostra soluzione\" data-jupman-hide=\"Nascondi\">Mostra soluzione</a><div class=\"jupman-sol jupman-sol-code\" style=\"display:none\">  "
   ]
  },
  {
   "cell_type": "code",
   "execution_count": 9,
   "metadata": {},
   "outputs": [],
   "source": [
    "\n",
    "def inter(d1, d2):\n",
    "    \n",
    "    res = set()\n",
    "    for chiave in d1:\n",
    "        if chiave in d2:\n",
    "            if d1[chiave] == d2[chiave]:\n",
    "                 res.add(chiave)\n",
    "    return res\n",
    "    \n",
    "\n",
    "\n",
    "# INIZIO TEST: NON TOCCARE QUESTA PARTE !\n",
    "# se hai scritto tutto il codice giusto, ed esegui la cella, Python non dovrebbe lanciare AssertionError\n",
    "assert inter({'key1': 1, 'key2': 2 , 'key3': 3}, {'key1':1 ,'key2':3 , 'key3':3}) == {'key1', 'key3'}\n",
    "assert inter(dict(), {'key1':1 ,'key2':3 , 'key3':3}) == set()\n",
    "assert inter({'key1':1 ,'key2':3 , 'key3':3}, dict()) == set()\n",
    "assert inter(dict(),dict()) == set()\n",
    "# FINE TEST\n"
   ]
  },
  {
   "cell_type": "raw",
   "id": "e2fd256b",
   "metadata": {
    "format": "text/html"
   },
   "source": [
    "</div>"
   ]
  },
  {
   "cell_type": "code",
   "execution_count": 9,
   "metadata": {},
   "outputs": [],
   "source": [
    "\n",
    "def inter(d1, d2):\n",
    "    raise Exception('TODO IMPLEMENT ME !')\n",
    "\n",
    "\n",
    "# INIZIO TEST: NON TOCCARE QUESTA PARTE !\n",
    "# se hai scritto tutto il codice giusto, ed esegui la cella, Python non dovrebbe lanciare AssertionError\n",
    "assert inter({'key1': 1, 'key2': 2 , 'key3': 3}, {'key1':1 ,'key2':3 , 'key3':3}) == {'key1', 'key3'}\n",
    "assert inter(dict(), {'key1':1 ,'key2':3 , 'key3':3}) == set()\n",
    "assert inter({'key1':1 ,'key2':3 , 'key3':3}, dict()) == set()\n",
    "assert inter(dict(),dict()) == set()\n",
    "# FINE TEST\n"
   ]
  },
  {
   "cell_type": "markdown",
   "metadata": {},
   "source": [
    "### valori_unici\n",
    "\n",
    "✪✪ Scrivi una funzione `valori_unici(d)` che RITORNA una lista di valori unici dal dizionario. La lista DEVE essere ordinata alfanumericamente.\n",
    "\n",
    "Domanda: ci serve ordinata per fini di test. Come mai?\n",
    "\n",
    "* per ordinare la lista, usa il metodo `.sort()`\n",
    "\n",
    "Esempio:\n",
    "\n",
    "```python\n",
    ">>> valori_unici({'a':'y','b':'x','c':'x'})\n",
    "\n",
    "['x','y']\n",
    "```"
   ]
  },
  {
   "cell_type": "raw",
   "id": "7b6b29a7",
   "metadata": {
    "format": "text/html"
   },
   "source": [
    "<a  class=\"jupman-sol jupman-sol-toggler\" \n",
    " onclick=\"jupman.toggleSolution(this);\" \n",
    " data-jupman-show=\"Mostra soluzione\" data-jupman-hide=\"Nascondi\">Mostra soluzione</a><div class=\"jupman-sol jupman-sol-code\" style=\"display:none\">  "
   ]
  },
  {
   "cell_type": "code",
   "execution_count": 10,
   "metadata": {},
   "outputs": [],
   "source": [
    "def valori_unici(d):\n",
    "    \n",
    "    s = set(d.values())\n",
    "    ret = list(s)  # possiamo solo ordinare liste (gli insiemi non hanno ordine) \n",
    "    ret.sort()\n",
    "    return ret\n",
    "    \n",
    "\n",
    "# INIZIO TEST: NON TOCCARE QUESTA PARTE !\n",
    "# se hai scritto tutto il codice giusto, ed esegui la cella, Python non dovrebbe lanciare AssertionError\n",
    "assert valori_unici({}) == []\n",
    "assert valori_unici({'a':'y','b':'x','c':'x'}) == ['x','y']\n",
    "assert valori_unici({'a':4,'b':6,'c':4,'d':8}) == [4,6,8]\n",
    "# FINE TEST\n"
   ]
  },
  {
   "cell_type": "raw",
   "id": "b898f4f6",
   "metadata": {
    "format": "text/html"
   },
   "source": [
    "</div>"
   ]
  },
  {
   "cell_type": "code",
   "execution_count": 10,
   "metadata": {},
   "outputs": [],
   "source": [
    "def valori_unici(d):\n",
    "    raise Exception('TODO IMPLEMENT ME !')\n",
    "\n",
    "# INIZIO TEST: NON TOCCARE QUESTA PARTE !\n",
    "# se hai scritto tutto il codice giusto, ed esegui la cella, Python non dovrebbe lanciare AssertionError\n",
    "assert valori_unici({}) == []\n",
    "assert valori_unici({'a':'y','b':'x','c':'x'}) == ['x','y']\n",
    "assert valori_unici({'a':4,'b':6,'c':4,'d':8}) == [4,6,8]\n",
    "# FINE TEST\n"
   ]
  },
  {
   "cell_type": "markdown",
   "metadata": {},
   "source": [
    "### maiuscole\n",
    "\n",
    "✪✪ RITORNA un dizionario che associa ad ogni stringa nella lista fornita la stessa stringa ma con tutte le lettere in maiuscolo\n",
    "\n",
    "Esempio:\n",
    "\n",
    "```python\n",
    ">>> `maiuscole([\"ciao\", \"mondo\", \"come va?\"])` \n",
    "{\"ciao\":\"CIAO\", \"mondo\":\"MONDO\", \"come va?\":\"COME VA?\"}\n",
    "```\n",
    "\n",
    "Ingredienti:\n",
    "\n",
    "    - ciclo `for`\n",
    "    - metodo `.upper()`"
   ]
  },
  {
   "cell_type": "raw",
   "id": "7ee0e4aa",
   "metadata": {
    "format": "text/html"
   },
   "source": [
    "<a  class=\"jupman-sol jupman-sol-toggler\" \n",
    " onclick=\"jupman.toggleSolution(this);\" \n",
    " data-jupman-show=\"Mostra soluzione\" data-jupman-hide=\"Nascondi\">Mostra soluzione</a><div class=\"jupman-sol jupman-sol-code\" style=\"display:none\">  "
   ]
  },
  {
   "cell_type": "code",
   "execution_count": 11,
   "metadata": {},
   "outputs": [],
   "source": [
    "\n",
    "def maiuscole(lista):\n",
    "    \n",
    "    diz = {} \n",
    "    for stringa in lista:\n",
    "        diz[stringa] = stringa.upper()\n",
    "    return diz\n",
    "    \n",
    "    \n",
    "\n",
    "# INIZIO TEST: NON TOCCARE QUESTA PARTE !\n",
    "# se hai scritto tutto il codice giusto, ed esegui la cella, Python non dovrebbe lanciare AssertionError\n",
    "assert maiuscole([]) == {}\n",
    "assert maiuscole([\"ciao\"]) == {\"ciao\":\"CIAO\"}\n",
    "assert maiuscole([\"ciao\", \"mondo\"]) == {\"ciao\":\"CIAO\", \"mondo\":\"MONDO\"}\n",
    "assert maiuscole([\"ciao\", \"mondo\", \"ciao\"]) == {\"ciao\":\"CIAO\", \"mondo\":\"MONDO\"}\n",
    "assert maiuscole([\"ciao\", \"mondo\", \"come va?\"]) == {\"ciao\":\"CIAO\", \"mondo\":\"MONDO\", \"come va?\":\"COME VA?\"}\n",
    "# FINE TEST"
   ]
  },
  {
   "cell_type": "raw",
   "id": "ded9d8f4",
   "metadata": {
    "format": "text/html"
   },
   "source": [
    "</div>"
   ]
  },
  {
   "cell_type": "code",
   "execution_count": 11,
   "metadata": {},
   "outputs": [],
   "source": [
    "\n",
    "def maiuscole(lista):\n",
    "    raise Exception('TODO IMPLEMENT ME !')\n",
    "    \n",
    "\n",
    "# INIZIO TEST: NON TOCCARE QUESTA PARTE !\n",
    "# se hai scritto tutto il codice giusto, ed esegui la cella, Python non dovrebbe lanciare AssertionError\n",
    "assert maiuscole([]) == {}\n",
    "assert maiuscole([\"ciao\"]) == {\"ciao\":\"CIAO\"}\n",
    "assert maiuscole([\"ciao\", \"mondo\"]) == {\"ciao\":\"CIAO\", \"mondo\":\"MONDO\"}\n",
    "assert maiuscole([\"ciao\", \"mondo\", \"ciao\"]) == {\"ciao\":\"CIAO\", \"mondo\":\"MONDO\"}\n",
    "assert maiuscole([\"ciao\", \"mondo\", \"come va?\"]) == {\"ciao\":\"CIAO\", \"mondo\":\"MONDO\", \"come va?\":\"COME VA?\"}\n",
    "# FINE TEST"
   ]
  },
  {
   "cell_type": "markdown",
   "metadata": {},
   "source": [
    "### filtraz\n",
    "\n",
    "✪✪ RITORNA un NUOVO dizionario, che contiene solo le chiavi/valori del\n",
    "      dizionario diz in ingresso nella cui chiave è presente la lettera 'z'\n",
    "\n",
    "Esempio:\n",
    "\n",
    "```python\n",
    "filtraz({'zibibbo':'da bere',\n",
    "         'mc donald': 'da evitare',\n",
    "         'liquirizia': 'ze best',\n",
    "         'burger king': 'zozzerie'\n",
    "})\n",
    "```\n",
    "\n",
    "deve RITORNARE il NUOVO dizionario\n",
    "\n",
    "```python\n",
    "{\n",
    "'zibibbo':'da bere',\n",
    "'liquirizia': 'ze best'\n",
    "}\n",
    "```\n",
    "\n",
    "In altre parole, abbiamo solo tenuto quelle chiavi che contenevano almeno una `'z'`. Se nei valori ci sono `z` non ce ne curiamo.\n",
    "\n",
    "Ingredienti:\n",
    "\n",
    "Per vedere se 'z' è nella chiave, usare l'operatore  `in`  per es    \n",
    "```python\n",
    "    'z' in 'zibibbo' == True\n",
    "    'z' in 'mc donald' == False\n",
    "```\n"
   ]
  },
  {
   "cell_type": "raw",
   "id": "a5a945c2",
   "metadata": {
    "format": "text/html"
   },
   "source": [
    "<a  class=\"jupman-sol jupman-sol-toggler\" \n",
    " onclick=\"jupman.toggleSolution(this);\" \n",
    " data-jupman-show=\"Mostra soluzione\" data-jupman-hide=\"Nascondi\">Mostra soluzione</a><div class=\"jupman-sol jupman-sol-code\" style=\"display:none\">  "
   ]
  },
  {
   "cell_type": "code",
   "execution_count": 12,
   "metadata": {},
   "outputs": [],
   "source": [
    "def filtraz(diz):    \n",
    "    \n",
    "    \n",
    "    ret = {}\n",
    "    for chiave in diz:\n",
    "        if 'z' in chiave:\n",
    "            ret[chiave] = diz[chiave]\n",
    "    return ret\n",
    "\n",
    "    \n",
    "\n",
    "\n",
    "# INIZIO TEST: NON TOCCARE QUESTA PARTE !\n",
    "# se hai scritto tutto il codice giusto, ed esegui la cella, Python non dovrebbe lanciare AssertionError\n",
    "assert filtraz({}) == {}\n",
    "assert filtraz({'az':'t'}) == {'az':'t'}\n",
    "assert filtraz({'zc':'w'}) == {'zc':'w'}\n",
    "assert filtraz({'b':'h'}) == {}\n",
    "assert filtraz({'b':'hz'}) == {}\n",
    "assert filtraz({'az':'t','b':'hz'}) == {'az':'t'}\n",
    "assert filtraz({'az':'t','b':'hz','zc':'w'}) == {'az':'t', 'zc':'w'}\n",
    "# FINE TEST"
   ]
  },
  {
   "cell_type": "raw",
   "id": "01f4192e",
   "metadata": {
    "format": "text/html"
   },
   "source": [
    "</div>"
   ]
  },
  {
   "cell_type": "code",
   "execution_count": 12,
   "metadata": {},
   "outputs": [],
   "source": [
    "def filtraz(diz):    \n",
    "    raise Exception('TODO IMPLEMENT ME !')\n",
    "\n",
    "\n",
    "# INIZIO TEST: NON TOCCARE QUESTA PARTE !\n",
    "# se hai scritto tutto il codice giusto, ed esegui la cella, Python non dovrebbe lanciare AssertionError\n",
    "assert filtraz({}) == {}\n",
    "assert filtraz({'az':'t'}) == {'az':'t'}\n",
    "assert filtraz({'zc':'w'}) == {'zc':'w'}\n",
    "assert filtraz({'b':'h'}) == {}\n",
    "assert filtraz({'b':'hz'}) == {}\n",
    "assert filtraz({'az':'t','b':'hz'}) == {'az':'t'}\n",
    "assert filtraz({'az':'t','b':'hz','zc':'w'}) == {'az':'t', 'zc':'w'}\n",
    "# FINE TEST"
   ]
  },
  {
   "cell_type": "markdown",
   "metadata": {},
   "source": [
    "### powers\n",
    "\n",
    "✪✪ RITORNA un dizionario in cui le chiavi sono numeri interi da 1 a `n` inclusi, e i rispettivi \n",
    "valori sono i quadrati delle chiavi \n",
    "\n",
    "Esempio:\n",
    "\n",
    "```python\n",
    "powers(3)\n",
    "```\n",
    "\n",
    "Ritorna\n",
    "\n",
    "```\n",
    "{\n",
    " 1:1,\n",
    " 2:4,\n",
    " 3:9\n",
    "}\n",
    "```\n"
   ]
  },
  {
   "cell_type": "raw",
   "id": "9c27363c",
   "metadata": {
    "format": "text/html"
   },
   "source": [
    "<a  class=\"jupman-sol jupman-sol-toggler\" \n",
    " onclick=\"jupman.toggleSolution(this);\" \n",
    " data-jupman-show=\"Mostra soluzione\" data-jupman-hide=\"Nascondi\">Mostra soluzione</a><div class=\"jupman-sol jupman-sol-code\" style=\"display:none\">  "
   ]
  },
  {
   "cell_type": "code",
   "execution_count": 13,
   "metadata": {},
   "outputs": [],
   "source": [
    "\n",
    "def powers(n):\n",
    "    \n",
    "    d=dict()\n",
    "    for i in range(1,n+1):\n",
    "        d[i]=i**2\n",
    "    return d\n",
    "    \n",
    "\n",
    "# INIZIO TEST: NON TOCCARE QUESTA PARTE !\n",
    "# se hai scritto tutto il codice giusto, ed esegui la cella, Python non dovrebbe lanciare AssertionError\n",
    "assert powers(1) == {1:1}\n",
    "assert powers(2) == {\n",
    "                        1:1,\n",
    "                        2:4\n",
    "                    }\n",
    "assert powers(3) == {\n",
    "                        1:1,\n",
    "                        2:4,\n",
    "                        3:9\n",
    "                    }\n",
    "\n",
    "assert powers(4) == {\n",
    "                        1:1,\n",
    "                        2:4,\n",
    "                        3:9,\n",
    "                        4:16\n",
    "                    }\n",
    "# FINE TEST\n"
   ]
  },
  {
   "cell_type": "raw",
   "id": "00f8bf25",
   "metadata": {
    "format": "text/html"
   },
   "source": [
    "</div>"
   ]
  },
  {
   "cell_type": "code",
   "execution_count": 13,
   "metadata": {},
   "outputs": [],
   "source": [
    "\n",
    "def powers(n):\n",
    "    raise Exception('TODO IMPLEMENT ME !')\n",
    "\n",
    "# INIZIO TEST: NON TOCCARE QUESTA PARTE !\n",
    "# se hai scritto tutto il codice giusto, ed esegui la cella, Python non dovrebbe lanciare AssertionError\n",
    "assert powers(1) == {1:1}\n",
    "assert powers(2) == {\n",
    "                        1:1,\n",
    "                        2:4\n",
    "                    }\n",
    "assert powers(3) == {\n",
    "                        1:1,\n",
    "                        2:4,\n",
    "                        3:9\n",
    "                    }\n",
    "\n",
    "assert powers(4) == {\n",
    "                        1:1,\n",
    "                        2:4,\n",
    "                        3:9,\n",
    "                        4:16\n",
    "                    }\n",
    "# FINE TEST\n"
   ]
  },
  {
   "cell_type": "markdown",
   "metadata": {},
   "source": [
    "### dilist\n",
    "\n",
    "✪✪ Restituisce un dizionario con `n` coppie chiave-valore, dove le chiavi sono  numeri interi da `1` a `n` incluso, e ad ogni chiave `i` è associata una lista di numeri da `1` a `i`\n",
    "\n",
    "NOTA: le chiavi sono *numeri interi*, NON stringhe !!!!!\n",
    "\n",
    "Esempio:\n",
    "\n",
    "```python\n",
    "dilist(3)\n",
    "```\n",
    "\n",
    "deve dare:\n",
    "\n",
    "```python\n",
    "{ \n",
    "    1:[1],\n",
    "    2:[1,2],\n",
    "    3:[1,2,3]\n",
    "}\n",
    "```\n"
   ]
  },
  {
   "cell_type": "raw",
   "id": "ce30f509",
   "metadata": {
    "format": "text/html"
   },
   "source": [
    "<a  class=\"jupman-sol jupman-sol-toggler\" \n",
    " onclick=\"jupman.toggleSolution(this);\" \n",
    " data-jupman-show=\"Mostra soluzione\" data-jupman-hide=\"Nascondi\">Mostra soluzione</a><div class=\"jupman-sol jupman-sol-code\" style=\"display:none\">  "
   ]
  },
  {
   "cell_type": "code",
   "execution_count": 14,
   "metadata": {},
   "outputs": [],
   "source": [
    "\n",
    "\n",
    "def dilist(n):\n",
    "    \n",
    "    ret = dict()\n",
    "    for i in range(1,n+1):\n",
    "        lista = []\n",
    "        for j in range(1,i+1):\n",
    "            lista.append(j)\n",
    "        ret[i] = lista\n",
    "    return ret\n",
    "    \n",
    "\n",
    "# INIZIO TEST: NON TOCCARE QUESTA PARTE !\n",
    "# se hai scritto tutto il codice giusto, ed esegui la cella, Python non dovrebbe lanciare AssertionError\n",
    "assert dilist(0) == dict()\n",
    "assert dilist(1) == {\n",
    "                        1:[1]\n",
    "                    }\n",
    "assert dilist(2) == { \n",
    "                        1:[1],\n",
    "                        2:[1,2]\n",
    "                    }\n",
    "assert dilist(3) == { \n",
    "                        1:[1],\n",
    "                        2:[1,2],\n",
    "                        3:[1,2,3]\n",
    "                    }\n",
    "# FINE TEST"
   ]
  },
  {
   "cell_type": "raw",
   "id": "a597c95f",
   "metadata": {
    "format": "text/html"
   },
   "source": [
    "</div>"
   ]
  },
  {
   "cell_type": "code",
   "execution_count": 14,
   "metadata": {},
   "outputs": [],
   "source": [
    "\n",
    "\n",
    "def dilist(n):\n",
    "    raise Exception('TODO IMPLEMENT ME !')\n",
    "\n",
    "# INIZIO TEST: NON TOCCARE QUESTA PARTE !\n",
    "# se hai scritto tutto il codice giusto, ed esegui la cella, Python non dovrebbe lanciare AssertionError\n",
    "assert dilist(0) == dict()\n",
    "assert dilist(1) == {\n",
    "                        1:[1]\n",
    "                    }\n",
    "assert dilist(2) == { \n",
    "                        1:[1],\n",
    "                        2:[1,2]\n",
    "                    }\n",
    "assert dilist(3) == { \n",
    "                        1:[1],\n",
    "                        2:[1,2],\n",
    "                        3:[1,2,3]\n",
    "                    }\n",
    "# FINE TEST"
   ]
  },
  {
   "cell_type": "markdown",
   "metadata": {},
   "source": [
    "### prefissi\n",
    "\n",
    "\n",
    "✪✪ Scrivere una funzione `prefissi` che dati:\n",
    "\n",
    "- un dizionario `diz` avente come chiavi province italiane e come valori i loro prefissi telefonici (nota: anche i prefissi sono stringhe!)\n",
    "- una lista `province` con le province italiane\n",
    "\n",
    "RITORNA una lista di prefissi corrispondenti alle province della lista passata\n",
    "\n",
    "Esempio:\n",
    "\n",
    "```python\n",
    "prefissi({\n",
    "            'tn':'0461', \n",
    "            'bz':'0471', \n",
    "            'mi':'02', \n",
    "            'to':'011',\n",
    "            'bo':'051'\n",
    "          }, \n",
    "          ['tn','to', 'mi'])\n",
    "```\n",
    "\n",
    "deve ritornare\n",
    "\n",
    "```python\n",
    "['0461', '011', '02']\n",
    "```\n",
    "\n",
    "SUGGERIMENTI:\n",
    "\n",
    "- inizializzare lista vuota da ritornare\n",
    "- scorrere la lista di province e pescarsi i corrispondenti prefissi dal dizionario\n"
   ]
  },
  {
   "cell_type": "raw",
   "id": "39cb29f2",
   "metadata": {
    "format": "text/html"
   },
   "source": [
    "<a  class=\"jupman-sol jupman-sol-toggler\" \n",
    " onclick=\"jupman.toggleSolution(this);\" \n",
    " data-jupman-show=\"Mostra soluzione\" data-jupman-hide=\"Nascondi\">Mostra soluzione</a><div class=\"jupman-sol jupman-sol-code\" style=\"display:none\">  "
   ]
  },
  {
   "cell_type": "code",
   "execution_count": 15,
   "metadata": {},
   "outputs": [],
   "source": [
    "def prefissi(diz, province):\n",
    "    \n",
    "    \n",
    "    ret = []\n",
    "    for provincia in province:\n",
    "        ret.append(diz[provincia])\n",
    "    \n",
    "    return ret\n",
    "    \n",
    "\n",
    "# INIZIO TEST: NON TOCCARE QUESTA PARTE !\n",
    "# se hai scritto tutto il codice giusto, ed esegui la cella, Python non dovrebbe lanciare AssertionError\n",
    "assert prefissi({'tn':'0461'}, []) == []    \n",
    "assert prefissi({'tn':'0461'}, ['tn']) == ['0461']\n",
    "assert prefissi({'tn':'0461', 'bz':'0471'}, ['tn']) == ['0461']\n",
    "assert prefissi({'tn':'0461', 'bz':'0471'}, ['bz']) == ['0471']\n",
    "assert prefissi({'tn':'0461', 'bz':'0471'}, ['tn','bz']) == ['0461', '0471']\n",
    "assert prefissi({'tn':'0461', 'bz':'0471'}, ['bz','tn']) == ['0471', '0461']\n",
    "assert prefissi({'tn':'0461', \n",
    "                 'bz':'0471', \n",
    "                 'mi':'02', \n",
    "                 'to':'011',\n",
    "                 'bo':'051'\n",
    "                }, \n",
    "                ['tn','to', 'mi']) == ['0461', '011', '02']\n",
    "# FINE TEST"
   ]
  },
  {
   "cell_type": "raw",
   "id": "5a802f18",
   "metadata": {
    "format": "text/html"
   },
   "source": [
    "</div>"
   ]
  },
  {
   "cell_type": "code",
   "execution_count": 15,
   "metadata": {},
   "outputs": [],
   "source": [
    "def prefissi(diz, province):\n",
    "    \n",
    "    raise Exception('TODO IMPLEMENT ME !')\n",
    "\n",
    "# INIZIO TEST: NON TOCCARE QUESTA PARTE !\n",
    "# se hai scritto tutto il codice giusto, ed esegui la cella, Python non dovrebbe lanciare AssertionError\n",
    "assert prefissi({'tn':'0461'}, []) == []    \n",
    "assert prefissi({'tn':'0461'}, ['tn']) == ['0461']\n",
    "assert prefissi({'tn':'0461', 'bz':'0471'}, ['tn']) == ['0461']\n",
    "assert prefissi({'tn':'0461', 'bz':'0471'}, ['bz']) == ['0471']\n",
    "assert prefissi({'tn':'0461', 'bz':'0471'}, ['tn','bz']) == ['0461', '0471']\n",
    "assert prefissi({'tn':'0461', 'bz':'0471'}, ['bz','tn']) == ['0471', '0461']\n",
    "assert prefissi({'tn':'0461', \n",
    "                 'bz':'0471', \n",
    "                 'mi':'02', \n",
    "                 'to':'011',\n",
    "                 'bo':'051'\n",
    "                }, \n",
    "                ['tn','to', 'mi']) == ['0461', '011', '02']\n",
    "# FINE TEST"
   ]
  },
  {
   "cell_type": "markdown",
   "metadata": {},
   "source": [
    "### traduci\n",
    "\n",
    "✪✪ L'italiano è oramai una lingua obsoleta, perciò va soppiantata dall'inglese che\n",
    " è più _trendy_. A tal fine, scrivere una funzione che prende una frase come \n",
    " lista di parole e un dizionario di traduzioni italiano-inglese, e RITORNA una \n",
    "NUOVA lista in cui tutte le parole della lista originale e che sono presenti \n",
    "come chiavi nel dizionario sono sostituite con la corrispondente voce \n",
    "in inglese. \n",
    "\n",
    "Se non c'è traduzione, viene messa la parola in italiano.\n",
    "\n",
    "Esempio:\n",
    "\n",
    "```python\n",
    "lista = [\"Oggi\", \"ho\", \"una riunione\", \"dove\", \"discuteremo\", \"gli obiettivi\", \"da\", \"raggiungere\", \"per\", \"soddisfare\", \"i nostri clienti\" ] \n",
    "\n",
    "inglesismi={\n",
    "    \"una riunione\": \"un meeting\",\n",
    "    \"gli obiettivi\" : \"i goal\",\n",
    "    \"i nostri clienti\" : \"il nostro target\"\n",
    "}\n",
    "\n",
    "\n",
    "traduci(lista, inglesismi)\n",
    "```\n",
    "\n",
    "deve ritornare\n",
    "\n",
    "```python\n",
    "[\"Oggi\", \"ho\", \"un meeting\", \"dove\", \"discuteremo\", \"i goal\", \"da\", \"raggiungere\", \"per\", \"soddisfare\", \"il nostro target\"]\n",
    "```\n"
   ]
  },
  {
   "cell_type": "raw",
   "id": "df139bb8",
   "metadata": {
    "format": "text/html"
   },
   "source": [
    "<a  class=\"jupman-sol jupman-sol-toggler\" \n",
    " onclick=\"jupman.toggleSolution(this);\" \n",
    " data-jupman-show=\"Mostra soluzione\" data-jupman-hide=\"Nascondi\">Mostra soluzione</a><div class=\"jupman-sol jupman-sol-code\" style=\"display:none\">  "
   ]
  },
  {
   "cell_type": "code",
   "execution_count": 16,
   "metadata": {},
   "outputs": [],
   "source": [
    "def traduci(lista, inglesismi):\n",
    "    \n",
    "    ret = []\n",
    "    for parola in lista:\n",
    "        if parola in inglesismi:\n",
    "            ret.append(inglesismi[parola])\n",
    "        else:\n",
    "            ret.append(parola)\n",
    "    return ret\n",
    "    \n",
    "    \n",
    "\n",
    "# INIZIO TEST: NON TOCCARE QUESTA PARTE !\n",
    "# se hai scritto tutto il codice giusto, ed esegui la cella, Python non dovrebbe lanciare AssertionError\n",
    "assert traduci([], {}) == []\n",
    "assert traduci(['a'], {}) == ['a']\n",
    "assert traduci(['a'], {'a':'x'}) == ['x']\n",
    "assert traduci(['a b'], {'a b':'x'}) == ['x']\n",
    "assert traduci(['a','b'], {'a':'x'}) == ['x','b']\n",
    "assert traduci(['a','b'], {'a':'x','b':'y'}) == ['x','y']\n",
    "assert traduci([\"Oggi\", \"ho\", \"una riunione\", \"dove\", \"discuteremo\", \n",
    "\"gli obiettivi\", \"da\", \"raggiungere\", \"per\", \"soddisfare\", \"i nostri clienti\"],\n",
    " {\n",
    "     \"una riunione\": \"un meeting\",\n",
    "     \"gli obiettivi\" : \"i goal\",\n",
    "     \"i nostri clienti\" : \"il nostro target\"\n",
    "}) == [\"Oggi\", \"ho\", \"un meeting\", \"dove\", \"discuteremo\", \"i goal\", \"da\",\n",
    " \"raggiungere\", \"per\", \"soddisfare\", \"il nostro target\"] \n",
    "# FINE TEST\n",
    "    \n",
    "\n",
    " "
   ]
  },
  {
   "cell_type": "raw",
   "id": "dd167729",
   "metadata": {
    "format": "text/html"
   },
   "source": [
    "</div>"
   ]
  },
  {
   "cell_type": "code",
   "execution_count": 16,
   "metadata": {},
   "outputs": [],
   "source": [
    "def traduci(lista, inglesismi):\n",
    "    raise Exception('TODO IMPLEMENT ME !')\n",
    "    \n",
    "\n",
    "# INIZIO TEST: NON TOCCARE QUESTA PARTE !\n",
    "# se hai scritto tutto il codice giusto, ed esegui la cella, Python non dovrebbe lanciare AssertionError\n",
    "assert traduci([], {}) == []\n",
    "assert traduci(['a'], {}) == ['a']\n",
    "assert traduci(['a'], {'a':'x'}) == ['x']\n",
    "assert traduci(['a b'], {'a b':'x'}) == ['x']\n",
    "assert traduci(['a','b'], {'a':'x'}) == ['x','b']\n",
    "assert traduci(['a','b'], {'a':'x','b':'y'}) == ['x','y']\n",
    "assert traduci([\"Oggi\", \"ho\", \"una riunione\", \"dove\", \"discuteremo\", \n",
    "\"gli obiettivi\", \"da\", \"raggiungere\", \"per\", \"soddisfare\", \"i nostri clienti\"],\n",
    " {\n",
    "     \"una riunione\": \"un meeting\",\n",
    "     \"gli obiettivi\" : \"i goal\",\n",
    "     \"i nostri clienti\" : \"il nostro target\"\n",
    "}) == [\"Oggi\", \"ho\", \"un meeting\", \"dove\", \"discuteremo\", \"i goal\", \"da\",\n",
    " \"raggiungere\", \"per\", \"soddisfare\", \"il nostro target\"] \n",
    "# FINE TEST\n",
    "    \n",
    "\n",
    " "
   ]
  },
  {
   "cell_type": "markdown",
   "metadata": {},
   "source": [
    "\n",
    "## Prosegui\n",
    "\n",
    "Prosegui con [Dizionari 5](https://it.softpython.org/dictionaries/dictionaries5-sol.html)"
   ]
  },
  {
   "cell_type": "code",
   "execution_count": null,
   "metadata": {},
   "outputs": [],
   "source": []
  }
 ],
 "metadata": {
  "celltoolbar": "Edit Metadata",
  "kernelspec": {
   "display_name": "Python 3",
   "language": "python",
   "name": "python3"
  },
  "language_info": {
   "codemirror_mode": {
    "name": "ipython",
    "version": 3
   },
   "file_extension": ".py",
   "mimetype": "text/x-python",
   "name": "python",
   "nbconvert_exporter": "python",
   "pygments_lexer": "ipython3",
   "version": "3.7.10"
  },
  "toc": {
   "base_numbering": 1,
   "nav_menu": {},
   "number_sections": false,
   "sideBar": true,
   "skip_h1_title": false,
   "title_cell": "Table of Contents",
   "title_sidebar": "Contents",
   "toc_cell": false,
   "toc_position": {
    "height": "calc(100% - 180px)",
    "left": "10px",
    "top": "150px",
    "width": "342px"
   },
   "toc_section_display": true,
   "toc_window_display": true
  }
 },
 "nbformat": 4,
 "nbformat_minor": 2
}

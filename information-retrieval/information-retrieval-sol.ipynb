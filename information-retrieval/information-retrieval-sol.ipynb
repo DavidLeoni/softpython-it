{
 "cells": [
  {
   "cell_type": "markdown",
   "metadata": {},
   "source": [
    "# Information retrieval\n",
    "\n",
    "## [Scarica zip esercizi](../_static/generated/information-retrieval.zip)\n",
    "\n",
    "[Naviga file online](https://github.com/DavidLeoni/softpython-it/tree/master/information-retrieval)\n",
    "\n",
    "<div class=\"alert alert-warning\">\n",
    "\n",
    "**ATTENZIONE**: tutorial in progress !\n",
    "\n",
    "Questo tutorial è pensato per dare un idea rapida dei problemi principali dell'information retrieval ma è ancora incompleto e spesso presenta i concetti in modo molto semplificato. Se l'argomento t'appassiona non mancano buoni libri sul tema!\n",
    "\n",
    "</div>\n",
    "\n",
    "\n",
    "L' _Information retrieval_ è l'attività che svolgono i sistemi informatici quando devono recuperare _rapidamente_ delle informazioni _rilevanti_ . Perchè questi due aggettivi? \n",
    "\n",
    "\n",
    "Al giorno d'oggi molte aziende hanno a che fare con una mole di dati rilevante - i famosi _big data_. Sia i giganti dell'_Information_ _Technology_ (*IT*) come Google e Amazon che aziende di dimensioni più modeste per varie ragioni devono fornire ai clienti dei sistemi di ricerca efficienti. Nel caso di Google i clienti vogliono trovare tutte le pagine nel web che contengono un certo testo. Per Amazon, il cliente desidera conoscere tutti i prodotti in una certa categoria, o prodotti _simili_ ad uno già cercato. \n",
    "\n"
   ]
  },
  {
   "cell_type": "markdown",
   "metadata": {},
   "source": [
    "\n",
    "### Che fare\n",
    "\n",
    "\n",
    "- scompatta lo zip in una cartella, dovresti ottenere qualcosa del genere: \n",
    "\n",
    "```\n",
    "\n",
    "information-retrieval\n",
    "    information-retrieval.ipynb\n",
    "    information-retrieval-sol.ipynb\n",
    "    jupman.py    \n",
    "```\n",
    "\n",
    "<div class=\"alert alert-warning\">\n",
    "\n",
    "**ATTENZIONE**: Per essere visualizzato correttamente, il file del notebook DEVE essere nella cartella szippata.\n",
    "</div>\n",
    "\n",
    "- apri il Jupyter Notebook da quella cartella. Due cose dovrebbero aprirsi, prima una console e poi un browser. Il browser dovrebbe mostrare una lista di file: naviga la lista e apri il notebook `information-retrieval.ipynb`\n",
    "- Prosegui leggendo il file degli esercizi, ogni tanto al suo interno troverai delle scritte **ESERCIZIO**, che ti chiederanno di scrivere dei comandi Python nelle celle successive. \n",
    "\n",
    "Scorciatoie da tastiera:\n",
    "\n",
    "* Per eseguire il codice Python dentro una cella di Jupyter, premi `Control+Invio`\n",
    "* Per eseguire il codice Python dentro una cella di Jupyter E selezionare la cella seguente, premi `Shift+Invio`\n",
    "* Per eseguire il codice Python dentro una cella di Jupyter E creare una nuova cella subito dopo, premi `Alt+Invio`\n",
    "* Se per caso il Notebook sembra inchiodato, prova a selezionare `Kernel -> Restart`\n",
    "\n"
   ]
  },
  {
   "cell_type": "markdown",
   "metadata": {},
   "source": [
    "## Costruiamo il nostro motore di ricerca\n",
    "\n",
    "Consideriamo in particolare il problema che risolvono i motori di ricerca come Google. \n",
    "\n",
    "Supponiamo di avere tante pagine web (tutto il web !): per ogni pagina abbiamo l'indirizzo della pagina (come [https://it.softpython.org](https://it.softpython.org) ) e il testo che contiene in formato HTML, per esempio:\n",
    "\n",
    "```html\n",
    "<h2>Presentazione</h2>\n",
    "<p>Il corso SoftPython fornisce un’introduzione al processamento dati usando Python, un linguaggio di programmazione popolare sia nell’industria che nell’ambito della ricerca. Fra le varie cose tratteremo Matplotlib.</p>\n",
    "```\n",
    "Se hai guardato il tutorial sull'[estrazione dati](https://it.softpython.org/extraction/extraction-sol.html) dovresti già avere un'idea di cosa è l'HTML. Se non l'hai fatto niente paura: puoi tranquillamente ignorare le strane sequenze racchiuse tra minore e maggiore come `<h2>`, tieni solo presente che si chiamano _tag HTML_. Parlando in genere, le useremo come esempio del fatto che quando si cerca dentro del testo si possono trovare cose strane o indesiderate, e un sistema di ricerca fatto bene deve essere pronto alle sorprese.\n",
    "\n",
    "L'utente vuole trovare tutte le pagine contenti un certo testo, per esempio sul sito di SoftPython potrebbe voler cercare dove ci sono spiegazioni su `grafici con matplotlib`\n",
    "\n",
    "* INPUT: stringa di ricerca (per es: `grafici con matplotlib`\n",
    "* OUTPUT: tutte le pagine che contengono la stringa (in questo caso `grafici con matplotlib`\n",
    "\n",
    "\n",
    "Se hai seguito qualcuno dei tutorial sul nostro sito, forse ti potrebbe venire in mente già una o due soluzioni a questo problema.\n",
    "\n"
   ]
  },
  {
   "cell_type": "markdown",
   "metadata": {},
   "source": [
    "**DOMANDA**: Prima di proseguire, pensa a \n",
    "\n",
    "- come rappresenteresti i dati delle pagine in Python?\n",
    "- che funzione Python definiresti per fare la ricerca? \n",
    "    - quali sarebbero i parametri della funzione? \n",
    "    - cosa varia ad ogni chiamata e cosa invece è più 'statico' ?\n",
    "\n",
    "Non ti preoccupare delle _performance_ - quando si progetta un _algoritmo_ all'inizio conviene capire bene cosa si vuole. Solo dopo aver realizzato un prototipo e nel caso sia troppo lento, ci si comincia a preoccupare delle performance !"
   ]
  },
  {
   "cell_type": "markdown",
   "metadata": {},
   "source": [
    "### Una prima soluzione\n",
    "\n",
    "Vediamone qua una possibile soluzione al problema.\n",
    "\n",
    "\n"
   ]
  },
  {
   "cell_type": "markdown",
   "metadata": {},
   "source": [
    "#### Rappresentare una pagina\n",
    "\n",
    "Cominciamo a rappresentare le pagine web. Per farlo, possiamo usare unsemplice dizionario con le chiavi `url` (l'indirizzo web) e `contenuto` per il testo:\n",
    "    \n",
    "```python\n",
    "{\n",
    "    'url': 'http://it.softpython.org',\n",
    "    'contenuto' : '<h2>Presentazione</h2><p>Il corso SoftPython fornisce un’introduzione al processamento dati usando Python, un linguaggio di programmazione popolare sia nell’industria che nell’ambito della ricerca. Fra le varie cose tratteremo Matplotlib.</p>'\n",
    "}\n",
    "\n",
    "```\n",
    "\n",
    "\n"
   ]
  },
  {
   "cell_type": "markdown",
   "metadata": {},
   "source": [
    "#### Un database per le pagine\n",
    "\n",
    "Il web ha tante pagine, quindi vorremo mettere la collezione di pagine in un contenitore. Ai fini dell'esempio proviamo ad usare una lista. La popoleremo con due pagine, quella [principale](https://it.softpython.org) e la pagina chiamata [Visualizzazione](https://it.softpython.org/visualization/visualization-sol.html). Infine assegnamo la lista alla variabile `pagine` (ricordiamo che il testo che mettiamo è semplificato rispetto a quello effettivo che trovate sul sito)\n"
   ]
  },
  {
   "cell_type": "code",
   "execution_count": 1,
   "metadata": {},
   "outputs": [],
   "source": [
    "pagine = [\n",
    "            {\n",
    "                'url': 'https://it.softpython.org',\n",
    "                'contenuto' : '<h2>Presentazione</h2><p>Il corso SoftPython fornisce un’introduzione al processamento dati usando Python, un linguaggio di programmazione popolare sia nell’industria che nell’ambito della ricerca. Fra le varie cose tratteremo Matplotlib.</p>'\n",
    "            },\n",
    "            {\n",
    "                'url': 'https://it.softpython.org/visualization/visualization-sol.html',\n",
    "                'contenuto' : '<h2>Visualizzazione</h2> <p>Excel ci permette di creare molti tipi di visualizzazione ma a volte è limitato, perciò useremo Python facendo grafici in Matplotlib. Matplotlib è una libreria eccezionale che consente di creare qualunque visualizzazione desideriamo. Procediamo dunque a importare matplotlib in Python:</p>'\n",
    "            }\n",
    "        ]"
   ]
  },
  {
   "cell_type": "markdown",
   "metadata": {},
   "source": [
    "Supponiamo che tutto il web sia costituito dalle due pagine precedenti. Supponiamo anche che le pagine non cambino mai nel tempo. Abbiamo creato il nostro primo rudimentale _database_ del web!\n",
    "\n",
    "\n",
    "#### Implementiamo la funzione di ricerca\n",
    "\n",
    "Ma come possiamo implementare la ricerca? \n"
   ]
  },
  {
   "cell_type": "code",
   "execution_count": 2,
   "metadata": {},
   "outputs": [],
   "source": [
    "\n",
    "\n",
    "def ricerca(stringa):\n",
    "    risultati = []             # all'inizio non sappiamo quali pagine contengono le parole cercate\n",
    "    for pagina in pagine:                    # scorri le pagine\n",
    "        if stringa in pagina['contenuto']:   # se la stringa cercata è nel contenuto della pagina ...\n",
    "            risultati.append(pagina)         # aggiungi la pagina ai risultati collezionati finora\n",
    "    return risultati                         # ritorna le pagine collezionate finora\n",
    "    "
   ]
  },
  {
   "cell_type": "markdown",
   "metadata": {},
   "source": [
    "Proviamola con una sola parola chiave `grafici`, dovrebbe ritornarci la pagina 1-esima sulla visualizzazione: "
   ]
  },
  {
   "cell_type": "code",
   "execution_count": 3,
   "metadata": {},
   "outputs": [
    {
     "data": {
      "text/plain": [
       "[{'url': 'https://it.softpython.org/visualization/visualization-sol.html',\n",
       "  'contenuto': '<h2>Visualizzazione</h2> <p>Excel ci permette di creare molti tipi di visualizzazione ma a volte è limitato, perciò useremo Python facendo grafici in Matplotlib. Matplotlib è una libreria eccezionale che consente di creare qualunque visualizzazione desideriamo. Procediamo dunque a importare matplotlib in Python:</p>'}]"
      ]
     },
     "execution_count": 3,
     "metadata": {},
     "output_type": "execute_result"
    }
   ],
   "source": [
    "ricerca(\"grafici\")"
   ]
  },
  {
   "cell_type": "markdown",
   "metadata": {},
   "source": [
    "Funziona ! Baldanzosi col risultato del nostro primo esperimento, proviamo a cerca la stringa completa che ci eravamo prefissati all'inizio, `grafici con matplotlib`:"
   ]
  },
  {
   "cell_type": "code",
   "execution_count": 4,
   "metadata": {},
   "outputs": [
    {
     "data": {
      "text/plain": [
       "[]"
      ]
     },
     "execution_count": 4,
     "metadata": {},
     "output_type": "execute_result"
    }
   ],
   "source": [
    "ricerca(\"grafici con matplotlib\")"
   ]
  },
  {
   "cell_type": "markdown",
   "metadata": {},
   "source": [
    "Nulla ! Come mai? \n",
    "\n",
    "**DOMANDA**: Prima di proseguire, osserva bene il testo semplificato della pagina Visualizzazione e prova a dare una risposta. Ci sono due problemi principali. Come li risolveresti ? \n"
   ]
  },
  {
   "cell_type": "raw",
   "id": "88e90987",
   "metadata": {
    "format": "text/html"
   },
   "source": [
    "<a  class=\"jupman-sol jupman-sol-toggler\" \n",
    " onclick=\"jupman.toggleSolution(this);\" \n",
    " data-jupman-show=\"Mostra risposta\" data-jupman-hide=\"Nascondi\">Mostra risposta</a><div class=\"jupman-sol jupman-sol-question\" style=\"display:none\">  "
   ]
  },
  {
   "cell_type": "markdown",
   "metadata": {},
   "source": [
    "**RISPOSTA**: \n",
    "\n",
    "Se osserviamo bene il testo della pagina Visualizzazione, vediamo che riporta in fondo `\"come fare grafici in Matplotlib\"`\n",
    "\n",
    "Saltano fuori diversi problemi: \n",
    "\n",
    "1. il nostro  utente sta cercando `\"grafici con matplotlib\"` usando `\"con\"` ma nel testo della pagina c'è scritto `\"grafici in Matplotlib\"` con `\"in\"`\n",
    "2. l'utente cerca `\"matplotlib\"` in minuscolo, ma nella pagina è riportato `\"Matplotlib\"` in maiuscolo.\n"
   ]
  },
  {
   "cell_type": "raw",
   "id": "387b992d",
   "metadata": {
    "format": "text/html"
   },
   "source": [
    "</div>"
   ]
  },
  {
   "cell_type": "markdown",
   "metadata": {},
   "source": [
    "**DOMANDA**: Come risolveresti i problemi qua sopra?"
   ]
  },
  {
   "cell_type": "raw",
   "id": "35480ae6",
   "metadata": {
    "format": "text/html"
   },
   "source": [
    "<a  class=\"jupman-sol jupman-sol-toggler\" \n",
    " onclick=\"jupman.toggleSolution(this);\" \n",
    " data-jupman-show=\"Mostra risposta\" data-jupman-hide=\"Nascondi\">Mostra risposta</a><div class=\"jupman-sol jupman-sol-question\" style=\"display:none\">  "
   ]
  },
  {
   "cell_type": "markdown",
   "metadata": {},
   "source": [
    "**RISPOSTA**: \n",
    "    \n",
    "1. Preposizioni come `\"con\"`, `\"in\"`, `\"di\"`, `\"fra\"` etc. molto spesso non sono rilevanti ai fini di una ricerca. Nel gergo dell'Information retrieval, vengono chiamate [stopwords](http://comunicaresulweb.com/seo/stop-words-italiane/). Per garantire una ricerca più efficace, potresti eliminarle dalla stringa di ricerca dell'utente. Ai fini della ricerca, forse avrebbe senso eliminarle anche dal testo delle pagine ?\n",
    "2. Per risolvere problemi di maiuscole/minuscole, spesso conviene convertire la stringa di ricerca tutta in minuscolo, e fare lo stesso con il testo della pagina. Per farlo, puoi usare il metodo `lower()` delle stringhe. **NOTA**: `lower()`, come _tutti_ i metodi delle stringhe, ritorna una **nuova** stringa e non modifica l'originale !!\n"
   ]
  },
  {
   "cell_type": "raw",
   "id": "5cc0dea1",
   "metadata": {
    "format": "text/html"
   },
   "source": [
    "</div>"
   ]
  },
  {
   "cell_type": "markdown",
   "metadata": {},
   "source": [
    "### Una ricerca più efficace"
   ]
  },
  {
   "cell_type": "markdown",
   "metadata": {},
   "source": [
    "Accediamo al contenuto della prima pagina:"
   ]
  },
  {
   "cell_type": "code",
   "execution_count": 5,
   "metadata": {},
   "outputs": [
    {
     "data": {
      "text/plain": [
       "'<h2>Presentazione</h2><p>Il corso SoftPython fornisce un’introduzione al processamento dati usando Python, un linguaggio di programmazione popolare sia nell’industria che nell’ambito della ricerca. Fra le varie cose tratteremo Matplotlib.</p>'"
      ]
     },
     "execution_count": 5,
     "metadata": {},
     "output_type": "execute_result"
    }
   ],
   "source": [
    "pagine[0][\"contenuto\"]"
   ]
  },
  {
   "cell_type": "markdown",
   "metadata": {},
   "source": [
    "Se cerco `\"matplotlib\"` in maiuscolo non lo troverò:"
   ]
  },
  {
   "cell_type": "code",
   "execution_count": 6,
   "metadata": {},
   "outputs": [
    {
     "data": {
      "text/plain": [
       "False"
      ]
     },
     "execution_count": 6,
     "metadata": {},
     "output_type": "execute_result"
    }
   ],
   "source": [
    "\"matplotlib\" in pagine[0][\"contenuto\"]"
   ]
  },
  {
   "cell_type": "markdown",
   "metadata": {},
   "source": [
    "ma se metto tutto in minuscolo:\n",
    "\n",
    "<div class=\"alert alert-warning\">\n",
    "\n",
    "**ATTENZIONE**: `lower()`, come _tutti_ i metodi delle stringhe, ritorna una **nuova** stringa e non modifica loriginale !!\n",
    "\n",
    "</div>\n"
   ]
  },
  {
   "cell_type": "code",
   "execution_count": 7,
   "metadata": {},
   "outputs": [
    {
     "data": {
      "text/plain": [
       "'<h2>presentazione</h2><p>il corso softpython fornisce un’introduzione al processamento dati usando python, un linguaggio di programmazione popolare sia nell’industria che nell’ambito della ricerca. fra le varie cose tratteremo matplotlib.</p>'"
      ]
     },
     "execution_count": 7,
     "metadata": {},
     "output_type": "execute_result"
    }
   ],
   "source": [
    "pagine[0][\"contenuto\"].lower()"
   ]
  },
  {
   "cell_type": "markdown",
   "metadata": {},
   "source": [
    "adesso, `matplotlib` in minuscolo verrà trovato nella stringa generata dall'espressione qua sopra: "
   ]
  },
  {
   "cell_type": "code",
   "execution_count": 8,
   "metadata": {},
   "outputs": [
    {
     "data": {
      "text/plain": [
       "True"
      ]
     },
     "execution_count": 8,
     "metadata": {},
     "output_type": "execute_result"
    }
   ],
   "source": [
    "\"matplotlib\" in pagine[0][\"contenuto\"].lower()"
   ]
  },
  {
   "cell_type": "markdown",
   "metadata": {},
   "source": [
    "Per essere sempre sicuri di trovare quello che l'utente cerca, conviene chiamare `.lower()` anche sulla stringa dell'utente:"
   ]
  },
  {
   "cell_type": "code",
   "execution_count": 9,
   "metadata": {},
   "outputs": [
    {
     "data": {
      "text/plain": [
       "True"
      ]
     },
     "execution_count": 9,
     "metadata": {},
     "output_type": "execute_result"
    }
   ],
   "source": [
    "\"matplotlib\".lower() in pagine[0][\"contenuto\"].lower()"
   ]
  },
  {
   "cell_type": "code",
   "execution_count": 10,
   "metadata": {},
   "outputs": [
    {
     "data": {
      "text/plain": [
       "True"
      ]
     },
     "execution_count": 10,
     "metadata": {},
     "output_type": "execute_result"
    }
   ],
   "source": [
    "\"Matplotlib\".lower() in pagine[0][\"contenuto\"].lower()"
   ]
  },
  {
   "cell_type": "markdown",
   "metadata": {},
   "source": [
    "Proviamo a scrivere una ricerca più furba `ricerca2` che applica quanto visto sopra:"
   ]
  },
  {
   "cell_type": "code",
   "execution_count": 11,
   "metadata": {},
   "outputs": [],
   "source": [
    "def ricerca2(stringa):\n",
    "    risultati = []\n",
    "    for pagina in pagine:\n",
    "        if stringa.lower() in pagina['contenuto'].lower():\n",
    "            risultati.append(pagina)\n",
    "    return risultati"
   ]
  },
  {
   "cell_type": "code",
   "execution_count": 12,
   "metadata": {},
   "outputs": [
    {
     "data": {
      "text/plain": [
       "[{'url': 'https://it.softpython.org',\n",
       "  'contenuto': '<h2>Presentazione</h2><p>Il corso SoftPython fornisce un’introduzione al processamento dati usando Python, un linguaggio di programmazione popolare sia nell’industria che nell’ambito della ricerca. Fra le varie cose tratteremo Matplotlib.</p>'},\n",
       " {'url': 'https://it.softpython.org/visualization/visualization-sol.html',\n",
       "  'contenuto': '<h2>Visualizzazione</h2> <p>Excel ci permette di creare molti tipi di visualizzazione ma a volte è limitato, perciò useremo Python facendo grafici in Matplotlib. Matplotlib è una libreria eccezionale che consente di creare qualunque visualizzazione desideriamo. Procediamo dunque a importare matplotlib in Python:</p>'}]"
      ]
     },
     "execution_count": 12,
     "metadata": {},
     "output_type": "execute_result"
    }
   ],
   "source": [
    "ricerca2(\"matplotlib\")"
   ]
  },
  {
   "cell_type": "code",
   "execution_count": 13,
   "metadata": {},
   "outputs": [
    {
     "data": {
      "text/plain": [
       "[{'url': 'https://it.softpython.org',\n",
       "  'contenuto': '<h2>Presentazione</h2><p>Il corso SoftPython fornisce un’introduzione al processamento dati usando Python, un linguaggio di programmazione popolare sia nell’industria che nell’ambito della ricerca. Fra le varie cose tratteremo Matplotlib.</p>'},\n",
       " {'url': 'https://it.softpython.org/visualization/visualization-sol.html',\n",
       "  'contenuto': '<h2>Visualizzazione</h2> <p>Excel ci permette di creare molti tipi di visualizzazione ma a volte è limitato, perciò useremo Python facendo grafici in Matplotlib. Matplotlib è una libreria eccezionale che consente di creare qualunque visualizzazione desideriamo. Procediamo dunque a importare matplotlib in Python:</p>'}]"
      ]
     },
     "execution_count": 13,
     "metadata": {},
     "output_type": "execute_result"
    }
   ],
   "source": [
    "ricerca2(\"Matplotlib\")"
   ]
  },
  {
   "cell_type": "markdown",
   "metadata": {},
   "source": [
    "### Performance\n",
    "\n",
    "**DOMANDA**: \n",
    "\n",
    "- Se abbiamo miliardi di pagine, conviene cercarle in una lista? Se la stringa che cerchiamo sta nell'ultima pagina, l'algoritmo di ricerca quante pagine guarda prima di trovare quella d'interesse?\n",
    "- Che strutture dati alternative potremmo usare per la ricerca? "
   ]
  },
  {
   "cell_type": "raw",
   "id": "e7dc5baa",
   "metadata": {
    "format": "text/html"
   },
   "source": [
    "<a  class=\"jupman-sol jupman-sol-toggler\" \n",
    " onclick=\"jupman.toggleSolution(this);\" \n",
    " data-jupman-show=\"Mostra risposta\" data-jupman-hide=\"Nascondi\">Mostra risposta</a><div class=\"jupman-sol jupman-sol-question\" style=\"display:none\">  "
   ]
  },
  {
   "cell_type": "markdown",
   "metadata": {},
   "source": [
    "**RISPOSTA**: Ci converra _indicizzare_ le pagine, cioè avere un indice che ci dice per ogni parola di ricerca in quali pagine possiamo trovarla. \n",
    "\n",
    "* Per implementare questa corrispondenza in Python possiamo usare i dizionari. \n",
    "* Per convenienza, ci conviene indicare le pagine con il numero che abbiamo usato quando le abbiamo messe nella listona. \n",
    "* Di nuovo per convenienza, metteremo solo parole in minuscolo.\n",
    "\n",
    "Quindi potrebbe essere  una cosa del genere: \n",
    "\n",
    "```python\n",
    "{\n",
    "    \"linguaggio\":  [0],    # la stringa \"linguaggio\" sta alla pagina zeresima della listona\n",
    "    \"matplotlib\" : [0,1], # la stringa \"matplotlib\" sta nelle pagine zeresima e unesima  della listona\n",
    "    \"importare\" :  [1]     # \"importare\" sta solo nella pagina sulla visualizzazione\n",
    "}\n",
    "```\n"
   ]
  },
  {
   "cell_type": "raw",
   "id": "8bea667a",
   "metadata": {
    "format": "text/html"
   },
   "source": [
    "</div>"
   ]
  },
  {
   "cell_type": "markdown",
   "metadata": {},
   "source": [
    "### Ordinamento\n",
    "\n",
    "Osserva di nuovo bene il testo delle pagine. Noti delle particolarità / differenze tra le due pagine ?\n"
   ]
  },
  {
   "cell_type": "code",
   "execution_count": 14,
   "metadata": {},
   "outputs": [],
   "source": [
    "pagine = [\n",
    "            {\n",
    "                'url': 'http://it.softpython.org',\n",
    "                'contenuto' : '<h2>Presentazione</h2><p>Il corso SoftPython fornisce un’introduzione al processamento dati usando Python, un linguaggio diprogrammazione popolare sia nell’industria che nell’ambito della ricerca. Fra le varie cose tratteremo Matplotlib.</p>'\n",
    "            },\n",
    "            {\n",
    "                'url': 'https://it.softpython.org/visualization/visualization-sol.html',\n",
    "                'contenuto' : '<h2>Visualizzazione</h2> <p>Excel ci permette di creare molti tipi di visualizzazione ma a volte è limitato, perciò useremo Python facendo grafici in Matplotlib. Matplotlib è una libreria eccezionale che consente di creare qualunque visualizzazione desideriamo. Procediamo dunque a importare matplotlib in Python:</p>'\n",
    "            }\n",
    "        ]"
   ]
  },
  {
   "cell_type": "markdown",
   "metadata": {},
   "source": [
    "Se l'utente cerca solo la stringa `\"matplotlib\"`, visto che è presente in entrambe le pagine  ci aspettiamo che vengano ritornate entrambe:"
   ]
  },
  {
   "cell_type": "code",
   "execution_count": 15,
   "metadata": {},
   "outputs": [
    {
     "data": {
      "text/plain": [
       "[{'url': 'http://it.softpython.org',\n",
       "  'contenuto': '<h2>Presentazione</h2><p>Il corso SoftPython fornisce un’introduzione al processamento dati usando Python, un linguaggio diprogrammazione popolare sia nell’industria che nell’ambito della ricerca. Fra le varie cose tratteremo Matplotlib.</p>'},\n",
       " {'url': 'https://it.softpython.org/visualization/visualization-sol.html',\n",
       "  'contenuto': '<h2>Visualizzazione</h2> <p>Excel ci permette di creare molti tipi di visualizzazione ma a volte è limitato, perciò useremo Python facendo grafici in Matplotlib. Matplotlib è una libreria eccezionale che consente di creare qualunque visualizzazione desideriamo. Procediamo dunque a importare matplotlib in Python:</p>'}]"
      ]
     },
     "execution_count": 15,
     "metadata": {},
     "output_type": "execute_result"
    }
   ],
   "source": [
    "ricerca2(\"matplotlib\")"
   ]
  },
  {
   "cell_type": "markdown",
   "metadata": {},
   "source": [
    "**DOMANDA**: Pensiamo all'ordine delle pagine. E' il migliore che possiamo fornire all'utente? Secondo te, qual'è la pagina che contiene più informazione riguardo Matplotlib e che andrebbe messa per prima? "
   ]
  },
  {
   "cell_type": "raw",
   "id": "2bdf4470",
   "metadata": {
    "format": "text/html"
   },
   "source": [
    "<a  class=\"jupman-sol jupman-sol-toggler\" \n",
    " onclick=\"jupman.toggleSolution(this);\" \n",
    " data-jupman-show=\"Mostra risposta\" data-jupman-hide=\"Nascondi\">Mostra risposta</a><div class=\"jupman-sol jupman-sol-question\" style=\"display:none\">  "
   ]
  },
  {
   "cell_type": "markdown",
   "metadata": {},
   "source": [
    "**RISPOSTA**: \n",
    "    \n",
    "Ovviamente, noi umani sappiamo la pagina specifica sulla Visualizzazione sarà quella preferita dall'utente. Per capirlo automaticamente con un algoritmo possiamo notare che la frequenza di `\"Matplotlib\"` è mggiore nella seconda pagina rispetto alla prima. Possiamo farci dire la frequenza da Python con il comando `count`:"
   ]
  },
  {
   "cell_type": "raw",
   "id": "3040419e",
   "metadata": {
    "format": "text/html"
   },
   "source": [
    "</div>"
   ]
  },
  {
   "cell_type": "code",
   "execution_count": 16,
   "metadata": {},
   "outputs": [
    {
     "data": {
      "text/plain": [
       "1"
      ]
     },
     "execution_count": 16,
     "metadata": {},
     "output_type": "execute_result"
    }
   ],
   "source": [
    "pagine[0][\"contenuto\"].lower().count(\"Matplotlib\".lower())"
   ]
  },
  {
   "cell_type": "code",
   "execution_count": 17,
   "metadata": {},
   "outputs": [
    {
     "data": {
      "text/plain": [
       "3"
      ]
     },
     "execution_count": 17,
     "metadata": {},
     "output_type": "execute_result"
    }
   ],
   "source": [
    "pagine[1][\"contenuto\"].lower().count(\"Matplotlib\".lower())"
   ]
  },
  {
   "cell_type": "markdown",
   "metadata": {},
   "source": [
    "**ESERCIZIO**: Assegna ad ogni pagina un valore di rilevanza (_relevance_)  ,  che permetta di determinare l'ordine (_rank_) in cui ritornare le pagine. Le pagine con rilevanza più alta devono essere presentate per prime nella lista ritornata"
   ]
  },
  {
   "cell_type": "code",
   "execution_count": 18,
   "metadata": {},
   "outputs": [],
   "source": [
    "# scrivi qui\n",
    "\n"
   ]
  },
  {
   "cell_type": "markdown",
   "metadata": {},
   "source": [
    "## Prendiamo le distanze\n"
   ]
  },
  {
   "cell_type": "markdown",
   "metadata": {},
   "source": [
    "### Un mondo di errori\n",
    "\n",
    "\n",
    "Purtroppo, gli utenti non conoscono a priori il contenuto delle pagine che stanno cercando, e non sono nemmeno tutti dei pignoli letterati. Finchè cerchiamo parole che sono esattamente contenute nel testo va tutto bene:"
   ]
  },
  {
   "cell_type": "code",
   "execution_count": 19,
   "metadata": {},
   "outputs": [
    {
     "data": {
      "text/plain": [
       "[{'url': 'https://it.softpython.org/visualization/visualization-sol.html',\n",
       "  'contenuto': '<h2>Visualizzazione</h2> <p>Excel ci permette di creare molti tipi di visualizzazione ma a volte è limitato, perciò useremo Python facendo grafici in Matplotlib. Matplotlib è una libreria eccezionale che consente di creare qualunque visualizzazione desideriamo. Procediamo dunque a importare matplotlib in Python:</p>'}]"
      ]
     },
     "execution_count": 19,
     "metadata": {},
     "output_type": "execute_result"
    }
   ],
   "source": [
    "ricerca2('grafici')"
   ]
  },
  {
   "cell_type": "markdown",
   "metadata": {},
   "source": [
    "Ma se hai provato a scrivere le tue funzioni di ricerca, ti sarai reso ben presto conto di un problema di usabilità serio: cosa succede se l'utente inserisce una stringa contenente errori di battitura, come `grufici` (nota la `u`) ? \n",
    "In presenza di una stringa con errori il nostro motore fallirà la ricerca:"
   ]
  },
  {
   "cell_type": "code",
   "execution_count": 20,
   "metadata": {},
   "outputs": [
    {
     "data": {
      "text/plain": [
       "[]"
      ]
     },
     "execution_count": 20,
     "metadata": {},
     "output_type": "execute_result"
    }
   ],
   "source": [
    "ricerca2('grufici')"
   ]
  },
  {
   "cell_type": "markdown",
   "metadata": {},
   "source": [
    "Questo fenomeno degli errori è molto comune, pensiamo a quanti ne commettiamo specialmente quando scriviamo da dispositivi come gli smartphone"
   ]
  },
  {
   "cell_type": "markdown",
   "metadata": {},
   "source": [
    "\n",
    "### Varie forme\n",
    "\n",
    "In una lingua come l'italiano, il tema della presenza degli errori si interseca parzialmente col fatto che le parole possono contenere desinenze, avere forma singolare/plurale, maschile / femminile etc. Quindi se cercassimo `\"grafico\"` al singolare avremmo pure dei problemi:"
   ]
  },
  {
   "cell_type": "code",
   "execution_count": 21,
   "metadata": {},
   "outputs": [
    {
     "data": {
      "text/plain": [
       "[]"
      ]
     },
     "execution_count": 21,
     "metadata": {},
     "output_type": "execute_result"
    }
   ],
   "source": [
    "ricerca2('grafico')"
   ]
  },
  {
   "cell_type": "markdown",
   "metadata": {},
   "source": [
    "\n",
    "Possiamo quindi chiederci cosa nella nostra mente ci fa interpretare `grufici` come qualcosa di _simile_ a `grafici`. Proviamo a scrivere una serie di casistiche. \n",
    "\n",
    "\n",
    "\n",
    "* una lettera in meno: `grfici`\n",
    "* una lettera in più : `graficii`\n",
    "* una lettera diversa: `grufici`\n",
    "\n",
    "\n",
    "* due lettere in meno: `grfc`\n",
    "* due lettera in più : `grraficii`\n",
    "* due lettera diversa: `grufbci`\n",
    "\n",
    "\n",
    "* una lettera in meno e una in più: `grficii`\n",
    "* una lettera diversa e una in più: `gruficii`\n",
    "\n",
    "\n",
    "* una lettera in meno, una diversa e una in più: `grufbcii`\n",
    "* ...\n",
    "\n",
    "**DOMANDA**: Quali ti sembrano le forme più _simili_ ? \n",
    "\n"
   ]
  },
  {
   "cell_type": "raw",
   "id": "67b1b5a7",
   "metadata": {
    "format": "text/html"
   },
   "source": [
    "<a  class=\"jupman-sol jupman-sol-toggler\" \n",
    " onclick=\"jupman.toggleSolution(this);\" \n",
    " data-jupman-show=\"Mostra risposta\" data-jupman-hide=\"Nascondi\">Mostra risposta</a><div class=\"jupman-sol jupman-sol-question\" style=\"display:none\">  "
   ]
  },
  {
   "cell_type": "markdown",
   "metadata": {},
   "source": [
    "**RISPOSTA**: \n",
    "\n",
    "Sicuramente, `grufici` ci sembra più _simile_ a `grafici` di `grufbicii`. Ci è bastato contare quante lettere sono state cambiate, aggiunte o tolte per passare da una forma a l'altra. \n"
   ]
  },
  {
   "cell_type": "raw",
   "id": "2e0a7f11",
   "metadata": {
    "format": "text/html"
   },
   "source": [
    "</div>"
   ]
  },
  {
   "cell_type": "markdown",
   "metadata": {},
   "source": [
    "### Un mondo di distanze\n",
    "\n",
    "Guardando gli esempi sopra, ci rendiamo presto conto di come date due parole, anche molto diverse tra loro, possiamo trovare quante e quali operazioni si possono compiere per _trasformarle_ l'una nell'altra. Minore è il numero di operazioni, maggiore ci apparirà la _similarità_ tra le due parole. \n",
    "\n",
    "**ESERCIZIO**: Immagina di piazzare una decina parole sul pavimento di una stanza, e fai un disegno (sì, con la cara e vecchia carta):  prova a mettere parole simili vicine, quindi `grufici` sarà più vicina a `grafici`, mentre `grufbcii` sarà più lontana. `grufbcii` e `grufici` saranno un po' più vicine tra loro. Quando la _distanza_ è piccola, la _similarità_ tra le parole deve essere più grande.\n",
    "\n"
   ]
  },
  {
   "cell_type": "markdown",
   "metadata": {},
   "source": [
    "Se hai fatto il disegno, hai appena creato uno _spazio_. Però di spazi ce ne sono tanti. Tu hai disegnato su foglio, immaginando che fosse il pavimento di una stanza, che è bidimensionale. Forse avrai avuto difficoltà a piazzare alcune parole, perchè magari avevano senso vicine ad alcune ma fatalmente si trovavano vicine ad altre da cui erano molto diverse. \n",
    "\n",
    "**DOMANDA**: E se potessimo appendere  le parole con dei fili al soffitto ti aiuterebbe (supponi di poter scegliere per ogni parola la lunghezza del filo) ?  Potrebbe servire avere più 'spazio'?"
   ]
  },
  {
   "cell_type": "markdown",
   "metadata": {},
   "source": [
    "\n",
    "### Quale spazio\n",
    "\n",
    "Sicuramente questa cosa delle distanze tra parole ti ha sorpreso un po'. Noi siamo abituati alle distanze nel nostro mondo fisico, per esempio sappiamo dire se un oggetto è fisicamente vicino ad un altro. Però spesso anche nella quotidianità usiamo la distanza in modo figurativo, per esempio diciamo se una persona è _vicina_ ad un'altra quando ne condivide i sentimenti, magari in un momento di difficoltà. \n",
    "\n",
    "Quando si parla di distanze, bisogna imperativamente considerare tre cose: \n",
    "\n",
    "1. gli oggetti che vogliamo considerare\n",
    "2. lo spazio in cui misuriamo\n",
    "3. un sistema di  misura con cui per l'appunto misuriamo le distanze. Esempi:\n",
    "\n"
   ]
  },
  {
   "cell_type": "markdown",
   "metadata": {},
   "source": [
    "#### Distanza tra stringhe\n",
    "\n",
    "Quella che abbiamo visto sulle stringhe si chiama anche _distanza di edit_. Vediamo le caratteristiche:\n",
    "\n",
    "1. oggetti: stringhe\n",
    "2. spazio: tutte le possibile stringhe (anche quelle senza senso, e anche la stringa vuota)\n",
    "3. misura di distanza: numero di caratteri da modificare per trasforamare una stringa in un'altra\n",
    "\n"
   ]
  },
  {
   "cell_type": "markdown",
   "metadata": {},
   "source": [
    "#### Distanza fisica tra oggetti nel piano\n",
    "\n",
    "Se abbiamo un oggetto A nella stanza e vogliamo arrivare ad un oggetto B in un altro punto, possiamo facilmente calcolare quanti passi ci servono. Se abbiamo un metro, possiamo anche essere più precisi.\n",
    "\n",
    "1. oggetti: cose del mondo fisico (bisogna decidere quali, si potrebbe considerare solo quelli con peso > 1 Kg)\n",
    "2. spazio: [spazio euclideo](https://it.wikipedia.org/wiki/Spazio_euclideo) \n",
    "3. misura di distanza: [distanza euclidea](https://it.wikipedia.org/wiki/Distanza_euclidea)\n",
    "\n",
    "![distanza euclidea - Fonte Wikipedia-8372](img/distanza-euclidea.png)\n",
    "\n"
   ]
  },
  {
   "cell_type": "markdown",
   "metadata": {},
   "source": [
    "#### Distanza nel mondo \n",
    "\n",
    "\n",
    "Qua le cose si fanno più complicate. \n",
    "\n",
    "\n",
    "**DOMANDA**: Se sei in Italia e vuoi arrivare in Giappone, vai in linea retta? Attenzione: se rispondi _sì_ ti servirà una trivella molto potente :-)  \n",
    "\n",
    "1. oggetti: cose del mondo fisico (bisogna decidere quali, si potrebbe considerare solo quelli con peso > 1 Kg)\n",
    "2. spazio: [spazio sferico](https://it.wikipedia.org/wiki/Geometria_sferica) (2D o 3D)\n",
    "3. misura di distanza: [curva geodetica](https://it.wikipedia.org/wiki/Geodetica)\n",
    "\n",
    "Quando si considerano distanze nel mondo, bisogna tener conto che la Terra  è sferica, lo sanno bene navigatori e piloti. Non si può andare in linea retta,  ma invece muoversi lungo la superficie della sfera ([vedi Wikipedia](https://en.wikipedia.org/wiki/Great-circle_distance)). Questo di fatto aumenta le distanze:\n",
    "\n",
    "\n",
    "![Distanza su sfera - Fonte Wikipedia-89382](img/distanze-sfera.png)\n"
   ]
  },
  {
   "cell_type": "markdown",
   "metadata": {},
   "source": [
    "## Ricerca a prova di errore\n",
    "\n",
    "Possiamo migliorare il nostro motore di ricerca per renderlo più usabile anche in presenza di errori da parte dell'utente? \n",
    "\n",
    "**DOMANDA**: supponi di avere bella pronta una funzione `distanza_stringhe` che date due stringhe ti dice quanti caratteri occorrono per trasformare una stringa in un altra. Sfruttando questa funzione, riusciresti a migliorare il motore di ricerca ?\n"
   ]
  },
  {
   "cell_type": "markdown",
   "metadata": {},
   "source": [
    "### La distanza di Levenshtein\n",
    "\n",
    "Il matematico Russo Vladimir Levenshtein ha trovato il modo di calcolare rapidamente la distanza tra stringhe che ora prende il suo nome. Fortunamente per noi, ci sono parecchie implementazioni Python già pronte. Non ci addentreremo nell'implementazione, per capirla bene servirebbe un corso apposito di algoritmi:"
   ]
  },
  {
   "cell_type": "code",
   "execution_count": 22,
   "metadata": {},
   "outputs": [],
   "source": [
    "\n",
    "# ATTENZIONE: NON E' NECESSARIO CHE COMPRENDI COME FUNZIONA QUESTO CODICE !             \n",
    "#             CI LIMITEREMO SOLO A UTILIZZARE QUESTA FUNZIONE !!   \n",
    "#             tratto da https://stackabuse.com/levenshtein-distance-and-text-similarity-in-python/\n",
    "\n",
    "def distanza_stringhe(s, t):\n",
    "    \"\"\" \n",
    "        iterative_levenshtein(s, t) -> ldist\n",
    "        ldist is the Levenshtein distance between the strings \n",
    "        s and t.\n",
    "        For all i and j, dist[i,j] will contain the Levenshtein \n",
    "        distance between the first i characters of s and the \n",
    "        first j characters of t\n",
    "    \"\"\"\n",
    "    rows = len(s)+1\n",
    "    cols = len(t)+1\n",
    "    dist = [[0 for x in range(cols)] for x in range(rows)]\n",
    "    # source prefixes can be transformed into empty strings \n",
    "    # by deletions:\n",
    "    for i in range(1, rows):\n",
    "        dist[i][0] = i\n",
    "    # target prefixes can be created from an empty source string\n",
    "    # by inserting the characters\n",
    "    for i in range(1, cols):\n",
    "        dist[0][i] = i\n",
    "        \n",
    "    for col in range(1, cols):\n",
    "        for row in range(1, rows):\n",
    "            if s[row-1] == t[col-1]:\n",
    "                cost = 0\n",
    "            else:\n",
    "                cost = 1\n",
    "            dist[row][col] = min(dist[row-1][col] + 1,      # deletion\n",
    "                                 dist[row][col-1] + 1,      # insertion\n",
    "                                 dist[row-1][col-1] + cost) # substitution\n",
    "    #debug\n",
    "    #for r in range(rows):\n",
    "    #    print(dist[r])\n",
    "    \n",
    " \n",
    "    return dist[row][col]\n"
   ]
  },
  {
   "cell_type": "markdown",
   "metadata": {},
   "source": [
    "Proviamola:"
   ]
  },
  {
   "cell_type": "code",
   "execution_count": 23,
   "metadata": {},
   "outputs": [
    {
     "data": {
      "text/plain": [
       "1"
      ]
     },
     "execution_count": 23,
     "metadata": {},
     "output_type": "execute_result"
    }
   ],
   "source": [
    "distanza_stringhe(\"grafici\", \"grufici\")"
   ]
  },
  {
   "cell_type": "code",
   "execution_count": 24,
   "metadata": {},
   "outputs": [
    {
     "data": {
      "text/plain": [
       "1"
      ]
     },
     "execution_count": 24,
     "metadata": {},
     "output_type": "execute_result"
    }
   ],
   "source": [
    "distanza_stringhe(\"grafici\", \"grfici\")"
   ]
  },
  {
   "cell_type": "code",
   "execution_count": 25,
   "metadata": {},
   "outputs": [
    {
     "data": {
      "text/plain": [
       "2"
      ]
     },
     "execution_count": 25,
     "metadata": {},
     "output_type": "execute_result"
    }
   ],
   "source": [
    "distanza_stringhe(\"grafici\", \"gruficii\")"
   ]
  },
  {
   "cell_type": "code",
   "execution_count": 26,
   "metadata": {},
   "outputs": [
    {
     "data": {
      "text/plain": [
       "3"
      ]
     },
     "execution_count": 26,
     "metadata": {},
     "output_type": "execute_result"
    }
   ],
   "source": [
    "distanza_stringhe(\"grafici\", \"grufbcii\")"
   ]
  },
  {
   "cell_type": "markdown",
   "metadata": {},
   "source": [
    "### Ricerca per distanza sintattica\n",
    "\n",
    "La funzione `distanza_stringhe` pare fare al caso nostro ! \n",
    "\n",
    "**ESERCIZIO**: Prendendo codice dalla funzione `ricerca2`, crea una funzione `ricerca3` che restituisca risultati anche con stringhe di input aventi una distanza di Levenshtein <= 2 dalle parole corrette nel testo delle pagine. \n",
    "\n",
    "* supponi che in input siano date parole singole\n",
    "* ricordati delle pagine in cui hai già trovato una corrispondenza usando un insieme di url con la struttura dati [set](https://www.python-course.eu/python3_sets_frozensets.php)\n",
    "* Separa le parole nel testo delle pagine con la funzione split:"
   ]
  },
  {
   "cell_type": "code",
   "execution_count": 27,
   "metadata": {},
   "outputs": [
    {
     "data": {
      "text/plain": [
       "['il', 'testo', 'della', 'mia', 'pagina']"
      ]
     },
     "execution_count": 27,
     "metadata": {},
     "output_type": "execute_result"
    }
   ],
   "source": [
    "\"il testo della mia pagina\".split(\" \")"
   ]
  },
  {
   "cell_type": "raw",
   "id": "36be8127",
   "metadata": {
    "format": "text/html"
   },
   "source": [
    "<a  class=\"jupman-sol jupman-sol-toggler\" \n",
    " onclick=\"jupman.toggleSolution(this);\" \n",
    " data-jupman-show=\"Mostra soluzione\" data-jupman-hide=\"Nascondi\">Mostra soluzione</a><div class=\"jupman-sol jupman-sol-code\" style=\"display:none\">  "
   ]
  },
  {
   "cell_type": "code",
   "execution_count": 28,
   "metadata": {},
   "outputs": [],
   "source": [
    "# scrivi qui\n",
    "\n",
    "def ricerca3(stringa):\n",
    "    url_trovate = set()\n",
    "    risultati = []\n",
    "    for pagina in pagine:\n",
    "        for parola in pagina['contenuto']:\n",
    "            minuscola = stringa.lower()\n",
    "            parole_testo = pagina['contenuto'].lower().split(\" \")\n",
    "            for parola in parole_testo:\n",
    "                if not pagina[\"url\"] in url_trovate:\n",
    "                    if distanza_stringhe(stringa, parola) <= 2:\n",
    "                        risultati.append(pagina)\n",
    "                        url_trovate.add(pagina[\"url\"])\n",
    "    return risultati"
   ]
  },
  {
   "cell_type": "raw",
   "id": "ce22be69",
   "metadata": {
    "format": "text/html"
   },
   "source": [
    "</div>"
   ]
  },
  {
   "cell_type": "code",
   "execution_count": 28,
   "metadata": {},
   "outputs": [],
   "source": [
    "# scrivi qui\n",
    "\n"
   ]
  },
  {
   "cell_type": "code",
   "execution_count": 29,
   "metadata": {},
   "outputs": [
    {
     "data": {
      "text/plain": [
       "[{'url': 'https://it.softpython.org/visualization/visualization-sol.html',\n",
       "  'contenuto': '<h2>Visualizzazione</h2> <p>Excel ci permette di creare molti tipi di visualizzazione ma a volte è limitato, perciò useremo Python facendo grafici in Matplotlib. Matplotlib è una libreria eccezionale che consente di creare qualunque visualizzazione desideriamo. Procediamo dunque a importare matplotlib in Python:</p>'}]"
      ]
     },
     "execution_count": 29,
     "metadata": {},
     "output_type": "execute_result"
    }
   ],
   "source": [
    "ricerca3('grafico')"
   ]
  },
  {
   "cell_type": "code",
   "execution_count": 30,
   "metadata": {},
   "outputs": [
    {
     "data": {
      "text/plain": [
       "[{'url': 'https://it.softpython.org/visualization/visualization-sol.html',\n",
       "  'contenuto': '<h2>Visualizzazione</h2> <p>Excel ci permette di creare molti tipi di visualizzazione ma a volte è limitato, perciò useremo Python facendo grafici in Matplotlib. Matplotlib è una libreria eccezionale che consente di creare qualunque visualizzazione desideriamo. Procediamo dunque a importare matplotlib in Python:</p>'}]"
      ]
     },
     "execution_count": 30,
     "metadata": {},
     "output_type": "execute_result"
    }
   ],
   "source": [
    "ricerca3('grufici')"
   ]
  },
  {
   "cell_type": "code",
   "execution_count": 31,
   "metadata": {},
   "outputs": [
    {
     "data": {
      "text/plain": [
       "[{'url': 'https://it.softpython.org/visualization/visualization-sol.html',\n",
       "  'contenuto': '<h2>Visualizzazione</h2> <p>Excel ci permette di creare molti tipi di visualizzazione ma a volte è limitato, perciò useremo Python facendo grafici in Matplotlib. Matplotlib è una libreria eccezionale che consente di creare qualunque visualizzazione desideriamo. Procediamo dunque a importare matplotlib in Python:</p>'}]"
      ]
     },
     "execution_count": 31,
     "metadata": {},
     "output_type": "execute_result"
    }
   ],
   "source": [
    "ricerca3('gruficii')"
   ]
  },
  {
   "cell_type": "code",
   "execution_count": 32,
   "metadata": {},
   "outputs": [
    {
     "data": {
      "text/plain": [
       "[]"
      ]
     },
     "execution_count": 32,
     "metadata": {},
     "output_type": "execute_result"
    }
   ],
   "source": [
    "ricerca3('grufbcii') # distanza = 3   > 2"
   ]
  },
  {
   "cell_type": "markdown",
   "metadata": {},
   "source": [
    "## Similarità semantica"
   ]
  },
  {
   "cell_type": "markdown",
   "metadata": {},
   "source": [
    "Il calcolo della similarità di testi è uno strumento potente per costruire rapidamente sistemi di ricerca intelligenti.\n",
    "\n",
    "Finora abbiamo visto la _similarità sintattica_, cioè abbiamo guardato i singoli caratteri. Ma ovviamente un testo non è solo una sequenza di caratteri, per noi è una sequenza di parole con _significato_. Il ramo della Data science che si occupa del _significato_ delle parole è la _semantica_ . Nel contesto del web, possiamo parlare di [Semantic web](https://it.wikipedia.org/wiki/Web_semantico)\n",
    "\n",
    "Vediamo di sfruttare i significati nel testo. Per esempio, pensiamo ad un’impresa che dopo aver trovato un bando di gara interessante pubblicato dal Comune di Trento. potrebbe voler cercare bandi o avvisi simili , per esempio per capire quali sono stati i criteri di selezione e per individuare quanti e quali potenziali aziende concorrenti hanno partecipato al bando. Per comprendere con metodi automatici quanto il testo di un bando assomigli ad un’altro, si potrebbero usare i servizi di text similarity offerti da [Dandelion](https://dandelion.eu) dell'azienda [SpazioDati](https://spaziodati.eu). \n",
    "\n",
    "Un servizio di text similarity prende due testi e calcola un valore di similarità come un numero da `0.0` a `1.0`. [In questo esempio](https://dandelion.eu/semantic-text/text-similarity-demo/?text1=Lavori+di+sistemazione+pavimentazione+rampa+di+accesso+al+Parco+di+Mattarello+-+AggiudicazioneVerbale+di+gara+-+Provvedimento+che+determina+le+esclusioni+dall&text2=Le+opere+che+formano+oggetto+dell%27appalto+possono+riassumersi+in+via+puramente+indicativa+come+di+seguito%3A+pavimentazioni%3B-+reti+idrauliche%3B-+impianto+di+illuminazione+pubblica&lang=auto&exec=true) viene mostrato come venga rilevata una qualche somiglianza tra due testi che trattano di pavimentazione stradale.\n"
   ]
  },
  {
   "cell_type": "markdown",
   "metadata": {},
   "source": [
    "![similarity-bandi-dandelion-134324](img/similarity-bandi-dandelion.png)"
   ]
  },
  {
   "cell_type": "markdown",
   "metadata": {},
   "source": [
    "### Ricerca veloce\n",
    "\n",
    "Al fine di avere un servizio di ricerca di similarità veloce, ogni volta che viene effettuata una ricerca non conviene confrontare il testo con tutti gli altri `n-1` , perché potrebbe via potenzialmente parecchio tempo e l’utente nel frattempo potrebbe stufarsi. Una ottimizzazione potrebbe essere precalcolare tutte le similarità necessarie al momento dell’ottenimento i dati, costruendo una tabella di similarità. Così,  quando un utente ci indica un testo, possiamo cercare rapidamente nella nostra tabella quali sono i testi  maggiormente simili, senza più nemmeno usare il servizio di similarità. \n",
    "La tabella può avere la forma di una matrice diagonale come la seguente. Supponendo di avere `n=4` testi, chiameremo il servizio di similarità per riempire solo le celle nella parte superiore così:"
   ]
  },
  {
   "cell_type": "markdown",
   "metadata": {},
   "source": [
    "![similarity-table-dandelion-1.8212](img/similarity-table-dandelion-1.png)"
   ]
  },
  {
   "cell_type": "markdown",
   "metadata": {},
   "source": [
    "Per riempire la prima riga serviranno `n - 1` confronti, per la seconda  `n - 2`, per la terza `n - 3` e così via.\n",
    "\n",
    "In totale le chiamate al servizio di text similarity saranno  \n",
    "\n",
    "$$\\frac{((n-1)^2 + (n-1))}{2}   \n",
    "=  \\frac{(n^2 - 2n + 1 + n - 1)}{2}\n",
    "=  \\frac{(n^2 - n)}{2}$$\n",
    "\n",
    "Una volta ottenuta la tabella sopra, i restanti valori si possono calcolare rapidamente sapendo che un testo ha sempre similarità `1.0` con se stesso e gli altri valori si possono ricavare per simmetria lungo la diagonale. Qua li abbiamo scritti per motivi di chiarezza, ma di fatto non serve nemmeno materializzarli in memoria:\n"
   ]
  },
  {
   "cell_type": "markdown",
   "metadata": {},
   "source": [
    "![similarity-table-dandelion-2-829383](img/similarity-table-dandelion-2.png)"
   ]
  },
  {
   "cell_type": "markdown",
   "metadata": {},
   "source": [
    "### Il prezzo del successo\n",
    "\n",
    "Fatta la startup, dopo la geniale idea della tabella per avere ricerche veloci, abbiamo trovato i primi utenti in Trentino e sono entusiasti del nostro servizio. Convinciamo anche dei venture capitalist a investire denaro sonante nella nostra impresa. Ebbri di successo, pensiamo al futuro radioso: è tempo di conquistare il mondo intero.\n",
    "\n",
    "Mentre pensiamo beati al prossimo modello di _Lambo_ da comprare, all’improvviso una domanda sfreccia nella nostra testa come un fulmine, incenerendo senza pietà l’auto dei nostri sogni:"
   ]
  },
  {
   "cell_type": "markdown",
   "metadata": {},
   "source": [
    "#### Ma  l’algoritmo scala?"
   ]
  },
  {
   "cell_type": "markdown",
   "metadata": {},
   "source": [
    "Una volta che abbiamo la tabella possiamo fare ricerche molto più rapide, ma se avessimo un miliardo di bandi da analizzare, quante celle ci sarebbero nella tabella risultante ?  Quali sarebbero le conseguenze? \n",
    "\n",
    "Per oggi, ci fermiamo qui con l’ottimizzazione. Quanto segue è solo un invito a pensare ai big data e a cosa implicano.\n",
    "\n",
    "Di solito si analizzano il tempo e lo spazio:\n",
    "\n",
    "**Tempo**: supponendo che ci voglia 1 secondo al servizio di similarità per calcolare ogni similarità, quanto tempo ci metterebbe a riempire la tabella superiore in minuti, ore, giorni, ….?\n",
    "\n",
    "**Spazio**: Supponendo per semplicità che ogni cella occupi un byte, e sapendo che un gigabyte sono un miliardo di byte (1.000.000.000):\n",
    "\n",
    "- quanti byte ci servirebbero? \n",
    "- Che unità di misura useremmo? Puoi consultare [Wikipedia](https://en.wikipedia.org/wiki/Unit_prefix) per trovare il nome giusto.\n",
    "- Secondo te sarebbe realistico salvare la tabella in un solo server? \n",
    "- Se usassimo solo la parte superiore della tabella, ridurremmo sostanzialmente lo spazio occupato ? \n",
    "\n",
    "**DOMANDA**: (solo da pensare, niente implementazione !!): Riesci ad immaginare qualche alternativa alla tabellona ? Suggerimento: Se un pino è simile ad un abete nano, e l’abete nano è simile ad un cespuglio, possiamo dire qualcosa sul grado di similarità tra il pino e il cespuglio ? "
   ]
  },
  {
   "cell_type": "code",
   "execution_count": null,
   "metadata": {},
   "outputs": [],
   "source": []
  }
 ],
 "metadata": {
  "celltoolbar": "Edit Metadata",
  "kernelspec": {
   "display_name": "Python 3 (ipykernel)",
   "language": "python",
   "name": "python3"
  },
  "language_info": {
   "codemirror_mode": {
    "name": "ipython",
    "version": 3
   },
   "file_extension": ".py",
   "mimetype": "text/x-python",
   "name": "python",
   "nbconvert_exporter": "python",
   "pygments_lexer": "ipython3",
   "version": "3.7.10"
  },
  "toc": {
   "base_numbering": 1,
   "nav_menu": {},
   "number_sections": false,
   "sideBar": true,
   "skip_h1_title": false,
   "title_cell": "Table of Contents",
   "title_sidebar": "Contents",
   "toc_cell": false,
   "toc_position": {},
   "toc_section_display": true,
   "toc_window_display": true
  }
 },
 "nbformat": 4,
 "nbformat_minor": 2
}

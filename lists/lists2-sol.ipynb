{
 "cells": [
  {
   "cell_type": "code",
   "execution_count": 1,
   "metadata": {
    "nbsphinx": "hidden"
   },
   "outputs": [],
   "source": [
    "# Ricordati di eseguire questa cella con Shift+Invio\n",
    "\n",
    "import jupman"
   ]
  },
  {
   "cell_type": "markdown",
   "metadata": {},
   "source": [
    "# Liste 2 - operatori \n",
    "\n",
    "## [Scarica zip esercizi](../_static/generated/lists.zip)\n",
    "\n",
    "[Naviga file online](https://github.com/DavidLeoni/softpython-it/tree/master/lists)\n",
    "\n",
    "Per manipolare le liste vi sono diversi operatori. I seguenti si comportano come quelli visti per le stringhe.\n",
    "\n",
    "|Operatore|Esempio|Risultato|Significato|\n",
    "|---------|-------|---------|-----------|\n",
    "|[lunghezza](#Lunghezza-di-una-lista)|`len`(lst)|`int`|Ritorna la lunghezza di una lista|\n",
    "|[indice](#Leggere-un-elemento)|list`[`int`]`|`object`|Legge/scrive un elemento all'indice specificato|\n",
    "|[slice](#Slice)|list`[`int`:`int`]`|`list`| Estrae una sotto-lista - ritorna una NUOVA lista|\n",
    "|[inclusione](#Operatore-in)|object `in` list|`bool`|Controlla se un elemento è presente in una lista|\n",
    "|[concatenazione](#Concatenazione-di-liste-con-+)|list `+` list|`list`|Concatena due liste - ritorna una NUOVA lista|\n",
    "|[massimo](#min-e-max)|`max`(lst)|`int`|Data una lista di numeri, ritorna il massimo|\n",
    "|[minimo](#min-e-max)|`min`(lst)|`int`|Data una lista di numeri, ritorna il minimo|\n",
    "|[somma](#sum)|`sum`(lst)|`int`|Data una lista di numeri, li somma tutti|\n",
    "|[replicazione](#Replicazione-per-liste)|list `*` int|`list`| Replica la lista - ritorna una NUOVA lista|\n",
    "|[uguglianza](#Uguaglianza)|`==`,`!=`|`bool`| Controlla se due liste sono uguali o differenti|\n"
   ]
  },
  {
   "cell_type": "markdown",
   "metadata": {},
   "source": [
    "\n",
    "## Che fare\n",
    "\n",
    "- scompatta lo zip in una cartella, dovresti ottenere qualcosa del genere: \n",
    "\n",
    "```\n",
    "\n",
    "lists\n",
    "    lists1.ipynb\n",
    "    lists1-sol.ipynb         \n",
    "    lists2.ipynb\n",
    "    lists2-sol.ipynb         \n",
    "    lists3.ipynb\n",
    "    lists3-sol.ipynb         \n",
    "    lists4.ipynb\n",
    "    lists4-sol.ipynb         \n",
    "    lists5-chal.ipynb\n",
    "    jupman.py         \n",
    "```\n",
    "\n",
    "<div class=\"alert alert-warning\">\n",
    "\n",
    "**ATTENZIONE**: Per essere visualizzato correttamente, il file del notebook DEVE essere nella cartella szippata.\n",
    "</div>\n",
    "\n",
    "- apri il Jupyter Notebook da quella cartella. Due cose dovrebbero aprirsi, prima una console e poi un browser. Il browser dovrebbe mostrare una lista di file: naviga la lista e apri il notebook `lists2.ipynb`\n",
    "- Prosegui leggendo il file degli esercizi, ogni tanto al suo interno troverai delle scritte **ESERCIZIO**, che ti chiederanno di scrivere dei comandi Python nelle celle successive. \n",
    "\n",
    "\n",
    "Scorciatoie da tastiera:\n",
    "\n",
    "* Per eseguire il codice Python dentro una cella di Jupyter, premi `Control+Invio`\n",
    "* Per eseguire il codice Python dentro una cella di Jupyter E selezionare la cella seguente, premi `Shift+Invio`\n",
    "* Per eseguire il codice Python dentro una cella di Jupyter E creare una nuova cella subito dopo, premi `Alt+Invio`\n",
    "* Se per caso il Notebook sembra inchiodato, prova a selezionare `Kernel -> Restart`"
   ]
  },
  {
   "cell_type": "markdown",
   "metadata": {},
   "source": [
    "## Lunghezza di una lista\n",
    "\n",
    "Una lista è una sequenza, e come per tutte le sequenze per ottenere la lunghezza si può usare la funzione `len`:\n"
   ]
  },
  {
   "cell_type": "code",
   "execution_count": 2,
   "metadata": {},
   "outputs": [],
   "source": [
    "a = [7,5,8]"
   ]
  },
  {
   "cell_type": "code",
   "execution_count": 3,
   "metadata": {},
   "outputs": [
    {
     "data": {
      "text/plain": [
       "3"
      ]
     },
     "execution_count": 3,
     "metadata": {},
     "output_type": "execute_result"
    }
   ],
   "source": [
    "len(a)"
   ]
  },
  {
   "cell_type": "code",
   "execution_count": 4,
   "metadata": {},
   "outputs": [],
   "source": [
    "b = [8,3,6,4,7]"
   ]
  },
  {
   "cell_type": "code",
   "execution_count": 5,
   "metadata": {},
   "outputs": [
    {
     "data": {
      "text/plain": [
       "5"
      ]
     },
     "execution_count": 5,
     "metadata": {},
     "output_type": "execute_result"
    }
   ],
   "source": [
    "len(b)"
   ]
  },
  {
   "cell_type": "markdown",
   "metadata": {},
   "source": [
    "Se una lista contiene altre liste, contano come singoli elementi:"
   ]
  },
  {
   "cell_type": "code",
   "execution_count": 6,
   "metadata": {},
   "outputs": [],
   "source": [
    "mista = [ \n",
    "            [4,5,1],\n",
    "            [8,6],\n",
    "            [7,6,0,8],\n",
    "        ]"
   ]
  },
  {
   "cell_type": "code",
   "execution_count": 7,
   "metadata": {},
   "outputs": [
    {
     "data": {
      "text/plain": [
       "3"
      ]
     },
     "execution_count": 7,
     "metadata": {},
     "output_type": "execute_result"
    }
   ],
   "source": [
    "len(mista)"
   ]
  },
  {
   "cell_type": "markdown",
   "metadata": {},
   "source": [
    "<div class=\"alert alert-warning\">\n",
    "\n",
    "**ATTENZIONE: NON puoi usare `len` come se fosse un metodo**\n",
    "\n",
    "`[3,4,2].len() #SBAGLIATO`\n",
    "\n",
    "</div>"
   ]
  },
  {
   "cell_type": "markdown",
   "metadata": {},
   "source": [
    "**ESERCIZIO**: Prova a scrivere `[3,4,2].len()` qua sotto, che errore appare?"
   ]
  },
  {
   "cell_type": "raw",
   "id": "f410d4cb",
   "metadata": {
    "format": "text/html"
   },
   "source": [
    "<a  class=\"jupman-sol jupman-sol-toggler\" \n",
    " onclick=\"jupman.toggleSolution(this);\" \n",
    " data-jupman-show=\"Mostra soluzione\" data-jupman-hide=\"Nascondi\">Mostra soluzione</a><div class=\"jupman-sol jupman-sol-code\" style=\"display:none\">  "
   ]
  },
  {
   "cell_type": "code",
   "execution_count": 8,
   "metadata": {},
   "outputs": [],
   "source": [
    "# scrivi qui\n",
    "\n",
    "#[3,4,2].len()"
   ]
  },
  {
   "cell_type": "raw",
   "id": "a053480c",
   "metadata": {
    "format": "text/html"
   },
   "source": [
    "</div>"
   ]
  },
  {
   "cell_type": "code",
   "execution_count": 8,
   "metadata": {},
   "outputs": [],
   "source": [
    "# scrivi qui\n",
    "\n"
   ]
  },
  {
   "cell_type": "markdown",
   "metadata": {},
   "source": [
    "**ESERCIZIO**: Prova a scrivere `[3,4,2].len` SENZA le doppie tonde alla fine, che errore appare?"
   ]
  },
  {
   "cell_type": "raw",
   "id": "46fe0a7c",
   "metadata": {
    "format": "text/html"
   },
   "source": [
    "<a  class=\"jupman-sol jupman-sol-toggler\" \n",
    " onclick=\"jupman.toggleSolution(this);\" \n",
    " data-jupman-show=\"Mostra soluzione\" data-jupman-hide=\"Nascondi\">Mostra soluzione</a><div class=\"jupman-sol jupman-sol-code\" style=\"display:none\">  "
   ]
  },
  {
   "cell_type": "code",
   "execution_count": 9,
   "metadata": {},
   "outputs": [],
   "source": [
    "# scrivi qui\n",
    "\n",
    "#[3,4,2].len"
   ]
  },
  {
   "cell_type": "raw",
   "id": "5a9a1f57",
   "metadata": {
    "format": "text/html"
   },
   "source": [
    "</div>"
   ]
  },
  {
   "cell_type": "code",
   "execution_count": 9,
   "metadata": {},
   "outputs": [],
   "source": [
    "# scrivi qui\n",
    "\n"
   ]
  },
  {
   "cell_type": "markdown",
   "metadata": {},
   "source": [
    "**DOMANDA**: Se `x` è una lista qualunque, scrivendo\n",
    "\n",
    "`len(len(x))`\n",
    "\n",
    "cosa otteniamo?\n",
    "\n",
    "1. la lunghezza della lista\n",
    "2. un errore\n",
    "3. qualcos'altro"
   ]
  },
  {
   "cell_type": "raw",
   "id": "2ba091a4",
   "metadata": {
    "format": "text/html"
   },
   "source": [
    "<a  class=\"jupman-sol jupman-sol-toggler\" \n",
    " onclick=\"jupman.toggleSolution(this);\" \n",
    " data-jupman-show=\"Mostra risposta\" data-jupman-hide=\"Nascondi\">Mostra risposta</a><div class=\"jupman-sol jupman-sol-question\" style=\"display:none\">  "
   ]
  },
  {
   "cell_type": "markdown",
   "metadata": {},
   "source": [
    "**RISPOSTA**: la 2: `len` vuole come argomento _una sequenza_ e restituisce _un numero_, quindi la chiamata interna a `len(x)` produce un numero che viene dato al `len` esterno e a quel punto Python si lamenterà che ha ricevuto un numero invece di una sequenza. Prova a verificare che errore appare scrivendo `len(len(x))` qua sotto"
   ]
  },
  {
   "cell_type": "raw",
   "id": "f8d9084b",
   "metadata": {
    "format": "text/html"
   },
   "source": [
    "</div>"
   ]
  },
  {
   "cell_type": "code",
   "execution_count": 10,
   "metadata": {},
   "outputs": [],
   "source": [
    "# scrivi il codice qui \n"
   ]
  },
  {
   "cell_type": "markdown",
   "metadata": {},
   "source": [
    "**DOMANDA**: Guarda questa espressione, senza eseguirla. Cosa produce? \n",
    "\n",
    "```python\n",
    "[len([]), len([len(['a','b'])])]\n",
    "```\n",
    "\n",
    "1. un errore (quale?)\n",
    "2. un numero (quale?)\n",
    "3. una lista (quale?)\n",
    "\n",
    "Prova a scrivere a mano il risultato, e poi confrontalo con quello ottenuto eseguendo il codice in una cella."
   ]
  },
  {
   "cell_type": "raw",
   "id": "fda8e176",
   "metadata": {
    "format": "text/html"
   },
   "source": [
    "<a  class=\"jupman-sol jupman-sol-toggler\" \n",
    " onclick=\"jupman.toggleSolution(this);\" \n",
    " data-jupman-show=\"Mostra risposta\" data-jupman-hide=\"Nascondi\">Mostra risposta</a><div class=\"jupman-sol jupman-sol-question\" style=\"display:none\">  "
   ]
  },
  {
   "cell_type": "markdown",
   "metadata": {},
   "source": [
    "**RISPOSTA**: La 3: la lista `[0, 1]`"
   ]
  },
  {
   "cell_type": "raw",
   "id": "aa487cfb",
   "metadata": {
    "format": "text/html"
   },
   "source": [
    "</div>"
   ]
  },
  {
   "cell_type": "markdown",
   "metadata": {},
   "source": [
    "**DOMANDA**: Guarda questa espressione, senza eseguirla. Cosa produce? \n",
    "\n",
    "```python\n",
    "len([[[],[]],[],[[[]]],[[],[]]])\n",
    "```\n",
    "\n",
    "1. un errore (quale?)\n",
    "2. un numero (quale?)\n",
    "3. una lista (quale?)"
   ]
  },
  {
   "cell_type": "raw",
   "id": "41bd708d",
   "metadata": {
    "format": "text/html"
   },
   "source": [
    "<a  class=\"jupman-sol jupman-sol-toggler\" \n",
    " onclick=\"jupman.toggleSolution(this);\" \n",
    " data-jupman-show=\"Mostra risposta\" data-jupman-hide=\"Nascondi\">Mostra risposta</a><div class=\"jupman-sol jupman-sol-question\" style=\"display:none\">  "
   ]
  },
  {
   "cell_type": "markdown",
   "metadata": {},
   "source": [
    "**RISPOSTA**: la 2. produce il numero 4"
   ]
  },
  {
   "cell_type": "raw",
   "id": "dffcef57",
   "metadata": {
    "format": "text/html"
   },
   "source": [
    "</div>"
   ]
  },
  {
   "cell_type": "markdown",
   "metadata": {},
   "source": [
    "**DOMANDA**: Cosa produce la seguente espressione?\n",
    "\n",
    "```python\n",
    "[[((len('ababb')))],len([\"argg\",('b'),(\"c\")]), len([len(\"bc\")])]\n",
    "```"
   ]
  },
  {
   "cell_type": "raw",
   "id": "824156e0",
   "metadata": {
    "format": "text/html"
   },
   "source": [
    "<a  class=\"jupman-sol jupman-sol-toggler\" \n",
    " onclick=\"jupman.toggleSolution(this);\" \n",
    " data-jupman-show=\"Mostra risposta\" data-jupman-hide=\"Nascondi\">Mostra risposta</a><div class=\"jupman-sol jupman-sol-question\" style=\"display:none\">  "
   ]
  },
  {
   "cell_type": "markdown",
   "metadata": {},
   "source": [
    "**RISPOSTA**: `[[5], 3, 1]`"
   ]
  },
  {
   "cell_type": "raw",
   "id": "efdc98b7",
   "metadata": {
    "format": "text/html"
   },
   "source": [
    "</div>"
   ]
  },
  {
   "cell_type": "markdown",
   "metadata": {},
   "source": [
    "## Leggere un elemento\n",
    "\n",
    "Come per le stringhe, possiamo accedere ad un elemento di una lista mettendo l'indice della posizione a cui vogliamo accedere tra parentesi quadre:\n",
    "\n"
   ]
  },
  {
   "cell_type": "code",
   "execution_count": 11,
   "metadata": {},
   "outputs": [],
   "source": [
    "    # 0   1   2   3   \n",
    "la = [70, 60, 90, 50]"
   ]
  },
  {
   "cell_type": "markdown",
   "metadata": {},
   "source": [
    "<div class=\"alert alert-warning\">\n",
    "\n",
    "**Come per tutte le sequenze, le posizioni iniziano da `0`:**\n",
    "</div>"
   ]
  },
  {
   "cell_type": "code",
   "execution_count": 12,
   "metadata": {},
   "outputs": [
    {
     "data": {
      "text/plain": [
       "70"
      ]
     },
     "execution_count": 12,
     "metadata": {},
     "output_type": "execute_result"
    }
   ],
   "source": [
    "la[0]"
   ]
  },
  {
   "cell_type": "code",
   "execution_count": 13,
   "metadata": {},
   "outputs": [
    {
     "data": {
      "text/plain": [
       "60"
      ]
     },
     "execution_count": 13,
     "metadata": {},
     "output_type": "execute_result"
    }
   ],
   "source": [
    "la[1]"
   ]
  },
  {
   "cell_type": "code",
   "execution_count": 14,
   "metadata": {},
   "outputs": [
    {
     "data": {
      "text/plain": [
       "90"
      ]
     },
     "execution_count": 14,
     "metadata": {},
     "output_type": "execute_result"
    }
   ],
   "source": [
    "la[2]"
   ]
  },
  {
   "cell_type": "code",
   "execution_count": 15,
   "metadata": {},
   "outputs": [
    {
     "data": {
      "text/plain": [
       "50"
      ]
     },
     "execution_count": 15,
     "metadata": {},
     "output_type": "execute_result"
    }
   ],
   "source": [
    "la[3]"
   ]
  },
  {
   "cell_type": "markdown",
   "metadata": {},
   "source": [
    "Come per le stringhe, se sforiamo con l'indice otteniamo un errore:"
   ]
  },
  {
   "cell_type": "markdown",
   "metadata": {},
   "source": [
    "```python\n",
    "\n",
    "la[4]\n",
    "\n",
    "---------------------------------------------------------------------------\n",
    "IndexError                                Traceback (most recent call last)\n",
    "<ipython-input-134-09bfed834fa2> in <module>\n",
    "----> 1 la[4]\n",
    "\n",
    "IndexError: list index out of range\n",
    "```"
   ]
  },
  {
   "cell_type": "markdown",
   "metadata": {},
   "source": [
    "Di nuovo come per le stringhe possiamo ottenere l'ultimo elemento usando un indice negativo:"
   ]
  },
  {
   "cell_type": "code",
   "execution_count": 16,
   "metadata": {},
   "outputs": [],
   "source": [
    "    # 0   1   2   3   \n",
    "la = [70, 60, 90, 50]"
   ]
  },
  {
   "cell_type": "code",
   "execution_count": 17,
   "metadata": {},
   "outputs": [
    {
     "data": {
      "text/plain": [
       "50"
      ]
     },
     "execution_count": 17,
     "metadata": {},
     "output_type": "execute_result"
    }
   ],
   "source": [
    "la[-1]"
   ]
  },
  {
   "cell_type": "code",
   "execution_count": 18,
   "metadata": {},
   "outputs": [
    {
     "data": {
      "text/plain": [
       "90"
      ]
     },
     "execution_count": 18,
     "metadata": {},
     "output_type": "execute_result"
    }
   ],
   "source": [
    "la[-2]"
   ]
  },
  {
   "cell_type": "code",
   "execution_count": 19,
   "metadata": {},
   "outputs": [
    {
     "data": {
      "text/plain": [
       "60"
      ]
     },
     "execution_count": 19,
     "metadata": {},
     "output_type": "execute_result"
    }
   ],
   "source": [
    "la[-3]"
   ]
  },
  {
   "cell_type": "code",
   "execution_count": 20,
   "metadata": {},
   "outputs": [
    {
     "data": {
      "text/plain": [
       "70"
      ]
     },
     "execution_count": 20,
     "metadata": {},
     "output_type": "execute_result"
    }
   ],
   "source": [
    "la[-4]"
   ]
  },
  {
   "cell_type": "markdown",
   "metadata": {},
   "source": [
    "Se esageriamo ed andiamo oltre la lunghezza della lista, otteniamo un errore:"
   ]
  },
  {
   "cell_type": "markdown",
   "metadata": {},
   "source": [
    "```python\n",
    "la[-5]\n",
    "\n",
    "---------------------------------------------------------------------------\n",
    "IndexError                                Traceback (most recent call last)\n",
    "<ipython-input-169-f77280923dce> in <module>\n",
    "----> 1 la[-5]\n",
    "\n",
    "IndexError: list index out of range\n",
    "\n",
    "```"
   ]
  },
  {
   "cell_type": "markdown",
   "metadata": {},
   "source": [
    "**DOMANDA**: se `x` è una lista qualunque, scrivendo \n",
    "\n",
    "```python\n",
    "x[0]\n",
    "```\n",
    "\n",
    "cosa otteniamo?\n",
    "\n",
    "1. il primo elemento della lista\n",
    "2. sempre un errore\n",
    "3. a volte un elemento a volte un errore a seconda della lista"
   ]
  },
  {
   "cell_type": "raw",
   "id": "38eebe77",
   "metadata": {
    "format": "text/html"
   },
   "source": [
    "<a  class=\"jupman-sol jupman-sol-toggler\" \n",
    " onclick=\"jupman.toggleSolution(this);\" \n",
    " data-jupman-show=\"Mostra risposta\" data-jupman-hide=\"Nascondi\">Mostra risposta</a><div class=\"jupman-sol jupman-sol-question\" style=\"display:none\">  "
   ]
  },
  {
   "cell_type": "markdown",
   "metadata": {},
   "source": [
    "**RISPOSTA**:  la 3: se la lista è vuota Python non troverà l'elemento e ci darà un errore. Quale? Prova a scrivere nella cella sotto `[][0]` e vedi cosa succede."
   ]
  },
  {
   "cell_type": "raw",
   "id": "9a013f2b",
   "metadata": {
    "format": "text/html"
   },
   "source": [
    "</div>"
   ]
  },
  {
   "cell_type": "code",
   "execution_count": 21,
   "metadata": {},
   "outputs": [],
   "source": [
    "# scrivi il codice qui\n"
   ]
  },
  {
   "cell_type": "markdown",
   "metadata": {},
   "source": [
    "**DOMANDA**: se `x` è una lista qualunque, scrivendo\n",
    "\n",
    "```python\n",
    "x[len(x)]\n",
    "```\n",
    "\n",
    "cosa otteniamo?\n",
    "\n",
    "1. un elemento della lista\n",
    "2. sempre un errore\n",
    "3. a volte un elemento a volte un errore a seconda della lista"
   ]
  },
  {
   "cell_type": "raw",
   "id": "e4b2d4ce",
   "metadata": {
    "format": "text/html"
   },
   "source": [
    "<a  class=\"jupman-sol jupman-sol-toggler\" \n",
    " onclick=\"jupman.toggleSolution(this);\" \n",
    " data-jupman-show=\"Mostra risposta\" data-jupman-hide=\"Nascondi\">Mostra risposta</a><div class=\"jupman-sol jupman-sol-question\" style=\"display:none\">  "
   ]
  },
  {
   "cell_type": "markdown",
   "metadata": {},
   "source": [
    "**RISPOSTA**: La 2. sempre un errore: `len(x)` sarà sempre un numero uguale all'ultimo indice disponibile della lista + 1"
   ]
  },
  {
   "cell_type": "raw",
   "id": "c01d2f8c",
   "metadata": {
    "format": "text/html"
   },
   "source": [
    "</div>"
   ]
  },
  {
   "cell_type": "markdown",
   "metadata": {},
   "source": [
    "### Esercizio - L'apprendista di Gutenberg\n",
    "\n",
    "Quale onore! Alla tua età assunta come apprendista del maestro Gutenberg!\n",
    "La tua mansione è quella di comporre le pagine con i blocchetti di caratteri in ferro in modo che gli altri collaboratori poi mandino il tutto alla pressa da stampa.\n",
    "\n",
    "Hai a disposizione una lista in cui sono salvati i blocchetti originali. Riesci a stampare la scritta `Gutenberg` ?\n",
    "\n",
    "* **NON** scrivere caratteri o stringhe aggiuntive (es: niente `'g'`o `'G'`!)\n",
    "* ogni lettera **PUO'** essere riutilizzata"
   ]
  },
  {
   "cell_type": "raw",
   "id": "c4dc5582",
   "metadata": {
    "format": "text/html"
   },
   "source": [
    "<a  class=\"jupman-sol jupman-sol-toggler\" \n",
    " onclick=\"jupman.toggleSolution(this);\" \n",
    " data-jupman-show=\"Mostra soluzione\" data-jupman-hide=\"Nascondi\">Mostra soluzione</a><div class=\"jupman-sol jupman-sol-code\" style=\"display:none\">  "
   ]
  },
  {
   "cell_type": "code",
   "execution_count": 22,
   "metadata": {},
   "outputs": [
    {
     "name": "stdout",
     "output_type": "stream",
     "text": [
      "G u t e n b e r g\n",
      "Gutenberg\n",
      "Gutenberg\n"
     ]
    }
   ],
   "source": [
    "\n",
    "lettere = ['b', 'e', 'g', 'n', 'r', 't', 'u']   # Gutenberg\n",
    "#lettere = ['a', 'm', 's', 'p', 'o', 'a', 't']  # Stampamos\n",
    "    \n",
    "l = lettere      # Creiamo una nuova variabile più corta per comodità\n",
    "\n",
    "# scrivi qui\n",
    "# SOLUZIONE 1: non propriamente ottimale\n",
    "print(l[2].upper(), l[6], l[5], l[1], l[3], l[0], l[1],  l[4], l[2])\n",
    "# SOLUZIONE 2\n",
    "print(f\"{l[2].upper()}{l[6]}{l[5]}{l[1]}{l[3]}{l[0]}{l[1]}{l[4]}{l[2]}\")\n",
    "# SOLUZIONE 3\n",
    "print(\"%s%s%s%s%s%s%s%s%s\" % (l[2].upper(), l[6], l[5], l[1], l[3], l[0], l[1], l[4], l[2]))"
   ]
  },
  {
   "cell_type": "raw",
   "id": "1dcd5983",
   "metadata": {
    "format": "text/html"
   },
   "source": [
    "</div>"
   ]
  },
  {
   "cell_type": "code",
   "execution_count": 22,
   "metadata": {},
   "outputs": [],
   "source": [
    "\n",
    "lettere = ['b', 'e', 'g', 'n', 'r', 't', 'u']   # Gutenberg\n",
    "#lettere = ['a', 'm', 's', 'p', 'o', 'a', 't']  # Stampamos\n",
    "    \n",
    "l = lettere      # Creiamo una nuova variabile più corta per comodità\n",
    "\n",
    "# scrivi qui\n",
    "\n"
   ]
  },
  {
   "cell_type": "markdown",
   "metadata": {},
   "source": [
    "## Scrivere un elemento\n",
    "\n",
    "Visto che le liste sono MUTABILI, dato un oggetto lista possiamo cambiare il contenuto di una qualunque cella al suo interno.\n",
    "\n",
    "Supponiamo per esempio di voler cambiare la cella all'indice `2` della lista `la`, cambiandolo da `6` a `5`:"
   ]
  },
  {
   "cell_type": "code",
   "execution_count": 23,
   "metadata": {},
   "outputs": [],
   "source": [
    "     #0  1  2  3   \n",
    "la = [7, 9, 6, 8]"
   ]
  },
  {
   "cell_type": "markdown",
   "metadata": {},
   "source": [
    "Possiamo scrivere così:"
   ]
  },
  {
   "cell_type": "code",
   "execution_count": 24,
   "metadata": {},
   "outputs": [],
   "source": [
    "la[2] = 5\n"
   ]
  },
  {
   "cell_type": "code",
   "execution_count": 25,
   "metadata": {},
   "outputs": [
    {
     "data": {
      "text/plain": [
       "[7, 9, 5, 8]"
      ]
     },
     "execution_count": 25,
     "metadata": {},
     "output_type": "execute_result"
    }
   ],
   "source": [
    "la"
   ]
  },
  {
   "cell_type": "markdown",
   "metadata": {},
   "source": [
    "Guardiamo meglio che succede in Python Tutor: "
   ]
  },
  {
   "cell_type": "code",
   "execution_count": 26,
   "metadata": {},
   "outputs": [],
   "source": [
    "# AFFINCHE' PYTHON TUTOR FUNZIONI, RICORDATI DI ESEGUIRE QUESTA CELLA con Shift+Invio\n",
    "#   (basta eseguirla una volta sola, la trovi anche all'inizio di ogni foglio)\n",
    "\n",
    "import jupman"
   ]
  },
  {
   "cell_type": "code",
   "execution_count": 27,
   "metadata": {},
   "outputs": [
    {
     "data": {
      "text/html": [
       "        \n",
       "        <script src=\"../_static/js/pytutor-embed.bundle.min.js\" type=\"application/javascript\"></script>\n",
       "    \n",
       "        <style>\n",
       "        @import \"../_static/css/jupman.css\";\n",
       "        </style>\n",
       "     \n",
       "        <script id=\"json-jm-c05406f00014c2b7dda5bcff9fcdc783-29\" type=\"application/json\" >\n",
       "            {\"code\": \" \\n#     0  1  2  3   \\nla = [7, 9, 6, 8]\\nla[2] = 5\", \"trace\": [{\"line\": 3, \"event\": \"step_line\", \"func_name\": \"<module>\", \"globals\": {}, \"ordered_globals\": [], \"stack_to_render\": [], \"heap\": {}, \"stdout\": \"\"}, {\"line\": 4, \"event\": \"step_line\", \"func_name\": \"<module>\", \"globals\": {\"la\": [\"REF\", 1]}, \"ordered_globals\": [\"la\"], \"stack_to_render\": [], \"heap\": {\"1\": [\"LIST\", 7, 9, 6, 8]}, \"stdout\": \"\"}, {\"line\": 4, \"event\": \"return\", \"func_name\": \"<module>\", \"globals\": {\"la\": [\"REF\", 1]}, \"ordered_globals\": [\"la\"], \"stack_to_render\": [], \"heap\": {\"1\": [\"LIST\", 7, 9, 5, 8]}, \"stdout\": \"\"}]}\n",
       "        </script>\n",
       "        <div id=\"jm-c05406f00014c2b7dda5bcff9fcdc783-29\" class=\"pytutorVisualizer\"> </div>\n",
       "                        \n",
       "        <script>\n",
       "        \n",
       "        (function(){\n",
       "            console.log(\"jupman.py embedded javascript: adding Python tutor visualizer...\")\n",
       "            \n",
       "            var trace = JSON.parse(document.getElementById('json-jm-c05406f00014c2b7dda5bcff9fcdc783-29').innerHTML);                                        \n",
       "            // NOTE: id without #\n",
       "                    \n",
       "            addVisualizerToPage(trace, 'jm-c05406f00014c2b7dda5bcff9fcdc783-29',{'embeddedMode' : false,\n",
       "                                             'disableHeapNesting': true,\n",
       "                                             'visualizerIdOverride':'viz-jm-c05406f00014c2b7dda5bcff9fcdc783-29'})  \n",
       "            \n",
       "            \n",
       "            // set overflow for pytuts - need to do in python as css \n",
       "            // does not allow parent selection\n",
       "            var pytuts = $('.pytutorVisualizer')\n",
       "            pytuts.closest('div.output_html.rendered_html.output_result')\n",
       "                    .css('overflow-x', 'visible')\n",
       "        \n",
       "            //pytuts.closest('div.output_html.rendered_html.output_result')\n",
       "            //      .css('background-color','red')                \n",
       "            \n",
       "        })()\n",
       "        </script>\n",
       "                \n",
       "    \n",
       "    <div style=\"text-align:center; font-size:0.9em\"> <a href=\"https://pythontutor.com/visualize.html#mode=edit\" target=\"_blank\">Python Tutor</a> visualization</div> \n",
       "    "
      ],
      "text/plain": [
       "<IPython.core.display.HTML object>"
      ]
     },
     "execution_count": 27,
     "metadata": {},
     "output_type": "execute_result"
    }
   ],
   "source": [
    "#     0  1  2  3   \n",
    "la = [7, 9, 6, 8]\n",
    "la[2] = 5\n",
    "\n",
    "jupman.pytut()"
   ]
  },
  {
   "cell_type": "markdown",
   "metadata": {},
   "source": [
    "Come vedi, in questo non vengono create regioni di memoria nuove, semplicemente si va a sovrascrivere una cella esistente. "
   ]
  },
  {
   "cell_type": "markdown",
   "metadata": {},
   "source": [
    "### Esercizio - Un parcheggio intasato\n",
    "\n",
    "Sei l'amministratore del condominio \"La Gioia Pitonica\". Ogni appartamento ha uno o due posti auto assegnati e ciascuno è numerato da `1` a `11`. \n",
    "\n",
    "La seguente è il parcheggio attuale, e come si può vedere ci sono tre buchi non assegnati, perchè gli appartamenti `3`, `4` e `7` non hanno più un affittuario. \n"
   ]
  },
  {
   "cell_type": "code",
   "execution_count": 28,
   "metadata": {},
   "outputs": [],
   "source": [
    "parcheggi = [\"Carlo\", \"App.3\", \"Ernesto\", \"App.4\", \"App.7\", \"Pam\", \"Giovanna\", \"Camilla\", \"Giorgia\", \"Jessica\", \"Jim\"]"
   ]
  },
  {
   "cell_type": "markdown",
   "metadata": {},
   "source": [
    "Per mantenere l'ordine decidi che è il caso di compattare le assegnazioni e di lasciare i posti vuoti tutti in fondo (può essere comodo per far parcheggiare i traslocatori!)\n",
    "\n",
    "Scrivi del codice per MODIFICARE `parcheggi` in modo che risulti:\n",
    "\n",
    "```python\n",
    ">>> print(parcheggi)\n",
    "['Carlo', 'Jessica', 'Ernesto', 'Jim', 'Giorgia', 'Pam', 'Giovanna', 'Camilla', 'App.7', 'App.3', 'App.4']\n",
    "```\n",
    "\n",
    "* **NON** creare nuove liste (niente `[a,b, ...]` nè `list(a,b,...)`)\n",
    "* **NON** scrivere nomi dei proprietari nè degli appartamenti (niente `'Pam'` o `'Apt.3'`)\n",
    "* il parcheggio può avere lunghezza variabile\n",
    "* i posti non assegnati sono sempre 3 e in posizione fissa"
   ]
  },
  {
   "cell_type": "markdown",
   "metadata": {},
   "source": [
    "![parking-jam](img/parking-jam.png)"
   ]
  },
  {
   "cell_type": "raw",
   "id": "aa009b63",
   "metadata": {
    "format": "text/html"
   },
   "source": [
    "<a  class=\"jupman-sol jupman-sol-toggler\" \n",
    " onclick=\"jupman.toggleSolution(this);\" \n",
    " data-jupman-show=\"Mostra soluzione\" data-jupman-hide=\"Nascondi\">Mostra soluzione</a><div class=\"jupman-sol jupman-sol-code\" style=\"display:none\">  "
   ]
  },
  {
   "cell_type": "code",
   "execution_count": 29,
   "metadata": {},
   "outputs": [
    {
     "name": "stdout",
     "output_type": "stream",
     "text": [
      "['Carlo', 'Jessica', 'Ernesto', 'Jim', 'Giorgia', 'Pam', 'Giovanna', 'Camilla', 'App.7', 'App.3', 'App.4']\n"
     ]
    }
   ],
   "source": [
    "\n",
    "parcheggi = [\"Carlo\", \"App.3\", \"Ernesto\", \"App.4\", \"App.7\", \"Pam\", \"Giovanna\", \"Camilla\", \"Giorgia\", \"Jessica\", \"Jim\"]\n",
    "#risultato: ['Carlo', 'Jessica', 'Ernesto', 'Jim', 'Giorgia', 'Pam', 'Giovanna', 'Camilla', 'App.7', 'App.3', 'App.4']\n",
    "#parcheggi= [\"Cristian\", \"App.3\", \"Edgar\", \"App.4\", \"App.7\", \"Pamela\", \"Giusy\", \"Cristina\", \"John\"]\n",
    "#risultato: ['Cristian', 'Cristina', 'Edgar', 'John', 'Giusy', 'Pamela', 'App.7', 'App.3', 'App.4']\n",
    "\n",
    "# scrivi qui\n",
    "\n",
    "parcheggi[1],parcheggi[-2] = parcheggi[-2],parcheggi[1]\n",
    "parcheggi[3],parcheggi[-1] = parcheggi[-1],parcheggi[3]\n",
    "parcheggi[4],parcheggi[-3] = parcheggi[-3],parcheggi[4]\n",
    "\n",
    "print(parcheggi)"
   ]
  },
  {
   "cell_type": "raw",
   "id": "762e5c59",
   "metadata": {
    "format": "text/html"
   },
   "source": [
    "</div>"
   ]
  },
  {
   "cell_type": "code",
   "execution_count": 29,
   "metadata": {},
   "outputs": [],
   "source": [
    "\n",
    "parcheggi = [\"Carlo\", \"App.3\", \"Ernesto\", \"App.4\", \"App.7\", \"Pam\", \"Giovanna\", \"Camilla\", \"Giorgia\", \"Jessica\", \"Jim\"]\n",
    "#risultato: ['Carlo', 'Jessica', 'Ernesto', 'Jim', 'Giorgia', 'Pam', 'Giovanna', 'Camilla', 'App.7', 'App.3', 'App.4']\n",
    "#parcheggi= [\"Cristian\", \"App.3\", \"Edgar\", \"App.4\", \"App.7\", \"Pamela\", \"Giusy\", \"Cristina\", \"John\"]\n",
    "#risultato: ['Cristian', 'Cristina', 'Edgar', 'John', 'Giusy', 'Pamela', 'App.7', 'App.3', 'App.4']\n",
    "\n",
    "# scrivi qui\n",
    "\n"
   ]
  },
  {
   "cell_type": "markdown",
   "metadata": {},
   "source": [
    "## Mutare liste condivise\n",
    "\n",
    "<div class=\"alert alert-warning\">\n",
    "\n",
    "**ATTENZIONE: L'ARGOMENTO CHE SEGUE E' CAUSA DEL 90% DEGLI ERRORI DI PROGRAMMAZIONE !!!**\n",
    "</div>\n",
    "\n",
    "<div class=\"alert alert-warning\">\n",
    "    \n",
    "**LEGGI BENE !!!**\n",
    "</div>\n",
    "\n",
    "Cosa succede quando associamo a due variabili lo stesso identico oggetto mutabile, come per esempio una lista, e poi usando una delle due variabili mutiamo l'oggetto? \n",
    "\n",
    "Guardiamo un esempio - per prima cosa, alla variabile `la` associamo la lista `[7,9,6]`:"
   ]
  },
  {
   "cell_type": "code",
   "execution_count": 30,
   "metadata": {},
   "outputs": [],
   "source": [
    "la = [7,9,6]"
   ]
  },
  {
   "cell_type": "markdown",
   "metadata": {},
   "source": [
    "Adesso definiamo una nuova variabile `lb`, e associamogli come valore _lo stesso valore_ già associato alla variabile `la`. Nota bene: qua NON stiamo creando nuove liste !"
   ]
  },
  {
   "cell_type": "code",
   "execution_count": 31,
   "metadata": {},
   "outputs": [],
   "source": [
    "lb = la    "
   ]
  },
  {
   "cell_type": "code",
   "execution_count": 32,
   "metadata": {},
   "outputs": [
    {
     "name": "stdout",
     "output_type": "stream",
     "text": [
      "[7, 9, 6]\n"
     ]
    }
   ],
   "source": [
    "print(la)  # la è sempre lo stesso"
   ]
  },
  {
   "cell_type": "code",
   "execution_count": 33,
   "metadata": {},
   "outputs": [
    {
     "name": "stdout",
     "output_type": "stream",
     "text": [
      "[7, 9, 6]\n"
     ]
    }
   ],
   "source": [
    "print(lb)  # lb è la stessa lista associata a la"
   ]
  },
  {
   "cell_type": "markdown",
   "metadata": {},
   "source": [
    "Proviamo a modificare una cella di `lb`, mettendo `5` nella cella all'indice `0`:"
   ]
  },
  {
   "cell_type": "code",
   "execution_count": 34,
   "metadata": {},
   "outputs": [],
   "source": [
    "lb[0] = 5 "
   ]
  },
  {
   "cell_type": "markdown",
   "metadata": {},
   "source": [
    "Se proviamo a stampare le variabili `la` ed `lb`, Python andrà a guardare i valori associati a ciascuna variabile. Dato che il valore è la stessa identica lista (che risiede nella stessa identica regione di memoria ), in entrambi i casi vedrai la modifica appena fatta !"
   ]
  },
  {
   "cell_type": "code",
   "execution_count": 35,
   "metadata": {},
   "outputs": [
    {
     "name": "stdout",
     "output_type": "stream",
     "text": [
      "[5, 9, 6]\n"
     ]
    }
   ],
   "source": [
    "print(la)"
   ]
  },
  {
   "cell_type": "code",
   "execution_count": 36,
   "metadata": {},
   "outputs": [
    {
     "name": "stdout",
     "output_type": "stream",
     "text": [
      "[5, 9, 6]\n"
     ]
    }
   ],
   "source": [
    "print(lb)"
   ]
  },
  {
   "cell_type": "markdown",
   "metadata": {},
   "source": [
    "Guardiamo meglio che succede in Python Tutor:"
   ]
  },
  {
   "cell_type": "code",
   "execution_count": 37,
   "metadata": {},
   "outputs": [
    {
     "name": "stdout",
     "output_type": "stream",
     "text": [
      "la è [5, 9, 6]\n",
      "lb è [5, 9, 6]\n"
     ]
    },
    {
     "data": {
      "text/html": [
       "        \n",
       "        <script src=\"../_static/js/pytutor-embed.bundle.min.js\" type=\"application/javascript\"></script>\n",
       "    \n",
       "        <style>\n",
       "        @import \"../_static/css/jupman.css\";\n",
       "        </style>\n",
       "     \n",
       "        <script id=\"json-jm-986ee505d8f655dbe9e1d2aaaf306b6e-39\" type=\"application/json\" >\n",
       "            {\"code\": \" \\nla = [7,9,6]\\nlb = la\\nlb[0] = 5 \\nprint('la \\u00e8', la)\\nprint('lb \\u00e8', lb)\", \"trace\": [{\"line\": 2, \"event\": \"step_line\", \"func_name\": \"<module>\", \"globals\": {}, \"ordered_globals\": [], \"stack_to_render\": [], \"heap\": {}, \"stdout\": \"\"}, {\"line\": 3, \"event\": \"step_line\", \"func_name\": \"<module>\", \"globals\": {\"la\": [\"REF\", 1]}, \"ordered_globals\": [\"la\"], \"stack_to_render\": [], \"heap\": {\"1\": [\"LIST\", 7, 9, 6]}, \"stdout\": \"\"}, {\"line\": 4, \"event\": \"step_line\", \"func_name\": \"<module>\", \"globals\": {\"la\": [\"REF\", 1], \"lb\": [\"REF\", 1]}, \"ordered_globals\": [\"la\", \"lb\"], \"stack_to_render\": [], \"heap\": {\"1\": [\"LIST\", 7, 9, 6]}, \"stdout\": \"\"}, {\"line\": 5, \"event\": \"step_line\", \"func_name\": \"<module>\", \"globals\": {\"la\": [\"REF\", 1], \"lb\": [\"REF\", 1]}, \"ordered_globals\": [\"la\", \"lb\"], \"stack_to_render\": [], \"heap\": {\"1\": [\"LIST\", 5, 9, 6]}, \"stdout\": \"\"}, {\"line\": 6, \"event\": \"step_line\", \"func_name\": \"<module>\", \"globals\": {\"la\": [\"REF\", 1], \"lb\": [\"REF\", 1]}, \"ordered_globals\": [\"la\", \"lb\"], \"stack_to_render\": [], \"heap\": {\"1\": [\"LIST\", 5, 9, 6]}, \"stdout\": \"la \\u00e8 [5, 9, 6]\\n\"}, {\"line\": 6, \"event\": \"return\", \"func_name\": \"<module>\", \"globals\": {\"la\": [\"REF\", 1], \"lb\": [\"REF\", 1]}, \"ordered_globals\": [\"la\", \"lb\"], \"stack_to_render\": [], \"heap\": {\"1\": [\"LIST\", 5, 9, 6]}, \"stdout\": \"la \\u00e8 [5, 9, 6]\\nlb \\u00e8 [5, 9, 6]\\n\"}]}\n",
       "        </script>\n",
       "        <div id=\"jm-986ee505d8f655dbe9e1d2aaaf306b6e-39\" class=\"pytutorVisualizer\"> </div>\n",
       "                        \n",
       "        <script>\n",
       "        \n",
       "        (function(){\n",
       "            console.log(\"jupman.py embedded javascript: adding Python tutor visualizer...\")\n",
       "            \n",
       "            var trace = JSON.parse(document.getElementById('json-jm-986ee505d8f655dbe9e1d2aaaf306b6e-39').innerHTML);                                        \n",
       "            // NOTE: id without #\n",
       "                    \n",
       "            addVisualizerToPage(trace, 'jm-986ee505d8f655dbe9e1d2aaaf306b6e-39',{'embeddedMode' : false,\n",
       "                                             'disableHeapNesting': true,\n",
       "                                             'visualizerIdOverride':'viz-jm-986ee505d8f655dbe9e1d2aaaf306b6e-39'})  \n",
       "            \n",
       "            \n",
       "            // set overflow for pytuts - need to do in python as css \n",
       "            // does not allow parent selection\n",
       "            var pytuts = $('.pytutorVisualizer')\n",
       "            pytuts.closest('div.output_html.rendered_html.output_result')\n",
       "                    .css('overflow-x', 'visible')\n",
       "        \n",
       "            //pytuts.closest('div.output_html.rendered_html.output_result')\n",
       "            //      .css('background-color','red')                \n",
       "            \n",
       "        })()\n",
       "        </script>\n",
       "                \n",
       "    \n",
       "    <div style=\"text-align:center; font-size:0.9em\"> <a href=\"https://pythontutor.com/visualize.html#mode=edit\" target=\"_blank\">Python Tutor</a> visualization</div> \n",
       "    "
      ],
      "text/plain": [
       "<IPython.core.display.HTML object>"
      ]
     },
     "execution_count": 37,
     "metadata": {},
     "output_type": "execute_result"
    }
   ],
   "source": [
    "la = [7,9,6]\n",
    "lb = la\n",
    "lb[0] = 5 \n",
    "print('la è', la)\n",
    "print('lb è', lb)\n",
    "\n",
    "jupman.pytut()"
   ]
  },
  {
   "cell_type": "markdown",
   "metadata": {},
   "source": [
    "Guardiamo la differenza se invece creiamo esplicitamente una lista uguale a `la`. \n",
    "\n",
    "In questo caso avremo due regioni di memoria distinte e la NON sarà modificato:"
   ]
  },
  {
   "cell_type": "code",
   "execution_count": 38,
   "metadata": {},
   "outputs": [
    {
     "name": "stdout",
     "output_type": "stream",
     "text": [
      "la è [7, 9, 6]\n",
      "lb è [5, 9, 6]\n"
     ]
    },
    {
     "data": {
      "text/html": [
       "        \n",
       "        <script src=\"../_static/js/pytutor-embed.bundle.min.js\" type=\"application/javascript\"></script>\n",
       "    \n",
       "        <style>\n",
       "        @import \"../_static/css/jupman.css\";\n",
       "        </style>\n",
       "     \n",
       "        <script id=\"json-jm-c12b920ed12e0828f0b7e62eedf3f260-40\" type=\"application/json\" >\n",
       "            {\"code\": \" \\nla = [7,9,6]\\nlb = [7,9,6]\\nlb[0] = 5 \\nprint('la \\u00e8', la)\\nprint('lb \\u00e8', lb)\", \"trace\": [{\"line\": 2, \"event\": \"step_line\", \"func_name\": \"<module>\", \"globals\": {}, \"ordered_globals\": [], \"stack_to_render\": [], \"heap\": {}, \"stdout\": \"\"}, {\"line\": 3, \"event\": \"step_line\", \"func_name\": \"<module>\", \"globals\": {\"la\": [\"REF\", 1]}, \"ordered_globals\": [\"la\"], \"stack_to_render\": [], \"heap\": {\"1\": [\"LIST\", 7, 9, 6]}, \"stdout\": \"\"}, {\"line\": 4, \"event\": \"step_line\", \"func_name\": \"<module>\", \"globals\": {\"la\": [\"REF\", 1], \"lb\": [\"REF\", 2]}, \"ordered_globals\": [\"la\", \"lb\"], \"stack_to_render\": [], \"heap\": {\"1\": [\"LIST\", 7, 9, 6], \"2\": [\"LIST\", 7, 9, 6]}, \"stdout\": \"\"}, {\"line\": 5, \"event\": \"step_line\", \"func_name\": \"<module>\", \"globals\": {\"la\": [\"REF\", 1], \"lb\": [\"REF\", 2]}, \"ordered_globals\": [\"la\", \"lb\"], \"stack_to_render\": [], \"heap\": {\"1\": [\"LIST\", 7, 9, 6], \"2\": [\"LIST\", 5, 9, 6]}, \"stdout\": \"\"}, {\"line\": 6, \"event\": \"step_line\", \"func_name\": \"<module>\", \"globals\": {\"la\": [\"REF\", 1], \"lb\": [\"REF\", 2]}, \"ordered_globals\": [\"la\", \"lb\"], \"stack_to_render\": [], \"heap\": {\"1\": [\"LIST\", 7, 9, 6], \"2\": [\"LIST\", 5, 9, 6]}, \"stdout\": \"la \\u00e8 [7, 9, 6]\\n\"}, {\"line\": 6, \"event\": \"return\", \"func_name\": \"<module>\", \"globals\": {\"la\": [\"REF\", 1], \"lb\": [\"REF\", 2]}, \"ordered_globals\": [\"la\", \"lb\"], \"stack_to_render\": [], \"heap\": {\"1\": [\"LIST\", 7, 9, 6], \"2\": [\"LIST\", 5, 9, 6]}, \"stdout\": \"la \\u00e8 [7, 9, 6]\\nlb \\u00e8 [5, 9, 6]\\n\"}]}\n",
       "        </script>\n",
       "        <div id=\"jm-c12b920ed12e0828f0b7e62eedf3f260-40\" class=\"pytutorVisualizer\"> </div>\n",
       "                        \n",
       "        <script>\n",
       "        \n",
       "        (function(){\n",
       "            console.log(\"jupman.py embedded javascript: adding Python tutor visualizer...\")\n",
       "            \n",
       "            var trace = JSON.parse(document.getElementById('json-jm-c12b920ed12e0828f0b7e62eedf3f260-40').innerHTML);                                        \n",
       "            // NOTE: id without #\n",
       "                    \n",
       "            addVisualizerToPage(trace, 'jm-c12b920ed12e0828f0b7e62eedf3f260-40',{'embeddedMode' : false,\n",
       "                                             'disableHeapNesting': true,\n",
       "                                             'visualizerIdOverride':'viz-jm-c12b920ed12e0828f0b7e62eedf3f260-40'})  \n",
       "            \n",
       "            \n",
       "            // set overflow for pytuts - need to do in python as css \n",
       "            // does not allow parent selection\n",
       "            var pytuts = $('.pytutorVisualizer')\n",
       "            pytuts.closest('div.output_html.rendered_html.output_result')\n",
       "                    .css('overflow-x', 'visible')\n",
       "        \n",
       "            //pytuts.closest('div.output_html.rendered_html.output_result')\n",
       "            //      .css('background-color','red')                \n",
       "            \n",
       "        })()\n",
       "        </script>\n",
       "                \n",
       "    \n",
       "    <div style=\"text-align:center; font-size:0.9em\"> <a href=\"https://pythontutor.com/visualize.html#mode=edit\" target=\"_blank\">Python Tutor</a> visualization</div> \n",
       "    "
      ],
      "text/plain": [
       "<IPython.core.display.HTML object>"
      ]
     },
     "execution_count": 38,
     "metadata": {},
     "output_type": "execute_result"
    }
   ],
   "source": [
    "la = [7,9,6]\n",
    "lb = [7,9,6]\n",
    "lb[0] = 5 \n",
    "print('la è', la)\n",
    "print('lb è', lb)\n",
    "\n",
    "jupman.pytut()"
   ]
  },
  {
   "cell_type": "markdown",
   "metadata": {},
   "source": [
    "**DOMANDA**: Dopo l'esecuzione di questo codice, cosa verrà stampato? Quante liste ci saranno effettivamente in memoria?\n",
    "\n",
    "Prova a disegnare **SU CARTA** quello che succede in memoria, e poi confronta con il risultato in Python Tutor!\n",
    "\n",
    "```python\n",
    "la = [8,7,7]\n",
    "lb = [9,6,7,5]\n",
    "lc = lb\n",
    "la = lb\n",
    "print('la è', la)\n",
    "print('lb è', lb)\n",
    "print('lc è', lc)\n",
    "```"
   ]
  },
  {
   "cell_type": "raw",
   "id": "eab66328",
   "metadata": {
    "format": "text/html"
   },
   "source": [
    "<a  class=\"jupman-sol jupman-sol-toggler\" \n",
    " onclick=\"jupman.toggleSolution(this);\" \n",
    " data-jupman-show=\"Mostra risposta\" data-jupman-hide=\"Nascondi\">Mostra risposta</a><div class=\"jupman-sol jupman-sol-question\" style=\"display:none\">  "
   ]
  },
  {
   "cell_type": "markdown",
   "metadata": {},
   "source": [
    "**RISPOSTA**: Viene stampato \n",
    "```\n",
    "la è [9, 6, 7, 5]\n",
    "lb è [9, 6, 7, 5]\n",
    "lc è [9, 6, 7, 5]\n",
    "```\n",
    "\n",
    "perchè \n",
    "\n",
    "```python\n",
    "la = [8,7,7]\n",
    "lb = [9,6,7,5]\n",
    "# la variabile lc viene associata alla stessa identica lista di lb. \n",
    "lc = lb          \n",
    "# la variabile la viene associata alla stessa identica lista di lb. \n",
    "# La lista precedentemente associata a la viene persa\n",
    "la = lb\n",
    "```"
   ]
  },
  {
   "cell_type": "raw",
   "id": "a0742c79",
   "metadata": {
    "format": "text/html"
   },
   "source": [
    "</div>"
   ]
  },
  {
   "cell_type": "code",
   "execution_count": 39,
   "metadata": {},
   "outputs": [
    {
     "data": {
      "text/html": [
       "        \n",
       "        <script src=\"../_static/js/pytutor-embed.bundle.min.js\" type=\"application/javascript\"></script>\n",
       "    \n",
       "        <style>\n",
       "        @import \"../_static/css/jupman.css\";\n",
       "        </style>\n",
       "     \n",
       "        <script id=\"json-jm-b3eeb3062e5fca3be77c6d5e80a1bbc1-41\" type=\"application/json\" >\n",
       "            {\"code\": \" \\nla = [8,7,7]\\nlb = [9,6,7,5]\\nlc = lb\\nla = lb\\n#print('la \\u00e8', la)\\n#print('lb \\u00e8', lb)\\n#print('lc \\u00e8', lc)\", \"trace\": [{\"line\": 2, \"event\": \"step_line\", \"func_name\": \"<module>\", \"globals\": {}, \"ordered_globals\": [], \"stack_to_render\": [], \"heap\": {}, \"stdout\": \"\"}, {\"line\": 3, \"event\": \"step_line\", \"func_name\": \"<module>\", \"globals\": {\"la\": [\"REF\", 1]}, \"ordered_globals\": [\"la\"], \"stack_to_render\": [], \"heap\": {\"1\": [\"LIST\", 8, 7, 7]}, \"stdout\": \"\"}, {\"line\": 4, \"event\": \"step_line\", \"func_name\": \"<module>\", \"globals\": {\"la\": [\"REF\", 1], \"lb\": [\"REF\", 2]}, \"ordered_globals\": [\"la\", \"lb\"], \"stack_to_render\": [], \"heap\": {\"1\": [\"LIST\", 8, 7, 7], \"2\": [\"LIST\", 9, 6, 7, 5]}, \"stdout\": \"\"}, {\"line\": 5, \"event\": \"step_line\", \"func_name\": \"<module>\", \"globals\": {\"la\": [\"REF\", 1], \"lb\": [\"REF\", 2], \"lc\": [\"REF\", 2]}, \"ordered_globals\": [\"la\", \"lb\", \"lc\"], \"stack_to_render\": [], \"heap\": {\"1\": [\"LIST\", 8, 7, 7], \"2\": [\"LIST\", 9, 6, 7, 5]}, \"stdout\": \"\"}, {\"line\": 5, \"event\": \"return\", \"func_name\": \"<module>\", \"globals\": {\"la\": [\"REF\", 2], \"lb\": [\"REF\", 2], \"lc\": [\"REF\", 2]}, \"ordered_globals\": [\"la\", \"lb\", \"lc\"], \"stack_to_render\": [], \"heap\": {\"2\": [\"LIST\", 9, 6, 7, 5]}, \"stdout\": \"\"}]}\n",
       "        </script>\n",
       "        <div id=\"jm-b3eeb3062e5fca3be77c6d5e80a1bbc1-41\" class=\"pytutorVisualizer\"> </div>\n",
       "                        \n",
       "        <script>\n",
       "        \n",
       "        (function(){\n",
       "            console.log(\"jupman.py embedded javascript: adding Python tutor visualizer...\")\n",
       "            \n",
       "            var trace = JSON.parse(document.getElementById('json-jm-b3eeb3062e5fca3be77c6d5e80a1bbc1-41').innerHTML);                                        \n",
       "            // NOTE: id without #\n",
       "                    \n",
       "            addVisualizerToPage(trace, 'jm-b3eeb3062e5fca3be77c6d5e80a1bbc1-41',{'embeddedMode' : false,\n",
       "                                             'disableHeapNesting': true,\n",
       "                                             'visualizerIdOverride':'viz-jm-b3eeb3062e5fca3be77c6d5e80a1bbc1-41'})  \n",
       "            \n",
       "            \n",
       "            // set overflow for pytuts - need to do in python as css \n",
       "            // does not allow parent selection\n",
       "            var pytuts = $('.pytutorVisualizer')\n",
       "            pytuts.closest('div.output_html.rendered_html.output_result')\n",
       "                    .css('overflow-x', 'visible')\n",
       "        \n",
       "            //pytuts.closest('div.output_html.rendered_html.output_result')\n",
       "            //      .css('background-color','red')                \n",
       "            \n",
       "        })()\n",
       "        </script>\n",
       "                \n",
       "    \n",
       "    <div style=\"text-align:center; font-size:0.9em\"> <a href=\"https://pythontutor.com/visualize.html#mode=edit\" target=\"_blank\">Python Tutor</a> visualization</div> \n",
       "    "
      ],
      "text/plain": [
       "<IPython.core.display.HTML object>"
      ]
     },
     "execution_count": 39,
     "metadata": {},
     "output_type": "execute_result"
    }
   ],
   "source": [
    "la = [8,7,7]\n",
    "lb = [9,6,7,5]\n",
    "lc = lb\n",
    "la = lb\n",
    "#print('la è', la)\n",
    "#print('lb è', lb)\n",
    "#print('lc è', lc)\n",
    "jupman.pytut()"
   ]
  },
  {
   "cell_type": "markdown",
   "metadata": {},
   "source": [
    "**DOMANDA**: Guarda il codice seguente. Dopo la sua esecuzione, cosa produrrà la stampa di `la`, `lb` ed `lc` ? \n",
    "\n",
    "Prova a disegnare **SU CARTA** quello che succede in memoria, e poi confronta con il risultato in Python Tutor!\n",
    "\n",
    "```python\n",
    "la = [7,8,5]\n",
    "lb = [6,7]\n",
    "lc = lb\n",
    "lb = la\n",
    "lc[0] = 9\n",
    "print('la è', la)\n",
    "print('lb è', lb)\n",
    "print('lc è', lc)\n",
    "```"
   ]
  },
  {
   "cell_type": "raw",
   "id": "e65f6af7",
   "metadata": {
    "format": "text/html"
   },
   "source": [
    "<a  class=\"jupman-sol jupman-sol-toggler\" \n",
    " onclick=\"jupman.toggleSolution(this);\" \n",
    " data-jupman-show=\"Mostra risposta\" data-jupman-hide=\"Nascondi\">Mostra risposta</a><div class=\"jupman-sol jupman-sol-question\" style=\"display:none\">  "
   ]
  },
  {
   "cell_type": "markdown",
   "metadata": {},
   "source": [
    "**RISPOSTA**: La stampa produrrà\n",
    "```\n",
    "la è [7, 8, 5]\n",
    "lb è [7, 8, 5]\n",
    "lc è [9, 7]\n",
    "```\n",
    "\n",
    "perchè :\n",
    "\n",
    "``` python\n",
    "la = [7,8,5]\n",
    "lb = [6,7]\n",
    "# la variabile lc viene assegnata alla stessa lista di lb [6,7]\n",
    "lc = lb    \n",
    "# la variabile lb viene associata alla stessa lista di la [7,8,5]. \n",
    "# Questo non cambia l'assegnazione di lc, che resta associato a [6,7] !\n",
    "lb = la    \n",
    "# Modifica il primo elemento della lista associata a lc che da [6,7] diventa [9,7]\n",
    "lc[0] = 9\n",
    "print('la è', la)\n",
    "print('lb è', lb)\n",
    "print('lc è', lc)\n",
    "\n",
    "```"
   ]
  },
  {
   "cell_type": "raw",
   "id": "4281f05b",
   "metadata": {
    "format": "text/html"
   },
   "source": [
    "</div>"
   ]
  },
  {
   "cell_type": "code",
   "execution_count": 40,
   "metadata": {},
   "outputs": [
    {
     "data": {
      "text/html": [
       "        \n",
       "        <script src=\"../_static/js/pytutor-embed.bundle.min.js\" type=\"application/javascript\"></script>\n",
       "    \n",
       "        <style>\n",
       "        @import \"../_static/css/jupman.css\";\n",
       "        </style>\n",
       "     \n",
       "        <script id=\"json-jm-1487569d1e2971b3e8b0af14b4fef25d-42\" type=\"application/json\" >\n",
       "            {\"code\": \" \\nla = [7,8,5]\\nlb = [6,7]\\nlc = lb\\nlb = la\\nlc[0] = 9\\n#print('la \\u00e8', la)\\n#print('lb \\u00e8', lb)\\n#print('lc \\u00e8', lc)\", \"trace\": [{\"line\": 2, \"event\": \"step_line\", \"func_name\": \"<module>\", \"globals\": {}, \"ordered_globals\": [], \"stack_to_render\": [], \"heap\": {}, \"stdout\": \"\"}, {\"line\": 3, \"event\": \"step_line\", \"func_name\": \"<module>\", \"globals\": {\"la\": [\"REF\", 1]}, \"ordered_globals\": [\"la\"], \"stack_to_render\": [], \"heap\": {\"1\": [\"LIST\", 7, 8, 5]}, \"stdout\": \"\"}, {\"line\": 4, \"event\": \"step_line\", \"func_name\": \"<module>\", \"globals\": {\"la\": [\"REF\", 1], \"lb\": [\"REF\", 2]}, \"ordered_globals\": [\"la\", \"lb\"], \"stack_to_render\": [], \"heap\": {\"1\": [\"LIST\", 7, 8, 5], \"2\": [\"LIST\", 6, 7]}, \"stdout\": \"\"}, {\"line\": 5, \"event\": \"step_line\", \"func_name\": \"<module>\", \"globals\": {\"la\": [\"REF\", 1], \"lb\": [\"REF\", 2], \"lc\": [\"REF\", 2]}, \"ordered_globals\": [\"la\", \"lb\", \"lc\"], \"stack_to_render\": [], \"heap\": {\"1\": [\"LIST\", 7, 8, 5], \"2\": [\"LIST\", 6, 7]}, \"stdout\": \"\"}, {\"line\": 6, \"event\": \"step_line\", \"func_name\": \"<module>\", \"globals\": {\"la\": [\"REF\", 1], \"lb\": [\"REF\", 1], \"lc\": [\"REF\", 2]}, \"ordered_globals\": [\"la\", \"lb\", \"lc\"], \"stack_to_render\": [], \"heap\": {\"1\": [\"LIST\", 7, 8, 5], \"2\": [\"LIST\", 6, 7]}, \"stdout\": \"\"}, {\"line\": 6, \"event\": \"return\", \"func_name\": \"<module>\", \"globals\": {\"la\": [\"REF\", 1], \"lb\": [\"REF\", 1], \"lc\": [\"REF\", 2]}, \"ordered_globals\": [\"la\", \"lb\", \"lc\"], \"stack_to_render\": [], \"heap\": {\"1\": [\"LIST\", 7, 8, 5], \"2\": [\"LIST\", 9, 7]}, \"stdout\": \"\"}]}\n",
       "        </script>\n",
       "        <div id=\"jm-1487569d1e2971b3e8b0af14b4fef25d-42\" class=\"pytutorVisualizer\"> </div>\n",
       "                        \n",
       "        <script>\n",
       "        \n",
       "        (function(){\n",
       "            console.log(\"jupman.py embedded javascript: adding Python tutor visualizer...\")\n",
       "            \n",
       "            var trace = JSON.parse(document.getElementById('json-jm-1487569d1e2971b3e8b0af14b4fef25d-42').innerHTML);                                        \n",
       "            // NOTE: id without #\n",
       "                    \n",
       "            addVisualizerToPage(trace, 'jm-1487569d1e2971b3e8b0af14b4fef25d-42',{'embeddedMode' : false,\n",
       "                                             'disableHeapNesting': true,\n",
       "                                             'visualizerIdOverride':'viz-jm-1487569d1e2971b3e8b0af14b4fef25d-42'})  \n",
       "            \n",
       "            \n",
       "            // set overflow for pytuts - need to do in python as css \n",
       "            // does not allow parent selection\n",
       "            var pytuts = $('.pytutorVisualizer')\n",
       "            pytuts.closest('div.output_html.rendered_html.output_result')\n",
       "                    .css('overflow-x', 'visible')\n",
       "        \n",
       "            //pytuts.closest('div.output_html.rendered_html.output_result')\n",
       "            //      .css('background-color','red')                \n",
       "            \n",
       "        })()\n",
       "        </script>\n",
       "                \n",
       "    \n",
       "    <div style=\"text-align:center; font-size:0.9em\"> <a href=\"https://pythontutor.com/visualize.html#mode=edit\" target=\"_blank\">Python Tutor</a> visualization</div> \n",
       "    "
      ],
      "text/plain": [
       "<IPython.core.display.HTML object>"
      ]
     },
     "execution_count": 40,
     "metadata": {},
     "output_type": "execute_result"
    }
   ],
   "source": [
    "la = [7,8,5]\n",
    "lb = [6,7]\n",
    "lc = lb\n",
    "lb = la\n",
    "lc[0] = 9\n",
    "#print('la è', la)\n",
    "#print('lb è', lb)\n",
    "#print('lc è', lc)\n",
    "\n",
    "jupman.pytut()"
   ]
  },
  {
   "cell_type": "markdown",
   "metadata": {},
   "source": [
    "## Liste di stringhe"
   ]
  },
  {
   "cell_type": "markdown",
   "metadata": {},
   "source": [
    "Abbiamo detto che in una lista possiamo mettere qualunque oggetto, per esempio delle stringhe:"
   ]
  },
  {
   "cell_type": "code",
   "execution_count": 41,
   "metadata": {},
   "outputs": [],
   "source": [
    "verdure = ['pomodori', 'verze', 'carote', 'cavoli']"
   ]
  },
  {
   "cell_type": "markdown",
   "metadata": {},
   "source": [
    "Proviamo ad estrarre una verdura scrivendo questa espressione: "
   ]
  },
  {
   "cell_type": "code",
   "execution_count": 42,
   "metadata": {},
   "outputs": [
    {
     "data": {
      "text/plain": [
       "'carote'"
      ]
     },
     "execution_count": 42,
     "metadata": {},
     "output_type": "execute_result"
    }
   ],
   "source": [
    "verdure[2]"
   ]
  },
  {
   "cell_type": "markdown",
   "metadata": {},
   "source": [
    "Ora, l'espressione precedente ci ha prodotto il risultato `'carote'`, che sappiamo essere una stringa. Questo ci suggerisce che possiamo usare l'espressione esattamente come se fosse una stringa. \n",
    "\n",
    "Supponiamo che vogliamo ottenere il primo carattere della stringa `'carote'`, avendo direttamente la stringa scriveremmo così: "
   ]
  },
  {
   "cell_type": "code",
   "execution_count": 43,
   "metadata": {},
   "outputs": [
    {
     "data": {
      "text/plain": [
       "'c'"
      ]
     },
     "execution_count": 43,
     "metadata": {},
     "output_type": "execute_result"
    }
   ],
   "source": [
    "'carote'[0]"
   ]
  },
  {
   "cell_type": "markdown",
   "metadata": {},
   "source": [
    "Ma se la stringa è racchiusa nella lista di prima, potremmo fare direttamente così:"
   ]
  },
  {
   "cell_type": "code",
   "execution_count": 44,
   "metadata": {},
   "outputs": [
    {
     "data": {
      "text/plain": [
       "'c'"
      ]
     },
     "execution_count": 44,
     "metadata": {},
     "output_type": "execute_result"
    }
   ],
   "source": [
    "verdure[2][0]"
   ]
  },
  {
   "cell_type": "markdown",
   "metadata": {},
   "source": [
    "Visto che l'espressione `verdure[2]` produce a tutti gli effetti una stringa, possiamo chiamare i metodi delle stringhe che vogliamo:"
   ]
  },
  {
   "cell_type": "code",
   "execution_count": 45,
   "metadata": {},
   "outputs": [
    {
     "data": {
      "text/plain": [
       "'Carote'"
      ]
     },
     "execution_count": 45,
     "metadata": {},
     "output_type": "execute_result"
    }
   ],
   "source": [
    "verdure[2].capitalize()"
   ]
  },
  {
   "cell_type": "markdown",
   "metadata": {},
   "source": [
    "### Esercizio - sigle\n",
    "\n",
    "Data una lista con sigle di esattamente 4 capoluoghi in minuscolo, scrivere del codice che crea una NUOVA lista contente le stesse sigle in caratteri tutti maiuscoli. \n",
    "\n",
    "* il tuo codice deve funzionare con qualunque lista di 4 capoluoghi\n",
    "* suggerimento: se non ti ricordi il metodo giusto, [guarda qua](https://it.softpython.org/strings/strings3-sol.html)\n",
    "\n",
    "Esempio 1 - dato:\n",
    "\n",
    "```python\n",
    "sigle = ['tn','mi','to','ro']\n",
    "```\n",
    "\n",
    "il tuo codice deve stampare\n",
    "\n",
    "```python\n",
    "['TN', 'MI', 'TO', 'RO']\n",
    "```\n",
    "\n",
    "Esempio 2 - dato:\n",
    "\n",
    "```python\n",
    "sigle = ['pa','ge','ve', 'aq']\n",
    "```\n",
    "\n",
    "il tuo codice deve stampare:\n",
    "\n",
    "```python\n",
    "['PA', 'GE', 'VE', 'AQ']\n",
    "```\n",
    "\n",
    "![plate](img/plate.png)"
   ]
  },
  {
   "cell_type": "raw",
   "id": "b5a4bcff",
   "metadata": {
    "format": "text/html"
   },
   "source": [
    "<a  class=\"jupman-sol jupman-sol-toggler\" \n",
    " onclick=\"jupman.toggleSolution(this);\" \n",
    " data-jupman-show=\"Mostra soluzione\" data-jupman-hide=\"Nascondi\">Mostra soluzione</a><div class=\"jupman-sol jupman-sol-code\" style=\"display:none\">  "
   ]
  },
  {
   "cell_type": "code",
   "execution_count": 46,
   "metadata": {},
   "outputs": [
    {
     "name": "stdout",
     "output_type": "stream",
     "text": [
      "['TN', 'MI', 'TO', 'RO']\n"
     ]
    }
   ],
   "source": [
    "\n",
    "sigle = ['tn','mi','to','ro']\n",
    "#sigle = ['pa','ge','ve', 'aq']\n",
    "\n",
    "# scrivi qui\n",
    "\n",
    "print([sigle[0].upper(), sigle[1].upper(), sigle[2].upper(), sigle[3].upper()])"
   ]
  },
  {
   "cell_type": "raw",
   "id": "9630191f",
   "metadata": {
    "format": "text/html"
   },
   "source": [
    "</div>"
   ]
  },
  {
   "cell_type": "code",
   "execution_count": 46,
   "metadata": {},
   "outputs": [],
   "source": [
    "\n",
    "sigle = ['tn','mi','to','ro']\n",
    "#sigle = ['pa','ge','ve', 'aq']\n",
    "\n",
    "# scrivi qui\n",
    "\n"
   ]
  },
  {
   "cell_type": "markdown",
   "metadata": {},
   "source": [
    "### Esercizio - giochi\n",
    "\n",
    "Data una lista `giochi` di esattamente 3 stringhe, scrivi del codice che MODIFICA la lista in modo che contenga solo i primi caratteri di ciascuna stringa\n",
    "\n",
    "* Il tuo codice deve funzionare con qualunque lista di esattamente 3 stringhe\n",
    "\n",
    "Esempio - data:\n",
    "\n",
    "```python\n",
    "giochi = [\"Monopoli\", \"RISIKO\", \"Tombola\"]\n",
    "```\n",
    "\n",
    "Dopo l'esecuzione del tuo codice, deve risultare:\n",
    "\n",
    "```python\n",
    ">>> print(giochi)\n",
    "[\"M\",\"R\",\"T\"]\n",
    "```\n",
    "\n",
    "* **NON** creare liste nuove (quindi niente assegnazioni come `giochi = ` ...)"
   ]
  },
  {
   "cell_type": "raw",
   "id": "4ea1e842",
   "metadata": {
    "format": "text/html"
   },
   "source": [
    "<a  class=\"jupman-sol jupman-sol-toggler\" \n",
    " onclick=\"jupman.toggleSolution(this);\" \n",
    " data-jupman-show=\"Mostra soluzione\" data-jupman-hide=\"Nascondi\">Mostra soluzione</a><div class=\"jupman-sol jupman-sol-code\" style=\"display:none\">  "
   ]
  },
  {
   "cell_type": "code",
   "execution_count": 47,
   "metadata": {},
   "outputs": [
    {
     "name": "stdout",
     "output_type": "stream",
     "text": [
      "['M', 'R', 'T']\n"
     ]
    }
   ],
   "source": [
    "\n",
    "giochi = [\"Monopoli\", \"RISIKO\", \"Tombola\"]                     # ['M','R','T']\n",
    "#giochi = [\"Non t'arrabbiare\", \"Gioco dell'oca\", \"Scarabeo\"]   # ['N','G','S']\n",
    "\n",
    "# scrivi qui\n",
    "\n",
    "giochi[0] = giochi[0][0]\n",
    "giochi[1] = giochi[1][0]\n",
    "giochi[2] = giochi[2][0]\n",
    "print(giochi)"
   ]
  },
  {
   "cell_type": "raw",
   "id": "cdcc70a7",
   "metadata": {
    "format": "text/html"
   },
   "source": [
    "</div>"
   ]
  },
  {
   "cell_type": "code",
   "execution_count": 47,
   "metadata": {},
   "outputs": [],
   "source": [
    "\n",
    "giochi = [\"Monopoli\", \"RISIKO\", \"Tombola\"]                     # ['M','R','T']\n",
    "#giochi = [\"Non t'arrabbiare\", \"Gioco dell'oca\", \"Scarabeo\"]   # ['N','G','S']\n",
    "\n",
    "# scrivi qui\n",
    "\n"
   ]
  },
  {
   "cell_type": "markdown",
   "metadata": {},
   "source": [
    "## Slice\n",
    "\n",
    "Possiamo estrarre delle sequenze dalle liste usando le slice. Una slice si produce aggiungendo delle parentesi quadre alla destra della lista e mettendo nelle quadre l'indice di partenza (INCLUSO), seguito da due punti `:`, seguito dall'indice di fine (ESCLUSO). Funziona esattamente come per le stringhe: in quel caso la quadra produceva una nuova stringa, in questo si produce una NUOVA lista. Vediamo un esempio:"
   ]
  },
  {
   "cell_type": "code",
   "execution_count": 48,
   "metadata": {},
   "outputs": [],
   "source": [
    "     #0  1  2  3  4  5  6  7  8  9\n",
    "la = [40,30,90,80,60,10,40,20,50,60]"
   ]
  },
  {
   "cell_type": "code",
   "execution_count": 49,
   "metadata": {},
   "outputs": [
    {
     "data": {
      "text/plain": [
       "[80, 60, 10, 40]"
      ]
     },
     "execution_count": 49,
     "metadata": {},
     "output_type": "execute_result"
    }
   ],
   "source": [
    "la[3:7]"
   ]
  },
  {
   "cell_type": "markdown",
   "metadata": {},
   "source": [
    "Abbiamo estratto una NUOVA lista `[80, 60, 10, 40]` a partire della lista `la` partendo dall'indice `3` INCLUSO fino all'indice `7` ESCLUSO. Possiamo vedere che la lista originale si è preservata:"
   ]
  },
  {
   "cell_type": "code",
   "execution_count": 50,
   "metadata": {},
   "outputs": [
    {
     "data": {
      "text/plain": [
       "[40, 30, 90, 80, 60, 10, 40, 20, 50, 60]"
      ]
     },
     "execution_count": 50,
     "metadata": {},
     "output_type": "execute_result"
    }
   ],
   "source": [
    "la"
   ]
  },
  {
   "cell_type": "markdown",
   "metadata": {},
   "source": [
    "Verifichiamo cosa succede con Python Tutor, assegnando la nuova lista ad una variabile `lb`:"
   ]
  },
  {
   "cell_type": "code",
   "execution_count": 51,
   "metadata": {},
   "outputs": [
    {
     "data": {
      "text/html": [
       "        \n",
       "        <script src=\"../_static/js/pytutor-embed.bundle.min.js\" type=\"application/javascript\"></script>\n",
       "    \n",
       "        <style>\n",
       "        @import \"../_static/css/jupman.css\";\n",
       "        </style>\n",
       "     \n",
       "        <script id=\"json-jm-fda6a7d9c315190cdc8330753e08bd9d-53\" type=\"application/json\" >\n",
       "            {\"code\": \" \\n#     0  1  2  3  4  5  6  7  8  9\\nla = [40,30,90,80,60,10,40,20,50,60]\\nlb = la[3:7]\", \"trace\": [{\"line\": 3, \"event\": \"step_line\", \"func_name\": \"<module>\", \"globals\": {}, \"ordered_globals\": [], \"stack_to_render\": [], \"heap\": {}, \"stdout\": \"\"}, {\"line\": 4, \"event\": \"step_line\", \"func_name\": \"<module>\", \"globals\": {\"la\": [\"REF\", 1]}, \"ordered_globals\": [\"la\"], \"stack_to_render\": [], \"heap\": {\"1\": [\"LIST\", 40, 30, 90, 80, 60, 10, 40, 20, 50, 60]}, \"stdout\": \"\"}, {\"line\": 4, \"event\": \"return\", \"func_name\": \"<module>\", \"globals\": {\"la\": [\"REF\", 1], \"lb\": [\"REF\", 2]}, \"ordered_globals\": [\"la\", \"lb\"], \"stack_to_render\": [], \"heap\": {\"1\": [\"LIST\", 40, 30, 90, 80, 60, 10, 40, 20, 50, 60], \"2\": [\"LIST\", 80, 60, 10, 40]}, \"stdout\": \"\"}]}\n",
       "        </script>\n",
       "        <div id=\"jm-fda6a7d9c315190cdc8330753e08bd9d-53\" class=\"pytutorVisualizer\"> </div>\n",
       "                        \n",
       "        <script>\n",
       "        \n",
       "        (function(){\n",
       "            console.log(\"jupman.py embedded javascript: adding Python tutor visualizer...\")\n",
       "            \n",
       "            var trace = JSON.parse(document.getElementById('json-jm-fda6a7d9c315190cdc8330753e08bd9d-53').innerHTML);                                        \n",
       "            // NOTE: id without #\n",
       "                    \n",
       "            addVisualizerToPage(trace, 'jm-fda6a7d9c315190cdc8330753e08bd9d-53',{'embeddedMode' : false,\n",
       "                                             'disableHeapNesting': true,\n",
       "                                             'visualizerIdOverride':'viz-jm-fda6a7d9c315190cdc8330753e08bd9d-53'})  \n",
       "            \n",
       "            \n",
       "            // set overflow for pytuts - need to do in python as css \n",
       "            // does not allow parent selection\n",
       "            var pytuts = $('.pytutorVisualizer')\n",
       "            pytuts.closest('div.output_html.rendered_html.output_result')\n",
       "                    .css('overflow-x', 'visible')\n",
       "        \n",
       "            //pytuts.closest('div.output_html.rendered_html.output_result')\n",
       "            //      .css('background-color','red')                \n",
       "            \n",
       "        })()\n",
       "        </script>\n",
       "                \n",
       "    \n",
       "    <div style=\"text-align:center; font-size:0.9em\"> <a href=\"https://pythontutor.com/visualize.html#mode=edit\" target=\"_blank\">Python Tutor</a> visualization</div> \n",
       "    "
      ],
      "text/plain": [
       "<IPython.core.display.HTML object>"
      ]
     },
     "execution_count": 51,
     "metadata": {},
     "output_type": "execute_result"
    }
   ],
   "source": [
    "#     0  1  2  3  4  5  6  7  8  9\n",
    "la = [40,30,90,80,60,10,40,20,50,60]\n",
    "lb = la[3:7]\n",
    "\n",
    "jupman.pytut()"
   ]
  },
  {
   "cell_type": "markdown",
   "metadata": {},
   "source": [
    "Noterai che compare una NUOVA regione di memoria, associata alla variabile `lb`."
   ]
  },
  {
   "cell_type": "markdown",
   "metadata": {},
   "source": [
    "### Slice - limiti\n",
    "\n",
    "Quando operiamo con le slice dobbiamo stare attenti ai limiti degli indici. Vediamo come si comportano:"
   ]
  },
  {
   "cell_type": "code",
   "execution_count": 52,
   "metadata": {},
   "outputs": [
    {
     "data": {
      "text/plain": [
       "[50, 90, 70]"
      ]
     },
     "execution_count": 52,
     "metadata": {},
     "output_type": "execute_result"
    }
   ],
   "source": [
    "#0  1  2  3  4  \n",
    "[50,90,70,80,60][0:3]  # da indice 0 *incluso* a 3 *escluso*"
   ]
  },
  {
   "cell_type": "code",
   "execution_count": 53,
   "metadata": {},
   "outputs": [
    {
     "data": {
      "text/plain": [
       "[50, 90, 70, 80]"
      ]
     },
     "execution_count": 53,
     "metadata": {},
     "output_type": "execute_result"
    }
   ],
   "source": [
    "#0  1  2  3  4  \n",
    "[50,90,70,80,60][0:4]  # da indice 0 *incluso* a 4 *escluso*"
   ]
  },
  {
   "cell_type": "code",
   "execution_count": 54,
   "metadata": {},
   "outputs": [
    {
     "data": {
      "text/plain": [
       "[50, 90, 70, 80, 60]"
      ]
     },
     "execution_count": 54,
     "metadata": {},
     "output_type": "execute_result"
    }
   ],
   "source": [
    "#0  1  2  3  4  \n",
    "[50,90,70,80,60][0:5]  # da indice 0 *incluso* a 5 *escluso*"
   ]
  },
  {
   "cell_type": "code",
   "execution_count": 55,
   "metadata": {},
   "outputs": [
    {
     "data": {
      "text/plain": [
       "[50, 90, 70, 80, 60]"
      ]
     },
     "execution_count": 55,
     "metadata": {},
     "output_type": "execute_result"
    }
   ],
   "source": [
    "#0  1  2  3  4  \n",
    "[50,90,70,80,60][0:6]   # se andiamo oltre la lunghezza della lista Python non si arrabbia"
   ]
  },
  {
   "cell_type": "code",
   "execution_count": 56,
   "metadata": {},
   "outputs": [
    {
     "data": {
      "text/plain": [
       "[]"
      ]
     },
     "execution_count": 56,
     "metadata": {},
     "output_type": "execute_result"
    }
   ],
   "source": [
    "#0  1  2  3  4  \n",
    "[50,90,70,80,60][8:12]   # anche se partiamo da indici inesistenti Python non si arrabbia"
   ]
  },
  {
   "cell_type": "markdown",
   "metadata": {},
   "source": [
    "**DOMANDA**: Questa espressione\n",
    "\n",
    "```python\n",
    "[][0:8]\n",
    "```\n",
    "1. produce un risultato (quale?)\n",
    "2. produce un errore (quale?)"
   ]
  },
  {
   "cell_type": "raw",
   "id": "93c26397",
   "metadata": {
    "format": "text/html"
   },
   "source": [
    "<a  class=\"jupman-sol jupman-sol-toggler\" \n",
    " onclick=\"jupman.toggleSolution(this);\" \n",
    " data-jupman-show=\"Mostra risposta\" data-jupman-hide=\"Nascondi\">Mostra risposta</a><div class=\"jupman-sol jupman-sol-question\" style=\"display:none\">  "
   ]
  },
  {
   "cell_type": "markdown",
   "metadata": {},
   "source": [
    "**RISPOSTA**: data una lista vuota, stiamo cercando di ottenere una sottolista che va dall'indice 0 INCLUSO all'indice 8 ESCLUSO. Come abbiamo visto prima, se sforiamo Pyhton non si arrabbia, quindi semplicemente non trovando elementi ci ritorna una lista vuota."
   ]
  },
  {
   "cell_type": "raw",
   "id": "47d20570",
   "metadata": {
    "format": "text/html"
   },
   "source": [
    "</div>"
   ]
  },
  {
   "cell_type": "markdown",
   "metadata": {},
   "source": [
    "**DOMANDA**: Questa espressione\n",
    "\n",
    "```python\n",
    "[][3:8]\n",
    "```\n",
    "1. produce un risultato (quale?)\n",
    "2. produce un errore (quale?)"
   ]
  },
  {
   "cell_type": "raw",
   "id": "72f4591a",
   "metadata": {
    "format": "text/html"
   },
   "source": [
    "<a  class=\"jupman-sol jupman-sol-toggler\" \n",
    " onclick=\"jupman.toggleSolution(this);\" \n",
    " data-jupman-show=\"Mostra risposta\" data-jupman-hide=\"Nascondi\">Mostra risposta</a><div class=\"jupman-sol jupman-sol-question\" style=\"display:none\">  "
   ]
  },
  {
   "cell_type": "markdown",
   "metadata": {},
   "source": [
    "**RISPOSTA**: data una lista vuota, stiamo cercando di ottenere una sottolista che va dall'indice 3 INCLUSO all'indice 8 ESCLUSO. Come abbiamo visto prima, se sforiamo anche dal limite sinistro Pyhton non si arrabbia, quindi semplicemente non trovando elementi ci ritorna una lista vuota."
   ]
  },
  {
   "cell_type": "raw",
   "id": "3ce89e2f",
   "metadata": {
    "format": "text/html"
   },
   "source": [
    "</div>"
   ]
  },
  {
   "cell_type": "markdown",
   "metadata": {},
   "source": [
    "**DOMANDA**: se `x` è una lista qualsiasi (anche vuota), questa espressione cosa fa? Può dare errore? o ritorna qualcosa di utile? \n",
    "\n",
    "```python\n",
    "x[0:len(x)]\n",
    "```"
   ]
  },
  {
   "cell_type": "raw",
   "id": "ba887264",
   "metadata": {
    "format": "text/html"
   },
   "source": [
    "<a  class=\"jupman-sol jupman-sol-toggler\" \n",
    " onclick=\"jupman.toggleSolution(this);\" \n",
    " data-jupman-show=\"Mostra risposta\" data-jupman-hide=\"Nascondi\">Mostra risposta</a><div class=\"jupman-sol jupman-sol-question\" style=\"display:none\">  "
   ]
  },
  {
   "cell_type": "markdown",
   "metadata": {},
   "source": [
    "**RISPOSTA**: Ritorna sempre una NUOVA copia dell'intera lista, perchè parte da indice 0 _INCLUSO_ e finisce a indice `len(x)` _ESCLUSO_\n",
    "\n",
    "Funziona anche con la lista vuota, perchè `[][0:len([])]` equivale a `[][0:0]`  cioè sottolista da 0 _incluso_ a 0 _escluso_, quindi non prendiamo nessun carattere e non sforiamo i limiti della lista. In realtà, come abbiamo visto prima, anche se sforassimo Python non avrebbe problemi."
   ]
  },
  {
   "cell_type": "raw",
   "id": "625a0577",
   "metadata": {
    "format": "text/html"
   },
   "source": [
    "</div>"
   ]
  },
  {
   "cell_type": "markdown",
   "metadata": {},
   "source": [
    "### Esercizio - La treccia mochena\n",
    "\n",
    "Come ben sai nella valle dei Mocheni vi è una meravigliosa specialità di cucina pasticciera: si tratta della famosa treccia Mochena.\n",
    "\n",
    "Ad un'occhiata frettolosa la treccia mochena potrebbe apparire come uno sfilatino, lungo tra i 30 e 60 cm al cui interno vengono messi un mix di ingredienti insieme alla mirabolante e segretissima crema.\n",
    "\n",
    "Insieme ai tuoi amici Camilla e Giorgio hai acquistato una treccia farcita divisa in un certo numero di porzioni di granella di `noci`, `mirtilli` e `ribes` rossi:\n",
    "\n",
    "```python\n",
    "treccia = ['n', 'n', 'n', 'n', 'n', 'm', 'm', 'm', 'm', 'm', 'm', 'r', 'r', 'r', 'r']\n",
    "\n",
    "noci,mirtilli,ribes  = 5,6,4\n",
    "```\n",
    "\n",
    "\n",
    "A te piacciono i mirtilli, a Giorgio le noci e a Camilla il ribes.\n",
    "\n",
    "Scrivi del codice per mettere nelle variabili `mio`, `giorgio` e `camilla` delle liste ottenute da `treccia`, e STAMPA il risultato:\n",
    "\n",
    "```python\n",
    "    Mio: ['m', 'm', 'm', 'm', 'm', 'm'] \n",
    "Giorgio: ['n', 'n', 'n', 'n', 'n'] \n",
    "Camilla: ['r', 'r', 'r', 'r']\n",
    "```\n",
    "\n",
    "* supponi la `treccia` abbia sempre solo 3 ingredienti\n",
    "* **NON** scrivere numeri costanti nel codice (a parte `0`)"
   ]
  },
  {
   "cell_type": "raw",
   "id": "7d82f7ce",
   "metadata": {
    "format": "text/html"
   },
   "source": [
    "<a  class=\"jupman-sol jupman-sol-toggler\" \n",
    " onclick=\"jupman.toggleSolution(this);\" \n",
    " data-jupman-show=\"Mostra soluzione\" data-jupman-hide=\"Nascondi\">Mostra soluzione</a><div class=\"jupman-sol jupman-sol-code\" style=\"display:none\">  "
   ]
  },
  {
   "cell_type": "code",
   "execution_count": 57,
   "metadata": {},
   "outputs": [
    {
     "name": "stdout",
     "output_type": "stream",
     "text": [
      "    Mio: ['m', 'm', 'm', 'm', 'm', 'm'] \n",
      "Giorgio: ['n', 'n', 'n', 'n', 'n'] \n",
      "Camilla: ['r', 'r', 'r', 'r']\n"
     ]
    }
   ],
   "source": [
    "\n",
    "\n",
    "#                                     Noci                     Mirtilli                      Ribes\n",
    "noci,mirtilli,ribes,treccia  = 5,6,4,['n', 'n', 'n', 'n', 'n', 'm', 'm', 'm', 'm', 'm', 'm', 'r', 'r', 'r', 'r']\n",
    "#noci,mirtilli,ribes,treccia = 2,4,3,['N', 'N', 'M', 'M', 'M', 'M', 'R', 'R', 'R']\n",
    "\n",
    "# scrivi qui\n",
    "mio = treccia[noci : noci+mirtilli]\n",
    "giorgio = treccia[0 : noci]\n",
    "camilla = treccia[noci+mirtilli : noci+mirtilli+ribes]\n",
    "print(\"    Mio: %s \\nGiorgio: %s \\nCamilla: %s\" % (mio, giorgio, camilla))"
   ]
  },
  {
   "cell_type": "raw",
   "id": "2538500d",
   "metadata": {
    "format": "text/html"
   },
   "source": [
    "</div>"
   ]
  },
  {
   "cell_type": "code",
   "execution_count": 57,
   "metadata": {},
   "outputs": [],
   "source": [
    "\n",
    "\n",
    "#                                     Noci                     Mirtilli                      Ribes\n",
    "noci,mirtilli,ribes,treccia  = 5,6,4,['n', 'n', 'n', 'n', 'n', 'm', 'm', 'm', 'm', 'm', 'm', 'r', 'r', 'r', 'r']\n",
    "#noci,mirtilli,ribes,treccia = 2,4,3,['N', 'N', 'M', 'M', 'M', 'M', 'R', 'R', 'R']\n",
    "\n",
    "# scrivi qui\n",
    "\n"
   ]
  },
  {
   "cell_type": "markdown",
   "metadata": {},
   "source": [
    "### Slice - omissione limiti"
   ]
  },
  {
   "cell_type": "markdown",
   "metadata": {},
   "source": [
    "Volendo, è possibile omettere l'indice di partenza, in tal caso Python supporrà sia 0:"
   ]
  },
  {
   "cell_type": "code",
   "execution_count": 58,
   "metadata": {},
   "outputs": [
    {
     "data": {
      "text/plain": [
       "[90, 60, 80]"
      ]
     },
     "execution_count": 58,
     "metadata": {},
     "output_type": "execute_result"
    }
   ],
   "source": [
    "#0  1  2  3  4  5  6  7  8  9\n",
    "[90,60,80,70,60,90,60,50,70][:3]"
   ]
  },
  {
   "cell_type": "markdown",
   "metadata": {},
   "source": [
    "E' anche possibile omettere l'indice di fine, in tal caso Python estrarrà fino alla fine della lista:"
   ]
  },
  {
   "cell_type": "code",
   "execution_count": 59,
   "metadata": {},
   "outputs": [
    {
     "data": {
      "text/plain": [
       "[70, 60, 90, 60, 50, 70]"
      ]
     },
     "execution_count": 59,
     "metadata": {},
     "output_type": "execute_result"
    }
   ],
   "source": [
    "#0  1  2  3  4  5  6  7  8  9\n",
    "[90,60,80,70,60,90,60,50,70][3:]"
   ]
  },
  {
   "cell_type": "markdown",
   "metadata": {},
   "source": [
    "Omettendo entrambi gli indici si ottiene l'intera lista:"
   ]
  },
  {
   "cell_type": "code",
   "execution_count": 60,
   "metadata": {},
   "outputs": [
    {
     "data": {
      "text/plain": [
       "[90, 60, 80, 70, 60, 90, 60, 50, 70]"
      ]
     },
     "execution_count": 60,
     "metadata": {},
     "output_type": "execute_result"
    }
   ],
   "source": [
    "#0  1  2  3  4  5  6  7  8  9\n",
    "[90,60,80,70,60,90,60,50,70][:]"
   ]
  },
  {
   "cell_type": "markdown",
   "metadata": {},
   "source": [
    "**DOMANDA**: Cosa stamperà questo codice ? `la` sarà modificato oppure no?\n",
    "\n",
    "```python\n",
    "la = [7,8,9]\n",
    "lb = la[:]\n",
    "lb[0] = 6\n",
    "print('la =',la)\n",
    "print('lb =',lb)\n",
    "```"
   ]
  },
  {
   "cell_type": "raw",
   "id": "b99ca640",
   "metadata": {
    "format": "text/html"
   },
   "source": [
    "<a  class=\"jupman-sol jupman-sol-toggler\" \n",
    " onclick=\"jupman.toggleSolution(this);\" \n",
    " data-jupman-show=\"Mostra risposta\" data-jupman-hide=\"Nascondi\">Mostra risposta</a><div class=\"jupman-sol jupman-sol-question\" style=\"display:none\">  "
   ]
  },
  {
   "cell_type": "markdown",
   "metadata": {},
   "source": [
    "**RISPOSTA**: `lb = la[:]` crea una NUOVA lista contente tutti gli elementi che stanno in `la`. Quindi quando scriviamo `lb[0] = 6` stiamo modificando solo la regione di memoria associat a `lb`. Se osservi in Python Tutor, vedrai che `la` e `lb` puntano a regioni di memoria differenti:\n"
   ]
  },
  {
   "cell_type": "raw",
   "id": "26a10fd6",
   "metadata": {
    "format": "text/html"
   },
   "source": [
    "</div>"
   ]
  },
  {
   "cell_type": "code",
   "execution_count": 61,
   "metadata": {},
   "outputs": [
    {
     "data": {
      "text/html": [
       "        \n",
       "        <script src=\"../_static/js/pytutor-embed.bundle.min.js\" type=\"application/javascript\"></script>\n",
       "    \n",
       "        <style>\n",
       "        @import \"../_static/css/jupman.css\";\n",
       "        </style>\n",
       "     \n",
       "        <script id=\"json-jm-11afcea6c53118379b53c3cfe7112db9-63\" type=\"application/json\" >\n",
       "            {\"code\": \" \\nla = [7,8,9]\\nlb = la[:]\\nlb[0] = 6\\n#print('la =',la)\\n#print('lb =',lb)\", \"trace\": [{\"line\": 2, \"event\": \"step_line\", \"func_name\": \"<module>\", \"globals\": {}, \"ordered_globals\": [], \"stack_to_render\": [], \"heap\": {}, \"stdout\": \"\"}, {\"line\": 3, \"event\": \"step_line\", \"func_name\": \"<module>\", \"globals\": {\"la\": [\"REF\", 1]}, \"ordered_globals\": [\"la\"], \"stack_to_render\": [], \"heap\": {\"1\": [\"LIST\", 7, 8, 9]}, \"stdout\": \"\"}, {\"line\": 4, \"event\": \"step_line\", \"func_name\": \"<module>\", \"globals\": {\"la\": [\"REF\", 1], \"lb\": [\"REF\", 2]}, \"ordered_globals\": [\"la\", \"lb\"], \"stack_to_render\": [], \"heap\": {\"1\": [\"LIST\", 7, 8, 9], \"2\": [\"LIST\", 7, 8, 9]}, \"stdout\": \"\"}, {\"line\": 4, \"event\": \"return\", \"func_name\": \"<module>\", \"globals\": {\"la\": [\"REF\", 1], \"lb\": [\"REF\", 2]}, \"ordered_globals\": [\"la\", \"lb\"], \"stack_to_render\": [], \"heap\": {\"1\": [\"LIST\", 7, 8, 9], \"2\": [\"LIST\", 6, 8, 9]}, \"stdout\": \"\"}]}\n",
       "        </script>\n",
       "        <div id=\"jm-11afcea6c53118379b53c3cfe7112db9-63\" class=\"pytutorVisualizer\"> </div>\n",
       "                        \n",
       "        <script>\n",
       "        \n",
       "        (function(){\n",
       "            console.log(\"jupman.py embedded javascript: adding Python tutor visualizer...\")\n",
       "            \n",
       "            var trace = JSON.parse(document.getElementById('json-jm-11afcea6c53118379b53c3cfe7112db9-63').innerHTML);                                        \n",
       "            // NOTE: id without #\n",
       "                    \n",
       "            addVisualizerToPage(trace, 'jm-11afcea6c53118379b53c3cfe7112db9-63',{'embeddedMode' : false,\n",
       "                                             'disableHeapNesting': true,\n",
       "                                             'visualizerIdOverride':'viz-jm-11afcea6c53118379b53c3cfe7112db9-63'})  \n",
       "            \n",
       "            \n",
       "            // set overflow for pytuts - need to do in python as css \n",
       "            // does not allow parent selection\n",
       "            var pytuts = $('.pytutorVisualizer')\n",
       "            pytuts.closest('div.output_html.rendered_html.output_result')\n",
       "                    .css('overflow-x', 'visible')\n",
       "        \n",
       "            //pytuts.closest('div.output_html.rendered_html.output_result')\n",
       "            //      .css('background-color','red')                \n",
       "            \n",
       "        })()\n",
       "        </script>\n",
       "                \n",
       "    \n",
       "    <div style=\"text-align:center; font-size:0.9em\"> <a href=\"https://pythontutor.com/visualize.html#mode=edit\" target=\"_blank\">Python Tutor</a> visualization</div> \n",
       "    "
      ],
      "text/plain": [
       "<IPython.core.display.HTML object>"
      ]
     },
     "execution_count": 61,
     "metadata": {},
     "output_type": "execute_result"
    }
   ],
   "source": [
    "la = [7,8,9]\n",
    "lb = la[:]\n",
    "lb[0] = 6\n",
    "#print('la =',la)\n",
    "#print('lb =',lb)\n",
    "\n",
    "jupman.pytut()"
   ]
  },
  {
   "cell_type": "markdown",
   "metadata": {},
   "source": [
    "**DOMANDA**: Per ciascuna delle espressioni seguenti, prova a indovinare quale valore produce, o se da errore.\n",
    "\n",
    "1.  ```python    \n",
    "    [9,7,8,6][1:1]\n",
    "    ```\n",
    "1.  ```python    \n",
    "    [9,7,8,6][1:2]\n",
    "    ```\n",
    "1.  ```python    \n",
    "    [9,7,8,6][2:3][0]\n",
    "    ```\n",
    "1.  ```python\n",
    "    [][]\n",
    "    ```\n",
    "1.  ```python\n",
    "    [][:]\n",
    "    ```\n",
    "1.  ```python\n",
    "    [3][:]\n",
    "    ```\n",
    "1.  ```python    \n",
    "    [:][]\n",
    "    ```\n"
   ]
  },
  {
   "cell_type": "markdown",
   "metadata": {},
   "source": [
    "### Esercizio - La chitarra scordata\n",
    "\n",
    "In soffitta hai trovato una vecchia chitarra che girava per casa quando eri una bambina. Adesso che ti sei laureata in ingegneria della gestione del suono provi a strimpellarla mentre un sensore misura la nota prodotta.\n",
    "\n",
    "Il sensore è un microfono e ogni decimo di secondo registra la nota principale che ha rilevato.\n",
    "\n",
    "Con questo test ti accorgi di questo fenomeno: alcune delle corde della chitarra appena vengono suonate hanno un comportamento altalenante ma poi si sintonizzano su una nota precisa fino alla fine:\n",
    "\n",
    "```python    \n",
    "'re', 'la', 'fa', 'mi', 'si', 'sol', 'si', 'fa', 'fa', 'fa', 'fa', 'fa', 'fa', 'fa', '...'\n",
    "```"
   ]
  },
  {
   "cell_type": "markdown",
   "metadata": {},
   "source": [
    "Altre corde invece fanno l'opposto:\n",
    "\n",
    "```python\n",
    "'do', 'do', 'do', 'do', 'do', 're', 'sol', 'fa', 'si', 'si', 'do', 'si', '...'\n",
    "```\n",
    "\n",
    "In una lista `tempi` sono registrati per ciascuna corda gli istanti in cui ciascuna corda inizia o finisce il comportamento anomalo. Gli istanti sono rappresentati come una sequenza di battiti `'*'`, per es la prima corda ha un comportamento anomalo dopo 5 battiti: `'*****'`, mentre la seconda finisce il comportamento anomalo dopo 7 battiti: `'*******'`\n",
    "\n",
    "Scrivi del codice per tagliare l'output del sensore e ottenere così solo le sequenze di note continue e corrette. Alla fine deve STAMPARE:\n",
    "\n",
    "```python\n",
    "['do', 'do', 'do', 'do', 'do']\n",
    "['fa', 'fa', 'fa', 'fa', 'fa', 'fa', 'fa', '...']\n",
    "['re', 're', 're', 're', 're', 're', '...']\n",
    "['sol', 'sol', 'sol', 'sol']\n",
    "```\n",
    "\n",
    "* **NON** scrivere numeri di istanti costanti nel codice, usa invece la variabile `tempi`"
   ]
  },
  {
   "cell_type": "raw",
   "id": "4add028f",
   "metadata": {
    "format": "text/html"
   },
   "source": [
    "<a  class=\"jupman-sol jupman-sol-toggler\" \n",
    " onclick=\"jupman.toggleSolution(this);\" \n",
    " data-jupman-show=\"Mostra soluzione\" data-jupman-hide=\"Nascondi\">Mostra soluzione</a><div class=\"jupman-sol jupman-sol-code\" style=\"display:none\">  "
   ]
  },
  {
   "cell_type": "code",
   "execution_count": 62,
   "metadata": {},
   "outputs": [
    {
     "name": "stdout",
     "output_type": "stream",
     "text": [
      "['do', 'do', 'do', 'do', 'do']\n",
      "['fa', 'fa', 'fa', 'fa', 'fa', 'fa', 'fa', '...']\n",
      "['re', 're', 're', 're', 're', 're', '...']\n",
      "['sol', 'sol', 'sol', 'sol']\n"
     ]
    }
   ],
   "source": [
    "\n",
    "\n",
    "tempi = ['*****',\n",
    "         '*******',         \n",
    "         '***',\n",
    "         '****',]\n",
    "\n",
    "corda1 = ['do', 'do', 'do', 'do', 'do', 're', 'sol', 'fa', 'si', 'si', 'do', 'si', '...']\n",
    "corda2 = ['re', 'la', 'fa', 'mi', 'si', 'sol', 'si', 'fa', 'fa', 'fa', 'fa', 'fa', 'fa', 'fa', '...']\n",
    "corda3 = ['si', 'mi', 'sol', 're', 're', 're', 're', 're', 're', '...']\n",
    "corda4 = ['sol', 'sol', 'sol', 'sol', 're', 're', 'la', 'la', 'si', 'fa', 'si', '...']\n",
    "\n",
    "# scrivi qui\n",
    "corda1_pulito = corda1[:len(tempi[0])]\n",
    "corda2_pulito = corda2[len(tempi[1]):]\n",
    "corda3_pulito = corda3[len(tempi[2]):]\n",
    "corda4_pulito = corda4[:len(tempi[3])]\n",
    "\n",
    "print(corda1_pulito)\n",
    "print(corda2_pulito)\n",
    "print(corda3_pulito)\n",
    "print(corda4_pulito)"
   ]
  },
  {
   "cell_type": "raw",
   "id": "244486c3",
   "metadata": {
    "format": "text/html"
   },
   "source": [
    "</div>"
   ]
  },
  {
   "cell_type": "code",
   "execution_count": 62,
   "metadata": {},
   "outputs": [],
   "source": [
    "\n",
    "\n",
    "tempi = ['*****',\n",
    "         '*******',         \n",
    "         '***',\n",
    "         '****',]\n",
    "\n",
    "corda1 = ['do', 'do', 'do', 'do', 'do', 're', 'sol', 'fa', 'si', 'si', 'do', 'si', '...']\n",
    "corda2 = ['re', 'la', 'fa', 'mi', 'si', 'sol', 'si', 'fa', 'fa', 'fa', 'fa', 'fa', 'fa', 'fa', '...']\n",
    "corda3 = ['si', 'mi', 'sol', 're', 're', 're', 're', 're', 're', '...']\n",
    "corda4 = ['sol', 'sol', 'sol', 'sol', 're', 're', 'la', 'la', 'si', 'fa', 'si', '...']\n",
    "\n",
    "# scrivi qui\n",
    "\n"
   ]
  },
  {
   "cell_type": "markdown",
   "metadata": {},
   "source": [
    "### Slice - limiti negativi\n",
    "\n",
    "Volendo è anche possibile impostare limiti negativi, per quanto non sia sempre molto intuitivo."
   ]
  },
  {
   "cell_type": "code",
   "execution_count": 63,
   "metadata": {},
   "outputs": [
    {
     "data": {
      "text/plain": [
       "[]"
      ]
     },
     "execution_count": 63,
     "metadata": {},
     "output_type": "execute_result"
    }
   ],
   "source": [
    "#0  1  2  3  4  5  6    \n",
    "[70,40,10,50,60,10,90][3:0]   # da indice 3 a indici positivi <= 3 non produce nulla"
   ]
  },
  {
   "cell_type": "code",
   "execution_count": 64,
   "metadata": {},
   "outputs": [
    {
     "data": {
      "text/plain": [
       "[]"
      ]
     },
     "execution_count": 64,
     "metadata": {},
     "output_type": "execute_result"
    }
   ],
   "source": [
    "#0  1  2  3  4  5  6    \n",
    "[70,40,10,50,60,10,90][3:1]   # da indice 3 a indici positivi <= 3 non produce nulla"
   ]
  },
  {
   "cell_type": "code",
   "execution_count": 65,
   "metadata": {},
   "outputs": [
    {
     "data": {
      "text/plain": [
       "[]"
      ]
     },
     "execution_count": 65,
     "metadata": {},
     "output_type": "execute_result"
    }
   ],
   "source": [
    "#0  1  2  3  4  5  6     \n",
    "[70,40,10,50,60,10,90][3:2]  # da indice 3 a indici positivi <= 3 non produce nulla"
   ]
  },
  {
   "cell_type": "code",
   "execution_count": 66,
   "metadata": {},
   "outputs": [
    {
     "data": {
      "text/plain": [
       "[]"
      ]
     },
     "execution_count": 66,
     "metadata": {},
     "output_type": "execute_result"
    }
   ],
   "source": [
    "#0  1  2  3  4  5  6     \n",
    "[70,40,10,50,60,10,90][3:3]  # da indice 3 a indici positivi <= 3 non produce nulla"
   ]
  },
  {
   "cell_type": "markdown",
   "metadata": {},
   "source": [
    "Vediamo cosa succede con indici negativi: "
   ]
  },
  {
   "cell_type": "code",
   "execution_count": 67,
   "metadata": {},
   "outputs": [
    {
     "data": {
      "text/plain": [
       "[50, 60, 10]"
      ]
     },
     "execution_count": 67,
     "metadata": {},
     "output_type": "execute_result"
    }
   ],
   "source": [
    "# 0  1  2  3  4  5  6   \n",
    "#-7 -6 -5 -4 -3 -2 -1   \n",
    "[70,40,10,50,60,10,90][3:-1]"
   ]
  },
  {
   "cell_type": "code",
   "execution_count": 68,
   "metadata": {},
   "outputs": [
    {
     "data": {
      "text/plain": [
       "[50, 60]"
      ]
     },
     "execution_count": 68,
     "metadata": {},
     "output_type": "execute_result"
    }
   ],
   "source": [
    "# 0  1  2  3  4  5  6   \n",
    "#-7 -6 -5 -4 -3 -2 -1   \n",
    "[70,40,10,50,60,10,90][3:-2]"
   ]
  },
  {
   "cell_type": "code",
   "execution_count": 69,
   "metadata": {},
   "outputs": [
    {
     "data": {
      "text/plain": [
       "[50]"
      ]
     },
     "execution_count": 69,
     "metadata": {},
     "output_type": "execute_result"
    }
   ],
   "source": [
    "# 0  1  2  3  4  5  6   \n",
    "#-7 -6 -5 -4 -3 -2 -1   \n",
    "[70,40,10,50,60,10,90][3:-3]"
   ]
  },
  {
   "cell_type": "code",
   "execution_count": 70,
   "metadata": {},
   "outputs": [
    {
     "data": {
      "text/plain": [
       "[]"
      ]
     },
     "execution_count": 70,
     "metadata": {},
     "output_type": "execute_result"
    }
   ],
   "source": [
    "# 0  1  2  3  4  5  6   \n",
    "#-7 -6 -5 -4 -3 -2 -1   \n",
    "[70,40,10,50,60,10,90][3:-4]"
   ]
  },
  {
   "cell_type": "code",
   "execution_count": 71,
   "metadata": {},
   "outputs": [
    {
     "data": {
      "text/plain": [
       "[]"
      ]
     },
     "execution_count": 71,
     "metadata": {},
     "output_type": "execute_result"
    }
   ],
   "source": [
    "# 0  1  2  3  4  5  6   \n",
    "#-7 -6 -5 -4 -3 -2 -1   \n",
    "[70,40,10,50,60,10,90][3:-5]"
   ]
  },
  {
   "cell_type": "markdown",
   "metadata": {},
   "source": [
    "E' anche possibile partire da un indice negativo e arrivare ad uno positivo: finchè il primo indice marca una posizione antecedente a quella del secondo indice, viene restituito qualcosa:"
   ]
  },
  {
   "cell_type": "code",
   "execution_count": 72,
   "metadata": {},
   "outputs": [
    {
     "data": {
      "text/plain": [
       "[70, 40, 10]"
      ]
     },
     "execution_count": 72,
     "metadata": {},
     "output_type": "execute_result"
    }
   ],
   "source": [
    "# 0  1  2  3  4  5  6   \n",
    "#-7 -6 -5 -4 -3 -2 -1   \n",
    "[70,40,10,50,60,10,90][-7:3]"
   ]
  },
  {
   "cell_type": "code",
   "execution_count": 73,
   "metadata": {},
   "outputs": [
    {
     "data": {
      "text/plain": [
       "[40, 10]"
      ]
     },
     "execution_count": 73,
     "metadata": {},
     "output_type": "execute_result"
    }
   ],
   "source": [
    "# 0  1  2  3  4  5  6   \n",
    "#-7 -6 -5 -4 -3 -2 -1   \n",
    "[70,40,10,50,60,10,90][-6:3]"
   ]
  },
  {
   "cell_type": "code",
   "execution_count": 74,
   "metadata": {},
   "outputs": [
    {
     "data": {
      "text/plain": [
       "[10]"
      ]
     },
     "execution_count": 74,
     "metadata": {},
     "output_type": "execute_result"
    }
   ],
   "source": [
    "# 0  1  2  3  4  5  6   \n",
    "#-7 -6 -5 -4 -3 -2 -1   \n",
    "[70,40,10,50,60,10,90][-5:3]"
   ]
  },
  {
   "cell_type": "code",
   "execution_count": 75,
   "metadata": {},
   "outputs": [
    {
     "data": {
      "text/plain": [
       "[]"
      ]
     },
     "execution_count": 75,
     "metadata": {},
     "output_type": "execute_result"
    }
   ],
   "source": [
    "# 0  1  2  3  4  5  6   \n",
    "#-7 -6 -5 -4 -3 -2 -1   \n",
    "[70,40,10,50,60,10,90][-4:3]"
   ]
  },
  {
   "cell_type": "code",
   "execution_count": 76,
   "metadata": {},
   "outputs": [
    {
     "data": {
      "text/plain": [
       "[]"
      ]
     },
     "execution_count": 76,
     "metadata": {},
     "output_type": "execute_result"
    }
   ],
   "source": [
    "# 0  1  2  3  4  5  6   \n",
    "#-7 -6 -5 -4 -3 -2 -1   \n",
    "[70,40,10,50,60,10,90][-3:3]"
   ]
  },
  {
   "cell_type": "code",
   "execution_count": 77,
   "metadata": {},
   "outputs": [
    {
     "data": {
      "text/plain": [
       "[]"
      ]
     },
     "execution_count": 77,
     "metadata": {},
     "output_type": "execute_result"
    }
   ],
   "source": [
    "# 0  1  2  3  4  5  6   \n",
    "#-7 -6 -5 -4 -3 -2 -1   \n",
    "[70,40,10,50,60,10,90][-2:3]"
   ]
  },
  {
   "cell_type": "markdown",
   "metadata": {},
   "source": [
    "**DOMANDA**: Per ciascuna delle espressioni seguenti, prova a indovinare quale valore produce, o se da errore.\n",
    "\n",
    "1.  ```python\n",
    "    [9,7,8,6][0:-2]\n",
    "    ```\n",
    "1.  ```python    \n",
    "    [0:-2][9,7,8,6]\n",
    "    ```\n",
    "1.  ```python    \n",
    "    [5,7,9][1:-1]\n",
    "    ```\n",
    "1.  ```python    \n",
    "    [][-13:-17]\n",
    "    ```\n",
    "1.  ```python    \n",
    "    [9,7,8,6][-4:-1]\n",
    "    ```\n",
    "1.  ```python    \n",
    "    [9,7,8,6][-5:-1]\n",
    "    ```\n",
    "1.  ```python    \n",
    "    [9,7,8,6,10,32][-3:1]\n",
    "    ```\n",
    "1.  ```python    \n",
    "    [9,7,8,6,10,32][-3:5]\n",
    "    ```    "
   ]
  },
  {
   "cell_type": "markdown",
   "metadata": {},
   "source": [
    "### Esercizio - La bislaccheria\n",
    "\n",
    "Per controllare le tue spese vuoi scrivere un software che tenga traccia di tutto ciò che compri. E cercare di ridurre le spese inutili.\n",
    "\n",
    "Ti basterà scattare una foto con lo smartphone allo scontrino e un modulo OCR (Optical Character Recognition) provvederà a leggere il testo in maniera automatica.\n",
    "\n",
    "* **tutti** gli scontrini seguono lo stesso schema: nome negozio, data, \"articoli acquistati\", 1 riga per prodotto, totale, ringraziamenti.\n",
    "* assumi tutti gli scontrini siano sempre ordinati per costo\n",
    "\n",
    "1) Scrivi del codice per creare una NUOVA lista con solamente le righe degli articoli, per esempio:\n",
    "\n",
    "```python\n",
    "['Vernice verde per insalata        1,12€',\n",
    " 'Coriandoli piombo anti-vento      4,99€',\n",
    " 'Pettine per pitoni               12,00€',\n",
    " 'Accendisigari da immersione      23,00€',\n",
    " 'Scarpe trasparenti da casa       35,56€']\n",
    "```\n",
    "\n",
    "2) Stampa anche l'articolo più costoso così:\n",
    "\n",
    "```\n",
    "La spesa maggiore è stata: Scarpe trasparenti da casa   \n",
    "                    costo: 35,56€\n",
    "```\n",
    "\n",
    "* Supponi il prezzo non superi mai `10` caratteri"
   ]
  },
  {
   "cell_type": "raw",
   "id": "1161a01f",
   "metadata": {
    "format": "text/html"
   },
   "source": [
    "<a  class=\"jupman-sol jupman-sol-toggler\" \n",
    " onclick=\"jupman.toggleSolution(this);\" \n",
    " data-jupman-show=\"Mostra soluzione\" data-jupman-hide=\"Nascondi\">Mostra soluzione</a><div class=\"jupman-sol jupman-sol-code\" style=\"display:none\">  "
   ]
  },
  {
   "cell_type": "code",
   "execution_count": 78,
   "metadata": {},
   "outputs": [
    {
     "name": "stdout",
     "output_type": "stream",
     "text": [
      "['Vernice verde per insalata        1,12€',\n",
      " 'Coriandoli piombo anti-vento      4,99€',\n",
      " 'Pettine per pitoni               12,00€',\n",
      " 'Accendisigari da immersione      23,00€',\n",
      " 'Scarpe trasparenti da casa       35,56€']\n",
      "\n",
      "La spesa maggiore è stata: Scarpe trasparenti da casa   \n",
      "                    costo: 35,56€\n"
     ]
    }
   ],
   "source": [
    "\n",
    "scontrino = [\"Negozio La Bislaccheria\",\n",
    "             \"21 Luglio 2021 14:54\",\n",
    "             \"Articoli acquistati\",\n",
    "             \"Vernice verde per insalata        1,12€\",\n",
    "             \"Coriandoli piombo anti-vento      4,99€\",             \n",
    "             \"Pettine per pitoni               12,00€\",\n",
    "             \"Accendisigari da immersione      23,00€\",             \n",
    "             \"Scarpe trasparenti da casa       35,56€\",             \n",
    "             \"Totale 56,66€\",\n",
    "             \"Grazie per aver acquistato il nostro ciarpame!\"\n",
    "            ]\n",
    "\n",
    "#scontrino = [\"Eleganz\", \n",
    "#             \"3 Gennaio 2020 12:53\", \n",
    "#             \"Articoli acquistati\", \n",
    "#             \"Zeppe con acquario e pesci          342,00€\",\n",
    "#             \"Abito Completo 'Elvis'              20.000,00€\",\n",
    "#             \"Totale 20.000,342€\",\n",
    "#             \"E ora scatenate l'animale da party che è in voi!\"]\n",
    "\n",
    "\n",
    "# scrivi qui\n",
    "articoli = scontrino[3:-2]\n",
    "ultimo = scontrino[-3]\n",
    "\n",
    "from pprint import  pprint\n",
    "pprint(articoli)\n",
    "print()\n",
    "print(\"La spesa maggiore è stata:\", ultimo[:-10])\n",
    "print(\"                    costo:\", ultimo[-10:].lstrip())"
   ]
  },
  {
   "cell_type": "raw",
   "id": "f3a4b173",
   "metadata": {
    "format": "text/html"
   },
   "source": [
    "</div>"
   ]
  },
  {
   "cell_type": "code",
   "execution_count": 78,
   "metadata": {},
   "outputs": [],
   "source": [
    "\n",
    "scontrino = [\"Negozio La Bislaccheria\",\n",
    "             \"21 Luglio 2021 14:54\",\n",
    "             \"Articoli acquistati\",\n",
    "             \"Vernice verde per insalata        1,12€\",\n",
    "             \"Coriandoli piombo anti-vento      4,99€\",             \n",
    "             \"Pettine per pitoni               12,00€\",\n",
    "             \"Accendisigari da immersione      23,00€\",             \n",
    "             \"Scarpe trasparenti da casa       35,56€\",             \n",
    "             \"Totale 56,66€\",\n",
    "             \"Grazie per aver acquistato il nostro ciarpame!\"\n",
    "            ]\n",
    "\n",
    "#scontrino = [\"Eleganz\", \n",
    "#             \"3 Gennaio 2020 12:53\", \n",
    "#             \"Articoli acquistati\", \n",
    "#             \"Zeppe con acquario e pesci          342,00€\",\n",
    "#             \"Abito Completo 'Elvis'              20.000,00€\",\n",
    "#             \"Totale 20.000,342€\",\n",
    "#             \"E ora scatenate l'animale da party che è in voi!\"]\n",
    "\n",
    "\n",
    "# scrivi qui\n",
    "\n"
   ]
  },
  {
   "cell_type": "markdown",
   "metadata": {},
   "source": [
    "### Slice - passo\n",
    "\n",
    "E' anche possibile specificare un terzo parametro detto 'passo' per indicare a python di quante celle spostarsi ad ogni lettura. Qui per esempio partiamo dall'indice 3 per arrivare all'indice 9 escluso, **saltando di 2**:"
   ]
  },
  {
   "cell_type": "code",
   "execution_count": 79,
   "metadata": {},
   "outputs": [
    {
     "data": {
      "text/plain": [
       "[30, 50, 70]"
      ]
     },
     "execution_count": 79,
     "metadata": {},
     "output_type": "execute_result"
    }
   ],
   "source": [
    "# 0 1  2  3  4  5  6  7  8  9\n",
    "[ 0,10,20,30,40,50,60,70,80,90][3:9:2]"
   ]
  },
  {
   "cell_type": "markdown",
   "metadata": {},
   "source": [
    "Tutta la sequenza, saltando di 3:"
   ]
  },
  {
   "cell_type": "code",
   "execution_count": 80,
   "metadata": {},
   "outputs": [
    {
     "data": {
      "text/plain": [
       "[0, 30, 60, 90]"
      ]
     },
     "execution_count": 80,
     "metadata": {},
     "output_type": "execute_result"
    }
   ],
   "source": [
    "# 0 1  2  3  4  5  6  7  8  9\n",
    "[ 0,10,20,30,40,50,60,70,80,90][0:10:3]"
   ]
  },
  {
   "cell_type": "markdown",
   "metadata": {},
   "source": [
    "Possiamo anche omettere i limiti per ottenere l'espressione equivalente:"
   ]
  },
  {
   "cell_type": "code",
   "execution_count": 81,
   "metadata": {},
   "outputs": [
    {
     "data": {
      "text/plain": [
       "[0, 30, 60, 90]"
      ]
     },
     "execution_count": 81,
     "metadata": {},
     "output_type": "execute_result"
    }
   ],
   "source": [
    "# 0 1  2  3  4  5  6  7  8  9\n",
    "[ 0,10,20,30,40,50,60,70,80,90][::3]"
   ]
  },
  {
   "cell_type": "markdown",
   "metadata": {},
   "source": [
    "### Slice - modifica\n",
    "\n",
    "Supponiamo di avere la lista"
   ]
  },
  {
   "cell_type": "code",
   "execution_count": 82,
   "metadata": {},
   "outputs": [],
   "source": [
    "     #0  1  2  3  4  5  6  7\n",
    "la = [30,40,80,10,70,60,40,20]"
   ]
  },
  {
   "cell_type": "markdown",
   "metadata": {},
   "source": [
    "e di voler cambiare le celle di `la` dall'indice `3` INCLUSO all'indice `6` ESCLUSO in modo che contengano i numeri presi dalla lista `[91,92,93]`. Possiamo farlo con questa notazione speciale che ci consente di scrivere una slice _alla sinistra_ dell'operatore `=`:"
   ]
  },
  {
   "cell_type": "code",
   "execution_count": 83,
   "metadata": {},
   "outputs": [],
   "source": [
    "la[3:6] = [91,92,93]"
   ]
  },
  {
   "cell_type": "code",
   "execution_count": 84,
   "metadata": {},
   "outputs": [
    {
     "data": {
      "text/plain": [
       "[30, 40, 80, 91, 92, 93, 40, 20]"
      ]
     },
     "execution_count": 84,
     "metadata": {},
     "output_type": "execute_result"
    }
   ],
   "source": [
    "la"
   ]
  },
  {
   "cell_type": "markdown",
   "metadata": {},
   "source": [
    "In questo esempio leggermente più complesso verifichiamo in Python Tutor che viene effettivamente modificata la regione di memoria originale:"
   ]
  },
  {
   "cell_type": "code",
   "execution_count": 85,
   "metadata": {
    "scrolled": true
   },
   "outputs": [
    {
     "data": {
      "text/html": [
       "        \n",
       "        <script src=\"../_static/js/pytutor-embed.bundle.min.js\" type=\"application/javascript\"></script>\n",
       "    \n",
       "        <style>\n",
       "        @import \"../_static/css/jupman.css\";\n",
       "        </style>\n",
       "     \n",
       "        <script id=\"json-jm-fdfecfbda7c87160c9ac222670d60c06-87\" type=\"application/json\" >\n",
       "            {\"code\": \" \\n#     0  1  2  3  4  5  6  7\\nla = [30,40,80,10,70,60,40,20]\\nlb = la \\nlb[3:6] = [91,92,93]\", \"trace\": [{\"line\": 3, \"event\": \"step_line\", \"func_name\": \"<module>\", \"globals\": {}, \"ordered_globals\": [], \"stack_to_render\": [], \"heap\": {}, \"stdout\": \"\"}, {\"line\": 4, \"event\": \"step_line\", \"func_name\": \"<module>\", \"globals\": {\"la\": [\"REF\", 1]}, \"ordered_globals\": [\"la\"], \"stack_to_render\": [], \"heap\": {\"1\": [\"LIST\", 30, 40, 80, 10, 70, 60, 40, 20]}, \"stdout\": \"\"}, {\"line\": 5, \"event\": \"step_line\", \"func_name\": \"<module>\", \"globals\": {\"la\": [\"REF\", 1], \"lb\": [\"REF\", 1]}, \"ordered_globals\": [\"la\", \"lb\"], \"stack_to_render\": [], \"heap\": {\"1\": [\"LIST\", 30, 40, 80, 10, 70, 60, 40, 20]}, \"stdout\": \"\"}, {\"line\": 5, \"event\": \"return\", \"func_name\": \"<module>\", \"globals\": {\"la\": [\"REF\", 1], \"lb\": [\"REF\", 1]}, \"ordered_globals\": [\"la\", \"lb\"], \"stack_to_render\": [], \"heap\": {\"1\": [\"LIST\", 30, 40, 80, 91, 92, 93, 40, 20]}, \"stdout\": \"\"}]}\n",
       "        </script>\n",
       "        <div id=\"jm-fdfecfbda7c87160c9ac222670d60c06-87\" class=\"pytutorVisualizer\"> </div>\n",
       "                        \n",
       "        <script>\n",
       "        \n",
       "        (function(){\n",
       "            console.log(\"jupman.py embedded javascript: adding Python tutor visualizer...\")\n",
       "            \n",
       "            var trace = JSON.parse(document.getElementById('json-jm-fdfecfbda7c87160c9ac222670d60c06-87').innerHTML);                                        \n",
       "            // NOTE: id without #\n",
       "                    \n",
       "            addVisualizerToPage(trace, 'jm-fdfecfbda7c87160c9ac222670d60c06-87',{'embeddedMode' : false,\n",
       "                                             'disableHeapNesting': true,\n",
       "                                             'visualizerIdOverride':'viz-jm-fdfecfbda7c87160c9ac222670d60c06-87'})  \n",
       "            \n",
       "            \n",
       "            // set overflow for pytuts - need to do in python as css \n",
       "            // does not allow parent selection\n",
       "            var pytuts = $('.pytutorVisualizer')\n",
       "            pytuts.closest('div.output_html.rendered_html.output_result')\n",
       "                    .css('overflow-x', 'visible')\n",
       "        \n",
       "            //pytuts.closest('div.output_html.rendered_html.output_result')\n",
       "            //      .css('background-color','red')                \n",
       "            \n",
       "        })()\n",
       "        </script>\n",
       "                \n",
       "    \n",
       "    <div style=\"text-align:center; font-size:0.9em\"> <a href=\"https://pythontutor.com/visualize.html#mode=edit\" target=\"_blank\">Python Tutor</a> visualization</div> \n",
       "    "
      ],
      "text/plain": [
       "<IPython.core.display.HTML object>"
      ]
     },
     "execution_count": 85,
     "metadata": {},
     "output_type": "execute_result"
    }
   ],
   "source": [
    "#     0  1  2  3  4  5  6  7\n",
    "la = [30,40,80,10,70,60,40,20]\n",
    "lb = la \n",
    "lb[3:6] = [91,92,93]\n",
    "\n",
    "jupman.pytut()"
   ]
  },
  {
   "cell_type": "markdown",
   "metadata": {},
   "source": [
    "**DOMANDA**: Guarda il seguente codice - cosa produce?\n",
    "\n",
    "```python\n",
    "la = [9,6,5,8,2]\n",
    "la[1:4] = [4,7,0]\n",
    "print(la)\n",
    "```\n",
    "\n",
    "1. modifica `la` (come?)\n",
    "2. un errore (quale?)"
   ]
  },
  {
   "cell_type": "raw",
   "id": "dc938620",
   "metadata": {
    "format": "text/html"
   },
   "source": [
    "<a  class=\"jupman-sol jupman-sol-toggler\" \n",
    " onclick=\"jupman.toggleSolution(this);\" \n",
    " data-jupman-show=\"Mostra risposta\" data-jupman-hide=\"Nascondi\">Mostra risposta</a><div class=\"jupman-sol jupman-sol-question\" style=\"display:none\">  "
   ]
  },
  {
   "cell_type": "markdown",
   "metadata": {},
   "source": [
    "**RISPOSTA**: La 1 - MODIFICA `la` così:\n",
    "\n",
    "```python\n",
    "# 0  1  2  3  4\n",
    "[ 9, 4, 7, 0, 2]\n",
    "```\n",
    "\n",
    "quindi dall'indice `1` INCLUSO all'indice `4` ESCLUSO"
   ]
  },
  {
   "cell_type": "raw",
   "id": "e72037ed",
   "metadata": {
    "format": "text/html"
   },
   "source": [
    "</div>"
   ]
  },
  {
   "cell_type": "markdown",
   "metadata": {},
   "source": [
    "**DOMANDA**: Guarda il seguente codice. Cosa produce?\n",
    "\n",
    "```python\n",
    "la = [7,6,8,4,2,4,2,3,1]\n",
    "i = 3\n",
    "lb = la[0:i]\n",
    "la[i:2*i] = lb\n",
    "print(la)\n",
    "```\n",
    "\n",
    "1. modifica `la` (come?)\n",
    "2. un errore (quale?)"
   ]
  },
  {
   "cell_type": "raw",
   "id": "9dea7588",
   "metadata": {
    "format": "text/html"
   },
   "source": [
    "<a  class=\"jupman-sol jupman-sol-toggler\" \n",
    " onclick=\"jupman.toggleSolution(this);\" \n",
    " data-jupman-show=\"Mostra risposta\" data-jupman-hide=\"Nascondi\">Mostra risposta</a><div class=\"jupman-sol jupman-sol-question\" style=\"display:none\">  "
   ]
  },
  {
   "cell_type": "markdown",
   "metadata": {},
   "source": [
    "**RISPOSTA**: La 1 - modifica `la` copiando le prime `i` celle nelle successive."
   ]
  },
  {
   "cell_type": "raw",
   "id": "47ed16fd",
   "metadata": {
    "format": "text/html"
   },
   "source": [
    "</div>"
   ]
  },
  {
   "cell_type": "markdown",
   "metadata": {},
   "source": [
    "### Esercizio - I banditi della ferrovia"
   ]
  },
  {
   "cell_type": "markdown",
   "metadata": {},
   "source": [
    "![ferrovia](img/railroad-outlaws.png)\n"
   ]
  },
  {
   "cell_type": "markdown",
   "metadata": {},
   "source": [
    "Stati Uniti - 13 Maggio 1857\n",
    "\n",
    "La colonizzazione dei territori del west è un duro lavoro ma qualcuno deve pur farlo. Le montagne sono zeppe di minerali rari e di animali pulciosi da trasformare in preziose pellicce per le nobildame d'Europa. Ma come sempre, dove ci sono grandi ricchezze, arrivano anche grandi banditi.\n",
    "\n",
    "Sei il capostazione della stazione di Denver e devi gestire i treni. Ci sono tre direttrici principali, Colorado Springs, Fort Collins e New York:\n",
    "\n",
    "* da Colorado Springs arrivano sempre esattamente 1 vagone di carbone, 3 di minerali e 3 di persone **alternati**\n",
    "* da Fort Collins arrivano sempre esattamente 2 vagoni di carbone, 2 di persone e 2 di bestiame\n",
    "\n",
    "Quando i treni arrivano a Denver, il loro contenuto viene trasferito nei vagoni vuoti del treno per New York così:\n",
    "\n",
    "* per impedire il compiersi di furti al treno, tutti i vagoni preziosi vanno posizionati **vicino alla locomotiva**\n",
    "* il bestiame **va sempre messo dietro** le persone, perchè per quanto l'igiene nel west sia carente è comunque più facile pretendere che gli umani si lavino piuttosto che il bestiame\n",
    "\n",
    "Scrivi del codice che MODIFICA la regione di memoria ORIGINALE della lista `new_york` copiando le stringhe da `colorado` e `fort`.\n",
    "\n",
    "* **MINIMIZZA il numero di assegnazioni!** (la soluzione migliore con solo slice ha solamente tre assegnazioni!)\n",
    "* **NON** scrivere stringhe costanti nel tuo codice (es niente `\"cowbow\"`, `\"oro\"`, ...)\n",
    "\n",
    "Esempio - dati:"
   ]
  },
  {
   "cell_type": "code",
   "execution_count": 86,
   "metadata": {},
   "outputs": [],
   "source": [
    "colorado = [\"locomotiva CS\",\"carbone\", \"cowboy\",    \"oro\",\"minatori\",   \"oro\",\"cowboy\",\"argento\"]\n",
    "fort     = [\"locomotiva FC\",\"carbone\",\"carbone\",\"signori\",    \"dame\",\"mucche\",\"cavalli\"]\n",
    "new_york = [\"locomotiva NY\",\"carbone\",       \"\",       \"\",        \"\",      \"\",       \"\",      \"\", \"\",\"\",\"\"]"
   ]
  },
  {
   "cell_type": "markdown",
   "metadata": {},
   "source": [
    "dopo il tuo codice deve risultare:\n",
    "\n",
    "```python\n",
    ">>> print(new_york)\n",
    "['locomotiva NY', 'carbone', 'oro', 'oro', 'argento', 'cowboy', 'minatori', 'cowboy', 'signori', 'dame', 'mucche', 'cavalli']\n",
    "```"
   ]
  },
  {
   "cell_type": "raw",
   "id": "28e8d7a6",
   "metadata": {
    "format": "text/html"
   },
   "source": [
    "<a  class=\"jupman-sol jupman-sol-toggler\" \n",
    " onclick=\"jupman.toggleSolution(this);\" \n",
    " data-jupman-show=\"Mostra soluzione\" data-jupman-hide=\"Nascondi\">Mostra soluzione</a><div class=\"jupman-sol jupman-sol-code\" style=\"display:none\">  "
   ]
  },
  {
   "cell_type": "code",
   "execution_count": 87,
   "metadata": {},
   "outputs": [
    {
     "name": "stdout",
     "output_type": "stream",
     "text": [
      "['locomotiva NY', 'carbone', 'oro', 'oro', 'argento', 'cowboy', 'minatori', 'cowboy', 'signori', 'dame', 'mucche', 'cavalli']\n"
     ]
    }
   ],
   "source": [
    "\n",
    "           # 0               1         2          3        4          5        6        7         8  9  10\n",
    "colorado = [\"locomotiva CS\",\"carbone\", \"cowboy\",    \"oro\",\"minatori\",   \"oro\",\"cowboy\",\"argento\"]\n",
    "fort     = [\"locomotiva FC\",\"carbone\",\"carbone\",\"signori\",    \"dame\",\"mucche\",\"cavalli\"]\n",
    "new_york = [\"locomotiva NY\",\"carbone\",       \"\",       \"\",        \"\",      \"\",       \"\",      \"\", \"\",\"\",\"\"]\n",
    "\n",
    "# scrivi qui\n",
    "new_york[2:5] = colorado[3::2]\n",
    "new_york[5:]  = colorado[2::2]\n",
    "new_york[8:]  = fort[3:]\n",
    "print(new_york)"
   ]
  },
  {
   "cell_type": "raw",
   "id": "3cea42fb",
   "metadata": {
    "format": "text/html"
   },
   "source": [
    "</div>"
   ]
  },
  {
   "cell_type": "code",
   "execution_count": 87,
   "metadata": {},
   "outputs": [],
   "source": [
    "\n",
    "           # 0               1         2          3        4          5        6        7         8  9  10\n",
    "colorado = [\"locomotiva CS\",\"carbone\", \"cowboy\",    \"oro\",\"minatori\",   \"oro\",\"cowboy\",\"argento\"]\n",
    "fort     = [\"locomotiva FC\",\"carbone\",\"carbone\",\"signori\",    \"dame\",\"mucche\",\"cavalli\"]\n",
    "new_york = [\"locomotiva NY\",\"carbone\",       \"\",       \"\",        \"\",      \"\",       \"\",      \"\", \"\",\"\",\"\"]\n",
    "\n",
    "# scrivi qui\n",
    "\n"
   ]
  },
  {
   "cell_type": "code",
   "execution_count": 88,
   "metadata": {
    "nbsphinx": "hidden"
   },
   "outputs": [],
   "source": [],
   "transient": {
    "remove_source": true
   }
  },
  {
   "cell_type": "markdown",
   "metadata": {},
   "source": [
    "## Liste di liste\n",
    "\n",
    "**NOTA: Parleremo molto più nel dettaglio delle liste di liste nel tutorial** [Matrici - liste di liste](https://it.softpython.org/matrices-lists/matrices-lists1-sol.html), questa è solo un'introduzione sommaria.\n",
    "\n",
    "Le considerazioni viste per le liste di stringhe valgono anche per una lista di liste:"
   ]
  },
  {
   "cell_type": "code",
   "execution_count": 89,
   "metadata": {},
   "outputs": [],
   "source": [
    "coppie = [          # lista esterna\n",
    "            [67,95],    # lista interna ad indice 0\n",
    "            [60,59],    # lista interna ad indice 1\n",
    "            [86,75],    # lista interna ad indice 2\n",
    "            [96,90],    # lista interna ad indice 3\n",
    "            [88,87],    # lista interna ad indice 4\n",
    "         ]"
   ]
  },
  {
   "cell_type": "markdown",
   "metadata": {},
   "source": [
    "Se vogliamo estrarre il numero `90`, dobbiamo prima estrarre la sottolista all'indice `3`:"
   ]
  },
  {
   "cell_type": "code",
   "execution_count": 90,
   "metadata": {},
   "outputs": [
    {
     "data": {
      "text/plain": [
       "[96, 90]"
      ]
     },
     "execution_count": 90,
     "metadata": {},
     "output_type": "execute_result"
    }
   ],
   "source": [
    "coppie[3]   # NOTA: il risultato di questa espressione è una lista"
   ]
  },
  {
   "cell_type": "markdown",
   "metadata": {},
   "source": [
    "e quindi dalla sottolista estratta (che ha solo due elementi) possiamo recuperare il numero all'indice `0`: "
   ]
  },
  {
   "cell_type": "code",
   "execution_count": 91,
   "metadata": {},
   "outputs": [
    {
     "data": {
      "text/plain": [
       "96"
      ]
     },
     "execution_count": 91,
     "metadata": {},
     "output_type": "execute_result"
    }
   ],
   "source": [
    "coppie[3][0]"
   ]
  },
  {
   "cell_type": "markdown",
   "metadata": {},
   "source": [
    "e all'indice `1`:"
   ]
  },
  {
   "cell_type": "code",
   "execution_count": 92,
   "metadata": {},
   "outputs": [
    {
     "data": {
      "text/plain": [
       "90"
      ]
     },
     "execution_count": 92,
     "metadata": {},
     "output_type": "execute_result"
    }
   ],
   "source": [
    "coppie[3][1]"
   ]
  },
  {
   "cell_type": "markdown",
   "metadata": {},
   "source": [
    "### Esercizio - coppie\n",
    "\n",
    "1. Scrivi il codice per recuperare e stampare il numero `86`, il `67` e l'`87`\n",
    "2. Date una riga con indice `i` e una colonna `j`, stampare il numero alla riga `i` e colonna `j` moltiplicato per il numero alla riga successiva e stessa colonna\n",
    "\n",
    "Dopo il tuo codice, dovresti veder stampato:\n",
    "\n",
    "```\n",
    "punto 1: 86 67 87\n",
    "\n",
    "punto 2: i = 3  j = 1 risultato = 7830\n",
    "\n",
    "```"
   ]
  },
  {
   "cell_type": "raw",
   "id": "a7f876da",
   "metadata": {
    "format": "text/html"
   },
   "source": [
    "<a  class=\"jupman-sol jupman-sol-toggler\" \n",
    " onclick=\"jupman.toggleSolution(this);\" \n",
    " data-jupman-show=\"Mostra soluzione\" data-jupman-hide=\"Nascondi\">Mostra soluzione</a><div class=\"jupman-sol jupman-sol-code\" style=\"display:none\">  "
   ]
  },
  {
   "cell_type": "code",
   "execution_count": 93,
   "metadata": {},
   "outputs": [
    {
     "name": "stdout",
     "output_type": "stream",
     "text": [
      "punto 1: 86 67 87\n",
      "\n",
      "punto 2: i = 3  j = 1 risultato = 7830\n"
     ]
    }
   ],
   "source": [
    "\n",
    "coppie = [           # lista esterna\n",
    "            [67,95],    # lista interna ad indice 0\n",
    "            [60,59],    # lista interna ad indice 1\n",
    "            [86,75],    # lista interna ad indice 2\n",
    "            [96,90],    # lista interna ad indice 3\n",
    "            [88,87],    # lista interna ad indice 4\n",
    "         ]\n",
    "\n",
    "i = 3\n",
    "j = 1\n",
    "\n",
    "# scrivi qui\n",
    "\n",
    "print(\"punto 1:\", coppie[2][0], coppie[0][0], coppie[4][1])\n",
    "print()\n",
    "print(\"punto 2:\", \"i =\",i,\" j =\",j, \"risultato =\", coppie[i][j]*coppie[i+1][j])"
   ]
  },
  {
   "cell_type": "raw",
   "id": "d1ca5364",
   "metadata": {
    "format": "text/html"
   },
   "source": [
    "</div>"
   ]
  },
  {
   "cell_type": "code",
   "execution_count": 93,
   "metadata": {},
   "outputs": [],
   "source": [
    "\n",
    "coppie = [           # lista esterna\n",
    "            [67,95],    # lista interna ad indice 0\n",
    "            [60,59],    # lista interna ad indice 1\n",
    "            [86,75],    # lista interna ad indice 2\n",
    "            [96,90],    # lista interna ad indice 3\n",
    "            [88,87],    # lista interna ad indice 4\n",
    "         ]\n",
    "\n",
    "i = 3\n",
    "j = 1\n",
    "\n",
    "# scrivi qui\n",
    "\n"
   ]
  },
  {
   "cell_type": "markdown",
   "metadata": {},
   "source": [
    "### Esercizio - Gloria ai Gladiatori!\n",
    "\n",
    "I gladiatori lottano per la gloria della battaglia e per il divertimento dell'imperatore e del popolo!\n",
    "\n",
    "Non tutti i gladiatori riescono a... beh... combattere lo stesso numero di battaglie.\n",
    "\n",
    "Per ogni combattimento, ogni gladiatore riceve un compenso in sesterzi (in caso non sia sopravissuto, verrà offerto al suo patrono...)\n",
    "\n",
    "Alla fine dei giochi, l'imperatore getta un premio in sesterzi al gladiatore favorito. L'imperatore ha però scarsa mira e le sue deboli braccia non gli consentono di tirare tutto in un colpo solo, quindi finisce sempre per tirare metà malloppo al gladiatore giusto e metà al gladiatore subito dopo.\n",
    "\n",
    "* **NOTA**: L'imperatore **non** sceglie mai l'ultimo della lista\n",
    "\n",
    "Data un  `premio` e una lista `gladiatori` di sottoliste di lunghezza arbitraria, e un gladiatore ad indice `i`, scrivi del codice che MODIFICA le sottoliste di `gladiatori` alla riga `i` e alla successiva in modo che l'ultimo elemento di entrambe le liste venga aumentato di metà `premio`.\n",
    "\n",
    "* il tuo codice deve funzionare con qualunque `premio`, `gladiatori` e qualunque `i`\n",
    "\n",
    "**Esempio - dati**: "
   ]
  },
  {
   "cell_type": "markdown",
   "metadata": {},
   "source": [
    "![gladiatori](img/gladiators.png)"
   ]
  },
  {
   "cell_type": "markdown",
   "metadata": {},
   "source": [
    "Dopo il tuo codice, scrivendo (usiamo `pprint` perchè così la stampa avverrà su più linee)\n",
    "\n",
    "```python\n",
    "from pprint import pprint\n",
    "pprint(gladiatori,width=30)\n",
    "```\n",
    "\n",
    "deve stampare:\n",
    "\n",
    "```python\n",
    "[[67, 95],\n",
    " [60, 23, 23, 13, 79],\n",
    " [86, 95],\n",
    " [96, 90, 92],\n",
    " [88, 87]]\n",
    "```"
   ]
  },
  {
   "cell_type": "raw",
   "id": "10858175",
   "metadata": {
    "format": "text/html"
   },
   "source": [
    "<a  class=\"jupman-sol jupman-sol-toggler\" \n",
    " onclick=\"jupman.toggleSolution(this);\" \n",
    " data-jupman-show=\"Mostra soluzione\" data-jupman-hide=\"Nascondi\">Mostra soluzione</a><div class=\"jupman-sol jupman-sol-code\" style=\"display:none\">  "
   ]
  },
  {
   "cell_type": "code",
   "execution_count": 94,
   "metadata": {},
   "outputs": [
    {
     "name": "stdout",
     "output_type": "stream",
     "text": [
      "[[67, 95],\n",
      " [60, 23, 23, 13, 79],\n",
      " [86, 95],\n",
      " [96, 90, 92],\n",
      " [88, 87]]\n"
     ]
    }
   ],
   "source": [
    "\n",
    "premio = 40                      # sesterzi\n",
    "\n",
    "gladiatori = [                   # lista esterna\n",
    "               [67,95],          # lista interna ad indice 0\n",
    "               [60,23,23,13,59], # lista interna ad indice 1\n",
    "               [86,75],          # lista interna ad indice 2\n",
    "               [96,90,92],       # lista interna ad indice 3\n",
    "               [88,87],          # lista interna ad indice 4\n",
    "             ]\n",
    "\n",
    "i = 1                            # gladiatore da premiare\n",
    "\n",
    "# scrivi qui\n",
    "gladiatori[i][-1]   += premio // 2    \n",
    "gladiatori[i+1][-1] += premio // 2\n",
    "\n",
    "from pprint import pprint\n",
    "pprint(gladiatori,width=30)"
   ]
  },
  {
   "cell_type": "raw",
   "id": "a30aa832",
   "metadata": {
    "format": "text/html"
   },
   "source": [
    "</div>"
   ]
  },
  {
   "cell_type": "code",
   "execution_count": 94,
   "metadata": {},
   "outputs": [],
   "source": [
    "\n",
    "premio = 40                      # sesterzi\n",
    "\n",
    "gladiatori = [                   # lista esterna\n",
    "               [67,95],          # lista interna ad indice 0\n",
    "               [60,23,23,13,59], # lista interna ad indice 1\n",
    "               [86,75],          # lista interna ad indice 2\n",
    "               [96,90,92],       # lista interna ad indice 3\n",
    "               [88,87],          # lista interna ad indice 4\n",
    "             ]\n",
    "\n",
    "i = 1                            # gladiatore da premiare\n",
    "\n",
    "# scrivi qui\n",
    "\n"
   ]
  },
  {
   "cell_type": "markdown",
   "metadata": {},
   "source": [
    "## Operatore `in`\n",
    "\n",
    "Per verificare se un oggetto è contenuto in una lista, possiamo usare l'operatore `in`. \n",
    "\n",
    "Nota che il risultato di questa espressione è un booleano:"
   ]
  },
  {
   "cell_type": "code",
   "execution_count": 95,
   "metadata": {},
   "outputs": [
    {
     "data": {
      "text/plain": [
       "True"
      ]
     },
     "execution_count": 95,
     "metadata": {},
     "output_type": "execute_result"
    }
   ],
   "source": [
    "9 in [6,8,9,7]"
   ]
  },
  {
   "cell_type": "code",
   "execution_count": 96,
   "metadata": {},
   "outputs": [
    {
     "data": {
      "text/plain": [
       "False"
      ]
     },
     "execution_count": 96,
     "metadata": {},
     "output_type": "execute_result"
    }
   ],
   "source": [
    "5 in [6,8,9,7]"
   ]
  },
  {
   "cell_type": "code",
   "execution_count": 97,
   "metadata": {},
   "outputs": [
    {
     "data": {
      "text/plain": [
       "True"
      ]
     },
     "execution_count": 97,
     "metadata": {},
     "output_type": "execute_result"
    }
   ],
   "source": [
    "\"mela\" in [\"anguria\",\"mela\",\"banana\"]"
   ]
  },
  {
   "cell_type": "code",
   "execution_count": 98,
   "metadata": {},
   "outputs": [
    {
     "data": {
      "text/plain": [
       "False"
      ]
     },
     "execution_count": 98,
     "metadata": {},
     "output_type": "execute_result"
    }
   ],
   "source": [
    "\"carota\" in [\"anguria\",\"banana\",\"mela\"]"
   ]
  },
  {
   "cell_type": "markdown",
   "metadata": {},
   "source": [
    "### Non abusare `in`"
   ]
  },
  {
   "cell_type": "markdown",
   "metadata": {},
   "source": [
    " <div class=\"alert alert-warning\">\n",
    "    \n",
    "**ATTENZIONE**: `in` **viene spesso usato in modo errato / inefficiente**\n",
    "\n",
    "Chiediti sempre:\n",
    "    \n",
    "1. la lista potrebbe _non_ contenere l'elemento cercato? Ricordati di gestire anche questo caso!\n",
    "2. `in` compie una ricerca in tutta la lista, che può essere inefficiente: è proprio necessaria, o sappiamo già l'intervallo in cui cercare? \n",
    "3. se vogliamo sapere se un `elemento` è in una posizione nota a priori (es `3`), `in` non ci serve, basta scrivere `lista[3] == elemento`. Usando `in` potremmo trovare elementi duplicati che stanno _prima_ o _dopo_ di quello che vogliamo verificare!\n",
    "</div>"
   ]
  },
  {
   "cell_type": "markdown",
   "metadata": {},
   "source": [
    "**DOMANDA**: Questa espressione cosa restituisce? `True` o `False`?\n",
    "\n",
    "```python\n",
    "True in [ 5 in [6,7,5],\n",
    "          2 in [8,1]\n",
    "        ]\n",
    "```"
   ]
  },
  {
   "cell_type": "raw",
   "id": "64cb0932",
   "metadata": {
    "format": "text/html"
   },
   "source": [
    "<a  class=\"jupman-sol jupman-sol-toggler\" \n",
    " onclick=\"jupman.toggleSolution(this);\" \n",
    " data-jupman-show=\"Mostra risposta\" data-jupman-hide=\"Nascondi\">Mostra risposta</a><div class=\"jupman-sol jupman-sol-question\" style=\"display:none\">  "
   ]
  },
  {
   "cell_type": "markdown",
   "metadata": {},
   "source": [
    "**RISPOSTA**: Restituisce `True` perchè \n",
    "\n",
    "```python\n",
    "[ 5 in [6,7,5],\n",
    "  2 in [8,1]\n",
    "]\n",
    "```\n",
    "\n",
    "rappresenta una lista di due elementi. Ogni elemento è una espressione con `in`, che viene valutata. Nel primo caso, `5 in [6,7,5]` risulta `True`, nel secondo `2 in [8,1]` risulta `False`. Quindi la lista finale diventa `[True, False]` e scrivendo `True in [True, False]` si ottiene `True`\n"
   ]
  },
  {
   "cell_type": "raw",
   "id": "9006a673",
   "metadata": {
    "format": "text/html"
   },
   "source": [
    "</div>"
   ]
  },
  {
   "cell_type": "markdown",
   "metadata": {},
   "source": [
    "### not in\n",
    "\n",
    "Possiamo scrivere la verifica di **non** appartenza in due forme:\n",
    "\n",
    "**Forma 1**:"
   ]
  },
  {
   "cell_type": "code",
   "execution_count": 99,
   "metadata": {},
   "outputs": [
    {
     "data": {
      "text/plain": [
       "True"
      ]
     },
     "execution_count": 99,
     "metadata": {},
     "output_type": "execute_result"
    }
   ],
   "source": [
    "\"carota\" not in [\"anguria\",\"banana\",\"mela\"]"
   ]
  },
  {
   "cell_type": "code",
   "execution_count": 100,
   "metadata": {},
   "outputs": [
    {
     "data": {
      "text/plain": [
       "False"
      ]
     },
     "execution_count": 100,
     "metadata": {},
     "output_type": "execute_result"
    }
   ],
   "source": [
    "\"anguria\" not in [\"anguria\",\"banana\",\"mela\"]"
   ]
  },
  {
   "cell_type": "markdown",
   "metadata": {},
   "source": [
    "**Forma 2:**"
   ]
  },
  {
   "cell_type": "code",
   "execution_count": 101,
   "metadata": {},
   "outputs": [
    {
     "data": {
      "text/plain": [
       "True"
      ]
     },
     "execution_count": 101,
     "metadata": {},
     "output_type": "execute_result"
    }
   ],
   "source": [
    "not \"carota\" in [\"anguria\",\"banana\",\"mela\"]"
   ]
  },
  {
   "cell_type": "code",
   "execution_count": 102,
   "metadata": {},
   "outputs": [
    {
     "data": {
      "text/plain": [
       "False"
      ]
     },
     "execution_count": 102,
     "metadata": {},
     "output_type": "execute_result"
    }
   ],
   "source": [
    "not \"anguria\" in [\"anguria\",\"banana\",\"mela\"]"
   ]
  },
  {
   "cell_type": "markdown",
   "metadata": {},
   "source": [
    "**DOMANDA**: Data qualunque elmento `x` e  lista `y` , la seguente espressione cosa restituisce?\n",
    "\n",
    "```python\n",
    "x in y and not x in y\n",
    "```\n",
    "\n",
    "1. `False`\n",
    "2. `True`\n",
    "3. `False` oppure `True` a seconda dei valori di `x` e `y`\n",
    "4. un errore"
   ]
  },
  {
   "cell_type": "raw",
   "id": "2b0aee2a",
   "metadata": {
    "format": "text/html"
   },
   "source": [
    "<a  class=\"jupman-sol jupman-sol-toggler\" \n",
    " onclick=\"jupman.toggleSolution(this);\" \n",
    " data-jupman-show=\"Mostra risposta\" data-jupman-hide=\"Nascondi\">Mostra risposta</a><div class=\"jupman-sol jupman-sol-question\" style=\"display:none\">  "
   ]
  },
  {
   "cell_type": "markdown",
   "metadata": {},
   "source": [
    "**RISPOSTA**: la 1. Restituisce `False`, perchè internamente python 'Parentesizza' l'espressione così:\n",
    "\n",
    "```python\n",
    "(x in y) and (not x in y)\n",
    "```\n",
    "\n",
    "e un elemento non può contemporaneamente essere e non essere nella stessa lista."
   ]
  },
  {
   "cell_type": "raw",
   "id": "f5da919e",
   "metadata": {
    "format": "text/html"
   },
   "source": [
    "</div>"
   ]
  },
  {
   "cell_type": "markdown",
   "metadata": {},
   "source": [
    "**DOMANDA**: Per ciascuna delle seguenti espressioni, provare a indovinare il risultato\n",
    "\n",
    "1.  ```python\n",
    "    3 in [3]\n",
    "    ```\n",
    "1.  ```python    \n",
    "    [4,5] in [1,2,3,4,5]\n",
    "    ```\n",
    "1.  ```python    \n",
    "    [4,5] in [[1,2,3],[4,5]]\n",
    "    ```\n",
    "1.  ```python    \n",
    "    [4,5] in [[1,2,3,4],[5,6]]\n",
    "    ```\n",
    "1.  ```python    \n",
    "    'a' in ['prova'[-1]]\n",
    "    ```\n",
    "1.  ```python    \n",
    "    'ghe' in 'paghe'[1:4]\n",
    "    ```\n",
    "1.  ```python    \n",
    "    [] in [[[]]]\n",
    "    ```\n",
    "1.  ```python    \n",
    "    [] in [[]]\n",
    "    ```\n",
    "1.  ```python    \n",
    "    [] in [\"[]\"]\n",
    "    ```"
   ]
  },
  {
   "cell_type": "markdown",
   "metadata": {},
   "source": [
    "**DOMANDA**: Per ciascuna delle seguenti espressioni, indipendentemente dal valore di `x` e `y`, dire se risulta sempre `True` :\n",
    "\n",
    "1.  ```python\n",
    "    x in x\n",
    "    ```\n",
    "1.  ```python    \n",
    "    x in [x]\n",
    "    ```\n",
    "1.  ```python    \n",
    "    x not in []\n",
    "    ```\n",
    "1.  ```python    \n",
    "    x in [[x]]\n",
    "    ```\n",
    "1.  ```python\n",
    "    x in [[x][0]]\n",
    "    ```\n",
    "1.  ```python    \n",
    "    (x and y) in [x,y]\n",
    "    ```\n",
    "1.  ```python\n",
    "    x in [x,y] and y in [x,y]\n",
    "    ```"
   ]
  },
  {
   "cell_type": "markdown",
   "metadata": {},
   "source": [
    "### Esercizio - ortaggi\n",
    "\n",
    "Date le lista  `ortaggi` di esattamente 5 stringhe e la lista di stringhe `frutta`, MODIFICARE la variabile `ortaggi` in modo che in ogni cella vi sia `True` se l'ortaggio è un frutto oppure `False` altrimenti.\n",
    "\n",
    "* il tuo codice deve funzionare con qualsiasi lista di 5 stringhe `ortaggi` e qualsiasi lista `frutta`\n",
    "\n",
    "Esempio - dati:\n",
    "\n",
    "```python\n",
    "ortaggi = [\"carota\",\n",
    "           \"cavolfiore\",\n",
    "           \"mela\",\n",
    "           \"melanzana\",\n",
    "           \"anguria\"]\n",
    "\n",
    "frutta = [\"anguria\",\"banana\",\"mela\",]\n",
    "```\n",
    "\n",
    "dopo l'esecuzione del tuo codice deve stampare:\n",
    "\n",
    "```python\n",
    ">>> print(ortaggi)\n",
    "[False, False, True, False, True]\n",
    "```"
   ]
  },
  {
   "cell_type": "raw",
   "id": "98f54e31",
   "metadata": {
    "format": "text/html"
   },
   "source": [
    "<a  class=\"jupman-sol jupman-sol-toggler\" \n",
    " onclick=\"jupman.toggleSolution(this);\" \n",
    " data-jupman-show=\"Mostra soluzione\" data-jupman-hide=\"Nascondi\">Mostra soluzione</a><div class=\"jupman-sol jupman-sol-code\" style=\"display:none\">  "
   ]
  },
  {
   "cell_type": "code",
   "execution_count": 103,
   "metadata": {},
   "outputs": [
    {
     "name": "stdout",
     "output_type": "stream",
     "text": [
      "[False, False, True, False, True]\n"
     ]
    }
   ],
   "source": [
    "\n",
    "ortaggi = [\"carota\",\n",
    "           \"cavolfiore\",\n",
    "           \"mela\",\n",
    "           \"melanzana\",\n",
    "           \"anguria\"]\n",
    "\n",
    "frutta = [\"anguria\",\"banana\",\"mela\",]\n",
    "\n",
    "# scrivi qui\n",
    "\n",
    "ortaggi = [ortaggi[0] in frutta,\n",
    "           ortaggi[1] in frutta,\n",
    "           ortaggi[2] in frutta,\n",
    "           ortaggi[3] in frutta,\n",
    "           ortaggi[4] in frutta,\n",
    "]\n",
    "\n",
    "print(ortaggi)"
   ]
  },
  {
   "cell_type": "raw",
   "id": "75f94a3d",
   "metadata": {
    "format": "text/html"
   },
   "source": [
    "</div>"
   ]
  },
  {
   "cell_type": "code",
   "execution_count": 103,
   "metadata": {},
   "outputs": [],
   "source": [
    "\n",
    "ortaggi = [\"carota\",\n",
    "           \"cavolfiore\",\n",
    "           \"mela\",\n",
    "           \"melanzana\",\n",
    "           \"anguria\"]\n",
    "\n",
    "frutta = [\"anguria\",\"banana\",\"mela\",]\n",
    "\n",
    "# scrivi qui\n",
    "\n"
   ]
  },
  {
   "cell_type": "markdown",
   "metadata": {},
   "source": [
    "## Concatenazione di liste con +\n",
    "\n",
    "Date due liste `la` e `lb`, possiamo concatenarle con l'operatore `+` che produce una NUOVA lista:"
   ]
  },
  {
   "cell_type": "code",
   "execution_count": 104,
   "metadata": {},
   "outputs": [
    {
     "data": {
      "text/plain": [
       "[70, 60, 80, 90, 50]"
      ]
     },
     "execution_count": 104,
     "metadata": {},
     "output_type": "execute_result"
    }
   ],
   "source": [
    "la = [70,60,80]\n",
    "lb = [90,50]\n",
    "\n",
    "la + lb"
   ]
  },
  {
   "cell_type": "markdown",
   "metadata": {},
   "source": [
    "Nota bene che l'operatore `+` produce una NUOVA lista, quindi `la` ed `lb` sono rimaste immutate:"
   ]
  },
  {
   "cell_type": "code",
   "execution_count": 105,
   "metadata": {},
   "outputs": [
    {
     "name": "stdout",
     "output_type": "stream",
     "text": [
      "[70, 60, 80]\n"
     ]
    }
   ],
   "source": [
    "print(la)"
   ]
  },
  {
   "cell_type": "code",
   "execution_count": 106,
   "metadata": {},
   "outputs": [
    {
     "name": "stdout",
     "output_type": "stream",
     "text": [
      "[90, 50]\n"
     ]
    }
   ],
   "source": [
    "print(lb)"
   ]
  },
  {
   "cell_type": "markdown",
   "metadata": {},
   "source": [
    "Vediamo meglio con Python Tutor: "
   ]
  },
  {
   "cell_type": "code",
   "execution_count": 107,
   "metadata": {},
   "outputs": [
    {
     "name": "stdout",
     "output_type": "stream",
     "text": [
      "[70, 60, 80]\n",
      "[90, 50]\n",
      "[70, 60, 80, 90, 50]\n"
     ]
    },
    {
     "data": {
      "text/html": [
       "        \n",
       "        <script src=\"../_static/js/pytutor-embed.bundle.min.js\" type=\"application/javascript\"></script>\n",
       "    \n",
       "        <style>\n",
       "        @import \"../_static/css/jupman.css\";\n",
       "        </style>\n",
       "     \n",
       "        <script id=\"json-jm-425c916045f3d7ba312473385ffc112c-109\" type=\"application/json\" >\n",
       "            {\"code\": \" \\nla = [70,60,80]\\nlb = [90,50]\\nlc = la + lb\\n\\nprint(la)\\nprint(lb)\\nprint(lc)\", \"trace\": [{\"line\": 2, \"event\": \"step_line\", \"func_name\": \"<module>\", \"globals\": {}, \"ordered_globals\": [], \"stack_to_render\": [], \"heap\": {}, \"stdout\": \"\"}, {\"line\": 3, \"event\": \"step_line\", \"func_name\": \"<module>\", \"globals\": {\"la\": [\"REF\", 1]}, \"ordered_globals\": [\"la\"], \"stack_to_render\": [], \"heap\": {\"1\": [\"LIST\", 70, 60, 80]}, \"stdout\": \"\"}, {\"line\": 4, \"event\": \"step_line\", \"func_name\": \"<module>\", \"globals\": {\"la\": [\"REF\", 1], \"lb\": [\"REF\", 2]}, \"ordered_globals\": [\"la\", \"lb\"], \"stack_to_render\": [], \"heap\": {\"1\": [\"LIST\", 70, 60, 80], \"2\": [\"LIST\", 90, 50]}, \"stdout\": \"\"}, {\"line\": 6, \"event\": \"step_line\", \"func_name\": \"<module>\", \"globals\": {\"la\": [\"REF\", 1], \"lb\": [\"REF\", 2], \"lc\": [\"REF\", 3]}, \"ordered_globals\": [\"la\", \"lb\", \"lc\"], \"stack_to_render\": [], \"heap\": {\"1\": [\"LIST\", 70, 60, 80], \"2\": [\"LIST\", 90, 50], \"3\": [\"LIST\", 70, 60, 80, 90, 50]}, \"stdout\": \"\"}, {\"line\": 7, \"event\": \"step_line\", \"func_name\": \"<module>\", \"globals\": {\"la\": [\"REF\", 1], \"lb\": [\"REF\", 2], \"lc\": [\"REF\", 3]}, \"ordered_globals\": [\"la\", \"lb\", \"lc\"], \"stack_to_render\": [], \"heap\": {\"1\": [\"LIST\", 70, 60, 80], \"2\": [\"LIST\", 90, 50], \"3\": [\"LIST\", 70, 60, 80, 90, 50]}, \"stdout\": \"[70, 60, 80]\\n\"}, {\"line\": 8, \"event\": \"step_line\", \"func_name\": \"<module>\", \"globals\": {\"la\": [\"REF\", 1], \"lb\": [\"REF\", 2], \"lc\": [\"REF\", 3]}, \"ordered_globals\": [\"la\", \"lb\", \"lc\"], \"stack_to_render\": [], \"heap\": {\"1\": [\"LIST\", 70, 60, 80], \"2\": [\"LIST\", 90, 50], \"3\": [\"LIST\", 70, 60, 80, 90, 50]}, \"stdout\": \"[70, 60, 80]\\n[90, 50]\\n\"}, {\"line\": 8, \"event\": \"return\", \"func_name\": \"<module>\", \"globals\": {\"la\": [\"REF\", 1], \"lb\": [\"REF\", 2], \"lc\": [\"REF\", 3]}, \"ordered_globals\": [\"la\", \"lb\", \"lc\"], \"stack_to_render\": [], \"heap\": {\"1\": [\"LIST\", 70, 60, 80], \"2\": [\"LIST\", 90, 50], \"3\": [\"LIST\", 70, 60, 80, 90, 50]}, \"stdout\": \"[70, 60, 80]\\n[90, 50]\\n[70, 60, 80, 90, 50]\\n\"}]}\n",
       "        </script>\n",
       "        <div id=\"jm-425c916045f3d7ba312473385ffc112c-109\" class=\"pytutorVisualizer\"> </div>\n",
       "                        \n",
       "        <script>\n",
       "        \n",
       "        (function(){\n",
       "            console.log(\"jupman.py embedded javascript: adding Python tutor visualizer...\")\n",
       "            \n",
       "            var trace = JSON.parse(document.getElementById('json-jm-425c916045f3d7ba312473385ffc112c-109').innerHTML);                                        \n",
       "            // NOTE: id without #\n",
       "                    \n",
       "            addVisualizerToPage(trace, 'jm-425c916045f3d7ba312473385ffc112c-109',{'embeddedMode' : false,\n",
       "                                             'disableHeapNesting': true,\n",
       "                                             'visualizerIdOverride':'viz-jm-425c916045f3d7ba312473385ffc112c-109'})  \n",
       "            \n",
       "            \n",
       "            // set overflow for pytuts - need to do in python as css \n",
       "            // does not allow parent selection\n",
       "            var pytuts = $('.pytutorVisualizer')\n",
       "            pytuts.closest('div.output_html.rendered_html.output_result')\n",
       "                    .css('overflow-x', 'visible')\n",
       "        \n",
       "            //pytuts.closest('div.output_html.rendered_html.output_result')\n",
       "            //      .css('background-color','red')                \n",
       "            \n",
       "        })()\n",
       "        </script>\n",
       "                \n",
       "    \n",
       "    <div style=\"text-align:center; font-size:0.9em\"> <a href=\"https://pythontutor.com/visualize.html#mode=edit\" target=\"_blank\">Python Tutor</a> visualization</div> \n",
       "    "
      ],
      "text/plain": [
       "<IPython.core.display.HTML object>"
      ]
     },
     "execution_count": 107,
     "metadata": {},
     "output_type": "execute_result"
    }
   ],
   "source": [
    "la = [70,60,80]\n",
    "lb = [90,50]\n",
    "lc = la + lb\n",
    "\n",
    "print(la)\n",
    "print(lb)\n",
    "print(lc)\n",
    "\n",
    "jupman.pytut()"
   ]
  },
  {
   "cell_type": "markdown",
   "metadata": {},
   "source": [
    "### Esercizio - concatenazione\n",
    "\n",
    "Scrivere del codice che date due liste `la` e `lb`, mette nella lista `lc` gli ultimi due elementi di `la` e i primi due elementi di `lb`\n",
    "\n",
    "Esempio - date:\n",
    "\n",
    "```python\n",
    "la = [18,26,30,45,55]\n",
    "lb = [16,26,37,45]\n",
    "```\n",
    "\n",
    "dopo il tuo codice deve risultare:\n",
    "\n",
    "```\n",
    ">>> print(la)\n",
    "[18, 26, 30, 45, 55]\n",
    ">>> print(lb)\n",
    "[16, 26, 37, 45]\n",
    ">>> print(lc)\n",
    "[45, 55, 16, 26]\n",
    "```"
   ]
  },
  {
   "cell_type": "raw",
   "id": "cff9f2c2",
   "metadata": {
    "format": "text/html"
   },
   "source": [
    "<a  class=\"jupman-sol jupman-sol-toggler\" \n",
    " onclick=\"jupman.toggleSolution(this);\" \n",
    " data-jupman-show=\"Mostra soluzione\" data-jupman-hide=\"Nascondi\">Mostra soluzione</a><div class=\"jupman-sol jupman-sol-code\" style=\"display:none\">  "
   ]
  },
  {
   "cell_type": "code",
   "execution_count": 108,
   "metadata": {},
   "outputs": [
    {
     "name": "stdout",
     "output_type": "stream",
     "text": [
      "[18, 26, 30, 45, 55]\n",
      "[16, 26, 37, 45]\n",
      "[45, 55, 16, 26]\n"
     ]
    }
   ],
   "source": [
    "\n",
    "la = [18,26,30,45,55]\n",
    "lb = [16,26,37,45]\n",
    "\n",
    "# scrivi qui\n",
    "lc = la[-2:] + lb[:2]\n",
    "print(la)\n",
    "print(lb)\n",
    "print(lc)"
   ]
  },
  {
   "cell_type": "raw",
   "id": "dcac326c",
   "metadata": {
    "format": "text/html"
   },
   "source": [
    "</div>"
   ]
  },
  {
   "cell_type": "code",
   "execution_count": 108,
   "metadata": {},
   "outputs": [],
   "source": [
    "\n",
    "la = [18,26,30,45,55]\n",
    "lb = [16,26,37,45]\n",
    "\n",
    "# scrivi qui\n",
    "\n"
   ]
  },
  {
   "cell_type": "markdown",
   "metadata": {},
   "source": [
    "**DOMANDA**: Per ciascuna delle seguenti espressioni, provare a indovinare il risultato\n",
    "\n",
    "    \n",
    "1.  ```python\n",
    "    [6,7,8] + [9]\n",
    "    ```\n",
    "1.  ```python    \n",
    "    [6,7,8] + []\n",
    "    ```\n",
    "1.  ```python    \n",
    "    [] + [6,7,8]\n",
    "    ```\n",
    "1.  ```python    \n",
    "    [] + []\n",
    "    ```\n",
    "1.  ```python    \n",
    "    [] + [[]]\n",
    "    ```\n",
    "1.  ```python    \n",
    "    [[]]+[]\n",
    "    ```\n",
    "1.  ```python    \n",
    "    [[]]+[[]]\n",
    "    ```\n",
    "1.  ```python    \n",
    "    ([6] + [8])[0]\n",
    "    ```\n",
    "1.  ```python    \n",
    "    ([6] + [8])[1]\n",
    "    ```\n",
    "1.  ```python    \n",
    "    ([6] + [8])[2:]\n",
    "    ```\n",
    "1.  ```python    \n",
    "    len([4,2,5])+len([3,1,2])\n",
    "    ```\n",
    "1.  ```python    \n",
    "    len([4,2,5] + [3,1,2])\n",
    "    ```\n",
    "1.  ```python    \n",
    "    [5,4,3] + \"3,1\"\n",
    "    ```\n",
    "1.  ```python    \n",
    "    [5,4,3] + \"[3,1]\"\n",
    "    ```\n",
    "1.  ```python    \n",
    "    \"[5,4,3]\" + \"[3,1]\"\n",
    "    ```\n",
    "1.  ```python    \n",
    "    [\"4\",\"1\",\"7\"] + [\"3\",\"1\"]\n",
    "    ```\n",
    "1.  ```python    \n",
    "    list('coca') + ['c','o','l','a']\n",
    "    ```"
   ]
  },
  {
   "cell_type": "markdown",
   "metadata": {},
   "source": [
    "## min e max\n",
    "\n",
    "Una lista è una sequenza di elementi, e come tale la possiamo passare alla funzione `min` o `max` per trovare rispettivamente il minimo o massimo elemento della lista."
   ]
  },
  {
   "cell_type": "code",
   "execution_count": 109,
   "metadata": {},
   "outputs": [
    {
     "data": {
      "text/plain": [
       "3"
      ]
     },
     "execution_count": 109,
     "metadata": {},
     "output_type": "execute_result"
    }
   ],
   "source": [
    "min([4,5,3,7,8,6])"
   ]
  },
  {
   "cell_type": "code",
   "execution_count": 110,
   "metadata": {},
   "outputs": [
    {
     "data": {
      "text/plain": [
       "8"
      ]
     },
     "execution_count": 110,
     "metadata": {},
     "output_type": "execute_result"
    }
   ],
   "source": [
    "max([4,5,3,7,8,6])"
   ]
  },
  {
   "cell_type": "markdown",
   "metadata": {},
   "source": [
    "<div class=\"alert alert-warning\">\n",
    "\n",
    "[V COMANDMENTO](https://it.softpython.org/commandments.html#V-COMANDAMENTO) **ATTENZIONE: MAI CHIAMARE VARIABILI** `min` **O** `max`\n",
    "\n",
    "Facendolo, finiresti per sovrascrivere le funzioni e al momento di chiamarle otterresti errori molto strani !\n",
    "    \n",
    "</div>"
   ]
  },
  {
   "cell_type": "markdown",
   "metadata": {},
   "source": [
    "Notare che è anche possibile passare direttamente a `min` e `max` gli elementi da comparare senza includerli in una lista:"
   ]
  },
  {
   "cell_type": "code",
   "execution_count": 111,
   "metadata": {},
   "outputs": [
    {
     "data": {
      "text/plain": [
       "3"
      ]
     },
     "execution_count": 111,
     "metadata": {},
     "output_type": "execute_result"
    }
   ],
   "source": [
    "min(4,5,3,7,8,6)"
   ]
  },
  {
   "cell_type": "code",
   "execution_count": 112,
   "metadata": {},
   "outputs": [
    {
     "data": {
      "text/plain": [
       "8"
      ]
     },
     "execution_count": 112,
     "metadata": {},
     "output_type": "execute_result"
    }
   ],
   "source": [
    "max(4,5,3,7,8,6)"
   ]
  },
  {
   "cell_type": "markdown",
   "metadata": {},
   "source": [
    "Ma se ne passiamo uno solo, senza includerlo in una lista, otterremo un errore:"
   ]
  },
  {
   "cell_type": "markdown",
   "metadata": {},
   "source": [
    "```python\n",
    "min(4)\n",
    "---------------------------------------------------------------------------\n",
    "TypeError                                 Traceback (most recent call last)\n",
    "<ipython-input-156-bb3db472b52e> in <module>\n",
    "----> 1 min(4)\n",
    "\n",
    "TypeError: 'int' object is not iterable\n",
    "\n",
    "```"
   ]
  },
  {
   "cell_type": "markdown",
   "metadata": {},
   "source": [
    "L'errore ci comunica che quando passiamo un solo argomento, Python si aspetta che sia una lista:"
   ]
  },
  {
   "cell_type": "code",
   "execution_count": 113,
   "metadata": {},
   "outputs": [
    {
     "data": {
      "text/plain": [
       "4"
      ]
     },
     "execution_count": 113,
     "metadata": {},
     "output_type": "execute_result"
    }
   ],
   "source": [
    "min([4])"
   ]
  },
  {
   "cell_type": "markdown",
   "metadata": {},
   "source": [
    "A `min` e `max` possiamo anche passare stringhe, e ci verrà tornato il carattere alfabeticamente rispettivamente minore o maggiore :"
   ]
  },
  {
   "cell_type": "code",
   "execution_count": 114,
   "metadata": {},
   "outputs": [
    {
     "data": {
      "text/plain": [
       "'e'"
      ]
     },
     "execution_count": 114,
     "metadata": {},
     "output_type": "execute_result"
    }
   ],
   "source": [
    "min(\"sportello\")"
   ]
  },
  {
   "cell_type": "code",
   "execution_count": 115,
   "metadata": {},
   "outputs": [
    {
     "data": {
      "text/plain": [
       "'t'"
      ]
     },
     "execution_count": 115,
     "metadata": {},
     "output_type": "execute_result"
    }
   ],
   "source": [
    "max(\"sportello\")"
   ]
  },
  {
   "cell_type": "markdown",
   "metadata": {},
   "source": [
    "Se passiamo una lista di stringhe, otterremo la stringa minore o maggiore in ordine lessicografico (per intenderci, quello dell'elenco telefonico):"
   ]
  },
  {
   "cell_type": "code",
   "execution_count": 116,
   "metadata": {},
   "outputs": [
    {
     "data": {
      "text/plain": [
       "'cammina'"
      ]
     },
     "execution_count": 116,
     "metadata": {},
     "output_type": "execute_result"
    }
   ],
   "source": [
    "min(['il','marinaio','cammina','per','le','vie','del','porto'])"
   ]
  },
  {
   "cell_type": "code",
   "execution_count": 117,
   "metadata": {},
   "outputs": [
    {
     "data": {
      "text/plain": [
       "'vie'"
      ]
     },
     "execution_count": 117,
     "metadata": {},
     "output_type": "execute_result"
    }
   ],
   "source": [
    "max(['il','marinaio','cammina','per','le','vie','del','porto'])"
   ]
  },
  {
   "cell_type": "markdown",
   "metadata": {},
   "source": [
    "**DOMANDA**: Per ciascuna delle seguenti espressioni, prova a indovinare il risultato (o se da un errore)\n",
    "\n",
    "    \n",
    "1.  ```python\n",
    "    max(7)\n",
    "    ```\n",
    "1.  ```python    \n",
    "    max([7])\n",
    "    ```\n",
    "1.  ```python    \n",
    "    max([5,4,6,2])\n",
    "    ```\n",
    "1.  ```python    \n",
    "    max([min([7,3])])\n",
    "    ```\n",
    "1.  ```python    \n",
    "    max([])\n",
    "    ```\n",
    "1.  ```python    \n",
    "    max(2,9,3)\n",
    "    ```\n",
    "1.  ```python    \n",
    "    max([3,2,5] + [9,2,3])\n",
    "    ```\n",
    "1.  ```python    \n",
    "    max(max([3,2,5], max([9,2,3]))\n",
    "    ```\n",
    "1.  ```python    \n",
    "    max(min(3,6), min(8,2))\n",
    "    ```\n",
    "1.  ```python    \n",
    "    min(max(3,6), max(8,2))\n",
    "    ```\n",
    "1.  ```python    \n",
    "    max(['a','b','d','c'])\n",
    "    ```\n",
    "1.  ```python    \n",
    "    max(['barca', 'dado', 'aloa', 'cerchio'])\n",
    "    ```\n",
    "1.  ```python    \n",
    "    min(['prova','','z','v'])\n",
    "    ```\n",
    "1.  ```python    \n",
    "    max(['martello'[-1],'cacciavite'[-1],'brugola'[-1]])\n",
    "    ```\n",
    "1.  ```python    \n",
    "    min(['martello'[-1],'cacciavite'[-1],'brugola'[-1]])\n",
    "    ```"
   ]
  },
  {
   "cell_type": "markdown",
   "metadata": {},
   "source": [
    "## sum\n",
    "\n",
    "Con `sum` possiamo sommare tutti gli elementi di una lista:"
   ]
  },
  {
   "cell_type": "code",
   "execution_count": 118,
   "metadata": {},
   "outputs": [
    {
     "data": {
      "text/plain": [
       "6"
      ]
     },
     "execution_count": 118,
     "metadata": {},
     "output_type": "execute_result"
    }
   ],
   "source": [
    "sum([1,2,3])"
   ]
  },
  {
   "cell_type": "code",
   "execution_count": 119,
   "metadata": {},
   "outputs": [
    {
     "data": {
      "text/plain": [
       "3.14"
      ]
     },
     "execution_count": 119,
     "metadata": {},
     "output_type": "execute_result"
    }
   ],
   "source": [
    "sum([1.0, 2.0, 0.14])"
   ]
  },
  {
   "cell_type": "markdown",
   "metadata": {},
   "source": [
    "<div class=\"alert alert-warning\">\n",
    "\n",
    "**ATTENZIONE: MAI CHIAMARE VARIABILI** `sum`\n",
    "\n",
    "Facendolo, finiresti per sovrascrivere la funzione e al momento di chiamarle otterresti errori molto strani !\n",
    "    \n",
    "</div>"
   ]
  },
  {
   "cell_type": "markdown",
   "metadata": {},
   "source": [
    "**DOMANDA**:  Per ciascuna delle seguenti espressioni, prova a indovinare il risultato (o se da un errore)\n",
    "\n",
    "1.  ```python\n",
    "    sum[3,1,2]\n",
    "    ```\n",
    "1.  ```python\n",
    "    sum(1,2,3)\n",
    "    ```\n",
    "1.  ```python\n",
    "    la = [1,2,3]\n",
    "    sum(la) > max(la)\n",
    "    ```\n",
    "1.  ```python   \n",
    "    la = [1,2,3]\n",
    "    sum(la) > max(la)*len(la)\n",
    "    ```\n",
    "1.  ```python\n",
    "    la = [4,2,6,4,7]\n",
    "    lb = [max(la), min(la), max(la)]\n",
    "    print(max(lb) != max(la))\n",
    "    ```"
   ]
  },
  {
   "cell_type": "markdown",
   "metadata": {},
   "source": [
    "### Esercizio - bilancia\n",
    "\n",
    "Data una lista di `n` numeri `bilancia` con `n` pari, scrivere del codice che stampa `True` se la somma di tutti i primi `n/2` numeri è uguale alla somma di tutti i successivi\n",
    "\n",
    "* il tuo codice deve funzionare per _qualunque_ lista di numeri \n",
    "\n",
    "Esempio 1 - dati:\n",
    "\n",
    "```python\n",
    "bilancia = [4,3,7,1,5,8]\n",
    "```\n",
    "\n",
    "dopo il tuo codice, deve stampare \n",
    "\n",
    "```\n",
    "True\n",
    "```\n",
    "\n",
    "Esempio 2 - dati:\n",
    "\n",
    "```python\n",
    "bilancia = [4,3,3,1,9,8]\n",
    "```\n",
    "\n",
    "dopo il tuo codice, deve stampare \n",
    "\n",
    "```\n",
    "False\n",
    "```"
   ]
  },
  {
   "cell_type": "raw",
   "id": "7b27ce57",
   "metadata": {
    "format": "text/html"
   },
   "source": [
    "<a  class=\"jupman-sol jupman-sol-toggler\" \n",
    " onclick=\"jupman.toggleSolution(this);\" \n",
    " data-jupman-show=\"Mostra soluzione\" data-jupman-hide=\"Nascondi\">Mostra soluzione</a><div class=\"jupman-sol jupman-sol-code\" style=\"display:none\">  "
   ]
  },
  {
   "cell_type": "code",
   "execution_count": 120,
   "metadata": {},
   "outputs": [
    {
     "data": {
      "text/plain": [
       "True"
      ]
     },
     "execution_count": 120,
     "metadata": {},
     "output_type": "execute_result"
    }
   ],
   "source": [
    "\n",
    "bilancia = [4,3,7,1,5,8]\n",
    "#bilancia = [4,3,3,1,9,8]\n",
    "\n",
    "# scrivi qui\n",
    "n = len(bilancia)\n",
    "sum(bilancia[:n//2]) == sum(bilancia[n//2:])"
   ]
  },
  {
   "cell_type": "raw",
   "id": "c2470cdd",
   "metadata": {
    "format": "text/html"
   },
   "source": [
    "</div>"
   ]
  },
  {
   "cell_type": "code",
   "execution_count": 120,
   "metadata": {},
   "outputs": [],
   "source": [
    "\n",
    "bilancia = [4,3,7,1,5,8]\n",
    "#bilancia = [4,3,3,1,9,8]\n",
    "\n",
    "# scrivi qui\n",
    "\n"
   ]
  },
  {
   "cell_type": "markdown",
   "metadata": {},
   "source": [
    "## Replicazione per liste\n",
    "\n",
    "Per replicare gli elementi di una lista, è possibile usare l'operatore `*` che produce una NUOVA lista:"
   ]
  },
  {
   "cell_type": "code",
   "execution_count": 121,
   "metadata": {},
   "outputs": [
    {
     "data": {
      "text/plain": [
       "[7, 6, 8, 7, 6, 8]"
      ]
     },
     "execution_count": 121,
     "metadata": {},
     "output_type": "execute_result"
    }
   ],
   "source": [
    "[7,6,8] * 2"
   ]
  },
  {
   "cell_type": "code",
   "execution_count": 122,
   "metadata": {},
   "outputs": [
    {
     "data": {
      "text/plain": [
       "[7, 6, 8, 7, 6, 8, 7, 6, 8]"
      ]
     },
     "execution_count": 122,
     "metadata": {},
     "output_type": "execute_result"
    }
   ],
   "source": [
    "[7,6,8] * 3"
   ]
  },
  {
   "cell_type": "markdown",
   "metadata": {},
   "source": [
    "Notare che viene prodotta una NUOVA lista, e quella originale non viene modificata:"
   ]
  },
  {
   "cell_type": "code",
   "execution_count": 123,
   "metadata": {},
   "outputs": [],
   "source": [
    "la = [7,6,8]"
   ]
  },
  {
   "cell_type": "code",
   "execution_count": 124,
   "metadata": {},
   "outputs": [],
   "source": [
    "lb = [7,6,8] * 3"
   ]
  },
  {
   "cell_type": "code",
   "execution_count": 125,
   "metadata": {},
   "outputs": [
    {
     "data": {
      "text/plain": [
       "[7, 6, 8]"
      ]
     },
     "execution_count": 125,
     "metadata": {},
     "output_type": "execute_result"
    }
   ],
   "source": [
    "la   # originale"
   ]
  },
  {
   "cell_type": "code",
   "execution_count": 126,
   "metadata": {},
   "outputs": [
    {
     "data": {
      "text/plain": [
       "[7, 6, 8, 7, 6, 8, 7, 6, 8]"
      ]
     },
     "execution_count": 126,
     "metadata": {},
     "output_type": "execute_result"
    }
   ],
   "source": [
    "lb   # risultato dell'espressione"
   ]
  },
  {
   "cell_type": "markdown",
   "metadata": {},
   "source": [
    "Possiamo moltiplicare una lista di stringhe:"
   ]
  },
  {
   "cell_type": "code",
   "execution_count": 127,
   "metadata": {},
   "outputs": [],
   "source": [
    "la = [\"un\", \"mondo\", \"di\", \"parole\"]"
   ]
  },
  {
   "cell_type": "code",
   "execution_count": 128,
   "metadata": {},
   "outputs": [],
   "source": [
    "lb = la * 2"
   ]
  },
  {
   "cell_type": "code",
   "execution_count": 129,
   "metadata": {},
   "outputs": [
    {
     "name": "stdout",
     "output_type": "stream",
     "text": [
      "['un', 'mondo', 'di', 'parole']\n"
     ]
    }
   ],
   "source": [
    "print(la)"
   ]
  },
  {
   "cell_type": "code",
   "execution_count": 130,
   "metadata": {},
   "outputs": [
    {
     "name": "stdout",
     "output_type": "stream",
     "text": [
      "['un', 'mondo', 'di', 'parole', 'un', 'mondo', 'di', 'parole']\n"
     ]
    }
   ],
   "source": [
    "print(lb)"
   ]
  },
  {
   "cell_type": "markdown",
   "metadata": {},
   "source": [
    "Finchè moltiplichiamo liste che contengono elementi immutabili come numeri o stringhe, non si presentano particolari problemi:"
   ]
  },
  {
   "cell_type": "code",
   "execution_count": 131,
   "metadata": {},
   "outputs": [
    {
     "data": {
      "text/html": [
       "        \n",
       "        <script src=\"../_static/js/pytutor-embed.bundle.min.js\" type=\"application/javascript\"></script>\n",
       "    \n",
       "        <style>\n",
       "        @import \"../_static/css/jupman.css\";\n",
       "        </style>\n",
       "     \n",
       "        <script id=\"json-jm-9c30c0e9d7c917ae9edeb1746712874a-133\" type=\"application/json\" >\n",
       "            {\"code\": \" \\nla = [\\\"un\\\", \\\"mondo\\\", \\\"di\\\", \\\"parole\\\"]\\nlb = la * 2\", \"trace\": [{\"line\": 2, \"event\": \"step_line\", \"func_name\": \"<module>\", \"globals\": {}, \"ordered_globals\": [], \"stack_to_render\": [], \"heap\": {}, \"stdout\": \"\"}, {\"line\": 3, \"event\": \"step_line\", \"func_name\": \"<module>\", \"globals\": {\"la\": [\"REF\", 1]}, \"ordered_globals\": [\"la\"], \"stack_to_render\": [], \"heap\": {\"1\": [\"LIST\", \"un\", \"mondo\", \"di\", \"parole\"]}, \"stdout\": \"\"}, {\"line\": 3, \"event\": \"return\", \"func_name\": \"<module>\", \"globals\": {\"la\": [\"REF\", 1], \"lb\": [\"REF\", 2]}, \"ordered_globals\": [\"la\", \"lb\"], \"stack_to_render\": [], \"heap\": {\"1\": [\"LIST\", \"un\", \"mondo\", \"di\", \"parole\"], \"2\": [\"LIST\", \"un\", \"mondo\", \"di\", \"parole\", \"un\", \"mondo\", \"di\", \"parole\"]}, \"stdout\": \"\"}]}\n",
       "        </script>\n",
       "        <div id=\"jm-9c30c0e9d7c917ae9edeb1746712874a-133\" class=\"pytutorVisualizer\"> </div>\n",
       "                        \n",
       "        <script>\n",
       "        \n",
       "        (function(){\n",
       "            console.log(\"jupman.py embedded javascript: adding Python tutor visualizer...\")\n",
       "            \n",
       "            var trace = JSON.parse(document.getElementById('json-jm-9c30c0e9d7c917ae9edeb1746712874a-133').innerHTML);                                        \n",
       "            // NOTE: id without #\n",
       "                    \n",
       "            addVisualizerToPage(trace, 'jm-9c30c0e9d7c917ae9edeb1746712874a-133',{'embeddedMode' : false,\n",
       "                                             'disableHeapNesting': true,\n",
       "                                             'visualizerIdOverride':'viz-jm-9c30c0e9d7c917ae9edeb1746712874a-133'})  \n",
       "            \n",
       "            \n",
       "            // set overflow for pytuts - need to do in python as css \n",
       "            // does not allow parent selection\n",
       "            var pytuts = $('.pytutorVisualizer')\n",
       "            pytuts.closest('div.output_html.rendered_html.output_result')\n",
       "                    .css('overflow-x', 'visible')\n",
       "        \n",
       "            //pytuts.closest('div.output_html.rendered_html.output_result')\n",
       "            //      .css('background-color','red')                \n",
       "            \n",
       "        })()\n",
       "        </script>\n",
       "                \n",
       "    \n",
       "    <div style=\"text-align:center; font-size:0.9em\"> <a href=\"https://pythontutor.com/visualize.html#mode=edit\" target=\"_blank\">Python Tutor</a> visualization</div> \n",
       "    "
      ],
      "text/plain": [
       "<IPython.core.display.HTML object>"
      ]
     },
     "execution_count": 131,
     "metadata": {},
     "output_type": "execute_result"
    }
   ],
   "source": [
    "la = [\"un\", \"mondo\", \"di\", \"parole\"]\n",
    "lb = la * 2\n",
    "\n",
    "jupman.pytut()"
   ]
  },
  {
   "cell_type": "markdown",
   "metadata": {},
   "source": [
    "La questione diventa molto più complicata quando moltiplichiamo liste che contengono oggetti mutabili come altre liste. Vediamo un esempio:"
   ]
  },
  {
   "cell_type": "code",
   "execution_count": 132,
   "metadata": {},
   "outputs": [],
   "source": [
    "la = [5,6]\n",
    "lb = [7,8,9]\n",
    "lc = [la,lb] * 2"
   ]
  },
  {
   "cell_type": "code",
   "execution_count": 133,
   "metadata": {},
   "outputs": [
    {
     "name": "stdout",
     "output_type": "stream",
     "text": [
      "[5, 6]\n"
     ]
    }
   ],
   "source": [
    "print(la)"
   ]
  },
  {
   "cell_type": "code",
   "execution_count": 134,
   "metadata": {},
   "outputs": [
    {
     "name": "stdout",
     "output_type": "stream",
     "text": [
      "[7, 8, 9]\n"
     ]
    }
   ],
   "source": [
    "print(lb)"
   ]
  },
  {
   "cell_type": "code",
   "execution_count": 135,
   "metadata": {},
   "outputs": [
    {
     "name": "stdout",
     "output_type": "stream",
     "text": [
      "[[5, 6], [7, 8, 9], [5, 6], [7, 8, 9]]\n"
     ]
    }
   ],
   "source": [
    "print(lc)"
   ]
  },
  {
   "cell_type": "markdown",
   "metadata": {},
   "source": [
    "Stampando, vediamo che le liste `la` e `lb` si ripresentano all'interno di `lc` - ma esattamente, come? Le `print` possono ingannare sull'effettivo stato della memoria - per indagare meglio conviene usare Python Tutor:"
   ]
  },
  {
   "cell_type": "code",
   "execution_count": 136,
   "metadata": {},
   "outputs": [
    {
     "data": {
      "text/html": [
       "        \n",
       "        <script src=\"../_static/js/pytutor-embed.bundle.min.js\" type=\"application/javascript\"></script>\n",
       "    \n",
       "        <style>\n",
       "        @import \"../_static/css/jupman.css\";\n",
       "        </style>\n",
       "     \n",
       "        <script id=\"json-jm-0a3bba514a0d754a17fbff22c4e330b6-138\" type=\"application/json\" >\n",
       "            {\"code\": \" \\nla = [5,6]\\nlb = [7,8,9]\\nlc = [la,lb] * 2\", \"trace\": [{\"line\": 2, \"event\": \"step_line\", \"func_name\": \"<module>\", \"globals\": {}, \"ordered_globals\": [], \"stack_to_render\": [], \"heap\": {}, \"stdout\": \"\"}, {\"line\": 3, \"event\": \"step_line\", \"func_name\": \"<module>\", \"globals\": {\"la\": [\"REF\", 1]}, \"ordered_globals\": [\"la\"], \"stack_to_render\": [], \"heap\": {\"1\": [\"LIST\", 5, 6]}, \"stdout\": \"\"}, {\"line\": 4, \"event\": \"step_line\", \"func_name\": \"<module>\", \"globals\": {\"la\": [\"REF\", 1], \"lb\": [\"REF\", 2]}, \"ordered_globals\": [\"la\", \"lb\"], \"stack_to_render\": [], \"heap\": {\"1\": [\"LIST\", 5, 6], \"2\": [\"LIST\", 7, 8, 9]}, \"stdout\": \"\"}, {\"line\": 4, \"event\": \"return\", \"func_name\": \"<module>\", \"globals\": {\"la\": [\"REF\", 1], \"lb\": [\"REF\", 2], \"lc\": [\"REF\", 3]}, \"ordered_globals\": [\"la\", \"lb\", \"lc\"], \"stack_to_render\": [], \"heap\": {\"1\": [\"LIST\", 5, 6], \"2\": [\"LIST\", 7, 8, 9], \"3\": [\"LIST\", [\"REF\", 1], [\"REF\", 2], [\"REF\", 1], [\"REF\", 2]]}, \"stdout\": \"\"}]}\n",
       "        </script>\n",
       "        <div id=\"jm-0a3bba514a0d754a17fbff22c4e330b6-138\" class=\"pytutorVisualizer\"> </div>\n",
       "                        \n",
       "        <script>\n",
       "        \n",
       "        (function(){\n",
       "            console.log(\"jupman.py embedded javascript: adding Python tutor visualizer...\")\n",
       "            \n",
       "            var trace = JSON.parse(document.getElementById('json-jm-0a3bba514a0d754a17fbff22c4e330b6-138').innerHTML);                                        \n",
       "            // NOTE: id without #\n",
       "                    \n",
       "            addVisualizerToPage(trace, 'jm-0a3bba514a0d754a17fbff22c4e330b6-138',{'embeddedMode' : false,\n",
       "                                             'disableHeapNesting': true,\n",
       "                                             'visualizerIdOverride':'viz-jm-0a3bba514a0d754a17fbff22c4e330b6-138'})  \n",
       "            \n",
       "            \n",
       "            // set overflow for pytuts - need to do in python as css \n",
       "            // does not allow parent selection\n",
       "            var pytuts = $('.pytutorVisualizer')\n",
       "            pytuts.closest('div.output_html.rendered_html.output_result')\n",
       "                    .css('overflow-x', 'visible')\n",
       "        \n",
       "            //pytuts.closest('div.output_html.rendered_html.output_result')\n",
       "            //      .css('background-color','red')                \n",
       "            \n",
       "        })()\n",
       "        </script>\n",
       "                \n",
       "    \n",
       "    <div style=\"text-align:center; font-size:0.9em\"> <a href=\"https://pythontutor.com/visualize.html#mode=edit\" target=\"_blank\">Python Tutor</a> visualization</div> \n",
       "    "
      ],
      "text/plain": [
       "<IPython.core.display.HTML object>"
      ]
     },
     "execution_count": 136,
     "metadata": {},
     "output_type": "execute_result"
    }
   ],
   "source": [
    "la = [5,6]\n",
    "lb = [7,8,9]\n",
    "lc = [la,lb] * 2\n",
    "\n",
    "jupman.pytut()"
   ]
  },
  {
   "cell_type": "markdown",
   "metadata": {},
   "source": [
    "Arggh ! Vedrai apparire una giungla di frecce ! Questo perchè quando scriviamo `[la, lb]` creiamo una lista con due  _riferimenti_ alle liste `[5,6]` e `[7,8,9]`, e l'operatore `*` mentre duplica copia _i riferimenti_. \n",
    "\n",
    "Per il momento ci fermiamo qui, vedremo meglio le implicazioni in seguito nel tutorial [matrici - liste di liste](https://it.softpython.org/matrices-lists/matrices-lists1-sol.html)."
   ]
  },
  {
   "cell_type": "markdown",
   "metadata": {},
   "source": [
    "## Uguaglianza\n",
    "\n",
    "Possiamo verificare se due liste sono uguali con l'operatore di uguaglianza `==`, che date due liste ritorna `True` se contengono elementi uguali oppure `False` altrimenti."
   ]
  },
  {
   "cell_type": "code",
   "execution_count": 137,
   "metadata": {},
   "outputs": [
    {
     "data": {
      "text/plain": [
       "True"
      ]
     },
     "execution_count": 137,
     "metadata": {},
     "output_type": "execute_result"
    }
   ],
   "source": [
    "[4,3,6] == [4,3,6]"
   ]
  },
  {
   "cell_type": "code",
   "execution_count": 138,
   "metadata": {},
   "outputs": [
    {
     "data": {
      "text/plain": [
       "False"
      ]
     },
     "execution_count": 138,
     "metadata": {},
     "output_type": "execute_result"
    }
   ],
   "source": [
    "[4,3,6] == [4,3]"
   ]
  },
  {
   "cell_type": "code",
   "execution_count": 139,
   "metadata": {},
   "outputs": [
    {
     "data": {
      "text/plain": [
       "False"
      ]
     },
     "execution_count": 139,
     "metadata": {},
     "output_type": "execute_result"
    }
   ],
   "source": [
    "[4,3,6] == [4,3,6, 'ciao']"
   ]
  },
  {
   "cell_type": "code",
   "execution_count": 140,
   "metadata": {},
   "outputs": [
    {
     "data": {
      "text/plain": [
       "False"
      ]
     },
     "execution_count": 140,
     "metadata": {},
     "output_type": "execute_result"
    }
   ],
   "source": [
    "[4,3,6] == [2,2,8]"
   ]
  },
  {
   "cell_type": "markdown",
   "metadata": {},
   "source": [
    "Possiamo verificare l'uguaglianza di liste con elementi eterogenei:"
   ]
  },
  {
   "cell_type": "code",
   "execution_count": 141,
   "metadata": {},
   "outputs": [
    {
     "data": {
      "text/plain": [
       "True"
      ]
     },
     "execution_count": 141,
     "metadata": {},
     "output_type": "execute_result"
    }
   ],
   "source": [
    "['mele', 3, ['ciliegie', 2], 6] == ['mele', 3, ['ciliegie', 2], 6]"
   ]
  },
  {
   "cell_type": "code",
   "execution_count": 142,
   "metadata": {},
   "outputs": [
    {
     "data": {
      "text/plain": [
       "False"
      ]
     },
     "execution_count": 142,
     "metadata": {},
     "output_type": "execute_result"
    }
   ],
   "source": [
    "['banane', 3,['ciliegie', 2], 6] == ['mele', 3, ['ciliegie', 2], 6]"
   ]
  },
  {
   "cell_type": "markdown",
   "metadata": {},
   "source": [
    "Per verificare la disuguaglianza, possiamo usare l'operatore `!=`:"
   ]
  },
  {
   "cell_type": "code",
   "execution_count": 143,
   "metadata": {},
   "outputs": [
    {
     "data": {
      "text/plain": [
       "False"
      ]
     },
     "execution_count": 143,
     "metadata": {},
     "output_type": "execute_result"
    }
   ],
   "source": [
    "[2,2,8] != [2,2,8]"
   ]
  },
  {
   "cell_type": "code",
   "execution_count": 144,
   "metadata": {},
   "outputs": [
    {
     "data": {
      "text/plain": [
       "True"
      ]
     },
     "execution_count": 144,
     "metadata": {},
     "output_type": "execute_result"
    }
   ],
   "source": [
    "[4,6,0] != [2,2,8]"
   ]
  },
  {
   "cell_type": "code",
   "execution_count": 145,
   "metadata": {
    "scrolled": true
   },
   "outputs": [
    {
     "data": {
      "text/plain": [
       "True"
      ]
     },
     "execution_count": 145,
     "metadata": {},
     "output_type": "execute_result"
    }
   ],
   "source": [
    "[4,6,0] != [4,6,0,2]"
   ]
  },
  {
   "cell_type": "markdown",
   "metadata": {},
   "source": [
    "**DOMANDA**: Per ciascuna delle seguenti espressioni, indovinare se è `True`, `False` o produce un errore\n",
    "\n",
    "    \n",
    "1.  ```python\n",
    "    [2,3,1] != [2,3,1]\n",
    "    ```\n",
    "1.  ```python    \n",
    "    [4,8,12] == [2*2,4*2,6*2]\n",
    "    ```\n",
    "1.  ```python    \n",
    "    [7,8][:] == [7,9-1]\n",
    "    ```\n",
    "1.  ```python    \n",
    "    [7][0] == [[7]][0]\n",
    "    ```\n",
    "1.  ```python    \n",
    "    [9] == [9][0]\n",
    "    ```\n",
    "1.  ```python    \n",
    "    [max(7,9)] == [max([7]),max([9])]\n",
    "    ```\n",
    "1.  ```python    \n",
    "    ['a','b','c'] == ['A','B','C']\n",
    "    ```\n",
    "1.  ```python    \n",
    "    ['a','b'] != ['a','b','c']\n",
    "    ```\n",
    "1.  ```python    \n",
    "    [\"ciao\"] != [\"CIAO\".lower()]\n",
    "    ```\n",
    "1.  ```python    \n",
    "    [True in [True]] != [False]\n",
    "    ```    \n",
    "1.  ```python    \n",
    "    [][:] == []\n",
    "    ```\n",
    "1.  ```python    \n",
    "    [[]] == [] + []\n",
    "    ```\n",
    "1.  ```python    \n",
    "    [[],[]] == [] + []\n",
    "    ```\n",
    "1.  ```python    \n",
    "    [[[]]] == [[[]+[]]]\n",
    "    ```"
   ]
  },
  {
   "cell_type": "markdown",
   "metadata": {},
   "source": [
    "## Prosegui\n",
    "\n",
    "Trovi ulteriori esercizi nel foglio [Liste 3 - Metodi base](https://it.softpython.org/lists/lists3-sol.html)"
   ]
  }
 ],
 "metadata": {
  "celltoolbar": "Edit Metadata",
  "kernelspec": {
   "display_name": "Python 3 (ipykernel)",
   "language": "python",
   "name": "python3"
  },
  "language_info": {
   "codemirror_mode": {
    "name": "ipython",
    "version": 3
   },
   "file_extension": ".py",
   "mimetype": "text/x-python",
   "name": "python",
   "nbconvert_exporter": "python",
   "pygments_lexer": "ipython3",
   "version": "3.7.17"
  },
  "toc": {
   "base_numbering": 1,
   "nav_menu": {},
   "number_sections": false,
   "sideBar": true,
   "skip_h1_title": false,
   "title_cell": "Table of Contents",
   "title_sidebar": "Contents",
   "toc_cell": false,
   "toc_position": {},
   "toc_section_display": true,
   "toc_window_display": true
  }
 },
 "nbformat": 4,
 "nbformat_minor": 2
}

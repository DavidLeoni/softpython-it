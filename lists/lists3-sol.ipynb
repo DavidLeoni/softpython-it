{
 "cells": [
  {
   "cell_type": "code",
   "execution_count": 1,
   "metadata": {
    "nbsphinx": "hidden"
   },
   "outputs": [],
   "source": [
    "# Ricordati di eseguire questa cella con Shift+Invio\n",
    "\n",
    "import jupman"
   ]
  },
  {
   "cell_type": "markdown",
   "metadata": {},
   "source": [
    "# Liste 3 - Metodi\n",
    "\n",
    "\n",
    "## [Scarica zip esercizi](../_static/generated/lists.zip)\n",
    "\n",
    "[Naviga file online](https://github.com/DavidLeoni/softpython-it/tree/master/lists)"
   ]
  },
  {
   "cell_type": "markdown",
   "metadata": {},
   "source": [
    "Le liste sono oggetti di tipo `list` e possiedono dei metodi che permettono di operare su di essi:\n",
    "\n",
    "\n",
    "|Metodo|Ritorna|Descrizione|\n",
    "|-------|------|-----------|\n",
    "|[list.append(obj)](#Metodo-append)|`None`|Aggiunge un nuovo elemento alla fine della lista|\n",
    "|[list.extend(list)](#Metodo-extend)|`None`|Aggiunge diversi nuovi elementi alla fine della lista|\n",
    "|[list.insert(int,obj)](#Metodo-insert)|`None`|Aggiunge un nuovo elemento a qualche posizione data|\n",
    "|[list.pop()](#Metodo-pop)|obj|Rimuove e ritorna l'elemento all'ultima posizione|\n",
    "|[list.pop(int)](#Metodo-pop)|obj|Dato un indice, rimuove e ritorna l'elemento a quella posizione|\n",
    "|[list.reverse()](#Metodo-reverse)|`None`|Inverte l'ordine degli elementi|\n",
    "|[list.sort()](#Metodo-sort)|`None`|Ordina gli elementi|\n",
    "|[string_sep.join(seq)](#Metodo-join---da-liste-a-stringhe)|`string`|produce una stringa concatenando tutti gli elementi in seq separati da string_sep| "
   ]
  },
  {
   "cell_type": "markdown",
   "metadata": {},
   "source": [
    "<div class=\"alert alert-warning\">\n",
    "\n",
    "**ATTENZIONE: I METODI DELLE LISTE _MODIFICANO_ LA LISTA SU CUI VENGONO CHIAMATI !**\n",
    "\n",
    "Quando chiami un metodo di una lista (l'oggetto a sinistra del punto `.`), MODIFICHI la lista stessa (diversamente dai metodi sulle stringhe che generano sempre una nuova stringa senza cambiare l'originale)\n",
    "\n",
    "</div>\n",
    "\n",
    "\n",
    "<div class=\"alert alert-warning\">\n",
    "\n",
    "**ATTENZIONE: I METODI DELLE LISTE _NON_ RITORNANO NULLA!**\n",
    "\n",
    "Quasi sempre ritornano l'oggetto `None` (diversamente da quelli delle stringhe che ritornano sempre una nuova stringa)\n",
    "\n",
    "</div>\n"
   ]
  },
  {
   "cell_type": "markdown",
   "metadata": {},
   "source": [
    "### Metodi di ricerca\n",
    "\n",
    "Le liste mettono a disposizione diversi metodi per effettuare ricerche e trasformazioni al loro interno, ma attenzione: il potere è nulla senza il controllo! Spesso ti troverai con l'esigenza di usarli, e potrebbero anche funzionare con qualche piccolo esempio, ma molto spesso nascondono tranelli che poi si rimpiangono amaramente. Quindi quando scrivi codice con uno di questi metodi, **poniti sempre le domande che evidenzieremo!**\n",
    "   "
   ]
  },
  {
   "cell_type": "markdown",
   "metadata": {},
   "source": [
    "|Metodo|Ritorna|Descrizione|\n",
    "|-------|------|-----------|\n",
    "|[str1.split(str2)](#Metodo-split---da-stringhe-a-liste)|`list`|Produce una lista con tutte le parole in str1 separate da str2| \n",
    "|[list.count(obj)](#Metodo-count)|`int`|Conta le occorrenze di un elemento|\n",
    "|[list.index(obj)](#Metodo-index)|`int`|Trova la prima occorrenza di un elemento e ne ritorna la posizione|\n",
    "|[list.remove(obj)](#Metodo-remove)|`None`|Rimuove la prima occorrenza di un elemento|"
   ]
  },
  {
   "cell_type": "markdown",
   "metadata": {},
   "source": [
    "## Che fare\n",
    "\n",
    "- scompatta lo zip in una cartella, dovresti ottenere qualcosa del genere: \n",
    "\n",
    "```\n",
    "\n",
    "lists\n",
    "    lists1.ipynb\n",
    "    lists1-sol.ipynb         \n",
    "    lists2.ipynb\n",
    "    lists2-sol.ipynb         \n",
    "    lists3.ipynb\n",
    "    lists3-sol.ipynb         \n",
    "    lists4.ipynb\n",
    "    lists4-sol.ipynb         \n",
    "    jupman.py         \n",
    "```\n",
    "\n",
    "<div class=\"alert alert-warning\">\n",
    "\n",
    "**ATTENZIONE**: Per essere visualizzato correttamente, il file del notebook DEVE essere nella cartella szippata.\n",
    "</div>\n",
    "\n",
    "- apri il Jupyter Notebook da quella cartella. Due cose dovrebbero aprirsi, prima una console e poi un browser. Il browser dovrebbe mostrare una lista di file: naviga la lista e apri il notebook `lists3.ipynb`\n",
    "- Prosegui leggendo il file degli esercizi, ogni tanto al suo interno troverai delle scritte **ESERCIZIO**, che ti chiederanno di scrivere dei comandi Python nelle celle successive. Gli esercizi sono graduati per difficoltà, da una stellina ✪ a quattro ✪✪✪✪\n",
    "\n",
    "\n",
    "Scorciatoie da tastiera:\n",
    "\n",
    "* Per eseguire il codice Python dentro una cella di Jupyter, premi `Control+Invio`\n",
    "* Per eseguire il codice Python dentro una cella di Jupyter E selezionare la cella seguente, premi `Shift+Invio`\n",
    "* Per eseguire il codice Python dentro una cella di Jupyter E creare una nuova cella subito dopo, premi `Alt+Invio`\n",
    "* Se per caso il Notebook sembra inchiodato, prova a selezionare `Kernel -> Restart`"
   ]
  },
  {
   "cell_type": "markdown",
   "metadata": {},
   "source": [
    "## Metodo append\n",
    "\n",
    "Possiamo MODIFICARE una lista aggiungendo un elemento alla volta usando il metodo `append`.\n",
    "\n",
    "Supponiamo di partire da una lista vuota:"
   ]
  },
  {
   "cell_type": "code",
   "execution_count": 2,
   "metadata": {},
   "outputs": [],
   "source": [
    "la = []"
   ]
  },
  {
   "cell_type": "markdown",
   "metadata": {},
   "source": [
    "Se vogliamo aggiungere come elemento il numero `57`, possiamo scrivere così:"
   ]
  },
  {
   "cell_type": "code",
   "execution_count": 3,
   "metadata": {},
   "outputs": [],
   "source": [
    "la.append(57)"
   ]
  },
  {
   "cell_type": "markdown",
   "metadata": {},
   "source": [
    "Notiamo che la lista che abbiamo creato inizialmente risulta MODIFICATA:"
   ]
  },
  {
   "cell_type": "code",
   "execution_count": 4,
   "metadata": {},
   "outputs": [
    {
     "data": {
      "text/plain": [
       "[57]"
      ]
     },
     "execution_count": 4,
     "metadata": {},
     "output_type": "execute_result"
    }
   ],
   "source": [
    "la"
   ]
  },
  {
   "cell_type": "markdown",
   "metadata": {},
   "source": [
    "<div class=\"alert alert-warning\">\n",
    "\n",
    "**ATTENZIONE:** `la.append(57)` **non ha restituito NULLA !!!!**\n",
    "    \n",
    "Guarda bene l'output della cella con l'istruzione `la.append(57)`, noterai che non c'è proprio niente. Questo perchè lo scopo di `append` è MODIFICARE la lista su cui viene chiamato, NON generare nuove liste. \n",
    "</div>"
   ]
  },
  {
   "cell_type": "markdown",
   "metadata": {},
   "source": [
    "Aggiungiamo un'altro numero _alla fine_ della lista: "
   ]
  },
  {
   "cell_type": "code",
   "execution_count": 5,
   "metadata": {},
   "outputs": [],
   "source": [
    "la.append(96)"
   ]
  },
  {
   "cell_type": "code",
   "execution_count": 6,
   "metadata": {},
   "outputs": [
    {
     "data": {
      "text/plain": [
       "[57, 96]"
      ]
     },
     "execution_count": 6,
     "metadata": {},
     "output_type": "execute_result"
    }
   ],
   "source": [
    "la"
   ]
  },
  {
   "cell_type": "code",
   "execution_count": 7,
   "metadata": {},
   "outputs": [],
   "source": [
    "la.append(74)"
   ]
  },
  {
   "cell_type": "code",
   "execution_count": 8,
   "metadata": {},
   "outputs": [
    {
     "data": {
      "text/plain": [
       "[57, 96, 74]"
      ]
     },
     "execution_count": 8,
     "metadata": {},
     "output_type": "execute_result"
    }
   ],
   "source": [
    "la"
   ]
  },
  {
   "cell_type": "markdown",
   "metadata": {},
   "source": [
    "Riguardiamoci cosa è successo in Python Tutor:"
   ]
  },
  {
   "cell_type": "code",
   "execution_count": 9,
   "metadata": {},
   "outputs": [],
   "source": [
    "# AFFINCHE' PYTHON TUTOR FUNZIONI, RICORDATI DI ESEGUIRE QUESTA CELLA con Shift+Invio\n",
    "#   (basta eseguirla una volta sola, la trovi anche all'inizio di ogni foglio)\n",
    "\n",
    "import jupman"
   ]
  },
  {
   "cell_type": "code",
   "execution_count": 10,
   "metadata": {},
   "outputs": [
    {
     "data": {
      "text/html": [
       "\n",
       "        <script src=\"../_static/js/pytutor-embed.bundle.min.js\" type=\"application/javascript\"></script>\n",
       "     \n",
       "        <script id=\"json-jm0d01bc01-c7f6-48d3-bd83-7045cc2bf038\" type=\"application/json\" >\n",
       "            {\"code\": \" \\nla = []\\nla.append(57)\\nla.append(96)\\nla.append(74)\", \"trace\": [{\"line\": 2, \"event\": \"step_line\", \"func_name\": \"<module>\", \"globals\": {}, \"ordered_globals\": [], \"stack_to_render\": [], \"heap\": {}, \"stdout\": \"\"}, {\"line\": 3, \"event\": \"step_line\", \"func_name\": \"<module>\", \"globals\": {\"la\": [\"REF\", 1]}, \"ordered_globals\": [\"la\"], \"stack_to_render\": [], \"heap\": {\"1\": [\"LIST\"]}, \"stdout\": \"\"}, {\"line\": 4, \"event\": \"step_line\", \"func_name\": \"<module>\", \"globals\": {\"la\": [\"REF\", 1]}, \"ordered_globals\": [\"la\"], \"stack_to_render\": [], \"heap\": {\"1\": [\"LIST\", 57]}, \"stdout\": \"\"}, {\"line\": 5, \"event\": \"step_line\", \"func_name\": \"<module>\", \"globals\": {\"la\": [\"REF\", 1]}, \"ordered_globals\": [\"la\"], \"stack_to_render\": [], \"heap\": {\"1\": [\"LIST\", 57, 96]}, \"stdout\": \"\"}, {\"line\": 5, \"event\": \"return\", \"func_name\": \"<module>\", \"globals\": {\"la\": [\"REF\", 1]}, \"ordered_globals\": [\"la\"], \"stack_to_render\": [], \"heap\": {\"1\": [\"LIST\", 57, 96, 74]}, \"stdout\": \"\"}]}\n",
       "        </script>\n",
       "        <div id=\"jm0d01bc01-c7f6-48d3-bd83-7045cc2bf038\" class=\"pytutorVisualizer\"> </div>\n",
       " \n",
       "        <style>\n",
       "        .vizLayoutTd {\n",
       "            background-color: #fff !important;\n",
       "        }\n",
       "\n",
       "        #pyStdout {            \n",
       "            min-height:25px;\n",
       "        }\n",
       "\n",
       "        /* 'Edit this code' link, hiding because replaces browser tab !!!*/\n",
       "        #editCodeLinkDiv {\n",
       "            display:none;  \n",
       "        }\n",
       "        </style>   \n",
       "                            \n",
       "        <script>\n",
       "        (function(){\n",
       "\n",
       "            var trace = JSON.parse(document.getElementById('json-jm0d01bc01-c7f6-48d3-bd83-7045cc2bf038').innerHTML);                                        \n",
       "            // NOTE 1: id without #\n",
       "            // NOTE 2 - maybe there are more predictable ways, but this will work anyway\n",
       "            //        - id should be number\n",
       "            visualizerIdOverride = Math.trunc(Math.random() * 100000000000)\n",
       "            addVisualizerToPage(trace, 'jm0d01bc01-c7f6-48d3-bd83-7045cc2bf038',{'embeddedMode' : false,\n",
       "                                             'visualizerIdOverride':visualizerIdOverride})  \n",
       "            \n",
       "            \n",
       "            // set overflow for pytuts - need to do in python as css \n",
       "            // does not allow parent selection\n",
       "            var pytuts = $('.pytutorVisualizer')\n",
       "            pytuts.closest('div.output_html.rendered_html.output_result')\n",
       "                    .css('overflow-x', 'visible')\n",
       "        \n",
       "            //pytuts.closest('div.output_html.rendered_html.output_result')\n",
       "            //      .css('background-color','red')                \n",
       "            \n",
       "        })()\n",
       "        </script>\n",
       "                \n",
       "                "
      ],
      "text/plain": [
       "<IPython.core.display.HTML object>"
      ]
     },
     "execution_count": 10,
     "metadata": {},
     "output_type": "execute_result"
    }
   ],
   "source": [
    "la = []\n",
    "la.append(57)\n",
    "la.append(96)\n",
    "la.append(74)\n",
    "\n",
    "jupman.pytut()"
   ]
  },
  {
   "cell_type": "markdown",
   "metadata": {},
   "source": [
    "Nota come ad espandersi sia sempre la stessa zona di memoria gialla associata alla variabile `la`."
   ]
  },
  {
   "cell_type": "markdown",
   "metadata": {},
   "source": [
    "Abbiamo detto che il metodo `append` non ritorna nulla, cerchiamo di specificare meglio. Nella tabella dei metodi, è presente una colonna chiamata _Ritorna_. Se vai a vedere, per quasi tutti i metodi incluso `append` è indicato che viene ritornato `None`. \n",
    "\n",
    "`None` è l'oggetto più noioso di Python, perchè letteralmente significa niente. Cosa si può fare con niente? Ben poco, così poco che Jupyter quando si ritrova come risultato un oggetto `None` non lo stampa nemmeno. Proviamo a inserire direttamente `None` in una cella, vedrai che non verrà riportato nell'output della cella:"
   ]
  },
  {
   "cell_type": "code",
   "execution_count": 11,
   "metadata": {},
   "outputs": [],
   "source": [
    "None"
   ]
  },
  {
   "cell_type": "markdown",
   "metadata": {},
   "source": [
    "Un modo per forzare la stampa è usare il comando `print`:"
   ]
  },
  {
   "cell_type": "code",
   "execution_count": 12,
   "metadata": {},
   "outputs": [
    {
     "name": "stdout",
     "output_type": "stream",
     "text": [
      "None\n"
     ]
    }
   ],
   "source": [
    "print(None)"
   ]
  },
  {
   "cell_type": "markdown",
   "metadata": {},
   "source": [
    "**ESERCIZIO**: Qual'è il tipo dell'oggetto `None`?  Scoprilo usando la funzione `type`"
   ]
  },
  {
   "cell_type": "raw",
   "id": "4ad0455e",
   "metadata": {
    "format": "text/html"
   },
   "source": [
    "<a  class=\"jupman-sol jupman-sol-toggler\" \n",
    " onclick=\"jupman.toggleSolution(this);\" \n",
    " data-jupman-show=\"Mostra soluzione\" data-jupman-hide=\"Nascondi\">Mostra soluzione</a><div class=\"jupman-sol jupman-sol-code\" style=\"display:none\">  "
   ]
  },
  {
   "cell_type": "code",
   "execution_count": 13,
   "metadata": {},
   "outputs": [],
   "source": [
    "# scrivi qui\n",
    "\n",
    "#type(None)"
   ]
  },
  {
   "cell_type": "raw",
   "id": "4e85c303",
   "metadata": {
    "format": "text/html"
   },
   "source": [
    "</div>"
   ]
  },
  {
   "cell_type": "code",
   "execution_count": 13,
   "metadata": {},
   "outputs": [],
   "source": [
    "# scrivi qui\n",
    "\n"
   ]
  },
  {
   "cell_type": "markdown",
   "metadata": {},
   "source": [
    "Proviamo a ripetere cosa succede con `append`. Se chiami il metodo `append` su una lista, `append` MODIFICA silenziosamente la lista, e RITORNA come risultato di essere stato chiamato l'oggetto `None`. Dato che Jupyter ritiene questo oggetto non interessante, non lo stampa nemmeno come risultato. \n",
    "\n",
    "Cerchiamo di esplicitare meglio questo misterioso `None`. Se è vero che `append` lo produce come risultato di essere chiamato, vuol dire che possiamo associare questo risultato a qualche variabile. Proviamo ad associarlo alla variabile `x`:"
   ]
  },
  {
   "cell_type": "code",
   "execution_count": 14,
   "metadata": {},
   "outputs": [],
   "source": [
    "la = []\n",
    "x = la.append(78)"
   ]
  },
  {
   "cell_type": "markdown",
   "metadata": {},
   "source": [
    "Ora, se tutto è andato come abbiamo scritto, `append` dovrebbe aver modificato la lista:"
   ]
  },
  {
   "cell_type": "code",
   "execution_count": 15,
   "metadata": {},
   "outputs": [
    {
     "data": {
      "text/plain": [
       "[78]"
      ]
     },
     "execution_count": 15,
     "metadata": {},
     "output_type": "execute_result"
    }
   ],
   "source": [
    "la"
   ]
  },
  {
   "cell_type": "markdown",
   "metadata": {},
   "source": [
    "e alla variabile `x` dovrebbe essere associato `None`. Quindi, se chiediamo a Jupyter di mostrare il valore associato ad `x` e se quel valore è `None`, non dovremmo vedere nulla:"
   ]
  },
  {
   "cell_type": "code",
   "execution_count": 16,
   "metadata": {},
   "outputs": [],
   "source": [
    "x"
   ]
  },
  {
   "cell_type": "markdown",
   "metadata": {},
   "source": [
    "notiamo che non c'è nessun output nella cella, pare che siamo davvero in presenza di `None`. Forziamo la stampa con il comando `print`:"
   ]
  },
  {
   "cell_type": "code",
   "execution_count": 17,
   "metadata": {},
   "outputs": [
    {
     "name": "stdout",
     "output_type": "stream",
     "text": [
      "None\n"
     ]
    }
   ],
   "source": [
    "print(x)"
   ]
  },
  {
   "cell_type": "markdown",
   "metadata": {},
   "source": [
    "Eccolo ! Probabilmente sarai un po' confuso da tutto ciò, quindi proviamo a rivedere bene che succede in Python Tutor: "
   ]
  },
  {
   "cell_type": "code",
   "execution_count": 18,
   "metadata": {},
   "outputs": [
    {
     "name": "stdout",
     "output_type": "stream",
     "text": [
      "la è [78]\n",
      "x è  None\n"
     ]
    },
    {
     "data": {
      "text/html": [
       "\n",
       "        <script src=\"../_static/js/pytutor-embed.bundle.min.js\" type=\"application/javascript\"></script>\n",
       "     \n",
       "        <script id=\"json-jmd6841a7a-0cc0-4328-96e9-4fbd40fce368\" type=\"application/json\" >\n",
       "            {\"code\": \" \\nla = []\\nx = la.append(78)\\nprint(\\\"la \\u00e8\\\", la)\\nprint(\\\"x \\u00e8 \\\", x)\", \"trace\": [{\"line\": 2, \"event\": \"step_line\", \"func_name\": \"<module>\", \"globals\": {}, \"ordered_globals\": [], \"stack_to_render\": [], \"heap\": {}, \"stdout\": \"\"}, {\"line\": 3, \"event\": \"step_line\", \"func_name\": \"<module>\", \"globals\": {\"la\": [\"REF\", 1]}, \"ordered_globals\": [\"la\"], \"stack_to_render\": [], \"heap\": {\"1\": [\"LIST\"]}, \"stdout\": \"\"}, {\"line\": 4, \"event\": \"step_line\", \"func_name\": \"<module>\", \"globals\": {\"la\": [\"REF\", 1], \"x\": null}, \"ordered_globals\": [\"la\", \"x\"], \"stack_to_render\": [], \"heap\": {\"1\": [\"LIST\", 78]}, \"stdout\": \"\"}, {\"line\": 5, \"event\": \"step_line\", \"func_name\": \"<module>\", \"globals\": {\"la\": [\"REF\", 1], \"x\": null}, \"ordered_globals\": [\"la\", \"x\"], \"stack_to_render\": [], \"heap\": {\"1\": [\"LIST\", 78]}, \"stdout\": \"la \\u00e8 [78]\\n\"}, {\"line\": 5, \"event\": \"return\", \"func_name\": \"<module>\", \"globals\": {\"la\": [\"REF\", 1], \"x\": null}, \"ordered_globals\": [\"la\", \"x\"], \"stack_to_render\": [], \"heap\": {\"1\": [\"LIST\", 78]}, \"stdout\": \"la \\u00e8 [78]\\nx \\u00e8  None\\n\"}]}\n",
       "        </script>\n",
       "        <div id=\"jmd6841a7a-0cc0-4328-96e9-4fbd40fce368\" class=\"pytutorVisualizer\"> </div>\n",
       " \n",
       "        <style>\n",
       "        .vizLayoutTd {\n",
       "            background-color: #fff !important;\n",
       "        }\n",
       "\n",
       "        #pyStdout {            \n",
       "            min-height:25px;\n",
       "        }\n",
       "\n",
       "        /* 'Edit this code' link, hiding because replaces browser tab !!!*/\n",
       "        #editCodeLinkDiv {\n",
       "            display:none;  \n",
       "        }\n",
       "        </style>   \n",
       "                            \n",
       "        <script>\n",
       "        (function(){\n",
       "\n",
       "            var trace = JSON.parse(document.getElementById('json-jmd6841a7a-0cc0-4328-96e9-4fbd40fce368').innerHTML);                                        \n",
       "            // NOTE 1: id without #\n",
       "            // NOTE 2 - maybe there are more predictable ways, but this will work anyway\n",
       "            //        - id should be number\n",
       "            visualizerIdOverride = Math.trunc(Math.random() * 100000000000)\n",
       "            addVisualizerToPage(trace, 'jmd6841a7a-0cc0-4328-96e9-4fbd40fce368',{'embeddedMode' : false,\n",
       "                                             'visualizerIdOverride':visualizerIdOverride})  \n",
       "            \n",
       "            \n",
       "            // set overflow for pytuts - need to do in python as css \n",
       "            // does not allow parent selection\n",
       "            var pytuts = $('.pytutorVisualizer')\n",
       "            pytuts.closest('div.output_html.rendered_html.output_result')\n",
       "                    .css('overflow-x', 'visible')\n",
       "        \n",
       "            //pytuts.closest('div.output_html.rendered_html.output_result')\n",
       "            //      .css('background-color','red')                \n",
       "            \n",
       "        })()\n",
       "        </script>\n",
       "                \n",
       "                "
      ],
      "text/plain": [
       "<IPython.core.display.HTML object>"
      ]
     },
     "execution_count": 18,
     "metadata": {},
     "output_type": "execute_result"
    }
   ],
   "source": [
    "la = []\n",
    "x = la.append(78)\n",
    "print(\"la è\", la)\n",
    "print(\"x è \", x)\n",
    "\n",
    "jupman.pytut()"
   ]
  },
  {
   "cell_type": "markdown",
   "metadata": {},
   "source": [
    "Qual'è il succo di tutto questo discorso? \n",
    "\n",
    "<div class=\"alert alert-warning\">\n",
    "\n",
    "**RIUSARE IL RISULTATO DI CHIAMATE AI METODI DELLE LISTE E' QUASI SEMPRE UN ERRORE !!!!**\n",
    "\n",
    "Dato che chiamare i metodi delle lista ci ritorna `None`, che è un oggetto 'inutile', tentare di riusarlo produrrà quasi sicuramente un errore\n",
    "</div>"
   ]
  },
  {
   "cell_type": "markdown",
   "metadata": {},
   "source": [
    "**ESERCIZIO**: Costruisci una lista aggiungendo un elemento alla volta con il metodo `append`. Aggiungi gli elementi `77`, `\"prova\"`, `[60,93]` con tre chiamate ad `append`, ed infine stampa la lista.\n",
    "\n",
    "Dopo il tuo codice, dovresti vedere `[77, 'prova', [60, 93]]`"
   ]
  },
  {
   "cell_type": "raw",
   "id": "1fd0b913",
   "metadata": {
    "format": "text/html"
   },
   "source": [
    "<a  class=\"jupman-sol jupman-sol-toggler\" \n",
    " onclick=\"jupman.toggleSolution(this);\" \n",
    " data-jupman-show=\"Mostra soluzione\" data-jupman-hide=\"Nascondi\">Mostra soluzione</a><div class=\"jupman-sol jupman-sol-code\" style=\"display:none\">  "
   ]
  },
  {
   "cell_type": "code",
   "execution_count": 19,
   "metadata": {},
   "outputs": [],
   "source": [
    "la = []\n",
    "\n",
    "# scrivi qui\n",
    "la.append(77)\n",
    "la.append(\"prova\")\n",
    "la.append([60, 93])\n",
    "\n",
    "#print(la)\n"
   ]
  },
  {
   "cell_type": "raw",
   "id": "cb149f1e",
   "metadata": {
    "format": "text/html"
   },
   "source": [
    "</div>"
   ]
  },
  {
   "cell_type": "code",
   "execution_count": 19,
   "metadata": {},
   "outputs": [],
   "source": [
    "la = []\n",
    "\n",
    "# scrivi qui\n",
    "\n"
   ]
  },
  {
   "cell_type": "markdown",
   "metadata": {},
   "source": [
    "**DOMANDA**: Il codice seguente:\n",
    "\n",
    "```python\n",
    "la = []\n",
    "la.append(85,70,94)\n",
    "```\n",
    "\n",
    "1. produce un errore (quale?)\n",
    "2. modifica la lista (come?)"
   ]
  },
  {
   "cell_type": "raw",
   "id": "c79666f2",
   "metadata": {
    "format": "text/html"
   },
   "source": [
    "<a  class=\"jupman-sol jupman-sol-toggler\" \n",
    " onclick=\"jupman.toggleSolution(this);\" \n",
    " data-jupman-show=\"Mostra risposta\" data-jupman-hide=\"Nascondi\">Mostra risposta</a><div class=\"jupman-sol jupman-sol-question\" style=\"display:none\">  "
   ]
  },
  {
   "cell_type": "markdown",
   "metadata": {},
   "source": [
    "**RISPOSTA**: la 1: `append` accetta un solo argomento, passandone di più produrrà un errore, prova ad eseguire il codice in una cella per vedere quale."
   ]
  },
  {
   "cell_type": "raw",
   "id": "ba223733",
   "metadata": {
    "format": "text/html"
   },
   "source": [
    "</div>"
   ]
  },
  {
   "cell_type": "markdown",
   "metadata": {},
   "source": [
    "**DOMANDA**: Il codice seguente\n",
    "\n",
    "```python\n",
    "la = []\n",
    "la.append(87).append(96)\n",
    "```\n",
    "\n",
    "1. produce un errore\n",
    "2. aggiunge a `la` i numeri `87` e `96`"
   ]
  },
  {
   "cell_type": "raw",
   "id": "d654847e",
   "metadata": {
    "format": "text/html"
   },
   "source": [
    "<a  class=\"jupman-sol jupman-sol-toggler\" \n",
    " onclick=\"jupman.toggleSolution(this);\" \n",
    " data-jupman-show=\"Mostra risposta\" data-jupman-hide=\"Nascondi\">Mostra risposta</a><div class=\"jupman-sol jupman-sol-question\" style=\"display:none\">  "
   ]
  },
  {
   "cell_type": "markdown",
   "metadata": {},
   "source": [
    "**RISPOSTA**: la 1: produce un errore, perchè come abbiamo detto la chiamata ad `la.append(87)` MODIFICA la lista `la` su cui è chiamato e ritorna il valore `None`. Se su `None` proviamo a chiamare `.append(96)`, visto che `None` non è una lista otterremo un messaggio di errore. Sincerati di questo usando Python Tutor."
   ]
  },
  {
   "cell_type": "raw",
   "id": "55178fff",
   "metadata": {
    "format": "text/html"
   },
   "source": [
    "</div>"
   ]
  },
  {
   "cell_type": "markdown",
   "metadata": {},
   "source": [
    "\n",
    "**DOMANDA**: torniamo brevemente alle stringhe. Guarda il codice seguente (se non ti ricordi cosa fanno i metodi delle stringhe [guarda qua](https://it.softpython.org/strings/strings3-sol.html#Metodi)):\n",
    "    \n",
    "```python\n",
    "\n",
    "sa = '    trento    '\n",
    "sb = sa.strip().capitalize()\n",
    "print(sb)\n",
    "```\n",
    "\n",
    "1. produce un errore (quale?)\n",
    "2. cambia `sa` (come?)\n",
    "3. stampa qualcosa (cosa?)"
   ]
  },
  {
   "cell_type": "raw",
   "id": "8de6ebc4",
   "metadata": {
    "format": "text/html"
   },
   "source": [
    "<a  class=\"jupman-sol jupman-sol-toggler\" \n",
    " onclick=\"jupman.toggleSolution(this);\" \n",
    " data-jupman-show=\"Mostra risposta\" data-jupman-hide=\"Nascondi\">Mostra risposta</a><div class=\"jupman-sol jupman-sol-question\" style=\"display:none\">  "
   ]
  },
  {
   "cell_type": "markdown",
   "metadata": {},
   "source": [
    "**RISPOSTA**: La 3: stampa `Trento`. Diversamente dalle liste, le stringhe sono sequenze _immutabili_: significa che quando chiami un metodo sulle stringhe sei sicuro che RESTITUIRA' una stringa NUOVA.  Quindi la prima chiamata a `sa.strip()` RESTITUISCE la stringa senza spazi all'inizio e alla fine `'trento'`, e su questa stringa viene chiamato il metodo `capitalize()` che rende il primo carattere maiuscolo. \n",
    "\n",
    "Se questo non ti è chiaro, prova ad eseguire il codice seguente in Python Tutor. E' equivalente a quello dell'esempio ma esplicita il passaggio assegnando alla variabile extra `x`. il risultato della chiamata a `sa.strip()` \n",
    "\n",
    "```python\n",
    "sa = '    trento    '\n",
    "x = sa.strip()\n",
    "sb = x.capitalize()\n",
    "print(sb)\n",
    "```\n"
   ]
  },
  {
   "cell_type": "raw",
   "id": "ca3d294b",
   "metadata": {
    "format": "text/html"
   },
   "source": [
    "</div>"
   ]
  },
  {
   "cell_type": "markdown",
   "metadata": {},
   "source": [
    "**DOMANDA**: Guarda questo codice. Stamperà qualcosa alla fine? O produrrà un errore?\n",
    "    \n",
    "```python\n",
    "la = []\n",
    "lb = []\n",
    "la.append(lb)\n",
    "\n",
    "lb.append(98)\n",
    "lb.append(77)\n",
    "\n",
    "print(la)\n",
    "```"
   ]
  },
  {
   "cell_type": "raw",
   "id": "360e92e7",
   "metadata": {
    "format": "text/html"
   },
   "source": [
    "<a  class=\"jupman-sol jupman-sol-toggler\" \n",
    " onclick=\"jupman.toggleSolution(this);\" \n",
    " data-jupman-show=\"Mostra risposta\" data-jupman-hide=\"Nascondi\">Mostra risposta</a><div class=\"jupman-sol jupman-sol-question\" style=\"display:none\">  "
   ]
  },
  {
   "cell_type": "markdown",
   "metadata": {},
   "source": [
    "**RISPOSTA**: Stamperà `[[98, 77]]`, perchè abbiamo messo `lb` dentro `la`. \n",
    "\n",
    "Anche se con la prima `append` abbiamo inserito `lb` come primo elemento di `la`, dopo è perfettamente lecito continuare a modificare `lb` chiamando `lb.append(98)`. \n",
    "\n",
    "Prova ad eseguire il codice in Python Tutor, e guarda le frecce."
   ]
  },
  {
   "cell_type": "raw",
   "id": "4c24610d",
   "metadata": {
    "format": "text/html"
   },
   "source": [
    "</div>"
   ]
  },
  {
   "cell_type": "markdown",
   "metadata": {},
   "source": [
    "### Esercizio - accrescere una lista 1\n",
    "\n",
    "Data la lista `la` di _dimensione fissa 7_, scrivi del codice per crescere la lista vuota `lb` così che contenga _solo_ gli elementi di `la` a indici pari (0, 2, 4, ...). \n",
    "\n",
    "- Il tuo codice dovrebbe funzionare per qualunque lista `la` di dimensione fissa 7\n",
    "\n",
    "\n",
    "```python\n",
    "#   0 1 2 3 4 5 6  \n",
    "la=[8,4,3,5,7,3,5]\n",
    "lb=[]\n",
    "```\n",
    "\n",
    "Dopo il tuo codice, dovresti ottenere:\n",
    "\n",
    "```python\n",
    ">>> print(lb)\n",
    "[8,3,7,5]\n",
    "```\n"
   ]
  },
  {
   "cell_type": "raw",
   "id": "fdf7f8c3",
   "metadata": {
    "format": "text/html"
   },
   "source": [
    "<a  class=\"jupman-sol jupman-sol-toggler\" \n",
    " onclick=\"jupman.toggleSolution(this);\" \n",
    " data-jupman-show=\"Mostra soluzione\" data-jupman-hide=\"Nascondi\">Mostra soluzione</a><div class=\"jupman-sol jupman-sol-code\" style=\"display:none\">  "
   ]
  },
  {
   "cell_type": "code",
   "execution_count": 20,
   "metadata": {},
   "outputs": [
    {
     "name": "stdout",
     "output_type": "stream",
     "text": [
      "[8, 3, 7, 5]\n"
     ]
    }
   ],
   "source": [
    "\n",
    "#   0 1 2 3 4 5 6  \n",
    "la=[8,4,3,5,7,3,5]\n",
    "lb=[]\n",
    "\n",
    "# scrivi qui\n",
    "lb.append(la[0])\n",
    "lb.append(la[2])\n",
    "lb.append(la[4])\n",
    "lb.append(la[6])\n",
    "print(lb)"
   ]
  },
  {
   "cell_type": "raw",
   "id": "091739ea",
   "metadata": {
    "format": "text/html"
   },
   "source": [
    "</div>"
   ]
  },
  {
   "cell_type": "code",
   "execution_count": 20,
   "metadata": {},
   "outputs": [
    {
     "name": "stdout",
     "output_type": "stream",
     "text": [
      "[8, 3, 7, 5]\n"
     ]
    }
   ],
   "source": [
    "\n",
    "#   0 1 2 3 4 5 6  \n",
    "la=[8,4,3,5,7,3,5]\n",
    "lb=[]\n",
    "\n",
    "# scrivi qui\n",
    "\n"
   ]
  },
  {
   "cell_type": "markdown",
   "metadata": {},
   "source": [
    "## Metodo extend"
   ]
  },
  {
   "cell_type": "markdown",
   "metadata": {},
   "source": [
    "Prima con `append` abbiamo visto come accrescere una lista _un elemento alla volta_. \n",
    "\n",
    "E se volessimo aggiungere in un colpo solo parecchi elementi, magari presi da un'altra lista? Come potremmo fare? \n",
    "\n",
    "Dovremmo usare il metodo `extend`, che MODIFICA la lista su cui è chiamato aggiungendo tutti gli elementi trovati nella sequenza presa in input. "
   ]
  },
  {
   "cell_type": "code",
   "execution_count": 21,
   "metadata": {},
   "outputs": [],
   "source": [
    "la = [78,60,59]"
   ]
  },
  {
   "cell_type": "code",
   "execution_count": 22,
   "metadata": {},
   "outputs": [],
   "source": [
    "lb = [68,97,67,98]"
   ]
  },
  {
   "cell_type": "code",
   "execution_count": 23,
   "metadata": {},
   "outputs": [],
   "source": [
    "la.extend(lb)"
   ]
  },
  {
   "cell_type": "code",
   "execution_count": 24,
   "metadata": {},
   "outputs": [
    {
     "data": {
      "text/plain": [
       "[78, 60, 59, 68, 97, 67, 98]"
      ]
     },
     "execution_count": 24,
     "metadata": {},
     "output_type": "execute_result"
    }
   ],
   "source": [
    "la"
   ]
  },
  {
   "cell_type": "code",
   "execution_count": 25,
   "metadata": {},
   "outputs": [
    {
     "data": {
      "text/plain": [
       "[68, 97, 67, 98]"
      ]
     },
     "execution_count": 25,
     "metadata": {},
     "output_type": "execute_result"
    }
   ],
   "source": [
    "lb"
   ]
  },
  {
   "cell_type": "markdown",
   "metadata": {},
   "source": [
    "Nell'esempio qua sopra, `extend` è chiamato sulla variabile `la`, e come parametro gli abbiamo passato `lb`\n",
    "\n",
    "<div class=\"alert alert-warning\">\n",
    "\n",
    "**ATTENZIONE**: `la` è MODIFICATA, invece la sequenza che gli abbiamo passato tra le parentesi tonde no (`lb` nell'esempio)!\n",
    "\n",
    "</div>"
   ]
  },
  {
   "cell_type": "markdown",
   "metadata": {},
   "source": [
    "**DOMANDA**: l'esecuzione del metodo `extend` ritorna qualcosa? Cosa vedi nell'output della cella `la.extend(lb)` ?"
   ]
  },
  {
   "cell_type": "raw",
   "id": "fd3a91e2",
   "metadata": {
    "format": "text/html"
   },
   "source": [
    "<a  class=\"jupman-sol jupman-sol-toggler\" \n",
    " onclick=\"jupman.toggleSolution(this);\" \n",
    " data-jupman-show=\"Mostra risposta\" data-jupman-hide=\"Nascondi\">Mostra risposta</a><div class=\"jupman-sol jupman-sol-question\" style=\"display:none\">  "
   ]
  },
  {
   "cell_type": "markdown",
   "metadata": {},
   "source": [
    "**RISPOSTA**:  `extend`, come quasi tutti i metodi delle liste, non ritorna nulla, o meglio, ritorna il poco utile oggetto `None`, che non viene nemmeno stampato da Jupyter. "
   ]
  },
  {
   "cell_type": "raw",
   "id": "7f84cb43",
   "metadata": {
    "format": "text/html"
   },
   "source": [
    "</div>"
   ]
  },
  {
   "cell_type": "markdown",
   "metadata": {},
   "source": [
    "Verifichiamo meglio cosa è successo con Python Tutor: "
   ]
  },
  {
   "cell_type": "code",
   "execution_count": 26,
   "metadata": {},
   "outputs": [
    {
     "data": {
      "text/html": [
       "\n",
       "        <script src=\"../_static/js/pytutor-embed.bundle.min.js\" type=\"application/javascript\"></script>\n",
       "     \n",
       "        <script id=\"json-jmbb73849f-74a9-4e4a-bc2b-2aab38ab436c\" type=\"application/json\" >\n",
       "            {\"code\": \" \\nla = [78,60,59]\\nlb = [68,97,67,98]\\nla.extend(lb)\", \"trace\": [{\"line\": 2, \"event\": \"step_line\", \"func_name\": \"<module>\", \"globals\": {}, \"ordered_globals\": [], \"stack_to_render\": [], \"heap\": {}, \"stdout\": \"\"}, {\"line\": 3, \"event\": \"step_line\", \"func_name\": \"<module>\", \"globals\": {\"la\": [\"REF\", 1]}, \"ordered_globals\": [\"la\"], \"stack_to_render\": [], \"heap\": {\"1\": [\"LIST\", 78, 60, 59]}, \"stdout\": \"\"}, {\"line\": 4, \"event\": \"step_line\", \"func_name\": \"<module>\", \"globals\": {\"la\": [\"REF\", 1], \"lb\": [\"REF\", 2]}, \"ordered_globals\": [\"la\", \"lb\"], \"stack_to_render\": [], \"heap\": {\"1\": [\"LIST\", 78, 60, 59], \"2\": [\"LIST\", 68, 97, 67, 98]}, \"stdout\": \"\"}, {\"line\": 4, \"event\": \"return\", \"func_name\": \"<module>\", \"globals\": {\"la\": [\"REF\", 1], \"lb\": [\"REF\", 2]}, \"ordered_globals\": [\"la\", \"lb\"], \"stack_to_render\": [], \"heap\": {\"1\": [\"LIST\", 78, 60, 59, 68, 97, 67, 98], \"2\": [\"LIST\", 68, 97, 67, 98]}, \"stdout\": \"\"}]}\n",
       "        </script>\n",
       "        <div id=\"jmbb73849f-74a9-4e4a-bc2b-2aab38ab436c\" class=\"pytutorVisualizer\"> </div>\n",
       " \n",
       "        <style>\n",
       "        .vizLayoutTd {\n",
       "            background-color: #fff !important;\n",
       "        }\n",
       "\n",
       "        #pyStdout {            \n",
       "            min-height:25px;\n",
       "        }\n",
       "\n",
       "        /* 'Edit this code' link, hiding because replaces browser tab !!!*/\n",
       "        #editCodeLinkDiv {\n",
       "            display:none;  \n",
       "        }\n",
       "        </style>   \n",
       "                            \n",
       "        <script>\n",
       "        (function(){\n",
       "\n",
       "            var trace = JSON.parse(document.getElementById('json-jmbb73849f-74a9-4e4a-bc2b-2aab38ab436c').innerHTML);                                        \n",
       "            // NOTE 1: id without #\n",
       "            // NOTE 2 - maybe there are more predictable ways, but this will work anyway\n",
       "            //        - id should be number\n",
       "            visualizerIdOverride = Math.trunc(Math.random() * 100000000000)\n",
       "            addVisualizerToPage(trace, 'jmbb73849f-74a9-4e4a-bc2b-2aab38ab436c',{'embeddedMode' : false,\n",
       "                                             'visualizerIdOverride':visualizerIdOverride})  \n",
       "            \n",
       "            \n",
       "            // set overflow for pytuts - need to do in python as css \n",
       "            // does not allow parent selection\n",
       "            var pytuts = $('.pytutorVisualizer')\n",
       "            pytuts.closest('div.output_html.rendered_html.output_result')\n",
       "                    .css('overflow-x', 'visible')\n",
       "        \n",
       "            //pytuts.closest('div.output_html.rendered_html.output_result')\n",
       "            //      .css('background-color','red')                \n",
       "            \n",
       "        })()\n",
       "        </script>\n",
       "                \n",
       "                "
      ],
      "text/plain": [
       "<IPython.core.display.HTML object>"
      ]
     },
     "execution_count": 26,
     "metadata": {},
     "output_type": "execute_result"
    }
   ],
   "source": [
    "la = [78,60,59]\n",
    "lb = [68,97,67,98]\n",
    "la.extend(lb)\n",
    "\n",
    "jupman.pytut()"
   ]
  },
  {
   "cell_type": "markdown",
   "metadata": {},
   "source": [
    "**DOMANDA**: Guarda questo codice. Quali saranno i valori associati alle variabili `la` ,`lb` e `x` dopo la sua esecuzione?\n",
    "\n",
    "\n",
    "```python\n",
    "la = [34,79,54]\n",
    "lb = [86,45]\n",
    "x = la.extend(lb)\n",
    "\n",
    "print('la è ', la)\n",
    "print('lb è ', lb)\n",
    "print('x è ', x)\n",
    "```"
   ]
  },
  {
   "cell_type": "raw",
   "id": "416692b7",
   "metadata": {
    "format": "text/html"
   },
   "source": [
    "<a  class=\"jupman-sol jupman-sol-toggler\" \n",
    " onclick=\"jupman.toggleSolution(this);\" \n",
    " data-jupman-show=\"Mostra risposta\" data-jupman-hide=\"Nascondi\">Mostra risposta</a><div class=\"jupman-sol jupman-sol-question\" style=\"display:none\">  "
   ]
  },
  {
   "cell_type": "markdown",
   "metadata": {},
   "source": [
    "**RISPOSTA**: Verrà stampato questo:\n",
    "\n",
    "```\n",
    "la è  [34, 79, 54, 86, 45]\n",
    "lb è  [86, 45]\n",
    "x è  None\n",
    "```\n",
    "\n",
    " `la` è stata MODIFICATA aggiungendo tutti gli elementi di `lb`. \n",
    "\n",
    "La chiamata ad `extend`, come quasi tutti i metodi delle liste, ha ritornano l'oggetto `None` che è stato associato alla variabile `x`. Cerca di capire bene cosa è successo usando Python Tutor.\n",
    " "
   ]
  },
  {
   "cell_type": "raw",
   "id": "a2569637",
   "metadata": {
    "format": "text/html"
   },
   "source": [
    "</div>"
   ]
  },
  {
   "cell_type": "markdown",
   "metadata": {},
   "source": [
    "### Estendere con sequenze\n",
    "\n",
    "Abbiamo detto che tra le parentesi tonde `extend` può prendere una sequenza generica, non solo liste. Questo vuol dire che possiamo anche passargli una stringa. Per esempio: "
   ]
  },
  {
   "cell_type": "code",
   "execution_count": 27,
   "metadata": {},
   "outputs": [],
   "source": [
    "la = [78,65,87]\n",
    "\n",
    "s = \"ciao\"\n",
    "\n",
    "la.extend(s)"
   ]
  },
  {
   "cell_type": "code",
   "execution_count": 28,
   "metadata": {},
   "outputs": [
    {
     "data": {
      "text/plain": [
       "[78, 65, 87, 'c', 'i', 'a', 'o']"
      ]
     },
     "execution_count": 28,
     "metadata": {},
     "output_type": "execute_result"
    }
   ],
   "source": [
    "la"
   ]
  },
  {
   "cell_type": "markdown",
   "metadata": {},
   "source": [
    "Dato che stringa è una sequenza di caratteri, `extend` ha preso ciascuno di questi elementi e li ha aggiunti a `la`"
   ]
  },
  {
   "cell_type": "markdown",
   "metadata": {},
   "source": [
    "**DOMANDA**: il valore associato alla variabile `s` è stato modificato?"
   ]
  },
  {
   "cell_type": "raw",
   "id": "8b1a8a6a",
   "metadata": {
    "format": "text/html"
   },
   "source": [
    "<a  class=\"jupman-sol jupman-sol-toggler\" \n",
    " onclick=\"jupman.toggleSolution(this);\" \n",
    " data-jupman-show=\"Mostra risposta\" data-jupman-hide=\"Nascondi\">Mostra risposta</a><div class=\"jupman-sol jupman-sol-question\" style=\"display:none\">  "
   ]
  },
  {
   "cell_type": "markdown",
   "metadata": {},
   "source": [
    "**RISPOSTA**: assolutamente impossibile, perchè a) `extend` modifica solo la lista su cui è chiamato e b) le stringhe sono comunque immutabili."
   ]
  },
  {
   "cell_type": "raw",
   "id": "e6bd7a45",
   "metadata": {
    "format": "text/html"
   },
   "source": [
    "</div>"
   ]
  },
  {
   "cell_type": "markdown",
   "metadata": {},
   "source": [
    "**DOMANDA**: Il codice seguente:\n",
    "\n",
    "```python\n",
    "la = [78,65]\n",
    "la.extend(68,85,87)\n",
    "```\n",
    "\n",
    "1. produce un errore (quale?) \n",
    "2. modifica `la` (come?)"
   ]
  },
  {
   "cell_type": "raw",
   "id": "d4b62949",
   "metadata": {
    "format": "text/html"
   },
   "source": [
    "<a  class=\"jupman-sol jupman-sol-toggler\" \n",
    " onclick=\"jupman.toggleSolution(this);\" \n",
    " data-jupman-show=\"Mostra risposta\" data-jupman-hide=\"Nascondi\">Mostra risposta</a><div class=\"jupman-sol jupman-sol-question\" style=\"display:none\">  "
   ]
  },
  {
   "cell_type": "markdown",
   "metadata": {},
   "source": [
    "**RISPOSTA**: La 1: produce un errore, perchè ad `extend` dobbiamo passare UN parametro solo, che deve essere _una sequenza_. Qua invece stiamo passando tanti parametri. Un'alternativa potrebbe essere costruire una lista così:\n",
    "\n",
    "```python\n",
    "la = [78,65]\n",
    "la.extend([68,85,87])\n",
    "\n",
    "```"
   ]
  },
  {
   "cell_type": "raw",
   "id": "e88a6119",
   "metadata": {
    "format": "text/html"
   },
   "source": [
    "</div>"
   ]
  },
  {
   "cell_type": "markdown",
   "metadata": {},
   "source": [
    "**DOMANDA**: Se questo codice viene eseguito, che succede?\n",
    "\n",
    "```python\n",
    "sa = \"ciao\"\n",
    "sb = \"mondo\"\n",
    "sa.extend(sb)\n",
    "```\n",
    "\n",
    "1. `sa` viene modificata (come?)\n",
    "2. otteniamo un errore (quale?)"
   ]
  },
  {
   "cell_type": "raw",
   "id": "b47641eb",
   "metadata": {
    "format": "text/html"
   },
   "source": [
    "<a  class=\"jupman-sol jupman-sol-toggler\" \n",
    " onclick=\"jupman.toggleSolution(this);\" \n",
    " data-jupman-show=\"Mostra risposta\" data-jupman-hide=\"Nascondi\">Mostra risposta</a><div class=\"jupman-sol jupman-sol-question\" style=\"display:none\">  "
   ]
  },
  {
   "cell_type": "markdown",
   "metadata": {},
   "source": [
    "**RISPOSTA**: la 2: otteniamo un errore, perchè `extend` è un metodo esclusivo delle liste. Appartiene solo alle liste perchè MODIFICA l'oggetto su cui è chiamato - dato che le stringhe sono oggetti immutabili, non avrebbe senso estenderle."
   ]
  },
  {
   "cell_type": "raw",
   "id": "22a1c80f",
   "metadata": {
    "format": "text/html"
   },
   "source": [
    "</div>"
   ]
  },
  {
   "cell_type": "markdown",
   "metadata": {},
   "source": [
    "**DOMANDA**: Se questo codice viene eseguito, che succede?\n",
    "\n",
    "```python\n",
    "la = [1,2,3]\n",
    "lb = [4,5]\n",
    "lc = [6,7,8]\n",
    "\n",
    "la.extend(lb).extend(lc)\n",
    "```\n",
    "\n",
    "1. `la` diventa `[1,2,3,4,5,6,7,8]`\n",
    "2. un errore (quale?)\n",
    "3. `la` diventa `[1,2,3,4,5]` e un errore(quale?)\n"
   ]
  },
  {
   "cell_type": "raw",
   "id": "ae8a2fef",
   "metadata": {
    "format": "text/html"
   },
   "source": [
    "<a  class=\"jupman-sol jupman-sol-toggler\" \n",
    " onclick=\"jupman.toggleSolution(this);\" \n",
    " data-jupman-show=\"Mostra risposta\" data-jupman-hide=\"Nascondi\">Mostra risposta</a><div class=\"jupman-sol jupman-sol-question\" style=\"display:none\">  "
   ]
  },
  {
   "cell_type": "markdown",
   "metadata": {},
   "source": [
    "**RISPOSTA**: la 3: `la` diventa `[1,2,3,4,5]` e subito dopo otteniamo un errore, perchè la chiamata a `la.extend(lb)` MODIFICA `la` a `[1,2,3,4,5]` e RITORNA il valore `None`. A quel punto, Python cerca di chiamare il metodo `extend` sull'oggetto `None`, ma non essendo una lista, ci becchiamo questo errore (**per convincerti, verifica il tutto il Python Tutor** !!!)\n",
    "\n",
    "```python\n",
    "---------------------------------------------------------------------------\n",
    "AttributeError                            Traceback (most recent call last)\n",
    "<ipython-input-45-0a08a154ada4> in <module>\n",
    "      3 lc = [6,7,8]\n",
    "      4 \n",
    "----> 5 la.extend(lb).extend(lc)\n",
    "\n",
    "AttributeError: 'NoneType' object has no attribute 'extend'\n",
    "\n",
    "```"
   ]
  },
  {
   "cell_type": "raw",
   "id": "d239d953",
   "metadata": {
    "format": "text/html"
   },
   "source": [
    "</div>"
   ]
  },
  {
   "cell_type": "markdown",
   "metadata": {},
   "source": [
    "### Esercizio: accrescere una lista 2"
   ]
  },
  {
   "cell_type": "markdown",
   "metadata": {},
   "source": [
    "\n",
    "Date due _liste_ `la` ed `lb` e un elemento `x`, scrivi del codice che MODIFICA `la` in modo che `la` contenga alla fine l'elemento `x` seguito da tutti gli elementi di `lb`\n",
    "\n",
    "- **NOTA 1**: il tuo codice dovrebbe funzionare con qualunque `la` ed `lb`\n",
    "- **NOTA 2**: `id` è una funzione di Python che associa ad ogni regione di memoria un identificativo numerico univoco. Se provi a stampare `id(la)` _prima_ di modificare `la` e `id(la)` dopo, dovresti ottenere _esattamente_ lo stesso id. Se ne ottieni uno diverso, significa che hai generato una lista interamente nuova. In ogni caso, verifica che funzioni in Python Tutor.\n",
    "\n",
    "```python\n",
    "la = [5,9,2,4]\n",
    "lb = [7,1,3]\n",
    "x = 8\n",
    "```\n",
    "\n",
    "Dovresti ottenere:\n",
    "\n",
    "```python\n",
    ">>> print(la)\n",
    "[5,9,2,4,8,7,1,3]\n",
    ">>> print(lb)\n",
    "[7,1,3]\n",
    ">>> print(x)\n",
    "8\n",
    "\n",
    "```"
   ]
  },
  {
   "cell_type": "raw",
   "id": "562bc0df",
   "metadata": {
    "format": "text/html"
   },
   "source": [
    "<a  class=\"jupman-sol jupman-sol-toggler\" \n",
    " onclick=\"jupman.toggleSolution(this);\" \n",
    " data-jupman-show=\"Mostra soluzione\" data-jupman-hide=\"Nascondi\">Mostra soluzione</a><div class=\"jupman-sol jupman-sol-code\" style=\"display:none\">  "
   ]
  },
  {
   "cell_type": "code",
   "execution_count": 29,
   "metadata": {},
   "outputs": [],
   "source": [
    "\n",
    "la = [5,9,2,4]\n",
    "lb = [7,1,3]\n",
    "x = 8\n",
    "\n",
    "# scrivi qui\n",
    "la.append(x)\n",
    "la.extend(lb)\n",
    "#print(la)\n",
    "#print(lb)\n",
    "#print(x)"
   ]
  },
  {
   "cell_type": "raw",
   "id": "da259b9a",
   "metadata": {
    "format": "text/html"
   },
   "source": [
    "</div>"
   ]
  },
  {
   "cell_type": "code",
   "execution_count": 29,
   "metadata": {},
   "outputs": [],
   "source": [
    "\n",
    "la = [5,9,2,4]\n",
    "lb = [7,1,3]\n",
    "x = 8\n",
    "\n",
    "# scrivi qui\n",
    "\n"
   ]
  },
  {
   "cell_type": "markdown",
   "metadata": {},
   "source": [
    "### Esercizio - zslice\n",
    "\n",
    "Scrivi del codice che date due liste `la` (di almeno 3 elementi) e `lb`,  MODIFICA `lb` in modo che vi siano aggiunti i primi 3 elementi di `la` seguiti dagli ultimi 3 elementi di `la`\n",
    "\n",
    "* il tuo codice deve funzionare con qualsiasi lista \n",
    "* usa `extend` e le slice\n",
    "\n",
    "```python\n",
    "la = ['a','b','c','d','e','f','g','h','i','l','m','n','o']\n",
    "lb = ['z']\n",
    "```\n",
    "\n",
    "Dovresti ottenere:\n",
    "\n",
    "```python\n",
    ">>> print(la)\n",
    "['a', 'b', 'c', 'd', 'e', 'f', 'g', 'h', 'i', 'l', 'm', 'n', 'o']\n",
    ">>> print(lb)\n",
    "['z', 'a', 'b', 'c', 'm', 'n', 'o']\n",
    "```\n"
   ]
  },
  {
   "cell_type": "raw",
   "id": "45824087",
   "metadata": {
    "format": "text/html"
   },
   "source": [
    "<a  class=\"jupman-sol jupman-sol-toggler\" \n",
    " onclick=\"jupman.toggleSolution(this);\" \n",
    " data-jupman-show=\"Mostra soluzione\" data-jupman-hide=\"Nascondi\">Mostra soluzione</a><div class=\"jupman-sol jupman-sol-code\" style=\"display:none\">  "
   ]
  },
  {
   "cell_type": "code",
   "execution_count": 30,
   "metadata": {},
   "outputs": [],
   "source": [
    "la = ['a','b','c','d','e','f','g','h','i','l','m','n','o']\n",
    "lb = ['z']\n",
    "\n",
    "# scrivi qui\n",
    "\n",
    "lb.extend(la[:3])  # una slice genera una lista\n",
    "lb.extend(la[-3:])\n",
    "\n",
    "#print(la)\n",
    "#print(lb)\n"
   ]
  },
  {
   "cell_type": "raw",
   "id": "d9e739d9",
   "metadata": {
    "format": "text/html"
   },
   "source": [
    "</div>"
   ]
  },
  {
   "cell_type": "code",
   "execution_count": 30,
   "metadata": {},
   "outputs": [],
   "source": [
    "la = ['a','b','c','d','e','f','g','h','i','l','m','n','o']\n",
    "lb = ['z']\n",
    "\n",
    "# scrivi qui\n",
    "\n"
   ]
  },
  {
   "cell_type": "markdown",
   "metadata": {},
   "source": [
    "### Esercizio - vedunazeblag\n",
    "\n",
    "Scrivi del codice che data una lista di tre stringhe `parole` e una lista vuota `la`, riempie `la` con tutti i primi 3 caratteri di ogni stringa in `parole`. \n",
    "\n",
    "* il tuo codice deve funzionare con qualsiasi lista di 3 stringhe\n",
    "* usa le slice\n",
    "\n",
    "Esempio - data:\n",
    "\n",
    "```python\n",
    "parole = [\"vedo\", \"una\", \"zebra\", \"laggiù\"]\n",
    "la = []\n",
    "```\n",
    "\n",
    "il tuo codice deve mostrare\n",
    "\n",
    "```python\n",
    ">>> print(t)\n",
    "['v', 'e', 'd', 'u', 'n', 'a', 'z', 'e', 'b', 'l', 'a', 'g']\n",
    "```"
   ]
  },
  {
   "cell_type": "raw",
   "id": "7863ab8c",
   "metadata": {
    "format": "text/html"
   },
   "source": [
    "<a  class=\"jupman-sol jupman-sol-toggler\" \n",
    " onclick=\"jupman.toggleSolution(this);\" \n",
    " data-jupman-show=\"Mostra soluzione\" data-jupman-hide=\"Nascondi\">Mostra soluzione</a><div class=\"jupman-sol jupman-sol-code\" style=\"display:none\">  "
   ]
  },
  {
   "cell_type": "code",
   "execution_count": 31,
   "metadata": {},
   "outputs": [
    {
     "name": "stdout",
     "output_type": "stream",
     "text": [
      "['v', 'e', 'd', 'u', 'n', 'a', 'z', 'e', 'b', 'l', 'a', 'g']\n"
     ]
    }
   ],
   "source": [
    "parole = [\"vedo\", \"una\", \"zebra\", \"laggiù\"]\n",
    "\n",
    "la = []\n",
    "\n",
    "# scrivi qui\n",
    "la.extend(parole[0][:3])\n",
    "la.extend(parole[1][:3])\n",
    "la.extend(parole[2][:3])\n",
    "la.extend(parole[3][:3])\n",
    "print(la)"
   ]
  },
  {
   "cell_type": "raw",
   "id": "cb7b5037",
   "metadata": {
    "format": "text/html"
   },
   "source": [
    "</div>"
   ]
  },
  {
   "cell_type": "code",
   "execution_count": 31,
   "metadata": {},
   "outputs": [
    {
     "name": "stdout",
     "output_type": "stream",
     "text": [
      "['v', 'e', 'd', 'u', 'n', 'a', 'z', 'e', 'b', 'l', 'a', 'g']\n"
     ]
    }
   ],
   "source": [
    "parole = [\"vedo\", \"una\", \"zebra\", \"laggiù\"]\n",
    "\n",
    "la = []\n",
    "\n",
    "# scrivi qui\n",
    "\n"
   ]
  },
  {
   "cell_type": "markdown",
   "metadata": {},
   "source": [
    "## Metodo insert\n",
    "\n",
    "`insert` MODIFICA la lista inserendo un elemento ad uno specifico indice - tutti gli elementi a partire da quell'indice vengono spostati in avanti di una posizione"
   ]
  },
  {
   "cell_type": "code",
   "execution_count": 32,
   "metadata": {},
   "outputs": [],
   "source": [
    "     #0 1 2 3\n",
    "la = [6,7,8,9]"
   ]
  },
  {
   "cell_type": "code",
   "execution_count": 33,
   "metadata": {},
   "outputs": [],
   "source": [
    "la.insert(2,55)  # inserisce il numero 55 all'indice 2"
   ]
  },
  {
   "cell_type": "code",
   "execution_count": 34,
   "metadata": {},
   "outputs": [
    {
     "data": {
      "text/plain": [
       "[6, 7, 55, 8, 9]"
      ]
     },
     "execution_count": 34,
     "metadata": {},
     "output_type": "execute_result"
    }
   ],
   "source": [
    "la"
   ]
  },
  {
   "cell_type": "code",
   "execution_count": 35,
   "metadata": {},
   "outputs": [],
   "source": [
    "la.insert(0,77)  # inserisce il numero 77 all'indice 0"
   ]
  },
  {
   "cell_type": "code",
   "execution_count": 36,
   "metadata": {},
   "outputs": [
    {
     "data": {
      "text/plain": [
       "[77, 6, 7, 55, 8, 9]"
      ]
     },
     "execution_count": 36,
     "metadata": {},
     "output_type": "execute_result"
    }
   ],
   "source": [
    "la"
   ]
  },
  {
   "cell_type": "markdown",
   "metadata": {},
   "source": [
    "Possiamo inserire dopo la fine: "
   ]
  },
  {
   "cell_type": "code",
   "execution_count": 37,
   "metadata": {},
   "outputs": [],
   "source": [
    "la.insert(6,88)  # inserisce il numero 88 all'indice 6"
   ]
  },
  {
   "cell_type": "code",
   "execution_count": 38,
   "metadata": {},
   "outputs": [
    {
     "data": {
      "text/plain": [
       "[77, 6, 7, 55, 8, 9, 88]"
      ]
     },
     "execution_count": 38,
     "metadata": {},
     "output_type": "execute_result"
    }
   ],
   "source": [
    "la"
   ]
  },
  {
   "cell_type": "markdown",
   "metadata": {},
   "source": [
    "Nota che se sforiamo con l'indice, l'elemento viene comunque messo alla fine e non vengono create celle vuote:"
   ]
  },
  {
   "cell_type": "code",
   "execution_count": 39,
   "metadata": {},
   "outputs": [],
   "source": [
    "la.insert(1000,99)  # in questo caso inserisce il numero 99 all'indice 7"
   ]
  },
  {
   "cell_type": "markdown",
   "metadata": {},
   "source": [
    "**DOMANDA**: Data una lista qualsiasi `x`, questo codice cosa produce? Possiamo riscriverlo in un'altra maniera?\n",
    "\n",
    "```python\n",
    "x.insert(len(x),66)\n",
    "```\n",
    "\n",
    "1. produce una nuova lista (quale?)\n",
    "2. modifica `x` (come?)\n",
    "3. un errore"
   ]
  },
  {
   "cell_type": "raw",
   "id": "76067df4",
   "metadata": {
    "format": "text/html"
   },
   "source": [
    "<a  class=\"jupman-sol jupman-sol-toggler\" \n",
    " onclick=\"jupman.toggleSolution(this);\" \n",
    " data-jupman-show=\"Mostra risposta\" data-jupman-hide=\"Nascondi\">Mostra risposta</a><div class=\"jupman-sol jupman-sol-question\" style=\"display:none\">  "
   ]
  },
  {
   "cell_type": "markdown",
   "metadata": {},
   "source": [
    "**RISPOSTA**: La 2 - il codice MODIFICA la lista `x` aggiungendo alla lista l'elemento `66` alla fine. Il codice è pertanto equivalente al codice \n",
    "\n",
    "```python\n",
    "x.append(66)\n",
    "```"
   ]
  },
  {
   "cell_type": "raw",
   "id": "5bbbabd8",
   "metadata": {
    "format": "text/html"
   },
   "source": [
    "</div>"
   ]
  },
  {
   "cell_type": "markdown",
   "metadata": {},
   "source": [
    "**DOMANDA**: Il seguente codice, cosa produce?\n",
    "\n",
    "```python\n",
    "la = [3,4,5,6]\n",
    "la.insert(0,[1,2])\n",
    "print(la)\n",
    "```\n",
    "\n",
    "1. stampa [1,2,3,4,5,6]\n",
    "2. un errore (quale?)\n",
    "3. qualcos'altro (cosa?)"
   ]
  },
  {
   "cell_type": "raw",
   "id": "c34d1b2d",
   "metadata": {
    "format": "text/html"
   },
   "source": [
    "<a  class=\"jupman-sol jupman-sol-toggler\" \n",
    " onclick=\"jupman.toggleSolution(this);\" \n",
    " data-jupman-show=\"Mostra risposta\" data-jupman-hide=\"Nascondi\">Mostra risposta</a><div class=\"jupman-sol jupman-sol-question\" style=\"display:none\">  "
   ]
  },
  {
   "cell_type": "markdown",
   "metadata": {},
   "source": [
    "**RISPOSTA**: La 3 - il codice inserisce come zeresimo elemento di `la` la lista `[1,2]`. La stampa produrrà quindi `[[1, 2], 3, 4, 5, 6]` "
   ]
  },
  {
   "cell_type": "raw",
   "id": "e8a3e7f1",
   "metadata": {
    "format": "text/html"
   },
   "source": [
    "</div>"
   ]
  },
  {
   "cell_type": "markdown",
   "metadata": {},
   "source": [
    "**DOMANDA**: Il seguente codice cosa produce?\n",
    "\n",
    "\n",
    "```python\n",
    "la = [4,5,6]\n",
    "la.insert(0,1,2,3)\n",
    "print(la)\n",
    "```\n",
    "\n",
    "1. stampa `[1,2,3,4,5,6]`\n",
    "2. un errore (quale?)\n",
    "3. qualcos'altro (cosa?)"
   ]
  },
  {
   "cell_type": "raw",
   "id": "5193ccb5",
   "metadata": {
    "format": "text/html"
   },
   "source": [
    "<a  class=\"jupman-sol jupman-sol-toggler\" \n",
    " onclick=\"jupman.toggleSolution(this);\" \n",
    " data-jupman-show=\"Mostra risposta\" data-jupman-hide=\"Nascondi\">Mostra risposta</a><div class=\"jupman-sol jupman-sol-question\" style=\"display:none\">  "
   ]
  },
  {
   "cell_type": "markdown",
   "metadata": {},
   "source": [
    "**RISPOSTA**: La 2 - un errore, a `insert` possiamo passare solo 2 parametri, l'indice di inserimento e il singolo oggetto da inserire"
   ]
  },
  {
   "cell_type": "raw",
   "id": "8bd8db4b",
   "metadata": {
    "format": "text/html"
   },
   "source": [
    "</div>"
   ]
  },
  {
   "cell_type": "markdown",
   "metadata": {},
   "source": [
    "**DOMANDA**: Il seguente codice cosa produce?\n",
    "\n",
    "\n",
    "```python\n",
    "la = [4,5,6]\n",
    "lb = la.insert(0,3)\n",
    "lc = lb.insert(0,2)\n",
    "ld = lc.insert(0,1)\n",
    "print(ld)\n",
    "```\n",
    "\n",
    "1. stampa `[1,2,3,4,5,6]`\n",
    "2. un errore (quale?)\n",
    "3. qualcos'altro (cosa?)"
   ]
  },
  {
   "cell_type": "raw",
   "id": "c58600c7",
   "metadata": {
    "format": "text/html"
   },
   "source": [
    "<a  class=\"jupman-sol jupman-sol-toggler\" \n",
    " onclick=\"jupman.toggleSolution(this);\" \n",
    " data-jupman-show=\"Mostra risposta\" data-jupman-hide=\"Nascondi\">Mostra risposta</a><div class=\"jupman-sol jupman-sol-question\" style=\"display:none\">  "
   ]
  },
  {
   "cell_type": "markdown",
   "metadata": {},
   "source": [
    "**RISPOSTA**: la 2 - un errore: come quasi tutti i metodi delle liste, `insert` ritorna `None`, quindi scrivendo `lb = la.insert(0,3)` andiamo ad associare `None` a `lb`, e quando nella riga successiva Python incontra `lc = lb.insert(0,2)` e prova ad eseguire `None.insert(0,2)` si lamenterà perchè `None` non essendo una lista non ha il metodo `insert`."
   ]
  },
  {
   "cell_type": "raw",
   "id": "c1649a00",
   "metadata": {
    "format": "text/html"
   },
   "source": [
    "</div>"
   ]
  },
  {
   "cell_type": "markdown",
   "metadata": {},
   "source": [
    "### Esercizio - insertando\n",
    "\n",
    "Data la lista:\n",
    "\n",
    "`la = [7,6,8,5,6]`\n",
    "\n",
    "scrivi del codice che la MODIFICA usando solo chiamate a `insert`. Dopo il tuo codice, `la` deve apparire così:\n",
    "\n",
    "```python\n",
    ">>> print(la)\n",
    "[7, 77, 99, 6, 8, 88, 5, 6, 55]\n",
    "```"
   ]
  },
  {
   "cell_type": "raw",
   "id": "9580fdaa",
   "metadata": {
    "format": "text/html"
   },
   "source": [
    "<a  class=\"jupman-sol jupman-sol-toggler\" \n",
    " onclick=\"jupman.toggleSolution(this);\" \n",
    " data-jupman-show=\"Mostra soluzione\" data-jupman-hide=\"Nascondi\">Mostra soluzione</a><div class=\"jupman-sol jupman-sol-code\" style=\"display:none\">  "
   ]
  },
  {
   "cell_type": "code",
   "execution_count": 40,
   "metadata": {},
   "outputs": [],
   "source": [
    "\n",
    "la = [7,6,8,5,6]\n",
    "\n",
    "# scrivi qui\n",
    "\n",
    "la.insert(3,88)\n",
    "la.insert(1,99)\n",
    "la.insert(1,77)\n",
    "la.insert(len(la),55)\n",
    "\n",
    "#print(la)"
   ]
  },
  {
   "cell_type": "raw",
   "id": "2900d0eb",
   "metadata": {
    "format": "text/html"
   },
   "source": [
    "</div>"
   ]
  },
  {
   "cell_type": "code",
   "execution_count": 40,
   "metadata": {},
   "outputs": [],
   "source": [
    "\n",
    "la = [7,6,8,5,6]\n",
    "\n",
    "# scrivi qui\n",
    "\n"
   ]
  },
  {
   "cell_type": "markdown",
   "metadata": {},
   "source": [
    "<div class=\"alert alert-warning\">\n",
    "\n",
    "**ATTENZIONE**: chiamare `insert` è molto più lento di `append` !!\n",
    "\n",
    "Una chiamata ad `insert` riscrive tutte le celle successive a quella dell'inserimento, mentre invece `append` aggiunge una cella e basta. Dato che il computer è veloce, molto spesso non ci si accorge della differenza, ma quando possibile, e specialemente se devi scrivere programmi che operano su grandi quantità di dati, prova a scrivere il codice usando `append` invece di `insert`.\n",
    "</div>"
   ]
  },
  {
   "cell_type": "markdown",
   "metadata": {},
   "source": [
    "### Esercizio - insappend\n",
    "\n",
    "Questo codice prende come input una lista vuota `la` e una lista di numeri `lb`. Cerca di capire cosa fa, e riscrivilo usando degli `append`."
   ]
  },
  {
   "cell_type": "code",
   "execution_count": 41,
   "metadata": {},
   "outputs": [
    {
     "name": "stdout",
     "output_type": "stream",
     "text": [
      "[16, 18, 12, 14]\n"
     ]
    }
   ],
   "source": [
    "la = []\n",
    "lb = [7,6,9,8]\n",
    "la.insert(0,lb[0]*2)\n",
    "la.insert(0,lb[1]*2)\n",
    "la.insert(0,lb[2]*2)\n",
    "la.insert(0,lb[3]*2)\n",
    "print(la)"
   ]
  },
  {
   "cell_type": "raw",
   "id": "f52ca7de",
   "metadata": {
    "format": "text/html"
   },
   "source": [
    "<a  class=\"jupman-sol jupman-sol-toggler\" \n",
    " onclick=\"jupman.toggleSolution(this);\" \n",
    " data-jupman-show=\"Mostra soluzione\" data-jupman-hide=\"Nascondi\">Mostra soluzione</a><div class=\"jupman-sol jupman-sol-code\" style=\"display:none\">  "
   ]
  },
  {
   "cell_type": "code",
   "execution_count": 42,
   "metadata": {},
   "outputs": [],
   "source": [
    "la = []\n",
    "lb = [7,6,9,8]\n",
    "\n",
    "# scrivi qui\n",
    "la.append(lb[-1]*2)\n",
    "la.append(lb[-2]*2)\n",
    "la.append(lb[-3]*2)\n",
    "la.append(lb[-4]*2)\n",
    "#print(la)"
   ]
  },
  {
   "cell_type": "raw",
   "id": "352b535d",
   "metadata": {
    "format": "text/html"
   },
   "source": [
    "</div>"
   ]
  },
  {
   "cell_type": "code",
   "execution_count": 42,
   "metadata": {},
   "outputs": [],
   "source": [
    "la = []\n",
    "lb = [7,6,9,8]\n",
    "\n",
    "# scrivi qui\n",
    "\n"
   ]
  },
  {
   "cell_type": "markdown",
   "metadata": {},
   "source": [
    "## Metodo pop\n",
    "\n",
    "Il metodo `pop` se chiamato senza argomenti rimuove l'ultimo elemento (MODIFICANDO la lista) e lo ritorna:"
   ]
  },
  {
   "cell_type": "code",
   "execution_count": 43,
   "metadata": {},
   "outputs": [],
   "source": [
    "cesta = ['melone','fragola', 'anguria']"
   ]
  },
  {
   "cell_type": "code",
   "execution_count": 44,
   "metadata": {},
   "outputs": [
    {
     "data": {
      "text/plain": [
       "'anguria'"
      ]
     },
     "execution_count": 44,
     "metadata": {},
     "output_type": "execute_result"
    }
   ],
   "source": [
    "cesta.pop()"
   ]
  },
  {
   "cell_type": "code",
   "execution_count": 45,
   "metadata": {},
   "outputs": [
    {
     "data": {
      "text/plain": [
       "['melone', 'fragola']"
      ]
     },
     "execution_count": 45,
     "metadata": {},
     "output_type": "execute_result"
    }
   ],
   "source": [
    "cesta"
   ]
  },
  {
   "cell_type": "code",
   "execution_count": 46,
   "metadata": {},
   "outputs": [
    {
     "data": {
      "text/plain": [
       "'fragola'"
      ]
     },
     "execution_count": 46,
     "metadata": {},
     "output_type": "execute_result"
    }
   ],
   "source": [
    "cesta.pop()"
   ]
  },
  {
   "cell_type": "code",
   "execution_count": 47,
   "metadata": {},
   "outputs": [
    {
     "data": {
      "text/plain": [
       "['melone']"
      ]
     },
     "execution_count": 47,
     "metadata": {},
     "output_type": "execute_result"
    }
   ],
   "source": [
    "cesta"
   ]
  },
  {
   "cell_type": "markdown",
   "metadata": {},
   "source": [
    "Visto che l'ultimo elemento è _ritornato_ dalla `pop`, possiamo assegnarlo ad una variabile:"
   ]
  },
  {
   "cell_type": "code",
   "execution_count": 48,
   "metadata": {},
   "outputs": [],
   "source": [
    "frutto = cesta.pop()"
   ]
  },
  {
   "cell_type": "markdown",
   "metadata": {},
   "source": [
    "Nota che non vediamo più nessun risultato stampato perchè l'elemento ritornato è stato assegnato alla variabile `frutto`:"
   ]
  },
  {
   "cell_type": "code",
   "execution_count": 49,
   "metadata": {},
   "outputs": [
    {
     "data": {
      "text/plain": [
       "'melone'"
      ]
     },
     "execution_count": 49,
     "metadata": {},
     "output_type": "execute_result"
    }
   ],
   "source": [
    "frutto"
   ]
  },
  {
   "cell_type": "markdown",
   "metadata": {},
   "source": [
    "Constatiamo anche che `cesta` è stata MODIFICATA:"
   ]
  },
  {
   "cell_type": "code",
   "execution_count": 50,
   "metadata": {},
   "outputs": [
    {
     "data": {
      "text/plain": [
       "[]"
      ]
     },
     "execution_count": 50,
     "metadata": {},
     "output_type": "execute_result"
    }
   ],
   "source": [
    "cesta"
   ]
  },
  {
   "cell_type": "markdown",
   "metadata": {},
   "source": [
    "Chiamare ulteriormente `pop` su una lista vuota genera un'errore:"
   ]
  },
  {
   "cell_type": "markdown",
   "metadata": {},
   "source": [
    "```python\n",
    "cesta.pop()\n",
    "---------------------------------------------------------------------------\n",
    "IndexError                                Traceback (most recent call last)\n",
    "<ipython-input-67-086f38c9fbc0> in <module>()\n",
    "----> 1 cesta.pop()\n",
    "\n",
    "IndexError: pop from empty list\n",
    "\n",
    "```"
   ]
  },
  {
   "cell_type": "code",
   "execution_count": null,
   "metadata": {},
   "outputs": [],
   "source": []
  },
  {
   "cell_type": "markdown",
   "metadata": {},
   "source": [
    "Opzionalmente, per rimuovere un elemento ad una specifica posizione possiamo passare a `pop` un indice da 0 INCLUSO alla lunghezza della lista ESCLUSA:"
   ]
  },
  {
   "cell_type": "code",
   "execution_count": 51,
   "metadata": {},
   "outputs": [],
   "source": [
    "#           0           1             2        3\n",
    "attrezzi = ['martello', 'cacciavite', 'pinza', 'martello']"
   ]
  },
  {
   "cell_type": "code",
   "execution_count": 52,
   "metadata": {},
   "outputs": [
    {
     "data": {
      "text/plain": [
       "'pinza'"
      ]
     },
     "execution_count": 52,
     "metadata": {},
     "output_type": "execute_result"
    }
   ],
   "source": [
    "attrezzi.pop(2)"
   ]
  },
  {
   "cell_type": "code",
   "execution_count": 53,
   "metadata": {},
   "outputs": [
    {
     "data": {
      "text/plain": [
       "['martello', 'cacciavite', 'martello']"
      ]
     },
     "execution_count": 53,
     "metadata": {},
     "output_type": "execute_result"
    }
   ],
   "source": [
    "attrezzi"
   ]
  },
  {
   "cell_type": "markdown",
   "metadata": {},
   "source": [
    "**DOMANDA**: Guarda i frammenti di codice seguenti, e per ciascuno cerca di indovinare che risultato produce (o se risulta in un errore).\n",
    "\n",
    "1.  ```python\n",
    "    la = ['a']\n",
    "    print(la.pop())\n",
    "    print(la.pop())\n",
    "    ```\n",
    "1.  ```python\n",
    "    la = [4,3,2,1]\n",
    "    print(la.pop(4))\n",
    "    print(la)\n",
    "    ```\n",
    "1.  ```python\n",
    "    la = [1,2,3,4]\n",
    "    print(la.pop(3))\n",
    "    print(la)\n",
    "    ```    \n",
    "1.  ```python\n",
    "    la = [1,2,3,4]\n",
    "    print(la.pop(-1))\n",
    "    print(la)\n",
    "    ```\n",
    "1.  ```python\n",
    "    s = 'grezzo'\n",
    "    print(s.pop())\n",
    "    print(s)\n",
    "    ```\n",
    "1.  ```python\n",
    "    la = ['molto', 'grezzo']\n",
    "    print(la.pop())\n",
    "    print(la)\n",
    "    ```\n",
    "1.  ```python\n",
    "    la = ['a', ['a']]\n",
    "    print(la.pop())\n",
    "    print(la)\n",
    "    ```"
   ]
  },
  {
   "cell_type": "markdown",
   "metadata": {},
   "source": [
    "### Esercizio - popcorn\n",
    "\n",
    "Data una lista `corn` di esattamente 4 caratteri, scrivi del codice che trasferisce in ordine inverso tutti i caratteri da `corn` ad un'altra lista `scatola` che inizialmente è vuota.\n",
    "\n",
    "- **NON** usare metodi come `reverse` o funzioni come `reversed`\n",
    "- Il tuo codice deve funzionare con _qualsiasi_ lista `corn` di 4 elementi \n",
    "\n",
    "Esempio - date:\n",
    "\n",
    "```python\n",
    "corn = ['t','o','r','o']\n",
    "scatola = []\n",
    "```\n",
    "\n",
    "dopo il tuo codice, deve risultare:\n",
    "\n",
    "```python\n",
    ">>> print(corn)\n",
    "[]\n",
    ">>> print(scatola)\n",
    "['o','r','o','t']\n",
    "```"
   ]
  },
  {
   "cell_type": "raw",
   "id": "a977c325",
   "metadata": {
    "format": "text/html"
   },
   "source": [
    "<a  class=\"jupman-sol jupman-sol-toggler\" \n",
    " onclick=\"jupman.toggleSolution(this);\" \n",
    " data-jupman-show=\"Mostra soluzione\" data-jupman-hide=\"Nascondi\">Mostra soluzione</a><div class=\"jupman-sol jupman-sol-code\" style=\"display:none\">  "
   ]
  },
  {
   "cell_type": "code",
   "execution_count": 54,
   "metadata": {},
   "outputs": [
    {
     "name": "stdout",
     "output_type": "stream",
     "text": [
      "['o', 'r', 'o', 't']\n"
     ]
    }
   ],
   "source": [
    "     \n",
    "corn = ['t','o','r','o']\n",
    "scatola = []\n",
    "\n",
    "# scrivi qui\n",
    "\n",
    "scatola.append(corn.pop())\n",
    "scatola.append(corn.pop())\n",
    "scatola.append(corn.pop())\n",
    "scatola.append(corn.pop())\n",
    "print(scatola)"
   ]
  },
  {
   "cell_type": "raw",
   "id": "08d23174",
   "metadata": {
    "format": "text/html"
   },
   "source": [
    "</div>"
   ]
  },
  {
   "cell_type": "code",
   "execution_count": 54,
   "metadata": {},
   "outputs": [
    {
     "name": "stdout",
     "output_type": "stream",
     "text": [
      "['o', 'r', 'o', 't']\n"
     ]
    }
   ],
   "source": [
    "     \n",
    "corn = ['t','o','r','o']\n",
    "scatola = []\n",
    "\n",
    "# scrivi qui\n",
    "\n"
   ]
  },
  {
   "cell_type": "markdown",
   "metadata": {},
   "source": [
    "### Esercizio - zonzo\n",
    "\n"
   ]
  },
  {
   "cell_type": "markdown",
   "metadata": {},
   "source": [
    "Data una lista `la` contenente dei caratteri, e una lista `lb` contente esattamente due posizioni  _ordinate in modo crescente_ , scrivi del codice che elimina da `la` i caratteri alle posizioni specificate in `lb`. \n",
    "\n",
    "* **ATTENZIONE**: chiamando la `pop` la prima volta MODIFICHERAI `la`, quindi l'indice del secondo elemento da eliminare andrà opportunamente aggiustato !\n",
    "* **NON** creare nuove liste, quindi niente righe che iniziano con `la = `\n",
    "* Il tuo codice deve funzionare per _qualsiasi_ `la`,  e _qualsiasi_ `lb` da due elementi\n",
    "\n",
    "\n",
    "Esempio - dati:\n",
    "\n",
    "```python\n",
    "#      0   1   2   3   4\n",
    "la = ['z','o','n','z','o']\n",
    "lb = [2,4]\n",
    "```\n",
    "\n",
    "alla posizione 2 in `la` troviamo la `n` e alla 4 la `o`, quindi dopo il tuo codice dovrà risultare:\n",
    "\n",
    "```python\n",
    ">>> print(la)\n",
    "['z', 'o', 'z']\n",
    "```"
   ]
  },
  {
   "cell_type": "raw",
   "id": "1c668ee8",
   "metadata": {
    "format": "text/html"
   },
   "source": [
    "<a  class=\"jupman-sol jupman-sol-toggler\" \n",
    " onclick=\"jupman.toggleSolution(this);\" \n",
    " data-jupman-show=\"Mostra soluzione\" data-jupman-hide=\"Nascondi\">Mostra soluzione</a><div class=\"jupman-sol jupman-sol-code\" style=\"display:none\">  "
   ]
  },
  {
   "cell_type": "code",
   "execution_count": 55,
   "metadata": {},
   "outputs": [
    {
     "data": {
      "text/plain": [
       "'o'"
      ]
     },
     "execution_count": 55,
     "metadata": {},
     "output_type": "execute_result"
    }
   ],
   "source": [
    "#      0   1   2   3   4\n",
    "la = ['z','o','n','z','o']\n",
    "lb = [2,4]\n",
    "\n",
    "# scrivi qui\n",
    "la.pop(lb[0])\n",
    "la.pop(lb[1]-1)\n",
    "#print(la)"
   ]
  },
  {
   "cell_type": "raw",
   "id": "e336c0d2",
   "metadata": {
    "format": "text/html"
   },
   "source": [
    "</div>"
   ]
  },
  {
   "cell_type": "code",
   "execution_count": 55,
   "metadata": {},
   "outputs": [
    {
     "data": {
      "text/plain": [
       "'o'"
      ]
     },
     "execution_count": 55,
     "metadata": {},
     "output_type": "execute_result"
    }
   ],
   "source": [
    "#      0   1   2   3   4\n",
    "la = ['z','o','n','z','o']\n",
    "lb = [2,4]\n",
    "\n",
    "# scrivi qui\n",
    "\n"
   ]
  },
  {
   "cell_type": "markdown",
   "metadata": {},
   "source": [
    "## Metodo reverse\n",
    "\n",
    "Il metodo `reverse` MODIFICA la lista su cui è chiamato invertendo l'ordine degli elementi.\n",
    "\n",
    "Vediamo un esempio: "
   ]
  },
  {
   "cell_type": "code",
   "execution_count": 56,
   "metadata": {},
   "outputs": [],
   "source": [
    "la = [7,6,8,4]"
   ]
  },
  {
   "cell_type": "code",
   "execution_count": 57,
   "metadata": {},
   "outputs": [],
   "source": [
    "la.reverse()"
   ]
  },
  {
   "cell_type": "code",
   "execution_count": 58,
   "metadata": {},
   "outputs": [
    {
     "data": {
      "text/plain": [
       "[4, 8, 6, 7]"
      ]
     },
     "execution_count": 58,
     "metadata": {},
     "output_type": "execute_result"
    }
   ],
   "source": [
    "la"
   ]
  },
  {
   "cell_type": "markdown",
   "metadata": {},
   "source": [
    "<div class=\"alert alert-warning\">\n",
    "\n",
    "**ATTENZIONE**: `reverse` **NON RITORNA NULLA!**\n",
    "\n",
    "Per essere precisi, ritorna `None`\n",
    "\n",
    "</div>"
   ]
  },
  {
   "cell_type": "code",
   "execution_count": 59,
   "metadata": {},
   "outputs": [],
   "source": [
    "lb = [7,6,8,4]"
   ]
  },
  {
   "cell_type": "code",
   "execution_count": 60,
   "metadata": {},
   "outputs": [],
   "source": [
    "x = lb.reverse()"
   ]
  },
  {
   "cell_type": "code",
   "execution_count": 61,
   "metadata": {},
   "outputs": [
    {
     "name": "stdout",
     "output_type": "stream",
     "text": [
      "None\n"
     ]
    }
   ],
   "source": [
    "print(x)"
   ]
  },
  {
   "cell_type": "code",
   "execution_count": 62,
   "metadata": {},
   "outputs": [
    {
     "name": "stdout",
     "output_type": "stream",
     "text": [
      "[4, 8, 6, 7]\n"
     ]
    }
   ],
   "source": [
    "print(lb)"
   ]
  },
  {
   "cell_type": "markdown",
   "metadata": {},
   "source": [
    "**DOMANDA**: Il codice seguente che effetto produce?\n",
    "\n",
    "```python\n",
    "s = \"transatlantico\"\n",
    "s.reverse()\n",
    "print(s)\n",
    "```\n",
    "\n",
    "1. un errore (quale?)\n",
    "2. stampa la stringa rovesciata "
   ]
  },
  {
   "cell_type": "raw",
   "id": "62c1a22d",
   "metadata": {
    "format": "text/html"
   },
   "source": [
    "<a  class=\"jupman-sol jupman-sol-toggler\" \n",
    " onclick=\"jupman.toggleSolution(this);\" \n",
    " data-jupman-show=\"Mostra risposta\" data-jupman-hide=\"Nascondi\">Mostra risposta</a><div class=\"jupman-sol jupman-sol-question\" style=\"display:none\">  "
   ]
  },
  {
   "cell_type": "markdown",
   "metadata": {},
   "source": [
    "**RISPOSTA**: `.reverse()` è un metodo presente SOLO nelle LISTE, quindi usandolo sulle stringhe stringhe si otterrà un errore. E c'è da attenderselo, visto che `reverse` MODIFICA l'oggetto su cui è chiamato e perchè le stringhe sono _immutabili_ nessun metodo delle stringhe può modificare la stringa su cui è chiamato."
   ]
  },
  {
   "cell_type": "raw",
   "id": "0521778a",
   "metadata": {
    "format": "text/html"
   },
   "source": [
    "</div>"
   ]
  },
  {
   "cell_type": "markdown",
   "metadata": {},
   "source": [
    "**DOMANDA**: Se `x` è una lista qualsiasi, che effetto produce il codice seguente?\n",
    "\n",
    "```python\n",
    "x.reverse().reverse()\n",
    "```\n",
    "1. cambia la lista (come?)\n",
    "2. non cambia la lista\n",
    "2. genera un errore (quale?)"
   ]
  },
  {
   "cell_type": "raw",
   "id": "7bd9e05f",
   "metadata": {
    "format": "text/html"
   },
   "source": [
    "<a  class=\"jupman-sol jupman-sol-toggler\" \n",
    " onclick=\"jupman.toggleSolution(this);\" \n",
    " data-jupman-show=\"Mostra risposta\" data-jupman-hide=\"Nascondi\">Mostra risposta</a><div class=\"jupman-sol jupman-sol-question\" style=\"display:none\">  "
   ]
  },
  {
   "cell_type": "markdown",
   "metadata": {},
   "source": [
    "**RISPOSTA**: La 3 - genera un errore, perchè `reverse()` ritorna `None` e `None` non essendo una lista non ha il metodo `reverse()`."
   ]
  },
  {
   "cell_type": "raw",
   "id": "beaa1fb0",
   "metadata": {
    "format": "text/html"
   },
   "source": [
    "</div>"
   ]
  },
  {
   "cell_type": "markdown",
   "metadata": {},
   "source": [
    "### Esercizio - come va?\n",
    "\n",
    "Scrivi del codice che date due liste `la` e `lb`, MODIFICA `la` aggiungendogli tutti gli elementi di `lb` e rovesciando poi l'intera lista. \n",
    "\n",
    "* il tuo codice deve funzionare per qualunque `la` e `lb`\n",
    "* **NON** modificare `lb`\n",
    "\n",
    "Esempio - dati: \n",
    "\n",
    "```python\n",
    "la = ['c','o','m','e']\n",
    "lb = ['v','a','?']\n",
    "```\n",
    "\n",
    "Dopo il tuo codice, deve stampare:\n",
    "\n",
    "```python\n",
    ">>> print('la=',la)\n",
    "la= ['?', 'a', 'v', 'e', 'm', 'o', 'c']\n",
    ">>> print('lb=',lb)\n",
    "lb= ['v', 'a', '?']\n",
    "```"
   ]
  },
  {
   "cell_type": "raw",
   "id": "bcb23f2f",
   "metadata": {
    "format": "text/html"
   },
   "source": [
    "<a  class=\"jupman-sol jupman-sol-toggler\" \n",
    " onclick=\"jupman.toggleSolution(this);\" \n",
    " data-jupman-show=\"Mostra soluzione\" data-jupman-hide=\"Nascondi\">Mostra soluzione</a><div class=\"jupman-sol jupman-sol-code\" style=\"display:none\">  "
   ]
  },
  {
   "cell_type": "code",
   "execution_count": 63,
   "metadata": {},
   "outputs": [],
   "source": [
    "la = ['c','o','m','e']\n",
    "lb = ['v','a','?']\n",
    "\n",
    "# scrivi qui\n",
    "la.extend(lb)\n",
    "la.reverse()\n",
    "#print('la=',la)\n",
    "#print('lb=',lb)"
   ]
  },
  {
   "cell_type": "raw",
   "id": "bb6e2323",
   "metadata": {
    "format": "text/html"
   },
   "source": [
    "</div>"
   ]
  },
  {
   "cell_type": "code",
   "execution_count": 63,
   "metadata": {},
   "outputs": [],
   "source": [
    "la = ['c','o','m','e']\n",
    "lb = ['v','a','?']\n",
    "\n",
    "# scrivi qui\n",
    "\n"
   ]
  },
  {
   "cell_type": "markdown",
   "metadata": {},
   "source": [
    "### Esercizio - cose preziose\n",
    "\n",
    "Date due liste `la` e `lb`, scrivi del codice che STAMPA una lista con gli elementi di `la` e `lb` in ordine invertito\n",
    "\n",
    "- **NON** modificare `la` e **NON** modificare `lb`\n",
    "- il tuo codice deve funzionare per qualsiasi lista `la` e `lb`\n",
    "\n",
    "Esempio - dati\n",
    "\n",
    "```python\n",
    "la = ['c', 'o', 's', 'e']\n",
    "lb = ['p', 'r', 'e', 'z', 'i', 'o', 's', 'e']\n",
    "```\n",
    "\n",
    "dopo il tuo codice deve stampare\n",
    "```python\n",
    "['e', 's', 'o', 'i', 'z', 'e', 'r', 'p', 'e', 's', 'o', 'c']\n",
    "```"
   ]
  },
  {
   "cell_type": "raw",
   "id": "5bfe1fdb",
   "metadata": {
    "format": "text/html"
   },
   "source": [
    "<a  class=\"jupman-sol jupman-sol-toggler\" \n",
    " onclick=\"jupman.toggleSolution(this);\" \n",
    " data-jupman-show=\"Mostra soluzione\" data-jupman-hide=\"Nascondi\">Mostra soluzione</a><div class=\"jupman-sol jupman-sol-code\" style=\"display:none\">  "
   ]
  },
  {
   "cell_type": "code",
   "execution_count": 64,
   "metadata": {},
   "outputs": [
    {
     "name": "stdout",
     "output_type": "stream",
     "text": [
      "['e', 's', 'o', 'i', 'z', 'e', 'r', 'p', 'e', 's', 'o', 'c']\n"
     ]
    }
   ],
   "source": [
    "la = ['c', 'o', 's', 'e']\n",
    "lb = ['p', 'r', 'e', 'z', 'i', 'o', 's', 'e']\n",
    "\n",
    "# scrivi qui\n",
    "lc = la + lb  # il + crea una NUOVA lista\n",
    "lc.reverse()\n",
    "print(lc)"
   ]
  },
  {
   "cell_type": "raw",
   "id": "e2497cf9",
   "metadata": {
    "format": "text/html"
   },
   "source": [
    "</div>"
   ]
  },
  {
   "cell_type": "code",
   "execution_count": 64,
   "metadata": {},
   "outputs": [
    {
     "name": "stdout",
     "output_type": "stream",
     "text": [
      "['e', 's', 'o', 'i', 'z', 'e', 'r', 'p', 'e', 's', 'o', 'c']\n"
     ]
    }
   ],
   "source": [
    "la = ['c', 'o', 's', 'e']\n",
    "lb = ['p', 'r', 'e', 'z', 'i', 'o', 's', 'e']\n",
    "\n",
    "# scrivi qui\n",
    "\n"
   ]
  },
  {
   "cell_type": "markdown",
   "metadata": {},
   "source": [
    "### Esercizio - potenze\n",
    "\n",
    "Il codice seguente usa degli `insert` che come già detto non sono molto efficienti. Cerca di capire cosa fa, e riscrivilo usando solo `append` e `reverse`\n",
    "\n",
    "* il tuo codice deve funzionare per qualsiasi valore di `x`"
   ]
  },
  {
   "cell_type": "code",
   "execution_count": 65,
   "metadata": {},
   "outputs": [
    {
     "name": "stdout",
     "output_type": "stream",
     "text": [
      "[32, 16, 8, 4, 2]\n"
     ]
    }
   ],
   "source": [
    "x = 2\n",
    "la = [x]\n",
    "la.insert(0,la[0]*2)\n",
    "la.insert(0,la[0]*2)\n",
    "la.insert(0,la[0]*2)\n",
    "la.insert(0,la[0]*2)\n",
    "print(la)"
   ]
  },
  {
   "cell_type": "raw",
   "id": "78ff098a",
   "metadata": {
    "format": "text/html"
   },
   "source": [
    "<a  class=\"jupman-sol jupman-sol-toggler\" \n",
    " onclick=\"jupman.toggleSolution(this);\" \n",
    " data-jupman-show=\"Mostra soluzione\" data-jupman-hide=\"Nascondi\">Mostra soluzione</a><div class=\"jupman-sol jupman-sol-code\" style=\"display:none\">  "
   ]
  },
  {
   "cell_type": "code",
   "execution_count": 66,
   "metadata": {},
   "outputs": [],
   "source": [
    "x = 2\n",
    "la = [x]\n",
    "\n",
    "# scrivi qui\n",
    "la.append(la[-1]*2)\n",
    "la.append(la[-1]*2)\n",
    "la.append(la[-1]*2)\n",
    "la.append(la[-1]*2)\n",
    "la.reverse()\n",
    "#print(la)"
   ]
  },
  {
   "cell_type": "raw",
   "id": "1f61d81a",
   "metadata": {
    "format": "text/html"
   },
   "source": [
    "</div>"
   ]
  },
  {
   "cell_type": "code",
   "execution_count": 66,
   "metadata": {},
   "outputs": [],
   "source": [
    "x = 2\n",
    "la = [x]\n",
    "\n",
    "# scrivi qui\n",
    "\n"
   ]
  },
  {
   "cell_type": "markdown",
   "metadata": {},
   "source": [
    "## Metodo sort\n",
    "\n"
   ]
  },
  {
   "cell_type": "markdown",
   "metadata": {},
   "source": [
    "Se una lista contiene elementi omogenei, è possibile ordinarla rapidamente con il metodo `sort`, che MODIFICA la lista su cui viene chiamato:"
   ]
  },
  {
   "cell_type": "code",
   "execution_count": 67,
   "metadata": {},
   "outputs": [],
   "source": [
    "la = [8,6,7,9]"
   ]
  },
  {
   "cell_type": "code",
   "execution_count": 68,
   "metadata": {},
   "outputs": [],
   "source": [
    "la.sort()  # NOTA: sort non ritorna nulla !!!"
   ]
  },
  {
   "cell_type": "code",
   "execution_count": 69,
   "metadata": {},
   "outputs": [
    {
     "data": {
      "text/plain": [
       "[6, 7, 8, 9]"
      ]
     },
     "execution_count": 69,
     "metadata": {},
     "output_type": "execute_result"
    }
   ],
   "source": [
    "la"
   ]
  },
  {
   "cell_type": "markdown",
   "metadata": {},
   "source": [
    "Anche le stringhe sono ordinabili: "
   ]
  },
  {
   "cell_type": "code",
   "execution_count": 70,
   "metadata": {},
   "outputs": [],
   "source": [
    "lb = ['Boccaccio', 'Alighieri', 'Manzoni', 'Leopardi']"
   ]
  },
  {
   "cell_type": "code",
   "execution_count": 71,
   "metadata": {},
   "outputs": [],
   "source": [
    "lb.sort()"
   ]
  },
  {
   "cell_type": "code",
   "execution_count": 72,
   "metadata": {},
   "outputs": [
    {
     "data": {
      "text/plain": [
       "['Alighieri', 'Boccaccio', 'Leopardi', 'Manzoni']"
      ]
     },
     "execution_count": 72,
     "metadata": {},
     "output_type": "execute_result"
    }
   ],
   "source": [
    "lb"
   ]
  },
  {
   "cell_type": "markdown",
   "metadata": {},
   "source": [
    "Una lista con elementi non comparabili tra loro non è ordinabile, e Python si lamenterà:"
   ]
  },
  {
   "cell_type": "code",
   "execution_count": 73,
   "metadata": {},
   "outputs": [],
   "source": [
    "lc = [3,4,'cavoli',7,'patate']"
   ]
  },
  {
   "cell_type": "markdown",
   "metadata": {},
   "source": [
    "```python\n",
    ">>> lc.sort()\n",
    "\n",
    "---------------------------------------------------------------------------\n",
    "TypeError                                 Traceback (most recent call last)\n",
    "<ipython-input-288-0cabfae30939> in <module>\n",
    "----> 1 lc.sort()\n",
    "\n",
    "TypeError: '<' not supported between instances of 'str' and 'int'\n",
    "\n",
    "```"
   ]
  },
  {
   "cell_type": "markdown",
   "metadata": {},
   "source": [
    "### Esercizio - numlist\n",
    "\n",
    "Data la lista `la = [10, 60, 72, 118, 11, 71, 56, 89, 120, 175]` \n",
    "\n",
    "1. trova il min, max e valore mediano (SUGGERIMENTO: ordinala ed estrai i giusti valori)\n",
    "2. crea una lista solo con gli elementi a indici pari (per es [10, 72, 11, ..], nota che \"..\" indica che lista non è completa !) e ricalcola i valori di min, max e mediana\n",
    "3. rifai lo stesso con gli elementi ad indici dispari (per es [60, 118,..])\n",
    "\n",
    "Dovresti ottenere:\n",
    "\n",
    "```bash\n",
    "la: [10, 60, 72, 118, 11, 71, 56, 89, 120, 175]\n",
    "pari: [10, 72, 11, 56, 120]\n",
    "dispari: [60, 118, 71, 89, 175]\n",
    "\n",
    "ordinati:   [10, 11, 56, 60, 71, 72, 89, 118, 120, 175]\n",
    "ordinati pari:   [10, 11, 56, 72, 120]\n",
    "ordinati dispari:   [60, 71, 89, 118, 175]\n",
    "\n",
    "la: Min:  10  Max. 175  Median:  72\n",
    "pari: Min:  10  Max. 120  Median:  56\n",
    "dispari: Min:  60  Max. 175  Median:  89\n",
    "\n",
    "```"
   ]
  },
  {
   "cell_type": "raw",
   "id": "8de2d6a9",
   "metadata": {
    "format": "text/html"
   },
   "source": [
    "<a  class=\"jupman-sol jupman-sol-toggler\" \n",
    " onclick=\"jupman.toggleSolution(this);\" \n",
    " data-jupman-show=\"Mostra soluzione\" data-jupman-hide=\"Nascondi\">Mostra soluzione</a><div class=\"jupman-sol jupman-sol-code\" style=\"display:none\">  "
   ]
  },
  {
   "cell_type": "code",
   "execution_count": 74,
   "metadata": {
    "scrolled": true
   },
   "outputs": [
    {
     "name": "stdout",
     "output_type": "stream",
     "text": [
      "originale: [10, 60, 72, 118, 11, 71, 56, 89, 120, 175]\n",
      "pari: [10, 72, 11, 56, 120]\n",
      "dispari: [60, 118, 71, 89, 175]\n",
      "\n",
      "ordinata:   [10, 11, 56, 60, 71, 72, 89, 118, 120, 175]\n",
      "ordinata pari:   [10, 11, 56, 72, 120]\n",
      "ordinata dispari:   [60, 71, 89, 118, 175]\n",
      "\n",
      "originale: Min:  10  Max. 175  Median:  72\n",
      "pari: Min:  10  Max. 120  Median:  56\n",
      "dispari: Min:  60  Max. 175  Median:  89\n"
     ]
    }
   ],
   "source": [
    "\n",
    "\n",
    "la = [10, 60, 72, 118, 11, 71, 56, 89, 120, 175]\n",
    "\n",
    "# scrivi qui\n",
    "\n",
    "pari = la[0::2]    # prendiamo solo elementi ad indici pari\n",
    "dispari = la[1::2] # prendiamo solo elementi ad indici dispari\n",
    "\n",
    "print(\"originale:\" , la)\n",
    "print(\"pari:\", pari)\n",
    "print(\"dispari:\", dispari)\n",
    "\n",
    "la.sort()\n",
    "pari.sort()\n",
    "dispari.sort()\n",
    "\n",
    "print()\n",
    "print(\"ordinata:  \" , la)\n",
    "print(\"ordinata pari:  \" , pari)\n",
    "print(\"ordinata dispari:  \" , dispari)\n",
    "print()\n",
    "print(\"originale: Min: \", la[0], \" Max.\" , la[-1], \" Median: \", la[len(la) // 2])\n",
    "print(\"pari: Min: \", pari[0], \" Max.\" , pari[-1], \" Median: \", pari[len(pari) // 2])\n",
    "print(\"dispari: Min: \", dispari[0], \" Max.\" , dispari[-1], \" Median: \", dispari[len(dispari) // 2])"
   ]
  },
  {
   "cell_type": "raw",
   "id": "95fee046",
   "metadata": {
    "format": "text/html"
   },
   "source": [
    "</div>"
   ]
  },
  {
   "cell_type": "code",
   "execution_count": 74,
   "metadata": {
    "scrolled": true
   },
   "outputs": [],
   "source": [
    "\n",
    "\n",
    "la = [10, 60, 72, 118, 11, 71, 56, 89, 120, 175]\n",
    "\n",
    "# scrivi qui\n",
    "\n"
   ]
  },
  {
   "cell_type": "markdown",
   "metadata": {},
   "source": [
    "## Metodo join - da liste a stringhe\n",
    "\n",
    "Data una stringa che funge da separatore, e una sequenza come per esempio una lista `la` contenente solo stringhe, è possibile  concatenarle in una sola stringa (nuova) con il metodo `join`:"
   ]
  },
  {
   "cell_type": "code",
   "execution_count": 75,
   "metadata": {},
   "outputs": [
    {
     "data": {
      "text/plain": [
       "'QuandoSEPARATOREfuoriSEPARATOREpiove'"
      ]
     },
     "execution_count": 75,
     "metadata": {},
     "output_type": "execute_result"
    }
   ],
   "source": [
    "la = ['Quando', 'fuori', 'piove']\n",
    "\n",
    "'SEPARATORE'.join(la)"
   ]
  },
  {
   "cell_type": "markdown",
   "metadata": {},
   "source": [
    "Come separatore possiamo mettere qualunque carattere, come uno spazio:"
   ]
  },
  {
   "cell_type": "code",
   "execution_count": 76,
   "metadata": {},
   "outputs": [
    {
     "data": {
      "text/plain": [
       "'Quando fuori piove'"
      ]
     },
     "execution_count": 76,
     "metadata": {},
     "output_type": "execute_result"
    }
   ],
   "source": [
    "' '.join(la)  "
   ]
  },
  {
   "cell_type": "markdown",
   "metadata": {},
   "source": [
    "Nota che la lista originale non viene modificata: "
   ]
  },
  {
   "cell_type": "code",
   "execution_count": 77,
   "metadata": {},
   "outputs": [
    {
     "data": {
      "text/plain": [
       "['Quando', 'fuori', 'piove']"
      ]
     },
     "execution_count": 77,
     "metadata": {},
     "output_type": "execute_result"
    }
   ],
   "source": [
    "la"
   ]
  },
  {
   "cell_type": "markdown",
   "metadata": {},
   "source": [
    "**DOMANDA**: Questo codice cosa produce?\n",
    "\n",
    "```python\n",
    "''.join(['a','b','c']).upper()\n",
    "```\n",
    "\n",
    "1. un errore (quale?)\n",
    "2. una stringa (quale?)\n",
    "3. una lista (quale?)"
   ]
  },
  {
   "cell_type": "raw",
   "id": "09b76550",
   "metadata": {
    "format": "text/html"
   },
   "source": [
    "<a  class=\"jupman-sol jupman-sol-toggler\" \n",
    " onclick=\"jupman.toggleSolution(this);\" \n",
    " data-jupman-show=\"Mostra risposta\" data-jupman-hide=\"Nascondi\">Mostra risposta</a><div class=\"jupman-sol jupman-sol-question\" style=\"display:none\">  "
   ]
  },
  {
   "cell_type": "markdown",
   "metadata": {},
   "source": [
    "**RISPOSTA**: La 2: produce la stringa `'ABC'`: prima prende tutti i caratteri dalla lista `['a','b','c']` e li unisce separandoli con lo spazio vuoto `''` formando `'abc'`, poi questa stringa viene resa tutta maiuscola con `upper()`."
   ]
  },
  {
   "cell_type": "raw",
   "id": "4198e9a6",
   "metadata": {
    "format": "text/html"
   },
   "source": [
    "</div>"
   ]
  },
  {
   "cell_type": "markdown",
   "metadata": {},
   "source": [
    "**DOMANDA**: Questa codice cosa produce?\n",
    "\n",
    "```python\n",
    "'A'.join('porto')\n",
    "```\n",
    "\n",
    "1. una stringa (quale?)\n",
    "2. un errore (quale?)\n",
    "3. una lista (quale?)"
   ]
  },
  {
   "cell_type": "raw",
   "id": "a5fe3ef9",
   "metadata": {
    "format": "text/html"
   },
   "source": [
    "<a  class=\"jupman-sol jupman-sol-toggler\" \n",
    " onclick=\"jupman.toggleSolution(this);\" \n",
    " data-jupman-show=\"Mostra risposta\" data-jupman-hide=\"Nascondi\">Mostra risposta</a><div class=\"jupman-sol jupman-sol-question\" style=\"display:none\">  "
   ]
  },
  {
   "cell_type": "markdown",
   "metadata": {},
   "source": [
    "**RISPOSTA**: la 1: produce la stringa `'pAoArAtAo'` - abbiamo detto che `join` prende come input una sequenza, quindi non siamo vincolati a passargli liste ma possiamo anche passare direttamente una stringa, che è una sequenza di caratteri. `join` intervallerà quindi ogni carattere della stringa con il separatore che forniamo prima del punto."
   ]
  },
  {
   "cell_type": "raw",
   "id": "0345b5e2",
   "metadata": {
    "format": "text/html"
   },
   "source": [
    "</div>"
   ]
  },
  {
   "cell_type": "markdown",
   "metadata": {},
   "source": [
    "**DOMANDA**: Questo codice cosa produce?\n",
    "\n",
    "```python\n",
    "\n",
    "'\\''.join('mmmm')\n",
    "```\n",
    "\n",
    "1. un errore (quale?)\n",
    "2. una stringa (quale?)"
   ]
  },
  {
   "cell_type": "raw",
   "id": "bca74327",
   "metadata": {
    "format": "text/html"
   },
   "source": [
    "<a  class=\"jupman-sol jupman-sol-toggler\" \n",
    " onclick=\"jupman.toggleSolution(this);\" \n",
    " data-jupman-show=\"Mostra risposta\" data-jupman-hide=\"Nascondi\">Mostra risposta</a><div class=\"jupman-sol jupman-sol-question\" style=\"display:none\">  "
   ]
  },
  {
   "cell_type": "markdown",
   "metadata": {},
   "source": [
    "**RISPOSTA**: La 2: `\\'` è una sequenza di escape che rappresenta il carattere singolo apice `'`, quindi otterremo `m'm'm'm`"
   ]
  },
  {
   "cell_type": "raw",
   "id": "6a0ae8c7",
   "metadata": {
    "format": "text/html"
   },
   "source": [
    "</div>"
   ]
  },
  {
   "cell_type": "markdown",
   "metadata": {},
   "source": [
    "**DOMANDA**: Data una stringa qualsiasi `s` e una lista di stringhe qualsiasi `la` di almeno due elementi, il seguente codice darà sempre lo stesso risultato - quale ? (pensaci, e se non sai rispondere prova a mettere dei valori a caso di `s` e `la`)\n",
    "\n",
    "```python\n",
    "len(s) <= len(s.join(la))\n",
    "```\n",
    "1. un errore (quale?)\n",
    "2. una stringa (quale?)\n",
    "3. altro (cosa?)"
   ]
  },
  {
   "cell_type": "raw",
   "id": "03c36b44",
   "metadata": {
    "format": "text/html"
   },
   "source": [
    "<a  class=\"jupman-sol jupman-sol-toggler\" \n",
    " onclick=\"jupman.toggleSolution(this);\" \n",
    " data-jupman-show=\"Mostra risposta\" data-jupman-hide=\"Nascondi\">Mostra risposta</a><div class=\"jupman-sol jupman-sol-question\" style=\"display:none\">  "
   ]
  },
  {
   "cell_type": "markdown",
   "metadata": {},
   "source": [
    "**RISPOSTA**: La 3: il codice produrrà sempre il booleano `True` perchè `s.join(la)` produce una stringa contenente tutte le stringhe in `la` intervallate dalla stringa `s`. Quindi la lunghezza di questa stringa sarà sempre uguale o superiore alla lunghezza di `s`: comparando le due lunghezze con l'operatore `<=` otterremo sempre il booleano `True`.\n",
    "\n",
    "Esempio\n",
    "\n",
    "```python\n",
    "s = \"ab\"\n",
    "la = ['uief','cb','sd']\n",
    "len(s) <= len(s.join(la))\n",
    "```"
   ]
  },
  {
   "cell_type": "raw",
   "id": "fd513244",
   "metadata": {
    "format": "text/html"
   },
   "source": [
    "</div>"
   ]
  },
  {
   "cell_type": "markdown",
   "metadata": {},
   "source": [
    "### Esercizio - barzoletta\n",
    "\n"
   ]
  },
  {
   "cell_type": "markdown",
   "metadata": {},
   "source": [
    "Data la stringa:\n",
    "\n",
    "```python\n",
    "sa = 'barzoletta'\n",
    "```\n",
    "\n",
    "scrivi del codice che crea una NUOVA stringa `sb` cambiando la stringa originale in modo che risulti:\n",
    "\n",
    "```python\n",
    ">>> print(sb)\n",
    "'barzelletta'\n",
    "```\n",
    "\n",
    "* **USA** il metodo `insert` e riassegnazione di celle\n",
    "* **NOTA**: non puoi usarle su una stringa, perchè è IMMUTABILE - dovrai quindi prima convertire la stringa in una lista"
   ]
  },
  {
   "cell_type": "raw",
   "id": "b2663981",
   "metadata": {
    "format": "text/html"
   },
   "source": [
    "<a  class=\"jupman-sol jupman-sol-toggler\" \n",
    " onclick=\"jupman.toggleSolution(this);\" \n",
    " data-jupman-show=\"Mostra soluzione\" data-jupman-hide=\"Nascondi\">Mostra soluzione</a><div class=\"jupman-sol jupman-sol-code\" style=\"display:none\">  "
   ]
  },
  {
   "cell_type": "code",
   "execution_count": 78,
   "metadata": {},
   "outputs": [
    {
     "name": "stdout",
     "output_type": "stream",
     "text": [
      "barzelletta\n"
     ]
    }
   ],
   "source": [
    "\n",
    "\n",
    "sa = 'barzoletta'\n",
    "\n",
    "# scrivi qui\n",
    "\n",
    "la = list(sa)\n",
    "la[4] = 'e'\n",
    "la.insert(5,'l')\n",
    "sb = ''.join(la)\n",
    "print(sb)"
   ]
  },
  {
   "cell_type": "raw",
   "id": "54ca88e6",
   "metadata": {
    "format": "text/html"
   },
   "source": [
    "</div>"
   ]
  },
  {
   "cell_type": "code",
   "execution_count": 78,
   "metadata": {},
   "outputs": [],
   "source": [
    "\n",
    "\n",
    "sa = 'barzoletta'\n",
    "\n",
    "# scrivi qui\n",
    "\n"
   ]
  },
  {
   "cell_type": "markdown",
   "metadata": {},
   "source": [
    "### Esercizio - dub dab dib dob\n",
    "\n",
    "\n",
    "Scrivi del codice che data una lista di stringhe `la`, associa alla variabile `s` una stringa con le stringhe concatenate separate da virgole e uno spazio\n",
    "\n",
    "Esempio: \n",
    "\n",
    "Data\n",
    "\n",
    "`la = ['dub', 'dab','dib', 'dob']`\n",
    "\n",
    "dopo il tuo codice, dovresti ottenere questi risultati:\n",
    "\n",
    "```python\n",
    ">>> print(s)\n",
    "dub, dab, dib, dob\n",
    ">>> len(s)\n",
    "18\n",
    "```"
   ]
  },
  {
   "cell_type": "raw",
   "id": "e695b4b6",
   "metadata": {
    "format": "text/html"
   },
   "source": [
    "<a  class=\"jupman-sol jupman-sol-toggler\" \n",
    " onclick=\"jupman.toggleSolution(this);\" \n",
    " data-jupman-show=\"Mostra soluzione\" data-jupman-hide=\"Nascondi\">Mostra soluzione</a><div class=\"jupman-sol jupman-sol-code\" style=\"display:none\">  "
   ]
  },
  {
   "cell_type": "code",
   "execution_count": 79,
   "metadata": {},
   "outputs": [],
   "source": [
    "la = ['dub', 'dab','dib', 'dob']\n",
    "\n",
    "# scrivi qui\n",
    "\n",
    "s = ', '.join(la)\n",
    "\n",
    "#print(s)\n",
    "#len(s)"
   ]
  },
  {
   "cell_type": "raw",
   "id": "256a3615",
   "metadata": {
    "format": "text/html"
   },
   "source": [
    "</div>"
   ]
  },
  {
   "cell_type": "code",
   "execution_count": 79,
   "metadata": {},
   "outputs": [],
   "source": [
    "la = ['dub', 'dab','dib', 'dob']\n",
    "\n",
    "# scrivi qui\n",
    "\n"
   ]
  },
  {
   "cell_type": "markdown",
   "metadata": {},
   "source": [
    "### Esercizio - ghirigori\n",
    "\n",
    "Data una lista di stringhe `la` e una lista di tre separatori `seps`, scrivi del codice che stampa gli elementi di `la` separati dal primo separatore, seguiti dal secondo separatore, seguiti dagli elementi di `la` separati dal terzo separatore.\n",
    "\n",
    "* il tuo codice deve funzionare con qualunque lista `la` e `seps` \n",
    "\n",
    "Esempio: dati\n",
    "\n",
    "```python\n",
    "la = ['ghi','ri','go','ri']\n",
    "seps = [',','_','+']\n",
    "```\n",
    "\n",
    "Dopo il tuo codice, deve stampare:\n",
    "\n",
    "```\n",
    "ghi,ri,go,ri_ghi+ri+go+ri\n",
    "```"
   ]
  },
  {
   "cell_type": "raw",
   "id": "f8c7773e",
   "metadata": {
    "format": "text/html"
   },
   "source": [
    "<a  class=\"jupman-sol jupman-sol-toggler\" \n",
    " onclick=\"jupman.toggleSolution(this);\" \n",
    " data-jupman-show=\"Mostra soluzione\" data-jupman-hide=\"Nascondi\">Mostra soluzione</a><div class=\"jupman-sol jupman-sol-code\" style=\"display:none\">  "
   ]
  },
  {
   "cell_type": "code",
   "execution_count": 80,
   "metadata": {},
   "outputs": [],
   "source": [
    "la = ['ghi','ri','go','ri']\n",
    "seps = [',','_','+']\n",
    "\n",
    "# scrivi qui\n",
    "\n",
    "#print(seps[0].join(la) + seps[1] + seps[2].join(la))\n"
   ]
  },
  {
   "cell_type": "raw",
   "id": "af2be0d1",
   "metadata": {
    "format": "text/html"
   },
   "source": [
    "</div>"
   ]
  },
  {
   "cell_type": "code",
   "execution_count": 80,
   "metadata": {},
   "outputs": [],
   "source": [
    "la = ['ghi','ri','go','ri']\n",
    "seps = [',','_','+']\n",
    "\n",
    "# scrivi qui\n",
    "\n"
   ]
  },
  {
   "cell_type": "markdown",
   "metadata": {},
   "source": [
    "### Esercizio - welldone \n",
    "\n",
    "Data la lista\n",
    "\n",
    "```python\n",
    "la = [\"walnut\", \"eggplant\", \"lemon\", \"lime\", \"date\", \"onion\", \"nectarine\", \"endive\" ]: \n",
    "```\n",
    "\n",
    "1. Crea un'altra lista (chiamala `nuova`) contenente il primo carattere di ogni elemento di `la`\n",
    "2. Aggiungi uno spazio a `nuova` all aposizione 4 e attacca un punto esclamativo (`'!'`) alla fine\n",
    "3. Stampa la lista\n",
    "4. Stampa il contenuto della lista unendo tutti gli elementi con uno spazio vuoto (per es usa il metodo `join`: `\"\".join(nuova)`)\n",
    "\n",
    "Dovresti ottenere:\n",
    "\n",
    "\n",
    "```\n",
    "['w', 'e', 'l', 'l', ' ', 'd', 'o', 'n', 'e', '!']\n",
    "\n",
    " well done!\n",
    "```\n"
   ]
  },
  {
   "cell_type": "raw",
   "id": "1b37cc6f",
   "metadata": {
    "format": "text/html"
   },
   "source": [
    "<a  class=\"jupman-sol jupman-sol-toggler\" \n",
    " onclick=\"jupman.toggleSolution(this);\" \n",
    " data-jupman-show=\"Mostra soluzione\" data-jupman-hide=\"Nascondi\">Mostra soluzione</a><div class=\"jupman-sol jupman-sol-code\" style=\"display:none\">  "
   ]
  },
  {
   "cell_type": "code",
   "execution_count": 81,
   "metadata": {},
   "outputs": [
    {
     "name": "stdout",
     "output_type": "stream",
     "text": [
      "['w', 'e', 'l', 'l', ' ', 'd', 'o', 'n', 'e', '!']\n",
      "\n",
      " well done!\n"
     ]
    }
   ],
   "source": [
    "la = [\"walnut\", \"eggplant\", \"lemon\", \"lime\", \"date\", \"onion\", \"nectarine\", \"endive\" ]\n",
    "\n",
    "# scrivi qui\n",
    "\n",
    "nuova = []\n",
    "nuova.append(la[0][0])\n",
    "nuova.append(la[1][0])\n",
    "nuova.append(la[2][0])\n",
    "nuova.append(la[3][0])\n",
    "nuova.append(la[4][0])\n",
    "nuova.append(la[5][0])\n",
    "nuova.append(la[6][0])\n",
    "nuova.append(la[7][0])\n",
    "\n",
    "nuova.insert(4,\" \")\n",
    "nuova.append(\"!\")\n",
    "\n",
    "print(nuova)\n",
    "print(\"\\n\", \"\".join(nuova))"
   ]
  },
  {
   "cell_type": "raw",
   "id": "ba24ea71",
   "metadata": {
    "format": "text/html"
   },
   "source": [
    "</div>"
   ]
  },
  {
   "cell_type": "code",
   "execution_count": 81,
   "metadata": {},
   "outputs": [
    {
     "name": "stdout",
     "output_type": "stream",
     "text": [
      "['w', 'e', 'l', 'l', ' ', 'd', 'o', 'n', 'e', '!']\n",
      "\n",
      " well done!\n"
     ]
    }
   ],
   "source": [
    "la = [\"walnut\", \"eggplant\", \"lemon\", \"lime\", \"date\", \"onion\", \"nectarine\", \"endive\" ]\n",
    "\n",
    "# scrivi qui\n",
    "\n"
   ]
  },
  {
   "cell_type": "markdown",
   "metadata": {},
   "source": [
    "## Metodo split - da stringhe a liste\n",
    "\n",
    "Il metodo `split` delle stringhe fa l'opposto di `join`: viene chiamato su una stringa e come parametro viene passato un separatore, che può essere un singolo carattere o una sottostringa. Il risultato è una lista di stringhe senza il separatore. "
   ]
  },
  {
   "cell_type": "code",
   "execution_count": 82,
   "metadata": {},
   "outputs": [
    {
     "data": {
      "text/plain": [
       "[\"E' giunto \", ' momento di dividere ', ' tesoro']"
      ]
     },
     "execution_count": 82,
     "metadata": {},
     "output_type": "execute_result"
    }
   ],
   "source": [
    "\"E' giunto il momento di dividere il tesoro\".split(\"il\")"
   ]
  },
  {
   "cell_type": "markdown",
   "metadata": {},
   "source": [
    "Chiamando `split` senza argomenti come separatori vengono usati in genere i _blank_ (spazio, a capo `\\n`, tab `\\t` , etc)"
   ]
  },
  {
   "cell_type": "code",
   "execution_count": 83,
   "metadata": {},
   "outputs": [
    {
     "name": "stdout",
     "output_type": "stream",
     "text": [
      "E' giunto il\n",
      "momento di    dividere\til tesoro\n"
     ]
    }
   ],
   "source": [
    "s = \"E' giunto il\\nmomento di    dividere\\til tesoro\"\n",
    "print(s)"
   ]
  },
  {
   "cell_type": "code",
   "execution_count": 84,
   "metadata": {},
   "outputs": [
    {
     "data": {
      "text/plain": [
       "[\"E'\", 'giunto', 'il', 'momento', 'di', 'dividere', 'il', 'tesoro']"
      ]
     },
     "execution_count": 84,
     "metadata": {},
     "output_type": "execute_result"
    }
   ],
   "source": [
    "s.split()"
   ]
  },
  {
   "cell_type": "markdown",
   "metadata": {},
   "source": [
    "E' anche possibile limitare il numero di elementi da dividere specificando l'argomento `maxsplit`:"
   ]
  },
  {
   "cell_type": "code",
   "execution_count": 85,
   "metadata": {},
   "outputs": [
    {
     "data": {
      "text/plain": [
       "[\"E'\", 'giunto', 'il\\nmomento di    dividere\\til tesoro']"
      ]
     },
     "execution_count": 85,
     "metadata": {},
     "output_type": "execute_result"
    }
   ],
   "source": [
    "s.split(maxsplit=2)"
   ]
  },
  {
   "cell_type": "markdown",
   "metadata": {},
   "source": [
    "<div class=\"alert alert-warning\">\n",
    "    \n",
    "**ATTENZIONE**: Che succede se la lista _non_ contiene il separatore? Ricordati di considerare anche questo caso!\n",
    "</div>"
   ]
  },
  {
   "cell_type": "code",
   "execution_count": 86,
   "metadata": {},
   "outputs": [
    {
     "data": {
      "text/plain": [
       "['Parlo e straparlo senza mai fare una pausa']"
      ]
     },
     "execution_count": 86,
     "metadata": {},
     "output_type": "execute_result"
    }
   ],
   "source": [
    "\"Parlo e straparlo senza mai fare una pausa\".split(',')"
   ]
  },
  {
   "cell_type": "markdown",
   "metadata": {},
   "source": [
    "**DOMANDA**: Guarda questo codice. Stamperà qualcosa alla fine? O produrrà un errore?"
   ]
  },
  {
   "cell_type": "markdown",
   "metadata": {},
   "source": [
    "1.  ```python\n",
    "    \"porta\\tgirevole\".split()\n",
    "    ```\n",
    "1.  ```python\n",
    "    \"porre particolare\\t\\nattenzione\".split()\n",
    "    ```\n",
    "1.  ```python\n",
    "    \"non ti\\tscordar\\ndi\\tme\".split('\\t')\n",
    "    ```    \n",
    "1.  ```python\n",
    "    \"non ti scordar\\ndi\\tme\".split(' ')\n",
    "    ```\n",
    "1.  ```python\n",
    "    \"Il Guardiano dell'Abisso ci osservava minaccioso\".split('abisso')[1]\n",
    "    ```    \n",
    "1.  ```python\n",
    "    \"\".split('abisso')[0]\n",
    "    ```    \n",
    "1.  ```python\n",
    "    \"abisso_OOOO_abisso\".split('abisso')[0]\n",
    "    ```"
   ]
  },
  {
   "cell_type": "markdown",
   "metadata": {},
   "source": [
    "### Esercizio - trash dance\n",
    "\n",
    "Ti hanno ingaggiato per ballare nell'ultimo video della nota band _Spazzatura Melodica_. Non puoi perdere questa occasione e ti lanci a leggere la partitura, ma la trovi piena di errori (gli Spazzatura non hanno certo bisogno di saper scrivere spartiti per andare in tv). Ci sono strani simboli e l'ultima battuta è troppo lunga (dopo la sesta battuta) e va messa una riga alla volta. Scrivi del codice che sistema la partitura in una lista `dance`\n",
    "\n",
    "Esempio - data:\n",
    "\n",
    "```python\n",
    "musica = \"Zam Dam\\tZa Bum Bum\\tZam\\tBam To Tum\\tRa Ta Pam\\tBar Ra\\tRammaGumma  Unza\\n\\t\\nTACAUACA \\n BOOMBOOM!\"\n",
    "```\n",
    "\n",
    "dopo il tuo codice deve risultare:\n",
    "\n",
    "```python\n",
    ">>> print(dance)\n",
    "['Zam Dam',\n",
    " 'Za Bum Bum',\n",
    " 'Zam',\n",
    " 'Bam To Tum',\n",
    " 'Ra Ta Pam',\n",
    " 'Bar Ra',\n",
    " 'RammaGumma',\n",
    " 'Unza',\n",
    " 'TACAUACA',\n",
    " 'BOOMBOOM!']\n",
    "```\n"
   ]
  },
  {
   "cell_type": "raw",
   "id": "0adead64",
   "metadata": {
    "format": "text/html"
   },
   "source": [
    "<a  class=\"jupman-sol jupman-sol-toggler\" \n",
    " onclick=\"jupman.toggleSolution(this);\" \n",
    " data-jupman-show=\"Mostra soluzione\" data-jupman-hide=\"Nascondi\">Mostra soluzione</a><div class=\"jupman-sol jupman-sol-code\" style=\"display:none\">  "
   ]
  },
  {
   "cell_type": "code",
   "execution_count": 87,
   "metadata": {},
   "outputs": [
    {
     "data": {
      "text/plain": [
       "['Zam Dam',\n",
       " 'Za Bum Bum',\n",
       " 'Zam',\n",
       " 'Bam To Tum',\n",
       " 'Ra Ta Pam',\n",
       " 'Bar Ra',\n",
       " 'RammaGumma',\n",
       " 'Unza',\n",
       " 'TACAUACA',\n",
       " 'BOOMBOOM!']"
      ]
     },
     "execution_count": 87,
     "metadata": {},
     "output_type": "execute_result"
    }
   ],
   "source": [
    "\n",
    "\n",
    "musica = \"Zam Dam\\tZa Bum Bum\\tZam\\tBam To Tum\\tRa Ta Pam\\tBar Ra\\tRammaGumma  Unza\\n\\t\\nTACAUACA \\n BOOMBOOM!\"\n",
    "\n",
    "# scrivi qui\n",
    "\n",
    "dance = musica.split('\\t',maxsplit=6)\n",
    "dance = dance[:-1] + dance[-1].split()\n",
    "dance"
   ]
  },
  {
   "cell_type": "raw",
   "id": "2d887d4c",
   "metadata": {
    "format": "text/html"
   },
   "source": [
    "</div>"
   ]
  },
  {
   "cell_type": "code",
   "execution_count": 87,
   "metadata": {},
   "outputs": [],
   "source": [
    "\n",
    "\n",
    "musica = \"Zam Dam\\tZa Bum Bum\\tZam\\tBam To Tum\\tRa Ta Pam\\tBar Ra\\tRammaGumma  Unza\\n\\t\\nTACAUACA \\n BOOMBOOM!\"\n",
    "\n",
    "# scrivi qui\n",
    "\n"
   ]
  },
  {
   "cell_type": "markdown",
   "metadata": {},
   "source": [
    "### Esercizio  - spazzatura In tour\n",
    "\n",
    "Gli _Spazzatura Melodica_ tornano a colpire nel nuovo tour dove presentano le hit dell'estate. La casa discografica fornisce però le vendite con numeri in formato anglosassone, e per comunicarle ai media italiani è necessaria prima una conversione. \n",
    "\n",
    "Scrivi del codice che date le `hits` e una `posizione` nella classifica (da `1` a `4`) mostra il numero di copie vendute\n",
    "\n",
    "- **NOTA**: le virgole devono essere sostituite con punti\n",
    "\n",
    "Esempio - dati:\n",
    "\n",
    "```python\n",
    "hits = \"\"\"6,230,650 - Ti amo come i pomodori ammuffiti nel frigorifero\n",
    "2,000,123 - Il dolore di vivere pieni di soldi\n",
    "100,000 - Le groupies non sono mai abbastanza\n",
    "837 - Ti ricordi i cassonetti l'estate...\"\"\"\n",
    "\n",
    "posizione = 1   # i pomodori\n",
    "#posizione = 4  # i cassonetti\n",
    "```\n",
    "\n",
    "Dopo il tuo codice, deve risultare:\n",
    "\n",
    "```\n",
    "La numero 1 in classifica \"Ti amo come i pomodori ammuffiti nel frigorifero\" ha venduto 6.230.650 copie\n",
    "```"
   ]
  },
  {
   "cell_type": "raw",
   "id": "5c8bca9f",
   "metadata": {
    "format": "text/html"
   },
   "source": [
    "<a  class=\"jupman-sol jupman-sol-toggler\" \n",
    " onclick=\"jupman.toggleSolution(this);\" \n",
    " data-jupman-show=\"Mostra soluzione\" data-jupman-hide=\"Nascondi\">Mostra soluzione</a><div class=\"jupman-sol jupman-sol-code\" style=\"display:none\">  "
   ]
  },
  {
   "cell_type": "code",
   "execution_count": 88,
   "metadata": {},
   "outputs": [
    {
     "name": "stdout",
     "output_type": "stream",
     "text": [
      "La numero 1 in classifica \"Ti amo come i pomodori ammuffiti nel frigorifero\" ha venduto 6.230.650 copie\n"
     ]
    }
   ],
   "source": [
    "\n",
    "hits = \"\"\"6,230,650 - Ti amo come i pomodori ammuffiti nel frigorifero\n",
    "2,000,123 - Il dolore di vivere pieni di soldi\n",
    "100,000 - Le groupies non sono mai abbastanza\n",
    "837 - Ti ricordi i cassonetti l'estate...\"\"\"\n",
    "\n",
    "posizione = 1   # i pomodori\n",
    "#posizione = 4  # i cassonetti\n",
    "\n",
    "# scrivi qui\n",
    "\n",
    "lst = hits.split('\\n')\n",
    "ext = lst[posizione-1].split(' - ')\n",
    "\n",
    "print(\"La numero\", posizione, \"in classifica\", '\"' + ext[1] + '\"', \n",
    "      'ha venduto', '.'.join(ext[0].split(',')), 'copie')"
   ]
  },
  {
   "cell_type": "raw",
   "id": "61b89219",
   "metadata": {
    "format": "text/html"
   },
   "source": [
    "</div>"
   ]
  },
  {
   "cell_type": "code",
   "execution_count": 88,
   "metadata": {},
   "outputs": [],
   "source": [
    "\n",
    "hits = \"\"\"6,230,650 - Ti amo come i pomodori ammuffiti nel frigorifero\n",
    "2,000,123 - Il dolore di vivere pieni di soldi\n",
    "100,000 - Le groupies non sono mai abbastanza\n",
    "837 - Ti ricordi i cassonetti l'estate...\"\"\"\n",
    "\n",
    "posizione = 1   # i pomodori\n",
    "#posizione = 4  # i cassonetti\n",
    "\n",
    "# scrivi qui\n",
    "\n"
   ]
  },
  {
   "cell_type": "markdown",
   "metadata": {},
   "source": [
    "### Esercizio - moltelinee\n",
    "    \n",
    "    \n",
    "Dato la seguente stringa di testo:\n",
    "\n",
    "```python\n",
    "\"\"\"Questa è una stringa\n",
    "di testo su\n",
    "diverse linee che non dice niente. \"\"\"\n",
    "```\n",
    "\n",
    "1. stampala\n",
    "2. stampa quante linee, parole e caratteri contiene\n",
    "3. metti in ordine alfabetico le parole e stampale le prime e ultime in ordine lessicografico\n",
    "\n",
    "Dovresti ottenere:\n",
    "\n",
    "```\n",
    "Questa è una stringa\n",
    "di testo su\n",
    "diverse linee che non dice niente.\n",
    "\n",
    "Linee: 3 parole: 13 charatteri: 67\n",
    "\n",
    "['Q', 'u', 'e', 's', 't', 'a', ' ', 'è', ' ', 'u', 'n', 'a', ' ', 's', 't', 'r', 'i', 'n', 'g', 'a', '\\n', 'd', 'i', ' ', 't', 'e', 's', 't', 'o', ' ', 's', 'u', '\\n', 'd', 'i', 'v', 'e', 'r', 's', 'e', ' ', 'l', 'i', 'n', 'e', 'e', ' ', 'c', 'h', 'e', ' ', 'n', 'o', 'n', ' ', 'd', 'i', 'c', 'e', ' ', 'n', 'i', 'e', 'n', 't', 'e', '.']\n",
    "67\n",
    "\n",
    "Prima parola:  Questa\n",
    "Ultima parola: è\n",
    "['Questa', 'che', 'di', 'dice', 'diverse', 'linee', 'niente.', 'non', 'stringa', 'su', 'testo', 'una', 'è']\n",
    "\n",
    "```"
   ]
  },
  {
   "cell_type": "raw",
   "id": "8eb67750",
   "metadata": {
    "format": "text/html"
   },
   "source": [
    "<a  class=\"jupman-sol jupman-sol-toggler\" \n",
    " onclick=\"jupman.toggleSolution(this);\" \n",
    " data-jupman-show=\"Mostra soluzione\" data-jupman-hide=\"Nascondi\">Mostra soluzione</a><div class=\"jupman-sol jupman-sol-code\" style=\"display:none\">  "
   ]
  },
  {
   "cell_type": "code",
   "execution_count": 89,
   "metadata": {},
   "outputs": [
    {
     "name": "stdout",
     "output_type": "stream",
     "text": [
      "Questa è una stringa\n",
      "di testo su\n",
      "diverse linee che non dice niente.\n",
      "\n",
      "Linee: 3 parole: 13 caratteri: 67\n",
      "\n",
      "['Q', 'u', 'e', 's', 't', 'a', ' ', 'è', ' ', 'u', 'n', 'a', ' ', 's', 't', 'r', 'i', 'n', 'g', 'a', '\\n', 'd', 'i', ' ', 't', 'e', 's', 't', 'o', ' ', 's', 'u', '\\n', 'd', 'i', 'v', 'e', 'r', 's', 'e', ' ', 'l', 'i', 'n', 'e', 'e', ' ', 'c', 'h', 'e', ' ', 'n', 'o', 'n', ' ', 'd', 'i', 'c', 'e', ' ', 'n', 'i', 'e', 'n', 't', 'e', '.']\n",
      "67\n",
      "\n",
      "Prima parola:  Questa\n",
      "Ultima parola: è\n",
      "['Questa', 'che', 'di', 'dice', 'diverse', 'linee', 'niente.', 'non', 'stringa', 'su', 'testo', 'una', 'è']\n"
     ]
    }
   ],
   "source": [
    "\n",
    "\n",
    "s = \"\"\"Questa è una stringa\n",
    "di testo su\n",
    "diverse linee che non dice niente.\"\"\"\n",
    "\n",
    "\n",
    "# scrivi qui\n",
    "\n",
    "# 1) stampa\n",
    "print(s)\n",
    "print(\"\")\n",
    "\n",
    "# 2) stampa le linee, parole e caratteri\n",
    "lines = s.split('\\n')\n",
    "\n",
    "# NOTA: le parole sono separate da uno spazio o da un ritorno a capo (newline)\n",
    "\n",
    "words = lines[0].split(' ') + lines[1].split(' ') + lines[2].split(' ')\n",
    "num_chars = len(s)\n",
    "print(\"Linee:\", len(lines), \"parole:\", len(words), \"caratteri:\", num_chars)\n",
    "\n",
    "# modo alternativo per numero di caratteri\n",
    "print(\"\")\n",
    "characters = list(s)\n",
    "num_chars2 = len(characters)\n",
    "print(characters)\n",
    "print(num_chars2)\n",
    "\n",
    "# 3. ordina alfabeticamente le parole e stampa la prima e ultima in ordine lessicografico\n",
    "\n",
    "words.sort() # NOTA: non ritorna NIENTE !!!!\n",
    "print(\"\")\n",
    "print(\"Prima parola: \", words[0])\n",
    "print(\"Ultima parola:\", words[-1])\n",
    "print(words)"
   ]
  },
  {
   "cell_type": "raw",
   "id": "c942aa81",
   "metadata": {
    "format": "text/html"
   },
   "source": [
    "</div>"
   ]
  },
  {
   "cell_type": "code",
   "execution_count": 89,
   "metadata": {},
   "outputs": [],
   "source": [
    "\n",
    "\n",
    "s = \"\"\"Questa è una stringa\n",
    "di testo su\n",
    "diverse linee che non dice niente.\"\"\"\n",
    "\n",
    "\n",
    "# scrivi qui\n",
    "\n"
   ]
  },
  {
   "cell_type": "markdown",
   "metadata": {},
   "source": [
    "## Metodo count\n",
    "\n",
    "Si può ottenere il numero di occorrenze di un certo elemento in una lista usando il metodo `count`. "
   ]
  },
  {
   "cell_type": "code",
   "execution_count": 90,
   "metadata": {},
   "outputs": [],
   "source": [
    "la = ['c', 'o', 'r', 'r', 'o', 'b', 'o', 'r', 'a', 'r', 'e']"
   ]
  },
  {
   "cell_type": "code",
   "execution_count": 91,
   "metadata": {},
   "outputs": [
    {
     "data": {
      "text/plain": [
       "1"
      ]
     },
     "execution_count": 91,
     "metadata": {},
     "output_type": "execute_result"
    }
   ],
   "source": [
    "la.count('c')"
   ]
  },
  {
   "cell_type": "code",
   "execution_count": 92,
   "metadata": {},
   "outputs": [
    {
     "data": {
      "text/plain": [
       "3"
      ]
     },
     "execution_count": 92,
     "metadata": {},
     "output_type": "execute_result"
    }
   ],
   "source": [
    "la.count('o')"
   ]
  },
  {
   "cell_type": "code",
   "execution_count": 93,
   "metadata": {},
   "outputs": [
    {
     "data": {
      "text/plain": [
       "4"
      ]
     },
     "execution_count": 93,
     "metadata": {},
     "output_type": "execute_result"
    }
   ],
   "source": [
    "la.count('r')"
   ]
  },
  {
   "cell_type": "markdown",
   "metadata": {},
   "source": [
    "### Non abusare count\n",
    "\n",
    "<div class=\"alert alert-warning\">\n",
    "    \n",
    "**ATTENZIONE**: `count` **viene spesso usato in modo errato / inefficiente**\n",
    "\n",
    "Chiediti sempre:\n",
    "    \n",
    "1. la lista potrebbe contenere duplicati? Ricordati che verranno tutti conteggiati!\n",
    "2. la lista potrebbe _non_ contenere l'oggetto da contare? Ricordati di gestire anche questo caso!\n",
    "3. `count` compie una ricerca in tutta la lista, che può essere inefficiente: è proprio necessaria, o sappiamo già l'intervallo in cui cercare?\n",
    "</div>"
   ]
  },
  {
   "cell_type": "markdown",
   "metadata": {},
   "source": [
    "**DOMANDA**: Guarda i frammenti di codice seguenti, e per ciascuno cerca di indovinare che risultato produce (o se risulta in un errore).\n",
    "\n",
    "1.  ```python\n",
    "    ['A','aa','a','aaAah',\"a\", \"aaaa\"[1], \" a \"].count(\"a\")\n",
    "    ```    \n",
    "1.  ```python\n",
    "    [\"il\", \"castigo\", \"degli\", \"stolti\"].count('Stolti') == 1\n",
    "    ```\n",
    "1.  ```python\n",
    "    lista = ['oasi','dattero','oasi','cocco','dattero','cocco']\n",
    "    print(lista.count('dattero') == 1)\n",
    "    ```\n",
    "1.  ```python\n",
    "    lista = ['oasi','dattero','oasi','cocco','dattero','cocco']\n",
    "    print(lista[4] == 'dattero')\n",
    "    ```\n",
    "1.  ```python\n",
    "    ['2',2,\"2\",2,float(\"2\"),2.0, 4/2,\"1+1\",int('3')-float('1')].count(2)\n",
    "    ```    \n",
    "1.  ```python\n",
    "    [].count([])\n",
    "    ```\n",
    "1.  ```python\n",
    "    [[],[],[]].count([])\n",
    "    ```    "
   ]
  },
  {
   "cell_type": "markdown",
   "metadata": {},
   "source": [
    "### Esercizio - vita di campagna\n",
    "\n",
    "Data una lista `campagna`, scrivi del codice che stampa `True` se la prima metà contiene un numero di elementi `el1` uguale al numero di elementi `el2` nella seconda metà.\n"
   ]
  },
  {
   "cell_type": "raw",
   "id": "9086f5b8",
   "metadata": {
    "format": "text/html"
   },
   "source": [
    "<a  class=\"jupman-sol jupman-sol-toggler\" \n",
    " onclick=\"jupman.toggleSolution(this);\" \n",
    " data-jupman-show=\"Mostra soluzione\" data-jupman-hide=\"Nascondi\">Mostra soluzione</a><div class=\"jupman-sol jupman-sol-code\" style=\"display:none\">  "
   ]
  },
  {
   "cell_type": "code",
   "execution_count": 94,
   "metadata": {},
   "outputs": [
    {
     "data": {
      "text/plain": [
       "True"
      ]
     },
     "execution_count": 94,
     "metadata": {},
     "output_type": "execute_result"
    }
   ],
   "source": [
    "\n",
    "el1,el2 = 'badili', 'zappe'    # True\n",
    "#el1,el2 = 'badili', 'badili'  # False\n",
    "#el1,el2 = 'cariole', 'aratri' # True\n",
    "#el1,el2 = 'badili', 'cariole' # False\n",
    "\n",
    "campagna = ['aratri','cariole', 'badili',  'cariole', 'badili','zappe', 'cariole',\n",
    "            'zappe', 'aratri',  'cariole', 'aratri',  'badili','aratri','zappe']\n",
    "\n",
    "# scrivi qui\n",
    "mid = len(la)//2\n",
    "la[:mid].count(el1) == la[mid:].count(el2)"
   ]
  },
  {
   "cell_type": "raw",
   "id": "26b0c06a",
   "metadata": {
    "format": "text/html"
   },
   "source": [
    "</div>"
   ]
  },
  {
   "cell_type": "code",
   "execution_count": 94,
   "metadata": {},
   "outputs": [],
   "source": [
    "\n",
    "el1,el2 = 'badili', 'zappe'    # True\n",
    "#el1,el2 = 'badili', 'badili'  # False\n",
    "#el1,el2 = 'cariole', 'aratri' # True\n",
    "#el1,el2 = 'badili', 'cariole' # False\n",
    "\n",
    "campagna = ['aratri','cariole', 'badili',  'cariole', 'badili','zappe', 'cariole',\n",
    "            'zappe', 'aratri',  'cariole', 'aratri',  'badili','aratri','zappe']\n",
    "\n",
    "# scrivi qui\n",
    "\n"
   ]
  },
  {
   "cell_type": "markdown",
   "metadata": {},
   "source": [
    "## Metodo index\n",
    "\n",
    "Il metodo `index` ci permette di trovare l'indice della PRIMA occorrenza di un elemento."
   ]
  },
  {
   "cell_type": "code",
   "execution_count": 95,
   "metadata": {},
   "outputs": [],
   "source": [
    "#      0   1   2   3   4\n",
    "la = ['p','a','e','s','e']"
   ]
  },
  {
   "cell_type": "code",
   "execution_count": 96,
   "metadata": {},
   "outputs": [
    {
     "data": {
      "text/plain": [
       "0"
      ]
     },
     "execution_count": 96,
     "metadata": {},
     "output_type": "execute_result"
    }
   ],
   "source": [
    "la.index('p')"
   ]
  },
  {
   "cell_type": "code",
   "execution_count": 97,
   "metadata": {},
   "outputs": [
    {
     "data": {
      "text/plain": [
       "1"
      ]
     },
     "execution_count": 97,
     "metadata": {},
     "output_type": "execute_result"
    }
   ],
   "source": [
    "la.index('a')  "
   ]
  },
  {
   "cell_type": "code",
   "execution_count": 98,
   "metadata": {},
   "outputs": [
    {
     "data": {
      "text/plain": [
       "2"
      ]
     },
     "execution_count": 98,
     "metadata": {},
     "output_type": "execute_result"
    }
   ],
   "source": [
    "la.index('e')  # troviamo la PRIMA occorrenza"
   ]
  },
  {
   "cell_type": "markdown",
   "metadata": {},
   "source": [
    "Se l'elemento che cerchiamo non è presente, otterremo un errore:"
   ]
  },
  {
   "cell_type": "markdown",
   "metadata": {},
   "source": [
    "\n",
    "\n",
    "```python\n",
    ">>> la.index('z')\n",
    "\n",
    "---------------------------------------------------------------------------\n",
    "ValueError                                Traceback (most recent call last)\n",
    "<ipython-input-303-32d9c064ebe0> in <module>\n",
    "----> 1 la.index('z')\n",
    "\n",
    "ValueError: 'z' is not in list\n",
    "\n",
    "```"
   ]
  },
  {
   "cell_type": "markdown",
   "metadata": {},
   "source": [
    "Opzionalmente, puoi specificare un indice da dove iniziare a cercare (**incluso**):"
   ]
  },
  {
   "cell_type": "code",
   "execution_count": 99,
   "metadata": {},
   "outputs": [
    {
     "data": {
      "text/plain": [
       "8"
      ]
     },
     "execution_count": 99,
     "metadata": {},
     "output_type": "execute_result"
    }
   ],
   "source": [
    "# 0   1   2   3   4   5   6   7   8   9   10\n",
    "['a','c','c','a','p','a','r','r','a','r','e'].index('a',6)"
   ]
  },
  {
   "cell_type": "markdown",
   "metadata": {},
   "source": [
    "E anche dove finire (**escluso**):"
   ]
  },
  {
   "cell_type": "markdown",
   "metadata": {},
   "source": [
    "```python\n",
    "# 0   1   2   3   4   5   6   7   8   9   10\n",
    "['a','c','c','a','p','a','r','r','a','r','e'].index('a',6,8)\n",
    "\n",
    "---------------------------------------------------------------------------\n",
    "ValueError                                Traceback (most recent call last)\n",
    "<ipython-input-17-7f344c26b62e> in <module>\n",
    "      1 # 0   1   2   3   4   5   6   7   8   9   10\n",
    "----> 2 ['a','c','c','a','p','a','r','r','a','r','e'].index('a',6,8)\n",
    "\n",
    "ValueError: 'a' is not in list\n",
    "```\n"
   ]
  },
  {
   "cell_type": "markdown",
   "metadata": {},
   "source": [
    "### Non abusare index"
   ]
  },
  {
   "cell_type": "markdown",
   "metadata": {},
   "source": [
    "<div class=\"alert alert-warning\">\n",
    "    \n",
    "**ATTENZIONE**: `index` **viene spesso usato in modo errato / inefficiente**\n",
    "\n",
    "Chiediti sempre:\n",
    "    \n",
    "1. la lista su cui operare potrebbe contenere duplicati? Ricordati che solo il _primo_ verrà trovato!\n",
    "2. la lista potrebbe _non_ contenere l'elemento cercato? Ricordati che in questo caso il programma lancerà un errore!    \n",
    "3. `index` compie una ricerca in tutta la lista, che può essere inefficiente: è proprio necessaria, o sappiamo già l'intervallo in cui cercare? \n",
    "4. se vogliamo sapere se un `elemento` è in una posizione nota a priori (es `3`), `index` non ci serve, basta scrivere `lista[3] == elemento`. Usando `index` potrebbe trovare caratteri duplicati che stanno _prima_ o _dopo_ di quello che vogliamo verificare!\n",
    "</div>"
   ]
  },
  {
   "cell_type": "markdown",
   "metadata": {},
   "source": [
    "**DOMANDA**: Guarda i frammenti di codice seguenti, e per ciascuno cerca di indovinare che risultato produce (o se risulta in un errore)."
   ]
  },
  {
   "cell_type": "markdown",
   "metadata": {},
   "source": [
    "1.  ```python\n",
    "    ['arco','barca','conca','duna'].index('conca') == ['arco','barca','conca','duna'].index('conca',1)\n",
    "    ```\n",
    "1.  ```python\n",
    "    ['azzurro','blu','celeste','puffo'][-1:].index('celeste')\n",
    "    ```    \n",
    "1.  ```python\n",
    "    strada = ['asfalto','bitume','cemento','ghiaia']\n",
    "    print('malta' in strada or strada.index('malta'))\n",
    "    ```    \n",
    "1.  ```python\n",
    "    strada = ['asfalto','bitume','cemento','ghiaia']\n",
    "    print('malta' in strada and strada.index('malta'))\n",
    "    ```\n",
    "1.  ```python\n",
    "    strada = ['asfalto','bitume','malta','ghiaia']\n",
    "    print('malta' in strada and strada.index('malta'))\n",
    "    ```\n",
    "1.  ```python\n",
    "    la = [0,5,10]\n",
    "    la.reverse()\n",
    "    print(la.index(5) > la.index(10))\n",
    "    ```"
   ]
  },
  {
   "cell_type": "markdown",
   "metadata": {},
   "source": [
    "### Esercizio - Spatoč\n",
    "\n",
    "In passato hai avuto conosciuto il pittore slavo Spatoč quando era ancora povero in canna. Ti ha regalato 2 o 3 quadri (non ricordi) dal dubbio valore artistico che hai nascosto in soffitta, ma dalla TV apprendi che Spatoč è diventato un artista di fama internazionale. Corri quindi in soffitta a recuperare i quadri, persi tra le mille cianfrusaglie. Ogni quadro è contenuto in uno `[ ]` scatolone, ma non sai in quale scaffale. Scrivi del codice che stampa dove sono.\n",
    "\n",
    "\n",
    "- gli scaffali sono **numerati da 1**. Se il terzo quadro non è trovato, stampa `0`.\n",
    "- **NON** usare cicli nè `if`\n",
    "- **SUGGERIMENTO:** stampare i primi due (che ci sono sempre) è facile, mentre per l'ultimo riguardati [Booleani - ordine di valutazione](https://it.softpython.org/basics/basics2-bools-sol.html#Ordine-di-valutazione)\n",
    "\n",
    "Esempio 1 - data:"
   ]
  },
  {
   "cell_type": "code",
   "execution_count": 100,
   "metadata": {},
   "outputs": [],
   "source": [
    "         #  1  2     3            4      5          \n",
    "soffitta = [3,\"\\\\\", [\"quadro\"], \"---\", ['quadro'], \n",
    "         #  6      7          8             9           10\n",
    "            5.23, ['viti'], ['pattini'], [\"quadro\"], ['lampada']]"
   ]
  },
  {
   "cell_type": "markdown",
   "metadata": {},
   "source": [
    "il tuo codice deve stampare:\n",
    "\n",
    "```\n",
    "scaffale primo quadro:  3\n",
    "scaffale secondo quadro: 5\n",
    "scaffale terzo quadro: 9\n",
    "```\n",
    "\n",
    "Esempio 2 - data:"
   ]
  },
  {
   "cell_type": "code",
   "execution_count": 101,
   "metadata": {},
   "outputs": [],
   "source": [
    "            # 1          2     3            4            5           6          7\n",
    "soffitta = [[\"quadro\"],  \"--\", ['pattini'], ['quadro'], [\"statua\"], ['viti'], ['stivali']]"
   ]
  },
  {
   "cell_type": "markdown",
   "metadata": {},
   "source": [
    "il tuo codice deve stampare:\n",
    "\n",
    "```\n",
    "scaffale primo quadro: 1\n",
    "scaffale secondo quadro: 4\n",
    "scaffale terzo quadro: 0\n",
    "```"
   ]
  },
  {
   "cell_type": "raw",
   "id": "df7fd9d9",
   "metadata": {
    "format": "text/html"
   },
   "source": [
    "<a  class=\"jupman-sol jupman-sol-toggler\" \n",
    " onclick=\"jupman.toggleSolution(this);\" \n",
    " data-jupman-show=\"Mostra soluzione\" data-jupman-hide=\"Nascondi\">Mostra soluzione</a><div class=\"jupman-sol jupman-sol-code\" style=\"display:none\">  "
   ]
  },
  {
   "cell_type": "code",
   "execution_count": 102,
   "metadata": {},
   "outputs": [
    {
     "name": "stdout",
     "output_type": "stream",
     "text": [
      "scaffale primo quadro: 3\n",
      "scaffale secondo quadro: 5\n",
      "scaffale terzo quadro: 9\n"
     ]
    }
   ],
   "source": [
    "\n",
    "        #   1  2     3            4      5          6      7          8             9           10\n",
    "soffitta = [3,\"\\\\\", [\"quadro\"], \"---\", ['quadro'], 5.23, ['viti'], ['pattini'], [\"quadro\"], ['lampada']]\n",
    "#  3,5,9\n",
    "            #   1          2     3            4            5           6          7\n",
    "#soffitta = [[\"quadro\"],  \"--\", ['pattini'], ['quadro'], [\"statua\"], ['viti'], ['stivali']]\n",
    "#  1,4,0\n",
    "\n",
    "\n",
    "# scrivi qui\n",
    "\n",
    "i1 = soffitta.index(['quadro'])\n",
    "print(\"scaffale primo quadro:\", i1+1)\n",
    "i2 = soffitta.index(['quadro'], i1+1)\n",
    "print(\"scaffale secondo quadro:\", i2+1)\n",
    "i3 = int(['quadro'] in soffitta[i2+1:]) and (soffitta.index(['quadro'], i2+1) + 1)\n",
    "print(\"scaffale terzo quadro:\", i3)"
   ]
  },
  {
   "cell_type": "raw",
   "id": "bf959d1f",
   "metadata": {
    "format": "text/html"
   },
   "source": [
    "</div>"
   ]
  },
  {
   "cell_type": "code",
   "execution_count": 102,
   "metadata": {},
   "outputs": [],
   "source": [
    "\n",
    "        #   1  2     3            4      5          6      7          8             9           10\n",
    "soffitta = [3,\"\\\\\", [\"quadro\"], \"---\", ['quadro'], 5.23, ['viti'], ['pattini'], [\"quadro\"], ['lampada']]\n",
    "#  3,5,9\n",
    "            #   1          2     3            4            5           6          7\n",
    "#soffitta = [[\"quadro\"],  \"--\", ['pattini'], ['quadro'], [\"statua\"], ['viti'], ['stivali']]\n",
    "#  1,4,0\n",
    "\n",
    "\n",
    "# scrivi qui\n",
    "\n"
   ]
  },
  {
   "cell_type": "markdown",
   "metadata": {},
   "source": [
    "## Metodo remove"
   ]
  },
  {
   "cell_type": "markdown",
   "metadata": {},
   "source": [
    "`remove` prende come parametro un oggetto, cerca la PRIMA cella che contiene quell'oggetto e la elimina:"
   ]
  },
  {
   "cell_type": "code",
   "execution_count": 103,
   "metadata": {},
   "outputs": [],
   "source": [
    "#     0 1 2 3 4 5\n",
    "la = [6,7,9,5,9,8]   # il 9 è alla cella con indice 2 e 4"
   ]
  },
  {
   "cell_type": "code",
   "execution_count": 104,
   "metadata": {},
   "outputs": [],
   "source": [
    "la.remove(9)   # cerca la prima cella contenente il numero 9"
   ]
  },
  {
   "cell_type": "code",
   "execution_count": 105,
   "metadata": {},
   "outputs": [
    {
     "data": {
      "text/plain": [
       "[6, 7, 5, 9, 8]"
      ]
     },
     "execution_count": 105,
     "metadata": {},
     "output_type": "execute_result"
    }
   ],
   "source": [
    "la"
   ]
  },
  {
   "cell_type": "markdown",
   "metadata": {},
   "source": [
    "Come si può vedere, la cella che era all'indice `2` e che conteneva la PRIMA occorrenza di `9` è stata eliminata. La cella contenente la SECONDA occorrenza di `9` invece è ancora lì."
   ]
  },
  {
   "cell_type": "markdown",
   "metadata": {},
   "source": [
    "Se si cerca di rimuovere un oggetto non presente, si riceve un errore:"
   ]
  },
  {
   "cell_type": "markdown",
   "metadata": {},
   "source": [
    "\n",
    "```python\n",
    "la.remove(666)\n",
    "\n",
    "---------------------------------------------------------------------------\n",
    "ValueError                                Traceback (most recent call last)\n",
    "<ipython-input-121-5d04a71f9d33> in <module>\n",
    "----> 1 la.remove(666)\n",
    "\n",
    "ValueError: list.remove(x): x not in list\n",
    "```"
   ]
  },
  {
   "cell_type": "markdown",
   "metadata": {},
   "source": [
    "### Non abusare remove\n",
    "\n",
    "<div class=\"alert alert-warning\">\n",
    "    \n",
    "**ATTENZIONE**: `remove` **viene spesso usato in modo errato / inefficiente**\n",
    "\n",
    "Chiediti sempre:\n",
    "    \n",
    "1. la lista potrebbe contenere duplicati? Ricordati che verrà rimosso solo il primo!\n",
    "2. la lista potrebbe _non_ contenere l'oggetto cercato? Ricordati di gestire anche questo caso!\n",
    "3. `remove` compie una ricerca in tutta la lista, che può essere inefficiente: è proprio necessaria, o sappiamo già la posizione `i` dove è presente l'elemento da rimuovere? In tal caso conviene usare `.pop(i)`\n",
    "</div>\n"
   ]
  },
  {
   "cell_type": "markdown",
   "metadata": {},
   "source": [
    "**DOMANDA**: Guarda i frammenti di codice seguenti, e per ciascuno cerca di indovinare che risultato produce (o se risulta in un errore).\n",
    "\n",
    "1.  ```python\n",
    "    la = ['a','b','c','b']\n",
    "    la.remove('b')\n",
    "    print(la)\n",
    "    ```\n",
    "1.  ```python\n",
    "    la = ['a','b','c','b']\n",
    "    x = la.remove('b')\n",
    "    print(x)\n",
    "    print(la)\n",
    "    ```    \n",
    "1.  ```python\n",
    "    la = ['a','d','c','d']\n",
    "    la.remove('b')\n",
    "    print(la)\n",
    "    ```\n",
    "1.  ```python\n",
    "    la = ['a','bb','c','bbb']\n",
    "    la.remove('b')\n",
    "    print(la)\n",
    "    ```        \n",
    "1.  ```python\n",
    "    la = ['a','b','c','b']\n",
    "    la.remove('B')    \n",
    "    print(la)\n",
    "    ```    \n",
    "1.  ```python\n",
    "    la = ['a',9,'99',9,'c',str(9),'999']\n",
    "    la.remove(\"9\")    \n",
    "    print(la)\n",
    "    ```\n",
    "1.  ```python\n",
    "    la = ['nun', 'me', 'fregà']\n",
    "    la.remove('nun').remove('me').remove('fregà')\n",
    "    print(la)\n",
    "    ```\n",
    "1.  ```python\n",
    "    la = ['nun', 'me', 'fregà']\n",
    "    la.remove('nun')\n",
    "    la.remove('me')\n",
    "    la.remove('fregà')\n",
    "    print(la)\n",
    "    ```    \n",
    "1.  ```python\n",
    "    la = [4,5,7,10]\n",
    "    11 in la or la.remove(11)    \n",
    "    print(la)\n",
    "    ```     \n",
    "1.  ```python\n",
    "    la = [4,5,7,10]\n",
    "    11 in la and la.remove(11)    \n",
    "    print(la)\n",
    "    ``` \n",
    "1.  ```python\n",
    "    la = [4,5,7,10]\n",
    "    5 in la and la.remove(5)\n",
    "    print(la)\n",
    "    ```    \n",
    "1.  ```python\n",
    "    la = [9, [9], [[9]], [[[9]]] ]\n",
    "    la.remove([9])\n",
    "    print(la)\n",
    "    ```        \n",
    "1.  ```python\n",
    "    la = [9, [9], [[9]], [[[9]]] ]\n",
    "    la.remove([[9]])\n",
    "    print(la)\n",
    "    ```        "
   ]
  },
  {
   "cell_type": "markdown",
   "metadata": {},
   "source": [
    "### Esercizio - nob\n",
    "\n",
    "Scrivi del codice che rimuove dalla lista `la` tutti i numeri contenuti nella lista di 3 elementi `lb`\n",
    "\n",
    "* il tuo codice deve funzionare con qualsiasi lista `la` e `lb` di 3 elementi\n",
    "* puoi assumere che `la` contenga esattamente DUE occorrenze di tutti gli elementi di `lb` (più eventuali altri numeri)\n",
    "\n",
    "Esempio - dati:\n",
    "\n",
    "```python\n",
    "lb = [8,7,4]\n",
    "la = [7,8,11,8,7,4,5,4]\n",
    "```\n",
    "\n",
    "dopo il tuo codice deve risultare\n",
    "\n",
    "```python\n",
    ">>> print(la)\n",
    "[11, 5]\n",
    "```"
   ]
  },
  {
   "cell_type": "raw",
   "id": "0fb128ac",
   "metadata": {
    "format": "text/html"
   },
   "source": [
    "<a  class=\"jupman-sol jupman-sol-toggler\" \n",
    " onclick=\"jupman.toggleSolution(this);\" \n",
    " data-jupman-show=\"Mostra soluzione\" data-jupman-hide=\"Nascondi\">Mostra soluzione</a><div class=\"jupman-sol jupman-sol-code\" style=\"display:none\">  "
   ]
  },
  {
   "cell_type": "code",
   "execution_count": 106,
   "metadata": {},
   "outputs": [],
   "source": [
    "lb = [8,7,4]\n",
    "la = [7,8,11,8,7,4,5,4]\n",
    "\n",
    "# scrivi qui\n",
    "\n",
    "la.remove(lb[0])\n",
    "la.remove(lb[0])\n",
    "la.remove(lb[1])\n",
    "la.remove(lb[1])\n",
    "la.remove(lb[2])\n",
    "la.remove(lb[2])\n",
    "#print(la)"
   ]
  },
  {
   "cell_type": "raw",
   "id": "89b20c66",
   "metadata": {
    "format": "text/html"
   },
   "source": [
    "</div>"
   ]
  },
  {
   "cell_type": "code",
   "execution_count": 106,
   "metadata": {},
   "outputs": [],
   "source": [
    "lb = [8,7,4]\n",
    "la = [7,8,11,8,7,4,5,4]\n",
    "\n",
    "# scrivi qui\n",
    "\n"
   ]
  },
  {
   "cell_type": "markdown",
   "metadata": {},
   "source": [
    "## Prosegui\n",
    "\n",
    "Trovi ulteriori esercizi nel foglio Liste 4"
   ]
  },
  {
   "cell_type": "code",
   "execution_count": null,
   "metadata": {},
   "outputs": [],
   "source": []
  }
 ],
 "metadata": {
  "kernelspec": {
   "display_name": "Python 3",
   "language": "python",
   "name": "python3"
  },
  "language_info": {
   "codemirror_mode": {
    "name": "ipython",
    "version": 3
   },
   "file_extension": ".py",
   "mimetype": "text/x-python",
   "name": "python",
   "nbconvert_exporter": "python",
   "pygments_lexer": "ipython3",
   "version": "3.7.10"
  },
  "toc": {
   "base_numbering": 1,
   "nav_menu": {},
   "number_sections": false,
   "sideBar": true,
   "skip_h1_title": false,
   "title_cell": "Table of Contents",
   "title_sidebar": "Contents",
   "toc_cell": false,
   "toc_position": {},
   "toc_section_display": true,
   "toc_window_display": true
  }
 },
 "nbformat": 4,
 "nbformat_minor": 2
}

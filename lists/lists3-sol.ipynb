{
 "cells": [
  {
   "cell_type": "code",
   "execution_count": 1,
   "metadata": {
    "nbsphinx": "hidden"
   },
   "outputs": [],
   "source": [
    "# Ricordati di eseguire questa cella con Shift+Invio\n",
    "\n",
    "import jupman"
   ]
  },
  {
   "cell_type": "markdown",
   "metadata": {},
   "source": [
    "# Liste 3 - Metodi base\n",
    "\n",
    "\n",
    "## [Scarica zip esercizi](../_static/generated/lists.zip)\n",
    "\n",
    "[Naviga file online](https://github.com/DavidLeoni/softpython-it/tree/master/lists)"
   ]
  },
  {
   "cell_type": "markdown",
   "metadata": {},
   "source": [
    "Le liste sono oggetti di tipo `list` e possiedono dei metodi che permettono di operare su di essi, tra quelli base troviamo:\n",
    "\n",
    "\n",
    "|Metodo|Ritorna|Descrizione|\n",
    "|-------|------|-----------|\n",
    "|[list.append(obj)](#Metodo-append)|`None`|Aggiunge un nuovo elemento alla fine della lista|\n",
    "|[list.extend(list)](#Metodo-extend)|`None`|Aggiunge diversi nuovi elementi alla fine della lista|\n",
    "|[list.insert(int,obj)](#Metodo-insert)|`None`|Aggiunge un nuovo elemento a qualche posizione data|\n",
    "|[list.pop()](#Metodo-pop)|obj|Rimuove e ritorna l'elemento all'ultima posizione|\n",
    "|[list.pop(int)](#Metodo-pop)|obj|Dato un indice, rimuove e ritorna l'elemento a quella posizione|\n",
    "|[list.reverse()](#Metodo-reverse)|`None`|Inverte l'ordine degli elementi|\n",
    "|[list.sort()](#Metodo-sort)|`None`|Ordina gli elementi|\n",
    "|[\"sep\".join(seq)](#Metodo-join---da-liste-a-stringhe)|`string`|produce una stringa concatenando tutti gli elementi in seq separati da `\"sep\"`| \n",
    "\n",
    "Gli altri sono descritti alla pagina [Metodi di ricerca](https://it.softpython.org/lists/lists4-sol.html)"
   ]
  },
  {
   "cell_type": "markdown",
   "metadata": {},
   "source": [
    "<div class=\"alert alert-warning\">\n",
    "\n",
    "**ATTENZIONE: I METODI DELLE LISTE _MODIFICANO_ LA LISTA SU CUI VENGONO CHIAMATI !**\n",
    "\n",
    "Quando chiami un metodo di una lista (l'oggetto a sinistra del punto `.`), MODIFICHI la lista stessa (diversamente dai metodi sulle stringhe che generano sempre una nuova stringa senza cambiare l'originale)\n",
    "\n",
    "</div>\n",
    "\n",
    "\n",
    "<div class=\"alert alert-warning\">\n",
    "\n",
    "**ATTENZIONE: I METODI DELLE LISTE _NON_ RITORNANO NULLA!**\n",
    "\n",
    "Quasi sempre ritornano l'oggetto `None` (diversamente da quelli delle stringhe che ritornano sempre una nuova stringa)\n",
    "\n",
    "</div>\n"
   ]
  },
  {
   "cell_type": "markdown",
   "metadata": {},
   "source": [
    "## Che fare\n",
    "\n",
    "1. scompatta lo zip in una cartella, dovresti ottenere qualcosa del genere: \n",
    "\n",
    "```\n",
    "\n",
    "lists\n",
    "    lists1.ipynb\n",
    "    lists1-sol.ipynb         \n",
    "    lists2.ipynb\n",
    "    lists2-sol.ipynb         \n",
    "    lists3.ipynb\n",
    "    lists3-sol.ipynb         \n",
    "    lists4.ipynb\n",
    "    lists4-sol.ipynb         \n",
    "    lists4.ipynb\n",
    "    lists5-chal.ipynb\n",
    "    jupman.py         \n",
    "```\n",
    "\n",
    "<div class=\"alert alert-warning\">\n",
    "\n",
    "**ATTENZIONE**: Per essere visualizzato correttamente, il file del notebook DEVE essere nella cartella szippata.\n",
    "</div>\n",
    "\n",
    "2. apri il Jupyter Notebook da quella cartella. Due cose dovrebbero aprirsi, prima una console e poi un browser. Il browser dovrebbe mostrare una lista di file: naviga la lista e apri il notebook `lists3.ipynb`\n",
    "3. Prosegui leggendo il file degli esercizi, ogni tanto al suo interno troverai delle scritte **ESERCIZIO**, che ti chiederanno di scrivere dei comandi Python nelle celle successive. \n",
    "\n",
    "\n",
    "Scorciatoie da tastiera:\n",
    "\n",
    "* Per eseguire il codice Python dentro una cella di Jupyter, premi `Control+Invio`\n",
    "* Per eseguire il codice Python dentro una cella di Jupyter E selezionare la cella seguente, premi `Shift+Invio`\n",
    "* Per eseguire il codice Python dentro una cella di Jupyter E creare una nuova cella subito dopo, premi `Alt+Invio`\n",
    "* Se per caso il Notebook sembra inchiodato, prova a selezionare `Kernel -> Restart`"
   ]
  },
  {
   "cell_type": "markdown",
   "metadata": {},
   "source": [
    "## Metodo append\n",
    "\n",
    "Possiamo MODIFICARE una lista aggiungendo un elemento alla volta usando il metodo `append`.\n",
    "\n",
    "Supponiamo di partire da una lista vuota:"
   ]
  },
  {
   "cell_type": "code",
   "execution_count": 2,
   "metadata": {},
   "outputs": [],
   "source": [
    "la = []"
   ]
  },
  {
   "cell_type": "markdown",
   "metadata": {},
   "source": [
    "Se vogliamo aggiungere come elemento il numero `50`, possiamo scrivere così:"
   ]
  },
  {
   "cell_type": "code",
   "execution_count": 3,
   "metadata": {},
   "outputs": [],
   "source": [
    "la.append(50)"
   ]
  },
  {
   "cell_type": "markdown",
   "metadata": {},
   "source": [
    "Notiamo che la lista che abbiamo creato inizialmente risulta MODIFICATA:"
   ]
  },
  {
   "cell_type": "code",
   "execution_count": 4,
   "metadata": {},
   "outputs": [
    {
     "data": {
      "text/plain": [
       "[50]"
      ]
     },
     "execution_count": 4,
     "metadata": {},
     "output_type": "execute_result"
    }
   ],
   "source": [
    "la"
   ]
  },
  {
   "cell_type": "markdown",
   "metadata": {},
   "source": [
    "<div class=\"alert alert-warning\">\n",
    "\n",
    "**ATTENZIONE:** `la.append(50)` **non ha restituito NULLA !!!!**\n",
    "    \n",
    "Guarda bene l'output della cella con l'istruzione `la.append(50)`, noterai che non c'è proprio niente. Questo perchè lo scopo di `append` è MODIFICARE la lista su cui viene chiamato, NON generare nuove liste. \n",
    "</div>"
   ]
  },
  {
   "cell_type": "markdown",
   "metadata": {},
   "source": [
    "Aggiungiamo un'altro numero _alla fine_ della lista: "
   ]
  },
  {
   "cell_type": "code",
   "execution_count": 5,
   "metadata": {},
   "outputs": [],
   "source": [
    "la.append(90)"
   ]
  },
  {
   "cell_type": "code",
   "execution_count": 6,
   "metadata": {},
   "outputs": [
    {
     "data": {
      "text/plain": [
       "[50, 90]"
      ]
     },
     "execution_count": 6,
     "metadata": {},
     "output_type": "execute_result"
    }
   ],
   "source": [
    "la"
   ]
  },
  {
   "cell_type": "code",
   "execution_count": 7,
   "metadata": {},
   "outputs": [],
   "source": [
    "la.append(70)"
   ]
  },
  {
   "cell_type": "code",
   "execution_count": 8,
   "metadata": {},
   "outputs": [
    {
     "data": {
      "text/plain": [
       "[50, 90, 70]"
      ]
     },
     "execution_count": 8,
     "metadata": {},
     "output_type": "execute_result"
    }
   ],
   "source": [
    "la"
   ]
  },
  {
   "cell_type": "markdown",
   "metadata": {},
   "source": [
    "Riguardiamoci cosa è successo in Python Tutor:"
   ]
  },
  {
   "cell_type": "code",
   "execution_count": 9,
   "metadata": {},
   "outputs": [],
   "source": [
    "# AFFINCHE' PYTHON TUTOR FUNZIONI, RICORDATI DI ESEGUIRE QUESTA CELLA con Shift+Invio\n",
    "#   (basta eseguirla una volta sola, la trovi anche all'inizio di ogni foglio)\n",
    "\n",
    "import jupman"
   ]
  },
  {
   "cell_type": "code",
   "execution_count": 10,
   "metadata": {},
   "outputs": [
    {
     "data": {
      "text/html": [
       "\n",
       "        <script src=\"../_static/js/pytutor-embed.bundle.min.js\" type=\"application/javascript\"></script>\n",
       "     \n",
       "        <script id=\"json-jm1c6ba316-24a8-40d8-acd9-5377a064da1b\" type=\"application/json\" >\n",
       "            {\"code\": \" \\nla = []\\nla.append(50)\\nla.append(90)\\nla.append(70)\", \"trace\": [{\"line\": 2, \"event\": \"step_line\", \"func_name\": \"<module>\", \"globals\": {}, \"ordered_globals\": [], \"stack_to_render\": [], \"heap\": {}, \"stdout\": \"\"}, {\"line\": 3, \"event\": \"step_line\", \"func_name\": \"<module>\", \"globals\": {\"la\": [\"REF\", 1]}, \"ordered_globals\": [\"la\"], \"stack_to_render\": [], \"heap\": {\"1\": [\"LIST\"]}, \"stdout\": \"\"}, {\"line\": 4, \"event\": \"step_line\", \"func_name\": \"<module>\", \"globals\": {\"la\": [\"REF\", 1]}, \"ordered_globals\": [\"la\"], \"stack_to_render\": [], \"heap\": {\"1\": [\"LIST\", 50]}, \"stdout\": \"\"}, {\"line\": 5, \"event\": \"step_line\", \"func_name\": \"<module>\", \"globals\": {\"la\": [\"REF\", 1]}, \"ordered_globals\": [\"la\"], \"stack_to_render\": [], \"heap\": {\"1\": [\"LIST\", 50, 90]}, \"stdout\": \"\"}, {\"line\": 5, \"event\": \"return\", \"func_name\": \"<module>\", \"globals\": {\"la\": [\"REF\", 1]}, \"ordered_globals\": [\"la\"], \"stack_to_render\": [], \"heap\": {\"1\": [\"LIST\", 50, 90, 70]}, \"stdout\": \"\"}]}\n",
       "        </script>\n",
       "        <div id=\"jm1c6ba316-24a8-40d8-acd9-5377a064da1b\" class=\"pytutorVisualizer\"> </div>\n",
       " \n",
       "        <style>\n",
       "        .vizLayoutTd {\n",
       "            background-color: #fff !important;\n",
       "        }\n",
       "\n",
       "        #pyStdout {            \n",
       "            min-height:25px;\n",
       "        }\n",
       "\n",
       "        /* 'Edit this code' link, hiding because replaces browser tab !!!*/\n",
       "        #editCodeLinkDiv {\n",
       "            display:none;  \n",
       "        }\n",
       "        </style>   \n",
       "                            \n",
       "        <script>\n",
       "        (function(){\n",
       "\n",
       "            var trace = JSON.parse(document.getElementById('json-jm1c6ba316-24a8-40d8-acd9-5377a064da1b').innerHTML);                                        \n",
       "            // NOTE 1: id without #\n",
       "            // NOTE 2 - maybe there are more predictable ways, but this will work anyway\n",
       "            //        - id should be number\n",
       "            visualizerIdOverride = Math.trunc(Math.random() * 100000000000)\n",
       "            addVisualizerToPage(trace, 'jm1c6ba316-24a8-40d8-acd9-5377a064da1b',{'embeddedMode' : false,\n",
       "                                             'visualizerIdOverride':visualizerIdOverride})  \n",
       "            \n",
       "            \n",
       "            // set overflow for pytuts - need to do in python as css \n",
       "            // does not allow parent selection\n",
       "            var pytuts = $('.pytutorVisualizer')\n",
       "            pytuts.closest('div.output_html.rendered_html.output_result')\n",
       "                    .css('overflow-x', 'visible')\n",
       "        \n",
       "            //pytuts.closest('div.output_html.rendered_html.output_result')\n",
       "            //      .css('background-color','red')                \n",
       "            \n",
       "        })()\n",
       "        </script>\n",
       "                \n",
       "                "
      ],
      "text/plain": [
       "<IPython.core.display.HTML object>"
      ]
     },
     "execution_count": 10,
     "metadata": {},
     "output_type": "execute_result"
    }
   ],
   "source": [
    "la = []\n",
    "la.append(50)\n",
    "la.append(90)\n",
    "la.append(70)\n",
    "\n",
    "jupman.pytut()"
   ]
  },
  {
   "cell_type": "markdown",
   "metadata": {},
   "source": [
    "Nota come ad espandersi sia sempre la stessa zona di memoria gialla associata alla variabile `la`."
   ]
  },
  {
   "cell_type": "markdown",
   "metadata": {},
   "source": [
    "Abbiamo detto che il metodo `append` non ritorna nulla, cerchiamo di specificare meglio. Nella tabella dei metodi, è presente una colonna chiamata _Ritorna_. Se vai a vedere, per quasi tutti i metodi incluso `append` è indicato che viene ritornato `None`. \n",
    "\n",
    "`None` è l'oggetto più noioso di Python, perchè letteralmente significa niente. Cosa si può fare con niente? Ben poco, così poco che Jupyter quando si ritrova come risultato un oggetto `None` non lo stampa nemmeno. Proviamo a inserire direttamente `None` in una cella, vedrai che non verrà riportato nell'output della cella:"
   ]
  },
  {
   "cell_type": "code",
   "execution_count": 11,
   "metadata": {},
   "outputs": [],
   "source": [
    "None"
   ]
  },
  {
   "cell_type": "markdown",
   "metadata": {},
   "source": [
    "Un modo per forzare la stampa è usare il comando `print`:"
   ]
  },
  {
   "cell_type": "code",
   "execution_count": 12,
   "metadata": {},
   "outputs": [
    {
     "name": "stdout",
     "output_type": "stream",
     "text": [
      "None\n"
     ]
    }
   ],
   "source": [
    "print(None)"
   ]
  },
  {
   "cell_type": "markdown",
   "metadata": {},
   "source": [
    "**ESERCIZIO**: Qual'è il tipo dell'oggetto `None`?  Scoprilo usando la funzione `type`"
   ]
  },
  {
   "cell_type": "raw",
   "id": "d1519a30",
   "metadata": {
    "format": "text/html"
   },
   "source": [
    "<a  class=\"jupman-sol jupman-sol-toggler\" \n",
    " onclick=\"jupman.toggleSolution(this);\" \n",
    " data-jupman-show=\"Mostra soluzione\" data-jupman-hide=\"Nascondi\">Mostra soluzione</a><div class=\"jupman-sol jupman-sol-code\" style=\"display:none\">  "
   ]
  },
  {
   "cell_type": "code",
   "execution_count": 13,
   "metadata": {},
   "outputs": [],
   "source": [
    "# scrivi qui\n",
    "\n",
    "#type(None)"
   ]
  },
  {
   "cell_type": "raw",
   "id": "916d16f8",
   "metadata": {
    "format": "text/html"
   },
   "source": [
    "</div>"
   ]
  },
  {
   "cell_type": "code",
   "execution_count": 13,
   "metadata": {},
   "outputs": [],
   "source": [
    "# scrivi qui\n",
    "\n"
   ]
  },
  {
   "cell_type": "markdown",
   "metadata": {},
   "source": [
    "Proviamo a ripetere cosa succede con `append`. Se chiami il metodo `append` su una lista, `append` MODIFICA silenziosamente la lista, e RITORNA come risultato di essere stato chiamato l'oggetto `None`. Dato che Jupyter ritiene questo oggetto non interessante, non lo stampa nemmeno come risultato. \n",
    "\n",
    "Cerchiamo di esplicitare meglio questo misterioso `None`. Se è vero che `append` lo produce come risultato di essere chiamato, vuol dire che possiamo associare questo risultato a qualche variabile. Proviamo ad associarlo alla variabile `x`:"
   ]
  },
  {
   "cell_type": "code",
   "execution_count": 14,
   "metadata": {},
   "outputs": [],
   "source": [
    "la = []\n",
    "x = la.append(70)"
   ]
  },
  {
   "cell_type": "markdown",
   "metadata": {},
   "source": [
    "Ora, se tutto è andato come abbiamo scritto, `append` dovrebbe aver modificato la lista:"
   ]
  },
  {
   "cell_type": "code",
   "execution_count": 15,
   "metadata": {},
   "outputs": [
    {
     "data": {
      "text/plain": [
       "[70]"
      ]
     },
     "execution_count": 15,
     "metadata": {},
     "output_type": "execute_result"
    }
   ],
   "source": [
    "la"
   ]
  },
  {
   "cell_type": "markdown",
   "metadata": {},
   "source": [
    "e alla variabile `x` dovrebbe essere associato `None`. Quindi, se chiediamo a Jupyter di mostrare il valore associato ad `x` e se quel valore è `None`, non dovremmo vedere nulla:"
   ]
  },
  {
   "cell_type": "code",
   "execution_count": 16,
   "metadata": {},
   "outputs": [],
   "source": [
    "x"
   ]
  },
  {
   "cell_type": "markdown",
   "metadata": {},
   "source": [
    "notiamo che non c'è nessun output nella cella, pare che siamo davvero in presenza di `None`. Forziamo la stampa con il comando `print`:"
   ]
  },
  {
   "cell_type": "code",
   "execution_count": 17,
   "metadata": {},
   "outputs": [
    {
     "name": "stdout",
     "output_type": "stream",
     "text": [
      "None\n"
     ]
    }
   ],
   "source": [
    "print(x)"
   ]
  },
  {
   "cell_type": "markdown",
   "metadata": {},
   "source": [
    "Eccolo ! Probabilmente sarai un po' confuso da tutto ciò, quindi proviamo a rivedere bene che succede in Python Tutor: "
   ]
  },
  {
   "cell_type": "code",
   "execution_count": 18,
   "metadata": {},
   "outputs": [
    {
     "name": "stdout",
     "output_type": "stream",
     "text": [
      "la è [70]\n",
      "x è  None\n"
     ]
    },
    {
     "data": {
      "text/html": [
       "\n",
       "        <script src=\"../_static/js/pytutor-embed.bundle.min.js\" type=\"application/javascript\"></script>\n",
       "     \n",
       "        <script id=\"json-jm7b3c22b0-8863-4e54-82a6-d8b064fba09b\" type=\"application/json\" >\n",
       "            {\"code\": \" \\nla = []\\nx = la.append(70)\\nprint(\\\"la \\u00e8\\\", la)\\nprint(\\\"x \\u00e8 \\\", x)\", \"trace\": [{\"line\": 2, \"event\": \"step_line\", \"func_name\": \"<module>\", \"globals\": {}, \"ordered_globals\": [], \"stack_to_render\": [], \"heap\": {}, \"stdout\": \"\"}, {\"line\": 3, \"event\": \"step_line\", \"func_name\": \"<module>\", \"globals\": {\"la\": [\"REF\", 1]}, \"ordered_globals\": [\"la\"], \"stack_to_render\": [], \"heap\": {\"1\": [\"LIST\"]}, \"stdout\": \"\"}, {\"line\": 4, \"event\": \"step_line\", \"func_name\": \"<module>\", \"globals\": {\"la\": [\"REF\", 1], \"x\": null}, \"ordered_globals\": [\"la\", \"x\"], \"stack_to_render\": [], \"heap\": {\"1\": [\"LIST\", 70]}, \"stdout\": \"\"}, {\"line\": 5, \"event\": \"step_line\", \"func_name\": \"<module>\", \"globals\": {\"la\": [\"REF\", 1], \"x\": null}, \"ordered_globals\": [\"la\", \"x\"], \"stack_to_render\": [], \"heap\": {\"1\": [\"LIST\", 70]}, \"stdout\": \"la \\u00e8 [70]\\n\"}, {\"line\": 5, \"event\": \"return\", \"func_name\": \"<module>\", \"globals\": {\"la\": [\"REF\", 1], \"x\": null}, \"ordered_globals\": [\"la\", \"x\"], \"stack_to_render\": [], \"heap\": {\"1\": [\"LIST\", 70]}, \"stdout\": \"la \\u00e8 [70]\\nx \\u00e8  None\\n\"}]}\n",
       "        </script>\n",
       "        <div id=\"jm7b3c22b0-8863-4e54-82a6-d8b064fba09b\" class=\"pytutorVisualizer\"> </div>\n",
       " \n",
       "        <style>\n",
       "        .vizLayoutTd {\n",
       "            background-color: #fff !important;\n",
       "        }\n",
       "\n",
       "        #pyStdout {            \n",
       "            min-height:25px;\n",
       "        }\n",
       "\n",
       "        /* 'Edit this code' link, hiding because replaces browser tab !!!*/\n",
       "        #editCodeLinkDiv {\n",
       "            display:none;  \n",
       "        }\n",
       "        </style>   \n",
       "                            \n",
       "        <script>\n",
       "        (function(){\n",
       "\n",
       "            var trace = JSON.parse(document.getElementById('json-jm7b3c22b0-8863-4e54-82a6-d8b064fba09b').innerHTML);                                        \n",
       "            // NOTE 1: id without #\n",
       "            // NOTE 2 - maybe there are more predictable ways, but this will work anyway\n",
       "            //        - id should be number\n",
       "            visualizerIdOverride = Math.trunc(Math.random() * 100000000000)\n",
       "            addVisualizerToPage(trace, 'jm7b3c22b0-8863-4e54-82a6-d8b064fba09b',{'embeddedMode' : false,\n",
       "                                             'visualizerIdOverride':visualizerIdOverride})  \n",
       "            \n",
       "            \n",
       "            // set overflow for pytuts - need to do in python as css \n",
       "            // does not allow parent selection\n",
       "            var pytuts = $('.pytutorVisualizer')\n",
       "            pytuts.closest('div.output_html.rendered_html.output_result')\n",
       "                    .css('overflow-x', 'visible')\n",
       "        \n",
       "            //pytuts.closest('div.output_html.rendered_html.output_result')\n",
       "            //      .css('background-color','red')                \n",
       "            \n",
       "        })()\n",
       "        </script>\n",
       "                \n",
       "                "
      ],
      "text/plain": [
       "<IPython.core.display.HTML object>"
      ]
     },
     "execution_count": 18,
     "metadata": {},
     "output_type": "execute_result"
    }
   ],
   "source": [
    "la = []\n",
    "x = la.append(70)\n",
    "print(\"la è\", la)\n",
    "print(\"x è \", x)\n",
    "\n",
    "jupman.pytut()"
   ]
  },
  {
   "cell_type": "markdown",
   "metadata": {},
   "source": [
    "Qual'è il succo di tutto questo discorso? \n",
    "\n",
    "<div class=\"alert alert-warning\">\n",
    "\n",
    "**RIUSARE IL RISULTATO DI CHIAMATE AI METODI DELLE LISTE E' QUASI SEMPRE UN ERRORE !!!!**\n",
    "\n",
    "Dato che chiamare i metodi delle lista ci ritorna `None`, che è un oggetto 'inutile', tentare di riusarlo produrrà quasi sicuramente un errore\n",
    "</div>"
   ]
  },
  {
   "cell_type": "markdown",
   "metadata": {},
   "source": [
    "**ESERCIZIO**: Costruisci una lista aggiungendo un elemento alla volta con il metodo `append`. Aggiungi gli elementi `77`, `\"prova\"`, `[60,93]` con tre chiamate ad `append`, ed infine stampa la lista.\n",
    "\n",
    "Dopo il tuo codice, dovresti vedere `[77, 'prova', [60, 93]]`"
   ]
  },
  {
   "cell_type": "raw",
   "id": "a071d91d",
   "metadata": {
    "format": "text/html"
   },
   "source": [
    "<a  class=\"jupman-sol jupman-sol-toggler\" \n",
    " onclick=\"jupman.toggleSolution(this);\" \n",
    " data-jupman-show=\"Mostra soluzione\" data-jupman-hide=\"Nascondi\">Mostra soluzione</a><div class=\"jupman-sol jupman-sol-code\" style=\"display:none\">  "
   ]
  },
  {
   "cell_type": "code",
   "execution_count": 19,
   "metadata": {},
   "outputs": [],
   "source": [
    "\n",
    "la = []\n",
    "\n",
    "# scrivi qui\n",
    "la.append(77)\n",
    "la.append(\"prova\")\n",
    "la.append([60, 93])\n",
    "\n",
    "#print(la)\n"
   ]
  },
  {
   "cell_type": "raw",
   "id": "05b68f62",
   "metadata": {
    "format": "text/html"
   },
   "source": [
    "</div>"
   ]
  },
  {
   "cell_type": "code",
   "execution_count": 19,
   "metadata": {},
   "outputs": [],
   "source": [
    "\n",
    "la = []\n",
    "\n",
    "# scrivi qui\n",
    "\n"
   ]
  },
  {
   "cell_type": "markdown",
   "metadata": {},
   "source": [
    "**DOMANDA**: Il codice seguente:\n",
    "\n",
    "```python\n",
    "la = []\n",
    "la.append(80,70,90)\n",
    "```\n",
    "\n",
    "1. produce un errore (quale?)\n",
    "2. modifica la lista (come?)"
   ]
  },
  {
   "cell_type": "raw",
   "id": "3743f60e",
   "metadata": {
    "format": "text/html"
   },
   "source": [
    "<a  class=\"jupman-sol jupman-sol-toggler\" \n",
    " onclick=\"jupman.toggleSolution(this);\" \n",
    " data-jupman-show=\"Mostra risposta\" data-jupman-hide=\"Nascondi\">Mostra risposta</a><div class=\"jupman-sol jupman-sol-question\" style=\"display:none\">  "
   ]
  },
  {
   "cell_type": "markdown",
   "metadata": {},
   "source": [
    "**RISPOSTA**: la 1: `append` accetta un solo argomento, passandone di più produrrà un errore, prova ad eseguire il codice in una cella per vedere quale."
   ]
  },
  {
   "cell_type": "raw",
   "id": "0a0c3c59",
   "metadata": {
    "format": "text/html"
   },
   "source": [
    "</div>"
   ]
  },
  {
   "cell_type": "markdown",
   "metadata": {},
   "source": [
    "**DOMANDA**: Il codice seguente:\n",
    "\n",
    "```python\n",
    "la = []\n",
    "la.append(80).append(90)\n",
    "```\n",
    "\n",
    "1. produce un errore\n",
    "2. aggiunge a `la` i numeri `80` e `90`"
   ]
  },
  {
   "cell_type": "raw",
   "id": "89ea298d",
   "metadata": {
    "format": "text/html"
   },
   "source": [
    "<a  class=\"jupman-sol jupman-sol-toggler\" \n",
    " onclick=\"jupman.toggleSolution(this);\" \n",
    " data-jupman-show=\"Mostra risposta\" data-jupman-hide=\"Nascondi\">Mostra risposta</a><div class=\"jupman-sol jupman-sol-question\" style=\"display:none\">  "
   ]
  },
  {
   "cell_type": "markdown",
   "metadata": {},
   "source": [
    "**RISPOSTA**: la 1: produce un errore, perchè come abbiamo detto la chiamata ad `la.append(80)` MODIFICA la lista `la` su cui è chiamato e ritorna il valore `None`. Se su `None` proviamo a chiamare `.append(90)`, visto che `None` non è una lista otterremo un messaggio di errore. Sincerati di questo usando Python Tutor."
   ]
  },
  {
   "cell_type": "raw",
   "id": "84459285",
   "metadata": {
    "format": "text/html"
   },
   "source": [
    "</div>"
   ]
  },
  {
   "cell_type": "markdown",
   "metadata": {},
   "source": [
    "\n",
    "**DOMANDA**: torniamo brevemente alle stringhe. Guarda il codice seguente (se non ti ricordi cosa fanno i metodi delle stringhe [guarda qua](https://it.softpython.org/strings/strings3-sol.html#Metodi)):\n",
    "    \n",
    "```python\n",
    "\n",
    "sa = '    trento    '\n",
    "sb = sa.strip().capitalize()\n",
    "print(sb)\n",
    "```\n",
    "\n",
    "1. produce un errore (quale?)\n",
    "2. cambia `sa` (come?)\n",
    "3. stampa qualcosa (cosa?)"
   ]
  },
  {
   "cell_type": "raw",
   "id": "7794e6e0",
   "metadata": {
    "format": "text/html"
   },
   "source": [
    "<a  class=\"jupman-sol jupman-sol-toggler\" \n",
    " onclick=\"jupman.toggleSolution(this);\" \n",
    " data-jupman-show=\"Mostra risposta\" data-jupman-hide=\"Nascondi\">Mostra risposta</a><div class=\"jupman-sol jupman-sol-question\" style=\"display:none\">  "
   ]
  },
  {
   "cell_type": "markdown",
   "metadata": {},
   "source": [
    "**RISPOSTA**: La 3: stampa `Trento`. Diversamente dalle liste, le stringhe sono sequenze _immutabili_: significa che quando chiami un metodo sulle stringhe sei sicuro che RESTITUIRA' una stringa NUOVA.  Quindi la prima chiamata a `sa.strip()` RESTITUISCE la stringa senza spazi all'inizio e alla fine `'trento'`, e su questa stringa viene chiamato il metodo `capitalize()` che rende il primo carattere maiuscolo. \n",
    "\n",
    "Se questo non ti è chiaro, prova ad eseguire il codice seguente in Python Tutor. E' equivalente a quello dell'esempio ma esplicita il passaggio assegnando alla variabile extra `x`. il risultato della chiamata a `sa.strip()` \n",
    "\n",
    "```python\n",
    "sa = '    trento    '\n",
    "x = sa.strip()\n",
    "sb = x.capitalize()\n",
    "print(sb)\n",
    "```\n"
   ]
  },
  {
   "cell_type": "raw",
   "id": "446fbb54",
   "metadata": {
    "format": "text/html"
   },
   "source": [
    "</div>"
   ]
  },
  {
   "cell_type": "markdown",
   "metadata": {},
   "source": [
    "**DOMANDA**: Guarda questo codice. Stamperà qualcosa alla fine? O produrrà un errore?"
   ]
  },
  {
   "cell_type": "code",
   "execution_count": 20,
   "metadata": {},
   "outputs": [],
   "source": [
    "\n",
    "la = []\n",
    "lb = []\n",
    "la.append(lb)\n",
    "\n",
    "lb.append(90)\n",
    "lb.append(70)\n",
    "\n",
    "print(la)"
   ]
  },
  {
   "cell_type": "raw",
   "id": "9838bcb5",
   "metadata": {
    "format": "text/html"
   },
   "source": [
    "<a  class=\"jupman-sol jupman-sol-toggler\" \n",
    " onclick=\"jupman.toggleSolution(this);\" \n",
    " data-jupman-show=\"Mostra risposta\" data-jupman-hide=\"Nascondi\">Mostra risposta</a><div class=\"jupman-sol jupman-sol-question\" style=\"display:none\">  "
   ]
  },
  {
   "cell_type": "markdown",
   "metadata": {},
   "source": [
    "**RISPOSTA**: Stamperà `[[90, 70]]`, perchè abbiamo messo `lb` dentro `la`. \n",
    "\n",
    "Anche se con la prima `append` abbiamo inserito `lb` come primo elemento di `la`, dopo è perfettamente lecito continuare a modificare `lb` chiamando `lb.append(90)`. \n",
    "\n",
    "Prova ad eseguire il codice in Python Tutor, e guarda le frecce."
   ]
  },
  {
   "cell_type": "raw",
   "id": "575a56c9",
   "metadata": {
    "format": "text/html"
   },
   "source": [
    "</div>"
   ]
  },
  {
   "cell_type": "markdown",
   "metadata": {},
   "source": [
    "### Esercizio - accrescere una lista 1\n",
    "\n",
    "Data la lista `la` di _dimensione fissa 7_, scrivi del codice per crescere la lista vuota `lb` così che contenga _solo_ gli elementi di `la` a indici pari (0, 2, 4, ...). \n",
    "\n",
    "- Il tuo codice dovrebbe funzionare per qualunque lista `la` di dimensione fissa 7\n",
    "\n",
    "\n",
    "```python\n",
    "#   0 1 2 3 4 5 6  \n",
    "la=[8,4,3,5,7,3,5]\n",
    "lb=[]\n",
    "```\n",
    "\n",
    "Dopo il tuo codice, dovresti ottenere:\n",
    "\n",
    "```python\n",
    ">>> print(lb)\n",
    "[8,3,7,5]\n",
    "```\n"
   ]
  },
  {
   "cell_type": "raw",
   "id": "48af6a7d",
   "metadata": {
    "format": "text/html"
   },
   "source": [
    "<a  class=\"jupman-sol jupman-sol-toggler\" \n",
    " onclick=\"jupman.toggleSolution(this);\" \n",
    " data-jupman-show=\"Mostra soluzione\" data-jupman-hide=\"Nascondi\">Mostra soluzione</a><div class=\"jupman-sol jupman-sol-code\" style=\"display:none\">  "
   ]
  },
  {
   "cell_type": "code",
   "execution_count": 21,
   "metadata": {},
   "outputs": [
    {
     "name": "stdout",
     "output_type": "stream",
     "text": [
      "[8, 3, 7, 5]\n"
     ]
    }
   ],
   "source": [
    "\n",
    "#   0 1 2 3 4 5 6  \n",
    "la=[8,4,3,5,7,3,5]\n",
    "lb=[]\n",
    "\n",
    "# scrivi qui\n",
    "lb.append(la[0])\n",
    "lb.append(la[2])\n",
    "lb.append(la[4])\n",
    "lb.append(la[6])\n",
    "print(lb)"
   ]
  },
  {
   "cell_type": "raw",
   "id": "f230f508",
   "metadata": {
    "format": "text/html"
   },
   "source": [
    "</div>"
   ]
  },
  {
   "cell_type": "code",
   "execution_count": 21,
   "metadata": {},
   "outputs": [],
   "source": [
    "\n",
    "#   0 1 2 3 4 5 6  \n",
    "la=[8,4,3,5,7,3,5]\n",
    "lb=[]\n",
    "\n",
    "# scrivi qui\n",
    "\n"
   ]
  },
  {
   "cell_type": "markdown",
   "metadata": {},
   "source": [
    "## Metodo extend"
   ]
  },
  {
   "cell_type": "markdown",
   "metadata": {},
   "source": [
    "Prima con `append` abbiamo visto come accrescere una lista _un elemento alla volta_. \n",
    "\n",
    "E se volessimo aggiungere in un colpo solo parecchi elementi, magari presi da un'altra lista? Come potremmo fare? \n",
    "\n",
    "Dovremmo usare il metodo `extend`, che MODIFICA la lista su cui è chiamato aggiungendo tutti gli elementi trovati nella sequenza presa in input. "
   ]
  },
  {
   "cell_type": "code",
   "execution_count": 22,
   "metadata": {},
   "outputs": [],
   "source": [
    "la = [70,30,50]"
   ]
  },
  {
   "cell_type": "code",
   "execution_count": 23,
   "metadata": {},
   "outputs": [],
   "source": [
    "lb = [40,90,30,80]"
   ]
  },
  {
   "cell_type": "code",
   "execution_count": 24,
   "metadata": {},
   "outputs": [],
   "source": [
    "la.extend(lb)"
   ]
  },
  {
   "cell_type": "code",
   "execution_count": 25,
   "metadata": {},
   "outputs": [
    {
     "data": {
      "text/plain": [
       "[70, 30, 50, 40, 90, 30, 80]"
      ]
     },
     "execution_count": 25,
     "metadata": {},
     "output_type": "execute_result"
    }
   ],
   "source": [
    "la"
   ]
  },
  {
   "cell_type": "code",
   "execution_count": 26,
   "metadata": {},
   "outputs": [
    {
     "data": {
      "text/plain": [
       "[40, 90, 30, 80]"
      ]
     },
     "execution_count": 26,
     "metadata": {},
     "output_type": "execute_result"
    }
   ],
   "source": [
    "lb"
   ]
  },
  {
   "cell_type": "markdown",
   "metadata": {},
   "source": [
    "Nell'esempio qua sopra, `extend` è chiamato sulla variabile `la`, e come parametro gli abbiamo passato `lb`\n",
    "\n",
    "<div class=\"alert alert-warning\">\n",
    "\n",
    "**ATTENZIONE**: `la` è MODIFICATA, invece la sequenza che gli abbiamo passato tra le parentesi tonde no (`lb` nell'esempio)!\n",
    "\n",
    "</div>"
   ]
  },
  {
   "cell_type": "markdown",
   "metadata": {},
   "source": [
    "**DOMANDA**: l'esecuzione del metodo `extend` ritorna qualcosa? Cosa vedi nell'output della cella `la.extend(lb)` ?"
   ]
  },
  {
   "cell_type": "raw",
   "id": "8c675e62",
   "metadata": {
    "format": "text/html"
   },
   "source": [
    "<a  class=\"jupman-sol jupman-sol-toggler\" \n",
    " onclick=\"jupman.toggleSolution(this);\" \n",
    " data-jupman-show=\"Mostra risposta\" data-jupman-hide=\"Nascondi\">Mostra risposta</a><div class=\"jupman-sol jupman-sol-question\" style=\"display:none\">  "
   ]
  },
  {
   "cell_type": "markdown",
   "metadata": {},
   "source": [
    "**RISPOSTA**:  `extend`, come quasi tutti i metodi delle liste, non ritorna nulla, o meglio, ritorna il poco utile oggetto `None`, che non viene nemmeno stampato da Jupyter. "
   ]
  },
  {
   "cell_type": "raw",
   "id": "07f6b420",
   "metadata": {
    "format": "text/html"
   },
   "source": [
    "</div>"
   ]
  },
  {
   "cell_type": "markdown",
   "metadata": {},
   "source": [
    "Verifichiamo meglio cosa è successo con Python Tutor: "
   ]
  },
  {
   "cell_type": "code",
   "execution_count": 27,
   "metadata": {},
   "outputs": [
    {
     "data": {
      "text/html": [
       "\n",
       "        <script src=\"../_static/js/pytutor-embed.bundle.min.js\" type=\"application/javascript\"></script>\n",
       "     \n",
       "        <script id=\"json-jm51274731-de9e-429c-9269-14cc52553017\" type=\"application/json\" >\n",
       "            {\"code\": \" \\nla = [70,30,50]\\nlb = [40,90,30,80]\\nla.extend(lb)\", \"trace\": [{\"line\": 2, \"event\": \"step_line\", \"func_name\": \"<module>\", \"globals\": {}, \"ordered_globals\": [], \"stack_to_render\": [], \"heap\": {}, \"stdout\": \"\"}, {\"line\": 3, \"event\": \"step_line\", \"func_name\": \"<module>\", \"globals\": {\"la\": [\"REF\", 1]}, \"ordered_globals\": [\"la\"], \"stack_to_render\": [], \"heap\": {\"1\": [\"LIST\", 70, 30, 50]}, \"stdout\": \"\"}, {\"line\": 4, \"event\": \"step_line\", \"func_name\": \"<module>\", \"globals\": {\"la\": [\"REF\", 1], \"lb\": [\"REF\", 2]}, \"ordered_globals\": [\"la\", \"lb\"], \"stack_to_render\": [], \"heap\": {\"1\": [\"LIST\", 70, 30, 50], \"2\": [\"LIST\", 40, 90, 30, 80]}, \"stdout\": \"\"}, {\"line\": 4, \"event\": \"return\", \"func_name\": \"<module>\", \"globals\": {\"la\": [\"REF\", 1], \"lb\": [\"REF\", 2]}, \"ordered_globals\": [\"la\", \"lb\"], \"stack_to_render\": [], \"heap\": {\"1\": [\"LIST\", 70, 30, 50, 40, 90, 30, 80], \"2\": [\"LIST\", 40, 90, 30, 80]}, \"stdout\": \"\"}]}\n",
       "        </script>\n",
       "        <div id=\"jm51274731-de9e-429c-9269-14cc52553017\" class=\"pytutorVisualizer\"> </div>\n",
       " \n",
       "        <style>\n",
       "        .vizLayoutTd {\n",
       "            background-color: #fff !important;\n",
       "        }\n",
       "\n",
       "        #pyStdout {            \n",
       "            min-height:25px;\n",
       "        }\n",
       "\n",
       "        /* 'Edit this code' link, hiding because replaces browser tab !!!*/\n",
       "        #editCodeLinkDiv {\n",
       "            display:none;  \n",
       "        }\n",
       "        </style>   \n",
       "                            \n",
       "        <script>\n",
       "        (function(){\n",
       "\n",
       "            var trace = JSON.parse(document.getElementById('json-jm51274731-de9e-429c-9269-14cc52553017').innerHTML);                                        \n",
       "            // NOTE 1: id without #\n",
       "            // NOTE 2 - maybe there are more predictable ways, but this will work anyway\n",
       "            //        - id should be number\n",
       "            visualizerIdOverride = Math.trunc(Math.random() * 100000000000)\n",
       "            addVisualizerToPage(trace, 'jm51274731-de9e-429c-9269-14cc52553017',{'embeddedMode' : false,\n",
       "                                             'visualizerIdOverride':visualizerIdOverride})  \n",
       "            \n",
       "            \n",
       "            // set overflow for pytuts - need to do in python as css \n",
       "            // does not allow parent selection\n",
       "            var pytuts = $('.pytutorVisualizer')\n",
       "            pytuts.closest('div.output_html.rendered_html.output_result')\n",
       "                    .css('overflow-x', 'visible')\n",
       "        \n",
       "            //pytuts.closest('div.output_html.rendered_html.output_result')\n",
       "            //      .css('background-color','red')                \n",
       "            \n",
       "        })()\n",
       "        </script>\n",
       "                \n",
       "                "
      ],
      "text/plain": [
       "<IPython.core.display.HTML object>"
      ]
     },
     "execution_count": 27,
     "metadata": {},
     "output_type": "execute_result"
    }
   ],
   "source": [
    "la = [70,30,50]\n",
    "lb = [40,90,30,80]\n",
    "la.extend(lb)\n",
    "\n",
    "jupman.pytut()"
   ]
  },
  {
   "cell_type": "markdown",
   "metadata": {},
   "source": [
    "**DOMANDA**: Guarda questo codice. Quali saranno i valori associati alle variabili `la` ,`lb` e `x` dopo la sua esecuzione?"
   ]
  },
  {
   "cell_type": "code",
   "execution_count": 28,
   "metadata": {},
   "outputs": [],
   "source": [
    "\n",
    "la = [30,70,50]\n",
    "lb = [80,40]\n",
    "x = la.extend(lb)\n",
    "\n",
    "print('la è ', la)\n",
    "print('lb è ', lb)\n",
    "print('x è ', x)"
   ]
  },
  {
   "cell_type": "raw",
   "id": "cea33bde",
   "metadata": {
    "format": "text/html"
   },
   "source": [
    "<a  class=\"jupman-sol jupman-sol-toggler\" \n",
    " onclick=\"jupman.toggleSolution(this);\" \n",
    " data-jupman-show=\"Mostra risposta\" data-jupman-hide=\"Nascondi\">Mostra risposta</a><div class=\"jupman-sol jupman-sol-question\" style=\"display:none\">  "
   ]
  },
  {
   "cell_type": "markdown",
   "metadata": {},
   "source": [
    "**RISPOSTA**: Verrà stampato questo:\n",
    "\n",
    "```\n",
    "la è  [30, 70, 50, 80, 40]\n",
    "lb è  [80, 40]\n",
    "x è  None\n",
    "```\n",
    "\n",
    " `la` è stata MODIFICATA aggiungendo tutti gli elementi di `lb`. \n",
    "\n",
    "La chiamata ad `extend`, come quasi tutti i metodi delle liste, ha ritornano l'oggetto `None` che è stato associato alla variabile `x`. Cerca di capire bene cosa è successo usando Python Tutor.\n",
    " "
   ]
  },
  {
   "cell_type": "raw",
   "id": "395c1a22",
   "metadata": {
    "format": "text/html"
   },
   "source": [
    "</div>"
   ]
  },
  {
   "cell_type": "markdown",
   "metadata": {},
   "source": [
    "### Estendere con sequenze\n",
    "\n",
    "Abbiamo detto che tra le parentesi tonde `extend` può prendere una sequenza generica, non solo liste. Questo vuol dire che possiamo anche passargli una stringa. Per esempio: "
   ]
  },
  {
   "cell_type": "code",
   "execution_count": 29,
   "metadata": {},
   "outputs": [],
   "source": [
    "la = [70,60,80]\n",
    "\n",
    "s = \"ciao\"\n",
    "\n",
    "la.extend(s)"
   ]
  },
  {
   "cell_type": "code",
   "execution_count": 30,
   "metadata": {},
   "outputs": [
    {
     "data": {
      "text/plain": [
       "[70, 60, 80, 'c', 'i', 'a', 'o']"
      ]
     },
     "execution_count": 30,
     "metadata": {},
     "output_type": "execute_result"
    }
   ],
   "source": [
    "la"
   ]
  },
  {
   "cell_type": "markdown",
   "metadata": {},
   "source": [
    "Dato che stringa è una sequenza di caratteri, `extend` ha preso ciascuno di questi elementi e li ha aggiunti a `la`"
   ]
  },
  {
   "cell_type": "markdown",
   "metadata": {},
   "source": [
    "**DOMANDA**: il valore associato alla variabile `s` è stato modificato?"
   ]
  },
  {
   "cell_type": "raw",
   "id": "4cabdc66",
   "metadata": {
    "format": "text/html"
   },
   "source": [
    "<a  class=\"jupman-sol jupman-sol-toggler\" \n",
    " onclick=\"jupman.toggleSolution(this);\" \n",
    " data-jupman-show=\"Mostra risposta\" data-jupman-hide=\"Nascondi\">Mostra risposta</a><div class=\"jupman-sol jupman-sol-question\" style=\"display:none\">  "
   ]
  },
  {
   "cell_type": "markdown",
   "metadata": {},
   "source": [
    "**RISPOSTA**: assolutamente impossibile, perchè a) `extend` modifica solo la lista su cui è chiamato e b) le stringhe sono comunque immutabili."
   ]
  },
  {
   "cell_type": "raw",
   "id": "0c9768bd",
   "metadata": {
    "format": "text/html"
   },
   "source": [
    "</div>"
   ]
  },
  {
   "cell_type": "markdown",
   "metadata": {},
   "source": [
    "**DOMANDA**: Il codice seguente:\n",
    "\n",
    "```python\n",
    "la = [60,50]\n",
    "la.extend(70,90,80)\n",
    "```\n",
    "\n",
    "1. produce un errore (quale?) \n",
    "2. modifica `la` (come?)"
   ]
  },
  {
   "cell_type": "raw",
   "id": "4c35f6d9",
   "metadata": {
    "format": "text/html"
   },
   "source": [
    "<a  class=\"jupman-sol jupman-sol-toggler\" \n",
    " onclick=\"jupman.toggleSolution(this);\" \n",
    " data-jupman-show=\"Mostra risposta\" data-jupman-hide=\"Nascondi\">Mostra risposta</a><div class=\"jupman-sol jupman-sol-question\" style=\"display:none\">  "
   ]
  },
  {
   "cell_type": "markdown",
   "metadata": {},
   "source": [
    "**RISPOSTA**: La 1: produce un errore, perchè ad `extend` dobbiamo passare UN parametro solo, che deve essere _una sequenza_. Qua invece stiamo passando tanti parametri. Un'alternativa potrebbe essere costruire una lista così:\n",
    "\n",
    "```python\n",
    "la = [60,50]\n",
    "la.extend([70,90,80])\n",
    "```"
   ]
  },
  {
   "cell_type": "raw",
   "id": "bd935c22",
   "metadata": {
    "format": "text/html"
   },
   "source": [
    "</div>"
   ]
  },
  {
   "cell_type": "markdown",
   "metadata": {},
   "source": [
    "**DOMANDA**: Se questo codice viene eseguito, che succede?\n",
    "\n",
    "```python\n",
    "sa = \"ciao\"\n",
    "sb = \"mondo\"\n",
    "sa.extend(sb)\n",
    "```\n",
    "\n",
    "1. `sa` viene modificata (come?)\n",
    "2. otteniamo un errore (quale?)"
   ]
  },
  {
   "cell_type": "raw",
   "id": "9a44ed0e",
   "metadata": {
    "format": "text/html"
   },
   "source": [
    "<a  class=\"jupman-sol jupman-sol-toggler\" \n",
    " onclick=\"jupman.toggleSolution(this);\" \n",
    " data-jupman-show=\"Mostra risposta\" data-jupman-hide=\"Nascondi\">Mostra risposta</a><div class=\"jupman-sol jupman-sol-question\" style=\"display:none\">  "
   ]
  },
  {
   "cell_type": "markdown",
   "metadata": {},
   "source": [
    "**RISPOSTA**: la 2: otteniamo un errore, perchè `extend` è un metodo esclusivo delle liste. Appartiene solo alle liste perchè MODIFICA l'oggetto su cui è chiamato - dato che le stringhe sono oggetti immutabili, non avrebbe senso estenderle."
   ]
  },
  {
   "cell_type": "raw",
   "id": "b6f07cc8",
   "metadata": {
    "format": "text/html"
   },
   "source": [
    "</div>"
   ]
  },
  {
   "cell_type": "markdown",
   "metadata": {},
   "source": [
    "**DOMANDA**: Se questo codice viene eseguito, che succede?\n",
    "\n",
    "```python\n",
    "la = [1,2,3]\n",
    "lb = [4,5]\n",
    "lc = [6,7,8]\n",
    "\n",
    "la.extend(lb).extend(lc)\n",
    "```\n",
    "\n",
    "1. `la` diventa `[1,2,3,4,5,6,7,8]`\n",
    "2. un errore (quale?)\n",
    "3. `la` diventa `[1,2,3,4,5]` e un errore(quale?)\n"
   ]
  },
  {
   "cell_type": "raw",
   "id": "f16051d2",
   "metadata": {
    "format": "text/html"
   },
   "source": [
    "<a  class=\"jupman-sol jupman-sol-toggler\" \n",
    " onclick=\"jupman.toggleSolution(this);\" \n",
    " data-jupman-show=\"Mostra risposta\" data-jupman-hide=\"Nascondi\">Mostra risposta</a><div class=\"jupman-sol jupman-sol-question\" style=\"display:none\">  "
   ]
  },
  {
   "cell_type": "markdown",
   "metadata": {},
   "source": [
    "**RISPOSTA**: la 3: `la` diventa `[1,2,3,4,5]` e subito dopo otteniamo un errore, perchè la chiamata a `la.extend(lb)` MODIFICA `la` a `[1,2,3,4,5]` e RITORNA il valore `None`. A quel punto, Python cerca di chiamare il metodo `extend` sull'oggetto `None`, ma non essendo una lista, ci becchiamo questo errore (**per convincerti, verifica il tutto il Python Tutor** !!!)\n",
    "\n",
    "```python\n",
    "---------------------------------------------------------------------------\n",
    "AttributeError                            Traceback (most recent call last)\n",
    "<ipython-input-45-0a08a154ada4> in <module>\n",
    "      3 lc = [6,7,8]\n",
    "      4 \n",
    "----> 5 la.extend(lb).extend(lc)\n",
    "\n",
    "AttributeError: 'NoneType' object has no attribute 'extend'\n",
    "\n",
    "```"
   ]
  },
  {
   "cell_type": "raw",
   "id": "09f985b6",
   "metadata": {
    "format": "text/html"
   },
   "source": [
    "</div>"
   ]
  },
  {
   "cell_type": "markdown",
   "metadata": {},
   "source": [
    "### Esercizio: accrescere una lista 2"
   ]
  },
  {
   "cell_type": "markdown",
   "metadata": {},
   "source": [
    "\n",
    "Date due _liste_ `la` ed `lb` e un elemento `x`, scrivi del codice che MODIFICA `la` in modo che `la` contenga alla fine l'elemento `x` seguito da tutti gli elementi di `lb`\n",
    "\n",
    "- **NOTA 1**: il tuo codice dovrebbe funzionare con qualunque `la` ed `lb`\n",
    "- **NOTA 2**: `id` è una funzione di Python che associa ad ogni regione di memoria un identificativo numerico univoco. Se provi a stampare `id(la)` _prima_ di modificare `la` e `id(la)` dopo, dovresti ottenere _esattamente_ lo stesso id. Se ne ottieni uno diverso, significa che hai generato una lista interamente nuova. In ogni caso, verifica che funzioni in Python Tutor.\n",
    "\n",
    "```python\n",
    "la = [5,9,2,4]\n",
    "lb = [7,1,3]\n",
    "x = 8\n",
    "```\n",
    "\n",
    "Dovresti ottenere:\n",
    "\n",
    "```python\n",
    ">>> print(la)\n",
    "[5,9,2,4,8,7,1,3]\n",
    ">>> print(lb)\n",
    "[7,1,3]\n",
    ">>> print(x)\n",
    "8\n",
    "\n",
    "```"
   ]
  },
  {
   "cell_type": "raw",
   "id": "05de679f",
   "metadata": {
    "format": "text/html"
   },
   "source": [
    "<a  class=\"jupman-sol jupman-sol-toggler\" \n",
    " onclick=\"jupman.toggleSolution(this);\" \n",
    " data-jupman-show=\"Mostra soluzione\" data-jupman-hide=\"Nascondi\">Mostra soluzione</a><div class=\"jupman-sol jupman-sol-code\" style=\"display:none\">  "
   ]
  },
  {
   "cell_type": "code",
   "execution_count": 31,
   "metadata": {},
   "outputs": [
    {
     "name": "stdout",
     "output_type": "stream",
     "text": [
      "[5, 9, 2, 4, 8, 7, 1, 3]\n",
      "[7, 1, 3]\n",
      "8\n"
     ]
    }
   ],
   "source": [
    "\n",
    "la = [5,9,2,4]\n",
    "lb = [7,1,3]\n",
    "x = 8\n",
    "\n",
    "# scrivi qui\n",
    "la.append(x)\n",
    "la.extend(lb)\n",
    "print(la)\n",
    "print(lb)\n",
    "print(x)"
   ]
  },
  {
   "cell_type": "raw",
   "id": "50755b9e",
   "metadata": {
    "format": "text/html"
   },
   "source": [
    "</div>"
   ]
  },
  {
   "cell_type": "code",
   "execution_count": 31,
   "metadata": {},
   "outputs": [],
   "source": [
    "\n",
    "la = [5,9,2,4]\n",
    "lb = [7,1,3]\n",
    "x = 8\n",
    "\n",
    "# scrivi qui\n",
    "\n"
   ]
  },
  {
   "cell_type": "markdown",
   "metadata": {},
   "source": [
    "### Esercizio - zslice\n",
    "\n",
    "Scrivi del codice che date due liste `la` (di almeno 3 elementi) e `lb`,  MODIFICA `lb` in modo che vi siano aggiunti i primi 3 elementi di `la` seguiti dagli ultimi 3 elementi di `la`\n",
    "\n",
    "* il tuo codice deve funzionare con qualsiasi lista \n",
    "* usa `extend` e le slice\n",
    "\n",
    "```python\n",
    "la = ['a','b','c','d','e','f','g','h','i','l','m','n','o']\n",
    "lb = ['z']\n",
    "```\n",
    "\n",
    "Dovresti ottenere:\n",
    "\n",
    "```python\n",
    ">>> print(la)\n",
    "['a', 'b', 'c', 'd', 'e', 'f', 'g', 'h', 'i', 'l', 'm', 'n', 'o']\n",
    ">>> print(lb)\n",
    "['z', 'a', 'b', 'c', 'm', 'n', 'o']\n",
    "```\n"
   ]
  },
  {
   "cell_type": "raw",
   "id": "be809cd2",
   "metadata": {
    "format": "text/html"
   },
   "source": [
    "<a  class=\"jupman-sol jupman-sol-toggler\" \n",
    " onclick=\"jupman.toggleSolution(this);\" \n",
    " data-jupman-show=\"Mostra soluzione\" data-jupman-hide=\"Nascondi\">Mostra soluzione</a><div class=\"jupman-sol jupman-sol-code\" style=\"display:none\">  "
   ]
  },
  {
   "cell_type": "code",
   "execution_count": 32,
   "metadata": {},
   "outputs": [
    {
     "name": "stdout",
     "output_type": "stream",
     "text": [
      "['a', 'b', 'c', 'd', 'e', 'f', 'g', 'h', 'i', 'l', 'm', 'n', 'o']\n",
      "['z', 'a', 'b', 'c', 'm', 'n', 'o']\n"
     ]
    }
   ],
   "source": [
    "\n",
    "la = ['a','b','c','d','e','f','g','h','i','l','m','n','o']\n",
    "lb = ['z']\n",
    "\n",
    "# scrivi qui\n",
    "\n",
    "lb.extend(la[:3])  # una slice genera una lista\n",
    "lb.extend(la[-3:])\n",
    "\n",
    "print(la)\n",
    "print(lb)\n"
   ]
  },
  {
   "cell_type": "raw",
   "id": "bf966d44",
   "metadata": {
    "format": "text/html"
   },
   "source": [
    "</div>"
   ]
  },
  {
   "cell_type": "code",
   "execution_count": 32,
   "metadata": {},
   "outputs": [],
   "source": [
    "\n",
    "la = ['a','b','c','d','e','f','g','h','i','l','m','n','o']\n",
    "lb = ['z']\n",
    "\n",
    "# scrivi qui\n",
    "\n"
   ]
  },
  {
   "cell_type": "markdown",
   "metadata": {},
   "source": [
    "### Esercizio - vedunazeblag\n",
    "\n",
    "Scrivi del codice che data una lista di tre stringhe `parole` e una lista vuota `la`, riempie `la` con tutti i primi 3 caratteri di ogni stringa in `parole`. \n",
    "\n",
    "* il tuo codice deve funzionare con qualsiasi lista di 3 stringhe\n",
    "* usa le slice\n",
    "\n",
    "Esempio - data:\n",
    "\n",
    "```python\n",
    "parole = [\"vedo\", \"una\", \"zebra\", \"laggiù\"]\n",
    "la = []\n",
    "```\n",
    "\n",
    "il tuo codice deve mostrare\n",
    "\n",
    "```python\n",
    ">>> print(t)\n",
    "['v', 'e', 'd', 'u', 'n', 'a', 'z', 'e', 'b', 'l', 'a', 'g']\n",
    "```"
   ]
  },
  {
   "cell_type": "raw",
   "id": "d9a38720",
   "metadata": {
    "format": "text/html"
   },
   "source": [
    "<a  class=\"jupman-sol jupman-sol-toggler\" \n",
    " onclick=\"jupman.toggleSolution(this);\" \n",
    " data-jupman-show=\"Mostra soluzione\" data-jupman-hide=\"Nascondi\">Mostra soluzione</a><div class=\"jupman-sol jupman-sol-code\" style=\"display:none\">  "
   ]
  },
  {
   "cell_type": "code",
   "execution_count": 33,
   "metadata": {},
   "outputs": [
    {
     "name": "stdout",
     "output_type": "stream",
     "text": [
      "['v', 'e', 'd', 'u', 'n', 'a', 'z', 'e', 'b', 'l', 'a', 'g']\n"
     ]
    }
   ],
   "source": [
    "\n",
    "parole = [\"vedo\", \"una\", \"zebra\", \"laggiù\"]\n",
    "\n",
    "la = []\n",
    "\n",
    "# scrivi qui\n",
    "la.extend(parole[0][:3])\n",
    "la.extend(parole[1][:3])\n",
    "la.extend(parole[2][:3])\n",
    "la.extend(parole[3][:3])\n",
    "print(la)"
   ]
  },
  {
   "cell_type": "raw",
   "id": "6e19b9c2",
   "metadata": {
    "format": "text/html"
   },
   "source": [
    "</div>"
   ]
  },
  {
   "cell_type": "code",
   "execution_count": 33,
   "metadata": {},
   "outputs": [],
   "source": [
    "\n",
    "parole = [\"vedo\", \"una\", \"zebra\", \"laggiù\"]\n",
    "\n",
    "la = []\n",
    "\n",
    "# scrivi qui\n",
    "\n"
   ]
  },
  {
   "cell_type": "markdown",
   "metadata": {},
   "source": [
    "## Metodo insert\n",
    "\n",
    "`insert` MODIFICA la lista inserendo un elemento ad uno specifico indice - tutti gli elementi a partire da quell'indice vengono spostati in avanti di una posizione"
   ]
  },
  {
   "cell_type": "code",
   "execution_count": 34,
   "metadata": {},
   "outputs": [],
   "source": [
    "     #0 1 2 3\n",
    "la = [6,7,8,9]"
   ]
  },
  {
   "cell_type": "code",
   "execution_count": 35,
   "metadata": {},
   "outputs": [],
   "source": [
    "la.insert(2,55)  # inserisce il numero 55 all'indice 2"
   ]
  },
  {
   "cell_type": "code",
   "execution_count": 36,
   "metadata": {},
   "outputs": [
    {
     "data": {
      "text/plain": [
       "[6, 7, 55, 8, 9]"
      ]
     },
     "execution_count": 36,
     "metadata": {},
     "output_type": "execute_result"
    }
   ],
   "source": [
    "la"
   ]
  },
  {
   "cell_type": "code",
   "execution_count": 37,
   "metadata": {},
   "outputs": [],
   "source": [
    "la.insert(0,77)  # inserisce il numero 77 all'indice 0"
   ]
  },
  {
   "cell_type": "code",
   "execution_count": 38,
   "metadata": {},
   "outputs": [
    {
     "data": {
      "text/plain": [
       "[77, 6, 7, 55, 8, 9]"
      ]
     },
     "execution_count": 38,
     "metadata": {},
     "output_type": "execute_result"
    }
   ],
   "source": [
    "la"
   ]
  },
  {
   "cell_type": "markdown",
   "metadata": {},
   "source": [
    "Possiamo inserire dopo la fine: "
   ]
  },
  {
   "cell_type": "code",
   "execution_count": 39,
   "metadata": {},
   "outputs": [],
   "source": [
    "la.insert(6,88)  # inserisce il numero 88 all'indice 6"
   ]
  },
  {
   "cell_type": "code",
   "execution_count": 40,
   "metadata": {},
   "outputs": [
    {
     "data": {
      "text/plain": [
       "[77, 6, 7, 55, 8, 9, 88]"
      ]
     },
     "execution_count": 40,
     "metadata": {},
     "output_type": "execute_result"
    }
   ],
   "source": [
    "la"
   ]
  },
  {
   "cell_type": "markdown",
   "metadata": {},
   "source": [
    "Nota che se sforiamo con l'indice, l'elemento viene comunque messo alla fine e non vengono create celle vuote:"
   ]
  },
  {
   "cell_type": "code",
   "execution_count": 41,
   "metadata": {},
   "outputs": [],
   "source": [
    "la.insert(1000,99)  # in questo caso inserisce il numero 99 all'indice 7"
   ]
  },
  {
   "cell_type": "markdown",
   "metadata": {},
   "source": [
    "**DOMANDA**: Data una lista qualsiasi `x`, questo codice cosa produce? Possiamo riscriverlo in un'altra maniera?\n",
    "\n",
    "```python\n",
    "x.insert(len(x),66)\n",
    "```\n",
    "\n",
    "1. produce una nuova lista (quale?)\n",
    "2. modifica `x` (come?)\n",
    "3. un errore"
   ]
  },
  {
   "cell_type": "raw",
   "id": "c310fd67",
   "metadata": {
    "format": "text/html"
   },
   "source": [
    "<a  class=\"jupman-sol jupman-sol-toggler\" \n",
    " onclick=\"jupman.toggleSolution(this);\" \n",
    " data-jupman-show=\"Mostra risposta\" data-jupman-hide=\"Nascondi\">Mostra risposta</a><div class=\"jupman-sol jupman-sol-question\" style=\"display:none\">  "
   ]
  },
  {
   "cell_type": "markdown",
   "metadata": {},
   "source": [
    "**RISPOSTA**: La 2 - il codice MODIFICA la lista `x` aggiungendo alla lista l'elemento `66` alla fine. Il codice è pertanto equivalente al codice \n",
    "\n",
    "```python\n",
    "x.append(66)\n",
    "```"
   ]
  },
  {
   "cell_type": "raw",
   "id": "6bbca61e",
   "metadata": {
    "format": "text/html"
   },
   "source": [
    "</div>"
   ]
  },
  {
   "cell_type": "markdown",
   "metadata": {},
   "source": [
    "**DOMANDA**: Il seguente codice, cosa produce?\n",
    "\n",
    "```python\n",
    "la = [3,4,5,6]\n",
    "la.insert(0,[1,2])\n",
    "print(la)\n",
    "```\n",
    "\n",
    "1. stampa [1,2,3,4,5,6]\n",
    "2. un errore (quale?)\n",
    "3. qualcos'altro (cosa?)"
   ]
  },
  {
   "cell_type": "raw",
   "id": "fbec1c0c",
   "metadata": {
    "format": "text/html"
   },
   "source": [
    "<a  class=\"jupman-sol jupman-sol-toggler\" \n",
    " onclick=\"jupman.toggleSolution(this);\" \n",
    " data-jupman-show=\"Mostra risposta\" data-jupman-hide=\"Nascondi\">Mostra risposta</a><div class=\"jupman-sol jupman-sol-question\" style=\"display:none\">  "
   ]
  },
  {
   "cell_type": "markdown",
   "metadata": {},
   "source": [
    "**RISPOSTA**: La 3 - il codice inserisce come zeresimo elemento di `la` la lista `[1,2]`. La stampa produrrà quindi `[[1, 2], 3, 4, 5, 6]` "
   ]
  },
  {
   "cell_type": "raw",
   "id": "363dc423",
   "metadata": {
    "format": "text/html"
   },
   "source": [
    "</div>"
   ]
  },
  {
   "cell_type": "markdown",
   "metadata": {},
   "source": [
    "**DOMANDA**: Il seguente codice cosa produce?\n",
    "\n",
    "\n",
    "```python\n",
    "la = [4,5,6]\n",
    "la.insert(0,1,2,3)\n",
    "print(la)\n",
    "```\n",
    "\n",
    "1. stampa `[1,2,3,4,5,6]`\n",
    "2. un errore (quale?)\n",
    "3. qualcos'altro (cosa?)"
   ]
  },
  {
   "cell_type": "raw",
   "id": "2f9236d5",
   "metadata": {
    "format": "text/html"
   },
   "source": [
    "<a  class=\"jupman-sol jupman-sol-toggler\" \n",
    " onclick=\"jupman.toggleSolution(this);\" \n",
    " data-jupman-show=\"Mostra risposta\" data-jupman-hide=\"Nascondi\">Mostra risposta</a><div class=\"jupman-sol jupman-sol-question\" style=\"display:none\">  "
   ]
  },
  {
   "cell_type": "markdown",
   "metadata": {},
   "source": [
    "**RISPOSTA**: La 2 - un errore, a `insert` possiamo passare solo 2 parametri, l'indice di inserimento e il singolo oggetto da inserire"
   ]
  },
  {
   "cell_type": "raw",
   "id": "ceb7254e",
   "metadata": {
    "format": "text/html"
   },
   "source": [
    "</div>"
   ]
  },
  {
   "cell_type": "markdown",
   "metadata": {},
   "source": [
    "**DOMANDA**: Il seguente codice cosa produce?\n",
    "\n",
    "\n",
    "```python\n",
    "la = [4,5,6]\n",
    "lb = la.insert(0,3)\n",
    "lc = lb.insert(0,2)\n",
    "ld = lc.insert(0,1)\n",
    "print(ld)\n",
    "```\n",
    "\n",
    "1. stampa `[1,2,3,4,5,6]`\n",
    "2. un errore (quale?)\n",
    "3. qualcos'altro (cosa?)"
   ]
  },
  {
   "cell_type": "raw",
   "id": "20ad35bb",
   "metadata": {
    "format": "text/html"
   },
   "source": [
    "<a  class=\"jupman-sol jupman-sol-toggler\" \n",
    " onclick=\"jupman.toggleSolution(this);\" \n",
    " data-jupman-show=\"Mostra risposta\" data-jupman-hide=\"Nascondi\">Mostra risposta</a><div class=\"jupman-sol jupman-sol-question\" style=\"display:none\">  "
   ]
  },
  {
   "cell_type": "markdown",
   "metadata": {},
   "source": [
    "**RISPOSTA**: la 2 - un errore: come quasi tutti i metodi delle liste, `insert` ritorna `None`, quindi scrivendo `lb = la.insert(0,3)` andiamo ad associare `None` a `lb`, e quando nella riga successiva Python incontra `lc = lb.insert(0,2)` e prova ad eseguire `None.insert(0,2)` si lamenterà perchè `None` non essendo una lista non ha il metodo `insert`."
   ]
  },
  {
   "cell_type": "raw",
   "id": "b2861fe0",
   "metadata": {
    "format": "text/html"
   },
   "source": [
    "</div>"
   ]
  },
  {
   "cell_type": "markdown",
   "metadata": {},
   "source": [
    "### Esercizio - insertando\n",
    "\n",
    "Data la lista:\n",
    "\n",
    "`la = [7,6,8,5,6]`\n",
    "\n",
    "scrivi del codice che la MODIFICA usando solo chiamate a `insert`. Dopo il tuo codice, `la` deve apparire così:\n",
    "\n",
    "```python\n",
    ">>> print(la)\n",
    "[7, 70, 90, 6, 8, 80, 5, 6, 50]\n",
    "```"
   ]
  },
  {
   "cell_type": "raw",
   "id": "0c6dde96",
   "metadata": {
    "format": "text/html"
   },
   "source": [
    "<a  class=\"jupman-sol jupman-sol-toggler\" \n",
    " onclick=\"jupman.toggleSolution(this);\" \n",
    " data-jupman-show=\"Mostra soluzione\" data-jupman-hide=\"Nascondi\">Mostra soluzione</a><div class=\"jupman-sol jupman-sol-code\" style=\"display:none\">  "
   ]
  },
  {
   "cell_type": "code",
   "execution_count": 42,
   "metadata": {},
   "outputs": [
    {
     "name": "stdout",
     "output_type": "stream",
     "text": [
      "[7, 70, 90, 6, 8, 80, 5, 6, 50]\n"
     ]
    }
   ],
   "source": [
    "\n",
    "la = [7,6,8,5,6]\n",
    "\n",
    "# scrivi qui\n",
    "\n",
    "la.insert(3,80)\n",
    "la.insert(1,90)\n",
    "la.insert(1,70)\n",
    "la.insert(len(la),50)\n",
    "\n",
    "print(la)"
   ]
  },
  {
   "cell_type": "raw",
   "id": "b5d4c56d",
   "metadata": {
    "format": "text/html"
   },
   "source": [
    "</div>"
   ]
  },
  {
   "cell_type": "code",
   "execution_count": 42,
   "metadata": {},
   "outputs": [],
   "source": [
    "\n",
    "la = [7,6,8,5,6]\n",
    "\n",
    "# scrivi qui\n",
    "\n"
   ]
  },
  {
   "cell_type": "markdown",
   "metadata": {},
   "source": [
    "<div class=\"alert alert-warning\">\n",
    "\n",
    "**ATTENZIONE**: chiamare `insert` è molto più lento di `append` !!\n",
    "\n",
    "Una chiamata ad `insert` riscrive tutte le celle successive a quella dell'inserimento, mentre invece `append` aggiunge una cella e basta. Dato che il computer è veloce, molto spesso non ci si accorge della differenza, ma quando possibile, e specialemente se devi scrivere programmi che operano su grandi quantità di dati, prova a scrivere il codice usando `append` invece di `insert`.\n",
    "</div>"
   ]
  },
  {
   "cell_type": "markdown",
   "metadata": {},
   "source": [
    "### Esercizio - insappend\n",
    "\n",
    "Questo codice prende come input una lista vuota `la` e una lista di numeri `lb`. Cerca di capire cosa fa, e riscrivilo usando degli `append`."
   ]
  },
  {
   "cell_type": "code",
   "execution_count": 43,
   "metadata": {},
   "outputs": [
    {
     "name": "stdout",
     "output_type": "stream",
     "text": [
      "[16, 18, 12, 14]\n"
     ]
    }
   ],
   "source": [
    "la = []\n",
    "lb = [7,6,9,8]\n",
    "la.insert(0,lb[0]*2)\n",
    "la.insert(0,lb[1]*2)\n",
    "la.insert(0,lb[2]*2)\n",
    "la.insert(0,lb[3]*2)\n",
    "print(la)"
   ]
  },
  {
   "cell_type": "raw",
   "id": "f3b85f6e",
   "metadata": {
    "format": "text/html"
   },
   "source": [
    "<a  class=\"jupman-sol jupman-sol-toggler\" \n",
    " onclick=\"jupman.toggleSolution(this);\" \n",
    " data-jupman-show=\"Mostra soluzione\" data-jupman-hide=\"Nascondi\">Mostra soluzione</a><div class=\"jupman-sol jupman-sol-code\" style=\"display:none\">  "
   ]
  },
  {
   "cell_type": "code",
   "execution_count": 44,
   "metadata": {},
   "outputs": [
    {
     "name": "stdout",
     "output_type": "stream",
     "text": [
      "[16, 18, 12, 14]\n"
     ]
    }
   ],
   "source": [
    "\n",
    "la = []\n",
    "lb = [7,6,9,8]\n",
    "\n",
    "# scrivi qui\n",
    "la.append(lb[-1]*2)\n",
    "la.append(lb[-2]*2)\n",
    "la.append(lb[-3]*2)\n",
    "la.append(lb[-4]*2)\n",
    "print(la)"
   ]
  },
  {
   "cell_type": "raw",
   "id": "91deebf1",
   "metadata": {
    "format": "text/html"
   },
   "source": [
    "</div>"
   ]
  },
  {
   "cell_type": "code",
   "execution_count": 44,
   "metadata": {},
   "outputs": [],
   "source": [
    "\n",
    "la = []\n",
    "lb = [7,6,9,8]\n",
    "\n",
    "# scrivi qui\n",
    "\n"
   ]
  },
  {
   "cell_type": "markdown",
   "metadata": {},
   "source": [
    "## Metodo pop\n",
    "\n",
    "Il metodo `pop` se chiamato senza argomenti rimuove l'ultimo elemento (MODIFICANDO la lista) e lo ritorna:"
   ]
  },
  {
   "cell_type": "code",
   "execution_count": 45,
   "metadata": {},
   "outputs": [],
   "source": [
    "cesta = ['melone','fragola', 'anguria']"
   ]
  },
  {
   "cell_type": "code",
   "execution_count": 46,
   "metadata": {},
   "outputs": [
    {
     "data": {
      "text/plain": [
       "'anguria'"
      ]
     },
     "execution_count": 46,
     "metadata": {},
     "output_type": "execute_result"
    }
   ],
   "source": [
    "cesta.pop()"
   ]
  },
  {
   "cell_type": "code",
   "execution_count": 47,
   "metadata": {},
   "outputs": [
    {
     "data": {
      "text/plain": [
       "['melone', 'fragola']"
      ]
     },
     "execution_count": 47,
     "metadata": {},
     "output_type": "execute_result"
    }
   ],
   "source": [
    "cesta"
   ]
  },
  {
   "cell_type": "code",
   "execution_count": 48,
   "metadata": {},
   "outputs": [
    {
     "data": {
      "text/plain": [
       "'fragola'"
      ]
     },
     "execution_count": 48,
     "metadata": {},
     "output_type": "execute_result"
    }
   ],
   "source": [
    "cesta.pop()"
   ]
  },
  {
   "cell_type": "code",
   "execution_count": 49,
   "metadata": {},
   "outputs": [
    {
     "data": {
      "text/plain": [
       "['melone']"
      ]
     },
     "execution_count": 49,
     "metadata": {},
     "output_type": "execute_result"
    }
   ],
   "source": [
    "cesta"
   ]
  },
  {
   "cell_type": "markdown",
   "metadata": {},
   "source": [
    "Visto che l'ultimo elemento è _ritornato_ dalla `pop`, possiamo assegnarlo ad una variabile:"
   ]
  },
  {
   "cell_type": "code",
   "execution_count": 50,
   "metadata": {},
   "outputs": [],
   "source": [
    "frutto = cesta.pop()"
   ]
  },
  {
   "cell_type": "markdown",
   "metadata": {},
   "source": [
    "Nota che non vediamo più nessun risultato stampato perchè l'elemento ritornato è stato assegnato alla variabile `frutto`:"
   ]
  },
  {
   "cell_type": "code",
   "execution_count": 51,
   "metadata": {},
   "outputs": [
    {
     "data": {
      "text/plain": [
       "'melone'"
      ]
     },
     "execution_count": 51,
     "metadata": {},
     "output_type": "execute_result"
    }
   ],
   "source": [
    "frutto"
   ]
  },
  {
   "cell_type": "markdown",
   "metadata": {},
   "source": [
    "Constatiamo anche che `cesta` è stata MODIFICATA:"
   ]
  },
  {
   "cell_type": "code",
   "execution_count": 52,
   "metadata": {},
   "outputs": [
    {
     "data": {
      "text/plain": [
       "[]"
      ]
     },
     "execution_count": 52,
     "metadata": {},
     "output_type": "execute_result"
    }
   ],
   "source": [
    "cesta"
   ]
  },
  {
   "cell_type": "markdown",
   "metadata": {},
   "source": [
    "Chiamare ulteriormente `pop` su una lista vuota genera un'errore:"
   ]
  },
  {
   "cell_type": "markdown",
   "metadata": {},
   "source": [
    "```python\n",
    "cesta.pop()\n",
    "---------------------------------------------------------------------------\n",
    "IndexError                                Traceback (most recent call last)\n",
    "<ipython-input-67-086f38c9fbc0> in <module>()\n",
    "----> 1 cesta.pop()\n",
    "\n",
    "IndexError: pop from empty list\n",
    "\n",
    "```"
   ]
  },
  {
   "cell_type": "markdown",
   "metadata": {},
   "source": [
    "Opzionalmente, per rimuovere un elemento ad una specifica posizione possiamo passare a `pop` un indice da `0` INCLUSO alla lunghezza della lista ESCLUSA:"
   ]
  },
  {
   "cell_type": "code",
   "execution_count": 53,
   "metadata": {},
   "outputs": [],
   "source": [
    "#           0           1             2        3\n",
    "attrezzi = ['martello', 'cacciavite', 'pinza', 'martello']"
   ]
  },
  {
   "cell_type": "code",
   "execution_count": 54,
   "metadata": {},
   "outputs": [
    {
     "data": {
      "text/plain": [
       "'pinza'"
      ]
     },
     "execution_count": 54,
     "metadata": {},
     "output_type": "execute_result"
    }
   ],
   "source": [
    "attrezzi.pop(2)"
   ]
  },
  {
   "cell_type": "code",
   "execution_count": 55,
   "metadata": {},
   "outputs": [
    {
     "data": {
      "text/plain": [
       "['martello', 'cacciavite', 'martello']"
      ]
     },
     "execution_count": 55,
     "metadata": {},
     "output_type": "execute_result"
    }
   ],
   "source": [
    "attrezzi"
   ]
  },
  {
   "cell_type": "markdown",
   "metadata": {},
   "source": [
    "**DOMANDA**: Guarda i frammenti di codice seguenti, e per ciascuno cerca di indovinare che risultato produce (o se risulta in un errore).\n",
    "\n",
    "1.  ```python\n",
    "    la = ['a']\n",
    "    print(la.pop())\n",
    "    print(la.pop())\n",
    "    ```\n",
    "1.  ```python\n",
    "    la = [4,3,2,1]\n",
    "    print(la.pop(4))\n",
    "    print(la)\n",
    "    ```\n",
    "1.  ```python\n",
    "    la = [1,2,3,4]\n",
    "    print(la.pop(3))\n",
    "    print(la)\n",
    "    ```    \n",
    "1.  ```python\n",
    "    la = [1,2,3,4]\n",
    "    print(la.pop(-1))\n",
    "    print(la)\n",
    "    ```\n",
    "1.  ```python\n",
    "    s = 'grezzo'\n",
    "    print(s.pop())\n",
    "    print(s)\n",
    "    ```\n",
    "1.  ```python\n",
    "    la = ['molto', 'grezzo']\n",
    "    print(la.pop())\n",
    "    print(la)\n",
    "    ```\n",
    "1.  ```python\n",
    "    la = ['a', ['a']]\n",
    "    print(la.pop())\n",
    "    print(la)\n",
    "    ```"
   ]
  },
  {
   "cell_type": "markdown",
   "metadata": {},
   "source": [
    "### Esercizio - popcorn\n",
    "\n",
    "Data una lista `corn` di esattamente 4 caratteri, scrivi del codice che trasferisce in ordine inverso tutti i caratteri da `corn` ad un'altra lista `scatola` che inizialmente è vuota.\n",
    "\n",
    "- **NON** usare metodi come `reverse` o funzioni come `reversed`\n",
    "- Il tuo codice deve funzionare con _qualsiasi_ lista `corn` di 4 elementi \n",
    "\n",
    "Esempio - date:\n",
    "\n",
    "```python\n",
    "corn = ['t','o','r','o']\n",
    "scatola = []\n",
    "```\n",
    "\n",
    "dopo il tuo codice, deve risultare:\n",
    "\n",
    "```python\n",
    ">>> print(corn)\n",
    "[]\n",
    ">>> print(scatola)\n",
    "['o','r','o','t']\n",
    "```"
   ]
  },
  {
   "cell_type": "raw",
   "id": "3775c9d3",
   "metadata": {
    "format": "text/html"
   },
   "source": [
    "<a  class=\"jupman-sol jupman-sol-toggler\" \n",
    " onclick=\"jupman.toggleSolution(this);\" \n",
    " data-jupman-show=\"Mostra soluzione\" data-jupman-hide=\"Nascondi\">Mostra soluzione</a><div class=\"jupman-sol jupman-sol-code\" style=\"display:none\">  "
   ]
  },
  {
   "cell_type": "code",
   "execution_count": 1,
   "metadata": {},
   "outputs": [
    {
     "name": "stdout",
     "output_type": "stream",
     "text": [
      "['o', 'r', 'o', 't']\n"
     ]
    }
   ],
   "source": [
    "     \n",
    "corn = ['t','o','r','o']\n",
    "scatola = []\n",
    "\n",
    "# scrivi qui\n",
    "\n",
    "scatola.append(corn.pop())\n",
    "scatola.append(corn.pop())\n",
    "scatola.append(corn.pop())\n",
    "scatola.append(corn.pop())\n",
    "print(scatola)"
   ]
  },
  {
   "cell_type": "raw",
   "id": "c0606059",
   "metadata": {
    "format": "text/html"
   },
   "source": [
    "</div>"
   ]
  },
  {
   "cell_type": "code",
   "execution_count": 1,
   "metadata": {},
   "outputs": [],
   "source": [
    "     \n",
    "corn = ['t','o','r','o']\n",
    "scatola = []\n",
    "\n",
    "# scrivi qui\n",
    "\n"
   ]
  },
  {
   "cell_type": "markdown",
   "metadata": {},
   "source": [
    "### Esercizio - zonzo\n",
    "\n"
   ]
  },
  {
   "cell_type": "markdown",
   "metadata": {},
   "source": [
    "Data una lista `la` contenente dei caratteri, e una lista `lb` contente esattamente due posizioni  _ordinate in modo crescente_ , scrivi del codice che elimina da `la` i caratteri alle posizioni specificate in `lb`. \n",
    "\n",
    "* **ATTENZIONE**: chiamando la `pop` la prima volta MODIFICHERAI `la`, quindi l'indice del secondo elemento da eliminare andrà opportunamente aggiustato !\n",
    "* **NON** creare nuove liste, quindi niente righe che iniziano con `la = `\n",
    "* Il tuo codice deve funzionare per _qualsiasi_ `la`,  e _qualsiasi_ `lb` da due elementi\n",
    "\n",
    "\n",
    "Esempio - dati:\n",
    "\n",
    "```python\n",
    "#      0   1   2   3   4\n",
    "la = ['z','o','n','z','o']\n",
    "lb = [2,4]\n",
    "```\n",
    "\n",
    "alla posizione 2 in `la` troviamo la `n` e alla 4 la `o`, quindi dopo il tuo codice dovrà risultare:\n",
    "\n",
    "```python\n",
    ">>> print(la)\n",
    "['z', 'o', 'z']\n",
    "```"
   ]
  },
  {
   "cell_type": "raw",
   "id": "cbc9d4fb",
   "metadata": {
    "format": "text/html"
   },
   "source": [
    "<a  class=\"jupman-sol jupman-sol-toggler\" \n",
    " onclick=\"jupman.toggleSolution(this);\" \n",
    " data-jupman-show=\"Mostra soluzione\" data-jupman-hide=\"Nascondi\">Mostra soluzione</a><div class=\"jupman-sol jupman-sol-code\" style=\"display:none\">  "
   ]
  },
  {
   "cell_type": "code",
   "execution_count": 57,
   "metadata": {},
   "outputs": [
    {
     "name": "stdout",
     "output_type": "stream",
     "text": [
      "['z', 'o', 'z']\n"
     ]
    }
   ],
   "source": [
    "\n",
    "#      0   1   2   3   4\n",
    "la = ['z','o','n','z','o']\n",
    "lb = [2,4]\n",
    "\n",
    "# scrivi qui\n",
    "la.pop(lb[0])\n",
    "la.pop(lb[1]-1)\n",
    "print(la)"
   ]
  },
  {
   "cell_type": "raw",
   "id": "f5ea7a1d",
   "metadata": {
    "format": "text/html"
   },
   "source": [
    "</div>"
   ]
  },
  {
   "cell_type": "code",
   "execution_count": 57,
   "metadata": {},
   "outputs": [],
   "source": [
    "\n",
    "#      0   1   2   3   4\n",
    "la = ['z','o','n','z','o']\n",
    "lb = [2,4]\n",
    "\n",
    "# scrivi qui\n",
    "\n"
   ]
  },
  {
   "cell_type": "markdown",
   "metadata": {},
   "source": [
    "## Metodo reverse\n",
    "\n",
    "Il metodo `reverse` MODIFICA la lista su cui è chiamato invertendo l'ordine degli elementi.\n",
    "\n",
    "Vediamo un esempio: "
   ]
  },
  {
   "cell_type": "code",
   "execution_count": 58,
   "metadata": {},
   "outputs": [],
   "source": [
    "la = [7,6,8,4]"
   ]
  },
  {
   "cell_type": "code",
   "execution_count": 59,
   "metadata": {},
   "outputs": [],
   "source": [
    "la.reverse()"
   ]
  },
  {
   "cell_type": "code",
   "execution_count": 60,
   "metadata": {},
   "outputs": [
    {
     "data": {
      "text/plain": [
       "[4, 8, 6, 7]"
      ]
     },
     "execution_count": 60,
     "metadata": {},
     "output_type": "execute_result"
    }
   ],
   "source": [
    "la"
   ]
  },
  {
   "cell_type": "markdown",
   "metadata": {},
   "source": [
    "<div class=\"alert alert-warning\">\n",
    "\n",
    "**ATTENZIONE**: `reverse` **NON RITORNA NULLA!**\n",
    "\n",
    "Per essere precisi, ritorna `None`\n",
    "\n",
    "</div>"
   ]
  },
  {
   "cell_type": "code",
   "execution_count": 61,
   "metadata": {},
   "outputs": [],
   "source": [
    "lb = [7,6,8,4]"
   ]
  },
  {
   "cell_type": "code",
   "execution_count": 62,
   "metadata": {},
   "outputs": [],
   "source": [
    "x = lb.reverse()"
   ]
  },
  {
   "cell_type": "code",
   "execution_count": 63,
   "metadata": {},
   "outputs": [
    {
     "name": "stdout",
     "output_type": "stream",
     "text": [
      "None\n"
     ]
    }
   ],
   "source": [
    "print(x)"
   ]
  },
  {
   "cell_type": "code",
   "execution_count": 64,
   "metadata": {},
   "outputs": [
    {
     "name": "stdout",
     "output_type": "stream",
     "text": [
      "[4, 8, 6, 7]\n"
     ]
    }
   ],
   "source": [
    "print(lb)"
   ]
  },
  {
   "cell_type": "markdown",
   "metadata": {},
   "source": [
    "**DOMANDA**: Il codice seguente che effetto produce?\n",
    "\n",
    "```python\n",
    "s = \"transatlantico\"\n",
    "s.reverse()\n",
    "print(s)\n",
    "```\n",
    "\n",
    "1. un errore (quale?)\n",
    "2. stampa la stringa rovesciata "
   ]
  },
  {
   "cell_type": "raw",
   "id": "dd9146d8",
   "metadata": {
    "format": "text/html"
   },
   "source": [
    "<a  class=\"jupman-sol jupman-sol-toggler\" \n",
    " onclick=\"jupman.toggleSolution(this);\" \n",
    " data-jupman-show=\"Mostra risposta\" data-jupman-hide=\"Nascondi\">Mostra risposta</a><div class=\"jupman-sol jupman-sol-question\" style=\"display:none\">  "
   ]
  },
  {
   "cell_type": "markdown",
   "metadata": {},
   "source": [
    "**RISPOSTA**: `.reverse()` è un metodo presente SOLO nelle LISTE, quindi usandolo sulle stringhe stringhe si otterrà un errore. E c'è da attenderselo, visto che `reverse` MODIFICA l'oggetto su cui è chiamato e perchè le stringhe sono _immutabili_ nessun metodo delle stringhe può modificare la stringa su cui è chiamato."
   ]
  },
  {
   "cell_type": "raw",
   "id": "8fe5435b",
   "metadata": {
    "format": "text/html"
   },
   "source": [
    "</div>"
   ]
  },
  {
   "cell_type": "markdown",
   "metadata": {},
   "source": [
    "**DOMANDA**: Se `x` è una lista qualsiasi, che effetto produce il codice seguente?\n",
    "\n",
    "```python\n",
    "x.reverse().reverse()\n",
    "```\n",
    "1. cambia la lista (come?)\n",
    "2. non cambia la lista\n",
    "2. genera un errore (quale?)"
   ]
  },
  {
   "cell_type": "raw",
   "id": "123ee233",
   "metadata": {
    "format": "text/html"
   },
   "source": [
    "<a  class=\"jupman-sol jupman-sol-toggler\" \n",
    " onclick=\"jupman.toggleSolution(this);\" \n",
    " data-jupman-show=\"Mostra risposta\" data-jupman-hide=\"Nascondi\">Mostra risposta</a><div class=\"jupman-sol jupman-sol-question\" style=\"display:none\">  "
   ]
  },
  {
   "cell_type": "markdown",
   "metadata": {},
   "source": [
    "**RISPOSTA**: La 3 - genera un errore, perchè `reverse()` ritorna `None` e `None` non essendo una lista non ha il metodo `reverse()`."
   ]
  },
  {
   "cell_type": "raw",
   "id": "96282572",
   "metadata": {
    "format": "text/html"
   },
   "source": [
    "</div>"
   ]
  },
  {
   "cell_type": "markdown",
   "metadata": {},
   "source": [
    "### Esercizio - come va?\n",
    "\n",
    "Scrivi del codice che date due liste `la` e `lb`, MODIFICA `la` aggiungendogli tutti gli elementi di `lb` e rovesciando poi l'intera lista. \n",
    "\n",
    "* il tuo codice deve funzionare per qualunque `la` e `lb`\n",
    "* **NON** modificare `lb`\n",
    "\n",
    "Esempio - dati: \n",
    "\n",
    "```python\n",
    "la = ['c','o','m','e']\n",
    "lb = ['v','a','?']\n",
    "```\n",
    "\n",
    "Dopo il tuo codice, deve stampare:\n",
    "\n",
    "```python\n",
    ">>> print('la=',la)\n",
    "la= ['?', 'a', 'v', 'e', 'm', 'o', 'c']\n",
    ">>> print('lb=',lb)\n",
    "lb= ['v', 'a', '?']\n",
    "```"
   ]
  },
  {
   "cell_type": "raw",
   "id": "72578bc0",
   "metadata": {
    "format": "text/html"
   },
   "source": [
    "<a  class=\"jupman-sol jupman-sol-toggler\" \n",
    " onclick=\"jupman.toggleSolution(this);\" \n",
    " data-jupman-show=\"Mostra soluzione\" data-jupman-hide=\"Nascondi\">Mostra soluzione</a><div class=\"jupman-sol jupman-sol-code\" style=\"display:none\">  "
   ]
  },
  {
   "cell_type": "code",
   "execution_count": 65,
   "metadata": {},
   "outputs": [
    {
     "name": "stdout",
     "output_type": "stream",
     "text": [
      "la= ['?', 'a', 'v', 'e', 'm', 'o', 'c']\n",
      "lb= ['v', 'a', '?']\n"
     ]
    }
   ],
   "source": [
    "\n",
    "la = ['c','o','m','e']\n",
    "lb = ['v','a','?']\n",
    "\n",
    "# scrivi qui\n",
    "la.extend(lb)\n",
    "la.reverse()\n",
    "print('la=',la)\n",
    "print('lb=',lb)"
   ]
  },
  {
   "cell_type": "raw",
   "id": "9c1604c5",
   "metadata": {
    "format": "text/html"
   },
   "source": [
    "</div>"
   ]
  },
  {
   "cell_type": "code",
   "execution_count": 65,
   "metadata": {},
   "outputs": [],
   "source": [
    "\n",
    "la = ['c','o','m','e']\n",
    "lb = ['v','a','?']\n",
    "\n",
    "# scrivi qui\n",
    "\n"
   ]
  },
  {
   "cell_type": "markdown",
   "metadata": {},
   "source": [
    "### Esercizio - cose preziose\n",
    "\n",
    "Date due liste `la` e `lb`, scrivi del codice che STAMPA una lista con gli elementi di `la` e `lb` in ordine invertito\n",
    "\n",
    "- **NON** modificare `la` e **NON** modificare `lb`\n",
    "- il tuo codice deve funzionare per qualsiasi lista `la` e `lb`\n",
    "\n",
    "Esempio - dati\n",
    "\n",
    "```python\n",
    "la = ['c', 'o', 's', 'e']\n",
    "lb = ['p', 'r', 'e', 'z', 'i', 'o', 's', 'e']\n",
    "```\n",
    "\n",
    "dopo il tuo codice deve stampare\n",
    "```python\n",
    "['e', 's', 'o', 'i', 'z', 'e', 'r', 'p', 'e', 's', 'o', 'c']\n",
    "```"
   ]
  },
  {
   "cell_type": "raw",
   "id": "c6315f06",
   "metadata": {
    "format": "text/html"
   },
   "source": [
    "<a  class=\"jupman-sol jupman-sol-toggler\" \n",
    " onclick=\"jupman.toggleSolution(this);\" \n",
    " data-jupman-show=\"Mostra soluzione\" data-jupman-hide=\"Nascondi\">Mostra soluzione</a><div class=\"jupman-sol jupman-sol-code\" style=\"display:none\">  "
   ]
  },
  {
   "cell_type": "code",
   "execution_count": 66,
   "metadata": {},
   "outputs": [
    {
     "name": "stdout",
     "output_type": "stream",
     "text": [
      "['e', 's', 'o', 'i', 'z', 'e', 'r', 'p', 'e', 's', 'o', 'c']\n"
     ]
    }
   ],
   "source": [
    "\n",
    "la = ['c', 'o', 's', 'e']\n",
    "lb = ['p', 'r', 'e', 'z', 'i', 'o', 's', 'e']\n",
    "\n",
    "# scrivi qui\n",
    "lc = la + lb  # il + crea una NUOVA lista\n",
    "lc.reverse()\n",
    "print(lc)"
   ]
  },
  {
   "cell_type": "raw",
   "id": "e81a1be8",
   "metadata": {
    "format": "text/html"
   },
   "source": [
    "</div>"
   ]
  },
  {
   "cell_type": "code",
   "execution_count": 66,
   "metadata": {},
   "outputs": [],
   "source": [
    "\n",
    "la = ['c', 'o', 's', 'e']\n",
    "lb = ['p', 'r', 'e', 'z', 'i', 'o', 's', 'e']\n",
    "\n",
    "# scrivi qui\n",
    "\n"
   ]
  },
  {
   "cell_type": "markdown",
   "metadata": {},
   "source": [
    "### Esercizio - potenze\n",
    "\n",
    "Il codice seguente usa degli `insert` che come già detto non sono molto efficienti. Cerca di capire cosa fa, e riscrivilo usando solo `append` e `reverse`\n",
    "\n",
    "* il tuo codice deve funzionare per qualsiasi valore di `x`"
   ]
  },
  {
   "cell_type": "code",
   "execution_count": 67,
   "metadata": {},
   "outputs": [
    {
     "name": "stdout",
     "output_type": "stream",
     "text": [
      "[32, 16, 8, 4, 2]\n"
     ]
    }
   ],
   "source": [
    "x = 2\n",
    "la = [x]\n",
    "la.insert(0,la[0]*2)\n",
    "la.insert(0,la[0]*2)\n",
    "la.insert(0,la[0]*2)\n",
    "la.insert(0,la[0]*2)\n",
    "print(la)"
   ]
  },
  {
   "cell_type": "raw",
   "id": "806df689",
   "metadata": {
    "format": "text/html"
   },
   "source": [
    "<a  class=\"jupman-sol jupman-sol-toggler\" \n",
    " onclick=\"jupman.toggleSolution(this);\" \n",
    " data-jupman-show=\"Mostra soluzione\" data-jupman-hide=\"Nascondi\">Mostra soluzione</a><div class=\"jupman-sol jupman-sol-code\" style=\"display:none\">  "
   ]
  },
  {
   "cell_type": "code",
   "execution_count": 68,
   "metadata": {},
   "outputs": [
    {
     "name": "stdout",
     "output_type": "stream",
     "text": [
      "[32, 16, 8, 4, 2]\n"
     ]
    }
   ],
   "source": [
    "\n",
    "x = 2\n",
    "la = [x]\n",
    "\n",
    "# scrivi qui\n",
    "la.append(la[-1]*2)\n",
    "la.append(la[-1]*2)\n",
    "la.append(la[-1]*2)\n",
    "la.append(la[-1]*2)\n",
    "la.reverse()\n",
    "print(la)"
   ]
  },
  {
   "cell_type": "raw",
   "id": "db217409",
   "metadata": {
    "format": "text/html"
   },
   "source": [
    "</div>"
   ]
  },
  {
   "cell_type": "code",
   "execution_count": 68,
   "metadata": {},
   "outputs": [],
   "source": [
    "\n",
    "x = 2\n",
    "la = [x]\n",
    "\n",
    "# scrivi qui\n",
    "\n"
   ]
  },
  {
   "cell_type": "markdown",
   "metadata": {},
   "source": [
    "## Metodo sort\n",
    "\n"
   ]
  },
  {
   "cell_type": "markdown",
   "metadata": {},
   "source": [
    "Se una lista contiene elementi omogenei, è possibile ordinarla rapidamente con il metodo `sort`, che MODIFICA la lista su cui viene chiamato:"
   ]
  },
  {
   "cell_type": "code",
   "execution_count": 69,
   "metadata": {},
   "outputs": [],
   "source": [
    "la = [8,6,7,9]"
   ]
  },
  {
   "cell_type": "code",
   "execution_count": 70,
   "metadata": {},
   "outputs": [],
   "source": [
    "la.sort()  # NOTA: sort non ritorna nulla !!!"
   ]
  },
  {
   "cell_type": "code",
   "execution_count": 71,
   "metadata": {},
   "outputs": [
    {
     "data": {
      "text/plain": [
       "[6, 7, 8, 9]"
      ]
     },
     "execution_count": 71,
     "metadata": {},
     "output_type": "execute_result"
    }
   ],
   "source": [
    "la"
   ]
  },
  {
   "cell_type": "markdown",
   "metadata": {},
   "source": [
    "Anche le stringhe sono ordinabili: "
   ]
  },
  {
   "cell_type": "code",
   "execution_count": 72,
   "metadata": {},
   "outputs": [],
   "source": [
    "lb = ['Boccaccio', 'Alighieri', 'Manzoni', 'Leopardi']"
   ]
  },
  {
   "cell_type": "code",
   "execution_count": 73,
   "metadata": {},
   "outputs": [],
   "source": [
    "lb.sort()"
   ]
  },
  {
   "cell_type": "code",
   "execution_count": 74,
   "metadata": {},
   "outputs": [
    {
     "data": {
      "text/plain": [
       "['Alighieri', 'Boccaccio', 'Leopardi', 'Manzoni']"
      ]
     },
     "execution_count": 74,
     "metadata": {},
     "output_type": "execute_result"
    }
   ],
   "source": [
    "lb"
   ]
  },
  {
   "cell_type": "markdown",
   "metadata": {},
   "source": [
    "Una lista con elementi non comparabili tra loro non è ordinabile, e Python si lamenterà:"
   ]
  },
  {
   "cell_type": "code",
   "execution_count": 75,
   "metadata": {},
   "outputs": [],
   "source": [
    "lc = [3,4,'cavoli',7,'patate']"
   ]
  },
  {
   "cell_type": "markdown",
   "metadata": {},
   "source": [
    "```python\n",
    ">>> lc.sort()\n",
    "\n",
    "---------------------------------------------------------------------------\n",
    "TypeError                                 Traceback (most recent call last)\n",
    "<ipython-input-288-0cabfae30939> in <module>\n",
    "----> 1 lc.sort()\n",
    "\n",
    "TypeError: '<' not supported between instances of 'str' and 'int'\n",
    "\n",
    "```"
   ]
  },
  {
   "cell_type": "markdown",
   "metadata": {},
   "source": [
    "### Criteri di ordinamento\n",
    "\n",
    "Se hai bisogni particolari, per esempio una lista di stringhe `'nome cognome'` che vuoi ordinare in base al solo cognome, potresti usare il parametro `key` con le funzioni `lambda`, vedere [documentazione di Python](https://docs.python.org/3/howto/sorting.html#key-functions).\n"
   ]
  },
  {
   "cell_type": "markdown",
   "metadata": {},
   "source": [
    "### Esercizio - numlist\n",
    "\n",
    "Data la lista \n",
    "\n",
    "```python\n",
    "la = [10, 60, 72, 118, 11, 71, 56, 89, 120, 175]\n",
    "```\n",
    "\n",
    "1. trova il min, max e valore mediano (SUGGERIMENTO: ordinala ed estrai i giusti valori)\n",
    "2. crea una lista solo con gli elementi a indici pari (per es [10, 72, 11, ..], nota che \"..\" indica che lista non è completa !) e ricalcola i valori di min, max e mediana\n",
    "3. rifai lo stesso con gli elementi ad indici dispari (per es [60, 118,..])\n",
    "\n",
    "Dovresti ottenere:\n",
    "\n",
    "```bash\n",
    "la: [10, 60, 72, 118, 11, 71, 56, 89, 120, 175]\n",
    "pari: [10, 72, 11, 56, 120]\n",
    "dispari: [60, 118, 71, 89, 175]\n",
    "\n",
    "ordinati:   [10, 11, 56, 60, 71, 72, 89, 118, 120, 175]\n",
    "ordinati pari:   [10, 11, 56, 72, 120]\n",
    "ordinati dispari:   [60, 71, 89, 118, 175]\n",
    "\n",
    "la: Min:  10  Max. 175  Median:  72\n",
    "pari: Min:  10  Max. 120  Median:  56\n",
    "dispari: Min:  60  Max. 175  Median:  89\n",
    "\n",
    "```"
   ]
  },
  {
   "cell_type": "raw",
   "id": "5f7ae994",
   "metadata": {
    "format": "text/html"
   },
   "source": [
    "<a  class=\"jupman-sol jupman-sol-toggler\" \n",
    " onclick=\"jupman.toggleSolution(this);\" \n",
    " data-jupman-show=\"Mostra soluzione\" data-jupman-hide=\"Nascondi\">Mostra soluzione</a><div class=\"jupman-sol jupman-sol-code\" style=\"display:none\">  "
   ]
  },
  {
   "cell_type": "code",
   "execution_count": 76,
   "metadata": {
    "scrolled": true
   },
   "outputs": [
    {
     "name": "stdout",
     "output_type": "stream",
     "text": [
      "originale: [10, 60, 72, 118, 11, 71, 56, 89, 120, 175]\n",
      "pari: [10, 72, 11, 56, 120]\n",
      "dispari: [60, 118, 71, 89, 175]\n",
      "\n",
      "ordinata:   [10, 11, 56, 60, 71, 72, 89, 118, 120, 175]\n",
      "ordinata pari:   [10, 11, 56, 72, 120]\n",
      "ordinata dispari:   [60, 71, 89, 118, 175]\n",
      "\n",
      "originale: Min:  10  Max. 175  Median:  72\n",
      "pari: Min:  10  Max. 120  Median:  56\n",
      "dispari: Min:  60  Max. 175  Median:  89\n"
     ]
    }
   ],
   "source": [
    "\n",
    "\n",
    "la = [10, 60, 72, 118, 11, 71, 56, 89, 120, 175]\n",
    "\n",
    "# scrivi qui\n",
    "\n",
    "pari = la[0::2]    # prendiamo solo elementi ad indici pari\n",
    "dispari = la[1::2] # prendiamo solo elementi ad indici dispari\n",
    "\n",
    "print(\"originale:\" , la)\n",
    "print(\"pari:\", pari)\n",
    "print(\"dispari:\", dispari)\n",
    "\n",
    "la.sort()\n",
    "pari.sort()\n",
    "dispari.sort()\n",
    "\n",
    "print()\n",
    "print(\"ordinata:  \" , la)\n",
    "print(\"ordinata pari:  \" , pari)\n",
    "print(\"ordinata dispari:  \" , dispari)\n",
    "print()\n",
    "print(\"originale: Min: \", la[0], \" Max.\" , la[-1], \" Median: \", la[len(la) // 2])\n",
    "print(\"pari: Min: \", pari[0], \" Max.\" , pari[-1], \" Median: \", pari[len(pari) // 2])\n",
    "print(\"dispari: Min: \", dispari[0], \" Max.\" , dispari[-1], \" Median: \", dispari[len(dispari) // 2])"
   ]
  },
  {
   "cell_type": "raw",
   "id": "739612bf",
   "metadata": {
    "format": "text/html"
   },
   "source": [
    "</div>"
   ]
  },
  {
   "cell_type": "code",
   "execution_count": 76,
   "metadata": {
    "scrolled": true
   },
   "outputs": [],
   "source": [
    "\n",
    "\n",
    "la = [10, 60, 72, 118, 11, 71, 56, 89, 120, 175]\n",
    "\n",
    "# scrivi qui\n",
    "\n"
   ]
  },
  {
   "cell_type": "markdown",
   "metadata": {},
   "source": [
    "## Metodo join - da liste a stringhe\n",
    "\n",
    "Data una stringa che funge da separatore, e una sequenza come per esempio una lista `la` contenente solo stringhe, è possibile  concatenarle in una sola stringa (nuova) con il metodo `join`:"
   ]
  },
  {
   "cell_type": "code",
   "execution_count": 77,
   "metadata": {},
   "outputs": [
    {
     "data": {
      "text/plain": [
       "'QuandoSEPARATOREfuoriSEPARATOREpiove'"
      ]
     },
     "execution_count": 77,
     "metadata": {},
     "output_type": "execute_result"
    }
   ],
   "source": [
    "la = ['Quando', 'fuori', 'piove']\n",
    "\n",
    "'SEPARATORE'.join(la)"
   ]
  },
  {
   "cell_type": "markdown",
   "metadata": {},
   "source": [
    "Come separatore possiamo mettere qualunque carattere, come uno spazio:"
   ]
  },
  {
   "cell_type": "code",
   "execution_count": 78,
   "metadata": {},
   "outputs": [
    {
     "data": {
      "text/plain": [
       "'Quando fuori piove'"
      ]
     },
     "execution_count": 78,
     "metadata": {},
     "output_type": "execute_result"
    }
   ],
   "source": [
    "' '.join(la)  "
   ]
  },
  {
   "cell_type": "markdown",
   "metadata": {},
   "source": [
    "Nota che la lista originale non viene modificata: "
   ]
  },
  {
   "cell_type": "code",
   "execution_count": 79,
   "metadata": {},
   "outputs": [
    {
     "data": {
      "text/plain": [
       "['Quando', 'fuori', 'piove']"
      ]
     },
     "execution_count": 79,
     "metadata": {},
     "output_type": "execute_result"
    }
   ],
   "source": [
    "la"
   ]
  },
  {
   "cell_type": "markdown",
   "metadata": {},
   "source": [
    "**DOMANDA**: Questo codice cosa produce?\n",
    "\n",
    "```python\n",
    "''.join(['a','b','c']).upper()\n",
    "```\n",
    "\n",
    "1. un errore (quale?)\n",
    "2. una stringa (quale?)\n",
    "3. una lista (quale?)"
   ]
  },
  {
   "cell_type": "raw",
   "id": "423cd5bc",
   "metadata": {
    "format": "text/html"
   },
   "source": [
    "<a  class=\"jupman-sol jupman-sol-toggler\" \n",
    " onclick=\"jupman.toggleSolution(this);\" \n",
    " data-jupman-show=\"Mostra risposta\" data-jupman-hide=\"Nascondi\">Mostra risposta</a><div class=\"jupman-sol jupman-sol-question\" style=\"display:none\">  "
   ]
  },
  {
   "cell_type": "markdown",
   "metadata": {},
   "source": [
    "**RISPOSTA**: La 2: produce la stringa `'ABC'`: prima prende tutti i caratteri dalla lista `['a','b','c']` e li unisce separandoli con lo spazio vuoto `''` formando `'abc'`, poi questa stringa viene resa tutta maiuscola con `upper()`."
   ]
  },
  {
   "cell_type": "raw",
   "id": "2de0bbfc",
   "metadata": {
    "format": "text/html"
   },
   "source": [
    "</div>"
   ]
  },
  {
   "cell_type": "markdown",
   "metadata": {},
   "source": [
    "**DOMANDA**: Questa codice cosa produce?\n",
    "\n",
    "```python\n",
    "'A'.join('porto')\n",
    "```\n",
    "\n",
    "1. una stringa (quale?)\n",
    "2. un errore (quale?)\n",
    "3. una lista (quale?)"
   ]
  },
  {
   "cell_type": "raw",
   "id": "0ed452bf",
   "metadata": {
    "format": "text/html"
   },
   "source": [
    "<a  class=\"jupman-sol jupman-sol-toggler\" \n",
    " onclick=\"jupman.toggleSolution(this);\" \n",
    " data-jupman-show=\"Mostra risposta\" data-jupman-hide=\"Nascondi\">Mostra risposta</a><div class=\"jupman-sol jupman-sol-question\" style=\"display:none\">  "
   ]
  },
  {
   "cell_type": "markdown",
   "metadata": {},
   "source": [
    "**RISPOSTA**: la 1: produce la stringa `'pAoArAtAo'` - abbiamo detto che `join` prende come input una sequenza, quindi non siamo vincolati a passargli liste ma possiamo anche passare direttamente una stringa, che è una sequenza di caratteri. `join` intervallerà quindi ogni carattere della stringa con il separatore che forniamo prima del punto."
   ]
  },
  {
   "cell_type": "raw",
   "id": "446f47af",
   "metadata": {
    "format": "text/html"
   },
   "source": [
    "</div>"
   ]
  },
  {
   "cell_type": "markdown",
   "metadata": {},
   "source": [
    "**DOMANDA**: Questo codice cosa produce?\n",
    "\n",
    "```python\n",
    "\n",
    "'\\''.join('mmmm')\n",
    "```\n",
    "\n",
    "1. un errore (quale?)\n",
    "2. una stringa (quale?)"
   ]
  },
  {
   "cell_type": "raw",
   "id": "9598a45e",
   "metadata": {
    "format": "text/html"
   },
   "source": [
    "<a  class=\"jupman-sol jupman-sol-toggler\" \n",
    " onclick=\"jupman.toggleSolution(this);\" \n",
    " data-jupman-show=\"Mostra risposta\" data-jupman-hide=\"Nascondi\">Mostra risposta</a><div class=\"jupman-sol jupman-sol-question\" style=\"display:none\">  "
   ]
  },
  {
   "cell_type": "markdown",
   "metadata": {},
   "source": [
    "**RISPOSTA**: La 2: `\\'` è una sequenza di escape che rappresenta il carattere singolo apice `'`, quindi otterremo `m'm'm'm`"
   ]
  },
  {
   "cell_type": "raw",
   "id": "9564c40f",
   "metadata": {
    "format": "text/html"
   },
   "source": [
    "</div>"
   ]
  },
  {
   "cell_type": "markdown",
   "metadata": {},
   "source": [
    "**DOMANDA**: Data una stringa qualsiasi `s` e una lista di stringhe qualsiasi `la` di almeno due elementi, il seguente codice darà sempre lo stesso risultato - quale ? (pensaci, e se non sai rispondere prova a mettere dei valori a caso di `s` e `la`)\n",
    "\n",
    "```python\n",
    "len(s) <= len(s.join(la))\n",
    "```\n",
    "1. un errore (quale?)\n",
    "2. una stringa (quale?)\n",
    "3. altro (cosa?)"
   ]
  },
  {
   "cell_type": "raw",
   "id": "c6917d37",
   "metadata": {
    "format": "text/html"
   },
   "source": [
    "<a  class=\"jupman-sol jupman-sol-toggler\" \n",
    " onclick=\"jupman.toggleSolution(this);\" \n",
    " data-jupman-show=\"Mostra risposta\" data-jupman-hide=\"Nascondi\">Mostra risposta</a><div class=\"jupman-sol jupman-sol-question\" style=\"display:none\">  "
   ]
  },
  {
   "cell_type": "markdown",
   "metadata": {},
   "source": [
    "**RISPOSTA**: La 3: il codice produrrà sempre il booleano `True` perchè `s.join(la)` produce una stringa contenente tutte le stringhe in `la` intervallate dalla stringa `s`. Quindi la lunghezza di questa stringa sarà sempre uguale o superiore alla lunghezza di `s`: comparando le due lunghezze con l'operatore `<=` otterremo sempre il booleano `True`.\n",
    "\n",
    "Esempio\n",
    "\n",
    "```python\n",
    "s = \"ab\"\n",
    "la = ['uief','cb','sd']\n",
    "len(s) <= len(s.join(la))\n",
    "```"
   ]
  },
  {
   "cell_type": "raw",
   "id": "b54b052e",
   "metadata": {
    "format": "text/html"
   },
   "source": [
    "</div>"
   ]
  },
  {
   "cell_type": "markdown",
   "metadata": {},
   "source": [
    "### Esercizio - barzoletta\n",
    "\n"
   ]
  },
  {
   "cell_type": "markdown",
   "metadata": {},
   "source": [
    "Data la stringa:\n",
    "\n",
    "```python\n",
    "sa = 'barzoletta'\n",
    "```\n",
    "\n",
    "scrivi del codice che crea una NUOVA stringa `sb` cambiando la stringa originale in modo che risulti:\n",
    "\n",
    "```python\n",
    ">>> print(sb)\n",
    "'barzelletta'\n",
    "```\n",
    "\n",
    "* **USA** il metodo `insert` e riassegnazione di celle\n",
    "* **NOTA**: non puoi usarle su una stringa, perchè è IMMUTABILE - dovrai quindi prima convertire la stringa in una lista"
   ]
  },
  {
   "cell_type": "raw",
   "id": "93be8a52",
   "metadata": {
    "format": "text/html"
   },
   "source": [
    "<a  class=\"jupman-sol jupman-sol-toggler\" \n",
    " onclick=\"jupman.toggleSolution(this);\" \n",
    " data-jupman-show=\"Mostra soluzione\" data-jupman-hide=\"Nascondi\">Mostra soluzione</a><div class=\"jupman-sol jupman-sol-code\" style=\"display:none\">  "
   ]
  },
  {
   "cell_type": "code",
   "execution_count": 80,
   "metadata": {},
   "outputs": [
    {
     "name": "stdout",
     "output_type": "stream",
     "text": [
      "barzelletta\n"
     ]
    }
   ],
   "source": [
    "\n",
    "\n",
    "sa = 'barzoletta'\n",
    "\n",
    "# scrivi qui\n",
    "\n",
    "la = list(sa)\n",
    "la[4] = 'e'\n",
    "la.insert(5,'l')\n",
    "sb = ''.join(la)\n",
    "print(sb)"
   ]
  },
  {
   "cell_type": "raw",
   "id": "457a2ede",
   "metadata": {
    "format": "text/html"
   },
   "source": [
    "</div>"
   ]
  },
  {
   "cell_type": "code",
   "execution_count": 80,
   "metadata": {},
   "outputs": [],
   "source": [
    "\n",
    "\n",
    "sa = 'barzoletta'\n",
    "\n",
    "# scrivi qui\n",
    "\n"
   ]
  },
  {
   "cell_type": "markdown",
   "metadata": {},
   "source": [
    "### Esercizio - dub dab dib dob\n",
    "\n",
    "\n",
    "Scrivi del codice che data una lista di stringhe `la`, associa alla variabile `s` una stringa con le stringhe concatenate separate da virgole e uno spazio\n",
    "\n",
    "Esempio: \n",
    "\n",
    "Data\n",
    "\n",
    "`la = ['dub', 'dab','dib', 'dob']`\n",
    "\n",
    "dopo il tuo codice, dovresti ottenere questi risultati:\n",
    "\n",
    "```python\n",
    ">>> print(s)\n",
    "dub, dab, dib, dob\n",
    ">>> len(s)\n",
    "18\n",
    "```"
   ]
  },
  {
   "cell_type": "raw",
   "id": "756a7995",
   "metadata": {
    "format": "text/html"
   },
   "source": [
    "<a  class=\"jupman-sol jupman-sol-toggler\" \n",
    " onclick=\"jupman.toggleSolution(this);\" \n",
    " data-jupman-show=\"Mostra soluzione\" data-jupman-hide=\"Nascondi\">Mostra soluzione</a><div class=\"jupman-sol jupman-sol-code\" style=\"display:none\">  "
   ]
  },
  {
   "cell_type": "code",
   "execution_count": 81,
   "metadata": {},
   "outputs": [
    {
     "name": "stdout",
     "output_type": "stream",
     "text": [
      "dub, dab, dib, dob\n"
     ]
    },
    {
     "data": {
      "text/plain": [
       "18"
      ]
     },
     "execution_count": 81,
     "metadata": {},
     "output_type": "execute_result"
    }
   ],
   "source": [
    "\n",
    "la = ['dub', 'dab','dib', 'dob']\n",
    "\n",
    "# scrivi qui\n",
    "\n",
    "s = ', '.join(la)\n",
    "\n",
    "print(s)\n",
    "len(s)"
   ]
  },
  {
   "cell_type": "raw",
   "id": "5127a4c7",
   "metadata": {
    "format": "text/html"
   },
   "source": [
    "</div>"
   ]
  },
  {
   "cell_type": "code",
   "execution_count": 81,
   "metadata": {},
   "outputs": [],
   "source": [
    "\n",
    "la = ['dub', 'dab','dib', 'dob']\n",
    "\n",
    "# scrivi qui\n",
    "\n"
   ]
  },
  {
   "cell_type": "markdown",
   "metadata": {},
   "source": [
    "### Esercizio - ghirigori\n",
    "\n",
    "Data una lista di stringhe `la` e una lista di tre separatori `seps`, scrivi del codice che stampa gli elementi di `la` separati dal primo separatore, seguiti dal secondo separatore, seguiti dagli elementi di `la` separati dal terzo separatore.\n",
    "\n",
    "* il tuo codice deve funzionare con qualunque lista `la` e `seps` \n",
    "\n",
    "Esempio: dati\n",
    "\n",
    "```python\n",
    "la = ['ghi','ri','go','ri']\n",
    "seps = [',','_','+']\n",
    "```\n",
    "\n",
    "Dopo il tuo codice, deve stampare:\n",
    "\n",
    "```\n",
    "ghi,ri,go,ri_ghi+ri+go+ri\n",
    "```"
   ]
  },
  {
   "cell_type": "raw",
   "id": "0f8aefac",
   "metadata": {
    "format": "text/html"
   },
   "source": [
    "<a  class=\"jupman-sol jupman-sol-toggler\" \n",
    " onclick=\"jupman.toggleSolution(this);\" \n",
    " data-jupman-show=\"Mostra soluzione\" data-jupman-hide=\"Nascondi\">Mostra soluzione</a><div class=\"jupman-sol jupman-sol-code\" style=\"display:none\">  "
   ]
  },
  {
   "cell_type": "code",
   "execution_count": 82,
   "metadata": {},
   "outputs": [
    {
     "name": "stdout",
     "output_type": "stream",
     "text": [
      "ghi,ri,go,ri_ghi+ri+go+ri\n"
     ]
    }
   ],
   "source": [
    "\n",
    "la = ['ghi','ri','go','ri']\n",
    "seps = [',','_','+']\n",
    "\n",
    "# scrivi qui\n",
    "\n",
    "print(seps[0].join(la) + seps[1] + seps[2].join(la))"
   ]
  },
  {
   "cell_type": "raw",
   "id": "03a7dfda",
   "metadata": {
    "format": "text/html"
   },
   "source": [
    "</div>"
   ]
  },
  {
   "cell_type": "code",
   "execution_count": 82,
   "metadata": {},
   "outputs": [],
   "source": [
    "\n",
    "la = ['ghi','ri','go','ri']\n",
    "seps = [',','_','+']\n",
    "\n",
    "# scrivi qui\n",
    "\n"
   ]
  },
  {
   "cell_type": "markdown",
   "metadata": {},
   "source": [
    "### Esercizio - welldone \n",
    "\n",
    "Data la lista:\n",
    "\n",
    "```python\n",
    "la = [\"walnut\", \"eggplant\", \"lemon\", \"lime\", \"date\", \"onion\", \"nectarine\", \"endive\" ]: \n",
    "```\n",
    "\n",
    "1. Crea un'altra lista (chiamala `nuova`) contenente il primo carattere di ogni elemento di `la`\n",
    "2. Aggiungi uno spazio a `nuova` all aposizione 4 e attacca un punto esclamativo (`'!'`) alla fine\n",
    "3. Stampa la lista\n",
    "4. Stampa il contenuto della lista unendo tutti gli elementi con uno spazio vuoto (per es usa il metodo `join`: `\"\".join(nuova)`)\n",
    "\n",
    "Dovresti ottenere:\n",
    "\n",
    "\n",
    "```\n",
    "['w', 'e', 'l', 'l', ' ', 'd', 'o', 'n', 'e', '!']\n",
    "\n",
    " well done!\n",
    "```\n"
   ]
  },
  {
   "cell_type": "raw",
   "id": "cf72aab2",
   "metadata": {
    "format": "text/html"
   },
   "source": [
    "<a  class=\"jupman-sol jupman-sol-toggler\" \n",
    " onclick=\"jupman.toggleSolution(this);\" \n",
    " data-jupman-show=\"Mostra soluzione\" data-jupman-hide=\"Nascondi\">Mostra soluzione</a><div class=\"jupman-sol jupman-sol-code\" style=\"display:none\">  "
   ]
  },
  {
   "cell_type": "code",
   "execution_count": 83,
   "metadata": {},
   "outputs": [
    {
     "name": "stdout",
     "output_type": "stream",
     "text": [
      "['w', 'e', 'l', 'l', ' ', 'd', 'o', 'n', 'e', '!']\n",
      "\n",
      " well done!\n"
     ]
    }
   ],
   "source": [
    "\n",
    "la = [\"walnut\", \"eggplant\", \"lemon\", \"lime\", \"date\", \"onion\", \"nectarine\", \"endive\" ]\n",
    "\n",
    "# scrivi qui\n",
    "\n",
    "nuova = []\n",
    "nuova.append(la[0][0])\n",
    "nuova.append(la[1][0])\n",
    "nuova.append(la[2][0])\n",
    "nuova.append(la[3][0])\n",
    "nuova.append(la[4][0])\n",
    "nuova.append(la[5][0])\n",
    "nuova.append(la[6][0])\n",
    "nuova.append(la[7][0])\n",
    "\n",
    "nuova.insert(4,\" \")\n",
    "nuova.append(\"!\")\n",
    "\n",
    "print(nuova)\n",
    "print(\"\\n\", \"\".join(nuova))"
   ]
  },
  {
   "cell_type": "raw",
   "id": "20cd2bae",
   "metadata": {
    "format": "text/html"
   },
   "source": [
    "</div>"
   ]
  },
  {
   "cell_type": "code",
   "execution_count": 83,
   "metadata": {},
   "outputs": [],
   "source": [
    "\n",
    "la = [\"walnut\", \"eggplant\", \"lemon\", \"lime\", \"date\", \"onion\", \"nectarine\", \"endive\" ]\n",
    "\n",
    "# scrivi qui\n",
    "\n"
   ]
  },
  {
   "cell_type": "markdown",
   "metadata": {},
   "source": [
    "## Prosegui\n",
    "\n",
    "Continua con [Liste 4 - metodi di ricerca](https://it.softpython.org/lists/lists4-sol.html)"
   ]
  },
  {
   "cell_type": "code",
   "execution_count": null,
   "metadata": {},
   "outputs": [],
   "source": []
  }
 ],
 "metadata": {
  "kernelspec": {
   "display_name": "Python 3 (ipykernel)",
   "language": "python",
   "name": "python3"
  },
  "language_info": {
   "codemirror_mode": {
    "name": "ipython",
    "version": 3
   },
   "file_extension": ".py",
   "mimetype": "text/x-python",
   "name": "python",
   "nbconvert_exporter": "python",
   "pygments_lexer": "ipython3",
   "version": "3.7.10"
  },
  "toc": {
   "base_numbering": 1,
   "nav_menu": {},
   "number_sections": false,
   "sideBar": true,
   "skip_h1_title": false,
   "title_cell": "Table of Contents",
   "title_sidebar": "Contents",
   "toc_cell": false,
   "toc_position": {},
   "toc_section_display": true,
   "toc_window_display": true
  }
 },
 "nbformat": 4,
 "nbformat_minor": 2
}

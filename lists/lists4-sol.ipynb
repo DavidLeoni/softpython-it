{
 "cells": [
  {
   "cell_type": "code",
   "execution_count": 1,
   "metadata": {
    "nbsphinx": "hidden"
   },
   "outputs": [],
   "source": [
    "# Ricordati di eseguire questa cella con Shift+Invio\n",
    "\n",
    "import jupman"
   ]
  },
  {
   "cell_type": "markdown",
   "metadata": {},
   "source": [
    "# Liste 4 - Metodi di ricerca\n",
    "\n",
    "## [Scarica zip esercizi](../_static/generated/lists.zip)\n",
    "\n",
    "[Naviga file online](https://github.com/DavidLeoni/softpython-it/tree/master/lists)"
   ]
  },
  {
   "cell_type": "markdown",
   "metadata": {},
   "source": [
    "Le liste mettono a disposizione diversi metodi per effettuare ricerche e trasformazioni al loro interno, ma attenzione: il potere è nulla senza il controllo! Spesso ti troverai con l'esigenza di usarli, e potrebbero anche funzionare con qualche piccolo esempio, ma molto spesso nascondono tranelli che poi si rimpiangono amaramente. Quindi quando scrivi codice con uno di questi metodi, **poniti sempre le domande che evidenzieremo!**\n",
    "   "
   ]
  },
  {
   "cell_type": "markdown",
   "metadata": {},
   "source": [
    "|Metodo|Ritorna|Descrizione|\n",
    "|-------|------|-----------|\n",
    "|str1.split(str2)|`list`|Produce una lista con tutte le parole in str1 separate da str2| \n",
    "|[list.count(obj)](#Metodo-count)|`int`|Conta le occorrenze di un elemento|\n",
    "|[list.index(obj)](#Metodo-index)|`int`|Trova la prima occorrenza di un elemento e ne ritorna la posizione|\n",
    "|[list.remove(obj)](#Metodo-remove)|`None`|Rimuove la prima occorrenza di un elemento|"
   ]
  },
  {
   "cell_type": "markdown",
   "metadata": {},
   "source": [
    "## Che fare\n",
    "\n",
    "- scompatta lo zip in una cartella, dovresti ottenere qualcosa del genere: \n",
    "\n",
    "```\n",
    "\n",
    "lists\n",
    "    lists1.ipynb\n",
    "    lists1-sol.ipynb         \n",
    "    lists2.ipynb\n",
    "    lists2-sol.ipynb         \n",
    "    lists3.ipynb\n",
    "    lists3-sol.ipynb         \n",
    "    lists4.ipynb\n",
    "    lists4-sol.ipynb\n",
    "    lists5-chal.ipynb    \n",
    "    jupman.py         \n",
    "```\n",
    "\n",
    "<div class=\"alert alert-warning\">\n",
    "\n",
    "**ATTENZIONE**: Per essere visualizzato correttamente, il file del notebook DEVE essere nella cartella szippata.\n",
    "</div>\n",
    "\n",
    "- apri il Jupyter Notebook da quella cartella. Due cose dovrebbero aprirsi, prima una console e poi un browser. Il browser dovrebbe mostrare una lista di file: naviga la lista e apri il notebook `lists4.ipynb`\n",
    "- Prosegui leggendo il file degli esercizi, ogni tanto al suo interno troverai delle scritte **ESERCIZIO**, che ti chiederanno di scrivere dei comandi Python nelle celle successive.\n",
    "\n",
    "\n",
    "Scorciatoie da tastiera:\n",
    "\n",
    "* Per eseguire il codice Python dentro una cella di Jupyter, premi `Control+Invio`\n",
    "* Per eseguire il codice Python dentro una cella di Jupyter E selezionare la cella seguente, premi `Shift+Invio`\n",
    "* Per eseguire il codice Python dentro una cella di Jupyter E creare una nuova cella subito dopo, premi `Alt+Invio`\n",
    "* Se per caso il Notebook sembra inchiodato, prova a selezionare `Kernel -> Restart`"
   ]
  },
  {
   "cell_type": "markdown",
   "metadata": {},
   "source": [
    "## Metodo split - da stringhe a liste\n",
    "\n",
    "Il metodo `split` delle stringhe fa l'opposto di `join`: viene chiamato su una stringa e come parametro viene passato un separatore, che può essere un singolo carattere o una sottostringa. Il risultato è una lista di stringhe senza il separatore. "
   ]
  },
  {
   "cell_type": "code",
   "execution_count": 2,
   "metadata": {},
   "outputs": [
    {
     "data": {
      "text/plain": [
       "[\"E' giunto \", ' momento di dividere ', ' tesoro']"
      ]
     },
     "execution_count": 2,
     "metadata": {},
     "output_type": "execute_result"
    }
   ],
   "source": [
    "\"E' giunto il momento di dividere il tesoro\".split(\"il\")"
   ]
  },
  {
   "cell_type": "markdown",
   "metadata": {},
   "source": [
    "Chiamando `split` senza argomenti come separatori vengono usati in genere i _blank_ (spazio, a capo `\\n`, tab `\\t` , etc)"
   ]
  },
  {
   "cell_type": "code",
   "execution_count": 3,
   "metadata": {},
   "outputs": [
    {
     "name": "stdout",
     "output_type": "stream",
     "text": [
      "E' giunto il\n",
      "momento di    dividere\til tesoro\n"
     ]
    }
   ],
   "source": [
    "s = \"E' giunto il\\nmomento di    dividere\\til tesoro\"\n",
    "print(s)"
   ]
  },
  {
   "cell_type": "code",
   "execution_count": 4,
   "metadata": {},
   "outputs": [
    {
     "data": {
      "text/plain": [
       "[\"E'\", 'giunto', 'il', 'momento', 'di', 'dividere', 'il', 'tesoro']"
      ]
     },
     "execution_count": 4,
     "metadata": {},
     "output_type": "execute_result"
    }
   ],
   "source": [
    "s.split()"
   ]
  },
  {
   "cell_type": "markdown",
   "metadata": {},
   "source": [
    "E' anche possibile limitare il numero di elementi da dividere specificando l'argomento `maxsplit`:"
   ]
  },
  {
   "cell_type": "code",
   "execution_count": 5,
   "metadata": {},
   "outputs": [
    {
     "data": {
      "text/plain": [
       "[\"E'\", 'giunto', 'il\\nmomento di    dividere\\til tesoro']"
      ]
     },
     "execution_count": 5,
     "metadata": {},
     "output_type": "execute_result"
    }
   ],
   "source": [
    "s.split(maxsplit=2)"
   ]
  },
  {
   "cell_type": "markdown",
   "metadata": {},
   "source": [
    "<div class=\"alert alert-warning\">\n",
    "    \n",
    "**ATTENZIONE**: Che succede se la stringa _non_ contiene il separatore? Ricordati di considerare anche questo caso!\n",
    "</div>"
   ]
  },
  {
   "cell_type": "code",
   "execution_count": 6,
   "metadata": {},
   "outputs": [
    {
     "data": {
      "text/plain": [
       "['Parlo e straparlo senza mai fare una pausa']"
      ]
     },
     "execution_count": 6,
     "metadata": {},
     "output_type": "execute_result"
    }
   ],
   "source": [
    "\"Parlo e straparlo senza mai fare una pausa\".split(',')"
   ]
  },
  {
   "cell_type": "markdown",
   "metadata": {},
   "source": [
    "**DOMANDA**: Guarda questo codice. Stamperà qualcosa alla fine? O produrrà un errore?"
   ]
  },
  {
   "cell_type": "markdown",
   "metadata": {},
   "source": [
    "1.  ```python\n",
    "    \"porta\\tgirevole\".split()\n",
    "    ```\n",
    "1.  ```python\n",
    "    \"porre particolare\\t\\nattenzione\".split()\n",
    "    ```\n",
    "1.  ```python\n",
    "    \"non ti\\tscordar\\ndi\\tme\".split('\\t')\n",
    "    ```    \n",
    "1.  ```python\n",
    "    \"non ti scordar\\ndi\\tme\".split(' ')\n",
    "    ```\n",
    "1.  ```python\n",
    "    \"Il Guardiano dell'Abisso ci osservava minaccioso\".split('abisso')[1]\n",
    "    ```    \n",
    "1.  ```python\n",
    "    \"\".split('abisso')[0]\n",
    "    ```    \n",
    "1.  ```python\n",
    "    \"abisso_OOOO_abisso\".split('abisso')[0]\n",
    "    ```"
   ]
  },
  {
   "cell_type": "markdown",
   "metadata": {},
   "source": [
    "### Esercizio - trash dance\n",
    "\n",
    "Ti hanno ingaggiato per ballare nell'ultimo video della nota band _Spazzatura Melodica_. Non puoi perdere questa occasione e ti lanci a leggere la partitura, ma la trovi piena di errori (gli Spazzatura non hanno certo bisogno di saper scrivere spartiti per andare in tv). Ci sono strani simboli e l'ultima battuta è troppo lunga (dopo la sesta battuta) e va messa una riga alla volta. Scrivi del codice che sistema la partitura in una lista `dance`\n",
    "\n",
    "Esempio - data:\n",
    "\n",
    "```python\n",
    "musica = \"Zam Dam\\tZa Bum Bum\\tZam\\tBam To Tum\\tRa Ta Pam\\tBar Ra\\tRammaGumma  Unza\\n\\t\\nTACAUACA \\n BOOMBOOM!\"\n",
    "```\n",
    "\n",
    "dopo il tuo codice deve risultare:\n",
    "\n",
    "```python\n",
    ">>> print(dance)\n",
    "['Zam Dam',\n",
    " 'Za Bum Bum',\n",
    " 'Zam',\n",
    " 'Bam To Tum',\n",
    " 'Ra Ta Pam',\n",
    " 'Bar Ra',\n",
    " 'RammaGumma',\n",
    " 'Unza',\n",
    " 'TACAUACA',\n",
    " 'BOOMBOOM!']\n",
    "```\n"
   ]
  },
  {
   "cell_type": "raw",
   "id": "bd464b02",
   "metadata": {
    "format": "text/html"
   },
   "source": [
    "<a  class=\"jupman-sol jupman-sol-toggler\" \n",
    " onclick=\"jupman.toggleSolution(this);\" \n",
    " data-jupman-show=\"Mostra soluzione\" data-jupman-hide=\"Nascondi\">Mostra soluzione</a><div class=\"jupman-sol jupman-sol-code\" style=\"display:none\">  "
   ]
  },
  {
   "cell_type": "code",
   "execution_count": 7,
   "metadata": {},
   "outputs": [
    {
     "data": {
      "text/plain": [
       "['Zam Dam',\n",
       " 'Za Bum Bum',\n",
       " 'Zam',\n",
       " 'Bam To Tum',\n",
       " 'Ra Ta Pam',\n",
       " 'Bar Ra',\n",
       " 'RammaGumma',\n",
       " 'Unza',\n",
       " 'TACAUACA',\n",
       " 'BOOMBOOM!']"
      ]
     },
     "execution_count": 7,
     "metadata": {},
     "output_type": "execute_result"
    }
   ],
   "source": [
    "\n",
    "\n",
    "musica = \"Zam Dam\\tZa Bum Bum\\tZam\\tBam To Tum\\tRa Ta Pam\\tBar Ra\\tRammaGumma  Unza\\n\\t\\nTACAUACA \\n BOOMBOOM!\"\n",
    "\n",
    "# scrivi qui\n",
    "\n",
    "dance = musica.split('\\t',maxsplit=6)\n",
    "dance = dance[:-1] + dance[-1].split()\n",
    "dance"
   ]
  },
  {
   "cell_type": "raw",
   "id": "19a69ab1",
   "metadata": {
    "format": "text/html"
   },
   "source": [
    "</div>"
   ]
  },
  {
   "cell_type": "code",
   "execution_count": 7,
   "metadata": {},
   "outputs": [],
   "source": [
    "\n",
    "\n",
    "musica = \"Zam Dam\\tZa Bum Bum\\tZam\\tBam To Tum\\tRa Ta Pam\\tBar Ra\\tRammaGumma  Unza\\n\\t\\nTACAUACA \\n BOOMBOOM!\"\n",
    "\n",
    "# scrivi qui\n",
    "\n"
   ]
  },
  {
   "cell_type": "markdown",
   "metadata": {},
   "source": [
    "### Esercizio  - spazzatura In tour\n",
    "\n",
    "Gli _Spazzatura Melodica_ tornano a colpire nel nuovo tour dove presentano le hit dell'estate. La casa discografica fornisce però le vendite con numeri in formato anglosassone, e per comunicarle ai media italiani è necessaria prima una conversione. \n",
    "\n",
    "Scrivi del codice che date le `hits` e una `posizione` nella classifica (da `1` a `4`) mostra il numero di copie vendute\n",
    "\n",
    "- **NOTA**: le virgole devono essere sostituite con punti\n",
    "\n",
    "Esempio - dati:\n",
    "\n",
    "```python\n",
    "hits = \"\"\"6,230,650 - Ti amo come i pomodori ammuffiti nel frigorifero\n",
    "2,000,123 - Il dolore di vivere pieni di soldi\n",
    "100,000 - Le groupies non sono mai abbastanza\n",
    "837 - Ti ricordi i cassonetti l'estate...\"\"\"\n",
    "\n",
    "posizione = 1   # i pomodori\n",
    "#posizione = 4  # i cassonetti\n",
    "```\n",
    "\n",
    "Stampa:\n",
    "\n",
    "```\n",
    "La numero 1 in classifica \"Ti amo come i pomodori ammuffiti nel frigorifero\" ha venduto 6.230.650 copie\n",
    "```"
   ]
  },
  {
   "cell_type": "raw",
   "id": "ab514884",
   "metadata": {
    "format": "text/html"
   },
   "source": [
    "<a  class=\"jupman-sol jupman-sol-toggler\" \n",
    " onclick=\"jupman.toggleSolution(this);\" \n",
    " data-jupman-show=\"Mostra soluzione\" data-jupman-hide=\"Nascondi\">Mostra soluzione</a><div class=\"jupman-sol jupman-sol-code\" style=\"display:none\">  "
   ]
  },
  {
   "cell_type": "code",
   "execution_count": 8,
   "metadata": {},
   "outputs": [
    {
     "name": "stdout",
     "output_type": "stream",
     "text": [
      "La numero 1 in classifica \"Ti amo come i pomodori ammuffiti nel frigorifero\" ha venduto 6.230.650 copie\n"
     ]
    }
   ],
   "source": [
    "\n",
    "hits = \"\"\"6,230,650 - Ti amo come i pomodori ammuffiti nel frigorifero\n",
    "2,000,123 - Il dolore di vivere pieni di soldi\n",
    "100,000 - Le groupies non sono mai abbastanza\n",
    "837 - Ti ricordi i cassonetti l'estate...\"\"\"\n",
    "\n",
    "posizione = 1   # i pomodori\n",
    "#posizione = 4  # i cassonetti\n",
    "\n",
    "# scrivi qui\n",
    "\n",
    "lst = hits.split('\\n')\n",
    "ext = lst[posizione-1].split(' - ')\n",
    "\n",
    "print(\"La numero\", posizione, \"in classifica\", '\"' + ext[1] + '\"', \n",
    "      'ha venduto', '.'.join(ext[0].split(',')), 'copie')"
   ]
  },
  {
   "cell_type": "raw",
   "id": "4deb79f9",
   "metadata": {
    "format": "text/html"
   },
   "source": [
    "</div>"
   ]
  },
  {
   "cell_type": "code",
   "execution_count": 8,
   "metadata": {},
   "outputs": [],
   "source": [
    "\n",
    "hits = \"\"\"6,230,650 - Ti amo come i pomodori ammuffiti nel frigorifero\n",
    "2,000,123 - Il dolore di vivere pieni di soldi\n",
    "100,000 - Le groupies non sono mai abbastanza\n",
    "837 - Ti ricordi i cassonetti l'estate...\"\"\"\n",
    "\n",
    "posizione = 1   # i pomodori\n",
    "#posizione = 4  # i cassonetti\n",
    "\n",
    "# scrivi qui\n",
    "\n"
   ]
  },
  {
   "cell_type": "markdown",
   "metadata": {},
   "source": [
    "### Esercizio - moltelinee\n",
    "    \n",
    "    \n",
    "Dato la seguente stringa di testo:\n",
    "\n",
    "```python\n",
    "\"\"\"Questa è una stringa\n",
    "di testo su\n",
    "diverse linee che non dice niente. \"\"\"\n",
    "```\n",
    "\n",
    "1. stampala\n",
    "2. stampa quante linee, parole e caratteri contiene\n",
    "3. metti in ordine alfabetico le parole e stampale le prime e ultime in ordine lessicografico\n",
    "\n",
    "Dovresti ottenere:\n",
    "\n",
    "```\n",
    "Questa è una stringa\n",
    "di testo su\n",
    "diverse linee che non dice niente.\n",
    "\n",
    "Linee: 3 parole: 13 charatteri: 67\n",
    "\n",
    "['Q', 'u', 'e', 's', 't', 'a', ' ', 'è', ' ', 'u', 'n', 'a', ' ', 's', 't', 'r', 'i', 'n', 'g', 'a', '\\n', 'd', 'i', ' ', 't', 'e', 's', 't', 'o', ' ', 's', 'u', '\\n', 'd', 'i', 'v', 'e', 'r', 's', 'e', ' ', 'l', 'i', 'n', 'e', 'e', ' ', 'c', 'h', 'e', ' ', 'n', 'o', 'n', ' ', 'd', 'i', 'c', 'e', ' ', 'n', 'i', 'e', 'n', 't', 'e', '.']\n",
    "67\n",
    "\n",
    "Prima parola : Questa\n",
    "Ultima parola: è\n",
    "['Questa', 'che', 'di', 'dice', 'diverse', 'linee', 'niente.', 'non', 'stringa', 'su', 'testo', 'una', 'è']\n",
    "\n",
    "```"
   ]
  },
  {
   "cell_type": "raw",
   "id": "1c591f55",
   "metadata": {
    "format": "text/html"
   },
   "source": [
    "<a  class=\"jupman-sol jupman-sol-toggler\" \n",
    " onclick=\"jupman.toggleSolution(this);\" \n",
    " data-jupman-show=\"Mostra soluzione\" data-jupman-hide=\"Nascondi\">Mostra soluzione</a><div class=\"jupman-sol jupman-sol-code\" style=\"display:none\">  "
   ]
  },
  {
   "cell_type": "code",
   "execution_count": 9,
   "metadata": {},
   "outputs": [
    {
     "name": "stdout",
     "output_type": "stream",
     "text": [
      "Questa è una stringa\n",
      "di testo su\n",
      "diverse linee che non dice niente.\n",
      "\n",
      "Linee: 3 parole: 13 caratteri: 67\n",
      "\n",
      "['Q', 'u', 'e', 's', 't', 'a', ' ', 'è', ' ', 'u', 'n', 'a', ' ', 's', 't', 'r', 'i', 'n', 'g', 'a', '\\n', 'd', 'i', ' ', 't', 'e', 's', 't', 'o', ' ', 's', 'u', '\\n', 'd', 'i', 'v', 'e', 'r', 's', 'e', ' ', 'l', 'i', 'n', 'e', 'e', ' ', 'c', 'h', 'e', ' ', 'n', 'o', 'n', ' ', 'd', 'i', 'c', 'e', ' ', 'n', 'i', 'e', 'n', 't', 'e', '.']\n",
      "67\n",
      "\n",
      "Prima parola : Questa\n",
      "Ultima parola: è\n",
      "['Questa', 'che', 'di', 'dice', 'diverse', 'linee', 'niente.', 'non', 'stringa', 'su', 'testo', 'una', 'è']\n"
     ]
    }
   ],
   "source": [
    "\n",
    "\n",
    "s = \"\"\"Questa è una stringa\n",
    "di testo su\n",
    "diverse linee che non dice niente.\"\"\"\n",
    "\n",
    "\n",
    "# scrivi qui\n",
    "\n",
    "# 1) stampa\n",
    "print(s)\n",
    "print(\"\")\n",
    "\n",
    "# 2) stampa le linee, parole e caratteri\n",
    "lines = s.split('\\n')\n",
    "\n",
    "# NOTA: le parole sono separate da uno spazio o da un ritorno a capo (newline)\n",
    "\n",
    "words = lines[0].split(' ') + lines[1].split(' ') + lines[2].split(' ')\n",
    "num_chars = len(s)\n",
    "print(\"Linee:\", len(lines), \"parole:\", len(words), \"caratteri:\", num_chars)\n",
    "\n",
    "# modo alternativo per numero di caratteri\n",
    "print(\"\")\n",
    "characters = list(s)\n",
    "num_chars2 = len(characters)\n",
    "print(characters)\n",
    "print(num_chars2)\n",
    "\n",
    "# 3. ordina alfabeticamente le parole e stampa la prima e ultima in ordine lessicografico\n",
    "\n",
    "words.sort() # NOTA: non ritorna NIENTE !!!!\n",
    "print(\"\")\n",
    "print(\"Prima parola :\", words[0])\n",
    "print(\"Ultima parola:\", words[-1])\n",
    "print(words)"
   ]
  },
  {
   "cell_type": "raw",
   "id": "e118e8d9",
   "metadata": {
    "format": "text/html"
   },
   "source": [
    "</div>"
   ]
  },
  {
   "cell_type": "code",
   "execution_count": 9,
   "metadata": {},
   "outputs": [],
   "source": [
    "\n",
    "\n",
    "s = \"\"\"Questa è una stringa\n",
    "di testo su\n",
    "diverse linee che non dice niente.\"\"\"\n",
    "\n",
    "\n",
    "# scrivi qui\n",
    "\n"
   ]
  },
  {
   "cell_type": "markdown",
   "metadata": {},
   "source": [
    "### Esercizio - prendilettere\n",
    "\n",
    "✪ Data una `frase` che contiene **esattamente** 3 parole e ha **sempre** come parola centrale un numero $n$, scrivi del codice the STAMPA i primi $n$ caratteri della terza parola\n",
    "\n",
    "Esempio - data:\n",
    "\n",
    "```python\n",
    "frase = \"Prendi 4 lettere\"\n",
    "```\n",
    "\n",
    "il tuo codice deve stampare:\n",
    "\n",
    "```\n",
    "lett\n",
    "```\n"
   ]
  },
  {
   "cell_type": "raw",
   "id": "5d231c6a",
   "metadata": {
    "format": "text/html"
   },
   "source": [
    "<a  class=\"jupman-sol jupman-sol-toggler\" \n",
    " onclick=\"jupman.toggleSolution(this);\" \n",
    " data-jupman-show=\"Mostra soluzione\" data-jupman-hide=\"Nascondi\">Mostra soluzione</a><div class=\"jupman-sol jupman-sol-code\" style=\"display:none\">  "
   ]
  },
  {
   "cell_type": "code",
   "execution_count": 10,
   "metadata": {},
   "outputs": [
    {
     "name": "stdout",
     "output_type": "stream",
     "text": [
      "lett\n"
     ]
    }
   ],
   "source": [
    "\n",
    "frase = \"Prendi 4 lettere\"       # lett\n",
    "#frase = \"Prendere 5 caratteri\"  # carat\n",
    "#frase = \"Take 10 characters\"    # characters\n",
    "\n",
    "# scrivi qui\n",
    "parole = frase.split()\n",
    "n = int(parole[1])\n",
    "print(parole[2][:n])"
   ]
  },
  {
   "cell_type": "raw",
   "id": "e06da5e6",
   "metadata": {
    "format": "text/html"
   },
   "source": [
    "</div>"
   ]
  },
  {
   "cell_type": "code",
   "execution_count": 10,
   "metadata": {},
   "outputs": [],
   "source": [
    "\n",
    "frase = \"Prendi 4 lettere\"       # lett\n",
    "#frase = \"Prendere 5 caratteri\"  # carat\n",
    "#frase = \"Take 10 characters\"    # characters\n",
    "\n",
    "# scrivi qui\n",
    "\n"
   ]
  },
  {
   "cell_type": "markdown",
   "metadata": {},
   "source": [
    "## Metodo count\n",
    "\n",
    "Si può ottenere il numero di occorrenze di un certo elemento in una lista usando il metodo `count`. "
   ]
  },
  {
   "cell_type": "code",
   "execution_count": 11,
   "metadata": {},
   "outputs": [],
   "source": [
    "la = ['c', 'o', 'r', 'r', 'o', 'b', 'o', 'r', 'a', 'r', 'e']"
   ]
  },
  {
   "cell_type": "code",
   "execution_count": 12,
   "metadata": {},
   "outputs": [
    {
     "data": {
      "text/plain": [
       "1"
      ]
     },
     "execution_count": 12,
     "metadata": {},
     "output_type": "execute_result"
    }
   ],
   "source": [
    "la.count('c')"
   ]
  },
  {
   "cell_type": "code",
   "execution_count": 13,
   "metadata": {},
   "outputs": [
    {
     "data": {
      "text/plain": [
       "3"
      ]
     },
     "execution_count": 13,
     "metadata": {},
     "output_type": "execute_result"
    }
   ],
   "source": [
    "la.count('o')"
   ]
  },
  {
   "cell_type": "code",
   "execution_count": 14,
   "metadata": {},
   "outputs": [
    {
     "data": {
      "text/plain": [
       "4"
      ]
     },
     "execution_count": 14,
     "metadata": {},
     "output_type": "execute_result"
    }
   ],
   "source": [
    "la.count('r')"
   ]
  },
  {
   "cell_type": "markdown",
   "metadata": {},
   "source": [
    "### Non abusare count\n",
    "\n",
    "<div class=\"alert alert-warning\">\n",
    "    \n",
    "**ATTENZIONE**: `count` **viene spesso usato in modo errato / inefficiente**\n",
    "\n",
    "Chiediti sempre:\n",
    "    \n",
    "1. la lista potrebbe contenere duplicati? Ricordati che verranno tutti conteggiati!\n",
    "2. la lista potrebbe _non_ contenere l'oggetto da contare? Ricordati di gestire anche questo caso!\n",
    "3. `count` compie una ricerca in tutta la lista, che può essere inefficiente: è proprio necessaria, o sappiamo già l'intervallo in cui cercare?\n",
    "</div>"
   ]
  },
  {
   "cell_type": "markdown",
   "metadata": {},
   "source": [
    "**DOMANDA**: Guarda i frammenti di codice seguenti, e per ciascuno cerca di indovinare che risultato produce (o se risulta in un errore).\n",
    "\n",
    "1.  ```python\n",
    "    ['A','aa','a','aaAah',\"a\", \"aaaa\"[1], \" a \"].count(\"a\")\n",
    "    ```    \n",
    "1.  ```python\n",
    "    [\"il\", \"castigo\", \"degli\", \"stolti\"].count('Stolti') == 1\n",
    "    ```\n",
    "1.  ```python\n",
    "    lista = ['oasi','dattero','oasi','cocco','dattero','cocco']\n",
    "    print(lista.count('dattero') == 1)\n",
    "    ```\n",
    "1.  ```python\n",
    "    lista = ['oasi','dattero','oasi','cocco','dattero','cocco']\n",
    "    print(lista[4] == 'dattero')\n",
    "    ```\n",
    "1.  ```python\n",
    "    ['2',2,\"2\",2,float(\"2\"),2.0, 4/2,\"1+1\",int('3')-float('1')].count(2)\n",
    "    ```    \n",
    "1.  ```python\n",
    "    [].count([])\n",
    "    ```\n",
    "1.  ```python\n",
    "    [[],[],[]].count([])\n",
    "    ```    "
   ]
  },
  {
   "cell_type": "markdown",
   "metadata": {},
   "source": [
    "### Esercizio - vita di campagna\n",
    "\n",
    "Data una lista `campagna`, scrivi del codice che stampa `True` se la prima metà contiene un numero di elementi `el1` uguale al numero di elementi `el2` nella seconda metà.\n"
   ]
  },
  {
   "cell_type": "raw",
   "id": "326bca8b",
   "metadata": {
    "format": "text/html"
   },
   "source": [
    "<a  class=\"jupman-sol jupman-sol-toggler\" \n",
    " onclick=\"jupman.toggleSolution(this);\" \n",
    " data-jupman-show=\"Mostra soluzione\" data-jupman-hide=\"Nascondi\">Mostra soluzione</a><div class=\"jupman-sol jupman-sol-code\" style=\"display:none\">  "
   ]
  },
  {
   "cell_type": "code",
   "execution_count": 15,
   "metadata": {},
   "outputs": [
    {
     "data": {
      "text/plain": [
       "True"
      ]
     },
     "execution_count": 15,
     "metadata": {},
     "output_type": "execute_result"
    }
   ],
   "source": [
    "\n",
    "el1,el2 = 'badili', 'zappe'    # True\n",
    "#el1,el2 = 'badili', 'badili'  # False\n",
    "#el1,el2 = 'cariole', 'aratri' # True\n",
    "#el1,el2 = 'badili', 'cariole' # False\n",
    "\n",
    "campagna = ['aratri','cariole', 'badili',  'cariole', 'badili','zappe', 'cariole',\n",
    "            'zappe', 'aratri',  'cariole', 'aratri',  'badili','aratri','zappe']\n",
    "\n",
    "# scrivi qui\n",
    "mid = len(campagna)//2\n",
    "campagna[:mid].count(el1) == campagna[mid:].count(el2)"
   ]
  },
  {
   "cell_type": "raw",
   "id": "b8d6de65",
   "metadata": {
    "format": "text/html"
   },
   "source": [
    "</div>"
   ]
  },
  {
   "cell_type": "code",
   "execution_count": 15,
   "metadata": {},
   "outputs": [],
   "source": [
    "\n",
    "el1,el2 = 'badili', 'zappe'    # True\n",
    "#el1,el2 = 'badili', 'badili'  # False\n",
    "#el1,el2 = 'cariole', 'aratri' # True\n",
    "#el1,el2 = 'badili', 'cariole' # False\n",
    "\n",
    "campagna = ['aratri','cariole', 'badili',  'cariole', 'badili','zappe', 'cariole',\n",
    "            'zappe', 'aratri',  'cariole', 'aratri',  'badili','aratri','zappe']\n",
    "\n",
    "# scrivi qui\n",
    "\n"
   ]
  },
  {
   "cell_type": "markdown",
   "metadata": {},
   "source": [
    "## Metodo index\n",
    "\n",
    "Il metodo `index` ci permette di trovare l'indice della PRIMA occorrenza di un elemento."
   ]
  },
  {
   "cell_type": "code",
   "execution_count": 16,
   "metadata": {},
   "outputs": [],
   "source": [
    "#      0   1   2   3   4\n",
    "la = ['p','a','e','s','e']"
   ]
  },
  {
   "cell_type": "code",
   "execution_count": 17,
   "metadata": {},
   "outputs": [
    {
     "data": {
      "text/plain": [
       "0"
      ]
     },
     "execution_count": 17,
     "metadata": {},
     "output_type": "execute_result"
    }
   ],
   "source": [
    "la.index('p')"
   ]
  },
  {
   "cell_type": "code",
   "execution_count": 18,
   "metadata": {},
   "outputs": [
    {
     "data": {
      "text/plain": [
       "1"
      ]
     },
     "execution_count": 18,
     "metadata": {},
     "output_type": "execute_result"
    }
   ],
   "source": [
    "la.index('a')  "
   ]
  },
  {
   "cell_type": "code",
   "execution_count": 19,
   "metadata": {},
   "outputs": [
    {
     "data": {
      "text/plain": [
       "2"
      ]
     },
     "execution_count": 19,
     "metadata": {},
     "output_type": "execute_result"
    }
   ],
   "source": [
    "la.index('e')  # troviamo la PRIMA occorrenza"
   ]
  },
  {
   "cell_type": "markdown",
   "metadata": {},
   "source": [
    "Se l'elemento che cerchiamo non è presente, otterremo un errore:"
   ]
  },
  {
   "cell_type": "markdown",
   "metadata": {},
   "source": [
    "\n",
    "\n",
    "```python\n",
    ">>> la.index('z')\n",
    "\n",
    "---------------------------------------------------------------------------\n",
    "ValueError                                Traceback (most recent call last)\n",
    "<ipython-input-303-32d9c064ebe0> in <module>\n",
    "----> 1 la.index('z')\n",
    "\n",
    "ValueError: 'z' is not in list\n",
    "\n",
    "```"
   ]
  },
  {
   "cell_type": "markdown",
   "metadata": {},
   "source": [
    "Opzionalmente, puoi specificare un indice da dove iniziare a cercare (**incluso**):"
   ]
  },
  {
   "cell_type": "code",
   "execution_count": 20,
   "metadata": {},
   "outputs": [
    {
     "data": {
      "text/plain": [
       "8"
      ]
     },
     "execution_count": 20,
     "metadata": {},
     "output_type": "execute_result"
    }
   ],
   "source": [
    "# 0   1   2   3   4   5   6   7   8   9   10\n",
    "['a','c','c','a','p','a','r','r','a','r','e'].index('a',6)"
   ]
  },
  {
   "cell_type": "markdown",
   "metadata": {},
   "source": [
    "E anche dove finire (**escluso**):"
   ]
  },
  {
   "cell_type": "markdown",
   "metadata": {},
   "source": [
    "```python\n",
    "# 0   1   2   3   4   5   6   7   8   9   10\n",
    "['a','c','c','a','p','a','r','r','a','r','e'].index('a',6,8)\n",
    "\n",
    "---------------------------------------------------------------------------\n",
    "ValueError                                Traceback (most recent call last)\n",
    "<ipython-input-17-7f344c26b62e> in <module>\n",
    "      1 # 0   1   2   3   4   5   6   7   8   9   10\n",
    "----> 2 ['a','c','c','a','p','a','r','r','a','r','e'].index('a',6,8)\n",
    "\n",
    "ValueError: 'a' is not in list\n",
    "```\n"
   ]
  },
  {
   "cell_type": "markdown",
   "metadata": {},
   "source": [
    "### Non abusare index"
   ]
  },
  {
   "cell_type": "markdown",
   "metadata": {},
   "source": [
    "<div class=\"alert alert-warning\">\n",
    "    \n",
    "**ATTENZIONE**: `index` **viene spesso usato in modo errato / inefficiente**\n",
    "\n",
    "Chiediti sempre:\n",
    "    \n",
    "1. la lista su cui operare potrebbe contenere duplicati? Ricordati che solo il _primo_ verrà trovato!\n",
    "2. la lista potrebbe _non_ contenere l'elemento cercato? Ricordati che in questo caso il programma lancerà un errore!    \n",
    "3. `index` compie una ricerca in tutta la lista, che può essere inefficiente: è proprio necessaria, o sappiamo già l'intervallo in cui cercare? \n",
    "4. se vogliamo sapere se un `elemento` è in una posizione nota a priori (es `3`), `index` non ci serve, basta scrivere `lista[3] == elemento`. Usando `index` potrebbe trovare caratteri duplicati che stanno _prima_ o _dopo_ di quello che vogliamo verificare!\n",
    "</div>"
   ]
  },
  {
   "cell_type": "markdown",
   "metadata": {},
   "source": [
    "**DOMANDA**: Guarda i frammenti di codice seguenti, e per ciascuno cerca di indovinare che risultato produce (o se risulta in un errore)."
   ]
  },
  {
   "cell_type": "markdown",
   "metadata": {},
   "source": [
    "1.  ```python\n",
    "    ['arco','barca','conca','duna'].index('conca') == ['arco','barca','conca','duna'].index('conca',1)\n",
    "    ```\n",
    "1.  ```python\n",
    "    ['azzurro','blu','celeste','puffo'][-1:].index('celeste')\n",
    "    ```    \n",
    "1.  ```python\n",
    "    strada = ['asfalto','bitume','cemento','ghiaia']\n",
    "    print('malta' in strada or strada.index('malta'))\n",
    "    ```    \n",
    "1.  ```python\n",
    "    strada = ['asfalto','bitume','cemento','ghiaia']\n",
    "    print('malta' in strada and strada.index('malta'))\n",
    "    ```\n",
    "1.  ```python\n",
    "    strada = ['asfalto','bitume','malta','ghiaia']\n",
    "    print('malta' in strada and strada.index('malta'))\n",
    "    ```\n",
    "1.  ```python\n",
    "    la = [0,5,10]\n",
    "    la.reverse()\n",
    "    print(la.index(5) > la.index(10))\n",
    "    ```"
   ]
  },
  {
   "cell_type": "markdown",
   "metadata": {},
   "source": [
    "### Esercizio - Spatoč\n",
    "\n",
    "In passato hai avuto conosciuto il pittore slavo Spatoč quando era ancora povero in canna. Ti ha regalato 2 o 3 quadri (non ricordi) dal dubbio valore artistico che hai nascosto in soffitta, ma dalla TV apprendi che Spatoč è diventato un artista di fama internazionale. Corri quindi in soffitta a recuperare i quadri, persi tra le mille cianfrusaglie. Ogni quadro è contenuto in uno `[ ]` scatolone, ma non sai in quale scaffale. Scrivi del codice che stampa dove sono.\n",
    "\n",
    "\n",
    "- gli scaffali sono **numerati da 1**. Se il terzo quadro non è trovato, stampa `0`.\n",
    "- **NON** usare cicli nè `if`\n",
    "- **SUGGERIMENTO:** stampare i primi due (che ci sono sempre) è facile, mentre per l'ultimo riguardati [Booleani - ordine di valutazione](https://it.softpython.org/basics/basics2-bools-sol.html#Ordine-di-valutazione)\n",
    "\n",
    "Esempio 1 - data:"
   ]
  },
  {
   "cell_type": "code",
   "execution_count": 21,
   "metadata": {},
   "outputs": [],
   "source": [
    "         #  1      2          3            4           5          \n",
    "soffitta = [3,    '\\\\',     ['quadro'],   '---',     ['quadro'], \n",
    "         #  6      7          8            9           10\n",
    "            5.23, ['viti'], ['pattini'], ['quadro'], ['lampada']]"
   ]
  },
  {
   "cell_type": "markdown",
   "metadata": {},
   "source": [
    "il tuo codice deve stampare:\n",
    "\n",
    "```\n",
    "scaffale primo quadro:  3\n",
    "scaffale secondo quadro: 5\n",
    "scaffale terzo quadro: 9\n",
    "```\n",
    "\n",
    "Esempio 2 - data:"
   ]
  },
  {
   "cell_type": "code",
   "execution_count": 22,
   "metadata": {},
   "outputs": [],
   "source": [
    "            # 1          2     3            4            5           6          7\n",
    "soffitta = [['quadro'],  '--', ['pattini'], ['quadro'], ['statua'], ['viti'], ['stivali']]"
   ]
  },
  {
   "cell_type": "markdown",
   "metadata": {},
   "source": [
    "il tuo codice deve stampare:\n",
    "\n",
    "```\n",
    "scaffale primo quadro: 1\n",
    "scaffale secondo quadro: 4\n",
    "scaffale terzo quadro: 0\n",
    "```"
   ]
  },
  {
   "cell_type": "raw",
   "id": "dd206305",
   "metadata": {
    "format": "text/html"
   },
   "source": [
    "<a  class=\"jupman-sol jupman-sol-toggler\" \n",
    " onclick=\"jupman.toggleSolution(this);\" \n",
    " data-jupman-show=\"Mostra soluzione\" data-jupman-hide=\"Nascondi\">Mostra soluzione</a><div class=\"jupman-sol jupman-sol-code\" style=\"display:none\">  "
   ]
  },
  {
   "cell_type": "code",
   "execution_count": 23,
   "metadata": {},
   "outputs": [
    {
     "name": "stdout",
     "output_type": "stream",
     "text": [
      "scaffale primo quadro: 3\n",
      "scaffale secondo quadro: 5\n",
      "scaffale terzo quadro: 9\n"
     ]
    }
   ],
   "source": [
    "\n",
    "        #   1  2     3            4      5          6      7          8             9           10\n",
    "soffitta = [3,'\\\\', ['quadro'], '---', ['quadro'], 5.23, ['viti'], ['pattini'], ['quadro'], ['lampada']]\n",
    "#  3,5,9\n",
    "            #  1          2      3            4            5           6          7\n",
    "#soffitta = [['quadro'],  '--', ['pattini'], ['quadro'], ['statua'], ['viti'], ['stivali']]\n",
    "#  1,4,0\n",
    "\n",
    "\n",
    "# scrivi qui\n",
    "\n",
    "i1 = soffitta.index(['quadro'])\n",
    "print(\"scaffale primo quadro:\", i1+1)\n",
    "i2 = soffitta.index(['quadro'], i1+1)\n",
    "print(\"scaffale secondo quadro:\", i2+1)\n",
    "i3 = int(['quadro'] in soffitta[i2+1:]) and (soffitta.index(['quadro'], i2+1) + 1)\n",
    "print(\"scaffale terzo quadro:\", i3)"
   ]
  },
  {
   "cell_type": "raw",
   "id": "f0a79426",
   "metadata": {
    "format": "text/html"
   },
   "source": [
    "</div>"
   ]
  },
  {
   "cell_type": "code",
   "execution_count": 23,
   "metadata": {},
   "outputs": [],
   "source": [
    "\n",
    "        #   1  2     3            4      5          6      7          8             9           10\n",
    "soffitta = [3,'\\\\', ['quadro'], '---', ['quadro'], 5.23, ['viti'], ['pattini'], ['quadro'], ['lampada']]\n",
    "#  3,5,9\n",
    "            #  1          2      3            4            5           6          7\n",
    "#soffitta = [['quadro'],  '--', ['pattini'], ['quadro'], ['statua'], ['viti'], ['stivali']]\n",
    "#  1,4,0\n",
    "\n",
    "\n",
    "# scrivi qui\n",
    "\n"
   ]
  },
  {
   "cell_type": "markdown",
   "metadata": {},
   "source": [
    "## Metodo remove"
   ]
  },
  {
   "cell_type": "markdown",
   "metadata": {},
   "source": [
    "`remove` prende come parametro un oggetto, cerca la PRIMA cella che contiene quell'oggetto e la elimina:"
   ]
  },
  {
   "cell_type": "code",
   "execution_count": 24,
   "metadata": {},
   "outputs": [],
   "source": [
    "#     0 1 2 3 4 5\n",
    "la = [6,7,9,5,9,8]   # il 9 è alla cella con indice 2 e 4"
   ]
  },
  {
   "cell_type": "code",
   "execution_count": 25,
   "metadata": {},
   "outputs": [],
   "source": [
    "la.remove(9)   # cerca la prima cella contenente il numero 9"
   ]
  },
  {
   "cell_type": "code",
   "execution_count": 26,
   "metadata": {},
   "outputs": [
    {
     "data": {
      "text/plain": [
       "[6, 7, 5, 9, 8]"
      ]
     },
     "execution_count": 26,
     "metadata": {},
     "output_type": "execute_result"
    }
   ],
   "source": [
    "la"
   ]
  },
  {
   "cell_type": "markdown",
   "metadata": {},
   "source": [
    "Come si può vedere, la cella che era all'indice `2` e che conteneva la PRIMA occorrenza di `9` è stata eliminata. La cella contenente la SECONDA occorrenza di `9` invece è ancora lì."
   ]
  },
  {
   "cell_type": "markdown",
   "metadata": {},
   "source": [
    "Se si cerca di rimuovere un oggetto non presente, si riceve un errore:"
   ]
  },
  {
   "cell_type": "markdown",
   "metadata": {},
   "source": [
    "\n",
    "```python\n",
    "la.remove(666)\n",
    "\n",
    "---------------------------------------------------------------------------\n",
    "ValueError                                Traceback (most recent call last)\n",
    "<ipython-input-121-5d04a71f9d33> in <module>\n",
    "----> 1 la.remove(666)\n",
    "\n",
    "ValueError: list.remove(x): x not in list\n",
    "```"
   ]
  },
  {
   "cell_type": "markdown",
   "metadata": {},
   "source": [
    "### Non abusare remove\n",
    "\n",
    "<div class=\"alert alert-warning\">\n",
    "    \n",
    "**ATTENZIONE**: `remove` **viene spesso usato in modo errato / inefficiente**\n",
    "\n",
    "Chiediti sempre:\n",
    "    \n",
    "1. la lista potrebbe contenere duplicati? Ricordati che verrà rimosso solo il primo!\n",
    "2. la lista potrebbe _non_ contenere l'oggetto cercato? Ricordati di gestire anche questo caso!\n",
    "3. `remove` compie una ricerca in tutta la lista, che può essere inefficiente: è proprio necessaria, o sappiamo già la posizione `i` dove è presente l'elemento da rimuovere? In tal caso conviene usare `.pop(i)`\n",
    "</div>\n"
   ]
  },
  {
   "cell_type": "markdown",
   "metadata": {},
   "source": [
    "**DOMANDA**: Guarda i frammenti di codice seguenti, e per ciascuno cerca di indovinare che risultato produce (o se risulta in un errore).\n",
    "\n",
    "1.  ```python\n",
    "    la = ['a','b','c','b']\n",
    "    la.remove('b')\n",
    "    print(la)\n",
    "    ```\n",
    "1.  ```python\n",
    "    la = ['a','b','c','b']\n",
    "    x = la.remove('b')\n",
    "    print(x)\n",
    "    print(la)\n",
    "    ```    \n",
    "1.  ```python\n",
    "    la = ['a','d','c','d']\n",
    "    la.remove('b')\n",
    "    print(la)\n",
    "    ```\n",
    "1.  ```python\n",
    "    la = ['a','bb','c','bbb']\n",
    "    la.remove('b')\n",
    "    print(la)\n",
    "    ```        \n",
    "1.  ```python\n",
    "    la = ['a','b','c','b']\n",
    "    la.remove('B')    \n",
    "    print(la)\n",
    "    ```    \n",
    "1.  ```python\n",
    "    la = ['a',9,'99',9,'c',str(9),'999']\n",
    "    la.remove(\"9\")    \n",
    "    print(la)\n",
    "    ```\n",
    "1.  ```python\n",
    "    la = ['nun', 'me', 'fregà']\n",
    "    la.remove('nun').remove('me').remove('fregà')\n",
    "    print(la)\n",
    "    ```\n",
    "1.  ```python\n",
    "    la = ['nun', 'me', 'fregà']\n",
    "    la.remove('nun')\n",
    "    la.remove('me')\n",
    "    la.remove('fregà')\n",
    "    print(la)\n",
    "    ```    \n",
    "1.  ```python\n",
    "    la = [4,5,7,10]\n",
    "    11 in la or la.remove(11)    \n",
    "    print(la)\n",
    "    ```     \n",
    "1.  ```python\n",
    "    la = [4,5,7,10]\n",
    "    11 in la and la.remove(11)    \n",
    "    print(la)\n",
    "    ``` \n",
    "1.  ```python\n",
    "    la = [4,5,7,10]\n",
    "    5 in la and la.remove(5)\n",
    "    print(la)\n",
    "    ```    \n",
    "1.  ```python\n",
    "    la = [9, [9], [[9]], [[[9]]] ]\n",
    "    la.remove([9])\n",
    "    print(la)\n",
    "    ```        \n",
    "1.  ```python\n",
    "    la = [9, [9], [[9]], [[[9]]] ]\n",
    "    la.remove([[9]])\n",
    "    print(la)\n",
    "    ```        "
   ]
  },
  {
   "cell_type": "markdown",
   "metadata": {},
   "source": [
    "### Esercizio - nob\n",
    "\n",
    "Scrivi del codice che rimuove dalla lista `la` tutti i numeri contenuti nella lista di 3 elementi `lb`\n",
    "\n",
    "* il tuo codice deve funzionare con qualsiasi lista `la` e `lb` di 3 elementi\n",
    "* puoi assumere che `la` contenga esattamente DUE occorrenze di tutti gli elementi di `lb` (più eventuali altri numeri)\n",
    "\n",
    "Esempio - dati:\n",
    "\n",
    "```python\n",
    "lb = [8,7,4]\n",
    "la = [7,8,11,8,7,4,5,4]\n",
    "```\n",
    "\n",
    "dopo il tuo codice deve risultare\n",
    "\n",
    "```python\n",
    ">>> print(la)\n",
    "[11, 5]\n",
    "```"
   ]
  },
  {
   "cell_type": "raw",
   "id": "ee42d3e2",
   "metadata": {
    "format": "text/html"
   },
   "source": [
    "<a  class=\"jupman-sol jupman-sol-toggler\" \n",
    " onclick=\"jupman.toggleSolution(this);\" \n",
    " data-jupman-show=\"Mostra soluzione\" data-jupman-hide=\"Nascondi\">Mostra soluzione</a><div class=\"jupman-sol jupman-sol-code\" style=\"display:none\">  "
   ]
  },
  {
   "cell_type": "code",
   "execution_count": 27,
   "metadata": {},
   "outputs": [
    {
     "name": "stdout",
     "output_type": "stream",
     "text": [
      "[11, 5]\n"
     ]
    }
   ],
   "source": [
    "\n",
    "lb = [8,7,4]\n",
    "la = [7,8,11,8,7,4,5,4]\n",
    "\n",
    "# scrivi qui\n",
    "\n",
    "la.remove(lb[0])\n",
    "la.remove(lb[0])\n",
    "la.remove(lb[1])\n",
    "la.remove(lb[1])\n",
    "la.remove(lb[2])\n",
    "la.remove(lb[2])\n",
    "print(la)"
   ]
  },
  {
   "cell_type": "raw",
   "id": "f6c9e92d",
   "metadata": {
    "format": "text/html"
   },
   "source": [
    "</div>"
   ]
  },
  {
   "cell_type": "code",
   "execution_count": 27,
   "metadata": {},
   "outputs": [],
   "source": [
    "\n",
    "lb = [8,7,4]\n",
    "la = [7,8,11,8,7,4,5,4]\n",
    "\n",
    "# scrivi qui\n",
    "\n"
   ]
  },
  {
   "cell_type": "markdown",
   "metadata": {},
   "source": [
    "## Prosegui\n",
    "\n",
    "Continua con [le prime challenge](https://it.softpython.org/lists/lists5-chal.html)"
   ]
  },
  {
   "cell_type": "code",
   "execution_count": null,
   "metadata": {},
   "outputs": [],
   "source": []
  }
 ],
 "metadata": {
  "kernelspec": {
   "display_name": "Python 3 (ipykernel)",
   "language": "python",
   "name": "python3"
  },
  "language_info": {
   "codemirror_mode": {
    "name": "ipython",
    "version": 3
   },
   "file_extension": ".py",
   "mimetype": "text/x-python",
   "name": "python",
   "nbconvert_exporter": "python",
   "pygments_lexer": "ipython3",
   "version": "3.7.10"
  },
  "toc": {
   "base_numbering": 1,
   "nav_menu": {},
   "number_sections": false,
   "sideBar": true,
   "skip_h1_title": false,
   "title_cell": "Table of Contents",
   "title_sidebar": "Contents",
   "toc_cell": false,
   "toc_position": {},
   "toc_section_display": true,
   "toc_window_display": true
  }
 },
 "nbformat": 4,
 "nbformat_minor": 2
}

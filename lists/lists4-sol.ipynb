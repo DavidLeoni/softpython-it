{
 "cells": [
  {
   "cell_type": "code",
   "execution_count": 1,
   "metadata": {
    "nbsphinx": "hidden"
   },
   "outputs": [],
   "source": [
    " # Ricordati di eseguire questa cella con Shift+Invio\n",
    "\n",
    "import jupman"
   ]
  },
  {
   "cell_type": "markdown",
   "metadata": {},
   "source": [
    "# Liste 4 - iterazione e funzioni\n",
    "\n",
    "## [Scarica zip esercizi](../_static/generated/lists.zip)\n",
    "\n",
    "[Naviga file online](https://github.com/DavidLeoni/softpython-it/tree/master/lists)\n",
    "\n",
    "In questo foglio trovi esercizi su iterazione su liste e come usarle quando sono usate come argomento di funzioni. \n",
    "\n",
    "<div class=\"alert alert-warning\">\n",
    "\n",
    "**ATTENZIONE: Gli esercizi seguenti richiedono di conoscere:**\n",
    "\n",
    "<ul>\n",
    "   <li>[Liste 1](https://it.softpython.org/lists/lists1-sol.html), [Liste 2](https://it.softpython.org/lists/lists2-sol.html) e [Liste 3](https://it.softpython.org/lists/lists3-sol.html)</li>\n",
    "   <li>[Controllo di flusso](https://it.softpython.org/control-flow/control-flow-sol.html)</li>\n",
    "   <li>[Funzioni](https://it.softpython.org/functions/functions-sol.html)</li>\n",
    "</ul>\n",
    "<br/>\n",
    "Se sei alle prime armi con la programmazione, ti conviene saltarli e ripassare in seguito\n",
    "</div>\n"
   ]
  },
  {
   "cell_type": "markdown",
   "metadata": {},
   "source": [
    "### Che fare\n",
    "\n",
    "- scompatta lo zip in una cartella, dovresti ottenere qualcosa del genere: \n",
    "\n",
    "```\n",
    "\n",
    "lists\n",
    "    lists1.ipynb\n",
    "    lists1-sol.ipynb         \n",
    "    lists2.ipynb\n",
    "    lists2-sol.ipynb         \n",
    "    lists3.ipynb\n",
    "    lists3-sol.ipynb         \n",
    "    lists4.ipynb\n",
    "    lists4-sol.ipynb         \n",
    "    jupman.py         \n",
    "```\n",
    "\n",
    "<div class=\"alert alert-warning\">\n",
    "\n",
    "**ATTENZIONE**: Per essere visualizzato correttamente, il file del notebook DEVE essere nella cartella szippata.\n",
    "</div>\n",
    "\n",
    "- apri il Jupyter Notebook da quella cartella. Due cose dovrebbero aprirsi, prima una console e poi un browser. Il browser dovrebbe mostrare una lista di file: naviga la lista e apri il notebook `lists4.ipynb`\n",
    "- Prosegui leggendo il file degli esercizi, ogni tanto al suo interno troverai delle scritte **ESERCIZIO**, che ti chiederanno di scrivere dei comandi Python nelle celle successive. Gli esercizi sono graduati per difficoltà, da una stellina ✪ a quattro ✪✪✪✪\n",
    "\n",
    "\n",
    "Scorciatoie da tastiera:\n",
    "\n",
    "* Per eseguire il codice Python dentro una cella di Jupyter, premi `Control+Invio`\n",
    "* Per eseguire il codice Python dentro una cella di Jupyter E selezionare la cella seguente, premi `Shift+Invio`\n",
    "* Per eseguire il codice Python dentro una cella di Jupyter E creare una nuova cella subito dopo, premi `Alt+Invio`\n",
    "* Se per caso il Notebook sembra inchiodato, prova a selezionare `Kernel -> Restart`\n",
    "\n"
   ]
  },
  {
   "cell_type": "markdown",
   "metadata": {},
   "source": [
    "## Esercizi con le funzioni\n"
   ]
  },
  {
   "cell_type": "markdown",
   "metadata": {},
   "source": [
    "### stamparole\n",
    "\n",
    "✪ Scrive una funzione `stamparole` che STAMPI tutte le parole in una frase \n",
    "\n",
    "\n",
    "```python\n",
    ">>> stamparole(\"ciao come stai?\")\n",
    "```\n",
    "```\n",
    "ciao\n",
    "come\n",
    "stai?\n",
    "```\n"
   ]
  },
  {
   "cell_type": "raw",
   "id": "5f6d6dd6",
   "metadata": {
    "format": "text/html"
   },
   "source": [
    "<a  class=\"jupman-sol jupman-sol-toggler\" \n",
    " onclick=\"jupman.toggleSolution(this);\" \n",
    " data-jupman-show=\"Mostra soluzione\" data-jupman-hide=\"Nascondi\">Mostra soluzione</a><div class=\"jupman-sol jupman-sol-code\" style=\"display:none\">  "
   ]
  },
  {
   "cell_type": "code",
   "execution_count": 2,
   "metadata": {},
   "outputs": [
    {
     "name": "stdout",
     "output_type": "stream",
     "text": [
      "ciao\n",
      "come\n",
      "stai?\n"
     ]
    }
   ],
   "source": [
    "# scrivi qui\n",
    "\n",
    "frase = \"ciao come stai?\"\n",
    "\n",
    "def stamparole(f):\n",
    "    \n",
    "    lista = f.split()\n",
    "    for parola in lista:\n",
    "        print(parola)\n",
    "        \n",
    "stamparole(frase)"
   ]
  },
  {
   "cell_type": "raw",
   "id": "2c77fb49",
   "metadata": {
    "format": "text/html"
   },
   "source": [
    "</div>"
   ]
  },
  {
   "cell_type": "code",
   "execution_count": 2,
   "metadata": {},
   "outputs": [
    {
     "name": "stdout",
     "output_type": "stream",
     "text": [
      "ciao\n",
      "come\n",
      "stai?\n"
     ]
    }
   ],
   "source": [
    "# scrivi qui\n",
    "\n"
   ]
  },
  {
   "cell_type": "markdown",
   "metadata": {},
   "source": [
    "### stampari\n",
    "\n",
    "✪ Scrivere una funzione `stampari(lista)` che STAMPI i numeri pari di una lista di numeri \n",
    "\n",
    "\n",
    "```python\n",
    ">>> stampari([1,2,3,4,5,6])\n",
    "\n",
    "2\n",
    "4\n",
    "6\n",
    "```\n"
   ]
  },
  {
   "cell_type": "raw",
   "id": "b1270535",
   "metadata": {
    "format": "text/html"
   },
   "source": [
    "<a  class=\"jupman-sol jupman-sol-toggler\" \n",
    " onclick=\"jupman.toggleSolution(this);\" \n",
    " data-jupman-show=\"Mostra soluzione\" data-jupman-hide=\"Nascondi\">Mostra soluzione</a><div class=\"jupman-sol jupman-sol-code\" style=\"display:none\">  "
   ]
  },
  {
   "cell_type": "code",
   "execution_count": 3,
   "metadata": {},
   "outputs": [
    {
     "name": "stdout",
     "output_type": "stream",
     "text": [
      "2\n",
      "4\n",
      "6\n"
     ]
    }
   ],
   "source": [
    "# scrivi qui\n",
    "\n",
    "def stampari(lista):\n",
    "\n",
    "    for numero in lista:\n",
    "        if numero % 2 == 0:\n",
    "            print(numero)\n",
    "\n",
    "numeri = [1,2,3,4,5,6]\n",
    "stampari(numeri)"
   ]
  },
  {
   "cell_type": "raw",
   "id": "83074416",
   "metadata": {
    "format": "text/html"
   },
   "source": [
    "</div>"
   ]
  },
  {
   "cell_type": "code",
   "execution_count": 3,
   "metadata": {},
   "outputs": [
    {
     "name": "stdout",
     "output_type": "stream",
     "text": [
      "2\n",
      "4\n",
      "6\n"
     ]
    }
   ],
   "source": [
    "# scrivi qui\n",
    "\n"
   ]
  },
  {
   "cell_type": "markdown",
   "metadata": {},
   "source": [
    "### cerca26\n",
    "\n",
    "✪ Scrivere una funzione che RITORNA True se il numero 26 è contenuto in una lista di numeri\n",
    "\n",
    "```python\n",
    ">>> cerca26( [1,26,143,431,53,6] )\n",
    "True\n",
    "```"
   ]
  },
  {
   "cell_type": "raw",
   "id": "e7a568ef",
   "metadata": {
    "format": "text/html"
   },
   "source": [
    "<a  class=\"jupman-sol jupman-sol-toggler\" \n",
    " onclick=\"jupman.toggleSolution(this);\" \n",
    " data-jupman-show=\"Mostra soluzione\" data-jupman-hide=\"Nascondi\">Mostra soluzione</a><div class=\"jupman-sol jupman-sol-code\" style=\"display:none\">  "
   ]
  },
  {
   "cell_type": "code",
   "execution_count": 4,
   "metadata": {},
   "outputs": [
    {
     "data": {
      "text/plain": [
       "True"
      ]
     },
     "execution_count": 4,
     "metadata": {},
     "output_type": "execute_result"
    }
   ],
   "source": [
    "# scrivi qui\n",
    "\n",
    "def cerca26(lista):\n",
    "    return (26 in numeri)\n",
    "\n",
    "numeri = [1,26,143,431,53,6]\n",
    "cerca26(numeri)"
   ]
  },
  {
   "cell_type": "raw",
   "id": "9830979c",
   "metadata": {
    "format": "text/html"
   },
   "source": [
    "</div>"
   ]
  },
  {
   "cell_type": "code",
   "execution_count": 4,
   "metadata": {},
   "outputs": [
    {
     "data": {
      "text/plain": [
       "True"
      ]
     },
     "execution_count": 4,
     "metadata": {},
     "output_type": "execute_result"
    }
   ],
   "source": [
    "# scrivi qui\n",
    "\n"
   ]
  },
  {
   "cell_type": "markdown",
   "metadata": {},
   "source": [
    "### stamprisec\n",
    "\n",
    "\n",
    "✪ Scrivere una funzione `stamprisec(stringa)` che STAMPI la prima e la seconda parola di una frase \n",
    "\n",
    "* per ottenere una lista di parole usare il metodo delle stringhe `.split()` \n",
    "\n",
    "```python\n",
    ">>> stamprisec(\"ciao come stai?\")\n",
    "```\n",
    "```\n",
    "ciao come\n",
    "```"
   ]
  },
  {
   "cell_type": "raw",
   "id": "c0a4cc61",
   "metadata": {
    "format": "text/html"
   },
   "source": [
    "<a  class=\"jupman-sol jupman-sol-toggler\" \n",
    " onclick=\"jupman.toggleSolution(this);\" \n",
    " data-jupman-show=\"Mostra soluzione\" data-jupman-hide=\"Nascondi\">Mostra soluzione</a><div class=\"jupman-sol jupman-sol-code\" style=\"display:none\">  "
   ]
  },
  {
   "cell_type": "code",
   "execution_count": 5,
   "metadata": {},
   "outputs": [
    {
     "name": "stdout",
     "output_type": "stream",
     "text": [
      "ciao come\n"
     ]
    }
   ],
   "source": [
    "# scrivi qui\n",
    "\n",
    "def stamprisec(stringa):\n",
    "\n",
    "    lista = frase.split()\n",
    "    print(lista[0], lista[1])\n",
    "    \n",
    "frase = \"ciao come stai?\"\n",
    "stamprisec(frase)"
   ]
  },
  {
   "cell_type": "raw",
   "id": "888688a3",
   "metadata": {
    "format": "text/html"
   },
   "source": [
    "</div>"
   ]
  },
  {
   "cell_type": "code",
   "execution_count": 5,
   "metadata": {},
   "outputs": [
    {
     "name": "stdout",
     "output_type": "stream",
     "text": [
      "ciao come\n"
     ]
    }
   ],
   "source": [
    "# scrivi qui\n",
    "\n"
   ]
  },
  {
   "cell_type": "markdown",
   "metadata": {},
   "source": [
    "### trepari\n",
    "\n",
    "✪ Scrivi una funzione che STAMPI \"si\" se i primi tre elementi di una lista sono numeri pari. Altrimenti, la funzione deve STAMPARE \"no\". Nel caso in cui la lista  contenga meno di tre elementi, STAMPARE \"non va bene\"\n",
    "\n",
    "```python\n",
    ">>> trepari([6,4,8,4,5])\n",
    "True\n",
    ">>> trepari([2,5,6,3,4,5])\n",
    "False\n",
    ">>> trepari([4])\n",
    "non va bene\n",
    "```"
   ]
  },
  {
   "cell_type": "raw",
   "id": "9e5174fe",
   "metadata": {
    "format": "text/html"
   },
   "source": [
    "<a  class=\"jupman-sol jupman-sol-toggler\" \n",
    " onclick=\"jupman.toggleSolution(this);\" \n",
    " data-jupman-show=\"Mostra soluzione\" data-jupman-hide=\"Nascondi\">Mostra soluzione</a><div class=\"jupman-sol jupman-sol-code\" style=\"display:none\">  "
   ]
  },
  {
   "cell_type": "code",
   "execution_count": 6,
   "metadata": {},
   "outputs": [
    {
     "name": "stdout",
     "output_type": "stream",
     "text": [
      "True\n",
      "False\n",
      "non va bene\n"
     ]
    }
   ],
   "source": [
    "# scrivi qui\n",
    "\n",
    "def trepari(lista):\n",
    "    if len(lista) >= 3:\n",
    "        print(lista[0] % 2 == 0 and lista[1] % 2 == 0 and lista[2] % 2 == 0)\n",
    "    else:\n",
    "        print(\"non va bene\")\n",
    "\n",
    "trepari([6,4,8,4,5])\n",
    "trepari([2,5,6,3,4,5])\n",
    "trepari([4])"
   ]
  },
  {
   "cell_type": "raw",
   "id": "3f74536d",
   "metadata": {
    "format": "text/html"
   },
   "source": [
    "</div>"
   ]
  },
  {
   "cell_type": "code",
   "execution_count": 6,
   "metadata": {},
   "outputs": [
    {
     "name": "stdout",
     "output_type": "stream",
     "text": [
      "True\n",
      "False\n",
      "non va bene\n"
     ]
    }
   ],
   "source": [
    "# scrivi qui\n",
    "\n"
   ]
  },
  {
   "cell_type": "markdown",
   "metadata": {},
   "source": [
    "### separa_ip\n",
    "\n",
    "✪ Un indirizzo IP è una stringa in cui ci sono quattro sequenze di numeri (di lunghezza massima 3) separati \".\". Per esempio, `192.168.19.34` e `255.31.1.0` sono indirizzi IP. Scrivere una funzione che dato un indirizzo IP in input, STAMPI i numeri che compongono l’indirizzo IP (nota: non vale utilizzare il metodo `.replace()` )\n",
    "\n",
    "```python\n",
    ">>> separa_ip(\"192.168.0.1\")\n",
    "\n",
    "192\n",
    "168\n",
    "0\n",
    "1\n",
    "```"
   ]
  },
  {
   "cell_type": "raw",
   "id": "d500d1ce",
   "metadata": {
    "format": "text/html"
   },
   "source": [
    "<a  class=\"jupman-sol jupman-sol-toggler\" \n",
    " onclick=\"jupman.toggleSolution(this);\" \n",
    " data-jupman-show=\"Mostra soluzione\" data-jupman-hide=\"Nascondi\">Mostra soluzione</a><div class=\"jupman-sol jupman-sol-code\" style=\"display:none\">  "
   ]
  },
  {
   "cell_type": "code",
   "execution_count": 7,
   "metadata": {},
   "outputs": [
    {
     "name": "stdout",
     "output_type": "stream",
     "text": [
      "192\n",
      "168\n",
      "0\n",
      "1\n"
     ]
    }
   ],
   "source": [
    "# scrivi qui\n",
    "\n",
    "def separa_ip(stringa):\n",
    "    separata = stringa.split(\".\")\n",
    "    for elemento in separata:\n",
    "        print(elemento)\n",
    "    \n",
    "\n",
    "separa_ip(\"192.168.0.1\")"
   ]
  },
  {
   "cell_type": "raw",
   "id": "c555980c",
   "metadata": {
    "format": "text/html"
   },
   "source": [
    "</div>"
   ]
  },
  {
   "cell_type": "code",
   "execution_count": 7,
   "metadata": {},
   "outputs": [
    {
     "name": "stdout",
     "output_type": "stream",
     "text": [
      "192\n",
      "168\n",
      "0\n",
      "1\n"
     ]
    }
   ],
   "source": [
    "# scrivi qui\n",
    "\n"
   ]
  },
  {
   "cell_type": "markdown",
   "metadata": {},
   "source": [
    "### media\n",
    "\n",
    "✪ Data una lista di numeri interi, scrivi una funzione `media(lista)` che RITORNI la media \n",
    "aritmetica dei numeri che contiene. Se la lista passata alla funzione dovesse \n",
    "essere vuota, RITORNARE 0\n",
    "\n",
    "```python\n",
    ">>> x = media([3,4,2,3])  # ( 10/4 => 3.0)\n",
    ">>> x\n",
    "3.0\n",
    ">>> y = media([])\n",
    ">>> y\n",
    "0\n",
    ">>> z = media([ 30, 28 , 20, 29 ])\n",
    ">>> z\n",
    "26.75\n",
    "```"
   ]
  },
  {
   "cell_type": "raw",
   "id": "d51aaffe",
   "metadata": {
    "format": "text/html"
   },
   "source": [
    "<a  class=\"jupman-sol jupman-sol-toggler\" \n",
    " onclick=\"jupman.toggleSolution(this);\" \n",
    " data-jupman-show=\"Mostra soluzione\" data-jupman-hide=\"Nascondi\">Mostra soluzione</a><div class=\"jupman-sol jupman-sol-code\" style=\"display:none\">  "
   ]
  },
  {
   "cell_type": "code",
   "execution_count": 8,
   "metadata": {},
   "outputs": [
    {
     "name": "stdout",
     "output_type": "stream",
     "text": [
      "0\n"
     ]
    },
    {
     "data": {
      "text/plain": [
       "26.75"
      ]
     },
     "execution_count": 8,
     "metadata": {},
     "output_type": "execute_result"
    }
   ],
   "source": [
    "# scrivi qui\n",
    "\n",
    "def media(lista):\n",
    "    \n",
    "    if len(lista) == 0:\n",
    "        return 0\n",
    "    else:\n",
    "        totale = 0\n",
    "        for elemento in lista:\n",
    "            totale = totale + elemento\n",
    "\n",
    "        return(totale / len(lista))\n",
    "\n",
    "x = media([])\n",
    "print(x)\n",
    "media([30,28,20,29])"
   ]
  },
  {
   "cell_type": "raw",
   "id": "06165a0e",
   "metadata": {
    "format": "text/html"
   },
   "source": [
    "</div>"
   ]
  },
  {
   "cell_type": "code",
   "execution_count": 8,
   "metadata": {},
   "outputs": [
    {
     "name": "stdout",
     "output_type": "stream",
     "text": [
      "0\n"
     ]
    },
    {
     "data": {
      "text/plain": [
       "26.75"
      ]
     },
     "execution_count": 8,
     "metadata": {},
     "output_type": "execute_result"
    }
   ],
   "source": [
    "# scrivi qui\n",
    "\n"
   ]
  },
  {
   "cell_type": "markdown",
   "metadata": {},
   "source": [
    "## Verifica comprensione\n",
    "\n",
    "<div class=\"alert alert-warning\">\n",
    "\n",
    "**ATTENZIONE**\n",
    "\n",
    "Gli esercizi che segueno contengono dei test con gli _assert_. Per capire come svolgerli, leggi prima [Gestione errori e testing](https://it.softpython.org/errors-and-testing/errors-and-testing-sol.html) \n",
    "\n",
    "</div>\n"
   ]
  },
  {
   "cell_type": "markdown",
   "metadata": {},
   "source": [
    "### contiene\n",
    "\n",
    "✪ RITORNA `True` se `elem` è presente in lista, altrimenti RITORNA `False`"
   ]
  },
  {
   "cell_type": "raw",
   "id": "869d1a01",
   "metadata": {
    "format": "text/html"
   },
   "source": [
    "<a  class=\"jupman-sol jupman-sol-toggler\" \n",
    " onclick=\"jupman.toggleSolution(this);\" \n",
    " data-jupman-show=\"Mostra soluzione\" data-jupman-hide=\"Nascondi\">Mostra soluzione</a><div class=\"jupman-sol jupman-sol-code\" style=\"display:none\">  "
   ]
  },
  {
   "cell_type": "code",
   "execution_count": 9,
   "metadata": {},
   "outputs": [],
   "source": [
    "def contiene(lista, elem):  \n",
    "    \n",
    "    return elem in lista\n",
    "    \n",
    "\n",
    "\n",
    "# INIZIO TEST - NON TOCCARE !      \n",
    "# se hai scritto tutto il codice giusto, ed esegui la cella, python non dovrebbe lanciare AssertionError\n",
    "\n",
    "assert contiene([],'a') == False\n",
    "assert contiene(['a'],'a') == True\n",
    "assert contiene(['a','b','c'],'b') == True\n",
    "assert contiene(['a','b','c'],'z') == False\n",
    "# FINE TEST"
   ]
  },
  {
   "cell_type": "raw",
   "id": "5567de00",
   "metadata": {
    "format": "text/html"
   },
   "source": [
    "</div>"
   ]
  },
  {
   "cell_type": "code",
   "execution_count": 9,
   "metadata": {},
   "outputs": [],
   "source": [
    "def contiene(lista, elem):  \n",
    "    raise Exception('TODO IMPLEMENT ME !')\n",
    "\n",
    "\n",
    "# INIZIO TEST - NON TOCCARE !      \n",
    "# se hai scritto tutto il codice giusto, ed esegui la cella, python non dovrebbe lanciare AssertionError\n",
    "\n",
    "assert contiene([],'a') == False\n",
    "assert contiene(['a'],'a') == True\n",
    "assert contiene(['a','b','c'],'b') == True\n",
    "assert contiene(['a','b','c'],'z') == False\n",
    "# FINE TEST"
   ]
  },
  {
   "cell_type": "markdown",
   "metadata": {},
   "source": [
    "### primi\n",
    "\n",
    "✪ RITORNA una lista con i primi numeri da `0` incluso a `n` escluso. \n",
    "\n",
    "- Per esempio, `primi(3)` deve ritornare `[0,1,2]`\n",
    "\n",
    "- Se `n` < 0, ritorna la lista vuota \n",
    "\n",
    "Ingredienti:\n",
    "\n",
    "- variabile lista da ritornare\n",
    "- variabile contatore\n",
    "- ciclo `while` (volendo ci sono anche altri modi)\n",
    "- `return`\n"
   ]
  },
  {
   "cell_type": "raw",
   "id": "1ed42d76",
   "metadata": {
    "format": "text/html"
   },
   "source": [
    "<a  class=\"jupman-sol jupman-sol-toggler\" \n",
    " onclick=\"jupman.toggleSolution(this);\" \n",
    " data-jupman-show=\"Mostra soluzione\" data-jupman-hide=\"Nascondi\">Mostra soluzione</a><div class=\"jupman-sol jupman-sol-code\" style=\"display:none\">  "
   ]
  },
  {
   "cell_type": "code",
   "execution_count": 10,
   "metadata": {},
   "outputs": [],
   "source": [
    "\n",
    "def primi(n):\n",
    "    \n",
    "    lista = []\n",
    "    contatore = 0\n",
    "    while contatore < n:\n",
    "        lista.append(contatore)        \n",
    "        contatore += 1      \n",
    "    return lista\n",
    "    \n",
    "\n",
    "\n",
    "\n",
    "# INIZIO TEST - NON TOCCARE !      \n",
    "# se hai scritto tutto il codice giusto, ed esegui la cella, python non dovrebbe lanciare AssertionError\n",
    "\n",
    "assert primi(-1) == []\n",
    "assert primi(-2) == []\n",
    "assert primi(0) == []\n",
    "assert primi(1) == [0]\n",
    "assert primi(2) == [0,1]\n",
    "assert primi(3) == [0,1,2]\n",
    "# FINE TEST"
   ]
  },
  {
   "cell_type": "raw",
   "id": "d0526d7a",
   "metadata": {
    "format": "text/html"
   },
   "source": [
    "</div>"
   ]
  },
  {
   "cell_type": "code",
   "execution_count": 10,
   "metadata": {},
   "outputs": [],
   "source": [
    "\n",
    "def primi(n):\n",
    "    raise Exception('TODO IMPLEMENT ME !')\n",
    "\n",
    "\n",
    "\n",
    "# INIZIO TEST - NON TOCCARE !      \n",
    "# se hai scritto tutto il codice giusto, ed esegui la cella, python non dovrebbe lanciare AssertionError\n",
    "\n",
    "assert primi(-1) == []\n",
    "assert primi(-2) == []\n",
    "assert primi(0) == []\n",
    "assert primi(1) == [0]\n",
    "assert primi(2) == [0,1]\n",
    "assert primi(3) == [0,1,2]\n",
    "# FINE TEST"
   ]
  },
  {
   "cell_type": "markdown",
   "metadata": {},
   "source": [
    "### primul\n",
    "\n",
    "✪ RITORNA `True` se il primo elemento di lista è uguale all'ultimo, altrimenti RITORNA `False`\n",
    "\n",
    "NOTA: Si può assumere che lista contenga sempre almeno un elemento.\n"
   ]
  },
  {
   "cell_type": "raw",
   "id": "44fe06fe",
   "metadata": {
    "format": "text/html"
   },
   "source": [
    "<a  class=\"jupman-sol jupman-sol-toggler\" \n",
    " onclick=\"jupman.toggleSolution(this);\" \n",
    " data-jupman-show=\"Mostra soluzione\" data-jupman-hide=\"Nascondi\">Mostra soluzione</a><div class=\"jupman-sol jupman-sol-code\" style=\"display:none\">  "
   ]
  },
  {
   "cell_type": "code",
   "execution_count": 11,
   "metadata": {},
   "outputs": [],
   "source": [
    "\n",
    "def primul(lista):\n",
    "    \n",
    "    return lista[0] == lista[-1]\n",
    "\n",
    "    # nota: la comparazione   lista[0] == lista[-1]   è una ESPRESSIONE che genera un booleano, \n",
    "    #       in questo caso True se il primo carattere è uguale all'ultimo e False altrimenti, \n",
    "    #       quindi possiamo ritornare direttamente il risultato dell'espressione\n",
    "    \n",
    "    \n",
    "\n",
    "\n",
    "# INIZIO TEST - NON TOCCARE ! \n",
    "# se hai scritto tutto il codice giusto, ed esegui la cella, python non dovrebbe lanciare AssertionError\n",
    "\n",
    "assert primul(['a']) == True\n",
    "assert primul(['a','a']) == True\n",
    "assert primul(['a','b']) == False\n",
    "assert primul(['a','b','a']) == True\n",
    "assert primul(['a','b','c','a']) == True\n",
    "assert primul(['a','b','c','d']) == False\n",
    "# FINE TEST\n"
   ]
  },
  {
   "cell_type": "raw",
   "id": "6ba5c46f",
   "metadata": {
    "format": "text/html"
   },
   "source": [
    "</div>"
   ]
  },
  {
   "cell_type": "code",
   "execution_count": 11,
   "metadata": {},
   "outputs": [],
   "source": [
    "\n",
    "def primul(lista):\n",
    "    raise Exception('TODO IMPLEMENT ME !')\n",
    "    \n",
    "\n",
    "\n",
    "# INIZIO TEST - NON TOCCARE ! \n",
    "# se hai scritto tutto il codice giusto, ed esegui la cella, python non dovrebbe lanciare AssertionError\n",
    "\n",
    "assert primul(['a']) == True\n",
    "assert primul(['a','a']) == True\n",
    "assert primul(['a','b']) == False\n",
    "assert primul(['a','b','a']) == True\n",
    "assert primul(['a','b','c','a']) == True\n",
    "assert primul(['a','b','c','d']) == False\n",
    "# FINE TEST\n"
   ]
  },
  {
   "cell_type": "markdown",
   "metadata": {},
   "source": [
    "### duplica\n",
    "\n",
    "✪ RITORNA una NUOVA lista, in cui ciascun elemento della lista in ingresso è duplicato. Per esempio, \n",
    "\n",
    "```python\n",
    "duplica(['ciao','mondo','python'])\n",
    "```\n",
    "\n",
    "deve ritornare\n",
    "\n",
    "```python\n",
    "['ciao','ciao','mondo','mondo','python','python']\n",
    "```\n",
    "\n",
    "Ingredienti:\n",
    "- variabile per nuova lista\n",
    "- ciclo for\n",
    "- return"
   ]
  },
  {
   "cell_type": "raw",
   "id": "9691bf45",
   "metadata": {
    "format": "text/html"
   },
   "source": [
    "<a  class=\"jupman-sol jupman-sol-toggler\" \n",
    " onclick=\"jupman.toggleSolution(this);\" \n",
    " data-jupman-show=\"Mostra soluzione\" data-jupman-hide=\"Nascondi\">Mostra soluzione</a><div class=\"jupman-sol jupman-sol-code\" style=\"display:none\">  "
   ]
  },
  {
   "cell_type": "code",
   "execution_count": 12,
   "metadata": {},
   "outputs": [],
   "source": [
    "def duplica(lista):\n",
    "    \n",
    "    \n",
    "    ret = []\n",
    "    for elemento in lista:\n",
    "        ret.append(elemento)\n",
    "        ret.append(elemento)\n",
    "    return ret\n",
    "\n",
    "    \n",
    "        \n",
    "\n",
    "# INIZIO TEST - NON TOCCARE !      \n",
    "# se hai scritto tutto il codice giusto, ed esegui la cella, python non dovrebbe lanciare AssertionError\n",
    "\n",
    "assert duplica([]) ==  []\n",
    "assert duplica(['a']) == ['a','a']\n",
    "assert duplica(['a','b']) == ['a','a','b','b']\n",
    "assert duplica(['a','b','c']) == ['a','a','b','b','c','c']\n",
    "assert duplica(['a','a']) == ['a','a','a','a']\n",
    "assert duplica(['a','a','b','b']) == ['a','a','a','a','b','b','b','b']\n",
    "# FINE TEST\n"
   ]
  },
  {
   "cell_type": "raw",
   "id": "5f775308",
   "metadata": {
    "format": "text/html"
   },
   "source": [
    "</div>"
   ]
  },
  {
   "cell_type": "code",
   "execution_count": 12,
   "metadata": {},
   "outputs": [],
   "source": [
    "def duplica(lista):\n",
    "    raise Exception('TODO IMPLEMENT ME !')\n",
    "        \n",
    "\n",
    "# INIZIO TEST - NON TOCCARE !      \n",
    "# se hai scritto tutto il codice giusto, ed esegui la cella, python non dovrebbe lanciare AssertionError\n",
    "\n",
    "assert duplica([]) ==  []\n",
    "assert duplica(['a']) == ['a','a']\n",
    "assert duplica(['a','b']) == ['a','a','b','b']\n",
    "assert duplica(['a','b','c']) == ['a','a','b','b','c','c']\n",
    "assert duplica(['a','a']) == ['a','a','a','a']\n",
    "assert duplica(['a','a','b','b']) == ['a','a','a','a','b','b','b','b']\n",
    "# FINE TEST\n"
   ]
  },
  {
   "cell_type": "markdown",
   "metadata": {},
   "source": [
    "### hadup\n",
    "\n",
    "✪✪ RESTITUISCE `True` se `lista` contiene l'elemento `el` più di una volta, altrimenti RESTITUISCE `False`."
   ]
  },
  {
   "cell_type": "raw",
   "id": "52e24f4e",
   "metadata": {
    "format": "text/html"
   },
   "source": [
    "<a  class=\"jupman-sol jupman-sol-toggler\" \n",
    " onclick=\"jupman.toggleSolution(this);\" \n",
    " data-jupman-show=\"Mostra soluzione\" data-jupman-hide=\"Nascondi\">Mostra soluzione</a><div class=\"jupman-sol jupman-sol-code\" style=\"display:none\">  "
   ]
  },
  {
   "cell_type": "code",
   "execution_count": 13,
   "metadata": {},
   "outputs": [],
   "source": [
    "def hadup(el, lista):\n",
    "    \n",
    "\n",
    "    contatore = 0\n",
    "    \n",
    "    for x in lista:\n",
    "        if x == el:\n",
    "            contatore += 1\n",
    "            if contatore > 1:\n",
    "                return True\n",
    "    return False\n",
    "    \n",
    "\n",
    "# INIZIO TEST - NON TOCCARE !      \n",
    "# se hai scritto tutto il codice giusto, ed esegui la cella, python non dovrebbe lanciare AssertionError\n",
    "\n",
    "assert hadup(\"a\", []) == False\n",
    "assert hadup(\"a\", [\"a\"]) == False\n",
    "assert hadup(\"a\", [\"a\", \"a\"]) == True\n",
    "assert hadup(\"a\", [\"a\", \"a\", \"a\"]) == True\n",
    "assert hadup(\"a\", [\"b\", \"a\", \"a\"]) == True\n",
    "assert hadup(\"a\", [\"b\", \"a\", \"a\", \"a\"]) == True\n",
    "assert hadup(\"b\", [\"b\", \"a\", \"a\", \"a\"]) == False\n",
    "assert hadup(\"b\", [\"b\", \"a\", \"b\", \"a\"]) == True\n",
    "# FINE TEST"
   ]
  },
  {
   "cell_type": "raw",
   "id": "614b3741",
   "metadata": {
    "format": "text/html"
   },
   "source": [
    "</div>"
   ]
  },
  {
   "cell_type": "code",
   "execution_count": 13,
   "metadata": {},
   "outputs": [],
   "source": [
    "def hadup(el, lista):\n",
    "    raise Exception('TODO IMPLEMENT ME !')\n",
    "\n",
    "# INIZIO TEST - NON TOCCARE !      \n",
    "# se hai scritto tutto il codice giusto, ed esegui la cella, python non dovrebbe lanciare AssertionError\n",
    "\n",
    "assert hadup(\"a\", []) == False\n",
    "assert hadup(\"a\", [\"a\"]) == False\n",
    "assert hadup(\"a\", [\"a\", \"a\"]) == True\n",
    "assert hadup(\"a\", [\"a\", \"a\", \"a\"]) == True\n",
    "assert hadup(\"a\", [\"b\", \"a\", \"a\"]) == True\n",
    "assert hadup(\"a\", [\"b\", \"a\", \"a\", \"a\"]) == True\n",
    "assert hadup(\"b\", [\"b\", \"a\", \"a\", \"a\"]) == False\n",
    "assert hadup(\"b\", [\"b\", \"a\", \"b\", \"a\"]) == True\n",
    "# FINE TEST"
   ]
  },
  {
   "cell_type": "markdown",
   "metadata": {},
   "source": [
    "### ord3\n",
    "\n",
    "✪✪ RITORNA `True` se la lista fornita ha i primi tre elementi ordinati in modo crescente, `False` altrimenti\n",
    "\n",
    "- se `lista` ha meno di 3 elementi, ritorna `False`\n"
   ]
  },
  {
   "cell_type": "raw",
   "id": "224fde80",
   "metadata": {
    "format": "text/html"
   },
   "source": [
    "<a  class=\"jupman-sol jupman-sol-toggler\" \n",
    " onclick=\"jupman.toggleSolution(this);\" \n",
    " data-jupman-show=\"Mostra soluzione\" data-jupman-hide=\"Nascondi\">Mostra soluzione</a><div class=\"jupman-sol jupman-sol-code\" style=\"display:none\">  "
   ]
  },
  {
   "cell_type": "code",
   "execution_count": 14,
   "metadata": {},
   "outputs": [],
   "source": [
    "def ord3(lista):\n",
    "    \n",
    "    if len(lista) >= 3:\n",
    "        return lista[0] <= lista[1] and lista[1] <= lista[2]\n",
    "    else:\n",
    "        return False\n",
    "    \n",
    "\n",
    "# INIZIO TEST - NON TOCCARE !      \n",
    "# se hai scritto tutto il codice giusto, ed esegui la cella, python non dovrebbe lanciare AssertionError\n",
    "    \n",
    "assert ord3([5]) == False\n",
    "assert ord3([4,7]) == False\n",
    "assert ord3([4,6,9]) == True       \n",
    "assert ord3([4,9,7]) == False\n",
    "assert ord3([9,5,7]) == False\n",
    "assert ord3([4,8,9,1,5]) == True   # primi 3 elementi crescenti\n",
    "assert ord3([9,4,8,10,13]) == False  # primi 3 elementi NON crescenti"
   ]
  },
  {
   "cell_type": "raw",
   "id": "a2656f37",
   "metadata": {
    "format": "text/html"
   },
   "source": [
    "</div>"
   ]
  },
  {
   "cell_type": "code",
   "execution_count": 14,
   "metadata": {},
   "outputs": [],
   "source": [
    "def ord3(lista):\n",
    "    raise Exception('TODO IMPLEMENT ME !')\n",
    "\n",
    "# INIZIO TEST - NON TOCCARE !      \n",
    "# se hai scritto tutto il codice giusto, ed esegui la cella, python non dovrebbe lanciare AssertionError\n",
    "    \n",
    "assert ord3([5]) == False\n",
    "assert ord3([4,7]) == False\n",
    "assert ord3([4,6,9]) == True       \n",
    "assert ord3([4,9,7]) == False\n",
    "assert ord3([9,5,7]) == False\n",
    "assert ord3([4,8,9,1,5]) == True   # primi 3 elementi crescenti\n",
    "assert ord3([9,4,8,10,13]) == False  # primi 3 elementi NON crescenti"
   ]
  },
  {
   "cell_type": "markdown",
   "metadata": {},
   "source": [
    "### filtrab\n",
    "\n",
    "✪✪ Prende in input una lista di caratteri, e RITORNA una NUOVA lista\n",
    "contenente solo i caratteri `'a'` e `'b'` trovati scorrendo la lista originale \n",
    "\n",
    "Esempio:\n",
    "\n",
    "```python\n",
    "filtrab(['c','a','c','d','b','a','c','a','b','e'])\n",
    "```\n",
    "\n",
    "deve ritornare\n",
    "\n",
    "```python\n",
    "['a','b','a','a','b']\n",
    "```\n"
   ]
  },
  {
   "cell_type": "raw",
   "id": "22b1e177",
   "metadata": {
    "format": "text/html"
   },
   "source": [
    "<a  class=\"jupman-sol jupman-sol-toggler\" \n",
    " onclick=\"jupman.toggleSolution(this);\" \n",
    " data-jupman-show=\"Mostra soluzione\" data-jupman-hide=\"Nascondi\">Mostra soluzione</a><div class=\"jupman-sol jupman-sol-code\" style=\"display:none\">  "
   ]
  },
  {
   "cell_type": "code",
   "execution_count": 15,
   "metadata": {},
   "outputs": [],
   "source": [
    "def filtrab(lista):\n",
    "    \n",
    "    ret = []\n",
    "    for el in lista: \n",
    "        if el == 'a' or el == 'b':\n",
    "            ret.append(el)\n",
    "    return ret\n",
    "    \n",
    "\n",
    "\n",
    "# INIZIO TEST - NON TOCCARE !      \n",
    "# se hai scritto tutto il codice giusto, ed esegui la cella, python non dovrebbe lanciare AssertionError\n",
    "\n",
    "assert filtrab([]) == []\n",
    "assert filtrab(['a']) == ['a']\n",
    "assert filtrab(['b']) == ['b']\n",
    "assert filtrab(['a','b']) == ['a','b']\n",
    "assert filtrab(['a','b','c']) == ['a','b']\n",
    "assert filtrab(['a','c','b']) == ['a','b']\n",
    "assert filtrab(['c','a','b']) == ['a','b']\n",
    "assert filtrab(['c','a','c','d','b','a','c','a','b','e']) == ['a','b','a','a','b']\n",
    "\n",
    "l = ['a','c','b']\n",
    "assert filtrab(l) == ['a','b'] # verifica che sia ritornata una NUOVA lista\n",
    "assert l == ['a','c','b']      # verifica che la lista originale non sia stata modificata\n",
    "\n",
    "# FINE TEST"
   ]
  },
  {
   "cell_type": "raw",
   "id": "963eb017",
   "metadata": {
    "format": "text/html"
   },
   "source": [
    "</div>"
   ]
  },
  {
   "cell_type": "code",
   "execution_count": 15,
   "metadata": {},
   "outputs": [],
   "source": [
    "def filtrab(lista):\n",
    "    raise Exception('TODO IMPLEMENT ME !')\n",
    "\n",
    "\n",
    "# INIZIO TEST - NON TOCCARE !      \n",
    "# se hai scritto tutto il codice giusto, ed esegui la cella, python non dovrebbe lanciare AssertionError\n",
    "\n",
    "assert filtrab([]) == []\n",
    "assert filtrab(['a']) == ['a']\n",
    "assert filtrab(['b']) == ['b']\n",
    "assert filtrab(['a','b']) == ['a','b']\n",
    "assert filtrab(['a','b','c']) == ['a','b']\n",
    "assert filtrab(['a','c','b']) == ['a','b']\n",
    "assert filtrab(['c','a','b']) == ['a','b']\n",
    "assert filtrab(['c','a','c','d','b','a','c','a','b','e']) == ['a','b','a','a','b']\n",
    "\n",
    "l = ['a','c','b']\n",
    "assert filtrab(l) == ['a','b'] # verifica che sia ritornata una NUOVA lista\n",
    "assert l == ['a','c','b']      # verifica che la lista originale non sia stata modificata\n",
    "\n",
    "# FINE TEST"
   ]
  },
  {
   "cell_type": "markdown",
   "metadata": {},
   "source": [
    "### collina\n",
    "\n",
    "✪✪ RITORNA una lista in cui all'inizio sono presenti i primi numeri da uno a `n` in crescendo, e dopo `n` decrescono fino a `1`. NOTA: `n` è contenuto una sola volta.\n",
    "\n",
    "Per esempio, \n",
    "\n",
    "```python\n",
    "collina(4)\n",
    "```\n",
    "\n",
    "deve ritornare\n",
    "\n",
    "```python\n",
    "[1,2,3,4,3,2,1]\n",
    "```\n",
    "\n",
    "\n",
    "Ingredienti:\n",
    "- variabile per la lista da ritornare\n",
    "- due cicli for di seguito e funzioni range oppure due while di seguito "
   ]
  },
  {
   "cell_type": "raw",
   "id": "6a779799",
   "metadata": {
    "format": "text/html"
   },
   "source": [
    "<a  class=\"jupman-sol jupman-sol-toggler\" \n",
    " onclick=\"jupman.toggleSolution(this);\" \n",
    " data-jupman-show=\"Mostra soluzione\" data-jupman-hide=\"Nascondi\">Mostra soluzione</a><div class=\"jupman-sol jupman-sol-code\" style=\"display:none\">  "
   ]
  },
  {
   "cell_type": "code",
   "execution_count": 16,
   "metadata": {},
   "outputs": [],
   "source": [
    "def collina(n):   \n",
    "    \n",
    "    \n",
    "    ret = []\n",
    "    for i in range(1,n):\n",
    "        ret.append(i)\n",
    "    for i in range(n,0,-1):\n",
    "        ret.append(i)\n",
    "    return ret\n",
    "    \n",
    "\n",
    "# INIZIO TEST - NON TOCCARE !      \n",
    "# se hai scritto tutto il codice giusto, ed esegui la cella, python non dovrebbe lanciare AssertionError\n",
    "\n",
    "assert collina(0) == []\n",
    "assert collina(1) == [1]\n",
    "assert collina(2) == [1,2,1]\n",
    "assert collina(3) == [1,2,3,2,1]\n",
    "assert collina(4) == [1,2,3,4,3,2,1]\n",
    "assert collina(5) == [1,2,3,4,5,4,3,2,1]\n",
    "# FINE TEST\n"
   ]
  },
  {
   "cell_type": "raw",
   "id": "3fbdebae",
   "metadata": {
    "format": "text/html"
   },
   "source": [
    "</div>"
   ]
  },
  {
   "cell_type": "code",
   "execution_count": 16,
   "metadata": {},
   "outputs": [],
   "source": [
    "def collina(n):   \n",
    "    \n",
    "    raise Exception('TODO IMPLEMENT ME !')\n",
    "\n",
    "# INIZIO TEST - NON TOCCARE !      \n",
    "# se hai scritto tutto il codice giusto, ed esegui la cella, python non dovrebbe lanciare AssertionError\n",
    "\n",
    "assert collina(0) == []\n",
    "assert collina(1) == [1]\n",
    "assert collina(2) == [1,2,1]\n",
    "assert collina(3) == [1,2,3,2,1]\n",
    "assert collina(4) == [1,2,3,4,3,2,1]\n",
    "assert collina(5) == [1,2,3,4,5,4,3,2,1]\n",
    "# FINE TEST\n"
   ]
  },
  {
   "cell_type": "markdown",
   "metadata": {},
   "source": [
    "### vetta \n",
    "\n",
    "✪✪ Supponiamo che in una lista vengano salvate le altitudini  di una strada di montagna prendendo una misura ogni 3 km (assumiamo che la strada sia costantemente in salita). Ad un certo punto, si arriverà alla vetta della montagna dove si misurerà l’altezza sul livello del mare. Chiaramente, esiste anche una strada per scendere (costantemente in discesa) e anche qui verrà misurata l’altitudine ogni 3 km. \n",
    "\n",
    "Un esempio di misurazione è `[100, 400, 800, 1220, 1600, 1400, 1000, 300, 40]`\n",
    "\n",
    "* Scrivere una funzione che RITORNI il _valore_ della lista che corrisponde alla misurazione presa in vetta \n",
    "\n",
    "* se la lista contiene meno di tre elementi, lanciare eccezione `ValueError`\n",
    "\n",
    "```\n",
    ">>> vetta([100,400, 800, 1220, 1600, 1400, 1000, 300, 40])\n",
    "1600\n",
    "```"
   ]
  },
  {
   "cell_type": "raw",
   "id": "d3996f36",
   "metadata": {
    "format": "text/html"
   },
   "source": [
    "<a  class=\"jupman-sol jupman-sol-toggler\" \n",
    " onclick=\"jupman.toggleSolution(this);\" \n",
    " data-jupman-show=\"Mostra soluzione\" data-jupman-hide=\"Nascondi\">Mostra soluzione</a><div class=\"jupman-sol jupman-sol-code\" style=\"display:none\">  "
   ]
  },
  {
   "cell_type": "code",
   "execution_count": 17,
   "metadata": {},
   "outputs": [],
   "source": [
    "\n",
    "def vetta(lista):\n",
    "    \n",
    "    if len(lista) < 3:\n",
    "        raise ValueError(\"Lista vuota !\")\n",
    "    if len(lista) == 1:\n",
    "        return lista[0]\n",
    "        \n",
    "    for i in range(len(lista)):\n",
    "        if lista[i] > lista[i+1]:\n",
    "            return lista[i]\n",
    "    \n",
    "    return lista[-i]  # strada senza discesa\n",
    "                \n",
    "    \n",
    "\n",
    "\n",
    "\n",
    "# INIZIO TEST - NON TOCCARE !\n",
    "# se hai scritto tutto il codice giusto, ed esegui la cella, python non dovrebbe lanciare AssertionError\n",
    "\n",
    "try:\n",
    "    vetta([])         # con questa lista anomala ci attendiamo che sollevi l'eccezione ValueError\n",
    "    raise Exception(\"Non sarei dovuto arrivare fin qua !\") \n",
    "except ValueError:    # se solleva l'eccezione,si sta comportando come previsto e non facciamo niente\n",
    "    pass\n",
    "assert vetta([5,40,7]) == 40\n",
    "assert vetta([5,30,4]) == 30\n",
    "assert vetta([5,70,70, 4]) == 70\n",
    "assert vetta([5,10,80,25,2]) == 80\n",
    "assert vetta([100,400, 800, 1220, 1600, 1400, 1000, 300, 40]) == 1600"
   ]
  },
  {
   "cell_type": "raw",
   "id": "22966f24",
   "metadata": {
    "format": "text/html"
   },
   "source": [
    "</div>"
   ]
  },
  {
   "cell_type": "code",
   "execution_count": 17,
   "metadata": {},
   "outputs": [],
   "source": [
    "\n",
    "def vetta(lista):\n",
    "    raise Exception('TODO IMPLEMENT ME !')\n",
    "\n",
    "\n",
    "\n",
    "# INIZIO TEST - NON TOCCARE !\n",
    "# se hai scritto tutto il codice giusto, ed esegui la cella, python non dovrebbe lanciare AssertionError\n",
    "\n",
    "try:\n",
    "    vetta([])         # con questa lista anomala ci attendiamo che sollevi l'eccezione ValueError\n",
    "    raise Exception(\"Non sarei dovuto arrivare fin qua !\") \n",
    "except ValueError:    # se solleva l'eccezione,si sta comportando come previsto e non facciamo niente\n",
    "    pass\n",
    "assert vetta([5,40,7]) == 40\n",
    "assert vetta([5,30,4]) == 30\n",
    "assert vetta([5,70,70, 4]) == 70\n",
    "assert vetta([5,10,80,25,2]) == 80\n",
    "assert vetta([100,400, 800, 1220, 1600, 1400, 1000, 300, 40]) == 1600"
   ]
  },
  {
   "cell_type": "markdown",
   "metadata": {},
   "source": [
    "### pari\n",
    "\n",
    "✪✪ RITORNA una lista contenente gli elementi dalla lista di input alle posizioni pari,  cominciando dalla zero che è considerato pari\n",
    "\n",
    "- si può assumere che la lista di input contenga sempre un numero pari di \n",
    "  elementi\n",
    "- Suggerimento: ricordati che range può prendere tre parametri."
   ]
  },
  {
   "cell_type": "raw",
   "id": "d6353727",
   "metadata": {
    "format": "text/html"
   },
   "source": [
    "<a  class=\"jupman-sol jupman-sol-toggler\" \n",
    " onclick=\"jupman.toggleSolution(this);\" \n",
    " data-jupman-show=\"Mostra soluzione\" data-jupman-hide=\"Nascondi\">Mostra soluzione</a><div class=\"jupman-sol jupman-sol-code\" style=\"display:none\">  "
   ]
  },
  {
   "cell_type": "code",
   "execution_count": 18,
   "metadata": {},
   "outputs": [],
   "source": [
    "def pari(lista):\n",
    "    \n",
    "    ret = []\n",
    "    for i in range(0,len(lista),2):\n",
    "        ret.append(lista[i])\n",
    "    return ret\n",
    "    \n",
    "    \n",
    "\n",
    "\n",
    "# INIZIO TEST - NON TOCCARE !   \n",
    "# se hai scritto tutto il codice giusto, ed esegui la cella, python non dovrebbe lanciare AssertionError\n",
    "assert pari([]) == []\n",
    "assert pari(['a','b']) == ['a']\n",
    "assert pari(['a','b','c','d']) == ['a', 'c']\n",
    "assert pari(['a','b','a','c']) == ['a', 'a']\n",
    "assert pari(['a','b','c','d','e','f']) == ['a', 'c','e']\n",
    "# FINE TEST\n",
    "    "
   ]
  },
  {
   "cell_type": "raw",
   "id": "02ace947",
   "metadata": {
    "format": "text/html"
   },
   "source": [
    "</div>"
   ]
  },
  {
   "cell_type": "code",
   "execution_count": 18,
   "metadata": {},
   "outputs": [],
   "source": [
    "def pari(lista):\n",
    "    raise Exception('TODO IMPLEMENT ME !')\n",
    "    \n",
    "\n",
    "\n",
    "# INIZIO TEST - NON TOCCARE !   \n",
    "# se hai scritto tutto il codice giusto, ed esegui la cella, python non dovrebbe lanciare AssertionError\n",
    "assert pari([]) == []\n",
    "assert pari(['a','b']) == ['a']\n",
    "assert pari(['a','b','c','d']) == ['a', 'c']\n",
    "assert pari(['a','b','a','c']) == ['a', 'a']\n",
    "assert pari(['a','b','c','d','e','f']) == ['a', 'c','e']\n",
    "# FINE TEST\n",
    "    "
   ]
  },
  {
   "cell_type": "markdown",
   "metadata": {},
   "source": [
    "### mix\n",
    "\n",
    "✪✪ RITORNA una nuova lista in cui gli elementi sono presi alternativamente da \n",
    "lista1 e da lista2. \n",
    "- si può assumere che `lista1` e `lista2` contengano lo stesso numero di elementi\n",
    "\n",
    "Esempio:\n",
    "\n",
    "```python\n",
    "    mix(['a', 'b','c'], ['x', 'y','z']) \n",
    "```\n",
    "\n",
    "deve dare \n",
    "```python\n",
    "    ['a', 'x', 'b','y', 'c','z']\n",
    "```"
   ]
  },
  {
   "cell_type": "raw",
   "id": "dae9d4b7",
   "metadata": {
    "format": "text/html"
   },
   "source": [
    "<a  class=\"jupman-sol jupman-sol-toggler\" \n",
    " onclick=\"jupman.toggleSolution(this);\" \n",
    " data-jupman-show=\"Mostra soluzione\" data-jupman-hide=\"Nascondi\">Mostra soluzione</a><div class=\"jupman-sol jupman-sol-code\" style=\"display:none\">  "
   ]
  },
  {
   "cell_type": "code",
   "execution_count": 19,
   "metadata": {},
   "outputs": [],
   "source": [
    "\n",
    "def mix(lista1, lista2):\n",
    "    \n",
    "    ret = []\n",
    "    for i in range(len(lista1)):\n",
    "        ret.append(lista1[i])\n",
    "        ret.append(lista2[i])\n",
    "    return ret\n",
    "    \n",
    "\n",
    "\n",
    "# INIZIO TEST - NON TOCCARE !      \n",
    "# se hai scritto tutto il codice giusto, ed esegui la cella, python non dovrebbe lanciare AssertionError\n",
    "assert mix([], []) == []\n",
    "assert mix(['a'], ['x']) == ['a', 'x']\n",
    "assert mix(['a'], ['a']) == ['a', 'a']\n",
    "assert mix(['a', 'b'], ['x', 'y']) == ['a', 'x', 'b','y']\n",
    "assert mix(['a', 'b','c'], ['x', 'y','z']) == ['a', 'x', 'b','y', 'c','z']\n",
    "# FINE TEST\n"
   ]
  },
  {
   "cell_type": "raw",
   "id": "e0ea4a59",
   "metadata": {
    "format": "text/html"
   },
   "source": [
    "</div>"
   ]
  },
  {
   "cell_type": "code",
   "execution_count": 19,
   "metadata": {},
   "outputs": [],
   "source": [
    "\n",
    "def mix(lista1, lista2):\n",
    "    raise Exception('TODO IMPLEMENT ME !')\n",
    "\n",
    "\n",
    "# INIZIO TEST - NON TOCCARE !      \n",
    "# se hai scritto tutto il codice giusto, ed esegui la cella, python non dovrebbe lanciare AssertionError\n",
    "assert mix([], []) == []\n",
    "assert mix(['a'], ['x']) == ['a', 'x']\n",
    "assert mix(['a'], ['a']) == ['a', 'a']\n",
    "assert mix(['a', 'b'], ['x', 'y']) == ['a', 'x', 'b','y']\n",
    "assert mix(['a', 'b','c'], ['x', 'y','z']) == ['a', 'x', 'b','y', 'c','z']\n",
    "# FINE TEST\n"
   ]
  },
  {
   "cell_type": "markdown",
   "metadata": {},
   "source": [
    "### nostop\n",
    "\n",
    "✪✪ Quando si analizza una frase, può essere utile processarla per rimuovere parole molto comuni, come per \n",
    "esempio gli articoli e le preposizioni: `\"un libro su Python\"` si può semplificare in `\"libro Python\"`\n",
    "\n",
    "Le parole 'poco utili' vengono chiamate _stopwords_. Questo processo è per esempio eseguito dai motori di ricerca per ridurre la complessità della stringa di input fornita dall'utente.\n",
    "\n",
    "\n",
    "Implementa una funzione che prende una stringa e RITORNA la stringa di input senza le stopwords\n",
    "\n",
    "**SUGGERIMENTO 1**: le stringhe in Python sono *immutabili* ! Per rimuovere le parole devi creare una \n",
    "_nuova_ stringa a partire dalla stringa di partenza. \n",
    " \n",
    "**SUGGERIMENTO 2**: crea una lista di parole così:\n",
    "\n",
    "```python\n",
    "lista = stringa.split()\n",
    "```\n",
    "\n",
    "**SUGGERIMENTO 3**: opera le opportune trasformazioni su lista, e poi costruisci la stringa da restituire con  `\" \".join(lista)`\n"
   ]
  },
  {
   "cell_type": "raw",
   "id": "965a0dff",
   "metadata": {
    "format": "text/html"
   },
   "source": [
    "<a  class=\"jupman-sol jupman-sol-toggler\" \n",
    " onclick=\"jupman.toggleSolution(this);\" \n",
    " data-jupman-show=\"Mostra soluzione\" data-jupman-hide=\"Nascondi\">Mostra soluzione</a><div class=\"jupman-sol jupman-sol-code\" style=\"display:none\">  "
   ]
  },
  {
   "cell_type": "code",
   "execution_count": 20,
   "metadata": {},
   "outputs": [],
   "source": [
    "\n",
    "def nostop(stringa, stopwords):\n",
    "    \n",
    "    insieme = set(stopwords)   # la ricerca nell'insieme sarà più efficiente\n",
    "    lista = stringa.split()\n",
    "    ret = []\n",
    "    for parola in lista:\n",
    "        if parola not in insieme:\n",
    "            ret.append(parola)\n",
    "    return \" \".join(ret)\n",
    "    \n",
    "\n",
    "# INIZIO TEST - NON TOCCARE !    \n",
    "# se hai scritto tutto il codice giusto, ed esegui la cella, python non dovrebbe lanciare AssertionError\n",
    "assert nostop(\"un\", [\"un\"]) == \"\"\n",
    "assert nostop(\"un\", []) == \"un\"\n",
    "assert nostop(\"\", []) == \"\"\n",
    "assert nostop(\"\", [\"un\"]) == \"\"\n",
    "assert nostop(\"un libro\", [\"un\"]) == \"libro\"\n",
    "assert nostop(\"un libro su Python\", [\"un\",\"su\"]) == \"libro Python\"\n",
    "assert nostop(\"un libro su Python per principianti\", [\"un\",\"uno\",\"il\",\"su\",\"per\"]) == \"libro Python principianti\"\n",
    "assert nostop(\"un libro\\tsu Python\\nper principianti\", [\"un\",\"uno\",\"il\",\"su\",\"per\"]) == \"libro Python principianti\""
   ]
  },
  {
   "cell_type": "raw",
   "id": "e0e0ead3",
   "metadata": {
    "format": "text/html"
   },
   "source": [
    "</div>"
   ]
  },
  {
   "cell_type": "code",
   "execution_count": 20,
   "metadata": {},
   "outputs": [],
   "source": [
    "\n",
    "def nostop(stringa, stopwords):\n",
    "    raise Exception('TODO IMPLEMENT ME !')\n",
    "\n",
    "# INIZIO TEST - NON TOCCARE !    \n",
    "# se hai scritto tutto il codice giusto, ed esegui la cella, python non dovrebbe lanciare AssertionError\n",
    "assert nostop(\"un\", [\"un\"]) == \"\"\n",
    "assert nostop(\"un\", []) == \"un\"\n",
    "assert nostop(\"\", []) == \"\"\n",
    "assert nostop(\"\", [\"un\"]) == \"\"\n",
    "assert nostop(\"un libro\", [\"un\"]) == \"libro\"\n",
    "assert nostop(\"un libro su Python\", [\"un\",\"su\"]) == \"libro Python\"\n",
    "assert nostop(\"un libro su Python per principianti\", [\"un\",\"uno\",\"il\",\"su\",\"per\"]) == \"libro Python principianti\"\n",
    "assert nostop(\"un libro\\tsu Python\\nper principianti\", [\"un\",\"uno\",\"il\",\"su\",\"per\"]) == \"libro Python principianti\""
   ]
  },
  {
   "cell_type": "markdown",
   "metadata": {},
   "source": [
    "## Prosegui\n",
    "\n",
    "Continua con le [challenges](https://it.softpython.org/lists/lists5-chal.html) ..."
   ]
  }
 ],
 "metadata": {
  "celltoolbar": "Edit Metadata",
  "kernelspec": {
   "display_name": "Python 3",
   "language": "python",
   "name": "python3"
  },
  "language_info": {
   "codemirror_mode": {
    "name": "ipython",
    "version": 3
   },
   "file_extension": ".py",
   "mimetype": "text/x-python",
   "name": "python",
   "nbconvert_exporter": "python",
   "pygments_lexer": "ipython3",
   "version": "3.7.10"
  },
  "toc": {
   "base_numbering": 1,
   "nav_menu": {},
   "number_sections": false,
   "sideBar": true,
   "skip_h1_title": false,
   "title_cell": "Table of Contents",
   "title_sidebar": "Contents",
   "toc_cell": false,
   "toc_position": {
    "height": "calc(100% - 180px)",
    "left": "10px",
    "top": "150px",
    "width": "249.067px"
   },
   "toc_section_display": true,
   "toc_window_display": true
  }
 },
 "nbformat": 4,
 "nbformat_minor": 2
}

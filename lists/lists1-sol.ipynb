{
 "cells": [
  {
   "cell_type": "code",
   "execution_count": 1,
   "metadata": {
    "nbsphinx": "hidden"
   },
   "outputs": [],
   "source": [
    "# Ricordati di eseguire questa cella con Shift+Invio\n",
    "\n",
    "import jupman"
   ]
  },
  {
   "cell_type": "markdown",
   "metadata": {},
   "source": [
    "\n",
    "# Liste 1 - Introduzione\n",
    "\n",
    "\n",
    "## [Scarica zip esercizi](../_static/generated/lists.zip)\n",
    "\n",
    "[Naviga file online](https://github.com/DavidLeoni/softpython-it/tree/master/lists)\n",
    "\n",
    "\n",
    "Una lista in Python è una sequenza di elementi eterogenei **mutabile**, in cui possiamo mettere gli oggetti che vogliamo. L'ordine in cui li mettiamo viene preservato.\n"
   ]
  },
  {
   "cell_type": "markdown",
   "metadata": {},
   "source": [
    "## Che fare\n",
    "\n",
    "- scompatta lo zip in una cartella, dovresti ottenere qualcosa del genere: \n",
    "\n",
    "```\n",
    "\n",
    "lists\n",
    "    lists1.ipynb\n",
    "    lists1-sol.ipynb         \n",
    "    lists2.ipynb\n",
    "    lists2-sol.ipynb         \n",
    "    lists3.ipynb\n",
    "    lists3-sol.ipynb         \n",
    "    lists4.ipynb\n",
    "    lists4-sol.ipynb\n",
    "    lists5-chal.ipynb\n",
    "    jupman.py  \n",
    "```\n",
    "\n",
    "<div class=\"alert alert-warning\">\n",
    "\n",
    "**ATTENZIONE**: Per essere visualizzato correttamente, il file del notebook DEVE essere nella cartella szippata.\n",
    "</div>\n",
    "\n",
    "- apri il Jupyter Notebook da quella cartella. Due cose dovrebbero aprirsi, prima una console e poi un browser. Il browser dovrebbe mostrare una lista di file: naviga la lista e apri il notebook `lists1.ipynb`\n",
    "- Prosegui leggendo il file degli esercizi, ogni tanto al suo interno troverai delle scritte **ESERCIZIO**, che ti chiederanno di scrivere dei comandi Python nelle celle successive. \n",
    "\n",
    "\n",
    "Scorciatoie da tastiera:\n",
    "\n",
    "* Per eseguire il codice Python dentro una cella di Jupyter, premi `Control+Invio`\n",
    "* Per eseguire il codice Python dentro una cella di Jupyter E selezionare la cella seguente, premi `Shift+Invio`\n",
    "* Per eseguire il codice Python dentro una cella di Jupyter E creare una nuova cella subito dopo, premi `Alt+Invio`\n",
    "* Se per caso il Notebook sembra inchiodato, prova a selezionare `Kernel -> Restart`\n",
    "\n"
   ]
  },
  {
   "cell_type": "markdown",
   "metadata": {},
   "source": [
    "## Creare liste\n",
    "\n",
    "Possiamo creare una lista specificando tra parentesi quadre gli elementi che contiene, e separandoli da una virgola.\n",
    "\n",
    "Per esempio, in questa lista inseriamo i numeri `7`, `4` e `9`:"
   ]
  },
  {
   "cell_type": "code",
   "execution_count": 2,
   "metadata": {},
   "outputs": [
    {
     "data": {
      "text/plain": [
       "[7, 4, 9]"
      ]
     },
     "execution_count": 2,
     "metadata": {},
     "output_type": "execute_result"
    }
   ],
   "source": [
    "[7,4,9] "
   ]
  },
  {
   "cell_type": "markdown",
   "metadata": {},
   "source": [
    "Come tutti gli oggetti in Python, possiamo associarli ad una variabile, in questo caso ce ne inventiamo una chiamata `lista`:"
   ]
  },
  {
   "cell_type": "code",
   "execution_count": 3,
   "metadata": {},
   "outputs": [],
   "source": [
    "lista = [7,4,9] "
   ]
  },
  {
   "cell_type": "code",
   "execution_count": 4,
   "metadata": {},
   "outputs": [
    {
     "data": {
      "text/plain": [
       "[7, 4, 9]"
      ]
     },
     "execution_count": 4,
     "metadata": {},
     "output_type": "execute_result"
    }
   ],
   "source": [
    "lista"
   ]
  },
  {
   "cell_type": "markdown",
   "metadata": {},
   "source": [
    "Vediamo meglio che succede in memoria, e compariamo la rappresentazione delle stringhe con quella delle liste:"
   ]
  },
  {
   "cell_type": "code",
   "execution_count": 5,
   "metadata": {},
   "outputs": [],
   "source": [
    "# AFFINCHE' PYTHON TUTOR FUNZIONI, RICORDATI DI ESEGUIRE QUESTA CELLA con Shift+Invio\n",
    "#   (basta eseguirla una volta sola, la trovi anche all'inizio di ogni foglio)\n",
    "\n",
    "import jupman"
   ]
  },
  {
   "cell_type": "code",
   "execution_count": 6,
   "metadata": {},
   "outputs": [
    {
     "data": {
      "text/html": [
       "\n",
       "        <script src=\"../_static/js/pytutor-embed.bundle.min.js\" type=\"application/javascript\"></script>\n",
       "     \n",
       "        <script id=\"json-jmf4ef7494-4a9b-4279-9c49-b781744a2dea\" type=\"application/json\" >\n",
       "            {\"code\": \" \\nstringa = \\\"prova\\\"\\n\\nlista = [7,4,9]\", \"trace\": [{\"line\": 2, \"event\": \"step_line\", \"func_name\": \"<module>\", \"globals\": {}, \"ordered_globals\": [], \"stack_to_render\": [], \"heap\": {}, \"stdout\": \"\"}, {\"line\": 4, \"event\": \"step_line\", \"func_name\": \"<module>\", \"globals\": {\"stringa\": \"prova\"}, \"ordered_globals\": [\"stringa\"], \"stack_to_render\": [], \"heap\": {}, \"stdout\": \"\"}, {\"line\": 4, \"event\": \"return\", \"func_name\": \"<module>\", \"globals\": {\"stringa\": \"prova\", \"lista\": [\"REF\", 1]}, \"ordered_globals\": [\"stringa\", \"lista\"], \"stack_to_render\": [], \"heap\": {\"1\": [\"LIST\", 7, 4, 9]}, \"stdout\": \"\"}]}\n",
       "        </script>\n",
       "        <div id=\"jmf4ef7494-4a9b-4279-9c49-b781744a2dea\" class=\"pytutorVisualizer\"> </div>\n",
       " \n",
       "        <style>\n",
       "        .vizLayoutTd {\n",
       "            background-color: #fff !important;\n",
       "        }\n",
       "\n",
       "        #pyStdout {            \n",
       "            min-height:25px;\n",
       "        }\n",
       "\n",
       "        /* 'Edit this code' link, hiding because replaces browser tab !!!*/\n",
       "        #editCodeLinkDiv {\n",
       "            display:none;  \n",
       "        }\n",
       "        </style>   \n",
       "                            \n",
       "        <script>\n",
       "        (function(){\n",
       "\n",
       "            var trace = JSON.parse(document.getElementById('json-jmf4ef7494-4a9b-4279-9c49-b781744a2dea').innerHTML);                                        \n",
       "            // NOTE 1: id without #\n",
       "            // NOTE 2 - maybe there are more predictable ways, but this will work anyway\n",
       "            //        - id should be number\n",
       "            visualizerIdOverride = Math.trunc(Math.random() * 100000000000)\n",
       "            addVisualizerToPage(trace, 'jmf4ef7494-4a9b-4279-9c49-b781744a2dea',{'embeddedMode' : false,\n",
       "                                             'visualizerIdOverride':visualizerIdOverride})  \n",
       "            \n",
       "            \n",
       "            // set overflow for pytuts - need to do in python as css \n",
       "            // does not allow parent selection\n",
       "            var pytuts = $('.pytutorVisualizer')\n",
       "            pytuts.closest('div.output_html.rendered_html.output_result')\n",
       "                    .css('overflow-x', 'visible')\n",
       "        \n",
       "            //pytuts.closest('div.output_html.rendered_html.output_result')\n",
       "            //      .css('background-color','red')                \n",
       "            \n",
       "        })()\n",
       "        </script>\n",
       "                \n",
       "                "
      ],
      "text/plain": [
       "<IPython.core.display.HTML object>"
      ]
     },
     "execution_count": 6,
     "metadata": {},
     "output_type": "execute_result"
    }
   ],
   "source": [
    "stringa = \"prova\"\n",
    "\n",
    "lista = [7,4,9]\n",
    "\n",
    "jupman.pytut()"
   ]
  },
  {
   "cell_type": "markdown",
   "metadata": {},
   "source": [
    "Notiamo subito una differenza rilevante. La stringa è rimasta nella regione azzurra dove appaiono le associazioni tra variabili e valori, invece dalla variabile `lista` parte una freccia che punta ad una nuova regione gialla di memoria, che si crea non appena l'esecuzione raggiunge la riga che definisce la lista.\n",
    "\n",
    "In seguito approfondiremo meglio le conseguenze di ciò."
   ]
  },
  {
   "cell_type": "markdown",
   "metadata": {},
   "source": [
    "In una lista gli stessi elementi possono apparire più volte"
   ]
  },
  {
   "cell_type": "code",
   "execution_count": 7,
   "metadata": {},
   "outputs": [],
   "source": [
    "numeri = [1,2,3,1,3]\n"
   ]
  },
  {
   "cell_type": "code",
   "execution_count": 8,
   "metadata": {},
   "outputs": [
    {
     "data": {
      "text/plain": [
       "[1, 2, 3, 1, 3]"
      ]
     },
     "execution_count": 8,
     "metadata": {},
     "output_type": "execute_result"
    }
   ],
   "source": [
    "numeri"
   ]
  },
  {
   "cell_type": "markdown",
   "metadata": {},
   "source": [
    "In una lista possiamo mettere qualunque elemento, per es. le stringhe:"
   ]
  },
  {
   "cell_type": "code",
   "execution_count": 9,
   "metadata": {},
   "outputs": [],
   "source": [
    "frutti = [\"mela\", \"pera\", \"pesca\", \"fragola\", \"ciliegia\"] "
   ]
  },
  {
   "cell_type": "code",
   "execution_count": 10,
   "metadata": {},
   "outputs": [
    {
     "data": {
      "text/plain": [
       "['mela', 'pera', 'pesca', 'fragola', 'ciliegia']"
      ]
     },
     "execution_count": 10,
     "metadata": {},
     "output_type": "execute_result"
    }
   ],
   "source": [
    "frutti"
   ]
  },
  {
   "cell_type": "markdown",
   "metadata": {},
   "source": [
    "Possiamo anche mischiare i tipi di oggetti contenuti in una lista, per esempio possiamo avere interi e stringhe:"
   ]
  },
  {
   "cell_type": "code",
   "execution_count": 11,
   "metadata": {},
   "outputs": [],
   "source": [
    "misto = [\"tavolo\", 4 ,\"sedia\", 8, 5, 1, \"sedia\"]"
   ]
  },
  {
   "cell_type": "markdown",
   "metadata": {},
   "source": [
    "In Python Tutor apparirà così:"
   ]
  },
  {
   "cell_type": "code",
   "execution_count": 12,
   "metadata": {},
   "outputs": [
    {
     "data": {
      "text/html": [
       "\n",
       "        <script src=\"../_static/js/pytutor-embed.bundle.min.js\" type=\"application/javascript\"></script>\n",
       "     \n",
       "        <script id=\"json-jm0833ea39-29c3-400f-a58e-e2425abb2e42\" type=\"application/json\" >\n",
       "            {\"code\": \" \\nmisto = [\\\"tavolo\\\", 5 , 4, \\\"sedia\\\", 8, \\\"sedia\\\"]\", \"trace\": [{\"line\": 2, \"event\": \"step_line\", \"func_name\": \"<module>\", \"globals\": {}, \"ordered_globals\": [], \"stack_to_render\": [], \"heap\": {}, \"stdout\": \"\"}, {\"line\": 2, \"event\": \"return\", \"func_name\": \"<module>\", \"globals\": {\"misto\": [\"REF\", 1]}, \"ordered_globals\": [\"misto\"], \"stack_to_render\": [], \"heap\": {\"1\": [\"LIST\", \"tavolo\", 5, 4, \"sedia\", 8, \"sedia\"]}, \"stdout\": \"\"}]}\n",
       "        </script>\n",
       "        <div id=\"jm0833ea39-29c3-400f-a58e-e2425abb2e42\" class=\"pytutorVisualizer\"> </div>\n",
       " \n",
       "        <style>\n",
       "        .vizLayoutTd {\n",
       "            background-color: #fff !important;\n",
       "        }\n",
       "\n",
       "        #pyStdout {            \n",
       "            min-height:25px;\n",
       "        }\n",
       "\n",
       "        /* 'Edit this code' link, hiding because replaces browser tab !!!*/\n",
       "        #editCodeLinkDiv {\n",
       "            display:none;  \n",
       "        }\n",
       "        </style>   \n",
       "                            \n",
       "        <script>\n",
       "        (function(){\n",
       "\n",
       "            var trace = JSON.parse(document.getElementById('json-jm0833ea39-29c3-400f-a58e-e2425abb2e42').innerHTML);                                        \n",
       "            // NOTE 1: id without #\n",
       "            // NOTE 2 - maybe there are more predictable ways, but this will work anyway\n",
       "            //        - id should be number\n",
       "            visualizerIdOverride = Math.trunc(Math.random() * 100000000000)\n",
       "            addVisualizerToPage(trace, 'jm0833ea39-29c3-400f-a58e-e2425abb2e42',{'embeddedMode' : false,\n",
       "                                             'visualizerIdOverride':visualizerIdOverride})  \n",
       "            \n",
       "            \n",
       "            // set overflow for pytuts - need to do in python as css \n",
       "            // does not allow parent selection\n",
       "            var pytuts = $('.pytutorVisualizer')\n",
       "            pytuts.closest('div.output_html.rendered_html.output_result')\n",
       "                    .css('overflow-x', 'visible')\n",
       "        \n",
       "            //pytuts.closest('div.output_html.rendered_html.output_result')\n",
       "            //      .css('background-color','red')                \n",
       "            \n",
       "        })()\n",
       "        </script>\n",
       "                \n",
       "                "
      ],
      "text/plain": [
       "<IPython.core.display.HTML object>"
      ]
     },
     "execution_count": 12,
     "metadata": {},
     "output_type": "execute_result"
    }
   ],
   "source": [
    "misto = [\"tavolo\", 5 , 4, \"sedia\", 8, \"sedia\"]\n",
    "\n",
    "jupman.pytut()"
   ]
  },
  {
   "cell_type": "markdown",
   "metadata": {},
   "source": [
    "Per comodità possiamo anche scrivere la lista su più righe (gli spazi in questo caso non contano, ricordati solo di terminare le righe con delle virgole `,`)"
   ]
  },
  {
   "cell_type": "code",
   "execution_count": 13,
   "metadata": {},
   "outputs": [],
   "source": [
    "misto = [\"tavolo\",\n",
    "         5 , \n",
    "         4,\n",
    "         \"sedia\",\n",
    "         8,\n",
    "         \"sedia\"]"
   ]
  },
  {
   "cell_type": "markdown",
   "metadata": {},
   "source": [
    "### Esercizio - proviamo l'errore\n",
    "\n",
    "Prova a scrivere la lista qua sopra SENZA mettere una virgola dopo il 5, che errore appare?"
   ]
  },
  {
   "cell_type": "code",
   "execution_count": 14,
   "metadata": {},
   "outputs": [],
   "source": [
    "# scrivi qui\n",
    "\n"
   ]
  },
  {
   "cell_type": "markdown",
   "metadata": {},
   "source": [
    "### Lista vuota\n",
    "\n",
    "Ci sono due modi per creare una lista vuota.\n",
    "\n",
    "1) con parentesi quadre:"
   ]
  },
  {
   "cell_type": "code",
   "execution_count": 15,
   "metadata": {},
   "outputs": [],
   "source": [
    "lista_vuota = []"
   ]
  },
  {
   "cell_type": "code",
   "execution_count": 16,
   "metadata": {},
   "outputs": [
    {
     "data": {
      "text/plain": [
       "[]"
      ]
     },
     "execution_count": 16,
     "metadata": {},
     "output_type": "execute_result"
    }
   ],
   "source": [
    "lista_vuota"
   ]
  },
  {
   "cell_type": "markdown",
   "metadata": {},
   "source": [
    "2) Oppure con `list()`:"
   ]
  },
  {
   "cell_type": "code",
   "execution_count": 17,
   "metadata": {},
   "outputs": [],
   "source": [
    "altra_lista_vuota = list()"
   ]
  },
  {
   "cell_type": "code",
   "execution_count": 18,
   "metadata": {},
   "outputs": [
    {
     "data": {
      "text/plain": [
       "[]"
      ]
     },
     "execution_count": 18,
     "metadata": {},
     "output_type": "execute_result"
    }
   ],
   "source": [
    "altra_lista_vuota"
   ]
  },
  {
   "cell_type": "markdown",
   "metadata": {},
   "source": [
    "<div class=\"div alert alert-warning\">\n",
    "\n",
    "**ATTENZIONE**: Quando crei una lista vuota (indipendentemente dalla notazione usata), in memoria viene allocata una NUOVA regione di memoria per accogliere la lista\n",
    "\n",
    "</div>\n",
    "\n",
    "Vediamo meglio cosa vuol dire con Python Tutor: "
   ]
  },
  {
   "cell_type": "code",
   "execution_count": 19,
   "metadata": {},
   "outputs": [
    {
     "data": {
      "text/html": [
       "\n",
       "        <script src=\"../_static/js/pytutor-embed.bundle.min.js\" type=\"application/javascript\"></script>\n",
       "     \n",
       "        <script id=\"json-jm1a45d032-97be-4fc7-9475-3c13a5e394db\" type=\"application/json\" >\n",
       "            {\"code\": \" \\na = []\\nb = []\", \"trace\": [{\"line\": 2, \"event\": \"step_line\", \"func_name\": \"<module>\", \"globals\": {}, \"ordered_globals\": [], \"stack_to_render\": [], \"heap\": {}, \"stdout\": \"\"}, {\"line\": 3, \"event\": \"step_line\", \"func_name\": \"<module>\", \"globals\": {\"a\": [\"REF\", 1]}, \"ordered_globals\": [\"a\"], \"stack_to_render\": [], \"heap\": {\"1\": [\"LIST\"]}, \"stdout\": \"\"}, {\"line\": 3, \"event\": \"return\", \"func_name\": \"<module>\", \"globals\": {\"a\": [\"REF\", 1], \"b\": [\"REF\", 2]}, \"ordered_globals\": [\"a\", \"b\"], \"stack_to_render\": [], \"heap\": {\"1\": [\"LIST\"], \"2\": [\"LIST\"]}, \"stdout\": \"\"}]}\n",
       "        </script>\n",
       "        <div id=\"jm1a45d032-97be-4fc7-9475-3c13a5e394db\" class=\"pytutorVisualizer\"> </div>\n",
       " \n",
       "        <style>\n",
       "        .vizLayoutTd {\n",
       "            background-color: #fff !important;\n",
       "        }\n",
       "\n",
       "        #pyStdout {            \n",
       "            min-height:25px;\n",
       "        }\n",
       "\n",
       "        /* 'Edit this code' link, hiding because replaces browser tab !!!*/\n",
       "        #editCodeLinkDiv {\n",
       "            display:none;  \n",
       "        }\n",
       "        </style>   \n",
       "                            \n",
       "        <script>\n",
       "        (function(){\n",
       "\n",
       "            var trace = JSON.parse(document.getElementById('json-jm1a45d032-97be-4fc7-9475-3c13a5e394db').innerHTML);                                        \n",
       "            // NOTE 1: id without #\n",
       "            // NOTE 2 - maybe there are more predictable ways, but this will work anyway\n",
       "            //        - id should be number\n",
       "            visualizerIdOverride = Math.trunc(Math.random() * 100000000000)\n",
       "            addVisualizerToPage(trace, 'jm1a45d032-97be-4fc7-9475-3c13a5e394db',{'embeddedMode' : false,\n",
       "                                             'visualizerIdOverride':visualizerIdOverride})  \n",
       "            \n",
       "            \n",
       "            // set overflow for pytuts - need to do in python as css \n",
       "            // does not allow parent selection\n",
       "            var pytuts = $('.pytutorVisualizer')\n",
       "            pytuts.closest('div.output_html.rendered_html.output_result')\n",
       "                    .css('overflow-x', 'visible')\n",
       "        \n",
       "            //pytuts.closest('div.output_html.rendered_html.output_result')\n",
       "            //      .css('background-color','red')                \n",
       "            \n",
       "        })()\n",
       "        </script>\n",
       "                \n",
       "                "
      ],
      "text/plain": [
       "<IPython.core.display.HTML object>"
      ]
     },
     "execution_count": 19,
     "metadata": {},
     "output_type": "execute_result"
    }
   ],
   "source": [
    "a = []\n",
    "b = []\n",
    "\n",
    "jupman.pytut()"
   ]
  },
  {
   "cell_type": "markdown",
   "metadata": {},
   "source": [
    "Nota che sono apparse due frecce che puntano a regioni di memoria **differenti**. Lo stesso sarebbe accaduto inizializzando le liste con degli elementi:"
   ]
  },
  {
   "cell_type": "code",
   "execution_count": 20,
   "metadata": {},
   "outputs": [
    {
     "data": {
      "text/html": [
       "\n",
       "        <script src=\"../_static/js/pytutor-embed.bundle.min.js\" type=\"application/javascript\"></script>\n",
       "     \n",
       "        <script id=\"json-jma072fee1-4c59-4873-a0c6-1155616c5fa8\" type=\"application/json\" >\n",
       "            {\"code\": \" \\nla = [8,6,7]\\nlb = [9,5,6,4]\", \"trace\": [{\"line\": 2, \"event\": \"step_line\", \"func_name\": \"<module>\", \"globals\": {}, \"ordered_globals\": [], \"stack_to_render\": [], \"heap\": {}, \"stdout\": \"\"}, {\"line\": 3, \"event\": \"step_line\", \"func_name\": \"<module>\", \"globals\": {\"la\": [\"REF\", 1]}, \"ordered_globals\": [\"la\"], \"stack_to_render\": [], \"heap\": {\"1\": [\"LIST\", 8, 6, 7]}, \"stdout\": \"\"}, {\"line\": 3, \"event\": \"return\", \"func_name\": \"<module>\", \"globals\": {\"la\": [\"REF\", 1], \"lb\": [\"REF\", 2]}, \"ordered_globals\": [\"la\", \"lb\"], \"stack_to_render\": [], \"heap\": {\"1\": [\"LIST\", 8, 6, 7], \"2\": [\"LIST\", 9, 5, 6, 4]}, \"stdout\": \"\"}]}\n",
       "        </script>\n",
       "        <div id=\"jma072fee1-4c59-4873-a0c6-1155616c5fa8\" class=\"pytutorVisualizer\"> </div>\n",
       " \n",
       "        <style>\n",
       "        .vizLayoutTd {\n",
       "            background-color: #fff !important;\n",
       "        }\n",
       "\n",
       "        #pyStdout {            \n",
       "            min-height:25px;\n",
       "        }\n",
       "\n",
       "        /* 'Edit this code' link, hiding because replaces browser tab !!!*/\n",
       "        #editCodeLinkDiv {\n",
       "            display:none;  \n",
       "        }\n",
       "        </style>   \n",
       "                            \n",
       "        <script>\n",
       "        (function(){\n",
       "\n",
       "            var trace = JSON.parse(document.getElementById('json-jma072fee1-4c59-4873-a0c6-1155616c5fa8').innerHTML);                                        \n",
       "            // NOTE 1: id without #\n",
       "            // NOTE 2 - maybe there are more predictable ways, but this will work anyway\n",
       "            //        - id should be number\n",
       "            visualizerIdOverride = Math.trunc(Math.random() * 100000000000)\n",
       "            addVisualizerToPage(trace, 'jma072fee1-4c59-4873-a0c6-1155616c5fa8',{'embeddedMode' : false,\n",
       "                                             'visualizerIdOverride':visualizerIdOverride})  \n",
       "            \n",
       "            \n",
       "            // set overflow for pytuts - need to do in python as css \n",
       "            // does not allow parent selection\n",
       "            var pytuts = $('.pytutorVisualizer')\n",
       "            pytuts.closest('div.output_html.rendered_html.output_result')\n",
       "                    .css('overflow-x', 'visible')\n",
       "        \n",
       "            //pytuts.closest('div.output_html.rendered_html.output_result')\n",
       "            //      .css('background-color','red')                \n",
       "            \n",
       "        })()\n",
       "        </script>\n",
       "                \n",
       "                "
      ],
      "text/plain": [
       "<IPython.core.display.HTML object>"
      ]
     },
     "execution_count": 20,
     "metadata": {},
     "output_type": "execute_result"
    }
   ],
   "source": [
    "la = [8,6,7]\n",
    "lb = [9,5,6,4]\n",
    "\n",
    "jupman.pytut()"
   ]
  },
  {
   "cell_type": "markdown",
   "metadata": {},
   "source": [
    "E avremmo avuto due liste in regioni di memoria diverse anche mettendo elementi identici dentro le liste:"
   ]
  },
  {
   "cell_type": "code",
   "execution_count": 21,
   "metadata": {},
   "outputs": [
    {
     "data": {
      "text/html": [
       "\n",
       "        <script src=\"../_static/js/pytutor-embed.bundle.min.js\" type=\"application/javascript\"></script>\n",
       "     \n",
       "        <script id=\"json-jm511e5162-d8b7-49a2-aa7b-ff701138927e\" type=\"application/json\" >\n",
       "            {\"code\": \" \\nla = [8,6,7]\\nlb = [8,6,7]\", \"trace\": [{\"line\": 2, \"event\": \"step_line\", \"func_name\": \"<module>\", \"globals\": {}, \"ordered_globals\": [], \"stack_to_render\": [], \"heap\": {}, \"stdout\": \"\"}, {\"line\": 3, \"event\": \"step_line\", \"func_name\": \"<module>\", \"globals\": {\"la\": [\"REF\", 1]}, \"ordered_globals\": [\"la\"], \"stack_to_render\": [], \"heap\": {\"1\": [\"LIST\", 8, 6, 7]}, \"stdout\": \"\"}, {\"line\": 3, \"event\": \"return\", \"func_name\": \"<module>\", \"globals\": {\"la\": [\"REF\", 1], \"lb\": [\"REF\", 2]}, \"ordered_globals\": [\"la\", \"lb\"], \"stack_to_render\": [], \"heap\": {\"1\": [\"LIST\", 8, 6, 7], \"2\": [\"LIST\", 8, 6, 7]}, \"stdout\": \"\"}]}\n",
       "        </script>\n",
       "        <div id=\"jm511e5162-d8b7-49a2-aa7b-ff701138927e\" class=\"pytutorVisualizer\"> </div>\n",
       " \n",
       "        <style>\n",
       "        .vizLayoutTd {\n",
       "            background-color: #fff !important;\n",
       "        }\n",
       "\n",
       "        #pyStdout {            \n",
       "            min-height:25px;\n",
       "        }\n",
       "\n",
       "        /* 'Edit this code' link, hiding because replaces browser tab !!!*/\n",
       "        #editCodeLinkDiv {\n",
       "            display:none;  \n",
       "        }\n",
       "        </style>   \n",
       "                            \n",
       "        <script>\n",
       "        (function(){\n",
       "\n",
       "            var trace = JSON.parse(document.getElementById('json-jm511e5162-d8b7-49a2-aa7b-ff701138927e').innerHTML);                                        \n",
       "            // NOTE 1: id without #\n",
       "            // NOTE 2 - maybe there are more predictable ways, but this will work anyway\n",
       "            //        - id should be number\n",
       "            visualizerIdOverride = Math.trunc(Math.random() * 100000000000)\n",
       "            addVisualizerToPage(trace, 'jm511e5162-d8b7-49a2-aa7b-ff701138927e',{'embeddedMode' : false,\n",
       "                                             'visualizerIdOverride':visualizerIdOverride})  \n",
       "            \n",
       "            \n",
       "            // set overflow for pytuts - need to do in python as css \n",
       "            // does not allow parent selection\n",
       "            var pytuts = $('.pytutorVisualizer')\n",
       "            pytuts.closest('div.output_html.rendered_html.output_result')\n",
       "                    .css('overflow-x', 'visible')\n",
       "        \n",
       "            //pytuts.closest('div.output_html.rendered_html.output_result')\n",
       "            //      .css('background-color','red')                \n",
       "            \n",
       "        })()\n",
       "        </script>\n",
       "                \n",
       "                "
      ],
      "text/plain": [
       "<IPython.core.display.HTML object>"
      ]
     },
     "execution_count": 21,
     "metadata": {},
     "output_type": "execute_result"
    }
   ],
   "source": [
    "la = [8,6,7]\n",
    "lb = [8,6,7]\n",
    "\n",
    "jupman.pytut()"
   ]
  },
  {
   "cell_type": "markdown",
   "metadata": {},
   "source": [
    "Le cose si complicano quando cominciamo ad usare operazioni di assegnazione:"
   ]
  },
  {
   "cell_type": "code",
   "execution_count": 22,
   "metadata": {},
   "outputs": [],
   "source": [
    "la = [8,6,7]"
   ]
  },
  {
   "cell_type": "code",
   "execution_count": 23,
   "metadata": {},
   "outputs": [],
   "source": [
    "lb = [9,5,6,4]"
   ]
  },
  {
   "cell_type": "code",
   "execution_count": 24,
   "metadata": {},
   "outputs": [],
   "source": [
    "lb = la"
   ]
  },
  {
   "cell_type": "markdown",
   "metadata": {},
   "source": [
    "Scrivendo `lb = la`, abbiamo detto a Python di 'dimenticare' l'assegnazione precedente di `lb` a `[9,5,6,4]`, e di associare invece `lb` alla stesso valore già associato ad `la`, cioè `[8,6,7]`. Quindi, nella memoria vedremo una freccia che parte da `lb` ed arriva a `[8,6,7]`, e la regione di memoria dove stava  la lista `[9,5,6,4]` verrà rimossa (non è più associata ad alcuna variabile). Guardiamo che succede con Python Tutor:"
   ]
  },
  {
   "cell_type": "code",
   "execution_count": 25,
   "metadata": {},
   "outputs": [
    {
     "data": {
      "text/html": [
       "\n",
       "        <script src=\"../_static/js/pytutor-embed.bundle.min.js\" type=\"application/javascript\"></script>\n",
       "     \n",
       "        <script id=\"json-jmfef73a90-45e3-447c-980d-bdd3eb254e9a\" type=\"application/json\" >\n",
       "            {\"code\": \" \\nla = [8,6,7]\\nlb = [9,5,6,4]\\nlb = la\", \"trace\": [{\"line\": 2, \"event\": \"step_line\", \"func_name\": \"<module>\", \"globals\": {}, \"ordered_globals\": [], \"stack_to_render\": [], \"heap\": {}, \"stdout\": \"\"}, {\"line\": 3, \"event\": \"step_line\", \"func_name\": \"<module>\", \"globals\": {\"la\": [\"REF\", 1]}, \"ordered_globals\": [\"la\"], \"stack_to_render\": [], \"heap\": {\"1\": [\"LIST\", 8, 6, 7]}, \"stdout\": \"\"}, {\"line\": 4, \"event\": \"step_line\", \"func_name\": \"<module>\", \"globals\": {\"la\": [\"REF\", 1], \"lb\": [\"REF\", 2]}, \"ordered_globals\": [\"la\", \"lb\"], \"stack_to_render\": [], \"heap\": {\"1\": [\"LIST\", 8, 6, 7], \"2\": [\"LIST\", 9, 5, 6, 4]}, \"stdout\": \"\"}, {\"line\": 4, \"event\": \"return\", \"func_name\": \"<module>\", \"globals\": {\"la\": [\"REF\", 1], \"lb\": [\"REF\", 1]}, \"ordered_globals\": [\"la\", \"lb\"], \"stack_to_render\": [], \"heap\": {\"1\": [\"LIST\", 8, 6, 7]}, \"stdout\": \"\"}]}\n",
       "        </script>\n",
       "        <div id=\"jmfef73a90-45e3-447c-980d-bdd3eb254e9a\" class=\"pytutorVisualizer\"> </div>\n",
       " \n",
       "        <style>\n",
       "        .vizLayoutTd {\n",
       "            background-color: #fff !important;\n",
       "        }\n",
       "\n",
       "        #pyStdout {            \n",
       "            min-height:25px;\n",
       "        }\n",
       "\n",
       "        /* 'Edit this code' link, hiding because replaces browser tab !!!*/\n",
       "        #editCodeLinkDiv {\n",
       "            display:none;  \n",
       "        }\n",
       "        </style>   \n",
       "                            \n",
       "        <script>\n",
       "        (function(){\n",
       "\n",
       "            var trace = JSON.parse(document.getElementById('json-jmfef73a90-45e3-447c-980d-bdd3eb254e9a').innerHTML);                                        \n",
       "            // NOTE 1: id without #\n",
       "            // NOTE 2 - maybe there are more predictable ways, but this will work anyway\n",
       "            //        - id should be number\n",
       "            visualizerIdOverride = Math.trunc(Math.random() * 100000000000)\n",
       "            addVisualizerToPage(trace, 'jmfef73a90-45e3-447c-980d-bdd3eb254e9a',{'embeddedMode' : false,\n",
       "                                             'visualizerIdOverride':visualizerIdOverride})  \n",
       "            \n",
       "            \n",
       "            // set overflow for pytuts - need to do in python as css \n",
       "            // does not allow parent selection\n",
       "            var pytuts = $('.pytutorVisualizer')\n",
       "            pytuts.closest('div.output_html.rendered_html.output_result')\n",
       "                    .css('overflow-x', 'visible')\n",
       "        \n",
       "            //pytuts.closest('div.output_html.rendered_html.output_result')\n",
       "            //      .css('background-color','red')                \n",
       "            \n",
       "        })()\n",
       "        </script>\n",
       "                \n",
       "                "
      ],
      "text/plain": [
       "<IPython.core.display.HTML object>"
      ]
     },
     "execution_count": 25,
     "metadata": {},
     "output_type": "execute_result"
    }
   ],
   "source": [
    "la = [8,6,7]\n",
    "lb = [9,5,6,4]\n",
    "lb = la\n",
    "\n",
    "jupman.pytut()"
   ]
  },
  {
   "cell_type": "markdown",
   "metadata": {},
   "source": [
    "### Esercizio - scambi di liste\n",
    "\n",
    "Prova a scambiare le liste associate alle variabili `la` ed `lb` usando solo assegnazioni e **senza creare nuove liste**. Se vuoi, puoi sovrascrivere una terza variabile `lc`. Verifica che succede con Python Tutor.\n",
    "\n",
    "* il tuo codice deve poter funzionare con qualunque valore di `la`, `lb` ed `lc`\n",
    "\n",
    "Esempio - dati: \n",
    "\n",
    "```python\n",
    "la = [9,6,1]\n",
    "lb = [2,3,4,3,5]\n",
    "lc = None\n",
    "```\n",
    "\n",
    "Dopo il tuo codice, deve risultare:\n",
    "\n",
    "```python\n",
    ">>> print(la)\n",
    "[2,3,4,3,5]\n",
    ">>> print(lb)\n",
    "[9,6,1]\n",
    "```"
   ]
  },
  {
   "cell_type": "raw",
   "id": "be4b1e25",
   "metadata": {
    "format": "text/html"
   },
   "source": [
    "<a  class=\"jupman-sol jupman-sol-toggler\" \n",
    " onclick=\"jupman.toggleSolution(this);\" \n",
    " data-jupman-show=\"Mostra soluzione\" data-jupman-hide=\"Nascondi\">Mostra soluzione</a><div class=\"jupman-sol jupman-sol-code\" style=\"display:none\">  "
   ]
  },
  {
   "cell_type": "code",
   "execution_count": 26,
   "metadata": {},
   "outputs": [
    {
     "name": "stdout",
     "output_type": "stream",
     "text": [
      "[2, 3, 4, 3, 5]\n",
      "[9, 6, 1]\n"
     ]
    }
   ],
   "source": [
    "\n",
    "la = [9,6,1]\n",
    "lb = [2,3,4,3,5]\n",
    "lc = None\n",
    "\n",
    "# scrivi qui\n",
    "\n",
    "lc = la\n",
    "la = lb\n",
    "lb = lc\n",
    "\n",
    "print(la)\n",
    "print(lb)"
   ]
  },
  {
   "cell_type": "raw",
   "id": "69340b8d",
   "metadata": {
    "format": "text/html"
   },
   "source": [
    "</div>"
   ]
  },
  {
   "cell_type": "code",
   "execution_count": 26,
   "metadata": {},
   "outputs": [],
   "source": [
    "\n",
    "la = [9,6,1]\n",
    "lb = [2,3,4,3,5]\n",
    "lc = None\n",
    "\n",
    "# scrivi qui\n",
    "\n"
   ]
  },
  {
   "cell_type": "markdown",
   "metadata": {},
   "source": [
    "### Tabelle \n",
    "\n",
    "Una lista può anche contenere altre liste: "
   ]
  },
  {
   "cell_type": "code",
   "execution_count": 27,
   "metadata": {},
   "outputs": [],
   "source": [
    "tabella = [  ['a','b','c'],  ['d','e','f']  ]"
   ]
  },
  {
   "cell_type": "markdown",
   "metadata": {},
   "source": [
    "Tipicamente, quando abbiamo strutture come questa, conviene disporle su più righe (non è obbligatorio ma conviene per chiarezza): "
   ]
  },
  {
   "cell_type": "code",
   "execution_count": 28,
   "metadata": {},
   "outputs": [],
   "source": [
    "tabella = [                 # inizio listona esterna\n",
    "            ['a','b','c'],    # lista interna 1\n",
    "            ['d','e','f']     # lista interna 2\n",
    "          ]                 # fine listona esterna"
   ]
  },
  {
   "cell_type": "code",
   "execution_count": 29,
   "metadata": {},
   "outputs": [
    {
     "data": {
      "text/plain": [
       "[['a', 'b', 'c'], ['d', 'e', 'f']]"
      ]
     },
     "execution_count": 29,
     "metadata": {},
     "output_type": "execute_result"
    }
   ],
   "source": [
    "tabella"
   ]
  },
  {
   "cell_type": "markdown",
   "metadata": {},
   "source": [
    "Vediamo come viene mostrata in Python Tutor: "
   ]
  },
  {
   "cell_type": "code",
   "execution_count": 30,
   "metadata": {},
   "outputs": [
    {
     "data": {
      "text/html": [
       "\n",
       "        <script src=\"../_static/js/pytutor-embed.bundle.min.js\" type=\"application/javascript\"></script>\n",
       "     \n",
       "        <script id=\"json-jm999a1712-ba1d-4647-9d32-c46a88d70709\" type=\"application/json\" >\n",
       "            {\"code\": \" \\ntabella = [  \\n            ['a','b','c'],  \\n            ['d','e','f']  \\n          ]\", \"trace\": [{\"line\": 3, \"event\": \"step_line\", \"func_name\": \"<module>\", \"globals\": {}, \"ordered_globals\": [], \"stack_to_render\": [], \"heap\": {}, \"stdout\": \"\"}, {\"line\": 4, \"event\": \"step_line\", \"func_name\": \"<module>\", \"globals\": {}, \"ordered_globals\": [], \"stack_to_render\": [], \"heap\": {}, \"stdout\": \"\"}, {\"line\": 4, \"event\": \"return\", \"func_name\": \"<module>\", \"globals\": {\"tabella\": [\"REF\", 1]}, \"ordered_globals\": [\"tabella\"], \"stack_to_render\": [], \"heap\": {\"1\": [\"LIST\", [\"REF\", 2], [\"REF\", 3]], \"2\": [\"LIST\", \"a\", \"b\", \"c\"], \"3\": [\"LIST\", \"d\", \"e\", \"f\"]}, \"stdout\": \"\"}]}\n",
       "        </script>\n",
       "        <div id=\"jm999a1712-ba1d-4647-9d32-c46a88d70709\" class=\"pytutorVisualizer\"> </div>\n",
       " \n",
       "        <style>\n",
       "        .vizLayoutTd {\n",
       "            background-color: #fff !important;\n",
       "        }\n",
       "\n",
       "        #pyStdout {            \n",
       "            min-height:25px;\n",
       "        }\n",
       "\n",
       "        /* 'Edit this code' link, hiding because replaces browser tab !!!*/\n",
       "        #editCodeLinkDiv {\n",
       "            display:none;  \n",
       "        }\n",
       "        </style>   \n",
       "                            \n",
       "        <script>\n",
       "        (function(){\n",
       "\n",
       "            var trace = JSON.parse(document.getElementById('json-jm999a1712-ba1d-4647-9d32-c46a88d70709').innerHTML);                                        \n",
       "            // NOTE 1: id without #\n",
       "            // NOTE 2 - maybe there are more predictable ways, but this will work anyway\n",
       "            //        - id should be number\n",
       "            visualizerIdOverride = Math.trunc(Math.random() * 100000000000)\n",
       "            addVisualizerToPage(trace, 'jm999a1712-ba1d-4647-9d32-c46a88d70709',{'embeddedMode' : false,\n",
       "                                             'visualizerIdOverride':visualizerIdOverride})  \n",
       "            \n",
       "            \n",
       "            // set overflow for pytuts - need to do in python as css \n",
       "            // does not allow parent selection\n",
       "            var pytuts = $('.pytutorVisualizer')\n",
       "            pytuts.closest('div.output_html.rendered_html.output_result')\n",
       "                    .css('overflow-x', 'visible')\n",
       "        \n",
       "            //pytuts.closest('div.output_html.rendered_html.output_result')\n",
       "            //      .css('background-color','red')                \n",
       "            \n",
       "        })()\n",
       "        </script>\n",
       "                \n",
       "                "
      ],
      "text/plain": [
       "<IPython.core.display.HTML object>"
      ]
     },
     "execution_count": 30,
     "metadata": {},
     "output_type": "execute_result"
    }
   ],
   "source": [
    "tabella = [  \n",
    "            ['a','b','c'],  \n",
    "            ['d','e','f']  \n",
    "          ]\n",
    "\n",
    "jupman.pytut()"
   ]
  },
  {
   "cell_type": "markdown",
   "metadata": {},
   "source": [
    "Come detto in precedenza, in una lista possiamo mettere gli elementi che vogliamo, quindi possiamo mischiare  liste di dimensioni diverse, stringhe, numeri, etc:"
   ]
  },
  {
   "cell_type": "code",
   "execution_count": 31,
   "metadata": {},
   "outputs": [],
   "source": [
    "di_tutto = [ \n",
    "               ['ciao',3,'mondo'],            \n",
    "               'una stringa',\n",
    "               [9,5,6,7,3,4],\n",
    "               8,\n",
    "         ]"
   ]
  },
  {
   "cell_type": "code",
   "execution_count": 32,
   "metadata": {},
   "outputs": [
    {
     "name": "stdout",
     "output_type": "stream",
     "text": [
      "[['ciao', 3, 'mondo'], 'una stringa', [9, 5, 6, 7, 3, 4], 8]\n"
     ]
    }
   ],
   "source": [
    "print(di_tutto)"
   ]
  },
  {
   "cell_type": "markdown",
   "metadata": {},
   "source": [
    "Vediamo anche come appare in Python Tutor:"
   ]
  },
  {
   "cell_type": "code",
   "execution_count": 33,
   "metadata": {},
   "outputs": [
    {
     "data": {
      "text/html": [
       "\n",
       "        <script src=\"../_static/js/pytutor-embed.bundle.min.js\" type=\"application/javascript\"></script>\n",
       "     \n",
       "        <script id=\"json-jm6fc63e46-7b42-4191-b14f-069f18f861b9\" type=\"application/json\" >\n",
       "            {\"code\": \" \\ndi_tutto = [ \\n               ['ciao',3,'mondo'],            \\n               'una stringa',\\n               [9,5,6,7,3,4],\\n               8,\\n         ]\", \"trace\": [{\"line\": 3, \"event\": \"step_line\", \"func_name\": \"<module>\", \"globals\": {}, \"ordered_globals\": [], \"stack_to_render\": [], \"heap\": {}, \"stdout\": \"\"}, {\"line\": 4, \"event\": \"step_line\", \"func_name\": \"<module>\", \"globals\": {}, \"ordered_globals\": [], \"stack_to_render\": [], \"heap\": {}, \"stdout\": \"\"}, {\"line\": 5, \"event\": \"step_line\", \"func_name\": \"<module>\", \"globals\": {}, \"ordered_globals\": [], \"stack_to_render\": [], \"heap\": {}, \"stdout\": \"\"}, {\"line\": 6, \"event\": \"step_line\", \"func_name\": \"<module>\", \"globals\": {}, \"ordered_globals\": [], \"stack_to_render\": [], \"heap\": {}, \"stdout\": \"\"}, {\"line\": 6, \"event\": \"return\", \"func_name\": \"<module>\", \"globals\": {\"di_tutto\": [\"REF\", 1]}, \"ordered_globals\": [\"di_tutto\"], \"stack_to_render\": [], \"heap\": {\"1\": [\"LIST\", [\"REF\", 2], \"una stringa\", [\"REF\", 3], 8], \"2\": [\"LIST\", \"ciao\", 3, \"mondo\"], \"3\": [\"LIST\", 9, 5, 6, 7, 3, 4]}, \"stdout\": \"\"}]}\n",
       "        </script>\n",
       "        <div id=\"jm6fc63e46-7b42-4191-b14f-069f18f861b9\" class=\"pytutorVisualizer\"> </div>\n",
       " \n",
       "        <style>\n",
       "        .vizLayoutTd {\n",
       "            background-color: #fff !important;\n",
       "        }\n",
       "\n",
       "        #pyStdout {            \n",
       "            min-height:25px;\n",
       "        }\n",
       "\n",
       "        /* 'Edit this code' link, hiding because replaces browser tab !!!*/\n",
       "        #editCodeLinkDiv {\n",
       "            display:none;  \n",
       "        }\n",
       "        </style>   \n",
       "                            \n",
       "        <script>\n",
       "        (function(){\n",
       "\n",
       "            var trace = JSON.parse(document.getElementById('json-jm6fc63e46-7b42-4191-b14f-069f18f861b9').innerHTML);                                        \n",
       "            // NOTE 1: id without #\n",
       "            // NOTE 2 - maybe there are more predictable ways, but this will work anyway\n",
       "            //        - id should be number\n",
       "            visualizerIdOverride = Math.trunc(Math.random() * 100000000000)\n",
       "            addVisualizerToPage(trace, 'jm6fc63e46-7b42-4191-b14f-069f18f861b9',{'embeddedMode' : false,\n",
       "                                             'visualizerIdOverride':visualizerIdOverride})  \n",
       "            \n",
       "            \n",
       "            // set overflow for pytuts - need to do in python as css \n",
       "            // does not allow parent selection\n",
       "            var pytuts = $('.pytutorVisualizer')\n",
       "            pytuts.closest('div.output_html.rendered_html.output_result')\n",
       "                    .css('overflow-x', 'visible')\n",
       "        \n",
       "            //pytuts.closest('div.output_html.rendered_html.output_result')\n",
       "            //      .css('background-color','red')                \n",
       "            \n",
       "        })()\n",
       "        </script>\n",
       "                \n",
       "                "
      ],
      "text/plain": [
       "<IPython.core.display.HTML object>"
      ]
     },
     "execution_count": 33,
     "metadata": {},
     "output_type": "execute_result"
    }
   ],
   "source": [
    "di_tutto = [ \n",
    "               ['ciao',3,'mondo'],            \n",
    "               'una stringa',\n",
    "               [9,5,6,7,3,4],\n",
    "               8,\n",
    "         ]\n",
    "\n",
    "jupman.pytut()"
   ]
  },
  {
   "cell_type": "markdown",
   "metadata": {},
   "source": [
    "### Domanda - creazione di liste\n",
    "\n",
    "\n",
    "Guarda questi due pezzi di codice.  Per ciascun caso, prova a pensare come possono essere rappresentati in memoria e verifica poi con Python Tutor.\n",
    "\n",
    "- che differenza ci potrà essere?\n",
    "- quante celle di memoria verranno allocate in totale ? \n",
    "- quante frecce vedrai ?\n",
    "\n",
    "```python\n",
    "# primo caso\n",
    "lb = [\n",
    "       [8,6,7],\n",
    "       [8,6,7],\n",
    "       [8,6,7],\n",
    "       [8,6,7],       \n",
    "     ]\n",
    "```\n",
    "\n",
    "```python\n",
    "# secondo caso\n",
    "la = [8,6,7]\n",
    "lb = [\n",
    "       la,\n",
    "       la,\n",
    "       la,\n",
    "       la\n",
    "     ]\n",
    "```"
   ]
  },
  {
   "cell_type": "code",
   "execution_count": 34,
   "metadata": {},
   "outputs": [
    {
     "data": {
      "text/html": [
       "\n",
       "        <script src=\"../_static/js/pytutor-embed.bundle.min.js\" type=\"application/javascript\"></script>\n",
       "     \n",
       "        <script id=\"json-jm1b3cf399-260f-4797-8265-a6df2e693528\" type=\"application/json\" >\n",
       "            {\"code\": \" \\n# primo caso\\nlb = [\\n       [8,6,7],\\n       [8,6,7],\\n       [8,6,7],\\n       [8,6,7],       \\n     ]\", \"trace\": [{\"line\": 4, \"event\": \"step_line\", \"func_name\": \"<module>\", \"globals\": {}, \"ordered_globals\": [], \"stack_to_render\": [], \"heap\": {}, \"stdout\": \"\"}, {\"line\": 5, \"event\": \"step_line\", \"func_name\": \"<module>\", \"globals\": {}, \"ordered_globals\": [], \"stack_to_render\": [], \"heap\": {}, \"stdout\": \"\"}, {\"line\": 6, \"event\": \"step_line\", \"func_name\": \"<module>\", \"globals\": {}, \"ordered_globals\": [], \"stack_to_render\": [], \"heap\": {}, \"stdout\": \"\"}, {\"line\": 7, \"event\": \"step_line\", \"func_name\": \"<module>\", \"globals\": {}, \"ordered_globals\": [], \"stack_to_render\": [], \"heap\": {}, \"stdout\": \"\"}, {\"line\": 7, \"event\": \"return\", \"func_name\": \"<module>\", \"globals\": {\"lb\": [\"REF\", 1]}, \"ordered_globals\": [\"lb\"], \"stack_to_render\": [], \"heap\": {\"1\": [\"LIST\", [\"REF\", 2], [\"REF\", 3], [\"REF\", 4], [\"REF\", 5]], \"2\": [\"LIST\", 8, 6, 7], \"3\": [\"LIST\", 8, 6, 7], \"4\": [\"LIST\", 8, 6, 7], \"5\": [\"LIST\", 8, 6, 7]}, \"stdout\": \"\"}]}\n",
       "        </script>\n",
       "        <div id=\"jm1b3cf399-260f-4797-8265-a6df2e693528\" class=\"pytutorVisualizer\"> </div>\n",
       " \n",
       "        <style>\n",
       "        .vizLayoutTd {\n",
       "            background-color: #fff !important;\n",
       "        }\n",
       "\n",
       "        #pyStdout {            \n",
       "            min-height:25px;\n",
       "        }\n",
       "\n",
       "        /* 'Edit this code' link, hiding because replaces browser tab !!!*/\n",
       "        #editCodeLinkDiv {\n",
       "            display:none;  \n",
       "        }\n",
       "        </style>   \n",
       "                            \n",
       "        <script>\n",
       "        (function(){\n",
       "\n",
       "            var trace = JSON.parse(document.getElementById('json-jm1b3cf399-260f-4797-8265-a6df2e693528').innerHTML);                                        \n",
       "            // NOTE 1: id without #\n",
       "            // NOTE 2 - maybe there are more predictable ways, but this will work anyway\n",
       "            //        - id should be number\n",
       "            visualizerIdOverride = Math.trunc(Math.random() * 100000000000)\n",
       "            addVisualizerToPage(trace, 'jm1b3cf399-260f-4797-8265-a6df2e693528',{'embeddedMode' : false,\n",
       "                                             'visualizerIdOverride':visualizerIdOverride})  \n",
       "            \n",
       "            \n",
       "            // set overflow for pytuts - need to do in python as css \n",
       "            // does not allow parent selection\n",
       "            var pytuts = $('.pytutorVisualizer')\n",
       "            pytuts.closest('div.output_html.rendered_html.output_result')\n",
       "                    .css('overflow-x', 'visible')\n",
       "        \n",
       "            //pytuts.closest('div.output_html.rendered_html.output_result')\n",
       "            //      .css('background-color','red')                \n",
       "            \n",
       "        })()\n",
       "        </script>\n",
       "                \n",
       "                "
      ],
      "text/plain": [
       "<IPython.core.display.HTML object>"
      ]
     },
     "execution_count": 34,
     "metadata": {},
     "output_type": "execute_result"
    }
   ],
   "source": [
    "# primo caso\n",
    "lb = [\n",
    "       [8,6,7],\n",
    "       [8,6,7],\n",
    "       [8,6,7],\n",
    "       [8,6,7],       \n",
    "     ]\n",
    "jupman.pytut()"
   ]
  },
  {
   "cell_type": "code",
   "execution_count": 35,
   "metadata": {},
   "outputs": [
    {
     "data": {
      "text/html": [
       "\n",
       "        <script src=\"../_static/js/pytutor-embed.bundle.min.js\" type=\"application/javascript\"></script>\n",
       "     \n",
       "        <script id=\"json-jm08b23a93-97cf-4cd8-ab52-2181585aa8dc\" type=\"application/json\" >\n",
       "            {\"code\": \" \\n# secondo caso\\n\\nla = [8,6,7]\\nlb = [\\n       la,\\n       la,\\n       la,\\n       la\\n     ]\", \"trace\": [{\"line\": 4, \"event\": \"step_line\", \"func_name\": \"<module>\", \"globals\": {}, \"ordered_globals\": [], \"stack_to_render\": [], \"heap\": {}, \"stdout\": \"\"}, {\"line\": 6, \"event\": \"step_line\", \"func_name\": \"<module>\", \"globals\": {\"la\": [\"REF\", 1]}, \"ordered_globals\": [\"la\"], \"stack_to_render\": [], \"heap\": {\"1\": [\"LIST\", 8, 6, 7]}, \"stdout\": \"\"}, {\"line\": 7, \"event\": \"step_line\", \"func_name\": \"<module>\", \"globals\": {\"la\": [\"REF\", 1]}, \"ordered_globals\": [\"la\"], \"stack_to_render\": [], \"heap\": {\"1\": [\"LIST\", 8, 6, 7]}, \"stdout\": \"\"}, {\"line\": 8, \"event\": \"step_line\", \"func_name\": \"<module>\", \"globals\": {\"la\": [\"REF\", 1]}, \"ordered_globals\": [\"la\"], \"stack_to_render\": [], \"heap\": {\"1\": [\"LIST\", 8, 6, 7]}, \"stdout\": \"\"}, {\"line\": 9, \"event\": \"step_line\", \"func_name\": \"<module>\", \"globals\": {\"la\": [\"REF\", 1]}, \"ordered_globals\": [\"la\"], \"stack_to_render\": [], \"heap\": {\"1\": [\"LIST\", 8, 6, 7]}, \"stdout\": \"\"}, {\"line\": 9, \"event\": \"return\", \"func_name\": \"<module>\", \"globals\": {\"la\": [\"REF\", 1], \"lb\": [\"REF\", 2]}, \"ordered_globals\": [\"la\", \"lb\"], \"stack_to_render\": [], \"heap\": {\"1\": [\"LIST\", 8, 6, 7], \"2\": [\"LIST\", [\"REF\", 1], [\"REF\", 1], [\"REF\", 1], [\"REF\", 1]]}, \"stdout\": \"\"}]}\n",
       "        </script>\n",
       "        <div id=\"jm08b23a93-97cf-4cd8-ab52-2181585aa8dc\" class=\"pytutorVisualizer\"> </div>\n",
       " \n",
       "        <style>\n",
       "        .vizLayoutTd {\n",
       "            background-color: #fff !important;\n",
       "        }\n",
       "\n",
       "        #pyStdout {            \n",
       "            min-height:25px;\n",
       "        }\n",
       "\n",
       "        /* 'Edit this code' link, hiding because replaces browser tab !!!*/\n",
       "        #editCodeLinkDiv {\n",
       "            display:none;  \n",
       "        }\n",
       "        </style>   \n",
       "                            \n",
       "        <script>\n",
       "        (function(){\n",
       "\n",
       "            var trace = JSON.parse(document.getElementById('json-jm08b23a93-97cf-4cd8-ab52-2181585aa8dc').innerHTML);                                        \n",
       "            // NOTE 1: id without #\n",
       "            // NOTE 2 - maybe there are more predictable ways, but this will work anyway\n",
       "            //        - id should be number\n",
       "            visualizerIdOverride = Math.trunc(Math.random() * 100000000000)\n",
       "            addVisualizerToPage(trace, 'jm08b23a93-97cf-4cd8-ab52-2181585aa8dc',{'embeddedMode' : false,\n",
       "                                             'visualizerIdOverride':visualizerIdOverride})  \n",
       "            \n",
       "            \n",
       "            // set overflow for pytuts - need to do in python as css \n",
       "            // does not allow parent selection\n",
       "            var pytuts = $('.pytutorVisualizer')\n",
       "            pytuts.closest('div.output_html.rendered_html.output_result')\n",
       "                    .css('overflow-x', 'visible')\n",
       "        \n",
       "            //pytuts.closest('div.output_html.rendered_html.output_result')\n",
       "            //      .css('background-color','red')                \n",
       "            \n",
       "        })()\n",
       "        </script>\n",
       "                \n",
       "                "
      ],
      "text/plain": [
       "<IPython.core.display.HTML object>"
      ]
     },
     "execution_count": 35,
     "metadata": {},
     "output_type": "execute_result"
    }
   ],
   "source": [
    "# secondo caso\n",
    "\n",
    "la = [8,6,7]\n",
    "lb = [\n",
    "       la,\n",
    "       la,\n",
    "       la,\n",
    "       la\n",
    "     ]\n",
    "jupman.pytut()"
   ]
  },
  {
   "cell_type": "raw",
   "id": "c049374c",
   "metadata": {
    "format": "text/html"
   },
   "source": [
    "<a  class=\"jupman-sol jupman-sol-toggler\" \n",
    " onclick=\"jupman.toggleSolution(this);\" \n",
    " data-jupman-show=\"Mostra risposta\" data-jupman-hide=\"Nascondi\">Mostra risposta</a><div class=\"jupman-sol jupman-sol-question\" style=\"display:none\">  "
   ]
  },
  {
   "cell_type": "markdown",
   "metadata": {},
   "source": [
    "**RISPOSTA**:  Nel primo caso, abbiamo una 'listona' associata alla variabile `lb` che contiene 4 sottoliste ciascuna da 3 elementi. Ogni sottolista viene creata come nuova, quindi in totale in memoria abbiamo 4 celle della listona `lb` + (4 sottoliste * 3 celle ciascuna) = 16 celle \n",
    "\n",
    "Nel secondo caso invece abbiamo sempre la 'listona' associata alla variabile `lb` da 4 celle, ma al suo interno contiene dei puntatori alla stessa identica lista `la`. Quindi il numero totale di celle occupate è 4 celle della listona `lb` + (1 sottolista * 3 celle) = 7 celle"
   ]
  },
  {
   "cell_type": "raw",
   "id": "7b288ea2",
   "metadata": {
    "format": "text/html"
   },
   "source": [
    "</div>"
   ]
  },
  {
   "cell_type": "markdown",
   "metadata": {},
   "source": [
    "### Esercizio - domino\n",
    "\n",
    "Nel tuo quartiere stanno organizzando un super torneo di domino, visto che il primo premio consiste in una tessera per ottenere 10 crostate dalla mitica Nonna Severina decidi di impegnarti seriamente.\n",
    "\n",
    "Inizi a pensare a come allenarti e decidi di iniziare a accodare le tessere in maniera corretta.\n",
    "\n",
    "```python\n",
    "tessera1 = [1,3]\n",
    "tessera3 = [1,5]\n",
    "tessera2 = [3,9]\n",
    "tessera5 = [9,7]\n",
    "tessera4 = [8,2]\n",
    "```\n",
    "\n",
    "Date queste tessere genera una lista che conterrà a sua volta due liste: nella prima inserisci una possibile sequenza di tessere collegate; nella seconda lista invece metti le tessere rimaste escluse dalla sequenza di prima.\n",
    "\n",
    "Esempio:\n",
    "\n",
    "```python\n",
    "[  [ [1, 3], [3, 9], [9, 7] ],   [ [1, 5], [8, 2]  ]  ]\n",
    "```\n",
    "\n",
    "* **NON scrivere numeri**\n",
    "* **USA** solo liste di variabili"
   ]
  },
  {
   "cell_type": "raw",
   "id": "2e02b81a",
   "metadata": {
    "format": "text/html"
   },
   "source": [
    "<a  class=\"jupman-sol jupman-sol-toggler\" \n",
    " onclick=\"jupman.toggleSolution(this);\" \n",
    " data-jupman-show=\"Mostra soluzione\" data-jupman-hide=\"Nascondi\">Mostra soluzione</a><div class=\"jupman-sol jupman-sol-code\" style=\"display:none\">  "
   ]
  },
  {
   "cell_type": "code",
   "execution_count": 36,
   "metadata": {},
   "outputs": [
    {
     "name": "stdout",
     "output_type": "stream",
     "text": [
      "[[[1, 3], [3, 3], [3, 2], [2, 4]], [[1, 5], [5, 4], [1, 2]]]\n"
     ]
    }
   ],
   "source": [
    "\n",
    "tessera1 = [1,3]\n",
    "tessera2 = [3,2]\n",
    "tessera3 = [1,5]\n",
    "tessera4 = [2,4]\n",
    "tessera5 = [3,3]\n",
    "tessera6 = [5,4]\n",
    "tessera7 = [1,2]\n",
    "\n",
    "# scrivi qui\n",
    "sequenza = [tessera1, tessera5, tessera2, tessera4]\n",
    "spaiate = [tessera3, tessera6, tessera7]\n",
    "print([sequenza, spaiate])"
   ]
  },
  {
   "cell_type": "raw",
   "id": "a8e99729",
   "metadata": {
    "format": "text/html"
   },
   "source": [
    "</div>"
   ]
  },
  {
   "cell_type": "code",
   "execution_count": 36,
   "metadata": {},
   "outputs": [],
   "source": [
    "\n",
    "tessera1 = [1,3]\n",
    "tessera2 = [3,2]\n",
    "tessera3 = [1,5]\n",
    "tessera4 = [2,4]\n",
    "tessera5 = [3,3]\n",
    "tessera6 = [5,4]\n",
    "tessera7 = [1,2]\n",
    "\n",
    "# scrivi qui\n",
    "\n"
   ]
  },
  {
   "cell_type": "markdown",
   "metadata": {},
   "source": [
    "### Esercizio - creare liste 2\n",
    "\n",
    "Inserisci dei valori nelle liste `la`, `lb` tali per cui\n",
    "\n",
    "```python\n",
    "print([[la,la],[lb,la]])\n",
    "```\n",
    "\n",
    "stampi\n",
    "\n",
    "```\n",
    "[[[8, 4], [8, 4]], [[4, 8, 4], [8, 4]]]\n",
    "```\n",
    "\n",
    "* **inserisci solo dei NUMERI**\n",
    "* Osserva in Python Tutor come vengono raffigurate le frecce"
   ]
  },
  {
   "cell_type": "code",
   "execution_count": 37,
   "metadata": {},
   "outputs": [
    {
     "name": "stdout",
     "output_type": "stream",
     "text": [
      "[[[], []], [[], []]]\n"
     ]
    }
   ],
   "source": [
    "la = []  # inserisci dei numeri\n",
    "lb = []  # inserisci dei numeri\n",
    "\n",
    "print([[la,la],[lb,la]])"
   ]
  },
  {
   "cell_type": "raw",
   "id": "f1bb69a5",
   "metadata": {
    "format": "text/html"
   },
   "source": [
    "<a  class=\"jupman-sol jupman-sol-toggler\" \n",
    " onclick=\"jupman.toggleSolution(this);\" \n",
    " data-jupman-show=\"Mostra soluzione\" data-jupman-hide=\"Nascondi\">Mostra soluzione</a><div class=\"jupman-sol jupman-sol-code\" style=\"display:none\">  "
   ]
  },
  {
   "cell_type": "code",
   "execution_count": 38,
   "metadata": {},
   "outputs": [
    {
     "name": "stdout",
     "output_type": "stream",
     "text": [
      "[[[8, 4], [8, 4]], [[4, 8, 4], [8, 4]]]\n"
     ]
    }
   ],
   "source": [
    "# SOLUZIONE\n",
    "\n",
    "\n",
    "la = [8,4]\n",
    "lb = [4,8,4]\n",
    "\n",
    "print([[la,la],[lb,la]])"
   ]
  },
  {
   "cell_type": "raw",
   "id": "73e62c32",
   "metadata": {
    "format": "text/html"
   },
   "source": [
    "</div>"
   ]
  },
  {
   "cell_type": "code",
   "execution_count": 38,
   "metadata": {},
   "outputs": [],
   "source": []
  },
  {
   "cell_type": "markdown",
   "metadata": {},
   "source": [
    "### Esercizio - creare liste 3\n",
    "\n",
    "Inserire dei valori come elementi delle liste `la`, `lb` e `lc` tali per cui \n",
    "\n",
    "```python\n",
    "print([[lb,lb,[lc,la]],lc])\n",
    "```\n",
    "\n",
    "stampi\n",
    "\n",
    "```\n",
    "[[[8, [7, 7]], [8, [7, 7]], [[8, 7], [8, 5]]], [8, 7]]\n",
    "```\n",
    "\n",
    "* **inseriri solo NUMERI oppure NUOVE LISTE DI NUMERI**\n",
    "* Osservare in Python Tutor come vengono raffigurate le frecce"
   ]
  },
  {
   "cell_type": "code",
   "execution_count": 39,
   "metadata": {},
   "outputs": [
    {
     "name": "stdout",
     "output_type": "stream",
     "text": [
      "[[[], [], [[], []]], []]\n"
     ]
    }
   ],
   "source": [
    "\n",
    "la = []  # inserisci elementi  (numeri o liste di numeri)\n",
    "lb = []  # inserisci elementi  (numeri o liste di numeri)\n",
    "lc = []  # inserisci elementi  (numeri o liste di numeri)\n",
    "\n",
    "print([[lb,lb,[lc,la]],lc])"
   ]
  },
  {
   "cell_type": "raw",
   "id": "b920e723",
   "metadata": {
    "format": "text/html"
   },
   "source": [
    "<a  class=\"jupman-sol jupman-sol-toggler\" \n",
    " onclick=\"jupman.toggleSolution(this);\" \n",
    " data-jupman-show=\"Mostra soluzione\" data-jupman-hide=\"Nascondi\">Mostra soluzione</a><div class=\"jupman-sol jupman-sol-code\" style=\"display:none\">  "
   ]
  },
  {
   "cell_type": "code",
   "execution_count": 40,
   "metadata": {},
   "outputs": [
    {
     "name": "stdout",
     "output_type": "stream",
     "text": [
      "[[[8, [7, 7]], [8, [7, 7]], [[8, 7], [8, 5]]], [8, 7]]\n"
     ]
    }
   ],
   "source": [
    "# SOLUZIONE\n",
    "\n",
    "\n",
    "la = [8,5]\n",
    "lb = [8,[7,7]]\n",
    "lc = [8,7]\n",
    "\n",
    "print([[lb,lb,[lc,la]],lc])"
   ]
  },
  {
   "cell_type": "raw",
   "id": "aaf523c4",
   "metadata": {
    "format": "text/html"
   },
   "source": [
    "</div>"
   ]
  },
  {
   "cell_type": "code",
   "execution_count": 40,
   "metadata": {},
   "outputs": [],
   "source": []
  },
  {
   "cell_type": "markdown",
   "metadata": {},
   "source": [
    "### Esercizio - creare liste 4\n",
    "\n",
    "\n",
    "Inserire dei valori nelle liste `la`, `lb` tali per cui \n",
    "\n",
    "```python\n",
    "print([[la,lc,la], lb])\n",
    "```\n",
    "\n",
    "stampi\n",
    "\n",
    "```\n",
    "[[[3, 2], [[3, 2], [8, [3, 2]]], [3, 2]], [8, [3, 2]]]\n",
    "```\n",
    "\n",
    "* **inserire solo NUMERI oppure VARIABILI** `la`,`lb` o `lc`\n",
    "* Osservare in Python tutor come vengono raffigurate le frecce"
   ]
  },
  {
   "cell_type": "code",
   "execution_count": 41,
   "metadata": {},
   "outputs": [
    {
     "name": "stdout",
     "output_type": "stream",
     "text": [
      "[[[], [], []], []]\n"
     ]
    }
   ],
   "source": [
    "la = []  # inserisci numeri o variabili la, lb, lc\n",
    "lb = []  # inserisci numeri o variabili la, lb, lc\n",
    "lc = []  # inserisci numeri o variabili la, lb, lc\n",
    "\n",
    "print([[la,lc,la], lb])"
   ]
  },
  {
   "cell_type": "raw",
   "id": "a8df387e",
   "metadata": {
    "format": "text/html"
   },
   "source": [
    "<a  class=\"jupman-sol jupman-sol-toggler\" \n",
    " onclick=\"jupman.toggleSolution(this);\" \n",
    " data-jupman-show=\"Mostra soluzione\" data-jupman-hide=\"Nascondi\">Mostra soluzione</a><div class=\"jupman-sol jupman-sol-code\" style=\"display:none\">  "
   ]
  },
  {
   "cell_type": "code",
   "execution_count": 42,
   "metadata": {},
   "outputs": [
    {
     "name": "stdout",
     "output_type": "stream",
     "text": [
      "[[[3, 2], [[3, 2], [8, [3, 2]]], [3, 2]], [8, [3, 2]]]\n"
     ]
    }
   ],
   "source": [
    "# SOLUZIONE\n",
    "\n",
    "la = [3,2]\n",
    "lb = [8,la]\n",
    "lc = [la,lb]\n",
    "\n",
    "print([[la,lc,la], lb])"
   ]
  },
  {
   "cell_type": "raw",
   "id": "4175ff6d",
   "metadata": {
    "format": "text/html"
   },
   "source": [
    "</div>"
   ]
  },
  {
   "cell_type": "code",
   "execution_count": 42,
   "metadata": {},
   "outputs": [],
   "source": []
  },
  {
   "cell_type": "markdown",
   "metadata": {},
   "source": [
    "## Convertire sequenze in liste"
   ]
  },
  {
   "cell_type": "markdown",
   "metadata": {},
   "source": [
    "`list` può anche servire per convertire una qualsiasi sequenza in una NUOVA lista. Un tipo di sequenza che già abbiamo visto sono le stringhe, quindi proviamo a vedere cosa succede se usiamo `list` come fosse una funzione e gli passiamo come parametro una stringa: "
   ]
  },
  {
   "cell_type": "code",
   "execution_count": 43,
   "metadata": {},
   "outputs": [
    {
     "data": {
      "text/plain": [
       "['t', 'r', 'e', 'n', 'o']"
      ]
     },
     "execution_count": 43,
     "metadata": {},
     "output_type": "execute_result"
    }
   ],
   "source": [
    "list(\"treno\")"
   ]
  },
  {
   "cell_type": "markdown",
   "metadata": {},
   "source": [
    "Abbiamo ottenuto una lista in cui ogni elemento è costituito da un carattere della stringa originale."
   ]
  },
  {
   "cell_type": "markdown",
   "metadata": {},
   "source": [
    "Se invece chiamiamo `list` su un'altra lista cosa succede?"
   ]
  },
  {
   "cell_type": "code",
   "execution_count": 44,
   "metadata": {},
   "outputs": [
    {
     "data": {
      "text/plain": [
       "[7, 9, 5, 6]"
      ]
     },
     "execution_count": 44,
     "metadata": {},
     "output_type": "execute_result"
    }
   ],
   "source": [
    "list( [7,9,5,6] )"
   ]
  },
  {
   "cell_type": "markdown",
   "metadata": {},
   "source": [
    "Apparentemente, niente di particolare, otteniamo una lista con gli stessi elementi di partenza. Ma è proprio la stessa lista? Guardiamo meglio con Python Tutor:"
   ]
  },
  {
   "cell_type": "code",
   "execution_count": 45,
   "metadata": {},
   "outputs": [
    {
     "data": {
      "text/html": [
       "\n",
       "        <script src=\"../_static/js/pytutor-embed.bundle.min.js\" type=\"application/javascript\"></script>\n",
       "     \n",
       "        <script id=\"json-jmdd351cf0-b047-4129-8982-6f1f5bc26d77\" type=\"application/json\" >\n",
       "            {\"code\": \" \\nla = [7,9,5,6] \\n\\nlb = list( la )\", \"trace\": [{\"line\": 2, \"event\": \"step_line\", \"func_name\": \"<module>\", \"globals\": {}, \"ordered_globals\": [], \"stack_to_render\": [], \"heap\": {}, \"stdout\": \"\"}, {\"line\": 4, \"event\": \"step_line\", \"func_name\": \"<module>\", \"globals\": {\"la\": [\"REF\", 1]}, \"ordered_globals\": [\"la\"], \"stack_to_render\": [], \"heap\": {\"1\": [\"LIST\", 7, 9, 5, 6]}, \"stdout\": \"\"}, {\"line\": 4, \"event\": \"return\", \"func_name\": \"<module>\", \"globals\": {\"la\": [\"REF\", 1], \"lb\": [\"REF\", 2]}, \"ordered_globals\": [\"la\", \"lb\"], \"stack_to_render\": [], \"heap\": {\"1\": [\"LIST\", 7, 9, 5, 6], \"2\": [\"LIST\", 7, 9, 5, 6]}, \"stdout\": \"\"}]}\n",
       "        </script>\n",
       "        <div id=\"jmdd351cf0-b047-4129-8982-6f1f5bc26d77\" class=\"pytutorVisualizer\"> </div>\n",
       " \n",
       "        <style>\n",
       "        .vizLayoutTd {\n",
       "            background-color: #fff !important;\n",
       "        }\n",
       "\n",
       "        #pyStdout {            \n",
       "            min-height:25px;\n",
       "        }\n",
       "\n",
       "        /* 'Edit this code' link, hiding because replaces browser tab !!!*/\n",
       "        #editCodeLinkDiv {\n",
       "            display:none;  \n",
       "        }\n",
       "        </style>   \n",
       "                            \n",
       "        <script>\n",
       "        (function(){\n",
       "\n",
       "            var trace = JSON.parse(document.getElementById('json-jmdd351cf0-b047-4129-8982-6f1f5bc26d77').innerHTML);                                        \n",
       "            // NOTE 1: id without #\n",
       "            // NOTE 2 - maybe there are more predictable ways, but this will work anyway\n",
       "            //        - id should be number\n",
       "            visualizerIdOverride = Math.trunc(Math.random() * 100000000000)\n",
       "            addVisualizerToPage(trace, 'jmdd351cf0-b047-4129-8982-6f1f5bc26d77',{'embeddedMode' : false,\n",
       "                                             'visualizerIdOverride':visualizerIdOverride})  \n",
       "            \n",
       "            \n",
       "            // set overflow for pytuts - need to do in python as css \n",
       "            // does not allow parent selection\n",
       "            var pytuts = $('.pytutorVisualizer')\n",
       "            pytuts.closest('div.output_html.rendered_html.output_result')\n",
       "                    .css('overflow-x', 'visible')\n",
       "        \n",
       "            //pytuts.closest('div.output_html.rendered_html.output_result')\n",
       "            //      .css('background-color','red')                \n",
       "            \n",
       "        })()\n",
       "        </script>\n",
       "                \n",
       "                "
      ],
      "text/plain": [
       "<IPython.core.display.HTML object>"
      ]
     },
     "execution_count": 45,
     "metadata": {},
     "output_type": "execute_result"
    }
   ],
   "source": [
    "la = [7,9,5,6] \n",
    "\n",
    "lb = list( la )\n",
    "\n",
    "jupman.pytut()"
   ]
  },
  {
   "cell_type": "markdown",
   "metadata": {},
   "source": [
    "\n",
    "Notiamo che è stata creata una NUOVA regione di memoria con gli stessi elementi di `la`."
   ]
  },
  {
   "cell_type": "markdown",
   "metadata": {},
   "source": [
    "### Esercizio - gulp\n",
    "\n",
    "Data una stringa con caratteri misti minuscoli e maiuscoli, scrivere del codice che crea una lista contente come primo elemento una lista coi caratteri della stringa tutti minuscoli e come secondo elemento una lista contenente tutti i caratteri maiuscoli\n",
    "\n",
    "* il tuo codice deve funzionare con qualunque stringa\n",
    "* se non ricordi i metodi delle stringhe, [guarda qui](https://it.softpython.org/strings/strings3-sol.html)\n",
    "\n",
    "Esempio - dato\n",
    "\n",
    "```python\n",
    "s = 'GuLp'\n",
    "```\n",
    "\n",
    "il tuo codice dovrà stampare\n",
    "\n",
    "```\n",
    "[['g', 'u', 'l', 'p'], ['G', 'U', 'L', 'P']]\n",
    "```\n"
   ]
  },
  {
   "cell_type": "raw",
   "id": "64a91a2a",
   "metadata": {
    "format": "text/html"
   },
   "source": [
    "<a  class=\"jupman-sol jupman-sol-toggler\" \n",
    " onclick=\"jupman.toggleSolution(this);\" \n",
    " data-jupman-show=\"Mostra soluzione\" data-jupman-hide=\"Nascondi\">Mostra soluzione</a><div class=\"jupman-sol jupman-sol-code\" style=\"display:none\">  "
   ]
  },
  {
   "cell_type": "code",
   "execution_count": 46,
   "metadata": {},
   "outputs": [
    {
     "name": "stdout",
     "output_type": "stream",
     "text": [
      "[['g', 'u', 'l', 'p'], ['G', 'U', 'L', 'P']]\n"
     ]
    }
   ],
   "source": [
    "\n",
    "s = 'GuLp'\n",
    "\n",
    "# scrivi qui\n",
    "print([list(s.lower()), list(s.upper())])"
   ]
  },
  {
   "cell_type": "raw",
   "id": "9547629d",
   "metadata": {
    "format": "text/html"
   },
   "source": [
    "</div>"
   ]
  },
  {
   "cell_type": "code",
   "execution_count": 46,
   "metadata": {},
   "outputs": [],
   "source": [
    "\n",
    "s = 'GuLp'\n",
    "\n",
    "# scrivi qui\n",
    "\n"
   ]
  },
  {
   "cell_type": "markdown",
   "metadata": {},
   "source": [
    "### Domanda - maratona\n",
    "\n",
    "Questo codice:\n",
    "\n",
    "- produce un errore o assegna qualcosa ad `x` ? \n",
    "- Dopo la sua esecuzione, quante liste rimangono in memoria?\n",
    "- Possiamo accorciarlo?"
   ]
  },
  {
   "cell_type": "markdown",
   "metadata": {},
   "source": [
    "```python\n",
    "s = \"maratona\"\n",
    "x = list(list(list(list(s))))\n",
    "```"
   ]
  },
  {
   "cell_type": "raw",
   "id": "aa7975ce",
   "metadata": {
    "format": "text/html"
   },
   "source": [
    "<a  class=\"jupman-sol jupman-sol-toggler\" \n",
    " onclick=\"jupman.toggleSolution(this);\" \n",
    " data-jupman-show=\"Mostra risposta\" data-jupman-hide=\"Nascondi\">Mostra risposta</a><div class=\"jupman-sol jupman-sol-question\" style=\"display:none\">  "
   ]
  },
  {
   "cell_type": "markdown",
   "metadata": {},
   "source": [
    "**RISPOSTA**: Il codice assegna alla variabile `x` la lista `['m', 'a', 'r', 'a', 't', 'o', 'n', 'a']`. La prima volta `list(s)` genera la NUOVA lista `['m', 'a', 'r', 'a', 't', 'o', 'n', 'a']`. Le successive chiamate a `list` prendono in input la lista appena generata `['m', 'a', 'r', 'a', 't', 'o', 'n', 'a']` e continuano a creare NUOVE liste con contenuto identico. Dato che però nessuna lista prodotta eccetto l'ultima viene assegnata ad una variabile, quelle intermedie alla fine dell'esecuzione vengono di fatto eliminate. Possiamo quindi tranquillamente accorciare il codice scrivendo \n",
    "\n",
    "```python\n",
    "s = \"maratona\"\n",
    "x = list(s)\n",
    "```"
   ]
  },
  {
   "cell_type": "raw",
   "id": "5613dec1",
   "metadata": {
    "format": "text/html"
   },
   "source": [
    "</div>"
   ]
  },
  {
   "cell_type": "markdown",
   "metadata": {},
   "source": [
    "### Domanda - catena\n",
    "\n",
    "Questo codice:\n",
    "\n",
    "- produce un errore o assegna qualcosa ad `x` ? \n",
    "- Dopo la sua esecuzione, quante liste rimangono in memoria?\n",
    "\n",
    "\n",
    "```python\n",
    "s = \"catena\"\n",
    "a = list(s)\n",
    "b = list(a)\n",
    "c = b\n",
    "x = list(c)\n",
    "```"
   ]
  },
  {
   "cell_type": "raw",
   "id": "80f88a6f",
   "metadata": {
    "format": "text/html"
   },
   "source": [
    "<a  class=\"jupman-sol jupman-sol-toggler\" \n",
    " onclick=\"jupman.toggleSolution(this);\" \n",
    " data-jupman-show=\"Mostra risposta\" data-jupman-hide=\"Nascondi\">Mostra risposta</a><div class=\"jupman-sol jupman-sol-question\" style=\"display:none\">  "
   ]
  },
  {
   "cell_type": "markdown",
   "metadata": {},
   "source": [
    "**RISPOSTA**: Rimangono in memoria 3 liste ognuna contenente 6 celle. Questa volta le liste permangono in memoria perchè sono associate alle variabili `a`,`b` e `c`. Abbiamo 3 e non 4 liste perchè con l'istruzione `c = b` la variabile `c` viene associata alla stessa identica regione di memoria associata alla variabile `b`"
   ]
  },
  {
   "cell_type": "raw",
   "id": "e2f747de",
   "metadata": {
    "format": "text/html"
   },
   "source": [
    "</div>"
   ]
  },
  {
   "cell_type": "markdown",
   "metadata": {},
   "source": [
    "### Esercizio - garaga\n",
    "\n",
    "Date \n",
    "\n",
    "```python\n",
    "sa = \"ga\"\n",
    "sb = \"ra\"\n",
    "la = ['ga']\n",
    "lb = list(la)\n",
    "```\n",
    "\n",
    "* Assegnare ad `lc` una lista costruita in modo che una volta stampata produca\n",
    "\n",
    "```python\n",
    ">>> print(lc)\n",
    "```\n",
    "```python\n",
    "[['g', 'a', 'r', 'a'], ['ga'], ['ga'], ['r', 'a', 'g', 'a']]\n",
    "```\n",
    "\n",
    "* **in Python Tutor, TUTTE le frecce dovranno puntare ad una regione di memoria diversa**\n"
   ]
  },
  {
   "cell_type": "code",
   "execution_count": 47,
   "metadata": {},
   "outputs": [
    {
     "name": "stdout",
     "output_type": "stream",
     "text": [
      "[]\n"
     ]
    },
    {
     "data": {
      "text/html": [
       "\n",
       "        <script src=\"../_static/js/pytutor-embed.bundle.min.js\" type=\"application/javascript\"></script>\n",
       "     \n",
       "        <script id=\"json-jm031cbbe3-fb9d-42e0-9280-09c724d531b3\" type=\"application/json\" >\n",
       "            {\"code\": \" \\nsa = \\\"ga\\\"\\nsb = \\\"ra\\\"\\nla = ['ga']\\nlb = list(la)\\n\\n# inserire del codice nella lista\\nlc = []  \\n\\nprint(lc)\", \"trace\": [{\"line\": 2, \"event\": \"step_line\", \"func_name\": \"<module>\", \"globals\": {}, \"ordered_globals\": [], \"stack_to_render\": [], \"heap\": {}, \"stdout\": \"\"}, {\"line\": 3, \"event\": \"step_line\", \"func_name\": \"<module>\", \"globals\": {\"sa\": \"ga\"}, \"ordered_globals\": [\"sa\"], \"stack_to_render\": [], \"heap\": {}, \"stdout\": \"\"}, {\"line\": 4, \"event\": \"step_line\", \"func_name\": \"<module>\", \"globals\": {\"sa\": \"ga\", \"sb\": \"ra\"}, \"ordered_globals\": [\"sa\", \"sb\"], \"stack_to_render\": [], \"heap\": {}, \"stdout\": \"\"}, {\"line\": 5, \"event\": \"step_line\", \"func_name\": \"<module>\", \"globals\": {\"sa\": \"ga\", \"sb\": \"ra\", \"la\": [\"REF\", 1]}, \"ordered_globals\": [\"sa\", \"sb\", \"la\"], \"stack_to_render\": [], \"heap\": {\"1\": [\"LIST\", \"ga\"]}, \"stdout\": \"\"}, {\"line\": 8, \"event\": \"step_line\", \"func_name\": \"<module>\", \"globals\": {\"sa\": \"ga\", \"sb\": \"ra\", \"la\": [\"REF\", 1], \"lb\": [\"REF\", 2]}, \"ordered_globals\": [\"sa\", \"sb\", \"la\", \"lb\"], \"stack_to_render\": [], \"heap\": {\"1\": [\"LIST\", \"ga\"], \"2\": [\"LIST\", \"ga\"]}, \"stdout\": \"\"}, {\"line\": 10, \"event\": \"step_line\", \"func_name\": \"<module>\", \"globals\": {\"sa\": \"ga\", \"sb\": \"ra\", \"la\": [\"REF\", 1], \"lb\": [\"REF\", 2], \"lc\": [\"REF\", 3]}, \"ordered_globals\": [\"sa\", \"sb\", \"la\", \"lb\", \"lc\"], \"stack_to_render\": [], \"heap\": {\"1\": [\"LIST\", \"ga\"], \"2\": [\"LIST\", \"ga\"], \"3\": [\"LIST\"]}, \"stdout\": \"\"}, {\"line\": 10, \"event\": \"return\", \"func_name\": \"<module>\", \"globals\": {\"sa\": \"ga\", \"sb\": \"ra\", \"la\": [\"REF\", 1], \"lb\": [\"REF\", 2], \"lc\": [\"REF\", 3]}, \"ordered_globals\": [\"sa\", \"sb\", \"la\", \"lb\", \"lc\"], \"stack_to_render\": [], \"heap\": {\"1\": [\"LIST\", \"ga\"], \"2\": [\"LIST\", \"ga\"], \"3\": [\"LIST\"]}, \"stdout\": \"[]\\n\"}]}\n",
       "        </script>\n",
       "        <div id=\"jm031cbbe3-fb9d-42e0-9280-09c724d531b3\" class=\"pytutorVisualizer\"> </div>\n",
       " \n",
       "        <style>\n",
       "        .vizLayoutTd {\n",
       "            background-color: #fff !important;\n",
       "        }\n",
       "\n",
       "        #pyStdout {            \n",
       "            min-height:25px;\n",
       "        }\n",
       "\n",
       "        /* 'Edit this code' link, hiding because replaces browser tab !!!*/\n",
       "        #editCodeLinkDiv {\n",
       "            display:none;  \n",
       "        }\n",
       "        </style>   \n",
       "                            \n",
       "        <script>\n",
       "        (function(){\n",
       "\n",
       "            var trace = JSON.parse(document.getElementById('json-jm031cbbe3-fb9d-42e0-9280-09c724d531b3').innerHTML);                                        \n",
       "            // NOTE 1: id without #\n",
       "            // NOTE 2 - maybe there are more predictable ways, but this will work anyway\n",
       "            //        - id should be number\n",
       "            visualizerIdOverride = Math.trunc(Math.random() * 100000000000)\n",
       "            addVisualizerToPage(trace, 'jm031cbbe3-fb9d-42e0-9280-09c724d531b3',{'embeddedMode' : false,\n",
       "                                             'visualizerIdOverride':visualizerIdOverride})  \n",
       "            \n",
       "            \n",
       "            // set overflow for pytuts - need to do in python as css \n",
       "            // does not allow parent selection\n",
       "            var pytuts = $('.pytutorVisualizer')\n",
       "            pytuts.closest('div.output_html.rendered_html.output_result')\n",
       "                    .css('overflow-x', 'visible')\n",
       "        \n",
       "            //pytuts.closest('div.output_html.rendered_html.output_result')\n",
       "            //      .css('background-color','red')                \n",
       "            \n",
       "        })()\n",
       "        </script>\n",
       "                \n",
       "                "
      ],
      "text/plain": [
       "<IPython.core.display.HTML object>"
      ]
     },
     "execution_count": 47,
     "metadata": {},
     "output_type": "execute_result"
    }
   ],
   "source": [
    "sa = \"ga\"\n",
    "sb = \"ra\"\n",
    "la = ['ga']\n",
    "lb = list(la)\n",
    "\n",
    "# inserire del codice nella lista\n",
    "lc = []  \n",
    "\n",
    "print(lc)\n",
    "jupman.pytut()"
   ]
  },
  {
   "cell_type": "raw",
   "id": "b7b20619",
   "metadata": {
    "format": "text/html"
   },
   "source": [
    "<a  class=\"jupman-sol jupman-sol-toggler\" \n",
    " onclick=\"jupman.toggleSolution(this);\" \n",
    " data-jupman-show=\"Mostra soluzione\" data-jupman-hide=\"Nascondi\">Mostra soluzione</a><div class=\"jupman-sol jupman-sol-code\" style=\"display:none\">  "
   ]
  },
  {
   "cell_type": "code",
   "execution_count": 48,
   "metadata": {},
   "outputs": [
    {
     "name": "stdout",
     "output_type": "stream",
     "text": [
      "[['g', 'a', 'r', 'a'], ['ga'], ['ga'], ['r', 'a', 'g', 'a']]\n"
     ]
    },
    {
     "data": {
      "text/html": [
       "\n",
       "        <script src=\"../_static/js/pytutor-embed.bundle.min.js\" type=\"application/javascript\"></script>\n",
       "     \n",
       "        <script id=\"json-jmc4facfd6-0395-4641-baf4-692359bb4347\" type=\"application/json\" >\n",
       "            {\"code\": \" \\n# SOLUZIONE\\n\\nsa = \\\"ga\\\"\\nsb = \\\"ra\\\"\\nla = ['ga']\\nlb = list(la)\\nlc = [list(sa + sb), list(la), list(lb), list(sb + sa) ]\\n\\nprint(lc)\", \"trace\": [{\"line\": 4, \"event\": \"step_line\", \"func_name\": \"<module>\", \"globals\": {}, \"ordered_globals\": [], \"stack_to_render\": [], \"heap\": {}, \"stdout\": \"\"}, {\"line\": 5, \"event\": \"step_line\", \"func_name\": \"<module>\", \"globals\": {\"sa\": \"ga\"}, \"ordered_globals\": [\"sa\"], \"stack_to_render\": [], \"heap\": {}, \"stdout\": \"\"}, {\"line\": 6, \"event\": \"step_line\", \"func_name\": \"<module>\", \"globals\": {\"sa\": \"ga\", \"sb\": \"ra\"}, \"ordered_globals\": [\"sa\", \"sb\"], \"stack_to_render\": [], \"heap\": {}, \"stdout\": \"\"}, {\"line\": 7, \"event\": \"step_line\", \"func_name\": \"<module>\", \"globals\": {\"sa\": \"ga\", \"sb\": \"ra\", \"la\": [\"REF\", 1]}, \"ordered_globals\": [\"sa\", \"sb\", \"la\"], \"stack_to_render\": [], \"heap\": {\"1\": [\"LIST\", \"ga\"]}, \"stdout\": \"\"}, {\"line\": 8, \"event\": \"step_line\", \"func_name\": \"<module>\", \"globals\": {\"sa\": \"ga\", \"sb\": \"ra\", \"la\": [\"REF\", 1], \"lb\": [\"REF\", 2]}, \"ordered_globals\": [\"sa\", \"sb\", \"la\", \"lb\"], \"stack_to_render\": [], \"heap\": {\"1\": [\"LIST\", \"ga\"], \"2\": [\"LIST\", \"ga\"]}, \"stdout\": \"\"}, {\"line\": 10, \"event\": \"step_line\", \"func_name\": \"<module>\", \"globals\": {\"sa\": \"ga\", \"sb\": \"ra\", \"la\": [\"REF\", 1], \"lb\": [\"REF\", 2], \"lc\": [\"REF\", 3]}, \"ordered_globals\": [\"sa\", \"sb\", \"la\", \"lb\", \"lc\"], \"stack_to_render\": [], \"heap\": {\"1\": [\"LIST\", \"ga\"], \"2\": [\"LIST\", \"ga\"], \"3\": [\"LIST\", [\"REF\", 4], [\"REF\", 5], [\"REF\", 6], [\"REF\", 7]], \"4\": [\"LIST\", \"g\", \"a\", \"r\", \"a\"], \"5\": [\"LIST\", \"ga\"], \"6\": [\"LIST\", \"ga\"], \"7\": [\"LIST\", \"r\", \"a\", \"g\", \"a\"]}, \"stdout\": \"\"}, {\"line\": 10, \"event\": \"return\", \"func_name\": \"<module>\", \"globals\": {\"sa\": \"ga\", \"sb\": \"ra\", \"la\": [\"REF\", 1], \"lb\": [\"REF\", 2], \"lc\": [\"REF\", 3]}, \"ordered_globals\": [\"sa\", \"sb\", \"la\", \"lb\", \"lc\"], \"stack_to_render\": [], \"heap\": {\"1\": [\"LIST\", \"ga\"], \"2\": [\"LIST\", \"ga\"], \"3\": [\"LIST\", [\"REF\", 4], [\"REF\", 5], [\"REF\", 6], [\"REF\", 7]], \"4\": [\"LIST\", \"g\", \"a\", \"r\", \"a\"], \"5\": [\"LIST\", \"ga\"], \"6\": [\"LIST\", \"ga\"], \"7\": [\"LIST\", \"r\", \"a\", \"g\", \"a\"]}, \"stdout\": \"[['g', 'a', 'r', 'a'], ['ga'], ['ga'], ['r', 'a', 'g', 'a']]\\n\"}]}\n",
       "        </script>\n",
       "        <div id=\"jmc4facfd6-0395-4641-baf4-692359bb4347\" class=\"pytutorVisualizer\"> </div>\n",
       " \n",
       "        <style>\n",
       "        .vizLayoutTd {\n",
       "            background-color: #fff !important;\n",
       "        }\n",
       "\n",
       "        #pyStdout {            \n",
       "            min-height:25px;\n",
       "        }\n",
       "\n",
       "        /* 'Edit this code' link, hiding because replaces browser tab !!!*/\n",
       "        #editCodeLinkDiv {\n",
       "            display:none;  \n",
       "        }\n",
       "        </style>   \n",
       "                            \n",
       "        <script>\n",
       "        (function(){\n",
       "\n",
       "            var trace = JSON.parse(document.getElementById('json-jmc4facfd6-0395-4641-baf4-692359bb4347').innerHTML);                                        \n",
       "            // NOTE 1: id without #\n",
       "            // NOTE 2 - maybe there are more predictable ways, but this will work anyway\n",
       "            //        - id should be number\n",
       "            visualizerIdOverride = Math.trunc(Math.random() * 100000000000)\n",
       "            addVisualizerToPage(trace, 'jmc4facfd6-0395-4641-baf4-692359bb4347',{'embeddedMode' : false,\n",
       "                                             'visualizerIdOverride':visualizerIdOverride})  \n",
       "            \n",
       "            \n",
       "            // set overflow for pytuts - need to do in python as css \n",
       "            // does not allow parent selection\n",
       "            var pytuts = $('.pytutorVisualizer')\n",
       "            pytuts.closest('div.output_html.rendered_html.output_result')\n",
       "                    .css('overflow-x', 'visible')\n",
       "        \n",
       "            //pytuts.closest('div.output_html.rendered_html.output_result')\n",
       "            //      .css('background-color','red')                \n",
       "            \n",
       "        })()\n",
       "        </script>\n",
       "                \n",
       "                "
      ],
      "text/plain": [
       "<IPython.core.display.HTML object>"
      ]
     },
     "execution_count": 48,
     "metadata": {},
     "output_type": "execute_result"
    }
   ],
   "source": [
    "# SOLUZIONE\n",
    "\n",
    "sa = \"ga\"\n",
    "sb = \"ra\"\n",
    "la = ['ga']\n",
    "lb = list(la)\n",
    "lc = [list(sa + sb), list(la), list(lb), list(sb + sa) ]\n",
    "\n",
    "print(lc)\n",
    "jupman.pytut()"
   ]
  },
  {
   "cell_type": "raw",
   "id": "60d40ad0",
   "metadata": {
    "format": "text/html"
   },
   "source": [
    "</div>"
   ]
  },
  {
   "cell_type": "code",
   "execution_count": 48,
   "metadata": {},
   "outputs": [
    {
     "name": "stdout",
     "output_type": "stream",
     "text": [
      "[['g', 'a', 'r', 'a'], ['ga'], ['ga'], ['r', 'a', 'g', 'a']]\n"
     ]
    },
    {
     "data": {
      "text/html": [
       "\n",
       "        <script src=\"../_static/js/pytutor-embed.bundle.min.js\" type=\"application/javascript\"></script>\n",
       "     \n",
       "        <script id=\"json-jmc4facfd6-0395-4641-baf4-692359bb4347\" type=\"application/json\" >\n",
       "            {\"code\": \" \\n# SOLUZIONE\\n\\nsa = \\\"ga\\\"\\nsb = \\\"ra\\\"\\nla = ['ga']\\nlb = list(la)\\nlc = [list(sa + sb), list(la), list(lb), list(sb + sa) ]\\n\\nprint(lc)\", \"trace\": [{\"line\": 4, \"event\": \"step_line\", \"func_name\": \"<module>\", \"globals\": {}, \"ordered_globals\": [], \"stack_to_render\": [], \"heap\": {}, \"stdout\": \"\"}, {\"line\": 5, \"event\": \"step_line\", \"func_name\": \"<module>\", \"globals\": {\"sa\": \"ga\"}, \"ordered_globals\": [\"sa\"], \"stack_to_render\": [], \"heap\": {}, \"stdout\": \"\"}, {\"line\": 6, \"event\": \"step_line\", \"func_name\": \"<module>\", \"globals\": {\"sa\": \"ga\", \"sb\": \"ra\"}, \"ordered_globals\": [\"sa\", \"sb\"], \"stack_to_render\": [], \"heap\": {}, \"stdout\": \"\"}, {\"line\": 7, \"event\": \"step_line\", \"func_name\": \"<module>\", \"globals\": {\"sa\": \"ga\", \"sb\": \"ra\", \"la\": [\"REF\", 1]}, \"ordered_globals\": [\"sa\", \"sb\", \"la\"], \"stack_to_render\": [], \"heap\": {\"1\": [\"LIST\", \"ga\"]}, \"stdout\": \"\"}, {\"line\": 8, \"event\": \"step_line\", \"func_name\": \"<module>\", \"globals\": {\"sa\": \"ga\", \"sb\": \"ra\", \"la\": [\"REF\", 1], \"lb\": [\"REF\", 2]}, \"ordered_globals\": [\"sa\", \"sb\", \"la\", \"lb\"], \"stack_to_render\": [], \"heap\": {\"1\": [\"LIST\", \"ga\"], \"2\": [\"LIST\", \"ga\"]}, \"stdout\": \"\"}, {\"line\": 10, \"event\": \"step_line\", \"func_name\": \"<module>\", \"globals\": {\"sa\": \"ga\", \"sb\": \"ra\", \"la\": [\"REF\", 1], \"lb\": [\"REF\", 2], \"lc\": [\"REF\", 3]}, \"ordered_globals\": [\"sa\", \"sb\", \"la\", \"lb\", \"lc\"], \"stack_to_render\": [], \"heap\": {\"1\": [\"LIST\", \"ga\"], \"2\": [\"LIST\", \"ga\"], \"3\": [\"LIST\", [\"REF\", 4], [\"REF\", 5], [\"REF\", 6], [\"REF\", 7]], \"4\": [\"LIST\", \"g\", \"a\", \"r\", \"a\"], \"5\": [\"LIST\", \"ga\"], \"6\": [\"LIST\", \"ga\"], \"7\": [\"LIST\", \"r\", \"a\", \"g\", \"a\"]}, \"stdout\": \"\"}, {\"line\": 10, \"event\": \"return\", \"func_name\": \"<module>\", \"globals\": {\"sa\": \"ga\", \"sb\": \"ra\", \"la\": [\"REF\", 1], \"lb\": [\"REF\", 2], \"lc\": [\"REF\", 3]}, \"ordered_globals\": [\"sa\", \"sb\", \"la\", \"lb\", \"lc\"], \"stack_to_render\": [], \"heap\": {\"1\": [\"LIST\", \"ga\"], \"2\": [\"LIST\", \"ga\"], \"3\": [\"LIST\", [\"REF\", 4], [\"REF\", 5], [\"REF\", 6], [\"REF\", 7]], \"4\": [\"LIST\", \"g\", \"a\", \"r\", \"a\"], \"5\": [\"LIST\", \"ga\"], \"6\": [\"LIST\", \"ga\"], \"7\": [\"LIST\", \"r\", \"a\", \"g\", \"a\"]}, \"stdout\": \"[['g', 'a', 'r', 'a'], ['ga'], ['ga'], ['r', 'a', 'g', 'a']]\\n\"}]}\n",
       "        </script>\n",
       "        <div id=\"jmc4facfd6-0395-4641-baf4-692359bb4347\" class=\"pytutorVisualizer\"> </div>\n",
       " \n",
       "        <style>\n",
       "        .vizLayoutTd {\n",
       "            background-color: #fff !important;\n",
       "        }\n",
       "\n",
       "        #pyStdout {            \n",
       "            min-height:25px;\n",
       "        }\n",
       "\n",
       "        /* 'Edit this code' link, hiding because replaces browser tab !!!*/\n",
       "        #editCodeLinkDiv {\n",
       "            display:none;  \n",
       "        }\n",
       "        </style>   \n",
       "                            \n",
       "        <script>\n",
       "        (function(){\n",
       "\n",
       "            var trace = JSON.parse(document.getElementById('json-jmc4facfd6-0395-4641-baf4-692359bb4347').innerHTML);                                        \n",
       "            // NOTE 1: id without #\n",
       "            // NOTE 2 - maybe there are more predictable ways, but this will work anyway\n",
       "            //        - id should be number\n",
       "            visualizerIdOverride = Math.trunc(Math.random() * 100000000000)\n",
       "            addVisualizerToPage(trace, 'jmc4facfd6-0395-4641-baf4-692359bb4347',{'embeddedMode' : false,\n",
       "                                             'visualizerIdOverride':visualizerIdOverride})  \n",
       "            \n",
       "            \n",
       "            // set overflow for pytuts - need to do in python as css \n",
       "            // does not allow parent selection\n",
       "            var pytuts = $('.pytutorVisualizer')\n",
       "            pytuts.closest('div.output_html.rendered_html.output_result')\n",
       "                    .css('overflow-x', 'visible')\n",
       "        \n",
       "            //pytuts.closest('div.output_html.rendered_html.output_result')\n",
       "            //      .css('background-color','red')                \n",
       "            \n",
       "        })()\n",
       "        </script>\n",
       "                \n",
       "                "
      ],
      "text/plain": [
       "<IPython.core.display.HTML object>"
      ]
     },
     "execution_count": 48,
     "metadata": {},
     "output_type": "execute_result"
    }
   ],
   "source": []
  },
  {
   "cell_type": "markdown",
   "metadata": {},
   "source": [
    "## Continua\n",
    "\n",
    "Prosegui con il foglio [Liste 2 - Operatori](https://it.softpython.org/lists/lists2-sol.html)"
   ]
  }
 ],
 "metadata": {
  "celltoolbar": "Edit Metadata",
  "kernelspec": {
   "display_name": "Python 3 (ipykernel)",
   "language": "python",
   "name": "python3"
  },
  "language_info": {
   "codemirror_mode": {
    "name": "ipython",
    "version": 3
   },
   "file_extension": ".py",
   "mimetype": "text/x-python",
   "name": "python",
   "nbconvert_exporter": "python",
   "pygments_lexer": "ipython3",
   "version": "3.7.10"
  },
  "toc": {
   "base_numbering": 1,
   "nav_menu": {},
   "number_sections": false,
   "sideBar": true,
   "skip_h1_title": false,
   "title_cell": "Table of Contents",
   "title_sidebar": "Contents",
   "toc_cell": false,
   "toc_position": {
    "height": "calc(100% - 180px)",
    "left": "10px",
    "top": "150px",
    "width": "280px"
   },
   "toc_section_display": true,
   "toc_window_display": true
  }
 },
 "nbformat": 4,
 "nbformat_minor": 2
}

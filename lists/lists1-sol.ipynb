{
 "cells": [
  {
   "cell_type": "code",
   "execution_count": 1,
   "metadata": {
    "nbsphinx": "hidden"
   },
   "outputs": [],
   "source": [
    "# Ricordati di eseguire questa cella con Shift+Invio\n",
    "\n",
    "import jupman"
   ]
  },
  {
   "cell_type": "markdown",
   "metadata": {},
   "source": [
    "\n",
    "# Liste 1 - Introduzione\n",
    "\n",
    "\n",
    "## [Scarica zip esercizi](../_static/generated/lists.zip)\n",
    "\n",
    "[Naviga file online](https://github.com/DavidLeoni/softpython-it/tree/master/lists)\n",
    "\n",
    "\n",
    "Una lista in Python è una sequenza di elementi eterogenei **mutabile**, in cui possiamo mettere gli oggetti che vogliamo. L'ordine in cui li mettiamo viene preservato.\n"
   ]
  },
  {
   "cell_type": "markdown",
   "metadata": {},
   "source": [
    "## Che fare\n",
    "\n",
    "- scompatta lo zip in una cartella, dovresti ottenere qualcosa del genere: \n",
    "\n",
    "```\n",
    "\n",
    "lists\n",
    "    lists1.ipynb\n",
    "    lists1-sol.ipynb         \n",
    "    lists2.ipynb\n",
    "    lists2-sol.ipynb         \n",
    "    lists3.ipynb\n",
    "    lists3-sol.ipynb         \n",
    "    lists4.ipynb\n",
    "    lists4-sol.ipynb         \n",
    "    jupman.py         \n",
    "```\n",
    "\n",
    "<div class=\"alert alert-warning\">\n",
    "\n",
    "**ATTENZIONE**: Per essere visualizzato correttamente, il file del notebook DEVE essere nella cartella szippata.\n",
    "</div>\n",
    "\n",
    "- apri il Jupyter Notebook da quella cartella. Due cose dovrebbero aprirsi, prima una console e poi un browser. Il browser dovrebbe mostrare una lista di file: naviga la lista e apri il notebook `lists1.ipynb`\n",
    "- Prosegui leggendo il file degli esercizi, ogni tanto al suo interno troverai delle scritte **ESERCIZIO**, che ti chiederanno di scrivere dei comandi Python nelle celle successive. Gli esercizi sono graduati per difficoltà, da una stellina ✪ a quattro ✪✪✪✪\n",
    "\n",
    "\n",
    "Scorciatoie da tastiera:\n",
    "\n",
    "* Per eseguire il codice Python dentro una cella di Jupyter, premi `Control+Invio`\n",
    "* Per eseguire il codice Python dentro una cella di Jupyter E selezionare la cella seguente, premi `Shift+Invio`\n",
    "* Per eseguire il codice Python dentro una cella di Jupyter E creare una nuova cella subito dopo, premi `Alt+Invio`\n",
    "* Se per caso il Notebook sembra inchiodato, prova a selezionare `Kernel -> Restart`\n",
    "\n"
   ]
  },
  {
   "cell_type": "markdown",
   "metadata": {},
   "source": [
    "## Creare liste\n",
    "\n",
    "Possiamo creare una lista specificando tra parentesi quadre gli elementi che contiene, e separandoli da una virgola.\n",
    "\n",
    "Per esempio, in questa lista inseriamo i numeri `7`, `4` e `9`:"
   ]
  },
  {
   "cell_type": "code",
   "execution_count": 2,
   "metadata": {},
   "outputs": [
    {
     "data": {
      "text/plain": [
       "[7, 4, 9]"
      ]
     },
     "execution_count": 2,
     "metadata": {},
     "output_type": "execute_result"
    }
   ],
   "source": [
    "[7,4,9] "
   ]
  },
  {
   "cell_type": "markdown",
   "metadata": {},
   "source": [
    "Come tutti gli oggetti in Python, possiamo associarli ad una variabile, in questo caso ce ne inventiamo una chiamata `lista`:"
   ]
  },
  {
   "cell_type": "code",
   "execution_count": 3,
   "metadata": {},
   "outputs": [],
   "source": [
    "lista = [7,4,9] "
   ]
  },
  {
   "cell_type": "code",
   "execution_count": 4,
   "metadata": {},
   "outputs": [
    {
     "data": {
      "text/plain": [
       "[7, 4, 9]"
      ]
     },
     "execution_count": 4,
     "metadata": {},
     "output_type": "execute_result"
    }
   ],
   "source": [
    "lista"
   ]
  },
  {
   "cell_type": "markdown",
   "metadata": {},
   "source": [
    "Vediamo meglio che succede in memoria, e compariamo la rappresentazione delle stringhe con quella delle liste:"
   ]
  },
  {
   "cell_type": "code",
   "execution_count": 5,
   "metadata": {},
   "outputs": [],
   "source": [
    "# AFFINCHE' PYTHON TUTOR FUNZIONI, RICORDATI DI ESEGUIRE QUESTA CELLA con Shift+Invio\n",
    "#   (basta eseguirla una volta sola, la trovi anche all'inizio di ogni foglio)\n",
    "\n",
    "import jupman"
   ]
  },
  {
   "cell_type": "code",
   "execution_count": 6,
   "metadata": {},
   "outputs": [
    {
     "data": {
      "text/html": [
       "\n",
       "        <script src=\"../_static/js/pytutor-embed.bundle.min.js\" type=\"application/javascript\"></script>\n",
       "     \n",
       "        <script id=\"json-jmc933a7a2-f6bd-4911-80d4-60160aaf608d\" type=\"application/json\" >\n",
       "            {\"trace\": [{\"heap\": {}, \"line\": 2, \"event\": \"step_line\", \"globals\": {}, \"stack_to_render\": [], \"ordered_globals\": [], \"func_name\": \"<module>\", \"stdout\": \"\"}, {\"heap\": {}, \"line\": 4, \"event\": \"step_line\", \"globals\": {\"stringa\": \"prova\"}, \"stack_to_render\": [], \"ordered_globals\": [\"stringa\"], \"func_name\": \"<module>\", \"stdout\": \"\"}, {\"heap\": {\"1\": [\"LIST\", 7, 4, 9]}, \"line\": 4, \"event\": \"return\", \"globals\": {\"lista\": [\"REF\", 1], \"stringa\": \"prova\"}, \"stack_to_render\": [], \"ordered_globals\": [\"stringa\", \"lista\"], \"func_name\": \"<module>\", \"stdout\": \"\"}], \"code\": \" \\nstringa = \\\"prova\\\"\\n\\nlista = [7,4,9]\"}\n",
       "        </script>\n",
       "        <div id=\"jmc933a7a2-f6bd-4911-80d4-60160aaf608d\" class=\"pytutorVisualizer\"> </div>\n",
       " \n",
       "        <style>\n",
       "        .vizLayoutTd {\n",
       "            background-color: #fff !important;\n",
       "        }\n",
       "\n",
       "        #pyStdout {            \n",
       "            min-height:25px;\n",
       "        }\n",
       "\n",
       "        /* 'Edit this code' link, hiding because replaces browser tab !!!*/\n",
       "        #editCodeLinkDiv {\n",
       "            display:none;  \n",
       "        }\n",
       "        </style>   \n",
       "                            \n",
       "        <script>\n",
       "        (function(){\n",
       "\n",
       "            var trace = JSON.parse(document.getElementById('json-jmc933a7a2-f6bd-4911-80d4-60160aaf608d').innerHTML);                                        \n",
       "            // NOTE 1: id without #\n",
       "            // NOTE 2 - maybe there are more predictable ways, but this will work anyway\n",
       "            //        - id should be number\n",
       "            visualizerIdOverride = Math.trunc(Math.random() * 100000000000)\n",
       "            addVisualizerToPage(trace, 'jmc933a7a2-f6bd-4911-80d4-60160aaf608d',{'embeddedMode' : false,\n",
       "                                             'visualizerIdOverride':visualizerIdOverride})  \n",
       "            \n",
       "            \n",
       "            // set overflow for pytuts - need to do in python as css \n",
       "            // does not allow parent selection\n",
       "            var pytuts = $('.pytutorVisualizer')\n",
       "            pytuts.closest('div.output_html.rendered_html.output_result')\n",
       "                    .css('overflow-x', 'visible')\n",
       "        \n",
       "            //pytuts.closest('div.output_html.rendered_html.output_result')\n",
       "            //      .css('background-color','red')                \n",
       "            \n",
       "        })()\n",
       "        </script>\n",
       "                \n",
       "                "
      ],
      "text/plain": [
       "<IPython.core.display.HTML object>"
      ]
     },
     "execution_count": 6,
     "metadata": {},
     "output_type": "execute_result"
    }
   ],
   "source": [
    "stringa = \"prova\"\n",
    "\n",
    "lista = [7,4,9]\n",
    "\n",
    "jupman.pytut()"
   ]
  },
  {
   "cell_type": "markdown",
   "metadata": {},
   "source": [
    "Notiamo subito una differenza rilevante. La stringa è rimasta nella regione azzurra dove appaiono le associazioni tra variabili e valori, invece dalla variabile `lista` parte una freccia che punta ad una nuova regione gialla di memoria, che si crea non appena l'esecuzione raggiunge la riga che definisce la lista.\n",
    "\n",
    "In seguito approfondiremo meglio le conseguenze di ciò."
   ]
  },
  {
   "cell_type": "markdown",
   "metadata": {},
   "source": [
    "In una lista gli stessi elementi possono apparire più volte"
   ]
  },
  {
   "cell_type": "code",
   "execution_count": 7,
   "metadata": {},
   "outputs": [],
   "source": [
    "numeri = [1,2,3,1,3]\n"
   ]
  },
  {
   "cell_type": "code",
   "execution_count": 8,
   "metadata": {},
   "outputs": [
    {
     "data": {
      "text/plain": [
       "[1, 2, 3, 1, 3]"
      ]
     },
     "execution_count": 8,
     "metadata": {},
     "output_type": "execute_result"
    }
   ],
   "source": [
    "numeri"
   ]
  },
  {
   "cell_type": "markdown",
   "metadata": {},
   "source": [
    "In una lista possiamo mettere qualunque elemento, per es. le stringhe:"
   ]
  },
  {
   "cell_type": "code",
   "execution_count": 9,
   "metadata": {},
   "outputs": [],
   "source": [
    "frutti = [\"mela\", \"pera\", \"pesca\", \"fragola\", \"ciliegia\"] "
   ]
  },
  {
   "cell_type": "code",
   "execution_count": 10,
   "metadata": {},
   "outputs": [
    {
     "data": {
      "text/plain": [
       "['mela', 'pera', 'pesca', 'fragola', 'ciliegia']"
      ]
     },
     "execution_count": 10,
     "metadata": {},
     "output_type": "execute_result"
    }
   ],
   "source": [
    "frutti"
   ]
  },
  {
   "cell_type": "markdown",
   "metadata": {},
   "source": [
    "Possiamo anche mischiare i tipi di oggetti contenuti in una lista, per esempio possiamo avere interi e stringhe:"
   ]
  },
  {
   "cell_type": "code",
   "execution_count": 11,
   "metadata": {},
   "outputs": [],
   "source": [
    "misto = [\"tavolo\", 4 ,\"sedia\", 8, 5, 1, \"sedia\"]"
   ]
  },
  {
   "cell_type": "markdown",
   "metadata": {},
   "source": [
    "In Python Tutor apparirà così:"
   ]
  },
  {
   "cell_type": "code",
   "execution_count": 12,
   "metadata": {},
   "outputs": [
    {
     "data": {
      "text/html": [
       "\n",
       "        <script src=\"../_static/js/pytutor-embed.bundle.min.js\" type=\"application/javascript\"></script>\n",
       "     \n",
       "        <script id=\"json-jm8d756806-504a-4f09-9d97-fca8ec7f4c03\" type=\"application/json\" >\n",
       "            {\"trace\": [{\"heap\": {}, \"line\": 2, \"event\": \"step_line\", \"globals\": {}, \"stack_to_render\": [], \"ordered_globals\": [], \"func_name\": \"<module>\", \"stdout\": \"\"}, {\"heap\": {\"1\": [\"LIST\", \"tavolo\", 5, 4, \"sedia\", 8, \"sedia\"]}, \"line\": 2, \"event\": \"return\", \"globals\": {\"misto\": [\"REF\", 1]}, \"stack_to_render\": [], \"ordered_globals\": [\"misto\"], \"func_name\": \"<module>\", \"stdout\": \"\"}], \"code\": \" \\nmisto = [\\\"tavolo\\\", 5 , 4, \\\"sedia\\\", 8, \\\"sedia\\\"]\"}\n",
       "        </script>\n",
       "        <div id=\"jm8d756806-504a-4f09-9d97-fca8ec7f4c03\" class=\"pytutorVisualizer\"> </div>\n",
       " \n",
       "        <style>\n",
       "        .vizLayoutTd {\n",
       "            background-color: #fff !important;\n",
       "        }\n",
       "\n",
       "        #pyStdout {            \n",
       "            min-height:25px;\n",
       "        }\n",
       "\n",
       "        /* 'Edit this code' link, hiding because replaces browser tab !!!*/\n",
       "        #editCodeLinkDiv {\n",
       "            display:none;  \n",
       "        }\n",
       "        </style>   \n",
       "                            \n",
       "        <script>\n",
       "        (function(){\n",
       "\n",
       "            var trace = JSON.parse(document.getElementById('json-jm8d756806-504a-4f09-9d97-fca8ec7f4c03').innerHTML);                                        \n",
       "            // NOTE 1: id without #\n",
       "            // NOTE 2 - maybe there are more predictable ways, but this will work anyway\n",
       "            //        - id should be number\n",
       "            visualizerIdOverride = Math.trunc(Math.random() * 100000000000)\n",
       "            addVisualizerToPage(trace, 'jm8d756806-504a-4f09-9d97-fca8ec7f4c03',{'embeddedMode' : false,\n",
       "                                             'visualizerIdOverride':visualizerIdOverride})  \n",
       "            \n",
       "            \n",
       "            // set overflow for pytuts - need to do in python as css \n",
       "            // does not allow parent selection\n",
       "            var pytuts = $('.pytutorVisualizer')\n",
       "            pytuts.closest('div.output_html.rendered_html.output_result')\n",
       "                    .css('overflow-x', 'visible')\n",
       "        \n",
       "            //pytuts.closest('div.output_html.rendered_html.output_result')\n",
       "            //      .css('background-color','red')                \n",
       "            \n",
       "        })()\n",
       "        </script>\n",
       "                \n",
       "                "
      ],
      "text/plain": [
       "<IPython.core.display.HTML object>"
      ]
     },
     "execution_count": 12,
     "metadata": {},
     "output_type": "execute_result"
    }
   ],
   "source": [
    "misto = [\"tavolo\", 5 , 4, \"sedia\", 8, \"sedia\"]\n",
    "\n",
    "jupman.pytut()"
   ]
  },
  {
   "cell_type": "markdown",
   "metadata": {},
   "source": [
    "Per comodità possiamo anche scrivere la lista su più righe (gli spazi in questo caso non contano, ricordati solo di terminare le righe con delle virgole `,`)"
   ]
  },
  {
   "cell_type": "code",
   "execution_count": 13,
   "metadata": {},
   "outputs": [],
   "source": [
    "misto = [\"tavolo\",\n",
    "         5 , \n",
    "         4,\n",
    "         \"sedia\",\n",
    "         8,\n",
    "         \"sedia\"]"
   ]
  },
  {
   "cell_type": "markdown",
   "metadata": {},
   "source": [
    "**ESERCIZIO**: prova a scrivere la lista qua sopra SENZA mettere una virgola dopo il 5, che errore appare?"
   ]
  },
  {
   "cell_type": "code",
   "execution_count": 14,
   "metadata": {},
   "outputs": [],
   "source": [
    "# scrivi qui\n",
    "\n"
   ]
  },
  {
   "cell_type": "markdown",
   "metadata": {},
   "source": [
    "Una lista può anche contenere altre liste: "
   ]
  },
  {
   "cell_type": "code",
   "execution_count": 15,
   "metadata": {},
   "outputs": [],
   "source": [
    "tabella = [  ['a','b','c'],  ['d','e','f']  ]"
   ]
  },
  {
   "cell_type": "markdown",
   "metadata": {},
   "source": [
    "Tipicamente, quando abbiamo strutture come questa, conviene disporle su più righe (non è obbligatorio ma conviene per chiarezza): "
   ]
  },
  {
   "cell_type": "code",
   "execution_count": 16,
   "metadata": {},
   "outputs": [],
   "source": [
    "tabella = [                 # inizio listona esterna\n",
    "            ['a','b','c'],    # lista interna 1\n",
    "            ['d','e','f']     # lista interna 2\n",
    "          ]                 # fine listona esterna"
   ]
  },
  {
   "cell_type": "code",
   "execution_count": 17,
   "metadata": {},
   "outputs": [
    {
     "data": {
      "text/plain": [
       "[['a', 'b', 'c'], ['d', 'e', 'f']]"
      ]
     },
     "execution_count": 17,
     "metadata": {},
     "output_type": "execute_result"
    }
   ],
   "source": [
    "tabella"
   ]
  },
  {
   "cell_type": "markdown",
   "metadata": {},
   "source": [
    "Vediamo come viene mostrata in Python Tutor: "
   ]
  },
  {
   "cell_type": "code",
   "execution_count": 18,
   "metadata": {},
   "outputs": [
    {
     "data": {
      "text/html": [
       "\n",
       "        <script src=\"../_static/js/pytutor-embed.bundle.min.js\" type=\"application/javascript\"></script>\n",
       "     \n",
       "        <script id=\"json-jm21422067-aa43-4e7c-852f-d75fb0ecf5c2\" type=\"application/json\" >\n",
       "            {\"trace\": [{\"heap\": {}, \"line\": 3, \"event\": \"step_line\", \"globals\": {}, \"stack_to_render\": [], \"ordered_globals\": [], \"func_name\": \"<module>\", \"stdout\": \"\"}, {\"heap\": {}, \"line\": 4, \"event\": \"step_line\", \"globals\": {}, \"stack_to_render\": [], \"ordered_globals\": [], \"func_name\": \"<module>\", \"stdout\": \"\"}, {\"heap\": {\"1\": [\"LIST\", [\"REF\", 2], [\"REF\", 3]], \"2\": [\"LIST\", \"a\", \"b\", \"c\"], \"3\": [\"LIST\", \"d\", \"e\", \"f\"]}, \"line\": 4, \"event\": \"return\", \"globals\": {\"tabella\": [\"REF\", 1]}, \"stack_to_render\": [], \"ordered_globals\": [\"tabella\"], \"func_name\": \"<module>\", \"stdout\": \"\"}], \"code\": \" \\ntabella = [  \\n            ['a','b','c'],  \\n            ['d','e','f']  \\n          ]\"}\n",
       "        </script>\n",
       "        <div id=\"jm21422067-aa43-4e7c-852f-d75fb0ecf5c2\" class=\"pytutorVisualizer\"> </div>\n",
       " \n",
       "        <style>\n",
       "        .vizLayoutTd {\n",
       "            background-color: #fff !important;\n",
       "        }\n",
       "\n",
       "        #pyStdout {            \n",
       "            min-height:25px;\n",
       "        }\n",
       "\n",
       "        /* 'Edit this code' link, hiding because replaces browser tab !!!*/\n",
       "        #editCodeLinkDiv {\n",
       "            display:none;  \n",
       "        }\n",
       "        </style>   \n",
       "                            \n",
       "        <script>\n",
       "        (function(){\n",
       "\n",
       "            var trace = JSON.parse(document.getElementById('json-jm21422067-aa43-4e7c-852f-d75fb0ecf5c2').innerHTML);                                        \n",
       "            // NOTE 1: id without #\n",
       "            // NOTE 2 - maybe there are more predictable ways, but this will work anyway\n",
       "            //        - id should be number\n",
       "            visualizerIdOverride = Math.trunc(Math.random() * 100000000000)\n",
       "            addVisualizerToPage(trace, 'jm21422067-aa43-4e7c-852f-d75fb0ecf5c2',{'embeddedMode' : false,\n",
       "                                             'visualizerIdOverride':visualizerIdOverride})  \n",
       "            \n",
       "            \n",
       "            // set overflow for pytuts - need to do in python as css \n",
       "            // does not allow parent selection\n",
       "            var pytuts = $('.pytutorVisualizer')\n",
       "            pytuts.closest('div.output_html.rendered_html.output_result')\n",
       "                    .css('overflow-x', 'visible')\n",
       "        \n",
       "            //pytuts.closest('div.output_html.rendered_html.output_result')\n",
       "            //      .css('background-color','red')                \n",
       "            \n",
       "        })()\n",
       "        </script>\n",
       "                \n",
       "                "
      ],
      "text/plain": [
       "<IPython.core.display.HTML object>"
      ]
     },
     "execution_count": 18,
     "metadata": {},
     "output_type": "execute_result"
    }
   ],
   "source": [
    "tabella = [  \n",
    "            ['a','b','c'],  \n",
    "            ['d','e','f']  \n",
    "          ]\n",
    "\n",
    "jupman.pytut()"
   ]
  },
  {
   "cell_type": "markdown",
   "metadata": {},
   "source": [
    "Come detto in precedenza, in una lista possiamo mettere gli elementi che vogliamo, quindi possiamo mischiare  liste di dimensioni diverse, stringhe, numeri, etc:"
   ]
  },
  {
   "cell_type": "code",
   "execution_count": 19,
   "metadata": {},
   "outputs": [],
   "source": [
    "ditutto = [ \n",
    "               ['ciao',3,'mondo'],            \n",
    "               'una stringa',\n",
    "               [9,5,6,7,3,4],\n",
    "               8,\n",
    "         ]"
   ]
  },
  {
   "cell_type": "code",
   "execution_count": 20,
   "metadata": {},
   "outputs": [
    {
     "name": "stdout",
     "output_type": "stream",
     "text": [
      "[['ciao', 3, 'mondo'], 'una stringa', [9, 5, 6, 7, 3, 4], 8]\n"
     ]
    }
   ],
   "source": [
    "print(ditutto)"
   ]
  },
  {
   "cell_type": "markdown",
   "metadata": {},
   "source": [
    "Vediamo anche come appare in Python Tutor:"
   ]
  },
  {
   "cell_type": "code",
   "execution_count": 21,
   "metadata": {},
   "outputs": [
    {
     "data": {
      "text/html": [
       "\n",
       "        <script src=\"../_static/js/pytutor-embed.bundle.min.js\" type=\"application/javascript\"></script>\n",
       "     \n",
       "        <script id=\"json-jma4e16d77-f967-4902-8705-5aa2debf43a6\" type=\"application/json\" >\n",
       "            {\"trace\": [{\"heap\": {}, \"line\": 3, \"event\": \"step_line\", \"globals\": {}, \"stack_to_render\": [], \"ordered_globals\": [], \"func_name\": \"<module>\", \"stdout\": \"\"}, {\"heap\": {}, \"line\": 4, \"event\": \"step_line\", \"globals\": {}, \"stack_to_render\": [], \"ordered_globals\": [], \"func_name\": \"<module>\", \"stdout\": \"\"}, {\"heap\": {}, \"line\": 5, \"event\": \"step_line\", \"globals\": {}, \"stack_to_render\": [], \"ordered_globals\": [], \"func_name\": \"<module>\", \"stdout\": \"\"}, {\"heap\": {}, \"line\": 6, \"event\": \"step_line\", \"globals\": {}, \"stack_to_render\": [], \"ordered_globals\": [], \"func_name\": \"<module>\", \"stdout\": \"\"}, {\"heap\": {\"1\": [\"LIST\", [\"REF\", 2], \"una stringa\", [\"REF\", 3], 8], \"2\": [\"LIST\", \"ciao\", 3, \"mondo\"], \"3\": [\"LIST\", 9, 5, 6, 7, 3, 4]}, \"line\": 6, \"event\": \"return\", \"globals\": {\"ditutto\": [\"REF\", 1]}, \"stack_to_render\": [], \"ordered_globals\": [\"ditutto\"], \"func_name\": \"<module>\", \"stdout\": \"\"}], \"code\": \" \\nditutto = [ \\n               ['ciao',3,'mondo'],            \\n               'una stringa',\\n               [9,5,6,7,3,4],\\n               8,\\n         ]\"}\n",
       "        </script>\n",
       "        <div id=\"jma4e16d77-f967-4902-8705-5aa2debf43a6\" class=\"pytutorVisualizer\"> </div>\n",
       " \n",
       "        <style>\n",
       "        .vizLayoutTd {\n",
       "            background-color: #fff !important;\n",
       "        }\n",
       "\n",
       "        #pyStdout {            \n",
       "            min-height:25px;\n",
       "        }\n",
       "\n",
       "        /* 'Edit this code' link, hiding because replaces browser tab !!!*/\n",
       "        #editCodeLinkDiv {\n",
       "            display:none;  \n",
       "        }\n",
       "        </style>   \n",
       "                            \n",
       "        <script>\n",
       "        (function(){\n",
       "\n",
       "            var trace = JSON.parse(document.getElementById('json-jma4e16d77-f967-4902-8705-5aa2debf43a6').innerHTML);                                        \n",
       "            // NOTE 1: id without #\n",
       "            // NOTE 2 - maybe there are more predictable ways, but this will work anyway\n",
       "            //        - id should be number\n",
       "            visualizerIdOverride = Math.trunc(Math.random() * 100000000000)\n",
       "            addVisualizerToPage(trace, 'jma4e16d77-f967-4902-8705-5aa2debf43a6',{'embeddedMode' : false,\n",
       "                                             'visualizerIdOverride':visualizerIdOverride})  \n",
       "            \n",
       "            \n",
       "            // set overflow for pytuts - need to do in python as css \n",
       "            // does not allow parent selection\n",
       "            var pytuts = $('.pytutorVisualizer')\n",
       "            pytuts.closest('div.output_html.rendered_html.output_result')\n",
       "                    .css('overflow-x', 'visible')\n",
       "        \n",
       "            //pytuts.closest('div.output_html.rendered_html.output_result')\n",
       "            //      .css('background-color','red')                \n",
       "            \n",
       "        })()\n",
       "        </script>\n",
       "                \n",
       "                "
      ],
      "text/plain": [
       "<IPython.core.display.HTML object>"
      ]
     },
     "execution_count": 21,
     "metadata": {},
     "output_type": "execute_result"
    }
   ],
   "source": [
    "ditutto = [ \n",
    "               ['ciao',3,'mondo'],            \n",
    "               'una stringa',\n",
    "               [9,5,6,7,3,4],\n",
    "               8,\n",
    "         ]\n",
    "\n",
    "jupman.pytut()"
   ]
  },
  {
   "cell_type": "markdown",
   "metadata": {},
   "source": [
    "### Lista vuota\n",
    "\n",
    "Ci sono due modi per creare una lista vuota.\n",
    "\n",
    "1) con parentesi quadre:"
   ]
  },
  {
   "cell_type": "code",
   "execution_count": 22,
   "metadata": {},
   "outputs": [],
   "source": [
    "lista_vuota = []"
   ]
  },
  {
   "cell_type": "code",
   "execution_count": 23,
   "metadata": {},
   "outputs": [
    {
     "data": {
      "text/plain": [
       "[]"
      ]
     },
     "execution_count": 23,
     "metadata": {},
     "output_type": "execute_result"
    }
   ],
   "source": [
    "lista_vuota"
   ]
  },
  {
   "cell_type": "markdown",
   "metadata": {},
   "source": [
    "2) Oppure con `list()`:"
   ]
  },
  {
   "cell_type": "code",
   "execution_count": 24,
   "metadata": {},
   "outputs": [],
   "source": [
    "altra_lista_vuota = list()"
   ]
  },
  {
   "cell_type": "code",
   "execution_count": 25,
   "metadata": {},
   "outputs": [
    {
     "data": {
      "text/plain": [
       "[]"
      ]
     },
     "execution_count": 25,
     "metadata": {},
     "output_type": "execute_result"
    }
   ],
   "source": [
    "altra_lista_vuota"
   ]
  },
  {
   "cell_type": "markdown",
   "metadata": {},
   "source": [
    "<div class=\"div alert alert-warning\">\n",
    "\n",
    "**ATTENZIONE**: Quando crei una lista vuota (indipendentemente dalla notazione usata), in memoria viene allocata una NUOVA regione di memoria per accogliere la lista\n",
    "\n",
    "</div>\n",
    "\n",
    "Vediamo meglio cosa vuol dire con Python Tutor: "
   ]
  },
  {
   "cell_type": "code",
   "execution_count": 26,
   "metadata": {},
   "outputs": [
    {
     "data": {
      "text/html": [
       "\n",
       "        <script src=\"../_static/js/pytutor-embed.bundle.min.js\" type=\"application/javascript\"></script>\n",
       "     \n",
       "        <script id=\"json-jm5896b77b-d02f-4a75-bc20-9a5c8c296eeb\" type=\"application/json\" >\n",
       "            {\"trace\": [{\"heap\": {}, \"line\": 2, \"event\": \"step_line\", \"globals\": {}, \"stack_to_render\": [], \"ordered_globals\": [], \"func_name\": \"<module>\", \"stdout\": \"\"}, {\"heap\": {\"1\": [\"LIST\"]}, \"line\": 3, \"event\": \"step_line\", \"globals\": {\"a\": [\"REF\", 1]}, \"stack_to_render\": [], \"ordered_globals\": [\"a\"], \"func_name\": \"<module>\", \"stdout\": \"\"}, {\"heap\": {\"1\": [\"LIST\"], \"2\": [\"LIST\"]}, \"line\": 3, \"event\": \"return\", \"globals\": {\"a\": [\"REF\", 1], \"b\": [\"REF\", 2]}, \"stack_to_render\": [], \"ordered_globals\": [\"a\", \"b\"], \"func_name\": \"<module>\", \"stdout\": \"\"}], \"code\": \" \\na = []\\nb = []\"}\n",
       "        </script>\n",
       "        <div id=\"jm5896b77b-d02f-4a75-bc20-9a5c8c296eeb\" class=\"pytutorVisualizer\"> </div>\n",
       " \n",
       "        <style>\n",
       "        .vizLayoutTd {\n",
       "            background-color: #fff !important;\n",
       "        }\n",
       "\n",
       "        #pyStdout {            \n",
       "            min-height:25px;\n",
       "        }\n",
       "\n",
       "        /* 'Edit this code' link, hiding because replaces browser tab !!!*/\n",
       "        #editCodeLinkDiv {\n",
       "            display:none;  \n",
       "        }\n",
       "        </style>   \n",
       "                            \n",
       "        <script>\n",
       "        (function(){\n",
       "\n",
       "            var trace = JSON.parse(document.getElementById('json-jm5896b77b-d02f-4a75-bc20-9a5c8c296eeb').innerHTML);                                        \n",
       "            // NOTE 1: id without #\n",
       "            // NOTE 2 - maybe there are more predictable ways, but this will work anyway\n",
       "            //        - id should be number\n",
       "            visualizerIdOverride = Math.trunc(Math.random() * 100000000000)\n",
       "            addVisualizerToPage(trace, 'jm5896b77b-d02f-4a75-bc20-9a5c8c296eeb',{'embeddedMode' : false,\n",
       "                                             'visualizerIdOverride':visualizerIdOverride})  \n",
       "            \n",
       "            \n",
       "            // set overflow for pytuts - need to do in python as css \n",
       "            // does not allow parent selection\n",
       "            var pytuts = $('.pytutorVisualizer')\n",
       "            pytuts.closest('div.output_html.rendered_html.output_result')\n",
       "                    .css('overflow-x', 'visible')\n",
       "        \n",
       "            //pytuts.closest('div.output_html.rendered_html.output_result')\n",
       "            //      .css('background-color','red')                \n",
       "            \n",
       "        })()\n",
       "        </script>\n",
       "                \n",
       "                "
      ],
      "text/plain": [
       "<IPython.core.display.HTML object>"
      ]
     },
     "execution_count": 26,
     "metadata": {},
     "output_type": "execute_result"
    }
   ],
   "source": [
    "a = []\n",
    "b = []\n",
    "\n",
    "jupman.pytut()"
   ]
  },
  {
   "cell_type": "markdown",
   "metadata": {},
   "source": [
    "Nota che sono apparse due frecce che puntano a regioni di memoria **differenti**. Lo stesso sarebbe accaduto inizializzando le liste con degli elementi:"
   ]
  },
  {
   "cell_type": "code",
   "execution_count": 27,
   "metadata": {},
   "outputs": [
    {
     "data": {
      "text/html": [
       "\n",
       "        <script src=\"../_static/js/pytutor-embed.bundle.min.js\" type=\"application/javascript\"></script>\n",
       "     \n",
       "        <script id=\"json-jmff55257e-632d-4d39-ae35-c763725f9f92\" type=\"application/json\" >\n",
       "            {\"trace\": [{\"heap\": {}, \"line\": 2, \"event\": \"step_line\", \"globals\": {}, \"stack_to_render\": [], \"ordered_globals\": [], \"func_name\": \"<module>\", \"stdout\": \"\"}, {\"heap\": {\"1\": [\"LIST\", 8, 6, 7]}, \"line\": 3, \"event\": \"step_line\", \"globals\": {\"la\": [\"REF\", 1]}, \"stack_to_render\": [], \"ordered_globals\": [\"la\"], \"func_name\": \"<module>\", \"stdout\": \"\"}, {\"heap\": {\"1\": [\"LIST\", 8, 6, 7], \"2\": [\"LIST\", 9, 5, 6, 4]}, \"line\": 3, \"event\": \"return\", \"globals\": {\"la\": [\"REF\", 1], \"lb\": [\"REF\", 2]}, \"stack_to_render\": [], \"ordered_globals\": [\"la\", \"lb\"], \"func_name\": \"<module>\", \"stdout\": \"\"}], \"code\": \" \\nla = [8,6,7]\\nlb = [9,5,6,4]\"}\n",
       "        </script>\n",
       "        <div id=\"jmff55257e-632d-4d39-ae35-c763725f9f92\" class=\"pytutorVisualizer\"> </div>\n",
       " \n",
       "        <style>\n",
       "        .vizLayoutTd {\n",
       "            background-color: #fff !important;\n",
       "        }\n",
       "\n",
       "        #pyStdout {            \n",
       "            min-height:25px;\n",
       "        }\n",
       "\n",
       "        /* 'Edit this code' link, hiding because replaces browser tab !!!*/\n",
       "        #editCodeLinkDiv {\n",
       "            display:none;  \n",
       "        }\n",
       "        </style>   \n",
       "                            \n",
       "        <script>\n",
       "        (function(){\n",
       "\n",
       "            var trace = JSON.parse(document.getElementById('json-jmff55257e-632d-4d39-ae35-c763725f9f92').innerHTML);                                        \n",
       "            // NOTE 1: id without #\n",
       "            // NOTE 2 - maybe there are more predictable ways, but this will work anyway\n",
       "            //        - id should be number\n",
       "            visualizerIdOverride = Math.trunc(Math.random() * 100000000000)\n",
       "            addVisualizerToPage(trace, 'jmff55257e-632d-4d39-ae35-c763725f9f92',{'embeddedMode' : false,\n",
       "                                             'visualizerIdOverride':visualizerIdOverride})  \n",
       "            \n",
       "            \n",
       "            // set overflow for pytuts - need to do in python as css \n",
       "            // does not allow parent selection\n",
       "            var pytuts = $('.pytutorVisualizer')\n",
       "            pytuts.closest('div.output_html.rendered_html.output_result')\n",
       "                    .css('overflow-x', 'visible')\n",
       "        \n",
       "            //pytuts.closest('div.output_html.rendered_html.output_result')\n",
       "            //      .css('background-color','red')                \n",
       "            \n",
       "        })()\n",
       "        </script>\n",
       "                \n",
       "                "
      ],
      "text/plain": [
       "<IPython.core.display.HTML object>"
      ]
     },
     "execution_count": 27,
     "metadata": {},
     "output_type": "execute_result"
    }
   ],
   "source": [
    "la = [8,6,7]\n",
    "lb = [9,5,6,4]\n",
    "\n",
    "jupman.pytut()"
   ]
  },
  {
   "cell_type": "markdown",
   "metadata": {},
   "source": [
    "E avremmo avuto due liste in regioni di memoria diverse anche mettendo elementi identici dentro le liste:"
   ]
  },
  {
   "cell_type": "code",
   "execution_count": 28,
   "metadata": {},
   "outputs": [
    {
     "data": {
      "text/html": [
       "\n",
       "        <script src=\"../_static/js/pytutor-embed.bundle.min.js\" type=\"application/javascript\"></script>\n",
       "     \n",
       "        <script id=\"json-jmad13e806-9b8c-4e98-9edd-29411a7b68ee\" type=\"application/json\" >\n",
       "            {\"trace\": [{\"heap\": {}, \"line\": 2, \"event\": \"step_line\", \"globals\": {}, \"stack_to_render\": [], \"ordered_globals\": [], \"func_name\": \"<module>\", \"stdout\": \"\"}, {\"heap\": {\"1\": [\"LIST\", 8, 6, 7]}, \"line\": 3, \"event\": \"step_line\", \"globals\": {\"la\": [\"REF\", 1]}, \"stack_to_render\": [], \"ordered_globals\": [\"la\"], \"func_name\": \"<module>\", \"stdout\": \"\"}, {\"heap\": {\"1\": [\"LIST\", 8, 6, 7], \"2\": [\"LIST\", 8, 6, 7]}, \"line\": 3, \"event\": \"return\", \"globals\": {\"la\": [\"REF\", 1], \"lb\": [\"REF\", 2]}, \"stack_to_render\": [], \"ordered_globals\": [\"la\", \"lb\"], \"func_name\": \"<module>\", \"stdout\": \"\"}], \"code\": \" \\nla = [8,6,7]\\nlb = [8,6,7]\"}\n",
       "        </script>\n",
       "        <div id=\"jmad13e806-9b8c-4e98-9edd-29411a7b68ee\" class=\"pytutorVisualizer\"> </div>\n",
       " \n",
       "        <style>\n",
       "        .vizLayoutTd {\n",
       "            background-color: #fff !important;\n",
       "        }\n",
       "\n",
       "        #pyStdout {            \n",
       "            min-height:25px;\n",
       "        }\n",
       "\n",
       "        /* 'Edit this code' link, hiding because replaces browser tab !!!*/\n",
       "        #editCodeLinkDiv {\n",
       "            display:none;  \n",
       "        }\n",
       "        </style>   \n",
       "                            \n",
       "        <script>\n",
       "        (function(){\n",
       "\n",
       "            var trace = JSON.parse(document.getElementById('json-jmad13e806-9b8c-4e98-9edd-29411a7b68ee').innerHTML);                                        \n",
       "            // NOTE 1: id without #\n",
       "            // NOTE 2 - maybe there are more predictable ways, but this will work anyway\n",
       "            //        - id should be number\n",
       "            visualizerIdOverride = Math.trunc(Math.random() * 100000000000)\n",
       "            addVisualizerToPage(trace, 'jmad13e806-9b8c-4e98-9edd-29411a7b68ee',{'embeddedMode' : false,\n",
       "                                             'visualizerIdOverride':visualizerIdOverride})  \n",
       "            \n",
       "            \n",
       "            // set overflow for pytuts - need to do in python as css \n",
       "            // does not allow parent selection\n",
       "            var pytuts = $('.pytutorVisualizer')\n",
       "            pytuts.closest('div.output_html.rendered_html.output_result')\n",
       "                    .css('overflow-x', 'visible')\n",
       "        \n",
       "            //pytuts.closest('div.output_html.rendered_html.output_result')\n",
       "            //      .css('background-color','red')                \n",
       "            \n",
       "        })()\n",
       "        </script>\n",
       "                \n",
       "                "
      ],
      "text/plain": [
       "<IPython.core.display.HTML object>"
      ]
     },
     "execution_count": 28,
     "metadata": {},
     "output_type": "execute_result"
    }
   ],
   "source": [
    "la = [8,6,7]\n",
    "lb = [8,6,7]\n",
    "\n",
    "jupman.pytut()"
   ]
  },
  {
   "cell_type": "markdown",
   "metadata": {},
   "source": [
    "Le cose si complicano quando cominciamo ad usare operazioni di assegnazione:"
   ]
  },
  {
   "cell_type": "code",
   "execution_count": 29,
   "metadata": {},
   "outputs": [],
   "source": [
    "la = [8,6,7]"
   ]
  },
  {
   "cell_type": "code",
   "execution_count": 30,
   "metadata": {},
   "outputs": [],
   "source": [
    "lb = [9,5,6,4]"
   ]
  },
  {
   "cell_type": "code",
   "execution_count": 31,
   "metadata": {},
   "outputs": [],
   "source": [
    "lb = la"
   ]
  },
  {
   "cell_type": "markdown",
   "metadata": {},
   "source": [
    "Scrivendo `lb = la`, abbiamo detto a Python di 'dimenticare' l'assegnazione precedente di `lb` a `[9,5,6,4]`, e di associare invece `lb` alla stesso valore già associato ad `la`, cioè `[8,6,7]`. Quindi, nella memoria vedremo una freccia che parte da `lb` ed arriva a `[8,6,7]`, e la regione di memoria dove stava  la lista `[9,5,6,4]` verrà rimossa (non è più associata ad alcuna variabile). Guardiamo che succede con Python Tutor:"
   ]
  },
  {
   "cell_type": "code",
   "execution_count": 32,
   "metadata": {},
   "outputs": [
    {
     "data": {
      "text/html": [
       "\n",
       "        <script src=\"../_static/js/pytutor-embed.bundle.min.js\" type=\"application/javascript\"></script>\n",
       "     \n",
       "        <script id=\"json-jm8deec51e-b3b5-465f-8dbe-fa61328251f3\" type=\"application/json\" >\n",
       "            {\"trace\": [{\"heap\": {}, \"line\": 2, \"event\": \"step_line\", \"globals\": {}, \"stack_to_render\": [], \"ordered_globals\": [], \"func_name\": \"<module>\", \"stdout\": \"\"}, {\"heap\": {\"1\": [\"LIST\", 8, 6, 7]}, \"line\": 3, \"event\": \"step_line\", \"globals\": {\"la\": [\"REF\", 1]}, \"stack_to_render\": [], \"ordered_globals\": [\"la\"], \"func_name\": \"<module>\", \"stdout\": \"\"}, {\"heap\": {\"1\": [\"LIST\", 8, 6, 7], \"2\": [\"LIST\", 9, 5, 6, 4]}, \"line\": 4, \"event\": \"step_line\", \"globals\": {\"la\": [\"REF\", 1], \"lb\": [\"REF\", 2]}, \"stack_to_render\": [], \"ordered_globals\": [\"la\", \"lb\"], \"func_name\": \"<module>\", \"stdout\": \"\"}, {\"heap\": {\"1\": [\"LIST\", 8, 6, 7]}, \"line\": 4, \"event\": \"return\", \"globals\": {\"la\": [\"REF\", 1], \"lb\": [\"REF\", 1]}, \"stack_to_render\": [], \"ordered_globals\": [\"la\", \"lb\"], \"func_name\": \"<module>\", \"stdout\": \"\"}], \"code\": \" \\nla = [8,6,7]\\nlb = [9,5,6,4]\\nlb = la\"}\n",
       "        </script>\n",
       "        <div id=\"jm8deec51e-b3b5-465f-8dbe-fa61328251f3\" class=\"pytutorVisualizer\"> </div>\n",
       " \n",
       "        <style>\n",
       "        .vizLayoutTd {\n",
       "            background-color: #fff !important;\n",
       "        }\n",
       "\n",
       "        #pyStdout {            \n",
       "            min-height:25px;\n",
       "        }\n",
       "\n",
       "        /* 'Edit this code' link, hiding because replaces browser tab !!!*/\n",
       "        #editCodeLinkDiv {\n",
       "            display:none;  \n",
       "        }\n",
       "        </style>   \n",
       "                            \n",
       "        <script>\n",
       "        (function(){\n",
       "\n",
       "            var trace = JSON.parse(document.getElementById('json-jm8deec51e-b3b5-465f-8dbe-fa61328251f3').innerHTML);                                        \n",
       "            // NOTE 1: id without #\n",
       "            // NOTE 2 - maybe there are more predictable ways, but this will work anyway\n",
       "            //        - id should be number\n",
       "            visualizerIdOverride = Math.trunc(Math.random() * 100000000000)\n",
       "            addVisualizerToPage(trace, 'jm8deec51e-b3b5-465f-8dbe-fa61328251f3',{'embeddedMode' : false,\n",
       "                                             'visualizerIdOverride':visualizerIdOverride})  \n",
       "            \n",
       "            \n",
       "            // set overflow for pytuts - need to do in python as css \n",
       "            // does not allow parent selection\n",
       "            var pytuts = $('.pytutorVisualizer')\n",
       "            pytuts.closest('div.output_html.rendered_html.output_result')\n",
       "                    .css('overflow-x', 'visible')\n",
       "        \n",
       "            //pytuts.closest('div.output_html.rendered_html.output_result')\n",
       "            //      .css('background-color','red')                \n",
       "            \n",
       "        })()\n",
       "        </script>\n",
       "                \n",
       "                "
      ],
      "text/plain": [
       "<IPython.core.display.HTML object>"
      ]
     },
     "execution_count": 32,
     "metadata": {},
     "output_type": "execute_result"
    }
   ],
   "source": [
    "la = [8,6,7]\n",
    "lb = [9,5,6,4]\n",
    "lb = la\n",
    "\n",
    "jupman.pytut()"
   ]
  },
  {
   "cell_type": "markdown",
   "metadata": {},
   "source": [
    "**ESERCIZIO**: Prova a scambiare le liste associate alle variabili `la` ed `lb` usando solo assegnazioni e **senza creare nuove liste**. Se vuoi, puoi sovrascrivere una terza variabile `lc`. Verifica che succede con Python Tutor.\n",
    "\n",
    "* il tuo codice deve poter funzionare con qualunque valore di `la`, `lb` ed `lc`\n",
    "\n",
    "Esempio - dati: \n",
    "\n",
    "```python\n",
    "la = [9,6,1]\n",
    "lb = [2,3,4,3,5]\n",
    "lc = None\n",
    "```\n",
    "\n",
    "Dopo il tuo codice, deve risultare:\n",
    "\n",
    "```python\n",
    ">>> print(la)\n",
    "[2,3,4,3,5]\n",
    ">>> print(lb)\n",
    "[9,6,1]\n",
    "```"
   ]
  },
  {
   "cell_type": "raw",
   "id": "b56af901",
   "metadata": {
    "format": "text/html"
   },
   "source": [
    "<a  class=\"jupman-sol jupman-sol-toggler\" \n",
    " onclick=\"jupman.toggleSolution(this);\" \n",
    " data-jupman-show=\"Mostra soluzione\" data-jupman-hide=\"Nascondi\">Mostra soluzione</a><div class=\"jupman-sol jupman-sol-code\" style=\"display:none\">  "
   ]
  },
  {
   "cell_type": "code",
   "execution_count": 33,
   "metadata": {},
   "outputs": [],
   "source": [
    "la = [9,6,1]\n",
    "lb = [2,3,4,3,5]\n",
    "lc = None\n",
    "\n",
    "# scrivi qui\n",
    "\n",
    "lc = la\n",
    "la = lb\n",
    "lb = lc\n",
    "\n",
    "#print(la)\n",
    "#print(lb)"
   ]
  },
  {
   "cell_type": "raw",
   "id": "ef14e1ea",
   "metadata": {
    "format": "text/html"
   },
   "source": [
    "</div>"
   ]
  },
  {
   "cell_type": "code",
   "execution_count": 33,
   "metadata": {},
   "outputs": [],
   "source": [
    "la = [9,6,1]\n",
    "lb = [2,3,4,3,5]\n",
    "lc = None\n",
    "\n",
    "# scrivi qui\n",
    "\n"
   ]
  },
  {
   "cell_type": "markdown",
   "metadata": {},
   "source": [
    "**DOMANDA**: Guarda questi due pezzi di codice.  Per ciascun caso, prova a pensare come possono essere rappresentati in memoria e verifica poi con Python Tutor.\n",
    "\n",
    "- che differenza ci potrà essere?\n",
    "- quante celle di memoria verranno allocate in totale ? \n",
    "- quante frecce vedrai ?\n",
    "\n",
    "```python\n",
    "# primo caso\n",
    "lb = [\n",
    "       [8,6,7],\n",
    "       [8,6,7],\n",
    "       [8,6,7],\n",
    "       [8,6,7],       \n",
    "     ]\n",
    "```\n",
    "\n",
    "```python\n",
    "# secondo caso\n",
    "la = [8,6,7]\n",
    "lb = [\n",
    "       la,\n",
    "       la,\n",
    "       la,\n",
    "       la\n",
    "     ]\n",
    "```\n",
    "\n"
   ]
  },
  {
   "cell_type": "code",
   "execution_count": 34,
   "metadata": {},
   "outputs": [
    {
     "data": {
      "text/html": [
       "\n",
       "        <script src=\"../_static/js/pytutor-embed.bundle.min.js\" type=\"application/javascript\"></script>\n",
       "     \n",
       "        <script id=\"json-jm03994502-5cdb-486a-928e-a687ba9816e5\" type=\"application/json\" >\n",
       "            {\"trace\": [{\"heap\": {}, \"line\": 4, \"event\": \"step_line\", \"globals\": {}, \"stack_to_render\": [], \"ordered_globals\": [], \"func_name\": \"<module>\", \"stdout\": \"\"}, {\"heap\": {}, \"line\": 5, \"event\": \"step_line\", \"globals\": {}, \"stack_to_render\": [], \"ordered_globals\": [], \"func_name\": \"<module>\", \"stdout\": \"\"}, {\"heap\": {}, \"line\": 6, \"event\": \"step_line\", \"globals\": {}, \"stack_to_render\": [], \"ordered_globals\": [], \"func_name\": \"<module>\", \"stdout\": \"\"}, {\"heap\": {}, \"line\": 7, \"event\": \"step_line\", \"globals\": {}, \"stack_to_render\": [], \"ordered_globals\": [], \"func_name\": \"<module>\", \"stdout\": \"\"}, {\"heap\": {\"1\": [\"LIST\", [\"REF\", 2], [\"REF\", 3], [\"REF\", 4], [\"REF\", 5]], \"2\": [\"LIST\", 8, 6, 7], \"3\": [\"LIST\", 8, 6, 7], \"4\": [\"LIST\", 8, 6, 7], \"5\": [\"LIST\", 8, 6, 7]}, \"line\": 7, \"event\": \"return\", \"globals\": {\"lb\": [\"REF\", 1]}, \"stack_to_render\": [], \"ordered_globals\": [\"lb\"], \"func_name\": \"<module>\", \"stdout\": \"\"}], \"code\": \" \\n# primo caso\\nlb = [\\n       [8,6,7],\\n       [8,6,7],\\n       [8,6,7],\\n       [8,6,7],       \\n     ]\"}\n",
       "        </script>\n",
       "        <div id=\"jm03994502-5cdb-486a-928e-a687ba9816e5\" class=\"pytutorVisualizer\"> </div>\n",
       " \n",
       "        <style>\n",
       "        .vizLayoutTd {\n",
       "            background-color: #fff !important;\n",
       "        }\n",
       "\n",
       "        #pyStdout {            \n",
       "            min-height:25px;\n",
       "        }\n",
       "\n",
       "        /* 'Edit this code' link, hiding because replaces browser tab !!!*/\n",
       "        #editCodeLinkDiv {\n",
       "            display:none;  \n",
       "        }\n",
       "        </style>   \n",
       "                            \n",
       "        <script>\n",
       "        (function(){\n",
       "\n",
       "            var trace = JSON.parse(document.getElementById('json-jm03994502-5cdb-486a-928e-a687ba9816e5').innerHTML);                                        \n",
       "            // NOTE 1: id without #\n",
       "            // NOTE 2 - maybe there are more predictable ways, but this will work anyway\n",
       "            //        - id should be number\n",
       "            visualizerIdOverride = Math.trunc(Math.random() * 100000000000)\n",
       "            addVisualizerToPage(trace, 'jm03994502-5cdb-486a-928e-a687ba9816e5',{'embeddedMode' : false,\n",
       "                                             'visualizerIdOverride':visualizerIdOverride})  \n",
       "            \n",
       "            \n",
       "            // set overflow for pytuts - need to do in python as css \n",
       "            // does not allow parent selection\n",
       "            var pytuts = $('.pytutorVisualizer')\n",
       "            pytuts.closest('div.output_html.rendered_html.output_result')\n",
       "                    .css('overflow-x', 'visible')\n",
       "        \n",
       "            //pytuts.closest('div.output_html.rendered_html.output_result')\n",
       "            //      .css('background-color','red')                \n",
       "            \n",
       "        })()\n",
       "        </script>\n",
       "                \n",
       "                "
      ],
      "text/plain": [
       "<IPython.core.display.HTML object>"
      ]
     },
     "execution_count": 34,
     "metadata": {},
     "output_type": "execute_result"
    }
   ],
   "source": [
    "# primo caso\n",
    "lb = [\n",
    "       [8,6,7],\n",
    "       [8,6,7],\n",
    "       [8,6,7],\n",
    "       [8,6,7],       \n",
    "     ]\n",
    "jupman.pytut()"
   ]
  },
  {
   "cell_type": "code",
   "execution_count": 35,
   "metadata": {},
   "outputs": [
    {
     "data": {
      "text/html": [
       "\n",
       "        <script src=\"../_static/js/pytutor-embed.bundle.min.js\" type=\"application/javascript\"></script>\n",
       "     \n",
       "        <script id=\"json-jm27405037-a8fe-4068-a375-29fdeca4a51f\" type=\"application/json\" >\n",
       "            {\"trace\": [{\"heap\": {}, \"line\": 4, \"event\": \"step_line\", \"globals\": {}, \"stack_to_render\": [], \"ordered_globals\": [], \"func_name\": \"<module>\", \"stdout\": \"\"}, {\"heap\": {\"1\": [\"LIST\", 8, 6, 7]}, \"line\": 6, \"event\": \"step_line\", \"globals\": {\"la\": [\"REF\", 1]}, \"stack_to_render\": [], \"ordered_globals\": [\"la\"], \"func_name\": \"<module>\", \"stdout\": \"\"}, {\"heap\": {\"1\": [\"LIST\", 8, 6, 7]}, \"line\": 7, \"event\": \"step_line\", \"globals\": {\"la\": [\"REF\", 1]}, \"stack_to_render\": [], \"ordered_globals\": [\"la\"], \"func_name\": \"<module>\", \"stdout\": \"\"}, {\"heap\": {\"1\": [\"LIST\", 8, 6, 7]}, \"line\": 8, \"event\": \"step_line\", \"globals\": {\"la\": [\"REF\", 1]}, \"stack_to_render\": [], \"ordered_globals\": [\"la\"], \"func_name\": \"<module>\", \"stdout\": \"\"}, {\"heap\": {\"1\": [\"LIST\", 8, 6, 7]}, \"line\": 9, \"event\": \"step_line\", \"globals\": {\"la\": [\"REF\", 1]}, \"stack_to_render\": [], \"ordered_globals\": [\"la\"], \"func_name\": \"<module>\", \"stdout\": \"\"}, {\"heap\": {\"1\": [\"LIST\", 8, 6, 7], \"2\": [\"LIST\", [\"REF\", 1], [\"REF\", 1], [\"REF\", 1], [\"REF\", 1]]}, \"line\": 9, \"event\": \"return\", \"globals\": {\"la\": [\"REF\", 1], \"lb\": [\"REF\", 2]}, \"stack_to_render\": [], \"ordered_globals\": [\"la\", \"lb\"], \"func_name\": \"<module>\", \"stdout\": \"\"}], \"code\": \" \\n# secondo caso\\n\\nla = [8,6,7]\\nlb = [\\n       la,\\n       la,\\n       la,\\n       la\\n     ]\"}\n",
       "        </script>\n",
       "        <div id=\"jm27405037-a8fe-4068-a375-29fdeca4a51f\" class=\"pytutorVisualizer\"> </div>\n",
       " \n",
       "        <style>\n",
       "        .vizLayoutTd {\n",
       "            background-color: #fff !important;\n",
       "        }\n",
       "\n",
       "        #pyStdout {            \n",
       "            min-height:25px;\n",
       "        }\n",
       "\n",
       "        /* 'Edit this code' link, hiding because replaces browser tab !!!*/\n",
       "        #editCodeLinkDiv {\n",
       "            display:none;  \n",
       "        }\n",
       "        </style>   \n",
       "                            \n",
       "        <script>\n",
       "        (function(){\n",
       "\n",
       "            var trace = JSON.parse(document.getElementById('json-jm27405037-a8fe-4068-a375-29fdeca4a51f').innerHTML);                                        \n",
       "            // NOTE 1: id without #\n",
       "            // NOTE 2 - maybe there are more predictable ways, but this will work anyway\n",
       "            //        - id should be number\n",
       "            visualizerIdOverride = Math.trunc(Math.random() * 100000000000)\n",
       "            addVisualizerToPage(trace, 'jm27405037-a8fe-4068-a375-29fdeca4a51f',{'embeddedMode' : false,\n",
       "                                             'visualizerIdOverride':visualizerIdOverride})  \n",
       "            \n",
       "            \n",
       "            // set overflow for pytuts - need to do in python as css \n",
       "            // does not allow parent selection\n",
       "            var pytuts = $('.pytutorVisualizer')\n",
       "            pytuts.closest('div.output_html.rendered_html.output_result')\n",
       "                    .css('overflow-x', 'visible')\n",
       "        \n",
       "            //pytuts.closest('div.output_html.rendered_html.output_result')\n",
       "            //      .css('background-color','red')                \n",
       "            \n",
       "        })()\n",
       "        </script>\n",
       "                \n",
       "                "
      ],
      "text/plain": [
       "<IPython.core.display.HTML object>"
      ]
     },
     "execution_count": 35,
     "metadata": {},
     "output_type": "execute_result"
    }
   ],
   "source": [
    "# secondo caso\n",
    "\n",
    "la = [8,6,7]\n",
    "lb = [\n",
    "       la,\n",
    "       la,\n",
    "       la,\n",
    "       la\n",
    "     ]\n",
    "jupman.pytut()"
   ]
  },
  {
   "cell_type": "raw",
   "id": "0f1f7cf5",
   "metadata": {
    "format": "text/html"
   },
   "source": [
    "<a  class=\"jupman-sol jupman-sol-toggler\" \n",
    " onclick=\"jupman.toggleSolution(this);\" \n",
    " data-jupman-show=\"Mostra risposta\" data-jupman-hide=\"Nascondi\">Mostra risposta</a><div class=\"jupman-sol jupman-sol-question\" style=\"display:none\">  "
   ]
  },
  {
   "cell_type": "markdown",
   "metadata": {},
   "source": [
    "**RISPOSTA**:  Nel primo caso, abbiamo una 'listona' associata alla variabile `lb` che contiene 4 sottoliste ciascuna da 3 elementi. Ogni sottolista viene creata come nuova, quindi in totale in memoria abbiamo 4 celle della listona `lb` + (4 sottoliste * 3 celle ciascuna) = 16 celle \n",
    "\n",
    "Nel secondo caso invece abbiamo sempre la 'listona' associata alla variabile `lb` da 4 celle, ma al suo interno contiene dei puntatori alla stessa identica lista `la`. Quindi il numero totale di celle occupate è 4 celle della listona `lb` + (1 sottolista * 3 celle) = 7 celle"
   ]
  },
  {
   "cell_type": "raw",
   "id": "abf390a8",
   "metadata": {
    "format": "text/html"
   },
   "source": [
    "</div>"
   ]
  },
  {
   "cell_type": "markdown",
   "metadata": {},
   "source": [
    "### Esercizio - creare liste 1\n",
    "\n",
    "Date due variabili \n",
    "\n",
    "```python\n",
    "la = [4,3]\n",
    "lb = [9,6,7]\n",
    "```\n",
    "\n",
    "Scrivi del codice che stampi la lista `[[4, 3], [[9, 6, 7], [4, 3], [9, 6, 7]], [4, 3]]`\n",
    "\n",
    "* **NON scrivere numeri**, usa solo liste di variabili \n"
   ]
  },
  {
   "cell_type": "raw",
   "id": "21aad972",
   "metadata": {
    "format": "text/html"
   },
   "source": [
    "<a  class=\"jupman-sol jupman-sol-toggler\" \n",
    " onclick=\"jupman.toggleSolution(this);\" \n",
    " data-jupman-show=\"Mostra soluzione\" data-jupman-hide=\"Nascondi\">Mostra soluzione</a><div class=\"jupman-sol jupman-sol-code\" style=\"display:none\">  "
   ]
  },
  {
   "cell_type": "code",
   "execution_count": 36,
   "metadata": {},
   "outputs": [
    {
     "name": "stdout",
     "output_type": "stream",
     "text": [
      "[[4, 3], [[9, 6, 7], [4, 3], [9, 6, 7]], [4, 3]]\n"
     ]
    }
   ],
   "source": [
    "la = [4,3]\n",
    "lb = [9,6,7]\n",
    "\n",
    "# scrivi qui\n",
    "print([\n",
    "    la,\n",
    "    [lb,la,lb],\n",
    "    la\n",
    "])"
   ]
  },
  {
   "cell_type": "raw",
   "id": "e152ca7d",
   "metadata": {
    "format": "text/html"
   },
   "source": [
    "</div>"
   ]
  },
  {
   "cell_type": "code",
   "execution_count": 36,
   "metadata": {},
   "outputs": [
    {
     "name": "stdout",
     "output_type": "stream",
     "text": [
      "[[4, 3], [[9, 6, 7], [4, 3], [9, 6, 7]], [4, 3]]\n"
     ]
    }
   ],
   "source": [
    "la = [4,3]\n",
    "lb = [9,6,7]\n",
    "\n",
    "# scrivi qui\n",
    "\n"
   ]
  },
  {
   "cell_type": "markdown",
   "metadata": {},
   "source": [
    "### Esercizio - creare liste 2\n",
    "\n",
    "Inserire dei valori nelle liste `la`, `lb` tali per cui\n",
    "\n",
    "```python\n",
    "print([[la,la],[lb,la]])\n",
    "```\n",
    "\n",
    "stampi\n",
    "\n",
    "```\n",
    "[[[8, 4], [8, 4]], [[4, 8, 4], [8, 4]]]\n",
    "```\n",
    "\n",
    "* **inserire solo dei NUMERI**\n",
    "* Osservare in Python Tutor come vengono raffigurate le frecce\n"
   ]
  },
  {
   "cell_type": "code",
   "execution_count": 37,
   "metadata": {},
   "outputs": [
    {
     "name": "stdout",
     "output_type": "stream",
     "text": [
      "[[[], []], [[], []]]\n"
     ]
    }
   ],
   "source": [
    "la = []  # inserisci dei numeri\n",
    "lb = []  # inserisci dei numeri\n",
    "\n",
    "print([[la,la],[lb,la]])"
   ]
  },
  {
   "cell_type": "raw",
   "id": "9fbf638b",
   "metadata": {
    "format": "text/html"
   },
   "source": [
    "<a  class=\"jupman-sol jupman-sol-toggler\" \n",
    " onclick=\"jupman.toggleSolution(this);\" \n",
    " data-jupman-show=\"Mostra soluzione\" data-jupman-hide=\"Nascondi\">Mostra soluzione</a><div class=\"jupman-sol jupman-sol-code\" style=\"display:none\">  "
   ]
  },
  {
   "cell_type": "code",
   "execution_count": 38,
   "metadata": {},
   "outputs": [],
   "source": [
    "# SOLUZIONE\n",
    "\n",
    "la = [8,4]\n",
    "lb = [4,8,4]\n",
    "\n",
    "#print([[la,la],[lb,la]])"
   ]
  },
  {
   "cell_type": "raw",
   "id": "e3b2c2f1",
   "metadata": {
    "format": "text/html"
   },
   "source": [
    "</div>"
   ]
  },
  {
   "cell_type": "code",
   "execution_count": 38,
   "metadata": {},
   "outputs": [],
   "source": []
  },
  {
   "cell_type": "markdown",
   "metadata": {},
   "source": [
    "### Esercizio - creare liste 3\n",
    "\n",
    "Inserire dei valori come elementi delle liste `la`, `lb` e `lc` tali per cui \n",
    "\n",
    "```python\n",
    "print([[lb,lb,[lc,la]],lc])\n",
    "```\n",
    "\n",
    "stampi\n",
    "\n",
    "```\n",
    "[[[8, [7, 7]], [8, [7, 7]], [[8, 7], [8, 5]]], [8, 7]]\n",
    "```\n",
    "\n",
    "* **inseriri solo NUMERI oppure NUOVE LISTE DI NUMERI**\n",
    "* Osservare in Python Tutor come vengono raffigurate le frecce"
   ]
  },
  {
   "cell_type": "code",
   "execution_count": 39,
   "metadata": {},
   "outputs": [
    {
     "name": "stdout",
     "output_type": "stream",
     "text": [
      "[[[], [], [[], []]], []]\n"
     ]
    }
   ],
   "source": [
    "\n",
    "la = []  # inserisci elementi  (numeri o liste di numeri)\n",
    "lb = []  # inserisci elementi  (numeri o liste di numeri)\n",
    "lc = []  # inserisci elementi  (numeri o liste di numeri)\n",
    "\n",
    "print([[lb,lb,[lc,la]],lc])"
   ]
  },
  {
   "cell_type": "raw",
   "id": "19ed2e30",
   "metadata": {
    "format": "text/html"
   },
   "source": [
    "<a  class=\"jupman-sol jupman-sol-toggler\" \n",
    " onclick=\"jupman.toggleSolution(this);\" \n",
    " data-jupman-show=\"Mostra soluzione\" data-jupman-hide=\"Nascondi\">Mostra soluzione</a><div class=\"jupman-sol jupman-sol-code\" style=\"display:none\">  "
   ]
  },
  {
   "cell_type": "code",
   "execution_count": 40,
   "metadata": {},
   "outputs": [],
   "source": [
    "# SOLUZIONE\n",
    "\n",
    "la = [8,5]\n",
    "lb = [8,[7,7]]\n",
    "lc = [8,7]\n",
    "\n",
    "#print([[lb,lb,[lc,la]],lc])"
   ]
  },
  {
   "cell_type": "raw",
   "id": "b2390d25",
   "metadata": {
    "format": "text/html"
   },
   "source": [
    "</div>"
   ]
  },
  {
   "cell_type": "code",
   "execution_count": 40,
   "metadata": {},
   "outputs": [],
   "source": []
  },
  {
   "cell_type": "markdown",
   "metadata": {},
   "source": [
    "### Esercizio - creare liste 4\n",
    "\n",
    "\n",
    "Inserire dei valori nelle liste `la`, `lb` tali per cui \n",
    "\n",
    "```python\n",
    "print([[la,lc,la], lb])\n",
    "```\n",
    "\n",
    "stampi\n",
    "\n",
    "```\n",
    "[[[3, 2], [[3, 2], [8, [3, 2]]], [3, 2]], [8, [3, 2]]]\n",
    "```\n",
    "\n",
    "* **inserire solo NUMERI oppure VARIABILI** `la`,`lb` o `lc`\n",
    "* Osservare in Python tutor come vengono raffigurate le frecce"
   ]
  },
  {
   "cell_type": "code",
   "execution_count": 41,
   "metadata": {},
   "outputs": [
    {
     "name": "stdout",
     "output_type": "stream",
     "text": [
      "[[[], [], []], []]\n"
     ]
    }
   ],
   "source": [
    "la = []  # inserisci numeri o variabili la, lb, lc\n",
    "lb = []  # inserisci numeri o variabili la, lb, lc\n",
    "lc = []  # inserisci numeri o variabili la, lb, lc\n",
    "\n",
    "print([[la,lc,la], lb])"
   ]
  },
  {
   "cell_type": "raw",
   "id": "f06fb531",
   "metadata": {
    "format": "text/html"
   },
   "source": [
    "<a  class=\"jupman-sol jupman-sol-toggler\" \n",
    " onclick=\"jupman.toggleSolution(this);\" \n",
    " data-jupman-show=\"Mostra soluzione\" data-jupman-hide=\"Nascondi\">Mostra soluzione</a><div class=\"jupman-sol jupman-sol-code\" style=\"display:none\">  "
   ]
  },
  {
   "cell_type": "code",
   "execution_count": 42,
   "metadata": {},
   "outputs": [],
   "source": [
    "# SOLUZIONE\n",
    "la = [3,2]\n",
    "lb = [8,la]\n",
    "lc = [la,lb]\n",
    "\n",
    "#print([[la,lc,la], lb])"
   ]
  },
  {
   "cell_type": "raw",
   "id": "f2bbd850",
   "metadata": {
    "format": "text/html"
   },
   "source": [
    "</div>"
   ]
  },
  {
   "cell_type": "code",
   "execution_count": 42,
   "metadata": {},
   "outputs": [],
   "source": []
  },
  {
   "cell_type": "markdown",
   "metadata": {},
   "source": [
    "## Convertire sequenze in liste"
   ]
  },
  {
   "cell_type": "markdown",
   "metadata": {},
   "source": [
    "`list` può anche servire per convertire una qualsiasi sequenza in una NUOVA lista. Un tipo di sequenza che già abbiamo visto sono le stringhe, quindi proviamo a vedere cosa succede se usiamo `list` come fosse una funzione e gli passiamo come parametro una stringa: "
   ]
  },
  {
   "cell_type": "code",
   "execution_count": 43,
   "metadata": {},
   "outputs": [
    {
     "data": {
      "text/plain": [
       "['t', 'r', 'e', 'n', 'o']"
      ]
     },
     "execution_count": 43,
     "metadata": {},
     "output_type": "execute_result"
    }
   ],
   "source": [
    "list(\"treno\")"
   ]
  },
  {
   "cell_type": "markdown",
   "metadata": {},
   "source": [
    "Abbiamo ottenuto una lista in cui ogni elemento è costituito da un carattere della stringa originale."
   ]
  },
  {
   "cell_type": "markdown",
   "metadata": {},
   "source": [
    "Se invece chiamiamo `list` su un'altra lista cosa succede?"
   ]
  },
  {
   "cell_type": "code",
   "execution_count": 44,
   "metadata": {},
   "outputs": [
    {
     "data": {
      "text/plain": [
       "[7, 9, 5, 6]"
      ]
     },
     "execution_count": 44,
     "metadata": {},
     "output_type": "execute_result"
    }
   ],
   "source": [
    "list( [7,9,5,6] )"
   ]
  },
  {
   "cell_type": "markdown",
   "metadata": {},
   "source": [
    "Apparentemente, niente di particolare, otteniamo una lista con gli stessi elementi di partenza. Ma è proprio la stessa lista? Guardiamo meglio con Python Tutor:"
   ]
  },
  {
   "cell_type": "code",
   "execution_count": 45,
   "metadata": {},
   "outputs": [
    {
     "data": {
      "text/html": [
       "\n",
       "        <script src=\"../_static/js/pytutor-embed.bundle.min.js\" type=\"application/javascript\"></script>\n",
       "     \n",
       "        <script id=\"json-jm0b099535-dc6e-4915-a86a-1f04775aaf42\" type=\"application/json\" >\n",
       "            {\"trace\": [{\"heap\": {}, \"line\": 2, \"event\": \"step_line\", \"globals\": {}, \"stack_to_render\": [], \"ordered_globals\": [], \"func_name\": \"<module>\", \"stdout\": \"\"}, {\"heap\": {\"1\": [\"LIST\", 7, 9, 5, 6]}, \"line\": 4, \"event\": \"step_line\", \"globals\": {\"la\": [\"REF\", 1]}, \"stack_to_render\": [], \"ordered_globals\": [\"la\"], \"func_name\": \"<module>\", \"stdout\": \"\"}, {\"heap\": {\"1\": [\"LIST\", 7, 9, 5, 6], \"2\": [\"LIST\", 7, 9, 5, 6]}, \"line\": 4, \"event\": \"return\", \"globals\": {\"la\": [\"REF\", 1], \"lb\": [\"REF\", 2]}, \"stack_to_render\": [], \"ordered_globals\": [\"la\", \"lb\"], \"func_name\": \"<module>\", \"stdout\": \"\"}], \"code\": \" \\nla = [7,9,5,6] \\n\\nlb = list( la )\"}\n",
       "        </script>\n",
       "        <div id=\"jm0b099535-dc6e-4915-a86a-1f04775aaf42\" class=\"pytutorVisualizer\"> </div>\n",
       " \n",
       "        <style>\n",
       "        .vizLayoutTd {\n",
       "            background-color: #fff !important;\n",
       "        }\n",
       "\n",
       "        #pyStdout {            \n",
       "            min-height:25px;\n",
       "        }\n",
       "\n",
       "        /* 'Edit this code' link, hiding because replaces browser tab !!!*/\n",
       "        #editCodeLinkDiv {\n",
       "            display:none;  \n",
       "        }\n",
       "        </style>   \n",
       "                            \n",
       "        <script>\n",
       "        (function(){\n",
       "\n",
       "            var trace = JSON.parse(document.getElementById('json-jm0b099535-dc6e-4915-a86a-1f04775aaf42').innerHTML);                                        \n",
       "            // NOTE 1: id without #\n",
       "            // NOTE 2 - maybe there are more predictable ways, but this will work anyway\n",
       "            //        - id should be number\n",
       "            visualizerIdOverride = Math.trunc(Math.random() * 100000000000)\n",
       "            addVisualizerToPage(trace, 'jm0b099535-dc6e-4915-a86a-1f04775aaf42',{'embeddedMode' : false,\n",
       "                                             'visualizerIdOverride':visualizerIdOverride})  \n",
       "            \n",
       "            \n",
       "            // set overflow for pytuts - need to do in python as css \n",
       "            // does not allow parent selection\n",
       "            var pytuts = $('.pytutorVisualizer')\n",
       "            pytuts.closest('div.output_html.rendered_html.output_result')\n",
       "                    .css('overflow-x', 'visible')\n",
       "        \n",
       "            //pytuts.closest('div.output_html.rendered_html.output_result')\n",
       "            //      .css('background-color','red')                \n",
       "            \n",
       "        })()\n",
       "        </script>\n",
       "                \n",
       "                "
      ],
      "text/plain": [
       "<IPython.core.display.HTML object>"
      ]
     },
     "execution_count": 45,
     "metadata": {},
     "output_type": "execute_result"
    }
   ],
   "source": [
    "la = [7,9,5,6] \n",
    "\n",
    "lb = list( la )\n",
    "\n",
    "jupman.pytut()"
   ]
  },
  {
   "cell_type": "markdown",
   "metadata": {},
   "source": [
    "\n",
    "Notiamo che è stata creata una NUOVA regione di memoria con gli stessi elementi di `la`."
   ]
  },
  {
   "cell_type": "markdown",
   "metadata": {},
   "source": [
    "### Esercizio - gulp\n",
    "\n",
    "Data una stringa con caratteri misti minuscoli e maiuscoli, scrivere del codice che crea una lista contente come primo elemento una lista coi caratteri della stringa tutti minuscoli e come secondo elemento una lista contenente tutti i caratteri maiuscoli\n",
    "\n",
    "* il tuo codice deve funzionare con qualunque stringa\n",
    "* se non ricordi i metodi delle stringhe, [guarda qui](https://it.softpython.org/strings/strings3-sol.html)\n",
    "\n",
    "Esempio - dato\n",
    "\n",
    "```python\n",
    "s = 'GuLp'\n",
    "```\n",
    "\n",
    "il tuo codice dovrà stampare\n",
    "\n",
    "```\n",
    "[['g', 'u', 'l', 'p'], ['G', 'U', 'L', 'P']]\n",
    "```\n"
   ]
  },
  {
   "cell_type": "raw",
   "id": "5f6571c1",
   "metadata": {
    "format": "text/html"
   },
   "source": [
    "<a  class=\"jupman-sol jupman-sol-toggler\" \n",
    " onclick=\"jupman.toggleSolution(this);\" \n",
    " data-jupman-show=\"Mostra soluzione\" data-jupman-hide=\"Nascondi\">Mostra soluzione</a><div class=\"jupman-sol jupman-sol-code\" style=\"display:none\">  "
   ]
  },
  {
   "cell_type": "code",
   "execution_count": 46,
   "metadata": {},
   "outputs": [
    {
     "name": "stdout",
     "output_type": "stream",
     "text": [
      "[['g', 'u', 'l', 'p'], ['G', 'U', 'L', 'P']]\n"
     ]
    }
   ],
   "source": [
    "s = 'GuLp'\n",
    "\n",
    "# scrivi qui\n",
    "print([list(s.lower()), list(s.upper())])"
   ]
  },
  {
   "cell_type": "raw",
   "id": "75eae6a4",
   "metadata": {
    "format": "text/html"
   },
   "source": [
    "</div>"
   ]
  },
  {
   "cell_type": "code",
   "execution_count": 46,
   "metadata": {},
   "outputs": [
    {
     "name": "stdout",
     "output_type": "stream",
     "text": [
      "[['g', 'u', 'l', 'p'], ['G', 'U', 'L', 'P']]\n"
     ]
    }
   ],
   "source": [
    "s = 'GuLp'\n",
    "\n",
    "# scrivi qui\n",
    "\n"
   ]
  },
  {
   "cell_type": "markdown",
   "metadata": {},
   "source": [
    "**DOMANDA**: Questo codice:\n",
    "\n",
    "- produce un errore o assegna qualcosa ad `x` ? \n",
    "- Dopo la sua esecuzione, quante liste rimangono in memoria?\n",
    "- Possiamo accorciarlo?"
   ]
  },
  {
   "cell_type": "markdown",
   "metadata": {},
   "source": [
    "```python\n",
    "s = \"maratona\"\n",
    "x = list(list(list(list(s))))\n",
    "```"
   ]
  },
  {
   "cell_type": "raw",
   "id": "19d160d3",
   "metadata": {
    "format": "text/html"
   },
   "source": [
    "<a  class=\"jupman-sol jupman-sol-toggler\" \n",
    " onclick=\"jupman.toggleSolution(this);\" \n",
    " data-jupman-show=\"Mostra risposta\" data-jupman-hide=\"Nascondi\">Mostra risposta</a><div class=\"jupman-sol jupman-sol-question\" style=\"display:none\">  "
   ]
  },
  {
   "cell_type": "markdown",
   "metadata": {},
   "source": [
    "**RISPOSTA**: Il codice assegna alla variabile `x` la lista `['m', 'a', 'r', 'a', 't', 'o', 'n', 'a']`. La prima volta `list(s)` genera la NUOVA lista `['m', 'a', 'r', 'a', 't', 'o', 'n', 'a']`. Le successive chiamate a `list` prendono in input la lista appena generata `['m', 'a', 'r', 'a', 't', 'o', 'n', 'a']` e continuano a creare NUOVE liste con contenuto identico. Dato che però nessuna lista prodotta eccetto l'ultima viene assegnata ad una variabile, quelle intermedie alla fine dell'esecuzione vengono di fatto eliminate. Possiamo quindi tranquillamente accorciare il codice scrivendo \n",
    "\n",
    "```python\n",
    "s = \"maratona\"\n",
    "x = list(s)\n",
    "```"
   ]
  },
  {
   "cell_type": "raw",
   "id": "7ec87220",
   "metadata": {
    "format": "text/html"
   },
   "source": [
    "</div>"
   ]
  },
  {
   "cell_type": "markdown",
   "metadata": {},
   "source": [
    "**DOMANDA**: Questo codice:\n",
    "\n",
    "- produce un errore o assegna qualcosa ad `x` ? \n",
    "- Dopo la sua esecuzione, quante liste rimangono in memoria?\n",
    "\n",
    "\n",
    "```python\n",
    "s = \"catena\"\n",
    "a = list(s)\n",
    "b = list(a)\n",
    "c = b\n",
    "x = list(c)\n",
    "```"
   ]
  },
  {
   "cell_type": "raw",
   "id": "0880951e",
   "metadata": {
    "format": "text/html"
   },
   "source": [
    "<a  class=\"jupman-sol jupman-sol-toggler\" \n",
    " onclick=\"jupman.toggleSolution(this);\" \n",
    " data-jupman-show=\"Mostra risposta\" data-jupman-hide=\"Nascondi\">Mostra risposta</a><div class=\"jupman-sol jupman-sol-question\" style=\"display:none\">  "
   ]
  },
  {
   "cell_type": "markdown",
   "metadata": {},
   "source": [
    "**RISPOSTA**: Rimangono in memoria 3 liste ognuna contenente 6 celle. Questa volta le liste permangono in memoria perchè sono associate alle variabili `a`,`b` e `c`. Abbiamo 3 e non 4 liste perchè con l'istruzione `c = b` la variabile `c` viene associata alla stessa identica regione di memoria associata alla variabile `b`"
   ]
  },
  {
   "cell_type": "raw",
   "id": "f17de2c1",
   "metadata": {
    "format": "text/html"
   },
   "source": [
    "</div>"
   ]
  },
  {
   "cell_type": "markdown",
   "metadata": {},
   "source": [
    "### Esercizio - garaga\n",
    "\n",
    "Date \n",
    "\n",
    "```python\n",
    "sa = \"ga\"\n",
    "sb = \"ra\"\n",
    "la = ['ga']\n",
    "lb = list(la)\n",
    "```\n",
    "\n",
    "* Assegnare ad `lc` una lista costruita in modo che una volta stampata produca\n",
    "\n",
    "```python\n",
    ">>> print(lc)\n",
    "```\n",
    "```python\n",
    "[['g', 'a', 'r', 'a'], ['ga'], ['ga'], ['r', 'a', 'g', 'a']]\n",
    "```\n",
    "\n",
    "* **in Python Tutor, TUTTE le frecce dovranno puntare ad una regione di memoria diversa**\n"
   ]
  },
  {
   "cell_type": "code",
   "execution_count": 47,
   "metadata": {},
   "outputs": [
    {
     "name": "stdout",
     "output_type": "stream",
     "text": [
      "[]\n"
     ]
    },
    {
     "data": {
      "text/html": [
       "\n",
       "        <script src=\"../_static/js/pytutor-embed.bundle.min.js\" type=\"application/javascript\"></script>\n",
       "     \n",
       "        <script id=\"json-jm9fcdb809-c006-4837-8d7c-3f2eccf751bc\" type=\"application/json\" >\n",
       "            {\"trace\": [{\"heap\": {}, \"line\": 2, \"event\": \"step_line\", \"globals\": {}, \"stack_to_render\": [], \"ordered_globals\": [], \"func_name\": \"<module>\", \"stdout\": \"\"}, {\"heap\": {}, \"line\": 3, \"event\": \"step_line\", \"globals\": {\"sa\": \"ga\"}, \"stack_to_render\": [], \"ordered_globals\": [\"sa\"], \"func_name\": \"<module>\", \"stdout\": \"\"}, {\"heap\": {}, \"line\": 4, \"event\": \"step_line\", \"globals\": {\"sa\": \"ga\", \"sb\": \"ra\"}, \"stack_to_render\": [], \"ordered_globals\": [\"sa\", \"sb\"], \"func_name\": \"<module>\", \"stdout\": \"\"}, {\"heap\": {\"1\": [\"LIST\", \"ga\"]}, \"line\": 5, \"event\": \"step_line\", \"globals\": {\"sa\": \"ga\", \"la\": [\"REF\", 1], \"sb\": \"ra\"}, \"stack_to_render\": [], \"ordered_globals\": [\"sa\", \"sb\", \"la\"], \"func_name\": \"<module>\", \"stdout\": \"\"}, {\"heap\": {\"1\": [\"LIST\", \"ga\"], \"2\": [\"LIST\", \"ga\"]}, \"line\": 8, \"event\": \"step_line\", \"globals\": {\"sa\": \"ga\", \"la\": [\"REF\", 1], \"lb\": [\"REF\", 2], \"sb\": \"ra\"}, \"stack_to_render\": [], \"ordered_globals\": [\"sa\", \"sb\", \"la\", \"lb\"], \"func_name\": \"<module>\", \"stdout\": \"\"}, {\"heap\": {\"1\": [\"LIST\", \"ga\"], \"2\": [\"LIST\", \"ga\"], \"3\": [\"LIST\"]}, \"line\": 10, \"event\": \"step_line\", \"globals\": {\"sa\": \"ga\", \"la\": [\"REF\", 1], \"lb\": [\"REF\", 2], \"sb\": \"ra\", \"lc\": [\"REF\", 3]}, \"stack_to_render\": [], \"ordered_globals\": [\"sa\", \"sb\", \"la\", \"lb\", \"lc\"], \"func_name\": \"<module>\", \"stdout\": \"\"}, {\"heap\": {\"1\": [\"LIST\", \"ga\"], \"2\": [\"LIST\", \"ga\"], \"3\": [\"LIST\"]}, \"line\": 10, \"event\": \"return\", \"globals\": {\"sa\": \"ga\", \"la\": [\"REF\", 1], \"lb\": [\"REF\", 2], \"sb\": \"ra\", \"lc\": [\"REF\", 3]}, \"stack_to_render\": [], \"ordered_globals\": [\"sa\", \"sb\", \"la\", \"lb\", \"lc\"], \"func_name\": \"<module>\", \"stdout\": \"[]\\n\"}], \"code\": \" \\nsa = \\\"ga\\\"\\nsb = \\\"ra\\\"\\nla = ['ga']\\nlb = list(la)\\n\\n# inserire del codice nella lista\\nlc = []  \\n\\nprint(lc)\"}\n",
       "        </script>\n",
       "        <div id=\"jm9fcdb809-c006-4837-8d7c-3f2eccf751bc\" class=\"pytutorVisualizer\"> </div>\n",
       " \n",
       "        <style>\n",
       "        .vizLayoutTd {\n",
       "            background-color: #fff !important;\n",
       "        }\n",
       "\n",
       "        #pyStdout {            \n",
       "            min-height:25px;\n",
       "        }\n",
       "\n",
       "        /* 'Edit this code' link, hiding because replaces browser tab !!!*/\n",
       "        #editCodeLinkDiv {\n",
       "            display:none;  \n",
       "        }\n",
       "        </style>   \n",
       "                            \n",
       "        <script>\n",
       "        (function(){\n",
       "\n",
       "            var trace = JSON.parse(document.getElementById('json-jm9fcdb809-c006-4837-8d7c-3f2eccf751bc').innerHTML);                                        \n",
       "            // NOTE 1: id without #\n",
       "            // NOTE 2 - maybe there are more predictable ways, but this will work anyway\n",
       "            //        - id should be number\n",
       "            visualizerIdOverride = Math.trunc(Math.random() * 100000000000)\n",
       "            addVisualizerToPage(trace, 'jm9fcdb809-c006-4837-8d7c-3f2eccf751bc',{'embeddedMode' : false,\n",
       "                                             'visualizerIdOverride':visualizerIdOverride})  \n",
       "            \n",
       "            \n",
       "            // set overflow for pytuts - need to do in python as css \n",
       "            // does not allow parent selection\n",
       "            var pytuts = $('.pytutorVisualizer')\n",
       "            pytuts.closest('div.output_html.rendered_html.output_result')\n",
       "                    .css('overflow-x', 'visible')\n",
       "        \n",
       "            //pytuts.closest('div.output_html.rendered_html.output_result')\n",
       "            //      .css('background-color','red')                \n",
       "            \n",
       "        })()\n",
       "        </script>\n",
       "                \n",
       "                "
      ],
      "text/plain": [
       "<IPython.core.display.HTML object>"
      ]
     },
     "execution_count": 47,
     "metadata": {},
     "output_type": "execute_result"
    }
   ],
   "source": [
    "sa = \"ga\"\n",
    "sb = \"ra\"\n",
    "la = ['ga']\n",
    "lb = list(la)\n",
    "\n",
    "# inserire del codice nella lista\n",
    "lc = []  \n",
    "\n",
    "print(lc)\n",
    "jupman.pytut()"
   ]
  },
  {
   "cell_type": "raw",
   "id": "f083e3b7",
   "metadata": {
    "format": "text/html"
   },
   "source": [
    "<a  class=\"jupman-sol jupman-sol-toggler\" \n",
    " onclick=\"jupman.toggleSolution(this);\" \n",
    " data-jupman-show=\"Mostra soluzione\" data-jupman-hide=\"Nascondi\">Mostra soluzione</a><div class=\"jupman-sol jupman-sol-code\" style=\"display:none\">  "
   ]
  },
  {
   "cell_type": "code",
   "execution_count": 48,
   "metadata": {},
   "outputs": [
    {
     "name": "stdout",
     "output_type": "stream",
     "text": [
      "[['g', 'a', 'r', 'a'], ['ga'], ['ga'], ['r', 'a', 'g', 'a']]\n"
     ]
    },
    {
     "data": {
      "text/html": [
       "\n",
       "        <script src=\"../_static/js/pytutor-embed.bundle.min.js\" type=\"application/javascript\"></script>\n",
       "     \n",
       "        <script id=\"json-jm068e53c1-b0ef-42f6-ac78-22601eb364e4\" type=\"application/json\" >\n",
       "            {\"trace\": [{\"heap\": {}, \"line\": 4, \"event\": \"step_line\", \"globals\": {}, \"stack_to_render\": [], \"ordered_globals\": [], \"func_name\": \"<module>\", \"stdout\": \"\"}, {\"heap\": {}, \"line\": 5, \"event\": \"step_line\", \"globals\": {\"sa\": \"ga\"}, \"stack_to_render\": [], \"ordered_globals\": [\"sa\"], \"func_name\": \"<module>\", \"stdout\": \"\"}, {\"heap\": {}, \"line\": 6, \"event\": \"step_line\", \"globals\": {\"sa\": \"ga\", \"sb\": \"ra\"}, \"stack_to_render\": [], \"ordered_globals\": [\"sa\", \"sb\"], \"func_name\": \"<module>\", \"stdout\": \"\"}, {\"heap\": {\"1\": [\"LIST\", \"ga\"]}, \"line\": 7, \"event\": \"step_line\", \"globals\": {\"sa\": \"ga\", \"la\": [\"REF\", 1], \"sb\": \"ra\"}, \"stack_to_render\": [], \"ordered_globals\": [\"sa\", \"sb\", \"la\"], \"func_name\": \"<module>\", \"stdout\": \"\"}, {\"heap\": {\"1\": [\"LIST\", \"ga\"], \"2\": [\"LIST\", \"ga\"]}, \"line\": 8, \"event\": \"step_line\", \"globals\": {\"sa\": \"ga\", \"la\": [\"REF\", 1], \"lb\": [\"REF\", 2], \"sb\": \"ra\"}, \"stack_to_render\": [], \"ordered_globals\": [\"sa\", \"sb\", \"la\", \"lb\"], \"func_name\": \"<module>\", \"stdout\": \"\"}, {\"heap\": {\"1\": [\"LIST\", \"ga\"], \"2\": [\"LIST\", \"ga\"], \"3\": [\"LIST\", [\"REF\", 4], [\"REF\", 5], [\"REF\", 6], [\"REF\", 7]], \"4\": [\"LIST\", \"g\", \"a\", \"r\", \"a\"], \"5\": [\"LIST\", \"ga\"], \"6\": [\"LIST\", \"ga\"], \"7\": [\"LIST\", \"r\", \"a\", \"g\", \"a\"]}, \"line\": 10, \"event\": \"step_line\", \"globals\": {\"sa\": \"ga\", \"la\": [\"REF\", 1], \"lb\": [\"REF\", 2], \"sb\": \"ra\", \"lc\": [\"REF\", 3]}, \"stack_to_render\": [], \"ordered_globals\": [\"sa\", \"sb\", \"la\", \"lb\", \"lc\"], \"func_name\": \"<module>\", \"stdout\": \"\"}, {\"heap\": {\"1\": [\"LIST\", \"ga\"], \"2\": [\"LIST\", \"ga\"], \"3\": [\"LIST\", [\"REF\", 4], [\"REF\", 5], [\"REF\", 6], [\"REF\", 7]], \"4\": [\"LIST\", \"g\", \"a\", \"r\", \"a\"], \"5\": [\"LIST\", \"ga\"], \"6\": [\"LIST\", \"ga\"], \"7\": [\"LIST\", \"r\", \"a\", \"g\", \"a\"]}, \"line\": 10, \"event\": \"return\", \"globals\": {\"sa\": \"ga\", \"la\": [\"REF\", 1], \"lb\": [\"REF\", 2], \"sb\": \"ra\", \"lc\": [\"REF\", 3]}, \"stack_to_render\": [], \"ordered_globals\": [\"sa\", \"sb\", \"la\", \"lb\", \"lc\"], \"func_name\": \"<module>\", \"stdout\": \"[['g', 'a', 'r', 'a'], ['ga'], ['ga'], ['r', 'a', 'g', 'a']]\\n\"}], \"code\": \" \\n# SOLUZIONE\\n\\nsa = \\\"ga\\\"\\nsb = \\\"ra\\\"\\nla = ['ga']\\nlb = list(la)\\nlc = [list(sa + sb), list(la), list(lb), list(sb + sa) ]\\n\\nprint(lc)\"}\n",
       "        </script>\n",
       "        <div id=\"jm068e53c1-b0ef-42f6-ac78-22601eb364e4\" class=\"pytutorVisualizer\"> </div>\n",
       " \n",
       "        <style>\n",
       "        .vizLayoutTd {\n",
       "            background-color: #fff !important;\n",
       "        }\n",
       "\n",
       "        #pyStdout {            \n",
       "            min-height:25px;\n",
       "        }\n",
       "\n",
       "        /* 'Edit this code' link, hiding because replaces browser tab !!!*/\n",
       "        #editCodeLinkDiv {\n",
       "            display:none;  \n",
       "        }\n",
       "        </style>   \n",
       "                            \n",
       "        <script>\n",
       "        (function(){\n",
       "\n",
       "            var trace = JSON.parse(document.getElementById('json-jm068e53c1-b0ef-42f6-ac78-22601eb364e4').innerHTML);                                        \n",
       "            // NOTE 1: id without #\n",
       "            // NOTE 2 - maybe there are more predictable ways, but this will work anyway\n",
       "            //        - id should be number\n",
       "            visualizerIdOverride = Math.trunc(Math.random() * 100000000000)\n",
       "            addVisualizerToPage(trace, 'jm068e53c1-b0ef-42f6-ac78-22601eb364e4',{'embeddedMode' : false,\n",
       "                                             'visualizerIdOverride':visualizerIdOverride})  \n",
       "            \n",
       "            \n",
       "            // set overflow for pytuts - need to do in python as css \n",
       "            // does not allow parent selection\n",
       "            var pytuts = $('.pytutorVisualizer')\n",
       "            pytuts.closest('div.output_html.rendered_html.output_result')\n",
       "                    .css('overflow-x', 'visible')\n",
       "        \n",
       "            //pytuts.closest('div.output_html.rendered_html.output_result')\n",
       "            //      .css('background-color','red')                \n",
       "            \n",
       "        })()\n",
       "        </script>\n",
       "                \n",
       "                "
      ],
      "text/plain": [
       "<IPython.core.display.HTML object>"
      ]
     },
     "execution_count": 48,
     "metadata": {},
     "output_type": "execute_result"
    }
   ],
   "source": [
    "# SOLUZIONE\n",
    "\n",
    "sa = \"ga\"\n",
    "sb = \"ra\"\n",
    "la = ['ga']\n",
    "lb = list(la)\n",
    "lc = [list(sa + sb), list(la), list(lb), list(sb + sa) ]\n",
    "\n",
    "print(lc)\n",
    "jupman.pytut()"
   ]
  },
  {
   "cell_type": "raw",
   "id": "2bcc996a",
   "metadata": {
    "format": "text/html"
   },
   "source": [
    "</div>"
   ]
  },
  {
   "cell_type": "code",
   "execution_count": 48,
   "metadata": {},
   "outputs": [
    {
     "name": "stdout",
     "output_type": "stream",
     "text": [
      "[['g', 'a', 'r', 'a'], ['ga'], ['ga'], ['r', 'a', 'g', 'a']]\n"
     ]
    },
    {
     "data": {
      "text/html": [
       "\n",
       "        <script src=\"../_static/js/pytutor-embed.bundle.min.js\" type=\"application/javascript\"></script>\n",
       "     \n",
       "        <script id=\"json-jm068e53c1-b0ef-42f6-ac78-22601eb364e4\" type=\"application/json\" >\n",
       "            {\"trace\": [{\"heap\": {}, \"line\": 4, \"event\": \"step_line\", \"globals\": {}, \"stack_to_render\": [], \"ordered_globals\": [], \"func_name\": \"<module>\", \"stdout\": \"\"}, {\"heap\": {}, \"line\": 5, \"event\": \"step_line\", \"globals\": {\"sa\": \"ga\"}, \"stack_to_render\": [], \"ordered_globals\": [\"sa\"], \"func_name\": \"<module>\", \"stdout\": \"\"}, {\"heap\": {}, \"line\": 6, \"event\": \"step_line\", \"globals\": {\"sa\": \"ga\", \"sb\": \"ra\"}, \"stack_to_render\": [], \"ordered_globals\": [\"sa\", \"sb\"], \"func_name\": \"<module>\", \"stdout\": \"\"}, {\"heap\": {\"1\": [\"LIST\", \"ga\"]}, \"line\": 7, \"event\": \"step_line\", \"globals\": {\"sa\": \"ga\", \"la\": [\"REF\", 1], \"sb\": \"ra\"}, \"stack_to_render\": [], \"ordered_globals\": [\"sa\", \"sb\", \"la\"], \"func_name\": \"<module>\", \"stdout\": \"\"}, {\"heap\": {\"1\": [\"LIST\", \"ga\"], \"2\": [\"LIST\", \"ga\"]}, \"line\": 8, \"event\": \"step_line\", \"globals\": {\"sa\": \"ga\", \"la\": [\"REF\", 1], \"lb\": [\"REF\", 2], \"sb\": \"ra\"}, \"stack_to_render\": [], \"ordered_globals\": [\"sa\", \"sb\", \"la\", \"lb\"], \"func_name\": \"<module>\", \"stdout\": \"\"}, {\"heap\": {\"1\": [\"LIST\", \"ga\"], \"2\": [\"LIST\", \"ga\"], \"3\": [\"LIST\", [\"REF\", 4], [\"REF\", 5], [\"REF\", 6], [\"REF\", 7]], \"4\": [\"LIST\", \"g\", \"a\", \"r\", \"a\"], \"5\": [\"LIST\", \"ga\"], \"6\": [\"LIST\", \"ga\"], \"7\": [\"LIST\", \"r\", \"a\", \"g\", \"a\"]}, \"line\": 10, \"event\": \"step_line\", \"globals\": {\"sa\": \"ga\", \"la\": [\"REF\", 1], \"lb\": [\"REF\", 2], \"sb\": \"ra\", \"lc\": [\"REF\", 3]}, \"stack_to_render\": [], \"ordered_globals\": [\"sa\", \"sb\", \"la\", \"lb\", \"lc\"], \"func_name\": \"<module>\", \"stdout\": \"\"}, {\"heap\": {\"1\": [\"LIST\", \"ga\"], \"2\": [\"LIST\", \"ga\"], \"3\": [\"LIST\", [\"REF\", 4], [\"REF\", 5], [\"REF\", 6], [\"REF\", 7]], \"4\": [\"LIST\", \"g\", \"a\", \"r\", \"a\"], \"5\": [\"LIST\", \"ga\"], \"6\": [\"LIST\", \"ga\"], \"7\": [\"LIST\", \"r\", \"a\", \"g\", \"a\"]}, \"line\": 10, \"event\": \"return\", \"globals\": {\"sa\": \"ga\", \"la\": [\"REF\", 1], \"lb\": [\"REF\", 2], \"sb\": \"ra\", \"lc\": [\"REF\", 3]}, \"stack_to_render\": [], \"ordered_globals\": [\"sa\", \"sb\", \"la\", \"lb\", \"lc\"], \"func_name\": \"<module>\", \"stdout\": \"[['g', 'a', 'r', 'a'], ['ga'], ['ga'], ['r', 'a', 'g', 'a']]\\n\"}], \"code\": \" \\n# SOLUZIONE\\n\\nsa = \\\"ga\\\"\\nsb = \\\"ra\\\"\\nla = ['ga']\\nlb = list(la)\\nlc = [list(sa + sb), list(la), list(lb), list(sb + sa) ]\\n\\nprint(lc)\"}\n",
       "        </script>\n",
       "        <div id=\"jm068e53c1-b0ef-42f6-ac78-22601eb364e4\" class=\"pytutorVisualizer\"> </div>\n",
       " \n",
       "        <style>\n",
       "        .vizLayoutTd {\n",
       "            background-color: #fff !important;\n",
       "        }\n",
       "\n",
       "        #pyStdout {            \n",
       "            min-height:25px;\n",
       "        }\n",
       "\n",
       "        /* 'Edit this code' link, hiding because replaces browser tab !!!*/\n",
       "        #editCodeLinkDiv {\n",
       "            display:none;  \n",
       "        }\n",
       "        </style>   \n",
       "                            \n",
       "        <script>\n",
       "        (function(){\n",
       "\n",
       "            var trace = JSON.parse(document.getElementById('json-jm068e53c1-b0ef-42f6-ac78-22601eb364e4').innerHTML);                                        \n",
       "            // NOTE 1: id without #\n",
       "            // NOTE 2 - maybe there are more predictable ways, but this will work anyway\n",
       "            //        - id should be number\n",
       "            visualizerIdOverride = Math.trunc(Math.random() * 100000000000)\n",
       "            addVisualizerToPage(trace, 'jm068e53c1-b0ef-42f6-ac78-22601eb364e4',{'embeddedMode' : false,\n",
       "                                             'visualizerIdOverride':visualizerIdOverride})  \n",
       "            \n",
       "            \n",
       "            // set overflow for pytuts - need to do in python as css \n",
       "            // does not allow parent selection\n",
       "            var pytuts = $('.pytutorVisualizer')\n",
       "            pytuts.closest('div.output_html.rendered_html.output_result')\n",
       "                    .css('overflow-x', 'visible')\n",
       "        \n",
       "            //pytuts.closest('div.output_html.rendered_html.output_result')\n",
       "            //      .css('background-color','red')                \n",
       "            \n",
       "        })()\n",
       "        </script>\n",
       "                \n",
       "                "
      ],
      "text/plain": [
       "<IPython.core.display.HTML object>"
      ]
     },
     "execution_count": 48,
     "metadata": {},
     "output_type": "execute_result"
    }
   ],
   "source": []
  },
  {
   "cell_type": "markdown",
   "metadata": {},
   "source": [
    "## Continua\n",
    "\n",
    "Prosegui con il foglio [Liste 2 - Operatori](https://it.softpython.org/lists/lists2-sol.html)"
   ]
  },
  {
   "cell_type": "code",
   "execution_count": null,
   "metadata": {},
   "outputs": [],
   "source": []
  }
 ],
 "metadata": {
  "celltoolbar": "Edit Metadata",
  "kernelspec": {
   "display_name": "Python 3",
   "language": "python",
   "name": "python3"
  },
  "language_info": {
   "codemirror_mode": {
    "name": "ipython",
    "version": 3
   },
   "file_extension": ".py",
   "mimetype": "text/x-python",
   "name": "python",
   "nbconvert_exporter": "python",
   "pygments_lexer": "ipython3",
   "version": "3.7.9"
  },
  "toc": {
   "base_numbering": 1,
   "nav_menu": {},
   "number_sections": false,
   "sideBar": true,
   "skip_h1_title": false,
   "title_cell": "Table of Contents",
   "title_sidebar": "Contents",
   "toc_cell": false,
   "toc_position": {
    "height": "calc(100% - 180px)",
    "left": "10px",
    "top": "150px",
    "width": "280px"
   },
   "toc_section_display": true,
   "toc_window_display": true
  }
 },
 "nbformat": 4,
 "nbformat_minor": 2
}

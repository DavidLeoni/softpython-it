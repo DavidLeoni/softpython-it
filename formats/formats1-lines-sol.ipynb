{
 "cells": [
  {
   "cell_type": "markdown",
   "metadata": {
    "colab_type": "text",
    "id": "2T1wWDPa5bO_"
   },
   "source": [
    "# Formati dati 1 - Introduzione\n",
    "\n",
    "## [Scarica zip esercizi](../_static/generated/formats.zip)\n",
    "\n",
    "[Naviga file online](https://github.com/DavidLeoni/softpython-it/tree/master/formats)\n"
   ]
  },
  {
   "cell_type": "markdown",
   "metadata": {},
   "source": [
    "In questi tutorial parleremo di formati dei dati:\n",
    "\n",
    "File testuali\n",
    "\n",
    "* File a linee\n",
    "* CSV (dati tabulari)\n",
    "* JSON (dati ad albero, menzione)\n",
    "\n",
    "File binari:\n",
    "\n",
    "* fogli Excel (menzione)\n",
    "\n",
    "Faremo anche una breve panoramica sui cataloghi open data e menzioneremo qualche licenza (Creative Commons)"
   ]
  },
  {
   "cell_type": "markdown",
   "metadata": {},
   "source": [
    "\n",
    "### Che fare\n",
    "\n",
    "\n",
    "- scompatta lo zip in una cartella, dovresti ottenere qualcosa del genere: \n",
    "\n",
    "```\n",
    "\n",
    "formats\n",
    "    formats1-lines.ipynb     \n",
    "    formats1-lines-sol.ipynb\n",
    "    formats2-csv.ipynb     \n",
    "    formats2-csv-sol.ipynb    \n",
    "    formats3-json.ipynb     \n",
    "    formats3-json-sol.ipynb    \n",
    "    formats4-chal.ipynb    \n",
    "    jupman.py\n",
    "```\n",
    "\n",
    "<div class=\"alert alert-warning\">\n",
    "\n",
    "**ATTENZIONE**: Per essere visualizzato correttamente, il file del notebook DEVE essere nella cartella szippata.\n",
    "</div>\n",
    "\n",
    "- apri il Jupyter Notebook da quella cartella. Due cose dovrebbero aprirsi, prima una console e poi un browser. Il browser dovrebbe mostrare una lista di file: naviga la lista e apri il notebook `formats1-lines.ipynb`\n",
    "- Prosegui leggendo il file degli esercizi, ogni tanto al suo interno troverai delle scritte **ESERCIZIO**, che ti chiederanno di scrivere dei comandi Python nelle celle successive. \n",
    "\n",
    "Scorciatoie da tastiera:\n",
    "\n",
    "* Per eseguire il codice Python dentro una cella di Jupyter, premi `Control+Invio`\n",
    "* Per eseguire il codice Python dentro una cella di Jupyter E selezionare la cella seguente, premi `Shift+Invio`\n",
    "* Per eseguire il codice Python dentro una cella di Jupyter E creare una nuova cella subito dopo, premi `Alt+Invio`\n",
    "* Se per caso il Notebook sembra inchiodato, prova a selezionare `Kernel -> Restart`\n",
    "\n",
    "\n"
   ]
  },
  {
   "cell_type": "markdown",
   "metadata": {
    "colab_type": "text",
    "id": "fC_te77v5bPE"
   },
   "source": [
    "## File a linee\n",
    "\n",
    "I file a linee tipicamente sono file di testo che contengono informazioni raggruppate per linee. Un esempio usando personaggi storici potrebbe essere un file così:\n",
    "\n",
    "```\n",
    "Leonardo\n",
    "da Vinci\n",
    "Sandro\n",
    "Botticelli\n",
    "Niccolò \n",
    "Macchiavelli\n",
    "```\n",
    "\n",
    "Si nota subito una regolarità: le prime due linee contengono i dati di Leonardo da Vinci, prima il nome e poi il cognome. Le successive due linee hanno invece i dati di Sandro Botticelli, di nuovo prima il nome e poi il cognome, e così via\n",
    "\n",
    "Un programma che potremo voler fare potrebbe essere leggere le linee e stampare a video nomi e cognomi così:\n",
    "\n",
    "```\n",
    "Leonardo da Vinci \n",
    "Sandro Botticelli\n",
    "Niccolò Macchiavelli\n",
    "```\n",
    "\n",
    "Per iniziare ad avere un'approssimazione del risultato finale, possiamo aprire il file, leggere solo la prima linea e stamparla:\n"
   ]
  },
  {
   "cell_type": "code",
   "execution_count": 1,
   "metadata": {
    "colab": {
     "autoexec": {
      "startup": false,
      "wait_interval": 0
     },
     "output_extras": [
      {}
     ]
    },
    "colab_type": "code",
    "id": "-XsMLCyU5bPH",
    "outputId": "824ecd67-35e8-4b79-bde5-ddf7f70334f4"
   },
   "outputs": [
    {
     "name": "stdout",
     "output_type": "stream",
     "text": [
      "Leonardo\n",
      "\n"
     ]
    }
   ],
   "source": [
    "with open('people-simple.txt', encoding='utf-8') as f:\n",
    "    linea=f.readline()\n",
    "    print(linea)"
   ]
  },
  {
   "cell_type": "markdown",
   "metadata": {
    "colab_type": "text",
    "id": "C0eSCHzw5bPZ"
   },
   "source": [
    "Che è successo? Esaminiamo le varie linee:\n",
    "\n",
    "### il comando open\n",
    "\n",
    "Il comando \n",
    "\n",
    "```python\n",
    "open('people-simple.txt', encoding='utf-8')\n",
    "```\n",
    "\n",
    "ci permette di aprire il file di testo dicendo a Python il percorso del file `'people-simple.txt'` e la codifica con cui è stato scritto (`encoding='utf-8'`). \n",
    "\n",
    "### La codifica\n",
    "\n",
    "La codifica dipende dal sistema operativo e dell'editor con cui è stato scritto il file. Quando apriamo un file, Python non può divinare la codifica, e se non gliela specifichiamo potrebbe aprirlo assumendo una codifica diversa dall'originale - tradotto, affidandoci al caso o sbagliando codifica in seguito potremmo vedere dei caratteri strani (tipo quadratini invece di lettere accentate). \n",
    "\n",
    "In genere, quando apri un file, prova prima a specificare la codifica `utf-8` che è la più comune scrivendo `encoding='utf-8'`, e se per caso  non va bene prova invece `encoding='latin-1'` (solitamente utile se il file è stato scritto su sistemi Windows). Se apri file scritti in posti più esotici, tipo in Cina, potresti dover usare un'altro encoding. Per approfondire queste questioni, quando hai tempo leggi [Immersione in Python - Cap 4 - Stringhe](http://gpiancastelli.altervista.org/dip3-it/stringhe.html) e [Immersione in Python - Cap 11 - File](http://gpiancastelli.altervista.org/dip3-it/stringhe.html), **entrambe letture caldamente consigliate**. \n",
    "\n",
    "### il blocco with\n",
    "\n",
    "Il `with` definisce un blocco con all'interno le istruzioni:\n",
    "\n",
    "```python\n",
    "with open('people-simple.txt', encoding='utf-8') as f:\n",
    "    linea=f.readline()\n",
    "    print(linea)\n",
    "```\n",
    "\n",
    "Abbiamo usato il `with` per dire a Python che in ogni caso, anche se accadono errori, vogliamo che dopo aver usato il file, e cioè eseguito le istruzioni nel blocco interno (il `linea=f.readline()` e `print(linea)`) Python deve chiudere automaticamente il file. Chiudere propriamente un file evita di sprecare risorse di memoria e creare errori paranormali. Se vuoi evitare di andare a caccia di file zombie mai chiusi, ricordati sempre di aprire i file nei blocchi `with`! Inoltre, alla fine della riga  nella parte `as f:` abbiamo assegnato il file ad una variabile chiamata qui `f`, ma potevamo usare un qualunque altro nome.\n",
    "\n",
    "\n",
    "<div class=\"alert alert-warning\">\n",
    "\n",
    "**ATTENZIONE**: Per indentare il codice, usa SEMPRE sequenze di 4 spazi bianchi. Sequenze di 2 soli spazi per quanto consentite non sono raccomandate. \n",
    "</div>\n",
    "\n",
    "<div class=\"alert alert-warning\">\n",
    "\n",
    "**ATTENZIONE**: A seconda dell'editor che usi, premendo TAB potresti ottenere una sequenza di spazi bianchi come accade in Jupyter (4 spazi che sono raccomandati), oppure un carattere speciale di tabulazione (da evitare)! Per quanto noiosa questa distinzione ti possa apparire, ricordatela perchè potrebbe generare errori molto difficili da scoprire. \n",
    "</div>\n",
    "\n",
    "<div class=\"alert alert-warning\">\n",
    "\n",
    "**ATTENZIONE**: Nei comandi che creano blocchi come il `with`, ricordati di mettere sempre il carattere dei doppi punti `:` alla fine della linea !\n",
    "</div>\n"
   ]
  },
  {
   "cell_type": "markdown",
   "metadata": {
    "colab_type": "text",
    "id": "en84Abg_5bPb"
   },
   "source": [
    "Il comando \n",
    "\n",
    "```\n",
    "    linea=f.readline()\n",
    "```\n",
    "mette nella variabile `linea` l'intera linea, come una stringa. Attenzione: la stringa conterrà alla fine anche il carattere speciale di ritorno a capo !\n",
    "\n",
    "Ti chiederai da dove venga fuori quel `readline`. Come quasi tutto in Python, la nostra variabile `f` che rappresenta il file appena aperto è un oggetto, e ogni oggetto, a seconda del suo tipo, ha dei _metodi_ particolari che possiamo usare su di esso. In questo caso il metodo è `readline`. \n",
    "\n",
    "Il comando seguente stampa il contenuto della stringa:\n",
    "\n",
    "```python\n",
    "    print(linea) \n",
    "```\n"
   ]
  },
  {
   "cell_type": "markdown",
   "metadata": {
    "colab_type": "text",
    "id": "wzyIGFfP5bPd"
   },
   "source": [
    "**✪ 1.1  ESERCIZIO**: Prova a riscrivere nella cella qua il blocco with appena visto, ed esegui la cella premendo Control-Invio. Riscrivi il codice con le dita, non con il copia e incolla ! Fai attenzione ad indentare correttamente con gli spazi il blocco."
   ]
  },
  {
   "cell_type": "raw",
   "id": "f66eb793",
   "metadata": {
    "format": "text/html"
   },
   "source": [
    "<a  class=\"jupman-sol jupman-sol-toggler\" \n",
    " onclick=\"jupman.toggleSolution(this);\" \n",
    " data-jupman-show=\"Mostra soluzione\" data-jupman-hide=\"Nascondi\">Mostra soluzione</a><div class=\"jupman-sol jupman-sol-code\" style=\"display:none\">  "
   ]
  },
  {
   "cell_type": "code",
   "execution_count": 2,
   "metadata": {
    "colab": {
     "autoexec": {
      "startup": false,
      "wait_interval": 0
     }
    },
    "colab_type": "code",
    "id": "Z26Xnnfm5bPg"
   },
   "outputs": [
    {
     "name": "stdout",
     "output_type": "stream",
     "text": [
      "Leonardo\n",
      "\n"
     ]
    }
   ],
   "source": [
    "# scrivi qui \n",
    "\n",
    "with open('people-simple.txt', encoding='utf-8') as f:\n",
    "    linea=f.readline()\n",
    "    print(linea)\n"
   ]
  },
  {
   "cell_type": "raw",
   "id": "38de4c00",
   "metadata": {
    "format": "text/html"
   },
   "source": [
    "</div>"
   ]
  },
  {
   "cell_type": "code",
   "execution_count": 2,
   "metadata": {
    "colab": {
     "autoexec": {
      "startup": false,
      "wait_interval": 0
     }
    },
    "colab_type": "code",
    "id": "Z26Xnnfm5bPg"
   },
   "outputs": [
    {
     "name": "stdout",
     "output_type": "stream",
     "text": [
      "Leonardo\n",
      "\n"
     ]
    }
   ],
   "source": [
    "# scrivi qui \n",
    "\n"
   ]
  },
  {
   "cell_type": "markdown",
   "metadata": {
    "colab_type": "text",
    "id": "0zsZD7-N5bPo"
   },
   "source": [
    "**✪ 1.2 ESERCIZIO**: immagino ti starai chiedendo che cosa è esattamente  quella `f`, e cosa faccia esattamente il metodo `readline`. Quando ti trovi in queste situazioni, puoi aiutarti con le funzioni `type` e `help`. Questa volta, copia e incolla direttamente sempre lo stesso codice qua sotto, ma aggiungi a mano dentro il blocco `with` i comandi: \n",
    "\n",
    "* `print(type(f))`\n",
    "* `help(f.readline)      # Attenzione: ricordati il 'f.' prima del readline !!`\n",
    "* `help(f)`\n",
    "\n",
    "Ogni volta che aggiungi qualcosa, prova ad eseguire con Control+Invio e vedere cosa succede."
   ]
  },
  {
   "cell_type": "raw",
   "id": "68e47997",
   "metadata": {
    "format": "text/html"
   },
   "source": [
    "<a  class=\"jupman-sol jupman-sol-toggler\" \n",
    " onclick=\"jupman.toggleSolution(this);\" \n",
    " data-jupman-show=\"Mostra soluzione\" data-jupman-hide=\"Nascondi\">Mostra soluzione</a><div class=\"jupman-sol jupman-sol-code\" style=\"display:none\">  "
   ]
  },
  {
   "cell_type": "code",
   "execution_count": 3,
   "metadata": {
    "colab": {
     "autoexec": {
      "startup": false,
      "wait_interval": 0
     }
    },
    "colab_type": "code",
    "id": "B5vALRz55bPq",
    "scrolled": false
   },
   "outputs": [
    {
     "name": "stdout",
     "output_type": "stream",
     "text": [
      "Leonardo\n",
      "\n",
      "type(f): <class '_io.TextIOWrapper'>\n",
      "\n",
      "Help on built-in function readline:\n",
      "\n",
      "readline(size=-1, /) method of _io.TextIOWrapper instance\n",
      "    Read until newline or EOF.\n",
      "    \n",
      "    Returns an empty string if EOF is hit immediately.\n",
      "\n"
     ]
    }
   ],
   "source": [
    "# scrivi qui il codice (copia e incolla)\n",
    "with open('people-simple.txt', encoding='utf-8') as f:\n",
    "    linea=f.readline()\n",
    "    print(linea)\n",
    "    print('type(f):', type(f))\n",
    "    print()\n",
    "    help(f.readline)    \n",
    "    #help(f)  # lunga ...\n",
    "    \n"
   ]
  },
  {
   "cell_type": "raw",
   "id": "c704ff91",
   "metadata": {
    "format": "text/html"
   },
   "source": [
    "</div>"
   ]
  },
  {
   "cell_type": "code",
   "execution_count": 3,
   "metadata": {
    "colab": {
     "autoexec": {
      "startup": false,
      "wait_interval": 0
     }
    },
    "colab_type": "code",
    "id": "B5vALRz55bPq",
    "scrolled": false
   },
   "outputs": [
    {
     "name": "stdout",
     "output_type": "stream",
     "text": [
      "Leonardo\n",
      "\n",
      "type(f): <class '_io.TextIOWrapper'>\n",
      "\n",
      "Help on built-in function readline:\n",
      "\n",
      "readline(size=-1, /) method of _io.TextIOWrapper instance\n",
      "    Read until newline or EOF.\n",
      "    \n",
      "    Returns an empty string if EOF is hit immediately.\n",
      "\n"
     ]
    }
   ],
   "source": [
    "# scrivi qui il codice (copia e incolla)\n",
    "\n"
   ]
  },
  {
   "cell_type": "markdown",
   "metadata": {
    "colab_type": "text",
    "id": "I53T_-LV5bPx"
   },
   "source": [
    "Prima abbiamo messo il contenuto della prima linea nella variabile `line`, ora potremmo metterlo in una variabile dal nome più significativo, come `nome`. Non solo, possiamo anche direttamente leggere la linea successiva nella variabile `cognome` e poi stampare la concatenazione delle due:"
   ]
  },
  {
   "cell_type": "code",
   "execution_count": 4,
   "metadata": {
    "colab": {
     "autoexec": {
      "startup": false,
      "wait_interval": 0
     },
     "output_extras": [
      {}
     ]
    },
    "colab_type": "code",
    "id": "nK3hZrCq5bP0",
    "outputId": "49e2a028-ba09-4d96-be97-43a08ef3686b"
   },
   "outputs": [
    {
     "name": "stdout",
     "output_type": "stream",
     "text": [
      "Leonardo\n",
      " da Vinci\n",
      "\n"
     ]
    }
   ],
   "source": [
    "with open('people-simple.txt', encoding='utf-8') as f:\n",
    "    nome=f.readline()\n",
    "    cognome=f.readline()\n",
    "    print(nome + ' ' + cognome)\n"
   ]
  },
  {
   "cell_type": "markdown",
   "metadata": {
    "colab_type": "text",
    "id": "7UwUBQnc5bP-"
   },
   "source": [
    "**PROBLEMA !** La stampa mette comunque uno strano ritorno a capo. Come mai? Se ti ricordi, prima ho detto che `readline` legge il contenuto della linea in una stringa aggiungendo alla fine anche il carattere speciale di ritorno a capo. Per eliminarlo, puoi usare il comando `rstrip()`:"
   ]
  },
  {
   "cell_type": "code",
   "execution_count": 5,
   "metadata": {
    "colab": {
     "autoexec": {
      "startup": false,
      "wait_interval": 0
     },
     "output_extras": [
      {}
     ]
    },
    "colab_type": "code",
    "id": "cNvkN5BD5bQB",
    "outputId": "d9dd006e-6bd9-4671-c98c-3af68cce2dc7"
   },
   "outputs": [
    {
     "name": "stdout",
     "output_type": "stream",
     "text": [
      "Leonardo da Vinci\n"
     ]
    }
   ],
   "source": [
    "with open('people-simple.txt', encoding='utf-8') as f:\n",
    "    nome=f.readline().rstrip()\n",
    "    cognome=f.readline().rstrip()\n",
    "    print(nome + ' ' + cognome)\n"
   ]
  },
  {
   "cell_type": "markdown",
   "metadata": {
    "colab_type": "text",
    "id": "1XWpXow25bQM"
   },
   "source": [
    "**✪ 1.3 ESERCIZIO**: Di nuovo, riscrivi il blocco qua sopra nella cella sotto, ed esegui la cella con Control+Invio. Domanda: che succede se usi `strip()` invece di `rstrip()`? Ed `lstrip()`? Riesci a dedurre il significato di `r` e `l` ? Se non ci riesci, prova ad usare il comando python `help` chiamando `help(string.rstrip)` "
   ]
  },
  {
   "cell_type": "raw",
   "id": "63eebe95",
   "metadata": {
    "format": "text/html"
   },
   "source": [
    "<a  class=\"jupman-sol jupman-sol-toggler\" \n",
    " onclick=\"jupman.toggleSolution(this);\" \n",
    " data-jupman-show=\"Mostra soluzione\" data-jupman-hide=\"Nascondi\">Mostra soluzione</a><div class=\"jupman-sol jupman-sol-code\" style=\"display:none\">  "
   ]
  },
  {
   "cell_type": "code",
   "execution_count": 6,
   "metadata": {
    "colab": {
     "autoexec": {
      "startup": false,
      "wait_interval": 0
     }
    },
    "colab_type": "code",
    "id": "cMnM_Ywm5bQP"
   },
   "outputs": [
    {
     "name": "stdout",
     "output_type": "stream",
     "text": [
      "Leonardo da Vinci\n"
     ]
    }
   ],
   "source": [
    "# scrivi qui \n",
    "\n",
    "with open('people-simple.txt', encoding='utf-8') as f:\n",
    "    nome=f.readline().rstrip()\n",
    "    cognome=f.readline().rstrip()\n",
    "    print(nome + ' ' + cognome)"
   ]
  },
  {
   "cell_type": "raw",
   "id": "52c14334",
   "metadata": {
    "format": "text/html"
   },
   "source": [
    "</div>"
   ]
  },
  {
   "cell_type": "code",
   "execution_count": 6,
   "metadata": {
    "colab": {
     "autoexec": {
      "startup": false,
      "wait_interval": 0
     }
    },
    "colab_type": "code",
    "id": "cMnM_Ywm5bQP"
   },
   "outputs": [
    {
     "name": "stdout",
     "output_type": "stream",
     "text": [
      "Leonardo da Vinci\n"
     ]
    }
   ],
   "source": [
    "# scrivi qui \n",
    "\n"
   ]
  },
  {
   "cell_type": "markdown",
   "metadata": {
    "colab_type": "text",
    "id": "O7vruQTu5bQb"
   },
   "source": [
    "Benissimo, abbiamo la prima linea ! Adesso possiamo leggere tutte le linee in sequenza. A tal fine possiamo usare un ciclo `while`:\n",
    "\n"
   ]
  },
  {
   "cell_type": "code",
   "execution_count": 7,
   "metadata": {
    "colab": {
     "autoexec": {
      "startup": false,
      "wait_interval": 0
     },
     "output_extras": [
      {}
     ]
    },
    "colab_type": "code",
    "id": "dXZBiWN-5bQh",
    "outputId": "607b53ee-8c4d-48cc-dc06-c8d6c0996223"
   },
   "outputs": [
    {
     "name": "stdout",
     "output_type": "stream",
     "text": [
      "Leonardo da Vinci\n",
      "Sandro Botticelli\n",
      "Niccolò Macchiavelli\n"
     ]
    }
   ],
   "source": [
    "with open('people-simple.txt', encoding='utf-8') as f:\n",
    "    linea=f.readline()\n",
    "    while linea != \"\":                \n",
    "        nome = linea.rstrip()\n",
    "        cognome=f.readline().rstrip()\n",
    "        print(nome + ' ' + cognome)\n",
    "        linea=f.readline()"
   ]
  },
  {
   "cell_type": "markdown",
   "metadata": {},
   "source": [
    "<div class=\"alert alert-info\">\n",
    "\n",
    "**NOTA:** In Python ci sono [metodi più concisi](https://thispointer.com/5-different-ways-to-read-a-file-line-by-line-in-python/) per leggere un file tdi testo linea per linea, ma abbiamo usato questo approccio per esplicitare tutti i passaggi\n",
    "</div>"
   ]
  },
  {
   "cell_type": "markdown",
   "metadata": {
    "colab_type": "text",
    "id": "Gs1Fthi-5bQr"
   },
   "source": [
    "Cosa abbiamo fatto? Per prima cosa, abbiamo aggiunto un ciclo `while` in un nuovo blocco\n",
    "\n",
    "<div class=\"alert alert-warning\">\n",
    "\n",
    "**Attenzione**: nel nuovo blocco while, dato che è già all'interno del blocco esterno `with`, le istruzioni sono indentate di 8 spazi e non più 4! Se per caso sbagli gli spazi, possono succedere brutti guai!\n",
    "</div>\n",
    "\n",
    "Prima leggiamo una linea, e due casi sono possibili:\n",
    "\n",
    "a. siamo alla fine del file (o il file è vuoto): in questo caso la chiamata a  `readline()` ritorna una stringa vuota\n",
    "\n",
    "b. non siamo alla fine del file: la prima linea è messa come una stringa dentro la variabile `linea`. Dato che Python internamente usa un puntatore per tenere traccia della posizione a cui si è durante la lettura del file, dopo una lettura questo puntatore è mosso all'inizio della riga successiva. In questo modo una chiamata successiva a `readline()` leggerà la linea dalla nuova posizione.\n",
    "\n",
    "\n",
    "Nel blocco `while` diciamo a Python di continuare il ciclo fintanto che `linea` _non_ è vuota. In questo caso, dentro il blocco `while` estraiamo il nome dalla linea e lo mettiamo nella variabile `nome` (rimuovendo il carattere extra di ritorno a capo con la `rstrip()` come fatto in precedenza), e poi procediamo leggendo la nuova riga ed estraendo il risultato dentro la variabile `cognome`. Infine, leggiamo di nuovo la linea dentro la variabile `linea` così sarà pronta per la prossima iterazione di estrazione nome. Se la `linea` è vuota il ciclo terminerà:\n",
    "\n",
    "\n",
    "```python\n",
    "while linea != \"\":                   # entra il ciclo se la linea contiene caratteri\n",
    "    nome = linea.rstrip()            # estrae il nome\n",
    "    cognome=f.readline().rstrip()    # legge la nuova linea ed estrae il cognome\n",
    "    print(nome + ' ' + cognome)     \n",
    "    linea=f.readline()               # legge la prossima linea\n",
    "```\n"
   ]
  },
  {
   "cell_type": "markdown",
   "metadata": {
    "colab_type": "text",
    "id": "z2RxmnlK5bQu"
   },
   "source": [
    "**✪ 1.4 ESERCIZIO**: Di nuovo come prima, riscrivi nella cella qua sotto il codice col while appena spiegato, facendo MOLTA attenzione all'indentazione (per la linea del with esterno fai pure copia e incolla):"
   ]
  },
  {
   "cell_type": "raw",
   "id": "516287f5",
   "metadata": {
    "format": "text/html"
   },
   "source": [
    "<a  class=\"jupman-sol jupman-sol-toggler\" \n",
    " onclick=\"jupman.toggleSolution(this);\" \n",
    " data-jupman-show=\"Mostra soluzione\" data-jupman-hide=\"Nascondi\">Mostra soluzione</a><div class=\"jupman-sol jupman-sol-code\" style=\"display:none\">  "
   ]
  },
  {
   "cell_type": "code",
   "execution_count": 8,
   "metadata": {
    "colab": {
     "autoexec": {
      "startup": false,
      "wait_interval": 0
     }
    },
    "colab_type": "code",
    "id": "rElpI-gY5bQw"
   },
   "outputs": [
    {
     "name": "stdout",
     "output_type": "stream",
     "text": [
      "Leonardo da Vinci\n",
      "Sandro Botticelli\n",
      "Niccolò Macchiavelli\n"
     ]
    }
   ],
   "source": [
    "# scrivi qui il codice col while interno\n",
    "\n",
    "with open('people-simple.txt', encoding='utf-8') as f:\n",
    "    linea=f.readline()\n",
    "    while linea != \"\":                \n",
    "        nome = linea.rstrip()\n",
    "        cognome=f.readline().rstrip()\n",
    "        print(nome + ' ' + cognome)\n",
    "        linea=f.readline()"
   ]
  },
  {
   "cell_type": "raw",
   "id": "35fb49aa",
   "metadata": {
    "format": "text/html"
   },
   "source": [
    "</div>"
   ]
  },
  {
   "cell_type": "code",
   "execution_count": 8,
   "metadata": {
    "colab": {
     "autoexec": {
      "startup": false,
      "wait_interval": 0
     }
    },
    "colab_type": "code",
    "id": "rElpI-gY5bQw"
   },
   "outputs": [
    {
     "name": "stdout",
     "output_type": "stream",
     "text": [
      "Leonardo da Vinci\n",
      "Sandro Botticelli\n",
      "Niccolò Macchiavelli\n"
     ]
    }
   ],
   "source": [
    "# scrivi qui il codice col while interno\n",
    "\n"
   ]
  },
  {
   "cell_type": "markdown",
   "metadata": {
    "colab_type": "text",
    "id": "6pP7nWFc5bQ4"
   },
   "source": [
    "## File a linee people-complex\n",
    "\n",
    "Guarda il file `people-complex.txt`, più complesso:\n",
    "```\n",
    "nome: Leonardo\n",
    "cognome: da Vinci\n",
    "data di nascita: 1452-04-15\n",
    "nome: Sandro\n",
    "cognome: Botticelli\n",
    "data di nascita: 1445-03-01\n",
    "nome: Niccolò \n",
    "cognome: Macchiavelli\n",
    "data di nascita: 1469-05-03\n",
    "```\n",
    "\n",
    "Supponendo di leggere il file per voler stampare questo output, come faresti ?\n",
    "\n",
    "```\n",
    "Leonardo da Vinci, 1452-04-15\n",
    "Sandro Botticelli, 1445-03-01\n",
    "Niccolò Macchiavelli, 1469-05-03\n",
    "```"
   ]
  },
  {
   "cell_type": "markdown",
   "metadata": {
    "colab_type": "text",
    "id": "c76qOu-25bQ7"
   },
   "source": [
    "\n",
    "**Suggerimento 1**: Per ottenere dalla stringa `'abcde'` la sottostringa `'cde'`, che inizia all'indice 2,  puoi usare l'operatore di parentesi quadre, indicando l'indice di inizio seguito dai doppi punti `:` \n"
   ]
  },
  {
   "cell_type": "code",
   "execution_count": 9,
   "metadata": {
    "colab": {
     "autoexec": {
      "startup": false,
      "wait_interval": 0
     },
     "output_extras": [
      {}
     ]
    },
    "colab_type": "code",
    "id": "wbGZhl2w5bQ-",
    "outputId": "d42be766-a32c-44c6-c44f-b29b34817cd8"
   },
   "outputs": [
    {
     "data": {
      "text/plain": [
       "'cde'"
      ]
     },
     "execution_count": 9,
     "metadata": {},
     "output_type": "execute_result"
    }
   ],
   "source": [
    "x = 'abcde'\n",
    "x[2:]"
   ]
  },
  {
   "cell_type": "code",
   "execution_count": 10,
   "metadata": {
    "colab": {
     "autoexec": {
      "startup": false,
      "wait_interval": 0
     },
     "output_extras": [
      {}
     ]
    },
    "colab_type": "code",
    "id": "Nr3E0n-d5bRI",
    "outputId": "33bdbff3-051a-4c6f-86b0-209fa7706cd3"
   },
   "outputs": [
    {
     "data": {
      "text/plain": [
       "'de'"
      ]
     },
     "execution_count": 10,
     "metadata": {},
     "output_type": "execute_result"
    }
   ],
   "source": [
    "x[3:]"
   ]
  },
  {
   "cell_type": "markdown",
   "metadata": {
    "colab_type": "text",
    "id": "HlDQzVWG5bRS"
   },
   "source": [
    "**Suggerimento 2**: Per sapere la lunghezza di una stringa, usa la funzione `len`: "
   ]
  },
  {
   "cell_type": "code",
   "execution_count": 11,
   "metadata": {
    "colab": {
     "autoexec": {
      "startup": false,
      "wait_interval": 0
     },
     "output_extras": [
      {}
     ]
    },
    "colab_type": "code",
    "id": "G5-AXund5bRT",
    "outputId": "2bc3c444-04d0-4053-d3c0-60fe33ed6099"
   },
   "outputs": [
    {
     "data": {
      "text/plain": [
       "5"
      ]
     },
     "execution_count": 11,
     "metadata": {},
     "output_type": "execute_result"
    }
   ],
   "source": [
    "len('abcde')"
   ]
  },
  {
   "cell_type": "markdown",
   "metadata": {
    "colab_type": "text",
    "id": "KVA0FPut5bRe"
   },
   "source": [
    "**✪ 1.5 ESERCIZIO**: Scrivi qua sotto la soluzione dell'esercizio 'People complex': "
   ]
  },
  {
   "cell_type": "raw",
   "id": "f511fa72",
   "metadata": {
    "format": "text/html"
   },
   "source": [
    "<a  class=\"jupman-sol jupman-sol-toggler\" \n",
    " onclick=\"jupman.toggleSolution(this);\" \n",
    " data-jupman-show=\"Mostra soluzione\" data-jupman-hide=\"Nascondi\">Mostra soluzione</a><div class=\"jupman-sol jupman-sol-code\" style=\"display:none\">  "
   ]
  },
  {
   "cell_type": "code",
   "execution_count": 12,
   "metadata": {
    "colab": {
     "autoexec": {
      "startup": false,
      "wait_interval": 0
     }
    },
    "colab_type": "code",
    "id": "XlS5VSI05bRg"
   },
   "outputs": [
    {
     "name": "stdout",
     "output_type": "stream",
     "text": [
      "Leonardo da Vinci, 1452-04-15\n",
      "Sandro Botticelli, 1445-03-01\n",
      "Niccolò Macchiavelli, 1469-05-03\n"
     ]
    }
   ],
   "source": [
    "# scrivi qui \n",
    "\n",
    "with open('people-complex.txt', encoding='utf-8') as f:\n",
    "    linea=f.readline()\n",
    "    while linea != \"\":                \n",
    "        nome = linea.rstrip()[len(\"nome: \"):]\n",
    "        cognome= f.readline().rstrip()[len(\"cognome: \"):]\n",
    "        nato = f.readline().rstrip()[len(\"data di nascita: \"):]\n",
    "        print(nome + ' ' + cognome + ', ' + nato)\n",
    "        linea=f.readline()        "
   ]
  },
  {
   "cell_type": "raw",
   "id": "2d45b038",
   "metadata": {
    "format": "text/html"
   },
   "source": [
    "</div>"
   ]
  },
  {
   "cell_type": "code",
   "execution_count": 12,
   "metadata": {
    "colab": {
     "autoexec": {
      "startup": false,
      "wait_interval": 0
     }
    },
    "colab_type": "code",
    "id": "XlS5VSI05bRg"
   },
   "outputs": [
    {
     "name": "stdout",
     "output_type": "stream",
     "text": [
      "Leonardo da Vinci, 1452-04-15\n",
      "Sandro Botticelli, 1445-03-01\n",
      "Niccolò Macchiavelli, 1469-05-03\n"
     ]
    }
   ],
   "source": [
    "# scrivi qui \n",
    "\n"
   ]
  },
  {
   "cell_type": "markdown",
   "metadata": {
    "colab_type": "text",
    "id": "Q_F0X5jm5bRo"
   },
   "source": [
    "## Esercizio file a linee immersione-in-python-toc\n",
    "\n",
    "Questo esercizio è più difficile, se sei alle prime armi puoi saltarlo e passare ai CSV.\n",
    "\n",
    "Il libro Immersione in Python in Italiano è bello e ti fornisce un PDF, che però ha un problema: se provi a stamparlo scoprirai che manca l'indice. Senza perderci d'animo, abbiamo trovato un programmino che ci ha estratto i titoli in un file come segue, che però come scoprirai non è esattamente bello da vedere. Dato che siamo Python ninja, abbiamo deciso di trasformare i titoli grezzi in una [tabella dei contenuti vera e propria](http://it.softpython.org/_static/toc-immersione-in-python-3.txt). Sicuramente ci sono metodi più furbi per compiere questa operazione, come caricare il pdf in Python con una apposita libreria per i pdf, ma pareva un esercizio interessante.\n",
    "\n",
    "Ti viene consegnato il file immersione-in-python-toc.txt:\n",
    "\n",
    "```\n",
    "BookmarkBegin\n",
    "BookmarkTitle: Il vostro primo programma Python\n",
    "BookmarkLevel: 1\n",
    "BookmarkPageNumber: 38\n",
    "BookmarkBegin\n",
    "BookmarkTitle: Immersione!\n",
    "BookmarkLevel: 2\n",
    "BookmarkPageNumber: 38\n",
    "BookmarkBegin\n",
    "BookmarkTitle: Dichiarare funzioni\n",
    "BookmarkLevel: 2\n",
    "BookmarkPageNumber: 41\n",
    "BookmarkBeginint\n",
    "BookmarkTitle: Argomenti opzionali e con nome\n",
    "BookmarkLevel: 3\n",
    "BookmarkPageNumber: 42\n",
    "BookmarkBegin\n",
    "BookmarkTitle: Scrivere codice leggibile\n",
    "BookmarkLevel: 2\n",
    "BookmarkPageNumber: 44\n",
    "BookmarkBegin\n",
    "BookmarkTitle: Stringhe di documentazione\n",
    "BookmarkLevel: 3\n",
    "BookmarkPageNumber: 44\n",
    "BookmarkBegin\n",
    "BookmarkTitle: Il percorso di ricerca di import\n",
    "BookmarkLevel: 2\n",
    "BookmarkPageNumber: 46\n",
    "BookmarkBegin\n",
    "BookmarkTitle: Ogni cosa &#232; un oggetto\n",
    "BookmarkLevel: 2\n",
    "BookmarkPageNumber: 47\n",
    "```\n",
    "\n",
    "Scrivi un programma python per stampare e video il seguente output:\n",
    "\n",
    "```\n",
    "   Il vostro primo programma Python  38\n",
    "      Immersione!  38\n",
    "      Dichiarare funzioni  41\n",
    "         Argomenti opzionali e con nome  42\n",
    "      Scrivere codice leggibile  44\n",
    "         Stringhe di documentazione  44\n",
    "      Il percorso di ricerca di import  46\n",
    "      Ogni cosa è un oggetto  47\n",
    "```\n",
    "\n",
    "Per questo esercizio, dovrai inserire nell'output degli spazi artificiali, in una quantità determinata dalle righe `BookmarkLevel`. \n",
    "\n",
    "**DOMANDA**: che cos'è  lo strano valore `&#232;` alla fine del file originale ? Dobbiamo riportarlo nell'output ? \n",
    "\n",
    "**SUGGERIMENTO 1**: Per convertire una stringa in numero intero, usa la funzione `int`:\n"
   ]
  },
  {
   "cell_type": "code",
   "execution_count": 13,
   "metadata": {
    "colab": {
     "autoexec": {
      "startup": false,
      "wait_interval": 0
     }
    },
    "colab_type": "code",
    "id": "XWlxnhpX5bRy"
   },
   "outputs": [],
   "source": [
    "x = '5'"
   ]
  },
  {
   "cell_type": "code",
   "execution_count": 14,
   "metadata": {
    "colab": {
     "autoexec": {
      "startup": false,
      "wait_interval": 0
     },
     "output_extras": [
      {}
     ]
    },
    "colab_type": "code",
    "id": "GdJd09mZ5bR_",
    "outputId": "dc19c940-e1af-4c84-aa60-012cfb985133"
   },
   "outputs": [
    {
     "data": {
      "text/plain": [
       "'5'"
      ]
     },
     "execution_count": 14,
     "metadata": {},
     "output_type": "execute_result"
    }
   ],
   "source": [
    "x"
   ]
  },
  {
   "cell_type": "code",
   "execution_count": 15,
   "metadata": {
    "colab": {
     "autoexec": {
      "startup": false,
      "wait_interval": 0
     },
     "output_extras": [
      {}
     ]
    },
    "colab_type": "code",
    "id": "nETKnztF5bSF",
    "outputId": "118522fe-186c-452e-9218-223508605154"
   },
   "outputs": [
    {
     "data": {
      "text/plain": [
       "5"
      ]
     },
     "execution_count": 15,
     "metadata": {},
     "output_type": "execute_result"
    }
   ],
   "source": [
    "int(x)"
   ]
  },
  {
   "cell_type": "markdown",
   "metadata": {
    "colab_type": "text",
    "id": "wwfLN6lv5bSQ"
   },
   "source": [
    "\n",
    "<div class=\"alert alert-warning\">\n",
    "\n",
    "**Attenzione**: `int(x)` ritorna un valore, e non modifica mai l'argomento `x` !  \n",
    "</div>\n"
   ]
  },
  {
   "cell_type": "markdown",
   "metadata": {
    "colab_type": "text",
    "id": "w06zsF1a5bSS"
   },
   "source": [
    "**SUGGERIMENTO 2**: Per sostituire un sottostringa in una stringa, si può usare la funzione replace:"
   ]
  },
  {
   "cell_type": "code",
   "execution_count": 16,
   "metadata": {
    "colab": {
     "autoexec": {
      "startup": false,
      "wait_interval": 0
     },
     "output_extras": [
      {}
     ]
    },
    "colab_type": "code",
    "id": "sGPUddlf5bST",
    "outputId": "4af45183-e44d-4fad-a1ba-16c6722c62ce"
   },
   "outputs": [
    {
     "data": {
      "text/plain": [
       "'abHELLOe'"
      ]
     },
     "execution_count": 16,
     "metadata": {},
     "output_type": "execute_result"
    }
   ],
   "source": [
    "x = 'abcde'\n",
    "x.replace('cd', 'HELLO' )"
   ]
  },
  {
   "cell_type": "markdown",
   "metadata": {
    "colab_type": "text",
    "id": "7OBEbHya5bSd"
   },
   "source": [
    "**SUGGERIMENTO 4**: Finchè c'è una sola sequenza da sostituire, va bene il replace, ma se avessimo un milione di sequenze orribili come `&gt;`, `&#62;`, `&x3e;`, che faremmo? Da bravi data cleaner, possiamo riconoscere che sono [sequenze di escape HTML](https://corsidia.com/materia/web-design/caratterispecialihtml), perciò potremmo usare dei  metodi specifici per queste sequenze come [html.unescape](https://docs.python.org/3/library/html.html#html.unescape). Provalo invece del replace e guarda se funziona! \n",
    "\n",
    "NOTA: Prima di usare il metodo `html.unescape`, importa il modulo `html` con il comando: \n",
    "\n",
    "```python\n",
    "import html\n",
    "```"
   ]
  },
  {
   "cell_type": "markdown",
   "metadata": {
    "colab_type": "text",
    "id": "m2scPeP15bSe"
   },
   "source": [
    "**SUGGERIMENTO 3**: Per scrivere _n_ copie di un carattere, usa `*` come qua:"
   ]
  },
  {
   "cell_type": "code",
   "execution_count": 17,
   "metadata": {
    "colab": {
     "autoexec": {
      "startup": false,
      "wait_interval": 0
     },
     "output_extras": [
      {}
     ]
    },
    "colab_type": "code",
    "id": "0mOU41SC5bSf",
    "outputId": "74391ce6-fef1-4d9e-a630-804af033f3fd"
   },
   "outputs": [
    {
     "data": {
      "text/plain": [
       "'bbb'"
      ]
     },
     "execution_count": 17,
     "metadata": {},
     "output_type": "execute_result"
    }
   ],
   "source": [
    "\"b\" * 3"
   ]
  },
  {
   "cell_type": "code",
   "execution_count": 18,
   "metadata": {
    "colab": {
     "autoexec": {
      "startup": false,
      "wait_interval": 0
     },
     "output_extras": [
      {}
     ]
    },
    "colab_type": "code",
    "id": "NK5lFuks5bSm",
    "outputId": "56bed93f-878f-4d92-88fc-2afef788218c"
   },
   "outputs": [
    {
     "data": {
      "text/plain": [
       "'bbbbbbb'"
      ]
     },
     "execution_count": 18,
     "metadata": {},
     "output_type": "execute_result"
    }
   ],
   "source": [
    "\"b\" * 7"
   ]
  },
  {
   "cell_type": "markdown",
   "metadata": {
    "colab_type": "text",
    "id": "58yyJFaf5bSu"
   },
   "source": [
    "**✪✪✪ 1.6 ESERCIZIO**: Scrivi qua sotto la soluzione per file a linee immersione-in-python-toc, e prova ad eseguirla premendo Control + Invio:"
   ]
  },
  {
   "cell_type": "raw",
   "id": "f69bacf5",
   "metadata": {
    "format": "text/html"
   },
   "source": [
    "<a  class=\"jupman-sol jupman-sol-toggler\" \n",
    " onclick=\"jupman.toggleSolution(this);\" \n",
    " data-jupman-show=\"Mostra soluzione\" data-jupman-hide=\"Nascondi\">Mostra soluzione</a><div class=\"jupman-sol jupman-sol-code\" style=\"display:none\">  "
   ]
  },
  {
   "cell_type": "code",
   "execution_count": 19,
   "metadata": {
    "colab": {
     "autoexec": {
      "startup": false,
      "wait_interval": 0
     }
    },
    "colab_type": "code",
    "id": "ndZarkM45bSv"
   },
   "outputs": [
    {
     "name": "stdout",
     "output_type": "stream",
     "text": [
      "   Il vostro primo programma Python  38\n",
      "      Immersione!  38\n",
      "      Dichiarare funzioni  41\n",
      "         Argomenti opzionali e con nome  42\n",
      "      Scrivere codice leggibile  44\n",
      "         Stringhe di documentazione  44\n",
      "      Il percorso di ricerca di import  46\n",
      "      Ogni cosa è un oggetto  47\n"
     ]
    }
   ],
   "source": [
    "# scrivi qui \n",
    "\n",
    "import html\n",
    "\n",
    "with open(\"immersione-in-python-toc.txt\", encoding='utf-8') as f:\n",
    "\n",
    "    linea=f.readline()  \n",
    "    while linea != \"\":\n",
    "        linea = f.readline().strip()\n",
    "        titolo = html.unescape(linea[len(\"BookmarkTitle: \"):])\n",
    "        linea=f.readline().strip()\n",
    "        livello = int(linea[len(\"BookmarkLevel: \"):])\n",
    "        linea=f.readline().strip()\n",
    "        pagina = linea[len(\"BookmarkPageNumber: \"):]\n",
    "        print((\"   \" * livello) + titolo + \"  \" + pagina)\n",
    "        linea=f.readline()"
   ]
  },
  {
   "cell_type": "raw",
   "id": "1c0fba1e",
   "metadata": {
    "format": "text/html"
   },
   "source": [
    "</div>"
   ]
  },
  {
   "cell_type": "code",
   "execution_count": 19,
   "metadata": {
    "colab": {
     "autoexec": {
      "startup": false,
      "wait_interval": 0
     }
    },
    "colab_type": "code",
    "id": "ndZarkM45bSv"
   },
   "outputs": [
    {
     "name": "stdout",
     "output_type": "stream",
     "text": [
      "   Il vostro primo programma Python  38\n",
      "      Immersione!  38\n",
      "      Dichiarare funzioni  41\n",
      "         Argomenti opzionali e con nome  42\n",
      "      Scrivere codice leggibile  44\n",
      "         Stringhe di documentazione  44\n",
      "      Il percorso di ricerca di import  46\n",
      "      Ogni cosa è un oggetto  47\n"
     ]
    }
   ],
   "source": [
    "# scrivi qui \n",
    "\n"
   ]
  },
  {
   "cell_type": "markdown",
   "metadata": {},
   "source": [
    "## Prosegui\n",
    "\n",
    "Continua con i [file tabellari CSV](https://it.softpython.org/formats/formats2-csv-sol.html)"
   ]
  }
 ],
 "metadata": {
  "celltoolbar": "Edit Metadata",
  "colab": {
   "collapsed_sections": [],
   "default_view": {},
   "name": "data-formats-exercises.ipynb",
   "provenance": [],
   "version": "0.3.2",
   "views": {}
  },
  "kernelspec": {
   "display_name": "Python 3 (ipykernel)",
   "language": "python",
   "name": "python3"
  },
  "language_info": {
   "codemirror_mode": {
    "name": "ipython",
    "version": 3
   },
   "file_extension": ".py",
   "mimetype": "text/x-python",
   "name": "python",
   "nbconvert_exporter": "python",
   "pygments_lexer": "ipython3",
   "version": "3.7.10"
  },
  "toc": {
   "base_numbering": 1,
   "nav_menu": {},
   "number_sections": false,
   "sideBar": true,
   "skip_h1_title": false,
   "title_cell": "Table of Contents",
   "title_sidebar": "Contents",
   "toc_cell": false,
   "toc_position": {},
   "toc_section_display": true,
   "toc_window_display": true
  }
 },
 "nbformat": 4,
 "nbformat_minor": 1
}

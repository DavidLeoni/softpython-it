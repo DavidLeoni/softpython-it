{
 "cells": [
  {
   "cell_type": "markdown",
   "metadata": {
    "colab_type": "text",
    "id": "2T1wWDPa5bO_"
   },
   "source": [
    "# Formati dati 3 - JSON\n",
    "\n",
    "## [Scarica zip esercizi](../_static/generated/formats.zip)\n",
    "\n",
    "[Naviga file online](https://github.com/DavidLeoni/softpython-it/tree/master/formats)\n",
    "\n",
    "\n"
   ]
  },
  {
   "cell_type": "markdown",
   "metadata": {},
   "source": [
    "Il JSON è un formato più elaborato,  molto diffuso nel mondo delle applicazioni web. \n",
    "\n",
    "Un file con estensione `.json` è semplicemente un file di testo, strutturato _ad albero_. Vediamone un esempio, tratto dal dataset stazioni di Bike sharing di Lavis:\n",
    "\n",
    "- Fonte dati: [dati.trentino.it](https://dati.trentino.it/dataset/stazioni-bike-sharing-emotion-trentino) - Servizio Trasporti Provincia Autonoma di Trento\n",
    "- Licenza: [CC-BY 4.0](http://creativecommons.org/licenses/by/4.0/deed.it)\n",
    "\n"
   ]
  },
  {
   "cell_type": "markdown",
   "metadata": {},
   "source": [
    "File [bike-sharing-lavis.json](bike-sharing-lavis.json):\n",
    "\n",
    "```json\n",
    "[\n",
    "  {\n",
    "    \"name\": \"Grazioli\",\n",
    "    \"address\": \"Piazza Grazioli - Lavis\",\n",
    "    \"id\": \"Grazioli - Lavis\",\n",
    "    \"bikes\": 3,\n",
    "    \"slots\": 7,\n",
    "    \"totalSlots\": 10,\n",
    "    \"position\": [\n",
    "      46.139732902099794,\n",
    "      11.111516155225331\n",
    "    ]\n",
    "  },\n",
    "  {\n",
    "    \"name\": \"Pressano\",\n",
    "    \"address\": \"Piazza della Croce - Pressano\",\n",
    "    \"id\": \"Pressano - Lavis\",\n",
    "    \"bikes\": 2,\n",
    "    \"slots\": 5,\n",
    "    \"totalSlots\": 7,\n",
    "    \"position\": [\n",
    "      46.15368174037716,\n",
    "      11.106601229430453\n",
    "    ]\n",
    "  },\n",
    "  {\n",
    "    \"name\": \"Stazione RFI\",\n",
    "    \"address\": \"Via Stazione - Lavis\",\n",
    "    \"id\": \"Stazione RFI - Lavis\",\n",
    "    \"bikes\": 4,\n",
    "    \"slots\": 6,\n",
    "    \"totalSlots\": 10,\n",
    "    \"position\": [\n",
    "      46.148180371138814,\n",
    "      11.096753997622727\n",
    "    ]\n",
    "  }\n",
    "]\n",
    "\n",
    "```\n",
    "\n",
    "\n"
   ]
  },
  {
   "cell_type": "markdown",
   "metadata": {},
   "source": [
    "Come si può notare, il formato del JSON è molto simile a strutture dati che già abbiamo in Python, come stringhe, numeri interi, float, liste e dizionari. L’unica differenza sono i campi `null` del JSON che diventano `None` in Python. Quindi la conversione a Python è quasi sempre facile e indolore, per farla basta usare il modulo già pronto `json` con la funzione `json.load`, che interpreta il testo dal file json e lo converte in strutture dati Python:"
   ]
  },
  {
   "cell_type": "code",
   "execution_count": 1,
   "metadata": {},
   "outputs": [
    {
     "name": "stdout",
     "output_type": "stream",
     "text": [
      "[{'name': 'Grazioli', 'address': 'Piazza Grazioli - Lavis', 'id': 'Grazioli - Lavis', 'bikes': 3, 'slots': 7, 'totalSlots': 10, 'position': [46.139732902099794, 11.111516155225331]}, {'name': 'Pressano', 'address': 'Piazza della Croce - Pressano', 'id': 'Pressano - Lavis', 'bikes': 2, 'slots': 5, 'totalSlots': 7, 'position': [46.15368174037716, 11.106601229430453]}, {'name': 'Stazione RFI', 'address': 'Via Stazione - Lavis', 'id': 'Stazione RFI - Lavis', 'bikes': 4, 'slots': 6, 'totalSlots': 10, 'position': [46.148180371138814, 11.096753997622727]}]\n"
     ]
    }
   ],
   "source": [
    "import json\n",
    "\n",
    "with open('bike-sharing-lavis.json',  encoding='utf-8') as f:\n",
    "    contenuto_python = json.load(f)\n",
    "    \n",
    "print(contenuto_python)"
   ]
  },
  {
   "cell_type": "markdown",
   "metadata": {},
   "source": [
    "Notiamo che quanto letto con la funzione `json.load` non è più semplice testo ma oggetti Python. Per questo json, l'oggetto più esterno è una lista (nota le quadre all'inizio e alla fine del file), e usando `type` su `contenuto_python` ne abbiamo la conferma:"
   ]
  },
  {
   "cell_type": "code",
   "execution_count": 2,
   "metadata": {},
   "outputs": [
    {
     "data": {
      "text/plain": [
       "list"
      ]
     },
     "execution_count": 2,
     "metadata": {},
     "output_type": "execute_result"
    }
   ],
   "source": [
    "type(contenuto_python)"
   ]
  },
  {
   "cell_type": "markdown",
   "metadata": {},
   "source": [
    "Guardando meglio il JSON, vedrai che è una lista di dizionari. Quindi, per accedere al primo dizionario (cioè quello all'indice zeresimo), possiamo scrivere"
   ]
  },
  {
   "cell_type": "code",
   "execution_count": 3,
   "metadata": {},
   "outputs": [
    {
     "data": {
      "text/plain": [
       "{'name': 'Grazioli',\n",
       " 'address': 'Piazza Grazioli - Lavis',\n",
       " 'id': 'Grazioli - Lavis',\n",
       " 'bikes': 3,\n",
       " 'slots': 7,\n",
       " 'totalSlots': 10,\n",
       " 'position': [46.139732902099794, 11.111516155225331]}"
      ]
     },
     "execution_count": 3,
     "metadata": {},
     "output_type": "execute_result"
    }
   ],
   "source": [
    "contenuto_python[0]"
   ]
  },
  {
   "cell_type": "markdown",
   "metadata": {},
   "source": [
    "Vediamo che è la stazione in Piazza Grazioli. Per accedere al nome esatto, accederemo alla chiave `'address'` del primo dizionario :"
   ]
  },
  {
   "cell_type": "code",
   "execution_count": 4,
   "metadata": {},
   "outputs": [
    {
     "data": {
      "text/plain": [
       "'Piazza Grazioli - Lavis'"
      ]
     },
     "execution_count": 4,
     "metadata": {},
     "output_type": "execute_result"
    }
   ],
   "source": [
    "contenuto_python[0]['address']"
   ]
  },
  {
   "cell_type": "markdown",
   "metadata": {},
   "source": [
    "Per accedere alla posizione, usiamo la chiave corrispondente:"
   ]
  },
  {
   "cell_type": "code",
   "execution_count": 5,
   "metadata": {},
   "outputs": [
    {
     "data": {
      "text/plain": [
       "[46.139732902099794, 11.111516155225331]"
      ]
     },
     "execution_count": 5,
     "metadata": {},
     "output_type": "execute_result"
    }
   ],
   "source": [
    "contenuto_python[0]['position']"
   ]
  },
  {
   "cell_type": "markdown",
   "metadata": {},
   "source": [
    "Notiamo come essa sia a sua volta una lista. In JSON, possiamo avere alberi ramificati arbitrariamente, senza necessariamente una struttura regolare (per quanto quando generiamo noi un json sia sempre auspicabile mantenere uno schema regolare nei dati)."
   ]
  },
  {
   "cell_type": "markdown",
   "metadata": {},
   "source": [
    "## JSONL\n",
    "\n",
    "C'è un particolare tipo di file JSON che si chiama  [JSONL](http://jsonlines.org/) (nota 'L' alla fine), e cioè un file di testo contenente una sequenza di linee, ciascuna rappresentante un valido oggetto json.\n",
    "\n",
    "\n",
    "Guardiamo per esempio il file [impiegati.jsonl](impiegati.jsonl):"
   ]
  },
  {
   "cell_type": "markdown",
   "metadata": {},
   "source": [
    "```json\n",
    "{\"nome\": \"Mario\", \"cognome\":\"Rossi\"}\n",
    "{\"nome\": \"Paolo\", \"cognome\":\"Bianchi\"}\n",
    "{\"nome\": \"Luca\", \"cognome\":\"Verdi\"}\n",
    "```"
   ]
  },
  {
   "cell_type": "markdown",
   "metadata": {},
   "source": [
    "Per leggerlo, possiamo aprire il file, separarlo nelle linee di testo e poi interpretare ciascuna come singolo oggetto JSON"
   ]
  },
  {
   "cell_type": "code",
   "execution_count": 6,
   "metadata": {},
   "outputs": [
    {
     "name": "stdout",
     "output_type": "stream",
     "text": [
      "Oggetto  0\n",
      "{'nome': 'Mario', 'cognome': 'Rossi'}\n",
      "Oggetto  1\n",
      "{'nome': 'Paolo', 'cognome': 'Bianchi'}\n",
      "Oggetto  2\n",
      "{'nome': 'Luca', 'cognome': 'Verdi'}\n"
     ]
    }
   ],
   "source": [
    "import json\n",
    "\n",
    "with open('./impiegati.jsonl', encoding='utf-8',) as f:\n",
    "    lista_testi_json = list(f)       # converte le linee del file di testo in una lista Python\n",
    "\n",
    "# in questo caso avremo un contenuto python per ciascuna riga del file originale\n",
    "\n",
    "i = 0\n",
    "for testo_json in lista_testi_json:\n",
    "    contenuto_python = json.loads(testo_json)   # converte testo json in oggetto python\n",
    "    print('Oggetto ', i)\n",
    "    print(contenuto_python)\n",
    "    i = i + 1\n",
    "    "
   ]
  },
  {
   "cell_type": "markdown",
   "metadata": {},
   "source": [
    "<div class=\"alert alert-warning\">\n",
    "    \n",
    "**ATTENZIONE: questa foglio è IN-PROGRESS**\n",
    "<div>"
   ]
  },
  {
   "cell_type": "raw",
   "id": "1c1804fe",
   "metadata": {
    "format": "text/html"
   },
   "source": [
    "<a  class=\"jupman-sol jupman-sol-toggler\" \n",
    " onclick=\"jupman.toggleSolution(this);\" \n",
    " data-jupman-show=\"Mostra soluzione\" data-jupman-hide=\"Nascondi\">Mostra soluzione</a><div class=\"jupman-sol jupman-sol-code\" style=\"display:none\">  "
   ]
  },
  {
   "cell_type": "code",
   "execution_count": 7,
   "metadata": {
    "nbsphinx": "hidden"
   },
   "outputs": [],
   "source": [
    "# scrivi qui\n",
    "\n",
    "#todo"
   ]
  },
  {
   "cell_type": "raw",
   "id": "bc96dd34",
   "metadata": {
    "format": "text/html"
   },
   "source": [
    "</div>"
   ]
  },
  {
   "cell_type": "code",
   "execution_count": 7,
   "metadata": {
    "nbsphinx": "hidden"
   },
   "outputs": [],
   "source": [
    "# scrivi qui\n",
    "\n"
   ]
  },
  {
   "cell_type": "markdown",
   "metadata": {},
   "source": [
    "## Prosegui\n",
    "\n",
    "Continua con le [challenge](https://it.softpython.org/formats/formats4-chal.html)"
   ]
  },
  {
   "cell_type": "code",
   "execution_count": null,
   "metadata": {},
   "outputs": [],
   "source": []
  }
 ],
 "metadata": {
  "celltoolbar": "Edit Metadata",
  "colab": {
   "collapsed_sections": [],
   "default_view": {},
   "name": "data-formats-exercises.ipynb",
   "provenance": [],
   "version": "0.3.2",
   "views": {}
  },
  "kernelspec": {
   "display_name": "Python 3 (ipykernel)",
   "language": "python",
   "name": "python3"
  },
  "language_info": {
   "codemirror_mode": {
    "name": "ipython",
    "version": 3
   },
   "file_extension": ".py",
   "mimetype": "text/x-python",
   "name": "python",
   "nbconvert_exporter": "python",
   "pygments_lexer": "ipython3",
   "version": "3.7.10"
  },
  "toc": {
   "base_numbering": 1,
   "nav_menu": {},
   "number_sections": false,
   "sideBar": true,
   "skip_h1_title": false,
   "title_cell": "Table of Contents",
   "title_sidebar": "Contents",
   "toc_cell": false,
   "toc_position": {},
   "toc_section_display": true,
   "toc_window_display": true
  }
 },
 "nbformat": 4,
 "nbformat_minor": 1
}

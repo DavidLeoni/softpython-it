{
 "cells": [
  {
   "cell_type": "markdown",
   "metadata": {
    "colab_type": "text",
    "id": "2T1wWDPa5bO_"
   },
   "source": [
    "# Formati dati 2 - CSV\n",
    "\n",
    "## [Scarica zip esercizi](../_static/generated/formats.zip)\n",
    "\n",
    "[Naviga file online](https://github.com/DavidLeoni/softpython-it/tree/master/formats)\n",
    "\n",
    "\n"
   ]
  },
  {
   "cell_type": "markdown",
   "metadata": {
    "colab_type": "text",
    "id": "47Jg7yaZ5bSy"
   },
   "source": [
    "\n",
    "Ci possono essere vari formati per i file tabulari, tra cui sicuramente conoscerai gli Excel (`.xls` o `.xslx`). Peccato che se vuoi processare dati programmaticamente, faresti meglio ad evitarli e preferire se possibile i file CSV, letteralmente 'Comma separated Value'. Per capire il perchè, quando hai tempo potresti guardare [questo tutorial](https://docs.google.com/presentation/d/1RPiRFm0g9QtSiC3aO32aFldSYThl11CB9HI_HHG6hvY/) in cui si spiega a produttori di dati (in questo caso, dipendenti pubblici) come trasformare Excel in CSV, evidenziando i vari grattacapi che un Excel può presentare a chi poi riusa i dati. \n",
    "\n",
    "Oggi proveremo ad aprire qualche CSV, prendendo in considerazione i possibili problemi che possono insorgere. I CSV non sono la panacea per tutti i mali, ma offrono maggiore controllo sulla lettura e tipicamente se saltano fuori errori di conversione è perchè siamo stati noi a sbagliare, e non perchè la libreria di lettura ha magari deciso da sola di  scambiare nelle date i giorni con i mesi.\n",
    "\n",
    "## Perchè scorrere un CSV ?\n",
    "\n",
    "Per caricare e processare CSV esistono già librerie molto potenti ed intuitive come Pandas in Python o i dataframe di R, che forse avrai già visto. Oggi invece caricheremo i CSV usando il mezzo più semplice possibile, che è la lettura riga per riga, più o meno come fatto nella prima parte del tutorial. Non bisogna pensare che questo metodo sia primitivo o stupido, a seconda della situazione può salvare la giornata. Come mai? Dato che alcuni file potenzialmente potrebbero occupare terabyte, e nei moderni laptop di solito abbiamo mediamente solo 4 Gigabyte di RAM, che è la memoria dove Python mette le variabili, le funzioni di base di Python per leggere file evitano di caricare tutto in RAM. Tipicamente invece un file viene scorso un po' alla volta, mettendo in RAM solo una riga alla volta. "
   ]
  },
  {
   "cell_type": "markdown",
   "metadata": {},
   "source": [
    "**DOMANDA 2.1**: se vogliamo sapere se un certo file da 100 terabyte contiene almeno 3 milioni di righe in cui è presente la parola 'ciao', dobbiamo mettere in RAM contemporaneamente tutte le righe?"
   ]
  },
  {
   "cell_type": "raw",
   "id": "f089e752",
   "metadata": {
    "format": "text/html"
   },
   "source": [
    "<a  class=\"jupman-sol jupman-sol-toggler\" \n",
    " onclick=\"jupman.toggleSolution(this);\" \n",
    " data-jupman-show=\"Mostra risposta\" data-jupman-hide=\"Nascondi\">Mostra risposta</a><div class=\"jupman-sol jupman-sol-question\" style=\"display:none\">  "
   ]
  },
  {
   "cell_type": "markdown",
   "metadata": {},
   "source": [
    "**RISPOSTA**: no, basta mettere una riga alla volta, e tenere una variabile per il conteggio "
   ]
  },
  {
   "cell_type": "raw",
   "id": "e146dbdb",
   "metadata": {
    "format": "text/html"
   },
   "source": [
    "</div>"
   ]
  },
  {
   "cell_type": "markdown",
   "metadata": {},
   "source": [
    "**DOMANDA 2.2**: E se volessimo da un file da 100 terabyte crearne un'altro con gli stessi contenuti del primo file a cui a tutte le righe è aggiunta la parola 'ciao' alla fine, dovremmo mettere in RAM contemporaneamente tutte le righe del primo file? E quelle del secondo ?"
   ]
  },
  {
   "cell_type": "raw",
   "id": "404c8d05",
   "metadata": {
    "format": "text/html"
   },
   "source": [
    "<a  class=\"jupman-sol jupman-sol-toggler\" \n",
    " onclick=\"jupman.toggleSolution(this);\" \n",
    " data-jupman-show=\"Mostra risposta\" data-jupman-hide=\"Nascondi\">Mostra risposta</a><div class=\"jupman-sol jupman-sol-question\" style=\"display:none\">  "
   ]
  },
  {
   "cell_type": "markdown",
   "metadata": {},
   "source": [
    "**RISPOSTA**:  No, basta tenere in RAM una riga alla volta, che viene prima letta dal primo file e subito scritta nel secondo"
   ]
  },
  {
   "cell_type": "raw",
   "id": "1d2c6e2f",
   "metadata": {
    "format": "text/html"
   },
   "source": [
    "</div>"
   ]
  },
  {
   "cell_type": "markdown",
   "metadata": {},
   "source": [
    "## CSV di esempio \n",
    "\n",
    "Cominciamo con dei CSV artificiali di esempio, sul modello di esercizi già fatti [nella introduzione](https://it.softpython.org/intro/intro-sol.html)\n",
    "\n",
    "Per iniziare, vedremo il CSV [esempio-1.csv](esempio-1.csv) che trovi nella stessa cartella di questo foglio Jupyter. Riportiamo qui il contenuto del file:\n",
    "\n",
    "```\n",
    "animale, anni\n",
    "cane, 12\n",
    "gatto, 14\n",
    "pellicano, 30\n",
    "scoiattolo, 6\n",
    "aquila, 25\n",
    "```\n",
    "\n",
    "Notiamo subito che il CSV è più strutturato dei file visti nella sezione precedente\n",
    "\n",
    "* la prima linea sono i nomi delle colonne, separati da virgole (_comma_ in inglese): `animale, anni`\n",
    "* I campi nelle righe successive sono pure separati da virgole `,` : `cane, 12`\n",
    "\n",
    "Proveremo ora ad importare questo file in Python:"
   ]
  },
  {
   "cell_type": "code",
   "execution_count": 1,
   "metadata": {},
   "outputs": [
    {
     "name": "stdout",
     "output_type": "stream",
     "text": [
      "Abbiamo appena letto una riga!\n",
      "['animale', 'anni']\n",
      "\n",
      "Abbiamo appena letto una riga!\n",
      "['cane', '12']\n",
      "\n",
      "Abbiamo appena letto una riga!\n",
      "['gatto', '14']\n",
      "\n",
      "Abbiamo appena letto una riga!\n",
      "['pellicano', '30']\n",
      "\n",
      "Abbiamo appena letto una riga!\n",
      "['scoiattolo', '6']\n",
      "\n",
      "Abbiamo appena letto una riga!\n",
      "['aquila', '25']\n",
      "\n"
     ]
    }
   ],
   "source": [
    "import csv\n",
    "with open('esempio-1.csv', encoding='utf-8', newline='') as f:\n",
    "    \n",
    "    # creiamo un oggetto 'lettore' che pescherà righe dal file\n",
    "    lettore = csv.reader(f, delimiter=',') \n",
    "    \n",
    "    # 'lettore' è un oggetto cosiddetto 'iterabile', cioè se usato in un for produce una \n",
    "    #  sequenza di righe dal csv \n",
    "    #  NOTA: qui ogni riga del file viene convertita in una una lista di stringhe Python!\n",
    "    for riga in lettore:\n",
    "        print('Abbiamo appena letto una riga!')        \n",
    "        print(riga)  # stamperà la variabile 'riga', che è una lista di stringhe\n",
    "        print('')    # stampa una stringa vuota, per separare in verticale"
   ]
  },
  {
   "cell_type": "markdown",
   "metadata": {},
   "source": [
    "Notiamo subito dall'output della print che viene stampato il file di esempio, ma ci sono delle parentesi quadre ( '[]' ). Cosa significano? Quelle che abbiamo stampato sono una _liste_ di _stringhe_.\n",
    "\n",
    "Analizziamo meglio quanto fatto:\n",
    "\n",
    "```python\n",
    "import csv\n",
    "```\n",
    "Python è fornito nativamente di un modulo per il trattamento dei csv, col nome intuitivo `csv`. Con questa istruzione, abbiamo appena caricato questo modulo.\n",
    "\n",
    "Cosa succede dopo ? Come già fatto per i file a linee in precedenza, apriamo il file in un blocco `with`: \n",
    "\n",
    "```python\n",
    "with open('esempio-1.csv', encoding='utf-8', newline='') as f:\n",
    "    lettore = csv.reader(f, delimiter=',')\n",
    "    for riga in lettore:\n",
    "        print(riga)\n",
    "```\n",
    "\n",
    "Per adesso ignora il `newline=''` e nota che come prima abbiamo specificato l'encoding\n",
    "\n",
    "Una volta aperto il file, nella riga \n",
    "\n",
    "```python\n",
    "    lettore = csv.reader(f, delimiter=',')\n",
    "```\n",
    "\n",
    "chiediamo al modulo `csv` di crearci un oggetto lettore chiamato `lettore` per il nostro file, dicendo a Python che il delimitatore per i campi sono le virgole.\n",
    "\n",
    "**NOTA:** `lettore` è il nome di una variabile che stiamo creando, potremmo dare un nome qualunque.\n",
    "\n",
    "Questo oggetto lettore può essere sfruttato come una specie di generatore di righe usando un ciclo `for`.\n",
    "\n",
    "```\n",
    "    for riga in lettore:\n",
    "        print(riga)\n",
    "```\n",
    "\n",
    "Nel ciclo `for` sfruttiamo l'oggetto `lettore` per iterare nella lettura del file, producendo ad ogni iterazione una riga che chiamiamo `riga` (ma potrebbe essere un qualunque nome a nostro piacimento). Ad ogni iterazione, la variabile `riga` viene stampata. \n",
    "\n",
    "Se guardi bene le stampe delle prime liste, vedrai che ogni volta a ogni riga riga viene assegnata una sola lista Python. La lista contiene tanti elementi quanti campi ci sono nel CSV. "
   ]
  },
  {
   "cell_type": "markdown",
   "metadata": {},
   "source": [
    "**✪ ESERCIZIO 2.3**: Riscrivi nella cella qua sotto le istruzioni per leggere e stampare il csv, facendo come sempre attenzione all'indentazione: "
   ]
  },
  {
   "cell_type": "raw",
   "id": "3f9f4772",
   "metadata": {
    "format": "text/html"
   },
   "source": [
    "<a  class=\"jupman-sol jupman-sol-toggler\" \n",
    " onclick=\"jupman.toggleSolution(this);\" \n",
    " data-jupman-show=\"Mostra soluzione\" data-jupman-hide=\"Nascondi\">Mostra soluzione</a><div class=\"jupman-sol jupman-sol-code\" style=\"display:none\">  "
   ]
  },
  {
   "cell_type": "code",
   "execution_count": 2,
   "metadata": {},
   "outputs": [
    {
     "name": "stdout",
     "output_type": "stream",
     "text": [
      "Abbiamo appena letto una riga!\n",
      "['animale', 'anni']\n",
      "\n",
      "Abbiamo appena letto una riga!\n",
      "['cane', '12']\n",
      "\n",
      "Abbiamo appena letto una riga!\n",
      "['gatto', '14']\n",
      "\n",
      "Abbiamo appena letto una riga!\n",
      "['pellicano', '30']\n",
      "\n",
      "Abbiamo appena letto una riga!\n",
      "['scoiattolo', '6']\n",
      "\n",
      "Abbiamo appena letto una riga!\n",
      "['aquila', '25']\n",
      "\n"
     ]
    }
   ],
   "source": [
    "# scrivi qui\n",
    "\n",
    "import csv\n",
    "with open('esempio-1.csv', encoding='utf-8', newline='') as f:\n",
    "    \n",
    "    # creiamo un oggetto 'lettore' che pescherà righe dal file\n",
    "    lettore = csv.reader(f, delimiter=',') \n",
    "    \n",
    "    # 'lettore' è un oggetto cosiddetto 'iterabile', cioè se usato in un for produce una \n",
    "    #  sequenza di righe dal csv \n",
    "    #  NOTA: qui ogni riga del file viene convertita in una una lista di stringhe Python!\n",
    "    for riga in lettore:\n",
    "        print('Abbiamo appena letto una riga!')        \n",
    "        print(riga)  # stamperà la variabile 'riga', che è una lista di stringhe\n",
    "        print('')    # stampa una stringa vuota, per separare in verticale\n",
    "\n"
   ]
  },
  {
   "cell_type": "raw",
   "id": "e923387a",
   "metadata": {
    "format": "text/html"
   },
   "source": [
    "</div>"
   ]
  },
  {
   "cell_type": "code",
   "execution_count": 2,
   "metadata": {},
   "outputs": [
    {
     "name": "stdout",
     "output_type": "stream",
     "text": [
      "Abbiamo appena letto una riga!\n",
      "['animale', 'anni']\n",
      "\n",
      "Abbiamo appena letto una riga!\n",
      "['cane', '12']\n",
      "\n",
      "Abbiamo appena letto una riga!\n",
      "['gatto', '14']\n",
      "\n",
      "Abbiamo appena letto una riga!\n",
      "['pellicano', '30']\n",
      "\n",
      "Abbiamo appena letto una riga!\n",
      "['scoiattolo', '6']\n",
      "\n",
      "Abbiamo appena letto una riga!\n",
      "['aquila', '25']\n",
      "\n"
     ]
    }
   ],
   "source": [
    "# scrivi qui\n",
    "\n"
   ]
  },
  {
   "cell_type": "markdown",
   "metadata": {},
   "source": [
    "**✪✪ ESERCIZIO 2.4**: prova a mettere in una variabile `listona` una lista contenente tutte le righe estratte dal file, che quindi sarà una lista di liste che dovrebbe apparire così.\n",
    "\n",
    "```\n",
    "[['animale', ' anni'],\n",
    " ['cane', '12'],\n",
    " ['gatto', '14'],\n",
    " ['pellicano', '30'],\n",
    " ['scoiattolo', '6'],\n",
    " ['aquila', '25']]\n",
    "```\n",
    "\n",
    "**SUGGERIMENTO**: Comincia creando una lista vuota e poi aggiungendo elementi con il metodo `.append`"
   ]
  },
  {
   "cell_type": "raw",
   "id": "f8fcea9b",
   "metadata": {
    "format": "text/html"
   },
   "source": [
    "<a  class=\"jupman-sol jupman-sol-toggler\" \n",
    " onclick=\"jupman.toggleSolution(this);\" \n",
    " data-jupman-show=\"Mostra soluzione\" data-jupman-hide=\"Nascondi\">Mostra soluzione</a><div class=\"jupman-sol jupman-sol-code\" style=\"display:none\">  "
   ]
  },
  {
   "cell_type": "code",
   "execution_count": 3,
   "metadata": {},
   "outputs": [
    {
     "name": "stdout",
     "output_type": "stream",
     "text": [
      "[['animale', 'anni'], ['cane', '12'], ['gatto', '14'], ['pellicano', '30'], ['scoiattolo', '6'], ['aquila', '25']]\n"
     ]
    }
   ],
   "source": [
    "# scrivi qui \n",
    "\n",
    "import csv\n",
    "with open('esempio-1.csv', encoding='utf-8', newline='') as f:\n",
    "    \n",
    "    # creiamo un oggetto 'lettore' che pescherà righe dal file\n",
    "    lettore = csv.reader(f, delimiter=',') \n",
    "    \n",
    "    # 'lettore' è un oggetto cosiddetto 'iterabile', cioè se usato in un for produce una \n",
    "    #  sequenza di righe dal csv \n",
    "    #  NOTA: qui ogni riga del file viene convertita in una una lista di stringhe Python!\n",
    "    listona = []\n",
    "    for riga in lettore:\n",
    "        listona.append(riga)\n",
    "    print(listona)\n"
   ]
  },
  {
   "cell_type": "raw",
   "id": "9079f8c2",
   "metadata": {
    "format": "text/html"
   },
   "source": [
    "</div>"
   ]
  },
  {
   "cell_type": "code",
   "execution_count": 3,
   "metadata": {},
   "outputs": [
    {
     "name": "stdout",
     "output_type": "stream",
     "text": [
      "[['animale', 'anni'], ['cane', '12'], ['gatto', '14'], ['pellicano', '30'], ['scoiattolo', '6'], ['aquila', '25']]\n"
     ]
    }
   ],
   "source": [
    "# scrivi qui \n",
    "\n"
   ]
  },
  {
   "cell_type": "markdown",
   "metadata": {},
   "source": [
    "**✪✪ ESERCIZIO 2.5**: Forse avrai notato che i numeri nella liste sono rappresentati come stringhe tipo `'12'` (nota gli apici), invece che come numeri interi Python (rappresentati senza apici), `12`:\n",
    "\n",
    "```\n",
    "Abbiamo appena letto una riga!\n",
    "['cane', '12']\n",
    "```\n",
    "\n",
    "Quindi, leggendo il file e usando dei normali cicli `for`, prova a creare nua variabile `listona` formata come questa, che\n",
    "\n",
    "- ha solo i dati, la riga con le intestazioni non è presente\n",
    "- i numeri sono rappresentati propriamente come interi\n",
    "\n",
    "```\n",
    "[['cane', 12], \n",
    " ['gatto', 14], \n",
    " ['pellicano', 30], \n",
    " ['scoiattolo', 6], \n",
    " ['aquila', 25]]\n",
    "```\n",
    "\n",
    "**SUGGERIMENTO 1**: per saltare una riga puoi usare l'istruzione `next(lettore)`\n",
    "\n",
    "**SUGGERIMENTO 2**: per convertire una stringa in un intero, si può usare per es. `int('25')`\n"
   ]
  },
  {
   "cell_type": "raw",
   "id": "138c079c",
   "metadata": {
    "format": "text/html"
   },
   "source": [
    "<a  class=\"jupman-sol jupman-sol-toggler\" \n",
    " onclick=\"jupman.toggleSolution(this);\" \n",
    " data-jupman-show=\"Mostra soluzione\" data-jupman-hide=\"Nascondi\">Mostra soluzione</a><div class=\"jupman-sol jupman-sol-code\" style=\"display:none\">  "
   ]
  },
  {
   "cell_type": "code",
   "execution_count": 4,
   "metadata": {},
   "outputs": [
    {
     "name": "stdout",
     "output_type": "stream",
     "text": [
      "[['cane', 12], ['gatto', 14], ['pellicano', 30], ['scoiattolo', 6], ['aquila', 25]]\n"
     ]
    }
   ],
   "source": [
    "# scrivi qui\n",
    "\n",
    "import csv\n",
    "with open('esempio-1.csv', encoding='utf-8', newline='') as f:    \n",
    "    lettore = csv.reader(f, delimiter=',')     \n",
    "    listona = []\n",
    "    next(lettore)\n",
    "    for riga in lettore:\n",
    "        listona.append([riga[0], int(riga[1])])\n",
    "    print(listona)"
   ]
  },
  {
   "cell_type": "raw",
   "id": "e7956a3f",
   "metadata": {
    "format": "text/html"
   },
   "source": [
    "</div>"
   ]
  },
  {
   "cell_type": "code",
   "execution_count": 4,
   "metadata": {},
   "outputs": [
    {
     "name": "stdout",
     "output_type": "stream",
     "text": [
      "[['cane', 12], ['gatto', 14], ['pellicano', 30], ['scoiattolo', 6], ['aquila', 25]]\n"
     ]
    }
   ],
   "source": [
    "# scrivi qui\n",
    "\n"
   ]
  },
  {
   "cell_type": "markdown",
   "metadata": {},
   "source": [
    "### Cos'è esattamente `lettore` ?\n",
    "\n",
    "Abbiamo detto che `lettore` genera una sequenza di righe, ed è _iterabile_. Nel ciclo `for`, ad ogni ciclo gli chiediamo di leggere una nuova riga, che viene messa nella variabile `riga`. Quindi possiamo chiederci, cosa succede se stampiamo direttamente `lettore`, senza usare nessun `for` ? Vedremo una bella lista o qualcos'altro?  Proviamo:"
   ]
  },
  {
   "cell_type": "code",
   "execution_count": 5,
   "metadata": {},
   "outputs": [
    {
     "name": "stdout",
     "output_type": "stream",
     "text": [
      "<_csv.reader object at 0x7f98ae7b39d0>\n"
     ]
    }
   ],
   "source": [
    "import csv\n",
    "with open('esempio-1.csv', encoding='utf-8', newline='') as f:    \n",
    "    lettore = csv.reader(f, delimiter=',')     \n",
    "    print(lettore)"
   ]
  },
  {
   "cell_type": "markdown",
   "metadata": {},
   "source": [
    "Quello che vediamo è piuttosto deludente.\n",
    "\n",
    "**✪ ESERCIZIO 2.6**: Se ti ricordi, nell'introduzione a un certo punto ci siamo trovati nella stessa situazione, quando [abbiamo provato a stampare una map](https://it.softpython.org/intro/intro-sol.html#Trasformazioni-con-le-map). Che potremmo fare per risolvere la situazione? "
   ]
  },
  {
   "cell_type": "raw",
   "id": "d0e29bb3",
   "metadata": {
    "format": "text/html"
   },
   "source": [
    "<a  class=\"jupman-sol jupman-sol-toggler\" \n",
    " onclick=\"jupman.toggleSolution(this);\" \n",
    " data-jupman-show=\"Mostra soluzione\" data-jupman-hide=\"Nascondi\">Mostra soluzione</a><div class=\"jupman-sol jupman-sol-code\" style=\"display:none\">  "
   ]
  },
  {
   "cell_type": "code",
   "execution_count": 6,
   "metadata": {},
   "outputs": [
    {
     "name": "stdout",
     "output_type": "stream",
     "text": [
      "[['animale', 'anni'], ['cane', '12'], ['gatto', '14'], ['pellicano', '30'], ['scoiattolo', '6'], ['aquila', '25']]\n"
     ]
    }
   ],
   "source": [
    "# scrivi qui\n",
    "\n",
    "import csv\n",
    "with open('esempio-1.csv', encoding='utf-8', newline='') as f:    \n",
    "    lettore = csv.reader(f, delimiter=',')     \n",
    "    print(list(lettore))"
   ]
  },
  {
   "cell_type": "raw",
   "id": "84d5b4cc",
   "metadata": {
    "format": "text/html"
   },
   "source": [
    "</div>"
   ]
  },
  {
   "cell_type": "code",
   "execution_count": 6,
   "metadata": {},
   "outputs": [
    {
     "name": "stdout",
     "output_type": "stream",
     "text": [
      "[['animale', 'anni'], ['cane', '12'], ['gatto', '14'], ['pellicano', '30'], ['scoiattolo', '6'], ['aquila', '25']]\n"
     ]
    }
   ],
   "source": [
    "# scrivi qui\n",
    "\n"
   ]
  },
  {
   "cell_type": "markdown",
   "metadata": {},
   "source": [
    "### Consumare un file\n",
    "\n",
    "Non tutte le sequenze sono uguali. Da quello che hai visto finora, in Python scorrere un file assomiglia molto a scorrere una lista. Che è molto comodo, ma bisogna stare attenti ad alcune cose. Dato che i file potenzialmente potrebbero occupare terabyte, le funzioni di base di Python per leggere file evitano di caricarli tutti in memoria e tipicamente il file viene scorso un po' alla volta. Ma se il file non viene caricato tutto nell'ambiente di Python in un colpo solo, cosa succede se proviamo a scorrerlo due volte all'interno della stessa `with`? E se proviamo ad usarlo fuori dal `with`, che succede? Guarda i prossimi esercizi per scoprirlo."
   ]
  },
  {
   "cell_type": "markdown",
   "metadata": {},
   "source": [
    "**✪ ESERCIZIO 2.7**: Prendendo la soluzione all'esercizio di prima, prova a chiamare `print(list(lettore))` due volte, in sequenza. Ottieni la stessa stampa entrambe le volte? \n"
   ]
  },
  {
   "cell_type": "raw",
   "id": "064d5b72",
   "metadata": {
    "format": "text/html"
   },
   "source": [
    "<a  class=\"jupman-sol jupman-sol-toggler\" \n",
    " onclick=\"jupman.toggleSolution(this);\" \n",
    " data-jupman-show=\"Mostra soluzione\" data-jupman-hide=\"Nascondi\">Mostra soluzione</a><div class=\"jupman-sol jupman-sol-code\" style=\"display:none\">  "
   ]
  },
  {
   "cell_type": "code",
   "execution_count": 7,
   "metadata": {},
   "outputs": [
    {
     "name": "stdout",
     "output_type": "stream",
     "text": [
      "[['animale', 'anni'], ['cane', '12'], ['gatto', '14'], ['pellicano', '30'], ['scoiattolo', '6'], ['aquila', '25']]\n",
      "[]\n"
     ]
    }
   ],
   "source": [
    "\n",
    "# scrivi qui il codice\n",
    "\n",
    "import csv\n",
    "with open('esempio-1.csv', encoding='utf-8', newline='') as f:    \n",
    "    lettore = csv.reader(f, delimiter=',')     \n",
    "    print(list(lettore))\n",
    "    print(list(lettore))"
   ]
  },
  {
   "cell_type": "raw",
   "id": "25ceb902",
   "metadata": {
    "format": "text/html"
   },
   "source": [
    "</div>"
   ]
  },
  {
   "cell_type": "code",
   "execution_count": 7,
   "metadata": {},
   "outputs": [],
   "source": [
    "\n",
    "# scrivi qui il codice\n",
    "\n"
   ]
  },
  {
   "cell_type": "markdown",
   "metadata": {},
   "source": [
    "**✪ ESERCIZIO 2.8**: Prendendo la soluzione all'esercizio di prima (usando una sola print), prova qua sotto a spostare la print tutta a sinistra (eliminando gli spazi). Funziona ancora? "
   ]
  },
  {
   "cell_type": "raw",
   "id": "ee3bc444",
   "metadata": {
    "format": "text/html"
   },
   "source": [
    "<a  class=\"jupman-sol jupman-sol-toggler\" \n",
    " onclick=\"jupman.toggleSolution(this);\" \n",
    " data-jupman-show=\"Mostra soluzione\" data-jupman-hide=\"Nascondi\">Mostra soluzione</a><div class=\"jupman-sol jupman-sol-code\" style=\"display:none\">  "
   ]
  },
  {
   "cell_type": "code",
   "execution_count": 8,
   "metadata": {},
   "outputs": [],
   "source": [
    "# scrivi qui \n",
    "\n",
    "import csv\n",
    "with open('esempio-1.csv', encoding='utf-8', newline='') as f:    \n",
    "    lettore = csv.reader(f, delimiter=',')         \n",
    "#print(list(lettore))    # COMMENTATA, PERCHE' LANCEREBBE ERRORE DI FILE CHIUSO\n",
    "                         # Non possiamo usare comandi che leggono il file fuori dal with !\n"
   ]
  },
  {
   "cell_type": "raw",
   "id": "23c56fcd",
   "metadata": {
    "format": "text/html"
   },
   "source": [
    "</div>"
   ]
  },
  {
   "cell_type": "code",
   "execution_count": 8,
   "metadata": {},
   "outputs": [],
   "source": [
    "# scrivi qui \n",
    "\n"
   ]
  },
  {
   "cell_type": "markdown",
   "metadata": {},
   "source": [
    "**✪✪✪ ESERCIZIO 2.9**: Adesso che abbiamo capito un po' che tipo di bestia è `lettore`,  proviamo adesso a produrre questo risultato come già fatto in precedenza, ma usando una _list comprehension_ invece del del ciclo `for`:\n",
    "\n",
    "```\n",
    "[['cane', 12], \n",
    " ['gatto', 14], \n",
    " ['pellicano', 30], \n",
    " ['scoiattolo', 6], \n",
    " ['aquila', 25]]\n",
    "```\n",
    "\n",
    "* Se riesci, prova anche a scrivere tutta la trasformazione per creare `listona` in una sola riga, usando la funzione [itertools.islice](https://docs.python.org/3/library/itertools.html#itertools.islice) per saltare l'intestazione (per es. `itertools.islice(['A', 'B', 'C', 'D', 'E'], 2, None)` salta i primi due elementi e produce la sequenza C D E F G  - nel nostro caso gli elementi prodotti da `lettore` sarebbero righe)"
   ]
  },
  {
   "cell_type": "raw",
   "id": "a5ec33d0",
   "metadata": {
    "format": "text/html"
   },
   "source": [
    "<a  class=\"jupman-sol jupman-sol-toggler\" \n",
    " onclick=\"jupman.toggleSolution(this);\" \n",
    " data-jupman-show=\"Mostra soluzione\" data-jupman-hide=\"Nascondi\">Mostra soluzione</a><div class=\"jupman-sol jupman-sol-code\" style=\"display:none\">  "
   ]
  },
  {
   "cell_type": "code",
   "execution_count": 9,
   "metadata": {},
   "outputs": [
    {
     "name": "stdout",
     "output_type": "stream",
     "text": [
      "[['cane', 12], ['gatto', 14], ['pellicano', 30], ['scoiattolo', 6], ['aquila', 25]]\n"
     ]
    }
   ],
   "source": [
    "import csv\n",
    "import itertools\n",
    "with open('esempio-1.csv', encoding='utf-8', newline='') as f:    \n",
    "    lettore = csv.reader(f, delimiter=',')     \n",
    "    # scrivi qui\n",
    "    listona = [[riga[0], int(riga[1])] for riga in itertools.islice(lettore, 1, None)]\n",
    "    print(listona)    "
   ]
  },
  {
   "cell_type": "raw",
   "id": "de81d7f5",
   "metadata": {
    "format": "text/html"
   },
   "source": [
    "</div>"
   ]
  },
  {
   "cell_type": "code",
   "execution_count": 9,
   "metadata": {},
   "outputs": [
    {
     "name": "stdout",
     "output_type": "stream",
     "text": [
      "[['cane', 12], ['gatto', 14], ['pellicano', 30], ['scoiattolo', 6], ['aquila', 25]]\n"
     ]
    }
   ],
   "source": [
    "import csv\n",
    "import itertools\n",
    "with open('esempio-1.csv', encoding='utf-8', newline='') as f:    \n",
    "    lettore = csv.reader(f, delimiter=',')     \n",
    "    # scrivi qui\n",
    "\n"
   ]
  },
  {
   "cell_type": "markdown",
   "metadata": {},
   "source": [
    "**✪ ESERCIZIO 2.10**: Crea un file `mio-esempio.csv` nella stessa cartella dove c'è questo foglio Jupyter, copiandoci dentro il contenuto del file `esempio-1.csv`. Poi aggiungici una colonna `descrizione`, ricordandoti di separare il nome di colonna dalla precedente con una virgola. Come valori della colonna, metti nelle righe successive stringhe tipo `i cani camminano`, `i pellicani volano` a seconda dell'animale, etc ricordandoti di separarle dagli anni usando una virgola, così:  \n",
    "\n",
    "`cane,12,i cani camminano`\n",
    "\n",
    "Dopo di che, copia e incolla qua sotto il codice Python per caricare il file, mettendo il nome di file `mio-esempio.csv`, e prova a caricare il tutto, tanto per vedere se funziona:\n"
   ]
  },
  {
   "cell_type": "code",
   "execution_count": 10,
   "metadata": {},
   "outputs": [],
   "source": [
    "# scrivi qui "
   ]
  },
  {
   "cell_type": "raw",
   "id": "990310fb",
   "metadata": {
    "format": "text/html"
   },
   "source": [
    "<a  class=\"jupman-sol jupman-sol-toggler\" \n",
    " onclick=\"jupman.toggleSolution(this);\" \n",
    " data-jupman-show=\"Mostra risposta\" data-jupman-hide=\"Nascondi\">Mostra risposta</a><div class=\"jupman-sol jupman-sol-question\" style=\"display:none\">  "
   ]
  },
  {
   "cell_type": "markdown",
   "metadata": {},
   "source": [
    "**RISPOSTA**:\n",
    "\n",
    "```\n",
    "animale,anni,descrizione\n",
    "cane,12,i cani camminano\n",
    "gatto,14,i gatti camminano\n",
    "pellicano,30,i pellicani volano\n",
    "scoiattolo,6,gli scoiattoli volano\n",
    "aquila,25,le aquile volano\n",
    "```"
   ]
  },
  {
   "cell_type": "raw",
   "id": "46aed999",
   "metadata": {
    "format": "text/html"
   },
   "source": [
    "</div>"
   ]
  },
  {
   "cell_type": "markdown",
   "metadata": {},
   "source": [
    "**✪ ESERCIZIO 2.11**: Non tutti i CSV sono strutturati in modo uguale, e a volte quando scriviamo i csv o li importiamo alcuni accorgimenti sono necessari. Cominciamo a vedere che problemi potrebbero sorgere:\n",
    "\n",
    "- Nel file, prova a mettere uno o due spazi prima dei numeri, per es scrivi come sotto e guarda che succede:\n",
    "\n",
    "```\n",
    "cane, 12,i cani volano\n",
    "```\n",
    "\n",
    "**DOMANDA 2.11.1**: Lo spazio viene importato o no?\n",
    "\n",
    "\n"
   ]
  },
  {
   "cell_type": "raw",
   "id": "bc799205",
   "metadata": {
    "format": "text/html"
   },
   "source": [
    "<a  class=\"jupman-sol jupman-sol-toggler\" \n",
    " onclick=\"jupman.toggleSolution(this);\" \n",
    " data-jupman-show=\"Mostra risposta\" data-jupman-hide=\"Nascondi\">Mostra risposta</a><div class=\"jupman-sol jupman-sol-question\" style=\"display:none\">  "
   ]
  },
  {
   "cell_type": "markdown",
   "metadata": {},
   "source": [
    "**RISPOSTA**: sì"
   ]
  },
  {
   "cell_type": "raw",
   "id": "aeab9d11",
   "metadata": {
    "format": "text/html"
   },
   "source": [
    "</div>"
   ]
  },
  {
   "cell_type": "markdown",
   "metadata": {},
   "source": [
    "**DOMANDA 2.11.2**: se convertiamo ad intero, lo spazio è un problema? \n",
    "\n"
   ]
  },
  {
   "cell_type": "raw",
   "id": "be34fe57",
   "metadata": {
    "format": "text/html"
   },
   "source": [
    "<a  class=\"jupman-sol jupman-sol-toggler\" \n",
    " onclick=\"jupman.toggleSolution(this);\" \n",
    " data-jupman-show=\"Mostra risposta\" data-jupman-hide=\"Nascondi\">Mostra risposta</a><div class=\"jupman-sol jupman-sol-question\" style=\"display:none\">  "
   ]
  },
  {
   "cell_type": "markdown",
   "metadata": {},
   "source": [
    "**RISPOSTA**: no"
   ]
  },
  {
   "cell_type": "raw",
   "id": "324f0f25",
   "metadata": {
    "format": "text/html"
   },
   "source": [
    "</div>"
   ]
  },
  {
   "cell_type": "markdown",
   "metadata": {},
   "source": [
    "\n",
    "**DOMANDA 2.11.3** Modifica solo la descrizione dei cani da `i cani camminano` a `i cani camminano, ma non volano` e prova a rieseguire la cella che legge il file. Che succede?\n",
    "\n"
   ]
  },
  {
   "cell_type": "raw",
   "id": "42f091cd",
   "metadata": {
    "format": "text/html"
   },
   "source": [
    "<a  class=\"jupman-sol jupman-sol-toggler\" \n",
    " onclick=\"jupman.toggleSolution(this);\" \n",
    " data-jupman-show=\"Mostra risposta\" data-jupman-hide=\"Nascondi\">Mostra risposta</a><div class=\"jupman-sol jupman-sol-question\" style=\"display:none\">  "
   ]
  },
  {
   "cell_type": "markdown",
   "metadata": {},
   "source": [
    "**RISPOSTA**: Python legge un elemento in più nella lista"
   ]
  },
  {
   "cell_type": "raw",
   "id": "393e3135",
   "metadata": {
    "format": "text/html"
   },
   "source": [
    "</div>"
   ]
  },
  {
   "cell_type": "markdown",
   "metadata": {},
   "source": [
    "**DOMANDA 2.11.4**: Per ovviare al problema precedente, una soluzione che si può adottare nei CSV è circondare stringhe contenti virgole da doppi apici, così: `\"i cani camminano, ma non volano\"`. Funziona ? \n"
   ]
  },
  {
   "cell_type": "raw",
   "id": "f0eee921",
   "metadata": {
    "format": "text/html"
   },
   "source": [
    "<a  class=\"jupman-sol jupman-sol-toggler\" \n",
    " onclick=\"jupman.toggleSolution(this);\" \n",
    " data-jupman-show=\"Mostra risposta\" data-jupman-hide=\"Nascondi\">Mostra risposta</a><div class=\"jupman-sol jupman-sol-question\" style=\"display:none\">  "
   ]
  },
  {
   "cell_type": "markdown",
   "metadata": {},
   "source": [
    "**RISPOSTA**: sì"
   ]
  },
  {
   "cell_type": "raw",
   "id": "94b2ff16",
   "metadata": {
    "format": "text/html"
   },
   "source": [
    "</div>"
   ]
  },
  {
   "cell_type": "markdown",
   "metadata": {},
   "source": [
    "### Leggere come dizionari\n",
    "\n",
    "Invece di leggere un CSV come se fosse una sequenza di liste, potrebbe essere più conveniente dire a Python di interpretare le linee come se fossero dizionari.\n",
    "\n",
    "Tramite l'oggetto [csv.DictReader](https://docs.python.org/3/library/csv.html#csv.DictReader) sarai in grado di recuperare dizionari,  in cui le chiavi saranno \n",
    "i nomi dei campi presi dall'intestazione. \n",
    "\n",
    "**NOTA**: diverse versioni di Python producono diversi dizionari:\n",
    "\n",
    "* $<$ 3.6: `dict`\n",
    "* 3.6, 3.7: `OrderedDict`\n",
    "* $\\geq$ 3.8: `dict`\n",
    "\n",
    "La 3.8 è ritornata al vecchio `dict` perchè nella sua nuova implementazione dei dizionari l'ordine delle chiavi è garantito, quindi sarà consistente con quello degli header del CSV."
   ]
  },
  {
   "cell_type": "code",
   "execution_count": 11,
   "metadata": {
    "scrolled": true
   },
   "outputs": [
    {
     "name": "stdout",
     "output_type": "stream",
     "text": [
      "OrderedDict([('animale', 'cane'), ('anni', '12')])\n",
      "OrderedDict([('animale', 'gatto'), ('anni', '14')])\n",
      "OrderedDict([('animale', 'pellicano'), ('anni', '30')])\n",
      "OrderedDict([('animale', 'scoiattolo'), ('anni', '6')])\n",
      "OrderedDict([('animale', 'aquila'), ('anni', '25')])\n"
     ]
    }
   ],
   "source": [
    "import csv\n",
    "with open('esempio-1.csv', encoding='utf-8', newline='') as f:    \n",
    "    lettore = csv.DictReader(f, delimiter=',')   # Notice we now used DictReader\n",
    "    for diz in lettore:\n",
    "        print(diz)"
   ]
  },
  {
   "cell_type": "markdown",
   "metadata": {},
   "source": [
    "## Scrivere un CSV"
   ]
  },
  {
   "cell_type": "markdown",
   "metadata": {},
   "source": [
    "\n",
    "Puoi facilmente creare un CSV instanziando un oggetto `writer`:\n",
    "\n",
    "<div class=\"alert alert-warning\">\n",
    "\n",
    "**ATTENZIONE: ASSICURATI DI SCRIVERE NEL FILE GIUSTO!**\n",
    "\n",
    "Se non stai più che attento ai nomi dei file, **rischi di cancellare dati** !!!\n",
    "</div>"
   ]
  },
  {
   "cell_type": "code",
   "execution_count": 12,
   "metadata": {},
   "outputs": [],
   "source": [
    "import csv\n",
    "\n",
    "# Per scrivere, RICORDATI di specificare l'opzione 'w'\n",
    "# ATTENZIONE: 'w' rimpiazza *completamente* eventuali file  esistenti!\n",
    "with open('file-scritto.csv', 'w', newline='') as csv_da_scrivere: \n",
    "    \n",
    "    scrittore = csv.writer(csv_da_scrivere, delimiter=',')    \n",
    "    \n",
    "    scrittore.writerow(['This', 'is', 'a header'])\n",
    "    scrittore.writerow(['some', 'example', 'data'])\n",
    "    scrittore.writerow(['some', 'other', 'example data'])"
   ]
  },
  {
   "cell_type": "markdown",
   "metadata": {},
   "source": [
    "## Leggere e scrivere un CSV"
   ]
  },
  {
   "cell_type": "markdown",
   "metadata": {},
   "source": [
    "Per scrivere un nuovo CSV prendendo dati da un CSV esistente, potresti annidare un `with` per la lettura dentro uno per la scrittura:\n",
    "\n",
    "<div class=\"alert alert-warning\">\n",
    "\n",
    "**ATTENZIONE A SCAMBIARE I NOMI DEI FILE!**\n",
    "\n",
    "Quando leggiamo e scriviamo è facile commettere un errore e sovrascrivere accidentalmente i nostri preziosi dati. \n",
    "</div>\n",
    "\n",
    "**Per evitare problemi:**\n",
    "\n",
    "* usa nomi espliciti sia per i file di output (es: `esempio-1-arricchito.csv')` che per gli handle (es: `csv_da_scrivere`)\n",
    "* fai una copia di backup dei dati da leggere\n",
    "* controlla sempre prima di eseguire il codice !"
   ]
  },
  {
   "cell_type": "code",
   "execution_count": 13,
   "metadata": {},
   "outputs": [],
   "source": [
    "import csv\n",
    "    \n",
    "# Per scrivere, RICORDATI di specificare l'opzione 'w'\n",
    "# ATTENZIONE: 'w' rimpiazza *completamente* eventuali file  esistenti!\n",
    "# ATTENZIONE: l'handle *esterno* l'abbiamo chiamato  csv_da_scrivere\n",
    "with open('esempio-1-arricchito.csv', 'w', encoding='utf-8', newline='') as csv_da_scrivere: \n",
    "    scrittore = csv.writer(csv_da_scrivere, delimiter=',')\n",
    "\n",
    "    # Nota come questo 'with' sia dentro quello esterno    \n",
    "    # ATTENZIONE: l'handle *interno* l'abbiamo chiamato csv_da_leggere\n",
    "    with open('esempio-1.csv', encoding='utf-8', newline='') as csv_da_leggere:    \n",
    "        lettore = csv.reader(csv_da_leggere, delimiter=',')      \n",
    "        \n",
    "        for riga in lettore:\n",
    "            riga.append(\"qualcos'altro\")\n",
    "            scrittore.writerow(riga)\n",
    "            scrittore.writerow(riga)\n",
    "            scrittore.writerow(riga)    "
   ]
  },
  {
   "cell_type": "markdown",
   "metadata": {},
   "source": [
    "Vediamo se il file è stato effettivamente scritto provando a leggerlo:"
   ]
  },
  {
   "cell_type": "code",
   "execution_count": 14,
   "metadata": {
    "scrolled": true
   },
   "outputs": [
    {
     "name": "stdout",
     "output_type": "stream",
     "text": [
      "['animale', 'anni', \"qualcos'altro\"]\n",
      "['animale', 'anni', \"qualcos'altro\"]\n",
      "['animale', 'anni', \"qualcos'altro\"]\n",
      "['cane', '12', \"qualcos'altro\"]\n",
      "['cane', '12', \"qualcos'altro\"]\n",
      "['cane', '12', \"qualcos'altro\"]\n",
      "['gatto', '14', \"qualcos'altro\"]\n",
      "['gatto', '14', \"qualcos'altro\"]\n",
      "['gatto', '14', \"qualcos'altro\"]\n",
      "['pellicano', '30', \"qualcos'altro\"]\n",
      "['pellicano', '30', \"qualcos'altro\"]\n",
      "['pellicano', '30', \"qualcos'altro\"]\n",
      "['scoiattolo', '6', \"qualcos'altro\"]\n",
      "['scoiattolo', '6', \"qualcos'altro\"]\n",
      "['scoiattolo', '6', \"qualcos'altro\"]\n",
      "['aquila', '25', \"qualcos'altro\"]\n",
      "['aquila', '25', \"qualcos'altro\"]\n",
      "['aquila', '25', \"qualcos'altro\"]\n"
     ]
    }
   ],
   "source": [
    "with open('esempio-1-arricchito.csv', encoding='utf-8', newline='') as csv_da_leggere:    \n",
    "    lettore = csv.reader(csv_da_leggere, delimiter=',')      \n",
    "\n",
    "    for riga in lettore:\n",
    "        print(riga)"
   ]
  },
  {
   "cell_type": "markdown",
   "metadata": {
    "colab_type": "text",
    "id": "WbO-GSrX5bSz"
   },
   "source": [
    "\n",
    "## CSV Impianti funiviari \n",
    "\n",
    "Di solito sui cataloghi open data come il popolare CKAN (es [dati.trentino.it](http://dati.trentino.it/),  [data.gov.uk](https://data.gov.uk/), [European data portal](https://www.europeandataportal.eu/)) i file sono organizzati in _dataset_, che sono collezioni di _risorse_: ogni risorsa contiene direttamente un file dentro al catalogo (tipicamente CSV, JSON o XML) oppure un link al file vero e proprio su un server di proprietà dell'organizzazione che ha creato i dati.\n",
    "\n",
    "\n",
    "Il primo dataset che guarderemo sarà 'Impianti funiviari in esercizio pubblico':\n",
    "\n",
    "http://dati.trentino.it/dataset/impianti-funiviari-in-esercizio-pubblico\n",
    "\n",
    "Qua troverai alcune informazioni generiche sul dataset, di importante nota la licenza che è [Creative Commons Zero v1.0](http://creativecommons.org/publicdomain/zero/1.0/deed.it), praticamente è la licenza più permissiva che si possa trovare, e garantisce la certezza di poter riusare i dati senza alcun vincolo.\n",
    "\n",
    "All'interno della pagina del dataset, è presente una  risorsa chiamata \"Elenco degli impianti bifuni con movimento a va e vieni\":\n",
    "\n",
    "http://dati.trentino.it/dataset/impianti-funiviari-in-esercizio-pubblico/resource/ceb488a9-696c-4b9d-b8c8-6ca727863931\n",
    "\n",
    "Alla pagina della risorsa, troviamo un link ad un file CSV (ci si arriva anche cliccando sul bottone blu 'Vai alla risorsa'): \n",
    "\n",
    "http://www.sif.provincia.tn.it/binary/pat_sif/opendata/Elenco_degli_impianti_bifuni_con_movimento_a_va_e_vieni_aggiornato_a_marzo_2015.1435662007.csv\n",
    "\n",
    "\n",
    "Se apro il CSV in una tab di Firefox, sul mio computer che ha sistema operativo Linux, vedo una cosa del genere:\n",
    "```\n",
    "Denominazione impianto,Codice S.I.F.,Comune,Esercente,Data Primo collaudo,Data Ultimo Collaudo,Lunghezza Inclinata (m),Dislivello (m),Stazione di Valle (m.s.l.m.),CapacitÃ  Veicolo (pers.),Portata Max (Pers/h),Opere Paravalanghe ,Servizio\n",
    "Trento - Sardagna,B007e,Trento,Soc. Trentino Trasporti Esercizio,08-apr-64,18-mar-03,1157,400,200,13,270,#,annuale\n",
    "Mezzocorona - Monte,B008e,Mezzocorona,Soc.Fun. Monte Mezzocorona,22-dic-04,22-dic-04,933,623,267,7,130,si (frane),annuale\n",
    "Alba - Ciampac,B014m,Canazei,Soc.Fun. Ciampac e Contrin,20-mag-75,27-nov-14,1902,658,1496,75,840,#,bistagionale\n",
    "Pecol - Col dei Rossi,B017m,Canazei,S.I.T.C.,09-feb-79,05-dic-97,1313,450,1932,76,1100,si,bistagionale\n",
    "P. S.Pellegrino - Col Margherita,B022m,Moena,Soc.Fun. Col Margherita,11-mar-82,14-dic-01,1395,639,1874,97,1330,#,bistagionale\n",
    "Vigo di Fassa - Ciampedie,B026m,Vigo di Fassa,Soc.Catinaccio Impianti a Fune,24-lug-85,23-giu-05,1523,570,1431,101,1300,#,bistagionale\n",
    "Campitello - Col Rodella ,B027m,Canazei,S.I.T.C.,06-dic-86,07-lug-05,2472,984,1411,126,1160,si,bistagionale\n",
    "Passo Pordoi - Sass Pordoi,B028m,Canazei,S.I.T.C.,23-mag-95,23-mag-95,1487,708,2240,65,820,#,bistagionale\n",
    "Col Verde - Rosetta,B029b,Tonadico,Imprese e Territorio Soc. Cons. s.r.l.,21-lug-04,21-lug-04,1336,674,1935,41,420,si + M.G.,bistagionale\n",
    "Tarlenta - Rifugio Mantova,B030g,Peio,Soc.Fun. Peio,30-dic-10,30-dic-10,2856,992,2001,101,860,si + frane,bistagionale\n",
    "```\n",
    "\n",
    "Come atteso, vediamo dei campi separati da virgole."
   ]
  },
  {
   "cell_type": "markdown",
   "metadata": {},
   "source": [
    "### Problema: caratteri sbagliati ??\n",
    "\n",
    "Si vede subito un problema nella prima riga delle intestazioni, alla colonna `CapacitÃ  Veicolo (pers.)`. Pare che il file abbia la 'à' accentata sbagliata. Ma è davvero un problema del file? Vi dico subito di no. Probabilmente, è il server che non sta dicendo a Firefox quale è il giusto encoding per il file. Firefox non ha capacità di divinazione, e fa solo il suo meglio per mostrare il CSV basandosi sulle informazioni che ha, che possono essere limitate e/o addirittura incorrette. Il mondo non è mai come lo vorremmo... \n",
    "\n",
    "**✪ 2.12 ESERCIZIO**: scarica il CSV, e prova ad aprirlo in Excel, e / o in LibreOffice Calc. Vedi la à accentata corretta? Se no, prova ad impostare l'encoding (per es. in Calc si chiama 'Character set')  a 'Unicode (UTF-8)' \n",
    "\n",
    "<div class=\"alert alert-warning\">\n",
    "           \n",
    "**ATTENZIONE SE USI Excel!**\n",
    "     \n",
    "Facendo direttamente `File->Apri in Excel`, probabilmente Excel cercherà di immaginarsi da solo come intabellare il CSV, e sbaglierà metterà tutto le righe in una colonna. Per ovviare al problema, dobbiamo dire ad Excel di mostrare un pannello per chiederci come vogliamo aprire il CSV, facendo così: \n",
    "\n",
    "* In Excel vecchi, cerca `File-> Importa`\n",
    "* In Excel recenti, clicca la scheda `Dati` e poi seleziona `Da testo`. Per ulteriori riferimenti su Excel, [vedere guida di Salvatore Aranzulla](https://www.aranzulla.it/come-aprire-file-csv-672903.html)\n",
    "\n",
    "</div>\n",
    "\n",
    "\n",
    "- **NOTA**: Casomai il file non fosse disponibile, nella cartella dove c'è questo notebook Jupyter troverai anche lo stesso file rinominato in `impianti-bifuni.csv`\n",
    "\n"
   ]
  },
  {
   "cell_type": "markdown",
   "metadata": {},
   "source": [
    "![Esempio di import in LibreOffice Calc-432](import-impianti-csv.png)\n",
    "\n"
   ]
  },
  {
   "cell_type": "markdown",
   "metadata": {},
   "source": [
    "Poi dovrebbe risultare più o meno una tabella come questa: \n",
    "\n",
    "![Tabella impianti risalita-42393](impianti-csv.png)\n",
    "\n",
    "\n"
   ]
  },
  {
   "cell_type": "markdown",
   "metadata": {},
   "source": [
    "## Importare in Python\n",
    "\n",
    "Adesso che abbiamo capito due cose sull'encoding, proviamo ad importare il file in Python (ho rinominato il file originale nel più corto `impianti-bifuni.csv`): "
   ]
  },
  {
   "cell_type": "code",
   "execution_count": 15,
   "metadata": {
    "colab": {
     "autoexec": {
      "startup": false,
      "wait_interval": 0
     },
     "output_extras": [
      {}
     ]
    },
    "colab_type": "code",
    "id": "trTOcMCo5bSz",
    "outputId": "aaa984e3-d876-40b3-926c-66916241de4d"
   },
   "outputs": [
    {
     "name": "stdout",
     "output_type": "stream",
     "text": [
      "Abbiamo appena letto una riga!\n",
      "['Denominazione impianto', 'Codice S.I.F.', 'Comune', 'Esercente', 'Data Primo collaudo', 'Data Ultimo Collaudo', 'Lunghezza Inclinata (m)', 'Dislivello (m)', 'Stazione di Valle (m.s.l.m.)', 'Capacità Veicolo (pers.)', 'Portata Max (Pers/h)', 'Opere Paravalanghe ', 'Servizio']\n",
      "\n",
      "Abbiamo appena letto una riga!\n",
      "['Trento - Sardagna', 'B007e', 'Trento', 'Soc. Trentino Trasporti Esercizio', '08-apr-64', '18-mar-03', '1157', '400', '200', '13', '270', '#', 'annuale']\n",
      "\n",
      "Abbiamo appena letto una riga!\n",
      "['Mezzocorona - Monte', 'B008e', 'Mezzocorona', 'Soc.Fun. Monte Mezzocorona', '22-dic-04', '22-dic-04', '933', '623', '267', '7', '130', 'si (frane)', 'annuale']\n",
      "\n",
      "Abbiamo appena letto una riga!\n",
      "['Alba - Ciampac', 'B014m', 'Canazei', 'Soc.Fun. Ciampac e Contrin', '20-mag-75', '27-nov-14', '1902', '658', '1496', '75', '840', '#', 'bistagionale']\n",
      "\n",
      "Abbiamo appena letto una riga!\n",
      "['Pecol - Col dei Rossi', 'B017m', 'Canazei', 'S.I.T.C.', '09-feb-79', '05-dic-97', '1313', '450', '1932', '76', '1100', 'si', 'bistagionale']\n",
      "\n",
      "Abbiamo appena letto una riga!\n",
      "['P. S.Pellegrino - Col Margherita', 'B022m', 'Moena', 'Soc.Fun. Col Margherita', '11-mar-82', '14-dic-01', '1395', '639', '1874', '97', '1330', '#', 'bistagionale']\n",
      "\n",
      "Abbiamo appena letto una riga!\n",
      "['Vigo di Fassa - Ciampedie', 'B026m', 'Vigo di Fassa', 'Soc.Catinaccio Impianti a Fune', '24-lug-85', '23-giu-05', '1523', '570', '1431', '101', '1300', '#', 'bistagionale']\n",
      "\n",
      "Abbiamo appena letto una riga!\n",
      "['Campitello - Col Rodella ', 'B027m', 'Canazei', 'S.I.T.C.', '06-dic-86', '07-lug-05', '2472', '984', '1411', '126', '1160', 'si', 'bistagionale']\n",
      "\n",
      "Abbiamo appena letto una riga!\n",
      "['Passo Pordoi - Sass Pordoi', 'B028m', 'Canazei', 'S.I.T.C.', '23-mag-95', '23-mag-95', '1487', '708', '2240', '65', '820', '#', 'bistagionale']\n",
      "\n",
      "Abbiamo appena letto una riga!\n",
      "['Col Verde - Rosetta', 'B029b', 'Tonadico', 'Imprese e Territorio Soc. Cons. s.r.l.', '21-lug-04', '21-lug-04', '1336', '674', '1935', '41', '420', 'si + M.G.', 'bistagionale']\n",
      "\n",
      "Abbiamo appena letto una riga!\n",
      "['Tarlenta - Rifugio Mantova', 'B030g', 'Peio', 'Soc.Fun. Peio', '30-dic-10', '30-dic-10', '2856', '992', '2001', '101', '860', 'si + frane', 'bistagionale']\n",
      "\n"
     ]
    }
   ],
   "source": [
    "import csv\n",
    "with open('impianti-bifuni.csv',  encoding='utf-8', newline='') as f:\n",
    "    \n",
    "    # creiamo un oggetto 'lettore' che pescherà righe dal file\n",
    "    lettore = csv.reader(f, delimiter=',') \n",
    "    \n",
    "    # 'lettore' è un oggetto cosiddetto 'iterabile', cioè se usato in un for produce una \n",
    "    #  sequenza di righe dal csv \n",
    "    #  NOTA: qui ogni riga del file viene convertita in una una lista di stringhe Python!\n",
    "    for riga in lettore:\n",
    "        print('Abbiamo appena letto una riga!')        \n",
    "        print(riga)  # stamperà la variabile 'riga', che è una lista di stringhe\n",
    "        print('')    # stampa una stringa vuota, per separare in verticale"
   ]
  },
  {
   "cell_type": "markdown",
   "metadata": {},
   "source": [
    "**✪✪ ESERCIZIO 2.13** Vediamo che nel dataset alla terza colonna ci sono i comuni dove ci sono gli impianti. Prova a estrarli in una variabile `comuni`. \n",
    "\n",
    "- Attenzione alla prima riga, non vogliamo che la scritta `Comune` appaia nel risultato\n",
    "- Se li metti in una lista, avrai un problema, perchè ci sono comuni che appaiono più volte. Ti conviene quindi creare un insieme vuoto con `set([])` e aggiungere elementi con il metodo `add`  (gli insiemi non hanno metodo `append`). Stampando `comuni` dovrebbe apparire qualcosa del genere: \n",
    "\n",
    "`{'Vigo di Fassa', 'Trento', 'Mezzocorona', 'Moena', 'Peio', 'Canazei', 'Tonadico'}`\n",
    "\n",
    "**NOTA**: gli insiemi non hanno ordine, potresti vedere un insieme ordinato diversamente !"
   ]
  },
  {
   "cell_type": "raw",
   "id": "e349e7b7",
   "metadata": {
    "format": "text/html"
   },
   "source": [
    "<a  class=\"jupman-sol jupman-sol-toggler\" \n",
    " onclick=\"jupman.toggleSolution(this);\" \n",
    " data-jupman-show=\"Mostra soluzione\" data-jupman-hide=\"Nascondi\">Mostra soluzione</a><div class=\"jupman-sol jupman-sol-code\" style=\"display:none\">  "
   ]
  },
  {
   "cell_type": "code",
   "execution_count": 16,
   "metadata": {},
   "outputs": [
    {
     "name": "stdout",
     "output_type": "stream",
     "text": [
      "{'Mezzocorona', 'Tonadico', 'Peio', 'Canazei', 'Vigo di Fassa', 'Trento', 'Moena'}\n"
     ]
    }
   ],
   "source": [
    "\n",
    "import csv\n",
    "with open('impianti-bifuni.csv',  encoding='utf-8', newline='') as f:\n",
    "    \n",
    "    lettore = csv.reader(f, delimiter=',') \n",
    "    \n",
    "    # scrivi qui \n",
    "    \n",
    "    next(lettore)\n",
    "    comuni = set([])\n",
    "    for riga in lettore:\n",
    "        comuni.add(riga[2])\n",
    "    print(comuni)    "
   ]
  },
  {
   "cell_type": "raw",
   "id": "25412412",
   "metadata": {
    "format": "text/html"
   },
   "source": [
    "</div>"
   ]
  },
  {
   "cell_type": "code",
   "execution_count": 16,
   "metadata": {},
   "outputs": [
    {
     "name": "stdout",
     "output_type": "stream",
     "text": [
      "{'Mezzocorona', 'Tonadico', 'Peio', 'Canazei', 'Vigo di Fassa', 'Trento', 'Moena'}\n"
     ]
    }
   ],
   "source": [
    "\n",
    "import csv\n",
    "with open('impianti-bifuni.csv',  encoding='utf-8', newline='') as f:\n",
    "    \n",
    "    lettore = csv.reader(f, delimiter=',') \n",
    "    \n",
    "    # scrivi qui \n",
    "\n"
   ]
  },
  {
   "cell_type": "markdown",
   "metadata": {},
   "source": [
    "**✪✪ ESERCIZIO 2.14**: prova a conteggiare in un dizionario quanti tipi di servizio vengono trovati. Dovresti ottenere un risultato così:\n",
    "\n",
    "```python\n",
    "{\n",
    " 'bistagionale': 8,\n",
    " 'annuale': 2\n",
    "}\n",
    "```\n",
    "**SUGGERIMENTO**:  `'Servizio'` è all'ultima posizione, per ottenerla dalla riga puoi usare l'indice `-1`\n",
    "\n"
   ]
  },
  {
   "cell_type": "raw",
   "id": "7443ff3b",
   "metadata": {
    "format": "text/html"
   },
   "source": [
    "<a  class=\"jupman-sol jupman-sol-toggler\" \n",
    " onclick=\"jupman.toggleSolution(this);\" \n",
    " data-jupman-show=\"Mostra soluzione\" data-jupman-hide=\"Nascondi\">Mostra soluzione</a><div class=\"jupman-sol jupman-sol-code\" style=\"display:none\">  "
   ]
  },
  {
   "cell_type": "code",
   "execution_count": 17,
   "metadata": {},
   "outputs": [
    {
     "name": "stdout",
     "output_type": "stream",
     "text": [
      "{'annuale': 2, 'bistagionale': 8}\n"
     ]
    }
   ],
   "source": [
    "\n",
    "import csv\n",
    "with open('impianti-bifuni.csv',  encoding='utf-8', newline='') as f:\n",
    "    \n",
    "    lettore = csv.reader(f, delimiter=',') \n",
    "    \n",
    "    # scrivi qui \n",
    "    \n",
    "    next(lettore)\n",
    "    servizi = {}\n",
    "    for riga in lettore:        \n",
    "        if riga[-1] in servizi:\n",
    "            servizi[riga[-1]] += 1\n",
    "        else:\n",
    "            servizi[riga[-1]] = 1 \n",
    "    print(servizi)    \n"
   ]
  },
  {
   "cell_type": "raw",
   "id": "feee21c4",
   "metadata": {
    "format": "text/html"
   },
   "source": [
    "</div>"
   ]
  },
  {
   "cell_type": "code",
   "execution_count": 17,
   "metadata": {},
   "outputs": [
    {
     "name": "stdout",
     "output_type": "stream",
     "text": [
      "{'annuale': 2, 'bistagionale': 8}\n"
     ]
    }
   ],
   "source": [
    "\n",
    "import csv\n",
    "with open('impianti-bifuni.csv',  encoding='utf-8', newline='') as f:\n",
    "    \n",
    "    lettore = csv.reader(f, delimiter=',') \n",
    "    \n",
    "    # scrivi qui \n",
    "\n"
   ]
  },
  {
   "cell_type": "markdown",
   "metadata": {
    "colab_type": "text",
    "id": "c1sPPEVb5bTC"
   },
   "source": [
    "## Il mistero delle opere paravalanghe \n",
    "\n",
    "Se guardiamo nella colonna 'Opere paravalanghe', notiamo che i valori possibili sono:\n",
    "\n",
    "* `#`\n",
    "* `si`\n",
    "* `si (frane)`\n",
    "* `si + frane`\n",
    "* `si + M.G`\n",
    "\n",
    "Sono sempre valori testuali, ma pare esserci una qualche regolarità. Visto che il nostro scopo è convertire in oggetti Python i file in ingresso, forse si potrebbero compiere alcune operazioni per semplificare e adattare al meglio questi dati? "
   ]
  },
  {
   "cell_type": "markdown",
   "metadata": {
    "colab_type": "text",
    "id": "-ricps5V5bTF"
   },
   "source": [
    "**✪✪ 2.15 ESERCIZIO**: `si + frane` è la stessa cosa di `si (frane)` ? Assumendo cha sia vero, prova a stampare righe modificate in cui per uniformare gli elementi uguali a `si (frane)` settandoli  a `si + frane`. Sia che conosci o non conosci Python, avendo guardato la soluzione della domanda precedente dovresti essere in grado di farlo (ricorda che per modificare un elemento di una lista all'indice `N` si scrive `lista[N] = NUOVO_VALORE` ) \n",
    "\n",
    "Scrivi qua sotto la soluzione"
   ]
  },
  {
   "cell_type": "raw",
   "id": "e07a42a9",
   "metadata": {
    "format": "text/html"
   },
   "source": [
    "<a  class=\"jupman-sol jupman-sol-toggler\" \n",
    " onclick=\"jupman.toggleSolution(this);\" \n",
    " data-jupman-show=\"Mostra soluzione\" data-jupman-hide=\"Nascondi\">Mostra soluzione</a><div class=\"jupman-sol jupman-sol-code\" style=\"display:none\">  "
   ]
  },
  {
   "cell_type": "code",
   "execution_count": 18,
   "metadata": {
    "colab": {
     "autoexec": {
      "startup": false,
      "wait_interval": 0
     }
    },
    "colab_type": "code",
    "id": "Oeyvm4QG5bTG"
   },
   "outputs": [
    {
     "name": "stdout",
     "output_type": "stream",
     "text": [
      "['Tarlenta - Rifugio Mantova', 'B030g', 'Peio', 'Soc.Fun. Peio', '30-dic-10', '30-dic-10', '2856', '992', '2001', '101', '860', 'si + frane', 'bistagionale']\n",
      "['Tarlenta - Rifugio Mantova', 'B030g', 'Peio', 'Soc.Fun. Peio', '30-dic-10', '30-dic-10', '2856', '992', '2001', '101', '860', 'si + frane', 'bistagionale']\n",
      "['Tarlenta - Rifugio Mantova', 'B030g', 'Peio', 'Soc.Fun. Peio', '30-dic-10', '30-dic-10', '2856', '992', '2001', '101', '860', 'si + frane', 'bistagionale']\n",
      "['Tarlenta - Rifugio Mantova', 'B030g', 'Peio', 'Soc.Fun. Peio', '30-dic-10', '30-dic-10', '2856', '992', '2001', '101', '860', 'si + frane', 'bistagionale']\n",
      "['Tarlenta - Rifugio Mantova', 'B030g', 'Peio', 'Soc.Fun. Peio', '30-dic-10', '30-dic-10', '2856', '992', '2001', '101', '860', 'si + frane', 'bistagionale']\n",
      "['Tarlenta - Rifugio Mantova', 'B030g', 'Peio', 'Soc.Fun. Peio', '30-dic-10', '30-dic-10', '2856', '992', '2001', '101', '860', 'si + frane', 'bistagionale']\n",
      "['Tarlenta - Rifugio Mantova', 'B030g', 'Peio', 'Soc.Fun. Peio', '30-dic-10', '30-dic-10', '2856', '992', '2001', '101', '860', 'si + frane', 'bistagionale']\n",
      "['Tarlenta - Rifugio Mantova', 'B030g', 'Peio', 'Soc.Fun. Peio', '30-dic-10', '30-dic-10', '2856', '992', '2001', '101', '860', 'si + frane', 'bistagionale']\n",
      "['Tarlenta - Rifugio Mantova', 'B030g', 'Peio', 'Soc.Fun. Peio', '30-dic-10', '30-dic-10', '2856', '992', '2001', '101', '860', 'si + frane', 'bistagionale']\n",
      "['Tarlenta - Rifugio Mantova', 'B030g', 'Peio', 'Soc.Fun. Peio', '30-dic-10', '30-dic-10', '2856', '992', '2001', '101', '860', 'si + frane', 'bistagionale']\n"
     ]
    }
   ],
   "source": [
    "# scrivi qui \n",
    "\n",
    "import csv \n",
    "    \n",
    "with open('impianti-bifuni.csv', encoding='utf-8', newline='') as f:\n",
    "    lettore = csv.reader(f, delimiter=',')\n",
    "    next(lettore, None) # saltiamo la riga con l'intestazione\n",
    "    for row in lettore:\n",
    "        if 'si (frane)' in riga[11]: # ricordati che l'indice delle colonne inizia da 0 \n",
    "            riga[11] = 'si + frane'\n",
    "        print(riga)"
   ]
  },
  {
   "cell_type": "raw",
   "id": "c6e2adb4",
   "metadata": {
    "format": "text/html"
   },
   "source": [
    "</div>"
   ]
  },
  {
   "cell_type": "code",
   "execution_count": 18,
   "metadata": {
    "colab": {
     "autoexec": {
      "startup": false,
      "wait_interval": 0
     }
    },
    "colab_type": "code",
    "id": "Oeyvm4QG5bTG"
   },
   "outputs": [
    {
     "name": "stdout",
     "output_type": "stream",
     "text": [
      "['Tarlenta - Rifugio Mantova', 'B030g', 'Peio', 'Soc.Fun. Peio', '30-dic-10', '30-dic-10', '2856', '992', '2001', '101', '860', 'si + frane', 'bistagionale']\n",
      "['Tarlenta - Rifugio Mantova', 'B030g', 'Peio', 'Soc.Fun. Peio', '30-dic-10', '30-dic-10', '2856', '992', '2001', '101', '860', 'si + frane', 'bistagionale']\n",
      "['Tarlenta - Rifugio Mantova', 'B030g', 'Peio', 'Soc.Fun. Peio', '30-dic-10', '30-dic-10', '2856', '992', '2001', '101', '860', 'si + frane', 'bistagionale']\n",
      "['Tarlenta - Rifugio Mantova', 'B030g', 'Peio', 'Soc.Fun. Peio', '30-dic-10', '30-dic-10', '2856', '992', '2001', '101', '860', 'si + frane', 'bistagionale']\n",
      "['Tarlenta - Rifugio Mantova', 'B030g', 'Peio', 'Soc.Fun. Peio', '30-dic-10', '30-dic-10', '2856', '992', '2001', '101', '860', 'si + frane', 'bistagionale']\n",
      "['Tarlenta - Rifugio Mantova', 'B030g', 'Peio', 'Soc.Fun. Peio', '30-dic-10', '30-dic-10', '2856', '992', '2001', '101', '860', 'si + frane', 'bistagionale']\n",
      "['Tarlenta - Rifugio Mantova', 'B030g', 'Peio', 'Soc.Fun. Peio', '30-dic-10', '30-dic-10', '2856', '992', '2001', '101', '860', 'si + frane', 'bistagionale']\n",
      "['Tarlenta - Rifugio Mantova', 'B030g', 'Peio', 'Soc.Fun. Peio', '30-dic-10', '30-dic-10', '2856', '992', '2001', '101', '860', 'si + frane', 'bistagionale']\n",
      "['Tarlenta - Rifugio Mantova', 'B030g', 'Peio', 'Soc.Fun. Peio', '30-dic-10', '30-dic-10', '2856', '992', '2001', '101', '860', 'si + frane', 'bistagionale']\n",
      "['Tarlenta - Rifugio Mantova', 'B030g', 'Peio', 'Soc.Fun. Peio', '30-dic-10', '30-dic-10', '2856', '992', '2001', '101', '860', 'si + frane', 'bistagionale']\n"
     ]
    }
   ],
   "source": [
    "# scrivi qui \n",
    "\n"
   ]
  },
  {
   "cell_type": "markdown",
   "metadata": {
    "colab_type": "text",
    "id": "HwfCELLF5bTI"
   },
   "source": [
    "\n",
    "**✪ 2.16 DOMANDA**:  Quel `'M.G'` non chiarissimo, come neanche se ci sia qualche differenza tra `frane` e `valanghe`. Capire il significato di cosa manipoliamo è importante, forse potresti scoprire il significato nella [pagina del dataset](http://dati.trentino.it/dataset/impianti-funiviari-in-esercizio-pubblico) ? "
   ]
  },
  {
   "cell_type": "raw",
   "id": "ee1a04b7",
   "metadata": {
    "format": "text/html"
   },
   "source": [
    "<a  class=\"jupman-sol jupman-sol-toggler\" \n",
    " onclick=\"jupman.toggleSolution(this);\" \n",
    " data-jupman-show=\"Mostra risposta\" data-jupman-hide=\"Nascondi\">Mostra risposta</a><div class=\"jupman-sol jupman-sol-question\" style=\"display:none\">  "
   ]
  },
  {
   "cell_type": "markdown",
   "metadata": {},
   "source": [
    "**RISPOSTA**: \n",
    "\n",
    "Nella sezione _Descrizione Campi_ nella [pagina del dataset](http://dati.trentino.it/dataset/impianti-funiviari-in-esercizio-pubblico) vediamo scritto:\n",
    "\n",
    "```\n",
    "Opere paravalanghe = Presenza di opere paravalanghe o misure gestionali\n",
    "\n",
    "    Mis. Ges. / M.G. = Misure gestionali (piano P.I.S.T.E. o piano P.I.D.A.V.)\n",
    "    CLV = Commissione locale valanghe\n",
    "    Si = Presenza di opere paravalanghe\n",
    "```\n",
    "\n",
    "Scopriamo quindi che M.G. vuol dire 'Misure Gestionali', purtroppo non ci dicono nulla sulle frane. Questo non è un caso eccezionale, spesso accade che le descrizioni dei dati siano incomplete a si è costretti ad operare in regime di incertezza.\n"
   ]
  },
  {
   "cell_type": "raw",
   "id": "491f7f5b",
   "metadata": {
    "format": "text/html"
   },
   "source": [
    "</div>"
   ]
  },
  {
   "cell_type": "markdown",
   "metadata": {
    "colab_type": "text",
    "id": "PE_-xVDt5bTJ"
   },
   "source": [
    "**✪ 2.17 ESERCIZIO**: Cosa significa quel cancelletto `#` ? Conosci un oggetto di Python che potrebbe rappresentarlo ? Riesci a sostituire tutti i cancelletti con quell'oggetto prima di stampare le liste?"
   ]
  },
  {
   "cell_type": "raw",
   "id": "7141efc8",
   "metadata": {
    "format": "text/html"
   },
   "source": [
    "<a  class=\"jupman-sol jupman-sol-toggler\" \n",
    " onclick=\"jupman.toggleSolution(this);\" \n",
    " data-jupman-show=\"Mostra soluzione\" data-jupman-hide=\"Nascondi\">Mostra soluzione</a><div class=\"jupman-sol jupman-sol-code\" style=\"display:none\">  "
   ]
  },
  {
   "cell_type": "code",
   "execution_count": 19,
   "metadata": {
    "colab": {
     "autoexec": {
      "startup": false,
      "wait_interval": 0
     }
    },
    "colab_type": "code",
    "id": "RvFLloTf5bTJ"
   },
   "outputs": [
    {
     "name": "stdout",
     "output_type": "stream",
     "text": [
      "['Trento - Sardagna', 'B007e', 'Trento', 'Soc. Trentino Trasporti Esercizio', '08-apr-64', '18-mar-03', '1157', '400', '200', '13', '270', None, 'annuale']\n",
      "['Mezzocorona - Monte', 'B008e', 'Mezzocorona', 'Soc.Fun. Monte Mezzocorona', '22-dic-04', '22-dic-04', '933', '623', '267', '7', '130', 'si (frane)', 'annuale']\n",
      "['Alba - Ciampac', 'B014m', 'Canazei', 'Soc.Fun. Ciampac e Contrin', '20-mag-75', '27-nov-14', '1902', '658', '1496', '75', '840', None, 'bistagionale']\n",
      "['Pecol - Col dei Rossi', 'B017m', 'Canazei', 'S.I.T.C.', '09-feb-79', '05-dic-97', '1313', '450', '1932', '76', '1100', 'si', 'bistagionale']\n",
      "['P. S.Pellegrino - Col Margherita', 'B022m', 'Moena', 'Soc.Fun. Col Margherita', '11-mar-82', '14-dic-01', '1395', '639', '1874', '97', '1330', None, 'bistagionale']\n",
      "['Vigo di Fassa - Ciampedie', 'B026m', 'Vigo di Fassa', 'Soc.Catinaccio Impianti a Fune', '24-lug-85', '23-giu-05', '1523', '570', '1431', '101', '1300', None, 'bistagionale']\n",
      "['Campitello - Col Rodella ', 'B027m', 'Canazei', 'S.I.T.C.', '06-dic-86', '07-lug-05', '2472', '984', '1411', '126', '1160', 'si', 'bistagionale']\n",
      "['Passo Pordoi - Sass Pordoi', 'B028m', 'Canazei', 'S.I.T.C.', '23-mag-95', '23-mag-95', '1487', '708', '2240', '65', '820', None, 'bistagionale']\n",
      "['Col Verde - Rosetta', 'B029b', 'Tonadico', 'Imprese e Territorio Soc. Cons. s.r.l.', '21-lug-04', '21-lug-04', '1336', '674', '1935', '41', '420', 'si + M.G.', 'bistagionale']\n",
      "['Tarlenta - Rifugio Mantova', 'B030g', 'Peio', 'Soc.Fun. Peio', '30-dic-10', '30-dic-10', '2856', '992', '2001', '101', '860', 'si + frane', 'bistagionale']\n"
     ]
    }
   ],
   "source": [
    "# scrivi qui\n",
    "\n",
    "import csv\n",
    "\n",
    "with open('impianti-bifuni.csv', encoding='utf-8', newline='') as f:\n",
    "    lettore = csv.reader(f, delimiter=',')\n",
    "    next(lettore, None) # saltiamo la riga con l'intestazione\n",
    "    for riga in lettore:\n",
    "        if '#' in riga[11]: # ricordati che l'indice delle colonne inizia da 0 \n",
    "            riga[11] = None\n",
    "        print(riga)"
   ]
  },
  {
   "cell_type": "raw",
   "id": "32c6d9cb",
   "metadata": {
    "format": "text/html"
   },
   "source": [
    "</div>"
   ]
  },
  {
   "cell_type": "code",
   "execution_count": 19,
   "metadata": {
    "colab": {
     "autoexec": {
      "startup": false,
      "wait_interval": 0
     }
    },
    "colab_type": "code",
    "id": "RvFLloTf5bTJ"
   },
   "outputs": [
    {
     "name": "stdout",
     "output_type": "stream",
     "text": [
      "['Trento - Sardagna', 'B007e', 'Trento', 'Soc. Trentino Trasporti Esercizio', '08-apr-64', '18-mar-03', '1157', '400', '200', '13', '270', None, 'annuale']\n",
      "['Mezzocorona - Monte', 'B008e', 'Mezzocorona', 'Soc.Fun. Monte Mezzocorona', '22-dic-04', '22-dic-04', '933', '623', '267', '7', '130', 'si (frane)', 'annuale']\n",
      "['Alba - Ciampac', 'B014m', 'Canazei', 'Soc.Fun. Ciampac e Contrin', '20-mag-75', '27-nov-14', '1902', '658', '1496', '75', '840', None, 'bistagionale']\n",
      "['Pecol - Col dei Rossi', 'B017m', 'Canazei', 'S.I.T.C.', '09-feb-79', '05-dic-97', '1313', '450', '1932', '76', '1100', 'si', 'bistagionale']\n",
      "['P. S.Pellegrino - Col Margherita', 'B022m', 'Moena', 'Soc.Fun. Col Margherita', '11-mar-82', '14-dic-01', '1395', '639', '1874', '97', '1330', None, 'bistagionale']\n",
      "['Vigo di Fassa - Ciampedie', 'B026m', 'Vigo di Fassa', 'Soc.Catinaccio Impianti a Fune', '24-lug-85', '23-giu-05', '1523', '570', '1431', '101', '1300', None, 'bistagionale']\n",
      "['Campitello - Col Rodella ', 'B027m', 'Canazei', 'S.I.T.C.', '06-dic-86', '07-lug-05', '2472', '984', '1411', '126', '1160', 'si', 'bistagionale']\n",
      "['Passo Pordoi - Sass Pordoi', 'B028m', 'Canazei', 'S.I.T.C.', '23-mag-95', '23-mag-95', '1487', '708', '2240', '65', '820', None, 'bistagionale']\n",
      "['Col Verde - Rosetta', 'B029b', 'Tonadico', 'Imprese e Territorio Soc. Cons. s.r.l.', '21-lug-04', '21-lug-04', '1336', '674', '1935', '41', '420', 'si + M.G.', 'bistagionale']\n",
      "['Tarlenta - Rifugio Mantova', 'B030g', 'Peio', 'Soc.Fun. Peio', '30-dic-10', '30-dic-10', '2856', '992', '2001', '101', '860', 'si + frane', 'bistagionale']\n"
     ]
    }
   ],
   "source": [
    "# scrivi qui\n",
    "\n"
   ]
  },
  {
   "cell_type": "markdown",
   "metadata": {},
   "source": [
    "✪✪ **2.18 ESERCIZIO**: prova a salvare i dati sistemati (quindi con entrambe le traasformazioni `si (frane) -> si + frane` e `# -> None` nel NUOVO file `impianti-bifuni-sistemato.csv`\n",
    "\n",
    "- se nella cartella trovi già un file chiamato `impianti-bifuni-sistemato.csv`, ricordati di cancellarlo manualmente prima di iniziare l'esercizio\n",
    "- il valore `None` come verrà scritto ? Controlla nel file generato dal tuo codice."
   ]
  },
  {
   "cell_type": "raw",
   "id": "0f5990ce",
   "metadata": {
    "format": "text/html"
   },
   "source": [
    "<a  class=\"jupman-sol jupman-sol-toggler\" \n",
    " onclick=\"jupman.toggleSolution(this);\" \n",
    " data-jupman-show=\"Mostra soluzione\" data-jupman-hide=\"Nascondi\">Mostra soluzione</a><div class=\"jupman-sol jupman-sol-code\" style=\"display:none\">  "
   ]
  },
  {
   "cell_type": "code",
   "execution_count": 20,
   "metadata": {},
   "outputs": [
    {
     "name": "stdout",
     "output_type": "stream",
     "text": [
      "\n",
      "Completata scrittura di:  impianti-bifuni-sistemato.csv\n"
     ]
    }
   ],
   "source": [
    "# scrivi qui\n",
    "\n",
    "import csv\n",
    "\n",
    "# Per scrivere, RICORDATI di specificare l'opzione 'w'\n",
    "# ATTENZIONE: 'w' rimpiazza *completamente* eventuali file  esistenti!\n",
    "# ATTENZIONE: l'handle *esterno* l'abbiamo chiamato  csv_da_scrivere\n",
    "with open('impianti-bifuni-sistemato.csv', 'w', encoding='utf-8', newline='') as csv_da_scrivere:\n",
    "    \n",
    "    scrittore = csv.writer(csv_da_scrivere, delimiter=',')\n",
    "    \n",
    "    # Nota come questo 'with' sia dentro quello esterno    \n",
    "    # ATTENZIONE: l'handle *interno* l'abbiamo chiamato csv_da_leggere        \n",
    "    with open('impianti-bifuni.csv', encoding='utf-8', newline='') as csv_da_leggere:\n",
    "        lettore = csv.reader(csv_da_leggere, delimiter=',')\n",
    "        next(lettore, None) # saltiamo la riga con l'intestazione\n",
    "        for riga in lettore:\n",
    "            if 'si (frane)' in row[11]: # ricordati che l'indice delle colonne inizia da 0 \n",
    "                row[11] = 'si + frane'\n",
    "            elif '#' in riga[11]: # ricordati che l'indice delle colonne inizia da 0 \n",
    "                riga[11] = None            \n",
    "            scrittore.writerow(riga)            \n",
    "print()            \n",
    "print('Completata scrittura di:  impianti-bifuni-sistemato.csv')"
   ]
  },
  {
   "cell_type": "raw",
   "id": "f35fa60e",
   "metadata": {
    "format": "text/html"
   },
   "source": [
    "</div>"
   ]
  },
  {
   "cell_type": "code",
   "execution_count": 20,
   "metadata": {},
   "outputs": [
    {
     "name": "stdout",
     "output_type": "stream",
     "text": [
      "\n",
      "Completata scrittura di:  impianti-bifuni-sistemato.csv\n"
     ]
    }
   ],
   "source": [
    "# scrivi qui\n",
    "\n"
   ]
  },
  {
   "cell_type": "markdown",
   "metadata": {},
   "source": [
    "## Prosegui\n",
    "\n",
    "Continua  con i [file JSON](https://it.softpython.org/formats/formats3-json-sol.html)"
   ]
  }
 ],
 "metadata": {
  "celltoolbar": "Edit Metadata",
  "colab": {
   "collapsed_sections": [],
   "default_view": {},
   "name": "data-formats-exercises.ipynb",
   "provenance": [],
   "version": "0.3.2",
   "views": {}
  },
  "kernelspec": {
   "display_name": "Python 3",
   "language": "python",
   "name": "python3"
  },
  "language_info": {
   "codemirror_mode": {
    "name": "ipython",
    "version": 3
   },
   "file_extension": ".py",
   "mimetype": "text/x-python",
   "name": "python",
   "nbconvert_exporter": "python",
   "pygments_lexer": "ipython3",
   "version": "3.7.10"
  },
  "toc": {
   "base_numbering": 1,
   "nav_menu": {},
   "number_sections": false,
   "sideBar": true,
   "skip_h1_title": false,
   "title_cell": "Table of Contents",
   "title_sidebar": "Contents",
   "toc_cell": false,
   "toc_position": {},
   "toc_section_display": true,
   "toc_window_display": true
  }
 },
 "nbformat": 4,
 "nbformat_minor": 1
}

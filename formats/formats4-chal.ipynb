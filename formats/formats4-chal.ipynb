{
 "cells": [
  {
   "attachments": {},
   "cell_type": "markdown",
   "id": "logical-japanese",
   "metadata": {},
   "source": [
    "# Formati dati 4 Challenge\n",
    "\n",
    "## [Scarica zip esercizi](../_static/generated/formats.zip)\n",
    "\n",
    "[Naviga file online](https://github.com/DavidLeoni/softpython-it/tree/master/formats)\n"
   ]
  },
  {
   "attachments": {},
   "cell_type": "markdown",
   "id": "806c9f33",
   "metadata": {},
   "source": [
    "## 1. Cure termali\n",
    "\n",
    "✪✪ Un centro benessere accoglie clienti che possono decidere di usufruire tra uno o più servizi. Il centro segna queste informazioni in un file [centro-benessere1.csv](centro-benessere1.csv) mettendo `1` se il servizio viene erogato, altrimenti `0`: "
   ]
  },
  {
   "cell_type": "code",
   "execution_count": 1,
   "id": "659b79c4-stripped",
   "metadata": {},
   "outputs": [
    {
     "data": {
      "image/png": "[encoded data removed]",
      "text/plain": [
       "<Figure size 1152x144 with 1 Axes>"
      ]
     },
     "metadata": {
      "needs_background": "light"
     },
     "output_type": "display_data"
    }
   ],
   "source": []
  },
  {
   "attachments": {},
   "cell_type": "markdown",
   "id": "b1bc55dd",
   "metadata": {},
   "source": [
    "Ogni servizio ha lo stesso `costo_unitario=100` euro, e il centro vuole conoscere la spesa totale per ciascun cliente.\n",
    "\n",
    "Scrivi una funzione `terme` che dato il nome di un file, lo legge e RITORNA un dizionario che associa a ciascuna persona il conto da saldare.\n",
    "\n",
    "* **USA** il `csv.reader`, con encoding `utf-8`\n",
    "* **NON** scrivere la costante `100` nel codice"
   ]
  },
  {
   "attachments": {},
   "cell_type": "markdown",
   "id": "1aa0321d",
   "metadata": {},
   "source": [
    "**Esempio**:\n",
    "\n",
    "```python\n",
    ">>> terme('centro-benessere.csv')\n",
    "\n",
    "{'Marco':    400,\n",
    " 'Andrea':   300,\n",
    " 'Sara':     600, \n",
    " 'Rosa':     200, \n",
    " 'Cristina': 300, \n",
    " 'Roberto':  100}\n",
    "```    "
   ]
  },
  {
   "cell_type": "code",
   "execution_count": 2,
   "id": "e6d45a46-stripped",
   "metadata": {},
   "outputs": [
    {
     "name": "stdout",
     "output_type": "stream",
     "text": [
      "{'Marco': 400, 'Andrea': 300, 'Sara': 600, 'Rosa': 200, 'Cristina': 300, 'Roberto': 100}\n"
     ]
    }
   ],
   "source": [
    "import csv\n",
    "\n",
    "costo_unitario = 100  # euro\n",
    "\n",
    "def terme(nome_file):\n",
    "    pass # IMPLEMENTAMI\n",
    "    \n",
    "    \n",
    "\n",
    "res1 = terme('centro-benessere1.csv')\n",
    "print(res1)\n",
    "assert res1 == { 'Marco':    400,\n",
    "                 'Andrea':   300,\n",
    "                 'Sara':     600,\n",
    "                 'Rosa':     200,\n",
    "                 'Cristina': 300,\n",
    "                 'Roberto':  100}\n",
    "\n",
    "res2 = terme('centro-benessere2.csv')\n",
    "#print(res2)\n",
    "assert res2 == { 'Giulio': 300,\n",
    "                 'Sabina': 100 }"
   ]
  },
  {
   "attachments": {},
   "cell_type": "markdown",
   "id": "fabulous-webmaster",
   "metadata": {},
   "source": [
    "## 2. Personaggi storici del Trentino \n",
    "\n",
    "✪✪✪ Requisiti: Formato file CSV, matrici di liste, dizionari\n",
    "\n",
    "Oggi faremo un salto nella storia analizzando il dataset [personaggi-storici-trentino.csv](personaggi-storici-trentino.csv)\n",
    "\n",
    "Sorgente dati: Provincia Autonoma di Trento, [dati.trentino.it](https://dati.trentino.it/dataset/personaggi-storici-trentini)\n",
    "\n",
    "Dal dataset estrarremo 3 colonne: `Nome`, `Luogo di Nascita` e `Data di nascita`"
   ]
  },
  {
   "attachments": {},
   "cell_type": "markdown",
   "id": "breeding-burner",
   "metadata": {},
   "source": [
    "## 2.1 Il primo parsing\n",
    "\n",
    "a) Leggi una riga alla volta dall'originale come lista, costruisci una NUOVA riga di 3 colonne e sistema gli eventuali problemi riscontrati, facendo infine una STAMPA della riga sistemata:\n",
    "\n",
    "- per leggere, usa l'encoding `'latin-1'`, altrimenti il file potrebbe non aprirsi proprio o potresti vedere strani caratteri invece delle accentate (verifica sia in Python, che aprendo in LibreOffice/Excel)\n",
    "\n",
    "b) Converti 'sconosciuto' nella stringa vuota\n",
    "\n",
    "<div class=\"alert alert-warning\">\n",
    "    \n",
    "**ATTENZIONE alle stringhe** `'sconosciuto '` **con uno spazio alla fine !!!**\n",
    "</div>\n",
    "\n",
    "      \n",
    "c) Converti le sigle di città in nomi estesi. A tal fine, usa il dizionario `province` definito più sotto\n",
    "    \n",
    "d) Se un nome o sigla di città NON è tra parentesi, metti il risultato tra parentesi, togliendo la virgola \n",
    "\n",
    "ESEMPI conversione luogo di nascita:"
   ]
  },
  {
   "attachments": {},
   "cell_type": "markdown",
   "id": "copyrighted-marketing",
   "metadata": {},
   "source": [
    "<div class=\"alert alert-warning\">\n",
    " \n",
    "**SCRIVI DEL CODICE GENERICO !**\n",
    "    \n",
    "**NON** METTERE QUESTI VALORI PARTICOLARI IN UN DIZIONARIO !\n",
    "\n",
    "</div>    "
   ]
  },
  {
   "attachments": {},
   "cell_type": "markdown",
   "id": "76a549d5",
   "metadata": {},
   "source": [
    "\n",
    "```\n",
    "sconosciuto        -> ''\n",
    "Affori, MI         -> Affori (Milano)\n",
    "Barcellona, ME     -> Barcellona (Messina)\n",
    "Castel Noarna (TN) -> Castel Noarna (Trento)\n",
    "Mocenigo di Rumo (Valle di Non - TN) -> Mocenigo di Rumo (Valle di Non - Trento)\n",
    "Montecosaro,MC     -> Montecosaro (Macerata)\n",
    "Pieve Tesino (TN)  -> Pieve Tesino (Trento)\n",
    "Pomarolo (TN)      -> Pomarolo (Trento)\n",
    "Sacco di Rovereto, Trento -> Sacco di Rovereto (Trento)\n",
    "San Lorenzo Bellizzi, CO  -> San Lorenzo Bellizzi (Como)\n",
    "Sesto San Giovanni, MI    -> Sesto San Giovanni (Milano)\n",
    "Taio (TN)          -> Taio (Trento)\n",
    "Volterra, PI       -> Volterra (Pisa)\n",
    "```"
   ]
  },
  {
   "cell_type": "code",
   "execution_count": 3,
   "id": "musical-trunk",
   "metadata": {},
   "outputs": [],
   "source": [
    "\n",
    "# Servono solo queste, non dovrebbero esserci casi diversi da questi\n",
    "# Al massimo, pensa ad un meccanismo per gestire le eccezioni\n",
    "\n",
    "province = {\n",
    "    'TN': 'Trento',\n",
    "    'PI': 'Pisa',\n",
    "    'MC': 'Macerata',\n",
    "    'CO': 'Como',\n",
    "    'ME': 'Messina',\n",
    "    'MI': 'Milano'\n",
    "}\n",
    "\n",
    "\n",
    "import csv\n",
    "\n",
    "# scrivi dopo qui\n",
    "        "
   ]
  },
  {
   "attachments": {},
   "cell_type": "markdown",
   "id": "partial-recipe",
   "metadata": {},
   "source": [
    "\n",
    "## 2.2 Scrittura output\n",
    "\n",
    "Dopo aver risolto il punto precedente, scrivi un CSV `output-personaggi.csv` contenente le righe come appena sistemate:\n",
    "\n",
    "- l'header del csv di output deve essere tutto minuscolo: \n",
    "  \n",
    "```\n",
    "nome, luogo di nascita, data di nascita\n",
    "```\n",
    "    \n",
    "- invece di `latin-1`, solo per scrivere usa la codifica `'utf-8'`"
   ]
  },
  {
   "attachments": {},
   "cell_type": "markdown",
   "id": "objective-package",
   "metadata": {},
   "source": [
    "## 2.3 Il secolo\n",
    "\n",
    "Prova ad aggiungere una colonna `'secolo'`, che contenga solo il secolo, nel formato a 3 o 4 cifre e sempre con 2 zeri:\n",
    "\n",
    "- Se il tuo codice fallisce su alcune date tirando eccezioni, prova ad usare un `try except` per gestire eventuali problemi\n",
    "\n",
    "- **SUGGERIMENTO**: Per capire se un carattere è una cifra, usa il    metodo  `.isdigit()`:\n",
    "\n",
    "```python\n",
    "'4'.isdigit()    # True\n",
    "'423'.isdigit()  # True\n",
    "'3k2'.isdigit()  # False\n",
    "```\n",
    "\n",
    "Mettiamo qualche esempio di trasformazione:\n",
    "\n",
    "```\n",
    "1672 -> 1600\n",
    "13/05/1702 -> 1700\n",
    "4 febbraio 1875 -> 1800\n",
    "Fine del 300 -> 300\n",
    "Prima meta del 900 -> 900\n",
    "```"
   ]
  },
  {
   "attachments": {},
   "cell_type": "markdown",
   "id": "imperial-arcade",
   "metadata": {},
   "source": [
    "Alcuni casi sono piuttosto particolari, e per semplicità consideriamo solo l'ultima data:\n",
    "\n",
    "```\n",
    "A cavallo fra il 600 e il 700 -> 700\n",
    "```\n",
    "\n",
    "I casi più difficili sono con i numeri romani, ci sono vari modi per risolverlo, per semplicità puoi usare il dizionario `secoli` che ti forniamo noi che mappa per es. i primi venti numeri romani al relativo anno, e poi scansionando le date se trovi una corrispondenza applichi la sostituzione\n",
    "\n",
    "```\n",
    "   IV secolo -> 300\n",
    "   prima meta dell'XI secolo -> 1000\n",
    "   A cavallo tra l'XI e il XII secolo -> 1100\n",
    "```"
   ]
  },
  {
   "cell_type": "code",
   "execution_count": 4,
   "id": "returning-ebony",
   "metadata": {},
   "outputs": [],
   "source": [
    "secoli = {\n",
    "     'I': 0,\n",
    "     'II':100,\n",
    "     'III':200,\n",
    "     'IV':300,\n",
    "     'V':400,\n",
    "     'VI':500,\n",
    "     'VII':600,\n",
    "     'VIII':700,\n",
    "     'IX':800,\n",
    "     'X':900,\n",
    "     'XI':1000,\n",
    "     'XII':1100,\n",
    "     'XIII':1200,\n",
    "     'XIV': 1300,\n",
    "     'XV':1400,\n",
    "     'XVI':1500,\n",
    "     'XVII':1600,\n",
    "     'XVIII':1700,\n",
    "     'XIX':1800,\n",
    "     'XIX':1900,\n",
    "     'XX':2000,\n",
    "}"
   ]
  },
  {
   "attachments": {},
   "cell_type": "markdown",
   "id": "incredible-spanish",
   "metadata": {},
   "source": [
    "## 2.4 Controlla\n",
    "\n",
    "Se hai processato correttamente il dataset, dovresti aver ottenuto un output come questo: [output-atteso-personaggi.csv](https://github.com/DavidLeoni/softpython-it/blob/master/formats/output-atteso-personaggi.csv)"
   ]
  },
  {
   "attachments": {},
   "cell_type": "markdown",
   "id": "induced-opportunity-stripped",
   "metadata": {
    "nbsphinx": "hidden",
    "scrolled": false
   },
   "source": [
    "Per controllare, prova ad aggiungere questo codice in fondo al tuo, se non mostra messaggi d'errore dovresti avere un file corretto"
   ]
  },
  {
   "cell_type": "code",
   "execution_count": null,
   "id": "900c1c20",
   "metadata": {},
   "outputs": [],
   "source": [
    "\n",
    "with open('output-atteso-personaggi.csv', encoding='utf8', newline='') as f_atteso:\n",
    "    with open('output-personaggi.csv', encoding='utf8', newline='') as f_output:\n",
    "\n",
    "        lettore_atteso = csv.reader(f_atteso, delimiter=',')\n",
    "        lettore_output = csv.reader(f_output, delimiter=',')\n",
    "\n",
    "        linee_attese = list(lettore_atteso)\n",
    "        linee_output = list(lettore_output)\n",
    "        \n",
    "        if len(linee_attese) != len(linee_output):\n",
    "            print('ERRORE: dimensioni file diverse!!')\n",
    "            print('   Attese: ', len(linee_attese), 'righe')\n",
    "            print('   Trovate: ', len(linee_output), 'righe')\n",
    "        else:    \n",
    "            for i in range(len(linee_attese)):\n",
    "                if linee_attese[i] != linee_output[i]:\n",
    "                    print(\"ERRORE riga\", i+1)\n",
    "                    print(\"   Atteso:\", linee_attese[i])\n",
    "                    print(\"  Trovato:\", linee_output[i])\n"
   ]
  },
  {
   "cell_type": "code",
   "execution_count": 6,
   "id": "searching-tattoo-stripped",
   "metadata": {
    "nbsphinx": "hidden"
   },
   "outputs": [],
   "source": []
  }
 ],
 "metadata": {
  "kernelspec": {
   "display_name": "Python 3 (ipykernel)",
   "language": "python",
   "name": "python3"
  },
  "language_info": {
   "codemirror_mode": {
    "name": "ipython",
    "version": 3
   },
   "file_extension": ".py",
   "mimetype": "text/x-python",
   "name": "python",
   "nbconvert_exporter": "python",
   "pygments_lexer": "ipython3",
   "version": "3.7.13"
  },
  "toc": {
   "base_numbering": 1,
   "nav_menu": {},
   "number_sections": false,
   "sideBar": true,
   "skip_h1_title": false,
   "title_cell": "Table of Contents",
   "title_sidebar": "Contents",
   "toc_cell": false,
   "toc_position": {},
   "toc_section_display": true,
   "toc_window_display": true
  }
 },
 "nbformat": 4,
 "nbformat_minor": 5
}

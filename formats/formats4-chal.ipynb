{
 "cells": [
  {
   "cell_type": "markdown",
   "id": "logical-japanese",
   "metadata": {},
   "source": [
    "# Formati dati 4 Challenge\n",
    "\n",
    "## [Scarica zip esercizi](../_static/generated/formats.zip)\n",
    "\n",
    "[Naviga file online](https://github.com/DavidLeoni/softpython-it/tree/master/formats)\n"
   ]
  },
  {
   "cell_type": "markdown",
   "id": "fabulous-webmaster",
   "metadata": {},
   "source": [
    "## Personaggi storici del Trentino \n",
    "\n",
    "✪✪✪ Requisiti: Formato file CSV, matrici di liste, dizionari\n",
    "\n",
    "Oggi faremo un salto nella storia analizzando il dataset [personaggi-storici-trentino.csv](personaggi-storici-trentino.csv)\n",
    "\n",
    "Sorgente dati: Provincia Autonoma di Trento, [dati.trentino.it](https://dati.trentino.it/dataset/personaggi-storici-trentini)\n",
    "\n",
    "Dal dataset estrarremo 3 colonne: `Nome`, `Luogo di Nascita` e `Data di nascita`"
   ]
  },
  {
   "cell_type": "markdown",
   "id": "breeding-burner",
   "metadata": {},
   "source": [
    "## 1. Il primo parsing\n",
    "\n",
    "Leggi una riga alla volta dall'originale come lista, costruisci una NUOVA riga di 3 colonne e sistema gli eventuali problemi riscontrati, facendo infine una STAMPA della riga sistemata:\n",
    "\n",
    "- per leggere, usa l'encoding `'latin-1'`, altrimenti il file potrebbe non aprirsi proprio o potresti vedere strani caratteri invece delle accentate (verifica sia in Python, che aprendo in LibreOffice/Excel)\n",
    "\n",
    "1.1 Converti 'sconosciuto' nella stringa vuota\n",
    "\n",
    "<div class=\"alert alert-warning\">\n",
    "    \n",
    "**ATTENZIONE: nel dataset ci sono anche stringhe** `'sconosciuto '` **con uno spazio alla fine !!!**\n",
    "</div>\n",
    "\n",
    "      \n",
    "1.2 Converti le sigle di città in nomi estesi. A tal fine, usa il dizionario `province` definito più sotto\n",
    "    \n",
    "1.3 Se un nome o sigla di città NON è tra parentesi, metti il risultato tra parentesi, togliendo la virgola "
   ]
  },
  {
   "cell_type": "markdown",
   "id": "copyrighted-marketing",
   "metadata": {},
   "source": [
    "<div class=\"alert alert-warning\">\n",
    " \n",
    "**ATTENZIONE: NON METTERE QUESTI VALORI PARTICOLARI IN UN DIZIONARIO !**\n",
    "\n",
    "**SCRIVI DEL CODICE GENERICO !**\n",
    "</div>    \n",
    "\n",
    "ESEMPI conversione luogo di nascita:\n",
    "\n",
    "```\n",
    "sconosciuto        -> ''\n",
    "Affori, MI         -> Affori (Milano)\n",
    "Barcellona, ME     -> Barcellona (Messina)\n",
    "Castel Noarna (TN) -> Castel Noarna (Trento)\n",
    "Mocenigo di Rumo (Valle di Non - TN) -> Mocenigo di Rumo (Valle di Non - Trento)\n",
    "Montecosaro,MC     -> Montecosaro (Macerata)\n",
    "Pieve Tesino (TN)  -> Pieve Tesino (Trento)\n",
    "Pomarolo (TN)      -> Pomarolo (Trento)\n",
    "Sacco di Rovereto, Trento -> Sacco di Rovereto (Trento)\n",
    "San Lorenzo Bellizzi, CO  -> San Lorenzo Bellizzi (Como)\n",
    "Sesto San Giovanni, MI    -> Sesto San Giovanni (Milano)\n",
    "Taio (TN)          -> Taio (Trento)\n",
    "Volterra, PI       -> Volterra (Pisa)\n",
    "```"
   ]
  },
  {
   "cell_type": "code",
   "execution_count": 1,
   "id": "musical-trunk",
   "metadata": {},
   "outputs": [],
   "source": [
    "\n",
    "# Servono solo queste, non dovrebbero esserci casi diversi da questi\n",
    "# Al massimo, pensa ad un meccanismo per gestire le eccezioni\n",
    "\n",
    "province = {\n",
    "    'TN': 'Trento',\n",
    "    'PI': 'Pisa',\n",
    "    'MC': 'Macerata',\n",
    "    'CO': 'Como',\n",
    "    'ME': 'Messina',\n",
    "    'MI': 'Milano'\n",
    "}\n",
    "\n",
    "\n",
    "import csv\n",
    "\n",
    "# scrivi dopo qui\n",
    "        "
   ]
  },
  {
   "cell_type": "markdown",
   "id": "partial-recipe",
   "metadata": {},
   "source": [
    "\n",
    "## 2. Scrittura output\n",
    "\n",
    "Dopo aver risolto il punto precedente, scrivi un CSV `output-personaggi.csv` contenente le righe come appena sistemate:\n",
    "\n",
    "- l'header del csv di output deve essere tutto minuscolo: \n",
    "  \n",
    "```\n",
    "nome, luogo di nascita, data di nascita\n",
    "```\n",
    "    \n",
    "- invece di `latin-1`, solo per scrivere usa la codifica `'utf-8'`"
   ]
  },
  {
   "cell_type": "markdown",
   "id": "objective-package",
   "metadata": {},
   "source": [
    "## 3. Il secolo\n",
    "\n",
    "Prova ad aggiungere una colonna `'secolo'`, che contenga solo il secolo, nel formato a 3 o 4 cifre e sempre con 2 zeri:\n",
    "\n",
    "- Se il tuo codice fallisce su alcune date tirando eccezioni, prova ad usare un `try except` per gestire eventuali problemi\n",
    "\n",
    "- **SUGGERIMENTO**: Per capire se un carattere è una cifra, usa il    metodo  `.isdigit()`:\n",
    "\n",
    "```python\n",
    "'4'.isdigit()    # True\n",
    "'423'.isdigit()  # True\n",
    "'3k2'.isdigit()  # False\n",
    "```\n",
    "\n",
    "Mettiamo qualche esempio di trasformazione:\n",
    "\n",
    "```\n",
    "1672 -> 1600\n",
    "13/05/1702 -> 1700\n",
    "4 febbraio 1875 -> 1800\n",
    "Fine del 300 -> 300\n",
    "Prima meta del 900 -> 900\n",
    "```"
   ]
  },
  {
   "cell_type": "markdown",
   "id": "imperial-arcade",
   "metadata": {},
   "source": [
    "Alcuni casi sono piuttosto particolari, e per semplicità consideriamo solo l'ultima data:\n",
    "\n",
    "```\n",
    "A cavallo fra il 600 e il 700 -> 700\n",
    "```\n",
    "\n",
    "I casi più difficili sono con i numeri romani, ci sono vari modi per risolverlo, per semplicità puoi usare il dizionario `secoli` che ti forniamo noi che mappa per es. i primi venti numeri romani al relativo anno, e poi scansionando le date se trovi una corrispondenza applichi la sostituzione\n",
    "\n",
    "```\n",
    "   IV secolo -> 300\n",
    "   prima meta dell'XI secolo -> 1000\n",
    "   A cavallo tra l'XI e il XII secolo -> 1100\n",
    "```"
   ]
  },
  {
   "cell_type": "code",
   "execution_count": 2,
   "id": "returning-ebony",
   "metadata": {},
   "outputs": [],
   "source": [
    "secoli = {\n",
    "     'I': 0,\n",
    "     'II':100,\n",
    "     'III':200,\n",
    "     'IV':300,\n",
    "     'V':400,\n",
    "     'VI':500,\n",
    "     'VII':600,\n",
    "     'VIII':700,\n",
    "     'IX':800,\n",
    "     'X':900,\n",
    "     'XI':1000,\n",
    "     'XII':1100,\n",
    "     'XIII':1200,\n",
    "     'XIV': 1300,\n",
    "     'XV':1400,\n",
    "     'XVI':1500,\n",
    "     'XVII':1600,\n",
    "     'XVIII':1700,\n",
    "     'XIX':1800,\n",
    "     'XIX':1900,\n",
    "     'XX':2000,\n",
    "}"
   ]
  },
  {
   "cell_type": "markdown",
   "id": "incredible-spanish",
   "metadata": {},
   "source": [
    "## 4. Controlla\n",
    "\n",
    "Se hai processato correttamente il dataset, dovresti aver ottenuto un output come questo: [output-atteso-personaggi.csv](https://github.com/DavidLeoni/softpython-it/blob/master/formats/output-atteso-personaggi.csv)"
   ]
  },
  {
   "cell_type": "code",
   "execution_count": 3,
   "id": "induced-opportunity-stripped",
   "metadata": {
    "nbsphinx": "hidden",
    "scrolled": false
   },
   "outputs": [],
   "source": []
  },
  {
   "cell_type": "code",
   "execution_count": 5,
   "id": "searching-tattoo-stripped",
   "metadata": {
    "nbsphinx": "hidden"
   },
   "outputs": [],
   "source": []
  }
 ],
 "metadata": {
  "kernelspec": {
   "display_name": "Python 3 (ipykernel)",
   "language": "python",
   "name": "python3"
  },
  "language_info": {
   "codemirror_mode": {
    "name": "ipython",
    "version": 3
   },
   "file_extension": ".py",
   "mimetype": "text/x-python",
   "name": "python",
   "nbconvert_exporter": "python",
   "pygments_lexer": "ipython3",
   "version": "3.7.10"
  },
  "toc": {
   "base_numbering": 1,
   "nav_menu": {},
   "number_sections": false,
   "sideBar": true,
   "skip_h1_title": false,
   "title_cell": "Table of Contents",
   "title_sidebar": "Contents",
   "toc_cell": false,
   "toc_position": {},
   "toc_section_display": true,
   "toc_window_display": true
  }
 },
 "nbformat": 4,
 "nbformat_minor": 5
}
